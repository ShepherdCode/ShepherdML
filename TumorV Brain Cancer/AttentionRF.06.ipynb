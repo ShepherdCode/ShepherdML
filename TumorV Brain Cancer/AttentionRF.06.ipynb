{
 "cells": [
  {
   "cell_type": "markdown",
   "metadata": {},
   "source": [
    "# Random Forest\n",
    "Predict CNN attention per nucleus.   \n",
    "Accuracy was low in notebook 03.    \n",
    "Here, don't remove the \"bad cols\".   "
   ]
  },
  {
   "cell_type": "code",
   "execution_count": 1,
   "metadata": {},
   "outputs": [],
   "source": [
    "MAX_DEPTH = 8\n",
    "N_ESTIMATORS = 500\n",
    "CHOOSE_EVERY = 10\n",
    "SAVE_MEM = True"
   ]
  },
  {
   "cell_type": "code",
   "execution_count": 2,
   "metadata": {},
   "outputs": [
    {
     "name": "stdout",
     "output_type": "stream",
     "text": [
      "2022-08-11 17:30:59.057712\n",
      "Python 3.8.10\n",
      "sklearn 1.0.2\n"
     ]
    }
   ],
   "source": [
    "import datetime\n",
    "print(datetime.datetime.now())\n",
    "from platform import python_version\n",
    "print('Python',python_version())\n",
    "import csv\n",
    "import numpy as np\n",
    "import pandas as pd\n",
    "import matplotlib as plt\n",
    "import random\n",
    "import sklearn   # pip install --upgrade scikit-learn\n",
    "print('sklearn',sklearn.__version__)\n",
    "# The model\n",
    "from sklearn.ensemble import RandomForestClassifier"
   ]
  },
  {
   "cell_type": "code",
   "execution_count": 3,
   "metadata": {},
   "outputs": [],
   "source": [
    "# Patch data.\n",
    "# This is the nucleus-level csv file: one row per nucleus from CellProfiler.\n",
    "FILENAME='Process100_Nucleus.csv'\n",
    "# This directory contains one Nucleus.csv file per patient.\n",
    "BASE_PATH='D:\\\\Adjeroh\\\\Glioma\\\\August_Run\\\\CellProfilerPerPatient\\\\'   # Windows\n",
    "BASE_PATH='/home/jrm/Adjeroh/Glioma/August_Run/CellProfilerPerPatient/'  # Alien\n",
    "\n",
    "# Patient data.\n",
    "# Each patch filename indicates patient/case [0:19] and WSI [0:23].\n",
    "# For example: TCGA-06-0129-01Z-00-DX1_5400_5100.png\n",
    "LEN_PATIENT_ID = 19\n",
    "FOLDS_META_FILE = 'D:\\\\Adjeroh\\\\Glioma\\\\August_Run\\\\TrainValidSplits\\\\aug_train_valid_splits.csv'  # Windows\n",
    "FOLDS_META_FILE = '/home/jrm/Adjeroh/Glioma/August_Run/TrainValidSplits/aug_train_valid_splits.csv'  # Alien\n",
    "# Cross validation\n",
    "NUM_FOLDS = 5\n",
    "\n",
    "# These bin thresholds yield nucleus temperature bins of about equal weight.\n",
    "# See AT_PerPatient 01 notebook.\n",
    "BIN_MAX = [-0.99,0.40,0.65,0.75,0.85,1.00]\n",
    "BIN_LABEL = [1,2,3,4,5]"
   ]
  },
  {
   "cell_type": "code",
   "execution_count": 4,
   "metadata": {},
   "outputs": [
    {
     "data": {
      "text/plain": [
       "array([1, 2, 2, 3, 5, 6])"
      ]
     },
     "execution_count": 4,
     "metadata": {},
     "output_type": "execute_result"
    }
   ],
   "source": [
    "# Expect all temperatures to fall into bins 1 thru 5.\n",
    "# Bins 0 and 6 should never happen.\n",
    "every_temp = [0.35,0.50,0.60,0.70,0.90,1.10]\n",
    "binned = np.digitize(every_temp,BIN_MAX,right=True)\n",
    "binned"
   ]
  },
  {
   "cell_type": "markdown",
   "metadata": {},
   "source": [
    "## Data loading functions"
   ]
  },
  {
   "cell_type": "code",
   "execution_count": 5,
   "metadata": {},
   "outputs": [],
   "source": [
    "METADATA = pd.read_csv(FOLDS_META_FILE)"
   ]
  },
  {
   "cell_type": "code",
   "execution_count": 6,
   "metadata": {},
   "outputs": [],
   "source": [
    "def get_patient_attention(fold,is_train,patient):\n",
    "    cls = 'mcls'\n",
    "    filename = f\"Attention_{cls}_fold{fold}.csv\"\n",
    "    filepath = BASE_PATH + patient + '/' + filename\n",
    "    df = pd.read_csv(filepath)\n",
    "    return df"
   ]
  },
  {
   "cell_type": "code",
   "execution_count": 7,
   "metadata": {},
   "outputs": [],
   "source": [
    "def get_metadata_one_fold(fold,is_train):\n",
    "    df = METADATA.loc[METADATA['Fold']==fold]\n",
    "    if is_train:\n",
    "        df = df.loc[df['Split']=='Train']\n",
    "    else:\n",
    "        df = df.loc[df['Split']=='Valid']\n",
    "    patients = df['Case'].tolist()\n",
    "    labels = df['Class'].tolist()\n",
    "    return patients,labels"
   ]
  },
  {
   "cell_type": "code",
   "execution_count": 8,
   "metadata": {},
   "outputs": [],
   "source": [
    "# What happens if we don't drop the \"bad cols\"?\n",
    "def drop_columns(df):\n",
    "    bad_cols = ['ImageNumber','ObjectNumber','Number_Object_Number']\n",
    "    #            'AreaShape_Orientation','Children_Cells_Count']\n",
    "    df = df.drop(columns=bad_cols)\n",
    "    bad_cols = [c for c in df.columns \n",
    "                if c.startswith('Location_') \n",
    "                or c.startswith('AreaShape_BoundingBoxM')\n",
    "                or c.startswith('AreaShape_Center')\n",
    "                or c.startswith('Neighbors_')]\n",
    "    # df = df.drop(columns=bad_cols)\n",
    "    return df"
   ]
  },
  {
   "cell_type": "code",
   "execution_count": 9,
   "metadata": {},
   "outputs": [],
   "source": [
    "def load_one_patient_attention(fold,multiclass,patient):\n",
    "    filepath=BASE_PATH+patient+'/'+FILENAME\n",
    "    X = pd.read_csv(filepath)\n",
    "    cls='bcls'\n",
    "    if multiclass:\n",
    "        cls='mcls'\n",
    "    att_filename = f\"Attention_{cls}_fold{fold}.csv\"\n",
    "    att_path = BASE_PATH+patient+'/'+att_filename\n",
    "    att_df = pd.read_csv(att_path)\n",
    "    thermometer = {}\n",
    "    for ndx,row in att_df.iterrows():\n",
    "        key = (row['ImageNumber'],row['ObjectNumber'])\n",
    "        value = row['AvgTemp']\n",
    "        thermometer[key]=value\n",
    "    every_temp = np.zeros(len(X),dtype=float)\n",
    "    i = 0\n",
    "    for ndx,row in X.iterrows():\n",
    "        key = (row['ImageNumber'],row['ObjectNumber'])\n",
    "        value = thermometer[key]\n",
    "        every_temp[i] = value\n",
    "        i += 1\n",
    "    binned = np.digitize(every_temp,BIN_MAX,right=True)\n",
    "    for i in range(len(binned)):\n",
    "        bin_num = binned[i]\n",
    "        if not (bin_num>=1 and bin_num<=5):\n",
    "            print(i,binned[i],every_temp[i],patient)\n",
    "            raise Exception ('Bad bin!')\n",
    "    Y = list(binned) \n",
    "    return X,Y  "
   ]
  },
  {
   "cell_type": "code",
   "execution_count": 10,
   "metadata": {},
   "outputs": [],
   "source": [
    "def load_all_patients_data(fold,patients,save_mem=False):\n",
    "    X = None  # dataframe with 600 feature columns, one row per nucleus\n",
    "    y = None  # list of labels = attention for each row\n",
    "    z = None  # list of patient name for each row\n",
    "    is_multiclass = True\n",
    "    count=0\n",
    "    for patient in patients:\n",
    "        print('.',end='')\n",
    "        count += 1\n",
    "        directory = patient+'/'\n",
    "        Xall,yall = load_one_patient_attention(fold,is_multiclass,patient)\n",
    "        if (save_mem):\n",
    "            Xi = Xall.iloc[0::CHOOSE_EVERY] # e.g. choose every tenth patch\n",
    "            yi = yall[0::CHOOSE_EVERY].copy()  # e.g. choose every tenth patch\n",
    "        else:\n",
    "            Xi = Xall\n",
    "            yi = yall\n",
    "        zi = [patient]*len(Xi)  # same ID for all patches from one patient\n",
    "        if X is None:\n",
    "            X = Xi\n",
    "            y = yi\n",
    "            z = zi\n",
    "        else:\n",
    "            X = pd.concat( (X, Xi) )\n",
    "            y = np.concatenate( (y, yi) )\n",
    "            z = np.concatenate( (z, zi) )\n",
    "    print()\n",
    "    X = drop_columns(X)\n",
    "    return X,y,z   # nucleus data, nucleus attention bin, patient name"
   ]
  },
  {
   "cell_type": "code",
   "execution_count": 11,
   "metadata": {},
   "outputs": [],
   "source": [
    "# This is slow, probably due to concatenating dataframes.\n",
    "# Consider a rewrite that concatenates csv before constructing a dataframe.\n",
    "def load_train_valid_set(fold):\n",
    "    is_train = True # training set\n",
    "    patients,cancers = get_metadata_one_fold(fold,is_train) \n",
    "    X_train,y_train,z_train = load_all_patients_data(fold,patients,SAVE_MEM) \n",
    "    print('Train lengths X,y,z:',X_train.shape,len(y_train),len(z_train))\n",
    "    is_train = False # validation set\n",
    "    patients,cancers = get_metadata_one_fold(fold,is_train) \n",
    "    X_valid,y_valid,z_valid = load_all_patients_data(fold,patients,SAVE_MEM) # reduces validation size\n",
    "    print('Valid lengths X,y,z:',X_valid.shape,len(y_valid),len(z_valid))\n",
    "    return X_train,y_train,z_train,X_valid,y_valid,z_valid"
   ]
  },
  {
   "cell_type": "markdown",
   "metadata": {},
   "source": [
    "## Aggregation functions"
   ]
  },
  {
   "cell_type": "code",
   "execution_count": 12,
   "metadata": {},
   "outputs": [],
   "source": [
    "# Each patch votes on the class for its WSI.\n",
    "# Later, weight each patch label by the confidence i.e. score\n",
    "def aggregate_accuracy(y_pred,y_valid,z_valid):\n",
    "    L = len(y_pred)\n",
    "    if L != len(y_valid) or L != len(z_valid):\n",
    "        raise Exception('Lengths do not match')\n",
    "    correct = {}\n",
    "    incorrect = {}\n",
    "    patients = np.unique(z_valid)\n",
    "    for patient in patients:\n",
    "        correct[patient]=0  # accumulate correct votes on patches\n",
    "        incorrect[patient]=0  # accumulate incorrect votes\n",
    "    for i in range(L):\n",
    "        patient = z_valid[i]\n",
    "        label =   y_valid[i]\n",
    "        pred =    y_pred[i]\n",
    "        if pred == label:\n",
    "            correct[patient] += 1\n",
    "        else:\n",
    "            incorrect[patient] += 1\n",
    "    numerator = 0\n",
    "    denominator = 0\n",
    "    for patient in patients:\n",
    "        denominator += 1\n",
    "        if correct[patient]>incorrect[patient]:\n",
    "            numerator += 1\n",
    "    accuracy = float(0)\n",
    "    if denominator>0:\n",
    "        accuracy = 100.0*numerator/denominator \n",
    "    return accuracy"
   ]
  },
  {
   "cell_type": "markdown",
   "metadata": {},
   "source": [
    "## Main loop: Load, Classify, Report"
   ]
  },
  {
   "cell_type": "code",
   "execution_count": 13,
   "metadata": {},
   "outputs": [],
   "source": [
    "def important_features(model):\n",
    "    # Prereqs: fit().\n",
    "    names = model.feature_names_in_\n",
    "    importances = model.feature_importances_\n",
    "    pairs = np.column_stack( (names,importances) )\n",
    "    top_array = sorted(pairs, key = lambda e:e[1], reverse=True)\n",
    "    # There must be a way to do this witout a loop!\n",
    "    top_list = []\n",
    "    for i in top_array:\n",
    "         top_list.append((i[1],i[0]))  # 0=feature_name, 1=importance\n",
    "    top_df = pd.DataFrame(top_list)\n",
    "    return top_df"
   ]
  },
  {
   "cell_type": "code",
   "execution_count": 14,
   "metadata": {},
   "outputs": [
    {
     "name": "stdout",
     "output_type": "stream",
     "text": [
      "\n",
      "2022-08-11 17:30:59.791300 Fold 0 Loading...\n",
      ".....................................................................................................\n",
      "Train lengths X,y,z: (148324, 647) 148324 148324\n",
      "..........................\n",
      "Valid lengths X,y,z: (36559, 647) 36559 36559\n",
      "2022-08-11 17:34:42.670083 Train...\n",
      "2022-08-11 17:46:34.498292 Ranked feature imporances...\n",
      "           0                                           1\n",
      "0   0.092723                           Location_Center_X\n",
      "1   0.083816                          AreaShape_Center_X\n",
      "2   0.080191  Location_CenterMassIntensity_X_Hematoxylin\n",
      "3   0.077906         Location_MaxIntensity_X_Hematoxylin\n",
      "4   0.077256              AreaShape_BoundingBoxMinimum_X\n",
      "5   0.070092              AreaShape_BoundingBoxMaximum_X\n",
      "6   0.061202              AreaShape_BoundingBoxMinimum_Y\n",
      "7   0.059463  Location_CenterMassIntensity_Y_Hematoxylin\n",
      "8   0.056002                          AreaShape_Center_Y\n",
      "9   0.055664                           Location_Center_Y\n",
      "10  0.054564              AreaShape_BoundingBoxMaximum_Y\n",
      "2022-08-11 17:46:34.586637 Evaluate...\n",
      "Fold 0 Nucleus-level Training Accuracy: 51.089506755481246\n",
      "2022-08-11 17:46:41.496302 Validate...\n",
      "Fold 0 Nucleus-level Validation Accuracy: 52.43578872507454\n",
      "Fold 0 Patient-level Validation Accuracy: 53.84615384615385\n",
      "\n",
      "2022-08-11 17:46:43.476464 Fold 1 Loading...\n",
      ".....................................................................................................\n",
      "Train lengths X,y,z: (131619, 647) 131619 131619\n",
      "..........................\n",
      "Valid lengths X,y,z: (53264, 647) 53264 53264\n",
      "2022-08-11 17:50:16.574165 Train...\n",
      "2022-08-11 18:00:47.481665 Ranked feature imporances...\n",
      "           0                                           1\n",
      "0   0.087616  Location_CenterMassIntensity_X_Hematoxylin\n",
      "1   0.087593              AreaShape_BoundingBoxMinimum_X\n",
      "2   0.081579                          AreaShape_Center_X\n",
      "3   0.080919         Location_MaxIntensity_X_Hematoxylin\n",
      "4   0.080524                           Location_Center_X\n",
      "5   0.073279              AreaShape_BoundingBoxMaximum_X\n",
      "6   0.055574  Location_CenterMassIntensity_Y_Hematoxylin\n",
      "7   0.050623                          AreaShape_Center_Y\n",
      "8   0.049419                           Location_Center_Y\n",
      "9   0.048662              AreaShape_BoundingBoxMinimum_Y\n",
      "10  0.047968              AreaShape_BoundingBoxMaximum_Y\n",
      "2022-08-11 18:00:47.510993 Evaluate...\n",
      "Fold 1 Nucleus-level Training Accuracy: 45.104430211443635\n",
      "2022-08-11 18:00:52.625376 Validate...\n",
      "Fold 1 Nucleus-level Validation Accuracy: 44.2775608290778\n",
      "Fold 1 Patient-level Validation Accuracy: 15.384615384615385\n",
      "\n",
      "2022-08-11 18:00:54.608235 Fold 2 Loading...\n",
      "......................................................................................................\n",
      "Train lengths X,y,z: (149464, 647) 149464 149464\n",
      ".........................\n",
      "Valid lengths X,y,z: (35419, 647) 35419 35419\n",
      "2022-08-11 18:04:22.915201 Train...\n",
      "2022-08-11 18:16:16.509967 Ranked feature imporances...\n",
      "           0                                           1\n",
      "0   0.090114                          AreaShape_Center_X\n",
      "1   0.086541              AreaShape_BoundingBoxMinimum_X\n",
      "2   0.086479  Location_CenterMassIntensity_X_Hematoxylin\n",
      "3   0.083705                           Location_Center_X\n",
      "4   0.082887              AreaShape_BoundingBoxMaximum_X\n",
      "5   0.072144         Location_MaxIntensity_X_Hematoxylin\n",
      "6   0.041828          Neighbors_PercentTouching_Expanded\n",
      "7   0.029414                          AreaShape_Center_Y\n",
      "8   0.029383        Neighbors_NumberOfNeighbors_Expanded\n",
      "9   0.028831  Location_CenterMassIntensity_Y_Hematoxylin\n",
      "10  0.026521              AreaShape_BoundingBoxMaximum_Y\n",
      "2022-08-11 18:16:16.532832 Evaluate...\n",
      "Fold 2 Nucleus-level Training Accuracy: 44.67631001445164\n",
      "2022-08-11 18:16:22.686830 Validate...\n",
      "Fold 2 Nucleus-level Validation Accuracy: 42.57037183432621\n",
      "Fold 2 Patient-level Validation Accuracy: 4.0\n",
      "\n",
      "2022-08-11 18:16:24.051539 Fold 3 Loading...\n",
      "......................................................................................................\n",
      "Train lengths X,y,z: (151864, 647) 151864 151864\n",
      ".........................\n",
      "Valid lengths X,y,z: (33019, 647) 33019 33019\n",
      "2022-08-11 18:19:50.755590 Train...\n",
      "2022-08-11 18:31:56.347307 Ranked feature imporances...\n",
      "           0                                           1\n",
      "0   0.077273                          AreaShape_Center_X\n",
      "1   0.076018                           Location_Center_X\n",
      "2   0.071082  Location_CenterMassIntensity_X_Hematoxylin\n",
      "3   0.070508         Location_MaxIntensity_X_Hematoxylin\n",
      "4   0.063667              AreaShape_BoundingBoxMinimum_X\n",
      "5   0.062034              AreaShape_BoundingBoxMaximum_X\n",
      "6   0.032197                          AreaShape_Center_Y\n",
      "7   0.032115                           Location_Center_Y\n",
      "8   0.029803  Location_CenterMassIntensity_Y_Hematoxylin\n",
      "9   0.029445         Location_MaxIntensity_Y_Hematoxylin\n",
      "10  0.028647              AreaShape_BoundingBoxMinimum_Y\n",
      "2022-08-11 18:31:56.376194 Evaluate...\n",
      "Fold 3 Nucleus-level Training Accuracy: 50.2877574672075\n",
      "2022-08-11 18:32:02.598086 Validate...\n",
      "Fold 3 Nucleus-level Validation Accuracy: 47.64832369241952\n",
      "Fold 3 Patient-level Validation Accuracy: 32.0\n",
      "\n",
      "2022-08-11 18:32:03.923235 Fold 4 Loading...\n",
      "......................................................................................................\n",
      "Train lengths X,y,z: (158261, 647) 158261 158261\n",
      ".........................\n",
      "Valid lengths X,y,z: (26622, 647) 26622 26622\n",
      "2022-08-11 18:35:34.165352 Train...\n",
      "2022-08-11 18:48:08.903296 Ranked feature imporances...\n",
      "           0                                           1\n",
      "0   0.100606                          AreaShape_Center_Y\n",
      "1   0.094936  Location_CenterMassIntensity_Y_Hematoxylin\n",
      "2   0.090978                           Location_Center_Y\n",
      "3   0.089218         Location_MaxIntensity_Y_Hematoxylin\n",
      "4   0.085321              AreaShape_BoundingBoxMinimum_Y\n",
      "5   0.084902              AreaShape_BoundingBoxMaximum_Y\n",
      "6   0.061445          Neighbors_PercentTouching_Expanded\n",
      "7   0.040856                           Location_Center_X\n",
      "8   0.040715  Location_CenterMassIntensity_X_Hematoxylin\n",
      "9   0.040421                          AreaShape_Center_X\n",
      "10  0.036344              AreaShape_BoundingBoxMinimum_X\n",
      "2022-08-11 18:48:08.928914 Evaluate...\n",
      "Fold 4 Nucleus-level Training Accuracy: 50.49506827329538\n",
      "2022-08-11 18:48:15.272188 Validate...\n",
      "Fold 4 Nucleus-level Validation Accuracy: 48.854331004432424\n",
      "Fold 4 Patient-level Validation Accuracy: 36.0\n"
     ]
    }
   ],
   "source": [
    "patch_accuracies = []   # summary statistics\n",
    "patient_accuracies = [] # summary statistics\n",
    "\n",
    "for fold in range(NUM_FOLDS):\n",
    "    print()\n",
    "    print(datetime.datetime.now(),'Fold',fold,'Loading...')\n",
    "    X_train,y_train,z_train,X_valid,y_valid,z_valid = load_train_valid_set(fold)    \n",
    "\n",
    "    # The shuffle is not strictly necessary with RF.\n",
    "    # CNN models are sensitive to train set order but RF models are not. \n",
    "    # print(datetime.datetime.now(),'Shuffle...')\n",
    "    # X_train,y_train = sklearn.shuffle(X_train,y_train)\n",
    "\n",
    "    print(datetime.datetime.now(),'Train...')\n",
    "    # min_samples_leaf=1 (default) led to overfitting\n",
    "    rfc = RandomForestClassifier(max_depth=MAX_DEPTH,n_estimators=N_ESTIMATORS)\n",
    "    rfc.fit(X_train,y_train)  # slow\n",
    "    \n",
    "    print(datetime.datetime.now(),'Ranked feature imporances...')\n",
    "    top = important_features(rfc)\n",
    "    #pd.set_option('display.max_rows', None)\n",
    "    print(top.loc[:10])\n",
    "    \n",
    "    print(datetime.datetime.now(),'Evaluate...')\n",
    "    y_pred = rfc.predict(X_train)\n",
    "    matches = np.count_nonzero(y_train==y_pred)\n",
    "    accuracy_t = 100.0 * matches / len(y_pred)\n",
    "    print('Fold',fold,'Nucleus-level Training Accuracy:',accuracy_t)\n",
    "    \n",
    "    print(datetime.datetime.now(),'Validate...')\n",
    "    y_pred = rfc.predict(X_valid)\n",
    "    matches = np.count_nonzero(y_valid==y_pred)\n",
    "    accuracy_v = 100.0 * matches / len(y_pred)\n",
    "    print('Fold',fold,'Nucleus-level Validation Accuracy:',accuracy_v)\n",
    "    patch_accuracies.append(accuracy_v)\n",
    "    \n",
    "    accuracy_p = aggregate_accuracy(y_pred,y_valid,z_valid)\n",
    "    patient_accuracies.append(accuracy_p)\n",
    "    print('Fold',fold,'Patient-level Validation Accuracy:',accuracy_p)\n",
    "    \n",
    "    # This shouldn't be necessary but it seems to reduce memory footprint.\n",
    "    X_train=None\n",
    "    X_valid=None\n",
    "    y_train=None\n",
    "    y_valid=None\n",
    "    z_train=None\n",
    "    z_valid=None\n",
    "    y_pred = None\n",
    "    matches = None"
   ]
  },
  {
   "cell_type": "code",
   "execution_count": 15,
   "metadata": {},
   "outputs": [
    {
     "name": "stdout",
     "output_type": "stream",
     "text": [
      "2022-08-11 18:48:16.303043\n",
      "Sampling every 10 th record.\n",
      "Cross validation nucleus-level accuracy: [52.43578872507454, 44.2775608290778, 42.57037183432621, 47.64832369241952, 48.854331004432424]\n",
      "mean: 47.1572752170661 pop std: 3.883177481257632\n",
      "Cross validation patient-level accuracy: [53.84615384615385, 15.384615384615385, 4.0, 32.0, 36.0]\n",
      "mean: 28.246153846153845 pop std: 19.254016717643974\n"
     ]
    }
   ],
   "source": [
    "print(datetime.datetime.now())\n",
    "if SAVE_MEM:\n",
    "    print('Sampling every',CHOOSE_EVERY,'th record.')\n",
    "print('Cross validation nucleus-level accuracy:',patch_accuracies)\n",
    "print('mean:',np.mean(patch_accuracies),'pop std:',np.std(patch_accuracies,ddof=1))\n",
    "print('Cross validation patient-level accuracy:',patient_accuracies)\n",
    "print('mean:',np.mean(patient_accuracies),'pop std:',np.std(patient_accuracies,ddof=1))\n"
   ]
  },
  {
   "cell_type": "code",
   "execution_count": null,
   "metadata": {},
   "outputs": [],
   "source": []
  }
 ],
 "metadata": {
  "kernelspec": {
   "display_name": "Python 3",
   "language": "python",
   "name": "python3"
  },
  "language_info": {
   "codemirror_mode": {
    "name": "ipython",
    "version": 3
   },
   "file_extension": ".py",
   "mimetype": "text/x-python",
   "name": "python",
   "nbconvert_exporter": "python",
   "pygments_lexer": "ipython3",
   "version": "3.8.10"
  }
 },
 "nbformat": 4,
 "nbformat_minor": 4
}
