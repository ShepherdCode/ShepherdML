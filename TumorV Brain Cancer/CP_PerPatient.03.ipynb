{
 "cells": [
  {
   "cell_type": "markdown",
   "metadata": {},
   "source": [
    "# Cell Profiler - Per Patient\n",
    "Redistribute rows of Nucleus.csv files into one file per patient.  \n",
    "In preparation for other csv files, store each file in its own directory.  \n",
    "Also, drop the columns that won't be used for classification.  \n",
    "\n",
    "Problem: the raw CellProfiler outputs were organized per run.  \n",
    "Inputs like: Class0/Process100_Nucleus.csv (combines patients of cancer class 0)  \n",
    "Outputs like: TCGA-HT-7482-01Z-00/Process100_Image.csv (specific to one patient)\n",
    "\n",
    "Based on CP_PerPatient.01 which worked out the Image.csv mechanics.   \n",
    "\n",
    "Fail. This exhausts memory.    \n",
    "The class 0 nucleus file is too big.    \n",
    "Take another approach in next notebook."
   ]
  },
  {
   "cell_type": "code",
   "execution_count": 1,
   "metadata": {},
   "outputs": [
    {
     "name": "stdout",
     "output_type": "stream",
     "text": [
      "2022-08-08 16:21:47.831663\n"
     ]
    }
   ],
   "source": [
    "import numpy as np\n",
    "import pandas as pd\n",
    "import os\n",
    "from datetime import datetime\n",
    "print(datetime.now())"
   ]
  },
  {
   "cell_type": "code",
   "execution_count": 2,
   "metadata": {},
   "outputs": [],
   "source": [
    "BASE_PATH_IN='/home/jrm/Adjeroh/Glioma/August_Run/CellProfilerOutputs/'\n",
    "BASE_PATH_OUT='/home/jrm/Adjeroh/Glioma/August_Run/CellProfilerPerPatient/'\n",
    "TRACKING_FILE=BASE_PATH_OUT+'PatchTracking.csv'\n",
    "INPUT_DIRS=[\n",
    "'Output5/',\n",
    "'Output5.1/',\n",
    "'Output4/',\n",
    "'Output4.1/',\n",
    "'Output3/',\n",
    "'Output3.1/',\n",
    "'Output2/',\n",
    "'Output1/',\n",
    "'Output0/'\n",
    "]\n",
    "FILENAMES=[\n",
    "'Process100_Image.csv',\n",
    "'Process100_Cells.csv',\n",
    "'Process100_ExpandCells.csv',\n",
    "'Process100_Experiment.csv',\n",
    "'Process100_MergeRBC.csv',\n",
    "'Process100_Nucleus.csv',\n",
    "'Process100_RBC.csv',\n",
    "'Process100_ShrinkRBC.csv',\n",
    "'Process100_Tissue.csv']\n",
    "IMAGE_FILE=FILENAMES[0]\n",
    "NUCLEUS_FILE=FILENAMES[5]\n",
    "IMAGE_COL='ImageNumber'\n",
    "TUMOR_COL='FileName_Tumor'   # use this column to disambiguate patients\n",
    "PATIENT_COL='Patient'        # add this column to emphasize patient ID\n",
    "# Patch filename format: TCGA-06-0129-01Z-00-DX1_5400_5100.png\n",
    "# For WSI ID, use first 23 letters.\n",
    "# For patient or case ID, use first 19 letters. \n",
    "LEN_CASE_ID=19\n",
    "LEN_WSI_ID=23"
   ]
  },
  {
   "cell_type": "code",
   "execution_count": 3,
   "metadata": {},
   "outputs": [],
   "source": [
    "TEST = BASE_PATH_IN + INPUT_DIRS[0] + NUCLEUS_FILE\n",
    "df = pd.read_csv(TEST)\n",
    "bad_cols=['Children_Cells_Count',\n",
    "          'Number_Object_Number','ImageNumber','ObjectNumber']\n",
    "loc_cols=[c for c in df.columns if c.startswith('Location_')\n",
    "          or c.startswith('AreaShape_BoundingBoxM')\n",
    "          or c.startswith('AreaShape_Center')]\n",
    "#for c in df.columns:\n",
    "#    print(c)"
   ]
  },
  {
   "cell_type": "code",
   "execution_count": 4,
   "metadata": {},
   "outputs": [],
   "source": [
    "def load_tracking_info():\n",
    "    df = pd.read_csv(TRACKING_FILE)\n",
    "    return df"
   ]
  },
  {
   "cell_type": "code",
   "execution_count": 5,
   "metadata": {},
   "outputs": [],
   "source": [
    "def save_patient(patient,nucleus_df):\n",
    "    if patient is not None:\n",
    "        print('Save')"
   ]
  },
  {
   "cell_type": "code",
   "execution_count": null,
   "metadata": {},
   "outputs": [
    {
     "name": "stdout",
     "output_type": "stream",
     "text": [
      "2022-08-08 16:22:23.389333\n",
      "Loading big original file /home/jrm/Adjeroh/Glioma/August_Run/CellProfilerOutputs/Output0/Process100_Nucleus.csv\n"
     ]
    }
   ],
   "source": [
    "print(datetime.now())\n",
    "tracking_df = pd.read_csv(TRACKING_FILE)\n",
    "prev_directory = None\n",
    "orig_nucleus_df = None\n",
    "patient_nucleus_df = None\n",
    "prev_patient = None\n",
    "for ndx,data in tracking_df.iterrows():\n",
    "    patient=data['patient_directory']\n",
    "    patch_filename=data['patch_filename']\n",
    "    orig_directory=data['orig_directory']\n",
    "    orig_imagenum=data['orig_imagenum']\n",
    "    new_imagenum=data['new_imagenum']\n",
    "    #\n",
    "    if prev_patient != patient:\n",
    "        save_patient(prev_patient,patient_nucleus_df)\n",
    "        patient_nucleus_df = None\n",
    "        prev_patient = patient\n",
    "    if prev_directory != orig_directory:\n",
    "        prev_directory = orig_directory\n",
    "        filename = BASE_PATH_IN + orig_directory + NUCLEUS_FILE\n",
    "        print('Loading big original file',filename)\n",
    "        orig_nucleus_df = pd.read_csv(filename)\n",
    "        orig_nucleus_df = nucleus_df.fillna(0)\n",
    "    #\n",
    "    print(patient)\n",
    "    patch_df = orig_nucleus_df[orig_nucleus_df[IMAGE_COL]==orig_imagenum]\n",
    "    if len(patch_df)<1:\n",
    "        print('Uh oh')\n",
    "    if patient_nucleus_df is None:\n",
    "        patient_nucleus_df = patch_df\n",
    "    else:\n",
    "        patient_nucleus_df = pd.concat( (patient_nucleus_df,patch_df) )\n",
    "    print('Nucleus shape',patient_nucleus_df.shape)\n",
    "    #\n",
    "    # must renumber images"
   ]
  },
  {
   "cell_type": "code",
   "execution_count": null,
   "metadata": {},
   "outputs": [],
   "source": []
  }
 ],
 "metadata": {
  "kernelspec": {
   "display_name": "Python 3",
   "language": "python",
   "name": "python3"
  },
  "language_info": {
   "codemirror_mode": {
    "name": "ipython",
    "version": 3
   },
   "file_extension": ".py",
   "mimetype": "text/x-python",
   "name": "python",
   "nbconvert_exporter": "python",
   "pygments_lexer": "ipython3",
   "version": "3.8.10"
  }
 },
 "nbformat": 4,
 "nbformat_minor": 4
}
