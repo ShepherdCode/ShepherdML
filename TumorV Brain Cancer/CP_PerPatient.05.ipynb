{
 "cells": [
  {
   "cell_type": "markdown",
   "metadata": {},
   "source": [
    "# Cell Profiler - Per Patient\n",
    "Nucleus rollup per patch."
   ]
  },
  {
   "cell_type": "code",
   "execution_count": 1,
   "metadata": {},
   "outputs": [
    {
     "name": "stdout",
     "output_type": "stream",
     "text": [
      "2022-08-10 07:57:17.357715\n"
     ]
    }
   ],
   "source": [
    "import numpy as np\n",
    "import pandas as pd\n",
    "import os\n",
    "import csv\n",
    "from datetime import datetime\n",
    "print(datetime.now())"
   ]
  },
  {
   "cell_type": "code",
   "execution_count": 2,
   "metadata": {},
   "outputs": [],
   "source": [
    "BASE_PATH='/home/jrm/Adjeroh/Glioma/August_Run/CellProfilerPerPatient/' # Alien\n",
    "BASE_PATH='D:\\\\Adjeroh\\\\Glioma\\\\August_Run\\\\CellProfilerPerPatient\\\\'   # Windows\n",
    "NUCLEUS_INPUT='Process100_Nucleus.csv'\n",
    "NUCLEUS_OUTPUT='NucleusToPatchRollup.csv'\n",
    "IMAGE_COL='ImageNumber'"
   ]
  },
  {
   "cell_type": "code",
   "execution_count": 3,
   "metadata": {},
   "outputs": [],
   "source": [
    "def save_patient(patient,df):\n",
    "    if patient is not None:\n",
    "        filename = BASE_PATH + patient + '/' + NUCLEUS_OUTPUT\n",
    "        #print('Save',filename)\n",
    "        #df = pd.DataFrame(one_row_as_dict)\n",
    "        #df = df.replace('nan',np.nan)\n",
    "        df.to_csv(filename)  # Now ImageNumber is the index. Do not say index=False! "
   ]
  },
  {
   "cell_type": "code",
   "execution_count": 4,
   "metadata": {},
   "outputs": [],
   "source": [
    "def drop_columns(df):\n",
    "    cols = df.columns\n",
    "    # For patch-level rollup, need to leave column ImageNumber\n",
    "    bad_cols=[c for c in cols if c in\n",
    "              ['Children_Cells_Count','Number_Object_Number','ObjectNumber']]\n",
    "    # These fields specify the nucleus location relative to the patch, which is irrelevant.\n",
    "    loc_cols=[c for c in cols \n",
    "              if c.startswith('Location_')\n",
    "              or c.startswith('AreaShape_BoundingBoxM')\n",
    "              or c.startswith('AreaShape_Center')]\n",
    "    df = df.drop(columns=bad_cols)\n",
    "    df = df.drop(columns=loc_cols)\n",
    "    return df"
   ]
  },
  {
   "cell_type": "code",
   "execution_count": 5,
   "metadata": {},
   "outputs": [],
   "source": [
    "def rollup(df):\n",
    "    rollup = df.groupby([IMAGE_COL]).describe(include=[np.number]) ## this is slow: 3min/patient\n",
    "    rollup.columns=rollup.columns.map('_'.join)  ## helps random forest code\n",
    "    return rollup"
   ]
  },
  {
   "cell_type": "code",
   "execution_count": 6,
   "metadata": {},
   "outputs": [
    {
     "name": "stdout",
     "output_type": "stream",
     "text": [
      "2022-08-10 07:57:17.442322\n",
      "2022-08-10 07:57:17.442322\n",
      "Processing TCGA-HW-7495-01Z-00\n",
      "Shape initial, reduced, described: (4294, 650) (4294, 632) (396, 5048)\n",
      "2022-08-10 08:01:33.429943\n",
      "Processing TCGA-HW-A5KJ-01Z-00\n",
      "Shape initial, reduced, described: (5119, 650) (5119, 632) (409, 5048)\n",
      "2022-08-10 08:05:58.957632\n",
      "Processing TCGA-QH-A65R-01Z-00\n",
      "Shape initial, reduced, described: (8770, 650) (8770, 632) (403, 5048)\n",
      "2022-08-10 08:10:19.208370\n",
      "Processing TCGA-QH-A65Z-01Z-00\n",
      "Shape initial, reduced, described: (6273, 650) (6273, 632) (408, 5048)\n",
      "2022-08-10 08:14:42.564152\n",
      "Processing TCGA-QH-A6CS-01Z-00\n",
      "Shape initial, reduced, described: (5884, 650) (5884, 632) (410, 5048)\n",
      "2022-08-10 08:19:07.184638\n",
      "Processing TCGA-QH-A6CU-01Z-00\n",
      "Shape initial, reduced, described: (7769, 650) (7769, 632) (405, 5048)\n",
      "2022-08-10 08:23:29.325910\n",
      "Processing TCGA-QH-A6CZ-01Z-00\n",
      "Shape initial, reduced, described: (4690, 650) (4690, 632) (394, 5048)\n",
      "2022-08-10 08:27:43.274398\n",
      "Processing TCGA-QH-A6X8-01Z-00\n",
      "Shape initial, reduced, described: (4973, 650) (4973, 632) (399, 5048)\n",
      "2022-08-10 08:32:00.699805\n",
      "Processing TCGA-QH-A6XA-01Z-00\n",
      "Shape initial, reduced, described: (4176, 650) (4176, 632) (395, 5048)\n",
      "2022-08-10 08:36:14.785116\n",
      "Processing TCGA-QH-A6XC-01Z-00\n",
      "Shape initial, reduced, described: (6286, 650) (6286, 632) (401, 5048)\n",
      "2022-08-10 08:40:33.373573\n",
      "Processing TCGA-S9-A6TW-01Z-00\n",
      "Shape initial, reduced, described: (7468, 650) (7468, 632) (408, 5048)\n",
      "2022-08-10 08:44:58.372532\n",
      "Processing TCGA-S9-A6TX-01Z-00\n",
      "Shape initial, reduced, described: (5406, 650) (5406, 632) (398, 5048)\n",
      "2022-08-10 08:49:15.205174\n",
      "Processing TCGA-S9-A6U1-01Z-00\n",
      "Shape initial, reduced, described: (2956, 650) (2956, 632) (399, 5048)\n",
      "2022-08-10 08:53:31.876998\n",
      "Processing TCGA-S9-A6U6-01Z-00\n",
      "Shape initial, reduced, described: (4319, 650) (4319, 632) (406, 5048)\n",
      "2022-08-10 08:57:53.090526\n",
      "Processing TCGA-S9-A6U9-01Z-00\n",
      "Shape initial, reduced, described: (3990, 650) (3990, 632) (394, 5048)\n",
      "2022-08-10 09:02:06.658555\n",
      "Processing TCGA-S9-A6UB-01Z-00\n",
      "Shape initial, reduced, described: (3026, 650) (3026, 632) (391, 5048)\n",
      "2022-08-10 09:06:17.287165\n",
      "Processing TCGA-S9-A6WE-01Z-00\n",
      "Shape initial, reduced, described: (2800, 650) (2800, 632) (405, 5048)\n",
      "2022-08-10 09:10:36.822004\n",
      "Processing TCGA-S9-A6WI-01Z-00\n",
      "Shape initial, reduced, described: (3142, 650) (3142, 632) (395, 5048)\n",
      "2022-08-10 09:14:50.130835\n",
      "Processing TCGA-S9-A6WL-01Z-00\n",
      "Shape initial, reduced, described: (3414, 650) (3414, 632) (388, 5048)\n",
      "2022-08-10 09:18:58.779029\n",
      "Processing TCGA-S9-A6WO-01Z-00\n",
      "Shape initial, reduced, described: (3462, 650) (3462, 632) (399, 5048)\n",
      "2022-08-10 09:23:15.371064\n",
      "Processing TCGA-S9-A7IQ-01Z-00\n",
      "Shape initial, reduced, described: (3334, 650) (3334, 632) (398, 5048)\n",
      "2022-08-10 09:27:31.777856\n",
      "Processing TCGA-S9-A7IS-01Z-00\n",
      "Shape initial, reduced, described: (4763, 650) (4763, 632) (403, 5048)\n",
      "2022-08-10 09:31:51.635049\n",
      "Processing TCGA-S9-A7IZ-01Z-00\n",
      "Shape initial, reduced, described: (4762, 650) (4762, 632) (399, 5048)\n",
      "2022-08-10 09:36:07.983285\n",
      "Processing TCGA-S9-A7J1-01Z-00\n",
      "Shape initial, reduced, described: (6053, 650) (6053, 632) (388, 5048)\n",
      "2022-08-10 09:40:17.501321\n",
      "Processing TCGA-S9-A7J2-01Z-00\n",
      "Shape initial, reduced, described: (5052, 650) (5052, 632) (391, 5048)\n",
      "2022-08-10 09:44:30.291214\n",
      "Processing TCGA-S9-A7J3-01Z-00\n",
      "Shape initial, reduced, described: (4082, 650) (4082, 632) (405, 5048)\n",
      "2022-08-10 09:48:50.531604\n",
      "Processing TCGA-S9-A7QY-01Z-00\n",
      "Shape initial, reduced, described: (3948, 650) (3948, 632) (409, 5048)\n",
      "2022-08-10 09:53:13.419207\n",
      "Processing TCGA-S9-A7R2-01Z-00\n",
      "Shape initial, reduced, described: (4648, 650) (4648, 632) (394, 5048)\n",
      "2022-08-10 09:57:26.278444\n",
      "Processing TCGA-TM-A7C3-01Z-00\n",
      "Shape initial, reduced, described: (8311, 650) (8311, 632) (400, 5048)\n",
      "2022-08-10 10:01:43.717646\n",
      "Processing TCGA-TM-A7CF-01Z-00\n",
      "Shape initial, reduced, described: (7929, 650) (7929, 632) (562, 5048)\n"
     ]
    }
   ],
   "source": [
    "print(datetime.now())\n",
    "for patient in os.listdir(BASE_PATH):\n",
    "    if patient.startswith('TCGA-'):\n",
    "        print(datetime.now())\n",
    "        print('Processing',patient)\n",
    "        filename = BASE_PATH + patient +'/' + NUCLEUS_INPUT\n",
    "        bigdf = pd.read_csv(filename)\n",
    "        shape1 = bigdf.shape\n",
    "        bigdf = drop_columns(bigdf)\n",
    "        shape2 = bigdf.shape\n",
    "        bigdf = rollup(bigdf)\n",
    "        shape3 = bigdf.shape\n",
    "        print('Shape initial, reduced, described:',shape1,shape2,shape3)\n",
    "        save_patient(patient,bigdf)"
   ]
  },
  {
   "cell_type": "code",
   "execution_count": 7,
   "metadata": {},
   "outputs": [
    {
     "name": "stdout",
     "output_type": "stream",
     "text": [
      "2022-08-10 10:07:45.461140\n"
     ]
    }
   ],
   "source": [
    "print(datetime.now())\n"
   ]
  },
  {
   "cell_type": "code",
   "execution_count": null,
   "metadata": {},
   "outputs": [],
   "source": []
  }
 ],
 "metadata": {
  "kernelspec": {
   "display_name": "Python 3 (ipykernel)",
   "language": "python",
   "name": "python3"
  },
  "language_info": {
   "codemirror_mode": {
    "name": "ipython",
    "version": 3
   },
   "file_extension": ".py",
   "mimetype": "text/x-python",
   "name": "python",
   "nbconvert_exporter": "python",
   "pygments_lexer": "ipython3",
   "version": "3.9.6"
  }
 },
 "nbformat": 4,
 "nbformat_minor": 4
}
