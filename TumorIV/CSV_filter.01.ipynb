{
 "cells": [
  {
   "cell_type": "markdown",
   "metadata": {},
   "source": [
    "# CSV filter\n",
    "Assume one CSV per patient (output from CSV_prep notebook).\n",
    "Write a slimmed down CSV with fewer columns (e.g. remove strings)\n",
    "and fewer rows (e.g. remove high-RBC patches).\n",
    "The slimmed CSVs are better substrate for learning."
   ]
  },
  {
   "cell_type": "code",
   "execution_count": 1,
   "metadata": {},
   "outputs": [],
   "source": [
    "import numpy as np\n",
    "import pandas as pd\n",
    "import os"
   ]
  },
  {
   "cell_type": "code",
   "execution_count": 2,
   "metadata": {},
   "outputs": [
    {
     "name": "stdout",
     "output_type": "stream",
     "text": [
      "2022-07-15 08:45:17.850104\n"
     ]
    }
   ],
   "source": [
    "from datetime import datetime\n",
    "print(datetime.now())"
   ]
  },
  {
   "cell_type": "code",
   "execution_count": 3,
   "metadata": {},
   "outputs": [],
   "source": [
    "BASE_PATH='/home/jrm/Martinez/CellProfilerRuns/CP_20220705/'\n",
    "INPUT_FILENAMES=[\n",
    "'Process100_Image.csv',\n",
    "'Process100_Cells.csv',\n",
    "'Process100_ExpandCells.csv',\n",
    "'Process100_Experiment.csv',\n",
    "'Process100_MergeRBC.csv',\n",
    "'Process100_Nucleus.csv',\n",
    "'Process100_RBC.csv',\n",
    "'Process100_ShrinkRBC.csv',\n",
    "'Process100_Tissue.csv']\n",
    "OUTPUT_FILENAMES=[\n",
    "'Filtered_Image.csv',\n",
    "'Filtered_Cells.csv',\n",
    "'Filtered_ExpandCells.csv',\n",
    "'Filtered_Experiment.csv',\n",
    "'Filtered_MergeRBC.csv',\n",
    "'Filtered_Nucleus.csv',\n",
    "'Filtered_RBC.csv',\n",
    "'Filtered_ShrinkRBC.csv',\n",
    "'Filtered_Tissue.csv']"
   ]
  },
  {
   "cell_type": "code",
   "execution_count": 4,
   "metadata": {},
   "outputs": [],
   "source": [
    "DF_Ypos = ['B7_','B15','D1_','D5_','E7_','E9_','F9_','G3_','H13','I1_','I5_','I13']\n",
    "DF_Yneg = ['A3_','A5_','B13','C1_','C11','D3_','E5_','F3_','F7_','F11','F15','G15','H1_','H3_','H7_','H15']\n",
    "ALL_PATIENTS = DF_Ypos + DF_Yneg"
   ]
  },
  {
   "cell_type": "code",
   "execution_count": 5,
   "metadata": {},
   "outputs": [],
   "source": [
    "def drop_cols(df,cols):\n",
    "    if len(cols)>0:\n",
    "        df = df.drop(columns=cols) \n",
    "    return df"
   ]
  },
  {
   "cell_type": "code",
   "execution_count": 6,
   "metadata": {},
   "outputs": [],
   "source": [
    "def drop_bad_cols(df):\n",
    "    # Timing stats give away classes if classes were processed differently. \n",
    "    bad_cols = [c for c in df.columns if c.startswith('ExecutionTime_')]\n",
    "    df = drop_cols(df,bad_cols)\n",
    "    # These columns are 100% uniform -- total area of the patch.\n",
    "    bad_cols = [c for c in df.columns if c.startswith('AreaOccupied_TotalArea_')]\n",
    "    df = drop_cols(df,bad_cols)\n",
    "    # These columns are mostly empty except for FileName_Tumor.\n",
    "    bad_cols = [c for c in df.columns if c.endswith('_Tumor')]\n",
    "    df = drop_cols(df,bad_cols)\n",
    "    # String columns with filenames or directory names can give away the class.\n",
    "    bad_cols = [\n",
    "        'Group_Index','Group_Number','ImageSet_ImageSet',\n",
    "        'ProcessingStatus','Patient','Metadata_FileLocation']\n",
    "    df = drop_cols(df,bad_cols)\n",
    "    return df"
   ]
  },
  {
   "cell_type": "code",
   "execution_count": 7,
   "metadata": {},
   "outputs": [],
   "source": [
    "# By removing bad patches, we can improve accuracy at patch level.\n",
    "# Assume we would then aggregate patch predictions to WSI level.\n",
    "# Thresholds were chosen by looking for elbows in these histograms:\n",
    "# pd.DataFrame.hist(df,column='AreaOccupied_AreaOccupied_MergeRBC')\n",
    "# pd.DataFrame.hist(df,column='AreaOccupied_AreaOccupied_Tissue')\n",
    "def drop_bad_rows(df):\n",
    "    df = df[df.AreaOccupied_AreaOccupied_Tissue>10000]\n",
    "    df = df[df.AreaOccupied_AreaOccupied_MergeRBC<6000]    \n",
    "    return df"
   ]
  },
  {
   "cell_type": "code",
   "execution_count": 8,
   "metadata": {},
   "outputs": [],
   "source": [
    "def drop_bad_vals(df):\n",
    "    # Expect nan for mean_RBC_diameter where #RBC=0\n",
    "    df.fillna(0,inplace=True)\n",
    "    df.fillna(0,inplace=True)\n",
    "    nan = df.isna().sum().sum()\n",
    "    temp_df=df.select_dtypes(include='object')\n",
    "    inf = np.isinf(df).values.sum()\n",
    "    if nan>0 or len(temp_df.columns)>0 or inf>0:\n",
    "        raise Exception('Non-numeric values in df')\n",
    "    return df"
   ]
  },
  {
   "cell_type": "code",
   "execution_count": 9,
   "metadata": {},
   "outputs": [
    {
     "name": "stdout",
     "output_type": "stream",
     "text": [
      "Reading from /home/jrm/Martinez/CellProfilerRuns/CP_20220705/B7_/Process100_Image.csv\n",
      "Shape change from (283, 5350) to (278, 5304)\n",
      "Reading from /home/jrm/Martinez/CellProfilerRuns/CP_20220705/B15/Process100_Image.csv\n",
      "Shape change from (280, 5350) to (265, 5304)\n",
      "Reading from /home/jrm/Martinez/CellProfilerRuns/CP_20220705/D1_/Process100_Image.csv\n",
      "Shape change from (298, 5350) to (286, 5304)\n",
      "Reading from /home/jrm/Martinez/CellProfilerRuns/CP_20220705/D5_/Process100_Image.csv\n",
      "Shape change from (270, 5350) to (252, 5304)\n",
      "Reading from /home/jrm/Martinez/CellProfilerRuns/CP_20220705/E7_/Process100_Image.csv\n",
      "Shape change from (222, 5350) to (203, 5304)\n",
      "Reading from /home/jrm/Martinez/CellProfilerRuns/CP_20220705/E9_/Process100_Image.csv\n",
      "Shape change from (310, 5350) to (293, 5304)\n",
      "Reading from /home/jrm/Martinez/CellProfilerRuns/CP_20220705/F9_/Process100_Image.csv\n",
      "Shape change from (318, 5350) to (309, 5304)\n",
      "Reading from /home/jrm/Martinez/CellProfilerRuns/CP_20220705/G3_/Process100_Image.csv\n",
      "Shape change from (209, 5350) to (152, 5304)\n",
      "Reading from /home/jrm/Martinez/CellProfilerRuns/CP_20220705/H13/Process100_Image.csv\n",
      "Shape change from (227, 5350) to (209, 5304)\n",
      "Reading from /home/jrm/Martinez/CellProfilerRuns/CP_20220705/I1_/Process100_Image.csv\n",
      "Shape change from (272, 5350) to (253, 5304)\n",
      "Reading from /home/jrm/Martinez/CellProfilerRuns/CP_20220705/I5_/Process100_Image.csv\n",
      "Shape change from (294, 5350) to (269, 5304)\n",
      "Reading from /home/jrm/Martinez/CellProfilerRuns/CP_20220705/I13/Process100_Image.csv\n",
      "Shape change from (261, 5350) to (250, 5304)\n",
      "Reading from /home/jrm/Martinez/CellProfilerRuns/CP_20220705/A3_/Process100_Image.csv\n",
      "Shape change from (228, 5350) to (216, 5304)\n",
      "Reading from /home/jrm/Martinez/CellProfilerRuns/CP_20220705/A5_/Process100_Image.csv\n",
      "Shape change from (271, 5350) to (203, 5304)\n",
      "Reading from /home/jrm/Martinez/CellProfilerRuns/CP_20220705/B13/Process100_Image.csv\n",
      "Shape change from (279, 5350) to (255, 5304)\n",
      "Reading from /home/jrm/Martinez/CellProfilerRuns/CP_20220705/C1_/Process100_Image.csv\n",
      "Shape change from (275, 5350) to (229, 5304)\n",
      "Reading from /home/jrm/Martinez/CellProfilerRuns/CP_20220705/C11/Process100_Image.csv\n",
      "Shape change from (329, 5350) to (293, 5304)\n",
      "Reading from /home/jrm/Martinez/CellProfilerRuns/CP_20220705/D3_/Process100_Image.csv\n",
      "Shape change from (264, 5350) to (210, 5304)\n",
      "Reading from /home/jrm/Martinez/CellProfilerRuns/CP_20220705/E5_/Process100_Image.csv\n",
      "Shape change from (287, 5350) to (270, 5304)\n",
      "Reading from /home/jrm/Martinez/CellProfilerRuns/CP_20220705/F3_/Process100_Image.csv\n",
      "Shape change from (297, 5350) to (250, 5304)\n",
      "Reading from /home/jrm/Martinez/CellProfilerRuns/CP_20220705/F7_/Process100_Image.csv\n",
      "Shape change from (277, 5350) to (240, 5304)\n",
      "Reading from /home/jrm/Martinez/CellProfilerRuns/CP_20220705/F11/Process100_Image.csv\n",
      "Shape change from (318, 5350) to (242, 5304)\n",
      "Reading from /home/jrm/Martinez/CellProfilerRuns/CP_20220705/F15/Process100_Image.csv\n",
      "Shape change from (290, 5350) to (284, 5304)\n",
      "Reading from /home/jrm/Martinez/CellProfilerRuns/CP_20220705/G15/Process100_Image.csv\n",
      "Shape change from (263, 5350) to (248, 5304)\n",
      "Reading from /home/jrm/Martinez/CellProfilerRuns/CP_20220705/H1_/Process100_Image.csv\n",
      "Shape change from (303, 5350) to (277, 5304)\n",
      "Reading from /home/jrm/Martinez/CellProfilerRuns/CP_20220705/H3_/Process100_Image.csv\n",
      "Shape change from (266, 5350) to (261, 5304)\n",
      "Reading from /home/jrm/Martinez/CellProfilerRuns/CP_20220705/H7_/Process100_Image.csv\n",
      "Shape change from (277, 5350) to (222, 5304)\n",
      "Reading from /home/jrm/Martinez/CellProfilerRuns/CP_20220705/H15/Process100_Image.csv\n",
      "Shape change from (254, 5350) to (234, 5304)\n"
     ]
    }
   ],
   "source": [
    "infile = INPUT_FILENAMES[0]  # So far, we only process Image.csv\n",
    "outfile = OUTPUT_FILENAMES[0]  # So far, we only process Image.csv\n",
    "\n",
    "for directory in ALL_PATIENTS:\n",
    "    input = BASE_PATH+directory+'/'+infile\n",
    "    output = BASE_PATH+directory+'/'+outfile\n",
    "    print('Reading from',input)\n",
    "    df = pd.read_csv(input)\n",
    "    shape1 = df.shape\n",
    "    df = drop_bad_cols(df)\n",
    "    df = drop_bad_rows(df)\n",
    "    df = drop_bad_vals(df)\n",
    "    shape2 = df.shape\n",
    "    print('Shape change from',shape1,'to',shape2)\n",
    "    df.to_csv(output)"
   ]
  },
  {
   "cell_type": "code",
   "execution_count": 10,
   "metadata": {},
   "outputs": [
    {
     "name": "stdout",
     "output_type": "stream",
     "text": [
      "2022-07-15 08:45:46.598849\n"
     ]
    }
   ],
   "source": [
    "from datetime import datetime\n",
    "print(datetime.now())"
   ]
  },
  {
   "cell_type": "code",
   "execution_count": null,
   "metadata": {},
   "outputs": [],
   "source": []
  }
 ],
 "metadata": {
  "kernelspec": {
   "display_name": "Python 3",
   "language": "python",
   "name": "python3"
  },
  "language_info": {
   "codemirror_mode": {
    "name": "ipython",
    "version": 3
   },
   "file_extension": ".py",
   "mimetype": "text/x-python",
   "name": "python",
   "nbconvert_exporter": "python",
   "pygments_lexer": "ipython3",
   "version": "3.8.10"
  }
 },
 "nbformat": 4,
 "nbformat_minor": 4
}
