{
 "cells": [
  {
   "cell_type": "markdown",
   "metadata": {},
   "source": [
    "# CSV Prep\n",
    "Process the 30 H&E WSI from Martinez.\n",
    "Previously, the CellProfiler Process100 pipeline ran on WSI patches in batches.\n",
    "The batches were designed to meet processing time requirements,\n",
    "with several patients per batch as time allowed.\n",
    "Here, we reorganize the data by patient."
   ]
  },
  {
   "cell_type": "code",
   "execution_count": 1,
   "metadata": {},
   "outputs": [],
   "source": [
    "import numpy as np\n",
    "import pandas as pd\n",
    "import os"
   ]
  },
  {
   "cell_type": "code",
   "execution_count": 2,
   "metadata": {},
   "outputs": [],
   "source": [
    "BASE_PATH='/home/jrm/Martinez/CellProfilerRuns/CP_20220705/'\n",
    "INPUT_DIRS=[\n",
    "'HEcenterpatch.train.Yneg.A3-A5/',\n",
    "'HEcenterpatch.train.Yneg.B13/',\n",
    "'HEcenterpatch.train.Yneg.C11-D3/',\n",
    "'HEcenterpatch.train.Yneg.E5/',\n",
    "'HEcenterpatch.train.Yneg.F3-F15/',\n",
    "'HEcenterpatch.train.Yneg.G15-H15/',\n",
    "'HEcenterpatch.train.Ypos.B7-D5/',\n",
    "'HEcenterpatch.train.Ypos.E7-F9/',\n",
    "'HEcenterpatch.train.Ypos.G3-I13/',\n",
    "'HEcenterpatch.valid.Yneg/',\n",
    "'HEcenterpatch.valid.Ypos/']\n",
    "FILENAMES=[\n",
    "'Process100_Image.csv',\n",
    "'Process100_Cells.csv',\n",
    "'Process100_ExpandCells.csv',\n",
    "'Process100_Experiment.csv',\n",
    "'Process100_MergeRBC.csv',\n",
    "'Process100_Nucleus.csv',\n",
    "'Process100_RBC.csv',\n",
    "'Process100_ShrinkRBC.csv',\n",
    "'Process100_Tissue.csv']"
   ]
  },
  {
   "cell_type": "code",
   "execution_count": 3,
   "metadata": {},
   "outputs": [],
   "source": [
    "def drop_cols(df,cols):\n",
    "    if len(cols)>0:\n",
    "        df = df.drop(columns=cols) \n",
    "    return df"
   ]
  },
  {
   "cell_type": "code",
   "execution_count": 4,
   "metadata": {},
   "outputs": [],
   "source": [
    "def drop_bad_cols(df):\n",
    "    bad_cols = [c for c in df.columns if c.startswith('ExecutionTime_')]\n",
    "    df = drop_cols(df,bad_cols)\n",
    "    bad_cols = [c for c in df.columns if c.endswith('_Tumor')]\n",
    "    df = drop_cols(df,bad_cols)\n",
    "    bad_cols = ['Group_Index','Group_Number','ImageSet_ImageSet','ProcessingStatus','Patient']\n",
    "    df = drop_cols(df,bad_cols)\n",
    "    return df"
   ]
  },
  {
   "cell_type": "code",
   "execution_count": 5,
   "metadata": {},
   "outputs": [],
   "source": [
    "def renumber_images(df):\n",
    "    min_image_num = min(df['ImageNumber'])\n",
    "    max_image_num = max(df['ImageNumber'])\n",
    "    print('Original ImageNumber min,max:',min_image_num,max_image_num)\n",
    "    for i in range(len(df)):\n",
    "        old_num=df.at[i,'ImageNumber']\n",
    "        df.at[i,'ImageNumber']=old_num-min_image_num+1\n",
    "    min_image_num = min(df['ImageNumber'])\n",
    "    max_image_num = max(df['ImageNumber'])\n",
    "    print('Revised ImageNumber min,max:',min_image_num,max_image_num)"
   ]
  },
  {
   "cell_type": "code",
   "execution_count": 6,
   "metadata": {},
   "outputs": [],
   "source": [
    "def save(df,dirname,filename):\n",
    "    outdir = BASE_PATH+dirname\n",
    "    try:\n",
    "        os.mkdir(outdir)\n",
    "    except FileExistsError:\n",
    "        print('Directory',dirname,'already exists. Will overwrite files in there.')\n",
    "    outfile = outdir+'/'+filename\n",
    "    df.to_csv(outfile)"
   ]
  },
  {
   "cell_type": "code",
   "execution_count": 7,
   "metadata": {},
   "outputs": [
    {
     "name": "stdout",
     "output_type": "stream",
     "text": [
      "Reading from /home/jrm/Martinez/CellProfilerRuns/CP_20220705/HEcenterpatch.train.Yneg.A3-A5/Process100_Image.csv\n",
      "Original dataframe shape: (2121, 5347)\n"
     ]
    }
   ],
   "source": [
    "dirnum=0  # start with first input directory\n",
    "filenum=0   # start with Image.csv\n",
    "infile = BASE_PATH+INPUT_DIRS[dirnum]+FILENAMES[filenum]\n",
    "print('Reading from',infile)\n",
    "TUMOR_COL='FileName_Tumor'\n",
    "PATIENT_COL='Patient'\n",
    "df = pd.read_csv(infile)\n",
    "print('Original dataframe shape:',df.shape)"
   ]
  },
  {
   "cell_type": "code",
   "execution_count": 8,
   "metadata": {},
   "outputs": [
    {
     "name": "stdout",
     "output_type": "stream",
     "text": [
      "Patients to process: ['A3_' 'A5_']\n"
     ]
    }
   ],
   "source": [
    "patient_column = df[TUMOR_COL].astype(str).str[:3]\n",
    "df[PATIENT_COL] = patient_column\n",
    "patients = df[PATIENT_COL].unique()\n",
    "print('Patients to process:',patients)"
   ]
  },
  {
   "cell_type": "code",
   "execution_count": 9,
   "metadata": {},
   "outputs": [
    {
     "name": "stdout",
     "output_type": "stream",
     "text": [
      "Patient A3_ num rows= 1022\n",
      "Original ImageNumber min,max: 1 1022\n",
      "Revised ImageNumber min,max: 1 1022\n",
      "Directory A3_ already exists. Will overwrite files in there.\n",
      "Saved patient A3_ dataframe shape: (1022, 5308)\n",
      "Patient A5_ num rows= 1099\n",
      "Original ImageNumber min,max: 1023 2121\n",
      "Revised ImageNumber min,max: 1 1099\n",
      "Directory A5_ already exists. Will overwrite files in there.\n",
      "Saved patient A5_ dataframe shape: (1099, 5308)\n"
     ]
    }
   ],
   "source": [
    "for one_patient in patients:\n",
    "    patient_data = df.loc[df[PATIENT_COL]==one_patient]\n",
    "    patient_data = patient_data.reset_index() # so iloc starts at zero\n",
    "    patient_data = drop_bad_cols(patient_data)\n",
    "    print('Patient',one_patient,'num rows=',len(patient_data))\n",
    "    renumber_images(patient_data)\n",
    "    save(patient_data,one_patient,FILENAMES[filenum])\n",
    "    print('Saved patient',one_patient,'dataframe shape:',patient_data.shape)"
   ]
  },
  {
   "cell_type": "code",
   "execution_count": null,
   "metadata": {},
   "outputs": [],
   "source": []
  }
 ],
 "metadata": {
  "kernelspec": {
   "display_name": "Python 3",
   "language": "python",
   "name": "python3"
  },
  "language_info": {
   "codemirror_mode": {
    "name": "ipython",
    "version": 3
   },
   "file_extension": ".py",
   "mimetype": "text/x-python",
   "name": "python",
   "nbconvert_exporter": "python",
   "pygments_lexer": "ipython3",
   "version": "3.8.10"
  }
 },
 "nbformat": 4,
 "nbformat_minor": 4
}
