{
 "cells": [
  {
   "cell_type": "markdown",
   "metadata": {},
   "source": [
    "# CSV Prep\n",
    "Process the 30 H&E WSI from Martinez.\n",
    "Previously, the CellProfiler Process100 pipeline ran on WSI patches in batches.\n",
    "The batches were designed to meet processing time requirements,\n",
    "with several patients per batch as time allowed.\n",
    "Here, we reorganize the data by patient."
   ]
  },
  {
   "cell_type": "code",
   "execution_count": 1,
   "metadata": {},
   "outputs": [],
   "source": [
    "import numpy as np\n",
    "import pandas as pd\n",
    "import os"
   ]
  },
  {
   "cell_type": "code",
   "execution_count": 2,
   "metadata": {},
   "outputs": [],
   "source": [
    "BASE_PATH='/home/jrm/Martinez/CellProfilerRuns/CP_20220705/'\n",
    "INPUT_DIRS=[\n",
    "'HEcenterpatch.train.Yneg.A3-A5/',\n",
    "'HEcenterpatch.train.Yneg.B13/',\n",
    "'HEcenterpatch.train.Yneg.C11-D3/',\n",
    "'HEcenterpatch.train.Yneg.E5/',\n",
    "'HEcenterpatch.train.Yneg.F3-F15/',\n",
    "'HEcenterpatch.train.Yneg.G15-H15/',\n",
    "'HEcenterpatch.train.Ypos.B7-D5/',\n",
    "'HEcenterpatch.train.Ypos.E7-F9/',\n",
    "'HEcenterpatch.train.Ypos.G3-I13/',\n",
    "'HEcenterpatch.valid.Yneg/',\n",
    "'HEcenterpatch.valid.Ypos/']\n",
    "FILENAMES=[\n",
    "'Process100_Image.csv',\n",
    "'Process100_Cells.csv',\n",
    "'Process100_ExpandCells.csv',\n",
    "'Process100_Experiment.csv',\n",
    "'Process100_MergeRBC.csv',\n",
    "'Process100_Nucleus.csv',\n",
    "'Process100_RBC.csv',\n",
    "'Process100_ShrinkRBC.csv',\n",
    "'Process100_Tissue.csv']"
   ]
  },
  {
   "cell_type": "code",
   "execution_count": 3,
   "metadata": {},
   "outputs": [],
   "source": [
    "def drop_cols(df,cols):\n",
    "    if len(cols)>0:\n",
    "        df = df.drop(columns=cols) \n",
    "    return df"
   ]
  },
  {
   "cell_type": "code",
   "execution_count": 4,
   "metadata": {},
   "outputs": [],
   "source": [
    "def drop_bad_cols(df):\n",
    "    bad_cols = [c for c in df.columns if c.startswith('ExecutionTime_')]\n",
    "    df = drop_cols(df,bad_cols)\n",
    "    bad_cols = [c for c in df.columns if c.endswith('_Tumor')]\n",
    "    df = drop_cols(df,bad_cols)\n",
    "    bad_cols = ['Group_Index','Group_Number','ImageSet_ImageSet','ProcessingStatus','Patient']\n",
    "    df = drop_cols(df,bad_cols)\n",
    "    return df"
   ]
  },
  {
   "cell_type": "code",
   "execution_count": 5,
   "metadata": {},
   "outputs": [],
   "source": [
    "def renumber_images(df):\n",
    "    min_image_num = min(patient_df['ImageNumber'])\n",
    "    max_image_num = max(patient_df['ImageNumber'])\n",
    "    print('Original ImageNumber min,max:',min_image_num,max_image_num)\n",
    "    for i in range(len(patient_df)):\n",
    "        old_num = patient_df.at[i,'ImageNumber']\n",
    "        patient_df.at[i,'ImageNumber']=old_num-min_image_num+1\n",
    "    min_image_num = min(patient_df['ImageNumber'])\n",
    "    max_image_num = max(patient_df['ImageNumber'])\n",
    "    print('Revised ImageNumber min,max:',min_image_num,max_image_num)\n"
   ]
  },
  {
   "cell_type": "code",
   "execution_count": 6,
   "metadata": {},
   "outputs": [
    {
     "data": {
      "text/plain": [
       "'/home/jrm/Martinez/CellProfilerRuns/CP_20220705/HEcenterpatch.train.Yneg.A3-A5/Process100_Image.csv'"
      ]
     },
     "execution_count": 6,
     "metadata": {},
     "output_type": "execute_result"
    }
   ],
   "source": [
    "dirnum=0  # start with first input directory\n",
    "filenum=0   # start with image.csv\n",
    "filename = BASE_PATH+INPUT_DIRS[dirnum]+FILENAMES[filenum]\n",
    "filename"
   ]
  },
  {
   "cell_type": "code",
   "execution_count": 7,
   "metadata": {},
   "outputs": [
    {
     "name": "stdout",
     "output_type": "stream",
     "text": [
      "Reading Process100_Image.csv\n",
      "Rows in the input file: 2121\n"
     ]
    }
   ],
   "source": [
    "TUMOR_COL='FileName_Tumor'\n",
    "PATIENT_COL='Patient'\n",
    "df = pd.read_csv(filename)\n",
    "print('Reading',FILENAMES[filenum])\n",
    "print('Rows in the input file:',len(df))"
   ]
  },
  {
   "cell_type": "code",
   "execution_count": 8,
   "metadata": {},
   "outputs": [
    {
     "name": "stdout",
     "output_type": "stream",
     "text": [
      "Original dataframe shape: (2121, 5348)\n"
     ]
    },
    {
     "data": {
      "text/plain": [
       "array(['A3_', 'A5_'], dtype=object)"
      ]
     },
     "execution_count": 8,
     "metadata": {},
     "output_type": "execute_result"
    }
   ],
   "source": [
    "patient_column = df[TUMOR_COL].astype(str).str[:3]\n",
    "df[PATIENT_COL] = patient_column\n",
    "print('Original dataframe shape:',df.shape)\n",
    "patients = df[PATIENT_COL].unique()\n",
    "patients"
   ]
  },
  {
   "cell_type": "code",
   "execution_count": 9,
   "metadata": {},
   "outputs": [
    {
     "data": {
      "text/plain": [
       "'A3_'"
      ]
     },
     "execution_count": 9,
     "metadata": {},
     "output_type": "execute_result"
    }
   ],
   "source": [
    "patient_num=0   # start with first patient\n",
    "one_patient=patients[patient_num]\n",
    "one_patient"
   ]
  },
  {
   "cell_type": "code",
   "execution_count": 10,
   "metadata": {},
   "outputs": [],
   "source": [
    "patient_df = df.loc[df[PATIENT_COL]==one_patient]"
   ]
  },
  {
   "cell_type": "code",
   "execution_count": 11,
   "metadata": {},
   "outputs": [
    {
     "name": "stdout",
     "output_type": "stream",
     "text": [
      "Patient dataframe shape: (1022, 5307)\n"
     ]
    }
   ],
   "source": [
    "patient_df = drop_bad_cols(patient_df)\n",
    "print('Patient dataframe shape:',patient_df.shape)"
   ]
  },
  {
   "cell_type": "code",
   "execution_count": 12,
   "metadata": {},
   "outputs": [
    {
     "name": "stdout",
     "output_type": "stream",
     "text": [
      "Original ImageNumber min,max: 1 1022\n",
      "Revised ImageNumber min,max: 1 1022\n"
     ]
    }
   ],
   "source": [
    "renumber_images(df)"
   ]
  },
  {
   "cell_type": "code",
   "execution_count": 13,
   "metadata": {},
   "outputs": [
    {
     "name": "stdout",
     "output_type": "stream",
     "text": [
      "Make directory /home/jrm/Martinez/CellProfilerRuns/CP_20220705/A3_\n",
      "Directory already exists. Will overwrite files in there.\n"
     ]
    }
   ],
   "source": [
    "outdir = BASE_PATH+one_patient\n",
    "print('Make directory',outdir)\n",
    "try:\n",
    "    os.mkdir(outdir)\n",
    "except FileExistsError:\n",
    "    print('Directory already exists. Will overwrite files in there.')\n",
    "outfile = outdir+'/'+FILENAMES[filenum]"
   ]
  },
  {
   "cell_type": "code",
   "execution_count": 14,
   "metadata": {},
   "outputs": [],
   "source": [
    "patient_df.to_csv(outfile)"
   ]
  },
  {
   "cell_type": "code",
   "execution_count": null,
   "metadata": {},
   "outputs": [],
   "source": []
  }
 ],
 "metadata": {
  "kernelspec": {
   "display_name": "Python 3",
   "language": "python",
   "name": "python3"
  },
  "language_info": {
   "codemirror_mode": {
    "name": "ipython",
    "version": 3
   },
   "file_extension": ".py",
   "mimetype": "text/x-python",
   "name": "python",
   "nbconvert_exporter": "python",
   "pygments_lexer": "ipython3",
   "version": "3.8.10"
  }
 },
 "nbformat": 4,
 "nbformat_minor": 4
}
