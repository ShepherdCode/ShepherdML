{
 "cells": [
  {
   "cell_type": "markdown",
   "metadata": {},
   "source": [
    "# Random Forest\n",
    "Classify H&E Image.csv rows.\n",
    "Later, filter by RBC stats."
   ]
  },
  {
   "cell_type": "code",
   "execution_count": 4,
   "metadata": {},
   "outputs": [
    {
     "name": "stdout",
     "output_type": "stream",
     "text": [
      "2022-07-14 14:11:11.849526\n",
      "Python 3.8.10\n",
      "sklearn 1.0.2\n"
     ]
    }
   ],
   "source": [
    "import datetime\n",
    "print(datetime.datetime.now())\n",
    "from platform import python_version\n",
    "print('Python',python_version())\n",
    "import numpy as np\n",
    "import pandas as pd\n",
    "import sklearn   # pip install --upgrade scikit-learn\n",
    "print('sklearn',sklearn.__version__)"
   ]
  },
  {
   "cell_type": "code",
   "execution_count": 5,
   "metadata": {},
   "outputs": [],
   "source": [
    "# This does stratified K-fold cross-validation with no shuffling.\n",
    "from sklearn.model_selection import cross_val_score\n",
    "# Shuffle X,y in tandem.\n",
    "from sklearn.utils import shuffle\n",
    "# This generates one split after shuffling. By default, not stratified.\n",
    "# from sklearn.model_selection import train_test_split\n",
    "\n",
    "#from sklearn.model_selection import RepeatedStratifiedKFold\n",
    "#from sklearn.ensemble import RandomForestClassifier\n",
    "#from sklearn.metrics import confusion_matrix\n",
    "#from sklearn.feature_selection import RFE\n",
    "#import joblib # used to dump/load sklearn models\n",
    "#from CellProfiler_Util import CP_Util\n",
    "#from RandomForestUtil import RF_Util"
   ]
  },
  {
   "cell_type": "code",
   "execution_count": 16,
   "metadata": {},
   "outputs": [
    {
     "name": "stdout",
     "output_type": "stream",
     "text": [
      "Count Ypos:Yneg 12 16\n"
     ]
    }
   ],
   "source": [
    "DF_Ypos = ['B7_','B15','D1_','D5_','E7_','E9_','F9_','G3_','H13','I1_','I5_','I13']\n",
    "DF_Yneg = ['A3_','A5_','B13','C1_','C11','D3_','E5_','F3_','F7_','F11','F15','G15','H1_','H3_','H7_','H15']\n",
    "print('Count Ypos:Yneg',len(DF_Ypos),len(DF_Yneg))"
   ]
  },
  {
   "cell_type": "code",
   "execution_count": 22,
   "metadata": {},
   "outputs": [
    {
     "name": "stdout",
     "output_type": "stream",
     "text": [
      "Fold 0 pos, neg: ['H13', 'I5_', 'G3_'] ['C1_', 'C11', 'F15', 'F3_']\n",
      "Fold 1 pos, neg: ['E9_', 'D1_', 'F9_'] ['E5_', 'H15', 'F7_', 'A5_']\n",
      "Fold 2 pos, neg: ['D5_', 'B15', 'E7_'] ['A3_', 'H7_', 'H1_', 'B13']\n",
      "Fold 3 pos, neg: ['I1_', 'B7_', 'I13'] ['D3_', 'F11', 'G15', 'H3_']\n"
     ]
    }
   ],
   "source": [
    "rpos = shuffle(DF_Ypos)\n",
    "rneg = shuffle(DF_Yneg)\n",
    "folds_pos = [rpos[0:3],rpos[3:6],rpos[6:9],rpos[9:12]]\n",
    "folds_neg = [rneg[0:4],rneg[4:8],rneg[8:12],rneg[12:16]]\n",
    "for i in range(4):\n",
    "    print('Fold %d pos, neg:'%i,end=' ')\n",
    "    print(folds_pos[i],folds_neg[i])"
   ]
  },
  {
   "cell_type": "code",
   "execution_count": 14,
   "metadata": {},
   "outputs": [],
   "source": [
    "y_pos = np.ones(len(DF_Ypos))\n",
    "y_neg = np.zeros(len(DF_Yneg))\n",
    "patient_y = np.concatenate( (y_pos,y_neg) )\n",
    "patient_X = np.concatenate( (DF_Ypos,DF_Yneg))"
   ]
  },
  {
   "cell_type": "code",
   "execution_count": 15,
   "metadata": {},
   "outputs": [
    {
     "data": {
      "text/plain": [
       "[array([1., 1., 1., 1., 1., 1., 1., 1., 1., 1., 1., 1., 0., 0., 0., 0., 0.,\n",
       "        0., 0., 0., 0., 0., 0., 0., 0., 0., 0., 0., 0.])]"
      ]
     },
     "execution_count": 15,
     "metadata": {},
     "output_type": "execute_result"
    }
   ],
   "source": [
    "split_X,split_y = train_test_split( (patient_X,patient_y) )\n",
    "split_y"
   ]
  },
  {
   "cell_type": "code",
   "execution_count": null,
   "metadata": {},
   "outputs": [],
   "source": []
  }
 ],
 "metadata": {
  "kernelspec": {
   "display_name": "Python 3",
   "language": "python",
   "name": "python3"
  },
  "language_info": {
   "codemirror_mode": {
    "name": "ipython",
    "version": 3
   },
   "file_extension": ".py",
   "mimetype": "text/x-python",
   "name": "python",
   "nbconvert_exporter": "python",
   "pygments_lexer": "ipython3",
   "version": "3.8.10"
  }
 },
 "nbformat": 4,
 "nbformat_minor": 4
}
