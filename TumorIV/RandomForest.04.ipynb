{
 "cells": [
  {
   "cell_type": "markdown",
   "metadata": {},
   "source": [
    "# Random Forest\n",
    "Like notebook 03, use outputs of CSV_prep and CSV_filter.\n",
    "Now, do 4-fold cross-validation instead of just one round."
   ]
  },
  {
   "cell_type": "code",
   "execution_count": 1,
   "metadata": {},
   "outputs": [
    {
     "name": "stdout",
     "output_type": "stream",
     "text": [
      "2022-07-15 09:38:36.161740\n",
      "Python 3.8.10\n",
      "sklearn 1.0.2\n"
     ]
    }
   ],
   "source": [
    "import datetime\n",
    "print(datetime.datetime.now())\n",
    "from platform import python_version\n",
    "print('Python',python_version())\n",
    "import numpy as np\n",
    "import pandas as pd\n",
    "import matplotlib as plt\n",
    "import sklearn   # pip install --upgrade scikit-learn\n",
    "print('sklearn',sklearn.__version__)"
   ]
  },
  {
   "cell_type": "code",
   "execution_count": 2,
   "metadata": {},
   "outputs": [],
   "source": [
    "# Shuffle X,y in tandem.\n",
    "from sklearn.utils import shuffle\n",
    "# The model\n",
    "from sklearn.ensemble import RandomForestClassifier\n",
    "\n",
    "# This generates one split after shuffling. By default, not stratified.\n",
    "# from sklearn.model_selection import train_test_split\n",
    "# This does stratified K-fold cross-validation with no shuffling.\n",
    "# from sklearn.model_selection import cross_val_score\n",
    "\n",
    "#from sklearn.model_selection import RepeatedStratifiedKFold\n",
    "#from sklearn.metrics import confusion_matrix\n",
    "#from sklearn.feature_selection import RFE\n",
    "#import joblib # used to dump/load sklearn models\n",
    "#from CellProfiler_Util import CP_Util\n",
    "#from RandomForestUtil import RF_Util"
   ]
  },
  {
   "cell_type": "markdown",
   "metadata": {},
   "source": [
    "## Prepare train and valid sets"
   ]
  },
  {
   "cell_type": "code",
   "execution_count": 3,
   "metadata": {},
   "outputs": [
    {
     "name": "stdout",
     "output_type": "stream",
     "text": [
      "All patients ['B7_', 'B15', 'D1_', 'D5_', 'E7_', 'E9_', 'F9_', 'G3_', 'H13', 'I1_', 'I5_', 'I13', 'A3_', 'A5_', 'B13', 'C1_', 'C11', 'D3_', 'E5_', 'F3_', 'F7_', 'F11', 'F15', 'G15', 'H1_', 'H3_', 'H7_', 'H15']\n",
      "Count Ypos:Yneg 12 16\n",
      "Hold out these patients for validation in each cross-validation fold.\n",
      "Fold 0 pos, neg: ['B7_', 'I1_', 'I13'] ['H7_', 'F7_', 'F3_', 'C1_']\n",
      "Fold 1 pos, neg: ['D1_', 'B15', 'G3_'] ['C11', 'E5_', 'D3_', 'H3_']\n",
      "Fold 2 pos, neg: ['I5_', 'F9_', 'E7_'] ['A3_', 'H15', 'A5_', 'H1_']\n",
      "Fold 3 pos, neg: ['D5_', 'E9_', 'H13'] ['F11', 'B13', 'F15', 'G15']\n"
     ]
    }
   ],
   "source": [
    "# Prepare to divy up patches stratified by patient.\n",
    "DF_Ypos = ['B7_','B15','D1_','D5_','E7_','E9_','F9_','G3_','H13','I1_','I5_','I13']\n",
    "DF_Yneg = ['A3_','A5_','B13','C1_','C11','D3_','E5_','F3_','F7_','F11','F15','G15','H1_','H3_','H7_','H15']\n",
    "ALL_PATIENTS = DF_Ypos + DF_Yneg\n",
    "NUM_FOLDS=4  # because both sets have size = multiple of 4\n",
    "print('All patients',ALL_PATIENTS)\n",
    "print('Count Ypos:Yneg',len(DF_Ypos),len(DF_Yneg))\n",
    "print('Hold out these patients for validation in each cross-validation fold.')\n",
    "def make_folds():\n",
    "    rpos = shuffle(DF_Ypos)  # fix random state?\n",
    "    rneg = shuffle(DF_Yneg)  # fix random state?\n",
    "    folds_pos = [rpos[0:3],rpos[3:6],rpos[6:9],rpos[9:12]]\n",
    "    folds_neg = [rneg[0:4],rneg[4:8],rneg[8:12],rneg[12:16]]\n",
    "    for i in range(4):\n",
    "        print('Fold %d pos, neg:'%i,end=' ')\n",
    "        print(folds_pos[i],folds_neg[i])\n",
    "    return folds_pos,folds_neg\n",
    "Ypos_valid_patients,Yneg_valid_patients = make_folds()"
   ]
  },
  {
   "cell_type": "code",
   "execution_count": 4,
   "metadata": {},
   "outputs": [],
   "source": [
    "BASE_PATH='/home/jrm/Martinez/CellProfilerRuns/CP_20220705/'\n",
    "FILENAME='Filtered_Image.csv'\n",
    "def load_patient(p):\n",
    "    filepath=BASE_PATH+p+'/'+FILENAME\n",
    "    df = pd.read_csv(filepath)\n",
    "    return df"
   ]
  },
  {
   "cell_type": "code",
   "execution_count": 5,
   "metadata": {},
   "outputs": [],
   "source": [
    "def load_patients(fold):\n",
    "    train_patients = list(ALL_PATIENTS)  # this will shrink\n",
    "    valid_patients = []   # this will grow\n",
    "    for patient in Ypos_valid_patients[fold]:\n",
    "        train_patients.remove(patient)\n",
    "        valid_patients.append(patient)\n",
    "    for patient in Yneg_valid_patients[fold]:\n",
    "        train_patients.remove(patient)\n",
    "        valid_patients.append(patient)\n",
    "    return train_patients,valid_patients"
   ]
  },
  {
   "cell_type": "code",
   "execution_count": 6,
   "metadata": {},
   "outputs": [],
   "source": [
    "# Load csv rows for one fold\n",
    "def load_fold(fold,train_patients,valid_patients):\n",
    "    X_train=None\n",
    "    y_train=None\n",
    "    X_valid=None\n",
    "    y_valid=None\n",
    "    for patient in train_patients:\n",
    "        df = load_patient(patient)\n",
    "        func = np.ones\n",
    "        if patient not in DF_Ypos:\n",
    "            func = np.zeros\n",
    "        if X_train is None:\n",
    "            X_train = df\n",
    "            y_train = func(len(df))\n",
    "        else:\n",
    "            X_train = pd.concat( (X_train,df) )\n",
    "            y_train = np.concatenate( (y_train, func(len(df))))\n",
    "    for patient in valid_patients:\n",
    "        df = load_patient(patient)\n",
    "        func = np.ones\n",
    "        if patient not in DF_Ypos:\n",
    "            func = np.zeros\n",
    "        if X_valid is None:\n",
    "            X_valid = df\n",
    "            y_valid = func(len(df))\n",
    "        else:\n",
    "            X_valid = pd.concat( (X_valid,df) )\n",
    "            y_valid = np.concatenate( (y_valid, func(len(df))))\n",
    "    return X_train,y_train,X_valid,y_valid\n",
    "\n"
   ]
  },
  {
   "cell_type": "markdown",
   "metadata": {},
   "source": [
    "## Random Forest"
   ]
  },
  {
   "cell_type": "code",
   "execution_count": 7,
   "metadata": {},
   "outputs": [
    {
     "name": "stdout",
     "output_type": "stream",
     "text": [
      "2022-07-15 09:38:36.572190\n",
      "Fold 0 train patients\n",
      "['B15', 'D1_', 'D5_', 'E7_', 'E9_', 'F9_', 'G3_', 'H13', 'I5_', 'A3_', 'A5_', 'B13', 'C11', 'D3_', 'E5_', 'F11', 'F15', 'G15', 'H1_', 'H3_', 'H15']\n",
      "Fold 0 valid patients\n",
      "['B7_', 'I1_', 'I13', 'H7_', 'F7_', 'F3_', 'C1_']\n",
      "Fold: 0 Patch Train set X: (5231, 5305) y: 5231\n",
      "Fold: 0 Patch Valid set X: (1722, 5305) y: 1722\n",
      "Fold 0 Validation Accuracy: 52.555168408826944\n",
      "2022-07-15 09:38:59.202307\n",
      "Fold 1 train patients\n",
      "['B7_', 'D5_', 'E7_', 'E9_', 'F9_', 'H13', 'I1_', 'I5_', 'I13', 'A3_', 'A5_', 'B13', 'C1_', 'F3_', 'F7_', 'F11', 'F15', 'G15', 'H1_', 'H7_', 'H15']\n",
      "Fold 1 valid patients\n",
      "['D1_', 'B15', 'G3_', 'C11', 'E5_', 'D3_', 'H3_']\n",
      "Fold: 1 Patch Train set X: (5216, 5305) y: 5216\n",
      "Fold: 1 Patch Valid set X: (1737, 5305) y: 1737\n",
      "Fold 1 Validation Accuracy: 59.93091537132988\n",
      "2022-07-15 09:39:20.965383\n",
      "Fold 2 train patients\n",
      "['B7_', 'B15', 'D1_', 'D5_', 'E9_', 'G3_', 'H13', 'I1_', 'I13', 'B13', 'C1_', 'C11', 'D3_', 'E5_', 'F3_', 'F7_', 'F11', 'F15', 'G15', 'H3_', 'H7_']\n",
      "Fold 2 valid patients\n",
      "['I5_', 'F9_', 'E7_', 'A3_', 'H15', 'A5_', 'H1_']\n",
      "Fold: 2 Patch Train set X: (5242, 5305) y: 5242\n",
      "Fold: 2 Patch Valid set X: (1711, 5305) y: 1711\n",
      "Fold 2 Validation Accuracy: 59.32203389830509\n",
      "2022-07-15 09:39:44.523903\n",
      "Fold 3 train patients\n",
      "['B7_', 'B15', 'D1_', 'E7_', 'F9_', 'G3_', 'I1_', 'I5_', 'I13', 'A3_', 'A5_', 'C1_', 'C11', 'D3_', 'E5_', 'F3_', 'F7_', 'H1_', 'H3_', 'H7_', 'H15']\n",
      "Fold 3 valid patients\n",
      "['D5_', 'E9_', 'H13', 'F11', 'B13', 'F15', 'G15']\n",
      "Fold: 3 Patch Train set X: (5170, 5305) y: 5170\n",
      "Fold: 3 Patch Valid set X: (1783, 5305) y: 1783\n",
      "Fold 3 Validation Accuracy: 75.43466068424004\n",
      "2022-07-15 09:40:06.624002\n"
     ]
    }
   ],
   "source": [
    "print(datetime.datetime.now())\n",
    "accuracies = []\n",
    "for fold in range(NUM_FOLDS):\n",
    "    train_patients,valid_patients = load_patients(fold)  \n",
    "    print('Fold %d train patients'%fold)\n",
    "    print(train_patients)\n",
    "    print('Fold %d valid patients'%fold)\n",
    "    print(valid_patients)\n",
    "\n",
    "    X_train,y_train,X_valid,y_valid = load_fold(fold,train_patients,valid_patients)\n",
    "    print('Fold:',fold,'Patch Train set X:',X_train.shape,'y:',len(y_train))\n",
    "    print('Fold:',fold,'Patch Valid set X:',X_valid.shape,'y:',len(y_valid))\n",
    "    \n",
    "    rfc = RandomForestClassifier()\n",
    "    rfc.fit(X_train,y_train)\n",
    "    \n",
    "    y_pred = rfc.predict(X_valid)\n",
    "    matches = np.count_nonzero(y_valid==y_pred)\n",
    "    accuracy = 100.0 * matches / len(y_pred)\n",
    "    accuracies.append(accuracy)\n",
    "    print('Fold',fold,'Validation Accuracy:',accuracy)\n",
    "    print(datetime.datetime.now())"
   ]
  },
  {
   "cell_type": "code",
   "execution_count": 8,
   "metadata": {},
   "outputs": [
    {
     "name": "stdout",
     "output_type": "stream",
     "text": [
      "Cross validation accuracy: [52.555168408826944, 59.93091537132988, 59.32203389830509, 75.43466068424004]\n",
      "mean: 61.81069459067549 std: 8.381590227646447\n"
     ]
    }
   ],
   "source": [
    "print('Cross validation accuracy:',accuracies)\n",
    "print('mean:',np.mean(accuracies),'std:',np.std(accuracies))\n"
   ]
  }
 ],
 "metadata": {
  "kernelspec": {
   "display_name": "Python 3",
   "language": "python",
   "name": "python3"
  },
  "language_info": {
   "codemirror_mode": {
    "name": "ipython",
    "version": 3
   },
   "file_extension": ".py",
   "mimetype": "text/x-python",
   "name": "python",
   "nbconvert_exporter": "python",
   "pygments_lexer": "ipython3",
   "version": "3.8.10"
  }
 },
 "nbformat": 4,
 "nbformat_minor": 4
}
