{
 "cells": [
  {
   "cell_type": "markdown",
   "metadata": {},
   "source": [
    "# Random Forest\n",
    "Like notebook 03, use outputs of CSV_prep and CSV_filter.\n",
    "Now, do 4-fold cross-validation instead of just one round."
   ]
  },
  {
   "cell_type": "code",
   "execution_count": 1,
   "metadata": {},
   "outputs": [
    {
     "name": "stdout",
     "output_type": "stream",
     "text": [
      "2022-07-15 10:41:48.975679\n",
      "Python 3.8.10\n",
      "sklearn 1.0.2\n"
     ]
    }
   ],
   "source": [
    "import datetime\n",
    "print(datetime.datetime.now())\n",
    "from platform import python_version\n",
    "print('Python',python_version())\n",
    "import numpy as np\n",
    "import pandas as pd\n",
    "import matplotlib as plt\n",
    "import random\n",
    "import sklearn   # pip install --upgrade scikit-learn\n",
    "print('sklearn',sklearn.__version__)"
   ]
  },
  {
   "cell_type": "code",
   "execution_count": 2,
   "metadata": {},
   "outputs": [],
   "source": [
    "# Shuffle X,y in tandem -- can cause shape problems\n",
    "from sklearn.utils import shuffle\n",
    "# The model\n",
    "from sklearn.ensemble import RandomForestClassifier\n",
    "\n",
    "# This generates one split after shuffling. By default, not stratified.\n",
    "# from sklearn.model_selection import train_test_split\n",
    "# This does stratified K-fold cross-validation with no shuffling.\n",
    "# from sklearn.model_selection import cross_val_score\n",
    "\n",
    "#from sklearn.model_selection import RepeatedStratifiedKFold\n",
    "#from sklearn.metrics import confusion_matrix\n",
    "#from sklearn.feature_selection import RFE\n",
    "#import joblib # used to dump/load sklearn models\n",
    "#from CellProfiler_Util import CP_Util\n",
    "#from RandomForestUtil import RF_Util"
   ]
  },
  {
   "cell_type": "markdown",
   "metadata": {},
   "source": [
    "## Prepare train and valid sets"
   ]
  },
  {
   "cell_type": "code",
   "execution_count": 3,
   "metadata": {},
   "outputs": [],
   "source": [
    "def list_shuffle(X):   # could use skilearn shuffle instead\n",
    "    L = len(X)\n",
    "    for i in range(L):\n",
    "        r = random.randrange(0,L)\n",
    "        if i!=r:\n",
    "            temp = X[i]\n",
    "            X[i] = X[r]\n",
    "            X[r] = temp\n",
    "    return X"
   ]
  },
  {
   "cell_type": "code",
   "execution_count": 4,
   "metadata": {},
   "outputs": [
    {
     "name": "stdout",
     "output_type": "stream",
     "text": [
      "All patients ['B7_', 'B15', 'D1_', 'D5_', 'E7_', 'E9_', 'F9_', 'G3_', 'H13', 'I1_', 'I5_', 'I13', 'A3_', 'A5_', 'B13', 'C1_', 'C11', 'D3_', 'E5_', 'F3_', 'F7_', 'F11', 'F15', 'G15', 'H1_', 'H3_', 'H7_', 'H15']\n",
      "Count Ypos:Yneg 12 16\n",
      "Hold out these patients for validation in each cross-validation fold.\n",
      "Fold 0 pos, neg: ['D5_', 'E7_', 'B15'] ['D3_', 'A5_', 'C11', 'H7_']\n",
      "Fold 1 pos, neg: ['I13', 'B7_', 'G3_'] ['F11', 'A3_', 'B13', 'H3_']\n",
      "Fold 2 pos, neg: ['I1_', 'H13', 'E9_'] ['H1_', 'G15', 'F15', 'E5_']\n",
      "Fold 3 pos, neg: ['F9_', 'D1_', 'I5_'] ['H15', 'F3_', 'F7_', 'C1_']\n"
     ]
    }
   ],
   "source": [
    "# Prepare to divy up patches stratified by patient.\n",
    "DF_Ypos = ['B7_','B15','D1_','D5_','E7_','E9_','F9_','G3_','H13','I1_','I5_','I13']\n",
    "DF_Yneg = ['A3_','A5_','B13','C1_','C11','D3_','E5_','F3_','F7_','F11','F15','G15','H1_','H3_','H7_','H15']\n",
    "ALL_PATIENTS = DF_Ypos + DF_Yneg\n",
    "NUM_FOLDS=4  # because both sets have size = multiple of 4\n",
    "print('All patients',ALL_PATIENTS)\n",
    "print('Count Ypos:Yneg',len(DF_Ypos),len(DF_Yneg))\n",
    "print('Hold out these patients for validation in each cross-validation fold.')\n",
    "def make_folds():\n",
    "    rpos = list_shuffle(DF_Ypos)  # fix random state?\n",
    "    rneg = list_shuffle(DF_Yneg)  # fix random state?\n",
    "    folds_pos = [rpos[0:3],rpos[3:6],rpos[6:9],rpos[9:12]]\n",
    "    folds_neg = [rneg[0:4],rneg[4:8],rneg[8:12],rneg[12:16]]\n",
    "    for i in range(4):\n",
    "        print('Fold %d pos, neg:'%i,end=' ')\n",
    "        print(folds_pos[i],folds_neg[i])\n",
    "    return folds_pos,folds_neg\n",
    "Ypos_valid_patients,Yneg_valid_patients = make_folds()"
   ]
  },
  {
   "cell_type": "code",
   "execution_count": 5,
   "metadata": {},
   "outputs": [],
   "source": [
    "BASE_PATH='/home/jrm/Martinez/CellProfilerRuns/CP_20220705/'\n",
    "FILENAME='Filtered_Image.csv'\n",
    "def load_patient(p):\n",
    "    filepath=BASE_PATH+p+'/'+FILENAME\n",
    "    df = pd.read_csv(filepath)\n",
    "    return df"
   ]
  },
  {
   "cell_type": "code",
   "execution_count": 6,
   "metadata": {},
   "outputs": [],
   "source": [
    "def load_patients(fold):\n",
    "    train_patients = list(ALL_PATIENTS)  # this will shrink\n",
    "    valid_patients = []   # this will grow\n",
    "    for patient in Ypos_valid_patients[fold]:\n",
    "        train_patients.remove(patient)\n",
    "        valid_patients.append(patient)\n",
    "    for patient in Yneg_valid_patients[fold]:\n",
    "        train_patients.remove(patient)\n",
    "        valid_patients.append(patient)\n",
    "    return train_patients,valid_patients"
   ]
  },
  {
   "cell_type": "code",
   "execution_count": 7,
   "metadata": {},
   "outputs": [],
   "source": [
    "# Load csv rows for one fold\n",
    "def load_fold(fold,train_patients,valid_patients):\n",
    "    X_train=None\n",
    "    y_train=None\n",
    "    X_valid=None\n",
    "    y_valid=None\n",
    "    for patient in train_patients:\n",
    "        df = load_patient(patient)\n",
    "        func = np.ones\n",
    "        if patient not in DF_Ypos:\n",
    "            func = np.zeros\n",
    "        if X_train is None:\n",
    "            X_train = df\n",
    "            y_train = func(len(df))\n",
    "        else:\n",
    "            X_train = pd.concat( (X_train,df) )\n",
    "            y_train = np.concatenate( (y_train, func(len(df))))\n",
    "    for patient in valid_patients:\n",
    "        df = load_patient(patient)\n",
    "        func = np.ones\n",
    "        if patient not in DF_Ypos:\n",
    "            func = np.zeros\n",
    "        if X_valid is None:\n",
    "            X_valid = df\n",
    "            y_valid = func(len(df))\n",
    "        else:\n",
    "            X_valid = pd.concat( (X_valid,df) )\n",
    "            y_valid = np.concatenate( (y_valid, func(len(df))))\n",
    "    return X_train,y_train,X_valid,y_valid\n",
    "\n"
   ]
  },
  {
   "cell_type": "markdown",
   "metadata": {},
   "source": [
    "## Random Forest"
   ]
  },
  {
   "cell_type": "code",
   "execution_count": 8,
   "metadata": {},
   "outputs": [
    {
     "name": "stdout",
     "output_type": "stream",
     "text": [
      "\n",
      "2022-07-15 10:41:55.874495\n",
      "Fold 0 patients train ['B7_', 'D1_', 'E9_', 'F9_', 'G3_', 'H13', 'I1_', 'I5_', 'I13', 'A3_', 'B13', 'C1_', 'E5_', 'F3_', 'F7_', 'F11', 'F15', 'G15', 'H1_', 'H3_', 'H15'] patients valid ['D5_', 'E7_', 'B15', 'D3_', 'A5_', 'C11', 'H7_']\n",
      "Fold: 0 patches train (5305, 5305) patches valid (1648, 5305)\n",
      "Fold 0 Validation Accuracy: 65.77669902912622\n",
      "\n",
      "2022-07-15 10:42:19.280829\n",
      "Fold 1 patients train ['B15', 'D1_', 'D5_', 'E7_', 'E9_', 'F9_', 'H13', 'I1_', 'I5_', 'A5_', 'C1_', 'C11', 'D3_', 'E5_', 'F3_', 'F7_', 'F15', 'G15', 'H1_', 'H7_', 'H15'] patients valid ['I13', 'B7_', 'G3_', 'F11', 'A3_', 'B13', 'H3_']\n",
      "Fold: 1 patches train (5299, 5305) patches valid (1654, 5305)\n",
      "Fold 1 Validation Accuracy: 64.32889963724304\n",
      "\n",
      "2022-07-15 10:42:42.044554\n",
      "Fold 2 patients train ['B7_', 'B15', 'D1_', 'D5_', 'E7_', 'F9_', 'G3_', 'I5_', 'I13', 'A3_', 'A5_', 'B13', 'C1_', 'C11', 'D3_', 'F3_', 'F7_', 'F11', 'H3_', 'H7_', 'H15'] patients valid ['I1_', 'H13', 'E9_', 'H1_', 'G15', 'F15', 'E5_']\n",
      "Fold: 2 patches train (5119, 5305) patches valid (1834, 5305)\n",
      "Fold 2 Validation Accuracy: 69.3565976008724\n",
      "\n",
      "2022-07-15 10:43:04.042006\n",
      "Fold 3 patients train ['B7_', 'B15', 'D5_', 'E7_', 'E9_', 'G3_', 'H13', 'I1_', 'I13', 'A3_', 'A5_', 'B13', 'C11', 'D3_', 'E5_', 'F11', 'F15', 'G15', 'H1_', 'H3_', 'H7_'] patients valid ['F9_', 'D1_', 'I5_', 'H15', 'F3_', 'F7_', 'C1_']\n",
      "Fold: 3 patches train (5136, 5305) patches valid (1817, 5305)\n",
      "Fold 3 Validation Accuracy: 59.65877820583379\n"
     ]
    }
   ],
   "source": [
    "accuracies = []\n",
    "for fold in range(NUM_FOLDS):\n",
    "    train_patients,valid_patients = load_patients(fold)  \n",
    "    X_train,y_train,X_valid,y_valid = load_fold(fold,train_patients,valid_patients)\n",
    "    print()\n",
    "    print(datetime.datetime.now())\n",
    "    print('Fold',fold,'patients train',train_patients,'patients valid',valid_patients)\n",
    "    print('Fold:',fold,'patches train',X_train.shape,'patches valid',X_valid.shape)\n",
    "    # CNN models are sensitive to train set order but RF models are not. \n",
    "    X_train,y_train = shuffle(X_train,y_train)\n",
    "    rfc = RandomForestClassifier()\n",
    "    rfc.fit(X_train,y_train)  # slow\n",
    "    \n",
    "    y_pred = rfc.predict(X_valid)\n",
    "    matches = np.count_nonzero(y_valid==y_pred)\n",
    "    accuracy = 100.0 * matches / len(y_pred)\n",
    "    accuracies.append(accuracy)\n",
    "    print('Fold',fold,'Validation Accuracy:',accuracy)"
   ]
  },
  {
   "cell_type": "code",
   "execution_count": 9,
   "metadata": {},
   "outputs": [
    {
     "name": "stdout",
     "output_type": "stream",
     "text": [
      "2022-07-15 10:43:21.362792\n",
      "Cross validation patch-level accuracy: [65.77669902912622, 64.32889963724304, 69.3565976008724, 59.65877820583379]\n",
      "mean: 64.78024361826887 std: 3.4773933671607815\n"
     ]
    }
   ],
   "source": [
    "print(datetime.datetime.now())\n",
    "print('Cross validation patch-level accuracy:',accuracies)\n",
    "print('mean:',np.mean(accuracies),'std:',np.std(accuracies))\n"
   ]
  }
 ],
 "metadata": {
  "kernelspec": {
   "display_name": "Python 3",
   "language": "python",
   "name": "python3"
  },
  "language_info": {
   "codemirror_mode": {
    "name": "ipython",
    "version": 3
   },
   "file_extension": ".py",
   "mimetype": "text/x-python",
   "name": "python",
   "nbconvert_exporter": "python",
   "pygments_lexer": "ipython3",
   "version": "3.8.10"
  }
 },
 "nbformat": 4,
 "nbformat_minor": 4
}
