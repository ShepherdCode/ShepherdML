{
 "cells": [
  {
   "cell_type": "markdown",
   "metadata": {},
   "source": [
    "# Regularization.\n",
    "Textbook by Charu Aggarwal. Chap 4. Exercise 4.\n",
    "\n",
    "Implement autoencoder on Ionosphere data. \n",
    "Try no noise, yes regularization.\n",
    "Then try gaussian noise, no regularization.\n",
    "Are they the same?"
   ]
  },
  {
   "cell_type": "code",
   "execution_count": 1,
   "metadata": {},
   "outputs": [],
   "source": [
    "# Repeat steps from previous notebook to obtain the data.\n",
    "from datapackage import Package\n",
    "package = Package('https://datahub.io/machine-learning/ionosphere/datapackage.json')\n",
    "for resource in package.resources:\n",
    "    if resource.descriptor['datahub']['type'] == 'derived/csv':\n",
    "        ion_resource = resource\n",
    "ion_table = ion_resource.read()\n",
    "from sklearn.model_selection import train_test_split\n",
    "import numpy as np\n",
    "np_ion=np.array(ion_table)\n",
    "np_ion.shape\n",
    "X=np_ion[:,:34]\n",
    "y=np_ion[:,34:35]\n",
    "X.shape,y.shape\n",
    "X_train,X_test,y_train,y_test = train_test_split(X,y)\n",
    "y_train=y_train.ravel()\n",
    "y_test=y_test.ravel()\n",
    "X_train.shape,y_train.shape\n",
    "from sklearn.preprocessing import StandardScaler # possibly not needed\n",
    "scaler=StandardScaler()\n",
    "scaler.fit(X_train)\n",
    "X_train=scaler.transform(X_train)\n",
    "X_test=scaler.transform(X_test)"
   ]
  },
  {
   "cell_type": "markdown",
   "metadata": {},
   "source": [
    "## Wait\n",
    "The sklearn library does not have an autoencoder class.\n",
    "We have to learn to build one with sklearn components.\n",
    "This will be covered in Geron chapter 17 so let's wait."
   ]
  },
  {
   "cell_type": "code",
   "execution_count": null,
   "metadata": {},
   "outputs": [],
   "source": []
  }
 ],
 "metadata": {
  "kernelspec": {
   "display_name": "Python 3",
   "language": "python",
   "name": "python3"
  },
  "language_info": {
   "codemirror_mode": {
    "name": "ipython",
    "version": 3
   },
   "file_extension": ".py",
   "mimetype": "text/x-python",
   "name": "python",
   "nbconvert_exporter": "python",
   "pygments_lexer": "ipython3",
   "version": "3.8.3"
  }
 },
 "nbformat": 4,
 "nbformat_minor": 2
}
