{
 "cells": [
  {
   "cell_type": "markdown",
   "metadata": {},
   "source": [
    "# Pretrained D&E classifier\n"
   ]
  },
  {
   "cell_type": "code",
   "execution_count": 1,
   "metadata": {},
   "outputs": [
    {
     "name": "stdout",
     "output_type": "stream",
     "text": [
      "numpy==1.22.1\n",
      "json==2.0.9\n",
      "keras.api._v2.keras==2.7.0\n",
      "pandas==1.4.0\n"
     ]
    }
   ],
   "source": [
    "import time\n",
    "import os\n",
    "#  os.environ['CUDA_VISIBLE_DEVICES'] = \"0\"   # turns off GPU?\n",
    "import glob\n",
    "#import cv2 # OpenCV-Python\n",
    "#from PIL import Image\n",
    "#Image.MAX_IMAGE_PIXELS = None\n",
    "import numpy as np\n",
    "import json\n",
    "from tensorflow import keras\n",
    "import keras.layers as kl\n",
    "import pandas as pd\n",
    "import matplotlib.pyplot as plt\n",
    "\n",
    "from tensorflow.keras.applications.vgg16 import VGG16\n",
    "from tensorflow.keras.preprocessing import image\n",
    "from tensorflow.keras.applications.vgg16 import preprocess_input\n",
    "\n",
    "print('\\n'.join(f'{m.__name__}=={m.__version__}' for m in globals().values() if getattr(m, '__version__', None)))"
   ]
  },
  {
   "cell_type": "code",
   "execution_count": 2,
   "metadata": {},
   "outputs": [
    {
     "name": "stdout",
     "output_type": "stream",
     "text": [
      "Will reuse model at /home/jrm/Martinez/models/DF_Filter.032\n"
     ]
    }
   ],
   "source": [
    "DIR_IMAGES_IN = \"/home/jrm/Martinez/images/Crop/\"  \n",
    "PATCH_SIZE=224  # matches VGG\n",
    "DIR_MODELS = \"/home/jrm/Martinez/models/\"\n",
    "FILE_MODEL = \"DF_Filter.032\"  # load the old model\n",
    "filepath=DIR_MODELS+FILE_MODEL\n",
    "print(\"Will reuse model at \"+filepath)\n",
    "BATCH_SIZE = 32\n",
    "IMG_SIZE = (PATCH_SIZE,PATCH_SIZE)\n",
    "CHANNELS = 3"
   ]
  },
  {
   "cell_type": "code",
   "execution_count": 5,
   "metadata": {
    "scrolled": true
   },
   "outputs": [
    {
     "name": "stdout",
     "output_type": "stream",
     "text": [
      "Found 114 files belonging to 2 classes.\n"
     ]
    }
   ],
   "source": [
    "test_dir = os.path.join(DIR_IMAGES_IN, 'test/')\n",
    "test_dataset = keras.utils.image_dataset_from_directory(\n",
    "    test_dir, shuffle=False, batch_size=BATCH_SIZE, image_size=IMG_SIZE)\n"
   ]
  },
  {
   "cell_type": "code",
   "execution_count": 6,
   "metadata": {},
   "outputs": [],
   "source": [
    "# Normalize color channel ints to floats (0,1)\n",
    "# See https://www.tensorflow.org/tutorials/load_data/images\n",
    "\n",
    "normalization_layer = kl.Rescaling(1.0/255.0)\n",
    "test_dataset = test_dataset.map(lambda x, y: (normalization_layer(x), y))\n"
   ]
  },
  {
   "cell_type": "code",
   "execution_count": 8,
   "metadata": {
    "scrolled": true
   },
   "outputs": [
    {
     "name": "stdout",
     "output_type": "stream",
     "text": [
      "(32, 224, 224, 3)\n",
      "tf.Tensor([0 0 0 0 0 0 0 0 0 0 0 0 0 0 0 0 0 0 0 0 0 0 0 0 0 0 0 0 0 0 0 0], shape=(32,), dtype=int32)\n",
      "(32, 224, 224, 3)\n",
      "tf.Tensor([0 0 0 0 0 0 0 0 0 0 1 1 1 1 1 1 1 1 1 1 1 1 1 1 1 1 1 1 1 1 1 1], shape=(32,), dtype=int32)\n",
      "(32, 224, 224, 3)\n",
      "tf.Tensor([1 1 1 1 1 1 1 1 1 1 1 1 1 1 1 1 1 1 1 1 1 1 1 1 1 1 1 1 1 1 1 1], shape=(32,), dtype=int32)\n",
      "(18, 224, 224, 3)\n",
      "tf.Tensor([1 1 1 1 1 1 1 1 1 1 1 1 1 1 1 1 1 1], shape=(18,), dtype=int32)\n"
     ]
    }
   ],
   "source": [
    "iterator = test_dataset.take(10)\n",
    "for x in iterator:\n",
    "    print(x[0].shape)\n",
    "    print(x[1])"
   ]
  },
  {
   "cell_type": "code",
   "execution_count": 11,
   "metadata": {},
   "outputs": [
    {
     "name": "stdout",
     "output_type": "stream",
     "text": [
      "Elapsed time: 3.7473862171173096\n"
     ]
    }
   ],
   "source": [
    "model = keras.models.load_model(filepath)\n",
    "start = time.time()\n",
    "hist = model.predict(test_dataset)\n",
    "end = time.time()\n",
    "print(\"Elapsed time:\",end-start)"
   ]
  },
  {
   "cell_type": "code",
   "execution_count": 13,
   "metadata": {},
   "outputs": [
    {
     "data": {
      "text/plain": [
       "114"
      ]
     },
     "execution_count": 13,
     "metadata": {},
     "output_type": "execute_result"
    }
   ],
   "source": [
    "len(hist)"
   ]
  },
  {
   "cell_type": "code",
   "execution_count": 12,
   "metadata": {},
   "outputs": [
    {
     "data": {
      "text/plain": [
       "array([[0.913375  , 0.08662494],\n",
       "       [0.956854  , 0.04314594],\n",
       "       [0.9181756 , 0.08182438],\n",
       "       [0.92338324, 0.07661674],\n",
       "       [0.9569172 , 0.04308278],\n",
       "       [0.9769359 , 0.02306407],\n",
       "       [0.93002975, 0.06997027],\n",
       "       [0.9630819 , 0.03691813],\n",
       "       [0.9600411 , 0.03995889],\n",
       "       [0.87550193, 0.12449808],\n",
       "       [0.9543028 , 0.04569717],\n",
       "       [0.9575114 , 0.04248863],\n",
       "       [0.9504416 , 0.04955845],\n",
       "       [0.93712145, 0.0628785 ],\n",
       "       [0.5765299 , 0.42347005],\n",
       "       [0.92178714, 0.07821278],\n",
       "       [0.94896996, 0.05103   ],\n",
       "       [0.8572042 , 0.14279585],\n",
       "       [0.8620676 , 0.1379324 ],\n",
       "       [0.9541091 , 0.04589095],\n",
       "       [0.95545477, 0.04454524],\n",
       "       [0.64876246, 0.3512375 ],\n",
       "       [0.9454828 , 0.05451715],\n",
       "       [0.89506304, 0.10493696],\n",
       "       [0.9638355 , 0.03616458],\n",
       "       [0.94273365, 0.05726637],\n",
       "       [0.7994587 , 0.20054132],\n",
       "       [0.9588838 , 0.04111622],\n",
       "       [0.9657557 , 0.03424437],\n",
       "       [0.9283492 , 0.0716508 ],\n",
       "       [0.91344416, 0.08655588],\n",
       "       [0.9673587 , 0.03264126],\n",
       "       [0.8400434 , 0.15995662],\n",
       "       [0.9432416 , 0.05675835],\n",
       "       [0.7144087 , 0.28559136],\n",
       "       [0.9263161 , 0.0736839 ],\n",
       "       [0.975958  , 0.02404195],\n",
       "       [0.7590409 , 0.24095912],\n",
       "       [0.9090841 , 0.09091591],\n",
       "       [0.9798135 , 0.02018642],\n",
       "       [0.9292124 , 0.07078762],\n",
       "       [0.9063837 , 0.0936163 ],\n",
       "       [0.9676309 , 0.03236907],\n",
       "       [0.95218015, 0.04781983],\n",
       "       [0.95405436, 0.04594566],\n",
       "       [0.86256105, 0.13743892],\n",
       "       [0.83478236, 0.16521765],\n",
       "       [0.6079402 , 0.39205983],\n",
       "       [0.7437622 , 0.25623783],\n",
       "       [0.9252858 , 0.07471422],\n",
       "       [0.9241762 , 0.07582382],\n",
       "       [0.90299076, 0.09700929],\n",
       "       [0.87225527, 0.12774469],\n",
       "       [0.97588444, 0.02411555],\n",
       "       [0.9592586 , 0.04074139],\n",
       "       [0.8725388 , 0.12746122],\n",
       "       [0.70931935, 0.29068062],\n",
       "       [0.9145064 , 0.08549356],\n",
       "       [0.9475859 , 0.05241412],\n",
       "       [0.9682248 , 0.03177519],\n",
       "       [0.98188573, 0.01811435],\n",
       "       [0.97394806, 0.02605196],\n",
       "       [0.7107953 , 0.28920478],\n",
       "       [0.9443804 , 0.05561962],\n",
       "       [0.96537405, 0.034626  ],\n",
       "       [0.8200764 , 0.1799236 ],\n",
       "       [0.90830755, 0.09169243],\n",
       "       [0.9648877 , 0.03511236],\n",
       "       [0.9551488 , 0.0448512 ],\n",
       "       [0.954601  , 0.04539904],\n",
       "       [0.95643836, 0.04356166],\n",
       "       [0.5539053 , 0.44609466],\n",
       "       [0.7818867 , 0.21811335],\n",
       "       [0.9546383 , 0.04536171],\n",
       "       [0.9026301 , 0.0973699 ],\n",
       "       [0.96557426, 0.03442571],\n",
       "       [0.91522527, 0.08477476],\n",
       "       [0.9765545 , 0.02344547],\n",
       "       [0.99039173, 0.00960833],\n",
       "       [0.9090528 , 0.0909472 ],\n",
       "       [0.5659737 , 0.4340263 ],\n",
       "       [0.7762978 , 0.22370218],\n",
       "       [0.91312903, 0.08687092],\n",
       "       [0.97027516, 0.0297248 ],\n",
       "       [0.9156096 , 0.08439038],\n",
       "       [0.9310678 , 0.06893221],\n",
       "       [0.96136945, 0.03863051],\n",
       "       [0.9408898 , 0.05911026],\n",
       "       [0.7360502 , 0.26394975],\n",
       "       [0.72089154, 0.27910843],\n",
       "       [0.4827317 , 0.51726836],\n",
       "       [0.8989011 , 0.10109894],\n",
       "       [0.7325947 , 0.26740524],\n",
       "       [0.98034006, 0.01965994],\n",
       "       [0.9256129 , 0.07438706],\n",
       "       [0.9069719 , 0.09302815],\n",
       "       [0.937739  , 0.06226099],\n",
       "       [0.9668537 , 0.03314638],\n",
       "       [0.49467912, 0.5053209 ],\n",
       "       [0.6032397 , 0.39676028],\n",
       "       [0.9436564 , 0.05634358],\n",
       "       [0.9625194 , 0.03748054],\n",
       "       [0.28223214, 0.7177679 ],\n",
       "       [0.94495434, 0.05504571],\n",
       "       [0.81796676, 0.18203326],\n",
       "       [0.63408566, 0.36591431],\n",
       "       [0.55899745, 0.44100252],\n",
       "       [0.33130622, 0.6686938 ],\n",
       "       [0.89602494, 0.10397507],\n",
       "       [0.88418984, 0.11581015],\n",
       "       [0.8689182 , 0.13108185],\n",
       "       [0.82634664, 0.1736534 ],\n",
       "       [0.29100102, 0.708999  ],\n",
       "       [0.8581258 , 0.14187416]], dtype=float32)"
      ]
     },
     "execution_count": 12,
     "metadata": {},
     "output_type": "execute_result"
    }
   ],
   "source": [
    "hist"
   ]
  },
  {
   "cell_type": "code",
   "execution_count": null,
   "metadata": {},
   "outputs": [],
   "source": []
  }
 ],
 "metadata": {
  "kernelspec": {
   "display_name": "Python 3",
   "language": "python",
   "name": "python3"
  },
  "language_info": {
   "codemirror_mode": {
    "name": "ipython",
    "version": 3
   },
   "file_extension": ".py",
   "mimetype": "text/x-python",
   "name": "python",
   "nbconvert_exporter": "python",
   "pygments_lexer": "ipython3",
   "version": "3.8.10"
  }
 },
 "nbformat": 4,
 "nbformat_minor": 4
}
