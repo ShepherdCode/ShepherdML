{
 "cells": [
  {
   "cell_type": "markdown",
   "metadata": {},
   "source": [
    "# Pretrained D&E classifier\n"
   ]
  },
  {
   "cell_type": "code",
   "execution_count": 1,
   "metadata": {},
   "outputs": [
    {
     "name": "stdout",
     "output_type": "stream",
     "text": [
      "numpy==1.22.1\n",
      "json==2.0.9\n",
      "keras.api._v2.keras==2.7.0\n",
      "pandas==1.4.0\n"
     ]
    }
   ],
   "source": [
    "import time\n",
    "import os\n",
    "#  os.environ['CUDA_VISIBLE_DEVICES'] = \"0\"   # turns off GPU?\n",
    "import glob\n",
    "#import cv2 # OpenCV-Python\n",
    "#from PIL import Image\n",
    "#Image.MAX_IMAGE_PIXELS = None\n",
    "import numpy as np\n",
    "import json\n",
    "from tensorflow import keras\n",
    "import keras.layers as kl\n",
    "import pandas as pd\n",
    "import matplotlib.pyplot as plt\n",
    "\n",
    "from tensorflow.keras.applications.vgg16 import VGG16\n",
    "from tensorflow.keras.preprocessing import image\n",
    "from tensorflow.keras.applications.vgg16 import preprocess_input\n",
    "\n",
    "print('\\n'.join(f'{m.__name__}=={m.__version__}' for m in globals().values() if getattr(m, '__version__', None)))"
   ]
  },
  {
   "cell_type": "code",
   "execution_count": 2,
   "metadata": {},
   "outputs": [
    {
     "name": "stdout",
     "output_type": "stream",
     "text": [
      "Will overwrite model at /home/jrm/Martinez/models/DF_Filter.032\n"
     ]
    }
   ],
   "source": [
    "DIR_IMAGES_IN = \"/home/jrm/Martinez/images/Crop/\"  \n",
    "PATCH_SIZE=224  # matches VGG\n",
    "DIR_MODELS = \"/home/jrm/Martinez/models/\"\n",
    "FILE_MODEL = \"DF_Filter.032\"\n",
    "filepath=DIR_MODELS+FILE_MODEL\n",
    "print(\"Will overwrite model at \"+filepath)\n",
    "BATCH_SIZE = 32\n",
    "IMG_SIZE = (PATCH_SIZE,PATCH_SIZE)\n",
    "CHANNELS = 3"
   ]
  },
  {
   "cell_type": "code",
   "execution_count": 3,
   "metadata": {},
   "outputs": [
    {
     "name": "stdout",
     "output_type": "stream",
     "text": [
      "Found 1880 files belonging to 2 classes.\n",
      "Found 13 files belonging to 2 classes.\n"
     ]
    }
   ],
   "source": [
    "train_dir = os.path.join(DIR_IMAGES_IN, 'train')\n",
    "valid_dir = os.path.join(DIR_IMAGES_IN, 'valid')\n",
    "train_dataset = keras.utils.image_dataset_from_directory(\n",
    "    train_dir, shuffle=True, batch_size=BATCH_SIZE, image_size=IMG_SIZE)\n",
    "valid_dataset = keras.utils.image_dataset_from_directory(\n",
    "    valid_dir, shuffle=True, batch_size=BATCH_SIZE, image_size=IMG_SIZE)\n"
   ]
  },
  {
   "cell_type": "code",
   "execution_count": 4,
   "metadata": {},
   "outputs": [],
   "source": [
    "# Normalize color channel ints to floats (0,1)\n",
    "# See https://www.tensorflow.org/tutorials/load_data/images\n",
    "\n",
    "normalization_layer = kl.Rescaling(1.0/255.0)\n",
    "train_dataset = train_dataset.map(lambda x, y: (normalization_layer(x), y))\n",
    "valid_dataset = valid_dataset.map(lambda x, y: (normalization_layer(x), y))"
   ]
  },
  {
   "cell_type": "code",
   "execution_count": 5,
   "metadata": {
    "scrolled": true
   },
   "outputs": [
    {
     "name": "stdout",
     "output_type": "stream",
     "text": [
      "(13, 224, 224, 3)\n",
      "tf.Tensor([1 1 0 0 0 0 0 0 1 1 0 1 1], shape=(13,), dtype=int32)\n"
     ]
    }
   ],
   "source": [
    "iterator = valid_dataset.take(10)\n",
    "for x in iterator:\n",
    "    print(x[0].shape)\n",
    "    print(x[1])"
   ]
  },
  {
   "cell_type": "markdown",
   "metadata": {},
   "source": [
    "## VGG\n",
    "https://keras.io/guides/transfer_learning/  \n",
    "https://towardsdatascience.com/step-by-step-guide-to-using-pretrained-models-in-keras-c9097b647b29  "
   ]
  },
  {
   "cell_type": "code",
   "execution_count": 6,
   "metadata": {},
   "outputs": [
    {
     "name": "stdout",
     "output_type": "stream",
     "text": [
      "Model: \"sequential\"\n",
      "_________________________________________________________________\n",
      " Layer (type)                Output Shape              Param #   \n",
      "=================================================================\n",
      " vgg16 (Functional)          (None, 7, 7, 512)         14714688  \n",
      "                                                                 \n",
      " flatten (Flatten)           (None, 25088)             0         \n",
      "                                                                 \n",
      " dense (Dense)               (None, 32)                802848    \n",
      "                                                                 \n",
      " dropout (Dropout)           (None, 32)                0         \n",
      "                                                                 \n",
      " dense_1 (Dense)             (None, 16)                528       \n",
      "                                                                 \n",
      " dropout_1 (Dropout)         (None, 16)                0         \n",
      "                                                                 \n",
      " dense_2 (Dense)             (None, 2)                 34        \n",
      "                                                                 \n",
      "=================================================================\n",
      "Total params: 15,518,098\n",
      "Trainable params: 803,410\n",
      "Non-trainable params: 14,714,688\n",
      "_________________________________________________________________\n"
     ]
    }
   ],
   "source": [
    "CLASSES = 2\n",
    "#base_model = VGG16(weights='imagenet',include_top=False)  # top= classification layer\n",
    "# optional: input_shape=(224, 224, 3)\n",
    "#base_model.trainable = False\n",
    "#inputs = keras.Input(shape=(PATCH_SIZE, PATCH_SIZE, CHANNELS))\n",
    "#x = base_model(inputs, training=False)\n",
    "\n",
    "#x = keras.layers.GlobalAveragePooling2D()(x)\n",
    "#outputs = keras.layers.Dense(CLASSES)(x)\n",
    "#model = keras.Model(inputs, outputs)\n",
    "\n",
    "#x = keras.layers.Flatten()(x)\n",
    "#outputs = keras.layers.Dense(CLASSES)(x)\n",
    "#model = keras.Model(inputs, outputs)\n",
    "\n",
    "VGG = VGG16(weights='imagenet',include_top=False,input_shape=(PATCH_SIZE, PATCH_SIZE, CHANNELS))\n",
    "VGG.trainable = False\n",
    "model = keras.models.Sequential()\n",
    "model.add(VGG)\n",
    "model.add(kl.Flatten())\n",
    "model.add(kl.Dense(32))\n",
    "model.add(kl.Dropout(0.25))\n",
    "model.add(kl.Dense(16))\n",
    "model.add(kl.Dropout(0.25))\n",
    "model.add(kl.Dense(CLASSES,activation=\"softmax\"))\n",
    "model.summary()"
   ]
  },
  {
   "cell_type": "markdown",
   "metadata": {},
   "source": [
    "## Optimizer = SGD or ADAM ?\n",
    "ADAM converges faster but SGD better in the long run.  \n",
    "https://medium.com/geekculture/a-2021-guide-to-improving-cnns-optimizers-adam-vs-sgd-495848ac6008"
   ]
  },
  {
   "cell_type": "code",
   "execution_count": 7,
   "metadata": {},
   "outputs": [
    {
     "name": "stdout",
     "output_type": "stream",
     "text": [
      "Epoch 1/25\n",
      "59/59 [==============================] - 7s 79ms/step - loss: 2.0993 - accuracy: 0.5186 - val_loss: 0.6994 - val_accuracy: 0.4615\n",
      "Epoch 2/25\n",
      "59/59 [==============================] - 3s 54ms/step - loss: 0.6908 - accuracy: 0.5681 - val_loss: 0.7796 - val_accuracy: 0.4615\n",
      "Epoch 3/25\n",
      "59/59 [==============================] - 3s 55ms/step - loss: 0.6716 - accuracy: 0.5894 - val_loss: 0.6532 - val_accuracy: 0.5385\n",
      "Epoch 4/25\n",
      "59/59 [==============================] - 3s 54ms/step - loss: 0.6632 - accuracy: 0.6399 - val_loss: 0.6785 - val_accuracy: 0.4615\n",
      "Epoch 5/25\n",
      "59/59 [==============================] - 3s 54ms/step - loss: 0.6229 - accuracy: 0.6814 - val_loss: 0.6056 - val_accuracy: 0.8462\n",
      "Epoch 6/25\n",
      "59/59 [==============================] - 3s 54ms/step - loss: 0.5722 - accuracy: 0.7138 - val_loss: 0.6570 - val_accuracy: 0.5385\n",
      "Epoch 7/25\n",
      "59/59 [==============================] - 3s 54ms/step - loss: 0.6189 - accuracy: 0.7117 - val_loss: 0.6133 - val_accuracy: 0.6154\n",
      "Epoch 8/25\n",
      "59/59 [==============================] - 3s 53ms/step - loss: 0.5615 - accuracy: 0.7527 - val_loss: 0.5289 - val_accuracy: 0.6154\n",
      "Epoch 9/25\n",
      "59/59 [==============================] - 3s 53ms/step - loss: 0.5231 - accuracy: 0.7468 - val_loss: 0.8282 - val_accuracy: 0.5385\n",
      "Epoch 10/25\n",
      "59/59 [==============================] - 3s 53ms/step - loss: 0.5061 - accuracy: 0.7713 - val_loss: 0.6114 - val_accuracy: 0.6923\n",
      "Epoch 11/25\n",
      "59/59 [==============================] - 3s 53ms/step - loss: 0.5036 - accuracy: 0.7644 - val_loss: 0.6566 - val_accuracy: 0.6154\n",
      "Epoch 12/25\n",
      "59/59 [==============================] - 3s 54ms/step - loss: 0.4925 - accuracy: 0.7787 - val_loss: 0.5143 - val_accuracy: 0.8462\n",
      "Epoch 13/25\n",
      "59/59 [==============================] - 3s 54ms/step - loss: 0.4476 - accuracy: 0.7915 - val_loss: 0.5002 - val_accuracy: 0.8462\n",
      "Epoch 14/25\n",
      "59/59 [==============================] - 3s 55ms/step - loss: 0.4072 - accuracy: 0.8229 - val_loss: 0.4651 - val_accuracy: 0.8462\n",
      "Epoch 15/25\n",
      "59/59 [==============================] - 3s 55ms/step - loss: 0.4614 - accuracy: 0.7856 - val_loss: 0.4697 - val_accuracy: 0.7692\n",
      "Epoch 16/25\n",
      "59/59 [==============================] - 3s 58ms/step - loss: 0.4022 - accuracy: 0.8202 - val_loss: 0.6595 - val_accuracy: 0.6923\n",
      "Epoch 17/25\n",
      "59/59 [==============================] - 3s 53ms/step - loss: 0.4197 - accuracy: 0.8037 - val_loss: 0.4687 - val_accuracy: 0.8462\n",
      "Epoch 18/25\n",
      "59/59 [==============================] - 3s 54ms/step - loss: 0.3981 - accuracy: 0.8176 - val_loss: 0.4508 - val_accuracy: 0.9231\n",
      "Epoch 19/25\n",
      "59/59 [==============================] - 3s 56ms/step - loss: 0.3713 - accuracy: 0.8378 - val_loss: 0.4773 - val_accuracy: 0.6154\n",
      "Epoch 20/25\n",
      "59/59 [==============================] - 4s 58ms/step - loss: 0.3727 - accuracy: 0.8447 - val_loss: 0.6246 - val_accuracy: 0.7692\n",
      "Epoch 21/25\n",
      "59/59 [==============================] - 4s 59ms/step - loss: 0.3836 - accuracy: 0.8410 - val_loss: 0.4915 - val_accuracy: 0.7692\n",
      "Epoch 22/25\n",
      "59/59 [==============================] - 4s 59ms/step - loss: 0.3169 - accuracy: 0.8835 - val_loss: 1.7564 - val_accuracy: 0.5385\n",
      "Epoch 23/25\n",
      "59/59 [==============================] - 4s 61ms/step - loss: 0.3622 - accuracy: 0.8628 - val_loss: 0.7872 - val_accuracy: 0.6923\n",
      "Epoch 24/25\n",
      "59/59 [==============================] - 4s 59ms/step - loss: 0.3646 - accuracy: 0.8569 - val_loss: 0.4743 - val_accuracy: 0.6154\n",
      "Epoch 25/25\n",
      "59/59 [==============================] - 4s 60ms/step - loss: 0.3226 - accuracy: 0.8723 - val_loss: 0.5111 - val_accuracy: 0.6154\n",
      "Elapsed time: 87.50525689125061\n"
     ]
    }
   ],
   "source": [
    "model.compile(loss=\"sparse_categorical_crossentropy\",\n",
    "           optimizer=\"sgd\",\n",
    "           metrics=[\"accuracy\"])\n",
    "EPOCHS=25\n",
    "start = time.time()\n",
    "hist = model.fit(train_dataset,validation_data=valid_dataset,epochs=EPOCHS)\n",
    "end = time.time()\n",
    "print(\"Elapsed time:\",end-start)"
   ]
  },
  {
   "cell_type": "code",
   "execution_count": 8,
   "metadata": {
    "scrolled": true
   },
   "outputs": [
    {
     "data": {
      "image/png": "[encoded data removed]",
      "text/plain": [
       "<Figure size 576x360 with 1 Axes>"
      ]
     },
     "metadata": {
      "needs_background": "light"
     },
     "output_type": "display_data"
    }
   ],
   "source": [
    "pd.DataFrame(hist.history).plot(figsize=(8,5))\n",
    "plt.grid(True)\n",
    "plt.gca().set_ylim(0.0,1.0)\n",
    "plt.show()"
   ]
  },
  {
   "cell_type": "code",
   "execution_count": 9,
   "metadata": {},
   "outputs": [
    {
     "name": "stdout",
     "output_type": "stream",
     "text": [
      "INFO:tensorflow:Assets written to: /home/jrm/Martinez/models/DF_Filter.032/assets\n"
     ]
    }
   ],
   "source": [
    "model.save(filepath)"
   ]
  },
  {
   "cell_type": "markdown",
   "metadata": {},
   "source": [
    "Training set: 23977 Ypos, 6917 Yneg. Pos=0.7761  \n",
    "Validation set: 5995 Ypos, 1729 Yneg. Pos= 0.7762  "
   ]
  },
  {
   "cell_type": "code",
   "execution_count": null,
   "metadata": {},
   "outputs": [],
   "source": []
  }
 ],
 "metadata": {
  "kernelspec": {
   "display_name": "Python 3",
   "language": "python",
   "name": "python3"
  },
  "language_info": {
   "codemirror_mode": {
    "name": "ipython",
    "version": 3
   },
   "file_extension": ".py",
   "mimetype": "text/x-python",
   "name": "python",
   "nbconvert_exporter": "python",
   "pygments_lexer": "ipython3",
   "version": "3.8.10"
  }
 },
 "nbformat": 4,
 "nbformat_minor": 4
}
