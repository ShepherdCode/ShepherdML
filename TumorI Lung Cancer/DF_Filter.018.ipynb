{
 "cells": [
  {
   "cell_type": "markdown",
   "metadata": {},
   "source": [
    "# Create mixed patch files\n",
    "\n",
    "Eventually we'll process full images directly while creating patches on the fly.  \n",
    "Here, save all patches to files.\n",
    "From 21 GB of raw images, writes 169 MB of patches."
   ]
  },
  {
   "cell_type": "code",
   "execution_count": 1,
   "metadata": {},
   "outputs": [],
   "source": [
    "import time\n",
    "import os\n",
    "#  os.environ['CUDA_VISIBLE_DEVICES'] = \"0\"   # turns off GPU?\n",
    "import glob\n",
    "import cv2 # OpenCV-Python\n",
    "from PIL import Image\n",
    "Image.MAX_IMAGE_PIXELS = None\n",
    "import numpy as np\n",
    "import json\n",
    "from tensorflow import keras\n",
    "import keras.layers as kl\n",
    "import pandas as pd\n",
    "import matplotlib.pyplot as plt\n"
   ]
  },
  {
   "cell_type": "code",
   "execution_count": 2,
   "metadata": {},
   "outputs": [],
   "source": [
    "DIR_IMAGES_RAW = \"/home/jrm/Martinez/images/raw/\"\n",
    "DIR_IMAGES_OUT = \"/home/jrm/Martinez/images/patches/\"\n",
    "PATTERN_IMAGES_RAW = \"*.DF1.*.tif\"\n",
    "PATCH_SIZE=224  # matches VGG\n",
    "DF_Ypos = ['B7.','B15','D1.','D5.','E7.','E9.','F9.','G3.','H13','I1.','I5.','I13']\n",
    "DF_Yneg = ['A3.','A5.','B13','C1.','C11','D3.','E5.','F3.','F7','F11','F13','F15','G15','H1.','H3.','H7.','H15']"
   ]
  },
  {
   "cell_type": "code",
   "execution_count": 3,
   "metadata": {},
   "outputs": [],
   "source": [
    "def get_image_names(path,pattern):\n",
    "    #RAW_IMAGE_NAMES = os.listdir(DIR_IMAGES_RAW)\n",
    "    paths = glob.glob(path+pattern)\n",
    "    names = [os.path.basename(x) for x in paths]\n",
    "    return names\n",
    "FILENAMES_IMAGES_RAW = get_image_names(DIR_IMAGES_RAW,PATTERN_IMAGES_RAW)"
   ]
  },
  {
   "cell_type": "code",
   "execution_count": 6,
   "metadata": {},
   "outputs": [],
   "source": [
    "class patch_maker:\n",
    "    def __init__(self):\n",
    "        self.path=\"\"\n",
    "        self.w=0\n",
    "        self.h=0\n",
    "        self.im_width = 0\n",
    "        self.im_height = 0\n",
    "        self.patch_size = 10 # scalar, assumed square for now\n",
    "        self.pixel_array = None\n",
    "        self.output_format='.jpg'\n",
    "    def set_input_path(self,path):\n",
    "        self.path=path\n",
    "    def set_patch_size(self,scalar):\n",
    "        self.patch_size = scalar\n",
    "    def load_pixel_array(self,filename,verbose=False):\n",
    "        self.w=0\n",
    "        self.h=0\n",
    "        im = Image.open(self.path+filename)\n",
    "        ima = np.array(im)   # convert to numpy\n",
    "        self.im_width = ima.shape[0]\n",
    "        self.im_height = ima.shape[1]    \n",
    "        if verbose:\n",
    "            print(filename, ima.size, ima.shape)\n",
    "        self.pixel_array = ima\n",
    "        return ima\n",
    "    def get_next_patch(self): \n",
    "        IM_WIDTH = self.im_width\n",
    "        IM_HEIGHT = self.im_height\n",
    "        PIXEL_ARRAY = self.pixel_array\n",
    "        patch = None\n",
    "        if self.w+self.patch_size > IM_WIDTH:\n",
    "            self.h += self.patch_size\n",
    "            self.w = 0\n",
    "        if self.w+self.patch_size <= IM_WIDTH and self.h+self.patch_size <= IM_HEIGHT:\n",
    "            patch = PIXEL_ARRAY[self.w:self.w+self.patch_size, self.h:self.h+self.patch_size]\n",
    "            self.w += self.patch_size\n",
    "        return patch\n",
    "    def save_patch (self, prefix, pnum, patch):\n",
    "        ext = self.output_format\n",
    "        path=DIR_IMAGES_OUT+prefix+'.'+str(pnum)+ext\n",
    "        im = Image.fromarray(patch)\n",
    "        im.save(path)"
   ]
  },
  {
   "cell_type": "code",
   "execution_count": 9,
   "metadata": {},
   "outputs": [
    {
     "name": "stdout",
     "output_type": "stream",
     "text": [
      "F15.DF1.135.tif  Filter1873 black, 262 blue, 34 green. Write 2839 pixels.\n",
      "H3.DF1.27.tif  Filter1509 black, 30 blue, 110 green. Write 2995 pixels.\n",
      "C11.DF1.96.tif  Filter1507 black, 16 blue, 292 green. Write 2827 pixels.\n",
      "C1.DF1.01.tif  Filter1735 black, 293 blue, 69 green. Write 2773 pixels.\n",
      "F11.DF1.94.tif  Filter1740 black, 375 blue, 54 green. Write 2706 pixels.\n",
      "H7.DF1.62.tif  Filter1849 black, 228 blue, 178 green. Write 2729 pixels.\n",
      "A3.DF1.26.tif  Filter1483 black, 1482 blue, 1 green. Write 1652 pixels.\n",
      "A5.DF1.45.tif  Filter889 black, 6 blue, 454 green. Write 2675 pixels.\n",
      "H15.DF1.132.tif  Filter1169 black, 0 blue, 66 green. Write 3069 pixels.\n",
      "G15.DF1.133.tif  Filter1902 black, 0 blue, 239 green. Write 2896 pixels.\n",
      "F3.DF1.22.tif  Filter1841 black, 41 blue, 430 green. Write 2664 pixels.\n",
      "B13.DF1.115.tif  Filter1608 black, 407 blue, 70 green. Write 2658 pixels.\n",
      "D3.DF1.20.tif  Filter1685 black, 4 blue, 325 green. Write 2806 pixels.\n",
      "E5.DF1.42.tif  Filter1474 black, 266 blue, 31 green. Write 2838 pixels.\n",
      "H1.DF1.07.tif  Filter356 black, 0 blue, 593 green. Write 2542 pixels.\n",
      "done\n"
     ]
    }
   ],
   "source": [
    "NO_GREEN_INTENSITY=np.array( [0,35,0] )\n",
    "NO_BLUE_INTENSITY=np.array( [0,0,30] )\n",
    "BACKGROUND_MAX=np.array( [20,20,20] )\n",
    "PATCH_THRESHOLD=PATCH_SIZE*PATCH_SIZE/2\n",
    "pm = patch_maker()\n",
    "pm.set_input_path(DIR_IMAGES_RAW)\n",
    "pm.set_patch_size(PATCH_SIZE)\n",
    "for filename in FILENAMES_IMAGES_RAW:\n",
    "    prefix = filename[0:3]\n",
    "    pnum = 0\n",
    "    blue = 0\n",
    "    black = 0\n",
    "    green = 0\n",
    "    if prefix in DF_Yneg:\n",
    "        print(filename,end=\" \")\n",
    "        pixels = pm.load_pixel_array(filename)\n",
    "        patch = pm.get_next_patch()\n",
    "        while patch is not None:\n",
    "            num_green_pixels = np.sum(np.all(patch >= NO_GREEN_INTENSITY,axis=2))\n",
    "            num_blue_pixels = np.sum(np.all(patch >= NO_BLUE_INTENSITY,axis=2))\n",
    "            num_background_pixels = np.sum(np.all(patch<BACKGROUND_MAX,axis=2))\n",
    "            if num_background_pixels>=PATCH_THRESHOLD:\n",
    "                black += 1\n",
    "            if num_blue_pixels>=10000 and num_blue_pixels>num_green_pixels*20:\n",
    "                blue += 1\n",
    "            elif num_green_pixels>=15000 and num_green_pixels>num_blue_pixels*2:\n",
    "                green += 1\n",
    "            else:\n",
    "                pnum += 1\n",
    "                pm.save_patch(prefix,pnum,patch)\n",
    "            patch = pm.get_next_patch()\n",
    "        print(\" Filter%d black, %d blue, %d green. Write %d pixels.\"%(black,blue,green,pnum))\n",
    "print('done')"
   ]
  },
  {
   "cell_type": "code",
   "execution_count": null,
   "metadata": {},
   "outputs": [],
   "source": []
  }
 ],
 "metadata": {
  "kernelspec": {
   "display_name": "Python 3",
   "language": "python",
   "name": "python3"
  },
  "language_info": {
   "codemirror_mode": {
    "name": "ipython",
    "version": 3
   },
   "file_extension": ".py",
   "mimetype": "text/x-python",
   "name": "python",
   "nbconvert_exporter": "python",
   "pygments_lexer": "ipython3",
   "version": "3.8.10"
  }
 },
 "nbformat": 4,
 "nbformat_minor": 4
}
