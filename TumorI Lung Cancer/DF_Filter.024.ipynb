{
 "cells": [
  {
   "cell_type": "markdown",
   "metadata": {},
   "source": [
    "# Train on curated set \n",
    "\n",
    "Based on DF_Filter.022  \n",
    "\n",
    "Tried data augmentation but gave up\n",
    "Data augmentation ideas (https://keras.io/examples/vision/image_classification_from_scratch/)  \n",
    "That page recommends preprocessing the data for CPU computing.  \n",
    "It recommends adding a layer to the model for GPU computing.  \n",
    "But model.save failes when we include that layer.   "
   ]
  },
  {
   "cell_type": "code",
   "execution_count": 1,
   "metadata": {},
   "outputs": [],
   "source": [
    "import time\n",
    "import os\n",
    "#  os.environ['CUDA_VISIBLE_DEVICES'] = \"0\"   # turns off GPU?\n",
    "import glob\n",
    "import cv2 # OpenCV-Python\n",
    "from PIL import Image\n",
    "Image.MAX_IMAGE_PIXELS = None\n",
    "import numpy as np\n",
    "import json\n",
    "from tensorflow import keras\n",
    "import keras.layers as kl\n",
    "import pandas as pd\n",
    "import matplotlib.pyplot as plt\n"
   ]
  },
  {
   "cell_type": "code",
   "execution_count": 2,
   "metadata": {},
   "outputs": [
    {
     "name": "stdout",
     "output_type": "stream",
     "text": [
      "Will overwrite model at /home/jrm/Martinez/models/CNN_SMALL_CURATED\n"
     ]
    }
   ],
   "source": [
    "DIR_IMAGES_IN = \"/home/jrm/Martinez/images/curated/\"  # was named cache\n",
    "DIR_IMAGES_TRAIN = DIR_IMAGES_IN+\"train/\"\n",
    "DIR_IMAGES_VALID = DIR_IMAGES_IN+\"valid/\"\n",
    "PATCH_SIZE=224  # matches VGG\n",
    "DIR_MODELS = \"/home/jrm/Martinez/models/\"\n",
    "FILE_MODEL = \"CNN_SMALL_CURATED\"\n",
    "filepath=DIR_MODELS+FILE_MODEL\n",
    "print(\"Will overwrite model at \"+filepath)"
   ]
  },
  {
   "cell_type": "code",
   "execution_count": 3,
   "metadata": {},
   "outputs": [],
   "source": [
    "if False:  # do this only once\n",
    "    # Move a portion of the train files into the valid directory.\n",
    "    from random import sample\n",
    "    VALIDATION_PORTION = 0.20\n",
    "    for color in ('blue','green','black'):\n",
    "        fromdir = DIR_IMAGES_TRAIN+color+\"/\"\n",
    "        todir   = DIR_IMAGES_VALID+color+\"/\"\n",
    "        files = os.listdir(fromdir)\n",
    "        total = len(files)\n",
    "        selected = sample(files, int(VALIDATION_PORTION*total))\n",
    "        for vfile in selected:\n",
    "            os.rename(fromdir+vfile,todir+vfile)\n",
    "    print(\"Done\")"
   ]
  },
  {
   "cell_type": "code",
   "execution_count": 5,
   "metadata": {},
   "outputs": [
    {
     "name": "stdout",
     "output_type": "stream",
     "text": [
      "Found 5993 files belonging to 3 classes.\n",
      "Found 1497 files belonging to 3 classes.\n"
     ]
    }
   ],
   "source": [
    "train_dir = DIR_IMAGES_TRAIN # = os.path.join(DIR_IMAGES_IN, 'train')\n",
    "valid_dir = DIR_IMAGES_VALID # = os.path.join(DIR_IMAGES_IN, 'valid')\n",
    "\n",
    "BATCH_SIZE = 32\n",
    "IMG_SIZE = (224,224)\n",
    "\n",
    "train_dataset = keras.utils.image_dataset_from_directory(\n",
    "    train_dir, shuffle=True, batch_size=BATCH_SIZE, image_size=IMG_SIZE)\n",
    "valid_dataset = keras.utils.image_dataset_from_directory(\n",
    "    valid_dir, shuffle=True, batch_size=BATCH_SIZE, image_size=IMG_SIZE)\n"
   ]
  },
  {
   "cell_type": "markdown",
   "metadata": {},
   "source": [
    "### Huh?\n",
    "InternalError: Failed copying input tensor from /job:localhost/replica:0/task:0/device:CPU:0 to /job:localhost/replica:0/task:0/device:GPU:0 in order to run _EagerConst: Dst tensor is not initialized.\n"
   ]
  },
  {
   "cell_type": "code",
   "execution_count": 6,
   "metadata": {},
   "outputs": [],
   "source": [
    "# Normalize color channel ints to floats (0,1)\n",
    "# See https://www.tensorflow.org/tutorials/load_data/images\n",
    "\n",
    "normalization_layer = kl.Rescaling(1.0/255.0)\n",
    "train_dataset = train_dataset.map(lambda x, y: (normalization_layer(x), y))\n",
    "valid_dataset = valid_dataset.map(lambda x, y: (normalization_layer(x), y))"
   ]
  },
  {
   "cell_type": "code",
   "execution_count": 7,
   "metadata": {},
   "outputs": [
    {
     "name": "stdout",
     "output_type": "stream",
     "text": [
      "(32, 224, 224, 3)\n",
      "tf.Tensor([1 0 0 2 1 1 1 0 0 1 0 0 2 2 0 1 0 1 1 0 1 0 1 0 0 1 0 2 0 2 1 0], shape=(32,), dtype=int32)\n"
     ]
    }
   ],
   "source": [
    "iterator = valid_dataset.take(1)\n",
    "for x in iterator:\n",
    "    print(x[0].shape)\n",
    "    print(x[1])"
   ]
  },
  {
   "cell_type": "code",
   "execution_count": 8,
   "metadata": {},
   "outputs": [],
   "source": [
    "ACTIVATION=\"tanh\"\n",
    "NUM_CLASSES = 3\n",
    "CHANNELS=3\n",
    "INPUT_SHAPE=[PATCH_SIZE,PATCH_SIZE,CHANNELS]\n",
    "cnn = keras.models.Sequential([\n",
    "    #kl.RandomFlip(),\n",
    "    kl.Conv2D(64,5,activation=ACTIVATION,padding=\"SAME\",input_shape=INPUT_SHAPE),\n",
    "    kl.MaxPooling2D(2),\n",
    "    kl.Conv2D(64,5,activation=ACTIVATION,padding=\"same\"),\n",
    "    kl.Conv2D(64,5,activation=ACTIVATION,padding=\"same\"),\n",
    "    kl.MaxPooling2D(2),   \n",
    "    kl.Conv2D(64,5,activation=ACTIVATION,padding=\"same\"),\n",
    "    kl.Conv2D(64,5,activation=ACTIVATION,padding=\"same\"),\n",
    "    kl.MaxPooling2D(2), \n",
    "    kl.Flatten(),\n",
    "    kl.Dense(32,activation=ACTIVATION),\n",
    "    kl.Dropout(0.5),\n",
    "    kl.Dense(16,activation=ACTIVATION),\n",
    "    kl.Dropout(0.5),    \n",
    "    kl.Dense(NUM_CLASSES,activation=\"softmax\")\n",
    "])\n"
   ]
  },
  {
   "cell_type": "code",
   "execution_count": 9,
   "metadata": {},
   "outputs": [
    {
     "name": "stdout",
     "output_type": "stream",
     "text": [
      "Epoch 1/5\n",
      "188/188 [==============================] - 16s 72ms/step - loss: 0.3554 - accuracy: 0.8769 - val_loss: 0.1253 - val_accuracy: 0.9486\n",
      "Epoch 2/5\n",
      "188/188 [==============================] - 13s 69ms/step - loss: 0.2290 - accuracy: 0.9192 - val_loss: 0.2295 - val_accuracy: 0.9279\n",
      "Epoch 3/5\n",
      "188/188 [==============================] - 13s 69ms/step - loss: 0.1968 - accuracy: 0.9329 - val_loss: 0.0978 - val_accuracy: 0.9706\n",
      "Epoch 4/5\n",
      "188/188 [==============================] - 13s 69ms/step - loss: 0.1662 - accuracy: 0.9469 - val_loss: 0.0780 - val_accuracy: 0.9713\n",
      "Epoch 5/5\n",
      "188/188 [==============================] - 13s 69ms/step - loss: 0.1416 - accuracy: 0.9566 - val_loss: 0.0364 - val_accuracy: 0.9893\n",
      "Elapsed time: 68.66399598121643\n"
     ]
    }
   ],
   "source": [
    "cnn.compile(loss=\"sparse_categorical_crossentropy\",\n",
    "           optimizer=\"sgd\",\n",
    "           metrics=[\"accuracy\"])\n",
    "EPOCHS=5\n",
    "start = time.time()\n",
    "hist = cnn.fit(train_dataset,validation_data=valid_dataset,epochs=EPOCHS)\n",
    "end = time.time()\n",
    "print(\"Elapsed time:\",end-start)"
   ]
  },
  {
   "cell_type": "code",
   "execution_count": 10,
   "metadata": {
    "scrolled": true
   },
   "outputs": [
    {
     "data": {
      "image/png": "[encoded data removed]",
      "text/plain": [
       "<Figure size 576x360 with 1 Axes>"
      ]
     },
     "metadata": {
      "needs_background": "light"
     },
     "output_type": "display_data"
    }
   ],
   "source": [
    "pd.DataFrame(hist.history).plot(figsize=(8,5))\n",
    "plt.grid(True)\n",
    "plt.gca().set_ylim(0.0,1.0)\n",
    "plt.show()"
   ]
  },
  {
   "cell_type": "code",
   "execution_count": 11,
   "metadata": {},
   "outputs": [
    {
     "name": "stdout",
     "output_type": "stream",
     "text": [
      "INFO:tensorflow:Assets written to: /home/jrm/Martinez/models/CNN_SMALL_CURATED/assets\n"
     ]
    }
   ],
   "source": [
    "cnn.save(filepath)"
   ]
  },
  {
   "cell_type": "markdown",
   "metadata": {},
   "source": [
    "### Huh?\n",
    "\n",
    "2022-02-22 12:37:17.960251: I tensorflow/stream_executor/cuda/cuda_driver.cc:739] failed to allocate 7.87M (8255232 bytes) from device: CUDA_ERROR_OUT_OF_MEMORY: out of memory\n",
    "\n",
    "2022-02-22 12:37:17.960302: W tensorflow/core/common_runtime/bfc_allocator.cc:462] Allocator (GPU_0_bfc) ran out of memory trying to allocate 8B (rounded to 256)requested by op _EagerConst\n",
    "If the cause is memory fragmentation maybe the environment variable 'TF_GPU_ALLOCATOR=cuda_malloc_async' will improve the situation. \n",
    "\n",
    "Current allocation summary follows.\n",
    "\n",
    "2022-02-22 12:37:17.960326: I tensorflow/core/common_runtime/bfc_allocator.cc:1010] BFCAllocator dump for GPU_0_bfc\n",
    "\n",
    "2022-02-22 12:37:17.960347: I tensorflow/core/common_runtime/bfc_allocator.cc:1017] Bin (256): \tTotal Chunks: 0, Chunks in use: 0. 0B allocated for chunks. 0B in use in bin. 0B client-requested in use in bin.\n",
    "\n",
    "2022-02-22 12:37:17.960366: I tensorflow/core/common_runtime/bfc_allocator.cc:1017] Bin (512): \tTotal Chunks: 0, Chunks in use: 0. 0B allocated for chunks. 0B in use in bin. 0B client-requested in use in bin.\n",
    "\n",
    "2022-02-22 12:37:17.960383: I tensorflow/core/common_runtime/bfc_allocator.cc:1017] Bin (1024): \tTotal Chunks: 0, Chunks in use: 0. 0B allocated for chunks. 0B in use in bin. 0B client-requested in use in bin.\n",
    "\n",
    "2022-02-22 12:37:17.960412: I tensorflow/core/common_runtime/bfc_allocator.cc:1017] Bin (2048): \tTotal Chunks: 1, Chunks in use: 1. 2.2KiB allocated for chunks. 2.2KiB in use in bin. 1.0KiB client-requested in use in bin.\n",
    "\n",
    "2022-02-22 12:37:17.960431: I tensorflow/core/common_runtime/bfc_allocator.cc:1017] Bin (4096): \tTotal Chunks: 0, Chunks in use: 0. 0B allocated for chunks. 0B in use in bin. 0B client-requested in use in bin."
   ]
  },
  {
   "cell_type": "code",
   "execution_count": null,
   "metadata": {},
   "outputs": [],
   "source": []
  }
 ],
 "metadata": {
  "kernelspec": {
   "display_name": "Python 3",
   "language": "python",
   "name": "python3"
  },
  "language_info": {
   "codemirror_mode": {
    "name": "ipython",
    "version": 3
   },
   "file_extension": ".py",
   "mimetype": "text/x-python",
   "name": "python",
   "nbconvert_exporter": "python",
   "pygments_lexer": "ipython3",
   "version": "3.8.10"
  }
 },
 "nbformat": 4,
 "nbformat_minor": 4
}
