{
 "cells": [
  {
   "cell_type": "markdown",
   "metadata": {},
   "source": [
    "# Toward patch-free:\n",
    "## Training"
   ]
  },
  {
   "cell_type": "code",
   "execution_count": 1,
   "metadata": {},
   "outputs": [],
   "source": [
    "import time\n",
    "import os\n",
    "#  os.environ['CUDA_VISIBLE_DEVICES'] = \"0\"   # turns off GPU?\n",
    "import glob\n",
    "#import cv2 # OpenCV-Python\n",
    "from PIL import Image\n",
    "Image.MAX_IMAGE_PIXELS = None\n",
    "import numpy as np\n",
    "import json\n",
    "from tensorflow import keras\n",
    "import keras.layers as kl\n",
    "import pandas as pd\n",
    "import matplotlib.pyplot as plt\n"
   ]
  },
  {
   "cell_type": "code",
   "execution_count": 2,
   "metadata": {},
   "outputs": [
    {
     "name": "stdout",
     "output_type": "stream",
     "text": [
      "Will overwrite model at /home/jrm/Martinez/models/PatchFree_002\n"
     ]
    }
   ],
   "source": [
    "DIR_IMAGES_IN = \"/home/jrm/Martinez/images/BigPatch/\"  \n",
    "PATCH_SIZE=224  # 224 matches VGG\n",
    "PATCH_SIZE=256\n",
    "# PATCH_SIZE=512    # dies\n",
    "# PATCH_SIZE=1024   # dies\n",
    "# PATCH_SIZE=2048   # kernel death at start of training\n",
    "DIR_MODELS = \"/home/jrm/Martinez/models/\"\n",
    "FILE_MODEL = \"PatchFree_002\" \n",
    "filepath=DIR_MODELS+FILE_MODEL\n",
    "print(\"Will overwrite model at \"+filepath)\n",
    "BATCH_SIZE = 32\n",
    "IMG_SIZE = (PATCH_SIZE,PATCH_SIZE)"
   ]
  },
  {
   "cell_type": "code",
   "execution_count": 3,
   "metadata": {},
   "outputs": [
    {
     "name": "stdout",
     "output_type": "stream",
     "text": [
      "Found 12903 files belonging to 2 classes.\n",
      "Found 3225 files belonging to 2 classes.\n"
     ]
    }
   ],
   "source": [
    "train_dir = os.path.join(DIR_IMAGES_IN, 'train')\n",
    "valid_dir = os.path.join(DIR_IMAGES_IN, 'valid')\n",
    "train_dataset = keras.utils.image_dataset_from_directory(\n",
    "    train_dir, shuffle=True, batch_size=BATCH_SIZE, image_size=IMG_SIZE)\n",
    "valid_dataset = keras.utils.image_dataset_from_directory(\n",
    "    valid_dir, shuffle=True, batch_size=BATCH_SIZE, image_size=IMG_SIZE)\n"
   ]
  },
  {
   "cell_type": "code",
   "execution_count": 4,
   "metadata": {},
   "outputs": [],
   "source": [
    "# Normalize color channel ints to floats (0,1)\n",
    "# See https://www.tensorflow.org/tutorials/load_data/images\n",
    "\n",
    "normalization_layer = kl.Rescaling(1.0/255.0)\n",
    "train_dataset = train_dataset.map(lambda x, y: (normalization_layer(x), y))\n",
    "valid_dataset = valid_dataset.map(lambda x, y: (normalization_layer(x), y))"
   ]
  },
  {
   "cell_type": "code",
   "execution_count": 5,
   "metadata": {},
   "outputs": [],
   "source": [
    "#iterator = valid_dataset.take(5)\n",
    "#for x in iterator:\n",
    "#    print(x[0].shape)\n",
    "#    print(x[1])"
   ]
  },
  {
   "cell_type": "code",
   "execution_count": 6,
   "metadata": {},
   "outputs": [],
   "source": [
    "ACTIVATION=\"tanh\"\n",
    "NUM_CLASSES = 2\n",
    "CHANNELS=3\n",
    "INPUT_SHAPE=[PATCH_SIZE,PATCH_SIZE,CHANNELS]\n",
    "cnn = keras.models.Sequential([\n",
    "    #kl.RandomFlip(),\n",
    "    kl.Conv2D(128,3,activation=ACTIVATION,padding=\"same\",input_shape=INPUT_SHAPE),\n",
    "    kl.MaxPooling2D(2),\n",
    "    kl.Conv2D(128,3,activation=ACTIVATION,padding=\"same\"),\n",
    "    kl.Conv2D(128,3,activation=ACTIVATION,padding=\"same\"),\n",
    "    kl.MaxPooling2D(2),   \n",
    "    kl.Conv2D(64,3,activation=ACTIVATION,padding=\"same\"),\n",
    "    kl.Conv2D(64,3,activation=ACTIVATION,padding=\"same\"),\n",
    "    kl.MaxPooling2D(2), \n",
    "    kl.Flatten(),\n",
    "    kl.Dense(32,activation=ACTIVATION),\n",
    "    kl.Dropout(0.5),\n",
    "    kl.Dense(16,activation=ACTIVATION),\n",
    "    kl.Dropout(0.5),    \n",
    "    kl.Dense(NUM_CLASSES,activation=\"softmax\")\n",
    "])\n"
   ]
  },
  {
   "cell_type": "code",
   "execution_count": 7,
   "metadata": {},
   "outputs": [
    {
     "name": "stdout",
     "output_type": "stream",
     "text": [
      "Epoch 1/5\n",
      "404/404 [==============================] - 59s 140ms/step - loss: 0.5505 - accuracy: 0.7820 - val_loss: 0.5208 - val_accuracy: 0.7857\n",
      "Epoch 2/5\n",
      "404/404 [==============================] - 56s 138ms/step - loss: 0.5293 - accuracy: 0.7856 - val_loss: 0.5227 - val_accuracy: 0.7857\n",
      "Epoch 3/5\n",
      "404/404 [==============================] - 56s 138ms/step - loss: 0.5275 - accuracy: 0.7857 - val_loss: 0.5195 - val_accuracy: 0.7857\n",
      "Epoch 4/5\n",
      "404/404 [==============================] - 55s 137ms/step - loss: 0.5220 - accuracy: 0.7855 - val_loss: 0.5194 - val_accuracy: 0.7857\n",
      "Epoch 5/5\n",
      "404/404 [==============================] - 55s 137ms/step - loss: 0.5212 - accuracy: 0.7857 - val_loss: 0.5198 - val_accuracy: 0.7857\n",
      "Elapsed time: 282.4208490848541\n"
     ]
    }
   ],
   "source": [
    "cnn.compile(loss=\"sparse_categorical_crossentropy\",\n",
    "           optimizer=\"sgd\",\n",
    "           metrics=[\"accuracy\"])\n",
    "EPOCHS=5\n",
    "start = time.time()\n",
    "hist = cnn.fit(train_dataset,validation_data=valid_dataset,epochs=EPOCHS)\n",
    "end = time.time()\n",
    "print(\"Elapsed time:\",end-start)"
   ]
  },
  {
   "cell_type": "code",
   "execution_count": 8,
   "metadata": {
    "scrolled": true
   },
   "outputs": [
    {
     "data": {
      "image/png": "[encoded data removed]",
      "text/plain": [
       "<Figure size 576x360 with 1 Axes>"
      ]
     },
     "metadata": {
      "needs_background": "light"
     },
     "output_type": "display_data"
    }
   ],
   "source": [
    "pd.DataFrame(hist.history).plot(figsize=(8,5))\n",
    "plt.grid(True)\n",
    "plt.gca().set_ylim(0.0,1.0)\n",
    "plt.show()"
   ]
  },
  {
   "cell_type": "code",
   "execution_count": 9,
   "metadata": {},
   "outputs": [],
   "source": [
    "# cnn.save(filepath)"
   ]
  },
  {
   "cell_type": "markdown",
   "metadata": {},
   "source": [
    "## Dies before epoch 1 with with patch size 2048"
   ]
  },
  {
   "cell_type": "markdown",
   "metadata": {},
   "source": [
    "## Dies during epoch 1 with patch size 1024"
   ]
  },
  {
   "cell_type": "code",
   "execution_count": 10,
   "metadata": {},
   "outputs": [
    {
     "ename": "SyntaxError",
     "evalue": "leading zeros in decimal integer literals are not permitted; use an 0o prefix for octal integers (<ipython-input-10-1dbbef6fc570>, line 1)",
     "output_type": "error",
     "traceback": [
      "\u001b[0;36m  File \u001b[0;32m\"<ipython-input-10-1dbbef6fc570>\"\u001b[0;36m, line \u001b[0;32m1\u001b[0m\n\u001b[0;31m    2022-04-05 14:24:44.298579: I tensorflow/core/common_runtime/bfc_allocator.cc:1017] Bin (268435456): \tTotal Chunks: 4, Chunks in use: 1. 9.00GiB allocated for chunks. 384.00MiB in use in bin. 384.00MiB client-requested in use in bin.\u001b[0m\n\u001b[0m          ^\u001b[0m\n\u001b[0;31mSyntaxError\u001b[0m\u001b[0;31m:\u001b[0m leading zeros in decimal integer literals are not permitted; use an 0o prefix for octal integers\n"
     ]
    }
   ],
   "source": [
    "2022-04-05 14:24:44.298579: I tensorflow/core/common_runtime/bfc_allocator.cc:1017] Bin (268435456): \tTotal Chunks: 4, Chunks in use: 1. 9.00GiB allocated for chunks. 384.00MiB in use in bin. 384.00MiB client-requested in use in bin.\n",
    "2022-04-05 14:24:44.298896: I tensorflow/core/common_runtime/bfc_allocator.cc:1033] Bin for 16.00GiB was 256.00MiB, Chunk State: \n",
    "2022-04-05 14:24:44.299127: I tensorflow/core/common_runtime/bfc_allocator.cc:1039]   Size: 256.00MiB | Requested Size: 128.00MiB | in_use: 0 | bin_num: 20, prev:   Size: 576.0KiB | Requested Size: 576.0KiB | in_use: 1 | bin_num: -1, next:   Size: 128.00MiB | Requested Size: 128.00MiB | in_use: 1 | bin_num: -1\n",
    "2022-04-05 14:24:44.299134: I tensorflow/core/common_runtime/bfc_allocator.cc:1039]   Size: 384.00MiB | Requested Size: 384.00MiB | in_use: 0 | bin_num: 20, prev:   Size: 128.00MiB | Requested Size: 128.00MiB | in_use: 1 | bin_num: -1, next:   Size: 384.00MiB | Requested Size: 384.00MiB | in_use: 1 | bin_num: -1\n",
    "2022-04-05 14:24:44.299138: I tensorflow/core/common_runtime/bfc_allocator.cc:1039]   Size: 8.00GiB | Requested Size: 0B | in_use: 0 | bin_num: 20, prev:   Size: 384.00MiB | Requested Size: 384.00MiB | in_use: 1 | bin_num: -1\n",
    "2022-04-05 14:24:44.299140: I tensorflow/core/common_runtime/bfc_allocator.cc:1046] Next region of size 9799794688\n",
    "2022-04-05 14:24:44.299948: I tensorflow/core/common_runtime/bfc_allocator.cc:1066] InUse at 7f3dce000000 of size 1280 next 1\n",
    "...\n",
    "2022-04-05 14:24:44.300123: I tensorflow/core/common_runtime/bfc_allocator.cc:1066] Free  at 7f3de624b500 of size 402653184 next 61\n",
    "2022-04-05 14:24:44.300125: I tensorflow/core/common_runtime/bfc_allocator.cc:1066] InUse at 7f3dfe24b500 of size 402653184 next 65\n",
    "2022-04-05 14:24:44.300128: I tensorflow/core/common_runtime/bfc_allocator.cc:1066] Free  at 7f3e1624b500 of size 8589429504 next 18446744073709551615\n",
    "2022-04-05 14:24:44.300131: I tensorflow/core/common_runtime/bfc_allocator.cc:1071]      Summary of in-use Chunks by size: \n",
    "2022-04-05 14:24:44.300136: I tensorflow/core/common_runtime/bfc_allocator.cc:1074] 48 Chunks of size 256 totalling 12.0KiB\n",
    "2022-04-05 14:24:44.300139: I tensorflow/core/common_runtime/bfc_allocator.cc:1074] 3 Chunks of size 512 totalling 1.5KiB\n",
    "2022-04-05 14:24:44.300142: I tensorflow/core/common_runtime/bfc_allocator.cc:1074] 1 Chunks of size 1280 totalling 1.2KiB\n",
    "2022-04-05 14:24:44.300145: I tensorflow/core/common_runtime/bfc_allocator.cc:1074] 1 Chunks of size 2048 totalling 2.0KiB\n",
    "2022-04-05 14:24:44.300148: I tensorflow/core/common_runtime/bfc_allocator.cc:1074] 1 Chunks of size 13824 totalling 13.5KiB\n",
    "2022-04-05 14:24:44.300152: I tensorflow/core/common_runtime/bfc_allocator.cc:1074] 1 Chunks of size 147456 totalling 144.0KiB\n",
    "2022-04-05 14:24:44.300155: I tensorflow/core/common_runtime/bfc_allocator.cc:1074] 1 Chunks of size 294912 totalling 288.0KiB\n",
    "2022-04-05 14:24:44.300158: I tensorflow/core/common_runtime/bfc_allocator.cc:1074] 2 Chunks of size 589824 totalling 1.12MiB\n",
    "2022-04-05 14:24:44.300161: I tensorflow/core/common_runtime/bfc_allocator.cc:1074] 1 Chunks of size 134217728 totalling 128.00MiB\n",
    "2022-04-05 14:24:44.300164: I tensorflow/core/common_runtime/bfc_allocator.cc:1074] 1 Chunks of size 402653184 totalling 384.00MiB\n",
    "2022-04-05 14:24:44.300167: I tensorflow/core/common_runtime/bfc_allocator.cc:1078] Sum Total of in-use chunks: 513.58MiB\n",
    "2022-04-05 14:24:44.300170: I tensorflow/core/common_runtime/bfc_allocator.cc:1080] total_region_allocated_bytes_: 9799794688 memory_limit_: 9799794688 available bytes: 0 curr_region_allocation_bytes_: 19599589376\n",
    "2022-04-05 14:24:44.300871: I tensorflow/core/common_runtime/bfc_allocator.cc:1086] Stats: \n",
    "Limit:                      9799794688\n",
    "InUse:                       538523904\n",
    "MaxInUse:                    941177856\n",
    "NumAllocs:                          97\n",
    "MaxAllocSize:                402653184\n",
    "Reserved:                            0\n",
    "PeakReserved:                        0\n",
    "LargestFreeBlock:                    0\n",
    "\n",
    "2022-04-05 14:24:44.301069: W tensorflow/core/common_runtime/bfc_allocator.cc:474] *_***___*****_______________________________________________________________________________________\n",
    "2022-04-05 14:24:44.308969: W tensorflow/core/framework/op_kernel.cc:1745] OP_REQUIRES failed at conv_ops.cc:684 : RESOURCE_EXHAUSTED: OOM when allocating tensor with shape[32,128,1024,1024] and type float on /job:localhost/replica:0/task:0/device:GPU:0 by allocator GPU_0_bfc\n",
    "[I 14:24:47.950 NotebookApp] KernelRestarter: restarting kernel (1/5), keep random ports\n",
    "WARNING:root:kernel 6323ff09-60fd-4cea-b718-ccb4eb748d5f restarted\n"
   ]
  },
  {
   "cell_type": "code",
   "execution_count": null,
   "metadata": {},
   "outputs": [],
   "source": [
    "Epoch 1/5\n",
    "\n",
    "---------------------------------------------------------------------------\n",
    "ResourceExhaustedError                    Traceback (most recent call last)\n",
    "<ipython-input-7-6cc733c7d1e1> in <module>\n",
    "      4 EPOCHS=5\n",
    "      5 start = time.time()\n",
    "----> 6 hist = cnn.fit(train_dataset,validation_data=valid_dataset,epochs=EPOCHS)\n",
    "      7 end = time.time()\n",
    "      8 print(\"Elapsed time:\",end-start)\n",
    "\n",
    "~/.local/lib/python3.8/site-packages/keras/utils/traceback_utils.py in error_handler(*args, **kwargs)\n",
    "     65     except Exception as e:  # pylint: disable=broad-except\n",
    "     66       filtered_tb = _process_traceback_frames(e.__traceback__)\n",
    "---> 67       raise e.with_traceback(filtered_tb) from None\n",
    "     68     finally:\n",
    "     69       del filtered_tb\n",
    "\n",
    "~/.local/lib/python3.8/site-packages/tensorflow/python/eager/execute.py in quick_execute(op_name, num_outputs, inputs, attrs, ctx, name)\n",
    "     56   try:\n",
    "     57     ctx.ensure_initialized()\n",
    "---> 58     tensors = pywrap_tfe.TFE_Py_Execute(ctx._handle, device_name, op_name,\n",
    "     59                                         inputs, attrs, num_outputs)\n",
    "     60   except core._NotOkStatusException as e:\n",
    "\n",
    "ResourceExhaustedError:  OOM when allocating tensor with shape[32,128,1024,1024] and type float on /job:localhost/replica:0/task:0/device:GPU:0 by allocator GPU_0_bfc\n",
    "\t [[node sequential/conv2d/Conv2D\n",
    " (defined at /home/jrm/.local/lib/python3.8/site-packages/keras/layers/convolutional.py:231)\n",
    "]]\n",
    "Hint: If you want to see a list of allocated tensors when OOM happens, add report_tensor_allocations_upon_oom to RunOptions for current allocation info. This isn't available when running in Eager mode.\n",
    " [Op:__inference_train_function_1010]\n",
    "\n",
    "Errors may have originated from an input operation.\n",
    "Input Source operations connected to node sequential/conv2d/Conv2D:\n",
    "In[0] IteratorGetNext (defined at /home/jrm/.local/lib/python3.8/site-packages/keras/engine/training.py:866)\t\n",
    "In[1] sequential/conv2d/Conv2D/ReadVariableOp:\n",
    "\n",
    "Operation defined at: (most recent call last)\n",
    ">>>   File \"/usr/lib/python3.8/runpy.py\", line 194, in _run_module_as_main\n",
    ">>>     return _run_code(code, main_globals, None,\n",
    ">>> \n",
    ">>>   File \"/usr/lib/python3.8/runpy.py\", line 87, in _run_code\n",
    ">>>     exec(code, run_globals)\n",
    ">>> \n",
    ">>>   File \"/usr/lib/python3/dist-packages/ipykernel_launcher.py\", line 16, in <module>\n",
    ">>>     app.launch_new_instance()\n",
    ">>> \n",
    ">>>   File \"/usr/lib/python3/dist-packages/traitlets/config/application.py\", line 664, in launch_instance\n",
    ">>>     app.start()\n",
    ">>> \n",
    ">>>   File \"/usr/lib/python3/dist-packages/ipykernel/kernelapp.py\", line 583, in start\n",
    ">>>     self.io_loop.start()\n",
    ">>> \n",
    ">>>   File \"/home/jrm/.local/lib/python3.8/site-packages/tornado/platform/asyncio.py\", line 199, in start\n",
    ">>>     self.asyncio_loop.run_forever()\n",
    ">>> \n",
    ">>>   File \"/usr/lib/python3.8/asyncio/base_events.py\", line 570, in run_forever\n",
    ">>>     self._run_once()\n",
    ">>> \n",
    ">>>   File \"/usr/lib/python3.8/asyncio/base_events.py\", line 1859, in _run_once\n",
    ">>>     handle._run()\n",
    ">>> \n",
    ">>>   File \"/usr/lib/python3.8/asyncio/events.py\", line 81, in _run\n",
    ">>>     self._context.run(self._callback, *self._args)\n",
    ">>> \n",
    ">>>   File \"/home/jrm/.local/lib/python3.8/site-packages/tornado/ioloop.py\", line 688, in <lambda>\n",
    ">>>     lambda f: self._run_callback(functools.partial(callback, future))\n",
    ">>> \n",
    ">>>   File \"/home/jrm/.local/lib/python3.8/site-packages/tornado/ioloop.py\", line 741, in _run_callback\n",
    ">>>     ret = callback()\n",
    ">>> \n",
    ">>>   File \"/home/jrm/.local/lib/python3.8/site-packages/tornado/gen.py\", line 814, in inner\n",
    ">>>     self.ctx_run(self.run)\n",
    ">>> \n",
    ">>>   File \"/home/jrm/.local/lib/python3.8/site-packages/tornado/gen.py\", line 775, in run\n",
    ">>>     yielded = self.gen.send(value)\n",
    ">>> \n",
    ">>>   File \"/usr/lib/python3/dist-packages/ipykernel/kernelbase.py\", line 381, in dispatch_queue\n",
    ">>>     yield self.process_one()\n",
    ">>> \n",
    ">>>   File \"/home/jrm/.local/lib/python3.8/site-packages/tornado/gen.py\", line 250, in wrapper\n",
    ">>>     runner = Runner(ctx_run, result, future, yielded)\n",
    ">>> \n",
    ">>>   File \"/home/jrm/.local/lib/python3.8/site-packages/tornado/gen.py\", line 741, in __init__\n",
    ">>>     self.ctx_run(self.run)\n",
    ">>> \n",
    ">>>   File \"/home/jrm/.local/lib/python3.8/site-packages/tornado/gen.py\", line 775, in run\n",
    ">>>     yielded = self.gen.send(value)\n",
    ">>> \n",
    ">>>   File \"/usr/lib/python3/dist-packages/ipykernel/kernelbase.py\", line 365, in process_one\n",
    ">>>     yield gen.maybe_future(dispatch(*args))\n",
    ">>> \n",
    ">>>   File \"/home/jrm/.local/lib/python3.8/site-packages/tornado/gen.py\", line 234, in wrapper\n",
    ">>>     yielded = ctx_run(next, result)\n",
    ">>> \n",
    ">>>   File \"/usr/lib/python3/dist-packages/ipykernel/kernelbase.py\", line 268, in dispatch_shell\n",
    ">>>     yield gen.maybe_future(handler(stream, idents, msg))\n",
    ">>> \n",
    ">>>   File \"/home/jrm/.local/lib/python3.8/site-packages/tornado/gen.py\", line 234, in wrapper\n",
    ">>>     yielded = ctx_run(next, result)\n",
    ">>> \n",
    ">>>   File \"/usr/lib/python3/dist-packages/ipykernel/kernelbase.py\", line 543, in execute_request\n",
    ">>>     self.do_execute(\n",
    ">>> \n",
    ">>>   File \"/home/jrm/.local/lib/python3.8/site-packages/tornado/gen.py\", line 234, in wrapper\n",
    ">>>     yielded = ctx_run(next, result)\n",
    ">>> \n",
    ">>>   File \"/usr/lib/python3/dist-packages/ipykernel/ipkernel.py\", line 300, in do_execute\n",
    ">>>     res = shell.run_cell(code, store_history=store_history, silent=silent)\n",
    ">>> \n",
    ">>>   File \"/usr/lib/python3/dist-packages/ipykernel/zmqshell.py\", line 536, in run_cell\n",
    ">>>     return super(ZMQInteractiveShell, self).run_cell(*args, **kwargs)\n",
    ">>> \n",
    ">>>   File \"/usr/lib/python3/dist-packages/IPython/core/interactiveshell.py\", line 2857, in run_cell\n",
    ">>>     result = self._run_cell(\n",
    ">>> \n",
    ">>>   File \"/usr/lib/python3/dist-packages/IPython/core/interactiveshell.py\", line 2886, in _run_cell\n",
    ">>>     return runner(coro)\n",
    ">>> \n",
    ">>>   File \"/usr/lib/python3/dist-packages/IPython/core/async_helpers.py\", line 68, in _pseudo_sync_runner\n",
    ">>>     coro.send(None)\n",
    ">>> \n",
    ">>>   File \"/usr/lib/python3/dist-packages/IPython/core/interactiveshell.py\", line 3062, in run_cell_async\n",
    ">>>     has_raised = await self.run_ast_nodes(code_ast.body, cell_name,\n",
    ">>> \n",
    ">>>   File \"/usr/lib/python3/dist-packages/IPython/core/interactiveshell.py\", line 3254, in run_ast_nodes\n",
    ">>>     if (await self.run_code(code, result,  async_=asy)):\n",
    ">>> \n",
    ">>>   File \"/usr/lib/python3/dist-packages/IPython/core/interactiveshell.py\", line 3331, in run_code\n",
    ">>>     exec(code_obj, self.user_global_ns, self.user_ns)\n",
    ">>> \n",
    ">>>   File \"<ipython-input-7-6cc733c7d1e1>\", line 6, in <module>\n",
    ">>>     hist = cnn.fit(train_dataset,validation_data=valid_dataset,epochs=EPOCHS)\n",
    ">>> \n",
    ">>>   File \"/home/jrm/.local/lib/python3.8/site-packages/keras/utils/traceback_utils.py\", line 64, in error_handler\n",
    ">>>     return fn(*args, **kwargs)\n",
    ">>> \n",
    ">>>   File \"/home/jrm/.local/lib/python3.8/site-packages/keras/engine/training.py\", line 1216, in fit\n",
    ">>>     tmp_logs = self.train_function(iterator)\n",
    ">>> \n",
    ">>>   File \"/home/jrm/.local/lib/python3.8/site-packages/keras/engine/training.py\", line 878, in train_function\n",
    ">>>     return step_function(self, iterator)\n",
    ">>> \n",
    ">>>   File \"/home/jrm/.local/lib/python3.8/site-packages/keras/engine/training.py\", line 867, in step_function\n",
    ">>>     outputs = model.distribute_strategy.run(run_step, args=(data,))\n",
    ">>> \n",
    ">>>   File \"/home/jrm/.local/lib/python3.8/site-packages/keras/engine/training.py\", line 860, in run_step\n",
    ">>>     outputs = model.train_step(data)\n",
    ">>> \n",
    ">>>   File \"/home/jrm/.local/lib/python3.8/site-packages/keras/engine/training.py\", line 808, in train_step\n",
    ">>>     y_pred = self(x, training=True)\n",
    ">>> \n",
    ">>>   File \"/home/jrm/.local/lib/python3.8/site-packages/keras/utils/traceback_utils.py\", line 64, in error_handler\n",
    ">>>     return fn(*args, **kwargs)\n",
    ">>> \n",
    ">>>   File \"/home/jrm/.local/lib/python3.8/site-packages/keras/engine/base_layer.py\", line 1083, in __call__\n",
    ">>>     outputs = call_fn(inputs, *args, **kwargs)\n",
    ">>> \n",
    ">>>   File \"/home/jrm/.local/lib/python3.8/site-packages/keras/utils/traceback_utils.py\", line 92, in error_handler\n",
    ">>>     return fn(*args, **kwargs)\n",
    ">>> \n",
    ">>>   File \"/home/jrm/.local/lib/python3.8/site-packages/keras/engine/sequential.py\", line 373, in call\n",
    ">>>     return super(Sequential, self).call(inputs, training=training, mask=mask)\n",
    ">>> \n",
    ">>>   File \"/home/jrm/.local/lib/python3.8/site-packages/keras/engine/functional.py\", line 451, in call\n",
    ">>>     return self._run_internal_graph(\n",
    ">>> \n",
    ">>>   File \"/home/jrm/.local/lib/python3.8/site-packages/keras/engine/functional.py\", line 589, in _run_internal_graph\n",
    ">>>     outputs = node.layer(*args, **kwargs)\n",
    ">>> \n",
    ">>>   File \"/home/jrm/.local/lib/python3.8/site-packages/keras/utils/traceback_utils.py\", line 64, in error_handler\n",
    ">>>     return fn(*args, **kwargs)\n",
    ">>> \n",
    ">>>   File \"/home/jrm/.local/lib/python3.8/site-packages/keras/engine/base_layer.py\", line 1083, in __call__\n",
    ">>>     outputs = call_fn(inputs, *args, **kwargs)\n",
    ">>> \n",
    ">>>   File \"/home/jrm/.local/lib/python3.8/site-packages/keras/utils/traceback_utils.py\", line 92, in error_handler\n",
    ">>>     return fn(*args, **kwargs)\n",
    ">>> \n",
    ">>>   File \"/home/jrm/.local/lib/python3.8/site-packages/keras/layers/convolutional.py\", line 246, in call\n",
    ">>>     outputs = self.convolution_op(inputs, self.kernel)\n",
    ">>> \n",
    ">>>   File \"/home/jrm/.local/lib/python3.8/site-packages/keras/layers/convolutional.py\", line 231, in convolution_op\n",
    ">>>     return tf.nn.convolution(\n",
    ">>> \n",
    "\n",
    "pd."
   ]
  },
  {
   "cell_type": "markdown",
   "metadata": {},
   "source": [
    "## Dies at PATCH SIZE 512"
   ]
  },
  {
   "cell_type": "markdown",
   "metadata": {},
   "source": [
    "## Works great at PATCH SIZE 224"
   ]
  },
  {
   "cell_type": "code",
   "execution_count": null,
   "metadata": {},
   "outputs": [],
   "source": [
    "$ smi\n",
    "|-------------------------------+----------------------+----------------------+\n",
    "| GPU  Name        Persistence-M| Bus-Id        Disp.A | Volatile Uncorr. ECC |\n",
    "| Fan  Temp  Perf  Pwr:Usage/Cap|         Memory-Usage | GPU-Util  Compute M. |\n",
    "|                               |                      |               MIG M. |\n",
    "|===============================+======================+======================|\n",
    "|   0  NVIDIA GeForce ...  Off  | 00000000:02:00.0  On |                  N/A |\n",
    "| 18%   41C    P5    17W / 250W |  10512MiB / 11264MiB |      5%      Default |\n",
    "|                               |                      |                  N/A |\n",
    "+-------------------------------+----------------------+----------------------+\n",
    "                                                                               \n",
    "+-----------------------------------------------------------------------------+\n",
    "| Processes:                                                                  |\n",
    "|  GPU   GI   CI        PID   Type   Process name                  GPU Memory |\n",
    "|        ID   ID                                                   Usage      |\n",
    "|=============================================================================|\n",
    "|    0   N/A  N/A      1018      G   /usr/lib/xorg/Xorg                 35MiB |\n",
    "|    0   N/A  N/A      1584      G   /usr/lib/xorg/Xorg                 72MiB |\n",
    "|    0   N/A  N/A      1709      G   /usr/bin/gnome-shell               25MiB |\n",
    "|    0   N/A  N/A      2209      G   /usr/lib/firefox/firefox          147MiB |\n",
    "|    0   N/A  N/A      2668      G   /usr/lib/firefox/firefox            2MiB |\n",
    "|    0   N/A  N/A      6570      G   /usr/lib/firefox/firefox            2MiB |\n",
    "|    0   N/A  N/A      6971      C   /usr/bin/python3                10209MiB |\n",
    "+-----------------------------------------------------------------------------+\n"
   ]
  },
  {
   "cell_type": "markdown",
   "metadata": {},
   "source": [
    "## Works great at PATCH SIZE 256"
   ]
  },
  {
   "cell_type": "code",
   "execution_count": null,
   "metadata": {},
   "outputs": [],
   "source": [
    "$ smi\n",
    "Tue Apr  5 14:55:21 2022       \n",
    "+-----------------------------------------------------------------------------+\n",
    "| NVIDIA-SMI 510.39.01    Driver Version: 510.39.01    CUDA Version: 11.6     |\n",
    "|-------------------------------+----------------------+----------------------+\n",
    "| GPU  Name        Persistence-M| Bus-Id        Disp.A | Volatile Uncorr. ECC |\n",
    "| Fan  Temp  Perf  Pwr:Usage/Cap|         Memory-Usage | GPU-Util  Compute M. |\n",
    "|                               |                      |               MIG M. |\n",
    "|===============================+======================+======================|\n",
    "|   0  NVIDIA GeForce ...  Off  | 00000000:02:00.0  On |                  N/A |\n",
    "| 50%   78C    P2   228W / 250W |  10513MiB / 11264MiB |     89%      Default |\n",
    "|                               |                      |                  N/A |\n",
    "+-------------------------------+----------------------+----------------------+\n",
    "                                                                               \n",
    "+-----------------------------------------------------------------------------+\n",
    "| Processes:                                                                  |\n",
    "|  GPU   GI   CI        PID   Type   Process name                  GPU Memory |\n",
    "|        ID   ID                                                   Usage      |\n",
    "|=============================================================================|\n",
    "|    0   N/A  N/A      1018      G   /usr/lib/xorg/Xorg                 35MiB |\n",
    "|    0   N/A  N/A      1584      G   /usr/lib/xorg/Xorg                 72MiB |\n",
    "|    0   N/A  N/A      1709      G   /usr/bin/gnome-shell               25MiB |\n",
    "|    0   N/A  N/A      2209      G   /usr/lib/firefox/firefox          145MiB |\n",
    "|    0   N/A  N/A      2668      G   /usr/lib/firefox/firefox            2MiB |\n",
    "|    0   N/A  N/A      7785      C   /usr/bin/python3                10215MiB |\n",
    "+-----------------------------------------------------------------------------+\n"
   ]
  },
  {
   "cell_type": "code",
   "execution_count": null,
   "metadata": {},
   "outputs": [],
   "source": []
  }
 ],
 "metadata": {
  "kernelspec": {
   "display_name": "Python 3",
   "language": "python",
   "name": "python3"
  },
  "language_info": {
   "codemirror_mode": {
    "name": "ipython",
    "version": 3
   },
   "file_extension": ".py",
   "mimetype": "text/x-python",
   "name": "python",
   "nbconvert_exporter": "python",
   "pygments_lexer": "ipython3",
   "version": "3.8.10"
  }
 },
 "nbformat": 4,
 "nbformat_minor": 4
}
