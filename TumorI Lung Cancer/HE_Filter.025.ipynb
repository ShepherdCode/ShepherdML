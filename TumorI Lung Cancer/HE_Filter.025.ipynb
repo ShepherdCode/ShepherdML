{
 "cells": [
  {
   "cell_type": "markdown",
   "metadata": {},
   "source": [
    "# Patches from center only: HE\n",
    "Training set: patches from Y-pos vs Y-neg images.  \n",
    "No attempt to distinguish background, stroma, tumor.  \n",
    "Populate training subdirectories named Ypos or Yneg.  "
   ]
  },
  {
   "cell_type": "code",
   "execution_count": 1,
   "metadata": {},
   "outputs": [],
   "source": [
    "import time\n",
    "import os\n",
    "import glob\n",
    "from PIL import Image\n",
    "Image.MAX_IMAGE_PIXELS = None\n",
    "import numpy as np\n",
    "import json\n",
    "import tensorflow as tf\n",
    "from tensorflow import keras\n",
    "import keras.layers as kl\n",
    "import pandas as pd\n",
    "import matplotlib.pyplot as plt"
   ]
  },
  {
   "cell_type": "code",
   "execution_count": 2,
   "metadata": {},
   "outputs": [],
   "source": [
    "DIR_IMAGES_RAW = \"/home/jrm/Martinez/images/raw/\"\n",
    "DIR_IMAGES_TRAIN = \"/home/jrm/Martinez/images/HEcenterpatch/train/\"\n",
    "DIR_IMAGES_VALID = \"/home/jrm/Martinez/images/HEcenterpatch/valid/\"\n",
    "PATTERN_IMAGES_RAW = \"*.HE1.*.tif\"\n",
    "PATCH_SIZE=224  # matches VGG\n",
    "IMAGE_SIZE = (PATCH_SIZE,PATCH_SIZE)\n",
    "DF_Ypos = ['B7.','B15','D1.','D5.','E7.','E9.','F9.','G3.','H13','I1.','I5.','I13']\n",
    "DF_Yneg = ['A3.','A5.','B13','C1.','C11','D3.','E5.','F3.','F7','F11','F13','F15','G15','H1.','H3.','H7.','H15']"
   ]
  },
  {
   "cell_type": "code",
   "execution_count": 3,
   "metadata": {},
   "outputs": [],
   "source": [
    "def get_image_names(path,pattern):\n",
    "    paths = glob.glob(path+pattern)\n",
    "    names = [os.path.basename(x) for x in paths]\n",
    "    return names\n",
    "FILENAMES_IMAGES_RAW = get_image_names(DIR_IMAGES_RAW,PATTERN_IMAGES_RAW)"
   ]
  },
  {
   "cell_type": "code",
   "execution_count": 9,
   "metadata": {},
   "outputs": [],
   "source": [
    "class patch_maker:\n",
    "    def __init__(self):\n",
    "        self.path=\"\"\n",
    "        self.w=0\n",
    "        self.h=0\n",
    "        self.im_width = 0\n",
    "        self.im_height = 0\n",
    "        self.patch_size = 10 # scalar, assumed square for now\n",
    "        self.pixel_array = None\n",
    "        self.output_dir = \"\"\n",
    "        self.output_format='.jpg'\n",
    "        self.center=(0.0,0.0)\n",
    "        self.radial_threshold = 0.0\n",
    "        self.BORDER = 200\n",
    "    def set_input_path(self,path):\n",
    "        self.path=path\n",
    "    def set_output_path(self,path):\n",
    "        self.output_dir = path\n",
    "    def set_patch_size(self,scalar):\n",
    "        self.patch_size = scalar\n",
    "    def load_pixel_array(self,filename,verbose=False):\n",
    "        self.w=0\n",
    "        self.h=0\n",
    "        im = Image.open(self.path+filename)\n",
    "        ima = np.array(im)   # convert to numpy\n",
    "        self.im_width = ima.shape[1]\n",
    "        self.im_height = ima.shape[0]\n",
    "        self.center=(self.im_width/2,self.im_height/2)\n",
    "        self.radial_threshold = min(self.im_width,self.im_height)/2-self.BORDER\n",
    "        if verbose:\n",
    "            print(filename, ima.size, ima.shape)\n",
    "        self.pixel_array = ima\n",
    "        return ima\n",
    "    def radius(self,x,y):\n",
    "        return np.sqrt((x-self.center[0])**2+(y-self.center[1])**2)\n",
    "    def get_next_patch(self): \n",
    "        IM_WIDTH = self.im_width\n",
    "        IM_HEIGHT = self.im_height\n",
    "        PIXEL_ARRAY = self.pixel_array\n",
    "        patch = None\n",
    "        if self.w+self.patch_size > IM_WIDTH:\n",
    "            self.h += self.patch_size\n",
    "            self.w = 0\n",
    "        if self.w+self.patch_size <= IM_WIDTH and self.h+self.patch_size <= IM_HEIGHT:\n",
    "            patch = PIXEL_ARRAY[self.h:self.h+self.patch_size, self.w:self.w+self.patch_size]\n",
    "            self.w += self.patch_size\n",
    "        return patch\n",
    "    def get_next_center_patch(self):\n",
    "        patch = self.get_next_patch()\n",
    "        while (patch is not None):\n",
    "            radius1 = self.radius(self.w,self.h)\n",
    "            radius2 = self.radius(self.w,self.h+self.patch_size)\n",
    "            radius3 = self.radius(self.w+self.patch_size,self.h)\n",
    "            radius4 = self.radius(self.w+self.patch_size,self.h+self.patch_size)\n",
    "            max_radius=max(radius1,radius2,radius3,radius4)\n",
    "            if max_radius < self.radial_threshold:\n",
    "                #print(\"Good\",self.w,self.h)\n",
    "                return patch\n",
    "            #print(\"Bad\",self.w,self.h)\n",
    "            patch = self.get_next_patch()\n",
    "        return None\n",
    "    def save_patch (self, prefix, pnum, patch):\n",
    "        ext = self.output_format\n",
    "        path= self.output_dir+prefix+'.'+str(pnum)+ext\n",
    "        im =  Image.fromarray(patch)\n",
    "        im.save(path)"
   ]
  },
  {
   "cell_type": "code",
   "execution_count": 10,
   "metadata": {},
   "outputs": [
    {
     "name": "stdout",
     "output_type": "stream",
     "text": [
      "I1.HE1.09.tif (10439, 9446, 3) {'Yneg': 0, 'Ypos': 1202}\n",
      "C1.HE1.01.tif (10641, 9851, 3) {'Yneg': 0, 'Ypos': 1313}\n",
      "B7.HE1.60.tif (10236, 10034, 3) {'Yneg': 0, 'Ypos': 1363}\n",
      "D5.HE1.43.tif (10256, 10054, 3) {'Yneg': 0, 'Ypos': 1370}\n",
      "H15.HE1.132.tif (10641, 9851, 3) {'Yneg': 1313, 'Ypos': 0}\n",
      "G3.HE1.25.tif (10662, 9223, 3) {'Yneg': 0, 'Ypos': 1143}\n",
      "F15.HE1.135.tif (10236, 10257, 3) {'Yneg': 1421, 'Ypos': 0}\n",
      "E9.HE1.75.tif (10844, 10236, 3) {'Yneg': 0, 'Ypos': 1425}\n",
      "H13.HE1.114.tif (11047, 9831, 3) {'Yneg': 0, 'Ypos': 1309}\n",
      "F9.HE1.80.tif (10844, 10439, 3) {'Yneg': 0, 'Ypos': 1489}\n",
      "I5.HE1.48.tif (10439, 10459, 3) {'Yneg': 0, 'Ypos': 1491}\n",
      "B15.HE1.134.tif (10236, 10054, 3) {'Yneg': 0, 'Ypos': 1371}\n",
      "D1.HE1.02.tif (10459, 10257, 3) {'Yneg': 0, 'Ypos': 1434}\n",
      "B13.HE1.115.tif (10641, 10439, 3) {'Yneg': 1488, 'Ypos': 0}\n",
      "D3.HE1.20.tif (10256, 10034, 3) {'Yneg': 0, 'Ypos': 1366}\n",
      "F3.HE1.22.tif (10641, 10034, 3) {'Yneg': 0, 'Ypos': 1367}\n",
      "I13.HE1.117.tif (10439, 10236, 3) {'Yneg': 0, 'Ypos': 1431}\n",
      "G15.HE1.133.tif (10662, 9649, 3) {'Yneg': 1256, 'Ypos': 0}\n",
      "A5.HE1.45.tif (10256, 10054, 3) {'Yneg': 0, 'Ypos': 1370}\n",
      "H7.HE1.62.tif (10641, 10034, 3) {'Yneg': 0, 'Ypos': 1367}\n",
      "E7.HE1.64.tif (9831, 9426, 3) {'Yneg': 0, 'Ypos': 1195}\n",
      "H3.HE1.27.tif (10844, 10236, 3) {'Yneg': 0, 'Ypos': 1425}\n",
      "E5.HE1.42.tif (10844, 10257, 3) {'Yneg': 0, 'Ypos': 1434}\n",
      "F7.HE1.63.tif (10439, 10034, 3) {'Yneg': 0, 'Ypos': 1368}\n",
      "C11.HE1.96.tif (10844, 11067, 3) {'Yneg': 1614, 'Ypos': 0}\n",
      "A3.HE1.26.tif (10662, 9628, 3) {'Yneg': 0, 'Ypos': 1250}\n",
      "F11.HE1.94.tif (10641, 10662, 3) {'Yneg': 1552, 'Ypos': 0}\n",
      "H1.HE1.07.tif (10439, 10865, 3) {'Yneg': 0, 'Ypos': 1487}\n"
     ]
    }
   ],
   "source": [
    "pm = patch_maker()\n",
    "pm.set_input_path(DIR_IMAGES_RAW)\n",
    "pm.set_patch_size(PATCH_SIZE)\n",
    "pm.set_output_path(DIR_IMAGES_TRAIN)  # later, move 20% of files to VALID\n",
    "for filename in FILENAMES_IMAGES_RAW:\n",
    "    print(filename,end=\" \")\n",
    "    file_counts = {'Yneg':0, 'Ypos':0}\n",
    "    neg_or_pos = 0\n",
    "    prefix = filename[0:3]\n",
    "    if prefix[2] == '.':  # we have prefixes like F1. and F13\n",
    "        prefix=prefix[0:2]+'_'   # avoid the extra period\n",
    "    neg_or_pos = +1\n",
    "    phenotype = 'Ypos'\n",
    "    if prefix in DF_Yneg:\n",
    "        neg_or_pos = -1\n",
    "        phenotype = 'Yneg'\n",
    "    pixels = pm.load_pixel_array(filename)\n",
    "    print(pixels.shape,end=\" \")\n",
    "    patch = pm.get_next_center_patch()\n",
    "    while patch is not None:\n",
    "        file_counts[phenotype] += 1\n",
    "        pm.save_patch(phenotype+'/'+prefix,file_counts[phenotype],patch)\n",
    "        patch = pm.get_next_center_patch()\n",
    "    print(file_counts)"
   ]
  },
  {
   "cell_type": "code",
   "execution_count": 11,
   "metadata": {},
   "outputs": [
    {
     "name": "stdout",
     "output_type": "stream",
     "text": [
      "Done\n"
     ]
    }
   ],
   "source": [
    "# Move a portion of the train files into the valid directory.\n",
    "from random import sample\n",
    "VALIDATION_PORTION = 0.20\n",
    "for phenotype in ('Ypos','Yneg'):\n",
    "    fromdir = DIR_IMAGES_TRAIN+\"/\"+phenotype+\"/\"\n",
    "    todir   = DIR_IMAGES_VALID+\"/\"+phenotype+\"/\"\n",
    "    files = os.listdir(fromdir)\n",
    "    total = len(files)\n",
    "    selected = sample(files, int(VALIDATION_PORTION*total))\n",
    "    for vfile in selected:\n",
    "        os.rename(fromdir+vfile,todir+vfile)\n",
    "print(\"Done\")"
   ]
  },
  {
   "cell_type": "code",
   "execution_count": null,
   "metadata": {},
   "outputs": [],
   "source": []
  }
 ],
 "metadata": {
  "kernelspec": {
   "display_name": "Python 3",
   "language": "python",
   "name": "python3"
  },
  "language_info": {
   "codemirror_mode": {
    "name": "ipython",
    "version": 3
   },
   "file_extension": ".py",
   "mimetype": "text/x-python",
   "name": "python",
   "nbconvert_exporter": "python",
   "pygments_lexer": "ipython3",
   "version": "3.8.10"
  }
 },
 "nbformat": 4,
 "nbformat_minor": 4
}
