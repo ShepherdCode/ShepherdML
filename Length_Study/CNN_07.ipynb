{
 "cells": [
  {
   "cell_type": "markdown",
   "metadata": {},
   "source": [
    "# CNN cross validation\n",
    "Classify pc vs nc RNA.\n",
    "\n",
    "Set aside the 20% test set, stratified by length.\n",
    "On the remaining 80%,\n",
    "perform 5-fold cross validation.\n",
    "\n",
    "Use K=3. (K=2 was run previously.)\n",
    "Test 1K-2K subsets of the data.\n",
    "Use CNN(2 conf, 2 dense) from lncRNA13c_deep_CNN.\n",
    "This model previously reached 100% accuracy on 1K-2K set\n",
    "The CNN runs on one-hot encoded letters.\n",
    "This is effectively sequence-of-Kmers, K=1.\n",
    "The CNN filter size is analogous to the K size.\n",
    "The sequences don't require padding to uniform length.\n",
    "\n",
    "To do:\n",
    "Stop padding to uniform length if we don't need uniform tensors."
   ]
  },
  {
   "cell_type": "code",
   "execution_count": 1,
   "metadata": {},
   "outputs": [],
   "source": [
    "import numpy as np\n",
    "import pandas as pd\n",
    "import pandas as pd\n",
    "import matplotlib.pyplot as plt\n",
    "import tensorflow as tf\n",
    "from tensorflow import keras\n",
    "from sklearn.model_selection import ShuffleSplit\n",
    "\n",
    "from sklearn.preprocessing import OneHotEncoder\n",
    "\n",
    "# For the manual cross validation\n",
    "from keras.models import Sequential\n",
    "from keras.layers import Dense\n",
    "from sklearn.model_selection import StratifiedKFold\n",
    "\n",
    "tf.keras.backend.set_floatx('float32')\n",
    "\n",
    "EPOCHS=10\n",
    "SPLITS=3\n",
    "MINLEN=1000\n",
    "MAXLEN=2000\n",
    "K=1\n"
   ]
  },
  {
   "cell_type": "code",
   "execution_count": 2,
   "metadata": {},
   "outputs": [],
   "source": [
    "# Assume file was preprocessed to contain one line per seq.\n",
    "# Prefer Pandas dataframe but df does not support append.\n",
    "# For conversion to tensor, must avoid python lists.\n",
    "def load_fasta(filename,label):\n",
    "    DEFLINE='>'\n",
    "    labels=[]\n",
    "    seqs=[]\n",
    "    lens=[]\n",
    "    nums=[]\n",
    "    num=0\n",
    "    with open (filename,'r') as infile:\n",
    "        for line in infile:\n",
    "            if line[0]!=DEFLINE:\n",
    "                seq=line.rstrip()\n",
    "                num += 1   # first seqnum is 1\n",
    "                seqlen=len(seq)\n",
    "                nums.append(num)\n",
    "                labels.append(label)\n",
    "                seqs.append(seq)\n",
    "                lens.append(seqlen)\n",
    "    df1=pd.DataFrame(nums,columns=['seqnum'])\n",
    "    df2=pd.DataFrame(labels,columns=['class'])\n",
    "    df3=pd.DataFrame(seqs,columns=['sequence'])\n",
    "    df4=pd.DataFrame(lens,columns=['seqlen'])\n",
    "    df=pd.concat((df1,df2,df3,df4),axis=1)\n",
    "    return df\n",
    "\n",
    "# Split into train/test stratified by sequence length.\n",
    "def sizebin(df):\n",
    "    return pd.cut(df[\"seqlen\"],\n",
    "                              bins=[0,1000,2000,4000,8000,16000,np.inf],\n",
    "                              labels=[0,1,2,3,4,5])\n",
    "def make_train_test(data):\n",
    "    bin_labels= sizebin(data)\n",
    "    from sklearn.model_selection import StratifiedShuffleSplit\n",
    "    splitter = StratifiedShuffleSplit(n_splits=1, test_size=0.2, random_state=37863)\n",
    "    # split(x,y) expects that y is the labels. \n",
    "    # Trick: Instead of y, give it it the bin labels that we generated.\n",
    "    for train_index,test_index in splitter.split(data,bin_labels):\n",
    "        train_set = data.iloc[train_index]\n",
    "        test_set = data.iloc[test_index]\n",
    "    return (train_set,test_set)\n",
    "\n",
    "def separate_X_and_y(data):\n",
    "    y=   data[['class']].copy()\n",
    "    X=   data.drop(columns=['class','seqnum','seqlen'])\n",
    "    return (X,y)\n",
    "\n",
    "def subset(data_set,min_len,max_len):\n",
    "    print(\"original \"+str(data_set.shape))\n",
    "    too_short = data_set[ data_set['seqlen'] < min_len ].index\n",
    "    no_short=data_set.drop(too_short)\n",
    "    print(\"no short \"+str(no_short.shape))\n",
    "    too_long = no_short[ no_short['seqlen'] >= max_len ].index\n",
    "    no_long_no_short=no_short.drop(too_long)\n",
    "    print(\"no long, no short \"+str(no_long_no_short.shape))\n",
    "    return no_long_no_short\n"
   ]
  },
  {
   "cell_type": "code",
   "execution_count": 3,
   "metadata": {},
   "outputs": [],
   "source": [
    "def do_cross_validation(X,y,K,maxlen,eps):\n",
    "    cv_scores = []\n",
    "    act=\"sigmoid\"\n",
    "    dt='float32'\n",
    "    fold=0\n",
    "    splitter = ShuffleSplit(n_splits=SPLITS, test_size=0.2, random_state=37863)\n",
    "    for train_index,valid_index in splitter.split(X):\n",
    "        X_train=X[train_index] # use iloc[] for dataframe\n",
    "        y_train=y[train_index]\n",
    "        X_valid=X[valid_index]\n",
    "        y_valid=y[valid_index]\n",
    "        \n",
    "        print(\"BUILD MODEL\")\n",
    "        HOTS=4+1  # one hot encoding of ACGT+N\n",
    "        cnn2 = keras.models.Sequential([\n",
    "            keras.layers.Conv1D(filters=64,kernel_size=3,activation=\"relu\",padding=\"SAME\",\n",
    "            input_shape=[maxlen,HOTS]),\n",
    "            keras.layers.MaxPooling1D(2),\n",
    "            keras.layers.Conv1D(128,3,activation=\"relu\",padding=\"same\"),\n",
    "            keras.layers.Conv1D(128,3,activation=\"relu\",padding=\"same\"),\n",
    "            keras.layers.MaxPooling1D(2),   \n",
    "            keras.layers.Conv1D(256,3,activation=\"relu\",padding=\"same\"),\n",
    "            keras.layers.Conv1D(256,3,activation=\"relu\",padding=\"same\"),\n",
    "            keras.layers.MaxPooling1D(2), \n",
    "            keras.layers.Flatten(),\n",
    "            keras.layers.Dense(128,activation=\"relu\"),\n",
    "            keras.layers.Dropout(0.5),\n",
    "            keras.layers.Dense(64,activation=\"relu\"),\n",
    "            keras.layers.Dropout(0.5),    \n",
    "            keras.layers.Dense(1,activation=\"sigmoid\")\n",
    "        ])\n",
    "\n",
    "        print(\"Build the training environment\")\n",
    "        cnn2.compile(loss=\"binary_crossentropy\",\n",
    "                   optimizer=\"sgd\",\n",
    "                   metrics=[\"accuracy\"])\n",
    "\n",
    "        print(\"FIT\")\n",
    "        history=cnn2.fit(X_train, y_train, # batch_size=10, default=32 works nicely\n",
    "                epochs=eps, verbose=1,  # verbose=1 for ascii art, verbose=0 for none\n",
    "                validation_data=(X_valid,y_valid) )\n",
    "                        \n",
    "        fold += 1\n",
    "        print(\"Fold %d, %d epochs\"%(fold,eps))\n",
    "\n",
    "        pd.DataFrame(history.history).plot(figsize=(8,5))\n",
    "        plt.grid(True)\n",
    "        plt.gca().set_ylim(0,1)\n",
    "        plt.show()\n",
    "\n",
    "        scores = cnn2.evaluate(X_valid, y_valid, verbose=0)\n",
    "        print(\"%s: %.2f%%\" % (cnn2.metrics_names[1], scores[1]*100))\n",
    "        cv_scores.append(scores[1] * 100)\n",
    "    print()\n",
    "    print(\"Validation core mean %.2f%% (+/- %.2f%%)\" % (np.mean(cv_scores), np.std(cv_scores)))\n"
   ]
  },
  {
   "cell_type": "code",
   "execution_count": 4,
   "metadata": {},
   "outputs": [],
   "source": [
    "def generate_encoding_set(K,uniform_len):\n",
    "    all_possible=['A','C','G','T']\n",
    "    if K==2:\n",
    "        all_possible=['AA','AC','AG','AT','CA','CC','CG','CT','GA','GC','GG','GT','TA','TC','TG','TT']\n",
    "    else:\n",
    "        k=1\n",
    "        while k<K:\n",
    "            temp=[]\n",
    "            for kmer in all_possible:\n",
    "                temp.append(kmer+'A')\n",
    "                temp.append(kmer+'C')\n",
    "                temp.append(kmer+'G')\n",
    "                temp.append(kmer+'T')\n",
    "            k += 1\n",
    "            all_possible=temp\n",
    "    i=16\n",
    "    pad_kmer='N'*K\n",
    "    while i < uniform_len:\n",
    "        all_possible.append(pad_kmer)\n",
    "        i += 1\n",
    "    return all_possible\n",
    "\n",
    "def generate_all_kmers(K):\n",
    "    shorter_kmers=['']\n",
    "    for i in range(K):\n",
    "        longer_kmers=[]\n",
    "        for mer in shorter_kmers:\n",
    "            longer_kmers.append(mer+'A')\n",
    "            longer_kmers.append(mer+'C')\n",
    "            longer_kmers.append(mer+'G')\n",
    "            longer_kmers.append(mer+'T')\n",
    "        shorter_kmers = longer_kmers\n",
    "    return shorter_kmers\n",
    "\n",
    "def train_encoder(kmers):\n",
    "    narray = np.array(kmers)\n",
    "    array2d = narray.reshape(-1, 1)\n",
    "    encoder = OneHotEncoder(handle_unknown='ignore',sparse=False)\n",
    "    encoder.fit(array2d)\n",
    "    return encoder\n"
   ]
  },
  {
   "cell_type": "code",
   "execution_count": 5,
   "metadata": {},
   "outputs": [],
   "source": [
    "def strings_to_kmers(data,K,uniform_len):\n",
    "    all_seqs=[]\n",
    "    pad_char='N'\n",
    "    pad_kmer=pad_char*K\n",
    "    # pad_kmer=None      # Prefer this to the above. Will it work? No. Encoder balks.\n",
    "    for seq in data['sequence']:\n",
    "        i=0\n",
    "        seqlen=len(seq)\n",
    "        kmers=[]\n",
    "        while i < seqlen-K+1:\n",
    "            kmer=seq[i:i+K]\n",
    "            kmers.append(kmer)\n",
    "            i += 1\n",
    "        while i < uniform_len:\n",
    "            kmers.append(pad_kmer)\n",
    "            i += 1\n",
    "        all_seqs.append(kmers)\n",
    "    pd2d=pd.DataFrame(all_seqs)\n",
    "    return pd2d   # return 2D dataframe, uniform dimensions"
   ]
  },
  {
   "cell_type": "markdown",
   "metadata": {},
   "source": [
    "## Load and partition sequences"
   ]
  },
  {
   "cell_type": "code",
   "execution_count": 6,
   "metadata": {},
   "outputs": [],
   "source": [
    "nc_seq=load_fasta('ncRNA.fasta',0)\n",
    "pc_seq=load_fasta('pcRNA.fasta',1)\n",
    "all_seq=pd.concat((nc_seq,pc_seq),axis=0)\n",
    "\n",
    "(train_set,test_set)=make_train_test(all_seq)\n",
    "(X_test,y_test)=separate_X_and_y(test_set)\n",
    "\n",
    "nc_seq=None\n",
    "pc_seq=None\n",
    "all_seq=None"
   ]
  },
  {
   "cell_type": "code",
   "execution_count": 7,
   "metadata": {},
   "outputs": [
    {
     "name": "stdout",
     "output_type": "stream",
     "text": [
      "original (30290, 4)\n",
      "no short (9273, 4)\n",
      "no long, no short (3368, 4)\n"
     ]
    }
   ],
   "source": [
    "# Extract subset by length\n",
    "train_set=subset(train_set,MINLEN,MAXLEN)"
   ]
  },
  {
   "cell_type": "code",
   "execution_count": 8,
   "metadata": {},
   "outputs": [
    {
     "name": "stdout",
     "output_type": "stream",
     "text": [
      "<class 'pandas.core.frame.DataFrame'>\n",
      "(3368, 1)\n",
      "sequence    GGCGGGGTCGACTGACGGTAACGGGGCAGAGAGGCTGTTCGCAGAG...\n",
      "Name: 12641, dtype: object\n",
      "1338\n"
     ]
    }
   ],
   "source": [
    "# One array to two: X and y\n",
    "(X_train_all,y_train_all)=separate_X_and_y(train_set)\n",
    "# The returned values are Pandas dataframes.\n",
    "# print(X_train_all.shape,y_train_all.shape)\n",
    "# (X_train_all,y_train_all)\n",
    "# y: Pandas dataframe to Python list.\n",
    "# y_train_all=y_train_all.values.tolist()\n",
    "# The sequences lengths are bounded but not uniform.\n",
    "X_train_all\n",
    "print(type(X_train_all))\n",
    "print(X_train_all.shape)\n",
    "print(X_train_all.iloc[0])\n",
    "print(len(X_train_all.iloc[0]['sequence']))"
   ]
  },
  {
   "cell_type": "code",
   "execution_count": 9,
   "metadata": {
    "scrolled": true
   },
   "outputs": [
    {
     "name": "stdout",
     "output_type": "stream",
     "text": [
      "fit...\n",
      "[array(['A', 'C', 'G', 'N', 'T'], dtype='<U1')]\n"
     ]
    }
   ],
   "source": [
    "# X: List of string to List of uniform-length ordered lists of K-mers.\n",
    "X_train_kmers=strings_to_kmers(X_train_all,K,MAXLEN)\n",
    "# X: true 2D array (no more lists)\n",
    "X_train_kmers.shape\n",
    "encoder = OneHotEncoder(handle_unknown='ignore',sparse=False)\n",
    "# This takes a long time and may not be complete.\n",
    "# We should fit to sequences that absolutely contain every possible K-mer.\n",
    "sample_data=generate_encoding_set(K,MAXLEN)\n",
    "sample=np.array(sample_data).reshape(-1, 1)\n",
    "print(\"fit...\")\n",
    "encoder.fit(sample)\n",
    "print(str(encoder.categories_))\n",
    "\n",
    "#X_train_reshape=X_train_numpy.reshape(-1, 1)\n",
    "#X_train_encoded=encoder.fit(X_train_numpy)\n"
   ]
  },
  {
   "cell_type": "code",
   "execution_count": 10,
   "metadata": {},
   "outputs": [
    {
     "name": "stdout",
     "output_type": "stream",
     "text": [
      "transform...\n",
      "<class 'pandas.core.frame.DataFrame'>\n",
      "<class 'numpy.ndarray'>\n",
      "(3368, 2000, 5)\n"
     ]
    }
   ],
   "source": [
    "print(\"transform...\")\n",
    "# From pandas dataframe to numpy to list to numpy\n",
    "print(type(X_train_kmers))\n",
    "num_seqs=len(X_train_kmers)\n",
    "tmp_seqs=[]\n",
    "for i in range(num_seqs):\n",
    "    kmer_sequence=X_train_kmers.iloc[i]\n",
    "    X1=encoder.transform(kmer_sequence.to_numpy().reshape(-1, 1))\n",
    "    tmp_seqs.append(X1)\n",
    "encoded_seqs=np.array(tmp_seqs)\n",
    "tmp_seqs=None\n",
    "X_train_kmers=None\n",
    "print(type(encoded_seqs))\n",
    "print(encoded_seqs.shape)\n",
    "#X_train_encoded=encoder.transform(X_train_kmers.to_numpy().reshape(-1, 1))  # FLATTENS\n",
    "#X_train_encoded  # LONG TIME!"
   ]
  },
  {
   "cell_type": "code",
   "execution_count": 11,
   "metadata": {},
   "outputs": [
    {
     "name": "stdout",
     "output_type": "stream",
     "text": [
      "BUILD MODEL\n",
      "Build the training environment\n",
      "FIT\n",
      "Epoch 1/10\n",
      "85/85 [==============================] - 56s 655ms/step - loss: 0.6731 - accuracy: 0.6121 - val_loss: 0.6704 - val_accuracy: 0.6039\n",
      "Epoch 2/10\n",
      "85/85 [==============================] - 61s 721ms/step - loss: 0.6679 - accuracy: 0.6199 - val_loss: 0.6706 - val_accuracy: 0.6039\n",
      "Epoch 3/10\n",
      "85/85 [==============================] - 56s 662ms/step - loss: 0.6651 - accuracy: 0.6210 - val_loss: 0.6686 - val_accuracy: 0.6039\n",
      "Epoch 4/10\n",
      "85/85 [==============================] - 64s 754ms/step - loss: 0.6634 - accuracy: 0.6225 - val_loss: 0.6677 - val_accuracy: 0.6039\n",
      "Epoch 5/10\n",
      "85/85 [==============================] - 61s 723ms/step - loss: 0.6619 - accuracy: 0.6221 - val_loss: 0.6651 - val_accuracy: 0.6039\n",
      "Epoch 6/10\n",
      "85/85 [==============================] - 60s 710ms/step - loss: 0.6597 - accuracy: 0.6225 - val_loss: 0.6616 - val_accuracy: 0.6039\n",
      "Epoch 7/10\n",
      "85/85 [==============================] - 56s 660ms/step - loss: 0.6561 - accuracy: 0.6203 - val_loss: 0.6592 - val_accuracy: 0.6039\n",
      "Epoch 8/10\n",
      "85/85 [==============================] - 58s 685ms/step - loss: 0.6534 - accuracy: 0.6218 - val_loss: 0.6608 - val_accuracy: 0.6039\n",
      "Epoch 9/10\n",
      "85/85 [==============================] - 56s 665ms/step - loss: 0.6477 - accuracy: 0.6214 - val_loss: 0.6396 - val_accuracy: 0.6039\n",
      "Epoch 10/10\n",
      "85/85 [==============================] - 57s 667ms/step - loss: 0.6371 - accuracy: 0.6199 - val_loss: 0.6221 - val_accuracy: 0.6039\n",
      "Fold 1, 10 epochs\n"
     ]
    },
    {
     "data": {
      "image/png": "[encoded data removed]",
      "text/plain": [
       "<Figure size 576x360 with 1 Axes>"
      ]
     },
     "metadata": {
      "needs_background": "light"
     },
     "output_type": "display_data"
    },
    {
     "name": "stdout",
     "output_type": "stream",
     "text": [
      "accuracy: 60.39%\n",
      "BUILD MODEL\n",
      "Build the training environment\n",
      "FIT\n",
      "Epoch 1/10\n",
      "85/85 [==============================] - 56s 661ms/step - loss: 0.6721 - accuracy: 0.6128 - val_loss: 0.6602 - val_accuracy: 0.6261\n",
      "Epoch 2/10\n",
      "85/85 [==============================] - 65s 768ms/step - loss: 0.6666 - accuracy: 0.6158 - val_loss: 0.6591 - val_accuracy: 0.6261\n",
      "Epoch 3/10\n",
      "85/85 [==============================] - 56s 664ms/step - loss: 0.6668 - accuracy: 0.6158 - val_loss: 0.6591 - val_accuracy: 0.6261\n",
      "Epoch 4/10\n",
      "85/85 [==============================] - 57s 665ms/step - loss: 0.6648 - accuracy: 0.6162 - val_loss: 0.6569 - val_accuracy: 0.6261\n",
      "Epoch 5/10\n",
      "85/85 [==============================] - 57s 668ms/step - loss: 0.6584 - accuracy: 0.6177 - val_loss: 0.6508 - val_accuracy: 0.6261\n",
      "Epoch 6/10\n",
      "85/85 [==============================] - 56s 663ms/step - loss: 0.6532 - accuracy: 0.6173 - val_loss: 0.6506 - val_accuracy: 0.6261\n",
      "Epoch 7/10\n",
      "85/85 [==============================] - 58s 678ms/step - loss: 0.6485 - accuracy: 0.6162 - val_loss: 0.6468 - val_accuracy: 0.6261\n",
      "Epoch 8/10\n",
      "85/85 [==============================] - 56s 662ms/step - loss: 0.6395 - accuracy: 0.6236 - val_loss: 0.6265 - val_accuracy: 0.6276\n",
      "Epoch 9/10\n",
      "85/85 [==============================] - 57s 675ms/step - loss: 0.6305 - accuracy: 0.6347 - val_loss: 0.6170 - val_accuracy: 0.6335\n",
      "Epoch 10/10\n",
      "85/85 [==============================] - 56s 663ms/step - loss: 0.6232 - accuracy: 0.6570 - val_loss: 0.6263 - val_accuracy: 0.6335\n",
      "Fold 2, 10 epochs\n"
     ]
    },
    {
     "data": {
      "image/png": "[encoded data removed]",
      "text/plain": [
       "<Figure size 576x360 with 1 Axes>"
      ]
     },
     "metadata": {
      "needs_background": "light"
     },
     "output_type": "display_data"
    },
    {
     "name": "stdout",
     "output_type": "stream",
     "text": [
      "accuracy: 63.35%\n",
      "BUILD MODEL\n",
      "Build the training environment\n",
      "FIT\n",
      "Epoch 1/10\n",
      "85/85 [==============================] - 58s 685ms/step - loss: 0.6740 - accuracy: 0.6039 - val_loss: 0.6644 - val_accuracy: 0.6291\n",
      "Epoch 2/10\n",
      "85/85 [==============================] - 57s 676ms/step - loss: 0.6700 - accuracy: 0.6147 - val_loss: 0.6567 - val_accuracy: 0.6291\n",
      "Epoch 3/10\n",
      "85/85 [==============================] - 61s 720ms/step - loss: 0.6659 - accuracy: 0.6154 - val_loss: 0.6583 - val_accuracy: 0.6291\n",
      "Epoch 4/10\n",
      "85/85 [==============================] - 62s 728ms/step - loss: 0.6656 - accuracy: 0.6140 - val_loss: 0.6550 - val_accuracy: 0.6291\n",
      "Epoch 5/10\n",
      "85/85 [==============================] - 65s 766ms/step - loss: 0.6637 - accuracy: 0.6151 - val_loss: 0.6550 - val_accuracy: 0.6291\n",
      "Epoch 6/10\n",
      "85/85 [==============================] - 59s 690ms/step - loss: 0.6623 - accuracy: 0.6166 - val_loss: 0.6519 - val_accuracy: 0.6291\n",
      "Epoch 7/10\n",
      "85/85 [==============================] - 64s 747ms/step - loss: 0.6578 - accuracy: 0.6154 - val_loss: 0.6486 - val_accuracy: 0.6291\n",
      "Epoch 8/10\n",
      "85/85 [==============================] - 62s 732ms/step - loss: 0.6586 - accuracy: 0.6154 - val_loss: 0.6438 - val_accuracy: 0.6291\n",
      "Epoch 9/10\n",
      "85/85 [==============================] - 58s 683ms/step - loss: 0.6506 - accuracy: 0.6151 - val_loss: 0.6369 - val_accuracy: 0.6291\n",
      "Epoch 10/10\n",
      "85/85 [==============================] - 57s 669ms/step - loss: 0.6414 - accuracy: 0.6166 - val_loss: 0.6511 - val_accuracy: 0.6291\n",
      "Fold 3, 10 epochs\n"
     ]
    },
    {
     "data": {
      "image/png": "[encoded data removed]",
      "text/plain": [
       "<Figure size 576x360 with 1 Axes>"
      ]
     },
     "metadata": {
      "needs_background": "light"
     },
     "output_type": "display_data"
    },
    {
     "name": "stdout",
     "output_type": "stream",
     "text": [
      "accuracy: 62.91%\n",
      "\n",
      "Validation core mean 62.22% (+/- 1.31%)\n"
     ]
    }
   ],
   "source": [
    "labels=y_train_all.to_numpy()\n",
    "do_cross_validation(encoded_seqs,labels,K,MAXLEN,EPOCHS)"
   ]
  },
  {
   "cell_type": "code",
   "execution_count": null,
   "metadata": {},
   "outputs": [],
   "source": []
  }
 ],
 "metadata": {
  "kernelspec": {
   "display_name": "Python 3",
   "language": "python",
   "name": "python3"
  },
  "language_info": {
   "codemirror_mode": {
    "name": "ipython",
    "version": 3
   },
   "file_extension": ".py",
   "mimetype": "text/x-python",
   "name": "python",
   "nbconvert_exporter": "python",
   "pygments_lexer": "ipython3",
   "version": "3.8.3"
  }
 },
 "nbformat": 4,
 "nbformat_minor": 2
}
