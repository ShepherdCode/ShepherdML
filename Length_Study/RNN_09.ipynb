{
 "cells": [
  {
   "cell_type": "markdown",
   "metadata": {},
   "source": [
    "# RNN cross validation\n",
    "Classify pc vs nc RNA.\n",
    "\n",
    "Set aside the 20% test set, stratified by length.\n",
    "On the remaining 80%,\n",
    "perform 5-fold cross validation.\n",
    "\n",
    "Use K=3. \n",
    "Use RNN(16,16,16,1).\n",
    "\n",
    "To do: \n",
    "Masking the Ns.\n",
    "Either bidirectional RNN or try starting with the Ns.\n",
    "Handle end case of max len < num K-mers.\n",
    "K-mer embedding (like word2vec).\n",
    "\n",
    "Here, repeat RNN_06 which ran on 1K-2K.\n",
    "Try other subsets (constrained by issue of padding to full length)."
   ]
  },
  {
   "cell_type": "code",
   "execution_count": 1,
   "metadata": {},
   "outputs": [],
   "source": [
    "import numpy as np\n",
    "import pandas as pd\n",
    "import pandas as pd\n",
    "import matplotlib.pyplot as plt\n",
    "import tensorflow as tf\n",
    "from tensorflow import keras\n",
    "from sklearn.model_selection import ShuffleSplit\n",
    "\n",
    "from sklearn.preprocessing import OneHotEncoder\n",
    "\n",
    "# For the manual cross validation\n",
    "from keras.models import Sequential\n",
    "from keras.layers import Dense\n",
    "from sklearn.model_selection import StratifiedKFold\n",
    "\n",
    "tf.keras.backend.set_floatx('float32')\n",
    "\n",
    "EPOCHS=5\n",
    "SPLITS=2\n",
    "K=3\n"
   ]
  },
  {
   "cell_type": "code",
   "execution_count": 2,
   "metadata": {},
   "outputs": [],
   "source": [
    "# Assume file was preprocessed to contain one line per seq.\n",
    "# Prefer Pandas dataframe but df does not support append.\n",
    "# For conversion to tensor, must avoid python lists.\n",
    "def load_fasta(filename,label):\n",
    "    DEFLINE='>'\n",
    "    labels=[]\n",
    "    seqs=[]\n",
    "    lens=[]\n",
    "    nums=[]\n",
    "    num=0\n",
    "    with open (filename,'r') as infile:\n",
    "        for line in infile:\n",
    "            if line[0]!=DEFLINE:\n",
    "                seq=line.rstrip()\n",
    "                num += 1   # first seqnum is 1\n",
    "                seqlen=len(seq)\n",
    "                nums.append(num)\n",
    "                labels.append(label)\n",
    "                seqs.append(seq)\n",
    "                lens.append(seqlen)\n",
    "    df1=pd.DataFrame(nums,columns=['seqnum'])\n",
    "    df2=pd.DataFrame(labels,columns=['class'])\n",
    "    df3=pd.DataFrame(seqs,columns=['sequence'])\n",
    "    df4=pd.DataFrame(lens,columns=['seqlen'])\n",
    "    df=pd.concat((df1,df2,df3,df4),axis=1)\n",
    "    return df\n",
    "\n",
    "# Split into train/test stratified by sequence length.\n",
    "def sizebin(df):\n",
    "    return pd.cut(df[\"seqlen\"],\n",
    "                              bins=[0,1000,2000,4000,8000,16000,np.inf],\n",
    "                              labels=[0,1,2,3,4,5])\n",
    "def make_train_test(data):\n",
    "    bin_labels= sizebin(data)\n",
    "    from sklearn.model_selection import StratifiedShuffleSplit\n",
    "    splitter = StratifiedShuffleSplit(n_splits=1, test_size=0.2, random_state=37863)\n",
    "    # split(x,y) expects that y is the labels. \n",
    "    # Trick: Instead of y, give it it the bin labels that we generated.\n",
    "    for train_index,test_index in splitter.split(data,bin_labels):\n",
    "        train_set = data.iloc[train_index]\n",
    "        test_set = data.iloc[test_index]\n",
    "    return (train_set,test_set)\n",
    "\n",
    "def separate_X_and_y(data):\n",
    "    y=   data[['class']].copy()\n",
    "    X=   data.drop(columns=['class','seqnum','seqlen'])\n",
    "    return (X,y)\n",
    "\n",
    "def subset(data_set,min_len,max_len):\n",
    "    print(\"original \"+str(data_set.shape))\n",
    "    too_short = data_set[ data_set['seqlen'] < min_len ].index\n",
    "    no_short=data_set.drop(too_short)\n",
    "    print(\"no short \"+str(no_short.shape))\n",
    "    too_long = no_short[ no_short['seqlen'] >= max_len ].index\n",
    "    no_long_no_short=no_short.drop(too_long)\n",
    "    print(\"no long, no short \"+str(no_long_no_short.shape))\n",
    "    return no_long_no_short\n"
   ]
  },
  {
   "cell_type": "code",
   "execution_count": 3,
   "metadata": {},
   "outputs": [],
   "source": [
    "def do_cross_validation(X,y,K,maxlen,eps):\n",
    "    cv_scores = []\n",
    "    act=\"sigmoid\"\n",
    "    dt='float32'\n",
    "    fold=0\n",
    "    splitter = ShuffleSplit(n_splits=SPLITS, test_size=0.2, random_state=37863)\n",
    "    for train_index,valid_index in splitter.split(X):\n",
    "        X_train=X[train_index] # use iloc[] for dataframe\n",
    "        y_train=y[train_index]\n",
    "        X_valid=X[valid_index]\n",
    "        y_valid=y[valid_index]\n",
    "        print(\"BUILD MODEL\")\n",
    "        seq_len=maxlen  # None indicates variable length\n",
    "        input_features=4**K+1   # 64 DNA K-mers at K=3\n",
    "        rnn2 = keras.models.Sequential([\n",
    "            keras.layers.SimpleRNN(16, return_sequences=True, \n",
    "                                   input_shape=[seq_len,input_features]),\n",
    "            keras.layers.SimpleRNN(16, return_sequences=True),\n",
    "            keras.layers.SimpleRNN(16, return_sequences=True),\n",
    "            keras.layers.SimpleRNN(1),\n",
    "        ])\n",
    "\n",
    "        bc=tf.keras.losses.BinaryCrossentropy(from_logits=False)\n",
    "        print(\"COMPILE\")\n",
    "        rnn2.compile(loss=bc, optimizer=\"Adam\",metrics=[\"accuracy\"])\n",
    "        print(\"FIT\")\n",
    "        history=rnn2.fit(X_train, y_train, # batch_size=10, default=32 works nicely\n",
    "                epochs=eps, verbose=1,  # verbose=1 for ascii art, verbose=0 for none\n",
    "                validation_data=(X_valid,y_valid) )\n",
    "                        \n",
    "        fold += 1\n",
    "        print(\"Fold %d, %d epochs\"%(fold,eps))\n",
    "\n",
    "        pd.DataFrame(history.history).plot(figsize=(8,5))\n",
    "        plt.grid(True)\n",
    "        plt.gca().set_ylim(0,1)\n",
    "        plt.show()\n",
    "\n",
    "        scores = rnn2.evaluate(X_valid, y_valid, verbose=0)\n",
    "        print(\"%s: %.2f%%\" % (rnn2.metrics_names[1], scores[1]*100))\n",
    "        cv_scores.append(scores[1] * 100)\n",
    "    print()\n",
    "    print(\"Validation core mean %.2f%% (+/- %.2f%%)\" % (np.mean(cv_scores), np.std(cv_scores)))\n"
   ]
  },
  {
   "cell_type": "code",
   "execution_count": 4,
   "metadata": {},
   "outputs": [],
   "source": [
    "def generate_encoding_set(K,uniform_len):\n",
    "    all_possible=['A','C','G','T']\n",
    "    if K==2:\n",
    "        all_possible=['AA','AC','AG','AT','CA','CC','CG','CT','GA','GC','GG','GT','TA','TC','TG','TT']\n",
    "    else:\n",
    "        k=1\n",
    "        while k<K:\n",
    "            temp=[]\n",
    "            for kmer in all_possible:\n",
    "                temp.append(kmer+'A')\n",
    "                temp.append(kmer+'C')\n",
    "                temp.append(kmer+'G')\n",
    "                temp.append(kmer+'T')\n",
    "            k += 1\n",
    "            all_possible=temp\n",
    "    i=16\n",
    "    pad_kmer='N'*K\n",
    "    while i < uniform_len:\n",
    "        all_possible.append(pad_kmer)\n",
    "        i += 1\n",
    "    return all_possible\n",
    "\n",
    "def generate_all_kmers(K):\n",
    "    shorter_kmers=['']\n",
    "    for i in range(K):\n",
    "        longer_kmers=[]\n",
    "        for mer in shorter_kmers:\n",
    "            longer_kmers.append(mer+'A')\n",
    "            longer_kmers.append(mer+'C')\n",
    "            longer_kmers.append(mer+'G')\n",
    "            longer_kmers.append(mer+'T')\n",
    "        shorter_kmers = longer_kmers\n",
    "    return shorter_kmers\n",
    "\n",
    "def train_encoder(kmers):\n",
    "    narray = np.array(kmers)\n",
    "    array2d = narray.reshape(-1, 1)\n",
    "    encoder = OneHotEncoder(handle_unknown='ignore',sparse=False)\n",
    "    encoder.fit(array2d)\n",
    "    return encoder\n"
   ]
  },
  {
   "cell_type": "code",
   "execution_count": 5,
   "metadata": {},
   "outputs": [],
   "source": [
    "def strings_to_kmers(data,K,uniform_len):\n",
    "    all_seqs=[]\n",
    "    pad_char='N'\n",
    "    pad_kmer=pad_char*K\n",
    "    # pad_kmer=None      # Prefer this to the above. Will it work? No. Encoder balks.\n",
    "    for seq in data['sequence']:\n",
    "        i=0\n",
    "        seqlen=len(seq)\n",
    "        kmers=[]\n",
    "        while i < seqlen-K+1:\n",
    "            kmer=seq[i:i+K]\n",
    "            kmers.append(kmer)\n",
    "            i += 1\n",
    "        while i < uniform_len:\n",
    "            kmers.append(pad_kmer)\n",
    "            i += 1\n",
    "        all_seqs.append(kmers)\n",
    "    pd2d=pd.DataFrame(all_seqs)\n",
    "    return pd2d   # return 2D dataframe, uniform dimensions"
   ]
  },
  {
   "cell_type": "markdown",
   "metadata": {},
   "source": [
    "## Load and partition sequences"
   ]
  },
  {
   "cell_type": "code",
   "execution_count": 6,
   "metadata": {},
   "outputs": [],
   "source": [
    "nc_seq=load_fasta('ncRNA.fasta',0)\n",
    "pc_seq=load_fasta('pcRNA.fasta',1)\n",
    "all_seq=pd.concat((nc_seq,pc_seq),axis=0)\n",
    "\n",
    "(train_set,test_set)=make_train_test(all_seq)\n",
    "(X_test,y_test)=separate_X_and_y(test_set)\n",
    "\n",
    "nc_seq=None\n",
    "pc_seq=None\n",
    "all_seq=None"
   ]
  },
  {
   "cell_type": "code",
   "execution_count": 7,
   "metadata": {},
   "outputs": [],
   "source": [
    "def run_all(MINLEN,MAXLEN,train_set):\n",
    "    # Extract subset by length\n",
    "    print(\"Subset %d - %d\"%(MINLEN,MAXLEN))\n",
    "    train_set=subset(train_set,MINLEN,MAXLEN)# One array to two: X and y\n",
    "    (X_train_all,y_train_all)=separate_X_and_y(train_set)\n",
    "\n",
    "    # The returned values are Pandas dataframes.\n",
    "    # print(X_train_all.shape,y_train_all.shape)\n",
    "    # (X_train_all,y_train_all)\n",
    "    # y: Pandas dataframe to Python list.\n",
    "    # y_train_all=y_train_all.values.tolist()\n",
    "    # The sequences lengths are bounded but not uniform.\n",
    "    X_train_all\n",
    "    print(type(X_train_all))\n",
    "    print(X_train_all.shape)\n",
    "    print(X_train_all.iloc[0])\n",
    "    print(len(X_train_all.iloc[0]['sequence']))\n",
    "\n",
    "    # X: List of string to List of uniform-length ordered lists of K-mers.\n",
    "    X_train_kmers=strings_to_kmers(X_train_all,K,MAXLEN)\n",
    "    # X: true 2D array (no more lists)\n",
    "    X_train_kmers.shape\n",
    "    encoder = OneHotEncoder(handle_unknown='ignore',sparse=False)\n",
    "    # This takes a long time and may not be complete.\n",
    "    # We should fit to sequences that absolutely contain every possible K-mer.\n",
    "    sample_data=generate_encoding_set(K,MAXLEN)\n",
    "    sample=np.array(sample_data).reshape(-1, 1)\n",
    "    print(\"fit...\")\n",
    "    encoder.fit(sample)\n",
    "    print(str(encoder.categories_))\n",
    "\n",
    "    print(\"transform...\")\n",
    "    # From pandas dataframe to numpy to list to numpy\n",
    "    print(type(X_train_kmers))\n",
    "    num_seqs=len(X_train_kmers)\n",
    "    tmp_seqs=[]\n",
    "    for i in range(num_seqs):\n",
    "        kmer_sequence=X_train_kmers.iloc[i]\n",
    "        X1=encoder.transform(kmer_sequence.to_numpy().reshape(-1, 1))\n",
    "        tmp_seqs.append(X1)\n",
    "    encoded_seqs=np.array(tmp_seqs)\n",
    "    tmp_seqs=None\n",
    "    X_train_kmers=None\n",
    "    print(type(encoded_seqs))\n",
    "    print(encoded_seqs.shape)\n",
    "    #X_train_encoded=encoder.transform(X_train_kmers.to_numpy().reshape(-1, 1))  # FLATTENS\n",
    "    #X_train_encoded  # LONG TIME!\n",
    "\n",
    "    labels=y_train_all.to_numpy()\n",
    "    do_cross_validation(encoded_seqs,labels,K,MAXLEN,EPOCHS)"
   ]
  },
  {
   "cell_type": "markdown",
   "metadata": {
    "scrolled": true
   },
   "source": [
    "## Len 200-1Kb\n"
   ]
  },
  {
   "cell_type": "code",
   "execution_count": 8,
   "metadata": {},
   "outputs": [
    {
     "name": "stdout",
     "output_type": "stream",
     "text": [
      "Subset 200 - 1000\n",
      "original (30290, 4)\n",
      "no short (30290, 4)\n",
      "no long, no short (8879, 4)\n",
      "<class 'pandas.core.frame.DataFrame'>\n",
      "(8879, 1)\n",
      "sequence    AGTCCCTCCCCAGCCCAGCAGTCCCTCCAGGCTACATCCAGGAGAC...\n",
      "Name: 1280, dtype: object\n",
      "348\n",
      "fit...\n",
      "[array(['AAA', 'AAC', 'AAG', 'AAT', 'ACA', 'ACC', 'ACG', 'ACT', 'AGA',\n",
      "       'AGC', 'AGG', 'AGT', 'ATA', 'ATC', 'ATG', 'ATT', 'CAA', 'CAC',\n",
      "       'CAG', 'CAT', 'CCA', 'CCC', 'CCG', 'CCT', 'CGA', 'CGC', 'CGG',\n",
      "       'CGT', 'CTA', 'CTC', 'CTG', 'CTT', 'GAA', 'GAC', 'GAG', 'GAT',\n",
      "       'GCA', 'GCC', 'GCG', 'GCT', 'GGA', 'GGC', 'GGG', 'GGT', 'GTA',\n",
      "       'GTC', 'GTG', 'GTT', 'NNN', 'TAA', 'TAC', 'TAG', 'TAT', 'TCA',\n",
      "       'TCC', 'TCG', 'TCT', 'TGA', 'TGC', 'TGG', 'TGT', 'TTA', 'TTC',\n",
      "       'TTG', 'TTT'], dtype='<U3')]\n",
      "transform...\n",
      "<class 'pandas.core.frame.DataFrame'>\n",
      "<class 'numpy.ndarray'>\n",
      "(8879, 1000, 65)\n",
      "BUILD MODEL\n",
      "COMPILE\n",
      "FIT\n",
      "Epoch 1/5\n",
      "222/222 [==============================] - 172s 776ms/step - loss: 0.7214 - accuracy: 0.5056 - val_loss: 0.6940 - val_accuracy: 0.4983\n",
      "Epoch 2/5\n",
      "222/222 [==============================] - 164s 738ms/step - loss: 0.7585 - accuracy: 0.4899 - val_loss: 1.4352 - val_accuracy: 0.4989\n",
      "Epoch 3/5\n",
      "222/222 [==============================] - 161s 724ms/step - loss: 0.7542 - accuracy: 0.5018 - val_loss: 0.6960 - val_accuracy: 0.4837\n",
      "Epoch 4/5\n",
      "222/222 [==============================] - 159s 718ms/step - loss: 0.7049 - accuracy: 0.4956 - val_loss: 0.6964 - val_accuracy: 0.4955\n",
      "Epoch 5/5\n",
      "222/222 [==============================] - 160s 720ms/step - loss: 0.6980 - accuracy: 0.5047 - val_loss: 0.6988 - val_accuracy: 0.5011\n",
      "Fold 1, 5 epochs\n"
     ]
    },
    {
     "data": {
      "image/png": "[encoded data removed]",
      "text/plain": [
       "<Figure size 576x360 with 1 Axes>"
      ]
     },
     "metadata": {
      "needs_background": "light"
     },
     "output_type": "display_data"
    },
    {
     "name": "stdout",
     "output_type": "stream",
     "text": [
      "accuracy: 50.11%\n",
      "BUILD MODEL\n",
      "COMPILE\n",
      "FIT\n",
      "Epoch 1/5\n",
      "222/222 [==============================] - 179s 807ms/step - loss: 0.7060 - accuracy: 0.5056 - val_loss: 0.6931 - val_accuracy: 0.4989\n",
      "Epoch 2/5\n",
      "222/222 [==============================] - 163s 735ms/step - loss: 0.6943 - accuracy: 0.4988 - val_loss: 0.6930 - val_accuracy: 0.5034\n",
      "Epoch 3/5\n",
      "222/222 [==============================] - 160s 720ms/step - loss: 0.6947 - accuracy: 0.5082 - val_loss: 0.6947 - val_accuracy: 0.4994\n",
      "Epoch 4/5\n",
      "222/222 [==============================] - 163s 734ms/step - loss: 0.6939 - accuracy: 0.4971 - val_loss: 0.6983 - val_accuracy: 0.4983\n",
      "Epoch 5/5\n",
      "222/222 [==============================] - 161s 723ms/step - loss: 0.6938 - accuracy: 0.5015 - val_loss: 0.6937 - val_accuracy: 0.5017\n",
      "Fold 2, 5 epochs\n"
     ]
    },
    {
     "data": {
      "image/png": "[encoded data removed]",
      "text/plain": [
       "<Figure size 576x360 with 1 Axes>"
      ]
     },
     "metadata": {
      "needs_background": "light"
     },
     "output_type": "display_data"
    },
    {
     "name": "stdout",
     "output_type": "stream",
     "text": [
      "accuracy: 50.17%\n",
      "\n",
      "Validation core mean 50.14% (+/- 0.03%)\n"
     ]
    }
   ],
   "source": [
    "MINLEN=200\n",
    "MAXLEN=1000\n",
    "run_all(MINLEN,MAXLEN,train_set)"
   ]
  },
  {
   "cell_type": "markdown",
   "metadata": {},
   "source": [
    "## Len 1K-2Kb"
   ]
  },
  {
   "cell_type": "code",
   "execution_count": 9,
   "metadata": {},
   "outputs": [
    {
     "name": "stdout",
     "output_type": "stream",
     "text": [
      "Subset 1000 - 2000\n",
      "original (30290, 4)\n",
      "no short (9273, 4)\n",
      "no long, no short (3368, 4)\n",
      "<class 'pandas.core.frame.DataFrame'>\n",
      "(3368, 1)\n",
      "sequence    GGCGGGGTCGACTGACGGTAACGGGGCAGAGAGGCTGTTCGCAGAG...\n",
      "Name: 12641, dtype: object\n",
      "1338\n",
      "fit...\n",
      "[array(['AAA', 'AAC', 'AAG', 'AAT', 'ACA', 'ACC', 'ACG', 'ACT', 'AGA',\n",
      "       'AGC', 'AGG', 'AGT', 'ATA', 'ATC', 'ATG', 'ATT', 'CAA', 'CAC',\n",
      "       'CAG', 'CAT', 'CCA', 'CCC', 'CCG', 'CCT', 'CGA', 'CGC', 'CGG',\n",
      "       'CGT', 'CTA', 'CTC', 'CTG', 'CTT', 'GAA', 'GAC', 'GAG', 'GAT',\n",
      "       'GCA', 'GCC', 'GCG', 'GCT', 'GGA', 'GGC', 'GGG', 'GGT', 'GTA',\n",
      "       'GTC', 'GTG', 'GTT', 'NNN', 'TAA', 'TAC', 'TAG', 'TAT', 'TCA',\n",
      "       'TCC', 'TCG', 'TCT', 'TGA', 'TGC', 'TGG', 'TGT', 'TTA', 'TTC',\n",
      "       'TTG', 'TTT'], dtype='<U3')]\n",
      "transform...\n",
      "<class 'pandas.core.frame.DataFrame'>\n",
      "<class 'numpy.ndarray'>\n",
      "(3368, 2000, 65)\n",
      "BUILD MODEL\n",
      "COMPILE\n",
      "FIT\n",
      "Epoch 1/5\n",
      "85/85 [==============================] - 186s 2s/step - loss: 0.7104 - accuracy: 0.6158 - val_loss: 0.7039 - val_accuracy: 0.6053\n",
      "Epoch 2/5\n",
      "85/85 [==============================] - 166s 2s/step - loss: 0.6885 - accuracy: 0.6180 - val_loss: 0.6928 - val_accuracy: 0.6053\n",
      "Epoch 3/5\n",
      "85/85 [==============================] - 165s 2s/step - loss: 0.6859 - accuracy: 0.6229 - val_loss: 0.6995 - val_accuracy: 0.6053\n",
      "Epoch 4/5\n",
      "85/85 [==============================] - 165s 2s/step - loss: 0.6805 - accuracy: 0.6236 - val_loss: 0.6923 - val_accuracy: 0.6053\n",
      "Epoch 5/5\n",
      "85/85 [==============================] - 164s 2s/step - loss: 0.6857 - accuracy: 0.6132 - val_loss: 0.6967 - val_accuracy: 0.6053\n",
      "Fold 1, 5 epochs\n"
     ]
    },
    {
     "data": {
      "image/png": "[encoded data removed]",
      "text/plain": [
       "<Figure size 576x360 with 1 Axes>"
      ]
     },
     "metadata": {
      "needs_background": "light"
     },
     "output_type": "display_data"
    },
    {
     "name": "stdout",
     "output_type": "stream",
     "text": [
      "accuracy: 60.53%\n",
      "BUILD MODEL\n",
      "COMPILE\n",
      "FIT\n",
      "Epoch 1/5\n",
      "85/85 [==============================] - 176s 2s/step - loss: 9.5103 - accuracy: 0.3834 - val_loss: 9.6578 - val_accuracy: 0.3739\n",
      "Epoch 2/5\n",
      "85/85 [==============================] - 163s 2s/step - loss: 9.5103 - accuracy: 0.3834 - val_loss: 9.6578 - val_accuracy: 0.3739\n",
      "Epoch 3/5\n",
      "85/85 [==============================] - 163s 2s/step - loss: 9.5103 - accuracy: 0.3834 - val_loss: 9.6578 - val_accuracy: 0.3739\n",
      "Epoch 4/5\n",
      "85/85 [==============================] - 164s 2s/step - loss: 9.5103 - accuracy: 0.3834 - val_loss: 9.6578 - val_accuracy: 0.3739\n",
      "Epoch 5/5\n",
      "85/85 [==============================] - 167s 2s/step - loss: 9.5103 - accuracy: 0.3834 - val_loss: 9.6578 - val_accuracy: 0.3739\n",
      "Fold 2, 5 epochs\n"
     ]
    },
    {
     "data": {
      "image/png": "[encoded data removed]",
      "text/plain": [
       "<Figure size 576x360 with 1 Axes>"
      ]
     },
     "metadata": {
      "needs_background": "light"
     },
     "output_type": "display_data"
    },
    {
     "name": "stdout",
     "output_type": "stream",
     "text": [
      "accuracy: 37.39%\n",
      "\n",
      "Validation core mean 48.96% (+/- 11.57%)\n"
     ]
    }
   ],
   "source": [
    "MINLEN=1000\n",
    "MAXLEN=2000\n",
    "run_all(MINLEN,MAXLEN,train_set)"
   ]
  },
  {
   "cell_type": "markdown",
   "metadata": {},
   "source": [
    "## Len 2K-3Kb"
   ]
  },
  {
   "cell_type": "code",
   "execution_count": 10,
   "metadata": {},
   "outputs": [
    {
     "name": "stdout",
     "output_type": "stream",
     "text": [
      "Subset 2000 - 3000\n",
      "original (30290, 4)\n",
      "no short (3221, 4)\n",
      "no long, no short (1351, 4)\n",
      "<class 'pandas.core.frame.DataFrame'>\n",
      "(1351, 1)\n",
      "sequence    GTCATTCTAGCTGCCTGCTGCCTCCGCAGCGTCCCCCCAGCTCTCC...\n",
      "Name: 19713, dtype: object\n",
      "2039\n",
      "fit...\n",
      "[array(['AAA', 'AAC', 'AAG', 'AAT', 'ACA', 'ACC', 'ACG', 'ACT', 'AGA',\n",
      "       'AGC', 'AGG', 'AGT', 'ATA', 'ATC', 'ATG', 'ATT', 'CAA', 'CAC',\n",
      "       'CAG', 'CAT', 'CCA', 'CCC', 'CCG', 'CCT', 'CGA', 'CGC', 'CGG',\n",
      "       'CGT', 'CTA', 'CTC', 'CTG', 'CTT', 'GAA', 'GAC', 'GAG', 'GAT',\n",
      "       'GCA', 'GCC', 'GCG', 'GCT', 'GGA', 'GGC', 'GGG', 'GGT', 'GTA',\n",
      "       'GTC', 'GTG', 'GTT', 'NNN', 'TAA', 'TAC', 'TAG', 'TAT', 'TCA',\n",
      "       'TCC', 'TCG', 'TCT', 'TGA', 'TGC', 'TGG', 'TGT', 'TTA', 'TTC',\n",
      "       'TTG', 'TTT'], dtype='<U3')]\n",
      "transform...\n",
      "<class 'pandas.core.frame.DataFrame'>\n",
      "<class 'numpy.ndarray'>\n",
      "(1351, 3000, 65)\n",
      "BUILD MODEL\n",
      "COMPILE\n",
      "FIT\n",
      "Epoch 1/5\n",
      "34/34 [==============================] - 141s 4s/step - loss: 8.8509 - accuracy: 0.3398 - val_loss: 6.2224 - val_accuracy: 0.4170\n",
      "Epoch 2/5\n",
      "34/34 [==============================] - 137s 4s/step - loss: 6.0089 - accuracy: 0.4361 - val_loss: 4.5051 - val_accuracy: 0.5166\n",
      "Epoch 3/5\n",
      "34/34 [==============================] - 136s 4s/step - loss: 5.3347 - accuracy: 0.4574 - val_loss: 4.5835 - val_accuracy: 0.4576\n",
      "Epoch 4/5\n",
      "34/34 [==============================] - 134s 4s/step - loss: 2.1119 - accuracy: 0.3972 - val_loss: 0.7204 - val_accuracy: 0.6716\n",
      "Epoch 5/5\n",
      "34/34 [==============================] - 134s 4s/step - loss: 0.6478 - accuracy: 0.7046 - val_loss: 0.6871 - val_accuracy: 0.6753\n",
      "Fold 1, 5 epochs\n"
     ]
    },
    {
     "data": {
      "image/png": "[encoded data removed]",
      "text/plain": [
       "<Figure size 576x360 with 1 Axes>"
      ]
     },
     "metadata": {
      "needs_background": "light"
     },
     "output_type": "display_data"
    },
    {
     "name": "stdout",
     "output_type": "stream",
     "text": [
      "accuracy: 67.53%\n",
      "BUILD MODEL\n",
      "COMPILE\n",
      "FIT\n",
      "Epoch 1/5\n",
      "34/34 [==============================] - 148s 4s/step - loss: 9.9658 - accuracy: 0.3241 - val_loss: 10.9352 - val_accuracy: 0.2878\n",
      "Epoch 2/5\n",
      "34/34 [==============================] - 134s 4s/step - loss: 4.2386 - accuracy: 0.5463 - val_loss: 0.6542 - val_accuracy: 0.7122\n",
      "Epoch 3/5\n",
      "34/34 [==============================] - 133s 4s/step - loss: 0.6216 - accuracy: 0.7000 - val_loss: 0.6019 - val_accuracy: 0.7122\n",
      "Epoch 4/5\n",
      "34/34 [==============================] - 132s 4s/step - loss: 0.6117 - accuracy: 0.7000 - val_loss: 0.6014 - val_accuracy: 0.7122\n",
      "Epoch 5/5\n",
      "34/34 [==============================] - 138s 4s/step - loss: 0.6120 - accuracy: 0.7000 - val_loss: 0.6032 - val_accuracy: 0.7122\n",
      "Fold 2, 5 epochs\n"
     ]
    },
    {
     "data": {
      "image/png": "[encoded data removed]",
      "text/plain": [
       "<Figure size 576x360 with 1 Axes>"
      ]
     },
     "metadata": {
      "needs_background": "light"
     },
     "output_type": "display_data"
    },
    {
     "name": "stdout",
     "output_type": "stream",
     "text": [
      "accuracy: 71.22%\n",
      "\n",
      "Validation core mean 69.37% (+/- 1.85%)\n"
     ]
    }
   ],
   "source": [
    "MINLEN=2000\n",
    "MAXLEN=3000\n",
    "run_all(MINLEN,MAXLEN,train_set)"
   ]
  }
 ],
 "metadata": {
  "kernelspec": {
   "display_name": "Python 3",
   "language": "python",
   "name": "python3"
  },
  "language_info": {
   "codemirror_mode": {
    "name": "ipython",
    "version": 3
   },
   "file_extension": ".py",
   "mimetype": "text/x-python",
   "name": "python",
   "nbconvert_exporter": "python",
   "pygments_lexer": "ipython3",
   "version": "3.7.3"
  }
 },
 "nbformat": 4,
 "nbformat_minor": 2
}
