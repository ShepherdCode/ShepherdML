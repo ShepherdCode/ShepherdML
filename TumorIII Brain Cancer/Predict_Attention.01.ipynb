{
 "cells": [
  {
   "cell_type": "markdown",
   "metadata": {},
   "source": [
    "# Predict Attention"
   ]
  },
  {
   "cell_type": "code",
   "execution_count": 2,
   "metadata": {},
   "outputs": [
    {
     "name": "stdout",
     "output_type": "stream",
     "text": [
      "2022-07-24 07:13:46.583376\n",
      "Python 3.8.10\n",
      "sklearn 1.0.2\n"
     ]
    }
   ],
   "source": [
    "import datetime\n",
    "print(datetime.datetime.now())\n",
    "from platform import python_version\n",
    "print('Python',python_version())\n",
    "import csv\n",
    "import numpy as np\n",
    "import pandas as pd\n",
    "import matplotlib as plt\n",
    "import random\n",
    "import sklearn   # pip install --upgrade scikit-learn\n",
    "print('sklearn',sklearn.__version__)\n",
    "# The model\n",
    "from sklearn.ensemble import RandomForestClassifier"
   ]
  },
  {
   "cell_type": "code",
   "execution_count": null,
   "metadata": {},
   "outputs": [],
   "source": [
    "BASE_PATH='/home/jrm/Adjeroh/Naved/July_Run/bbox_stats/'  # alien\n",
    "# This is the patch-level csv file: one row per patch, with nucleus totals.\n",
    "# Later, incorporate the nucleus-specific csv files.\n",
    "FILENAME='Process100_Image.csv'\n",
    "# This directory contains lists of patch filenames,\n",
    "# divided into 5 folds of train/valid splits.\n",
    "# Notice patch filename [0:19] is case ID, [0:23] is WSI ID,\n",
    "# and last column is the 6-way cancer class (zero to five) of the case.\n",
    "# For example, fold0_train.txt starts:\n",
    "# TCGA-06-0129-01Z-00-DX1_5400_5100.png, 0\n",
    "# TCGA-06-0129-01Z-00-DX1_5700_6000.png, 0\n",
    "LEN_PATIENT_ID = 19\n",
    "SPLITS_BASE='/Users/jasonmiller/Downloads/TrainTestSplit/'    #air\n",
    "SPLITS_BASE='/home/jrm/Adjeroh/Naved/July_Run/TrainTestSplit/'  # alien\n",
    "SPLITS_FILES = [\n",
    "    ('fold0_train.txt','fold0_test.txt'),\n",
    "    ('fold1_train.txt','fold1_test.txt'),\n",
    "    ('fold2_train.txt','fold2_test.txt'),\n",
    "    ('fold3_train.txt','fold3_test.txt'),\n",
    "    ('fold4_train.txt','fold4_test.txt'),\n",
    "]\n",
    "NUM_FOLDS = 5\n",
    "PATIENT_TO_CANCER = {}  # hash case ID to class number"
   ]
  }
 ],
 "metadata": {
  "kernelspec": {
   "display_name": "Python 3",
   "language": "python",
   "name": "python3"
  },
  "language_info": {
   "codemirror_mode": {
    "name": "ipython",
    "version": 3
   },
   "file_extension": ".py",
   "mimetype": "text/x-python",
   "name": "python",
   "nbconvert_exporter": "python",
   "pygments_lexer": "ipython3",
   "version": "3.8.10"
  }
 },
 "nbformat": 4,
 "nbformat_minor": 4
}
