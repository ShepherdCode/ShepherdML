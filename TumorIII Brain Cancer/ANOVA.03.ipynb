{
 "cells": [
  {
   "cell_type": "markdown",
   "metadata": {},
   "source": [
    "# ANOVA\n",
    "Process Image.csv files, which has one measurement per WSI patch.\n",
    "\n",
    "Here, whether there is a class effect on one measurement.  \n",
    "Ignore the variance within patient; just use each patient's mean.  \n",
    "Compute the F-test rather than full anova.   \n",
    "\n",
    "[Link](https://saylordotorg.github.io/text_introductory-statistics/s15-04-f-tests-in-one-way-anova.html#:~:text=Test%20Statistic%20for%20Testing%20the%20Null%20Hypothesis%20that%20K%20Population%20Means%20Are%20Equal&text=If%20the%20K%20populations%20are,f2%3Dn%E2%88%92K.) to academic page on F-test with formulas.\n",
    "[Link](http://www.socr.ucla.edu/Applets.dir/F_Table.html) to table of F significance values.\n",
    "\n",
    "Given 1-N observactions x for 1-k classes.   \n",
    "Each class has ni observations.    \n",
    "Class mean $\\bar{x_i} = [ \\Sigma_i x_i ] / (n_i)$   \n",
    "Overall mean $\\bar{x} = [ \\Sigma_1^N x_i ] / (N)$    \n",
    "Or, overall mean $\\bar{x} = [ \\Sigma_1^k n_i \\bar{x_i} ] / (N)$    \n",
    "Sample variance $s^2 = [ \\Sigma (\\bar{x}-\\bar{x_i}) ] /(N-1)$\n",
    "This is corrected for extrapolation to the population; \n",
    "population variance $\\sigma^2$ is not used.   \n",
    "Between and within sum of square error:   \n",
    "SSE_b = MST = $[ \\Sigma_1^k n_i (\\bar{x}-\\bar{x_i}) ] / (k-1)$   \n",
    "SSE_w MSE = $[ \\Sigma_1^k (n_i-1)s_i^2 ] / (N-k)$    \n",
    "also called mean square for treatment/class and for error.\n"
   ]
  },
  {
   "cell_type": "code",
   "execution_count": 2,
   "metadata": {},
   "outputs": [
    {
     "name": "stdout",
     "output_type": "stream",
     "text": [
      "2022-07-26 16:49:07.803970\n"
     ]
    }
   ],
   "source": [
    "import numpy as np\n",
    "import pandas as pd\n",
    "import os\n",
    "import csv\n",
    "from datetime import datetime\n",
    "print(datetime.now())"
   ]
  },
  {
   "cell_type": "code",
   "execution_count": 3,
   "metadata": {},
   "outputs": [
    {
     "name": "stdout",
     "output_type": "stream",
     "text": [
      "Num patients: 108\n"
     ]
    }
   ],
   "source": [
    "BASE_PATH_IN='/home/jrm/Adjeroh/Naved/CP_80K/'\n",
    "BASE_PATH_IN='/Users/jasonmiller/Downloads/CellProfilerFiltered/'\n",
    "CLASS_PATH_IN='/Users/jasonmiller/Downloads/TrainTestSplit/'\n",
    "CSVFILE='Process100_Image.csv'\n",
    "MEASUREMENT='Mean_Nucleus_AreaShape_MeanRadius'\n",
    "MCOLUMN = 888  # zero based column number within csv\n",
    "ALL_PATIENTS = [p for p in os.listdir(BASE_PATH_IN) if p.startswith('TCGA-')]\n",
    "print('Num patients:',len(ALL_PATIENTS))\n",
    "CANCER_CLASSES = 6"
   ]
  },
  {
   "cell_type": "code",
   "execution_count": 4,
   "metadata": {},
   "outputs": [],
   "source": [
    "# load classes\n",
    "def load_patient_to_class():\n",
    "    PATIENT_TO_CLASS={}\n",
    "    file1 = CLASS_PATH_IN + 'fold0_train.txt'\n",
    "    file2 = CLASS_PATH_IN + 'fold0_test.txt'\n",
    "    for file in [file1,file2]:\n",
    "        with open(file) as infile:\n",
    "            reader = csv.reader(infile)\n",
    "            for row in reader:\n",
    "                patchfile = row[0]\n",
    "                patient = patchfile[:19]\n",
    "                cancer = int(row[1])\n",
    "                # The file gives this information redundantly\n",
    "                PATIENT_TO_CLASS[patient] = cancer\n",
    "    return PATIENT_TO_CLASS\n",
    "MAPPER = load_patient_to_class()"
   ]
  },
  {
   "cell_type": "code",
   "execution_count": 5,
   "metadata": {},
   "outputs": [
    {
     "name": "stdout",
     "output_type": "stream",
     "text": [
      "Class basics [[41289, 126105.65857789041, 3.0542192491436078], [12124, 44940.446064271106, 3.7067342514245385], [12209, 46142.85273802422, 3.7794129525779527], [5775, 21443.821306558217, 3.7132158106594315], [2850, 10773.871238824517, 3.780305697833164], [1518, 5775.828955408042, 3.804893910018473]]\n",
      "Overall basics [75765, 255182.4788809765, 3.368078649521237]\n"
     ]
    }
   ],
   "source": [
    "def load_basics():\n",
    "    patient_basics={}\n",
    "    class_basics=[[0,0,0]] * CANCER_CLASSES\n",
    "    overall_basics=[0,0,0]\n",
    "    for patient in ALL_PATIENTS:\n",
    "        file = BASE_PATH_IN + patient + '/' + CSVFILE\n",
    "        cancer_class = MAPPER[patient]\n",
    "        patient_total = 0\n",
    "        patient_count = 0\n",
    "        with open(file) as infile:\n",
    "            reader = csv.reader(infile)\n",
    "            header = True\n",
    "            for row in reader:\n",
    "                value = row[MCOLUMN]\n",
    "                if header:\n",
    "                    header = False\n",
    "                else:\n",
    "                    value = float(value)\n",
    "                    patient_total += value\n",
    "                    patient_count += 1\n",
    "        patient_mean = patient_total/patient_count\n",
    "        count_total_mean = (patient_count,patient_total,patient_mean)\n",
    "        patient_basics[patient] = count_total_mean\n",
    "        # running totals per class\n",
    "        count,total,mean = class_basics[cancer_class]\n",
    "        count+=patient_count\n",
    "        total+=patient_total\n",
    "        mean=total/count\n",
    "        class_basics[cancer_class] = [count,total,mean] \n",
    "        # running totals overall\n",
    "        count,total,mean = overall_basics\n",
    "        count+=patient_count\n",
    "        total+=patient_total\n",
    "        mean=total/count\n",
    "        overall_basics = [count,total,mean] \n",
    "        print('.',end='')  # progress bar\n",
    "    print()\n",
    "    return patient_basics,class_basics,overall_basics\n",
    "\n",
    "patient_basics,class_basics,overall_basics=load_basics()\n",
    "print('Class basics',class_basics)\n",
    "print('Overall basics',overall_basics)"
   ]
  },
  {
   "cell_type": "code",
   "execution_count": 6,
   "metadata": {},
   "outputs": [
    {
     "name": "stdout",
     "output_type": "stream",
     "text": [
      "class mean\n",
      "3.0542192491436078\n",
      "3.7067342514245385\n",
      "3.7794129525779527\n",
      "3.7132158106594315\n",
      "3.780305697833164\n",
      "3.804893910018473\n",
      "overall mean\n",
      "3.368078649521237\n"
     ]
    }
   ],
   "source": [
    "print('class mean')\n",
    "for cls in range(CANCER_CLASSES):\n",
    "    count,total,mean = class_basics[cls]\n",
    "    print(mean)\n",
    "print('overall mean')   \n",
    "count,total,mean = overall_basics\n",
    "print(mean)"
   ]
  },
  {
   "cell_type": "code",
   "execution_count": 18,
   "metadata": {},
   "outputs": [
    {
     "data": {
      "text/plain": [
       "1796.8948655514876"
      ]
     },
     "execution_count": 18,
     "metadata": {},
     "output_type": "execute_result"
    }
   ],
   "source": [
    "def get_between_sse():\n",
    "    ocount,ototal,omean = overall_basics\n",
    "    numerator = 0\n",
    "    for cls in range(CANCER_CLASSES):\n",
    "        ccount,ctotal,cmean = class_basics[cls]\n",
    "        deviation = omean - cmean \n",
    "        term = (ccount-1) * deviation**2\n",
    "        numerator += term\n",
    "    denominator = CANCER_CLASSES - 1\n",
    "    SSE = numerator / denominator\n",
    "    return SSE\n",
    "\n",
    "MST = get_between_sse()\n",
    "MST"
   ]
  },
  {
   "cell_type": "code",
   "execution_count": 19,
   "metadata": {},
   "outputs": [
    {
     "data": {
      "text/plain": [
       "[8.546539085607812e-05,\n",
       " 0.00010241537954172574,\n",
       " 9.056057382927914e-05,\n",
       " 7.857465983257299e-05,\n",
       " 0.00012526445027391536,\n",
       " 5.081550759273388e-05]"
      ]
     },
     "execution_count": 19,
     "metadata": {},
     "output_type": "execute_result"
    }
   ],
   "source": [
    "def get_variances():\n",
    "    variances = [0] * CANCER_CLASSES\n",
    "    for patient,pbasics in patient_basics.items():\n",
    "        # print(patient)\n",
    "        pcount,ptotal,pmean = pbasics\n",
    "        cancer_class = MAPPER[patient]\n",
    "        ccount,ctotal,cmean = class_basics[cancer_class]\n",
    "        # consider the patient mean as scalar, no variance\n",
    "        deviation = cmean - pmean\n",
    "        ds = deviation**2\n",
    "        variances[cancer_class] = variances[cancer_class] + ds\n",
    "    for cls in range(CANCER_CLASSES):\n",
    "        ccount,ctotal,cmean = class_basics[cls]\n",
    "        numerator = variances[cls]\n",
    "        denominator = ccount\n",
    "        variances[cls] = numerator / denominator\n",
    "    return variances\n",
    "\n",
    "s2 = get_variances()\n",
    "s2"
   ]
  },
  {
   "cell_type": "code",
   "execution_count": 20,
   "metadata": {},
   "outputs": [
    {
     "data": {
      "text/plain": [
       "8.927646641164446e-05"
      ]
     },
     "execution_count": 20,
     "metadata": {},
     "output_type": "execute_result"
    }
   ],
   "source": [
    "def get_within_sse(s2):\n",
    "    ocount,ototal,omean = overall_basics\n",
    "    numerator = 0\n",
    "    for cls in range(CANCER_CLASSES):\n",
    "        ccount,ctotal,cmean = class_basics[cls]\n",
    "        var = s2[cls]\n",
    "        term = (ccount-1) * var\n",
    "        numerator += term\n",
    "    denominator = ocount - CANCER_CLASSES\n",
    "    SSE = numerator / denominator\n",
    "    return SSE\n",
    "\n",
    "MSE = get_within_sse(s2)\n",
    "MSE"
   ]
  },
  {
   "cell_type": "code",
   "execution_count": 22,
   "metadata": {},
   "outputs": [
    {
     "name": "stdout",
     "output_type": "stream",
     "text": [
      "1796.8948655514876 8.927646641164446e-05 20127307.203963395\n"
     ]
    }
   ],
   "source": [
    "Fstat = MST/MSE\n",
    "print(MST,MSE,Fstat)"
   ]
  },
  {
   "cell_type": "code",
   "execution_count": null,
   "metadata": {},
   "outputs": [],
   "source": [
    "within SSE:     \n",
    "    \n",
    "    patient_sse={}\n",
    "    class_sse=[0] * CANCER_CLASSES\n",
    "    overall_sse=0\n",
    "    overall_mean = overall_basics[2]\n",
    "    for patient in ALL_PATIENTS:\n",
    "        patient_sse[patient] = 0\n",
    "    for patient in ALL_PATIENTS:\n",
    "        file = BASE_PATH_IN + patient + '/' + CSVFILE\n",
    "        pcount,ptotal,pmean = patient_basics[patient]\n",
    "        cancer_class = MAPPER[patient]\n",
    "        ccount,ctotal,cmean = class_basics[cancer_class]\n",
    "        with open(file) as infile:\n",
    "            reader = csv.reader(infile)\n",
    "            header = True\n",
    "            for row in reader:\n",
    "                value = row[MCOLUMN]\n",
    "                if header:\n",
    "                    header = False\n",
    "                else:\n",
    "                    value = float(value)\n",
    "                    deviation = overall_mean - value\n",
    "                    overall_sse += deviation**2\n",
    "                    deviation = cmean - value\n",
    "                    class_sse[cancer_class] = class_sse[cancer_class] + deviation**2\n",
    "                    deviation =  pmean - value\n",
    "                    patient_sse[patient] = patient_sse[patient] + deviation**2\n",
    "    return overall_sse,class_sse,patient_sse\n",
    "\n",
    "overall_sse,class_sse,patient_sse = get_within_sse()\n",
    "print('Overall SSE',overall_sse)\n",
    "print('Class SSE',class_sse)\n",
    "print('Patient SSE',patient_sse)"
   ]
  },
  {
   "cell_type": "code",
   "execution_count": 14,
   "metadata": {},
   "outputs": [
    {
     "name": "stdout",
     "output_type": "stream",
     "text": [
      "class count, mean, stdev\n",
      "41289 3.0542192491436078 0.40995941659219903\n",
      "12124 3.7067342514245385 0.39638367331141006\n",
      "12209 3.7794129525779527 0.42898660684657497\n",
      "5775 3.7132158106594315 0.3914563032534847\n",
      "2850 3.780305697833164 0.44813870580223025\n",
      "1518 3.804893910018473 0.31265551952606574\n",
      "overall count, mean, stdev\n",
      "75765 3.368078649521237 0.5349453640085283\n"
     ]
    }
   ],
   "source": [
    "print('class count, mean, stdev')\n",
    "for cls in range(CANCER_CLASSES):\n",
    "    ccount,ctotal,cmean = class_basics[cls]\n",
    "    csse = class_sse[cls]\n",
    "    print(ccount,cmean,np.sqrt(csse/(ccount-1)))\n",
    "print('overall count, mean, stdev')    \n",
    "ocount,ototal,omean = overall_basics\n",
    "print(ocount,omean,np.sqrt(overall_sse/(ocount-1)))"
   ]
  },
  {
   "cell_type": "code",
   "execution_count": 12,
   "metadata": {},
   "outputs": [
    {
     "name": "stdout",
     "output_type": "stream",
     "text": [
      "SSE between classes 8985.336577377375\n",
      "SSE between patients 3037.7352735549966\n"
     ]
    }
   ],
   "source": [
    "def get_between_sse():\n",
    "    patient_between=0\n",
    "    class_between=0\n",
    "    overall_mean = overall_basics[2]\n",
    "    for cls in range(CANCER_CLASSES):\n",
    "        ccount,ctotal,cmean = class_basics[cls]\n",
    "        deviation = overall_mean - cmean\n",
    "        wsse = ccount * deviation**2\n",
    "        class_between += wsse\n",
    "    for patient in ALL_PATIENTS:\n",
    "        pcount,ptotal,pmean = patient_basics[patient]\n",
    "        cancer_class = MAPPER[patient]\n",
    "        ccount,ctotal,cmean = class_basics[cancer_class]\n",
    "        deviation = cmean - pmean\n",
    "        wsse = pcount * deviation**2\n",
    "        patient_between += wsse\n",
    "    return class_between,patient_between\n",
    "\n",
    "class_between,patient_between = get_between_sse()\n",
    "print('SSE between classes',class_between)\n",
    "print('SSE between patients',patient_between)"
   ]
  },
  {
   "cell_type": "code",
   "execution_count": null,
   "metadata": {},
   "outputs": [],
   "source": []
  }
 ],
 "metadata": {
  "kernelspec": {
   "display_name": "Python 3",
   "language": "python",
   "name": "python3"
  },
  "language_info": {
   "codemirror_mode": {
    "name": "ipython",
    "version": 3
   },
   "file_extension": ".py",
   "mimetype": "text/x-python",
   "name": "python",
   "nbconvert_exporter": "python",
   "pygments_lexer": "ipython3",
   "version": "3.8.3"
  }
 },
 "nbformat": 4,
 "nbformat_minor": 4
}
