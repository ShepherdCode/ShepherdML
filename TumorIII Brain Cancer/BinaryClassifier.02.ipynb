{
 "cells": [
  {
   "cell_type": "markdown",
   "metadata": {},
   "source": [
    "# Binary Classifier\n",
    "Try predicting two classes instead of 6 cancer classes.   \n",
    "Roll the 5 LGG subtypes into one, leaving GBM vs LGG.  \n",
    "Previous notebook used choose_every=10. Here, =1."
   ]
  },
  {
   "cell_type": "code",
   "execution_count": 1,
   "metadata": {},
   "outputs": [],
   "source": [
    "MAX_DEPTH = 10\n",
    "N_ESTIMATORS = 500\n",
    "CHOOSE_EVERY = 1"
   ]
  },
  {
   "cell_type": "code",
   "execution_count": 2,
   "metadata": {},
   "outputs": [
    {
     "name": "stdout",
     "output_type": "stream",
     "text": [
      "2022-09-16 16:50:32.141777\n",
      "Python 3.10.0\n",
      "sklearn 1.1.2\n"
     ]
    }
   ],
   "source": [
    "import datetime\n",
    "print(datetime.datetime.now())\n",
    "from platform import python_version\n",
    "print('Python',python_version())\n",
    "import csv\n",
    "import numpy as np\n",
    "import pandas as pd\n",
    "import matplotlib as plt\n",
    "import random\n",
    "import sklearn   # pip install --upgrade scikit-learn\n",
    "print('sklearn',sklearn.__version__)"
   ]
  },
  {
   "cell_type": "code",
   "execution_count": 3,
   "metadata": {},
   "outputs": [],
   "source": [
    "# Shuffle X,y in tandem -- can cause shape problems\n",
    "from sklearn.utils import shuffle\n",
    "# The model\n",
    "from sklearn.ensemble import RandomForestClassifier"
   ]
  },
  {
   "cell_type": "code",
   "execution_count": 4,
   "metadata": {},
   "outputs": [],
   "source": [
    "# Our input is the output from the Data notebooks.\n",
    "# These csv files were filtered to remove give-away columns and bad rows.\n",
    "BASE_PATH='/Users/jasonmiller/Downloads/CellProfilerFiltered/'   # air\n",
    "BASE_PATH='/home/jrm/Adjeroh/Naved/July_Run/CellProfilerFiltered/'  # alien\n",
    "# This is the patch-level csv file: one row per patch, with nucleus totals.\n",
    "# Later, incorporate the nucleus-specific csv files.\n",
    "FILENAME='Process100_Image.csv'\n",
    "# This directory contains lists of patch filenames,\n",
    "# divided into 5 folds of train/valid splits.\n",
    "# Notice patch filename [0:19] is case ID, [0:23] is WSI ID,\n",
    "# and last column is the 6-way cancer class (zero to five) of the case.\n",
    "# For example, fold0_train.txt starts:\n",
    "# TCGA-06-0129-01Z-00-DX1_5400_5100.png, 0\n",
    "# TCGA-06-0129-01Z-00-DX1_5700_6000.png, 0\n",
    "LEN_PATIENT_ID = 19\n",
    "SPLITS_BASE='/Users/jasonmiller/Downloads/TrainTestSplit/'    #air\n",
    "SPLITS_BASE='/home/jrm/Adjeroh/Naved/July_Run/TrainTestSplit/'  # alien\n",
    "SPLITS_FILES = [\n",
    "    ('fold0_train.txt','fold0_test.txt'),\n",
    "    ('fold1_train.txt','fold1_test.txt'),\n",
    "    ('fold2_train.txt','fold2_test.txt'),\n",
    "    ('fold3_train.txt','fold3_test.txt'),\n",
    "    ('fold4_train.txt','fold4_test.txt'),\n",
    "]\n",
    "NUM_FOLDS = 5\n",
    "PATIENT_TO_CANCER = {}  # hash case ID to class number"
   ]
  },
  {
   "cell_type": "markdown",
   "metadata": {},
   "source": [
    "## Data loading functions"
   ]
  },
  {
   "cell_type": "code",
   "execution_count": 5,
   "metadata": {},
   "outputs": [],
   "source": [
    "# Given a case ID = patient name = directory, load the csv file.\n",
    "# Expect a value like p='TCGA-S9-A6UB-01Z-00'\n",
    "def load_patient_data(p):\n",
    "    filepath=BASE_PATH+p+'/'+FILENAME\n",
    "    df = pd.read_csv(filepath)\n",
    "    return df"
   ]
  },
  {
   "cell_type": "code",
   "execution_count": 6,
   "metadata": {},
   "outputs": [],
   "source": [
    "# Given fold, load the case/patient IDs separated into training and validation.\n",
    "# Fold should be an in between 0 and 4 for 5-fold cross validation.\n",
    "# The returned list has unique strings like  TCGA-06-0129-01Z-00\n",
    "def _load_patient_names(filename,binary=False):\n",
    "    patients=[]\n",
    "    with open(filename) as infile:\n",
    "        rows = csv.reader(infile)\n",
    "        for row in rows:\n",
    "            patient = row[0][:LEN_PATIENT_ID]\n",
    "            cancer_class = int(row[1])\n",
    "            if binary and cancer_class > 0:\n",
    "                cancer_class = 1   # collapse all LGG subclasses into one\n",
    "            if patient in PATIENT_TO_CANCER:\n",
    "                if PATIENT_TO_CANCER[patient] != cancer_class:\n",
    "                    raise Exception('One patient in two classes:',patient)\n",
    "            else:\n",
    "                PATIENT_TO_CANCER[patient] = cancer_class\n",
    "            patients.append(patient)\n",
    "    patients = list(np.unique(patients))\n",
    "    return patients\n",
    "def load_patient_names(fold,binary):\n",
    "    filenames = SPLITS_FILES[fold]  # tuple of train,valid\n",
    "    train_patients = _load_patient_names(SPLITS_BASE+filenames[0],binary)\n",
    "    valid_patients = _load_patient_names(SPLITS_BASE+filenames[1],binary)\n",
    "    return train_patients,valid_patients"
   ]
  },
  {
   "cell_type": "code",
   "execution_count": 7,
   "metadata": {},
   "outputs": [],
   "source": [
    "# Slurp csv into numpy array.\n",
    "# This works!\n",
    "def _load_train_valid_set3(patients,save_mem=False):\n",
    "    X = None  # instances with features\n",
    "    y = None  # labels = cancer class\n",
    "    z = None  # patient_id for aggregation\n",
    "    for patient in patients:\n",
    "        filepath=BASE_PATH+patient+'/'+FILENAME\n",
    "        label = PATIENT_TO_CANCER[patient]\n",
    "        Xall = np.loadtxt(filepath,skiprows=1,delimiter=',')\n",
    "        if (save_mem):\n",
    "            Xi = Xall[0::CHOOSE_EVERY].copy()  # e.g. choose every tenth row\n",
    "        else:\n",
    "            Xi = Xall\n",
    "        yi = np.full(shape=len(Xi), fill_value=label, dtype=np.int8)\n",
    "        zi = [patient]*len(Xi)  # same ID for all patches from one patient\n",
    "        if X is None:\n",
    "            X = Xi\n",
    "            y = yi\n",
    "            z = zi\n",
    "        else:\n",
    "            X = np.concatenate( (X, Xi) )\n",
    "            y = np.concatenate( (y, yi) )\n",
    "            z = np.concatenate( (z, zi) )\n",
    "    X = pd.DataFrame(X)\n",
    "    # DataFrame column headers are not required for the machine learning.\n",
    "    # We'll add them just for debugging. Arbitrarily use first row of first file.\n",
    "    patient = patients[0]\n",
    "    filepath=BASE_PATH+patient+'/'+FILENAME\n",
    "    with open(filepath) as infile:\n",
    "        rows = csv.reader(infile)\n",
    "        for row in rows:\n",
    "            header = row\n",
    "            break\n",
    "    X.columns = header\n",
    "    return X,y,z"
   ]
  },
  {
   "cell_type": "code",
   "execution_count": 8,
   "metadata": {},
   "outputs": [],
   "source": [
    "# Load csv rows for one set of train+valid patient names.\n",
    "# This is slow, probably due to concatenating dataframes.\n",
    "# Consider a rewrite that concatenates csv before constructing a dataframe.\n",
    "def load_train_valid_set(train_patient_names,valid_patient_names):\n",
    "    X_train,y_train,z_train = _load_train_valid_set3(train_patient_names,True)\n",
    "    print('Train lengths X,y,z:',X_train.shape,len(y_train),len(z_train))\n",
    "    X_valid,y_valid,z_valid = _load_train_valid_set3(valid_patient_names,False)\n",
    "    print('Valid lengths X,y,z:',X_valid.shape,len(y_valid),len(z_valid))\n",
    "    \n",
    "    # TO DO: raise exception if any valid patient is also a train patient\n",
    "    return X_train,y_train,z_train,X_valid,y_valid,z_valid"
   ]
  },
  {
   "cell_type": "markdown",
   "metadata": {},
   "source": [
    "## Aggregation functions"
   ]
  },
  {
   "cell_type": "code",
   "execution_count": 9,
   "metadata": {},
   "outputs": [],
   "source": [
    "# Later, weight each patch label by the confidence i.e. score\n",
    "def aggregate_accuracy(y_pred,z_valid):\n",
    "    L = len(y_pred)\n",
    "    if L != len(z_valid):\n",
    "        raise Exception('Lengths of y and z do not match')\n",
    "    correct = {}\n",
    "    incorrect = {}\n",
    "    patients = np.unique(z_valid)\n",
    "    for patient in patients:\n",
    "        correct[patient]=0\n",
    "        incorrect[patient]=0\n",
    "    for i in range(L):\n",
    "        patient = z_valid[i]\n",
    "        label = PATIENT_TO_CANCER[patient]\n",
    "        pred = y_pred[i]\n",
    "        if pred == label:\n",
    "            correct[patient] += 1\n",
    "        else:\n",
    "            incorrect[patient] += 1\n",
    "    numerator = 0\n",
    "    denominator = 0\n",
    "    for patient in patients:\n",
    "        denominator += 1\n",
    "        if correct[patient]>incorrect[patient]:\n",
    "            numerator += 1\n",
    "    accuracy = float(0)\n",
    "    if denominator>0:\n",
    "        accuracy = 100.0*numerator/denominator \n",
    "    return accuracy"
   ]
  },
  {
   "cell_type": "markdown",
   "metadata": {},
   "source": [
    "## Main loop: Load, Classify, Report"
   ]
  },
  {
   "cell_type": "code",
   "execution_count": 10,
   "metadata": {},
   "outputs": [],
   "source": [
    "def important_features(model):\n",
    "        # Prereqs: fit().\n",
    "        names = model.feature_names_in_\n",
    "        importances = model.feature_importances_\n",
    "        pairs = np.column_stack( (names,importances) )\n",
    "        top_array = sorted(pairs, key = lambda e:e[1], reverse=True)\n",
    "        # There must be a way to do this witout a loop!\n",
    "        top_list = []\n",
    "        for i in top_array:\n",
    "             top_list.append((i[1],i[0]))  # 0=feature_name, 1=importance\n",
    "        top_df = pd.DataFrame(top_list)\n",
    "        return top_df"
   ]
  },
  {
   "cell_type": "code",
   "execution_count": 11,
   "metadata": {},
   "outputs": [
    {
     "name": "stdout",
     "output_type": "stream",
     "text": [
      "\n",
      "2022-09-16 16:50:37.181751 Fold 0 Loading...\n"
     ]
    },
    {
     "ename": "FileNotFoundError",
     "evalue": "[Errno 2] No such file or directory: '/home/jrm/Adjeroh/Naved/July_Run/TrainTestSplit/fold0_train.txt'",
     "output_type": "error",
     "traceback": [
      "\u001b[0;31m---------------------------------------------------------------------------\u001b[0m",
      "\u001b[0;31mFileNotFoundError\u001b[0m                         Traceback (most recent call last)",
      "Input \u001b[0;32mIn [11]\u001b[0m, in \u001b[0;36m<cell line: 6>\u001b[0;34m()\u001b[0m\n\u001b[1;32m      7\u001b[0m \u001b[38;5;28mprint\u001b[39m()\n\u001b[1;32m      8\u001b[0m \u001b[38;5;28mprint\u001b[39m(datetime\u001b[38;5;241m.\u001b[39mdatetime\u001b[38;5;241m.\u001b[39mnow(),\u001b[38;5;124m'\u001b[39m\u001b[38;5;124mFold\u001b[39m\u001b[38;5;124m'\u001b[39m,fold,\u001b[38;5;124m'\u001b[39m\u001b[38;5;124mLoading...\u001b[39m\u001b[38;5;124m'\u001b[39m)\n\u001b[0;32m----> 9\u001b[0m train_patients,valid_patients \u001b[38;5;241m=\u001b[39m \u001b[43mload_patient_names\u001b[49m\u001b[43m(\u001b[49m\u001b[43mfold\u001b[49m\u001b[43m,\u001b[49m\u001b[43mBINARY\u001b[49m\u001b[43m)\u001b[49m  \n\u001b[1;32m     10\u001b[0m X_train,y_train,z_train,X_valid,y_valid,z_valid \u001b[38;5;241m=\u001b[39m \\\n\u001b[1;32m     11\u001b[0m     load_train_valid_set(train_patients,valid_patients)    \n\u001b[1;32m     12\u001b[0m \u001b[38;5;66;03m# print('Fold',fold,'patients train',train_patients,'patients valid',valid_patients)\u001b[39;00m\n\u001b[1;32m     13\u001b[0m \u001b[38;5;66;03m# print('Fold:',fold,'patches train',X_train.shape,'patches valid',X_valid.shape)\u001b[39;00m\n\u001b[1;32m     14\u001b[0m \n\u001b[0;32m   (...)\u001b[0m\n\u001b[1;32m     17\u001b[0m \u001b[38;5;66;03m# print(datetime.datetime.now(),'Shuffle...')\u001b[39;00m\n\u001b[1;32m     18\u001b[0m \u001b[38;5;66;03m# X_train,y_train = shuffle(X_train,y_train)\u001b[39;00m\n",
      "Input \u001b[0;32mIn [6]\u001b[0m, in \u001b[0;36mload_patient_names\u001b[0;34m(fold, binary)\u001b[0m\n\u001b[1;32m     21\u001b[0m \u001b[38;5;28;01mdef\u001b[39;00m \u001b[38;5;21mload_patient_names\u001b[39m(fold,binary):\n\u001b[1;32m     22\u001b[0m     filenames \u001b[38;5;241m=\u001b[39m SPLITS_FILES[fold]  \u001b[38;5;66;03m# tuple of train,valid\u001b[39;00m\n\u001b[0;32m---> 23\u001b[0m     train_patients \u001b[38;5;241m=\u001b[39m \u001b[43m_load_patient_names\u001b[49m\u001b[43m(\u001b[49m\u001b[43mSPLITS_BASE\u001b[49m\u001b[38;5;241;43m+\u001b[39;49m\u001b[43mfilenames\u001b[49m\u001b[43m[\u001b[49m\u001b[38;5;241;43m0\u001b[39;49m\u001b[43m]\u001b[49m\u001b[43m,\u001b[49m\u001b[43mbinary\u001b[49m\u001b[43m)\u001b[49m\n\u001b[1;32m     24\u001b[0m     valid_patients \u001b[38;5;241m=\u001b[39m _load_patient_names(SPLITS_BASE\u001b[38;5;241m+\u001b[39mfilenames[\u001b[38;5;241m1\u001b[39m],binary)\n\u001b[1;32m     25\u001b[0m     \u001b[38;5;28;01mreturn\u001b[39;00m train_patients,valid_patients\n",
      "Input \u001b[0;32mIn [6]\u001b[0m, in \u001b[0;36m_load_patient_names\u001b[0;34m(filename, binary)\u001b[0m\n\u001b[1;32m      4\u001b[0m \u001b[38;5;28;01mdef\u001b[39;00m \u001b[38;5;21m_load_patient_names\u001b[39m(filename,binary\u001b[38;5;241m=\u001b[39m\u001b[38;5;28;01mFalse\u001b[39;00m):\n\u001b[1;32m      5\u001b[0m     patients\u001b[38;5;241m=\u001b[39m[]\n\u001b[0;32m----> 6\u001b[0m     \u001b[38;5;28;01mwith\u001b[39;00m \u001b[38;5;28;43mopen\u001b[39;49m\u001b[43m(\u001b[49m\u001b[43mfilename\u001b[49m\u001b[43m)\u001b[49m \u001b[38;5;28;01mas\u001b[39;00m infile:\n\u001b[1;32m      7\u001b[0m         rows \u001b[38;5;241m=\u001b[39m csv\u001b[38;5;241m.\u001b[39mreader(infile)\n\u001b[1;32m      8\u001b[0m         \u001b[38;5;28;01mfor\u001b[39;00m row \u001b[38;5;129;01min\u001b[39;00m rows:\n",
      "\u001b[0;31mFileNotFoundError\u001b[0m: [Errno 2] No such file or directory: '/home/jrm/Adjeroh/Naved/July_Run/TrainTestSplit/fold0_train.txt'"
     ]
    }
   ],
   "source": [
    "patch_accuracies = []   # summary statistics\n",
    "patient_accuracies = [] # summary statistics\n",
    "\n",
    "BINARY = True\n",
    "\n",
    "for fold in range(NUM_FOLDS):\n",
    "    print()\n",
    "    print(datetime.datetime.now(),'Fold',fold,'Loading...')\n",
    "    train_patients,valid_patients = load_patient_names(fold,BINARY)  \n",
    "    X_train,y_train,z_train,X_valid,y_valid,z_valid = \\\n",
    "        load_train_valid_set(train_patients,valid_patients)    \n",
    "    # print('Fold',fold,'patients train',train_patients,'patients valid',valid_patients)\n",
    "    # print('Fold:',fold,'patches train',X_train.shape,'patches valid',X_valid.shape)\n",
    "\n",
    "    # This shuffle is pro forma, not strictly necessary.\n",
    "    # CNN models are sensitive to train set order but RF models are not. \n",
    "    # print(datetime.datetime.now(),'Shuffle...')\n",
    "    # X_train,y_train = shuffle(X_train,y_train)\n",
    "\n",
    "    print(datetime.datetime.now(),'Train...')\n",
    "    # min_samples_leaf=1 (default) led to overfitting\n",
    "    rfc = RandomForestClassifier(max_depth=MAX_DEPTH,n_estimators=N_ESTIMATORS)\n",
    "    rfc.fit(X_train,y_train)  # slow\n",
    "    \n",
    "    print(datetime.datetime.now(),'Ranked feature imporances...')\n",
    "    top = important_features(rfc)\n",
    "    #pd.set_option('display.max_rows', None)\n",
    "    print(top.loc[:10])\n",
    "    \n",
    "    print(datetime.datetime.now(),'Evaluate...')\n",
    "    y_pred = rfc.predict(X_train)\n",
    "    matches = np.count_nonzero(y_train==y_pred)\n",
    "    accuracy_t = 100.0 * matches / len(y_pred)\n",
    "    print('Fold',fold,'Patch-level Training Accuracy:',accuracy_t)\n",
    "    \n",
    "    print(datetime.datetime.now(),'Validate...')\n",
    "    y_pred = rfc.predict(X_valid)\n",
    "    matches = np.count_nonzero(y_valid==y_pred)\n",
    "    accuracy_v = 100.0 * matches / len(y_pred)\n",
    "    print('Fold',fold,'Patch-level Validation Accuracy:',accuracy_v)\n",
    "    patch_accuracies.append(accuracy_v)\n",
    "    \n",
    "    accuracy_p = aggregate_accuracy(y_pred,z_valid)\n",
    "    patient_accuracies.append(accuracy_p)\n",
    "    print('Fold',fold,'Patient-level Validation Accuracy:',accuracy_p)\n",
    "    \n",
    "    # This shouldn't be necessary but it seems to reduce memory footprint.\n",
    "    X_train=None\n",
    "    X_valid=None\n",
    "    y_train=None\n",
    "    y_valid=None\n",
    "    z_train=None\n",
    "    z_valid=None\n",
    "    rfc = None\n",
    "    y_pred = None\n",
    "    matches = None"
   ]
  },
  {
   "cell_type": "code",
   "execution_count": null,
   "metadata": {},
   "outputs": [],
   "source": [
    "print(datetime.datetime.now())\n",
    "print('Cross validation patch-level accuracy:',patch_accuracies)\n",
    "print('mean:',np.mean(patch_accuracies),'std:',np.std(patch_accuracies))\n",
    "print('Cross validation patient-level accuracy:',patient_accuracies)\n",
    "print('mean:',np.mean(patient_accuracies),'std:',np.std(patient_accuracies))\n"
   ]
  },
  {
   "cell_type": "code",
   "execution_count": null,
   "metadata": {},
   "outputs": [],
   "source": []
  }
 ],
 "metadata": {
  "kernelspec": {
   "display_name": "Python 3 (ipykernel)",
   "language": "python",
   "name": "python3"
  },
  "language_info": {
   "codemirror_mode": {
    "name": "ipython",
    "version": 3
   },
   "file_extension": ".py",
   "mimetype": "text/x-python",
   "name": "python",
   "nbconvert_exporter": "python",
   "pygments_lexer": "ipython3",
   "version": "3.10.0"
  }
 },
 "nbformat": 4,
 "nbformat_minor": 4
}
