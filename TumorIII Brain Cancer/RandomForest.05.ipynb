{
 "cells": [
  {
   "cell_type": "markdown",
   "metadata": {},
   "source": [
    "# Random Forest 05\n",
    "Notebook 4 was overfitting. Here, try min_samples_leaf = 2.\n",
    "\n",
    "Notebook for lung cancer images, modify for glioma images. After bug fixes, this ran to completion.\n",
    "\n",
    "Train a default random forest on 6-way cancer classification using just Image.csv data.\n",
    "\n",
    "Do 4-fold cross-validation, and aggregate patch-level predictions up to the WSI level. We are getting low accuracy here.\n",
    "\n",
    "For now, aggregate by majority voting, with each patch casting an equal vote. We have a bug that gives aggregate accuracy 0."
   ]
  },
  {
   "cell_type": "code",
   "execution_count": 1,
   "metadata": {},
   "outputs": [
    {
     "name": "stdout",
     "output_type": "stream",
     "text": [
      "2022-07-19 16:41:07.567132\n",
      "Python 3.8.10\n",
      "sklearn 1.0.2\n"
     ]
    }
   ],
   "source": [
    "import datetime\n",
    "print(datetime.datetime.now())\n",
    "from platform import python_version\n",
    "print('Python',python_version())\n",
    "import csv\n",
    "import numpy as np\n",
    "import pandas as pd\n",
    "import matplotlib as plt\n",
    "import random\n",
    "import sklearn   # pip install --upgrade scikit-learn\n",
    "print('sklearn',sklearn.__version__)"
   ]
  },
  {
   "cell_type": "code",
   "execution_count": 2,
   "metadata": {},
   "outputs": [],
   "source": [
    "# Shuffle X,y in tandem -- can cause shape problems\n",
    "from sklearn.utils import shuffle\n",
    "# The model\n",
    "from sklearn.ensemble import RandomForestClassifier"
   ]
  },
  {
   "cell_type": "code",
   "execution_count": 3,
   "metadata": {},
   "outputs": [],
   "source": [
    "# Our input is the output from the Data notebooks.\n",
    "# These csv files were filtered to remove give-away columns and bad rows.\n",
    "BASE_PATH='/home/jrm/Adjeroh/Naved/July_Run/CellProfilerFiltered/'\n",
    "# This is the patch-level csv file: one row per patch, with nucleus totals.\n",
    "# Later, incorporate the nucleus-specific csv files.\n",
    "FILENAME='Process100_Image.csv'\n",
    "# This directory contains lists of patch filenames,\n",
    "# divided into 5 folds of train/valid splits.\n",
    "# Notice patch filename [0:19] is case ID, [0:23] is WSI ID,\n",
    "# and last column is the 6-way cancer class (zero to five) of the case.\n",
    "# For example, fold0_train.txt starts:\n",
    "# TCGA-06-0129-01Z-00-DX1_5400_5100.png, 0\n",
    "# TCGA-06-0129-01Z-00-DX1_5700_6000.png, 0\n",
    "LEN_PATIENT_ID = 19\n",
    "SPLITS_BASE='/home/jrm/Adjeroh/Naved/July_Run/TrainTestSplit/'\n",
    "SPLITS_FILES = [\n",
    "    ('fold0_train.txt','fold0_test.txt'),\n",
    "    ('fold1_train.txt','fold1_test.txt'),\n",
    "    ('fold2_train.txt','fold2_test.txt'),\n",
    "    ('fold3_train.txt','fold3_test.txt'),\n",
    "    ('fold4_train.txt','fold4_test.txt'),\n",
    "]\n",
    "NUM_FOLDS = 5\n",
    "PATIENT_TO_CANCER = {}  # hash case ID to class number"
   ]
  },
  {
   "cell_type": "markdown",
   "metadata": {},
   "source": [
    "## Data loading functions"
   ]
  },
  {
   "cell_type": "code",
   "execution_count": 4,
   "metadata": {},
   "outputs": [],
   "source": [
    "# sklearn can do this but we were stumbling on shape & type problems\n",
    "def list_shuffle(X):   \n",
    "    L = len(X)\n",
    "    for i in range(L):\n",
    "        r = random.randrange(0,L)\n",
    "        if i!=r:\n",
    "            temp = X[i]\n",
    "            X[i] = X[r]\n",
    "            X[r] = temp\n",
    "    return X"
   ]
  },
  {
   "cell_type": "code",
   "execution_count": 5,
   "metadata": {},
   "outputs": [],
   "source": [
    "# Given a case ID = patient name = directory, load the csv file.\n",
    "# Expect a value like p='TCGA-S9-A6UB-01Z-00'\n",
    "def load_patient_data(p):\n",
    "    filepath=BASE_PATH+p+'/'+FILENAME\n",
    "    df = pd.read_csv(filepath)\n",
    "    return df"
   ]
  },
  {
   "cell_type": "code",
   "execution_count": 6,
   "metadata": {},
   "outputs": [],
   "source": [
    "# Given fold, load the case/patient IDs separated into training and validation.\n",
    "# Fold should be an in between 0 and 4 for 5-fold cross validation.\n",
    "# The returned list has unique strings like  TCGA-06-0129-01Z-00\n",
    "def _load_patient_names(filename):\n",
    "    patients=[]\n",
    "    with open(filename) as infile:\n",
    "        rows = csv.reader(infile)\n",
    "        for row in rows:\n",
    "            patient = row[0][:LEN_PATIENT_ID]\n",
    "            cancer_class = int(row[1])\n",
    "            if patient in PATIENT_TO_CANCER:\n",
    "                if PATIENT_TO_CANCER[patient] != cancer_class:\n",
    "                    raise Exception('One patient in two classes:',patient)\n",
    "            else:\n",
    "                PATIENT_TO_CANCER[patient] = cancer_class\n",
    "            patients.append(patient)\n",
    "    patients = list(np.unique(patients))\n",
    "    return patients\n",
    "def load_patient_names(fold):\n",
    "    filenames = SPLITS_FILES[fold]  # tuple of train,valid\n",
    "    train_patients = _load_patient_names(SPLITS_BASE+filenames[0])\n",
    "    valid_patients = _load_patient_names(SPLITS_BASE+filenames[1])\n",
    "    return train_patients,valid_patients"
   ]
  },
  {
   "cell_type": "code",
   "execution_count": 7,
   "metadata": {},
   "outputs": [],
   "source": [
    "# Read csv into pandas dataframes and concatenate dataframes.\n",
    "# This is too slow! Like 10 min per invocation.\n",
    "def _load_train_valid_set1(patients):\n",
    "    X = None  # instances with features\n",
    "    y = None  # labels = cancer class\n",
    "    z = []  # patient_id for aggregation\n",
    "    for patient in patients:\n",
    "        df = load_patient_data(patient)\n",
    "        label = PATIENT_TO_CANCER[patient]\n",
    "        if X is None:\n",
    "            X = df \n",
    "            y = np.full(shape=len(df), fill_value=label, dtype=np.int8)\n",
    "        else:\n",
    "            X = pd.concat( (X, df) )\n",
    "            more = np.full(shape=len(df), fill_value=label, dtype=np.int8)\n",
    "            y = np.concatenate( (y, more) )\n",
    "        z = z + [patient]*len(df)  # same ID for all patches from one patient\n",
    "    return X,y,z"
   ]
  },
  {
   "cell_type": "code",
   "execution_count": 8,
   "metadata": {},
   "outputs": [],
   "source": [
    "# Read csv into list and hold off building the dataframe till the end.\n",
    "# This runs out of memory!\n",
    "def _load_train_valid_set2(patients):\n",
    "    X = []  # instances with features\n",
    "    y = []  # labels = cancer class\n",
    "    z = []  # patient_id for aggregation\n",
    "    header = None\n",
    "    patient_count = 0\n",
    "    for patient in patients:\n",
    "        row_count = 0\n",
    "        patient_count += 1\n",
    "        filepath=BASE_PATH+patient+'/'+FILENAME\n",
    "        label = PATIENT_TO_CANCER[patient]\n",
    "        with open(filepath) as infile:\n",
    "            rows = csv.reader(infile)\n",
    "            for row in rows:\n",
    "                if row_count == 0:\n",
    "                    if header is None:\n",
    "                        header = row\n",
    "                else:\n",
    "                    X.append(row)\n",
    "                    y.append(label)\n",
    "                    z.append(patient)\n",
    "                row_count += 1\n",
    "        print('Patients:',patient_count,'Rows:',row_count)\n",
    "    X = pd.DataFrame(X)\n",
    "    X.columns = header\n",
    "    return X,y,z"
   ]
  },
  {
   "cell_type": "code",
   "execution_count": 9,
   "metadata": {},
   "outputs": [],
   "source": [
    "# Slurp csv into numpy array.\n",
    "# This works!\n",
    "def _load_train_valid_set3(patients):\n",
    "    X = None  # instances with features\n",
    "    y = None  # labels = cancer class\n",
    "    z = None  # patient_id for aggregation\n",
    "    for patient in patients:\n",
    "        filepath=BASE_PATH+patient+'/'+FILENAME\n",
    "        label = PATIENT_TO_CANCER[patient]\n",
    "        Xi = np.loadtxt(filepath,skiprows=1,delimiter=',')\n",
    "        yi = np.full(shape=len(Xi), fill_value=label, dtype=np.int8)\n",
    "        zi = [patient]*len(Xi)  # same ID for all patches from one patient\n",
    "        if X is None:\n",
    "            X = Xi\n",
    "            y = yi\n",
    "            z = zi\n",
    "        else:\n",
    "            X = np.concatenate( (X, Xi) )\n",
    "            y = np.concatenate( (y, yi) )\n",
    "            z = np.concatenate( (z, zi) )\n",
    "    X = pd.DataFrame(X)\n",
    "    # DataFrame column headers are not required for the machine learning.\n",
    "    # We'll add them just for debugging. Arbitrarily use first row of first file.\n",
    "    patient = patients[0]\n",
    "    filepath=BASE_PATH+patient+'/'+FILENAME\n",
    "    with open(filepath) as infile:\n",
    "        rows = csv.reader(infile)\n",
    "        for row in rows:\n",
    "            header = row\n",
    "            break\n",
    "    X.columns = header\n",
    "    return X,y,z"
   ]
  },
  {
   "cell_type": "code",
   "execution_count": 10,
   "metadata": {},
   "outputs": [],
   "source": [
    "# Load csv rows for one set of train+valid patient names.\n",
    "# This is slow, probably due to concatenating dataframes.\n",
    "# Consider a rewrite that concatenates csv before constructing a dataframe.\n",
    "def load_train_valid_set(train_patient_names,valid_patient_names):\n",
    "    X_train,y_train,z_train = _load_train_valid_set3(train_patient_names)\n",
    "    print('Loaded lengths X,y,z:',X_train.shape,len(y_train),len(z_train))\n",
    "    X_valid,y_valid,z_valid = _load_train_valid_set3(valid_patient_names)\n",
    "    print('Loaded lengths X,y,z:',X_valid.shape,len(y_valid),len(z_valid))\n",
    "    \n",
    "    # TO DO: raise exception if any valid patient is also a train patient\n",
    "    return X_train,y_train,z_train,X_valid,y_valid,z_valid"
   ]
  },
  {
   "cell_type": "markdown",
   "metadata": {},
   "source": [
    "## Aggregation functions"
   ]
  },
  {
   "cell_type": "code",
   "execution_count": 11,
   "metadata": {},
   "outputs": [],
   "source": [
    "# Later, weight each patch label by the confidence i.e. score\n",
    "def aggregate_accuracy(y_pred,z_valid):\n",
    "    L = len(y_pred)\n",
    "    if L != len(z_valid):\n",
    "        raise Exception('Lengths of y and z do not match')\n",
    "    correct = {}\n",
    "    incorrect = {}\n",
    "    patients = np.unique(z_valid)\n",
    "    for patient in patients:\n",
    "        correct[patient]=0\n",
    "        incorrect[patient]=0\n",
    "    for i in range(L):\n",
    "        patient = z_valid[i]\n",
    "        label = PATIENT_TO_CANCER[patient]\n",
    "        pred = y_pred[i]\n",
    "        if pred == label:\n",
    "            correct[patient] += 1\n",
    "        else:\n",
    "            incorrect[patient] += 1\n",
    "    numerator = 0\n",
    "    denominator = 0\n",
    "    for patient in patients:\n",
    "        denominator += 1\n",
    "        if correct[patient]>incorrect[patient]:\n",
    "            numerator += 1\n",
    "    accuracy = float(0)\n",
    "    if denominator>0:\n",
    "        accuracy = 100.0*numerator/denominator \n",
    "    return accuracy"
   ]
  },
  {
   "cell_type": "markdown",
   "metadata": {},
   "source": [
    "## Main loop: Load, Classify, Report"
   ]
  },
  {
   "cell_type": "code",
   "execution_count": 12,
   "metadata": {},
   "outputs": [
    {
     "name": "stdout",
     "output_type": "stream",
     "text": [
      "\n",
      "2022-07-19 16:41:08.225383 Fold 0 Loading...\n",
      "Loaded lengths X,y,z: (59992, 5302) 59992 59992\n",
      "Loaded lengths X,y,z: (15773, 5302) 15773 15773\n",
      "2022-07-19 16:42:39.150429 Shuffle...\n",
      "2022-07-19 16:42:40.693961 Train...\n",
      "2022-07-19 16:49:41.515141 Evaluate...\n",
      "Fold 0 Patch-level Training Accuracy: 99.7999733297773\n",
      "2022-07-19 16:49:44.212512 Validate...\n",
      "Fold 0 Patch-level Validation Accuracy: 48.7225004754961\n",
      "Fold 0 Patient-level Validation Accuracy: 40.0\n",
      "\n",
      "2022-07-19 16:49:44.919434 Fold 1 Loading...\n",
      "Loaded lengths X,y,z: (56068, 5302) 56068 56068\n",
      "Loaded lengths X,y,z: (19697, 5302) 19697 19697\n",
      "2022-07-19 16:51:10.078754 Shuffle...\n",
      "2022-07-19 16:51:11.647155 Train...\n",
      "2022-07-19 16:57:10.166282 Evaluate...\n",
      "Fold 1 Patch-level Training Accuracy: 99.83769708211457\n",
      "2022-07-19 16:57:12.668402 Validate...\n",
      "Fold 1 Patch-level Validation Accuracy: 67.48743463471595\n",
      "Fold 1 Patient-level Validation Accuracy: 48.0\n",
      "\n",
      "2022-07-19 16:57:13.657491 Fold 2 Loading...\n",
      "Loaded lengths X,y,z: (59829, 5302) 59829 59829\n",
      "Loaded lengths X,y,z: (15936, 5302) 15936 15936\n",
      "2022-07-19 16:58:41.540627 Shuffle...\n",
      "2022-07-19 16:58:43.043776 Train...\n",
      "2022-07-19 17:06:13.483907 Evaluate...\n",
      "Fold 2 Patch-level Training Accuracy: 99.81112838255696\n",
      "2022-07-19 17:06:16.303867 Validate...\n",
      "Fold 2 Patch-level Validation Accuracy: 40.411646586345384\n",
      "Fold 2 Patient-level Validation Accuracy: 32.0\n",
      "\n",
      "2022-07-19 17:06:17.139923 Fold 3 Loading...\n",
      "Loaded lengths X,y,z: (58688, 5302) 58688 58688\n",
      "Loaded lengths X,y,z: (17077, 5302) 17077 17077\n",
      "2022-07-19 17:07:48.591302 Shuffle...\n",
      "2022-07-19 17:07:50.095086 Train...\n",
      "2022-07-19 17:14:45.764604 Evaluate...\n",
      "Fold 3 Patch-level Training Accuracy: 99.8483505997819\n",
      "2022-07-19 17:14:48.348757 Validate...\n",
      "Fold 3 Patch-level Validation Accuracy: 57.05920243602506\n",
      "Fold 3 Patient-level Validation Accuracy: 48.0\n",
      "\n",
      "2022-07-19 17:14:49.116860 Fold 4 Loading...\n",
      "Loaded lengths X,y,z: (60896, 5302) 60896 60896\n",
      "Loaded lengths X,y,z: (14869, 5302) 14869 14869\n",
      "2022-07-19 17:16:19.997442 Shuffle...\n",
      "2022-07-19 17:16:22.219427 Train...\n",
      "2022-07-19 17:22:44.066873 Evaluate...\n",
      "Fold 4 Patch-level Training Accuracy: 99.83742774566474\n",
      "2022-07-19 17:22:47.061490 Validate...\n",
      "Fold 4 Patch-level Validation Accuracy: 58.65222947071088\n",
      "Fold 4 Patient-level Validation Accuracy: 48.0\n"
     ]
    }
   ],
   "source": [
    "patch_accuracies = []   # summary statistics\n",
    "patient_accuracies = [] # summary statistics\n",
    "\n",
    "for fold in range(NUM_FOLDS):\n",
    "    print()\n",
    "    print(datetime.datetime.now(),'Fold',fold,'Loading...')\n",
    "    train_patients,valid_patients = load_patient_names(fold)  \n",
    "    X_train,y_train,z_train,X_valid,y_valid,z_valid = \\\n",
    "        load_train_valid_set(train_patients,valid_patients)    \n",
    "    # print('Fold',fold,'patients train',train_patients,'patients valid',valid_patients)\n",
    "    # print('Fold:',fold,'patches train',X_train.shape,'patches valid',X_valid.shape)\n",
    "\n",
    "    # This shuffle is pro forma, not strictly necessary.\n",
    "    # CNN models are sensitive to train set order but RF models are not. \n",
    "    print(datetime.datetime.now(),'Shuffle...')\n",
    "    X_train,y_train = shuffle(X_train,y_train)\n",
    "\n",
    "    print(datetime.datetime.now(),'Train...')\n",
    "    # min_samples_leaf=1 (default) led to overfitting\n",
    "    rfc = RandomForestClassifier(min_samples_leaf=2)\n",
    "    rfc.fit(X_train,y_train)  # slow\n",
    "    \n",
    "    print(datetime.datetime.now(),'Evaluate...')\n",
    "    y_pred = rfc.predict(X_train)\n",
    "    matches = np.count_nonzero(y_train==y_pred)\n",
    "    accuracy = 100.0 * matches / len(y_pred)\n",
    "    print('Fold',fold,'Patch-level Training Accuracy:',accuracy)\n",
    "    \n",
    "    print(datetime.datetime.now(),'Validate...')\n",
    "    y_pred = rfc.predict(X_valid)\n",
    "    matches = np.count_nonzero(y_valid==y_pred)\n",
    "    accuracy = 100.0 * matches / len(y_pred)\n",
    "    print('Fold',fold,'Patch-level Validation Accuracy:',accuracy)\n",
    "    patch_accuracies.append(accuracy)\n",
    "    \n",
    "    accuracy = aggregate_accuracy(y_pred,z_valid)\n",
    "    patient_accuracies.append(accuracy)\n",
    "    print('Fold',fold,'Patient-level Validation Accuracy:',accuracy)\n",
    "    \n",
    "    # This shouldn't be necessary but it seems to reduce memory footprint.\n",
    "    X_train=None\n",
    "    X_valid=None\n",
    "    y_train=None\n",
    "    y_valid=None\n",
    "    z_train=None\n",
    "    z_valid=None\n",
    "    rfc = None\n",
    "    y_pred = None\n",
    "    matches = None"
   ]
  },
  {
   "cell_type": "code",
   "execution_count": 13,
   "metadata": {},
   "outputs": [
    {
     "name": "stdout",
     "output_type": "stream",
     "text": [
      "2022-07-19 17:22:47.787558\n",
      "Cross validation patch-level accuracy: [48.7225004754961, 67.48743463471595, 40.411646586345384, 57.05920243602506, 58.65222947071088]\n",
      "mean: 54.46660272065867 std: 9.212161644797115\n",
      "Cross validation patient-level accuracy: [40.0, 48.0, 32.0, 48.0, 48.0]\n",
      "mean: 43.2 std: 6.3999999999999995\n"
     ]
    }
   ],
   "source": [
    "print(datetime.datetime.now())\n",
    "print('Cross validation patch-level accuracy:',patch_accuracies)\n",
    "print('mean:',np.mean(patch_accuracies),'std:',np.std(patch_accuracies))\n",
    "print('Cross validation patient-level accuracy:',patient_accuracies)\n",
    "print('mean:',np.mean(patient_accuracies),'std:',np.std(patient_accuracies))\n"
   ]
  },
  {
   "cell_type": "code",
   "execution_count": null,
   "metadata": {},
   "outputs": [],
   "source": []
  }
 ],
 "metadata": {
  "kernelspec": {
   "display_name": "Python 3",
   "language": "python",
   "name": "python3"
  },
  "language_info": {
   "codemirror_mode": {
    "name": "ipython",
    "version": 3
   },
   "file_extension": ".py",
   "mimetype": "text/x-python",
   "name": "python",
   "nbconvert_exporter": "python",
   "pygments_lexer": "ipython3",
   "version": "3.8.10"
  }
 },
 "nbformat": 4,
 "nbformat_minor": 4
}
