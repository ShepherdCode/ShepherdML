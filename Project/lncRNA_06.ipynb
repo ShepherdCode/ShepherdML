{
 "cells": [
  {
   "cell_type": "code",
   "execution_count": 1,
   "metadata": {},
   "outputs": [],
   "source": [
    "#!/usr/bin/env python\n",
    "# coding: utf-8\n",
    "\n",
    "'''\n",
    "Input: 2mer count csv\n",
    "Output: input plus added columns for co-occurence\n",
    "'''\n",
    "import sys\n",
    "import pandas as pd\n",
    "\n",
    "def make_comatrix(inprefix,outprefix):\n",
    "    SUFFIX='.features.csv'\n",
    "    infile= inprefix + SUFFIX\n",
    "    outfile= outprefix + SUFFIX\n",
    "    print(\"in/out: \"+infile+\" / \"+outfile)\n",
    "\n",
    "    pairs_of_interest=[]\n",
    "    # indicators of nc\n",
    "    pairs_of_interest.append('CA-CG')\n",
    "    pairs_of_interest.append('CC-CG')\n",
    "    pairs_of_interest.append('CG-AC')\n",
    "    pairs_of_interest.append('CG-AG')\n",
    "    pairs_of_interest.append('CG-GC')\n",
    "    pairs_of_interest.append('CG-CT')\n",
    "    pairs_of_interest.append('CG-GA')\n",
    "    pairs_of_interest.append('CG-GG')\n",
    "    pairs_of_interest.append('CG-GT')\n",
    "    pairs_of_interest.append('CG-TG')\n",
    "    pairs_of_interest.append('CG-AA')\n",
    "    pairs_of_interest.append('CG-AT')\n",
    "    pairs_of_interest.append('CG-TA')\n",
    "    pairs_of_interest.append('CG-TC')\n",
    "    pairs_of_interest.append('CG-TT')\n",
    "    pairs_of_interest.append('GC-GG')\n",
    "    # indicators of pc\n",
    "    pairs_of_interest.append('AA-AT')\n",
    "    pairs_of_interest.append('AA-CA')\n",
    "    pairs_of_interest.append('AA-CT')\n",
    "    pairs_of_interest.append('AA-TT')\n",
    "    pairs_of_interest.append('AC-TA')\n",
    "    pairs_of_interest.append('CC-TA')\n",
    "    pairs_of_interest.append('CT-TT')\n",
    "    pairs_of_interest.append('GA-TA')\n",
    "    pairs_of_interest.append('TA-AA')\n",
    "    pairs_of_interest.append('TA-AG')\n",
    "    pairs_of_interest.append('TA-AT')\n",
    "    pairs_of_interest.append('TA-CA')\n",
    "    pairs_of_interest.append('TA-CT')\n",
    "    pairs_of_interest.append('TA-TC')\n",
    "    pairs_of_interest.append('TA-TG')\n",
    "    pairs_of_interest.append('TA-TT')\n",
    "\n",
    "    all_seqs=[]\n",
    "    df2 = pd.read_csv (infile)\n",
    "    rows=df2.shape[0]\n",
    "    for r in range(rows):\n",
    "        features_per_seq=[]\n",
    "        for pair in pairs_of_interest:\n",
    "            mer0=pair[:2]\n",
    "            mer1=pair[3:]\n",
    "            val0=df2.iloc[r].loc[mer0] # this is slow\n",
    "            val1=df2.iloc[r].loc[mer1] # convert to hashes?\n",
    "            minval=min(val0,val1)\n",
    "            features_per_seq.append(minval)\n",
    "        all_seqs.append(features_per_seq)\n",
    "    df3=pd.DataFrame(all_seqs,columns=pairs_of_interest)\n",
    "    dfc=pd.concat([df2,df3],axis='columns')\n",
    "    dfc.to_csv (outfile,index_label='index')"
   ]
  },
  {
   "cell_type": "code",
   "execution_count": 2,
   "metadata": {},
   "outputs": [
    {
     "name": "stdout",
     "output_type": "stream",
     "text": [
      "in/out: ncRNA.2mer.features.csv / ncRNA.2mer_co.features.csv\n"
     ]
    }
   ],
   "source": [
    "make_comatrix('ncRNA.2mer','ncRNA.2mer_co')"
   ]
  },
  {
   "cell_type": "code",
   "execution_count": 3,
   "metadata": {},
   "outputs": [
    {
     "name": "stdout",
     "output_type": "stream",
     "text": [
      "in/out: pcRNA.2mer.features.csv / pcRNA.2mer_co.features.csv\n"
     ]
    }
   ],
   "source": [
    "make_comatrix('pcRNA.2mer','pcRNA.2mer_co')"
   ]
  },
  {
   "cell_type": "markdown",
   "metadata": {},
   "source": [
    "## Results\n",
    "First we tested SVM and RF on 16 2-mer counts. Scores were about 79%.\n",
    "Then we added co-occurrence counts.\n",
    "We ranked 2-mers by their ratio of co-occurrence in nc vs pc sequences.\n",
    "We took the 16 K-mers at each end of the distribution.\n",
    "We counted the co-occurrence as min of both 2-mer counts.\n",
    "We observed that the co-occurrence basically enforced AT vs GC sequence.\n",
    "This was quick & dirty; we did not exclude overlapping K-mers.\n",
    "Lastly we tested SVM and RF on 16 2-mers plus 32 co-occurrence counts. Scores were about 74%."
   ]
  },
  {
   "cell_type": "code",
   "execution_count": null,
   "metadata": {},
   "outputs": [],
   "source": []
  }
 ],
 "metadata": {
  "kernelspec": {
   "display_name": "Python 3",
   "language": "python",
   "name": "python3"
  },
  "language_info": {
   "codemirror_mode": {
    "name": "ipython",
    "version": 3
   },
   "file_extension": ".py",
   "mimetype": "text/x-python",
   "name": "python",
   "nbconvert_exporter": "python",
   "pygments_lexer": "ipython3",
   "version": "3.8.3"
  }
 },
 "nbformat": 4,
 "nbformat_minor": 2
}
