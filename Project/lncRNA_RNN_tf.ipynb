{
  "nbformat": 4,
  "nbformat_minor": 0,
  "metadata": {
    "colab": {
      "name": "lncRNA_RNN_tf.ipynb",
      "provenance": [],
      "collapsed_sections": []
    },
    "kernelspec": {
      "name": "python3",
      "display_name": "Python 3"
    },
    "accelerator": "GPU"
  },
  "cells": [
    {
      "cell_type": "markdown",
      "metadata": {
        "id": "RpQeQrFhzDUB",
        "colab_type": "text"
      },
      "source": [
        "#RNN classifier for protein-coding / non-coding RNA"
      ]
    },
    {
      "cell_type": "code",
      "metadata": {
        "id": "h_fMUFH2y7c0",
        "colab_type": "code",
        "colab": {}
      },
      "source": [
        "import numpy as np\n",
        "import pandas as pd\n",
        "import matplotlib.pyplot as plt\n",
        "from sklearn.preprocessing import OneHotEncoder\n",
        "from sklearn.model_selection import StratifiedShuffleSplit\n",
        "from sklearn.model_selection import ShuffleSplit\n",
        "import tensorflow as tf\n",
        "from tensorflow import keras\n",
        "tf.keras.backend.set_floatx('float32')  # was 64, now we're running out of memory. make this 32\n",
        "\n",
        "TINY_DATASET=True"
      ],
      "execution_count": 89,
      "outputs": []
    },
    {
      "cell_type": "code",
      "metadata": {
        "id": "hbTevZfjzitQ",
        "colab_type": "code",
        "colab": {
          "base_uri": "https://localhost:8080/",
          "height": 187
        },
        "outputId": "19dcc9d4-c7bc-418b-ecd6-8838977803d2"
      },
      "source": [
        "from google.colab import drive\n",
        "drive.mount('/content/drive', force_remount=True)\n",
        "!ls drive/'My Drive'/'Colab Notebooks'/*\n",
        "\n"
      ],
      "execution_count": 90,
      "outputs": [
        {
          "output_type": "stream",
          "text": [
            "Mounted at /content/drive\n",
            "'drive/My Drive/Colab Notebooks/HellowWorld.ipynb'\n",
            "'drive/My Drive/Colab Notebooks/kc_house_data.csv'\n",
            "'drive/My Drive/Colab Notebooks/lncRNA_RNN_np.ipynb'\n",
            "'drive/My Drive/Colab Notebooks/lncRNA_RNN_tf.ipynb'\n",
            "'drive/My Drive/Colab Notebooks/ncRNA.fasta'\n",
            "'drive/My Drive/Colab Notebooks/pcRNA.fasta'\n",
            "'drive/My Drive/Colab Notebooks/summerschool.ipynb'\n",
            "'drive/My Drive/Colab Notebooks/tiny.ncRNA.fasta'\n",
            "'drive/My Drive/Colab Notebooks/tiny.pcRNA.fasta'\n"
          ],
          "name": "stdout"
        }
      ]
    },
    {
      "cell_type": "code",
      "metadata": {
        "id": "8UWIW-XV0qEY",
        "colab_type": "code",
        "colab": {
          "base_uri": "https://localhost:8080/",
          "height": 68
        },
        "outputId": "3a90ab08-b0cc-4803-ff63-1b2d0dc02a85"
      },
      "source": [
        "MIN_SEQ_LEN=200\n",
        "MAX_SEQ_LEN=25000\n",
        "DEFLINE='>'\n",
        "ncfile=\"drive/My Drive/Colab Notebooks/ncRNA.fasta\" # the full dataset\n",
        "pcfile=\"drive/My Drive/Colab Notebooks/pcRNA.fasta\" \n",
        "if TINY_DATASET:\n",
        "  ncfile=\"drive/My Drive/Colab Notebooks/tiny.ncRNA.fasta\" # 10 seqs for faster debugging\n",
        "  pcfile=\"drive/My Drive/Colab Notebooks/tiny.pcRNA.fasta\" \n",
        "\n",
        "# First try. Too slow on colab: \n",
        "# chars=tf.convert_to_tensor(list(line))\n",
        "# tfarray=tf.ragged.constant(seqs)\n",
        "#\n",
        "# Secont try. Too slow on colab:\n",
        "# chars=list(line)\n",
        "# tfarray=tf.ragged.constant(seqs) ## the slow part\n",
        "# \n",
        "# Fourth try. https://www.tensorflow.org/tutorials/load_data/numpy\n",
        "# Various numpy tricks.\n",
        "#\n",
        "# Fifth try. Convert numpy arrays to python lists.\n",
        "# This worked!\n",
        "# \n",
        "MIN_SEQ_LEN=200\n",
        "MAX_SEQ_LEN=25000\n",
        "DEFLINE='>'\n",
        "\n",
        "# Assume file was preprocessed to contain one line per seq.\n",
        "# Returned structure is ndarray of ndarray i.e no python lists inside.\n",
        "# Numpy arrays have fixed dimenstions. Workarounds won't work for us.\n",
        "# Try this. Load to numpy. Then convert to native python.\n",
        "def load_fasta(filename):\n",
        "    seqs=[]\n",
        "    with open (filename,'r') as infile:\n",
        "        for line in infile:\n",
        "            if line[0]!=DEFLINE and len(line)>=MIN_SEQ_LEN and len(line)<=MAX_SEQ_LEN:\n",
        "                line=line.rstrip()\n",
        "                # Python list feature converts string to list of char.\n",
        "                # Numpy asarray converts list to ndarray.\n",
        "                chars=np.asarray(list(line))\n",
        "                seqs.append(chars.reshape(-1, 1)) \n",
        "                # Reshape is required for encoder, must change (any,) to (any,1)\n",
        "    nparray=np.asarray(seqs)\n",
        "    return nparray\n",
        "\n",
        "print(\"Load \"+ncfile)\n",
        "nc_seqs = load_fasta(ncfile)\n",
        "print(\"Load \"+pcfile)\n",
        "pc_seqs = load_fasta(pcfile)\n",
        "nc_seqs.shape"
      ],
      "execution_count": 91,
      "outputs": [
        {
          "output_type": "stream",
          "text": [
            "Load drive/My Drive/Colab Notebooks/tiny.ncRNA.fasta\n",
            "Load drive/My Drive/Colab Notebooks/tiny.pcRNA.fasta\n"
          ],
          "name": "stdout"
        },
        {
          "output_type": "execute_result",
          "data": {
            "text/plain": [
              "(10,)"
            ]
          },
          "metadata": {
            "tags": []
          },
          "execution_count": 91
        }
      ]
    },
    {
      "cell_type": "code",
      "metadata": {
        "id": "sDh8478d2yBU",
        "colab_type": "code",
        "colab": {
          "base_uri": "https://localhost:8080/",
          "height": 51
        },
        "outputId": "09ad11fb-c1bb-4921-c3b5-c20175a26b7c"
      },
      "source": [
        "encoder = OneHotEncoder(handle_unknown='ignore',sparse=False)\n",
        "print(\"Learn DNA from first sequence in data set.\")\n",
        "seq=nc_seqs[0]  \n",
        "encoder.fit(seq)\n",
        "encoder.categories_"
      ],
      "execution_count": 92,
      "outputs": [
        {
          "output_type": "stream",
          "text": [
            "Learn DNA from first sequence in data set.\n"
          ],
          "name": "stdout"
        },
        {
          "output_type": "execute_result",
          "data": {
            "text/plain": [
              "[array(['A', 'C', 'G', 'T'], dtype='<U1')]"
            ]
          },
          "metadata": {
            "tags": []
          },
          "execution_count": 92
        }
      ]
    },
    {
      "cell_type": "code",
      "metadata": {
        "id": "t4IV6wI_3Jir",
        "colab_type": "code",
        "colab": {
          "base_uri": "https://localhost:8080/",
          "height": 204
        },
        "outputId": "de94aee1-7acd-41c8-c5d8-e7411bccc49d"
      },
      "source": [
        "print(\"Load the non-coding data\")\n",
        "nc_list=[]\n",
        "for seq in nc_seqs:\n",
        "    encoded=encoder.transform(seq)  \n",
        "    nc_list.append(encoded)\n",
        "    \n",
        "nc_all=np.array(nc_list) # .reshape(-1,1)\n",
        "print(\"shape: \"+str(nc_all.shape))\n",
        "print(\"element 0 is a sequence: \\n\"+str(nc_all[0]))\n",
        "print(\"element 0,0 is one letter: \"+str(nc_all[0][0]))"
      ],
      "execution_count": 93,
      "outputs": [
        {
          "output_type": "stream",
          "text": [
            "Load the non-coding data\n",
            "shape: (10,)\n",
            "element 0 is a sequence: \n",
            "[[0. 0. 0. 1.]\n",
            " [0. 1. 0. 0.]\n",
            " [1. 0. 0. 0.]\n",
            " ...\n",
            " [0. 0. 1. 0.]\n",
            " [0. 0. 0. 1.]\n",
            " [0. 1. 0. 0.]]\n",
            "element 0,0 is one letter: [0. 0. 0. 1.]\n"
          ],
          "name": "stdout"
        }
      ]
    },
    {
      "cell_type": "code",
      "metadata": {
        "id": "ksoVJ45O3R88",
        "colab_type": "code",
        "colab": {
          "base_uri": "https://localhost:8080/",
          "height": 51
        },
        "outputId": "2373fe56-7538-431f-c9ea-2b6b9065e467"
      },
      "source": [
        "print(\"Load the protein-coding data\")\n",
        "pc_list=[]\n",
        "for seq in pc_seqs:\n",
        "    encoded=encoder.transform(seq)\n",
        "    pc_list.append(encoded)\n",
        "\n",
        "pc_all=np.array(pc_list) # .reshape(-1,1)\n",
        "pc_all.shape"
      ],
      "execution_count": 94,
      "outputs": [
        {
          "output_type": "stream",
          "text": [
            "Load the protein-coding data\n"
          ],
          "name": "stdout"
        },
        {
          "output_type": "execute_result",
          "data": {
            "text/plain": [
              "(10,)"
            ]
          },
          "metadata": {
            "tags": []
          },
          "execution_count": 94
        }
      ]
    },
    {
      "cell_type": "code",
      "metadata": {
        "id": "ktXmlOvf3cXv",
        "colab_type": "code",
        "colab": {
          "base_uri": "https://localhost:8080/",
          "height": 34
        },
        "outputId": "ce627fed-675c-4b55-d39b-4a96c658d9bd"
      },
      "source": [
        "nc_labels=np.zeros(shape=(17711))   # full dataset\n",
        "pc_labels=np.ones(shape=(20152))\n",
        "if TINY_DATASET:\n",
        "  nc_labels=np.zeros(shape=(10))  # fast debugging\n",
        "  pc_labels=np.ones(shape=(10))\n",
        "\n",
        "#nc_labeled=np.concatenate((nc_all,nc_labels),axis=1)\n",
        "#pc_labeled=np.concatenate((pc_all,pc_labels),axis=1)\n",
        "all_seqs=np.concatenate((nc_all,pc_all),axis=0)\n",
        "all_labels=np.concatenate((nc_labels,pc_labels),axis=0)\n",
        "\n",
        "all_seqs.shape,all_labels.shape"
      ],
      "execution_count": 95,
      "outputs": [
        {
          "output_type": "execute_result",
          "data": {
            "text/plain": [
              "((20,), (20,))"
            ]
          },
          "metadata": {
            "tags": []
          },
          "execution_count": 95
        }
      ]
    },
    {
      "cell_type": "code",
      "metadata": {
        "id": "_47ZVx7K3nxs",
        "colab_type": "code",
        "colab": {
          "base_uri": "https://localhost:8080/",
          "height": 85
        },
        "outputId": "53c18c4c-f6bc-43fd-f1cc-0e7cd3586aa4"
      },
      "source": [
        "splitter = ShuffleSplit(n_splits=1, test_size=0.2, random_state=37863)\n",
        "for train_index,test_index in splitter.split(all_seqs):\n",
        "    train_seqs =   all_seqs[train_index]\n",
        "    train_labels = all_labels[train_index]\n",
        "    test_seqs =    all_seqs[test_index]\n",
        "    test_labels =  all_labels[test_index]\n",
        " \n",
        "print(\"train\")\n",
        "print(train_seqs.shape,train_labels.shape)\n",
        "print(\"test\")\n",
        "print(test_seqs.shape,test_labels.shape)"
      ],
      "execution_count": 96,
      "outputs": [
        {
          "output_type": "stream",
          "text": [
            "train\n",
            "(16,) (16,)\n",
            "test\n",
            "(4,) (4,)\n"
          ],
          "name": "stdout"
        }
      ]
    },
    {
      "cell_type": "code",
      "metadata": {
        "id": "gc-4b5H8f3ud",
        "colab_type": "code",
        "colab": {
          "base_uri": "https://localhost:8080/",
          "height": 34
        },
        "outputId": "f3c6d098-4dd9-4b81-fa01-a3bf7abcf560"
      },
      "source": [
        "# The SimpleRNN won't accept our numpy arrays. Here is the error.\n",
        "# Would it accept python lists?\n",
        "\n",
        "def numpy_to_python_3D(np_seqs):\n",
        "    one_set = []\n",
        "    tlen = len(np_seqs)\n",
        "    for i in range(tlen): # for every sequence in set\n",
        "        one_seq = []\n",
        "        slen = len(np_seqs[i])\n",
        "        for j in range(slen): # for ever letter in sequence\n",
        "            one_letter=np_seqs[i][j]\n",
        "            one_seq.append(one_letter)\n",
        "        one_set.append(one_seq)\n",
        "    return one_set\n",
        "train_seqs = numpy_to_python_3D(train_seqs)\n",
        "test_seqs = numpy_to_python_3D(test_seqs)\n",
        "train_labels = train_labels.tolist()\n",
        "test_labels = test_labels.tolist()\n",
        "train_seqs[0][0]"
      ],
      "execution_count": 97,
      "outputs": [
        {
          "output_type": "execute_result",
          "data": {
            "text/plain": [
              "array([0., 0., 1., 0.])"
            ]
          },
          "metadata": {
            "tags": []
          },
          "execution_count": 97
        }
      ]
    },
    {
      "cell_type": "code",
      "metadata": {
        "id": "sg63v7l03y6A",
        "colab_type": "code",
        "colab": {
          "base_uri": "https://localhost:8080/",
          "height": 85
        },
        "outputId": "cf6585f9-b1db-489c-b3bb-32a77c3ad4db"
      },
      "source": [
        "# Now that values are shuffled, partition gives random sample.\n",
        "PARTITION=25000 # full dataset, TO DO: compute this as % of input\n",
        "if TINY_DATASET:\n",
        "  PARTITION=10     # tiny data, fast debugging\n",
        "\n",
        "X_train=train_seqs[:PARTITION]\n",
        "X_valid=train_seqs[PARTITION:]\n",
        "y_train=train_labels[:PARTITION]\n",
        "y_valid=train_labels[PARTITION:]\n",
        "print(\"train 0,0 is one letter: \\n\"+str(X_train[0][0]))\n",
        "print(len(X_train))\n",
        "print(len(X_valid))"
      ],
      "execution_count": 98,
      "outputs": [
        {
          "output_type": "stream",
          "text": [
            "train 0,0 is one letter: \n",
            "[0. 0. 1. 0.]\n",
            "10\n",
            "6\n"
          ],
          "name": "stdout"
        }
      ]
    },
    {
      "cell_type": "code",
      "metadata": {
        "id": "OpBSrj6t32p3",
        "colab_type": "code",
        "colab": {
          "base_uri": "https://localhost:8080/",
          "height": 153
        },
        "outputId": "faae52f8-da01-41e5-f2f1-b3381630f090"
      },
      "source": [
        "X_train = tf.ragged.constant(X_train)  # Numpy to Tensor takes a long time and hogs memory\n",
        "print(type(X_train))\n",
        "print(X_train.shape)\n",
        "y_train = tf.convert_to_tensor(y_train)\n",
        "print(type(y_train))\n",
        "print(y_train.shape)\n",
        "X_valid = tf.ragged.constant(X_valid)\n",
        "print(type(X_valid))\n",
        "print(X_valid.shape)\n",
        "y_valid = tf.convert_to_tensor(y_valid)\n",
        "print(type(y_valid))\n",
        "print(y_valid.shape)"
      ],
      "execution_count": 99,
      "outputs": [
        {
          "output_type": "stream",
          "text": [
            "<class 'tensorflow.python.ops.ragged.ragged_tensor.RaggedTensor'>\n",
            "(10, None, None)\n",
            "<class 'tensorflow.python.framework.ops.EagerTensor'>\n",
            "(10,)\n",
            "<class 'tensorflow.python.ops.ragged.ragged_tensor.RaggedTensor'>\n",
            "(6, None, None)\n",
            "<class 'tensorflow.python.framework.ops.EagerTensor'>\n",
            "(6,)\n"
          ],
          "name": "stdout"
        }
      ]
    },
    {
      "cell_type": "code",
      "metadata": {
        "id": "8yO1WsdB3-O_",
        "colab_type": "code",
        "colab": {
          "base_uri": "https://localhost:8080/",
          "height": 221
        },
        "outputId": "a73f9eb2-f885-478b-9ebc-3bc8f308224f"
      },
      "source": [
        "seq_len=None  # none indicates variable length\n",
        "input_features=4  # one hot encoding of DNA means 4 categories\n",
        "rnn2 = keras.models.Sequential([\n",
        "    keras.layers.SimpleRNN(4, return_sequences=True, input_shape=[seq_len,input_features]),\n",
        "    keras.layers.SimpleRNN(1),\n",
        "])\n",
        "bc=tf.keras.losses.BinaryCrossentropy(from_logits=False)\n",
        "rnn2.compile(loss=bc, optimizer=\"Adam\",metrics=[\"accuracy\"])\n",
        "rnn2.summary()"
      ],
      "execution_count": 100,
      "outputs": [
        {
          "output_type": "stream",
          "text": [
            "Model: \"sequential_6\"\n",
            "_________________________________________________________________\n",
            "Layer (type)                 Output Shape              Param #   \n",
            "=================================================================\n",
            "simple_rnn_12 (SimpleRNN)    (None, None, 4)           36        \n",
            "_________________________________________________________________\n",
            "simple_rnn_13 (SimpleRNN)    (None, 1)                 6         \n",
            "=================================================================\n",
            "Total params: 42\n",
            "Trainable params: 42\n",
            "Non-trainable params: 0\n",
            "_________________________________________________________________\n"
          ],
          "name": "stdout"
        }
      ]
    },
    {
      "cell_type": "code",
      "metadata": {
        "id": "rNS94qlM4EuD",
        "colab_type": "code",
        "colab": {
          "base_uri": "https://localhost:8080/",
          "height": 425
        },
        "outputId": "87ddb2c0-0212-4381-8fb0-cbd02dc34a57"
      },
      "source": [
        "print(\"X_train \"+str(X_train.shape))\n",
        "print(\"y_train \"+str(y_train.shape))\n",
        "print(\"X_valid \"+str(X_valid.shape))\n",
        "print(\"y_valid \"+str(y_valid.shape))\n",
        "\n",
        "#history = rnn2.fit(X_train,y_train,epochs=10) # loss = 5, acc = 62.5%\n",
        "#history = rnn2.fit(X_train,y_train,epochs=10,validation_split=0.5) # `validation_split` is only supported for Tensors or NumPy arrays, found: (<tf.RaggedTensor \n",
        "#history = rnn2.fit(X_train,y_train,epochs=10,validation_data=(X_valid,y_valid),batch_size=2) \n",
        "history = rnn2.fit(X_train,y_train,epochs=10,validation_data=(X_valid,y_valid)) \n",
        "\n",
        "# UnboundLocalError: local variable 'logs' referenced before assignment\n",
        "# This is a two-year old bug. The case is still open.\n",
        "# It seems to happen when validation set not same size as training set.\n",
        "# I tried validation set 8 and 4 for training set = 16.\n",
        "# Suggestion to decrease batch_size doesn't work for me, even at size=1.\n",
        "# https://github.com/tensorflow/tensorflow/issues/38064\n",
        "# I get this error every time on CoLab but never on my Mac.\n",
        "# Maybe it only happens on small datasets.\n"
      ],
      "execution_count": 101,
      "outputs": [
        {
          "output_type": "stream",
          "text": [
            "X_train (10, None, None)\n",
            "y_train (10,)\n",
            "X_valid (6, None, None)\n",
            "y_valid (6,)\n",
            "Epoch 1/10\n",
            "1/1 [==============================] - 4s 4s/step - loss: 4.6855 - accuracy: 0.7000 - val_loss: 2.8430 - val_accuracy: 0.6667\n",
            "Epoch 2/10\n",
            "1/1 [==============================] - 4s 4s/step - loss: 4.6788 - accuracy: 0.7000 - val_loss: 2.8344 - val_accuracy: 0.6667\n",
            "Epoch 3/10\n",
            "1/1 [==============================] - 4s 4s/step - loss: 4.6730 - accuracy: 0.7000 - val_loss: 2.8271 - val_accuracy: 0.8333\n",
            "Epoch 4/10\n",
            "1/1 [==============================] - 4s 4s/step - loss: 4.6681 - accuracy: 0.7000 - val_loss: 2.8211 - val_accuracy: 0.8333\n",
            "Epoch 5/10\n",
            "1/1 [==============================] - 4s 4s/step - loss: 4.6640 - accuracy: 0.7000 - val_loss: 2.8161 - val_accuracy: 0.8333\n",
            "Epoch 6/10\n",
            "1/1 [==============================] - 3s 3s/step - loss: 4.6606 - accuracy: 0.7000 - val_loss: 2.8119 - val_accuracy: 0.8333\n",
            "Epoch 7/10\n",
            "1/1 [==============================] - 4s 4s/step - loss: 4.6578 - accuracy: 0.7000 - val_loss: 2.8083 - val_accuracy: 0.8333\n",
            "Epoch 8/10\n",
            "1/1 [==============================] - 4s 4s/step - loss: 4.6554 - accuracy: 0.7000 - val_loss: 2.8053 - val_accuracy: 0.8333\n",
            "Epoch 9/10\n",
            "1/1 [==============================] - 3s 3s/step - loss: 4.6534 - accuracy: 0.7000 - val_loss: 2.8029 - val_accuracy: 0.8333\n",
            "Epoch 10/10\n",
            "1/1 [==============================] - 3s 3s/step - loss: 4.6517 - accuracy: 0.7000 - val_loss: 2.8009 - val_accuracy: 0.8333\n"
          ],
          "name": "stdout"
        }
      ]
    },
    {
      "cell_type": "code",
      "metadata": {
        "id": "0ksJfNfF4P3S",
        "colab_type": "code",
        "colab": {
          "base_uri": "https://localhost:8080/",
          "height": 324
        },
        "outputId": "1aafe5d7-4790-4e41-8ab4-984725b51a1d"
      },
      "source": [
        "pd.DataFrame(history.history).plot(figsize=(8,5))\n",
        "plt.grid(True)\n",
        "plt.gca().set_ylim(0,1)\n",
        "plt.show()"
      ],
      "execution_count": 102,
      "outputs": [
        {
          "output_type": "display_data",
          "data": {
            "image/png": "[encoded data removed]",
            "text/plain": [
              "<Figure size 576x360 with 1 Axes>"
            ]
          },
          "metadata": {
            "tags": [],
            "needs_background": "light"
          }
        }
      ]
    }
  ]
}