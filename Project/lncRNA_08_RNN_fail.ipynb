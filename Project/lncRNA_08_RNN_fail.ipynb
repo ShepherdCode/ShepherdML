{
 "cells": [
  {
   "cell_type": "markdown",
   "metadata": {},
   "source": [
    "# Our first RNN\n",
    "Generic RNN for RNA sequence.\n",
    "\n",
    "First goal.\n",
    "Input sequence of K-mer frequencies, output binary classifier: protein-coding or non-coding.\n",
    "Try to beat the DNN that we trained previously. "
   ]
  },
  {
   "cell_type": "code",
   "execution_count": 1,
   "metadata": {},
   "outputs": [],
   "source": [
    "import numpy as np\n",
    "import pandas as pd\n",
    "import matplotlib.pyplot as plt\n",
    "from sklearn.model_selection import StratifiedShuffleSplit\n",
    "import tensorflow as tf\n",
    "from tensorflow import keras\n",
    "tf.keras.backend.set_floatx('float64')\n",
    "\n",
    "# Split into train/test stratified by sequence length.\n",
    "def sizebin(df):\n",
    "    return pd.cut(df[\"seqlen\"],\n",
    "                              bins=[0,1000,2000,4000,8000,16000,np.inf],\n",
    "                              labels=[0,1,2,3,4,5])"
   ]
  },
  {
   "cell_type": "code",
   "execution_count": 2,
   "metadata": {},
   "outputs": [
    {
     "data": {
      "text/plain": [
       "(1, 5290, 64)"
      ]
     },
     "execution_count": 2,
     "metadata": {},
     "output_type": "execute_result"
    }
   ],
   "source": [
    "nc3 = pd.read_csv ('ncRNA.3mer.features.csv')\n",
    "pc3 = pd.read_csv ('pcRNA.3mer.features.csv')\n",
    "nc3['class']=0\n",
    "pc3['class']=1\n",
    "rna3mer=pd.concat((nc3,pc3),axis=0)\n",
    "bin_labels= sizebin(rna3mer)\n",
    "splitter = StratifiedShuffleSplit(n_splits=1, test_size=0.2, random_state=37863)\n",
    "for train_index,test_index in splitter.split(rna3mer,bin_labels):\n",
    "    train_set = rna3mer.iloc[train_index]\n",
    "    test_set =  rna3mer.iloc[test_index]\n",
    "y_train_all=  train_set[['class']].copy()\n",
    "X_train_all=  train_set.div(train_set['seqlen'],axis=0)\n",
    "X_train_all=  X_train_all.drop(columns=['class','seqnum','seqlen'])\n",
    "y_test=   test_set[['class']].copy()\n",
    "X_test=   test_set.div(test_set['seqlen'],axis=0)\n",
    "X_test=   X_test.drop(columns=['class','seqnum','seqlen'])\n",
    "X_train,y_train=X_train_all[:25000],y_train_all[:25000]\n",
    "X_valid,y_valid=X_train_all[25000:],y_train_all[25000:]\n",
    "# Convert pandas data frames to numpy arrays so we can use the reshape function.\n",
    "# If pandas has reshape, I can't find it.\n",
    "# Consider reading the data into numpy arrays in the first place.\n",
    "# The first dimesion is batch size. Use -1 for unknown. Will it use batch=25K?\n",
    "X_train = X_train.to_numpy().reshape(-1,25000,64)\n",
    "y_train = y_train.to_numpy().reshape(-1,25000,1)\n",
    "X_valid = X_valid.to_numpy().reshape(-1,5290,64)\n",
    "y_valid = y_valid.to_numpy().reshape(-1,5290,1)\n",
    "X_valid.shape"
   ]
  },
  {
   "cell_type": "code",
   "execution_count": 3,
   "metadata": {},
   "outputs": [],
   "source": [
    "# Input to SimpleRNN is 3D tensor: [batch size, time steps, dimensionality]\n",
    "# batch size = b = between 1 and 25K\n",
    "# time steps = L = length of sequences in this batch\n",
    "# dimensionality = d = num features\n",
    "\n",
    "# For us d=64.\n",
    "# L has to be uniform for one whole batch. Some poeple zero-pad each sequence.\n",
    "# Another choice is to set L=None and b=1 but this will be slow to train.\n",
    "# We'll try this first.\n",
    "\n",
    "# Long sequences can be split into subsequences of one batch. Set stateful=True\n",
    "# https://keras.io/guides/working_with_rnns/"
   ]
  },
  {
   "cell_type": "code",
   "execution_count": 4,
   "metadata": {},
   "outputs": [
    {
     "name": "stdout",
     "output_type": "stream",
     "text": [
      "Epoch 1/5\n",
      "1/1 [==============================] - 1s 899ms/step - loss: 8.2363 - accuracy: 0.4660 - val_loss: 8.2023 - val_accuracy: 0.4682\n",
      "Epoch 2/5\n",
      "1/1 [==============================] - 0s 430ms/step - loss: 8.2363 - accuracy: 0.4660 - val_loss: 8.2023 - val_accuracy: 0.4682\n",
      "Epoch 3/5\n",
      "1/1 [==============================] - 0s 399ms/step - loss: 8.2363 - accuracy: 0.4660 - val_loss: 8.2023 - val_accuracy: 0.4682\n",
      "Epoch 4/5\n",
      "1/1 [==============================] - 0s 473ms/step - loss: 8.2363 - accuracy: 0.4660 - val_loss: 8.2023 - val_accuracy: 0.4682\n",
      "Epoch 5/5\n",
      "1/1 [==============================] - 0s 409ms/step - loss: 8.2363 - accuracy: 0.4660 - val_loss: 8.2023 - val_accuracy: 0.4682\n"
     ]
    }
   ],
   "source": [
    "seq_len=None  # variable\n",
    "input_features=64\n",
    "# Consider using return_sequences = True at intermediate layers\n",
    "# Consider using BatchNormalization\n",
    "# Consider random initialization\n",
    "rnn1 = keras.models.Sequential([\n",
    "    keras.layers.SimpleRNN(64,  # match input \n",
    "                           return_sequences=True, input_shape=[seq_len,input_features]),\n",
    "    keras.layers.SimpleRNN(1), # match output\n",
    "])\n",
    "bc=tf.keras.losses.BinaryCrossentropy(from_logits=False)\n",
    "rnn1.compile(loss=bc, optimizer=\"Adam\",metrics=[\"accuracy\"])\n",
    "history = rnn1.fit(X_train,y_train,epochs=5,validation_data=(X_valid,y_valid))\n",
    "# This is really slow. We need a GPU.\n",
    "# What does 1/1 mean? Is it learning on one sequence or one whole batch?\n",
    "# How can we examine the weights to be sure it is learning?"
   ]
  },
  {
   "cell_type": "code",
   "execution_count": 5,
   "metadata": {},
   "outputs": [
    {
     "data": {
      "image/png": "[encoded data removed]",
      "text/plain": [
       "<Figure size 576x360 with 1 Axes>"
      ]
     },
     "metadata": {
      "needs_background": "light"
     },
     "output_type": "display_data"
    }
   ],
   "source": [
    "pd.DataFrame(history.history).plot(figsize=(8,5))\n",
    "plt.grid(True)\n",
    "plt.gca().set_ylim(0,1)\n",
    "plt.show()"
   ]
  },
  {
   "cell_type": "markdown",
   "metadata": {},
   "source": [
    "So far, accuracy is slightly better than guessing."
   ]
  },
  {
   "cell_type": "markdown",
   "metadata": {},
   "source": [
    "This is nonsense. \n",
    "We are feeding 64 K-mer frequencies per RNA.\n",
    "We need to feed each RNA as a time series of K-mers.\n",
    "Using 1-hot encoding for K-mers makes no sense except for K=1.\n",
    "Use word2vec for consecutive overlapping K-mers."
   ]
  },
  {
   "cell_type": "code",
   "execution_count": null,
   "metadata": {},
   "outputs": [],
   "source": []
  }
 ],
 "metadata": {
  "kernelspec": {
   "display_name": "Python 3",
   "language": "python",
   "name": "python3"
  },
  "language_info": {
   "codemirror_mode": {
    "name": "ipython",
    "version": 3
   },
   "file_extension": ".py",
   "mimetype": "text/x-python",
   "name": "python",
   "nbconvert_exporter": "python",
   "pygments_lexer": "ipython3",
   "version": "3.8.3"
  }
 },
 "nbformat": 4,
 "nbformat_minor": 2
}
