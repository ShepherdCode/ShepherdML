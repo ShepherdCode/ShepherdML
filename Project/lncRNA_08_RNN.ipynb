{
 "cells": [
  {
   "cell_type": "markdown",
   "metadata": {},
   "source": [
    "# Our first RNN\n",
    "Generic RNN for RNA sequence.\n",
    "\n",
    "First goal.\n",
    "Input sequence of K-mer frequencies, output binary classifier: protein-coding or non-coding.\n",
    "Try to beat the DNN that we trained previously. "
   ]
  },
  {
   "cell_type": "code",
   "execution_count": 3,
   "metadata": {},
   "outputs": [],
   "source": [
    "import numpy as np\n",
    "import pandas as pd\n",
    "import matplotlib.pyplot as plt\n",
    "from sklearn.model_selection import StratifiedShuffleSplit\n",
    "import tensorflow as tf\n",
    "from tensorflow import keras\n",
    "tf.keras.backend.set_floatx('float64')\n",
    "\n",
    "# Split into train/test stratified by sequence length.\n",
    "def sizebin(df):\n",
    "    return pd.cut(df[\"seqlen\"],\n",
    "                              bins=[0,1000,2000,4000,8000,16000,np.inf],\n",
    "                              labels=[0,1,2,3,4,5])"
   ]
  },
  {
   "cell_type": "code",
   "execution_count": 4,
   "metadata": {},
   "outputs": [],
   "source": [
    "nc3 = pd.read_csv ('ncRNA.3mer.features.csv')\n",
    "pc3 = pd.read_csv ('pcRNA.3mer.features.csv')\n",
    "nc3['class']=0\n",
    "pc3['class']=1\n",
    "rna3mer=pd.concat((nc3,pc3),axis=0)\n",
    "bin_labels= sizebin(rna3mer)\n",
    "splitter = StratifiedShuffleSplit(n_splits=1, test_size=0.2, random_state=37863)\n",
    "for train_index,test_index in splitter.split(rna3mer,bin_labels):\n",
    "    train_set = rna3mer.iloc[train_index]\n",
    "    test_set =  rna3mer.iloc[test_index]\n",
    "y_train_all=  train_set[['class']].copy()\n",
    "X_train_all=  train_set.div(train_set['seqlen'],axis=0)\n",
    "X_train_all=  X_train_all.drop(columns=['class','seqnum','seqlen'])\n",
    "y_test=   test_set[['class']].copy()\n",
    "X_test=   test_set.div(test_set['seqlen'],axis=0)\n",
    "X_test=   X_test.drop(columns=['class','seqnum','seqlen'])\n",
    "X_train,y_train=X_train_all[:25000],y_train_all[:25000]\n",
    "X_valid,y_valid=X_train_all[25000:],y_train_all[25000:]"
   ]
  },
  {
   "cell_type": "code",
   "execution_count": 6,
   "metadata": {},
   "outputs": [
    {
     "name": "stdout",
     "output_type": "stream",
     "text": [
      "Epoch 1/5\n",
      "WARNING:tensorflow:Layer layer_normalization_1 is casting an input tensor from dtype float64 to the layer's dtype of float32, which is new behavior in TensorFlow 2.  The layer has dtype float32 because it's dtype defaults to floatx.\n",
      "\n",
      "If you intended to run this layer in float32, you can safely ignore this warning. If in doubt, this warning is likely only an issue if you are porting a TensorFlow 1.X model to TensorFlow 2.\n",
      "\n",
      "To change all layers to have dtype float64 by default, call `tf.keras.backend.set_floatx('float64')`. To change just this layer, pass dtype='float64' to the layer constructor. If you are the author of this layer, you can disable autocasting by passing autocast=False to the base Layer constructor.\n",
      "\n",
      "782/782 [==============================] - 2s 3ms/step - loss: 0.6037 - accuracy: 0.6654 - val_loss: 0.5291 - val_accuracy: 0.7405\n",
      "Epoch 2/5\n",
      "782/782 [==============================] - 2s 2ms/step - loss: 0.5105 - accuracy: 0.7548 - val_loss: 0.5035 - val_accuracy: 0.7595\n",
      "Epoch 3/5\n",
      "782/782 [==============================] - 2s 3ms/step - loss: 0.4980 - accuracy: 0.7621 - val_loss: 0.4972 - val_accuracy: 0.7603\n",
      "Epoch 4/5\n",
      "782/782 [==============================] - 2s 3ms/step - loss: 0.4938 - accuracy: 0.7646 - val_loss: 0.4937 - val_accuracy: 0.7622\n",
      "Epoch 5/5\n",
      "782/782 [==============================] - 2s 3ms/step - loss: 0.4915 - accuracy: 0.7647 - val_loss: 0.4993 - val_accuracy: 0.7616\n"
     ]
    }
   ],
   "source": [
    "act=\"sigmoid\"\n",
    "mlp2 = keras.models.Sequential([\n",
    "    keras.layers.LayerNormalization(trainable=False),\n",
    "    keras.layers.Dense(32, activation=act,dtype='float32'),\n",
    "    keras.layers.Dense(32, activation=act,dtype='float32'),\n",
    "    keras.layers.Dense(1,  activation=act,dtype='float32')\n",
    "])\n",
    "bc=tf.keras.losses.BinaryCrossentropy(from_logits=False)\n",
    "mlp2.compile(loss=bc, optimizer=\"Adam\",metrics=[\"accuracy\"])\n",
    "history = mlp2.fit(X_train,y_train,epochs=5,validation_data=(X_valid,y_valid))"
   ]
  },
  {
   "cell_type": "code",
   "execution_count": 7,
   "metadata": {},
   "outputs": [
    {
     "data": {
      "image/png": "[encoded data removed]",
      "text/plain": [
       "<Figure size 576x360 with 1 Axes>"
      ]
     },
     "metadata": {
      "needs_background": "light"
     },
     "output_type": "display_data"
    }
   ],
   "source": [
    "pd.DataFrame(history.history).plot(figsize=(8,5))\n",
    "plt.grid(True)\n",
    "plt.gca().set_ylim(0,1)\n",
    "plt.show()"
   ]
  },
  {
   "cell_type": "code",
   "execution_count": null,
   "metadata": {},
   "outputs": [],
   "source": []
  }
 ],
 "metadata": {
  "kernelspec": {
   "display_name": "Python 3",
   "language": "python",
   "name": "python3"
  },
  "language_info": {
   "codemirror_mode": {
    "name": "ipython",
    "version": 3
   },
   "file_extension": ".py",
   "mimetype": "text/x-python",
   "name": "python",
   "nbconvert_exporter": "python",
   "pygments_lexer": "ipython3",
   "version": "3.8.3"
  }
 },
 "nbformat": 4,
 "nbformat_minor": 2
}
