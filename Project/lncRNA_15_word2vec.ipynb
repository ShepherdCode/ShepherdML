{
 "cells": [
  {
   "cell_type": "markdown",
   "metadata": {},
   "source": [
    "# word2vec\n",
    "\n",
    "Our previous RNNs used one-hot encoding per single letter or K-mer.\n",
    "Here we try embedding K-mers into a vector space.\n"
   ]
  },
  {
   "cell_type": "markdown",
   "metadata": {},
   "source": [
    "## References\n",
    "* Google paper number 1: Efficient Estimation of Word Representations in Vector Space [arXiv](https://arxiv.org/pdf/1301.3781.pdf)\n",
    "* Google paper number 2: Distributed Representations of Words and Phrases and their Compositionality [arXiv](https://arxiv.org/pdf/1310.4546.pdf)\n",
    "* Source code on [Google Code](https://code.google.com/archive/p/word2vec/)\n",
    "* [Wikipedia](https://en.wikipedia.org/wiki/Word2vec)\n",
    "* Unpublished work: dna2vec: Consistent vector representations of variable-length k-mers. See [arXiv](https://arxiv.org/pdf/1701.06279.pdf) or [deepai](https://deepai.org/publication/dna2vec-consistent-vector-representations-of-variable-length-k-mers)\n",
    "* Implementing word2vec in TensorFlow [TowardDataScience](https://towardsdatascience.com/learn-word2vec-by-implementing-it-in-tensorflow-45641adaf2ac)"
   ]
  },
  {
   "cell_type": "code",
   "execution_count": null,
   "metadata": {},
   "outputs": [],
   "source": []
  }
 ],
 "metadata": {
  "kernelspec": {
   "display_name": "Python 3",
   "language": "python",
   "name": "python3"
  },
  "language_info": {
   "codemirror_mode": {
    "name": "ipython",
    "version": 3
   },
   "file_extension": ".py",
   "mimetype": "text/x-python",
   "name": "python",
   "nbconvert_exporter": "python",
   "pygments_lexer": "ipython3",
   "version": "3.8.3"
  }
 },
 "nbformat": 4,
 "nbformat_minor": 2
}
