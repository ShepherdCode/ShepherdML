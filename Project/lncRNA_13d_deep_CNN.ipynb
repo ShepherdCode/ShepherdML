{
 "cells": [
  {
   "cell_type": "markdown",
   "metadata": {},
   "source": [
    "# deep CNN \n",
    "In notebook 13, an RNN did pretty well using 3 RNN layers of 16 nodes each.\n",
    "Here, we try Conv1D configured to look at 3-mers.\n",
    "Since CNN expects images of same dimension, we'll try padding sequences with N."
   ]
  },
  {
   "cell_type": "code",
   "execution_count": 1,
   "metadata": {},
   "outputs": [],
   "source": [
    "import numpy as np\n",
    "import pandas as pd\n",
    "import matplotlib.pyplot as plt\n",
    "from sklearn.preprocessing import OneHotEncoder\n",
    "from sklearn.model_selection import StratifiedShuffleSplit\n",
    "from sklearn.model_selection import ShuffleSplit\n",
    "\n",
    "import tensorflow as tf\n",
    "from tensorflow import keras\n",
    "tf.keras.backend.set_floatx('float32')  # save RAM\n"
   ]
  },
  {
   "cell_type": "markdown",
   "metadata": {},
   "source": [
    "Load and encode the sequence data."
   ]
  },
  {
   "cell_type": "code",
   "execution_count": 2,
   "metadata": {},
   "outputs": [
    {
     "name": "stdout",
     "output_type": "stream",
     "text": [
      "Ecode the non-coding sequences\n",
      "Load ncRNA.fasta\n",
      "Encoder categories\n",
      "shape: (6278, 9000, 5)\n",
      "Encode the protein-coding sequences\n",
      "Load pcRNA.fasta\n",
      "shape: (12705, 9000, 5)\n"
     ]
    }
   ],
   "source": [
    "MIN_SEQ_LEN=200\n",
    "MIN_SEQ_LEN=1000  ### use this for testing\n",
    "MAX_SEQ_LEN=25000 ### this screens 4 outliers in the complete dataset\n",
    "MAX_SEQ_LEN=9000 ### this screens 4 outliers in the complete dataset\n",
    "#MAX_SEQ_LEN=2000  ### we use this to reduce training RAM and CPU during testing\n",
    "DEFLINE='>'\n",
    "ncfile='ncRNA.fasta' \n",
    "pcfile='pcRNA.fasta' \n",
    "#ncfile='tiny.ncRNA.fasta' # 10 seqs for faster debugging\n",
    "#pcfile='tiny.pcRNA.fasta' \n",
    "\n",
    "# Assume file was preprocessed to contain one line per seq.\n",
    "# Returned structure is ndarray of ndarray i.e no python lists inside.\n",
    "def load_fasta(filename):\n",
    "    seqs=[]\n",
    "    with open (filename,'r') as infile:\n",
    "        for line in infile:\n",
    "            if line[0]!=DEFLINE and len(line)>=MIN_SEQ_LEN and len(line)<=MAX_SEQ_LEN:\n",
    "                line=line.rstrip()\n",
    "                pad_len = MAX_SEQ_LEN-len(line)\n",
    "                pad_chars = 'N' * pad_len\n",
    "                line = line + pad_chars\n",
    "                chars=np.array(list(line))\n",
    "                seqs.append(chars.reshape(-1, 1)) # reshaped changes (any,) to (any,1)\n",
    "    nparray=np.array(seqs)\n",
    "    return nparray\n",
    "\n",
    "\n",
    "print(\"Ecode the non-coding sequences\")\n",
    "print(\"Load \"+ncfile)\n",
    "nc_seqs = load_fasta(ncfile)\n",
    "\n",
    "encoder = OneHotEncoder(handle_unknown='ignore',sparse=False)\n",
    "#seq=tf.reshape(nc_seqs[0],shape=(-1, 1)) # tensor flow version\n",
    "seq=nc_seqs[0].reshape(-1, 1)\n",
    "encoder.fit(seq)\n",
    "print(\"Encoder categories\")\n",
    "encoder.categories_\n",
    "nc_list=[]\n",
    "for seq in nc_seqs:\n",
    "    encoded=encoder.transform(seq)  \n",
    "    nc_list.append(encoded)\n",
    "    \n",
    "nc_seqs=None\n",
    "nc_all=np.array(nc_list) # .reshape(-1,1)\n",
    "nc_list=None\n",
    "print(\"shape: \"+str(nc_all.shape))\n",
    "\n",
    "print(\"Encode the protein-coding sequences\")\n",
    "print(\"Load \"+pcfile)\n",
    "pc_seqs = load_fasta(pcfile)\n",
    "pc_list=[]\n",
    "for seq in pc_seqs:\n",
    "    encoded=encoder.transform(seq)\n",
    "    pc_list.append(encoded)\n",
    "\n",
    "pc_seqs=None\n",
    "pc_all=np.array(pc_list) # .reshape(-1,1)\n",
    "pc_list=None\n",
    "print(\"shape: \"+str(pc_all.shape))\n"
   ]
  },
  {
   "cell_type": "markdown",
   "metadata": {},
   "source": [
    "## Create train and validation sets."
   ]
  },
  {
   "cell_type": "code",
   "execution_count": 3,
   "metadata": {},
   "outputs": [
    {
     "name": "stdout",
     "output_type": "stream",
     "text": [
      "Labels\n",
      "shape of sequences, shape of labels\n",
      "shape of train\n",
      "(15186, 9000, 5) (15186,)\n",
      "shape of test\n",
      "(3797, 9000, 5) (3797,)\n",
      "Convert numpy array to python 3D array: train seqs\n",
      "Convert numpy array to python 3D array: test seqs\n",
      "Convert numpy array to python 3D array: train labels\n",
      "Convert numpy array to python 3D array: test labels\n",
      "Partition = 12148\n",
      "Partition train/validation\n",
      "Lengths of train,valid\n",
      "(12148, 3038)\n"
     ]
    }
   ],
   "source": [
    "print(\"Labels\")\n",
    "nc_labels=np.zeros(shape=(17711))\n",
    "pc_labels=np.ones(shape=(20152))\n",
    "#nc_labels=np.zeros(shape=(10))  # fast debugging\n",
    "#pc_labels=np.ones(shape=(10))\n",
    "\n",
    "#nc_labeled=np.concatenate((nc_all,nc_labels),axis=1)\n",
    "#pc_labeled=np.concatenate((pc_all,pc_labels),axis=1)\n",
    "all_seqs=np.concatenate((nc_all,pc_all),axis=0)\n",
    "nc_all=None\n",
    "pc_all=None\n",
    "all_labels=np.concatenate((nc_labels,pc_labels),axis=0)\n",
    "nc_labels=None\n",
    "pc_labels=None\n",
    "\n",
    "print(\"shape of sequences, shape of labels\")\n",
    "all_seqs.shape,all_labels.shape\n",
    "\n",
    "splitter = ShuffleSplit(n_splits=1, test_size=0.2, random_state=37863)\n",
    "for train_index,test_index in splitter.split(all_seqs):\n",
    "    train_seqs =   all_seqs[train_index]\n",
    "    train_labels = all_labels[train_index]\n",
    "    test_seqs =    all_seqs[test_index]\n",
    "    test_labels =  all_labels[test_index]\n",
    "\n",
    "all_seqs=None\n",
    "all_labels=None\n",
    "\n",
    "print(\"shape of train\")\n",
    "print(train_seqs.shape,train_labels.shape)\n",
    "print(\"shape of test\")\n",
    "print(test_seqs.shape,test_labels.shape)\n",
    "\n",
    "def numpy_to_python_3D(np_seqs):\n",
    "    one_set = []\n",
    "    tlen = len(np_seqs)\n",
    "    for i in range(tlen): # for every sequence in set\n",
    "        one_seq = []\n",
    "        slen = len(np_seqs[i])\n",
    "        for j in range(slen): # for ever letter in sequence\n",
    "            one_letter=np_seqs[i][j]\n",
    "            one_seq.append(one_letter)\n",
    "        one_set.append(one_seq)\n",
    "    return one_set\n",
    "\n",
    "print(\"Convert numpy array to python 3D array: train seqs\")\n",
    "train_seqs = numpy_to_python_3D(train_seqs)\n",
    "print(\"Convert numpy array to python 3D array: test seqs\")\n",
    "test_seqs = numpy_to_python_3D(test_seqs)\n",
    "print(\"Convert numpy array to python 3D array: train labels\")\n",
    "train_labels = train_labels.tolist()\n",
    "print(\"Convert numpy array to python 3D array: test labels\")\n",
    "test_labels = test_labels.tolist()\n",
    "\n",
    "# Now that values are shuffled, partition gives random sample.\n",
    "data_size=len(train_seqs)\n",
    "PARTITION=int(data_size*0.8)\n",
    "print(\"Partition = \"+str(PARTITION))\n",
    "\n",
    "print(\"Partition train/validation\")\n",
    "X_train=train_seqs[:PARTITION]\n",
    "X_valid=train_seqs[PARTITION:]\n",
    "y_train=train_labels[:PARTITION]\n",
    "y_valid=train_labels[PARTITION:]\n",
    "print(\"Lengths of train,valid\")\n",
    "print((len(X_train),len(X_valid)))\n",
    "\n",
    "# Free memory for the next step\n",
    "train_seqs=None\n",
    "train_labels=None"
   ]
  },
  {
   "cell_type": "code",
   "execution_count": 4,
   "metadata": {},
   "outputs": [
    {
     "name": "stdout",
     "output_type": "stream",
     "text": [
      "Convert to tensors\n",
      "<class 'tensorflow.python.framework.ops.EagerTensor'>\n",
      "(12148, 9000, 5)\n",
      "<class 'tensorflow.python.framework.ops.EagerTensor'>\n",
      "(12148,)\n",
      "<class 'tensorflow.python.framework.ops.EagerTensor'>\n",
      "(3038, 9000, 5)\n",
      "<class 'tensorflow.python.framework.ops.EagerTensor'>\n",
      "(3038,)\n"
     ]
    }
   ],
   "source": [
    "print(\"Convert to tensors\")\n",
    "X_train = tf.constant(X_train)  \n",
    "print(type(X_train))\n",
    "print(X_train.shape)\n",
    "y_train = tf.convert_to_tensor(y_train)\n",
    "print(type(y_train))\n",
    "print(y_train.shape)\n",
    "X_valid = tf.constant(X_valid)\n",
    "print(type(X_valid))\n",
    "print(X_valid.shape)\n",
    "y_valid = tf.convert_to_tensor(y_valid)\n",
    "print(type(y_valid))\n",
    "print(y_valid.shape)"
   ]
  },
  {
   "cell_type": "code",
   "execution_count": 5,
   "metadata": {},
   "outputs": [
    {
     "name": "stdout",
     "output_type": "stream",
     "text": [
      "Build the model\n",
      "Build the training environment\n",
      "Model: \"sequential\"\n",
      "_________________________________________________________________\n",
      "Layer (type)                 Output Shape              Param #   \n",
      "=================================================================\n",
      "conv1d (Conv1D)              (None, 9000, 64)          1024      \n",
      "_________________________________________________________________\n",
      "max_pooling1d (MaxPooling1D) (None, 4500, 64)          0         \n",
      "_________________________________________________________________\n",
      "conv1d_1 (Conv1D)            (None, 4500, 128)         24704     \n",
      "_________________________________________________________________\n",
      "conv1d_2 (Conv1D)            (None, 4500, 128)         49280     \n",
      "_________________________________________________________________\n",
      "max_pooling1d_1 (MaxPooling1 (None, 2250, 128)         0         \n",
      "_________________________________________________________________\n",
      "conv1d_3 (Conv1D)            (None, 2250, 256)         98560     \n",
      "_________________________________________________________________\n",
      "conv1d_4 (Conv1D)            (None, 2250, 256)         196864    \n",
      "_________________________________________________________________\n",
      "max_pooling1d_2 (MaxPooling1 (None, 1125, 256)         0         \n",
      "_________________________________________________________________\n",
      "flatten (Flatten)            (None, 288000)            0         \n",
      "_________________________________________________________________\n",
      "dense (Dense)                (None, 128)               36864128  \n",
      "_________________________________________________________________\n",
      "dropout (Dropout)            (None, 128)               0         \n",
      "_________________________________________________________________\n",
      "dense_1 (Dense)              (None, 64)                8256      \n",
      "_________________________________________________________________\n",
      "dropout_1 (Dropout)          (None, 64)                0         \n",
      "_________________________________________________________________\n",
      "dense_2 (Dense)              (None, 1)                 65        \n",
      "=================================================================\n",
      "Total params: 37,242,881\n",
      "Trainable params: 37,242,881\n",
      "Non-trainable params: 0\n",
      "_________________________________________________________________\n"
     ]
    }
   ],
   "source": [
    "print(\"Build the model\")\n",
    "HOTS=4+1  # one hot encoding of ACGT+N\n",
    "cnn2 = keras.models.Sequential([\n",
    "    keras.layers.Conv1D(filters=64,kernel_size=3,activation=\"relu\",padding=\"SAME\",\n",
    "    input_shape=[MAX_SEQ_LEN,HOTS]),\n",
    "    keras.layers.MaxPooling1D(2),\n",
    "    keras.layers.Conv1D(128,3,activation=\"relu\",padding=\"same\"),\n",
    "    keras.layers.Conv1D(128,3,activation=\"relu\",padding=\"same\"),\n",
    "    keras.layers.MaxPooling1D(2),   \n",
    "    keras.layers.Conv1D(256,3,activation=\"relu\",padding=\"same\"),\n",
    "    keras.layers.Conv1D(256,3,activation=\"relu\",padding=\"same\"),\n",
    "    keras.layers.MaxPooling1D(2), \n",
    "    keras.layers.Flatten(),\n",
    "    keras.layers.Dense(128,activation=\"relu\"),\n",
    "    keras.layers.Dropout(0.5),\n",
    "    keras.layers.Dense(64,activation=\"relu\"),\n",
    "    keras.layers.Dropout(0.5),    \n",
    "    keras.layers.Dense(1,activation=\"sigmoid\")\n",
    "])\n",
    "\n",
    "print(\"Build the training environment\")\n",
    "cnn2.compile(loss=\"binary_crossentropy\",\n",
    "           optimizer=\"sgd\",\n",
    "           metrics=[\"accuracy\"])\n",
    "cnn2.summary()"
   ]
  },
  {
   "cell_type": "code",
   "execution_count": 6,
   "metadata": {},
   "outputs": [
    {
     "name": "stdout",
     "output_type": "stream",
     "text": [
      "Train the model\n",
      "Epoch 1/5\n",
      "380/380 [==============================] - 1208s 3s/step - loss: 0.2898 - accuracy: 0.9300 - val_loss: 0.2324 - val_accuracy: 0.9381\n",
      "Epoch 2/5\n",
      "380/380 [==============================] - 1368s 4s/step - loss: 0.2727 - accuracy: 0.9312 - val_loss: 0.2316 - val_accuracy: 0.9381\n",
      "Epoch 3/5\n",
      "380/380 [==============================] - 1362s 4s/step - loss: 0.2723 - accuracy: 0.9312 - val_loss: 0.2328 - val_accuracy: 0.9381\n",
      "Epoch 4/5\n",
      "380/380 [==============================] - 1280s 3s/step - loss: 0.2686 - accuracy: 0.9313 - val_loss: 0.2355 - val_accuracy: 0.9381\n",
      "Epoch 5/5\n",
      "380/380 [==============================] - 1293s 3s/step - loss: 0.2648 - accuracy: 0.9313 - val_loss: 0.2308 - val_accuracy: 0.9381\n"
     ]
    }
   ],
   "source": [
    "print(\"Train the model\")\n",
    "history = cnn2.fit(X_train,y_train,epochs=5,validation_data=(X_valid,y_valid))\n"
   ]
  },
  {
   "cell_type": "code",
   "execution_count": 7,
   "metadata": {},
   "outputs": [
    {
     "name": "stdout",
     "output_type": "stream",
     "text": [
      "Visualize training history.\n"
     ]
    },
    {
     "data": {
      "image/png": "[encoded data removed]",
      "text/plain": [
       "<Figure size 576x360 with 1 Axes>"
      ]
     },
     "metadata": {
      "needs_background": "light"
     },
     "output_type": "display_data"
    }
   ],
   "source": [
    "print(\"Visualize training history.\")\n",
    "pd.DataFrame(history.history).plot(figsize=(8,5))\n",
    "plt.grid(True)\n",
    "plt.gca().set_ylim(0,1)\n",
    "plt.show()"
   ]
  },
  {
   "cell_type": "markdown",
   "metadata": {},
   "source": [
    "Resources.\n",
    "[Working with RNNs](https://keras.io/guides/working_with_rnns/).\n",
    "[Recurrent Neural Networks with Keras](https://www.tensorflow.org/guide/keras/rnn#rnns_with_listdict_inputs_or_nested_inputs).\n",
    "Function tf.convert_to_tensor [docs](https://www.tensorflow.org/api_docs/python/tf/convert_to_tensor).\n",
    "Function tf.reshape [docs](https://www.tensorflow.org/api_docs/python/tf/reshape).\n",
    "Ragged Tensors [tutorial](https://www.tensorflow.org/guide/tensor#ragged_tensors)\n",
    "and [docs](https://www.tensorflow.org/api_docs/python/tf/RaggedTensor#documenting_raggedtensor_shapes_2) and [module](https://www.tensorflow.org/api_docs/python/tf/ragged).\n",
    "Incredible speedup for convert to tensor by sirfz on [stackoverflow](https://stackoverflow.com/questions/44353509/tensorflow-tf-constant-initializer-is-very-slow).\n",
    "\n",
    "\n"
   ]
  },
  {
   "cell_type": "code",
   "execution_count": null,
   "metadata": {},
   "outputs": [],
   "source": []
  }
 ],
 "metadata": {
  "kernelspec": {
   "display_name": "Python 3",
   "language": "python",
   "name": "python3"
  },
  "language_info": {
   "codemirror_mode": {
    "name": "ipython",
    "version": 3
   },
   "file_extension": ".py",
   "mimetype": "text/x-python",
   "name": "python",
   "nbconvert_exporter": "python",
   "pygments_lexer": "ipython3",
   "version": "3.8.3"
  }
 },
 "nbformat": 4,
 "nbformat_minor": 2
}
