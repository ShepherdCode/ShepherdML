{
  "nbformat": 4,
  "nbformat_minor": 0,
  "metadata": {
    "colab": {
      "name": "colab_RNN_tf.ipynb",
      "provenance": [],
      "collapsed_sections": []
    },
    "kernelspec": {
      "name": "python3",
      "display_name": "Python 3"
    },
    "accelerator": "GPU"
  },
  "cells": [
    {
      "cell_type": "markdown",
      "metadata": {
        "id": "RpQeQrFhzDUB",
        "colab_type": "text"
      },
      "source": [
        "#RNN classifier for protein-coding / non-coding RNA"
      ]
    },
    {
      "cell_type": "code",
      "metadata": {
        "id": "h_fMUFH2y7c0",
        "colab_type": "code",
        "colab": {}
      },
      "source": [
        "import numpy as np\n",
        "import pandas as pd\n",
        "import matplotlib.pyplot as plt\n",
        "from sklearn.preprocessing import OneHotEncoder\n",
        "from sklearn.model_selection import StratifiedShuffleSplit\n",
        "from sklearn.model_selection import ShuffleSplit\n",
        "import tensorflow as tf\n",
        "from tensorflow import keras\n",
        "tf.keras.backend.set_floatx('float32')  # was 64, now we're running out of memory. make this 32\n",
        "\n",
        "TINY_DATASET=False"
      ],
      "execution_count": 10,
      "outputs": []
    },
    {
      "cell_type": "code",
      "metadata": {
        "id": "hbTevZfjzitQ",
        "colab_type": "code",
        "colab": {
          "base_uri": "https://localhost:8080/",
          "height": 187
        },
        "outputId": "d66320a0-95dc-4cfd-a3aa-59e759af503c"
      },
      "source": [
        "from google.colab import drive\n",
        "drive.mount('/content/drive', force_remount=True)\n",
        "!ls drive/'My Drive'/'Colab Notebooks'/*\n",
        "\n"
      ],
      "execution_count": 11,
      "outputs": [
        {
          "output_type": "stream",
          "text": [
            "Mounted at /content/drive\n",
            "'drive/My Drive/Colab Notebooks/colab_RNN_tf.ipynb'\n",
            "'drive/My Drive/Colab Notebooks/HellowWorld.ipynb'\n",
            "'drive/My Drive/Colab Notebooks/kc_house_data.csv'\n",
            "'drive/My Drive/Colab Notebooks/lncRNA_RNN_np.ipynb'\n",
            "'drive/My Drive/Colab Notebooks/ncRNA.fasta'\n",
            "'drive/My Drive/Colab Notebooks/pcRNA.fasta'\n",
            "'drive/My Drive/Colab Notebooks/summerschool.ipynb'\n",
            "'drive/My Drive/Colab Notebooks/tiny.ncRNA.fasta'\n",
            "'drive/My Drive/Colab Notebooks/tiny.pcRNA.fasta'\n"
          ],
          "name": "stdout"
        }
      ]
    },
    {
      "cell_type": "code",
      "metadata": {
        "id": "8UWIW-XV0qEY",
        "colab_type": "code",
        "colab": {
          "base_uri": "https://localhost:8080/",
          "height": 68
        },
        "outputId": "0d5fcc03-57dc-454a-a328-529ed68506af"
      },
      "source": [
        "MIN_SEQ_LEN=200\n",
        "MAX_SEQ_LEN=25000   # out of memory, crash on CoLab\n",
        "MAX_SEQ_LEN=2000    # not ideal, but see if it runs\n",
        "DEFLINE='>'\n",
        "ncfile=\"drive/My Drive/Colab Notebooks/ncRNA.fasta\" # the full dataset\n",
        "pcfile=\"drive/My Drive/Colab Notebooks/pcRNA.fasta\" \n",
        "if TINY_DATASET:\n",
        "  ncfile=\"drive/My Drive/Colab Notebooks/tiny.ncRNA.fasta\" # 10 seqs for faster debugging\n",
        "  pcfile=\"drive/My Drive/Colab Notebooks/tiny.pcRNA.fasta\" \n",
        "\n",
        "# First try. Too slow on colab: \n",
        "# chars=tf.convert_to_tensor(list(line))\n",
        "# tfarray=tf.ragged.constant(seqs)\n",
        "#\n",
        "# Secont try. Too slow on colab:\n",
        "# chars=list(line)\n",
        "# tfarray=tf.ragged.constant(seqs) ## the slow part\n",
        "# \n",
        "# Fourth try. https://www.tensorflow.org/tutorials/load_data/numpy\n",
        "# Various numpy tricks.\n",
        "#\n",
        "# Fifth try. Convert numpy arrays to python lists.\n",
        "# This worked!\n",
        "# \n",
        "# Assume file was preprocessed to contain one line per seq.\n",
        "# Returned structure is ndarray of ndarray i.e no python lists inside.\n",
        "# Numpy arrays have fixed dimenstions. Workarounds won't work for us.\n",
        "# Try this. Load to numpy. Then convert to native python.\n",
        "def load_fasta(filename):\n",
        "    seqs=[]\n",
        "    with open (filename,'r') as infile:\n",
        "        for line in infile:\n",
        "            if line[0]!=DEFLINE and len(line)>=MIN_SEQ_LEN and len(line)<=MAX_SEQ_LEN:\n",
        "                line=line.rstrip()\n",
        "                # Python list feature converts string to list of char.\n",
        "                # Numpy asarray converts list to ndarray.\n",
        "                chars=np.asarray(list(line))\n",
        "                seqs.append(chars.reshape(-1, 1)) \n",
        "                # Reshape is required for encoder, must change (any,) to (any,1)\n",
        "    nparray=np.asarray(seqs)\n",
        "    return nparray\n",
        "\n",
        "print(\"Load \"+ncfile)\n",
        "nc_seqs = load_fasta(ncfile)\n",
        "print(\"Load \"+pcfile)\n",
        "pc_seqs = load_fasta(pcfile)\n",
        "nc_seqs.shape"
      ],
      "execution_count": 12,
      "outputs": [
        {
          "output_type": "stream",
          "text": [
            "Load drive/My Drive/Colab Notebooks/ncRNA.fasta\n",
            "Load drive/My Drive/Colab Notebooks/pcRNA.fasta\n"
          ],
          "name": "stdout"
        },
        {
          "output_type": "execute_result",
          "data": {
            "text/plain": [
              "(15173,)"
            ]
          },
          "metadata": {
            "tags": []
          },
          "execution_count": 12
        }
      ]
    },
    {
      "cell_type": "code",
      "metadata": {
        "id": "sDh8478d2yBU",
        "colab_type": "code",
        "colab": {
          "base_uri": "https://localhost:8080/",
          "height": 51
        },
        "outputId": "b22085e2-8403-4a02-c7f2-782cf84aae2e"
      },
      "source": [
        "encoder = OneHotEncoder(handle_unknown='ignore',sparse=False)\n",
        "print(\"Learn DNA from first sequence in data set.\")\n",
        "seq=nc_seqs[0]  \n",
        "encoder.fit(seq)\n",
        "encoder.categories_"
      ],
      "execution_count": 13,
      "outputs": [
        {
          "output_type": "stream",
          "text": [
            "Learn DNA from first sequence in data set.\n"
          ],
          "name": "stdout"
        },
        {
          "output_type": "execute_result",
          "data": {
            "text/plain": [
              "[array(['A', 'C', 'G', 'T'], dtype='<U1')]"
            ]
          },
          "metadata": {
            "tags": []
          },
          "execution_count": 13
        }
      ]
    },
    {
      "cell_type": "code",
      "metadata": {
        "id": "t4IV6wI_3Jir",
        "colab_type": "code",
        "colab": {
          "base_uri": "https://localhost:8080/",
          "height": 204
        },
        "outputId": "a8a2eab9-663b-4b36-e0d9-d2fddc0ab92b"
      },
      "source": [
        "print(\"Load the non-coding data\")\n",
        "nc_list=[]\n",
        "for seq in nc_seqs:\n",
        "    encoded=encoder.transform(seq)  \n",
        "    nc_list.append(encoded)\n",
        "    \n",
        "nc_all=np.array(nc_list) # .reshape(-1,1)\n",
        "print(\"shape: \"+str(nc_all.shape))\n",
        "print(\"element 0 is a sequence: \\n\"+str(nc_all[0]))\n",
        "print(\"element 0,0 is one letter: \"+str(nc_all[0][0]))"
      ],
      "execution_count": 14,
      "outputs": [
        {
          "output_type": "stream",
          "text": [
            "Load the non-coding data\n",
            "shape: (15173,)\n",
            "element 0 is a sequence: \n",
            "[[0. 0. 0. 1.]\n",
            " [0. 1. 0. 0.]\n",
            " [1. 0. 0. 0.]\n",
            " ...\n",
            " [0. 0. 1. 0.]\n",
            " [0. 0. 0. 1.]\n",
            " [0. 1. 0. 0.]]\n",
            "element 0,0 is one letter: [0. 0. 0. 1.]\n"
          ],
          "name": "stdout"
        }
      ]
    },
    {
      "cell_type": "code",
      "metadata": {
        "id": "ksoVJ45O3R88",
        "colab_type": "code",
        "colab": {
          "base_uri": "https://localhost:8080/",
          "height": 51
        },
        "outputId": "ac26edc5-f7b5-4679-807f-ed46ac01a529"
      },
      "source": [
        "print(\"Load the protein-coding data\")\n",
        "pc_list=[]\n",
        "for seq in pc_seqs:\n",
        "    encoded=encoder.transform(seq)\n",
        "    pc_list.append(encoded)\n",
        "\n",
        "pc_all=np.array(pc_list) # .reshape(-1,1)\n",
        "pc_all.shape[0]"
      ],
      "execution_count": 15,
      "outputs": [
        {
          "output_type": "stream",
          "text": [
            "Load the protein-coding data\n"
          ],
          "name": "stdout"
        },
        {
          "output_type": "execute_result",
          "data": {
            "text/plain": [
              "13126"
            ]
          },
          "metadata": {
            "tags": []
          },
          "execution_count": 15
        }
      ]
    },
    {
      "cell_type": "code",
      "metadata": {
        "id": "ktXmlOvf3cXv",
        "colab_type": "code",
        "colab": {
          "base_uri": "https://localhost:8080/",
          "height": 34
        },
        "outputId": "0128e805-92b9-40ce-9995-49a671da2413"
      },
      "source": [
        "nc_size=nc_all.shape[0]\n",
        "pc_size=pc_all.shape[0]\n",
        "nc_labels=np.zeros(shape=nc_size)   # full dataset\n",
        "pc_labels=np.ones(shape=pc_size)\n",
        "\n",
        "#nc_labeled=np.concatenate((nc_all,nc_labels),axis=1)\n",
        "#pc_labeled=np.concatenate((pc_all,pc_labels),axis=1)\n",
        "all_seqs=np.concatenate((nc_all,pc_all),axis=0)\n",
        "all_labels=np.concatenate((nc_labels,pc_labels),axis=0)\n",
        "\n",
        "nc_seqs=None\n",
        "pc_seqs=None\n",
        "nc_all=Nonepc_all=None\n",
        "nc_labels=None\n",
        "pc_labels=None\n",
        "\n",
        "all_seqs.shape,all_labels.shape"
      ],
      "execution_count": 16,
      "outputs": [
        {
          "output_type": "execute_result",
          "data": {
            "text/plain": [
              "((28299,), (28299,))"
            ]
          },
          "metadata": {
            "tags": []
          },
          "execution_count": 16
        }
      ]
    },
    {
      "cell_type": "code",
      "metadata": {
        "id": "_47ZVx7K3nxs",
        "colab_type": "code",
        "colab": {
          "base_uri": "https://localhost:8080/",
          "height": 85
        },
        "outputId": "06956eb6-4300-4040-c5bc-c2db026028dc"
      },
      "source": [
        "splitter = ShuffleSplit(n_splits=1, test_size=0.2, random_state=37863)\n",
        "for train_index,test_index in splitter.split(all_seqs):\n",
        "    train_seqs =   all_seqs[train_index]\n",
        "    train_labels = all_labels[train_index]\n",
        "    test_seqs =    all_seqs[test_index]\n",
        "    test_labels =  all_labels[test_index]\n",
        " \n",
        "print(\"train\")\n",
        "print(train_seqs.shape,train_labels.shape)\n",
        "print(\"test\")\n",
        "print(test_seqs.shape,test_labels.shape)"
      ],
      "execution_count": 17,
      "outputs": [
        {
          "output_type": "stream",
          "text": [
            "train\n",
            "(22639,) (22639,)\n",
            "test\n",
            "(5660,) (5660,)\n"
          ],
          "name": "stdout"
        }
      ]
    },
    {
      "cell_type": "code",
      "metadata": {
        "id": "gc-4b5H8f3ud",
        "colab_type": "code",
        "colab": {
          "base_uri": "https://localhost:8080/",
          "height": 34
        },
        "outputId": "49d7bff5-a350-4ae7-c28c-1e499c080637"
      },
      "source": [
        "# The SimpleRNN won't accept our numpy arrays. Here is the error.\n",
        "# Would it accept python lists?\n",
        "\n",
        "def numpy_to_python_3D(np_seqs):\n",
        "    one_set = []\n",
        "    tlen = len(np_seqs)\n",
        "    for i in range(tlen): # for every sequence in set\n",
        "        one_seq = []\n",
        "        slen = len(np_seqs[i])\n",
        "        for j in range(slen): # for ever letter in sequence\n",
        "            one_letter=np_seqs[i][j]\n",
        "            one_seq.append(one_letter)\n",
        "        one_set.append(one_seq)\n",
        "    return one_set\n",
        "train_seqs = numpy_to_python_3D(train_seqs)\n",
        "test_seqs = numpy_to_python_3D(test_seqs)\n",
        "train_labels = train_labels.tolist()\n",
        "test_labels = test_labels.tolist()\n",
        "train_seqs[0][0]"
      ],
      "execution_count": 18,
      "outputs": [
        {
          "output_type": "execute_result",
          "data": {
            "text/plain": [
              "array([0., 1., 0., 0.])"
            ]
          },
          "metadata": {
            "tags": []
          },
          "execution_count": 18
        }
      ]
    },
    {
      "cell_type": "code",
      "metadata": {
        "id": "sg63v7l03y6A",
        "colab_type": "code",
        "colab": {
          "base_uri": "https://localhost:8080/",
          "height": 102
        },
        "outputId": "4a7fa263-5d3f-43d8-cff4-b6e2131dda0e"
      },
      "source": [
        "# Now that values are shuffled, partition gives random sample.\n",
        "data_size=len(train_seqs)\n",
        "PARTITION=int(data_size*0.8)\n",
        "print(\"Partition = \"+str(PARTITION))\n",
        "\n",
        "X_train=train_seqs[:PARTITION]\n",
        "X_valid=train_seqs[PARTITION:]\n",
        "y_train=train_labels[:PARTITION]\n",
        "y_valid=train_labels[PARTITION:]\n",
        "train_seqs=None\n",
        "test_seqs=None\n",
        "train_labels=None\n",
        "test_labels=None\n",
        "print(\"train 0,0 is one letter: \\n\"+str(X_train[0][0]))\n",
        "print(len(X_train))\n",
        "print(len(X_valid))"
      ],
      "execution_count": 19,
      "outputs": [
        {
          "output_type": "stream",
          "text": [
            "Partition = 18111\n",
            "train 0,0 is one letter: \n",
            "[0. 1. 0. 0.]\n",
            "18111\n",
            "4528\n"
          ],
          "name": "stdout"
        }
      ]
    },
    {
      "cell_type": "code",
      "metadata": {
        "id": "OpBSrj6t32p3",
        "colab_type": "code",
        "colab": {
          "base_uri": "https://localhost:8080/",
          "height": 153
        },
        "outputId": "eb9aaae7-1a2c-4fef-fbea-f305643b64b6"
      },
      "source": [
        "X_train = tf.ragged.constant(X_train)  # Convert to Tensor takes a long time and hogs memory\n",
        "print(type(X_train))\n",
        "print(X_train.shape)\n",
        "y_train = tf.convert_to_tensor(y_train)\n",
        "print(type(y_train))\n",
        "print(y_train.shape)\n",
        "X_valid = tf.ragged.constant(X_valid)\n",
        "print(type(X_valid))\n",
        "print(X_valid.shape)\n",
        "y_valid = tf.convert_to_tensor(y_valid)\n",
        "print(type(y_valid))\n",
        "print(y_valid.shape)"
      ],
      "execution_count": 20,
      "outputs": [
        {
          "output_type": "stream",
          "text": [
            "<class 'tensorflow.python.ops.ragged.ragged_tensor.RaggedTensor'>\n",
            "(18111, None, None)\n",
            "<class 'tensorflow.python.framework.ops.EagerTensor'>\n",
            "(18111,)\n",
            "<class 'tensorflow.python.ops.ragged.ragged_tensor.RaggedTensor'>\n",
            "(4528, None, None)\n",
            "<class 'tensorflow.python.framework.ops.EagerTensor'>\n",
            "(4528,)\n"
          ],
          "name": "stdout"
        }
      ]
    },
    {
      "cell_type": "code",
      "metadata": {
        "id": "8yO1WsdB3-O_",
        "colab_type": "code",
        "colab": {
          "base_uri": "https://localhost:8080/",
          "height": 221
        },
        "outputId": "1769a7e9-fadc-4061-c451-085659b15fe6"
      },
      "source": [
        "seq_len=None  # none indicates variable length\n",
        "input_features=4  # one hot encoding of DNA means 4 categories\n",
        "rnn2 = keras.models.Sequential([\n",
        "    keras.layers.SimpleRNN(4, return_sequences=True, input_shape=[seq_len,input_features]),\n",
        "    keras.layers.SimpleRNN(1),\n",
        "])\n",
        "bc=tf.keras.losses.BinaryCrossentropy(from_logits=False)\n",
        "rnn2.compile(loss=bc, optimizer=\"Adam\",metrics=[\"accuracy\"])\n",
        "rnn2.summary()"
      ],
      "execution_count": 21,
      "outputs": [
        {
          "output_type": "stream",
          "text": [
            "Model: \"sequential\"\n",
            "_________________________________________________________________\n",
            "Layer (type)                 Output Shape              Param #   \n",
            "=================================================================\n",
            "simple_rnn (SimpleRNN)       (None, None, 4)           36        \n",
            "_________________________________________________________________\n",
            "simple_rnn_1 (SimpleRNN)     (None, 1)                 6         \n",
            "=================================================================\n",
            "Total params: 42\n",
            "Trainable params: 42\n",
            "Non-trainable params: 0\n",
            "_________________________________________________________________\n"
          ],
          "name": "stdout"
        }
      ]
    },
    {
      "cell_type": "code",
      "metadata": {
        "id": "rNS94qlM4EuD",
        "colab_type": "code",
        "colab": {
          "base_uri": "https://localhost:8080/",
          "height": 425
        },
        "outputId": "10db7cc5-4ead-48b1-c201-89453f050ee4"
      },
      "source": [
        "print(\"X_train \"+str(X_train.shape))\n",
        "print(\"y_train \"+str(y_train.shape))\n",
        "print(\"X_valid \"+str(X_valid.shape))\n",
        "print(\"y_valid \"+str(y_valid.shape))\n",
        "\n",
        "#history = rnn2.fit(X_train,y_train,epochs=10) # loss = 5, acc = 62.5%\n",
        "#history = rnn2.fit(X_train,y_train,epochs=10,validation_split=0.5) # `validation_split` is only supported for Tensors or NumPy arrays, found: (<tf.RaggedTensor \n",
        "#history = rnn2.fit(X_train,y_train,epochs=10,validation_data=(X_valid,y_valid),batch_size=2) \n",
        "history = rnn2.fit(X_train,y_train,epochs=10,validation_data=(X_valid,y_valid)) \n",
        "\n",
        "# https://www.tensorflow.org/api_docs/python/tf/keras/Sequential#fit\n",
        "# UnboundLocalError: local variable 'logs' referenced before assignment\n",
        "# This is a two-year old bug. The case is still open.\n",
        "# It seems to happen when validation set not same size as training set.\n",
        "# I tried validation set 8 and 4 for training set = 16.\n",
        "# Suggestion to decrease batch_size doesn't work for me, even at size=1.\n",
        "# https://github.com/tensorflow/tensorflow/issues/38064\n",
        "# I get this error every time on CoLab but never on my Mac.\n",
        "# Maybe it only happens on small datasets.\n"
      ],
      "execution_count": 22,
      "outputs": [
        {
          "output_type": "stream",
          "text": [
            "X_train (18111, None, None)\n",
            "y_train (18111,)\n",
            "X_valid (4528, None, None)\n",
            "y_valid (4528,)\n",
            "Epoch 1/10\n",
            "566/566 [==============================] - 2616s 5s/step - loss: 1.2353 - accuracy: 0.4851 - val_loss: 0.8166 - val_accuracy: 0.4682\n",
            "Epoch 2/10\n",
            "566/566 [==============================] - 2595s 5s/step - loss: 0.7457 - accuracy: 0.4915 - val_loss: 0.7032 - val_accuracy: 0.5141\n",
            "Epoch 3/10\n",
            "566/566 [==============================] - 2592s 5s/step - loss: 0.6977 - accuracy: 0.5341 - val_loss: 0.6872 - val_accuracy: 0.5579\n",
            "Epoch 4/10\n",
            "566/566 [==============================] - 2573s 5s/step - loss: 0.6881 - accuracy: 0.5432 - val_loss: 0.6849 - val_accuracy: 0.5545\n",
            "Epoch 5/10\n",
            "566/566 [==============================] - 2555s 5s/step - loss: 0.6872 - accuracy: 0.5430 - val_loss: 0.6843 - val_accuracy: 0.5526\n",
            "Epoch 6/10\n",
            "566/566 [==============================] - 2556s 5s/step - loss: 0.6866 - accuracy: 0.5422 - val_loss: 0.6832 - val_accuracy: 0.5541\n",
            "Epoch 7/10\n",
            "566/566 [==============================] - 2551s 5s/step - loss: 0.6859 - accuracy: 0.5438 - val_loss: 0.6826 - val_accuracy: 0.5534\n",
            "Epoch 8/10\n",
            "566/566 [==============================] - 2552s 5s/step - loss: 0.6854 - accuracy: 0.5430 - val_loss: 0.6847 - val_accuracy: 0.5574\n",
            "Epoch 9/10\n",
            "566/566 [==============================] - 2552s 5s/step - loss: 0.6848 - accuracy: 0.5487 - val_loss: 0.6820 - val_accuracy: 0.5570\n",
            "Epoch 10/10\n",
            "566/566 [==============================] - 2517s 4s/step - loss: 0.6838 - accuracy: 0.5507 - val_loss: 0.6810 - val_accuracy: 0.5623\n"
          ],
          "name": "stdout"
        }
      ]
    },
    {
      "cell_type": "code",
      "metadata": {
        "id": "0ksJfNfF4P3S",
        "colab_type": "code",
        "colab": {
          "base_uri": "https://localhost:8080/",
          "height": 324
        },
        "outputId": "a85a48c0-eb51-4212-e44f-36f39a96d887"
      },
      "source": [
        "pd.DataFrame(history.history).plot(figsize=(8,5))\n",
        "plt.grid(True)\n",
        "plt.gca().set_ylim(0,1)\n",
        "plt.show()"
      ],
      "execution_count": 23,
      "outputs": [
        {
          "output_type": "display_data",
          "data": {
            "image/png": "[encoded data removed]",
            "text/plain": [
              "<Figure size 576x360 with 1 Axes>"
            ]
          },
          "metadata": {
            "tags": [],
            "needs_background": "light"
          }
        }
      ]
    }
  ]
}