{
 "cells": [
  {
   "cell_type": "code",
   "execution_count": 1,
   "metadata": {},
   "outputs": [
    {
     "data": {
      "text/html": [
       "<div>\n",
       "<style scoped>\n",
       "    .dataframe tbody tr th:only-of-type {\n",
       "        vertical-align: middle;\n",
       "    }\n",
       "\n",
       "    .dataframe tbody tr th {\n",
       "        vertical-align: top;\n",
       "    }\n",
       "\n",
       "    .dataframe thead th {\n",
       "        text-align: right;\n",
       "    }\n",
       "</style>\n",
       "<table border=\"1\" class=\"dataframe\">\n",
       "  <thead>\n",
       "    <tr style=\"text-align: right;\">\n",
       "      <th></th>\n",
       "      <th>label</th>\n",
       "      <th>seqname</th>\n",
       "      <th>AAAA</th>\n",
       "      <th>AAAC</th>\n",
       "      <th>AAAG</th>\n",
       "      <th>AAAT</th>\n",
       "      <th>AACA</th>\n",
       "      <th>AACC</th>\n",
       "      <th>AACG</th>\n",
       "      <th>AACT</th>\n",
       "      <th>...</th>\n",
       "      <th>TTCG</th>\n",
       "      <th>TTCT</th>\n",
       "      <th>TTGA</th>\n",
       "      <th>TTGC</th>\n",
       "      <th>TTGG</th>\n",
       "      <th>TTGT</th>\n",
       "      <th>TTTA</th>\n",
       "      <th>TTTC</th>\n",
       "      <th>TTTG</th>\n",
       "      <th>TTTT</th>\n",
       "    </tr>\n",
       "  </thead>\n",
       "  <tbody>\n",
       "    <tr>\n",
       "      <th>0</th>\n",
       "      <td>1</td>\n",
       "      <td>ENSG00000261061.1</td>\n",
       "      <td>31</td>\n",
       "      <td>5</td>\n",
       "      <td>2</td>\n",
       "      <td>13</td>\n",
       "      <td>6</td>\n",
       "      <td>5</td>\n",
       "      <td>0</td>\n",
       "      <td>5</td>\n",
       "      <td>...</td>\n",
       "      <td>0</td>\n",
       "      <td>2</td>\n",
       "      <td>5</td>\n",
       "      <td>5</td>\n",
       "      <td>2</td>\n",
       "      <td>4</td>\n",
       "      <td>2</td>\n",
       "      <td>3</td>\n",
       "      <td>4</td>\n",
       "      <td>7</td>\n",
       "    </tr>\n",
       "    <tr>\n",
       "      <th>1</th>\n",
       "      <td>1</td>\n",
       "      <td>ENSG00000254837.2</td>\n",
       "      <td>56</td>\n",
       "      <td>14</td>\n",
       "      <td>26</td>\n",
       "      <td>29</td>\n",
       "      <td>25</td>\n",
       "      <td>4</td>\n",
       "      <td>1</td>\n",
       "      <td>10</td>\n",
       "      <td>...</td>\n",
       "      <td>1</td>\n",
       "      <td>13</td>\n",
       "      <td>8</td>\n",
       "      <td>8</td>\n",
       "      <td>4</td>\n",
       "      <td>10</td>\n",
       "      <td>15</td>\n",
       "      <td>8</td>\n",
       "      <td>6</td>\n",
       "      <td>23</td>\n",
       "    </tr>\n",
       "    <tr>\n",
       "      <th>2</th>\n",
       "      <td>1</td>\n",
       "      <td>ENSG00000282851.2</td>\n",
       "      <td>18</td>\n",
       "      <td>10</td>\n",
       "      <td>15</td>\n",
       "      <td>9</td>\n",
       "      <td>17</td>\n",
       "      <td>14</td>\n",
       "      <td>1</td>\n",
       "      <td>8</td>\n",
       "      <td>...</td>\n",
       "      <td>2</td>\n",
       "      <td>6</td>\n",
       "      <td>8</td>\n",
       "      <td>7</td>\n",
       "      <td>8</td>\n",
       "      <td>13</td>\n",
       "      <td>11</td>\n",
       "      <td>12</td>\n",
       "      <td>12</td>\n",
       "      <td>32</td>\n",
       "    </tr>\n",
       "    <tr>\n",
       "      <th>3</th>\n",
       "      <td>1</td>\n",
       "      <td>ENSG00000255650.6</td>\n",
       "      <td>3</td>\n",
       "      <td>3</td>\n",
       "      <td>8</td>\n",
       "      <td>4</td>\n",
       "      <td>7</td>\n",
       "      <td>2</td>\n",
       "      <td>1</td>\n",
       "      <td>3</td>\n",
       "      <td>...</td>\n",
       "      <td>0</td>\n",
       "      <td>3</td>\n",
       "      <td>0</td>\n",
       "      <td>1</td>\n",
       "      <td>5</td>\n",
       "      <td>3</td>\n",
       "      <td>0</td>\n",
       "      <td>5</td>\n",
       "      <td>3</td>\n",
       "      <td>21</td>\n",
       "    </tr>\n",
       "    <tr>\n",
       "      <th>4</th>\n",
       "      <td>1</td>\n",
       "      <td>ENSG00000163597.15</td>\n",
       "      <td>25</td>\n",
       "      <td>15</td>\n",
       "      <td>23</td>\n",
       "      <td>25</td>\n",
       "      <td>10</td>\n",
       "      <td>14</td>\n",
       "      <td>5</td>\n",
       "      <td>16</td>\n",
       "      <td>...</td>\n",
       "      <td>3</td>\n",
       "      <td>21</td>\n",
       "      <td>16</td>\n",
       "      <td>11</td>\n",
       "      <td>18</td>\n",
       "      <td>31</td>\n",
       "      <td>38</td>\n",
       "      <td>27</td>\n",
       "      <td>26</td>\n",
       "      <td>86</td>\n",
       "    </tr>\n",
       "  </tbody>\n",
       "</table>\n",
       "<p>5 rows × 258 columns</p>\n",
       "</div>"
      ],
      "text/plain": [
       "   label             seqname  AAAA  AAAC  AAAG  AAAT  AACA  AACC  AACG  AACT  \\\n",
       "0      1   ENSG00000261061.1    31     5     2    13     6     5     0     5   \n",
       "1      1   ENSG00000254837.2    56    14    26    29    25     4     1    10   \n",
       "2      1   ENSG00000282851.2    18    10    15     9    17    14     1     8   \n",
       "3      1   ENSG00000255650.6     3     3     8     4     7     2     1     3   \n",
       "4      1  ENSG00000163597.15    25    15    23    25    10    14     5    16   \n",
       "\n",
       "   ...  TTCG  TTCT  TTGA  TTGC  TTGG  TTGT  TTTA  TTTC  TTTG  TTTT  \n",
       "0  ...     0     2     5     5     2     4     2     3     4     7  \n",
       "1  ...     1    13     8     8     4    10    15     8     6    23  \n",
       "2  ...     2     6     8     7     8    13    11    12    12    32  \n",
       "3  ...     0     3     0     1     5     3     0     5     3    21  \n",
       "4  ...     3    21    16    11    18    31    38    27    26    86  \n",
       "\n",
       "[5 rows x 258 columns]"
      ]
     },
     "execution_count": 1,
     "metadata": {},
     "output_type": "execute_result"
    }
   ],
   "source": [
    "# Input data.\n",
    "# Since the classes are unequal, we don't risk random sampling from full set.\n",
    "# Instead, keep them separate until we make the train/test split.\n",
    "infile_pos='score-positive.4mer.features.csv'\n",
    "infile_neg='score-negative.4mer.features.csv'\n",
    "infile_zero='score-zero.4mer.features.csv'\n",
    "import numpy as np\n",
    "import pandas as pd\n",
    "raw_pos = pd.read_csv(infile_pos,header=0)\n",
    "raw_neg = pd.read_csv(infile_neg,header=0)\n",
    "raw_zero = pd.read_csv(infile_zero,header=0)\n",
    "raw_pos.head()"
   ]
  },
  {
   "cell_type": "code",
   "execution_count": 2,
   "metadata": {},
   "outputs": [
    {
     "data": {
      "text/plain": [
       "((116, 258), (703, 258), (333, 258))"
      ]
     },
     "execution_count": 2,
     "metadata": {},
     "output_type": "execute_result"
    }
   ],
   "source": [
    "raw_pos.shape, raw_neg.shape, raw_zero.shape\n",
    "# All matrices have columns for 4^4 = 256 k-mers plus label plus seqname."
   ]
  },
  {
   "cell_type": "code",
   "execution_count": 3,
   "metadata": {},
   "outputs": [
    {
     "data": {
      "text/plain": [
       "0.3962417414158951"
      ]
     },
     "execution_count": 3,
     "metadata": {},
     "output_type": "execute_result"
    }
   ],
   "source": [
    "# The data is imbalanced: 170/577/405.\n",
    "# What is the probability of correct classification by random?\n",
    "total=170+577+405\n",
    "prob_random_guess_is_correct=pow(170/total,2)+pow(577/total,2)+pow(405/total,2)\n",
    "prob_random_guess_is_correct"
   ]
  },
  {
   "cell_type": "code",
   "execution_count": 4,
   "metadata": {},
   "outputs": [
    {
     "data": {
      "text/plain": [
       "((116, 258), (92, 258), (24, 258))"
      ]
     },
     "execution_count": 4,
     "metadata": {},
     "output_type": "execute_result"
    }
   ],
   "source": [
    "def split_train_test(dataset,train_portion):    \n",
    "    # Use pandas sample() to randomize the order (i.e. random sample without replacement).\n",
    "    # Side note. Data frame can be randomized while keeping header in place.\n",
    "    # This is repeatable with 42.\n",
    "    middle = int(len(dataset)*train_portion)\n",
    "    random = dataset.sample(frac=1,random_state=42)\n",
    "    train_set = random[:middle]\n",
    "    test_set = random[middle:]\n",
    "    return train_set,test_set\n",
    "TRAIN_PORTION=0.8\n",
    "\n",
    "train_pos , test_pos = split_train_test(raw_pos,TRAIN_PORTION)\n",
    "train_neg , test_neg = split_train_test(raw_neg,TRAIN_PORTION)\n",
    "train_zero , test_zero = split_train_test(raw_zero,TRAIN_PORTION)\n",
    "\n",
    "raw_pos.shape, train_pos.shape, test_pos.shape"
   ]
  },
  {
   "cell_type": "code",
   "execution_count": 5,
   "metadata": {},
   "outputs": [],
   "source": [
    "# The Geron book recommends this (or StrattifiedShuffleSplit) \n",
    "# but we could not make it work. \n",
    "\n",
    "#from sklearn.model_selection import ShuffleSplit\n",
    "#splitter=ShuffleSplit(n_splits=1, train_size=0.8, random_state=42)\n",
    "#for train_index,test_index in splitter.split(rawpos):\n",
    "#    train_pos = rawpos[train_index]\n",
    "#    test_pos = rawpos[test_index]"
   ]
  },
  {
   "cell_type": "code",
   "execution_count": 6,
   "metadata": {},
   "outputs": [
    {
     "data": {
      "text/plain": [
       "((920, 258), (232, 258))"
      ]
     },
     "execution_count": 6,
     "metadata": {},
     "output_type": "execute_result"
    }
   ],
   "source": [
    "# Combine and shuffle.\n",
    "train_sorted = pd.concat([train_pos, train_neg, train_zero],axis=0)\n",
    "train_set = train_sorted.sample(frac=1,random_state=17)\n",
    "\n",
    "test_sorted = pd.concat([test_pos, test_neg, test_zero],axis=0)\n",
    "test_set = test_sorted.sample(frac=1,random_state=17)\n",
    "\n",
    "train_set.shape, test_set.shape"
   ]
  },
  {
   "cell_type": "code",
   "execution_count": 7,
   "metadata": {},
   "outputs": [
    {
     "data": {
      "text/plain": [
       "array([ 0, -1,  1])"
      ]
     },
     "execution_count": 7,
     "metadata": {},
     "output_type": "execute_result"
    }
   ],
   "source": [
    "y_train = train_set['label']\n",
    "X_train_ID = train_set['seqname']\n",
    "X_train = train_set.drop(['label','seqname'],axis=1)\n",
    "X_train.shape\n",
    "X_train_ID.head()\n",
    "X_train.head()\n",
    "y_train.unique()\n",
    "# Try all the validators above to ensure we have what we need."
   ]
  },
  {
   "cell_type": "code",
   "execution_count": 8,
   "metadata": {},
   "outputs": [],
   "source": [
    "# Feature Scaling.\n",
    "# Effectively convert k-mer counts to k-mer frequencies.\n",
    "#from sklearn.preprocessing import StandardScaler\n",
    "#scaler=StandardScaler()\n",
    "#scaled = scaler.fit_transform(X_train)\n",
    "#df = pd.DataFrame(scaled,columns=X_train.columns)\n",
    "# The above works but we don't want to standaridize each column (feature)."
   ]
  },
  {
   "cell_type": "code",
   "execution_count": 9,
   "metadata": {},
   "outputs": [
    {
     "data": {
      "text/plain": [
       "238    4481\n",
       "314    4197\n",
       "298    1863\n",
       "676    1103\n",
       "123    2047\n",
       "       ... \n",
       "356    1460\n",
       "480    9727\n",
       "599    2000\n",
       "576    1107\n",
       "533     688\n",
       "Length: 920, dtype: int64"
      ]
     },
     "execution_count": 9,
     "metadata": {},
     "output_type": "execute_result"
    }
   ],
   "source": [
    "# We want to normalize each number by its row sum.\n",
    "X_train.head()\n",
    "X_train.sum(axis=1)\n",
    "# Row sums before normalization."
   ]
  },
  {
   "cell_type": "code",
   "execution_count": 10,
   "metadata": {},
   "outputs": [
    {
     "data": {
      "text/plain": [
       "238    1.0\n",
       "314    1.0\n",
       "298    1.0\n",
       "676    1.0\n",
       "123    1.0\n",
       "      ... \n",
       "356    1.0\n",
       "480    1.0\n",
       "599    1.0\n",
       "576    1.0\n",
       "533    1.0\n",
       "Length: 920, dtype: float64"
      ]
     },
     "execution_count": 10,
     "metadata": {},
     "output_type": "execute_result"
    }
   ],
   "source": [
    "# https://stackoverflow.com/questions/35678874/normalize-rows-of-pandas-data-frame-by-their-sums/35679163\n",
    "X_norm=X_train.div(X_train.sum(axis=1), axis=0)\n",
    "X_norm.sum(axis=1)\n",
    "# Row sums after normalization."
   ]
  },
  {
   "cell_type": "code",
   "execution_count": 11,
   "metadata": {},
   "outputs": [],
   "source": [
    "# TO DO Try min-max scaling and z-score scaling."
   ]
  },
  {
   "cell_type": "code",
   "execution_count": 12,
   "metadata": {},
   "outputs": [
    {
     "data": {
      "text/html": [
       "<div>\n",
       "<style scoped>\n",
       "    .dataframe tbody tr th:only-of-type {\n",
       "        vertical-align: middle;\n",
       "    }\n",
       "\n",
       "    .dataframe tbody tr th {\n",
       "        vertical-align: top;\n",
       "    }\n",
       "\n",
       "    .dataframe thead th {\n",
       "        text-align: right;\n",
       "    }\n",
       "</style>\n",
       "<table border=\"1\" class=\"dataframe\">\n",
       "  <thead>\n",
       "    <tr style=\"text-align: right;\">\n",
       "      <th></th>\n",
       "      <th>AAAA</th>\n",
       "      <th>AAAC</th>\n",
       "      <th>AAAG</th>\n",
       "      <th>AAAT</th>\n",
       "      <th>AACA</th>\n",
       "      <th>AACC</th>\n",
       "      <th>AACG</th>\n",
       "      <th>AACT</th>\n",
       "      <th>AAGA</th>\n",
       "      <th>AAGC</th>\n",
       "      <th>...</th>\n",
       "      <th>TTCG</th>\n",
       "      <th>TTCT</th>\n",
       "      <th>TTGA</th>\n",
       "      <th>TTGC</th>\n",
       "      <th>TTGG</th>\n",
       "      <th>TTGT</th>\n",
       "      <th>TTTA</th>\n",
       "      <th>TTTC</th>\n",
       "      <th>TTTG</th>\n",
       "      <th>TTTT</th>\n",
       "    </tr>\n",
       "  </thead>\n",
       "  <tbody>\n",
       "    <tr>\n",
       "      <th>238</th>\n",
       "      <td>0.003347</td>\n",
       "      <td>0.003347</td>\n",
       "      <td>0.004910</td>\n",
       "      <td>0.002455</td>\n",
       "      <td>0.003124</td>\n",
       "      <td>0.003571</td>\n",
       "      <td>0.001339</td>\n",
       "      <td>0.002008</td>\n",
       "      <td>0.004463</td>\n",
       "      <td>0.003571</td>\n",
       "      <td>...</td>\n",
       "      <td>0.000446</td>\n",
       "      <td>0.008257</td>\n",
       "      <td>0.002232</td>\n",
       "      <td>0.004017</td>\n",
       "      <td>0.004463</td>\n",
       "      <td>0.006472</td>\n",
       "      <td>0.004686</td>\n",
       "      <td>0.006918</td>\n",
       "      <td>0.005356</td>\n",
       "      <td>0.014729</td>\n",
       "    </tr>\n",
       "    <tr>\n",
       "      <th>314</th>\n",
       "      <td>0.014058</td>\n",
       "      <td>0.004289</td>\n",
       "      <td>0.006195</td>\n",
       "      <td>0.009054</td>\n",
       "      <td>0.007624</td>\n",
       "      <td>0.002383</td>\n",
       "      <td>0.000238</td>\n",
       "      <td>0.004051</td>\n",
       "      <td>0.007386</td>\n",
       "      <td>0.004051</td>\n",
       "      <td>...</td>\n",
       "      <td>0.001191</td>\n",
       "      <td>0.005480</td>\n",
       "      <td>0.005480</td>\n",
       "      <td>0.005480</td>\n",
       "      <td>0.004765</td>\n",
       "      <td>0.003336</td>\n",
       "      <td>0.004051</td>\n",
       "      <td>0.004765</td>\n",
       "      <td>0.005480</td>\n",
       "      <td>0.005004</td>\n",
       "    </tr>\n",
       "    <tr>\n",
       "      <th>298</th>\n",
       "      <td>0.009662</td>\n",
       "      <td>0.003757</td>\n",
       "      <td>0.004294</td>\n",
       "      <td>0.005904</td>\n",
       "      <td>0.005904</td>\n",
       "      <td>0.004294</td>\n",
       "      <td>0.001074</td>\n",
       "      <td>0.001610</td>\n",
       "      <td>0.010199</td>\n",
       "      <td>0.002684</td>\n",
       "      <td>...</td>\n",
       "      <td>0.001074</td>\n",
       "      <td>0.003221</td>\n",
       "      <td>0.003221</td>\n",
       "      <td>0.002684</td>\n",
       "      <td>0.006441</td>\n",
       "      <td>0.002147</td>\n",
       "      <td>0.000537</td>\n",
       "      <td>0.002684</td>\n",
       "      <td>0.005368</td>\n",
       "      <td>0.002684</td>\n",
       "    </tr>\n",
       "    <tr>\n",
       "      <th>676</th>\n",
       "      <td>0.013599</td>\n",
       "      <td>0.004533</td>\n",
       "      <td>0.008160</td>\n",
       "      <td>0.002720</td>\n",
       "      <td>0.005440</td>\n",
       "      <td>0.006346</td>\n",
       "      <td>0.000907</td>\n",
       "      <td>0.005440</td>\n",
       "      <td>0.002720</td>\n",
       "      <td>0.003626</td>\n",
       "      <td>...</td>\n",
       "      <td>0.001813</td>\n",
       "      <td>0.008160</td>\n",
       "      <td>0.003626</td>\n",
       "      <td>0.000907</td>\n",
       "      <td>0.000907</td>\n",
       "      <td>0.003626</td>\n",
       "      <td>0.004533</td>\n",
       "      <td>0.008160</td>\n",
       "      <td>0.004533</td>\n",
       "      <td>0.004533</td>\n",
       "    </tr>\n",
       "    <tr>\n",
       "      <th>123</th>\n",
       "      <td>0.024915</td>\n",
       "      <td>0.009770</td>\n",
       "      <td>0.010259</td>\n",
       "      <td>0.010259</td>\n",
       "      <td>0.004397</td>\n",
       "      <td>0.004397</td>\n",
       "      <td>0.001954</td>\n",
       "      <td>0.004397</td>\n",
       "      <td>0.005374</td>\n",
       "      <td>0.001954</td>\n",
       "      <td>...</td>\n",
       "      <td>0.001466</td>\n",
       "      <td>0.006839</td>\n",
       "      <td>0.006839</td>\n",
       "      <td>0.002443</td>\n",
       "      <td>0.005862</td>\n",
       "      <td>0.005374</td>\n",
       "      <td>0.008305</td>\n",
       "      <td>0.006839</td>\n",
       "      <td>0.007328</td>\n",
       "      <td>0.008305</td>\n",
       "    </tr>\n",
       "  </tbody>\n",
       "</table>\n",
       "<p>5 rows × 256 columns</p>\n",
       "</div>"
      ],
      "text/plain": [
       "         AAAA      AAAC      AAAG      AAAT      AACA      AACC      AACG  \\\n",
       "238  0.003347  0.003347  0.004910  0.002455  0.003124  0.003571  0.001339   \n",
       "314  0.014058  0.004289  0.006195  0.009054  0.007624  0.002383  0.000238   \n",
       "298  0.009662  0.003757  0.004294  0.005904  0.005904  0.004294  0.001074   \n",
       "676  0.013599  0.004533  0.008160  0.002720  0.005440  0.006346  0.000907   \n",
       "123  0.024915  0.009770  0.010259  0.010259  0.004397  0.004397  0.001954   \n",
       "\n",
       "         AACT      AAGA      AAGC  ...      TTCG      TTCT      TTGA  \\\n",
       "238  0.002008  0.004463  0.003571  ...  0.000446  0.008257  0.002232   \n",
       "314  0.004051  0.007386  0.004051  ...  0.001191  0.005480  0.005480   \n",
       "298  0.001610  0.010199  0.002684  ...  0.001074  0.003221  0.003221   \n",
       "676  0.005440  0.002720  0.003626  ...  0.001813  0.008160  0.003626   \n",
       "123  0.004397  0.005374  0.001954  ...  0.001466  0.006839  0.006839   \n",
       "\n",
       "         TTGC      TTGG      TTGT      TTTA      TTTC      TTTG      TTTT  \n",
       "238  0.004017  0.004463  0.006472  0.004686  0.006918  0.005356  0.014729  \n",
       "314  0.005480  0.004765  0.003336  0.004051  0.004765  0.005480  0.005004  \n",
       "298  0.002684  0.006441  0.002147  0.000537  0.002684  0.005368  0.002684  \n",
       "676  0.000907  0.000907  0.003626  0.004533  0.008160  0.004533  0.004533  \n",
       "123  0.002443  0.005862  0.005374  0.008305  0.006839  0.007328  0.008305  \n",
       "\n",
       "[5 rows x 256 columns]"
      ]
     },
     "execution_count": 12,
     "metadata": {},
     "output_type": "execute_result"
    }
   ],
   "source": [
    "X_norm  # starting now, each step must be repeated on X_test\n",
    "X_norm[:5]\n",
    "# Review the data before training"
   ]
  },
  {
   "cell_type": "code",
   "execution_count": 13,
   "metadata": {},
   "outputs": [
    {
     "data": {
      "text/plain": [
       "238    0\n",
       "314    0\n",
       "298   -1\n",
       "676   -1\n",
       "123    0\n",
       "359   -1\n",
       "92     0\n",
       "44     0\n",
       "604   -1\n",
       "315    0\n",
       "Name: label, dtype: int64"
      ]
     },
     "execution_count": 13,
     "metadata": {},
     "output_type": "execute_result"
    }
   ],
   "source": [
    "# TO DO: try this with a numpy array to ensure model doesn't see the row id like 165.\n",
    "# Why is 195 a negative? Perhaps the number is the number after shuffle.\n",
    "y_train[:10]\n",
    "# Review the data before training"
   ]
  },
  {
   "cell_type": "code",
   "execution_count": 14,
   "metadata": {},
   "outputs": [
    {
     "data": {
      "text/plain": [
       "array([0.60912052, 0.60912052, 0.61437908])"
      ]
     },
     "execution_count": 14,
     "metadata": {},
     "output_type": "execute_result"
    }
   ],
   "source": [
    "from sklearn.model_selection import cross_val_score\n",
    "from sklearn.linear_model import SGDClassifier\n",
    "sgd = SGDClassifier(random_state=40) \n",
    "sgd_accuracy=cross_val_score(sgd, X_norm, y_train, cv=3, scoring=\"accuracy\")\n",
    "sgd_accuracy\n",
    "# Accuracy is slightly better than chance (differs by class) using normalized data.\n",
    "# TO DO: try grid search to optimize hyper parameters."
   ]
  },
  {
   "cell_type": "code",
   "execution_count": 15,
   "metadata": {},
   "outputs": [
    {
     "data": {
      "text/plain": [
       "array([0.5504886 , 0.55700326, 0.62091503])"
      ]
     },
     "execution_count": 15,
     "metadata": {},
     "output_type": "execute_result"
    }
   ],
   "source": [
    "from sklearn.ensemble import RandomForestClassifier\n",
    "rfc = RandomForestClassifier(random_state=41)\n",
    "rfc_accuracy = cross_val_score(rfc,X_norm, y_train, cv=3, scoring=\"accuracy\")\n",
    "rfc_accuracy\n",
    "# Accuracy is perfect using normalized data."
   ]
  },
  {
   "cell_type": "code",
   "execution_count": 16,
   "metadata": {},
   "outputs": [
    {
     "data": {
      "text/plain": [
       "array([0.58631922, 0.60260586, 0.61437908])"
      ]
     },
     "execution_count": 16,
     "metadata": {},
     "output_type": "execute_result"
    }
   ],
   "source": [
    "from sklearn.svm import SVC #Support Vector Machine\n",
    "svm = SVC()\n",
    "svm_accuracy=cross_val_score(svm, X_norm, y_train, cv=3, scoring=\"accuracy\")\n",
    "svm_accuracy\n",
    "# Accuracy is nearly perfect using normalized data. How did that happen?"
   ]
  },
  {
   "cell_type": "code",
   "execution_count": 17,
   "metadata": {},
   "outputs": [
    {
     "data": {
      "text/plain": [
       "array([0.60586319, 0.60912052, 0.61437908])"
      ]
     },
     "execution_count": 17,
     "metadata": {},
     "output_type": "execute_result"
    }
   ],
   "source": [
    "from sklearn.svm import SVC\n",
    "svm = SVC()\n",
    "svm_accuracy=cross_val_score(svm, X_train, y_train, cv=3, scoring=\"accuracy\")\n",
    "svm_accuracy\n",
    "# Accuracy is still pretty good using not-normalized data."
   ]
  },
  {
   "cell_type": "code",
   "execution_count": 18,
   "metadata": {},
   "outputs": [
    {
     "data": {
      "text/plain": [
       "array([[0.00966184, 0.00375738, 0.00429415, ..., 0.00268384, 0.00536769,\n",
       "        0.00268384],\n",
       "       [0.01359927, 0.00453309, 0.00815956, ..., 0.00815956, 0.00453309,\n",
       "        0.00453309],\n",
       "       [0.00128866, 0.00579897, 0.00128866, ..., 0.00451031, 0.00386598,\n",
       "        0.00322165],\n",
       "       ...,\n",
       "       [0.01076923, 0.01076923, 0.00461538, ..., 0.00923077, 0.00307692,\n",
       "        0.00923077],\n",
       "       [0.00951475, 0.00951475, 0.00856327, ..., 0.0076118 , 0.0114177 ,\n",
       "        0.0076118 ],\n",
       "       [0.00253165, 0.00506329, 0.00421941, ..., 0.01350211, 0.01687764,\n",
       "        0.01772152]])"
      ]
     },
     "execution_count": 18,
     "metadata": {},
     "output_type": "execute_result"
    }
   ],
   "source": [
    "svm.fit(X_norm, y_train) # train on the full set (not cross validation fraction)\n",
    "svm.dual_coef_\n",
    "svm.classes_\n",
    "svm.support_vectors_\n",
    "# No signs of trouble (e.g. if the first or last column were 100%, maybe it contained the label)"
   ]
  },
  {
   "cell_type": "code",
   "execution_count": 19,
   "metadata": {},
   "outputs": [],
   "source": [
    "y_pred = svm.predict(X_norm)"
   ]
  },
  {
   "cell_type": "code",
   "execution_count": 20,
   "metadata": {},
   "outputs": [
    {
     "data": {
      "text/plain": [
       "0.7766986993456455"
      ]
     },
     "execution_count": 20,
     "metadata": {},
     "output_type": "execute_result"
    }
   ],
   "source": [
    "from sklearn.metrics import mean_squared_error\n",
    "mse = mean_squared_error(y_train,y_pred)\n",
    "rmse = np.sqrt(mse)\n",
    "rmse"
   ]
  },
  {
   "cell_type": "code",
   "execution_count": 21,
   "metadata": {},
   "outputs": [],
   "source": [
    "# TO DO: Maybe problem was easy given the zeros. \n",
    "# But we really want classes 1 and -1.\n",
    "# How would the model do on just the zeros forcing them to score as 1 or -1.\n",
    "# Or go back to the RNA and classify as + or - without a zero class.\n",
    "# The visual clustering provided visual intuition of but now we're getting down to individual cases. "
   ]
  },
  {
   "cell_type": "code",
   "execution_count": 22,
   "metadata": {},
   "outputs": [],
   "source": [
    "# Compare traditional ML to deep learning.\n",
    "# Not sure if we want feature selection, but it could extract k-mers indicative of biology.\n",
    "# Compare to other data sets."
   ]
  },
  {
   "cell_type": "code",
   "execution_count": 23,
   "metadata": {},
   "outputs": [],
   "source": [
    "# Go back to the LncAtlas scores rather than 3 bins.\n",
    "# Try KNN on scores.\n",
    "# Try logistic regression. Try thresholds. Add inverse log as another feature?"
   ]
  },
  {
   "cell_type": "code",
   "execution_count": 24,
   "metadata": {},
   "outputs": [],
   "source": [
    "# What did LncADeep use if they didn't use the LncAtlas.\n",
    "# Try Google collaborate on cloud.\n",
    "# Can I use Xcede? \n",
    "# Price a desktop GPU?\n",
    "# 8-cluster GPU at WVU called Titan."
   ]
  },
  {
   "cell_type": "code",
   "execution_count": 25,
   "metadata": {},
   "outputs": [],
   "source": [
    "# If the training score was 1, the model probably overfit!"
   ]
  },
  {
   "cell_type": "code",
   "execution_count": 28,
   "metadata": {},
   "outputs": [
    {
     "data": {
      "text/plain": [
       "array([0.80456026, 0.80456026, 0.80130293])"
      ]
     },
     "execution_count": 28,
     "metadata": {},
     "output_type": "execute_result"
    }
   ],
   "source": [
    "# Try again with binary classification.\n",
    "infile_pos='binary-positive.4mer.features.csv'\n",
    "infile_neg='binary-negative.4mer.features.csv'\n",
    "raw_pos = pd.read_csv(infile_pos,header=0)\n",
    "raw_neg = pd.read_csv(infile_neg,header=0)\n",
    "train_pos , test_pos = split_train_test(raw_pos,TRAIN_PORTION)\n",
    "train_neg , test_neg = split_train_test(raw_neg,TRAIN_PORTION)\n",
    "train_sorted = pd.concat([train_pos, train_neg],axis=0)\n",
    "train_set = train_sorted.sample(frac=1,random_state=17)\n",
    "y_train = train_set['label']\n",
    "X_train_ID = train_set['seqname']\n",
    "X_train = train_set.drop(['label','seqname'],axis=1)\n",
    "X_norm=X_train.div(X_train.sum(axis=1), axis=0)\n",
    "svm = SVC()\n",
    "svm_accuracy=cross_val_score(svm, X_norm, y_train, cv=3, scoring=\"accuracy\")\n",
    "svm_accuracy"
   ]
  },
  {
   "cell_type": "code",
   "execution_count": null,
   "metadata": {},
   "outputs": [],
   "source": []
  },
  {
   "cell_type": "code",
   "execution_count": null,
   "metadata": {},
   "outputs": [],
   "source": []
  }
 ],
 "metadata": {
  "kernelspec": {
   "display_name": "Python 3",
   "language": "python",
   "name": "python3"
  },
  "language_info": {
   "codemirror_mode": {
    "name": "ipython",
    "version": 3
   },
   "file_extension": ".py",
   "mimetype": "text/x-python",
   "name": "python",
   "nbconvert_exporter": "python",
   "pygments_lexer": "ipython3",
   "version": "3.8.3"
  }
 },
 "nbformat": 4,
 "nbformat_minor": 2
}
