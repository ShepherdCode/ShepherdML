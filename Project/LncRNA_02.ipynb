{
 "cells": [
  {
   "cell_type": "markdown",
   "metadata": {},
   "source": [
    "# June 2020"
   ]
  },
  {
   "cell_type": "code",
   "execution_count": 1,
   "metadata": {},
   "outputs": [
    {
     "ename": "SyntaxError",
     "evalue": "invalid syntax (<ipython-input-1-e5c1993847e6>, line 1)",
     "output_type": "error",
     "traceback": [
      "\u001b[0;36m  File \u001b[0;32m\"<ipython-input-1-e5c1993847e6>\"\u001b[0;36m, line \u001b[0;32m1\u001b[0m\n\u001b[0;31m    Sequence data from Ensembl (https://useast.ensembl.org/info/data/ftp/index.html).\u001b[0m\n\u001b[0m             ^\u001b[0m\n\u001b[0;31mSyntaxError\u001b[0m\u001b[0;31m:\u001b[0m invalid syntax\n"
     ]
    }
   ],
   "source": [
    "Sequence data from Ensembl (https://useast.ensembl.org/info/data/ftp/index.html).\n",
    "\n",
    "Filename = Homo_sapiens.GRCh38.ncrna.fa.gz\n",
    "Num sequences = 58028\n",
    "Shortest sequence: ENSG00000056678.11 ENST00000411692.1 lncRNA CGGCC\n",
    "Top 5 longest sequence lengths: {37027, 37852, 49287, 91667, 205012}"
   ]
  },
  {
   "cell_type": "raw",
   "metadata": {},
   "source": [
    "Input fasta from Ensembl.\n",
    "Do this processing in my Datasets/Ensembl directory on Spruce.\n",
    "\n",
    "$ echo \"One line per sequence with better defline...\"\n",
    "$ cat Homo_sapiens.GRCh38.ncrna.fa | awk '{if (substr($1,1,1)==\">\") {print \"\"; T=substr($1,2); G=substr($4,6); B=substr($5,14); printf \">%s\\t%s\\t%s\\n\",G,T,B ;} else printf \"%s\",$1 ;}' > sequence.oneline.fasta\n",
    "Num sequences = 58028\n",
    "\n",
    "$ echo \"Just sequences with lncRNA in the defline\"\n",
    "$ cat sequence.oneline.fasta | awk '{if (substr($1,1,1)==\">\" && $3==\"lncRNA\") def=$0; else { if (length(def)>0) { print def; print $1; def=\"\";} } }' > lncRNA.oneline.fasta \n",
    "Num sequences = 50435\n",
    "\n",
    "$ echo \"Just sequences with at least 200 bases\"\n",
    "$ cat lncRNA.oneline.fasta | awk '{if (substr($1,1,1)==\">\") def=$0; else { if (length($1)>=200) { print def; print $1; } } }' > lncRNA.oneline.min200.fasta \n",
    "Num sequences = 50114\n",
    "\n",
    "echo \"Just longest transcript per gene\"\n",
    "$ cat lncRNA.oneline.min200.fasta | python3 /users/jrm0122/SourceCode/ShepherdML/Strings/longest_transcript_per_gene.py > lncRNA.oneline.min200.longest_transcript_per_gene.fasta\n",
    "Num sequences = 17795"
   ]
  },
  {
   "cell_type": "raw",
   "metadata": {},
   "source": [
    "Label each fasta sequence with a lncatlas score.\n",
    "\n",
    "Problem: \n",
    "Ensemble genes have a version number like ENSG00000224286.1\n",
    "LncAtlas leaves off the version number like ENSG00000224286.\n",
    "\n",
    "Problem:\n",
    "LncAtlas only has scores for a few hundred genes.\n",
    "For the rest, the score is \"NA\".\n",
    "\n",
    "python3 label_fasta_by_lncatlas.py \\\n",
    "  LncAtlas_all_data.csv \\\n",
    "  HeLa.S3 \\\n",
    "  lncRNA.oneline.min200.longest_transcript_per_gene.fasta \\\n",
    "  lncRNA.HeLa.fasta\n",
    "Num Sequences in HeLa file: 1152"
   ]
  },
  {
   "cell_type": "raw",
   "metadata": {},
   "source": [
    "I used round-robin partition for the PCA but not classification.\n",
    "I trained on, and tested on, buckets of sequence.\n",
    "All sequences in one bucket had the same label: -1, 0, +1.\n",
    "We used fasta_to_feature.py which takes the label as parameter.\n",
    "Now we need to read the label (score) from the fasta.\n",
    "\n",
    "python3 p fasta_to_feature.py \\\n",
    "  lncRNA.HeLa.fasta \\\n",
    "  lncRNA.HeLa\n",
    "By default, generates 4-mer counts as features.\n",
    "Num sequences in lncRNA.HeLa.features.csv: 1152 (+1 header)."
   ]
  },
  {
   "cell_type": "code",
   "execution_count": 48,
   "metadata": {},
   "outputs": [
    {
     "data": {
      "text/html": [
       "<div>\n",
       "<style scoped>\n",
       "    .dataframe tbody tr th:only-of-type {\n",
       "        vertical-align: middle;\n",
       "    }\n",
       "\n",
       "    .dataframe tbody tr th {\n",
       "        vertical-align: top;\n",
       "    }\n",
       "\n",
       "    .dataframe thead th {\n",
       "        text-align: right;\n",
       "    }\n",
       "</style>\n",
       "<table border=\"1\" class=\"dataframe\">\n",
       "  <thead>\n",
       "    <tr style=\"text-align: right;\">\n",
       "      <th></th>\n",
       "      <th>label</th>\n",
       "      <th>seqname</th>\n",
       "      <th>AAAA</th>\n",
       "      <th>AAAC</th>\n",
       "      <th>AAAG</th>\n",
       "      <th>AAAT</th>\n",
       "      <th>AACA</th>\n",
       "      <th>AACC</th>\n",
       "      <th>AACG</th>\n",
       "      <th>AACT</th>\n",
       "      <th>...</th>\n",
       "      <th>TTCG</th>\n",
       "      <th>TTCT</th>\n",
       "      <th>TTGA</th>\n",
       "      <th>TTGC</th>\n",
       "      <th>TTGG</th>\n",
       "      <th>TTGT</th>\n",
       "      <th>TTTA</th>\n",
       "      <th>TTTC</th>\n",
       "      <th>TTTG</th>\n",
       "      <th>TTTT</th>\n",
       "    </tr>\n",
       "  </thead>\n",
       "  <tbody>\n",
       "    <tr>\n",
       "      <th>0</th>\n",
       "      <td>-2.037350</td>\n",
       "      <td>ENSG00000259891.1</td>\n",
       "      <td>71</td>\n",
       "      <td>8</td>\n",
       "      <td>9</td>\n",
       "      <td>16</td>\n",
       "      <td>16</td>\n",
       "      <td>5</td>\n",
       "      <td>0</td>\n",
       "      <td>1</td>\n",
       "      <td>...</td>\n",
       "      <td>2</td>\n",
       "      <td>9</td>\n",
       "      <td>20</td>\n",
       "      <td>11</td>\n",
       "      <td>8</td>\n",
       "      <td>8</td>\n",
       "      <td>11</td>\n",
       "      <td>3</td>\n",
       "      <td>19</td>\n",
       "      <td>11</td>\n",
       "    </tr>\n",
       "    <tr>\n",
       "      <th>1</th>\n",
       "      <td>-0.484711</td>\n",
       "      <td>ENSG00000215808.4</td>\n",
       "      <td>62</td>\n",
       "      <td>38</td>\n",
       "      <td>44</td>\n",
       "      <td>47</td>\n",
       "      <td>32</td>\n",
       "      <td>30</td>\n",
       "      <td>2</td>\n",
       "      <td>28</td>\n",
       "      <td>...</td>\n",
       "      <td>2</td>\n",
       "      <td>54</td>\n",
       "      <td>31</td>\n",
       "      <td>25</td>\n",
       "      <td>24</td>\n",
       "      <td>42</td>\n",
       "      <td>44</td>\n",
       "      <td>50</td>\n",
       "      <td>56</td>\n",
       "      <td>117</td>\n",
       "    </tr>\n",
       "    <tr>\n",
       "      <th>2</th>\n",
       "      <td>-1.929540</td>\n",
       "      <td>ENSG00000236088.10</td>\n",
       "      <td>54</td>\n",
       "      <td>30</td>\n",
       "      <td>37</td>\n",
       "      <td>42</td>\n",
       "      <td>37</td>\n",
       "      <td>15</td>\n",
       "      <td>4</td>\n",
       "      <td>17</td>\n",
       "      <td>...</td>\n",
       "      <td>4</td>\n",
       "      <td>75</td>\n",
       "      <td>33</td>\n",
       "      <td>27</td>\n",
       "      <td>24</td>\n",
       "      <td>46</td>\n",
       "      <td>70</td>\n",
       "      <td>75</td>\n",
       "      <td>52</td>\n",
       "      <td>152</td>\n",
       "    </tr>\n",
       "    <tr>\n",
       "      <th>3</th>\n",
       "      <td>-2.027480</td>\n",
       "      <td>ENSG00000272202.1</td>\n",
       "      <td>7</td>\n",
       "      <td>4</td>\n",
       "      <td>7</td>\n",
       "      <td>8</td>\n",
       "      <td>2</td>\n",
       "      <td>2</td>\n",
       "      <td>2</td>\n",
       "      <td>3</td>\n",
       "      <td>...</td>\n",
       "      <td>1</td>\n",
       "      <td>1</td>\n",
       "      <td>1</td>\n",
       "      <td>1</td>\n",
       "      <td>2</td>\n",
       "      <td>0</td>\n",
       "      <td>0</td>\n",
       "      <td>3</td>\n",
       "      <td>0</td>\n",
       "      <td>0</td>\n",
       "    </tr>\n",
       "    <tr>\n",
       "      <th>4</th>\n",
       "      <td>-4.424920</td>\n",
       "      <td>ENSG00000180422.3</td>\n",
       "      <td>2</td>\n",
       "      <td>2</td>\n",
       "      <td>2</td>\n",
       "      <td>4</td>\n",
       "      <td>5</td>\n",
       "      <td>2</td>\n",
       "      <td>1</td>\n",
       "      <td>1</td>\n",
       "      <td>...</td>\n",
       "      <td>3</td>\n",
       "      <td>10</td>\n",
       "      <td>4</td>\n",
       "      <td>8</td>\n",
       "      <td>8</td>\n",
       "      <td>4</td>\n",
       "      <td>2</td>\n",
       "      <td>10</td>\n",
       "      <td>9</td>\n",
       "      <td>9</td>\n",
       "    </tr>\n",
       "  </tbody>\n",
       "</table>\n",
       "<p>5 rows × 258 columns</p>\n",
       "</div>"
      ],
      "text/plain": [
       "      label             seqname  AAAA  AAAC  AAAG  AAAT  AACA  AACC  AACG  \\\n",
       "0 -2.037350   ENSG00000259891.1    71     8     9    16    16     5     0   \n",
       "1 -0.484711   ENSG00000215808.4    62    38    44    47    32    30     2   \n",
       "2 -1.929540  ENSG00000236088.10    54    30    37    42    37    15     4   \n",
       "3 -2.027480   ENSG00000272202.1     7     4     7     8     2     2     2   \n",
       "4 -4.424920   ENSG00000180422.3     2     2     2     4     5     2     1   \n",
       "\n",
       "   AACT  ...  TTCG  TTCT  TTGA  TTGC  TTGG  TTGT  TTTA  TTTC  TTTG  TTTT  \n",
       "0     1  ...     2     9    20    11     8     8    11     3    19    11  \n",
       "1    28  ...     2    54    31    25    24    42    44    50    56   117  \n",
       "2    17  ...     4    75    33    27    24    46    70    75    52   152  \n",
       "3     3  ...     1     1     1     1     2     0     0     3     0     0  \n",
       "4     1  ...     3    10     4     8     8     4     2    10     9     9  \n",
       "\n",
       "[5 rows x 258 columns]"
      ]
     },
     "execution_count": 48,
     "metadata": {},
     "output_type": "execute_result"
    }
   ],
   "source": [
    "import pandas as pd\n",
    "infile='lncRNA.HeLa.features.csv'\n",
    "scored_sequence = pd.read_csv(infile,header=0)\n",
    "scored_sequence.head()"
   ]
  },
  {
   "cell_type": "code",
   "execution_count": 49,
   "metadata": {},
   "outputs": [
    {
     "data": {
      "text/plain": [
       "(1152, 258)"
      ]
     },
     "execution_count": 49,
     "metadata": {},
     "output_type": "execute_result"
    }
   ],
   "source": [
    "scored_sequence.shape"
   ]
  },
  {
   "cell_type": "code",
   "execution_count": 50,
   "metadata": {},
   "outputs": [
    {
     "data": {
      "text/plain": [
       "(921,)"
      ]
     },
     "execution_count": 50,
     "metadata": {},
     "output_type": "execute_result"
    }
   ],
   "source": [
    "def split_train_test(dataset,train_portion):    \n",
    "    # Use pandas sample() to randomize the order (i.e. random sample without replacement).\n",
    "    # Side note. Data frame can be randomized while keeping header in place.\n",
    "    # This is repeatable with 42.\n",
    "    middle = int(len(dataset)*train_portion)\n",
    "    random = dataset.sample(frac=1,random_state=42)\n",
    "    train_set = random[:middle]\n",
    "    test_set = random[middle:]\n",
    "    return train_set,test_set\n",
    "TRAIN_PORTION=0.8\n",
    "raw_train, raw_test = split_train_test(scored_sequence,TRAIN_PORTION)\n",
    "shuffle_train = raw_train.sample(frac=1,random_state=17)\n",
    "y_train = shuffle_train['label']\n",
    "X_train_ID = shuffle_train['seqname'] # Save for later?\n",
    "X_train = shuffle_train.drop(['label','seqname'],axis=1)\n",
    "X_train.shape\n",
    "y_train.shape"
   ]
  },
  {
   "cell_type": "code",
   "execution_count": 51,
   "metadata": {},
   "outputs": [
    {
     "data": {
      "text/plain": [
       "'ENSG00000235077.1'"
      ]
     },
     "execution_count": 51,
     "metadata": {},
     "output_type": "execute_result"
    }
   ],
   "source": [
    "# In first sequence, minimum K-mer count is 312!\n",
    "X_train[0:1].min(axis=1)\n",
    "X_train_ID[263]"
   ]
  },
  {
   "cell_type": "code",
   "execution_count": 52,
   "metadata": {},
   "outputs": [
    {
     "data": {
      "text/plain": [
       "263    1.0\n",
       "571    1.0\n",
       "250    1.0\n",
       "462    1.0\n",
       "887    1.0\n",
       "      ... \n",
       "572    1.0\n",
       "259    1.0\n",
       "654    1.0\n",
       "243    1.0\n",
       "74     1.0\n",
       "Length: 921, dtype: float64"
      ]
     },
     "execution_count": 52,
     "metadata": {},
     "output_type": "execute_result"
    }
   ],
   "source": [
    "# Normalize by row sum. \n",
    "X_norm=X_train.div(X_train.sum(axis=1), axis=0)\n",
    "# After normalization, each row should sum to 1.\n",
    "X_norm.sum(axis=1)"
   ]
  },
  {
   "cell_type": "code",
   "execution_count": 53,
   "metadata": {},
   "outputs": [
    {
     "data": {
      "text/plain": [
       "263    0.0\n",
       "dtype: float64"
      ]
     },
     "execution_count": 53,
     "metadata": {},
     "output_type": "execute_result"
    }
   ],
   "source": [
    "X_norm[0:1].min(axis=1)"
   ]
  },
  {
   "cell_type": "code",
   "execution_count": 54,
   "metadata": {},
   "outputs": [
    {
     "data": {
      "text/plain": [
       "((921,), (921, 256))"
      ]
     },
     "execution_count": 54,
     "metadata": {},
     "output_type": "execute_result"
    }
   ],
   "source": [
    "y_train.shape, X_norm.shape"
   ]
  },
  {
   "cell_type": "code",
   "execution_count": 61,
   "metadata": {},
   "outputs": [
    {
     "data": {
      "text/plain": [
       "0.40011858145020307"
      ]
     },
     "execution_count": 61,
     "metadata": {},
     "output_type": "execute_result"
    }
   ],
   "source": [
    "from sklearn.model_selection import cross_val_score\n",
    "from sklearn.metrics import accuracy_score\n",
    "from sklearn.linear_model import LogisticRegression\n",
    "from sklearn.linear_model import LinearRegression\n",
    "lin = LinearRegression()\n",
    "lin.fit(X_norm,y_train)\n",
    "y_pred=lin.predict(X_norm)\n",
    "lin.score(X_norm,y_train) # test set == train set i.e. best case scenario"
   ]
  },
  {
   "cell_type": "code",
   "execution_count": 62,
   "metadata": {},
   "outputs": [
    {
     "data": {
      "text/plain": [
       "-2.5668628618205434"
      ]
     },
     "execution_count": 62,
     "metadata": {},
     "output_type": "execute_result"
    }
   ],
   "source": [
    "lin.fit(X_norm[800:],y_train[800:])\n",
    "y_pred=lin.predict(X_norm)\n",
    "lin.score(X_norm[:800],y_train[:800]) # train/test = 800/121"
   ]
  },
  {
   "cell_type": "code",
   "execution_count": 56,
   "metadata": {},
   "outputs": [
    {
     "data": {
      "text/plain": [
       "2.0005105686424307"
      ]
     },
     "execution_count": 56,
     "metadata": {},
     "output_type": "execute_result"
    }
   ],
   "source": [
    "from sklearn.metrics import mean_squared_error\n",
    "mse=mean_squared_error(y_train,y_pred)\n",
    "mse  # test set == train set i.e. best case scenario"
   ]
  },
  {
   "cell_type": "code",
   "execution_count": 63,
   "metadata": {},
   "outputs": [
    {
     "data": {
      "text/plain": [
       "array([-0.71572244, -0.63657974, -0.53192183])"
      ]
     },
     "execution_count": 63,
     "metadata": {},
     "output_type": "execute_result"
    }
   ],
   "source": [
    "scores=cross_val_score(lin,X_norm,y_train,cv=3)\n",
    "scores"
   ]
  },
  {
   "cell_type": "code",
   "execution_count": null,
   "metadata": {},
   "outputs": [],
   "source": []
  }
 ],
 "metadata": {
  "kernelspec": {
   "display_name": "Python 3",
   "language": "python",
   "name": "python3"
  },
  "language_info": {
   "codemirror_mode": {
    "name": "ipython",
    "version": 3
   },
   "file_extension": ".py",
   "mimetype": "text/x-python",
   "name": "python",
   "nbconvert_exporter": "python",
   "pygments_lexer": "ipython3",
   "version": "3.8.3"
  }
 },
 "nbformat": 4,
 "nbformat_minor": 2
}
