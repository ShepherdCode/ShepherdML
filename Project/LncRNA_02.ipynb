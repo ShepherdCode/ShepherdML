{
 "cells": [
  {
   "cell_type": "markdown",
   "metadata": {},
   "source": [
    "# June 2020"
   ]
  },
  {
   "cell_type": "code",
   "execution_count": null,
   "metadata": {},
   "outputs": [],
   "source": [
    "Sequence data from Ensembl (https://useast.ensembl.org/info/data/ftp/index.html).\n",
    "\n",
    "Filename = Homo_sapiens.GRCh38.ncrna.fa.gz\n",
    "Num sequences = 58028\n",
    "Shortest sequence: ENSG00000056678.11 ENST00000411692.1 lncRNA CGGCC\n",
    "Top 5 longest sequence lengths: {37027, 37852, 49287, 91667, 205012}"
   ]
  },
  {
   "cell_type": "raw",
   "metadata": {},
   "source": [
    "Input fasta from Ensembl.\n",
    "Do this processing in my Datasets/Ensembl directory on Spruce.\n",
    "\n",
    "$ echo \"One line per sequence with better defline...\"\n",
    "$ cat Homo_sapiens.GRCh38.ncrna.fa | awk '{if (substr($1,1,1)==\">\") {print \"\"; T=substr($1,2); G=substr($4,6); B=substr($5,14); printf \">%s\\t%s\\t%s\\n\",G,T,B ;} else printf \"%s\",$1 ;}' > sequence.oneline.fasta\n",
    "Num sequences = 58028\n",
    "\n",
    "$ echo \"Just sequences with lncRNA in the defline\"\n",
    "$ cat sequence.oneline.fasta | awk '{if (substr($1,1,1)==\">\" && $3==\"lncRNA\") def=$0; else { if (length(def)>0) { print def; print $1; def=\"\";} } }' > lncRNA.oneline.fasta \n",
    "Num sequences = 50435\n",
    "\n",
    "$ echo \"Just sequences with at least 200 bases\"\n",
    "$ cat lncRNA.oneline.fasta | awk '{if (substr($1,1,1)==\">\") def=$0; else { if (length($1)>=200) { print def; print $1; } } }' > lncRNA.oneline.min200.fasta \n",
    "Num sequences = 50114\n",
    "\n",
    "echo \"Just longest transcript per gene\"\n",
    "$ cat lncRNA.oneline.min200.fasta | python3 /users/jrm0122/SourceCode/ShepherdML/Strings/longest_transcript_per_gene.py > lncRNA.oneline.min200.longest_transcript_per_gene.fasta\n",
    "Num sequences = 17795"
   ]
  },
  {
   "cell_type": "raw",
   "metadata": {},
   "source": [
    "Label each fasta sequence with a lncatlas score.\n",
    "\n",
    "Problem: \n",
    "Ensemble genes have a version number like ENSG00000224286.1\n",
    "LncAtlas leaves off the version number like ENSG00000224286.\n",
    "\n",
    "Problem:\n",
    "LncAtlas only has scores for a few hundred genes.\n",
    "For the rest, the score is \"NA\".\n",
    "\n",
    "python3 label_fasta_by_lncatlas.py \\\n",
    "  LncAtlas_all_data.csv \\\n",
    "  HeLa.S3 \\\n",
    "  lncRNA.oneline.min200.longest_transcript_per_gene.fasta \\\n",
    "  lncRNA.HeLa.fasta\n",
    "Num Sequences in HeLa file: 1152"
   ]
  },
  {
   "cell_type": "raw",
   "metadata": {},
   "source": [
    "I used round-robin partition for the PCA but not classification.\n",
    "I trained on, and tested on, buckets of sequence.\n",
    "All sequences in one bucket had the same label: -1, 0, +1.\n",
    "We used fasta_to_feature.py which takes the label as parameter.\n",
    "Now we need to read the label (score) from the fasta."
   ]
  },
  {
   "cell_type": "code",
   "execution_count": null,
   "metadata": {},
   "outputs": [],
   "source": []
  }
 ],
 "metadata": {
  "kernelspec": {
   "display_name": "Python 3",
   "language": "python",
   "name": "python3"
  },
  "language_info": {
   "codemirror_mode": {
    "name": "ipython",
    "version": 3
   },
   "file_extension": ".py",
   "mimetype": "text/x-python",
   "name": "python",
   "nbconvert_exporter": "python",
   "pygments_lexer": "ipython3",
   "version": "3.8.3"
  }
 },
 "nbformat": 4,
 "nbformat_minor": 2
}
