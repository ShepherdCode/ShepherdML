{
 "cells": [
  {
   "cell_type": "markdown",
   "metadata": {},
   "source": [
    "# Coding vs non-coding\n",
    "K-mer count features extracted from GenCode pc and nc RNA. \n",
    "Use GenCode 34. \n",
    "Use one RNA per gene; the one transcript with median length (use floor where count is even)."
   ]
  },
  {
   "cell_type": "code",
   "execution_count": 33,
   "metadata": {},
   "outputs": [
    {
     "data": {
      "text/html": [
       "<div>\n",
       "<style scoped>\n",
       "    .dataframe tbody tr th:only-of-type {\n",
       "        vertical-align: middle;\n",
       "    }\n",
       "\n",
       "    .dataframe tbody tr th {\n",
       "        vertical-align: top;\n",
       "    }\n",
       "\n",
       "    .dataframe thead th {\n",
       "        text-align: right;\n",
       "    }\n",
       "</style>\n",
       "<table border=\"1\" class=\"dataframe\">\n",
       "  <thead>\n",
       "    <tr style=\"text-align: right;\">\n",
       "      <th></th>\n",
       "      <th>seqnum</th>\n",
       "      <th>seqlen</th>\n",
       "      <th>AA</th>\n",
       "      <th>AC</th>\n",
       "      <th>AG</th>\n",
       "      <th>AT</th>\n",
       "      <th>CA</th>\n",
       "      <th>CC</th>\n",
       "      <th>CG</th>\n",
       "      <th>CT</th>\n",
       "      <th>GA</th>\n",
       "      <th>GC</th>\n",
       "      <th>GG</th>\n",
       "      <th>GT</th>\n",
       "      <th>TA</th>\n",
       "      <th>TC</th>\n",
       "      <th>TG</th>\n",
       "      <th>TT</th>\n",
       "    </tr>\n",
       "  </thead>\n",
       "  <tbody>\n",
       "    <tr>\n",
       "      <th>0</th>\n",
       "      <td>1</td>\n",
       "      <td>535</td>\n",
       "      <td>39</td>\n",
       "      <td>21</td>\n",
       "      <td>38</td>\n",
       "      <td>30</td>\n",
       "      <td>31</td>\n",
       "      <td>48</td>\n",
       "      <td>11</td>\n",
       "      <td>44</td>\n",
       "      <td>31</td>\n",
       "      <td>30</td>\n",
       "      <td>26</td>\n",
       "      <td>28</td>\n",
       "      <td>27</td>\n",
       "      <td>36</td>\n",
       "      <td>40</td>\n",
       "      <td>54</td>\n",
       "    </tr>\n",
       "    <tr>\n",
       "      <th>1</th>\n",
       "      <td>2</td>\n",
       "      <td>590</td>\n",
       "      <td>37</td>\n",
       "      <td>21</td>\n",
       "      <td>47</td>\n",
       "      <td>27</td>\n",
       "      <td>43</td>\n",
       "      <td>55</td>\n",
       "      <td>9</td>\n",
       "      <td>51</td>\n",
       "      <td>35</td>\n",
       "      <td>42</td>\n",
       "      <td>55</td>\n",
       "      <td>26</td>\n",
       "      <td>18</td>\n",
       "      <td>40</td>\n",
       "      <td>46</td>\n",
       "      <td>37</td>\n",
       "    </tr>\n",
       "    <tr>\n",
       "      <th>2</th>\n",
       "      <td>3</td>\n",
       "      <td>629</td>\n",
       "      <td>61</td>\n",
       "      <td>30</td>\n",
       "      <td>53</td>\n",
       "      <td>41</td>\n",
       "      <td>48</td>\n",
       "      <td>41</td>\n",
       "      <td>5</td>\n",
       "      <td>45</td>\n",
       "      <td>48</td>\n",
       "      <td>30</td>\n",
       "      <td>31</td>\n",
       "      <td>32</td>\n",
       "      <td>28</td>\n",
       "      <td>38</td>\n",
       "      <td>51</td>\n",
       "      <td>46</td>\n",
       "    </tr>\n",
       "    <tr>\n",
       "      <th>3</th>\n",
       "      <td>4</td>\n",
       "      <td>1319</td>\n",
       "      <td>109</td>\n",
       "      <td>68</td>\n",
       "      <td>127</td>\n",
       "      <td>77</td>\n",
       "      <td>110</td>\n",
       "      <td>75</td>\n",
       "      <td>16</td>\n",
       "      <td>82</td>\n",
       "      <td>106</td>\n",
       "      <td>79</td>\n",
       "      <td>100</td>\n",
       "      <td>58</td>\n",
       "      <td>57</td>\n",
       "      <td>61</td>\n",
       "      <td>100</td>\n",
       "      <td>93</td>\n",
       "    </tr>\n",
       "    <tr>\n",
       "      <th>4</th>\n",
       "      <td>5</td>\n",
       "      <td>323</td>\n",
       "      <td>16</td>\n",
       "      <td>21</td>\n",
       "      <td>26</td>\n",
       "      <td>12</td>\n",
       "      <td>28</td>\n",
       "      <td>23</td>\n",
       "      <td>4</td>\n",
       "      <td>21</td>\n",
       "      <td>24</td>\n",
       "      <td>23</td>\n",
       "      <td>31</td>\n",
       "      <td>19</td>\n",
       "      <td>7</td>\n",
       "      <td>9</td>\n",
       "      <td>37</td>\n",
       "      <td>21</td>\n",
       "    </tr>\n",
       "  </tbody>\n",
       "</table>\n",
       "</div>"
      ],
      "text/plain": [
       "   seqnum  seqlen   AA  AC   AG  AT   CA  CC  CG  CT   GA  GC   GG  GT  TA  \\\n",
       "0       1     535   39  21   38  30   31  48  11  44   31  30   26  28  27   \n",
       "1       2     590   37  21   47  27   43  55   9  51   35  42   55  26  18   \n",
       "2       3     629   61  30   53  41   48  41   5  45   48  30   31  32  28   \n",
       "3       4    1319  109  68  127  77  110  75  16  82  106  79  100  58  57   \n",
       "4       5     323   16  21   26  12   28  23   4  21   24  23   31  19   7   \n",
       "\n",
       "   TC   TG  TT  \n",
       "0  36   40  54  \n",
       "1  40   46  37  \n",
       "2  38   51  46  \n",
       "3  61  100  93  \n",
       "4   9   37  21  "
      ]
     },
     "execution_count": 33,
     "metadata": {},
     "output_type": "execute_result"
    }
   ],
   "source": [
    "import pandas as pd\n",
    "import matplotlib.pyplot as plt\n",
    "ncfile='ncRNA.2mer.features.csv'\n",
    "nc_features = pd.read_csv(ncfile,header=0)\n",
    "nc_features.head()\n",
    "# Our non-coding sequence numbers start at 1. "
   ]
  },
  {
   "cell_type": "code",
   "execution_count": 34,
   "metadata": {},
   "outputs": [
    {
     "data": {
      "text/html": [
       "<div>\n",
       "<style scoped>\n",
       "    .dataframe tbody tr th:only-of-type {\n",
       "        vertical-align: middle;\n",
       "    }\n",
       "\n",
       "    .dataframe tbody tr th {\n",
       "        vertical-align: top;\n",
       "    }\n",
       "\n",
       "    .dataframe thead th {\n",
       "        text-align: right;\n",
       "    }\n",
       "</style>\n",
       "<table border=\"1\" class=\"dataframe\">\n",
       "  <thead>\n",
       "    <tr style=\"text-align: right;\">\n",
       "      <th></th>\n",
       "      <th>seqnum</th>\n",
       "      <th>seqlen</th>\n",
       "      <th>AA</th>\n",
       "      <th>AC</th>\n",
       "      <th>AG</th>\n",
       "      <th>AT</th>\n",
       "      <th>CA</th>\n",
       "      <th>CC</th>\n",
       "      <th>CG</th>\n",
       "      <th>CT</th>\n",
       "      <th>GA</th>\n",
       "      <th>GC</th>\n",
       "      <th>GG</th>\n",
       "      <th>GT</th>\n",
       "      <th>TA</th>\n",
       "      <th>TC</th>\n",
       "      <th>TG</th>\n",
       "      <th>TT</th>\n",
       "    </tr>\n",
       "  </thead>\n",
       "  <tbody>\n",
       "    <tr>\n",
       "      <th>0</th>\n",
       "      <td>50000</td>\n",
       "      <td>1054</td>\n",
       "      <td>62</td>\n",
       "      <td>56</td>\n",
       "      <td>53</td>\n",
       "      <td>91</td>\n",
       "      <td>78</td>\n",
       "      <td>57</td>\n",
       "      <td>13</td>\n",
       "      <td>91</td>\n",
       "      <td>55</td>\n",
       "      <td>38</td>\n",
       "      <td>40</td>\n",
       "      <td>65</td>\n",
       "      <td>67</td>\n",
       "      <td>89</td>\n",
       "      <td>92</td>\n",
       "      <td>106</td>\n",
       "    </tr>\n",
       "    <tr>\n",
       "      <th>1</th>\n",
       "      <td>50001</td>\n",
       "      <td>995</td>\n",
       "      <td>41</td>\n",
       "      <td>54</td>\n",
       "      <td>54</td>\n",
       "      <td>66</td>\n",
       "      <td>79</td>\n",
       "      <td>68</td>\n",
       "      <td>8</td>\n",
       "      <td>99</td>\n",
       "      <td>48</td>\n",
       "      <td>42</td>\n",
       "      <td>47</td>\n",
       "      <td>63</td>\n",
       "      <td>46</td>\n",
       "      <td>90</td>\n",
       "      <td>92</td>\n",
       "      <td>97</td>\n",
       "    </tr>\n",
       "    <tr>\n",
       "      <th>2</th>\n",
       "      <td>50002</td>\n",
       "      <td>995</td>\n",
       "      <td>41</td>\n",
       "      <td>54</td>\n",
       "      <td>54</td>\n",
       "      <td>66</td>\n",
       "      <td>79</td>\n",
       "      <td>68</td>\n",
       "      <td>8</td>\n",
       "      <td>99</td>\n",
       "      <td>48</td>\n",
       "      <td>42</td>\n",
       "      <td>47</td>\n",
       "      <td>63</td>\n",
       "      <td>46</td>\n",
       "      <td>90</td>\n",
       "      <td>92</td>\n",
       "      <td>97</td>\n",
       "    </tr>\n",
       "    <tr>\n",
       "      <th>3</th>\n",
       "      <td>50003</td>\n",
       "      <td>2191</td>\n",
       "      <td>75</td>\n",
       "      <td>104</td>\n",
       "      <td>173</td>\n",
       "      <td>42</td>\n",
       "      <td>154</td>\n",
       "      <td>305</td>\n",
       "      <td>136</td>\n",
       "      <td>162</td>\n",
       "      <td>143</td>\n",
       "      <td>236</td>\n",
       "      <td>259</td>\n",
       "      <td>68</td>\n",
       "      <td>22</td>\n",
       "      <td>111</td>\n",
       "      <td>138</td>\n",
       "      <td>62</td>\n",
       "    </tr>\n",
       "    <tr>\n",
       "      <th>4</th>\n",
       "      <td>50004</td>\n",
       "      <td>2757</td>\n",
       "      <td>123</td>\n",
       "      <td>131</td>\n",
       "      <td>251</td>\n",
       "      <td>77</td>\n",
       "      <td>201</td>\n",
       "      <td>234</td>\n",
       "      <td>124</td>\n",
       "      <td>219</td>\n",
       "      <td>219</td>\n",
       "      <td>254</td>\n",
       "      <td>273</td>\n",
       "      <td>125</td>\n",
       "      <td>40</td>\n",
       "      <td>159</td>\n",
       "      <td>222</td>\n",
       "      <td>104</td>\n",
       "    </tr>\n",
       "  </tbody>\n",
       "</table>\n",
       "</div>"
      ],
      "text/plain": [
       "   seqnum  seqlen   AA   AC   AG  AT   CA   CC   CG   CT   GA   GC   GG   GT  \\\n",
       "0   50000    1054   62   56   53  91   78   57   13   91   55   38   40   65   \n",
       "1   50001     995   41   54   54  66   79   68    8   99   48   42   47   63   \n",
       "2   50002     995   41   54   54  66   79   68    8   99   48   42   47   63   \n",
       "3   50003    2191   75  104  173  42  154  305  136  162  143  236  259   68   \n",
       "4   50004    2757  123  131  251  77  201  234  124  219  219  254  273  125   \n",
       "\n",
       "   TA   TC   TG   TT  \n",
       "0  67   89   92  106  \n",
       "1  46   90   92   97  \n",
       "2  46   90   92   97  \n",
       "3  22  111  138   62  \n",
       "4  40  159  222  104  "
      ]
     },
     "execution_count": 34,
     "metadata": {},
     "output_type": "execute_result"
    }
   ],
   "source": [
    "pcfile='pcRNA.2mer.features.csv'\n",
    "pc_features = pd.read_csv(pcfile,header=0)\n",
    "pc_features.head()\n",
    "# Our protein-coding sequence numbers start at 50,000."
   ]
  },
  {
   "cell_type": "code",
   "execution_count": 38,
   "metadata": {},
   "outputs": [
    {
     "data": {
      "text/plain": [
       "((17959, 18), (20365, 18))"
      ]
     },
     "execution_count": 38,
     "metadata": {},
     "output_type": "execute_result"
    }
   ],
   "source": [
    "nc_features.shape, pc_features.shape"
   ]
  },
  {
   "cell_type": "code",
   "execution_count": 43,
   "metadata": {},
   "outputs": [
    {
     "data": {
      "text/plain": [
       "(205012, 21470)"
      ]
     },
     "execution_count": 43,
     "metadata": {},
     "output_type": "execute_result"
    }
   ],
   "source": [
    "# Longest sequence in each class.\n",
    "# Yes, there is a 200Kb lncRNA!\n",
    "nc_features['seqlen'].max(), pc_features['seqlen'].max()"
   ]
  },
  {
   "cell_type": "code",
   "execution_count": 44,
   "metadata": {},
   "outputs": [
    {
     "data": {
      "text/plain": [
       "(32, 8)"
      ]
     },
     "execution_count": 44,
     "metadata": {},
     "output_type": "execute_result"
    }
   ],
   "source": [
    "# Shortes sequence in each class\n",
    "nc_features['seqlen'].min(), pc_features['seqlen'].min()"
   ]
  },
  {
   "cell_type": "code",
   "execution_count": 22,
   "metadata": {},
   "outputs": [
    {
     "data": {
      "text/plain": [
       "((17959, 1), (20365, 1))"
      ]
     },
     "execution_count": 22,
     "metadata": {},
     "output_type": "execute_result"
    }
   ],
   "source": [
    "nc_labels_temp=[0]*nc_features.shape[0]\n",
    "pc_labels_temp=[1]*pc_features.shape[0]\n",
    "nc_labels=pd.core.frame.DataFrame(nc_labels_temp)\n",
    "pc_labels=pd.core.frame.DataFrame(pc_labels_temp)\n",
    "nc_labels.shape, pc_labels.shape"
   ]
  },
  {
   "cell_type": "code",
   "execution_count": 45,
   "metadata": {},
   "outputs": [
    {
     "data": {
      "text/plain": [
       "array([[<matplotlib.axes._subplots.AxesSubplot object at 0x7ffd5847cdf0>]],\n",
       "      dtype=object)"
      ]
     },
     "execution_count": 45,
     "metadata": {},
     "output_type": "execute_result"
    },
    {
     "data": {
      "image/png": "[encoded data removed]",
      "text/plain": [
       "<Figure size 432x288 with 1 Axes>"
      ]
     },
     "metadata": {
      "needs_background": "light"
     },
     "output_type": "display_data"
    }
   ],
   "source": [
    "# There appears to be 3 outliers at 50Kb, 100Kb, and 200Kb. \n",
    "nc_features.hist(column='seqlen',bins=10, log=True)"
   ]
  },
  {
   "cell_type": "code",
   "execution_count": 46,
   "metadata": {},
   "outputs": [
    {
     "data": {
      "text/plain": [
       "array([[<matplotlib.axes._subplots.AxesSubplot object at 0x7ffd58521e50>]],\n",
       "      dtype=object)"
      ]
     },
     "execution_count": 46,
     "metadata": {},
     "output_type": "execute_result"
    },
    {
     "data": {
      "image/png": "[encoded data removed]",
      "text/plain": [
       "<Figure size 432x288 with 1 Axes>"
      ]
     },
     "metadata": {
      "needs_background": "light"
     },
     "output_type": "display_data"
    }
   ],
   "source": [
    "Exponential decay till about 15Kb.\n",
    "pc_features.hist(column='seqlen',bins=10, log=True)"
   ]
  },
  {
   "cell_type": "code",
   "execution_count": 59,
   "metadata": {},
   "outputs": [
    {
     "data": {
      "text/plain": [
       "9343     True\n",
       "10859    True\n",
       "dtype: bool"
      ]
     },
     "execution_count": 59,
     "metadata": {},
     "output_type": "execute_result"
    }
   ],
   "source": [
    "truefalse=nc_features.apply(lambda x: True if x['seqlen'] >= 50000 else False, axis=1)\n",
    "truefalse[truefalse==True]"
   ]
  },
  {
   "cell_type": "code",
   "execution_count": 66,
   "metadata": {},
   "outputs": [
    {
     "data": {
      "text/html": [
       "<div>\n",
       "<style scoped>\n",
       "    .dataframe tbody tr th:only-of-type {\n",
       "        vertical-align: middle;\n",
       "    }\n",
       "\n",
       "    .dataframe tbody tr th {\n",
       "        vertical-align: top;\n",
       "    }\n",
       "\n",
       "    .dataframe thead th {\n",
       "        text-align: right;\n",
       "    }\n",
       "</style>\n",
       "<table border=\"1\" class=\"dataframe\">\n",
       "  <thead>\n",
       "    <tr style=\"text-align: right;\">\n",
       "      <th></th>\n",
       "      <th>seqnum</th>\n",
       "      <th>seqlen</th>\n",
       "      <th>AA</th>\n",
       "      <th>AC</th>\n",
       "      <th>AG</th>\n",
       "      <th>AT</th>\n",
       "      <th>CA</th>\n",
       "      <th>CC</th>\n",
       "      <th>CG</th>\n",
       "      <th>CT</th>\n",
       "      <th>GA</th>\n",
       "      <th>GC</th>\n",
       "      <th>GG</th>\n",
       "      <th>GT</th>\n",
       "      <th>TA</th>\n",
       "      <th>TC</th>\n",
       "      <th>TG</th>\n",
       "      <th>TT</th>\n",
       "    </tr>\n",
       "  </thead>\n",
       "  <tbody>\n",
       "    <tr>\n",
       "      <th>9343</th>\n",
       "      <td>9344</td>\n",
       "      <td>91667</td>\n",
       "      <td>10727</td>\n",
       "      <td>5299</td>\n",
       "      <td>7483</td>\n",
       "      <td>6497</td>\n",
       "      <td>7598</td>\n",
       "      <td>5395</td>\n",
       "      <td>763</td>\n",
       "      <td>5846</td>\n",
       "      <td>6409</td>\n",
       "      <td>4305</td>\n",
       "      <td>5883</td>\n",
       "      <td>3875</td>\n",
       "      <td>5272</td>\n",
       "      <td>4603</td>\n",
       "      <td>6343</td>\n",
       "      <td>5368</td>\n",
       "    </tr>\n",
       "    <tr>\n",
       "      <th>10859</th>\n",
       "      <td>10860</td>\n",
       "      <td>205012</td>\n",
       "      <td>18285</td>\n",
       "      <td>9028</td>\n",
       "      <td>13529</td>\n",
       "      <td>17526</td>\n",
       "      <td>13220</td>\n",
       "      <td>8962</td>\n",
       "      <td>1014</td>\n",
       "      <td>14587</td>\n",
       "      <td>11867</td>\n",
       "      <td>7086</td>\n",
       "      <td>9317</td>\n",
       "      <td>11454</td>\n",
       "      <td>14997</td>\n",
       "      <td>12707</td>\n",
       "      <td>15863</td>\n",
       "      <td>25569</td>\n",
       "    </tr>\n",
       "  </tbody>\n",
       "</table>\n",
       "</div>"
      ],
      "text/plain": [
       "       seqnum  seqlen     AA    AC     AG     AT     CA    CC    CG     CT  \\\n",
       "9343     9344   91667  10727  5299   7483   6497   7598  5395   763   5846   \n",
       "10859   10860  205012  18285  9028  13529  17526  13220  8962  1014  14587   \n",
       "\n",
       "          GA    GC    GG     GT     TA     TC     TG     TT  \n",
       "9343    6409  4305  5883   3875   5272   4603   6343   5368  \n",
       "10859  11867  7086  9317  11454  14997  12707  15863  25569  "
      ]
     },
     "execution_count": 66,
     "metadata": {},
     "output_type": "execute_result"
    }
   ],
   "source": [
    "nc_features.loc[truefalse[truefalse==True].index]"
   ]
  },
  {
   "cell_type": "code",
   "execution_count": 77,
   "metadata": {},
   "outputs": [],
   "source": [
    "#nc_features.drop(labels=truefalse[truefalse==True].index)\n",
    "new_nc_features=nc_features.drop([9343,10859])"
   ]
  },
  {
   "cell_type": "code",
   "execution_count": 78,
   "metadata": {},
   "outputs": [
    {
     "data": {
      "text/plain": [
       "Series([], dtype: bool)"
      ]
     },
     "execution_count": 78,
     "metadata": {},
     "output_type": "execute_result"
    }
   ],
   "source": [
    "truefalse=new_nc_features.apply(lambda x: True if x['seqlen'] >= 50000 else False, axis=1)\n",
    "truefalse[truefalse==True]"
   ]
  },
  {
   "cell_type": "code",
   "execution_count": null,
   "metadata": {},
   "outputs": [],
   "source": []
  }
 ],
 "metadata": {
  "kernelspec": {
   "display_name": "Python 3",
   "language": "python",
   "name": "python3"
  },
  "language_info": {
   "codemirror_mode": {
    "name": "ipython",
    "version": 3
   },
   "file_extension": ".py",
   "mimetype": "text/x-python",
   "name": "python",
   "nbconvert_exporter": "python",
   "pygments_lexer": "ipython3",
   "version": "3.8.3"
  }
 },
 "nbformat": 4,
 "nbformat_minor": 2
}
