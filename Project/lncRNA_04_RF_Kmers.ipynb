{
 "cells": [
  {
   "cell_type": "markdown",
   "metadata": {},
   "source": [
    "# Attempt nc/pc classification with K-mers"
   ]
  },
  {
   "cell_type": "code",
   "execution_count": 1,
   "metadata": {},
   "outputs": [],
   "source": [
    "import numpy as np\n",
    "import pandas as pd\n",
    "import matplotlib.pyplot as plt\n",
    "# These files could countain K-mers for any K or any combination of K.\n",
    "X_train=pd.read_pickle(\"ncRNA.pcRNA.X_train.pkl\")\n",
    "y_train=pd.read_pickle(\"ncRNA.pcRNA.y_train.pkl\")"
   ]
  },
  {
   "cell_type": "code",
   "execution_count": 2,
   "metadata": {},
   "outputs": [
    {
     "data": {
      "text/html": [
       "<div>\n",
       "<style scoped>\n",
       "    .dataframe tbody tr th:only-of-type {\n",
       "        vertical-align: middle;\n",
       "    }\n",
       "\n",
       "    .dataframe tbody tr th {\n",
       "        vertical-align: top;\n",
       "    }\n",
       "\n",
       "    .dataframe thead th {\n",
       "        text-align: right;\n",
       "    }\n",
       "</style>\n",
       "<table border=\"1\" class=\"dataframe\">\n",
       "  <thead>\n",
       "    <tr style=\"text-align: right;\">\n",
       "      <th></th>\n",
       "      <th>AA</th>\n",
       "      <th>AC</th>\n",
       "      <th>AG</th>\n",
       "      <th>AT</th>\n",
       "      <th>CA</th>\n",
       "      <th>CC</th>\n",
       "      <th>CG</th>\n",
       "      <th>CT</th>\n",
       "      <th>GA</th>\n",
       "      <th>GC</th>\n",
       "      <th>GG</th>\n",
       "      <th>GT</th>\n",
       "      <th>TA</th>\n",
       "      <th>TC</th>\n",
       "      <th>TG</th>\n",
       "      <th>TT</th>\n",
       "    </tr>\n",
       "  </thead>\n",
       "  <tbody>\n",
       "    <tr>\n",
       "      <th>0</th>\n",
       "      <td>-0.004024</td>\n",
       "      <td>-0.659576</td>\n",
       "      <td>0.716697</td>\n",
       "      <td>0.738642</td>\n",
       "      <td>-0.020288</td>\n",
       "      <td>-0.591321</td>\n",
       "      <td>-0.851616</td>\n",
       "      <td>-1.995072</td>\n",
       "      <td>0.627916</td>\n",
       "      <td>-1.334353</td>\n",
       "      <td>0.155050</td>\n",
       "      <td>1.397497</td>\n",
       "      <td>0.534537</td>\n",
       "      <td>-0.681886</td>\n",
       "      <td>-0.123262</td>\n",
       "      <td>1.587485</td>\n",
       "    </tr>\n",
       "    <tr>\n",
       "      <th>1</th>\n",
       "      <td>1.110895</td>\n",
       "      <td>-0.773458</td>\n",
       "      <td>0.443664</td>\n",
       "      <td>-0.468627</td>\n",
       "      <td>0.442087</td>\n",
       "      <td>0.184808</td>\n",
       "      <td>-0.526079</td>\n",
       "      <td>0.114514</td>\n",
       "      <td>-1.028308</td>\n",
       "      <td>0.254049</td>\n",
       "      <td>0.824241</td>\n",
       "      <td>-0.247580</td>\n",
       "      <td>-0.000189</td>\n",
       "      <td>-0.299354</td>\n",
       "      <td>-0.566364</td>\n",
       "      <td>-0.851934</td>\n",
       "    </tr>\n",
       "    <tr>\n",
       "      <th>2</th>\n",
       "      <td>-0.111784</td>\n",
       "      <td>0.543113</td>\n",
       "      <td>2.125577</td>\n",
       "      <td>-0.689662</td>\n",
       "      <td>0.758004</td>\n",
       "      <td>-0.197977</td>\n",
       "      <td>0.350677</td>\n",
       "      <td>-2.025999</td>\n",
       "      <td>1.707454</td>\n",
       "      <td>-0.339651</td>\n",
       "      <td>1.728564</td>\n",
       "      <td>0.720671</td>\n",
       "      <td>-0.716850</td>\n",
       "      <td>-0.778281</td>\n",
       "      <td>-0.978183</td>\n",
       "      <td>-1.060748</td>\n",
       "    </tr>\n",
       "    <tr>\n",
       "      <th>3</th>\n",
       "      <td>-0.053374</td>\n",
       "      <td>-0.383728</td>\n",
       "      <td>-0.143779</td>\n",
       "      <td>-0.279283</td>\n",
       "      <td>-1.616643</td>\n",
       "      <td>-0.913571</td>\n",
       "      <td>2.228392</td>\n",
       "      <td>-2.421931</td>\n",
       "      <td>1.493693</td>\n",
       "      <td>0.124486</td>\n",
       "      <td>0.813607</td>\n",
       "      <td>2.395393</td>\n",
       "      <td>-0.586251</td>\n",
       "      <td>-0.770821</td>\n",
       "      <td>0.325547</td>\n",
       "      <td>-0.020991</td>\n",
       "    </tr>\n",
       "    <tr>\n",
       "      <th>4</th>\n",
       "      <td>-1.203859</td>\n",
       "      <td>-0.178941</td>\n",
       "      <td>-0.381052</td>\n",
       "      <td>-1.537152</td>\n",
       "      <td>-0.575941</td>\n",
       "      <td>1.607314</td>\n",
       "      <td>3.003027</td>\n",
       "      <td>-0.730495</td>\n",
       "      <td>-0.517248</td>\n",
       "      <td>2.146672</td>\n",
       "      <td>1.588106</td>\n",
       "      <td>-0.738897</td>\n",
       "      <td>-1.242115</td>\n",
       "      <td>-0.449474</td>\n",
       "      <td>-1.541550</td>\n",
       "      <td>-1.206168</td>\n",
       "    </tr>\n",
       "    <tr>\n",
       "      <th>...</th>\n",
       "      <td>...</td>\n",
       "      <td>...</td>\n",
       "      <td>...</td>\n",
       "      <td>...</td>\n",
       "      <td>...</td>\n",
       "      <td>...</td>\n",
       "      <td>...</td>\n",
       "      <td>...</td>\n",
       "      <td>...</td>\n",
       "      <td>...</td>\n",
       "      <td>...</td>\n",
       "      <td>...</td>\n",
       "      <td>...</td>\n",
       "      <td>...</td>\n",
       "      <td>...</td>\n",
       "      <td>...</td>\n",
       "    </tr>\n",
       "    <tr>\n",
       "      <th>30285</th>\n",
       "      <td>1.613794</td>\n",
       "      <td>-1.135071</td>\n",
       "      <td>-1.087569</td>\n",
       "      <td>2.189131</td>\n",
       "      <td>-1.168236</td>\n",
       "      <td>-1.598192</td>\n",
       "      <td>-1.027905</td>\n",
       "      <td>-2.576919</td>\n",
       "      <td>-1.076636</td>\n",
       "      <td>-1.356709</td>\n",
       "      <td>-1.395530</td>\n",
       "      <td>2.516665</td>\n",
       "      <td>2.464470</td>\n",
       "      <td>-2.474676</td>\n",
       "      <td>1.238035</td>\n",
       "      <td>2.329350</td>\n",
       "    </tr>\n",
       "    <tr>\n",
       "      <th>30286</th>\n",
       "      <td>0.015913</td>\n",
       "      <td>-1.197863</td>\n",
       "      <td>1.152874</td>\n",
       "      <td>0.103715</td>\n",
       "      <td>0.261557</td>\n",
       "      <td>-0.261653</td>\n",
       "      <td>-0.929135</td>\n",
       "      <td>-0.288501</td>\n",
       "      <td>0.671909</td>\n",
       "      <td>-0.369324</td>\n",
       "      <td>0.124156</td>\n",
       "      <td>-0.486250</td>\n",
       "      <td>-0.373969</td>\n",
       "      <td>0.075279</td>\n",
       "      <td>-0.128220</td>\n",
       "      <td>0.956217</td>\n",
       "    </tr>\n",
       "    <tr>\n",
       "      <th>30287</th>\n",
       "      <td>-0.242799</td>\n",
       "      <td>-0.955269</td>\n",
       "      <td>2.241359</td>\n",
       "      <td>-0.706594</td>\n",
       "      <td>-0.605064</td>\n",
       "      <td>-0.471174</td>\n",
       "      <td>0.298205</td>\n",
       "      <td>-0.621376</td>\n",
       "      <td>0.962984</td>\n",
       "      <td>0.199256</td>\n",
       "      <td>2.723256</td>\n",
       "      <td>-0.430919</td>\n",
       "      <td>0.102037</td>\n",
       "      <td>-0.486458</td>\n",
       "      <td>-1.904974</td>\n",
       "      <td>-1.037355</td>\n",
       "    </tr>\n",
       "    <tr>\n",
       "      <th>30288</th>\n",
       "      <td>-0.405485</td>\n",
       "      <td>0.726505</td>\n",
       "      <td>-0.231373</td>\n",
       "      <td>-0.209634</td>\n",
       "      <td>0.556042</td>\n",
       "      <td>0.598814</td>\n",
       "      <td>-0.029205</td>\n",
       "      <td>-0.041988</td>\n",
       "      <td>0.123398</td>\n",
       "      <td>-0.182738</td>\n",
       "      <td>0.190474</td>\n",
       "      <td>-0.182406</td>\n",
       "      <td>-0.483583</td>\n",
       "      <td>0.261818</td>\n",
       "      <td>-0.005944</td>\n",
       "      <td>-0.116536</td>\n",
       "    </tr>\n",
       "    <tr>\n",
       "      <th>30289</th>\n",
       "      <td>-0.292454</td>\n",
       "      <td>-1.438877</td>\n",
       "      <td>2.040063</td>\n",
       "      <td>-1.171917</td>\n",
       "      <td>0.180142</td>\n",
       "      <td>-0.400160</td>\n",
       "      <td>-0.303791</td>\n",
       "      <td>0.601025</td>\n",
       "      <td>0.752489</td>\n",
       "      <td>0.977688</td>\n",
       "      <td>1.091500</td>\n",
       "      <td>-0.233440</td>\n",
       "      <td>-0.997770</td>\n",
       "      <td>-0.331539</td>\n",
       "      <td>0.423017</td>\n",
       "      <td>-0.478078</td>\n",
       "    </tr>\n",
       "  </tbody>\n",
       "</table>\n",
       "<p>30290 rows × 16 columns</p>\n",
       "</div>"
      ],
      "text/plain": [
       "             AA        AC        AG        AT        CA        CC        CG  \\\n",
       "0     -0.004024 -0.659576  0.716697  0.738642 -0.020288 -0.591321 -0.851616   \n",
       "1      1.110895 -0.773458  0.443664 -0.468627  0.442087  0.184808 -0.526079   \n",
       "2     -0.111784  0.543113  2.125577 -0.689662  0.758004 -0.197977  0.350677   \n",
       "3     -0.053374 -0.383728 -0.143779 -0.279283 -1.616643 -0.913571  2.228392   \n",
       "4     -1.203859 -0.178941 -0.381052 -1.537152 -0.575941  1.607314  3.003027   \n",
       "...         ...       ...       ...       ...       ...       ...       ...   \n",
       "30285  1.613794 -1.135071 -1.087569  2.189131 -1.168236 -1.598192 -1.027905   \n",
       "30286  0.015913 -1.197863  1.152874  0.103715  0.261557 -0.261653 -0.929135   \n",
       "30287 -0.242799 -0.955269  2.241359 -0.706594 -0.605064 -0.471174  0.298205   \n",
       "30288 -0.405485  0.726505 -0.231373 -0.209634  0.556042  0.598814 -0.029205   \n",
       "30289 -0.292454 -1.438877  2.040063 -1.171917  0.180142 -0.400160 -0.303791   \n",
       "\n",
       "             CT        GA        GC        GG        GT        TA        TC  \\\n",
       "0     -1.995072  0.627916 -1.334353  0.155050  1.397497  0.534537 -0.681886   \n",
       "1      0.114514 -1.028308  0.254049  0.824241 -0.247580 -0.000189 -0.299354   \n",
       "2     -2.025999  1.707454 -0.339651  1.728564  0.720671 -0.716850 -0.778281   \n",
       "3     -2.421931  1.493693  0.124486  0.813607  2.395393 -0.586251 -0.770821   \n",
       "4     -0.730495 -0.517248  2.146672  1.588106 -0.738897 -1.242115 -0.449474   \n",
       "...         ...       ...       ...       ...       ...       ...       ...   \n",
       "30285 -2.576919 -1.076636 -1.356709 -1.395530  2.516665  2.464470 -2.474676   \n",
       "30286 -0.288501  0.671909 -0.369324  0.124156 -0.486250 -0.373969  0.075279   \n",
       "30287 -0.621376  0.962984  0.199256  2.723256 -0.430919  0.102037 -0.486458   \n",
       "30288 -0.041988  0.123398 -0.182738  0.190474 -0.182406 -0.483583  0.261818   \n",
       "30289  0.601025  0.752489  0.977688  1.091500 -0.233440 -0.997770 -0.331539   \n",
       "\n",
       "             TG        TT  \n",
       "0     -0.123262  1.587485  \n",
       "1     -0.566364 -0.851934  \n",
       "2     -0.978183 -1.060748  \n",
       "3      0.325547 -0.020991  \n",
       "4     -1.541550 -1.206168  \n",
       "...         ...       ...  \n",
       "30285  1.238035  2.329350  \n",
       "30286 -0.128220  0.956217  \n",
       "30287 -1.904974 -1.037355  \n",
       "30288 -0.005944 -0.116536  \n",
       "30289  0.423017 -0.478078  \n",
       "\n",
       "[30290 rows x 16 columns]"
      ]
     },
     "execution_count": 2,
     "metadata": {},
     "output_type": "execute_result"
    }
   ],
   "source": [
    "# Normalize by row sum. \n",
    "# Effectively convert k-mer counts to k-mer frequencies.\n",
    "X_norm=X_train.div(X_train.sum(axis=1), axis=0)\n",
    "# Feature Scaling by column.\n",
    "from sklearn.preprocessing import StandardScaler\n",
    "scaler=StandardScaler()\n",
    "scaled = scaler.fit_transform(X_norm)\n",
    "X_scaled = pd.DataFrame(scaled,columns=X_train.columns)\n",
    "X_train = X_scaled\n",
    "X_scaled = None\n",
    "X_norm = None\n",
    "X_train"
   ]
  },
  {
   "cell_type": "code",
   "execution_count": 3,
   "metadata": {},
   "outputs": [
    {
     "data": {
      "text/plain": [
       "0.6930670188180917"
      ]
     },
     "execution_count": 3,
     "metadata": {},
     "output_type": "execute_result"
    }
   ],
   "source": [
    "from sklearn.model_selection import cross_val_score\n",
    "from sklearn.metrics import accuracy_score\n",
    "from sklearn.linear_model import LogisticRegression\n",
    "split=20000\n",
    "\n",
    "lr = LogisticRegression()\n",
    "lr.fit( X_train, np.ravel(y_train) )\n",
    "y_pred=lr.predict(X_train)\n",
    "lr.score(X_train,y_train) # test set == train set i.e. best case scenario"
   ]
  },
  {
   "cell_type": "code",
   "execution_count": 4,
   "metadata": {},
   "outputs": [],
   "source": [
    "lr.fit( X_train[:split], np.ravel(y_train[:split]) )\n",
    "y_pred=lr.predict(X_train[split:])\n",
    "lr_score=lr.score(X_train[split:],y_train[split:]) # train on 2/3, test on 1/3"
   ]
  },
  {
   "cell_type": "code",
   "execution_count": 5,
   "metadata": {},
   "outputs": [],
   "source": [
    "from sklearn.linear_model import SGDClassifier\n",
    "sgd = SGDClassifier()\n",
    "sgd.fit( X_train[:split], np.ravel(y_train[:split]) )\n",
    "y_pred=sgd.predict(X_train[split:])\n",
    "sgd_score=sgd.score(X_train[split:],y_train[split:]) # train on 2/3, test on 1/3"
   ]
  },
  {
   "cell_type": "code",
   "execution_count": 6,
   "metadata": {},
   "outputs": [],
   "source": [
    "from sklearn.svm import SVC\n",
    "svc = SVC()\n",
    "svc.fit( X_train[:split], np.ravel(y_train[:split]) )\n",
    "y_pred=svc.predict(X_train[split:])\n",
    "svc_score=svc.score(X_train[split:],y_train[split:]) # train on 2/3, test on 1/3"
   ]
  },
  {
   "cell_type": "code",
   "execution_count": 7,
   "metadata": {},
   "outputs": [],
   "source": [
    "from sklearn.ensemble import RandomForestClassifier\n",
    "rfc = RandomForestClassifier()\n",
    "rfc.fit( X_train[:split], np.ravel(y_train[:split]) )\n",
    "y_pred=rfc.predict(X_train[split:])\n",
    "rfc_score=rfc.score(X_train[split:],y_train[split:]) # train on 2/3, test on 1/3"
   ]
  },
  {
   "cell_type": "code",
   "execution_count": 8,
   "metadata": {},
   "outputs": [
    {
     "name": "stdout",
     "output_type": "stream",
     "text": [
      "  0.689699 LogisticRegression\n",
      "  0.689504 StochasticGradientDescent\n",
      "  0.779592 SupportVectorMachine\n",
      "  0.768707 RandomForestClassifier\n"
     ]
    }
   ],
   "source": [
    "print(\"%10f %s\"%(lr_score, 'LogisticRegression'))\n",
    "print(\"%10f %s\"%(sgd_score,'StochasticGradientDescent'))\n",
    "print(\"%10f %s\"%(svc_score,'SupportVectorMachine'))\n",
    "print(\"%10f %s\"%(rfc_score,'RandomForestClassifier'))"
   ]
  },
  {
   "cell_type": "raw",
   "metadata": {},
   "source": [
    "Results on just 2-mers\n",
    "\n",
    "  0.689699 LogisticRegression\n",
    "  0.676774 StochasticGradientDescent\n",
    "  0.779592 SupportVectorMachine\n",
    "  0.768124 RandomForestClassifier"
   ]
  },
  {
   "cell_type": "code",
   "execution_count": 9,
   "metadata": {},
   "outputs": [
    {
     "data": {
      "text/plain": [
       "RandomForestRegressor(bootstrap=False, max_features=6, n_estimators=30)"
      ]
     },
     "execution_count": 9,
     "metadata": {},
     "output_type": "execute_result"
    }
   ],
   "source": [
    "# Explore parameters for RF and SVM\n",
    "from sklearn.model_selection import GridSearchCV\n",
    "# Explore hyper parameters for Random Forest\n",
    "from sklearn.ensemble import RandomForestRegressor\n",
    "Rmodel = RandomForestRegressor()\n",
    "parameter_grid = [\n",
    "    {'bootstrap':[True],  'n_estimators':[3,10,30], 'max_features':[2,4,6,8]},\n",
    "    {'bootstrap':[False], 'n_estimators':[3,10,30], 'max_features':[2,4,6,8]}\n",
    "]\n",
    "grid_search = GridSearchCV(Rmodel,\n",
    "                          parameter_grid,\n",
    "                          cv=5, \n",
    "                          scoring='neg_mean_squared_error',\n",
    "                          return_train_score=True)\n",
    "grid_search.fit( X_train, np.ravel(y_train) ) # long time!\n",
    "# grid_search.cv_results_   # big array\n",
    "# These desribes the best so far.\n",
    "# Indicates bootstrap=false n_estimators=30 and max_features=6\n",
    "grid_search.best_estimator_ \n",
    "# RandomForestRegressor(bootstrap=False, max_features=6, n_estimators=30)"
   ]
  },
  {
   "cell_type": "code",
   "execution_count": 11,
   "metadata": {},
   "outputs": [
    {
     "data": {
      "text/plain": [
       "RandomForestRegressor(bootstrap=False, max_features=5, n_estimators=45)"
      ]
     },
     "execution_count": 11,
     "metadata": {},
     "output_type": "execute_result"
    }
   ],
   "source": [
    "parameter_grid = [\n",
    "    {'bootstrap':[False], 'n_estimators':[20,30,40], 'max_features':[5,6,7]},\n",
    "    {'bootstrap':[False], 'n_estimators':[25,35,45], 'max_features':[5,6,7]}\n",
    "]\n",
    "grid_search = GridSearchCV(Rmodel,\n",
    "                          parameter_grid,\n",
    "                          cv=5, \n",
    "                          scoring='neg_mean_squared_error',\n",
    "                          return_train_score=True)\n",
    "grid_search.fit( X_train, np.ravel(y_train) ) # long time!\n",
    "grid_search.best_estimator_ \n",
    "# RandomForestRegressor(bootstrap=False, max_features=5, n_estimators=45)"
   ]
  },
  {
   "cell_type": "code",
   "execution_count": 12,
   "metadata": {},
   "outputs": [
    {
     "data": {
      "text/plain": [
       "RandomForestRegressor(bootstrap=False, max_features=5, n_estimators=75)"
      ]
     },
     "execution_count": 12,
     "metadata": {},
     "output_type": "execute_result"
    }
   ],
   "source": [
    "Rmodel = RandomForestRegressor(max_features=5)\n",
    "parameter_grid = [\n",
    "    {'bootstrap':[True], 'n_estimators':[45,60,75]} ,\n",
    "    {'bootstrap':[False], 'n_estimators':[45,60,75]}\n",
    "]\n",
    "grid_search = GridSearchCV(Rmodel,\n",
    "                          parameter_grid,\n",
    "                          cv=5, \n",
    "                          scoring='neg_mean_squared_error',\n",
    "                          return_train_score=True)\n",
    "grid_search.fit( X_train, np.ravel(y_train) ) # long time!\n",
    "grid_search.best_estimator_ \n",
    "# RandomForestRegressor(bootstrap=False, max_features=5, n_estimators=75)"
   ]
  },
  {
   "cell_type": "code",
   "execution_count": 14,
   "metadata": {},
   "outputs": [
    {
     "data": {
      "text/plain": [
       "RandomForestRegressor(bootstrap=False, max_features=5, n_estimators=125)"
      ]
     },
     "execution_count": 14,
     "metadata": {},
     "output_type": "execute_result"
    }
   ],
   "source": [
    "parameter_grid = [\n",
    "    {'bootstrap':[True], 'n_estimators':[75,100,125]},\n",
    "    {'bootstrap':[False], 'n_estimators':[75,100,125]}\n",
    "]\n",
    "grid_search = GridSearchCV(Rmodel,\n",
    "                          parameter_grid,\n",
    "                          cv=5, \n",
    "                          scoring='neg_mean_squared_error',\n",
    "                          return_train_score=True)\n",
    "grid_search.fit( X_train, np.ravel(y_train) ) # long time!\n",
    "grid_search.best_estimator_ "
   ]
  },
  {
   "cell_type": "code",
   "execution_count": 15,
   "metadata": {},
   "outputs": [
    {
     "data": {
      "text/plain": [
       "RandomForestRegressor(bootstrap=False, max_features=5, n_estimators=375)"
      ]
     },
     "execution_count": 15,
     "metadata": {},
     "output_type": "execute_result"
    }
   ],
   "source": [
    "Rmodel = RandomForestRegressor(max_features=5,bootstrap=False)\n",
    "parameter_grid = [\n",
    "    {'n_estimators':[125,250,375]},\n",
    "    {'n_estimators':[200,300,400]}\n",
    "]\n",
    "grid_search = GridSearchCV(Rmodel,\n",
    "                          parameter_grid,\n",
    "                          cv=5, \n",
    "                          scoring='neg_mean_squared_error',\n",
    "                          return_train_score=True)\n",
    "grid_search.fit( X_train, np.ravel(y_train) ) # long time!\n",
    "grid_search.best_estimator_ \n",
    "# RandomForestRegressor(bootstrap=False, max_features=5, n_estimators=375)"
   ]
  },
  {
   "cell_type": "code",
   "execution_count": 18,
   "metadata": {},
   "outputs": [
    {
     "name": "stdout",
     "output_type": "stream",
     "text": [
      "  0.768707 RandomForestClassifier\n"
     ]
    }
   ],
   "source": [
    "rfc = RandomForestClassifier(bootstrap=False, max_features=5, n_estimators=375)\n",
    "rfc.fit( X_train[:split], np.ravel(y_train[:split]) )\n",
    "y_pred=rfc.predict(X_train[split:])\n",
    "rfc_score=rfc.score(X_train[split:],y_train[split:]) # train on 2/3, test on 1/3\n",
    "print(\"%10f %s\"%(rfc_score,'RandomForestClassifier'))"
   ]
  },
  {
   "cell_type": "raw",
   "metadata": {},
   "source": [
    "All that work for little gain!\n",
    "0.768124 RandomForestClassifier defaults\n",
    "0.769582 RandomForestClassifier optimized"
   ]
  },
  {
   "cell_type": "code",
   "execution_count": null,
   "metadata": {},
   "outputs": [],
   "source": []
  }
 ],
 "metadata": {
  "kernelspec": {
   "display_name": "Python 3",
   "language": "python",
   "name": "python3"
  },
  "language_info": {
   "codemirror_mode": {
    "name": "ipython",
    "version": 3
   },
   "file_extension": ".py",
   "mimetype": "text/x-python",
   "name": "python",
   "nbconvert_exporter": "python",
   "pygments_lexer": "ipython3",
   "version": "3.8.3"
  }
 },
 "nbformat": 4,
 "nbformat_minor": 2
}
