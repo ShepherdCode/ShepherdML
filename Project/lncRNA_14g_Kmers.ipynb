{
 "cells": [
  {
   "cell_type": "markdown",
   "metadata": {
    "colab_type": "text",
    "id": "vFXUwj5sKlBa"
   },
   "source": [
    "# RNN on RNA K-mers\n",
    "\n",
    "Extract every K-mer for K=3.\n",
    "Apply one-hot encoding.\n",
    "Convert to ragged tensors.\n",
    "Train with 3-deep RNN.\n",
    "\n",
    "Previous runs exhausted RAM.\n",
    "This version trains the same model additively on small batches of data."
   ]
  },
  {
   "cell_type": "code",
   "execution_count": 1,
   "metadata": {
    "colab": {},
    "colab_type": "code",
    "id": "BF0oFz5oKlBj"
   },
   "outputs": [],
   "source": [
    "import numpy as np\n",
    "import pandas as pd\n",
    "import matplotlib.pyplot as plt\n",
    "from sklearn.preprocessing import OneHotEncoder\n",
    "from sklearn.model_selection import StratifiedShuffleSplit\n",
    "from sklearn.model_selection import ShuffleSplit\n",
    "from datetime import datetime\n",
    "\n",
    "import tensorflow as tf\n",
    "from tensorflow import keras\n",
    "tf.keras.backend.set_floatx('float32')  # save RAM"
   ]
  },
  {
   "cell_type": "code",
   "execution_count": 2,
   "metadata": {
    "colab": {},
    "colab_type": "code",
    "id": "V-2yAOndKlCE"
   },
   "outputs": [
    {
     "name": "stdout",
     "output_type": "stream",
     "text": [
      "Build the model\n",
      "Build the training environment\n",
      "Model: \"sequential\"\n",
      "_________________________________________________________________\n",
      "Layer (type)                 Output Shape              Param #   \n",
      "=================================================================\n",
      "simple_rnn (SimpleRNN)       (None, None, 64)          8256      \n",
      "_________________________________________________________________\n",
      "simple_rnn_1 (SimpleRNN)     (None, None, 64)          8256      \n",
      "_________________________________________________________________\n",
      "simple_rnn_2 (SimpleRNN)     (None, None, 64)          8256      \n",
      "_________________________________________________________________\n",
      "simple_rnn_3 (SimpleRNN)     (None, 1)                 66        \n",
      "=================================================================\n",
      "Total params: 24,834\n",
      "Trainable params: 24,834\n",
      "Non-trainable params: 0\n",
      "_________________________________________________________________\n"
     ]
    }
   ],
   "source": [
    "K=3   # K-mer length = word length\n",
    "\n",
    "def showtime():\n",
    "    now=datetime.now()\n",
    "    current=now.strftime(\"%H:%M:%S\")\n",
    "    print(\"Time=\",current)\n",
    "\n",
    "showtime()\n",
    "print(\"Build the model\")\n",
    "seq_len=None  # none indicates variable length\n",
    "input_features=4**K   # 64 DNA K-mers at K=3\n",
    "rnn2 = keras.models.Sequential([\n",
    "    keras.layers.SimpleRNN(64, return_sequences=True, input_shape=[seq_len,input_features]),\n",
    "    keras.layers.SimpleRNN(64, return_sequences=True),\n",
    "    keras.layers.SimpleRNN(64, return_sequences=True),\n",
    "    keras.layers.SimpleRNN(1),\n",
    "])\n",
    "\n",
    "showtime()\n",
    "print(\"Build the training environment\")\n",
    "bc=tf.keras.losses.BinaryCrossentropy(from_logits=False)\n",
    "rnn2.compile(loss=bc, optimizer=\"Adam\",metrics=[\"accuracy\"])\n",
    "rnn2.summary()"
   ]
  },
  {
   "cell_type": "code",
   "execution_count": 3,
   "metadata": {
    "colab": {
     "base_uri": "https://localhost:8080/",
     "height": 697
    },
    "colab_type": "code",
    "id": "SHgYYvUPKlBt",
    "outputId": "a1728f02-612d-4f95-b630-02571f7f9b61"
   },
   "outputs": [
    {
     "name": "stdout",
     "output_type": "stream",
     "text": [
      "Load ncRNA.fasta\n",
      "Encoder categories\n",
      "[array(['AAA', 'AAC', 'AAG', 'AAT', 'ACA', 'ACC', 'ACG', 'ACT', 'AGA',\n",
      "       'AGC', 'AGG', 'AGT', 'ATA', 'ATC', 'ATG', 'ATT', 'CAA', 'CAC',\n",
      "       'CAG', 'CAT', 'CCA', 'CCC', 'CCG', 'CCT', 'CGA', 'CGC', 'CGG',\n",
      "       'CGT', 'CTA', 'CTC', 'CTG', 'CTT', 'GAA', 'GAC', 'GAG', 'GAT',\n",
      "       'GCA', 'GCC', 'GCG', 'GCT', 'GGA', 'GGC', 'GGG', 'GGT', 'GTA',\n",
      "       'GTC', 'GTG', 'GTT', 'TAA', 'TAC', 'TAG', 'TAT', 'TCA', 'TCC',\n",
      "       'TCG', 'TCT', 'TGA', 'TGC', 'TGG', 'TGT', 'TTA', 'TTC', 'TTG',\n",
      "       'TTT'], dtype='<U3')]\n"
     ]
    }
   ],
   "source": [
    "MIN_SEQ_LEN=200   ### by definition, lncRNA have min len 200\n",
    "#MIN_SEQ_LEN=1000  ### we use this to reduce training RAM and CPU\n",
    "MAX_SEQ_LEN=25000 ### this screens 4 outliers in the complete dataset\n",
    "#MAX_SEQ_LEN=2000  ### we use this to reduce training RAM and CPU\n",
    "DEFLINE='>'\n",
    "ncfile='ncRNA.fasta' \n",
    "pcfile='pcRNA.fasta' \n",
    "#ncfile='tiny.ncRNA.fasta' # 10 seqs for faster debugging\n",
    "#pcfile='tiny.pcRNA.fasta' # 10 seqs for faster debugging\n",
    "\n",
    "#from google.colab import drive\n",
    "#drive.mount('/content/drive', force_remount=True)\n",
    "## !ls drive/'My Drive'/'Colab Notebooks'/*\n",
    "#ncfile='drive/My Drive/Colab Notebooks/ncRNA.fasta'\n",
    "#pcfile='drive/My Drive/Colab Notebooks/pcRNA.fasta'\n",
    "\n",
    "# Assume file was preprocessed to contain one line per seq.\n",
    "# Returned structure is ndarray of ndarray i.e no python lists inside.\n",
    "def load_fasta(filename,min_len,max_len):\n",
    "    seqs=[]\n",
    "    with open (filename,'r') as infile:\n",
    "        for line in infile:\n",
    "            if line[0]!=DEFLINE and len(line)>min_len and len(line)<=max_len:\n",
    "                line=line.rstrip()\n",
    "                linelen=len(line)\n",
    "                kmers=[]\n",
    "                for i in range(linelen-K+1): # e.g. k=3,|line=4| => range=2 so i={0,1}\n",
    "                    kmer=line[i:i+K]\n",
    "                    kmers.append(kmer)\n",
    "                kmers=np.array(kmers)\n",
    "                seqs.append(kmers.reshape(-1, 1)) # reshaped changes (any,) to (any,1)\n",
    "    nparray=np.array(seqs)\n",
    "    return nparray\n",
    "\n",
    "showtime()\n",
    "print(\"Load \"+ncfile)\n",
    "nc_seqs = load_fasta(ncfile,MIN_SEQ_LEN,MAX_SEQ_LEN)\n",
    "encoder = OneHotEncoder(handle_unknown='ignore',sparse=False)\n",
    "#seq=tf.reshape(nc_seqs[0],shape=(-1, 1)) # tensor flow version\n",
    "seq=nc_seqs[0].reshape(-1, 1)\n",
    "encoder.fit(seq)\n",
    "print(\"Encoder categories\")\n",
    "print(str(encoder.categories_))\n",
    "nc_seqs = None\n",
    "seq=None"
   ]
  },
  {
   "cell_type": "markdown",
   "metadata": {},
   "source": [
    "## Loop: additively train the model in small batches."
   ]
  },
  {
   "cell_type": "code",
   "execution_count": 4,
   "metadata": {},
   "outputs": [
    {
     "name": "stdout",
     "output_type": "stream",
     "text": [
      "Epoch 0\n",
      "Batch 0\n",
      "Batch of RNA lengths 0 to 1000\n",
      "Load ncRNA.fasta\n",
      "Load pcRNA.fasta\n",
      "Ecode the non-coding sequences\n",
      "nc shape: (11415,)\n",
      "Encode the protein-coding sequences\n",
      "pc shape: (7270,)\n",
      "shape of sequences, shape of labels\n",
      "shape of train\n",
      "(14948,) (14948,)\n",
      "shape of test\n",
      "(3737,) (3737,)\n",
      "Convert numpy array to python 3D array\n",
      "Partition = 11958\n",
      "Partition train/validation\n",
      "Lengths of train,valid\n",
      "(11958, 2990)\n",
      "Free memory.\n",
      "Convert to tensors\n",
      "<class 'tensorflow.python.ops.ragged.ragged_tensor.RaggedTensor'>\n",
      "(11958, None, None)\n",
      "<class 'tensorflow.python.framework.ops.EagerTensor'>\n",
      "(11958,)\n",
      "<class 'tensorflow.python.ops.ragged.ragged_tensor.RaggedTensor'>\n",
      "(2990, None, None)\n",
      "<class 'tensorflow.python.framework.ops.EagerTensor'>\n",
      "(2990,)\n",
      "Train the model\n",
      "374/374 [==============================] - 497s 1s/step - loss: 3.1799 - accuracy: 0.5370 - val_loss: 2.0506 - val_accuracy: 0.5448\n",
      "Visualize training history.\n"
     ]
    },
    {
     "data": {
      "image/png": "[encoded data removed]",
      "text/plain": [
       "<Figure size 576x360 with 1 Axes>"
      ]
     },
     "metadata": {
      "needs_background": "light"
     },
     "output_type": "display_data"
    },
    {
     "name": "stdout",
     "output_type": "stream",
     "text": [
      "Batch 1\n",
      "Batch of RNA lengths 1000 to 2000\n",
      "Load ncRNA.fasta\n",
      "Load pcRNA.fasta\n",
      "Ecode the non-coding sequences\n",
      "nc shape: (3758,)\n",
      "Encode the protein-coding sequences\n"
     ]
    },
    {
     "ename": "KeyboardInterrupt",
     "evalue": "",
     "output_type": "error",
     "traceback": [
      "\u001b[0;31m---------------------------------------------------------------------------\u001b[0m",
      "\u001b[0;31mKeyboardInterrupt\u001b[0m                         Traceback (most recent call last)",
      "\u001b[0;32m<ipython-input-4-b75102f9ab2e>\u001b[0m in \u001b[0;36m<module>\u001b[0;34m\u001b[0m\n\u001b[1;32m     29\u001b[0m         \u001b[0mpc_list\u001b[0m\u001b[0;34m=\u001b[0m\u001b[0;34m[\u001b[0m\u001b[0;34m]\u001b[0m\u001b[0;34m\u001b[0m\u001b[0;34m\u001b[0m\u001b[0m\n\u001b[1;32m     30\u001b[0m         \u001b[0;32mfor\u001b[0m \u001b[0mseq\u001b[0m \u001b[0;32min\u001b[0m \u001b[0mpc_seqs\u001b[0m\u001b[0;34m:\u001b[0m\u001b[0;34m\u001b[0m\u001b[0;34m\u001b[0m\u001b[0m\n\u001b[0;32m---> 31\u001b[0;31m             \u001b[0mencoded\u001b[0m\u001b[0;34m=\u001b[0m\u001b[0mencoder\u001b[0m\u001b[0;34m.\u001b[0m\u001b[0mtransform\u001b[0m\u001b[0;34m(\u001b[0m\u001b[0mseq\u001b[0m\u001b[0;34m)\u001b[0m\u001b[0;34m\u001b[0m\u001b[0;34m\u001b[0m\u001b[0m\n\u001b[0m\u001b[1;32m     32\u001b[0m             \u001b[0mpc_list\u001b[0m\u001b[0;34m.\u001b[0m\u001b[0mappend\u001b[0m\u001b[0;34m(\u001b[0m\u001b[0mencoded\u001b[0m\u001b[0;34m)\u001b[0m\u001b[0;34m\u001b[0m\u001b[0;34m\u001b[0m\u001b[0m\n\u001b[1;32m     33\u001b[0m \u001b[0;34m\u001b[0m\u001b[0m\n",
      "\u001b[0;32m~/Library/Python/3.7/lib/python/site-packages/sklearn/preprocessing/_encoders.py\u001b[0m in \u001b[0;36mtransform\u001b[0;34m(self, X)\u001b[0m\n\u001b[1;32m    467\u001b[0m                                 dtype=self.dtype)\n\u001b[1;32m    468\u001b[0m         \u001b[0;32mif\u001b[0m \u001b[0;32mnot\u001b[0m \u001b[0mself\u001b[0m\u001b[0;34m.\u001b[0m\u001b[0msparse\u001b[0m\u001b[0;34m:\u001b[0m\u001b[0;34m\u001b[0m\u001b[0;34m\u001b[0m\u001b[0m\n\u001b[0;32m--> 469\u001b[0;31m             \u001b[0;32mreturn\u001b[0m \u001b[0mout\u001b[0m\u001b[0;34m.\u001b[0m\u001b[0mtoarray\u001b[0m\u001b[0;34m(\u001b[0m\u001b[0;34m)\u001b[0m\u001b[0;34m\u001b[0m\u001b[0;34m\u001b[0m\u001b[0m\n\u001b[0m\u001b[1;32m    470\u001b[0m         \u001b[0;32melse\u001b[0m\u001b[0;34m:\u001b[0m\u001b[0;34m\u001b[0m\u001b[0;34m\u001b[0m\u001b[0m\n\u001b[1;32m    471\u001b[0m             \u001b[0;32mreturn\u001b[0m \u001b[0mout\u001b[0m\u001b[0;34m\u001b[0m\u001b[0;34m\u001b[0m\u001b[0m\n",
      "\u001b[0;32m~/Library/Python/3.7/lib/python/site-packages/scipy/sparse/compressed.py\u001b[0m in \u001b[0;36mtoarray\u001b[0;34m(self, order, out)\u001b[0m\n\u001b[1;32m   1034\u001b[0m             \u001b[0my\u001b[0m \u001b[0;34m=\u001b[0m \u001b[0mout\u001b[0m\u001b[0;34m.\u001b[0m\u001b[0mT\u001b[0m\u001b[0;34m\u001b[0m\u001b[0;34m\u001b[0m\u001b[0m\n\u001b[1;32m   1035\u001b[0m         \u001b[0mM\u001b[0m\u001b[0;34m,\u001b[0m \u001b[0mN\u001b[0m \u001b[0;34m=\u001b[0m \u001b[0mx\u001b[0m\u001b[0;34m.\u001b[0m\u001b[0m_swap\u001b[0m\u001b[0;34m(\u001b[0m\u001b[0mx\u001b[0m\u001b[0;34m.\u001b[0m\u001b[0mshape\u001b[0m\u001b[0;34m)\u001b[0m\u001b[0;34m\u001b[0m\u001b[0;34m\u001b[0m\u001b[0m\n\u001b[0;32m-> 1036\u001b[0;31m         \u001b[0mcsr_todense\u001b[0m\u001b[0;34m(\u001b[0m\u001b[0mM\u001b[0m\u001b[0;34m,\u001b[0m \u001b[0mN\u001b[0m\u001b[0;34m,\u001b[0m \u001b[0mx\u001b[0m\u001b[0;34m.\u001b[0m\u001b[0mindptr\u001b[0m\u001b[0;34m,\u001b[0m \u001b[0mx\u001b[0m\u001b[0;34m.\u001b[0m\u001b[0mindices\u001b[0m\u001b[0;34m,\u001b[0m \u001b[0mx\u001b[0m\u001b[0;34m.\u001b[0m\u001b[0mdata\u001b[0m\u001b[0;34m,\u001b[0m \u001b[0my\u001b[0m\u001b[0;34m)\u001b[0m\u001b[0;34m\u001b[0m\u001b[0;34m\u001b[0m\u001b[0m\n\u001b[0m\u001b[1;32m   1037\u001b[0m         \u001b[0;32mreturn\u001b[0m \u001b[0mout\u001b[0m\u001b[0;34m\u001b[0m\u001b[0;34m\u001b[0m\u001b[0m\n\u001b[1;32m   1038\u001b[0m \u001b[0;34m\u001b[0m\u001b[0m\n",
      "\u001b[0;31mKeyboardInterrupt\u001b[0m: "
     ]
    }
   ],
   "source": [
    "EPOCHS=5\n",
    "BATCHES=6\n",
    "# batch max: 1K, 2K, 4K, 8K, 16K, 32K\n",
    "for epoch in range(EPOCHS):\n",
    "    print(\"Epoch %d\"%epoch)\n",
    "    batch_max = 0\n",
    "    for batch in range(BATCHES):\n",
    "        showtime()\n",
    "        print (\"Batch %d\"%batch)\n",
    "        batch_min = batch_max\n",
    "        batch_max = 1000 * (2**batch)\n",
    "        print(\"Batch of RNA lengths %d to %d\"%(batch_min,batch_max))\n",
    "        \n",
    "        print(\"Load \"+ncfile)\n",
    "        nc_seqs = load_fasta(ncfile,batch_min,batch_max)\n",
    "        print(\"Load \"+pcfile)\n",
    "        pc_seqs = load_fasta(pcfile,batch_min,batch_max)\n",
    "\n",
    "        print(\"Ecode the non-coding sequences\")\n",
    "        nc_list=[]\n",
    "        for seq in nc_seqs:\n",
    "            encoded=encoder.transform(seq)  \n",
    "            nc_list.append(encoded)\n",
    "\n",
    "        nc_len=len(nc_list)\n",
    "        nc_all=np.array(nc_list) # .reshape(-1,1)\n",
    "        print(\"nc shape: \"+str(nc_all.shape))\n",
    "\n",
    "        print(\"Encode the protein-coding sequences\")\n",
    "        pc_list=[]\n",
    "        for seq in pc_seqs:\n",
    "            encoded=encoder.transform(seq)\n",
    "            pc_list.append(encoded)\n",
    "\n",
    "        pc_len=len(pc_list)\n",
    "        pc_all=np.array(pc_list) # .reshape(-1,1)\n",
    "        print(\"pc shape: \"+str(pc_all.shape))\n",
    "        \n",
    "        nc_labels=np.zeros(shape=(nc_len))\n",
    "        pc_labels=np.ones(shape=(pc_len))\n",
    "        all_seqs=np.concatenate((nc_all,pc_all),axis=0)\n",
    "        all_labels=np.concatenate((nc_labels,pc_labels),axis=0)\n",
    "\n",
    "        print(\"shape of sequences, shape of labels\")\n",
    "        all_seqs.shape,all_labels.shape\n",
    "\n",
    "        splitter = ShuffleSplit(n_splits=1, test_size=0.2, random_state=37863)\n",
    "        for train_index,test_index in splitter.split(all_seqs):\n",
    "            train_seqs =   all_seqs[train_index]\n",
    "            train_labels = all_labels[train_index]\n",
    "            test_seqs =    all_seqs[test_index]\n",
    "            test_labels =  all_labels[test_index]\n",
    "\n",
    "        print(\"shape of train\")\n",
    "        print(train_seqs.shape,train_labels.shape)\n",
    "        print(\"shape of test\")\n",
    "        print(test_seqs.shape,test_labels.shape)\n",
    "\n",
    "        print(\"Convert numpy array to python 3D array\")\n",
    "        def numpy_to_python_3D(np_seqs):\n",
    "            one_set = []\n",
    "            tlen = len(np_seqs)\n",
    "            for i in range(tlen): # for every sequence in set\n",
    "                one_seq = []\n",
    "                slen = len(np_seqs[i])\n",
    "                for j in range(slen): # for ever letter in sequence\n",
    "                    one_letter=np_seqs[i][j]\n",
    "                    one_seq.append(one_letter)\n",
    "                one_set.append(one_seq)\n",
    "            return one_set\n",
    "        train_seqs = numpy_to_python_3D(train_seqs)\n",
    "        test_seqs = numpy_to_python_3D(test_seqs)\n",
    "        train_labels = train_labels.tolist()\n",
    "        test_labels = test_labels.tolist()\n",
    "\n",
    "        # Now that values are shuffled, partition gives random sample.\n",
    "        data_size=len(train_seqs)\n",
    "        PARTITION=int(data_size*0.8)\n",
    "        print(\"Partition = \"+str(PARTITION))\n",
    "\n",
    "        print(\"Partition train/validation\")\n",
    "        X_train=train_seqs[:PARTITION]\n",
    "        X_valid=train_seqs[PARTITION:]\n",
    "        y_train=train_labels[:PARTITION]\n",
    "        y_valid=train_labels[PARTITION:]\n",
    "        print(\"Lengths of train,valid\")\n",
    "        print((len(X_train),len(X_valid)))\n",
    "\n",
    "        print(\"Free memory.\")\n",
    "        nc_list=None\n",
    "        pc_list=None\n",
    "        nc_all=None\n",
    "        pc_all=None\n",
    "        nc_seqs=None\n",
    "        pc_seqs=None\n",
    "        all_seqs=None\n",
    "        nc_labels=None\n",
    "        pc_labels=None\n",
    "        train_seqs=None\n",
    "        train_labels=None\n",
    "\n",
    "        showtime()\n",
    "        print(\"Convert to tensors\")\n",
    "        tensor = tf.ragged.constant(X_train)\n",
    "        X_train = tensor\n",
    "        tensor=None\n",
    "        print(type(X_train))\n",
    "        print(X_train.shape)\n",
    "        tensor = tf.convert_to_tensor(y_train)\n",
    "        y_train = tensor\n",
    "        tensor=None\n",
    "        print(type(y_train))\n",
    "        print(y_train.shape)\n",
    "        tensor = tf.ragged.constant(X_valid)\n",
    "        X_valid=tensor\n",
    "        tensor=None\n",
    "        print(type(X_valid))\n",
    "        print(X_valid.shape)\n",
    "        tensor = tf.convert_to_tensor(y_valid)\n",
    "        y_valid = tensor\n",
    "        tensor=None\n",
    "        print(type(y_valid))\n",
    "        print(y_valid.shape)\n",
    "        \n",
    "        showtime()\n",
    "        print(\"Resume training the model\")\n",
    "        history = rnn2.fit(X_train,y_train,epochs=1,\n",
    "                           validation_data=(X_valid,y_valid))"
   ]
  },
  {
   "cell_type": "code",
   "execution_count": null,
   "metadata": {
    "colab": {},
    "colab_type": "code",
    "id": "IBoVjg06KlCJ"
   },
   "outputs": [],
   "source": [
    "# Loss 3.7 to 3.2, accuracy .5 to .53"
   ]
  },
  {
   "cell_type": "code",
   "execution_count": null,
   "metadata": {
    "colab": {},
    "colab_type": "code",
    "id": "sGVmufeoKlCM"
   },
   "outputs": [],
   "source": []
  },
  {
   "cell_type": "markdown",
   "metadata": {
    "colab_type": "text",
    "id": "quH4crn8KlCR"
   },
   "source": [
    "Resources.\n",
    "[Working with RNNs](https://keras.io/guides/working_with_rnns/).\n",
    "[Recurrent Neural Networks with Keras](https://www.tensorflow.org/guide/keras/rnn#rnns_with_listdict_inputs_or_nested_inputs).\n",
    "Function tf.convert_to_tensor [docs](https://www.tensorflow.org/api_docs/python/tf/convert_to_tensor).\n",
    "Function tf.reshape [docs](https://www.tensorflow.org/api_docs/python/tf/reshape).\n",
    "Ragged Tensors [tutorial](https://www.tensorflow.org/guide/tensor#ragged_tensors)\n",
    "and [docs](https://www.tensorflow.org/api_docs/python/tf/RaggedTensor#documenting_raggedtensor_shapes_2) and [module](https://www.tensorflow.org/api_docs/python/tf/ragged).\n",
    "Incredible speedup for convert to tensor by sirfz on [stackoverflow](https://stackoverflow.com/questions/44353509/tensorflow-tf-constant-initializer-is-very-slow).\n",
    "\n",
    "\n"
   ]
  },
  {
   "cell_type": "code",
   "execution_count": null,
   "metadata": {
    "colab": {},
    "colab_type": "code",
    "id": "1QeTNy7HKlCT"
   },
   "outputs": [],
   "source": []
  }
 ],
 "metadata": {
  "colab": {
   "name": "lncRNA_14_Kmers.ipynb",
   "provenance": []
  },
  "kernelspec": {
   "display_name": "Python 3",
   "language": "python",
   "name": "python3"
  },
  "language_info": {
   "codemirror_mode": {
    "name": "ipython",
    "version": 3
   },
   "file_extension": ".py",
   "mimetype": "text/x-python",
   "name": "python",
   "nbconvert_exporter": "python",
   "pygments_lexer": "ipython3",
   "version": "3.7.3"
  }
 },
 "nbformat": 4,
 "nbformat_minor": 1
}
