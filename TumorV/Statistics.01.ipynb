{
 "cells": [
  {
   "cell_type": "markdown",
   "metadata": {},
   "source": [
    "# Statistics"
   ]
  },
  {
   "cell_type": "code",
   "execution_count": 1,
   "metadata": {},
   "outputs": [
    {
     "name": "stdout",
     "output_type": "stream",
     "text": [
      "2022-08-02 14:54:42.355225\n"
     ]
    }
   ],
   "source": [
    "import datetime\n",
    "print(datetime.datetime.now())\n",
    "import numpy as np\n",
    "import pandas as pd\n",
    "import matplotlib.pyplot as plt\n",
    "from sklearn.model_selection import StratifiedKFold\n",
    "import csv\n",
    "import os"
   ]
  },
  {
   "cell_type": "code",
   "execution_count": 2,
   "metadata": {},
   "outputs": [],
   "source": [
    "LABFILE='/home/jrm/Adjeroh/Glioma/August_Run/TrainValidSplits/aug_case_labels.csv'\n",
    "SPLITFILE='/home/jrm/Adjeroh/Glioma/August_Run/TrainValidSplits/aug_train_valid_splits.csv'\n",
    "DATA_DIR='/home/jrm/Adjeroh/Glioma/August_Run/CellProfilerPerPatient/'\n",
    "FILENAME='Process100_Image.csv'"
   ]
  },
  {
   "cell_type": "code",
   "execution_count": 3,
   "metadata": {},
   "outputs": [
    {
     "data": {
      "text/html": [
       "<div>\n",
       "<style scoped>\n",
       "    .dataframe tbody tr th:only-of-type {\n",
       "        vertical-align: middle;\n",
       "    }\n",
       "\n",
       "    .dataframe tbody tr th {\n",
       "        vertical-align: top;\n",
       "    }\n",
       "\n",
       "    .dataframe thead th {\n",
       "        text-align: right;\n",
       "    }\n",
       "</style>\n",
       "<table border=\"1\" class=\"dataframe\">\n",
       "  <thead>\n",
       "    <tr style=\"text-align: right;\">\n",
       "      <th></th>\n",
       "      <th>Case</th>\n",
       "      <th>Class</th>\n",
       "    </tr>\n",
       "  </thead>\n",
       "  <tbody>\n",
       "    <tr>\n",
       "      <th>0</th>\n",
       "      <td>TCGA-02-0004-01Z-00</td>\n",
       "      <td>0</td>\n",
       "    </tr>\n",
       "    <tr>\n",
       "      <th>1</th>\n",
       "      <td>TCGA-02-0010-01Z-00</td>\n",
       "      <td>0</td>\n",
       "    </tr>\n",
       "    <tr>\n",
       "      <th>2</th>\n",
       "      <td>TCGA-14-0789-01Z-00</td>\n",
       "      <td>0</td>\n",
       "    </tr>\n",
       "    <tr>\n",
       "      <th>3</th>\n",
       "      <td>TCGA-02-0025-01Z-00</td>\n",
       "      <td>0</td>\n",
       "    </tr>\n",
       "    <tr>\n",
       "      <th>4</th>\n",
       "      <td>TCGA-02-0033-01Z-00</td>\n",
       "      <td>0</td>\n",
       "    </tr>\n",
       "    <tr>\n",
       "      <th>...</th>\n",
       "      <td>...</td>\n",
       "      <td>...</td>\n",
       "    </tr>\n",
       "    <tr>\n",
       "      <th>122</th>\n",
       "      <td>TCGA-S9-A6U1-01Z-00</td>\n",
       "      <td>4</td>\n",
       "    </tr>\n",
       "    <tr>\n",
       "      <th>123</th>\n",
       "      <td>TCGA-DB-A4XG-01Z-00</td>\n",
       "      <td>5</td>\n",
       "    </tr>\n",
       "    <tr>\n",
       "      <th>124</th>\n",
       "      <td>TCGA-HT-A5R9-01Z-00</td>\n",
       "      <td>5</td>\n",
       "    </tr>\n",
       "    <tr>\n",
       "      <th>125</th>\n",
       "      <td>TCGA-QH-A6CU-01Z-00</td>\n",
       "      <td>5</td>\n",
       "    </tr>\n",
       "    <tr>\n",
       "      <th>126</th>\n",
       "      <td>TCGA-DH-A66G-01Z-00</td>\n",
       "      <td>5</td>\n",
       "    </tr>\n",
       "  </tbody>\n",
       "</table>\n",
       "<p>127 rows × 2 columns</p>\n",
       "</div>"
      ],
      "text/plain": [
       "                    Case  Class\n",
       "0    TCGA-02-0004-01Z-00      0\n",
       "1    TCGA-02-0010-01Z-00      0\n",
       "2    TCGA-14-0789-01Z-00      0\n",
       "3    TCGA-02-0025-01Z-00      0\n",
       "4    TCGA-02-0033-01Z-00      0\n",
       "..                   ...    ...\n",
       "122  TCGA-S9-A6U1-01Z-00      4\n",
       "123  TCGA-DB-A4XG-01Z-00      5\n",
       "124  TCGA-HT-A5R9-01Z-00      5\n",
       "125  TCGA-QH-A6CU-01Z-00      5\n",
       "126  TCGA-DH-A66G-01Z-00      5\n",
       "\n",
       "[127 rows x 2 columns]"
      ]
     },
     "execution_count": 3,
     "metadata": {},
     "output_type": "execute_result"
    }
   ],
   "source": [
    "cases = pd.read_csv(LABFILE,names=['Case','Class'])\n",
    "cases"
   ]
  },
  {
   "cell_type": "code",
   "execution_count": 5,
   "metadata": {},
   "outputs": [
    {
     "name": "stdout",
     "output_type": "stream",
     "text": [
      "[46 21 17 15 15 13]\n"
     ]
    }
   ],
   "source": [
    "case_to_class = {}\n",
    "cases_per_class = np.zeros(6,dtype=int)\n",
    "for ndx,row in cases.iterrows():\n",
    "    case = row['Case']\n",
    "    cls = row['Class']\n",
    "    case_to_class[case] = cls \n",
    "    cases_per_class[cls] = cases_per_class[cls]+1 \n",
    "print(cases_per_class)"
   ]
  },
  {
   "cell_type": "code",
   "execution_count": 8,
   "metadata": {},
   "outputs": [
    {
     "name": "stdout",
     "output_type": "stream",
     "text": [
      "...............................................................................................................................\n",
      "Total patches: 90948\n",
      "[44966 12902 13950  6727  6410  5993]\n"
     ]
    }
   ],
   "source": [
    "patches_per_class = np.zeros(6,dtype=int)\n",
    "total_patches = 0\n",
    "for case,cls in case_to_class.items():\n",
    "    print('.',end='')\n",
    "    directory = case + '/'\n",
    "    fullpath = DATA_DIR + directory + FILENAME\n",
    "    df = pd.read_csv(fullpath)\n",
    "    num_patches = len(df)\n",
    "    cls = case_to_class[case]\n",
    "    patches_per_class[cls] = patches_per_class[cls] + num_patches\n",
    "    total_patches += num_patches\n",
    "print('\\nTotal patches:',total_patches)\n",
    "print(patches_per_class)\n",
    "# [44966 12902 13950  6727  6410  5993]"
   ]
  },
  {
   "cell_type": "code",
   "execution_count": 9,
   "metadata": {},
   "outputs": [
    {
     "name": "stdout",
     "output_type": "stream",
     "text": [
      "Best strategy = always guess major class 0.\n",
      "Accuracy = majority_size/total =  44966 / 90948 = 49.441439064080576\n"
     ]
    }
   ],
   "source": [
    "print('Best strategy = always guess major class 0.')\n",
    "print('Accuracy = majority_size/total = ',patches_per_class[0],'/',total_patches,'=',\n",
    "     100. * patches_per_class[0] / total_patches)"
   ]
  },
  {
   "cell_type": "code",
   "execution_count": 11,
   "metadata": {},
   "outputs": [
    {
     "name": "stdout",
     "output_type": "stream",
     "text": [
      "Frequentist strategy = guess each class in proportion to its size.\n",
      "Accuracy = [sum (prob class * prob being right)/ total patches] = \n",
      "+ 0.24444558967271923+ 0.02012462371958696+ 0.023526759284326744+ 0.005470871940442775+ 0.004967407089581819+ 0.004342124275212724/ 90948 = 3.330225799158533e-06\n"
     ]
    }
   ],
   "source": [
    "print('Frequentist strategy = guess each class in proportion to its size.')\n",
    "print('Accuracy = [sum (prob class * prob being right)/ total patches] = ')\n",
    "numerator = 0\n",
    "for cls in range(6):\n",
    "    prob_class = patches_per_class[cls] / total_patches\n",
    "    term = prob_class**2\n",
    "    print('+',term,end='')\n",
    "    numerator += term\n",
    "print('/',total_patches,'=',numerator/total_patches)\n"
   ]
  },
  {
   "cell_type": "code",
   "execution_count": null,
   "metadata": {},
   "outputs": [],
   "source": []
  }
 ],
 "metadata": {
  "kernelspec": {
   "display_name": "Python 3",
   "language": "python",
   "name": "python3"
  },
  "language_info": {
   "codemirror_mode": {
    "name": "ipython",
    "version": 3
   },
   "file_extension": ".py",
   "mimetype": "text/x-python",
   "name": "python",
   "nbconvert_exporter": "python",
   "pygments_lexer": "ipython3",
   "version": "3.8.10"
  }
 },
 "nbformat": 4,
 "nbformat_minor": 4
}
