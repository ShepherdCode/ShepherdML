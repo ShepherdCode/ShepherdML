{
 "cells": [
  {
   "cell_type": "markdown",
   "metadata": {},
   "source": [
    "# Attention"
   ]
  },
  {
   "cell_type": "code",
   "execution_count": 10,
   "metadata": {},
   "outputs": [
    {
     "name": "stdout",
     "output_type": "stream",
     "text": [
      "2022-08-10 08:56:00.978112\n"
     ]
    }
   ],
   "source": [
    "import numpy as np\n",
    "import pandas as pd\n",
    "import os\n",
    "from datetime import datetime\n",
    "print(datetime.now())"
   ]
  },
  {
   "cell_type": "code",
   "execution_count": 17,
   "metadata": {},
   "outputs": [],
   "source": [
    "BASE_PATH='/home/jrm/Adjeroh/Glioma/August_Run/CellProfilerPerPatient/'\n",
    "ATTENTION_DIR='/home/jrm/Adjeroh/Glioma/August_Run/Attention/'\n",
    "FILENAMES=[\n",
    "'Process100_Image.csv',\n",
    "'Process100_Cells.csv',\n",
    "'Process100_ExpandCells.csv',\n",
    "'Process100_Experiment.csv',\n",
    "'Process100_MergeRBC.csv',\n",
    "'Process100_Nucleus.csv',\n",
    "'Process100_RBC.csv',\n",
    "'Process100_ShrinkRBC.csv',\n",
    "'Process100_Tissue.csv']\n",
    "IMAGE_FILE=FILENAMES[0]\n",
    "TRACKING_FILE='PatchTracking.csv'\n",
    "IMAGE_COL='ImageNumber'\n",
    "TUMOR_COL='FileName_Tumor'   # use this column to disambiguate patients\n",
    "# Patch filename format: TCGA-06-0129-01Z-00-DX1_5400_5100.png\n",
    "# For WSI ID, use first 23 letters.\n",
    "# For patient or case ID, use first 19 letters. \n",
    "LEN_CASE_ID=19\n",
    "LEN_WSI_ID=23"
   ]
  },
  {
   "cell_type": "code",
   "execution_count": 18,
   "metadata": {},
   "outputs": [],
   "source": [
    "# For convenience, add a column containing patient ID.\n",
    "def add_patient_column(df):\n",
    "    patient_column = df[TUMOR_COL].astype(str).str[:LEN_CASE_ID]\n",
    "    df[PATIENT_COL] = patient_column\n",
    "    return df"
   ]
  },
  {
   "cell_type": "code",
   "execution_count": 19,
   "metadata": {},
   "outputs": [
    {
     "data": {
      "text/html": [
       "<div>\n",
       "<style scoped>\n",
       "    .dataframe tbody tr th:only-of-type {\n",
       "        vertical-align: middle;\n",
       "    }\n",
       "\n",
       "    .dataframe tbody tr th {\n",
       "        vertical-align: top;\n",
       "    }\n",
       "\n",
       "    .dataframe thead th {\n",
       "        text-align: right;\n",
       "    }\n",
       "</style>\n",
       "<table border=\"1\" class=\"dataframe\">\n",
       "  <thead>\n",
       "    <tr style=\"text-align: right;\">\n",
       "      <th></th>\n",
       "      <th>patch_filename</th>\n",
       "      <th>orig_directory</th>\n",
       "      <th>orig_imagenum</th>\n",
       "      <th>patient_directory</th>\n",
       "      <th>new_imagenum</th>\n",
       "      <th>Median_Tissue_Granularity_15_Eosin</th>\n",
       "    </tr>\n",
       "  </thead>\n",
       "  <tbody>\n",
       "    <tr>\n",
       "      <th>0</th>\n",
       "      <td>TCGA-02-0004-01Z-00-DX1_10200_24300.png</td>\n",
       "      <td>Output0/</td>\n",
       "      <td>1</td>\n",
       "      <td>TCGA-02-0004-01Z-00</td>\n",
       "      <td>1</td>\n",
       "      <td>1.566388</td>\n",
       "    </tr>\n",
       "    <tr>\n",
       "      <th>1</th>\n",
       "      <td>TCGA-02-0004-01Z-00-DX1_10200_28500.png</td>\n",
       "      <td>Output0/</td>\n",
       "      <td>2</td>\n",
       "      <td>TCGA-02-0004-01Z-00</td>\n",
       "      <td>2</td>\n",
       "      <td>0.000000</td>\n",
       "    </tr>\n",
       "    <tr>\n",
       "      <th>2</th>\n",
       "      <td>TCGA-02-0004-01Z-00-DX1_10200_3900.png</td>\n",
       "      <td>Output0/</td>\n",
       "      <td>3</td>\n",
       "      <td>TCGA-02-0004-01Z-00</td>\n",
       "      <td>3</td>\n",
       "      <td>0.000000</td>\n",
       "    </tr>\n",
       "    <tr>\n",
       "      <th>3</th>\n",
       "      <td>TCGA-02-0004-01Z-00-DX1_10200_4500.png</td>\n",
       "      <td>Output0/</td>\n",
       "      <td>4</td>\n",
       "      <td>TCGA-02-0004-01Z-00</td>\n",
       "      <td>4</td>\n",
       "      <td>0.000000</td>\n",
       "    </tr>\n",
       "    <tr>\n",
       "      <th>4</th>\n",
       "      <td>TCGA-02-0004-01Z-00-DX1_10200_6000.png</td>\n",
       "      <td>Output0/</td>\n",
       "      <td>5</td>\n",
       "      <td>TCGA-02-0004-01Z-00</td>\n",
       "      <td>5</td>\n",
       "      <td>0.000000</td>\n",
       "    </tr>\n",
       "    <tr>\n",
       "      <th>...</th>\n",
       "      <td>...</td>\n",
       "      <td>...</td>\n",
       "      <td>...</td>\n",
       "      <td>...</td>\n",
       "      <td>...</td>\n",
       "      <td>...</td>\n",
       "    </tr>\n",
       "    <tr>\n",
       "      <th>90943</th>\n",
       "      <td>TCGA-S9-A7J3-01Z-00-DX1_9900_41100.png</td>\n",
       "      <td>Output5.1/</td>\n",
       "      <td>4398</td>\n",
       "      <td>TCGA-S9-A7J3-01Z-00</td>\n",
       "      <td>402</td>\n",
       "      <td>1.260145</td>\n",
       "    </tr>\n",
       "    <tr>\n",
       "      <th>90944</th>\n",
       "      <td>TCGA-S9-A7J3-01Z-00-DX1_9900_43200.png</td>\n",
       "      <td>Output5.1/</td>\n",
       "      <td>4399</td>\n",
       "      <td>TCGA-S9-A7J3-01Z-00</td>\n",
       "      <td>403</td>\n",
       "      <td>0.000000</td>\n",
       "    </tr>\n",
       "    <tr>\n",
       "      <th>90945</th>\n",
       "      <td>TCGA-S9-A7J3-01Z-00-DX1_9900_44100.png</td>\n",
       "      <td>Output5.1/</td>\n",
       "      <td>4400</td>\n",
       "      <td>TCGA-S9-A7J3-01Z-00</td>\n",
       "      <td>404</td>\n",
       "      <td>0.000000</td>\n",
       "    </tr>\n",
       "    <tr>\n",
       "      <th>90946</th>\n",
       "      <td>TCGA-S9-A7J3-01Z-00-DX1_9900_45000.png</td>\n",
       "      <td>Output5.1/</td>\n",
       "      <td>4401</td>\n",
       "      <td>TCGA-S9-A7J3-01Z-00</td>\n",
       "      <td>405</td>\n",
       "      <td>4.144091</td>\n",
       "    </tr>\n",
       "    <tr>\n",
       "      <th>90947</th>\n",
       "      <td>TCGA-S9-A7J3-01Z-00-DX1_9900_45600.png</td>\n",
       "      <td>Output5.1/</td>\n",
       "      <td>4402</td>\n",
       "      <td>TCGA-S9-A7J3-01Z-00</td>\n",
       "      <td>406</td>\n",
       "      <td>3.449438</td>\n",
       "    </tr>\n",
       "  </tbody>\n",
       "</table>\n",
       "<p>90948 rows × 6 columns</p>\n",
       "</div>"
      ],
      "text/plain": [
       "                                patch_filename orig_directory  orig_imagenum  \\\n",
       "0      TCGA-02-0004-01Z-00-DX1_10200_24300.png       Output0/              1   \n",
       "1      TCGA-02-0004-01Z-00-DX1_10200_28500.png       Output0/              2   \n",
       "2       TCGA-02-0004-01Z-00-DX1_10200_3900.png       Output0/              3   \n",
       "3       TCGA-02-0004-01Z-00-DX1_10200_4500.png       Output0/              4   \n",
       "4       TCGA-02-0004-01Z-00-DX1_10200_6000.png       Output0/              5   \n",
       "...                                        ...            ...            ...   \n",
       "90943   TCGA-S9-A7J3-01Z-00-DX1_9900_41100.png     Output5.1/           4398   \n",
       "90944   TCGA-S9-A7J3-01Z-00-DX1_9900_43200.png     Output5.1/           4399   \n",
       "90945   TCGA-S9-A7J3-01Z-00-DX1_9900_44100.png     Output5.1/           4400   \n",
       "90946   TCGA-S9-A7J3-01Z-00-DX1_9900_45000.png     Output5.1/           4401   \n",
       "90947   TCGA-S9-A7J3-01Z-00-DX1_9900_45600.png     Output5.1/           4402   \n",
       "\n",
       "         patient_directory  new_imagenum  Median_Tissue_Granularity_15_Eosin  \n",
       "0      TCGA-02-0004-01Z-00             1                            1.566388  \n",
       "1      TCGA-02-0004-01Z-00             2                            0.000000  \n",
       "2      TCGA-02-0004-01Z-00             3                            0.000000  \n",
       "3      TCGA-02-0004-01Z-00             4                            0.000000  \n",
       "4      TCGA-02-0004-01Z-00             5                            0.000000  \n",
       "...                    ...           ...                                 ...  \n",
       "90943  TCGA-S9-A7J3-01Z-00           402                            1.260145  \n",
       "90944  TCGA-S9-A7J3-01Z-00           403                            0.000000  \n",
       "90945  TCGA-S9-A7J3-01Z-00           404                            0.000000  \n",
       "90946  TCGA-S9-A7J3-01Z-00           405                            4.144091  \n",
       "90947  TCGA-S9-A7J3-01Z-00           406                            3.449438  \n",
       "\n",
       "[90948 rows x 6 columns]"
      ]
     },
     "execution_count": 19,
     "metadata": {},
     "output_type": "execute_result"
    }
   ],
   "source": [
    "fullpath = BASE_PATH+TRACKING_FILE\n",
    "tracking_df = pd.read_csv(fullpath)\n",
    "tracking_df"
   ]
  },
  {
   "cell_type": "code",
   "execution_count": 31,
   "metadata": {},
   "outputs": [],
   "source": [
    "def get_stats_df(multiclass,fold,cancer,train):\n",
    "    mb = 'b' # binary\n",
    "    if multiclass:\n",
    "        mb = 'm'  \n",
    "    usage = 'test'   # validation\n",
    "    if train:\n",
    "        usage = 'train'\n",
    "    filename=f\"cp_datasets_{mb}cls_fold{fold}_{usage}_class{cancer}_bbox_stats.csv\"\n",
    "    fullpath = ATTENTION_DIR + filename\n",
    "    df = pd.read_csv(fullpath,skipinitialspace=True)\n",
    "    return df"
   ]
  },
  {
   "cell_type": "code",
   "execution_count": null,
   "metadata": {},
   "outputs": [],
   "source": [
    "def load_X_y(stats_df,)"
   ]
  },
  {
   "cell_type": "code",
   "execution_count": 32,
   "metadata": {},
   "outputs": [],
   "source": [
    "def load_one_experiment(multiclass,fold,cancer):\n",
    "    train_df = get_stats_df(multiclass,fold,cancer,True)\n",
    "    valid_df = get_stats_df(multiclass,fold,cancer,False)\n",
    "    return train_df,valid_df"
   ]
  },
  {
   "cell_type": "code",
   "execution_count": 33,
   "metadata": {},
   "outputs": [
    {
     "name": "stdout",
     "output_type": "stream",
     "text": [
      "Train Valid: (786961, 8) (225072, 8)\n"
     ]
    }
   ],
   "source": [
    "multiclass = True\n",
    "fold = 0\n",
    "cancer = 0\n",
    "train_df,valid_df = load_one_experiment(multiclass,fold,cancer)\n",
    "print('Train Valid:',train_df.shape,valid_df.shape)"
   ]
  },
  {
   "cell_type": "code",
   "execution_count": null,
   "metadata": {},
   "outputs": [],
   "source": []
  }
 ],
 "metadata": {
  "kernelspec": {
   "display_name": "Python 3",
   "language": "python",
   "name": "python3"
  },
  "language_info": {
   "codemirror_mode": {
    "name": "ipython",
    "version": 3
   },
   "file_extension": ".py",
   "mimetype": "text/x-python",
   "name": "python",
   "nbconvert_exporter": "python",
   "pygments_lexer": "ipython3",
   "version": "3.8.10"
  }
 },
 "nbformat": 4,
 "nbformat_minor": 4
}
