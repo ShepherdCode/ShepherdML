{
 "cells": [
  {
   "cell_type": "markdown",
   "metadata": {},
   "source": [
    "# Attention\n",
    "Analyze distribution of attention values.  \n",
    "The average mean temperature of a nucleus is 0.64.   \n",
    "The median mean temperature of a nucleus is 0.71.\n",
    "If the patch-wide mean is 0.50, then nuclei get more attention on average."
   ]
  },
  {
   "cell_type": "code",
   "execution_count": 1,
   "metadata": {},
   "outputs": [
    {
     "name": "stdout",
     "output_type": "stream",
     "text": [
      "2022-08-11 06:17:29.948207\n"
     ]
    }
   ],
   "source": [
    "import numpy as np\n",
    "import pandas as pd\n",
    "import os\n",
    "from datetime import datetime\n",
    "print(datetime.now())"
   ]
  },
  {
   "cell_type": "code",
   "execution_count": 2,
   "metadata": {},
   "outputs": [],
   "source": [
    "BASE_PATH='/home/jrm/Adjeroh/Glioma/August_Run/CellProfilerPerPatient/'\n",
    "FOLDS_META_FILE = 'D:\\\\Adjeroh\\\\Glioma\\\\August_Run\\\\TrainValidSplits\\\\aug_train_valid_splits.csv'  # Windows\n",
    "FOLDS_META_FILE = '/home/jrm/Adjeroh/Glioma/August_Run/TrainValidSplits/aug_train_valid_splits.csv'\n",
    "# Cross validation\n",
    "NUM_FOLDS = 5\n",
    "# Patch filename format: TCGA-06-0129-01Z-00-DX1_5400_5100.png\n",
    "# For WSI ID, use first 23 letters.\n",
    "# For patient or case ID, use first 19 letters. \n",
    "LEN_CASE_ID=19\n",
    "LEN_WSI_ID=23"
   ]
  },
  {
   "cell_type": "code",
   "execution_count": 3,
   "metadata": {},
   "outputs": [],
   "source": [
    "METADATA = pd.read_csv(FOLDS_META_FILE)\n",
    "def get_metadata_one_fold(fold,is_train):\n",
    "    df = METADATA.loc[METADATA['Fold']==fold]\n",
    "    if is_train:\n",
    "        df = df.loc[df['Split']=='Train']\n",
    "    else:\n",
    "        df = df.loc[df['Split']=='Valid']\n",
    "    patients = df['Case'].tolist()\n",
    "    labels = df['Class'].tolist()\n",
    "    return patients,labels"
   ]
  },
  {
   "cell_type": "code",
   "execution_count": 4,
   "metadata": {},
   "outputs": [],
   "source": [
    "def get_patient_attention(fold,is_train,patient):\n",
    "    cls = 'mcls'\n",
    "    filename = f\"Attention_{cls}_fold{fold}.csv\"\n",
    "    filepath = BASE_PATH + patient + '/' + filename\n",
    "    df = pd.read_csv(filepath)\n",
    "    return df"
   ]
  },
  {
   "cell_type": "code",
   "execution_count": 5,
   "metadata": {},
   "outputs": [],
   "source": [
    "# This is a sample 80% of the data\n",
    "fold = 0\n",
    "train = True\n",
    "\n",
    "patients,cancers = get_metadata_one_fold(fold,train)\n",
    "att_df = None\n",
    "for patient in patients:\n",
    "    df = get_patient_attention(fold,train,patient)\n",
    "    if len(df)<1:\n",
    "        raise Exception ('No data for patient '+patient)\n",
    "    if train:\n",
    "        if df.iloc[0]['Usage']!='train' or df['Usage'].nunique()!=1:\n",
    "            raise Exeption ('Expected training data for patient '+patient)\n",
    "    else:\n",
    "        if df.iloc[0]['Usage']!='valid' or df['Usage'].nunique()!=1:\n",
    "            raise Exeption ('Expected validation data for patient '+patient)\n",
    "    bad_cols = ['ImageName','ImageNumber','ObjectNumber','Usage']\n",
    "    df = df.drop(columns=bad_cols)\n",
    "    if att_df is None:\n",
    "        att_df = df\n",
    "    else:\n",
    "        att_df = pd.concat( (att_df,df) )"
   ]
  },
  {
   "cell_type": "code",
   "execution_count": 8,
   "metadata": {},
   "outputs": [
    {
     "data": {
      "text/html": [
       "<div>\n",
       "<style scoped>\n",
       "    .dataframe tbody tr th:only-of-type {\n",
       "        vertical-align: middle;\n",
       "    }\n",
       "\n",
       "    .dataframe tbody tr th {\n",
       "        vertical-align: top;\n",
       "    }\n",
       "\n",
       "    .dataframe thead th {\n",
       "        text-align: right;\n",
       "    }\n",
       "</style>\n",
       "<table border=\"1\" class=\"dataframe\">\n",
       "  <thead>\n",
       "    <tr style=\"text-align: right;\">\n",
       "      <th></th>\n",
       "      <th>MedTemp</th>\n",
       "      <th>AvgTemp</th>\n",
       "      <th>MaxTemp</th>\n",
       "    </tr>\n",
       "  </thead>\n",
       "  <tbody>\n",
       "    <tr>\n",
       "      <th>count</th>\n",
       "      <td>1.482799e+06</td>\n",
       "      <td>1.482799e+06</td>\n",
       "      <td>1.482799e+06</td>\n",
       "    </tr>\n",
       "    <tr>\n",
       "      <th>mean</th>\n",
       "      <td>6.404298e-01</td>\n",
       "      <td>6.408631e-01</td>\n",
       "      <td>7.084842e-01</td>\n",
       "    </tr>\n",
       "    <tr>\n",
       "      <th>std</th>\n",
       "      <td>2.388129e-01</td>\n",
       "      <td>2.362207e-01</td>\n",
       "      <td>2.244737e-01</td>\n",
       "    </tr>\n",
       "    <tr>\n",
       "      <th>min</th>\n",
       "      <td>0.000000e+00</td>\n",
       "      <td>0.000000e+00</td>\n",
       "      <td>0.000000e+00</td>\n",
       "    </tr>\n",
       "    <tr>\n",
       "      <th>0%</th>\n",
       "      <td>0.000000e+00</td>\n",
       "      <td>0.000000e+00</td>\n",
       "      <td>0.000000e+00</td>\n",
       "    </tr>\n",
       "    <tr>\n",
       "      <th>20%</th>\n",
       "      <td>3.995511e-01</td>\n",
       "      <td>4.045955e-01</td>\n",
       "      <td>4.942462e-01</td>\n",
       "    </tr>\n",
       "    <tr>\n",
       "      <th>40%</th>\n",
       "      <td>6.284506e-01</td>\n",
       "      <td>6.282173e-01</td>\n",
       "      <td>7.209109e-01</td>\n",
       "    </tr>\n",
       "    <tr>\n",
       "      <th>50%</th>\n",
       "      <td>7.156081e-01</td>\n",
       "      <td>7.144382e-01</td>\n",
       "      <td>7.837816e-01</td>\n",
       "    </tr>\n",
       "    <tr>\n",
       "      <th>60%</th>\n",
       "      <td>7.731838e-01</td>\n",
       "      <td>7.715611e-01</td>\n",
       "      <td>8.287602e-01</td>\n",
       "    </tr>\n",
       "    <tr>\n",
       "      <th>80%</th>\n",
       "      <td>8.567473e-01</td>\n",
       "      <td>8.548153e-01</td>\n",
       "      <td>8.995662e-01</td>\n",
       "    </tr>\n",
       "    <tr>\n",
       "      <th>100%</th>\n",
       "      <td>1.000000e+00</td>\n",
       "      <td>1.000000e+00</td>\n",
       "      <td>1.000000e+00</td>\n",
       "    </tr>\n",
       "    <tr>\n",
       "      <th>max</th>\n",
       "      <td>1.000000e+00</td>\n",
       "      <td>1.000000e+00</td>\n",
       "      <td>1.000000e+00</td>\n",
       "    </tr>\n",
       "  </tbody>\n",
       "</table>\n",
       "</div>"
      ],
      "text/plain": [
       "            MedTemp       AvgTemp       MaxTemp\n",
       "count  1.482799e+06  1.482799e+06  1.482799e+06\n",
       "mean   6.404298e-01  6.408631e-01  7.084842e-01\n",
       "std    2.388129e-01  2.362207e-01  2.244737e-01\n",
       "min    0.000000e+00  0.000000e+00  0.000000e+00\n",
       "0%     0.000000e+00  0.000000e+00  0.000000e+00\n",
       "20%    3.995511e-01  4.045955e-01  4.942462e-01\n",
       "40%    6.284506e-01  6.282173e-01  7.209109e-01\n",
       "50%    7.156081e-01  7.144382e-01  7.837816e-01\n",
       "60%    7.731838e-01  7.715611e-01  8.287602e-01\n",
       "80%    8.567473e-01  8.548153e-01  8.995662e-01\n",
       "100%   1.000000e+00  1.000000e+00  1.000000e+00\n",
       "max    1.000000e+00  1.000000e+00  1.000000e+00"
      ]
     },
     "execution_count": 8,
     "metadata": {},
     "output_type": "execute_result"
    }
   ],
   "source": [
    "quintiles = [x/5 for x in range(6)]\n",
    "att_df.describe(percentiles=quintiles)"
   ]
  },
  {
   "cell_type": "code",
   "execution_count": 7,
   "metadata": {},
   "outputs": [
    {
     "name": "stdout",
     "output_type": "stream",
     "text": [
      "2022-08-11 06:17:32.164648\n"
     ]
    }
   ],
   "source": [
    "print(datetime.now())"
   ]
  },
  {
   "cell_type": "code",
   "execution_count": null,
   "metadata": {},
   "outputs": [],
   "source": []
  }
 ],
 "metadata": {
  "kernelspec": {
   "display_name": "Python 3",
   "language": "python",
   "name": "python3"
  },
  "language_info": {
   "codemirror_mode": {
    "name": "ipython",
    "version": 3
   },
   "file_extension": ".py",
   "mimetype": "text/x-python",
   "name": "python",
   "nbconvert_exporter": "python",
   "pygments_lexer": "ipython3",
   "version": "3.8.10"
  }
 },
 "nbformat": 4,
 "nbformat_minor": 4
}
