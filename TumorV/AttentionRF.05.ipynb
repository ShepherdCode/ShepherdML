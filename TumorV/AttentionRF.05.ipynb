{
 "cells": [
  {
   "cell_type": "markdown",
   "metadata": {},
   "source": [
    "# Random Forest\n",
    "Predict CNN attention per nucleus.   \n",
    "Accuracy was low with 5 bins across all cancer classes.   \n",
    "Here, try 5 bins but just one cancer class.  "
   ]
  },
  {
   "cell_type": "code",
   "execution_count": 1,
   "metadata": {},
   "outputs": [],
   "source": [
    "MAX_DEPTH = 8\n",
    "N_ESTIMATORS = 500\n",
    "CHOOSE_EVERY = 10\n",
    "SAVE_MEM = True"
   ]
  },
  {
   "cell_type": "code",
   "execution_count": 2,
   "metadata": {},
   "outputs": [
    {
     "name": "stdout",
     "output_type": "stream",
     "text": [
      "2022-08-11 16:46:30.675506\n",
      "Python 3.9.6\n",
      "sklearn 1.1.1\n"
     ]
    }
   ],
   "source": [
    "import datetime\n",
    "print(datetime.datetime.now())\n",
    "from platform import python_version\n",
    "print('Python',python_version())\n",
    "import csv\n",
    "import numpy as np\n",
    "import pandas as pd\n",
    "import matplotlib as plt\n",
    "import random\n",
    "import sklearn   # pip install --upgrade scikit-learn\n",
    "print('sklearn',sklearn.__version__)\n",
    "# The model\n",
    "from sklearn.ensemble import RandomForestClassifier"
   ]
  },
  {
   "cell_type": "code",
   "execution_count": 3,
   "metadata": {},
   "outputs": [],
   "source": [
    "# Patch data.\n",
    "# This is the nucleus-level csv file: one row per nucleus from CellProfiler.\n",
    "FILENAME='Process100_Nucleus.csv'\n",
    "# This directory contains one Nucleus.csv file per patient.\n",
    "BASE_PATH='/home/jrm/Adjeroh/Glioma/August_Run/CellProfilerPerPatient/'  # Alien\n",
    "BASE_PATH='D:\\\\Adjeroh\\\\Glioma\\\\August_Run\\\\CellProfilerPerPatient\\\\'   # Windows\n",
    "\n",
    "# Patient data.\n",
    "# Each patch filename indicates patient/case [0:19] and WSI [0:23].\n",
    "# For example: TCGA-06-0129-01Z-00-DX1_5400_5100.png\n",
    "LEN_PATIENT_ID = 19\n",
    "FOLDS_META_FILE = '/home/jrm/Adjeroh/Glioma/August_Run/TrainValidSplits/aug_train_valid_splits.csv'  # Alien\n",
    "FOLDS_META_FILE = 'D:\\\\Adjeroh\\\\Glioma\\\\August_Run\\\\TrainValidSplits\\\\aug_train_valid_splits.csv'  # Windows\n",
    "# Cross validation\n",
    "NUM_FOLDS = 5\n",
    "\n",
    "# These bin thresholds yield nucleus temperature bins of about equal weight.\n",
    "# See AT_PerPatient 01 notebook.\n",
    "BIN_MAX = [-0.99,0.40,0.65,0.75,0.85,1.00]\n",
    "BIN_LABEL = [1,2,3,4,5]"
   ]
  },
  {
   "cell_type": "code",
   "execution_count": 4,
   "metadata": {},
   "outputs": [
    {
     "data": {
      "text/plain": [
       "array([1, 2, 2, 3, 5, 6], dtype=int64)"
      ]
     },
     "execution_count": 4,
     "metadata": {},
     "output_type": "execute_result"
    }
   ],
   "source": [
    "# Expect all temperatures to fall into bins 1 thru 5.\n",
    "# Bins 0 and 6 should never happen.\n",
    "every_temp = [0.35,0.50,0.60,0.70,0.90,1.10]\n",
    "binned = np.digitize(every_temp,BIN_MAX,right=True)\n",
    "binned"
   ]
  },
  {
   "cell_type": "code",
   "execution_count": 5,
   "metadata": {},
   "outputs": [],
   "source": [
    "# later, try all cancer classes\n",
    "one_cancer_class = 0"
   ]
  },
  {
   "cell_type": "markdown",
   "metadata": {},
   "source": [
    "## Data loading functions"
   ]
  },
  {
   "cell_type": "code",
   "execution_count": 6,
   "metadata": {},
   "outputs": [],
   "source": [
    "METADATA = pd.read_csv(FOLDS_META_FILE)\n",
    "PATIENT_TO_CANCER={}\n",
    "for ndx,row in METADATA.iterrows():\n",
    "    if row['Fold']==0:\n",
    "        patient = row['Case']\n",
    "        cancer = row['Class']\n",
    "        PATIENT_TO_CANCER[patient]=cancer"
   ]
  },
  {
   "cell_type": "code",
   "execution_count": 7,
   "metadata": {},
   "outputs": [],
   "source": [
    "def get_patient_attention(fold,is_train,patient):\n",
    "    cls = 'mcls'\n",
    "    filename = f\"Attention_{cls}_fold{fold}.csv\"\n",
    "    filepath = BASE_PATH + patient + '/' + filename\n",
    "    df = pd.read_csv(filepath)\n",
    "    return df"
   ]
  },
  {
   "cell_type": "code",
   "execution_count": 8,
   "metadata": {},
   "outputs": [],
   "source": [
    "def get_metadata_one_fold(fold,is_train):\n",
    "    df = METADATA.loc[METADATA['Fold']==fold]\n",
    "    if is_train:\n",
    "        df = df.loc[df['Split']=='Train']\n",
    "    else:\n",
    "        df = df.loc[df['Split']=='Valid']\n",
    "    patients = df['Case'].tolist()\n",
    "    labels = df['Class'].tolist()\n",
    "    return patients,labels"
   ]
  },
  {
   "cell_type": "code",
   "execution_count": 9,
   "metadata": {},
   "outputs": [],
   "source": [
    "def drop_columns(df):\n",
    "    bad_cols = ['ImageNumber','ObjectNumber','Number_Object_Number',\n",
    "                'AreaShape_Orientation','Children_Cells_Count']\n",
    "    df = df.drop(columns=bad_cols)\n",
    "    bad_cols = [c for c in df.columns \n",
    "                if c.startswith('Location_') \n",
    "                or c.startswith('AreaShape_BoundingBoxM')\n",
    "                or c.startswith('AreaShape_Center')\n",
    "                or c.startswith('Neighbors_')]\n",
    "    df = df.drop(columns=bad_cols)\n",
    "    return df"
   ]
  },
  {
   "cell_type": "code",
   "execution_count": 10,
   "metadata": {},
   "outputs": [],
   "source": [
    "def load_one_patient_attention(fold,multiclass,patient):\n",
    "    filepath=BASE_PATH+patient+'/'+FILENAME\n",
    "    X = pd.read_csv(filepath)\n",
    "    cls='bcls'\n",
    "    if multiclass:\n",
    "        cls='mcls'\n",
    "    att_filename = f\"Attention_{cls}_fold{fold}.csv\"\n",
    "    att_path = BASE_PATH+patient+'/'+att_filename\n",
    "    att_df = pd.read_csv(att_path)\n",
    "    thermometer = {}\n",
    "    for ndx,row in att_df.iterrows():\n",
    "        key = (row['ImageNumber'],row['ObjectNumber'])\n",
    "        value = row['AvgTemp']\n",
    "        thermometer[key]=value\n",
    "    every_temp = np.zeros(len(X),dtype=float)\n",
    "    i = 0\n",
    "    for ndx,row in X.iterrows():\n",
    "        key = (row['ImageNumber'],row['ObjectNumber'])\n",
    "        value = thermometer[key]\n",
    "        every_temp[i] = value\n",
    "        i += 1\n",
    "    binned = np.digitize(every_temp,BIN_MAX,right=True)\n",
    "    for i in range(len(binned)):\n",
    "        bin_num = binned[i]\n",
    "        if not (bin_num>=1 and bin_num<=5):\n",
    "            print(i,binned[i],every_temp[i],patient)\n",
    "            raise Exception ('Bad bin!')\n",
    "    Y = list(binned) \n",
    "    return X,Y  "
   ]
  },
  {
   "cell_type": "code",
   "execution_count": 11,
   "metadata": {},
   "outputs": [],
   "source": [
    "def load_all_patients_data(fold,patients,save_mem=False):\n",
    "    X = None  # dataframe with 600 feature columns, one row per nucleus\n",
    "    y = None  # list of labels = attention for each row\n",
    "    z = None  # list of patient name for each row\n",
    "    is_multiclass = True\n",
    "    count=0\n",
    "    for patient in patients:\n",
    "        patient_cancer_class = PATIENT_TO_CANCER[patient]\n",
    "        if patient_cancer_class != one_cancer_class:\n",
    "            continue\n",
    "        print('.',end='')\n",
    "        count += 1\n",
    "        directory = patient+'/'\n",
    "        Xall,yall = load_one_patient_attention(fold,is_multiclass,patient)\n",
    "        if (save_mem):\n",
    "            Xi = Xall.iloc[0::CHOOSE_EVERY] # e.g. choose every tenth patch\n",
    "            yi = yall[0::CHOOSE_EVERY].copy()  # e.g. choose every tenth patch\n",
    "        else:\n",
    "            Xi = Xall\n",
    "            yi = yall\n",
    "        zi = [patient]*len(Xi)  # same ID for all patches from one patient\n",
    "        if X is None:\n",
    "            X = Xi\n",
    "            y = yi\n",
    "            z = zi\n",
    "        else:\n",
    "            X = pd.concat( (X, Xi) )\n",
    "            y = np.concatenate( (y, yi) )\n",
    "            z = np.concatenate( (z, zi) )\n",
    "    print()\n",
    "    X = drop_columns(X)\n",
    "    return X,y,z   # nucleus data, nucleus attention bin, patient name"
   ]
  },
  {
   "cell_type": "code",
   "execution_count": 12,
   "metadata": {},
   "outputs": [],
   "source": [
    "# This is slow, probably due to concatenating dataframes.\n",
    "# Consider a rewrite that concatenates csv before constructing a dataframe.\n",
    "def load_train_valid_set(fold):\n",
    "    is_train = True # training set\n",
    "    patients,cancers = get_metadata_one_fold(fold,is_train) \n",
    "    X_train,y_train,z_train = load_all_patients_data(fold,patients,SAVE_MEM) \n",
    "    print('Train lengths X,y,z:',X_train.shape,len(y_train),len(z_train))\n",
    "    is_train = False # validation set\n",
    "    patients,cancers = get_metadata_one_fold(fold,is_train) \n",
    "    X_valid,y_valid,z_valid = load_all_patients_data(fold,patients,SAVE_MEM) # reduces validation size\n",
    "    print('Valid lengths X,y,z:',X_valid.shape,len(y_valid),len(z_valid))\n",
    "    return X_train,y_train,z_train,X_valid,y_valid,z_valid"
   ]
  },
  {
   "cell_type": "markdown",
   "metadata": {},
   "source": [
    "## Aggregation functions"
   ]
  },
  {
   "cell_type": "code",
   "execution_count": 13,
   "metadata": {},
   "outputs": [],
   "source": [
    "# Each patch votes on the class for its WSI.\n",
    "# Later, weight each patch label by the confidence i.e. score\n",
    "def aggregate_accuracy(y_pred,y_valid,z_valid):\n",
    "    L = len(y_pred)\n",
    "    if L != len(y_valid) or L != len(z_valid):\n",
    "        raise Exception('Lengths do not match')\n",
    "    correct = {}\n",
    "    incorrect = {}\n",
    "    patients = np.unique(z_valid)\n",
    "    for patient in patients:\n",
    "        correct[patient]=0  # accumulate correct votes on patches\n",
    "        incorrect[patient]=0  # accumulate incorrect votes\n",
    "    for i in range(L):\n",
    "        patient = z_valid[i]\n",
    "        label =   y_valid[i]\n",
    "        pred =    y_pred[i]\n",
    "        if pred == label:\n",
    "            correct[patient] += 1\n",
    "        else:\n",
    "            incorrect[patient] += 1\n",
    "    numerator = 0\n",
    "    denominator = 0\n",
    "    for patient in patients:\n",
    "        denominator += 1\n",
    "        if correct[patient]>incorrect[patient]:\n",
    "            numerator += 1\n",
    "    accuracy = float(0)\n",
    "    if denominator>0:\n",
    "        accuracy = 100.0*numerator/denominator \n",
    "    return accuracy"
   ]
  },
  {
   "cell_type": "markdown",
   "metadata": {},
   "source": [
    "## Main loop: Load, Classify, Report"
   ]
  },
  {
   "cell_type": "code",
   "execution_count": 14,
   "metadata": {},
   "outputs": [],
   "source": [
    "def important_features(model):\n",
    "    # Prereqs: fit().\n",
    "    names = model.feature_names_in_\n",
    "    importances = model.feature_importances_\n",
    "    pairs = np.column_stack( (names,importances) )\n",
    "    top_array = sorted(pairs, key = lambda e:e[1], reverse=True)\n",
    "    # There must be a way to do this witout a loop!\n",
    "    top_list = []\n",
    "    for i in top_array:\n",
    "         top_list.append((i[1],i[0]))  # 0=feature_name, 1=importance\n",
    "    top_df = pd.DataFrame(top_list)\n",
    "    return top_df"
   ]
  },
  {
   "cell_type": "code",
   "execution_count": null,
   "metadata": {},
   "outputs": [
    {
     "name": "stdout",
     "output_type": "stream",
     "text": [
      "\n",
      "2022-08-11 16:46:32.454818 Fold 0 Loading...\n",
      "....................................\n",
      "Train lengths X,y,z: (78713, 623) 78713 78713\n",
      "..........\n",
      "Valid lengths X,y,z: (22512, 623) 22512 22512\n",
      "2022-08-11 16:49:37.582691 Train...\n",
      "2022-08-11 16:57:31.148226 Ranked feature imporances...\n",
      "           0                                              1\n",
      "0   0.033025  Intensity_IntegratedIntensityEdge_Hematoxylin\n",
      "1   0.025554                      Granularity_1_Hematoxylin\n",
      "2   0.015277        Intensity_MeanIntensityEdge_Hematoxylin\n",
      "3   0.011228              Texture_SumAverage_Eosin_7_02_256\n",
      "4   0.010788    RadialDistribution_FracAtD_Hematoxylin_2of5\n",
      "5   0.010727              Texture_SumAverage_Eosin_7_03_256\n",
      "6   0.010052              Texture_SumAverage_Eosin_4_02_256\n",
      "7   0.009291   Intensity_LowerQuartileIntensity_Hematoxylin\n",
      "8   0.009038              Texture_SumAverage_Eosin_7_01_256\n",
      "9   0.008964              Texture_SumAverage_Eosin_5_01_256\n",
      "10  0.008915              Texture_SumAverage_Eosin_3_03_256\n",
      "2022-08-11 16:57:31.188690 Evaluate...\n",
      "Fold 0 Nucleus-level Training Accuracy: 34.44284933873693\n",
      "2022-08-11 16:57:35.456181 Validate...\n",
      "Fold 0 Nucleus-level Validation Accuracy: 28.45149253731343\n",
      "Fold 0 Patient-level Validation Accuracy: 0.0\n",
      "\n",
      "2022-08-11 16:57:36.616351 Fold 1 Loading...\n",
      ".....................................\n",
      "Train lengths X,y,z: (72744, 623) 72744 72744\n",
      ".........\n",
      "Valid lengths X,y,z: (28481, 623) 28481 28481\n",
      "2022-08-11 17:00:35.626966 Train...\n",
      "2022-08-11 17:07:54.903858 Ranked feature imporances...\n",
      "           0                                              1\n",
      "0   0.028825  Intensity_IntegratedIntensityEdge_Hematoxylin\n",
      "1   0.023738                      Granularity_1_Hematoxylin\n",
      "2   0.013322        Intensity_MeanIntensityEdge_Hematoxylin\n",
      "3   0.010100              Texture_SumAverage_Eosin_7_03_256\n",
      "4   0.010041    RadialDistribution_FracAtD_Hematoxylin_2of5\n",
      "5   0.009207              Texture_SumAverage_Eosin_4_03_256\n",
      "6   0.008895              Texture_SumAverage_Eosin_7_01_256\n",
      "7   0.008259              Texture_SumAverage_Eosin_7_00_256\n",
      "8   0.008215              Texture_SumAverage_Eosin_4_02_256\n",
      "9   0.008199   Intensity_LowerQuartileIntensity_Hematoxylin\n",
      "10  0.007994              Texture_SumAverage_Eosin_3_03_256\n",
      "2022-08-11 17:07:54.934032 Evaluate...\n",
      "Fold 1 Nucleus-level Training Accuracy: 36.793412515121524\n",
      "2022-08-11 17:07:58.932089 Validate...\n",
      "Fold 1 Nucleus-level Validation Accuracy: 31.217302763245673\n",
      "Fold 1 Patient-level Validation Accuracy: 0.0\n",
      "\n",
      "2022-08-11 17:08:00.541217 Fold 2 Loading...\n",
      ".....................................\n",
      "Train lengths X,y,z: (80881, 623) 80881 80881\n",
      ".........\n",
      "Valid lengths X,y,z: (20344, 623) 20344 20344\n",
      "2022-08-11 17:10:57.744050 Train...\n",
      "2022-08-11 17:19:07.180099 Ranked feature imporances...\n",
      "           0                                                  1\n",
      "0   0.032575      Intensity_IntegratedIntensityEdge_Hematoxylin\n",
      "1   0.021027            Intensity_MeanIntensityEdge_Hematoxylin\n",
      "2   0.013954       Intensity_LowerQuartileIntensity_Hematoxylin\n",
      "3   0.010981        RadialDistribution_FracAtD_Hematoxylin_2of5\n",
      "4   0.010311                Intensity_MeanIntensity_Hematoxylin\n",
      "5   0.009995              Intensity_MedianIntensity_Hematoxylin\n",
      "6   0.009578                  Texture_SumAverage_Eosin_3_00_256\n",
      "7   0.009528  RadialDistribution_ZernikeMagnitude_Hematoxyli...\n",
      "8   0.009477            Texture_SumAverage_Hematoxylin_3_00_256\n",
      "9   0.008257                  Texture_SumAverage_Eosin_4_00_256\n",
      "10  0.008205                  Texture_SumAverage_Eosin_5_02_256\n",
      "2022-08-11 17:19:07.220759 Evaluate...\n",
      "Fold 2 Nucleus-level Training Accuracy: 40.649843597383814\n",
      "2022-08-11 17:19:12.071004 Validate...\n",
      "Fold 2 Nucleus-level Validation Accuracy: 38.905819897758555\n",
      "Fold 2 Patient-level Validation Accuracy: 11.11111111111111\n",
      "\n",
      "2022-08-11 17:19:13.300730 Fold 3 Loading...\n",
      ".....................................\n",
      "Train lengths X,y,z: (84155, 623) 84155 84155\n",
      ".........\n",
      "Valid lengths X,y,z: (17070, 623) 17070 17070\n",
      "2022-08-11 17:22:12.120360 Train...\n",
      "2022-08-11 17:30:41.222086 Ranked feature imporances...\n",
      "           0                                                  1\n",
      "0   0.009512            Texture_SumAverage_Hematoxylin_4_01_256\n",
      "1   0.008742            Texture_SumAverage_Hematoxylin_4_02_256\n",
      "2   0.008351            Texture_SumAverage_Hematoxylin_7_02_256\n",
      "3   0.008284            Texture_SumAverage_Hematoxylin_3_03_256\n",
      "4   0.008254  RadialDistribution_ZernikeMagnitude_Hematoxyli...\n",
      "5   0.007988                Intensity_MeanIntensity_Hematoxylin\n",
      "6   0.007867            Texture_SumAverage_Hematoxylin_3_01_256\n",
      "7   0.007862            Texture_SumAverage_Hematoxylin_5_01_256\n",
      "8   0.007569            Texture_SumAverage_Hematoxylin_5_02_256\n",
      "9   0.007150            Texture_SumAverage_Hematoxylin_7_00_256\n",
      "10  0.006912            Texture_SumAverage_Hematoxylin_4_00_256\n",
      "2022-08-11 17:30:41.254675 Evaluate...\n",
      "Fold 3 Nucleus-level Training Accuracy: 48.71605965183293\n",
      "2022-08-11 17:30:45.692323 Validate...\n",
      "Fold 3 Nucleus-level Validation Accuracy: 41.86877562975981\n",
      "Fold 3 Patient-level Validation Accuracy: 0.0\n",
      "\n",
      "2022-08-11 17:30:46.655391 Fold 4 Loading...\n",
      ".....................................\n",
      "Train lengths X,y,z: (88407, 623) 88407 88407\n",
      ".........\n",
      "Valid lengths X,y,z: (12818, 623) 12818 12818\n",
      "2022-08-11 17:33:50.728222 Train...\n"
     ]
    }
   ],
   "source": [
    "patch_accuracies = []   # summary statistics\n",
    "patient_accuracies = [] # summary statistics\n",
    "\n",
    "for fold in range(NUM_FOLDS):\n",
    "    print()\n",
    "    print(datetime.datetime.now(),'Fold',fold,'Loading...')\n",
    "    X_train,y_train,z_train,X_valid,y_valid,z_valid = load_train_valid_set(fold)    \n",
    "\n",
    "    # The shuffle is not strictly necessary with RF.\n",
    "    # CNN models are sensitive to train set order but RF models are not. \n",
    "    # print(datetime.datetime.now(),'Shuffle...')\n",
    "    # X_train,y_train = sklearn.shuffle(X_train,y_train)\n",
    "\n",
    "    print(datetime.datetime.now(),'Train...')\n",
    "    # min_samples_leaf=1 (default) led to overfitting\n",
    "    rfc = RandomForestClassifier(max_depth=MAX_DEPTH,n_estimators=N_ESTIMATORS)\n",
    "    rfc.fit(X_train,y_train)  # slow\n",
    "    \n",
    "    print(datetime.datetime.now(),'Ranked feature imporances...')\n",
    "    top = important_features(rfc)\n",
    "    #pd.set_option('display.max_rows', None)\n",
    "    print(top.loc[:10])\n",
    "    \n",
    "    print(datetime.datetime.now(),'Evaluate...')\n",
    "    y_pred = rfc.predict(X_train)\n",
    "    matches = np.count_nonzero(y_train==y_pred)\n",
    "    accuracy_t = 100.0 * matches / len(y_pred)\n",
    "    print('Fold',fold,'Nucleus-level Training Accuracy:',accuracy_t)\n",
    "    \n",
    "    print(datetime.datetime.now(),'Validate...')\n",
    "    y_pred = rfc.predict(X_valid)\n",
    "    matches = np.count_nonzero(y_valid==y_pred)\n",
    "    accuracy_v = 100.0 * matches / len(y_pred)\n",
    "    print('Fold',fold,'Nucleus-level Validation Accuracy:',accuracy_v)\n",
    "    patch_accuracies.append(accuracy_v)\n",
    "    \n",
    "    accuracy_p = aggregate_accuracy(y_pred,y_valid,z_valid)\n",
    "    patient_accuracies.append(accuracy_p)\n",
    "    print('Fold',fold,'Patient-level Validation Accuracy:',accuracy_p)\n",
    "    \n",
    "    # This shouldn't be necessary but it seems to reduce memory footprint.\n",
    "    X_train=None\n",
    "    X_valid=None\n",
    "    y_train=None\n",
    "    y_valid=None\n",
    "    z_train=None\n",
    "    z_valid=None\n",
    "    y_pred = None\n",
    "    matches = None"
   ]
  },
  {
   "cell_type": "code",
   "execution_count": null,
   "metadata": {},
   "outputs": [],
   "source": [
    "print(datetime.datetime.now())\n",
    "if SAVE_MEM:\n",
    "    print('Sampling every',CHOOSE_EVERY,'th record.')\n",
    "print('Cross validation nucleus-level accuracy:',patch_accuracies)\n",
    "print('mean:',np.mean(patch_accuracies),'pop std:',np.std(patch_accuracies,ddof=1))\n",
    "print('Cross validation patient-level accuracy:',patient_accuracies)\n",
    "print('mean:',np.mean(patient_accuracies),'pop std:',np.std(patient_accuracies,ddof=1))\n"
   ]
  },
  {
   "cell_type": "code",
   "execution_count": null,
   "metadata": {},
   "outputs": [],
   "source": []
  }
 ],
 "metadata": {
  "kernelspec": {
   "display_name": "Python 3 (ipykernel)",
   "language": "python",
   "name": "python3"
  },
  "language_info": {
   "codemirror_mode": {
    "name": "ipython",
    "version": 3
   },
   "file_extension": ".py",
   "mimetype": "text/x-python",
   "name": "python",
   "nbconvert_exporter": "python",
   "pygments_lexer": "ipython3",
   "version": "3.9.6"
  }
 },
 "nbformat": 4,
 "nbformat_minor": 4
}
