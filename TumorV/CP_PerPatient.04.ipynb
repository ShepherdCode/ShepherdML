{
 "cells": [
  {
   "cell_type": "markdown",
   "metadata": {},
   "source": [
    "# Cell Profiler - Per Patient\n",
    "Redistribute rows of Nucleus.csv files into one file per patient.  \n",
    "In preparation for other csv files, store each file in its own directory.  \n",
    "Also, drop the columns that won't be used for classification.  \n",
    "\n",
    "Problem: the raw CellProfiler outputs were organized per run.  \n",
    "Inputs like: Class0/Process100_Nucleus.csv (combines patients of cancer class 0)  \n",
    "Outputs like: TCGA-HT-7482-01Z-00/Process100_Image.csv (specific to one patient)\n",
    "\n",
    "Based on CP_PerPatient.01 which worked out the Image.csv mechanics.   \n",
    "\n",
    "Because the class 0 nucleus file is so large (1 million lines), we avoid reading it into RAM."
   ]
  },
  {
   "cell_type": "code",
   "execution_count": 1,
   "metadata": {},
   "outputs": [
    {
     "name": "stdout",
     "output_type": "stream",
     "text": [
      "2022-08-08 17:26:16.250314\n"
     ]
    }
   ],
   "source": [
    "import numpy as np\n",
    "import pandas as pd\n",
    "import os\n",
    "import csv\n",
    "from datetime import datetime\n",
    "print(datetime.now())"
   ]
  },
  {
   "cell_type": "code",
   "execution_count": 2,
   "metadata": {},
   "outputs": [],
   "source": [
    "BASE_PATH_IN='/home/jrm/Adjeroh/Glioma/August_Run/CellProfilerOutputs/'\n",
    "BASE_PATH_OUT='/home/jrm/Adjeroh/Glioma/August_Run/CellProfilerPerPatient/'\n",
    "TRACKING_FILE=BASE_PATH_OUT+'PatchTracking.csv'\n",
    "INPUT_DIRS=[\n",
    "'Output5/',\n",
    "'Output5.1/',\n",
    "'Output4/',\n",
    "'Output4.1/',\n",
    "'Output3/',\n",
    "'Output3.1/',\n",
    "'Output2/',\n",
    "'Output1/',\n",
    "'Output0/'\n",
    "]\n",
    "FILENAMES=[\n",
    "'Process100_Image.csv',\n",
    "'Process100_Cells.csv',\n",
    "'Process100_ExpandCells.csv',\n",
    "'Process100_Experiment.csv',\n",
    "'Process100_MergeRBC.csv',\n",
    "'Process100_Nucleus.csv',\n",
    "'Process100_RBC.csv',\n",
    "'Process100_ShrinkRBC.csv',\n",
    "'Process100_Tissue.csv']\n",
    "IMAGE_FILE=FILENAMES[0]\n",
    "NUCLEUS_FILE=FILENAMES[5]\n",
    "IMAGE_COL='ImageNumber'\n",
    "TUMOR_COL='FileName_Tumor'   # use this column to disambiguate patients\n",
    "PATIENT_COL='Patient'        # add this column to emphasize patient ID\n",
    "# Patch filename format: TCGA-06-0129-01Z-00-DX1_5400_5100.png\n",
    "# For WSI ID, use first 23 letters.\n",
    "# For patient or case ID, use first 19 letters. \n",
    "LEN_CASE_ID=19\n",
    "LEN_WSI_ID=23"
   ]
  },
  {
   "cell_type": "code",
   "execution_count": 3,
   "metadata": {},
   "outputs": [],
   "source": [
    "TEST = BASE_PATH_IN + INPUT_DIRS[0] + NUCLEUS_FILE\n",
    "df = pd.read_csv(TEST)\n",
    "bad_cols=['Children_Cells_Count',\n",
    "          'Number_Object_Number','ImageNumber','ObjectNumber']\n",
    "loc_cols=[c for c in df.columns if c.startswith('Location_')\n",
    "          or c.startswith('AreaShape_BoundingBoxM')\n",
    "          or c.startswith('AreaShape_Center')]\n",
    "#for c in df.columns:\n",
    "#    print(c)"
   ]
  },
  {
   "cell_type": "code",
   "execution_count": 4,
   "metadata": {},
   "outputs": [],
   "source": [
    "def load_imagenum_converter():\n",
    "    df = pd.read_csv(TRACKING_FILE)\n",
    "    converter={}\n",
    "    for ndx,data in df.iterrows():\n",
    "        patient=data['patient_directory']\n",
    "        orig_directory=data['orig_directory']\n",
    "        orig_imagenum=int(data['orig_imagenum'])\n",
    "        new_imagenum=int(data['new_imagenum'])\n",
    "        key = (orig_directory,orig_imagenum)\n",
    "        val = (patient,new_imagenum)\n",
    "        converter[key] = val\n",
    "    return converter"
   ]
  },
  {
   "cell_type": "code",
   "execution_count": 5,
   "metadata": {},
   "outputs": [],
   "source": [
    "def save_patient(patient,list_of_dict):\n",
    "    if patient is not None:\n",
    "        df = pd.DataFrame(list_of_dict)\n",
    "        filename = BASE_PATH_OUT + patient + '/' + NUCLEUS_FILE\n",
    "        #print('Save',filename)\n",
    "        df.to_csv(filename,index=False,na_rep='nan')"
   ]
  },
  {
   "cell_type": "code",
   "execution_count": 6,
   "metadata": {},
   "outputs": [
    {
     "name": "stdout",
     "output_type": "stream",
     "text": [
      "2022-08-08 17:26:20.062469\n",
      "Load image number conversions\n",
      "2022-08-08 17:26:22.755962\n",
      "Processing /home/jrm/Adjeroh/Glioma/August_Run/CellProfilerOutputs/Output5/Process100_Nucleus.csv\n",
      "2022-08-08 17:26:40.078701\n",
      "Processing /home/jrm/Adjeroh/Glioma/August_Run/CellProfilerOutputs/Output5.1/Process100_Nucleus.csv\n",
      "2022-08-08 17:27:05.019565\n",
      "Processing /home/jrm/Adjeroh/Glioma/August_Run/CellProfilerOutputs/Output4/Process100_Nucleus.csv\n",
      "2022-08-08 17:27:19.621458\n",
      "Processing /home/jrm/Adjeroh/Glioma/August_Run/CellProfilerOutputs/Output4.1/Process100_Nucleus.csv\n",
      "2022-08-08 17:27:34.388216\n",
      "Processing /home/jrm/Adjeroh/Glioma/August_Run/CellProfilerOutputs/Output3/Process100_Nucleus.csv\n",
      "2022-08-08 17:28:05.699884\n",
      "Processing /home/jrm/Adjeroh/Glioma/August_Run/CellProfilerOutputs/Output3.1/Process100_Nucleus.csv\n",
      "2022-08-08 17:28:08.033707\n",
      "Processing /home/jrm/Adjeroh/Glioma/August_Run/CellProfilerOutputs/Output2/Process100_Nucleus.csv\n",
      "2022-08-08 17:29:31.035642\n",
      "Processing /home/jrm/Adjeroh/Glioma/August_Run/CellProfilerOutputs/Output1/Process100_Nucleus.csv\n",
      "2022-08-08 17:30:48.204646\n",
      "Processing /home/jrm/Adjeroh/Glioma/August_Run/CellProfilerOutputs/Output0/Process100_Nucleus.csv\n",
      "Saved 127 patients\n"
     ]
    }
   ],
   "source": [
    "print(datetime.now())\n",
    "print('Load image number conversions')\n",
    "converter = load_imagenum_converter()\n",
    "patients_processed = []\n",
    "for orig_directory in INPUT_DIRS:\n",
    "    filename = BASE_PATH_IN + orig_directory + NUCLEUS_FILE\n",
    "    print(datetime.now())\n",
    "    print('Processing',filename)\n",
    "    with open(filename,'r') as infile:\n",
    "        patient = None\n",
    "        patient_rows = []\n",
    "        prev_patient = None\n",
    "        reader = csv.DictReader(infile)\n",
    "        for row in reader:\n",
    "            orig_imagenum = int(row[IMAGE_COL])\n",
    "            key = (orig_directory,orig_imagenum)\n",
    "            (patient,new_imagenum) = converter[key]\n",
    "            if patient != prev_patient:\n",
    "                save_patient(prev_patient,patient_rows)\n",
    "                prev_patient = patient\n",
    "                patient_rows = []\n",
    "                if patient in patients_processed:\n",
    "                    raise Exception(patient+' seen twice')\n",
    "                patients_processed.append(patient)\n",
    "            row[IMAGE_COL] = new_imagenum\n",
    "            patient_rows.append(row)\n",
    "        save_patient(patient,patient_rows)  # special case: last patient per file\n",
    "print('Saved',len(patients_processed),'patients')    "
   ]
  },
  {
   "cell_type": "code",
   "execution_count": 7,
   "metadata": {},
   "outputs": [
    {
     "name": "stdout",
     "output_type": "stream",
     "text": [
      "2022-08-08 17:36:04.778355\n"
     ]
    }
   ],
   "source": [
    "print(datetime.now())\n"
   ]
  },
  {
   "cell_type": "code",
   "execution_count": null,
   "metadata": {},
   "outputs": [],
   "source": []
  }
 ],
 "metadata": {
  "kernelspec": {
   "display_name": "Python 3",
   "language": "python",
   "name": "python3"
  },
  "language_info": {
   "codemirror_mode": {
    "name": "ipython",
    "version": 3
   },
   "file_extension": ".py",
   "mimetype": "text/x-python",
   "name": "python",
   "nbconvert_exporter": "python",
   "pygments_lexer": "ipython3",
   "version": "3.8.10"
  }
 },
 "nbformat": 4,
 "nbformat_minor": 4
}
