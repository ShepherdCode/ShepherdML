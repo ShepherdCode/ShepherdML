{
 "cells": [
  {
   "cell_type": "markdown",
   "metadata": {},
   "source": [
    "# Cell Profiler - Per Patient\n",
    "Nucleus rollup per patch."
   ]
  },
  {
   "cell_type": "code",
   "execution_count": 1,
   "metadata": {},
   "outputs": [
    {
     "name": "stdout",
     "output_type": "stream",
     "text": [
      "2022-08-09 14:22:34.368361\n"
     ]
    }
   ],
   "source": [
    "import numpy as np\n",
    "import pandas as pd\n",
    "import os\n",
    "import csv\n",
    "from datetime import datetime\n",
    "print(datetime.now())"
   ]
  },
  {
   "cell_type": "code",
   "execution_count": 2,
   "metadata": {},
   "outputs": [],
   "source": [
    "BASE_PATH='/home/jrm/Adjeroh/Glioma/August_Run/CellProfilerPerPatient/'\n",
    "NUCLEUS_INPUT='Process100_Nucleus.csv'\n",
    "NUCLEUS_OUTPUT='NucleusToPatchRollup.csv'\n",
    "IMAGE_COL='ImageNumber'"
   ]
  },
  {
   "cell_type": "code",
   "execution_count": 3,
   "metadata": {},
   "outputs": [],
   "source": [
    "def save_patient(patient,df):\n",
    "    if patient is not None:\n",
    "        filename = BASE_PATH + patient + '/' + NUCLEUS_OUTPUT\n",
    "        #print('Save',filename)\n",
    "        #df = pd.DataFrame(one_row_as_dict)\n",
    "        #df = df.replace('nan',np.nan)\n",
    "        df.to_csv(filename)  # Now ImageNumber is the index. Do not say index=False! "
   ]
  },
  {
   "cell_type": "code",
   "execution_count": 4,
   "metadata": {},
   "outputs": [],
   "source": [
    "def drop_columns(df):\n",
    "    cols = df.columns\n",
    "    # For patch-level rollup, need to leave column ImageNumber\n",
    "    bad_cols=[c for c in cols if c in\n",
    "              ['Children_Cells_Count','Number_Object_Number','ObjectNumber']]\n",
    "    # These fields specify the nucleus location relative to the patch, which is irrelevant.\n",
    "    loc_cols=[c for c in cols \n",
    "              if c.startswith('Location_')\n",
    "              or c.startswith('AreaShape_BoundingBoxM')\n",
    "              or c.startswith('AreaShape_Center')]\n",
    "    df = df.drop(columns=bad_cols)\n",
    "    df = df.drop(columns=loc_cols)\n",
    "    return df"
   ]
  },
  {
   "cell_type": "code",
   "execution_count": 5,
   "metadata": {},
   "outputs": [],
   "source": [
    "def rollup(df):\n",
    "    rollup = df.groupby([IMAGE_COL]).describe(include=[np.number]) ## this is slow: 3min/patient\n",
    "    rollup.columns=rollup.columns.map('_'.join)  ## helps random forest code\n",
    "    return rollup"
   ]
  },
  {
   "cell_type": "code",
   "execution_count": null,
   "metadata": {},
   "outputs": [
    {
     "name": "stdout",
     "output_type": "stream",
     "text": [
      "2022-08-09 14:22:34.383219\n",
      "2022-08-09 14:22:34.383547\n",
      "Processing TCGA-HT-7483-01Z-00\n",
      "Shape initial, reduced, described: (26625, 650) (26625, 632) (1267, 5048)\n",
      "2022-08-09 14:32:26.696166\n",
      "Processing TCGA-02-0025-01Z-00\n",
      "Shape initial, reduced, described: (18540, 650) (18540, 632) (790, 5048)\n",
      "2022-08-09 14:38:24.457012\n",
      "Processing TCGA-DH-A66B-01Z-00\n",
      "Shape initial, reduced, described: (7156, 650) (7156, 632) (391, 5048)\n",
      "2022-08-09 14:41:19.333973\n",
      "Processing TCGA-08-0517-01Z-00\n",
      "Shape initial, reduced, described: (11552, 650) (11552, 632) (392, 5048)\n",
      "2022-08-09 14:44:11.823609\n",
      "Processing TCGA-26-5139-01Z-00\n",
      "Shape initial, reduced, described: (8843, 650) (8843, 632) (402, 5048)\n",
      "2022-08-09 14:47:04.696106\n",
      "Processing TCGA-S9-A6WE-01Z-00\n",
      "Shape initial, reduced, described: (2800, 650) (2800, 632) (405, 5048)\n",
      "2022-08-09 14:49:59.822498\n",
      "Processing TCGA-S9-A6U1-01Z-00\n",
      "Shape initial, reduced, described: (2956, 650) (2956, 632) (399, 5048)\n",
      "2022-08-09 14:53:05.602127\n",
      "Processing TCGA-DH-A66G-01Z-00\n",
      "Shape initial, reduced, described: (8661, 650) (8661, 632) (377, 5048)\n",
      "2022-08-09 14:56:04.378933\n",
      "Processing TCGA-S9-A7IZ-01Z-00\n",
      "Shape initial, reduced, described: (4762, 650) (4762, 632) (399, 5048)\n",
      "2022-08-09 14:59:05.679156\n",
      "Processing TCGA-15-1446-01Z-00\n",
      "Shape initial, reduced, described: (24420, 650) (24420, 632) (806, 5048)\n",
      "2022-08-09 15:05:13.816313\n",
      "Processing TCGA-S9-A6U9-01Z-00\n",
      "Shape initial, reduced, described: (3990, 650) (3990, 632) (394, 5048)\n",
      "2022-08-09 15:08:09.973233\n",
      "Processing TCGA-02-0033-01Z-00\n",
      "Shape initial, reduced, described: (10982, 650) (10982, 632) (395, 5048)\n",
      "2022-08-09 15:11:10.519235\n",
      "Processing TCGA-DH-A669-01Z-00\n",
      "Shape initial, reduced, described: (21687, 650) (21687, 632) (803, 5048)\n",
      "2022-08-09 15:17:17.598275\n",
      "Processing TCGA-DB-5270-01Z-00\n",
      "Shape initial, reduced, described: (8465, 650) (8465, 632) (803, 5048)\n",
      "2022-08-09 15:23:13.363585\n",
      "Processing TCGA-14-0786-01Z-00\n",
      "Shape initial, reduced, described: (24664, 650) (24664, 632) (1170, 5048)\n",
      "2022-08-09 15:31:48.896163\n",
      "Processing TCGA-HT-7676-01Z-00\n"
     ]
    }
   ],
   "source": [
    "print(datetime.now())\n",
    "for patient in os.listdir(BASE_PATH):\n",
    "    if patient.startswith('TCGA-'):\n",
    "        print(datetime.now())\n",
    "        print('Processing',patient)\n",
    "        filename = BASE_PATH + patient +'/' + NUCLEUS_INPUT\n",
    "        bigdf = pd.read_csv(filename)\n",
    "        shape1 = bigdf.shape\n",
    "        bigdf = drop_columns(bigdf)\n",
    "        shape2 = bigdf.shape\n",
    "        bigdf = rollup(bigdf)\n",
    "        shape3 = bigdf.shape\n",
    "        print('Shape initial, reduced, described:',shape1,shape2,shape3)\n",
    "        save_patient(patient,bigdf)"
   ]
  },
  {
   "cell_type": "code",
   "execution_count": null,
   "metadata": {},
   "outputs": [],
   "source": [
    "print(datetime.now())\n"
   ]
  },
  {
   "cell_type": "code",
   "execution_count": null,
   "metadata": {},
   "outputs": [],
   "source": []
  }
 ],
 "metadata": {
  "kernelspec": {
   "display_name": "Python 3",
   "language": "python",
   "name": "python3"
  },
  "language_info": {
   "codemirror_mode": {
    "name": "ipython",
    "version": 3
   },
   "file_extension": ".py",
   "mimetype": "text/x-python",
   "name": "python",
   "nbconvert_exporter": "python",
   "pygments_lexer": "ipython3",
   "version": "3.8.10"
  }
 },
 "nbformat": 4,
 "nbformat_minor": 4
}
