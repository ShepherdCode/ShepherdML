{
 "cells": [
  {
   "cell_type": "markdown",
   "metadata": {},
   "source": [
    "# Random Forest\n",
    "\n",
    "Normally, we tune hyperparameters with cross validation and grid search.\n",
    "\n"
   ]
  },
  {
   "cell_type": "code",
   "execution_count": 1,
   "metadata": {},
   "outputs": [],
   "source": [
    "from sklearn.metrics import accuracy_score\n",
    "def compare_accuracy(classifiers):\n",
    "    for classifier in classifiers:\n",
    "        #classifier.fit(X_train,y_train)\n",
    "        y_pred = classifier.predict(X_test)\n",
    "        print(classifier.__class__.__name__,accuracy_score(y_test,y_pred))\n",
    "\n",
    "from sklearn.datasets import make_moons\n",
    "X,y = make_moons(n_samples=2000, noise=0.20)\n",
    "# This is a wrapper for ShuffleSplit\n",
    "from sklearn.model_selection import train_test_split\n",
    "X_train, X_test, y_train, y_test = \\\n",
    "    train_test_split(X, y, test_size=0.30)"
   ]
  },
  {
   "cell_type": "code",
   "execution_count": 2,
   "metadata": {},
   "outputs": [
    {
     "name": "stdout",
     "output_type": "stream",
     "text": [
      "RandomForestClassifier 0.97\n"
     ]
    }
   ],
   "source": [
    "# Random Forest Classifier\n",
    "\n",
    "from sklearn.ensemble import RandomForestClassifier\n",
    "# defaults: bootstrap (bagging), splitter=random, max_samples=1.0\n",
    "# default : each tree has random subset of features\n",
    "rfc=RandomForestClassifier(\n",
    "    n_estimators=100,  # trees\n",
    "    max_leaf_nodes=16,  # pruning\n",
    "    n_jobs=-1)    # use all cpu\n",
    "rfc.fit(X_train,y_train)\n",
    "compare_accuracy([rfc])"
   ]
  },
  {
   "cell_type": "code",
   "execution_count": 4,
   "metadata": {},
   "outputs": [
    {
     "name": "stdout",
     "output_type": "stream",
     "text": [
      "RandomForestClassifier 0.97\n",
      "ExtraTreesClassifier 0.96\n"
     ]
    }
   ],
   "source": [
    "# Extra Trees Classifier\n",
    "\n",
    "# Random Forest chooses best feature to use at each node.\n",
    "# This is a time consuming algorithm.\n",
    "# The Extra Trees algorithm uses random features at each node.\n",
    "# This faster and sometimes more generalized.\n",
    "\n",
    "from sklearn.ensemble import ExtraTreesClassifier\n",
    "etc=ExtraTreesClassifier(\n",
    "    n_estimators=100,  # trees\n",
    "    max_leaf_nodes=16,  # pruning\n",
    "    n_jobs=-1)    # use all cpu\n",
    "etc.fit(X_train,y_train)\n",
    "compare_accuracy([rfc,etc])"
   ]
  },
  {
   "cell_type": "code",
   "execution_count": 6,
   "metadata": {},
   "outputs": [
    {
     "data": {
      "text/plain": [
       "(array([0.42028627, 0.57971373]), array([0.44937114, 0.55062886]))"
      ]
     },
     "execution_count": 6,
     "metadata": {},
     "output_type": "execute_result"
    }
   ],
   "source": [
    "rfc.feature_importances_, etc.feature_importances_"
   ]
  },
  {
   "cell_type": "markdown",
   "metadata": {},
   "source": [
    "# Heatmap\n",
    "Figure 7-6 in the book is really cool.\n",
    "A heat map of feature importance on MNIST\n",
    "shows that the edges are unimportant and the middle matters most."
   ]
  },
  {
   "cell_type": "code",
   "execution_count": null,
   "metadata": {},
   "outputs": [],
   "source": []
  }
 ],
 "metadata": {
  "kernelspec": {
   "display_name": "Python 3",
   "language": "python",
   "name": "python3"
  },
  "language_info": {
   "codemirror_mode": {
    "name": "ipython",
    "version": 3
   },
   "file_extension": ".py",
   "mimetype": "text/x-python",
   "name": "python",
   "nbconvert_exporter": "python",
   "pygments_lexer": "ipython3",
   "version": "3.8.3"
  }
 },
 "nbformat": 4,
 "nbformat_minor": 2
}
