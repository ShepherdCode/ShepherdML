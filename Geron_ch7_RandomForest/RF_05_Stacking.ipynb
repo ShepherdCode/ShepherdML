{
 "cells": [
  {
   "cell_type": "markdown",
   "metadata": {},
   "source": [
    "# Stacking\n",
    "Using machine learning to decide weights for an ensemble of models.\n",
    "\n",
    "Book says there is no stacking implementation in sklearn but by now there is.\n",
    "We will try it here."
   ]
  },
  {
   "cell_type": "code",
   "execution_count": null,
   "metadata": {},
   "outputs": [],
   "source": [
    "from sklearn.metrics import accuracy_score\n",
    "def compare_accuracy(classifiers):\n",
    "    for classifier in classifiers:\n",
    "        #classifier.fit(X_train,y_train)\n",
    "        y_pred = classifier.predict(X_test)\n",
    "        print(classifier.__class__.__name__,accuracy_score(y_test,y_pred))\n",
    "\n",
    "from sklearn.datasets import make_moons\n",
    "X,y = make_moons(n_samples=2000, noise=0.20)\n",
    "# This is a wrapper for ShuffleSplit\n",
    "from sklearn.model_selection import train_test_split\n",
    "X_train, X_test, y_train, y_test = \\\n",
    "    train_test_split(X, y, test_size=0.30)"
   ]
  },
  {
   "cell_type": "code",
   "execution_count": 12,
   "metadata": {},
   "outputs": [
    {
     "data": {
      "text/plain": [
       "0.945"
      ]
     },
     "execution_count": 12,
     "metadata": {},
     "output_type": "execute_result"
    }
   ],
   "source": [
    "# Give it a list of estimators.\n",
    "# By default, the final estimator is LogisticRegression\n",
    "from sklearn.ensemble import StackingClassifier\n",
    "from sklearn.ensemble import RandomForestClassifier\n",
    "from sklearn.svm import LinearSVC\n",
    "from sklearn.preprocessing import StandardScaler\n",
    "from sklearn.pipeline import make_pipeline\n",
    "from sklearn.tree import DecisionTreeClassifier\n",
    "estimators = [\n",
    "    ('rfc', RandomForestClassifier(n_estimators=10, random_state=42)),\n",
    "    ('svm', make_pipeline(StandardScaler(),\n",
    "        LinearSVC(random_state=42))),\n",
    "    ('dtc', DecisionTreeClassifier(max_depth=3))\n",
    "]\n",
    "stack = StackingClassifier(estimators=estimators)\n",
    "stack.fit(X_train, y_train).score(X_test, y_test)"
   ]
  },
  {
   "cell_type": "code",
   "execution_count": null,
   "metadata": {},
   "outputs": [],
   "source": []
  }
 ],
 "metadata": {
  "kernelspec": {
   "display_name": "Python 3",
   "language": "python",
   "name": "python3"
  },
  "language_info": {
   "codemirror_mode": {
    "name": "ipython",
    "version": 3
   },
   "file_extension": ".py",
   "mimetype": "text/x-python",
   "name": "python",
   "nbconvert_exporter": "python",
   "pygments_lexer": "ipython3",
   "version": "3.8.3"
  }
 },
 "nbformat": 4,
 "nbformat_minor": 2
}
