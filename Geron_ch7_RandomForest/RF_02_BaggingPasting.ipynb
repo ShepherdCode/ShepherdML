{
 "cells": [
  {
   "cell_type": "code",
   "execution_count": 38,
   "metadata": {},
   "outputs": [
    {
     "data": {
      "text/plain": [
       "DecisionTreeClassifier()"
      ]
     },
     "execution_count": 38,
     "metadata": {},
     "output_type": "execute_result"
    }
   ],
   "source": [
    "# Ensembles of same algorithm, different (random) training sets.\n",
    "\n",
    "# Bagging: sampling with replacement (bootstrap).\n",
    "# Pasting: sampling without replacement.\n",
    "# Both are amenable to parallelization.\n",
    "\n",
    "# With bagging, one training instance could be in some training set twice.\n",
    "# Bagging increases bias (due to smaller training set) but not variance.\n",
    "# Since bags are not correlated, this helps with regularization.\n",
    "# With the ensemble, the bias comes back down.\n",
    "\n",
    "# Whereas Decision Tree chooses orthogonal linear boundaries,\n",
    "# Random Forest achives an almost smooth boundary.\n",
    "\n",
    "from sklearn.metrics import accuracy_score\n",
    "def compare_accuracy(classifiers):\n",
    "    for classifier in classifiers:\n",
    "        #classifier.fit(X_train,y_train)\n",
    "        y_pred = classifier.predict(X_test)\n",
    "        print(classifier.__class__.__name__,accuracy_score(y_test,y_pred))\n",
    "\n",
    "from sklearn.datasets import make_moons\n",
    "X,y = make_moons(n_samples=2000, noise=0.20)\n",
    "# This is a wrapper for ShuffleSplit\n",
    "from sklearn.model_selection import train_test_split\n",
    "X_train, X_test, y_train, y_test = \\\n",
    "    train_test_split(X, y, test_size=0.30)\n",
    "\n",
    "from sklearn.tree import DecisionTreeClassifier\n",
    "dtc1 = DecisionTreeClassifier()\n",
    "dtc1.fit(X_train,y_train)"
   ]
  },
  {
   "cell_type": "code",
   "execution_count": 39,
   "metadata": {},
   "outputs": [
    {
     "name": "stdout",
     "output_type": "stream",
     "text": [
      "DecisionTreeClassifier 0.9533333333333334\n"
     ]
    }
   ],
   "source": [
    "compare_accuracy([dtc1])"
   ]
  },
  {
   "cell_type": "code",
   "execution_count": 43,
   "metadata": {},
   "outputs": [
    {
     "data": {
      "text/plain": [
       "0.9564285714285714"
      ]
     },
     "execution_count": 43,
     "metadata": {},
     "output_type": "execute_result"
    }
   ],
   "source": [
    "# Bagging\n",
    "from sklearn.ensemble import BaggingClassifier\n",
    "dtc2 = DecisionTreeClassifier(\n",
    "    min_samples_split=2   # default = 2\n",
    ")\n",
    "dtc2.fit(X_train,y_train)\n",
    "\n",
    "bag = BaggingClassifier(\n",
    "    dtc2,             # the base estimator (DT by default)\n",
    "    oob_score=True,  \n",
    "    bootstrap=True,   # bagging/pasting\n",
    "    n_estimators=500,  # num trees in forest\n",
    "    max_samples=100,  # max samples use to train a tree\n",
    "    n_jobs= -1    # num cpu\n",
    ")\n",
    "bag.fit(X_train,y_train)\n",
    "# Estimate generalization using out-of-bag score.\n",
    "# Useful if you don't want to look at the test set yet.\n",
    "bag.oob_score_"
   ]
  },
  {
   "cell_type": "code",
   "execution_count": 44,
   "metadata": {},
   "outputs": [
    {
     "name": "stdout",
     "output_type": "stream",
     "text": [
      "DecisionTreeClassifier 0.9533333333333334\n",
      "BaggingClassifier 0.955\n"
     ]
    }
   ],
   "source": [
    "# Compare to test set.\n",
    "compare_accuracy([dtc2,bag])"
   ]
  },
  {
   "cell_type": "code",
   "execution_count": null,
   "metadata": {},
   "outputs": [],
   "source": [
    "# Feature sampling.\n",
    "\n",
    "# The BaggingClassifier has another parameter max_features.\n",
    "# Each Decision Tree uses a random subset of features.\n",
    "# This increases bias but also diversity.\n",
    "# Good for high feature dimension.\n",
    "\n",
    "# Random Patches Method = sample instances and features.\n",
    "# Random Subspaces Method = "
   ]
  }
 ],
 "metadata": {
  "kernelspec": {
   "display_name": "Python 3",
   "language": "python",
   "name": "python3"
  },
  "language_info": {
   "codemirror_mode": {
    "name": "ipython",
    "version": 3
   },
   "file_extension": ".py",
   "mimetype": "text/x-python",
   "name": "python",
   "nbconvert_exporter": "python",
   "pygments_lexer": "ipython3",
   "version": "3.8.3"
  }
 },
 "nbformat": 4,
 "nbformat_minor": 2
}
