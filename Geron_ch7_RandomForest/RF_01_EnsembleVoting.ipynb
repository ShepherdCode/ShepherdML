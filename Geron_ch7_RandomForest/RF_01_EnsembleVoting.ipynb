{
 "cells": [
  {
   "cell_type": "markdown",
   "metadata": {},
   "source": [
    "# Ensembles\n",
    "\n",
    "Before looking at Random Forest, we explore ensembles in general.\n",
    "Ensemble works best if the individual models are different (by algorithm or training set).\n",
    "\n",
    "## RF\n",
    "Random Forest is an Ensemble: same algorithm, random training sets.\n",
    "\n",
    "## Voting algorithms\n",
    "Hard voting: choose class with most votes.\n",
    "Soft voting: choose class with highest confidence (probability) predition.\n",
    "\n"
   ]
  },
  {
   "cell_type": "code",
   "execution_count": 1,
   "metadata": {},
   "outputs": [
    {
     "name": "stdout",
     "output_type": "stream",
     "text": [
      "LogisticRegression 0.85\n",
      "RandomForestClassifier 0.975\n",
      "SVC 0.975\n",
      "VotingClassifier 0.975\n"
     ]
    }
   ],
   "source": [
    "# First example demonstrates that three heads are better than one.\n",
    "from sklearn.ensemble import RandomForestClassifier\n",
    "from sklearn.linear_model import LogisticRegression\n",
    "from sklearn.svm import SVC\n",
    "from sklearn.ensemble import VotingClassifier\n",
    "from sklearn.metrics import accuracy_score\n",
    "\n",
    "def compare_accuracy(classifiers):\n",
    "    for classifier in classifiers:\n",
    "        classifier.fit(X_train,y_train)\n",
    "        y_pred = classifier.predict(X_test)\n",
    "        print(classifier.__class__.__name__,accuracy_score(y_test,y_pred))\n",
    "\n",
    "from sklearn.datasets import make_moons\n",
    "X,y = make_moons(n_samples=200, noise=0.15)\n",
    "# This is a wrapper for ShuffleSplit\n",
    "from sklearn.model_selection import train_test_split\n",
    "X_train, X_test, y_train, y_test = \\\n",
    "    train_test_split(X, y, test_size=0.20, random_state=42)\n",
    "\n",
    "# Hard voting.\n",
    "lrc = LogisticRegression()  # inappropriate: linear model on nonlinear data\n",
    "rfc = RandomForestClassifier()\n",
    "svm = SVC()\n",
    "vot = VotingClassifier(\n",
    "    estimators=[('LRC',lrc),('RFC',rfc),('SVM',svm)],\n",
    "    voting='hard')\n",
    "vot.fit(X_train,y_train) # recursively trains the sub models\n",
    "compare_accuracy([lrc,rfc,svm,vot])\n",
    "# Book says ensemble always best. Not true for me."
   ]
  },
  {
   "cell_type": "code",
   "execution_count": 17,
   "metadata": {},
   "outputs": [
    {
     "name": "stdout",
     "output_type": "stream",
     "text": [
      "LogisticRegression 0.85\n",
      "RandomForestClassifier 0.975\n",
      "SVC 1.0\n",
      "VotingClassifier 0.975\n"
     ]
    }
   ],
   "source": [
    "# Soft voting.\n",
    "lrc = LogisticRegression()\n",
    "rfc = RandomForestClassifier()\n",
    "svm = SVC(probability=True)\n",
    "vot = VotingClassifier(\n",
    "    estimators=[('LRC',lrc),('RFC',rfc),('SVM',svm)],\n",
    "    voting='soft')\n",
    "compare_accuracy([lrc,rfc,svm,vot])"
   ]
  },
  {
   "cell_type": "markdown",
   "metadata": {},
   "source": [
    "## Conclusion\n",
    "Book says ensemble always best. Not true for me."
   ]
  },
  {
   "cell_type": "code",
   "execution_count": null,
   "metadata": {},
   "outputs": [],
   "source": []
  }
 ],
 "metadata": {
  "kernelspec": {
   "display_name": "Python 3",
   "language": "python",
   "name": "python3"
  },
  "language_info": {
   "codemirror_mode": {
    "name": "ipython",
    "version": 3
   },
   "file_extension": ".py",
   "mimetype": "text/x-python",
   "name": "python",
   "nbconvert_exporter": "python",
   "pygments_lexer": "ipython3",
   "version": "3.8.3"
  }
 },
 "nbformat": 4,
 "nbformat_minor": 2
}
