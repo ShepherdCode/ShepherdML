{
 "cells": [
  {
   "cell_type": "markdown",
   "metadata": {},
   "source": [
    "# Perceptron\n",
    "Implement a perceptron in Python.\n",
    "Perceptron is a single-layer neural network.\n",
    "It is capable of binary classification assuming data are linearly separable.\n",
    "It has a vector of input nodes (=2 in this case).\n",
    "It has zero hidden layers.\n",
    "It has one output node that performs a sum of weighted inputs,\n",
    "then an activation function.\n",
    "During training, the activation is unity (i.e. output = sum of inputs),\n",
    "and the \"perceptron loss\" is zero for correct, linear abs(error) for incorrect.\n",
    "During classification, the activation is sign, so outputs are -1 or 1."
   ]
  },
  {
   "cell_type": "markdown",
   "metadata": {},
   "source": [
    "Famously, the perceptron cannot implement XOR.\n",
    "There is no linear separator between (1,1)(0,0) vs (-1,1)(1,-1)."
   ]
  },
  {
   "cell_type": "code",
   "execution_count": 27,
   "metadata": {},
   "outputs": [
    {
     "name": "stdout",
     "output_type": "stream",
     "text": [
      "usage: Perceptron.py [-h] [--train TRAIN] [--classify CLASSIFY] [--alpha ALPHA] [--debug]\n",
      "\n",
      "Linear classifier.\n",
      "\n",
      "optional arguments:\n",
      "  -h, --help           show this help message and exit\n",
      "  --train TRAIN        Labeled set filename\n",
      "  --classify CLASSIFY  Unlabeled set filename\n",
      "  --alpha ALPHA        Learn rate (1)\n",
      "  --debug\n"
     ]
    }
   ],
   "source": [
    "run Perceptron.py -h"
   ]
  },
  {
   "cell_type": "markdown",
   "metadata": {},
   "source": [
    "The training file is a CSV file without headers.\n",
    "Each line has this form:\n",
    "`y,x1,x2`\n",
    "\n",
    "The classification file is a CSV file without headers.\n",
    "Each line has this form:\n",
    "`x1,x2`\n",
    "\n",
    "Limitation: this program only accepts integer inputs\n",
    "though it uses float internally.\n",
    "\n",
    "We have concocted an example where the linear separator is roughly\n",
    "`y=-2x+3`\n",
    "so (0,0) is class -1 while (3,3) is class +1."
   ]
  },
  {
   "cell_type": "code",
   "execution_count": 3,
   "metadata": {},
   "outputs": [
    {
     "name": "stdout",
     "output_type": "stream",
     "text": [
      "Trained weights: (-1.1102230246251565e-16, 3.0)\n",
      "Point (-1,3) classified 1\n",
      "Point (1,-1) classified -1\n",
      "Point (1,4) classified 1\n",
      "Point (2,2) classified 1\n",
      "Point (0,0) classified -1\n",
      "Point (1,1) classified 1\n",
      "Point (2,2) classified 1\n",
      "Point (3,3) classified 1\n",
      "Point (-1,-1) classified -1\n",
      "Point (-2,-2) classified -1\n",
      "Point (-3,-3) classified -1\n"
     ]
    }
   ],
   "source": [
    "run Perceptron.py --train EX1.train.csv --classify EX1.classify.csv --alpha=0.3"
   ]
  },
  {
   "cell_type": "markdown",
   "metadata": {},
   "source": [
    "The output appears correct. Try another learn rate."
   ]
  },
  {
   "cell_type": "code",
   "execution_count": 4,
   "metadata": {},
   "outputs": [
    {
     "name": "stdout",
     "output_type": "stream",
     "text": [
      "Trained weights: (-2.220446049250313e-16, 6.0)\n",
      "Point (-1,3) classified 1\n",
      "Point (1,-1) classified -1\n",
      "Point (1,4) classified 1\n",
      "Point (2,2) classified 1\n",
      "Point (0,0) classified -1\n",
      "Point (1,1) classified 1\n",
      "Point (2,2) classified 1\n",
      "Point (3,3) classified 1\n",
      "Point (-1,-1) classified -1\n",
      "Point (-2,-2) classified -1\n",
      "Point (-3,-3) classified -1\n"
     ]
    }
   ],
   "source": [
    "run Perceptron.py --train EX1.train.csv --classify EX1.classify.csv --alpha=0.6"
   ]
  },
  {
   "cell_type": "markdown",
   "metadata": {},
   "source": [
    "Next try the unsolvable XOR example.\n",
    "That means (0,1) and (1,0) are class +1 but (0,0) and (1,1) are class -1.\n",
    "\n"
   ]
  },
  {
   "cell_type": "code",
   "execution_count": 6,
   "metadata": {},
   "outputs": [
    {
     "name": "stdout",
     "output_type": "stream",
     "text": [
      "Trained weights: (0.0, 0.0)\n",
      "Point (1,1) classified -1\n",
      "Point (0,0) classified -1\n",
      "Point (0,1) classified -1\n",
      "Point (1,0) classified -1\n"
     ]
    }
   ],
   "source": [
    "run Perceptron.py --train EX2.train.csv --classify EX2.classify.csv "
   ]
  },
  {
   "cell_type": "markdown",
   "metadata": {},
   "source": [
    "XOR was a failure, as expected."
   ]
  },
  {
   "cell_type": "code",
   "execution_count": null,
   "metadata": {},
   "outputs": [],
   "source": []
  }
 ],
 "metadata": {
  "kernelspec": {
   "display_name": "Python 3",
   "language": "python",
   "name": "python3"
  },
  "language_info": {
   "codemirror_mode": {
    "name": "ipython",
    "version": 3
   },
   "file_extension": ".py",
   "mimetype": "text/x-python",
   "name": "python",
   "nbconvert_exporter": "python",
   "pygments_lexer": "ipython3",
   "version": "3.8.3"
  }
 },
 "nbformat": 4,
 "nbformat_minor": 2
}
