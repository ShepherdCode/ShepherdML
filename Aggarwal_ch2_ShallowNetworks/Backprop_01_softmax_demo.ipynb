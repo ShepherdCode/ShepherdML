{
 "cells": [
  {
   "cell_type": "markdown",
   "metadata": {},
   "source": [
    "# Softmax.\n",
    "See Charu Aggarwal chapter 2 exercise 6, and figure 2.5(c). Implement softmax using library of your choice. I chose to implement it from scratch using just python3. It took 280 lines of python.\n",
    "\n",
    "Performs multinomial logistic regression.\n",
    "Implemented as multiclass shallow NN.\n",
    "Ouputs are probabilities 0 to 1.\n",
    "One output per class r; these sum to 1.\n",
    "Output is negative log-likelihood based on posterior probability.\n",
    "Loss function is cross-entropy: neg log prob of true class given Xi.\n",
    "Udate is `Wr=Wr+alpha{r is correct ? Xi * (1-P(r|Xi)) : -Xi * P(r|Xi)}`.\n",
    "One hidden layer, one weight vector Wr per node, linear activation.\n",
    "One output node per r with softmax activation.\n",
    "\n",
    "Softmax: \n",
    "`P(r|Xi)=e^(Wr*Xi)/sum(e^(WXi))` where W represents all Wr."
   ]
  },
  {
   "cell_type": "code",
   "execution_count": 2,
   "metadata": {},
   "outputs": [],
   "source": [
    "run Softmax.py --example EX --debug"
   ]
  },
  {
   "cell_type": "markdown",
   "metadata": {},
   "source": [
    "Example: We concocted examples of floating point numbers \n",
    "around 1.0 (class=one), around 2.0 (class=two), and around 3.0 (class=three).\n",
    "\n",
    "\n",
    "`n,x1,x2,x3,x4,x5,class\n",
    "1,1.0,1.0,1.1,1.1,1.1,one\n",
    "2,2.1,2.1,2.4,2.1,2.2,two\n",
    "3,3.0,3.1,3.0,3.1,3.2,three\n",
    "4,1.3,1.0,1.2,1.1,1.4,one\n",
    "5,2.3,2.0,2.2,2.1,2.4,two\n",
    "6,3.3,3.0,3.2,3.1,3.4,three`"
   ]
  },
  {
   "cell_type": "code",
   "execution_count": 4,
   "metadata": {},
   "outputs": [
    {
     "name": "stdout",
     "output_type": "stream",
     "text": [
      "input: [2.0, 2.1, 2.1, 2.1, 2.0] prediction: two\n"
     ]
    }
   ],
   "source": [
    "run Softmax.py --train EX.labeled.csv --classify EX.unlabeled.csv"
   ]
  },
  {
   "cell_type": "markdown",
   "metadata": {},
   "source": [
    "Correct!"
   ]
  },
  {
   "cell_type": "code",
   "execution_count": null,
   "metadata": {},
   "outputs": [],
   "source": []
  }
 ],
 "metadata": {
  "kernelspec": {
   "display_name": "Python 3",
   "language": "python",
   "name": "python3"
  },
  "language_info": {
   "codemirror_mode": {
    "name": "ipython",
    "version": 3
   },
   "file_extension": ".py",
   "mimetype": "text/x-python",
   "name": "python",
   "nbconvert_exporter": "python",
   "pygments_lexer": "ipython3",
   "version": "3.8.3"
  }
 },
 "nbformat": 4,
 "nbformat_minor": 2
}
