{
 "cells": [
  {
   "cell_type": "markdown",
   "metadata": {},
   "source": [
    "# Perceptron\n",
    "Implement a perceptron in Python.\n",
    "Perceptron is a single-layer neural network.\n",
    "It is capable of binary classification assuming data are linearly separable.\n",
    "It has a vector of input nodes (=2 in this case).\n",
    "It has zero hidden layers.\n",
    "It has one output node that performs a sum of weighted inputs,\n",
    "then an activation function.\n",
    "During training, the activation is unity (i.e. output = sum of inputs),\n",
    "and the \"perceptron loss\" is zero for correct, linear abs(error) for incorrect.\n",
    "During classification, the activation is sign, so outputs are -1 or 1."
   ]
  },
  {
   "cell_type": "code",
   "execution_count": 9,
   "metadata": {},
   "outputs": [
    {
     "name": "stdout",
     "output_type": "stream",
     "text": [
      "usage: Perceptron.py [-h] [--train TRAIN] [--classify CLASSIFY] [--alpha ALPHA] [--debug]\n",
      "\n",
      "Linear classifier.\n",
      "\n",
      "optional arguments:\n",
      "  -h, --help           show this help message and exit\n",
      "  --train TRAIN        Labeled set filename\n",
      "  --classify CLASSIFY  Unlabeled set filename\n",
      "  --alpha ALPHA        Learn rate (1)\n",
      "  --debug\n"
     ]
    }
   ],
   "source": [
    "run Perceptron.py -h"
   ]
  },
  {
   "cell_type": "markdown",
   "metadata": {},
   "source": [
    "Here, we train a perceptron to act as an XOR gate.\n",
    "That means (0,1) and (1,0) are class +1 but (0,0) and (1,1) are class -1.\n",
    "\n",
    "Limitation: this program only accepts integer inputs.\n",
    "We use only four training examples, namely, the four possible integer inputs.\n",
    "We test on the same examples, which gives an overly optimistic view of accuracy."
   ]
  },
  {
   "cell_type": "code",
   "execution_count": 10,
   "metadata": {},
   "outputs": [
    {
     "name": "stdout",
     "output_type": "stream",
     "text": [
      "Trained weights: (4.0, 0.0)\n"
     ]
    },
    {
     "name": "stderr",
     "output_type": "stream",
     "text": [
      "Point (1,1) classified 1\n",
      "Point (1,-1) classified 1\n",
      "Point (-1,1) classified -1\n",
      "Point (-1,-1) classified -1\n"
     ]
    }
   ],
   "source": [
    "run Perceptron.py --train XOR.train1.csv --classify XOR.classify1.csv --debug"
   ]
  },
  {
   "cell_type": "markdown",
   "metadata": {},
   "source": [
    "The output is incorrect."
   ]
  },
  {
   "cell_type": "code",
   "execution_count": 12,
   "metadata": {},
   "outputs": [
    {
     "name": "stdout",
     "output_type": "stream",
     "text": [
      "Trained weights: (0.04, 0.0)\n"
     ]
    },
    {
     "name": "stderr",
     "output_type": "stream",
     "text": [
      "Point (1,1) classified 1\n",
      "Point (1,-1) classified 1\n",
      "Point (-1,1) classified -1\n",
      "Point (-1,-1) classified -1\n"
     ]
    }
   ],
   "source": [
    "run Perceptron.py --train XOR.train1.csv --classify XOR.classify1.csv --alpha 0.01 --debug"
   ]
  },
  {
   "cell_type": "code",
   "execution_count": null,
   "metadata": {},
   "outputs": [],
   "source": []
  }
 ],
 "metadata": {
  "kernelspec": {
   "display_name": "Python 3",
   "language": "python",
   "name": "python3"
  },
  "language_info": {
   "codemirror_mode": {
    "name": "ipython",
    "version": 3
   },
   "file_extension": ".py",
   "mimetype": "text/x-python",
   "name": "python",
   "nbconvert_exporter": "python",
   "pygments_lexer": "ipython3",
   "version": "3.8.3"
  }
 },
 "nbformat": 4,
 "nbformat_minor": 2
}
