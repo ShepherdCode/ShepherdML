{
 "cells": [
  {
   "cell_type": "markdown",
   "metadata": {},
   "source": [
    "# Attention Quintile Roll\n",
    "\n",
    "Class 5\n",
    "\n",
    "Like Attention HalfRoll, \n",
    "divide nuclei into low or high attention,\n",
    "but exclude the middle range.\n",
    "Test whether RF does better on high vs low attention data.  "
   ]
  },
  {
   "cell_type": "code",
   "execution_count": 1,
   "metadata": {},
   "outputs": [],
   "source": [
    "import datetime\n",
    "import numpy as np\n",
    "import pandas as pd\n",
    "from CellProfiler_Util import CP_Util\n",
    "from RandomForestUtil import RF_Util\n",
    "from sklearn.model_selection import train_test_split\n",
    "from sklearn.utils import shuffle"
   ]
  },
  {
   "cell_type": "code",
   "execution_count": 2,
   "metadata": {},
   "outputs": [],
   "source": [
    "BASEPATH='/home/jrm/Adjeroh/Naved/CP_80K/'\n",
    "CLASS_DIR=['Output0/','Output1/','Output2/','Output3/','Output4/','Output5/',]\n",
    "CLASSES=range(0,6)  # use all 6 classes\n",
    "CLASSES=range(1,6)  # use smaller 5 classes\n",
    "NUCFILENAME='Process100_Nucleus.csv'\n",
    "ATTFILENAME='class_avg_temp.csv'\n",
    "HOT_NAME='Hot_quintile_rollup_'\n",
    "COLD_NAME='Cold_quintile_rollup_'"
   ]
  },
  {
   "cell_type": "markdown",
   "metadata": {},
   "source": [
    "## Load data "
   ]
  },
  {
   "cell_type": "code",
   "execution_count": 3,
   "metadata": {},
   "outputs": [],
   "source": [
    "cls=5"
   ]
  },
  {
   "cell_type": "code",
   "execution_count": 4,
   "metadata": {},
   "outputs": [],
   "source": [
    "# These are equal-probability bins (approximately).\n",
    "# See the Attention.? notebook for counts.\n",
    "bins = [0, 0.3, 0.45, 0.6, 0.75, 1.0]\n",
    "labels = ['to30%', 'to45%', 'to60%', 'to75%', 'to100%']\n",
    "MIN_HOT=0.75\n",
    "MAX_COLD=0.30"
   ]
  },
  {
   "cell_type": "code",
   "execution_count": 5,
   "metadata": {},
   "outputs": [],
   "source": [
    "def get_nuc(cls,hot):\n",
    "    attention = pd.read_csv(BASEPATH+CLASS_DIR[cls]+ATTFILENAME)\n",
    "    cols={'ImageNumber':'PatchNumber',' ObjectNumber':'ObjectNumber',' AvgTemp':'AvgTemp'}\n",
    "    attention.rename(columns=cols,inplace=True)\n",
    "    attention.set_index(['PatchNumber','ObjectNumber'],inplace=True)\n",
    "    num_nuc  = len(attention)\n",
    "    high_temp_list = None\n",
    "    if hot:\n",
    "        print('Class',cls,'Hot = high attention')\n",
    "        high_temp_list = attention[attention['AvgTemp']>=MIN_HOT]\n",
    "    else:\n",
    "        print('Class',cls,'Cold = low attention')\n",
    "        high_temp_list  = attention[attention['AvgTemp']<MAX_COLD]\n",
    "    num_hot  = len(high_temp_list)\n",
    "    print('From the attention file, chose %d out of %d'%(num_hot,num_nuc))\n",
    "    print('These nuclei represent %.2f percent'%(100*num_hot/num_nuc))\n",
    "    print('This includes nuclei from the train and test sets.')\n",
    "    cp = CP_Util(BASEPATH+CLASS_DIR[cls])\n",
    "    cp.train_test_split()\n",
    "    nuc_df = cp.get_nuclei()\n",
    "    nuc_df.reset_index(inplace=True)\n",
    "    nuc_df.set_index(['PatchNumber','ObjectNumber'],inplace=True)\n",
    "    hot_nuc  = nuc_df[nuc_df.index.isin(high_temp_list.index)]\n",
    "    hot_patches = len(hot_nuc.index.unique(level='PatchNumber'))\n",
    "    hot_nuclei  = len(hot_nuc)\n",
    "    print('From the training set, we selected %d nuclei from %d distinct patches.'%\n",
    "          (hot_nuclei,hot_patches))\n",
    "    return hot_nuc"
   ]
  },
  {
   "cell_type": "code",
   "execution_count": 6,
   "metadata": {
    "scrolled": true
   },
   "outputs": [
    {
     "name": "stdout",
     "output_type": "stream",
     "text": [
      "2022-06-16 12:10:52.274526\n",
      "Class 5 Hot = high attention\n",
      "From the attention file, chose 11588 out of 53535\n",
      "These nuclei represent 21.65 percent\n",
      "This includes nuclei from the train and test sets.\n",
      "Train: 2 participants, 3 WSI, 1195 patches.\n",
      "Test: 1 participants, 1 WSI, 396 patches.\n",
      "From the training set, we selected 8591 nuclei from 1152 distinct patches.\n",
      "Hot groupby... (this is slow)\n",
      "Writing file...\n",
      "2022-06-16 12:19:04.307337\n"
     ]
    }
   ],
   "source": [
    "print(datetime.datetime.now())\n",
    "hot_nuc = get_nuc(cls,True)\n",
    "print('Hot groupby... (this is slow)')\n",
    "rollup = hot_nuc.groupby(['PatchNumber']).describe() ## this is slow\n",
    "rollup.columns=rollup.columns.map('_'.join)  ## helps random forest code\n",
    "print('Writing file...')\n",
    "rollup.to_csv(HOT_NAME+'class'+str(cls)+'.csv')\n",
    "print(datetime.datetime.now())"
   ]
  },
  {
   "cell_type": "code",
   "execution_count": 7,
   "metadata": {},
   "outputs": [
    {
     "name": "stdout",
     "output_type": "stream",
     "text": [
      "2022-06-16 12:19:04.310469\n",
      "Class 5 Cold = low attention\n",
      "From the attention file, chose 11786 out of 53535\n",
      "These nuclei represent 22.02 percent\n",
      "This includes nuclei from the train and test sets.\n",
      "Train: 2 participants, 3 WSI, 1195 patches.\n",
      "Test: 1 participants, 1 WSI, 396 patches.\n",
      "From the training set, we selected 8746 nuclei from 1152 distinct patches.\n",
      "Cold groupby... (this is slow)\n",
      "Writing file...\n",
      "2022-06-16 12:27:47.486338\n"
     ]
    }
   ],
   "source": [
    "print(datetime.datetime.now())\n",
    "hot_nuc = None\n",
    "cold_nuc = get_nuc(cls,False)\n",
    "print('Cold groupby... (this is slow)')\n",
    "rollup = cold_nuc.groupby(['PatchNumber']).describe() ## this is slow\n",
    "rollup.columns=rollup.columns.map('_'.join)  ## helps random forest code\n",
    "print('Writing file...')\n",
    "rollup.to_csv(COLD_NAME+'class'+str(cls)+'.csv')\n",
    "print(datetime.datetime.now())"
   ]
  },
  {
   "cell_type": "code",
   "execution_count": null,
   "metadata": {},
   "outputs": [],
   "source": []
  }
 ],
 "metadata": {
  "kernelspec": {
   "display_name": "Python 3",
   "language": "python",
   "name": "python3"
  },
  "language_info": {
   "codemirror_mode": {
    "name": "ipython",
    "version": 3
   },
   "file_extension": ".py",
   "mimetype": "text/x-python",
   "name": "python",
   "nbconvert_exporter": "python",
   "pygments_lexer": "ipython3",
   "version": "3.8.10"
  }
 },
 "nbformat": 4,
 "nbformat_minor": 4
}
