{
 "cells": [
  {
   "cell_type": "code",
   "execution_count": 1,
   "metadata": {},
   "outputs": [],
   "source": [
    "import pandas as pd"
   ]
  },
  {
   "cell_type": "code",
   "execution_count": 2,
   "metadata": {},
   "outputs": [],
   "source": [
    "df = pd.read_csv('/home/jrm/Adjeroh/Naved/CP_80K/Output0/Process100_Image.csv')"
   ]
  },
  {
   "cell_type": "code",
   "execution_count": 10,
   "metadata": {},
   "outputs": [
    {
     "data": {
      "text/plain": [
       "0            1\n",
       "1            2\n",
       "2            3\n",
       "3            4\n",
       "4            5\n",
       "         ...  \n",
       "44961    44962\n",
       "44962    44963\n",
       "44963    44964\n",
       "44964    44965\n",
       "44965    44966\n",
       "Name: ImageNumber, Length: 44966, dtype: int64"
      ]
     },
     "execution_count": 10,
     "metadata": {},
     "output_type": "execute_result"
    }
   ],
   "source": [
    "df['ImageNumber']"
   ]
  },
  {
   "cell_type": "code",
   "execution_count": 9,
   "metadata": {},
   "outputs": [
    {
     "data": {
      "text/plain": [
       "0        TCGA-02-0004-01Z-00-DX1_10200_24300.png\n",
       "1        TCGA-02-0004-01Z-00-DX1_10200_28500.png\n",
       "2         TCGA-02-0004-01Z-00-DX1_10200_3900.png\n",
       "3         TCGA-02-0004-01Z-00-DX1_10200_4500.png\n",
       "4         TCGA-02-0004-01Z-00-DX1_10200_6000.png\n",
       "                          ...                   \n",
       "44961     TCGA-41-5651-01Z-00-DX1_9900_12300.png\n",
       "44962     TCGA-41-5651-01Z-00-DX1_9900_30900.png\n",
       "44963     TCGA-41-5651-01Z-00-DX1_9900_41700.png\n",
       "44964     TCGA-41-5651-01Z-00-DX1_9900_44700.png\n",
       "44965     TCGA-41-5651-01Z-00-DX1_9900_48900.png\n",
       "Name: FileName_Tumor, Length: 44966, dtype: object"
      ]
     },
     "execution_count": 9,
     "metadata": {},
     "output_type": "execute_result"
    }
   ],
   "source": [
    "df['FileName_Tumor']"
   ]
  },
  {
   "cell_type": "code",
   "execution_count": 17,
   "metadata": {},
   "outputs": [],
   "source": [
    "tuners=['TCGA-02-0004-01Z-00-DX1_5400_3600.png',\n",
    "       'TCGA-DB-A64L-01Z-00-DX1_10800_6600.png',\n",
    "       'TCGA-DB-5270-01Z-00-DX1_13500_71400.png',\n",
    "       'TCGA-DB-5270-01Z-00-DX1_15000_77100.png',\n",
    "       'TCGA-CS-4943-01Z-00-DX1_20400_16200.png',\n",
    "       'TCGA-DB-A4XF-01Z-00-DX1_20100_65100.png',\n",
    "       'TCGA-DB-A4XG-01Z-00-DX1_12900_22200.png',\n",
    "       'TCGA-DB-A4XG-01Z-00-DX1_14400_18900.png']\n"
   ]
  },
  {
   "cell_type": "code",
   "execution_count": 19,
   "metadata": {},
   "outputs": [
    {
     "name": "stdout",
     "output_type": "stream",
     "text": [
      "Class Output0/\n",
      "     ImageNumber                         FileName_Tumor\n",
      "310          311  TCGA-02-0004-01Z-00-DX1_5400_3600.png\n",
      "Class Output1/\n",
      "    ImageNumber                          FileName_Tumor\n",
      "11           12  TCGA-DB-A64L-01Z-00-DX1_10800_6600.png\n",
      "Class Output2/\n",
      "    ImageNumber                           FileName_Tumor\n",
      "29           30  TCGA-DB-5270-01Z-00-DX1_13500_71400.png\n",
      "40           41  TCGA-DB-5270-01Z-00-DX1_15000_77100.png\n",
      "Class Output3/\n",
      "    ImageNumber                           FileName_Tumor\n",
      "86           87  TCGA-CS-4943-01Z-00-DX1_20400_16200.png\n",
      "Class Output4/\n",
      "    ImageNumber                           FileName_Tumor\n",
      "66           67  TCGA-DB-A4XF-01Z-00-DX1_20100_65100.png\n",
      "Class Output5/\n",
      "    ImageNumber                           FileName_Tumor\n",
      "25           26  TCGA-DB-A4XG-01Z-00-DX1_12900_22200.png\n",
      "45           46  TCGA-DB-A4XG-01Z-00-DX1_14400_18900.png\n"
     ]
    }
   ],
   "source": [
    "BASENAME='/home/jrm/Adjeroh/Naved/CP_80K/'\n",
    "CLASSES =['Output0/','Output1/','Output2/','Output3/','Output4/','Output5/',]\n",
    "FILENAME='Process100_Image.csv'\n",
    "for cls in CLASSES:\n",
    "    print('Class',cls)\n",
    "    df = pd.read_csv(BASENAME+cls+FILENAME)\n",
    "    print(df.loc[df['FileName_Tumor'].isin(tuners)][['ImageNumber','FileName_Tumor']])"
   ]
  },
  {
   "cell_type": "code",
   "execution_count": 20,
   "metadata": {},
   "outputs": [],
   "source": [
    "# These patches were used to tune the CellProfiler pipeline\n",
    "exclude = [ [311], [12], [30,41], [87], [67], [26,46] ]\n"
   ]
  },
  {
   "cell_type": "code",
   "execution_count": null,
   "metadata": {},
   "outputs": [],
   "source": []
  }
 ],
 "metadata": {
  "kernelspec": {
   "display_name": "Python 3",
   "language": "python",
   "name": "python3"
  },
  "language_info": {
   "codemirror_mode": {
    "name": "ipython",
    "version": 3
   },
   "file_extension": ".py",
   "mimetype": "text/x-python",
   "name": "python",
   "nbconvert_exporter": "python",
   "pygments_lexer": "ipython3",
   "version": "3.8.10"
  }
 },
 "nbformat": 4,
 "nbformat_minor": 4
}
