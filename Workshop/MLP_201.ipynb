{
 "cells": [
  {
   "cell_type": "markdown",
   "metadata": {
    "id": "ojm_6E9f9Kcf"
   },
   "source": [
    "# MLP 120\n",
    "Train on medium, evaluate on all"
   ]
  },
  {
   "cell_type": "code",
   "execution_count": 1,
   "metadata": {
    "colab": {
     "base_uri": "https://localhost:8080/",
     "height": 35
    },
    "id": "hh6XplUvC0j0",
    "outputId": "4d1cb886-9c9e-4df1-c25e-1fe4e4919300"
   },
   "outputs": [],
   "source": [
    "#from google.colab import drive\n",
    "#PATH='/content/drive/'\n",
    "#drive.mount(PATH)\n",
    "#DATAPATH=PATH+'My Drive/data/'\n",
    "#PC_FILENAME = DATAPATH+'pcRNA.fasta'\n",
    "#NC_FILENAME = DATAPATH+'ncRNA.fasta'\n",
    "#PC_FILENAME = 'pcRNA.fasta'\n",
    "#NC_FILENAME = 'ncRNA.fasta'\n",
    "NC_FILENAME='ncRNA.gc34.processed.fasta'\n",
    "PC_FILENAME='pcRNA.gc34.processed.fasta'\n",
    "\n",
    "EPOCHS=5\n",
    "SPLITS=5\n",
    "K=1\n",
    "VOCABULARY_SIZE=4**K+1   # e.g. K=3 => 64 DNA K-mers + 'NNN'\n",
    "EMBED_DIMEN=16\n",
    "FILENAME='MLP201'\n",
    "NEURONS=16\n"
   ]
  },
  {
   "cell_type": "code",
   "execution_count": 2,
   "metadata": {
    "id": "VQY7aTj29Kch"
   },
   "outputs": [],
   "source": [
    "import numpy as np\n",
    "import pandas as pd\n",
    "import matplotlib.pyplot as plt\n",
    "from sklearn.model_selection import ShuffleSplit\n",
    "from sklearn.model_selection import cross_val_score\n",
    "from sklearn.model_selection import RepeatedKFold\n",
    "from sklearn.model_selection import StratifiedKFold\n",
    "import tensorflow as tf\n",
    "from tensorflow import keras\n",
    "from keras.wrappers.scikit_learn import KerasRegressor\n",
    "from keras.models import Sequential\n",
    "from keras.layers import Bidirectional\n",
    "from keras.layers import GRU\n",
    "from keras.layers import Dense\n",
    "from keras.layers import LayerNormalization\n",
    "import time\n",
    "\n",
    "dt='float32'\n",
    "tf.keras.backend.set_floatx(dt)\n",
    "\n"
   ]
  },
  {
   "cell_type": "markdown",
   "metadata": {
    "id": "WV6k-xOm9Kcn"
   },
   "source": [
    "## Load and partition sequences"
   ]
  },
  {
   "cell_type": "code",
   "execution_count": 3,
   "metadata": {
    "id": "1I-O_qzw9Kco"
   },
   "outputs": [],
   "source": [
    "# Assume file was preprocessed to contain one line per seq.\n",
    "# Prefer Pandas dataframe but df does not support append.\n",
    "# For conversion to tensor, must avoid python lists.\n",
    "def load_fasta(filename,label):\n",
    "    DEFLINE='>'\n",
    "    labels=[]\n",
    "    seqs=[]\n",
    "    lens=[]\n",
    "    nums=[]\n",
    "    num=0\n",
    "    with open (filename,'r') as infile:\n",
    "        for line in infile:\n",
    "            if line[0]!=DEFLINE:\n",
    "                seq=line.rstrip()\n",
    "                num += 1   # first seqnum is 1\n",
    "                seqlen=len(seq)\n",
    "                nums.append(num)\n",
    "                labels.append(label)\n",
    "                seqs.append(seq)\n",
    "                lens.append(seqlen)\n",
    "    df1=pd.DataFrame(nums,columns=['seqnum'])\n",
    "    df2=pd.DataFrame(labels,columns=['class'])\n",
    "    df3=pd.DataFrame(seqs,columns=['sequence'])\n",
    "    df4=pd.DataFrame(lens,columns=['seqlen'])\n",
    "    df=pd.concat((df1,df2,df3,df4),axis=1)\n",
    "    return df\n",
    "\n",
    "def separate_X_and_y(data):\n",
    "    y=   data[['class']].copy()\n",
    "    X=   data.drop(columns=['class','seqnum','seqlen'])\n",
    "    return (X,y)\n",
    "\n"
   ]
  },
  {
   "cell_type": "markdown",
   "metadata": {
    "id": "nRAaO9jP9Kcr"
   },
   "source": [
    "## Make K-mers"
   ]
  },
  {
   "cell_type": "code",
   "execution_count": 4,
   "metadata": {
    "id": "e8xcZ4Mr9Kcs"
   },
   "outputs": [],
   "source": [
    "def make_kmer_table(K):\n",
    "    npad='N'*K\n",
    "    shorter_kmers=['']\n",
    "    for i in range(K):\n",
    "        longer_kmers=[]\n",
    "        for mer in shorter_kmers:\n",
    "            longer_kmers.append(mer+'A')\n",
    "            longer_kmers.append(mer+'C')\n",
    "            longer_kmers.append(mer+'G')\n",
    "            longer_kmers.append(mer+'T')\n",
    "        shorter_kmers = longer_kmers\n",
    "    all_kmers = shorter_kmers\n",
    "    kmer_dict = {}\n",
    "    kmer_dict[npad]=0\n",
    "    value=1\n",
    "    for mer in all_kmers:\n",
    "        kmer_dict[mer]=value\n",
    "        value += 1\n",
    "    return kmer_dict\n",
    "\n",
    "KMER_TABLE=make_kmer_table(K)\n",
    "\n",
    "def strings_to_vectors(data,uniform_len):\n",
    "    all_seqs=[]\n",
    "    for seq in data['sequence']:\n",
    "        i=0\n",
    "        seqlen=len(seq)\n",
    "        kmers=[]\n",
    "        while i < seqlen-K+1 -1:  # stop at minus one for spaced seed\n",
    "            #kmer=seq[i:i+2]+seq[i+3:i+5]    # SPACED SEED 2/1/2 for K=4\n",
    "            kmer=seq[i:i+K]  \n",
    "            i += 1\n",
    "            value=KMER_TABLE[kmer]\n",
    "            kmers.append(value)\n",
    "        pad_val=0\n",
    "        while i < uniform_len:\n",
    "            kmers.append(pad_val)\n",
    "            i += 1\n",
    "        all_seqs.append(kmers)\n",
    "    pd2d=pd.DataFrame(all_seqs)\n",
    "    return pd2d   # return 2D dataframe, uniform dimensions"
   ]
  },
  {
   "cell_type": "code",
   "execution_count": 5,
   "metadata": {
    "id": "sEtA0xiV9Kcv"
   },
   "outputs": [],
   "source": [
    "def make_kmers(MAXLEN,train_set):\n",
    "    (X_train_all,y_train_all)=separate_X_and_y(train_set)\n",
    "\n",
    "    # The returned values are Pandas dataframes.\n",
    "    # print(X_train_all.shape,y_train_all.shape)\n",
    "    # (X_train_all,y_train_all)\n",
    "    # y: Pandas dataframe to Python list.\n",
    "    # y_train_all=y_train_all.values.tolist()\n",
    "    # The sequences lengths are bounded but not uniform.\n",
    "    #X_train_all\n",
    "    #print(type(X_train_all))\n",
    "    #print(X_train_all.shape)\n",
    "    #print(X_train_all.iloc[0])\n",
    "    #print(len(X_train_all.iloc[0]['sequence']))\n",
    "\n",
    "    # X: List of string to List of uniform-length ordered lists of K-mers.\n",
    "    X_train_kmers=strings_to_vectors(X_train_all,MAXLEN)\n",
    "    # X: true 2D array (no more lists)\n",
    "    X_train_kmers.shape\n",
    "\n",
    "    #print(\"transform...\")\n",
    "    # From pandas dataframe to numpy to list to numpy\n",
    "    print(type(X_train_kmers))\n",
    "    num_seqs=len(X_train_kmers)\n",
    "    tmp_seqs=[]\n",
    "    for i in range(num_seqs):\n",
    "        kmer_sequence=X_train_kmers.iloc[i]\n",
    "        tmp_seqs.append(kmer_sequence)\n",
    "    X_train_kmers=np.array(tmp_seqs)\n",
    "    tmp_seqs=None\n",
    "    print(type(X_train_kmers))\n",
    "    #print(X_train_kmers)\n",
    "\n",
    "    labels=y_train_all.to_numpy()\n",
    "    return (X_train_kmers,labels)"
   ]
  },
  {
   "cell_type": "code",
   "execution_count": 6,
   "metadata": {
    "id": "jaXyySyO9Kcz"
   },
   "outputs": [],
   "source": [
    "def make_frequencies(Xin):\n",
    "    Xout=[]\n",
    "    VOCABULARY_SIZE= 4**K + 1  # plus one for 'NNN'\n",
    "    for seq in Xin:\n",
    "        freqs =[0] * VOCABULARY_SIZE\n",
    "        total = 0\n",
    "        for kmerval in seq:\n",
    "            freqs[kmerval] += 1\n",
    "            total += 1\n",
    "        for c in range(VOCABULARY_SIZE):\n",
    "            freqs[c] = freqs[c]/total\n",
    "        Xout.append(freqs)\n",
    "    Xnum = np.asarray(Xout)\n",
    "    return (Xnum)"
   ]
  },
  {
   "cell_type": "markdown",
   "metadata": {
    "id": "j7jcg6Wl9Kc2"
   },
   "source": [
    "## Build model"
   ]
  },
  {
   "cell_type": "code",
   "execution_count": 7,
   "metadata": {
    "id": "qLFNO1Xa9Kc3"
   },
   "outputs": [],
   "source": [
    "def compile_model(model):\n",
    "    bc=tf.keras.losses.BinaryCrossentropy(from_logits=False)\n",
    "    print(\"COMPILE...\")\n",
    "    model.compile(loss=bc, optimizer=\"Adam\",metrics=[\"accuracy\"])\n",
    "    print(\"...COMPILED\")\n",
    "    return model\n",
    "\n",
    "def build_model(maxlen):\n",
    "    act=\"sigmoid\"\n",
    "    embed_layer  = keras.layers.Embedding(\n",
    "        VOCABULARY_SIZE,EMBED_DIMEN,input_length=maxlen);\n",
    "    dense1_layer = keras.layers.Dense(NEURONS, activation=act,dtype=dt,input_dim=VOCABULARY_SIZE)\n",
    "    dense2_layer = keras.layers.Dense(NEURONS, activation=act,dtype=dt)\n",
    "    dense3_layer = keras.layers.Dense(NEURONS, activation=act,dtype=dt)\n",
    "    output_layer = keras.layers.Dense(1,  activation=act,dtype=dt)\n",
    "    mlp = keras.models.Sequential()\n",
    "    #mlp.add(embed_layer)\n",
    "    mlp.add(dense1_layer)\n",
    "    mlp.add(dense2_layer)\n",
    "    #mlp.add(dense3_layer)\n",
    "    mlp.add(output_layer)\n",
    "    mlpc = compile_model(mlp)\n",
    "    return mlpc"
   ]
  },
  {
   "cell_type": "markdown",
   "metadata": {
    "id": "LdIS2utq9Kc9"
   },
   "source": [
    "## Cross validation"
   ]
  },
  {
   "cell_type": "code",
   "execution_count": 8,
   "metadata": {
    "id": "BVo4tbB_9Kc-"
   },
   "outputs": [],
   "source": [
    "def do_cross_validation(X,y,given_model):\n",
    "    cv_scores = []\n",
    "    fold=0\n",
    "    splitter = ShuffleSplit(n_splits=SPLITS, test_size=0.1, random_state=37863)\n",
    "    for train_index,valid_index in splitter.split(X):\n",
    "        fold += 1\n",
    "        X_train=X[train_index] # use iloc[] for dataframe\n",
    "        y_train=y[train_index]\n",
    "        X_valid=X[valid_index]\n",
    "        y_valid=y[valid_index]        \n",
    "        # Otherwise we keep improving the same model.\n",
    "        model = compile_model(keras.models.clone_model(given_model))\n",
    "        bestname=FILENAME+\".cv.\"+str(fold)+\".best\"\n",
    "        callbacks = [keras.callbacks.ModelCheckpoint(\n",
    "        filepath=bestname, save_best_only=True)]                \n",
    "        print(\"FIT\")\n",
    "        start_time=time.time()\n",
    "        history=model.fit(X_train, y_train, # batch_size=10, default=32 works nicely\n",
    "                epochs=EPOCHS, verbose=1,  # verbose=1 for ascii art, verbose=0 for none\n",
    "                callbacks=callbacks,\n",
    "                validation_data=(X_valid,y_valid) )\n",
    "        end_time=time.time()\n",
    "        elapsed_time=(end_time-start_time)                        \n",
    "        print(\"Fold %d, %d epochs, %d sec\"%(fold,EPOCHS,elapsed_time))\n",
    "        pd.DataFrame(history.history).plot(figsize=(8,5))\n",
    "        plt.grid(True)\n",
    "        plt.gca().set_ylim(0,1)\n",
    "        plt.show()\n",
    "        best_model=keras.models.load_model(bestname)\n",
    "        scores = best_model.evaluate(X_valid, y_valid, verbose=0)\n",
    "        print(\"%s: %.2f%%\" % (best_model.metrics_names[1], scores[1]*100))\n",
    "        cv_scores.append(scores[1] * 100)  \n",
    "    print()\n",
    "    print(\"%d-way Cross Validation mean %.2f%% (+/- %.2f%%)\" % (fold, np.mean(cv_scores), np.std(cv_scores)))"
   ]
  },
  {
   "cell_type": "code",
   "execution_count": 9,
   "metadata": {
    "id": "upc3S0eEgYZG"
   },
   "outputs": [],
   "source": [
    "def just_train(model,X_train,y_train,maxlen):\n",
    "    print(\"FIT\")\n",
    "    start_time=time.time()\n",
    "    history=model.fit(X_train, y_train, # batch_size=10, default=32 works nicely\n",
    "            epochs=EPOCHS, verbose=1,  # verbose=1 for ascii art, verbose=0 for none\n",
    "            )  # no validation data\n",
    "    end_time=time.time()\n",
    "    elapsed_time=(end_time-start_time)\n",
    "    print(\"Train %d epochs, %d sec\"%(EPOCHS,elapsed_time))\n",
    "\n",
    "    pd.DataFrame(history.history).plot(figsize=(8,5))\n",
    "    plt.grid(True)\n",
    "    plt.gca().set_ylim(0,1)\n",
    "    plt.show()\n",
    "\n",
    "    #scores = model.evaluate(X_valid, y_valid, verbose=0)\n",
    "    #print(\"%s: %.2f%%\" % (model.metrics_names[1], scores[1]*100))\n",
    "    #cv_scores.append(scores[1] * 100)  \n",
    "    #print()\n",
    "    #print(\"Validation core mean %.2f%% (+/- %.2f%%)\" % (np.mean(cv_scores), np.std(cv_scores)))\n",
    "    return model"
   ]
  },
  {
   "cell_type": "markdown",
   "metadata": {
    "id": "_Q-PEh7D9KdH"
   },
   "source": [
    "## Load"
   ]
  },
  {
   "cell_type": "code",
   "execution_count": 10,
   "metadata": {
    "colab": {
     "base_uri": "https://localhost:8080/",
     "height": 459
    },
    "id": "f8fNo6sn9KdH",
    "outputId": "d2f678d6-5272-4527-ecfe-e0d84640031f"
   },
   "outputs": [
    {
     "name": "stdout",
     "output_type": "stream",
     "text": [
      "Load data from files.\n",
      "Ready: train_set\n",
      "Compile the model\n",
      "COMPILE...\n",
      "...COMPILED\n",
      "Summarize the model\n",
      "Model: \"sequential\"\n",
      "_________________________________________________________________\n",
      "Layer (type)                 Output Shape              Param #   \n",
      "=================================================================\n",
      "dense (Dense)                (None, 16)                96        \n",
      "_________________________________________________________________\n",
      "dense_1 (Dense)              (None, 16)                272       \n",
      "_________________________________________________________________\n",
      "dense_3 (Dense)              (None, 1)                 17        \n",
      "=================================================================\n",
      "Total params: 385\n",
      "Trainable params: 385\n",
      "Non-trainable params: 0\n",
      "_________________________________________________________________\n",
      "None\n"
     ]
    }
   ],
   "source": [
    "print(\"Load data from files.\")\n",
    "nc_seq=load_fasta(NC_FILENAME,0)\n",
    "pc_seq=load_fasta(PC_FILENAME,1)\n",
    "train_set=pd.concat((nc_seq,pc_seq),axis=0)\n",
    "\n",
    "nc_seq=None\n",
    "pc_seq=None\n",
    "\n",
    "print(\"Ready: train_set\")\n",
    "#train_set\n",
    "\n",
    "MINLEN=200\n",
    "MAXLEN=1000\n",
    "\n",
    "print (\"Compile the model\")\n",
    "model=build_model(MAXLEN)\n",
    "print (\"Summarize the model\")\n",
    "print(model.summary())  # Print this only once\n"
   ]
  },
  {
   "cell_type": "markdown",
   "metadata": {
    "id": "qd3Wj_vI9KdP"
   },
   "source": [
    "## Len 200-1Kb"
   ]
  },
  {
   "cell_type": "code",
   "execution_count": 11,
   "metadata": {
    "id": "mQ8eW5Rg9KdQ"
   },
   "outputs": [
    {
     "name": "stdout",
     "output_type": "stream",
     "text": [
      "Data prep\n",
      "Data reshape\n",
      "<class 'pandas.core.frame.DataFrame'>\n",
      "<class 'numpy.ndarray'>\n"
     ]
    }
   ],
   "source": [
    "def make_slice(data_set,min_len,max_len):\n",
    "    slice = data_set.query('seqlen <= '+str(max_len)+' & seqlen>= '+str(min_len))\n",
    "    #print(slice)\n",
    "    return slice\n",
    "\n",
    "print (\"Data prep\")\n",
    "subset=make_slice(train_set,MINLEN,MAXLEN)# One array to two: X and y\n",
    "print (\"Data reshape\")\n",
    "(X_train,y_train)=make_kmers(MAXLEN,subset)\n",
    "X_train=make_frequencies(X_train)"
   ]
  },
  {
   "cell_type": "code",
   "execution_count": 12,
   "metadata": {},
   "outputs": [
    {
     "name": "stdout",
     "output_type": "stream",
     "text": [
      "Cross valiation\n",
      "COMPILE...\n",
      "...COMPILED\n",
      "FIT\n",
      "Epoch 1/5\n",
      "445/453 [============================>.] - ETA: 0s - loss: 0.6531 - accuracy: 0.6355WARNING:tensorflow:From /Library/Frameworks/Python.framework/Versions/3.8/lib/python3.8/site-packages/tensorflow/python/ops/resource_variable_ops.py:1813: calling BaseResourceVariable.__init__ (from tensorflow.python.ops.resource_variable_ops) with constraint is deprecated and will be removed in a future version.\n",
      "Instructions for updating:\n",
      "If using Keras pass *_constraint arguments to layers.\n",
      "INFO:tensorflow:Assets written to: MLP201.cv.1.best/assets\n",
      "453/453 [==============================] - 2s 4ms/step - loss: 0.6532 - accuracy: 0.6351 - val_loss: 0.6388 - val_accuracy: 0.6530\n",
      "Epoch 2/5\n",
      "427/453 [===========================>..] - ETA: 0s - loss: 0.6415 - accuracy: 0.6407INFO:tensorflow:Assets written to: MLP201.cv.1.best/assets\n",
      "453/453 [==============================] - 1s 3ms/step - loss: 0.6418 - accuracy: 0.6397 - val_loss: 0.6235 - val_accuracy: 0.6530\n",
      "Epoch 3/5\n",
      "443/453 [============================>.] - ETA: 0s - loss: 0.6211 - accuracy: 0.6433INFO:tensorflow:Assets written to: MLP201.cv.1.best/assets\n",
      "453/453 [==============================] - 2s 3ms/step - loss: 0.6206 - accuracy: 0.6434 - val_loss: 0.5926 - val_accuracy: 0.6735\n",
      "Epoch 4/5\n",
      "451/453 [============================>.] - ETA: 0s - loss: 0.5958 - accuracy: 0.6748INFO:tensorflow:Assets written to: MLP201.cv.1.best/assets\n",
      "453/453 [==============================] - 2s 4ms/step - loss: 0.5957 - accuracy: 0.6749 - val_loss: 0.5702 - val_accuracy: 0.7076\n",
      "Epoch 5/5\n",
      "451/453 [============================>.] - ETA: 0s - loss: 0.5829 - accuracy: 0.6863INFO:tensorflow:Assets written to: MLP201.cv.1.best/assets\n",
      "453/453 [==============================] - 2s 4ms/step - loss: 0.5832 - accuracy: 0.6859 - val_loss: 0.5628 - val_accuracy: 0.7163\n",
      "Fold 1, 5 epochs, 9 sec\n"
     ]
    },
    {
     "data": {
      "image/png": "[encoded data removed]",
      "text/plain": [
       "<Figure size 576x360 with 1 Axes>"
      ]
     },
     "metadata": {
      "needs_background": "light"
     },
     "output_type": "display_data"
    },
    {
     "name": "stdout",
     "output_type": "stream",
     "text": [
      "accuracy: 71.63%\n",
      "COMPILE...\n",
      "...COMPILED\n",
      "FIT\n",
      "Epoch 1/5\n",
      "426/453 [===========================>..] - ETA: 0s - loss: 0.6559 - accuracy: 0.6407INFO:tensorflow:Assets written to: MLP201.cv.2.best/assets\n",
      "453/453 [==============================] - 2s 5ms/step - loss: 0.6555 - accuracy: 0.6406 - val_loss: 0.6452 - val_accuracy: 0.6449\n",
      "Epoch 2/5\n",
      "444/453 [============================>.] - ETA: 0s - loss: 0.6407 - accuracy: 0.6406INFO:tensorflow:Assets written to: MLP201.cv.2.best/assets\n",
      "453/453 [==============================] - 2s 4ms/step - loss: 0.6405 - accuracy: 0.6406 - val_loss: 0.6267 - val_accuracy: 0.6449\n",
      "Epoch 3/5\n",
      "441/453 [============================>.] - ETA: 0s - loss: 0.6149 - accuracy: 0.6477INFO:tensorflow:Assets written to: MLP201.cv.2.best/assets\n",
      "453/453 [==============================] - 1s 3ms/step - loss: 0.6146 - accuracy: 0.6485 - val_loss: 0.5961 - val_accuracy: 0.6735\n",
      "Epoch 4/5\n",
      "429/453 [===========================>..] - ETA: 0s - loss: 0.5898 - accuracy: 0.6804INFO:tensorflow:Assets written to: MLP201.cv.2.best/assets\n",
      "453/453 [==============================] - 1s 3ms/step - loss: 0.5898 - accuracy: 0.6805 - val_loss: 0.5786 - val_accuracy: 0.6791\n",
      "Epoch 5/5\n",
      "443/453 [============================>.] - ETA: 0s - loss: 0.5798 - accuracy: 0.6910INFO:tensorflow:Assets written to: MLP201.cv.2.best/assets\n",
      "453/453 [==============================] - 1s 3ms/step - loss: 0.5794 - accuracy: 0.6911 - val_loss: 0.5722 - val_accuracy: 0.6896\n",
      "Fold 2, 5 epochs, 8 sec\n"
     ]
    },
    {
     "data": {
      "image/png": "[encoded data removed]",
      "text/plain": [
       "<Figure size 576x360 with 1 Axes>"
      ]
     },
     "metadata": {
      "needs_background": "light"
     },
     "output_type": "display_data"
    },
    {
     "name": "stdout",
     "output_type": "stream",
     "text": [
      "accuracy: 68.96%\n",
      "COMPILE...\n",
      "...COMPILED\n",
      "FIT\n",
      "Epoch 1/5\n",
      "450/453 [============================>.] - ETA: 0s - loss: 0.6475 - accuracy: 0.6428INFO:tensorflow:Assets written to: MLP201.cv.3.best/assets\n",
      "453/453 [==============================] - 1s 3ms/step - loss: 0.6476 - accuracy: 0.6427 - val_loss: 0.6514 - val_accuracy: 0.6263\n",
      "Epoch 2/5\n",
      "432/453 [===========================>..] - ETA: 0s - loss: 0.6350 - accuracy: 0.6406INFO:tensorflow:Assets written to: MLP201.cv.3.best/assets\n",
      "453/453 [==============================] - 1s 3ms/step - loss: 0.6330 - accuracy: 0.6427 - val_loss: 0.6295 - val_accuracy: 0.6263\n",
      "Epoch 3/5\n",
      "436/453 [===========================>..] - ETA: 0s - loss: 0.6061 - accuracy: 0.6562INFO:tensorflow:Assets written to: MLP201.cv.3.best/assets\n",
      "453/453 [==============================] - 1s 3ms/step - loss: 0.6061 - accuracy: 0.6565 - val_loss: 0.5946 - val_accuracy: 0.6785\n",
      "Epoch 4/5\n",
      "437/453 [===========================>..] - ETA: 0s - loss: 0.5857 - accuracy: 0.6849INFO:tensorflow:Assets written to: MLP201.cv.3.best/assets\n",
      "453/453 [==============================] - 1s 3ms/step - loss: 0.5854 - accuracy: 0.6857 - val_loss: 0.5781 - val_accuracy: 0.6952\n",
      "Epoch 5/5\n",
      "453/453 [==============================] - ETA: 0s - loss: 0.5766 - accuracy: 0.6925INFO:tensorflow:Assets written to: MLP201.cv.3.best/assets\n",
      "453/453 [==============================] - 2s 4ms/step - loss: 0.5766 - accuracy: 0.6925 - val_loss: 0.5708 - val_accuracy: 0.7008\n",
      "Fold 3, 5 epochs, 7 sec\n"
     ]
    },
    {
     "data": {
      "image/png": "[encoded data removed]",
      "text/plain": [
       "<Figure size 576x360 with 1 Axes>"
      ]
     },
     "metadata": {
      "needs_background": "light"
     },
     "output_type": "display_data"
    },
    {
     "name": "stdout",
     "output_type": "stream",
     "text": [
      "accuracy: 70.08%\n",
      "COMPILE...\n",
      "...COMPILED\n",
      "FIT\n",
      "Epoch 1/5\n",
      "441/453 [============================>.] - ETA: 0s - loss: 0.6551 - accuracy: 0.6399INFO:tensorflow:Assets written to: MLP201.cv.4.best/assets\n",
      "453/453 [==============================] - 2s 4ms/step - loss: 0.6541 - accuracy: 0.6412 - val_loss: 0.6464 - val_accuracy: 0.6394\n",
      "Epoch 2/5\n",
      "452/453 [============================>.] - ETA: 0s - loss: 0.6362 - accuracy: 0.6412INFO:tensorflow:Assets written to: MLP201.cv.4.best/assets\n",
      "453/453 [==============================] - 2s 4ms/step - loss: 0.6361 - accuracy: 0.6412 - val_loss: 0.6264 - val_accuracy: 0.6394\n",
      "Epoch 3/5\n",
      "443/453 [============================>.] - ETA: 0s - loss: 0.6110 - accuracy: 0.6519INFO:tensorflow:Assets written to: MLP201.cv.4.best/assets\n",
      "453/453 [==============================] - 1s 3ms/step - loss: 0.6109 - accuracy: 0.6524 - val_loss: 0.5970 - val_accuracy: 0.6598\n",
      "Epoch 4/5\n",
      "445/453 [============================>.] - ETA: 0s - loss: 0.5882 - accuracy: 0.6826INFO:tensorflow:Assets written to: MLP201.cv.4.best/assets\n",
      "453/453 [==============================] - 1s 3ms/step - loss: 0.5878 - accuracy: 0.6825 - val_loss: 0.5811 - val_accuracy: 0.6766\n",
      "Epoch 5/5\n",
      "432/453 [===========================>..] - ETA: 0s - loss: 0.5762 - accuracy: 0.6930INFO:tensorflow:Assets written to: MLP201.cv.4.best/assets\n",
      "453/453 [==============================] - 2s 4ms/step - loss: 0.5769 - accuracy: 0.6923 - val_loss: 0.5724 - val_accuracy: 0.6996\n",
      "Fold 4, 5 epochs, 9 sec\n"
     ]
    },
    {
     "data": {
      "image/png": "[encoded data removed]",
      "text/plain": [
       "<Figure size 576x360 with 1 Axes>"
      ]
     },
     "metadata": {
      "needs_background": "light"
     },
     "output_type": "display_data"
    },
    {
     "name": "stdout",
     "output_type": "stream",
     "text": [
      "accuracy: 69.96%\n",
      "COMPILE...\n",
      "...COMPILED\n",
      "FIT\n",
      "Epoch 1/5\n",
      "443/453 [============================>.] - ETA: 0s - loss: 0.6531 - accuracy: 0.6377INFO:tensorflow:Assets written to: MLP201.cv.5.best/assets\n",
      "453/453 [==============================] - 2s 3ms/step - loss: 0.6532 - accuracy: 0.6375 - val_loss: 0.6445 - val_accuracy: 0.6505\n",
      "Epoch 2/5\n",
      "438/453 [============================>.] - ETA: 0s - loss: 0.6451 - accuracy: 0.6396INFO:tensorflow:Assets written to: MLP201.cv.5.best/assets\n",
      "453/453 [==============================] - 1s 3ms/step - loss: 0.6446 - accuracy: 0.6400 - val_loss: 0.6306 - val_accuracy: 0.6505\n",
      "Epoch 3/5\n",
      "443/453 [============================>.] - ETA: 0s - loss: 0.6248 - accuracy: 0.6417INFO:tensorflow:Assets written to: MLP201.cv.5.best/assets\n",
      "453/453 [==============================] - 2s 4ms/step - loss: 0.6245 - accuracy: 0.6422 - val_loss: 0.6041 - val_accuracy: 0.6890\n",
      "Epoch 4/5\n",
      "442/453 [============================>.] - ETA: 0s - loss: 0.5968 - accuracy: 0.6729INFO:tensorflow:Assets written to: MLP201.cv.5.best/assets\n",
      "453/453 [==============================] - 1s 3ms/step - loss: 0.5965 - accuracy: 0.6727 - val_loss: 0.5744 - val_accuracy: 0.6958\n",
      "Epoch 5/5\n",
      "450/453 [============================>.] - ETA: 0s - loss: 0.5814 - accuracy: 0.6901INFO:tensorflow:Assets written to: MLP201.cv.5.best/assets\n",
      "453/453 [==============================] - 2s 4ms/step - loss: 0.5810 - accuracy: 0.6904 - val_loss: 0.5642 - val_accuracy: 0.7002\n",
      "Fold 5, 5 epochs, 8 sec\n"
     ]
    },
    {
     "data": {
      "image/png": "[encoded data removed]",
      "text/plain": [
       "<Figure size 576x360 with 1 Axes>"
      ]
     },
     "metadata": {
      "needs_background": "light"
     },
     "output_type": "display_data"
    },
    {
     "name": "stdout",
     "output_type": "stream",
     "text": [
      "accuracy: 70.02%\n",
      "\n",
      "5-way Cross Validation mean 70.13% (+/- 0.86%)\n",
      "Done\n"
     ]
    }
   ],
   "source": [
    "print (\"Cross valiation\")\n",
    "do_cross_validation(X_train,y_train,model)  \n",
    "print (\"Done\")"
   ]
  },
  {
   "cell_type": "code",
   "execution_count": 13,
   "metadata": {
    "id": "tEmSlrt_gYZZ"
   },
   "outputs": [],
   "source": [
    "def evaluate(model,min,max):\n",
    "    print(\"Evaluate on lengths %d to %d\"%(min,max))\n",
    "    print(\"slice...\")\n",
    "    subset=make_slice(train_set,min,max)\n",
    "    print(\"kmers...\")\n",
    "    (X_valid,y_valid)=make_kmers(max,subset)\n",
    "    print(\"frequencies...\")\n",
    "    X_valid=make_frequencies(X_valid)\n",
    "    print(\"evaluate....\")\n",
    "    scores = model.evaluate(X_valid, y_valid, verbose=1)  # valid = train, expect 100%\n",
    "    print(\"Evaluated on lengths %d to %d\"%(min,max))\n",
    "    print(\"%s: %.2f%%\\n\" % (model.metrics_names[1], scores[1]*100))\n"
   ]
  },
  {
   "cell_type": "code",
   "execution_count": null,
   "metadata": {},
   "outputs": [],
   "source": []
  }
 ],
 "metadata": {
  "accelerator": "GPU",
  "colab": {
   "collapsed_sections": [],
   "name": "MLP_120.ipynb",
   "provenance": []
  },
  "kernelspec": {
   "display_name": "Python 3",
   "language": "python",
   "name": "python3"
  },
  "language_info": {
   "codemirror_mode": {
    "name": "ipython",
    "version": 3
   },
   "file_extension": ".py",
   "mimetype": "text/x-python",
   "name": "python",
   "nbconvert_exporter": "python",
   "pygments_lexer": "ipython3",
   "version": "3.8.3"
  }
 },
 "nbformat": 4,
 "nbformat_minor": 1
}
