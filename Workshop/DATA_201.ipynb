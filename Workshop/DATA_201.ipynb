{
 "cells": [
  {
   "cell_type": "markdown",
   "metadata": {
    "id": "ojm_6E9f9Kcf"
   },
   "source": [
    "# DATA 201\n",
    "* Operate on 16000 GenCode 34 seqs."
   ]
  },
  {
   "cell_type": "code",
   "execution_count": 1,
   "metadata": {
    "colab": {
     "base_uri": "https://localhost:8080/",
     "height": 55
    },
    "id": "hh6XplUvC0j0",
    "outputId": "a9377641-e5ea-4d58-bac4-1c0279f39f14"
   },
   "outputs": [],
   "source": [
    "NC_FILENAME='ncRNA.gc34.processed.fasta'\n",
    "PC_FILENAME='pcRNA.gc34.processed.fasta'\n",
    "DATAPATH=\"\"\n",
    "try:\n",
    "    from google.colab import drive\n",
    "    IN_COLAB = True\n",
    "    PATH='/content/drive/'\n",
    "    drive.mount(PATH)\n",
    "    DATAPATH=PATH+'My Drive/data/'  # must end in \"/\"\n",
    "    NC_FILENAME = DATAPATH+NC_FILENAME\n",
    "    PC_FILENAME = DATAPATH+PC_FILENAME\n",
    "except:\n",
    "    IN_COLAB = False\n",
    "    DATAPATH=\"\" "
   ]
  },
  {
   "cell_type": "code",
   "execution_count": 2,
   "metadata": {
    "id": "VQY7aTj29Kch"
   },
   "outputs": [],
   "source": [
    "import numpy as np\n",
    "import pandas as pd\n",
    "import matplotlib.pyplot as plt\n",
    "K=1"
   ]
  },
  {
   "cell_type": "markdown",
   "metadata": {
    "id": "j7jcg6Wl9Kc2"
   },
   "source": [
    "## Sequence Length Distributions"
   ]
  },
  {
   "cell_type": "code",
   "execution_count": 3,
   "metadata": {
    "id": "1I-O_qzw9Kco"
   },
   "outputs": [],
   "source": [
    "# Assume file was preprocessed to contain one line per seq.\n",
    "# Prefer Pandas dataframe but df does not support append.\n",
    "# For conversion to tensor, must avoid python lists.\n",
    "def load_fasta(filename,label):\n",
    "    DEFLINE='>'\n",
    "    labels=[]\n",
    "    seqs=[]\n",
    "    lens=[]\n",
    "    nums=[]\n",
    "    num=0\n",
    "    with open (filename,'r') as infile:\n",
    "        for line in infile:\n",
    "            if line[0]!=DEFLINE:\n",
    "                seq=line.rstrip()\n",
    "                num += 1   # first seqnum is 1\n",
    "                seqlen=len(seq)\n",
    "                nums.append(num)\n",
    "                labels.append(label)\n",
    "                seqs.append(seq)\n",
    "                lens.append(seqlen)\n",
    "    df1=pd.DataFrame(nums,columns=['seqnum'])\n",
    "    df2=pd.DataFrame(labels,columns=['class'])\n",
    "    df3=pd.DataFrame(seqs,columns=['sequence'])\n",
    "    df4=pd.DataFrame(lens,columns=['seqlen'])\n",
    "    df=pd.concat((df1,df2,df3,df4),axis=1)\n",
    "    return df\n",
    "\n",
    "def separate_X_and_y(data):\n",
    "    y=   data[['class']].copy()\n",
    "    X=   data.drop(columns=['class','seqnum','seqlen'])\n",
    "    return (X,y)\n",
    "\n"
   ]
  },
  {
   "cell_type": "markdown",
   "metadata": {
    "id": "nRAaO9jP9Kcr"
   },
   "source": [
    "## Make K-mers"
   ]
  },
  {
   "cell_type": "code",
   "execution_count": 4,
   "metadata": {
    "id": "e8xcZ4Mr9Kcs"
   },
   "outputs": [],
   "source": [
    "def make_kmer_table(K):\n",
    "    npad='N'*K\n",
    "    shorter_kmers=['']\n",
    "    for i in range(K):\n",
    "        longer_kmers=[]\n",
    "        for mer in shorter_kmers:\n",
    "            longer_kmers.append(mer+'A')\n",
    "            longer_kmers.append(mer+'C')\n",
    "            longer_kmers.append(mer+'G')\n",
    "            longer_kmers.append(mer+'T')\n",
    "        shorter_kmers = longer_kmers\n",
    "    all_kmers = shorter_kmers\n",
    "    kmer_dict = {}\n",
    "    kmer_dict[npad]=0\n",
    "    value=1\n",
    "    for mer in all_kmers:\n",
    "        kmer_dict[mer]=value\n",
    "        value += 1\n",
    "    return kmer_dict\n",
    "\n",
    "KMER_TABLE=make_kmer_table(K)\n",
    "\n",
    "def strings_to_vectors(data,uniform_len):\n",
    "    all_seqs=[]\n",
    "    for seq in data['sequence']:\n",
    "        i=0\n",
    "        seqlen=len(seq)\n",
    "        kmers=[]\n",
    "        while i < seqlen-K+1 -1:  # stop at minus one for spaced seed\n",
    "            #kmer=seq[i:i+2]+seq[i+3:i+5]    # SPACED SEED 2/1/2 for K=4\n",
    "            kmer=seq[i:i+K]  \n",
    "            i += 1\n",
    "            value=KMER_TABLE[kmer]\n",
    "            kmers.append(value)\n",
    "        pad_val=0\n",
    "        while i < uniform_len:\n",
    "            kmers.append(pad_val)\n",
    "            i += 1\n",
    "        all_seqs.append(kmers)\n",
    "    pd2d=pd.DataFrame(all_seqs)\n",
    "    return pd2d   # return 2D dataframe, uniform dimensions"
   ]
  },
  {
   "cell_type": "code",
   "execution_count": 5,
   "metadata": {
    "id": "sEtA0xiV9Kcv"
   },
   "outputs": [],
   "source": [
    "def make_kmers(MAXLEN,train_set):\n",
    "    (X_train_all,y_train_all)=separate_X_and_y(train_set)\n",
    "    X_train_kmers=strings_to_vectors(X_train_all,MAXLEN)\n",
    "    # From pandas dataframe to numpy to list to numpy\n",
    "    num_seqs=len(X_train_kmers)\n",
    "    tmp_seqs=[]\n",
    "    for i in range(num_seqs):\n",
    "        kmer_sequence=X_train_kmers.iloc[i]\n",
    "        tmp_seqs.append(kmer_sequence)\n",
    "    X_train_kmers=np.array(tmp_seqs)\n",
    "    tmp_seqs=None\n",
    "    labels=y_train_all.to_numpy()\n",
    "    return (X_train_kmers,labels)"
   ]
  },
  {
   "cell_type": "code",
   "execution_count": 6,
   "metadata": {
    "id": "jaXyySyO9Kcz"
   },
   "outputs": [],
   "source": [
    "def make_frequencies(Xin):\n",
    "    Xout=[]\n",
    "    VOCABULARY_SIZE= 4**K + 1  # plus one for 'NNN'\n",
    "    for seq in Xin:\n",
    "        freqs =[0] * VOCABULARY_SIZE\n",
    "        total = 0\n",
    "        for kmerval in seq:\n",
    "            freqs[kmerval] += 1\n",
    "            total += 1\n",
    "        for c in range(VOCABULARY_SIZE):\n",
    "            freqs[c] = freqs[c]/total\n",
    "        Xout.append(freqs)\n",
    "    Xnum = np.asarray(Xout)\n",
    "    return (Xnum)\n",
    "def make_slice(data_set,min_len,max_len):\n",
    "    slice = data_set.query('seqlen <= '+str(max_len)+' & seqlen>= '+str(min_len))\n",
    "    return slice"
   ]
  },
  {
   "cell_type": "markdown",
   "metadata": {
    "id": "qd3Wj_vI9KdP"
   },
   "source": [
    "## Train on RNA lengths 200-1Kb"
   ]
  },
  {
   "cell_type": "code",
   "execution_count": 8,
   "metadata": {
    "colab": {
     "base_uri": "https://localhost:8080/",
     "height": 432
    },
    "id": "f8fNo6sn9KdH",
    "outputId": "92ff8a5d-95db-49ff-b63a-3f6d8c374b8c"
   },
   "outputs": [
    {
     "name": "stdout",
     "output_type": "stream",
     "text": [
      "Load data from files.\n",
      "Ready: train_set\n",
      "Data reshape\n"
     ]
    }
   ],
   "source": [
    "MINLEN=200\n",
    "MAXLEN=1000\n",
    "print(\"Load data from files.\")\n",
    "nc_seq=load_fasta(NC_FILENAME,0)\n",
    "pc_seq=load_fasta(PC_FILENAME,1)\n",
    "train_set=pd.concat((nc_seq,pc_seq),axis=0)\n",
    "print(\"Ready: train_set\")\n",
    "#train_set\n",
    "subset=make_slice(train_set,MINLEN,MAXLEN)# One array to two: X and y\n",
    "print (\"Data reshape\")\n",
    "(X_train,y_train)=make_kmers(MAXLEN,subset)\n",
    "X_train=make_frequencies(X_train)"
   ]
  },
  {
   "cell_type": "code",
   "execution_count": 21,
   "metadata": {
    "id": "jN0K-1e2g4WN"
   },
   "outputs": [
    {
     "data": {
      "text/plain": [
       "array([   200,    200,    200, ...,  49287,  91667, 205012])"
      ]
     },
     "execution_count": 21,
     "metadata": {},
     "output_type": "execute_result"
    }
   ],
   "source": [
    "nc_lens = np.sort(nc_seq['seqlen'])\n",
    "pc_lens = np.sort(pc_seq['seqlen'])"
   ]
  },
  {
   "cell_type": "code",
   "execution_count": 25,
   "metadata": {},
   "outputs": [
    {
     "data": {
      "image/png": "[encoded data removed]",
      "text/plain": [
       "<Figure size 432x288 with 1 Axes>"
      ]
     },
     "metadata": {
      "needs_background": "light"
     },
     "output_type": "display_data"
    }
   ],
   "source": [
    "values, base = np.histogram(nc_lens, bins=40)\n",
    "#evaluate the cumulative\n",
    "cumulative = np.cumsum(values)\n",
    "# plot the cumulative function\n",
    "plt.plot(base[:-1], values, c='red')\n",
    "plt.plot(base[:-1], cumulative, c='blue')\n",
    "plt.show()"
   ]
  },
  {
   "cell_type": "code",
   "execution_count": 24,
   "metadata": {},
   "outputs": [
    {
     "data": {
      "image/png": "[encoded data removed]",
      "text/plain": [
       "<Figure size 432x288 with 1 Axes>"
      ]
     },
     "metadata": {
      "needs_background": "light"
     },
     "output_type": "display_data"
    }
   ],
   "source": [
    "sorted_data = nc_lens\n",
    "plt.step(np.concatenate([sorted_data, sorted_data[[-1]]]),\n",
    "         np.arange(sorted_data.size+1))\n",
    "plt.step(np.concatenate([sorted_data[::-1], sorted_data[[0]]]),\n",
    "         np.arange(sorted_data.size+1))\n",
    "plt.show()"
   ]
  },
  {
   "cell_type": "code",
   "execution_count": 46,
   "metadata": {},
   "outputs": [
    {
     "name": "stdout",
     "output_type": "stream",
     "text": [
      "[200, 400, 800, 1600, 3200, 6400, 12800, 25600, 51200, 102400]\n"
     ]
    },
    {
     "data": {
      "image/png": "[encoded data removed]",
      "text/plain": [
       "<Figure size 432x288 with 1 Axes>"
      ]
     },
     "metadata": {
      "needs_background": "light"
     },
     "output_type": "display_data"
    }
   ],
   "source": [
    "bins=[200]\n",
    "for i in range(9):\n",
    "    bins.append(bins[-1]*2)\n",
    "print(bins)\n",
    "plt.hist(nc_lens, bins=bins,log=True)\n",
    "plt.xscale('log')\n",
    "plt.show()"
   ]
  },
  {
   "cell_type": "code",
   "execution_count": 48,
   "metadata": {},
   "outputs": [
    {
     "data": {
      "image/png": "[encoded data removed]",
      "text/plain": [
       "<Figure size 432x288 with 1 Axes>"
      ]
     },
     "metadata": {
      "needs_background": "light"
     },
     "output_type": "display_data"
    }
   ],
   "source": [
    "cumsum = np.cumsum(nc_lens)\n",
    "plt.plot(cumsum)\n",
    "plt.show()"
   ]
  },
  {
   "cell_type": "code",
   "execution_count": 84,
   "metadata": {},
   "outputs": [
    {
     "name": "stdout",
     "output_type": "stream",
     "text": [
      "39\n",
      "40\n"
     ]
    },
    {
     "data": {
      "text/plain": [
       "(array([ 515, 1236, 2062, 2559, 1399, 1113,  816,  614,  520,  439,  413,\n",
       "         374,  329,  282,  276,  273,  245,  276,  220,  211,  194,  144,\n",
       "         129,  132,  108,   91,   78,   89,   78,   68,   64,   63,   54,\n",
       "          52,   43,   44,   35,   27,  334]),\n",
       " array([   200.,    300.,    400.,    500.,    600.,    700.,    800.,\n",
       "           900.,   1000.,   1100.,   1200.,   1300.,   1400.,   1500.,\n",
       "          1600.,   1700.,   1800.,   1900.,   2000.,   2100.,   2200.,\n",
       "          2300.,   2400.,   2500.,   2600.,   2700.,   2800.,   2900.,\n",
       "          3000.,   3100.,   3200.,   3300.,   3400.,   3500.,   3600.,\n",
       "          3700.,   3800.,   3900.,   4000., 200000.]))"
      ]
     },
     "execution_count": 84,
     "metadata": {},
     "output_type": "execute_result"
    }
   ],
   "source": [
    "series = np.linspace(200,50000,499)\n",
    "series = np.linspace(200,4000,39)\n",
    "series = np.append(series,[200000])\n",
    "series\n",
    "nc_heights,bin_edges = np.histogram(nc_lens,bins=series)\n",
    "print(len(heights))\n",
    "print(len(bin_edges))\n",
    "(heights,bin_edges)"
   ]
  },
  {
   "cell_type": "code",
   "execution_count": 120,
   "metadata": {},
   "outputs": [
    {
     "name": "stdout",
     "output_type": "stream",
     "text": [
      "[0, 1, 2, 3, 4, 5, 6, 7, 8, 9, 10, 11, 12, 13, 14, 15, 16, 17, 18, 19, 20, 21, 22, 23, 24, 25, 26, 27, 28]\n"
     ]
    },
    {
     "data": {
      "image/png": "[encoded data removed]",
      "text/plain": [
       "<Figure size 432x288 with 1 Axes>"
      ]
     },
     "metadata": {
      "needs_background": "light"
     },
     "output_type": "display_data"
    }
   ],
   "source": [
    "nc_lens = np.sort(nc_seq['seqlen'])\n",
    "pc_lens = np.sort(pc_seq['seqlen'])\n",
    "series = np.linspace(200,3000,29)\n",
    "series = np.append(series,[200000])\n",
    "nc_heights,bin_edges = np.histogram(nc_lens,bins=series)\n",
    "pc_heights,bin_edges = np.histogram(pc_lens,bins=series)\n",
    "bin_max=bin_edges[1:]  # there are #bars+1 edges; discard left edge\n",
    "bin_num=[]\n",
    "labels=[]\n",
    "pc_num=[]\n",
    "nc_num=[]\n",
    "for i in range(len(bin_max)):\n",
    "    pc_num.append(3*i)  # draw bar in first third of column\n",
    "    nc_num.append(3*i+1)  # draw bar in second third of column\n",
    "    bin_num.append(i)\n",
    "    if i%5==2:   # place X-label at 500, 1000, etc.\n",
    "        labels.append(int(bin_max[i]))\n",
    "    else:\n",
    "        labels.append(None)\n",
    "wid=1\n",
    "plt.bar(pc_num,pc_heights,wid,tick_label=labels,color='black',\n",
    "        label='protein-coding RNA')\n",
    "plt.bar(nc_num,nc_heights,wid,tick_label=labels,color='gray',\n",
    "        label='long non-coding RNA')\n",
    "plt.title('Sequence Length Distribution')\n",
    "plt.ylabel('Count per Bin')\n",
    "plt.xlabel('Length Bins, increment by 100 from <300 to >3000')\n",
    "plt.legend()\n",
    "plt.show()\n"
   ]
  },
  {
   "cell_type": "code",
   "execution_count": 130,
   "metadata": {},
   "outputs": [
    {
     "data": {
      "image/png": "[encoded data removed]",
      "text/plain": [
       "<Figure size 432x288 with 1 Axes>"
      ]
     },
     "metadata": {
      "needs_background": "light"
     },
     "output_type": "display_data"
    }
   ],
   "source": [
    "nc_cum_counts=[]\n",
    "for i in range(len(bin_max)):\n",
    "    nc_cum_counts.append((nc_lens<bin_max[i]).sum()) \n",
    "pc_cum_counts=[]\n",
    "for i in range(len(bin_max)):\n",
    "    pc_cum_counts.append((pc_lens<bin_max[i]).sum()) \n",
    "\n",
    "plt.bar(pc_num,pc_cum_counts,wid,tick_label=labels,color='black',\n",
    "        label='protein-coding RNA')\n",
    "plt.bar(nc_num,nc_cum_counts,wid,tick_label=labels,color='gray',\n",
    "        label='long non-coding RNA')\n",
    "plt.title('Sequence Length Distribution')\n",
    "plt.ylabel('Number of Sequences at or below Cutoff')\n",
    "plt.xlabel('Length Cutoffs, increment by 100 from <300 to >3000')\n",
    "plt.legend()\n",
    "plt.show()\n"
   ]
  },
  {
   "cell_type": "code",
   "execution_count": null,
   "metadata": {},
   "outputs": [],
   "source": []
  }
 ],
 "metadata": {
  "accelerator": "GPU",
  "colab": {
   "collapsed_sections": [],
   "name": "MLP_201.ipynb",
   "provenance": [],
   "toc_visible": true
  },
  "kernelspec": {
   "display_name": "Python 3",
   "language": "python",
   "name": "python3"
  },
  "language_info": {
   "codemirror_mode": {
    "name": "ipython",
    "version": 3
   },
   "file_extension": ".py",
   "mimetype": "text/x-python",
   "name": "python",
   "nbconvert_exporter": "python",
   "pygments_lexer": "ipython3",
   "version": "3.8.3"
  }
 },
 "nbformat": 4,
 "nbformat_minor": 1
}
