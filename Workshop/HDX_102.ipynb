{
 "cells": [
  {
   "cell_type": "markdown",
   "metadata": {
    "id": "aVjzLkNimqS8"
   },
   "source": [
    "# mRNN 101 with GenCode 25 and Hendrix-like prep"
   ]
  },
  {
   "cell_type": "code",
   "execution_count": 1,
   "metadata": {
    "colab": {
     "base_uri": "https://localhost:8080/",
     "height": 54
    },
    "id": "ubTxCruBmqS-",
    "outputId": "fd00113c-6a93-46ad-9f73-497b0e5e41d5"
   },
   "outputs": [],
   "source": [
    "#from google.colab import drive\n",
    "#PATH='/content/drive/'\n",
    "#drive.mount(PATH)\n",
    "#DATAPATH=PATH+'My Drive/data/'\n",
    "#PC_FILENAME = DATAPATH+'pcRNA.fasta'\n",
    "#NC_FILENAME = DATAPATH+'ncRNA.fasta'\n",
    "# LOCAL\n",
    "PCT_FILENAME = 'train.gc25.pcRNA.fasta'\n",
    "NCT_FILENAME = 'train.gc25.ncRNA.fasta'\n",
    "PCV_FILENAME = 'valid.gc25.pcRNA.fasta'\n",
    "NCV_FILENAME = 'valid.gc25.ncRNA.fasta'"
   ]
  },
  {
   "cell_type": "code",
   "execution_count": 2,
   "metadata": {
    "id": "7OrrqZOfmqTF"
   },
   "outputs": [],
   "source": [
    "import numpy as np\n",
    "import pandas as pd\n",
    "import pandas as pd\n",
    "import matplotlib.pyplot as plt\n",
    "import tensorflow as tf\n",
    "from tensorflow import keras\n",
    "from sklearn.model_selection import ShuffleSplit\n",
    "from keras.models import Sequential\n",
    "from keras.layers import Bidirectional\n",
    "from keras.layers import GRU\n",
    "from keras.layers import Dense\n",
    "from sklearn.model_selection import StratifiedKFold\n",
    "import time\n",
    "\n",
    "tf.keras.backend.set_floatx('float32')\n",
    "\n",
    "EPOCHS=100\n",
    "SPLITS=1\n",
    "K=1\n",
    "EMBED_DIMEN=16\n",
    "FILENAME='HDX102'"
   ]
  },
  {
   "cell_type": "markdown",
   "metadata": {
    "id": "0Jl4LG19mqTK"
   },
   "source": [
    "## Load and partition sequences"
   ]
  },
  {
   "cell_type": "code",
   "execution_count": 3,
   "metadata": {
    "id": "kffm79SEmqTL"
   },
   "outputs": [],
   "source": [
    "# Assume file was preprocessed to contain one line per seq.\n",
    "# Prefer Pandas dataframe but df does not support append.\n",
    "# For conversion to tensor, must avoid python lists.\n",
    "def load_fasta(filename,label):\n",
    "    DEFLINE='>'\n",
    "    labels=[]\n",
    "    seqs=[]\n",
    "    lens=[]\n",
    "    nums=[]\n",
    "    num=0\n",
    "    with open (filename,'r') as infile:\n",
    "        for line in infile:\n",
    "            if line[0]!=DEFLINE:\n",
    "                seq=line.rstrip()\n",
    "                num += 1   # first seqnum is 1\n",
    "                seqlen=len(seq)\n",
    "                nums.append(num)\n",
    "                labels.append(label)\n",
    "                seqs.append(seq)\n",
    "                lens.append(seqlen)\n",
    "    df1=pd.DataFrame(nums,columns=['seqnum'])\n",
    "    df2=pd.DataFrame(labels,columns=['class'])\n",
    "    df3=pd.DataFrame(seqs,columns=['sequence'])\n",
    "    df4=pd.DataFrame(lens,columns=['seqlen'])\n",
    "    df=pd.concat((df1,df2,df3,df4),axis=1)\n",
    "    return df\n",
    "\n",
    "# Split into train/test stratified by sequence length.\n",
    "def sizebin(df):\n",
    "    return pd.cut(df[\"seqlen\"],\n",
    "                              bins=[0,1000,2000,4000,8000,16000,np.inf],\n",
    "                              labels=[0,1,2,3,4,5])\n",
    "def make_train_test(data):\n",
    "    bin_labels= sizebin(data)\n",
    "    from sklearn.model_selection import StratifiedShuffleSplit\n",
    "    splitter = StratifiedShuffleSplit(n_splits=1, test_size=0.2, random_state=37863)\n",
    "    # split(x,y) expects that y is the labels. \n",
    "    # Trick: Instead of y, give it it the bin labels that we generated.\n",
    "    for train_index,test_index in splitter.split(data,bin_labels):\n",
    "        train_set = data.iloc[train_index]\n",
    "        test_set = data.iloc[test_index]\n",
    "    return (train_set,test_set)\n",
    "\n",
    "def separate_X_and_y(data):\n",
    "    y=   data[['class']].copy()\n",
    "    X=   data.drop(columns=['class','seqnum','seqlen'])\n",
    "    return (X,y)\n",
    "\n",
    "def make_slice(data_set,min_len,max_len):\n",
    "    print(\"original \"+str(data_set.shape))\n",
    "    too_short = data_set[ data_set['seqlen'] < min_len ].index\n",
    "    no_short=data_set.drop(too_short)\n",
    "    print(\"no short \"+str(no_short.shape))\n",
    "    too_long = no_short[ no_short['seqlen'] > max_len ].index  # strict\n",
    "    no_long_no_short=no_short.drop(too_long)\n",
    "    print(\"no long, no short \"+str(no_long_no_short.shape))\n",
    "    return no_long_no_short\n"
   ]
  },
  {
   "cell_type": "code",
   "execution_count": 4,
   "metadata": {
    "id": "Uoj6Nc3tmqTQ"
   },
   "outputs": [],
   "source": [
    "def make_kmer_table(K):\n",
    "    npad='N'*K\n",
    "    shorter_kmers=['']\n",
    "    for i in range(K):\n",
    "        longer_kmers=[]\n",
    "        for mer in shorter_kmers:\n",
    "            longer_kmers.append(mer+'A')\n",
    "            longer_kmers.append(mer+'C')\n",
    "            longer_kmers.append(mer+'G')\n",
    "            longer_kmers.append(mer+'T')\n",
    "        shorter_kmers = longer_kmers\n",
    "    all_kmers = shorter_kmers\n",
    "    kmer_dict = {}\n",
    "    kmer_dict[npad]=0\n",
    "    value=1\n",
    "    for mer in all_kmers:\n",
    "        kmer_dict[mer]=value\n",
    "        value += 1\n",
    "    return kmer_dict\n",
    "\n",
    "KMER_TABLE=make_kmer_table(K)\n",
    "\n",
    "def strings_to_vectors(data,uniform_len):\n",
    "    all_seqs=[]\n",
    "    for seq in data['sequence']:\n",
    "        i=0\n",
    "        seqlen=len(seq)\n",
    "        kmers=[]\n",
    "        while i < seqlen-K+1:\n",
    "            kmer=seq[i:i+K]\n",
    "            i += 1\n",
    "            value=KMER_TABLE[kmer]\n",
    "            kmers.append(value)\n",
    "        pad_val=0\n",
    "        while i < uniform_len:\n",
    "            kmers.append(pad_val)\n",
    "            i += 1\n",
    "        all_seqs.append(kmers)\n",
    "    pd2d=pd.DataFrame(all_seqs)\n",
    "    return pd2d   # return 2D dataframe, uniform dimensions"
   ]
  },
  {
   "cell_type": "code",
   "execution_count": 5,
   "metadata": {
    "id": "cn1oP6rcmqTa"
   },
   "outputs": [],
   "source": [
    "def build_model(maxlen,dimen):\n",
    "    vocabulary_size=4**K+1   # e.g. K=3 => 64 DNA K-mers + 'NNN'\n",
    "    act=\"sigmoid\"\n",
    "    dt='float32'\n",
    "\n",
    "    neurons=16\n",
    "    rnn = keras.models.Sequential()\n",
    "    embed_layer = keras.layers.Embedding(\n",
    "        vocabulary_size,EMBED_DIMEN,input_length=maxlen);\n",
    "    rnn1_layer = keras.layers.Bidirectional(\n",
    "        keras.layers.GRU(neurons, return_sequences=True, dropout=0.50, \n",
    "            input_shape=[maxlen,dimen]))\n",
    "    rnn2_layer = keras.layers.Bidirectional(\n",
    "        keras.layers.GRU(neurons, dropout=0.50, return_sequences=True))\n",
    "    dense1_layer = keras.layers.Dense(neurons,activation=act,dtype=dt)\n",
    "    dense2_layer = keras.layers.Dense(neurons,activation=act,dtype=dt)\n",
    "    output_layer = keras.layers.Dense(1,activation=act,dtype=dt)\n",
    "\n",
    "    rnn.add(embed_layer)\n",
    "    rnn.add(rnn1_layer)\n",
    "    rnn.add(rnn2_layer)\n",
    "    rnn.add(dense1_layer)\n",
    "    rnn.add(dense2_layer)\n",
    "    rnn.add(output_layer)\n",
    "\n",
    "    bc=tf.keras.losses.BinaryCrossentropy(from_logits=False)\n",
    "    print(\"COMPILE\")\n",
    "    rnn.compile(loss=bc, optimizer=\"Adam\",metrics=[\"accuracy\"])\n",
    "    return rnn"
   ]
  },
  {
   "cell_type": "code",
   "execution_count": 6,
   "metadata": {
    "id": "7xpthbwcmqTe"
   },
   "outputs": [],
   "source": [
    "def train_and_validate(X,y,Xvalid,yvalid,eps,maxlen,dimen):\n",
    "    cv_scores = []\n",
    "    fold=0\n",
    "    rnn2=None\n",
    "    X_train=X\n",
    "    y_train=y\n",
    "    X_valid=Xvalid\n",
    "    y_valid=yvalid\n",
    "\n",
    "    print(\"BUILD MODEL\")\n",
    "    rnn2=build_model(maxlen,dimen)\n",
    "\n",
    "    print(\"FIT\")\n",
    "    # this is complaining about string to float\n",
    "    start_time=time.time()\n",
    "    history=rnn2.fit(X_train, y_train, # batch_size=10, default=32 works nicely\n",
    "            epochs=eps, verbose=1,  # verbose=1 for ascii art, verbose=0 for none\n",
    "            validation_data=(X_valid,y_valid) )\n",
    "    end_time=time.time()\n",
    "    elapsed_time=(end_time-start_time)\n",
    "\n",
    "    fold += 1\n",
    "    print(\"Fold %d, %d epochs, %d sec\"%(fold,eps,elapsed_time))\n",
    "\n",
    "    pd.DataFrame(history.history).plot(figsize=(8,5))\n",
    "    plt.grid(True)\n",
    "    plt.gca().set_ylim(0,1)\n",
    "    plt.show()\n",
    "\n",
    "    scores = rnn2.evaluate(X_valid, y_valid, verbose=0)\n",
    "    print(\"%s: %.2f%%\" % (rnn2.metrics_names[1], scores[1]*100))\n",
    "    # What are the other metrics_names?\n",
    "    # Try this from Geron page 505:\n",
    "    # np.mean(keras.losses.mean_squared_error(y_valid,y_pred))\n",
    "    cv_scores.append(scores[1] * 100)\n",
    "    print()\n",
    "    print(\"Validation core mean %.2f%% (+/- %.2f%%)\" % (np.mean(cv_scores), np.std(cv_scores)))\n",
    "    return rnn2"
   ]
  },
  {
   "cell_type": "code",
   "execution_count": 7,
   "metadata": {
    "id": "5E_UIKJEmqTh"
   },
   "outputs": [],
   "source": [
    "def make_kmers(MINLEN,MAXLEN,train_set):\n",
    "    (X_train_all,y_train_all)=separate_X_and_y(train_set)\n",
    "\n",
    "    # The returned values are Pandas dataframes.\n",
    "    # print(X_train_all.shape,y_train_all.shape)\n",
    "    # (X_train_all,y_train_all)\n",
    "    # y: Pandas dataframe to Python list.\n",
    "    # y_train_all=y_train_all.values.tolist()\n",
    "    # The sequences lengths are bounded but not uniform.\n",
    "    X_train_all\n",
    "    print(type(X_train_all))\n",
    "    print(X_train_all.shape)\n",
    "    print(X_train_all.iloc[0])\n",
    "    print(len(X_train_all.iloc[0]['sequence']))\n",
    "\n",
    "    # X: List of string to List of uniform-length ordered lists of K-mers.\n",
    "    X_train_kmers=strings_to_vectors(X_train_all,MAXLEN)\n",
    "    # X: true 2D array (no more lists)\n",
    "    X_train_kmers.shape\n",
    "\n",
    "    print(\"transform...\")\n",
    "    # From pandas dataframe to numpy to list to numpy\n",
    "    print(type(X_train_kmers))\n",
    "    num_seqs=len(X_train_kmers)\n",
    "    tmp_seqs=[]\n",
    "    for i in range(num_seqs):\n",
    "        kmer_sequence=X_train_kmers.iloc[i]\n",
    "        tmp_seqs.append(kmer_sequence)\n",
    "    X_train_kmers=np.array(tmp_seqs)\n",
    "    tmp_seqs=None\n",
    "    print(type(X_train_kmers))\n",
    "    print(X_train_kmers)\n",
    "\n",
    "    labels=y_train_all.to_numpy()\n",
    "    return (X_train_kmers,labels)"
   ]
  },
  {
   "cell_type": "code",
   "execution_count": 8,
   "metadata": {
    "colab": {
     "base_uri": "https://localhost:8080/",
     "height": 452
    },
    "id": "Dwd6l1s8mqTn",
    "outputId": "40080e35-404c-424a-f1b5-dfbbf9c8677c"
   },
   "outputs": [
    {
     "name": "stdout",
     "output_type": "stream",
     "text": [
      "Load data from files.\n",
      "FASTA LOADED\n"
     ]
    }
   ],
   "source": [
    "print(\"Load data from files.\")\n",
    "nct_seq=load_fasta(NCT_FILENAME,0)\n",
    "pct_seq=load_fasta(PCT_FILENAME,1)\n",
    "ncv_seq=load_fasta(NCV_FILENAME,0)\n",
    "pcv_seq=load_fasta(PCV_FILENAME,1)\n",
    "all_train=pd.concat((nct_seq,pct_seq),axis=0)\n",
    "all_valid=pd.concat((ncv_seq,pcv_seq),axis=0)\n",
    "nct_seq=None\n",
    "pct_seq=None\n",
    "ncv_seq=None\n",
    "pcv_seq=None\n",
    "\n",
    "##print(\"Put aside the test portion.\")\n",
    "##(train_set,test_set)=make_train_test(all_seq)\n",
    "\n",
    "print(\"FASTA LOADED\")\n"
   ]
  },
  {
   "cell_type": "markdown",
   "metadata": {
    "id": "_3KW8eUOmqTs",
    "scrolled": true
   },
   "source": [
    "## Len 200-1Kb\n"
   ]
  },
  {
   "cell_type": "code",
   "execution_count": null,
   "metadata": {
    "colab": {
     "base_uri": "https://localhost:8080/",
     "height": 1000
    },
    "id": "_evesETdmqTs",
    "outputId": "fd3775f6-979c-404d-f3c1-b92ac8770355"
   },
   "outputs": [
    {
     "name": "stdout",
     "output_type": "stream",
     "text": [
      "Working on full training set, slice by sequence length.\n",
      "Slice size range [200 - 1000)\n",
      "original (32000, 4)\n",
      "no short (32000, 4)\n",
      "no long, no short (32000, 4)\n",
      "original (1000, 4)\n",
      "no short (1000, 4)\n",
      "no long, no short (1000, 4)\n",
      "Sequence to Kmer\n",
      "<class 'pandas.core.frame.DataFrame'>\n",
      "(32000, 1)\n",
      "sequence    GTGCACACGGCTCCCATGCGTTGTCTTCCGAGCGTCAGGCCGCCCC...\n",
      "Name: 0, dtype: object\n",
      "712\n",
      "transform...\n",
      "<class 'pandas.core.frame.DataFrame'>\n",
      "<class 'numpy.ndarray'>\n",
      "[[3 4 3 ... 0 0 0]\n",
      " [4 2 1 ... 0 0 0]\n",
      " [3 3 3 ... 0 0 0]\n",
      " ...\n",
      " [1 4 3 ... 0 0 0]\n",
      " [1 4 3 ... 0 0 0]\n",
      " [1 4 3 ... 0 0 0]]\n",
      "<class 'pandas.core.frame.DataFrame'>\n",
      "(1000, 1)\n",
      "sequence    CTCTGTTCACGGAAAGGGCCTGGGAGCTGCAACACCTCAACAGCAA...\n",
      "Name: 0, dtype: object\n",
      "693\n",
      "transform...\n",
      "<class 'pandas.core.frame.DataFrame'>\n",
      "<class 'numpy.ndarray'>\n",
      "[[2 4 2 ... 0 0 0]\n",
      " [3 3 4 ... 0 0 0]\n",
      " [2 1 2 ... 0 0 0]\n",
      " ...\n",
      " [4 4 4 ... 0 0 0]\n",
      " [3 1 2 ... 0 0 0]\n",
      " [3 4 3 ... 0 0 0]]\n",
      "Compile the model\n",
      "COMPILE\n",
      "Model: \"sequential\"\n",
      "_________________________________________________________________\n",
      "Layer (type)                 Output Shape              Param #   \n",
      "=================================================================\n",
      "embedding (Embedding)        (None, 1000, 16)          80        \n",
      "_________________________________________________________________\n",
      "bidirectional (Bidirectional (None, 1000, 32)          3264      \n",
      "_________________________________________________________________\n",
      "bidirectional_1 (Bidirection (None, 1000, 32)          4800      \n",
      "_________________________________________________________________\n",
      "dense (Dense)                (None, 1000, 16)          528       \n",
      "_________________________________________________________________\n",
      "dense_1 (Dense)              (None, 1000, 16)          272       \n",
      "_________________________________________________________________\n",
      "dense_2 (Dense)              (None, 1000, 1)           17        \n",
      "=================================================================\n",
      "Total params: 8,961\n",
      "Trainable params: 8,961\n",
      "Non-trainable params: 0\n",
      "_________________________________________________________________\n",
      "None\n",
      "Train and validate\n",
      "BUILD MODEL\n",
      "COMPILE\n",
      "FIT\n",
      "Epoch 1/100\n",
      "1000/1000 [==============================] - 756s 756ms/step - loss: 0.6882 - accuracy: 0.5430 - val_loss: 0.6845 - val_accuracy: 0.5519\n",
      "Epoch 2/100\n",
      "1000/1000 [==============================] - 747s 747ms/step - loss: 0.6430 - accuracy: 0.6425 - val_loss: 0.6319 - val_accuracy: 0.6611\n",
      "Epoch 3/100\n",
      "1000/1000 [==============================] - 745s 745ms/step - loss: 0.6271 - accuracy: 0.6620 - val_loss: 0.6153 - val_accuracy: 0.6827\n",
      "Epoch 4/100\n",
      "1000/1000 [==============================] - 741s 741ms/step - loss: 0.6224 - accuracy: 0.6649 - val_loss: 0.6116 - val_accuracy: 0.6780\n",
      "Epoch 5/100\n",
      "1000/1000 [==============================] - 743s 743ms/step - loss: 0.6171 - accuracy: 0.6667 - val_loss: 0.6191 - val_accuracy: 0.6661\n",
      "Epoch 6/100\n",
      "1000/1000 [==============================] - 742s 742ms/step - loss: 0.6119 - accuracy: 0.6720 - val_loss: 0.6058 - val_accuracy: 0.6844\n",
      "Epoch 7/100\n",
      "1000/1000 [==============================] - 741s 741ms/step - loss: 0.6098 - accuracy: 0.6714 - val_loss: 0.6032 - val_accuracy: 0.6845\n",
      "Epoch 8/100\n",
      "1000/1000 [==============================] - 741s 741ms/step - loss: 0.6041 - accuracy: 0.6764 - val_loss: 0.6025 - val_accuracy: 0.6849\n",
      "Epoch 9/100\n",
      "1000/1000 [==============================] - 745s 745ms/step - loss: 0.6009 - accuracy: 0.6789 - val_loss: 0.6000 - val_accuracy: 0.6890\n",
      "Epoch 10/100\n",
      " 696/1000 [===================>..........] - ETA: 3:47 - loss: 0.5977 - accuracy: 0.6833"
     ]
    }
   ],
   "source": [
    "MINLEN=200\n",
    "MAXLEN=1000\n",
    "\n",
    "print(\"Working on full training set, slice by sequence length.\")\n",
    "print(\"Slice size range [%d - %d)\"%(MINLEN,MAXLEN))\n",
    "train_subset=make_slice(all_train,MINLEN,MAXLEN)# One array to two: X and y\n",
    "valid_subset=make_slice(all_valid,MINLEN,MAXLEN)# One array to two: X and y\n",
    "\n",
    "print (\"Sequence to Kmer\")\n",
    "(X_train,y_train)=make_kmers(MINLEN,MAXLEN,train_subset)\n",
    "(X_valid,y_valid)=make_kmers(MINLEN,MAXLEN,valid_subset)\n",
    "print (\"Compile the model\")\n",
    "model=build_model(MAXLEN,EMBED_DIMEN)\n",
    "print(model.summary())  # Print this only once\n",
    "print (\"Train and validate\")\n",
    "model1=train_and_validate(X_train,y_train,X_valid,y_valid,EPOCHS,MAXLEN,EMBED_DIMEN)\n"
   ]
  },
  {
   "cell_type": "code",
   "execution_count": null,
   "metadata": {},
   "outputs": [],
   "source": [
    "model1.save(FILENAME+'.model')"
   ]
  },
  {
   "cell_type": "code",
   "execution_count": null,
   "metadata": {
    "id": "SW619OmCmqT7"
   },
   "outputs": [],
   "source": []
  }
 ],
 "metadata": {
  "colab": {
   "collapsed_sections": [],
   "name": "GRU_101.ipynb",
   "provenance": []
  },
  "kernelspec": {
   "display_name": "Python 3",
   "language": "python",
   "name": "python3"
  },
  "language_info": {
   "codemirror_mode": {
    "name": "ipython",
    "version": 3
   },
   "file_extension": ".py",
   "mimetype": "text/x-python",
   "name": "python",
   "nbconvert_exporter": "python",
   "pygments_lexer": "ipython3",
   "version": "3.7.3"
  }
 },
 "nbformat": 4,
 "nbformat_minor": 1
}
