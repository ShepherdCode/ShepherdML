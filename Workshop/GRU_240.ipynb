{
  "nbformat": 4,
  "nbformat_minor": 0,
  "metadata": {
    "accelerator": "GPU",
    "colab": {
      "name": "GRU_240.ipynb",
      "provenance": [],
      "collapsed_sections": []
    },
    "kernelspec": {
      "display_name": "Python 3",
      "language": "python",
      "name": "python3"
    },
    "language_info": {
      "codemirror_mode": {
        "name": "ipython",
        "version": 3
      },
      "file_extension": ".py",
      "mimetype": "text/x-python",
      "name": "python",
      "nbconvert_exporter": "python",
      "pygments_lexer": "ipython3",
      "version": "3.8.3"
    }
  },
  "cells": [
    {
      "cell_type": "markdown",
      "metadata": {
        "id": "ojm_6E9f9Kcf"
      },
      "source": [
        "# GRU 240\n",
        "Test the RNA length effect."
      ]
    },
    {
      "cell_type": "code",
      "metadata": {
        "id": "hh6XplUvC0j0",
        "outputId": "91727546-2b7e-436e-e026-79721f8ba3b5",
        "colab": {
          "base_uri": "https://localhost:8080/"
        }
      },
      "source": [
        "NC_FILENAME='ncRNA.gc34.processed.fasta'\n",
        "PC_FILENAME='pcRNA.gc34.processed.fasta'\n",
        "DATAPATH=\"\"\n",
        "try:\n",
        "    from google.colab import drive\n",
        "    IN_COLAB = True\n",
        "    PATH='/content/drive/'\n",
        "    drive.mount(PATH)\n",
        "    DATAPATH=PATH+'My Drive/data/'  # must end in \"/\"\n",
        "    NC_FILENAME = DATAPATH+NC_FILENAME\n",
        "    PC_FILENAME = DATAPATH+PC_FILENAME\n",
        "except:\n",
        "    IN_COLAB = False\n",
        "    DATAPATH=\"\" \n",
        "\n",
        "EPOCHS=100  # use 2 for debug, 200 for real\n",
        "K=3\n",
        "VOCABULARY_SIZE=4**K+1   # e.g. K=3 => 64 DNA K-mers + 'NNN'\n",
        "EMBED_DIMEN=4\n",
        "FILENAME='GRU240'\n",
        "NEURONS=4\n",
        "ACT=\"tanh\"\n",
        "DROP=0.5\n"
      ],
      "execution_count": 82,
      "outputs": [
        {
          "output_type": "stream",
          "text": [
            "Drive already mounted at /content/drive/; to attempt to forcibly remount, call drive.mount(\"/content/drive/\", force_remount=True).\n"
          ],
          "name": "stdout"
        }
      ]
    },
    {
      "cell_type": "code",
      "metadata": {
        "id": "VQY7aTj29Kch"
      },
      "source": [
        "import numpy as np\n",
        "import pandas as pd\n",
        "import matplotlib.pyplot as plt\n",
        "from sklearn.model_selection import ShuffleSplit\n",
        "from sklearn.model_selection import cross_val_score\n",
        "from sklearn.model_selection import RepeatedKFold\n",
        "from sklearn.model_selection import StratifiedKFold\n",
        "import tensorflow as tf\n",
        "from tensorflow import keras\n",
        "from keras.wrappers.scikit_learn import KerasRegressor\n",
        "from keras.models import Sequential\n",
        "from keras.layers import Bidirectional\n",
        "from keras.layers import GRU\n",
        "from keras.layers import Dense\n",
        "from keras.layers import LayerNormalization\n",
        "import time\n",
        "dt='float32'\n",
        "tf.keras.backend.set_floatx(dt)"
      ],
      "execution_count": 83,
      "outputs": []
    },
    {
      "cell_type": "markdown",
      "metadata": {
        "id": "j7jcg6Wl9Kc2"
      },
      "source": [
        "## Build model"
      ]
    },
    {
      "cell_type": "code",
      "metadata": {
        "id": "qLFNO1Xa9Kc3"
      },
      "source": [
        "def compile_model(model):\n",
        "    adam_default_learn_rate = 0.001\n",
        "    schedule = tf.keras.optimizers.schedules.ExponentialDecay(\n",
        "        initial_learning_rate = adam_default_learn_rate*10,\n",
        "        #decay_steps=100000, decay_rate=0.96, staircase=True)\n",
        "        decay_steps=10000, decay_rate=0.99, staircase=True)\n",
        "    # learn rate = initial_learning_rate * decay_rate ^ (step / decay_steps)\n",
        "    alrd = tf.keras.optimizers.Adam(learning_rate=schedule)\n",
        "    bc=tf.keras.losses.BinaryCrossentropy(from_logits=False)\n",
        "    print(\"COMPILE...\")\n",
        "    #model.compile(loss=bc, optimizer=alrd, metrics=[\"accuracy\"])\n",
        "    model.compile(loss=bc, optimizer=\"adam\", metrics=[\"accuracy\"])\n",
        "    print(\"...COMPILED\")\n",
        "    return model\n",
        "\n",
        "def build_model():\n",
        "    embed_layer  = keras.layers.Embedding(\n",
        "        #VOCABULARY_SIZE, EMBED_DIMEN, input_length=1000, input_length=1000, mask_zero=True)\n",
        "        #input_dim=[None,VOCABULARY_SIZE], output_dim=EMBED_DIMEN, mask_zero=True)\n",
        "        input_dim=VOCABULARY_SIZE, output_dim=EMBED_DIMEN, mask_zero=True)\n",
        "    #rnn1_layer = keras.layers.Bidirectional(\n",
        "    rnn1_layer = keras.layers.GRU(NEURONS, return_sequences=False,  #   True, \n",
        "          input_shape=[1000,EMBED_DIMEN], activation=ACT, dropout=DROP)#)#bi\n",
        "    #rnn2_layer = keras.layers.Bidirectional(\n",
        "    rnn2_layer = keras.layers.GRU(NEURONS, return_sequences=False, \n",
        "        activation=ACT, dropout=DROP)#)#bi\n",
        "    dense1_layer = keras.layers.Dense(NEURONS, activation=ACT,dtype=dt)\n",
        "    #drop1_layer = keras.layers.Dropout(DROP)\n",
        "    dense2_layer = keras.layers.Dense(NEURONS, activation=ACT,dtype=dt)\n",
        "    #drop2_layer = keras.layers.Dropout(DROP)\n",
        "    output_layer = keras.layers.Dense(1, activation=\"sigmoid\", dtype=dt)\n",
        "    mlp = keras.models.Sequential()\n",
        "    mlp.add(embed_layer)\n",
        "    mlp.add(rnn1_layer)\n",
        "    #mlp.add(rnn2_layer)\n",
        "    #mlp.add(dense1_layer)\n",
        "    #mlp.add(drop1_layer)\n",
        "    #mlp.add(dense2_layer)\n",
        "    #mlp.add(drop2_layer)\n",
        "    mlp.add(output_layer)\n",
        "    mlpc = compile_model(mlp)\n",
        "    return mlpc"
      ],
      "execution_count": 84,
      "outputs": []
    },
    {
      "cell_type": "markdown",
      "metadata": {
        "id": "WV6k-xOm9Kcn"
      },
      "source": [
        "## Load and partition sequences"
      ]
    },
    {
      "cell_type": "code",
      "metadata": {
        "id": "1I-O_qzw9Kco"
      },
      "source": [
        "# Assume file was preprocessed to contain one line per seq.\n",
        "# Prefer Pandas dataframe but df does not support append.\n",
        "# For conversion to tensor, must avoid python lists.\n",
        "def load_fasta(filename,label):\n",
        "    DEFLINE='>'\n",
        "    labels=[]\n",
        "    seqs=[]\n",
        "    lens=[]\n",
        "    nums=[]\n",
        "    num=0\n",
        "    with open (filename,'r') as infile:\n",
        "        for line in infile:\n",
        "            if line[0]!=DEFLINE:\n",
        "                seq=line.rstrip()\n",
        "                num += 1   # first seqnum is 1\n",
        "                seqlen=len(seq)\n",
        "                nums.append(num)\n",
        "                labels.append(label)\n",
        "                seqs.append(seq)\n",
        "                lens.append(seqlen)\n",
        "    df1=pd.DataFrame(nums,columns=['seqnum'])\n",
        "    df2=pd.DataFrame(labels,columns=['class'])\n",
        "    df3=pd.DataFrame(seqs,columns=['sequence'])\n",
        "    df4=pd.DataFrame(lens,columns=['seqlen'])\n",
        "    df=pd.concat((df1,df2,df3,df4),axis=1)\n",
        "    return df\n",
        "\n",
        "def separate_X_and_y(data):\n",
        "    y=   data[['class']].copy()\n",
        "    X=   data.drop(columns=['class','seqnum','seqlen'])\n",
        "    return (X,y)\n",
        "\n"
      ],
      "execution_count": 85,
      "outputs": []
    },
    {
      "cell_type": "markdown",
      "metadata": {
        "id": "nRAaO9jP9Kcr"
      },
      "source": [
        "## Make K-mers"
      ]
    },
    {
      "cell_type": "code",
      "metadata": {
        "id": "e8xcZ4Mr9Kcs"
      },
      "source": [
        "def make_kmer_table(K):\n",
        "    npad='N'*K\n",
        "    shorter_kmers=['']\n",
        "    for i in range(K):\n",
        "        longer_kmers=[]\n",
        "        for mer in shorter_kmers:\n",
        "            longer_kmers.append(mer+'A')\n",
        "            longer_kmers.append(mer+'C')\n",
        "            longer_kmers.append(mer+'G')\n",
        "            longer_kmers.append(mer+'T')\n",
        "        shorter_kmers = longer_kmers\n",
        "    all_kmers = shorter_kmers\n",
        "    kmer_dict = {}\n",
        "    kmer_dict[npad]=0\n",
        "    value=1\n",
        "    for mer in all_kmers:\n",
        "        kmer_dict[mer]=value\n",
        "        value += 1\n",
        "    return kmer_dict\n",
        "\n",
        "KMER_TABLE=make_kmer_table(K)\n",
        "\n",
        "def strings_to_vectors(data,uniform_len):\n",
        "    all_seqs=[]\n",
        "    for seq in data['sequence']:\n",
        "        i=0\n",
        "        seqlen=len(seq)\n",
        "        kmers=[]\n",
        "        while i < seqlen-K+1 -1:  # stop at minus one for spaced seed\n",
        "            #kmer=seq[i:i+2]+seq[i+3:i+5]    # SPACED SEED 2/1/2 for K=4\n",
        "            kmer=seq[i:i+K]  \n",
        "            i += 1\n",
        "            value=KMER_TABLE[kmer]\n",
        "            kmers.append(value)\n",
        "        pad_val=0\n",
        "        while i < uniform_len:\n",
        "            kmers.append(pad_val)\n",
        "            i += 1\n",
        "        all_seqs.append(kmers)\n",
        "    pd2d=pd.DataFrame(all_seqs)\n",
        "    return pd2d   # return 2D dataframe, uniform dimensions"
      ],
      "execution_count": 86,
      "outputs": []
    },
    {
      "cell_type": "code",
      "metadata": {
        "id": "sEtA0xiV9Kcv"
      },
      "source": [
        "def make_kmers(MAXLEN,train_set):\n",
        "    (X_train_all,y_train_all)=separate_X_and_y(train_set)\n",
        "    X_train_kmers=strings_to_vectors(X_train_all,MAXLEN)\n",
        "    # From pandas dataframe to numpy to list to numpy\n",
        "    num_seqs=len(X_train_kmers)\n",
        "    tmp_seqs=[]\n",
        "    for i in range(num_seqs):\n",
        "        kmer_sequence=X_train_kmers.iloc[i]\n",
        "        tmp_seqs.append(kmer_sequence)\n",
        "    X_train_kmers=np.array(tmp_seqs)\n",
        "    tmp_seqs=None\n",
        "    labels=y_train_all.to_numpy()\n",
        "    return (X_train_kmers,labels)"
      ],
      "execution_count": 87,
      "outputs": []
    },
    {
      "cell_type": "code",
      "metadata": {
        "id": "jaXyySyO9Kcz"
      },
      "source": [
        "def make_frequencies(Xin):\n",
        "    Xout=[]\n",
        "    VOCABULARY_SIZE= 4**K + 1  # plus one for 'NNN'\n",
        "    for seq in Xin:\n",
        "        freqs =[0] * VOCABULARY_SIZE\n",
        "        total = 0\n",
        "        for kmerval in seq:\n",
        "            freqs[kmerval] += 1\n",
        "            total += 1\n",
        "        for c in range(VOCABULARY_SIZE):\n",
        "            freqs[c] = freqs[c]/total\n",
        "        Xout.append(freqs)\n",
        "    Xnum = np.asarray(Xout)\n",
        "    return (Xnum)\n",
        "def make_slice(data_set,min_len,max_len):\n",
        "    slice = data_set.query('seqlen <= '+str(max_len)+' & seqlen>= '+str(min_len))\n",
        "    return slice"
      ],
      "execution_count": 88,
      "outputs": []
    },
    {
      "cell_type": "markdown",
      "metadata": {
        "id": "LdIS2utq9Kc9"
      },
      "source": [
        "## Cross validation"
      ]
    },
    {
      "cell_type": "code",
      "metadata": {
        "id": "BVo4tbB_9Kc-"
      },
      "source": [
        "bestname=DATAPATH+FILENAME+\".best\"\n",
        "def just_train(X,y): # give me training set\n",
        "    model=build_model()\n",
        "    print(model.summary())\n",
        "    mycallbacks = [keras.callbacks.ModelCheckpoint(\n",
        "        filepath=bestname, save_best_only=True, \n",
        "        monitor='accuracy', mode='max')]   \n",
        "    print(\"FIT\")\n",
        "    start_time=time.time()\n",
        "    history=model.fit(X_train, y_train, # batch_size=10, default=32 works nicely\n",
        "            epochs=EPOCHS, verbose=1,  # verbose=1 for ascii art, verbose=0 for none\n",
        "            callbacks=mycallbacks )  # no validation data\n",
        "    end_time=time.time()\n",
        "    elapsed_time=(end_time-start_time)                        \n",
        "    print(\"Train %d epochs, %d sec\"%(EPOCHS,elapsed_time))\n",
        "    pd.DataFrame(history.history).plot(figsize=(8,5))\n",
        "    plt.grid(True)\n",
        "    plt.gca().set_ylim(0,1)\n",
        "    plt.show()\n",
        "def just_evaluate(X,y):  # give me validation set\n",
        "    best_model=keras.models.load_model(bestname)\n",
        "    scores = best_model.evaluate(X, y, verbose=0)\n",
        "    print(\"%s: %.2f%%\" % (best_model.metrics_names[1], scores[1]*100))"
      ],
      "execution_count": 89,
      "outputs": []
    },
    {
      "cell_type": "markdown",
      "metadata": {
        "id": "qd3Wj_vI9KdP"
      },
      "source": [
        "## Train on RNA length-based slice"
      ]
    },
    {
      "cell_type": "code",
      "metadata": {
        "id": "f8fNo6sn9KdH",
        "outputId": "3ab6b404-af3e-48b0-e32b-418c810db733",
        "colab": {
          "base_uri": "https://localhost:8080/"
        }
      },
      "source": [
        "#      A    B    C     D     E     F\n",
        "# 200, 500, 750, 1000, 1500, 3000, 30000 \n",
        "print(\"Load data from files.\")\n",
        "nc_seq=load_fasta(NC_FILENAME,0)\n",
        "pc_seq=load_fasta(PC_FILENAME,1)\n",
        "train_set=pd.concat((nc_seq,pc_seq),axis=0)\n",
        "nc_seq=None\n",
        "pc_seq=None\n",
        "def get_x_and_y(train_set,minlen,maxlen):\n",
        "  subset=make_slice(train_set,minlen,maxlen)\n",
        "  (X_set,y_set)=make_kmers(maxlen,subset)\n",
        "  print(\"Shape of X is \"+str(X_set.shape))\n",
        "  L=len(X_set)\n",
        "  T=int(0.80*L+0.5)\n",
        "  print(\"Total %d, Train portion %d\"%(L,T))\n",
        "  X_train=X_set[:T]\n",
        "  y_train=y_set[:T]\n",
        "  X_valid=X_set[T:]\n",
        "  y_valid=y_set[T:]\n",
        "  return (X_train,y_train,X_valid,y_valid)\n",
        "\n",
        "MINLEN=200\n",
        "MAXLEN=700\n",
        "(X_train,y_train,X_valid,y_valid)=get_x_and_y(train_set,MINLEN,MAXLEN)\n",
        "print(\"Loaded\")"
      ],
      "execution_count": 90,
      "outputs": [
        {
          "output_type": "stream",
          "text": [
            "Load data from files.\n",
            "Shape of X is (10501, 700)\n",
            "Total 10501, Train portion 8401\n",
            "Loaded\n"
          ],
          "name": "stdout"
        }
      ]
    },
    {
      "cell_type": "code",
      "metadata": {
        "id": "mQ8eW5Rg9KdQ",
        "outputId": "5ec7e46b-2c8c-4f07-f5c0-58f383f59c9e",
        "colab": {
          "base_uri": "https://localhost:8080/",
          "height": 1000
        }
      },
      "source": [
        "print (\"Train on \",MINLEN,\"-\",MAXLEN)\n",
        "just_train(X_train,y_train)  \n"
      ],
      "execution_count": 91,
      "outputs": [
        {
          "output_type": "stream",
          "text": [
            "Train on  200 - 700\n",
            "COMPILE...\n",
            "...COMPILED\n",
            "Model: \"sequential_8\"\n",
            "_________________________________________________________________\n",
            "Layer (type)                 Output Shape              Param #   \n",
            "=================================================================\n",
            "embedding_8 (Embedding)      (None, None, 4)           260       \n",
            "_________________________________________________________________\n",
            "gru_16 (GRU)                 (None, 4)                 120       \n",
            "_________________________________________________________________\n",
            "dense_26 (Dense)             (None, 1)                 5         \n",
            "=================================================================\n",
            "Total params: 385\n",
            "Trainable params: 385\n",
            "Non-trainable params: 0\n",
            "_________________________________________________________________\n",
            "None\n",
            "FIT\n",
            "Epoch 1/100\n",
            "263/263 [==============================] - ETA: 0s - loss: 0.3851 - accuracy: 0.9211INFO:tensorflow:Assets written to: /content/drive/My Drive/data/GRU240.best/assets\n",
            "263/263 [==============================] - 15s 59ms/step - loss: 0.3851 - accuracy: 0.9211\n",
            "Epoch 2/100\n",
            "263/263 [==============================] - ETA: 0s - loss: 0.2607 - accuracy: 0.9268INFO:tensorflow:Assets written to: /content/drive/My Drive/data/GRU240.best/assets\n",
            "263/263 [==============================] - 16s 59ms/step - loss: 0.2607 - accuracy: 0.9268\n",
            "Epoch 3/100\n",
            "263/263 [==============================] - 7s 28ms/step - loss: 0.2602 - accuracy: 0.9268\n",
            "Epoch 4/100\n",
            "263/263 [==============================] - 8s 29ms/step - loss: 0.2592 - accuracy: 0.9268\n",
            "Epoch 5/100\n",
            "263/263 [==============================] - 8s 29ms/step - loss: 0.2585 - accuracy: 0.9268\n",
            "Epoch 6/100\n",
            "263/263 [==============================] - 7s 28ms/step - loss: 0.2579 - accuracy: 0.9268\n",
            "Epoch 7/100\n",
            "263/263 [==============================] - 8s 29ms/step - loss: 0.2560 - accuracy: 0.9268\n",
            "Epoch 8/100\n",
            "263/263 [==============================] - 8s 29ms/step - loss: 0.2558 - accuracy: 0.9268\n",
            "Epoch 9/100\n",
            "263/263 [==============================] - ETA: 0s - loss: 0.2556 - accuracy: 0.9269INFO:tensorflow:Assets written to: /content/drive/My Drive/data/GRU240.best/assets\n",
            "263/263 [==============================] - 17s 64ms/step - loss: 0.2556 - accuracy: 0.9269\n",
            "Epoch 10/100\n",
            "263/263 [==============================] - 8s 29ms/step - loss: 0.2543 - accuracy: 0.9269\n",
            "Epoch 11/100\n",
            "263/263 [==============================] - ETA: 0s - loss: 0.2531 - accuracy: 0.9273INFO:tensorflow:Assets written to: /content/drive/My Drive/data/GRU240.best/assets\n",
            "263/263 [==============================] - 16s 60ms/step - loss: 0.2531 - accuracy: 0.9273\n",
            "Epoch 12/100\n",
            "263/263 [==============================] - 8s 29ms/step - loss: 0.2522 - accuracy: 0.9272\n",
            "Epoch 13/100\n",
            "263/263 [==============================] - 8s 29ms/step - loss: 0.2508 - accuracy: 0.9272\n",
            "Epoch 14/100\n",
            "263/263 [==============================] - 8s 29ms/step - loss: 0.2480 - accuracy: 0.9273\n",
            "Epoch 15/100\n",
            "263/263 [==============================] - 8s 29ms/step - loss: 0.2453 - accuracy: 0.9273\n",
            "Epoch 16/100\n",
            "263/263 [==============================] - ETA: 0s - loss: 0.2364 - accuracy: 0.9276INFO:tensorflow:Assets written to: /content/drive/My Drive/data/GRU240.best/assets\n",
            "263/263 [==============================] - 17s 64ms/step - loss: 0.2364 - accuracy: 0.9276\n",
            "Epoch 17/100\n",
            "263/263 [==============================] - 8s 29ms/step - loss: 0.2308 - accuracy: 0.9274\n",
            "Epoch 18/100\n",
            "263/263 [==============================] - 8s 29ms/step - loss: 0.2312 - accuracy: 0.9273\n",
            "Epoch 19/100\n",
            "263/263 [==============================] - 8s 29ms/step - loss: 0.2273 - accuracy: 0.9272\n",
            "Epoch 20/100\n",
            "263/263 [==============================] - 8s 29ms/step - loss: 0.2207 - accuracy: 0.9274\n",
            "Epoch 21/100\n",
            "263/263 [==============================] - 8s 29ms/step - loss: 0.2204 - accuracy: 0.9274\n",
            "Epoch 22/100\n",
            "263/263 [==============================] - ETA: 0s - loss: 0.2167 - accuracy: 0.9280INFO:tensorflow:Assets written to: /content/drive/My Drive/data/GRU240.best/assets\n",
            "263/263 [==============================] - 16s 59ms/step - loss: 0.2167 - accuracy: 0.9280\n",
            "Epoch 23/100\n",
            "263/263 [==============================] - 8s 29ms/step - loss: 0.2143 - accuracy: 0.9276\n",
            "Epoch 24/100\n",
            "263/263 [==============================] - 8s 29ms/step - loss: 0.2145 - accuracy: 0.9277\n",
            "Epoch 25/100\n",
            "263/263 [==============================] - 8s 29ms/step - loss: 0.2125 - accuracy: 0.9280\n",
            "Epoch 26/100\n",
            "263/263 [==============================] - ETA: 0s - loss: 0.2146 - accuracy: 0.9286INFO:tensorflow:Assets written to: /content/drive/My Drive/data/GRU240.best/assets\n",
            "263/263 [==============================] - 17s 65ms/step - loss: 0.2146 - accuracy: 0.9286\n",
            "Epoch 27/100\n",
            "263/263 [==============================] - 8s 29ms/step - loss: 0.2136 - accuracy: 0.9280\n",
            "Epoch 28/100\n",
            "263/263 [==============================] - 8s 29ms/step - loss: 0.2117 - accuracy: 0.9283\n",
            "Epoch 29/100\n",
            "263/263 [==============================] - 8s 29ms/step - loss: 0.2076 - accuracy: 0.9282\n",
            "Epoch 30/100\n",
            "263/263 [==============================] - ETA: 0s - loss: 0.2089 - accuracy: 0.9287INFO:tensorflow:Assets written to: /content/drive/My Drive/data/GRU240.best/assets\n",
            "263/263 [==============================] - 16s 60ms/step - loss: 0.2089 - accuracy: 0.9287\n",
            "Epoch 31/100\n",
            "263/263 [==============================] - 8s 29ms/step - loss: 0.2106 - accuracy: 0.9279\n",
            "Epoch 32/100\n",
            "263/263 [==============================] - ETA: 0s - loss: 0.2060 - accuracy: 0.9306INFO:tensorflow:Assets written to: /content/drive/My Drive/data/GRU240.best/assets\n",
            "263/263 [==============================] - 16s 60ms/step - loss: 0.2060 - accuracy: 0.9306\n",
            "Epoch 33/100\n",
            "263/263 [==============================] - 8s 29ms/step - loss: 0.2058 - accuracy: 0.9291\n",
            "Epoch 34/100\n",
            "263/263 [==============================] - 8s 29ms/step - loss: 0.2046 - accuracy: 0.9302\n",
            "Epoch 35/100\n",
            "263/263 [==============================] - 8s 29ms/step - loss: 0.2060 - accuracy: 0.9300\n",
            "Epoch 36/100\n",
            "263/263 [==============================] - 8s 29ms/step - loss: 0.2025 - accuracy: 0.9294\n",
            "Epoch 37/100\n",
            "263/263 [==============================] - 8s 29ms/step - loss: 0.2056 - accuracy: 0.9299\n",
            "Epoch 38/100\n",
            "263/263 [==============================] - ETA: 0s - loss: 0.2017 - accuracy: 0.9314INFO:tensorflow:Assets written to: /content/drive/My Drive/data/GRU240.best/assets\n",
            "263/263 [==============================] - 17s 65ms/step - loss: 0.2017 - accuracy: 0.9314\n",
            "Epoch 39/100\n",
            "263/263 [==============================] - 7s 28ms/step - loss: 0.2026 - accuracy: 0.9313\n",
            "Epoch 40/100\n",
            "263/263 [==============================] - 7s 28ms/step - loss: 0.2023 - accuracy: 0.9298\n",
            "Epoch 41/100\n",
            "263/263 [==============================] - ETA: 0s - loss: 0.1994 - accuracy: 0.9317INFO:tensorflow:Assets written to: /content/drive/My Drive/data/GRU240.best/assets\n",
            "263/263 [==============================] - 15s 59ms/step - loss: 0.1994 - accuracy: 0.9317\n",
            "Epoch 42/100\n",
            "263/263 [==============================] - 8s 29ms/step - loss: 0.2010 - accuracy: 0.9306\n",
            "Epoch 43/100\n",
            "263/263 [==============================] - 7s 28ms/step - loss: 0.2005 - accuracy: 0.9313\n",
            "Epoch 44/100\n",
            "263/263 [==============================] - ETA: 0s - loss: 0.1987 - accuracy: 0.9320INFO:tensorflow:Assets written to: /content/drive/My Drive/data/GRU240.best/assets\n",
            "263/263 [==============================] - 17s 63ms/step - loss: 0.1987 - accuracy: 0.9320\n",
            "Epoch 45/100\n",
            "263/263 [==============================] - 7s 28ms/step - loss: 0.1982 - accuracy: 0.9307\n",
            "Epoch 46/100\n",
            "263/263 [==============================] - ETA: 0s - loss: 0.2000 - accuracy: 0.9330INFO:tensorflow:Assets written to: /content/drive/My Drive/data/GRU240.best/assets\n",
            "263/263 [==============================] - 15s 58ms/step - loss: 0.2000 - accuracy: 0.9330\n",
            "Epoch 47/100\n",
            "263/263 [==============================] - 7s 28ms/step - loss: 0.1982 - accuracy: 0.9327\n",
            "Epoch 48/100\n",
            "263/263 [==============================] - 8s 29ms/step - loss: 0.1989 - accuracy: 0.9323\n",
            "Epoch 49/100\n",
            "263/263 [==============================] - ETA: 0s - loss: 0.1965 - accuracy: 0.9354INFO:tensorflow:Assets written to: /content/drive/My Drive/data/GRU240.best/assets\n",
            "263/263 [==============================] - 15s 59ms/step - loss: 0.1965 - accuracy: 0.9354\n",
            "Epoch 50/100\n",
            "263/263 [==============================] - 7s 28ms/step - loss: 0.1955 - accuracy: 0.9325\n",
            "Epoch 51/100\n",
            "263/263 [==============================] - 8s 29ms/step - loss: 0.1958 - accuracy: 0.9325\n",
            "Epoch 52/100\n",
            "263/263 [==============================] - 7s 28ms/step - loss: 0.1977 - accuracy: 0.9335\n",
            "Epoch 53/100\n",
            "263/263 [==============================] - 8s 29ms/step - loss: 0.1960 - accuracy: 0.9324\n",
            "Epoch 54/100\n",
            "263/263 [==============================] - 8s 29ms/step - loss: 0.1976 - accuracy: 0.9325\n",
            "Epoch 55/100\n",
            "263/263 [==============================] - 7s 28ms/step - loss: 0.1972 - accuracy: 0.9320\n",
            "Epoch 56/100\n",
            "263/263 [==============================] - 7s 28ms/step - loss: 0.1956 - accuracy: 0.9320\n",
            "Epoch 57/100\n",
            "263/263 [==============================] - 8s 29ms/step - loss: 0.1968 - accuracy: 0.9345\n",
            "Epoch 58/100\n",
            "263/263 [==============================] - 8s 29ms/step - loss: 0.1965 - accuracy: 0.9335\n",
            "Epoch 59/100\n",
            "263/263 [==============================] - 8s 30ms/step - loss: 0.1957 - accuracy: 0.9324\n",
            "Epoch 60/100\n",
            "263/263 [==============================] - 8s 29ms/step - loss: 0.1955 - accuracy: 0.9337\n",
            "Epoch 61/100\n",
            "263/263 [==============================] - 8s 29ms/step - loss: 0.1956 - accuracy: 0.9342\n",
            "Epoch 62/100\n",
            "263/263 [==============================] - 8s 30ms/step - loss: 0.1950 - accuracy: 0.9354\n",
            "Epoch 63/100\n",
            "263/263 [==============================] - 8s 30ms/step - loss: 0.1946 - accuracy: 0.9320\n",
            "Epoch 64/100\n",
            "263/263 [==============================] - 8s 29ms/step - loss: 0.1962 - accuracy: 0.9347\n",
            "Epoch 65/100\n",
            "263/263 [==============================] - 8s 29ms/step - loss: 0.1924 - accuracy: 0.9345\n",
            "Epoch 66/100\n",
            "263/263 [==============================] - 8s 29ms/step - loss: 0.1955 - accuracy: 0.9335\n",
            "Epoch 67/100\n",
            "263/263 [==============================] - 8s 29ms/step - loss: 0.1938 - accuracy: 0.9339\n",
            "Epoch 68/100\n",
            "263/263 [==============================] - 8s 29ms/step - loss: 0.1952 - accuracy: 0.9333\n",
            "Epoch 69/100\n",
            "263/263 [==============================] - 8s 29ms/step - loss: 0.1946 - accuracy: 0.9325\n",
            "Epoch 70/100\n",
            "263/263 [==============================] - 8s 29ms/step - loss: 0.1935 - accuracy: 0.9330\n",
            "Epoch 71/100\n",
            "263/263 [==============================] - 8s 30ms/step - loss: 0.1924 - accuracy: 0.9349\n",
            "Epoch 72/100\n",
            "263/263 [==============================] - ETA: 0s - loss: 0.1936 - accuracy: 0.9357INFO:tensorflow:Assets written to: /content/drive/My Drive/data/GRU240.best/assets\n",
            "263/263 [==============================] - 17s 65ms/step - loss: 0.1936 - accuracy: 0.9357\n",
            "Epoch 73/100\n",
            "263/263 [==============================] - 8s 29ms/step - loss: 0.1956 - accuracy: 0.9329\n",
            "Epoch 74/100\n",
            "263/263 [==============================] - 8s 29ms/step - loss: 0.1911 - accuracy: 0.9354\n",
            "Epoch 75/100\n",
            "263/263 [==============================] - 8s 29ms/step - loss: 0.1928 - accuracy: 0.9344\n",
            "Epoch 76/100\n",
            "263/263 [==============================] - 8s 29ms/step - loss: 0.1941 - accuracy: 0.9339\n",
            "Epoch 77/100\n",
            "263/263 [==============================] - 8s 29ms/step - loss: 0.1901 - accuracy: 0.9356\n",
            "Epoch 78/100\n",
            "263/263 [==============================] - 7s 28ms/step - loss: 0.1930 - accuracy: 0.9336\n",
            "Epoch 79/100\n",
            "263/263 [==============================] - 8s 29ms/step - loss: 0.1940 - accuracy: 0.9313\n",
            "Epoch 80/100\n",
            "263/263 [==============================] - 8s 29ms/step - loss: 0.1939 - accuracy: 0.9352\n",
            "Epoch 81/100\n",
            "263/263 [==============================] - 8s 29ms/step - loss: 0.1933 - accuracy: 0.9352\n",
            "Epoch 82/100\n",
            "263/263 [==============================] - 8s 29ms/step - loss: 0.1910 - accuracy: 0.9338\n",
            "Epoch 83/100\n",
            "263/263 [==============================] - 8s 29ms/step - loss: 0.1930 - accuracy: 0.9339\n",
            "Epoch 84/100\n",
            "263/263 [==============================] - 8s 29ms/step - loss: 0.1957 - accuracy: 0.9333\n",
            "Epoch 85/100\n",
            "263/263 [==============================] - ETA: 0s - loss: 0.1910 - accuracy: 0.9362INFO:tensorflow:Assets written to: /content/drive/My Drive/data/GRU240.best/assets\n",
            "263/263 [==============================] - 16s 59ms/step - loss: 0.1910 - accuracy: 0.9362\n",
            "Epoch 86/100\n",
            "263/263 [==============================] - 8s 29ms/step - loss: 0.1938 - accuracy: 0.9327\n",
            "Epoch 87/100\n",
            "263/263 [==============================] - ETA: 0s - loss: 0.1932 - accuracy: 0.9367INFO:tensorflow:Assets written to: /content/drive/My Drive/data/GRU240.best/assets\n",
            "263/263 [==============================] - 17s 64ms/step - loss: 0.1932 - accuracy: 0.9367\n",
            "Epoch 88/100\n",
            "263/263 [==============================] - 8s 29ms/step - loss: 0.1919 - accuracy: 0.9350\n",
            "Epoch 89/100\n",
            "263/263 [==============================] - 8s 29ms/step - loss: 0.1926 - accuracy: 0.9344\n",
            "Epoch 90/100\n",
            "263/263 [==============================] - 8s 29ms/step - loss: 0.1928 - accuracy: 0.9343\n",
            "Epoch 91/100\n",
            "263/263 [==============================] - 8s 29ms/step - loss: 0.1888 - accuracy: 0.9352\n",
            "Epoch 92/100\n",
            "263/263 [==============================] - 8s 29ms/step - loss: 0.1907 - accuracy: 0.9339\n",
            "Epoch 93/100\n",
            "263/263 [==============================] - 8s 29ms/step - loss: 0.1907 - accuracy: 0.9348\n",
            "Epoch 94/100\n",
            "263/263 [==============================] - 8s 29ms/step - loss: 0.1924 - accuracy: 0.9350\n",
            "Epoch 95/100\n",
            "263/263 [==============================] - 8s 29ms/step - loss: 0.1918 - accuracy: 0.9352\n",
            "Epoch 96/100\n",
            "263/263 [==============================] - 8s 30ms/step - loss: 0.1932 - accuracy: 0.9336\n",
            "Epoch 97/100\n",
            "263/263 [==============================] - 8s 30ms/step - loss: 0.1925 - accuracy: 0.9335\n",
            "Epoch 98/100\n",
            "263/263 [==============================] - 8s 29ms/step - loss: 0.1895 - accuracy: 0.9336\n",
            "Epoch 99/100\n",
            "263/263 [==============================] - 8s 29ms/step - loss: 0.1907 - accuracy: 0.9343\n",
            "Epoch 100/100\n",
            "263/263 [==============================] - 8s 29ms/step - loss: 0.1916 - accuracy: 0.9339\n",
            "Train 100 epochs, 913 sec\n"
          ],
          "name": "stdout"
        },
        {
          "output_type": "display_data",
          "data": {
            "image/png": "[encoded data removed]",
            "text/plain": [
              "<Figure size 576x360 with 1 Axes>"
            ]
          },
          "metadata": {
            "tags": [],
            "needs_background": "light"
          }
        }
      ]
    },
    {
      "cell_type": "code",
      "metadata": {
        "id": "C0As2pLvQJXm",
        "outputId": "fdc36a6b-457d-40c6-852d-2dc9bd488701",
        "colab": {
          "base_uri": "https://localhost:8080/"
        }
      },
      "source": [
        "print (\"Evaluate on A\")\n",
        "(X_train,y_train,X_valid_A,y_valid_A)=get_x_and_y(train_set,200,700)\n",
        "just_evaluate(X_valid_A,y_valid_A) \n",
        "(X_valid_A,y_valid_A)=(None,None)\n",
        "print (\"Evaluate on B\")\n",
        "(X_train,y_train,X_valid_B,y_valid_B)=get_x_and_y(train_set,700,900)\n",
        "just_evaluate(X_valid_B,y_valid_B)  \n",
        "(X_valid_B,y_valid_B)=(None,None)\n",
        "print (\"Evaluate on C\")\n",
        "(X_train,y_train,X_valid_C,y_valid_C)=get_x_and_y(train_set,900,1200)\n",
        "just_evaluate(X_valid_C,y_valid_C)  \n",
        "(X_valid_C,y_valid_C)=(None,None)\n",
        "print (\"Evaluate on D\")\n",
        "(X_train,y_train,X_valid_D,y_valid_D)=get_x_and_y(train_set,1200,1700)\n",
        "just_evaluate(X_valid_D,y_valid_D)  \n",
        "(X_valid_D,y_valid_D)=(None,None)\n",
        "print (\"Evaluate on E\")\n",
        "(X_train,y_train,X_valid_E,y_valid_E)=get_x_and_y(train_set,1700,2500)\n",
        "just_evaluate(X_valid_E,y_valid_E)  \n",
        "(X_valid_E,y_valid_E)=(None,None)\n",
        "print (\"Evaluate on F\")\n",
        "(X_train,y_train,X_valid_F,y_valid_F)=get_x_and_y(train_set,2500,30000)\n",
        "just_evaluate(X_valid_F,y_valid_F) \n",
        "(X_valid_F,y_valid_F)=(None,None) \n",
        "\n",
        "print (\"Done\")"
      ],
      "execution_count": 92,
      "outputs": [
        {
          "output_type": "stream",
          "text": [
            "Evaluate on A\n",
            "Shape of X is (10501, 700)\n",
            "Total 10501, Train portion 8401\n",
            "accuracy: 16.62%\n",
            "Evaluate on B\n",
            "Shape of X is (4148, 900)\n",
            "Total 4148, Train portion 3318\n",
            "accuracy: 50.60%\n",
            "Evaluate on C\n",
            "Shape of X is (3636, 1200)\n",
            "Total 3636, Train portion 2909\n",
            "accuracy: 69.60%\n",
            "Evaluate on D\n",
            "Shape of X is (3942, 1700)\n",
            "Total 3942, Train portion 3154\n",
            "accuracy: 77.16%\n",
            "Evaluate on E\n",
            "Shape of X is (4395, 2500)\n",
            "Total 4395, Train portion 3516\n",
            "accuracy: 82.25%\n",
            "Evaluate on F\n",
            "Shape of X is (5438, 30000)\n",
            "Total 5438, Train portion 4350\n",
            "accuracy: 79.60%\n",
            "Done\n"
          ],
          "name": "stdout"
        }
      ]
    }
  ]
}