{
 "cells": [
  {
   "cell_type": "code",
   "execution_count": 1,
   "metadata": {},
   "outputs": [
    {
     "data": {
      "text/plain": [
       "SGDClassifier(random_state=42)"
      ]
     },
     "execution_count": 1,
     "metadata": {},
     "output_type": "execute_result"
    }
   ],
   "source": [
    "# Cross Validation\n",
    "\n",
    "# Repeat steps from previous notebook.\n",
    "import ssl\n",
    "import tensorflow\n",
    "from tensorflow.keras.datasets import mnist\n",
    "(X_train, y_train), (X_test, y_test) = mnist.load_data()\n",
    "from sklearn.linear_model import SGDClassifier\n",
    "sgd_clf = SGDClassifier(random_state=42) \n",
    "# Transform 28 * 28 pixel images into 784 pixel array\n",
    "num_pixels = X_train.shape[1]*X_train.shape[2]\n",
    "X_train1D = X_train.reshape(X_train.shape[0],num_pixels)\n",
    "X_test1D = X_test.reshape(X_test.shape[0],num_pixels)\n",
    "y_test_boolean_array = (y_test == 5)\n",
    "y_train_boolean_array = (y_train == 5)\n",
    "sgd_clf.fit(X_train1D,y_train_boolean_array)"
   ]
  },
  {
   "cell_type": "code",
   "execution_count": 2,
   "metadata": {},
   "outputs": [
    {
     "data": {
      "text/plain": [
       "array([0.95035, 0.96035, 0.9604 ])"
      ]
     },
     "execution_count": 2,
     "metadata": {},
     "output_type": "execute_result"
    }
   ],
   "source": [
    "# This will take a while! Get 3 accuracy measures (train on random 2/3, test on 1/3).\n",
    "from sklearn.model_selection import cross_val_score\n",
    "sgd_s=cross_val_score(sgd_clf, X_train1D, y_train_boolean_array, cv=3, scoring=\"accuracy\")\n",
    "sgd_s   # over 95% accuracy on all 3 cross validations\n",
    "# Book points out that always saying \"not 5\" would give 90% accuracy."
   ]
  },
  {
   "cell_type": "code",
   "execution_count": 3,
   "metadata": {},
   "outputs": [
    {
     "data": {
      "text/plain": [
       "array([[53892,   687],\n",
       "       [ 1891,  3530]])"
      ]
     },
     "execution_count": 3,
     "metadata": {},
     "output_type": "execute_result"
    }
   ],
   "source": [
    "# Get all the predictions (i.e. train on 2/3, predict on 1/3)\n",
    "# Note sklearn has these other functions: precision_score(), recall_score(),f1_score()\n",
    "from sklearn.model_selection import cross_val_predict\n",
    "sgd_pred=cross_val_predict(sgd_clf, X_train1D, y_train_boolean_array, cv=3)\n",
    "from sklearn.metrics import confusion_matrix\n",
    "sgd_cm=confusion_matrix(y_train_boolean_array,sgd_pred)\n",
    "sgd_cm    # not-5[ TN , FP ] , yes-5[ FN , TP ]"
   ]
  },
  {
   "cell_type": "code",
   "execution_count": 4,
   "metadata": {},
   "outputs": [],
   "source": [
    "# ROC curve.\n",
    "# Have the predictor return thresholds, not scores.\n",
    "import matplotlib as mpl\n",
    "import matplotlib.pyplot as plt\n",
    "from sklearn.metrics import roc_curve\n",
    "sgd_y_scores = cross_val_predict(sgd_clf, X_train1D, y_train_boolean_array, cv=3, method=\"decision_function\")\n",
    "sgd_fpr, sgd_tpr, sgd_thresholds = roc_curve(y_train_boolean_array,sgd_y_scores)"
   ]
  },
  {
   "cell_type": "code",
   "execution_count": 5,
   "metadata": {},
   "outputs": [
    {
     "data": {
      "image/png": "[encoded data removed]",
      "text/plain": [
       "<Figure size 432x288 with 1 Axes>"
      ]
     },
     "metadata": {
      "needs_background": "light"
     },
     "output_type": "display_data"
    }
   ],
   "source": [
    "def plot_roc_curve(fpr,tpr,label=None):\n",
    "    plt.plot(sgd_fpr,sgd_tpr,linewidth=2,label=label)\n",
    "    plt.plot([0,1],[0,1],'k--')\n",
    "    plt.title(\"ROC\")\n",
    "    plt.ylabel(\"TPR\")\n",
    "    plt.xlabel(\"FPR\")\n",
    "plot_roc_curve(sgd_fpr,sgd_tpr)\n",
    "plt.show()"
   ]
  },
  {
   "cell_type": "code",
   "execution_count": 6,
   "metadata": {},
   "outputs": [
    {
     "data": {
      "text/plain": [
       "0.9604938554008616"
      ]
     },
     "execution_count": 6,
     "metadata": {},
     "output_type": "execute_result"
    }
   ],
   "source": [
    "# AUC\n",
    "from sklearn.metrics import roc_auc_score\n",
    "roc_auc_score(y_train_boolean_array,sgd_y_scores)"
   ]
  },
  {
   "cell_type": "code",
   "execution_count": 11,
   "metadata": {},
   "outputs": [
    {
     "data": {
      "text/plain": [
       "array([0.00000000e+00, 0.00000000e+00, 0.00000000e+00, 0.00000000e+00,\n",
       "       0.00000000e+00, 0.00000000e+00, 0.00000000e+00, 0.00000000e+00,\n",
       "       0.00000000e+00, 0.00000000e+00, 0.00000000e+00, 0.00000000e+00,\n",
       "       0.00000000e+00, 0.00000000e+00, 0.00000000e+00, 0.00000000e+00,\n",
       "       1.83220653e-05, 5.49661958e-05, 5.49661958e-05, 5.49661958e-05,\n",
       "       5.49661958e-05, 5.49661958e-05, 9.16103263e-05, 9.16103263e-05,\n",
       "       1.09932392e-04, 1.09932392e-04, 1.09932392e-04, 1.09932392e-04,\n",
       "       1.28254457e-04, 1.28254457e-04, 1.64898587e-04, 2.19864783e-04,\n",
       "       2.19864783e-04, 2.56508914e-04, 2.56508914e-04, 2.74830979e-04,\n",
       "       2.93153044e-04, 2.93153044e-04, 3.48119240e-04, 3.84763371e-04,\n",
       "       4.21407501e-04, 4.39729566e-04, 4.58051632e-04, 5.13017827e-04,\n",
       "       5.49661958e-04, 6.22950219e-04, 6.96238480e-04, 6.96238480e-04,\n",
       "       7.51204676e-04, 8.24492937e-04, 8.97781198e-04, 1.08100185e-03,\n",
       "       1.13596805e-03, 1.28254457e-03, 1.42912109e-03, 1.52073142e-03,\n",
       "       1.74059620e-03, 1.96046098e-03, 2.19864783e-03, 2.29025816e-03,\n",
       "       2.54676707e-03, 2.72998772e-03, 2.91320838e-03, 3.16971729e-03,\n",
       "       3.44454827e-03, 3.62776892e-03, 3.97588816e-03, 4.30568534e-03,\n",
       "       4.72709284e-03, 5.38668719e-03, 5.91802708e-03, 6.43104491e-03,\n",
       "       7.05399513e-03, 7.80519980e-03, 8.59304861e-03, 9.54579600e-03,\n",
       "       1.04802213e-02, 1.18177321e-02, 1.29720222e-02, 1.42362447e-02,\n",
       "       1.57936203e-02, 1.78090474e-02, 1.99710511e-02, 2.22429872e-02,\n",
       "       2.54676707e-02, 2.87839645e-02, 3.29980395e-02, 3.80915737e-02,\n",
       "       4.35149050e-02, 5.12101724e-02, 5.94917459e-02, 7.12361897e-02,\n",
       "       8.46479415e-02, 1.02127192e-01, 1.24480111e-01, 1.54143535e-01,\n",
       "       1.96229319e-01, 2.57626560e-01, 3.58452885e-01, 5.37294564e-01,\n",
       "       1.00000000e+00])"
      ]
     },
     "execution_count": 11,
     "metadata": {},
     "output_type": "execute_result"
    }
   ],
   "source": [
    "# Try Random Forest on same data.\n",
    "# Other is RF which does not have a thresholds function. Use predict_proba() instead.\n",
    "from sklearn.ensemble import RandomForestClassifier\n",
    "rfc = RandomForestClassifier(random_state=42)\n",
    "rf_y_probs = cross_val_predict(rfc,X_train1D, y_train_boolean_array, cv=3, method=\"predict_proba\")\n",
    "rf_y_scores = rf_y_probs[:,1]\n",
    "rf_fpr, rf_tpr, rf_thresholds = roc_curve(y_train_boolean_array,rf_y_scores)\n",
    "rf_fpr"
   ]
  },
  {
   "cell_type": "code",
   "execution_count": 12,
   "metadata": {},
   "outputs": [
    {
     "data": {
      "image/png": "[encoded data removed]",
      "text/plain": [
       "<Figure size 432x288 with 1 Axes>"
      ]
     },
     "metadata": {
      "needs_background": "light"
     },
     "output_type": "display_data"
    }
   ],
   "source": [
    "# ROC for two classifiers\n",
    "plt.plot(rf_fpr,rf_tpr,\"b:\",label=\"SGD\")\n",
    "plot_roc_curve(rf_fpr, rf_tpr, \"RF\")\n",
    "plt.legend(loc=\"lower right\")\n",
    "plt.show()"
   ]
  },
  {
   "cell_type": "code",
   "execution_count": 13,
   "metadata": {},
   "outputs": [
    {
     "data": {
      "text/plain": [
       "0.9983436731328145"
      ]
     },
     "execution_count": 13,
     "metadata": {},
     "output_type": "execute_result"
    }
   ],
   "source": [
    "# Random Forest was much better than SGD (with defaults).\n",
    "roc_auc_score(y_train_boolean_array,rf_y_scores)"
   ]
  },
  {
   "cell_type": "code",
   "execution_count": null,
   "metadata": {},
   "outputs": [],
   "source": []
  }
 ],
 "metadata": {
  "kernelspec": {
   "display_name": "Python 3",
   "language": "python",
   "name": "python3"
  },
  "language_info": {
   "codemirror_mode": {
    "name": "ipython",
    "version": 3
   },
   "file_extension": ".py",
   "mimetype": "text/x-python",
   "name": "python",
   "nbconvert_exporter": "python",
   "pygments_lexer": "ipython3",
   "version": "3.8.3"
  }
 },
 "nbformat": 4,
 "nbformat_minor": 2
}
