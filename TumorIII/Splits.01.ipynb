{
 "cells": [
  {
   "cell_type": "markdown",
   "metadata": {},
   "source": [
    "# Splits\n",
    "Split the patches using the text files of IDs split 5 ways for 5-fold cross-validation."
   ]
  },
  {
   "cell_type": "markdown",
   "metadata": {},
   "source": [
    "Sample data:\n",
    "\n",
    "    TCGA-02-0010-01Z-00-DX1_4500_6600.png, 0\n",
    "    TCGA-02-0010-01Z-00-DX1_3600_6600.png, 0\n"
   ]
  },
  {
   "cell_type": "code",
   "execution_count": 1,
   "metadata": {},
   "outputs": [],
   "source": [
    "import numpy as np\n",
    "import pandas as pd\n",
    "import matplotlib.pyplot as plt"
   ]
  },
  {
   "cell_type": "code",
   "execution_count": 2,
   "metadata": {},
   "outputs": [],
   "source": [
    "SPLITS_PATH='/home/jrm/Adjeroh/Naved/July_Run/TrainTestSplit'  # Alien\n",
    "FILENAMES = [\n",
    "    ('fold0_train.txt','fold0_test.txt'),\n",
    "    ('fold1_train.txt','fold1_test.txt'),\n",
    "    ('fold2_train.txt','fold2_test.txt'),\n",
    "    ('fold3_train.txt','fold3_test.txt'),\n",
    "    ('fold4_train.txt','fold4_test.txt'),\n",
    "]"
   ]
  },
  {
   "cell_type": "code",
   "execution_count": null,
   "metadata": {},
   "outputs": [],
   "source": []
  }
 ],
 "metadata": {
  "kernelspec": {
   "display_name": "Python 3",
   "language": "python",
   "name": "python3"
  },
  "language_info": {
   "codemirror_mode": {
    "name": "ipython",
    "version": 3
   },
   "file_extension": ".py",
   "mimetype": "text/x-python",
   "name": "python",
   "nbconvert_exporter": "python",
   "pygments_lexer": "ipython3",
   "version": "3.8.10"
  }
 },
 "nbformat": 4,
 "nbformat_minor": 4
}
