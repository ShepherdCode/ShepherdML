{
 "cells": [
  {
   "cell_type": "markdown",
   "metadata": {},
   "source": [
    "# Data 03\n",
    "July 13, 2022.   \n",
    "Work with the existing train/valid split though one WSI is missing.\n",
    "Here, try filtering by RBC."
   ]
  },
  {
   "cell_type": "code",
   "execution_count": 1,
   "metadata": {},
   "outputs": [],
   "source": [
    "import numpy as np\n",
    "import pandas as pd\n",
    "import matplotlib.pyplot as plt"
   ]
  },
  {
   "cell_type": "code",
   "execution_count": 2,
   "metadata": {},
   "outputs": [],
   "source": [
    "NUM_CLASSES = 6\n",
    "BASE_PATH = '/home/jrm/Adjeroh/Naved/CP_80K/'\n",
    "# The \"Merge RBC\" data gives a rough RBC count after cell bounaries were de-spiked and merged.\n",
    "RBC_FILE = 'Process100_RBC.csv'\n",
    "MRBC_FILE = 'Process100_MergeRBC.csv'\n",
    "PATCH_FILE = 'Process100_Image.csv'\n",
    "def load_rbc(cancer_class):\n",
    "    CLASS_DIR = 'Output'+str(CL)\n",
    "    fp = BASE_PATH+CLASS_DIR+'/'+RBC_FILE\n",
    "    rbc_df = pd.read_csv(fp)\n",
    "    return rbc_df \n",
    "def load_mrbc(cancer_class):\n",
    "    CLASS_DIR = 'Output'+str(CL)\n",
    "    fp = BASE_PATH+CLASS_DIR+'/'+MRBC_FILE\n",
    "    rbc_df = pd.read_csv(fp)\n",
    "    return rbc_df \n",
    "def load_patches(cancer_class):\n",
    "    CLASS_DIR = 'Output'+str(CL)\n",
    "    fp = BASE_PATH+CLASS_DIR+'/'+PATCH_FILE\n",
    "    patch_df = pd.read_csv(fp)\n",
    "    return patch_df "
   ]
  },
  {
   "cell_type": "markdown",
   "metadata": {},
   "source": [
    "Run for-loops on the RBC and MergedRBC object.csv files (which are large)."
   ]
  },
  {
   "cell_type": "code",
   "execution_count": null,
   "metadata": {},
   "outputs": [
    {
     "name": "stdout",
     "output_type": "stream",
     "text": [
      "Class patches RBC RBC/patch MergedArea/patch\n"
     ]
    }
   ],
   "source": [
    "print('Class patches RBC RBC/patch MergedArea/patch')\n",
    "for CL in range(NUM_CLASSES):\n",
    "    rbc_df = load_rbc(CL)\n",
    "    num_RBC = len(rbc_df)\n",
    "    patch_df = load_patches(CL)\n",
    "    num_patches = len(patch_df)\n",
    "    mrbc_df = load_mrbc(CL)\n",
    "    tot_area = sum(mrbc_df['AreaShape_Area'])\n",
    "    print('%d   %d    %d     %.2f    %.2f'%(CL,num_patches,num_RBC,(num_RBC/num_patches),(tot_area/num_patches)))"
   ]
  },
  {
   "cell_type": "markdown",
   "metadata": {},
   "source": [
    "Show that the same information is represented in just the Image.csv file (which is smaller)."
   ]
  },
  {
   "cell_type": "code",
   "execution_count": null,
   "metadata": {},
   "outputs": [],
   "source": [
    "print('Class patches RBC RBC/patch MergedArea/patch')\n",
    "for CL in range(NUM_CLASSES):\n",
    "    patch_df = load_patches(CL)\n",
    "    num_patches = len(patch_df)\n",
    "    num_RBC = sum(patch_df['Count_RBC'])\n",
    "    tot_area = sum(patch_df['AreaOccupied_AreaOccupied_MergeRBC'])\n",
    "    print('%d   %d    %d     %.2f    %.2f'%(CL,num_patches,num_RBC,(num_RBC/num_patches),(tot_area/num_patches)))"
   ]
  },
  {
   "cell_type": "markdown",
   "metadata": {},
   "source": [
    "For setting thresholds on too-much-RBC, find the elbows in the curves."
   ]
  },
  {
   "cell_type": "code",
   "execution_count": null,
   "metadata": {},
   "outputs": [],
   "source": [
    "for CL in range(NUM_CLASSES):\n",
    "    print('Class',CL,'Merged RBC - Pixels per Patch')\n",
    "    patch_df = load_patches(CL)\n",
    "    pd.DataFrame.hist(patch_df,column='AreaOccupied_AreaOccupied_MergeRBC')\n",
    "    plt.show()"
   ]
  },
  {
   "cell_type": "code",
   "execution_count": null,
   "metadata": {},
   "outputs": [],
   "source": [
    "col = 'AreaOccupied_AreaOccupied_MergeRBC'\n",
    "for CL in range(NUM_CLASSES):\n",
    "    print('Class','>0','>1K','>2K','>3K','>4K','>5K','>6K')\n",
    "    patch_df = load_patches(CL)\n",
    "    a = len(patch_df[patch_df[col]>0])\n",
    "    b = len(patch_df[patch_df[col]>1000])\n",
    "    c = len(patch_df[patch_df[col]>2000])\n",
    "    d = len(patch_df[patch_df[col]>3000])\n",
    "    e = len(patch_df[patch_df[col]>4000])\n",
    "    f = len(patch_df[patch_df[col]>5000])\n",
    "    g = len(patch_df[patch_df[col]>6000])\n",
    "    print(CL,':',a,b,c,d,e,f,g)"
   ]
  },
  {
   "cell_type": "code",
   "execution_count": null,
   "metadata": {},
   "outputs": [],
   "source": [
    "for CL in range(NUM_CLASSES):\n",
    "    print('Class',CL,'Tissue - Pixels per Patch')\n",
    "    patch_df = load_patches(CL)\n",
    "    pd.DataFrame.hist(patch_df,column='AreaOccupied_AreaOccupied_Tissue')\n",
    "    plt.show()"
   ]
  },
  {
   "cell_type": "code",
   "execution_count": null,
   "metadata": {},
   "outputs": [],
   "source": []
  }
 ],
 "metadata": {
  "kernelspec": {
   "display_name": "Python 3",
   "language": "python",
   "name": "python3"
  },
  "language_info": {
   "codemirror_mode": {
    "name": "ipython",
    "version": 3
   },
   "file_extension": ".py",
   "mimetype": "text/x-python",
   "name": "python",
   "nbconvert_exporter": "python",
   "pygments_lexer": "ipython3",
   "version": "3.8.10"
  }
 },
 "nbformat": 4,
 "nbformat_minor": 4
}
