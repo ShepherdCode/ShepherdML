{
 "cells": [
  {
   "cell_type": "markdown",
   "metadata": {},
   "source": [
    "# ANOVA\n",
    "Process Image.csv files, which has one measurement per WSI patch.\n",
    "\n",
    "Sources of variance (ignoring the WSI level):\n",
    "* Total = between patches = sum over patches (patch deviation from global mean, sq)\n",
    "* Between class = weight sum over class (sum class mean deviation from global mean, sq)\n",
    "* Within class = sum over class (sum class mean deviation from global mean, sq)\n",
    "* Between patient = weight sum over patients (sum patient mean deviation from global mean, sq) \n",
    "* Within patient = sum over patients (sum patch deviation from patient mean, sq)\n",
    "* Residual = Total - explained"
   ]
  },
  {
   "cell_type": "code",
   "execution_count": 1,
   "metadata": {},
   "outputs": [
    {
     "name": "stdout",
     "output_type": "stream",
     "text": [
      "2022-07-26 06:55:57.897447\n"
     ]
    }
   ],
   "source": [
    "import numpy as np\n",
    "import pandas as pd\n",
    "import os\n",
    "import csv\n",
    "from datetime import datetime\n",
    "print(datetime.now())"
   ]
  },
  {
   "cell_type": "code",
   "execution_count": 2,
   "metadata": {},
   "outputs": [
    {
     "name": "stdout",
     "output_type": "stream",
     "text": [
      "Num patients: 108\n"
     ]
    }
   ],
   "source": [
    "BASE_PATH_IN='/home/jrm/Adjeroh/Naved/CP_80K/'\n",
    "BASE_PATH_IN='/Users/jasonmiller/Downloads/CellProfilerFiltered/'\n",
    "CLASS_PATH_IN='/Users/jasonmiller/Downloads/TrainTestSplit/'\n",
    "CSVFILE='Process100_Image.csv'\n",
    "MEASUREMENT='Mean_Nucleus_AreaShape_MeanRadius'\n",
    "MCOLUMN = 888  # zero based column number within csv\n",
    "ALL_PATIENTS = [p for p in os.listdir(BASE_PATH_IN) if p.startswith('TCGA-')]\n",
    "print('Num patients:',len(ALL_PATIENTS))\n",
    "CANCER_CLASSES = 6"
   ]
  },
  {
   "cell_type": "code",
   "execution_count": 3,
   "metadata": {},
   "outputs": [],
   "source": [
    "# load classes\n",
    "def load_patient_to_class():\n",
    "    PATIENT_TO_CLASS={}\n",
    "    file1 = CLASS_PATH_IN + 'fold0_train.txt'\n",
    "    file2 = CLASS_PATH_IN + 'fold0_test.txt'\n",
    "    for file in [file1,file2]:\n",
    "        with open(file) as infile:\n",
    "            reader = csv.reader(infile)\n",
    "            for row in reader:\n",
    "                patchfile = row[0]\n",
    "                patient = patchfile[:19]\n",
    "                cancer = int(row[1])\n",
    "                # The file gives this information redundantly\n",
    "                PATIENT_TO_CLASS[patient] = cancer\n",
    "    return PATIENT_TO_CLASS\n",
    "MAPPER = load_patient_to_class()"
   ]
  },
  {
   "cell_type": "code",
   "execution_count": 4,
   "metadata": {},
   "outputs": [],
   "source": [
    "def validate_column():\n",
    "    print('Validating column',MCOLUMN,'named',MEASUREMENT,':')\n",
    "    for patient in ALL_PATIENTS:\n",
    "        print('.', end='')\n",
    "        file = BASE_PATH_IN + patient + '/' + CSVFILE\n",
    "        # print(file)\n",
    "        with open(file) as infile:\n",
    "            reader = csv.reader(infile)\n",
    "            rows = 0\n",
    "            for row in reader:\n",
    "                value = row[MCOLUMN]\n",
    "                if rows == 0:\n",
    "                    if value!=MEASUREMENT:\n",
    "                        raise Exception('For '+patient+', column name is '+value)\n",
    "                else:\n",
    "                    numeric = float(value)  # throws exception if not numeric\n",
    "                rows += 1\n",
    "            if rows < 2:\n",
    "                raise Exception('no data rows for '+patient)\n",
    "    print('\\nColumn validated!')\n",
    "    \n",
    "if False:  # no need to run this again on same dataset\n",
    "    validate_column()"
   ]
  },
  {
   "cell_type": "code",
   "execution_count": 5,
   "metadata": {},
   "outputs": [
    {
     "name": "stdout",
     "output_type": "stream",
     "text": [
      "Class basics [[41289, 126105.65857789041, 3.0542192491436078], [12124, 44940.446064271106, 3.7067342514245385], [12209, 46142.85273802422, 3.7794129525779527], [5775, 21443.821306558217, 3.7132158106594315], [2850, 10773.871238824517, 3.780305697833164], [1518, 5775.828955408042, 3.804893910018473]]\n",
      "Overall basics [75765, 255182.4788809765, 3.368078649521237]\n"
     ]
    }
   ],
   "source": [
    "def load_basics():\n",
    "    patient_basics={}\n",
    "    class_basics=[[0,0,0]] * CANCER_CLASSES\n",
    "    overall_basics=[0,0,0]\n",
    "    for patient in ALL_PATIENTS:\n",
    "        file = BASE_PATH_IN + patient + '/' + CSVFILE\n",
    "        cancer_class = MAPPER[patient]\n",
    "        patient_total = 0\n",
    "        patient_count = 0\n",
    "        with open(file) as infile:\n",
    "            reader = csv.reader(infile)\n",
    "            header = True\n",
    "            for row in reader:\n",
    "                value = row[MCOLUMN]\n",
    "                if header:\n",
    "                    header = False\n",
    "                else:\n",
    "                    value = float(value)\n",
    "                    patient_total += value\n",
    "                    patient_count += 1\n",
    "        patient_mean = patient_total/patient_count\n",
    "        count_total_mean = (patient_count,patient_total,patient_mean)\n",
    "        patient_basics[patient] = count_total_mean\n",
    "        # running totals\n",
    "        count,total,mean = class_basics[cancer_class]\n",
    "        count+=patient_count\n",
    "        total+=patient_total\n",
    "        mean=total/count\n",
    "        class_basics[cancer_class] = [count,total,mean]  \n",
    "        overall_basics[0] = overall_basics[0]+patient_count\n",
    "        overall_basics[1] = overall_basics[1]+patient_total\n",
    "        overall_basics[2] = overall_basics[1]/overall_basics[0]\n",
    "    return patient_basics,class_basics,overall_basics\n",
    "\n",
    "patient_basics,class_basics,overall_basics=load_basics()\n",
    "print('Class basics',class_basics)\n",
    "print('Overall basics',overall_basics)"
   ]
  },
  {
   "cell_type": "code",
   "execution_count": 6,
   "metadata": {},
   "outputs": [
    {
     "name": "stdout",
     "output_type": "stream",
     "text": [
      "class mean\n",
      "3.0542192491436078\n",
      "3.7067342514245385\n",
      "3.7794129525779527\n",
      "3.7132158106594315\n",
      "3.780305697833164\n",
      "3.804893910018473\n",
      "overall mean\n",
      "3.368078649521237\n"
     ]
    }
   ],
   "source": [
    "print('class mean')\n",
    "for cls in range(CANCER_CLASSES):\n",
    "    print(class_basics[cls][2])\n",
    "print('overall mean')    \n",
    "print(overall_basics[2])"
   ]
  },
  {
   "cell_type": "code",
   "execution_count": 9,
   "metadata": {},
   "outputs": [
    {
     "name": "stdout",
     "output_type": "stream",
     "text": [
      "Overall SSE 21681.121924016566\n",
      "Class SSE [6939.138869654018, 1904.765959639705, 2246.6322440864324, 884.796427698649, 572.1598256689408, 148.29201989130306]\n",
      "Patient SSE {'TCGA-02-0010-01Z-00': 232.47944407257305, 'TCGA-HT-7616-01Z-00': 45.59234470635053, 'TCGA-14-1452-01Z-00': 284.37105336981494, 'TCGA-28-1746-01Z-00': 11.802895789675933, 'TCGA-DU-6404-01Z-00': 38.30176726739088, 'TCGA-S9-A6WE-01Z-00': 17.153189830600297, 'TCGA-S9-A6WI-01Z-00': 44.729748606819285, 'TCGA-QH-A6CZ-01Z-00': 41.48198943908842, 'TCGA-DU-6408-01Z-00': 23.861689153725436, 'TCGA-HT-7881-01Z-00': 151.1156013332581, 'TCGA-DU-7009-01Z-00': 22.634537383511624, 'TCGA-26-5139-01Z-00': 50.16706088188967, 'TCGA-DU-8167-01Z-00': 73.42382604971937, 'TCGA-HW-7491-01Z-00': 53.294186843216735, 'TCGA-14-1829-01Z-00': 233.9820800071377, 'TCGA-06-0129-01Z-00': 85.68093339366233, 'TCGA-DU-8165-01Z-00': 42.60760976876505, 'TCGA-DU-7015-01Z-00': 12.307376386088478, 'TCGA-06-0125-01Z-00': 36.49788422607574, 'TCGA-HT-7854-01Z-00': 89.61518283415683, 'TCGA-DU-5874-01Z-00': 30.557932126511385, 'TCGA-QH-A6XA-01Z-00': 60.21988364345036, 'TCGA-HT-7606-01Z-00': 101.21572234477347, 'TCGA-02-0439-01Z-00': 62.74526688287834, 'TCGA-26-5133-01Z-00': 35.77720418160879, 'TCGA-HT-A618-01Z-00': 44.94662161658632, 'TCGA-DB-A4XF-01Z-00': 132.83323657445027, 'TCGA-DU-6402-01Z-00': 36.79320128638484, 'TCGA-HW-7487-01Z-00': 37.41096581845772, 'TCGA-CS-5397-01Z-00': 46.76295861830653, 'TCGA-14-0786-01Z-00': 334.20245371822597, 'TCGA-S9-A6WO-01Z-00': 49.14456847967393, 'TCGA-HW-7495-01Z-00': 28.789013053349272, 'TCGA-DU-5854-01Z-00': 17.75533866389481, 'TCGA-02-0285-01Z-00': 36.89982880416417, 'TCGA-06-0214-01Z-00': 58.40691702536212, 'TCGA-HT-7483-01Z-00': 118.12279377064938, 'TCGA-06-0241-01Z-00': 30.147193800636874, 'TCGA-02-0004-01Z-00': 19.2277267658589, 'TCGA-14-1401-01Z-00': 201.89494771315532, 'TCGA-S9-A6U9-01Z-00': 94.39371378920082, 'TCGA-06-0216-01Z-00': 96.54528442381394, 'TCGA-41-5651-01Z-00': 53.18806664705226, 'TCGA-06-0189-01Z-00': 119.06352552478563, 'TCGA-06-0185-01Z-00': 9.262363095229713, 'TCGA-S9-A7IQ-01Z-00': 60.6737341801809, 'TCGA-S9-A7J1-01Z-00': 47.06233936217003, 'TCGA-02-0446-01Z-00': 29.8398900659825, 'TCGA-15-1447-01Z-00': 188.05981801370947, 'TCGA-06-0879-01Z-00': 15.581037206760827, 'TCGA-08-0517-01Z-00': 22.17353025087069, 'TCGA-HT-A5RA-01Z-00': 41.20269032489372, 'TCGA-DB-5274-01Z-00': 51.90822686302688, 'TCGA-DH-A66B-01Z-00': 44.83750807107843, 'TCGA-26-5134-01Z-00': 75.41252727514491, 'TCGA-06-5412-01Z-00': 14.009567472461207, 'TCGA-14-1453-01Z-00': 51.70689207548307, 'TCGA-HT-7902-01Z-00': 64.08415607060438, 'TCGA-HT-7873-01Z-00': 129.02076160211703, 'TCGA-14-1795-01Z-00': 283.76604926940496, 'TCGA-06-0201-01Z-00': 55.33410847298684, 'TCGA-HT-7605-01Z-00': 142.24787601901022, 'TCGA-FG-7643-01Z-00': 94.82077861014028, 'TCGA-FG-A60L-01Z-00': 44.757437153087544, 'TCGA-02-0025-01Z-00': 99.5952196820494, 'TCGA-06-0211-01Z-00': 224.38136426250037, 'TCGA-28-1749-01Z-00': 6.397358087550664, 'TCGA-HT-7676-01Z-00': 48.370490252886476, 'TCGA-TM-A7CF-01Z-00': 45.38732248315169, 'TCGA-06-0190-01Z-00': 15.290933869809352, 'TCGA-CS-4943-01Z-00': 44.06533159125324, 'TCGA-DU-8164-01Z-00': 15.906029701021955, 'TCGA-06-1084-01Z-00': 16.024950626206437, 'TCGA-02-0430-01Z-00': 21.779336640779096, 'TCGA-QH-A65Z-01Z-00': 32.672850822337665, 'TCGA-DU-7014-01Z-00': 19.42223849297838, 'TCGA-S9-A6UB-01Z-00': 68.0895073499597, 'TCGA-FG-5963-01Z-00': 55.292111278417345, 'TCGA-DB-A64L-01Z-00': 40.02149180492879, 'TCGA-02-0338-01Z-00': 24.244084717719122, 'TCGA-QH-A6CU-01Z-00': 34.68188637044032, 'TCGA-DU-7299-01Z-00': 23.157822017313393, 'TCGA-HT-7482-01Z-00': 582.5333732762401, 'TCGA-06-1801-01Z-00': 88.65778746521411, 'TCGA-HT-A5R9-01Z-00': 32.98589775415839, 'TCGA-02-0033-01Z-00': 32.5057161682594, 'TCGA-HT-7603-01Z-00': 134.57553733823127, 'TCGA-27-1831-01Z-00': 398.58055949483844, 'TCGA-DB-A4XG-01Z-00': 51.18321874075999, 'TCGA-08-0518-01Z-00': 388.4157385156773, 'TCGA-14-0787-01Z-00': 71.94921748167025, 'TCGA-HT-7693-01Z-00': 245.29757909288068, 'TCGA-HT-7681-01Z-00': 150.4871436056195, 'TCGA-S9-A7QY-01Z-00': 26.06883126075738, 'TCGA-06-0645-01Z-00': 14.682541744381531, 'TCGA-HT-A617-01Z-00': 46.514840456142835, 'TCGA-S9-A6WL-01Z-00': 54.94672204079856, 'TCGA-14-0789-01Z-00': 618.1268999554557, 'TCGA-DB-A4XE-01Z-00': 122.09339319709905, 'TCGA-08-0520-01Z-00': 31.301332642818473, 'TCGA-06-0878-01Z-00': 28.908031560030544, 'TCGA-15-1446-01Z-00': 148.45555665776848, 'TCGA-HT-7884-01Z-00': 28.696193098622174, 'TCGA-DB-5270-01Z-00': 137.43336414271127, 'TCGA-FG-7636-01Z-00': 73.73293036205204, 'TCGA-HT-8104-01Z-00': 47.81539048684651, 'TCGA-S9-A6U6-01Z-00': 25.742611842299386, 'TCGA-06-0209-01Z-00': 337.6732765802984}\n"
     ]
    }
   ],
   "source": [
    "def get_within_sse():\n",
    "    patient_sse={}\n",
    "    class_sse=[0] * CANCER_CLASSES\n",
    "    overall_sse=0\n",
    "    overall_mean = overall_basics[2]\n",
    "    for patient in ALL_PATIENTS:\n",
    "        patient_sse[patient] = 0\n",
    "    for patient in ALL_PATIENTS:\n",
    "        file = BASE_PATH_IN + patient + '/' + CSVFILE\n",
    "        pcount,ptotal,pmean = patient_basics[patient]\n",
    "        cancer_class = MAPPER[patient]\n",
    "        ccount,ctotal,cmean = class_basics[cancer_class]\n",
    "        with open(file) as infile:\n",
    "            reader = csv.reader(infile)\n",
    "            header = True\n",
    "            for row in reader:\n",
    "                value = row[MCOLUMN]\n",
    "                if header:\n",
    "                    header = False\n",
    "                else:\n",
    "                    value = float(value)\n",
    "                    deviation = overall_mean - value\n",
    "                    overall_sse += deviation**2\n",
    "                    deviation = cmean - value\n",
    "                    class_sse[cancer_class] = class_sse[cancer_class] + deviation**2\n",
    "                    deviation =  pmean - value\n",
    "                    patient_sse[patient] = patient_sse[patient] + deviation**2\n",
    "    return overall_sse,class_sse,patient_sse\n",
    "\n",
    "overall_sse,class_sse,patient_sse = get_within_sse()\n",
    "print('Overall SSE',overall_sse)\n",
    "print('Class SSE',class_sse)\n",
    "print('Patient SSE',patient_sse)"
   ]
  },
  {
   "cell_type": "code",
   "execution_count": 10,
   "metadata": {},
   "outputs": [
    {
     "name": "stdout",
     "output_type": "stream",
     "text": [
      "class mean & stdev\n",
      "3.0542192491436078 0.4099544520508094\n",
      "3.7067342514245385 0.39636732590761664\n",
      "3.7794129525779527 0.42896903802884073\n",
      "3.7132158106594315 0.3914224094655296\n",
      "3.780305697833164 0.44806007807887704\n",
      "3.804893910018473 0.31255251984627314\n",
      "overall mean & stdev\n",
      "3.368078649521237 0.5349418337034457\n"
     ]
    }
   ],
   "source": [
    "print('class mean & stdev')\n",
    "for cls in range(CANCER_CLASSES):\n",
    "    print(class_basics[cls][2],np.sqrt(class_sse[cls]/class_basics[cls][0]))\n",
    "print('overall mean & stdev')    \n",
    "print(overall_basics[2],np.sqrt(overall_sse/overall_basics[0]))"
   ]
  },
  {
   "cell_type": "code",
   "execution_count": 12,
   "metadata": {},
   "outputs": [
    {
     "name": "stdout",
     "output_type": "stream",
     "text": [
      "SSE between classes 8985.336577377375\n",
      "SSE between patients 3037.7352735549966\n"
     ]
    }
   ],
   "source": [
    "def get_between_sse():\n",
    "    patient_between=0\n",
    "    class_between=0\n",
    "    overall_mean = overall_basics[2]\n",
    "    for cls in range(CANCER_CLASSES):\n",
    "        ccount,ctotal,cmean = class_basics[cls]\n",
    "        deviation = overall_mean - cmean\n",
    "        wsse = ccount * deviation**2\n",
    "        class_between += wsse\n",
    "    for patient in ALL_PATIENTS:\n",
    "        pcount,ptotal,pmean = patient_basics[patient]\n",
    "        cancer_class = MAPPER[patient]\n",
    "        ccount,ctotal,cmean = class_basics[cancer_class]\n",
    "        deviation = cmean - pmean\n",
    "        wsse = pcount * deviation**2\n",
    "        patient_between += wsse\n",
    "    return class_between,patient_between\n",
    "\n",
    "class_between,patient_between = get_between_sse()\n",
    "print('SSE between classes',class_between)\n",
    "print('SSE between patients',patient_between)"
   ]
  },
  {
   "cell_type": "code",
   "execution_count": null,
   "metadata": {},
   "outputs": [],
   "source": []
  }
 ],
 "metadata": {
  "kernelspec": {
   "display_name": "Python 3",
   "language": "python",
   "name": "python3"
  },
  "language_info": {
   "codemirror_mode": {
    "name": "ipython",
    "version": 3
   },
   "file_extension": ".py",
   "mimetype": "text/x-python",
   "name": "python",
   "nbconvert_exporter": "python",
   "pygments_lexer": "ipython3",
   "version": "3.8.3"
  }
 },
 "nbformat": 4,
 "nbformat_minor": 4
}
