{
 "cells": [
  {
   "cell_type": "markdown",
   "metadata": {},
   "source": [
    "# Nucleus\n",
    "Break up the CellProfiler Nucleus.csv files.\n",
    "The data were clumped by cancer class (all of class 0 in one Nucleus.csv file) \n",
    "merely because they were processed in that order.\n",
    "\n",
    "Here, create one Nucleus.csv file per case/patient. (We still need to split up other object files like Cells.csv, but we'll do that next.)\n",
    "\n",
    "Whereas the Image.csv files contained patient ID in the FileName_Tumor field,\n",
    "the Nucleus.csv files do not.\n",
    "It is necessary to get the patient ID from the Image.csv file,\n",
    "using their common field ImageNumber.\n",
    "\n",
    "Note there may be 2 or more WSI per case.\n",
    "We aim to predict cancer class per patch, then roll up to WSI or case."
   ]
  },
  {
   "cell_type": "code",
   "execution_count": 1,
   "metadata": {},
   "outputs": [],
   "source": [
    "import numpy as np\n",
    "import pandas as pd\n",
    "import os"
   ]
  },
  {
   "cell_type": "code",
   "execution_count": 2,
   "metadata": {},
   "outputs": [
    {
     "name": "stdout",
     "output_type": "stream",
     "text": [
      "2022-07-23 09:23:34.565151\n"
     ]
    }
   ],
   "source": [
    "from datetime import datetime\n",
    "print(datetime.now())"
   ]
  },
  {
   "cell_type": "code",
   "execution_count": 3,
   "metadata": {},
   "outputs": [],
   "source": [
    "BASE_PATH_IN='/home/jrm/Adjeroh/Naved/CP_80K/'\n",
    "BASE_PATH_OUT='/home/jrm/Adjeroh/Naved/July_Run/CellProfilerOutputs/'\n",
    "INPUT_DIRS=[\n",
    "'Output5/',\n",
    "'Output4/',\n",
    "'Output3/',\n",
    "'Output2/',\n",
    "'Output1/',\n",
    "'Output0/'\n",
    "]\n",
    "FILENAMES=[\n",
    "'Process100_Image.csv',\n",
    "'Process100_Cells.csv',\n",
    "'Process100_ExpandCells.csv',\n",
    "'Process100_Experiment.csv',\n",
    "'Process100_MergeRBC.csv',\n",
    "'Process100_Nucleus.csv',\n",
    "'Process100_RBC.csv',\n",
    "'Process100_ShrinkRBC.csv',\n",
    "'Process100_Tissue.csv']\n",
    "IMAGE_FILENAME = FILENAMES[0]  # Image.csv  \n",
    "OBJECT_FILENAME = FILENAMES[5]  # Nucleus.csv\n",
    "IMAGE_COL='ImageNumber'\n",
    "TUMOR_COL='FileName_Tumor'   # use this column to disambiguate patients\n",
    "PATIENT_COL='Patient'\n",
    "LEN_CASE_ID=19 # prefix of TCGA-06-0129-01Z-00-DX1_5400_5100.png\n",
    "LEN_WSI_ID=23"
   ]
  },
  {
   "cell_type": "markdown",
   "metadata": {},
   "source": [
    "## Process one Image.csv file"
   ]
  },
  {
   "cell_type": "code",
   "execution_count": 4,
   "metadata": {},
   "outputs": [],
   "source": [
    "def add_patient_column(df):\n",
    "    # Patch filename format: TCGA-06-0129-01Z-00-DX1_5400_5100.png\n",
    "    # For WSI ID, use first 23 letters.\n",
    "    # For patient or case ID, use first 19 letters. \n",
    "    patient_column = df[TUMOR_COL].astype(str).str[:LEN_CASE_ID]\n",
    "    # For convenience, add a column containing patient ID.\n",
    "    df[PATIENT_COL] = patient_column\n",
    "    return df"
   ]
  },
  {
   "cell_type": "code",
   "execution_count": 5,
   "metadata": {},
   "outputs": [],
   "source": [
    "# The mapping from patient to image number exists only in the Image.csv file.\n",
    "# All object files (like Nucleus) contain only image number.\n",
    "def get_mapping(indir):\n",
    "    infile = BASE_PATH_IN+indir+IMAGE_FILENAME\n",
    "    print('Reading from',infile)\n",
    "    df = pd.read_csv(infile)\n",
    "    df = add_patient_column(df)\n",
    "    df = df[ [IMAGE_COL,PATIENT_COL] ]\n",
    "    df = df.set_index(IMAGE_COL)\n",
    "    return df"
   ]
  },
  {
   "cell_type": "code",
   "execution_count": 6,
   "metadata": {},
   "outputs": [
    {
     "name": "stdout",
     "output_type": "stream",
     "text": [
      "Reading from /home/jrm/Adjeroh/Naved/CP_80K/Output0/Process100_Image.csv\n"
     ]
    },
    {
     "data": {
      "text/html": [
       "<div>\n",
       "<style scoped>\n",
       "    .dataframe tbody tr th:only-of-type {\n",
       "        vertical-align: middle;\n",
       "    }\n",
       "\n",
       "    .dataframe tbody tr th {\n",
       "        vertical-align: top;\n",
       "    }\n",
       "\n",
       "    .dataframe thead th {\n",
       "        text-align: right;\n",
       "    }\n",
       "</style>\n",
       "<table border=\"1\" class=\"dataframe\">\n",
       "  <thead>\n",
       "    <tr style=\"text-align: right;\">\n",
       "      <th></th>\n",
       "      <th>Patient</th>\n",
       "    </tr>\n",
       "    <tr>\n",
       "      <th>ImageNumber</th>\n",
       "      <th></th>\n",
       "    </tr>\n",
       "  </thead>\n",
       "  <tbody>\n",
       "    <tr>\n",
       "      <th>1</th>\n",
       "      <td>TCGA-02-0004-01Z-00</td>\n",
       "    </tr>\n",
       "    <tr>\n",
       "      <th>2</th>\n",
       "      <td>TCGA-02-0004-01Z-00</td>\n",
       "    </tr>\n",
       "    <tr>\n",
       "      <th>3</th>\n",
       "      <td>TCGA-02-0004-01Z-00</td>\n",
       "    </tr>\n",
       "    <tr>\n",
       "      <th>4</th>\n",
       "      <td>TCGA-02-0004-01Z-00</td>\n",
       "    </tr>\n",
       "    <tr>\n",
       "      <th>5</th>\n",
       "      <td>TCGA-02-0004-01Z-00</td>\n",
       "    </tr>\n",
       "    <tr>\n",
       "      <th>...</th>\n",
       "      <td>...</td>\n",
       "    </tr>\n",
       "    <tr>\n",
       "      <th>44962</th>\n",
       "      <td>TCGA-41-5651-01Z-00</td>\n",
       "    </tr>\n",
       "    <tr>\n",
       "      <th>44963</th>\n",
       "      <td>TCGA-41-5651-01Z-00</td>\n",
       "    </tr>\n",
       "    <tr>\n",
       "      <th>44964</th>\n",
       "      <td>TCGA-41-5651-01Z-00</td>\n",
       "    </tr>\n",
       "    <tr>\n",
       "      <th>44965</th>\n",
       "      <td>TCGA-41-5651-01Z-00</td>\n",
       "    </tr>\n",
       "    <tr>\n",
       "      <th>44966</th>\n",
       "      <td>TCGA-41-5651-01Z-00</td>\n",
       "    </tr>\n",
       "  </tbody>\n",
       "</table>\n",
       "<p>44966 rows × 1 columns</p>\n",
       "</div>"
      ],
      "text/plain": [
       "                         Patient\n",
       "ImageNumber                     \n",
       "1            TCGA-02-0004-01Z-00\n",
       "2            TCGA-02-0004-01Z-00\n",
       "3            TCGA-02-0004-01Z-00\n",
       "4            TCGA-02-0004-01Z-00\n",
       "5            TCGA-02-0004-01Z-00\n",
       "...                          ...\n",
       "44962        TCGA-41-5651-01Z-00\n",
       "44963        TCGA-41-5651-01Z-00\n",
       "44964        TCGA-41-5651-01Z-00\n",
       "44965        TCGA-41-5651-01Z-00\n",
       "44966        TCGA-41-5651-01Z-00\n",
       "\n",
       "[44966 rows x 1 columns]"
      ]
     },
     "execution_count": 6,
     "metadata": {},
     "output_type": "execute_result"
    }
   ],
   "source": [
    "# test\n",
    "image_to_patient = get_mapping(INPUT_DIRS[5])\n",
    "image_to_patient"
   ]
  },
  {
   "cell_type": "markdown",
   "metadata": {},
   "source": [
    "## Process one Nucleus.csv file"
   ]
  },
  {
   "cell_type": "code",
   "execution_count": 7,
   "metadata": {},
   "outputs": [],
   "source": [
    "def get_nuclei(indir):\n",
    "    infile = BASE_PATH_IN+indir+OBJECT_FILENAME\n",
    "    print('Reading from',infile)\n",
    "    df = pd.read_csv(infile)\n",
    "    df = df.set_index(IMAGE_COL)\n",
    "    # In our pipeline, every nucleus has exactly 1 child cell.\n",
    "    # We have no need for the Number_Object_Number or ObjectNumber.\n",
    "    df = df.drop(columns=['Children_Cells_Count','ObjectNumber','Number_Object_Number'])\n",
    "    locations = [c for c in df.columns if c.startswith('Location_')]\n",
    "    df = df.drop(columns=locations)\n",
    "    df[PATIENT_COL]=''  # add a patient column to be filled in later\n",
    "    return df"
   ]
  },
  {
   "cell_type": "code",
   "execution_count": 8,
   "metadata": {},
   "outputs": [],
   "source": [
    "def rollup(df):\n",
    "    rollup = df.groupby([IMAGE_COL]).describe() ## this is slow\n",
    "    rollup.columns=rollup.columns.map('_'.join)  ## helps random forest code\n",
    "    return rollup"
   ]
  },
  {
   "cell_type": "code",
   "execution_count": 9,
   "metadata": {},
   "outputs": [],
   "source": [
    "def populate_patient(df,mapper):\n",
    "    for index, row in df.iterrows():\n",
    "        patient = mapper.loc[index][PATIENT_COL]\n",
    "        #print(index,patient)\n",
    "        df.at[index,PATIENT_COL]=patient\n",
    "    return df"
   ]
  },
  {
   "cell_type": "code",
   "execution_count": null,
   "metadata": {},
   "outputs": [
    {
     "name": "stdout",
     "output_type": "stream",
     "text": [
      "Reading from /home/jrm/Adjeroh/Naved/CP_80K/Output0/Process100_Image.csv\n",
      "Reading from /home/jrm/Adjeroh/Naved/CP_80K/Output0/Process100_Nucleus.csv\n"
     ]
    }
   ],
   "source": [
    "# test\n",
    "mapper = get_mapping(INPUT_DIRS[5])\n",
    "df = get_nuclei(INPUT_DIRS[5])\n",
    "print(df.shape)\n",
    "print('Rollup...')\n",
    "df = rollup(df)\n",
    "print(df.shape)\n",
    "print('Patient...')\n",
    "df = populate_patient(df,mapper)\n",
    "print(df.shape)\n",
    "df"
   ]
  },
  {
   "cell_type": "markdown",
   "metadata": {},
   "source": [
    "# This is where we stopped\n",
    "The describe function is very slow and runs out of memory.\n",
    "We already have mean, median, and stdev in the image.csv file.\n",
    "So, can live without the nucleus file."
   ]
  },
  {
   "cell_type": "code",
   "execution_count": null,
   "metadata": {},
   "outputs": [],
   "source": [
    "print(datetime.now())"
   ]
  },
  {
   "cell_type": "code",
   "execution_count": null,
   "metadata": {},
   "outputs": [],
   "source": [
    "def renumber_images(df):\n",
    "    min_image_num = min(df[IMAGE_COL])\n",
    "    max_image_num = max(df[IMAGE_COL])\n",
    "    print('Original ImageNumber min,max:',min_image_num,max_image_num)\n",
    "    for i in range(len(df)):\n",
    "        old_num=df.at[i,IMAGE_COL]\n",
    "        df.at[i,'ImageNumber']=old_num-min_image_num+1\n",
    "    min_image_num = min(df[IMAGE_COL])\n",
    "    max_image_num = max(df[IMAGE_COL])\n",
    "    print('Revised ImageNumber min,max:',min_image_num,max_image_num)"
   ]
  },
  {
   "cell_type": "code",
   "execution_count": null,
   "metadata": {},
   "outputs": [],
   "source": [
    "def save(df,dirname,filename):\n",
    "    outdir = BASE_PATH_OUT+dirname\n",
    "    try:\n",
    "        os.mkdir(outdir)\n",
    "    except FileExistsError:\n",
    "        print('Directory',dirname,'already exists. May overwrite files in there.')\n",
    "    outfile = outdir+'/'+filename\n",
    "    df.to_csv(outfile,index=False)"
   ]
  },
  {
   "cell_type": "code",
   "execution_count": null,
   "metadata": {},
   "outputs": [],
   "source": [
    "# This loop will have to operate on cancer class\n",
    "# since Image_number starts at 1 per class.\n",
    "\n",
    "def extract_patients(df,filename):\n",
    "    patients = df[PATIENT_COL].unique()\n",
    "    print('Patients to process:',patients)\n",
    "    for one_patient in patients:\n",
    "        print('Start patient',one_patient)\n",
    "        patient_data = df.loc[df[PATIENT_COL]==one_patient]\n",
    "        patient_data = patient_data.reset_index(drop=True) # so iloc starts at zero\n",
    "        renumber_images(patient_data)\n",
    "        save(patient_data,one_patient,filename)\n",
    "        print('Saved patient',one_patient,'filename',filename,'shape:',patient_data.shape)"
   ]
  },
  {
   "cell_type": "markdown",
   "metadata": {},
   "source": [
    "## Process all Nucleus.csv files"
   ]
  },
  {
   "cell_type": "code",
   "execution_count": null,
   "metadata": {
    "scrolled": true
   },
   "outputs": [],
   "source": [
    "\n",
    "\n",
    "for indir in INPUT_DIRS:\n",
    "    infile = BASE_PATH_IN+indir+filename\n",
    "    print('Reading from',infile)\n",
    "    df = pd.read_csv(infile)\n",
    "    print('Original dataframe shape:',df.shape)\n",
    "    df = add_patient_column(df)\n",
    "    extract_patients(df,filename)"
   ]
  },
  {
   "cell_type": "code",
   "execution_count": null,
   "metadata": {},
   "outputs": [],
   "source": [
    "from datetime import datetime\n",
    "print(datetime.now())"
   ]
  },
  {
   "cell_type": "code",
   "execution_count": null,
   "metadata": {},
   "outputs": [],
   "source": [
    "df = pd.read_csv('/home/jrm/Adjeroh/Naved/CP_80K/Output5/Process100_Nucleus.csv')"
   ]
  },
  {
   "cell_type": "code",
   "execution_count": null,
   "metadata": {},
   "outputs": [],
   "source": [
    "for c in df.columns:\n",
    "    print(c)"
   ]
  },
  {
   "cell_type": "code",
   "execution_count": null,
   "metadata": {},
   "outputs": [],
   "source": []
  }
 ],
 "metadata": {
  "kernelspec": {
   "display_name": "Python 3",
   "language": "python",
   "name": "python3"
  },
  "language_info": {
   "codemirror_mode": {
    "name": "ipython",
    "version": 3
   },
   "file_extension": ".py",
   "mimetype": "text/x-python",
   "name": "python",
   "nbconvert_exporter": "python",
   "pygments_lexer": "ipython3",
   "version": "3.8.10"
  }
 },
 "nbformat": 4,
 "nbformat_minor": 4
}
