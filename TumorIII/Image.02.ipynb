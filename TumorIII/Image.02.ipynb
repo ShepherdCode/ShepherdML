{
 "cells": [
  {
   "cell_type": "markdown",
   "metadata": {},
   "source": [
    "# Data 02\n",
    "July 12, 2022 - new train/valid IDs.\n",
    "The split looks good but we're still missing one WSI: TCGA-14-1401-01Z-00-DX1."
   ]
  },
  {
   "cell_type": "code",
   "execution_count": 1,
   "metadata": {},
   "outputs": [],
   "source": [
    "import numpy as np\n",
    "import pandas as pd\n"
   ]
  },
  {
   "cell_type": "code",
   "execution_count": 2,
   "metadata": {},
   "outputs": [],
   "source": [
    "FILEPATH='/home/jrm/Adjeroh/Naved/July_Run/TrainTestSplit_82k/'\n",
    "TRAIN_FILES=['fold0_train.txt','fold1_train.txt','fold2_train.txt','fold3_train.txt','fold4_train.txt']\n",
    "VALID_FILES=['fold0_test.txt','fold1_test.txt','fold2_test.txt','fold3_test.txt','fold4_test.txt']"
   ]
  },
  {
   "cell_type": "code",
   "execution_count": 3,
   "metadata": {},
   "outputs": [
    {
     "data": {
      "text/html": [
       "<div>\n",
       "<style scoped>\n",
       "    .dataframe tbody tr th:only-of-type {\n",
       "        vertical-align: middle;\n",
       "    }\n",
       "\n",
       "    .dataframe tbody tr th {\n",
       "        vertical-align: top;\n",
       "    }\n",
       "\n",
       "    .dataframe thead th {\n",
       "        text-align: right;\n",
       "    }\n",
       "</style>\n",
       "<table border=\"1\" class=\"dataframe\">\n",
       "  <thead>\n",
       "    <tr style=\"text-align: right;\">\n",
       "      <th></th>\n",
       "      <th>PNG</th>\n",
       "      <th>CANCER</th>\n",
       "      <th>CASE</th>\n",
       "      <th>WSI</th>\n",
       "    </tr>\n",
       "  </thead>\n",
       "  <tbody>\n",
       "    <tr>\n",
       "      <th>0</th>\n",
       "      <td>TCGA-06-0129-01Z-00-DX1_5400_5100.png</td>\n",
       "      <td>0</td>\n",
       "      <td>TCGA-06-0129-01Z-00</td>\n",
       "      <td>TCGA-06-0129-01Z-00-DX1</td>\n",
       "    </tr>\n",
       "    <tr>\n",
       "      <th>1</th>\n",
       "      <td>TCGA-06-0129-01Z-00-DX1_5700_6000.png</td>\n",
       "      <td>0</td>\n",
       "      <td>TCGA-06-0129-01Z-00</td>\n",
       "      <td>TCGA-06-0129-01Z-00-DX1</td>\n",
       "    </tr>\n",
       "    <tr>\n",
       "      <th>2</th>\n",
       "      <td>TCGA-06-0129-01Z-00-DX1_2400_2100.png</td>\n",
       "      <td>0</td>\n",
       "      <td>TCGA-06-0129-01Z-00</td>\n",
       "      <td>TCGA-06-0129-01Z-00-DX1</td>\n",
       "    </tr>\n",
       "    <tr>\n",
       "      <th>3</th>\n",
       "      <td>TCGA-06-0129-01Z-00-DX1_5700_3900.png</td>\n",
       "      <td>0</td>\n",
       "      <td>TCGA-06-0129-01Z-00</td>\n",
       "      <td>TCGA-06-0129-01Z-00-DX1</td>\n",
       "    </tr>\n",
       "    <tr>\n",
       "      <th>4</th>\n",
       "      <td>TCGA-06-0129-01Z-00-DX1_4200_3600.png</td>\n",
       "      <td>0</td>\n",
       "      <td>TCGA-06-0129-01Z-00</td>\n",
       "      <td>TCGA-06-0129-01Z-00-DX1</td>\n",
       "    </tr>\n",
       "    <tr>\n",
       "      <th>...</th>\n",
       "      <td>...</td>\n",
       "      <td>...</td>\n",
       "      <td>...</td>\n",
       "      <td>...</td>\n",
       "    </tr>\n",
       "    <tr>\n",
       "      <th>65595</th>\n",
       "      <td>TCGA-DB-A4XG-01Z-00-DX2_60000_42300.png</td>\n",
       "      <td>5</td>\n",
       "      <td>TCGA-DB-A4XG-01Z-00</td>\n",
       "      <td>TCGA-DB-A4XG-01Z-00-DX2</td>\n",
       "    </tr>\n",
       "    <tr>\n",
       "      <th>65596</th>\n",
       "      <td>TCGA-DB-A4XG-01Z-00-DX2_54300_56400.png</td>\n",
       "      <td>5</td>\n",
       "      <td>TCGA-DB-A4XG-01Z-00</td>\n",
       "      <td>TCGA-DB-A4XG-01Z-00-DX2</td>\n",
       "    </tr>\n",
       "    <tr>\n",
       "      <th>65597</th>\n",
       "      <td>TCGA-DB-A4XG-01Z-00-DX2_54300_54600.png</td>\n",
       "      <td>5</td>\n",
       "      <td>TCGA-DB-A4XG-01Z-00</td>\n",
       "      <td>TCGA-DB-A4XG-01Z-00-DX2</td>\n",
       "    </tr>\n",
       "    <tr>\n",
       "      <th>65598</th>\n",
       "      <td>TCGA-DB-A4XG-01Z-00-DX2_57600_57900.png</td>\n",
       "      <td>5</td>\n",
       "      <td>TCGA-DB-A4XG-01Z-00</td>\n",
       "      <td>TCGA-DB-A4XG-01Z-00-DX2</td>\n",
       "    </tr>\n",
       "    <tr>\n",
       "      <th>65599</th>\n",
       "      <td>TCGA-DB-A4XG-01Z-00-DX2_51600_55800.png</td>\n",
       "      <td>5</td>\n",
       "      <td>TCGA-DB-A4XG-01Z-00</td>\n",
       "      <td>TCGA-DB-A4XG-01Z-00-DX2</td>\n",
       "    </tr>\n",
       "  </tbody>\n",
       "</table>\n",
       "<p>65600 rows × 4 columns</p>\n",
       "</div>"
      ],
      "text/plain": [
       "                                           PNG  CANCER                 CASE  \\\n",
       "0        TCGA-06-0129-01Z-00-DX1_5400_5100.png       0  TCGA-06-0129-01Z-00   \n",
       "1        TCGA-06-0129-01Z-00-DX1_5700_6000.png       0  TCGA-06-0129-01Z-00   \n",
       "2        TCGA-06-0129-01Z-00-DX1_2400_2100.png       0  TCGA-06-0129-01Z-00   \n",
       "3        TCGA-06-0129-01Z-00-DX1_5700_3900.png       0  TCGA-06-0129-01Z-00   \n",
       "4        TCGA-06-0129-01Z-00-DX1_4200_3600.png       0  TCGA-06-0129-01Z-00   \n",
       "...                                        ...     ...                  ...   \n",
       "65595  TCGA-DB-A4XG-01Z-00-DX2_60000_42300.png       5  TCGA-DB-A4XG-01Z-00   \n",
       "65596  TCGA-DB-A4XG-01Z-00-DX2_54300_56400.png       5  TCGA-DB-A4XG-01Z-00   \n",
       "65597  TCGA-DB-A4XG-01Z-00-DX2_54300_54600.png       5  TCGA-DB-A4XG-01Z-00   \n",
       "65598  TCGA-DB-A4XG-01Z-00-DX2_57600_57900.png       5  TCGA-DB-A4XG-01Z-00   \n",
       "65599  TCGA-DB-A4XG-01Z-00-DX2_51600_55800.png       5  TCGA-DB-A4XG-01Z-00   \n",
       "\n",
       "                           WSI  \n",
       "0      TCGA-06-0129-01Z-00-DX1  \n",
       "1      TCGA-06-0129-01Z-00-DX1  \n",
       "2      TCGA-06-0129-01Z-00-DX1  \n",
       "3      TCGA-06-0129-01Z-00-DX1  \n",
       "4      TCGA-06-0129-01Z-00-DX1  \n",
       "...                        ...  \n",
       "65595  TCGA-DB-A4XG-01Z-00-DX2  \n",
       "65596  TCGA-DB-A4XG-01Z-00-DX2  \n",
       "65597  TCGA-DB-A4XG-01Z-00-DX2  \n",
       "65598  TCGA-DB-A4XG-01Z-00-DX2  \n",
       "65599  TCGA-DB-A4XG-01Z-00-DX2  \n",
       "\n",
       "[65600 rows x 4 columns]"
      ]
     },
     "execution_count": 3,
     "metadata": {},
     "output_type": "execute_result"
    }
   ],
   "source": [
    "def load_df(train,fold):\n",
    "    filepath = FILEPATH\n",
    "    if train:\n",
    "        filepath += TRAIN_FILES[fold]\n",
    "    else:\n",
    "        filepath += VALID_FILES[fold]\n",
    "    df         = pd.read_csv(filepath,header=None)\n",
    "    df.columns = ['PNG','CANCER']     \n",
    "    df['CASE'] = df['PNG'].str[0:19]\n",
    "    df['WSI']  = df['PNG'].str[0:23]\n",
    "    return df\n",
    "train0 = load_df(True,0)\n",
    "train0"
   ]
  },
  {
   "cell_type": "markdown",
   "metadata": {},
   "source": [
    "Counts breakdown by train/valid and by cancer class."
   ]
  },
  {
   "cell_type": "code",
   "execution_count": 4,
   "metadata": {},
   "outputs": [],
   "source": [
    "def get_breakdown(df,column):\n",
    "    breakdown=[]\n",
    "    for c in range(6):\n",
    "        rows = df.loc[df['CANCER']==c]\n",
    "        uniq = rows[column].nunique()\n",
    "        breakdown.append(uniq)\n",
    "    return breakdown\n",
    "def triple(category,df1,df2,column):\n",
    "    a = df1[column].nunique()\n",
    "    b = df2[column].nunique()\n",
    "    breakdown1 = get_breakdown(df1,column)\n",
    "    breakdown2 = get_breakdown(df2,column)\n",
    "    print('%15s %6d %6d %6d' % (category,a,b,a+b),end='   ')\n",
    "    print(breakdown1,breakdown2)\n",
    "def basic_stats(train,valid):\n",
    "    triple('Unique CASE:',train,valid,'CASE')\n",
    "    triple('Unique WSI :',train,valid,'WSI')\n",
    "    triple('Unique PNG :',train,valid,'PNG')"
   ]
  },
  {
   "cell_type": "code",
   "execution_count": 5,
   "metadata": {},
   "outputs": [
    {
     "name": "stdout",
     "output_type": "stream",
     "text": [
      "Fold 0           Train  Valid  Total   [Train Breakdown] [Valid Breakdown]\n",
      "   Unique CASE:     83     25    108   [36, 16, 13, 11, 5, 2] [10, 5, 4, 3, 2, 1]\n",
      "   Unique WSI :    171     45    216   [101, 24, 25, 13, 5, 3] [16, 9, 12, 4, 3, 1]\n",
      "   Unique PNG :  65600  17370  82970   [38865, 9391, 9273, 4873, 2003, 1195] [6101, 3511, 4677, 1491, 1194, 396]\n",
      "Fold 1           Train  Valid  Total   [Train Breakdown] [Valid Breakdown]\n",
      "   Unique CASE:     83     25    108   [36, 16, 13, 11, 5, 2] [10, 5, 4, 3, 2, 1]\n",
      "   Unique WSI :    160     56    216   [86, 23, 29, 13, 6, 3] [31, 10, 8, 4, 2, 1]\n",
      "   Unique PNG :  61605  21365  82970   [32935, 8983, 11108, 5000, 2393, 1186] [12031, 3919, 2842, 1364, 804, 405]\n",
      "Fold 2           Train  Valid  Total   [Train Breakdown] [Valid Breakdown]\n",
      "   Unique CASE:     83     25    108   [36, 16, 13, 11, 5, 2] [10, 5, 4, 3, 2, 1]\n",
      "   Unique WSI :    168     48    216   [101, 26, 20, 12, 6, 3] [16, 7, 17, 5, 2, 1]\n",
      "   Unique PNG :  65500  17470  82970   [39186, 10166, 7946, 4608, 2399, 1195] [5780, 2736, 6004, 1756, 798, 396]\n",
      "Fold 3           Train  Valid  Total   [Train Breakdown] [Valid Breakdown]\n",
      "   Unique CASE:     83     25    108   [36, 16, 13, 11, 5, 2] [10, 5, 4, 3, 2, 1]\n",
      "   Unique WSI :    167     49    216   [93, 26, 26, 13, 6, 3] [24, 7, 11, 4, 2, 1]\n",
      "   Unique PNG :  64473  18497  82970   [35829, 10152, 9881, 5013, 2412, 1186] [9137, 2750, 4069, 1351, 785, 405]\n",
      "Fold 4           Train  Valid  Total   [Train Breakdown] [Valid Breakdown]\n",
      "   Unique CASE:     83     25    108   [36, 16, 13, 11, 5, 2] [10, 5, 4, 3, 2, 1]\n",
      "   Unique WSI :    174     42    216   [96, 26, 29, 14, 6, 3] [21, 7, 8, 3, 2, 1]\n",
      "   Unique PNG :  66577  16393  82970   [36905, 10170, 10754, 5181, 2381, 1186] [8061, 2732, 3196, 1183, 816, 405]\n"
     ]
    }
   ],
   "source": [
    "for fold in range(5):\n",
    "    print('Fold',fold,'          Train  Valid  Total   [Train Breakdown] [Valid Breakdown]')\n",
    "    train_df = load_df(True,fold)\n",
    "    valid_df = load_df(False,fold)\n",
    "    basic_stats(train_df,valid_df)"
   ]
  },
  {
   "cell_type": "markdown",
   "metadata": {},
   "source": [
    "Validate that no case is in the train and valid of the same fold."
   ]
  },
  {
   "cell_type": "code",
   "execution_count": 9,
   "metadata": {},
   "outputs": [
    {
     "name": "stdout",
     "output_type": "stream",
     "text": [
      "No problems\n"
     ]
    }
   ],
   "source": [
    "problems = 0\n",
    "for fold in range(5):\n",
    "    train_df = load_df(True,fold)\n",
    "    valid_df = load_df(False,fold)\n",
    "    valid_cases = valid_df['CASE'].unique() \n",
    "    for case in valid_cases:\n",
    "        matching_train_cases = train_df.loc[train_df['CASE']==case]\n",
    "        if len(matching_train_cases) > 0:\n",
    "            print(\"Problem with case\",case)\n",
    "            problems += 1\n",
    "if problems==0:\n",
    "    print(\"No problems\")"
   ]
  },
  {
   "cell_type": "code",
   "execution_count": null,
   "metadata": {},
   "outputs": [],
   "source": []
  }
 ],
 "metadata": {
  "kernelspec": {
   "display_name": "Python 3",
   "language": "python",
   "name": "python3"
  },
  "language_info": {
   "codemirror_mode": {
    "name": "ipython",
    "version": 3
   },
   "file_extension": ".py",
   "mimetype": "text/x-python",
   "name": "python",
   "nbconvert_exporter": "python",
   "pygments_lexer": "ipython3",
   "version": "3.8.10"
  }
 },
 "nbformat": 4,
 "nbformat_minor": 4
}
