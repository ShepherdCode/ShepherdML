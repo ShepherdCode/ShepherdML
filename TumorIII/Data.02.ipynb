{
 "cells": [
  {
   "cell_type": "markdown",
   "metadata": {},
   "source": [
    "# The Data\n",
    "July 12, 2022 - new train/valid IDs"
   ]
  },
  {
   "cell_type": "code",
   "execution_count": 1,
   "metadata": {},
   "outputs": [],
   "source": [
    "import numpy as np\n",
    "import pandas as pd\n"
   ]
  },
  {
   "cell_type": "code",
   "execution_count": 2,
   "metadata": {},
   "outputs": [],
   "source": [
    "FILEPATH='/home/jrm/Adjeroh/Naved/July_Run/TrainTestSplit_82k/'\n",
    "TRAIN_FILES=['fold0_train.txt','fold1_train.txt','fold2_train.txt','fold3_train.txt','fold4_train.txt']\n",
    "TEST_FILES=['fold0_test.txt','fold1_test.txt','fold2_test.txt','fold3_test.txt','fold4_test.txt']"
   ]
  },
  {
   "cell_type": "code",
   "execution_count": 3,
   "metadata": {},
   "outputs": [],
   "source": [
    "def load_df(train,fold):\n",
    "    filepath = FILEPATH\n",
    "    if train:\n",
    "        filepath += TRAIN_FILES[fold]\n",
    "    else:\n",
    "        filepath += TEST_FILES[fold]\n",
    "    df         = pd.read_csv(filepath,header=None)\n",
    "    df.columns = ['PNG','CANCER']     \n",
    "    df['CASE'] = df['PNG'].str[0:19]\n",
    "    df['WSI']  = df['PNG'].str[0:23]\n",
    "    return df"
   ]
  },
  {
   "cell_type": "code",
   "execution_count": 4,
   "metadata": {},
   "outputs": [],
   "source": [
    "def basic_stats(train,test):\n",
    "    print('Dataset:',name)\n",
    "    print('Unique cases: %d + %d = %d',  )\n",
    "    print('Unique WSI:',    df['WSI'].nunique())\n",
    "    print('Unique patches:',df['PNG'].nunique())"
   ]
  },
  {
   "cell_type": "code",
   "execution_count": 5,
   "metadata": {},
   "outputs": [
    {
     "name": "stdout",
     "output_type": "stream",
     "text": [
      "Dataset: train0\n",
      "Unique cases: 83\n",
      "Unique WSI: 171\n",
      "Unique patches: 65600\n",
      "Dataset: test0\n",
      "Unique cases: 25\n",
      "Unique WSI: 45\n",
      "Unique patches: 17370\n"
     ]
    }
   ],
   "source": [
    "fold=0\n",
    "print('Fold',fold)\n",
    "train_df = load_df(True,fold)\n",
    "test_df = load_df(False,fold)\n",
    "basic_stats(train_df,test_df)"
   ]
  },
  {
   "cell_type": "code",
   "execution_count": null,
   "metadata": {},
   "outputs": [],
   "source": [
    "\n"
   ]
  },
  {
   "cell_type": "code",
   "execution_count": null,
   "metadata": {},
   "outputs": [],
   "source": []
  }
 ],
 "metadata": {
  "kernelspec": {
   "display_name": "Python 3",
   "language": "python",
   "name": "python3"
  },
  "language_info": {
   "codemirror_mode": {
    "name": "ipython",
    "version": 3
   },
   "file_extension": ".py",
   "mimetype": "text/x-python",
   "name": "python",
   "nbconvert_exporter": "python",
   "pygments_lexer": "ipython3",
   "version": "3.8.10"
  }
 },
 "nbformat": 4,
 "nbformat_minor": 4
}
