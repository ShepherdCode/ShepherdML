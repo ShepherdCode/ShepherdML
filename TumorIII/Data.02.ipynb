{
 "cells": [
  {
   "cell_type": "markdown",
   "metadata": {},
   "source": [
    "# The Data\n",
    "July 12, 2022 - new train/valid IDs"
   ]
  },
  {
   "cell_type": "code",
   "execution_count": 1,
   "metadata": {},
   "outputs": [],
   "source": [
    "import numpy as np\n",
    "import pandas as pd\n"
   ]
  },
  {
   "cell_type": "code",
   "execution_count": 2,
   "metadata": {},
   "outputs": [],
   "source": [
    "FILEPATH='/home/jrm/Adjeroh/Naved/July_Run/TrainTestSplit_82k/'\n",
    "TRAIN_FILES=['fold0_train.txt','fold1_train.txt','fold2_train.txt','fold3_train.txt','fold4_train.txt']\n",
    "TEST_FILES=['fold0_test.txt','fold1_test.txt','fold2_test.txt','fold3_test.txt','fold4_test.txt']"
   ]
  },
  {
   "cell_type": "code",
   "execution_count": 13,
   "metadata": {},
   "outputs": [],
   "source": [
    "def load_df(train,fold):\n",
    "    filepath = FILEPATH\n",
    "    if train:\n",
    "        filepath += TRAIN_FILES[fold]\n",
    "    else:\n",
    "        filepath += TEST_FILES[fold]\n",
    "    df         = pd.read_csv(filepath,header=None)\n",
    "    df.columns = ['PNG','CANCER']     \n",
    "    df['CASE'] = df['PNG'].str[0:19]\n",
    "    df['WSI']  = df['PNG'].str[0:23]\n",
    "    return df"
   ]
  },
  {
   "cell_type": "code",
   "execution_count": 37,
   "metadata": {},
   "outputs": [],
   "source": [
    "def triple(df1,df2,column):\n",
    "    a = df1[column].nunique()\n",
    "    b = df2[column].nunique()\n",
    "    return (a, b, a+b)\n",
    "def basic_stats(train,test):\n",
    "    print('Category:    %6s\\t%5s\\t%6s'%('train','test','total'))\n",
    "    print('Unique CASE: %6d\\t%5d\\t%6d' % triple(train,test,'CASE'))\n",
    "    print('Unique WSI:  %6d\\t%5d\\t%6d' % triple(train,test,'WSI'))\n",
    "    print('Unique PNG:  %6d\\t%5d\\t%6d' % triple(train,test,'PNG'))\n",
    "    a = train['CANCER'].value_counts()\n",
    "    b = test['CANCER'].value_counts()\n",
    "    for cancer in range(6):\n",
    "        aa = a[cancer]\n",
    "        bb = b[cancer]\n",
    "        print('Class %d:     %6d\\t%5d\\t%6d' % (cancer,aa,bb,aa+bb))\n"
   ]
  },
  {
   "cell_type": "code",
   "execution_count": 38,
   "metadata": {},
   "outputs": [
    {
     "name": "stdout",
     "output_type": "stream",
     "text": [
      "Fold 0\n",
      "Category:     train\t test\t total\n",
      "Unique CASE:     83\t   25\t   108\n",
      "Unique WSI:     171\t   45\t   216\n",
      "Unique PNG:   65600\t17370\t 82970\n",
      "Class 0:      38865\t 6101\t 44966\n",
      "Class 1:       9391\t 3511\t 12902\n",
      "Class 2:       9273\t 4677\t 13950\n",
      "Class 3:       4873\t 1491\t  6364\n",
      "Class 4:       2003\t 1194\t  3197\n",
      "Class 5:       1195\t  396\t  1591\n",
      "Fold 1\n",
      "Category:     train\t test\t total\n",
      "Unique CASE:     83\t   25\t   108\n",
      "Unique WSI:     160\t   56\t   216\n",
      "Unique PNG:   61605\t21365\t 82970\n",
      "Class 0:      32935\t12031\t 44966\n",
      "Class 1:       8983\t 3919\t 12902\n",
      "Class 2:      11108\t 2842\t 13950\n",
      "Class 3:       5000\t 1364\t  6364\n",
      "Class 4:       2393\t  804\t  3197\n",
      "Class 5:       1186\t  405\t  1591\n",
      "Fold 2\n",
      "Category:     train\t test\t total\n",
      "Unique CASE:     83\t   25\t   108\n",
      "Unique WSI:     168\t   48\t   216\n",
      "Unique PNG:   65500\t17470\t 82970\n",
      "Class 0:      39186\t 5780\t 44966\n",
      "Class 1:      10166\t 2736\t 12902\n",
      "Class 2:       7946\t 6004\t 13950\n",
      "Class 3:       4608\t 1756\t  6364\n",
      "Class 4:       2399\t  798\t  3197\n",
      "Class 5:       1195\t  396\t  1591\n",
      "Fold 3\n",
      "Category:     train\t test\t total\n",
      "Unique CASE:     83\t   25\t   108\n",
      "Unique WSI:     167\t   49\t   216\n",
      "Unique PNG:   64473\t18497\t 82970\n",
      "Class 0:      35829\t 9137\t 44966\n",
      "Class 1:      10152\t 2750\t 12902\n",
      "Class 2:       9881\t 4069\t 13950\n",
      "Class 3:       5013\t 1351\t  6364\n",
      "Class 4:       2412\t  785\t  3197\n",
      "Class 5:       1186\t  405\t  1591\n",
      "Fold 4\n",
      "Category:     train\t test\t total\n",
      "Unique CASE:     83\t   25\t   108\n",
      "Unique WSI:     174\t   42\t   216\n",
      "Unique PNG:   66577\t16393\t 82970\n",
      "Class 0:      36905\t 8061\t 44966\n",
      "Class 1:      10170\t 2732\t 12902\n",
      "Class 2:      10754\t 3196\t 13950\n",
      "Class 3:       5181\t 1183\t  6364\n",
      "Class 4:       2381\t  816\t  3197\n",
      "Class 5:       1186\t  405\t  1591\n"
     ]
    }
   ],
   "source": [
    "for fold in range(5):\n",
    "    print('Fold',fold)\n",
    "    train_df = load_df(True,fold)\n",
    "    test_df = load_df(False,fold)\n",
    "    basic_stats(train_df,test_df)"
   ]
  },
  {
   "cell_type": "code",
   "execution_count": null,
   "metadata": {},
   "outputs": [],
   "source": [
    "\n"
   ]
  },
  {
   "cell_type": "code",
   "execution_count": null,
   "metadata": {},
   "outputs": [],
   "source": []
  }
 ],
 "metadata": {
  "kernelspec": {
   "display_name": "Python 3",
   "language": "python",
   "name": "python3"
  },
  "language_info": {
   "codemirror_mode": {
    "name": "ipython",
    "version": 3
   },
   "file_extension": ".py",
   "mimetype": "text/x-python",
   "name": "python",
   "nbconvert_exporter": "python",
   "pygments_lexer": "ipython3",
   "version": "3.8.10"
  }
 },
 "nbformat": 4,
 "nbformat_minor": 4
}
