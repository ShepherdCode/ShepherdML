{
 "cells": [
  {
   "cell_type": "markdown",
   "metadata": {},
   "source": [
    "# CNN\n",
    "Convolutional Neural Networks (CNN) are designed for image data.\n",
    "A convolution can be amathematical combination of selected pixels.\n",
    "Image CNNs are 2D but sequences can use 1D CNNs.\n",
    "CNNs apply a filters (also called a kernel) \n",
    "i.e. one set of shared weights \n",
    "used as a sliding window over the image.\n",
    "CNNs use pooling layers \n",
    "i.e. a filter that collapses multiple filter outputs (3D) \n",
    "to one flat \"image\" (2D).\n",
    "\n",
    "See our separate notebook for convLSTM."
   ]
  },
  {
   "cell_type": "markdown",
   "metadata": {},
   "source": [
    "## Documentation\n",
    "\n",
    "TensorFlow\n",
    "[CNN](https://www.tensorflow.org/tutorials/images/cnn)\n",
    "\n",
    "See also AveragePooling2D, Conv1D, Conv2D, ConvLSTM2D, Conv2DTranspose\n"
   ]
  },
  {
   "cell_type": "markdown",
   "metadata": {},
   "source": [
    "## Literature\n",
    "Where to start?"
   ]
  },
  {
   "cell_type": "code",
   "execution_count": null,
   "metadata": {},
   "outputs": [],
   "source": []
  }
 ],
 "metadata": {
  "kernelspec": {
   "display_name": "Python 3",
   "language": "python",
   "name": "python3"
  },
  "language_info": {
   "codemirror_mode": {
    "name": "ipython",
    "version": 3
   },
   "file_extension": ".py",
   "mimetype": "text/x-python",
   "name": "python",
   "nbconvert_exporter": "python",
   "pygments_lexer": "ipython3",
   "version": "3.8.3"
  }
 },
 "nbformat": 4,
 "nbformat_minor": 2
}
