{
  "nbformat": 4,
  "nbformat_minor": 0,
  "metadata": {
    "accelerator": "GPU",
    "colab": {
      "name": "GRU_302.ipynb",
      "provenance": [],
      "collapsed_sections": []
    },
    "kernelspec": {
      "display_name": "Python 3",
      "language": "python",
      "name": "python3"
    },
    "language_info": {
      "codemirror_mode": {
        "name": "ipython",
        "version": 3
      },
      "file_extension": ".py",
      "mimetype": "text/x-python",
      "name": "python",
      "nbconvert_exporter": "python",
      "pygments_lexer": "ipython3",
      "version": "3.8.3"
    }
  },
  "cells": [
    {
      "cell_type": "markdown",
      "metadata": {
        "id": "ojm_6E9f9Kcf"
      },
      "source": [
        "# GRU 302\n",
        "Start with GRU 301 which did train on long, test on short.\n",
        "Here train on short, test on long."
      ]
    },
    {
      "cell_type": "code",
      "metadata": {
        "colab": {
          "base_uri": "https://localhost:8080/"
        },
        "id": "hh6XplUvC0j0",
        "outputId": "1565d90e-e781-413f-c3e5-c4d87c4871a7"
      },
      "source": [
        "TRAIN_NC_FILENAME='ncRNA.gc36.short.fasta'\n",
        "TRAIN_PC_FILENAME='pcRNA.gc36.short.fasta'\n",
        "VALID_NC_FILENAME='ncRNA.gc36.long.fasta'\n",
        "VALID_PC_FILENAME='pcRNA.gc36.long.fasta'\n",
        "#NC_FILENAME='ncRNA.tiny50.fasta'\n",
        "#PC_FILENAME='pcRNA.tiny50.fasta'\n",
        "#NC_FILENAME='ncRNA.gc34.processed.fasta'\n",
        "#PC_FILENAME='pcRNA.gc34.processed.fasta'\n",
        "\n",
        "MODEL_FILE='JUNK2'  # change this if you want to keep models\n",
        "DATAPATH=''\n",
        "\n",
        "try:\n",
        "    from google.colab import drive\n",
        "    IN_COLAB = True\n",
        "    PATH='/content/drive/'\n",
        "    drive.mount(PATH)\n",
        "    DATAPATH=PATH+'My Drive/data/'  # must end in \"/\"\n",
        "except:\n",
        "    IN_COLAB = False\n",
        "    DATAPATH='data/'  # must end in \"/\"\n",
        "TRAIN_NC_FILENAME = DATAPATH+TRAIN_NC_FILENAME\n",
        "TRAIN_PC_FILENAME = DATAPATH+TRAIN_PC_FILENAME\n",
        "VALID_NC_FILENAME = DATAPATH+VALID_NC_FILENAME\n",
        "VALID_PC_FILENAME = DATAPATH+VALID_PC_FILENAME\n",
        "MODEL_FILE=DATAPATH+MODEL_FILE\n",
        "\n",
        "EPOCHS=200\n",
        "SPLITS=5\n",
        "ONEHOT=5  \n",
        "NEURONS=64\n",
        "DROP=0.10\n",
        "ACT=\"tanh\"\n",
        "MINLEN=201\n",
        "MAXLEN=2000\n",
        "LIMIT=5588    # This is the size of our smallest set (protein coding short)"
      ],
      "execution_count": 1,
      "outputs": [
        {
          "output_type": "stream",
          "text": [
            "Mounted at /content/drive/\n"
          ],
          "name": "stdout"
        }
      ]
    },
    {
      "cell_type": "code",
      "metadata": {
        "colab": {
          "base_uri": "https://localhost:8080/"
        },
        "id": "e9TY3HK9ZklE",
        "outputId": "a09f5a60-f46d-4ea6-e040-bbdc96163755"
      },
      "source": [
        "# Load our own tools\n",
        "# TO DO: don't go to GitHub if the file is already local.\n",
        "GITHUB = True\n",
        "if GITHUB:\n",
        "    #!pip install requests  # Uncomment this if necessary. Seems to be pre-installed.\n",
        "    import requests\n",
        "    r = requests.get('https://raw.githubusercontent.com/ShepherdCode/ShepherdML/master/Strings/tools_fasta.py')\n",
        "    with open('tools_fasta.py', 'w') as f:\n",
        "        f.write(r.text)\n",
        "    # TO DO: delete the file after import\n",
        "import tools_fasta as tools\n",
        "tools.yahoo()  # If this prints \"Yahoo!\" the the import was successful.\n",
        "\n",
        "TOOLS_CHANGED = False   # set to True to re-run with a new version of tools\n",
        "if TOOLS_CHANGED:\n",
        "  from importlib import reload \n",
        "  tools=reload(tools)\n",
        "  print(dir(tools))   # run this to see EVERYTHING in the tools module"
      ],
      "execution_count": 2,
      "outputs": [
        {
          "output_type": "stream",
          "text": [
            "Yahoo!\n"
          ],
          "name": "stdout"
        }
      ]
    },
    {
      "cell_type": "code",
      "metadata": {
        "id": "VQY7aTj29Kch"
      },
      "source": [
        "import numpy as np\n",
        "import pandas as pd\n",
        "import matplotlib.pyplot as plt\n",
        "from sklearn.model_selection import ShuffleSplit\n",
        "from sklearn.model_selection import cross_val_score\n",
        "from sklearn.model_selection import RepeatedKFold\n",
        "from sklearn.model_selection import StratifiedKFold\n",
        "import tensorflow as tf\n",
        "from tensorflow import keras\n",
        "import time\n",
        "dt='float32'\n",
        "tf.keras.backend.set_floatx(dt)"
      ],
      "execution_count": 3,
      "outputs": []
    },
    {
      "cell_type": "markdown",
      "metadata": {
        "id": "j7jcg6Wl9Kc2"
      },
      "source": [
        "Build model"
      ]
    },
    {
      "cell_type": "code",
      "metadata": {
        "id": "qLFNO1Xa9Kc3"
      },
      "source": [
        "def compile_model(model):\n",
        "    ## learn rate = initial_learning_rate * decay_rate ^ (step / decay_steps)\n",
        "    #adam_default_learn_rate = 0.001\n",
        "    #schedule = tf.keras.optimizers.schedules.ExponentialDecay(\n",
        "    #    initial_learning_rate = adam_default_learn_rate*10,\n",
        "    #    decay_steps=10000, decay_rate=0.99, staircase=True)\n",
        "    #alrd = tf.keras.optimizers.Adam(learning_rate=schedule)\n",
        "    #model.compile(loss=bc, optimizer=alrd, metrics=[\"accuracy\"])\n",
        "\n",
        "    print(\"COMPILE...\")\n",
        "    bc=tf.keras.losses.BinaryCrossentropy(from_logits=False)\n",
        "    model.compile(loss=bc, optimizer=\"adam\", metrics=[\"accuracy\"])\n",
        "    print(\"...COMPILED\")\n",
        "    return model\n",
        "\n",
        "def build_model():\n",
        "    MASK=[0,0,0,0,1] # to do: get one_hot('N') from the one_hot() function.\n",
        "    mask_layer = keras.layers.Masking(mask_value=MASK, input_shape=[MAXLEN,ONEHOT])\n",
        "    rlayer1 = keras.layers.GRU(NEURONS, return_sequences=True, \n",
        "        activation=ACT, dropout=DROP )  \n",
        "    rlayer2 = keras.layers.GRU(NEURONS, return_sequences=True, \n",
        "        activation=ACT, dropout=DROP) \n",
        "    rlayer3 = keras.layers.GRU(NEURONS, return_sequences=True, \n",
        "        activation=ACT, dropout=DROP) \n",
        "    rlayer4 = keras.layers.GRU(NEURONS, return_sequences=False, \n",
        "        activation=ACT, dropout=DROP) \n",
        "\n",
        "    dlayer1 = keras.layers.Dense(NEURONS, activation=ACT,dtype=dt)\n",
        "    dlayer2 = keras.layers.Dropout(DROP)\n",
        "    dlayer3 = keras.layers.Dense(NEURONS, activation=ACT,dtype=dt)\n",
        "    dlayer4 = keras.layers.Dropout(DROP)\n",
        "    output_layer = keras.layers.Dense(1, activation=\"sigmoid\", dtype=dt)\n",
        "\n",
        "    rnn = keras.models.Sequential()\n",
        "    rnn.add(mask_layer)\n",
        "    rnn.add(rlayer1)\n",
        "    rnn.add(rlayer2)\n",
        "    rnn.add(rlayer3)\n",
        "    rnn.add(rlayer4)\n",
        "    rnn.add(dlayer1)\n",
        "    rnn.add(dlayer2)\n",
        "    rnn.add(dlayer3)\n",
        "    rnn.add(dlayer4)\n",
        "    rnn.add(output_layer)\n",
        "    compiled = compile_model(rnn)\n",
        "    return compiled"
      ],
      "execution_count": 4,
      "outputs": []
    },
    {
      "cell_type": "markdown",
      "metadata": {
        "id": "LdIS2utq9Kc9"
      },
      "source": [
        "Cross validation"
      ]
    },
    {
      "cell_type": "code",
      "metadata": {
        "id": "BVo4tbB_9Kc-"
      },
      "source": [
        "def do_cross_validation(X_train,y_train,given_model,X_valid,y_valid):\n",
        "    cv_scores = []\n",
        "    fold=0\n",
        "    # When not using ShuffleSplit, make sure to randomize train data.\n",
        "    #splitter = ShuffleSplit(n_splits=SPLITS, test_size=0.1, random_state=37863)\n",
        "    #for train_index,valid_index in splitter.split(X):\n",
        "    while fold < SPLITS:\n",
        "        fold += 1\n",
        "        # Avoid continually improving the same model.\n",
        "        model = compile_model(keras.models.clone_model(given_model))\n",
        "        bestname=MODEL_FILE+\".cv.\"+str(fold)+\".best\"\n",
        "        es = keras.callbacks.EarlyStopping(monitor='val_loss',  \n",
        "            patience=10, verbose=1)\n",
        "        mc = keras.callbacks.ModelCheckpoint(\n",
        "            filepath=bestname, save_best_only=True, \n",
        "            monitor='val_accuracy', mode='max')  \n",
        "        mycallbacks = [es,mc]  \n",
        "        print(\"FIT\")\n",
        "        start_time=time.time()\n",
        "        history=model.fit(X_train, y_train, # batch_size=10, default=32 works nicely\n",
        "                epochs=EPOCHS, verbose=1,  # verbose=1 for ascii art, verbose=0 for none\n",
        "                callbacks=mycallbacks, shuffle=True,\n",
        "                validation_data=(X_valid,y_valid) )\n",
        "        end_time=time.time()\n",
        "        elapsed_time=(end_time-start_time)                        \n",
        "        print(\"Fold %d, %d epochs, %d sec\"%(fold,EPOCHS,elapsed_time))\n",
        "        pd.DataFrame(history.history).plot(figsize=(8,5))\n",
        "        plt.grid(True)\n",
        "        plt.gca().set_ylim(0,1)\n",
        "        plt.show()\n",
        "        best_model=keras.models.load_model(bestname)\n",
        "        scores = best_model.evaluate(X_valid, y_valid, verbose=0)\n",
        "        print(\"%s: %.2f%%\" % (best_model.metrics_names[1], scores[1]*100))\n",
        "        cv_scores.append(scores[1] * 100)  \n",
        "\n",
        "    print()\n",
        "    print(\"%d-way Cross Validation max %.2f%%, mean %.2f%% (+/- %.2f%%)\" % \n",
        "          (fold, np.amax(cv_scores), np.mean(cv_scores), np.std(cv_scores)))"
      ],
      "execution_count": 5,
      "outputs": []
    },
    {
      "cell_type": "markdown",
      "metadata": {
        "id": "qd3Wj_vI9KdP"
      },
      "source": [
        "## Train on RNA lengths 200-1Kb"
      ]
    },
    {
      "cell_type": "code",
      "metadata": {
        "colab": {
          "base_uri": "https://localhost:8080/"
        },
        "id": "G1HuSs8ZbeL4",
        "outputId": "3693de0d-8a35-4076-9526-64b0c3be58bf"
      },
      "source": [
        "print (\"Compile the model\")\n",
        "model=build_model()\n",
        "print (\"Summarize the model\")\n",
        "print(model.summary())  # Print this only once\n",
        "#model.save(MODEL_FILE+'.model')\n"
      ],
      "execution_count": 6,
      "outputs": [
        {
          "output_type": "stream",
          "text": [
            "Compile the model\n",
            "COMPILE...\n",
            "...COMPILED\n",
            "Summarize the model\n",
            "Model: \"sequential\"\n",
            "_________________________________________________________________\n",
            "Layer (type)                 Output Shape              Param #   \n",
            "=================================================================\n",
            "masking (Masking)            (None, 2000, 5)           0         \n",
            "_________________________________________________________________\n",
            "gru (GRU)                    (None, 2000, 64)          13632     \n",
            "_________________________________________________________________\n",
            "gru_1 (GRU)                  (None, 2000, 64)          24960     \n",
            "_________________________________________________________________\n",
            "gru_2 (GRU)                  (None, 2000, 64)          24960     \n",
            "_________________________________________________________________\n",
            "gru_3 (GRU)                  (None, 64)                24960     \n",
            "_________________________________________________________________\n",
            "dense (Dense)                (None, 64)                4160      \n",
            "_________________________________________________________________\n",
            "dropout (Dropout)            (None, 64)                0         \n",
            "_________________________________________________________________\n",
            "dense_1 (Dense)              (None, 64)                4160      \n",
            "_________________________________________________________________\n",
            "dropout_1 (Dropout)          (None, 64)                0         \n",
            "_________________________________________________________________\n",
            "dense_2 (Dense)              (None, 1)                 65        \n",
            "=================================================================\n",
            "Total params: 96,897\n",
            "Trainable params: 96,897\n",
            "Non-trainable params: 0\n",
            "_________________________________________________________________\n",
            "None\n"
          ],
          "name": "stdout"
        }
      ]
    },
    {
      "cell_type": "code",
      "metadata": {
        "colab": {
          "base_uri": "https://localhost:8080/"
        },
        "id": "f8fNo6sn9KdH",
        "outputId": "9eae1aec-4af8-42de-fd25-68671fdb57b1"
      },
      "source": [
        "def load_data(nc_filename,pc_filename,limit=None):\n",
        "  nc_seq=tools.load_fasta(nc_filename,0)\n",
        "  pc_seq=tools.load_fasta(pc_filename,1)\n",
        "  if limit is not None:\n",
        "    # Choose a random subset of size = limit.\n",
        "    # Side effect: randomizes the data order.\n",
        "    nfrac=1.0*limit/len(nc_seq)\n",
        "    pfrac=1.0*limit/len(pc_seq)\n",
        "    if nfrac<1.0:\n",
        "      nc_seq=nc_seq.sample(frac=nfrac)\n",
        "    if pfrac<1.0:\n",
        "      pc_seq=pc_seq.sample(frac=pfrac)\n",
        "  train_set=pd.concat((nc_seq,pc_seq),axis=0)\n",
        "  # May not need to slice by length if input files already sliced\n",
        "  subset=tools.make_slice(train_set,MINLEN,MAXLEN)\n",
        "  # randset=subset.sample(frac=1) # unneccessary with fit(shuffle)\n",
        "  (X1,y1)=tools.separate_X_and_y(subset)\n",
        "  # X1 is pandas df of (\"list\" of one sequence)\n",
        "  X2=X1.to_numpy()  # numpy ndarray of (\"list\" of one sequence)\n",
        "  X3=[elem[0] for elem in X2]  # numpy dnarray of str\n",
        "  X4=tools.uniform_length(X3,MAXLEN)\n",
        "  X5= [tools.one_hot(x) for x in X4]  \n",
        "  # one-hot leaves ONEHOT=5. TO DO: set 5 automatically\n",
        "  X6=np.asarray(X5)\n",
        "  y6=y1.to_numpy()\n",
        "  return X6,y6\n",
        "\n",
        "print(\"Load train data from files.\")\n",
        "X_train,y_train = load_data(TRAIN_NC_FILENAME,TRAIN_PC_FILENAME,LIMIT)\n",
        "print(\"X_train\",X_train.shape)\n",
        "print(X_train[1])\n",
        "print(\"Load valid data from files.\")\n",
        "X_valid,y_valid = load_data(VALID_NC_FILENAME,VALID_PC_FILENAME,LIMIT)\n",
        "print(\"X_valid\",X_valid.shape)"
      ],
      "execution_count": 7,
      "outputs": [
        {
          "output_type": "stream",
          "text": [
            "Load train data from files.\n",
            "X_train (11176, 2000, 5)\n",
            "[[0 1 0 0 0]\n",
            " [1 0 0 0 0]\n",
            " [0 1 0 0 0]\n",
            " ...\n",
            " [0 0 0 0 1]\n",
            " [0 0 0 0 1]\n",
            " [0 0 0 0 1]]\n",
            "Load valid data from files.\n",
            "X_valid (11176, 2000, 5)\n"
          ],
          "name": "stdout"
        }
      ]
    },
    {
      "cell_type": "code",
      "metadata": {
        "colab": {
          "base_uri": "https://localhost:8080/",
          "height": 1000
        },
        "id": "mQ8eW5Rg9KdQ",
        "outputId": "469ff9a7-e595-43f5-8581-d3052e7f21d0"
      },
      "source": [
        "print (\"Cross valiation\")\n",
        "do_cross_validation(X_train,y_train,model,X_valid,y_valid)  \n",
        "print (\"Done\")"
      ],
      "execution_count": 8,
      "outputs": [
        {
          "output_type": "stream",
          "text": [
            "Cross valiation\n",
            "COMPILE...\n",
            "...COMPILED\n",
            "FIT\n",
            "Epoch 1/200\n",
            "350/350 [==============================] - 140s 348ms/step - loss: 0.6853 - accuracy: 0.5479 - val_loss: 0.7020 - val_accuracy: 0.5211\n"
          ],
          "name": "stdout"
        },
        {
          "output_type": "stream",
          "text": [
            "WARNING:absl:Found untraced functions such as gru_cell_4_layer_call_and_return_conditional_losses, gru_cell_4_layer_call_fn, gru_cell_5_layer_call_and_return_conditional_losses, gru_cell_5_layer_call_fn, gru_cell_6_layer_call_and_return_conditional_losses while saving (showing 5 of 20). These functions will not be directly callable after loading.\n",
            "WARNING:absl:Found untraced functions such as gru_cell_4_layer_call_and_return_conditional_losses, gru_cell_4_layer_call_fn, gru_cell_5_layer_call_and_return_conditional_losses, gru_cell_5_layer_call_fn, gru_cell_6_layer_call_and_return_conditional_losses while saving (showing 5 of 20). These functions will not be directly callable after loading.\n"
          ],
          "name": "stderr"
        },
        {
          "output_type": "stream",
          "text": [
            "INFO:tensorflow:Assets written to: /content/drive/My Drive/data/JUNK2.cv.1.best/assets\n"
          ],
          "name": "stdout"
        },
        {
          "output_type": "stream",
          "text": [
            "INFO:tensorflow:Assets written to: /content/drive/My Drive/data/JUNK2.cv.1.best/assets\n"
          ],
          "name": "stderr"
        },
        {
          "output_type": "stream",
          "text": [
            "Epoch 2/200\n",
            "350/350 [==============================] - 122s 349ms/step - loss: 0.6814 - accuracy: 0.5667 - val_loss: 0.7151 - val_accuracy: 0.5142\n",
            "Epoch 3/200\n",
            "350/350 [==============================] - 119s 341ms/step - loss: 0.6778 - accuracy: 0.5741 - val_loss: 0.7115 - val_accuracy: 0.5097\n",
            "Epoch 4/200\n",
            "350/350 [==============================] - 118s 337ms/step - loss: 0.6782 - accuracy: 0.5798 - val_loss: 0.6900 - val_accuracy: 0.5348\n"
          ],
          "name": "stdout"
        },
        {
          "output_type": "stream",
          "text": [
            "WARNING:absl:Found untraced functions such as gru_cell_4_layer_call_and_return_conditional_losses, gru_cell_4_layer_call_fn, gru_cell_5_layer_call_and_return_conditional_losses, gru_cell_5_layer_call_fn, gru_cell_6_layer_call_and_return_conditional_losses while saving (showing 5 of 20). These functions will not be directly callable after loading.\n",
            "WARNING:absl:Found untraced functions such as gru_cell_4_layer_call_and_return_conditional_losses, gru_cell_4_layer_call_fn, gru_cell_5_layer_call_and_return_conditional_losses, gru_cell_5_layer_call_fn, gru_cell_6_layer_call_and_return_conditional_losses while saving (showing 5 of 20). These functions will not be directly callable after loading.\n"
          ],
          "name": "stderr"
        },
        {
          "output_type": "stream",
          "text": [
            "INFO:tensorflow:Assets written to: /content/drive/My Drive/data/JUNK2.cv.1.best/assets\n"
          ],
          "name": "stdout"
        },
        {
          "output_type": "stream",
          "text": [
            "INFO:tensorflow:Assets written to: /content/drive/My Drive/data/JUNK2.cv.1.best/assets\n"
          ],
          "name": "stderr"
        },
        {
          "output_type": "stream",
          "text": [
            "Epoch 5/200\n",
            "350/350 [==============================] - 119s 341ms/step - loss: 0.6763 - accuracy: 0.5840 - val_loss: 0.6839 - val_accuracy: 0.5539\n"
          ],
          "name": "stdout"
        },
        {
          "output_type": "stream",
          "text": [
            "WARNING:absl:Found untraced functions such as gru_cell_4_layer_call_and_return_conditional_losses, gru_cell_4_layer_call_fn, gru_cell_5_layer_call_and_return_conditional_losses, gru_cell_5_layer_call_fn, gru_cell_6_layer_call_and_return_conditional_losses while saving (showing 5 of 20). These functions will not be directly callable after loading.\n",
            "WARNING:absl:Found untraced functions such as gru_cell_4_layer_call_and_return_conditional_losses, gru_cell_4_layer_call_fn, gru_cell_5_layer_call_and_return_conditional_losses, gru_cell_5_layer_call_fn, gru_cell_6_layer_call_and_return_conditional_losses while saving (showing 5 of 20). These functions will not be directly callable after loading.\n"
          ],
          "name": "stderr"
        },
        {
          "output_type": "stream",
          "text": [
            "INFO:tensorflow:Assets written to: /content/drive/My Drive/data/JUNK2.cv.1.best/assets\n"
          ],
          "name": "stdout"
        },
        {
          "output_type": "stream",
          "text": [
            "INFO:tensorflow:Assets written to: /content/drive/My Drive/data/JUNK2.cv.1.best/assets\n"
          ],
          "name": "stderr"
        },
        {
          "output_type": "stream",
          "text": [
            "Epoch 6/200\n",
            "350/350 [==============================] - 121s 347ms/step - loss: 0.6842 - accuracy: 0.5404 - val_loss: 0.6842 - val_accuracy: 0.5548\n"
          ],
          "name": "stdout"
        },
        {
          "output_type": "stream",
          "text": [
            "WARNING:absl:Found untraced functions such as gru_cell_4_layer_call_and_return_conditional_losses, gru_cell_4_layer_call_fn, gru_cell_5_layer_call_and_return_conditional_losses, gru_cell_5_layer_call_fn, gru_cell_6_layer_call_and_return_conditional_losses while saving (showing 5 of 20). These functions will not be directly callable after loading.\n",
            "WARNING:absl:Found untraced functions such as gru_cell_4_layer_call_and_return_conditional_losses, gru_cell_4_layer_call_fn, gru_cell_5_layer_call_and_return_conditional_losses, gru_cell_5_layer_call_fn, gru_cell_6_layer_call_and_return_conditional_losses while saving (showing 5 of 20). These functions will not be directly callable after loading.\n"
          ],
          "name": "stderr"
        },
        {
          "output_type": "stream",
          "text": [
            "INFO:tensorflow:Assets written to: /content/drive/My Drive/data/JUNK2.cv.1.best/assets\n"
          ],
          "name": "stdout"
        },
        {
          "output_type": "stream",
          "text": [
            "INFO:tensorflow:Assets written to: /content/drive/My Drive/data/JUNK2.cv.1.best/assets\n"
          ],
          "name": "stderr"
        },
        {
          "output_type": "stream",
          "text": [
            "Epoch 7/200\n",
            "350/350 [==============================] - 122s 349ms/step - loss: 0.6789 - accuracy: 0.5709 - val_loss: 0.7077 - val_accuracy: 0.5148\n",
            "Epoch 8/200\n",
            "350/350 [==============================] - 121s 345ms/step - loss: 0.6769 - accuracy: 0.5823 - val_loss: 0.6928 - val_accuracy: 0.5447\n",
            "Epoch 9/200\n",
            "350/350 [==============================] - 125s 357ms/step - loss: 0.6693 - accuracy: 0.5958 - val_loss: 0.6021 - val_accuracy: 0.6870\n"
          ],
          "name": "stdout"
        },
        {
          "output_type": "stream",
          "text": [
            "WARNING:absl:Found untraced functions such as gru_cell_4_layer_call_and_return_conditional_losses, gru_cell_4_layer_call_fn, gru_cell_5_layer_call_and_return_conditional_losses, gru_cell_5_layer_call_fn, gru_cell_6_layer_call_and_return_conditional_losses while saving (showing 5 of 20). These functions will not be directly callable after loading.\n",
            "WARNING:absl:Found untraced functions such as gru_cell_4_layer_call_and_return_conditional_losses, gru_cell_4_layer_call_fn, gru_cell_5_layer_call_and_return_conditional_losses, gru_cell_5_layer_call_fn, gru_cell_6_layer_call_and_return_conditional_losses while saving (showing 5 of 20). These functions will not be directly callable after loading.\n"
          ],
          "name": "stderr"
        },
        {
          "output_type": "stream",
          "text": [
            "INFO:tensorflow:Assets written to: /content/drive/My Drive/data/JUNK2.cv.1.best/assets\n"
          ],
          "name": "stdout"
        },
        {
          "output_type": "stream",
          "text": [
            "INFO:tensorflow:Assets written to: /content/drive/My Drive/data/JUNK2.cv.1.best/assets\n"
          ],
          "name": "stderr"
        },
        {
          "output_type": "stream",
          "text": [
            "Epoch 10/200\n",
            "350/350 [==============================] - 121s 347ms/step - loss: 0.6283 - accuracy: 0.6545 - val_loss: 0.5776 - val_accuracy: 0.7034\n"
          ],
          "name": "stdout"
        },
        {
          "output_type": "stream",
          "text": [
            "WARNING:absl:Found untraced functions such as gru_cell_4_layer_call_and_return_conditional_losses, gru_cell_4_layer_call_fn, gru_cell_5_layer_call_and_return_conditional_losses, gru_cell_5_layer_call_fn, gru_cell_6_layer_call_and_return_conditional_losses while saving (showing 5 of 20). These functions will not be directly callable after loading.\n",
            "WARNING:absl:Found untraced functions such as gru_cell_4_layer_call_and_return_conditional_losses, gru_cell_4_layer_call_fn, gru_cell_5_layer_call_and_return_conditional_losses, gru_cell_5_layer_call_fn, gru_cell_6_layer_call_and_return_conditional_losses while saving (showing 5 of 20). These functions will not be directly callable after loading.\n"
          ],
          "name": "stderr"
        },
        {
          "output_type": "stream",
          "text": [
            "INFO:tensorflow:Assets written to: /content/drive/My Drive/data/JUNK2.cv.1.best/assets\n"
          ],
          "name": "stdout"
        },
        {
          "output_type": "stream",
          "text": [
            "INFO:tensorflow:Assets written to: /content/drive/My Drive/data/JUNK2.cv.1.best/assets\n"
          ],
          "name": "stderr"
        },
        {
          "output_type": "stream",
          "text": [
            "Epoch 11/200\n",
            "350/350 [==============================] - 123s 351ms/step - loss: 0.6109 - accuracy: 0.6717 - val_loss: 0.5382 - val_accuracy: 0.7309\n"
          ],
          "name": "stdout"
        },
        {
          "output_type": "stream",
          "text": [
            "WARNING:absl:Found untraced functions such as gru_cell_4_layer_call_and_return_conditional_losses, gru_cell_4_layer_call_fn, gru_cell_5_layer_call_and_return_conditional_losses, gru_cell_5_layer_call_fn, gru_cell_6_layer_call_and_return_conditional_losses while saving (showing 5 of 20). These functions will not be directly callable after loading.\n",
            "WARNING:absl:Found untraced functions such as gru_cell_4_layer_call_and_return_conditional_losses, gru_cell_4_layer_call_fn, gru_cell_5_layer_call_and_return_conditional_losses, gru_cell_5_layer_call_fn, gru_cell_6_layer_call_and_return_conditional_losses while saving (showing 5 of 20). These functions will not be directly callable after loading.\n"
          ],
          "name": "stderr"
        },
        {
          "output_type": "stream",
          "text": [
            "INFO:tensorflow:Assets written to: /content/drive/My Drive/data/JUNK2.cv.1.best/assets\n"
          ],
          "name": "stdout"
        },
        {
          "output_type": "stream",
          "text": [
            "INFO:tensorflow:Assets written to: /content/drive/My Drive/data/JUNK2.cv.1.best/assets\n"
          ],
          "name": "stderr"
        },
        {
          "output_type": "stream",
          "text": [
            "Epoch 12/200\n",
            "350/350 [==============================] - 124s 355ms/step - loss: 0.5830 - accuracy: 0.6937 - val_loss: 0.5658 - val_accuracy: 0.7153\n",
            "Epoch 13/200\n",
            "350/350 [==============================] - 120s 344ms/step - loss: 0.5638 - accuracy: 0.7113 - val_loss: 0.5721 - val_accuracy: 0.7160\n",
            "Epoch 14/200\n",
            "350/350 [==============================] - 118s 338ms/step - loss: 0.5878 - accuracy: 0.6938 - val_loss: 0.5513 - val_accuracy: 0.7172\n",
            "Epoch 15/200\n",
            "350/350 [==============================] - 122s 348ms/step - loss: 0.5458 - accuracy: 0.7253 - val_loss: 0.5405 - val_accuracy: 0.7317\n"
          ],
          "name": "stdout"
        },
        {
          "output_type": "stream",
          "text": [
            "WARNING:absl:Found untraced functions such as gru_cell_4_layer_call_and_return_conditional_losses, gru_cell_4_layer_call_fn, gru_cell_5_layer_call_and_return_conditional_losses, gru_cell_5_layer_call_fn, gru_cell_6_layer_call_and_return_conditional_losses while saving (showing 5 of 20). These functions will not be directly callable after loading.\n",
            "WARNING:absl:Found untraced functions such as gru_cell_4_layer_call_and_return_conditional_losses, gru_cell_4_layer_call_fn, gru_cell_5_layer_call_and_return_conditional_losses, gru_cell_5_layer_call_fn, gru_cell_6_layer_call_and_return_conditional_losses while saving (showing 5 of 20). These functions will not be directly callable after loading.\n"
          ],
          "name": "stderr"
        },
        {
          "output_type": "stream",
          "text": [
            "INFO:tensorflow:Assets written to: /content/drive/My Drive/data/JUNK2.cv.1.best/assets\n"
          ],
          "name": "stdout"
        },
        {
          "output_type": "stream",
          "text": [
            "INFO:tensorflow:Assets written to: /content/drive/My Drive/data/JUNK2.cv.1.best/assets\n"
          ],
          "name": "stderr"
        },
        {
          "output_type": "stream",
          "text": [
            "Epoch 16/200\n",
            "350/350 [==============================] - 118s 338ms/step - loss: 0.5261 - accuracy: 0.7419 - val_loss: 0.4243 - val_accuracy: 0.8010\n"
          ],
          "name": "stdout"
        },
        {
          "output_type": "stream",
          "text": [
            "WARNING:absl:Found untraced functions such as gru_cell_4_layer_call_and_return_conditional_losses, gru_cell_4_layer_call_fn, gru_cell_5_layer_call_and_return_conditional_losses, gru_cell_5_layer_call_fn, gru_cell_6_layer_call_and_return_conditional_losses while saving (showing 5 of 20). These functions will not be directly callable after loading.\n",
            "WARNING:absl:Found untraced functions such as gru_cell_4_layer_call_and_return_conditional_losses, gru_cell_4_layer_call_fn, gru_cell_5_layer_call_and_return_conditional_losses, gru_cell_5_layer_call_fn, gru_cell_6_layer_call_and_return_conditional_losses while saving (showing 5 of 20). These functions will not be directly callable after loading.\n"
          ],
          "name": "stderr"
        },
        {
          "output_type": "stream",
          "text": [
            "INFO:tensorflow:Assets written to: /content/drive/My Drive/data/JUNK2.cv.1.best/assets\n"
          ],
          "name": "stdout"
        },
        {
          "output_type": "stream",
          "text": [
            "INFO:tensorflow:Assets written to: /content/drive/My Drive/data/JUNK2.cv.1.best/assets\n"
          ],
          "name": "stderr"
        },
        {
          "output_type": "stream",
          "text": [
            "Epoch 17/200\n",
            "350/350 [==============================] - 118s 336ms/step - loss: 0.5174 - accuracy: 0.7335 - val_loss: 0.5742 - val_accuracy: 0.6958\n",
            "Epoch 18/200\n",
            "350/350 [==============================] - 119s 339ms/step - loss: 0.5976 - accuracy: 0.6865 - val_loss: 0.5694 - val_accuracy: 0.7084\n",
            "Epoch 19/200\n",
            "350/350 [==============================] - 122s 349ms/step - loss: 0.5843 - accuracy: 0.6861 - val_loss: 0.5423 - val_accuracy: 0.7209\n",
            "Epoch 20/200\n",
            "350/350 [==============================] - 121s 347ms/step - loss: 0.5743 - accuracy: 0.7027 - val_loss: 0.6330 - val_accuracy: 0.6986\n",
            "Epoch 21/200\n",
            "350/350 [==============================] - 121s 345ms/step - loss: 0.5884 - accuracy: 0.6862 - val_loss: 0.5574 - val_accuracy: 0.7031\n",
            "Epoch 22/200\n",
            "350/350 [==============================] - 121s 347ms/step - loss: 0.5593 - accuracy: 0.7135 - val_loss: 0.5232 - val_accuracy: 0.7466\n",
            "Epoch 23/200\n",
            "350/350 [==============================] - 120s 343ms/step - loss: 0.5539 - accuracy: 0.7204 - val_loss: 0.4751 - val_accuracy: 0.7717\n",
            "Epoch 24/200\n",
            "350/350 [==============================] - 119s 340ms/step - loss: 0.5326 - accuracy: 0.7319 - val_loss: 0.4389 - val_accuracy: 0.7930\n",
            "Epoch 25/200\n",
            "350/350 [==============================] - 118s 338ms/step - loss: 0.5156 - accuracy: 0.7381 - val_loss: 0.6489 - val_accuracy: 0.7120\n",
            "Epoch 26/200\n",
            "350/350 [==============================] - 117s 334ms/step - loss: 0.6542 - accuracy: 0.6172 - val_loss: 0.6369 - val_accuracy: 0.6356\n",
            "Epoch 00026: early stopping\n",
            "Fold 1, 200 epochs, 3390 sec\n"
          ],
          "name": "stdout"
        },
        {
          "output_type": "display_data",
          "data": {
            "image/png": "[encoded data removed]",
            "text/plain": [
              "<Figure size 576x360 with 1 Axes>"
            ]
          },
          "metadata": {
            "tags": []
          }
        },
        {
          "output_type": "stream",
          "text": [
            "accuracy: 80.10%\n",
            "COMPILE...\n",
            "...COMPILED\n",
            "FIT\n",
            "Epoch 1/200\n",
            "350/350 [==============================] - 134s 341ms/step - loss: 0.6870 - accuracy: 0.5493 - val_loss: 0.6950 - val_accuracy: 0.5113\n"
          ],
          "name": "stdout"
        },
        {
          "output_type": "stream",
          "text": [
            "WARNING:absl:Found untraced functions such as gru_cell_12_layer_call_and_return_conditional_losses, gru_cell_12_layer_call_fn, gru_cell_13_layer_call_and_return_conditional_losses, gru_cell_13_layer_call_fn, gru_cell_14_layer_call_and_return_conditional_losses while saving (showing 5 of 20). These functions will not be directly callable after loading.\n",
            "WARNING:absl:Found untraced functions such as gru_cell_12_layer_call_and_return_conditional_losses, gru_cell_12_layer_call_fn, gru_cell_13_layer_call_and_return_conditional_losses, gru_cell_13_layer_call_fn, gru_cell_14_layer_call_and_return_conditional_losses while saving (showing 5 of 20). These functions will not be directly callable after loading.\n"
          ],
          "name": "stderr"
        },
        {
          "output_type": "stream",
          "text": [
            "INFO:tensorflow:Assets written to: /content/drive/My Drive/data/JUNK2.cv.2.best/assets\n"
          ],
          "name": "stdout"
        },
        {
          "output_type": "stream",
          "text": [
            "INFO:tensorflow:Assets written to: /content/drive/My Drive/data/JUNK2.cv.2.best/assets\n"
          ],
          "name": "stderr"
        },
        {
          "output_type": "stream",
          "text": [
            "Epoch 2/200\n",
            "350/350 [==============================] - 116s 331ms/step - loss: 0.6808 - accuracy: 0.5702 - val_loss: 0.6920 - val_accuracy: 0.5268\n"
          ],
          "name": "stdout"
        },
        {
          "output_type": "stream",
          "text": [
            "WARNING:absl:Found untraced functions such as gru_cell_12_layer_call_and_return_conditional_losses, gru_cell_12_layer_call_fn, gru_cell_13_layer_call_and_return_conditional_losses, gru_cell_13_layer_call_fn, gru_cell_14_layer_call_and_return_conditional_losses while saving (showing 5 of 20). These functions will not be directly callable after loading.\n",
            "WARNING:absl:Found untraced functions such as gru_cell_12_layer_call_and_return_conditional_losses, gru_cell_12_layer_call_fn, gru_cell_13_layer_call_and_return_conditional_losses, gru_cell_13_layer_call_fn, gru_cell_14_layer_call_and_return_conditional_losses while saving (showing 5 of 20). These functions will not be directly callable after loading.\n"
          ],
          "name": "stderr"
        },
        {
          "output_type": "stream",
          "text": [
            "INFO:tensorflow:Assets written to: /content/drive/My Drive/data/JUNK2.cv.2.best/assets\n"
          ],
          "name": "stdout"
        },
        {
          "output_type": "stream",
          "text": [
            "INFO:tensorflow:Assets written to: /content/drive/My Drive/data/JUNK2.cv.2.best/assets\n"
          ],
          "name": "stderr"
        },
        {
          "output_type": "stream",
          "text": [
            "Epoch 3/200\n",
            "350/350 [==============================] - 114s 326ms/step - loss: 0.6805 - accuracy: 0.5773 - val_loss: 0.6974 - val_accuracy: 0.5350\n"
          ],
          "name": "stdout"
        },
        {
          "output_type": "stream",
          "text": [
            "WARNING:absl:Found untraced functions such as gru_cell_12_layer_call_and_return_conditional_losses, gru_cell_12_layer_call_fn, gru_cell_13_layer_call_and_return_conditional_losses, gru_cell_13_layer_call_fn, gru_cell_14_layer_call_and_return_conditional_losses while saving (showing 5 of 20). These functions will not be directly callable after loading.\n",
            "WARNING:absl:Found untraced functions such as gru_cell_12_layer_call_and_return_conditional_losses, gru_cell_12_layer_call_fn, gru_cell_13_layer_call_and_return_conditional_losses, gru_cell_13_layer_call_fn, gru_cell_14_layer_call_and_return_conditional_losses while saving (showing 5 of 20). These functions will not be directly callable after loading.\n"
          ],
          "name": "stderr"
        },
        {
          "output_type": "stream",
          "text": [
            "INFO:tensorflow:Assets written to: /content/drive/My Drive/data/JUNK2.cv.2.best/assets\n"
          ],
          "name": "stdout"
        },
        {
          "output_type": "stream",
          "text": [
            "INFO:tensorflow:Assets written to: /content/drive/My Drive/data/JUNK2.cv.2.best/assets\n"
          ],
          "name": "stderr"
        },
        {
          "output_type": "stream",
          "text": [
            "Epoch 4/200\n",
            "350/350 [==============================] - 115s 329ms/step - loss: 0.6798 - accuracy: 0.5806 - val_loss: 0.6993 - val_accuracy: 0.5202\n",
            "Epoch 5/200\n",
            "350/350 [==============================] - 117s 334ms/step - loss: 0.6748 - accuracy: 0.5814 - val_loss: 0.6935 - val_accuracy: 0.5390\n"
          ],
          "name": "stdout"
        },
        {
          "output_type": "stream",
          "text": [
            "WARNING:absl:Found untraced functions such as gru_cell_12_layer_call_and_return_conditional_losses, gru_cell_12_layer_call_fn, gru_cell_13_layer_call_and_return_conditional_losses, gru_cell_13_layer_call_fn, gru_cell_14_layer_call_and_return_conditional_losses while saving (showing 5 of 20). These functions will not be directly callable after loading.\n",
            "WARNING:absl:Found untraced functions such as gru_cell_12_layer_call_and_return_conditional_losses, gru_cell_12_layer_call_fn, gru_cell_13_layer_call_and_return_conditional_losses, gru_cell_13_layer_call_fn, gru_cell_14_layer_call_and_return_conditional_losses while saving (showing 5 of 20). These functions will not be directly callable after loading.\n"
          ],
          "name": "stderr"
        },
        {
          "output_type": "stream",
          "text": [
            "INFO:tensorflow:Assets written to: /content/drive/My Drive/data/JUNK2.cv.2.best/assets\n"
          ],
          "name": "stdout"
        },
        {
          "output_type": "stream",
          "text": [
            "INFO:tensorflow:Assets written to: /content/drive/My Drive/data/JUNK2.cv.2.best/assets\n"
          ],
          "name": "stderr"
        },
        {
          "output_type": "stream",
          "text": [
            "Epoch 6/200\n",
            "350/350 [==============================] - 121s 346ms/step - loss: 0.6781 - accuracy: 0.5757 - val_loss: 0.7047 - val_accuracy: 0.5357\n",
            "Epoch 7/200\n",
            "350/350 [==============================] - 121s 347ms/step - loss: 0.6763 - accuracy: 0.5899 - val_loss: 0.6924 - val_accuracy: 0.5761\n"
          ],
          "name": "stdout"
        },
        {
          "output_type": "stream",
          "text": [
            "WARNING:absl:Found untraced functions such as gru_cell_12_layer_call_and_return_conditional_losses, gru_cell_12_layer_call_fn, gru_cell_13_layer_call_and_return_conditional_losses, gru_cell_13_layer_call_fn, gru_cell_14_layer_call_and_return_conditional_losses while saving (showing 5 of 20). These functions will not be directly callable after loading.\n",
            "WARNING:absl:Found untraced functions such as gru_cell_12_layer_call_and_return_conditional_losses, gru_cell_12_layer_call_fn, gru_cell_13_layer_call_and_return_conditional_losses, gru_cell_13_layer_call_fn, gru_cell_14_layer_call_and_return_conditional_losses while saving (showing 5 of 20). These functions will not be directly callable after loading.\n"
          ],
          "name": "stderr"
        },
        {
          "output_type": "stream",
          "text": [
            "INFO:tensorflow:Assets written to: /content/drive/My Drive/data/JUNK2.cv.2.best/assets\n"
          ],
          "name": "stdout"
        },
        {
          "output_type": "stream",
          "text": [
            "INFO:tensorflow:Assets written to: /content/drive/My Drive/data/JUNK2.cv.2.best/assets\n"
          ],
          "name": "stderr"
        },
        {
          "output_type": "stream",
          "text": [
            "Epoch 8/200\n",
            "350/350 [==============================] - 122s 348ms/step - loss: 0.6765 - accuracy: 0.5852 - val_loss: 0.6531 - val_accuracy: 0.6208\n"
          ],
          "name": "stdout"
        },
        {
          "output_type": "stream",
          "text": [
            "WARNING:absl:Found untraced functions such as gru_cell_12_layer_call_and_return_conditional_losses, gru_cell_12_layer_call_fn, gru_cell_13_layer_call_and_return_conditional_losses, gru_cell_13_layer_call_fn, gru_cell_14_layer_call_and_return_conditional_losses while saving (showing 5 of 20). These functions will not be directly callable after loading.\n",
            "WARNING:absl:Found untraced functions such as gru_cell_12_layer_call_and_return_conditional_losses, gru_cell_12_layer_call_fn, gru_cell_13_layer_call_and_return_conditional_losses, gru_cell_13_layer_call_fn, gru_cell_14_layer_call_and_return_conditional_losses while saving (showing 5 of 20). These functions will not be directly callable after loading.\n"
          ],
          "name": "stderr"
        },
        {
          "output_type": "stream",
          "text": [
            "INFO:tensorflow:Assets written to: /content/drive/My Drive/data/JUNK2.cv.2.best/assets\n"
          ],
          "name": "stdout"
        },
        {
          "output_type": "stream",
          "text": [
            "INFO:tensorflow:Assets written to: /content/drive/My Drive/data/JUNK2.cv.2.best/assets\n"
          ],
          "name": "stderr"
        },
        {
          "output_type": "stream",
          "text": [
            "Epoch 9/200\n",
            "350/350 [==============================] - 120s 344ms/step - loss: 0.6388 - accuracy: 0.6499 - val_loss: 0.6522 - val_accuracy: 0.6331\n"
          ],
          "name": "stdout"
        },
        {
          "output_type": "stream",
          "text": [
            "WARNING:absl:Found untraced functions such as gru_cell_12_layer_call_and_return_conditional_losses, gru_cell_12_layer_call_fn, gru_cell_13_layer_call_and_return_conditional_losses, gru_cell_13_layer_call_fn, gru_cell_14_layer_call_and_return_conditional_losses while saving (showing 5 of 20). These functions will not be directly callable after loading.\n",
            "WARNING:absl:Found untraced functions such as gru_cell_12_layer_call_and_return_conditional_losses, gru_cell_12_layer_call_fn, gru_cell_13_layer_call_and_return_conditional_losses, gru_cell_13_layer_call_fn, gru_cell_14_layer_call_and_return_conditional_losses while saving (showing 5 of 20). These functions will not be directly callable after loading.\n"
          ],
          "name": "stderr"
        },
        {
          "output_type": "stream",
          "text": [
            "INFO:tensorflow:Assets written to: /content/drive/My Drive/data/JUNK2.cv.2.best/assets\n"
          ],
          "name": "stdout"
        },
        {
          "output_type": "stream",
          "text": [
            "INFO:tensorflow:Assets written to: /content/drive/My Drive/data/JUNK2.cv.2.best/assets\n"
          ],
          "name": "stderr"
        },
        {
          "output_type": "stream",
          "text": [
            "Epoch 10/200\n",
            "350/350 [==============================] - 118s 337ms/step - loss: 0.6376 - accuracy: 0.6492 - val_loss: 0.6104 - val_accuracy: 0.6850\n"
          ],
          "name": "stdout"
        },
        {
          "output_type": "stream",
          "text": [
            "WARNING:absl:Found untraced functions such as gru_cell_12_layer_call_and_return_conditional_losses, gru_cell_12_layer_call_fn, gru_cell_13_layer_call_and_return_conditional_losses, gru_cell_13_layer_call_fn, gru_cell_14_layer_call_and_return_conditional_losses while saving (showing 5 of 20). These functions will not be directly callable after loading.\n",
            "WARNING:absl:Found untraced functions such as gru_cell_12_layer_call_and_return_conditional_losses, gru_cell_12_layer_call_fn, gru_cell_13_layer_call_and_return_conditional_losses, gru_cell_13_layer_call_fn, gru_cell_14_layer_call_and_return_conditional_losses while saving (showing 5 of 20). These functions will not be directly callable after loading.\n"
          ],
          "name": "stderr"
        },
        {
          "output_type": "stream",
          "text": [
            "INFO:tensorflow:Assets written to: /content/drive/My Drive/data/JUNK2.cv.2.best/assets\n"
          ],
          "name": "stdout"
        },
        {
          "output_type": "stream",
          "text": [
            "INFO:tensorflow:Assets written to: /content/drive/My Drive/data/JUNK2.cv.2.best/assets\n"
          ],
          "name": "stderr"
        },
        {
          "output_type": "stream",
          "text": [
            "Epoch 11/200\n",
            "350/350 [==============================] - 115s 328ms/step - loss: 0.6129 - accuracy: 0.6778 - val_loss: 0.6012 - val_accuracy: 0.6710\n",
            "Epoch 12/200\n",
            "350/350 [==============================] - 115s 329ms/step - loss: 0.5874 - accuracy: 0.6995 - val_loss: 0.5020 - val_accuracy: 0.7832\n"
          ],
          "name": "stdout"
        },
        {
          "output_type": "stream",
          "text": [
            "WARNING:absl:Found untraced functions such as gru_cell_12_layer_call_and_return_conditional_losses, gru_cell_12_layer_call_fn, gru_cell_13_layer_call_and_return_conditional_losses, gru_cell_13_layer_call_fn, gru_cell_14_layer_call_and_return_conditional_losses while saving (showing 5 of 20). These functions will not be directly callable after loading.\n",
            "WARNING:absl:Found untraced functions such as gru_cell_12_layer_call_and_return_conditional_losses, gru_cell_12_layer_call_fn, gru_cell_13_layer_call_and_return_conditional_losses, gru_cell_13_layer_call_fn, gru_cell_14_layer_call_and_return_conditional_losses while saving (showing 5 of 20). These functions will not be directly callable after loading.\n"
          ],
          "name": "stderr"
        },
        {
          "output_type": "stream",
          "text": [
            "INFO:tensorflow:Assets written to: /content/drive/My Drive/data/JUNK2.cv.2.best/assets\n"
          ],
          "name": "stdout"
        },
        {
          "output_type": "stream",
          "text": [
            "INFO:tensorflow:Assets written to: /content/drive/My Drive/data/JUNK2.cv.2.best/assets\n"
          ],
          "name": "stderr"
        },
        {
          "output_type": "stream",
          "text": [
            "Epoch 13/200\n",
            "350/350 [==============================] - 113s 324ms/step - loss: 0.5304 - accuracy: 0.7421 - val_loss: 0.4606 - val_accuracy: 0.7819\n",
            "Epoch 14/200\n",
            "350/350 [==============================] - 114s 326ms/step - loss: 0.5031 - accuracy: 0.7567 - val_loss: 0.4307 - val_accuracy: 0.8086\n"
          ],
          "name": "stdout"
        },
        {
          "output_type": "stream",
          "text": [
            "WARNING:absl:Found untraced functions such as gru_cell_12_layer_call_and_return_conditional_losses, gru_cell_12_layer_call_fn, gru_cell_13_layer_call_and_return_conditional_losses, gru_cell_13_layer_call_fn, gru_cell_14_layer_call_and_return_conditional_losses while saving (showing 5 of 20). These functions will not be directly callable after loading.\n",
            "WARNING:absl:Found untraced functions such as gru_cell_12_layer_call_and_return_conditional_losses, gru_cell_12_layer_call_fn, gru_cell_13_layer_call_and_return_conditional_losses, gru_cell_13_layer_call_fn, gru_cell_14_layer_call_and_return_conditional_losses while saving (showing 5 of 20). These functions will not be directly callable after loading.\n"
          ],
          "name": "stderr"
        },
        {
          "output_type": "stream",
          "text": [
            "INFO:tensorflow:Assets written to: /content/drive/My Drive/data/JUNK2.cv.2.best/assets\n"
          ],
          "name": "stdout"
        },
        {
          "output_type": "stream",
          "text": [
            "INFO:tensorflow:Assets written to: /content/drive/My Drive/data/JUNK2.cv.2.best/assets\n"
          ],
          "name": "stderr"
        },
        {
          "output_type": "stream",
          "text": [
            "Epoch 15/200\n",
            "350/350 [==============================] - 115s 328ms/step - loss: 0.5165 - accuracy: 0.7433 - val_loss: 0.5258 - val_accuracy: 0.7345\n",
            "Epoch 16/200\n",
            "350/350 [==============================] - 118s 338ms/step - loss: 0.5381 - accuracy: 0.7276 - val_loss: 0.4569 - val_accuracy: 0.7955\n",
            "Epoch 17/200\n",
            "350/350 [==============================] - 122s 349ms/step - loss: 0.5839 - accuracy: 0.6867 - val_loss: 0.5361 - val_accuracy: 0.7411\n",
            "Epoch 18/200\n",
            "350/350 [==============================] - 121s 345ms/step - loss: 0.5836 - accuracy: 0.7058 - val_loss: 0.5304 - val_accuracy: 0.7419\n",
            "Epoch 19/200\n",
            "350/350 [==============================] - 121s 347ms/step - loss: 0.5412 - accuracy: 0.7295 - val_loss: 0.4421 - val_accuracy: 0.7928\n",
            "Epoch 20/200\n",
            "350/350 [==============================] - 118s 338ms/step - loss: 0.4765 - accuracy: 0.7811 - val_loss: 0.3699 - val_accuracy: 0.8397\n"
          ],
          "name": "stdout"
        },
        {
          "output_type": "stream",
          "text": [
            "WARNING:absl:Found untraced functions such as gru_cell_12_layer_call_and_return_conditional_losses, gru_cell_12_layer_call_fn, gru_cell_13_layer_call_and_return_conditional_losses, gru_cell_13_layer_call_fn, gru_cell_14_layer_call_and_return_conditional_losses while saving (showing 5 of 20). These functions will not be directly callable after loading.\n",
            "WARNING:absl:Found untraced functions such as gru_cell_12_layer_call_and_return_conditional_losses, gru_cell_12_layer_call_fn, gru_cell_13_layer_call_and_return_conditional_losses, gru_cell_13_layer_call_fn, gru_cell_14_layer_call_and_return_conditional_losses while saving (showing 5 of 20). These functions will not be directly callable after loading.\n"
          ],
          "name": "stderr"
        },
        {
          "output_type": "stream",
          "text": [
            "INFO:tensorflow:Assets written to: /content/drive/My Drive/data/JUNK2.cv.2.best/assets\n"
          ],
          "name": "stdout"
        },
        {
          "output_type": "stream",
          "text": [
            "INFO:tensorflow:Assets written to: /content/drive/My Drive/data/JUNK2.cv.2.best/assets\n"
          ],
          "name": "stderr"
        },
        {
          "output_type": "stream",
          "text": [
            "Epoch 21/200\n",
            "350/350 [==============================] - 116s 332ms/step - loss: 0.4364 - accuracy: 0.7996 - val_loss: 0.3693 - val_accuracy: 0.8469\n"
          ],
          "name": "stdout"
        },
        {
          "output_type": "stream",
          "text": [
            "WARNING:absl:Found untraced functions such as gru_cell_12_layer_call_and_return_conditional_losses, gru_cell_12_layer_call_fn, gru_cell_13_layer_call_and_return_conditional_losses, gru_cell_13_layer_call_fn, gru_cell_14_layer_call_and_return_conditional_losses while saving (showing 5 of 20). These functions will not be directly callable after loading.\n",
            "WARNING:absl:Found untraced functions such as gru_cell_12_layer_call_and_return_conditional_losses, gru_cell_12_layer_call_fn, gru_cell_13_layer_call_and_return_conditional_losses, gru_cell_13_layer_call_fn, gru_cell_14_layer_call_and_return_conditional_losses while saving (showing 5 of 20). These functions will not be directly callable after loading.\n"
          ],
          "name": "stderr"
        },
        {
          "output_type": "stream",
          "text": [
            "INFO:tensorflow:Assets written to: /content/drive/My Drive/data/JUNK2.cv.2.best/assets\n"
          ],
          "name": "stdout"
        },
        {
          "output_type": "stream",
          "text": [
            "INFO:tensorflow:Assets written to: /content/drive/My Drive/data/JUNK2.cv.2.best/assets\n"
          ],
          "name": "stderr"
        },
        {
          "output_type": "stream",
          "text": [
            "Epoch 22/200\n",
            "350/350 [==============================] - 121s 347ms/step - loss: 0.4027 - accuracy: 0.8229 - val_loss: 0.3532 - val_accuracy: 0.8615\n"
          ],
          "name": "stdout"
        },
        {
          "output_type": "stream",
          "text": [
            "WARNING:absl:Found untraced functions such as gru_cell_12_layer_call_and_return_conditional_losses, gru_cell_12_layer_call_fn, gru_cell_13_layer_call_and_return_conditional_losses, gru_cell_13_layer_call_fn, gru_cell_14_layer_call_and_return_conditional_losses while saving (showing 5 of 20). These functions will not be directly callable after loading.\n",
            "WARNING:absl:Found untraced functions such as gru_cell_12_layer_call_and_return_conditional_losses, gru_cell_12_layer_call_fn, gru_cell_13_layer_call_and_return_conditional_losses, gru_cell_13_layer_call_fn, gru_cell_14_layer_call_and_return_conditional_losses while saving (showing 5 of 20). These functions will not be directly callable after loading.\n"
          ],
          "name": "stderr"
        },
        {
          "output_type": "stream",
          "text": [
            "INFO:tensorflow:Assets written to: /content/drive/My Drive/data/JUNK2.cv.2.best/assets\n"
          ],
          "name": "stdout"
        },
        {
          "output_type": "stream",
          "text": [
            "INFO:tensorflow:Assets written to: /content/drive/My Drive/data/JUNK2.cv.2.best/assets\n"
          ],
          "name": "stderr"
        },
        {
          "output_type": "stream",
          "text": [
            "Epoch 23/200\n",
            "350/350 [==============================] - 121s 347ms/step - loss: 0.3941 - accuracy: 0.8264 - val_loss: 0.3842 - val_accuracy: 0.8433\n",
            "Epoch 24/200\n",
            "350/350 [==============================] - 122s 349ms/step - loss: 0.4106 - accuracy: 0.8170 - val_loss: 0.3896 - val_accuracy: 0.8325\n",
            "Epoch 25/200\n",
            "350/350 [==============================] - 122s 349ms/step - loss: 0.4490 - accuracy: 0.7904 - val_loss: 0.4173 - val_accuracy: 0.8301\n",
            "Epoch 26/200\n",
            "350/350 [==============================] - 122s 350ms/step - loss: 0.4324 - accuracy: 0.8040 - val_loss: 0.4684 - val_accuracy: 0.7729\n",
            "Epoch 27/200\n",
            "350/350 [==============================] - 121s 346ms/step - loss: 0.4348 - accuracy: 0.8006 - val_loss: 0.3478 - val_accuracy: 0.8566\n",
            "Epoch 28/200\n",
            "350/350 [==============================] - 119s 341ms/step - loss: 0.4108 - accuracy: 0.8138 - val_loss: 0.3253 - val_accuracy: 0.8584\n",
            "Epoch 29/200\n",
            "350/350 [==============================] - 122s 348ms/step - loss: 0.3741 - accuracy: 0.8354 - val_loss: 0.3264 - val_accuracy: 0.8623\n"
          ],
          "name": "stdout"
        },
        {
          "output_type": "stream",
          "text": [
            "WARNING:absl:Found untraced functions such as gru_cell_12_layer_call_and_return_conditional_losses, gru_cell_12_layer_call_fn, gru_cell_13_layer_call_and_return_conditional_losses, gru_cell_13_layer_call_fn, gru_cell_14_layer_call_and_return_conditional_losses while saving (showing 5 of 20). These functions will not be directly callable after loading.\n",
            "WARNING:absl:Found untraced functions such as gru_cell_12_layer_call_and_return_conditional_losses, gru_cell_12_layer_call_fn, gru_cell_13_layer_call_and_return_conditional_losses, gru_cell_13_layer_call_fn, gru_cell_14_layer_call_and_return_conditional_losses while saving (showing 5 of 20). These functions will not be directly callable after loading.\n"
          ],
          "name": "stderr"
        },
        {
          "output_type": "stream",
          "text": [
            "INFO:tensorflow:Assets written to: /content/drive/My Drive/data/JUNK2.cv.2.best/assets\n"
          ],
          "name": "stdout"
        },
        {
          "output_type": "stream",
          "text": [
            "INFO:tensorflow:Assets written to: /content/drive/My Drive/data/JUNK2.cv.2.best/assets\n"
          ],
          "name": "stderr"
        },
        {
          "output_type": "stream",
          "text": [
            "Epoch 30/200\n",
            "350/350 [==============================] - 122s 348ms/step - loss: 0.3846 - accuracy: 0.8274 - val_loss: 0.2852 - val_accuracy: 0.8893\n"
          ],
          "name": "stdout"
        },
        {
          "output_type": "stream",
          "text": [
            "WARNING:absl:Found untraced functions such as gru_cell_12_layer_call_and_return_conditional_losses, gru_cell_12_layer_call_fn, gru_cell_13_layer_call_and_return_conditional_losses, gru_cell_13_layer_call_fn, gru_cell_14_layer_call_and_return_conditional_losses while saving (showing 5 of 20). These functions will not be directly callable after loading.\n",
            "WARNING:absl:Found untraced functions such as gru_cell_12_layer_call_and_return_conditional_losses, gru_cell_12_layer_call_fn, gru_cell_13_layer_call_and_return_conditional_losses, gru_cell_13_layer_call_fn, gru_cell_14_layer_call_and_return_conditional_losses while saving (showing 5 of 20). These functions will not be directly callable after loading.\n"
          ],
          "name": "stderr"
        },
        {
          "output_type": "stream",
          "text": [
            "INFO:tensorflow:Assets written to: /content/drive/My Drive/data/JUNK2.cv.2.best/assets\n"
          ],
          "name": "stdout"
        },
        {
          "output_type": "stream",
          "text": [
            "INFO:tensorflow:Assets written to: /content/drive/My Drive/data/JUNK2.cv.2.best/assets\n"
          ],
          "name": "stderr"
        },
        {
          "output_type": "stream",
          "text": [
            "Epoch 31/200\n",
            "350/350 [==============================] - 123s 352ms/step - loss: 0.3535 - accuracy: 0.8510 - val_loss: 0.3166 - val_accuracy: 0.8644\n",
            "Epoch 32/200\n",
            "350/350 [==============================] - 124s 354ms/step - loss: 0.3839 - accuracy: 0.8315 - val_loss: 0.3696 - val_accuracy: 0.8401\n",
            "Epoch 33/200\n",
            "350/350 [==============================] - 124s 355ms/step - loss: 0.3962 - accuracy: 0.8248 - val_loss: 0.4458 - val_accuracy: 0.8014\n",
            "Epoch 34/200\n",
            "350/350 [==============================] - 124s 353ms/step - loss: 0.4192 - accuracy: 0.7989 - val_loss: 0.5749 - val_accuracy: 0.6934\n",
            "Epoch 35/200\n",
            "350/350 [==============================] - 123s 353ms/step - loss: 0.5747 - accuracy: 0.6964 - val_loss: 0.4882 - val_accuracy: 0.7511\n",
            "Epoch 36/200\n",
            "350/350 [==============================] - 124s 355ms/step - loss: 0.5145 - accuracy: 0.7439 - val_loss: 0.4138 - val_accuracy: 0.8151\n",
            "Epoch 37/200\n",
            "350/350 [==============================] - 124s 355ms/step - loss: 0.4851 - accuracy: 0.7637 - val_loss: 0.3766 - val_accuracy: 0.8339\n",
            "Epoch 38/200\n",
            "350/350 [==============================] - 125s 357ms/step - loss: 0.4496 - accuracy: 0.7877 - val_loss: 0.3524 - val_accuracy: 0.8544\n",
            "Epoch 39/200\n",
            "350/350 [==============================] - 126s 360ms/step - loss: 0.4239 - accuracy: 0.8091 - val_loss: 0.3508 - val_accuracy: 0.8495\n",
            "Epoch 40/200\n",
            "350/350 [==============================] - 125s 357ms/step - loss: 0.4129 - accuracy: 0.8151 - val_loss: 0.3336 - val_accuracy: 0.8570\n",
            "Epoch 00040: early stopping\n",
            "Fold 2, 200 epochs, 5211 sec\n"
          ],
          "name": "stdout"
        },
        {
          "output_type": "display_data",
          "data": {
            "image/png": "[encoded data removed]",
            "text/plain": [
              "<Figure size 576x360 with 1 Axes>"
            ]
          },
          "metadata": {
            "tags": []
          }
        },
        {
          "output_type": "stream",
          "text": [
            "accuracy: 88.93%\n",
            "COMPILE...\n",
            "...COMPILED\n",
            "FIT\n",
            "Epoch 1/200\n",
            "350/350 [==============================] - 142s 364ms/step - loss: 0.6860 - accuracy: 0.5577 - val_loss: 0.6906 - val_accuracy: 0.5361\n"
          ],
          "name": "stdout"
        },
        {
          "output_type": "stream",
          "text": [
            "WARNING:absl:Found untraced functions such as gru_cell_20_layer_call_and_return_conditional_losses, gru_cell_20_layer_call_fn, gru_cell_21_layer_call_and_return_conditional_losses, gru_cell_21_layer_call_fn, gru_cell_22_layer_call_and_return_conditional_losses while saving (showing 5 of 20). These functions will not be directly callable after loading.\n",
            "WARNING:absl:Found untraced functions such as gru_cell_20_layer_call_and_return_conditional_losses, gru_cell_20_layer_call_fn, gru_cell_21_layer_call_and_return_conditional_losses, gru_cell_21_layer_call_fn, gru_cell_22_layer_call_and_return_conditional_losses while saving (showing 5 of 20). These functions will not be directly callable after loading.\n"
          ],
          "name": "stderr"
        },
        {
          "output_type": "stream",
          "text": [
            "INFO:tensorflow:Assets written to: /content/drive/My Drive/data/JUNK2.cv.3.best/assets\n"
          ],
          "name": "stdout"
        },
        {
          "output_type": "stream",
          "text": [
            "INFO:tensorflow:Assets written to: /content/drive/My Drive/data/JUNK2.cv.3.best/assets\n"
          ],
          "name": "stderr"
        },
        {
          "output_type": "stream",
          "text": [
            "Epoch 2/200\n",
            "350/350 [==============================] - 123s 351ms/step - loss: 0.6801 - accuracy: 0.5655 - val_loss: 0.6914 - val_accuracy: 0.5162\n",
            "Epoch 3/200\n",
            "350/350 [==============================] - 125s 356ms/step - loss: 0.6818 - accuracy: 0.5779 - val_loss: 0.6988 - val_accuracy: 0.5000\n",
            "Epoch 4/200\n",
            "350/350 [==============================] - 131s 373ms/step - loss: 0.6988 - accuracy: 0.4950 - val_loss: 0.6975 - val_accuracy: 0.5000\n",
            "Epoch 5/200\n",
            "350/350 [==============================] - 134s 383ms/step - loss: 0.6919 - accuracy: 0.5199 - val_loss: 0.6937 - val_accuracy: 0.5172\n",
            "Epoch 6/200\n",
            "350/350 [==============================] - 135s 387ms/step - loss: 0.6813 - accuracy: 0.5634 - val_loss: 0.6952 - val_accuracy: 0.5233\n",
            "Epoch 7/200\n",
            "350/350 [==============================] - 133s 380ms/step - loss: 0.6690 - accuracy: 0.5933 - val_loss: 0.7005 - val_accuracy: 0.4996\n",
            "Epoch 8/200\n",
            "350/350 [==============================] - 132s 379ms/step - loss: 0.6947 - accuracy: 0.5155 - val_loss: 0.6491 - val_accuracy: 0.6366\n"
          ],
          "name": "stdout"
        },
        {
          "output_type": "stream",
          "text": [
            "WARNING:absl:Found untraced functions such as gru_cell_20_layer_call_and_return_conditional_losses, gru_cell_20_layer_call_fn, gru_cell_21_layer_call_and_return_conditional_losses, gru_cell_21_layer_call_fn, gru_cell_22_layer_call_and_return_conditional_losses while saving (showing 5 of 20). These functions will not be directly callable after loading.\n",
            "WARNING:absl:Found untraced functions such as gru_cell_20_layer_call_and_return_conditional_losses, gru_cell_20_layer_call_fn, gru_cell_21_layer_call_and_return_conditional_losses, gru_cell_21_layer_call_fn, gru_cell_22_layer_call_and_return_conditional_losses while saving (showing 5 of 20). These functions will not be directly callable after loading.\n"
          ],
          "name": "stderr"
        },
        {
          "output_type": "stream",
          "text": [
            "INFO:tensorflow:Assets written to: /content/drive/My Drive/data/JUNK2.cv.3.best/assets\n"
          ],
          "name": "stdout"
        },
        {
          "output_type": "stream",
          "text": [
            "INFO:tensorflow:Assets written to: /content/drive/My Drive/data/JUNK2.cv.3.best/assets\n"
          ],
          "name": "stderr"
        },
        {
          "output_type": "stream",
          "text": [
            "Epoch 9/200\n",
            "350/350 [==============================] - 136s 390ms/step - loss: 0.6801 - accuracy: 0.5812 - val_loss: 0.6329 - val_accuracy: 0.6344\n",
            "Epoch 10/200\n",
            "350/350 [==============================] - 135s 387ms/step - loss: 0.6623 - accuracy: 0.6030 - val_loss: 0.7024 - val_accuracy: 0.5152\n",
            "Epoch 11/200\n",
            "350/350 [==============================] - 137s 393ms/step - loss: 0.6739 - accuracy: 0.5879 - val_loss: 0.6679 - val_accuracy: 0.5839\n",
            "Epoch 12/200\n",
            "350/350 [==============================] - 136s 388ms/step - loss: 0.6241 - accuracy: 0.6559 - val_loss: 0.6003 - val_accuracy: 0.6783\n"
          ],
          "name": "stdout"
        },
        {
          "output_type": "stream",
          "text": [
            "WARNING:absl:Found untraced functions such as gru_cell_20_layer_call_and_return_conditional_losses, gru_cell_20_layer_call_fn, gru_cell_21_layer_call_and_return_conditional_losses, gru_cell_21_layer_call_fn, gru_cell_22_layer_call_and_return_conditional_losses while saving (showing 5 of 20). These functions will not be directly callable after loading.\n",
            "WARNING:absl:Found untraced functions such as gru_cell_20_layer_call_and_return_conditional_losses, gru_cell_20_layer_call_fn, gru_cell_21_layer_call_and_return_conditional_losses, gru_cell_21_layer_call_fn, gru_cell_22_layer_call_and_return_conditional_losses while saving (showing 5 of 20). These functions will not be directly callable after loading.\n"
          ],
          "name": "stderr"
        },
        {
          "output_type": "stream",
          "text": [
            "INFO:tensorflow:Assets written to: /content/drive/My Drive/data/JUNK2.cv.3.best/assets\n"
          ],
          "name": "stdout"
        },
        {
          "output_type": "stream",
          "text": [
            "INFO:tensorflow:Assets written to: /content/drive/My Drive/data/JUNK2.cv.3.best/assets\n"
          ],
          "name": "stderr"
        },
        {
          "output_type": "stream",
          "text": [
            "Epoch 13/200\n",
            "350/350 [==============================] - 134s 383ms/step - loss: 0.6067 - accuracy: 0.6673 - val_loss: 0.5434 - val_accuracy: 0.7317\n"
          ],
          "name": "stdout"
        },
        {
          "output_type": "stream",
          "text": [
            "WARNING:absl:Found untraced functions such as gru_cell_20_layer_call_and_return_conditional_losses, gru_cell_20_layer_call_fn, gru_cell_21_layer_call_and_return_conditional_losses, gru_cell_21_layer_call_fn, gru_cell_22_layer_call_and_return_conditional_losses while saving (showing 5 of 20). These functions will not be directly callable after loading.\n",
            "WARNING:absl:Found untraced functions such as gru_cell_20_layer_call_and_return_conditional_losses, gru_cell_20_layer_call_fn, gru_cell_21_layer_call_and_return_conditional_losses, gru_cell_21_layer_call_fn, gru_cell_22_layer_call_and_return_conditional_losses while saving (showing 5 of 20). These functions will not be directly callable after loading.\n"
          ],
          "name": "stderr"
        },
        {
          "output_type": "stream",
          "text": [
            "INFO:tensorflow:Assets written to: /content/drive/My Drive/data/JUNK2.cv.3.best/assets\n"
          ],
          "name": "stdout"
        },
        {
          "output_type": "stream",
          "text": [
            "INFO:tensorflow:Assets written to: /content/drive/My Drive/data/JUNK2.cv.3.best/assets\n"
          ],
          "name": "stderr"
        },
        {
          "output_type": "stream",
          "text": [
            "Epoch 14/200\n",
            "350/350 [==============================] - 132s 379ms/step - loss: 0.5935 - accuracy: 0.6844 - val_loss: 0.5677 - val_accuracy: 0.7065\n",
            "Epoch 15/200\n",
            "350/350 [==============================] - 133s 381ms/step - loss: 0.5829 - accuracy: 0.6916 - val_loss: 0.5159 - val_accuracy: 0.7560\n"
          ],
          "name": "stdout"
        },
        {
          "output_type": "stream",
          "text": [
            "WARNING:absl:Found untraced functions such as gru_cell_20_layer_call_and_return_conditional_losses, gru_cell_20_layer_call_fn, gru_cell_21_layer_call_and_return_conditional_losses, gru_cell_21_layer_call_fn, gru_cell_22_layer_call_and_return_conditional_losses while saving (showing 5 of 20). These functions will not be directly callable after loading.\n",
            "WARNING:absl:Found untraced functions such as gru_cell_20_layer_call_and_return_conditional_losses, gru_cell_20_layer_call_fn, gru_cell_21_layer_call_and_return_conditional_losses, gru_cell_21_layer_call_fn, gru_cell_22_layer_call_and_return_conditional_losses while saving (showing 5 of 20). These functions will not be directly callable after loading.\n"
          ],
          "name": "stderr"
        },
        {
          "output_type": "stream",
          "text": [
            "INFO:tensorflow:Assets written to: /content/drive/My Drive/data/JUNK2.cv.3.best/assets\n"
          ],
          "name": "stdout"
        },
        {
          "output_type": "stream",
          "text": [
            "INFO:tensorflow:Assets written to: /content/drive/My Drive/data/JUNK2.cv.3.best/assets\n"
          ],
          "name": "stderr"
        },
        {
          "output_type": "stream",
          "text": [
            "Epoch 16/200\n",
            "350/350 [==============================] - 133s 381ms/step - loss: 0.5585 - accuracy: 0.7119 - val_loss: 0.4975 - val_accuracy: 0.7588\n"
          ],
          "name": "stdout"
        },
        {
          "output_type": "stream",
          "text": [
            "WARNING:absl:Found untraced functions such as gru_cell_20_layer_call_and_return_conditional_losses, gru_cell_20_layer_call_fn, gru_cell_21_layer_call_and_return_conditional_losses, gru_cell_21_layer_call_fn, gru_cell_22_layer_call_and_return_conditional_losses while saving (showing 5 of 20). These functions will not be directly callable after loading.\n",
            "WARNING:absl:Found untraced functions such as gru_cell_20_layer_call_and_return_conditional_losses, gru_cell_20_layer_call_fn, gru_cell_21_layer_call_and_return_conditional_losses, gru_cell_21_layer_call_fn, gru_cell_22_layer_call_and_return_conditional_losses while saving (showing 5 of 20). These functions will not be directly callable after loading.\n"
          ],
          "name": "stderr"
        },
        {
          "output_type": "stream",
          "text": [
            "INFO:tensorflow:Assets written to: /content/drive/My Drive/data/JUNK2.cv.3.best/assets\n"
          ],
          "name": "stdout"
        },
        {
          "output_type": "stream",
          "text": [
            "INFO:tensorflow:Assets written to: /content/drive/My Drive/data/JUNK2.cv.3.best/assets\n"
          ],
          "name": "stderr"
        },
        {
          "output_type": "stream",
          "text": [
            "Epoch 17/200\n",
            "350/350 [==============================] - 134s 383ms/step - loss: 0.5512 - accuracy: 0.7186 - val_loss: 0.4771 - val_accuracy: 0.7694\n"
          ],
          "name": "stdout"
        },
        {
          "output_type": "stream",
          "text": [
            "WARNING:absl:Found untraced functions such as gru_cell_20_layer_call_and_return_conditional_losses, gru_cell_20_layer_call_fn, gru_cell_21_layer_call_and_return_conditional_losses, gru_cell_21_layer_call_fn, gru_cell_22_layer_call_and_return_conditional_losses while saving (showing 5 of 20). These functions will not be directly callable after loading.\n",
            "WARNING:absl:Found untraced functions such as gru_cell_20_layer_call_and_return_conditional_losses, gru_cell_20_layer_call_fn, gru_cell_21_layer_call_and_return_conditional_losses, gru_cell_21_layer_call_fn, gru_cell_22_layer_call_and_return_conditional_losses while saving (showing 5 of 20). These functions will not be directly callable after loading.\n"
          ],
          "name": "stderr"
        },
        {
          "output_type": "stream",
          "text": [
            "INFO:tensorflow:Assets written to: /content/drive/My Drive/data/JUNK2.cv.3.best/assets\n"
          ],
          "name": "stdout"
        },
        {
          "output_type": "stream",
          "text": [
            "INFO:tensorflow:Assets written to: /content/drive/My Drive/data/JUNK2.cv.3.best/assets\n"
          ],
          "name": "stderr"
        },
        {
          "output_type": "stream",
          "text": [
            "Epoch 18/200\n",
            "350/350 [==============================] - 134s 384ms/step - loss: 0.5248 - accuracy: 0.7421 - val_loss: 0.4857 - val_accuracy: 0.7635\n",
            "Epoch 19/200\n",
            "350/350 [==============================] - 137s 391ms/step - loss: 0.5141 - accuracy: 0.7489 - val_loss: 0.4905 - val_accuracy: 0.7643\n",
            "Epoch 20/200\n",
            "350/350 [==============================] - 136s 390ms/step - loss: 0.5443 - accuracy: 0.7219 - val_loss: 0.4849 - val_accuracy: 0.7511\n",
            "Epoch 21/200\n",
            "350/350 [==============================] - 138s 396ms/step - loss: 0.5276 - accuracy: 0.7302 - val_loss: 0.5042 - val_accuracy: 0.7609\n",
            "Epoch 22/200\n",
            "350/350 [==============================] - 138s 394ms/step - loss: 0.5356 - accuracy: 0.7364 - val_loss: 0.3838 - val_accuracy: 0.8348\n"
          ],
          "name": "stdout"
        },
        {
          "output_type": "stream",
          "text": [
            "WARNING:absl:Found untraced functions such as gru_cell_20_layer_call_and_return_conditional_losses, gru_cell_20_layer_call_fn, gru_cell_21_layer_call_and_return_conditional_losses, gru_cell_21_layer_call_fn, gru_cell_22_layer_call_and_return_conditional_losses while saving (showing 5 of 20). These functions will not be directly callable after loading.\n",
            "WARNING:absl:Found untraced functions such as gru_cell_20_layer_call_and_return_conditional_losses, gru_cell_20_layer_call_fn, gru_cell_21_layer_call_and_return_conditional_losses, gru_cell_21_layer_call_fn, gru_cell_22_layer_call_and_return_conditional_losses while saving (showing 5 of 20). These functions will not be directly callable after loading.\n"
          ],
          "name": "stderr"
        },
        {
          "output_type": "stream",
          "text": [
            "INFO:tensorflow:Assets written to: /content/drive/My Drive/data/JUNK2.cv.3.best/assets\n"
          ],
          "name": "stdout"
        },
        {
          "output_type": "stream",
          "text": [
            "INFO:tensorflow:Assets written to: /content/drive/My Drive/data/JUNK2.cv.3.best/assets\n"
          ],
          "name": "stderr"
        },
        {
          "output_type": "stream",
          "text": [
            "Epoch 23/200\n",
            "350/350 [==============================] - 138s 394ms/step - loss: 0.4515 - accuracy: 0.7904 - val_loss: 0.3586 - val_accuracy: 0.8458\n"
          ],
          "name": "stdout"
        },
        {
          "output_type": "stream",
          "text": [
            "WARNING:absl:Found untraced functions such as gru_cell_20_layer_call_and_return_conditional_losses, gru_cell_20_layer_call_fn, gru_cell_21_layer_call_and_return_conditional_losses, gru_cell_21_layer_call_fn, gru_cell_22_layer_call_and_return_conditional_losses while saving (showing 5 of 20). These functions will not be directly callable after loading.\n",
            "WARNING:absl:Found untraced functions such as gru_cell_20_layer_call_and_return_conditional_losses, gru_cell_20_layer_call_fn, gru_cell_21_layer_call_and_return_conditional_losses, gru_cell_21_layer_call_fn, gru_cell_22_layer_call_and_return_conditional_losses while saving (showing 5 of 20). These functions will not be directly callable after loading.\n"
          ],
          "name": "stderr"
        },
        {
          "output_type": "stream",
          "text": [
            "INFO:tensorflow:Assets written to: /content/drive/My Drive/data/JUNK2.cv.3.best/assets\n"
          ],
          "name": "stdout"
        },
        {
          "output_type": "stream",
          "text": [
            "INFO:tensorflow:Assets written to: /content/drive/My Drive/data/JUNK2.cv.3.best/assets\n"
          ],
          "name": "stderr"
        },
        {
          "output_type": "stream",
          "text": [
            "Epoch 24/200\n",
            "350/350 [==============================] - 139s 397ms/step - loss: 0.4769 - accuracy: 0.7725 - val_loss: 0.4817 - val_accuracy: 0.7660\n",
            "Epoch 25/200\n",
            "350/350 [==============================] - 139s 397ms/step - loss: 0.5360 - accuracy: 0.7262 - val_loss: 0.4424 - val_accuracy: 0.7935\n",
            "Epoch 26/200\n",
            "350/350 [==============================] - 138s 395ms/step - loss: 0.5016 - accuracy: 0.7567 - val_loss: 0.4451 - val_accuracy: 0.7891\n",
            "Epoch 27/200\n",
            "350/350 [==============================] - 140s 399ms/step - loss: 0.4738 - accuracy: 0.7740 - val_loss: 0.3557 - val_accuracy: 0.8445\n",
            "Epoch 28/200\n",
            "350/350 [==============================] - 137s 392ms/step - loss: 0.4375 - accuracy: 0.8047 - val_loss: 0.4066 - val_accuracy: 0.8245\n",
            "Epoch 29/200\n",
            "350/350 [==============================] - 136s 390ms/step - loss: 0.4020 - accuracy: 0.8175 - val_loss: 0.4835 - val_accuracy: 0.7816\n",
            "Epoch 30/200\n",
            "350/350 [==============================] - 137s 390ms/step - loss: 0.4465 - accuracy: 0.7903 - val_loss: 0.3561 - val_accuracy: 0.8448\n",
            "Epoch 31/200\n",
            "350/350 [==============================] - 137s 393ms/step - loss: 0.4547 - accuracy: 0.7884 - val_loss: 0.3659 - val_accuracy: 0.8360\n",
            "Epoch 32/200\n",
            "350/350 [==============================] - 136s 389ms/step - loss: 0.4123 - accuracy: 0.8149 - val_loss: 0.3213 - val_accuracy: 0.8678\n"
          ],
          "name": "stdout"
        },
        {
          "output_type": "stream",
          "text": [
            "WARNING:absl:Found untraced functions such as gru_cell_20_layer_call_and_return_conditional_losses, gru_cell_20_layer_call_fn, gru_cell_21_layer_call_and_return_conditional_losses, gru_cell_21_layer_call_fn, gru_cell_22_layer_call_and_return_conditional_losses while saving (showing 5 of 20). These functions will not be directly callable after loading.\n",
            "WARNING:absl:Found untraced functions such as gru_cell_20_layer_call_and_return_conditional_losses, gru_cell_20_layer_call_fn, gru_cell_21_layer_call_and_return_conditional_losses, gru_cell_21_layer_call_fn, gru_cell_22_layer_call_and_return_conditional_losses while saving (showing 5 of 20). These functions will not be directly callable after loading.\n"
          ],
          "name": "stderr"
        },
        {
          "output_type": "stream",
          "text": [
            "INFO:tensorflow:Assets written to: /content/drive/My Drive/data/JUNK2.cv.3.best/assets\n"
          ],
          "name": "stdout"
        },
        {
          "output_type": "stream",
          "text": [
            "INFO:tensorflow:Assets written to: /content/drive/My Drive/data/JUNK2.cv.3.best/assets\n"
          ],
          "name": "stderr"
        },
        {
          "output_type": "stream",
          "text": [
            "Epoch 33/200\n",
            "350/350 [==============================] - 135s 385ms/step - loss: 0.3723 - accuracy: 0.8365 - val_loss: 0.2737 - val_accuracy: 0.8957\n"
          ],
          "name": "stdout"
        },
        {
          "output_type": "stream",
          "text": [
            "WARNING:absl:Found untraced functions such as gru_cell_20_layer_call_and_return_conditional_losses, gru_cell_20_layer_call_fn, gru_cell_21_layer_call_and_return_conditional_losses, gru_cell_21_layer_call_fn, gru_cell_22_layer_call_and_return_conditional_losses while saving (showing 5 of 20). These functions will not be directly callable after loading.\n",
            "WARNING:absl:Found untraced functions such as gru_cell_20_layer_call_and_return_conditional_losses, gru_cell_20_layer_call_fn, gru_cell_21_layer_call_and_return_conditional_losses, gru_cell_21_layer_call_fn, gru_cell_22_layer_call_and_return_conditional_losses while saving (showing 5 of 20). These functions will not be directly callable after loading.\n"
          ],
          "name": "stderr"
        },
        {
          "output_type": "stream",
          "text": [
            "INFO:tensorflow:Assets written to: /content/drive/My Drive/data/JUNK2.cv.3.best/assets\n"
          ],
          "name": "stdout"
        },
        {
          "output_type": "stream",
          "text": [
            "INFO:tensorflow:Assets written to: /content/drive/My Drive/data/JUNK2.cv.3.best/assets\n"
          ],
          "name": "stderr"
        },
        {
          "output_type": "stream",
          "text": [
            "Epoch 34/200\n",
            "350/350 [==============================] - 135s 385ms/step - loss: 0.3832 - accuracy: 0.8303 - val_loss: 0.3080 - val_accuracy: 0.8741\n",
            "Epoch 35/200\n",
            "350/350 [==============================] - 138s 394ms/step - loss: 0.3758 - accuracy: 0.8321 - val_loss: 0.2768 - val_accuracy: 0.8896\n",
            "Epoch 36/200\n",
            "350/350 [==============================] - 139s 398ms/step - loss: 0.4092 - accuracy: 0.8155 - val_loss: 0.2666 - val_accuracy: 0.8965\n"
          ],
          "name": "stdout"
        },
        {
          "output_type": "stream",
          "text": [
            "WARNING:absl:Found untraced functions such as gru_cell_20_layer_call_and_return_conditional_losses, gru_cell_20_layer_call_fn, gru_cell_21_layer_call_and_return_conditional_losses, gru_cell_21_layer_call_fn, gru_cell_22_layer_call_and_return_conditional_losses while saving (showing 5 of 20). These functions will not be directly callable after loading.\n",
            "WARNING:absl:Found untraced functions such as gru_cell_20_layer_call_and_return_conditional_losses, gru_cell_20_layer_call_fn, gru_cell_21_layer_call_and_return_conditional_losses, gru_cell_21_layer_call_fn, gru_cell_22_layer_call_and_return_conditional_losses while saving (showing 5 of 20). These functions will not be directly callable after loading.\n"
          ],
          "name": "stderr"
        },
        {
          "output_type": "stream",
          "text": [
            "INFO:tensorflow:Assets written to: /content/drive/My Drive/data/JUNK2.cv.3.best/assets\n"
          ],
          "name": "stdout"
        },
        {
          "output_type": "stream",
          "text": [
            "INFO:tensorflow:Assets written to: /content/drive/My Drive/data/JUNK2.cv.3.best/assets\n"
          ],
          "name": "stderr"
        },
        {
          "output_type": "stream",
          "text": [
            "Epoch 37/200\n",
            "350/350 [==============================] - 138s 394ms/step - loss: 0.3525 - accuracy: 0.8453 - val_loss: 0.2616 - val_accuracy: 0.8973\n"
          ],
          "name": "stdout"
        },
        {
          "output_type": "stream",
          "text": [
            "WARNING:absl:Found untraced functions such as gru_cell_20_layer_call_and_return_conditional_losses, gru_cell_20_layer_call_fn, gru_cell_21_layer_call_and_return_conditional_losses, gru_cell_21_layer_call_fn, gru_cell_22_layer_call_and_return_conditional_losses while saving (showing 5 of 20). These functions will not be directly callable after loading.\n",
            "WARNING:absl:Found untraced functions such as gru_cell_20_layer_call_and_return_conditional_losses, gru_cell_20_layer_call_fn, gru_cell_21_layer_call_and_return_conditional_losses, gru_cell_21_layer_call_fn, gru_cell_22_layer_call_and_return_conditional_losses while saving (showing 5 of 20). These functions will not be directly callable after loading.\n"
          ],
          "name": "stderr"
        },
        {
          "output_type": "stream",
          "text": [
            "INFO:tensorflow:Assets written to: /content/drive/My Drive/data/JUNK2.cv.3.best/assets\n"
          ],
          "name": "stdout"
        },
        {
          "output_type": "stream",
          "text": [
            "INFO:tensorflow:Assets written to: /content/drive/My Drive/data/JUNK2.cv.3.best/assets\n"
          ],
          "name": "stderr"
        },
        {
          "output_type": "stream",
          "text": [
            "Epoch 38/200\n",
            "350/350 [==============================] - 139s 398ms/step - loss: 0.3520 - accuracy: 0.8534 - val_loss: 0.2640 - val_accuracy: 0.8981\n"
          ],
          "name": "stdout"
        },
        {
          "output_type": "stream",
          "text": [
            "WARNING:absl:Found untraced functions such as gru_cell_20_layer_call_and_return_conditional_losses, gru_cell_20_layer_call_fn, gru_cell_21_layer_call_and_return_conditional_losses, gru_cell_21_layer_call_fn, gru_cell_22_layer_call_and_return_conditional_losses while saving (showing 5 of 20). These functions will not be directly callable after loading.\n",
            "WARNING:absl:Found untraced functions such as gru_cell_20_layer_call_and_return_conditional_losses, gru_cell_20_layer_call_fn, gru_cell_21_layer_call_and_return_conditional_losses, gru_cell_21_layer_call_fn, gru_cell_22_layer_call_and_return_conditional_losses while saving (showing 5 of 20). These functions will not be directly callable after loading.\n"
          ],
          "name": "stderr"
        },
        {
          "output_type": "stream",
          "text": [
            "INFO:tensorflow:Assets written to: /content/drive/My Drive/data/JUNK2.cv.3.best/assets\n"
          ],
          "name": "stdout"
        },
        {
          "output_type": "stream",
          "text": [
            "INFO:tensorflow:Assets written to: /content/drive/My Drive/data/JUNK2.cv.3.best/assets\n"
          ],
          "name": "stderr"
        },
        {
          "output_type": "stream",
          "text": [
            "Epoch 39/200\n",
            "350/350 [==============================] - 142s 406ms/step - loss: 0.3633 - accuracy: 0.8432 - val_loss: 0.2904 - val_accuracy: 0.8831\n",
            "Epoch 40/200\n",
            "350/350 [==============================] - 139s 398ms/step - loss: 0.4316 - accuracy: 0.7877 - val_loss: 0.4123 - val_accuracy: 0.8195\n",
            "Epoch 41/200\n",
            "350/350 [==============================] - 140s 400ms/step - loss: 0.4687 - accuracy: 0.7806 - val_loss: 0.3442 - val_accuracy: 0.8515\n",
            "Epoch 42/200\n",
            "350/350 [==============================] - 141s 404ms/step - loss: 0.4029 - accuracy: 0.8188 - val_loss: 0.3399 - val_accuracy: 0.8491\n",
            "Epoch 43/200\n",
            "350/350 [==============================] - 138s 396ms/step - loss: 0.3699 - accuracy: 0.8384 - val_loss: 0.2827 - val_accuracy: 0.8840\n",
            "Epoch 44/200\n",
            "350/350 [==============================] - 138s 395ms/step - loss: 0.3573 - accuracy: 0.8451 - val_loss: 0.2579 - val_accuracy: 0.8965\n",
            "Epoch 45/200\n",
            "350/350 [==============================] - 141s 402ms/step - loss: 0.3355 - accuracy: 0.8564 - val_loss: 0.2867 - val_accuracy: 0.8832\n",
            "Epoch 46/200\n",
            "350/350 [==============================] - 143s 409ms/step - loss: 0.3252 - accuracy: 0.8636 - val_loss: 0.3651 - val_accuracy: 0.8422\n",
            "Epoch 47/200\n",
            "350/350 [==============================] - 147s 420ms/step - loss: 0.4240 - accuracy: 0.8034 - val_loss: 0.3666 - val_accuracy: 0.8421\n",
            "Epoch 48/200\n",
            "350/350 [==============================] - 145s 414ms/step - loss: 0.4151 - accuracy: 0.8063 - val_loss: 0.2666 - val_accuracy: 0.8909\n",
            "Epoch 49/200\n",
            "350/350 [==============================] - 145s 414ms/step - loss: 0.3586 - accuracy: 0.8378 - val_loss: 0.2724 - val_accuracy: 0.8895\n",
            "Epoch 50/200\n",
            "350/350 [==============================] - 148s 422ms/step - loss: 0.4793 - accuracy: 0.7676 - val_loss: 0.3554 - val_accuracy: 0.8449\n",
            "Epoch 51/200\n",
            "350/350 [==============================] - 139s 397ms/step - loss: 0.4483 - accuracy: 0.7911 - val_loss: 0.3107 - val_accuracy: 0.8720\n",
            "Epoch 52/200\n",
            "350/350 [==============================] - 145s 414ms/step - loss: 0.3769 - accuracy: 0.8312 - val_loss: 0.2918 - val_accuracy: 0.8784\n",
            "Epoch 53/200\n",
            "350/350 [==============================] - 138s 395ms/step - loss: 0.3645 - accuracy: 0.8364 - val_loss: 0.2602 - val_accuracy: 0.8955\n",
            "Epoch 54/200\n",
            "350/350 [==============================] - 140s 400ms/step - loss: 0.3376 - accuracy: 0.8556 - val_loss: 0.2763 - val_accuracy: 0.8869\n",
            "Epoch 00054: early stopping\n",
            "Fold 3, 200 epochs, 7826 sec\n"
          ],
          "name": "stdout"
        },
        {
          "output_type": "display_data",
          "data": {
            "image/png": "[encoded data removed]",
            "text/plain": [
              "<Figure size 576x360 with 1 Axes>"
            ]
          },
          "metadata": {
            "tags": []
          }
        },
        {
          "output_type": "stream",
          "text": [
            "accuracy: 89.81%\n",
            "COMPILE...\n",
            "...COMPILED\n",
            "FIT\n",
            "Epoch 1/200\n",
            "350/350 [==============================] - 159s 400ms/step - loss: 0.6857 - accuracy: 0.5548 - val_loss: 0.6995 - val_accuracy: 0.5327\n"
          ],
          "name": "stdout"
        },
        {
          "output_type": "stream",
          "text": [
            "WARNING:absl:Found untraced functions such as gru_cell_28_layer_call_and_return_conditional_losses, gru_cell_28_layer_call_fn, gru_cell_29_layer_call_and_return_conditional_losses, gru_cell_29_layer_call_fn, gru_cell_30_layer_call_and_return_conditional_losses while saving (showing 5 of 20). These functions will not be directly callable after loading.\n",
            "WARNING:absl:Found untraced functions such as gru_cell_28_layer_call_and_return_conditional_losses, gru_cell_28_layer_call_fn, gru_cell_29_layer_call_and_return_conditional_losses, gru_cell_29_layer_call_fn, gru_cell_30_layer_call_and_return_conditional_losses while saving (showing 5 of 20). These functions will not be directly callable after loading.\n"
          ],
          "name": "stderr"
        },
        {
          "output_type": "stream",
          "text": [
            "INFO:tensorflow:Assets written to: /content/drive/My Drive/data/JUNK2.cv.4.best/assets\n"
          ],
          "name": "stdout"
        },
        {
          "output_type": "stream",
          "text": [
            "INFO:tensorflow:Assets written to: /content/drive/My Drive/data/JUNK2.cv.4.best/assets\n"
          ],
          "name": "stderr"
        },
        {
          "output_type": "stream",
          "text": [
            "Epoch 2/200\n",
            "350/350 [==============================] - 137s 392ms/step - loss: 0.6801 - accuracy: 0.5781 - val_loss: 0.6977 - val_accuracy: 0.5322\n",
            "Epoch 3/200\n",
            "350/350 [==============================] - 141s 404ms/step - loss: 0.6772 - accuracy: 0.5879 - val_loss: 0.6954 - val_accuracy: 0.5230\n",
            "Epoch 4/200\n",
            "350/350 [==============================] - 146s 419ms/step - loss: 0.6735 - accuracy: 0.5869 - val_loss: 0.6952 - val_accuracy: 0.5404\n"
          ],
          "name": "stdout"
        },
        {
          "output_type": "stream",
          "text": [
            "WARNING:absl:Found untraced functions such as gru_cell_28_layer_call_and_return_conditional_losses, gru_cell_28_layer_call_fn, gru_cell_29_layer_call_and_return_conditional_losses, gru_cell_29_layer_call_fn, gru_cell_30_layer_call_and_return_conditional_losses while saving (showing 5 of 20). These functions will not be directly callable after loading.\n",
            "WARNING:absl:Found untraced functions such as gru_cell_28_layer_call_and_return_conditional_losses, gru_cell_28_layer_call_fn, gru_cell_29_layer_call_and_return_conditional_losses, gru_cell_29_layer_call_fn, gru_cell_30_layer_call_and_return_conditional_losses while saving (showing 5 of 20). These functions will not be directly callable after loading.\n"
          ],
          "name": "stderr"
        },
        {
          "output_type": "stream",
          "text": [
            "INFO:tensorflow:Assets written to: /content/drive/My Drive/data/JUNK2.cv.4.best/assets\n"
          ],
          "name": "stdout"
        },
        {
          "output_type": "stream",
          "text": [
            "INFO:tensorflow:Assets written to: /content/drive/My Drive/data/JUNK2.cv.4.best/assets\n"
          ],
          "name": "stderr"
        },
        {
          "output_type": "stream",
          "text": [
            "Epoch 5/200\n",
            "350/350 [==============================] - 145s 415ms/step - loss: 0.6700 - accuracy: 0.5956 - val_loss: 0.6773 - val_accuracy: 0.5604\n"
          ],
          "name": "stdout"
        },
        {
          "output_type": "stream",
          "text": [
            "WARNING:absl:Found untraced functions such as gru_cell_28_layer_call_and_return_conditional_losses, gru_cell_28_layer_call_fn, gru_cell_29_layer_call_and_return_conditional_losses, gru_cell_29_layer_call_fn, gru_cell_30_layer_call_and_return_conditional_losses while saving (showing 5 of 20). These functions will not be directly callable after loading.\n",
            "WARNING:absl:Found untraced functions such as gru_cell_28_layer_call_and_return_conditional_losses, gru_cell_28_layer_call_fn, gru_cell_29_layer_call_and_return_conditional_losses, gru_cell_29_layer_call_fn, gru_cell_30_layer_call_and_return_conditional_losses while saving (showing 5 of 20). These functions will not be directly callable after loading.\n"
          ],
          "name": "stderr"
        },
        {
          "output_type": "stream",
          "text": [
            "INFO:tensorflow:Assets written to: /content/drive/My Drive/data/JUNK2.cv.4.best/assets\n"
          ],
          "name": "stdout"
        },
        {
          "output_type": "stream",
          "text": [
            "INFO:tensorflow:Assets written to: /content/drive/My Drive/data/JUNK2.cv.4.best/assets\n"
          ],
          "name": "stderr"
        },
        {
          "output_type": "stream",
          "text": [
            "Epoch 6/200\n",
            "350/350 [==============================] - 148s 423ms/step - loss: 0.6727 - accuracy: 0.5837 - val_loss: 0.6934 - val_accuracy: 0.5226\n",
            "Epoch 7/200\n",
            "350/350 [==============================] - 150s 428ms/step - loss: 0.6845 - accuracy: 0.5550 - val_loss: 0.6880 - val_accuracy: 0.5424\n",
            "Epoch 8/200\n",
            "350/350 [==============================] - 149s 426ms/step - loss: 0.6739 - accuracy: 0.5840 - val_loss: 0.6994 - val_accuracy: 0.5691\n"
          ],
          "name": "stdout"
        },
        {
          "output_type": "stream",
          "text": [
            "WARNING:absl:Found untraced functions such as gru_cell_28_layer_call_and_return_conditional_losses, gru_cell_28_layer_call_fn, gru_cell_29_layer_call_and_return_conditional_losses, gru_cell_29_layer_call_fn, gru_cell_30_layer_call_and_return_conditional_losses while saving (showing 5 of 20). These functions will not be directly callable after loading.\n",
            "WARNING:absl:Found untraced functions such as gru_cell_28_layer_call_and_return_conditional_losses, gru_cell_28_layer_call_fn, gru_cell_29_layer_call_and_return_conditional_losses, gru_cell_29_layer_call_fn, gru_cell_30_layer_call_and_return_conditional_losses while saving (showing 5 of 20). These functions will not be directly callable after loading.\n"
          ],
          "name": "stderr"
        },
        {
          "output_type": "stream",
          "text": [
            "INFO:tensorflow:Assets written to: /content/drive/My Drive/data/JUNK2.cv.4.best/assets\n"
          ],
          "name": "stdout"
        },
        {
          "output_type": "stream",
          "text": [
            "INFO:tensorflow:Assets written to: /content/drive/My Drive/data/JUNK2.cv.4.best/assets\n"
          ],
          "name": "stderr"
        },
        {
          "output_type": "stream",
          "text": [
            "Epoch 9/200\n",
            "350/350 [==============================] - 149s 426ms/step - loss: 0.6412 - accuracy: 0.6410 - val_loss: 0.5807 - val_accuracy: 0.7176\n"
          ],
          "name": "stdout"
        },
        {
          "output_type": "stream",
          "text": [
            "WARNING:absl:Found untraced functions such as gru_cell_28_layer_call_and_return_conditional_losses, gru_cell_28_layer_call_fn, gru_cell_29_layer_call_and_return_conditional_losses, gru_cell_29_layer_call_fn, gru_cell_30_layer_call_and_return_conditional_losses while saving (showing 5 of 20). These functions will not be directly callable after loading.\n",
            "WARNING:absl:Found untraced functions such as gru_cell_28_layer_call_and_return_conditional_losses, gru_cell_28_layer_call_fn, gru_cell_29_layer_call_and_return_conditional_losses, gru_cell_29_layer_call_fn, gru_cell_30_layer_call_and_return_conditional_losses while saving (showing 5 of 20). These functions will not be directly callable after loading.\n"
          ],
          "name": "stderr"
        },
        {
          "output_type": "stream",
          "text": [
            "INFO:tensorflow:Assets written to: /content/drive/My Drive/data/JUNK2.cv.4.best/assets\n"
          ],
          "name": "stdout"
        },
        {
          "output_type": "stream",
          "text": [
            "INFO:tensorflow:Assets written to: /content/drive/My Drive/data/JUNK2.cv.4.best/assets\n"
          ],
          "name": "stderr"
        },
        {
          "output_type": "stream",
          "text": [
            "Epoch 10/200\n",
            "350/350 [==============================] - 153s 439ms/step - loss: 0.5781 - accuracy: 0.7079 - val_loss: 0.5292 - val_accuracy: 0.7586\n"
          ],
          "name": "stdout"
        },
        {
          "output_type": "stream",
          "text": [
            "WARNING:absl:Found untraced functions such as gru_cell_28_layer_call_and_return_conditional_losses, gru_cell_28_layer_call_fn, gru_cell_29_layer_call_and_return_conditional_losses, gru_cell_29_layer_call_fn, gru_cell_30_layer_call_and_return_conditional_losses while saving (showing 5 of 20). These functions will not be directly callable after loading.\n",
            "WARNING:absl:Found untraced functions such as gru_cell_28_layer_call_and_return_conditional_losses, gru_cell_28_layer_call_fn, gru_cell_29_layer_call_and_return_conditional_losses, gru_cell_29_layer_call_fn, gru_cell_30_layer_call_and_return_conditional_losses while saving (showing 5 of 20). These functions will not be directly callable after loading.\n"
          ],
          "name": "stderr"
        },
        {
          "output_type": "stream",
          "text": [
            "INFO:tensorflow:Assets written to: /content/drive/My Drive/data/JUNK2.cv.4.best/assets\n"
          ],
          "name": "stdout"
        },
        {
          "output_type": "stream",
          "text": [
            "INFO:tensorflow:Assets written to: /content/drive/My Drive/data/JUNK2.cv.4.best/assets\n"
          ],
          "name": "stderr"
        },
        {
          "output_type": "stream",
          "text": [
            "Epoch 11/200\n",
            "350/350 [==============================] - 153s 437ms/step - loss: 0.5078 - accuracy: 0.7561 - val_loss: 0.4180 - val_accuracy: 0.8189\n"
          ],
          "name": "stdout"
        },
        {
          "output_type": "stream",
          "text": [
            "WARNING:absl:Found untraced functions such as gru_cell_28_layer_call_and_return_conditional_losses, gru_cell_28_layer_call_fn, gru_cell_29_layer_call_and_return_conditional_losses, gru_cell_29_layer_call_fn, gru_cell_30_layer_call_and_return_conditional_losses while saving (showing 5 of 20). These functions will not be directly callable after loading.\n",
            "WARNING:absl:Found untraced functions such as gru_cell_28_layer_call_and_return_conditional_losses, gru_cell_28_layer_call_fn, gru_cell_29_layer_call_and_return_conditional_losses, gru_cell_29_layer_call_fn, gru_cell_30_layer_call_and_return_conditional_losses while saving (showing 5 of 20). These functions will not be directly callable after loading.\n"
          ],
          "name": "stderr"
        },
        {
          "output_type": "stream",
          "text": [
            "INFO:tensorflow:Assets written to: /content/drive/My Drive/data/JUNK2.cv.4.best/assets\n"
          ],
          "name": "stdout"
        },
        {
          "output_type": "stream",
          "text": [
            "INFO:tensorflow:Assets written to: /content/drive/My Drive/data/JUNK2.cv.4.best/assets\n"
          ],
          "name": "stderr"
        },
        {
          "output_type": "stream",
          "text": [
            "Epoch 12/200\n",
            "350/350 [==============================] - 145s 416ms/step - loss: 0.4894 - accuracy: 0.7730 - val_loss: 0.5407 - val_accuracy: 0.7351\n",
            "Epoch 13/200\n",
            "350/350 [==============================] - 144s 412ms/step - loss: 0.5138 - accuracy: 0.7530 - val_loss: 0.3850 - val_accuracy: 0.8355\n"
          ],
          "name": "stdout"
        },
        {
          "output_type": "stream",
          "text": [
            "WARNING:absl:Found untraced functions such as gru_cell_28_layer_call_and_return_conditional_losses, gru_cell_28_layer_call_fn, gru_cell_29_layer_call_and_return_conditional_losses, gru_cell_29_layer_call_fn, gru_cell_30_layer_call_and_return_conditional_losses while saving (showing 5 of 20). These functions will not be directly callable after loading.\n",
            "WARNING:absl:Found untraced functions such as gru_cell_28_layer_call_and_return_conditional_losses, gru_cell_28_layer_call_fn, gru_cell_29_layer_call_and_return_conditional_losses, gru_cell_29_layer_call_fn, gru_cell_30_layer_call_and_return_conditional_losses while saving (showing 5 of 20). These functions will not be directly callable after loading.\n"
          ],
          "name": "stderr"
        },
        {
          "output_type": "stream",
          "text": [
            "INFO:tensorflow:Assets written to: /content/drive/My Drive/data/JUNK2.cv.4.best/assets\n"
          ],
          "name": "stdout"
        },
        {
          "output_type": "stream",
          "text": [
            "INFO:tensorflow:Assets written to: /content/drive/My Drive/data/JUNK2.cv.4.best/assets\n"
          ],
          "name": "stderr"
        },
        {
          "output_type": "stream",
          "text": [
            "Epoch 14/200\n",
            "350/350 [==============================] - 147s 419ms/step - loss: 0.4499 - accuracy: 0.7937 - val_loss: 0.3996 - val_accuracy: 0.8321\n",
            "Epoch 15/200\n",
            "350/350 [==============================] - 145s 415ms/step - loss: 0.4419 - accuracy: 0.7989 - val_loss: 0.3840 - val_accuracy: 0.8363\n"
          ],
          "name": "stdout"
        },
        {
          "output_type": "stream",
          "text": [
            "WARNING:absl:Found untraced functions such as gru_cell_28_layer_call_and_return_conditional_losses, gru_cell_28_layer_call_fn, gru_cell_29_layer_call_and_return_conditional_losses, gru_cell_29_layer_call_fn, gru_cell_30_layer_call_and_return_conditional_losses while saving (showing 5 of 20). These functions will not be directly callable after loading.\n",
            "WARNING:absl:Found untraced functions such as gru_cell_28_layer_call_and_return_conditional_losses, gru_cell_28_layer_call_fn, gru_cell_29_layer_call_and_return_conditional_losses, gru_cell_29_layer_call_fn, gru_cell_30_layer_call_and_return_conditional_losses while saving (showing 5 of 20). These functions will not be directly callable after loading.\n"
          ],
          "name": "stderr"
        },
        {
          "output_type": "stream",
          "text": [
            "INFO:tensorflow:Assets written to: /content/drive/My Drive/data/JUNK2.cv.4.best/assets\n"
          ],
          "name": "stdout"
        },
        {
          "output_type": "stream",
          "text": [
            "INFO:tensorflow:Assets written to: /content/drive/My Drive/data/JUNK2.cv.4.best/assets\n"
          ],
          "name": "stderr"
        },
        {
          "output_type": "stream",
          "text": [
            "Epoch 16/200\n",
            "350/350 [==============================] - 140s 400ms/step - loss: 0.4261 - accuracy: 0.8087 - val_loss: 0.3565 - val_accuracy: 0.8486\n"
          ],
          "name": "stdout"
        },
        {
          "output_type": "stream",
          "text": [
            "WARNING:absl:Found untraced functions such as gru_cell_28_layer_call_and_return_conditional_losses, gru_cell_28_layer_call_fn, gru_cell_29_layer_call_and_return_conditional_losses, gru_cell_29_layer_call_fn, gru_cell_30_layer_call_and_return_conditional_losses while saving (showing 5 of 20). These functions will not be directly callable after loading.\n",
            "WARNING:absl:Found untraced functions such as gru_cell_28_layer_call_and_return_conditional_losses, gru_cell_28_layer_call_fn, gru_cell_29_layer_call_and_return_conditional_losses, gru_cell_29_layer_call_fn, gru_cell_30_layer_call_and_return_conditional_losses while saving (showing 5 of 20). These functions will not be directly callable after loading.\n"
          ],
          "name": "stderr"
        },
        {
          "output_type": "stream",
          "text": [
            "INFO:tensorflow:Assets written to: /content/drive/My Drive/data/JUNK2.cv.4.best/assets\n"
          ],
          "name": "stdout"
        },
        {
          "output_type": "stream",
          "text": [
            "INFO:tensorflow:Assets written to: /content/drive/My Drive/data/JUNK2.cv.4.best/assets\n"
          ],
          "name": "stderr"
        },
        {
          "output_type": "stream",
          "text": [
            "Epoch 17/200\n",
            "350/350 [==============================] - 140s 402ms/step - loss: 0.4322 - accuracy: 0.8100 - val_loss: 0.3514 - val_accuracy: 0.8582\n"
          ],
          "name": "stdout"
        },
        {
          "output_type": "stream",
          "text": [
            "WARNING:absl:Found untraced functions such as gru_cell_28_layer_call_and_return_conditional_losses, gru_cell_28_layer_call_fn, gru_cell_29_layer_call_and_return_conditional_losses, gru_cell_29_layer_call_fn, gru_cell_30_layer_call_and_return_conditional_losses while saving (showing 5 of 20). These functions will not be directly callable after loading.\n",
            "WARNING:absl:Found untraced functions such as gru_cell_28_layer_call_and_return_conditional_losses, gru_cell_28_layer_call_fn, gru_cell_29_layer_call_and_return_conditional_losses, gru_cell_29_layer_call_fn, gru_cell_30_layer_call_and_return_conditional_losses while saving (showing 5 of 20). These functions will not be directly callable after loading.\n"
          ],
          "name": "stderr"
        },
        {
          "output_type": "stream",
          "text": [
            "INFO:tensorflow:Assets written to: /content/drive/My Drive/data/JUNK2.cv.4.best/assets\n"
          ],
          "name": "stdout"
        },
        {
          "output_type": "stream",
          "text": [
            "INFO:tensorflow:Assets written to: /content/drive/My Drive/data/JUNK2.cv.4.best/assets\n"
          ],
          "name": "stderr"
        },
        {
          "output_type": "stream",
          "text": [
            "Epoch 18/200\n",
            "350/350 [==============================] - 141s 403ms/step - loss: 0.4084 - accuracy: 0.8188 - val_loss: 0.3535 - val_accuracy: 0.8551\n",
            "Epoch 19/200\n",
            "350/350 [==============================] - 142s 406ms/step - loss: 0.4092 - accuracy: 0.8168 - val_loss: 0.3938 - val_accuracy: 0.8328\n",
            "Epoch 20/200\n",
            "350/350 [==============================] - 139s 396ms/step - loss: 0.4422 - accuracy: 0.7926 - val_loss: 0.4472 - val_accuracy: 0.8051\n",
            "Epoch 21/200\n",
            "350/350 [==============================] - 142s 407ms/step - loss: 0.4761 - accuracy: 0.7675 - val_loss: 0.6260 - val_accuracy: 0.6366\n",
            "Epoch 22/200\n",
            "350/350 [==============================] - 143s 410ms/step - loss: 0.6120 - accuracy: 0.6473 - val_loss: 0.5685 - val_accuracy: 0.6921\n",
            "Epoch 23/200\n",
            "350/350 [==============================] - 146s 418ms/step - loss: 0.5668 - accuracy: 0.6923 - val_loss: 0.4421 - val_accuracy: 0.8048\n",
            "Epoch 24/200\n",
            "350/350 [==============================] - 148s 422ms/step - loss: 0.4954 - accuracy: 0.7619 - val_loss: 0.4090 - val_accuracy: 0.8170\n",
            "Epoch 25/200\n",
            "350/350 [==============================] - 145s 414ms/step - loss: 0.4734 - accuracy: 0.7744 - val_loss: 0.5705 - val_accuracy: 0.7263\n",
            "Epoch 26/200\n",
            "350/350 [==============================] - 149s 426ms/step - loss: 0.4755 - accuracy: 0.7768 - val_loss: 0.4275 - val_accuracy: 0.8163\n",
            "Epoch 27/200\n",
            "350/350 [==============================] - 145s 415ms/step - loss: 0.4570 - accuracy: 0.7848 - val_loss: 0.3570 - val_accuracy: 0.8493\n",
            "Epoch 00027: early stopping\n",
            "Fold 4, 200 epochs, 4272 sec\n"
          ],
          "name": "stdout"
        },
        {
          "output_type": "display_data",
          "data": {
            "image/png": "[encoded data removed]",
            "text/plain": [
              "<Figure size 576x360 with 1 Axes>"
            ]
          },
          "metadata": {
            "tags": []
          }
        },
        {
          "output_type": "stream",
          "text": [
            "accuracy: 85.82%\n",
            "COMPILE...\n",
            "...COMPILED\n",
            "FIT\n",
            "Epoch 1/200\n",
            "350/350 [==============================] - 168s 424ms/step - loss: 0.6854 - accuracy: 0.5567 - val_loss: 0.6930 - val_accuracy: 0.5113\n"
          ],
          "name": "stdout"
        },
        {
          "output_type": "stream",
          "text": [
            "WARNING:absl:Found untraced functions such as gru_cell_36_layer_call_and_return_conditional_losses, gru_cell_36_layer_call_fn, gru_cell_37_layer_call_and_return_conditional_losses, gru_cell_37_layer_call_fn, gru_cell_38_layer_call_and_return_conditional_losses while saving (showing 5 of 20). These functions will not be directly callable after loading.\n",
            "WARNING:absl:Found untraced functions such as gru_cell_36_layer_call_and_return_conditional_losses, gru_cell_36_layer_call_fn, gru_cell_37_layer_call_and_return_conditional_losses, gru_cell_37_layer_call_fn, gru_cell_38_layer_call_and_return_conditional_losses while saving (showing 5 of 20). These functions will not be directly callable after loading.\n"
          ],
          "name": "stderr"
        },
        {
          "output_type": "stream",
          "text": [
            "INFO:tensorflow:Assets written to: /content/drive/My Drive/data/JUNK2.cv.5.best/assets\n"
          ],
          "name": "stdout"
        },
        {
          "output_type": "stream",
          "text": [
            "INFO:tensorflow:Assets written to: /content/drive/My Drive/data/JUNK2.cv.5.best/assets\n"
          ],
          "name": "stderr"
        },
        {
          "output_type": "stream",
          "text": [
            "Epoch 2/200\n",
            "350/350 [==============================] - 141s 403ms/step - loss: 0.6811 - accuracy: 0.5710 - val_loss: 0.7080 - val_accuracy: 0.5285\n"
          ],
          "name": "stdout"
        },
        {
          "output_type": "stream",
          "text": [
            "WARNING:absl:Found untraced functions such as gru_cell_36_layer_call_and_return_conditional_losses, gru_cell_36_layer_call_fn, gru_cell_37_layer_call_and_return_conditional_losses, gru_cell_37_layer_call_fn, gru_cell_38_layer_call_and_return_conditional_losses while saving (showing 5 of 20). These functions will not be directly callable after loading.\n",
            "WARNING:absl:Found untraced functions such as gru_cell_36_layer_call_and_return_conditional_losses, gru_cell_36_layer_call_fn, gru_cell_37_layer_call_and_return_conditional_losses, gru_cell_37_layer_call_fn, gru_cell_38_layer_call_and_return_conditional_losses while saving (showing 5 of 20). These functions will not be directly callable after loading.\n"
          ],
          "name": "stderr"
        },
        {
          "output_type": "stream",
          "text": [
            "INFO:tensorflow:Assets written to: /content/drive/My Drive/data/JUNK2.cv.5.best/assets\n"
          ],
          "name": "stdout"
        },
        {
          "output_type": "stream",
          "text": [
            "INFO:tensorflow:Assets written to: /content/drive/My Drive/data/JUNK2.cv.5.best/assets\n"
          ],
          "name": "stderr"
        },
        {
          "output_type": "stream",
          "text": [
            "Epoch 3/200\n",
            "350/350 [==============================] - 144s 413ms/step - loss: 0.6824 - accuracy: 0.5728 - val_loss: 0.6924 - val_accuracy: 0.5272\n",
            "Epoch 4/200\n",
            "350/350 [==============================] - 140s 400ms/step - loss: 0.6822 - accuracy: 0.5512 - val_loss: 0.6979 - val_accuracy: 0.5359\n"
          ],
          "name": "stdout"
        },
        {
          "output_type": "stream",
          "text": [
            "WARNING:absl:Found untraced functions such as gru_cell_36_layer_call_and_return_conditional_losses, gru_cell_36_layer_call_fn, gru_cell_37_layer_call_and_return_conditional_losses, gru_cell_37_layer_call_fn, gru_cell_38_layer_call_and_return_conditional_losses while saving (showing 5 of 20). These functions will not be directly callable after loading.\n",
            "WARNING:absl:Found untraced functions such as gru_cell_36_layer_call_and_return_conditional_losses, gru_cell_36_layer_call_fn, gru_cell_37_layer_call_and_return_conditional_losses, gru_cell_37_layer_call_fn, gru_cell_38_layer_call_and_return_conditional_losses while saving (showing 5 of 20). These functions will not be directly callable after loading.\n"
          ],
          "name": "stderr"
        },
        {
          "output_type": "stream",
          "text": [
            "INFO:tensorflow:Assets written to: /content/drive/My Drive/data/JUNK2.cv.5.best/assets\n"
          ],
          "name": "stdout"
        },
        {
          "output_type": "stream",
          "text": [
            "INFO:tensorflow:Assets written to: /content/drive/My Drive/data/JUNK2.cv.5.best/assets\n"
          ],
          "name": "stderr"
        },
        {
          "output_type": "stream",
          "text": [
            "Epoch 5/200\n",
            "350/350 [==============================] - 139s 396ms/step - loss: 0.6951 - accuracy: 0.5220 - val_loss: 0.6896 - val_accuracy: 0.5374\n"
          ],
          "name": "stdout"
        },
        {
          "output_type": "stream",
          "text": [
            "WARNING:absl:Found untraced functions such as gru_cell_36_layer_call_and_return_conditional_losses, gru_cell_36_layer_call_fn, gru_cell_37_layer_call_and_return_conditional_losses, gru_cell_37_layer_call_fn, gru_cell_38_layer_call_and_return_conditional_losses while saving (showing 5 of 20). These functions will not be directly callable after loading.\n",
            "WARNING:absl:Found untraced functions such as gru_cell_36_layer_call_and_return_conditional_losses, gru_cell_36_layer_call_fn, gru_cell_37_layer_call_and_return_conditional_losses, gru_cell_37_layer_call_fn, gru_cell_38_layer_call_and_return_conditional_losses while saving (showing 5 of 20). These functions will not be directly callable after loading.\n"
          ],
          "name": "stderr"
        },
        {
          "output_type": "stream",
          "text": [
            "INFO:tensorflow:Assets written to: /content/drive/My Drive/data/JUNK2.cv.5.best/assets\n"
          ],
          "name": "stdout"
        },
        {
          "output_type": "stream",
          "text": [
            "INFO:tensorflow:Assets written to: /content/drive/My Drive/data/JUNK2.cv.5.best/assets\n"
          ],
          "name": "stderr"
        },
        {
          "output_type": "stream",
          "text": [
            "Epoch 6/200\n",
            "350/350 [==============================] - 140s 399ms/step - loss: 0.6925 - accuracy: 0.5225 - val_loss: 0.6872 - val_accuracy: 0.4999\n",
            "Epoch 7/200\n",
            "350/350 [==============================] - 139s 397ms/step - loss: 0.6878 - accuracy: 0.5380 - val_loss: 0.7061 - val_accuracy: 0.5217\n",
            "Epoch 8/200\n",
            "350/350 [==============================] - 137s 392ms/step - loss: 0.6770 - accuracy: 0.5898 - val_loss: 0.6428 - val_accuracy: 0.6523\n"
          ],
          "name": "stdout"
        },
        {
          "output_type": "stream",
          "text": [
            "WARNING:absl:Found untraced functions such as gru_cell_36_layer_call_and_return_conditional_losses, gru_cell_36_layer_call_fn, gru_cell_37_layer_call_and_return_conditional_losses, gru_cell_37_layer_call_fn, gru_cell_38_layer_call_and_return_conditional_losses while saving (showing 5 of 20). These functions will not be directly callable after loading.\n",
            "WARNING:absl:Found untraced functions such as gru_cell_36_layer_call_and_return_conditional_losses, gru_cell_36_layer_call_fn, gru_cell_37_layer_call_and_return_conditional_losses, gru_cell_37_layer_call_fn, gru_cell_38_layer_call_and_return_conditional_losses while saving (showing 5 of 20). These functions will not be directly callable after loading.\n"
          ],
          "name": "stderr"
        },
        {
          "output_type": "stream",
          "text": [
            "INFO:tensorflow:Assets written to: /content/drive/My Drive/data/JUNK2.cv.5.best/assets\n"
          ],
          "name": "stdout"
        },
        {
          "output_type": "stream",
          "text": [
            "INFO:tensorflow:Assets written to: /content/drive/My Drive/data/JUNK2.cv.5.best/assets\n"
          ],
          "name": "stderr"
        },
        {
          "output_type": "stream",
          "text": [
            "Epoch 9/200\n",
            "350/350 [==============================] - 140s 399ms/step - loss: 0.6278 - accuracy: 0.6525 - val_loss: 0.5718 - val_accuracy: 0.7152\n"
          ],
          "name": "stdout"
        },
        {
          "output_type": "stream",
          "text": [
            "WARNING:absl:Found untraced functions such as gru_cell_36_layer_call_and_return_conditional_losses, gru_cell_36_layer_call_fn, gru_cell_37_layer_call_and_return_conditional_losses, gru_cell_37_layer_call_fn, gru_cell_38_layer_call_and_return_conditional_losses while saving (showing 5 of 20). These functions will not be directly callable after loading.\n",
            "WARNING:absl:Found untraced functions such as gru_cell_36_layer_call_and_return_conditional_losses, gru_cell_36_layer_call_fn, gru_cell_37_layer_call_and_return_conditional_losses, gru_cell_37_layer_call_fn, gru_cell_38_layer_call_and_return_conditional_losses while saving (showing 5 of 20). These functions will not be directly callable after loading.\n"
          ],
          "name": "stderr"
        },
        {
          "output_type": "stream",
          "text": [
            "INFO:tensorflow:Assets written to: /content/drive/My Drive/data/JUNK2.cv.5.best/assets\n"
          ],
          "name": "stdout"
        },
        {
          "output_type": "stream",
          "text": [
            "INFO:tensorflow:Assets written to: /content/drive/My Drive/data/JUNK2.cv.5.best/assets\n"
          ],
          "name": "stderr"
        },
        {
          "output_type": "stream",
          "text": [
            "Epoch 10/200\n",
            "350/350 [==============================] - 142s 407ms/step - loss: 0.5808 - accuracy: 0.7024 - val_loss: 0.4600 - val_accuracy: 0.7821\n"
          ],
          "name": "stdout"
        },
        {
          "output_type": "stream",
          "text": [
            "WARNING:absl:Found untraced functions such as gru_cell_36_layer_call_and_return_conditional_losses, gru_cell_36_layer_call_fn, gru_cell_37_layer_call_and_return_conditional_losses, gru_cell_37_layer_call_fn, gru_cell_38_layer_call_and_return_conditional_losses while saving (showing 5 of 20). These functions will not be directly callable after loading.\n",
            "WARNING:absl:Found untraced functions such as gru_cell_36_layer_call_and_return_conditional_losses, gru_cell_36_layer_call_fn, gru_cell_37_layer_call_and_return_conditional_losses, gru_cell_37_layer_call_fn, gru_cell_38_layer_call_and_return_conditional_losses while saving (showing 5 of 20). These functions will not be directly callable after loading.\n"
          ],
          "name": "stderr"
        },
        {
          "output_type": "stream",
          "text": [
            "INFO:tensorflow:Assets written to: /content/drive/My Drive/data/JUNK2.cv.5.best/assets\n"
          ],
          "name": "stdout"
        },
        {
          "output_type": "stream",
          "text": [
            "INFO:tensorflow:Assets written to: /content/drive/My Drive/data/JUNK2.cv.5.best/assets\n"
          ],
          "name": "stderr"
        },
        {
          "output_type": "stream",
          "text": [
            "Epoch 11/200\n",
            "350/350 [==============================] - 145s 414ms/step - loss: 0.5274 - accuracy: 0.7364 - val_loss: 0.5691 - val_accuracy: 0.7019\n",
            "Epoch 12/200\n",
            "350/350 [==============================] - 148s 424ms/step - loss: 0.5231 - accuracy: 0.7348 - val_loss: 0.4090 - val_accuracy: 0.8193\n"
          ],
          "name": "stdout"
        },
        {
          "output_type": "stream",
          "text": [
            "WARNING:absl:Found untraced functions such as gru_cell_36_layer_call_and_return_conditional_losses, gru_cell_36_layer_call_fn, gru_cell_37_layer_call_and_return_conditional_losses, gru_cell_37_layer_call_fn, gru_cell_38_layer_call_and_return_conditional_losses while saving (showing 5 of 20). These functions will not be directly callable after loading.\n",
            "WARNING:absl:Found untraced functions such as gru_cell_36_layer_call_and_return_conditional_losses, gru_cell_36_layer_call_fn, gru_cell_37_layer_call_and_return_conditional_losses, gru_cell_37_layer_call_fn, gru_cell_38_layer_call_and_return_conditional_losses while saving (showing 5 of 20). These functions will not be directly callable after loading.\n"
          ],
          "name": "stderr"
        },
        {
          "output_type": "stream",
          "text": [
            "INFO:tensorflow:Assets written to: /content/drive/My Drive/data/JUNK2.cv.5.best/assets\n"
          ],
          "name": "stdout"
        },
        {
          "output_type": "stream",
          "text": [
            "INFO:tensorflow:Assets written to: /content/drive/My Drive/data/JUNK2.cv.5.best/assets\n"
          ],
          "name": "stderr"
        },
        {
          "output_type": "stream",
          "text": [
            "Epoch 13/200\n",
            "350/350 [==============================] - 147s 421ms/step - loss: 0.4524 - accuracy: 0.7899 - val_loss: 0.3837 - val_accuracy: 0.8370\n"
          ],
          "name": "stdout"
        },
        {
          "output_type": "stream",
          "text": [
            "WARNING:absl:Found untraced functions such as gru_cell_36_layer_call_and_return_conditional_losses, gru_cell_36_layer_call_fn, gru_cell_37_layer_call_and_return_conditional_losses, gru_cell_37_layer_call_fn, gru_cell_38_layer_call_and_return_conditional_losses while saving (showing 5 of 20). These functions will not be directly callable after loading.\n",
            "WARNING:absl:Found untraced functions such as gru_cell_36_layer_call_and_return_conditional_losses, gru_cell_36_layer_call_fn, gru_cell_37_layer_call_and_return_conditional_losses, gru_cell_37_layer_call_fn, gru_cell_38_layer_call_and_return_conditional_losses while saving (showing 5 of 20). These functions will not be directly callable after loading.\n"
          ],
          "name": "stderr"
        },
        {
          "output_type": "stream",
          "text": [
            "INFO:tensorflow:Assets written to: /content/drive/My Drive/data/JUNK2.cv.5.best/assets\n"
          ],
          "name": "stdout"
        },
        {
          "output_type": "stream",
          "text": [
            "INFO:tensorflow:Assets written to: /content/drive/My Drive/data/JUNK2.cv.5.best/assets\n"
          ],
          "name": "stderr"
        },
        {
          "output_type": "stream",
          "text": [
            "Epoch 14/200\n",
            "350/350 [==============================] - 140s 399ms/step - loss: 0.4353 - accuracy: 0.8018 - val_loss: 0.3723 - val_accuracy: 0.8375\n"
          ],
          "name": "stdout"
        },
        {
          "output_type": "stream",
          "text": [
            "WARNING:absl:Found untraced functions such as gru_cell_36_layer_call_and_return_conditional_losses, gru_cell_36_layer_call_fn, gru_cell_37_layer_call_and_return_conditional_losses, gru_cell_37_layer_call_fn, gru_cell_38_layer_call_and_return_conditional_losses while saving (showing 5 of 20). These functions will not be directly callable after loading.\n",
            "WARNING:absl:Found untraced functions such as gru_cell_36_layer_call_and_return_conditional_losses, gru_cell_36_layer_call_fn, gru_cell_37_layer_call_and_return_conditional_losses, gru_cell_37_layer_call_fn, gru_cell_38_layer_call_and_return_conditional_losses while saving (showing 5 of 20). These functions will not be directly callable after loading.\n"
          ],
          "name": "stderr"
        },
        {
          "output_type": "stream",
          "text": [
            "INFO:tensorflow:Assets written to: /content/drive/My Drive/data/JUNK2.cv.5.best/assets\n"
          ],
          "name": "stdout"
        },
        {
          "output_type": "stream",
          "text": [
            "INFO:tensorflow:Assets written to: /content/drive/My Drive/data/JUNK2.cv.5.best/assets\n"
          ],
          "name": "stderr"
        },
        {
          "output_type": "stream",
          "text": [
            "Epoch 15/200\n",
            "350/350 [==============================] - 141s 404ms/step - loss: 0.5176 - accuracy: 0.7452 - val_loss: 0.5435 - val_accuracy: 0.7283\n",
            "Epoch 16/200\n",
            "350/350 [==============================] - 144s 413ms/step - loss: 0.5703 - accuracy: 0.6999 - val_loss: 0.5458 - val_accuracy: 0.7128\n",
            "Epoch 17/200\n",
            "350/350 [==============================] - 143s 410ms/step - loss: 0.5768 - accuracy: 0.6894 - val_loss: 0.5350 - val_accuracy: 0.7267\n",
            "Epoch 18/200\n",
            "350/350 [==============================] - 143s 408ms/step - loss: 0.5522 - accuracy: 0.7182 - val_loss: 0.5199 - val_accuracy: 0.7362\n",
            "Epoch 19/200\n",
            "350/350 [==============================] - 140s 400ms/step - loss: 0.5598 - accuracy: 0.7043 - val_loss: 0.5298 - val_accuracy: 0.7305\n",
            "Epoch 20/200\n",
            "350/350 [==============================] - 142s 405ms/step - loss: 0.5839 - accuracy: 0.6950 - val_loss: 0.5911 - val_accuracy: 0.6951\n",
            "Epoch 21/200\n",
            "350/350 [==============================] - 143s 408ms/step - loss: 0.5895 - accuracy: 0.6888 - val_loss: 0.5095 - val_accuracy: 0.7458\n",
            "Epoch 22/200\n",
            "350/350 [==============================] - 142s 406ms/step - loss: 0.5774 - accuracy: 0.7027 - val_loss: 0.5340 - val_accuracy: 0.7242\n",
            "Epoch 23/200\n",
            "350/350 [==============================] - 143s 409ms/step - loss: 0.5715 - accuracy: 0.7024 - val_loss: 0.5314 - val_accuracy: 0.7342\n",
            "Epoch 24/200\n",
            "350/350 [==============================] - 146s 418ms/step - loss: 0.5529 - accuracy: 0.7140 - val_loss: 0.5049 - val_accuracy: 0.7542\n",
            "Epoch 00024: early stopping\n",
            "Fold 5, 200 epochs, 3739 sec\n"
          ],
          "name": "stdout"
        },
        {
          "output_type": "display_data",
          "data": {
            "image/png": "[encoded data removed]",
            "text/plain": [
              "<Figure size 576x360 with 1 Axes>"
            ]
          },
          "metadata": {
            "tags": [],
            "needs_background": "light"
          }
        },
        {
          "output_type": "stream",
          "text": [
            "accuracy: 83.75%\n",
            "\n",
            "5-way Cross Validation max 89.81%, mean 85.68% (+/- 3.54%)\n",
            "Done\n"
          ],
          "name": "stdout"
        }
      ]
    },
    {
      "cell_type": "code",
      "metadata": {
        "id": "p4fh2GI8beMQ"
      },
      "source": [
        ""
      ],
      "execution_count": 8,
      "outputs": []
    }
  ]
}