{
  "nbformat": 4,
  "nbformat_minor": 0,
  "metadata": {
    "accelerator": "GPU",
    "colab": {
      "name": "GRU_302.ipynb",
      "provenance": [],
      "collapsed_sections": []
    },
    "kernelspec": {
      "display_name": "Python 3",
      "language": "python",
      "name": "python3"
    },
    "language_info": {
      "codemirror_mode": {
        "name": "ipython",
        "version": 3
      },
      "file_extension": ".py",
      "mimetype": "text/x-python",
      "name": "python",
      "nbconvert_exporter": "python",
      "pygments_lexer": "ipython3",
      "version": "3.8.3"
    }
  },
  "cells": [
    {
      "cell_type": "markdown",
      "metadata": {
        "id": "ojm_6E9f9Kcf"
      },
      "source": [
        "# GRU 302\n",
        "Start with GRU 301 which did train on long, test on short.\n",
        "Here train on short, test on long."
      ]
    },
    {
      "cell_type": "code",
      "metadata": {
        "colab": {
          "base_uri": "https://localhost:8080/"
        },
        "id": "hh6XplUvC0j0",
        "outputId": "60ac8661-592d-4a19-e5cd-4e69b3aa3d48"
      },
      "source": [
        "TRAIN_NC_FILENAME='ncRNA.gc36.long.fasta'\n",
        "TRAIN_PC_FILENAME='pcRNA.gc36.long.fasta'\n",
        "VALID_NC_FILENAME='ncRNA.gc36.short.fasta'\n",
        "VALID_PC_FILENAME='pcRNA.gc36.short.fasta'\n",
        "#NC_FILENAME='ncRNA.tiny50.fasta'\n",
        "#PC_FILENAME='pcRNA.tiny50.fasta'\n",
        "#NC_FILENAME='ncRNA.gc34.processed.fasta'\n",
        "#PC_FILENAME='pcRNA.gc34.processed.fasta'\n",
        "\n",
        "MODEL_FILE='JUNK2'  # change this if you want to keep models\n",
        "DATAPATH=''\n",
        "\n",
        "try:\n",
        "    from google.colab import drive\n",
        "    IN_COLAB = True\n",
        "    PATH='/content/drive/'\n",
        "    drive.mount(PATH)\n",
        "    DATAPATH=PATH+'My Drive/data/'  # must end in \"/\"\n",
        "except:\n",
        "    IN_COLAB = False\n",
        "    DATAPATH='data/'  # must end in \"/\"\n",
        "TRAIN_NC_FILENAME = DATAPATH+TRAIN_NC_FILENAME\n",
        "TRAIN_PC_FILENAME = DATAPATH+TRAIN_PC_FILENAME\n",
        "VALID_NC_FILENAME = DATAPATH+VALID_NC_FILENAME\n",
        "VALID_PC_FILENAME = DATAPATH+VALID_PC_FILENAME\n",
        "MODEL_FILE=DATAPATH+MODEL_FILE\n",
        "\n",
        "EPOCHS=200\n",
        "SPLITS=5\n",
        "ONEHOT=5  \n",
        "NEURONS=64\n",
        "DROP=0.10\n",
        "ACT=\"tanh\"\n",
        "MINLEN=201\n",
        "MAXLEN=2000\n",
        "LIMIT=5588    # This is the size of our smallest set (protein coding short)"
      ],
      "execution_count": null,
      "outputs": [
        {
          "output_type": "stream",
          "text": [
            "Mounted at /content/drive/\n"
          ],
          "name": "stdout"
        }
      ]
    },
    {
      "cell_type": "code",
      "metadata": {
        "colab": {
          "base_uri": "https://localhost:8080/"
        },
        "id": "e9TY3HK9ZklE",
        "outputId": "acab313b-2968-441a-c9e4-92f69a0b657b"
      },
      "source": [
        "# Load our own tools\n",
        "# TO DO: don't go to GitHub if the file is already local.\n",
        "GITHUB = True\n",
        "if GITHUB:\n",
        "    #!pip install requests  # Uncomment this if necessary. Seems to be pre-installed.\n",
        "    import requests\n",
        "    r = requests.get('https://raw.githubusercontent.com/ShepherdCode/ShepherdML/master/Strings/tools_fasta.py')\n",
        "    with open('tools_fasta.py', 'w') as f:\n",
        "        f.write(r.text)\n",
        "    # TO DO: delete the file after import\n",
        "import tools_fasta as tools\n",
        "tools.yahoo()  # If this prints \"Yahoo!\" the the import was successful.\n",
        "\n",
        "TOOLS_CHANGED = False   # set to True to re-run with a new version of tools\n",
        "if TOOLS_CHANGED:\n",
        "  from importlib import reload \n",
        "  tools=reload(tools)\n",
        "  print(dir(tools))   # run this to see EVERYTHING in the tools module"
      ],
      "execution_count": null,
      "outputs": [
        {
          "output_type": "stream",
          "text": [
            "Yahoo!\n"
          ],
          "name": "stdout"
        }
      ]
    },
    {
      "cell_type": "code",
      "metadata": {
        "id": "VQY7aTj29Kch"
      },
      "source": [
        "import numpy as np\n",
        "import pandas as pd\n",
        "import matplotlib.pyplot as plt\n",
        "from sklearn.model_selection import ShuffleSplit\n",
        "from sklearn.model_selection import cross_val_score\n",
        "from sklearn.model_selection import RepeatedKFold\n",
        "from sklearn.model_selection import StratifiedKFold\n",
        "import tensorflow as tf\n",
        "from tensorflow import keras\n",
        "import time\n",
        "dt='float32'\n",
        "tf.keras.backend.set_floatx(dt)"
      ],
      "execution_count": null,
      "outputs": []
    },
    {
      "cell_type": "markdown",
      "metadata": {
        "id": "j7jcg6Wl9Kc2"
      },
      "source": [
        "Build model"
      ]
    },
    {
      "cell_type": "code",
      "metadata": {
        "id": "qLFNO1Xa9Kc3"
      },
      "source": [
        "def compile_model(model):\n",
        "    ## learn rate = initial_learning_rate * decay_rate ^ (step / decay_steps)\n",
        "    #adam_default_learn_rate = 0.001\n",
        "    #schedule = tf.keras.optimizers.schedules.ExponentialDecay(\n",
        "    #    initial_learning_rate = adam_default_learn_rate*10,\n",
        "    #    decay_steps=10000, decay_rate=0.99, staircase=True)\n",
        "    #alrd = tf.keras.optimizers.Adam(learning_rate=schedule)\n",
        "    #model.compile(loss=bc, optimizer=alrd, metrics=[\"accuracy\"])\n",
        "\n",
        "    print(\"COMPILE...\")\n",
        "    bc=tf.keras.losses.BinaryCrossentropy(from_logits=False)\n",
        "    model.compile(loss=bc, optimizer=\"adam\", metrics=[\"accuracy\"])\n",
        "    print(\"...COMPILED\")\n",
        "    return model\n",
        "\n",
        "def build_model():\n",
        "    MASK=[0,0,0,0,1] # to do: get one_hot('N') from the one_hot() function.\n",
        "    mask_layer = keras.layers.Masking(mask_value=MASK, input_shape=[MAXLEN,ONEHOT])\n",
        "    rlayer1 = keras.layers.GRU(NEURONS, return_sequences=True, \n",
        "        activation=ACT, dropout=DROP )  \n",
        "    rlayer2 = keras.layers.GRU(NEURONS, return_sequences=True, \n",
        "        activation=ACT, dropout=DROP) \n",
        "    rlayer3 = keras.layers.GRU(NEURONS, return_sequences=True, \n",
        "        activation=ACT, dropout=DROP) \n",
        "    rlayer4 = keras.layers.GRU(NEURONS, return_sequences=False, \n",
        "        activation=ACT, dropout=DROP) \n",
        "\n",
        "    dlayer1 = keras.layers.Dense(NEURONS, activation=ACT,dtype=dt)\n",
        "    dlayer2 = keras.layers.Dropout(DROP)\n",
        "    dlayer3 = keras.layers.Dense(NEURONS, activation=ACT,dtype=dt)\n",
        "    dlayer4 = keras.layers.Dropout(DROP)\n",
        "    output_layer = keras.layers.Dense(1, activation=\"sigmoid\", dtype=dt)\n",
        "\n",
        "    rnn = keras.models.Sequential()\n",
        "    rnn.add(mask_layer)\n",
        "    rnn.add(rlayer1)\n",
        "    rnn.add(rlayer2)\n",
        "    rnn.add(rlayer3)\n",
        "    rnn.add(rlayer4)\n",
        "    rnn.add(dlayer1)\n",
        "    rnn.add(dlayer2)\n",
        "    rnn.add(dlayer3)\n",
        "    rnn.add(dlayer4)\n",
        "    rnn.add(output_layer)\n",
        "    compiled = compile_model(rnn)\n",
        "    return compiled"
      ],
      "execution_count": null,
      "outputs": []
    },
    {
      "cell_type": "markdown",
      "metadata": {
        "id": "LdIS2utq9Kc9"
      },
      "source": [
        "Cross validation"
      ]
    },
    {
      "cell_type": "code",
      "metadata": {
        "id": "BVo4tbB_9Kc-"
      },
      "source": [
        "def do_cross_validation(X_train,y_train,given_model,X_valid,y_valid):\n",
        "    cv_scores = []\n",
        "    fold=0\n",
        "    # When not using ShuffleSplit, make sure to randomize train data.\n",
        "    #splitter = ShuffleSplit(n_splits=SPLITS, test_size=0.1, random_state=37863)\n",
        "    #for train_index,valid_index in splitter.split(X):\n",
        "    while fold < SPLITS:\n",
        "        fold += 1\n",
        "        # Avoid continually improving the same model.\n",
        "        model = compile_model(keras.models.clone_model(given_model))\n",
        "        bestname=MODEL_FILE+\".cv.\"+str(fold)+\".best\"\n",
        "        es = keras.callbacks.EarlyStopping(monitor='val_loss',  \n",
        "            patience=10, verbose=1)\n",
        "        mc = keras.callbacks.ModelCheckpoint(\n",
        "            filepath=bestname, save_best_only=True, \n",
        "            monitor='val_accuracy', mode='max')  \n",
        "        mycallbacks = [es,mc]  \n",
        "        print(\"FIT\")\n",
        "        start_time=time.time()\n",
        "        history=model.fit(X_train, y_train, # batch_size=10, default=32 works nicely\n",
        "                epochs=EPOCHS, verbose=1,  # verbose=1 for ascii art, verbose=0 for none\n",
        "                callbacks=mycallbacks, shuffle=True,\n",
        "                validation_data=(X_valid,y_valid) )\n",
        "        end_time=time.time()\n",
        "        elapsed_time=(end_time-start_time)                        \n",
        "        print(\"Fold %d, %d epochs, %d sec\"%(fold,EPOCHS,elapsed_time))\n",
        "        pd.DataFrame(history.history).plot(figsize=(8,5))\n",
        "        plt.grid(True)\n",
        "        plt.gca().set_ylim(0,1)\n",
        "        plt.show()\n",
        "        best_model=keras.models.load_model(bestname)\n",
        "        scores = best_model.evaluate(X_valid, y_valid, verbose=0)\n",
        "        print(\"%s: %.2f%%\" % (best_model.metrics_names[1], scores[1]*100))\n",
        "        cv_scores.append(scores[1] * 100)  \n",
        "\n",
        "    print()\n",
        "    print(\"%d-way Cross Validation max %.2f%%, mean %.2f%% (+/- %.2f%%)\" % \n",
        "          (fold, np.amax(cv_scores), np.mean(cv_scores), np.std(cv_scores)))"
      ],
      "execution_count": null,
      "outputs": []
    },
    {
      "cell_type": "markdown",
      "metadata": {
        "id": "qd3Wj_vI9KdP"
      },
      "source": [
        "## Train on RNA lengths 200-1Kb"
      ]
    },
    {
      "cell_type": "code",
      "metadata": {
        "colab": {
          "base_uri": "https://localhost:8080/"
        },
        "id": "G1HuSs8ZbeL4",
        "outputId": "393dff00-b34d-4a81-921b-b216e0412cbe"
      },
      "source": [
        "print (\"Compile the model\")\n",
        "model=build_model()\n",
        "print (\"Summarize the model\")\n",
        "print(model.summary())  # Print this only once\n",
        "#model.save(MODEL_FILE+'.model')\n"
      ],
      "execution_count": null,
      "outputs": [
        {
          "output_type": "stream",
          "text": [
            "Compile the model\n",
            "COMPILE...\n",
            "...COMPILED\n",
            "Summarize the model\n",
            "Model: \"sequential\"\n",
            "_________________________________________________________________\n",
            "Layer (type)                 Output Shape              Param #   \n",
            "=================================================================\n",
            "masking (Masking)            (None, 2000, 5)           0         \n",
            "_________________________________________________________________\n",
            "gru (GRU)                    (None, 2000, 64)          13632     \n",
            "_________________________________________________________________\n",
            "gru_1 (GRU)                  (None, 2000, 64)          24960     \n",
            "_________________________________________________________________\n",
            "gru_2 (GRU)                  (None, 2000, 64)          24960     \n",
            "_________________________________________________________________\n",
            "gru_3 (GRU)                  (None, 64)                24960     \n",
            "_________________________________________________________________\n",
            "dense (Dense)                (None, 64)                4160      \n",
            "_________________________________________________________________\n",
            "dropout (Dropout)            (None, 64)                0         \n",
            "_________________________________________________________________\n",
            "dense_1 (Dense)              (None, 64)                4160      \n",
            "_________________________________________________________________\n",
            "dropout_1 (Dropout)          (None, 64)                0         \n",
            "_________________________________________________________________\n",
            "dense_2 (Dense)              (None, 1)                 65        \n",
            "=================================================================\n",
            "Total params: 96,897\n",
            "Trainable params: 96,897\n",
            "Non-trainable params: 0\n",
            "_________________________________________________________________\n",
            "None\n"
          ],
          "name": "stdout"
        }
      ]
    },
    {
      "cell_type": "code",
      "metadata": {
        "colab": {
          "base_uri": "https://localhost:8080/"
        },
        "id": "f8fNo6sn9KdH",
        "outputId": "0df2d478-bf14-4749-9d76-da599a1936f7"
      },
      "source": [
        "def load_data(nc_filename,pc_filename,limit=None):\n",
        "  nc_seq=tools.load_fasta(nc_filename,0)\n",
        "  pc_seq=tools.load_fasta(pc_filename,1)\n",
        "  if limit is not None:\n",
        "    # Choose a random subset of size = limit.\n",
        "    # Side effect: randomizes the data order.\n",
        "    nfrac=1.0*limit/len(nc_seq)\n",
        "    pfrac=1.0*limit/len(pc_seq)\n",
        "    if nfrac<1.0:\n",
        "      nc_seq=nc_seq.sample(frac=nfrac)\n",
        "    if pfrac<1.0:\n",
        "      pc_seq=pc_seq.sample(frac=pfrac)\n",
        "  train_set=pd.concat((nc_seq,pc_seq),axis=0)\n",
        "  # May not need to slice by length if input files already sliced\n",
        "  subset=tools.make_slice(train_set,MINLEN,MAXLEN)\n",
        "  # randset=subset.sample(frac=1) # unneccessary with fit(shuffle)\n",
        "  (X1,y1)=tools.separate_X_and_y(subset)\n",
        "  # X1 is pandas df of (\"list\" of one sequence)\n",
        "  X2=X1.to_numpy()  # numpy ndarray of (\"list\" of one sequence)\n",
        "  X3=[elem[0] for elem in X2]  # numpy dnarray of str\n",
        "  X4=tools.uniform_length(X3,MAXLEN)\n",
        "  X5= [tools.one_hot(x) for x in X4]  \n",
        "  # one-hot leaves ONEHOT=5. TO DO: set 5 automatically\n",
        "  X6=np.asarray(X5)\n",
        "  y6=y1.to_numpy()\n",
        "  return X6,y6\n",
        "\n",
        "print(\"Load train data from files.\")\n",
        "X_train,y_train = load_data(TRAIN_NC_FILENAME,TRAIN_PC_FILENAME,LIMIT)\n",
        "print(\"X_train\",X_train.shape)\n",
        "print(X_train[1])\n",
        "print(\"Load valid data from files.\")\n",
        "X_valid,y_valid = load_data(VALID_NC_FILENAME,VALID_PC_FILENAME,LIMIT)\n",
        "print(\"X_valid\",X_valid.shape)"
      ],
      "execution_count": null,
      "outputs": [
        {
          "output_type": "stream",
          "text": [
            "Load train data from files.\n",
            "X_train (11176, 2000, 5)\n",
            "[[0 1 0 0 0]\n",
            " [1 0 0 0 0]\n",
            " [0 0 1 0 0]\n",
            " ...\n",
            " [0 0 0 0 1]\n",
            " [0 0 0 0 1]\n",
            " [0 0 0 0 1]]\n",
            "Load valid data from files.\n",
            "X_valid (11176, 2000, 5)\n"
          ],
          "name": "stdout"
        }
      ]
    },
    {
      "cell_type": "code",
      "metadata": {
        "colab": {
          "base_uri": "https://localhost:8080/",
          "height": 1000
        },
        "id": "mQ8eW5Rg9KdQ",
        "outputId": "21b85149-ba9d-4c20-a3de-194c061910b4"
      },
      "source": [
        "print (\"Cross valiation\")\n",
        "do_cross_validation(X_train,y_train,model,X_valid,y_valid)  \n",
        "print (\"Done\")"
      ],
      "execution_count": null,
      "outputs": [
        {
          "output_type": "stream",
          "text": [
            "Cross valiation\n",
            "COMPILE...\n",
            "...COMPILED\n",
            "FIT\n",
            "Epoch 1/200\n",
            "350/350 [==============================] - 142s 354ms/step - loss: 0.6935 - accuracy: 0.5085 - val_loss: 0.6879 - val_accuracy: 0.5410\n"
          ],
          "name": "stdout"
        },
        {
          "output_type": "stream",
          "text": [
            "WARNING:absl:Found untraced functions such as gru_cell_4_layer_call_and_return_conditional_losses, gru_cell_4_layer_call_fn, gru_cell_5_layer_call_and_return_conditional_losses, gru_cell_5_layer_call_fn, gru_cell_6_layer_call_and_return_conditional_losses while saving (showing 5 of 20). These functions will not be directly callable after loading.\n",
            "WARNING:absl:Found untraced functions such as gru_cell_4_layer_call_and_return_conditional_losses, gru_cell_4_layer_call_fn, gru_cell_5_layer_call_and_return_conditional_losses, gru_cell_5_layer_call_fn, gru_cell_6_layer_call_and_return_conditional_losses while saving (showing 5 of 20). These functions will not be directly callable after loading.\n"
          ],
          "name": "stderr"
        },
        {
          "output_type": "stream",
          "text": [
            "INFO:tensorflow:Assets written to: /content/drive/My Drive/data/JUNK2.cv.1.best/assets\n"
          ],
          "name": "stdout"
        },
        {
          "output_type": "stream",
          "text": [
            "INFO:tensorflow:Assets written to: /content/drive/My Drive/data/JUNK2.cv.1.best/assets\n"
          ],
          "name": "stderr"
        },
        {
          "output_type": "stream",
          "text": [
            "Epoch 2/200\n",
            "350/350 [==============================] - 121s 345ms/step - loss: 0.6909 - accuracy: 0.5358 - val_loss: 0.6840 - val_accuracy: 0.5522\n"
          ],
          "name": "stdout"
        },
        {
          "output_type": "stream",
          "text": [
            "WARNING:absl:Found untraced functions such as gru_cell_4_layer_call_and_return_conditional_losses, gru_cell_4_layer_call_fn, gru_cell_5_layer_call_and_return_conditional_losses, gru_cell_5_layer_call_fn, gru_cell_6_layer_call_and_return_conditional_losses while saving (showing 5 of 20). These functions will not be directly callable after loading.\n",
            "WARNING:absl:Found untraced functions such as gru_cell_4_layer_call_and_return_conditional_losses, gru_cell_4_layer_call_fn, gru_cell_5_layer_call_and_return_conditional_losses, gru_cell_5_layer_call_fn, gru_cell_6_layer_call_and_return_conditional_losses while saving (showing 5 of 20). These functions will not be directly callable after loading.\n"
          ],
          "name": "stderr"
        },
        {
          "output_type": "stream",
          "text": [
            "INFO:tensorflow:Assets written to: /content/drive/My Drive/data/JUNK2.cv.1.best/assets\n"
          ],
          "name": "stdout"
        },
        {
          "output_type": "stream",
          "text": [
            "INFO:tensorflow:Assets written to: /content/drive/My Drive/data/JUNK2.cv.1.best/assets\n"
          ],
          "name": "stderr"
        },
        {
          "output_type": "stream",
          "text": [
            "Epoch 3/200\n",
            "350/350 [==============================] - 123s 352ms/step - loss: 0.6824 - accuracy: 0.5587 - val_loss: 0.6863 - val_accuracy: 0.5429\n",
            "Epoch 4/200\n",
            "350/350 [==============================] - 122s 350ms/step - loss: 0.6796 - accuracy: 0.5674 - val_loss: 0.6880 - val_accuracy: 0.5439\n",
            "Epoch 5/200\n",
            "350/350 [==============================] - 123s 351ms/step - loss: 0.6767 - accuracy: 0.5769 - val_loss: 0.7210 - val_accuracy: 0.5272\n",
            "Epoch 6/200\n",
            "350/350 [==============================] - 124s 353ms/step - loss: 0.6761 - accuracy: 0.5782 - val_loss: 0.6868 - val_accuracy: 0.5527\n"
          ],
          "name": "stdout"
        },
        {
          "output_type": "stream",
          "text": [
            "WARNING:absl:Found untraced functions such as gru_cell_4_layer_call_and_return_conditional_losses, gru_cell_4_layer_call_fn, gru_cell_5_layer_call_and_return_conditional_losses, gru_cell_5_layer_call_fn, gru_cell_6_layer_call_and_return_conditional_losses while saving (showing 5 of 20). These functions will not be directly callable after loading.\n",
            "WARNING:absl:Found untraced functions such as gru_cell_4_layer_call_and_return_conditional_losses, gru_cell_4_layer_call_fn, gru_cell_5_layer_call_and_return_conditional_losses, gru_cell_5_layer_call_fn, gru_cell_6_layer_call_and_return_conditional_losses while saving (showing 5 of 20). These functions will not be directly callable after loading.\n"
          ],
          "name": "stderr"
        },
        {
          "output_type": "stream",
          "text": [
            "INFO:tensorflow:Assets written to: /content/drive/My Drive/data/JUNK2.cv.1.best/assets\n"
          ],
          "name": "stdout"
        },
        {
          "output_type": "stream",
          "text": [
            "INFO:tensorflow:Assets written to: /content/drive/My Drive/data/JUNK2.cv.1.best/assets\n"
          ],
          "name": "stderr"
        },
        {
          "output_type": "stream",
          "text": [
            "Epoch 7/200\n",
            "350/350 [==============================] - 124s 353ms/step - loss: 0.6688 - accuracy: 0.5951 - val_loss: 0.6859 - val_accuracy: 0.5470\n",
            "Epoch 8/200\n",
            "350/350 [==============================] - 123s 353ms/step - loss: 0.6660 - accuracy: 0.5980 - val_loss: 0.6858 - val_accuracy: 0.5531\n"
          ],
          "name": "stdout"
        },
        {
          "output_type": "stream",
          "text": [
            "WARNING:absl:Found untraced functions such as gru_cell_4_layer_call_and_return_conditional_losses, gru_cell_4_layer_call_fn, gru_cell_5_layer_call_and_return_conditional_losses, gru_cell_5_layer_call_fn, gru_cell_6_layer_call_and_return_conditional_losses while saving (showing 5 of 20). These functions will not be directly callable after loading.\n",
            "WARNING:absl:Found untraced functions such as gru_cell_4_layer_call_and_return_conditional_losses, gru_cell_4_layer_call_fn, gru_cell_5_layer_call_and_return_conditional_losses, gru_cell_5_layer_call_fn, gru_cell_6_layer_call_and_return_conditional_losses while saving (showing 5 of 20). These functions will not be directly callable after loading.\n"
          ],
          "name": "stderr"
        },
        {
          "output_type": "stream",
          "text": [
            "INFO:tensorflow:Assets written to: /content/drive/My Drive/data/JUNK2.cv.1.best/assets\n"
          ],
          "name": "stdout"
        },
        {
          "output_type": "stream",
          "text": [
            "INFO:tensorflow:Assets written to: /content/drive/My Drive/data/JUNK2.cv.1.best/assets\n"
          ],
          "name": "stderr"
        },
        {
          "output_type": "stream",
          "text": [
            "Epoch 9/200\n",
            "350/350 [==============================] - 123s 352ms/step - loss: 0.6672 - accuracy: 0.5974 - val_loss: 0.6826 - val_accuracy: 0.5545\n"
          ],
          "name": "stdout"
        },
        {
          "output_type": "stream",
          "text": [
            "WARNING:absl:Found untraced functions such as gru_cell_4_layer_call_and_return_conditional_losses, gru_cell_4_layer_call_fn, gru_cell_5_layer_call_and_return_conditional_losses, gru_cell_5_layer_call_fn, gru_cell_6_layer_call_and_return_conditional_losses while saving (showing 5 of 20). These functions will not be directly callable after loading.\n",
            "WARNING:absl:Found untraced functions such as gru_cell_4_layer_call_and_return_conditional_losses, gru_cell_4_layer_call_fn, gru_cell_5_layer_call_and_return_conditional_losses, gru_cell_5_layer_call_fn, gru_cell_6_layer_call_and_return_conditional_losses while saving (showing 5 of 20). These functions will not be directly callable after loading.\n"
          ],
          "name": "stderr"
        },
        {
          "output_type": "stream",
          "text": [
            "INFO:tensorflow:Assets written to: /content/drive/My Drive/data/JUNK2.cv.1.best/assets\n"
          ],
          "name": "stdout"
        },
        {
          "output_type": "stream",
          "text": [
            "INFO:tensorflow:Assets written to: /content/drive/My Drive/data/JUNK2.cv.1.best/assets\n"
          ],
          "name": "stderr"
        },
        {
          "output_type": "stream",
          "text": [
            "Epoch 10/200\n",
            "350/350 [==============================] - 122s 349ms/step - loss: 0.6606 - accuracy: 0.6089 - val_loss: 0.6812 - val_accuracy: 0.5605\n"
          ],
          "name": "stdout"
        },
        {
          "output_type": "stream",
          "text": [
            "WARNING:absl:Found untraced functions such as gru_cell_4_layer_call_and_return_conditional_losses, gru_cell_4_layer_call_fn, gru_cell_5_layer_call_and_return_conditional_losses, gru_cell_5_layer_call_fn, gru_cell_6_layer_call_and_return_conditional_losses while saving (showing 5 of 20). These functions will not be directly callable after loading.\n",
            "WARNING:absl:Found untraced functions such as gru_cell_4_layer_call_and_return_conditional_losses, gru_cell_4_layer_call_fn, gru_cell_5_layer_call_and_return_conditional_losses, gru_cell_5_layer_call_fn, gru_cell_6_layer_call_and_return_conditional_losses while saving (showing 5 of 20). These functions will not be directly callable after loading.\n"
          ],
          "name": "stderr"
        },
        {
          "output_type": "stream",
          "text": [
            "INFO:tensorflow:Assets written to: /content/drive/My Drive/data/JUNK2.cv.1.best/assets\n"
          ],
          "name": "stdout"
        },
        {
          "output_type": "stream",
          "text": [
            "INFO:tensorflow:Assets written to: /content/drive/My Drive/data/JUNK2.cv.1.best/assets\n"
          ],
          "name": "stderr"
        },
        {
          "output_type": "stream",
          "text": [
            "Epoch 11/200\n",
            "350/350 [==============================] - 122s 349ms/step - loss: 0.6552 - accuracy: 0.6140 - val_loss: 0.6895 - val_accuracy: 0.5586\n",
            "Epoch 12/200\n",
            "350/350 [==============================] - 122s 349ms/step - loss: 0.6695 - accuracy: 0.5837 - val_loss: 0.6827 - val_accuracy: 0.5654\n"
          ],
          "name": "stdout"
        },
        {
          "output_type": "stream",
          "text": [
            "WARNING:absl:Found untraced functions such as gru_cell_4_layer_call_and_return_conditional_losses, gru_cell_4_layer_call_fn, gru_cell_5_layer_call_and_return_conditional_losses, gru_cell_5_layer_call_fn, gru_cell_6_layer_call_and_return_conditional_losses while saving (showing 5 of 20). These functions will not be directly callable after loading.\n",
            "WARNING:absl:Found untraced functions such as gru_cell_4_layer_call_and_return_conditional_losses, gru_cell_4_layer_call_fn, gru_cell_5_layer_call_and_return_conditional_losses, gru_cell_5_layer_call_fn, gru_cell_6_layer_call_and_return_conditional_losses while saving (showing 5 of 20). These functions will not be directly callable after loading.\n"
          ],
          "name": "stderr"
        },
        {
          "output_type": "stream",
          "text": [
            "INFO:tensorflow:Assets written to: /content/drive/My Drive/data/JUNK2.cv.1.best/assets\n"
          ],
          "name": "stdout"
        },
        {
          "output_type": "stream",
          "text": [
            "INFO:tensorflow:Assets written to: /content/drive/My Drive/data/JUNK2.cv.1.best/assets\n"
          ],
          "name": "stderr"
        },
        {
          "output_type": "stream",
          "text": [
            "Epoch 13/200\n",
            "350/350 [==============================] - 122s 348ms/step - loss: 0.6539 - accuracy: 0.6158 - val_loss: 0.6788 - val_accuracy: 0.5795\n"
          ],
          "name": "stdout"
        },
        {
          "output_type": "stream",
          "text": [
            "WARNING:absl:Found untraced functions such as gru_cell_4_layer_call_and_return_conditional_losses, gru_cell_4_layer_call_fn, gru_cell_5_layer_call_and_return_conditional_losses, gru_cell_5_layer_call_fn, gru_cell_6_layer_call_and_return_conditional_losses while saving (showing 5 of 20). These functions will not be directly callable after loading.\n",
            "WARNING:absl:Found untraced functions such as gru_cell_4_layer_call_and_return_conditional_losses, gru_cell_4_layer_call_fn, gru_cell_5_layer_call_and_return_conditional_losses, gru_cell_5_layer_call_fn, gru_cell_6_layer_call_and_return_conditional_losses while saving (showing 5 of 20). These functions will not be directly callable after loading.\n"
          ],
          "name": "stderr"
        },
        {
          "output_type": "stream",
          "text": [
            "INFO:tensorflow:Assets written to: /content/drive/My Drive/data/JUNK2.cv.1.best/assets\n"
          ],
          "name": "stdout"
        },
        {
          "output_type": "stream",
          "text": [
            "INFO:tensorflow:Assets written to: /content/drive/My Drive/data/JUNK2.cv.1.best/assets\n"
          ],
          "name": "stderr"
        },
        {
          "output_type": "stream",
          "text": [
            "Epoch 14/200\n",
            "350/350 [==============================] - 123s 351ms/step - loss: 0.6490 - accuracy: 0.6183 - val_loss: 0.6941 - val_accuracy: 0.5459\n",
            "Epoch 15/200\n",
            "350/350 [==============================] - 123s 352ms/step - loss: 0.6568 - accuracy: 0.5993 - val_loss: 0.6258 - val_accuracy: 0.6477\n"
          ],
          "name": "stdout"
        },
        {
          "output_type": "stream",
          "text": [
            "WARNING:absl:Found untraced functions such as gru_cell_4_layer_call_and_return_conditional_losses, gru_cell_4_layer_call_fn, gru_cell_5_layer_call_and_return_conditional_losses, gru_cell_5_layer_call_fn, gru_cell_6_layer_call_and_return_conditional_losses while saving (showing 5 of 20). These functions will not be directly callable after loading.\n",
            "WARNING:absl:Found untraced functions such as gru_cell_4_layer_call_and_return_conditional_losses, gru_cell_4_layer_call_fn, gru_cell_5_layer_call_and_return_conditional_losses, gru_cell_5_layer_call_fn, gru_cell_6_layer_call_and_return_conditional_losses while saving (showing 5 of 20). These functions will not be directly callable after loading.\n"
          ],
          "name": "stderr"
        },
        {
          "output_type": "stream",
          "text": [
            "INFO:tensorflow:Assets written to: /content/drive/My Drive/data/JUNK2.cv.1.best/assets\n"
          ],
          "name": "stdout"
        },
        {
          "output_type": "stream",
          "text": [
            "INFO:tensorflow:Assets written to: /content/drive/My Drive/data/JUNK2.cv.1.best/assets\n"
          ],
          "name": "stderr"
        },
        {
          "output_type": "stream",
          "text": [
            "Epoch 16/200\n",
            "350/350 [==============================] - 123s 352ms/step - loss: 0.6209 - accuracy: 0.6531 - val_loss: 0.6829 - val_accuracy: 0.5596\n",
            "Epoch 17/200\n",
            "350/350 [==============================] - 122s 350ms/step - loss: 0.6574 - accuracy: 0.6020 - val_loss: 0.6856 - val_accuracy: 0.5561\n",
            "Epoch 18/200\n",
            "350/350 [==============================] - 124s 354ms/step - loss: 0.6503 - accuracy: 0.6238 - val_loss: 0.6785 - val_accuracy: 0.5821\n",
            "Epoch 19/200\n",
            "350/350 [==============================] - 122s 350ms/step - loss: 0.6486 - accuracy: 0.6209 - val_loss: 0.6809 - val_accuracy: 0.5781\n",
            "Epoch 20/200\n",
            "350/350 [==============================] - 127s 362ms/step - loss: 0.6386 - accuracy: 0.6270 - val_loss: 0.6326 - val_accuracy: 0.6688\n"
          ],
          "name": "stdout"
        },
        {
          "output_type": "stream",
          "text": [
            "WARNING:absl:Found untraced functions such as gru_cell_4_layer_call_and_return_conditional_losses, gru_cell_4_layer_call_fn, gru_cell_5_layer_call_and_return_conditional_losses, gru_cell_5_layer_call_fn, gru_cell_6_layer_call_and_return_conditional_losses while saving (showing 5 of 20). These functions will not be directly callable after loading.\n",
            "WARNING:absl:Found untraced functions such as gru_cell_4_layer_call_and_return_conditional_losses, gru_cell_4_layer_call_fn, gru_cell_5_layer_call_and_return_conditional_losses, gru_cell_5_layer_call_fn, gru_cell_6_layer_call_and_return_conditional_losses while saving (showing 5 of 20). These functions will not be directly callable after loading.\n"
          ],
          "name": "stderr"
        },
        {
          "output_type": "stream",
          "text": [
            "INFO:tensorflow:Assets written to: /content/drive/My Drive/data/JUNK2.cv.1.best/assets\n"
          ],
          "name": "stdout"
        },
        {
          "output_type": "stream",
          "text": [
            "INFO:tensorflow:Assets written to: /content/drive/My Drive/data/JUNK2.cv.1.best/assets\n"
          ],
          "name": "stderr"
        },
        {
          "output_type": "stream",
          "text": [
            "Epoch 21/200\n",
            "350/350 [==============================] - 127s 364ms/step - loss: 0.4884 - accuracy: 0.7711 - val_loss: 0.5906 - val_accuracy: 0.7192\n"
          ],
          "name": "stdout"
        },
        {
          "output_type": "stream",
          "text": [
            "WARNING:absl:Found untraced functions such as gru_cell_4_layer_call_and_return_conditional_losses, gru_cell_4_layer_call_fn, gru_cell_5_layer_call_and_return_conditional_losses, gru_cell_5_layer_call_fn, gru_cell_6_layer_call_and_return_conditional_losses while saving (showing 5 of 20). These functions will not be directly callable after loading.\n",
            "WARNING:absl:Found untraced functions such as gru_cell_4_layer_call_and_return_conditional_losses, gru_cell_4_layer_call_fn, gru_cell_5_layer_call_and_return_conditional_losses, gru_cell_5_layer_call_fn, gru_cell_6_layer_call_and_return_conditional_losses while saving (showing 5 of 20). These functions will not be directly callable after loading.\n"
          ],
          "name": "stderr"
        },
        {
          "output_type": "stream",
          "text": [
            "INFO:tensorflow:Assets written to: /content/drive/My Drive/data/JUNK2.cv.1.best/assets\n"
          ],
          "name": "stdout"
        },
        {
          "output_type": "stream",
          "text": [
            "INFO:tensorflow:Assets written to: /content/drive/My Drive/data/JUNK2.cv.1.best/assets\n"
          ],
          "name": "stderr"
        },
        {
          "output_type": "stream",
          "text": [
            "Epoch 22/200\n",
            "350/350 [==============================] - 129s 368ms/step - loss: 0.4293 - accuracy: 0.8072 - val_loss: 0.5867 - val_accuracy: 0.7560\n"
          ],
          "name": "stdout"
        },
        {
          "output_type": "stream",
          "text": [
            "WARNING:absl:Found untraced functions such as gru_cell_4_layer_call_and_return_conditional_losses, gru_cell_4_layer_call_fn, gru_cell_5_layer_call_and_return_conditional_losses, gru_cell_5_layer_call_fn, gru_cell_6_layer_call_and_return_conditional_losses while saving (showing 5 of 20). These functions will not be directly callable after loading.\n",
            "WARNING:absl:Found untraced functions such as gru_cell_4_layer_call_and_return_conditional_losses, gru_cell_4_layer_call_fn, gru_cell_5_layer_call_and_return_conditional_losses, gru_cell_5_layer_call_fn, gru_cell_6_layer_call_and_return_conditional_losses while saving (showing 5 of 20). These functions will not be directly callable after loading.\n"
          ],
          "name": "stderr"
        },
        {
          "output_type": "stream",
          "text": [
            "INFO:tensorflow:Assets written to: /content/drive/My Drive/data/JUNK2.cv.1.best/assets\n"
          ],
          "name": "stdout"
        },
        {
          "output_type": "stream",
          "text": [
            "INFO:tensorflow:Assets written to: /content/drive/My Drive/data/JUNK2.cv.1.best/assets\n"
          ],
          "name": "stderr"
        },
        {
          "output_type": "stream",
          "text": [
            "Epoch 23/200\n",
            "350/350 [==============================] - 126s 361ms/step - loss: 0.3939 - accuracy: 0.8278 - val_loss: 0.5096 - val_accuracy: 0.7714\n"
          ],
          "name": "stdout"
        },
        {
          "output_type": "stream",
          "text": [
            "WARNING:absl:Found untraced functions such as gru_cell_4_layer_call_and_return_conditional_losses, gru_cell_4_layer_call_fn, gru_cell_5_layer_call_and_return_conditional_losses, gru_cell_5_layer_call_fn, gru_cell_6_layer_call_and_return_conditional_losses while saving (showing 5 of 20). These functions will not be directly callable after loading.\n",
            "WARNING:absl:Found untraced functions such as gru_cell_4_layer_call_and_return_conditional_losses, gru_cell_4_layer_call_fn, gru_cell_5_layer_call_and_return_conditional_losses, gru_cell_5_layer_call_fn, gru_cell_6_layer_call_and_return_conditional_losses while saving (showing 5 of 20). These functions will not be directly callable after loading.\n"
          ],
          "name": "stderr"
        },
        {
          "output_type": "stream",
          "text": [
            "INFO:tensorflow:Assets written to: /content/drive/My Drive/data/JUNK2.cv.1.best/assets\n"
          ],
          "name": "stdout"
        },
        {
          "output_type": "stream",
          "text": [
            "INFO:tensorflow:Assets written to: /content/drive/My Drive/data/JUNK2.cv.1.best/assets\n"
          ],
          "name": "stderr"
        },
        {
          "output_type": "stream",
          "text": [
            "Epoch 24/200\n",
            "350/350 [==============================] - 126s 361ms/step - loss: 0.3544 - accuracy: 0.8449 - val_loss: 0.4607 - val_accuracy: 0.8100\n"
          ],
          "name": "stdout"
        },
        {
          "output_type": "stream",
          "text": [
            "WARNING:absl:Found untraced functions such as gru_cell_4_layer_call_and_return_conditional_losses, gru_cell_4_layer_call_fn, gru_cell_5_layer_call_and_return_conditional_losses, gru_cell_5_layer_call_fn, gru_cell_6_layer_call_and_return_conditional_losses while saving (showing 5 of 20). These functions will not be directly callable after loading.\n",
            "WARNING:absl:Found untraced functions such as gru_cell_4_layer_call_and_return_conditional_losses, gru_cell_4_layer_call_fn, gru_cell_5_layer_call_and_return_conditional_losses, gru_cell_5_layer_call_fn, gru_cell_6_layer_call_and_return_conditional_losses while saving (showing 5 of 20). These functions will not be directly callable after loading.\n"
          ],
          "name": "stderr"
        },
        {
          "output_type": "stream",
          "text": [
            "INFO:tensorflow:Assets written to: /content/drive/My Drive/data/JUNK2.cv.1.best/assets\n"
          ],
          "name": "stdout"
        },
        {
          "output_type": "stream",
          "text": [
            "INFO:tensorflow:Assets written to: /content/drive/My Drive/data/JUNK2.cv.1.best/assets\n"
          ],
          "name": "stderr"
        },
        {
          "output_type": "stream",
          "text": [
            "Epoch 25/200\n",
            "350/350 [==============================] - 125s 356ms/step - loss: 0.3306 - accuracy: 0.8538 - val_loss: 0.4510 - val_accuracy: 0.8159\n"
          ],
          "name": "stdout"
        },
        {
          "output_type": "stream",
          "text": [
            "WARNING:absl:Found untraced functions such as gru_cell_4_layer_call_and_return_conditional_losses, gru_cell_4_layer_call_fn, gru_cell_5_layer_call_and_return_conditional_losses, gru_cell_5_layer_call_fn, gru_cell_6_layer_call_and_return_conditional_losses while saving (showing 5 of 20). These functions will not be directly callable after loading.\n",
            "WARNING:absl:Found untraced functions such as gru_cell_4_layer_call_and_return_conditional_losses, gru_cell_4_layer_call_fn, gru_cell_5_layer_call_and_return_conditional_losses, gru_cell_5_layer_call_fn, gru_cell_6_layer_call_and_return_conditional_losses while saving (showing 5 of 20). These functions will not be directly callable after loading.\n"
          ],
          "name": "stderr"
        },
        {
          "output_type": "stream",
          "text": [
            "INFO:tensorflow:Assets written to: /content/drive/My Drive/data/JUNK2.cv.1.best/assets\n"
          ],
          "name": "stdout"
        },
        {
          "output_type": "stream",
          "text": [
            "INFO:tensorflow:Assets written to: /content/drive/My Drive/data/JUNK2.cv.1.best/assets\n"
          ],
          "name": "stderr"
        },
        {
          "output_type": "stream",
          "text": [
            "Epoch 26/200\n",
            "350/350 [==============================] - 125s 359ms/step - loss: 0.3064 - accuracy: 0.8712 - val_loss: 0.4322 - val_accuracy: 0.8132\n",
            "Epoch 27/200\n",
            "350/350 [==============================] - 128s 365ms/step - loss: 0.3221 - accuracy: 0.8613 - val_loss: 0.4627 - val_accuracy: 0.7921\n",
            "Epoch 28/200\n",
            "350/350 [==============================] - 126s 360ms/step - loss: 0.3780 - accuracy: 0.8312 - val_loss: 0.4059 - val_accuracy: 0.8227\n"
          ],
          "name": "stdout"
        },
        {
          "output_type": "stream",
          "text": [
            "WARNING:absl:Found untraced functions such as gru_cell_4_layer_call_and_return_conditional_losses, gru_cell_4_layer_call_fn, gru_cell_5_layer_call_and_return_conditional_losses, gru_cell_5_layer_call_fn, gru_cell_6_layer_call_and_return_conditional_losses while saving (showing 5 of 20). These functions will not be directly callable after loading.\n",
            "WARNING:absl:Found untraced functions such as gru_cell_4_layer_call_and_return_conditional_losses, gru_cell_4_layer_call_fn, gru_cell_5_layer_call_and_return_conditional_losses, gru_cell_5_layer_call_fn, gru_cell_6_layer_call_and_return_conditional_losses while saving (showing 5 of 20). These functions will not be directly callable after loading.\n"
          ],
          "name": "stderr"
        },
        {
          "output_type": "stream",
          "text": [
            "INFO:tensorflow:Assets written to: /content/drive/My Drive/data/JUNK2.cv.1.best/assets\n"
          ],
          "name": "stdout"
        },
        {
          "output_type": "stream",
          "text": [
            "INFO:tensorflow:Assets written to: /content/drive/My Drive/data/JUNK2.cv.1.best/assets\n"
          ],
          "name": "stderr"
        },
        {
          "output_type": "stream",
          "text": [
            "Epoch 29/200\n",
            "350/350 [==============================] - 125s 359ms/step - loss: 0.3234 - accuracy: 0.8604 - val_loss: 0.5122 - val_accuracy: 0.7673\n",
            "Epoch 30/200\n",
            "350/350 [==============================] - 125s 357ms/step - loss: 0.3949 - accuracy: 0.8238 - val_loss: 0.4921 - val_accuracy: 0.7836\n",
            "Epoch 31/200\n",
            "350/350 [==============================] - 124s 356ms/step - loss: 0.3672 - accuracy: 0.8358 - val_loss: 0.4057 - val_accuracy: 0.8199\n",
            "Epoch 32/200\n",
            "350/350 [==============================] - 126s 361ms/step - loss: 0.3303 - accuracy: 0.8542 - val_loss: 0.5349 - val_accuracy: 0.7877\n",
            "Epoch 33/200\n",
            "350/350 [==============================] - 125s 357ms/step - loss: 0.3217 - accuracy: 0.8632 - val_loss: 0.3988 - val_accuracy: 0.8220\n",
            "Epoch 34/200\n",
            "350/350 [==============================] - 128s 367ms/step - loss: 0.3037 - accuracy: 0.8726 - val_loss: 0.3526 - val_accuracy: 0.8558\n"
          ],
          "name": "stdout"
        },
        {
          "output_type": "stream",
          "text": [
            "WARNING:absl:Found untraced functions such as gru_cell_4_layer_call_and_return_conditional_losses, gru_cell_4_layer_call_fn, gru_cell_5_layer_call_and_return_conditional_losses, gru_cell_5_layer_call_fn, gru_cell_6_layer_call_and_return_conditional_losses while saving (showing 5 of 20). These functions will not be directly callable after loading.\n",
            "WARNING:absl:Found untraced functions such as gru_cell_4_layer_call_and_return_conditional_losses, gru_cell_4_layer_call_fn, gru_cell_5_layer_call_and_return_conditional_losses, gru_cell_5_layer_call_fn, gru_cell_6_layer_call_and_return_conditional_losses while saving (showing 5 of 20). These functions will not be directly callable after loading.\n"
          ],
          "name": "stderr"
        },
        {
          "output_type": "stream",
          "text": [
            "INFO:tensorflow:Assets written to: /content/drive/My Drive/data/JUNK2.cv.1.best/assets\n"
          ],
          "name": "stdout"
        },
        {
          "output_type": "stream",
          "text": [
            "INFO:tensorflow:Assets written to: /content/drive/My Drive/data/JUNK2.cv.1.best/assets\n"
          ],
          "name": "stderr"
        },
        {
          "output_type": "stream",
          "text": [
            "Epoch 35/200\n",
            "350/350 [==============================] - 126s 361ms/step - loss: 0.2924 - accuracy: 0.8727 - val_loss: 0.4139 - val_accuracy: 0.8343\n",
            "Epoch 36/200\n",
            "350/350 [==============================] - 126s 360ms/step - loss: 0.2944 - accuracy: 0.8704 - val_loss: 0.3895 - val_accuracy: 0.8345\n",
            "Epoch 37/200\n",
            "350/350 [==============================] - 125s 358ms/step - loss: 0.2845 - accuracy: 0.8819 - val_loss: 0.3391 - val_accuracy: 0.8607\n"
          ],
          "name": "stdout"
        },
        {
          "output_type": "stream",
          "text": [
            "WARNING:absl:Found untraced functions such as gru_cell_4_layer_call_and_return_conditional_losses, gru_cell_4_layer_call_fn, gru_cell_5_layer_call_and_return_conditional_losses, gru_cell_5_layer_call_fn, gru_cell_6_layer_call_and_return_conditional_losses while saving (showing 5 of 20). These functions will not be directly callable after loading.\n",
            "WARNING:absl:Found untraced functions such as gru_cell_4_layer_call_and_return_conditional_losses, gru_cell_4_layer_call_fn, gru_cell_5_layer_call_and_return_conditional_losses, gru_cell_5_layer_call_fn, gru_cell_6_layer_call_and_return_conditional_losses while saving (showing 5 of 20). These functions will not be directly callable after loading.\n"
          ],
          "name": "stderr"
        },
        {
          "output_type": "stream",
          "text": [
            "INFO:tensorflow:Assets written to: /content/drive/My Drive/data/JUNK2.cv.1.best/assets\n"
          ],
          "name": "stdout"
        },
        {
          "output_type": "stream",
          "text": [
            "INFO:tensorflow:Assets written to: /content/drive/My Drive/data/JUNK2.cv.1.best/assets\n"
          ],
          "name": "stderr"
        },
        {
          "output_type": "stream",
          "text": [
            "Epoch 38/200\n",
            "350/350 [==============================] - 126s 360ms/step - loss: 0.2700 - accuracy: 0.8863 - val_loss: 0.3849 - val_accuracy: 0.8508\n",
            "Epoch 39/200\n",
            "350/350 [==============================] - 125s 357ms/step - loss: 0.2735 - accuracy: 0.8860 - val_loss: 0.3509 - val_accuracy: 0.8518\n",
            "Epoch 40/200\n",
            "350/350 [==============================] - 124s 355ms/step - loss: 0.2840 - accuracy: 0.8791 - val_loss: 0.4450 - val_accuracy: 0.8065\n",
            "Epoch 41/200\n",
            "350/350 [==============================] - 125s 356ms/step - loss: 0.3237 - accuracy: 0.8594 - val_loss: 0.3844 - val_accuracy: 0.8402\n",
            "Epoch 42/200\n",
            "350/350 [==============================] - 126s 359ms/step - loss: 0.2855 - accuracy: 0.8818 - val_loss: 0.3585 - val_accuracy: 0.8558\n",
            "Epoch 43/200\n",
            "350/350 [==============================] - 128s 365ms/step - loss: 0.3151 - accuracy: 0.8633 - val_loss: 0.3739 - val_accuracy: 0.8461\n",
            "Epoch 44/200\n",
            "350/350 [==============================] - 130s 372ms/step - loss: 0.2656 - accuracy: 0.8916 - val_loss: 0.3637 - val_accuracy: 0.8413\n",
            "Epoch 45/200\n",
            "350/350 [==============================] - 130s 371ms/step - loss: 0.2753 - accuracy: 0.8840 - val_loss: 0.3560 - val_accuracy: 0.8594\n",
            "Epoch 46/200\n",
            "350/350 [==============================] - 127s 363ms/step - loss: 0.2677 - accuracy: 0.8870 - val_loss: 0.4779 - val_accuracy: 0.7723\n",
            "Epoch 47/200\n",
            "350/350 [==============================] - 127s 362ms/step - loss: 0.3871 - accuracy: 0.8234 - val_loss: 0.4589 - val_accuracy: 0.8012\n",
            "Epoch 00047: early stopping\n",
            "Fold 1, 200 epochs, 6371 sec\n"
          ],
          "name": "stdout"
        },
        {
          "output_type": "display_data",
          "data": {
            "image/png": "[encoded data removed]",
            "text/plain": [
              "<Figure size 576x360 with 1 Axes>"
            ]
          },
          "metadata": {
            "tags": [],
            "needs_background": "light"
          }
        },
        {
          "output_type": "stream",
          "text": [
            "accuracy: 86.07%\n",
            "COMPILE...\n",
            "...COMPILED\n",
            "FIT\n",
            "Epoch 1/200\n",
            "350/350 [==============================] - 144s 369ms/step - loss: 0.6923 - accuracy: 0.5241 - val_loss: 0.6863 - val_accuracy: 0.5476\n"
          ],
          "name": "stdout"
        },
        {
          "output_type": "stream",
          "text": [
            "WARNING:absl:Found untraced functions such as gru_cell_12_layer_call_and_return_conditional_losses, gru_cell_12_layer_call_fn, gru_cell_13_layer_call_and_return_conditional_losses, gru_cell_13_layer_call_fn, gru_cell_14_layer_call_and_return_conditional_losses while saving (showing 5 of 20). These functions will not be directly callable after loading.\n",
            "WARNING:absl:Found untraced functions such as gru_cell_12_layer_call_and_return_conditional_losses, gru_cell_12_layer_call_fn, gru_cell_13_layer_call_and_return_conditional_losses, gru_cell_13_layer_call_fn, gru_cell_14_layer_call_and_return_conditional_losses while saving (showing 5 of 20). These functions will not be directly callable after loading.\n"
          ],
          "name": "stderr"
        },
        {
          "output_type": "stream",
          "text": [
            "INFO:tensorflow:Assets written to: /content/drive/My Drive/data/JUNK2.cv.2.best/assets\n"
          ],
          "name": "stdout"
        },
        {
          "output_type": "stream",
          "text": [
            "INFO:tensorflow:Assets written to: /content/drive/My Drive/data/JUNK2.cv.2.best/assets\n"
          ],
          "name": "stderr"
        },
        {
          "output_type": "stream",
          "text": [
            "Epoch 2/200\n",
            "350/350 [==============================] - 123s 353ms/step - loss: 0.6877 - accuracy: 0.5451 - val_loss: 0.6880 - val_accuracy: 0.5385\n",
            "Epoch 3/200\n",
            "350/350 [==============================] - 124s 355ms/step - loss: 0.6837 - accuracy: 0.5588 - val_loss: 0.6902 - val_accuracy: 0.5383\n",
            "Epoch 4/200\n",
            "350/350 [==============================] - 125s 357ms/step - loss: 0.6766 - accuracy: 0.5732 - val_loss: 0.6861 - val_accuracy: 0.5514\n"
          ],
          "name": "stdout"
        },
        {
          "output_type": "stream",
          "text": [
            "WARNING:absl:Found untraced functions such as gru_cell_12_layer_call_and_return_conditional_losses, gru_cell_12_layer_call_fn, gru_cell_13_layer_call_and_return_conditional_losses, gru_cell_13_layer_call_fn, gru_cell_14_layer_call_and_return_conditional_losses while saving (showing 5 of 20). These functions will not be directly callable after loading.\n",
            "WARNING:absl:Found untraced functions such as gru_cell_12_layer_call_and_return_conditional_losses, gru_cell_12_layer_call_fn, gru_cell_13_layer_call_and_return_conditional_losses, gru_cell_13_layer_call_fn, gru_cell_14_layer_call_and_return_conditional_losses while saving (showing 5 of 20). These functions will not be directly callable after loading.\n"
          ],
          "name": "stderr"
        },
        {
          "output_type": "stream",
          "text": [
            "INFO:tensorflow:Assets written to: /content/drive/My Drive/data/JUNK2.cv.2.best/assets\n"
          ],
          "name": "stdout"
        },
        {
          "output_type": "stream",
          "text": [
            "INFO:tensorflow:Assets written to: /content/drive/My Drive/data/JUNK2.cv.2.best/assets\n"
          ],
          "name": "stderr"
        },
        {
          "output_type": "stream",
          "text": [
            "Epoch 5/200\n",
            "350/350 [==============================] - 124s 356ms/step - loss: 0.6714 - accuracy: 0.5895 - val_loss: 0.6819 - val_accuracy: 0.5516\n"
          ],
          "name": "stdout"
        },
        {
          "output_type": "stream",
          "text": [
            "WARNING:absl:Found untraced functions such as gru_cell_12_layer_call_and_return_conditional_losses, gru_cell_12_layer_call_fn, gru_cell_13_layer_call_and_return_conditional_losses, gru_cell_13_layer_call_fn, gru_cell_14_layer_call_and_return_conditional_losses while saving (showing 5 of 20). These functions will not be directly callable after loading.\n",
            "WARNING:absl:Found untraced functions such as gru_cell_12_layer_call_and_return_conditional_losses, gru_cell_12_layer_call_fn, gru_cell_13_layer_call_and_return_conditional_losses, gru_cell_13_layer_call_fn, gru_cell_14_layer_call_and_return_conditional_losses while saving (showing 5 of 20). These functions will not be directly callable after loading.\n"
          ],
          "name": "stderr"
        },
        {
          "output_type": "stream",
          "text": [
            "INFO:tensorflow:Assets written to: /content/drive/My Drive/data/JUNK2.cv.2.best/assets\n"
          ],
          "name": "stdout"
        },
        {
          "output_type": "stream",
          "text": [
            "INFO:tensorflow:Assets written to: /content/drive/My Drive/data/JUNK2.cv.2.best/assets\n"
          ],
          "name": "stderr"
        },
        {
          "output_type": "stream",
          "text": [
            "Epoch 6/200\n",
            "350/350 [==============================] - 125s 357ms/step - loss: 0.6718 - accuracy: 0.5865 - val_loss: 0.6916 - val_accuracy: 0.5428\n",
            "Epoch 7/200\n",
            "350/350 [==============================] - 124s 355ms/step - loss: 0.6680 - accuracy: 0.5980 - val_loss: 0.7038 - val_accuracy: 0.5509\n",
            "Epoch 8/200\n",
            "350/350 [==============================] - 124s 354ms/step - loss: 0.6666 - accuracy: 0.6020 - val_loss: 0.6814 - val_accuracy: 0.5561\n"
          ],
          "name": "stdout"
        },
        {
          "output_type": "stream",
          "text": [
            "WARNING:absl:Found untraced functions such as gru_cell_12_layer_call_and_return_conditional_losses, gru_cell_12_layer_call_fn, gru_cell_13_layer_call_and_return_conditional_losses, gru_cell_13_layer_call_fn, gru_cell_14_layer_call_and_return_conditional_losses while saving (showing 5 of 20). These functions will not be directly callable after loading.\n",
            "WARNING:absl:Found untraced functions such as gru_cell_12_layer_call_and_return_conditional_losses, gru_cell_12_layer_call_fn, gru_cell_13_layer_call_and_return_conditional_losses, gru_cell_13_layer_call_fn, gru_cell_14_layer_call_and_return_conditional_losses while saving (showing 5 of 20). These functions will not be directly callable after loading.\n"
          ],
          "name": "stderr"
        },
        {
          "output_type": "stream",
          "text": [
            "INFO:tensorflow:Assets written to: /content/drive/My Drive/data/JUNK2.cv.2.best/assets\n"
          ],
          "name": "stdout"
        },
        {
          "output_type": "stream",
          "text": [
            "INFO:tensorflow:Assets written to: /content/drive/My Drive/data/JUNK2.cv.2.best/assets\n"
          ],
          "name": "stderr"
        },
        {
          "output_type": "stream",
          "text": [
            "Epoch 9/200\n",
            "350/350 [==============================] - 124s 353ms/step - loss: 0.6647 - accuracy: 0.5928 - val_loss: 0.6840 - val_accuracy: 0.5603\n"
          ],
          "name": "stdout"
        },
        {
          "output_type": "stream",
          "text": [
            "WARNING:absl:Found untraced functions such as gru_cell_12_layer_call_and_return_conditional_losses, gru_cell_12_layer_call_fn, gru_cell_13_layer_call_and_return_conditional_losses, gru_cell_13_layer_call_fn, gru_cell_14_layer_call_and_return_conditional_losses while saving (showing 5 of 20). These functions will not be directly callable after loading.\n",
            "WARNING:absl:Found untraced functions such as gru_cell_12_layer_call_and_return_conditional_losses, gru_cell_12_layer_call_fn, gru_cell_13_layer_call_and_return_conditional_losses, gru_cell_13_layer_call_fn, gru_cell_14_layer_call_and_return_conditional_losses while saving (showing 5 of 20). These functions will not be directly callable after loading.\n"
          ],
          "name": "stderr"
        },
        {
          "output_type": "stream",
          "text": [
            "INFO:tensorflow:Assets written to: /content/drive/My Drive/data/JUNK2.cv.2.best/assets\n"
          ],
          "name": "stdout"
        },
        {
          "output_type": "stream",
          "text": [
            "INFO:tensorflow:Assets written to: /content/drive/My Drive/data/JUNK2.cv.2.best/assets\n"
          ],
          "name": "stderr"
        },
        {
          "output_type": "stream",
          "text": [
            "Epoch 10/200\n",
            "350/350 [==============================] - 123s 353ms/step - loss: 0.6651 - accuracy: 0.6021 - val_loss: 0.6938 - val_accuracy: 0.5596\n",
            "Epoch 11/200\n",
            "350/350 [==============================] - 124s 354ms/step - loss: 0.6598 - accuracy: 0.6050 - val_loss: 0.6816 - val_accuracy: 0.5592\n",
            "Epoch 12/200\n",
            "350/350 [==============================] - 124s 355ms/step - loss: 0.6615 - accuracy: 0.6112 - val_loss: 0.6990 - val_accuracy: 0.5463\n",
            "Epoch 13/200\n",
            "350/350 [==============================] - 124s 354ms/step - loss: 0.6531 - accuracy: 0.6205 - val_loss: 0.6856 - val_accuracy: 0.5623\n"
          ],
          "name": "stdout"
        },
        {
          "output_type": "stream",
          "text": [
            "WARNING:absl:Found untraced functions such as gru_cell_12_layer_call_and_return_conditional_losses, gru_cell_12_layer_call_fn, gru_cell_13_layer_call_and_return_conditional_losses, gru_cell_13_layer_call_fn, gru_cell_14_layer_call_and_return_conditional_losses while saving (showing 5 of 20). These functions will not be directly callable after loading.\n",
            "WARNING:absl:Found untraced functions such as gru_cell_12_layer_call_and_return_conditional_losses, gru_cell_12_layer_call_fn, gru_cell_13_layer_call_and_return_conditional_losses, gru_cell_13_layer_call_fn, gru_cell_14_layer_call_and_return_conditional_losses while saving (showing 5 of 20). These functions will not be directly callable after loading.\n"
          ],
          "name": "stderr"
        },
        {
          "output_type": "stream",
          "text": [
            "INFO:tensorflow:Assets written to: /content/drive/My Drive/data/JUNK2.cv.2.best/assets\n"
          ],
          "name": "stdout"
        },
        {
          "output_type": "stream",
          "text": [
            "INFO:tensorflow:Assets written to: /content/drive/My Drive/data/JUNK2.cv.2.best/assets\n"
          ],
          "name": "stderr"
        },
        {
          "output_type": "stream",
          "text": [
            "Epoch 14/200\n",
            "350/350 [==============================] - 124s 355ms/step - loss: 0.6566 - accuracy: 0.6058 - val_loss: 0.6782 - val_accuracy: 0.5667\n"
          ],
          "name": "stdout"
        },
        {
          "output_type": "stream",
          "text": [
            "WARNING:absl:Found untraced functions such as gru_cell_12_layer_call_and_return_conditional_losses, gru_cell_12_layer_call_fn, gru_cell_13_layer_call_and_return_conditional_losses, gru_cell_13_layer_call_fn, gru_cell_14_layer_call_and_return_conditional_losses while saving (showing 5 of 20). These functions will not be directly callable after loading.\n",
            "WARNING:absl:Found untraced functions such as gru_cell_12_layer_call_and_return_conditional_losses, gru_cell_12_layer_call_fn, gru_cell_13_layer_call_and_return_conditional_losses, gru_cell_13_layer_call_fn, gru_cell_14_layer_call_and_return_conditional_losses while saving (showing 5 of 20). These functions will not be directly callable after loading.\n"
          ],
          "name": "stderr"
        },
        {
          "output_type": "stream",
          "text": [
            "INFO:tensorflow:Assets written to: /content/drive/My Drive/data/JUNK2.cv.2.best/assets\n"
          ],
          "name": "stdout"
        },
        {
          "output_type": "stream",
          "text": [
            "INFO:tensorflow:Assets written to: /content/drive/My Drive/data/JUNK2.cv.2.best/assets\n"
          ],
          "name": "stderr"
        },
        {
          "output_type": "stream",
          "text": [
            "Epoch 15/200\n",
            "350/350 [==============================] - 124s 356ms/step - loss: 0.6531 - accuracy: 0.6205 - val_loss: 0.6771 - val_accuracy: 0.5793\n"
          ],
          "name": "stdout"
        },
        {
          "output_type": "stream",
          "text": [
            "WARNING:absl:Found untraced functions such as gru_cell_12_layer_call_and_return_conditional_losses, gru_cell_12_layer_call_fn, gru_cell_13_layer_call_and_return_conditional_losses, gru_cell_13_layer_call_fn, gru_cell_14_layer_call_and_return_conditional_losses while saving (showing 5 of 20). These functions will not be directly callable after loading.\n",
            "WARNING:absl:Found untraced functions such as gru_cell_12_layer_call_and_return_conditional_losses, gru_cell_12_layer_call_fn, gru_cell_13_layer_call_and_return_conditional_losses, gru_cell_13_layer_call_fn, gru_cell_14_layer_call_and_return_conditional_losses while saving (showing 5 of 20). These functions will not be directly callable after loading.\n"
          ],
          "name": "stderr"
        },
        {
          "output_type": "stream",
          "text": [
            "INFO:tensorflow:Assets written to: /content/drive/My Drive/data/JUNK2.cv.2.best/assets\n"
          ],
          "name": "stdout"
        },
        {
          "output_type": "stream",
          "text": [
            "INFO:tensorflow:Assets written to: /content/drive/My Drive/data/JUNK2.cv.2.best/assets\n"
          ],
          "name": "stderr"
        },
        {
          "output_type": "stream",
          "text": [
            "Epoch 16/200\n",
            "350/350 [==============================] - 123s 353ms/step - loss: 0.6463 - accuracy: 0.6229 - val_loss: 0.6977 - val_accuracy: 0.5229\n",
            "Epoch 17/200\n",
            "350/350 [==============================] - 123s 352ms/step - loss: 0.6603 - accuracy: 0.6054 - val_loss: 0.7122 - val_accuracy: 0.5999\n"
          ],
          "name": "stdout"
        },
        {
          "output_type": "stream",
          "text": [
            "WARNING:absl:Found untraced functions such as gru_cell_12_layer_call_and_return_conditional_losses, gru_cell_12_layer_call_fn, gru_cell_13_layer_call_and_return_conditional_losses, gru_cell_13_layer_call_fn, gru_cell_14_layer_call_and_return_conditional_losses while saving (showing 5 of 20). These functions will not be directly callable after loading.\n",
            "WARNING:absl:Found untraced functions such as gru_cell_12_layer_call_and_return_conditional_losses, gru_cell_12_layer_call_fn, gru_cell_13_layer_call_and_return_conditional_losses, gru_cell_13_layer_call_fn, gru_cell_14_layer_call_and_return_conditional_losses while saving (showing 5 of 20). These functions will not be directly callable after loading.\n"
          ],
          "name": "stderr"
        },
        {
          "output_type": "stream",
          "text": [
            "INFO:tensorflow:Assets written to: /content/drive/My Drive/data/JUNK2.cv.2.best/assets\n"
          ],
          "name": "stdout"
        },
        {
          "output_type": "stream",
          "text": [
            "INFO:tensorflow:Assets written to: /content/drive/My Drive/data/JUNK2.cv.2.best/assets\n"
          ],
          "name": "stderr"
        },
        {
          "output_type": "stream",
          "text": [
            "Epoch 18/200\n",
            "350/350 [==============================] - 123s 352ms/step - loss: 0.5522 - accuracy: 0.7197 - val_loss: 0.6308 - val_accuracy: 0.6518\n"
          ],
          "name": "stdout"
        },
        {
          "output_type": "stream",
          "text": [
            "WARNING:absl:Found untraced functions such as gru_cell_12_layer_call_and_return_conditional_losses, gru_cell_12_layer_call_fn, gru_cell_13_layer_call_and_return_conditional_losses, gru_cell_13_layer_call_fn, gru_cell_14_layer_call_and_return_conditional_losses while saving (showing 5 of 20). These functions will not be directly callable after loading.\n",
            "WARNING:absl:Found untraced functions such as gru_cell_12_layer_call_and_return_conditional_losses, gru_cell_12_layer_call_fn, gru_cell_13_layer_call_and_return_conditional_losses, gru_cell_13_layer_call_fn, gru_cell_14_layer_call_and_return_conditional_losses while saving (showing 5 of 20). These functions will not be directly callable after loading.\n"
          ],
          "name": "stderr"
        },
        {
          "output_type": "stream",
          "text": [
            "INFO:tensorflow:Assets written to: /content/drive/My Drive/data/JUNK2.cv.2.best/assets\n"
          ],
          "name": "stdout"
        },
        {
          "output_type": "stream",
          "text": [
            "INFO:tensorflow:Assets written to: /content/drive/My Drive/data/JUNK2.cv.2.best/assets\n"
          ],
          "name": "stderr"
        },
        {
          "output_type": "stream",
          "text": [
            "Epoch 19/200\n",
            "350/350 [==============================] - 124s 355ms/step - loss: 0.5336 - accuracy: 0.7277 - val_loss: 0.6865 - val_accuracy: 0.5529\n",
            "Epoch 20/200\n",
            "350/350 [==============================] - 124s 354ms/step - loss: 0.6584 - accuracy: 0.6097 - val_loss: 0.6853 - val_accuracy: 0.5618\n",
            "Epoch 21/200\n",
            "350/350 [==============================] - 125s 359ms/step - loss: 0.5876 - accuracy: 0.6866 - val_loss: 0.6420 - val_accuracy: 0.6572\n"
          ],
          "name": "stdout"
        },
        {
          "output_type": "stream",
          "text": [
            "WARNING:absl:Found untraced functions such as gru_cell_12_layer_call_and_return_conditional_losses, gru_cell_12_layer_call_fn, gru_cell_13_layer_call_and_return_conditional_losses, gru_cell_13_layer_call_fn, gru_cell_14_layer_call_and_return_conditional_losses while saving (showing 5 of 20). These functions will not be directly callable after loading.\n",
            "WARNING:absl:Found untraced functions such as gru_cell_12_layer_call_and_return_conditional_losses, gru_cell_12_layer_call_fn, gru_cell_13_layer_call_and_return_conditional_losses, gru_cell_13_layer_call_fn, gru_cell_14_layer_call_and_return_conditional_losses while saving (showing 5 of 20). These functions will not be directly callable after loading.\n"
          ],
          "name": "stderr"
        },
        {
          "output_type": "stream",
          "text": [
            "INFO:tensorflow:Assets written to: /content/drive/My Drive/data/JUNK2.cv.2.best/assets\n"
          ],
          "name": "stdout"
        },
        {
          "output_type": "stream",
          "text": [
            "INFO:tensorflow:Assets written to: /content/drive/My Drive/data/JUNK2.cv.2.best/assets\n"
          ],
          "name": "stderr"
        },
        {
          "output_type": "stream",
          "text": [
            "Epoch 22/200\n",
            "350/350 [==============================] - 125s 357ms/step - loss: 0.4937 - accuracy: 0.7630 - val_loss: 0.6331 - val_accuracy: 0.6828\n"
          ],
          "name": "stdout"
        },
        {
          "output_type": "stream",
          "text": [
            "WARNING:absl:Found untraced functions such as gru_cell_12_layer_call_and_return_conditional_losses, gru_cell_12_layer_call_fn, gru_cell_13_layer_call_and_return_conditional_losses, gru_cell_13_layer_call_fn, gru_cell_14_layer_call_and_return_conditional_losses while saving (showing 5 of 20). These functions will not be directly callable after loading.\n",
            "WARNING:absl:Found untraced functions such as gru_cell_12_layer_call_and_return_conditional_losses, gru_cell_12_layer_call_fn, gru_cell_13_layer_call_and_return_conditional_losses, gru_cell_13_layer_call_fn, gru_cell_14_layer_call_and_return_conditional_losses while saving (showing 5 of 20). These functions will not be directly callable after loading.\n"
          ],
          "name": "stderr"
        },
        {
          "output_type": "stream",
          "text": [
            "INFO:tensorflow:Assets written to: /content/drive/My Drive/data/JUNK2.cv.2.best/assets\n"
          ],
          "name": "stdout"
        },
        {
          "output_type": "stream",
          "text": [
            "INFO:tensorflow:Assets written to: /content/drive/My Drive/data/JUNK2.cv.2.best/assets\n"
          ],
          "name": "stderr"
        },
        {
          "output_type": "stream",
          "text": [
            "Epoch 23/200\n",
            "350/350 [==============================] - 124s 355ms/step - loss: 0.4751 - accuracy: 0.7709 - val_loss: 0.5756 - val_accuracy: 0.7321\n"
          ],
          "name": "stdout"
        },
        {
          "output_type": "stream",
          "text": [
            "WARNING:absl:Found untraced functions such as gru_cell_12_layer_call_and_return_conditional_losses, gru_cell_12_layer_call_fn, gru_cell_13_layer_call_and_return_conditional_losses, gru_cell_13_layer_call_fn, gru_cell_14_layer_call_and_return_conditional_losses while saving (showing 5 of 20). These functions will not be directly callable after loading.\n",
            "WARNING:absl:Found untraced functions such as gru_cell_12_layer_call_and_return_conditional_losses, gru_cell_12_layer_call_fn, gru_cell_13_layer_call_and_return_conditional_losses, gru_cell_13_layer_call_fn, gru_cell_14_layer_call_and_return_conditional_losses while saving (showing 5 of 20). These functions will not be directly callable after loading.\n"
          ],
          "name": "stderr"
        },
        {
          "output_type": "stream",
          "text": [
            "INFO:tensorflow:Assets written to: /content/drive/My Drive/data/JUNK2.cv.2.best/assets\n"
          ],
          "name": "stdout"
        },
        {
          "output_type": "stream",
          "text": [
            "INFO:tensorflow:Assets written to: /content/drive/My Drive/data/JUNK2.cv.2.best/assets\n"
          ],
          "name": "stderr"
        },
        {
          "output_type": "stream",
          "text": [
            "Epoch 24/200\n",
            "350/350 [==============================] - 125s 358ms/step - loss: 0.4284 - accuracy: 0.8021 - val_loss: 0.4860 - val_accuracy: 0.7779\n"
          ],
          "name": "stdout"
        },
        {
          "output_type": "stream",
          "text": [
            "WARNING:absl:Found untraced functions such as gru_cell_12_layer_call_and_return_conditional_losses, gru_cell_12_layer_call_fn, gru_cell_13_layer_call_and_return_conditional_losses, gru_cell_13_layer_call_fn, gru_cell_14_layer_call_and_return_conditional_losses while saving (showing 5 of 20). These functions will not be directly callable after loading.\n",
            "WARNING:absl:Found untraced functions such as gru_cell_12_layer_call_and_return_conditional_losses, gru_cell_12_layer_call_fn, gru_cell_13_layer_call_and_return_conditional_losses, gru_cell_13_layer_call_fn, gru_cell_14_layer_call_and_return_conditional_losses while saving (showing 5 of 20). These functions will not be directly callable after loading.\n"
          ],
          "name": "stderr"
        },
        {
          "output_type": "stream",
          "text": [
            "INFO:tensorflow:Assets written to: /content/drive/My Drive/data/JUNK2.cv.2.best/assets\n"
          ],
          "name": "stdout"
        },
        {
          "output_type": "stream",
          "text": [
            "INFO:tensorflow:Assets written to: /content/drive/My Drive/data/JUNK2.cv.2.best/assets\n"
          ],
          "name": "stderr"
        },
        {
          "output_type": "stream",
          "text": [
            "Epoch 25/200\n",
            "350/350 [==============================] - 125s 357ms/step - loss: 0.4690 - accuracy: 0.7600 - val_loss: 0.6811 - val_accuracy: 0.5703\n",
            "Epoch 26/200\n",
            "350/350 [==============================] - 126s 361ms/step - loss: 0.6522 - accuracy: 0.6237 - val_loss: 0.6761 - val_accuracy: 0.5762\n",
            "Epoch 27/200\n",
            "350/350 [==============================] - 127s 362ms/step - loss: 0.6426 - accuracy: 0.6282 - val_loss: 0.6847 - val_accuracy: 0.5966\n",
            "Epoch 28/200\n",
            "350/350 [==============================] - 127s 364ms/step - loss: 0.6176 - accuracy: 0.6563 - val_loss: 0.6269 - val_accuracy: 0.6720\n",
            "Epoch 29/200\n",
            "350/350 [==============================] - 128s 365ms/step - loss: 0.4727 - accuracy: 0.7812 - val_loss: 0.4441 - val_accuracy: 0.7987\n"
          ],
          "name": "stdout"
        },
        {
          "output_type": "stream",
          "text": [
            "WARNING:absl:Found untraced functions such as gru_cell_12_layer_call_and_return_conditional_losses, gru_cell_12_layer_call_fn, gru_cell_13_layer_call_and_return_conditional_losses, gru_cell_13_layer_call_fn, gru_cell_14_layer_call_and_return_conditional_losses while saving (showing 5 of 20). These functions will not be directly callable after loading.\n",
            "WARNING:absl:Found untraced functions such as gru_cell_12_layer_call_and_return_conditional_losses, gru_cell_12_layer_call_fn, gru_cell_13_layer_call_and_return_conditional_losses, gru_cell_13_layer_call_fn, gru_cell_14_layer_call_and_return_conditional_losses while saving (showing 5 of 20). These functions will not be directly callable after loading.\n"
          ],
          "name": "stderr"
        },
        {
          "output_type": "stream",
          "text": [
            "INFO:tensorflow:Assets written to: /content/drive/My Drive/data/JUNK2.cv.2.best/assets\n"
          ],
          "name": "stdout"
        },
        {
          "output_type": "stream",
          "text": [
            "INFO:tensorflow:Assets written to: /content/drive/My Drive/data/JUNK2.cv.2.best/assets\n"
          ],
          "name": "stderr"
        },
        {
          "output_type": "stream",
          "text": [
            "Epoch 30/200\n",
            "350/350 [==============================] - 128s 365ms/step - loss: 0.3973 - accuracy: 0.8205 - val_loss: 0.4956 - val_accuracy: 0.8023\n"
          ],
          "name": "stdout"
        },
        {
          "output_type": "stream",
          "text": [
            "WARNING:absl:Found untraced functions such as gru_cell_12_layer_call_and_return_conditional_losses, gru_cell_12_layer_call_fn, gru_cell_13_layer_call_and_return_conditional_losses, gru_cell_13_layer_call_fn, gru_cell_14_layer_call_and_return_conditional_losses while saving (showing 5 of 20). These functions will not be directly callable after loading.\n",
            "WARNING:absl:Found untraced functions such as gru_cell_12_layer_call_and_return_conditional_losses, gru_cell_12_layer_call_fn, gru_cell_13_layer_call_and_return_conditional_losses, gru_cell_13_layer_call_fn, gru_cell_14_layer_call_and_return_conditional_losses while saving (showing 5 of 20). These functions will not be directly callable after loading.\n"
          ],
          "name": "stderr"
        },
        {
          "output_type": "stream",
          "text": [
            "INFO:tensorflow:Assets written to: /content/drive/My Drive/data/JUNK2.cv.2.best/assets\n"
          ],
          "name": "stdout"
        },
        {
          "output_type": "stream",
          "text": [
            "INFO:tensorflow:Assets written to: /content/drive/My Drive/data/JUNK2.cv.2.best/assets\n"
          ],
          "name": "stderr"
        },
        {
          "output_type": "stream",
          "text": [
            "Epoch 31/200\n",
            "350/350 [==============================] - 126s 361ms/step - loss: 0.3654 - accuracy: 0.8405 - val_loss: 0.4109 - val_accuracy: 0.8289\n"
          ],
          "name": "stdout"
        },
        {
          "output_type": "stream",
          "text": [
            "WARNING:absl:Found untraced functions such as gru_cell_12_layer_call_and_return_conditional_losses, gru_cell_12_layer_call_fn, gru_cell_13_layer_call_and_return_conditional_losses, gru_cell_13_layer_call_fn, gru_cell_14_layer_call_and_return_conditional_losses while saving (showing 5 of 20). These functions will not be directly callable after loading.\n",
            "WARNING:absl:Found untraced functions such as gru_cell_12_layer_call_and_return_conditional_losses, gru_cell_12_layer_call_fn, gru_cell_13_layer_call_and_return_conditional_losses, gru_cell_13_layer_call_fn, gru_cell_14_layer_call_and_return_conditional_losses while saving (showing 5 of 20). These functions will not be directly callable after loading.\n"
          ],
          "name": "stderr"
        },
        {
          "output_type": "stream",
          "text": [
            "INFO:tensorflow:Assets written to: /content/drive/My Drive/data/JUNK2.cv.2.best/assets\n"
          ],
          "name": "stdout"
        },
        {
          "output_type": "stream",
          "text": [
            "INFO:tensorflow:Assets written to: /content/drive/My Drive/data/JUNK2.cv.2.best/assets\n"
          ],
          "name": "stderr"
        },
        {
          "output_type": "stream",
          "text": [
            "Epoch 32/200\n",
            "350/350 [==============================] - 127s 362ms/step - loss: 0.3335 - accuracy: 0.8593 - val_loss: 0.4459 - val_accuracy: 0.8210\n",
            "Epoch 33/200\n",
            "350/350 [==============================] - 126s 361ms/step - loss: 0.3256 - accuracy: 0.8600 - val_loss: 0.5626 - val_accuracy: 0.7379\n",
            "Epoch 34/200\n",
            "350/350 [==============================] - 125s 358ms/step - loss: 0.3899 - accuracy: 0.8211 - val_loss: 0.4353 - val_accuracy: 0.8244\n",
            "Epoch 35/200\n",
            "350/350 [==============================] - 125s 357ms/step - loss: 0.2935 - accuracy: 0.8726 - val_loss: 0.3818 - val_accuracy: 0.8453\n"
          ],
          "name": "stdout"
        },
        {
          "output_type": "stream",
          "text": [
            "WARNING:absl:Found untraced functions such as gru_cell_12_layer_call_and_return_conditional_losses, gru_cell_12_layer_call_fn, gru_cell_13_layer_call_and_return_conditional_losses, gru_cell_13_layer_call_fn, gru_cell_14_layer_call_and_return_conditional_losses while saving (showing 5 of 20). These functions will not be directly callable after loading.\n",
            "WARNING:absl:Found untraced functions such as gru_cell_12_layer_call_and_return_conditional_losses, gru_cell_12_layer_call_fn, gru_cell_13_layer_call_and_return_conditional_losses, gru_cell_13_layer_call_fn, gru_cell_14_layer_call_and_return_conditional_losses while saving (showing 5 of 20). These functions will not be directly callable after loading.\n"
          ],
          "name": "stderr"
        },
        {
          "output_type": "stream",
          "text": [
            "INFO:tensorflow:Assets written to: /content/drive/My Drive/data/JUNK2.cv.2.best/assets\n"
          ],
          "name": "stdout"
        },
        {
          "output_type": "stream",
          "text": [
            "INFO:tensorflow:Assets written to: /content/drive/My Drive/data/JUNK2.cv.2.best/assets\n"
          ],
          "name": "stderr"
        },
        {
          "output_type": "stream",
          "text": [
            "Epoch 36/200\n",
            "350/350 [==============================] - 124s 355ms/step - loss: 0.3049 - accuracy: 0.8735 - val_loss: 0.3863 - val_accuracy: 0.8410\n",
            "Epoch 37/200\n",
            "350/350 [==============================] - 125s 357ms/step - loss: 0.2923 - accuracy: 0.8743 - val_loss: 0.6411 - val_accuracy: 0.6425\n",
            "Epoch 38/200\n",
            "350/350 [==============================] - 122s 350ms/step - loss: 0.4293 - accuracy: 0.7910 - val_loss: 0.3772 - val_accuracy: 0.8479\n"
          ],
          "name": "stdout"
        },
        {
          "output_type": "stream",
          "text": [
            "WARNING:absl:Found untraced functions such as gru_cell_12_layer_call_and_return_conditional_losses, gru_cell_12_layer_call_fn, gru_cell_13_layer_call_and_return_conditional_losses, gru_cell_13_layer_call_fn, gru_cell_14_layer_call_and_return_conditional_losses while saving (showing 5 of 20). These functions will not be directly callable after loading.\n",
            "WARNING:absl:Found untraced functions such as gru_cell_12_layer_call_and_return_conditional_losses, gru_cell_12_layer_call_fn, gru_cell_13_layer_call_and_return_conditional_losses, gru_cell_13_layer_call_fn, gru_cell_14_layer_call_and_return_conditional_losses while saving (showing 5 of 20). These functions will not be directly callable after loading.\n"
          ],
          "name": "stderr"
        },
        {
          "output_type": "stream",
          "text": [
            "INFO:tensorflow:Assets written to: /content/drive/My Drive/data/JUNK2.cv.2.best/assets\n"
          ],
          "name": "stdout"
        },
        {
          "output_type": "stream",
          "text": [
            "INFO:tensorflow:Assets written to: /content/drive/My Drive/data/JUNK2.cv.2.best/assets\n"
          ],
          "name": "stderr"
        },
        {
          "output_type": "stream",
          "text": [
            "Epoch 39/200\n",
            "350/350 [==============================] - 126s 360ms/step - loss: 0.2816 - accuracy: 0.8817 - val_loss: 0.4812 - val_accuracy: 0.7833\n",
            "Epoch 40/200\n",
            "350/350 [==============================] - 122s 349ms/step - loss: 0.3481 - accuracy: 0.8434 - val_loss: 0.5596 - val_accuracy: 0.7742\n",
            "Epoch 41/200\n",
            "350/350 [==============================] - 121s 347ms/step - loss: 0.3122 - accuracy: 0.8638 - val_loss: 0.5250 - val_accuracy: 0.8014\n",
            "Epoch 42/200\n",
            "350/350 [==============================] - 122s 348ms/step - loss: 0.2958 - accuracy: 0.8741 - val_loss: 0.4429 - val_accuracy: 0.8368\n",
            "Epoch 43/200\n",
            "350/350 [==============================] - 129s 368ms/step - loss: 0.2823 - accuracy: 0.8799 - val_loss: 0.4011 - val_accuracy: 0.8382\n",
            "Epoch 44/200\n",
            "350/350 [==============================] - 131s 373ms/step - loss: 0.2518 - accuracy: 0.8994 - val_loss: 0.3784 - val_accuracy: 0.8532\n"
          ],
          "name": "stdout"
        },
        {
          "output_type": "stream",
          "text": [
            "WARNING:absl:Found untraced functions such as gru_cell_12_layer_call_and_return_conditional_losses, gru_cell_12_layer_call_fn, gru_cell_13_layer_call_and_return_conditional_losses, gru_cell_13_layer_call_fn, gru_cell_14_layer_call_and_return_conditional_losses while saving (showing 5 of 20). These functions will not be directly callable after loading.\n",
            "WARNING:absl:Found untraced functions such as gru_cell_12_layer_call_and_return_conditional_losses, gru_cell_12_layer_call_fn, gru_cell_13_layer_call_and_return_conditional_losses, gru_cell_13_layer_call_fn, gru_cell_14_layer_call_and_return_conditional_losses while saving (showing 5 of 20). These functions will not be directly callable after loading.\n"
          ],
          "name": "stderr"
        },
        {
          "output_type": "stream",
          "text": [
            "INFO:tensorflow:Assets written to: /content/drive/My Drive/data/JUNK2.cv.2.best/assets\n"
          ],
          "name": "stdout"
        },
        {
          "output_type": "stream",
          "text": [
            "INFO:tensorflow:Assets written to: /content/drive/My Drive/data/JUNK2.cv.2.best/assets\n"
          ],
          "name": "stderr"
        },
        {
          "output_type": "stream",
          "text": [
            "Epoch 45/200\n",
            "350/350 [==============================] - 131s 376ms/step - loss: 0.2378 - accuracy: 0.8969 - val_loss: 0.3470 - val_accuracy: 0.8577\n"
          ],
          "name": "stdout"
        },
        {
          "output_type": "stream",
          "text": [
            "WARNING:absl:Found untraced functions such as gru_cell_12_layer_call_and_return_conditional_losses, gru_cell_12_layer_call_fn, gru_cell_13_layer_call_and_return_conditional_losses, gru_cell_13_layer_call_fn, gru_cell_14_layer_call_and_return_conditional_losses while saving (showing 5 of 20). These functions will not be directly callable after loading.\n",
            "WARNING:absl:Found untraced functions such as gru_cell_12_layer_call_and_return_conditional_losses, gru_cell_12_layer_call_fn, gru_cell_13_layer_call_and_return_conditional_losses, gru_cell_13_layer_call_fn, gru_cell_14_layer_call_and_return_conditional_losses while saving (showing 5 of 20). These functions will not be directly callable after loading.\n"
          ],
          "name": "stderr"
        },
        {
          "output_type": "stream",
          "text": [
            "INFO:tensorflow:Assets written to: /content/drive/My Drive/data/JUNK2.cv.2.best/assets\n"
          ],
          "name": "stdout"
        },
        {
          "output_type": "stream",
          "text": [
            "INFO:tensorflow:Assets written to: /content/drive/My Drive/data/JUNK2.cv.2.best/assets\n"
          ],
          "name": "stderr"
        },
        {
          "output_type": "stream",
          "text": [
            "Epoch 46/200\n",
            "350/350 [==============================] - 132s 376ms/step - loss: 0.2441 - accuracy: 0.9012 - val_loss: 0.3878 - val_accuracy: 0.8586\n"
          ],
          "name": "stdout"
        },
        {
          "output_type": "stream",
          "text": [
            "WARNING:absl:Found untraced functions such as gru_cell_12_layer_call_and_return_conditional_losses, gru_cell_12_layer_call_fn, gru_cell_13_layer_call_and_return_conditional_losses, gru_cell_13_layer_call_fn, gru_cell_14_layer_call_and_return_conditional_losses while saving (showing 5 of 20). These functions will not be directly callable after loading.\n",
            "WARNING:absl:Found untraced functions such as gru_cell_12_layer_call_and_return_conditional_losses, gru_cell_12_layer_call_fn, gru_cell_13_layer_call_and_return_conditional_losses, gru_cell_13_layer_call_fn, gru_cell_14_layer_call_and_return_conditional_losses while saving (showing 5 of 20). These functions will not be directly callable after loading.\n"
          ],
          "name": "stderr"
        },
        {
          "output_type": "stream",
          "text": [
            "INFO:tensorflow:Assets written to: /content/drive/My Drive/data/JUNK2.cv.2.best/assets\n"
          ],
          "name": "stdout"
        },
        {
          "output_type": "stream",
          "text": [
            "INFO:tensorflow:Assets written to: /content/drive/My Drive/data/JUNK2.cv.2.best/assets\n"
          ],
          "name": "stderr"
        },
        {
          "output_type": "stream",
          "text": [
            "Epoch 47/200\n",
            "350/350 [==============================] - 132s 376ms/step - loss: 0.2322 - accuracy: 0.9060 - val_loss: 0.3668 - val_accuracy: 0.8610\n"
          ],
          "name": "stdout"
        },
        {
          "output_type": "stream",
          "text": [
            "WARNING:absl:Found untraced functions such as gru_cell_12_layer_call_and_return_conditional_losses, gru_cell_12_layer_call_fn, gru_cell_13_layer_call_and_return_conditional_losses, gru_cell_13_layer_call_fn, gru_cell_14_layer_call_and_return_conditional_losses while saving (showing 5 of 20). These functions will not be directly callable after loading.\n",
            "WARNING:absl:Found untraced functions such as gru_cell_12_layer_call_and_return_conditional_losses, gru_cell_12_layer_call_fn, gru_cell_13_layer_call_and_return_conditional_losses, gru_cell_13_layer_call_fn, gru_cell_14_layer_call_and_return_conditional_losses while saving (showing 5 of 20). These functions will not be directly callable after loading.\n"
          ],
          "name": "stderr"
        },
        {
          "output_type": "stream",
          "text": [
            "INFO:tensorflow:Assets written to: /content/drive/My Drive/data/JUNK2.cv.2.best/assets\n"
          ],
          "name": "stdout"
        },
        {
          "output_type": "stream",
          "text": [
            "INFO:tensorflow:Assets written to: /content/drive/My Drive/data/JUNK2.cv.2.best/assets\n"
          ],
          "name": "stderr"
        },
        {
          "output_type": "stream",
          "text": [
            "Epoch 48/200\n",
            "350/350 [==============================] - 132s 377ms/step - loss: 0.2339 - accuracy: 0.9073 - val_loss: 0.3451 - val_accuracy: 0.8661\n"
          ],
          "name": "stdout"
        },
        {
          "output_type": "stream",
          "text": [
            "WARNING:absl:Found untraced functions such as gru_cell_12_layer_call_and_return_conditional_losses, gru_cell_12_layer_call_fn, gru_cell_13_layer_call_and_return_conditional_losses, gru_cell_13_layer_call_fn, gru_cell_14_layer_call_and_return_conditional_losses while saving (showing 5 of 20). These functions will not be directly callable after loading.\n",
            "WARNING:absl:Found untraced functions such as gru_cell_12_layer_call_and_return_conditional_losses, gru_cell_12_layer_call_fn, gru_cell_13_layer_call_and_return_conditional_losses, gru_cell_13_layer_call_fn, gru_cell_14_layer_call_and_return_conditional_losses while saving (showing 5 of 20). These functions will not be directly callable after loading.\n"
          ],
          "name": "stderr"
        },
        {
          "output_type": "stream",
          "text": [
            "INFO:tensorflow:Assets written to: /content/drive/My Drive/data/JUNK2.cv.2.best/assets\n"
          ],
          "name": "stdout"
        },
        {
          "output_type": "stream",
          "text": [
            "INFO:tensorflow:Assets written to: /content/drive/My Drive/data/JUNK2.cv.2.best/assets\n"
          ],
          "name": "stderr"
        },
        {
          "output_type": "stream",
          "text": [
            "Epoch 49/200\n",
            "350/350 [==============================] - 132s 377ms/step - loss: 0.2246 - accuracy: 0.9126 - val_loss: 0.3327 - val_accuracy: 0.8646\n",
            "Epoch 50/200\n",
            "350/350 [==============================] - 132s 376ms/step - loss: 0.2110 - accuracy: 0.9181 - val_loss: 0.3408 - val_accuracy: 0.8669\n"
          ],
          "name": "stdout"
        },
        {
          "output_type": "stream",
          "text": [
            "WARNING:absl:Found untraced functions such as gru_cell_12_layer_call_and_return_conditional_losses, gru_cell_12_layer_call_fn, gru_cell_13_layer_call_and_return_conditional_losses, gru_cell_13_layer_call_fn, gru_cell_14_layer_call_and_return_conditional_losses while saving (showing 5 of 20). These functions will not be directly callable after loading.\n",
            "WARNING:absl:Found untraced functions such as gru_cell_12_layer_call_and_return_conditional_losses, gru_cell_12_layer_call_fn, gru_cell_13_layer_call_and_return_conditional_losses, gru_cell_13_layer_call_fn, gru_cell_14_layer_call_and_return_conditional_losses while saving (showing 5 of 20). These functions will not be directly callable after loading.\n"
          ],
          "name": "stderr"
        },
        {
          "output_type": "stream",
          "text": [
            "INFO:tensorflow:Assets written to: /content/drive/My Drive/data/JUNK2.cv.2.best/assets\n"
          ],
          "name": "stdout"
        },
        {
          "output_type": "stream",
          "text": [
            "INFO:tensorflow:Assets written to: /content/drive/My Drive/data/JUNK2.cv.2.best/assets\n"
          ],
          "name": "stderr"
        },
        {
          "output_type": "stream",
          "text": [
            "Epoch 51/200\n",
            "350/350 [==============================] - 132s 377ms/step - loss: 0.2351 - accuracy: 0.9039 - val_loss: 0.4702 - val_accuracy: 0.7843\n",
            "Epoch 52/200\n",
            "350/350 [==============================] - 132s 377ms/step - loss: 0.3315 - accuracy: 0.8574 - val_loss: 0.4665 - val_accuracy: 0.7895\n",
            "Epoch 53/200\n",
            "350/350 [==============================] - 132s 377ms/step - loss: 0.2976 - accuracy: 0.8745 - val_loss: 0.4547 - val_accuracy: 0.8069\n",
            "Epoch 54/200\n",
            "350/350 [==============================] - 132s 378ms/step - loss: 0.2887 - accuracy: 0.8766 - val_loss: 0.4839 - val_accuracy: 0.8074\n",
            "Epoch 55/200\n",
            "350/350 [==============================] - 132s 378ms/step - loss: 0.2726 - accuracy: 0.8836 - val_loss: 0.3962 - val_accuracy: 0.8354\n",
            "Epoch 56/200\n",
            "350/350 [==============================] - 132s 379ms/step - loss: 0.2441 - accuracy: 0.9013 - val_loss: 0.4769 - val_accuracy: 0.7853\n",
            "Epoch 57/200\n",
            "350/350 [==============================] - 133s 379ms/step - loss: 0.2427 - accuracy: 0.8989 - val_loss: 0.4003 - val_accuracy: 0.8357\n",
            "Epoch 58/200\n",
            "350/350 [==============================] - 132s 379ms/step - loss: 0.2341 - accuracy: 0.9042 - val_loss: 0.3548 - val_accuracy: 0.8612\n",
            "Epoch 59/200\n",
            "350/350 [==============================] - 132s 378ms/step - loss: 0.2195 - accuracy: 0.9100 - val_loss: 0.3767 - val_accuracy: 0.8582\n",
            "Epoch 00059: early stopping\n",
            "Fold 2, 200 epochs, 8175 sec\n"
          ],
          "name": "stdout"
        },
        {
          "output_type": "display_data",
          "data": {
            "image/png": "[encoded data removed]",
            "text/plain": [
              "<Figure size 576x360 with 1 Axes>"
            ]
          },
          "metadata": {
            "tags": [],
            "needs_background": "light"
          }
        },
        {
          "output_type": "stream",
          "text": [
            "accuracy: 86.69%\n",
            "COMPILE...\n",
            "...COMPILED\n",
            "FIT\n",
            "Epoch 1/200\n",
            "350/350 [==============================] - 151s 387ms/step - loss: 0.6942 - accuracy: 0.5127 - val_loss: 0.6925 - val_accuracy: 0.5356\n"
          ],
          "name": "stdout"
        },
        {
          "output_type": "stream",
          "text": [
            "WARNING:absl:Found untraced functions such as gru_cell_20_layer_call_and_return_conditional_losses, gru_cell_20_layer_call_fn, gru_cell_21_layer_call_and_return_conditional_losses, gru_cell_21_layer_call_fn, gru_cell_22_layer_call_and_return_conditional_losses while saving (showing 5 of 20). These functions will not be directly callable after loading.\n",
            "WARNING:absl:Found untraced functions such as gru_cell_20_layer_call_and_return_conditional_losses, gru_cell_20_layer_call_fn, gru_cell_21_layer_call_and_return_conditional_losses, gru_cell_21_layer_call_fn, gru_cell_22_layer_call_and_return_conditional_losses while saving (showing 5 of 20). These functions will not be directly callable after loading.\n"
          ],
          "name": "stderr"
        },
        {
          "output_type": "stream",
          "text": [
            "INFO:tensorflow:Assets written to: /content/drive/My Drive/data/JUNK2.cv.3.best/assets\n"
          ],
          "name": "stdout"
        },
        {
          "output_type": "stream",
          "text": [
            "INFO:tensorflow:Assets written to: /content/drive/My Drive/data/JUNK2.cv.3.best/assets\n"
          ],
          "name": "stderr"
        },
        {
          "output_type": "stream",
          "text": [
            "Epoch 2/200\n",
            "350/350 [==============================] - 130s 371ms/step - loss: 0.6900 - accuracy: 0.5325 - val_loss: 0.6985 - val_accuracy: 0.5360\n"
          ],
          "name": "stdout"
        },
        {
          "output_type": "stream",
          "text": [
            "WARNING:absl:Found untraced functions such as gru_cell_20_layer_call_and_return_conditional_losses, gru_cell_20_layer_call_fn, gru_cell_21_layer_call_and_return_conditional_losses, gru_cell_21_layer_call_fn, gru_cell_22_layer_call_and_return_conditional_losses while saving (showing 5 of 20). These functions will not be directly callable after loading.\n",
            "WARNING:absl:Found untraced functions such as gru_cell_20_layer_call_and_return_conditional_losses, gru_cell_20_layer_call_fn, gru_cell_21_layer_call_and_return_conditional_losses, gru_cell_21_layer_call_fn, gru_cell_22_layer_call_and_return_conditional_losses while saving (showing 5 of 20). These functions will not be directly callable after loading.\n"
          ],
          "name": "stderr"
        },
        {
          "output_type": "stream",
          "text": [
            "INFO:tensorflow:Assets written to: /content/drive/My Drive/data/JUNK2.cv.3.best/assets\n"
          ],
          "name": "stdout"
        },
        {
          "output_type": "stream",
          "text": [
            "INFO:tensorflow:Assets written to: /content/drive/My Drive/data/JUNK2.cv.3.best/assets\n"
          ],
          "name": "stderr"
        },
        {
          "output_type": "stream",
          "text": [
            "Epoch 3/200\n",
            "350/350 [==============================] - 131s 376ms/step - loss: 0.6797 - accuracy: 0.5661 - val_loss: 0.6839 - val_accuracy: 0.5452\n"
          ],
          "name": "stdout"
        },
        {
          "output_type": "stream",
          "text": [
            "WARNING:absl:Found untraced functions such as gru_cell_20_layer_call_and_return_conditional_losses, gru_cell_20_layer_call_fn, gru_cell_21_layer_call_and_return_conditional_losses, gru_cell_21_layer_call_fn, gru_cell_22_layer_call_and_return_conditional_losses while saving (showing 5 of 20). These functions will not be directly callable after loading.\n",
            "WARNING:absl:Found untraced functions such as gru_cell_20_layer_call_and_return_conditional_losses, gru_cell_20_layer_call_fn, gru_cell_21_layer_call_and_return_conditional_losses, gru_cell_21_layer_call_fn, gru_cell_22_layer_call_and_return_conditional_losses while saving (showing 5 of 20). These functions will not be directly callable after loading.\n"
          ],
          "name": "stderr"
        },
        {
          "output_type": "stream",
          "text": [
            "INFO:tensorflow:Assets written to: /content/drive/My Drive/data/JUNK2.cv.3.best/assets\n"
          ],
          "name": "stdout"
        },
        {
          "output_type": "stream",
          "text": [
            "INFO:tensorflow:Assets written to: /content/drive/My Drive/data/JUNK2.cv.3.best/assets\n"
          ],
          "name": "stderr"
        },
        {
          "output_type": "stream",
          "text": [
            "Epoch 4/200\n",
            "350/350 [==============================] - 131s 376ms/step - loss: 0.6812 - accuracy: 0.5663 - val_loss: 0.6941 - val_accuracy: 0.5395\n",
            "Epoch 5/200\n",
            "350/350 [==============================] - 132s 378ms/step - loss: 0.6726 - accuracy: 0.5873 - val_loss: 0.6887 - val_accuracy: 0.5429\n",
            "Epoch 6/200\n",
            "350/350 [==============================] - 132s 378ms/step - loss: 0.6719 - accuracy: 0.5876 - val_loss: 0.6834 - val_accuracy: 0.5513\n"
          ],
          "name": "stdout"
        },
        {
          "output_type": "stream",
          "text": [
            "WARNING:absl:Found untraced functions such as gru_cell_20_layer_call_and_return_conditional_losses, gru_cell_20_layer_call_fn, gru_cell_21_layer_call_and_return_conditional_losses, gru_cell_21_layer_call_fn, gru_cell_22_layer_call_and_return_conditional_losses while saving (showing 5 of 20). These functions will not be directly callable after loading.\n",
            "WARNING:absl:Found untraced functions such as gru_cell_20_layer_call_and_return_conditional_losses, gru_cell_20_layer_call_fn, gru_cell_21_layer_call_and_return_conditional_losses, gru_cell_21_layer_call_fn, gru_cell_22_layer_call_and_return_conditional_losses while saving (showing 5 of 20). These functions will not be directly callable after loading.\n"
          ],
          "name": "stderr"
        },
        {
          "output_type": "stream",
          "text": [
            "INFO:tensorflow:Assets written to: /content/drive/My Drive/data/JUNK2.cv.3.best/assets\n"
          ],
          "name": "stdout"
        },
        {
          "output_type": "stream",
          "text": [
            "INFO:tensorflow:Assets written to: /content/drive/My Drive/data/JUNK2.cv.3.best/assets\n"
          ],
          "name": "stderr"
        },
        {
          "output_type": "stream",
          "text": [
            "Epoch 7/200\n",
            "350/350 [==============================] - 132s 377ms/step - loss: 0.6705 - accuracy: 0.5960 - val_loss: 0.6898 - val_accuracy: 0.5517\n"
          ],
          "name": "stdout"
        },
        {
          "output_type": "stream",
          "text": [
            "WARNING:absl:Found untraced functions such as gru_cell_20_layer_call_and_return_conditional_losses, gru_cell_20_layer_call_fn, gru_cell_21_layer_call_and_return_conditional_losses, gru_cell_21_layer_call_fn, gru_cell_22_layer_call_and_return_conditional_losses while saving (showing 5 of 20). These functions will not be directly callable after loading.\n",
            "WARNING:absl:Found untraced functions such as gru_cell_20_layer_call_and_return_conditional_losses, gru_cell_20_layer_call_fn, gru_cell_21_layer_call_and_return_conditional_losses, gru_cell_21_layer_call_fn, gru_cell_22_layer_call_and_return_conditional_losses while saving (showing 5 of 20). These functions will not be directly callable after loading.\n"
          ],
          "name": "stderr"
        },
        {
          "output_type": "stream",
          "text": [
            "INFO:tensorflow:Assets written to: /content/drive/My Drive/data/JUNK2.cv.3.best/assets\n"
          ],
          "name": "stdout"
        },
        {
          "output_type": "stream",
          "text": [
            "INFO:tensorflow:Assets written to: /content/drive/My Drive/data/JUNK2.cv.3.best/assets\n"
          ],
          "name": "stderr"
        },
        {
          "output_type": "stream",
          "text": [
            "Epoch 8/200\n",
            "350/350 [==============================] - 132s 377ms/step - loss: 0.6675 - accuracy: 0.5945 - val_loss: 0.6892 - val_accuracy: 0.5522\n"
          ],
          "name": "stdout"
        },
        {
          "output_type": "stream",
          "text": [
            "WARNING:absl:Found untraced functions such as gru_cell_20_layer_call_and_return_conditional_losses, gru_cell_20_layer_call_fn, gru_cell_21_layer_call_and_return_conditional_losses, gru_cell_21_layer_call_fn, gru_cell_22_layer_call_and_return_conditional_losses while saving (showing 5 of 20). These functions will not be directly callable after loading.\n",
            "WARNING:absl:Found untraced functions such as gru_cell_20_layer_call_and_return_conditional_losses, gru_cell_20_layer_call_fn, gru_cell_21_layer_call_and_return_conditional_losses, gru_cell_21_layer_call_fn, gru_cell_22_layer_call_and_return_conditional_losses while saving (showing 5 of 20). These functions will not be directly callable after loading.\n"
          ],
          "name": "stderr"
        },
        {
          "output_type": "stream",
          "text": [
            "INFO:tensorflow:Assets written to: /content/drive/My Drive/data/JUNK2.cv.3.best/assets\n"
          ],
          "name": "stdout"
        },
        {
          "output_type": "stream",
          "text": [
            "INFO:tensorflow:Assets written to: /content/drive/My Drive/data/JUNK2.cv.3.best/assets\n"
          ],
          "name": "stderr"
        },
        {
          "output_type": "stream",
          "text": [
            "Epoch 9/200\n",
            "350/350 [==============================] - 132s 376ms/step - loss: 0.6668 - accuracy: 0.5974 - val_loss: 0.6904 - val_accuracy: 0.5523\n"
          ],
          "name": "stdout"
        },
        {
          "output_type": "stream",
          "text": [
            "WARNING:absl:Found untraced functions such as gru_cell_20_layer_call_and_return_conditional_losses, gru_cell_20_layer_call_fn, gru_cell_21_layer_call_and_return_conditional_losses, gru_cell_21_layer_call_fn, gru_cell_22_layer_call_and_return_conditional_losses while saving (showing 5 of 20). These functions will not be directly callable after loading.\n",
            "WARNING:absl:Found untraced functions such as gru_cell_20_layer_call_and_return_conditional_losses, gru_cell_20_layer_call_fn, gru_cell_21_layer_call_and_return_conditional_losses, gru_cell_21_layer_call_fn, gru_cell_22_layer_call_and_return_conditional_losses while saving (showing 5 of 20). These functions will not be directly callable after loading.\n"
          ],
          "name": "stderr"
        },
        {
          "output_type": "stream",
          "text": [
            "INFO:tensorflow:Assets written to: /content/drive/My Drive/data/JUNK2.cv.3.best/assets\n"
          ],
          "name": "stdout"
        },
        {
          "output_type": "stream",
          "text": [
            "INFO:tensorflow:Assets written to: /content/drive/My Drive/data/JUNK2.cv.3.best/assets\n"
          ],
          "name": "stderr"
        },
        {
          "output_type": "stream",
          "text": [
            "Epoch 10/200\n",
            "350/350 [==============================] - 134s 382ms/step - loss: 0.6608 - accuracy: 0.6066 - val_loss: 0.6791 - val_accuracy: 0.5676\n"
          ],
          "name": "stdout"
        },
        {
          "output_type": "stream",
          "text": [
            "WARNING:absl:Found untraced functions such as gru_cell_20_layer_call_and_return_conditional_losses, gru_cell_20_layer_call_fn, gru_cell_21_layer_call_and_return_conditional_losses, gru_cell_21_layer_call_fn, gru_cell_22_layer_call_and_return_conditional_losses while saving (showing 5 of 20). These functions will not be directly callable after loading.\n",
            "WARNING:absl:Found untraced functions such as gru_cell_20_layer_call_and_return_conditional_losses, gru_cell_20_layer_call_fn, gru_cell_21_layer_call_and_return_conditional_losses, gru_cell_21_layer_call_fn, gru_cell_22_layer_call_and_return_conditional_losses while saving (showing 5 of 20). These functions will not be directly callable after loading.\n"
          ],
          "name": "stderr"
        },
        {
          "output_type": "stream",
          "text": [
            "INFO:tensorflow:Assets written to: /content/drive/My Drive/data/JUNK2.cv.3.best/assets\n"
          ],
          "name": "stdout"
        },
        {
          "output_type": "stream",
          "text": [
            "INFO:tensorflow:Assets written to: /content/drive/My Drive/data/JUNK2.cv.3.best/assets\n"
          ],
          "name": "stderr"
        },
        {
          "output_type": "stream",
          "text": [
            "Epoch 11/200\n",
            "350/350 [==============================] - 132s 378ms/step - loss: 0.6614 - accuracy: 0.6027 - val_loss: 0.6841 - val_accuracy: 0.5513\n",
            "Epoch 12/200\n",
            "350/350 [==============================] - 131s 376ms/step - loss: 0.6594 - accuracy: 0.5977 - val_loss: 0.7031 - val_accuracy: 0.5464\n",
            "Epoch 13/200\n",
            "350/350 [==============================] - 133s 380ms/step - loss: 0.6619 - accuracy: 0.6000 - val_loss: 0.7046 - val_accuracy: 0.5418\n",
            "Epoch 14/200\n",
            "350/350 [==============================] - 133s 380ms/step - loss: 0.6600 - accuracy: 0.6071 - val_loss: 0.7005 - val_accuracy: 0.5592\n",
            "Epoch 15/200\n",
            "350/350 [==============================] - 133s 381ms/step - loss: 0.6566 - accuracy: 0.6124 - val_loss: 0.6855 - val_accuracy: 0.5512\n",
            "Epoch 16/200\n",
            "350/350 [==============================] - 133s 382ms/step - loss: 0.6486 - accuracy: 0.6144 - val_loss: 0.6972 - val_accuracy: 0.5490\n",
            "Epoch 17/200\n",
            "350/350 [==============================] - 132s 378ms/step - loss: 0.6404 - accuracy: 0.6322 - val_loss: 0.6933 - val_accuracy: 0.5542\n",
            "Epoch 18/200\n",
            "350/350 [==============================] - 133s 380ms/step - loss: 0.6545 - accuracy: 0.6158 - val_loss: 0.6882 - val_accuracy: 0.5693\n"
          ],
          "name": "stdout"
        },
        {
          "output_type": "stream",
          "text": [
            "WARNING:absl:Found untraced functions such as gru_cell_20_layer_call_and_return_conditional_losses, gru_cell_20_layer_call_fn, gru_cell_21_layer_call_and_return_conditional_losses, gru_cell_21_layer_call_fn, gru_cell_22_layer_call_and_return_conditional_losses while saving (showing 5 of 20). These functions will not be directly callable after loading.\n",
            "WARNING:absl:Found untraced functions such as gru_cell_20_layer_call_and_return_conditional_losses, gru_cell_20_layer_call_fn, gru_cell_21_layer_call_and_return_conditional_losses, gru_cell_21_layer_call_fn, gru_cell_22_layer_call_and_return_conditional_losses while saving (showing 5 of 20). These functions will not be directly callable after loading.\n"
          ],
          "name": "stderr"
        },
        {
          "output_type": "stream",
          "text": [
            "INFO:tensorflow:Assets written to: /content/drive/My Drive/data/JUNK2.cv.3.best/assets\n"
          ],
          "name": "stdout"
        },
        {
          "output_type": "stream",
          "text": [
            "INFO:tensorflow:Assets written to: /content/drive/My Drive/data/JUNK2.cv.3.best/assets\n"
          ],
          "name": "stderr"
        },
        {
          "output_type": "stream",
          "text": [
            "Epoch 19/200\n",
            "350/350 [==============================] - 133s 381ms/step - loss: 0.6310 - accuracy: 0.6460 - val_loss: 0.6719 - val_accuracy: 0.6074\n"
          ],
          "name": "stdout"
        },
        {
          "output_type": "stream",
          "text": [
            "WARNING:absl:Found untraced functions such as gru_cell_20_layer_call_and_return_conditional_losses, gru_cell_20_layer_call_fn, gru_cell_21_layer_call_and_return_conditional_losses, gru_cell_21_layer_call_fn, gru_cell_22_layer_call_and_return_conditional_losses while saving (showing 5 of 20). These functions will not be directly callable after loading.\n",
            "WARNING:absl:Found untraced functions such as gru_cell_20_layer_call_and_return_conditional_losses, gru_cell_20_layer_call_fn, gru_cell_21_layer_call_and_return_conditional_losses, gru_cell_21_layer_call_fn, gru_cell_22_layer_call_and_return_conditional_losses while saving (showing 5 of 20). These functions will not be directly callable after loading.\n"
          ],
          "name": "stderr"
        },
        {
          "output_type": "stream",
          "text": [
            "INFO:tensorflow:Assets written to: /content/drive/My Drive/data/JUNK2.cv.3.best/assets\n"
          ],
          "name": "stdout"
        },
        {
          "output_type": "stream",
          "text": [
            "INFO:tensorflow:Assets written to: /content/drive/My Drive/data/JUNK2.cv.3.best/assets\n"
          ],
          "name": "stderr"
        },
        {
          "output_type": "stream",
          "text": [
            "Epoch 20/200\n",
            "350/350 [==============================] - 133s 380ms/step - loss: 0.5503 - accuracy: 0.7264 - val_loss: 0.6380 - val_accuracy: 0.6371\n"
          ],
          "name": "stdout"
        },
        {
          "output_type": "stream",
          "text": [
            "WARNING:absl:Found untraced functions such as gru_cell_20_layer_call_and_return_conditional_losses, gru_cell_20_layer_call_fn, gru_cell_21_layer_call_and_return_conditional_losses, gru_cell_21_layer_call_fn, gru_cell_22_layer_call_and_return_conditional_losses while saving (showing 5 of 20). These functions will not be directly callable after loading.\n",
            "WARNING:absl:Found untraced functions such as gru_cell_20_layer_call_and_return_conditional_losses, gru_cell_20_layer_call_fn, gru_cell_21_layer_call_and_return_conditional_losses, gru_cell_21_layer_call_fn, gru_cell_22_layer_call_and_return_conditional_losses while saving (showing 5 of 20). These functions will not be directly callable after loading.\n"
          ],
          "name": "stderr"
        },
        {
          "output_type": "stream",
          "text": [
            "INFO:tensorflow:Assets written to: /content/drive/My Drive/data/JUNK2.cv.3.best/assets\n"
          ],
          "name": "stdout"
        },
        {
          "output_type": "stream",
          "text": [
            "INFO:tensorflow:Assets written to: /content/drive/My Drive/data/JUNK2.cv.3.best/assets\n"
          ],
          "name": "stderr"
        },
        {
          "output_type": "stream",
          "text": [
            "Epoch 21/200\n",
            "350/350 [==============================] - 132s 378ms/step - loss: 0.5221 - accuracy: 0.7423 - val_loss: 0.6817 - val_accuracy: 0.6639\n"
          ],
          "name": "stdout"
        },
        {
          "output_type": "stream",
          "text": [
            "WARNING:absl:Found untraced functions such as gru_cell_20_layer_call_and_return_conditional_losses, gru_cell_20_layer_call_fn, gru_cell_21_layer_call_and_return_conditional_losses, gru_cell_21_layer_call_fn, gru_cell_22_layer_call_and_return_conditional_losses while saving (showing 5 of 20). These functions will not be directly callable after loading.\n",
            "WARNING:absl:Found untraced functions such as gru_cell_20_layer_call_and_return_conditional_losses, gru_cell_20_layer_call_fn, gru_cell_21_layer_call_and_return_conditional_losses, gru_cell_21_layer_call_fn, gru_cell_22_layer_call_and_return_conditional_losses while saving (showing 5 of 20). These functions will not be directly callable after loading.\n"
          ],
          "name": "stderr"
        },
        {
          "output_type": "stream",
          "text": [
            "INFO:tensorflow:Assets written to: /content/drive/My Drive/data/JUNK2.cv.3.best/assets\n"
          ],
          "name": "stdout"
        },
        {
          "output_type": "stream",
          "text": [
            "INFO:tensorflow:Assets written to: /content/drive/My Drive/data/JUNK2.cv.3.best/assets\n"
          ],
          "name": "stderr"
        },
        {
          "output_type": "stream",
          "text": [
            "Epoch 22/200\n",
            "350/350 [==============================] - 133s 381ms/step - loss: 0.4970 - accuracy: 0.7585 - val_loss: 0.7062 - val_accuracy: 0.6807\n"
          ],
          "name": "stdout"
        },
        {
          "output_type": "stream",
          "text": [
            "WARNING:absl:Found untraced functions such as gru_cell_20_layer_call_and_return_conditional_losses, gru_cell_20_layer_call_fn, gru_cell_21_layer_call_and_return_conditional_losses, gru_cell_21_layer_call_fn, gru_cell_22_layer_call_and_return_conditional_losses while saving (showing 5 of 20). These functions will not be directly callable after loading.\n",
            "WARNING:absl:Found untraced functions such as gru_cell_20_layer_call_and_return_conditional_losses, gru_cell_20_layer_call_fn, gru_cell_21_layer_call_and_return_conditional_losses, gru_cell_21_layer_call_fn, gru_cell_22_layer_call_and_return_conditional_losses while saving (showing 5 of 20). These functions will not be directly callable after loading.\n"
          ],
          "name": "stderr"
        },
        {
          "output_type": "stream",
          "text": [
            "INFO:tensorflow:Assets written to: /content/drive/My Drive/data/JUNK2.cv.3.best/assets\n"
          ],
          "name": "stdout"
        },
        {
          "output_type": "stream",
          "text": [
            "INFO:tensorflow:Assets written to: /content/drive/My Drive/data/JUNK2.cv.3.best/assets\n"
          ],
          "name": "stderr"
        },
        {
          "output_type": "stream",
          "text": [
            "Epoch 23/200\n",
            "350/350 [==============================] - 132s 379ms/step - loss: 0.4651 - accuracy: 0.7806 - val_loss: 0.6661 - val_accuracy: 0.6918\n"
          ],
          "name": "stdout"
        },
        {
          "output_type": "stream",
          "text": [
            "WARNING:absl:Found untraced functions such as gru_cell_20_layer_call_and_return_conditional_losses, gru_cell_20_layer_call_fn, gru_cell_21_layer_call_and_return_conditional_losses, gru_cell_21_layer_call_fn, gru_cell_22_layer_call_and_return_conditional_losses while saving (showing 5 of 20). These functions will not be directly callable after loading.\n",
            "WARNING:absl:Found untraced functions such as gru_cell_20_layer_call_and_return_conditional_losses, gru_cell_20_layer_call_fn, gru_cell_21_layer_call_and_return_conditional_losses, gru_cell_21_layer_call_fn, gru_cell_22_layer_call_and_return_conditional_losses while saving (showing 5 of 20). These functions will not be directly callable after loading.\n"
          ],
          "name": "stderr"
        },
        {
          "output_type": "stream",
          "text": [
            "INFO:tensorflow:Assets written to: /content/drive/My Drive/data/JUNK2.cv.3.best/assets\n"
          ],
          "name": "stdout"
        },
        {
          "output_type": "stream",
          "text": [
            "INFO:tensorflow:Assets written to: /content/drive/My Drive/data/JUNK2.cv.3.best/assets\n"
          ],
          "name": "stderr"
        },
        {
          "output_type": "stream",
          "text": [
            "Epoch 24/200\n",
            "350/350 [==============================] - 133s 379ms/step - loss: 0.4311 - accuracy: 0.8023 - val_loss: 0.5689 - val_accuracy: 0.7337\n"
          ],
          "name": "stdout"
        },
        {
          "output_type": "stream",
          "text": [
            "WARNING:absl:Found untraced functions such as gru_cell_20_layer_call_and_return_conditional_losses, gru_cell_20_layer_call_fn, gru_cell_21_layer_call_and_return_conditional_losses, gru_cell_21_layer_call_fn, gru_cell_22_layer_call_and_return_conditional_losses while saving (showing 5 of 20). These functions will not be directly callable after loading.\n",
            "WARNING:absl:Found untraced functions such as gru_cell_20_layer_call_and_return_conditional_losses, gru_cell_20_layer_call_fn, gru_cell_21_layer_call_and_return_conditional_losses, gru_cell_21_layer_call_fn, gru_cell_22_layer_call_and_return_conditional_losses while saving (showing 5 of 20). These functions will not be directly callable after loading.\n"
          ],
          "name": "stderr"
        },
        {
          "output_type": "stream",
          "text": [
            "INFO:tensorflow:Assets written to: /content/drive/My Drive/data/JUNK2.cv.3.best/assets\n"
          ],
          "name": "stdout"
        },
        {
          "output_type": "stream",
          "text": [
            "INFO:tensorflow:Assets written to: /content/drive/My Drive/data/JUNK2.cv.3.best/assets\n"
          ],
          "name": "stderr"
        },
        {
          "output_type": "stream",
          "text": [
            "Epoch 25/200\n",
            "350/350 [==============================] - 133s 381ms/step - loss: 0.3990 - accuracy: 0.8124 - val_loss: 0.6009 - val_accuracy: 0.7195\n",
            "Epoch 26/200\n",
            "350/350 [==============================] - 133s 381ms/step - loss: 0.3898 - accuracy: 0.8232 - val_loss: 0.5406 - val_accuracy: 0.7490\n"
          ],
          "name": "stdout"
        },
        {
          "output_type": "stream",
          "text": [
            "WARNING:absl:Found untraced functions such as gru_cell_20_layer_call_and_return_conditional_losses, gru_cell_20_layer_call_fn, gru_cell_21_layer_call_and_return_conditional_losses, gru_cell_21_layer_call_fn, gru_cell_22_layer_call_and_return_conditional_losses while saving (showing 5 of 20). These functions will not be directly callable after loading.\n",
            "WARNING:absl:Found untraced functions such as gru_cell_20_layer_call_and_return_conditional_losses, gru_cell_20_layer_call_fn, gru_cell_21_layer_call_and_return_conditional_losses, gru_cell_21_layer_call_fn, gru_cell_22_layer_call_and_return_conditional_losses while saving (showing 5 of 20). These functions will not be directly callable after loading.\n"
          ],
          "name": "stderr"
        },
        {
          "output_type": "stream",
          "text": [
            "INFO:tensorflow:Assets written to: /content/drive/My Drive/data/JUNK2.cv.3.best/assets\n"
          ],
          "name": "stdout"
        },
        {
          "output_type": "stream",
          "text": [
            "INFO:tensorflow:Assets written to: /content/drive/My Drive/data/JUNK2.cv.3.best/assets\n"
          ],
          "name": "stderr"
        },
        {
          "output_type": "stream",
          "text": [
            "Epoch 27/200\n",
            "350/350 [==============================] - 134s 382ms/step - loss: 0.3591 - accuracy: 0.8438 - val_loss: 0.5224 - val_accuracy: 0.7818\n"
          ],
          "name": "stdout"
        },
        {
          "output_type": "stream",
          "text": [
            "WARNING:absl:Found untraced functions such as gru_cell_20_layer_call_and_return_conditional_losses, gru_cell_20_layer_call_fn, gru_cell_21_layer_call_and_return_conditional_losses, gru_cell_21_layer_call_fn, gru_cell_22_layer_call_and_return_conditional_losses while saving (showing 5 of 20). These functions will not be directly callable after loading.\n",
            "WARNING:absl:Found untraced functions such as gru_cell_20_layer_call_and_return_conditional_losses, gru_cell_20_layer_call_fn, gru_cell_21_layer_call_and_return_conditional_losses, gru_cell_21_layer_call_fn, gru_cell_22_layer_call_and_return_conditional_losses while saving (showing 5 of 20). These functions will not be directly callable after loading.\n"
          ],
          "name": "stderr"
        },
        {
          "output_type": "stream",
          "text": [
            "INFO:tensorflow:Assets written to: /content/drive/My Drive/data/JUNK2.cv.3.best/assets\n"
          ],
          "name": "stdout"
        },
        {
          "output_type": "stream",
          "text": [
            "INFO:tensorflow:Assets written to: /content/drive/My Drive/data/JUNK2.cv.3.best/assets\n"
          ],
          "name": "stderr"
        },
        {
          "output_type": "stream",
          "text": [
            "Epoch 28/200\n",
            "350/350 [==============================] - 134s 385ms/step - loss: 0.3480 - accuracy: 0.8497 - val_loss: 0.4920 - val_accuracy: 0.7838\n"
          ],
          "name": "stdout"
        },
        {
          "output_type": "stream",
          "text": [
            "WARNING:absl:Found untraced functions such as gru_cell_20_layer_call_and_return_conditional_losses, gru_cell_20_layer_call_fn, gru_cell_21_layer_call_and_return_conditional_losses, gru_cell_21_layer_call_fn, gru_cell_22_layer_call_and_return_conditional_losses while saving (showing 5 of 20). These functions will not be directly callable after loading.\n",
            "WARNING:absl:Found untraced functions such as gru_cell_20_layer_call_and_return_conditional_losses, gru_cell_20_layer_call_fn, gru_cell_21_layer_call_and_return_conditional_losses, gru_cell_21_layer_call_fn, gru_cell_22_layer_call_and_return_conditional_losses while saving (showing 5 of 20). These functions will not be directly callable after loading.\n"
          ],
          "name": "stderr"
        },
        {
          "output_type": "stream",
          "text": [
            "INFO:tensorflow:Assets written to: /content/drive/My Drive/data/JUNK2.cv.3.best/assets\n"
          ],
          "name": "stdout"
        },
        {
          "output_type": "stream",
          "text": [
            "INFO:tensorflow:Assets written to: /content/drive/My Drive/data/JUNK2.cv.3.best/assets\n"
          ],
          "name": "stderr"
        },
        {
          "output_type": "stream",
          "text": [
            "Epoch 29/200\n",
            "350/350 [==============================] - 133s 380ms/step - loss: 0.3121 - accuracy: 0.8687 - val_loss: 0.4027 - val_accuracy: 0.8261\n"
          ],
          "name": "stdout"
        },
        {
          "output_type": "stream",
          "text": [
            "WARNING:absl:Found untraced functions such as gru_cell_20_layer_call_and_return_conditional_losses, gru_cell_20_layer_call_fn, gru_cell_21_layer_call_and_return_conditional_losses, gru_cell_21_layer_call_fn, gru_cell_22_layer_call_and_return_conditional_losses while saving (showing 5 of 20). These functions will not be directly callable after loading.\n",
            "WARNING:absl:Found untraced functions such as gru_cell_20_layer_call_and_return_conditional_losses, gru_cell_20_layer_call_fn, gru_cell_21_layer_call_and_return_conditional_losses, gru_cell_21_layer_call_fn, gru_cell_22_layer_call_and_return_conditional_losses while saving (showing 5 of 20). These functions will not be directly callable after loading.\n"
          ],
          "name": "stderr"
        },
        {
          "output_type": "stream",
          "text": [
            "INFO:tensorflow:Assets written to: /content/drive/My Drive/data/JUNK2.cv.3.best/assets\n"
          ],
          "name": "stdout"
        },
        {
          "output_type": "stream",
          "text": [
            "INFO:tensorflow:Assets written to: /content/drive/My Drive/data/JUNK2.cv.3.best/assets\n"
          ],
          "name": "stderr"
        },
        {
          "output_type": "stream",
          "text": [
            "Epoch 30/200\n",
            "350/350 [==============================] - 132s 378ms/step - loss: 0.2907 - accuracy: 0.8772 - val_loss: 0.4835 - val_accuracy: 0.8023\n",
            "Epoch 31/200\n",
            "350/350 [==============================] - 132s 378ms/step - loss: 0.2935 - accuracy: 0.8731 - val_loss: 0.5420 - val_accuracy: 0.7640\n",
            "Epoch 32/200\n",
            "350/350 [==============================] - 133s 380ms/step - loss: 0.3165 - accuracy: 0.8655 - val_loss: 0.3622 - val_accuracy: 0.8696\n"
          ],
          "name": "stdout"
        },
        {
          "output_type": "stream",
          "text": [
            "WARNING:absl:Found untraced functions such as gru_cell_20_layer_call_and_return_conditional_losses, gru_cell_20_layer_call_fn, gru_cell_21_layer_call_and_return_conditional_losses, gru_cell_21_layer_call_fn, gru_cell_22_layer_call_and_return_conditional_losses while saving (showing 5 of 20). These functions will not be directly callable after loading.\n",
            "WARNING:absl:Found untraced functions such as gru_cell_20_layer_call_and_return_conditional_losses, gru_cell_20_layer_call_fn, gru_cell_21_layer_call_and_return_conditional_losses, gru_cell_21_layer_call_fn, gru_cell_22_layer_call_and_return_conditional_losses while saving (showing 5 of 20). These functions will not be directly callable after loading.\n"
          ],
          "name": "stderr"
        },
        {
          "output_type": "stream",
          "text": [
            "INFO:tensorflow:Assets written to: /content/drive/My Drive/data/JUNK2.cv.3.best/assets\n"
          ],
          "name": "stdout"
        },
        {
          "output_type": "stream",
          "text": [
            "INFO:tensorflow:Assets written to: /content/drive/My Drive/data/JUNK2.cv.3.best/assets\n"
          ],
          "name": "stderr"
        },
        {
          "output_type": "stream",
          "text": [
            "Epoch 33/200\n",
            "350/350 [==============================] - 133s 379ms/step - loss: 0.2762 - accuracy: 0.8909 - val_loss: 0.4173 - val_accuracy: 0.8342\n",
            "Epoch 34/200\n",
            "350/350 [==============================] - 133s 382ms/step - loss: 0.3478 - accuracy: 0.8429 - val_loss: 0.4563 - val_accuracy: 0.7973\n",
            "Epoch 35/200\n",
            "350/350 [==============================] - 133s 381ms/step - loss: 0.3221 - accuracy: 0.8583 - val_loss: 0.3847 - val_accuracy: 0.8365\n",
            "Epoch 36/200\n",
            "350/350 [==============================] - 132s 379ms/step - loss: 0.2721 - accuracy: 0.8836 - val_loss: 0.3779 - val_accuracy: 0.8481\n",
            "Epoch 37/200\n",
            "350/350 [==============================] - 133s 381ms/step - loss: 0.2428 - accuracy: 0.9038 - val_loss: 0.3523 - val_accuracy: 0.8674\n",
            "Epoch 38/200\n",
            "350/350 [==============================] - 133s 380ms/step - loss: 0.2879 - accuracy: 0.8736 - val_loss: 0.5345 - val_accuracy: 0.7942\n",
            "Epoch 39/200\n",
            "350/350 [==============================] - 134s 382ms/step - loss: 0.2756 - accuracy: 0.8845 - val_loss: 0.3923 - val_accuracy: 0.8617\n",
            "Epoch 40/200\n",
            "350/350 [==============================] - 133s 380ms/step - loss: 0.3794 - accuracy: 0.8223 - val_loss: 0.4704 - val_accuracy: 0.7767\n",
            "Epoch 41/200\n",
            "350/350 [==============================] - 133s 381ms/step - loss: 0.4022 - accuracy: 0.8091 - val_loss: 0.5101 - val_accuracy: 0.7579\n",
            "Epoch 42/200\n",
            "350/350 [==============================] - 134s 382ms/step - loss: 0.3280 - accuracy: 0.8588 - val_loss: 0.5223 - val_accuracy: 0.7602\n",
            "Epoch 43/200\n",
            "350/350 [==============================] - 133s 381ms/step - loss: 0.3504 - accuracy: 0.8398 - val_loss: 0.3742 - val_accuracy: 0.8456\n",
            "Epoch 44/200\n",
            "350/350 [==============================] - 134s 382ms/step - loss: 0.2395 - accuracy: 0.9016 - val_loss: 0.3766 - val_accuracy: 0.8523\n",
            "Epoch 45/200\n",
            "350/350 [==============================] - 134s 382ms/step - loss: 0.2347 - accuracy: 0.9057 - val_loss: 0.4252 - val_accuracy: 0.8342\n",
            "Epoch 46/200\n",
            "350/350 [==============================] - 133s 379ms/step - loss: 0.2285 - accuracy: 0.9095 - val_loss: 0.3683 - val_accuracy: 0.8650\n",
            "Epoch 47/200\n",
            "350/350 [==============================] - 134s 382ms/step - loss: 0.2354 - accuracy: 0.9017 - val_loss: 0.6284 - val_accuracy: 0.7173\n",
            "Epoch 00047: early stopping\n",
            "Fold 3, 200 epochs, 6830 sec\n"
          ],
          "name": "stdout"
        },
        {
          "output_type": "display_data",
          "data": {
            "image/png": "[encoded data removed]",
            "text/plain": [
              "<Figure size 576x360 with 1 Axes>"
            ]
          },
          "metadata": {
            "tags": [],
            "needs_background": "light"
          }
        },
        {
          "output_type": "stream",
          "text": [
            "accuracy: 86.96%\n",
            "COMPILE...\n",
            "...COMPILED\n",
            "FIT\n",
            "Epoch 1/200\n",
            "350/350 [==============================] - 154s 390ms/step - loss: 0.6936 - accuracy: 0.5147 - val_loss: 0.6920 - val_accuracy: 0.5089\n"
          ],
          "name": "stdout"
        },
        {
          "output_type": "stream",
          "text": [
            "WARNING:absl:Found untraced functions such as gru_cell_28_layer_call_and_return_conditional_losses, gru_cell_28_layer_call_fn, gru_cell_29_layer_call_and_return_conditional_losses, gru_cell_29_layer_call_fn, gru_cell_30_layer_call_and_return_conditional_losses while saving (showing 5 of 20). These functions will not be directly callable after loading.\n",
            "WARNING:absl:Found untraced functions such as gru_cell_28_layer_call_and_return_conditional_losses, gru_cell_28_layer_call_fn, gru_cell_29_layer_call_and_return_conditional_losses, gru_cell_29_layer_call_fn, gru_cell_30_layer_call_and_return_conditional_losses while saving (showing 5 of 20). These functions will not be directly callable after loading.\n"
          ],
          "name": "stderr"
        },
        {
          "output_type": "stream",
          "text": [
            "INFO:tensorflow:Assets written to: /content/drive/My Drive/data/JUNK2.cv.4.best/assets\n"
          ],
          "name": "stdout"
        },
        {
          "output_type": "stream",
          "text": [
            "INFO:tensorflow:Assets written to: /content/drive/My Drive/data/JUNK2.cv.4.best/assets\n"
          ],
          "name": "stderr"
        },
        {
          "output_type": "stream",
          "text": [
            "Epoch 2/200\n",
            "350/350 [==============================] - 132s 377ms/step - loss: 0.6915 - accuracy: 0.5229 - val_loss: 0.6840 - val_accuracy: 0.5546\n"
          ],
          "name": "stdout"
        },
        {
          "output_type": "stream",
          "text": [
            "WARNING:absl:Found untraced functions such as gru_cell_28_layer_call_and_return_conditional_losses, gru_cell_28_layer_call_fn, gru_cell_29_layer_call_and_return_conditional_losses, gru_cell_29_layer_call_fn, gru_cell_30_layer_call_and_return_conditional_losses while saving (showing 5 of 20). These functions will not be directly callable after loading.\n",
            "WARNING:absl:Found untraced functions such as gru_cell_28_layer_call_and_return_conditional_losses, gru_cell_28_layer_call_fn, gru_cell_29_layer_call_and_return_conditional_losses, gru_cell_29_layer_call_fn, gru_cell_30_layer_call_and_return_conditional_losses while saving (showing 5 of 20). These functions will not be directly callable after loading.\n"
          ],
          "name": "stderr"
        },
        {
          "output_type": "stream",
          "text": [
            "INFO:tensorflow:Assets written to: /content/drive/My Drive/data/JUNK2.cv.4.best/assets\n"
          ],
          "name": "stdout"
        },
        {
          "output_type": "stream",
          "text": [
            "INFO:tensorflow:Assets written to: /content/drive/My Drive/data/JUNK2.cv.4.best/assets\n"
          ],
          "name": "stderr"
        },
        {
          "output_type": "stream",
          "text": [
            "Epoch 3/200\n",
            "350/350 [==============================] - 132s 377ms/step - loss: 0.6866 - accuracy: 0.5501 - val_loss: 0.6884 - val_accuracy: 0.5361\n",
            "Epoch 4/200\n",
            "350/350 [==============================] - 132s 378ms/step - loss: 0.6840 - accuracy: 0.5516 - val_loss: 0.6902 - val_accuracy: 0.5380\n",
            "Epoch 5/200\n",
            "350/350 [==============================] - 132s 379ms/step - loss: 0.6738 - accuracy: 0.5923 - val_loss: 0.6957 - val_accuracy: 0.5217\n",
            "Epoch 6/200\n",
            "350/350 [==============================] - 133s 380ms/step - loss: 0.6718 - accuracy: 0.5884 - val_loss: 0.6865 - val_accuracy: 0.5470\n",
            "Epoch 7/200\n",
            "350/350 [==============================] - 133s 380ms/step - loss: 0.6696 - accuracy: 0.5876 - val_loss: 0.6853 - val_accuracy: 0.5512\n",
            "Epoch 8/200\n",
            "350/350 [==============================] - 133s 380ms/step - loss: 0.6705 - accuracy: 0.5805 - val_loss: 0.7087 - val_accuracy: 0.5366\n",
            "Epoch 9/200\n",
            "350/350 [==============================] - 133s 380ms/step - loss: 0.6670 - accuracy: 0.5985 - val_loss: 0.6934 - val_accuracy: 0.5399\n",
            "Epoch 10/200\n",
            "350/350 [==============================] - 133s 380ms/step - loss: 0.6616 - accuracy: 0.6049 - val_loss: 0.6807 - val_accuracy: 0.5531\n",
            "Epoch 11/200\n",
            "350/350 [==============================] - 133s 380ms/step - loss: 0.6616 - accuracy: 0.6086 - val_loss: 0.6830 - val_accuracy: 0.5625\n"
          ],
          "name": "stdout"
        },
        {
          "output_type": "stream",
          "text": [
            "WARNING:absl:Found untraced functions such as gru_cell_28_layer_call_and_return_conditional_losses, gru_cell_28_layer_call_fn, gru_cell_29_layer_call_and_return_conditional_losses, gru_cell_29_layer_call_fn, gru_cell_30_layer_call_and_return_conditional_losses while saving (showing 5 of 20). These functions will not be directly callable after loading.\n",
            "WARNING:absl:Found untraced functions such as gru_cell_28_layer_call_and_return_conditional_losses, gru_cell_28_layer_call_fn, gru_cell_29_layer_call_and_return_conditional_losses, gru_cell_29_layer_call_fn, gru_cell_30_layer_call_and_return_conditional_losses while saving (showing 5 of 20). These functions will not be directly callable after loading.\n"
          ],
          "name": "stderr"
        },
        {
          "output_type": "stream",
          "text": [
            "INFO:tensorflow:Assets written to: /content/drive/My Drive/data/JUNK2.cv.4.best/assets\n"
          ],
          "name": "stdout"
        },
        {
          "output_type": "stream",
          "text": [
            "INFO:tensorflow:Assets written to: /content/drive/My Drive/data/JUNK2.cv.4.best/assets\n"
          ],
          "name": "stderr"
        },
        {
          "output_type": "stream",
          "text": [
            "Epoch 12/200\n",
            "350/350 [==============================] - 132s 378ms/step - loss: 0.6592 - accuracy: 0.6063 - val_loss: 0.6876 - val_accuracy: 0.5590\n",
            "Epoch 13/200\n",
            "350/350 [==============================] - 133s 381ms/step - loss: 0.6613 - accuracy: 0.6053 - val_loss: 0.6840 - val_accuracy: 0.5588\n",
            "Epoch 14/200\n",
            "350/350 [==============================] - 133s 380ms/step - loss: 0.6497 - accuracy: 0.6220 - val_loss: 0.6935 - val_accuracy: 0.5572\n",
            "Epoch 15/200\n",
            "350/350 [==============================] - 133s 381ms/step - loss: 0.6484 - accuracy: 0.6226 - val_loss: 0.6744 - val_accuracy: 0.5790\n"
          ],
          "name": "stdout"
        },
        {
          "output_type": "stream",
          "text": [
            "WARNING:absl:Found untraced functions such as gru_cell_28_layer_call_and_return_conditional_losses, gru_cell_28_layer_call_fn, gru_cell_29_layer_call_and_return_conditional_losses, gru_cell_29_layer_call_fn, gru_cell_30_layer_call_and_return_conditional_losses while saving (showing 5 of 20). These functions will not be directly callable after loading.\n",
            "WARNING:absl:Found untraced functions such as gru_cell_28_layer_call_and_return_conditional_losses, gru_cell_28_layer_call_fn, gru_cell_29_layer_call_and_return_conditional_losses, gru_cell_29_layer_call_fn, gru_cell_30_layer_call_and_return_conditional_losses while saving (showing 5 of 20). These functions will not be directly callable after loading.\n"
          ],
          "name": "stderr"
        },
        {
          "output_type": "stream",
          "text": [
            "INFO:tensorflow:Assets written to: /content/drive/My Drive/data/JUNK2.cv.4.best/assets\n"
          ],
          "name": "stdout"
        },
        {
          "output_type": "stream",
          "text": [
            "INFO:tensorflow:Assets written to: /content/drive/My Drive/data/JUNK2.cv.4.best/assets\n"
          ],
          "name": "stderr"
        },
        {
          "output_type": "stream",
          "text": [
            "Epoch 16/200\n",
            "350/350 [==============================] - 134s 383ms/step - loss: 0.6386 - accuracy: 0.6307 - val_loss: 0.6064 - val_accuracy: 0.6780\n"
          ],
          "name": "stdout"
        },
        {
          "output_type": "stream",
          "text": [
            "WARNING:absl:Found untraced functions such as gru_cell_28_layer_call_and_return_conditional_losses, gru_cell_28_layer_call_fn, gru_cell_29_layer_call_and_return_conditional_losses, gru_cell_29_layer_call_fn, gru_cell_30_layer_call_and_return_conditional_losses while saving (showing 5 of 20). These functions will not be directly callable after loading.\n",
            "WARNING:absl:Found untraced functions such as gru_cell_28_layer_call_and_return_conditional_losses, gru_cell_28_layer_call_fn, gru_cell_29_layer_call_and_return_conditional_losses, gru_cell_29_layer_call_fn, gru_cell_30_layer_call_and_return_conditional_losses while saving (showing 5 of 20). These functions will not be directly callable after loading.\n"
          ],
          "name": "stderr"
        },
        {
          "output_type": "stream",
          "text": [
            "INFO:tensorflow:Assets written to: /content/drive/My Drive/data/JUNK2.cv.4.best/assets\n"
          ],
          "name": "stdout"
        },
        {
          "output_type": "stream",
          "text": [
            "INFO:tensorflow:Assets written to: /content/drive/My Drive/data/JUNK2.cv.4.best/assets\n"
          ],
          "name": "stderr"
        },
        {
          "output_type": "stream",
          "text": [
            "Epoch 17/200\n",
            "350/350 [==============================] - 134s 383ms/step - loss: 0.5094 - accuracy: 0.7462 - val_loss: 0.5707 - val_accuracy: 0.7037\n"
          ],
          "name": "stdout"
        },
        {
          "output_type": "stream",
          "text": [
            "WARNING:absl:Found untraced functions such as gru_cell_28_layer_call_and_return_conditional_losses, gru_cell_28_layer_call_fn, gru_cell_29_layer_call_and_return_conditional_losses, gru_cell_29_layer_call_fn, gru_cell_30_layer_call_and_return_conditional_losses while saving (showing 5 of 20). These functions will not be directly callable after loading.\n",
            "WARNING:absl:Found untraced functions such as gru_cell_28_layer_call_and_return_conditional_losses, gru_cell_28_layer_call_fn, gru_cell_29_layer_call_and_return_conditional_losses, gru_cell_29_layer_call_fn, gru_cell_30_layer_call_and_return_conditional_losses while saving (showing 5 of 20). These functions will not be directly callable after loading.\n"
          ],
          "name": "stderr"
        },
        {
          "output_type": "stream",
          "text": [
            "INFO:tensorflow:Assets written to: /content/drive/My Drive/data/JUNK2.cv.4.best/assets\n"
          ],
          "name": "stdout"
        },
        {
          "output_type": "stream",
          "text": [
            "INFO:tensorflow:Assets written to: /content/drive/My Drive/data/JUNK2.cv.4.best/assets\n"
          ],
          "name": "stderr"
        },
        {
          "output_type": "stream",
          "text": [
            "Epoch 18/200\n",
            "350/350 [==============================] - 134s 383ms/step - loss: 0.4847 - accuracy: 0.7646 - val_loss: 0.6074 - val_accuracy: 0.7037\n",
            "Epoch 19/200\n",
            "350/350 [==============================] - ETA: 0s - loss: 0.4484 - accuracy: 0.7905"
          ],
          "name": "stdout"
        }
      ]
    },
    {
      "cell_type": "code",
      "metadata": {
        "id": "p4fh2GI8beMQ"
      },
      "source": [
        ""
      ],
      "execution_count": null,
      "outputs": []
    }
  ]
}