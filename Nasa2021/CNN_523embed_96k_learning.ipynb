{
  "nbformat": 4,
  "nbformat_minor": 0,
  "metadata": {
    "accelerator": "GPU",
    "colab": {
      "name": "CNN_523embed_96k_learning.ipynb",
      "provenance": [],
      "collapsed_sections": [],
      "machine_shape": "hm",
      "include_colab_link": true
    },
    "kernelspec": {
      "display_name": "Python 3",
      "language": "python",
      "name": "python3"
    },
    "language_info": {
      "codemirror_mode": {
        "name": "ipython",
        "version": 3
      },
      "file_extension": ".py",
      "mimetype": "text/x-python",
      "name": "python",
      "nbconvert_exporter": "python",
      "pygments_lexer": "ipython3",
      "version": "3.8.3"
    }
  },
  "cells": [
    {
      "cell_type": "markdown",
      "metadata": {
        "id": "view-in-github",
        "colab_type": "text"
      },
      "source": [
        "<a href=\"https://colab.research.google.com/github/ShepherdCode/ShepherdML/blob/master/Nasa2021/CNN_523embed_96k_learning.ipynb\" target=\"_parent\"><img src=\"https://colab.research.google.com/assets/colab-badge.svg\" alt=\"Open In Colab\"/></a>"
      ]
    },
    {
      "cell_type": "markdown",
      "metadata": {
        "id": "ojm_6E9f9Kcf"
      },
      "source": [
        "# CNN 523 96k\n",
        "\n",
        "1. Four layers of CNNS and MaxPooling\n",
        "2. Drop out at 0.2\n",
        "3. Variable filters and dense neurons\n",
        "4. Adjusted Learning rate to 0.0005\n",
        "\n",
        "\n",
        "\n",
        "\n",
        "\n",
        "\n",
        "\n",
        "\n",
        "\n",
        "\n",
        "\n",
        "\n"
      ]
    },
    {
      "cell_type": "code",
      "metadata": {
        "colab": {
          "base_uri": "https://localhost:8080/"
        },
        "id": "hh6XplUvC0j0",
        "outputId": "fae628c6-f468-4978-8402-9828c729233e"
      },
      "source": [
        "#NC_FILENAME='ncRNA.tiny50.fasta'\n",
        "#PC_FILENAME='pcRNA.tiny50.fasta'\n",
        "#NC_FILENAME='ncRNA.gc34.processed.fasta'\n",
        "#PC_FILENAME='pcRNA.gc34.processed.fasta'\n",
        "NC_FILENAME='noncod_96000.fasta'  # CHANGE THIS TO 1000, 2000, 4000, etc.\n",
        "PC_FILENAME='coding_96000.fasta'\n",
        "NC_VAL_FILE='noncod_validation.fasta'  # 'noncod_validation.fasta'  # CHANGE THIS TO THE UNIFORM VALIDATION FILE\n",
        "PC_VAL_FILE='coding_validation.fasta'  # 'coding_validation.fasta'\n",
        "\n",
        "MODEL_FILE='Test__96K'   # CHANGE THIS IF YOU WANT TO SAVE THE MODEL!\n",
        "DATAPATH=''\n",
        "\n",
        "try:\n",
        "    from google.colab import drive\n",
        "    IN_COLAB = True\n",
        "    PATH='/content/drive/'\n",
        "    drive.mount(PATH)\n",
        "    DATAPATH=PATH+'My Drive/data/'  # must end in \"/\"\n",
        "except:\n",
        "    IN_COLAB = False\n",
        "    DATAPATH='data/'  # must end in \"/\"\n",
        "NC_FILENAME = DATAPATH+NC_FILENAME\n",
        "PC_FILENAME = DATAPATH+PC_FILENAME\n",
        "NC_VAL_FILE = DATAPATH+NC_VAL_FILE\n",
        "PC_VAL_FILE = DATAPATH+PC_VAL_FILE\n",
        "MODEL_FILE=DATAPATH+MODEL_FILE\n",
        "\n",
        "EPOCHS=10  # DECIDE ON SOME AMOUNT AND STICK WITH IT\n",
        "SPLITS=5\n",
        "K=1\n",
        "VOCABULARY_SIZE=4**K+1   # e.g. K=3 => 64 DNA K-mers + 'NNN'\n",
        "EMBED_DIMEN=2\n",
        "FILTERS=32\n",
        "KERNEL=3\n",
        "NEURONS=24\n",
        "DROP=0.2\n",
        "MINLEN=200\n",
        "MAXLEN=1000    # THIS HAS TO MATCH THE SIMULATION DATA\n",
        "DENSE_LEN = 1000\n",
        "ACT=\"tanh\"\n",
        "LN_RATE = 0.0005"
      ],
      "execution_count": 1,
      "outputs": [
        {
          "output_type": "stream",
          "text": [
            "Drive already mounted at /content/drive/; to attempt to forcibly remount, call drive.mount(\"/content/drive/\", force_remount=True).\n"
          ],
          "name": "stdout"
        }
      ]
    },
    {
      "cell_type": "code",
      "metadata": {
        "colab": {
          "base_uri": "https://localhost:8080/"
        },
        "id": "e9TY3HK9ZklE",
        "outputId": "59a8b4f1-2576-46f2-98cd-2995828ad1c2"
      },
      "source": [
        "# Load our own tools\n",
        "# TO DO: don't go to GitHub if the file is already local.\n",
        "GITHUB = True\n",
        "if GITHUB:\n",
        "    #!pip install requests  # Uncomment this if necessary. Seems to be pre-installed.\n",
        "    import requests\n",
        "    r = requests.get('https://raw.githubusercontent.com/ShepherdCode/ShepherdML/master/Strings/tools_fasta.py')\n",
        "    with open('tools_fasta.py', 'w') as f:\n",
        "        f.write(r.text)\n",
        "    # TO DO: delete the file after import\n",
        "import tools_fasta as tools\n",
        "tools.yahoo()  # If this prints \"Yahoo!\" the the import was successful.\n",
        "\n",
        "TOOLS_CHANGED = False   # set to True to re-run with a new version of tools\n",
        "if TOOLS_CHANGED:\n",
        "  from importlib import reload \n",
        "  tools=reload(tools)\n",
        "  print(dir(tools))   # run this to see EVERYTHING in the tools module"
      ],
      "execution_count": 2,
      "outputs": [
        {
          "output_type": "stream",
          "text": [
            "Yahoo!\n"
          ],
          "name": "stdout"
        }
      ]
    },
    {
      "cell_type": "code",
      "metadata": {
        "id": "VQY7aTj29Kch"
      },
      "source": [
        "import numpy as np\n",
        "import pandas as pd\n",
        "import matplotlib.pyplot as plt\n",
        "from sklearn.model_selection import ShuffleSplit\n",
        "from sklearn.model_selection import cross_val_score\n",
        "from sklearn.model_selection import RepeatedKFold\n",
        "from sklearn.model_selection import StratifiedKFold\n",
        "import tensorflow as tf\n",
        "from tensorflow import keras\n",
        "import time\n",
        "dt='float32'\n",
        "tf.keras.backend.set_floatx(dt)"
      ],
      "execution_count": 3,
      "outputs": []
    },
    {
      "cell_type": "markdown",
      "metadata": {
        "id": "j7jcg6Wl9Kc2"
      },
      "source": [
        "Build model"
      ]
    },
    {
      "cell_type": "code",
      "metadata": {
        "id": "qLFNO1Xa9Kc3"
      },
      "source": [
        "def compile_model(model):\n",
        "    print(\"COMPILE...\")\n",
        "    ## learn rate = initial_learning_rate * decay_rate ^ (step / decay_steps)\n",
        "    #adam_default_learn_rate = 0.001\n",
        "    #schedule = tf.keras.optimizers.schedules.ExponentialDecay(\n",
        "    #    initial_learning_rate = adam_default_learn_rate*10,\n",
        "    #    decay_steps=10000, decay_rate=0.99, staircase=True)\n",
        "    #alrd = tf.keras.optimizers.Adam(learning_rate=schedule)\n",
        "    \n",
        "    ln_rate = tf.keras.optimizers.Adam(learning_rate = LN_RATE)\n",
        "    bc=tf.keras.losses.BinaryCrossentropy(from_logits=False)\n",
        "    model.compile(loss=bc, optimizer=ln_rate, metrics=[\"accuracy\"])\n",
        "    print(\"...COMPILED\")\n",
        "    return model\n",
        "\n",
        "def build_model():\n",
        "    #SHAPE=(MAXLEN,5)  \n",
        "    SHAPE=(MAXLEN,4)  \n",
        "    # 4 input letters, 4 output dimensions, 1000 letters/RNA\n",
        "    elayer  = keras.layers.Embedding(4,4,input_length=1000) \n",
        "\n",
        "    clayer1 = keras.layers.Conv1D(FILTERS,KERNEL,activation=ACT,padding=\"same\",\n",
        "                                 input_shape=SHAPE)\n",
        "    clayer2 = keras.layers.Conv1D(FILTERS,KERNEL,activation=ACT,padding=\"same\")\n",
        "    clayer3 = keras.layers.MaxPooling1D(2)\n",
        "    clayer4 = keras.layers.Conv1D(FILTERS,KERNEL,activation=ACT,padding=\"same\")\n",
        "    clayer5 = keras.layers.Conv1D(FILTERS,KERNEL,activation=ACT,padding=\"same\")\n",
        "    clayer6 = keras.layers.MaxPooling1D(2)\n",
        "    clayer7 = keras.layers.Conv1D(FILTERS,KERNEL,activation=ACT,padding=\"same\")\n",
        "    clayer8 = keras.layers.Conv1D(FILTERS,KERNEL,activation=ACT,padding=\"same\")\n",
        "    clayer9 = keras.layers.MaxPooling1D(2)\n",
        "    clayer10 = keras.layers.Conv1D(FILTERS,KERNEL,activation=ACT,padding=\"same\")\n",
        "    clayer11 = keras.layers.Conv1D(FILTERS,KERNEL,activation=ACT,padding=\"same\")\n",
        "    clayer12 = keras.layers.MaxPooling1D(2)\n",
        "\n",
        "    clayer13 = keras.layers.Flatten()\n",
        "\n",
        "    dlayer1 = keras.layers.Dense(NEURONS, activation=ACT,dtype=dt, input_shape=[DENSE_LEN])\n",
        "    dlayer2 = keras.layers.Dropout(DROP)\n",
        "    dlayer3 = keras.layers.Dense(NEURONS, activation=ACT,dtype=dt)\n",
        "    dlayer4 = keras.layers.Dropout(DROP)\n",
        "    output_layer = keras.layers.Dense(1, activation=\"sigmoid\", dtype=dt)\n",
        "\n",
        "    cnn = keras.models.Sequential()\n",
        "    cnn.add(elayer)\n",
        "    cnn.add(clayer1)\n",
        "    cnn.add(clayer2)\n",
        "    cnn.add(clayer3)\n",
        "    cnn.add(clayer4)\n",
        "    cnn.add(clayer5)\n",
        "    cnn.add(clayer6)\n",
        "    cnn.add(clayer7)\n",
        "    cnn.add(clayer8)\n",
        "    cnn.add(clayer9)\n",
        "    cnn.add(clayer10)\n",
        "    cnn.add(clayer11)\n",
        "    cnn.add(clayer12)\n",
        "    cnn.add(clayer13)\n",
        "    cnn.add(dlayer1)\n",
        "    cnn.add(dlayer2)\n",
        "    cnn.add(dlayer3)\n",
        "    cnn.add(dlayer4)\n",
        "    cnn.add(output_layer)\n",
        "    mlpc = compile_model(cnn)\n",
        "    return mlpc"
      ],
      "execution_count": 4,
      "outputs": []
    },
    {
      "cell_type": "markdown",
      "metadata": {
        "id": "LdIS2utq9Kc9"
      },
      "source": [
        "Cross validation"
      ]
    },
    {
      "cell_type": "code",
      "metadata": {
        "id": "BVo4tbB_9Kc-"
      },
      "source": [
        "def do_cross_validation(X,y,given_model,X_VALID,Y_VALID):\n",
        "    cv_scores = []\n",
        "    fold=0\n",
        "    splitter = ShuffleSplit(n_splits=SPLITS, test_size=0.1, random_state=37863)\n",
        "    for train_index,valid_index in splitter.split(X):\n",
        "        fold += 1\n",
        "        X_train=X[train_index] # use iloc[] for dataframe\n",
        "        y_train=y[train_index]\n",
        "        X_valid=X[valid_index]\n",
        "        y_valid=y[valid_index]        \n",
        "        # Avoid continually improving the same model.\n",
        "        model = compile_model(keras.models.clone_model(given_model))\n",
        "        bestname=MODEL_FILE+\".cv.\"+str(fold)+\".best\"\n",
        "        mycallbacks = [keras.callbacks.ModelCheckpoint(\n",
        "            filepath=bestname, save_best_only=True, \n",
        "            monitor='val_accuracy', mode='max')]   \n",
        "        print(\"FIT\")\n",
        "        start_time=time.time()\n",
        "        history=model.fit(X_train, y_train, \n",
        "                epochs=EPOCHS, verbose=1, callbacks=mycallbacks,\n",
        "                validation_data=(X_valid,y_valid))\n",
        "        # THE VALIDATION ABOVE IS JUST FOR SHOW\n",
        "        end_time=time.time()\n",
        "        elapsed_time=(end_time-start_time)                        \n",
        "        print(\"Fold %d, %d epochs, %d sec\"%(fold,EPOCHS,elapsed_time))\n",
        "        pd.DataFrame(history.history).plot(figsize=(8,5))\n",
        "        plt.grid(True)\n",
        "        plt.gca().set_ylim(0,1)\n",
        "        plt.show()\n",
        "        best_model=keras.models.load_model(bestname)\n",
        "        # THE VALIDATION BELOW IS FOR KEEPS\n",
        "        scores = best_model.evaluate(X_VALID, Y_VALID, verbose=0)\n",
        "        print(\"%s: %.2f%%\" % (best_model.metrics_names[1], scores[1]*100))\n",
        "        cv_scores.append(scores[1] * 100)  \n",
        "    print()\n",
        "    print(\"%d-way Cross Validation mean %.2f%% (+/- %.2f%%)\" % (fold, np.mean(cv_scores), np.std(cv_scores)))"
      ],
      "execution_count": 5,
      "outputs": []
    },
    {
      "cell_type": "markdown",
      "metadata": {
        "id": "qd3Wj_vI9KdP"
      },
      "source": [
        "## Train on RNA lengths 200-1Kb"
      ]
    },
    {
      "cell_type": "code",
      "metadata": {
        "colab": {
          "base_uri": "https://localhost:8080/"
        },
        "id": "G1HuSs8ZbeL4",
        "outputId": "44850922-a7e7-431e-e77a-157d967440aa"
      },
      "source": [
        "print (\"Compile the model\")\n",
        "model=build_model()\n",
        "print (\"Summarize the model\")\n",
        "print(model.summary())  # Print this only once\n",
        "#model.save(MODEL_FILE+'.model')\n"
      ],
      "execution_count": 6,
      "outputs": [
        {
          "output_type": "stream",
          "text": [
            "Compile the model\n",
            "COMPILE...\n",
            "...COMPILED\n",
            "Summarize the model\n",
            "Model: \"sequential\"\n",
            "_________________________________________________________________\n",
            "Layer (type)                 Output Shape              Param #   \n",
            "=================================================================\n",
            "embedding (Embedding)        (None, 1000, 4)           16        \n",
            "_________________________________________________________________\n",
            "conv1d (Conv1D)              (None, 1000, 32)          416       \n",
            "_________________________________________________________________\n",
            "conv1d_1 (Conv1D)            (None, 1000, 32)          3104      \n",
            "_________________________________________________________________\n",
            "max_pooling1d (MaxPooling1D) (None, 500, 32)           0         \n",
            "_________________________________________________________________\n",
            "conv1d_2 (Conv1D)            (None, 500, 32)           3104      \n",
            "_________________________________________________________________\n",
            "conv1d_3 (Conv1D)            (None, 500, 32)           3104      \n",
            "_________________________________________________________________\n",
            "max_pooling1d_1 (MaxPooling1 (None, 250, 32)           0         \n",
            "_________________________________________________________________\n",
            "conv1d_4 (Conv1D)            (None, 250, 32)           3104      \n",
            "_________________________________________________________________\n",
            "conv1d_5 (Conv1D)            (None, 250, 32)           3104      \n",
            "_________________________________________________________________\n",
            "max_pooling1d_2 (MaxPooling1 (None, 125, 32)           0         \n",
            "_________________________________________________________________\n",
            "conv1d_6 (Conv1D)            (None, 125, 32)           3104      \n",
            "_________________________________________________________________\n",
            "conv1d_7 (Conv1D)            (None, 125, 32)           3104      \n",
            "_________________________________________________________________\n",
            "max_pooling1d_3 (MaxPooling1 (None, 62, 32)            0         \n",
            "_________________________________________________________________\n",
            "flatten (Flatten)            (None, 1984)              0         \n",
            "_________________________________________________________________\n",
            "dense (Dense)                (None, 24)                47640     \n",
            "_________________________________________________________________\n",
            "dropout (Dropout)            (None, 24)                0         \n",
            "_________________________________________________________________\n",
            "dense_1 (Dense)              (None, 24)                600       \n",
            "_________________________________________________________________\n",
            "dropout_1 (Dropout)          (None, 24)                0         \n",
            "_________________________________________________________________\n",
            "dense_2 (Dense)              (None, 1)                 25        \n",
            "=================================================================\n",
            "Total params: 70,425\n",
            "Trainable params: 70,425\n",
            "Non-trainable params: 0\n",
            "_________________________________________________________________\n",
            "None\n"
          ],
          "name": "stdout"
        }
      ]
    },
    {
      "cell_type": "code",
      "metadata": {
        "id": "f8fNo6sn9KdH"
      },
      "source": [
        "def load_data_from_files(nc_filename,pc_filename):\n",
        "  FREEMEM=True   # use False for debugging, True for production\n",
        "  print(\"Load data from files.\")\n",
        "  nc_seq=tools.load_fasta(nc_filename,0)\n",
        "  pc_seq=tools.load_fasta(pc_filename,1)\n",
        "  train_set=pd.concat((nc_seq,pc_seq),axis=0)\n",
        "  print(\"Ready: train_set\")\n",
        "  subset=tools.make_slice(train_set,MINLEN,MAXLEN)# One array to two: X and y\n",
        "  if FREEMEM:\n",
        "      nc_seq=None\n",
        "      pc_seq=None\n",
        "      train_set=None\n",
        "  (X1,y_train)=tools.separate_X_and_y(subset)\n",
        "  # X1 is pandas df of (\"list\" of one sequence)\n",
        "  X2=X1.to_numpy()  # numpy ndarray of (\"list\" of one sequence)\n",
        "  X3=[elem[0] for elem in X2]  # numpy ndarray of ACGT-str\n",
        "  # X3? It might be faster to use int-array than char-array. Come back to this.\n",
        "  X4=X3  # no-op\n",
        "  print(\"X4\",type(X4))\n",
        "  #print(X4[0])\n",
        "  if FREEMEM:\n",
        "      X1=None\n",
        "      X2=None\n",
        "      X3=None\n",
        "  X5=[]\n",
        "  dna_to_int = {'A':0,'C':1,'G':2,'T':3}\n",
        "  for x in X4:\n",
        "      a=[]\n",
        "      for c in x:\n",
        "          i = dna_to_int[c]\n",
        "          a.append(i)\n",
        "      X5.append(a)\n",
        "  X5=np.asarray(X5)\n",
        "  print(\"X5\",type(X5))\n",
        "  print(X5.shape)\n",
        "  if FREEMEM:\n",
        "      X4=None\n",
        "  X_train=X5\n",
        "  if FREEMEM:\n",
        "      X5=None\n",
        "  print(\"X_train\",type(X_train))\n",
        "  y_train=y_train.to_numpy()\n",
        "  print(X_train.shape)\n",
        "  print(X_train[0].shape)\n",
        "  print(X_train[0])\n",
        "  return X_train,y_train\n"
      ],
      "execution_count": 7,
      "outputs": []
    },
    {
      "cell_type": "code",
      "metadata": {
        "colab": {
          "base_uri": "https://localhost:8080/"
        },
        "id": "UmEls9oXRQON",
        "outputId": "75103d2a-e24a-498b-ac54-d94aa339477e"
      },
      "source": [
        "print(\"Loading training data...\")\n",
        "X_train,y_train = load_data_from_files(NC_FILENAME,PC_FILENAME)"
      ],
      "execution_count": 8,
      "outputs": [
        {
          "output_type": "stream",
          "text": [
            "Loading training data...\n",
            "Load data from files.\n",
            "Ready: train_set\n",
            "X4 <class 'list'>\n",
            "X5 <class 'numpy.ndarray'>\n",
            "(192000, 1000)\n",
            "X_train <class 'numpy.ndarray'>\n",
            "(192000, 1000)\n",
            "(1000,)\n",
            "[3 2 1 3 3 3 3 3 2 2 3 1 2 1 2 3 3 2 1 1 3 2 2 3 0 1 0 2 1 3 1 3 0 1 0 2 1\n",
            " 1 0 3 2 1 1 2 2 0 3 3 2 2 2 3 0 0 3 0 2 2 1 3 2 3 2 3 3 1 2 0 0 3 1 3 3 3\n",
            " 2 0 0 3 0 2 1 2 3 1 2 3 1 1 0 3 3 1 2 1 0 2 1 1 0 3 2 1 0 1 1 1 2 0 3 1 1\n",
            " 0 1 1 2 2 1 3 0 3 2 1 1 0 1 2 2 2 2 2 2 2 1 0 2 1 3 3 2 0 2 1 2 2 1 0 3 0\n",
            " 2 3 1 3 0 2 2 1 0 2 2 2 2 1 1 1 3 0 2 1 1 3 0 2 0 2 1 1 0 2 3 1 1 2 0 0 0\n",
            " 1 3 3 2 0 1 0 3 2 0 3 2 1 2 3 1 1 3 1 0 2 0 1 2 0 1 1 2 0 3 0 2 0 0 0 1 3\n",
            " 3 1 0 3 3 1 3 3 0 3 0 3 2 2 2 1 1 3 1 3 2 3 1 3 3 1 3 0 3 2 1 3 0 3 0 3 2\n",
            " 3 1 2 3 3 3 1 2 0 0 2 1 3 0 0 3 2 0 1 3 0 2 0 1 3 2 1 3 0 0 1 1 2 0 0 3 1\n",
            " 3 2 2 3 1 1 0 0 0 0 0 2 2 3 3 2 3 0 3 1 2 2 2 2 0 3 3 0 0 0 1 2 2 0 3 3 2\n",
            " 0 0 0 2 0 1 3 1 2 3 1 1 0 1 2 3 2 0 3 0 1 0 0 1 2 3 1 1 1 1 1 2 0 1 0 1 0\n",
            " 2 0 3 0 0 1 1 0 3 2 3 0 1 2 3 3 2 3 2 0 2 1 1 2 3 0 3 2 0 0 1 0 0 0 3 1 3\n",
            " 2 2 2 2 0 1 2 3 0 1 3 0 0 3 1 2 1 1 3 1 0 1 0 1 2 0 1 3 0 3 2 1 3 0 2 0 0\n",
            " 1 2 2 3 3 0 1 1 3 0 1 3 1 1 2 1 3 0 3 1 3 3 1 2 1 2 0 1 2 1 3 0 3 2 3 1 1\n",
            " 1 3 2 2 2 2 0 1 3 3 2 0 1 2 3 0 1 3 0 2 2 3 0 1 3 1 1 0 3 1 2 1 3 1 0 2 2\n",
            " 1 2 0 1 2 1 2 3 3 1 3 1 1 0 3 3 2 3 3 1 3 2 1 0 2 2 1 0 2 2 2 0 2 1 3 0 1\n",
            " 0 1 2 1 0 2 3 0 3 2 3 2 3 1 3 2 3 3 2 0 3 0 2 1 2 1 1 0 0 0 2 2 1 2 2 0 0\n",
            " 2 2 1 0 1 0 1 0 3 1 0 2 3 2 1 0 1 2 2 1 1 3 2 0 2 0 2 0 0 3 1 3 3 1 3 2 1\n",
            " 3 2 3 1 1 0 3 1 1 2 2 3 1 0 0 3 0 1 0 3 2 1 0 1 1 2 2 2 0 0 2 1 3 3 1 2 2\n",
            " 0 1 2 2 3 3 0 1 1 1 2 1 0 2 3 0 3 0 0 2 2 0 2 3 2 2 1 3 0 0 2 2 1 1 3 2 2\n",
            " 3 3 1 2 3 3 0 3 0 1 0 2 3 3 1 2 0 1 2 2 3 1 2 0 0 1 2 3 0 1 0 1 1 1 2 2 3\n",
            " 2 1 3 2 2 1 1 0 1 0 2 0 2 1 2 1 2 0 2 2 2 0 3 0 0 2 3 0 3 1 2 1 1 0 2 2 3\n",
            " 1 0 0 0 2 0 3 2 1 2 3 3 3 3 3 1 2 2 2 2 2 0 2 3 0 1 2 1 2 3 0 2 1 1 3 3 3\n",
            " 1 0 3 2 0 1 2 1 3 0 2 1 2 0 1 3 1 3 1 0 0 3 3 1 3 3 0 1 2 0 2 3 3 3 0 0 3\n",
            " 2 2 0 1 3 0 0 0 1 3 3 3 2 1 0 3 1 0 0 1 3 3 0 1 3 3 0 0 2 0 0 1 0 2 2 0 3\n",
            " 3 3 1 1 0 1 3 0 3 1 0 1 2 0 2 1 0 3 2 1 3 1 2 0 1 0 1 1 2 3 3 1 2 1 1 2 3\n",
            " 1 1 2 3 2 1 3 3 0 1 1 0 2 3 3 0 3 3 3 0 2 2 3 1 0 2 1 3 2 3 3 3 2 0 0 2 2\n",
            " 1 0 1 3 1 0 0 0 3 3 3 3 1 0 0 1 0 2 3 1 2 2 0 3 2 3 3 2 1 2 0 1 0 0 3 1 3\n",
            " 3]\n"
          ],
          "name": "stdout"
        }
      ]
    },
    {
      "cell_type": "code",
      "metadata": {
        "colab": {
          "base_uri": "https://localhost:8080/"
        },
        "id": "sfvgDZR1a_2j",
        "outputId": "5cb85b11-30d2-4d58-b9e6-f37cad1ad28d"
      },
      "source": [
        "print(\"Loading validation data...\")\n",
        "X_VALID,Y_VALID = load_data_from_files(NC_VAL_FILE,PC_VAL_FILE)"
      ],
      "execution_count": 9,
      "outputs": [
        {
          "output_type": "stream",
          "text": [
            "Loading validation data...\n",
            "Load data from files.\n",
            "Ready: train_set\n",
            "X4 <class 'list'>\n",
            "X5 <class 'numpy.ndarray'>\n",
            "(100000, 1000)\n",
            "X_train <class 'numpy.ndarray'>\n",
            "(100000, 1000)\n",
            "(1000,)\n",
            "[0 2 0 0 3 3 1 2 2 3 1 2 2 0 2 0 2 2 2 1 2 0 3 2 0 3 0 0 3 3 2 3 0 3 3 1 0\n",
            " 1 1 0 2 1 1 1 1 2 3 3 0 2 1 1 3 2 3 2 1 2 3 3 0 0 1 2 2 2 3 2 0 1 2 2 2 2\n",
            " 2 1 3 3 0 1 2 0 1 2 0 3 2 3 2 3 1 3 3 1 3 0 2 1 1 1 2 3 2 2 2 1 0 3 3 2 3\n",
            " 3 3 1 1 3 3 2 1 1 2 1 3 2 2 1 3 1 3 1 0 0 3 2 2 2 1 2 0 0 1 0 2 0 1 3 2 1\n",
            " 3 2 2 0 3 1 2 0 3 3 3 2 3 2 1 0 0 3 0 2 0 2 1 2 1 1 0 2 3 0 1 2 0 1 2 2 0\n",
            " 2 1 2 3 1 1 1 2 3 3 3 2 1 1 0 2 3 1 1 2 1 0 0 3 2 1 0 2 2 3 2 0 0 3 1 3 0\n",
            " 2 3 0 2 3 1 2 3 1 1 2 3 3 3 3 3 0 0 1 0 0 0 2 0 2 2 0 3 3 0 0 0 0 2 2 2 1\n",
            " 0 0 1 1 1 0 2 0 3 1 2 0 0 3 3 1 1 2 1 3 2 3 2 1 2 2 0 0 1 0 1 0 3 3 3 0 0\n",
            " 0 2 3 0 3 2 3 0 1 1 3 0 1 1 1 3 2 1 3 3 1 0 0 0 1 2 3 0 2 3 1 1 1 3 0 3 1\n",
            " 2 0 1 2 1 2 2 3 1 1 1 2 0 2 0 0 3 3 0 2 1 0 0 1 0 1 3 3 2 3 3 1 0 3 2 3 0\n",
            " 2 3 3 2 0 1 0 0 3 1 1 2 2 1 3 2 0 1 0 0 3 2 3 1 0 3 0 3 3 1 1 3 0 0 0 1 2\n",
            " 1 1 1 3 1 2 2 1 1 1 2 1 0 1 1 2 3 2 1 2 1 3 3 2 3 2 2 2 3 3 0 3 1 0 3 3 0\n",
            " 3 2 2 0 1 2 1 1 1 0 3 3 0 1 1 2 3 2 1 2 2 2 0 0 0 2 1 2 1 3 0 3 1 0 0 1 3\n",
            " 2 3 3 2 1 0 3 3 0 1 1 0 0 3 3 1 0 2 2 1 2 0 0 0 2 0 1 2 2 3 1 0 0 2 0 0 1\n",
            " 3 3 2 0 1 0 3 1 3 2 2 0 1 1 0 2 0 0 0 3 2 3 2 0 0 3 3 2 1 3 0 0 2 1 2 1 2\n",
            " 1 0 2 2 2 3 2 3 3 2 1 2 0 0 2 3 1 0 1 2 1 3 2 3 1 0 2 0 2 1 0 2 1 1 1 1 3\n",
            " 1 2 3 3 0 3 0 2 2 1 2 3 2 0 2 0 2 3 2 3 3 0 0 1 0 3 1 1 0 0 2 0 1 3 3 2 1\n",
            " 3 3 3 0 2 2 3 1 2 1 3 2 3 0 2 3 1 0 2 0 2 2 0 1 3 3 0 0 0 3 0 1 1 0 0 3 0\n",
            " 0 1 2 0 2 3 1 1 2 3 2 2 1 2 1 0 1 0 3 0 3 1 1 1 3 3 3 2 2 3 3 3 1 3 3 1 3\n",
            " 0 2 3 0 2 2 3 0 3 3 1 3 1 1 2 3 0 3 2 0 1 1 3 1 1 1 1 3 0 1 3 2 1 0 2 3 2\n",
            " 3 2 3 2 2 1 2 2 1 1 2 3 1 2 0 1 3 0 1 3 1 0 1 3 3 3 3 1 1 1 1 2 2 2 0 0 2\n",
            " 1 0 0 3 1 0 2 2 2 2 1 2 3 2 2 0 3 1 1 1 1 3 0 0 2 1 3 0 2 2 0 3 3 0 2 2 2\n",
            " 3 2 1 3 3 1 3 3 3 2 0 1 3 2 0 2 2 1 0 2 3 1 0 1 3 0 1 1 1 0 1 3 2 3 2 2 3\n",
            " 2 3 1 0 1 0 3 0 1 1 2 0 3 1 0 2 1 1 2 0 0 1 3 2 1 3 1 3 0 2 3 1 0 1 0 2 2\n",
            " 0 1 3 2 3 1 2 0 2 2 3 3 3 2 0 3 1 1 1 1 0 2 3 2 1 0 3 3 1 3 2 1 0 0 1 2 2\n",
            " 3 2 1 0 0 2 2 3 0 2 0 1 2 3 3 1 0 3 2 3 0 2 1 2 3 0 1 0 2 3 1 0 1 0 1 0 1\n",
            " 0 0 3 1 3 0 1 2 0 0 3 0 2 2 1 1 1 3 2 0 2 2 1 2 0 0 1 1 2 2 1 1 1 1 1 2 0\n",
            " 3]\n"
          ],
          "name": "stdout"
        }
      ]
    },
    {
      "cell_type": "code",
      "metadata": {
        "colab": {
          "base_uri": "https://localhost:8080/",
          "height": 1000
        },
        "id": "mQ8eW5Rg9KdQ",
        "outputId": "75dc043e-2e0f-48c6-fe1c-0af6c04be5a6"
      },
      "source": [
        "print (\"Cross validation\")\n",
        "do_cross_validation(X_train,y_train,model,X_VALID,Y_VALID)  \n",
        "print (\"Done\")"
      ],
      "execution_count": 10,
      "outputs": [
        {
          "output_type": "stream",
          "text": [
            "Cross validation\n",
            "COMPILE...\n",
            "...COMPILED\n",
            "FIT\n",
            "Epoch 1/10\n",
            "5400/5400 [==============================] - 30s 5ms/step - loss: 0.5973 - accuracy: 0.6562 - val_loss: 0.4841 - val_accuracy: 0.7659\n",
            "INFO:tensorflow:Assets written to: /content/drive/My Drive/data/Test__96K.cv.1.best/assets\n",
            "Epoch 2/10\n",
            "5400/5400 [==============================] - 26s 5ms/step - loss: 0.4855 - accuracy: 0.7686 - val_loss: 0.4624 - val_accuracy: 0.7801\n",
            "INFO:tensorflow:Assets written to: /content/drive/My Drive/data/Test__96K.cv.1.best/assets\n",
            "Epoch 3/10\n",
            "5400/5400 [==============================] - 27s 5ms/step - loss: 0.4430 - accuracy: 0.7958 - val_loss: 0.2767 - val_accuracy: 0.8856\n",
            "INFO:tensorflow:Assets written to: /content/drive/My Drive/data/Test__96K.cv.1.best/assets\n",
            "Epoch 4/10\n",
            "5400/5400 [==============================] - 26s 5ms/step - loss: 0.2050 - accuracy: 0.9191 - val_loss: 0.0621 - val_accuracy: 0.9793\n",
            "INFO:tensorflow:Assets written to: /content/drive/My Drive/data/Test__96K.cv.1.best/assets\n",
            "Epoch 5/10\n",
            "5400/5400 [==============================] - 27s 5ms/step - loss: 0.0629 - accuracy: 0.9792 - val_loss: 0.0306 - val_accuracy: 0.9918\n",
            "INFO:tensorflow:Assets written to: /content/drive/My Drive/data/Test__96K.cv.1.best/assets\n",
            "Epoch 6/10\n",
            "5400/5400 [==============================] - 27s 5ms/step - loss: 0.0440 - accuracy: 0.9865 - val_loss: 0.0309 - val_accuracy: 0.9904\n",
            "Epoch 7/10\n",
            "5400/5400 [==============================] - 27s 5ms/step - loss: 0.0366 - accuracy: 0.9889 - val_loss: 0.0210 - val_accuracy: 0.9948\n",
            "INFO:tensorflow:Assets written to: /content/drive/My Drive/data/Test__96K.cv.1.best/assets\n",
            "Epoch 8/10\n",
            "5400/5400 [==============================] - 27s 5ms/step - loss: 0.0310 - accuracy: 0.9911 - val_loss: 0.0278 - val_accuracy: 0.9933\n",
            "Epoch 9/10\n",
            "5400/5400 [==============================] - 27s 5ms/step - loss: 0.0291 - accuracy: 0.9918 - val_loss: 0.0211 - val_accuracy: 0.9951\n",
            "INFO:tensorflow:Assets written to: /content/drive/My Drive/data/Test__96K.cv.1.best/assets\n",
            "Epoch 10/10\n",
            "5400/5400 [==============================] - 26s 5ms/step - loss: 0.0258 - accuracy: 0.9930 - val_loss: 0.0206 - val_accuracy: 0.9953\n",
            "INFO:tensorflow:Assets written to: /content/drive/My Drive/data/Test__96K.cv.1.best/assets\n",
            "Fold 1, 10 epochs, 285 sec\n"
          ],
          "name": "stdout"
        },
        {
          "output_type": "display_data",
          "data": {
            "image/png": "[encoded data removed]",
            "text/plain": [
              "<Figure size 576x360 with 1 Axes>"
            ]
          },
          "metadata": {
            "tags": [],
            "needs_background": "light"
          }
        },
        {
          "output_type": "stream",
          "text": [
            "accuracy: 99.50%\n",
            "COMPILE...\n",
            "...COMPILED\n",
            "FIT\n",
            "Epoch 1/10\n",
            "5400/5400 [==============================] - 28s 5ms/step - loss: 0.5983 - accuracy: 0.6562 - val_loss: 0.4557 - val_accuracy: 0.7862\n",
            "INFO:tensorflow:Assets written to: /content/drive/My Drive/data/Test__96K.cv.2.best/assets\n",
            "Epoch 2/10\n",
            "5400/5400 [==============================] - 27s 5ms/step - loss: 0.4664 - accuracy: 0.7820 - val_loss: 0.3790 - val_accuracy: 0.8302\n",
            "INFO:tensorflow:Assets written to: /content/drive/My Drive/data/Test__96K.cv.2.best/assets\n",
            "Epoch 3/10\n",
            "5400/5400 [==============================] - 27s 5ms/step - loss: 0.3206 - accuracy: 0.8615 - val_loss: 0.0573 - val_accuracy: 0.9831\n",
            "INFO:tensorflow:Assets written to: /content/drive/My Drive/data/Test__96K.cv.2.best/assets\n",
            "Epoch 4/10\n",
            "5400/5400 [==============================] - 27s 5ms/step - loss: 0.0745 - accuracy: 0.9754 - val_loss: 0.0449 - val_accuracy: 0.9871\n",
            "INFO:tensorflow:Assets written to: /content/drive/My Drive/data/Test__96K.cv.2.best/assets\n",
            "Epoch 5/10\n",
            "5400/5400 [==============================] - 27s 5ms/step - loss: 0.0437 - accuracy: 0.9871 - val_loss: 0.0239 - val_accuracy: 0.9939\n",
            "INFO:tensorflow:Assets written to: /content/drive/My Drive/data/Test__96K.cv.2.best/assets\n",
            "Epoch 6/10\n",
            "5400/5400 [==============================] - 27s 5ms/step - loss: 0.0331 - accuracy: 0.9901 - val_loss: 0.0322 - val_accuracy: 0.9917\n",
            "Epoch 7/10\n",
            "5400/5400 [==============================] - 26s 5ms/step - loss: 0.0283 - accuracy: 0.9916 - val_loss: 0.0187 - val_accuracy: 0.9956\n",
            "INFO:tensorflow:Assets written to: /content/drive/My Drive/data/Test__96K.cv.2.best/assets\n",
            "Epoch 8/10\n",
            "5400/5400 [==============================] - 26s 5ms/step - loss: 0.0265 - accuracy: 0.9929 - val_loss: 0.0265 - val_accuracy: 0.9939\n",
            "Epoch 9/10\n",
            "5400/5400 [==============================] - 26s 5ms/step - loss: 0.0254 - accuracy: 0.9932 - val_loss: 0.0196 - val_accuracy: 0.9960\n",
            "INFO:tensorflow:Assets written to: /content/drive/My Drive/data/Test__96K.cv.2.best/assets\n",
            "Epoch 10/10\n",
            "5400/5400 [==============================] - 26s 5ms/step - loss: 0.0222 - accuracy: 0.9939 - val_loss: 0.0211 - val_accuracy: 0.9949\n",
            "Fold 2, 10 epochs, 281 sec\n"
          ],
          "name": "stdout"
        },
        {
          "output_type": "display_data",
          "data": {
            "image/png": "[encoded data removed]",
            "text/plain": [
              "<Figure size 576x360 with 1 Axes>"
            ]
          },
          "metadata": {
            "tags": [],
            "needs_background": "light"
          }
        },
        {
          "output_type": "stream",
          "text": [
            "accuracy: 99.50%\n",
            "COMPILE...\n",
            "...COMPILED\n",
            "FIT\n",
            "Epoch 1/10\n",
            "5400/5400 [==============================] - 28s 5ms/step - loss: 0.5755 - accuracy: 0.6826 - val_loss: 0.4662 - val_accuracy: 0.7789\n",
            "INFO:tensorflow:Assets written to: /content/drive/My Drive/data/Test__96K.cv.3.best/assets\n",
            "Epoch 2/10\n",
            "5400/5400 [==============================] - 26s 5ms/step - loss: 0.4546 - accuracy: 0.7884 - val_loss: 0.2926 - val_accuracy: 0.8770\n",
            "INFO:tensorflow:Assets written to: /content/drive/My Drive/data/Test__96K.cv.3.best/assets\n",
            "Epoch 3/10\n",
            "5400/5400 [==============================] - 26s 5ms/step - loss: 0.2685 - accuracy: 0.8892 - val_loss: 0.0932 - val_accuracy: 0.9667\n",
            "INFO:tensorflow:Assets written to: /content/drive/My Drive/data/Test__96K.cv.3.best/assets\n",
            "Epoch 4/10\n",
            "5400/5400 [==============================] - 27s 5ms/step - loss: 0.0814 - accuracy: 0.9724 - val_loss: 0.0523 - val_accuracy: 0.9845\n",
            "INFO:tensorflow:Assets written to: /content/drive/My Drive/data/Test__96K.cv.3.best/assets\n",
            "Epoch 5/10\n",
            "5400/5400 [==============================] - 26s 5ms/step - loss: 0.0498 - accuracy: 0.9847 - val_loss: 0.0497 - val_accuracy: 0.9861\n",
            "INFO:tensorflow:Assets written to: /content/drive/My Drive/data/Test__96K.cv.3.best/assets\n",
            "Epoch 6/10\n",
            "5400/5400 [==============================] - 28s 5ms/step - loss: 0.0395 - accuracy: 0.9878 - val_loss: 0.0446 - val_accuracy: 0.9891\n",
            "INFO:tensorflow:Assets written to: /content/drive/My Drive/data/Test__96K.cv.3.best/assets\n",
            "Epoch 7/10\n",
            "5400/5400 [==============================] - 27s 5ms/step - loss: 0.0351 - accuracy: 0.9901 - val_loss: 0.0348 - val_accuracy: 0.9906\n",
            "INFO:tensorflow:Assets written to: /content/drive/My Drive/data/Test__96K.cv.3.best/assets\n",
            "Epoch 8/10\n",
            "5400/5400 [==============================] - 27s 5ms/step - loss: 0.0297 - accuracy: 0.9915 - val_loss: 0.0201 - val_accuracy: 0.9949\n",
            "INFO:tensorflow:Assets written to: /content/drive/My Drive/data/Test__96K.cv.3.best/assets\n",
            "Epoch 9/10\n",
            "5400/5400 [==============================] - 27s 5ms/step - loss: 0.0284 - accuracy: 0.9923 - val_loss: 0.0233 - val_accuracy: 0.9944\n",
            "Epoch 10/10\n",
            "5400/5400 [==============================] - 26s 5ms/step - loss: 0.0241 - accuracy: 0.9934 - val_loss: 0.0172 - val_accuracy: 0.9964\n",
            "INFO:tensorflow:Assets written to: /content/drive/My Drive/data/Test__96K.cv.3.best/assets\n",
            "Fold 3, 10 epochs, 285 sec\n"
          ],
          "name": "stdout"
        },
        {
          "output_type": "display_data",
          "data": {
            "image/png": "[encoded data removed]",
            "text/plain": [
              "<Figure size 576x360 with 1 Axes>"
            ]
          },
          "metadata": {
            "tags": [],
            "needs_background": "light"
          }
        },
        {
          "output_type": "stream",
          "text": [
            "accuracy: 99.57%\n",
            "COMPILE...\n",
            "...COMPILED\n",
            "FIT\n",
            "Epoch 1/10\n",
            "5400/5400 [==============================] - 28s 5ms/step - loss: 0.5930 - accuracy: 0.6656 - val_loss: 0.4748 - val_accuracy: 0.7743\n",
            "INFO:tensorflow:Assets written to: /content/drive/My Drive/data/Test__96K.cv.4.best/assets\n",
            "Epoch 2/10\n",
            "5400/5400 [==============================] - 26s 5ms/step - loss: 0.4613 - accuracy: 0.7840 - val_loss: 0.3262 - val_accuracy: 0.8565\n",
            "INFO:tensorflow:Assets written to: /content/drive/My Drive/data/Test__96K.cv.4.best/assets\n",
            "Epoch 3/10\n",
            "5400/5400 [==============================] - 27s 5ms/step - loss: 0.2792 - accuracy: 0.8844 - val_loss: 0.0509 - val_accuracy: 0.9846\n",
            "INFO:tensorflow:Assets written to: /content/drive/My Drive/data/Test__96K.cv.4.best/assets\n",
            "Epoch 4/10\n",
            "5400/5400 [==============================] - 27s 5ms/step - loss: 0.0759 - accuracy: 0.9742 - val_loss: 0.0379 - val_accuracy: 0.9880\n",
            "INFO:tensorflow:Assets written to: /content/drive/My Drive/data/Test__96K.cv.4.best/assets\n",
            "Epoch 5/10\n",
            "5400/5400 [==============================] - 27s 5ms/step - loss: 0.0502 - accuracy: 0.9842 - val_loss: 0.0289 - val_accuracy: 0.9924\n",
            "INFO:tensorflow:Assets written to: /content/drive/My Drive/data/Test__96K.cv.4.best/assets\n",
            "Epoch 6/10\n",
            "5400/5400 [==============================] - 27s 5ms/step - loss: 0.0415 - accuracy: 0.9873 - val_loss: 0.0294 - val_accuracy: 0.9920\n",
            "Epoch 7/10\n",
            "5400/5400 [==============================] - 27s 5ms/step - loss: 0.0337 - accuracy: 0.9906 - val_loss: 0.0279 - val_accuracy: 0.9928\n",
            "INFO:tensorflow:Assets written to: /content/drive/My Drive/data/Test__96K.cv.4.best/assets\n",
            "Epoch 8/10\n",
            "5400/5400 [==============================] - 27s 5ms/step - loss: 0.0304 - accuracy: 0.9916 - val_loss: 0.0313 - val_accuracy: 0.9914\n",
            "Epoch 9/10\n",
            "5400/5400 [==============================] - 27s 5ms/step - loss: 0.0266 - accuracy: 0.9926 - val_loss: 0.0223 - val_accuracy: 0.9954\n",
            "INFO:tensorflow:Assets written to: /content/drive/My Drive/data/Test__96K.cv.4.best/assets\n",
            "Epoch 10/10\n",
            "5400/5400 [==============================] - 27s 5ms/step - loss: 0.0252 - accuracy: 0.9929 - val_loss: 0.0218 - val_accuracy: 0.9949\n",
            "Fold 4, 10 epochs, 282 sec\n"
          ],
          "name": "stdout"
        },
        {
          "output_type": "display_data",
          "data": {
            "image/png": "[encoded data removed]",
            "text/plain": [
              "<Figure size 576x360 with 1 Axes>"
            ]
          },
          "metadata": {
            "tags": [],
            "needs_background": "light"
          }
        },
        {
          "output_type": "stream",
          "text": [
            "accuracy: 99.50%\n",
            "COMPILE...\n",
            "...COMPILED\n",
            "FIT\n",
            "Epoch 1/10\n",
            "5400/5400 [==============================] - 28s 5ms/step - loss: 0.5857 - accuracy: 0.6689 - val_loss: 0.4809 - val_accuracy: 0.7679\n",
            "INFO:tensorflow:Assets written to: /content/drive/My Drive/data/Test__96K.cv.5.best/assets\n",
            "Epoch 2/10\n",
            "5400/5400 [==============================] - 27s 5ms/step - loss: 0.4616 - accuracy: 0.7838 - val_loss: 0.3695 - val_accuracy: 0.8327\n",
            "INFO:tensorflow:Assets written to: /content/drive/My Drive/data/Test__96K.cv.5.best/assets\n",
            "Epoch 3/10\n",
            "5400/5400 [==============================] - 27s 5ms/step - loss: 0.2756 - accuracy: 0.8854 - val_loss: 0.0882 - val_accuracy: 0.9692\n",
            "INFO:tensorflow:Assets written to: /content/drive/My Drive/data/Test__96K.cv.5.best/assets\n",
            "Epoch 4/10\n",
            "5400/5400 [==============================] - 27s 5ms/step - loss: 0.0678 - accuracy: 0.9777 - val_loss: 0.0318 - val_accuracy: 0.9904\n",
            "INFO:tensorflow:Assets written to: /content/drive/My Drive/data/Test__96K.cv.5.best/assets\n",
            "Epoch 5/10\n",
            "5400/5400 [==============================] - 27s 5ms/step - loss: 0.0458 - accuracy: 0.9858 - val_loss: 0.0262 - val_accuracy: 0.9930\n",
            "INFO:tensorflow:Assets written to: /content/drive/My Drive/data/Test__96K.cv.5.best/assets\n",
            "Epoch 6/10\n",
            "5400/5400 [==============================] - 27s 5ms/step - loss: 0.0352 - accuracy: 0.9899 - val_loss: 0.0208 - val_accuracy: 0.9942\n",
            "INFO:tensorflow:Assets written to: /content/drive/My Drive/data/Test__96K.cv.5.best/assets\n",
            "Epoch 7/10\n",
            "5400/5400 [==============================] - 28s 5ms/step - loss: 0.0321 - accuracy: 0.9911 - val_loss: 0.0169 - val_accuracy: 0.9960\n",
            "INFO:tensorflow:Assets written to: /content/drive/My Drive/data/Test__96K.cv.5.best/assets\n",
            "Epoch 8/10\n",
            "5400/5400 [==============================] - 27s 5ms/step - loss: 0.0286 - accuracy: 0.9917 - val_loss: 0.0195 - val_accuracy: 0.9956\n",
            "Epoch 9/10\n",
            "5400/5400 [==============================] - 27s 5ms/step - loss: 0.0262 - accuracy: 0.9931 - val_loss: 0.0214 - val_accuracy: 0.9947\n",
            "Epoch 10/10\n",
            "5400/5400 [==============================] - 27s 5ms/step - loss: 0.0239 - accuracy: 0.9935 - val_loss: 0.0178 - val_accuracy: 0.9961\n",
            "INFO:tensorflow:Assets written to: /content/drive/My Drive/data/Test__96K.cv.5.best/assets\n",
            "Fold 5, 10 epochs, 289 sec\n"
          ],
          "name": "stdout"
        },
        {
          "output_type": "display_data",
          "data": {
            "image/png": "[encoded data removed]",
            "text/plain": [
              "<Figure size 576x360 with 1 Axes>"
            ]
          },
          "metadata": {
            "tags": [],
            "needs_background": "light"
          }
        },
        {
          "output_type": "stream",
          "text": [
            "accuracy: 99.54%\n",
            "\n",
            "5-way Cross Validation mean 99.52% (+/- 0.03%)\n",
            "Done\n"
          ],
          "name": "stdout"
        }
      ]
    },
    {
      "cell_type": "code",
      "metadata": {
        "id": "p4fh2GI8beMQ"
      },
      "source": [
        ""
      ],
      "execution_count": 10,
      "outputs": []
    }
  ]
}