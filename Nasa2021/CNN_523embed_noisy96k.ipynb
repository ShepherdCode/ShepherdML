{
  "nbformat": 4,
  "nbformat_minor": 0,
  "metadata": {
    "accelerator": "GPU",
    "colab": {
      "name": "CNN_523embed_noisy96k.ipynb",
      "provenance": [],
      "collapsed_sections": [],
      "machine_shape": "hm",
      "include_colab_link": true
    },
    "kernelspec": {
      "display_name": "Python 3",
      "language": "python",
      "name": "python3"
    },
    "language_info": {
      "codemirror_mode": {
        "name": "ipython",
        "version": 3
      },
      "file_extension": ".py",
      "mimetype": "text/x-python",
      "name": "python",
      "nbconvert_exporter": "python",
      "pygments_lexer": "ipython3",
      "version": "3.8.3"
    }
  },
  "cells": [
    {
      "cell_type": "markdown",
      "metadata": {
        "id": "view-in-github",
        "colab_type": "text"
      },
      "source": [
        "<a href=\"https://colab.research.google.com/github/ShepherdCode/ShepherdML/blob/master/Nasa2021/CNN_523embed_noisy96k.ipynb\" target=\"_parent\"><img src=\"https://colab.research.google.com/assets/colab-badge.svg\" alt=\"Open In Colab\"/></a>"
      ]
    },
    {
      "cell_type": "code",
      "metadata": {
        "id": "PJDmazbCyqHC"
      },
      "source": [
        ""
      ],
      "execution_count": null,
      "outputs": []
    },
    {
      "cell_type": "markdown",
      "metadata": {
        "id": "view-in-github"
      },
      "source": [
        "<a href=\"https://colab.research.google.com/github/ShepherdCode/ShepherdML/blob/master/Nasa2021/CNN_523.ipynb\" target=\"_parent\"><img src=\"https://colab.research.google.com/assets/colab-badge.svg\" alt=\"Open In Colab\"/></a>"
      ]
    },
    {
      "cell_type": "markdown",
      "metadata": {
        "id": "ojm_6E9f9Kcf"
      },
      "source": [
        "# CNN 523 96k noisy\n",
        "\n",
        "1. Four layers of CNNS and MaxPooling\n",
        "2. Drop out at 0.2\n",
        "3. Variable filters and dense neurons\n",
        "4. 10% Noise, datasets of 3k coding and noncoding from 3k to 192k\n",
        "\n",
        "\n",
        "\n",
        "\n",
        "\n",
        "\n",
        "\n",
        "\n",
        "\n",
        "\n",
        "\n",
        "\n"
      ]
    },
    {
      "cell_type": "code",
      "metadata": {
        "colab": {
          "base_uri": "https://localhost:8080/"
        },
        "id": "hh6XplUvC0j0",
        "outputId": "20dace8a-bb42-4b40-f72b-64711fb01a88"
      },
      "source": [
        "#NC_FILENAME='ncRNA.tiny50.fasta'\n",
        "#PC_FILENAME='pcRNA.tiny50.fasta'\n",
        "#NC_FILENAME='ncRNA.gc34.processed.fasta'\n",
        "#PC_FILENAME='pcRNA.gc34.processed.fasta'\n",
        "NC_FILENAME='noisy_noncod_96000_10.fasta'  # CHANGE THIS TO 1000, 2000, 4000, etc.\n",
        "PC_FILENAME='noisy_coding_96000_10.fasta'\n",
        "NC_VAL_FILE='noncod_validation.fasta'  # 'noncod_validation.fasta'  # CHANGE THIS TO THE UNIFORM VALIDATION FILE\n",
        "PC_VAL_FILE='coding_validation.fasta'  # 'coding_validation.fasta'\n",
        "\n",
        "MODEL_FILE='JUNK2'   # CHANGE THIS IF YOU WANT TO SAVE THE MODEL!\n",
        "DATAPATH=''\n",
        "\n",
        "try:\n",
        "    from google.colab import drive\n",
        "    IN_COLAB = True\n",
        "    PATH='/content/drive/'\n",
        "    drive.mount(PATH)\n",
        "    DATAPATH=PATH+'My Drive/data/'  # must end in \"/\"\n",
        "except:\n",
        "    IN_COLAB = False\n",
        "    DATAPATH='data/'  # must end in \"/\"\n",
        "NC_FILENAME = DATAPATH+NC_FILENAME\n",
        "PC_FILENAME = DATAPATH+PC_FILENAME\n",
        "NC_VAL_FILE = DATAPATH+NC_VAL_FILE\n",
        "PC_VAL_FILE = DATAPATH+PC_VAL_FILE\n",
        "MODEL_FILE=DATAPATH+MODEL_FILE\n",
        "\n",
        "EPOCHS=20  # DECIDE ON SOME AMOUNT AND STICK WITH IT\n",
        "SPLITS=5\n",
        "K=1\n",
        "VOCABULARY_SIZE=4**K+1   # e.g. K=3 => 64 DNA K-mers + 'NNN'\n",
        "EMBED_DIMEN=2\n",
        "FILTERS=32\n",
        "KERNEL=3\n",
        "NEURONS=24\n",
        "DROP=0.2\n",
        "MINLEN=200\n",
        "MAXLEN=1000    # THIS HAS TO MATCH THE SIMULATION DATA\n",
        "DENSE_LEN = 1000\n",
        "ACT=\"tanh\""
      ],
      "execution_count": 1,
      "outputs": [
        {
          "output_type": "stream",
          "text": [
            "Drive already mounted at /content/drive/; to attempt to forcibly remount, call drive.mount(\"/content/drive/\", force_remount=True).\n"
          ],
          "name": "stdout"
        }
      ]
    },
    {
      "cell_type": "code",
      "metadata": {
        "colab": {
          "base_uri": "https://localhost:8080/"
        },
        "id": "e9TY3HK9ZklE",
        "outputId": "40df332e-88b6-4f15-bd60-196b07b28447"
      },
      "source": [
        "# Load our own tools\n",
        "# TO DO: don't go to GitHub if the file is already local.\n",
        "GITHUB = True\n",
        "if GITHUB:\n",
        "    #!pip install requests  # Uncomment this if necessary. Seems to be pre-installed.\n",
        "    import requests\n",
        "    r = requests.get('https://raw.githubusercontent.com/ShepherdCode/ShepherdML/master/Strings/tools_fasta.py')\n",
        "    with open('tools_fasta.py', 'w') as f:\n",
        "        f.write(r.text)\n",
        "    # TO DO: delete the file after import\n",
        "import tools_fasta as tools\n",
        "tools.yahoo()  # If this prints \"Yahoo!\" the the import was successful.\n",
        "\n",
        "TOOLS_CHANGED = False   # set to True to re-run with a new version of tools\n",
        "if TOOLS_CHANGED:\n",
        "  from importlib import reload \n",
        "  tools=reload(tools)\n",
        "  print(dir(tools))   # run this to see EVERYTHING in the tools module"
      ],
      "execution_count": 2,
      "outputs": [
        {
          "output_type": "stream",
          "text": [
            "Yahoo!\n"
          ],
          "name": "stdout"
        }
      ]
    },
    {
      "cell_type": "code",
      "metadata": {
        "id": "VQY7aTj29Kch"
      },
      "source": [
        "import numpy as np\n",
        "import pandas as pd\n",
        "import matplotlib.pyplot as plt\n",
        "from sklearn.model_selection import ShuffleSplit\n",
        "from sklearn.model_selection import cross_val_score\n",
        "from sklearn.model_selection import RepeatedKFold\n",
        "from sklearn.model_selection import StratifiedKFold\n",
        "import tensorflow as tf\n",
        "from tensorflow import keras\n",
        "import time\n",
        "dt='float32'\n",
        "tf.keras.backend.set_floatx(dt)"
      ],
      "execution_count": 3,
      "outputs": []
    },
    {
      "cell_type": "markdown",
      "metadata": {
        "id": "j7jcg6Wl9Kc2"
      },
      "source": [
        "Build model"
      ]
    },
    {
      "cell_type": "code",
      "metadata": {
        "id": "qLFNO1Xa9Kc3"
      },
      "source": [
        "def compile_model(model):\n",
        "    print(\"COMPILE...\")\n",
        "    bc=tf.keras.losses.BinaryCrossentropy(from_logits=False)\n",
        "    model.compile(loss=bc, optimizer=\"adam\", metrics=[\"accuracy\"])\n",
        "    print(\"...COMPILED\")\n",
        "    return model\n",
        "\n",
        "def build_model():\n",
        "    #SHAPE=(MAXLEN,5)  \n",
        "    SHAPE=(MAXLEN,4)  \n",
        "    # 4 input letters, 4 output dimensions, 1000 letters/RNA\n",
        "    elayer  = keras.layers.Embedding(4,4,input_length=1000) \n",
        "\n",
        "    clayer1 = keras.layers.Conv1D(FILTERS,KERNEL,activation=ACT,padding=\"same\",\n",
        "                                 input_shape=SHAPE)\n",
        "    clayer2 = keras.layers.Conv1D(FILTERS,KERNEL,activation=ACT,padding=\"same\")\n",
        "    clayer3 = keras.layers.MaxPooling1D(2)\n",
        "    clayer4 = keras.layers.Conv1D(FILTERS,KERNEL,activation=ACT,padding=\"same\")\n",
        "    clayer5 = keras.layers.Conv1D(FILTERS,KERNEL,activation=ACT,padding=\"same\")\n",
        "    clayer6 = keras.layers.MaxPooling1D(2)\n",
        "    clayer7 = keras.layers.Conv1D(FILTERS,KERNEL,activation=ACT,padding=\"same\")\n",
        "    clayer8 = keras.layers.Conv1D(FILTERS,KERNEL,activation=ACT,padding=\"same\")\n",
        "    clayer9 = keras.layers.MaxPooling1D(2)\n",
        "    clayer10 = keras.layers.Conv1D(FILTERS,KERNEL,activation=ACT,padding=\"same\")\n",
        "    clayer11 = keras.layers.Conv1D(FILTERS,KERNEL,activation=ACT,padding=\"same\")\n",
        "    clayer12 = keras.layers.MaxPooling1D(2)\n",
        "\n",
        "    clayer13 = keras.layers.Flatten()\n",
        "\n",
        "    dlayer1 = keras.layers.Dense(NEURONS, activation=ACT,dtype=dt, input_shape=[DENSE_LEN])\n",
        "    dlayer2 = keras.layers.Dropout(DROP)\n",
        "    dlayer3 = keras.layers.Dense(NEURONS, activation=ACT,dtype=dt)\n",
        "    dlayer4 = keras.layers.Dropout(DROP)\n",
        "    output_layer = keras.layers.Dense(1, activation=\"sigmoid\", dtype=dt)\n",
        "\n",
        "    cnn = keras.models.Sequential()\n",
        "    cnn.add(elayer)\n",
        "    cnn.add(clayer1)\n",
        "    cnn.add(clayer2)\n",
        "    cnn.add(clayer3)\n",
        "    cnn.add(clayer4)\n",
        "    cnn.add(clayer5)\n",
        "    cnn.add(clayer6)\n",
        "    cnn.add(clayer7)\n",
        "    cnn.add(clayer8)\n",
        "    cnn.add(clayer9)\n",
        "    cnn.add(clayer10)\n",
        "    cnn.add(clayer11)\n",
        "    cnn.add(clayer12)\n",
        "    cnn.add(clayer13)\n",
        "    cnn.add(dlayer1)\n",
        "    cnn.add(dlayer2)\n",
        "    cnn.add(dlayer3)\n",
        "    cnn.add(dlayer4)\n",
        "    cnn.add(output_layer)\n",
        "    mlpc = compile_model(cnn)\n",
        "    return mlpc"
      ],
      "execution_count": 4,
      "outputs": []
    },
    {
      "cell_type": "markdown",
      "metadata": {
        "id": "LdIS2utq9Kc9"
      },
      "source": [
        "Cross validation"
      ]
    },
    {
      "cell_type": "code",
      "metadata": {
        "id": "BVo4tbB_9Kc-"
      },
      "source": [
        "def do_cross_validation(X,y,given_model,X_VALID,Y_VALID):\n",
        "    cv_scores = []\n",
        "    fold=0\n",
        "    splitter = ShuffleSplit(n_splits=SPLITS, test_size=0.1, random_state=37863)\n",
        "    for train_index,valid_index in splitter.split(X):\n",
        "        fold += 1\n",
        "        X_train=X[train_index] # use iloc[] for dataframe\n",
        "        y_train=y[train_index]\n",
        "        X_valid=X[valid_index]\n",
        "        y_valid=y[valid_index]        \n",
        "        # Avoid continually improving the same model.\n",
        "        model = compile_model(keras.models.clone_model(given_model))\n",
        "        bestname=MODEL_FILE+\".cv.\"+str(fold)+\".best\"\n",
        "        mycallbacks = [keras.callbacks.ModelCheckpoint(\n",
        "            filepath=bestname, save_best_only=True, \n",
        "            monitor='val_accuracy', mode='max')]   \n",
        "        print(\"FIT\")\n",
        "        start_time=time.time()\n",
        "        history=model.fit(X_train, y_train, \n",
        "                epochs=EPOCHS, verbose=1, callbacks=mycallbacks,\n",
        "                validation_data=(X_valid,y_valid))\n",
        "        # THE VALIDATION ABOVE IS JUST FOR SHOW\n",
        "        end_time=time.time()\n",
        "        elapsed_time=(end_time-start_time)                        \n",
        "        print(\"Fold %d, %d epochs, %d sec\"%(fold,EPOCHS,elapsed_time))\n",
        "        pd.DataFrame(history.history).plot(figsize=(8,5))\n",
        "        plt.grid(True)\n",
        "        plt.gca().set_ylim(0,1)\n",
        "        plt.show()\n",
        "        best_model=keras.models.load_model(bestname)\n",
        "        # THE VALIDATION BELOW IS FOR KEEPS\n",
        "        scores = best_model.evaluate(X_VALID, Y_VALID, verbose=0)\n",
        "        print(\"%s: %.2f%%\" % (best_model.metrics_names[1], scores[1]*100))\n",
        "        cv_scores.append(scores[1] * 100)  \n",
        "    print()\n",
        "    print(\"%d-way Cross Validation mean %.2f%% (+/- %.2f%%)\" % (fold, np.mean(cv_scores), np.std(cv_scores)))"
      ],
      "execution_count": 5,
      "outputs": []
    },
    {
      "cell_type": "markdown",
      "metadata": {
        "id": "qd3Wj_vI9KdP"
      },
      "source": [
        "## Train on RNA lengths 200-1Kb"
      ]
    },
    {
      "cell_type": "code",
      "metadata": {
        "colab": {
          "base_uri": "https://localhost:8080/"
        },
        "id": "G1HuSs8ZbeL4",
        "outputId": "cef3de30-b63d-44a1-bebe-24b0d6c9eea6"
      },
      "source": [
        "print (\"Compile the model\")\n",
        "model=build_model()\n",
        "print (\"Summarize the model\")\n",
        "print(model.summary())  # Print this only once\n",
        "#model.save(MODEL_FILE+'.model')\n"
      ],
      "execution_count": 6,
      "outputs": [
        {
          "output_type": "stream",
          "text": [
            "Compile the model\n",
            "COMPILE...\n",
            "...COMPILED\n",
            "Summarize the model\n",
            "Model: \"sequential\"\n",
            "_________________________________________________________________\n",
            "Layer (type)                 Output Shape              Param #   \n",
            "=================================================================\n",
            "embedding (Embedding)        (None, 1000, 4)           16        \n",
            "_________________________________________________________________\n",
            "conv1d (Conv1D)              (None, 1000, 32)          416       \n",
            "_________________________________________________________________\n",
            "conv1d_1 (Conv1D)            (None, 1000, 32)          3104      \n",
            "_________________________________________________________________\n",
            "max_pooling1d (MaxPooling1D) (None, 500, 32)           0         \n",
            "_________________________________________________________________\n",
            "conv1d_2 (Conv1D)            (None, 500, 32)           3104      \n",
            "_________________________________________________________________\n",
            "conv1d_3 (Conv1D)            (None, 500, 32)           3104      \n",
            "_________________________________________________________________\n",
            "max_pooling1d_1 (MaxPooling1 (None, 250, 32)           0         \n",
            "_________________________________________________________________\n",
            "conv1d_4 (Conv1D)            (None, 250, 32)           3104      \n",
            "_________________________________________________________________\n",
            "conv1d_5 (Conv1D)            (None, 250, 32)           3104      \n",
            "_________________________________________________________________\n",
            "max_pooling1d_2 (MaxPooling1 (None, 125, 32)           0         \n",
            "_________________________________________________________________\n",
            "conv1d_6 (Conv1D)            (None, 125, 32)           3104      \n",
            "_________________________________________________________________\n",
            "conv1d_7 (Conv1D)            (None, 125, 32)           3104      \n",
            "_________________________________________________________________\n",
            "max_pooling1d_3 (MaxPooling1 (None, 62, 32)            0         \n",
            "_________________________________________________________________\n",
            "flatten (Flatten)            (None, 1984)              0         \n",
            "_________________________________________________________________\n",
            "dense (Dense)                (None, 24)                47640     \n",
            "_________________________________________________________________\n",
            "dropout (Dropout)            (None, 24)                0         \n",
            "_________________________________________________________________\n",
            "dense_1 (Dense)              (None, 24)                600       \n",
            "_________________________________________________________________\n",
            "dropout_1 (Dropout)          (None, 24)                0         \n",
            "_________________________________________________________________\n",
            "dense_2 (Dense)              (None, 1)                 25        \n",
            "=================================================================\n",
            "Total params: 70,425\n",
            "Trainable params: 70,425\n",
            "Non-trainable params: 0\n",
            "_________________________________________________________________\n",
            "None\n"
          ],
          "name": "stdout"
        }
      ]
    },
    {
      "cell_type": "code",
      "metadata": {
        "id": "f8fNo6sn9KdH"
      },
      "source": [
        "def load_data_from_files(nc_filename,pc_filename):\n",
        "  FREEMEM=True   # use False for debugging, True for production\n",
        "  print(\"Load data from files.\")\n",
        "  nc_seq=tools.load_fasta(nc_filename,0)\n",
        "  pc_seq=tools.load_fasta(pc_filename,1)\n",
        "  train_set=pd.concat((nc_seq,pc_seq),axis=0)\n",
        "  print(\"Ready: train_set\")\n",
        "  subset=tools.make_slice(train_set,MINLEN,MAXLEN)# One array to two: X and y\n",
        "  if FREEMEM:\n",
        "      nc_seq=None\n",
        "      pc_seq=None\n",
        "      train_set=None\n",
        "  (X1,y_train)=tools.separate_X_and_y(subset)\n",
        "  # X1 is pandas df of (\"list\" of one sequence)\n",
        "  X2=X1.to_numpy()  # numpy ndarray of (\"list\" of one sequence)\n",
        "  X3=[elem[0] for elem in X2]  # numpy ndarray of ACGT-str\n",
        "  # X3? It might be faster to use int-array than char-array. Come back to this.\n",
        "  X4=X3  # no-op\n",
        "  print(\"X4\",type(X4))\n",
        "  #print(X4[0])\n",
        "  if FREEMEM:\n",
        "      X1=None\n",
        "      X2=None\n",
        "      X3=None\n",
        "  X5=[]\n",
        "  dna_to_int = {'A':0,'C':1,'G':2,'T':3}\n",
        "  for x in X4:\n",
        "      a=[]\n",
        "      for c in x:\n",
        "          i = dna_to_int[c]\n",
        "          a.append(i)\n",
        "      X5.append(a)\n",
        "  X5=np.asarray(X5)\n",
        "  print(\"X5\",type(X5))\n",
        "  print(X5.shape)\n",
        "  if FREEMEM:\n",
        "      X4=None\n",
        "  X_train=X5\n",
        "  if FREEMEM:\n",
        "      X5=None\n",
        "  print(\"X_train\",type(X_train))\n",
        "  y_train=y_train.to_numpy()\n",
        "  print(X_train.shape)\n",
        "  print(X_train[0].shape)\n",
        "  print(X_train[0])\n",
        "  return X_train,y_train\n"
      ],
      "execution_count": 7,
      "outputs": []
    },
    {
      "cell_type": "code",
      "metadata": {
        "colab": {
          "base_uri": "https://localhost:8080/"
        },
        "id": "UmEls9oXRQON",
        "outputId": "0ea309e0-9905-44e7-f947-80a46373ac81"
      },
      "source": [
        "print(\"Loading training data...\")\n",
        "X_train,y_train = load_data_from_files(NC_FILENAME,PC_FILENAME)"
      ],
      "execution_count": 8,
      "outputs": [
        {
          "output_type": "stream",
          "text": [
            "Loading training data...\n",
            "Load data from files.\n",
            "Ready: train_set\n",
            "X4 <class 'list'>\n",
            "X5 <class 'numpy.ndarray'>\n",
            "(192000, 1000)\n",
            "X_train <class 'numpy.ndarray'>\n",
            "(192000, 1000)\n",
            "(1000,)\n",
            "[3 1 0 2 0 1 2 0 1 1 2 3 3 2 3 0 3 1 3 2 0 0 1 1 1 3 3 2 1 0 2 0 3 3 1 2 1\n",
            " 1 2 0 0 0 3 2 0 0 3 0 2 2 1 1 2 1 1 1 1 3 2 3 0 1 3 0 2 3 3 2 1 1 1 0 2 2\n",
            " 0 3 1 2 3 2 2 0 1 2 0 0 0 2 2 0 0 3 0 2 1 0 0 2 0 1 1 1 2 2 3 2 3 3 1 1 0\n",
            " 0 2 1 1 0 1 0 2 2 3 0 0 0 3 1 0 0 0 2 3 0 0 0 2 1 0 3 3 2 2 1 1 1 2 0 3 3\n",
            " 3 0 3 3 3 0 0 2 3 0 3 2 0 1 0 3 3 1 1 3 1 1 0 3 2 3 0 1 0 3 2 2 1 3 2 0 0\n",
            " 2 2 2 1 1 2 2 1 3 1 2 2 3 1 1 2 0 1 1 1 3 1 2 3 3 0 2 0 3 1 3 3 2 0 3 0 1\n",
            " 0 2 0 3 1 0 2 1 1 0 1 1 0 0 2 3 1 2 2 0 3 3 1 3 3 1 2 2 1 3 1 2 1 1 2 0 3\n",
            " 3 1 0 3 2 2 0 0 3 1 0 2 0 1 0 0 0 3 2 3 1 3 1 2 2 0 1 2 3 1 3 1 0 2 0 2 2\n",
            " 1 0 2 1 1 3 1 1 2 1 2 1 3 3 2 1 0 1 0 1 1 3 1 0 3 1 1 1 2 0 3 1 2 2 0 2 0\n",
            " 3 1 3 0 2 1 0 0 3 0 3 1 0 3 2 0 1 3 3 2 1 3 2 3 3 1 0 3 2 3 0 0 2 3 2 1 3\n",
            " 2 2 1 2 2 1 2 0 2 3 0 0 0 3 3 1 1 1 0 1 0 1 3 2 0 0 0 1 1 3 1 1 2 1 3 0 2\n",
            " 0 2 2 0 0 2 3 3 1 3 2 0 1 1 1 1 0 0 1 2 3 1 3 3 3 1 3 1 3 2 1 0 2 3 0 2 1\n",
            " 3 3 1 3 0 1 0 1 0 1 3 3 2 0 1 3 0 1 3 3 2 2 1 1 1 2 2 0 1 2 1 3 2 1 2 3 2\n",
            " 1 0 3 2 1 1 2 1 2 1 0 3 1 1 2 1 1 2 1 3 1 1 3 1 2 1 2 3 0 3 0 3 2 0 0 0 2\n",
            " 0 1 3 1 2 2 3 1 1 0 2 0 0 1 3 1 1 2 2 2 2 3 3 2 2 3 3 1 1 2 0 3 1 2 2 1 3\n",
            " 3 0 3 1 1 2 0 3 0 2 0 1 1 0 2 3 2 2 2 0 3 1 3 2 0 2 2 1 0 0 3 0 3 0 1 0 0\n",
            " 0 1 3 3 2 0 2 0 1 1 2 1 3 1 2 2 3 0 2 0 3 1 1 2 0 2 0 2 3 1 2 2 3 3 0 2 1\n",
            " 3 0 2 3 1 0 0 0 1 1 0 2 2 0 2 2 0 3 2 2 2 3 2 1 1 2 3 3 0 3 1 1 1 3 2 3 1\n",
            " 2 1 1 1 1 0 3 0 3 3 1 2 3 1 0 1 1 2 1 1 2 2 0 2 2 2 0 1 2 2 3 1 1 3 0 3 0\n",
            " 2 2 2 1 1 1 3 1 1 0 0 1 1 3 0 2 2 3 3 0 1 3 0 2 2 3 1 3 3 0 3 3 0 2 1 2 2\n",
            " 3 0 1 1 1 2 0 2 1 2 0 0 0 3 0 2 3 0 1 3 0 2 2 2 3 3 1 0 1 1 1 2 1 1 3 3 2\n",
            " 0 1 1 2 2 1 2 1 1 3 3 3 0 0 1 2 1 2 3 1 2 3 0 0 1 2 1 2 0 3 1 3 3 2 1 2 3\n",
            " 3 1 0 2 0 3 0 1 1 3 2 3 0 2 3 1 1 1 2 2 0 3 0 3 2 2 1 2 2 0 0 3 3 3 0 3 0\n",
            " 0 3 2 0 3 0 0 3 2 0 3 1 1 0 2 0 3 0 3 0 0 2 1 3 2 2 0 2 2 0 1 3 2 0 1 1 3\n",
            " 3 1 2 0 2 2 3 2 1 1 2 0 1 2 0 1 1 1 1 2 0 1 2 1 2 0 2 1 1 3 2 2 2 3 2 2 1\n",
            " 0 0 0 2 2 2 2 1 3 0 3 2 3 2 2 3 2 2 2 3 1 1 3 3 1 3 1 2 2 3 1 3 3 3 2 2 0\n",
            " 2 1 3 1 3 3 0 1 2 1 3 3 2 1 1 3 3 3 1 2 2 0 3 3 0 1 1 0 0 1 2 2 1 2 1 1 3\n",
            " 3]\n"
          ],
          "name": "stdout"
        }
      ]
    },
    {
      "cell_type": "code",
      "metadata": {
        "colab": {
          "base_uri": "https://localhost:8080/"
        },
        "id": "sfvgDZR1a_2j",
        "outputId": "c7f23bf7-6d1d-4b3c-cf16-4c50146ae8c3"
      },
      "source": [
        "print(\"Loading validation data...\")\n",
        "X_VALID,Y_VALID = load_data_from_files(NC_VAL_FILE,PC_VAL_FILE)"
      ],
      "execution_count": 9,
      "outputs": [
        {
          "output_type": "stream",
          "text": [
            "Loading validation data...\n",
            "Load data from files.\n",
            "Ready: train_set\n",
            "X4 <class 'list'>\n",
            "X5 <class 'numpy.ndarray'>\n",
            "(100000, 1000)\n",
            "X_train <class 'numpy.ndarray'>\n",
            "(100000, 1000)\n",
            "(1000,)\n",
            "[0 2 0 0 3 3 1 2 2 3 1 2 2 0 2 0 2 2 2 1 2 0 3 2 0 3 0 0 3 3 2 3 0 3 3 1 0\n",
            " 1 1 0 2 1 1 1 1 2 3 3 0 2 1 1 3 2 3 2 1 2 3 3 0 0 1 2 2 2 3 2 0 1 2 2 2 2\n",
            " 2 1 3 3 0 1 2 0 1 2 0 3 2 3 2 3 1 3 3 1 3 0 2 1 1 1 2 3 2 2 2 1 0 3 3 2 3\n",
            " 3 3 1 1 3 3 2 1 1 2 1 3 2 2 1 3 1 3 1 0 0 3 2 2 2 1 2 0 0 1 0 2 0 1 3 2 1\n",
            " 3 2 2 0 3 1 2 0 3 3 3 2 3 2 1 0 0 3 0 2 0 2 1 2 1 1 0 2 3 0 1 2 0 1 2 2 0\n",
            " 2 1 2 3 1 1 1 2 3 3 3 2 1 1 0 2 3 1 1 2 1 0 0 3 2 1 0 2 2 3 2 0 0 3 1 3 0\n",
            " 2 3 0 2 3 1 2 3 1 1 2 3 3 3 3 3 0 0 1 0 0 0 2 0 2 2 0 3 3 0 0 0 0 2 2 2 1\n",
            " 0 0 1 1 1 0 2 0 3 1 2 0 0 3 3 1 1 2 1 3 2 3 2 1 2 2 0 0 1 0 1 0 3 3 3 0 0\n",
            " 0 2 3 0 3 2 3 0 1 1 3 0 1 1 1 3 2 1 3 3 1 0 0 0 1 2 3 0 2 3 1 1 1 3 0 3 1\n",
            " 2 0 1 2 1 2 2 3 1 1 1 2 0 2 0 0 3 3 0 2 1 0 0 1 0 1 3 3 2 3 3 1 0 3 2 3 0\n",
            " 2 3 3 2 0 1 0 0 3 1 1 2 2 1 3 2 0 1 0 0 3 2 3 1 0 3 0 3 3 1 1 3 0 0 0 1 2\n",
            " 1 1 1 3 1 2 2 1 1 1 2 1 0 1 1 2 3 2 1 2 1 3 3 2 3 2 2 2 3 3 0 3 1 0 3 3 0\n",
            " 3 2 2 0 1 2 1 1 1 0 3 3 0 1 1 2 3 2 1 2 2 2 0 0 0 2 1 2 1 3 0 3 1 0 0 1 3\n",
            " 2 3 3 2 1 0 3 3 0 1 1 0 0 3 3 1 0 2 2 1 2 0 0 0 2 0 1 2 2 3 1 0 0 2 0 0 1\n",
            " 3 3 2 0 1 0 3 1 3 2 2 0 1 1 0 2 0 0 0 3 2 3 2 0 0 3 3 2 1 3 0 0 2 1 2 1 2\n",
            " 1 0 2 2 2 3 2 3 3 2 1 2 0 0 2 3 1 0 1 2 1 3 2 3 1 0 2 0 2 1 0 2 1 1 1 1 3\n",
            " 1 2 3 3 0 3 0 2 2 1 2 3 2 0 2 0 2 3 2 3 3 0 0 1 0 3 1 1 0 0 2 0 1 3 3 2 1\n",
            " 3 3 3 0 2 2 3 1 2 1 3 2 3 0 2 3 1 0 2 0 2 2 0 1 3 3 0 0 0 3 0 1 1 0 0 3 0\n",
            " 0 1 2 0 2 3 1 1 2 3 2 2 1 2 1 0 1 0 3 0 3 1 1 1 3 3 3 2 2 3 3 3 1 3 3 1 3\n",
            " 0 2 3 0 2 2 3 0 3 3 1 3 1 1 2 3 0 3 2 0 1 1 3 1 1 1 1 3 0 1 3 2 1 0 2 3 2\n",
            " 3 2 3 2 2 1 2 2 1 1 2 3 1 2 0 1 3 0 1 3 1 0 1 3 3 3 3 1 1 1 1 2 2 2 0 0 2\n",
            " 1 0 0 3 1 0 2 2 2 2 1 2 3 2 2 0 3 1 1 1 1 3 0 0 2 1 3 0 2 2 0 3 3 0 2 2 2\n",
            " 3 2 1 3 3 1 3 3 3 2 0 1 3 2 0 2 2 1 0 2 3 1 0 1 3 0 1 1 1 0 1 3 2 3 2 2 3\n",
            " 2 3 1 0 1 0 3 0 1 1 2 0 3 1 0 2 1 1 2 0 0 1 3 2 1 3 1 3 0 2 3 1 0 1 0 2 2\n",
            " 0 1 3 2 3 1 2 0 2 2 3 3 3 2 0 3 1 1 1 1 0 2 3 2 1 0 3 3 1 3 2 1 0 0 1 2 2\n",
            " 3 2 1 0 0 2 2 3 0 2 0 1 2 3 3 1 0 3 2 3 0 2 1 2 3 0 1 0 2 3 1 0 1 0 1 0 1\n",
            " 0 0 3 1 3 0 1 2 0 0 3 0 2 2 1 1 1 3 2 0 2 2 1 2 0 0 1 1 2 2 1 1 1 1 1 2 0\n",
            " 3]\n"
          ],
          "name": "stdout"
        }
      ]
    },
    {
      "cell_type": "code",
      "metadata": {
        "colab": {
          "base_uri": "https://localhost:8080/",
          "height": 1000
        },
        "id": "mQ8eW5Rg9KdQ",
        "outputId": "552f7c9e-128a-4221-9042-1d39898698d1"
      },
      "source": [
        "print (\"Cross validation\")\n",
        "do_cross_validation(X_train,y_train,model,X_VALID,Y_VALID)  \n",
        "print (\"Done\")"
      ],
      "execution_count": 10,
      "outputs": [
        {
          "output_type": "stream",
          "text": [
            "Cross validation\n",
            "COMPILE...\n",
            "...COMPILED\n",
            "FIT\n",
            "Epoch 1/20\n",
            "5400/5400 [==============================] - 32s 5ms/step - loss: 0.6947 - accuracy: 0.5013 - val_loss: 0.6941 - val_accuracy: 0.4951\n",
            "INFO:tensorflow:Assets written to: /content/drive/My Drive/data/JUNK2.cv.1.best/assets\n",
            "Epoch 2/20\n",
            "5400/5400 [==============================] - 28s 5ms/step - loss: 0.6943 - accuracy: 0.4986 - val_loss: 0.6938 - val_accuracy: 0.4951\n",
            "Epoch 3/20\n",
            "5400/5400 [==============================] - 28s 5ms/step - loss: 0.6934 - accuracy: 0.5018 - val_loss: 0.6948 - val_accuracy: 0.4951\n",
            "Epoch 4/20\n",
            "5400/5400 [==============================] - 27s 5ms/step - loss: 0.6934 - accuracy: 0.5007 - val_loss: 0.6931 - val_accuracy: 0.5049\n",
            "INFO:tensorflow:Assets written to: /content/drive/My Drive/data/JUNK2.cv.1.best/assets\n",
            "Epoch 5/20\n",
            "5400/5400 [==============================] - 28s 5ms/step - loss: 0.6935 - accuracy: 0.5008 - val_loss: 0.6931 - val_accuracy: 0.5049\n",
            "Epoch 6/20\n",
            "5400/5400 [==============================] - 28s 5ms/step - loss: 0.6934 - accuracy: 0.5002 - val_loss: 0.6931 - val_accuracy: 0.5049\n",
            "Epoch 7/20\n",
            "5400/5400 [==============================] - 28s 5ms/step - loss: 0.6934 - accuracy: 0.4966 - val_loss: 0.6931 - val_accuracy: 0.5049\n",
            "Epoch 8/20\n",
            "5400/5400 [==============================] - 28s 5ms/step - loss: 0.6934 - accuracy: 0.5024 - val_loss: 0.6933 - val_accuracy: 0.4951\n",
            "Epoch 9/20\n",
            "5400/5400 [==============================] - 28s 5ms/step - loss: 0.6934 - accuracy: 0.4993 - val_loss: 0.6931 - val_accuracy: 0.5049\n",
            "Epoch 10/20\n",
            "5400/5400 [==============================] - 28s 5ms/step - loss: 0.6935 - accuracy: 0.4997 - val_loss: 0.6936 - val_accuracy: 0.4951\n",
            "Epoch 11/20\n",
            "5400/5400 [==============================] - 28s 5ms/step - loss: 0.6934 - accuracy: 0.5009 - val_loss: 0.6936 - val_accuracy: 0.4951\n",
            "Epoch 12/20\n",
            "5400/5400 [==============================] - 28s 5ms/step - loss: 0.6935 - accuracy: 0.4963 - val_loss: 0.6950 - val_accuracy: 0.4951\n",
            "Epoch 13/20\n",
            "5400/5400 [==============================] - 28s 5ms/step - loss: 0.6935 - accuracy: 0.4969 - val_loss: 0.6934 - val_accuracy: 0.4951\n",
            "Epoch 14/20\n",
            "5400/5400 [==============================] - 28s 5ms/step - loss: 0.6934 - accuracy: 0.4999 - val_loss: 0.6931 - val_accuracy: 0.5049\n",
            "Epoch 15/20\n",
            "5400/5400 [==============================] - 28s 5ms/step - loss: 0.6934 - accuracy: 0.5005 - val_loss: 0.6938 - val_accuracy: 0.4951\n",
            "Epoch 16/20\n",
            "5400/5400 [==============================] - 28s 5ms/step - loss: 0.6934 - accuracy: 0.5010 - val_loss: 0.6934 - val_accuracy: 0.4951\n",
            "Epoch 17/20\n",
            "5400/5400 [==============================] - 28s 5ms/step - loss: 0.6934 - accuracy: 0.4990 - val_loss: 0.6931 - val_accuracy: 0.5049\n",
            "Epoch 18/20\n",
            "5400/5400 [==============================] - 28s 5ms/step - loss: 0.6934 - accuracy: 0.5006 - val_loss: 0.6932 - val_accuracy: 0.4951\n",
            "Epoch 19/20\n",
            "5400/5400 [==============================] - 28s 5ms/step - loss: 0.6935 - accuracy: 0.4981 - val_loss: 0.6931 - val_accuracy: 0.5049\n",
            "Epoch 20/20\n",
            "5400/5400 [==============================] - 28s 5ms/step - loss: 0.6934 - accuracy: 0.4986 - val_loss: 0.6932 - val_accuracy: 0.4951\n",
            "Fold 1, 20 epochs, 566 sec\n"
          ],
          "name": "stdout"
        },
        {
          "output_type": "display_data",
          "data": {
            "image/png": "[encoded data removed]",
            "text/plain": [
              "<Figure size 576x360 with 1 Axes>"
            ]
          },
          "metadata": {
            "tags": [],
            "needs_background": "light"
          }
        },
        {
          "output_type": "stream",
          "text": [
            "accuracy: 50.00%\n",
            "COMPILE...\n",
            "...COMPILED\n",
            "FIT\n",
            "Epoch 1/20\n",
            "5400/5400 [==============================] - 29s 5ms/step - loss: 0.6948 - accuracy: 0.4988 - val_loss: 0.6933 - val_accuracy: 0.4988\n",
            "INFO:tensorflow:Assets written to: /content/drive/My Drive/data/JUNK2.cv.2.best/assets\n",
            "Epoch 2/20\n",
            "5400/5400 [==============================] - 27s 5ms/step - loss: 0.6937 - accuracy: 0.4984 - val_loss: 0.6934 - val_accuracy: 0.5004\n",
            "INFO:tensorflow:Assets written to: /content/drive/My Drive/data/JUNK2.cv.2.best/assets\n",
            "Epoch 3/20\n",
            "5400/5400 [==============================] - 27s 5ms/step - loss: 0.6936 - accuracy: 0.4983 - val_loss: 0.6936 - val_accuracy: 0.5013\n",
            "INFO:tensorflow:Assets written to: /content/drive/My Drive/data/JUNK2.cv.2.best/assets\n",
            "Epoch 4/20\n",
            "5400/5400 [==============================] - 27s 5ms/step - loss: 0.6934 - accuracy: 0.5020 - val_loss: 0.6932 - val_accuracy: 0.4988\n",
            "Epoch 5/20\n",
            "5400/5400 [==============================] - 27s 5ms/step - loss: 0.6934 - accuracy: 0.5012 - val_loss: 0.6932 - val_accuracy: 0.4988\n",
            "Epoch 6/20\n",
            "5400/5400 [==============================] - 27s 5ms/step - loss: 0.6933 - accuracy: 0.5008 - val_loss: 0.6946 - val_accuracy: 0.4988\n",
            "Epoch 7/20\n",
            "5400/5400 [==============================] - 27s 5ms/step - loss: 0.6935 - accuracy: 0.4994 - val_loss: 0.6932 - val_accuracy: 0.4988\n",
            "Epoch 8/20\n",
            "5400/5400 [==============================] - 27s 5ms/step - loss: 0.6934 - accuracy: 0.4985 - val_loss: 0.6932 - val_accuracy: 0.5013\n",
            "Epoch 9/20\n",
            "5400/5400 [==============================] - 27s 5ms/step - loss: 0.6934 - accuracy: 0.4986 - val_loss: 0.6932 - val_accuracy: 0.5013\n",
            "Epoch 10/20\n",
            "5400/5400 [==============================] - 28s 5ms/step - loss: 0.6934 - accuracy: 0.4979 - val_loss: 0.6932 - val_accuracy: 0.4988\n",
            "Epoch 11/20\n",
            "5400/5400 [==============================] - 28s 5ms/step - loss: 0.6935 - accuracy: 0.4969 - val_loss: 0.6932 - val_accuracy: 0.4988\n",
            "Epoch 12/20\n",
            "5400/5400 [==============================] - 27s 5ms/step - loss: 0.6934 - accuracy: 0.4998 - val_loss: 0.6937 - val_accuracy: 0.4988\n",
            "Epoch 13/20\n",
            "5400/5400 [==============================] - 27s 5ms/step - loss: 0.6933 - accuracy: 0.5048 - val_loss: 0.6934 - val_accuracy: 0.4988\n",
            "Epoch 14/20\n",
            "5400/5400 [==============================] - 27s 5ms/step - loss: 0.6934 - accuracy: 0.5002 - val_loss: 0.6933 - val_accuracy: 0.4988\n",
            "Epoch 15/20\n",
            "5400/5400 [==============================] - 27s 5ms/step - loss: 0.6935 - accuracy: 0.4974 - val_loss: 0.6932 - val_accuracy: 0.4988\n",
            "Epoch 16/20\n",
            "5400/5400 [==============================] - 27s 5ms/step - loss: 0.6934 - accuracy: 0.5027 - val_loss: 0.6932 - val_accuracy: 0.4988\n",
            "Epoch 17/20\n",
            "5400/5400 [==============================] - 27s 5ms/step - loss: 0.6934 - accuracy: 0.4986 - val_loss: 0.6932 - val_accuracy: 0.5013\n",
            "Epoch 18/20\n",
            "5400/5400 [==============================] - 27s 5ms/step - loss: 0.6934 - accuracy: 0.4997 - val_loss: 0.6933 - val_accuracy: 0.4988\n",
            "Epoch 19/20\n",
            "5400/5400 [==============================] - 27s 5ms/step - loss: 0.6934 - accuracy: 0.4982 - val_loss: 0.6932 - val_accuracy: 0.5013\n",
            "Epoch 20/20\n",
            "5400/5400 [==============================] - 27s 5ms/step - loss: 0.6934 - accuracy: 0.5014 - val_loss: 0.6933 - val_accuracy: 0.4988\n",
            "Fold 2, 20 epochs, 552 sec\n"
          ],
          "name": "stdout"
        },
        {
          "output_type": "display_data",
          "data": {
            "image/png": "[encoded data removed]",
            "text/plain": [
              "<Figure size 576x360 with 1 Axes>"
            ]
          },
          "metadata": {
            "tags": [],
            "needs_background": "light"
          }
        },
        {
          "output_type": "stream",
          "text": [
            "accuracy: 50.00%\n",
            "COMPILE...\n",
            "...COMPILED\n",
            "FIT\n",
            "Epoch 1/20\n",
            "5400/5400 [==============================] - 28s 5ms/step - loss: 0.6948 - accuracy: 0.5002 - val_loss: 0.6932 - val_accuracy: 0.5007\n",
            "INFO:tensorflow:Assets written to: /content/drive/My Drive/data/JUNK2.cv.3.best/assets\n",
            "Epoch 2/20\n",
            "5400/5400 [==============================] - 28s 5ms/step - loss: 0.6938 - accuracy: 0.4983 - val_loss: 0.6935 - val_accuracy: 0.5007\n",
            "Epoch 3/20\n",
            "5400/5400 [==============================] - 27s 5ms/step - loss: 0.6936 - accuracy: 0.4978 - val_loss: 0.6939 - val_accuracy: 0.5007\n",
            "Epoch 4/20\n",
            "5400/5400 [==============================] - 28s 5ms/step - loss: 0.6934 - accuracy: 0.4997 - val_loss: 0.6932 - val_accuracy: 0.4993\n",
            "Epoch 5/20\n",
            "5400/5400 [==============================] - 28s 5ms/step - loss: 0.6934 - accuracy: 0.5005 - val_loss: 0.6935 - val_accuracy: 0.4993\n",
            "Epoch 6/20\n",
            "5400/5400 [==============================] - 28s 5ms/step - loss: 0.6935 - accuracy: 0.4996 - val_loss: 0.6934 - val_accuracy: 0.5007\n",
            "Epoch 7/20\n",
            "5400/5400 [==============================] - 28s 5ms/step - loss: 0.6934 - accuracy: 0.5009 - val_loss: 0.6936 - val_accuracy: 0.4993\n",
            "Epoch 8/20\n",
            "5400/5400 [==============================] - 28s 5ms/step - loss: 0.6934 - accuracy: 0.5006 - val_loss: 0.6934 - val_accuracy: 0.5007\n",
            "Epoch 9/20\n",
            "5400/5400 [==============================] - 28s 5ms/step - loss: 0.6934 - accuracy: 0.4996 - val_loss: 0.6934 - val_accuracy: 0.5007\n",
            "Epoch 10/20\n",
            "5400/5400 [==============================] - 28s 5ms/step - loss: 0.6934 - accuracy: 0.5017 - val_loss: 0.6933 - val_accuracy: 0.4993\n",
            "Epoch 11/20\n",
            "5400/5400 [==============================] - 28s 5ms/step - loss: 0.6935 - accuracy: 0.4961 - val_loss: 0.6938 - val_accuracy: 0.4993\n",
            "Epoch 12/20\n",
            "5400/5400 [==============================] - 27s 5ms/step - loss: 0.6935 - accuracy: 0.4980 - val_loss: 0.6934 - val_accuracy: 0.5007\n",
            "Epoch 13/20\n",
            "5400/5400 [==============================] - 28s 5ms/step - loss: 0.6933 - accuracy: 0.5017 - val_loss: 0.6935 - val_accuracy: 0.4993\n",
            "Epoch 14/20\n",
            "5400/5400 [==============================] - 27s 5ms/step - loss: 0.6933 - accuracy: 0.5024 - val_loss: 0.6933 - val_accuracy: 0.4993\n",
            "Epoch 15/20\n",
            "5400/5400 [==============================] - 27s 5ms/step - loss: 0.6934 - accuracy: 0.5004 - val_loss: 0.6931 - val_accuracy: 0.4993\n",
            "Epoch 16/20\n",
            "5400/5400 [==============================] - 27s 5ms/step - loss: 0.6933 - accuracy: 0.5030 - val_loss: 0.6933 - val_accuracy: 0.5007\n",
            "Epoch 17/20\n",
            "5400/5400 [==============================] - 27s 5ms/step - loss: 0.6933 - accuracy: 0.5012 - val_loss: 0.6932 - val_accuracy: 0.5007\n",
            "Epoch 18/20\n",
            "5400/5400 [==============================] - 27s 5ms/step - loss: 0.6934 - accuracy: 0.4991 - val_loss: 0.6932 - val_accuracy: 0.4993\n",
            "Epoch 19/20\n",
            "5400/5400 [==============================] - 28s 5ms/step - loss: 0.6934 - accuracy: 0.4992 - val_loss: 0.6933 - val_accuracy: 0.4993\n",
            "Epoch 20/20\n",
            "5400/5400 [==============================] - 28s 5ms/step - loss: 0.6934 - accuracy: 0.5006 - val_loss: 0.6938 - val_accuracy: 0.5007\n",
            "Fold 3, 20 epochs, 554 sec\n"
          ],
          "name": "stdout"
        },
        {
          "output_type": "display_data",
          "data": {
            "image/png": "[encoded data removed]",
            "text/plain": [
              "<Figure size 576x360 with 1 Axes>"
            ]
          },
          "metadata": {
            "tags": [],
            "needs_background": "light"
          }
        },
        {
          "output_type": "stream",
          "text": [
            "accuracy: 50.00%\n",
            "COMPILE...\n",
            "...COMPILED\n",
            "FIT\n",
            "Epoch 1/20\n",
            "5400/5400 [==============================] - 29s 5ms/step - loss: 0.6732 - accuracy: 0.5594 - val_loss: 0.5715 - val_accuracy: 0.7098\n",
            "INFO:tensorflow:Assets written to: /content/drive/My Drive/data/JUNK2.cv.4.best/assets\n",
            "Epoch 2/20\n",
            "5400/5400 [==============================] - 28s 5ms/step - loss: 0.5785 - accuracy: 0.7065 - val_loss: 0.5496 - val_accuracy: 0.7319\n",
            "INFO:tensorflow:Assets written to: /content/drive/My Drive/data/JUNK2.cv.4.best/assets\n",
            "Epoch 3/20\n",
            "5400/5400 [==============================] - 27s 5ms/step - loss: 0.5402 - accuracy: 0.7414 - val_loss: 0.4583 - val_accuracy: 0.8046\n",
            "INFO:tensorflow:Assets written to: /content/drive/My Drive/data/JUNK2.cv.4.best/assets\n",
            "Epoch 4/20\n",
            "5400/5400 [==============================] - 28s 5ms/step - loss: 0.4492 - accuracy: 0.8152 - val_loss: 0.3856 - val_accuracy: 0.8608\n",
            "INFO:tensorflow:Assets written to: /content/drive/My Drive/data/JUNK2.cv.4.best/assets\n",
            "Epoch 5/20\n",
            "5400/5400 [==============================] - 27s 5ms/step - loss: 0.4007 - accuracy: 0.8531 - val_loss: 0.3845 - val_accuracy: 0.8613\n",
            "INFO:tensorflow:Assets written to: /content/drive/My Drive/data/JUNK2.cv.4.best/assets\n",
            "Epoch 6/20\n",
            "5400/5400 [==============================] - 27s 5ms/step - loss: 0.3841 - accuracy: 0.8647 - val_loss: 0.3605 - val_accuracy: 0.8762\n",
            "INFO:tensorflow:Assets written to: /content/drive/My Drive/data/JUNK2.cv.4.best/assets\n",
            "Epoch 7/20\n",
            "5400/5400 [==============================] - 27s 5ms/step - loss: 0.3927 - accuracy: 0.8467 - val_loss: 0.6933 - val_accuracy: 0.4940\n",
            "Epoch 8/20\n",
            "5400/5400 [==============================] - 27s 5ms/step - loss: 0.6938 - accuracy: 0.4977 - val_loss: 0.6944 - val_accuracy: 0.4940\n",
            "Epoch 9/20\n",
            "5400/5400 [==============================] - 27s 5ms/step - loss: 0.6760 - accuracy: 0.5231 - val_loss: 0.3421 - val_accuracy: 0.8896\n",
            "INFO:tensorflow:Assets written to: /content/drive/My Drive/data/JUNK2.cv.4.best/assets\n",
            "Epoch 10/20\n",
            "5400/5400 [==============================] - 27s 5ms/step - loss: 0.3675 - accuracy: 0.8747 - val_loss: 0.3394 - val_accuracy: 0.8906\n",
            "INFO:tensorflow:Assets written to: /content/drive/My Drive/data/JUNK2.cv.4.best/assets\n",
            "Epoch 11/20\n",
            "5400/5400 [==============================] - 28s 5ms/step - loss: 0.3597 - accuracy: 0.8799 - val_loss: 0.3408 - val_accuracy: 0.8904\n",
            "Epoch 12/20\n",
            "5400/5400 [==============================] - 28s 5ms/step - loss: 0.3621 - accuracy: 0.8771 - val_loss: 0.3438 - val_accuracy: 0.8891\n",
            "Epoch 13/20\n",
            "5400/5400 [==============================] - 28s 5ms/step - loss: 0.3539 - accuracy: 0.8831 - val_loss: 0.3352 - val_accuracy: 0.8935\n",
            "INFO:tensorflow:Assets written to: /content/drive/My Drive/data/JUNK2.cv.4.best/assets\n",
            "Epoch 14/20\n",
            "5400/5400 [==============================] - 28s 5ms/step - loss: 0.3579 - accuracy: 0.8797 - val_loss: 0.3335 - val_accuracy: 0.8951\n",
            "INFO:tensorflow:Assets written to: /content/drive/My Drive/data/JUNK2.cv.4.best/assets\n",
            "Epoch 15/20\n",
            "5400/5400 [==============================] - 28s 5ms/step - loss: 0.3555 - accuracy: 0.8820 - val_loss: 0.3353 - val_accuracy: 0.8932\n",
            "Epoch 16/20\n",
            "5400/5400 [==============================] - 28s 5ms/step - loss: 0.3490 - accuracy: 0.8861 - val_loss: 0.3317 - val_accuracy: 0.8958\n",
            "INFO:tensorflow:Assets written to: /content/drive/My Drive/data/JUNK2.cv.4.best/assets\n",
            "Epoch 17/20\n",
            "5400/5400 [==============================] - 28s 5ms/step - loss: 0.3479 - accuracy: 0.8873 - val_loss: 0.3317 - val_accuracy: 0.8960\n",
            "INFO:tensorflow:Assets written to: /content/drive/My Drive/data/JUNK2.cv.4.best/assets\n",
            "Epoch 18/20\n",
            "5400/5400 [==============================] - 28s 5ms/step - loss: 0.3469 - accuracy: 0.8877 - val_loss: 0.3320 - val_accuracy: 0.8956\n",
            "Epoch 19/20\n",
            "5400/5400 [==============================] - 27s 5ms/step - loss: 0.3490 - accuracy: 0.8871 - val_loss: 0.3336 - val_accuracy: 0.8941\n",
            "Epoch 20/20\n",
            "5400/5400 [==============================] - 27s 5ms/step - loss: 0.3436 - accuracy: 0.8898 - val_loss: 0.3314 - val_accuracy: 0.8966\n",
            "INFO:tensorflow:Assets written to: /content/drive/My Drive/data/JUNK2.cv.4.best/assets\n",
            "Fold 4, 20 epochs, 579 sec\n"
          ],
          "name": "stdout"
        },
        {
          "output_type": "display_data",
          "data": {
            "image/png": "[encoded data removed]",
            "text/plain": [
              "<Figure size 576x360 with 1 Axes>"
            ]
          },
          "metadata": {
            "tags": [],
            "needs_background": "light"
          }
        },
        {
          "output_type": "stream",
          "text": [
            "accuracy: 99.14%\n",
            "COMPILE...\n",
            "...COMPILED\n",
            "FIT\n",
            "Epoch 1/20\n",
            "5400/5400 [==============================] - 29s 5ms/step - loss: 0.6954 - accuracy: 0.5003 - val_loss: 0.6954 - val_accuracy: 0.4982\n",
            "INFO:tensorflow:Assets written to: /content/drive/My Drive/data/JUNK2.cv.5.best/assets\n",
            "Epoch 2/20\n",
            "5400/5400 [==============================] - 27s 5ms/step - loss: 0.6935 - accuracy: 0.5018 - val_loss: 0.6934 - val_accuracy: 0.5018\n",
            "INFO:tensorflow:Assets written to: /content/drive/My Drive/data/JUNK2.cv.5.best/assets\n",
            "Epoch 3/20\n",
            "5400/5400 [==============================] - 28s 5ms/step - loss: 0.6935 - accuracy: 0.4980 - val_loss: 0.6932 - val_accuracy: 0.4982\n",
            "Epoch 4/20\n",
            "5400/5400 [==============================] - 27s 5ms/step - loss: 0.6934 - accuracy: 0.5011 - val_loss: 0.6935 - val_accuracy: 0.5018\n",
            "Epoch 5/20\n",
            "5400/5400 [==============================] - 28s 5ms/step - loss: 0.6935 - accuracy: 0.4984 - val_loss: 0.6932 - val_accuracy: 0.5018\n",
            "Epoch 6/20\n",
            "5400/5400 [==============================] - 27s 5ms/step - loss: 0.6935 - accuracy: 0.4978 - val_loss: 0.6931 - val_accuracy: 0.5018\n",
            "Epoch 7/20\n",
            "5400/5400 [==============================] - 28s 5ms/step - loss: 0.6935 - accuracy: 0.4986 - val_loss: 0.6931 - val_accuracy: 0.4982\n",
            "Epoch 8/20\n",
            "5400/5400 [==============================] - 28s 5ms/step - loss: 0.6935 - accuracy: 0.5005 - val_loss: 0.6932 - val_accuracy: 0.5018\n",
            "Epoch 9/20\n",
            "5400/5400 [==============================] - 27s 5ms/step - loss: 0.6934 - accuracy: 0.5014 - val_loss: 0.6932 - val_accuracy: 0.4982\n",
            "Epoch 10/20\n",
            "5400/5400 [==============================] - 27s 5ms/step - loss: 0.6934 - accuracy: 0.5028 - val_loss: 0.6931 - val_accuracy: 0.5018\n",
            "Epoch 11/20\n",
            "5400/5400 [==============================] - 27s 5ms/step - loss: 0.6934 - accuracy: 0.4997 - val_loss: 0.6932 - val_accuracy: 0.5018\n",
            "Epoch 12/20\n",
            "5400/5400 [==============================] - 27s 5ms/step - loss: 0.6934 - accuracy: 0.5008 - val_loss: 0.6936 - val_accuracy: 0.4982\n",
            "Epoch 13/20\n",
            "5400/5400 [==============================] - 27s 5ms/step - loss: 0.6934 - accuracy: 0.4991 - val_loss: 0.6936 - val_accuracy: 0.4982\n",
            "Epoch 14/20\n",
            "5400/5400 [==============================] - 27s 5ms/step - loss: 0.6934 - accuracy: 0.5002 - val_loss: 0.6931 - val_accuracy: 0.5018\n",
            "Epoch 15/20\n",
            "5400/5400 [==============================] - 27s 5ms/step - loss: 0.6934 - accuracy: 0.5019 - val_loss: 0.6932 - val_accuracy: 0.5018\n",
            "Epoch 16/20\n",
            "5400/5400 [==============================] - 27s 5ms/step - loss: 0.6934 - accuracy: 0.4989 - val_loss: 0.6931 - val_accuracy: 0.5018\n",
            "Epoch 17/20\n",
            "5400/5400 [==============================] - 27s 5ms/step - loss: 0.6934 - accuracy: 0.5001 - val_loss: 0.6931 - val_accuracy: 0.5018\n",
            "Epoch 18/20\n",
            "5400/5400 [==============================] - 27s 5ms/step - loss: 0.6934 - accuracy: 0.4980 - val_loss: 0.6932 - val_accuracy: 0.5018\n",
            "Epoch 19/20\n",
            "5400/5400 [==============================] - 27s 5ms/step - loss: 0.6934 - accuracy: 0.5038 - val_loss: 0.6932 - val_accuracy: 0.4982\n",
            "Epoch 20/20\n",
            "5400/5400 [==============================] - 27s 5ms/step - loss: 0.6934 - accuracy: 0.5001 - val_loss: 0.6939 - val_accuracy: 0.5018\n",
            "Fold 5, 20 epochs, 552 sec\n"
          ],
          "name": "stdout"
        },
        {
          "output_type": "display_data",
          "data": {
            "image/png": "[encoded data removed]",
            "text/plain": [
              "<Figure size 576x360 with 1 Axes>"
            ]
          },
          "metadata": {
            "tags": [],
            "needs_background": "light"
          }
        },
        {
          "output_type": "stream",
          "text": [
            "accuracy: 50.00%\n",
            "\n",
            "5-way Cross Validation mean 59.83% (+/- 19.66%)\n",
            "Done\n"
          ],
          "name": "stdout"
        }
      ]
    },
    {
      "cell_type": "code",
      "metadata": {
        "id": "p4fh2GI8beMQ"
      },
      "source": [
        ""
      ],
      "execution_count": 10,
      "outputs": []
    },
    {
      "cell_type": "code",
      "metadata": {
        "colab": {
          "base_uri": "https://localhost:8080/"
        },
        "id": "1Z7Qi5wzWQd-",
        "outputId": "e977b6e1-7aa1-4e78-cc5c-613afc1d13f7"
      },
      "source": [
        "from tensorflow.python.client import device_lib\r\n",
        "device_lib.list_local_devices()"
      ],
      "execution_count": 11,
      "outputs": [
        {
          "output_type": "execute_result",
          "data": {
            "text/plain": [
              "[name: \"/device:CPU:0\"\n",
              " device_type: \"CPU\"\n",
              " memory_limit: 268435456\n",
              " locality {\n",
              " }\n",
              " incarnation: 14385970017582735198, name: \"/device:GPU:0\"\n",
              " device_type: \"GPU\"\n",
              " memory_limit: 15507165056\n",
              " locality {\n",
              "   bus_id: 1\n",
              "   links {\n",
              "   }\n",
              " }\n",
              " incarnation: 17990315372153933521\n",
              " physical_device_desc: \"device: 0, name: Tesla V100-SXM2-16GB, pci bus id: 0000:00:04.0, compute capability: 7.0\"]"
            ]
          },
          "metadata": {
            "tags": []
          },
          "execution_count": 11
        }
      ]
    }
  ]
}