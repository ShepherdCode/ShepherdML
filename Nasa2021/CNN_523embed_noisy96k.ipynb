{
  "nbformat": 4,
  "nbformat_minor": 0,
  "metadata": {
    "accelerator": "GPU",
    "colab": {
      "name": "CNN_523embed_noisy96k.ipynb",
      "provenance": [],
      "collapsed_sections": [],
      "machine_shape": "hm",
      "include_colab_link": true
    },
    "kernelspec": {
      "display_name": "Python 3",
      "language": "python",
      "name": "python3"
    },
    "language_info": {
      "codemirror_mode": {
        "name": "ipython",
        "version": 3
      },
      "file_extension": ".py",
      "mimetype": "text/x-python",
      "name": "python",
      "nbconvert_exporter": "python",
      "pygments_lexer": "ipython3",
      "version": "3.8.3"
    }
  },
  "cells": [
    {
      "cell_type": "markdown",
      "metadata": {
        "id": "view-in-github",
        "colab_type": "text"
      },
      "source": [
        "<a href=\"https://colab.research.google.com/github/ShepherdCode/ShepherdML/blob/master/Nasa2021/CNN_523embed_noisy96k.ipynb\" target=\"_parent\"><img src=\"https://colab.research.google.com/assets/colab-badge.svg\" alt=\"Open In Colab\"/></a>"
      ]
    },
    {
      "cell_type": "code",
      "metadata": {
        "id": "PJDmazbCyqHC"
      },
      "source": [
        ""
      ],
      "execution_count": null,
      "outputs": []
    },
    {
      "cell_type": "markdown",
      "metadata": {
        "id": "view-in-github"
      },
      "source": [
        "<a href=\"https://colab.research.google.com/github/ShepherdCode/ShepherdML/blob/master/Nasa2021/CNN_523.ipynb\" target=\"_parent\"><img src=\"https://colab.research.google.com/assets/colab-badge.svg\" alt=\"Open In Colab\"/></a>"
      ]
    },
    {
      "cell_type": "markdown",
      "metadata": {
        "id": "ojm_6E9f9Kcf"
      },
      "source": [
        "# CNN 523 96k noisy\n",
        "\n",
        "1. Four layers of CNNS and MaxPooling\n",
        "2. Drop out at 0.2\n",
        "3. Variable filters and dense neurons\n",
        "4. 10% Noise, datasets of 3k coding and noncoding from 3k to 192k\n",
        "\n",
        "\n",
        "\n",
        "\n",
        "\n",
        "\n",
        "\n",
        "\n",
        "\n",
        "\n",
        "\n",
        "\n"
      ]
    },
    {
      "cell_type": "code",
      "metadata": {
        "colab": {
          "base_uri": "https://localhost:8080/"
        },
        "id": "hh6XplUvC0j0",
        "outputId": "04730586-c4e3-4da7-b023-f307bcc81983"
      },
      "source": [
        "#NC_FILENAME='ncRNA.tiny50.fasta'\n",
        "#PC_FILENAME='pcRNA.tiny50.fasta'\n",
        "#NC_FILENAME='ncRNA.gc34.processed.fasta'\n",
        "#PC_FILENAME='pcRNA.gc34.processed.fasta'\n",
        "NC_FILENAME='noisy_noncod_96000_10.fasta'  # CHANGE THIS TO 1000, 2000, 4000, etc.\n",
        "PC_FILENAME='noisy_coding_96000_10.fasta'\n",
        "NC_VAL_FILE='noncod_validation.fasta'  # 'noncod_validation.fasta'  # CHANGE THIS TO THE UNIFORM VALIDATION FILE\n",
        "PC_VAL_FILE='coding_validation.fasta'  # 'coding_validation.fasta'\n",
        "\n",
        "MODEL_FILE='JUNK1'   # CHANGE THIS IF YOU WANT TO SAVE THE MODEL!\n",
        "DATAPATH=''\n",
        "\n",
        "try:\n",
        "    from google.colab import drive\n",
        "    IN_COLAB = True\n",
        "    PATH='/content/drive/'\n",
        "    drive.mount(PATH)\n",
        "    DATAPATH=PATH+'My Drive/data/'  # must end in \"/\"\n",
        "except:\n",
        "    IN_COLAB = False\n",
        "    DATAPATH='data/'  # must end in \"/\"\n",
        "NC_FILENAME = DATAPATH+NC_FILENAME\n",
        "PC_FILENAME = DATAPATH+PC_FILENAME\n",
        "NC_VAL_FILE = DATAPATH+NC_VAL_FILE\n",
        "PC_VAL_FILE = DATAPATH+PC_VAL_FILE\n",
        "MODEL_FILE=DATAPATH+MODEL_FILE\n",
        "\n",
        "EPOCHS=20  # DECIDE ON SOME AMOUNT AND STICK WITH IT\n",
        "SPLITS=5\n",
        "K=1\n",
        "VOCABULARY_SIZE=4**K+1   # e.g. K=3 => 64 DNA K-mers + 'NNN'\n",
        "EMBED_DIMEN=2\n",
        "FILTERS=32\n",
        "KERNEL=3\n",
        "NEURONS=24\n",
        "DROP=0.2\n",
        "MINLEN=200\n",
        "MAXLEN=1000    # THIS HAS TO MATCH THE SIMULATION DATA\n",
        "DENSE_LEN = 1000\n",
        "ACT=\"tanh\""
      ],
      "execution_count": 1,
      "outputs": [
        {
          "output_type": "stream",
          "text": [
            "Drive already mounted at /content/drive/; to attempt to forcibly remount, call drive.mount(\"/content/drive/\", force_remount=True).\n"
          ],
          "name": "stdout"
        }
      ]
    },
    {
      "cell_type": "code",
      "metadata": {
        "colab": {
          "base_uri": "https://localhost:8080/"
        },
        "id": "e9TY3HK9ZklE",
        "outputId": "728fb973-06da-4366-846f-c981a02e2e9f"
      },
      "source": [
        "# Load our own tools\n",
        "# TO DO: don't go to GitHub if the file is already local.\n",
        "GITHUB = True\n",
        "if GITHUB:\n",
        "    #!pip install requests  # Uncomment this if necessary. Seems to be pre-installed.\n",
        "    import requests\n",
        "    r = requests.get('https://raw.githubusercontent.com/ShepherdCode/ShepherdML/master/Strings/tools_fasta.py')\n",
        "    with open('tools_fasta.py', 'w') as f:\n",
        "        f.write(r.text)\n",
        "    # TO DO: delete the file after import\n",
        "import tools_fasta as tools\n",
        "tools.yahoo()  # If this prints \"Yahoo!\" the the import was successful.\n",
        "\n",
        "TOOLS_CHANGED = False   # set to True to re-run with a new version of tools\n",
        "if TOOLS_CHANGED:\n",
        "  from importlib import reload \n",
        "  tools=reload(tools)\n",
        "  print(dir(tools))   # run this to see EVERYTHING in the tools module"
      ],
      "execution_count": 2,
      "outputs": [
        {
          "output_type": "stream",
          "text": [
            "Yahoo!\n"
          ],
          "name": "stdout"
        }
      ]
    },
    {
      "cell_type": "code",
      "metadata": {
        "id": "VQY7aTj29Kch"
      },
      "source": [
        "import numpy as np\n",
        "import pandas as pd\n",
        "import matplotlib.pyplot as plt\n",
        "from sklearn.model_selection import ShuffleSplit\n",
        "from sklearn.model_selection import cross_val_score\n",
        "from sklearn.model_selection import RepeatedKFold\n",
        "from sklearn.model_selection import StratifiedKFold\n",
        "import tensorflow as tf\n",
        "from tensorflow import keras\n",
        "import time\n",
        "dt='float32'\n",
        "tf.keras.backend.set_floatx(dt)"
      ],
      "execution_count": 3,
      "outputs": []
    },
    {
      "cell_type": "markdown",
      "metadata": {
        "id": "j7jcg6Wl9Kc2"
      },
      "source": [
        "Build model"
      ]
    },
    {
      "cell_type": "code",
      "metadata": {
        "id": "qLFNO1Xa9Kc3"
      },
      "source": [
        "def compile_model(model):\n",
        "    print(\"COMPILE...\")\n",
        "    bc=tf.keras.losses.BinaryCrossentropy(from_logits=False)\n",
        "    model.compile(loss=bc, optimizer=\"adam\", metrics=[\"accuracy\"])\n",
        "    print(\"...COMPILED\")\n",
        "    return model\n",
        "\n",
        "def build_model():\n",
        "    #SHAPE=(MAXLEN,5)  \n",
        "    SHAPE=(MAXLEN,4)  \n",
        "    # 4 input letters, 4 output dimensions, 1000 letters/RNA\n",
        "    elayer  = keras.layers.Embedding(4,4,input_length=1000) \n",
        "\n",
        "    clayer1 = keras.layers.Conv1D(FILTERS,KERNEL,activation=ACT,padding=\"same\",\n",
        "                                 input_shape=SHAPE)\n",
        "    clayer2 = keras.layers.Conv1D(FILTERS,KERNEL,activation=ACT,padding=\"same\")\n",
        "    clayer3 = keras.layers.MaxPooling1D(2)\n",
        "    clayer4 = keras.layers.Conv1D(FILTERS,KERNEL,activation=ACT,padding=\"same\")\n",
        "    clayer5 = keras.layers.Conv1D(FILTERS,KERNEL,activation=ACT,padding=\"same\")\n",
        "    clayer6 = keras.layers.MaxPooling1D(2)\n",
        "    clayer7 = keras.layers.Conv1D(FILTERS,KERNEL,activation=ACT,padding=\"same\")\n",
        "    clayer8 = keras.layers.Conv1D(FILTERS,KERNEL,activation=ACT,padding=\"same\")\n",
        "    clayer9 = keras.layers.MaxPooling1D(2)\n",
        "    clayer10 = keras.layers.Conv1D(FILTERS,KERNEL,activation=ACT,padding=\"same\")\n",
        "    clayer11 = keras.layers.Conv1D(FILTERS,KERNEL,activation=ACT,padding=\"same\")\n",
        "    clayer12 = keras.layers.MaxPooling1D(2)\n",
        "\n",
        "    clayer13 = keras.layers.Flatten()\n",
        "\n",
        "    dlayer1 = keras.layers.Dense(NEURONS, activation=ACT,dtype=dt, input_shape=[DENSE_LEN])\n",
        "    dlayer2 = keras.layers.Dropout(DROP)\n",
        "    dlayer3 = keras.layers.Dense(NEURONS, activation=ACT,dtype=dt)\n",
        "    dlayer4 = keras.layers.Dropout(DROP)\n",
        "    output_layer = keras.layers.Dense(1, activation=\"sigmoid\", dtype=dt)\n",
        "\n",
        "    cnn = keras.models.Sequential()\n",
        "    cnn.add(elayer)\n",
        "    cnn.add(clayer1)\n",
        "    cnn.add(clayer2)\n",
        "    cnn.add(clayer3)\n",
        "    cnn.add(clayer4)\n",
        "    cnn.add(clayer5)\n",
        "    cnn.add(clayer6)\n",
        "    cnn.add(clayer7)\n",
        "    cnn.add(clayer8)\n",
        "    cnn.add(clayer9)\n",
        "    cnn.add(clayer10)\n",
        "    cnn.add(clayer11)\n",
        "    cnn.add(clayer12)\n",
        "    cnn.add(clayer13)\n",
        "    cnn.add(dlayer1)\n",
        "    cnn.add(dlayer2)\n",
        "    cnn.add(dlayer3)\n",
        "    cnn.add(dlayer4)\n",
        "    cnn.add(output_layer)\n",
        "    mlpc = compile_model(cnn)\n",
        "    return mlpc"
      ],
      "execution_count": 4,
      "outputs": []
    },
    {
      "cell_type": "markdown",
      "metadata": {
        "id": "LdIS2utq9Kc9"
      },
      "source": [
        "Cross validation"
      ]
    },
    {
      "cell_type": "code",
      "metadata": {
        "id": "BVo4tbB_9Kc-"
      },
      "source": [
        "def do_cross_validation(X,y,given_model,X_VALID,Y_VALID):\n",
        "    cv_scores = []\n",
        "    fold=0\n",
        "    splitter = ShuffleSplit(n_splits=SPLITS, test_size=0.1, random_state=37863)\n",
        "    for train_index,valid_index in splitter.split(X):\n",
        "        fold += 1\n",
        "        X_train=X[train_index] # use iloc[] for dataframe\n",
        "        y_train=y[train_index]\n",
        "        X_valid=X[valid_index]\n",
        "        y_valid=y[valid_index]        \n",
        "        # Avoid continually improving the same model.\n",
        "        model = compile_model(keras.models.clone_model(given_model))\n",
        "        bestname=MODEL_FILE+\".cv.\"+str(fold)+\".best\"\n",
        "        mycallbacks = [keras.callbacks.ModelCheckpoint(\n",
        "            filepath=bestname, save_best_only=True, \n",
        "            monitor='val_accuracy', mode='max')]   \n",
        "        print(\"FIT\")\n",
        "        start_time=time.time()\n",
        "        history=model.fit(X_train, y_train, \n",
        "                epochs=EPOCHS, verbose=1, callbacks=mycallbacks,\n",
        "                validation_data=(X_valid,y_valid))\n",
        "        # THE VALIDATION ABOVE IS JUST FOR SHOW\n",
        "        end_time=time.time()\n",
        "        elapsed_time=(end_time-start_time)                        \n",
        "        print(\"Fold %d, %d epochs, %d sec\"%(fold,EPOCHS,elapsed_time))\n",
        "        pd.DataFrame(history.history).plot(figsize=(8,5))\n",
        "        plt.grid(True)\n",
        "        plt.gca().set_ylim(0,1)\n",
        "        plt.show()\n",
        "        best_model=keras.models.load_model(bestname)\n",
        "        # THE VALIDATION BELOW IS FOR KEEPS\n",
        "        scores = best_model.evaluate(X_VALID, Y_VALID, verbose=0)\n",
        "        print(\"%s: %.2f%%\" % (best_model.metrics_names[1], scores[1]*100))\n",
        "        cv_scores.append(scores[1] * 100)  \n",
        "    print()\n",
        "    print(\"%d-way Cross Validation mean %.2f%% (+/- %.2f%%)\" % (fold, np.mean(cv_scores), np.std(cv_scores)))"
      ],
      "execution_count": 5,
      "outputs": []
    },
    {
      "cell_type": "markdown",
      "metadata": {
        "id": "qd3Wj_vI9KdP"
      },
      "source": [
        "## Train on RNA lengths 200-1Kb"
      ]
    },
    {
      "cell_type": "code",
      "metadata": {
        "colab": {
          "base_uri": "https://localhost:8080/"
        },
        "id": "G1HuSs8ZbeL4",
        "outputId": "799982b9-301b-46fb-caaa-c4966c89d0f8"
      },
      "source": [
        "print (\"Compile the model\")\n",
        "model=build_model()\n",
        "print (\"Summarize the model\")\n",
        "print(model.summary())  # Print this only once\n",
        "#model.save(MODEL_FILE+'.model')\n"
      ],
      "execution_count": 6,
      "outputs": [
        {
          "output_type": "stream",
          "text": [
            "Compile the model\n",
            "COMPILE...\n",
            "...COMPILED\n",
            "Summarize the model\n",
            "Model: \"sequential\"\n",
            "_________________________________________________________________\n",
            "Layer (type)                 Output Shape              Param #   \n",
            "=================================================================\n",
            "embedding (Embedding)        (None, 1000, 4)           16        \n",
            "_________________________________________________________________\n",
            "conv1d (Conv1D)              (None, 1000, 32)          416       \n",
            "_________________________________________________________________\n",
            "conv1d_1 (Conv1D)            (None, 1000, 32)          3104      \n",
            "_________________________________________________________________\n",
            "max_pooling1d (MaxPooling1D) (None, 500, 32)           0         \n",
            "_________________________________________________________________\n",
            "conv1d_2 (Conv1D)            (None, 500, 32)           3104      \n",
            "_________________________________________________________________\n",
            "conv1d_3 (Conv1D)            (None, 500, 32)           3104      \n",
            "_________________________________________________________________\n",
            "max_pooling1d_1 (MaxPooling1 (None, 250, 32)           0         \n",
            "_________________________________________________________________\n",
            "conv1d_4 (Conv1D)            (None, 250, 32)           3104      \n",
            "_________________________________________________________________\n",
            "conv1d_5 (Conv1D)            (None, 250, 32)           3104      \n",
            "_________________________________________________________________\n",
            "max_pooling1d_2 (MaxPooling1 (None, 125, 32)           0         \n",
            "_________________________________________________________________\n",
            "conv1d_6 (Conv1D)            (None, 125, 32)           3104      \n",
            "_________________________________________________________________\n",
            "conv1d_7 (Conv1D)            (None, 125, 32)           3104      \n",
            "_________________________________________________________________\n",
            "max_pooling1d_3 (MaxPooling1 (None, 62, 32)            0         \n",
            "_________________________________________________________________\n",
            "flatten (Flatten)            (None, 1984)              0         \n",
            "_________________________________________________________________\n",
            "dense (Dense)                (None, 24)                47640     \n",
            "_________________________________________________________________\n",
            "dropout (Dropout)            (None, 24)                0         \n",
            "_________________________________________________________________\n",
            "dense_1 (Dense)              (None, 24)                600       \n",
            "_________________________________________________________________\n",
            "dropout_1 (Dropout)          (None, 24)                0         \n",
            "_________________________________________________________________\n",
            "dense_2 (Dense)              (None, 1)                 25        \n",
            "=================================================================\n",
            "Total params: 70,425\n",
            "Trainable params: 70,425\n",
            "Non-trainable params: 0\n",
            "_________________________________________________________________\n",
            "None\n"
          ],
          "name": "stdout"
        }
      ]
    },
    {
      "cell_type": "code",
      "metadata": {
        "id": "f8fNo6sn9KdH"
      },
      "source": [
        "def load_data_from_files(nc_filename,pc_filename):\n",
        "  FREEMEM=True   # use False for debugging, True for production\n",
        "  print(\"Load data from files.\")\n",
        "  nc_seq=tools.load_fasta(nc_filename,0)\n",
        "  pc_seq=tools.load_fasta(pc_filename,1)\n",
        "  train_set=pd.concat((nc_seq,pc_seq),axis=0)\n",
        "  print(\"Ready: train_set\")\n",
        "  subset=tools.make_slice(train_set,MINLEN,MAXLEN)# One array to two: X and y\n",
        "  if FREEMEM:\n",
        "      nc_seq=None\n",
        "      pc_seq=None\n",
        "      train_set=None\n",
        "  (X1,y_train)=tools.separate_X_and_y(subset)\n",
        "  # X1 is pandas df of (\"list\" of one sequence)\n",
        "  X2=X1.to_numpy()  # numpy ndarray of (\"list\" of one sequence)\n",
        "  X3=[elem[0] for elem in X2]  # numpy ndarray of ACGT-str\n",
        "  # X3? It might be faster to use int-array than char-array. Come back to this.\n",
        "  X4=X3  # no-op\n",
        "  print(\"X4\",type(X4))\n",
        "  #print(X4[0])\n",
        "  if FREEMEM:\n",
        "      X1=None\n",
        "      X2=None\n",
        "      X3=None\n",
        "  X5=[]\n",
        "  dna_to_int = {'A':0,'C':1,'G':2,'T':3}\n",
        "  for x in X4:\n",
        "      a=[]\n",
        "      for c in x:\n",
        "          i = dna_to_int[c]\n",
        "          a.append(i)\n",
        "      X5.append(a)\n",
        "  X5=np.asarray(X5)\n",
        "  print(\"X5\",type(X5))\n",
        "  print(X5.shape)\n",
        "  if FREEMEM:\n",
        "      X4=None\n",
        "  X_train=X5\n",
        "  if FREEMEM:\n",
        "      X5=None\n",
        "  print(\"X_train\",type(X_train))\n",
        "  y_train=y_train.to_numpy()\n",
        "  print(X_train.shape)\n",
        "  print(X_train[0].shape)\n",
        "  print(X_train[0])\n",
        "  return X_train,y_train\n"
      ],
      "execution_count": 7,
      "outputs": []
    },
    {
      "cell_type": "code",
      "metadata": {
        "colab": {
          "base_uri": "https://localhost:8080/"
        },
        "id": "UmEls9oXRQON",
        "outputId": "f8196d8d-d080-4c5e-acfd-622e81e36d16"
      },
      "source": [
        "print(\"Loading training data...\")\n",
        "X_train,y_train = load_data_from_files(NC_FILENAME,PC_FILENAME)"
      ],
      "execution_count": 8,
      "outputs": [
        {
          "output_type": "stream",
          "text": [
            "Loading training data...\n",
            "Load data from files.\n",
            "Ready: train_set\n",
            "X4 <class 'list'>\n",
            "X5 <class 'numpy.ndarray'>\n",
            "(192000, 1000)\n",
            "X_train <class 'numpy.ndarray'>\n",
            "(192000, 1000)\n",
            "(1000,)\n",
            "[0 1 0 1 3 1 3 1 1 0 1 2 3 2 1 3 1 0 3 2 3 3 0 3 1 0 3 1 3 0 0 2 0 0 2 2 2\n",
            " 1 3 3 3 3 0 2 1 0 2 3 2 1 3 0 2 1 3 1 3 3 1 0 3 1 0 3 2 1 2 0 2 2 0 3 3 1\n",
            " 0 2 3 1 1 2 3 0 1 1 0 3 3 0 3 3 0 3 0 1 1 0 1 1 1 2 0 0 1 2 2 2 1 0 3 3 0\n",
            " 3 0 1 0 3 1 1 0 1 0 1 0 2 1 0 1 0 3 3 0 1 2 3 1 3 1 0 2 3 3 1 2 2 0 0 2 1\n",
            " 2 1 2 1 2 3 1 0 2 2 2 3 1 1 2 2 3 0 2 0 0 3 0 1 2 3 0 0 0 3 0 3 3 2 1 3 0\n",
            " 3 2 3 2 3 0 2 2 1 1 0 3 2 3 1 2 2 2 2 0 0 3 3 3 0 0 0 1 3 2 2 3 3 1 1 2 2\n",
            " 1 1 1 0 2 3 3 2 2 3 2 2 0 1 1 2 0 2 0 3 1 0 0 3 2 2 0 0 0 3 1 0 1 3 3 0 0\n",
            " 3 1 1 1 3 1 1 1 3 3 2 2 1 0 3 3 0 3 3 3 1 1 0 2 2 0 3 3 3 1 0 1 1 3 2 1 0\n",
            " 0 0 0 1 3 0 3 2 2 1 2 2 2 2 2 1 1 2 1 1 0 2 3 3 0 0 3 2 0 3 0 3 3 1 1 1 1\n",
            " 1 0 0 3 2 1 1 1 3 3 2 2 1 2 3 0 1 3 0 3 0 1 0 0 1 1 0 2 0 2 0 3 1 2 0 1 0\n",
            " 1 1 1 1 2 1 3 3 3 3 1 1 2 3 0 2 0 3 2 2 3 1 1 1 0 2 3 1 1 1 0 1 3 1 1 1 1\n",
            " 0 2 0 3 0 1 2 1 0 3 3 1 0 0 1 3 3 3 1 2 3 1 2 1 3 0 0 2 1 0 1 2 2 3 1 1 3\n",
            " 2 1 1 3 1 3 1 2 2 0 1 2 3 2 3 0 2 2 3 2 1 1 2 2 1 2 1 1 3 1 0 2 3 2 2 3 3\n",
            " 0 3 2 0 3 0 3 1 0 3 2 3 2 2 3 2 1 3 1 1 1 3 2 0 3 0 1 2 3 0 3 0 2 0 3 1 0\n",
            " 3 0 3 0 0 3 3 0 3 1 2 3 1 2 2 1 3 3 0 3 3 3 2 3 1 2 0 3 1 2 1 3 3 3 0 1 0\n",
            " 1 3 2 3 1 3 0 3 0 3 1 1 2 3 3 1 2 2 2 2 2 3 0 3 1 1 1 0 1 3 0 2 3 1 2 3 0\n",
            " 1 1 1 2 2 3 3 3 0 0 1 0 0 3 3 0 3 1 3 3 0 3 3 0 0 0 1 0 0 2 2 3 2 3 3 1 3\n",
            " 2 2 1 2 1 0 3 2 1 2 3 0 3 3 3 2 3 3 3 2 0 1 2 0 1 2 2 2 2 3 2 1 2 3 3 0 1\n",
            " 2 2 3 2 1 0 1 1 0 0 2 3 3 3 0 3 0 1 0 2 2 1 0 1 3 0 3 3 0 3 1 0 3 3 3 2 3\n",
            " 2 2 1 3 0 0 0 0 3 3 0 2 2 3 0 1 2 0 0 3 1 1 2 3 1 0 3 0 3 2 1 3 0 2 1 1 0\n",
            " 0 2 1 3 2 3 1 1 1 0 1 3 0 1 1 3 2 0 0 3 2 1 2 0 3 3 3 3 3 2 0 1 3 1 1 0 3\n",
            " 0 2 1 1 0 2 0 1 0 2 2 3 0 1 2 1 2 2 0 3 2 0 2 3 2 0 1 2 1 2 3 1 2 0 1 0 1\n",
            " 2 0 0 1 3 3 2 2 0 0 3 3 3 3 1 3 3 2 1 2 2 3 0 0 3 0 2 1 3 0 1 1 0 0 3 1 2\n",
            " 0 3 0 2 2 2 3 3 0 1 0 3 0 2 1 2 3 1 2 2 2 2 2 0 1 1 1 3 2 0 3 1 0 0 3 3 2\n",
            " 3 0 1 0 1 1 2 2 1 0 1 1 3 0 1 3 1 1 3 3 3 2 1 2 3 2 3 3 1 2 3 2 2 2 0 2 3\n",
            " 3 2 1 3 1 3 1 1 2 1 3 0 0 1 2 3 0 3 2 3 1 0 0 1 3 1 0 2 1 3 3 1 2 0 0 1 2\n",
            " 1 2 3 0 2 0 0 0 1 0 1 2 1 1 3 1 1 2 1 2 0 2 1 1 3 3 1 1 0 2 3 1 0 3 2 1 3\n",
            " 1]\n"
          ],
          "name": "stdout"
        }
      ]
    },
    {
      "cell_type": "code",
      "metadata": {
        "colab": {
          "base_uri": "https://localhost:8080/"
        },
        "id": "sfvgDZR1a_2j",
        "outputId": "a4317c9f-e76c-49e8-9766-a2bb10866538"
      },
      "source": [
        "print(\"Loading validation data...\")\n",
        "X_VALID,Y_VALID = load_data_from_files(NC_VAL_FILE,PC_VAL_FILE)"
      ],
      "execution_count": 9,
      "outputs": [
        {
          "output_type": "stream",
          "text": [
            "Loading validation data...\n",
            "Load data from files.\n",
            "Ready: train_set\n",
            "X4 <class 'list'>\n",
            "X5 <class 'numpy.ndarray'>\n",
            "(100000, 1000)\n",
            "X_train <class 'numpy.ndarray'>\n",
            "(100000, 1000)\n",
            "(1000,)\n",
            "[1 3 3 0 2 1 3 0 3 0 0 2 3 1 0 0 1 3 2 2 2 1 0 3 0 1 3 3 2 0 3 1 0 3 1 0 0\n",
            " 1 1 3 2 0 3 2 1 0 2 0 2 0 0 0 3 0 1 2 1 2 3 2 2 0 2 1 3 2 2 0 1 1 2 0 0 2\n",
            " 1 3 0 2 3 1 2 3 3 3 1 0 0 2 2 1 1 2 0 0 0 3 2 3 0 2 0 1 0 1 3 2 3 1 0 2 3\n",
            " 2 0 1 2 0 2 0 0 0 3 1 0 3 1 3 0 0 3 0 3 0 2 3 0 3 0 0 0 2 3 2 0 0 1 2 2 2\n",
            " 3 2 2 1 1 3 1 2 1 0 1 3 1 0 1 3 1 1 0 2 2 2 2 2 1 0 1 0 0 2 1 1 0 0 3 1 2\n",
            " 2 3 3 2 3 2 1 3 2 0 0 2 0 1 3 0 1 0 1 1 0 2 1 3 3 0 1 2 3 3 1 2 0 1 2 3 3\n",
            " 3 0 3 3 2 2 1 3 3 2 3 3 1 1 2 1 0 0 1 0 0 1 1 3 0 0 2 0 2 0 0 1 0 1 2 1 2\n",
            " 2 3 2 0 1 0 1 1 0 2 0 2 0 2 2 1 0 2 2 1 3 2 2 2 2 0 0 1 2 2 1 3 0 1 0 0 3\n",
            " 0 1 3 1 0 3 2 2 3 2 1 0 2 3 2 1 3 2 3 2 1 2 3 0 3 1 0 3 3 0 2 2 3 0 3 1 1\n",
            " 2 2 0 2 2 2 1 2 2 3 1 3 2 0 2 1 1 3 2 0 3 3 1 0 2 3 1 2 1 0 0 3 2 0 2 0 2\n",
            " 0 2 1 0 3 1 3 1 1 3 3 2 1 2 1 0 1 1 0 3 1 2 0 0 3 1 0 3 1 2 0 2 2 2 0 3 1\n",
            " 0 3 2 2 2 0 2 1 1 1 2 1 0 2 2 3 1 1 0 3 3 2 2 2 2 3 0 2 1 1 2 0 2 2 1 3 1\n",
            " 0 0 3 0 1 1 0 3 1 3 3 2 1 2 0 2 3 1 2 3 2 3 0 2 0 2 0 0 0 1 0 0 1 0 3 0 1\n",
            " 1 2 2 2 0 3 2 0 0 1 3 3 2 0 2 1 2 2 2 0 1 1 2 1 1 2 0 1 1 1 3 0 3 2 3 2 3\n",
            " 1 2 2 3 2 3 2 1 3 3 2 1 2 3 1 1 0 0 1 0 1 1 2 0 1 1 2 1 3 0 2 1 1 1 3 3 3\n",
            " 1 3 1 1 2 3 1 2 0 3 0 3 0 0 1 2 2 1 2 2 1 0 0 2 2 1 2 3 1 0 3 1 3 0 0 1 3\n",
            " 2 0 1 3 1 1 3 3 2 1 1 1 0 1 3 1 0 2 0 2 3 3 2 3 2 1 3 2 3 1 3 1 1 1 0 3 3\n",
            " 2 3 3 1 1 1 1 3 0 0 0 3 0 1 1 0 0 0 2 1 2 1 0 2 0 3 1 3 2 2 3 1 3 0 0 1 1\n",
            " 2 2 0 2 0 0 3 0 0 3 2 2 3 3 2 0 3 0 2 0 0 3 2 2 3 2 1 1 2 2 2 1 0 1 2 0 1\n",
            " 2 1 0 0 2 3 0 0 1 1 1 2 3 2 2 2 0 1 1 3 1 0 0 2 3 2 3 1 3 3 3 0 3 0 1 3 0\n",
            " 1 2 3 1 2 0 1 2 2 3 1 1 1 0 3 3 0 2 2 0 3 1 1 1 2 1 1 1 0 3 2 0 2 1 3 3 2\n",
            " 0 0 3 3 0 3 1 0 3 3 1 3 0 2 1 1 2 2 3 1 0 1 1 3 0 1 1 0 0 3 2 1 3 0 0 1 1\n",
            " 3 3 0 3 3 2 2 0 3 2 1 0 1 1 0 1 0 3 3 2 3 1 1 1 1 0 3 3 2 0 1 1 2 1 0 2 2\n",
            " 1 3 1 0 3 3 2 1 0 2 2 1 3 0 0 1 2 3 0 0 0 1 3 0 0 3 2 3 0 2 0 3 0 0 3 0 2\n",
            " 2 3 3 3 0 3 3 2 2 3 1 2 2 2 0 3 2 2 3 2 3 0 2 2 0 0 2 0 1 0 0 1 0 1 2 1 3\n",
            " 3 1 0 3 0 1 0 2 3 2 2 0 2 3 3 0 3 1 2 1 0 2 2 2 0 2 0 3 2 1 0 2 3 0 2 3 2\n",
            " 1 3 3 3 3 0 3 1 2 3 2 0 3 1 0 1 2 2 1 1 1 1 3 3 0 1 2 2 1 1 0 0 3 1 0 0 3\n",
            " 2]\n"
          ],
          "name": "stdout"
        }
      ]
    },
    {
      "cell_type": "code",
      "metadata": {
        "colab": {
          "base_uri": "https://localhost:8080/",
          "height": 1000
        },
        "id": "mQ8eW5Rg9KdQ",
        "outputId": "f6d33089-cdf6-4f03-a804-26d4c5a1e9ff"
      },
      "source": [
        "print (\"Cross validation\")\n",
        "do_cross_validation(X_train,y_train,model,X_VALID,Y_VALID)  \n",
        "print (\"Done\")"
      ],
      "execution_count": 10,
      "outputs": [
        {
          "output_type": "stream",
          "text": [
            "Cross validation\n",
            "COMPILE...\n",
            "...COMPILED\n",
            "FIT\n",
            "Epoch 1/20\n",
            "5400/5400 [==============================] - 40s 7ms/step - loss: 0.6911 - accuracy: 0.5082 - val_loss: 0.4144 - val_accuracy: 0.8442\n",
            "INFO:tensorflow:Assets written to: /content/drive/My Drive/data/JUNK1.cv.1.best/assets\n",
            "Epoch 2/20\n",
            "5400/5400 [==============================] - 35s 6ms/step - loss: 0.3885 - accuracy: 0.8658 - val_loss: 0.3392 - val_accuracy: 0.8925\n",
            "INFO:tensorflow:Assets written to: /content/drive/My Drive/data/JUNK1.cv.1.best/assets\n",
            "Epoch 3/20\n",
            "5400/5400 [==============================] - 37s 7ms/step - loss: 0.3499 - accuracy: 0.8891 - val_loss: 0.3440 - val_accuracy: 0.8887\n",
            "Epoch 4/20\n",
            "5400/5400 [==============================] - 37s 7ms/step - loss: 0.3441 - accuracy: 0.8915 - val_loss: 0.3345 - val_accuracy: 0.8945\n",
            "INFO:tensorflow:Assets written to: /content/drive/My Drive/data/JUNK1.cv.1.best/assets\n",
            "Epoch 5/20\n",
            "5400/5400 [==============================] - 36s 7ms/step - loss: 0.3397 - accuracy: 0.8938 - val_loss: 0.3403 - val_accuracy: 0.8913\n",
            "Epoch 6/20\n",
            "5400/5400 [==============================] - 35s 6ms/step - loss: 0.3435 - accuracy: 0.8922 - val_loss: 0.3358 - val_accuracy: 0.8936\n",
            "Epoch 7/20\n",
            "5400/5400 [==============================] - 35s 7ms/step - loss: 0.3381 - accuracy: 0.8944 - val_loss: 0.3321 - val_accuracy: 0.8961\n",
            "INFO:tensorflow:Assets written to: /content/drive/My Drive/data/JUNK1.cv.1.best/assets\n",
            "Epoch 8/20\n",
            "5400/5400 [==============================] - 37s 7ms/step - loss: 0.3357 - accuracy: 0.8954 - val_loss: 0.3334 - val_accuracy: 0.8961\n",
            "Epoch 9/20\n",
            "5400/5400 [==============================] - 37s 7ms/step - loss: 0.3381 - accuracy: 0.8946 - val_loss: 0.3312 - val_accuracy: 0.8969\n",
            "INFO:tensorflow:Assets written to: /content/drive/My Drive/data/JUNK1.cv.1.best/assets\n",
            "Epoch 10/20\n",
            "5400/5400 [==============================] - 37s 7ms/step - loss: 0.3364 - accuracy: 0.8950 - val_loss: 0.3315 - val_accuracy: 0.8961\n",
            "Epoch 11/20\n",
            "5400/5400 [==============================] - 37s 7ms/step - loss: 0.3353 - accuracy: 0.8957 - val_loss: 0.3315 - val_accuracy: 0.8968\n",
            "Epoch 12/20\n",
            "5400/5400 [==============================] - 37s 7ms/step - loss: 0.3361 - accuracy: 0.8951 - val_loss: 0.3344 - val_accuracy: 0.8950\n",
            "Epoch 13/20\n",
            "5400/5400 [==============================] - 38s 7ms/step - loss: 0.3378 - accuracy: 0.8947 - val_loss: 0.3306 - val_accuracy: 0.8967\n",
            "Epoch 14/20\n",
            "5400/5400 [==============================] - 37s 7ms/step - loss: 0.3405 - accuracy: 0.8935 - val_loss: 0.3345 - val_accuracy: 0.8947\n",
            "Epoch 15/20\n",
            "5400/5400 [==============================] - 37s 7ms/step - loss: 0.3416 - accuracy: 0.8928 - val_loss: 0.3310 - val_accuracy: 0.8965\n",
            "Epoch 16/20\n",
            "5400/5400 [==============================] - 37s 7ms/step - loss: 0.3375 - accuracy: 0.8950 - val_loss: 0.3308 - val_accuracy: 0.8964\n",
            "Epoch 17/20\n",
            "5400/5400 [==============================] - 37s 7ms/step - loss: 0.3414 - accuracy: 0.8932 - val_loss: 0.3297 - val_accuracy: 0.8973\n",
            "INFO:tensorflow:Assets written to: /content/drive/My Drive/data/JUNK1.cv.1.best/assets\n",
            "Epoch 18/20\n",
            "5400/5400 [==============================] - 37s 7ms/step - loss: 0.3386 - accuracy: 0.8943 - val_loss: 0.3357 - val_accuracy: 0.8939\n",
            "Epoch 19/20\n",
            "5400/5400 [==============================] - 37s 7ms/step - loss: 0.3354 - accuracy: 0.8955 - val_loss: 0.3325 - val_accuracy: 0.8960\n",
            "Epoch 20/20\n",
            "5400/5400 [==============================] - 35s 6ms/step - loss: 0.3424 - accuracy: 0.8921 - val_loss: 0.3340 - val_accuracy: 0.8951\n",
            "Fold 1, 20 epochs, 750 sec\n"
          ],
          "name": "stdout"
        },
        {
          "output_type": "display_data",
          "data": {
            "image/png": "[encoded data removed]",
            "text/plain": [
              "<Figure size 576x360 with 1 Axes>"
            ]
          },
          "metadata": {
            "tags": [],
            "needs_background": "light"
          }
        },
        {
          "output_type": "stream",
          "text": [
            "accuracy: 99.64%\n",
            "COMPILE...\n",
            "...COMPILED\n",
            "FIT\n",
            "Epoch 1/20\n",
            "5400/5400 [==============================] - 37s 7ms/step - loss: 0.6920 - accuracy: 0.5069 - val_loss: 0.4635 - val_accuracy: 0.8057\n",
            "INFO:tensorflow:Assets written to: /content/drive/My Drive/data/JUNK1.cv.2.best/assets\n",
            "Epoch 2/20\n",
            "5400/5400 [==============================] - 36s 7ms/step - loss: 0.4142 - accuracy: 0.8485 - val_loss: 0.3377 - val_accuracy: 0.8922\n",
            "INFO:tensorflow:Assets written to: /content/drive/My Drive/data/JUNK1.cv.2.best/assets\n",
            "Epoch 3/20\n",
            "5400/5400 [==============================] - 36s 7ms/step - loss: 0.3532 - accuracy: 0.8872 - val_loss: 0.4328 - val_accuracy: 0.8691\n",
            "Epoch 4/20\n",
            "5400/5400 [==============================] - 35s 7ms/step - loss: 0.3517 - accuracy: 0.8882 - val_loss: 0.3344 - val_accuracy: 0.8945\n",
            "INFO:tensorflow:Assets written to: /content/drive/My Drive/data/JUNK1.cv.2.best/assets\n",
            "Epoch 5/20\n",
            "5400/5400 [==============================] - 36s 7ms/step - loss: 0.3443 - accuracy: 0.8910 - val_loss: 0.3289 - val_accuracy: 0.8976\n",
            "INFO:tensorflow:Assets written to: /content/drive/My Drive/data/JUNK1.cv.2.best/assets\n",
            "Epoch 6/20\n",
            "5400/5400 [==============================] - 36s 7ms/step - loss: 0.3425 - accuracy: 0.8922 - val_loss: 0.3298 - val_accuracy: 0.8970\n",
            "Epoch 7/20\n",
            "5400/5400 [==============================] - 35s 7ms/step - loss: 0.3415 - accuracy: 0.8928 - val_loss: 0.3329 - val_accuracy: 0.8952\n",
            "Epoch 8/20\n",
            "5400/5400 [==============================] - 36s 7ms/step - loss: 0.3381 - accuracy: 0.8947 - val_loss: 0.3354 - val_accuracy: 0.8937\n",
            "Epoch 9/20\n",
            "5400/5400 [==============================] - 36s 7ms/step - loss: 0.3419 - accuracy: 0.8927 - val_loss: 0.3268 - val_accuracy: 0.8986\n",
            "INFO:tensorflow:Assets written to: /content/drive/My Drive/data/JUNK1.cv.2.best/assets\n",
            "Epoch 10/20\n",
            "5400/5400 [==============================] - 36s 7ms/step - loss: 0.3385 - accuracy: 0.8942 - val_loss: 0.3261 - val_accuracy: 0.8987\n",
            "INFO:tensorflow:Assets written to: /content/drive/My Drive/data/JUNK1.cv.2.best/assets\n",
            "Epoch 11/20\n",
            "5400/5400 [==============================] - 35s 7ms/step - loss: 0.3364 - accuracy: 0.8955 - val_loss: 0.3401 - val_accuracy: 0.8916\n",
            "Epoch 12/20\n",
            "5400/5400 [==============================] - 35s 7ms/step - loss: 0.3461 - accuracy: 0.8900 - val_loss: 0.3270 - val_accuracy: 0.8985\n",
            "Epoch 13/20\n",
            "5400/5400 [==============================] - 35s 7ms/step - loss: 0.3368 - accuracy: 0.8957 - val_loss: 0.3285 - val_accuracy: 0.8978\n",
            "Epoch 14/20\n",
            "5400/5400 [==============================] - 35s 6ms/step - loss: 0.3527 - accuracy: 0.8858 - val_loss: 0.3276 - val_accuracy: 0.8989\n",
            "INFO:tensorflow:Assets written to: /content/drive/My Drive/data/JUNK1.cv.2.best/assets\n",
            "Epoch 15/20\n",
            "5400/5400 [==============================] - 36s 7ms/step - loss: 0.3390 - accuracy: 0.8941 - val_loss: 0.3294 - val_accuracy: 0.8972\n",
            "Epoch 16/20\n",
            "5400/5400 [==============================] - 35s 7ms/step - loss: 0.3361 - accuracy: 0.8957 - val_loss: 0.3296 - val_accuracy: 0.8974\n",
            "Epoch 17/20\n",
            "5400/5400 [==============================] - 35s 7ms/step - loss: 0.3417 - accuracy: 0.8927 - val_loss: 0.3282 - val_accuracy: 0.8982\n",
            "Epoch 18/20\n",
            "5400/5400 [==============================] - 36s 7ms/step - loss: 0.3418 - accuracy: 0.8923 - val_loss: 0.3471 - val_accuracy: 0.8865\n",
            "Epoch 19/20\n",
            "5400/5400 [==============================] - 35s 6ms/step - loss: 0.3667 - accuracy: 0.8735 - val_loss: 0.6932 - val_accuracy: 0.4988\n",
            "Epoch 20/20\n",
            "5400/5400 [==============================] - 35s 6ms/step - loss: 0.6942 - accuracy: 0.5007 - val_loss: 0.6933 - val_accuracy: 0.5013\n",
            "Fold 2, 20 epochs, 728 sec\n"
          ],
          "name": "stdout"
        },
        {
          "output_type": "display_data",
          "data": {
            "image/png": "[encoded data removed]",
            "text/plain": [
              "<Figure size 576x360 with 1 Axes>"
            ]
          },
          "metadata": {
            "tags": [],
            "needs_background": "light"
          }
        },
        {
          "output_type": "stream",
          "text": [
            "accuracy: 99.62%\n",
            "COMPILE...\n",
            "...COMPILED\n",
            "FIT\n",
            "Epoch 1/20\n",
            "5400/5400 [==============================] - 36s 7ms/step - loss: 0.6940 - accuracy: 0.5032 - val_loss: 0.6190 - val_accuracy: 0.6691\n",
            "INFO:tensorflow:Assets written to: /content/drive/My Drive/data/JUNK1.cv.3.best/assets\n",
            "Epoch 2/20\n",
            "5400/5400 [==============================] - 34s 6ms/step - loss: 0.4625 - accuracy: 0.8055 - val_loss: 0.3438 - val_accuracy: 0.8909\n",
            "INFO:tensorflow:Assets written to: /content/drive/My Drive/data/JUNK1.cv.3.best/assets\n",
            "Epoch 3/20\n",
            "5400/5400 [==============================] - 34s 6ms/step - loss: 0.3486 - accuracy: 0.8901 - val_loss: 0.3455 - val_accuracy: 0.8897\n",
            "Epoch 4/20\n",
            "5400/5400 [==============================] - 35s 7ms/step - loss: 0.3426 - accuracy: 0.8922 - val_loss: 0.3413 - val_accuracy: 0.8916\n",
            "INFO:tensorflow:Assets written to: /content/drive/My Drive/data/JUNK1.cv.3.best/assets\n",
            "Epoch 5/20\n",
            "5400/5400 [==============================] - 35s 7ms/step - loss: 0.3401 - accuracy: 0.8938 - val_loss: 0.3421 - val_accuracy: 0.8918\n",
            "INFO:tensorflow:Assets written to: /content/drive/My Drive/data/JUNK1.cv.3.best/assets\n",
            "Epoch 6/20\n",
            "5400/5400 [==============================] - 35s 7ms/step - loss: 0.3391 - accuracy: 0.8938 - val_loss: 0.3406 - val_accuracy: 0.8923\n",
            "INFO:tensorflow:Assets written to: /content/drive/My Drive/data/JUNK1.cv.3.best/assets\n",
            "Epoch 7/20\n",
            "5400/5400 [==============================] - 36s 7ms/step - loss: 0.3388 - accuracy: 0.8936 - val_loss: 0.3429 - val_accuracy: 0.8909\n",
            "Epoch 8/20\n",
            "5400/5400 [==============================] - 36s 7ms/step - loss: 0.3429 - accuracy: 0.8922 - val_loss: 0.3425 - val_accuracy: 0.8913\n",
            "Epoch 9/20\n",
            "5400/5400 [==============================] - 35s 6ms/step - loss: 0.3411 - accuracy: 0.8932 - val_loss: 0.3393 - val_accuracy: 0.8928\n",
            "INFO:tensorflow:Assets written to: /content/drive/My Drive/data/JUNK1.cv.3.best/assets\n",
            "Epoch 10/20\n",
            "5400/5400 [==============================] - 35s 6ms/step - loss: 0.3457 - accuracy: 0.8888 - val_loss: 0.4556 - val_accuracy: 0.8213\n",
            "Epoch 11/20\n",
            "5400/5400 [==============================] - 35s 7ms/step - loss: 0.3647 - accuracy: 0.8777 - val_loss: 0.3445 - val_accuracy: 0.8904\n",
            "Epoch 12/20\n",
            "5400/5400 [==============================] - 35s 6ms/step - loss: 0.3355 - accuracy: 0.8958 - val_loss: 0.3415 - val_accuracy: 0.8918\n",
            "Epoch 13/20\n",
            "5400/5400 [==============================] - 35s 6ms/step - loss: 0.3393 - accuracy: 0.8938 - val_loss: 0.3417 - val_accuracy: 0.8917\n",
            "Epoch 14/20\n",
            "5400/5400 [==============================] - 35s 6ms/step - loss: 0.3386 - accuracy: 0.8937 - val_loss: 0.3413 - val_accuracy: 0.8918\n",
            "Epoch 15/20\n",
            "5400/5400 [==============================] - 34s 6ms/step - loss: 0.3358 - accuracy: 0.8958 - val_loss: 0.3403 - val_accuracy: 0.8921\n",
            "Epoch 16/20\n",
            "5400/5400 [==============================] - 34s 6ms/step - loss: 0.3361 - accuracy: 0.8958 - val_loss: 0.3394 - val_accuracy: 0.8929\n",
            "INFO:tensorflow:Assets written to: /content/drive/My Drive/data/JUNK1.cv.3.best/assets\n",
            "Epoch 17/20\n",
            "5400/5400 [==============================] - 34s 6ms/step - loss: 0.3386 - accuracy: 0.8943 - val_loss: 0.3415 - val_accuracy: 0.8915\n",
            "Epoch 18/20\n",
            "5400/5400 [==============================] - 35s 6ms/step - loss: 0.3360 - accuracy: 0.8956 - val_loss: 0.3414 - val_accuracy: 0.8919\n",
            "Epoch 19/20\n",
            "5400/5400 [==============================] - 35s 6ms/step - loss: 0.3364 - accuracy: 0.8956 - val_loss: 0.3488 - val_accuracy: 0.8881\n",
            "Epoch 20/20\n",
            "5400/5400 [==============================] - 35s 6ms/step - loss: 0.3367 - accuracy: 0.8951 - val_loss: 0.3398 - val_accuracy: 0.8922\n",
            "Fold 3, 20 epochs, 716 sec\n"
          ],
          "name": "stdout"
        },
        {
          "output_type": "display_data",
          "data": {
            "image/png": "[encoded data removed]",
            "text/plain": [
              "<Figure size 576x360 with 1 Axes>"
            ]
          },
          "metadata": {
            "tags": [],
            "needs_background": "light"
          }
        },
        {
          "output_type": "stream",
          "text": [
            "accuracy: 99.58%\n",
            "COMPILE...\n",
            "...COMPILED\n",
            "FIT\n",
            "Epoch 1/20\n",
            "5400/5400 [==============================] - 36s 6ms/step - loss: 0.6131 - accuracy: 0.6280 - val_loss: 0.3436 - val_accuracy: 0.8885\n",
            "INFO:tensorflow:Assets written to: /content/drive/My Drive/data/JUNK1.cv.4.best/assets\n",
            "Epoch 2/20\n",
            "5400/5400 [==============================] - 34s 6ms/step - loss: 0.3573 - accuracy: 0.8856 - val_loss: 0.3393 - val_accuracy: 0.8921\n",
            "INFO:tensorflow:Assets written to: /content/drive/My Drive/data/JUNK1.cv.4.best/assets\n",
            "Epoch 3/20\n",
            "5400/5400 [==============================] - 34s 6ms/step - loss: 0.3459 - accuracy: 0.8908 - val_loss: 0.3296 - val_accuracy: 0.8968\n",
            "INFO:tensorflow:Assets written to: /content/drive/My Drive/data/JUNK1.cv.4.best/assets\n",
            "Epoch 4/20\n",
            "5400/5400 [==============================] - 34s 6ms/step - loss: 0.3425 - accuracy: 0.8922 - val_loss: 0.3302 - val_accuracy: 0.8968\n",
            "INFO:tensorflow:Assets written to: /content/drive/My Drive/data/JUNK1.cv.4.best/assets\n",
            "Epoch 5/20\n",
            "5400/5400 [==============================] - 34s 6ms/step - loss: 0.3438 - accuracy: 0.8923 - val_loss: 0.3315 - val_accuracy: 0.8957\n",
            "Epoch 6/20\n",
            "5400/5400 [==============================] - 34s 6ms/step - loss: 0.3392 - accuracy: 0.8942 - val_loss: 0.3299 - val_accuracy: 0.8966\n",
            "Epoch 7/20\n",
            "5400/5400 [==============================] - 34s 6ms/step - loss: 0.3414 - accuracy: 0.8927 - val_loss: 0.3293 - val_accuracy: 0.8974\n",
            "INFO:tensorflow:Assets written to: /content/drive/My Drive/data/JUNK1.cv.4.best/assets\n",
            "Epoch 8/20\n",
            "5400/5400 [==============================] - 34s 6ms/step - loss: 0.3364 - accuracy: 0.8954 - val_loss: 0.3290 - val_accuracy: 0.8973\n",
            "Epoch 9/20\n",
            "5400/5400 [==============================] - 34s 6ms/step - loss: 0.3428 - accuracy: 0.8922 - val_loss: 0.3351 - val_accuracy: 0.8946\n",
            "Epoch 10/20\n",
            "5400/5400 [==============================] - 34s 6ms/step - loss: 0.3818 - accuracy: 0.8475 - val_loss: 0.6937 - val_accuracy: 0.4940\n",
            "Epoch 11/20\n",
            "5400/5400 [==============================] - 35s 6ms/step - loss: 0.6938 - accuracy: 0.5017 - val_loss: 0.6932 - val_accuracy: 0.4940\n",
            "Epoch 12/20\n",
            "5400/5400 [==============================] - 34s 6ms/step - loss: 0.6939 - accuracy: 0.5007 - val_loss: 0.6931 - val_accuracy: 0.5060\n",
            "Epoch 13/20\n",
            "5400/5400 [==============================] - 35s 6ms/step - loss: 0.6938 - accuracy: 0.4986 - val_loss: 0.6932 - val_accuracy: 0.5060\n",
            "Epoch 14/20\n",
            "5400/5400 [==============================] - 35s 6ms/step - loss: 0.6938 - accuracy: 0.4977 - val_loss: 0.6933 - val_accuracy: 0.5060\n",
            "Epoch 15/20\n",
            "5400/5400 [==============================] - 34s 6ms/step - loss: 0.6937 - accuracy: 0.4985 - val_loss: 0.6934 - val_accuracy: 0.4940\n",
            "Epoch 16/20\n",
            "5400/5400 [==============================] - 35s 6ms/step - loss: 0.6937 - accuracy: 0.4975 - val_loss: 0.6931 - val_accuracy: 0.5060\n",
            "Epoch 17/20\n",
            "5400/5400 [==============================] - 35s 6ms/step - loss: 0.6937 - accuracy: 0.5009 - val_loss: 0.6933 - val_accuracy: 0.4940\n",
            "Epoch 18/20\n",
            "5400/5400 [==============================] - 35s 6ms/step - loss: 0.6936 - accuracy: 0.4982 - val_loss: 0.6954 - val_accuracy: 0.4940\n",
            "Epoch 19/20\n",
            "5400/5400 [==============================] - 34s 6ms/step - loss: 0.6936 - accuracy: 0.5016 - val_loss: 0.6932 - val_accuracy: 0.5060\n",
            "Epoch 20/20\n",
            "5400/5400 [==============================] - 34s 6ms/step - loss: 0.6936 - accuracy: 0.4970 - val_loss: 0.6931 - val_accuracy: 0.5060\n",
            "Fold 4, 20 epochs, 701 sec\n"
          ],
          "name": "stdout"
        },
        {
          "output_type": "display_data",
          "data": {
            "image/png": "[encoded data removed]",
            "text/plain": [
              "<Figure size 576x360 with 1 Axes>"
            ]
          },
          "metadata": {
            "tags": [],
            "needs_background": "light"
          }
        },
        {
          "output_type": "stream",
          "text": [
            "accuracy: 99.60%\n",
            "COMPILE...\n",
            "...COMPILED\n",
            "FIT\n",
            "Epoch 1/20\n",
            "5400/5400 [==============================] - 36s 6ms/step - loss: 0.6129 - accuracy: 0.6266 - val_loss: 0.3461 - val_accuracy: 0.8877\n",
            "INFO:tensorflow:Assets written to: /content/drive/My Drive/data/JUNK1.cv.5.best/assets\n",
            "Epoch 2/20\n",
            "5400/5400 [==============================] - 34s 6ms/step - loss: 0.3568 - accuracy: 0.8869 - val_loss: 0.3400 - val_accuracy: 0.8913\n",
            "INFO:tensorflow:Assets written to: /content/drive/My Drive/data/JUNK1.cv.5.best/assets\n",
            "Epoch 3/20\n",
            "5400/5400 [==============================] - 34s 6ms/step - loss: 0.3444 - accuracy: 0.8919 - val_loss: 0.3372 - val_accuracy: 0.8932\n",
            "INFO:tensorflow:Assets written to: /content/drive/My Drive/data/JUNK1.cv.5.best/assets\n",
            "Epoch 4/20\n",
            "5400/5400 [==============================] - 34s 6ms/step - loss: 0.3433 - accuracy: 0.8921 - val_loss: 0.3353 - val_accuracy: 0.8940\n",
            "INFO:tensorflow:Assets written to: /content/drive/My Drive/data/JUNK1.cv.5.best/assets\n",
            "Epoch 5/20\n",
            "5400/5400 [==============================] - 35s 6ms/step - loss: 0.3387 - accuracy: 0.8944 - val_loss: 0.3348 - val_accuracy: 0.8948\n",
            "INFO:tensorflow:Assets written to: /content/drive/My Drive/data/JUNK1.cv.5.best/assets\n",
            "Epoch 6/20\n",
            "5400/5400 [==============================] - 35s 6ms/step - loss: 0.3417 - accuracy: 0.8928 - val_loss: 0.3468 - val_accuracy: 0.8871\n",
            "Epoch 7/20\n",
            "5400/5400 [==============================] - 34s 6ms/step - loss: 0.3389 - accuracy: 0.8943 - val_loss: 0.3353 - val_accuracy: 0.8943\n",
            "Epoch 8/20\n",
            "5400/5400 [==============================] - 35s 6ms/step - loss: 0.3372 - accuracy: 0.8951 - val_loss: 0.3348 - val_accuracy: 0.8949\n",
            "INFO:tensorflow:Assets written to: /content/drive/My Drive/data/JUNK1.cv.5.best/assets\n",
            "Epoch 9/20\n",
            "5400/5400 [==============================] - 35s 6ms/step - loss: 0.3402 - accuracy: 0.8935 - val_loss: 0.3357 - val_accuracy: 0.8941\n",
            "Epoch 10/20\n",
            "5400/5400 [==============================] - 34s 6ms/step - loss: 0.3427 - accuracy: 0.8923 - val_loss: 0.3331 - val_accuracy: 0.8959\n",
            "INFO:tensorflow:Assets written to: /content/drive/My Drive/data/JUNK1.cv.5.best/assets\n",
            "Epoch 11/20\n",
            "5400/5400 [==============================] - 34s 6ms/step - loss: 0.3388 - accuracy: 0.8946 - val_loss: 0.3337 - val_accuracy: 0.8955\n",
            "Epoch 12/20\n",
            "5400/5400 [==============================] - 34s 6ms/step - loss: 0.3398 - accuracy: 0.8938 - val_loss: 0.3332 - val_accuracy: 0.8956\n",
            "Epoch 13/20\n",
            "5400/5400 [==============================] - 34s 6ms/step - loss: 0.3357 - accuracy: 0.8959 - val_loss: 0.3373 - val_accuracy: 0.8930\n",
            "Epoch 14/20\n",
            "5400/5400 [==============================] - 34s 6ms/step - loss: 0.3361 - accuracy: 0.8953 - val_loss: 0.3349 - val_accuracy: 0.8946\n",
            "Epoch 15/20\n",
            "5400/5400 [==============================] - 34s 6ms/step - loss: 0.3383 - accuracy: 0.8944 - val_loss: 0.3329 - val_accuracy: 0.8952\n",
            "Epoch 16/20\n",
            "5400/5400 [==============================] - 35s 6ms/step - loss: 0.3344 - accuracy: 0.8961 - val_loss: 0.3321 - val_accuracy: 0.8961\n",
            "INFO:tensorflow:Assets written to: /content/drive/My Drive/data/JUNK1.cv.5.best/assets\n",
            "Epoch 17/20\n",
            "5400/5400 [==============================] - 34s 6ms/step - loss: 0.3342 - accuracy: 0.8967 - val_loss: 0.3324 - val_accuracy: 0.8956\n",
            "Epoch 18/20\n",
            "5400/5400 [==============================] - 35s 6ms/step - loss: 0.3399 - accuracy: 0.8940 - val_loss: 0.3410 - val_accuracy: 0.8909\n",
            "Epoch 19/20\n",
            "5400/5400 [==============================] - 34s 6ms/step - loss: 0.3371 - accuracy: 0.8949 - val_loss: 0.3327 - val_accuracy: 0.8960\n",
            "Epoch 20/20\n",
            "5400/5400 [==============================] - 34s 6ms/step - loss: 0.3323 - accuracy: 0.8976 - val_loss: 0.3330 - val_accuracy: 0.8953\n",
            "Fold 5, 20 epochs, 708 sec\n"
          ],
          "name": "stdout"
        },
        {
          "output_type": "display_data",
          "data": {
            "image/png": "[encoded data removed]",
            "text/plain": [
              "<Figure size 576x360 with 1 Axes>"
            ]
          },
          "metadata": {
            "tags": [],
            "needs_background": "light"
          }
        },
        {
          "output_type": "stream",
          "text": [
            "accuracy: 99.64%\n",
            "\n",
            "5-way Cross Validation mean 99.62% (+/- 0.02%)\n",
            "Done\n"
          ],
          "name": "stdout"
        }
      ]
    },
    {
      "cell_type": "code",
      "metadata": {
        "id": "p4fh2GI8beMQ"
      },
      "source": [
        ""
      ],
      "execution_count": 10,
      "outputs": []
    }
  ]
}