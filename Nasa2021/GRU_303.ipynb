{
  "nbformat": 4,
  "nbformat_minor": 0,
  "metadata": {
    "accelerator": "GPU",
    "colab": {
      "name": "GRU_303.ipynb",
      "provenance": [],
      "collapsed_sections": []
    },
    "kernelspec": {
      "display_name": "Python 3",
      "language": "python",
      "name": "python3"
    },
    "language_info": {
      "codemirror_mode": {
        "name": "ipython",
        "version": 3
      },
      "file_extension": ".py",
      "mimetype": "text/x-python",
      "name": "python",
      "nbconvert_exporter": "python",
      "pygments_lexer": "ipython3",
      "version": "3.8.3"
    }
  },
  "cells": [
    {
      "cell_type": "markdown",
      "metadata": {
        "id": "ojm_6E9f9Kcf"
      },
      "source": [
        "# GRU 303\n",
        "Start with GRU 301 which did train on long, test on short.\n",
        "Here train on all, test on long."
      ]
    },
    {
      "cell_type": "code",
      "metadata": {
        "colab": {
          "base_uri": "https://localhost:8080/"
        },
        "id": "hh6XplUvC0j0",
        "outputId": "d8587fa5-df11-4b92-84fb-9ca8875eb160"
      },
      "source": [
        "TRAIN_NC_FILENAME='ncRNA.gc36.all.fasta'\n",
        "TRAIN_PC_FILENAME='pcRNA.gc36.all.fasta'\n",
        "VALID_NC_FILENAME='ncRNA.gc36.long.fasta'\n",
        "VALID_PC_FILENAME='pcRNA.gc36.long.fasta'\n",
        "#NC_FILENAME='ncRNA.tiny50.fasta'\n",
        "#PC_FILENAME='pcRNA.tiny50.fasta'\n",
        "#NC_FILENAME='ncRNA.gc34.processed.fasta'\n",
        "#PC_FILENAME='pcRNA.gc34.processed.fasta'\n",
        "\n",
        "MODEL_FILE='JUNK1'  # change this if you want to keep models\n",
        "DATAPATH=''\n",
        "\n",
        "try:\n",
        "    from google.colab import drive\n",
        "    IN_COLAB = True\n",
        "    PATH='/content/drive/'\n",
        "    drive.mount(PATH)\n",
        "    DATAPATH=PATH+'My Drive/data/'  # must end in \"/\"\n",
        "except:\n",
        "    IN_COLAB = False\n",
        "    DATAPATH='data/'  # must end in \"/\"\n",
        "TRAIN_NC_FILENAME = DATAPATH+TRAIN_NC_FILENAME\n",
        "TRAIN_PC_FILENAME = DATAPATH+TRAIN_PC_FILENAME\n",
        "VALID_NC_FILENAME = DATAPATH+VALID_NC_FILENAME\n",
        "VALID_PC_FILENAME = DATAPATH+VALID_PC_FILENAME\n",
        "MODEL_FILE=DATAPATH+MODEL_FILE\n",
        "\n",
        "EPOCHS=200\n",
        "SPLITS=5\n",
        "ONEHOT=5  \n",
        "NEURONS=64\n",
        "DROP=0.10\n",
        "ACT=\"tanh\"\n",
        "MINLEN=201\n",
        "MAXLEN=2000\n",
        "LIMIT=5588    # This is the size of our smallest set (protein coding short)"
      ],
      "execution_count": null,
      "outputs": [
        {
          "output_type": "stream",
          "text": [
            "Mounted at /content/drive/\n"
          ],
          "name": "stdout"
        }
      ]
    },
    {
      "cell_type": "code",
      "metadata": {
        "colab": {
          "base_uri": "https://localhost:8080/"
        },
        "id": "e9TY3HK9ZklE",
        "outputId": "c343ea5e-8f69-453d-9a91-73b7209383eb"
      },
      "source": [
        "# Load our own tools\n",
        "# TO DO: don't go to GitHub if the file is already local.\n",
        "GITHUB = True\n",
        "if GITHUB:\n",
        "    #!pip install requests  # Uncomment this if necessary. Seems to be pre-installed.\n",
        "    import requests\n",
        "    r = requests.get('https://raw.githubusercontent.com/ShepherdCode/ShepherdML/master/Strings/tools_fasta.py')\n",
        "    with open('tools_fasta.py', 'w') as f:\n",
        "        f.write(r.text)\n",
        "    # TO DO: delete the file after import\n",
        "import tools_fasta as tools\n",
        "tools.yahoo()  # If this prints \"Yahoo!\" the the import was successful.\n",
        "\n",
        "TOOLS_CHANGED = False   # set to True to re-run with a new version of tools\n",
        "if TOOLS_CHANGED:\n",
        "  from importlib import reload \n",
        "  tools=reload(tools)\n",
        "  print(dir(tools))   # run this to see EVERYTHING in the tools module"
      ],
      "execution_count": null,
      "outputs": [
        {
          "output_type": "stream",
          "text": [
            "Yahoo!\n"
          ],
          "name": "stdout"
        }
      ]
    },
    {
      "cell_type": "code",
      "metadata": {
        "id": "VQY7aTj29Kch"
      },
      "source": [
        "import numpy as np\n",
        "import pandas as pd\n",
        "import matplotlib.pyplot as plt\n",
        "from sklearn.model_selection import ShuffleSplit\n",
        "from sklearn.model_selection import cross_val_score\n",
        "from sklearn.model_selection import RepeatedKFold\n",
        "from sklearn.model_selection import StratifiedKFold\n",
        "import tensorflow as tf\n",
        "from tensorflow import keras\n",
        "import time\n",
        "dt='float32'\n",
        "tf.keras.backend.set_floatx(dt)"
      ],
      "execution_count": null,
      "outputs": []
    },
    {
      "cell_type": "markdown",
      "metadata": {
        "id": "j7jcg6Wl9Kc2"
      },
      "source": [
        "Build model"
      ]
    },
    {
      "cell_type": "code",
      "metadata": {
        "id": "qLFNO1Xa9Kc3"
      },
      "source": [
        "def compile_model(model):\n",
        "    ## learn rate = initial_learning_rate * decay_rate ^ (step / decay_steps)\n",
        "    #adam_default_learn_rate = 0.001\n",
        "    #schedule = tf.keras.optimizers.schedules.ExponentialDecay(\n",
        "    #    initial_learning_rate = adam_default_learn_rate*10,\n",
        "    #    decay_steps=10000, decay_rate=0.99, staircase=True)\n",
        "    #alrd = tf.keras.optimizers.Adam(learning_rate=schedule)\n",
        "    #model.compile(loss=bc, optimizer=alrd, metrics=[\"accuracy\"])\n",
        "\n",
        "    print(\"COMPILE...\")\n",
        "    bc=tf.keras.losses.BinaryCrossentropy(from_logits=False)\n",
        "    model.compile(loss=bc, optimizer=\"adam\", metrics=[\"accuracy\"])\n",
        "    print(\"...COMPILED\")\n",
        "    return model\n",
        "\n",
        "def build_model():\n",
        "    MASK=[0,0,0,0,1] # to do: get one_hot('N') from the one_hot() function.\n",
        "    mask_layer = keras.layers.Masking(mask_value=MASK, input_shape=[MAXLEN,ONEHOT])\n",
        "    rlayer1 = keras.layers.GRU(NEURONS, return_sequences=True, \n",
        "        activation=ACT, dropout=DROP )  \n",
        "    rlayer2 = keras.layers.GRU(NEURONS, return_sequences=True, \n",
        "        activation=ACT, dropout=DROP) \n",
        "    rlayer3 = keras.layers.GRU(NEURONS, return_sequences=True, \n",
        "        activation=ACT, dropout=DROP) \n",
        "    rlayer4 = keras.layers.GRU(NEURONS, return_sequences=False, \n",
        "        activation=ACT, dropout=DROP) \n",
        "\n",
        "    dlayer1 = keras.layers.Dense(NEURONS, activation=ACT,dtype=dt)\n",
        "    dlayer2 = keras.layers.Dropout(DROP)\n",
        "    dlayer3 = keras.layers.Dense(NEURONS, activation=ACT,dtype=dt)\n",
        "    dlayer4 = keras.layers.Dropout(DROP)\n",
        "    output_layer = keras.layers.Dense(1, activation=\"sigmoid\", dtype=dt)\n",
        "\n",
        "    rnn = keras.models.Sequential()\n",
        "    rnn.add(mask_layer)\n",
        "    rnn.add(rlayer1)\n",
        "    rnn.add(rlayer2)\n",
        "    rnn.add(rlayer3)\n",
        "    rnn.add(rlayer4)\n",
        "    rnn.add(dlayer1)\n",
        "    rnn.add(dlayer2)\n",
        "    rnn.add(dlayer3)\n",
        "    rnn.add(dlayer4)\n",
        "    rnn.add(output_layer)\n",
        "    compiled = compile_model(rnn)\n",
        "    return compiled"
      ],
      "execution_count": null,
      "outputs": []
    },
    {
      "cell_type": "markdown",
      "metadata": {
        "id": "LdIS2utq9Kc9"
      },
      "source": [
        "Cross validation"
      ]
    },
    {
      "cell_type": "code",
      "metadata": {
        "id": "BVo4tbB_9Kc-"
      },
      "source": [
        "def do_cross_validation(X_train,y_train,given_model,X_valid,y_valid):\n",
        "    cv_scores = []\n",
        "    fold=0\n",
        "    # When not using ShuffleSplit, make sure to randomize train data.\n",
        "    #splitter = ShuffleSplit(n_splits=SPLITS, test_size=0.1, random_state=37863)\n",
        "    #for train_index,valid_index in splitter.split(X):\n",
        "    while fold < SPLITS:\n",
        "        fold += 1\n",
        "        # Avoid continually improving the same model.\n",
        "        model = compile_model(keras.models.clone_model(given_model))\n",
        "        bestname=MODEL_FILE+\".cv.\"+str(fold)+\".best\"\n",
        "        es = keras.callbacks.EarlyStopping(monitor='val_loss',  \n",
        "            patience=10, verbose=1)\n",
        "        mc = keras.callbacks.ModelCheckpoint(\n",
        "            filepath=bestname, save_best_only=True, \n",
        "            monitor='val_accuracy', mode='max')  \n",
        "        mycallbacks = [es,mc]  \n",
        "        print(\"FIT\")\n",
        "        start_time=time.time()\n",
        "        history=model.fit(X_train, y_train, # batch_size=10, default=32 works nicely\n",
        "                epochs=EPOCHS, verbose=1,  # verbose=1 for ascii art, verbose=0 for none\n",
        "                callbacks=mycallbacks, shuffle=True,\n",
        "                validation_data=(X_valid,y_valid) )\n",
        "        end_time=time.time()\n",
        "        elapsed_time=(end_time-start_time)                        \n",
        "        print(\"Fold %d, %d epochs, %d sec\"%(fold,EPOCHS,elapsed_time))\n",
        "        pd.DataFrame(history.history).plot(figsize=(8,5))\n",
        "        plt.grid(True)\n",
        "        plt.gca().set_ylim(0,1)\n",
        "        plt.show()\n",
        "        best_model=keras.models.load_model(bestname)\n",
        "        scores = best_model.evaluate(X_valid, y_valid, verbose=0)\n",
        "        print(\"%s: %.2f%%\" % (best_model.metrics_names[1], scores[1]*100))\n",
        "        cv_scores.append(scores[1] * 100)  \n",
        "\n",
        "    print()\n",
        "    print(\"%d-way Cross Validation max %.2f%%, mean %.2f%% (+/- %.2f%%)\" % \n",
        "          (fold, np.amax(cv_scores), np.mean(cv_scores), np.std(cv_scores)))"
      ],
      "execution_count": null,
      "outputs": []
    },
    {
      "cell_type": "markdown",
      "metadata": {
        "id": "qd3Wj_vI9KdP"
      },
      "source": [
        "## Train on RNA lengths 200-1Kb"
      ]
    },
    {
      "cell_type": "code",
      "metadata": {
        "colab": {
          "base_uri": "https://localhost:8080/"
        },
        "id": "G1HuSs8ZbeL4",
        "outputId": "3ddadab6-5899-4bf3-d642-4babcb6b2fda"
      },
      "source": [
        "print (\"Compile the model\")\n",
        "model=build_model()\n",
        "print (\"Summarize the model\")\n",
        "print(model.summary())  # Print this only once\n",
        "#model.save(MODEL_FILE+'.model')\n"
      ],
      "execution_count": null,
      "outputs": [
        {
          "output_type": "stream",
          "text": [
            "Compile the model\n",
            "COMPILE...\n",
            "...COMPILED\n",
            "Summarize the model\n",
            "Model: \"sequential\"\n",
            "_________________________________________________________________\n",
            "Layer (type)                 Output Shape              Param #   \n",
            "=================================================================\n",
            "masking (Masking)            (None, 2000, 5)           0         \n",
            "_________________________________________________________________\n",
            "gru (GRU)                    (None, 2000, 64)          13632     \n",
            "_________________________________________________________________\n",
            "gru_1 (GRU)                  (None, 2000, 64)          24960     \n",
            "_________________________________________________________________\n",
            "gru_2 (GRU)                  (None, 2000, 64)          24960     \n",
            "_________________________________________________________________\n",
            "gru_3 (GRU)                  (None, 64)                24960     \n",
            "_________________________________________________________________\n",
            "dense (Dense)                (None, 64)                4160      \n",
            "_________________________________________________________________\n",
            "dropout (Dropout)            (None, 64)                0         \n",
            "_________________________________________________________________\n",
            "dense_1 (Dense)              (None, 64)                4160      \n",
            "_________________________________________________________________\n",
            "dropout_1 (Dropout)          (None, 64)                0         \n",
            "_________________________________________________________________\n",
            "dense_2 (Dense)              (None, 1)                 65        \n",
            "=================================================================\n",
            "Total params: 96,897\n",
            "Trainable params: 96,897\n",
            "Non-trainable params: 0\n",
            "_________________________________________________________________\n",
            "None\n"
          ],
          "name": "stdout"
        }
      ]
    },
    {
      "cell_type": "code",
      "metadata": {
        "colab": {
          "base_uri": "https://localhost:8080/"
        },
        "id": "f8fNo6sn9KdH",
        "outputId": "2ba22a3e-27ba-4611-ec79-d2b9c8e11d8d"
      },
      "source": [
        "def load_data(nc_filename,pc_filename,limit=None):\n",
        "  nc_seq=tools.load_fasta(nc_filename,0)\n",
        "  pc_seq=tools.load_fasta(pc_filename,1)\n",
        "  if limit is not None:\n",
        "    # Choose a random subset of size = limit.\n",
        "    # Side effect: randomizes the data order.\n",
        "    nfrac=1.0*limit/len(nc_seq)\n",
        "    pfrac=1.0*limit/len(pc_seq)\n",
        "    if nfrac<1.0:\n",
        "      nc_seq=nc_seq.sample(frac=nfrac)\n",
        "    if pfrac<1.0:\n",
        "      pc_seq=pc_seq.sample(frac=pfrac)\n",
        "  train_set=pd.concat((nc_seq,pc_seq),axis=0)\n",
        "  # May not need to slice by length if input files already sliced\n",
        "  subset=tools.make_slice(train_set,MINLEN,MAXLEN)\n",
        "  # randset=subset.sample(frac=1) # unneccessary with fit(shuffle)\n",
        "  (X1,y1)=tools.separate_X_and_y(subset)\n",
        "  # X1 is pandas df of (\"list\" of one sequence)\n",
        "  X2=X1.to_numpy()  # numpy ndarray of (\"list\" of one sequence)\n",
        "  X3=[elem[0] for elem in X2]  # numpy dnarray of str\n",
        "  X4=tools.uniform_length(X3,MAXLEN)\n",
        "  X5= [tools.one_hot(x) for x in X4]  \n",
        "  # one-hot leaves ONEHOT=5. TO DO: set 5 automatically\n",
        "  X6=np.asarray(X5)\n",
        "  y6=y1.to_numpy()\n",
        "  return X6,y6\n",
        "\n",
        "print(\"Load train data from files.\")\n",
        "X_train,y_train = load_data(TRAIN_NC_FILENAME,TRAIN_PC_FILENAME,LIMIT)\n",
        "print(\"X_train\",X_train.shape)\n",
        "print(X_train[1])\n",
        "print(\"Load valid data from files.\")\n",
        "X_valid,y_valid = load_data(VALID_NC_FILENAME,VALID_PC_FILENAME,LIMIT)\n",
        "print(\"X_valid\",X_valid.shape)"
      ],
      "execution_count": null,
      "outputs": [
        {
          "output_type": "stream",
          "text": [
            "Load train data from files.\n",
            "X_train (11176, 2000, 5)\n",
            "[[0 1 0 0 0]\n",
            " [0 1 0 0 0]\n",
            " [1 0 0 0 0]\n",
            " ...\n",
            " [0 0 0 0 1]\n",
            " [0 0 0 0 1]\n",
            " [0 0 0 0 1]]\n",
            "Load valid data from files.\n",
            "X_valid (11176, 2000, 5)\n"
          ],
          "name": "stdout"
        }
      ]
    },
    {
      "cell_type": "code",
      "metadata": {
        "colab": {
          "base_uri": "https://localhost:8080/",
          "height": 1000
        },
        "id": "mQ8eW5Rg9KdQ",
        "outputId": "94820bd0-e299-4a41-b5b4-234c5711cecb"
      },
      "source": [
        "print (\"Cross valiation\")\n",
        "do_cross_validation(X_train,y_train,model,X_valid,y_valid)  \n",
        "print (\"Done\")"
      ],
      "execution_count": 8,
      "outputs": [
        {
          "output_type": "stream",
          "text": [
            "Cross valiation\n",
            "COMPILE...\n",
            "...COMPILED\n",
            "FIT\n",
            "Epoch 1/200\n",
            "350/350 [==============================] - 144s 366ms/step - loss: 0.6800 - accuracy: 0.5660 - val_loss: 0.6903 - val_accuracy: 0.5362\n"
          ],
          "name": "stdout"
        },
        {
          "output_type": "stream",
          "text": [
            "WARNING:absl:Found untraced functions such as gru_cell_4_layer_call_fn, gru_cell_4_layer_call_and_return_conditional_losses, gru_cell_5_layer_call_fn, gru_cell_5_layer_call_and_return_conditional_losses, gru_cell_6_layer_call_fn while saving (showing 5 of 20). These functions will not be directly callable after loading.\n",
            "WARNING:absl:Found untraced functions such as gru_cell_4_layer_call_fn, gru_cell_4_layer_call_and_return_conditional_losses, gru_cell_5_layer_call_fn, gru_cell_5_layer_call_and_return_conditional_losses, gru_cell_6_layer_call_fn while saving (showing 5 of 20). These functions will not be directly callable after loading.\n"
          ],
          "name": "stderr"
        },
        {
          "output_type": "stream",
          "text": [
            "INFO:tensorflow:Assets written to: /content/drive/My Drive/data/JUNK1.cv.1.best/assets\n"
          ],
          "name": "stdout"
        },
        {
          "output_type": "stream",
          "text": [
            "INFO:tensorflow:Assets written to: /content/drive/My Drive/data/JUNK1.cv.1.best/assets\n"
          ],
          "name": "stderr"
        },
        {
          "output_type": "stream",
          "text": [
            "Epoch 2/200\n",
            "350/350 [==============================] - 124s 356ms/step - loss: 0.6743 - accuracy: 0.5920 - val_loss: 0.6985 - val_accuracy: 0.5310\n",
            "Epoch 3/200\n",
            "350/350 [==============================] - 127s 363ms/step - loss: 0.6745 - accuracy: 0.5789 - val_loss: 0.6980 - val_accuracy: 0.5179\n",
            "Epoch 4/200\n",
            "350/350 [==============================] - 131s 374ms/step - loss: 0.6755 - accuracy: 0.5757 - val_loss: 0.6920 - val_accuracy: 0.5308\n",
            "Epoch 5/200\n",
            "350/350 [==============================] - 130s 372ms/step - loss: 0.6586 - accuracy: 0.6091 - val_loss: 0.6985 - val_accuracy: 0.5409\n"
          ],
          "name": "stdout"
        },
        {
          "output_type": "stream",
          "text": [
            "WARNING:absl:Found untraced functions such as gru_cell_4_layer_call_fn, gru_cell_4_layer_call_and_return_conditional_losses, gru_cell_5_layer_call_fn, gru_cell_5_layer_call_and_return_conditional_losses, gru_cell_6_layer_call_fn while saving (showing 5 of 20). These functions will not be directly callable after loading.\n",
            "WARNING:absl:Found untraced functions such as gru_cell_4_layer_call_fn, gru_cell_4_layer_call_and_return_conditional_losses, gru_cell_5_layer_call_fn, gru_cell_5_layer_call_and_return_conditional_losses, gru_cell_6_layer_call_fn while saving (showing 5 of 20). These functions will not be directly callable after loading.\n"
          ],
          "name": "stderr"
        },
        {
          "output_type": "stream",
          "text": [
            "INFO:tensorflow:Assets written to: /content/drive/My Drive/data/JUNK1.cv.1.best/assets\n"
          ],
          "name": "stdout"
        },
        {
          "output_type": "stream",
          "text": [
            "INFO:tensorflow:Assets written to: /content/drive/My Drive/data/JUNK1.cv.1.best/assets\n"
          ],
          "name": "stderr"
        },
        {
          "output_type": "stream",
          "text": [
            "Epoch 6/200\n",
            "350/350 [==============================] - 130s 373ms/step - loss: 0.6650 - accuracy: 0.5999 - val_loss: 0.6579 - val_accuracy: 0.6161\n"
          ],
          "name": "stdout"
        },
        {
          "output_type": "stream",
          "text": [
            "WARNING:absl:Found untraced functions such as gru_cell_4_layer_call_fn, gru_cell_4_layer_call_and_return_conditional_losses, gru_cell_5_layer_call_fn, gru_cell_5_layer_call_and_return_conditional_losses, gru_cell_6_layer_call_fn while saving (showing 5 of 20). These functions will not be directly callable after loading.\n",
            "WARNING:absl:Found untraced functions such as gru_cell_4_layer_call_fn, gru_cell_4_layer_call_and_return_conditional_losses, gru_cell_5_layer_call_fn, gru_cell_5_layer_call_and_return_conditional_losses, gru_cell_6_layer_call_fn while saving (showing 5 of 20). These functions will not be directly callable after loading.\n"
          ],
          "name": "stderr"
        },
        {
          "output_type": "stream",
          "text": [
            "INFO:tensorflow:Assets written to: /content/drive/My Drive/data/JUNK1.cv.1.best/assets\n"
          ],
          "name": "stdout"
        },
        {
          "output_type": "stream",
          "text": [
            "INFO:tensorflow:Assets written to: /content/drive/My Drive/data/JUNK1.cv.1.best/assets\n"
          ],
          "name": "stderr"
        },
        {
          "output_type": "stream",
          "text": [
            "Epoch 7/200\n",
            "350/350 [==============================] - 129s 370ms/step - loss: 0.6761 - accuracy: 0.5646 - val_loss: 0.6796 - val_accuracy: 0.5629\n",
            "Epoch 8/200\n",
            "350/350 [==============================] - 130s 373ms/step - loss: 0.6846 - accuracy: 0.5523 - val_loss: 0.6752 - val_accuracy: 0.5532\n",
            "Epoch 9/200\n",
            "350/350 [==============================] - 131s 375ms/step - loss: 0.6724 - accuracy: 0.5783 - val_loss: 0.6688 - val_accuracy: 0.5912\n",
            "Epoch 10/200\n",
            "350/350 [==============================] - 131s 375ms/step - loss: 0.6081 - accuracy: 0.6696 - val_loss: 0.5679 - val_accuracy: 0.7068\n"
          ],
          "name": "stdout"
        },
        {
          "output_type": "stream",
          "text": [
            "WARNING:absl:Found untraced functions such as gru_cell_4_layer_call_fn, gru_cell_4_layer_call_and_return_conditional_losses, gru_cell_5_layer_call_fn, gru_cell_5_layer_call_and_return_conditional_losses, gru_cell_6_layer_call_fn while saving (showing 5 of 20). These functions will not be directly callable after loading.\n",
            "WARNING:absl:Found untraced functions such as gru_cell_4_layer_call_fn, gru_cell_4_layer_call_and_return_conditional_losses, gru_cell_5_layer_call_fn, gru_cell_5_layer_call_and_return_conditional_losses, gru_cell_6_layer_call_fn while saving (showing 5 of 20). These functions will not be directly callable after loading.\n"
          ],
          "name": "stderr"
        },
        {
          "output_type": "stream",
          "text": [
            "INFO:tensorflow:Assets written to: /content/drive/My Drive/data/JUNK1.cv.1.best/assets\n"
          ],
          "name": "stdout"
        },
        {
          "output_type": "stream",
          "text": [
            "INFO:tensorflow:Assets written to: /content/drive/My Drive/data/JUNK1.cv.1.best/assets\n"
          ],
          "name": "stderr"
        },
        {
          "output_type": "stream",
          "text": [
            "Epoch 11/200\n",
            "350/350 [==============================] - 131s 374ms/step - loss: 0.5543 - accuracy: 0.7265 - val_loss: 0.5554 - val_accuracy: 0.7204\n"
          ],
          "name": "stdout"
        },
        {
          "output_type": "stream",
          "text": [
            "WARNING:absl:Found untraced functions such as gru_cell_4_layer_call_fn, gru_cell_4_layer_call_and_return_conditional_losses, gru_cell_5_layer_call_fn, gru_cell_5_layer_call_and_return_conditional_losses, gru_cell_6_layer_call_fn while saving (showing 5 of 20). These functions will not be directly callable after loading.\n",
            "WARNING:absl:Found untraced functions such as gru_cell_4_layer_call_fn, gru_cell_4_layer_call_and_return_conditional_losses, gru_cell_5_layer_call_fn, gru_cell_5_layer_call_and_return_conditional_losses, gru_cell_6_layer_call_fn while saving (showing 5 of 20). These functions will not be directly callable after loading.\n"
          ],
          "name": "stderr"
        },
        {
          "output_type": "stream",
          "text": [
            "INFO:tensorflow:Assets written to: /content/drive/My Drive/data/JUNK1.cv.1.best/assets\n"
          ],
          "name": "stdout"
        },
        {
          "output_type": "stream",
          "text": [
            "INFO:tensorflow:Assets written to: /content/drive/My Drive/data/JUNK1.cv.1.best/assets\n"
          ],
          "name": "stderr"
        },
        {
          "output_type": "stream",
          "text": [
            "Epoch 12/200\n",
            "350/350 [==============================] - 131s 373ms/step - loss: 0.5283 - accuracy: 0.7499 - val_loss: 0.5337 - val_accuracy: 0.7347\n"
          ],
          "name": "stdout"
        },
        {
          "output_type": "stream",
          "text": [
            "WARNING:absl:Found untraced functions such as gru_cell_4_layer_call_fn, gru_cell_4_layer_call_and_return_conditional_losses, gru_cell_5_layer_call_fn, gru_cell_5_layer_call_and_return_conditional_losses, gru_cell_6_layer_call_fn while saving (showing 5 of 20). These functions will not be directly callable after loading.\n",
            "WARNING:absl:Found untraced functions such as gru_cell_4_layer_call_fn, gru_cell_4_layer_call_and_return_conditional_losses, gru_cell_5_layer_call_fn, gru_cell_5_layer_call_and_return_conditional_losses, gru_cell_6_layer_call_fn while saving (showing 5 of 20). These functions will not be directly callable after loading.\n"
          ],
          "name": "stderr"
        },
        {
          "output_type": "stream",
          "text": [
            "INFO:tensorflow:Assets written to: /content/drive/My Drive/data/JUNK1.cv.1.best/assets\n"
          ],
          "name": "stdout"
        },
        {
          "output_type": "stream",
          "text": [
            "INFO:tensorflow:Assets written to: /content/drive/My Drive/data/JUNK1.cv.1.best/assets\n"
          ],
          "name": "stderr"
        },
        {
          "output_type": "stream",
          "text": [
            "Epoch 13/200\n",
            "350/350 [==============================] - 129s 370ms/step - loss: 0.5227 - accuracy: 0.7407 - val_loss: 0.5183 - val_accuracy: 0.7457\n"
          ],
          "name": "stdout"
        },
        {
          "output_type": "stream",
          "text": [
            "WARNING:absl:Found untraced functions such as gru_cell_4_layer_call_fn, gru_cell_4_layer_call_and_return_conditional_losses, gru_cell_5_layer_call_fn, gru_cell_5_layer_call_and_return_conditional_losses, gru_cell_6_layer_call_fn while saving (showing 5 of 20). These functions will not be directly callable after loading.\n",
            "WARNING:absl:Found untraced functions such as gru_cell_4_layer_call_fn, gru_cell_4_layer_call_and_return_conditional_losses, gru_cell_5_layer_call_fn, gru_cell_5_layer_call_and_return_conditional_losses, gru_cell_6_layer_call_fn while saving (showing 5 of 20). These functions will not be directly callable after loading.\n"
          ],
          "name": "stderr"
        },
        {
          "output_type": "stream",
          "text": [
            "INFO:tensorflow:Assets written to: /content/drive/My Drive/data/JUNK1.cv.1.best/assets\n"
          ],
          "name": "stdout"
        },
        {
          "output_type": "stream",
          "text": [
            "INFO:tensorflow:Assets written to: /content/drive/My Drive/data/JUNK1.cv.1.best/assets\n"
          ],
          "name": "stderr"
        },
        {
          "output_type": "stream",
          "text": [
            "Epoch 14/200\n",
            "350/350 [==============================] - 128s 367ms/step - loss: 0.5017 - accuracy: 0.7596 - val_loss: 0.6116 - val_accuracy: 0.7224\n",
            "Epoch 15/200\n",
            "350/350 [==============================] - 131s 375ms/step - loss: 0.5003 - accuracy: 0.7597 - val_loss: 0.5786 - val_accuracy: 0.7226\n",
            "Epoch 16/200\n",
            "350/350 [==============================] - 130s 373ms/step - loss: 0.4661 - accuracy: 0.7837 - val_loss: 0.4407 - val_accuracy: 0.7871\n"
          ],
          "name": "stdout"
        },
        {
          "output_type": "stream",
          "text": [
            "WARNING:absl:Found untraced functions such as gru_cell_4_layer_call_fn, gru_cell_4_layer_call_and_return_conditional_losses, gru_cell_5_layer_call_fn, gru_cell_5_layer_call_and_return_conditional_losses, gru_cell_6_layer_call_fn while saving (showing 5 of 20). These functions will not be directly callable after loading.\n",
            "WARNING:absl:Found untraced functions such as gru_cell_4_layer_call_fn, gru_cell_4_layer_call_and_return_conditional_losses, gru_cell_5_layer_call_fn, gru_cell_5_layer_call_and_return_conditional_losses, gru_cell_6_layer_call_fn while saving (showing 5 of 20). These functions will not be directly callable after loading.\n"
          ],
          "name": "stderr"
        },
        {
          "output_type": "stream",
          "text": [
            "INFO:tensorflow:Assets written to: /content/drive/My Drive/data/JUNK1.cv.1.best/assets\n"
          ],
          "name": "stdout"
        },
        {
          "output_type": "stream",
          "text": [
            "INFO:tensorflow:Assets written to: /content/drive/My Drive/data/JUNK1.cv.1.best/assets\n"
          ],
          "name": "stderr"
        },
        {
          "output_type": "stream",
          "text": [
            "Epoch 17/200\n",
            "350/350 [==============================] - 132s 378ms/step - loss: 0.4470 - accuracy: 0.7890 - val_loss: 0.5186 - val_accuracy: 0.7421\n",
            "Epoch 18/200\n",
            "350/350 [==============================] - 134s 384ms/step - loss: 0.5078 - accuracy: 0.7586 - val_loss: 0.4838 - val_accuracy: 0.7691\n",
            "Epoch 19/200\n",
            "350/350 [==============================] - 130s 372ms/step - loss: 0.4957 - accuracy: 0.7558 - val_loss: 0.5108 - val_accuracy: 0.7513\n",
            "Epoch 20/200\n",
            "350/350 [==============================] - 132s 376ms/step - loss: 0.4708 - accuracy: 0.7769 - val_loss: 0.4535 - val_accuracy: 0.7915\n"
          ],
          "name": "stdout"
        },
        {
          "output_type": "stream",
          "text": [
            "WARNING:absl:Found untraced functions such as gru_cell_4_layer_call_fn, gru_cell_4_layer_call_and_return_conditional_losses, gru_cell_5_layer_call_fn, gru_cell_5_layer_call_and_return_conditional_losses, gru_cell_6_layer_call_fn while saving (showing 5 of 20). These functions will not be directly callable after loading.\n",
            "WARNING:absl:Found untraced functions such as gru_cell_4_layer_call_fn, gru_cell_4_layer_call_and_return_conditional_losses, gru_cell_5_layer_call_fn, gru_cell_5_layer_call_and_return_conditional_losses, gru_cell_6_layer_call_fn while saving (showing 5 of 20). These functions will not be directly callable after loading.\n"
          ],
          "name": "stderr"
        },
        {
          "output_type": "stream",
          "text": [
            "INFO:tensorflow:Assets written to: /content/drive/My Drive/data/JUNK1.cv.1.best/assets\n"
          ],
          "name": "stdout"
        },
        {
          "output_type": "stream",
          "text": [
            "INFO:tensorflow:Assets written to: /content/drive/My Drive/data/JUNK1.cv.1.best/assets\n"
          ],
          "name": "stderr"
        },
        {
          "output_type": "stream",
          "text": [
            "Epoch 21/200\n",
            "350/350 [==============================] - 135s 385ms/step - loss: 0.4563 - accuracy: 0.7821 - val_loss: 0.4359 - val_accuracy: 0.8077\n"
          ],
          "name": "stdout"
        },
        {
          "output_type": "stream",
          "text": [
            "WARNING:absl:Found untraced functions such as gru_cell_4_layer_call_fn, gru_cell_4_layer_call_and_return_conditional_losses, gru_cell_5_layer_call_fn, gru_cell_5_layer_call_and_return_conditional_losses, gru_cell_6_layer_call_fn while saving (showing 5 of 20). These functions will not be directly callable after loading.\n",
            "WARNING:absl:Found untraced functions such as gru_cell_4_layer_call_fn, gru_cell_4_layer_call_and_return_conditional_losses, gru_cell_5_layer_call_fn, gru_cell_5_layer_call_and_return_conditional_losses, gru_cell_6_layer_call_fn while saving (showing 5 of 20). These functions will not be directly callable after loading.\n"
          ],
          "name": "stderr"
        },
        {
          "output_type": "stream",
          "text": [
            "INFO:tensorflow:Assets written to: /content/drive/My Drive/data/JUNK1.cv.1.best/assets\n"
          ],
          "name": "stdout"
        },
        {
          "output_type": "stream",
          "text": [
            "INFO:tensorflow:Assets written to: /content/drive/My Drive/data/JUNK1.cv.1.best/assets\n"
          ],
          "name": "stderr"
        },
        {
          "output_type": "stream",
          "text": [
            "Epoch 22/200\n",
            "350/350 [==============================] - 135s 387ms/step - loss: 0.4375 - accuracy: 0.7937 - val_loss: 0.4072 - val_accuracy: 0.8142\n"
          ],
          "name": "stdout"
        },
        {
          "output_type": "stream",
          "text": [
            "WARNING:absl:Found untraced functions such as gru_cell_4_layer_call_fn, gru_cell_4_layer_call_and_return_conditional_losses, gru_cell_5_layer_call_fn, gru_cell_5_layer_call_and_return_conditional_losses, gru_cell_6_layer_call_fn while saving (showing 5 of 20). These functions will not be directly callable after loading.\n",
            "WARNING:absl:Found untraced functions such as gru_cell_4_layer_call_fn, gru_cell_4_layer_call_and_return_conditional_losses, gru_cell_5_layer_call_fn, gru_cell_5_layer_call_and_return_conditional_losses, gru_cell_6_layer_call_fn while saving (showing 5 of 20). These functions will not be directly callable after loading.\n"
          ],
          "name": "stderr"
        },
        {
          "output_type": "stream",
          "text": [
            "INFO:tensorflow:Assets written to: /content/drive/My Drive/data/JUNK1.cv.1.best/assets\n"
          ],
          "name": "stdout"
        },
        {
          "output_type": "stream",
          "text": [
            "INFO:tensorflow:Assets written to: /content/drive/My Drive/data/JUNK1.cv.1.best/assets\n"
          ],
          "name": "stderr"
        },
        {
          "output_type": "stream",
          "text": [
            "Epoch 23/200\n",
            "350/350 [==============================] - 137s 391ms/step - loss: 0.4378 - accuracy: 0.7966 - val_loss: 0.4102 - val_accuracy: 0.8124\n",
            "Epoch 24/200\n",
            "350/350 [==============================] - 137s 393ms/step - loss: 0.4395 - accuracy: 0.7932 - val_loss: 0.4689 - val_accuracy: 0.7701\n",
            "Epoch 25/200\n",
            "350/350 [==============================] - 137s 392ms/step - loss: 0.4350 - accuracy: 0.7899 - val_loss: 0.5460 - val_accuracy: 0.7200\n",
            "Epoch 26/200\n",
            "350/350 [==============================] - 137s 393ms/step - loss: 0.5088 - accuracy: 0.7475 - val_loss: 0.5317 - val_accuracy: 0.7492\n",
            "Epoch 27/200\n",
            "350/350 [==============================] - 139s 397ms/step - loss: 0.4493 - accuracy: 0.7874 - val_loss: 0.4670 - val_accuracy: 0.7752\n",
            "Epoch 28/200\n",
            "350/350 [==============================] - 137s 393ms/step - loss: 0.4162 - accuracy: 0.8035 - val_loss: 0.3846 - val_accuracy: 0.8289\n"
          ],
          "name": "stdout"
        },
        {
          "output_type": "stream",
          "text": [
            "WARNING:absl:Found untraced functions such as gru_cell_4_layer_call_fn, gru_cell_4_layer_call_and_return_conditional_losses, gru_cell_5_layer_call_fn, gru_cell_5_layer_call_and_return_conditional_losses, gru_cell_6_layer_call_fn while saving (showing 5 of 20). These functions will not be directly callable after loading.\n",
            "WARNING:absl:Found untraced functions such as gru_cell_4_layer_call_fn, gru_cell_4_layer_call_and_return_conditional_losses, gru_cell_5_layer_call_fn, gru_cell_5_layer_call_and_return_conditional_losses, gru_cell_6_layer_call_fn while saving (showing 5 of 20). These functions will not be directly callable after loading.\n"
          ],
          "name": "stderr"
        },
        {
          "output_type": "stream",
          "text": [
            "INFO:tensorflow:Assets written to: /content/drive/My Drive/data/JUNK1.cv.1.best/assets\n"
          ],
          "name": "stdout"
        },
        {
          "output_type": "stream",
          "text": [
            "INFO:tensorflow:Assets written to: /content/drive/My Drive/data/JUNK1.cv.1.best/assets\n"
          ],
          "name": "stderr"
        },
        {
          "output_type": "stream",
          "text": [
            "Epoch 29/200\n",
            "350/350 [==============================] - 137s 393ms/step - loss: 0.4152 - accuracy: 0.8065 - val_loss: 0.4439 - val_accuracy: 0.7939\n",
            "Epoch 30/200\n",
            "350/350 [==============================] - 137s 392ms/step - loss: 0.4045 - accuracy: 0.8153 - val_loss: 0.3742 - val_accuracy: 0.8295\n"
          ],
          "name": "stdout"
        },
        {
          "output_type": "stream",
          "text": [
            "WARNING:absl:Found untraced functions such as gru_cell_4_layer_call_fn, gru_cell_4_layer_call_and_return_conditional_losses, gru_cell_5_layer_call_fn, gru_cell_5_layer_call_and_return_conditional_losses, gru_cell_6_layer_call_fn while saving (showing 5 of 20). These functions will not be directly callable after loading.\n",
            "WARNING:absl:Found untraced functions such as gru_cell_4_layer_call_fn, gru_cell_4_layer_call_and_return_conditional_losses, gru_cell_5_layer_call_fn, gru_cell_5_layer_call_and_return_conditional_losses, gru_cell_6_layer_call_fn while saving (showing 5 of 20). These functions will not be directly callable after loading.\n"
          ],
          "name": "stderr"
        },
        {
          "output_type": "stream",
          "text": [
            "INFO:tensorflow:Assets written to: /content/drive/My Drive/data/JUNK1.cv.1.best/assets\n"
          ],
          "name": "stdout"
        },
        {
          "output_type": "stream",
          "text": [
            "INFO:tensorflow:Assets written to: /content/drive/My Drive/data/JUNK1.cv.1.best/assets\n"
          ],
          "name": "stderr"
        },
        {
          "output_type": "stream",
          "text": [
            "Epoch 31/200\n",
            "350/350 [==============================] - 137s 391ms/step - loss: 0.3801 - accuracy: 0.8245 - val_loss: 0.4276 - val_accuracy: 0.8012\n",
            "Epoch 32/200\n",
            "350/350 [==============================] - 139s 396ms/step - loss: 0.3714 - accuracy: 0.8320 - val_loss: 0.3608 - val_accuracy: 0.8372\n"
          ],
          "name": "stdout"
        },
        {
          "output_type": "stream",
          "text": [
            "WARNING:absl:Found untraced functions such as gru_cell_4_layer_call_fn, gru_cell_4_layer_call_and_return_conditional_losses, gru_cell_5_layer_call_fn, gru_cell_5_layer_call_and_return_conditional_losses, gru_cell_6_layer_call_fn while saving (showing 5 of 20). These functions will not be directly callable after loading.\n",
            "WARNING:absl:Found untraced functions such as gru_cell_4_layer_call_fn, gru_cell_4_layer_call_and_return_conditional_losses, gru_cell_5_layer_call_fn, gru_cell_5_layer_call_and_return_conditional_losses, gru_cell_6_layer_call_fn while saving (showing 5 of 20). These functions will not be directly callable after loading.\n"
          ],
          "name": "stderr"
        },
        {
          "output_type": "stream",
          "text": [
            "INFO:tensorflow:Assets written to: /content/drive/My Drive/data/JUNK1.cv.1.best/assets\n"
          ],
          "name": "stdout"
        },
        {
          "output_type": "stream",
          "text": [
            "INFO:tensorflow:Assets written to: /content/drive/My Drive/data/JUNK1.cv.1.best/assets\n"
          ],
          "name": "stderr"
        },
        {
          "output_type": "stream",
          "text": [
            "Epoch 33/200\n",
            "350/350 [==============================] - 139s 398ms/step - loss: 0.4704 - accuracy: 0.7793 - val_loss: 0.4414 - val_accuracy: 0.7891\n",
            "Epoch 34/200\n",
            "350/350 [==============================] - 139s 399ms/step - loss: 0.4610 - accuracy: 0.7882 - val_loss: 0.4115 - val_accuracy: 0.8079\n",
            "Epoch 35/200\n",
            "350/350 [==============================] - 139s 397ms/step - loss: 0.4156 - accuracy: 0.8058 - val_loss: 0.3526 - val_accuracy: 0.8456\n"
          ],
          "name": "stdout"
        },
        {
          "output_type": "stream",
          "text": [
            "WARNING:absl:Found untraced functions such as gru_cell_4_layer_call_fn, gru_cell_4_layer_call_and_return_conditional_losses, gru_cell_5_layer_call_fn, gru_cell_5_layer_call_and_return_conditional_losses, gru_cell_6_layer_call_fn while saving (showing 5 of 20). These functions will not be directly callable after loading.\n",
            "WARNING:absl:Found untraced functions such as gru_cell_4_layer_call_fn, gru_cell_4_layer_call_and_return_conditional_losses, gru_cell_5_layer_call_fn, gru_cell_5_layer_call_and_return_conditional_losses, gru_cell_6_layer_call_fn while saving (showing 5 of 20). These functions will not be directly callable after loading.\n"
          ],
          "name": "stderr"
        },
        {
          "output_type": "stream",
          "text": [
            "INFO:tensorflow:Assets written to: /content/drive/My Drive/data/JUNK1.cv.1.best/assets\n"
          ],
          "name": "stdout"
        },
        {
          "output_type": "stream",
          "text": [
            "INFO:tensorflow:Assets written to: /content/drive/My Drive/data/JUNK1.cv.1.best/assets\n"
          ],
          "name": "stderr"
        },
        {
          "output_type": "stream",
          "text": [
            "Epoch 36/200\n",
            "350/350 [==============================] - 139s 398ms/step - loss: 0.3870 - accuracy: 0.8199 - val_loss: 0.5921 - val_accuracy: 0.6898\n",
            "Epoch 37/200\n",
            "350/350 [==============================] - 138s 396ms/step - loss: 0.3882 - accuracy: 0.8205 - val_loss: 0.3354 - val_accuracy: 0.8505\n"
          ],
          "name": "stdout"
        },
        {
          "output_type": "stream",
          "text": [
            "WARNING:absl:Found untraced functions such as gru_cell_4_layer_call_fn, gru_cell_4_layer_call_and_return_conditional_losses, gru_cell_5_layer_call_fn, gru_cell_5_layer_call_and_return_conditional_losses, gru_cell_6_layer_call_fn while saving (showing 5 of 20). These functions will not be directly callable after loading.\n",
            "WARNING:absl:Found untraced functions such as gru_cell_4_layer_call_fn, gru_cell_4_layer_call_and_return_conditional_losses, gru_cell_5_layer_call_fn, gru_cell_5_layer_call_and_return_conditional_losses, gru_cell_6_layer_call_fn while saving (showing 5 of 20). These functions will not be directly callable after loading.\n"
          ],
          "name": "stderr"
        },
        {
          "output_type": "stream",
          "text": [
            "INFO:tensorflow:Assets written to: /content/drive/My Drive/data/JUNK1.cv.1.best/assets\n"
          ],
          "name": "stdout"
        },
        {
          "output_type": "stream",
          "text": [
            "INFO:tensorflow:Assets written to: /content/drive/My Drive/data/JUNK1.cv.1.best/assets\n"
          ],
          "name": "stderr"
        },
        {
          "output_type": "stream",
          "text": [
            "Epoch 38/200\n",
            "350/350 [==============================] - 139s 399ms/step - loss: 0.3685 - accuracy: 0.8323 - val_loss: 0.3325 - val_accuracy: 0.8559\n"
          ],
          "name": "stdout"
        },
        {
          "output_type": "stream",
          "text": [
            "WARNING:absl:Found untraced functions such as gru_cell_4_layer_call_fn, gru_cell_4_layer_call_and_return_conditional_losses, gru_cell_5_layer_call_fn, gru_cell_5_layer_call_and_return_conditional_losses, gru_cell_6_layer_call_fn while saving (showing 5 of 20). These functions will not be directly callable after loading.\n",
            "WARNING:absl:Found untraced functions such as gru_cell_4_layer_call_fn, gru_cell_4_layer_call_and_return_conditional_losses, gru_cell_5_layer_call_fn, gru_cell_5_layer_call_and_return_conditional_losses, gru_cell_6_layer_call_fn while saving (showing 5 of 20). These functions will not be directly callable after loading.\n"
          ],
          "name": "stderr"
        },
        {
          "output_type": "stream",
          "text": [
            "INFO:tensorflow:Assets written to: /content/drive/My Drive/data/JUNK1.cv.1.best/assets\n"
          ],
          "name": "stdout"
        },
        {
          "output_type": "stream",
          "text": [
            "INFO:tensorflow:Assets written to: /content/drive/My Drive/data/JUNK1.cv.1.best/assets\n"
          ],
          "name": "stderr"
        },
        {
          "output_type": "stream",
          "text": [
            "Epoch 39/200\n",
            "350/350 [==============================] - 139s 398ms/step - loss: 0.3523 - accuracy: 0.8454 - val_loss: 0.3356 - val_accuracy: 0.8599\n"
          ],
          "name": "stdout"
        },
        {
          "output_type": "stream",
          "text": [
            "WARNING:absl:Found untraced functions such as gru_cell_4_layer_call_fn, gru_cell_4_layer_call_and_return_conditional_losses, gru_cell_5_layer_call_fn, gru_cell_5_layer_call_and_return_conditional_losses, gru_cell_6_layer_call_fn while saving (showing 5 of 20). These functions will not be directly callable after loading.\n",
            "WARNING:absl:Found untraced functions such as gru_cell_4_layer_call_fn, gru_cell_4_layer_call_and_return_conditional_losses, gru_cell_5_layer_call_fn, gru_cell_5_layer_call_and_return_conditional_losses, gru_cell_6_layer_call_fn while saving (showing 5 of 20). These functions will not be directly callable after loading.\n"
          ],
          "name": "stderr"
        },
        {
          "output_type": "stream",
          "text": [
            "INFO:tensorflow:Assets written to: /content/drive/My Drive/data/JUNK1.cv.1.best/assets\n"
          ],
          "name": "stdout"
        },
        {
          "output_type": "stream",
          "text": [
            "INFO:tensorflow:Assets written to: /content/drive/My Drive/data/JUNK1.cv.1.best/assets\n"
          ],
          "name": "stderr"
        },
        {
          "output_type": "stream",
          "text": [
            "Epoch 40/200\n",
            "350/350 [==============================] - 140s 399ms/step - loss: 0.3413 - accuracy: 0.8529 - val_loss: 0.3320 - val_accuracy: 0.8565\n",
            "Epoch 41/200\n",
            "350/350 [==============================] - 138s 394ms/step - loss: 0.3336 - accuracy: 0.8544 - val_loss: 0.3164 - val_accuracy: 0.8649\n"
          ],
          "name": "stdout"
        },
        {
          "output_type": "stream",
          "text": [
            "WARNING:absl:Found untraced functions such as gru_cell_4_layer_call_fn, gru_cell_4_layer_call_and_return_conditional_losses, gru_cell_5_layer_call_fn, gru_cell_5_layer_call_and_return_conditional_losses, gru_cell_6_layer_call_fn while saving (showing 5 of 20). These functions will not be directly callable after loading.\n",
            "WARNING:absl:Found untraced functions such as gru_cell_4_layer_call_fn, gru_cell_4_layer_call_and_return_conditional_losses, gru_cell_5_layer_call_fn, gru_cell_5_layer_call_and_return_conditional_losses, gru_cell_6_layer_call_fn while saving (showing 5 of 20). These functions will not be directly callable after loading.\n"
          ],
          "name": "stderr"
        },
        {
          "output_type": "stream",
          "text": [
            "INFO:tensorflow:Assets written to: /content/drive/My Drive/data/JUNK1.cv.1.best/assets\n"
          ],
          "name": "stdout"
        },
        {
          "output_type": "stream",
          "text": [
            "INFO:tensorflow:Assets written to: /content/drive/My Drive/data/JUNK1.cv.1.best/assets\n"
          ],
          "name": "stderr"
        },
        {
          "output_type": "stream",
          "text": [
            "Epoch 42/200\n",
            "350/350 [==============================] - 139s 397ms/step - loss: 0.3400 - accuracy: 0.8449 - val_loss: 0.3327 - val_accuracy: 0.8563\n",
            "Epoch 43/200\n",
            "350/350 [==============================] - 139s 396ms/step - loss: 0.3450 - accuracy: 0.8400 - val_loss: 0.3428 - val_accuracy: 0.8446\n",
            "Epoch 44/200\n",
            "350/350 [==============================] - 139s 399ms/step - loss: 0.3609 - accuracy: 0.8416 - val_loss: 0.3281 - val_accuracy: 0.8566\n",
            "Epoch 45/200\n",
            "350/350 [==============================] - 139s 398ms/step - loss: 0.3490 - accuracy: 0.8443 - val_loss: 0.3125 - val_accuracy: 0.8722\n"
          ],
          "name": "stdout"
        },
        {
          "output_type": "stream",
          "text": [
            "WARNING:absl:Found untraced functions such as gru_cell_4_layer_call_fn, gru_cell_4_layer_call_and_return_conditional_losses, gru_cell_5_layer_call_fn, gru_cell_5_layer_call_and_return_conditional_losses, gru_cell_6_layer_call_fn while saving (showing 5 of 20). These functions will not be directly callable after loading.\n",
            "WARNING:absl:Found untraced functions such as gru_cell_4_layer_call_fn, gru_cell_4_layer_call_and_return_conditional_losses, gru_cell_5_layer_call_fn, gru_cell_5_layer_call_and_return_conditional_losses, gru_cell_6_layer_call_fn while saving (showing 5 of 20). These functions will not be directly callable after loading.\n"
          ],
          "name": "stderr"
        },
        {
          "output_type": "stream",
          "text": [
            "INFO:tensorflow:Assets written to: /content/drive/My Drive/data/JUNK1.cv.1.best/assets\n"
          ],
          "name": "stdout"
        },
        {
          "output_type": "stream",
          "text": [
            "INFO:tensorflow:Assets written to: /content/drive/My Drive/data/JUNK1.cv.1.best/assets\n"
          ],
          "name": "stderr"
        },
        {
          "output_type": "stream",
          "text": [
            "Epoch 46/200\n",
            "350/350 [==============================] - 139s 397ms/step - loss: 0.3383 - accuracy: 0.8495 - val_loss: 0.2937 - val_accuracy: 0.8819\n"
          ],
          "name": "stdout"
        },
        {
          "output_type": "stream",
          "text": [
            "WARNING:absl:Found untraced functions such as gru_cell_4_layer_call_fn, gru_cell_4_layer_call_and_return_conditional_losses, gru_cell_5_layer_call_fn, gru_cell_5_layer_call_and_return_conditional_losses, gru_cell_6_layer_call_fn while saving (showing 5 of 20). These functions will not be directly callable after loading.\n",
            "WARNING:absl:Found untraced functions such as gru_cell_4_layer_call_fn, gru_cell_4_layer_call_and_return_conditional_losses, gru_cell_5_layer_call_fn, gru_cell_5_layer_call_and_return_conditional_losses, gru_cell_6_layer_call_fn while saving (showing 5 of 20). These functions will not be directly callable after loading.\n"
          ],
          "name": "stderr"
        },
        {
          "output_type": "stream",
          "text": [
            "INFO:tensorflow:Assets written to: /content/drive/My Drive/data/JUNK1.cv.1.best/assets\n"
          ],
          "name": "stdout"
        },
        {
          "output_type": "stream",
          "text": [
            "INFO:tensorflow:Assets written to: /content/drive/My Drive/data/JUNK1.cv.1.best/assets\n"
          ],
          "name": "stderr"
        },
        {
          "output_type": "stream",
          "text": [
            "Epoch 47/200\n",
            "350/350 [==============================] - 138s 396ms/step - loss: 0.3271 - accuracy: 0.8602 - val_loss: 0.2843 - val_accuracy: 0.8835\n"
          ],
          "name": "stdout"
        },
        {
          "output_type": "stream",
          "text": [
            "WARNING:absl:Found untraced functions such as gru_cell_4_layer_call_fn, gru_cell_4_layer_call_and_return_conditional_losses, gru_cell_5_layer_call_fn, gru_cell_5_layer_call_and_return_conditional_losses, gru_cell_6_layer_call_fn while saving (showing 5 of 20). These functions will not be directly callable after loading.\n",
            "WARNING:absl:Found untraced functions such as gru_cell_4_layer_call_fn, gru_cell_4_layer_call_and_return_conditional_losses, gru_cell_5_layer_call_fn, gru_cell_5_layer_call_and_return_conditional_losses, gru_cell_6_layer_call_fn while saving (showing 5 of 20). These functions will not be directly callable after loading.\n"
          ],
          "name": "stderr"
        },
        {
          "output_type": "stream",
          "text": [
            "INFO:tensorflow:Assets written to: /content/drive/My Drive/data/JUNK1.cv.1.best/assets\n"
          ],
          "name": "stdout"
        },
        {
          "output_type": "stream",
          "text": [
            "INFO:tensorflow:Assets written to: /content/drive/My Drive/data/JUNK1.cv.1.best/assets\n"
          ],
          "name": "stderr"
        },
        {
          "output_type": "stream",
          "text": [
            "Epoch 48/200\n",
            "350/350 [==============================] - 138s 395ms/step - loss: 0.3097 - accuracy: 0.8645 - val_loss: 0.2832 - val_accuracy: 0.8869\n"
          ],
          "name": "stdout"
        },
        {
          "output_type": "stream",
          "text": [
            "WARNING:absl:Found untraced functions such as gru_cell_4_layer_call_fn, gru_cell_4_layer_call_and_return_conditional_losses, gru_cell_5_layer_call_fn, gru_cell_5_layer_call_and_return_conditional_losses, gru_cell_6_layer_call_fn while saving (showing 5 of 20). These functions will not be directly callable after loading.\n",
            "WARNING:absl:Found untraced functions such as gru_cell_4_layer_call_fn, gru_cell_4_layer_call_and_return_conditional_losses, gru_cell_5_layer_call_fn, gru_cell_5_layer_call_and_return_conditional_losses, gru_cell_6_layer_call_fn while saving (showing 5 of 20). These functions will not be directly callable after loading.\n"
          ],
          "name": "stderr"
        },
        {
          "output_type": "stream",
          "text": [
            "INFO:tensorflow:Assets written to: /content/drive/My Drive/data/JUNK1.cv.1.best/assets\n"
          ],
          "name": "stdout"
        },
        {
          "output_type": "stream",
          "text": [
            "INFO:tensorflow:Assets written to: /content/drive/My Drive/data/JUNK1.cv.1.best/assets\n"
          ],
          "name": "stderr"
        },
        {
          "output_type": "stream",
          "text": [
            "Epoch 49/200\n",
            "350/350 [==============================] - 139s 398ms/step - loss: 0.3085 - accuracy: 0.8716 - val_loss: 0.2719 - val_accuracy: 0.8936\n"
          ],
          "name": "stdout"
        },
        {
          "output_type": "stream",
          "text": [
            "WARNING:absl:Found untraced functions such as gru_cell_4_layer_call_fn, gru_cell_4_layer_call_and_return_conditional_losses, gru_cell_5_layer_call_fn, gru_cell_5_layer_call_and_return_conditional_losses, gru_cell_6_layer_call_fn while saving (showing 5 of 20). These functions will not be directly callable after loading.\n",
            "WARNING:absl:Found untraced functions such as gru_cell_4_layer_call_fn, gru_cell_4_layer_call_and_return_conditional_losses, gru_cell_5_layer_call_fn, gru_cell_5_layer_call_and_return_conditional_losses, gru_cell_6_layer_call_fn while saving (showing 5 of 20). These functions will not be directly callable after loading.\n"
          ],
          "name": "stderr"
        },
        {
          "output_type": "stream",
          "text": [
            "INFO:tensorflow:Assets written to: /content/drive/My Drive/data/JUNK1.cv.1.best/assets\n"
          ],
          "name": "stdout"
        },
        {
          "output_type": "stream",
          "text": [
            "INFO:tensorflow:Assets written to: /content/drive/My Drive/data/JUNK1.cv.1.best/assets\n"
          ],
          "name": "stderr"
        },
        {
          "output_type": "stream",
          "text": [
            "Epoch 50/200\n",
            "350/350 [==============================] - 139s 397ms/step - loss: 0.2920 - accuracy: 0.8719 - val_loss: 0.2601 - val_accuracy: 0.8993\n"
          ],
          "name": "stdout"
        },
        {
          "output_type": "stream",
          "text": [
            "WARNING:absl:Found untraced functions such as gru_cell_4_layer_call_fn, gru_cell_4_layer_call_and_return_conditional_losses, gru_cell_5_layer_call_fn, gru_cell_5_layer_call_and_return_conditional_losses, gru_cell_6_layer_call_fn while saving (showing 5 of 20). These functions will not be directly callable after loading.\n",
            "WARNING:absl:Found untraced functions such as gru_cell_4_layer_call_fn, gru_cell_4_layer_call_and_return_conditional_losses, gru_cell_5_layer_call_fn, gru_cell_5_layer_call_and_return_conditional_losses, gru_cell_6_layer_call_fn while saving (showing 5 of 20). These functions will not be directly callable after loading.\n"
          ],
          "name": "stderr"
        },
        {
          "output_type": "stream",
          "text": [
            "INFO:tensorflow:Assets written to: /content/drive/My Drive/data/JUNK1.cv.1.best/assets\n"
          ],
          "name": "stdout"
        },
        {
          "output_type": "stream",
          "text": [
            "INFO:tensorflow:Assets written to: /content/drive/My Drive/data/JUNK1.cv.1.best/assets\n"
          ],
          "name": "stderr"
        },
        {
          "output_type": "stream",
          "text": [
            "Epoch 51/200\n",
            "350/350 [==============================] - 138s 394ms/step - loss: 0.2841 - accuracy: 0.8815 - val_loss: 0.2490 - val_accuracy: 0.9043\n"
          ],
          "name": "stdout"
        },
        {
          "output_type": "stream",
          "text": [
            "WARNING:absl:Found untraced functions such as gru_cell_4_layer_call_fn, gru_cell_4_layer_call_and_return_conditional_losses, gru_cell_5_layer_call_fn, gru_cell_5_layer_call_and_return_conditional_losses, gru_cell_6_layer_call_fn while saving (showing 5 of 20). These functions will not be directly callable after loading.\n",
            "WARNING:absl:Found untraced functions such as gru_cell_4_layer_call_fn, gru_cell_4_layer_call_and_return_conditional_losses, gru_cell_5_layer_call_fn, gru_cell_5_layer_call_and_return_conditional_losses, gru_cell_6_layer_call_fn while saving (showing 5 of 20). These functions will not be directly callable after loading.\n"
          ],
          "name": "stderr"
        },
        {
          "output_type": "stream",
          "text": [
            "INFO:tensorflow:Assets written to: /content/drive/My Drive/data/JUNK1.cv.1.best/assets\n"
          ],
          "name": "stdout"
        },
        {
          "output_type": "stream",
          "text": [
            "INFO:tensorflow:Assets written to: /content/drive/My Drive/data/JUNK1.cv.1.best/assets\n"
          ],
          "name": "stderr"
        },
        {
          "output_type": "stream",
          "text": [
            "Epoch 52/200\n",
            "350/350 [==============================] - 140s 401ms/step - loss: 0.2844 - accuracy: 0.8795 - val_loss: 0.2644 - val_accuracy: 0.8938\n",
            "Epoch 53/200\n",
            "350/350 [==============================] - 139s 397ms/step - loss: 0.3297 - accuracy: 0.8562 - val_loss: 0.2831 - val_accuracy: 0.8871\n",
            "Epoch 54/200\n",
            "350/350 [==============================] - 140s 400ms/step - loss: 0.2782 - accuracy: 0.8831 - val_loss: 0.2602 - val_accuracy: 0.8943\n",
            "Epoch 55/200\n",
            "350/350 [==============================] - 139s 397ms/step - loss: 0.2567 - accuracy: 0.8927 - val_loss: 0.2544 - val_accuracy: 0.8983\n",
            "Epoch 56/200\n",
            "350/350 [==============================] - 139s 396ms/step - loss: 0.2624 - accuracy: 0.8913 - val_loss: 0.2590 - val_accuracy: 0.8958\n",
            "Epoch 57/200\n",
            "350/350 [==============================] - 139s 398ms/step - loss: 0.2523 - accuracy: 0.8939 - val_loss: 0.2346 - val_accuracy: 0.9096\n"
          ],
          "name": "stdout"
        },
        {
          "output_type": "stream",
          "text": [
            "WARNING:absl:Found untraced functions such as gru_cell_4_layer_call_fn, gru_cell_4_layer_call_and_return_conditional_losses, gru_cell_5_layer_call_fn, gru_cell_5_layer_call_and_return_conditional_losses, gru_cell_6_layer_call_fn while saving (showing 5 of 20). These functions will not be directly callable after loading.\n",
            "WARNING:absl:Found untraced functions such as gru_cell_4_layer_call_fn, gru_cell_4_layer_call_and_return_conditional_losses, gru_cell_5_layer_call_fn, gru_cell_5_layer_call_and_return_conditional_losses, gru_cell_6_layer_call_fn while saving (showing 5 of 20). These functions will not be directly callable after loading.\n"
          ],
          "name": "stderr"
        },
        {
          "output_type": "stream",
          "text": [
            "INFO:tensorflow:Assets written to: /content/drive/My Drive/data/JUNK1.cv.1.best/assets\n"
          ],
          "name": "stdout"
        },
        {
          "output_type": "stream",
          "text": [
            "INFO:tensorflow:Assets written to: /content/drive/My Drive/data/JUNK1.cv.1.best/assets\n"
          ],
          "name": "stderr"
        },
        {
          "output_type": "stream",
          "text": [
            "Epoch 58/200\n",
            "350/350 [==============================] - 139s 397ms/step - loss: 0.2552 - accuracy: 0.8937 - val_loss: 0.2375 - val_accuracy: 0.9088\n",
            "Epoch 59/200\n",
            "350/350 [==============================] - 138s 396ms/step - loss: 0.2422 - accuracy: 0.9034 - val_loss: 0.2618 - val_accuracy: 0.8947\n",
            "Epoch 60/200\n",
            "350/350 [==============================] - 138s 394ms/step - loss: 0.3487 - accuracy: 0.8448 - val_loss: 0.3121 - val_accuracy: 0.8652\n",
            "Epoch 61/200\n",
            "350/350 [==============================] - 138s 396ms/step - loss: 0.3250 - accuracy: 0.8590 - val_loss: 0.3137 - val_accuracy: 0.8607\n",
            "Epoch 62/200\n",
            "350/350 [==============================] - 137s 392ms/step - loss: 0.3094 - accuracy: 0.8667 - val_loss: 0.2744 - val_accuracy: 0.8855\n",
            "Epoch 63/200\n",
            "350/350 [==============================] - 138s 394ms/step - loss: 0.2886 - accuracy: 0.8806 - val_loss: 0.3506 - val_accuracy: 0.8458\n",
            "Epoch 64/200\n",
            "350/350 [==============================] - 139s 397ms/step - loss: 0.2868 - accuracy: 0.8768 - val_loss: 0.2808 - val_accuracy: 0.8798\n",
            "Epoch 65/200\n",
            "350/350 [==============================] - 139s 397ms/step - loss: 0.2811 - accuracy: 0.8818 - val_loss: 0.2627 - val_accuracy: 0.8951\n",
            "Epoch 66/200\n",
            "350/350 [==============================] - 138s 396ms/step - loss: 0.2769 - accuracy: 0.8875 - val_loss: 0.3620 - val_accuracy: 0.8616\n",
            "Epoch 67/200\n",
            "350/350 [==============================] - 138s 395ms/step - loss: 0.2789 - accuracy: 0.8838 - val_loss: 0.2380 - val_accuracy: 0.9075\n",
            "Epoch 00067: early stopping\n",
            "Fold 1, 200 epochs, 9737 sec\n"
          ],
          "name": "stdout"
        },
        {
          "output_type": "display_data",
          "data": {
            "image/png": "[encoded data removed]",
            "text/plain": [
              "<Figure size 576x360 with 1 Axes>"
            ]
          },
          "metadata": {
            "tags": []
          }
        },
        {
          "output_type": "stream",
          "text": [
            "accuracy: 90.96%\n",
            "COMPILE...\n",
            "...COMPILED\n",
            "FIT\n",
            "Epoch 1/200\n",
            "350/350 [==============================] - 150s 394ms/step - loss: 0.6854 - accuracy: 0.5512 - val_loss: 0.6935 - val_accuracy: 0.5315\n"
          ],
          "name": "stdout"
        },
        {
          "output_type": "stream",
          "text": [
            "WARNING:absl:Found untraced functions such as gru_cell_12_layer_call_fn, gru_cell_12_layer_call_and_return_conditional_losses, gru_cell_13_layer_call_fn, gru_cell_13_layer_call_and_return_conditional_losses, gru_cell_14_layer_call_fn while saving (showing 5 of 20). These functions will not be directly callable after loading.\n",
            "WARNING:absl:Found untraced functions such as gru_cell_12_layer_call_fn, gru_cell_12_layer_call_and_return_conditional_losses, gru_cell_13_layer_call_fn, gru_cell_13_layer_call_and_return_conditional_losses, gru_cell_14_layer_call_fn while saving (showing 5 of 20). These functions will not be directly callable after loading.\n"
          ],
          "name": "stderr"
        },
        {
          "output_type": "stream",
          "text": [
            "INFO:tensorflow:Assets written to: /content/drive/My Drive/data/JUNK1.cv.2.best/assets\n"
          ],
          "name": "stdout"
        },
        {
          "output_type": "stream",
          "text": [
            "INFO:tensorflow:Assets written to: /content/drive/My Drive/data/JUNK1.cv.2.best/assets\n"
          ],
          "name": "stderr"
        },
        {
          "output_type": "stream",
          "text": [
            "Epoch 2/200\n",
            "350/350 [==============================] - 135s 386ms/step - loss: 0.6697 - accuracy: 0.5917 - val_loss: 0.6911 - val_accuracy: 0.5301\n",
            "Epoch 3/200\n",
            "350/350 [==============================] - 136s 388ms/step - loss: 0.6761 - accuracy: 0.5731 - val_loss: 0.6775 - val_accuracy: 0.6122\n"
          ],
          "name": "stdout"
        },
        {
          "output_type": "stream",
          "text": [
            "WARNING:absl:Found untraced functions such as gru_cell_12_layer_call_fn, gru_cell_12_layer_call_and_return_conditional_losses, gru_cell_13_layer_call_fn, gru_cell_13_layer_call_and_return_conditional_losses, gru_cell_14_layer_call_fn while saving (showing 5 of 20). These functions will not be directly callable after loading.\n",
            "WARNING:absl:Found untraced functions such as gru_cell_12_layer_call_fn, gru_cell_12_layer_call_and_return_conditional_losses, gru_cell_13_layer_call_fn, gru_cell_13_layer_call_and_return_conditional_losses, gru_cell_14_layer_call_fn while saving (showing 5 of 20). These functions will not be directly callable after loading.\n"
          ],
          "name": "stderr"
        },
        {
          "output_type": "stream",
          "text": [
            "INFO:tensorflow:Assets written to: /content/drive/My Drive/data/JUNK1.cv.2.best/assets\n"
          ],
          "name": "stdout"
        },
        {
          "output_type": "stream",
          "text": [
            "INFO:tensorflow:Assets written to: /content/drive/My Drive/data/JUNK1.cv.2.best/assets\n"
          ],
          "name": "stderr"
        },
        {
          "output_type": "stream",
          "text": [
            "Epoch 4/200\n",
            "350/350 [==============================] - 136s 388ms/step - loss: 0.6747 - accuracy: 0.5869 - val_loss: 0.6907 - val_accuracy: 0.5347\n",
            "Epoch 5/200\n",
            "350/350 [==============================] - 134s 382ms/step - loss: 0.6789 - accuracy: 0.5770 - val_loss: 0.6496 - val_accuracy: 0.6183\n"
          ],
          "name": "stdout"
        },
        {
          "output_type": "stream",
          "text": [
            "WARNING:absl:Found untraced functions such as gru_cell_12_layer_call_fn, gru_cell_12_layer_call_and_return_conditional_losses, gru_cell_13_layer_call_fn, gru_cell_13_layer_call_and_return_conditional_losses, gru_cell_14_layer_call_fn while saving (showing 5 of 20). These functions will not be directly callable after loading.\n",
            "WARNING:absl:Found untraced functions such as gru_cell_12_layer_call_fn, gru_cell_12_layer_call_and_return_conditional_losses, gru_cell_13_layer_call_fn, gru_cell_13_layer_call_and_return_conditional_losses, gru_cell_14_layer_call_fn while saving (showing 5 of 20). These functions will not be directly callable after loading.\n"
          ],
          "name": "stderr"
        },
        {
          "output_type": "stream",
          "text": [
            "INFO:tensorflow:Assets written to: /content/drive/My Drive/data/JUNK1.cv.2.best/assets\n"
          ],
          "name": "stdout"
        },
        {
          "output_type": "stream",
          "text": [
            "INFO:tensorflow:Assets written to: /content/drive/My Drive/data/JUNK1.cv.2.best/assets\n"
          ],
          "name": "stderr"
        },
        {
          "output_type": "stream",
          "text": [
            "Epoch 6/200\n",
            "350/350 [==============================] - 134s 384ms/step - loss: 0.6252 - accuracy: 0.6651 - val_loss: 0.5871 - val_accuracy: 0.6946\n"
          ],
          "name": "stdout"
        },
        {
          "output_type": "stream",
          "text": [
            "WARNING:absl:Found untraced functions such as gru_cell_12_layer_call_fn, gru_cell_12_layer_call_and_return_conditional_losses, gru_cell_13_layer_call_fn, gru_cell_13_layer_call_and_return_conditional_losses, gru_cell_14_layer_call_fn while saving (showing 5 of 20). These functions will not be directly callable after loading.\n",
            "WARNING:absl:Found untraced functions such as gru_cell_12_layer_call_fn, gru_cell_12_layer_call_and_return_conditional_losses, gru_cell_13_layer_call_fn, gru_cell_13_layer_call_and_return_conditional_losses, gru_cell_14_layer_call_fn while saving (showing 5 of 20). These functions will not be directly callable after loading.\n"
          ],
          "name": "stderr"
        },
        {
          "output_type": "stream",
          "text": [
            "INFO:tensorflow:Assets written to: /content/drive/My Drive/data/JUNK1.cv.2.best/assets\n"
          ],
          "name": "stdout"
        },
        {
          "output_type": "stream",
          "text": [
            "INFO:tensorflow:Assets written to: /content/drive/My Drive/data/JUNK1.cv.2.best/assets\n"
          ],
          "name": "stderr"
        },
        {
          "output_type": "stream",
          "text": [
            "Epoch 7/200\n",
            "350/350 [==============================] - 136s 389ms/step - loss: 0.5775 - accuracy: 0.7131 - val_loss: 0.5639 - val_accuracy: 0.7158\n"
          ],
          "name": "stdout"
        },
        {
          "output_type": "stream",
          "text": [
            "WARNING:absl:Found untraced functions such as gru_cell_12_layer_call_fn, gru_cell_12_layer_call_and_return_conditional_losses, gru_cell_13_layer_call_fn, gru_cell_13_layer_call_and_return_conditional_losses, gru_cell_14_layer_call_fn while saving (showing 5 of 20). These functions will not be directly callable after loading.\n",
            "WARNING:absl:Found untraced functions such as gru_cell_12_layer_call_fn, gru_cell_12_layer_call_and_return_conditional_losses, gru_cell_13_layer_call_fn, gru_cell_13_layer_call_and_return_conditional_losses, gru_cell_14_layer_call_fn while saving (showing 5 of 20). These functions will not be directly callable after loading.\n"
          ],
          "name": "stderr"
        },
        {
          "output_type": "stream",
          "text": [
            "INFO:tensorflow:Assets written to: /content/drive/My Drive/data/JUNK1.cv.2.best/assets\n"
          ],
          "name": "stdout"
        },
        {
          "output_type": "stream",
          "text": [
            "INFO:tensorflow:Assets written to: /content/drive/My Drive/data/JUNK1.cv.2.best/assets\n"
          ],
          "name": "stderr"
        },
        {
          "output_type": "stream",
          "text": [
            "Epoch 8/200\n",
            "350/350 [==============================] - 135s 387ms/step - loss: 0.5514 - accuracy: 0.7305 - val_loss: 0.5250 - val_accuracy: 0.7414\n"
          ],
          "name": "stdout"
        },
        {
          "output_type": "stream",
          "text": [
            "WARNING:absl:Found untraced functions such as gru_cell_12_layer_call_fn, gru_cell_12_layer_call_and_return_conditional_losses, gru_cell_13_layer_call_fn, gru_cell_13_layer_call_and_return_conditional_losses, gru_cell_14_layer_call_fn while saving (showing 5 of 20). These functions will not be directly callable after loading.\n",
            "WARNING:absl:Found untraced functions such as gru_cell_12_layer_call_fn, gru_cell_12_layer_call_and_return_conditional_losses, gru_cell_13_layer_call_fn, gru_cell_13_layer_call_and_return_conditional_losses, gru_cell_14_layer_call_fn while saving (showing 5 of 20). These functions will not be directly callable after loading.\n"
          ],
          "name": "stderr"
        },
        {
          "output_type": "stream",
          "text": [
            "INFO:tensorflow:Assets written to: /content/drive/My Drive/data/JUNK1.cv.2.best/assets\n"
          ],
          "name": "stdout"
        },
        {
          "output_type": "stream",
          "text": [
            "INFO:tensorflow:Assets written to: /content/drive/My Drive/data/JUNK1.cv.2.best/assets\n"
          ],
          "name": "stderr"
        },
        {
          "output_type": "stream",
          "text": [
            "Epoch 9/200\n",
            "350/350 [==============================] - 134s 384ms/step - loss: 0.5183 - accuracy: 0.7532 - val_loss: 0.4583 - val_accuracy: 0.7876\n"
          ],
          "name": "stdout"
        },
        {
          "output_type": "stream",
          "text": [
            "WARNING:absl:Found untraced functions such as gru_cell_12_layer_call_fn, gru_cell_12_layer_call_and_return_conditional_losses, gru_cell_13_layer_call_fn, gru_cell_13_layer_call_and_return_conditional_losses, gru_cell_14_layer_call_fn while saving (showing 5 of 20). These functions will not be directly callable after loading.\n",
            "WARNING:absl:Found untraced functions such as gru_cell_12_layer_call_fn, gru_cell_12_layer_call_and_return_conditional_losses, gru_cell_13_layer_call_fn, gru_cell_13_layer_call_and_return_conditional_losses, gru_cell_14_layer_call_fn while saving (showing 5 of 20). These functions will not be directly callable after loading.\n"
          ],
          "name": "stderr"
        },
        {
          "output_type": "stream",
          "text": [
            "INFO:tensorflow:Assets written to: /content/drive/My Drive/data/JUNK1.cv.2.best/assets\n"
          ],
          "name": "stdout"
        },
        {
          "output_type": "stream",
          "text": [
            "INFO:tensorflow:Assets written to: /content/drive/My Drive/data/JUNK1.cv.2.best/assets\n"
          ],
          "name": "stderr"
        },
        {
          "output_type": "stream",
          "text": [
            "Epoch 10/200\n",
            "350/350 [==============================] - 133s 381ms/step - loss: 0.4627 - accuracy: 0.7893 - val_loss: 0.6354 - val_accuracy: 0.6729\n",
            "Epoch 11/200\n",
            "350/350 [==============================] - 133s 381ms/step - loss: 0.5784 - accuracy: 0.7014 - val_loss: 0.5655 - val_accuracy: 0.7081\n",
            "Epoch 12/200\n",
            "350/350 [==============================] - 132s 377ms/step - loss: 0.5608 - accuracy: 0.7145 - val_loss: 0.5729 - val_accuracy: 0.6994\n",
            "Epoch 13/200\n",
            "350/350 [==============================] - 131s 374ms/step - loss: 0.5566 - accuracy: 0.7193 - val_loss: 0.5646 - val_accuracy: 0.7147\n",
            "Epoch 14/200\n",
            "350/350 [==============================] - 129s 369ms/step - loss: 0.5510 - accuracy: 0.7249 - val_loss: 0.5480 - val_accuracy: 0.7195\n",
            "Epoch 15/200\n",
            "350/350 [==============================] - 129s 369ms/step - loss: 0.5394 - accuracy: 0.7339 - val_loss: 0.5396 - val_accuracy: 0.7258\n",
            "Epoch 16/200\n",
            "350/350 [==============================] - 126s 361ms/step - loss: 0.5387 - accuracy: 0.7371 - val_loss: 0.5366 - val_accuracy: 0.7233\n",
            "Epoch 17/200\n",
            "350/350 [==============================] - 129s 369ms/step - loss: 0.5294 - accuracy: 0.7387 - val_loss: 0.5197 - val_accuracy: 0.7364\n",
            "Epoch 18/200\n",
            "350/350 [==============================] - 132s 377ms/step - loss: 0.5374 - accuracy: 0.7320 - val_loss: 0.5153 - val_accuracy: 0.7419\n",
            "Epoch 19/200\n",
            "350/350 [==============================] - 132s 376ms/step - loss: 0.5127 - accuracy: 0.7477 - val_loss: 0.5220 - val_accuracy: 0.7377\n",
            "Epoch 00019: early stopping\n",
            "Fold 2, 200 epochs, 2696 sec\n"
          ],
          "name": "stdout"
        },
        {
          "output_type": "display_data",
          "data": {
            "image/png": "[encoded data removed]",
            "text/plain": [
              "<Figure size 576x360 with 1 Axes>"
            ]
          },
          "metadata": {
            "tags": []
          }
        },
        {
          "output_type": "stream",
          "text": [
            "accuracy: 78.76%\n",
            "COMPILE...\n",
            "...COMPILED\n",
            "FIT\n",
            "Epoch 1/200\n",
            "350/350 [==============================] - 149s 386ms/step - loss: 0.6811 - accuracy: 0.5658 - val_loss: 0.6969 - val_accuracy: 0.5303\n"
          ],
          "name": "stdout"
        },
        {
          "output_type": "stream",
          "text": [
            "WARNING:absl:Found untraced functions such as gru_cell_20_layer_call_fn, gru_cell_20_layer_call_and_return_conditional_losses, gru_cell_21_layer_call_fn, gru_cell_21_layer_call_and_return_conditional_losses, gru_cell_22_layer_call_fn while saving (showing 5 of 20). These functions will not be directly callable after loading.\n",
            "WARNING:absl:Found untraced functions such as gru_cell_20_layer_call_fn, gru_cell_20_layer_call_and_return_conditional_losses, gru_cell_21_layer_call_fn, gru_cell_21_layer_call_and_return_conditional_losses, gru_cell_22_layer_call_fn while saving (showing 5 of 20). These functions will not be directly callable after loading.\n"
          ],
          "name": "stderr"
        },
        {
          "output_type": "stream",
          "text": [
            "INFO:tensorflow:Assets written to: /content/drive/My Drive/data/JUNK1.cv.3.best/assets\n"
          ],
          "name": "stdout"
        },
        {
          "output_type": "stream",
          "text": [
            "INFO:tensorflow:Assets written to: /content/drive/My Drive/data/JUNK1.cv.3.best/assets\n"
          ],
          "name": "stderr"
        },
        {
          "output_type": "stream",
          "text": [
            "Epoch 2/200\n",
            "350/350 [==============================] - 133s 379ms/step - loss: 0.6760 - accuracy: 0.5779 - val_loss: 0.7064 - val_accuracy: 0.5000\n",
            "Epoch 3/200\n",
            "350/350 [==============================] - 133s 381ms/step - loss: 0.7150 - accuracy: 0.4912 - val_loss: 0.6952 - val_accuracy: 0.5000\n",
            "Epoch 4/200\n",
            "350/350 [==============================] - 134s 383ms/step - loss: 0.7019 - accuracy: 0.5032 - val_loss: 0.6393 - val_accuracy: 0.6464\n"
          ],
          "name": "stdout"
        },
        {
          "output_type": "stream",
          "text": [
            "WARNING:absl:Found untraced functions such as gru_cell_20_layer_call_fn, gru_cell_20_layer_call_and_return_conditional_losses, gru_cell_21_layer_call_fn, gru_cell_21_layer_call_and_return_conditional_losses, gru_cell_22_layer_call_fn while saving (showing 5 of 20). These functions will not be directly callable after loading.\n",
            "WARNING:absl:Found untraced functions such as gru_cell_20_layer_call_fn, gru_cell_20_layer_call_and_return_conditional_losses, gru_cell_21_layer_call_fn, gru_cell_21_layer_call_and_return_conditional_losses, gru_cell_22_layer_call_fn while saving (showing 5 of 20). These functions will not be directly callable after loading.\n"
          ],
          "name": "stderr"
        },
        {
          "output_type": "stream",
          "text": [
            "INFO:tensorflow:Assets written to: /content/drive/My Drive/data/JUNK1.cv.3.best/assets\n"
          ],
          "name": "stdout"
        },
        {
          "output_type": "stream",
          "text": [
            "INFO:tensorflow:Assets written to: /content/drive/My Drive/data/JUNK1.cv.3.best/assets\n"
          ],
          "name": "stderr"
        },
        {
          "output_type": "stream",
          "text": [
            "Epoch 5/200\n",
            "350/350 [==============================] - 135s 386ms/step - loss: 0.6836 - accuracy: 0.5576 - val_loss: 0.7224 - val_accuracy: 0.5174\n",
            "Epoch 6/200\n",
            "350/350 [==============================] - 136s 388ms/step - loss: 0.6681 - accuracy: 0.5918 - val_loss: 0.6325 - val_accuracy: 0.6591\n"
          ],
          "name": "stdout"
        },
        {
          "output_type": "stream",
          "text": [
            "WARNING:absl:Found untraced functions such as gru_cell_20_layer_call_fn, gru_cell_20_layer_call_and_return_conditional_losses, gru_cell_21_layer_call_fn, gru_cell_21_layer_call_and_return_conditional_losses, gru_cell_22_layer_call_fn while saving (showing 5 of 20). These functions will not be directly callable after loading.\n",
            "WARNING:absl:Found untraced functions such as gru_cell_20_layer_call_fn, gru_cell_20_layer_call_and_return_conditional_losses, gru_cell_21_layer_call_fn, gru_cell_21_layer_call_and_return_conditional_losses, gru_cell_22_layer_call_fn while saving (showing 5 of 20). These functions will not be directly callable after loading.\n"
          ],
          "name": "stderr"
        },
        {
          "output_type": "stream",
          "text": [
            "INFO:tensorflow:Assets written to: /content/drive/My Drive/data/JUNK1.cv.3.best/assets\n"
          ],
          "name": "stdout"
        },
        {
          "output_type": "stream",
          "text": [
            "INFO:tensorflow:Assets written to: /content/drive/My Drive/data/JUNK1.cv.3.best/assets\n"
          ],
          "name": "stderr"
        },
        {
          "output_type": "stream",
          "text": [
            "Epoch 7/200\n",
            "350/350 [==============================] - 135s 385ms/step - loss: 0.6389 - accuracy: 0.6478 - val_loss: 0.6152 - val_accuracy: 0.6603\n"
          ],
          "name": "stdout"
        },
        {
          "output_type": "stream",
          "text": [
            "WARNING:absl:Found untraced functions such as gru_cell_20_layer_call_fn, gru_cell_20_layer_call_and_return_conditional_losses, gru_cell_21_layer_call_fn, gru_cell_21_layer_call_and_return_conditional_losses, gru_cell_22_layer_call_fn while saving (showing 5 of 20). These functions will not be directly callable after loading.\n",
            "WARNING:absl:Found untraced functions such as gru_cell_20_layer_call_fn, gru_cell_20_layer_call_and_return_conditional_losses, gru_cell_21_layer_call_fn, gru_cell_21_layer_call_and_return_conditional_losses, gru_cell_22_layer_call_fn while saving (showing 5 of 20). These functions will not be directly callable after loading.\n"
          ],
          "name": "stderr"
        },
        {
          "output_type": "stream",
          "text": [
            "INFO:tensorflow:Assets written to: /content/drive/My Drive/data/JUNK1.cv.3.best/assets\n"
          ],
          "name": "stdout"
        },
        {
          "output_type": "stream",
          "text": [
            "INFO:tensorflow:Assets written to: /content/drive/My Drive/data/JUNK1.cv.3.best/assets\n"
          ],
          "name": "stderr"
        },
        {
          "output_type": "stream",
          "text": [
            "Epoch 8/200\n",
            "350/350 [==============================] - 137s 391ms/step - loss: 0.5976 - accuracy: 0.6912 - val_loss: 0.5770 - val_accuracy: 0.7108\n"
          ],
          "name": "stdout"
        },
        {
          "output_type": "stream",
          "text": [
            "WARNING:absl:Found untraced functions such as gru_cell_20_layer_call_fn, gru_cell_20_layer_call_and_return_conditional_losses, gru_cell_21_layer_call_fn, gru_cell_21_layer_call_and_return_conditional_losses, gru_cell_22_layer_call_fn while saving (showing 5 of 20). These functions will not be directly callable after loading.\n",
            "WARNING:absl:Found untraced functions such as gru_cell_20_layer_call_fn, gru_cell_20_layer_call_and_return_conditional_losses, gru_cell_21_layer_call_fn, gru_cell_21_layer_call_and_return_conditional_losses, gru_cell_22_layer_call_fn while saving (showing 5 of 20). These functions will not be directly callable after loading.\n"
          ],
          "name": "stderr"
        },
        {
          "output_type": "stream",
          "text": [
            "INFO:tensorflow:Assets written to: /content/drive/My Drive/data/JUNK1.cv.3.best/assets\n"
          ],
          "name": "stdout"
        },
        {
          "output_type": "stream",
          "text": [
            "INFO:tensorflow:Assets written to: /content/drive/My Drive/data/JUNK1.cv.3.best/assets\n"
          ],
          "name": "stderr"
        },
        {
          "output_type": "stream",
          "text": [
            "Epoch 9/200\n",
            "350/350 [==============================] - 137s 391ms/step - loss: 0.5593 - accuracy: 0.7214 - val_loss: 0.5511 - val_accuracy: 0.7221\n"
          ],
          "name": "stdout"
        },
        {
          "output_type": "stream",
          "text": [
            "WARNING:absl:Found untraced functions such as gru_cell_20_layer_call_fn, gru_cell_20_layer_call_and_return_conditional_losses, gru_cell_21_layer_call_fn, gru_cell_21_layer_call_and_return_conditional_losses, gru_cell_22_layer_call_fn while saving (showing 5 of 20). These functions will not be directly callable after loading.\n",
            "WARNING:absl:Found untraced functions such as gru_cell_20_layer_call_fn, gru_cell_20_layer_call_and_return_conditional_losses, gru_cell_21_layer_call_fn, gru_cell_21_layer_call_and_return_conditional_losses, gru_cell_22_layer_call_fn while saving (showing 5 of 20). These functions will not be directly callable after loading.\n"
          ],
          "name": "stderr"
        },
        {
          "output_type": "stream",
          "text": [
            "INFO:tensorflow:Assets written to: /content/drive/My Drive/data/JUNK1.cv.3.best/assets\n"
          ],
          "name": "stdout"
        },
        {
          "output_type": "stream",
          "text": [
            "INFO:tensorflow:Assets written to: /content/drive/My Drive/data/JUNK1.cv.3.best/assets\n"
          ],
          "name": "stderr"
        },
        {
          "output_type": "stream",
          "text": [
            "Epoch 10/200\n",
            "350/350 [==============================] - 136s 390ms/step - loss: 0.5470 - accuracy: 0.7401 - val_loss: 0.5612 - val_accuracy: 0.7220\n",
            "Epoch 11/200\n",
            "350/350 [==============================] - 137s 392ms/step - loss: 0.5452 - accuracy: 0.7289 - val_loss: 0.5646 - val_accuracy: 0.7143\n",
            "Epoch 12/200\n",
            "350/350 [==============================] - 137s 392ms/step - loss: 0.5371 - accuracy: 0.7412 - val_loss: 0.5233 - val_accuracy: 0.7357\n"
          ],
          "name": "stdout"
        },
        {
          "output_type": "stream",
          "text": [
            "WARNING:absl:Found untraced functions such as gru_cell_20_layer_call_fn, gru_cell_20_layer_call_and_return_conditional_losses, gru_cell_21_layer_call_fn, gru_cell_21_layer_call_and_return_conditional_losses, gru_cell_22_layer_call_fn while saving (showing 5 of 20). These functions will not be directly callable after loading.\n",
            "WARNING:absl:Found untraced functions such as gru_cell_20_layer_call_fn, gru_cell_20_layer_call_and_return_conditional_losses, gru_cell_21_layer_call_fn, gru_cell_21_layer_call_and_return_conditional_losses, gru_cell_22_layer_call_fn while saving (showing 5 of 20). These functions will not be directly callable after loading.\n"
          ],
          "name": "stderr"
        },
        {
          "output_type": "stream",
          "text": [
            "INFO:tensorflow:Assets written to: /content/drive/My Drive/data/JUNK1.cv.3.best/assets\n"
          ],
          "name": "stdout"
        },
        {
          "output_type": "stream",
          "text": [
            "INFO:tensorflow:Assets written to: /content/drive/My Drive/data/JUNK1.cv.3.best/assets\n"
          ],
          "name": "stderr"
        },
        {
          "output_type": "stream",
          "text": [
            "Epoch 13/200\n",
            "350/350 [==============================] - 138s 394ms/step - loss: 0.5338 - accuracy: 0.7392 - val_loss: 0.5230 - val_accuracy: 0.7408\n"
          ],
          "name": "stdout"
        },
        {
          "output_type": "stream",
          "text": [
            "WARNING:absl:Found untraced functions such as gru_cell_20_layer_call_fn, gru_cell_20_layer_call_and_return_conditional_losses, gru_cell_21_layer_call_fn, gru_cell_21_layer_call_and_return_conditional_losses, gru_cell_22_layer_call_fn while saving (showing 5 of 20). These functions will not be directly callable after loading.\n",
            "WARNING:absl:Found untraced functions such as gru_cell_20_layer_call_fn, gru_cell_20_layer_call_and_return_conditional_losses, gru_cell_21_layer_call_fn, gru_cell_21_layer_call_and_return_conditional_losses, gru_cell_22_layer_call_fn while saving (showing 5 of 20). These functions will not be directly callable after loading.\n"
          ],
          "name": "stderr"
        },
        {
          "output_type": "stream",
          "text": [
            "INFO:tensorflow:Assets written to: /content/drive/My Drive/data/JUNK1.cv.3.best/assets\n"
          ],
          "name": "stdout"
        },
        {
          "output_type": "stream",
          "text": [
            "INFO:tensorflow:Assets written to: /content/drive/My Drive/data/JUNK1.cv.3.best/assets\n"
          ],
          "name": "stderr"
        },
        {
          "output_type": "stream",
          "text": [
            "Epoch 14/200\n",
            "350/350 [==============================] - 136s 390ms/step - loss: 0.5159 - accuracy: 0.7525 - val_loss: 0.4980 - val_accuracy: 0.7569\n"
          ],
          "name": "stdout"
        },
        {
          "output_type": "stream",
          "text": [
            "WARNING:absl:Found untraced functions such as gru_cell_20_layer_call_fn, gru_cell_20_layer_call_and_return_conditional_losses, gru_cell_21_layer_call_fn, gru_cell_21_layer_call_and_return_conditional_losses, gru_cell_22_layer_call_fn while saving (showing 5 of 20). These functions will not be directly callable after loading.\n",
            "WARNING:absl:Found untraced functions such as gru_cell_20_layer_call_fn, gru_cell_20_layer_call_and_return_conditional_losses, gru_cell_21_layer_call_fn, gru_cell_21_layer_call_and_return_conditional_losses, gru_cell_22_layer_call_fn while saving (showing 5 of 20). These functions will not be directly callable after loading.\n"
          ],
          "name": "stderr"
        },
        {
          "output_type": "stream",
          "text": [
            "INFO:tensorflow:Assets written to: /content/drive/My Drive/data/JUNK1.cv.3.best/assets\n"
          ],
          "name": "stdout"
        },
        {
          "output_type": "stream",
          "text": [
            "INFO:tensorflow:Assets written to: /content/drive/My Drive/data/JUNK1.cv.3.best/assets\n"
          ],
          "name": "stderr"
        },
        {
          "output_type": "stream",
          "text": [
            "Epoch 15/200\n",
            "350/350 [==============================] - 137s 392ms/step - loss: 0.5033 - accuracy: 0.7586 - val_loss: 0.4831 - val_accuracy: 0.7658\n"
          ],
          "name": "stdout"
        },
        {
          "output_type": "stream",
          "text": [
            "WARNING:absl:Found untraced functions such as gru_cell_20_layer_call_fn, gru_cell_20_layer_call_and_return_conditional_losses, gru_cell_21_layer_call_fn, gru_cell_21_layer_call_and_return_conditional_losses, gru_cell_22_layer_call_fn while saving (showing 5 of 20). These functions will not be directly callable after loading.\n",
            "WARNING:absl:Found untraced functions such as gru_cell_20_layer_call_fn, gru_cell_20_layer_call_and_return_conditional_losses, gru_cell_21_layer_call_fn, gru_cell_21_layer_call_and_return_conditional_losses, gru_cell_22_layer_call_fn while saving (showing 5 of 20). These functions will not be directly callable after loading.\n"
          ],
          "name": "stderr"
        },
        {
          "output_type": "stream",
          "text": [
            "INFO:tensorflow:Assets written to: /content/drive/My Drive/data/JUNK1.cv.3.best/assets\n"
          ],
          "name": "stdout"
        },
        {
          "output_type": "stream",
          "text": [
            "INFO:tensorflow:Assets written to: /content/drive/My Drive/data/JUNK1.cv.3.best/assets\n"
          ],
          "name": "stderr"
        },
        {
          "output_type": "stream",
          "text": [
            "Epoch 16/200\n",
            "350/350 [==============================] - 136s 388ms/step - loss: 0.4913 - accuracy: 0.7703 - val_loss: 0.4710 - val_accuracy: 0.7765\n"
          ],
          "name": "stdout"
        },
        {
          "output_type": "stream",
          "text": [
            "WARNING:absl:Found untraced functions such as gru_cell_20_layer_call_fn, gru_cell_20_layer_call_and_return_conditional_losses, gru_cell_21_layer_call_fn, gru_cell_21_layer_call_and_return_conditional_losses, gru_cell_22_layer_call_fn while saving (showing 5 of 20). These functions will not be directly callable after loading.\n",
            "WARNING:absl:Found untraced functions such as gru_cell_20_layer_call_fn, gru_cell_20_layer_call_and_return_conditional_losses, gru_cell_21_layer_call_fn, gru_cell_21_layer_call_and_return_conditional_losses, gru_cell_22_layer_call_fn while saving (showing 5 of 20). These functions will not be directly callable after loading.\n"
          ],
          "name": "stderr"
        },
        {
          "output_type": "stream",
          "text": [
            "INFO:tensorflow:Assets written to: /content/drive/My Drive/data/JUNK1.cv.3.best/assets\n"
          ],
          "name": "stdout"
        },
        {
          "output_type": "stream",
          "text": [
            "INFO:tensorflow:Assets written to: /content/drive/My Drive/data/JUNK1.cv.3.best/assets\n"
          ],
          "name": "stderr"
        },
        {
          "output_type": "stream",
          "text": [
            "Epoch 17/200\n",
            "350/350 [==============================] - 134s 383ms/step - loss: 0.4811 - accuracy: 0.7752 - val_loss: 0.5917 - val_accuracy: 0.7201\n",
            "Epoch 18/200\n",
            "350/350 [==============================] - 133s 381ms/step - loss: 0.4609 - accuracy: 0.7868 - val_loss: 0.4506 - val_accuracy: 0.7860\n"
          ],
          "name": "stdout"
        },
        {
          "output_type": "stream",
          "text": [
            "WARNING:absl:Found untraced functions such as gru_cell_20_layer_call_fn, gru_cell_20_layer_call_and_return_conditional_losses, gru_cell_21_layer_call_fn, gru_cell_21_layer_call_and_return_conditional_losses, gru_cell_22_layer_call_fn while saving (showing 5 of 20). These functions will not be directly callable after loading.\n",
            "WARNING:absl:Found untraced functions such as gru_cell_20_layer_call_fn, gru_cell_20_layer_call_and_return_conditional_losses, gru_cell_21_layer_call_fn, gru_cell_21_layer_call_and_return_conditional_losses, gru_cell_22_layer_call_fn while saving (showing 5 of 20). These functions will not be directly callable after loading.\n"
          ],
          "name": "stderr"
        },
        {
          "output_type": "stream",
          "text": [
            "INFO:tensorflow:Assets written to: /content/drive/My Drive/data/JUNK1.cv.3.best/assets\n"
          ],
          "name": "stdout"
        },
        {
          "output_type": "stream",
          "text": [
            "INFO:tensorflow:Assets written to: /content/drive/My Drive/data/JUNK1.cv.3.best/assets\n"
          ],
          "name": "stderr"
        },
        {
          "output_type": "stream",
          "text": [
            "Epoch 19/200\n",
            "350/350 [==============================] - 134s 383ms/step - loss: 0.4224 - accuracy: 0.8107 - val_loss: 0.4306 - val_accuracy: 0.8056\n"
          ],
          "name": "stdout"
        },
        {
          "output_type": "stream",
          "text": [
            "WARNING:absl:Found untraced functions such as gru_cell_20_layer_call_fn, gru_cell_20_layer_call_and_return_conditional_losses, gru_cell_21_layer_call_fn, gru_cell_21_layer_call_and_return_conditional_losses, gru_cell_22_layer_call_fn while saving (showing 5 of 20). These functions will not be directly callable after loading.\n",
            "WARNING:absl:Found untraced functions such as gru_cell_20_layer_call_fn, gru_cell_20_layer_call_and_return_conditional_losses, gru_cell_21_layer_call_fn, gru_cell_21_layer_call_and_return_conditional_losses, gru_cell_22_layer_call_fn while saving (showing 5 of 20). These functions will not be directly callable after loading.\n"
          ],
          "name": "stderr"
        },
        {
          "output_type": "stream",
          "text": [
            "INFO:tensorflow:Assets written to: /content/drive/My Drive/data/JUNK1.cv.3.best/assets\n"
          ],
          "name": "stdout"
        },
        {
          "output_type": "stream",
          "text": [
            "INFO:tensorflow:Assets written to: /content/drive/My Drive/data/JUNK1.cv.3.best/assets\n"
          ],
          "name": "stderr"
        },
        {
          "output_type": "stream",
          "text": [
            "Epoch 20/200\n",
            "350/350 [==============================] - 135s 387ms/step - loss: 0.3970 - accuracy: 0.8202 - val_loss: 0.5551 - val_accuracy: 0.7111\n",
            "Epoch 21/200\n",
            "350/350 [==============================] - 136s 389ms/step - loss: 0.5700 - accuracy: 0.7057 - val_loss: 0.5281 - val_accuracy: 0.7367\n",
            "Epoch 22/200\n",
            "350/350 [==============================] - 138s 394ms/step - loss: 0.5360 - accuracy: 0.7274 - val_loss: 0.4983 - val_accuracy: 0.7562\n",
            "Epoch 23/200\n",
            "350/350 [==============================] - 138s 394ms/step - loss: 0.5030 - accuracy: 0.7565 - val_loss: 0.6131 - val_accuracy: 0.7004\n",
            "Epoch 24/200\n",
            "350/350 [==============================] - 139s 396ms/step - loss: 0.5048 - accuracy: 0.7557 - val_loss: 0.4968 - val_accuracy: 0.7578\n",
            "Epoch 25/200\n",
            "350/350 [==============================] - 139s 398ms/step - loss: 0.4804 - accuracy: 0.7745 - val_loss: 0.4530 - val_accuracy: 0.7885\n",
            "Epoch 26/200\n",
            "350/350 [==============================] - 139s 397ms/step - loss: 0.4591 - accuracy: 0.7857 - val_loss: 0.4757 - val_accuracy: 0.7725\n",
            "Epoch 27/200\n",
            "350/350 [==============================] - 138s 395ms/step - loss: 0.4753 - accuracy: 0.7739 - val_loss: 0.6535 - val_accuracy: 0.6766\n",
            "Epoch 28/200\n",
            "350/350 [==============================] - 139s 397ms/step - loss: 0.5267 - accuracy: 0.7462 - val_loss: 0.4095 - val_accuracy: 0.8128\n"
          ],
          "name": "stdout"
        },
        {
          "output_type": "stream",
          "text": [
            "WARNING:absl:Found untraced functions such as gru_cell_20_layer_call_fn, gru_cell_20_layer_call_and_return_conditional_losses, gru_cell_21_layer_call_fn, gru_cell_21_layer_call_and_return_conditional_losses, gru_cell_22_layer_call_fn while saving (showing 5 of 20). These functions will not be directly callable after loading.\n",
            "WARNING:absl:Found untraced functions such as gru_cell_20_layer_call_fn, gru_cell_20_layer_call_and_return_conditional_losses, gru_cell_21_layer_call_fn, gru_cell_21_layer_call_and_return_conditional_losses, gru_cell_22_layer_call_fn while saving (showing 5 of 20). These functions will not be directly callable after loading.\n"
          ],
          "name": "stderr"
        },
        {
          "output_type": "stream",
          "text": [
            "INFO:tensorflow:Assets written to: /content/drive/My Drive/data/JUNK1.cv.3.best/assets\n"
          ],
          "name": "stdout"
        },
        {
          "output_type": "stream",
          "text": [
            "INFO:tensorflow:Assets written to: /content/drive/My Drive/data/JUNK1.cv.3.best/assets\n"
          ],
          "name": "stderr"
        },
        {
          "output_type": "stream",
          "text": [
            "Epoch 29/200\n",
            "350/350 [==============================] - 140s 400ms/step - loss: 0.4254 - accuracy: 0.8076 - val_loss: 0.3730 - val_accuracy: 0.8374\n"
          ],
          "name": "stdout"
        },
        {
          "output_type": "stream",
          "text": [
            "WARNING:absl:Found untraced functions such as gru_cell_20_layer_call_fn, gru_cell_20_layer_call_and_return_conditional_losses, gru_cell_21_layer_call_fn, gru_cell_21_layer_call_and_return_conditional_losses, gru_cell_22_layer_call_fn while saving (showing 5 of 20). These functions will not be directly callable after loading.\n",
            "WARNING:absl:Found untraced functions such as gru_cell_20_layer_call_fn, gru_cell_20_layer_call_and_return_conditional_losses, gru_cell_21_layer_call_fn, gru_cell_21_layer_call_and_return_conditional_losses, gru_cell_22_layer_call_fn while saving (showing 5 of 20). These functions will not be directly callable after loading.\n"
          ],
          "name": "stderr"
        },
        {
          "output_type": "stream",
          "text": [
            "INFO:tensorflow:Assets written to: /content/drive/My Drive/data/JUNK1.cv.3.best/assets\n"
          ],
          "name": "stdout"
        },
        {
          "output_type": "stream",
          "text": [
            "INFO:tensorflow:Assets written to: /content/drive/My Drive/data/JUNK1.cv.3.best/assets\n"
          ],
          "name": "stderr"
        },
        {
          "output_type": "stream",
          "text": [
            "Epoch 30/200\n",
            "350/350 [==============================] - 139s 396ms/step - loss: 0.3872 - accuracy: 0.8283 - val_loss: 0.3317 - val_accuracy: 0.8585\n"
          ],
          "name": "stdout"
        },
        {
          "output_type": "stream",
          "text": [
            "WARNING:absl:Found untraced functions such as gru_cell_20_layer_call_fn, gru_cell_20_layer_call_and_return_conditional_losses, gru_cell_21_layer_call_fn, gru_cell_21_layer_call_and_return_conditional_losses, gru_cell_22_layer_call_fn while saving (showing 5 of 20). These functions will not be directly callable after loading.\n",
            "WARNING:absl:Found untraced functions such as gru_cell_20_layer_call_fn, gru_cell_20_layer_call_and_return_conditional_losses, gru_cell_21_layer_call_fn, gru_cell_21_layer_call_and_return_conditional_losses, gru_cell_22_layer_call_fn while saving (showing 5 of 20). These functions will not be directly callable after loading.\n"
          ],
          "name": "stderr"
        },
        {
          "output_type": "stream",
          "text": [
            "INFO:tensorflow:Assets written to: /content/drive/My Drive/data/JUNK1.cv.3.best/assets\n"
          ],
          "name": "stdout"
        },
        {
          "output_type": "stream",
          "text": [
            "INFO:tensorflow:Assets written to: /content/drive/My Drive/data/JUNK1.cv.3.best/assets\n"
          ],
          "name": "stderr"
        },
        {
          "output_type": "stream",
          "text": [
            "Epoch 31/200\n",
            "350/350 [==============================] - 139s 397ms/step - loss: 0.3617 - accuracy: 0.8365 - val_loss: 0.3712 - val_accuracy: 0.8357\n",
            "Epoch 32/200\n",
            "350/350 [==============================] - 139s 398ms/step - loss: 0.3830 - accuracy: 0.8312 - val_loss: 0.3292 - val_accuracy: 0.8593\n"
          ],
          "name": "stdout"
        },
        {
          "output_type": "stream",
          "text": [
            "WARNING:absl:Found untraced functions such as gru_cell_20_layer_call_fn, gru_cell_20_layer_call_and_return_conditional_losses, gru_cell_21_layer_call_fn, gru_cell_21_layer_call_and_return_conditional_losses, gru_cell_22_layer_call_fn while saving (showing 5 of 20). These functions will not be directly callable after loading.\n",
            "WARNING:absl:Found untraced functions such as gru_cell_20_layer_call_fn, gru_cell_20_layer_call_and_return_conditional_losses, gru_cell_21_layer_call_fn, gru_cell_21_layer_call_and_return_conditional_losses, gru_cell_22_layer_call_fn while saving (showing 5 of 20). These functions will not be directly callable after loading.\n"
          ],
          "name": "stderr"
        },
        {
          "output_type": "stream",
          "text": [
            "INFO:tensorflow:Assets written to: /content/drive/My Drive/data/JUNK1.cv.3.best/assets\n"
          ],
          "name": "stdout"
        },
        {
          "output_type": "stream",
          "text": [
            "INFO:tensorflow:Assets written to: /content/drive/My Drive/data/JUNK1.cv.3.best/assets\n"
          ],
          "name": "stderr"
        },
        {
          "output_type": "stream",
          "text": [
            "Epoch 33/200\n",
            "350/350 [==============================] - 140s 400ms/step - loss: 0.3565 - accuracy: 0.8441 - val_loss: 0.3522 - val_accuracy: 0.8426\n",
            "Epoch 34/200\n",
            "350/350 [==============================] - 140s 402ms/step - loss: 0.3261 - accuracy: 0.8607 - val_loss: 0.2822 - val_accuracy: 0.8856\n"
          ],
          "name": "stdout"
        },
        {
          "output_type": "stream",
          "text": [
            "WARNING:absl:Found untraced functions such as gru_cell_20_layer_call_fn, gru_cell_20_layer_call_and_return_conditional_losses, gru_cell_21_layer_call_fn, gru_cell_21_layer_call_and_return_conditional_losses, gru_cell_22_layer_call_fn while saving (showing 5 of 20). These functions will not be directly callable after loading.\n",
            "WARNING:absl:Found untraced functions such as gru_cell_20_layer_call_fn, gru_cell_20_layer_call_and_return_conditional_losses, gru_cell_21_layer_call_fn, gru_cell_21_layer_call_and_return_conditional_losses, gru_cell_22_layer_call_fn while saving (showing 5 of 20). These functions will not be directly callable after loading.\n"
          ],
          "name": "stderr"
        },
        {
          "output_type": "stream",
          "text": [
            "INFO:tensorflow:Assets written to: /content/drive/My Drive/data/JUNK1.cv.3.best/assets\n"
          ],
          "name": "stdout"
        },
        {
          "output_type": "stream",
          "text": [
            "INFO:tensorflow:Assets written to: /content/drive/My Drive/data/JUNK1.cv.3.best/assets\n"
          ],
          "name": "stderr"
        },
        {
          "output_type": "stream",
          "text": [
            "Epoch 35/200\n",
            "350/350 [==============================] - 142s 406ms/step - loss: 0.3082 - accuracy: 0.8742 - val_loss: 0.2796 - val_accuracy: 0.8909\n"
          ],
          "name": "stdout"
        },
        {
          "output_type": "stream",
          "text": [
            "WARNING:absl:Found untraced functions such as gru_cell_20_layer_call_fn, gru_cell_20_layer_call_and_return_conditional_losses, gru_cell_21_layer_call_fn, gru_cell_21_layer_call_and_return_conditional_losses, gru_cell_22_layer_call_fn while saving (showing 5 of 20). These functions will not be directly callable after loading.\n",
            "WARNING:absl:Found untraced functions such as gru_cell_20_layer_call_fn, gru_cell_20_layer_call_and_return_conditional_losses, gru_cell_21_layer_call_fn, gru_cell_21_layer_call_and_return_conditional_losses, gru_cell_22_layer_call_fn while saving (showing 5 of 20). These functions will not be directly callable after loading.\n"
          ],
          "name": "stderr"
        },
        {
          "output_type": "stream",
          "text": [
            "INFO:tensorflow:Assets written to: /content/drive/My Drive/data/JUNK1.cv.3.best/assets\n"
          ],
          "name": "stdout"
        },
        {
          "output_type": "stream",
          "text": [
            "INFO:tensorflow:Assets written to: /content/drive/My Drive/data/JUNK1.cv.3.best/assets\n"
          ],
          "name": "stderr"
        },
        {
          "output_type": "stream",
          "text": [
            "Epoch 36/200\n",
            "350/350 [==============================] - 141s 403ms/step - loss: 0.2931 - accuracy: 0.8783 - val_loss: 0.2510 - val_accuracy: 0.9009\n"
          ],
          "name": "stdout"
        },
        {
          "output_type": "stream",
          "text": [
            "WARNING:absl:Found untraced functions such as gru_cell_20_layer_call_fn, gru_cell_20_layer_call_and_return_conditional_losses, gru_cell_21_layer_call_fn, gru_cell_21_layer_call_and_return_conditional_losses, gru_cell_22_layer_call_fn while saving (showing 5 of 20). These functions will not be directly callable after loading.\n",
            "WARNING:absl:Found untraced functions such as gru_cell_20_layer_call_fn, gru_cell_20_layer_call_and_return_conditional_losses, gru_cell_21_layer_call_fn, gru_cell_21_layer_call_and_return_conditional_losses, gru_cell_22_layer_call_fn while saving (showing 5 of 20). These functions will not be directly callable after loading.\n"
          ],
          "name": "stderr"
        },
        {
          "output_type": "stream",
          "text": [
            "INFO:tensorflow:Assets written to: /content/drive/My Drive/data/JUNK1.cv.3.best/assets\n"
          ],
          "name": "stdout"
        },
        {
          "output_type": "stream",
          "text": [
            "INFO:tensorflow:Assets written to: /content/drive/My Drive/data/JUNK1.cv.3.best/assets\n"
          ],
          "name": "stderr"
        },
        {
          "output_type": "stream",
          "text": [
            "Epoch 37/200\n",
            "350/350 [==============================] - 138s 396ms/step - loss: 0.2857 - accuracy: 0.8806 - val_loss: 0.2673 - val_accuracy: 0.8980\n",
            "Epoch 38/200\n",
            "350/350 [==============================] - 139s 398ms/step - loss: 0.2888 - accuracy: 0.8790 - val_loss: 0.2558 - val_accuracy: 0.9008\n",
            "Epoch 39/200\n",
            "350/350 [==============================] - 141s 403ms/step - loss: 0.2776 - accuracy: 0.8850 - val_loss: 0.2454 - val_accuracy: 0.9072\n"
          ],
          "name": "stdout"
        },
        {
          "output_type": "stream",
          "text": [
            "WARNING:absl:Found untraced functions such as gru_cell_20_layer_call_fn, gru_cell_20_layer_call_and_return_conditional_losses, gru_cell_21_layer_call_fn, gru_cell_21_layer_call_and_return_conditional_losses, gru_cell_22_layer_call_fn while saving (showing 5 of 20). These functions will not be directly callable after loading.\n",
            "WARNING:absl:Found untraced functions such as gru_cell_20_layer_call_fn, gru_cell_20_layer_call_and_return_conditional_losses, gru_cell_21_layer_call_fn, gru_cell_21_layer_call_and_return_conditional_losses, gru_cell_22_layer_call_fn while saving (showing 5 of 20). These functions will not be directly callable after loading.\n"
          ],
          "name": "stderr"
        },
        {
          "output_type": "stream",
          "text": [
            "INFO:tensorflow:Assets written to: /content/drive/My Drive/data/JUNK1.cv.3.best/assets\n"
          ],
          "name": "stdout"
        },
        {
          "output_type": "stream",
          "text": [
            "INFO:tensorflow:Assets written to: /content/drive/My Drive/data/JUNK1.cv.3.best/assets\n"
          ],
          "name": "stderr"
        },
        {
          "output_type": "stream",
          "text": [
            "Epoch 40/200\n",
            "350/350 [==============================] - 139s 397ms/step - loss: 0.3481 - accuracy: 0.8506 - val_loss: 0.3308 - val_accuracy: 0.8571\n",
            "Epoch 41/200\n",
            "350/350 [==============================] - 136s 390ms/step - loss: 0.3392 - accuracy: 0.8536 - val_loss: 0.3160 - val_accuracy: 0.8662\n",
            "Epoch 42/200\n",
            "350/350 [==============================] - 138s 394ms/step - loss: 0.3072 - accuracy: 0.8649 - val_loss: 0.2583 - val_accuracy: 0.8994\n",
            "Epoch 43/200\n",
            "350/350 [==============================] - 137s 393ms/step - loss: 0.2782 - accuracy: 0.8839 - val_loss: 0.2527 - val_accuracy: 0.9014\n",
            "Epoch 44/200\n",
            "350/350 [==============================] - 137s 392ms/step - loss: 0.2638 - accuracy: 0.8908 - val_loss: 0.2677 - val_accuracy: 0.8958\n",
            "Epoch 45/200\n",
            "350/350 [==============================] - 136s 390ms/step - loss: 0.2843 - accuracy: 0.8835 - val_loss: 0.4142 - val_accuracy: 0.8080\n",
            "Epoch 46/200\n",
            "350/350 [==============================] - 135s 385ms/step - loss: 0.3772 - accuracy: 0.8303 - val_loss: 0.4156 - val_accuracy: 0.8008\n",
            "Epoch 47/200\n",
            "350/350 [==============================] - 132s 378ms/step - loss: 0.3798 - accuracy: 0.8298 - val_loss: 0.3902 - val_accuracy: 0.8138\n",
            "Epoch 48/200\n",
            "350/350 [==============================] - 127s 364ms/step - loss: 0.4240 - accuracy: 0.8051 - val_loss: 0.3885 - val_accuracy: 0.8218\n",
            "Epoch 49/200\n",
            "350/350 [==============================] - 124s 355ms/step - loss: 0.4140 - accuracy: 0.8096 - val_loss: 0.3866 - val_accuracy: 0.8303\n",
            "Epoch 00049: early stopping\n",
            "Fold 3, 200 epochs, 7192 sec\n"
          ],
          "name": "stdout"
        },
        {
          "output_type": "display_data",
          "data": {
            "image/png": "[encoded data removed]",
            "text/plain": [
              "<Figure size 576x360 with 1 Axes>"
            ]
          },
          "metadata": {
            "tags": []
          }
        },
        {
          "output_type": "stream",
          "text": [
            "accuracy: 90.72%\n",
            "COMPILE...\n",
            "...COMPILED\n",
            "FIT\n",
            "Epoch 1/200\n",
            "350/350 [==============================] - 138s 356ms/step - loss: 0.6862 - accuracy: 0.5420 - val_loss: 0.6974 - val_accuracy: 0.5369\n"
          ],
          "name": "stdout"
        },
        {
          "output_type": "stream",
          "text": [
            "WARNING:absl:Found untraced functions such as gru_cell_28_layer_call_fn, gru_cell_28_layer_call_and_return_conditional_losses, gru_cell_29_layer_call_fn, gru_cell_29_layer_call_and_return_conditional_losses, gru_cell_30_layer_call_fn while saving (showing 5 of 20). These functions will not be directly callable after loading.\n",
            "WARNING:absl:Found untraced functions such as gru_cell_28_layer_call_fn, gru_cell_28_layer_call_and_return_conditional_losses, gru_cell_29_layer_call_fn, gru_cell_29_layer_call_and_return_conditional_losses, gru_cell_30_layer_call_fn while saving (showing 5 of 20). These functions will not be directly callable after loading.\n"
          ],
          "name": "stderr"
        },
        {
          "output_type": "stream",
          "text": [
            "INFO:tensorflow:Assets written to: /content/drive/My Drive/data/JUNK1.cv.4.best/assets\n"
          ],
          "name": "stdout"
        },
        {
          "output_type": "stream",
          "text": [
            "INFO:tensorflow:Assets written to: /content/drive/My Drive/data/JUNK1.cv.4.best/assets\n"
          ],
          "name": "stderr"
        },
        {
          "output_type": "stream",
          "text": [
            "Epoch 2/200\n",
            "350/350 [==============================] - 124s 355ms/step - loss: 0.6725 - accuracy: 0.5802 - val_loss: 0.6912 - val_accuracy: 0.5336\n",
            "Epoch 3/200\n",
            "350/350 [==============================] - 122s 349ms/step - loss: 0.6760 - accuracy: 0.5790 - val_loss: 0.7000 - val_accuracy: 0.5336\n",
            "Epoch 4/200\n",
            "350/350 [==============================] - 123s 351ms/step - loss: 0.6721 - accuracy: 0.5933 - val_loss: 0.6551 - val_accuracy: 0.6813\n"
          ],
          "name": "stdout"
        },
        {
          "output_type": "stream",
          "text": [
            "WARNING:absl:Found untraced functions such as gru_cell_28_layer_call_fn, gru_cell_28_layer_call_and_return_conditional_losses, gru_cell_29_layer_call_fn, gru_cell_29_layer_call_and_return_conditional_losses, gru_cell_30_layer_call_fn while saving (showing 5 of 20). These functions will not be directly callable after loading.\n",
            "WARNING:absl:Found untraced functions such as gru_cell_28_layer_call_fn, gru_cell_28_layer_call_and_return_conditional_losses, gru_cell_29_layer_call_fn, gru_cell_29_layer_call_and_return_conditional_losses, gru_cell_30_layer_call_fn while saving (showing 5 of 20). These functions will not be directly callable after loading.\n"
          ],
          "name": "stderr"
        },
        {
          "output_type": "stream",
          "text": [
            "INFO:tensorflow:Assets written to: /content/drive/My Drive/data/JUNK1.cv.4.best/assets\n"
          ],
          "name": "stdout"
        },
        {
          "output_type": "stream",
          "text": [
            "INFO:tensorflow:Assets written to: /content/drive/My Drive/data/JUNK1.cv.4.best/assets\n"
          ],
          "name": "stderr"
        },
        {
          "output_type": "stream",
          "text": [
            "Epoch 5/200\n",
            "350/350 [==============================] - 123s 351ms/step - loss: 0.6552 - accuracy: 0.6204 - val_loss: 0.6954 - val_accuracy: 0.5285\n",
            "Epoch 6/200\n",
            "350/350 [==============================] - 126s 361ms/step - loss: 0.6758 - accuracy: 0.5859 - val_loss: 0.6941 - val_accuracy: 0.5603\n",
            "Epoch 7/200\n",
            "350/350 [==============================] - 126s 360ms/step - loss: 0.6758 - accuracy: 0.5794 - val_loss: 0.7005 - val_accuracy: 0.5299\n",
            "Epoch 8/200\n",
            "350/350 [==============================] - 124s 354ms/step - loss: 0.6714 - accuracy: 0.5816 - val_loss: 0.5925 - val_accuracy: 0.6952\n"
          ],
          "name": "stdout"
        },
        {
          "output_type": "stream",
          "text": [
            "WARNING:absl:Found untraced functions such as gru_cell_28_layer_call_fn, gru_cell_28_layer_call_and_return_conditional_losses, gru_cell_29_layer_call_fn, gru_cell_29_layer_call_and_return_conditional_losses, gru_cell_30_layer_call_fn while saving (showing 5 of 20). These functions will not be directly callable after loading.\n",
            "WARNING:absl:Found untraced functions such as gru_cell_28_layer_call_fn, gru_cell_28_layer_call_and_return_conditional_losses, gru_cell_29_layer_call_fn, gru_cell_29_layer_call_and_return_conditional_losses, gru_cell_30_layer_call_fn while saving (showing 5 of 20). These functions will not be directly callable after loading.\n"
          ],
          "name": "stderr"
        },
        {
          "output_type": "stream",
          "text": [
            "INFO:tensorflow:Assets written to: /content/drive/My Drive/data/JUNK1.cv.4.best/assets\n"
          ],
          "name": "stdout"
        },
        {
          "output_type": "stream",
          "text": [
            "INFO:tensorflow:Assets written to: /content/drive/My Drive/data/JUNK1.cv.4.best/assets\n"
          ],
          "name": "stderr"
        },
        {
          "output_type": "stream",
          "text": [
            "Epoch 9/200\n",
            "350/350 [==============================] - 123s 351ms/step - loss: 0.5829 - accuracy: 0.7049 - val_loss: 0.5676 - val_accuracy: 0.7177\n"
          ],
          "name": "stdout"
        },
        {
          "output_type": "stream",
          "text": [
            "WARNING:absl:Found untraced functions such as gru_cell_28_layer_call_fn, gru_cell_28_layer_call_and_return_conditional_losses, gru_cell_29_layer_call_fn, gru_cell_29_layer_call_and_return_conditional_losses, gru_cell_30_layer_call_fn while saving (showing 5 of 20). These functions will not be directly callable after loading.\n",
            "WARNING:absl:Found untraced functions such as gru_cell_28_layer_call_fn, gru_cell_28_layer_call_and_return_conditional_losses, gru_cell_29_layer_call_fn, gru_cell_29_layer_call_and_return_conditional_losses, gru_cell_30_layer_call_fn while saving (showing 5 of 20). These functions will not be directly callable after loading.\n"
          ],
          "name": "stderr"
        },
        {
          "output_type": "stream",
          "text": [
            "INFO:tensorflow:Assets written to: /content/drive/My Drive/data/JUNK1.cv.4.best/assets\n"
          ],
          "name": "stdout"
        },
        {
          "output_type": "stream",
          "text": [
            "INFO:tensorflow:Assets written to: /content/drive/My Drive/data/JUNK1.cv.4.best/assets\n"
          ],
          "name": "stderr"
        },
        {
          "output_type": "stream",
          "text": [
            "Epoch 10/200\n",
            "350/350 [==============================] - 123s 352ms/step - loss: 0.5423 - accuracy: 0.7365 - val_loss: 0.5335 - val_accuracy: 0.7360\n"
          ],
          "name": "stdout"
        },
        {
          "output_type": "stream",
          "text": [
            "WARNING:absl:Found untraced functions such as gru_cell_28_layer_call_fn, gru_cell_28_layer_call_and_return_conditional_losses, gru_cell_29_layer_call_fn, gru_cell_29_layer_call_and_return_conditional_losses, gru_cell_30_layer_call_fn while saving (showing 5 of 20). These functions will not be directly callable after loading.\n",
            "WARNING:absl:Found untraced functions such as gru_cell_28_layer_call_fn, gru_cell_28_layer_call_and_return_conditional_losses, gru_cell_29_layer_call_fn, gru_cell_29_layer_call_and_return_conditional_losses, gru_cell_30_layer_call_fn while saving (showing 5 of 20). These functions will not be directly callable after loading.\n"
          ],
          "name": "stderr"
        },
        {
          "output_type": "stream",
          "text": [
            "INFO:tensorflow:Assets written to: /content/drive/My Drive/data/JUNK1.cv.4.best/assets\n"
          ],
          "name": "stdout"
        },
        {
          "output_type": "stream",
          "text": [
            "INFO:tensorflow:Assets written to: /content/drive/My Drive/data/JUNK1.cv.4.best/assets\n"
          ],
          "name": "stderr"
        },
        {
          "output_type": "stream",
          "text": [
            "Epoch 11/200\n",
            "350/350 [==============================] - 124s 354ms/step - loss: 0.5326 - accuracy: 0.7412 - val_loss: 0.6574 - val_accuracy: 0.6663\n",
            "Epoch 12/200\n",
            "350/350 [==============================] - 124s 355ms/step - loss: 0.5097 - accuracy: 0.7558 - val_loss: 0.4922 - val_accuracy: 0.7620\n"
          ],
          "name": "stdout"
        },
        {
          "output_type": "stream",
          "text": [
            "WARNING:absl:Found untraced functions such as gru_cell_28_layer_call_fn, gru_cell_28_layer_call_and_return_conditional_losses, gru_cell_29_layer_call_fn, gru_cell_29_layer_call_and_return_conditional_losses, gru_cell_30_layer_call_fn while saving (showing 5 of 20). These functions will not be directly callable after loading.\n",
            "WARNING:absl:Found untraced functions such as gru_cell_28_layer_call_fn, gru_cell_28_layer_call_and_return_conditional_losses, gru_cell_29_layer_call_fn, gru_cell_29_layer_call_and_return_conditional_losses, gru_cell_30_layer_call_fn while saving (showing 5 of 20). These functions will not be directly callable after loading.\n"
          ],
          "name": "stderr"
        },
        {
          "output_type": "stream",
          "text": [
            "INFO:tensorflow:Assets written to: /content/drive/My Drive/data/JUNK1.cv.4.best/assets\n"
          ],
          "name": "stdout"
        },
        {
          "output_type": "stream",
          "text": [
            "INFO:tensorflow:Assets written to: /content/drive/My Drive/data/JUNK1.cv.4.best/assets\n"
          ],
          "name": "stderr"
        },
        {
          "output_type": "stream",
          "text": [
            "Epoch 13/200\n",
            "350/350 [==============================] - 125s 358ms/step - loss: 0.4951 - accuracy: 0.7614 - val_loss: 0.5462 - val_accuracy: 0.7383\n",
            "Epoch 14/200\n",
            "350/350 [==============================] - 123s 352ms/step - loss: 0.4714 - accuracy: 0.7849 - val_loss: 0.5068 - val_accuracy: 0.7530\n",
            "Epoch 15/200\n",
            "350/350 [==============================] - 124s 355ms/step - loss: 0.4513 - accuracy: 0.7896 - val_loss: 0.4986 - val_accuracy: 0.7630\n"
          ],
          "name": "stdout"
        },
        {
          "output_type": "stream",
          "text": [
            "WARNING:absl:Found untraced functions such as gru_cell_28_layer_call_fn, gru_cell_28_layer_call_and_return_conditional_losses, gru_cell_29_layer_call_fn, gru_cell_29_layer_call_and_return_conditional_losses, gru_cell_30_layer_call_fn while saving (showing 5 of 20). These functions will not be directly callable after loading.\n",
            "WARNING:absl:Found untraced functions such as gru_cell_28_layer_call_fn, gru_cell_28_layer_call_and_return_conditional_losses, gru_cell_29_layer_call_fn, gru_cell_29_layer_call_and_return_conditional_losses, gru_cell_30_layer_call_fn while saving (showing 5 of 20). These functions will not be directly callable after loading.\n"
          ],
          "name": "stderr"
        },
        {
          "output_type": "stream",
          "text": [
            "INFO:tensorflow:Assets written to: /content/drive/My Drive/data/JUNK1.cv.4.best/assets\n"
          ],
          "name": "stdout"
        },
        {
          "output_type": "stream",
          "text": [
            "INFO:tensorflow:Assets written to: /content/drive/My Drive/data/JUNK1.cv.4.best/assets\n"
          ],
          "name": "stderr"
        },
        {
          "output_type": "stream",
          "text": [
            "Epoch 16/200\n",
            "350/350 [==============================] - 124s 354ms/step - loss: 0.4201 - accuracy: 0.8111 - val_loss: 0.4540 - val_accuracy: 0.7942\n"
          ],
          "name": "stdout"
        },
        {
          "output_type": "stream",
          "text": [
            "WARNING:absl:Found untraced functions such as gru_cell_28_layer_call_fn, gru_cell_28_layer_call_and_return_conditional_losses, gru_cell_29_layer_call_fn, gru_cell_29_layer_call_and_return_conditional_losses, gru_cell_30_layer_call_fn while saving (showing 5 of 20). These functions will not be directly callable after loading.\n",
            "WARNING:absl:Found untraced functions such as gru_cell_28_layer_call_fn, gru_cell_28_layer_call_and_return_conditional_losses, gru_cell_29_layer_call_fn, gru_cell_29_layer_call_and_return_conditional_losses, gru_cell_30_layer_call_fn while saving (showing 5 of 20). These functions will not be directly callable after loading.\n"
          ],
          "name": "stderr"
        },
        {
          "output_type": "stream",
          "text": [
            "INFO:tensorflow:Assets written to: /content/drive/My Drive/data/JUNK1.cv.4.best/assets\n"
          ],
          "name": "stdout"
        },
        {
          "output_type": "stream",
          "text": [
            "INFO:tensorflow:Assets written to: /content/drive/My Drive/data/JUNK1.cv.4.best/assets\n"
          ],
          "name": "stderr"
        },
        {
          "output_type": "stream",
          "text": [
            "Epoch 17/200\n",
            "350/350 [==============================] - 124s 355ms/step - loss: 0.4245 - accuracy: 0.8028 - val_loss: 0.3899 - val_accuracy: 0.8263\n"
          ],
          "name": "stdout"
        },
        {
          "output_type": "stream",
          "text": [
            "WARNING:absl:Found untraced functions such as gru_cell_28_layer_call_fn, gru_cell_28_layer_call_and_return_conditional_losses, gru_cell_29_layer_call_fn, gru_cell_29_layer_call_and_return_conditional_losses, gru_cell_30_layer_call_fn while saving (showing 5 of 20). These functions will not be directly callable after loading.\n",
            "WARNING:absl:Found untraced functions such as gru_cell_28_layer_call_fn, gru_cell_28_layer_call_and_return_conditional_losses, gru_cell_29_layer_call_fn, gru_cell_29_layer_call_and_return_conditional_losses, gru_cell_30_layer_call_fn while saving (showing 5 of 20). These functions will not be directly callable after loading.\n"
          ],
          "name": "stderr"
        },
        {
          "output_type": "stream",
          "text": [
            "INFO:tensorflow:Assets written to: /content/drive/My Drive/data/JUNK1.cv.4.best/assets\n"
          ],
          "name": "stdout"
        },
        {
          "output_type": "stream",
          "text": [
            "INFO:tensorflow:Assets written to: /content/drive/My Drive/data/JUNK1.cv.4.best/assets\n"
          ],
          "name": "stderr"
        },
        {
          "output_type": "stream",
          "text": [
            "Epoch 18/200\n",
            "350/350 [==============================] - 123s 352ms/step - loss: 0.3901 - accuracy: 0.8287 - val_loss: 0.3650 - val_accuracy: 0.8383\n"
          ],
          "name": "stdout"
        },
        {
          "output_type": "stream",
          "text": [
            "WARNING:absl:Found untraced functions such as gru_cell_28_layer_call_fn, gru_cell_28_layer_call_and_return_conditional_losses, gru_cell_29_layer_call_fn, gru_cell_29_layer_call_and_return_conditional_losses, gru_cell_30_layer_call_fn while saving (showing 5 of 20). These functions will not be directly callable after loading.\n",
            "WARNING:absl:Found untraced functions such as gru_cell_28_layer_call_fn, gru_cell_28_layer_call_and_return_conditional_losses, gru_cell_29_layer_call_fn, gru_cell_29_layer_call_and_return_conditional_losses, gru_cell_30_layer_call_fn while saving (showing 5 of 20). These functions will not be directly callable after loading.\n"
          ],
          "name": "stderr"
        },
        {
          "output_type": "stream",
          "text": [
            "INFO:tensorflow:Assets written to: /content/drive/My Drive/data/JUNK1.cv.4.best/assets\n"
          ],
          "name": "stdout"
        },
        {
          "output_type": "stream",
          "text": [
            "INFO:tensorflow:Assets written to: /content/drive/My Drive/data/JUNK1.cv.4.best/assets\n"
          ],
          "name": "stderr"
        },
        {
          "output_type": "stream",
          "text": [
            "Epoch 19/200\n",
            "350/350 [==============================] - 123s 351ms/step - loss: 0.3825 - accuracy: 0.8331 - val_loss: 0.3765 - val_accuracy: 0.8336\n",
            "Epoch 20/200\n",
            "350/350 [==============================] - 123s 352ms/step - loss: 0.3764 - accuracy: 0.8333 - val_loss: 0.3990 - val_accuracy: 0.8281\n",
            "Epoch 21/200\n",
            "350/350 [==============================] - 125s 359ms/step - loss: 0.3591 - accuracy: 0.8440 - val_loss: 0.3367 - val_accuracy: 0.8551\n"
          ],
          "name": "stdout"
        },
        {
          "output_type": "stream",
          "text": [
            "WARNING:absl:Found untraced functions such as gru_cell_28_layer_call_fn, gru_cell_28_layer_call_and_return_conditional_losses, gru_cell_29_layer_call_fn, gru_cell_29_layer_call_and_return_conditional_losses, gru_cell_30_layer_call_fn while saving (showing 5 of 20). These functions will not be directly callable after loading.\n",
            "WARNING:absl:Found untraced functions such as gru_cell_28_layer_call_fn, gru_cell_28_layer_call_and_return_conditional_losses, gru_cell_29_layer_call_fn, gru_cell_29_layer_call_and_return_conditional_losses, gru_cell_30_layer_call_fn while saving (showing 5 of 20). These functions will not be directly callable after loading.\n"
          ],
          "name": "stderr"
        },
        {
          "output_type": "stream",
          "text": [
            "INFO:tensorflow:Assets written to: /content/drive/My Drive/data/JUNK1.cv.4.best/assets\n"
          ],
          "name": "stdout"
        },
        {
          "output_type": "stream",
          "text": [
            "INFO:tensorflow:Assets written to: /content/drive/My Drive/data/JUNK1.cv.4.best/assets\n"
          ],
          "name": "stderr"
        },
        {
          "output_type": "stream",
          "text": [
            "Epoch 22/200\n",
            "350/350 [==============================] - 125s 357ms/step - loss: 0.3534 - accuracy: 0.8415 - val_loss: 0.3311 - val_accuracy: 0.8610\n"
          ],
          "name": "stdout"
        },
        {
          "output_type": "stream",
          "text": [
            "WARNING:absl:Found untraced functions such as gru_cell_28_layer_call_fn, gru_cell_28_layer_call_and_return_conditional_losses, gru_cell_29_layer_call_fn, gru_cell_29_layer_call_and_return_conditional_losses, gru_cell_30_layer_call_fn while saving (showing 5 of 20). These functions will not be directly callable after loading.\n",
            "WARNING:absl:Found untraced functions such as gru_cell_28_layer_call_fn, gru_cell_28_layer_call_and_return_conditional_losses, gru_cell_29_layer_call_fn, gru_cell_29_layer_call_and_return_conditional_losses, gru_cell_30_layer_call_fn while saving (showing 5 of 20). These functions will not be directly callable after loading.\n"
          ],
          "name": "stderr"
        },
        {
          "output_type": "stream",
          "text": [
            "INFO:tensorflow:Assets written to: /content/drive/My Drive/data/JUNK1.cv.4.best/assets\n"
          ],
          "name": "stdout"
        },
        {
          "output_type": "stream",
          "text": [
            "INFO:tensorflow:Assets written to: /content/drive/My Drive/data/JUNK1.cv.4.best/assets\n"
          ],
          "name": "stderr"
        },
        {
          "output_type": "stream",
          "text": [
            "Epoch 23/200\n",
            "350/350 [==============================] - 123s 353ms/step - loss: 0.3444 - accuracy: 0.8519 - val_loss: 0.3299 - val_accuracy: 0.8616\n"
          ],
          "name": "stdout"
        },
        {
          "output_type": "stream",
          "text": [
            "WARNING:absl:Found untraced functions such as gru_cell_28_layer_call_fn, gru_cell_28_layer_call_and_return_conditional_losses, gru_cell_29_layer_call_fn, gru_cell_29_layer_call_and_return_conditional_losses, gru_cell_30_layer_call_fn while saving (showing 5 of 20). These functions will not be directly callable after loading.\n",
            "WARNING:absl:Found untraced functions such as gru_cell_28_layer_call_fn, gru_cell_28_layer_call_and_return_conditional_losses, gru_cell_29_layer_call_fn, gru_cell_29_layer_call_and_return_conditional_losses, gru_cell_30_layer_call_fn while saving (showing 5 of 20). These functions will not be directly callable after loading.\n"
          ],
          "name": "stderr"
        },
        {
          "output_type": "stream",
          "text": [
            "INFO:tensorflow:Assets written to: /content/drive/My Drive/data/JUNK1.cv.4.best/assets\n"
          ],
          "name": "stdout"
        },
        {
          "output_type": "stream",
          "text": [
            "INFO:tensorflow:Assets written to: /content/drive/My Drive/data/JUNK1.cv.4.best/assets\n"
          ],
          "name": "stderr"
        },
        {
          "output_type": "stream",
          "text": [
            "Epoch 24/200\n",
            "350/350 [==============================] - 124s 355ms/step - loss: 0.3616 - accuracy: 0.8399 - val_loss: 0.2984 - val_accuracy: 0.8744\n"
          ],
          "name": "stdout"
        },
        {
          "output_type": "stream",
          "text": [
            "WARNING:absl:Found untraced functions such as gru_cell_28_layer_call_fn, gru_cell_28_layer_call_and_return_conditional_losses, gru_cell_29_layer_call_fn, gru_cell_29_layer_call_and_return_conditional_losses, gru_cell_30_layer_call_fn while saving (showing 5 of 20). These functions will not be directly callable after loading.\n",
            "WARNING:absl:Found untraced functions such as gru_cell_28_layer_call_fn, gru_cell_28_layer_call_and_return_conditional_losses, gru_cell_29_layer_call_fn, gru_cell_29_layer_call_and_return_conditional_losses, gru_cell_30_layer_call_fn while saving (showing 5 of 20). These functions will not be directly callable after loading.\n"
          ],
          "name": "stderr"
        },
        {
          "output_type": "stream",
          "text": [
            "INFO:tensorflow:Assets written to: /content/drive/My Drive/data/JUNK1.cv.4.best/assets\n"
          ],
          "name": "stdout"
        },
        {
          "output_type": "stream",
          "text": [
            "INFO:tensorflow:Assets written to: /content/drive/My Drive/data/JUNK1.cv.4.best/assets\n"
          ],
          "name": "stderr"
        },
        {
          "output_type": "stream",
          "text": [
            "Epoch 25/200\n",
            "350/350 [==============================] - 125s 357ms/step - loss: 0.3205 - accuracy: 0.8603 - val_loss: 0.3134 - val_accuracy: 0.8685\n",
            "Epoch 26/200\n",
            "350/350 [==============================] - 125s 357ms/step - loss: 0.3114 - accuracy: 0.8677 - val_loss: 0.2862 - val_accuracy: 0.8795\n"
          ],
          "name": "stdout"
        },
        {
          "output_type": "stream",
          "text": [
            "WARNING:absl:Found untraced functions such as gru_cell_28_layer_call_fn, gru_cell_28_layer_call_and_return_conditional_losses, gru_cell_29_layer_call_fn, gru_cell_29_layer_call_and_return_conditional_losses, gru_cell_30_layer_call_fn while saving (showing 5 of 20). These functions will not be directly callable after loading.\n",
            "WARNING:absl:Found untraced functions such as gru_cell_28_layer_call_fn, gru_cell_28_layer_call_and_return_conditional_losses, gru_cell_29_layer_call_fn, gru_cell_29_layer_call_and_return_conditional_losses, gru_cell_30_layer_call_fn while saving (showing 5 of 20). These functions will not be directly callable after loading.\n"
          ],
          "name": "stderr"
        },
        {
          "output_type": "stream",
          "text": [
            "INFO:tensorflow:Assets written to: /content/drive/My Drive/data/JUNK1.cv.4.best/assets\n"
          ],
          "name": "stdout"
        },
        {
          "output_type": "stream",
          "text": [
            "INFO:tensorflow:Assets written to: /content/drive/My Drive/data/JUNK1.cv.4.best/assets\n"
          ],
          "name": "stderr"
        },
        {
          "output_type": "stream",
          "text": [
            "Epoch 27/200\n",
            "350/350 [==============================] - 125s 356ms/step - loss: 0.3169 - accuracy: 0.8689 - val_loss: 0.2919 - val_accuracy: 0.8801\n"
          ],
          "name": "stdout"
        },
        {
          "output_type": "stream",
          "text": [
            "WARNING:absl:Found untraced functions such as gru_cell_28_layer_call_fn, gru_cell_28_layer_call_and_return_conditional_losses, gru_cell_29_layer_call_fn, gru_cell_29_layer_call_and_return_conditional_losses, gru_cell_30_layer_call_fn while saving (showing 5 of 20). These functions will not be directly callable after loading.\n",
            "WARNING:absl:Found untraced functions such as gru_cell_28_layer_call_fn, gru_cell_28_layer_call_and_return_conditional_losses, gru_cell_29_layer_call_fn, gru_cell_29_layer_call_and_return_conditional_losses, gru_cell_30_layer_call_fn while saving (showing 5 of 20). These functions will not be directly callable after loading.\n"
          ],
          "name": "stderr"
        },
        {
          "output_type": "stream",
          "text": [
            "INFO:tensorflow:Assets written to: /content/drive/My Drive/data/JUNK1.cv.4.best/assets\n"
          ],
          "name": "stdout"
        },
        {
          "output_type": "stream",
          "text": [
            "INFO:tensorflow:Assets written to: /content/drive/My Drive/data/JUNK1.cv.4.best/assets\n"
          ],
          "name": "stderr"
        },
        {
          "output_type": "stream",
          "text": [
            "Epoch 28/200\n",
            "350/350 [==============================] - 121s 345ms/step - loss: 0.2952 - accuracy: 0.8760 - val_loss: 0.2815 - val_accuracy: 0.8842\n"
          ],
          "name": "stdout"
        },
        {
          "output_type": "stream",
          "text": [
            "WARNING:absl:Found untraced functions such as gru_cell_28_layer_call_fn, gru_cell_28_layer_call_and_return_conditional_losses, gru_cell_29_layer_call_fn, gru_cell_29_layer_call_and_return_conditional_losses, gru_cell_30_layer_call_fn while saving (showing 5 of 20). These functions will not be directly callable after loading.\n",
            "WARNING:absl:Found untraced functions such as gru_cell_28_layer_call_fn, gru_cell_28_layer_call_and_return_conditional_losses, gru_cell_29_layer_call_fn, gru_cell_29_layer_call_and_return_conditional_losses, gru_cell_30_layer_call_fn while saving (showing 5 of 20). These functions will not be directly callable after loading.\n"
          ],
          "name": "stderr"
        },
        {
          "output_type": "stream",
          "text": [
            "INFO:tensorflow:Assets written to: /content/drive/My Drive/data/JUNK1.cv.4.best/assets\n"
          ],
          "name": "stdout"
        },
        {
          "output_type": "stream",
          "text": [
            "INFO:tensorflow:Assets written to: /content/drive/My Drive/data/JUNK1.cv.4.best/assets\n"
          ],
          "name": "stderr"
        },
        {
          "output_type": "stream",
          "text": [
            "Epoch 29/200\n",
            "350/350 [==============================] - 125s 357ms/step - loss: 0.2912 - accuracy: 0.8771 - val_loss: 0.3689 - val_accuracy: 0.8489\n",
            "Epoch 30/200\n",
            "350/350 [==============================] - 123s 353ms/step - loss: 0.2869 - accuracy: 0.8776 - val_loss: 0.2600 - val_accuracy: 0.8984\n"
          ],
          "name": "stdout"
        },
        {
          "output_type": "stream",
          "text": [
            "WARNING:absl:Found untraced functions such as gru_cell_28_layer_call_fn, gru_cell_28_layer_call_and_return_conditional_losses, gru_cell_29_layer_call_fn, gru_cell_29_layer_call_and_return_conditional_losses, gru_cell_30_layer_call_fn while saving (showing 5 of 20). These functions will not be directly callable after loading.\n",
            "WARNING:absl:Found untraced functions such as gru_cell_28_layer_call_fn, gru_cell_28_layer_call_and_return_conditional_losses, gru_cell_29_layer_call_fn, gru_cell_29_layer_call_and_return_conditional_losses, gru_cell_30_layer_call_fn while saving (showing 5 of 20). These functions will not be directly callable after loading.\n"
          ],
          "name": "stderr"
        },
        {
          "output_type": "stream",
          "text": [
            "INFO:tensorflow:Assets written to: /content/drive/My Drive/data/JUNK1.cv.4.best/assets\n"
          ],
          "name": "stdout"
        },
        {
          "output_type": "stream",
          "text": [
            "INFO:tensorflow:Assets written to: /content/drive/My Drive/data/JUNK1.cv.4.best/assets\n"
          ],
          "name": "stderr"
        },
        {
          "output_type": "stream",
          "text": [
            "Epoch 31/200\n",
            "350/350 [==============================] - 124s 355ms/step - loss: 0.2735 - accuracy: 0.8875 - val_loss: 0.2857 - val_accuracy: 0.8863\n",
            "Epoch 32/200\n",
            "350/350 [==============================] - 126s 360ms/step - loss: 0.2642 - accuracy: 0.8934 - val_loss: 0.2749 - val_accuracy: 0.8859\n",
            "Epoch 33/200\n",
            "350/350 [==============================] - 128s 367ms/step - loss: 0.2480 - accuracy: 0.8962 - val_loss: 0.2361 - val_accuracy: 0.9099\n"
          ],
          "name": "stdout"
        },
        {
          "output_type": "stream",
          "text": [
            "WARNING:absl:Found untraced functions such as gru_cell_28_layer_call_fn, gru_cell_28_layer_call_and_return_conditional_losses, gru_cell_29_layer_call_fn, gru_cell_29_layer_call_and_return_conditional_losses, gru_cell_30_layer_call_fn while saving (showing 5 of 20). These functions will not be directly callable after loading.\n",
            "WARNING:absl:Found untraced functions such as gru_cell_28_layer_call_fn, gru_cell_28_layer_call_and_return_conditional_losses, gru_cell_29_layer_call_fn, gru_cell_29_layer_call_and_return_conditional_losses, gru_cell_30_layer_call_fn while saving (showing 5 of 20). These functions will not be directly callable after loading.\n"
          ],
          "name": "stderr"
        },
        {
          "output_type": "stream",
          "text": [
            "INFO:tensorflow:Assets written to: /content/drive/My Drive/data/JUNK1.cv.4.best/assets\n"
          ],
          "name": "stdout"
        },
        {
          "output_type": "stream",
          "text": [
            "INFO:tensorflow:Assets written to: /content/drive/My Drive/data/JUNK1.cv.4.best/assets\n"
          ],
          "name": "stderr"
        },
        {
          "output_type": "stream",
          "text": [
            "Epoch 34/200\n",
            "350/350 [==============================] - 133s 379ms/step - loss: 0.2393 - accuracy: 0.9043 - val_loss: 0.2366 - val_accuracy: 0.9116\n"
          ],
          "name": "stdout"
        },
        {
          "output_type": "stream",
          "text": [
            "WARNING:absl:Found untraced functions such as gru_cell_28_layer_call_fn, gru_cell_28_layer_call_and_return_conditional_losses, gru_cell_29_layer_call_fn, gru_cell_29_layer_call_and_return_conditional_losses, gru_cell_30_layer_call_fn while saving (showing 5 of 20). These functions will not be directly callable after loading.\n",
            "WARNING:absl:Found untraced functions such as gru_cell_28_layer_call_fn, gru_cell_28_layer_call_and_return_conditional_losses, gru_cell_29_layer_call_fn, gru_cell_29_layer_call_and_return_conditional_losses, gru_cell_30_layer_call_fn while saving (showing 5 of 20). These functions will not be directly callable after loading.\n"
          ],
          "name": "stderr"
        },
        {
          "output_type": "stream",
          "text": [
            "INFO:tensorflow:Assets written to: /content/drive/My Drive/data/JUNK1.cv.4.best/assets\n"
          ],
          "name": "stdout"
        },
        {
          "output_type": "stream",
          "text": [
            "INFO:tensorflow:Assets written to: /content/drive/My Drive/data/JUNK1.cv.4.best/assets\n"
          ],
          "name": "stderr"
        },
        {
          "output_type": "stream",
          "text": [
            "Epoch 35/200\n",
            "350/350 [==============================] - 129s 370ms/step - loss: 0.2158 - accuracy: 0.9120 - val_loss: 0.2086 - val_accuracy: 0.9233\n"
          ],
          "name": "stdout"
        },
        {
          "output_type": "stream",
          "text": [
            "WARNING:absl:Found untraced functions such as gru_cell_28_layer_call_fn, gru_cell_28_layer_call_and_return_conditional_losses, gru_cell_29_layer_call_fn, gru_cell_29_layer_call_and_return_conditional_losses, gru_cell_30_layer_call_fn while saving (showing 5 of 20). These functions will not be directly callable after loading.\n",
            "WARNING:absl:Found untraced functions such as gru_cell_28_layer_call_fn, gru_cell_28_layer_call_and_return_conditional_losses, gru_cell_29_layer_call_fn, gru_cell_29_layer_call_and_return_conditional_losses, gru_cell_30_layer_call_fn while saving (showing 5 of 20). These functions will not be directly callable after loading.\n"
          ],
          "name": "stderr"
        },
        {
          "output_type": "stream",
          "text": [
            "INFO:tensorflow:Assets written to: /content/drive/My Drive/data/JUNK1.cv.4.best/assets\n"
          ],
          "name": "stdout"
        },
        {
          "output_type": "stream",
          "text": [
            "INFO:tensorflow:Assets written to: /content/drive/My Drive/data/JUNK1.cv.4.best/assets\n"
          ],
          "name": "stderr"
        },
        {
          "output_type": "stream",
          "text": [
            "Epoch 36/200\n",
            "350/350 [==============================] - 128s 365ms/step - loss: 0.2321 - accuracy: 0.9055 - val_loss: 0.2170 - val_accuracy: 0.9186\n",
            "Epoch 37/200\n",
            "350/350 [==============================] - 126s 362ms/step - loss: 0.2029 - accuracy: 0.9190 - val_loss: 0.2330 - val_accuracy: 0.9162\n",
            "Epoch 38/200\n",
            "350/350 [==============================] - 126s 359ms/step - loss: 0.3097 - accuracy: 0.8657 - val_loss: 0.4265 - val_accuracy: 0.8067\n",
            "Epoch 39/200\n",
            "350/350 [==============================] - 127s 363ms/step - loss: 0.3831 - accuracy: 0.8284 - val_loss: 0.3440 - val_accuracy: 0.8500\n",
            "Epoch 40/200\n",
            "350/350 [==============================] - 128s 367ms/step - loss: 0.3298 - accuracy: 0.8569 - val_loss: 0.2983 - val_accuracy: 0.8754\n",
            "Epoch 41/200\n",
            "350/350 [==============================] - 128s 366ms/step - loss: 0.2973 - accuracy: 0.8714 - val_loss: 0.3580 - val_accuracy: 0.8531\n",
            "Epoch 42/200\n",
            "350/350 [==============================] - 127s 363ms/step - loss: 0.2881 - accuracy: 0.8774 - val_loss: 0.2784 - val_accuracy: 0.8883\n",
            "Epoch 43/200\n",
            "350/350 [==============================] - 128s 365ms/step - loss: 0.2750 - accuracy: 0.8865 - val_loss: 0.2667 - val_accuracy: 0.8929\n",
            "Epoch 44/200\n",
            "350/350 [==============================] - 127s 362ms/step - loss: 0.2645 - accuracy: 0.8863 - val_loss: 0.2773 - val_accuracy: 0.8886\n",
            "Epoch 45/200\n",
            "350/350 [==============================] - 128s 366ms/step - loss: 0.2541 - accuracy: 0.8923 - val_loss: 0.2625 - val_accuracy: 0.8964\n",
            "Epoch 00045: early stopping\n",
            "Fold 4, 200 epochs, 6075 sec\n"
          ],
          "name": "stdout"
        },
        {
          "output_type": "display_data",
          "data": {
            "image/png": "[encoded data removed]",
            "text/plain": [
              "<Figure size 576x360 with 1 Axes>"
            ]
          },
          "metadata": {
            "tags": [],
            "needs_background": "light"
          }
        },
        {
          "output_type": "stream",
          "text": [
            "accuracy: 92.33%\n",
            "COMPILE...\n",
            "...COMPILED\n",
            "FIT\n",
            "Epoch 1/200\n",
            "350/350 [==============================] - 144s 372ms/step - loss: 0.6820 - accuracy: 0.5711 - val_loss: 0.6910 - val_accuracy: 0.5379\n"
          ],
          "name": "stdout"
        },
        {
          "output_type": "stream",
          "text": [
            "WARNING:absl:Found untraced functions such as gru_cell_36_layer_call_fn, gru_cell_36_layer_call_and_return_conditional_losses, gru_cell_37_layer_call_fn, gru_cell_37_layer_call_and_return_conditional_losses, gru_cell_38_layer_call_fn while saving (showing 5 of 20). These functions will not be directly callable after loading.\n",
            "WARNING:absl:Found untraced functions such as gru_cell_36_layer_call_fn, gru_cell_36_layer_call_and_return_conditional_losses, gru_cell_37_layer_call_fn, gru_cell_37_layer_call_and_return_conditional_losses, gru_cell_38_layer_call_fn while saving (showing 5 of 20). These functions will not be directly callable after loading.\n"
          ],
          "name": "stderr"
        },
        {
          "output_type": "stream",
          "text": [
            "INFO:tensorflow:Assets written to: /content/drive/My Drive/data/JUNK1.cv.5.best/assets\n"
          ],
          "name": "stdout"
        },
        {
          "output_type": "stream",
          "text": [
            "INFO:tensorflow:Assets written to: /content/drive/My Drive/data/JUNK1.cv.5.best/assets\n"
          ],
          "name": "stderr"
        },
        {
          "output_type": "stream",
          "text": [
            "Epoch 2/200\n",
            "350/350 [==============================] - 126s 361ms/step - loss: 0.6759 - accuracy: 0.5844 - val_loss: 0.7244 - val_accuracy: 0.5359\n",
            "Epoch 3/200\n",
            "350/350 [==============================] - 124s 355ms/step - loss: 0.6886 - accuracy: 0.5447 - val_loss: 0.7004 - val_accuracy: 0.5000\n",
            "Epoch 4/200\n",
            "350/350 [==============================] - 126s 360ms/step - loss: 0.6915 - accuracy: 0.5251 - val_loss: 0.6938 - val_accuracy: 0.4975\n",
            "Epoch 5/200\n",
            "350/350 [==============================] - 127s 363ms/step - loss: 0.6847 - accuracy: 0.5519 - val_loss: 0.6994 - val_accuracy: 0.5271\n",
            "Epoch 6/200\n",
            "350/350 [==============================] - 128s 365ms/step - loss: 0.6734 - accuracy: 0.5873 - val_loss: 0.6927 - val_accuracy: 0.5292\n",
            "Epoch 7/200\n",
            "350/350 [==============================] - 128s 367ms/step - loss: 0.6391 - accuracy: 0.6399 - val_loss: 0.5981 - val_accuracy: 0.6909\n"
          ],
          "name": "stdout"
        },
        {
          "output_type": "stream",
          "text": [
            "WARNING:absl:Found untraced functions such as gru_cell_36_layer_call_fn, gru_cell_36_layer_call_and_return_conditional_losses, gru_cell_37_layer_call_fn, gru_cell_37_layer_call_and_return_conditional_losses, gru_cell_38_layer_call_fn while saving (showing 5 of 20). These functions will not be directly callable after loading.\n",
            "WARNING:absl:Found untraced functions such as gru_cell_36_layer_call_fn, gru_cell_36_layer_call_and_return_conditional_losses, gru_cell_37_layer_call_fn, gru_cell_37_layer_call_and_return_conditional_losses, gru_cell_38_layer_call_fn while saving (showing 5 of 20). These functions will not be directly callable after loading.\n"
          ],
          "name": "stderr"
        },
        {
          "output_type": "stream",
          "text": [
            "INFO:tensorflow:Assets written to: /content/drive/My Drive/data/JUNK1.cv.5.best/assets\n"
          ],
          "name": "stdout"
        },
        {
          "output_type": "stream",
          "text": [
            "INFO:tensorflow:Assets written to: /content/drive/My Drive/data/JUNK1.cv.5.best/assets\n"
          ],
          "name": "stderr"
        },
        {
          "output_type": "stream",
          "text": [
            "Epoch 8/200\n",
            "350/350 [==============================] - 129s 370ms/step - loss: 0.5755 - accuracy: 0.7063 - val_loss: 0.5962 - val_accuracy: 0.6994\n"
          ],
          "name": "stdout"
        },
        {
          "output_type": "stream",
          "text": [
            "WARNING:absl:Found untraced functions such as gru_cell_36_layer_call_fn, gru_cell_36_layer_call_and_return_conditional_losses, gru_cell_37_layer_call_fn, gru_cell_37_layer_call_and_return_conditional_losses, gru_cell_38_layer_call_fn while saving (showing 5 of 20). These functions will not be directly callable after loading.\n",
            "WARNING:absl:Found untraced functions such as gru_cell_36_layer_call_fn, gru_cell_36_layer_call_and_return_conditional_losses, gru_cell_37_layer_call_fn, gru_cell_37_layer_call_and_return_conditional_losses, gru_cell_38_layer_call_fn while saving (showing 5 of 20). These functions will not be directly callable after loading.\n"
          ],
          "name": "stderr"
        },
        {
          "output_type": "stream",
          "text": [
            "INFO:tensorflow:Assets written to: /content/drive/My Drive/data/JUNK1.cv.5.best/assets\n"
          ],
          "name": "stdout"
        },
        {
          "output_type": "stream",
          "text": [
            "INFO:tensorflow:Assets written to: /content/drive/My Drive/data/JUNK1.cv.5.best/assets\n"
          ],
          "name": "stderr"
        },
        {
          "output_type": "stream",
          "text": [
            "Epoch 9/200\n",
            "350/350 [==============================] - 130s 371ms/step - loss: 0.5624 - accuracy: 0.7237 - val_loss: 0.5489 - val_accuracy: 0.7207\n"
          ],
          "name": "stdout"
        },
        {
          "output_type": "stream",
          "text": [
            "WARNING:absl:Found untraced functions such as gru_cell_36_layer_call_fn, gru_cell_36_layer_call_and_return_conditional_losses, gru_cell_37_layer_call_fn, gru_cell_37_layer_call_and_return_conditional_losses, gru_cell_38_layer_call_fn while saving (showing 5 of 20). These functions will not be directly callable after loading.\n",
            "WARNING:absl:Found untraced functions such as gru_cell_36_layer_call_fn, gru_cell_36_layer_call_and_return_conditional_losses, gru_cell_37_layer_call_fn, gru_cell_37_layer_call_and_return_conditional_losses, gru_cell_38_layer_call_fn while saving (showing 5 of 20). These functions will not be directly callable after loading.\n"
          ],
          "name": "stderr"
        },
        {
          "output_type": "stream",
          "text": [
            "INFO:tensorflow:Assets written to: /content/drive/My Drive/data/JUNK1.cv.5.best/assets\n"
          ],
          "name": "stdout"
        },
        {
          "output_type": "stream",
          "text": [
            "INFO:tensorflow:Assets written to: /content/drive/My Drive/data/JUNK1.cv.5.best/assets\n"
          ],
          "name": "stderr"
        },
        {
          "output_type": "stream",
          "text": [
            "Epoch 10/200\n",
            "350/350 [==============================] - 132s 376ms/step - loss: 0.5387 - accuracy: 0.7405 - val_loss: 0.5558 - val_accuracy: 0.7290\n"
          ],
          "name": "stdout"
        },
        {
          "output_type": "stream",
          "text": [
            "WARNING:absl:Found untraced functions such as gru_cell_36_layer_call_fn, gru_cell_36_layer_call_and_return_conditional_losses, gru_cell_37_layer_call_fn, gru_cell_37_layer_call_and_return_conditional_losses, gru_cell_38_layer_call_fn while saving (showing 5 of 20). These functions will not be directly callable after loading.\n",
            "WARNING:absl:Found untraced functions such as gru_cell_36_layer_call_fn, gru_cell_36_layer_call_and_return_conditional_losses, gru_cell_37_layer_call_fn, gru_cell_37_layer_call_and_return_conditional_losses, gru_cell_38_layer_call_fn while saving (showing 5 of 20). These functions will not be directly callable after loading.\n"
          ],
          "name": "stderr"
        },
        {
          "output_type": "stream",
          "text": [
            "INFO:tensorflow:Assets written to: /content/drive/My Drive/data/JUNK1.cv.5.best/assets\n"
          ],
          "name": "stdout"
        },
        {
          "output_type": "stream",
          "text": [
            "INFO:tensorflow:Assets written to: /content/drive/My Drive/data/JUNK1.cv.5.best/assets\n"
          ],
          "name": "stderr"
        },
        {
          "output_type": "stream",
          "text": [
            "Epoch 11/200\n",
            "350/350 [==============================] - 128s 366ms/step - loss: 0.5010 - accuracy: 0.7696 - val_loss: 0.4790 - val_accuracy: 0.7719\n"
          ],
          "name": "stdout"
        },
        {
          "output_type": "stream",
          "text": [
            "WARNING:absl:Found untraced functions such as gru_cell_36_layer_call_fn, gru_cell_36_layer_call_and_return_conditional_losses, gru_cell_37_layer_call_fn, gru_cell_37_layer_call_and_return_conditional_losses, gru_cell_38_layer_call_fn while saving (showing 5 of 20). These functions will not be directly callable after loading.\n",
            "WARNING:absl:Found untraced functions such as gru_cell_36_layer_call_fn, gru_cell_36_layer_call_and_return_conditional_losses, gru_cell_37_layer_call_fn, gru_cell_37_layer_call_and_return_conditional_losses, gru_cell_38_layer_call_fn while saving (showing 5 of 20). These functions will not be directly callable after loading.\n"
          ],
          "name": "stderr"
        },
        {
          "output_type": "stream",
          "text": [
            "INFO:tensorflow:Assets written to: /content/drive/My Drive/data/JUNK1.cv.5.best/assets\n"
          ],
          "name": "stdout"
        },
        {
          "output_type": "stream",
          "text": [
            "INFO:tensorflow:Assets written to: /content/drive/My Drive/data/JUNK1.cv.5.best/assets\n"
          ],
          "name": "stderr"
        },
        {
          "output_type": "stream",
          "text": [
            "Epoch 12/200\n",
            "350/350 [==============================] - 127s 364ms/step - loss: 0.4651 - accuracy: 0.7856 - val_loss: 0.4146 - val_accuracy: 0.8192\n"
          ],
          "name": "stdout"
        },
        {
          "output_type": "stream",
          "text": [
            "WARNING:absl:Found untraced functions such as gru_cell_36_layer_call_fn, gru_cell_36_layer_call_and_return_conditional_losses, gru_cell_37_layer_call_fn, gru_cell_37_layer_call_and_return_conditional_losses, gru_cell_38_layer_call_fn while saving (showing 5 of 20). These functions will not be directly callable after loading.\n",
            "WARNING:absl:Found untraced functions such as gru_cell_36_layer_call_fn, gru_cell_36_layer_call_and_return_conditional_losses, gru_cell_37_layer_call_fn, gru_cell_37_layer_call_and_return_conditional_losses, gru_cell_38_layer_call_fn while saving (showing 5 of 20). These functions will not be directly callable after loading.\n"
          ],
          "name": "stderr"
        },
        {
          "output_type": "stream",
          "text": [
            "INFO:tensorflow:Assets written to: /content/drive/My Drive/data/JUNK1.cv.5.best/assets\n"
          ],
          "name": "stdout"
        },
        {
          "output_type": "stream",
          "text": [
            "INFO:tensorflow:Assets written to: /content/drive/My Drive/data/JUNK1.cv.5.best/assets\n"
          ],
          "name": "stderr"
        },
        {
          "output_type": "stream",
          "text": [
            "Epoch 13/200\n",
            "350/350 [==============================] - 127s 363ms/step - loss: 0.4484 - accuracy: 0.7867 - val_loss: 0.5211 - val_accuracy: 0.7426\n",
            "Epoch 14/200\n",
            "350/350 [==============================] - 127s 363ms/step - loss: 0.4967 - accuracy: 0.7620 - val_loss: 0.5041 - val_accuracy: 0.7616\n",
            "Epoch 15/200\n",
            "350/350 [==============================] - 128s 365ms/step - loss: 0.4123 - accuracy: 0.8134 - val_loss: 0.3934 - val_accuracy: 0.8332\n"
          ],
          "name": "stdout"
        },
        {
          "output_type": "stream",
          "text": [
            "WARNING:absl:Found untraced functions such as gru_cell_36_layer_call_fn, gru_cell_36_layer_call_and_return_conditional_losses, gru_cell_37_layer_call_fn, gru_cell_37_layer_call_and_return_conditional_losses, gru_cell_38_layer_call_fn while saving (showing 5 of 20). These functions will not be directly callable after loading.\n",
            "WARNING:absl:Found untraced functions such as gru_cell_36_layer_call_fn, gru_cell_36_layer_call_and_return_conditional_losses, gru_cell_37_layer_call_fn, gru_cell_37_layer_call_and_return_conditional_losses, gru_cell_38_layer_call_fn while saving (showing 5 of 20). These functions will not be directly callable after loading.\n"
          ],
          "name": "stderr"
        },
        {
          "output_type": "stream",
          "text": [
            "INFO:tensorflow:Assets written to: /content/drive/My Drive/data/JUNK1.cv.5.best/assets\n"
          ],
          "name": "stdout"
        },
        {
          "output_type": "stream",
          "text": [
            "INFO:tensorflow:Assets written to: /content/drive/My Drive/data/JUNK1.cv.5.best/assets\n"
          ],
          "name": "stderr"
        },
        {
          "output_type": "stream",
          "text": [
            "Epoch 16/200\n",
            "350/350 [==============================] - 128s 367ms/step - loss: 0.3885 - accuracy: 0.8304 - val_loss: 0.3578 - val_accuracy: 0.8541\n"
          ],
          "name": "stdout"
        },
        {
          "output_type": "stream",
          "text": [
            "WARNING:absl:Found untraced functions such as gru_cell_36_layer_call_fn, gru_cell_36_layer_call_and_return_conditional_losses, gru_cell_37_layer_call_fn, gru_cell_37_layer_call_and_return_conditional_losses, gru_cell_38_layer_call_fn while saving (showing 5 of 20). These functions will not be directly callable after loading.\n",
            "WARNING:absl:Found untraced functions such as gru_cell_36_layer_call_fn, gru_cell_36_layer_call_and_return_conditional_losses, gru_cell_37_layer_call_fn, gru_cell_37_layer_call_and_return_conditional_losses, gru_cell_38_layer_call_fn while saving (showing 5 of 20). These functions will not be directly callable after loading.\n"
          ],
          "name": "stderr"
        },
        {
          "output_type": "stream",
          "text": [
            "INFO:tensorflow:Assets written to: /content/drive/My Drive/data/JUNK1.cv.5.best/assets\n"
          ],
          "name": "stdout"
        },
        {
          "output_type": "stream",
          "text": [
            "INFO:tensorflow:Assets written to: /content/drive/My Drive/data/JUNK1.cv.5.best/assets\n"
          ],
          "name": "stderr"
        },
        {
          "output_type": "stream",
          "text": [
            "Epoch 17/200\n",
            "350/350 [==============================] - 127s 364ms/step - loss: 0.4418 - accuracy: 0.7935 - val_loss: 0.5038 - val_accuracy: 0.7674\n",
            "Epoch 18/200\n",
            "350/350 [==============================] - 128s 367ms/step - loss: 0.4629 - accuracy: 0.7849 - val_loss: 0.3819 - val_accuracy: 0.8347\n",
            "Epoch 19/200\n",
            "350/350 [==============================] - 128s 367ms/step - loss: 0.3884 - accuracy: 0.8293 - val_loss: 0.3989 - val_accuracy: 0.8218\n",
            "Epoch 20/200\n",
            "350/350 [==============================] - 128s 366ms/step - loss: 0.3997 - accuracy: 0.8139 - val_loss: 0.3680 - val_accuracy: 0.8407\n",
            "Epoch 21/200\n",
            "350/350 [==============================] - 128s 367ms/step - loss: 0.3706 - accuracy: 0.8389 - val_loss: 0.3542 - val_accuracy: 0.8499\n",
            "Epoch 22/200\n",
            "350/350 [==============================] - 127s 364ms/step - loss: 0.3573 - accuracy: 0.8437 - val_loss: 0.3471 - val_accuracy: 0.8524\n",
            "Epoch 23/200\n",
            "350/350 [==============================] - 128s 367ms/step - loss: 0.3479 - accuracy: 0.8475 - val_loss: 0.3740 - val_accuracy: 0.8375\n",
            "Epoch 24/200\n",
            "350/350 [==============================] - 128s 366ms/step - loss: 0.3503 - accuracy: 0.8483 - val_loss: 0.5414 - val_accuracy: 0.7194\n",
            "Epoch 25/200\n",
            "350/350 [==============================] - 128s 367ms/step - loss: 0.4845 - accuracy: 0.7666 - val_loss: 0.4283 - val_accuracy: 0.8016\n",
            "Epoch 26/200\n",
            "350/350 [==============================] - 127s 363ms/step - loss: 0.4017 - accuracy: 0.8249 - val_loss: 0.3314 - val_accuracy: 0.8647\n"
          ],
          "name": "stdout"
        },
        {
          "output_type": "stream",
          "text": [
            "WARNING:absl:Found untraced functions such as gru_cell_36_layer_call_fn, gru_cell_36_layer_call_and_return_conditional_losses, gru_cell_37_layer_call_fn, gru_cell_37_layer_call_and_return_conditional_losses, gru_cell_38_layer_call_fn while saving (showing 5 of 20). These functions will not be directly callable after loading.\n",
            "WARNING:absl:Found untraced functions such as gru_cell_36_layer_call_fn, gru_cell_36_layer_call_and_return_conditional_losses, gru_cell_37_layer_call_fn, gru_cell_37_layer_call_and_return_conditional_losses, gru_cell_38_layer_call_fn while saving (showing 5 of 20). These functions will not be directly callable after loading.\n"
          ],
          "name": "stderr"
        },
        {
          "output_type": "stream",
          "text": [
            "INFO:tensorflow:Assets written to: /content/drive/My Drive/data/JUNK1.cv.5.best/assets\n"
          ],
          "name": "stdout"
        },
        {
          "output_type": "stream",
          "text": [
            "INFO:tensorflow:Assets written to: /content/drive/My Drive/data/JUNK1.cv.5.best/assets\n"
          ],
          "name": "stderr"
        },
        {
          "output_type": "stream",
          "text": [
            "Epoch 27/200\n",
            "350/350 [==============================] - 127s 364ms/step - loss: 0.4325 - accuracy: 0.7954 - val_loss: 0.5288 - val_accuracy: 0.7387\n",
            "Epoch 28/200\n",
            "350/350 [==============================] - 128s 365ms/step - loss: 0.4534 - accuracy: 0.7942 - val_loss: 0.3523 - val_accuracy: 0.8561\n",
            "Epoch 29/200\n",
            "350/350 [==============================] - 128s 365ms/step - loss: 0.3751 - accuracy: 0.8304 - val_loss: 0.3568 - val_accuracy: 0.8509\n",
            "Epoch 30/200\n",
            "350/350 [==============================] - 129s 370ms/step - loss: 0.3473 - accuracy: 0.8498 - val_loss: 0.3397 - val_accuracy: 0.8576\n",
            "Epoch 31/200\n",
            "350/350 [==============================] - 129s 370ms/step - loss: 0.3247 - accuracy: 0.8638 - val_loss: 0.3097 - val_accuracy: 0.8771\n"
          ],
          "name": "stdout"
        },
        {
          "output_type": "stream",
          "text": [
            "WARNING:absl:Found untraced functions such as gru_cell_36_layer_call_fn, gru_cell_36_layer_call_and_return_conditional_losses, gru_cell_37_layer_call_fn, gru_cell_37_layer_call_and_return_conditional_losses, gru_cell_38_layer_call_fn while saving (showing 5 of 20). These functions will not be directly callable after loading.\n",
            "WARNING:absl:Found untraced functions such as gru_cell_36_layer_call_fn, gru_cell_36_layer_call_and_return_conditional_losses, gru_cell_37_layer_call_fn, gru_cell_37_layer_call_and_return_conditional_losses, gru_cell_38_layer_call_fn while saving (showing 5 of 20). These functions will not be directly callable after loading.\n"
          ],
          "name": "stderr"
        },
        {
          "output_type": "stream",
          "text": [
            "INFO:tensorflow:Assets written to: /content/drive/My Drive/data/JUNK1.cv.5.best/assets\n"
          ],
          "name": "stdout"
        },
        {
          "output_type": "stream",
          "text": [
            "INFO:tensorflow:Assets written to: /content/drive/My Drive/data/JUNK1.cv.5.best/assets\n"
          ],
          "name": "stderr"
        },
        {
          "output_type": "stream",
          "text": [
            "Epoch 32/200\n",
            "350/350 [==============================] - 129s 369ms/step - loss: 0.3472 - accuracy: 0.8542 - val_loss: 0.3508 - val_accuracy: 0.8517\n",
            "Epoch 33/200\n",
            "350/350 [==============================] - 129s 369ms/step - loss: 0.3502 - accuracy: 0.8468 - val_loss: 0.3239 - val_accuracy: 0.8693\n",
            "Epoch 34/200\n",
            "350/350 [==============================] - 129s 370ms/step - loss: 0.3831 - accuracy: 0.8229 - val_loss: 0.5915 - val_accuracy: 0.6926\n",
            "Epoch 35/200\n",
            "350/350 [==============================] - 131s 374ms/step - loss: 0.5226 - accuracy: 0.7432 - val_loss: 0.4227 - val_accuracy: 0.8078\n",
            "Epoch 36/200\n",
            "350/350 [==============================] - 130s 372ms/step - loss: 0.4558 - accuracy: 0.7819 - val_loss: 0.5878 - val_accuracy: 0.6841\n",
            "Epoch 37/200\n",
            "350/350 [==============================] - 131s 373ms/step - loss: 0.5635 - accuracy: 0.7156 - val_loss: 0.5102 - val_accuracy: 0.7478\n",
            "Epoch 38/200\n",
            "350/350 [==============================] - 133s 379ms/step - loss: 0.5151 - accuracy: 0.7496 - val_loss: 0.6292 - val_accuracy: 0.6875\n",
            "Epoch 39/200\n",
            "350/350 [==============================] - 132s 377ms/step - loss: 0.4479 - accuracy: 0.7953 - val_loss: 0.4645 - val_accuracy: 0.7757\n",
            "Epoch 40/200\n",
            "350/350 [==============================] - 132s 377ms/step - loss: 0.4258 - accuracy: 0.8052 - val_loss: 0.4153 - val_accuracy: 0.8149\n",
            "Epoch 41/200\n",
            "350/350 [==============================] - 132s 377ms/step - loss: 0.4063 - accuracy: 0.8166 - val_loss: 0.3871 - val_accuracy: 0.8312\n",
            "Epoch 00041: early stopping\n",
            "Fold 5, 200 epochs, 5517 sec\n"
          ],
          "name": "stdout"
        },
        {
          "output_type": "display_data",
          "data": {
            "image/png": "[encoded data removed]",
            "text/plain": [
              "<Figure size 576x360 with 1 Axes>"
            ]
          },
          "metadata": {
            "tags": [],
            "needs_background": "light"
          }
        },
        {
          "output_type": "stream",
          "text": [
            "accuracy: 87.71%\n",
            "\n",
            "5-way Cross Validation max 92.33%, mean 88.10% (+/- 4.91%)\n",
            "Done\n"
          ],
          "name": "stdout"
        }
      ]
    },
    {
      "cell_type": "code",
      "metadata": {
        "id": "p4fh2GI8beMQ"
      },
      "source": [
        ""
      ],
      "execution_count": 8,
      "outputs": []
    }
  ]
}