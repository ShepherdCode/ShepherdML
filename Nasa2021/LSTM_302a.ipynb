{
  "nbformat": 4,
  "nbformat_minor": 0,
  "metadata": {
    "accelerator": "GPU",
    "colab": {
      "name": "LSTM_302a.ipynb",
      "provenance": [],
      "collapsed_sections": [],
      "include_colab_link": true
    },
    "kernelspec": {
      "display_name": "Python 3",
      "language": "python",
      "name": "python3"
    },
    "language_info": {
      "codemirror_mode": {
        "name": "ipython",
        "version": 3
      },
      "file_extension": ".py",
      "mimetype": "text/x-python",
      "name": "python",
      "nbconvert_exporter": "python",
      "pygments_lexer": "ipython3",
      "version": "3.7.9"
    }
  },
  "cells": [
    {
      "cell_type": "markdown",
      "metadata": {
        "id": "view-in-github",
        "colab_type": "text"
      },
      "source": [
        "<a href=\"https://colab.research.google.com/github/ShepherdCode/ShepherdML/blob/master/Nasa2021/LSTM_302a.ipynb\" target=\"_parent\"><img src=\"https://colab.research.google.com/assets/colab-badge.svg\" alt=\"Open In Colab\"/></a>"
      ]
    },
    {
      "cell_type": "markdown",
      "metadata": {
        "id": "ojm_6E9f9Kcf"
      },
      "source": [
        "# LSTM 302a\n",
        "Start with LSTM 201 and modify it to use our updated code infrastructure."
      ]
    },
    {
      "cell_type": "code",
      "metadata": {
        "colab": {
          "base_uri": "https://localhost:8080/"
        },
        "id": "hh6XplUvC0j0",
        "outputId": "2b583242-f3d4-451e-e8c6-c86d1558b57a"
      },
      "source": [
        "NC_FILENAME='ncRNA.gc34.processed.fasta'\n",
        "PC_FILENAME='pcRNA.gc34.processed.fasta'\n",
        "MODEL_FILE='LSTM302a'   # load not save!\n",
        "DATAPATH=''\n",
        "\n",
        "try:\n",
        "    from google.colab import drive\n",
        "    IN_COLAB = True\n",
        "    PATH='/content/drive/'\n",
        "    drive.mount(PATH)\n",
        "    DATAPATH=PATH+'My Drive/data/'  # must end in \"/\"\n",
        "except:\n",
        "    IN_COLAB = False\n",
        "    DATAPATH='data/'  # must end in \"/\"\n",
        "NC_FILENAME = DATAPATH+NC_FILENAME\n",
        "PC_FILENAME = DATAPATH+PC_FILENAME\n",
        "MODEL_FILE=DATAPATH+MODEL_FILE\n",
        "\n",
        "EPOCHS=100\n",
        "SPLITS=1\n",
        "K=4\n",
        "VOCABULARY_SIZE=4**K+1   # e.g. K=3 => 64 DNA K-mers + 'NNN'\n",
        "EMBED_DIMEN=16\n",
        "NEURONS=96\n",
        "DROP=0.5\n",
        "ACT=\"tanh\""
      ],
      "execution_count": 2,
      "outputs": [
        {
          "output_type": "stream",
          "text": [
            "Drive already mounted at /content/drive/; to attempt to forcibly remount, call drive.mount(\"/content/drive/\", force_remount=True).\n"
          ],
          "name": "stdout"
        }
      ]
    },
    {
      "cell_type": "code",
      "metadata": {
        "colab": {
          "base_uri": "https://localhost:8080/"
        },
        "id": "e9TY3HK9ZklE",
        "outputId": "9d8113d6-0519-4e1f-ed0e-d5b3c7490f16"
      },
      "source": [
        "# Load our own tools\n",
        "GITHUB = True\n",
        "if GITHUB:\n",
        "    #!pip install requests  # Uncomment this if necessary. Seems to be pre-installed.\n",
        "    import requests\n",
        "    r = requests.get('https://raw.githubusercontent.com/ShepherdCode/ShepherdML/master/Strings/tools_fasta.py')\n",
        "    with open('tools_fasta.py', 'w') as f:\n",
        "        f.write(r.text)\n",
        "    # TO DO: delete the file after import\n",
        "import tools_fasta as tools\n",
        "tools.yahoo()  # If this prints \"Yahoo!\" the the import was successful.\n",
        "\n",
        "TOOLS_CHANGED = False   # set to True to re-run with a new version of tools\n",
        "if TOOLS_CHANGED:\n",
        "  from importlib import reload \n",
        "  tools=reload(tools)\n",
        "  print(dir(tools))   # run this to see EVERYTHING in the tools module"
      ],
      "execution_count": 3,
      "outputs": [
        {
          "output_type": "stream",
          "text": [
            "Yahoo!\n"
          ],
          "name": "stdout"
        }
      ]
    },
    {
      "cell_type": "code",
      "metadata": {
        "id": "VQY7aTj29Kch"
      },
      "source": [
        "import numpy as np\n",
        "import pandas as pd\n",
        "import matplotlib.pyplot as plt\n",
        "from sklearn.model_selection import ShuffleSplit\n",
        "from sklearn.model_selection import cross_val_score\n",
        "from sklearn.model_selection import RepeatedKFold\n",
        "from sklearn.model_selection import StratifiedKFold\n",
        "import tensorflow as tf\n",
        "from tensorflow import keras\n",
        "#from keras.wrappers.scikit_learn import KerasRegressor\n",
        "from keras.models import Sequential\n",
        "from keras.layers import Bidirectional\n",
        "from keras.layers import GRU\n",
        "from keras.layers import Dense\n",
        "from keras.layers import LayerNormalization\n",
        "import time\n",
        "dt='float32'\n",
        "tf.keras.backend.set_floatx(dt)"
      ],
      "execution_count": 4,
      "outputs": []
    },
    {
      "cell_type": "markdown",
      "metadata": {
        "id": "j7jcg6Wl9Kc2"
      },
      "source": [
        "Build model"
      ]
    },
    {
      "cell_type": "code",
      "metadata": {
        "id": "qLFNO1Xa9Kc3"
      },
      "source": [
        "def compile_model(model):\n",
        "    adam_default_learn_rate = 0.001\n",
        "    schedule = tf.keras.optimizers.schedules.ExponentialDecay(\n",
        "        initial_learning_rate = adam_default_learn_rate*10,\n",
        "        #decay_steps=100000, decay_rate=0.96, staircase=True)\n",
        "        decay_steps=10000, decay_rate=0.99, staircase=True)\n",
        "    # learn rate = initial_learning_rate * decay_rate ^ (step / decay_steps)\n",
        "    alrd = tf.keras.optimizers.Adam(learning_rate=schedule)\n",
        "    bc=tf.keras.losses.BinaryCrossentropy(from_logits=False)\n",
        "    print(\"COMPILE...\")\n",
        "    #model.compile(loss=bc, optimizer=alrd, metrics=[\"accuracy\"])\n",
        "    model.compile(loss=bc, optimizer=\"adam\", metrics=[\"accuracy\"])\n",
        "    print(\"...COMPILED\")\n",
        "    return model\n",
        "\n",
        "def build_model():\n",
        "    embed_layer  = keras.layers.Embedding(\n",
        "        #VOCABULARY_SIZE, EMBED_DIMEN, input_length=1000, input_length=1000, mask_zero=True)\n",
        "        #input_dim=[None,VOCABULARY_SIZE], output_dim=EMBED_DIMEN, mask_zero=True)\n",
        "        input_dim=VOCABULARY_SIZE, output_dim=EMBED_DIMEN, mask_zero=True)\n",
        "    rnn1_layer = keras.layers.Bidirectional(\n",
        "      keras.layers.LSTM(NEURONS, return_sequences=True, \n",
        "          input_shape=[1000,EMBED_DIMEN], activation=ACT, dropout=DROP) )#bi\n",
        "    rnn2_layer = keras.layers.Bidirectional(\n",
        "      keras.layers.LSTM(NEURONS, return_sequences=False, \n",
        "        activation=ACT, dropout=DROP) )#bi\n",
        "    dense1_layer = keras.layers.Dense(NEURONS, activation=ACT,dtype=dt)\n",
        "    drop1_layer = keras.layers.Dropout(DROP)\n",
        "    dense2_layer = keras.layers.Dense(NEURONS, activation=ACT,dtype=dt)\n",
        "    drop2_layer = keras.layers.Dropout(DROP)\n",
        "    output_layer = keras.layers.Dense(1, activation=\"sigmoid\", dtype=dt)\n",
        "    mlp = keras.models.Sequential()\n",
        "    mlp.add(embed_layer)\n",
        "    mlp.add(rnn1_layer)\n",
        "    mlp.add(rnn2_layer)\n",
        "    mlp.add(dense1_layer)\n",
        "    mlp.add(drop1_layer)\n",
        "    mlp.add(dense2_layer)\n",
        "    mlp.add(drop2_layer)\n",
        "    mlp.add(output_layer)\n",
        "    mlpc = compile_model(mlp)\n",
        "    return mlpc"
      ],
      "execution_count": 5,
      "outputs": []
    },
    {
      "cell_type": "markdown",
      "metadata": {
        "id": "WV6k-xOm9Kcn"
      },
      "source": [
        "Partition sequences"
      ]
    },
    {
      "cell_type": "code",
      "metadata": {
        "id": "1I-O_qzw9Kco"
      },
      "source": [
        "def make_slice(data_set,min_len,max_len):\n",
        "    slice = data_set.query('seqlen <= '+str(max_len)+' & seqlen>= '+str(min_len))\n",
        "    return slice"
      ],
      "execution_count": 6,
      "outputs": []
    },
    {
      "cell_type": "markdown",
      "metadata": {
        "id": "LdIS2utq9Kc9"
      },
      "source": [
        "Cross validation"
      ]
    },
    {
      "cell_type": "code",
      "metadata": {
        "id": "BVo4tbB_9Kc-"
      },
      "source": [
        "def do_cross_validation(X,y,given_model):\n",
        "    cv_scores = []\n",
        "    fold=0\n",
        "    splitter = ShuffleSplit(n_splits=SPLITS, test_size=0.1, random_state=37863)\n",
        "    for train_index,valid_index in splitter.split(X):\n",
        "        fold += 1\n",
        "        X_train=X[train_index] # use iloc[] for dataframe\n",
        "        y_train=y[train_index]\n",
        "        X_valid=X[valid_index]\n",
        "        y_valid=y[valid_index]        \n",
        "        # Avoid continually improving the same model.\n",
        "        model = compile_model(keras.models.clone_model(given_model))\n",
        "        bestname=MODEL_FILE+\".cv.\"+str(fold)+\".best\"\n",
        "        mycallbacks = [keras.callbacks.ModelCheckpoint(\n",
        "            filepath=bestname, save_best_only=True, \n",
        "            monitor='val_accuracy', mode='max')]   \n",
        "        print(\"FIT\")\n",
        "        start_time=time.time()\n",
        "        history=model.fit(X_train, y_train, # batch_size=10, default=32 works nicely\n",
        "                epochs=EPOCHS, verbose=1,  # verbose=1 for ascii art, verbose=0 for none\n",
        "                callbacks=mycallbacks,\n",
        "                validation_data=(X_valid,y_valid) )\n",
        "        end_time=time.time()\n",
        "        elapsed_time=(end_time-start_time)                        \n",
        "        print(\"Fold %d, %d epochs, %d sec\"%(fold,EPOCHS,elapsed_time))\n",
        "        pd.DataFrame(history.history).plot(figsize=(8,5))\n",
        "        plt.grid(True)\n",
        "        plt.gca().set_ylim(0,1)\n",
        "        plt.show()\n",
        "        best_model=keras.models.load_model(bestname)\n",
        "        scores = best_model.evaluate(X_valid, y_valid, verbose=0)\n",
        "        print(\"%s: %.2f%%\" % (best_model.metrics_names[1], scores[1]*100))\n",
        "        cv_scores.append(scores[1] * 100)  \n",
        "    print()\n",
        "    print(\"%d-way Cross Validation mean %.2f%% (+/- %.2f%%)\" % (fold, np.mean(cv_scores), np.std(cv_scores)))"
      ],
      "execution_count": 7,
      "outputs": []
    },
    {
      "cell_type": "markdown",
      "metadata": {
        "id": "qd3Wj_vI9KdP"
      },
      "source": [
        "## Train on RNA lengths 200-1Kb"
      ]
    },
    {
      "cell_type": "code",
      "metadata": {
        "colab": {
          "base_uri": "https://localhost:8080/"
        },
        "id": "f8fNo6sn9KdH",
        "outputId": "85dd2ad4-5ca7-43a1-bf63-fe53ccd59f61"
      },
      "source": [
        "MINLEN=200\n",
        "MAXLEN=1000\n",
        "print(\"Load data from files.\")\n",
        "nc_seq=tools.load_fasta(NC_FILENAME,0)\n",
        "pc_seq=tools.load_fasta(PC_FILENAME,1)\n",
        "train_set=pd.concat((nc_seq,pc_seq),axis=0)\n",
        "nc_seq=None\n",
        "pc_seq=None\n",
        "print(\"Ready: train_set\")\n",
        "#train_set\n",
        "subset=make_slice(train_set,MINLEN,MAXLEN)# One array to two: X and y\n",
        "print (\"Data reshape\")\n",
        "(X_train,y_train)=tools.make_kmers(K,MAXLEN,subset)\n",
        "#print (\"Data prep\")\n",
        "#X_train=tools.make_frequencies(K,X_train)"
      ],
      "execution_count": 8,
      "outputs": [
        {
          "output_type": "stream",
          "text": [
            "Load data from files.\n",
            "Ready: train_set\n",
            "Data reshape\n"
          ],
          "name": "stdout"
        }
      ]
    },
    {
      "cell_type": "code",
      "metadata": {
        "colab": {
          "base_uri": "https://localhost:8080/"
        },
        "id": "G1HuSs8ZbeL4",
        "outputId": "72152243-6cf2-470c-a8a4-4020e5ed14b0"
      },
      "source": [
        "print (\"Compile the model\")\n",
        "model=build_model()\n",
        "print (\"Summarize the model\")\n",
        "print(model.summary())  # Print this only once\n",
        "model.save(MODEL_FILE+'.model')\n"
      ],
      "execution_count": 9,
      "outputs": [
        {
          "output_type": "stream",
          "text": [
            "Compile the model\n",
            "COMPILE...\n",
            "...COMPILED\n",
            "Summarize the model\n",
            "Model: \"sequential\"\n",
            "_________________________________________________________________\n",
            "Layer (type)                 Output Shape              Param #   \n",
            "=================================================================\n",
            "embedding (Embedding)        (None, None, 16)          4112      \n",
            "_________________________________________________________________\n",
            "bidirectional (Bidirectional (None, None, 192)         86784     \n",
            "_________________________________________________________________\n",
            "bidirectional_1 (Bidirection (None, 192)               221952    \n",
            "_________________________________________________________________\n",
            "dense (Dense)                (None, 96)                18528     \n",
            "_________________________________________________________________\n",
            "dropout (Dropout)            (None, 96)                0         \n",
            "_________________________________________________________________\n",
            "dense_1 (Dense)              (None, 96)                9312      \n",
            "_________________________________________________________________\n",
            "dropout_1 (Dropout)          (None, 96)                0         \n",
            "_________________________________________________________________\n",
            "dense_2 (Dense)              (None, 1)                 97        \n",
            "=================================================================\n",
            "Total params: 340,785\n",
            "Trainable params: 340,785\n",
            "Non-trainable params: 0\n",
            "_________________________________________________________________\n",
            "None\n"
          ],
          "name": "stdout"
        },
        {
          "output_type": "stream",
          "text": [
            "WARNING:absl:Found untraced functions such as lstm_cell_1_layer_call_and_return_conditional_losses, lstm_cell_1_layer_call_fn, lstm_cell_2_layer_call_and_return_conditional_losses, lstm_cell_2_layer_call_fn, lstm_cell_4_layer_call_and_return_conditional_losses while saving (showing 5 of 20). These functions will not be directly callable after loading.\n",
            "WARNING:absl:Found untraced functions such as lstm_cell_1_layer_call_and_return_conditional_losses, lstm_cell_1_layer_call_fn, lstm_cell_2_layer_call_and_return_conditional_losses, lstm_cell_2_layer_call_fn, lstm_cell_4_layer_call_and_return_conditional_losses while saving (showing 5 of 20). These functions will not be directly callable after loading.\n"
          ],
          "name": "stderr"
        },
        {
          "output_type": "stream",
          "text": [
            "INFO:tensorflow:Assets written to: /content/drive/My Drive/data/LSTM302.model/assets\n"
          ],
          "name": "stdout"
        },
        {
          "output_type": "stream",
          "text": [
            "INFO:tensorflow:Assets written to: /content/drive/My Drive/data/LSTM302.model/assets\n"
          ],
          "name": "stderr"
        }
      ]
    },
    {
      "cell_type": "code",
      "metadata": {
        "colab": {
          "base_uri": "https://localhost:8080/",
          "height": 1000
        },
        "id": "mQ8eW5Rg9KdQ",
        "outputId": "72bfcbfb-9fd8-4fd7-e341-74cd190a888e"
      },
      "source": [
        "print (\"Cross valiation\")\n",
        "do_cross_validation(X_train,y_train,model)  \n",
        "print (\"Done\")"
      ],
      "execution_count": 10,
      "outputs": [
        {
          "output_type": "stream",
          "text": [
            "Cross valiation\n",
            "COMPILE...\n",
            "...COMPILED\n",
            "FIT\n",
            "Epoch 1/100\n",
            "453/453 [==============================] - 89s 160ms/step - loss: 0.6092 - accuracy: 0.6784 - val_loss: 0.5783 - val_accuracy: 0.7089\n"
          ],
          "name": "stdout"
        },
        {
          "output_type": "stream",
          "text": [
            "WARNING:absl:Found untraced functions such as lstm_cell_7_layer_call_and_return_conditional_losses, lstm_cell_7_layer_call_fn, lstm_cell_8_layer_call_and_return_conditional_losses, lstm_cell_8_layer_call_fn, lstm_cell_10_layer_call_and_return_conditional_losses while saving (showing 5 of 20). These functions will not be directly callable after loading.\n",
            "WARNING:absl:Found untraced functions such as lstm_cell_7_layer_call_and_return_conditional_losses, lstm_cell_7_layer_call_fn, lstm_cell_8_layer_call_and_return_conditional_losses, lstm_cell_8_layer_call_fn, lstm_cell_10_layer_call_and_return_conditional_losses while saving (showing 5 of 20). These functions will not be directly callable after loading.\n"
          ],
          "name": "stderr"
        },
        {
          "output_type": "stream",
          "text": [
            "INFO:tensorflow:Assets written to: /content/drive/My Drive/data/LSTM302.cv.1.best/assets\n"
          ],
          "name": "stdout"
        },
        {
          "output_type": "stream",
          "text": [
            "INFO:tensorflow:Assets written to: /content/drive/My Drive/data/LSTM302.cv.1.best/assets\n"
          ],
          "name": "stderr"
        },
        {
          "output_type": "stream",
          "text": [
            "Epoch 2/100\n",
            "453/453 [==============================] - 69s 153ms/step - loss: 0.5889 - accuracy: 0.6993 - val_loss: 0.5682 - val_accuracy: 0.7337\n"
          ],
          "name": "stdout"
        },
        {
          "output_type": "stream",
          "text": [
            "WARNING:absl:Found untraced functions such as lstm_cell_7_layer_call_and_return_conditional_losses, lstm_cell_7_layer_call_fn, lstm_cell_8_layer_call_and_return_conditional_losses, lstm_cell_8_layer_call_fn, lstm_cell_10_layer_call_and_return_conditional_losses while saving (showing 5 of 20). These functions will not be directly callable after loading.\n",
            "WARNING:absl:Found untraced functions such as lstm_cell_7_layer_call_and_return_conditional_losses, lstm_cell_7_layer_call_fn, lstm_cell_8_layer_call_and_return_conditional_losses, lstm_cell_8_layer_call_fn, lstm_cell_10_layer_call_and_return_conditional_losses while saving (showing 5 of 20). These functions will not be directly callable after loading.\n"
          ],
          "name": "stderr"
        },
        {
          "output_type": "stream",
          "text": [
            "INFO:tensorflow:Assets written to: /content/drive/My Drive/data/LSTM302.cv.1.best/assets\n"
          ],
          "name": "stdout"
        },
        {
          "output_type": "stream",
          "text": [
            "INFO:tensorflow:Assets written to: /content/drive/My Drive/data/LSTM302.cv.1.best/assets\n"
          ],
          "name": "stderr"
        },
        {
          "output_type": "stream",
          "text": [
            "Epoch 3/100\n",
            "453/453 [==============================] - 69s 153ms/step - loss: 0.5988 - accuracy: 0.6910 - val_loss: 0.5648 - val_accuracy: 0.7169\n",
            "Epoch 4/100\n",
            "453/453 [==============================] - 70s 155ms/step - loss: 0.5661 - accuracy: 0.7100 - val_loss: 0.5706 - val_accuracy: 0.7083\n",
            "Epoch 5/100\n",
            "453/453 [==============================] - 70s 154ms/step - loss: 0.5762 - accuracy: 0.7013 - val_loss: 0.5292 - val_accuracy: 0.7436\n"
          ],
          "name": "stdout"
        },
        {
          "output_type": "stream",
          "text": [
            "WARNING:absl:Found untraced functions such as lstm_cell_7_layer_call_and_return_conditional_losses, lstm_cell_7_layer_call_fn, lstm_cell_8_layer_call_and_return_conditional_losses, lstm_cell_8_layer_call_fn, lstm_cell_10_layer_call_and_return_conditional_losses while saving (showing 5 of 20). These functions will not be directly callable after loading.\n",
            "WARNING:absl:Found untraced functions such as lstm_cell_7_layer_call_and_return_conditional_losses, lstm_cell_7_layer_call_fn, lstm_cell_8_layer_call_and_return_conditional_losses, lstm_cell_8_layer_call_fn, lstm_cell_10_layer_call_and_return_conditional_losses while saving (showing 5 of 20). These functions will not be directly callable after loading.\n"
          ],
          "name": "stderr"
        },
        {
          "output_type": "stream",
          "text": [
            "INFO:tensorflow:Assets written to: /content/drive/My Drive/data/LSTM302.cv.1.best/assets\n"
          ],
          "name": "stdout"
        },
        {
          "output_type": "stream",
          "text": [
            "INFO:tensorflow:Assets written to: /content/drive/My Drive/data/LSTM302.cv.1.best/assets\n"
          ],
          "name": "stderr"
        },
        {
          "output_type": "stream",
          "text": [
            "Epoch 6/100\n",
            "453/453 [==============================] - 70s 154ms/step - loss: 0.5336 - accuracy: 0.7447 - val_loss: 0.5474 - val_accuracy: 0.7120\n",
            "Epoch 7/100\n",
            "453/453 [==============================] - 70s 154ms/step - loss: 0.5068 - accuracy: 0.7597 - val_loss: 0.4154 - val_accuracy: 0.8200\n"
          ],
          "name": "stdout"
        },
        {
          "output_type": "stream",
          "text": [
            "WARNING:absl:Found untraced functions such as lstm_cell_7_layer_call_and_return_conditional_losses, lstm_cell_7_layer_call_fn, lstm_cell_8_layer_call_and_return_conditional_losses, lstm_cell_8_layer_call_fn, lstm_cell_10_layer_call_and_return_conditional_losses while saving (showing 5 of 20). These functions will not be directly callable after loading.\n",
            "WARNING:absl:Found untraced functions such as lstm_cell_7_layer_call_and_return_conditional_losses, lstm_cell_7_layer_call_fn, lstm_cell_8_layer_call_and_return_conditional_losses, lstm_cell_8_layer_call_fn, lstm_cell_10_layer_call_and_return_conditional_losses while saving (showing 5 of 20). These functions will not be directly callable after loading.\n"
          ],
          "name": "stderr"
        },
        {
          "output_type": "stream",
          "text": [
            "INFO:tensorflow:Assets written to: /content/drive/My Drive/data/LSTM302.cv.1.best/assets\n"
          ],
          "name": "stdout"
        },
        {
          "output_type": "stream",
          "text": [
            "INFO:tensorflow:Assets written to: /content/drive/My Drive/data/LSTM302.cv.1.best/assets\n"
          ],
          "name": "stderr"
        },
        {
          "output_type": "stream",
          "text": [
            "Epoch 8/100\n",
            "453/453 [==============================] - 70s 154ms/step - loss: 0.5955 - accuracy: 0.6890 - val_loss: 0.5577 - val_accuracy: 0.7138\n",
            "Epoch 9/100\n",
            "453/453 [==============================] - 70s 154ms/step - loss: 0.4756 - accuracy: 0.7876 - val_loss: 0.4189 - val_accuracy: 0.8125\n",
            "Epoch 10/100\n",
            "453/453 [==============================] - 70s 154ms/step - loss: 0.4219 - accuracy: 0.8177 - val_loss: 0.4978 - val_accuracy: 0.7865\n",
            "Epoch 11/100\n",
            "453/453 [==============================] - 69s 153ms/step - loss: 0.4514 - accuracy: 0.7954 - val_loss: 0.4671 - val_accuracy: 0.8287\n"
          ],
          "name": "stdout"
        },
        {
          "output_type": "stream",
          "text": [
            "WARNING:absl:Found untraced functions such as lstm_cell_7_layer_call_and_return_conditional_losses, lstm_cell_7_layer_call_fn, lstm_cell_8_layer_call_and_return_conditional_losses, lstm_cell_8_layer_call_fn, lstm_cell_10_layer_call_and_return_conditional_losses while saving (showing 5 of 20). These functions will not be directly callable after loading.\n",
            "WARNING:absl:Found untraced functions such as lstm_cell_7_layer_call_and_return_conditional_losses, lstm_cell_7_layer_call_fn, lstm_cell_8_layer_call_and_return_conditional_losses, lstm_cell_8_layer_call_fn, lstm_cell_10_layer_call_and_return_conditional_losses while saving (showing 5 of 20). These functions will not be directly callable after loading.\n"
          ],
          "name": "stderr"
        },
        {
          "output_type": "stream",
          "text": [
            "INFO:tensorflow:Assets written to: /content/drive/My Drive/data/LSTM302.cv.1.best/assets\n"
          ],
          "name": "stdout"
        },
        {
          "output_type": "stream",
          "text": [
            "INFO:tensorflow:Assets written to: /content/drive/My Drive/data/LSTM302.cv.1.best/assets\n"
          ],
          "name": "stderr"
        },
        {
          "output_type": "stream",
          "text": [
            "Epoch 12/100\n",
            "453/453 [==============================] - 70s 154ms/step - loss: 0.4661 - accuracy: 0.7978 - val_loss: 0.3663 - val_accuracy: 0.8504\n"
          ],
          "name": "stdout"
        },
        {
          "output_type": "stream",
          "text": [
            "WARNING:absl:Found untraced functions such as lstm_cell_7_layer_call_and_return_conditional_losses, lstm_cell_7_layer_call_fn, lstm_cell_8_layer_call_and_return_conditional_losses, lstm_cell_8_layer_call_fn, lstm_cell_10_layer_call_and_return_conditional_losses while saving (showing 5 of 20). These functions will not be directly callable after loading.\n",
            "WARNING:absl:Found untraced functions such as lstm_cell_7_layer_call_and_return_conditional_losses, lstm_cell_7_layer_call_fn, lstm_cell_8_layer_call_and_return_conditional_losses, lstm_cell_8_layer_call_fn, lstm_cell_10_layer_call_and_return_conditional_losses while saving (showing 5 of 20). These functions will not be directly callable after loading.\n"
          ],
          "name": "stderr"
        },
        {
          "output_type": "stream",
          "text": [
            "INFO:tensorflow:Assets written to: /content/drive/My Drive/data/LSTM302.cv.1.best/assets\n"
          ],
          "name": "stdout"
        },
        {
          "output_type": "stream",
          "text": [
            "INFO:tensorflow:Assets written to: /content/drive/My Drive/data/LSTM302.cv.1.best/assets\n"
          ],
          "name": "stderr"
        },
        {
          "output_type": "stream",
          "text": [
            "Epoch 13/100\n",
            "453/453 [==============================] - 70s 155ms/step - loss: 0.4073 - accuracy: 0.8278 - val_loss: 0.3599 - val_accuracy: 0.8473\n",
            "Epoch 14/100\n",
            "453/453 [==============================] - 70s 154ms/step - loss: 0.3943 - accuracy: 0.8334 - val_loss: 0.3303 - val_accuracy: 0.8647\n"
          ],
          "name": "stdout"
        },
        {
          "output_type": "stream",
          "text": [
            "WARNING:absl:Found untraced functions such as lstm_cell_7_layer_call_and_return_conditional_losses, lstm_cell_7_layer_call_fn, lstm_cell_8_layer_call_and_return_conditional_losses, lstm_cell_8_layer_call_fn, lstm_cell_10_layer_call_and_return_conditional_losses while saving (showing 5 of 20). These functions will not be directly callable after loading.\n",
            "WARNING:absl:Found untraced functions such as lstm_cell_7_layer_call_and_return_conditional_losses, lstm_cell_7_layer_call_fn, lstm_cell_8_layer_call_and_return_conditional_losses, lstm_cell_8_layer_call_fn, lstm_cell_10_layer_call_and_return_conditional_losses while saving (showing 5 of 20). These functions will not be directly callable after loading.\n"
          ],
          "name": "stderr"
        },
        {
          "output_type": "stream",
          "text": [
            "INFO:tensorflow:Assets written to: /content/drive/My Drive/data/LSTM302.cv.1.best/assets\n"
          ],
          "name": "stdout"
        },
        {
          "output_type": "stream",
          "text": [
            "INFO:tensorflow:Assets written to: /content/drive/My Drive/data/LSTM302.cv.1.best/assets\n"
          ],
          "name": "stderr"
        },
        {
          "output_type": "stream",
          "text": [
            "Epoch 15/100\n",
            "453/453 [==============================] - 70s 154ms/step - loss: 0.3766 - accuracy: 0.8387 - val_loss: 0.3245 - val_accuracy: 0.8653\n"
          ],
          "name": "stdout"
        },
        {
          "output_type": "stream",
          "text": [
            "WARNING:absl:Found untraced functions such as lstm_cell_7_layer_call_and_return_conditional_losses, lstm_cell_7_layer_call_fn, lstm_cell_8_layer_call_and_return_conditional_losses, lstm_cell_8_layer_call_fn, lstm_cell_10_layer_call_and_return_conditional_losses while saving (showing 5 of 20). These functions will not be directly callable after loading.\n",
            "WARNING:absl:Found untraced functions such as lstm_cell_7_layer_call_and_return_conditional_losses, lstm_cell_7_layer_call_fn, lstm_cell_8_layer_call_and_return_conditional_losses, lstm_cell_8_layer_call_fn, lstm_cell_10_layer_call_and_return_conditional_losses while saving (showing 5 of 20). These functions will not be directly callable after loading.\n"
          ],
          "name": "stderr"
        },
        {
          "output_type": "stream",
          "text": [
            "INFO:tensorflow:Assets written to: /content/drive/My Drive/data/LSTM302.cv.1.best/assets\n"
          ],
          "name": "stdout"
        },
        {
          "output_type": "stream",
          "text": [
            "INFO:tensorflow:Assets written to: /content/drive/My Drive/data/LSTM302.cv.1.best/assets\n"
          ],
          "name": "stderr"
        },
        {
          "output_type": "stream",
          "text": [
            "Epoch 16/100\n",
            "453/453 [==============================] - 70s 154ms/step - loss: 0.3535 - accuracy: 0.8520 - val_loss: 0.3195 - val_accuracy: 0.8678\n"
          ],
          "name": "stdout"
        },
        {
          "output_type": "stream",
          "text": [
            "WARNING:absl:Found untraced functions such as lstm_cell_7_layer_call_and_return_conditional_losses, lstm_cell_7_layer_call_fn, lstm_cell_8_layer_call_and_return_conditional_losses, lstm_cell_8_layer_call_fn, lstm_cell_10_layer_call_and_return_conditional_losses while saving (showing 5 of 20). These functions will not be directly callable after loading.\n",
            "WARNING:absl:Found untraced functions such as lstm_cell_7_layer_call_and_return_conditional_losses, lstm_cell_7_layer_call_fn, lstm_cell_8_layer_call_and_return_conditional_losses, lstm_cell_8_layer_call_fn, lstm_cell_10_layer_call_and_return_conditional_losses while saving (showing 5 of 20). These functions will not be directly callable after loading.\n"
          ],
          "name": "stderr"
        },
        {
          "output_type": "stream",
          "text": [
            "INFO:tensorflow:Assets written to: /content/drive/My Drive/data/LSTM302.cv.1.best/assets\n"
          ],
          "name": "stdout"
        },
        {
          "output_type": "stream",
          "text": [
            "INFO:tensorflow:Assets written to: /content/drive/My Drive/data/LSTM302.cv.1.best/assets\n"
          ],
          "name": "stderr"
        },
        {
          "output_type": "stream",
          "text": [
            "Epoch 17/100\n",
            "453/453 [==============================] - 70s 155ms/step - loss: 0.3650 - accuracy: 0.8459 - val_loss: 0.3715 - val_accuracy: 0.8448\n",
            "Epoch 18/100\n",
            "453/453 [==============================] - 70s 154ms/step - loss: 0.3563 - accuracy: 0.8432 - val_loss: 0.3054 - val_accuracy: 0.8752\n"
          ],
          "name": "stdout"
        },
        {
          "output_type": "stream",
          "text": [
            "WARNING:absl:Found untraced functions such as lstm_cell_7_layer_call_and_return_conditional_losses, lstm_cell_7_layer_call_fn, lstm_cell_8_layer_call_and_return_conditional_losses, lstm_cell_8_layer_call_fn, lstm_cell_10_layer_call_and_return_conditional_losses while saving (showing 5 of 20). These functions will not be directly callable after loading.\n",
            "WARNING:absl:Found untraced functions such as lstm_cell_7_layer_call_and_return_conditional_losses, lstm_cell_7_layer_call_fn, lstm_cell_8_layer_call_and_return_conditional_losses, lstm_cell_8_layer_call_fn, lstm_cell_10_layer_call_and_return_conditional_losses while saving (showing 5 of 20). These functions will not be directly callable after loading.\n"
          ],
          "name": "stderr"
        },
        {
          "output_type": "stream",
          "text": [
            "INFO:tensorflow:Assets written to: /content/drive/My Drive/data/LSTM302.cv.1.best/assets\n"
          ],
          "name": "stdout"
        },
        {
          "output_type": "stream",
          "text": [
            "INFO:tensorflow:Assets written to: /content/drive/My Drive/data/LSTM302.cv.1.best/assets\n"
          ],
          "name": "stderr"
        },
        {
          "output_type": "stream",
          "text": [
            "Epoch 19/100\n",
            "453/453 [==============================] - 69s 152ms/step - loss: 0.3895 - accuracy: 0.8270 - val_loss: 0.6180 - val_accuracy: 0.6698\n",
            "Epoch 20/100\n",
            "453/453 [==============================] - 70s 155ms/step - loss: 0.5958 - accuracy: 0.6921 - val_loss: 0.5361 - val_accuracy: 0.7331\n",
            "Epoch 21/100\n",
            "453/453 [==============================] - 70s 154ms/step - loss: 0.5412 - accuracy: 0.7326 - val_loss: 0.3993 - val_accuracy: 0.8237\n",
            "Epoch 22/100\n",
            "453/453 [==============================] - 70s 154ms/step - loss: 0.4153 - accuracy: 0.8235 - val_loss: 0.3452 - val_accuracy: 0.8603\n",
            "Epoch 23/100\n",
            "453/453 [==============================] - 70s 154ms/step - loss: 0.3922 - accuracy: 0.8349 - val_loss: 0.3375 - val_accuracy: 0.8616\n",
            "Epoch 24/100\n",
            "453/453 [==============================] - 71s 158ms/step - loss: 0.3711 - accuracy: 0.8423 - val_loss: 0.3197 - val_accuracy: 0.8641\n",
            "Epoch 25/100\n",
            "453/453 [==============================] - 70s 155ms/step - loss: 0.3738 - accuracy: 0.8389 - val_loss: 0.3280 - val_accuracy: 0.8653\n",
            "Epoch 26/100\n",
            "453/453 [==============================] - 70s 154ms/step - loss: 0.3771 - accuracy: 0.8389 - val_loss: 0.3493 - val_accuracy: 0.8492\n",
            "Epoch 27/100\n",
            "453/453 [==============================] - 70s 154ms/step - loss: 0.3568 - accuracy: 0.8458 - val_loss: 0.3159 - val_accuracy: 0.8653\n",
            "Epoch 28/100\n",
            "453/453 [==============================] - 70s 154ms/step - loss: 0.3536 - accuracy: 0.8509 - val_loss: 0.3297 - val_accuracy: 0.8603\n",
            "Epoch 29/100\n",
            "453/453 [==============================] - 70s 155ms/step - loss: 0.3590 - accuracy: 0.8464 - val_loss: 0.3097 - val_accuracy: 0.8696\n",
            "Epoch 30/100\n",
            "453/453 [==============================] - 70s 155ms/step - loss: 0.3431 - accuracy: 0.8600 - val_loss: 0.3366 - val_accuracy: 0.8535\n",
            "Epoch 31/100\n",
            "453/453 [==============================] - 70s 154ms/step - loss: 0.3390 - accuracy: 0.8559 - val_loss: 0.3156 - val_accuracy: 0.8734\n",
            "Epoch 32/100\n",
            "453/453 [==============================] - 70s 155ms/step - loss: 0.3437 - accuracy: 0.8544 - val_loss: 0.3114 - val_accuracy: 0.8734\n",
            "Epoch 33/100\n",
            "453/453 [==============================] - 70s 153ms/step - loss: 0.3393 - accuracy: 0.8575 - val_loss: 0.3226 - val_accuracy: 0.8653\n",
            "Epoch 34/100\n",
            "453/453 [==============================] - 71s 156ms/step - loss: 0.3291 - accuracy: 0.8616 - val_loss: 0.3030 - val_accuracy: 0.8721\n",
            "Epoch 35/100\n",
            "453/453 [==============================] - 70s 154ms/step - loss: 0.3895 - accuracy: 0.8259 - val_loss: 0.5645 - val_accuracy: 0.7120\n",
            "Epoch 36/100\n",
            "453/453 [==============================] - 70s 155ms/step - loss: 0.5063 - accuracy: 0.7576 - val_loss: 0.3793 - val_accuracy: 0.8423\n",
            "Epoch 37/100\n",
            "453/453 [==============================] - 70s 155ms/step - loss: 0.3761 - accuracy: 0.8359 - val_loss: 0.3322 - val_accuracy: 0.8727\n",
            "Epoch 38/100\n",
            "453/453 [==============================] - 70s 156ms/step - loss: 0.3602 - accuracy: 0.8447 - val_loss: 0.3227 - val_accuracy: 0.8585\n",
            "Epoch 39/100\n",
            "453/453 [==============================] - 71s 156ms/step - loss: 0.3502 - accuracy: 0.8490 - val_loss: 0.3155 - val_accuracy: 0.8740\n",
            "Epoch 40/100\n",
            "453/453 [==============================] - 70s 155ms/step - loss: 0.3512 - accuracy: 0.8526 - val_loss: 0.3341 - val_accuracy: 0.8616\n",
            "Epoch 41/100\n",
            "453/453 [==============================] - 71s 156ms/step - loss: 0.3471 - accuracy: 0.8536 - val_loss: 0.3069 - val_accuracy: 0.8740\n",
            "Epoch 42/100\n",
            "453/453 [==============================] - 70s 155ms/step - loss: 0.3311 - accuracy: 0.8614 - val_loss: 0.3073 - val_accuracy: 0.8759\n"
          ],
          "name": "stdout"
        },
        {
          "output_type": "stream",
          "text": [
            "WARNING:absl:Found untraced functions such as lstm_cell_7_layer_call_and_return_conditional_losses, lstm_cell_7_layer_call_fn, lstm_cell_8_layer_call_and_return_conditional_losses, lstm_cell_8_layer_call_fn, lstm_cell_10_layer_call_and_return_conditional_losses while saving (showing 5 of 20). These functions will not be directly callable after loading.\n",
            "WARNING:absl:Found untraced functions such as lstm_cell_7_layer_call_and_return_conditional_losses, lstm_cell_7_layer_call_fn, lstm_cell_8_layer_call_and_return_conditional_losses, lstm_cell_8_layer_call_fn, lstm_cell_10_layer_call_and_return_conditional_losses while saving (showing 5 of 20). These functions will not be directly callable after loading.\n"
          ],
          "name": "stderr"
        },
        {
          "output_type": "stream",
          "text": [
            "INFO:tensorflow:Assets written to: /content/drive/My Drive/data/LSTM302.cv.1.best/assets\n"
          ],
          "name": "stdout"
        },
        {
          "output_type": "stream",
          "text": [
            "INFO:tensorflow:Assets written to: /content/drive/My Drive/data/LSTM302.cv.1.best/assets\n"
          ],
          "name": "stderr"
        },
        {
          "output_type": "stream",
          "text": [
            "Epoch 43/100\n",
            "453/453 [==============================] - 71s 156ms/step - loss: 0.3283 - accuracy: 0.8684 - val_loss: 0.3086 - val_accuracy: 0.8740\n",
            "Epoch 44/100\n",
            "453/453 [==============================] - 70s 155ms/step - loss: 0.3298 - accuracy: 0.8616 - val_loss: 0.3108 - val_accuracy: 0.8659\n",
            "Epoch 45/100\n",
            "453/453 [==============================] - 71s 156ms/step - loss: 0.3219 - accuracy: 0.8628 - val_loss: 0.3091 - val_accuracy: 0.8715\n",
            "Epoch 46/100\n",
            "453/453 [==============================] - 70s 155ms/step - loss: 0.3220 - accuracy: 0.8664 - val_loss: 0.3146 - val_accuracy: 0.8746\n",
            "Epoch 47/100\n",
            "453/453 [==============================] - 71s 157ms/step - loss: 0.3208 - accuracy: 0.8663 - val_loss: 0.3260 - val_accuracy: 0.8659\n",
            "Epoch 48/100\n",
            "453/453 [==============================] - 70s 155ms/step - loss: 0.3179 - accuracy: 0.8675 - val_loss: 0.3358 - val_accuracy: 0.8510\n",
            "Epoch 49/100\n",
            "453/453 [==============================] - 71s 157ms/step - loss: 0.3241 - accuracy: 0.8653 - val_loss: 0.3108 - val_accuracy: 0.8802\n"
          ],
          "name": "stdout"
        },
        {
          "output_type": "stream",
          "text": [
            "WARNING:absl:Found untraced functions such as lstm_cell_7_layer_call_and_return_conditional_losses, lstm_cell_7_layer_call_fn, lstm_cell_8_layer_call_and_return_conditional_losses, lstm_cell_8_layer_call_fn, lstm_cell_10_layer_call_and_return_conditional_losses while saving (showing 5 of 20). These functions will not be directly callable after loading.\n",
            "WARNING:absl:Found untraced functions such as lstm_cell_7_layer_call_and_return_conditional_losses, lstm_cell_7_layer_call_fn, lstm_cell_8_layer_call_and_return_conditional_losses, lstm_cell_8_layer_call_fn, lstm_cell_10_layer_call_and_return_conditional_losses while saving (showing 5 of 20). These functions will not be directly callable after loading.\n"
          ],
          "name": "stderr"
        },
        {
          "output_type": "stream",
          "text": [
            "INFO:tensorflow:Assets written to: /content/drive/My Drive/data/LSTM302.cv.1.best/assets\n"
          ],
          "name": "stdout"
        },
        {
          "output_type": "stream",
          "text": [
            "INFO:tensorflow:Assets written to: /content/drive/My Drive/data/LSTM302.cv.1.best/assets\n"
          ],
          "name": "stderr"
        },
        {
          "output_type": "stream",
          "text": [
            "Epoch 50/100\n",
            "453/453 [==============================] - 71s 156ms/step - loss: 0.3103 - accuracy: 0.8726 - val_loss: 0.3118 - val_accuracy: 0.8814\n"
          ],
          "name": "stdout"
        },
        {
          "output_type": "stream",
          "text": [
            "WARNING:absl:Found untraced functions such as lstm_cell_7_layer_call_and_return_conditional_losses, lstm_cell_7_layer_call_fn, lstm_cell_8_layer_call_and_return_conditional_losses, lstm_cell_8_layer_call_fn, lstm_cell_10_layer_call_and_return_conditional_losses while saving (showing 5 of 20). These functions will not be directly callable after loading.\n",
            "WARNING:absl:Found untraced functions such as lstm_cell_7_layer_call_and_return_conditional_losses, lstm_cell_7_layer_call_fn, lstm_cell_8_layer_call_and_return_conditional_losses, lstm_cell_8_layer_call_fn, lstm_cell_10_layer_call_and_return_conditional_losses while saving (showing 5 of 20). These functions will not be directly callable after loading.\n"
          ],
          "name": "stderr"
        },
        {
          "output_type": "stream",
          "text": [
            "INFO:tensorflow:Assets written to: /content/drive/My Drive/data/LSTM302.cv.1.best/assets\n"
          ],
          "name": "stdout"
        },
        {
          "output_type": "stream",
          "text": [
            "INFO:tensorflow:Assets written to: /content/drive/My Drive/data/LSTM302.cv.1.best/assets\n"
          ],
          "name": "stderr"
        },
        {
          "output_type": "stream",
          "text": [
            "Epoch 51/100\n",
            "453/453 [==============================] - 71s 156ms/step - loss: 0.3098 - accuracy: 0.8734 - val_loss: 0.3329 - val_accuracy: 0.8547\n",
            "Epoch 52/100\n",
            "453/453 [==============================] - 71s 156ms/step - loss: 0.2949 - accuracy: 0.8811 - val_loss: 0.3010 - val_accuracy: 0.8827\n"
          ],
          "name": "stdout"
        },
        {
          "output_type": "stream",
          "text": [
            "WARNING:absl:Found untraced functions such as lstm_cell_7_layer_call_and_return_conditional_losses, lstm_cell_7_layer_call_fn, lstm_cell_8_layer_call_and_return_conditional_losses, lstm_cell_8_layer_call_fn, lstm_cell_10_layer_call_and_return_conditional_losses while saving (showing 5 of 20). These functions will not be directly callable after loading.\n",
            "WARNING:absl:Found untraced functions such as lstm_cell_7_layer_call_and_return_conditional_losses, lstm_cell_7_layer_call_fn, lstm_cell_8_layer_call_and_return_conditional_losses, lstm_cell_8_layer_call_fn, lstm_cell_10_layer_call_and_return_conditional_losses while saving (showing 5 of 20). These functions will not be directly callable after loading.\n"
          ],
          "name": "stderr"
        },
        {
          "output_type": "stream",
          "text": [
            "INFO:tensorflow:Assets written to: /content/drive/My Drive/data/LSTM302.cv.1.best/assets\n"
          ],
          "name": "stdout"
        },
        {
          "output_type": "stream",
          "text": [
            "INFO:tensorflow:Assets written to: /content/drive/My Drive/data/LSTM302.cv.1.best/assets\n"
          ],
          "name": "stderr"
        },
        {
          "output_type": "stream",
          "text": [
            "Epoch 53/100\n",
            "453/453 [==============================] - 71s 156ms/step - loss: 0.3165 - accuracy: 0.8681 - val_loss: 0.3166 - val_accuracy: 0.8709\n",
            "Epoch 54/100\n",
            "453/453 [==============================] - 71s 158ms/step - loss: 0.3064 - accuracy: 0.8776 - val_loss: 0.2974 - val_accuracy: 0.8808\n",
            "Epoch 55/100\n",
            "453/453 [==============================] - 71s 156ms/step - loss: 0.3012 - accuracy: 0.8797 - val_loss: 0.3079 - val_accuracy: 0.8802\n",
            "Epoch 56/100\n",
            "453/453 [==============================] - 71s 157ms/step - loss: 0.3022 - accuracy: 0.8812 - val_loss: 0.3099 - val_accuracy: 0.8802\n",
            "Epoch 57/100\n",
            "453/453 [==============================] - 71s 156ms/step - loss: 0.2913 - accuracy: 0.8851 - val_loss: 0.3179 - val_accuracy: 0.8684\n",
            "Epoch 58/100\n",
            "453/453 [==============================] - 71s 156ms/step - loss: 0.2817 - accuracy: 0.8871 - val_loss: 0.3103 - val_accuracy: 0.8777\n",
            "Epoch 59/100\n",
            "453/453 [==============================] - 71s 156ms/step - loss: 0.2907 - accuracy: 0.8805 - val_loss: 0.3132 - val_accuracy: 0.8746\n",
            "Epoch 60/100\n",
            "453/453 [==============================] - 71s 156ms/step - loss: 0.2948 - accuracy: 0.8784 - val_loss: 0.3266 - val_accuracy: 0.8641\n",
            "Epoch 61/100\n",
            "453/453 [==============================] - 71s 157ms/step - loss: 0.2939 - accuracy: 0.8778 - val_loss: 0.3102 - val_accuracy: 0.8808\n",
            "Epoch 62/100\n",
            "453/453 [==============================] - 71s 157ms/step - loss: 0.2884 - accuracy: 0.8860 - val_loss: 0.3471 - val_accuracy: 0.8516\n",
            "Epoch 63/100\n",
            "453/453 [==============================] - 71s 157ms/step - loss: 0.2762 - accuracy: 0.8907 - val_loss: 0.3106 - val_accuracy: 0.8709\n",
            "Epoch 64/100\n",
            "453/453 [==============================] - 71s 157ms/step - loss: 0.2801 - accuracy: 0.8850 - val_loss: 0.3162 - val_accuracy: 0.8746\n",
            "Epoch 65/100\n",
            "453/453 [==============================] - 71s 156ms/step - loss: 0.2768 - accuracy: 0.8895 - val_loss: 0.3086 - val_accuracy: 0.8740\n",
            "Epoch 66/100\n",
            "453/453 [==============================] - 71s 157ms/step - loss: 0.2810 - accuracy: 0.8844 - val_loss: 0.3057 - val_accuracy: 0.8777\n",
            "Epoch 67/100\n",
            "453/453 [==============================] - 71s 157ms/step - loss: 0.2683 - accuracy: 0.8920 - val_loss: 0.3269 - val_accuracy: 0.8678\n",
            "Epoch 68/100\n",
            "453/453 [==============================] - 71s 156ms/step - loss: 0.2698 - accuracy: 0.8921 - val_loss: 0.3189 - val_accuracy: 0.8715\n",
            "Epoch 69/100\n",
            "453/453 [==============================] - 71s 157ms/step - loss: 0.2730 - accuracy: 0.8911 - val_loss: 0.3193 - val_accuracy: 0.8696\n",
            "Epoch 70/100\n",
            "453/453 [==============================] - 71s 157ms/step - loss: 0.2637 - accuracy: 0.8976 - val_loss: 0.3227 - val_accuracy: 0.8709\n",
            "Epoch 71/100\n",
            "453/453 [==============================] - 72s 158ms/step - loss: 0.2634 - accuracy: 0.8917 - val_loss: 0.3172 - val_accuracy: 0.8665\n",
            "Epoch 72/100\n",
            "453/453 [==============================] - 71s 157ms/step - loss: 0.2556 - accuracy: 0.9007 - val_loss: 0.3366 - val_accuracy: 0.8709\n",
            "Epoch 73/100\n",
            "453/453 [==============================] - 72s 158ms/step - loss: 0.2514 - accuracy: 0.9025 - val_loss: 0.3067 - val_accuracy: 0.8796\n",
            "Epoch 74/100\n",
            "453/453 [==============================] - 71s 157ms/step - loss: 0.2500 - accuracy: 0.9031 - val_loss: 0.3210 - val_accuracy: 0.8653\n",
            "Epoch 75/100\n",
            "453/453 [==============================] - 72s 159ms/step - loss: 0.2715 - accuracy: 0.8907 - val_loss: 0.3506 - val_accuracy: 0.8572\n",
            "Epoch 76/100\n",
            "453/453 [==============================] - 72s 159ms/step - loss: 0.2532 - accuracy: 0.8997 - val_loss: 0.3226 - val_accuracy: 0.8690\n",
            "Epoch 77/100\n",
            "453/453 [==============================] - 72s 159ms/step - loss: 0.2405 - accuracy: 0.9032 - val_loss: 0.3438 - val_accuracy: 0.8703\n",
            "Epoch 78/100\n",
            "453/453 [==============================] - 71s 158ms/step - loss: 0.2450 - accuracy: 0.9009 - val_loss: 0.3645 - val_accuracy: 0.8653\n",
            "Epoch 79/100\n",
            "453/453 [==============================] - 71s 157ms/step - loss: 0.2455 - accuracy: 0.9032 - val_loss: 0.3236 - val_accuracy: 0.8703\n",
            "Epoch 80/100\n",
            "453/453 [==============================] - 72s 159ms/step - loss: 0.2383 - accuracy: 0.9076 - val_loss: 0.3380 - val_accuracy: 0.8622\n",
            "Epoch 81/100\n",
            "453/453 [==============================] - 71s 157ms/step - loss: 0.2373 - accuracy: 0.9100 - val_loss: 0.3419 - val_accuracy: 0.8684\n",
            "Epoch 82/100\n",
            "453/453 [==============================] - 72s 159ms/step - loss: 0.2285 - accuracy: 0.9122 - val_loss: 0.3367 - val_accuracy: 0.8647\n",
            "Epoch 83/100\n",
            "453/453 [==============================] - 71s 158ms/step - loss: 0.2370 - accuracy: 0.9042 - val_loss: 0.3302 - val_accuracy: 0.8628\n",
            "Epoch 84/100\n",
            "453/453 [==============================] - 71s 158ms/step - loss: 0.2382 - accuracy: 0.9046 - val_loss: 0.3665 - val_accuracy: 0.8634\n",
            "Epoch 85/100\n",
            "453/453 [==============================] - 72s 158ms/step - loss: 0.2311 - accuracy: 0.9104 - val_loss: 0.3347 - val_accuracy: 0.8746\n",
            "Epoch 86/100\n",
            "453/453 [==============================] - 71s 157ms/step - loss: 0.2268 - accuracy: 0.9120 - val_loss: 0.3433 - val_accuracy: 0.8684\n",
            "Epoch 87/100\n",
            "453/453 [==============================] - 71s 157ms/step - loss: 0.2327 - accuracy: 0.9079 - val_loss: 0.3740 - val_accuracy: 0.8454\n",
            "Epoch 88/100\n",
            "453/453 [==============================] - 71s 157ms/step - loss: 0.2353 - accuracy: 0.9071 - val_loss: 0.3415 - val_accuracy: 0.8665\n",
            "Epoch 89/100\n",
            "453/453 [==============================] - 72s 159ms/step - loss: 0.2186 - accuracy: 0.9134 - val_loss: 0.3445 - val_accuracy: 0.8696\n",
            "Epoch 90/100\n",
            "453/453 [==============================] - 71s 156ms/step - loss: 0.2248 - accuracy: 0.9107 - val_loss: 0.3524 - val_accuracy: 0.8554\n",
            "Epoch 91/100\n",
            "453/453 [==============================] - 72s 158ms/step - loss: 0.2225 - accuracy: 0.9167 - val_loss: 0.3488 - val_accuracy: 0.8672\n",
            "Epoch 92/100\n",
            "453/453 [==============================] - 71s 156ms/step - loss: 0.2176 - accuracy: 0.9141 - val_loss: 0.3693 - val_accuracy: 0.8659\n",
            "Epoch 93/100\n",
            "453/453 [==============================] - 71s 157ms/step - loss: 0.2137 - accuracy: 0.9152 - val_loss: 0.3951 - val_accuracy: 0.8516\n",
            "Epoch 94/100\n",
            "453/453 [==============================] - 71s 157ms/step - loss: 0.2166 - accuracy: 0.9156 - val_loss: 0.3615 - val_accuracy: 0.8560\n",
            "Epoch 95/100\n",
            "453/453 [==============================] - 71s 158ms/step - loss: 0.2101 - accuracy: 0.9221 - val_loss: 0.3642 - val_accuracy: 0.8585\n",
            "Epoch 96/100\n",
            "453/453 [==============================] - 71s 157ms/step - loss: 0.2088 - accuracy: 0.9195 - val_loss: 0.3925 - val_accuracy: 0.8647\n",
            "Epoch 97/100\n",
            "453/453 [==============================] - 71s 158ms/step - loss: 0.2104 - accuracy: 0.9139 - val_loss: 0.3704 - val_accuracy: 0.8610\n",
            "Epoch 98/100\n",
            "453/453 [==============================] - 72s 159ms/step - loss: 0.1985 - accuracy: 0.9219 - val_loss: 0.3839 - val_accuracy: 0.8659\n",
            "Epoch 99/100\n",
            "453/453 [==============================] - 72s 158ms/step - loss: 0.1984 - accuracy: 0.9268 - val_loss: 0.3758 - val_accuracy: 0.8610\n",
            "Epoch 100/100\n",
            "453/453 [==============================] - 72s 158ms/step - loss: 0.1968 - accuracy: 0.9245 - val_loss: 0.3598 - val_accuracy: 0.8659\n",
            "Fold 1, 100 epochs, 7634 sec\n"
          ],
          "name": "stdout"
        },
        {
          "output_type": "display_data",
          "data": {
            "image/png": "[encoded data removed]",
            "text/plain": [
              "<Figure size 576x360 with 1 Axes>"
            ]
          },
          "metadata": {
            "tags": [],
            "needs_background": "light"
          }
        },
        {
          "output_type": "stream",
          "text": [
            "accuracy: 88.27%\n",
            "\n",
            "1-way Cross Validation mean 88.27% (+/- 0.00%)\n",
            "Done\n"
          ],
          "name": "stdout"
        }
      ]
    },
    {
      "cell_type": "code",
      "metadata": {
        "id": "p4fh2GI8beMQ"
      },
      "source": [
        ""
      ],
      "execution_count": 10,
      "outputs": []
    }
  ]
}