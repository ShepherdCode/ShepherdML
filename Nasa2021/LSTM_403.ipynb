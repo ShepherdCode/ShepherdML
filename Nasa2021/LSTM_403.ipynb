{
  "nbformat": 4,
  "nbformat_minor": 0,
  "metadata": {
    "accelerator": "GPU",
    "colab": {
      "name": "LSTM_403.ipynb",
      "provenance": [],
      "collapsed_sections": [],
      "include_colab_link": true
    },
    "kernelspec": {
      "display_name": "Python 3",
      "language": "python",
      "name": "python3"
    },
    "language_info": {
      "codemirror_mode": {
        "name": "ipython",
        "version": 3
      },
      "file_extension": ".py",
      "mimetype": "text/x-python",
      "name": "python",
      "nbconvert_exporter": "python",
      "pygments_lexer": "ipython3",
      "version": "3.8.3"
    }
  },
  "cells": [
    {
      "cell_type": "markdown",
      "metadata": {
        "id": "view-in-github",
        "colab_type": "text"
      },
      "source": [
        "<a href=\"https://colab.research.google.com/github/ShepherdCode/ShepherdML/blob/master/Nasa2021/LSTM_403.ipynb\" target=\"_parent\"><img src=\"https://colab.research.google.com/assets/colab-badge.svg\" alt=\"Open In Colab\"/></a>"
      ]
    },
    {
      "cell_type": "markdown",
      "metadata": {
        "id": "ojm_6E9f9Kcf"
      },
      "source": [
        "# LSTM 403\n",
        "Start with LSTM 201 and modify it to use our updated code infrastructure."
      ]
    },
    {
      "cell_type": "code",
      "metadata": {
        "colab": {
          "base_uri": "https://localhost:8080/"
        },
        "id": "hh6XplUvC0j0",
        "outputId": "9185f5e0-4156-407d-b0a9-7bba351ab9a9"
      },
      "source": [
        "NC_FILENAME='ncRNA.gc34.processed.fasta'\n",
        "PC_FILENAME='pcRNA.gc34.processed.fasta'\n",
        "MODEL_FILE='LSTM302'   # load not save!\n",
        "DATAPATH=''\n",
        "\n",
        "try:\n",
        "    from google.colab import drive\n",
        "    IN_COLAB = True\n",
        "    PATH='/content/drive/'\n",
        "    drive.mount(PATH)\n",
        "    DATAPATH=PATH+'My Drive/data/'  # must end in \"/\"\n",
        "except:\n",
        "    IN_COLAB = False\n",
        "    DATAPATH='data/'  # must end in \"/\"\n",
        "NC_FILENAME = DATAPATH+NC_FILENAME\n",
        "PC_FILENAME = DATAPATH+PC_FILENAME\n",
        "MODEL_FILE=DATAPATH+MODEL_FILE\n",
        "\n",
        "EPOCHS=100\n",
        "SPLITS=1\n",
        "K=3\n",
        "VOCABULARY_SIZE=4**K+1   # e.g. K=3 => 64 DNA K-mers + 'NNN'\n",
        "EMBED_DIMEN=16\n",
        "NEURONS=64\n",
        "DROP=0.4\n",
        "ACT=\"tanh\""
      ],
      "execution_count": 10,
      "outputs": [
        {
          "output_type": "stream",
          "text": [
            "Drive already mounted at /content/drive/; to attempt to forcibly remount, call drive.mount(\"/content/drive/\", force_remount=True).\n"
          ],
          "name": "stdout"
        }
      ]
    },
    {
      "cell_type": "code",
      "metadata": {
        "colab": {
          "base_uri": "https://localhost:8080/"
        },
        "id": "e9TY3HK9ZklE",
        "outputId": "40943158-5681-4c0b-f01a-e5ad6d91cfb0"
      },
      "source": [
        "# Load our own tools\n",
        "GITHUB = True\n",
        "if GITHUB:\n",
        "    #!pip install requests  # Uncomment this if necessary. Seems to be pre-installed.\n",
        "    import requests\n",
        "    r = requests.get('https://raw.githubusercontent.com/ShepherdCode/ShepherdML/master/Strings/tools_fasta.py')\n",
        "    with open('tools_fasta.py', 'w') as f:\n",
        "        f.write(r.text)\n",
        "    # TO DO: delete the file after import\n",
        "import tools_fasta as tools\n",
        "tools.yahoo()  # If this prints \"Yahoo!\" the the import was successful.\n",
        "\n",
        "TOOLS_CHANGED = False   # set to True to re-run with a new version of tools\n",
        "if TOOLS_CHANGED:\n",
        "  from importlib import reload \n",
        "  tools=reload(tools)\n",
        "  print(dir(tools))   # run this to see EVERYTHING in the tools module"
      ],
      "execution_count": 11,
      "outputs": [
        {
          "output_type": "stream",
          "text": [
            "Yahoo!\n"
          ],
          "name": "stdout"
        }
      ]
    },
    {
      "cell_type": "code",
      "metadata": {
        "id": "VQY7aTj29Kch"
      },
      "source": [
        "import numpy as np\n",
        "import pandas as pd\n",
        "import matplotlib.pyplot as plt\n",
        "from sklearn.model_selection import ShuffleSplit\n",
        "from sklearn.model_selection import cross_val_score\n",
        "from sklearn.model_selection import RepeatedKFold\n",
        "from sklearn.model_selection import StratifiedKFold\n",
        "import tensorflow as tf\n",
        "from tensorflow import keras\n",
        "#from keras.wrappers.scikit_learn import KerasRegressor\n",
        "from keras.models import Sequential\n",
        "from keras.layers import Bidirectional\n",
        "from keras.layers import GRU\n",
        "from keras.layers import Dense\n",
        "from keras.layers import LayerNormalization\n",
        "import time\n",
        "dt='float32'\n",
        "tf.keras.backend.set_floatx(dt)"
      ],
      "execution_count": 12,
      "outputs": []
    },
    {
      "cell_type": "markdown",
      "metadata": {
        "id": "j7jcg6Wl9Kc2"
      },
      "source": [
        "Build model"
      ]
    },
    {
      "cell_type": "code",
      "metadata": {
        "id": "qLFNO1Xa9Kc3"
      },
      "source": [
        "def compile_model(model):\n",
        "    adam_default_learn_rate = 0.001\n",
        "    schedule = tf.keras.optimizers.schedules.ExponentialDecay(\n",
        "        initial_learning_rate = adam_default_learn_rate*10,\n",
        "        #decay_steps=100000, decay_rate=0.96, staircase=True)\n",
        "        decay_steps=10000, decay_rate=0.99, staircase=True)\n",
        "    # learn rate = initial_learning_rate * decay_rate ^ (step / decay_steps)\n",
        "    alrd = tf.keras.optimizers.Adam(learning_rate=schedule)\n",
        "    bc=tf.keras.losses.BinaryCrossentropy(from_logits=False)\n",
        "    print(\"COMPILE...\")\n",
        "    #model.compile(loss=bc, optimizer=alrd, metrics=[\"accuracy\"])\n",
        "    model.compile(loss=bc, optimizer=\"adam\", metrics=[\"accuracy\"])\n",
        "    print(\"...COMPILED\")\n",
        "    return model\n",
        "\n",
        "def build_model():\n",
        "    embed_layer  = keras.layers.Embedding(\n",
        "        #VOCABULARY_SIZE, EMBED_DIMEN, input_length=1000, input_length=1000, mask_zero=True)\n",
        "        #input_dim=[None,VOCABULARY_SIZE], output_dim=EMBED_DIMEN, mask_zero=True)\n",
        "        input_dim=VOCABULARY_SIZE, output_dim=EMBED_DIMEN, mask_zero=True)\n",
        "    rnn1_layer = keras.layers.Bidirectional(\n",
        "      keras.layers.LSTM(NEURONS, return_sequences=True, \n",
        "          input_shape=[1000,EMBED_DIMEN], activation=ACT, dropout=DROP) )#bi\n",
        "    rnn2_layer = keras.layers.Bidirectional(\n",
        "      keras.layers.LSTM(NEURONS, return_sequences=False, \n",
        "        activation=ACT, dropout=DROP) )#bi\n",
        "    dense1_layer = keras.layers.Dense(NEURONS, activation=ACT,dtype=dt)\n",
        "    drop1_layer = keras.layers.Dropout(DROP)\n",
        "    dense2_layer = keras.layers.Dense(NEURONS, activation=ACT,dtype=dt)\n",
        "    drop2_layer = keras.layers.Dropout(DROP)\n",
        "    output_layer = keras.layers.Dense(1, activation=\"sigmoid\", dtype=dt)\n",
        "    mlp = keras.models.Sequential()\n",
        "    mlp.add(embed_layer)\n",
        "    mlp.add(rnn1_layer)\n",
        "    mlp.add(rnn2_layer)\n",
        "    mlp.add(dense1_layer)\n",
        "    mlp.add(drop1_layer)\n",
        "    mlp.add(dense2_layer)\n",
        "    mlp.add(drop2_layer)\n",
        "    mlp.add(output_layer)\n",
        "    mlpc = compile_model(mlp)\n",
        "    return mlpc"
      ],
      "execution_count": 13,
      "outputs": []
    },
    {
      "cell_type": "markdown",
      "metadata": {
        "id": "WV6k-xOm9Kcn"
      },
      "source": [
        "Partition sequences"
      ]
    },
    {
      "cell_type": "code",
      "metadata": {
        "id": "1I-O_qzw9Kco"
      },
      "source": [
        "def make_slice(data_set,min_len,max_len):\n",
        "    slice = data_set.query('seqlen <= '+str(max_len)+' & seqlen>= '+str(min_len))\n",
        "    return slice"
      ],
      "execution_count": 14,
      "outputs": []
    },
    {
      "cell_type": "markdown",
      "metadata": {
        "id": "LdIS2utq9Kc9"
      },
      "source": [
        "Cross validation"
      ]
    },
    {
      "cell_type": "code",
      "metadata": {
        "id": "BVo4tbB_9Kc-"
      },
      "source": [
        "def do_cross_validation(X,y,given_model):\n",
        "    cv_scores = []\n",
        "    fold=0\n",
        "    splitter = ShuffleSplit(n_splits=SPLITS, test_size=0.1, random_state=37863)\n",
        "    for train_index,valid_index in splitter.split(X):\n",
        "        fold += 1\n",
        "        X_train=X[train_index] # use iloc[] for dataframe\n",
        "        y_train=y[train_index]\n",
        "        X_valid=X[valid_index]\n",
        "        y_valid=y[valid_index]        \n",
        "        # Avoid continually improving the same model.\n",
        "        model = compile_model(keras.models.clone_model(given_model))\n",
        "        bestname=MODEL_FILE+\".cv.\"+str(fold)+\".best\"\n",
        "        mycallbacks = [keras.callbacks.ModelCheckpoint(\n",
        "            filepath=bestname, save_best_only=True, \n",
        "            monitor='val_accuracy', mode='max')]   \n",
        "        print(\"FIT\")\n",
        "        start_time=time.time()\n",
        "        history=model.fit(X_train, y_train, # batch_size=10, default=32 works nicely\n",
        "                epochs=EPOCHS, verbose=1,  # verbose=1 for ascii art, verbose=0 for none\n",
        "                callbacks=mycallbacks,\n",
        "                validation_data=(X_valid,y_valid) )\n",
        "        end_time=time.time()\n",
        "        elapsed_time=(end_time-start_time)                        \n",
        "        print(\"Fold %d, %d epochs, %d sec\"%(fold,EPOCHS,elapsed_time))\n",
        "        pd.DataFrame(history.history).plot(figsize=(8,5))\n",
        "        plt.grid(True)\n",
        "        plt.gca().set_ylim(0,1)\n",
        "        plt.show()\n",
        "        best_model=keras.models.load_model(bestname)\n",
        "        scores = best_model.evaluate(X_valid, y_valid, verbose=0)\n",
        "        print(\"%s: %.2f%%\" % (best_model.metrics_names[1], scores[1]*100))\n",
        "        cv_scores.append(scores[1] * 100)  \n",
        "    print()\n",
        "    print(\"%d-way Cross Validation mean %.2f%% (+/- %.2f%%)\" % (fold, np.mean(cv_scores), np.std(cv_scores)))"
      ],
      "execution_count": 15,
      "outputs": []
    },
    {
      "cell_type": "markdown",
      "metadata": {
        "id": "qd3Wj_vI9KdP"
      },
      "source": [
        "## Train on RNA lengths 200-1Kb"
      ]
    },
    {
      "cell_type": "code",
      "metadata": {
        "colab": {
          "base_uri": "https://localhost:8080/"
        },
        "id": "f8fNo6sn9KdH",
        "outputId": "d4438fcb-651a-4aa4-fa55-9c4eaefc33fe"
      },
      "source": [
        "MINLEN=200\n",
        "MAXLEN=1000\n",
        "print(\"Load data from files.\")\n",
        "nc_seq=tools.load_fasta(NC_FILENAME,0)\n",
        "pc_seq=tools.load_fasta(PC_FILENAME,1)\n",
        "train_set=pd.concat((nc_seq,pc_seq),axis=0)\n",
        "nc_seq=None\n",
        "pc_seq=None\n",
        "print(\"Ready: train_set\")\n",
        "#train_set\n",
        "subset=make_slice(train_set,MINLEN,MAXLEN)# One array to two: X and y\n",
        "print (\"Data reshape\")\n",
        "(X_train,y_train)=tools.make_kmers(K,MAXLEN,subset)\n",
        "#print (\"Data prep\")\n",
        "#X_train=tools.make_frequencies(K,X_train)"
      ],
      "execution_count": 16,
      "outputs": [
        {
          "output_type": "stream",
          "text": [
            "Load data from files.\n",
            "Ready: train_set\n",
            "Data reshape\n"
          ],
          "name": "stdout"
        }
      ]
    },
    {
      "cell_type": "code",
      "metadata": {
        "colab": {
          "base_uri": "https://localhost:8080/"
        },
        "id": "G1HuSs8ZbeL4",
        "outputId": "21604685-f453-427d-9120-d21ec94331dc"
      },
      "source": [
        "print (\"Compile the model\")\n",
        "model=build_model()\n",
        "print (\"Summarize the model\")\n",
        "print(model.summary())  # Print this only once\n",
        "model.save(MODEL_FILE+'.model')\n"
      ],
      "execution_count": 17,
      "outputs": [
        {
          "output_type": "stream",
          "text": [
            "Compile the model\n",
            "COMPILE...\n",
            "...COMPILED\n",
            "Summarize the model\n",
            "Model: \"sequential_1\"\n",
            "_________________________________________________________________\n",
            "Layer (type)                 Output Shape              Param #   \n",
            "=================================================================\n",
            "embedding_1 (Embedding)      (None, None, 16)          1040      \n",
            "_________________________________________________________________\n",
            "bidirectional_2 (Bidirection (None, None, 128)         41472     \n",
            "_________________________________________________________________\n",
            "bidirectional_3 (Bidirection (None, 128)               98816     \n",
            "_________________________________________________________________\n",
            "dense_3 (Dense)              (None, 64)                8256      \n",
            "_________________________________________________________________\n",
            "dropout_2 (Dropout)          (None, 64)                0         \n",
            "_________________________________________________________________\n",
            "dense_4 (Dense)              (None, 64)                4160      \n",
            "_________________________________________________________________\n",
            "dropout_3 (Dropout)          (None, 64)                0         \n",
            "_________________________________________________________________\n",
            "dense_5 (Dense)              (None, 1)                 65        \n",
            "=================================================================\n",
            "Total params: 153,809\n",
            "Trainable params: 153,809\n",
            "Non-trainable params: 0\n",
            "_________________________________________________________________\n",
            "None\n"
          ],
          "name": "stdout"
        },
        {
          "output_type": "stream",
          "text": [
            "WARNING:absl:Found untraced functions such as lstm_cell_19_layer_call_fn, lstm_cell_19_layer_call_and_return_conditional_losses, lstm_cell_20_layer_call_fn, lstm_cell_20_layer_call_and_return_conditional_losses, lstm_cell_22_layer_call_fn while saving (showing 5 of 20). These functions will not be directly callable after loading.\n",
            "WARNING:absl:Found untraced functions such as lstm_cell_19_layer_call_fn, lstm_cell_19_layer_call_and_return_conditional_losses, lstm_cell_20_layer_call_fn, lstm_cell_20_layer_call_and_return_conditional_losses, lstm_cell_22_layer_call_fn while saving (showing 5 of 20). These functions will not be directly callable after loading.\n"
          ],
          "name": "stderr"
        },
        {
          "output_type": "stream",
          "text": [
            "INFO:tensorflow:Assets written to: /content/drive/My Drive/data/LSTM302.model/assets\n"
          ],
          "name": "stdout"
        },
        {
          "output_type": "stream",
          "text": [
            "INFO:tensorflow:Assets written to: /content/drive/My Drive/data/LSTM302.model/assets\n"
          ],
          "name": "stderr"
        }
      ]
    },
    {
      "cell_type": "code",
      "metadata": {
        "colab": {
          "base_uri": "https://localhost:8080/",
          "height": 1000
        },
        "id": "mQ8eW5Rg9KdQ",
        "outputId": "9d7f92e4-2f57-4583-f5cf-3018ce0eb7e7"
      },
      "source": [
        "print (\"Cross valiation\")\n",
        "do_cross_validation(X_train,y_train,model)  \n",
        "print (\"Done\")"
      ],
      "execution_count": 18,
      "outputs": [
        {
          "output_type": "stream",
          "text": [
            "Cross valiation\n",
            "COMPILE...\n",
            "...COMPILED\n",
            "FIT\n",
            "Epoch 1/100\n",
            "453/453 [==============================] - 77s 144ms/step - loss: 0.6163 - accuracy: 0.6749 - val_loss: 0.5811 - val_accuracy: 0.7163\n"
          ],
          "name": "stdout"
        },
        {
          "output_type": "stream",
          "text": [
            "WARNING:absl:Found untraced functions such as lstm_cell_25_layer_call_fn, lstm_cell_25_layer_call_and_return_conditional_losses, lstm_cell_26_layer_call_fn, lstm_cell_26_layer_call_and_return_conditional_losses, lstm_cell_28_layer_call_fn while saving (showing 5 of 20). These functions will not be directly callable after loading.\n",
            "WARNING:absl:Found untraced functions such as lstm_cell_25_layer_call_fn, lstm_cell_25_layer_call_and_return_conditional_losses, lstm_cell_26_layer_call_fn, lstm_cell_26_layer_call_and_return_conditional_losses, lstm_cell_28_layer_call_fn while saving (showing 5 of 20). These functions will not be directly callable after loading.\n"
          ],
          "name": "stderr"
        },
        {
          "output_type": "stream",
          "text": [
            "INFO:tensorflow:Assets written to: /content/drive/My Drive/data/LSTM302.cv.1.best/assets\n"
          ],
          "name": "stdout"
        },
        {
          "output_type": "stream",
          "text": [
            "INFO:tensorflow:Assets written to: /content/drive/My Drive/data/LSTM302.cv.1.best/assets\n"
          ],
          "name": "stderr"
        },
        {
          "output_type": "stream",
          "text": [
            "Epoch 2/100\n",
            "453/453 [==============================] - 61s 135ms/step - loss: 0.6024 - accuracy: 0.6824 - val_loss: 0.6191 - val_accuracy: 0.6840\n",
            "Epoch 3/100\n",
            "453/453 [==============================] - 62s 136ms/step - loss: 0.6207 - accuracy: 0.6810 - val_loss: 0.6025 - val_accuracy: 0.6890\n",
            "Epoch 4/100\n",
            "453/453 [==============================] - 62s 138ms/step - loss: 0.6080 - accuracy: 0.6943 - val_loss: 0.5928 - val_accuracy: 0.6934\n",
            "Epoch 5/100\n",
            "453/453 [==============================] - 62s 136ms/step - loss: 0.5933 - accuracy: 0.6901 - val_loss: 0.5828 - val_accuracy: 0.7138\n",
            "Epoch 6/100\n",
            "453/453 [==============================] - 61s 136ms/step - loss: 0.5801 - accuracy: 0.7005 - val_loss: 0.5410 - val_accuracy: 0.7294\n"
          ],
          "name": "stdout"
        },
        {
          "output_type": "stream",
          "text": [
            "WARNING:absl:Found untraced functions such as lstm_cell_25_layer_call_fn, lstm_cell_25_layer_call_and_return_conditional_losses, lstm_cell_26_layer_call_fn, lstm_cell_26_layer_call_and_return_conditional_losses, lstm_cell_28_layer_call_fn while saving (showing 5 of 20). These functions will not be directly callable after loading.\n",
            "WARNING:absl:Found untraced functions such as lstm_cell_25_layer_call_fn, lstm_cell_25_layer_call_and_return_conditional_losses, lstm_cell_26_layer_call_fn, lstm_cell_26_layer_call_and_return_conditional_losses, lstm_cell_28_layer_call_fn while saving (showing 5 of 20). These functions will not be directly callable after loading.\n"
          ],
          "name": "stderr"
        },
        {
          "output_type": "stream",
          "text": [
            "INFO:tensorflow:Assets written to: /content/drive/My Drive/data/LSTM302.cv.1.best/assets\n"
          ],
          "name": "stdout"
        },
        {
          "output_type": "stream",
          "text": [
            "INFO:tensorflow:Assets written to: /content/drive/My Drive/data/LSTM302.cv.1.best/assets\n"
          ],
          "name": "stderr"
        },
        {
          "output_type": "stream",
          "text": [
            "Epoch 7/100\n",
            "453/453 [==============================] - 62s 136ms/step - loss: 0.5573 - accuracy: 0.7224 - val_loss: 0.5890 - val_accuracy: 0.6965\n",
            "Epoch 8/100\n",
            "453/453 [==============================] - 62s 137ms/step - loss: 0.5697 - accuracy: 0.7082 - val_loss: 0.5317 - val_accuracy: 0.7374\n"
          ],
          "name": "stdout"
        },
        {
          "output_type": "stream",
          "text": [
            "WARNING:absl:Found untraced functions such as lstm_cell_25_layer_call_fn, lstm_cell_25_layer_call_and_return_conditional_losses, lstm_cell_26_layer_call_fn, lstm_cell_26_layer_call_and_return_conditional_losses, lstm_cell_28_layer_call_fn while saving (showing 5 of 20). These functions will not be directly callable after loading.\n",
            "WARNING:absl:Found untraced functions such as lstm_cell_25_layer_call_fn, lstm_cell_25_layer_call_and_return_conditional_losses, lstm_cell_26_layer_call_fn, lstm_cell_26_layer_call_and_return_conditional_losses, lstm_cell_28_layer_call_fn while saving (showing 5 of 20). These functions will not be directly callable after loading.\n"
          ],
          "name": "stderr"
        },
        {
          "output_type": "stream",
          "text": [
            "INFO:tensorflow:Assets written to: /content/drive/My Drive/data/LSTM302.cv.1.best/assets\n"
          ],
          "name": "stdout"
        },
        {
          "output_type": "stream",
          "text": [
            "INFO:tensorflow:Assets written to: /content/drive/My Drive/data/LSTM302.cv.1.best/assets\n"
          ],
          "name": "stderr"
        },
        {
          "output_type": "stream",
          "text": [
            "Epoch 9/100\n",
            "453/453 [==============================] - 63s 139ms/step - loss: 0.5670 - accuracy: 0.7075 - val_loss: 0.5126 - val_accuracy: 0.7678\n"
          ],
          "name": "stdout"
        },
        {
          "output_type": "stream",
          "text": [
            "WARNING:absl:Found untraced functions such as lstm_cell_25_layer_call_fn, lstm_cell_25_layer_call_and_return_conditional_losses, lstm_cell_26_layer_call_fn, lstm_cell_26_layer_call_and_return_conditional_losses, lstm_cell_28_layer_call_fn while saving (showing 5 of 20). These functions will not be directly callable after loading.\n",
            "WARNING:absl:Found untraced functions such as lstm_cell_25_layer_call_fn, lstm_cell_25_layer_call_and_return_conditional_losses, lstm_cell_26_layer_call_fn, lstm_cell_26_layer_call_and_return_conditional_losses, lstm_cell_28_layer_call_fn while saving (showing 5 of 20). These functions will not be directly callable after loading.\n"
          ],
          "name": "stderr"
        },
        {
          "output_type": "stream",
          "text": [
            "INFO:tensorflow:Assets written to: /content/drive/My Drive/data/LSTM302.cv.1.best/assets\n"
          ],
          "name": "stdout"
        },
        {
          "output_type": "stream",
          "text": [
            "INFO:tensorflow:Assets written to: /content/drive/My Drive/data/LSTM302.cv.1.best/assets\n"
          ],
          "name": "stderr"
        },
        {
          "output_type": "stream",
          "text": [
            "Epoch 10/100\n",
            "453/453 [==============================] - 62s 137ms/step - loss: 0.5528 - accuracy: 0.7228 - val_loss: 0.6033 - val_accuracy: 0.6716\n",
            "Epoch 11/100\n",
            "453/453 [==============================] - 62s 136ms/step - loss: 0.6001 - accuracy: 0.6843 - val_loss: 0.5570 - val_accuracy: 0.7405\n",
            "Epoch 12/100\n",
            "453/453 [==============================] - 61s 135ms/step - loss: 0.5699 - accuracy: 0.7132 - val_loss: 0.5985 - val_accuracy: 0.6853\n",
            "Epoch 13/100\n",
            "453/453 [==============================] - 60s 133ms/step - loss: 0.5869 - accuracy: 0.6943 - val_loss: 0.5816 - val_accuracy: 0.6903\n",
            "Epoch 14/100\n",
            "453/453 [==============================] - 61s 134ms/step - loss: 0.5757 - accuracy: 0.6987 - val_loss: 0.5553 - val_accuracy: 0.7281\n",
            "Epoch 15/100\n",
            "453/453 [==============================] - 61s 135ms/step - loss: 0.5642 - accuracy: 0.7182 - val_loss: 0.5208 - val_accuracy: 0.7523\n",
            "Epoch 16/100\n",
            "453/453 [==============================] - 61s 134ms/step - loss: 0.5415 - accuracy: 0.7331 - val_loss: 0.5039 - val_accuracy: 0.7598\n",
            "Epoch 17/100\n",
            "453/453 [==============================] - 61s 135ms/step - loss: 0.5169 - accuracy: 0.7496 - val_loss: 0.4824 - val_accuracy: 0.7716\n"
          ],
          "name": "stdout"
        },
        {
          "output_type": "stream",
          "text": [
            "WARNING:absl:Found untraced functions such as lstm_cell_25_layer_call_fn, lstm_cell_25_layer_call_and_return_conditional_losses, lstm_cell_26_layer_call_fn, lstm_cell_26_layer_call_and_return_conditional_losses, lstm_cell_28_layer_call_fn while saving (showing 5 of 20). These functions will not be directly callable after loading.\n",
            "WARNING:absl:Found untraced functions such as lstm_cell_25_layer_call_fn, lstm_cell_25_layer_call_and_return_conditional_losses, lstm_cell_26_layer_call_fn, lstm_cell_26_layer_call_and_return_conditional_losses, lstm_cell_28_layer_call_fn while saving (showing 5 of 20). These functions will not be directly callable after loading.\n"
          ],
          "name": "stderr"
        },
        {
          "output_type": "stream",
          "text": [
            "INFO:tensorflow:Assets written to: /content/drive/My Drive/data/LSTM302.cv.1.best/assets\n"
          ],
          "name": "stdout"
        },
        {
          "output_type": "stream",
          "text": [
            "INFO:tensorflow:Assets written to: /content/drive/My Drive/data/LSTM302.cv.1.best/assets\n"
          ],
          "name": "stderr"
        },
        {
          "output_type": "stream",
          "text": [
            "Epoch 18/100\n",
            "453/453 [==============================] - 62s 137ms/step - loss: 0.5286 - accuracy: 0.7413 - val_loss: 0.4714 - val_accuracy: 0.7790\n"
          ],
          "name": "stdout"
        },
        {
          "output_type": "stream",
          "text": [
            "WARNING:absl:Found untraced functions such as lstm_cell_25_layer_call_fn, lstm_cell_25_layer_call_and_return_conditional_losses, lstm_cell_26_layer_call_fn, lstm_cell_26_layer_call_and_return_conditional_losses, lstm_cell_28_layer_call_fn while saving (showing 5 of 20). These functions will not be directly callable after loading.\n",
            "WARNING:absl:Found untraced functions such as lstm_cell_25_layer_call_fn, lstm_cell_25_layer_call_and_return_conditional_losses, lstm_cell_26_layer_call_fn, lstm_cell_26_layer_call_and_return_conditional_losses, lstm_cell_28_layer_call_fn while saving (showing 5 of 20). These functions will not be directly callable after loading.\n"
          ],
          "name": "stderr"
        },
        {
          "output_type": "stream",
          "text": [
            "INFO:tensorflow:Assets written to: /content/drive/My Drive/data/LSTM302.cv.1.best/assets\n"
          ],
          "name": "stdout"
        },
        {
          "output_type": "stream",
          "text": [
            "INFO:tensorflow:Assets written to: /content/drive/My Drive/data/LSTM302.cv.1.best/assets\n"
          ],
          "name": "stderr"
        },
        {
          "output_type": "stream",
          "text": [
            "Epoch 19/100\n",
            "453/453 [==============================] - 60s 132ms/step - loss: 0.4902 - accuracy: 0.7742 - val_loss: 0.4354 - val_accuracy: 0.7896\n"
          ],
          "name": "stdout"
        },
        {
          "output_type": "stream",
          "text": [
            "WARNING:absl:Found untraced functions such as lstm_cell_25_layer_call_fn, lstm_cell_25_layer_call_and_return_conditional_losses, lstm_cell_26_layer_call_fn, lstm_cell_26_layer_call_and_return_conditional_losses, lstm_cell_28_layer_call_fn while saving (showing 5 of 20). These functions will not be directly callable after loading.\n",
            "WARNING:absl:Found untraced functions such as lstm_cell_25_layer_call_fn, lstm_cell_25_layer_call_and_return_conditional_losses, lstm_cell_26_layer_call_fn, lstm_cell_26_layer_call_and_return_conditional_losses, lstm_cell_28_layer_call_fn while saving (showing 5 of 20). These functions will not be directly callable after loading.\n"
          ],
          "name": "stderr"
        },
        {
          "output_type": "stream",
          "text": [
            "INFO:tensorflow:Assets written to: /content/drive/My Drive/data/LSTM302.cv.1.best/assets\n"
          ],
          "name": "stdout"
        },
        {
          "output_type": "stream",
          "text": [
            "INFO:tensorflow:Assets written to: /content/drive/My Drive/data/LSTM302.cv.1.best/assets\n"
          ],
          "name": "stderr"
        },
        {
          "output_type": "stream",
          "text": [
            "Epoch 20/100\n",
            "453/453 [==============================] - 61s 134ms/step - loss: 0.4671 - accuracy: 0.7871 - val_loss: 0.4338 - val_accuracy: 0.7976\n"
          ],
          "name": "stdout"
        },
        {
          "output_type": "stream",
          "text": [
            "WARNING:absl:Found untraced functions such as lstm_cell_25_layer_call_fn, lstm_cell_25_layer_call_and_return_conditional_losses, lstm_cell_26_layer_call_fn, lstm_cell_26_layer_call_and_return_conditional_losses, lstm_cell_28_layer_call_fn while saving (showing 5 of 20). These functions will not be directly callable after loading.\n",
            "WARNING:absl:Found untraced functions such as lstm_cell_25_layer_call_fn, lstm_cell_25_layer_call_and_return_conditional_losses, lstm_cell_26_layer_call_fn, lstm_cell_26_layer_call_and_return_conditional_losses, lstm_cell_28_layer_call_fn while saving (showing 5 of 20). These functions will not be directly callable after loading.\n"
          ],
          "name": "stderr"
        },
        {
          "output_type": "stream",
          "text": [
            "INFO:tensorflow:Assets written to: /content/drive/My Drive/data/LSTM302.cv.1.best/assets\n"
          ],
          "name": "stdout"
        },
        {
          "output_type": "stream",
          "text": [
            "INFO:tensorflow:Assets written to: /content/drive/My Drive/data/LSTM302.cv.1.best/assets\n"
          ],
          "name": "stderr"
        },
        {
          "output_type": "stream",
          "text": [
            "Epoch 21/100\n",
            "453/453 [==============================] - 60s 133ms/step - loss: 0.4418 - accuracy: 0.8054 - val_loss: 0.4685 - val_accuracy: 0.7852\n",
            "Epoch 22/100\n",
            "453/453 [==============================] - 61s 134ms/step - loss: 0.4346 - accuracy: 0.8039 - val_loss: 0.4077 - val_accuracy: 0.8163\n"
          ],
          "name": "stdout"
        },
        {
          "output_type": "stream",
          "text": [
            "WARNING:absl:Found untraced functions such as lstm_cell_25_layer_call_fn, lstm_cell_25_layer_call_and_return_conditional_losses, lstm_cell_26_layer_call_fn, lstm_cell_26_layer_call_and_return_conditional_losses, lstm_cell_28_layer_call_fn while saving (showing 5 of 20). These functions will not be directly callable after loading.\n",
            "WARNING:absl:Found untraced functions such as lstm_cell_25_layer_call_fn, lstm_cell_25_layer_call_and_return_conditional_losses, lstm_cell_26_layer_call_fn, lstm_cell_26_layer_call_and_return_conditional_losses, lstm_cell_28_layer_call_fn while saving (showing 5 of 20). These functions will not be directly callable after loading.\n"
          ],
          "name": "stderr"
        },
        {
          "output_type": "stream",
          "text": [
            "INFO:tensorflow:Assets written to: /content/drive/My Drive/data/LSTM302.cv.1.best/assets\n"
          ],
          "name": "stdout"
        },
        {
          "output_type": "stream",
          "text": [
            "INFO:tensorflow:Assets written to: /content/drive/My Drive/data/LSTM302.cv.1.best/assets\n"
          ],
          "name": "stderr"
        },
        {
          "output_type": "stream",
          "text": [
            "Epoch 23/100\n",
            "453/453 [==============================] - 60s 133ms/step - loss: 0.4204 - accuracy: 0.8133 - val_loss: 0.3956 - val_accuracy: 0.8262\n"
          ],
          "name": "stdout"
        },
        {
          "output_type": "stream",
          "text": [
            "WARNING:absl:Found untraced functions such as lstm_cell_25_layer_call_fn, lstm_cell_25_layer_call_and_return_conditional_losses, lstm_cell_26_layer_call_fn, lstm_cell_26_layer_call_and_return_conditional_losses, lstm_cell_28_layer_call_fn while saving (showing 5 of 20). These functions will not be directly callable after loading.\n",
            "WARNING:absl:Found untraced functions such as lstm_cell_25_layer_call_fn, lstm_cell_25_layer_call_and_return_conditional_losses, lstm_cell_26_layer_call_fn, lstm_cell_26_layer_call_and_return_conditional_losses, lstm_cell_28_layer_call_fn while saving (showing 5 of 20). These functions will not be directly callable after loading.\n"
          ],
          "name": "stderr"
        },
        {
          "output_type": "stream",
          "text": [
            "INFO:tensorflow:Assets written to: /content/drive/My Drive/data/LSTM302.cv.1.best/assets\n"
          ],
          "name": "stdout"
        },
        {
          "output_type": "stream",
          "text": [
            "INFO:tensorflow:Assets written to: /content/drive/My Drive/data/LSTM302.cv.1.best/assets\n"
          ],
          "name": "stderr"
        },
        {
          "output_type": "stream",
          "text": [
            "Epoch 24/100\n",
            "453/453 [==============================] - 61s 134ms/step - loss: 0.4189 - accuracy: 0.8167 - val_loss: 0.4049 - val_accuracy: 0.8237\n",
            "Epoch 25/100\n",
            "453/453 [==============================] - 61s 134ms/step - loss: 0.4125 - accuracy: 0.8143 - val_loss: 0.3861 - val_accuracy: 0.8281\n"
          ],
          "name": "stdout"
        },
        {
          "output_type": "stream",
          "text": [
            "WARNING:absl:Found untraced functions such as lstm_cell_25_layer_call_fn, lstm_cell_25_layer_call_and_return_conditional_losses, lstm_cell_26_layer_call_fn, lstm_cell_26_layer_call_and_return_conditional_losses, lstm_cell_28_layer_call_fn while saving (showing 5 of 20). These functions will not be directly callable after loading.\n",
            "WARNING:absl:Found untraced functions such as lstm_cell_25_layer_call_fn, lstm_cell_25_layer_call_and_return_conditional_losses, lstm_cell_26_layer_call_fn, lstm_cell_26_layer_call_and_return_conditional_losses, lstm_cell_28_layer_call_fn while saving (showing 5 of 20). These functions will not be directly callable after loading.\n"
          ],
          "name": "stderr"
        },
        {
          "output_type": "stream",
          "text": [
            "INFO:tensorflow:Assets written to: /content/drive/My Drive/data/LSTM302.cv.1.best/assets\n"
          ],
          "name": "stdout"
        },
        {
          "output_type": "stream",
          "text": [
            "INFO:tensorflow:Assets written to: /content/drive/My Drive/data/LSTM302.cv.1.best/assets\n"
          ],
          "name": "stderr"
        },
        {
          "output_type": "stream",
          "text": [
            "Epoch 26/100\n",
            "453/453 [==============================] - 61s 134ms/step - loss: 0.4057 - accuracy: 0.8203 - val_loss: 0.4308 - val_accuracy: 0.8026\n",
            "Epoch 27/100\n",
            "453/453 [==============================] - 62s 136ms/step - loss: 0.4115 - accuracy: 0.8161 - val_loss: 0.3751 - val_accuracy: 0.8392\n"
          ],
          "name": "stdout"
        },
        {
          "output_type": "stream",
          "text": [
            "WARNING:absl:Found untraced functions such as lstm_cell_25_layer_call_fn, lstm_cell_25_layer_call_and_return_conditional_losses, lstm_cell_26_layer_call_fn, lstm_cell_26_layer_call_and_return_conditional_losses, lstm_cell_28_layer_call_fn while saving (showing 5 of 20). These functions will not be directly callable after loading.\n",
            "WARNING:absl:Found untraced functions such as lstm_cell_25_layer_call_fn, lstm_cell_25_layer_call_and_return_conditional_losses, lstm_cell_26_layer_call_fn, lstm_cell_26_layer_call_and_return_conditional_losses, lstm_cell_28_layer_call_fn while saving (showing 5 of 20). These functions will not be directly callable after loading.\n"
          ],
          "name": "stderr"
        },
        {
          "output_type": "stream",
          "text": [
            "INFO:tensorflow:Assets written to: /content/drive/My Drive/data/LSTM302.cv.1.best/assets\n"
          ],
          "name": "stdout"
        },
        {
          "output_type": "stream",
          "text": [
            "INFO:tensorflow:Assets written to: /content/drive/My Drive/data/LSTM302.cv.1.best/assets\n"
          ],
          "name": "stderr"
        },
        {
          "output_type": "stream",
          "text": [
            "Epoch 28/100\n",
            "453/453 [==============================] - 62s 136ms/step - loss: 0.4044 - accuracy: 0.8208 - val_loss: 0.3949 - val_accuracy: 0.8212\n",
            "Epoch 29/100\n",
            "453/453 [==============================] - 62s 137ms/step - loss: 0.4064 - accuracy: 0.8193 - val_loss: 0.4166 - val_accuracy: 0.8125\n",
            "Epoch 30/100\n",
            "453/453 [==============================] - 62s 137ms/step - loss: 0.3931 - accuracy: 0.8254 - val_loss: 0.3750 - val_accuracy: 0.8386\n",
            "Epoch 31/100\n",
            "453/453 [==============================] - 62s 138ms/step - loss: 0.3973 - accuracy: 0.8236 - val_loss: 0.3821 - val_accuracy: 0.8343\n",
            "Epoch 32/100\n",
            "453/453 [==============================] - 62s 138ms/step - loss: 0.3921 - accuracy: 0.8253 - val_loss: 0.3664 - val_accuracy: 0.8405\n"
          ],
          "name": "stdout"
        },
        {
          "output_type": "stream",
          "text": [
            "WARNING:absl:Found untraced functions such as lstm_cell_25_layer_call_fn, lstm_cell_25_layer_call_and_return_conditional_losses, lstm_cell_26_layer_call_fn, lstm_cell_26_layer_call_and_return_conditional_losses, lstm_cell_28_layer_call_fn while saving (showing 5 of 20). These functions will not be directly callable after loading.\n",
            "WARNING:absl:Found untraced functions such as lstm_cell_25_layer_call_fn, lstm_cell_25_layer_call_and_return_conditional_losses, lstm_cell_26_layer_call_fn, lstm_cell_26_layer_call_and_return_conditional_losses, lstm_cell_28_layer_call_fn while saving (showing 5 of 20). These functions will not be directly callable after loading.\n"
          ],
          "name": "stderr"
        },
        {
          "output_type": "stream",
          "text": [
            "INFO:tensorflow:Assets written to: /content/drive/My Drive/data/LSTM302.cv.1.best/assets\n"
          ],
          "name": "stdout"
        },
        {
          "output_type": "stream",
          "text": [
            "INFO:tensorflow:Assets written to: /content/drive/My Drive/data/LSTM302.cv.1.best/assets\n"
          ],
          "name": "stderr"
        },
        {
          "output_type": "stream",
          "text": [
            "Epoch 33/100\n",
            "453/453 [==============================] - 62s 137ms/step - loss: 0.3920 - accuracy: 0.8332 - val_loss: 0.4005 - val_accuracy: 0.8163\n",
            "Epoch 34/100\n",
            "453/453 [==============================] - 62s 136ms/step - loss: 0.3784 - accuracy: 0.8397 - val_loss: 0.5015 - val_accuracy: 0.7666\n",
            "Epoch 35/100\n",
            "453/453 [==============================] - 62s 137ms/step - loss: 0.3794 - accuracy: 0.8378 - val_loss: 0.3663 - val_accuracy: 0.8430\n"
          ],
          "name": "stdout"
        },
        {
          "output_type": "stream",
          "text": [
            "WARNING:absl:Found untraced functions such as lstm_cell_25_layer_call_fn, lstm_cell_25_layer_call_and_return_conditional_losses, lstm_cell_26_layer_call_fn, lstm_cell_26_layer_call_and_return_conditional_losses, lstm_cell_28_layer_call_fn while saving (showing 5 of 20). These functions will not be directly callable after loading.\n",
            "WARNING:absl:Found untraced functions such as lstm_cell_25_layer_call_fn, lstm_cell_25_layer_call_and_return_conditional_losses, lstm_cell_26_layer_call_fn, lstm_cell_26_layer_call_and_return_conditional_losses, lstm_cell_28_layer_call_fn while saving (showing 5 of 20). These functions will not be directly callable after loading.\n"
          ],
          "name": "stderr"
        },
        {
          "output_type": "stream",
          "text": [
            "INFO:tensorflow:Assets written to: /content/drive/My Drive/data/LSTM302.cv.1.best/assets\n"
          ],
          "name": "stdout"
        },
        {
          "output_type": "stream",
          "text": [
            "INFO:tensorflow:Assets written to: /content/drive/My Drive/data/LSTM302.cv.1.best/assets\n"
          ],
          "name": "stderr"
        },
        {
          "output_type": "stream",
          "text": [
            "Epoch 36/100\n",
            "453/453 [==============================] - 62s 137ms/step - loss: 0.3865 - accuracy: 0.8305 - val_loss: 0.3890 - val_accuracy: 0.8287\n",
            "Epoch 37/100\n",
            "453/453 [==============================] - 62s 137ms/step - loss: 0.3957 - accuracy: 0.8262 - val_loss: 0.3664 - val_accuracy: 0.8399\n",
            "Epoch 38/100\n",
            "453/453 [==============================] - 63s 138ms/step - loss: 0.3803 - accuracy: 0.8360 - val_loss: 0.3578 - val_accuracy: 0.8454\n"
          ],
          "name": "stdout"
        },
        {
          "output_type": "stream",
          "text": [
            "WARNING:absl:Found untraced functions such as lstm_cell_25_layer_call_fn, lstm_cell_25_layer_call_and_return_conditional_losses, lstm_cell_26_layer_call_fn, lstm_cell_26_layer_call_and_return_conditional_losses, lstm_cell_28_layer_call_fn while saving (showing 5 of 20). These functions will not be directly callable after loading.\n",
            "WARNING:absl:Found untraced functions such as lstm_cell_25_layer_call_fn, lstm_cell_25_layer_call_and_return_conditional_losses, lstm_cell_26_layer_call_fn, lstm_cell_26_layer_call_and_return_conditional_losses, lstm_cell_28_layer_call_fn while saving (showing 5 of 20). These functions will not be directly callable after loading.\n"
          ],
          "name": "stderr"
        },
        {
          "output_type": "stream",
          "text": [
            "INFO:tensorflow:Assets written to: /content/drive/My Drive/data/LSTM302.cv.1.best/assets\n"
          ],
          "name": "stdout"
        },
        {
          "output_type": "stream",
          "text": [
            "INFO:tensorflow:Assets written to: /content/drive/My Drive/data/LSTM302.cv.1.best/assets\n"
          ],
          "name": "stderr"
        },
        {
          "output_type": "stream",
          "text": [
            "Epoch 39/100\n",
            "453/453 [==============================] - 62s 136ms/step - loss: 0.3809 - accuracy: 0.8323 - val_loss: 0.3553 - val_accuracy: 0.8355\n",
            "Epoch 40/100\n",
            "453/453 [==============================] - 62s 138ms/step - loss: 0.3716 - accuracy: 0.8408 - val_loss: 0.3584 - val_accuracy: 0.8399\n",
            "Epoch 41/100\n",
            "453/453 [==============================] - 62s 136ms/step - loss: 0.3734 - accuracy: 0.8336 - val_loss: 0.3810 - val_accuracy: 0.8380\n",
            "Epoch 42/100\n",
            "453/453 [==============================] - 62s 138ms/step - loss: 0.3766 - accuracy: 0.8388 - val_loss: 0.3822 - val_accuracy: 0.8324\n",
            "Epoch 43/100\n",
            "453/453 [==============================] - 63s 138ms/step - loss: 0.3657 - accuracy: 0.8386 - val_loss: 0.3514 - val_accuracy: 0.8405\n",
            "Epoch 44/100\n",
            "453/453 [==============================] - 63s 139ms/step - loss: 0.3572 - accuracy: 0.8480 - val_loss: 0.3578 - val_accuracy: 0.8374\n",
            "Epoch 45/100\n",
            "453/453 [==============================] - 63s 138ms/step - loss: 0.3512 - accuracy: 0.8517 - val_loss: 0.3266 - val_accuracy: 0.8616\n"
          ],
          "name": "stdout"
        },
        {
          "output_type": "stream",
          "text": [
            "WARNING:absl:Found untraced functions such as lstm_cell_25_layer_call_fn, lstm_cell_25_layer_call_and_return_conditional_losses, lstm_cell_26_layer_call_fn, lstm_cell_26_layer_call_and_return_conditional_losses, lstm_cell_28_layer_call_fn while saving (showing 5 of 20). These functions will not be directly callable after loading.\n",
            "WARNING:absl:Found untraced functions such as lstm_cell_25_layer_call_fn, lstm_cell_25_layer_call_and_return_conditional_losses, lstm_cell_26_layer_call_fn, lstm_cell_26_layer_call_and_return_conditional_losses, lstm_cell_28_layer_call_fn while saving (showing 5 of 20). These functions will not be directly callable after loading.\n"
          ],
          "name": "stderr"
        },
        {
          "output_type": "stream",
          "text": [
            "INFO:tensorflow:Assets written to: /content/drive/My Drive/data/LSTM302.cv.1.best/assets\n"
          ],
          "name": "stdout"
        },
        {
          "output_type": "stream",
          "text": [
            "INFO:tensorflow:Assets written to: /content/drive/My Drive/data/LSTM302.cv.1.best/assets\n"
          ],
          "name": "stderr"
        },
        {
          "output_type": "stream",
          "text": [
            "Epoch 46/100\n",
            "453/453 [==============================] - 62s 138ms/step - loss: 0.3593 - accuracy: 0.8434 - val_loss: 0.3304 - val_accuracy: 0.8541\n",
            "Epoch 47/100\n",
            "453/453 [==============================] - 62s 137ms/step - loss: 0.3549 - accuracy: 0.8458 - val_loss: 0.3258 - val_accuracy: 0.8610\n",
            "Epoch 48/100\n",
            "453/453 [==============================] - 62s 136ms/step - loss: 0.3462 - accuracy: 0.8493 - val_loss: 0.3232 - val_accuracy: 0.8572\n",
            "Epoch 49/100\n",
            "453/453 [==============================] - 62s 137ms/step - loss: 0.3488 - accuracy: 0.8526 - val_loss: 0.3288 - val_accuracy: 0.8585\n",
            "Epoch 50/100\n",
            "453/453 [==============================] - 62s 136ms/step - loss: 0.3412 - accuracy: 0.8557 - val_loss: 0.3261 - val_accuracy: 0.8591\n",
            "Epoch 51/100\n",
            "453/453 [==============================] - 62s 137ms/step - loss: 0.3545 - accuracy: 0.8491 - val_loss: 0.3379 - val_accuracy: 0.8492\n",
            "Epoch 52/100\n",
            "453/453 [==============================] - 62s 137ms/step - loss: 0.3340 - accuracy: 0.8567 - val_loss: 0.3190 - val_accuracy: 0.8591\n",
            "Epoch 53/100\n",
            "453/453 [==============================] - 61s 135ms/step - loss: 0.3346 - accuracy: 0.8609 - val_loss: 0.3276 - val_accuracy: 0.8554\n",
            "Epoch 54/100\n",
            "453/453 [==============================] - 62s 137ms/step - loss: 0.3306 - accuracy: 0.8607 - val_loss: 0.3185 - val_accuracy: 0.8653\n"
          ],
          "name": "stdout"
        },
        {
          "output_type": "stream",
          "text": [
            "WARNING:absl:Found untraced functions such as lstm_cell_25_layer_call_fn, lstm_cell_25_layer_call_and_return_conditional_losses, lstm_cell_26_layer_call_fn, lstm_cell_26_layer_call_and_return_conditional_losses, lstm_cell_28_layer_call_fn while saving (showing 5 of 20). These functions will not be directly callable after loading.\n",
            "WARNING:absl:Found untraced functions such as lstm_cell_25_layer_call_fn, lstm_cell_25_layer_call_and_return_conditional_losses, lstm_cell_26_layer_call_fn, lstm_cell_26_layer_call_and_return_conditional_losses, lstm_cell_28_layer_call_fn while saving (showing 5 of 20). These functions will not be directly callable after loading.\n"
          ],
          "name": "stderr"
        },
        {
          "output_type": "stream",
          "text": [
            "INFO:tensorflow:Assets written to: /content/drive/My Drive/data/LSTM302.cv.1.best/assets\n"
          ],
          "name": "stdout"
        },
        {
          "output_type": "stream",
          "text": [
            "INFO:tensorflow:Assets written to: /content/drive/My Drive/data/LSTM302.cv.1.best/assets\n"
          ],
          "name": "stderr"
        },
        {
          "output_type": "stream",
          "text": [
            "Epoch 55/100\n",
            "453/453 [==============================] - 63s 138ms/step - loss: 0.3273 - accuracy: 0.8622 - val_loss: 0.3132 - val_accuracy: 0.8684\n"
          ],
          "name": "stdout"
        },
        {
          "output_type": "stream",
          "text": [
            "WARNING:absl:Found untraced functions such as lstm_cell_25_layer_call_fn, lstm_cell_25_layer_call_and_return_conditional_losses, lstm_cell_26_layer_call_fn, lstm_cell_26_layer_call_and_return_conditional_losses, lstm_cell_28_layer_call_fn while saving (showing 5 of 20). These functions will not be directly callable after loading.\n",
            "WARNING:absl:Found untraced functions such as lstm_cell_25_layer_call_fn, lstm_cell_25_layer_call_and_return_conditional_losses, lstm_cell_26_layer_call_fn, lstm_cell_26_layer_call_and_return_conditional_losses, lstm_cell_28_layer_call_fn while saving (showing 5 of 20). These functions will not be directly callable after loading.\n"
          ],
          "name": "stderr"
        },
        {
          "output_type": "stream",
          "text": [
            "INFO:tensorflow:Assets written to: /content/drive/My Drive/data/LSTM302.cv.1.best/assets\n"
          ],
          "name": "stdout"
        },
        {
          "output_type": "stream",
          "text": [
            "INFO:tensorflow:Assets written to: /content/drive/My Drive/data/LSTM302.cv.1.best/assets\n"
          ],
          "name": "stderr"
        },
        {
          "output_type": "stream",
          "text": [
            "Epoch 56/100\n",
            "453/453 [==============================] - 62s 137ms/step - loss: 0.3322 - accuracy: 0.8622 - val_loss: 0.3110 - val_accuracy: 0.8659\n",
            "Epoch 57/100\n",
            "453/453 [==============================] - 62s 137ms/step - loss: 0.3197 - accuracy: 0.8661 - val_loss: 0.3431 - val_accuracy: 0.8436\n",
            "Epoch 58/100\n",
            "453/453 [==============================] - 63s 138ms/step - loss: 0.3128 - accuracy: 0.8700 - val_loss: 0.3105 - val_accuracy: 0.8678\n",
            "Epoch 59/100\n",
            "453/453 [==============================] - 63s 139ms/step - loss: 0.3241 - accuracy: 0.8631 - val_loss: 0.3464 - val_accuracy: 0.8442\n",
            "Epoch 60/100\n",
            "453/453 [==============================] - 62s 137ms/step - loss: 0.3215 - accuracy: 0.8698 - val_loss: 0.3112 - val_accuracy: 0.8684\n",
            "Epoch 61/100\n",
            "453/453 [==============================] - 62s 138ms/step - loss: 0.3086 - accuracy: 0.8755 - val_loss: 0.3080 - val_accuracy: 0.8616\n",
            "Epoch 62/100\n",
            "453/453 [==============================] - 62s 137ms/step - loss: 0.3142 - accuracy: 0.8694 - val_loss: 0.3046 - val_accuracy: 0.8734\n"
          ],
          "name": "stdout"
        },
        {
          "output_type": "stream",
          "text": [
            "WARNING:absl:Found untraced functions such as lstm_cell_25_layer_call_fn, lstm_cell_25_layer_call_and_return_conditional_losses, lstm_cell_26_layer_call_fn, lstm_cell_26_layer_call_and_return_conditional_losses, lstm_cell_28_layer_call_fn while saving (showing 5 of 20). These functions will not be directly callable after loading.\n",
            "WARNING:absl:Found untraced functions such as lstm_cell_25_layer_call_fn, lstm_cell_25_layer_call_and_return_conditional_losses, lstm_cell_26_layer_call_fn, lstm_cell_26_layer_call_and_return_conditional_losses, lstm_cell_28_layer_call_fn while saving (showing 5 of 20). These functions will not be directly callable after loading.\n"
          ],
          "name": "stderr"
        },
        {
          "output_type": "stream",
          "text": [
            "INFO:tensorflow:Assets written to: /content/drive/My Drive/data/LSTM302.cv.1.best/assets\n"
          ],
          "name": "stdout"
        },
        {
          "output_type": "stream",
          "text": [
            "INFO:tensorflow:Assets written to: /content/drive/My Drive/data/LSTM302.cv.1.best/assets\n"
          ],
          "name": "stderr"
        },
        {
          "output_type": "stream",
          "text": [
            "Epoch 63/100\n",
            "453/453 [==============================] - 63s 139ms/step - loss: 0.3043 - accuracy: 0.8780 - val_loss: 0.3159 - val_accuracy: 0.8672\n",
            "Epoch 64/100\n",
            "453/453 [==============================] - 62s 138ms/step - loss: 0.3047 - accuracy: 0.8780 - val_loss: 0.3174 - val_accuracy: 0.8665\n",
            "Epoch 65/100\n",
            "453/453 [==============================] - 62s 137ms/step - loss: 0.3010 - accuracy: 0.8795 - val_loss: 0.3142 - val_accuracy: 0.8690\n",
            "Epoch 66/100\n",
            "453/453 [==============================] - 62s 138ms/step - loss: 0.3047 - accuracy: 0.8773 - val_loss: 0.3187 - val_accuracy: 0.8665\n",
            "Epoch 67/100\n",
            "453/453 [==============================] - 63s 138ms/step - loss: 0.3004 - accuracy: 0.8772 - val_loss: 0.3266 - val_accuracy: 0.8554\n",
            "Epoch 68/100\n",
            "453/453 [==============================] - 63s 139ms/step - loss: 0.2989 - accuracy: 0.8806 - val_loss: 0.3368 - val_accuracy: 0.8579\n",
            "Epoch 69/100\n",
            "453/453 [==============================] - 62s 136ms/step - loss: 0.2806 - accuracy: 0.8888 - val_loss: 0.3170 - val_accuracy: 0.8678\n",
            "Epoch 70/100\n",
            "453/453 [==============================] - 63s 138ms/step - loss: 0.2902 - accuracy: 0.8879 - val_loss: 0.3359 - val_accuracy: 0.8510\n",
            "Epoch 71/100\n",
            "453/453 [==============================] - 63s 139ms/step - loss: 0.3034 - accuracy: 0.8775 - val_loss: 0.3298 - val_accuracy: 0.8703\n",
            "Epoch 72/100\n",
            "453/453 [==============================] - 63s 138ms/step - loss: 0.2771 - accuracy: 0.8858 - val_loss: 0.3164 - val_accuracy: 0.8696\n",
            "Epoch 73/100\n",
            "453/453 [==============================] - 62s 137ms/step - loss: 0.2822 - accuracy: 0.8848 - val_loss: 0.3196 - val_accuracy: 0.8678\n",
            "Epoch 74/100\n",
            "453/453 [==============================] - 62s 137ms/step - loss: 0.2697 - accuracy: 0.8960 - val_loss: 0.3342 - val_accuracy: 0.8647\n",
            "Epoch 75/100\n",
            "453/453 [==============================] - 62s 138ms/step - loss: 0.2786 - accuracy: 0.8902 - val_loss: 0.3570 - val_accuracy: 0.8516\n",
            "Epoch 76/100\n",
            "453/453 [==============================] - 63s 139ms/step - loss: 0.2778 - accuracy: 0.8853 - val_loss: 0.3397 - val_accuracy: 0.8597\n",
            "Epoch 77/100\n",
            "453/453 [==============================] - 63s 139ms/step - loss: 0.2685 - accuracy: 0.8925 - val_loss: 0.3518 - val_accuracy: 0.8461\n",
            "Epoch 78/100\n",
            "453/453 [==============================] - 63s 138ms/step - loss: 0.2706 - accuracy: 0.8915 - val_loss: 0.3415 - val_accuracy: 0.8603\n",
            "Epoch 79/100\n",
            "453/453 [==============================] - 63s 138ms/step - loss: 0.2650 - accuracy: 0.8946 - val_loss: 0.3321 - val_accuracy: 0.8727\n",
            "Epoch 80/100\n",
            "453/453 [==============================] - 62s 137ms/step - loss: 0.2565 - accuracy: 0.8968 - val_loss: 0.3574 - val_accuracy: 0.8585\n",
            "Epoch 81/100\n",
            "453/453 [==============================] - 62s 137ms/step - loss: 0.2534 - accuracy: 0.9001 - val_loss: 0.3410 - val_accuracy: 0.8622\n",
            "Epoch 82/100\n",
            "453/453 [==============================] - 62s 136ms/step - loss: 0.2601 - accuracy: 0.8937 - val_loss: 0.3509 - val_accuracy: 0.8541\n",
            "Epoch 83/100\n",
            "453/453 [==============================] - 62s 137ms/step - loss: 0.2513 - accuracy: 0.9038 - val_loss: 0.3440 - val_accuracy: 0.8473\n",
            "Epoch 84/100\n",
            "453/453 [==============================] - 63s 140ms/step - loss: 0.2768 - accuracy: 0.8889 - val_loss: 0.3483 - val_accuracy: 0.8634\n",
            "Epoch 85/100\n",
            "453/453 [==============================] - 62s 136ms/step - loss: 0.2483 - accuracy: 0.8999 - val_loss: 0.3702 - val_accuracy: 0.8597\n",
            "Epoch 86/100\n",
            "453/453 [==============================] - 63s 138ms/step - loss: 0.2397 - accuracy: 0.9046 - val_loss: 0.3372 - val_accuracy: 0.8659\n",
            "Epoch 87/100\n",
            "453/453 [==============================] - 62s 138ms/step - loss: 0.2394 - accuracy: 0.9073 - val_loss: 0.3464 - val_accuracy: 0.8641\n",
            "Epoch 88/100\n",
            "453/453 [==============================] - 63s 139ms/step - loss: 0.2351 - accuracy: 0.9073 - val_loss: 0.3624 - val_accuracy: 0.8672\n",
            "Epoch 89/100\n",
            "453/453 [==============================] - 62s 137ms/step - loss: 0.2242 - accuracy: 0.9118 - val_loss: 0.3629 - val_accuracy: 0.8572\n",
            "Epoch 90/100\n",
            "453/453 [==============================] - 63s 138ms/step - loss: 0.2215 - accuracy: 0.9142 - val_loss: 0.3954 - val_accuracy: 0.8541\n",
            "Epoch 91/100\n",
            "453/453 [==============================] - 63s 138ms/step - loss: 0.2234 - accuracy: 0.9117 - val_loss: 0.3867 - val_accuracy: 0.8547\n",
            "Epoch 92/100\n",
            "453/453 [==============================] - 62s 137ms/step - loss: 0.2242 - accuracy: 0.9132 - val_loss: 0.3914 - val_accuracy: 0.8572\n",
            "Epoch 93/100\n",
            "453/453 [==============================] - 63s 138ms/step - loss: 0.2281 - accuracy: 0.9100 - val_loss: 0.3462 - val_accuracy: 0.8641\n",
            "Epoch 94/100\n",
            "453/453 [==============================] - 62s 138ms/step - loss: 0.2180 - accuracy: 0.9174 - val_loss: 0.3748 - val_accuracy: 0.8560\n",
            "Epoch 95/100\n",
            "453/453 [==============================] - 63s 140ms/step - loss: 0.2148 - accuracy: 0.9176 - val_loss: 0.3576 - val_accuracy: 0.8610\n",
            "Epoch 96/100\n",
            "453/453 [==============================] - 62s 137ms/step - loss: 0.2140 - accuracy: 0.9169 - val_loss: 0.3780 - val_accuracy: 0.8572\n",
            "Epoch 97/100\n",
            "453/453 [==============================] - 63s 139ms/step - loss: 0.2039 - accuracy: 0.9232 - val_loss: 0.3623 - val_accuracy: 0.8579\n",
            "Epoch 98/100\n",
            "453/453 [==============================] - 62s 138ms/step - loss: 0.1958 - accuracy: 0.9244 - val_loss: 0.3999 - val_accuracy: 0.8535\n",
            "Epoch 99/100\n",
            "453/453 [==============================] - 62s 138ms/step - loss: 0.2025 - accuracy: 0.9216 - val_loss: 0.3953 - val_accuracy: 0.8467\n",
            "Epoch 100/100\n",
            "453/453 [==============================] - 63s 138ms/step - loss: 0.1945 - accuracy: 0.9256 - val_loss: 0.3961 - val_accuracy: 0.8485\n",
            "Fold 1, 100 epochs, 6940 sec\n"
          ],
          "name": "stdout"
        },
        {
          "output_type": "display_data",
          "data": {
            "image/png": "[encoded data removed]",
            "text/plain": [
              "<Figure size 576x360 with 1 Axes>"
            ]
          },
          "metadata": {
            "tags": [],
            "needs_background": "light"
          }
        },
        {
          "output_type": "stream",
          "text": [
            "accuracy: 87.34%\n",
            "\n",
            "1-way Cross Validation mean 87.34% (+/- 0.00%)\n",
            "Done\n"
          ],
          "name": "stdout"
        }
      ]
    },
    {
      "cell_type": "code",
      "metadata": {
        "id": "p4fh2GI8beMQ"
      },
      "source": [
        ""
      ],
      "execution_count": 18,
      "outputs": []
    }
  ]
}