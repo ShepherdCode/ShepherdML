{
  "nbformat": 4,
  "nbformat_minor": 0,
  "metadata": {
    "accelerator": "GPU",
    "colab": {
      "name": "LSTM_403.ipynb",
      "provenance": [],
      "collapsed_sections": [],
      "include_colab_link": true
    },
    "kernelspec": {
      "display_name": "Python 3",
      "language": "python",
      "name": "python3"
    },
    "language_info": {
      "codemirror_mode": {
        "name": "ipython",
        "version": 3
      },
      "file_extension": ".py",
      "mimetype": "text/x-python",
      "name": "python",
      "nbconvert_exporter": "python",
      "pygments_lexer": "ipython3",
      "version": "3.8.3"
    }
  },
  "cells": [
    {
      "cell_type": "markdown",
      "metadata": {
        "id": "view-in-github",
        "colab_type": "text"
      },
      "source": [
        "<a href=\"https://colab.research.google.com/github/ShepherdCode/ShepherdML/blob/master/Nasa2021/LSTM_403.ipynb\" target=\"_parent\"><img src=\"https://colab.research.google.com/assets/colab-badge.svg\" alt=\"Open In Colab\"/></a>"
      ]
    },
    {
      "cell_type": "markdown",
      "metadata": {
        "id": "ojm_6E9f9Kcf"
      },
      "source": [
        "# LSTM 403\n",
        "Start with LSTM 201 and modify it to use our updated code infrastructure."
      ]
    },
    {
      "cell_type": "code",
      "metadata": {
        "colab": {
          "base_uri": "https://localhost:8080/"
        },
        "id": "hh6XplUvC0j0",
        "outputId": "f95d3108-f697-4cde-a769-325f3ccca9b2"
      },
      "source": [
        "NC_FILENAME='ncRNA.gc34.processed.fasta'\n",
        "PC_FILENAME='pcRNA.gc34.processed.fasta'\n",
        "MODEL_FILE='LSTM302'   # load not save!\n",
        "DATAPATH=''\n",
        "\n",
        "try:\n",
        "    from google.colab import drive\n",
        "    IN_COLAB = True\n",
        "    PATH='/content/drive/'\n",
        "    drive.mount(PATH)\n",
        "    DATAPATH=PATH+'My Drive/data/'  # must end in \"/\"\n",
        "except:\n",
        "    IN_COLAB = False\n",
        "    DATAPATH='data/'  # must end in \"/\"\n",
        "NC_FILENAME = DATAPATH+NC_FILENAME\n",
        "PC_FILENAME = DATAPATH+PC_FILENAME\n",
        "MODEL_FILE=DATAPATH+MODEL_FILE\n",
        "\n",
        "EPOCHS=100\n",
        "SPLITS=1\n",
        "K=3\n",
        "VOCABULARY_SIZE=4**K+1   # e.g. K=3 => 64 DNA K-mers + 'NNN'\n",
        "EMBED_DIMEN=16\n",
        "NEURONS=16\n",
        "DROP=0.25\n",
        "ACT=\"tanh\""
      ],
      "execution_count": 1,
      "outputs": [
        {
          "output_type": "stream",
          "text": [
            "Mounted at /content/drive/\n"
          ],
          "name": "stdout"
        }
      ]
    },
    {
      "cell_type": "code",
      "metadata": {
        "colab": {
          "base_uri": "https://localhost:8080/"
        },
        "id": "e9TY3HK9ZklE",
        "outputId": "0cb88bed-33b7-46cc-eed5-2e717cf08ab9"
      },
      "source": [
        "# Load our own tools\n",
        "GITHUB = True\n",
        "if GITHUB:\n",
        "    #!pip install requests  # Uncomment this if necessary. Seems to be pre-installed.\n",
        "    import requests\n",
        "    r = requests.get('https://raw.githubusercontent.com/ShepherdCode/ShepherdML/master/Strings/tools_fasta.py')\n",
        "    with open('tools_fasta.py', 'w') as f:\n",
        "        f.write(r.text)\n",
        "    # TO DO: delete the file after import\n",
        "import tools_fasta as tools\n",
        "tools.yahoo()  # If this prints \"Yahoo!\" the the import was successful.\n",
        "\n",
        "TOOLS_CHANGED = False   # set to True to re-run with a new version of tools\n",
        "if TOOLS_CHANGED:\n",
        "  from importlib import reload \n",
        "  tools=reload(tools)\n",
        "  print(dir(tools))   # run this to see EVERYTHING in the tools module"
      ],
      "execution_count": 2,
      "outputs": [
        {
          "output_type": "stream",
          "text": [
            "Yahoo!\n"
          ],
          "name": "stdout"
        }
      ]
    },
    {
      "cell_type": "code",
      "metadata": {
        "id": "VQY7aTj29Kch"
      },
      "source": [
        "import numpy as np\n",
        "import pandas as pd\n",
        "import matplotlib.pyplot as plt\n",
        "from sklearn.model_selection import ShuffleSplit\n",
        "from sklearn.model_selection import cross_val_score\n",
        "from sklearn.model_selection import RepeatedKFold\n",
        "from sklearn.model_selection import StratifiedKFold\n",
        "import tensorflow as tf\n",
        "from tensorflow import keras\n",
        "#from keras.wrappers.scikit_learn import KerasRegressor\n",
        "from keras.models import Sequential\n",
        "from keras.layers import Bidirectional\n",
        "from keras.layers import GRU\n",
        "from keras.layers import Dense\n",
        "from keras.layers import LayerNormalization\n",
        "import time\n",
        "dt='float32'\n",
        "tf.keras.backend.set_floatx(dt)"
      ],
      "execution_count": 3,
      "outputs": []
    },
    {
      "cell_type": "markdown",
      "metadata": {
        "id": "j7jcg6Wl9Kc2"
      },
      "source": [
        "Build model"
      ]
    },
    {
      "cell_type": "code",
      "metadata": {
        "id": "qLFNO1Xa9Kc3"
      },
      "source": [
        "def compile_model(model):\n",
        "    adam_default_learn_rate = 0.001\n",
        "    schedule = tf.keras.optimizers.schedules.ExponentialDecay(\n",
        "        initial_learning_rate = adam_default_learn_rate*10,\n",
        "        #decay_steps=100000, decay_rate=0.96, staircase=True)\n",
        "        decay_steps=10000, decay_rate=0.99, staircase=True)\n",
        "    # learn rate = initial_learning_rate * decay_rate ^ (step / decay_steps)\n",
        "    alrd = tf.keras.optimizers.Adam(learning_rate=schedule)\n",
        "    bc=tf.keras.losses.BinaryCrossentropy(from_logits=False)\n",
        "    print(\"COMPILE...\")\n",
        "    #model.compile(loss=bc, optimizer=alrd, metrics=[\"accuracy\"])\n",
        "    model.compile(loss=bc, optimizer=\"adam\", metrics=[\"accuracy\"])\n",
        "    print(\"...COMPILED\")\n",
        "    return model\n",
        "\n",
        "def build_model():\n",
        "    embed_layer  = keras.layers.Embedding(\n",
        "        #VOCABULARY_SIZE, EMBED_DIMEN, input_length=1000, input_length=1000, mask_zero=True)\n",
        "        #input_dim=[None,VOCABULARY_SIZE], output_dim=EMBED_DIMEN, mask_zero=True)\n",
        "        input_dim=VOCABULARY_SIZE, output_dim=EMBED_DIMEN, mask_zero=True)\n",
        "    rnn1_layer = keras.layers.Bidirectional(\n",
        "      keras.layers.LSTM(NEURONS, return_sequences=True, \n",
        "          input_shape=[1000,EMBED_DIMEN], activation=ACT, dropout=DROP) )#bi\n",
        "    rnn2_layer = keras.layers.Bidirectional(\n",
        "      keras.layers.LSTM(NEURONS, return_sequences=False, \n",
        "        activation=ACT, dropout=DROP) )#bi\n",
        "    dense1_layer = keras.layers.Dense(NEURONS, activation=ACT,dtype=dt)\n",
        "    drop1_layer = keras.layers.Dropout(DROP)\n",
        "    dense2_layer = keras.layers.Dense(NEURONS, activation=ACT,dtype=dt)\n",
        "    drop2_layer = keras.layers.Dropout(DROP)\n",
        "    output_layer = keras.layers.Dense(1, activation=\"sigmoid\", dtype=dt)\n",
        "    mlp = keras.models.Sequential()\n",
        "    mlp.add(embed_layer)\n",
        "    mlp.add(rnn1_layer)\n",
        "    mlp.add(rnn2_layer)\n",
        "    mlp.add(dense1_layer)\n",
        "    mlp.add(drop1_layer)\n",
        "    mlp.add(dense2_layer)\n",
        "    mlp.add(drop2_layer)\n",
        "    mlp.add(output_layer)\n",
        "    mlpc = compile_model(mlp)\n",
        "    return mlpc"
      ],
      "execution_count": 4,
      "outputs": []
    },
    {
      "cell_type": "markdown",
      "metadata": {
        "id": "WV6k-xOm9Kcn"
      },
      "source": [
        "Partition sequences"
      ]
    },
    {
      "cell_type": "code",
      "metadata": {
        "id": "1I-O_qzw9Kco"
      },
      "source": [
        "def make_slice(data_set,min_len,max_len):\n",
        "    slice = data_set.query('seqlen <= '+str(max_len)+' & seqlen>= '+str(min_len))\n",
        "    return slice"
      ],
      "execution_count": 5,
      "outputs": []
    },
    {
      "cell_type": "markdown",
      "metadata": {
        "id": "LdIS2utq9Kc9"
      },
      "source": [
        "Cross validation"
      ]
    },
    {
      "cell_type": "code",
      "metadata": {
        "id": "BVo4tbB_9Kc-"
      },
      "source": [
        "def do_cross_validation(X,y,given_model):\n",
        "    cv_scores = []\n",
        "    fold=0\n",
        "    splitter = ShuffleSplit(n_splits=SPLITS, test_size=0.1, random_state=37863)\n",
        "    for train_index,valid_index in splitter.split(X):\n",
        "        fold += 1\n",
        "        X_train=X[train_index] # use iloc[] for dataframe\n",
        "        y_train=y[train_index]\n",
        "        X_valid=X[valid_index]\n",
        "        y_valid=y[valid_index]        \n",
        "        # Avoid continually improving the same model.\n",
        "        model = compile_model(keras.models.clone_model(given_model))\n",
        "        bestname=MODEL_FILE+\".cv.\"+str(fold)+\".best\"\n",
        "        mycallbacks = [keras.callbacks.ModelCheckpoint(\n",
        "            filepath=bestname, save_best_only=True, \n",
        "            monitor='val_accuracy', mode='max')]   \n",
        "        print(\"FIT\")\n",
        "        start_time=time.time()\n",
        "        history=model.fit(X_train, y_train, # batch_size=10, default=32 works nicely\n",
        "                epochs=EPOCHS, verbose=1,  # verbose=1 for ascii art, verbose=0 for none\n",
        "                callbacks=mycallbacks,\n",
        "                validation_data=(X_valid,y_valid) )\n",
        "        end_time=time.time()\n",
        "        elapsed_time=(end_time-start_time)                        \n",
        "        print(\"Fold %d, %d epochs, %d sec\"%(fold,EPOCHS,elapsed_time))\n",
        "        pd.DataFrame(history.history).plot(figsize=(8,5))\n",
        "        plt.grid(True)\n",
        "        plt.gca().set_ylim(0,1)\n",
        "        plt.show()\n",
        "        best_model=keras.models.load_model(bestname)\n",
        "        scores = best_model.evaluate(X_valid, y_valid, verbose=0)\n",
        "        print(\"%s: %.2f%%\" % (best_model.metrics_names[1], scores[1]*100))\n",
        "        cv_scores.append(scores[1] * 100)  \n",
        "    print()\n",
        "    print(\"%d-way Cross Validation mean %.2f%% (+/- %.2f%%)\" % (fold, np.mean(cv_scores), np.std(cv_scores)))"
      ],
      "execution_count": 6,
      "outputs": []
    },
    {
      "cell_type": "markdown",
      "metadata": {
        "id": "qd3Wj_vI9KdP"
      },
      "source": [
        "## Train on RNA lengths 200-1Kb"
      ]
    },
    {
      "cell_type": "code",
      "metadata": {
        "colab": {
          "base_uri": "https://localhost:8080/"
        },
        "id": "f8fNo6sn9KdH",
        "outputId": "86b33646-2cb2-4d15-d6ab-ac8bac4728ee"
      },
      "source": [
        "MINLEN=200\n",
        "MAXLEN=1000\n",
        "print(\"Load data from files.\")\n",
        "nc_seq=tools.load_fasta(NC_FILENAME,0)\n",
        "pc_seq=tools.load_fasta(PC_FILENAME,1)\n",
        "train_set=pd.concat((nc_seq,pc_seq),axis=0)\n",
        "nc_seq=None\n",
        "pc_seq=None\n",
        "print(\"Ready: train_set\")\n",
        "#train_set\n",
        "subset=make_slice(train_set,MINLEN,MAXLEN)# One array to two: X and y\n",
        "print (\"Data reshape\")\n",
        "(X_train,y_train)=tools.make_kmers(K,MAXLEN,subset)\n",
        "#print (\"Data prep\")\n",
        "#X_train=tools.make_frequencies(K,X_train)"
      ],
      "execution_count": 7,
      "outputs": [
        {
          "output_type": "stream",
          "text": [
            "Load data from files.\n",
            "Ready: train_set\n",
            "Data reshape\n"
          ],
          "name": "stdout"
        }
      ]
    },
    {
      "cell_type": "code",
      "metadata": {
        "colab": {
          "base_uri": "https://localhost:8080/"
        },
        "id": "G1HuSs8ZbeL4",
        "outputId": "38a46599-9173-4bcc-d99c-01649786e838"
      },
      "source": [
        "print (\"Compile the model\")\n",
        "model=build_model()\n",
        "print (\"Summarize the model\")\n",
        "print(model.summary())  # Print this only once\n",
        "model.save(MODEL_FILE+'.model')\n"
      ],
      "execution_count": 8,
      "outputs": [
        {
          "output_type": "stream",
          "text": [
            "Compile the model\n",
            "COMPILE...\n",
            "...COMPILED\n",
            "Summarize the model\n",
            "Model: \"sequential\"\n",
            "_________________________________________________________________\n",
            "Layer (type)                 Output Shape              Param #   \n",
            "=================================================================\n",
            "embedding (Embedding)        (None, None, 16)          1040      \n",
            "_________________________________________________________________\n",
            "bidirectional (Bidirectional (None, None, 32)          4224      \n",
            "_________________________________________________________________\n",
            "bidirectional_1 (Bidirection (None, 32)                6272      \n",
            "_________________________________________________________________\n",
            "dense (Dense)                (None, 16)                528       \n",
            "_________________________________________________________________\n",
            "dropout (Dropout)            (None, 16)                0         \n",
            "_________________________________________________________________\n",
            "dense_1 (Dense)              (None, 16)                272       \n",
            "_________________________________________________________________\n",
            "dropout_1 (Dropout)          (None, 16)                0         \n",
            "_________________________________________________________________\n",
            "dense_2 (Dense)              (None, 1)                 17        \n",
            "=================================================================\n",
            "Total params: 12,353\n",
            "Trainable params: 12,353\n",
            "Non-trainable params: 0\n",
            "_________________________________________________________________\n",
            "None\n"
          ],
          "name": "stdout"
        },
        {
          "output_type": "stream",
          "text": [
            "WARNING:absl:Found untraced functions such as lstm_cell_1_layer_call_fn, lstm_cell_1_layer_call_and_return_conditional_losses, lstm_cell_2_layer_call_fn, lstm_cell_2_layer_call_and_return_conditional_losses, lstm_cell_4_layer_call_fn while saving (showing 5 of 20). These functions will not be directly callable after loading.\n",
            "WARNING:absl:Found untraced functions such as lstm_cell_1_layer_call_fn, lstm_cell_1_layer_call_and_return_conditional_losses, lstm_cell_2_layer_call_fn, lstm_cell_2_layer_call_and_return_conditional_losses, lstm_cell_4_layer_call_fn while saving (showing 5 of 20). These functions will not be directly callable after loading.\n"
          ],
          "name": "stderr"
        },
        {
          "output_type": "stream",
          "text": [
            "INFO:tensorflow:Assets written to: /content/drive/My Drive/data/LSTM302.model/assets\n"
          ],
          "name": "stdout"
        },
        {
          "output_type": "stream",
          "text": [
            "INFO:tensorflow:Assets written to: /content/drive/My Drive/data/LSTM302.model/assets\n"
          ],
          "name": "stderr"
        }
      ]
    },
    {
      "cell_type": "code",
      "metadata": {
        "colab": {
          "base_uri": "https://localhost:8080/",
          "height": 1000
        },
        "id": "mQ8eW5Rg9KdQ",
        "outputId": "baa894bf-928e-43aa-a939-4844bb712e25"
      },
      "source": [
        "print (\"Cross valiation\")\n",
        "do_cross_validation(X_train,y_train,model)  \n",
        "print (\"Done\")"
      ],
      "execution_count": 9,
      "outputs": [
        {
          "output_type": "stream",
          "text": [
            "Cross valiation\n",
            "COMPILE...\n",
            "...COMPILED\n",
            "FIT\n",
            "Epoch 1/100\n",
            "453/453 [==============================] - 81s 139ms/step - loss: 0.6233 - accuracy: 0.6681 - val_loss: 0.5548 - val_accuracy: 0.7300\n"
          ],
          "name": "stdout"
        },
        {
          "output_type": "stream",
          "text": [
            "WARNING:absl:Found untraced functions such as lstm_cell_7_layer_call_fn, lstm_cell_7_layer_call_and_return_conditional_losses, lstm_cell_8_layer_call_fn, lstm_cell_8_layer_call_and_return_conditional_losses, lstm_cell_10_layer_call_fn while saving (showing 5 of 20). These functions will not be directly callable after loading.\n",
            "WARNING:absl:Found untraced functions such as lstm_cell_7_layer_call_fn, lstm_cell_7_layer_call_and_return_conditional_losses, lstm_cell_8_layer_call_fn, lstm_cell_8_layer_call_and_return_conditional_losses, lstm_cell_10_layer_call_fn while saving (showing 5 of 20). These functions will not be directly callable after loading.\n"
          ],
          "name": "stderr"
        },
        {
          "output_type": "stream",
          "text": [
            "INFO:tensorflow:Assets written to: /content/drive/My Drive/data/LSTM302.cv.1.best/assets\n"
          ],
          "name": "stdout"
        },
        {
          "output_type": "stream",
          "text": [
            "INFO:tensorflow:Assets written to: /content/drive/My Drive/data/LSTM302.cv.1.best/assets\n"
          ],
          "name": "stderr"
        },
        {
          "output_type": "stream",
          "text": [
            "Epoch 2/100\n",
            "453/453 [==============================] - 60s 132ms/step - loss: 0.5661 - accuracy: 0.7190 - val_loss: 0.5594 - val_accuracy: 0.7182\n",
            "Epoch 3/100\n",
            "453/453 [==============================] - 59s 129ms/step - loss: 0.5594 - accuracy: 0.7205 - val_loss: 0.5159 - val_accuracy: 0.7616\n"
          ],
          "name": "stdout"
        },
        {
          "output_type": "stream",
          "text": [
            "WARNING:absl:Found untraced functions such as lstm_cell_7_layer_call_fn, lstm_cell_7_layer_call_and_return_conditional_losses, lstm_cell_8_layer_call_fn, lstm_cell_8_layer_call_and_return_conditional_losses, lstm_cell_10_layer_call_fn while saving (showing 5 of 20). These functions will not be directly callable after loading.\n",
            "WARNING:absl:Found untraced functions such as lstm_cell_7_layer_call_fn, lstm_cell_7_layer_call_and_return_conditional_losses, lstm_cell_8_layer_call_fn, lstm_cell_8_layer_call_and_return_conditional_losses, lstm_cell_10_layer_call_fn while saving (showing 5 of 20). These functions will not be directly callable after loading.\n"
          ],
          "name": "stderr"
        },
        {
          "output_type": "stream",
          "text": [
            "INFO:tensorflow:Assets written to: /content/drive/My Drive/data/LSTM302.cv.1.best/assets\n"
          ],
          "name": "stdout"
        },
        {
          "output_type": "stream",
          "text": [
            "INFO:tensorflow:Assets written to: /content/drive/My Drive/data/LSTM302.cv.1.best/assets\n"
          ],
          "name": "stderr"
        },
        {
          "output_type": "stream",
          "text": [
            "Epoch 4/100\n",
            "453/453 [==============================] - 59s 129ms/step - loss: 0.5431 - accuracy: 0.7349 - val_loss: 0.5083 - val_accuracy: 0.7672\n"
          ],
          "name": "stdout"
        },
        {
          "output_type": "stream",
          "text": [
            "WARNING:absl:Found untraced functions such as lstm_cell_7_layer_call_fn, lstm_cell_7_layer_call_and_return_conditional_losses, lstm_cell_8_layer_call_fn, lstm_cell_8_layer_call_and_return_conditional_losses, lstm_cell_10_layer_call_fn while saving (showing 5 of 20). These functions will not be directly callable after loading.\n",
            "WARNING:absl:Found untraced functions such as lstm_cell_7_layer_call_fn, lstm_cell_7_layer_call_and_return_conditional_losses, lstm_cell_8_layer_call_fn, lstm_cell_8_layer_call_and_return_conditional_losses, lstm_cell_10_layer_call_fn while saving (showing 5 of 20). These functions will not be directly callable after loading.\n"
          ],
          "name": "stderr"
        },
        {
          "output_type": "stream",
          "text": [
            "INFO:tensorflow:Assets written to: /content/drive/My Drive/data/LSTM302.cv.1.best/assets\n"
          ],
          "name": "stdout"
        },
        {
          "output_type": "stream",
          "text": [
            "INFO:tensorflow:Assets written to: /content/drive/My Drive/data/LSTM302.cv.1.best/assets\n"
          ],
          "name": "stderr"
        },
        {
          "output_type": "stream",
          "text": [
            "Epoch 5/100\n",
            "453/453 [==============================] - 59s 131ms/step - loss: 0.5619 - accuracy: 0.7291 - val_loss: 0.5178 - val_accuracy: 0.7511\n",
            "Epoch 6/100\n",
            "453/453 [==============================] - 60s 131ms/step - loss: 0.5446 - accuracy: 0.7390 - val_loss: 0.5474 - val_accuracy: 0.6822\n",
            "Epoch 7/100\n",
            "453/453 [==============================] - 59s 129ms/step - loss: 0.6063 - accuracy: 0.6842 - val_loss: 0.5875 - val_accuracy: 0.7064\n",
            "Epoch 8/100\n",
            "453/453 [==============================] - 60s 132ms/step - loss: 0.5957 - accuracy: 0.6915 - val_loss: 0.5496 - val_accuracy: 0.7349\n",
            "Epoch 9/100\n",
            "453/453 [==============================] - 59s 130ms/step - loss: 0.5694 - accuracy: 0.7031 - val_loss: 0.6566 - val_accuracy: 0.6046\n",
            "Epoch 10/100\n",
            "453/453 [==============================] - 60s 132ms/step - loss: 0.5750 - accuracy: 0.7073 - val_loss: 0.5088 - val_accuracy: 0.7610\n",
            "Epoch 11/100\n",
            "453/453 [==============================] - 60s 131ms/step - loss: 0.5303 - accuracy: 0.7481 - val_loss: 0.5125 - val_accuracy: 0.7623\n",
            "Epoch 12/100\n",
            "453/453 [==============================] - 59s 130ms/step - loss: 0.5411 - accuracy: 0.7387 - val_loss: 0.5133 - val_accuracy: 0.7610\n",
            "Epoch 13/100\n",
            "453/453 [==============================] - 59s 131ms/step - loss: 0.5340 - accuracy: 0.7372 - val_loss: 0.4324 - val_accuracy: 0.8007\n"
          ],
          "name": "stdout"
        },
        {
          "output_type": "stream",
          "text": [
            "WARNING:absl:Found untraced functions such as lstm_cell_7_layer_call_fn, lstm_cell_7_layer_call_and_return_conditional_losses, lstm_cell_8_layer_call_fn, lstm_cell_8_layer_call_and_return_conditional_losses, lstm_cell_10_layer_call_fn while saving (showing 5 of 20). These functions will not be directly callable after loading.\n",
            "WARNING:absl:Found untraced functions such as lstm_cell_7_layer_call_fn, lstm_cell_7_layer_call_and_return_conditional_losses, lstm_cell_8_layer_call_fn, lstm_cell_8_layer_call_and_return_conditional_losses, lstm_cell_10_layer_call_fn while saving (showing 5 of 20). These functions will not be directly callable after loading.\n"
          ],
          "name": "stderr"
        },
        {
          "output_type": "stream",
          "text": [
            "INFO:tensorflow:Assets written to: /content/drive/My Drive/data/LSTM302.cv.1.best/assets\n"
          ],
          "name": "stdout"
        },
        {
          "output_type": "stream",
          "text": [
            "INFO:tensorflow:Assets written to: /content/drive/My Drive/data/LSTM302.cv.1.best/assets\n"
          ],
          "name": "stderr"
        },
        {
          "output_type": "stream",
          "text": [
            "Epoch 14/100\n",
            "453/453 [==============================] - 59s 130ms/step - loss: 0.4755 - accuracy: 0.7798 - val_loss: 0.4518 - val_accuracy: 0.7790\n",
            "Epoch 15/100\n",
            "453/453 [==============================] - 58s 127ms/step - loss: 0.4637 - accuracy: 0.7763 - val_loss: 0.4241 - val_accuracy: 0.8001\n",
            "Epoch 16/100\n",
            "453/453 [==============================] - 59s 130ms/step - loss: 0.4509 - accuracy: 0.7797 - val_loss: 0.4039 - val_accuracy: 0.8144\n"
          ],
          "name": "stdout"
        },
        {
          "output_type": "stream",
          "text": [
            "WARNING:absl:Found untraced functions such as lstm_cell_7_layer_call_fn, lstm_cell_7_layer_call_and_return_conditional_losses, lstm_cell_8_layer_call_fn, lstm_cell_8_layer_call_and_return_conditional_losses, lstm_cell_10_layer_call_fn while saving (showing 5 of 20). These functions will not be directly callable after loading.\n",
            "WARNING:absl:Found untraced functions such as lstm_cell_7_layer_call_fn, lstm_cell_7_layer_call_and_return_conditional_losses, lstm_cell_8_layer_call_fn, lstm_cell_8_layer_call_and_return_conditional_losses, lstm_cell_10_layer_call_fn while saving (showing 5 of 20). These functions will not be directly callable after loading.\n"
          ],
          "name": "stderr"
        },
        {
          "output_type": "stream",
          "text": [
            "INFO:tensorflow:Assets written to: /content/drive/My Drive/data/LSTM302.cv.1.best/assets\n"
          ],
          "name": "stdout"
        },
        {
          "output_type": "stream",
          "text": [
            "INFO:tensorflow:Assets written to: /content/drive/My Drive/data/LSTM302.cv.1.best/assets\n"
          ],
          "name": "stderr"
        },
        {
          "output_type": "stream",
          "text": [
            "Epoch 17/100\n",
            "453/453 [==============================] - 60s 132ms/step - loss: 0.4548 - accuracy: 0.7830 - val_loss: 0.4016 - val_accuracy: 0.8107\n",
            "Epoch 18/100\n",
            "453/453 [==============================] - 59s 131ms/step - loss: 0.4127 - accuracy: 0.8173 - val_loss: 0.3828 - val_accuracy: 0.8237\n"
          ],
          "name": "stdout"
        },
        {
          "output_type": "stream",
          "text": [
            "WARNING:absl:Found untraced functions such as lstm_cell_7_layer_call_fn, lstm_cell_7_layer_call_and_return_conditional_losses, lstm_cell_8_layer_call_fn, lstm_cell_8_layer_call_and_return_conditional_losses, lstm_cell_10_layer_call_fn while saving (showing 5 of 20). These functions will not be directly callable after loading.\n",
            "WARNING:absl:Found untraced functions such as lstm_cell_7_layer_call_fn, lstm_cell_7_layer_call_and_return_conditional_losses, lstm_cell_8_layer_call_fn, lstm_cell_8_layer_call_and_return_conditional_losses, lstm_cell_10_layer_call_fn while saving (showing 5 of 20). These functions will not be directly callable after loading.\n"
          ],
          "name": "stderr"
        },
        {
          "output_type": "stream",
          "text": [
            "INFO:tensorflow:Assets written to: /content/drive/My Drive/data/LSTM302.cv.1.best/assets\n"
          ],
          "name": "stdout"
        },
        {
          "output_type": "stream",
          "text": [
            "INFO:tensorflow:Assets written to: /content/drive/My Drive/data/LSTM302.cv.1.best/assets\n"
          ],
          "name": "stderr"
        },
        {
          "output_type": "stream",
          "text": [
            "Epoch 19/100\n",
            "453/453 [==============================] - 59s 131ms/step - loss: 0.4110 - accuracy: 0.8199 - val_loss: 0.3730 - val_accuracy: 0.8281\n"
          ],
          "name": "stdout"
        },
        {
          "output_type": "stream",
          "text": [
            "WARNING:absl:Found untraced functions such as lstm_cell_7_layer_call_fn, lstm_cell_7_layer_call_and_return_conditional_losses, lstm_cell_8_layer_call_fn, lstm_cell_8_layer_call_and_return_conditional_losses, lstm_cell_10_layer_call_fn while saving (showing 5 of 20). These functions will not be directly callable after loading.\n",
            "WARNING:absl:Found untraced functions such as lstm_cell_7_layer_call_fn, lstm_cell_7_layer_call_and_return_conditional_losses, lstm_cell_8_layer_call_fn, lstm_cell_8_layer_call_and_return_conditional_losses, lstm_cell_10_layer_call_fn while saving (showing 5 of 20). These functions will not be directly callable after loading.\n"
          ],
          "name": "stderr"
        },
        {
          "output_type": "stream",
          "text": [
            "INFO:tensorflow:Assets written to: /content/drive/My Drive/data/LSTM302.cv.1.best/assets\n"
          ],
          "name": "stdout"
        },
        {
          "output_type": "stream",
          "text": [
            "INFO:tensorflow:Assets written to: /content/drive/My Drive/data/LSTM302.cv.1.best/assets\n"
          ],
          "name": "stderr"
        },
        {
          "output_type": "stream",
          "text": [
            "Epoch 20/100\n",
            "453/453 [==============================] - 59s 130ms/step - loss: 0.4155 - accuracy: 0.8162 - val_loss: 0.3930 - val_accuracy: 0.8318\n"
          ],
          "name": "stdout"
        },
        {
          "output_type": "stream",
          "text": [
            "WARNING:absl:Found untraced functions such as lstm_cell_7_layer_call_fn, lstm_cell_7_layer_call_and_return_conditional_losses, lstm_cell_8_layer_call_fn, lstm_cell_8_layer_call_and_return_conditional_losses, lstm_cell_10_layer_call_fn while saving (showing 5 of 20). These functions will not be directly callable after loading.\n",
            "WARNING:absl:Found untraced functions such as lstm_cell_7_layer_call_fn, lstm_cell_7_layer_call_and_return_conditional_losses, lstm_cell_8_layer_call_fn, lstm_cell_8_layer_call_and_return_conditional_losses, lstm_cell_10_layer_call_fn while saving (showing 5 of 20). These functions will not be directly callable after loading.\n"
          ],
          "name": "stderr"
        },
        {
          "output_type": "stream",
          "text": [
            "INFO:tensorflow:Assets written to: /content/drive/My Drive/data/LSTM302.cv.1.best/assets\n"
          ],
          "name": "stdout"
        },
        {
          "output_type": "stream",
          "text": [
            "INFO:tensorflow:Assets written to: /content/drive/My Drive/data/LSTM302.cv.1.best/assets\n"
          ],
          "name": "stderr"
        },
        {
          "output_type": "stream",
          "text": [
            "Epoch 21/100\n",
            "453/453 [==============================] - 59s 130ms/step - loss: 0.4002 - accuracy: 0.8238 - val_loss: 0.3720 - val_accuracy: 0.8262\n",
            "Epoch 22/100\n",
            "453/453 [==============================] - 60s 131ms/step - loss: 0.4028 - accuracy: 0.8266 - val_loss: 0.3660 - val_accuracy: 0.8324\n"
          ],
          "name": "stdout"
        },
        {
          "output_type": "stream",
          "text": [
            "WARNING:absl:Found untraced functions such as lstm_cell_7_layer_call_fn, lstm_cell_7_layer_call_and_return_conditional_losses, lstm_cell_8_layer_call_fn, lstm_cell_8_layer_call_and_return_conditional_losses, lstm_cell_10_layer_call_fn while saving (showing 5 of 20). These functions will not be directly callable after loading.\n",
            "WARNING:absl:Found untraced functions such as lstm_cell_7_layer_call_fn, lstm_cell_7_layer_call_and_return_conditional_losses, lstm_cell_8_layer_call_fn, lstm_cell_8_layer_call_and_return_conditional_losses, lstm_cell_10_layer_call_fn while saving (showing 5 of 20). These functions will not be directly callable after loading.\n"
          ],
          "name": "stderr"
        },
        {
          "output_type": "stream",
          "text": [
            "INFO:tensorflow:Assets written to: /content/drive/My Drive/data/LSTM302.cv.1.best/assets\n"
          ],
          "name": "stdout"
        },
        {
          "output_type": "stream",
          "text": [
            "INFO:tensorflow:Assets written to: /content/drive/My Drive/data/LSTM302.cv.1.best/assets\n"
          ],
          "name": "stderr"
        },
        {
          "output_type": "stream",
          "text": [
            "Epoch 23/100\n",
            "453/453 [==============================] - 59s 130ms/step - loss: 0.3978 - accuracy: 0.8258 - val_loss: 0.3885 - val_accuracy: 0.8194\n",
            "Epoch 24/100\n",
            "453/453 [==============================] - 60s 132ms/step - loss: 0.3897 - accuracy: 0.8305 - val_loss: 0.3961 - val_accuracy: 0.8274\n",
            "Epoch 25/100\n",
            "453/453 [==============================] - 60s 133ms/step - loss: 0.4024 - accuracy: 0.8250 - val_loss: 0.3725 - val_accuracy: 0.8343\n"
          ],
          "name": "stdout"
        },
        {
          "output_type": "stream",
          "text": [
            "WARNING:absl:Found untraced functions such as lstm_cell_7_layer_call_fn, lstm_cell_7_layer_call_and_return_conditional_losses, lstm_cell_8_layer_call_fn, lstm_cell_8_layer_call_and_return_conditional_losses, lstm_cell_10_layer_call_fn while saving (showing 5 of 20). These functions will not be directly callable after loading.\n",
            "WARNING:absl:Found untraced functions such as lstm_cell_7_layer_call_fn, lstm_cell_7_layer_call_and_return_conditional_losses, lstm_cell_8_layer_call_fn, lstm_cell_8_layer_call_and_return_conditional_losses, lstm_cell_10_layer_call_fn while saving (showing 5 of 20). These functions will not be directly callable after loading.\n"
          ],
          "name": "stderr"
        },
        {
          "output_type": "stream",
          "text": [
            "INFO:tensorflow:Assets written to: /content/drive/My Drive/data/LSTM302.cv.1.best/assets\n"
          ],
          "name": "stdout"
        },
        {
          "output_type": "stream",
          "text": [
            "INFO:tensorflow:Assets written to: /content/drive/My Drive/data/LSTM302.cv.1.best/assets\n"
          ],
          "name": "stderr"
        },
        {
          "output_type": "stream",
          "text": [
            "Epoch 26/100\n",
            "453/453 [==============================] - 60s 133ms/step - loss: 0.3967 - accuracy: 0.8249 - val_loss: 0.3788 - val_accuracy: 0.8268\n",
            "Epoch 27/100\n",
            "453/453 [==============================] - 61s 134ms/step - loss: 0.4038 - accuracy: 0.8242 - val_loss: 0.3790 - val_accuracy: 0.8231\n",
            "Epoch 28/100\n",
            "453/453 [==============================] - 60s 133ms/step - loss: 0.3920 - accuracy: 0.8280 - val_loss: 0.3764 - val_accuracy: 0.8274\n",
            "Epoch 29/100\n",
            "453/453 [==============================] - 60s 132ms/step - loss: 0.3789 - accuracy: 0.8350 - val_loss: 0.3541 - val_accuracy: 0.8442\n"
          ],
          "name": "stdout"
        },
        {
          "output_type": "stream",
          "text": [
            "WARNING:absl:Found untraced functions such as lstm_cell_7_layer_call_fn, lstm_cell_7_layer_call_and_return_conditional_losses, lstm_cell_8_layer_call_fn, lstm_cell_8_layer_call_and_return_conditional_losses, lstm_cell_10_layer_call_fn while saving (showing 5 of 20). These functions will not be directly callable after loading.\n",
            "WARNING:absl:Found untraced functions such as lstm_cell_7_layer_call_fn, lstm_cell_7_layer_call_and_return_conditional_losses, lstm_cell_8_layer_call_fn, lstm_cell_8_layer_call_and_return_conditional_losses, lstm_cell_10_layer_call_fn while saving (showing 5 of 20). These functions will not be directly callable after loading.\n"
          ],
          "name": "stderr"
        },
        {
          "output_type": "stream",
          "text": [
            "INFO:tensorflow:Assets written to: /content/drive/My Drive/data/LSTM302.cv.1.best/assets\n"
          ],
          "name": "stdout"
        },
        {
          "output_type": "stream",
          "text": [
            "INFO:tensorflow:Assets written to: /content/drive/My Drive/data/LSTM302.cv.1.best/assets\n"
          ],
          "name": "stderr"
        },
        {
          "output_type": "stream",
          "text": [
            "Epoch 30/100\n",
            "453/453 [==============================] - 60s 132ms/step - loss: 0.3815 - accuracy: 0.8355 - val_loss: 0.3716 - val_accuracy: 0.8355\n",
            "Epoch 31/100\n",
            "453/453 [==============================] - 60s 133ms/step - loss: 0.3951 - accuracy: 0.8259 - val_loss: 0.3575 - val_accuracy: 0.8361\n",
            "Epoch 32/100\n",
            "453/453 [==============================] - 59s 130ms/step - loss: 0.3856 - accuracy: 0.8327 - val_loss: 0.3586 - val_accuracy: 0.8374\n",
            "Epoch 33/100\n",
            "453/453 [==============================] - 59s 130ms/step - loss: 0.3799 - accuracy: 0.8387 - val_loss: 0.3595 - val_accuracy: 0.8367\n",
            "Epoch 34/100\n",
            "453/453 [==============================] - 59s 130ms/step - loss: 0.3846 - accuracy: 0.8315 - val_loss: 0.3553 - val_accuracy: 0.8417\n",
            "Epoch 35/100\n",
            "453/453 [==============================] - 59s 130ms/step - loss: 0.3823 - accuracy: 0.8356 - val_loss: 0.3481 - val_accuracy: 0.8417\n",
            "Epoch 36/100\n",
            "453/453 [==============================] - 60s 132ms/step - loss: 0.3826 - accuracy: 0.8361 - val_loss: 0.3629 - val_accuracy: 0.8392\n",
            "Epoch 37/100\n",
            "453/453 [==============================] - 60s 133ms/step - loss: 0.3669 - accuracy: 0.8399 - val_loss: 0.3647 - val_accuracy: 0.8355\n",
            "Epoch 38/100\n",
            "453/453 [==============================] - 59s 131ms/step - loss: 0.3760 - accuracy: 0.8380 - val_loss: 0.3783 - val_accuracy: 0.8312\n",
            "Epoch 39/100\n",
            "453/453 [==============================] - 59s 131ms/step - loss: 0.3679 - accuracy: 0.8396 - val_loss: 0.3572 - val_accuracy: 0.8343\n",
            "Epoch 40/100\n",
            "453/453 [==============================] - 60s 133ms/step - loss: 0.3639 - accuracy: 0.8456 - val_loss: 0.3458 - val_accuracy: 0.8436\n",
            "Epoch 41/100\n",
            "453/453 [==============================] - 60s 132ms/step - loss: 0.3709 - accuracy: 0.8462 - val_loss: 0.3513 - val_accuracy: 0.8405\n",
            "Epoch 42/100\n",
            "453/453 [==============================] - 59s 130ms/step - loss: 0.3667 - accuracy: 0.8410 - val_loss: 0.4003 - val_accuracy: 0.8237\n",
            "Epoch 43/100\n",
            "453/453 [==============================] - 59s 130ms/step - loss: 0.3626 - accuracy: 0.8476 - val_loss: 0.3455 - val_accuracy: 0.8423\n",
            "Epoch 44/100\n",
            "453/453 [==============================] - 58s 128ms/step - loss: 0.3699 - accuracy: 0.8397 - val_loss: 0.3453 - val_accuracy: 0.8510\n"
          ],
          "name": "stdout"
        },
        {
          "output_type": "stream",
          "text": [
            "WARNING:absl:Found untraced functions such as lstm_cell_7_layer_call_fn, lstm_cell_7_layer_call_and_return_conditional_losses, lstm_cell_8_layer_call_fn, lstm_cell_8_layer_call_and_return_conditional_losses, lstm_cell_10_layer_call_fn while saving (showing 5 of 20). These functions will not be directly callable after loading.\n",
            "WARNING:absl:Found untraced functions such as lstm_cell_7_layer_call_fn, lstm_cell_7_layer_call_and_return_conditional_losses, lstm_cell_8_layer_call_fn, lstm_cell_8_layer_call_and_return_conditional_losses, lstm_cell_10_layer_call_fn while saving (showing 5 of 20). These functions will not be directly callable after loading.\n"
          ],
          "name": "stderr"
        },
        {
          "output_type": "stream",
          "text": [
            "INFO:tensorflow:Assets written to: /content/drive/My Drive/data/LSTM302.cv.1.best/assets\n"
          ],
          "name": "stdout"
        },
        {
          "output_type": "stream",
          "text": [
            "INFO:tensorflow:Assets written to: /content/drive/My Drive/data/LSTM302.cv.1.best/assets\n"
          ],
          "name": "stderr"
        },
        {
          "output_type": "stream",
          "text": [
            "Epoch 45/100\n",
            "453/453 [==============================] - 59s 129ms/step - loss: 0.3575 - accuracy: 0.8479 - val_loss: 0.3397 - val_accuracy: 0.8510\n",
            "Epoch 46/100\n",
            "453/453 [==============================] - 60s 132ms/step - loss: 0.3672 - accuracy: 0.8431 - val_loss: 0.3395 - val_accuracy: 0.8510\n",
            "Epoch 47/100\n",
            "453/453 [==============================] - 57s 125ms/step - loss: 0.3605 - accuracy: 0.8531 - val_loss: 0.3373 - val_accuracy: 0.8554\n"
          ],
          "name": "stdout"
        },
        {
          "output_type": "stream",
          "text": [
            "WARNING:absl:Found untraced functions such as lstm_cell_7_layer_call_fn, lstm_cell_7_layer_call_and_return_conditional_losses, lstm_cell_8_layer_call_fn, lstm_cell_8_layer_call_and_return_conditional_losses, lstm_cell_10_layer_call_fn while saving (showing 5 of 20). These functions will not be directly callable after loading.\n",
            "WARNING:absl:Found untraced functions such as lstm_cell_7_layer_call_fn, lstm_cell_7_layer_call_and_return_conditional_losses, lstm_cell_8_layer_call_fn, lstm_cell_8_layer_call_and_return_conditional_losses, lstm_cell_10_layer_call_fn while saving (showing 5 of 20). These functions will not be directly callable after loading.\n"
          ],
          "name": "stderr"
        },
        {
          "output_type": "stream",
          "text": [
            "INFO:tensorflow:Assets written to: /content/drive/My Drive/data/LSTM302.cv.1.best/assets\n"
          ],
          "name": "stdout"
        },
        {
          "output_type": "stream",
          "text": [
            "INFO:tensorflow:Assets written to: /content/drive/My Drive/data/LSTM302.cv.1.best/assets\n"
          ],
          "name": "stderr"
        },
        {
          "output_type": "stream",
          "text": [
            "Epoch 48/100\n",
            "453/453 [==============================] - 57s 126ms/step - loss: 0.3586 - accuracy: 0.8481 - val_loss: 0.3438 - val_accuracy: 0.8498\n",
            "Epoch 49/100\n",
            "453/453 [==============================] - 58s 128ms/step - loss: 0.3480 - accuracy: 0.8516 - val_loss: 0.3598 - val_accuracy: 0.8535\n",
            "Epoch 50/100\n",
            "453/453 [==============================] - 57s 127ms/step - loss: 0.3555 - accuracy: 0.8489 - val_loss: 0.3322 - val_accuracy: 0.8523\n",
            "Epoch 51/100\n",
            "453/453 [==============================] - 59s 130ms/step - loss: 0.3530 - accuracy: 0.8502 - val_loss: 0.3419 - val_accuracy: 0.8523\n",
            "Epoch 52/100\n",
            "453/453 [==============================] - 58s 129ms/step - loss: 0.3460 - accuracy: 0.8529 - val_loss: 0.3390 - val_accuracy: 0.8485\n",
            "Epoch 53/100\n",
            "453/453 [==============================] - 59s 130ms/step - loss: 0.3416 - accuracy: 0.8526 - val_loss: 0.3255 - val_accuracy: 0.8641\n"
          ],
          "name": "stdout"
        },
        {
          "output_type": "stream",
          "text": [
            "WARNING:absl:Found untraced functions such as lstm_cell_7_layer_call_fn, lstm_cell_7_layer_call_and_return_conditional_losses, lstm_cell_8_layer_call_fn, lstm_cell_8_layer_call_and_return_conditional_losses, lstm_cell_10_layer_call_fn while saving (showing 5 of 20). These functions will not be directly callable after loading.\n",
            "WARNING:absl:Found untraced functions such as lstm_cell_7_layer_call_fn, lstm_cell_7_layer_call_and_return_conditional_losses, lstm_cell_8_layer_call_fn, lstm_cell_8_layer_call_and_return_conditional_losses, lstm_cell_10_layer_call_fn while saving (showing 5 of 20). These functions will not be directly callable after loading.\n"
          ],
          "name": "stderr"
        },
        {
          "output_type": "stream",
          "text": [
            "INFO:tensorflow:Assets written to: /content/drive/My Drive/data/LSTM302.cv.1.best/assets\n"
          ],
          "name": "stdout"
        },
        {
          "output_type": "stream",
          "text": [
            "INFO:tensorflow:Assets written to: /content/drive/My Drive/data/LSTM302.cv.1.best/assets\n"
          ],
          "name": "stderr"
        },
        {
          "output_type": "stream",
          "text": [
            "Epoch 54/100\n",
            "453/453 [==============================] - 59s 131ms/step - loss: 0.3410 - accuracy: 0.8565 - val_loss: 0.3366 - val_accuracy: 0.8454\n",
            "Epoch 55/100\n",
            "453/453 [==============================] - 59s 130ms/step - loss: 0.3465 - accuracy: 0.8535 - val_loss: 0.3265 - val_accuracy: 0.8529\n",
            "Epoch 56/100\n",
            "453/453 [==============================] - 59s 131ms/step - loss: 0.3423 - accuracy: 0.8597 - val_loss: 0.3200 - val_accuracy: 0.8641\n",
            "Epoch 57/100\n",
            "453/453 [==============================] - 59s 129ms/step - loss: 0.3459 - accuracy: 0.8527 - val_loss: 0.3251 - val_accuracy: 0.8579\n",
            "Epoch 58/100\n",
            "453/453 [==============================] - 59s 130ms/step - loss: 0.3348 - accuracy: 0.8595 - val_loss: 0.3147 - val_accuracy: 0.8734\n"
          ],
          "name": "stdout"
        },
        {
          "output_type": "stream",
          "text": [
            "WARNING:absl:Found untraced functions such as lstm_cell_7_layer_call_fn, lstm_cell_7_layer_call_and_return_conditional_losses, lstm_cell_8_layer_call_fn, lstm_cell_8_layer_call_and_return_conditional_losses, lstm_cell_10_layer_call_fn while saving (showing 5 of 20). These functions will not be directly callable after loading.\n",
            "WARNING:absl:Found untraced functions such as lstm_cell_7_layer_call_fn, lstm_cell_7_layer_call_and_return_conditional_losses, lstm_cell_8_layer_call_fn, lstm_cell_8_layer_call_and_return_conditional_losses, lstm_cell_10_layer_call_fn while saving (showing 5 of 20). These functions will not be directly callable after loading.\n"
          ],
          "name": "stderr"
        },
        {
          "output_type": "stream",
          "text": [
            "INFO:tensorflow:Assets written to: /content/drive/My Drive/data/LSTM302.cv.1.best/assets\n"
          ],
          "name": "stdout"
        },
        {
          "output_type": "stream",
          "text": [
            "INFO:tensorflow:Assets written to: /content/drive/My Drive/data/LSTM302.cv.1.best/assets\n"
          ],
          "name": "stderr"
        },
        {
          "output_type": "stream",
          "text": [
            "Epoch 59/100\n",
            "453/453 [==============================] - 56s 124ms/step - loss: 0.3417 - accuracy: 0.8546 - val_loss: 0.3157 - val_accuracy: 0.8628\n",
            "Epoch 60/100\n",
            "453/453 [==============================] - 58s 128ms/step - loss: 0.3361 - accuracy: 0.8606 - val_loss: 0.3165 - val_accuracy: 0.8696\n",
            "Epoch 61/100\n",
            "453/453 [==============================] - 57s 125ms/step - loss: 0.3257 - accuracy: 0.8658 - val_loss: 0.3122 - val_accuracy: 0.8703\n",
            "Epoch 62/100\n",
            "453/453 [==============================] - 57s 125ms/step - loss: 0.3324 - accuracy: 0.8595 - val_loss: 0.3221 - val_accuracy: 0.8622\n",
            "Epoch 63/100\n",
            "453/453 [==============================] - 57s 126ms/step - loss: 0.3287 - accuracy: 0.8624 - val_loss: 0.3140 - val_accuracy: 0.8734\n",
            "Epoch 64/100\n",
            "453/453 [==============================] - 57s 125ms/step - loss: 0.3315 - accuracy: 0.8598 - val_loss: 0.3091 - val_accuracy: 0.8684\n",
            "Epoch 65/100\n",
            "453/453 [==============================] - 57s 126ms/step - loss: 0.3181 - accuracy: 0.8690 - val_loss: 0.3321 - val_accuracy: 0.8554\n",
            "Epoch 66/100\n",
            "453/453 [==============================] - 59s 130ms/step - loss: 0.3209 - accuracy: 0.8640 - val_loss: 0.3146 - val_accuracy: 0.8647\n",
            "Epoch 67/100\n",
            "453/453 [==============================] - 57s 126ms/step - loss: 0.3146 - accuracy: 0.8627 - val_loss: 0.3150 - val_accuracy: 0.8672\n",
            "Epoch 68/100\n",
            "453/453 [==============================] - 57s 126ms/step - loss: 0.3161 - accuracy: 0.8689 - val_loss: 0.3078 - val_accuracy: 0.8734\n",
            "Epoch 69/100\n",
            "453/453 [==============================] - 56s 125ms/step - loss: 0.3214 - accuracy: 0.8689 - val_loss: 0.3201 - val_accuracy: 0.8659\n",
            "Epoch 70/100\n",
            "453/453 [==============================] - 58s 127ms/step - loss: 0.3096 - accuracy: 0.8751 - val_loss: 0.3092 - val_accuracy: 0.8647\n",
            "Epoch 71/100\n",
            "453/453 [==============================] - 58s 128ms/step - loss: 0.3166 - accuracy: 0.8631 - val_loss: 0.3068 - val_accuracy: 0.8709\n",
            "Epoch 72/100\n",
            "453/453 [==============================] - 58s 128ms/step - loss: 0.3103 - accuracy: 0.8703 - val_loss: 0.3072 - val_accuracy: 0.8690\n",
            "Epoch 73/100\n",
            "453/453 [==============================] - 58s 128ms/step - loss: 0.3013 - accuracy: 0.8773 - val_loss: 0.3131 - val_accuracy: 0.8659\n",
            "Epoch 74/100\n",
            "453/453 [==============================] - 57s 126ms/step - loss: 0.3119 - accuracy: 0.8715 - val_loss: 0.3020 - val_accuracy: 0.8672\n",
            "Epoch 75/100\n",
            "453/453 [==============================] - 58s 128ms/step - loss: 0.3133 - accuracy: 0.8733 - val_loss: 0.3042 - val_accuracy: 0.8715\n",
            "Epoch 76/100\n",
            "453/453 [==============================] - 58s 128ms/step - loss: 0.3117 - accuracy: 0.8708 - val_loss: 0.2968 - val_accuracy: 0.8740\n"
          ],
          "name": "stdout"
        },
        {
          "output_type": "stream",
          "text": [
            "WARNING:absl:Found untraced functions such as lstm_cell_7_layer_call_fn, lstm_cell_7_layer_call_and_return_conditional_losses, lstm_cell_8_layer_call_fn, lstm_cell_8_layer_call_and_return_conditional_losses, lstm_cell_10_layer_call_fn while saving (showing 5 of 20). These functions will not be directly callable after loading.\n",
            "WARNING:absl:Found untraced functions such as lstm_cell_7_layer_call_fn, lstm_cell_7_layer_call_and_return_conditional_losses, lstm_cell_8_layer_call_fn, lstm_cell_8_layer_call_and_return_conditional_losses, lstm_cell_10_layer_call_fn while saving (showing 5 of 20). These functions will not be directly callable after loading.\n"
          ],
          "name": "stderr"
        },
        {
          "output_type": "stream",
          "text": [
            "INFO:tensorflow:Assets written to: /content/drive/My Drive/data/LSTM302.cv.1.best/assets\n"
          ],
          "name": "stdout"
        },
        {
          "output_type": "stream",
          "text": [
            "INFO:tensorflow:Assets written to: /content/drive/My Drive/data/LSTM302.cv.1.best/assets\n"
          ],
          "name": "stderr"
        },
        {
          "output_type": "stream",
          "text": [
            "Epoch 77/100\n",
            "453/453 [==============================] - 58s 128ms/step - loss: 0.3035 - accuracy: 0.8756 - val_loss: 0.3036 - val_accuracy: 0.8771\n"
          ],
          "name": "stdout"
        },
        {
          "output_type": "stream",
          "text": [
            "WARNING:absl:Found untraced functions such as lstm_cell_7_layer_call_fn, lstm_cell_7_layer_call_and_return_conditional_losses, lstm_cell_8_layer_call_fn, lstm_cell_8_layer_call_and_return_conditional_losses, lstm_cell_10_layer_call_fn while saving (showing 5 of 20). These functions will not be directly callable after loading.\n",
            "WARNING:absl:Found untraced functions such as lstm_cell_7_layer_call_fn, lstm_cell_7_layer_call_and_return_conditional_losses, lstm_cell_8_layer_call_fn, lstm_cell_8_layer_call_and_return_conditional_losses, lstm_cell_10_layer_call_fn while saving (showing 5 of 20). These functions will not be directly callable after loading.\n"
          ],
          "name": "stderr"
        },
        {
          "output_type": "stream",
          "text": [
            "INFO:tensorflow:Assets written to: /content/drive/My Drive/data/LSTM302.cv.1.best/assets\n"
          ],
          "name": "stdout"
        },
        {
          "output_type": "stream",
          "text": [
            "INFO:tensorflow:Assets written to: /content/drive/My Drive/data/LSTM302.cv.1.best/assets\n"
          ],
          "name": "stderr"
        },
        {
          "output_type": "stream",
          "text": [
            "Epoch 78/100\n",
            "453/453 [==============================] - 57s 127ms/step - loss: 0.3067 - accuracy: 0.8729 - val_loss: 0.3037 - val_accuracy: 0.8740\n",
            "Epoch 79/100\n",
            "453/453 [==============================] - 57s 126ms/step - loss: 0.3038 - accuracy: 0.8798 - val_loss: 0.3031 - val_accuracy: 0.8752\n",
            "Epoch 80/100\n",
            "453/453 [==============================] - 57s 126ms/step - loss: 0.3032 - accuracy: 0.8767 - val_loss: 0.3136 - val_accuracy: 0.8653\n",
            "Epoch 81/100\n",
            "453/453 [==============================] - 57s 126ms/step - loss: 0.2983 - accuracy: 0.8785 - val_loss: 0.2985 - val_accuracy: 0.8715\n",
            "Epoch 82/100\n",
            "453/453 [==============================] - 57s 126ms/step - loss: 0.2991 - accuracy: 0.8806 - val_loss: 0.2987 - val_accuracy: 0.8740\n",
            "Epoch 83/100\n",
            "453/453 [==============================] - 58s 128ms/step - loss: 0.2979 - accuracy: 0.8800 - val_loss: 0.3005 - val_accuracy: 0.8746\n",
            "Epoch 84/100\n",
            "453/453 [==============================] - 56s 125ms/step - loss: 0.2894 - accuracy: 0.8857 - val_loss: 0.3075 - val_accuracy: 0.8690\n",
            "Epoch 85/100\n",
            "453/453 [==============================] - 58s 128ms/step - loss: 0.3018 - accuracy: 0.8756 - val_loss: 0.2952 - val_accuracy: 0.8727\n",
            "Epoch 86/100\n",
            "453/453 [==============================] - 58s 128ms/step - loss: 0.2816 - accuracy: 0.8890 - val_loss: 0.3010 - val_accuracy: 0.8715\n",
            "Epoch 87/100\n",
            "453/453 [==============================] - 57s 127ms/step - loss: 0.2999 - accuracy: 0.8806 - val_loss: 0.3146 - val_accuracy: 0.8696\n",
            "Epoch 88/100\n",
            "453/453 [==============================] - 57s 126ms/step - loss: 0.2851 - accuracy: 0.8842 - val_loss: 0.3083 - val_accuracy: 0.8703\n",
            "Epoch 89/100\n",
            "453/453 [==============================] - 57s 125ms/step - loss: 0.2930 - accuracy: 0.8810 - val_loss: 0.3038 - val_accuracy: 0.8727\n",
            "Epoch 90/100\n",
            "453/453 [==============================] - 57s 125ms/step - loss: 0.2739 - accuracy: 0.8928 - val_loss: 0.3055 - val_accuracy: 0.8715\n",
            "Epoch 91/100\n",
            "453/453 [==============================] - 56s 124ms/step - loss: 0.2824 - accuracy: 0.8891 - val_loss: 0.3024 - val_accuracy: 0.8777\n"
          ],
          "name": "stdout"
        },
        {
          "output_type": "stream",
          "text": [
            "WARNING:absl:Found untraced functions such as lstm_cell_7_layer_call_fn, lstm_cell_7_layer_call_and_return_conditional_losses, lstm_cell_8_layer_call_fn, lstm_cell_8_layer_call_and_return_conditional_losses, lstm_cell_10_layer_call_fn while saving (showing 5 of 20). These functions will not be directly callable after loading.\n",
            "WARNING:absl:Found untraced functions such as lstm_cell_7_layer_call_fn, lstm_cell_7_layer_call_and_return_conditional_losses, lstm_cell_8_layer_call_fn, lstm_cell_8_layer_call_and_return_conditional_losses, lstm_cell_10_layer_call_fn while saving (showing 5 of 20). These functions will not be directly callable after loading.\n"
          ],
          "name": "stderr"
        },
        {
          "output_type": "stream",
          "text": [
            "INFO:tensorflow:Assets written to: /content/drive/My Drive/data/LSTM302.cv.1.best/assets\n"
          ],
          "name": "stdout"
        },
        {
          "output_type": "stream",
          "text": [
            "INFO:tensorflow:Assets written to: /content/drive/My Drive/data/LSTM302.cv.1.best/assets\n"
          ],
          "name": "stderr"
        },
        {
          "output_type": "stream",
          "text": [
            "Epoch 92/100\n",
            "453/453 [==============================] - 56s 124ms/step - loss: 0.2815 - accuracy: 0.8870 - val_loss: 0.2947 - val_accuracy: 0.8746\n",
            "Epoch 93/100\n",
            "453/453 [==============================] - 55s 122ms/step - loss: 0.2833 - accuracy: 0.8859 - val_loss: 0.3015 - val_accuracy: 0.8696\n",
            "Epoch 94/100\n",
            "453/453 [==============================] - 57s 125ms/step - loss: 0.2830 - accuracy: 0.8840 - val_loss: 0.2944 - val_accuracy: 0.8721\n",
            "Epoch 95/100\n",
            "453/453 [==============================] - 57s 126ms/step - loss: 0.2775 - accuracy: 0.8897 - val_loss: 0.3210 - val_accuracy: 0.8672\n",
            "Epoch 96/100\n",
            "453/453 [==============================] - 58s 128ms/step - loss: 0.2828 - accuracy: 0.8853 - val_loss: 0.3145 - val_accuracy: 0.8684\n",
            "Epoch 97/100\n",
            "453/453 [==============================] - 57s 127ms/step - loss: 0.2826 - accuracy: 0.8846 - val_loss: 0.2976 - val_accuracy: 0.8759\n",
            "Epoch 98/100\n",
            "453/453 [==============================] - 57s 125ms/step - loss: 0.2819 - accuracy: 0.8832 - val_loss: 0.3070 - val_accuracy: 0.8771\n",
            "Epoch 99/100\n",
            "453/453 [==============================] - 57s 126ms/step - loss: 0.2714 - accuracy: 0.8891 - val_loss: 0.2983 - val_accuracy: 0.8771\n",
            "Epoch 100/100\n",
            "453/453 [==============================] - 57s 126ms/step - loss: 0.2749 - accuracy: 0.8906 - val_loss: 0.3326 - val_accuracy: 0.8659\n",
            "Fold 1, 100 epochs, 6538 sec\n"
          ],
          "name": "stdout"
        },
        {
          "output_type": "display_data",
          "data": {
            "image/png": "[encoded data removed]",
            "text/plain": [
              "<Figure size 576x360 with 1 Axes>"
            ]
          },
          "metadata": {
            "tags": [],
            "needs_background": "light"
          }
        },
        {
          "output_type": "stream",
          "text": [
            "accuracy: 87.77%\n",
            "\n",
            "1-way Cross Validation mean 87.77% (+/- 0.00%)\n",
            "Done\n"
          ],
          "name": "stdout"
        }
      ]
    },
    {
      "cell_type": "code",
      "metadata": {
        "id": "p4fh2GI8beMQ"
      },
      "source": [
        ""
      ],
      "execution_count": 9,
      "outputs": []
    }
  ]
}