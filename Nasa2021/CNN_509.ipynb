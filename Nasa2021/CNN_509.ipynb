{
  "nbformat": 4,
  "nbformat_minor": 0,
  "metadata": {
    "accelerator": "GPU",
    "colab": {
      "name": "CNN_509.ipynb",
      "provenance": [],
      "collapsed_sections": [],
      "include_colab_link": true
    },
    "kernelspec": {
      "display_name": "Python 3",
      "language": "python",
      "name": "python3"
    },
    "language_info": {
      "codemirror_mode": {
        "name": "ipython",
        "version": 3
      },
      "file_extension": ".py",
      "mimetype": "text/x-python",
      "name": "python",
      "nbconvert_exporter": "python",
      "pygments_lexer": "ipython3",
      "version": "3.8.3"
    }
  },
  "cells": [
    {
      "cell_type": "markdown",
      "metadata": {
        "id": "view-in-github",
        "colab_type": "text"
      },
      "source": [
        "<a href=\"https://colab.research.google.com/github/ShepherdCode/ShepherdML/blob/master/Nasa2021/CNN_509.ipynb\" target=\"_parent\"><img src=\"https://colab.research.google.com/assets/colab-badge.svg\" alt=\"Open In Colab\"/></a>"
      ]
    },
    {
      "cell_type": "markdown",
      "metadata": {
        "id": "ojm_6E9f9Kcf"
      },
      "source": [
        "# CNN 509\n",
        "Start with CNN 304 which uses Conv1D layers.\n",
        "\n",
        "No need for K-mers with convolution. End reliance on make_kmers().\n",
        "\n",
        "256 Neurons\n"
      ]
    },
    {
      "cell_type": "code",
      "metadata": {
        "id": "hh6XplUvC0j0",
        "colab": {
          "base_uri": "https://localhost:8080/"
        },
        "outputId": "6f3d5ca2-a840-44a9-c4f2-d0c84eee6be8"
      },
      "source": [
        "#NC_FILENAME='ncRNA.tiny50.fasta'\n",
        "#PC_FILENAME='pcRNA.tiny50.fasta'\n",
        "NC_FILENAME='ncRNA.gc34.processed.fasta'\n",
        "PC_FILENAME='pcRNA.gc34.processed.fasta'\n",
        "\n",
        "MODEL_FILE='CNN509'  \n",
        "DATAPATH=''\n",
        "\n",
        "try:\n",
        "    from google.colab import drive\n",
        "    IN_COLAB = True\n",
        "    PATH='/content/drive/'\n",
        "    drive.mount(PATH)\n",
        "    DATAPATH=PATH+'My Drive/data/'  # must end in \"/\"\n",
        "except:\n",
        "    IN_COLAB = False\n",
        "    DATAPATH='data/'  # must end in \"/\"\n",
        "NC_FILENAME = DATAPATH+NC_FILENAME\n",
        "PC_FILENAME = DATAPATH+PC_FILENAME\n",
        "MODEL_FILE=DATAPATH+MODEL_FILE\n",
        "\n",
        "EPOCHS=50\n",
        "SPLITS=3\n",
        "K=1\n",
        "VOCABULARY_SIZE=4**K+1   # e.g. K=3 => 64 DNA K-mers + 'NNN'\n",
        "EMBED_DIMEN=2\n",
        "FILTERS=128\n",
        "KERNEL=3\n",
        "NEURONS=256\n",
        "DROP=0.25\n",
        "ACT=\"tanh\""
      ],
      "execution_count": 41,
      "outputs": [
        {
          "output_type": "stream",
          "text": [
            "Drive already mounted at /content/drive/; to attempt to forcibly remount, call drive.mount(\"/content/drive/\", force_remount=True).\n"
          ],
          "name": "stdout"
        }
      ]
    },
    {
      "cell_type": "code",
      "metadata": {
        "id": "e9TY3HK9ZklE",
        "colab": {
          "base_uri": "https://localhost:8080/"
        },
        "outputId": "322523f3-9e17-497b-cc2a-c22c4269bfa2"
      },
      "source": [
        "# Load our own tools\n",
        "# TO DO: don't go to GitHub if the file is already local.\n",
        "GITHUB = True\n",
        "if GITHUB:\n",
        "    #!pip install requests  # Uncomment this if necessary. Seems to be pre-installed.\n",
        "    import requests\n",
        "    r = requests.get('https://raw.githubusercontent.com/ShepherdCode/ShepherdML/master/Strings/tools_fasta.py')\n",
        "    with open('tools_fasta.py', 'w') as f:\n",
        "        f.write(r.text)\n",
        "    # TO DO: delete the file after import\n",
        "import tools_fasta as tools\n",
        "tools.yahoo()  # If this prints \"Yahoo!\" the the import was successful.\n",
        "\n",
        "TOOLS_CHANGED = False   # set to True to re-run with a new version of tools\n",
        "if TOOLS_CHANGED:\n",
        "  from importlib import reload \n",
        "  tools=reload(tools)\n",
        "  print(dir(tools))   # run this to see EVERYTHING in the tools module"
      ],
      "execution_count": 42,
      "outputs": [
        {
          "output_type": "stream",
          "text": [
            "Yahoo!\n"
          ],
          "name": "stdout"
        }
      ]
    },
    {
      "cell_type": "code",
      "metadata": {
        "id": "VQY7aTj29Kch"
      },
      "source": [
        "import numpy as np\n",
        "import pandas as pd\n",
        "import matplotlib.pyplot as plt\n",
        "from sklearn.model_selection import ShuffleSplit\n",
        "from sklearn.model_selection import cross_val_score\n",
        "from sklearn.model_selection import RepeatedKFold\n",
        "from sklearn.model_selection import StratifiedKFold\n",
        "import tensorflow as tf\n",
        "from tensorflow import keras\n",
        "import time\n",
        "dt='float32'\n",
        "tf.keras.backend.set_floatx(dt)"
      ],
      "execution_count": 43,
      "outputs": []
    },
    {
      "cell_type": "markdown",
      "metadata": {
        "id": "j7jcg6Wl9Kc2"
      },
      "source": [
        "Build model"
      ]
    },
    {
      "cell_type": "code",
      "metadata": {
        "id": "qLFNO1Xa9Kc3"
      },
      "source": [
        "def compile_model(model):\n",
        "    ## learn rate = initial_learning_rate * decay_rate ^ (step / decay_steps)\n",
        "    #adam_default_learn_rate = 0.001\n",
        "    #schedule = tf.keras.optimizers.schedules.ExponentialDecay(\n",
        "    #    initial_learning_rate = adam_default_learn_rate*10,\n",
        "    #    decay_steps=10000, decay_rate=0.99, staircase=True)\n",
        "    #alrd = tf.keras.optimizers.Adam(learning_rate=schedule)\n",
        "    #model.compile(loss=bc, optimizer=alrd, metrics=[\"accuracy\"])\n",
        "\n",
        "    print(\"COMPILE...\")\n",
        "    bc=tf.keras.losses.BinaryCrossentropy(from_logits=False)\n",
        "    model.compile(loss=bc, optimizer=\"adam\", metrics=[\"accuracy\"])\n",
        "    print(\"...COMPILED\")\n",
        "    return model\n",
        "\n",
        "def build_model():\n",
        "    SHAPE=(1000,5)  # 1000 time steps, 5 features\n",
        "    clayer1 = keras.layers.Conv1D(FILTERS,KERNEL,activation=ACT,padding=\"same\",\n",
        "                                 input_shape=SHAPE)\n",
        "    clayer2 = keras.layers.Conv1D(FILTERS,KERNEL,activation=ACT,padding=\"same\")\n",
        "    clayer3 = keras.layers.MaxPooling1D(2)\n",
        "    clayer4 = keras.layers.Conv1D(FILTERS,KERNEL,activation=ACT,padding=\"same\")\n",
        "    clayer5 = keras.layers.Conv1D(FILTERS,KERNEL,activation=ACT,padding=\"same\")\n",
        "    clayer6 = keras.layers.MaxPooling1D(2)\n",
        "    clayer7 = keras.layers.Flatten()\n",
        "\n",
        "    dlayer1 = keras.layers.Dense(NEURONS, activation=ACT,dtype=dt, input_shape=[1000])\n",
        "    dlayer2 = keras.layers.Dropout(DROP)\n",
        "    dlayer3 = keras.layers.Dense(NEURONS, activation=ACT,dtype=dt)\n",
        "    dlayer4 = keras.layers.Dropout(DROP)\n",
        "    output_layer = keras.layers.Dense(1, activation=\"sigmoid\", dtype=dt)\n",
        "\n",
        "    cnn = keras.models.Sequential()\n",
        "    cnn.add(clayer1)\n",
        "    cnn.add(clayer2)\n",
        "    cnn.add(clayer3)\n",
        "    cnn.add(clayer4)\n",
        "    cnn.add(clayer5)\n",
        "    cnn.add(clayer6)\n",
        "    cnn.add(clayer7)\n",
        "    cnn.add(dlayer1)\n",
        "    cnn.add(dlayer2)\n",
        "    cnn.add(dlayer3)\n",
        "    cnn.add(dlayer4)\n",
        "    cnn.add(output_layer)\n",
        "    mlpc = compile_model(cnn)\n",
        "    return mlpc"
      ],
      "execution_count": 44,
      "outputs": []
    },
    {
      "cell_type": "markdown",
      "metadata": {
        "id": "LdIS2utq9Kc9"
      },
      "source": [
        "Cross validation"
      ]
    },
    {
      "cell_type": "code",
      "metadata": {
        "id": "BVo4tbB_9Kc-"
      },
      "source": [
        "def do_cross_validation(X,y,given_model):\n",
        "    cv_scores = []\n",
        "    fold=0\n",
        "    splitter = ShuffleSplit(n_splits=SPLITS, test_size=0.1, random_state=37863)\n",
        "    for train_index,valid_index in splitter.split(X):\n",
        "        fold += 1\n",
        "        X_train=X[train_index] # use iloc[] for dataframe\n",
        "        y_train=y[train_index]\n",
        "        X_valid=X[valid_index]\n",
        "        y_valid=y[valid_index]        \n",
        "        # Avoid continually improving the same model.\n",
        "        model = compile_model(keras.models.clone_model(given_model))\n",
        "        bestname=MODEL_FILE+\".cv.\"+str(fold)+\".best\"\n",
        "        mycallbacks = [keras.callbacks.ModelCheckpoint(\n",
        "            filepath=bestname, save_best_only=True, \n",
        "            monitor='val_accuracy', mode='max')]   \n",
        "        print(\"FIT\")\n",
        "        start_time=time.time()\n",
        "        history=model.fit(X_train, y_train, # batch_size=10, default=32 works nicely\n",
        "                epochs=EPOCHS, verbose=1,  # verbose=1 for ascii art, verbose=0 for none\n",
        "                callbacks=mycallbacks,\n",
        "                validation_data=(X_valid,y_valid) )\n",
        "        end_time=time.time()\n",
        "        elapsed_time=(end_time-start_time)                        \n",
        "        print(\"Fold %d, %d epochs, %d sec\"%(fold,EPOCHS,elapsed_time))\n",
        "        pd.DataFrame(history.history).plot(figsize=(8,5))\n",
        "        plt.grid(True)\n",
        "        plt.gca().set_ylim(0,1)\n",
        "        plt.show()\n",
        "        best_model=keras.models.load_model(bestname)\n",
        "        scores = best_model.evaluate(X_valid, y_valid, verbose=0)\n",
        "        print(\"%s: %.2f%%\" % (best_model.metrics_names[1], scores[1]*100))\n",
        "        cv_scores.append(scores[1] * 100)  \n",
        "    print()\n",
        "    print(\"%d-way Cross Validation mean %.2f%% (+/- %.2f%%)\" % (fold, np.mean(cv_scores), np.std(cv_scores)))"
      ],
      "execution_count": 45,
      "outputs": []
    },
    {
      "cell_type": "markdown",
      "metadata": {
        "id": "qd3Wj_vI9KdP"
      },
      "source": [
        "## Train on RNA lengths 200-1Kb"
      ]
    },
    {
      "cell_type": "code",
      "metadata": {
        "id": "G1HuSs8ZbeL4",
        "colab": {
          "base_uri": "https://localhost:8080/"
        },
        "outputId": "794ff175-1963-40d2-9616-4612a2c94765"
      },
      "source": [
        "print (\"Compile the model\")\n",
        "model=build_model()\n",
        "print (\"Summarize the model\")\n",
        "print(model.summary())  # Print this only once\n",
        "#model.save(MODEL_FILE+'.model')\n"
      ],
      "execution_count": 46,
      "outputs": [
        {
          "output_type": "stream",
          "text": [
            "Compile the model\n",
            "COMPILE...\n",
            "...COMPILED\n",
            "Summarize the model\n",
            "Model: \"sequential_5\"\n",
            "_________________________________________________________________\n",
            "Layer (type)                 Output Shape              Param #   \n",
            "=================================================================\n",
            "conv1d_20 (Conv1D)           (None, 1000, 128)         2048      \n",
            "_________________________________________________________________\n",
            "conv1d_21 (Conv1D)           (None, 1000, 128)         49280     \n",
            "_________________________________________________________________\n",
            "max_pooling1d_10 (MaxPooling (None, 500, 128)          0         \n",
            "_________________________________________________________________\n",
            "conv1d_22 (Conv1D)           (None, 500, 128)          49280     \n",
            "_________________________________________________________________\n",
            "conv1d_23 (Conv1D)           (None, 500, 128)          49280     \n",
            "_________________________________________________________________\n",
            "max_pooling1d_11 (MaxPooling (None, 250, 128)          0         \n",
            "_________________________________________________________________\n",
            "flatten_5 (Flatten)          (None, 32000)             0         \n",
            "_________________________________________________________________\n",
            "dense_15 (Dense)             (None, 256)               8192256   \n",
            "_________________________________________________________________\n",
            "dropout_10 (Dropout)         (None, 256)               0         \n",
            "_________________________________________________________________\n",
            "dense_16 (Dense)             (None, 256)               65792     \n",
            "_________________________________________________________________\n",
            "dropout_11 (Dropout)         (None, 256)               0         \n",
            "_________________________________________________________________\n",
            "dense_17 (Dense)             (None, 1)                 257       \n",
            "=================================================================\n",
            "Total params: 8,408,193\n",
            "Trainable params: 8,408,193\n",
            "Non-trainable params: 0\n",
            "_________________________________________________________________\n",
            "None\n"
          ],
          "name": "stdout"
        }
      ]
    },
    {
      "cell_type": "code",
      "metadata": {
        "id": "f8fNo6sn9KdH",
        "colab": {
          "base_uri": "https://localhost:8080/"
        },
        "outputId": "190d2357-8456-4fbf-b7fb-7444f3cfa129"
      },
      "source": [
        "MINLEN=200\n",
        "MAXLEN=1000\n",
        "print(\"Load data from files.\")\n",
        "nc_seq=tools.load_fasta(NC_FILENAME,0)\n",
        "pc_seq=tools.load_fasta(PC_FILENAME,1)\n",
        "train_set=pd.concat((nc_seq,pc_seq),axis=0)\n",
        "nc_seq=None\n",
        "pc_seq=None\n",
        "print(\"Ready: train_set\")\n",
        "#train_set\n",
        "subset=tools.make_slice(train_set,MINLEN,MAXLEN)# One array to two: X and y\n",
        "(X1,y_train)=tools.separate_X_and_y(subset)\n",
        "# X1 is pandas df of (\"list\" of one sequence)\n",
        "X2=X1.to_numpy()  # numpy ndarray of (\"list\" of one sequence)\n",
        "X3=[elem[0] for elem in X2]  # numpy dnarray of str\n",
        "X4=tools.uniform_length(X3,MAXLEN)\n",
        "X5= [tools.one_hot(x) for x in X4]\n",
        "X_train=np.asarray(X5)\n",
        "y_train=y_train.to_numpy()\n",
        "\n",
        "subset=None\n",
        "X1=None\n",
        "X2=None\n",
        "X3=None\n",
        "X4=None\n",
        "X5=None"
      ],
      "execution_count": 47,
      "outputs": [
        {
          "output_type": "stream",
          "text": [
            "Load data from files.\n",
            "Ready: train_set\n"
          ],
          "name": "stdout"
        }
      ]
    },
    {
      "cell_type": "code",
      "metadata": {
        "id": "mQ8eW5Rg9KdQ",
        "colab": {
          "base_uri": "https://localhost:8080/",
          "height": 1000
        },
        "outputId": "1dd547c1-3e20-40b1-93a8-239f48601714"
      },
      "source": [
        "print (\"Cross valiation\")\n",
        "do_cross_validation(X_train,y_train,model)  \n",
        "print (\"Done\")"
      ],
      "execution_count": 48,
      "outputs": [
        {
          "output_type": "stream",
          "text": [
            "Cross valiation\n",
            "COMPILE...\n",
            "...COMPILED\n",
            "FIT\n",
            "Epoch 1/50\n",
            "453/453 [==============================] - 4s 8ms/step - loss: 0.7619 - accuracy: 0.5815 - val_loss: 0.6467 - val_accuracy: 0.6530\n",
            "INFO:tensorflow:Assets written to: /content/drive/My Drive/data/CNN509.cv.1.best/assets\n",
            "Epoch 2/50\n",
            "453/453 [==============================] - 4s 8ms/step - loss: 0.6977 - accuracy: 0.5882 - val_loss: 0.6534 - val_accuracy: 0.6530\n",
            "Epoch 3/50\n",
            "453/453 [==============================] - 3s 7ms/step - loss: 0.6735 - accuracy: 0.6180 - val_loss: 0.6469 - val_accuracy: 0.6530\n",
            "Epoch 4/50\n",
            "453/453 [==============================] - 3s 8ms/step - loss: 0.6680 - accuracy: 0.6307 - val_loss: 0.6534 - val_accuracy: 0.6530\n",
            "Epoch 5/50\n",
            "453/453 [==============================] - 3s 7ms/step - loss: 0.6661 - accuracy: 0.6297 - val_loss: 0.6637 - val_accuracy: 0.6530\n",
            "Epoch 6/50\n",
            "453/453 [==============================] - 3s 7ms/step - loss: 0.6615 - accuracy: 0.6404 - val_loss: 0.6457 - val_accuracy: 0.6530\n",
            "Epoch 7/50\n",
            "453/453 [==============================] - 3s 7ms/step - loss: 0.6576 - accuracy: 0.6434 - val_loss: 0.6476 - val_accuracy: 0.6530\n",
            "Epoch 8/50\n",
            "453/453 [==============================] - 3s 7ms/step - loss: 0.6582 - accuracy: 0.6435 - val_loss: 0.6458 - val_accuracy: 0.6530\n",
            "Epoch 9/50\n",
            "453/453 [==============================] - 3s 7ms/step - loss: 0.6606 - accuracy: 0.6354 - val_loss: 0.6474 - val_accuracy: 0.6530\n",
            "Epoch 10/50\n",
            "453/453 [==============================] - 3s 7ms/step - loss: 0.6570 - accuracy: 0.6417 - val_loss: 0.6497 - val_accuracy: 0.6530\n",
            "Epoch 11/50\n",
            "453/453 [==============================] - 3s 7ms/step - loss: 0.6599 - accuracy: 0.6358 - val_loss: 0.6465 - val_accuracy: 0.6530\n",
            "Epoch 12/50\n",
            "453/453 [==============================] - 3s 7ms/step - loss: 0.6621 - accuracy: 0.6358 - val_loss: 0.6467 - val_accuracy: 0.6530\n",
            "Epoch 13/50\n",
            "453/453 [==============================] - 3s 7ms/step - loss: 0.6585 - accuracy: 0.6408 - val_loss: 0.6524 - val_accuracy: 0.6530\n",
            "Epoch 14/50\n",
            "453/453 [==============================] - 3s 7ms/step - loss: 0.6578 - accuracy: 0.6432 - val_loss: 0.6463 - val_accuracy: 0.6530\n",
            "Epoch 15/50\n",
            "453/453 [==============================] - 3s 7ms/step - loss: 0.6599 - accuracy: 0.6343 - val_loss: 0.6700 - val_accuracy: 0.6530\n",
            "Epoch 16/50\n",
            "453/453 [==============================] - 3s 7ms/step - loss: 0.6601 - accuracy: 0.6373 - val_loss: 0.6536 - val_accuracy: 0.6530\n",
            "Epoch 17/50\n",
            "453/453 [==============================] - 3s 7ms/step - loss: 0.6554 - accuracy: 0.6439 - val_loss: 0.6468 - val_accuracy: 0.6530\n",
            "Epoch 18/50\n",
            "453/453 [==============================] - 3s 7ms/step - loss: 0.6531 - accuracy: 0.6461 - val_loss: 0.6458 - val_accuracy: 0.6530\n",
            "Epoch 19/50\n",
            "453/453 [==============================] - 3s 7ms/step - loss: 0.6570 - accuracy: 0.6424 - val_loss: 0.6465 - val_accuracy: 0.6530\n",
            "Epoch 20/50\n",
            "453/453 [==============================] - 3s 7ms/step - loss: 0.6614 - accuracy: 0.6358 - val_loss: 0.6498 - val_accuracy: 0.6530\n",
            "Epoch 21/50\n",
            "453/453 [==============================] - 3s 7ms/step - loss: 0.6599 - accuracy: 0.6368 - val_loss: 0.6474 - val_accuracy: 0.6530\n",
            "Epoch 22/50\n",
            "453/453 [==============================] - 3s 7ms/step - loss: 0.6594 - accuracy: 0.6384 - val_loss: 0.6592 - val_accuracy: 0.6530\n",
            "Epoch 23/50\n",
            "453/453 [==============================] - 3s 7ms/step - loss: 0.6611 - accuracy: 0.6344 - val_loss: 0.6522 - val_accuracy: 0.6530\n",
            "Epoch 24/50\n",
            "453/453 [==============================] - 3s 7ms/step - loss: 0.6605 - accuracy: 0.6357 - val_loss: 0.6456 - val_accuracy: 0.6530\n",
            "Epoch 25/50\n",
            "453/453 [==============================] - 3s 7ms/step - loss: 0.6547 - accuracy: 0.6427 - val_loss: 0.6474 - val_accuracy: 0.6530\n",
            "Epoch 26/50\n",
            "453/453 [==============================] - 3s 7ms/step - loss: 0.6607 - accuracy: 0.6358 - val_loss: 0.6456 - val_accuracy: 0.6530\n",
            "Epoch 27/50\n",
            "453/453 [==============================] - 3s 8ms/step - loss: 0.6623 - accuracy: 0.6350 - val_loss: 0.6463 - val_accuracy: 0.6530\n",
            "Epoch 28/50\n",
            "453/453 [==============================] - 3s 7ms/step - loss: 0.6626 - accuracy: 0.6328 - val_loss: 0.6489 - val_accuracy: 0.6530\n",
            "Epoch 29/50\n",
            "453/453 [==============================] - 3s 7ms/step - loss: 0.6596 - accuracy: 0.6407 - val_loss: 0.6469 - val_accuracy: 0.6530\n",
            "Epoch 30/50\n",
            "453/453 [==============================] - 3s 7ms/step - loss: 0.6605 - accuracy: 0.6357 - val_loss: 0.6534 - val_accuracy: 0.6530\n",
            "Epoch 31/50\n",
            "453/453 [==============================] - 3s 7ms/step - loss: 0.6563 - accuracy: 0.6456 - val_loss: 0.6503 - val_accuracy: 0.6530\n",
            "Epoch 32/50\n",
            "453/453 [==============================] - 3s 7ms/step - loss: 0.6615 - accuracy: 0.6323 - val_loss: 0.6463 - val_accuracy: 0.6530\n",
            "Epoch 33/50\n",
            "453/453 [==============================] - 3s 7ms/step - loss: 0.6610 - accuracy: 0.6368 - val_loss: 0.6955 - val_accuracy: 0.3470\n",
            "Epoch 34/50\n",
            "453/453 [==============================] - 3s 7ms/step - loss: 0.6588 - accuracy: 0.6375 - val_loss: 0.6459 - val_accuracy: 0.6530\n",
            "Epoch 35/50\n",
            "453/453 [==============================] - 3s 7ms/step - loss: 0.6560 - accuracy: 0.6446 - val_loss: 0.6539 - val_accuracy: 0.6530\n",
            "Epoch 36/50\n",
            "453/453 [==============================] - 3s 7ms/step - loss: 0.6613 - accuracy: 0.6368 - val_loss: 0.6534 - val_accuracy: 0.6530\n",
            "Epoch 37/50\n",
            "453/453 [==============================] - 3s 7ms/step - loss: 0.6630 - accuracy: 0.6340 - val_loss: 0.6511 - val_accuracy: 0.6530\n",
            "Epoch 38/50\n",
            "453/453 [==============================] - 3s 7ms/step - loss: 0.6561 - accuracy: 0.6438 - val_loss: 0.6558 - val_accuracy: 0.6530\n",
            "Epoch 39/50\n",
            "453/453 [==============================] - 3s 7ms/step - loss: 0.6580 - accuracy: 0.6412 - val_loss: 0.6623 - val_accuracy: 0.6530\n",
            "Epoch 40/50\n",
            "453/453 [==============================] - 3s 7ms/step - loss: 0.6640 - accuracy: 0.6320 - val_loss: 0.6456 - val_accuracy: 0.6530\n",
            "Epoch 41/50\n",
            "453/453 [==============================] - 3s 7ms/step - loss: 0.6573 - accuracy: 0.6418 - val_loss: 0.6458 - val_accuracy: 0.6530\n",
            "Epoch 42/50\n",
            "453/453 [==============================] - 3s 7ms/step - loss: 0.6599 - accuracy: 0.6372 - val_loss: 0.6887 - val_accuracy: 0.6530\n",
            "Epoch 43/50\n",
            "453/453 [==============================] - 3s 7ms/step - loss: 0.6618 - accuracy: 0.6383 - val_loss: 0.6575 - val_accuracy: 0.6530\n",
            "Epoch 44/50\n",
            "453/453 [==============================] - 3s 7ms/step - loss: 0.6571 - accuracy: 0.6399 - val_loss: 0.6463 - val_accuracy: 0.6530\n",
            "Epoch 45/50\n",
            "453/453 [==============================] - 3s 7ms/step - loss: 0.6573 - accuracy: 0.6437 - val_loss: 0.6465 - val_accuracy: 0.6530\n",
            "Epoch 46/50\n",
            "453/453 [==============================] - 3s 7ms/step - loss: 0.6582 - accuracy: 0.6422 - val_loss: 0.6480 - val_accuracy: 0.6530\n",
            "Epoch 47/50\n",
            "453/453 [==============================] - 3s 7ms/step - loss: 0.6553 - accuracy: 0.6442 - val_loss: 0.6552 - val_accuracy: 0.6530\n",
            "Epoch 48/50\n",
            "453/453 [==============================] - 3s 7ms/step - loss: 0.6580 - accuracy: 0.6376 - val_loss: 0.6487 - val_accuracy: 0.6530\n",
            "Epoch 49/50\n",
            "453/453 [==============================] - 3s 7ms/step - loss: 0.6591 - accuracy: 0.6388 - val_loss: 0.6458 - val_accuracy: 0.6530\n",
            "Epoch 50/50\n",
            "453/453 [==============================] - 3s 7ms/step - loss: 0.6592 - accuracy: 0.6382 - val_loss: 0.6513 - val_accuracy: 0.6530\n",
            "Fold 1, 50 epochs, 168 sec\n"
          ],
          "name": "stdout"
        },
        {
          "output_type": "display_data",
          "data": {
            "image/png": "[encoded data removed]",
            "text/plain": [
              "<Figure size 576x360 with 1 Axes>"
            ]
          },
          "metadata": {
            "tags": [],
            "needs_background": "light"
          }
        },
        {
          "output_type": "stream",
          "text": [
            "accuracy: 65.30%\n",
            "COMPILE...\n",
            "...COMPILED\n",
            "FIT\n",
            "Epoch 1/50\n",
            "453/453 [==============================] - 4s 8ms/step - loss: 0.6902 - accuracy: 0.6481 - val_loss: 0.5658 - val_accuracy: 0.7089\n",
            "INFO:tensorflow:Assets written to: /content/drive/My Drive/data/CNN509.cv.2.best/assets\n",
            "Epoch 2/50\n",
            "453/453 [==============================] - 3s 7ms/step - loss: 0.5931 - accuracy: 0.6842 - val_loss: 0.5578 - val_accuracy: 0.7163\n",
            "INFO:tensorflow:Assets written to: /content/drive/My Drive/data/CNN509.cv.2.best/assets\n",
            "Epoch 3/50\n",
            "453/453 [==============================] - 3s 8ms/step - loss: 0.5726 - accuracy: 0.7077 - val_loss: 0.5464 - val_accuracy: 0.7263\n",
            "INFO:tensorflow:Assets written to: /content/drive/My Drive/data/CNN509.cv.2.best/assets\n",
            "Epoch 4/50\n",
            "453/453 [==============================] - 3s 7ms/step - loss: 0.5654 - accuracy: 0.7098 - val_loss: 0.5473 - val_accuracy: 0.7294\n",
            "INFO:tensorflow:Assets written to: /content/drive/My Drive/data/CNN509.cv.2.best/assets\n",
            "Epoch 5/50\n",
            "453/453 [==============================] - 3s 8ms/step - loss: 0.5554 - accuracy: 0.7231 - val_loss: 0.5440 - val_accuracy: 0.7200\n",
            "Epoch 6/50\n",
            "453/453 [==============================] - 3s 8ms/step - loss: 0.5463 - accuracy: 0.7266 - val_loss: 0.5648 - val_accuracy: 0.7157\n",
            "Epoch 7/50\n",
            "453/453 [==============================] - 3s 7ms/step - loss: 0.5563 - accuracy: 0.7186 - val_loss: 0.5586 - val_accuracy: 0.7095\n",
            "Epoch 8/50\n",
            "453/453 [==============================] - 3s 7ms/step - loss: 0.5585 - accuracy: 0.7160 - val_loss: 0.5764 - val_accuracy: 0.7045\n",
            "Epoch 9/50\n",
            "453/453 [==============================] - 3s 7ms/step - loss: 0.5483 - accuracy: 0.7233 - val_loss: 0.5573 - val_accuracy: 0.7182\n",
            "Epoch 10/50\n",
            "453/453 [==============================] - 3s 7ms/step - loss: 0.5377 - accuracy: 0.7318 - val_loss: 0.5486 - val_accuracy: 0.7256\n",
            "Epoch 11/50\n",
            "453/453 [==============================] - 3s 8ms/step - loss: 0.5611 - accuracy: 0.7166 - val_loss: 0.5485 - val_accuracy: 0.7300\n",
            "INFO:tensorflow:Assets written to: /content/drive/My Drive/data/CNN509.cv.2.best/assets\n",
            "Epoch 12/50\n",
            "453/453 [==============================] - 3s 7ms/step - loss: 0.5454 - accuracy: 0.7257 - val_loss: 0.5426 - val_accuracy: 0.7250\n",
            "Epoch 13/50\n",
            "453/453 [==============================] - 3s 8ms/step - loss: 0.5424 - accuracy: 0.7293 - val_loss: 0.5401 - val_accuracy: 0.7294\n",
            "Epoch 14/50\n",
            "453/453 [==============================] - 3s 8ms/step - loss: 0.5375 - accuracy: 0.7303 - val_loss: 0.5262 - val_accuracy: 0.7343\n",
            "INFO:tensorflow:Assets written to: /content/drive/My Drive/data/CNN509.cv.2.best/assets\n",
            "Epoch 15/50\n",
            "453/453 [==============================] - 3s 7ms/step - loss: 0.5297 - accuracy: 0.7421 - val_loss: 0.5406 - val_accuracy: 0.7337\n",
            "Epoch 16/50\n",
            "453/453 [==============================] - 3s 7ms/step - loss: 0.5278 - accuracy: 0.7368 - val_loss: 0.5217 - val_accuracy: 0.7399\n",
            "INFO:tensorflow:Assets written to: /content/drive/My Drive/data/CNN509.cv.2.best/assets\n",
            "Epoch 17/50\n",
            "453/453 [==============================] - 3s 7ms/step - loss: 0.5302 - accuracy: 0.7425 - val_loss: 0.5394 - val_accuracy: 0.7306\n",
            "Epoch 18/50\n",
            "453/453 [==============================] - 3s 7ms/step - loss: 0.5377 - accuracy: 0.7289 - val_loss: 0.5193 - val_accuracy: 0.7592\n",
            "INFO:tensorflow:Assets written to: /content/drive/My Drive/data/CNN509.cv.2.best/assets\n",
            "Epoch 19/50\n",
            "453/453 [==============================] - 3s 8ms/step - loss: 0.5443 - accuracy: 0.7304 - val_loss: 0.5111 - val_accuracy: 0.7592\n",
            "Epoch 20/50\n",
            "453/453 [==============================] - 3s 8ms/step - loss: 0.5179 - accuracy: 0.7523 - val_loss: 0.5019 - val_accuracy: 0.7592\n",
            "Epoch 21/50\n",
            "453/453 [==============================] - 3s 8ms/step - loss: 0.5185 - accuracy: 0.7473 - val_loss: 0.5169 - val_accuracy: 0.7405\n",
            "Epoch 22/50\n",
            "453/453 [==============================] - 3s 7ms/step - loss: 0.5086 - accuracy: 0.7568 - val_loss: 0.5065 - val_accuracy: 0.7623\n",
            "INFO:tensorflow:Assets written to: /content/drive/My Drive/data/CNN509.cv.2.best/assets\n",
            "Epoch 23/50\n",
            "453/453 [==============================] - 3s 7ms/step - loss: 0.5135 - accuracy: 0.7537 - val_loss: 0.5026 - val_accuracy: 0.7635\n",
            "INFO:tensorflow:Assets written to: /content/drive/My Drive/data/CNN509.cv.2.best/assets\n",
            "Epoch 24/50\n",
            "453/453 [==============================] - 4s 8ms/step - loss: 0.5037 - accuracy: 0.7587 - val_loss: 0.4816 - val_accuracy: 0.7741\n",
            "INFO:tensorflow:Assets written to: /content/drive/My Drive/data/CNN509.cv.2.best/assets\n",
            "Epoch 25/50\n",
            "453/453 [==============================] - 3s 7ms/step - loss: 0.5004 - accuracy: 0.7601 - val_loss: 0.4875 - val_accuracy: 0.7685\n",
            "Epoch 26/50\n",
            "453/453 [==============================] - 3s 7ms/step - loss: 0.4934 - accuracy: 0.7680 - val_loss: 0.4879 - val_accuracy: 0.7629\n",
            "Epoch 27/50\n",
            "453/453 [==============================] - 3s 7ms/step - loss: 0.4836 - accuracy: 0.7693 - val_loss: 0.4809 - val_accuracy: 0.7803\n",
            "INFO:tensorflow:Assets written to: /content/drive/My Drive/data/CNN509.cv.2.best/assets\n",
            "Epoch 28/50\n",
            "453/453 [==============================] - 3s 7ms/step - loss: 0.5103 - accuracy: 0.7620 - val_loss: 0.4860 - val_accuracy: 0.7790\n",
            "Epoch 29/50\n",
            "453/453 [==============================] - 3s 7ms/step - loss: 0.4988 - accuracy: 0.7675 - val_loss: 0.4729 - val_accuracy: 0.7803\n",
            "Epoch 30/50\n",
            "453/453 [==============================] - 3s 7ms/step - loss: 0.4842 - accuracy: 0.7758 - val_loss: 0.4981 - val_accuracy: 0.7635\n",
            "Epoch 31/50\n",
            "453/453 [==============================] - 3s 7ms/step - loss: 0.4717 - accuracy: 0.7830 - val_loss: 0.4803 - val_accuracy: 0.7865\n",
            "INFO:tensorflow:Assets written to: /content/drive/My Drive/data/CNN509.cv.2.best/assets\n",
            "Epoch 32/50\n",
            "453/453 [==============================] - 3s 7ms/step - loss: 0.4666 - accuracy: 0.7869 - val_loss: 0.4596 - val_accuracy: 0.7976\n",
            "INFO:tensorflow:Assets written to: /content/drive/My Drive/data/CNN509.cv.2.best/assets\n",
            "Epoch 33/50\n",
            "453/453 [==============================] - 3s 7ms/step - loss: 0.4816 - accuracy: 0.7811 - val_loss: 0.4749 - val_accuracy: 0.7921\n",
            "Epoch 34/50\n",
            "453/453 [==============================] - 3s 7ms/step - loss: 0.4909 - accuracy: 0.7746 - val_loss: 0.4752 - val_accuracy: 0.7772\n",
            "Epoch 35/50\n",
            "453/453 [==============================] - 3s 8ms/step - loss: 0.5017 - accuracy: 0.7641 - val_loss: 0.4612 - val_accuracy: 0.7865\n",
            "Epoch 36/50\n",
            "453/453 [==============================] - 3s 7ms/step - loss: 0.4609 - accuracy: 0.7916 - val_loss: 0.5127 - val_accuracy: 0.7542\n",
            "Epoch 37/50\n",
            "453/453 [==============================] - 3s 7ms/step - loss: 0.4457 - accuracy: 0.7998 - val_loss: 0.5031 - val_accuracy: 0.7716\n",
            "Epoch 38/50\n",
            "453/453 [==============================] - 3s 7ms/step - loss: 0.4276 - accuracy: 0.8115 - val_loss: 0.4299 - val_accuracy: 0.8057\n",
            "INFO:tensorflow:Assets written to: /content/drive/My Drive/data/CNN509.cv.2.best/assets\n",
            "Epoch 39/50\n",
            "453/453 [==============================] - 3s 7ms/step - loss: 0.4315 - accuracy: 0.8090 - val_loss: 0.4354 - val_accuracy: 0.7976\n",
            "Epoch 40/50\n",
            "453/453 [==============================] - 3s 7ms/step - loss: 0.4228 - accuracy: 0.8110 - val_loss: 0.4357 - val_accuracy: 0.7989\n",
            "Epoch 41/50\n",
            "453/453 [==============================] - 3s 7ms/step - loss: 0.4315 - accuracy: 0.8074 - val_loss: 0.4159 - val_accuracy: 0.8156\n",
            "INFO:tensorflow:Assets written to: /content/drive/My Drive/data/CNN509.cv.2.best/assets\n",
            "Epoch 42/50\n",
            "453/453 [==============================] - 3s 7ms/step - loss: 0.4131 - accuracy: 0.8155 - val_loss: 0.4439 - val_accuracy: 0.7896\n",
            "Epoch 43/50\n",
            "453/453 [==============================] - 3s 8ms/step - loss: 0.4382 - accuracy: 0.8033 - val_loss: 0.4042 - val_accuracy: 0.8194\n",
            "INFO:tensorflow:Assets written to: /content/drive/My Drive/data/CNN509.cv.2.best/assets\n",
            "Epoch 44/50\n",
            "453/453 [==============================] - 3s 7ms/step - loss: 0.4374 - accuracy: 0.8005 - val_loss: 0.4208 - val_accuracy: 0.8138\n",
            "Epoch 45/50\n",
            "453/453 [==============================] - 3s 7ms/step - loss: 0.4108 - accuracy: 0.8202 - val_loss: 0.4255 - val_accuracy: 0.8225\n",
            "INFO:tensorflow:Assets written to: /content/drive/My Drive/data/CNN509.cv.2.best/assets\n",
            "Epoch 46/50\n",
            "453/453 [==============================] - 3s 7ms/step - loss: 0.4182 - accuracy: 0.8129 - val_loss: 0.4256 - val_accuracy: 0.8076\n",
            "Epoch 47/50\n",
            "453/453 [==============================] - 3s 7ms/step - loss: 0.4165 - accuracy: 0.8179 - val_loss: 0.4642 - val_accuracy: 0.8014\n",
            "Epoch 48/50\n",
            "453/453 [==============================] - 3s 7ms/step - loss: 0.4107 - accuracy: 0.8147 - val_loss: 0.4258 - val_accuracy: 0.8212\n",
            "Epoch 49/50\n",
            "453/453 [==============================] - 3s 8ms/step - loss: 0.4117 - accuracy: 0.8156 - val_loss: 0.4331 - val_accuracy: 0.8101\n",
            "Epoch 50/50\n",
            "453/453 [==============================] - 3s 7ms/step - loss: 0.4314 - accuracy: 0.8093 - val_loss: 0.4172 - val_accuracy: 0.8150\n",
            "Fold 2, 50 epochs, 199 sec\n"
          ],
          "name": "stdout"
        },
        {
          "output_type": "display_data",
          "data": {
            "image/png": "[encoded data removed]",
            "text/plain": [
              "<Figure size 576x360 with 1 Axes>"
            ]
          },
          "metadata": {
            "tags": [],
            "needs_background": "light"
          }
        },
        {
          "output_type": "stream",
          "text": [
            "accuracy: 82.25%\n",
            "COMPILE...\n",
            "...COMPILED\n",
            "FIT\n",
            "Epoch 1/50\n",
            "453/453 [==============================] - 4s 8ms/step - loss: 0.6650 - accuracy: 0.6667 - val_loss: 0.5943 - val_accuracy: 0.7033\n",
            "INFO:tensorflow:Assets written to: /content/drive/My Drive/data/CNN509.cv.3.best/assets\n",
            "Epoch 2/50\n",
            "453/453 [==============================] - 3s 7ms/step - loss: 0.5820 - accuracy: 0.7094 - val_loss: 0.5595 - val_accuracy: 0.7064\n",
            "INFO:tensorflow:Assets written to: /content/drive/My Drive/data/CNN509.cv.3.best/assets\n",
            "Epoch 3/50\n",
            "453/453 [==============================] - 3s 7ms/step - loss: 0.5471 - accuracy: 0.7212 - val_loss: 0.5681 - val_accuracy: 0.7281\n",
            "INFO:tensorflow:Assets written to: /content/drive/My Drive/data/CNN509.cv.3.best/assets\n",
            "Epoch 4/50\n",
            "453/453 [==============================] - 3s 7ms/step - loss: 0.5444 - accuracy: 0.7259 - val_loss: 0.5321 - val_accuracy: 0.7325\n",
            "INFO:tensorflow:Assets written to: /content/drive/My Drive/data/CNN509.cv.3.best/assets\n",
            "Epoch 5/50\n",
            "453/453 [==============================] - 3s 7ms/step - loss: 0.5475 - accuracy: 0.7187 - val_loss: 0.5399 - val_accuracy: 0.7306\n",
            "Epoch 6/50\n",
            "453/453 [==============================] - 3s 8ms/step - loss: 0.5522 - accuracy: 0.7205 - val_loss: 0.5683 - val_accuracy: 0.7163\n",
            "Epoch 7/50\n",
            "453/453 [==============================] - 3s 7ms/step - loss: 0.5578 - accuracy: 0.7235 - val_loss: 0.5388 - val_accuracy: 0.7443\n",
            "INFO:tensorflow:Assets written to: /content/drive/My Drive/data/CNN509.cv.3.best/assets\n",
            "Epoch 8/50\n",
            "453/453 [==============================] - 3s 7ms/step - loss: 0.5448 - accuracy: 0.7257 - val_loss: 0.5449 - val_accuracy: 0.7368\n",
            "Epoch 9/50\n",
            "453/453 [==============================] - 3s 7ms/step - loss: 0.5517 - accuracy: 0.7196 - val_loss: 0.5270 - val_accuracy: 0.7387\n",
            "Epoch 10/50\n",
            "453/453 [==============================] - 3s 7ms/step - loss: 0.5487 - accuracy: 0.7235 - val_loss: 0.5157 - val_accuracy: 0.7405\n",
            "Epoch 11/50\n",
            "453/453 [==============================] - 3s 8ms/step - loss: 0.5440 - accuracy: 0.7266 - val_loss: 0.5296 - val_accuracy: 0.7412\n",
            "Epoch 12/50\n",
            "453/453 [==============================] - 3s 7ms/step - loss: 0.5435 - accuracy: 0.7288 - val_loss: 0.5746 - val_accuracy: 0.7064\n",
            "Epoch 13/50\n",
            "453/453 [==============================] - 3s 7ms/step - loss: 0.5562 - accuracy: 0.7215 - val_loss: 0.5580 - val_accuracy: 0.7045\n",
            "Epoch 14/50\n",
            "453/453 [==============================] - 3s 7ms/step - loss: 0.5595 - accuracy: 0.7058 - val_loss: 0.5358 - val_accuracy: 0.7337\n",
            "Epoch 15/50\n",
            "453/453 [==============================] - 3s 7ms/step - loss: 0.5532 - accuracy: 0.7237 - val_loss: 0.5688 - val_accuracy: 0.6965\n",
            "Epoch 16/50\n",
            "453/453 [==============================] - 3s 7ms/step - loss: 0.5603 - accuracy: 0.7229 - val_loss: 0.5288 - val_accuracy: 0.7399\n",
            "Epoch 17/50\n",
            "453/453 [==============================] - 3s 7ms/step - loss: 0.5545 - accuracy: 0.7231 - val_loss: 0.5544 - val_accuracy: 0.7275\n",
            "Epoch 18/50\n",
            "453/453 [==============================] - 3s 7ms/step - loss: 0.5486 - accuracy: 0.7191 - val_loss: 0.5468 - val_accuracy: 0.7256\n",
            "Epoch 19/50\n",
            "453/453 [==============================] - 3s 7ms/step - loss: 0.5608 - accuracy: 0.7118 - val_loss: 0.5514 - val_accuracy: 0.7120\n",
            "Epoch 20/50\n",
            "453/453 [==============================] - 3s 7ms/step - loss: 0.5411 - accuracy: 0.7255 - val_loss: 0.5861 - val_accuracy: 0.6791\n",
            "Epoch 21/50\n",
            "453/453 [==============================] - 3s 7ms/step - loss: 0.5737 - accuracy: 0.7021 - val_loss: 0.5436 - val_accuracy: 0.7263\n",
            "Epoch 22/50\n",
            "453/453 [==============================] - 3s 7ms/step - loss: 0.5450 - accuracy: 0.7326 - val_loss: 0.5108 - val_accuracy: 0.7511\n",
            "INFO:tensorflow:Assets written to: /content/drive/My Drive/data/CNN509.cv.3.best/assets\n",
            "Epoch 23/50\n",
            "453/453 [==============================] - 3s 7ms/step - loss: 0.5372 - accuracy: 0.7372 - val_loss: 0.5285 - val_accuracy: 0.7374\n",
            "Epoch 24/50\n",
            "453/453 [==============================] - 3s 7ms/step - loss: 0.5338 - accuracy: 0.7288 - val_loss: 0.5306 - val_accuracy: 0.7567\n",
            "INFO:tensorflow:Assets written to: /content/drive/My Drive/data/CNN509.cv.3.best/assets\n",
            "Epoch 25/50\n",
            "453/453 [==============================] - 3s 7ms/step - loss: 0.5356 - accuracy: 0.7359 - val_loss: 0.5448 - val_accuracy: 0.7312\n",
            "Epoch 26/50\n",
            "453/453 [==============================] - 3s 7ms/step - loss: 0.5303 - accuracy: 0.7380 - val_loss: 0.5420 - val_accuracy: 0.7207\n",
            "Epoch 27/50\n",
            "453/453 [==============================] - 4s 8ms/step - loss: 0.5191 - accuracy: 0.7494 - val_loss: 0.5438 - val_accuracy: 0.7213\n",
            "Epoch 28/50\n",
            "453/453 [==============================] - 3s 7ms/step - loss: 0.5388 - accuracy: 0.7300 - val_loss: 0.5217 - val_accuracy: 0.7461\n",
            "Epoch 29/50\n",
            "453/453 [==============================] - 3s 7ms/step - loss: 0.5296 - accuracy: 0.7432 - val_loss: 0.5096 - val_accuracy: 0.7623\n",
            "INFO:tensorflow:Assets written to: /content/drive/My Drive/data/CNN509.cv.3.best/assets\n",
            "Epoch 30/50\n",
            "453/453 [==============================] - 3s 7ms/step - loss: 0.5176 - accuracy: 0.7507 - val_loss: 0.5260 - val_accuracy: 0.7498\n",
            "Epoch 31/50\n",
            "453/453 [==============================] - 3s 7ms/step - loss: 0.5142 - accuracy: 0.7571 - val_loss: 0.4986 - val_accuracy: 0.7703\n",
            "INFO:tensorflow:Assets written to: /content/drive/My Drive/data/CNN509.cv.3.best/assets\n",
            "Epoch 32/50\n",
            "453/453 [==============================] - 4s 8ms/step - loss: 0.5687 - accuracy: 0.7128 - val_loss: 0.5083 - val_accuracy: 0.7561\n",
            "Epoch 33/50\n",
            "453/453 [==============================] - 3s 7ms/step - loss: 0.5381 - accuracy: 0.7338 - val_loss: 0.6220 - val_accuracy: 0.6797\n",
            "Epoch 34/50\n",
            "453/453 [==============================] - 4s 8ms/step - loss: 0.5616 - accuracy: 0.7158 - val_loss: 0.5308 - val_accuracy: 0.7337\n",
            "Epoch 35/50\n",
            "453/453 [==============================] - 3s 8ms/step - loss: 0.5214 - accuracy: 0.7505 - val_loss: 0.4937 - val_accuracy: 0.7685\n",
            "Epoch 36/50\n",
            "453/453 [==============================] - 3s 7ms/step - loss: 0.5161 - accuracy: 0.7567 - val_loss: 0.4996 - val_accuracy: 0.7716\n",
            "INFO:tensorflow:Assets written to: /content/drive/My Drive/data/CNN509.cv.3.best/assets\n",
            "Epoch 37/50\n",
            "453/453 [==============================] - 3s 7ms/step - loss: 0.5121 - accuracy: 0.7509 - val_loss: 0.4916 - val_accuracy: 0.7685\n",
            "Epoch 38/50\n",
            "453/453 [==============================] - 3s 8ms/step - loss: 0.5064 - accuracy: 0.7590 - val_loss: 0.4854 - val_accuracy: 0.7852\n",
            "INFO:tensorflow:Assets written to: /content/drive/My Drive/data/CNN509.cv.3.best/assets\n",
            "Epoch 39/50\n",
            "453/453 [==============================] - 3s 7ms/step - loss: 0.4983 - accuracy: 0.7661 - val_loss: 0.4991 - val_accuracy: 0.7678\n",
            "Epoch 40/50\n",
            "453/453 [==============================] - 3s 7ms/step - loss: 0.5112 - accuracy: 0.7527 - val_loss: 0.4940 - val_accuracy: 0.7685\n",
            "Epoch 41/50\n",
            "453/453 [==============================] - 4s 8ms/step - loss: 0.5097 - accuracy: 0.7566 - val_loss: 0.4823 - val_accuracy: 0.7858\n",
            "INFO:tensorflow:Assets written to: /content/drive/My Drive/data/CNN509.cv.3.best/assets\n",
            "Epoch 42/50\n",
            "453/453 [==============================] - 3s 8ms/step - loss: 0.5059 - accuracy: 0.7578 - val_loss: 0.4755 - val_accuracy: 0.7908\n",
            "INFO:tensorflow:Assets written to: /content/drive/My Drive/data/CNN509.cv.3.best/assets\n",
            "Epoch 43/50\n",
            "453/453 [==============================] - 3s 7ms/step - loss: 0.4921 - accuracy: 0.7732 - val_loss: 0.5782 - val_accuracy: 0.7089\n",
            "Epoch 44/50\n",
            "453/453 [==============================] - 3s 8ms/step - loss: 0.5060 - accuracy: 0.7690 - val_loss: 0.4696 - val_accuracy: 0.7896\n",
            "Epoch 45/50\n",
            "453/453 [==============================] - 3s 7ms/step - loss: 0.5031 - accuracy: 0.7642 - val_loss: 0.4949 - val_accuracy: 0.7691\n",
            "Epoch 46/50\n",
            "453/453 [==============================] - 3s 7ms/step - loss: 0.4906 - accuracy: 0.7673 - val_loss: 0.4840 - val_accuracy: 0.7865\n",
            "Epoch 47/50\n",
            "453/453 [==============================] - 3s 7ms/step - loss: 0.4792 - accuracy: 0.7792 - val_loss: 0.4575 - val_accuracy: 0.8051\n",
            "INFO:tensorflow:Assets written to: /content/drive/My Drive/data/CNN509.cv.3.best/assets\n",
            "Epoch 48/50\n",
            "453/453 [==============================] - 3s 8ms/step - loss: 0.4805 - accuracy: 0.7761 - val_loss: 0.4673 - val_accuracy: 0.7921\n",
            "Epoch 49/50\n",
            "453/453 [==============================] - 4s 8ms/step - loss: 0.4824 - accuracy: 0.7768 - val_loss: 0.4686 - val_accuracy: 0.7840\n",
            "Epoch 50/50\n",
            "453/453 [==============================] - 3s 7ms/step - loss: 0.4832 - accuracy: 0.7776 - val_loss: 0.4623 - val_accuracy: 0.8007\n",
            "Fold 3, 50 epochs, 191 sec\n"
          ],
          "name": "stdout"
        },
        {
          "output_type": "display_data",
          "data": {
            "image/png": "[encoded data removed]",
            "text/plain": [
              "<Figure size 576x360 with 1 Axes>"
            ]
          },
          "metadata": {
            "tags": [],
            "needs_background": "light"
          }
        },
        {
          "output_type": "stream",
          "text": [
            "accuracy: 80.51%\n",
            "\n",
            "3-way Cross Validation mean 76.02% (+/- 7.61%)\n",
            "Done\n"
          ],
          "name": "stdout"
        }
      ]
    },
    {
      "cell_type": "code",
      "metadata": {
        "id": "p4fh2GI8beMQ"
      },
      "source": [
        ""
      ],
      "execution_count": 48,
      "outputs": []
    }
  ]
}