{
  "nbformat": 4,
  "nbformat_minor": 0,
  "metadata": {
    "accelerator": "GPU",
    "colab": {
      "name": "CNN_518.ipynb",
      "provenance": [],
      "collapsed_sections": [],
      "include_colab_link": true
    },
    "kernelspec": {
      "display_name": "Python 3",
      "language": "python",
      "name": "python3"
    },
    "language_info": {
      "codemirror_mode": {
        "name": "ipython",
        "version": 3
      },
      "file_extension": ".py",
      "mimetype": "text/x-python",
      "name": "python",
      "nbconvert_exporter": "python",
      "pygments_lexer": "ipython3",
      "version": "3.8.3"
    }
  },
  "cells": [
    {
      "cell_type": "markdown",
      "metadata": {
        "id": "view-in-github",
        "colab_type": "text"
      },
      "source": [
        "<a href=\"https://colab.research.google.com/github/ShepherdCode/ShepherdML/blob/master/Nasa2021/CNN_518.ipynb\" target=\"_parent\"><img src=\"https://colab.research.google.com/assets/colab-badge.svg\" alt=\"Open In Colab\"/></a>"
      ]
    },
    {
      "cell_type": "markdown",
      "metadata": {
        "id": "ojm_6E9f9Kcf"
      },
      "source": [
        "# CNN 518\n",
        "\n",
        "TWO CNNs with Max Pooling:\n",
        "\n",
        "1.   Higher filters then neurons increased learning\n",
        "2.   Drop out rate reduced overfitting in some tests, but not all.\n",
        "3.   Model maxes out between 72-73% when not overfitting \n",
        "4.   Results are not consistent \n",
        "\n",
        "\n",
        "\n",
        "\n",
        "\n",
        "\n",
        "\n",
        "\n",
        "\n",
        "\n"
      ]
    },
    {
      "cell_type": "code",
      "metadata": {
        "id": "hh6XplUvC0j0",
        "colab": {
          "base_uri": "https://localhost:8080/"
        },
        "outputId": "86e737a7-6120-4d19-bcd2-cee1474ad675"
      },
      "source": [
        "#NC_FILENAME='ncRNA.tiny50.fasta'\n",
        "#PC_FILENAME='pcRNA.tiny50.fasta'\n",
        "#NC_FILENAME='ncRNA.gc34.processed.fasta'\n",
        "#PC_FILENAME='pcRNA.gc34.processed.fasta'\n",
        "NC_FILENAME='ncRNA.gc36.balance.fasta'\n",
        "PC_FILENAME='pcRNA.gc36.balance.fasta'\n",
        "\n",
        "MODEL_FILE='CNN518' \n",
        "DATAPATH=''\n",
        "\n",
        "try:\n",
        "    from google.colab import drive\n",
        "    IN_COLAB = True\n",
        "    PATH='/content/drive/'\n",
        "    drive.mount(PATH)\n",
        "    DATAPATH=PATH+'My Drive/data/'  # must end in \"/\"\n",
        "except:\n",
        "    IN_COLAB = False\n",
        "    DATAPATH='data/'  # must end in \"/\"\n",
        "NC_FILENAME = DATAPATH+NC_FILENAME\n",
        "PC_FILENAME = DATAPATH+PC_FILENAME\n",
        "MODEL_FILE=DATAPATH+MODEL_FILE\n",
        "\n",
        "EPOCHS=10\n",
        "SPLITS=5\n",
        "K=1\n",
        "VOCABULARY_SIZE=4**K+1   # e.g. K=3 => 64 DNA K-mers + 'NNN'\n",
        "EMBED_DIMEN=2\n",
        "FILTERS=16\n",
        "KERNEL=3\n",
        "NEURONS=8\n",
        "DROP=0.5\n",
        "MINLEN=200\n",
        "MAXLEN=2000\n",
        "DENSE_LEN = 1000\n",
        "ACT=\"tanh\""
      ],
      "execution_count": 1,
      "outputs": [
        {
          "output_type": "stream",
          "text": [
            "Drive already mounted at /content/drive/; to attempt to forcibly remount, call drive.mount(\"/content/drive/\", force_remount=True).\n"
          ],
          "name": "stdout"
        }
      ]
    },
    {
      "cell_type": "code",
      "metadata": {
        "id": "e9TY3HK9ZklE",
        "colab": {
          "base_uri": "https://localhost:8080/"
        },
        "outputId": "d2736a61-25db-4e56-adca-28a05314d71c"
      },
      "source": [
        "# Load our own tools\n",
        "# TO DO: don't go to GitHub if the file is already local.\n",
        "GITHUB = True\n",
        "if GITHUB:\n",
        "    #!pip install requests  # Uncomment this if necessary. Seems to be pre-installed.\n",
        "    import requests\n",
        "    r = requests.get('https://raw.githubusercontent.com/ShepherdCode/ShepherdML/master/Strings/tools_fasta.py')\n",
        "    with open('tools_fasta.py', 'w') as f:\n",
        "        f.write(r.text)\n",
        "    # TO DO: delete the file after import\n",
        "import tools_fasta as tools\n",
        "tools.yahoo()  # If this prints \"Yahoo!\" the the import was successful.\n",
        "\n",
        "TOOLS_CHANGED = False   # set to True to re-run with a new version of tools\n",
        "if TOOLS_CHANGED:\n",
        "  from importlib import reload \n",
        "  tools=reload(tools)\n",
        "  print(dir(tools))   # run this to see EVERYTHING in the tools module"
      ],
      "execution_count": 2,
      "outputs": [
        {
          "output_type": "stream",
          "text": [
            "Yahoo!\n"
          ],
          "name": "stdout"
        }
      ]
    },
    {
      "cell_type": "code",
      "metadata": {
        "id": "VQY7aTj29Kch"
      },
      "source": [
        "import numpy as np\n",
        "import pandas as pd\n",
        "import matplotlib.pyplot as plt\n",
        "from sklearn.model_selection import ShuffleSplit\n",
        "from sklearn.model_selection import cross_val_score\n",
        "from sklearn.model_selection import RepeatedKFold\n",
        "from sklearn.model_selection import StratifiedKFold\n",
        "import tensorflow as tf\n",
        "from tensorflow import keras\n",
        "import time\n",
        "dt='float32'\n",
        "tf.keras.backend.set_floatx(dt)"
      ],
      "execution_count": 3,
      "outputs": []
    },
    {
      "cell_type": "markdown",
      "metadata": {
        "id": "j7jcg6Wl9Kc2"
      },
      "source": [
        "Build model"
      ]
    },
    {
      "cell_type": "code",
      "metadata": {
        "id": "qLFNO1Xa9Kc3"
      },
      "source": [
        "def compile_model(model):\n",
        "    ## learn rate = initial_learning_rate * decay_rate ^ (step / decay_steps)\n",
        "    #adam_default_learn_rate = 0.001\n",
        "    #schedule = tf.keras.optimizers.schedules.ExponentialDecay(\n",
        "    #    initial_learning_rate = adam_default_learn_rate*10,\n",
        "    #    decay_steps=10000, decay_rate=0.99, staircase=True)\n",
        "    #alrd = tf.keras.optimizers.Adam(learning_rate=schedule)\n",
        "    #model.compile(loss=bc, optimizer=alrd, metrics=[\"accuracy\"])\n",
        "\n",
        "    print(\"COMPILE...\")\n",
        "    bc=tf.keras.losses.BinaryCrossentropy(from_logits=False)\n",
        "    model.compile(loss=bc, optimizer=\"adam\", metrics=[\"accuracy\"])\n",
        "    print(\"...COMPILED\")\n",
        "    return model\n",
        "\n",
        "def build_model():\n",
        "    SHAPE=(MAXLEN,5)  # 2000 time steps, 5 features\n",
        "    clayer1 = keras.layers.Conv1D(FILTERS,KERNEL,activation=ACT,padding=\"same\",\n",
        "                                 input_shape=SHAPE)\n",
        "    clayer2 = keras.layers.Conv1D(FILTERS,KERNEL,activation=ACT,padding=\"same\")\n",
        "    clayer3 = keras.layers.MaxPooling1D(2)\n",
        "    #clayer4 = keras.layers.Conv1D(FILTERS,KERNEL,activation=ACT,padding=\"same\")\n",
        "    #clayer5 = keras.layers.Conv1D(FILTERS,KERNEL,activation=ACT,padding=\"same\")\n",
        "    #clayer6 = keras.layers.MaxPooling1D(2)\n",
        "    clayer7 = keras.layers.Flatten()\n",
        "\n",
        "    dlayer1 = keras.layers.Dense(NEURONS, activation=ACT,dtype=dt, input_shape=[DENSE_LEN])\n",
        "    dlayer2 = keras.layers.Dropout(DROP)\n",
        "    dlayer3 = keras.layers.Dense(NEURONS, activation=ACT,dtype=dt)\n",
        "    dlayer4 = keras.layers.Dropout(DROP)\n",
        "    output_layer = keras.layers.Dense(1, activation=\"sigmoid\", dtype=dt)\n",
        "\n",
        "    cnn = keras.models.Sequential()\n",
        "    cnn.add(clayer1)\n",
        "    cnn.add(clayer2)\n",
        "    cnn.add(clayer3)\n",
        "    #cnn.add(clayer4)\n",
        "    #cnn.add(clayer5)\n",
        "    #cnn.add(clayer6)\n",
        "    cnn.add(clayer7)\n",
        "    cnn.add(dlayer1)\n",
        "    cnn.add(dlayer2)\n",
        "    cnn.add(dlayer3)\n",
        "    cnn.add(dlayer4)\n",
        "    cnn.add(output_layer)\n",
        "    mlpc = compile_model(cnn)\n",
        "    return mlpc"
      ],
      "execution_count": 4,
      "outputs": []
    },
    {
      "cell_type": "markdown",
      "metadata": {
        "id": "LdIS2utq9Kc9"
      },
      "source": [
        "Cross validation"
      ]
    },
    {
      "cell_type": "code",
      "metadata": {
        "id": "BVo4tbB_9Kc-"
      },
      "source": [
        "def do_cross_validation(X,y,given_model):\n",
        "    cv_scores = []\n",
        "    fold=0\n",
        "    splitter = ShuffleSplit(n_splits=SPLITS, test_size=0.1, random_state=37863)\n",
        "    for train_index,valid_index in splitter.split(X):\n",
        "        fold += 1\n",
        "        X_train=X[train_index] # use iloc[] for dataframe\n",
        "        y_train=y[train_index]\n",
        "        X_valid=X[valid_index]\n",
        "        y_valid=y[valid_index]        \n",
        "        # Avoid continually improving the same model.\n",
        "        model = compile_model(keras.models.clone_model(given_model))\n",
        "        bestname=MODEL_FILE+\".cv.\"+str(fold)+\".best\"\n",
        "        mycallbacks = [keras.callbacks.ModelCheckpoint(\n",
        "            filepath=bestname, save_best_only=True, \n",
        "            monitor='val_accuracy', mode='max')]   \n",
        "        print(\"FIT\")\n",
        "        start_time=time.time()\n",
        "        history=model.fit(X_train, y_train, # batch_size=10, default=32 works nicely\n",
        "                epochs=EPOCHS, verbose=1,  # verbose=1 for ascii art, verbose=0 for none\n",
        "                callbacks=mycallbacks,\n",
        "                validation_data=(X_valid,y_valid) )\n",
        "        end_time=time.time()\n",
        "        elapsed_time=(end_time-start_time)                        \n",
        "        print(\"Fold %d, %d epochs, %d sec\"%(fold,EPOCHS,elapsed_time))\n",
        "        pd.DataFrame(history.history).plot(figsize=(8,5))\n",
        "        plt.grid(True)\n",
        "        plt.gca().set_ylim(0,1)\n",
        "        plt.show()\n",
        "        best_model=keras.models.load_model(bestname)\n",
        "        scores = best_model.evaluate(X_valid, y_valid, verbose=0)\n",
        "        print(\"%s: %.2f%%\" % (best_model.metrics_names[1], scores[1]*100))\n",
        "        cv_scores.append(scores[1] * 100)  \n",
        "    print()\n",
        "    print(\"%d-way Cross Validation mean %.2f%% (+/- %.2f%%)\" % (fold, np.mean(cv_scores), np.std(cv_scores)))"
      ],
      "execution_count": 5,
      "outputs": []
    },
    {
      "cell_type": "markdown",
      "metadata": {
        "id": "qd3Wj_vI9KdP"
      },
      "source": [
        "## Train on RNA lengths 200-1Kb"
      ]
    },
    {
      "cell_type": "code",
      "metadata": {
        "id": "G1HuSs8ZbeL4",
        "colab": {
          "base_uri": "https://localhost:8080/"
        },
        "outputId": "8049fcd9-fc01-4a1a-8e9b-ea1a239ec492"
      },
      "source": [
        "print (\"Compile the model\")\n",
        "model=build_model()\n",
        "print (\"Summarize the model\")\n",
        "print(model.summary())  # Print this only once\n",
        "#model.save(MODEL_FILE+'.model')\n"
      ],
      "execution_count": 6,
      "outputs": [
        {
          "output_type": "stream",
          "text": [
            "Compile the model\n",
            "COMPILE...\n",
            "...COMPILED\n",
            "Summarize the model\n",
            "Model: \"sequential\"\n",
            "_________________________________________________________________\n",
            "Layer (type)                 Output Shape              Param #   \n",
            "=================================================================\n",
            "conv1d (Conv1D)              (None, 2000, 16)          256       \n",
            "_________________________________________________________________\n",
            "conv1d_1 (Conv1D)            (None, 2000, 16)          784       \n",
            "_________________________________________________________________\n",
            "max_pooling1d (MaxPooling1D) (None, 1000, 16)          0         \n",
            "_________________________________________________________________\n",
            "flatten (Flatten)            (None, 16000)             0         \n",
            "_________________________________________________________________\n",
            "dense (Dense)                (None, 8)                 128008    \n",
            "_________________________________________________________________\n",
            "dropout (Dropout)            (None, 8)                 0         \n",
            "_________________________________________________________________\n",
            "dense_1 (Dense)              (None, 8)                 72        \n",
            "_________________________________________________________________\n",
            "dropout_1 (Dropout)          (None, 8)                 0         \n",
            "_________________________________________________________________\n",
            "dense_2 (Dense)              (None, 1)                 9         \n",
            "=================================================================\n",
            "Total params: 129,129\n",
            "Trainable params: 129,129\n",
            "Non-trainable params: 0\n",
            "_________________________________________________________________\n",
            "None\n"
          ],
          "name": "stdout"
        }
      ]
    },
    {
      "cell_type": "code",
      "metadata": {
        "id": "f8fNo6sn9KdH",
        "colab": {
          "base_uri": "https://localhost:8080/"
        },
        "outputId": "53b6aa31-96c5-43b0-f666-adeb039968c0"
      },
      "source": [
        "#MINLEN=200\n",
        "#MAXLEN=2000\n",
        "print(\"Load data from files.\")\n",
        "nc_seq=tools.load_fasta(NC_FILENAME,0)\n",
        "pc_seq=tools.load_fasta(PC_FILENAME,1)\n",
        "train_set=pd.concat((nc_seq,pc_seq),axis=0)\n",
        "nc_seq=None\n",
        "pc_seq=None\n",
        "print(\"Ready: train_set\")\n",
        "#train_set\n",
        "subset=tools.make_slice(train_set,MINLEN,MAXLEN)# One array to two: X and y\n",
        "(X1,y_train)=tools.separate_X_and_y(subset)\n",
        "# X1 is pandas df of (\"list\" of one sequence)\n",
        "X2=X1.to_numpy()  # numpy ndarray of (\"list\" of one sequence)\n",
        "X3=[elem[0] for elem in X2]  # numpy dnarray of str\n",
        "X4=tools.uniform_length(X3,MAXLEN)\n",
        "X5= [tools.one_hot(x) for x in X4]\n",
        "X_train=np.asarray(X5)\n",
        "y_train=y_train.to_numpy()\n",
        "\n",
        "subset=None\n",
        "X1=None\n",
        "X2=None\n",
        "X3=None\n",
        "X4=None\n",
        "X5=None"
      ],
      "execution_count": 7,
      "outputs": [
        {
          "output_type": "stream",
          "text": [
            "Load data from files.\n",
            "Ready: train_set\n"
          ],
          "name": "stdout"
        }
      ]
    },
    {
      "cell_type": "code",
      "metadata": {
        "id": "mQ8eW5Rg9KdQ",
        "colab": {
          "base_uri": "https://localhost:8080/",
          "height": 1000
        },
        "outputId": "8b41ec04-2646-46da-a9c4-ee92dd3e5990"
      },
      "source": [
        "print (\"Cross validation\")\n",
        "do_cross_validation(X_train,y_train,model)  \n",
        "print (\"Done\")"
      ],
      "execution_count": 8,
      "outputs": [
        {
          "output_type": "stream",
          "text": [
            "Cross validation\n",
            "COMPILE...\n",
            "...COMPILED\n",
            "FIT\n",
            "Epoch 1/10\n",
            "1000/1000 [==============================] - 7s 5ms/step - loss: 0.7421 - accuracy: 0.5082 - val_loss: 0.6879 - val_accuracy: 0.5666\n",
            "INFO:tensorflow:Assets written to: /content/drive/My Drive/data/CNN518.cv.1.best/assets\n",
            "Epoch 2/10\n",
            "1000/1000 [==============================] - 4s 4ms/step - loss: 0.6746 - accuracy: 0.5729 - val_loss: 0.5796 - val_accuracy: 0.7124\n",
            "INFO:tensorflow:Assets written to: /content/drive/My Drive/data/CNN518.cv.1.best/assets\n",
            "Epoch 3/10\n",
            "1000/1000 [==============================] - 5s 5ms/step - loss: 0.6035 - accuracy: 0.7025 - val_loss: 0.5740 - val_accuracy: 0.7157\n",
            "INFO:tensorflow:Assets written to: /content/drive/My Drive/data/CNN518.cv.1.best/assets\n",
            "Epoch 4/10\n",
            "1000/1000 [==============================] - 5s 5ms/step - loss: 0.5947 - accuracy: 0.7095 - val_loss: 0.5667 - val_accuracy: 0.7216\n",
            "INFO:tensorflow:Assets written to: /content/drive/My Drive/data/CNN518.cv.1.best/assets\n",
            "Epoch 5/10\n",
            "1000/1000 [==============================] - 5s 5ms/step - loss: 0.5877 - accuracy: 0.7156 - val_loss: 0.5620 - val_accuracy: 0.7225\n",
            "INFO:tensorflow:Assets written to: /content/drive/My Drive/data/CNN518.cv.1.best/assets\n",
            "Epoch 6/10\n",
            "1000/1000 [==============================] - 4s 4ms/step - loss: 0.5833 - accuracy: 0.7187 - val_loss: 0.5651 - val_accuracy: 0.7171\n",
            "Epoch 7/10\n",
            "1000/1000 [==============================] - 4s 4ms/step - loss: 0.5818 - accuracy: 0.7189 - val_loss: 0.5626 - val_accuracy: 0.7239\n",
            "INFO:tensorflow:Assets written to: /content/drive/My Drive/data/CNN518.cv.1.best/assets\n",
            "Epoch 8/10\n",
            "1000/1000 [==============================] - 5s 5ms/step - loss: 0.5730 - accuracy: 0.7220 - val_loss: 0.5569 - val_accuracy: 0.7337\n",
            "INFO:tensorflow:Assets written to: /content/drive/My Drive/data/CNN518.cv.1.best/assets\n",
            "Epoch 9/10\n",
            "1000/1000 [==============================] - 5s 5ms/step - loss: 0.5734 - accuracy: 0.7308 - val_loss: 0.5480 - val_accuracy: 0.7371\n",
            "INFO:tensorflow:Assets written to: /content/drive/My Drive/data/CNN518.cv.1.best/assets\n",
            "Epoch 10/10\n",
            "1000/1000 [==============================] - 5s 5ms/step - loss: 0.5634 - accuracy: 0.7350 - val_loss: 0.5445 - val_accuracy: 0.7430\n",
            "INFO:tensorflow:Assets written to: /content/drive/My Drive/data/CNN518.cv.1.best/assets\n",
            "Fold 1, 10 epochs, 57 sec\n"
          ],
          "name": "stdout"
        },
        {
          "output_type": "display_data",
          "data": {
            "image/png": "[encoded data removed]",
            "text/plain": [
              "<Figure size 576x360 with 1 Axes>"
            ]
          },
          "metadata": {
            "tags": [],
            "needs_background": "light"
          }
        },
        {
          "output_type": "stream",
          "text": [
            "accuracy: 74.30%\n",
            "COMPILE...\n",
            "...COMPILED\n",
            "FIT\n",
            "Epoch 1/10\n",
            "1000/1000 [==============================] - 5s 5ms/step - loss: 0.7211 - accuracy: 0.5315 - val_loss: 0.5908 - val_accuracy: 0.7059\n",
            "INFO:tensorflow:Assets written to: /content/drive/My Drive/data/CNN518.cv.2.best/assets\n",
            "Epoch 2/10\n",
            "1000/1000 [==============================] - 5s 5ms/step - loss: 0.6151 - accuracy: 0.6838 - val_loss: 0.5657 - val_accuracy: 0.7304\n",
            "INFO:tensorflow:Assets written to: /content/drive/My Drive/data/CNN518.cv.2.best/assets\n",
            "Epoch 3/10\n",
            "1000/1000 [==============================] - 5s 5ms/step - loss: 0.5958 - accuracy: 0.7049 - val_loss: 0.5610 - val_accuracy: 0.7281\n",
            "Epoch 4/10\n",
            "1000/1000 [==============================] - 5s 5ms/step - loss: 0.5820 - accuracy: 0.7191 - val_loss: 0.5693 - val_accuracy: 0.7214\n",
            "Epoch 5/10\n",
            "1000/1000 [==============================] - 5s 5ms/step - loss: 0.5804 - accuracy: 0.7200 - val_loss: 0.5583 - val_accuracy: 0.7304\n",
            "Epoch 6/10\n",
            "1000/1000 [==============================] - 5s 5ms/step - loss: 0.5677 - accuracy: 0.7325 - val_loss: 0.5465 - val_accuracy: 0.7382\n",
            "INFO:tensorflow:Assets written to: /content/drive/My Drive/data/CNN518.cv.2.best/assets\n",
            "Epoch 7/10\n",
            "1000/1000 [==============================] - 5s 5ms/step - loss: 0.5590 - accuracy: 0.7391 - val_loss: 0.5240 - val_accuracy: 0.7540\n",
            "INFO:tensorflow:Assets written to: /content/drive/My Drive/data/CNN518.cv.2.best/assets\n",
            "Epoch 8/10\n",
            "1000/1000 [==============================] - 5s 5ms/step - loss: 0.5456 - accuracy: 0.7542 - val_loss: 0.5192 - val_accuracy: 0.7591\n",
            "INFO:tensorflow:Assets written to: /content/drive/My Drive/data/CNN518.cv.2.best/assets\n",
            "Epoch 9/10\n",
            "1000/1000 [==============================] - 5s 5ms/step - loss: 0.5281 - accuracy: 0.7629 - val_loss: 0.5224 - val_accuracy: 0.7529\n",
            "Epoch 10/10\n",
            "1000/1000 [==============================] - 5s 5ms/step - loss: 0.5192 - accuracy: 0.7734 - val_loss: 0.5143 - val_accuracy: 0.7639\n",
            "INFO:tensorflow:Assets written to: /content/drive/My Drive/data/CNN518.cv.2.best/assets\n",
            "Fold 2, 10 epochs, 56 sec\n"
          ],
          "name": "stdout"
        },
        {
          "output_type": "display_data",
          "data": {
            "image/png": "[encoded data removed]",
            "text/plain": [
              "<Figure size 576x360 with 1 Axes>"
            ]
          },
          "metadata": {
            "tags": [],
            "needs_background": "light"
          }
        },
        {
          "output_type": "stream",
          "text": [
            "accuracy: 76.39%\n",
            "COMPILE...\n",
            "...COMPILED\n",
            "FIT\n",
            "Epoch 1/10\n",
            "1000/1000 [==============================] - 6s 5ms/step - loss: 0.7520 - accuracy: 0.5155 - val_loss: 0.5997 - val_accuracy: 0.7205\n",
            "INFO:tensorflow:Assets written to: /content/drive/My Drive/data/CNN518.cv.3.best/assets\n",
            "Epoch 2/10\n",
            "1000/1000 [==============================] - 5s 5ms/step - loss: 0.6243 - accuracy: 0.6717 - val_loss: 0.5571 - val_accuracy: 0.7290\n",
            "INFO:tensorflow:Assets written to: /content/drive/My Drive/data/CNN518.cv.3.best/assets\n",
            "Epoch 3/10\n",
            "1000/1000 [==============================] - 5s 5ms/step - loss: 0.5953 - accuracy: 0.7054 - val_loss: 0.5538 - val_accuracy: 0.7366\n",
            "INFO:tensorflow:Assets written to: /content/drive/My Drive/data/CNN518.cv.3.best/assets\n",
            "Epoch 4/10\n",
            "1000/1000 [==============================] - 5s 5ms/step - loss: 0.5838 - accuracy: 0.7199 - val_loss: 0.5504 - val_accuracy: 0.7309\n",
            "Epoch 5/10\n",
            "1000/1000 [==============================] - 5s 5ms/step - loss: 0.5677 - accuracy: 0.7339 - val_loss: 0.5286 - val_accuracy: 0.7484\n",
            "INFO:tensorflow:Assets written to: /content/drive/My Drive/data/CNN518.cv.3.best/assets\n",
            "Epoch 6/10\n",
            "1000/1000 [==============================] - 5s 5ms/step - loss: 0.5531 - accuracy: 0.7453 - val_loss: 0.5243 - val_accuracy: 0.7551\n",
            "INFO:tensorflow:Assets written to: /content/drive/My Drive/data/CNN518.cv.3.best/assets\n",
            "Epoch 7/10\n",
            "1000/1000 [==============================] - 5s 5ms/step - loss: 0.5327 - accuracy: 0.7621 - val_loss: 0.5119 - val_accuracy: 0.7656\n",
            "INFO:tensorflow:Assets written to: /content/drive/My Drive/data/CNN518.cv.3.best/assets\n",
            "Epoch 8/10\n",
            "1000/1000 [==============================] - 5s 5ms/step - loss: 0.5240 - accuracy: 0.7682 - val_loss: 0.5651 - val_accuracy: 0.7264\n",
            "Epoch 9/10\n",
            "1000/1000 [==============================] - 5s 5ms/step - loss: 0.5039 - accuracy: 0.7837 - val_loss: 0.5066 - val_accuracy: 0.7681\n",
            "INFO:tensorflow:Assets written to: /content/drive/My Drive/data/CNN518.cv.3.best/assets\n",
            "Epoch 10/10\n",
            "1000/1000 [==============================] - 5s 5ms/step - loss: 0.4912 - accuracy: 0.7929 - val_loss: 0.5271 - val_accuracy: 0.7636\n",
            "Fold 3, 10 epochs, 58 sec\n"
          ],
          "name": "stdout"
        },
        {
          "output_type": "display_data",
          "data": {
            "image/png": "[encoded data removed]",
            "text/plain": [
              "<Figure size 576x360 with 1 Axes>"
            ]
          },
          "metadata": {
            "tags": [],
            "needs_background": "light"
          }
        },
        {
          "output_type": "stream",
          "text": [
            "accuracy: 76.81%\n",
            "COMPILE...\n",
            "...COMPILED\n",
            "FIT\n",
            "Epoch 1/10\n",
            "1000/1000 [==============================] - 6s 5ms/step - loss: 0.7036 - accuracy: 0.6158 - val_loss: 0.5590 - val_accuracy: 0.7261\n",
            "INFO:tensorflow:Assets written to: /content/drive/My Drive/data/CNN518.cv.4.best/assets\n",
            "Epoch 2/10\n",
            "1000/1000 [==============================] - 5s 5ms/step - loss: 0.5868 - accuracy: 0.7119 - val_loss: 0.5630 - val_accuracy: 0.7180\n",
            "Epoch 3/10\n",
            "1000/1000 [==============================] - 5s 5ms/step - loss: 0.5540 - accuracy: 0.7472 - val_loss: 0.5593 - val_accuracy: 0.7307\n",
            "INFO:tensorflow:Assets written to: /content/drive/My Drive/data/CNN518.cv.4.best/assets\n",
            "Epoch 4/10\n",
            "1000/1000 [==============================] - 5s 5ms/step - loss: 0.5252 - accuracy: 0.7658 - val_loss: 0.5128 - val_accuracy: 0.7630\n",
            "INFO:tensorflow:Assets written to: /content/drive/My Drive/data/CNN518.cv.4.best/assets\n",
            "Epoch 5/10\n",
            "1000/1000 [==============================] - 5s 5ms/step - loss: 0.5075 - accuracy: 0.7794 - val_loss: 0.5207 - val_accuracy: 0.7585\n",
            "Epoch 6/10\n",
            "1000/1000 [==============================] - 5s 5ms/step - loss: 0.4822 - accuracy: 0.7971 - val_loss: 0.5153 - val_accuracy: 0.7650\n",
            "INFO:tensorflow:Assets written to: /content/drive/My Drive/data/CNN518.cv.4.best/assets\n",
            "Epoch 7/10\n",
            "1000/1000 [==============================] - 5s 5ms/step - loss: 0.4703 - accuracy: 0.8042 - val_loss: 0.5055 - val_accuracy: 0.7717\n",
            "INFO:tensorflow:Assets written to: /content/drive/My Drive/data/CNN518.cv.4.best/assets\n",
            "Epoch 8/10\n",
            "1000/1000 [==============================] - 5s 5ms/step - loss: 0.4520 - accuracy: 0.8168 - val_loss: 0.5204 - val_accuracy: 0.7605\n",
            "Epoch 9/10\n",
            "1000/1000 [==============================] - 5s 5ms/step - loss: 0.4512 - accuracy: 0.8164 - val_loss: 0.5090 - val_accuracy: 0.7692\n",
            "Epoch 10/10\n",
            "1000/1000 [==============================] - 5s 5ms/step - loss: 0.4292 - accuracy: 0.8284 - val_loss: 0.5045 - val_accuracy: 0.7768\n",
            "INFO:tensorflow:Assets written to: /content/drive/My Drive/data/CNN518.cv.4.best/assets\n",
            "Fold 4, 10 epochs, 54 sec\n"
          ],
          "name": "stdout"
        },
        {
          "output_type": "display_data",
          "data": {
            "image/png": "[encoded data removed]",
            "text/plain": [
              "<Figure size 576x360 with 1 Axes>"
            ]
          },
          "metadata": {
            "tags": [],
            "needs_background": "light"
          }
        },
        {
          "output_type": "stream",
          "text": [
            "accuracy: 77.68%\n",
            "COMPILE...\n",
            "...COMPILED\n",
            "FIT\n",
            "Epoch 1/10\n",
            "1000/1000 [==============================] - 5s 5ms/step - loss: 0.7835 - accuracy: 0.5432 - val_loss: 0.5764 - val_accuracy: 0.7169\n",
            "INFO:tensorflow:Assets written to: /content/drive/My Drive/data/CNN518.cv.5.best/assets\n",
            "Epoch 2/10\n",
            "1000/1000 [==============================] - 5s 5ms/step - loss: 0.6164 - accuracy: 0.6804 - val_loss: 0.5612 - val_accuracy: 0.7278\n",
            "INFO:tensorflow:Assets written to: /content/drive/My Drive/data/CNN518.cv.5.best/assets\n",
            "Epoch 3/10\n",
            "1000/1000 [==============================] - 5s 5ms/step - loss: 0.5804 - accuracy: 0.7168 - val_loss: 0.5514 - val_accuracy: 0.7391\n",
            "INFO:tensorflow:Assets written to: /content/drive/My Drive/data/CNN518.cv.5.best/assets\n",
            "Epoch 4/10\n",
            "1000/1000 [==============================] - 5s 5ms/step - loss: 0.5786 - accuracy: 0.7216 - val_loss: 0.5423 - val_accuracy: 0.7442\n",
            "INFO:tensorflow:Assets written to: /content/drive/My Drive/data/CNN518.cv.5.best/assets\n",
            "Epoch 5/10\n",
            "1000/1000 [==============================] - 5s 5ms/step - loss: 0.5560 - accuracy: 0.7436 - val_loss: 0.5362 - val_accuracy: 0.7425\n",
            "Epoch 6/10\n",
            "1000/1000 [==============================] - 5s 5ms/step - loss: 0.5350 - accuracy: 0.7578 - val_loss: 0.5157 - val_accuracy: 0.7656\n",
            "INFO:tensorflow:Assets written to: /content/drive/My Drive/data/CNN518.cv.5.best/assets\n",
            "Epoch 7/10\n",
            "1000/1000 [==============================] - 5s 5ms/step - loss: 0.5198 - accuracy: 0.7714 - val_loss: 0.5087 - val_accuracy: 0.7661\n",
            "INFO:tensorflow:Assets written to: /content/drive/My Drive/data/CNN518.cv.5.best/assets\n",
            "Epoch 8/10\n",
            "1000/1000 [==============================] - 5s 5ms/step - loss: 0.5038 - accuracy: 0.7833 - val_loss: 0.5190 - val_accuracy: 0.7568\n",
            "Epoch 9/10\n",
            "1000/1000 [==============================] - 5s 5ms/step - loss: 0.4908 - accuracy: 0.7906 - val_loss: 0.5734 - val_accuracy: 0.7225\n",
            "Epoch 10/10\n",
            "1000/1000 [==============================] - 5s 5ms/step - loss: 0.4828 - accuracy: 0.7964 - val_loss: 0.4913 - val_accuracy: 0.7762\n",
            "INFO:tensorflow:Assets written to: /content/drive/My Drive/data/CNN518.cv.5.best/assets\n",
            "Fold 5, 10 epochs, 56 sec\n"
          ],
          "name": "stdout"
        },
        {
          "output_type": "display_data",
          "data": {
            "image/png": "[encoded data removed]",
            "text/plain": [
              "<Figure size 576x360 with 1 Axes>"
            ]
          },
          "metadata": {
            "tags": [],
            "needs_background": "light"
          }
        },
        {
          "output_type": "stream",
          "text": [
            "accuracy: 77.62%\n",
            "\n",
            "5-way Cross Validation mean 76.56% (+/- 1.23%)\n",
            "Done\n"
          ],
          "name": "stdout"
        }
      ]
    },
    {
      "cell_type": "code",
      "metadata": {
        "id": "p4fh2GI8beMQ"
      },
      "source": [
        ""
      ],
      "execution_count": 8,
      "outputs": []
    }
  ]
}