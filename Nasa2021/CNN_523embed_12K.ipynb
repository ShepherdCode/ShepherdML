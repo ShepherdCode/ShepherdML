{
  "nbformat": 4,
  "nbformat_minor": 0,
  "metadata": {
    "accelerator": "GPU",
    "colab": {
      "name": "CNN_523embed_12K.ipynb",
      "provenance": [],
      "collapsed_sections": [],
      "machine_shape": "hm"
    },
    "kernelspec": {
      "display_name": "Python 3",
      "language": "python",
      "name": "python3"
    },
    "language_info": {
      "codemirror_mode": {
        "name": "ipython",
        "version": 3
      },
      "file_extension": ".py",
      "mimetype": "text/x-python",
      "name": "python",
      "nbconvert_exporter": "python",
      "pygments_lexer": "ipython3",
      "version": "3.8.3"
    }
  },
  "cells": [
    {
      "cell_type": "markdown",
      "metadata": {
        "id": "view-in-github"
      },
      "source": [
        "<a href=\"https://colab.research.google.com/github/ShepherdCode/ShepherdML/blob/master/Nasa2021/CNN_523embed_12K.ipynb\" target=\"_parent\"><img src=\"https://colab.research.google.com/assets/colab-badge.svg\" alt=\"Open In Colab\"/></a>"
      ]
    },
    {
      "cell_type": "markdown",
      "metadata": {
        "id": "xBDT3RYOakJO"
      },
      "source": [
        ""
      ]
    },
    {
      "cell_type": "markdown",
      "metadata": {
        "id": "ojm_6E9f9Kcf"
      },
      "source": [
        "# CNN 523\n",
        "\n",
        "1. Four layers of CNNS and MaxPooling\n",
        "2. Drop out at 0.2\n",
        "3. Variable filters and dense neurons\n",
        "\n",
        "\n",
        "\n",
        "\n",
        "\n",
        "\n",
        "\n",
        "\n",
        "\n",
        "\n",
        "\n",
        "\n"
      ]
    },
    {
      "cell_type": "code",
      "metadata": {
        "colab": {
          "base_uri": "https://localhost:8080/"
        },
        "id": "hh6XplUvC0j0",
        "outputId": "5b9b5e32-3052-495e-d81b-4c0562d4dac3"
      },
      "source": [
        "#NC_FILENAME='ncRNA.tiny50.fasta'\n",
        "#PC_FILENAME='pcRNA.tiny50.fasta'\n",
        "#NC_FILENAME='ncRNA.gc34.processed.fasta'\n",
        "#PC_FILENAME='pcRNA.gc34.processed.fasta'\n",
        "NC_FILENAME='noncod_12000.fasta'  # CHANGE THIS TO 1000, 2000, 4000, etc.\n",
        "PC_FILENAME='coding_12000.fasta'\n",
        "NC_VAL_FILE='noncod_validation.fasta'  # 'noncod_validation.fasta'  # CHANGE THIS TO THE UNIFORM VALIDATION FILE\n",
        "PC_VAL_FILE='coding_validation.fasta'  # 'coding_validation.fasta'\n",
        "\n",
        "MODEL_FILE='JUNK3'   # CHANGE THIS IF YOU WANT TO SAVE THE MODEL!\n",
        "DATAPATH=''\n",
        "\n",
        "try:\n",
        "    from google.colab import drive\n",
        "    IN_COLAB = True\n",
        "    PATH='/content/drive/'\n",
        "    drive.mount(PATH)\n",
        "    DATAPATH=PATH+'My Drive/data/'  # must end in \"/\"\n",
        "except:\n",
        "    IN_COLAB = False\n",
        "    DATAPATH='data/'  # must end in \"/\"\n",
        "NC_FILENAME = DATAPATH+NC_FILENAME\n",
        "PC_FILENAME = DATAPATH+PC_FILENAME\n",
        "NC_VAL_FILE = DATAPATH+NC_VAL_FILE\n",
        "PC_VAL_FILE = DATAPATH+PC_VAL_FILE\n",
        "MODEL_FILE=DATAPATH+MODEL_FILE\n",
        "\n",
        "EPOCHS=20  # DECIDE ON SOME AMOUNT AND STICK WITH IT\n",
        "SPLITS=5\n",
        "K=1\n",
        "VOCABULARY_SIZE=4**K+1   # e.g. K=3 => 64 DNA K-mers + 'NNN'\n",
        "EMBED_DIMEN=2\n",
        "FILTERS=32\n",
        "KERNEL=3\n",
        "NEURONS=24\n",
        "DROP=0.2\n",
        "MINLEN=200\n",
        "MAXLEN=1000    # THIS HAS TO MATCH THE SIMULATION DATA\n",
        "DENSE_LEN = 1000\n",
        "ACT=\"tanh\""
      ],
      "execution_count": 1,
      "outputs": [
        {
          "output_type": "stream",
          "text": [
            "Mounted at /content/drive/\n"
          ],
          "name": "stdout"
        }
      ]
    },
    {
      "cell_type": "code",
      "metadata": {
        "colab": {
          "base_uri": "https://localhost:8080/"
        },
        "id": "e9TY3HK9ZklE",
        "outputId": "d9b7bb76-bd49-4d8a-fd5d-d62a313a7297"
      },
      "source": [
        "# Load our own tools\n",
        "# TO DO: don't go to GitHub if the file is already local.\n",
        "GITHUB = True\n",
        "if GITHUB:\n",
        "    #!pip install requests  # Uncomment this if necessary. Seems to be pre-installed.\n",
        "    import requests\n",
        "    r = requests.get('https://raw.githubusercontent.com/ShepherdCode/ShepherdML/master/Strings/tools_fasta.py')\n",
        "    with open('tools_fasta.py', 'w') as f:\n",
        "        f.write(r.text)\n",
        "    # TO DO: delete the file after import\n",
        "import tools_fasta as tools\n",
        "tools.yahoo()  # If this prints \"Yahoo!\" the the import was successful.\n",
        "\n",
        "TOOLS_CHANGED = False   # set to True to re-run with a new version of tools\n",
        "if TOOLS_CHANGED:\n",
        "  from importlib import reload \n",
        "  tools=reload(tools)\n",
        "  print(dir(tools))   # run this to see EVERYTHING in the tools module"
      ],
      "execution_count": 2,
      "outputs": [
        {
          "output_type": "stream",
          "text": [
            "Yahoo!\n"
          ],
          "name": "stdout"
        }
      ]
    },
    {
      "cell_type": "code",
      "metadata": {
        "id": "VQY7aTj29Kch"
      },
      "source": [
        "import numpy as np\n",
        "import pandas as pd\n",
        "import matplotlib.pyplot as plt\n",
        "from sklearn.model_selection import ShuffleSplit\n",
        "from sklearn.model_selection import cross_val_score\n",
        "from sklearn.model_selection import RepeatedKFold\n",
        "from sklearn.model_selection import StratifiedKFold\n",
        "import tensorflow as tf\n",
        "from tensorflow import keras\n",
        "import time\n",
        "dt='float32'\n",
        "tf.keras.backend.set_floatx(dt)"
      ],
      "execution_count": 3,
      "outputs": []
    },
    {
      "cell_type": "markdown",
      "metadata": {
        "id": "j7jcg6Wl9Kc2"
      },
      "source": [
        "Build model"
      ]
    },
    {
      "cell_type": "code",
      "metadata": {
        "id": "qLFNO1Xa9Kc3"
      },
      "source": [
        "def compile_model(model):\n",
        "    print(\"COMPILE...\")\n",
        "    bc=tf.keras.losses.BinaryCrossentropy(from_logits=False)\n",
        "    model.compile(loss=bc, optimizer=\"adam\", metrics=[\"accuracy\"])\n",
        "    print(\"...COMPILED\")\n",
        "    return model\n",
        "\n",
        "def build_model():\n",
        "    #SHAPE=(MAXLEN,5)  \n",
        "    SHAPE=(MAXLEN,4)  \n",
        "    # 4 input letters, 4 output dimensions, 1000 letters/RNA\n",
        "    elayer  = keras.layers.Embedding(4,4,input_length=1000) \n",
        "\n",
        "    clayer1 = keras.layers.Conv1D(FILTERS,KERNEL,activation=ACT,padding=\"same\",\n",
        "                                 input_shape=SHAPE)\n",
        "    clayer2 = keras.layers.Conv1D(FILTERS,KERNEL,activation=ACT,padding=\"same\")\n",
        "    clayer3 = keras.layers.MaxPooling1D(2)\n",
        "    clayer4 = keras.layers.Conv1D(FILTERS,KERNEL,activation=ACT,padding=\"same\")\n",
        "    clayer5 = keras.layers.Conv1D(FILTERS,KERNEL,activation=ACT,padding=\"same\")\n",
        "    clayer6 = keras.layers.MaxPooling1D(2)\n",
        "    clayer7 = keras.layers.Conv1D(FILTERS,KERNEL,activation=ACT,padding=\"same\")\n",
        "    clayer8 = keras.layers.Conv1D(FILTERS,KERNEL,activation=ACT,padding=\"same\")\n",
        "    clayer9 = keras.layers.MaxPooling1D(2)\n",
        "    clayer10 = keras.layers.Conv1D(FILTERS,KERNEL,activation=ACT,padding=\"same\")\n",
        "    clayer11 = keras.layers.Conv1D(FILTERS,KERNEL,activation=ACT,padding=\"same\")\n",
        "    clayer12 = keras.layers.MaxPooling1D(2)\n",
        "\n",
        "    clayer13 = keras.layers.Flatten()\n",
        "\n",
        "    dlayer1 = keras.layers.Dense(NEURONS, activation=ACT,dtype=dt, input_shape=[DENSE_LEN])\n",
        "    dlayer2 = keras.layers.Dropout(DROP)\n",
        "    dlayer3 = keras.layers.Dense(NEURONS, activation=ACT,dtype=dt)\n",
        "    dlayer4 = keras.layers.Dropout(DROP)\n",
        "    output_layer = keras.layers.Dense(1, activation=\"sigmoid\", dtype=dt)\n",
        "\n",
        "    cnn = keras.models.Sequential()\n",
        "    cnn.add(elayer)\n",
        "    cnn.add(clayer1)\n",
        "    cnn.add(clayer2)\n",
        "    cnn.add(clayer3)\n",
        "    cnn.add(clayer4)\n",
        "    cnn.add(clayer5)\n",
        "    cnn.add(clayer6)\n",
        "    cnn.add(clayer7)\n",
        "    cnn.add(clayer8)\n",
        "    cnn.add(clayer9)\n",
        "    cnn.add(clayer10)\n",
        "    cnn.add(clayer11)\n",
        "    cnn.add(clayer12)\n",
        "    cnn.add(clayer13)\n",
        "    cnn.add(dlayer1)\n",
        "    cnn.add(dlayer2)\n",
        "    cnn.add(dlayer3)\n",
        "    cnn.add(dlayer4)\n",
        "    cnn.add(output_layer)\n",
        "    mlpc = compile_model(cnn)\n",
        "    return mlpc"
      ],
      "execution_count": 4,
      "outputs": []
    },
    {
      "cell_type": "markdown",
      "metadata": {
        "id": "LdIS2utq9Kc9"
      },
      "source": [
        "Cross validation"
      ]
    },
    {
      "cell_type": "code",
      "metadata": {
        "id": "BVo4tbB_9Kc-"
      },
      "source": [
        "def do_cross_validation(X,y,given_model,X_VALID,Y_VALID):\n",
        "    cv_scores = []\n",
        "    fold=0\n",
        "    splitter = ShuffleSplit(n_splits=SPLITS, test_size=0.1, random_state=37863)\n",
        "    for train_index,valid_index in splitter.split(X):\n",
        "        fold += 1\n",
        "        X_train=X[train_index] # use iloc[] for dataframe\n",
        "        y_train=y[train_index]\n",
        "        X_valid=X[valid_index]\n",
        "        y_valid=y[valid_index]        \n",
        "        # Avoid continually improving the same model.\n",
        "        model = compile_model(keras.models.clone_model(given_model))\n",
        "        bestname=MODEL_FILE+\".cv.\"+str(fold)+\".best\"\n",
        "        mycallbacks = [keras.callbacks.ModelCheckpoint(\n",
        "            filepath=bestname, save_best_only=True, \n",
        "            monitor='val_accuracy', mode='max')]   \n",
        "        print(\"FIT\")\n",
        "        start_time=time.time()\n",
        "        history=model.fit(X_train, y_train, \n",
        "                epochs=EPOCHS, verbose=1, callbacks=mycallbacks,\n",
        "                validation_data=(X_valid,y_valid))\n",
        "        # THE VALIDATION ABOVE IS JUST FOR SHOW\n",
        "        end_time=time.time()\n",
        "        elapsed_time=(end_time-start_time)                        \n",
        "        print(\"Fold %d, %d epochs, %d sec\"%(fold,EPOCHS,elapsed_time))\n",
        "        pd.DataFrame(history.history).plot(figsize=(8,5))\n",
        "        plt.grid(True)\n",
        "        plt.gca().set_ylim(0,1)\n",
        "        plt.show()\n",
        "        best_model=keras.models.load_model(bestname)\n",
        "        # THE VALIDATION BELOW IS FOR KEEPS\n",
        "        scores = best_model.evaluate(X_VALID, Y_VALID, verbose=0)\n",
        "        print(\"%s: %.2f%%\" % (best_model.metrics_names[1], scores[1]*100))\n",
        "        cv_scores.append(scores[1] * 100)  \n",
        "    print()\n",
        "    print(\"%d-way Cross Validation mean %.2f%% (+/- %.2f%%)\" % (fold, np.mean(cv_scores), np.std(cv_scores)))"
      ],
      "execution_count": 5,
      "outputs": []
    },
    {
      "cell_type": "markdown",
      "metadata": {
        "id": "qd3Wj_vI9KdP"
      },
      "source": [
        "## Train on RNA lengths 200-1Kb"
      ]
    },
    {
      "cell_type": "code",
      "metadata": {
        "colab": {
          "base_uri": "https://localhost:8080/"
        },
        "id": "G1HuSs8ZbeL4",
        "outputId": "c11f8c8d-3434-4253-8909-c8f6a60cee93"
      },
      "source": [
        "print (\"Compile the model\")\n",
        "model=build_model()\n",
        "print (\"Summarize the model\")\n",
        "print(model.summary())  # Print this only once\n",
        "#model.save(MODEL_FILE+'.model')\n"
      ],
      "execution_count": 6,
      "outputs": [
        {
          "output_type": "stream",
          "text": [
            "Compile the model\n",
            "COMPILE...\n",
            "...COMPILED\n",
            "Summarize the model\n",
            "Model: \"sequential\"\n",
            "_________________________________________________________________\n",
            "Layer (type)                 Output Shape              Param #   \n",
            "=================================================================\n",
            "embedding (Embedding)        (None, 1000, 4)           16        \n",
            "_________________________________________________________________\n",
            "conv1d (Conv1D)              (None, 1000, 32)          416       \n",
            "_________________________________________________________________\n",
            "conv1d_1 (Conv1D)            (None, 1000, 32)          3104      \n",
            "_________________________________________________________________\n",
            "max_pooling1d (MaxPooling1D) (None, 500, 32)           0         \n",
            "_________________________________________________________________\n",
            "conv1d_2 (Conv1D)            (None, 500, 32)           3104      \n",
            "_________________________________________________________________\n",
            "conv1d_3 (Conv1D)            (None, 500, 32)           3104      \n",
            "_________________________________________________________________\n",
            "max_pooling1d_1 (MaxPooling1 (None, 250, 32)           0         \n",
            "_________________________________________________________________\n",
            "conv1d_4 (Conv1D)            (None, 250, 32)           3104      \n",
            "_________________________________________________________________\n",
            "conv1d_5 (Conv1D)            (None, 250, 32)           3104      \n",
            "_________________________________________________________________\n",
            "max_pooling1d_2 (MaxPooling1 (None, 125, 32)           0         \n",
            "_________________________________________________________________\n",
            "conv1d_6 (Conv1D)            (None, 125, 32)           3104      \n",
            "_________________________________________________________________\n",
            "conv1d_7 (Conv1D)            (None, 125, 32)           3104      \n",
            "_________________________________________________________________\n",
            "max_pooling1d_3 (MaxPooling1 (None, 62, 32)            0         \n",
            "_________________________________________________________________\n",
            "flatten (Flatten)            (None, 1984)              0         \n",
            "_________________________________________________________________\n",
            "dense (Dense)                (None, 24)                47640     \n",
            "_________________________________________________________________\n",
            "dropout (Dropout)            (None, 24)                0         \n",
            "_________________________________________________________________\n",
            "dense_1 (Dense)              (None, 24)                600       \n",
            "_________________________________________________________________\n",
            "dropout_1 (Dropout)          (None, 24)                0         \n",
            "_________________________________________________________________\n",
            "dense_2 (Dense)              (None, 1)                 25        \n",
            "=================================================================\n",
            "Total params: 70,425\n",
            "Trainable params: 70,425\n",
            "Non-trainable params: 0\n",
            "_________________________________________________________________\n",
            "None\n"
          ],
          "name": "stdout"
        }
      ]
    },
    {
      "cell_type": "code",
      "metadata": {
        "id": "f8fNo6sn9KdH"
      },
      "source": [
        "def load_data_from_files(nc_filename,pc_filename):\n",
        "  FREEMEM=True   # use False for debugging, True for production\n",
        "  print(\"Load data from files.\")\n",
        "  nc_seq=tools.load_fasta(nc_filename,0)\n",
        "  pc_seq=tools.load_fasta(pc_filename,1)\n",
        "  train_set=pd.concat((nc_seq,pc_seq),axis=0)\n",
        "  print(\"Ready: train_set\")\n",
        "  subset=tools.make_slice(train_set,MINLEN,MAXLEN)# One array to two: X and y\n",
        "  if FREEMEM:\n",
        "      nc_seq=None\n",
        "      pc_seq=None\n",
        "      train_set=None\n",
        "  (X1,y_train)=tools.separate_X_and_y(subset)\n",
        "  # X1 is pandas df of (\"list\" of one sequence)\n",
        "  X2=X1.to_numpy()  # numpy ndarray of (\"list\" of one sequence)\n",
        "  X3=[elem[0] for elem in X2]  # numpy ndarray of ACGT-str\n",
        "  # X3? It might be faster to use int-array than char-array. Come back to this.\n",
        "  X4=X3  # no-op\n",
        "  print(\"X4\",type(X4))\n",
        "  #print(X4[0])\n",
        "  if FREEMEM:\n",
        "      X1=None\n",
        "      X2=None\n",
        "      X3=None\n",
        "  X5=[]\n",
        "  dna_to_int = {'A':0,'C':1,'G':2,'T':3}\n",
        "  for x in X4:\n",
        "      a=[]\n",
        "      for c in x:\n",
        "          i = dna_to_int[c]\n",
        "          a.append(i)\n",
        "      X5.append(a)\n",
        "  X5=np.asarray(X5)\n",
        "  print(\"X5\",type(X5))\n",
        "  print(X5.shape)\n",
        "  if FREEMEM:\n",
        "      X4=None\n",
        "  X_train=X5\n",
        "  if FREEMEM:\n",
        "      X5=None\n",
        "  print(\"X_train\",type(X_train))\n",
        "  y_train=y_train.to_numpy()\n",
        "  print(X_train.shape)\n",
        "  print(X_train[0].shape)\n",
        "  print(X_train[0])\n",
        "  return X_train,y_train\n"
      ],
      "execution_count": 7,
      "outputs": []
    },
    {
      "cell_type": "code",
      "metadata": {
        "colab": {
          "base_uri": "https://localhost:8080/"
        },
        "id": "UmEls9oXRQON",
        "outputId": "e0ba3308-aa1b-4e76-b374-dcd6b45e0a00"
      },
      "source": [
        "print(\"Loading training data...\")\n",
        "X_train,y_train = load_data_from_files(NC_FILENAME,PC_FILENAME)"
      ],
      "execution_count": 8,
      "outputs": [
        {
          "output_type": "stream",
          "text": [
            "Loading training data...\n",
            "Load data from files.\n",
            "Ready: train_set\n",
            "X4 <class 'list'>\n",
            "X5 <class 'numpy.ndarray'>\n",
            "(24000, 1000)\n",
            "X_train <class 'numpy.ndarray'>\n",
            "(24000, 1000)\n",
            "(1000,)\n",
            "[0 1 1 1 1 3 2 1 0 1 3 3 3 2 1 1 3 2 3 0 0 3 3 3 0 2 2 3 0 0 1 1 3 3 1 0 3\n",
            " 1 3 2 1 2 1 3 2 1 0 3 2 3 0 2 1 1 0 1 1 1 3 2 1 0 1 2 0 1 3 3 0 2 1 2 0 3\n",
            " 0 2 1 1 1 2 0 3 1 3 3 2 2 1 0 2 2 2 1 0 3 1 2 0 3 0 2 1 3 3 0 2 2 1 2 1 1\n",
            " 2 3 0 1 3 1 3 0 3 3 0 3 0 0 0 3 1 3 0 3 3 2 0 0 0 1 1 2 2 2 0 3 0 0 0 3 1\n",
            " 2 1 1 2 1 1 0 1 1 1 2 3 1 2 1 3 3 3 3 1 0 1 2 0 3 3 3 0 2 3 3 1 0 3 3 0 3\n",
            " 1 2 2 3 1 1 1 0 2 3 3 2 1 1 2 2 1 2 1 1 3 0 2 1 1 1 0 2 1 3 1 3 2 2 3 3 1\n",
            " 2 2 2 0 2 2 3 3 1 2 0 0 3 3 0 3 0 3 1 0 1 3 1 2 3 1 1 1 1 0 0 0 0 3 0 0 1\n",
            " 1 2 1 1 0 3 2 1 1 2 3 3 3 3 2 1 3 3 0 2 0 1 3 2 3 0 3 2 1 3 2 1 1 3 1 0 2\n",
            " 0 3 3 3 1 1 1 0 3 2 0 0 0 2 3 2 1 0 3 0 1 1 0 2 2 0 1 3 2 0 0 0 2 2 3 1 3\n",
            " 1 0 3 1 1 2 3 2 0 2 1 0 1 0 2 1 2 3 0 0 3 0 1 2 0 2 2 3 3 1 0 0 0 0 3 1 1\n",
            " 2 1 1 3 3 1 3 3 3 0 0 1 0 0 3 3 3 2 0 2 1 3 2 1 3 0 3 2 1 0 3 0 2 2 0 0 1\n",
            " 1 0 3 1 2 1 2 3 1 1 3 3 0 3 3 2 2 2 1 0 2 3 0 0 2 0 2 2 2 2 1 1 0 0 2 0 1\n",
            " 2 0 0 1 0 3 3 3 2 1 1 1 0 1 1 2 2 2 1 3 2 0 2 3 0 0 2 1 1 2 1 1 1 3 3 0 2\n",
            " 0 1 3 2 3 0 1 3 3 2 0 0 2 1 0 3 3 1 2 1 1 3 2 1 3 3 3 0 2 1 1 0 2 0 0 0 3\n",
            " 3 0 0 2 3 3 1 1 2 2 1 1 3 3 3 1 0 1 3 0 0 0 2 3 1 0 0 0 3 1 3 2 1 2 0 0 0\n",
            " 3 3 2 3 0 0 1 3 3 3 2 2 2 1 1 3 0 0 1 2 3 2 2 1 2 1 2 1 3 3 3 1 1 1 2 1 0\n",
            " 3 1 1 1 3 0 1 1 3 0 3 2 1 2 1 2 2 3 3 3 0 2 3 2 1 2 1 2 0 0 1 0 3 2 0 1 0\n",
            " 0 0 2 1 3 1 0 1 3 3 3 3 3 0 3 3 2 1 1 2 3 0 0 2 0 3 2 3 1 3 3 2 0 3 2 2 0\n",
            " 2 2 1 2 0 0 3 3 2 0 2 2 2 0 1 2 1 2 2 3 0 3 0 0 1 0 1 0 3 0 2 1 1 0 1 2 3\n",
            " 2 0 3 2 3 3 2 3 0 2 2 1 3 2 3 1 2 2 1 0 0 2 3 3 1 2 1 0 3 0 2 0 0 1 2 0 1\n",
            " 1 1 2 1 0 0 2 3 3 0 3 3 0 2 1 3 2 0 0 3 1 1 1 0 0 2 3 3 2 1 3 1 3 1 3 3 2\n",
            " 2 0 2 0 0 3 1 2 3 1 3 0 1 3 0 2 2 0 0 0 3 3 2 2 3 3 3 3 0 3 3 3 1 0 1 0 1\n",
            " 0 3 0 2 3 2 1 0 2 3 1 1 1 1 0 0 3 1 3 0 2 0 3 3 0 2 2 2 1 1 0 1 0 0 1 0 0\n",
            " 2 1 2 0 3 0 3 0 2 2 2 0 3 3 2 1 1 1 1 0 1 0 3 3 0 3 2 2 0 1 3 2 1 1 1 0 1\n",
            " 0 2 2 2 0 0 2 0 1 3 1 2 3 2 2 3 3 2 1 2 0 3 2 0 3 3 0 3 2 0 3 2 2 2 1 2 2\n",
            " 0 3 1 0 3 2 3 2 3 0 2 2 2 2 1 2 2 2 0 1 1 1 1 0 2 0 2 3 3 0 2 1 1 2 2 1 0\n",
            " 3 3 0 1 3 3 1 3 0 1 3 1 1 3 2 3 0 3 0 1 2 3 0 2 1 2 2 1 3 1 2 0 3 2 2 0 0\n",
            " 2]\n"
          ],
          "name": "stdout"
        }
      ]
    },
    {
      "cell_type": "code",
      "metadata": {
        "colab": {
          "base_uri": "https://localhost:8080/"
        },
        "id": "sfvgDZR1a_2j",
        "outputId": "44178aad-5c14-4a88-860e-f234bde08bf3"
      },
      "source": [
        "print(\"Loading validation data...\")\n",
        "X_VALID,Y_VALID = load_data_from_files(NC_VAL_FILE,PC_VAL_FILE)"
      ],
      "execution_count": 9,
      "outputs": [
        {
          "output_type": "stream",
          "text": [
            "Loading validation data...\n",
            "Load data from files.\n",
            "Ready: train_set\n",
            "X4 <class 'list'>\n",
            "X5 <class 'numpy.ndarray'>\n",
            "(100000, 1000)\n",
            "X_train <class 'numpy.ndarray'>\n",
            "(100000, 1000)\n",
            "(1000,)\n",
            "[1 3 1 3 3 2 2 3 1 0 0 3 0 0 2 0 1 1 1 1 0 3 1 3 3 2 3 2 2 2 0 0 3 2 3 2 2\n",
            " 1 0 3 0 3 1 0 3 0 0 1 2 3 3 0 1 2 2 0 2 1 3 3 2 2 1 2 3 2 1 1 3 2 3 1 1 1\n",
            " 2 2 1 1 2 0 2 0 2 0 1 2 0 3 3 2 2 3 1 1 1 1 3 3 0 0 1 1 2 0 3 3 2 3 3 0 3\n",
            " 3 1 0 1 0 2 2 3 1 1 1 1 2 1 0 1 0 0 3 1 3 3 1 1 3 3 3 0 0 1 1 0 2 3 3 1 1\n",
            " 3 0 1 1 0 2 0 2 2 2 2 1 0 0 2 0 1 1 0 0 1 2 2 0 2 3 3 2 0 1 1 1 3 1 3 1 1\n",
            " 0 0 0 3 3 1 0 0 0 0 1 0 0 1 1 1 3 2 2 1 1 2 3 1 2 2 1 1 2 0 0 0 2 0 3 0 1\n",
            " 3 1 1 0 0 2 1 0 1 2 0 3 0 3 3 2 2 3 3 3 1 3 0 2 0 2 0 3 1 2 1 0 0 2 3 2 1\n",
            " 2 0 1 1 0 3 0 2 3 3 3 1 2 2 1 0 1 3 1 0 1 3 0 3 2 0 0 2 0 1 1 1 1 3 1 1 1\n",
            " 2 0 0 2 2 3 2 1 0 3 2 1 2 3 3 0 2 1 3 0 2 2 3 3 2 1 0 3 1 3 1 2 0 3 2 2 2\n",
            " 3 2 1 1 3 1 0 3 0 2 3 0 1 3 1 3 1 1 3 1 0 1 2 2 3 3 2 2 0 0 0 0 0 1 0 0 2\n",
            " 0 1 1 3 2 1 2 1 3 3 2 2 0 1 2 1 2 2 1 1 3 2 1 0 2 2 2 1 3 3 2 1 0 3 0 1 3\n",
            " 3 0 0 0 0 2 2 2 1 1 0 1 0 2 2 1 0 3 3 1 3 2 1 1 0 1 0 1 0 1 0 3 1 3 0 2 2\n",
            " 0 3 0 3 1 1 2 0 0 0 3 2 3 3 1 3 0 0 2 0 2 0 1 1 3 2 2 0 0 2 2 1 3 1 3 0 2\n",
            " 0 3 2 3 3 0 2 1 1 0 2 0 3 0 1 2 3 3 3 2 0 0 1 0 3 0 3 3 1 1 1 0 1 2 3 0 0\n",
            " 0 1 3 2 1 2 1 2 0 0 3 2 2 2 3 0 1 1 0 0 3 0 3 0 0 1 2 3 0 0 0 2 2 1 2 2 0\n",
            " 0 2 0 0 0 1 2 2 1 0 2 1 2 2 2 1 3 3 0 0 2 2 2 2 0 1 3 2 1 2 0 0 3 0 1 2 0\n",
            " 0 3 0 3 2 1 2 3 0 3 3 2 0 0 3 3 0 1 1 1 3 3 2 2 3 0 2 3 2 2 0 2 2 3 2 0 1\n",
            " 2 1 1 1 3 3 3 1 0 1 3 0 3 0 1 0 1 3 0 0 3 3 1 2 3 3 2 2 2 3 2 0 0 3 2 2 3\n",
            " 3 3 0 2 2 0 0 3 1 2 2 1 0 1 2 3 2 1 3 2 0 0 3 1 3 2 2 1 0 0 2 1 1 2 1 0 2\n",
            " 2 2 0 3 2 1 1 0 2 0 3 0 1 1 3 3 2 2 2 2 0 1 3 0 1 1 0 0 1 2 2 1 2 1 2 1 0\n",
            " 0 0 2 2 0 3 3 0 2 0 1 1 3 2 1 2 1 2 2 1 0 2 1 1 3 3 0 2 0 0 3 2 3 0 3 1 3\n",
            " 2 0 0 1 0 2 2 1 0 2 1 3 2 2 2 0 2 0 1 1 1 3 0 0 0 0 0 2 2 1 1 3 1 1 2 2 2\n",
            " 3 0 3 3 1 0 1 2 1 0 0 0 3 0 3 3 0 1 0 0 0 2 0 2 1 2 0 1 0 0 3 2 2 2 3 2 0\n",
            " 3 0 2 3 1 1 1 2 3 3 1 1 3 1 1 2 1 1 1 3 3 3 0 2 2 0 0 2 3 0 0 3 1 0 1 2 0\n",
            " 1 1 3 2 1 0 3 0 2 2 3 1 2 0 2 0 0 3 1 1 1 2 3 3 2 0 3 3 3 0 0 1 0 3 2 2 2\n",
            " 1 0 0 1 0 2 1 0 0 1 3 2 0 0 0 0 0 2 2 3 1 0 0 1 3 0 3 1 1 2 1 2 2 0 1 1 0\n",
            " 3 3 0 3 3 1 0 1 3 3 3 0 2 0 0 2 0 3 0 0 1 0 2 1 2 3 0 2 0 1 1 2 0 2 3 1 1\n",
            " 3]\n"
          ],
          "name": "stdout"
        }
      ]
    },
    {
      "cell_type": "code",
      "metadata": {
        "colab": {
          "base_uri": "https://localhost:8080/",
          "height": 1000
        },
        "id": "mQ8eW5Rg9KdQ",
        "outputId": "2a46f125-a9be-4409-c118-8ae6e3316cb0"
      },
      "source": [
        "print (\"Cross validation\")\n",
        "do_cross_validation(X_train,y_train,model,X_VALID,Y_VALID)  \n",
        "print (\"Done\")"
      ],
      "execution_count": 10,
      "outputs": [
        {
          "output_type": "stream",
          "text": [
            "Cross validation\n",
            "COMPILE...\n",
            "...COMPILED\n",
            "FIT\n",
            "Epoch 1/20\n",
            "675/675 [==============================] - 10s 8ms/step - loss: 0.6874 - accuracy: 0.5398 - val_loss: 0.6488 - val_accuracy: 0.6283\n",
            "INFO:tensorflow:Assets written to: /content/drive/My Drive/data/JUNK3.cv.1.best/assets\n",
            "Epoch 2/20\n",
            "675/675 [==============================] - 5s 7ms/step - loss: 0.6449 - accuracy: 0.6345 - val_loss: 0.5666 - val_accuracy: 0.7054\n",
            "INFO:tensorflow:Assets written to: /content/drive/My Drive/data/JUNK3.cv.1.best/assets\n",
            "Epoch 3/20\n",
            "675/675 [==============================] - 5s 7ms/step - loss: 0.5406 - accuracy: 0.7288 - val_loss: 0.3165 - val_accuracy: 0.8696\n",
            "INFO:tensorflow:Assets written to: /content/drive/My Drive/data/JUNK3.cv.1.best/assets\n",
            "Epoch 4/20\n",
            "675/675 [==============================] - 5s 7ms/step - loss: 0.2590 - accuracy: 0.8977 - val_loss: 0.1144 - val_accuracy: 0.9567\n",
            "INFO:tensorflow:Assets written to: /content/drive/My Drive/data/JUNK3.cv.1.best/assets\n",
            "Epoch 5/20\n",
            "675/675 [==============================] - 5s 7ms/step - loss: 0.1090 - accuracy: 0.9634 - val_loss: 0.0645 - val_accuracy: 0.9779\n",
            "INFO:tensorflow:Assets written to: /content/drive/My Drive/data/JUNK3.cv.1.best/assets\n",
            "Epoch 6/20\n",
            "675/675 [==============================] - 5s 7ms/step - loss: 0.0712 - accuracy: 0.9786 - val_loss: 0.0596 - val_accuracy: 0.9842\n",
            "INFO:tensorflow:Assets written to: /content/drive/My Drive/data/JUNK3.cv.1.best/assets\n",
            "Epoch 7/20\n",
            "675/675 [==============================] - 5s 7ms/step - loss: 0.0628 - accuracy: 0.9814 - val_loss: 0.0406 - val_accuracy: 0.9883\n",
            "INFO:tensorflow:Assets written to: /content/drive/My Drive/data/JUNK3.cv.1.best/assets\n",
            "Epoch 8/20\n",
            "675/675 [==============================] - 5s 7ms/step - loss: 0.0669 - accuracy: 0.9784 - val_loss: 0.0321 - val_accuracy: 0.9912\n",
            "INFO:tensorflow:Assets written to: /content/drive/My Drive/data/JUNK3.cv.1.best/assets\n",
            "Epoch 9/20\n",
            "675/675 [==============================] - 5s 7ms/step - loss: 0.0384 - accuracy: 0.9889 - val_loss: 0.0402 - val_accuracy: 0.9892\n",
            "Epoch 10/20\n",
            "675/675 [==============================] - 5s 7ms/step - loss: 0.0417 - accuracy: 0.9879 - val_loss: 0.0468 - val_accuracy: 0.9854\n",
            "Epoch 11/20\n",
            "675/675 [==============================] - 5s 7ms/step - loss: 0.0416 - accuracy: 0.9866 - val_loss: 0.0440 - val_accuracy: 0.9850\n",
            "Epoch 12/20\n",
            "675/675 [==============================] - 5s 7ms/step - loss: 0.0442 - accuracy: 0.9858 - val_loss: 0.0308 - val_accuracy: 0.9925\n",
            "INFO:tensorflow:Assets written to: /content/drive/My Drive/data/JUNK3.cv.1.best/assets\n",
            "Epoch 13/20\n",
            "675/675 [==============================] - 5s 7ms/step - loss: 0.0324 - accuracy: 0.9903 - val_loss: 0.0460 - val_accuracy: 0.9887\n",
            "Epoch 14/20\n",
            "675/675 [==============================] - 5s 7ms/step - loss: 0.0316 - accuracy: 0.9903 - val_loss: 0.0566 - val_accuracy: 0.9862\n",
            "Epoch 15/20\n",
            "675/675 [==============================] - 5s 7ms/step - loss: 0.0350 - accuracy: 0.9903 - val_loss: 0.0270 - val_accuracy: 0.9933\n",
            "INFO:tensorflow:Assets written to: /content/drive/My Drive/data/JUNK3.cv.1.best/assets\n",
            "Epoch 16/20\n",
            "675/675 [==============================] - 5s 7ms/step - loss: 0.0307 - accuracy: 0.9913 - val_loss: 0.0365 - val_accuracy: 0.9900\n",
            "Epoch 17/20\n",
            "675/675 [==============================] - 5s 7ms/step - loss: 0.0320 - accuracy: 0.9905 - val_loss: 0.0236 - val_accuracy: 0.9929\n",
            "Epoch 18/20\n",
            "675/675 [==============================] - 5s 7ms/step - loss: 0.0302 - accuracy: 0.9914 - val_loss: 0.0368 - val_accuracy: 0.9904\n",
            "Epoch 19/20\n",
            "675/675 [==============================] - 5s 7ms/step - loss: 0.0321 - accuracy: 0.9911 - val_loss: 0.0300 - val_accuracy: 0.9929\n",
            "Epoch 20/20\n",
            "675/675 [==============================] - 5s 7ms/step - loss: 0.0238 - accuracy: 0.9931 - val_loss: 0.0268 - val_accuracy: 0.9925\n",
            "Fold 1, 20 epochs, 125 sec\n"
          ],
          "name": "stdout"
        },
        {
          "output_type": "display_data",
          "data": {
            "image/png": "[encoded data removed]",
            "text/plain": [
              "<Figure size 576x360 with 1 Axes>"
            ]
          },
          "metadata": {
            "tags": [],
            "needs_background": "light"
          }
        },
        {
          "output_type": "stream",
          "text": [
            "accuracy: 99.14%\n",
            "COMPILE...\n",
            "...COMPILED\n",
            "FIT\n",
            "Epoch 1/20\n",
            "675/675 [==============================] - 6s 7ms/step - loss: 0.6967 - accuracy: 0.5029 - val_loss: 0.6931 - val_accuracy: 0.5129\n",
            "INFO:tensorflow:Assets written to: /content/drive/My Drive/data/JUNK3.cv.2.best/assets\n",
            "Epoch 2/20\n",
            "675/675 [==============================] - 5s 7ms/step - loss: 0.6948 - accuracy: 0.4978 - val_loss: 0.6932 - val_accuracy: 0.4871\n",
            "Epoch 3/20\n",
            "675/675 [==============================] - 5s 7ms/step - loss: 0.6946 - accuracy: 0.4935 - val_loss: 0.6934 - val_accuracy: 0.4871\n",
            "Epoch 4/20\n",
            "675/675 [==============================] - 5s 7ms/step - loss: 0.6937 - accuracy: 0.5038 - val_loss: 0.6928 - val_accuracy: 0.5129\n",
            "Epoch 5/20\n",
            "675/675 [==============================] - 5s 7ms/step - loss: 0.6942 - accuracy: 0.5045 - val_loss: 0.6935 - val_accuracy: 0.4871\n",
            "Epoch 6/20\n",
            "675/675 [==============================] - 5s 7ms/step - loss: 0.6940 - accuracy: 0.4992 - val_loss: 0.6935 - val_accuracy: 0.4871\n",
            "Epoch 7/20\n",
            "675/675 [==============================] - 5s 7ms/step - loss: 0.6936 - accuracy: 0.4995 - val_loss: 0.6561 - val_accuracy: 0.6271\n",
            "INFO:tensorflow:Assets written to: /content/drive/My Drive/data/JUNK3.cv.2.best/assets\n",
            "Epoch 8/20\n",
            "675/675 [==============================] - 5s 7ms/step - loss: 0.6807 - accuracy: 0.5533 - val_loss: 0.6960 - val_accuracy: 0.4871\n",
            "Epoch 9/20\n",
            "675/675 [==============================] - 5s 7ms/step - loss: 0.6954 - accuracy: 0.4958 - val_loss: 0.6929 - val_accuracy: 0.5129\n",
            "Epoch 10/20\n",
            "675/675 [==============================] - 5s 7ms/step - loss: 0.6946 - accuracy: 0.4998 - val_loss: 0.6941 - val_accuracy: 0.4871\n",
            "Epoch 11/20\n",
            "675/675 [==============================] - 5s 7ms/step - loss: 0.6935 - accuracy: 0.5047 - val_loss: 0.6930 - val_accuracy: 0.5129\n",
            "Epoch 12/20\n",
            "675/675 [==============================] - 5s 7ms/step - loss: 0.6939 - accuracy: 0.4909 - val_loss: 0.6939 - val_accuracy: 0.4871\n",
            "Epoch 13/20\n",
            "675/675 [==============================] - 5s 7ms/step - loss: 0.6933 - accuracy: 0.5049 - val_loss: 0.6931 - val_accuracy: 0.5129\n",
            "Epoch 14/20\n",
            "675/675 [==============================] - 5s 7ms/step - loss: 0.6933 - accuracy: 0.5005 - val_loss: 0.6933 - val_accuracy: 0.4871\n",
            "Epoch 15/20\n",
            "675/675 [==============================] - 5s 7ms/step - loss: 0.6933 - accuracy: 0.5088 - val_loss: 0.6929 - val_accuracy: 0.5129\n",
            "Epoch 16/20\n",
            "675/675 [==============================] - 5s 7ms/step - loss: 0.6935 - accuracy: 0.4989 - val_loss: 0.6931 - val_accuracy: 0.5129\n",
            "Epoch 17/20\n",
            "675/675 [==============================] - 5s 7ms/step - loss: 0.6934 - accuracy: 0.5023 - val_loss: 0.6930 - val_accuracy: 0.5129\n",
            "Epoch 18/20\n",
            "675/675 [==============================] - 5s 7ms/step - loss: 0.6932 - accuracy: 0.5058 - val_loss: 0.6938 - val_accuracy: 0.4871\n",
            "Epoch 19/20\n",
            "675/675 [==============================] - 5s 7ms/step - loss: 0.6935 - accuracy: 0.4993 - val_loss: 0.6929 - val_accuracy: 0.5129\n",
            "Epoch 20/20\n",
            "675/675 [==============================] - 5s 7ms/step - loss: 0.6936 - accuracy: 0.4921 - val_loss: 0.6932 - val_accuracy: 0.4871\n",
            "Fold 2, 20 epochs, 98 sec\n"
          ],
          "name": "stdout"
        },
        {
          "output_type": "display_data",
          "data": {
            "image/png": "[encoded data removed]",
            "text/plain": [
              "<Figure size 576x360 with 1 Axes>"
            ]
          },
          "metadata": {
            "tags": [],
            "needs_background": "light"
          }
        },
        {
          "output_type": "stream",
          "text": [
            "accuracy: 63.82%\n",
            "COMPILE...\n",
            "...COMPILED\n",
            "FIT\n",
            "Epoch 1/20\n",
            "675/675 [==============================] - 6s 7ms/step - loss: 0.6954 - accuracy: 0.5096 - val_loss: 0.6434 - val_accuracy: 0.6137\n",
            "INFO:tensorflow:Assets written to: /content/drive/My Drive/data/JUNK3.cv.3.best/assets\n",
            "Epoch 2/20\n",
            "675/675 [==============================] - 5s 7ms/step - loss: 0.5160 - accuracy: 0.7430 - val_loss: 0.1888 - val_accuracy: 0.9217\n",
            "INFO:tensorflow:Assets written to: /content/drive/My Drive/data/JUNK3.cv.3.best/assets\n",
            "Epoch 3/20\n",
            "675/675 [==============================] - 5s 7ms/step - loss: 0.1765 - accuracy: 0.9379 - val_loss: 0.0944 - val_accuracy: 0.9729\n",
            "INFO:tensorflow:Assets written to: /content/drive/My Drive/data/JUNK3.cv.3.best/assets\n",
            "Epoch 4/20\n",
            "675/675 [==============================] - 5s 7ms/step - loss: 0.0869 - accuracy: 0.9724 - val_loss: 0.0574 - val_accuracy: 0.9842\n",
            "INFO:tensorflow:Assets written to: /content/drive/My Drive/data/JUNK3.cv.3.best/assets\n",
            "Epoch 5/20\n",
            "675/675 [==============================] - 5s 7ms/step - loss: 0.0569 - accuracy: 0.9817 - val_loss: 0.0640 - val_accuracy: 0.9833\n",
            "Epoch 6/20\n",
            "675/675 [==============================] - 5s 7ms/step - loss: 0.0476 - accuracy: 0.9856 - val_loss: 0.1057 - val_accuracy: 0.9754\n",
            "Epoch 7/20\n",
            "675/675 [==============================] - 5s 7ms/step - loss: 0.0509 - accuracy: 0.9860 - val_loss: 0.0399 - val_accuracy: 0.9892\n",
            "INFO:tensorflow:Assets written to: /content/drive/My Drive/data/JUNK3.cv.3.best/assets\n",
            "Epoch 8/20\n",
            "675/675 [==============================] - 5s 7ms/step - loss: 0.0277 - accuracy: 0.9929 - val_loss: 0.0389 - val_accuracy: 0.9879\n",
            "Epoch 9/20\n",
            "675/675 [==============================] - 5s 7ms/step - loss: 0.0551 - accuracy: 0.9833 - val_loss: 0.0363 - val_accuracy: 0.9879\n",
            "Epoch 10/20\n",
            "675/675 [==============================] - 5s 7ms/step - loss: 0.0316 - accuracy: 0.9916 - val_loss: 0.0367 - val_accuracy: 0.9879\n",
            "Epoch 11/20\n",
            "675/675 [==============================] - 5s 7ms/step - loss: 0.0326 - accuracy: 0.9910 - val_loss: 0.0327 - val_accuracy: 0.9904\n",
            "INFO:tensorflow:Assets written to: /content/drive/My Drive/data/JUNK3.cv.3.best/assets\n",
            "Epoch 12/20\n",
            "675/675 [==============================] - 5s 7ms/step - loss: 0.0289 - accuracy: 0.9917 - val_loss: 0.0336 - val_accuracy: 0.9921\n",
            "INFO:tensorflow:Assets written to: /content/drive/My Drive/data/JUNK3.cv.3.best/assets\n",
            "Epoch 13/20\n",
            "675/675 [==============================] - 5s 7ms/step - loss: 0.0182 - accuracy: 0.9958 - val_loss: 0.0407 - val_accuracy: 0.9887\n",
            "Epoch 14/20\n",
            "675/675 [==============================] - 5s 7ms/step - loss: 0.0243 - accuracy: 0.9933 - val_loss: 0.0329 - val_accuracy: 0.9908\n",
            "Epoch 15/20\n",
            "675/675 [==============================] - 5s 7ms/step - loss: 0.0252 - accuracy: 0.9933 - val_loss: 0.0556 - val_accuracy: 0.9854\n",
            "Epoch 16/20\n",
            "675/675 [==============================] - 5s 7ms/step - loss: 0.0254 - accuracy: 0.9929 - val_loss: 0.0537 - val_accuracy: 0.9883\n",
            "Epoch 17/20\n",
            "675/675 [==============================] - 5s 7ms/step - loss: 0.0198 - accuracy: 0.9944 - val_loss: 0.0416 - val_accuracy: 0.9896\n",
            "Epoch 18/20\n",
            "675/675 [==============================] - 5s 7ms/step - loss: 0.0355 - accuracy: 0.9898 - val_loss: 0.0400 - val_accuracy: 0.9904\n",
            "Epoch 19/20\n",
            "675/675 [==============================] - 5s 7ms/step - loss: 0.0159 - accuracy: 0.9953 - val_loss: 0.0477 - val_accuracy: 0.9883\n",
            "Epoch 20/20\n",
            "675/675 [==============================] - 5s 7ms/step - loss: 0.0289 - accuracy: 0.9918 - val_loss: 0.0461 - val_accuracy: 0.9875\n",
            "Fold 3, 20 epochs, 112 sec\n"
          ],
          "name": "stdout"
        },
        {
          "output_type": "display_data",
          "data": {
            "image/png": "[encoded data removed]",
            "text/plain": [
              "<Figure size 576x360 with 1 Axes>"
            ]
          },
          "metadata": {
            "tags": [],
            "needs_background": "light"
          }
        },
        {
          "output_type": "stream",
          "text": [
            "accuracy: 99.15%\n",
            "COMPILE...\n",
            "...COMPILED\n",
            "FIT\n",
            "Epoch 1/20\n",
            "675/675 [==============================] - 6s 7ms/step - loss: 0.6883 - accuracy: 0.5452 - val_loss: 0.6287 - val_accuracy: 0.6454\n",
            "INFO:tensorflow:Assets written to: /content/drive/My Drive/data/JUNK3.cv.4.best/assets\n",
            "Epoch 2/20\n",
            "675/675 [==============================] - 5s 7ms/step - loss: 0.5865 - accuracy: 0.6943 - val_loss: 0.4576 - val_accuracy: 0.7812\n",
            "INFO:tensorflow:Assets written to: /content/drive/My Drive/data/JUNK3.cv.4.best/assets\n",
            "Epoch 3/20\n",
            "675/675 [==============================] - 5s 7ms/step - loss: 0.3714 - accuracy: 0.8417 - val_loss: 0.1306 - val_accuracy: 0.9517\n",
            "INFO:tensorflow:Assets written to: /content/drive/My Drive/data/JUNK3.cv.4.best/assets\n",
            "Epoch 4/20\n",
            "675/675 [==============================] - 5s 7ms/step - loss: 0.1645 - accuracy: 0.9432 - val_loss: 0.0826 - val_accuracy: 0.9775\n",
            "INFO:tensorflow:Assets written to: /content/drive/My Drive/data/JUNK3.cv.4.best/assets\n",
            "Epoch 5/20\n",
            "675/675 [==============================] - 5s 7ms/step - loss: 0.1027 - accuracy: 0.9652 - val_loss: 0.0741 - val_accuracy: 0.9775\n",
            "Epoch 6/20\n",
            "675/675 [==============================] - 5s 7ms/step - loss: 0.0694 - accuracy: 0.9778 - val_loss: 0.0605 - val_accuracy: 0.9821\n",
            "INFO:tensorflow:Assets written to: /content/drive/My Drive/data/JUNK3.cv.4.best/assets\n",
            "Epoch 7/20\n",
            "675/675 [==============================] - 5s 7ms/step - loss: 0.0636 - accuracy: 0.9789 - val_loss: 0.0362 - val_accuracy: 0.9892\n",
            "INFO:tensorflow:Assets written to: /content/drive/My Drive/data/JUNK3.cv.4.best/assets\n",
            "Epoch 8/20\n",
            "675/675 [==============================] - 5s 7ms/step - loss: 0.0462 - accuracy: 0.9862 - val_loss: 0.0379 - val_accuracy: 0.9871\n",
            "Epoch 9/20\n",
            "675/675 [==============================] - 5s 7ms/step - loss: 0.0388 - accuracy: 0.9890 - val_loss: 0.0384 - val_accuracy: 0.9879\n",
            "Epoch 10/20\n",
            "675/675 [==============================] - 5s 7ms/step - loss: 0.0400 - accuracy: 0.9878 - val_loss: 0.0386 - val_accuracy: 0.9904\n",
            "INFO:tensorflow:Assets written to: /content/drive/My Drive/data/JUNK3.cv.4.best/assets\n",
            "Epoch 11/20\n",
            "675/675 [==============================] - 5s 7ms/step - loss: 0.0297 - accuracy: 0.9918 - val_loss: 0.0227 - val_accuracy: 0.9950\n",
            "INFO:tensorflow:Assets written to: /content/drive/My Drive/data/JUNK3.cv.4.best/assets\n",
            "Epoch 12/20\n",
            "675/675 [==============================] - 5s 7ms/step - loss: 0.0278 - accuracy: 0.9925 - val_loss: 0.0353 - val_accuracy: 0.9921\n",
            "Epoch 13/20\n",
            "675/675 [==============================] - 5s 7ms/step - loss: 0.0340 - accuracy: 0.9902 - val_loss: 0.0449 - val_accuracy: 0.9896\n",
            "Epoch 14/20\n",
            "675/675 [==============================] - 5s 7ms/step - loss: 0.0255 - accuracy: 0.9931 - val_loss: 0.0325 - val_accuracy: 0.9925\n",
            "Epoch 15/20\n",
            "675/675 [==============================] - 5s 7ms/step - loss: 0.0801 - accuracy: 0.9763 - val_loss: 0.0137 - val_accuracy: 0.9967\n",
            "INFO:tensorflow:Assets written to: /content/drive/My Drive/data/JUNK3.cv.4.best/assets\n",
            "Epoch 16/20\n",
            "675/675 [==============================] - 5s 7ms/step - loss: 0.0226 - accuracy: 0.9942 - val_loss: 0.0227 - val_accuracy: 0.9954\n",
            "Epoch 17/20\n",
            "675/675 [==============================] - 5s 7ms/step - loss: 0.0211 - accuracy: 0.9937 - val_loss: 0.0346 - val_accuracy: 0.9917\n",
            "Epoch 18/20\n",
            "675/675 [==============================] - 5s 7ms/step - loss: 0.0268 - accuracy: 0.9915 - val_loss: 0.0281 - val_accuracy: 0.9908\n",
            "Epoch 19/20\n",
            "675/675 [==============================] - 5s 7ms/step - loss: 0.0211 - accuracy: 0.9943 - val_loss: 0.0251 - val_accuracy: 0.9937\n",
            "Epoch 20/20\n",
            "675/675 [==============================] - 5s 7ms/step - loss: 0.0222 - accuracy: 0.9932 - val_loss: 0.0314 - val_accuracy: 0.9929\n",
            "Fold 4, 20 epochs, 117 sec\n"
          ],
          "name": "stdout"
        },
        {
          "output_type": "display_data",
          "data": {
            "image/png": "[encoded data removed]",
            "text/plain": [
              "<Figure size 576x360 with 1 Axes>"
            ]
          },
          "metadata": {
            "tags": [],
            "needs_background": "light"
          }
        },
        {
          "output_type": "stream",
          "text": [
            "accuracy: 99.14%\n",
            "COMPILE...\n",
            "...COMPILED\n",
            "FIT\n",
            "Epoch 1/20\n",
            "675/675 [==============================] - 6s 7ms/step - loss: 0.6948 - accuracy: 0.5092 - val_loss: 0.6554 - val_accuracy: 0.6133\n",
            "INFO:tensorflow:Assets written to: /content/drive/My Drive/data/JUNK3.cv.5.best/assets\n",
            "Epoch 2/20\n",
            "675/675 [==============================] - 5s 7ms/step - loss: 0.6109 - accuracy: 0.6668 - val_loss: 0.4830 - val_accuracy: 0.7654\n",
            "INFO:tensorflow:Assets written to: /content/drive/My Drive/data/JUNK3.cv.5.best/assets\n",
            "Epoch 3/20\n",
            "675/675 [==============================] - 5s 7ms/step - loss: 0.4070 - accuracy: 0.8170 - val_loss: 0.1939 - val_accuracy: 0.9254\n",
            "INFO:tensorflow:Assets written to: /content/drive/My Drive/data/JUNK3.cv.5.best/assets\n",
            "Epoch 4/20\n",
            "675/675 [==============================] - 5s 7ms/step - loss: 0.1755 - accuracy: 0.9362 - val_loss: 0.0981 - val_accuracy: 0.9675\n",
            "INFO:tensorflow:Assets written to: /content/drive/My Drive/data/JUNK3.cv.5.best/assets\n",
            "Epoch 5/20\n",
            "675/675 [==============================] - 5s 7ms/step - loss: 0.1090 - accuracy: 0.9649 - val_loss: 0.0892 - val_accuracy: 0.9688\n",
            "INFO:tensorflow:Assets written to: /content/drive/My Drive/data/JUNK3.cv.5.best/assets\n",
            "Epoch 6/20\n",
            "675/675 [==============================] - 5s 7ms/step - loss: 0.0806 - accuracy: 0.9745 - val_loss: 0.0903 - val_accuracy: 0.9683\n",
            "Epoch 7/20\n",
            "675/675 [==============================] - 5s 7ms/step - loss: 0.0674 - accuracy: 0.9794 - val_loss: 0.0707 - val_accuracy: 0.9779\n",
            "INFO:tensorflow:Assets written to: /content/drive/My Drive/data/JUNK3.cv.5.best/assets\n",
            "Epoch 8/20\n",
            "675/675 [==============================] - 5s 7ms/step - loss: 0.0615 - accuracy: 0.9803 - val_loss: 0.0625 - val_accuracy: 0.9787\n",
            "INFO:tensorflow:Assets written to: /content/drive/My Drive/data/JUNK3.cv.5.best/assets\n",
            "Epoch 9/20\n",
            "675/675 [==============================] - 5s 7ms/step - loss: 0.0541 - accuracy: 0.9840 - val_loss: 0.0545 - val_accuracy: 0.9837\n",
            "INFO:tensorflow:Assets written to: /content/drive/My Drive/data/JUNK3.cv.5.best/assets\n",
            "Epoch 10/20\n",
            "675/675 [==============================] - 5s 7ms/step - loss: 0.0557 - accuracy: 0.9824 - val_loss: 0.0709 - val_accuracy: 0.9821\n",
            "Epoch 11/20\n",
            "675/675 [==============================] - 5s 7ms/step - loss: 0.0447 - accuracy: 0.9866 - val_loss: 0.0411 - val_accuracy: 0.9875\n",
            "INFO:tensorflow:Assets written to: /content/drive/My Drive/data/JUNK3.cv.5.best/assets\n",
            "Epoch 12/20\n",
            "675/675 [==============================] - 5s 7ms/step - loss: 0.0551 - accuracy: 0.9832 - val_loss: 0.0382 - val_accuracy: 0.9862\n",
            "Epoch 13/20\n",
            "675/675 [==============================] - 5s 7ms/step - loss: 0.0321 - accuracy: 0.9911 - val_loss: 0.0401 - val_accuracy: 0.9862\n",
            "Epoch 14/20\n",
            "675/675 [==============================] - 5s 7ms/step - loss: 0.0341 - accuracy: 0.9902 - val_loss: 0.0400 - val_accuracy: 0.9896\n",
            "INFO:tensorflow:Assets written to: /content/drive/My Drive/data/JUNK3.cv.5.best/assets\n",
            "Epoch 15/20\n",
            "675/675 [==============================] - 5s 7ms/step - loss: 0.0439 - accuracy: 0.9872 - val_loss: 0.0271 - val_accuracy: 0.9912\n",
            "INFO:tensorflow:Assets written to: /content/drive/My Drive/data/JUNK3.cv.5.best/assets\n",
            "Epoch 16/20\n",
            "675/675 [==============================] - 5s 7ms/step - loss: 0.0387 - accuracy: 0.9878 - val_loss: 0.0436 - val_accuracy: 0.9883\n",
            "Epoch 17/20\n",
            "675/675 [==============================] - 5s 7ms/step - loss: 0.0307 - accuracy: 0.9908 - val_loss: 0.0372 - val_accuracy: 0.9896\n",
            "Epoch 18/20\n",
            "675/675 [==============================] - 5s 7ms/step - loss: 0.0235 - accuracy: 0.9936 - val_loss: 0.0345 - val_accuracy: 0.9917\n",
            "INFO:tensorflow:Assets written to: /content/drive/My Drive/data/JUNK3.cv.5.best/assets\n",
            "Epoch 19/20\n",
            "675/675 [==============================] - 5s 7ms/step - loss: 0.0361 - accuracy: 0.9887 - val_loss: 0.0430 - val_accuracy: 0.9875\n",
            "Epoch 20/20\n",
            "675/675 [==============================] - 5s 7ms/step - loss: 0.0257 - accuracy: 0.9919 - val_loss: 0.0425 - val_accuracy: 0.9908\n",
            "Fold 5, 20 epochs, 129 sec\n"
          ],
          "name": "stdout"
        },
        {
          "output_type": "display_data",
          "data": {
            "image/png": "[encoded data removed]",
            "text/plain": [
              "<Figure size 576x360 with 1 Axes>"
            ]
          },
          "metadata": {
            "tags": [],
            "needs_background": "light"
          }
        },
        {
          "output_type": "stream",
          "text": [
            "accuracy: 99.04%\n",
            "\n",
            "5-way Cross Validation mean 92.06% (+/- 14.12%)\n",
            "Done\n"
          ],
          "name": "stdout"
        }
      ]
    },
    {
      "cell_type": "code",
      "metadata": {
        "id": "p4fh2GI8beMQ"
      },
      "source": [
        ""
      ],
      "execution_count": 10,
      "outputs": []
    }
  ]
}