{
  "nbformat": 4,
  "nbformat_minor": 0,
  "metadata": {
    "accelerator": "GPU",
    "colab": {
      "name": "CNN_516.ipynb",
      "provenance": [],
      "collapsed_sections": [],
      "include_colab_link": true
    },
    "kernelspec": {
      "display_name": "Python 3",
      "language": "python",
      "name": "python3"
    },
    "language_info": {
      "codemirror_mode": {
        "name": "ipython",
        "version": 3
      },
      "file_extension": ".py",
      "mimetype": "text/x-python",
      "name": "python",
      "nbconvert_exporter": "python",
      "pygments_lexer": "ipython3",
      "version": "3.8.3"
    }
  },
  "cells": [
    {
      "cell_type": "markdown",
      "metadata": {
        "id": "view-in-github",
        "colab_type": "text"
      },
      "source": [
        "<a href=\"https://colab.research.google.com/github/ShepherdCode/ShepherdML/blob/master/Nasa2021/CNN_516.ipynb\" target=\"_parent\"><img src=\"https://colab.research.google.com/assets/colab-badge.svg\" alt=\"Open In Colab\"/></a>"
      ]
    },
    {
      "cell_type": "markdown",
      "metadata": {
        "id": "ojm_6E9f9Kcf"
      },
      "source": [
        "# CNN 516\n",
        "\n",
        "ONE CNN:\n",
        "\n",
        "1.   Higher filters then neurons increased learning\n",
        "2.   Higher filters also increased zombine states\n",
        "3.   Model does not learn after first few ephocs and reaching ~70%\n",
        "\n",
        "\n",
        "\n",
        "\n",
        "\n",
        "\n",
        "\n",
        "\n",
        "\n",
        "\n"
      ]
    },
    {
      "cell_type": "code",
      "metadata": {
        "id": "hh6XplUvC0j0",
        "colab": {
          "base_uri": "https://localhost:8080/"
        },
        "outputId": "d72eb791-5694-4231-9322-545b8e756b17"
      },
      "source": [
        "#NC_FILENAME='ncRNA.tiny50.fasta'\n",
        "#PC_FILENAME='pcRNA.tiny50.fasta'\n",
        "#NC_FILENAME='ncRNA.gc34.processed.fasta'\n",
        "#PC_FILENAME='pcRNA.gc34.processed.fasta'\n",
        "NC_FILENAME='ncRNA.gc36.balance.fasta'\n",
        "PC_FILENAME='pcRNA.gc36.balance.fasta'\n",
        "\n",
        "MODEL_FILE='CNN516' \n",
        "DATAPATH=''\n",
        "\n",
        "try:\n",
        "    from google.colab import drive\n",
        "    IN_COLAB = True\n",
        "    PATH='/content/drive/'\n",
        "    drive.mount(PATH)\n",
        "    DATAPATH=PATH+'My Drive/data/'  # must end in \"/\"\n",
        "except:\n",
        "    IN_COLAB = False\n",
        "    DATAPATH='data/'  # must end in \"/\"\n",
        "NC_FILENAME = DATAPATH+NC_FILENAME\n",
        "PC_FILENAME = DATAPATH+PC_FILENAME\n",
        "MODEL_FILE=DATAPATH+MODEL_FILE\n",
        "\n",
        "EPOCHS=10\n",
        "SPLITS=5\n",
        "K=1\n",
        "VOCABULARY_SIZE=4**K+1   # e.g. K=3 => 64 DNA K-mers + 'NNN'\n",
        "EMBED_DIMEN=2\n",
        "FILTERS=16\n",
        "KERNEL=3\n",
        "NEURONS=8\n",
        "#DROP=0.4\n",
        "MINLEN=200\n",
        "MAXLEN=2000\n",
        "DENSE_LEN = 1000\n",
        "ACT=\"tanh\""
      ],
      "execution_count": 9,
      "outputs": [
        {
          "output_type": "stream",
          "text": [
            "Drive already mounted at /content/drive/; to attempt to forcibly remount, call drive.mount(\"/content/drive/\", force_remount=True).\n"
          ],
          "name": "stdout"
        }
      ]
    },
    {
      "cell_type": "code",
      "metadata": {
        "id": "e9TY3HK9ZklE",
        "colab": {
          "base_uri": "https://localhost:8080/"
        },
        "outputId": "9c0f09d5-1630-4259-b581-5b99cf49d98e"
      },
      "source": [
        "# Load our own tools\n",
        "# TO DO: don't go to GitHub if the file is already local.\n",
        "GITHUB = True\n",
        "if GITHUB:\n",
        "    #!pip install requests  # Uncomment this if necessary. Seems to be pre-installed.\n",
        "    import requests\n",
        "    r = requests.get('https://raw.githubusercontent.com/ShepherdCode/ShepherdML/master/Strings/tools_fasta.py')\n",
        "    with open('tools_fasta.py', 'w') as f:\n",
        "        f.write(r.text)\n",
        "    # TO DO: delete the file after import\n",
        "import tools_fasta as tools\n",
        "tools.yahoo()  # If this prints \"Yahoo!\" the the import was successful.\n",
        "\n",
        "TOOLS_CHANGED = False   # set to True to re-run with a new version of tools\n",
        "if TOOLS_CHANGED:\n",
        "  from importlib import reload \n",
        "  tools=reload(tools)\n",
        "  print(dir(tools))   # run this to see EVERYTHING in the tools module"
      ],
      "execution_count": 10,
      "outputs": [
        {
          "output_type": "stream",
          "text": [
            "Yahoo!\n"
          ],
          "name": "stdout"
        }
      ]
    },
    {
      "cell_type": "code",
      "metadata": {
        "id": "VQY7aTj29Kch"
      },
      "source": [
        "import numpy as np\n",
        "import pandas as pd\n",
        "import matplotlib.pyplot as plt\n",
        "from sklearn.model_selection import ShuffleSplit\n",
        "from sklearn.model_selection import cross_val_score\n",
        "from sklearn.model_selection import RepeatedKFold\n",
        "from sklearn.model_selection import StratifiedKFold\n",
        "import tensorflow as tf\n",
        "from tensorflow import keras\n",
        "import time\n",
        "dt='float32'\n",
        "tf.keras.backend.set_floatx(dt)"
      ],
      "execution_count": 11,
      "outputs": []
    },
    {
      "cell_type": "markdown",
      "metadata": {
        "id": "j7jcg6Wl9Kc2"
      },
      "source": [
        "Build model"
      ]
    },
    {
      "cell_type": "code",
      "metadata": {
        "id": "qLFNO1Xa9Kc3"
      },
      "source": [
        "def compile_model(model):\n",
        "    ## learn rate = initial_learning_rate * decay_rate ^ (step / decay_steps)\n",
        "    #adam_default_learn_rate = 0.001\n",
        "    #schedule = tf.keras.optimizers.schedules.ExponentialDecay(\n",
        "    #    initial_learning_rate = adam_default_learn_rate*10,\n",
        "    #    decay_steps=10000, decay_rate=0.99, staircase=True)\n",
        "    #alrd = tf.keras.optimizers.Adam(learning_rate=schedule)\n",
        "    #model.compile(loss=bc, optimizer=alrd, metrics=[\"accuracy\"])\n",
        "\n",
        "    print(\"COMPILE...\")\n",
        "    bc=tf.keras.losses.BinaryCrossentropy(from_logits=False)\n",
        "    model.compile(loss=bc, optimizer=\"adam\", metrics=[\"accuracy\"])\n",
        "    print(\"...COMPILED\")\n",
        "    return model\n",
        "\n",
        "def build_model():\n",
        "    SHAPE=(MAXLEN,5)  # 1000 time steps, 5 features\n",
        "    clayer1 = keras.layers.Conv1D(FILTERS,KERNEL,activation=ACT,padding=\"same\",\n",
        "                                 input_shape=SHAPE)\n",
        "    #clayer2 = keras.layers.Conv1D(FILTERS,KERNEL,activation=ACT,padding=\"same\")\n",
        "    #clayer3 = keras.layers.MaxPooling1D(2)\n",
        "    #clayer4 = keras.layers.Conv1D(FILTERS,KERNEL,activation=ACT,padding=\"same\")\n",
        "    #clayer5 = keras.layers.Conv1D(FILTERS,KERNEL,activation=ACT,padding=\"same\")\n",
        "    #clayer6 = keras.layers.MaxPooling1D(2)\n",
        "    clayer7 = keras.layers.Flatten()\n",
        "\n",
        "    dlayer1 = keras.layers.Dense(NEURONS, activation=ACT,dtype=dt, input_shape=[DENSE_LEN])\n",
        "    #dlayer2 = keras.layers.Dropout(DROP)\n",
        "    dlayer3 = keras.layers.Dense(NEURONS, activation=ACT,dtype=dt)\n",
        "    #dlayer4 = keras.layers.Dropout(DROP)\n",
        "    output_layer = keras.layers.Dense(1, activation=\"sigmoid\", dtype=dt)\n",
        "\n",
        "    cnn = keras.models.Sequential()\n",
        "    cnn.add(clayer1)\n",
        "    #cnn.add(clayer2)\n",
        "    #cnn.add(clayer3)\n",
        "    #cnn.add(clayer4)\n",
        "    #cnn.add(clayer5)\n",
        "    #cnn.add(clayer6)\n",
        "    cnn.add(clayer7)\n",
        "    cnn.add(dlayer1)\n",
        "    #cnn.add(dlayer2)\n",
        "    cnn.add(dlayer3)\n",
        "    #cnn.add(dlayer4)\n",
        "    cnn.add(output_layer)\n",
        "    mlpc = compile_model(cnn)\n",
        "    return mlpc"
      ],
      "execution_count": 12,
      "outputs": []
    },
    {
      "cell_type": "markdown",
      "metadata": {
        "id": "LdIS2utq9Kc9"
      },
      "source": [
        "Cross validation"
      ]
    },
    {
      "cell_type": "code",
      "metadata": {
        "id": "BVo4tbB_9Kc-"
      },
      "source": [
        "def do_cross_validation(X,y,given_model):\n",
        "    cv_scores = []\n",
        "    fold=0\n",
        "    splitter = ShuffleSplit(n_splits=SPLITS, test_size=0.1, random_state=37863)\n",
        "    for train_index,valid_index in splitter.split(X):\n",
        "        fold += 1\n",
        "        X_train=X[train_index] # use iloc[] for dataframe\n",
        "        y_train=y[train_index]\n",
        "        X_valid=X[valid_index]\n",
        "        y_valid=y[valid_index]        \n",
        "        # Avoid continually improving the same model.\n",
        "        model = compile_model(keras.models.clone_model(given_model))\n",
        "        bestname=MODEL_FILE+\".cv.\"+str(fold)+\".best\"\n",
        "        mycallbacks = [keras.callbacks.ModelCheckpoint(\n",
        "            filepath=bestname, save_best_only=True, \n",
        "            monitor='val_accuracy', mode='max')]   \n",
        "        print(\"FIT\")\n",
        "        start_time=time.time()\n",
        "        history=model.fit(X_train, y_train, # batch_size=10, default=32 works nicely\n",
        "                epochs=EPOCHS, verbose=1,  # verbose=1 for ascii art, verbose=0 for none\n",
        "                callbacks=mycallbacks,\n",
        "                validation_data=(X_valid,y_valid) )\n",
        "        end_time=time.time()\n",
        "        elapsed_time=(end_time-start_time)                        \n",
        "        print(\"Fold %d, %d epochs, %d sec\"%(fold,EPOCHS,elapsed_time))\n",
        "        pd.DataFrame(history.history).plot(figsize=(8,5))\n",
        "        plt.grid(True)\n",
        "        plt.gca().set_ylim(0,1)\n",
        "        plt.show()\n",
        "        best_model=keras.models.load_model(bestname)\n",
        "        scores = best_model.evaluate(X_valid, y_valid, verbose=0)\n",
        "        print(\"%s: %.2f%%\" % (best_model.metrics_names[1], scores[1]*100))\n",
        "        cv_scores.append(scores[1] * 100)  \n",
        "    print()\n",
        "    print(\"%d-way Cross Validation mean %.2f%% (+/- %.2f%%)\" % (fold, np.mean(cv_scores), np.std(cv_scores)))"
      ],
      "execution_count": 13,
      "outputs": []
    },
    {
      "cell_type": "markdown",
      "metadata": {
        "id": "qd3Wj_vI9KdP"
      },
      "source": [
        "## Train on RNA lengths 200-1Kb"
      ]
    },
    {
      "cell_type": "code",
      "metadata": {
        "id": "G1HuSs8ZbeL4",
        "colab": {
          "base_uri": "https://localhost:8080/"
        },
        "outputId": "180d3c4b-44d2-4646-d302-5598f05d0ded"
      },
      "source": [
        "print (\"Compile the model\")\n",
        "model=build_model()\n",
        "print (\"Summarize the model\")\n",
        "print(model.summary())  # Print this only once\n",
        "#model.save(MODEL_FILE+'.model')\n"
      ],
      "execution_count": 14,
      "outputs": [
        {
          "output_type": "stream",
          "text": [
            "Compile the model\n",
            "COMPILE...\n",
            "...COMPILED\n",
            "Summarize the model\n",
            "Model: \"sequential_1\"\n",
            "_________________________________________________________________\n",
            "Layer (type)                 Output Shape              Param #   \n",
            "=================================================================\n",
            "conv1d_1 (Conv1D)            (None, 2000, 16)          256       \n",
            "_________________________________________________________________\n",
            "flatten_1 (Flatten)          (None, 32000)             0         \n",
            "_________________________________________________________________\n",
            "dense_3 (Dense)              (None, 8)                 256008    \n",
            "_________________________________________________________________\n",
            "dense_4 (Dense)              (None, 8)                 72        \n",
            "_________________________________________________________________\n",
            "dense_5 (Dense)              (None, 1)                 9         \n",
            "=================================================================\n",
            "Total params: 256,345\n",
            "Trainable params: 256,345\n",
            "Non-trainable params: 0\n",
            "_________________________________________________________________\n",
            "None\n"
          ],
          "name": "stdout"
        }
      ]
    },
    {
      "cell_type": "code",
      "metadata": {
        "id": "f8fNo6sn9KdH",
        "colab": {
          "base_uri": "https://localhost:8080/"
        },
        "outputId": "1d14bf3a-a7e1-4528-f117-7190ebb93c29"
      },
      "source": [
        "#MINLEN=200\n",
        "#MAXLEN=2000\n",
        "print(\"Load data from files.\")\n",
        "nc_seq=tools.load_fasta(NC_FILENAME,0)\n",
        "pc_seq=tools.load_fasta(PC_FILENAME,1)\n",
        "train_set=pd.concat((nc_seq,pc_seq),axis=0)\n",
        "nc_seq=None\n",
        "pc_seq=None\n",
        "print(\"Ready: train_set\")\n",
        "#train_set\n",
        "subset=tools.make_slice(train_set,MINLEN,MAXLEN)# One array to two: X and y\n",
        "(X1,y_train)=tools.separate_X_and_y(subset)\n",
        "# X1 is pandas df of (\"list\" of one sequence)\n",
        "X2=X1.to_numpy()  # numpy ndarray of (\"list\" of one sequence)\n",
        "X3=[elem[0] for elem in X2]  # numpy dnarray of str\n",
        "X4=tools.uniform_length(X3,MAXLEN)\n",
        "X5= [tools.one_hot(x) for x in X4]\n",
        "X_train=np.asarray(X5)\n",
        "y_train=y_train.to_numpy()\n",
        "\n",
        "subset=None\n",
        "X1=None\n",
        "X2=None\n",
        "X3=None\n",
        "X4=None\n",
        "X5=None"
      ],
      "execution_count": 15,
      "outputs": [
        {
          "output_type": "stream",
          "text": [
            "Load data from files.\n",
            "Ready: train_set\n"
          ],
          "name": "stdout"
        }
      ]
    },
    {
      "cell_type": "code",
      "metadata": {
        "id": "mQ8eW5Rg9KdQ",
        "colab": {
          "base_uri": "https://localhost:8080/",
          "height": 1000
        },
        "outputId": "a546a390-549a-43f5-c377-4f14babe13bf"
      },
      "source": [
        "print (\"Cross validation\")\n",
        "do_cross_validation(X_train,y_train,model)  \n",
        "print (\"Done\")"
      ],
      "execution_count": 16,
      "outputs": [
        {
          "output_type": "stream",
          "text": [
            "Cross validation\n",
            "COMPILE...\n",
            "...COMPILED\n",
            "FIT\n",
            "Epoch 1/10\n",
            "1000/1000 [==============================] - 5s 4ms/step - loss: 0.6807 - accuracy: 0.5919 - val_loss: 0.5905 - val_accuracy: 0.7185\n",
            "INFO:tensorflow:Assets written to: /content/drive/My Drive/data/CNN516.cv.1.best/assets\n",
            "Epoch 2/10\n",
            "1000/1000 [==============================] - 4s 4ms/step - loss: 0.5696 - accuracy: 0.7253 - val_loss: 0.5725 - val_accuracy: 0.7053\n",
            "Epoch 3/10\n",
            "1000/1000 [==============================] - 4s 4ms/step - loss: 0.5572 - accuracy: 0.7248 - val_loss: 0.5576 - val_accuracy: 0.7129\n",
            "Epoch 4/10\n",
            "1000/1000 [==============================] - 4s 4ms/step - loss: 0.5218 - accuracy: 0.7472 - val_loss: 0.5654 - val_accuracy: 0.7214\n",
            "INFO:tensorflow:Assets written to: /content/drive/My Drive/data/CNN516.cv.1.best/assets\n",
            "Epoch 5/10\n",
            "1000/1000 [==============================] - 4s 4ms/step - loss: 0.5048 - accuracy: 0.7586 - val_loss: 0.5635 - val_accuracy: 0.7231\n",
            "INFO:tensorflow:Assets written to: /content/drive/My Drive/data/CNN516.cv.1.best/assets\n",
            "Epoch 6/10\n",
            "1000/1000 [==============================] - 4s 4ms/step - loss: 0.4932 - accuracy: 0.7706 - val_loss: 0.5643 - val_accuracy: 0.7231\n",
            "Epoch 7/10\n",
            "1000/1000 [==============================] - 4s 4ms/step - loss: 0.4664 - accuracy: 0.7861 - val_loss: 0.5809 - val_accuracy: 0.7222\n",
            "Epoch 8/10\n",
            "1000/1000 [==============================] - 4s 4ms/step - loss: 0.4436 - accuracy: 0.8004 - val_loss: 0.5900 - val_accuracy: 0.7160\n",
            "Epoch 9/10\n",
            "1000/1000 [==============================] - 4s 4ms/step - loss: 0.4271 - accuracy: 0.8092 - val_loss: 0.5991 - val_accuracy: 0.7152\n",
            "Epoch 10/10\n",
            "1000/1000 [==============================] - 4s 4ms/step - loss: 0.4207 - accuracy: 0.8140 - val_loss: 0.6138 - val_accuracy: 0.7143\n",
            "Fold 1, 10 epochs, 45 sec\n"
          ],
          "name": "stdout"
        },
        {
          "output_type": "display_data",
          "data": {
            "image/png": "[encoded data removed]",
            "text/plain": [
              "<Figure size 576x360 with 1 Axes>"
            ]
          },
          "metadata": {
            "tags": [],
            "needs_background": "light"
          }
        },
        {
          "output_type": "stream",
          "text": [
            "accuracy: 72.31%\n",
            "COMPILE...\n",
            "...COMPILED\n",
            "FIT\n",
            "Epoch 1/10\n",
            "1000/1000 [==============================] - 5s 4ms/step - loss: 0.8026 - accuracy: 0.4995 - val_loss: 0.6934 - val_accuracy: 0.5027\n",
            "INFO:tensorflow:Assets written to: /content/drive/My Drive/data/CNN516.cv.2.best/assets\n",
            "Epoch 2/10\n",
            "1000/1000 [==============================] - 4s 4ms/step - loss: 0.6938 - accuracy: 0.4962 - val_loss: 0.6932 - val_accuracy: 0.5027\n",
            "Epoch 3/10\n",
            "1000/1000 [==============================] - 4s 4ms/step - loss: 0.6937 - accuracy: 0.4971 - val_loss: 0.6934 - val_accuracy: 0.4973\n",
            "Epoch 4/10\n",
            "1000/1000 [==============================] - 4s 4ms/step - loss: 0.6935 - accuracy: 0.5026 - val_loss: 0.6935 - val_accuracy: 0.5027\n",
            "Epoch 5/10\n",
            "1000/1000 [==============================] - 4s 4ms/step - loss: 0.6938 - accuracy: 0.4944 - val_loss: 0.6931 - val_accuracy: 0.5027\n",
            "Epoch 6/10\n",
            "1000/1000 [==============================] - 4s 4ms/step - loss: 0.6936 - accuracy: 0.4939 - val_loss: 0.6938 - val_accuracy: 0.5027\n",
            "Epoch 7/10\n",
            "1000/1000 [==============================] - 4s 4ms/step - loss: 0.6922 - accuracy: 0.5118 - val_loss: 0.6779 - val_accuracy: 0.5854\n",
            "INFO:tensorflow:Assets written to: /content/drive/My Drive/data/CNN516.cv.2.best/assets\n",
            "Epoch 8/10\n",
            "1000/1000 [==============================] - 4s 4ms/step - loss: 0.6644 - accuracy: 0.6064 - val_loss: 0.6571 - val_accuracy: 0.5753\n",
            "Epoch 9/10\n",
            "1000/1000 [==============================] - 4s 4ms/step - loss: 0.6212 - accuracy: 0.6381 - val_loss: 0.5760 - val_accuracy: 0.7048\n",
            "INFO:tensorflow:Assets written to: /content/drive/My Drive/data/CNN516.cv.2.best/assets\n",
            "Epoch 10/10\n",
            "1000/1000 [==============================] - 4s 4ms/step - loss: 0.5682 - accuracy: 0.7116 - val_loss: 0.5725 - val_accuracy: 0.7073\n",
            "INFO:tensorflow:Assets written to: /content/drive/My Drive/data/CNN516.cv.2.best/assets\n",
            "Fold 2, 10 epochs, 46 sec\n"
          ],
          "name": "stdout"
        },
        {
          "output_type": "display_data",
          "data": {
            "image/png": "[encoded data removed]",
            "text/plain": [
              "<Figure size 576x360 with 1 Axes>"
            ]
          },
          "metadata": {
            "tags": [],
            "needs_background": "light"
          }
        },
        {
          "output_type": "stream",
          "text": [
            "accuracy: 70.73%\n",
            "COMPILE...\n",
            "...COMPILED\n",
            "FIT\n",
            "Epoch 1/10\n",
            "1000/1000 [==============================] - 5s 4ms/step - loss: 0.6372 - accuracy: 0.6377 - val_loss: 0.5592 - val_accuracy: 0.7132\n",
            "INFO:tensorflow:Assets written to: /content/drive/My Drive/data/CNN516.cv.3.best/assets\n",
            "Epoch 2/10\n",
            "1000/1000 [==============================] - 4s 4ms/step - loss: 0.5415 - accuracy: 0.7353 - val_loss: 0.5481 - val_accuracy: 0.7253\n",
            "INFO:tensorflow:Assets written to: /content/drive/My Drive/data/CNN516.cv.3.best/assets\n",
            "Epoch 3/10\n",
            "1000/1000 [==============================] - 4s 4ms/step - loss: 0.5069 - accuracy: 0.7593 - val_loss: 0.5539 - val_accuracy: 0.7245\n",
            "Epoch 4/10\n",
            "1000/1000 [==============================] - 4s 4ms/step - loss: 0.4822 - accuracy: 0.7789 - val_loss: 0.5682 - val_accuracy: 0.7231\n",
            "Epoch 5/10\n",
            "1000/1000 [==============================] - 4s 4ms/step - loss: 0.4564 - accuracy: 0.7911 - val_loss: 0.5673 - val_accuracy: 0.7205\n",
            "Epoch 6/10\n",
            "1000/1000 [==============================] - 4s 4ms/step - loss: 0.4394 - accuracy: 0.8054 - val_loss: 0.5796 - val_accuracy: 0.7152\n",
            "Epoch 7/10\n",
            "1000/1000 [==============================] - 4s 4ms/step - loss: 0.4225 - accuracy: 0.8151 - val_loss: 0.6115 - val_accuracy: 0.6991\n",
            "Epoch 8/10\n",
            "1000/1000 [==============================] - 4s 4ms/step - loss: 0.3998 - accuracy: 0.8278 - val_loss: 0.6011 - val_accuracy: 0.7194\n",
            "Epoch 9/10\n",
            "1000/1000 [==============================] - 4s 4ms/step - loss: 0.3893 - accuracy: 0.8327 - val_loss: 0.6258 - val_accuracy: 0.7093\n",
            "Epoch 10/10\n",
            "1000/1000 [==============================] - 4s 4ms/step - loss: 0.3653 - accuracy: 0.8466 - val_loss: 0.6306 - val_accuracy: 0.7073\n",
            "Fold 3, 10 epochs, 45 sec\n"
          ],
          "name": "stdout"
        },
        {
          "output_type": "display_data",
          "data": {
            "image/png": "[encoded data removed]",
            "text/plain": [
              "<Figure size 576x360 with 1 Axes>"
            ]
          },
          "metadata": {
            "tags": [],
            "needs_background": "light"
          }
        },
        {
          "output_type": "stream",
          "text": [
            "accuracy: 72.53%\n",
            "COMPILE...\n",
            "...COMPILED\n",
            "FIT\n",
            "Epoch 1/10\n",
            "1000/1000 [==============================] - 5s 4ms/step - loss: 0.7923 - accuracy: 0.5524 - val_loss: 0.6548 - val_accuracy: 0.6192\n",
            "INFO:tensorflow:Assets written to: /content/drive/My Drive/data/CNN516.cv.4.best/assets\n",
            "Epoch 2/10\n",
            "1000/1000 [==============================] - 4s 4ms/step - loss: 0.6432 - accuracy: 0.6264 - val_loss: 0.5668 - val_accuracy: 0.7200\n",
            "INFO:tensorflow:Assets written to: /content/drive/My Drive/data/CNN516.cv.4.best/assets\n",
            "Epoch 3/10\n",
            "1000/1000 [==============================] - 5s 5ms/step - loss: 0.5542 - accuracy: 0.7219 - val_loss: 0.5622 - val_accuracy: 0.7202\n",
            "INFO:tensorflow:Assets written to: /content/drive/My Drive/data/CNN516.cv.4.best/assets\n",
            "Epoch 4/10\n",
            "1000/1000 [==============================] - 4s 4ms/step - loss: 0.5369 - accuracy: 0.7328 - val_loss: 0.5580 - val_accuracy: 0.7245\n",
            "INFO:tensorflow:Assets written to: /content/drive/My Drive/data/CNN516.cv.4.best/assets\n",
            "Epoch 5/10\n",
            "1000/1000 [==============================] - 4s 4ms/step - loss: 0.5238 - accuracy: 0.7499 - val_loss: 0.5660 - val_accuracy: 0.7146\n",
            "Epoch 6/10\n",
            "1000/1000 [==============================] - 4s 4ms/step - loss: 0.5031 - accuracy: 0.7640 - val_loss: 0.5632 - val_accuracy: 0.7185\n",
            "Epoch 7/10\n",
            "1000/1000 [==============================] - 4s 4ms/step - loss: 0.4919 - accuracy: 0.7706 - val_loss: 0.5674 - val_accuracy: 0.7259\n",
            "INFO:tensorflow:Assets written to: /content/drive/My Drive/data/CNN516.cv.4.best/assets\n",
            "Epoch 8/10\n",
            "1000/1000 [==============================] - 4s 4ms/step - loss: 0.4799 - accuracy: 0.7775 - val_loss: 0.5741 - val_accuracy: 0.7169\n",
            "Epoch 9/10\n",
            "1000/1000 [==============================] - 4s 4ms/step - loss: 0.4631 - accuracy: 0.7904 - val_loss: 0.5770 - val_accuracy: 0.7124\n",
            "Epoch 10/10\n",
            "1000/1000 [==============================] - 4s 4ms/step - loss: 0.4469 - accuracy: 0.7977 - val_loss: 0.5880 - val_accuracy: 0.7152\n",
            "Fold 4, 10 epochs, 47 sec\n"
          ],
          "name": "stdout"
        },
        {
          "output_type": "display_data",
          "data": {
            "image/png": "[encoded data removed]",
            "text/plain": [
              "<Figure size 576x360 with 1 Axes>"
            ]
          },
          "metadata": {
            "tags": [],
            "needs_background": "light"
          }
        },
        {
          "output_type": "stream",
          "text": [
            "accuracy: 72.59%\n",
            "COMPILE...\n",
            "...COMPILED\n",
            "FIT\n",
            "Epoch 1/10\n",
            "1000/1000 [==============================] - 5s 4ms/step - loss: 0.6736 - accuracy: 0.6078 - val_loss: 0.5588 - val_accuracy: 0.7157\n",
            "INFO:tensorflow:Assets written to: /content/drive/My Drive/data/CNN516.cv.5.best/assets\n",
            "Epoch 2/10\n",
            "1000/1000 [==============================] - 4s 4ms/step - loss: 0.5427 - accuracy: 0.7311 - val_loss: 0.5622 - val_accuracy: 0.7166\n",
            "INFO:tensorflow:Assets written to: /content/drive/My Drive/data/CNN516.cv.5.best/assets\n",
            "Epoch 3/10\n",
            "1000/1000 [==============================] - 4s 4ms/step - loss: 0.5161 - accuracy: 0.7487 - val_loss: 0.5700 - val_accuracy: 0.7185\n",
            "INFO:tensorflow:Assets written to: /content/drive/My Drive/data/CNN516.cv.5.best/assets\n",
            "Epoch 4/10\n",
            "1000/1000 [==============================] - 4s 4ms/step - loss: 0.4876 - accuracy: 0.7692 - val_loss: 0.5692 - val_accuracy: 0.7233\n",
            "INFO:tensorflow:Assets written to: /content/drive/My Drive/data/CNN516.cv.5.best/assets\n",
            "Epoch 5/10\n",
            "1000/1000 [==============================] - 4s 4ms/step - loss: 0.4653 - accuracy: 0.7846 - val_loss: 0.5731 - val_accuracy: 0.7208\n",
            "Epoch 6/10\n",
            "1000/1000 [==============================] - 4s 4ms/step - loss: 0.4462 - accuracy: 0.7928 - val_loss: 0.5863 - val_accuracy: 0.7183\n",
            "Epoch 7/10\n",
            "1000/1000 [==============================] - 4s 4ms/step - loss: 0.4196 - accuracy: 0.8115 - val_loss: 0.5951 - val_accuracy: 0.7140\n",
            "Epoch 8/10\n",
            "1000/1000 [==============================] - 4s 4ms/step - loss: 0.4111 - accuracy: 0.8198 - val_loss: 0.6062 - val_accuracy: 0.7090\n",
            "Epoch 9/10\n",
            "1000/1000 [==============================] - 4s 4ms/step - loss: 0.4023 - accuracy: 0.8253 - val_loss: 0.6270 - val_accuracy: 0.7135\n",
            "Epoch 10/10\n",
            "1000/1000 [==============================] - 4s 4ms/step - loss: 0.3864 - accuracy: 0.8285 - val_loss: 0.6261 - val_accuracy: 0.7118\n",
            "Fold 5, 10 epochs, 48 sec\n"
          ],
          "name": "stdout"
        },
        {
          "output_type": "display_data",
          "data": {
            "image/png": "[encoded data removed]",
            "text/plain": [
              "<Figure size 576x360 with 1 Axes>"
            ]
          },
          "metadata": {
            "tags": [],
            "needs_background": "light"
          }
        },
        {
          "output_type": "stream",
          "text": [
            "accuracy: 72.33%\n",
            "\n",
            "5-way Cross Validation mean 72.10% (+/- 0.69%)\n",
            "Done\n"
          ],
          "name": "stdout"
        }
      ]
    },
    {
      "cell_type": "code",
      "metadata": {
        "id": "p4fh2GI8beMQ"
      },
      "source": [
        ""
      ],
      "execution_count": 16,
      "outputs": []
    }
  ]
}