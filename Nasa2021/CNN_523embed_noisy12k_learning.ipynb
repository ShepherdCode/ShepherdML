{
  "nbformat": 4,
  "nbformat_minor": 0,
  "metadata": {
    "accelerator": "GPU",
    "colab": {
      "name": "CNN_523embed_noisy12k_learning.ipynb",
      "provenance": [],
      "collapsed_sections": [],
      "machine_shape": "hm",
      "include_colab_link": true
    },
    "kernelspec": {
      "display_name": "Python 3",
      "language": "python",
      "name": "python3"
    },
    "language_info": {
      "codemirror_mode": {
        "name": "ipython",
        "version": 3
      },
      "file_extension": ".py",
      "mimetype": "text/x-python",
      "name": "python",
      "nbconvert_exporter": "python",
      "pygments_lexer": "ipython3",
      "version": "3.8.3"
    }
  },
  "cells": [
    {
      "cell_type": "markdown",
      "metadata": {
        "id": "view-in-github",
        "colab_type": "text"
      },
      "source": [
        "<a href=\"https://colab.research.google.com/github/ShepherdCode/ShepherdML/blob/master/Nasa2021/CNN_523embed_noisy12k_learning.ipynb\" target=\"_parent\"><img src=\"https://colab.research.google.com/assets/colab-badge.svg\" alt=\"Open In Colab\"/></a>"
      ]
    },
    {
      "cell_type": "markdown",
      "metadata": {
        "id": "xBDT3RYOakJO"
      },
      "source": [
        ""
      ]
    },
    {
      "cell_type": "markdown",
      "metadata": {
        "id": "ojm_6E9f9Kcf"
      },
      "source": [
        "# CNN 523 Noisy 6k\n",
        "\n",
        "1. Four layers of CNNS and MaxPooling\n",
        "2. Drop out at 0.2\n",
        "3. Variable filters and dense neurons\n",
        "4. Adjusted Learning rate to 0.0005\n",
        "\n",
        "\n",
        "\n",
        "\n",
        "\n",
        "\n",
        "\n",
        "\n",
        "\n",
        "\n",
        "\n",
        "\n"
      ]
    },
    {
      "cell_type": "code",
      "metadata": {
        "colab": {
          "base_uri": "https://localhost:8080/"
        },
        "id": "hh6XplUvC0j0",
        "outputId": "27c08505-f578-42a0-e8ab-2c2f59eef5a7"
      },
      "source": [
        "#NC_FILENAME='ncRNA.tiny50.fasta'\n",
        "#PC_FILENAME='pcRNA.tiny50.fasta'\n",
        "#NC_FILENAME='ncRNA.gc34.processed.fasta'\n",
        "#PC_FILENAME='pcRNA.gc34.processed.fasta'\n",
        "NC_FILENAME='noisy_noncod_12000_10.fasta'  # CHANGE THIS TO 1000, 2000, 4000, etc.\n",
        "PC_FILENAME='noisy_coding_12000_10.fasta'\n",
        "NC_VAL_FILE='noncod_validation.fasta'  # 'noncod_validation.fasta'  # CHANGE THIS TO THE UNIFORM VALIDATION FILE\n",
        "PC_VAL_FILE='coding_validation.fasta'  # 'coding_validation.fasta'\n",
        "\n",
        "MODEL_FILE='Test_Non_noisy_12K'   # CHANGE THIS IF YOU WANT TO SAVE THE MODEL!\n",
        "DATAPATH=''\n",
        "\n",
        "try:\n",
        "    from google.colab import drive\n",
        "    IN_COLAB = True\n",
        "    PATH='/content/drive/'\n",
        "    drive.mount(PATH)\n",
        "    DATAPATH=PATH+'My Drive/data/'  # must end in \"/\"\n",
        "except:\n",
        "    IN_COLAB = False\n",
        "    DATAPATH='data/'  # must end in \"/\"\n",
        "NC_FILENAME = DATAPATH+NC_FILENAME\n",
        "PC_FILENAME = DATAPATH+PC_FILENAME\n",
        "NC_VAL_FILE = DATAPATH+NC_VAL_FILE\n",
        "PC_VAL_FILE = DATAPATH+PC_VAL_FILE\n",
        "MODEL_FILE=DATAPATH+MODEL_FILE\n",
        "\n",
        "EPOCHS=10  # DECIDE ON SOME AMOUNT AND STICK WITH IT\n",
        "SPLITS=5\n",
        "K=1\n",
        "VOCABULARY_SIZE=4**K+1   # e.g. K=3 => 64 DNA K-mers + 'NNN'\n",
        "EMBED_DIMEN=2\n",
        "FILTERS=32\n",
        "KERNEL=3\n",
        "NEURONS=24\n",
        "DROP=0.2\n",
        "MINLEN=200\n",
        "MAXLEN=1000    # THIS HAS TO MATCH THE SIMULATION DATA\n",
        "DENSE_LEN = 1000\n",
        "ACT=\"tanh\"\n",
        "LN_RATE = 0.0005"
      ],
      "execution_count": 1,
      "outputs": [
        {
          "output_type": "stream",
          "text": [
            "Drive already mounted at /content/drive/; to attempt to forcibly remount, call drive.mount(\"/content/drive/\", force_remount=True).\n"
          ],
          "name": "stdout"
        }
      ]
    },
    {
      "cell_type": "code",
      "metadata": {
        "colab": {
          "base_uri": "https://localhost:8080/"
        },
        "id": "e9TY3HK9ZklE",
        "outputId": "f6b7a11e-8176-46ec-b76f-33c1aa1e47c8"
      },
      "source": [
        "# Load our own tools\n",
        "# TO DO: don't go to GitHub if the file is already local.\n",
        "GITHUB = True\n",
        "if GITHUB:\n",
        "    #!pip install requests  # Uncomment this if necessary. Seems to be pre-installed.\n",
        "    import requests\n",
        "    r = requests.get('https://raw.githubusercontent.com/ShepherdCode/ShepherdML/master/Strings/tools_fasta.py')\n",
        "    with open('tools_fasta.py', 'w') as f:\n",
        "        f.write(r.text)\n",
        "    # TO DO: delete the file after import\n",
        "import tools_fasta as tools\n",
        "tools.yahoo()  # If this prints \"Yahoo!\" the the import was successful.\n",
        "\n",
        "TOOLS_CHANGED = False   # set to True to re-run with a new version of tools\n",
        "if TOOLS_CHANGED:\n",
        "  from importlib import reload \n",
        "  tools=reload(tools)\n",
        "  print(dir(tools))   # run this to see EVERYTHING in the tools module"
      ],
      "execution_count": 2,
      "outputs": [
        {
          "output_type": "stream",
          "text": [
            "Yahoo!\n"
          ],
          "name": "stdout"
        }
      ]
    },
    {
      "cell_type": "code",
      "metadata": {
        "id": "VQY7aTj29Kch"
      },
      "source": [
        "import numpy as np\n",
        "import pandas as pd\n",
        "import matplotlib.pyplot as plt\n",
        "from sklearn.model_selection import ShuffleSplit\n",
        "from sklearn.model_selection import cross_val_score\n",
        "from sklearn.model_selection import RepeatedKFold\n",
        "from sklearn.model_selection import StratifiedKFold\n",
        "import tensorflow as tf\n",
        "from tensorflow import keras\n",
        "import time\n",
        "dt='float32'\n",
        "tf.keras.backend.set_floatx(dt)"
      ],
      "execution_count": 3,
      "outputs": []
    },
    {
      "cell_type": "markdown",
      "metadata": {
        "id": "j7jcg6Wl9Kc2"
      },
      "source": [
        "Build model"
      ]
    },
    {
      "cell_type": "code",
      "metadata": {
        "id": "qLFNO1Xa9Kc3"
      },
      "source": [
        "def compile_model(model):\n",
        "    print(\"COMPILE...\")\n",
        "    ## learn rate = initial_learning_rate * decay_rate ^ (step / decay_steps)\n",
        "    #adam_default_learn_rate = 0.001\n",
        "    #schedule = tf.keras.optimizers.schedules.ExponentialDecay(\n",
        "    #    initial_learning_rate = adam_default_learn_rate*10,\n",
        "    #    decay_steps=10000, decay_rate=0.99, staircase=True)\n",
        "    #alrd = tf.keras.optimizers.Adam(learning_rate=schedule)\n",
        "    \n",
        "    ln_rate = tf.keras.optimizers.Adam(learning_rate = LN_RATE)\n",
        "    bc=tf.keras.losses.BinaryCrossentropy(from_logits=False)\n",
        "    model.compile(loss=bc, optimizer=ln_rate, metrics=[\"accuracy\"])\n",
        "    print(\"...COMPILED\")\n",
        "    return model\n",
        "\n",
        "def build_model():\n",
        "    #SHAPE=(MAXLEN,5)  \n",
        "    SHAPE=(MAXLEN,4)  \n",
        "    # 4 input letters, 4 output dimensions, 1000 letters/RNA\n",
        "    elayer  = keras.layers.Embedding(4,4,input_length=1000) \n",
        "\n",
        "    clayer1 = keras.layers.Conv1D(FILTERS,KERNEL,activation=ACT,padding=\"same\",\n",
        "                                 input_shape=SHAPE)\n",
        "    clayer2 = keras.layers.Conv1D(FILTERS,KERNEL,activation=ACT,padding=\"same\")\n",
        "    clayer3 = keras.layers.MaxPooling1D(2)\n",
        "    clayer4 = keras.layers.Conv1D(FILTERS,KERNEL,activation=ACT,padding=\"same\")\n",
        "    clayer5 = keras.layers.Conv1D(FILTERS,KERNEL,activation=ACT,padding=\"same\")\n",
        "    clayer6 = keras.layers.MaxPooling1D(2)\n",
        "    clayer7 = keras.layers.Conv1D(FILTERS,KERNEL,activation=ACT,padding=\"same\")\n",
        "    clayer8 = keras.layers.Conv1D(FILTERS,KERNEL,activation=ACT,padding=\"same\")\n",
        "    clayer9 = keras.layers.MaxPooling1D(2)\n",
        "    clayer10 = keras.layers.Conv1D(FILTERS,KERNEL,activation=ACT,padding=\"same\")\n",
        "    clayer11 = keras.layers.Conv1D(FILTERS,KERNEL,activation=ACT,padding=\"same\")\n",
        "    clayer12 = keras.layers.MaxPooling1D(2)\n",
        "\n",
        "    clayer13 = keras.layers.Flatten()\n",
        "\n",
        "    dlayer1 = keras.layers.Dense(NEURONS, activation=ACT,dtype=dt, input_shape=[DENSE_LEN])\n",
        "    dlayer2 = keras.layers.Dropout(DROP)\n",
        "    dlayer3 = keras.layers.Dense(NEURONS, activation=ACT,dtype=dt)\n",
        "    dlayer4 = keras.layers.Dropout(DROP)\n",
        "    output_layer = keras.layers.Dense(1, activation=\"sigmoid\", dtype=dt)\n",
        "\n",
        "    cnn = keras.models.Sequential()\n",
        "    cnn.add(elayer)\n",
        "    cnn.add(clayer1)\n",
        "    cnn.add(clayer2)\n",
        "    cnn.add(clayer3)\n",
        "    cnn.add(clayer4)\n",
        "    cnn.add(clayer5)\n",
        "    cnn.add(clayer6)\n",
        "    cnn.add(clayer7)\n",
        "    cnn.add(clayer8)\n",
        "    cnn.add(clayer9)\n",
        "    cnn.add(clayer10)\n",
        "    cnn.add(clayer11)\n",
        "    cnn.add(clayer12)\n",
        "    cnn.add(clayer13)\n",
        "    cnn.add(dlayer1)\n",
        "    cnn.add(dlayer2)\n",
        "    cnn.add(dlayer3)\n",
        "    cnn.add(dlayer4)\n",
        "    cnn.add(output_layer)\n",
        "    mlpc = compile_model(cnn)\n",
        "    return mlpc"
      ],
      "execution_count": 4,
      "outputs": []
    },
    {
      "cell_type": "markdown",
      "metadata": {
        "id": "LdIS2utq9Kc9"
      },
      "source": [
        "Cross validation"
      ]
    },
    {
      "cell_type": "code",
      "metadata": {
        "id": "BVo4tbB_9Kc-"
      },
      "source": [
        "def do_cross_validation(X,y,given_model,X_VALID,Y_VALID):\n",
        "    cv_scores = []\n",
        "    fold=0\n",
        "    splitter = ShuffleSplit(n_splits=SPLITS, test_size=0.1, random_state=37863)\n",
        "    for train_index,valid_index in splitter.split(X):\n",
        "        fold += 1\n",
        "        X_train=X[train_index] # use iloc[] for dataframe\n",
        "        y_train=y[train_index]\n",
        "        X_valid=X[valid_index]\n",
        "        y_valid=y[valid_index]        \n",
        "        # Avoid continually improving the same model.\n",
        "        model = compile_model(keras.models.clone_model(given_model))\n",
        "        bestname=MODEL_FILE+\".cv.\"+str(fold)+\".best\"\n",
        "        mycallbacks = [keras.callbacks.ModelCheckpoint(\n",
        "            filepath=bestname, save_best_only=True, \n",
        "            monitor='val_accuracy', mode='max')]   \n",
        "        print(\"FIT\")\n",
        "        start_time=time.time()\n",
        "        history=model.fit(X_train, y_train, \n",
        "                epochs=EPOCHS, verbose=1, callbacks=mycallbacks,\n",
        "                validation_data=(X_valid,y_valid))\n",
        "        # THE VALIDATION ABOVE IS JUST FOR SHOW\n",
        "        end_time=time.time()\n",
        "        elapsed_time=(end_time-start_time)                        \n",
        "        print(\"Fold %d, %d epochs, %d sec\"%(fold,EPOCHS,elapsed_time))\n",
        "        pd.DataFrame(history.history).plot(figsize=(8,5))\n",
        "        plt.grid(True)\n",
        "        plt.gca().set_ylim(0,1)\n",
        "        plt.show()\n",
        "        best_model=keras.models.load_model(bestname)\n",
        "        # THE VALIDATION BELOW IS FOR KEEPS\n",
        "        scores = best_model.evaluate(X_VALID, Y_VALID, verbose=0)\n",
        "        print(\"%s: %.2f%%\" % (best_model.metrics_names[1], scores[1]*100))\n",
        "        cv_scores.append(scores[1] * 100)  \n",
        "    print()\n",
        "    print(\"%d-way Cross Validation mean %.2f%% (+/- %.2f%%)\" % (fold, np.mean(cv_scores), np.std(cv_scores)))"
      ],
      "execution_count": 5,
      "outputs": []
    },
    {
      "cell_type": "markdown",
      "metadata": {
        "id": "qd3Wj_vI9KdP"
      },
      "source": [
        "## Train on RNA lengths 200-1Kb"
      ]
    },
    {
      "cell_type": "code",
      "metadata": {
        "colab": {
          "base_uri": "https://localhost:8080/"
        },
        "id": "G1HuSs8ZbeL4",
        "outputId": "193e590d-bb24-4aaa-e617-5aeb44422a3b"
      },
      "source": [
        "print (\"Compile the model\")\n",
        "model=build_model()\n",
        "print (\"Summarize the model\")\n",
        "print(model.summary())  # Print this only once\n",
        "#model.save(MODEL_FILE+'.model')\n"
      ],
      "execution_count": 6,
      "outputs": [
        {
          "output_type": "stream",
          "text": [
            "Compile the model\n",
            "COMPILE...\n",
            "...COMPILED\n",
            "Summarize the model\n",
            "Model: \"sequential\"\n",
            "_________________________________________________________________\n",
            "Layer (type)                 Output Shape              Param #   \n",
            "=================================================================\n",
            "embedding (Embedding)        (None, 1000, 4)           16        \n",
            "_________________________________________________________________\n",
            "conv1d (Conv1D)              (None, 1000, 32)          416       \n",
            "_________________________________________________________________\n",
            "conv1d_1 (Conv1D)            (None, 1000, 32)          3104      \n",
            "_________________________________________________________________\n",
            "max_pooling1d (MaxPooling1D) (None, 500, 32)           0         \n",
            "_________________________________________________________________\n",
            "conv1d_2 (Conv1D)            (None, 500, 32)           3104      \n",
            "_________________________________________________________________\n",
            "conv1d_3 (Conv1D)            (None, 500, 32)           3104      \n",
            "_________________________________________________________________\n",
            "max_pooling1d_1 (MaxPooling1 (None, 250, 32)           0         \n",
            "_________________________________________________________________\n",
            "conv1d_4 (Conv1D)            (None, 250, 32)           3104      \n",
            "_________________________________________________________________\n",
            "conv1d_5 (Conv1D)            (None, 250, 32)           3104      \n",
            "_________________________________________________________________\n",
            "max_pooling1d_2 (MaxPooling1 (None, 125, 32)           0         \n",
            "_________________________________________________________________\n",
            "conv1d_6 (Conv1D)            (None, 125, 32)           3104      \n",
            "_________________________________________________________________\n",
            "conv1d_7 (Conv1D)            (None, 125, 32)           3104      \n",
            "_________________________________________________________________\n",
            "max_pooling1d_3 (MaxPooling1 (None, 62, 32)            0         \n",
            "_________________________________________________________________\n",
            "flatten (Flatten)            (None, 1984)              0         \n",
            "_________________________________________________________________\n",
            "dense (Dense)                (None, 24)                47640     \n",
            "_________________________________________________________________\n",
            "dropout (Dropout)            (None, 24)                0         \n",
            "_________________________________________________________________\n",
            "dense_1 (Dense)              (None, 24)                600       \n",
            "_________________________________________________________________\n",
            "dropout_1 (Dropout)          (None, 24)                0         \n",
            "_________________________________________________________________\n",
            "dense_2 (Dense)              (None, 1)                 25        \n",
            "=================================================================\n",
            "Total params: 70,425\n",
            "Trainable params: 70,425\n",
            "Non-trainable params: 0\n",
            "_________________________________________________________________\n",
            "None\n"
          ],
          "name": "stdout"
        }
      ]
    },
    {
      "cell_type": "code",
      "metadata": {
        "id": "f8fNo6sn9KdH"
      },
      "source": [
        "def load_data_from_files(nc_filename,pc_filename):\n",
        "  FREEMEM=True   # use False for debugging, True for production\n",
        "  print(\"Load data from files.\")\n",
        "  nc_seq=tools.load_fasta(nc_filename,0)\n",
        "  pc_seq=tools.load_fasta(pc_filename,1)\n",
        "  train_set=pd.concat((nc_seq,pc_seq),axis=0)\n",
        "  print(\"Ready: train_set\")\n",
        "  subset=tools.make_slice(train_set,MINLEN,MAXLEN)# One array to two: X and y\n",
        "  if FREEMEM:\n",
        "      nc_seq=None\n",
        "      pc_seq=None\n",
        "      train_set=None\n",
        "  (X1,y_train)=tools.separate_X_and_y(subset)\n",
        "  # X1 is pandas df of (\"list\" of one sequence)\n",
        "  X2=X1.to_numpy()  # numpy ndarray of (\"list\" of one sequence)\n",
        "  X3=[elem[0] for elem in X2]  # numpy ndarray of ACGT-str\n",
        "  # X3? It might be faster to use int-array than char-array. Come back to this.\n",
        "  X4=X3  # no-op\n",
        "  print(\"X4\",type(X4))\n",
        "  #print(X4[0])\n",
        "  if FREEMEM:\n",
        "      X1=None\n",
        "      X2=None\n",
        "      X3=None\n",
        "  X5=[]\n",
        "  dna_to_int = {'A':0,'C':1,'G':2,'T':3}\n",
        "  for x in X4:\n",
        "      a=[]\n",
        "      for c in x:\n",
        "          i = dna_to_int[c]\n",
        "          a.append(i)\n",
        "      X5.append(a)\n",
        "  X5=np.asarray(X5)\n",
        "  print(\"X5\",type(X5))\n",
        "  print(X5.shape)\n",
        "  if FREEMEM:\n",
        "      X4=None\n",
        "  X_train=X5\n",
        "  if FREEMEM:\n",
        "      X5=None\n",
        "  print(\"X_train\",type(X_train))\n",
        "  y_train=y_train.to_numpy()\n",
        "  print(X_train.shape)\n",
        "  print(X_train[0].shape)\n",
        "  print(X_train[0])\n",
        "  return X_train,y_train\n"
      ],
      "execution_count": 7,
      "outputs": []
    },
    {
      "cell_type": "code",
      "metadata": {
        "colab": {
          "base_uri": "https://localhost:8080/"
        },
        "id": "UmEls9oXRQON",
        "outputId": "bf729ea1-a548-4934-fbd4-77639ad104bb"
      },
      "source": [
        "print(\"Loading training data...\")\n",
        "X_train,y_train = load_data_from_files(NC_FILENAME,PC_FILENAME)"
      ],
      "execution_count": 8,
      "outputs": [
        {
          "output_type": "stream",
          "text": [
            "Loading training data...\n",
            "Load data from files.\n",
            "Ready: train_set\n",
            "X4 <class 'list'>\n",
            "X5 <class 'numpy.ndarray'>\n",
            "(24000, 1000)\n",
            "X_train <class 'numpy.ndarray'>\n",
            "(24000, 1000)\n",
            "(1000,)\n",
            "[0 0 1 0 2 3 0 3 1 1 1 3 2 2 0 0 2 0 0 0 3 3 0 2 0 2 2 0 0 1 2 2 3 0 1 3 2\n",
            " 0 1 2 0 1 3 0 0 1 1 3 3 0 2 3 2 1 1 0 1 3 3 1 3 0 0 3 0 0 0 0 0 2 2 3 0 1\n",
            " 1 3 0 3 0 2 1 3 0 0 1 3 2 3 1 2 3 2 3 3 3 1 1 0 2 0 1 1 2 1 3 2 3 3 0 0 3\n",
            " 0 3 0 3 2 3 2 1 3 0 1 3 3 1 2 1 0 0 1 2 0 2 2 1 0 3 2 2 3 1 0 3 2 1 0 1 2\n",
            " 2 0 3 3 1 0 0 3 1 3 0 1 3 2 3 0 3 1 1 3 0 3 1 3 1 2 1 0 3 2 1 0 3 0 1 3 1\n",
            " 1 0 3 2 1 0 3 2 2 3 2 2 0 0 3 2 2 1 3 2 1 3 3 2 2 3 0 1 3 1 3 3 3 1 2 0 1\n",
            " 1 1 1 3 2 2 1 0 3 1 0 0 2 2 3 0 2 3 2 3 0 3 1 0 1 0 0 0 3 2 3 3 0 0 1 3 1\n",
            " 2 2 3 3 1 0 2 1 2 0 3 1 0 2 2 3 3 0 1 0 2 2 0 1 3 1 3 2 2 1 1 2 2 2 0 0 1\n",
            " 0 0 1 1 3 2 3 2 0 0 3 3 2 2 0 0 0 0 0 3 1 3 0 3 3 2 0 0 1 2 2 2 0 1 0 2 3\n",
            " 3 0 3 1 0 1 1 3 3 3 3 3 3 3 1 2 1 3 1 3 0 1 1 1 3 0 1 2 0 0 2 3 0 1 1 2 1\n",
            " 1 1 0 1 3 2 2 2 0 1 1 0 2 3 3 3 2 3 2 1 1 2 0 2 1 1 1 3 0 0 0 3 1 0 0 1 0\n",
            " 2 2 0 2 0 3 0 0 3 2 3 2 1 2 0 2 3 2 1 3 3 3 0 2 2 0 0 1 3 0 3 2 1 3 1 2 0\n",
            " 1 3 1 0 1 1 1 3 3 0 3 0 0 2 1 1 2 3 0 3 1 2 0 2 3 2 1 1 1 3 1 0 1 2 2 3 0\n",
            " 3 2 3 0 1 3 2 3 2 0 3 2 2 3 0 3 3 3 0 1 1 3 2 0 0 2 3 1 0 2 0 3 2 1 3 0 3\n",
            " 1 2 0 2 2 2 0 2 3 0 3 1 2 0 3 3 3 2 1 1 0 2 1 1 0 0 3 1 0 1 3 0 3 0 2 2 2\n",
            " 0 0 3 2 0 0 2 2 2 1 2 1 2 3 1 1 1 3 2 1 2 0 3 0 1 2 1 3 1 1 3 1 1 0 1 0 3\n",
            " 2 1 0 1 2 0 1 2 2 0 1 3 3 0 3 3 3 3 3 3 2 3 0 1 0 2 2 1 1 1 0 2 3 1 0 0 2\n",
            " 1 1 1 3 3 1 0 3 0 3 3 1 3 1 1 2 0 1 3 0 0 1 1 1 3 0 2 3 2 0 3 3 0 3 2 3 0\n",
            " 0 3 3 0 2 0 2 1 1 0 1 3 2 1 0 2 2 1 2 0 3 0 1 1 3 2 3 0 0 2 1 2 0 2 1 1 3\n",
            " 3 3 1 1 1 1 0 0 0 0 1 1 3 0 3 1 3 0 0 0 3 1 0 1 3 2 0 0 2 3 1 3 0 1 1 2 3\n",
            " 3 0 3 2 2 2 2 2 3 0 0 0 1 0 1 1 3 0 3 3 3 3 3 3 1 3 0 0 3 0 1 3 1 1 3 1 1\n",
            " 1 0 1 2 3 0 3 1 0 2 0 2 1 1 1 1 3 2 1 2 1 2 0 0 1 0 1 0 0 1 3 1 3 3 3 2 0\n",
            " 2 0 3 2 3 0 3 3 3 0 0 3 0 2 0 2 0 0 2 3 1 2 2 3 0 1 3 1 3 2 1 0 3 0 3 1 0\n",
            " 3 0 1 0 0 1 2 1 1 2 1 3 3 0 0 3 0 2 0 3 1 0 1 1 2 3 3 1 0 2 1 2 3 1 1 0 0\n",
            " 0 2 0 0 1 2 1 1 3 2 1 0 1 1 2 2 0 0 2 2 1 1 0 3 1 0 1 3 1 3 2 3 3 3 1 1 0\n",
            " 0 3 2 0 0 1 1 1 2 0 1 0 0 2 0 1 0 0 1 2 3 0 2 3 1 3 1 0 1 3 3 0 0 0 3 2 1\n",
            " 0 2 3 3 3 3 3 2 0 1 3 0 0 2 1 0 2 0 3 3 1 2 1 0 1 2 3 2 1 3 3 1 2 1 1 0 3\n",
            " 2]\n"
          ],
          "name": "stdout"
        }
      ]
    },
    {
      "cell_type": "code",
      "metadata": {
        "colab": {
          "base_uri": "https://localhost:8080/"
        },
        "id": "sfvgDZR1a_2j",
        "outputId": "1bb8ea78-4b40-48bf-de1c-48e9c6d417c5"
      },
      "source": [
        "print(\"Loading validation data...\")\n",
        "X_VALID,Y_VALID = load_data_from_files(NC_VAL_FILE,PC_VAL_FILE)"
      ],
      "execution_count": 9,
      "outputs": [
        {
          "output_type": "stream",
          "text": [
            "Loading validation data...\n",
            "Load data from files.\n",
            "Ready: train_set\n",
            "X4 <class 'list'>\n",
            "X5 <class 'numpy.ndarray'>\n",
            "(100000, 1000)\n",
            "X_train <class 'numpy.ndarray'>\n",
            "(100000, 1000)\n",
            "(1000,)\n",
            "[0 2 0 0 3 3 1 2 2 3 1 2 2 0 2 0 2 2 2 1 2 0 3 2 0 3 0 0 3 3 2 3 0 3 3 1 0\n",
            " 1 1 0 2 1 1 1 1 2 3 3 0 2 1 1 3 2 3 2 1 2 3 3 0 0 1 2 2 2 3 2 0 1 2 2 2 2\n",
            " 2 1 3 3 0 1 2 0 1 2 0 3 2 3 2 3 1 3 3 1 3 0 2 1 1 1 2 3 2 2 2 1 0 3 3 2 3\n",
            " 3 3 1 1 3 3 2 1 1 2 1 3 2 2 1 3 1 3 1 0 0 3 2 2 2 1 2 0 0 1 0 2 0 1 3 2 1\n",
            " 3 2 2 0 3 1 2 0 3 3 3 2 3 2 1 0 0 3 0 2 0 2 1 2 1 1 0 2 3 0 1 2 0 1 2 2 0\n",
            " 2 1 2 3 1 1 1 2 3 3 3 2 1 1 0 2 3 1 1 2 1 0 0 3 2 1 0 2 2 3 2 0 0 3 1 3 0\n",
            " 2 3 0 2 3 1 2 3 1 1 2 3 3 3 3 3 0 0 1 0 0 0 2 0 2 2 0 3 3 0 0 0 0 2 2 2 1\n",
            " 0 0 1 1 1 0 2 0 3 1 2 0 0 3 3 1 1 2 1 3 2 3 2 1 2 2 0 0 1 0 1 0 3 3 3 0 0\n",
            " 0 2 3 0 3 2 3 0 1 1 3 0 1 1 1 3 2 1 3 3 1 0 0 0 1 2 3 0 2 3 1 1 1 3 0 3 1\n",
            " 2 0 1 2 1 2 2 3 1 1 1 2 0 2 0 0 3 3 0 2 1 0 0 1 0 1 3 3 2 3 3 1 0 3 2 3 0\n",
            " 2 3 3 2 0 1 0 0 3 1 1 2 2 1 3 2 0 1 0 0 3 2 3 1 0 3 0 3 3 1 1 3 0 0 0 1 2\n",
            " 1 1 1 3 1 2 2 1 1 1 2 1 0 1 1 2 3 2 1 2 1 3 3 2 3 2 2 2 3 3 0 3 1 0 3 3 0\n",
            " 3 2 2 0 1 2 1 1 1 0 3 3 0 1 1 2 3 2 1 2 2 2 0 0 0 2 1 2 1 3 0 3 1 0 0 1 3\n",
            " 2 3 3 2 1 0 3 3 0 1 1 0 0 3 3 1 0 2 2 1 2 0 0 0 2 0 1 2 2 3 1 0 0 2 0 0 1\n",
            " 3 3 2 0 1 0 3 1 3 2 2 0 1 1 0 2 0 0 0 3 2 3 2 0 0 3 3 2 1 3 0 0 2 1 2 1 2\n",
            " 1 0 2 2 2 3 2 3 3 2 1 2 0 0 2 3 1 0 1 2 1 3 2 3 1 0 2 0 2 1 0 2 1 1 1 1 3\n",
            " 1 2 3 3 0 3 0 2 2 1 2 3 2 0 2 0 2 3 2 3 3 0 0 1 0 3 1 1 0 0 2 0 1 3 3 2 1\n",
            " 3 3 3 0 2 2 3 1 2 1 3 2 3 0 2 3 1 0 2 0 2 2 0 1 3 3 0 0 0 3 0 1 1 0 0 3 0\n",
            " 0 1 2 0 2 3 1 1 2 3 2 2 1 2 1 0 1 0 3 0 3 1 1 1 3 3 3 2 2 3 3 3 1 3 3 1 3\n",
            " 0 2 3 0 2 2 3 0 3 3 1 3 1 1 2 3 0 3 2 0 1 1 3 1 1 1 1 3 0 1 3 2 1 0 2 3 2\n",
            " 3 2 3 2 2 1 2 2 1 1 2 3 1 2 0 1 3 0 1 3 1 0 1 3 3 3 3 1 1 1 1 2 2 2 0 0 2\n",
            " 1 0 0 3 1 0 2 2 2 2 1 2 3 2 2 0 3 1 1 1 1 3 0 0 2 1 3 0 2 2 0 3 3 0 2 2 2\n",
            " 3 2 1 3 3 1 3 3 3 2 0 1 3 2 0 2 2 1 0 2 3 1 0 1 3 0 1 1 1 0 1 3 2 3 2 2 3\n",
            " 2 3 1 0 1 0 3 0 1 1 2 0 3 1 0 2 1 1 2 0 0 1 3 2 1 3 1 3 0 2 3 1 0 1 0 2 2\n",
            " 0 1 3 2 3 1 2 0 2 2 3 3 3 2 0 3 1 1 1 1 0 2 3 2 1 0 3 3 1 3 2 1 0 0 1 2 2\n",
            " 3 2 1 0 0 2 2 3 0 2 0 1 2 3 3 1 0 3 2 3 0 2 1 2 3 0 1 0 2 3 1 0 1 0 1 0 1\n",
            " 0 0 3 1 3 0 1 2 0 0 3 0 2 2 1 1 1 3 2 0 2 2 1 2 0 0 1 1 2 2 1 1 1 1 1 2 0\n",
            " 3]\n"
          ],
          "name": "stdout"
        }
      ]
    },
    {
      "cell_type": "code",
      "metadata": {
        "colab": {
          "base_uri": "https://localhost:8080/",
          "height": 1000
        },
        "id": "mQ8eW5Rg9KdQ",
        "outputId": "d504be38-3ba4-4c02-c13a-4e033664bcf7"
      },
      "source": [
        "print (\"Cross validation\")\n",
        "do_cross_validation(X_train,y_train,model,X_VALID,Y_VALID)  \n",
        "print (\"Done\")"
      ],
      "execution_count": 10,
      "outputs": [
        {
          "output_type": "stream",
          "text": [
            "Cross validation\n",
            "COMPILE...\n",
            "...COMPILED\n",
            "FIT\n",
            "Epoch 1/10\n",
            "675/675 [==============================] - 7s 7ms/step - loss: 0.6879 - accuracy: 0.5309 - val_loss: 0.6538 - val_accuracy: 0.6100\n",
            "INFO:tensorflow:Assets written to: /content/drive/My Drive/data/Test_Non_noisy_12K.cv.1.best/assets\n",
            "Epoch 2/10\n",
            "675/675 [==============================] - 4s 6ms/step - loss: 0.6517 - accuracy: 0.6197 - val_loss: 0.6139 - val_accuracy: 0.6679\n",
            "INFO:tensorflow:Assets written to: /content/drive/My Drive/data/Test_Non_noisy_12K.cv.1.best/assets\n",
            "Epoch 3/10\n",
            "675/675 [==============================] - 4s 6ms/step - loss: 0.6099 - accuracy: 0.6725 - val_loss: 0.6097 - val_accuracy: 0.6704\n",
            "INFO:tensorflow:Assets written to: /content/drive/My Drive/data/Test_Non_noisy_12K.cv.1.best/assets\n",
            "Epoch 4/10\n",
            "675/675 [==============================] - 4s 6ms/step - loss: 0.5906 - accuracy: 0.6921 - val_loss: 0.5952 - val_accuracy: 0.6817\n",
            "INFO:tensorflow:Assets written to: /content/drive/My Drive/data/Test_Non_noisy_12K.cv.1.best/assets\n",
            "Epoch 5/10\n",
            "675/675 [==============================] - 4s 6ms/step - loss: 0.5659 - accuracy: 0.7137 - val_loss: 0.6234 - val_accuracy: 0.6600\n",
            "Epoch 6/10\n",
            "675/675 [==============================] - 4s 6ms/step - loss: 0.5425 - accuracy: 0.7329 - val_loss: 0.6172 - val_accuracy: 0.6771\n",
            "Epoch 7/10\n",
            "675/675 [==============================] - 4s 6ms/step - loss: 0.5160 - accuracy: 0.7538 - val_loss: 0.6293 - val_accuracy: 0.6604\n",
            "Epoch 8/10\n",
            "675/675 [==============================] - 4s 6ms/step - loss: 0.4968 - accuracy: 0.7690 - val_loss: 0.6367 - val_accuracy: 0.6650\n",
            "Epoch 9/10\n",
            "675/675 [==============================] - 4s 6ms/step - loss: 0.4767 - accuracy: 0.7838 - val_loss: 0.6851 - val_accuracy: 0.6421\n",
            "Epoch 10/10\n",
            "675/675 [==============================] - 4s 6ms/step - loss: 0.4514 - accuracy: 0.7931 - val_loss: 0.6680 - val_accuracy: 0.6608\n",
            "Fold 1, 10 epochs, 51 sec\n"
          ],
          "name": "stdout"
        },
        {
          "output_type": "display_data",
          "data": {
            "image/png": "[encoded data removed]",
            "text/plain": [
              "<Figure size 576x360 with 1 Axes>"
            ]
          },
          "metadata": {
            "tags": [],
            "needs_background": "light"
          }
        },
        {
          "output_type": "stream",
          "text": [
            "accuracy: 72.26%\n",
            "COMPILE...\n",
            "...COMPILED\n",
            "FIT\n",
            "Epoch 1/10\n",
            "675/675 [==============================] - 5s 6ms/step - loss: 0.6877 - accuracy: 0.5300 - val_loss: 0.6423 - val_accuracy: 0.6313\n",
            "INFO:tensorflow:Assets written to: /content/drive/My Drive/data/Test_Non_noisy_12K.cv.2.best/assets\n",
            "Epoch 2/10\n",
            "675/675 [==============================] - 4s 6ms/step - loss: 0.6337 - accuracy: 0.6460 - val_loss: 0.6478 - val_accuracy: 0.6175\n",
            "Epoch 3/10\n",
            "675/675 [==============================] - 4s 6ms/step - loss: 0.6146 - accuracy: 0.6701 - val_loss: 0.6164 - val_accuracy: 0.6587\n",
            "INFO:tensorflow:Assets written to: /content/drive/My Drive/data/Test_Non_noisy_12K.cv.2.best/assets\n",
            "Epoch 4/10\n",
            "675/675 [==============================] - 4s 6ms/step - loss: 0.5794 - accuracy: 0.7036 - val_loss: 0.6068 - val_accuracy: 0.6783\n",
            "INFO:tensorflow:Assets written to: /content/drive/My Drive/data/Test_Non_noisy_12K.cv.2.best/assets\n",
            "Epoch 5/10\n",
            "675/675 [==============================] - 4s 6ms/step - loss: 0.5536 - accuracy: 0.7251 - val_loss: 0.6340 - val_accuracy: 0.6538\n",
            "Epoch 6/10\n",
            "675/675 [==============================] - 4s 6ms/step - loss: 0.5306 - accuracy: 0.7410 - val_loss: 0.6668 - val_accuracy: 0.6388\n",
            "Epoch 7/10\n",
            "675/675 [==============================] - 4s 6ms/step - loss: 0.4969 - accuracy: 0.7664 - val_loss: 0.6600 - val_accuracy: 0.6479\n",
            "Epoch 8/10\n",
            "675/675 [==============================] - 4s 6ms/step - loss: 0.4804 - accuracy: 0.7724 - val_loss: 0.6858 - val_accuracy: 0.6413\n",
            "Epoch 9/10\n",
            "675/675 [==============================] - 4s 6ms/step - loss: 0.4463 - accuracy: 0.7975 - val_loss: 0.7180 - val_accuracy: 0.6212\n",
            "Epoch 10/10\n",
            "675/675 [==============================] - 4s 6ms/step - loss: 0.4350 - accuracy: 0.8053 - val_loss: 0.7442 - val_accuracy: 0.6250\n",
            "Fold 2, 10 epochs, 48 sec\n"
          ],
          "name": "stdout"
        },
        {
          "output_type": "display_data",
          "data": {
            "image/png": "[encoded data removed]",
            "text/plain": [
              "<Figure size 576x360 with 1 Axes>"
            ]
          },
          "metadata": {
            "tags": [],
            "needs_background": "light"
          }
        },
        {
          "output_type": "stream",
          "text": [
            "accuracy: 73.54%\n",
            "COMPILE...\n",
            "...COMPILED\n",
            "FIT\n",
            "Epoch 1/10\n",
            "675/675 [==============================] - 5s 6ms/step - loss: 0.6910 - accuracy: 0.5230 - val_loss: 0.6794 - val_accuracy: 0.5512\n",
            "INFO:tensorflow:Assets written to: /content/drive/My Drive/data/Test_Non_noisy_12K.cv.3.best/assets\n",
            "Epoch 2/10\n",
            "675/675 [==============================] - 4s 6ms/step - loss: 0.6486 - accuracy: 0.6241 - val_loss: 0.6389 - val_accuracy: 0.6329\n",
            "INFO:tensorflow:Assets written to: /content/drive/My Drive/data/Test_Non_noisy_12K.cv.3.best/assets\n",
            "Epoch 3/10\n",
            "675/675 [==============================] - 4s 6ms/step - loss: 0.6187 - accuracy: 0.6631 - val_loss: 0.6226 - val_accuracy: 0.6575\n",
            "INFO:tensorflow:Assets written to: /content/drive/My Drive/data/Test_Non_noisy_12K.cv.3.best/assets\n",
            "Epoch 4/10\n",
            "675/675 [==============================] - 4s 6ms/step - loss: 0.5923 - accuracy: 0.6842 - val_loss: 0.6833 - val_accuracy: 0.6229\n",
            "Epoch 5/10\n",
            "675/675 [==============================] - 4s 6ms/step - loss: 0.5728 - accuracy: 0.7058 - val_loss: 0.6562 - val_accuracy: 0.6175\n",
            "Epoch 6/10\n",
            "675/675 [==============================] - 4s 6ms/step - loss: 0.5526 - accuracy: 0.7228 - val_loss: 0.6387 - val_accuracy: 0.6529\n",
            "Epoch 7/10\n",
            "675/675 [==============================] - 4s 6ms/step - loss: 0.5289 - accuracy: 0.7392 - val_loss: 0.6442 - val_accuracy: 0.6496\n",
            "Epoch 8/10\n",
            "675/675 [==============================] - 4s 6ms/step - loss: 0.5148 - accuracy: 0.7560 - val_loss: 0.6767 - val_accuracy: 0.6317\n",
            "Epoch 9/10\n",
            "675/675 [==============================] - 4s 6ms/step - loss: 0.4891 - accuracy: 0.7709 - val_loss: 0.6783 - val_accuracy: 0.6388\n",
            "Epoch 10/10\n",
            "675/675 [==============================] - 4s 6ms/step - loss: 0.4657 - accuracy: 0.7917 - val_loss: 0.7549 - val_accuracy: 0.6237\n",
            "Fold 3, 10 epochs, 47 sec\n"
          ],
          "name": "stdout"
        },
        {
          "output_type": "display_data",
          "data": {
            "image/png": "[encoded data removed]",
            "text/plain": [
              "<Figure size 576x360 with 1 Axes>"
            ]
          },
          "metadata": {
            "tags": [],
            "needs_background": "light"
          }
        },
        {
          "output_type": "stream",
          "text": [
            "accuracy: 70.98%\n",
            "COMPILE...\n",
            "...COMPILED\n",
            "FIT\n",
            "Epoch 1/10\n",
            "675/675 [==============================] - 5s 6ms/step - loss: 0.6909 - accuracy: 0.5261 - val_loss: 0.6919 - val_accuracy: 0.5571\n",
            "INFO:tensorflow:Assets written to: /content/drive/My Drive/data/Test_Non_noisy_12K.cv.4.best/assets\n",
            "Epoch 2/10\n",
            "675/675 [==============================] - 4s 6ms/step - loss: 0.6537 - accuracy: 0.6189 - val_loss: 0.6147 - val_accuracy: 0.6787\n",
            "INFO:tensorflow:Assets written to: /content/drive/My Drive/data/Test_Non_noisy_12K.cv.4.best/assets\n",
            "Epoch 3/10\n",
            "675/675 [==============================] - 4s 6ms/step - loss: 0.6177 - accuracy: 0.6608 - val_loss: 0.6321 - val_accuracy: 0.6396\n",
            "Epoch 4/10\n",
            "675/675 [==============================] - 4s 6ms/step - loss: 0.5972 - accuracy: 0.6843 - val_loss: 0.5985 - val_accuracy: 0.6833\n",
            "INFO:tensorflow:Assets written to: /content/drive/My Drive/data/Test_Non_noisy_12K.cv.4.best/assets\n",
            "Epoch 5/10\n",
            "675/675 [==============================] - 4s 6ms/step - loss: 0.5690 - accuracy: 0.7094 - val_loss: 0.6130 - val_accuracy: 0.6687\n",
            "Epoch 6/10\n",
            "675/675 [==============================] - 4s 6ms/step - loss: 0.5469 - accuracy: 0.7293 - val_loss: 0.6420 - val_accuracy: 0.6388\n",
            "Epoch 7/10\n",
            "675/675 [==============================] - 4s 6ms/step - loss: 0.5183 - accuracy: 0.7512 - val_loss: 0.6792 - val_accuracy: 0.6529\n",
            "Epoch 8/10\n",
            "675/675 [==============================] - 4s 6ms/step - loss: 0.4967 - accuracy: 0.7602 - val_loss: 0.6604 - val_accuracy: 0.6625\n",
            "Epoch 9/10\n",
            "675/675 [==============================] - 4s 6ms/step - loss: 0.4670 - accuracy: 0.7852 - val_loss: 0.6972 - val_accuracy: 0.6363\n",
            "Epoch 10/10\n",
            "675/675 [==============================] - 4s 6ms/step - loss: 0.4538 - accuracy: 0.7919 - val_loss: 0.6983 - val_accuracy: 0.6513\n",
            "Fold 4, 10 epochs, 48 sec\n"
          ],
          "name": "stdout"
        },
        {
          "output_type": "display_data",
          "data": {
            "image/png": "[encoded data removed]",
            "text/plain": [
              "<Figure size 576x360 with 1 Axes>"
            ]
          },
          "metadata": {
            "tags": [],
            "needs_background": "light"
          }
        },
        {
          "output_type": "stream",
          "text": [
            "accuracy: 72.28%\n",
            "COMPILE...\n",
            "...COMPILED\n",
            "FIT\n",
            "Epoch 1/10\n",
            "675/675 [==============================] - 5s 6ms/step - loss: 0.6860 - accuracy: 0.5402 - val_loss: 0.6374 - val_accuracy: 0.6417\n",
            "INFO:tensorflow:Assets written to: /content/drive/My Drive/data/Test_Non_noisy_12K.cv.5.best/assets\n",
            "Epoch 2/10\n",
            "675/675 [==============================] - 4s 6ms/step - loss: 0.6270 - accuracy: 0.6609 - val_loss: 0.6161 - val_accuracy: 0.6675\n",
            "INFO:tensorflow:Assets written to: /content/drive/My Drive/data/Test_Non_noisy_12K.cv.5.best/assets\n",
            "Epoch 3/10\n",
            "675/675 [==============================] - 4s 6ms/step - loss: 0.6081 - accuracy: 0.6713 - val_loss: 0.5886 - val_accuracy: 0.6896\n",
            "INFO:tensorflow:Assets written to: /content/drive/My Drive/data/Test_Non_noisy_12K.cv.5.best/assets\n",
            "Epoch 4/10\n",
            "675/675 [==============================] - 4s 6ms/step - loss: 0.5844 - accuracy: 0.6990 - val_loss: 0.5772 - val_accuracy: 0.7088\n",
            "INFO:tensorflow:Assets written to: /content/drive/My Drive/data/Test_Non_noisy_12K.cv.5.best/assets\n",
            "Epoch 5/10\n",
            "675/675 [==============================] - 4s 6ms/step - loss: 0.5674 - accuracy: 0.7114 - val_loss: 0.6093 - val_accuracy: 0.6717\n",
            "Epoch 6/10\n",
            "675/675 [==============================] - 4s 6ms/step - loss: 0.5343 - accuracy: 0.7434 - val_loss: 0.6093 - val_accuracy: 0.6858\n",
            "Epoch 7/10\n",
            "675/675 [==============================] - 4s 6ms/step - loss: 0.5107 - accuracy: 0.7528 - val_loss: 0.7168 - val_accuracy: 0.6167\n",
            "Epoch 8/10\n",
            "675/675 [==============================] - 4s 6ms/step - loss: 0.5012 - accuracy: 0.7627 - val_loss: 0.6396 - val_accuracy: 0.6633\n",
            "Epoch 9/10\n",
            "675/675 [==============================] - 4s 6ms/step - loss: 0.4701 - accuracy: 0.7822 - val_loss: 0.6501 - val_accuracy: 0.6642\n",
            "Epoch 10/10\n",
            "675/675 [==============================] - 4s 6ms/step - loss: 0.4518 - accuracy: 0.7986 - val_loss: 0.6809 - val_accuracy: 0.6654\n",
            "Fold 5, 10 epochs, 50 sec\n"
          ],
          "name": "stdout"
        },
        {
          "output_type": "display_data",
          "data": {
            "image/png": "[encoded data removed]",
            "text/plain": [
              "<Figure size 576x360 with 1 Axes>"
            ]
          },
          "metadata": {
            "tags": [],
            "needs_background": "light"
          }
        },
        {
          "output_type": "stream",
          "text": [
            "accuracy: 73.79%\n",
            "\n",
            "5-way Cross Validation mean 72.57% (+/- 1.01%)\n",
            "Done\n"
          ],
          "name": "stdout"
        }
      ]
    },
    {
      "cell_type": "code",
      "metadata": {
        "id": "p4fh2GI8beMQ"
      },
      "source": [
        ""
      ],
      "execution_count": 10,
      "outputs": []
    }
  ]
}