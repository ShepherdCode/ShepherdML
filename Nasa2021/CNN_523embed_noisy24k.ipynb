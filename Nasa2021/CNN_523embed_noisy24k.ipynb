{
  "nbformat": 4,
  "nbformat_minor": 0,
  "metadata": {
    "accelerator": "GPU",
    "colab": {
      "name": "CNN_523embed_noisy24k.ipynb",
      "provenance": [],
      "collapsed_sections": [],
      "machine_shape": "hm",
      "include_colab_link": true
    },
    "kernelspec": {
      "display_name": "Python 3",
      "language": "python",
      "name": "python3"
    },
    "language_info": {
      "codemirror_mode": {
        "name": "ipython",
        "version": 3
      },
      "file_extension": ".py",
      "mimetype": "text/x-python",
      "name": "python",
      "nbconvert_exporter": "python",
      "pygments_lexer": "ipython3",
      "version": "3.8.3"
    }
  },
  "cells": [
    {
      "cell_type": "markdown",
      "metadata": {
        "id": "view-in-github",
        "colab_type": "text"
      },
      "source": [
        "<a href=\"https://colab.research.google.com/github/ShepherdCode/ShepherdML/blob/master/Nasa2021/CNN_523embed_noisy24k.ipynb\" target=\"_parent\"><img src=\"https://colab.research.google.com/assets/colab-badge.svg\" alt=\"Open In Colab\"/></a>"
      ]
    },
    {
      "cell_type": "code",
      "metadata": {
        "id": "PJDmazbCyqHC"
      },
      "source": [
        ""
      ],
      "execution_count": null,
      "outputs": []
    },
    {
      "cell_type": "markdown",
      "metadata": {
        "id": "view-in-github"
      },
      "source": [
        "<a href=\"https://colab.research.google.com/github/ShepherdCode/ShepherdML/blob/master/Nasa2021/CNN_523.ipynb\" target=\"_parent\"><img src=\"https://colab.research.google.com/assets/colab-badge.svg\" alt=\"Open In Colab\"/></a>"
      ]
    },
    {
      "cell_type": "markdown",
      "metadata": {
        "id": "ojm_6E9f9Kcf"
      },
      "source": [
        "# CNN 523 24k noisy\n",
        "\n",
        "1. Four layers of CNNS and MaxPooling\n",
        "2. Drop out at 0.2\n",
        "3. Variable filters and dense neurons\n",
        "4. 10% Noise, datasets of 3k coding and noncoding from 3k to 192k\n",
        "\n",
        "\n",
        "\n",
        "\n",
        "\n",
        "\n",
        "\n",
        "\n",
        "\n",
        "\n",
        "\n",
        "\n"
      ]
    },
    {
      "cell_type": "code",
      "metadata": {
        "colab": {
          "base_uri": "https://localhost:8080/"
        },
        "id": "hh6XplUvC0j0",
        "outputId": "25faebfc-267c-44a6-b699-df0d50a6f740"
      },
      "source": [
        "#NC_FILENAME='ncRNA.tiny50.fasta'\n",
        "#PC_FILENAME='pcRNA.tiny50.fasta'\n",
        "#NC_FILENAME='ncRNA.gc34.processed.fasta'\n",
        "#PC_FILENAME='pcRNA.gc34.processed.fasta'\n",
        "NC_FILENAME='noisy_noncod_24000_10.fasta'  # CHANGE THIS TO 1000, 2000, 4000, etc.\n",
        "PC_FILENAME='noisy_coding_24000_10.fasta'\n",
        "NC_VAL_FILE='noncod_validation.fasta'  # 'noncod_validation.fasta'  # CHANGE THIS TO THE UNIFORM VALIDATION FILE\n",
        "PC_VAL_FILE='coding_validation.fasta'  # 'coding_validation.fasta'\n",
        "\n",
        "MODEL_FILE='JUNK2'   # CHANGE THIS IF YOU WANT TO SAVE THE MODEL!\n",
        "DATAPATH=''\n",
        "\n",
        "try:\n",
        "    from google.colab import drive\n",
        "    IN_COLAB = True\n",
        "    PATH='/content/drive/'\n",
        "    drive.mount(PATH)\n",
        "    DATAPATH=PATH+'My Drive/data/'  # must end in \"/\"\n",
        "except:\n",
        "    IN_COLAB = False\n",
        "    DATAPATH='data/'  # must end in \"/\"\n",
        "NC_FILENAME = DATAPATH+NC_FILENAME\n",
        "PC_FILENAME = DATAPATH+PC_FILENAME\n",
        "NC_VAL_FILE = DATAPATH+NC_VAL_FILE\n",
        "PC_VAL_FILE = DATAPATH+PC_VAL_FILE\n",
        "MODEL_FILE=DATAPATH+MODEL_FILE\n",
        "\n",
        "EPOCHS=20  # DECIDE ON SOME AMOUNT AND STICK WITH IT\n",
        "SPLITS=5\n",
        "K=1\n",
        "VOCABULARY_SIZE=4**K+1   # e.g. K=3 => 64 DNA K-mers + 'NNN'\n",
        "EMBED_DIMEN=2\n",
        "FILTERS=32\n",
        "KERNEL=3\n",
        "NEURONS=24\n",
        "DROP=0.2\n",
        "MINLEN=200\n",
        "MAXLEN=1000    # THIS HAS TO MATCH THE SIMULATION DATA\n",
        "DENSE_LEN = 1000\n",
        "ACT=\"tanh\""
      ],
      "execution_count": 1,
      "outputs": [
        {
          "output_type": "stream",
          "text": [
            "Drive already mounted at /content/drive/; to attempt to forcibly remount, call drive.mount(\"/content/drive/\", force_remount=True).\n"
          ],
          "name": "stdout"
        }
      ]
    },
    {
      "cell_type": "code",
      "metadata": {
        "colab": {
          "base_uri": "https://localhost:8080/"
        },
        "id": "e9TY3HK9ZklE",
        "outputId": "4e3744de-1a4e-4aba-943c-8fd00a8578c4"
      },
      "source": [
        "# Load our own tools\n",
        "# TO DO: don't go to GitHub if the file is already local.\n",
        "GITHUB = True\n",
        "if GITHUB:\n",
        "    #!pip install requests  # Uncomment this if necessary. Seems to be pre-installed.\n",
        "    import requests\n",
        "    r = requests.get('https://raw.githubusercontent.com/ShepherdCode/ShepherdML/master/Strings/tools_fasta.py')\n",
        "    with open('tools_fasta.py', 'w') as f:\n",
        "        f.write(r.text)\n",
        "    # TO DO: delete the file after import\n",
        "import tools_fasta as tools\n",
        "tools.yahoo()  # If this prints \"Yahoo!\" the the import was successful.\n",
        "\n",
        "TOOLS_CHANGED = False   # set to True to re-run with a new version of tools\n",
        "if TOOLS_CHANGED:\n",
        "  from importlib import reload \n",
        "  tools=reload(tools)\n",
        "  print(dir(tools))   # run this to see EVERYTHING in the tools module"
      ],
      "execution_count": 2,
      "outputs": [
        {
          "output_type": "stream",
          "text": [
            "Yahoo!\n"
          ],
          "name": "stdout"
        }
      ]
    },
    {
      "cell_type": "code",
      "metadata": {
        "id": "VQY7aTj29Kch"
      },
      "source": [
        "import numpy as np\n",
        "import pandas as pd\n",
        "import matplotlib.pyplot as plt\n",
        "from sklearn.model_selection import ShuffleSplit\n",
        "from sklearn.model_selection import cross_val_score\n",
        "from sklearn.model_selection import RepeatedKFold\n",
        "from sklearn.model_selection import StratifiedKFold\n",
        "import tensorflow as tf\n",
        "from tensorflow import keras\n",
        "import time\n",
        "dt='float32'\n",
        "tf.keras.backend.set_floatx(dt)"
      ],
      "execution_count": 3,
      "outputs": []
    },
    {
      "cell_type": "markdown",
      "metadata": {
        "id": "j7jcg6Wl9Kc2"
      },
      "source": [
        "Build model"
      ]
    },
    {
      "cell_type": "code",
      "metadata": {
        "id": "qLFNO1Xa9Kc3"
      },
      "source": [
        "def compile_model(model):\n",
        "    print(\"COMPILE...\")\n",
        "    bc=tf.keras.losses.BinaryCrossentropy(from_logits=False)\n",
        "    model.compile(loss=bc, optimizer=\"adam\", metrics=[\"accuracy\"])\n",
        "    print(\"...COMPILED\")\n",
        "    return model\n",
        "\n",
        "def build_model():\n",
        "    #SHAPE=(MAXLEN,5)  \n",
        "    SHAPE=(MAXLEN,4)  \n",
        "    # 4 input letters, 4 output dimensions, 1000 letters/RNA\n",
        "    elayer  = keras.layers.Embedding(4,4,input_length=1000) \n",
        "\n",
        "    clayer1 = keras.layers.Conv1D(FILTERS,KERNEL,activation=ACT,padding=\"same\",\n",
        "                                 input_shape=SHAPE)\n",
        "    clayer2 = keras.layers.Conv1D(FILTERS,KERNEL,activation=ACT,padding=\"same\")\n",
        "    clayer3 = keras.layers.MaxPooling1D(2)\n",
        "    clayer4 = keras.layers.Conv1D(FILTERS,KERNEL,activation=ACT,padding=\"same\")\n",
        "    clayer5 = keras.layers.Conv1D(FILTERS,KERNEL,activation=ACT,padding=\"same\")\n",
        "    clayer6 = keras.layers.MaxPooling1D(2)\n",
        "    clayer7 = keras.layers.Conv1D(FILTERS,KERNEL,activation=ACT,padding=\"same\")\n",
        "    clayer8 = keras.layers.Conv1D(FILTERS,KERNEL,activation=ACT,padding=\"same\")\n",
        "    clayer9 = keras.layers.MaxPooling1D(2)\n",
        "    clayer10 = keras.layers.Conv1D(FILTERS,KERNEL,activation=ACT,padding=\"same\")\n",
        "    clayer11 = keras.layers.Conv1D(FILTERS,KERNEL,activation=ACT,padding=\"same\")\n",
        "    clayer12 = keras.layers.MaxPooling1D(2)\n",
        "\n",
        "    clayer13 = keras.layers.Flatten()\n",
        "\n",
        "    dlayer1 = keras.layers.Dense(NEURONS, activation=ACT,dtype=dt, input_shape=[DENSE_LEN])\n",
        "    dlayer2 = keras.layers.Dropout(DROP)\n",
        "    dlayer3 = keras.layers.Dense(NEURONS, activation=ACT,dtype=dt)\n",
        "    dlayer4 = keras.layers.Dropout(DROP)\n",
        "    output_layer = keras.layers.Dense(1, activation=\"sigmoid\", dtype=dt)\n",
        "\n",
        "    cnn = keras.models.Sequential()\n",
        "    cnn.add(elayer)\n",
        "    cnn.add(clayer1)\n",
        "    cnn.add(clayer2)\n",
        "    cnn.add(clayer3)\n",
        "    cnn.add(clayer4)\n",
        "    cnn.add(clayer5)\n",
        "    cnn.add(clayer6)\n",
        "    cnn.add(clayer7)\n",
        "    cnn.add(clayer8)\n",
        "    cnn.add(clayer9)\n",
        "    cnn.add(clayer10)\n",
        "    cnn.add(clayer11)\n",
        "    cnn.add(clayer12)\n",
        "    cnn.add(clayer13)\n",
        "    cnn.add(dlayer1)\n",
        "    cnn.add(dlayer2)\n",
        "    cnn.add(dlayer3)\n",
        "    cnn.add(dlayer4)\n",
        "    cnn.add(output_layer)\n",
        "    mlpc = compile_model(cnn)\n",
        "    return mlpc"
      ],
      "execution_count": 4,
      "outputs": []
    },
    {
      "cell_type": "markdown",
      "metadata": {
        "id": "LdIS2utq9Kc9"
      },
      "source": [
        "Cross validation"
      ]
    },
    {
      "cell_type": "code",
      "metadata": {
        "id": "BVo4tbB_9Kc-"
      },
      "source": [
        "def do_cross_validation(X,y,given_model,X_VALID,Y_VALID):\n",
        "    cv_scores = []\n",
        "    fold=0\n",
        "    splitter = ShuffleSplit(n_splits=SPLITS, test_size=0.1, random_state=37863)\n",
        "    for train_index,valid_index in splitter.split(X):\n",
        "        fold += 1\n",
        "        X_train=X[train_index] # use iloc[] for dataframe\n",
        "        y_train=y[train_index]\n",
        "        X_valid=X[valid_index]\n",
        "        y_valid=y[valid_index]        \n",
        "        # Avoid continually improving the same model.\n",
        "        model = compile_model(keras.models.clone_model(given_model))\n",
        "        bestname=MODEL_FILE+\".cv.\"+str(fold)+\".best\"\n",
        "        mycallbacks = [keras.callbacks.ModelCheckpoint(\n",
        "            filepath=bestname, save_best_only=True, \n",
        "            monitor='val_accuracy', mode='max')]   \n",
        "        print(\"FIT\")\n",
        "        start_time=time.time()\n",
        "        history=model.fit(X_train, y_train, \n",
        "                epochs=EPOCHS, verbose=1, callbacks=mycallbacks,\n",
        "                validation_data=(X_valid,y_valid))\n",
        "        # THE VALIDATION ABOVE IS JUST FOR SHOW\n",
        "        end_time=time.time()\n",
        "        elapsed_time=(end_time-start_time)                        \n",
        "        print(\"Fold %d, %d epochs, %d sec\"%(fold,EPOCHS,elapsed_time))\n",
        "        pd.DataFrame(history.history).plot(figsize=(8,5))\n",
        "        plt.grid(True)\n",
        "        plt.gca().set_ylim(0,1)\n",
        "        plt.show()\n",
        "        best_model=keras.models.load_model(bestname)\n",
        "        # THE VALIDATION BELOW IS FOR KEEPS\n",
        "        scores = best_model.evaluate(X_VALID, Y_VALID, verbose=0)\n",
        "        print(\"%s: %.2f%%\" % (best_model.metrics_names[1], scores[1]*100))\n",
        "        cv_scores.append(scores[1] * 100)  \n",
        "    print()\n",
        "    print(\"%d-way Cross Validation mean %.2f%% (+/- %.2f%%)\" % (fold, np.mean(cv_scores), np.std(cv_scores)))"
      ],
      "execution_count": 5,
      "outputs": []
    },
    {
      "cell_type": "markdown",
      "metadata": {
        "id": "qd3Wj_vI9KdP"
      },
      "source": [
        "## Train on RNA lengths 200-1Kb"
      ]
    },
    {
      "cell_type": "code",
      "metadata": {
        "colab": {
          "base_uri": "https://localhost:8080/"
        },
        "id": "G1HuSs8ZbeL4",
        "outputId": "2ccfe906-e12c-415f-cff6-6e2f3f2c3c51"
      },
      "source": [
        "print (\"Compile the model\")\n",
        "model=build_model()\n",
        "print (\"Summarize the model\")\n",
        "print(model.summary())  # Print this only once\n",
        "#model.save(MODEL_FILE+'.model')\n"
      ],
      "execution_count": 6,
      "outputs": [
        {
          "output_type": "stream",
          "text": [
            "Compile the model\n",
            "COMPILE...\n",
            "...COMPILED\n",
            "Summarize the model\n",
            "Model: \"sequential\"\n",
            "_________________________________________________________________\n",
            "Layer (type)                 Output Shape              Param #   \n",
            "=================================================================\n",
            "embedding (Embedding)        (None, 1000, 4)           16        \n",
            "_________________________________________________________________\n",
            "conv1d (Conv1D)              (None, 1000, 32)          416       \n",
            "_________________________________________________________________\n",
            "conv1d_1 (Conv1D)            (None, 1000, 32)          3104      \n",
            "_________________________________________________________________\n",
            "max_pooling1d (MaxPooling1D) (None, 500, 32)           0         \n",
            "_________________________________________________________________\n",
            "conv1d_2 (Conv1D)            (None, 500, 32)           3104      \n",
            "_________________________________________________________________\n",
            "conv1d_3 (Conv1D)            (None, 500, 32)           3104      \n",
            "_________________________________________________________________\n",
            "max_pooling1d_1 (MaxPooling1 (None, 250, 32)           0         \n",
            "_________________________________________________________________\n",
            "conv1d_4 (Conv1D)            (None, 250, 32)           3104      \n",
            "_________________________________________________________________\n",
            "conv1d_5 (Conv1D)            (None, 250, 32)           3104      \n",
            "_________________________________________________________________\n",
            "max_pooling1d_2 (MaxPooling1 (None, 125, 32)           0         \n",
            "_________________________________________________________________\n",
            "conv1d_6 (Conv1D)            (None, 125, 32)           3104      \n",
            "_________________________________________________________________\n",
            "conv1d_7 (Conv1D)            (None, 125, 32)           3104      \n",
            "_________________________________________________________________\n",
            "max_pooling1d_3 (MaxPooling1 (None, 62, 32)            0         \n",
            "_________________________________________________________________\n",
            "flatten (Flatten)            (None, 1984)              0         \n",
            "_________________________________________________________________\n",
            "dense (Dense)                (None, 24)                47640     \n",
            "_________________________________________________________________\n",
            "dropout (Dropout)            (None, 24)                0         \n",
            "_________________________________________________________________\n",
            "dense_1 (Dense)              (None, 24)                600       \n",
            "_________________________________________________________________\n",
            "dropout_1 (Dropout)          (None, 24)                0         \n",
            "_________________________________________________________________\n",
            "dense_2 (Dense)              (None, 1)                 25        \n",
            "=================================================================\n",
            "Total params: 70,425\n",
            "Trainable params: 70,425\n",
            "Non-trainable params: 0\n",
            "_________________________________________________________________\n",
            "None\n"
          ],
          "name": "stdout"
        }
      ]
    },
    {
      "cell_type": "code",
      "metadata": {
        "id": "f8fNo6sn9KdH"
      },
      "source": [
        "def load_data_from_files(nc_filename,pc_filename):\n",
        "  FREEMEM=True   # use False for debugging, True for production\n",
        "  print(\"Load data from files.\")\n",
        "  nc_seq=tools.load_fasta(nc_filename,0)\n",
        "  pc_seq=tools.load_fasta(pc_filename,1)\n",
        "  train_set=pd.concat((nc_seq,pc_seq),axis=0)\n",
        "  print(\"Ready: train_set\")\n",
        "  subset=tools.make_slice(train_set,MINLEN,MAXLEN)# One array to two: X and y\n",
        "  if FREEMEM:\n",
        "      nc_seq=None\n",
        "      pc_seq=None\n",
        "      train_set=None\n",
        "  (X1,y_train)=tools.separate_X_and_y(subset)\n",
        "  # X1 is pandas df of (\"list\" of one sequence)\n",
        "  X2=X1.to_numpy()  # numpy ndarray of (\"list\" of one sequence)\n",
        "  X3=[elem[0] for elem in X2]  # numpy ndarray of ACGT-str\n",
        "  # X3? It might be faster to use int-array than char-array. Come back to this.\n",
        "  X4=X3  # no-op\n",
        "  print(\"X4\",type(X4))\n",
        "  #print(X4[0])\n",
        "  if FREEMEM:\n",
        "      X1=None\n",
        "      X2=None\n",
        "      X3=None\n",
        "  X5=[]\n",
        "  dna_to_int = {'A':0,'C':1,'G':2,'T':3}\n",
        "  for x in X4:\n",
        "      a=[]\n",
        "      for c in x:\n",
        "          i = dna_to_int[c]\n",
        "          a.append(i)\n",
        "      X5.append(a)\n",
        "  X5=np.asarray(X5)\n",
        "  print(\"X5\",type(X5))\n",
        "  print(X5.shape)\n",
        "  if FREEMEM:\n",
        "      X4=None\n",
        "  X_train=X5\n",
        "  if FREEMEM:\n",
        "      X5=None\n",
        "  print(\"X_train\",type(X_train))\n",
        "  y_train=y_train.to_numpy()\n",
        "  print(X_train.shape)\n",
        "  print(X_train[0].shape)\n",
        "  print(X_train[0])\n",
        "  return X_train,y_train\n"
      ],
      "execution_count": 7,
      "outputs": []
    },
    {
      "cell_type": "code",
      "metadata": {
        "colab": {
          "base_uri": "https://localhost:8080/"
        },
        "id": "UmEls9oXRQON",
        "outputId": "0346f84d-f218-4d01-f8f8-43a0045b14bc"
      },
      "source": [
        "print(\"Loading training data...\")\n",
        "X_train,y_train = load_data_from_files(NC_FILENAME,PC_FILENAME)"
      ],
      "execution_count": 8,
      "outputs": [
        {
          "output_type": "stream",
          "text": [
            "Loading training data...\n",
            "Load data from files.\n",
            "Ready: train_set\n",
            "X4 <class 'list'>\n",
            "X5 <class 'numpy.ndarray'>\n",
            "(48000, 1000)\n",
            "X_train <class 'numpy.ndarray'>\n",
            "(48000, 1000)\n",
            "(1000,)\n",
            "[2 0 2 0 0 1 2 1 3 2 0 2 1 1 3 2 0 2 2 1 2 0 3 0 3 2 1 0 1 3 0 1 1 3 2 0 3\n",
            " 2 0 0 3 3 2 2 2 1 1 3 2 1 3 3 2 0 0 3 1 0 2 3 2 0 3 1 1 0 0 0 2 3 0 3 2 3\n",
            " 2 2 0 0 0 2 3 3 1 2 0 2 3 2 1 2 2 1 1 1 3 0 1 3 3 0 1 1 2 3 1 3 0 3 3 1 2\n",
            " 2 3 0 2 3 3 0 3 2 0 1 0 3 2 0 1 0 2 0 3 3 0 3 0 1 1 0 2 0 1 3 2 1 3 0 3 0\n",
            " 2 0 3 0 0 3 1 2 0 1 2 0 0 2 1 3 1 0 2 2 2 3 0 2 2 3 1 3 3 2 3 1 2 1 1 3 1\n",
            " 1 1 1 2 3 3 3 3 1 0 3 3 3 0 3 3 3 2 1 1 3 3 2 0 1 3 1 1 2 2 0 2 1 0 0 2 0\n",
            " 1 0 2 2 2 0 0 3 2 3 2 0 0 1 0 0 3 2 2 2 2 3 2 3 1 0 0 0 3 0 1 2 0 1 0 0 3\n",
            " 1 0 3 3 2 1 3 3 2 3 1 0 2 1 1 2 3 2 0 0 2 0 3 0 2 1 3 1 1 0 0 1 2 1 0 3 3\n",
            " 3 3 2 2 3 2 3 1 2 3 2 0 0 2 3 2 2 0 3 1 3 1 2 2 2 3 3 1 1 2 2 0 1 2 3 1 2\n",
            " 1 3 1 2 0 0 3 3 1 0 3 1 3 2 1 3 1 2 2 1 0 0 1 1 1 3 3 0 0 0 2 2 3 3 2 2 2\n",
            " 0 2 2 0 0 3 1 1 1 0 2 2 2 3 1 1 2 0 1 3 0 0 3 0 0 2 0 2 3 0 3 2 1 2 1 3 1\n",
            " 2 0 2 3 2 0 3 2 2 1 0 3 2 0 3 3 2 2 3 0 2 1 2 2 3 2 0 1 3 2 1 1 3 2 0 1 2\n",
            " 2 2 2 2 1 2 2 0 3 2 3 2 0 0 0 1 0 3 0 2 3 0 3 1 0 0 1 3 1 2 0 2 3 3 3 1 1\n",
            " 3 3 0 3 2 3 3 3 1 2 2 3 1 3 0 2 2 3 0 3 2 3 3 1 0 3 3 2 1 2 3 2 3 1 0 2 0\n",
            " 0 3 0 3 0 3 3 1 2 2 1 0 3 2 0 2 2 2 2 0 0 3 2 0 2 1 0 0 3 0 3 0 0 0 3 2 1\n",
            " 3 0 1 0 0 3 3 3 3 2 2 3 1 1 3 0 1 1 2 2 1 0 0 3 3 1 3 3 2 2 1 2 0 3 3 2 0\n",
            " 1 1 2 1 2 3 3 3 0 3 2 3 2 3 1 2 3 1 2 3 0 3 2 0 2 3 2 0 3 2 3 0 1 3 2 2 0\n",
            " 3 1 2 2 3 1 2 3 1 3 2 2 1 3 3 3 0 3 3 2 3 0 1 3 1 2 2 1 0 0 0 3 3 0 3 1 0\n",
            " 0 2 2 2 2 2 2 0 1 1 3 1 1 1 3 1 1 1 0 1 2 1 0 1 3 2 2 1 1 1 1 1 1 3 0 1 1\n",
            " 2 2 0 0 0 0 3 3 1 2 2 1 3 3 0 3 3 2 0 0 0 1 2 2 1 2 2 2 1 0 0 3 2 1 1 2 2\n",
            " 3 3 2 2 0 1 0 2 3 2 1 0 0 2 0 2 0 3 0 3 2 1 2 1 2 2 2 2 2 1 2 1 3 1 3 0 1\n",
            " 1 2 0 0 2 2 3 0 1 3 2 1 1 3 2 1 3 0 0 2 3 1 3 0 0 2 3 3 1 0 0 3 2 0 2 3 2\n",
            " 1 2 2 1 3 2 3 3 3 3 2 1 3 0 2 3 2 3 1 2 1 0 3 2 2 1 0 2 0 2 0 2 3 0 2 2 2\n",
            " 0 3 2 3 3 0 1 2 3 2 1 1 0 3 1 1 3 1 2 3 2 3 0 1 2 0 3 2 2 3 1 3 2 3 1 1 0\n",
            " 0 0 1 1 2 2 3 1 0 0 3 0 1 3 3 2 3 2 0 3 3 0 2 1 0 2 2 1 2 0 1 0 2 3 1 0 2\n",
            " 0 0 3 0 3 0 1 2 2 1 3 3 1 1 3 2 0 2 0 3 1 2 0 0 2 2 1 3 1 1 0 2 1 2 2 1 0\n",
            " 1 3 1 0 0 3 1 2 3 0 2 1 2 3 1 2 0 0 2 0 0 1 1 2 0 3 1 3 0 2 3 2 1 2 2 0 1\n",
            " 2]\n"
          ],
          "name": "stdout"
        }
      ]
    },
    {
      "cell_type": "code",
      "metadata": {
        "colab": {
          "base_uri": "https://localhost:8080/"
        },
        "id": "sfvgDZR1a_2j",
        "outputId": "febf4b53-e86e-4f96-da0e-7828b54c443c"
      },
      "source": [
        "print(\"Loading validation data...\")\n",
        "X_VALID,Y_VALID = load_data_from_files(NC_VAL_FILE,PC_VAL_FILE)"
      ],
      "execution_count": 9,
      "outputs": [
        {
          "output_type": "stream",
          "text": [
            "Loading validation data...\n",
            "Load data from files.\n",
            "Ready: train_set\n",
            "X4 <class 'list'>\n",
            "X5 <class 'numpy.ndarray'>\n",
            "(100000, 1000)\n",
            "X_train <class 'numpy.ndarray'>\n",
            "(100000, 1000)\n",
            "(1000,)\n",
            "[0 2 0 0 3 3 1 2 2 3 1 2 2 0 2 0 2 2 2 1 2 0 3 2 0 3 0 0 3 3 2 3 0 3 3 1 0\n",
            " 1 1 0 2 1 1 1 1 2 3 3 0 2 1 1 3 2 3 2 1 2 3 3 0 0 1 2 2 2 3 2 0 1 2 2 2 2\n",
            " 2 1 3 3 0 1 2 0 1 2 0 3 2 3 2 3 1 3 3 1 3 0 2 1 1 1 2 3 2 2 2 1 0 3 3 2 3\n",
            " 3 3 1 1 3 3 2 1 1 2 1 3 2 2 1 3 1 3 1 0 0 3 2 2 2 1 2 0 0 1 0 2 0 1 3 2 1\n",
            " 3 2 2 0 3 1 2 0 3 3 3 2 3 2 1 0 0 3 0 2 0 2 1 2 1 1 0 2 3 0 1 2 0 1 2 2 0\n",
            " 2 1 2 3 1 1 1 2 3 3 3 2 1 1 0 2 3 1 1 2 1 0 0 3 2 1 0 2 2 3 2 0 0 3 1 3 0\n",
            " 2 3 0 2 3 1 2 3 1 1 2 3 3 3 3 3 0 0 1 0 0 0 2 0 2 2 0 3 3 0 0 0 0 2 2 2 1\n",
            " 0 0 1 1 1 0 2 0 3 1 2 0 0 3 3 1 1 2 1 3 2 3 2 1 2 2 0 0 1 0 1 0 3 3 3 0 0\n",
            " 0 2 3 0 3 2 3 0 1 1 3 0 1 1 1 3 2 1 3 3 1 0 0 0 1 2 3 0 2 3 1 1 1 3 0 3 1\n",
            " 2 0 1 2 1 2 2 3 1 1 1 2 0 2 0 0 3 3 0 2 1 0 0 1 0 1 3 3 2 3 3 1 0 3 2 3 0\n",
            " 2 3 3 2 0 1 0 0 3 1 1 2 2 1 3 2 0 1 0 0 3 2 3 1 0 3 0 3 3 1 1 3 0 0 0 1 2\n",
            " 1 1 1 3 1 2 2 1 1 1 2 1 0 1 1 2 3 2 1 2 1 3 3 2 3 2 2 2 3 3 0 3 1 0 3 3 0\n",
            " 3 2 2 0 1 2 1 1 1 0 3 3 0 1 1 2 3 2 1 2 2 2 0 0 0 2 1 2 1 3 0 3 1 0 0 1 3\n",
            " 2 3 3 2 1 0 3 3 0 1 1 0 0 3 3 1 0 2 2 1 2 0 0 0 2 0 1 2 2 3 1 0 0 2 0 0 1\n",
            " 3 3 2 0 1 0 3 1 3 2 2 0 1 1 0 2 0 0 0 3 2 3 2 0 0 3 3 2 1 3 0 0 2 1 2 1 2\n",
            " 1 0 2 2 2 3 2 3 3 2 1 2 0 0 2 3 1 0 1 2 1 3 2 3 1 0 2 0 2 1 0 2 1 1 1 1 3\n",
            " 1 2 3 3 0 3 0 2 2 1 2 3 2 0 2 0 2 3 2 3 3 0 0 1 0 3 1 1 0 0 2 0 1 3 3 2 1\n",
            " 3 3 3 0 2 2 3 1 2 1 3 2 3 0 2 3 1 0 2 0 2 2 0 1 3 3 0 0 0 3 0 1 1 0 0 3 0\n",
            " 0 1 2 0 2 3 1 1 2 3 2 2 1 2 1 0 1 0 3 0 3 1 1 1 3 3 3 2 2 3 3 3 1 3 3 1 3\n",
            " 0 2 3 0 2 2 3 0 3 3 1 3 1 1 2 3 0 3 2 0 1 1 3 1 1 1 1 3 0 1 3 2 1 0 2 3 2\n",
            " 3 2 3 2 2 1 2 2 1 1 2 3 1 2 0 1 3 0 1 3 1 0 1 3 3 3 3 1 1 1 1 2 2 2 0 0 2\n",
            " 1 0 0 3 1 0 2 2 2 2 1 2 3 2 2 0 3 1 1 1 1 3 0 0 2 1 3 0 2 2 0 3 3 0 2 2 2\n",
            " 3 2 1 3 3 1 3 3 3 2 0 1 3 2 0 2 2 1 0 2 3 1 0 1 3 0 1 1 1 0 1 3 2 3 2 2 3\n",
            " 2 3 1 0 1 0 3 0 1 1 2 0 3 1 0 2 1 1 2 0 0 1 3 2 1 3 1 3 0 2 3 1 0 1 0 2 2\n",
            " 0 1 3 2 3 1 2 0 2 2 3 3 3 2 0 3 1 1 1 1 0 2 3 2 1 0 3 3 1 3 2 1 0 0 1 2 2\n",
            " 3 2 1 0 0 2 2 3 0 2 0 1 2 3 3 1 0 3 2 3 0 2 1 2 3 0 1 0 2 3 1 0 1 0 1 0 1\n",
            " 0 0 3 1 3 0 1 2 0 0 3 0 2 2 1 1 1 3 2 0 2 2 1 2 0 0 1 1 2 2 1 1 1 1 1 2 0\n",
            " 3]\n"
          ],
          "name": "stdout"
        }
      ]
    },
    {
      "cell_type": "code",
      "metadata": {
        "colab": {
          "base_uri": "https://localhost:8080/",
          "height": 1000
        },
        "id": "mQ8eW5Rg9KdQ",
        "outputId": "7f79e92a-af4a-4c70-b67e-7fc1718d5a48"
      },
      "source": [
        "print (\"Cross validation\")\n",
        "do_cross_validation(X_train,y_train,model,X_VALID,Y_VALID)  \n",
        "print (\"Done\")"
      ],
      "execution_count": 10,
      "outputs": [
        {
          "output_type": "stream",
          "text": [
            "Cross validation\n",
            "COMPILE...\n",
            "...COMPILED\n",
            "FIT\n",
            "Epoch 1/20\n",
            "1350/1350 [==============================] - 10s 5ms/step - loss: 0.6959 - accuracy: 0.5040 - val_loss: 0.6949 - val_accuracy: 0.4960\n",
            "INFO:tensorflow:Assets written to: /content/drive/My Drive/data/JUNK2.cv.1.best/assets\n",
            "Epoch 2/20\n",
            "1350/1350 [==============================] - 7s 5ms/step - loss: 0.6949 - accuracy: 0.5042 - val_loss: 0.6931 - val_accuracy: 0.5163\n",
            "INFO:tensorflow:Assets written to: /content/drive/My Drive/data/JUNK2.cv.1.best/assets\n",
            "Epoch 3/20\n",
            "1350/1350 [==============================] - 7s 5ms/step - loss: 0.6940 - accuracy: 0.5021 - val_loss: 0.6936 - val_accuracy: 0.4960\n",
            "Epoch 4/20\n",
            "1350/1350 [==============================] - 7s 5ms/step - loss: 0.6941 - accuracy: 0.5011 - val_loss: 0.6936 - val_accuracy: 0.4960\n",
            "Epoch 5/20\n",
            "1350/1350 [==============================] - 7s 5ms/step - loss: 0.6940 - accuracy: 0.5015 - val_loss: 0.6931 - val_accuracy: 0.5033\n",
            "Epoch 6/20\n",
            "1350/1350 [==============================] - 7s 5ms/step - loss: 0.6937 - accuracy: 0.5040 - val_loss: 0.6931 - val_accuracy: 0.5040\n",
            "Epoch 7/20\n",
            "1350/1350 [==============================] - 7s 5ms/step - loss: 0.6927 - accuracy: 0.5102 - val_loss: 0.6802 - val_accuracy: 0.5335\n",
            "INFO:tensorflow:Assets written to: /content/drive/My Drive/data/JUNK2.cv.1.best/assets\n",
            "Epoch 8/20\n",
            "1350/1350 [==============================] - 7s 5ms/step - loss: 0.6641 - accuracy: 0.6014 - val_loss: 0.6508 - val_accuracy: 0.6354\n",
            "INFO:tensorflow:Assets written to: /content/drive/My Drive/data/JUNK2.cv.1.best/assets\n",
            "Epoch 9/20\n",
            "1350/1350 [==============================] - 7s 5ms/step - loss: 0.6293 - accuracy: 0.6537 - val_loss: 0.5878 - val_accuracy: 0.6998\n",
            "INFO:tensorflow:Assets written to: /content/drive/My Drive/data/JUNK2.cv.1.best/assets\n",
            "Epoch 10/20\n",
            "1350/1350 [==============================] - 7s 5ms/step - loss: 0.5945 - accuracy: 0.6915 - val_loss: 0.5633 - val_accuracy: 0.7231\n",
            "INFO:tensorflow:Assets written to: /content/drive/My Drive/data/JUNK2.cv.1.best/assets\n",
            "Epoch 11/20\n",
            "1350/1350 [==============================] - 7s 5ms/step - loss: 0.5742 - accuracy: 0.7105 - val_loss: 0.5600 - val_accuracy: 0.7258\n",
            "INFO:tensorflow:Assets written to: /content/drive/My Drive/data/JUNK2.cv.1.best/assets\n",
            "Epoch 12/20\n",
            "1350/1350 [==============================] - 7s 5ms/step - loss: 0.5678 - accuracy: 0.7160 - val_loss: 0.5566 - val_accuracy: 0.7252\n",
            "Epoch 13/20\n",
            "1350/1350 [==============================] - 7s 5ms/step - loss: 0.5648 - accuracy: 0.7173 - val_loss: 0.5559 - val_accuracy: 0.7212\n",
            "Epoch 14/20\n",
            "1350/1350 [==============================] - 7s 5ms/step - loss: 0.5611 - accuracy: 0.7225 - val_loss: 0.5570 - val_accuracy: 0.7262\n",
            "INFO:tensorflow:Assets written to: /content/drive/My Drive/data/JUNK2.cv.1.best/assets\n",
            "Epoch 15/20\n",
            "1350/1350 [==============================] - 7s 5ms/step - loss: 0.5583 - accuracy: 0.7262 - val_loss: 0.5603 - val_accuracy: 0.7208\n",
            "Epoch 16/20\n",
            "1350/1350 [==============================] - 7s 5ms/step - loss: 0.5516 - accuracy: 0.7283 - val_loss: 0.5566 - val_accuracy: 0.7256\n",
            "Epoch 17/20\n",
            "1350/1350 [==============================] - 7s 5ms/step - loss: 0.5516 - accuracy: 0.7301 - val_loss: 0.5497 - val_accuracy: 0.7308\n",
            "INFO:tensorflow:Assets written to: /content/drive/My Drive/data/JUNK2.cv.1.best/assets\n",
            "Epoch 18/20\n",
            "1350/1350 [==============================] - 7s 5ms/step - loss: 0.5466 - accuracy: 0.7313 - val_loss: 0.5472 - val_accuracy: 0.7333\n",
            "INFO:tensorflow:Assets written to: /content/drive/My Drive/data/JUNK2.cv.1.best/assets\n",
            "Epoch 19/20\n",
            "1350/1350 [==============================] - 7s 5ms/step - loss: 0.5421 - accuracy: 0.7368 - val_loss: 0.5400 - val_accuracy: 0.7435\n",
            "INFO:tensorflow:Assets written to: /content/drive/My Drive/data/JUNK2.cv.1.best/assets\n",
            "Epoch 20/20\n",
            "1350/1350 [==============================] - 7s 5ms/step - loss: 0.5315 - accuracy: 0.7486 - val_loss: 0.5362 - val_accuracy: 0.7421\n",
            "Fold 1, 20 epochs, 162 sec\n"
          ],
          "name": "stdout"
        },
        {
          "output_type": "display_data",
          "data": {
            "image/png": "[encoded data removed]",
            "text/plain": [
              "<Figure size 576x360 with 1 Axes>"
            ]
          },
          "metadata": {
            "tags": [],
            "needs_background": "light"
          }
        },
        {
          "output_type": "stream",
          "text": [
            "accuracy: 78.60%\n",
            "COMPILE...\n",
            "...COMPILED\n",
            "FIT\n",
            "Epoch 1/20\n",
            "1350/1350 [==============================] - 8s 5ms/step - loss: 0.6926 - accuracy: 0.5227 - val_loss: 0.6470 - val_accuracy: 0.6254\n",
            "INFO:tensorflow:Assets written to: /content/drive/My Drive/data/JUNK2.cv.2.best/assets\n",
            "Epoch 2/20\n",
            "1350/1350 [==============================] - 7s 5ms/step - loss: 0.6402 - accuracy: 0.6354 - val_loss: 0.5988 - val_accuracy: 0.6837\n",
            "INFO:tensorflow:Assets written to: /content/drive/My Drive/data/JUNK2.cv.2.best/assets\n",
            "Epoch 3/20\n",
            "1350/1350 [==============================] - 7s 5ms/step - loss: 0.6129 - accuracy: 0.6720 - val_loss: 0.5940 - val_accuracy: 0.6877\n",
            "INFO:tensorflow:Assets written to: /content/drive/My Drive/data/JUNK2.cv.2.best/assets\n",
            "Epoch 4/20\n",
            "1350/1350 [==============================] - 7s 5ms/step - loss: 0.5924 - accuracy: 0.6946 - val_loss: 0.5723 - val_accuracy: 0.7077\n",
            "INFO:tensorflow:Assets written to: /content/drive/My Drive/data/JUNK2.cv.2.best/assets\n",
            "Epoch 5/20\n",
            "1350/1350 [==============================] - 7s 5ms/step - loss: 0.5752 - accuracy: 0.7087 - val_loss: 0.5571 - val_accuracy: 0.7212\n",
            "INFO:tensorflow:Assets written to: /content/drive/My Drive/data/JUNK2.cv.2.best/assets\n",
            "Epoch 6/20\n",
            "1350/1350 [==============================] - 7s 5ms/step - loss: 0.5618 - accuracy: 0.7173 - val_loss: 0.5655 - val_accuracy: 0.7256\n",
            "INFO:tensorflow:Assets written to: /content/drive/My Drive/data/JUNK2.cv.2.best/assets\n",
            "Epoch 7/20\n",
            "1350/1350 [==============================] - 7s 5ms/step - loss: 0.5482 - accuracy: 0.7304 - val_loss: 0.5630 - val_accuracy: 0.7217\n",
            "Epoch 8/20\n",
            "1350/1350 [==============================] - 7s 5ms/step - loss: 0.5358 - accuracy: 0.7426 - val_loss: 0.6168 - val_accuracy: 0.6567\n",
            "Epoch 9/20\n",
            "1350/1350 [==============================] - 7s 5ms/step - loss: 0.5303 - accuracy: 0.7458 - val_loss: 0.5546 - val_accuracy: 0.7283\n",
            "INFO:tensorflow:Assets written to: /content/drive/My Drive/data/JUNK2.cv.2.best/assets\n",
            "Epoch 10/20\n",
            "1350/1350 [==============================] - 7s 5ms/step - loss: 0.5162 - accuracy: 0.7567 - val_loss: 0.5571 - val_accuracy: 0.7254\n",
            "Epoch 11/20\n",
            "1350/1350 [==============================] - 7s 5ms/step - loss: 0.5005 - accuracy: 0.7645 - val_loss: 0.5520 - val_accuracy: 0.7354\n",
            "INFO:tensorflow:Assets written to: /content/drive/My Drive/data/JUNK2.cv.2.best/assets\n",
            "Epoch 12/20\n",
            "1350/1350 [==============================] - 7s 5ms/step - loss: 0.4913 - accuracy: 0.7723 - val_loss: 0.5507 - val_accuracy: 0.7444\n",
            "INFO:tensorflow:Assets written to: /content/drive/My Drive/data/JUNK2.cv.2.best/assets\n",
            "Epoch 13/20\n",
            "1350/1350 [==============================] - 7s 5ms/step - loss: 0.4784 - accuracy: 0.7851 - val_loss: 0.5533 - val_accuracy: 0.7327\n",
            "Epoch 14/20\n",
            "1350/1350 [==============================] - 7s 5ms/step - loss: 0.4680 - accuracy: 0.7912 - val_loss: 0.5297 - val_accuracy: 0.7517\n",
            "INFO:tensorflow:Assets written to: /content/drive/My Drive/data/JUNK2.cv.2.best/assets\n",
            "Epoch 15/20\n",
            "1350/1350 [==============================] - 7s 5ms/step - loss: 0.4592 - accuracy: 0.7986 - val_loss: 0.5277 - val_accuracy: 0.7527\n",
            "INFO:tensorflow:Assets written to: /content/drive/My Drive/data/JUNK2.cv.2.best/assets\n",
            "Epoch 16/20\n",
            "1350/1350 [==============================] - 7s 5ms/step - loss: 0.4549 - accuracy: 0.8004 - val_loss: 0.5143 - val_accuracy: 0.7675\n",
            "INFO:tensorflow:Assets written to: /content/drive/My Drive/data/JUNK2.cv.2.best/assets\n",
            "Epoch 17/20\n",
            "1350/1350 [==============================] - 7s 5ms/step - loss: 0.4359 - accuracy: 0.8123 - val_loss: 0.5060 - val_accuracy: 0.7763\n",
            "INFO:tensorflow:Assets written to: /content/drive/My Drive/data/JUNK2.cv.2.best/assets\n",
            "Epoch 18/20\n",
            "1350/1350 [==============================] - 7s 5ms/step - loss: 0.4318 - accuracy: 0.8157 - val_loss: 0.4836 - val_accuracy: 0.7867\n",
            "INFO:tensorflow:Assets written to: /content/drive/My Drive/data/JUNK2.cv.2.best/assets\n",
            "Epoch 19/20\n",
            "1350/1350 [==============================] - 7s 5ms/step - loss: 0.4183 - accuracy: 0.8264 - val_loss: 0.4682 - val_accuracy: 0.8033\n",
            "INFO:tensorflow:Assets written to: /content/drive/My Drive/data/JUNK2.cv.2.best/assets\n",
            "Epoch 20/20\n",
            "1350/1350 [==============================] - 7s 5ms/step - loss: 0.4038 - accuracy: 0.8345 - val_loss: 0.4570 - val_accuracy: 0.8102\n",
            "INFO:tensorflow:Assets written to: /content/drive/My Drive/data/JUNK2.cv.2.best/assets\n",
            "Fold 2, 20 epochs, 177 sec\n"
          ],
          "name": "stdout"
        },
        {
          "output_type": "display_data",
          "data": {
            "image/png": "[encoded data removed]",
            "text/plain": [
              "<Figure size 576x360 with 1 Axes>"
            ]
          },
          "metadata": {
            "tags": [],
            "needs_background": "light"
          }
        },
        {
          "output_type": "stream",
          "text": [
            "accuracy: 88.62%\n",
            "COMPILE...\n",
            "...COMPILED\n",
            "FIT\n",
            "Epoch 1/20\n",
            "1350/1350 [==============================] - 8s 5ms/step - loss: 0.6959 - accuracy: 0.4977 - val_loss: 0.6932 - val_accuracy: 0.4913\n",
            "INFO:tensorflow:Assets written to: /content/drive/My Drive/data/JUNK2.cv.3.best/assets\n",
            "Epoch 2/20\n",
            "1350/1350 [==============================] - 7s 5ms/step - loss: 0.6940 - accuracy: 0.4969 - val_loss: 0.6930 - val_accuracy: 0.5088\n",
            "INFO:tensorflow:Assets written to: /content/drive/My Drive/data/JUNK2.cv.3.best/assets\n",
            "Epoch 3/20\n",
            "1350/1350 [==============================] - 7s 5ms/step - loss: 0.6941 - accuracy: 0.4998 - val_loss: 0.6931 - val_accuracy: 0.5083\n",
            "Epoch 4/20\n",
            "1350/1350 [==============================] - 7s 5ms/step - loss: 0.6937 - accuracy: 0.5029 - val_loss: 0.6930 - val_accuracy: 0.5088\n",
            "Epoch 5/20\n",
            "1350/1350 [==============================] - 7s 5ms/step - loss: 0.6936 - accuracy: 0.4976 - val_loss: 0.6931 - val_accuracy: 0.5088\n",
            "Epoch 6/20\n",
            "1350/1350 [==============================] - 7s 5ms/step - loss: 0.6936 - accuracy: 0.5061 - val_loss: 0.6930 - val_accuracy: 0.5088\n",
            "Epoch 7/20\n",
            "1350/1350 [==============================] - 7s 5ms/step - loss: 0.6935 - accuracy: 0.5005 - val_loss: 0.6932 - val_accuracy: 0.4913\n",
            "Epoch 8/20\n",
            "1350/1350 [==============================] - 7s 5ms/step - loss: 0.6933 - accuracy: 0.5067 - val_loss: 0.6933 - val_accuracy: 0.4913\n",
            "Epoch 9/20\n",
            "1350/1350 [==============================] - 7s 5ms/step - loss: 0.6937 - accuracy: 0.4964 - val_loss: 0.6930 - val_accuracy: 0.5088\n",
            "Epoch 10/20\n",
            "1350/1350 [==============================] - 7s 5ms/step - loss: 0.6936 - accuracy: 0.4992 - val_loss: 0.6931 - val_accuracy: 0.5088\n",
            "Epoch 11/20\n",
            "1350/1350 [==============================] - 7s 5ms/step - loss: 0.6933 - accuracy: 0.5083 - val_loss: 0.6936 - val_accuracy: 0.4913\n",
            "Epoch 12/20\n",
            "1350/1350 [==============================] - 7s 5ms/step - loss: 0.6937 - accuracy: 0.4935 - val_loss: 0.6931 - val_accuracy: 0.5088\n",
            "Epoch 13/20\n",
            "1350/1350 [==============================] - 7s 5ms/step - loss: 0.6936 - accuracy: 0.4967 - val_loss: 0.6940 - val_accuracy: 0.4913\n",
            "Epoch 14/20\n",
            "1350/1350 [==============================] - 7s 5ms/step - loss: 0.6936 - accuracy: 0.4962 - val_loss: 0.6933 - val_accuracy: 0.4913\n",
            "Epoch 15/20\n",
            "1350/1350 [==============================] - 7s 5ms/step - loss: 0.6934 - accuracy: 0.5002 - val_loss: 0.6931 - val_accuracy: 0.5088\n",
            "Epoch 16/20\n",
            "1350/1350 [==============================] - 7s 5ms/step - loss: 0.6934 - accuracy: 0.4971 - val_loss: 0.6931 - val_accuracy: 0.5088\n",
            "Epoch 17/20\n",
            "1350/1350 [==============================] - 7s 5ms/step - loss: 0.6935 - accuracy: 0.4997 - val_loss: 0.6930 - val_accuracy: 0.5088\n",
            "Epoch 18/20\n",
            "1350/1350 [==============================] - 7s 5ms/step - loss: 0.6934 - accuracy: 0.5026 - val_loss: 0.6930 - val_accuracy: 0.5088\n",
            "Epoch 19/20\n",
            "1350/1350 [==============================] - 7s 5ms/step - loss: 0.6933 - accuracy: 0.5021 - val_loss: 0.6930 - val_accuracy: 0.5088\n",
            "Epoch 20/20\n",
            "1350/1350 [==============================] - 7s 5ms/step - loss: 0.6933 - accuracy: 0.5035 - val_loss: 0.6930 - val_accuracy: 0.5088\n",
            "Fold 3, 20 epochs, 144 sec\n"
          ],
          "name": "stdout"
        },
        {
          "output_type": "display_data",
          "data": {
            "image/png": "[encoded data removed]",
            "text/plain": [
              "<Figure size 576x360 with 1 Axes>"
            ]
          },
          "metadata": {
            "tags": [],
            "needs_background": "light"
          }
        },
        {
          "output_type": "stream",
          "text": [
            "accuracy: 50.00%\n",
            "COMPILE...\n",
            "...COMPILED\n",
            "FIT\n",
            "Epoch 1/20\n",
            "1350/1350 [==============================] - 9s 6ms/step - loss: 0.6823 - accuracy: 0.5578 - val_loss: 0.6340 - val_accuracy: 0.6352\n",
            "INFO:tensorflow:Assets written to: /content/drive/My Drive/data/JUNK2.cv.4.best/assets\n",
            "Epoch 2/20\n",
            "1350/1350 [==============================] - 7s 5ms/step - loss: 0.6275 - accuracy: 0.6521 - val_loss: 0.6065 - val_accuracy: 0.6735\n",
            "INFO:tensorflow:Assets written to: /content/drive/My Drive/data/JUNK2.cv.4.best/assets\n",
            "Epoch 3/20\n",
            "1350/1350 [==============================] - 7s 5ms/step - loss: 0.6017 - accuracy: 0.6817 - val_loss: 0.5803 - val_accuracy: 0.7054\n",
            "INFO:tensorflow:Assets written to: /content/drive/My Drive/data/JUNK2.cv.4.best/assets\n",
            "Epoch 4/20\n",
            "1350/1350 [==============================] - 7s 5ms/step - loss: 0.5815 - accuracy: 0.7036 - val_loss: 0.5701 - val_accuracy: 0.7102\n",
            "INFO:tensorflow:Assets written to: /content/drive/My Drive/data/JUNK2.cv.4.best/assets\n",
            "Epoch 5/20\n",
            "1350/1350 [==============================] - 7s 6ms/step - loss: 0.5699 - accuracy: 0.7107 - val_loss: 0.5732 - val_accuracy: 0.7077\n",
            "Epoch 6/20\n",
            "1350/1350 [==============================] - 7s 5ms/step - loss: 0.5588 - accuracy: 0.7225 - val_loss: 0.5533 - val_accuracy: 0.7252\n",
            "INFO:tensorflow:Assets written to: /content/drive/My Drive/data/JUNK2.cv.4.best/assets\n",
            "Epoch 7/20\n",
            "1350/1350 [==============================] - 7s 5ms/step - loss: 0.5443 - accuracy: 0.7339 - val_loss: 0.5602 - val_accuracy: 0.7167\n",
            "Epoch 8/20\n",
            "1350/1350 [==============================] - 7s 5ms/step - loss: 0.5330 - accuracy: 0.7439 - val_loss: 0.5646 - val_accuracy: 0.7235\n",
            "Epoch 9/20\n",
            "1350/1350 [==============================] - 7s 5ms/step - loss: 0.5232 - accuracy: 0.7472 - val_loss: 0.5573 - val_accuracy: 0.7231\n",
            "Epoch 10/20\n",
            "1350/1350 [==============================] - 7s 5ms/step - loss: 0.5114 - accuracy: 0.7596 - val_loss: 0.5527 - val_accuracy: 0.7283\n",
            "INFO:tensorflow:Assets written to: /content/drive/My Drive/data/JUNK2.cv.4.best/assets\n",
            "Epoch 11/20\n",
            "1350/1350 [==============================] - 7s 5ms/step - loss: 0.5063 - accuracy: 0.7628 - val_loss: 0.5566 - val_accuracy: 0.7281\n",
            "Epoch 12/20\n",
            "1350/1350 [==============================] - 7s 5ms/step - loss: 0.4990 - accuracy: 0.7660 - val_loss: 0.5639 - val_accuracy: 0.7229\n",
            "Epoch 13/20\n",
            "1350/1350 [==============================] - 7s 5ms/step - loss: 0.4881 - accuracy: 0.7757 - val_loss: 0.5616 - val_accuracy: 0.7252\n",
            "Epoch 14/20\n",
            "1350/1350 [==============================] - 7s 5ms/step - loss: 0.4858 - accuracy: 0.7768 - val_loss: 0.5611 - val_accuracy: 0.7327\n",
            "INFO:tensorflow:Assets written to: /content/drive/My Drive/data/JUNK2.cv.4.best/assets\n",
            "Epoch 15/20\n",
            "1350/1350 [==============================] - 7s 5ms/step - loss: 0.4805 - accuracy: 0.7808 - val_loss: 0.5722 - val_accuracy: 0.7188\n",
            "Epoch 16/20\n",
            "1350/1350 [==============================] - 7s 5ms/step - loss: 0.4756 - accuracy: 0.7864 - val_loss: 0.5753 - val_accuracy: 0.7219\n",
            "Epoch 17/20\n",
            "1350/1350 [==============================] - 7s 5ms/step - loss: 0.4641 - accuracy: 0.7920 - val_loss: 0.5696 - val_accuracy: 0.7208\n",
            "Epoch 18/20\n",
            "1350/1350 [==============================] - 7s 5ms/step - loss: 0.4671 - accuracy: 0.7925 - val_loss: 0.5708 - val_accuracy: 0.7206\n",
            "Epoch 19/20\n",
            "1350/1350 [==============================] - 7s 5ms/step - loss: 0.4556 - accuracy: 0.7970 - val_loss: 0.5758 - val_accuracy: 0.7192\n",
            "Epoch 20/20\n",
            "1350/1350 [==============================] - 7s 6ms/step - loss: 0.4540 - accuracy: 0.8008 - val_loss: 0.5910 - val_accuracy: 0.7108\n",
            "Fold 4, 20 epochs, 162 sec\n"
          ],
          "name": "stdout"
        },
        {
          "output_type": "display_data",
          "data": {
            "image/png": "[encoded data removed]",
            "text/plain": [
              "<Figure size 576x360 with 1 Axes>"
            ]
          },
          "metadata": {
            "tags": [],
            "needs_background": "light"
          }
        },
        {
          "output_type": "stream",
          "text": [
            "accuracy: 77.18%\n",
            "COMPILE...\n",
            "...COMPILED\n",
            "FIT\n",
            "Epoch 1/20\n",
            "1350/1350 [==============================] - 8s 5ms/step - loss: 0.6957 - accuracy: 0.4996 - val_loss: 0.6932 - val_accuracy: 0.5060\n",
            "INFO:tensorflow:Assets written to: /content/drive/My Drive/data/JUNK2.cv.5.best/assets\n",
            "Epoch 2/20\n",
            "1350/1350 [==============================] - 7s 5ms/step - loss: 0.6943 - accuracy: 0.4994 - val_loss: 0.6935 - val_accuracy: 0.5060\n",
            "Epoch 3/20\n",
            "1350/1350 [==============================] - 7s 5ms/step - loss: 0.6944 - accuracy: 0.5002 - val_loss: 0.6931 - val_accuracy: 0.5060\n",
            "Epoch 4/20\n",
            "1350/1350 [==============================] - 7s 5ms/step - loss: 0.6939 - accuracy: 0.4995 - val_loss: 0.6933 - val_accuracy: 0.4940\n",
            "Epoch 5/20\n",
            "1350/1350 [==============================] - 7s 6ms/step - loss: 0.6936 - accuracy: 0.5049 - val_loss: 0.6944 - val_accuracy: 0.4940\n",
            "Epoch 6/20\n",
            "1350/1350 [==============================] - 7s 5ms/step - loss: 0.6936 - accuracy: 0.5019 - val_loss: 0.6931 - val_accuracy: 0.5073\n",
            "INFO:tensorflow:Assets written to: /content/drive/My Drive/data/JUNK2.cv.5.best/assets\n",
            "Epoch 7/20\n",
            "1350/1350 [==============================] - 7s 5ms/step - loss: 0.6937 - accuracy: 0.4984 - val_loss: 0.6935 - val_accuracy: 0.4940\n",
            "Epoch 8/20\n",
            "1350/1350 [==============================] - 7s 5ms/step - loss: 0.6942 - accuracy: 0.5042 - val_loss: 0.6932 - val_accuracy: 0.4940\n",
            "Epoch 9/20\n",
            "1350/1350 [==============================] - 7s 5ms/step - loss: 0.6937 - accuracy: 0.4935 - val_loss: 0.6931 - val_accuracy: 0.5060\n",
            "Epoch 10/20\n",
            "1350/1350 [==============================] - 7s 5ms/step - loss: 0.6935 - accuracy: 0.5016 - val_loss: 0.6932 - val_accuracy: 0.4940\n",
            "Epoch 11/20\n",
            "1350/1350 [==============================] - 7s 5ms/step - loss: 0.6935 - accuracy: 0.4994 - val_loss: 0.6931 - val_accuracy: 0.5060\n",
            "Epoch 12/20\n",
            "1350/1350 [==============================] - 7s 5ms/step - loss: 0.6933 - accuracy: 0.5050 - val_loss: 0.6934 - val_accuracy: 0.4940\n",
            "Epoch 13/20\n",
            "1350/1350 [==============================] - 7s 5ms/step - loss: 0.6933 - accuracy: 0.5008 - val_loss: 0.6948 - val_accuracy: 0.4940\n",
            "Epoch 14/20\n",
            "1350/1350 [==============================] - 7s 5ms/step - loss: 0.6934 - accuracy: 0.5022 - val_loss: 0.6931 - val_accuracy: 0.5060\n",
            "Epoch 15/20\n",
            "1350/1350 [==============================] - 7s 5ms/step - loss: 0.6934 - accuracy: 0.4982 - val_loss: 0.6937 - val_accuracy: 0.4940\n",
            "Epoch 16/20\n",
            "1350/1350 [==============================] - 7s 5ms/step - loss: 0.6935 - accuracy: 0.5021 - val_loss: 0.6934 - val_accuracy: 0.4940\n",
            "Epoch 17/20\n",
            "1350/1350 [==============================] - 7s 5ms/step - loss: 0.6934 - accuracy: 0.5018 - val_loss: 0.6931 - val_accuracy: 0.5060\n",
            "Epoch 18/20\n",
            "1350/1350 [==============================] - 7s 5ms/step - loss: 0.6935 - accuracy: 0.4954 - val_loss: 0.6931 - val_accuracy: 0.5060\n",
            "Epoch 19/20\n",
            "1350/1350 [==============================] - 7s 5ms/step - loss: 0.6935 - accuracy: 0.4987 - val_loss: 0.6931 - val_accuracy: 0.5060\n",
            "Epoch 20/20\n",
            "1350/1350 [==============================] - 7s 5ms/step - loss: 0.6935 - accuracy: 0.5028 - val_loss: 0.6932 - val_accuracy: 0.4940\n",
            "Fold 5, 20 epochs, 147 sec\n"
          ],
          "name": "stdout"
        },
        {
          "output_type": "display_data",
          "data": {
            "image/png": "[encoded data removed]",
            "text/plain": [
              "<Figure size 576x360 with 1 Axes>"
            ]
          },
          "metadata": {
            "tags": [],
            "needs_background": "light"
          }
        },
        {
          "output_type": "stream",
          "text": [
            "accuracy: 50.03%\n",
            "\n",
            "5-way Cross Validation mean 68.89% (+/- 15.90%)\n",
            "Done\n"
          ],
          "name": "stdout"
        }
      ]
    },
    {
      "cell_type": "code",
      "metadata": {
        "id": "p4fh2GI8beMQ"
      },
      "source": [
        ""
      ],
      "execution_count": 10,
      "outputs": []
    },
    {
      "cell_type": "code",
      "metadata": {
        "colab": {
          "base_uri": "https://localhost:8080/"
        },
        "id": "1Z7Qi5wzWQd-",
        "outputId": "7d39a923-4c25-4675-fb3b-118ff09d82dd"
      },
      "source": [
        "from tensorflow.python.client import device_lib\r\n",
        "device_lib.list_local_devices()"
      ],
      "execution_count": 11,
      "outputs": [
        {
          "output_type": "execute_result",
          "data": {
            "text/plain": [
              "[name: \"/device:CPU:0\"\n",
              " device_type: \"CPU\"\n",
              " memory_limit: 268435456\n",
              " locality {\n",
              " }\n",
              " incarnation: 17762596485512731610, name: \"/device:GPU:0\"\n",
              " device_type: \"GPU\"\n",
              " memory_limit: 15507165056\n",
              " locality {\n",
              "   bus_id: 1\n",
              "   links {\n",
              "   }\n",
              " }\n",
              " incarnation: 8719331245147949228\n",
              " physical_device_desc: \"device: 0, name: Tesla V100-SXM2-16GB, pci bus id: 0000:00:04.0, compute capability: 7.0\"]"
            ]
          },
          "metadata": {
            "tags": []
          },
          "execution_count": 11
        }
      ]
    }
  ]
}