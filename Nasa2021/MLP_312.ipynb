{
 "cells": [
  {
   "cell_type": "markdown",
   "metadata": {
    "id": "ojm_6E9f9Kcf"
   },
   "source": [
    "# MLP 312\n",
    "Runs a pre-trained model.\n",
    "This does not need GPU. \n",
    "This requires that you run MLP_305 first -- takes about 5 min. \n",
    "This notebook is a modification of MLP_309.\n",
    "\n",
    "In this notebook, we move some Python code \n",
    "out of the notebook and into a module called tools. "
   ]
  },
  {
   "cell_type": "code",
   "execution_count": 1,
   "metadata": {
    "colab": {
     "base_uri": "https://localhost:8080/"
    },
    "id": "hh6XplUvC0j0",
    "outputId": "a67e6f39-6b36-4913-eb15-631ba002f62e"
   },
   "outputs": [],
   "source": [
    "NC_FILENAME='ncRNA.gc34.processed.fasta'\n",
    "PC_FILENAME='pcRNA.gc34.processed.fasta'\n",
    "MODEL_FILE='MLP305'   # load not save!\n",
    "DATAPATH=''\n",
    "\n",
    "try:\n",
    "    from google.colab import drive\n",
    "    IN_COLAB = True\n",
    "    PATH='/content/drive/'\n",
    "    drive.mount(PATH)\n",
    "    DATAPATH=PATH+'My Drive/data/'  # must end in \"/\"\n",
    "except:\n",
    "    IN_COLAB = False\n",
    "    DATAPATH='data/'  # must end in \"/\"\n",
    "NC_FILENAME = DATAPATH+NC_FILENAME\n",
    "PC_FILENAME = DATAPATH+PC_FILENAME\n",
    "MODEL_FILE=DATAPATH+MODEL_FILE\n",
    "\n",
    "EPOCHS=200\n",
    "SPLITS=5\n",
    "K=3\n",
    "VOCABULARY_SIZE=4**K+1   # e.g. K=3 => 64 DNA K-mers + 'NNN'\n",
    "EMBED_DIMEN=16\n",
    "NEURONS=16"
   ]
  },
  {
   "cell_type": "markdown",
   "metadata": {
    "id": "VQQ0r-G0Q-Pn"
   },
   "source": [
    "Load our own tools module."
   ]
  },
  {
   "cell_type": "code",
   "execution_count": 2,
   "metadata": {
    "colab": {
     "base_uri": "https://localhost:8080/"
    },
    "id": "ufSlYIvqXWkE",
    "outputId": "871f12f4-e776-4833-92ef-0b0bc0a5801d"
   },
   "outputs": [
    {
     "name": "stdout",
     "output_type": "stream",
     "text": [
      "Yahoo!\n",
      "['__builtins__', '__cached__', '__doc__', '__file__', '__loader__', '__name__', '__package__', '__spec__', 'load_fasta', 'make_frequencies', 'make_kmer_table', 'make_kmers', 'np', 'pd', 'separate_X_and_y', 'strings_to_vectors', 'yahoo']\n"
     ]
    }
   ],
   "source": [
    "GITHUB = True\n",
    "if GITHUB:\n",
    "    #!pip install requests  # Uncomment this if necessary. Seems to be pre-installed.\n",
    "    import requests\n",
    "    r = requests.get('https://raw.githubusercontent.com/ShepherdCode/ShepherdML/master/Strings/tools_fasta.py')\n",
    "    with open('tools_fasta.py', 'w') as f:\n",
    "        f.write(r.text)\n",
    "    # TO DO: delete the file after import\n",
    "import tools_fasta as tools\n",
    "tools.yahoo()  # If this prints \"Yahoo!\" the the import was successful.\n",
    "\n",
    "TOOLS_CHANGED = False   # set to True to re-run with a new version of tools\n",
    "if TOOLS_CHANGED:\n",
    "  from importlib import reload \n",
    "  tools=reload(tools)\n",
    "  print(dir(tools))   # run this to see EVERYTHING in the tools module"
   ]
  },
  {
   "cell_type": "markdown",
   "metadata": {
    "id": "8lM-chTcRByR"
   },
   "source": [
    "Load keras and tensorflow etc."
   ]
  },
  {
   "cell_type": "code",
   "execution_count": 3,
   "metadata": {
    "id": "VQY7aTj29Kch"
   },
   "outputs": [],
   "source": [
    "import numpy as np\n",
    "import pandas as pd\n",
    "import matplotlib.pyplot as plt\n",
    "from sklearn.model_selection import ShuffleSplit\n",
    "from sklearn.model_selection import cross_val_score\n",
    "from sklearn.model_selection import RepeatedKFold\n",
    "from sklearn.model_selection import StratifiedKFold\n",
    "import tensorflow as tf\n",
    "from tensorflow import keras\n",
    "#from tensorflow.keras.models import load_model\n",
    "#from keras.wrappers.scikit_learn import KerasRegressor\n",
    "from keras.models import Sequential\n",
    "from keras.layers import Bidirectional\n",
    "from keras.layers import GRU\n",
    "from keras.layers import Dense\n",
    "from keras.layers import LayerNormalization\n",
    "import time\n",
    "dt='float32'  # Use 32 bit data types to save on RAM\n",
    "tf.keras.backend.set_floatx(dt)"
   ]
  },
  {
   "cell_type": "markdown",
   "metadata": {
    "id": "j7jcg6Wl9Kc2"
   },
   "source": [
    "Define the model"
   ]
  },
  {
   "cell_type": "code",
   "execution_count": 4,
   "metadata": {
    "id": "qLFNO1Xa9Kc3"
   },
   "outputs": [],
   "source": [
    "def compile_model(model):\n",
    "    adam_default_learn_rate = 0.001\n",
    "    schedule = tf.keras.optimizers.schedules.ExponentialDecay(\n",
    "        initial_learning_rate = adam_default_learn_rate*10,\n",
    "        decay_steps=10000, decay_rate=0.99, staircase=True)\n",
    "    opt = tf.keras.optimizers.Adam(learning_rate=schedule)\n",
    "    bc=tf.keras.losses.BinaryCrossentropy(from_logits=False)\n",
    "    print(\"COMPILE...\")\n",
    "    model.compile(loss=bc, optimizer=opt, metrics=[\"accuracy\"])\n",
    "    print(\"...COMPILED\")\n",
    "    return model\n",
    "\n",
    "def build_model(maxlen):\n",
    "    act=\"elu\"\n",
    "    dense1_layer = keras.layers.Dense(NEURONS, activation=act,dtype=dt,\n",
    "                                      input_dim=VOCABULARY_SIZE)\n",
    "    dense2_layer = keras.layers.Dense(NEURONS, activation=act,dtype=dt)\n",
    "    output_layer = keras.layers.Dense(1,  activation=\"sigmoid\",dtype=dt)\n",
    "    mlp = keras.models.Sequential()\n",
    "    mlp.add(dense1_layer)\n",
    "    mlp.add(dense2_layer)\n",
    "    mlp.add(output_layer)\n",
    "    mlpc = compile_model(mlp)\n",
    "    return mlpc"
   ]
  },
  {
   "cell_type": "markdown",
   "metadata": {
    "id": "WV6k-xOm9Kcn"
   },
   "source": [
    "Partition sequences"
   ]
  },
  {
   "cell_type": "code",
   "execution_count": 5,
   "metadata": {
    "id": "jaXyySyO9Kcz"
   },
   "outputs": [],
   "source": [
    "def make_slice(data_set,min_len,max_len):\n",
    "    slice = data_set.query('seqlen <= '+str(max_len)+' & seqlen>= '+str(min_len))\n",
    "    return slice"
   ]
  },
  {
   "cell_type": "markdown",
   "metadata": {
    "id": "LdIS2utq9Kc9"
   },
   "source": [
    "## Cross validation"
   ]
  },
  {
   "cell_type": "code",
   "execution_count": 6,
   "metadata": {
    "id": "BVo4tbB_9Kc-"
   },
   "outputs": [],
   "source": [
    "from sklearn.metrics import confusion_matrix\n",
    "def do_evaluation(X,y):\n",
    "    cv_scores = []\n",
    "    fold=1\n",
    "    while fold<=5:\n",
    "        X_valid=X\n",
    "        y_valid=y \n",
    "        bestname=MODEL_FILE+\".cv.\"+str(fold)+\".best\"\n",
    "        #bestname='/Users/jasonmiller/Source/ShepherdML/Nasa2021/'+bestname\n",
    "        #print(bestname)\n",
    "        best_model=keras.models.load_model(bestname)\n",
    "        scores = best_model.evaluate(X_valid, y_valid, verbose=0)\n",
    "        #print(\"%s: %.2f%%\" % (best_model.metrics_names[1], scores[1]*100))\n",
    "        print(\"%.2f%% \"%(scores[1]*100), end=' ')\n",
    "        cv_scores.append(scores[1] * 100) \n",
    "\n",
    "        y_pred = best_model.predict(X_valid)\n",
    "        y_pred = [1 if n >= 0.5 else 0 for n in y_pred]\n",
    "        cm=confusion_matrix(y_valid,y_pred)\n",
    "        print(\"confusion\")\n",
    "        print(cm)\n",
    "\n",
    "        fold += 1\n",
    "    print()\n",
    "    print(\"mean %.2f%% (+/- %.2f%%)\" % (np.mean(cv_scores), np.std(cv_scores)))"
   ]
  },
  {
   "cell_type": "markdown",
   "metadata": {
    "id": "qd3Wj_vI9KdP"
   },
   "source": [
    "## Train on RNA lengths 200-1Kb"
   ]
  },
  {
   "cell_type": "code",
   "execution_count": 7,
   "metadata": {
    "colab": {
     "base_uri": "https://localhost:8080/",
     "height": 425
    },
    "id": "f8fNo6sn9KdH",
    "outputId": "443b8bb9-d251-43d4-fa92-eeb8e3b0a7f8"
   },
   "outputs": [
    {
     "name": "stdout",
     "output_type": "stream",
     "text": [
      "Load data from files.\n",
      "Ready: train_set\n",
      "Data prep\n",
      "Data reshape\n",
      "Ready\n"
     ]
    }
   ],
   "source": [
    "MINLEN=200\n",
    "MAXLEN=1000\n",
    "print(\"Load data from files.\")\n",
    "nc_seq=tools.load_fasta(NC_FILENAME,0)\n",
    "pc_seq=tools.load_fasta(PC_FILENAME,1)\n",
    "train_set=pd.concat((nc_seq,pc_seq),axis=0)\n",
    "nc_seq=None\n",
    "pc_seq=None\n",
    "print(\"Ready: train_set\")\n",
    "print (\"Data prep\")\n",
    "subset=make_slice(train_set,MINLEN,MAXLEN)# One array to two: X and y\n",
    "print (\"Data reshape\")\n",
    "(X_train,y_train)=tools.make_kmers(K,MAXLEN,subset)\n",
    "X_train=tools.make_frequencies(K,X_train)\n",
    "print(\"Ready\")"
   ]
  },
  {
   "cell_type": "code",
   "execution_count": 8,
   "metadata": {
    "id": "mQ8eW5Rg9KdQ"
   },
   "outputs": [
    {
     "name": "stdout",
     "output_type": "stream",
     "text": [
      "Evaluation\n",
      "85.45%  confusion\n",
      "[[9720  603]\n",
      " [1740 4041]]\n",
      "86.36%  confusion\n",
      "[[9578  745]\n",
      " [1452 4329]]\n",
      "85.90%  confusion\n",
      "[[9614  709]\n",
      " [1561 4220]]\n",
      "85.97%  confusion\n",
      "[[9239 1084]\n",
      " [1176 4605]]\n",
      "86.62%  confusion\n",
      "[[9558  765]\n",
      " [1389 4392]]\n",
      "\n",
      "mean 86.06% (+/- 0.40%)\n",
      "Done\n"
     ]
    }
   ],
   "source": [
    "print (\"Evaluation\")\n",
    "do_evaluation(X_train,y_train)  \n",
    "print (\"Done\")"
   ]
  },
  {
   "cell_type": "code",
   "execution_count": null,
   "metadata": {
    "id": "jN0K-1e2g4WN"
   },
   "outputs": [],
   "source": []
  },
  {
   "cell_type": "code",
   "execution_count": null,
   "metadata": {
    "id": "E37va5UZg4WQ"
   },
   "outputs": [],
   "source": []
  }
 ],
 "metadata": {
  "colab": {
   "collapsed_sections": [],
   "name": "MLP_312.ipynb",
   "provenance": []
  },
  "kernelspec": {
   "display_name": "Python 3",
   "language": "python",
   "name": "python3"
  },
  "language_info": {
   "codemirror_mode": {
    "name": "ipython",
    "version": 3
   },
   "file_extension": ".py",
   "mimetype": "text/x-python",
   "name": "python",
   "nbconvert_exporter": "python",
   "pygments_lexer": "ipython3",
   "version": "3.8.3"
  }
 },
 "nbformat": 4,
 "nbformat_minor": 1
}
