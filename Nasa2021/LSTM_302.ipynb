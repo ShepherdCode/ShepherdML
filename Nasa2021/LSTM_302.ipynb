{
  "nbformat": 4,
  "nbformat_minor": 0,
  "metadata": {
    "accelerator": "GPU",
    "colab": {
      "name": "LSTM_302.ipynb",
      "provenance": [],
      "collapsed_sections": []
    },
    "kernelspec": {
      "display_name": "Python 3",
      "language": "python",
      "name": "python3"
    },
    "language_info": {
      "codemirror_mode": {
        "name": "ipython",
        "version": 3
      },
      "file_extension": ".py",
      "mimetype": "text/x-python",
      "name": "python",
      "nbconvert_exporter": "python",
      "pygments_lexer": "ipython3",
      "version": "3.8.3"
    }
  },
  "cells": [
    {
      "cell_type": "markdown",
      "metadata": {
        "id": "ojm_6E9f9Kcf"
      },
      "source": [
        "# LSTM 302\n",
        "Start with LSTM 201 and modify it to use our updated code infrastructure."
      ]
    },
    {
      "cell_type": "code",
      "metadata": {
        "colab": {
          "base_uri": "https://localhost:8080/"
        },
        "id": "hh6XplUvC0j0",
        "outputId": "bd80fd1b-f47e-4ef9-e1de-c5af808c6099"
      },
      "source": [
        "NC_FILENAME='ncRNA.gc34.processed.fasta'\n",
        "PC_FILENAME='pcRNA.gc34.processed.fasta'\n",
        "MODEL_FILE='LSTM302'   \n",
        "DATAPATH=''\n",
        "\n",
        "try:\n",
        "    from google.colab import drive\n",
        "    IN_COLAB = True\n",
        "    PATH='/content/drive/'\n",
        "    drive.mount(PATH)\n",
        "    DATAPATH=PATH+'My Drive/data/'  # must end in \"/\"\n",
        "except:\n",
        "    IN_COLAB = False\n",
        "    DATAPATH='data/'  # must end in \"/\"\n",
        "NC_FILENAME = DATAPATH+NC_FILENAME\n",
        "PC_FILENAME = DATAPATH+PC_FILENAME\n",
        "MODEL_FILE=DATAPATH+MODEL_FILE\n",
        "\n",
        "EPOCHS=200\n",
        "SPLITS=5\n",
        "K=3\n",
        "VOCABULARY_SIZE=4**K+1   # e.g. K=3 => 64 DNA K-mers + 'NNN'\n",
        "EMBED_DIMEN=16\n",
        "NEURONS=16\n",
        "DROP=0.25\n",
        "ACT=\"tanh\""
      ],
      "execution_count": 1,
      "outputs": [
        {
          "output_type": "stream",
          "text": [
            "Mounted at /content/drive/\n"
          ],
          "name": "stdout"
        }
      ]
    },
    {
      "cell_type": "code",
      "metadata": {
        "colab": {
          "base_uri": "https://localhost:8080/"
        },
        "id": "e9TY3HK9ZklE",
        "outputId": "07b17cdd-221c-4f5e-8f6a-10fd5af7a691"
      },
      "source": [
        "# Load our own tools\n",
        "GITHUB = True\n",
        "if GITHUB:\n",
        "    #!pip install requests  # Uncomment this if necessary. Seems to be pre-installed.\n",
        "    import requests\n",
        "    r = requests.get('https://raw.githubusercontent.com/ShepherdCode/ShepherdML/master/Strings/tools_fasta.py')\n",
        "    with open('tools_fasta.py', 'w') as f:\n",
        "        f.write(r.text)\n",
        "    # TO DO: delete the file after import\n",
        "import tools_fasta as tools\n",
        "tools.yahoo()  # If this prints \"Yahoo!\" the the import was successful.\n",
        "\n",
        "TOOLS_CHANGED = False   # set to True to re-run with a new version of tools\n",
        "if TOOLS_CHANGED:\n",
        "  from importlib import reload \n",
        "  tools=reload(tools)\n",
        "  print(dir(tools))   # run this to see EVERYTHING in the tools module"
      ],
      "execution_count": 2,
      "outputs": [
        {
          "output_type": "stream",
          "text": [
            "Yahoo!\n"
          ],
          "name": "stdout"
        }
      ]
    },
    {
      "cell_type": "code",
      "metadata": {
        "id": "VQY7aTj29Kch"
      },
      "source": [
        "import numpy as np\n",
        "import pandas as pd\n",
        "import matplotlib.pyplot as plt\n",
        "from sklearn.model_selection import ShuffleSplit\n",
        "from sklearn.model_selection import cross_val_score\n",
        "from sklearn.model_selection import RepeatedKFold\n",
        "from sklearn.model_selection import StratifiedKFold\n",
        "import tensorflow as tf\n",
        "from tensorflow import keras\n",
        "from keras.models import Sequential\n",
        "from keras.layers import Bidirectional\n",
        "from keras.layers import GRU\n",
        "from keras.layers import Dense\n",
        "from keras.layers import LayerNormalization\n",
        "import time\n",
        "dt='float32'\n",
        "tf.keras.backend.set_floatx(dt)"
      ],
      "execution_count": 3,
      "outputs": []
    },
    {
      "cell_type": "markdown",
      "metadata": {
        "id": "j7jcg6Wl9Kc2"
      },
      "source": [
        "Build model"
      ]
    },
    {
      "cell_type": "code",
      "metadata": {
        "id": "qLFNO1Xa9Kc3"
      },
      "source": [
        "def compile_model(model):\n",
        "    print(\"COMPILE...\")\n",
        "    #adam_default_learn_rate = 0.001\n",
        "    #schedule = tf.keras.optimizers.schedules.ExponentialDecay(\n",
        "    #    initial_learning_rate = adam_default_learn_rate*10,\n",
        "    #    decay_steps=10000, decay_rate=0.99, staircase=True)\n",
        "    # #NOTE learn rate = initial_learning_rate * decay_rate ^ (step / decay_steps)\n",
        "    #alrd = tf.keras.optimizers.Adam(learning_rate=schedule)\n",
        "    #model.compile(loss=bc, optimizer=alrd, metrics=[\"accuracy\"])\n",
        "\n",
        "    bc=tf.keras.losses.BinaryCrossentropy(from_logits=False)\n",
        "    model.compile(loss=bc, optimizer=\"adam\", metrics=[\"accuracy\"])\n",
        "    print(\"...COMPILED\")\n",
        "    return model\n",
        "\n",
        "def build_model():\n",
        "    embed_layer  = keras.layers.Embedding(\n",
        "        input_dim=VOCABULARY_SIZE, output_dim=EMBED_DIMEN, mask_zero=True)\n",
        "    rnn1_layer =   keras.layers.LSTM(NEURONS, return_sequences=True, \n",
        "          input_shape=[1000,EMBED_DIMEN], activation=ACT, dropout=DROP) \n",
        "    rnn2_layer =  keras.layers.LSTM(NEURONS, return_sequences=False, \n",
        "        activation=ACT, dropout=DROP) \n",
        "    dense1_layer = keras.layers.Dense(NEURONS, activation=ACT,dtype=dt)\n",
        "    drop1_layer = keras.layers.Dropout(DROP)\n",
        "    dense2_layer = keras.layers.Dense(NEURONS, activation=ACT,dtype=dt)\n",
        "    drop2_layer = keras.layers.Dropout(DROP)\n",
        "    output_layer = keras.layers.Dense(1, activation=\"sigmoid\", dtype=dt)\n",
        "    mlp = keras.models.Sequential()\n",
        "    mlp.add(embed_layer)\n",
        "    mlp.add(rnn1_layer)\n",
        "    mlp.add(rnn2_layer)\n",
        "    mlp.add(dense1_layer)\n",
        "    mlp.add(drop1_layer)\n",
        "    mlp.add(dense2_layer)\n",
        "    mlp.add(drop2_layer)\n",
        "    mlp.add(output_layer)\n",
        "    mlpc = compile_model(mlp)\n",
        "    return mlpc"
      ],
      "execution_count": 4,
      "outputs": []
    },
    {
      "cell_type": "markdown",
      "metadata": {
        "id": "WV6k-xOm9Kcn"
      },
      "source": [
        "Partition sequences"
      ]
    },
    {
      "cell_type": "code",
      "metadata": {
        "id": "1I-O_qzw9Kco"
      },
      "source": [
        "def make_slice(data_set,min_len,max_len):\n",
        "    slice = data_set.query('seqlen <= '+str(max_len)+' & seqlen>= '+str(min_len))\n",
        "    return slice"
      ],
      "execution_count": 5,
      "outputs": []
    },
    {
      "cell_type": "markdown",
      "metadata": {
        "id": "LdIS2utq9Kc9"
      },
      "source": [
        "Cross validation"
      ]
    },
    {
      "cell_type": "code",
      "metadata": {
        "id": "BVo4tbB_9Kc-"
      },
      "source": [
        "def do_cross_validation(X,y,given_model):\n",
        "    cv_scores = []\n",
        "    fold=0\n",
        "    splitter = ShuffleSplit(n_splits=SPLITS, test_size=0.1, random_state=37863)\n",
        "    for train_index,valid_index in splitter.split(X):\n",
        "        fold += 1\n",
        "        X_train=X[train_index] # use iloc[] for dataframe\n",
        "        y_train=y[train_index]\n",
        "        X_valid=X[valid_index]\n",
        "        y_valid=y[valid_index]        \n",
        "        # Avoid continually improving the same model.\n",
        "        model = compile_model(keras.models.clone_model(given_model))\n",
        "        bestname=MODEL_FILE+\".cv.\"+str(fold)+\".best\"\n",
        "        mycallbacks = [keras.callbacks.ModelCheckpoint(\n",
        "            filepath=bestname, save_best_only=True, \n",
        "            monitor='val_accuracy', mode='max')]   \n",
        "        print(\"FIT\")\n",
        "        start_time=time.time()\n",
        "        history=model.fit(X_train, y_train, # batch_size=10, default=32 works nicely\n",
        "                epochs=EPOCHS, verbose=1,  # verbose=1 for ascii art, verbose=0 for none\n",
        "                callbacks=mycallbacks,\n",
        "                validation_data=(X_valid,y_valid) )\n",
        "        end_time=time.time()\n",
        "        elapsed_time=(end_time-start_time)                        \n",
        "        print(\"Fold %d, %d epochs, %d sec\"%(fold,EPOCHS,elapsed_time))\n",
        "        pd.DataFrame(history.history).plot(figsize=(8,5))\n",
        "        plt.grid(True)\n",
        "        plt.gca().set_ylim(0,1)\n",
        "        plt.show()\n",
        "        best_model=keras.models.load_model(bestname)\n",
        "        scores = best_model.evaluate(X_valid, y_valid, verbose=0)\n",
        "        print(\"%s: %.2f%%\" % (best_model.metrics_names[1], scores[1]*100))\n",
        "        cv_scores.append(scores[1] * 100)  \n",
        "    print()\n",
        "    print(\"%d-way Cross Validation mean %.2f%% (+/- %.2f%%)\" % (fold, np.mean(cv_scores), np.std(cv_scores)))"
      ],
      "execution_count": 6,
      "outputs": []
    },
    {
      "cell_type": "markdown",
      "metadata": {
        "id": "qd3Wj_vI9KdP"
      },
      "source": [
        "## Train on RNA lengths 200-1Kb"
      ]
    },
    {
      "cell_type": "code",
      "metadata": {
        "colab": {
          "base_uri": "https://localhost:8080/"
        },
        "id": "f8fNo6sn9KdH",
        "outputId": "f08448f2-9ed7-4156-dd18-e283b1495bd9"
      },
      "source": [
        "MINLEN=200\n",
        "MAXLEN=1000\n",
        "print(\"Load data from files.\")\n",
        "nc_seq=tools.load_fasta(NC_FILENAME,0)\n",
        "pc_seq=tools.load_fasta(PC_FILENAME,1)\n",
        "train_set=pd.concat((nc_seq,pc_seq),axis=0)\n",
        "nc_seq=None\n",
        "pc_seq=None\n",
        "print(\"Ready: train_set\")\n",
        "#train_set\n",
        "subset=make_slice(train_set,MINLEN,MAXLEN)# One array to two: X and y\n",
        "print (\"Data reshape\")\n",
        "(X_train,y_train)=tools.make_kmers(K,MAXLEN,subset)\n",
        "#print (\"Data prep\")\n",
        "#X_train=tools.make_frequencies(K,X_train)"
      ],
      "execution_count": 7,
      "outputs": [
        {
          "output_type": "stream",
          "text": [
            "Load data from files.\n",
            "Ready: train_set\n",
            "Data reshape\n"
          ],
          "name": "stdout"
        }
      ]
    },
    {
      "cell_type": "code",
      "metadata": {
        "colab": {
          "base_uri": "https://localhost:8080/"
        },
        "id": "G1HuSs8ZbeL4",
        "outputId": "bc1bdfd1-30ba-4eb1-ee9b-2d5b4063346c"
      },
      "source": [
        "print (\"Compile the model\")\n",
        "model=build_model()\n",
        "print (\"Summarize the model\")\n",
        "print(model.summary())  # Print this only once\n",
        "model.save(MODEL_FILE+'.model')\n"
      ],
      "execution_count": 8,
      "outputs": [
        {
          "output_type": "stream",
          "text": [
            "Compile the model\n",
            "COMPILE...\n",
            "...COMPILED\n",
            "Summarize the model\n",
            "Model: \"sequential\"\n",
            "_________________________________________________________________\n",
            "Layer (type)                 Output Shape              Param #   \n",
            "=================================================================\n",
            "embedding (Embedding)        (None, None, 16)          1040      \n",
            "_________________________________________________________________\n",
            "lstm (LSTM)                  (None, None, 16)          2112      \n",
            "_________________________________________________________________\n",
            "lstm_1 (LSTM)                (None, 16)                2112      \n",
            "_________________________________________________________________\n",
            "dense (Dense)                (None, 16)                272       \n",
            "_________________________________________________________________\n",
            "dropout (Dropout)            (None, 16)                0         \n",
            "_________________________________________________________________\n",
            "dense_1 (Dense)              (None, 16)                272       \n",
            "_________________________________________________________________\n",
            "dropout_1 (Dropout)          (None, 16)                0         \n",
            "_________________________________________________________________\n",
            "dense_2 (Dense)              (None, 1)                 17        \n",
            "=================================================================\n",
            "Total params: 5,825\n",
            "Trainable params: 5,825\n",
            "Non-trainable params: 0\n",
            "_________________________________________________________________\n",
            "None\n"
          ],
          "name": "stdout"
        },
        {
          "output_type": "stream",
          "text": [
            "WARNING:absl:Found untraced functions such as lstm_cell_layer_call_and_return_conditional_losses, lstm_cell_layer_call_fn, lstm_cell_1_layer_call_and_return_conditional_losses, lstm_cell_1_layer_call_fn, lstm_cell_layer_call_fn while saving (showing 5 of 10). These functions will not be directly callable after loading.\n",
            "WARNING:absl:Found untraced functions such as lstm_cell_layer_call_and_return_conditional_losses, lstm_cell_layer_call_fn, lstm_cell_1_layer_call_and_return_conditional_losses, lstm_cell_1_layer_call_fn, lstm_cell_layer_call_fn while saving (showing 5 of 10). These functions will not be directly callable after loading.\n"
          ],
          "name": "stderr"
        },
        {
          "output_type": "stream",
          "text": [
            "INFO:tensorflow:Assets written to: /content/drive/My Drive/data/LSTM302.model/assets\n"
          ],
          "name": "stdout"
        },
        {
          "output_type": "stream",
          "text": [
            "INFO:tensorflow:Assets written to: /content/drive/My Drive/data/LSTM302.model/assets\n"
          ],
          "name": "stderr"
        }
      ]
    },
    {
      "cell_type": "code",
      "metadata": {
        "colab": {
          "base_uri": "https://localhost:8080/",
          "height": 1000
        },
        "id": "mQ8eW5Rg9KdQ",
        "outputId": "4bc9ba88-ea13-4d72-e1d2-02c1ce473669"
      },
      "source": [
        "print (\"Cross valiation\")\n",
        "do_cross_validation(X_train,y_train,model)  \n",
        "print (\"Done\")"
      ],
      "execution_count": null,
      "outputs": [
        {
          "output_type": "stream",
          "text": [
            "Cross valiation\n",
            "COMPILE...\n",
            "...COMPILED\n",
            "FIT\n",
            "Epoch 1/200\n",
            "453/453 [==============================] - 42s 72ms/step - loss: 0.6392 - accuracy: 0.6512 - val_loss: 0.6239 - val_accuracy: 0.6636\n"
          ],
          "name": "stdout"
        },
        {
          "output_type": "stream",
          "text": [
            "WARNING:absl:Found untraced functions such as lstm_cell_2_layer_call_and_return_conditional_losses, lstm_cell_2_layer_call_fn, lstm_cell_3_layer_call_and_return_conditional_losses, lstm_cell_3_layer_call_fn, lstm_cell_2_layer_call_fn while saving (showing 5 of 10). These functions will not be directly callable after loading.\n",
            "WARNING:absl:Found untraced functions such as lstm_cell_2_layer_call_and_return_conditional_losses, lstm_cell_2_layer_call_fn, lstm_cell_3_layer_call_and_return_conditional_losses, lstm_cell_3_layer_call_fn, lstm_cell_2_layer_call_fn while saving (showing 5 of 10). These functions will not be directly callable after loading.\n"
          ],
          "name": "stderr"
        },
        {
          "output_type": "stream",
          "text": [
            "INFO:tensorflow:Assets written to: /content/drive/My Drive/data/LSTM302.cv.1.best/assets\n"
          ],
          "name": "stdout"
        },
        {
          "output_type": "stream",
          "text": [
            "INFO:tensorflow:Assets written to: /content/drive/My Drive/data/LSTM302.cv.1.best/assets\n"
          ],
          "name": "stderr"
        },
        {
          "output_type": "stream",
          "text": [
            "Epoch 2/200\n",
            "453/453 [==============================] - 31s 68ms/step - loss: 0.6223 - accuracy: 0.6673 - val_loss: 0.6153 - val_accuracy: 0.6698\n"
          ],
          "name": "stdout"
        },
        {
          "output_type": "stream",
          "text": [
            "WARNING:absl:Found untraced functions such as lstm_cell_2_layer_call_and_return_conditional_losses, lstm_cell_2_layer_call_fn, lstm_cell_3_layer_call_and_return_conditional_losses, lstm_cell_3_layer_call_fn, lstm_cell_2_layer_call_fn while saving (showing 5 of 10). These functions will not be directly callable after loading.\n",
            "WARNING:absl:Found untraced functions such as lstm_cell_2_layer_call_and_return_conditional_losses, lstm_cell_2_layer_call_fn, lstm_cell_3_layer_call_and_return_conditional_losses, lstm_cell_3_layer_call_fn, lstm_cell_2_layer_call_fn while saving (showing 5 of 10). These functions will not be directly callable after loading.\n"
          ],
          "name": "stderr"
        },
        {
          "output_type": "stream",
          "text": [
            "INFO:tensorflow:Assets written to: /content/drive/My Drive/data/LSTM302.cv.1.best/assets\n"
          ],
          "name": "stdout"
        },
        {
          "output_type": "stream",
          "text": [
            "INFO:tensorflow:Assets written to: /content/drive/My Drive/data/LSTM302.cv.1.best/assets\n"
          ],
          "name": "stderr"
        },
        {
          "output_type": "stream",
          "text": [
            "Epoch 3/200\n",
            "453/453 [==============================] - 30s 67ms/step - loss: 0.6228 - accuracy: 0.6655 - val_loss: 0.5991 - val_accuracy: 0.6840\n"
          ],
          "name": "stdout"
        },
        {
          "output_type": "stream",
          "text": [
            "WARNING:absl:Found untraced functions such as lstm_cell_2_layer_call_and_return_conditional_losses, lstm_cell_2_layer_call_fn, lstm_cell_3_layer_call_and_return_conditional_losses, lstm_cell_3_layer_call_fn, lstm_cell_2_layer_call_fn while saving (showing 5 of 10). These functions will not be directly callable after loading.\n",
            "WARNING:absl:Found untraced functions such as lstm_cell_2_layer_call_and_return_conditional_losses, lstm_cell_2_layer_call_fn, lstm_cell_3_layer_call_and_return_conditional_losses, lstm_cell_3_layer_call_fn, lstm_cell_2_layer_call_fn while saving (showing 5 of 10). These functions will not be directly callable after loading.\n"
          ],
          "name": "stderr"
        },
        {
          "output_type": "stream",
          "text": [
            "INFO:tensorflow:Assets written to: /content/drive/My Drive/data/LSTM302.cv.1.best/assets\n"
          ],
          "name": "stdout"
        },
        {
          "output_type": "stream",
          "text": [
            "INFO:tensorflow:Assets written to: /content/drive/My Drive/data/LSTM302.cv.1.best/assets\n"
          ],
          "name": "stderr"
        },
        {
          "output_type": "stream",
          "text": [
            "Epoch 4/200\n",
            "453/453 [==============================] - 31s 68ms/step - loss: 0.6061 - accuracy: 0.6805 - val_loss: 0.6706 - val_accuracy: 0.6580\n",
            "Epoch 5/200\n",
            "453/453 [==============================] - 31s 68ms/step - loss: 0.6395 - accuracy: 0.6485 - val_loss: 0.6025 - val_accuracy: 0.6772\n",
            "Epoch 6/200\n",
            "453/453 [==============================] - 31s 68ms/step - loss: 0.6122 - accuracy: 0.6717 - val_loss: 0.6003 - val_accuracy: 0.6859\n"
          ],
          "name": "stdout"
        },
        {
          "output_type": "stream",
          "text": [
            "WARNING:absl:Found untraced functions such as lstm_cell_2_layer_call_and_return_conditional_losses, lstm_cell_2_layer_call_fn, lstm_cell_3_layer_call_and_return_conditional_losses, lstm_cell_3_layer_call_fn, lstm_cell_2_layer_call_fn while saving (showing 5 of 10). These functions will not be directly callable after loading.\n",
            "WARNING:absl:Found untraced functions such as lstm_cell_2_layer_call_and_return_conditional_losses, lstm_cell_2_layer_call_fn, lstm_cell_3_layer_call_and_return_conditional_losses, lstm_cell_3_layer_call_fn, lstm_cell_2_layer_call_fn while saving (showing 5 of 10). These functions will not be directly callable after loading.\n"
          ],
          "name": "stderr"
        },
        {
          "output_type": "stream",
          "text": [
            "INFO:tensorflow:Assets written to: /content/drive/My Drive/data/LSTM302.cv.1.best/assets\n"
          ],
          "name": "stdout"
        },
        {
          "output_type": "stream",
          "text": [
            "INFO:tensorflow:Assets written to: /content/drive/My Drive/data/LSTM302.cv.1.best/assets\n"
          ],
          "name": "stderr"
        },
        {
          "output_type": "stream",
          "text": [
            "Epoch 7/200\n",
            "453/453 [==============================] - 31s 68ms/step - loss: 0.6075 - accuracy: 0.6804 - val_loss: 0.5987 - val_accuracy: 0.6946\n"
          ],
          "name": "stdout"
        },
        {
          "output_type": "stream",
          "text": [
            "WARNING:absl:Found untraced functions such as lstm_cell_2_layer_call_and_return_conditional_losses, lstm_cell_2_layer_call_fn, lstm_cell_3_layer_call_and_return_conditional_losses, lstm_cell_3_layer_call_fn, lstm_cell_2_layer_call_fn while saving (showing 5 of 10). These functions will not be directly callable after loading.\n",
            "WARNING:absl:Found untraced functions such as lstm_cell_2_layer_call_and_return_conditional_losses, lstm_cell_2_layer_call_fn, lstm_cell_3_layer_call_and_return_conditional_losses, lstm_cell_3_layer_call_fn, lstm_cell_2_layer_call_fn while saving (showing 5 of 10). These functions will not be directly callable after loading.\n"
          ],
          "name": "stderr"
        },
        {
          "output_type": "stream",
          "text": [
            "INFO:tensorflow:Assets written to: /content/drive/My Drive/data/LSTM302.cv.1.best/assets\n"
          ],
          "name": "stdout"
        },
        {
          "output_type": "stream",
          "text": [
            "INFO:tensorflow:Assets written to: /content/drive/My Drive/data/LSTM302.cv.1.best/assets\n"
          ],
          "name": "stderr"
        },
        {
          "output_type": "stream",
          "text": [
            "Epoch 8/200\n",
            "453/453 [==============================] - 31s 68ms/step - loss: 0.6126 - accuracy: 0.6842 - val_loss: 0.5918 - val_accuracy: 0.7089\n"
          ],
          "name": "stdout"
        },
        {
          "output_type": "stream",
          "text": [
            "WARNING:absl:Found untraced functions such as lstm_cell_2_layer_call_and_return_conditional_losses, lstm_cell_2_layer_call_fn, lstm_cell_3_layer_call_and_return_conditional_losses, lstm_cell_3_layer_call_fn, lstm_cell_2_layer_call_fn while saving (showing 5 of 10). These functions will not be directly callable after loading.\n",
            "WARNING:absl:Found untraced functions such as lstm_cell_2_layer_call_and_return_conditional_losses, lstm_cell_2_layer_call_fn, lstm_cell_3_layer_call_and_return_conditional_losses, lstm_cell_3_layer_call_fn, lstm_cell_2_layer_call_fn while saving (showing 5 of 10). These functions will not be directly callable after loading.\n"
          ],
          "name": "stderr"
        },
        {
          "output_type": "stream",
          "text": [
            "INFO:tensorflow:Assets written to: /content/drive/My Drive/data/LSTM302.cv.1.best/assets\n"
          ],
          "name": "stdout"
        },
        {
          "output_type": "stream",
          "text": [
            "INFO:tensorflow:Assets written to: /content/drive/My Drive/data/LSTM302.cv.1.best/assets\n"
          ],
          "name": "stderr"
        },
        {
          "output_type": "stream",
          "text": [
            "Epoch 9/200\n",
            "453/453 [==============================] - 31s 68ms/step - loss: 0.6024 - accuracy: 0.6954 - val_loss: 0.5918 - val_accuracy: 0.7033\n",
            "Epoch 10/200\n",
            "453/453 [==============================] - 31s 69ms/step - loss: 0.6078 - accuracy: 0.6895 - val_loss: 0.6338 - val_accuracy: 0.6549\n",
            "Epoch 11/200\n",
            "453/453 [==============================] - 31s 67ms/step - loss: 0.6289 - accuracy: 0.6525 - val_loss: 0.5990 - val_accuracy: 0.6797\n",
            "Epoch 12/200\n",
            "453/453 [==============================] - 31s 69ms/step - loss: 0.6127 - accuracy: 0.6753 - val_loss: 0.6055 - val_accuracy: 0.6760\n",
            "Epoch 13/200\n",
            "453/453 [==============================] - 31s 68ms/step - loss: 0.6189 - accuracy: 0.6544 - val_loss: 0.6022 - val_accuracy: 0.6828\n",
            "Epoch 14/200\n",
            "453/453 [==============================] - 31s 69ms/step - loss: 0.6095 - accuracy: 0.6722 - val_loss: 0.5950 - val_accuracy: 0.6977\n",
            "Epoch 15/200\n",
            "453/453 [==============================] - 31s 68ms/step - loss: 0.6096 - accuracy: 0.6843 - val_loss: 0.6188 - val_accuracy: 0.6803\n",
            "Epoch 16/200\n",
            "453/453 [==============================] - 31s 69ms/step - loss: 0.6173 - accuracy: 0.6756 - val_loss: 0.5977 - val_accuracy: 0.7033\n",
            "Epoch 17/200\n",
            "453/453 [==============================] - 31s 69ms/step - loss: 0.6030 - accuracy: 0.6928 - val_loss: 0.6102 - val_accuracy: 0.6245\n",
            "Epoch 18/200\n",
            "453/453 [==============================] - 32s 70ms/step - loss: 0.6136 - accuracy: 0.6838 - val_loss: 0.6462 - val_accuracy: 0.6530\n",
            "Epoch 19/200\n",
            "453/453 [==============================] - 32s 70ms/step - loss: 0.6543 - accuracy: 0.6405 - val_loss: 0.6465 - val_accuracy: 0.6530\n",
            "Epoch 20/200\n",
            "453/453 [==============================] - 32s 70ms/step - loss: 0.6536 - accuracy: 0.6411 - val_loss: 0.6444 - val_accuracy: 0.6530\n",
            "Epoch 21/200\n",
            "453/453 [==============================] - 31s 69ms/step - loss: 0.6516 - accuracy: 0.6409 - val_loss: 0.6447 - val_accuracy: 0.6530\n",
            "Epoch 22/200\n",
            "453/453 [==============================] - 31s 68ms/step - loss: 0.6351 - accuracy: 0.6470 - val_loss: 0.6182 - val_accuracy: 0.6431\n",
            "Epoch 23/200\n",
            "453/453 [==============================] - 31s 68ms/step - loss: 0.6183 - accuracy: 0.6609 - val_loss: 0.6228 - val_accuracy: 0.6530\n",
            "Epoch 24/200\n",
            "453/453 [==============================] - 31s 68ms/step - loss: 0.6328 - accuracy: 0.6502 - val_loss: 0.5934 - val_accuracy: 0.7132\n"
          ],
          "name": "stdout"
        },
        {
          "output_type": "stream",
          "text": [
            "WARNING:absl:Found untraced functions such as lstm_cell_2_layer_call_and_return_conditional_losses, lstm_cell_2_layer_call_fn, lstm_cell_3_layer_call_and_return_conditional_losses, lstm_cell_3_layer_call_fn, lstm_cell_2_layer_call_fn while saving (showing 5 of 10). These functions will not be directly callable after loading.\n",
            "WARNING:absl:Found untraced functions such as lstm_cell_2_layer_call_and_return_conditional_losses, lstm_cell_2_layer_call_fn, lstm_cell_3_layer_call_and_return_conditional_losses, lstm_cell_3_layer_call_fn, lstm_cell_2_layer_call_fn while saving (showing 5 of 10). These functions will not be directly callable after loading.\n"
          ],
          "name": "stderr"
        },
        {
          "output_type": "stream",
          "text": [
            "INFO:tensorflow:Assets written to: /content/drive/My Drive/data/LSTM302.cv.1.best/assets\n"
          ],
          "name": "stdout"
        },
        {
          "output_type": "stream",
          "text": [
            "INFO:tensorflow:Assets written to: /content/drive/My Drive/data/LSTM302.cv.1.best/assets\n"
          ],
          "name": "stderr"
        },
        {
          "output_type": "stream",
          "text": [
            "Epoch 25/200\n",
            "453/453 [==============================] - 31s 68ms/step - loss: 0.6330 - accuracy: 0.6524 - val_loss: 0.6154 - val_accuracy: 0.6760\n",
            "Epoch 26/200\n",
            "453/453 [==============================] - 31s 68ms/step - loss: 0.6236 - accuracy: 0.6594 - val_loss: 0.6429 - val_accuracy: 0.6530\n",
            "Epoch 27/200\n",
            "453/453 [==============================] - 31s 69ms/step - loss: 0.6336 - accuracy: 0.6510 - val_loss: 0.6111 - val_accuracy: 0.6791\n",
            "Epoch 28/200\n",
            "453/453 [==============================] - 31s 69ms/step - loss: 0.6233 - accuracy: 0.6605 - val_loss: 0.5868 - val_accuracy: 0.7101\n",
            "Epoch 29/200\n",
            "453/453 [==============================] - 32s 71ms/step - loss: 0.5844 - accuracy: 0.7176 - val_loss: 0.5130 - val_accuracy: 0.7554\n"
          ],
          "name": "stdout"
        },
        {
          "output_type": "stream",
          "text": [
            "WARNING:absl:Found untraced functions such as lstm_cell_2_layer_call_and_return_conditional_losses, lstm_cell_2_layer_call_fn, lstm_cell_3_layer_call_and_return_conditional_losses, lstm_cell_3_layer_call_fn, lstm_cell_2_layer_call_fn while saving (showing 5 of 10). These functions will not be directly callable after loading.\n",
            "WARNING:absl:Found untraced functions such as lstm_cell_2_layer_call_and_return_conditional_losses, lstm_cell_2_layer_call_fn, lstm_cell_3_layer_call_and_return_conditional_losses, lstm_cell_3_layer_call_fn, lstm_cell_2_layer_call_fn while saving (showing 5 of 10). These functions will not be directly callable after loading.\n"
          ],
          "name": "stderr"
        },
        {
          "output_type": "stream",
          "text": [
            "INFO:tensorflow:Assets written to: /content/drive/My Drive/data/LSTM302.cv.1.best/assets\n"
          ],
          "name": "stdout"
        },
        {
          "output_type": "stream",
          "text": [
            "INFO:tensorflow:Assets written to: /content/drive/My Drive/data/LSTM302.cv.1.best/assets\n"
          ],
          "name": "stderr"
        },
        {
          "output_type": "stream",
          "text": [
            "Epoch 30/200\n",
            "453/453 [==============================] - 31s 69ms/step - loss: 0.5100 - accuracy: 0.7656 - val_loss: 0.4364 - val_accuracy: 0.7976\n"
          ],
          "name": "stdout"
        },
        {
          "output_type": "stream",
          "text": [
            "WARNING:absl:Found untraced functions such as lstm_cell_2_layer_call_and_return_conditional_losses, lstm_cell_2_layer_call_fn, lstm_cell_3_layer_call_and_return_conditional_losses, lstm_cell_3_layer_call_fn, lstm_cell_2_layer_call_fn while saving (showing 5 of 10). These functions will not be directly callable after loading.\n",
            "WARNING:absl:Found untraced functions such as lstm_cell_2_layer_call_and_return_conditional_losses, lstm_cell_2_layer_call_fn, lstm_cell_3_layer_call_and_return_conditional_losses, lstm_cell_3_layer_call_fn, lstm_cell_2_layer_call_fn while saving (showing 5 of 10). These functions will not be directly callable after loading.\n"
          ],
          "name": "stderr"
        },
        {
          "output_type": "stream",
          "text": [
            "INFO:tensorflow:Assets written to: /content/drive/My Drive/data/LSTM302.cv.1.best/assets\n"
          ],
          "name": "stdout"
        },
        {
          "output_type": "stream",
          "text": [
            "INFO:tensorflow:Assets written to: /content/drive/My Drive/data/LSTM302.cv.1.best/assets\n"
          ],
          "name": "stderr"
        },
        {
          "output_type": "stream",
          "text": [
            "Epoch 31/200\n",
            "453/453 [==============================] - 32s 70ms/step - loss: 0.4539 - accuracy: 0.7970 - val_loss: 0.4193 - val_accuracy: 0.8156\n"
          ],
          "name": "stdout"
        },
        {
          "output_type": "stream",
          "text": [
            "WARNING:absl:Found untraced functions such as lstm_cell_2_layer_call_and_return_conditional_losses, lstm_cell_2_layer_call_fn, lstm_cell_3_layer_call_and_return_conditional_losses, lstm_cell_3_layer_call_fn, lstm_cell_2_layer_call_fn while saving (showing 5 of 10). These functions will not be directly callable after loading.\n",
            "WARNING:absl:Found untraced functions such as lstm_cell_2_layer_call_and_return_conditional_losses, lstm_cell_2_layer_call_fn, lstm_cell_3_layer_call_and_return_conditional_losses, lstm_cell_3_layer_call_fn, lstm_cell_2_layer_call_fn while saving (showing 5 of 10). These functions will not be directly callable after loading.\n"
          ],
          "name": "stderr"
        },
        {
          "output_type": "stream",
          "text": [
            "INFO:tensorflow:Assets written to: /content/drive/My Drive/data/LSTM302.cv.1.best/assets\n"
          ],
          "name": "stdout"
        },
        {
          "output_type": "stream",
          "text": [
            "INFO:tensorflow:Assets written to: /content/drive/My Drive/data/LSTM302.cv.1.best/assets\n"
          ],
          "name": "stderr"
        },
        {
          "output_type": "stream",
          "text": [
            "Epoch 32/200\n",
            "453/453 [==============================] - 32s 71ms/step - loss: 0.4456 - accuracy: 0.7971 - val_loss: 0.4067 - val_accuracy: 0.8200\n"
          ],
          "name": "stdout"
        },
        {
          "output_type": "stream",
          "text": [
            "WARNING:absl:Found untraced functions such as lstm_cell_2_layer_call_and_return_conditional_losses, lstm_cell_2_layer_call_fn, lstm_cell_3_layer_call_and_return_conditional_losses, lstm_cell_3_layer_call_fn, lstm_cell_2_layer_call_fn while saving (showing 5 of 10). These functions will not be directly callable after loading.\n",
            "WARNING:absl:Found untraced functions such as lstm_cell_2_layer_call_and_return_conditional_losses, lstm_cell_2_layer_call_fn, lstm_cell_3_layer_call_and_return_conditional_losses, lstm_cell_3_layer_call_fn, lstm_cell_2_layer_call_fn while saving (showing 5 of 10). These functions will not be directly callable after loading.\n"
          ],
          "name": "stderr"
        },
        {
          "output_type": "stream",
          "text": [
            "INFO:tensorflow:Assets written to: /content/drive/My Drive/data/LSTM302.cv.1.best/assets\n"
          ],
          "name": "stdout"
        },
        {
          "output_type": "stream",
          "text": [
            "INFO:tensorflow:Assets written to: /content/drive/My Drive/data/LSTM302.cv.1.best/assets\n"
          ],
          "name": "stderr"
        },
        {
          "output_type": "stream",
          "text": [
            "Epoch 33/200\n",
            "453/453 [==============================] - 32s 70ms/step - loss: 0.4385 - accuracy: 0.8046 - val_loss: 0.3986 - val_accuracy: 0.8237\n"
          ],
          "name": "stdout"
        },
        {
          "output_type": "stream",
          "text": [
            "WARNING:absl:Found untraced functions such as lstm_cell_2_layer_call_and_return_conditional_losses, lstm_cell_2_layer_call_fn, lstm_cell_3_layer_call_and_return_conditional_losses, lstm_cell_3_layer_call_fn, lstm_cell_2_layer_call_fn while saving (showing 5 of 10). These functions will not be directly callable after loading.\n",
            "WARNING:absl:Found untraced functions such as lstm_cell_2_layer_call_and_return_conditional_losses, lstm_cell_2_layer_call_fn, lstm_cell_3_layer_call_and_return_conditional_losses, lstm_cell_3_layer_call_fn, lstm_cell_2_layer_call_fn while saving (showing 5 of 10). These functions will not be directly callable after loading.\n"
          ],
          "name": "stderr"
        },
        {
          "output_type": "stream",
          "text": [
            "INFO:tensorflow:Assets written to: /content/drive/My Drive/data/LSTM302.cv.1.best/assets\n"
          ],
          "name": "stdout"
        },
        {
          "output_type": "stream",
          "text": [
            "INFO:tensorflow:Assets written to: /content/drive/My Drive/data/LSTM302.cv.1.best/assets\n"
          ],
          "name": "stderr"
        },
        {
          "output_type": "stream",
          "text": [
            "Epoch 34/200\n",
            "453/453 [==============================] - 33s 72ms/step - loss: 0.4354 - accuracy: 0.8058 - val_loss: 0.4006 - val_accuracy: 0.8206\n",
            "Epoch 35/200\n",
            "453/453 [==============================] - 32s 70ms/step - loss: 0.4123 - accuracy: 0.8201 - val_loss: 0.4488 - val_accuracy: 0.7945\n",
            "Epoch 36/200\n",
            "453/453 [==============================] - 32s 70ms/step - loss: 0.4303 - accuracy: 0.8073 - val_loss: 0.3843 - val_accuracy: 0.8262\n"
          ],
          "name": "stdout"
        },
        {
          "output_type": "stream",
          "text": [
            "WARNING:absl:Found untraced functions such as lstm_cell_2_layer_call_and_return_conditional_losses, lstm_cell_2_layer_call_fn, lstm_cell_3_layer_call_and_return_conditional_losses, lstm_cell_3_layer_call_fn, lstm_cell_2_layer_call_fn while saving (showing 5 of 10). These functions will not be directly callable after loading.\n",
            "WARNING:absl:Found untraced functions such as lstm_cell_2_layer_call_and_return_conditional_losses, lstm_cell_2_layer_call_fn, lstm_cell_3_layer_call_and_return_conditional_losses, lstm_cell_3_layer_call_fn, lstm_cell_2_layer_call_fn while saving (showing 5 of 10). These functions will not be directly callable after loading.\n"
          ],
          "name": "stderr"
        },
        {
          "output_type": "stream",
          "text": [
            "INFO:tensorflow:Assets written to: /content/drive/My Drive/data/LSTM302.cv.1.best/assets\n"
          ],
          "name": "stdout"
        },
        {
          "output_type": "stream",
          "text": [
            "INFO:tensorflow:Assets written to: /content/drive/My Drive/data/LSTM302.cv.1.best/assets\n"
          ],
          "name": "stderr"
        },
        {
          "output_type": "stream",
          "text": [
            "Epoch 37/200\n",
            "453/453 [==============================] - 32s 70ms/step - loss: 0.4116 - accuracy: 0.8183 - val_loss: 0.3889 - val_accuracy: 0.8256\n",
            "Epoch 38/200\n",
            "453/453 [==============================] - 32s 70ms/step - loss: 0.4088 - accuracy: 0.8214 - val_loss: 0.3779 - val_accuracy: 0.8318\n"
          ],
          "name": "stdout"
        },
        {
          "output_type": "stream",
          "text": [
            "WARNING:absl:Found untraced functions such as lstm_cell_2_layer_call_and_return_conditional_losses, lstm_cell_2_layer_call_fn, lstm_cell_3_layer_call_and_return_conditional_losses, lstm_cell_3_layer_call_fn, lstm_cell_2_layer_call_fn while saving (showing 5 of 10). These functions will not be directly callable after loading.\n",
            "WARNING:absl:Found untraced functions such as lstm_cell_2_layer_call_and_return_conditional_losses, lstm_cell_2_layer_call_fn, lstm_cell_3_layer_call_and_return_conditional_losses, lstm_cell_3_layer_call_fn, lstm_cell_2_layer_call_fn while saving (showing 5 of 10). These functions will not be directly callable after loading.\n"
          ],
          "name": "stderr"
        },
        {
          "output_type": "stream",
          "text": [
            "INFO:tensorflow:Assets written to: /content/drive/My Drive/data/LSTM302.cv.1.best/assets\n"
          ],
          "name": "stdout"
        },
        {
          "output_type": "stream",
          "text": [
            "INFO:tensorflow:Assets written to: /content/drive/My Drive/data/LSTM302.cv.1.best/assets\n"
          ],
          "name": "stderr"
        },
        {
          "output_type": "stream",
          "text": [
            "Epoch 39/200\n",
            "453/453 [==============================] - 32s 71ms/step - loss: 0.4024 - accuracy: 0.8248 - val_loss: 0.3763 - val_accuracy: 0.8312\n",
            "Epoch 40/200\n",
            "453/453 [==============================] - 32s 70ms/step - loss: 0.4179 - accuracy: 0.8152 - val_loss: 0.3814 - val_accuracy: 0.8343\n"
          ],
          "name": "stdout"
        },
        {
          "output_type": "stream",
          "text": [
            "WARNING:absl:Found untraced functions such as lstm_cell_2_layer_call_and_return_conditional_losses, lstm_cell_2_layer_call_fn, lstm_cell_3_layer_call_and_return_conditional_losses, lstm_cell_3_layer_call_fn, lstm_cell_2_layer_call_fn while saving (showing 5 of 10). These functions will not be directly callable after loading.\n",
            "WARNING:absl:Found untraced functions such as lstm_cell_2_layer_call_and_return_conditional_losses, lstm_cell_2_layer_call_fn, lstm_cell_3_layer_call_and_return_conditional_losses, lstm_cell_3_layer_call_fn, lstm_cell_2_layer_call_fn while saving (showing 5 of 10). These functions will not be directly callable after loading.\n"
          ],
          "name": "stderr"
        },
        {
          "output_type": "stream",
          "text": [
            "INFO:tensorflow:Assets written to: /content/drive/My Drive/data/LSTM302.cv.1.best/assets\n"
          ],
          "name": "stdout"
        },
        {
          "output_type": "stream",
          "text": [
            "INFO:tensorflow:Assets written to: /content/drive/My Drive/data/LSTM302.cv.1.best/assets\n"
          ],
          "name": "stderr"
        },
        {
          "output_type": "stream",
          "text": [
            "Epoch 41/200\n",
            "453/453 [==============================] - 32s 70ms/step - loss: 0.4053 - accuracy: 0.8250 - val_loss: 0.3753 - val_accuracy: 0.8318\n",
            "Epoch 42/200\n",
            "453/453 [==============================] - 32s 71ms/step - loss: 0.4046 - accuracy: 0.8270 - val_loss: 0.3733 - val_accuracy: 0.8256\n",
            "Epoch 43/200\n",
            "453/453 [==============================] - 32s 70ms/step - loss: 0.4122 - accuracy: 0.8196 - val_loss: 0.3709 - val_accuracy: 0.8343\n",
            "Epoch 44/200\n",
            "453/453 [==============================] - 33s 72ms/step - loss: 0.4124 - accuracy: 0.8203 - val_loss: 0.4074 - val_accuracy: 0.8194\n",
            "Epoch 45/200\n",
            "453/453 [==============================] - 32s 71ms/step - loss: 0.4091 - accuracy: 0.8205 - val_loss: 0.3739 - val_accuracy: 0.8299\n",
            "Epoch 46/200\n",
            "453/453 [==============================] - 32s 71ms/step - loss: 0.4093 - accuracy: 0.8208 - val_loss: 0.3808 - val_accuracy: 0.8318\n",
            "Epoch 47/200\n",
            "453/453 [==============================] - 33s 72ms/step - loss: 0.3957 - accuracy: 0.8291 - val_loss: 0.3676 - val_accuracy: 0.8355\n"
          ],
          "name": "stdout"
        },
        {
          "output_type": "stream",
          "text": [
            "WARNING:absl:Found untraced functions such as lstm_cell_2_layer_call_and_return_conditional_losses, lstm_cell_2_layer_call_fn, lstm_cell_3_layer_call_and_return_conditional_losses, lstm_cell_3_layer_call_fn, lstm_cell_2_layer_call_fn while saving (showing 5 of 10). These functions will not be directly callable after loading.\n",
            "WARNING:absl:Found untraced functions such as lstm_cell_2_layer_call_and_return_conditional_losses, lstm_cell_2_layer_call_fn, lstm_cell_3_layer_call_and_return_conditional_losses, lstm_cell_3_layer_call_fn, lstm_cell_2_layer_call_fn while saving (showing 5 of 10). These functions will not be directly callable after loading.\n"
          ],
          "name": "stderr"
        },
        {
          "output_type": "stream",
          "text": [
            "INFO:tensorflow:Assets written to: /content/drive/My Drive/data/LSTM302.cv.1.best/assets\n"
          ],
          "name": "stdout"
        },
        {
          "output_type": "stream",
          "text": [
            "INFO:tensorflow:Assets written to: /content/drive/My Drive/data/LSTM302.cv.1.best/assets\n"
          ],
          "name": "stderr"
        },
        {
          "output_type": "stream",
          "text": [
            "Epoch 48/200\n",
            "453/453 [==============================] - 32s 72ms/step - loss: 0.3997 - accuracy: 0.8300 - val_loss: 0.3924 - val_accuracy: 0.8293\n",
            "Epoch 49/200\n",
            "453/453 [==============================] - 32s 70ms/step - loss: 0.4023 - accuracy: 0.8215 - val_loss: 0.3659 - val_accuracy: 0.8386\n"
          ],
          "name": "stdout"
        },
        {
          "output_type": "stream",
          "text": [
            "WARNING:absl:Found untraced functions such as lstm_cell_2_layer_call_and_return_conditional_losses, lstm_cell_2_layer_call_fn, lstm_cell_3_layer_call_and_return_conditional_losses, lstm_cell_3_layer_call_fn, lstm_cell_2_layer_call_fn while saving (showing 5 of 10). These functions will not be directly callable after loading.\n",
            "WARNING:absl:Found untraced functions such as lstm_cell_2_layer_call_and_return_conditional_losses, lstm_cell_2_layer_call_fn, lstm_cell_3_layer_call_and_return_conditional_losses, lstm_cell_3_layer_call_fn, lstm_cell_2_layer_call_fn while saving (showing 5 of 10). These functions will not be directly callable after loading.\n"
          ],
          "name": "stderr"
        },
        {
          "output_type": "stream",
          "text": [
            "INFO:tensorflow:Assets written to: /content/drive/My Drive/data/LSTM302.cv.1.best/assets\n"
          ],
          "name": "stdout"
        },
        {
          "output_type": "stream",
          "text": [
            "INFO:tensorflow:Assets written to: /content/drive/My Drive/data/LSTM302.cv.1.best/assets\n"
          ],
          "name": "stderr"
        },
        {
          "output_type": "stream",
          "text": [
            "Epoch 50/200\n",
            "453/453 [==============================] - 32s 70ms/step - loss: 0.3936 - accuracy: 0.8282 - val_loss: 0.3835 - val_accuracy: 0.8343\n",
            "Epoch 51/200\n",
            "453/453 [==============================] - 32s 70ms/step - loss: 0.3963 - accuracy: 0.8260 - val_loss: 0.3595 - val_accuracy: 0.8399\n"
          ],
          "name": "stdout"
        },
        {
          "output_type": "stream",
          "text": [
            "WARNING:absl:Found untraced functions such as lstm_cell_2_layer_call_and_return_conditional_losses, lstm_cell_2_layer_call_fn, lstm_cell_3_layer_call_and_return_conditional_losses, lstm_cell_3_layer_call_fn, lstm_cell_2_layer_call_fn while saving (showing 5 of 10). These functions will not be directly callable after loading.\n",
            "WARNING:absl:Found untraced functions such as lstm_cell_2_layer_call_and_return_conditional_losses, lstm_cell_2_layer_call_fn, lstm_cell_3_layer_call_and_return_conditional_losses, lstm_cell_3_layer_call_fn, lstm_cell_2_layer_call_fn while saving (showing 5 of 10). These functions will not be directly callable after loading.\n"
          ],
          "name": "stderr"
        },
        {
          "output_type": "stream",
          "text": [
            "INFO:tensorflow:Assets written to: /content/drive/My Drive/data/LSTM302.cv.1.best/assets\n"
          ],
          "name": "stdout"
        },
        {
          "output_type": "stream",
          "text": [
            "INFO:tensorflow:Assets written to: /content/drive/My Drive/data/LSTM302.cv.1.best/assets\n"
          ],
          "name": "stderr"
        },
        {
          "output_type": "stream",
          "text": [
            "Epoch 52/200\n",
            "453/453 [==============================] - 32s 72ms/step - loss: 0.3932 - accuracy: 0.8286 - val_loss: 0.3608 - val_accuracy: 0.8399\n",
            "Epoch 53/200\n",
            "453/453 [==============================] - 33s 72ms/step - loss: 0.3887 - accuracy: 0.8289 - val_loss: 0.3599 - val_accuracy: 0.8423\n"
          ],
          "name": "stdout"
        },
        {
          "output_type": "stream",
          "text": [
            "WARNING:absl:Found untraced functions such as lstm_cell_2_layer_call_and_return_conditional_losses, lstm_cell_2_layer_call_fn, lstm_cell_3_layer_call_and_return_conditional_losses, lstm_cell_3_layer_call_fn, lstm_cell_2_layer_call_fn while saving (showing 5 of 10). These functions will not be directly callable after loading.\n",
            "WARNING:absl:Found untraced functions such as lstm_cell_2_layer_call_and_return_conditional_losses, lstm_cell_2_layer_call_fn, lstm_cell_3_layer_call_and_return_conditional_losses, lstm_cell_3_layer_call_fn, lstm_cell_2_layer_call_fn while saving (showing 5 of 10). These functions will not be directly callable after loading.\n"
          ],
          "name": "stderr"
        },
        {
          "output_type": "stream",
          "text": [
            "INFO:tensorflow:Assets written to: /content/drive/My Drive/data/LSTM302.cv.1.best/assets\n"
          ],
          "name": "stdout"
        },
        {
          "output_type": "stream",
          "text": [
            "INFO:tensorflow:Assets written to: /content/drive/My Drive/data/LSTM302.cv.1.best/assets\n"
          ],
          "name": "stderr"
        },
        {
          "output_type": "stream",
          "text": [
            "Epoch 54/200\n",
            "453/453 [==============================] - 32s 70ms/step - loss: 0.3844 - accuracy: 0.8330 - val_loss: 0.3513 - val_accuracy: 0.8492\n"
          ],
          "name": "stdout"
        },
        {
          "output_type": "stream",
          "text": [
            "WARNING:absl:Found untraced functions such as lstm_cell_2_layer_call_and_return_conditional_losses, lstm_cell_2_layer_call_fn, lstm_cell_3_layer_call_and_return_conditional_losses, lstm_cell_3_layer_call_fn, lstm_cell_2_layer_call_fn while saving (showing 5 of 10). These functions will not be directly callable after loading.\n",
            "WARNING:absl:Found untraced functions such as lstm_cell_2_layer_call_and_return_conditional_losses, lstm_cell_2_layer_call_fn, lstm_cell_3_layer_call_and_return_conditional_losses, lstm_cell_3_layer_call_fn, lstm_cell_2_layer_call_fn while saving (showing 5 of 10). These functions will not be directly callable after loading.\n"
          ],
          "name": "stderr"
        },
        {
          "output_type": "stream",
          "text": [
            "INFO:tensorflow:Assets written to: /content/drive/My Drive/data/LSTM302.cv.1.best/assets\n"
          ],
          "name": "stdout"
        },
        {
          "output_type": "stream",
          "text": [
            "INFO:tensorflow:Assets written to: /content/drive/My Drive/data/LSTM302.cv.1.best/assets\n"
          ],
          "name": "stderr"
        },
        {
          "output_type": "stream",
          "text": [
            "Epoch 55/200\n",
            "453/453 [==============================] - 33s 72ms/step - loss: 0.3899 - accuracy: 0.8302 - val_loss: 0.3671 - val_accuracy: 0.8423\n",
            "Epoch 56/200\n",
            "453/453 [==============================] - 32s 70ms/step - loss: 0.3813 - accuracy: 0.8372 - val_loss: 0.3526 - val_accuracy: 0.8473\n",
            "Epoch 57/200\n",
            "453/453 [==============================] - 32s 70ms/step - loss: 0.3818 - accuracy: 0.8347 - val_loss: 0.3460 - val_accuracy: 0.8510\n"
          ],
          "name": "stdout"
        },
        {
          "output_type": "stream",
          "text": [
            "WARNING:absl:Found untraced functions such as lstm_cell_2_layer_call_and_return_conditional_losses, lstm_cell_2_layer_call_fn, lstm_cell_3_layer_call_and_return_conditional_losses, lstm_cell_3_layer_call_fn, lstm_cell_2_layer_call_fn while saving (showing 5 of 10). These functions will not be directly callable after loading.\n",
            "WARNING:absl:Found untraced functions such as lstm_cell_2_layer_call_and_return_conditional_losses, lstm_cell_2_layer_call_fn, lstm_cell_3_layer_call_and_return_conditional_losses, lstm_cell_3_layer_call_fn, lstm_cell_2_layer_call_fn while saving (showing 5 of 10). These functions will not be directly callable after loading.\n"
          ],
          "name": "stderr"
        },
        {
          "output_type": "stream",
          "text": [
            "INFO:tensorflow:Assets written to: /content/drive/My Drive/data/LSTM302.cv.1.best/assets\n"
          ],
          "name": "stdout"
        },
        {
          "output_type": "stream",
          "text": [
            "INFO:tensorflow:Assets written to: /content/drive/My Drive/data/LSTM302.cv.1.best/assets\n"
          ],
          "name": "stderr"
        },
        {
          "output_type": "stream",
          "text": [
            "Epoch 58/200\n",
            "453/453 [==============================] - 32s 71ms/step - loss: 0.3775 - accuracy: 0.8391 - val_loss: 0.3863 - val_accuracy: 0.8287\n",
            "Epoch 59/200\n",
            "453/453 [==============================] - 33s 72ms/step - loss: 0.3891 - accuracy: 0.8311 - val_loss: 0.3400 - val_accuracy: 0.8510\n",
            "Epoch 60/200\n",
            "453/453 [==============================] - 32s 71ms/step - loss: 0.3800 - accuracy: 0.8348 - val_loss: 0.6016 - val_accuracy: 0.6809\n",
            "Epoch 61/200\n",
            "453/453 [==============================] - 33s 72ms/step - loss: 0.4720 - accuracy: 0.7786 - val_loss: 0.4616 - val_accuracy: 0.8020\n",
            "Epoch 62/200\n",
            "453/453 [==============================] - 32s 70ms/step - loss: 0.4087 - accuracy: 0.8238 - val_loss: 0.3526 - val_accuracy: 0.8485\n",
            "Epoch 63/200\n",
            "453/453 [==============================] - 32s 71ms/step - loss: 0.3872 - accuracy: 0.8281 - val_loss: 0.3507 - val_accuracy: 0.8479\n",
            "Epoch 64/200\n",
            "453/453 [==============================] - 32s 71ms/step - loss: 0.3834 - accuracy: 0.8359 - val_loss: 0.3514 - val_accuracy: 0.8461\n",
            "Epoch 65/200\n",
            "453/453 [==============================] - 32s 71ms/step - loss: 0.3858 - accuracy: 0.8317 - val_loss: 0.3432 - val_accuracy: 0.8479\n",
            "Epoch 66/200\n",
            "453/453 [==============================] - 33s 72ms/step - loss: 0.3878 - accuracy: 0.8321 - val_loss: 0.3807 - val_accuracy: 0.8367\n",
            "Epoch 67/200\n",
            "453/453 [==============================] - 33s 73ms/step - loss: 0.3756 - accuracy: 0.8390 - val_loss: 0.3343 - val_accuracy: 0.8541\n"
          ],
          "name": "stdout"
        },
        {
          "output_type": "stream",
          "text": [
            "WARNING:absl:Found untraced functions such as lstm_cell_2_layer_call_and_return_conditional_losses, lstm_cell_2_layer_call_fn, lstm_cell_3_layer_call_and_return_conditional_losses, lstm_cell_3_layer_call_fn, lstm_cell_2_layer_call_fn while saving (showing 5 of 10). These functions will not be directly callable after loading.\n",
            "WARNING:absl:Found untraced functions such as lstm_cell_2_layer_call_and_return_conditional_losses, lstm_cell_2_layer_call_fn, lstm_cell_3_layer_call_and_return_conditional_losses, lstm_cell_3_layer_call_fn, lstm_cell_2_layer_call_fn while saving (showing 5 of 10). These functions will not be directly callable after loading.\n"
          ],
          "name": "stderr"
        },
        {
          "output_type": "stream",
          "text": [
            "INFO:tensorflow:Assets written to: /content/drive/My Drive/data/LSTM302.cv.1.best/assets\n"
          ],
          "name": "stdout"
        },
        {
          "output_type": "stream",
          "text": [
            "INFO:tensorflow:Assets written to: /content/drive/My Drive/data/LSTM302.cv.1.best/assets\n"
          ],
          "name": "stderr"
        },
        {
          "output_type": "stream",
          "text": [
            "Epoch 68/200\n",
            "453/453 [==============================] - 32s 71ms/step - loss: 0.3774 - accuracy: 0.8397 - val_loss: 0.3325 - val_accuracy: 0.8541\n",
            "Epoch 69/200\n",
            "453/453 [==============================] - 32s 71ms/step - loss: 0.3636 - accuracy: 0.8463 - val_loss: 0.3301 - val_accuracy: 0.8603\n"
          ],
          "name": "stdout"
        },
        {
          "output_type": "stream",
          "text": [
            "WARNING:absl:Found untraced functions such as lstm_cell_2_layer_call_and_return_conditional_losses, lstm_cell_2_layer_call_fn, lstm_cell_3_layer_call_and_return_conditional_losses, lstm_cell_3_layer_call_fn, lstm_cell_2_layer_call_fn while saving (showing 5 of 10). These functions will not be directly callable after loading.\n",
            "WARNING:absl:Found untraced functions such as lstm_cell_2_layer_call_and_return_conditional_losses, lstm_cell_2_layer_call_fn, lstm_cell_3_layer_call_and_return_conditional_losses, lstm_cell_3_layer_call_fn, lstm_cell_2_layer_call_fn while saving (showing 5 of 10). These functions will not be directly callable after loading.\n"
          ],
          "name": "stderr"
        },
        {
          "output_type": "stream",
          "text": [
            "INFO:tensorflow:Assets written to: /content/drive/My Drive/data/LSTM302.cv.1.best/assets\n"
          ],
          "name": "stdout"
        },
        {
          "output_type": "stream",
          "text": [
            "INFO:tensorflow:Assets written to: /content/drive/My Drive/data/LSTM302.cv.1.best/assets\n"
          ],
          "name": "stderr"
        },
        {
          "output_type": "stream",
          "text": [
            "Epoch 70/200\n",
            "453/453 [==============================] - 32s 70ms/step - loss: 0.3709 - accuracy: 0.8397 - val_loss: 0.3776 - val_accuracy: 0.8417\n",
            "Epoch 71/200\n",
            "453/453 [==============================] - 32s 71ms/step - loss: 0.3730 - accuracy: 0.8395 - val_loss: 0.3285 - val_accuracy: 0.8572\n",
            "Epoch 72/200\n",
            "453/453 [==============================] - 33s 72ms/step - loss: 0.3646 - accuracy: 0.8414 - val_loss: 0.3277 - val_accuracy: 0.8591\n",
            "Epoch 73/200\n",
            "453/453 [==============================] - 32s 71ms/step - loss: 0.3632 - accuracy: 0.8487 - val_loss: 0.3374 - val_accuracy: 0.8560\n",
            "Epoch 74/200\n",
            "453/453 [==============================] - 32s 71ms/step - loss: 0.3680 - accuracy: 0.8448 - val_loss: 0.3324 - val_accuracy: 0.8579\n",
            "Epoch 75/200\n",
            "453/453 [==============================] - 32s 71ms/step - loss: 0.3609 - accuracy: 0.8462 - val_loss: 0.3251 - val_accuracy: 0.8610\n"
          ],
          "name": "stdout"
        },
        {
          "output_type": "stream",
          "text": [
            "WARNING:absl:Found untraced functions such as lstm_cell_2_layer_call_and_return_conditional_losses, lstm_cell_2_layer_call_fn, lstm_cell_3_layer_call_and_return_conditional_losses, lstm_cell_3_layer_call_fn, lstm_cell_2_layer_call_fn while saving (showing 5 of 10). These functions will not be directly callable after loading.\n",
            "WARNING:absl:Found untraced functions such as lstm_cell_2_layer_call_and_return_conditional_losses, lstm_cell_2_layer_call_fn, lstm_cell_3_layer_call_and_return_conditional_losses, lstm_cell_3_layer_call_fn, lstm_cell_2_layer_call_fn while saving (showing 5 of 10). These functions will not be directly callable after loading.\n"
          ],
          "name": "stderr"
        },
        {
          "output_type": "stream",
          "text": [
            "INFO:tensorflow:Assets written to: /content/drive/My Drive/data/LSTM302.cv.1.best/assets\n"
          ],
          "name": "stdout"
        },
        {
          "output_type": "stream",
          "text": [
            "INFO:tensorflow:Assets written to: /content/drive/My Drive/data/LSTM302.cv.1.best/assets\n"
          ],
          "name": "stderr"
        },
        {
          "output_type": "stream",
          "text": [
            "Epoch 76/200\n",
            "453/453 [==============================] - 33s 72ms/step - loss: 0.3607 - accuracy: 0.8465 - val_loss: 0.3298 - val_accuracy: 0.8572\n",
            "Epoch 77/200\n",
            "453/453 [==============================] - 32s 71ms/step - loss: 0.3560 - accuracy: 0.8473 - val_loss: 0.3232 - val_accuracy: 0.8634\n"
          ],
          "name": "stdout"
        },
        {
          "output_type": "stream",
          "text": [
            "WARNING:absl:Found untraced functions such as lstm_cell_2_layer_call_and_return_conditional_losses, lstm_cell_2_layer_call_fn, lstm_cell_3_layer_call_and_return_conditional_losses, lstm_cell_3_layer_call_fn, lstm_cell_2_layer_call_fn while saving (showing 5 of 10). These functions will not be directly callable after loading.\n",
            "WARNING:absl:Found untraced functions such as lstm_cell_2_layer_call_and_return_conditional_losses, lstm_cell_2_layer_call_fn, lstm_cell_3_layer_call_and_return_conditional_losses, lstm_cell_3_layer_call_fn, lstm_cell_2_layer_call_fn while saving (showing 5 of 10). These functions will not be directly callable after loading.\n"
          ],
          "name": "stderr"
        },
        {
          "output_type": "stream",
          "text": [
            "INFO:tensorflow:Assets written to: /content/drive/My Drive/data/LSTM302.cv.1.best/assets\n"
          ],
          "name": "stdout"
        },
        {
          "output_type": "stream",
          "text": [
            "INFO:tensorflow:Assets written to: /content/drive/My Drive/data/LSTM302.cv.1.best/assets\n"
          ],
          "name": "stderr"
        },
        {
          "output_type": "stream",
          "text": [
            "Epoch 78/200\n",
            "453/453 [==============================] - 33s 73ms/step - loss: 0.3571 - accuracy: 0.8490 - val_loss: 0.3188 - val_accuracy: 0.8653\n"
          ],
          "name": "stdout"
        },
        {
          "output_type": "stream",
          "text": [
            "WARNING:absl:Found untraced functions such as lstm_cell_2_layer_call_and_return_conditional_losses, lstm_cell_2_layer_call_fn, lstm_cell_3_layer_call_and_return_conditional_losses, lstm_cell_3_layer_call_fn, lstm_cell_2_layer_call_fn while saving (showing 5 of 10). These functions will not be directly callable after loading.\n",
            "WARNING:absl:Found untraced functions such as lstm_cell_2_layer_call_and_return_conditional_losses, lstm_cell_2_layer_call_fn, lstm_cell_3_layer_call_and_return_conditional_losses, lstm_cell_3_layer_call_fn, lstm_cell_2_layer_call_fn while saving (showing 5 of 10). These functions will not be directly callable after loading.\n"
          ],
          "name": "stderr"
        },
        {
          "output_type": "stream",
          "text": [
            "INFO:tensorflow:Assets written to: /content/drive/My Drive/data/LSTM302.cv.1.best/assets\n"
          ],
          "name": "stdout"
        },
        {
          "output_type": "stream",
          "text": [
            "INFO:tensorflow:Assets written to: /content/drive/My Drive/data/LSTM302.cv.1.best/assets\n"
          ],
          "name": "stderr"
        },
        {
          "output_type": "stream",
          "text": [
            "Epoch 79/200\n",
            "453/453 [==============================] - 33s 72ms/step - loss: 0.3745 - accuracy: 0.8391 - val_loss: 0.3328 - val_accuracy: 0.8560\n",
            "Epoch 80/200\n",
            "453/453 [==============================] - 33s 72ms/step - loss: 0.3604 - accuracy: 0.8465 - val_loss: 0.3633 - val_accuracy: 0.8442\n",
            "Epoch 81/200\n",
            "453/453 [==============================] - 32s 72ms/step - loss: 0.3563 - accuracy: 0.8513 - val_loss: 0.3490 - val_accuracy: 0.8492\n",
            "Epoch 82/200\n",
            "453/453 [==============================] - 33s 72ms/step - loss: 0.3539 - accuracy: 0.8525 - val_loss: 0.3229 - val_accuracy: 0.8622\n",
            "Epoch 83/200\n",
            "453/453 [==============================] - 33s 73ms/step - loss: 0.3466 - accuracy: 0.8552 - val_loss: 0.3161 - val_accuracy: 0.8665\n"
          ],
          "name": "stdout"
        },
        {
          "output_type": "stream",
          "text": [
            "WARNING:absl:Found untraced functions such as lstm_cell_2_layer_call_and_return_conditional_losses, lstm_cell_2_layer_call_fn, lstm_cell_3_layer_call_and_return_conditional_losses, lstm_cell_3_layer_call_fn, lstm_cell_2_layer_call_fn while saving (showing 5 of 10). These functions will not be directly callable after loading.\n",
            "WARNING:absl:Found untraced functions such as lstm_cell_2_layer_call_and_return_conditional_losses, lstm_cell_2_layer_call_fn, lstm_cell_3_layer_call_and_return_conditional_losses, lstm_cell_3_layer_call_fn, lstm_cell_2_layer_call_fn while saving (showing 5 of 10). These functions will not be directly callable after loading.\n"
          ],
          "name": "stderr"
        },
        {
          "output_type": "stream",
          "text": [
            "INFO:tensorflow:Assets written to: /content/drive/My Drive/data/LSTM302.cv.1.best/assets\n"
          ],
          "name": "stdout"
        },
        {
          "output_type": "stream",
          "text": [
            "INFO:tensorflow:Assets written to: /content/drive/My Drive/data/LSTM302.cv.1.best/assets\n"
          ],
          "name": "stderr"
        },
        {
          "output_type": "stream",
          "text": [
            "Epoch 84/200\n",
            "453/453 [==============================] - 33s 73ms/step - loss: 0.3538 - accuracy: 0.8490 - val_loss: 0.3194 - val_accuracy: 0.8597\n",
            "Epoch 85/200\n",
            "453/453 [==============================] - 33s 72ms/step - loss: 0.3443 - accuracy: 0.8543 - val_loss: 0.3162 - val_accuracy: 0.8647\n",
            "Epoch 86/200\n",
            "453/453 [==============================] - 33s 74ms/step - loss: 0.3552 - accuracy: 0.8499 - val_loss: 0.3105 - val_accuracy: 0.8696\n"
          ],
          "name": "stdout"
        },
        {
          "output_type": "stream",
          "text": [
            "WARNING:absl:Found untraced functions such as lstm_cell_2_layer_call_and_return_conditional_losses, lstm_cell_2_layer_call_fn, lstm_cell_3_layer_call_and_return_conditional_losses, lstm_cell_3_layer_call_fn, lstm_cell_2_layer_call_fn while saving (showing 5 of 10). These functions will not be directly callable after loading.\n",
            "WARNING:absl:Found untraced functions such as lstm_cell_2_layer_call_and_return_conditional_losses, lstm_cell_2_layer_call_fn, lstm_cell_3_layer_call_and_return_conditional_losses, lstm_cell_3_layer_call_fn, lstm_cell_2_layer_call_fn while saving (showing 5 of 10). These functions will not be directly callable after loading.\n"
          ],
          "name": "stderr"
        },
        {
          "output_type": "stream",
          "text": [
            "INFO:tensorflow:Assets written to: /content/drive/My Drive/data/LSTM302.cv.1.best/assets\n"
          ],
          "name": "stdout"
        },
        {
          "output_type": "stream",
          "text": [
            "INFO:tensorflow:Assets written to: /content/drive/My Drive/data/LSTM302.cv.1.best/assets\n"
          ],
          "name": "stderr"
        },
        {
          "output_type": "stream",
          "text": [
            "Epoch 87/200\n",
            "453/453 [==============================] - 32s 71ms/step - loss: 0.3395 - accuracy: 0.8584 - val_loss: 0.3162 - val_accuracy: 0.8641\n",
            "Epoch 88/200\n",
            "453/453 [==============================] - 32s 72ms/step - loss: 0.3426 - accuracy: 0.8569 - val_loss: 0.3091 - val_accuracy: 0.8672\n",
            "Epoch 89/200\n",
            "453/453 [==============================] - 32s 71ms/step - loss: 0.3451 - accuracy: 0.8556 - val_loss: 0.3306 - val_accuracy: 0.8560\n",
            "Epoch 90/200\n",
            "453/453 [==============================] - 33s 72ms/step - loss: 0.3413 - accuracy: 0.8526 - val_loss: 0.3484 - val_accuracy: 0.8492\n",
            "Epoch 91/200\n",
            "453/453 [==============================] - 33s 74ms/step - loss: 0.3327 - accuracy: 0.8644 - val_loss: 0.3409 - val_accuracy: 0.8523\n",
            "Epoch 92/200\n",
            "453/453 [==============================] - 32s 71ms/step - loss: 0.3449 - accuracy: 0.8542 - val_loss: 0.3191 - val_accuracy: 0.8616\n",
            "Epoch 93/200\n",
            "453/453 [==============================] - 33s 72ms/step - loss: 0.3316 - accuracy: 0.8641 - val_loss: 0.3229 - val_accuracy: 0.8634\n",
            "Epoch 94/200\n",
            "453/453 [==============================] - 33s 72ms/step - loss: 0.3273 - accuracy: 0.8660 - val_loss: 0.3061 - val_accuracy: 0.8678\n",
            "Epoch 95/200\n",
            "453/453 [==============================] - 33s 72ms/step - loss: 0.3278 - accuracy: 0.8647 - val_loss: 0.3175 - val_accuracy: 0.8622\n",
            "Epoch 96/200\n",
            "453/453 [==============================] - 32s 72ms/step - loss: 0.3287 - accuracy: 0.8614 - val_loss: 0.3138 - val_accuracy: 0.8634\n",
            "Epoch 97/200\n",
            "453/453 [==============================] - 32s 71ms/step - loss: 0.3281 - accuracy: 0.8649 - val_loss: 0.3131 - val_accuracy: 0.8641\n",
            "Epoch 98/200\n",
            "453/453 [==============================] - 33s 72ms/step - loss: 0.3268 - accuracy: 0.8616 - val_loss: 0.3210 - val_accuracy: 0.8616\n",
            "Epoch 99/200\n",
            "453/453 [==============================] - 32s 71ms/step - loss: 0.3220 - accuracy: 0.8694 - val_loss: 0.3330 - val_accuracy: 0.8547\n",
            "Epoch 100/200\n",
            "453/453 [==============================] - 33s 72ms/step - loss: 0.3260 - accuracy: 0.8676 - val_loss: 0.3226 - val_accuracy: 0.8659\n",
            "Epoch 101/200\n",
            "453/453 [==============================] - 33s 73ms/step - loss: 0.3183 - accuracy: 0.8674 - val_loss: 0.3204 - val_accuracy: 0.8628\n",
            "Epoch 102/200\n",
            "453/453 [==============================] - 32s 71ms/step - loss: 0.3230 - accuracy: 0.8682 - val_loss: 0.3126 - val_accuracy: 0.8665\n",
            "Epoch 103/200\n",
            "453/453 [==============================] - 33s 72ms/step - loss: 0.3219 - accuracy: 0.8716 - val_loss: 0.3139 - val_accuracy: 0.8603\n",
            "Epoch 104/200\n",
            "453/453 [==============================] - 33s 72ms/step - loss: 0.3315 - accuracy: 0.8596 - val_loss: 0.3118 - val_accuracy: 0.8684\n",
            "Epoch 105/200\n",
            "453/453 [==============================] - 33s 73ms/step - loss: 0.3180 - accuracy: 0.8682 - val_loss: 0.3125 - val_accuracy: 0.8665\n",
            "Epoch 106/200\n",
            "453/453 [==============================] - 33s 72ms/step - loss: 0.3168 - accuracy: 0.8652 - val_loss: 0.3253 - val_accuracy: 0.8641\n",
            "Epoch 107/200\n",
            "453/453 [==============================] - 33s 73ms/step - loss: 0.3281 - accuracy: 0.8633 - val_loss: 0.3047 - val_accuracy: 0.8684\n",
            "Epoch 108/200\n",
            "453/453 [==============================] - 33s 72ms/step - loss: 0.3249 - accuracy: 0.8654 - val_loss: 0.3023 - val_accuracy: 0.8734\n"
          ],
          "name": "stdout"
        },
        {
          "output_type": "stream",
          "text": [
            "WARNING:absl:Found untraced functions such as lstm_cell_2_layer_call_and_return_conditional_losses, lstm_cell_2_layer_call_fn, lstm_cell_3_layer_call_and_return_conditional_losses, lstm_cell_3_layer_call_fn, lstm_cell_2_layer_call_fn while saving (showing 5 of 10). These functions will not be directly callable after loading.\n",
            "WARNING:absl:Found untraced functions such as lstm_cell_2_layer_call_and_return_conditional_losses, lstm_cell_2_layer_call_fn, lstm_cell_3_layer_call_and_return_conditional_losses, lstm_cell_3_layer_call_fn, lstm_cell_2_layer_call_fn while saving (showing 5 of 10). These functions will not be directly callable after loading.\n"
          ],
          "name": "stderr"
        },
        {
          "output_type": "stream",
          "text": [
            "INFO:tensorflow:Assets written to: /content/drive/My Drive/data/LSTM302.cv.1.best/assets\n"
          ],
          "name": "stdout"
        },
        {
          "output_type": "stream",
          "text": [
            "INFO:tensorflow:Assets written to: /content/drive/My Drive/data/LSTM302.cv.1.best/assets\n"
          ],
          "name": "stderr"
        },
        {
          "output_type": "stream",
          "text": [
            "Epoch 109/200\n",
            "453/453 [==============================] - 32s 71ms/step - loss: 0.3163 - accuracy: 0.8714 - val_loss: 0.3323 - val_accuracy: 0.8616\n",
            "Epoch 110/200\n",
            "453/453 [==============================] - 33s 72ms/step - loss: 0.3190 - accuracy: 0.8678 - val_loss: 0.3152 - val_accuracy: 0.8709\n",
            "Epoch 111/200\n",
            "453/453 [==============================] - 32s 71ms/step - loss: 0.3001 - accuracy: 0.8796 - val_loss: 0.3056 - val_accuracy: 0.8678\n",
            "Epoch 112/200\n",
            "453/453 [==============================] - 32s 71ms/step - loss: 0.3204 - accuracy: 0.8670 - val_loss: 0.3209 - val_accuracy: 0.8690\n",
            "Epoch 113/200\n",
            "453/453 [==============================] - 33s 72ms/step - loss: 0.3066 - accuracy: 0.8778 - val_loss: 0.3122 - val_accuracy: 0.8647\n",
            "Epoch 114/200\n",
            "453/453 [==============================] - 33s 72ms/step - loss: 0.3118 - accuracy: 0.8745 - val_loss: 0.3152 - val_accuracy: 0.8628\n",
            "Epoch 115/200\n",
            "453/453 [==============================] - 32s 72ms/step - loss: 0.3169 - accuracy: 0.8715 - val_loss: 0.3152 - val_accuracy: 0.8641\n",
            "Epoch 116/200\n",
            "453/453 [==============================] - 32s 71ms/step - loss: 0.3161 - accuracy: 0.8714 - val_loss: 0.3076 - val_accuracy: 0.8740\n"
          ],
          "name": "stdout"
        },
        {
          "output_type": "stream",
          "text": [
            "WARNING:absl:Found untraced functions such as lstm_cell_2_layer_call_and_return_conditional_losses, lstm_cell_2_layer_call_fn, lstm_cell_3_layer_call_and_return_conditional_losses, lstm_cell_3_layer_call_fn, lstm_cell_2_layer_call_fn while saving (showing 5 of 10). These functions will not be directly callable after loading.\n",
            "WARNING:absl:Found untraced functions such as lstm_cell_2_layer_call_and_return_conditional_losses, lstm_cell_2_layer_call_fn, lstm_cell_3_layer_call_and_return_conditional_losses, lstm_cell_3_layer_call_fn, lstm_cell_2_layer_call_fn while saving (showing 5 of 10). These functions will not be directly callable after loading.\n"
          ],
          "name": "stderr"
        },
        {
          "output_type": "stream",
          "text": [
            "INFO:tensorflow:Assets written to: /content/drive/My Drive/data/LSTM302.cv.1.best/assets\n"
          ],
          "name": "stdout"
        },
        {
          "output_type": "stream",
          "text": [
            "INFO:tensorflow:Assets written to: /content/drive/My Drive/data/LSTM302.cv.1.best/assets\n"
          ],
          "name": "stderr"
        },
        {
          "output_type": "stream",
          "text": [
            "Epoch 117/200\n",
            "453/453 [==============================] - 33s 73ms/step - loss: 0.3026 - accuracy: 0.8737 - val_loss: 0.3155 - val_accuracy: 0.8665\n",
            "Epoch 118/200\n",
            "453/453 [==============================] - 33s 73ms/step - loss: 0.3077 - accuracy: 0.8725 - val_loss: 0.3125 - val_accuracy: 0.8665\n",
            "Epoch 119/200\n",
            "453/453 [==============================] - 33s 73ms/step - loss: 0.3129 - accuracy: 0.8738 - val_loss: 0.3033 - val_accuracy: 0.8709\n",
            "Epoch 120/200\n",
            "453/453 [==============================] - 33s 73ms/step - loss: 0.3038 - accuracy: 0.8794 - val_loss: 0.3507 - val_accuracy: 0.8634\n",
            "Epoch 121/200\n",
            "453/453 [==============================] - 33s 72ms/step - loss: 0.3078 - accuracy: 0.8738 - val_loss: 0.3083 - val_accuracy: 0.8740\n",
            "Epoch 122/200\n",
            "453/453 [==============================] - 33s 73ms/step - loss: 0.3077 - accuracy: 0.8749 - val_loss: 0.3105 - val_accuracy: 0.8665\n",
            "Epoch 123/200\n",
            "453/453 [==============================] - 33s 73ms/step - loss: 0.3051 - accuracy: 0.8769 - val_loss: 0.3108 - val_accuracy: 0.8727\n",
            "Epoch 124/200\n",
            "453/453 [==============================] - 33s 73ms/step - loss: 0.2897 - accuracy: 0.8856 - val_loss: 0.3294 - val_accuracy: 0.8659\n",
            "Epoch 125/200\n",
            "453/453 [==============================] - 33s 73ms/step - loss: 0.2994 - accuracy: 0.8758 - val_loss: 0.2964 - val_accuracy: 0.8746\n"
          ],
          "name": "stdout"
        },
        {
          "output_type": "stream",
          "text": [
            "WARNING:absl:Found untraced functions such as lstm_cell_2_layer_call_and_return_conditional_losses, lstm_cell_2_layer_call_fn, lstm_cell_3_layer_call_and_return_conditional_losses, lstm_cell_3_layer_call_fn, lstm_cell_2_layer_call_fn while saving (showing 5 of 10). These functions will not be directly callable after loading.\n",
            "WARNING:absl:Found untraced functions such as lstm_cell_2_layer_call_and_return_conditional_losses, lstm_cell_2_layer_call_fn, lstm_cell_3_layer_call_and_return_conditional_losses, lstm_cell_3_layer_call_fn, lstm_cell_2_layer_call_fn while saving (showing 5 of 10). These functions will not be directly callable after loading.\n"
          ],
          "name": "stderr"
        },
        {
          "output_type": "stream",
          "text": [
            "INFO:tensorflow:Assets written to: /content/drive/My Drive/data/LSTM302.cv.1.best/assets\n"
          ],
          "name": "stdout"
        },
        {
          "output_type": "stream",
          "text": [
            "INFO:tensorflow:Assets written to: /content/drive/My Drive/data/LSTM302.cv.1.best/assets\n"
          ],
          "name": "stderr"
        },
        {
          "output_type": "stream",
          "text": [
            "Epoch 126/200\n",
            "453/453 [==============================] - 33s 73ms/step - loss: 0.3102 - accuracy: 0.8748 - val_loss: 0.3288 - val_accuracy: 0.8653\n",
            "Epoch 127/200\n",
            "453/453 [==============================] - 33s 73ms/step - loss: 0.2959 - accuracy: 0.8800 - val_loss: 0.3024 - val_accuracy: 0.8703\n",
            "Epoch 128/200\n",
            "453/453 [==============================] - 33s 73ms/step - loss: 0.3002 - accuracy: 0.8784 - val_loss: 0.3432 - val_accuracy: 0.8622\n",
            "Epoch 129/200\n",
            "453/453 [==============================] - 33s 73ms/step - loss: 0.3128 - accuracy: 0.8684 - val_loss: 0.3066 - val_accuracy: 0.8746\n",
            "Epoch 130/200\n",
            "453/453 [==============================] - 32s 72ms/step - loss: 0.2999 - accuracy: 0.8771 - val_loss: 0.3073 - val_accuracy: 0.8752\n"
          ],
          "name": "stdout"
        },
        {
          "output_type": "stream",
          "text": [
            "WARNING:absl:Found untraced functions such as lstm_cell_2_layer_call_and_return_conditional_losses, lstm_cell_2_layer_call_fn, lstm_cell_3_layer_call_and_return_conditional_losses, lstm_cell_3_layer_call_fn, lstm_cell_2_layer_call_fn while saving (showing 5 of 10). These functions will not be directly callable after loading.\n",
            "WARNING:absl:Found untraced functions such as lstm_cell_2_layer_call_and_return_conditional_losses, lstm_cell_2_layer_call_fn, lstm_cell_3_layer_call_and_return_conditional_losses, lstm_cell_3_layer_call_fn, lstm_cell_2_layer_call_fn while saving (showing 5 of 10). These functions will not be directly callable after loading.\n"
          ],
          "name": "stderr"
        },
        {
          "output_type": "stream",
          "text": [
            "INFO:tensorflow:Assets written to: /content/drive/My Drive/data/LSTM302.cv.1.best/assets\n"
          ],
          "name": "stdout"
        },
        {
          "output_type": "stream",
          "text": [
            "INFO:tensorflow:Assets written to: /content/drive/My Drive/data/LSTM302.cv.1.best/assets\n"
          ],
          "name": "stderr"
        },
        {
          "output_type": "stream",
          "text": [
            "Epoch 131/200\n",
            "453/453 [==============================] - 34s 75ms/step - loss: 0.2942 - accuracy: 0.8771 - val_loss: 0.3150 - val_accuracy: 0.8690\n",
            "Epoch 132/200\n",
            "453/453 [==============================] - 33s 72ms/step - loss: 0.2908 - accuracy: 0.8833 - val_loss: 0.3493 - val_accuracy: 0.8579\n",
            "Epoch 133/200\n",
            "453/453 [==============================] - 33s 73ms/step - loss: 0.2987 - accuracy: 0.8803 - val_loss: 0.3257 - val_accuracy: 0.8715\n",
            "Epoch 134/200\n",
            "453/453 [==============================] - 32s 72ms/step - loss: 0.2938 - accuracy: 0.8780 - val_loss: 0.3052 - val_accuracy: 0.8808\n"
          ],
          "name": "stdout"
        },
        {
          "output_type": "stream",
          "text": [
            "WARNING:absl:Found untraced functions such as lstm_cell_2_layer_call_and_return_conditional_losses, lstm_cell_2_layer_call_fn, lstm_cell_3_layer_call_and_return_conditional_losses, lstm_cell_3_layer_call_fn, lstm_cell_2_layer_call_fn while saving (showing 5 of 10). These functions will not be directly callable after loading.\n",
            "WARNING:absl:Found untraced functions such as lstm_cell_2_layer_call_and_return_conditional_losses, lstm_cell_2_layer_call_fn, lstm_cell_3_layer_call_and_return_conditional_losses, lstm_cell_3_layer_call_fn, lstm_cell_2_layer_call_fn while saving (showing 5 of 10). These functions will not be directly callable after loading.\n"
          ],
          "name": "stderr"
        },
        {
          "output_type": "stream",
          "text": [
            "INFO:tensorflow:Assets written to: /content/drive/My Drive/data/LSTM302.cv.1.best/assets\n"
          ],
          "name": "stdout"
        },
        {
          "output_type": "stream",
          "text": [
            "INFO:tensorflow:Assets written to: /content/drive/My Drive/data/LSTM302.cv.1.best/assets\n"
          ],
          "name": "stderr"
        },
        {
          "output_type": "stream",
          "text": [
            "Epoch 135/200\n",
            "453/453 [==============================] - 33s 72ms/step - loss: 0.3032 - accuracy: 0.8742 - val_loss: 0.3136 - val_accuracy: 0.8665\n",
            "Epoch 136/200\n",
            "453/453 [==============================] - 33s 73ms/step - loss: 0.3037 - accuracy: 0.8704 - val_loss: 0.3567 - val_accuracy: 0.8634\n",
            "Epoch 137/200\n",
            "453/453 [==============================] - 32s 72ms/step - loss: 0.3007 - accuracy: 0.8784 - val_loss: 0.3106 - val_accuracy: 0.8690\n",
            "Epoch 138/200\n",
            "453/453 [==============================] - 32s 71ms/step - loss: 0.2928 - accuracy: 0.8803 - val_loss: 0.3127 - val_accuracy: 0.8752\n",
            "Epoch 139/200\n",
            "453/453 [==============================] - 33s 72ms/step - loss: 0.2936 - accuracy: 0.8821 - val_loss: 0.3212 - val_accuracy: 0.8721\n",
            "Epoch 140/200\n",
            "453/453 [==============================] - 33s 73ms/step - loss: 0.2914 - accuracy: 0.8816 - val_loss: 0.3588 - val_accuracy: 0.8579\n",
            "Epoch 141/200\n",
            "453/453 [==============================] - 32s 72ms/step - loss: 0.2791 - accuracy: 0.8889 - val_loss: 0.3157 - val_accuracy: 0.8727\n",
            "Epoch 142/200\n",
            "453/453 [==============================] - 33s 73ms/step - loss: 0.2901 - accuracy: 0.8832 - val_loss: 0.3065 - val_accuracy: 0.8752\n",
            "Epoch 143/200\n",
            "453/453 [==============================] - 32s 71ms/step - loss: 0.2822 - accuracy: 0.8848 - val_loss: 0.3139 - val_accuracy: 0.8696\n",
            "Epoch 144/200\n",
            "453/453 [==============================] - 33s 73ms/step - loss: 0.2821 - accuracy: 0.8875 - val_loss: 0.2971 - val_accuracy: 0.8790\n",
            "Epoch 145/200\n",
            "453/453 [==============================] - 34s 75ms/step - loss: 0.2900 - accuracy: 0.8869 - val_loss: 0.3510 - val_accuracy: 0.8684\n",
            "Epoch 146/200\n",
            "453/453 [==============================] - 33s 73ms/step - loss: 0.2962 - accuracy: 0.8795 - val_loss: 0.3122 - val_accuracy: 0.8703\n",
            "Epoch 147/200\n",
            "453/453 [==============================] - 33s 74ms/step - loss: 0.2983 - accuracy: 0.8787 - val_loss: 0.3251 - val_accuracy: 0.8746\n",
            "Epoch 148/200\n",
            "453/453 [==============================] - 33s 74ms/step - loss: 0.2845 - accuracy: 0.8814 - val_loss: 0.3170 - val_accuracy: 0.8759\n",
            "Epoch 149/200\n",
            "453/453 [==============================] - 34s 75ms/step - loss: 0.2966 - accuracy: 0.8794 - val_loss: 0.3083 - val_accuracy: 0.8790\n",
            "Epoch 150/200\n",
            "453/453 [==============================] - 34s 75ms/step - loss: 0.2820 - accuracy: 0.8877 - val_loss: 0.3373 - val_accuracy: 0.8585\n",
            "Epoch 151/200\n",
            "453/453 [==============================] - 33s 74ms/step - loss: 0.2852 - accuracy: 0.8830 - val_loss: 0.3082 - val_accuracy: 0.8759\n",
            "Epoch 152/200\n",
            "453/453 [==============================] - 33s 74ms/step - loss: 0.2899 - accuracy: 0.8832 - val_loss: 0.3296 - val_accuracy: 0.8703\n",
            "Epoch 153/200\n",
            "453/453 [==============================] - 33s 73ms/step - loss: 0.2823 - accuracy: 0.8828 - val_loss: 0.3313 - val_accuracy: 0.8659\n",
            "Epoch 154/200\n",
            "453/453 [==============================] - 33s 72ms/step - loss: 0.2748 - accuracy: 0.8896 - val_loss: 0.3088 - val_accuracy: 0.8690\n",
            "Epoch 155/200\n",
            "453/453 [==============================] - 33s 73ms/step - loss: 0.2825 - accuracy: 0.8898 - val_loss: 0.3236 - val_accuracy: 0.8715\n",
            "Epoch 156/200\n",
            "453/453 [==============================] - 33s 73ms/step - loss: 0.2901 - accuracy: 0.8829 - val_loss: 0.3099 - val_accuracy: 0.8734\n",
            "Epoch 157/200\n",
            "453/453 [==============================] - 33s 72ms/step - loss: 0.2716 - accuracy: 0.8947 - val_loss: 0.3196 - val_accuracy: 0.8734\n",
            "Epoch 158/200\n",
            "453/453 [==============================] - 33s 72ms/step - loss: 0.2864 - accuracy: 0.8817 - val_loss: 0.3074 - val_accuracy: 0.8727\n",
            "Epoch 159/200\n",
            "453/453 [==============================] - 34s 74ms/step - loss: 0.2829 - accuracy: 0.8829 - val_loss: 0.3336 - val_accuracy: 0.8759\n",
            "Epoch 160/200\n",
            "453/453 [==============================] - 33s 72ms/step - loss: 0.2721 - accuracy: 0.8893 - val_loss: 0.3408 - val_accuracy: 0.8734\n",
            "Epoch 161/200\n",
            "453/453 [==============================] - 33s 72ms/step - loss: 0.2836 - accuracy: 0.8874 - val_loss: 0.3145 - val_accuracy: 0.8790\n",
            "Epoch 162/200\n",
            "453/453 [==============================] - 33s 73ms/step - loss: 0.2858 - accuracy: 0.8818 - val_loss: 0.3594 - val_accuracy: 0.8665\n",
            "Epoch 163/200\n",
            "453/453 [==============================] - 33s 73ms/step - loss: 0.2805 - accuracy: 0.8862 - val_loss: 0.3112 - val_accuracy: 0.8783\n",
            "Epoch 164/200\n",
            "453/453 [==============================] - 33s 72ms/step - loss: 0.2755 - accuracy: 0.8858 - val_loss: 0.3210 - val_accuracy: 0.8771\n",
            "Epoch 165/200\n",
            "453/453 [==============================] - 33s 73ms/step - loss: 0.2866 - accuracy: 0.8827 - val_loss: 0.3091 - val_accuracy: 0.8777\n",
            "Epoch 166/200\n",
            "453/453 [==============================] - 33s 72ms/step - loss: 0.2841 - accuracy: 0.8861 - val_loss: 0.3081 - val_accuracy: 0.8808\n",
            "Epoch 167/200\n",
            "453/453 [==============================] - 33s 72ms/step - loss: 0.2739 - accuracy: 0.8883 - val_loss: 0.3079 - val_accuracy: 0.8647\n",
            "Epoch 168/200\n",
            "453/453 [==============================] - 33s 73ms/step - loss: 0.2747 - accuracy: 0.8898 - val_loss: 0.3022 - val_accuracy: 0.8777\n",
            "Epoch 169/200\n",
            "453/453 [==============================] - 32s 72ms/step - loss: 0.2753 - accuracy: 0.8864 - val_loss: 0.3241 - val_accuracy: 0.8721\n",
            "Epoch 170/200\n",
            "453/453 [==============================] - 33s 72ms/step - loss: 0.2785 - accuracy: 0.8855 - val_loss: 0.3839 - val_accuracy: 0.8547\n",
            "Epoch 171/200\n",
            "453/453 [==============================] - 33s 73ms/step - loss: 0.2826 - accuracy: 0.8864 - val_loss: 0.3000 - val_accuracy: 0.8783\n",
            "Epoch 172/200\n",
            "453/453 [==============================] - 33s 72ms/step - loss: 0.2753 - accuracy: 0.8919 - val_loss: 0.3189 - val_accuracy: 0.8721\n",
            "Epoch 173/200\n",
            "453/453 [==============================] - 33s 73ms/step - loss: 0.2783 - accuracy: 0.8852 - val_loss: 0.3080 - val_accuracy: 0.8709\n",
            "Epoch 174/200\n",
            "453/453 [==============================] - 33s 72ms/step - loss: 0.2694 - accuracy: 0.8966 - val_loss: 0.3185 - val_accuracy: 0.8727\n",
            "Epoch 175/200\n",
            "453/453 [==============================] - 33s 72ms/step - loss: 0.2635 - accuracy: 0.8948 - val_loss: 0.3115 - val_accuracy: 0.8721\n",
            "Epoch 176/200\n",
            "453/453 [==============================] - 33s 72ms/step - loss: 0.2767 - accuracy: 0.8883 - val_loss: 0.3069 - val_accuracy: 0.8740\n",
            "Epoch 177/200\n",
            "453/453 [==============================] - 32s 71ms/step - loss: 0.2762 - accuracy: 0.8880 - val_loss: 0.3103 - val_accuracy: 0.8740\n",
            "Epoch 178/200\n",
            "453/453 [==============================] - 33s 72ms/step - loss: 0.2719 - accuracy: 0.8889 - val_loss: 0.3308 - val_accuracy: 0.8696\n",
            "Epoch 179/200\n",
            "453/453 [==============================] - 32s 71ms/step - loss: 0.2682 - accuracy: 0.8972 - val_loss: 0.3345 - val_accuracy: 0.8678\n",
            "Epoch 180/200\n",
            "453/453 [==============================] - 32s 72ms/step - loss: 0.2882 - accuracy: 0.8829 - val_loss: 0.3184 - val_accuracy: 0.8759\n",
            "Epoch 181/200\n",
            "453/453 [==============================] - 33s 72ms/step - loss: 0.2714 - accuracy: 0.8922 - val_loss: 0.3207 - val_accuracy: 0.8715\n",
            "Epoch 182/200\n",
            "453/453 [==============================] - 32s 72ms/step - loss: 0.2700 - accuracy: 0.8890 - val_loss: 0.3163 - val_accuracy: 0.8703\n",
            "Epoch 183/200\n",
            "453/453 [==============================] - 33s 72ms/step - loss: 0.2658 - accuracy: 0.8973 - val_loss: 0.3415 - val_accuracy: 0.8672\n",
            "Epoch 184/200\n",
            "453/453 [==============================] - 33s 72ms/step - loss: 0.2670 - accuracy: 0.8936 - val_loss: 0.3387 - val_accuracy: 0.8709\n",
            "Epoch 185/200\n",
            "453/453 [==============================] - 32s 71ms/step - loss: 0.2773 - accuracy: 0.8887 - val_loss: 0.3453 - val_accuracy: 0.8678\n",
            "Epoch 186/200\n",
            "453/453 [==============================] - 33s 72ms/step - loss: 0.2713 - accuracy: 0.8930 - val_loss: 0.3094 - val_accuracy: 0.8796\n",
            "Epoch 187/200\n",
            "453/453 [==============================] - 33s 73ms/step - loss: 0.2654 - accuracy: 0.8902 - val_loss: 0.3149 - val_accuracy: 0.8771\n",
            "Epoch 188/200\n",
            "453/453 [==============================] - 32s 72ms/step - loss: 0.2718 - accuracy: 0.8912 - val_loss: 0.3162 - val_accuracy: 0.8771\n",
            "Epoch 189/200\n",
            "453/453 [==============================] - 33s 72ms/step - loss: 0.2755 - accuracy: 0.8901 - val_loss: 0.3551 - val_accuracy: 0.8622\n",
            "Epoch 190/200\n",
            "453/453 [==============================] - 32s 71ms/step - loss: 0.2712 - accuracy: 0.8945 - val_loss: 0.3534 - val_accuracy: 0.8721\n",
            "Epoch 191/200\n",
            "453/453 [==============================] - 32s 71ms/step - loss: 0.2679 - accuracy: 0.8928 - val_loss: 0.3233 - val_accuracy: 0.8752\n",
            "Epoch 192/200\n",
            "453/453 [==============================] - 33s 73ms/step - loss: 0.2747 - accuracy: 0.8901 - val_loss: 0.3169 - val_accuracy: 0.8771\n",
            "Epoch 193/200\n",
            "453/453 [==============================] - 33s 72ms/step - loss: 0.2615 - accuracy: 0.8967 - val_loss: 0.3094 - val_accuracy: 0.8765\n",
            "Epoch 194/200\n",
            "453/453 [==============================] - 32s 71ms/step - loss: 0.2638 - accuracy: 0.8942 - val_loss: 0.3417 - val_accuracy: 0.8684\n",
            "Epoch 195/200\n",
            "453/453 [==============================] - 32s 72ms/step - loss: 0.2675 - accuracy: 0.8927 - val_loss: 0.3359 - val_accuracy: 0.8696\n",
            "Epoch 196/200\n",
            "453/453 [==============================] - 32s 72ms/step - loss: 0.2785 - accuracy: 0.8896 - val_loss: 0.3114 - val_accuracy: 0.8746\n",
            "Epoch 197/200\n",
            "453/453 [==============================] - 33s 73ms/step - loss: 0.2664 - accuracy: 0.8915 - val_loss: 0.3248 - val_accuracy: 0.8715\n",
            "Epoch 198/200\n",
            "453/453 [==============================] - 33s 72ms/step - loss: 0.2622 - accuracy: 0.8964 - val_loss: 0.3350 - val_accuracy: 0.8721\n",
            "Epoch 199/200\n",
            "453/453 [==============================] - 33s 73ms/step - loss: 0.2700 - accuracy: 0.8905 - val_loss: 0.3293 - val_accuracy: 0.8759\n",
            "Epoch 200/200\n",
            "453/453 [==============================] - 32s 72ms/step - loss: 0.2618 - accuracy: 0.8923 - val_loss: 0.3172 - val_accuracy: 0.8759\n",
            "Fold 1, 200 epochs, 7029 sec\n"
          ],
          "name": "stdout"
        },
        {
          "output_type": "display_data",
          "data": {
            "image/png": "[encoded data removed]",
            "text/plain": [
              "<Figure size 576x360 with 1 Axes>"
            ]
          },
          "metadata": {
            "tags": [],
            "needs_background": "light"
          }
        },
        {
          "output_type": "stream",
          "text": [
            "accuracy: 88.08%\n",
            "COMPILE...\n",
            "...COMPILED\n",
            "FIT\n",
            "Epoch 1/200\n",
            "453/453 [==============================] - 41s 76ms/step - loss: 0.6416 - accuracy: 0.6490 - val_loss: 0.6435 - val_accuracy: 0.6449\n"
          ],
          "name": "stdout"
        },
        {
          "output_type": "stream",
          "text": [
            "WARNING:absl:Found untraced functions such as lstm_cell_6_layer_call_and_return_conditional_losses, lstm_cell_6_layer_call_fn, lstm_cell_7_layer_call_and_return_conditional_losses, lstm_cell_7_layer_call_fn, lstm_cell_6_layer_call_fn while saving (showing 5 of 10). These functions will not be directly callable after loading.\n",
            "WARNING:absl:Found untraced functions such as lstm_cell_6_layer_call_and_return_conditional_losses, lstm_cell_6_layer_call_fn, lstm_cell_7_layer_call_and_return_conditional_losses, lstm_cell_7_layer_call_fn, lstm_cell_6_layer_call_fn while saving (showing 5 of 10). These functions will not be directly callable after loading.\n"
          ],
          "name": "stderr"
        },
        {
          "output_type": "stream",
          "text": [
            "INFO:tensorflow:Assets written to: /content/drive/My Drive/data/LSTM302.cv.2.best/assets\n"
          ],
          "name": "stdout"
        },
        {
          "output_type": "stream",
          "text": [
            "INFO:tensorflow:Assets written to: /content/drive/My Drive/data/LSTM302.cv.2.best/assets\n"
          ],
          "name": "stderr"
        },
        {
          "output_type": "stream",
          "text": [
            "Epoch 2/200\n",
            "453/453 [==============================] - 33s 72ms/step - loss: 0.6279 - accuracy: 0.6518 - val_loss: 0.6095 - val_accuracy: 0.6735\n"
          ],
          "name": "stdout"
        },
        {
          "output_type": "stream",
          "text": [
            "WARNING:absl:Found untraced functions such as lstm_cell_6_layer_call_and_return_conditional_losses, lstm_cell_6_layer_call_fn, lstm_cell_7_layer_call_and_return_conditional_losses, lstm_cell_7_layer_call_fn, lstm_cell_6_layer_call_fn while saving (showing 5 of 10). These functions will not be directly callable after loading.\n",
            "WARNING:absl:Found untraced functions such as lstm_cell_6_layer_call_and_return_conditional_losses, lstm_cell_6_layer_call_fn, lstm_cell_7_layer_call_and_return_conditional_losses, lstm_cell_7_layer_call_fn, lstm_cell_6_layer_call_fn while saving (showing 5 of 10). These functions will not be directly callable after loading.\n"
          ],
          "name": "stderr"
        },
        {
          "output_type": "stream",
          "text": [
            "INFO:tensorflow:Assets written to: /content/drive/My Drive/data/LSTM302.cv.2.best/assets\n"
          ],
          "name": "stdout"
        },
        {
          "output_type": "stream",
          "text": [
            "INFO:tensorflow:Assets written to: /content/drive/My Drive/data/LSTM302.cv.2.best/assets\n"
          ],
          "name": "stderr"
        },
        {
          "output_type": "stream",
          "text": [
            "Epoch 3/200\n",
            "453/453 [==============================] - 32s 71ms/step - loss: 0.6035 - accuracy: 0.6801 - val_loss: 0.6081 - val_accuracy: 0.6741\n"
          ],
          "name": "stdout"
        },
        {
          "output_type": "stream",
          "text": [
            "WARNING:absl:Found untraced functions such as lstm_cell_6_layer_call_and_return_conditional_losses, lstm_cell_6_layer_call_fn, lstm_cell_7_layer_call_and_return_conditional_losses, lstm_cell_7_layer_call_fn, lstm_cell_6_layer_call_fn while saving (showing 5 of 10). These functions will not be directly callable after loading.\n",
            "WARNING:absl:Found untraced functions such as lstm_cell_6_layer_call_and_return_conditional_losses, lstm_cell_6_layer_call_fn, lstm_cell_7_layer_call_and_return_conditional_losses, lstm_cell_7_layer_call_fn, lstm_cell_6_layer_call_fn while saving (showing 5 of 10). These functions will not be directly callable after loading.\n"
          ],
          "name": "stderr"
        },
        {
          "output_type": "stream",
          "text": [
            "INFO:tensorflow:Assets written to: /content/drive/My Drive/data/LSTM302.cv.2.best/assets\n"
          ],
          "name": "stdout"
        },
        {
          "output_type": "stream",
          "text": [
            "INFO:tensorflow:Assets written to: /content/drive/My Drive/data/LSTM302.cv.2.best/assets\n"
          ],
          "name": "stderr"
        },
        {
          "output_type": "stream",
          "text": [
            "Epoch 4/200\n",
            "453/453 [==============================] - 33s 73ms/step - loss: 0.6020 - accuracy: 0.6875 - val_loss: 0.7401 - val_accuracy: 0.5326\n",
            "Epoch 5/200\n",
            "453/453 [==============================] - 32s 72ms/step - loss: 0.6192 - accuracy: 0.6676 - val_loss: 0.6466 - val_accuracy: 0.6449\n",
            "Epoch 6/200\n",
            "453/453 [==============================] - 33s 73ms/step - loss: 0.6222 - accuracy: 0.6506 - val_loss: 0.6022 - val_accuracy: 0.6791\n"
          ],
          "name": "stdout"
        },
        {
          "output_type": "stream",
          "text": [
            "WARNING:absl:Found untraced functions such as lstm_cell_6_layer_call_and_return_conditional_losses, lstm_cell_6_layer_call_fn, lstm_cell_7_layer_call_and_return_conditional_losses, lstm_cell_7_layer_call_fn, lstm_cell_6_layer_call_fn while saving (showing 5 of 10). These functions will not be directly callable after loading.\n",
            "WARNING:absl:Found untraced functions such as lstm_cell_6_layer_call_and_return_conditional_losses, lstm_cell_6_layer_call_fn, lstm_cell_7_layer_call_and_return_conditional_losses, lstm_cell_7_layer_call_fn, lstm_cell_6_layer_call_fn while saving (showing 5 of 10). These functions will not be directly callable after loading.\n"
          ],
          "name": "stderr"
        },
        {
          "output_type": "stream",
          "text": [
            "INFO:tensorflow:Assets written to: /content/drive/My Drive/data/LSTM302.cv.2.best/assets\n"
          ],
          "name": "stdout"
        },
        {
          "output_type": "stream",
          "text": [
            "INFO:tensorflow:Assets written to: /content/drive/My Drive/data/LSTM302.cv.2.best/assets\n"
          ],
          "name": "stderr"
        },
        {
          "output_type": "stream",
          "text": [
            "Epoch 7/200\n",
            "453/453 [==============================] - 33s 73ms/step - loss: 0.6002 - accuracy: 0.6810 - val_loss: 0.6028 - val_accuracy: 0.6927\n"
          ],
          "name": "stdout"
        },
        {
          "output_type": "stream",
          "text": [
            "WARNING:absl:Found untraced functions such as lstm_cell_6_layer_call_and_return_conditional_losses, lstm_cell_6_layer_call_fn, lstm_cell_7_layer_call_and_return_conditional_losses, lstm_cell_7_layer_call_fn, lstm_cell_6_layer_call_fn while saving (showing 5 of 10). These functions will not be directly callable after loading.\n",
            "WARNING:absl:Found untraced functions such as lstm_cell_6_layer_call_and_return_conditional_losses, lstm_cell_6_layer_call_fn, lstm_cell_7_layer_call_and_return_conditional_losses, lstm_cell_7_layer_call_fn, lstm_cell_6_layer_call_fn while saving (showing 5 of 10). These functions will not be directly callable after loading.\n"
          ],
          "name": "stderr"
        },
        {
          "output_type": "stream",
          "text": [
            "INFO:tensorflow:Assets written to: /content/drive/My Drive/data/LSTM302.cv.2.best/assets\n"
          ],
          "name": "stdout"
        },
        {
          "output_type": "stream",
          "text": [
            "INFO:tensorflow:Assets written to: /content/drive/My Drive/data/LSTM302.cv.2.best/assets\n"
          ],
          "name": "stderr"
        },
        {
          "output_type": "stream",
          "text": [
            "Epoch 8/200\n",
            "453/453 [==============================] - 33s 73ms/step - loss: 0.5939 - accuracy: 0.7018 - val_loss: 0.6152 - val_accuracy: 0.6691\n",
            "Epoch 9/200\n",
            "453/453 [==============================] - 33s 73ms/step - loss: 0.6176 - accuracy: 0.6733 - val_loss: 0.6091 - val_accuracy: 0.6716\n",
            "Epoch 10/200\n",
            "453/453 [==============================] - 33s 73ms/step - loss: 0.6085 - accuracy: 0.6829 - val_loss: 0.5953 - val_accuracy: 0.6946\n"
          ],
          "name": "stdout"
        },
        {
          "output_type": "stream",
          "text": [
            "WARNING:absl:Found untraced functions such as lstm_cell_6_layer_call_and_return_conditional_losses, lstm_cell_6_layer_call_fn, lstm_cell_7_layer_call_and_return_conditional_losses, lstm_cell_7_layer_call_fn, lstm_cell_6_layer_call_fn while saving (showing 5 of 10). These functions will not be directly callable after loading.\n",
            "WARNING:absl:Found untraced functions such as lstm_cell_6_layer_call_and_return_conditional_losses, lstm_cell_6_layer_call_fn, lstm_cell_7_layer_call_and_return_conditional_losses, lstm_cell_7_layer_call_fn, lstm_cell_6_layer_call_fn while saving (showing 5 of 10). These functions will not be directly callable after loading.\n"
          ],
          "name": "stderr"
        },
        {
          "output_type": "stream",
          "text": [
            "INFO:tensorflow:Assets written to: /content/drive/My Drive/data/LSTM302.cv.2.best/assets\n"
          ],
          "name": "stdout"
        },
        {
          "output_type": "stream",
          "text": [
            "INFO:tensorflow:Assets written to: /content/drive/My Drive/data/LSTM302.cv.2.best/assets\n"
          ],
          "name": "stderr"
        },
        {
          "output_type": "stream",
          "text": [
            "Epoch 11/200\n",
            "453/453 [==============================] - 32s 72ms/step - loss: 0.6257 - accuracy: 0.6641 - val_loss: 0.6050 - val_accuracy: 0.6654\n",
            "Epoch 12/200\n",
            "453/453 [==============================] - 33s 72ms/step - loss: 0.6123 - accuracy: 0.6819 - val_loss: 0.6477 - val_accuracy: 0.6449\n",
            "Epoch 13/200\n",
            "452/453 [============================>.] - ETA: 0s - loss: 0.6460 - accuracy: 0.6385"
          ],
          "name": "stdout"
        }
      ]
    },
    {
      "cell_type": "code",
      "metadata": {
        "id": "p4fh2GI8beMQ"
      },
      "source": [
        ""
      ],
      "execution_count": null,
      "outputs": []
    }
  ]
}