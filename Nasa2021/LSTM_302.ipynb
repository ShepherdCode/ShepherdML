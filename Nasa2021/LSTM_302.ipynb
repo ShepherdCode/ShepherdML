{
  "nbformat": 4,
  "nbformat_minor": 0,
  "metadata": {
    "accelerator": "GPU",
    "colab": {
      "name": "LSTM_302.ipynb",
      "provenance": [],
      "collapsed_sections": []
    },
    "kernelspec": {
      "display_name": "Python 3",
      "language": "python",
      "name": "python3"
    },
    "language_info": {
      "codemirror_mode": {
        "name": "ipython",
        "version": 3
      },
      "file_extension": ".py",
      "mimetype": "text/x-python",
      "name": "python",
      "nbconvert_exporter": "python",
      "pygments_lexer": "ipython3",
      "version": "3.8.3"
    }
  },
  "cells": [
    {
      "cell_type": "markdown",
      "metadata": {
        "id": "ojm_6E9f9Kcf"
      },
      "source": [
        "# LSTM 302\n",
        "Start with LSTM 201 and modify it to use our updated code infrastructure."
      ]
    },
    {
      "cell_type": "code",
      "metadata": {
        "colab": {
          "base_uri": "https://localhost:8080/"
        },
        "id": "hh6XplUvC0j0",
        "outputId": "ccf442f0-a4ee-440e-80b0-9cba0821ac51"
      },
      "source": [
        "NC_FILENAME='ncRNA.gc34.processed.fasta'\n",
        "PC_FILENAME='pcRNA.gc34.processed.fasta'\n",
        "MODEL_FILE='LSTM302'   # load not save!\n",
        "DATAPATH=''\n",
        "\n",
        "try:\n",
        "    from google.colab import drive\n",
        "    IN_COLAB = True\n",
        "    PATH='/content/drive/'\n",
        "    drive.mount(PATH)\n",
        "    DATAPATH=PATH+'My Drive/data/'  # must end in \"/\"\n",
        "except:\n",
        "    IN_COLAB = False\n",
        "    DATAPATH='data/'  # must end in \"/\"\n",
        "NC_FILENAME = DATAPATH+NC_FILENAME\n",
        "PC_FILENAME = DATAPATH+PC_FILENAME\n",
        "MODEL_FILE=DATAPATH+MODEL_FILE\n",
        "\n",
        "EPOCHS=100\n",
        "SPLITS=1\n",
        "K=3\n",
        "VOCABULARY_SIZE=4**K+1   # e.g. K=3 => 64 DNA K-mers + 'NNN'\n",
        "EMBED_DIMEN=16\n",
        "NEURONS=16\n",
        "DROP=0.25\n",
        "ACT=\"tanh\""
      ],
      "execution_count": 1,
      "outputs": [
        {
          "output_type": "stream",
          "text": [
            "Drive already mounted at /content/drive/; to attempt to forcibly remount, call drive.mount(\"/content/drive/\", force_remount=True).\n"
          ],
          "name": "stdout"
        }
      ]
    },
    {
      "cell_type": "code",
      "metadata": {
        "colab": {
          "base_uri": "https://localhost:8080/"
        },
        "id": "e9TY3HK9ZklE",
        "outputId": "584b4e5d-c4da-4f1f-ab26-600ecc172bea"
      },
      "source": [
        "# Load our own tools\n",
        "GITHUB = True\n",
        "if GITHUB:\n",
        "    #!pip install requests  # Uncomment this if necessary. Seems to be pre-installed.\n",
        "    import requests\n",
        "    r = requests.get('https://raw.githubusercontent.com/ShepherdCode/ShepherdML/master/Strings/tools_fasta.py')\n",
        "    with open('tools_fasta.py', 'w') as f:\n",
        "        f.write(r.text)\n",
        "    # TO DO: delete the file after import\n",
        "import tools_fasta as tools\n",
        "tools.yahoo()  # If this prints \"Yahoo!\" the the import was successful.\n",
        "\n",
        "TOOLS_CHANGED = False   # set to True to re-run with a new version of tools\n",
        "if TOOLS_CHANGED:\n",
        "  from importlib import reload \n",
        "  tools=reload(tools)\n",
        "  print(dir(tools))   # run this to see EVERYTHING in the tools module"
      ],
      "execution_count": 2,
      "outputs": [
        {
          "output_type": "stream",
          "text": [
            "Yahoo!\n"
          ],
          "name": "stdout"
        }
      ]
    },
    {
      "cell_type": "code",
      "metadata": {
        "id": "VQY7aTj29Kch"
      },
      "source": [
        "import numpy as np\n",
        "import pandas as pd\n",
        "import matplotlib.pyplot as plt\n",
        "from sklearn.model_selection import ShuffleSplit\n",
        "from sklearn.model_selection import cross_val_score\n",
        "from sklearn.model_selection import RepeatedKFold\n",
        "from sklearn.model_selection import StratifiedKFold\n",
        "import tensorflow as tf\n",
        "from tensorflow import keras\n",
        "#from keras.wrappers.scikit_learn import KerasRegressor\n",
        "from keras.models import Sequential\n",
        "from keras.layers import Bidirectional\n",
        "from keras.layers import GRU\n",
        "from keras.layers import Dense\n",
        "from keras.layers import LayerNormalization\n",
        "import time\n",
        "dt='float32'\n",
        "tf.keras.backend.set_floatx(dt)"
      ],
      "execution_count": 3,
      "outputs": []
    },
    {
      "cell_type": "markdown",
      "metadata": {
        "id": "j7jcg6Wl9Kc2"
      },
      "source": [
        "Build model"
      ]
    },
    {
      "cell_type": "code",
      "metadata": {
        "id": "qLFNO1Xa9Kc3"
      },
      "source": [
        "def compile_model(model):\n",
        "    adam_default_learn_rate = 0.001\n",
        "    schedule = tf.keras.optimizers.schedules.ExponentialDecay(\n",
        "        initial_learning_rate = adam_default_learn_rate*10,\n",
        "        #decay_steps=100000, decay_rate=0.96, staircase=True)\n",
        "        decay_steps=10000, decay_rate=0.99, staircase=True)\n",
        "    # learn rate = initial_learning_rate * decay_rate ^ (step / decay_steps)\n",
        "    alrd = tf.keras.optimizers.Adam(learning_rate=schedule)\n",
        "    bc=tf.keras.losses.BinaryCrossentropy(from_logits=False)\n",
        "    print(\"COMPILE...\")\n",
        "    #model.compile(loss=bc, optimizer=alrd, metrics=[\"accuracy\"])\n",
        "    model.compile(loss=bc, optimizer=\"adam\", metrics=[\"accuracy\"])\n",
        "    print(\"...COMPILED\")\n",
        "    return model\n",
        "\n",
        "def build_model():\n",
        "    embed_layer  = keras.layers.Embedding(\n",
        "        #VOCABULARY_SIZE, EMBED_DIMEN, input_length=1000, input_length=1000, mask_zero=True)\n",
        "        #input_dim=[None,VOCABULARY_SIZE], output_dim=EMBED_DIMEN, mask_zero=True)\n",
        "        input_dim=VOCABULARY_SIZE, output_dim=EMBED_DIMEN, mask_zero=True)\n",
        "    rnn1_layer = keras.layers.Bidirectional(\n",
        "      keras.layers.LSTM(NEURONS, return_sequences=True, \n",
        "          input_shape=[1000,EMBED_DIMEN], activation=ACT, dropout=DROP) )#bi\n",
        "    rnn2_layer = keras.layers.Bidirectional(\n",
        "      keras.layers.LSTM(NEURONS, return_sequences=False, \n",
        "        activation=ACT, dropout=DROP) )#bi\n",
        "    dense1_layer = keras.layers.Dense(NEURONS, activation=ACT,dtype=dt)\n",
        "    drop1_layer = keras.layers.Dropout(DROP)\n",
        "    dense2_layer = keras.layers.Dense(NEURONS, activation=ACT,dtype=dt)\n",
        "    drop2_layer = keras.layers.Dropout(DROP)\n",
        "    output_layer = keras.layers.Dense(1, activation=\"sigmoid\", dtype=dt)\n",
        "    mlp = keras.models.Sequential()\n",
        "    mlp.add(embed_layer)\n",
        "    mlp.add(rnn1_layer)\n",
        "    mlp.add(rnn2_layer)\n",
        "    mlp.add(dense1_layer)\n",
        "    mlp.add(drop1_layer)\n",
        "    mlp.add(dense2_layer)\n",
        "    mlp.add(drop2_layer)\n",
        "    mlp.add(output_layer)\n",
        "    mlpc = compile_model(mlp)\n",
        "    return mlpc"
      ],
      "execution_count": 9,
      "outputs": []
    },
    {
      "cell_type": "markdown",
      "metadata": {
        "id": "WV6k-xOm9Kcn"
      },
      "source": [
        "Partition sequences"
      ]
    },
    {
      "cell_type": "code",
      "metadata": {
        "id": "1I-O_qzw9Kco"
      },
      "source": [
        "def make_slice(data_set,min_len,max_len):\n",
        "    slice = data_set.query('seqlen <= '+str(max_len)+' & seqlen>= '+str(min_len))\n",
        "    return slice"
      ],
      "execution_count": 5,
      "outputs": []
    },
    {
      "cell_type": "markdown",
      "metadata": {
        "id": "LdIS2utq9Kc9"
      },
      "source": [
        "Cross validation"
      ]
    },
    {
      "cell_type": "code",
      "metadata": {
        "id": "BVo4tbB_9Kc-"
      },
      "source": [
        "def do_cross_validation(X,y,given_model):\n",
        "    cv_scores = []\n",
        "    fold=0\n",
        "    splitter = ShuffleSplit(n_splits=SPLITS, test_size=0.1, random_state=37863)\n",
        "    for train_index,valid_index in splitter.split(X):\n",
        "        fold += 1\n",
        "        X_train=X[train_index] # use iloc[] for dataframe\n",
        "        y_train=y[train_index]\n",
        "        X_valid=X[valid_index]\n",
        "        y_valid=y[valid_index]        \n",
        "        # Avoid continually improving the same model.\n",
        "        model = compile_model(keras.models.clone_model(given_model))\n",
        "        bestname=MODEL_FILE+\".cv.\"+str(fold)+\".best\"\n",
        "        mycallbacks = [keras.callbacks.ModelCheckpoint(\n",
        "            filepath=bestname, save_best_only=True, \n",
        "            monitor='val_accuracy', mode='max')]   \n",
        "        print(\"FIT\")\n",
        "        start_time=time.time()\n",
        "        history=model.fit(X_train, y_train, # batch_size=10, default=32 works nicely\n",
        "                epochs=EPOCHS, verbose=1,  # verbose=1 for ascii art, verbose=0 for none\n",
        "                callbacks=mycallbacks,\n",
        "                validation_data=(X_valid,y_valid) )\n",
        "        end_time=time.time()\n",
        "        elapsed_time=(end_time-start_time)                        \n",
        "        print(\"Fold %d, %d epochs, %d sec\"%(fold,EPOCHS,elapsed_time))\n",
        "        pd.DataFrame(history.history).plot(figsize=(8,5))\n",
        "        plt.grid(True)\n",
        "        plt.gca().set_ylim(0,1)\n",
        "        plt.show()\n",
        "        best_model=keras.models.load_model(bestname)\n",
        "        scores = best_model.evaluate(X_valid, y_valid, verbose=0)\n",
        "        print(\"%s: %.2f%%\" % (best_model.metrics_names[1], scores[1]*100))\n",
        "        cv_scores.append(scores[1] * 100)  \n",
        "    print()\n",
        "    print(\"%d-way Cross Validation mean %.2f%% (+/- %.2f%%)\" % (fold, np.mean(cv_scores), np.std(cv_scores)))"
      ],
      "execution_count": 6,
      "outputs": []
    },
    {
      "cell_type": "markdown",
      "metadata": {
        "id": "qd3Wj_vI9KdP"
      },
      "source": [
        "## Train on RNA lengths 200-1Kb"
      ]
    },
    {
      "cell_type": "code",
      "metadata": {
        "colab": {
          "base_uri": "https://localhost:8080/"
        },
        "id": "f8fNo6sn9KdH",
        "outputId": "f7652e68-a3e0-4ed4-8a91-884a906a4ada"
      },
      "source": [
        "MINLEN=200\n",
        "MAXLEN=1000\n",
        "print(\"Load data from files.\")\n",
        "nc_seq=tools.load_fasta(NC_FILENAME,0)\n",
        "pc_seq=tools.load_fasta(PC_FILENAME,1)\n",
        "train_set=pd.concat((nc_seq,pc_seq),axis=0)\n",
        "nc_seq=None\n",
        "pc_seq=None\n",
        "print(\"Ready: train_set\")\n",
        "#train_set\n",
        "subset=make_slice(train_set,MINLEN,MAXLEN)# One array to two: X and y\n",
        "print (\"Data reshape\")\n",
        "(X_train,y_train)=tools.make_kmers(K,MAXLEN,subset)\n",
        "#print (\"Data prep\")\n",
        "#X_train=tools.make_frequencies(K,X_train)"
      ],
      "execution_count": 7,
      "outputs": [
        {
          "output_type": "stream",
          "text": [
            "Load data from files.\n",
            "Ready: train_set\n",
            "Data reshape\n"
          ],
          "name": "stdout"
        }
      ]
    },
    {
      "cell_type": "code",
      "metadata": {
        "colab": {
          "base_uri": "https://localhost:8080/"
        },
        "id": "G1HuSs8ZbeL4",
        "outputId": "2c104352-0458-4bb2-e88a-7cddfb10d962"
      },
      "source": [
        "print (\"Compile the model\")\n",
        "model=build_model()\n",
        "print (\"Summarize the model\")\n",
        "print(model.summary())  # Print this only once\n",
        "model.save(MODEL_FILE+'.model')\n"
      ],
      "execution_count": 10,
      "outputs": [
        {
          "output_type": "stream",
          "text": [
            "Compile the model\n",
            "COMPILE...\n",
            "...COMPILED\n",
            "Summarize the model\n",
            "Model: \"sequential\"\n",
            "_________________________________________________________________\n",
            "Layer (type)                 Output Shape              Param #   \n",
            "=================================================================\n",
            "embedding_1 (Embedding)      (None, None, 16)          1040      \n",
            "_________________________________________________________________\n",
            "bidirectional (Bidirectional (None, None, 32)          4224      \n",
            "_________________________________________________________________\n",
            "bidirectional_1 (Bidirection (None, 32)                6272      \n",
            "_________________________________________________________________\n",
            "dense (Dense)                (None, 16)                528       \n",
            "_________________________________________________________________\n",
            "dropout (Dropout)            (None, 16)                0         \n",
            "_________________________________________________________________\n",
            "dense_1 (Dense)              (None, 16)                272       \n",
            "_________________________________________________________________\n",
            "dropout_1 (Dropout)          (None, 16)                0         \n",
            "_________________________________________________________________\n",
            "dense_2 (Dense)              (None, 1)                 17        \n",
            "=================================================================\n",
            "Total params: 12,353\n",
            "Trainable params: 12,353\n",
            "Non-trainable params: 0\n",
            "_________________________________________________________________\n",
            "None\n"
          ],
          "name": "stdout"
        },
        {
          "output_type": "stream",
          "text": [
            "WARNING:absl:Found untraced functions such as lstm_cell_2_layer_call_fn, lstm_cell_2_layer_call_and_return_conditional_losses, lstm_cell_3_layer_call_fn, lstm_cell_3_layer_call_and_return_conditional_losses, lstm_cell_5_layer_call_fn while saving (showing 5 of 20). These functions will not be directly callable after loading.\n",
            "WARNING:absl:Found untraced functions such as lstm_cell_2_layer_call_fn, lstm_cell_2_layer_call_and_return_conditional_losses, lstm_cell_3_layer_call_fn, lstm_cell_3_layer_call_and_return_conditional_losses, lstm_cell_5_layer_call_fn while saving (showing 5 of 20). These functions will not be directly callable after loading.\n"
          ],
          "name": "stderr"
        },
        {
          "output_type": "stream",
          "text": [
            "INFO:tensorflow:Assets written to: /content/drive/My Drive/data/LSTM302.model/assets\n"
          ],
          "name": "stdout"
        },
        {
          "output_type": "stream",
          "text": [
            "INFO:tensorflow:Assets written to: /content/drive/My Drive/data/LSTM302.model/assets\n"
          ],
          "name": "stderr"
        }
      ]
    },
    {
      "cell_type": "code",
      "metadata": {
        "colab": {
          "base_uri": "https://localhost:8080/",
          "height": 1000
        },
        "id": "mQ8eW5Rg9KdQ",
        "outputId": "dbf1fadc-a15e-46f8-e0d5-d37988351d6a"
      },
      "source": [
        "print (\"Cross valiation\")\n",
        "do_cross_validation(X_train,y_train,model)  \n",
        "print (\"Done\")"
      ],
      "execution_count": 11,
      "outputs": [
        {
          "output_type": "stream",
          "text": [
            "Cross valiation\n",
            "COMPILE...\n",
            "...COMPILED\n",
            "FIT\n",
            "Epoch 1/100\n",
            "453/453 [==============================] - 72s 131ms/step - loss: 0.6133 - accuracy: 0.6797 - val_loss: 0.6158 - val_accuracy: 0.6766\n"
          ],
          "name": "stdout"
        },
        {
          "output_type": "stream",
          "text": [
            "WARNING:absl:Found untraced functions such as lstm_cell_8_layer_call_fn, lstm_cell_8_layer_call_and_return_conditional_losses, lstm_cell_9_layer_call_fn, lstm_cell_9_layer_call_and_return_conditional_losses, lstm_cell_11_layer_call_fn while saving (showing 5 of 20). These functions will not be directly callable after loading.\n",
            "WARNING:absl:Found untraced functions such as lstm_cell_8_layer_call_fn, lstm_cell_8_layer_call_and_return_conditional_losses, lstm_cell_9_layer_call_fn, lstm_cell_9_layer_call_and_return_conditional_losses, lstm_cell_11_layer_call_fn while saving (showing 5 of 20). These functions will not be directly callable after loading.\n"
          ],
          "name": "stderr"
        },
        {
          "output_type": "stream",
          "text": [
            "INFO:tensorflow:Assets written to: /content/drive/My Drive/data/LSTM302.cv.1.best/assets\n"
          ],
          "name": "stdout"
        },
        {
          "output_type": "stream",
          "text": [
            "INFO:tensorflow:Assets written to: /content/drive/My Drive/data/LSTM302.cv.1.best/assets\n"
          ],
          "name": "stderr"
        },
        {
          "output_type": "stream",
          "text": [
            "Epoch 2/100\n",
            "453/453 [==============================] - 56s 124ms/step - loss: 0.5750 - accuracy: 0.7180 - val_loss: 0.5190 - val_accuracy: 0.7449\n"
          ],
          "name": "stdout"
        },
        {
          "output_type": "stream",
          "text": [
            "WARNING:absl:Found untraced functions such as lstm_cell_8_layer_call_fn, lstm_cell_8_layer_call_and_return_conditional_losses, lstm_cell_9_layer_call_fn, lstm_cell_9_layer_call_and_return_conditional_losses, lstm_cell_11_layer_call_fn while saving (showing 5 of 20). These functions will not be directly callable after loading.\n",
            "WARNING:absl:Found untraced functions such as lstm_cell_8_layer_call_fn, lstm_cell_8_layer_call_and_return_conditional_losses, lstm_cell_9_layer_call_fn, lstm_cell_9_layer_call_and_return_conditional_losses, lstm_cell_11_layer_call_fn while saving (showing 5 of 20). These functions will not be directly callable after loading.\n"
          ],
          "name": "stderr"
        },
        {
          "output_type": "stream",
          "text": [
            "INFO:tensorflow:Assets written to: /content/drive/My Drive/data/LSTM302.cv.1.best/assets\n"
          ],
          "name": "stdout"
        },
        {
          "output_type": "stream",
          "text": [
            "INFO:tensorflow:Assets written to: /content/drive/My Drive/data/LSTM302.cv.1.best/assets\n"
          ],
          "name": "stderr"
        },
        {
          "output_type": "stream",
          "text": [
            "Epoch 3/100\n",
            "453/453 [==============================] - 56s 123ms/step - loss: 0.5395 - accuracy: 0.7409 - val_loss: 0.5244 - val_accuracy: 0.7573\n"
          ],
          "name": "stdout"
        },
        {
          "output_type": "stream",
          "text": [
            "WARNING:absl:Found untraced functions such as lstm_cell_8_layer_call_fn, lstm_cell_8_layer_call_and_return_conditional_losses, lstm_cell_9_layer_call_fn, lstm_cell_9_layer_call_and_return_conditional_losses, lstm_cell_11_layer_call_fn while saving (showing 5 of 20). These functions will not be directly callable after loading.\n",
            "WARNING:absl:Found untraced functions such as lstm_cell_8_layer_call_fn, lstm_cell_8_layer_call_and_return_conditional_losses, lstm_cell_9_layer_call_fn, lstm_cell_9_layer_call_and_return_conditional_losses, lstm_cell_11_layer_call_fn while saving (showing 5 of 20). These functions will not be directly callable after loading.\n"
          ],
          "name": "stderr"
        },
        {
          "output_type": "stream",
          "text": [
            "INFO:tensorflow:Assets written to: /content/drive/My Drive/data/LSTM302.cv.1.best/assets\n"
          ],
          "name": "stdout"
        },
        {
          "output_type": "stream",
          "text": [
            "INFO:tensorflow:Assets written to: /content/drive/My Drive/data/LSTM302.cv.1.best/assets\n"
          ],
          "name": "stderr"
        },
        {
          "output_type": "stream",
          "text": [
            "Epoch 4/100\n",
            "453/453 [==============================] - 56s 124ms/step - loss: 0.5671 - accuracy: 0.7155 - val_loss: 0.5324 - val_accuracy: 0.7511\n",
            "Epoch 5/100\n",
            "453/453 [==============================] - 56s 124ms/step - loss: 0.5528 - accuracy: 0.7361 - val_loss: 0.5352 - val_accuracy: 0.7393\n",
            "Epoch 6/100\n",
            "453/453 [==============================] - 56s 124ms/step - loss: 0.5574 - accuracy: 0.7295 - val_loss: 0.5617 - val_accuracy: 0.7176\n",
            "Epoch 7/100\n",
            "453/453 [==============================] - 56s 124ms/step - loss: 0.5655 - accuracy: 0.7181 - val_loss: 0.5200 - val_accuracy: 0.7492\n",
            "Epoch 8/100\n",
            "453/453 [==============================] - 56s 124ms/step - loss: 0.5453 - accuracy: 0.7350 - val_loss: 0.5365 - val_accuracy: 0.7387\n",
            "Epoch 9/100\n",
            "453/453 [==============================] - 56s 124ms/step - loss: 0.5492 - accuracy: 0.7334 - val_loss: 0.5015 - val_accuracy: 0.7716\n"
          ],
          "name": "stdout"
        },
        {
          "output_type": "stream",
          "text": [
            "WARNING:absl:Found untraced functions such as lstm_cell_8_layer_call_fn, lstm_cell_8_layer_call_and_return_conditional_losses, lstm_cell_9_layer_call_fn, lstm_cell_9_layer_call_and_return_conditional_losses, lstm_cell_11_layer_call_fn while saving (showing 5 of 20). These functions will not be directly callable after loading.\n",
            "WARNING:absl:Found untraced functions such as lstm_cell_8_layer_call_fn, lstm_cell_8_layer_call_and_return_conditional_losses, lstm_cell_9_layer_call_fn, lstm_cell_9_layer_call_and_return_conditional_losses, lstm_cell_11_layer_call_fn while saving (showing 5 of 20). These functions will not be directly callable after loading.\n"
          ],
          "name": "stderr"
        },
        {
          "output_type": "stream",
          "text": [
            "INFO:tensorflow:Assets written to: /content/drive/My Drive/data/LSTM302.cv.1.best/assets\n"
          ],
          "name": "stdout"
        },
        {
          "output_type": "stream",
          "text": [
            "INFO:tensorflow:Assets written to: /content/drive/My Drive/data/LSTM302.cv.1.best/assets\n"
          ],
          "name": "stderr"
        },
        {
          "output_type": "stream",
          "text": [
            "Epoch 10/100\n",
            "453/453 [==============================] - 56s 124ms/step - loss: 0.5531 - accuracy: 0.7312 - val_loss: 0.5372 - val_accuracy: 0.7281\n",
            "Epoch 11/100\n",
            "453/453 [==============================] - 57s 125ms/step - loss: 0.5491 - accuracy: 0.7248 - val_loss: 0.5252 - val_accuracy: 0.7517\n",
            "Epoch 12/100\n",
            "453/453 [==============================] - 56s 124ms/step - loss: 0.5439 - accuracy: 0.7375 - val_loss: 0.5884 - val_accuracy: 0.7039\n",
            "Epoch 13/100\n",
            "453/453 [==============================] - 56s 125ms/step - loss: 0.5827 - accuracy: 0.7003 - val_loss: 0.5477 - val_accuracy: 0.7219\n",
            "Epoch 14/100\n",
            "453/453 [==============================] - 56s 124ms/step - loss: 0.5687 - accuracy: 0.7053 - val_loss: 0.5555 - val_accuracy: 0.7381\n",
            "Epoch 15/100\n",
            "453/453 [==============================] - 56s 124ms/step - loss: 0.5689 - accuracy: 0.7164 - val_loss: 0.5191 - val_accuracy: 0.7455\n",
            "Epoch 16/100\n",
            "453/453 [==============================] - 56s 124ms/step - loss: 0.5432 - accuracy: 0.7356 - val_loss: 0.5277 - val_accuracy: 0.7554\n",
            "Epoch 17/100\n",
            "453/453 [==============================] - 56s 124ms/step - loss: 0.5543 - accuracy: 0.7295 - val_loss: 0.5438 - val_accuracy: 0.7492\n",
            "Epoch 18/100\n",
            "453/453 [==============================] - 56s 124ms/step - loss: 0.5433 - accuracy: 0.7395 - val_loss: 0.5325 - val_accuracy: 0.7356\n",
            "Epoch 19/100\n",
            "453/453 [==============================] - 56s 124ms/step - loss: 0.5532 - accuracy: 0.7285 - val_loss: 0.6059 - val_accuracy: 0.7188\n",
            "Epoch 20/100\n",
            "453/453 [==============================] - 56s 124ms/step - loss: 0.5456 - accuracy: 0.7371 - val_loss: 0.5236 - val_accuracy: 0.7517\n",
            "Epoch 21/100\n",
            "453/453 [==============================] - 56s 125ms/step - loss: 0.5374 - accuracy: 0.7419 - val_loss: 0.5110 - val_accuracy: 0.7517\n",
            "Epoch 22/100\n",
            "453/453 [==============================] - 56s 124ms/step - loss: 0.5336 - accuracy: 0.7404 - val_loss: 0.5126 - val_accuracy: 0.7641\n",
            "Epoch 23/100\n",
            "453/453 [==============================] - 56s 124ms/step - loss: 0.5431 - accuracy: 0.7351 - val_loss: 0.5036 - val_accuracy: 0.7635\n",
            "Epoch 24/100\n",
            "453/453 [==============================] - 56s 124ms/step - loss: 0.5396 - accuracy: 0.7378 - val_loss: 0.5083 - val_accuracy: 0.7536\n",
            "Epoch 25/100\n",
            "453/453 [==============================] - 56s 124ms/step - loss: 0.5293 - accuracy: 0.7462 - val_loss: 0.4856 - val_accuracy: 0.7703\n",
            "Epoch 26/100\n",
            "453/453 [==============================] - 56s 124ms/step - loss: 0.5024 - accuracy: 0.7593 - val_loss: 0.5454 - val_accuracy: 0.7331\n",
            "Epoch 27/100\n",
            "453/453 [==============================] - 56s 124ms/step - loss: 0.5481 - accuracy: 0.7360 - val_loss: 0.4700 - val_accuracy: 0.7908\n"
          ],
          "name": "stdout"
        },
        {
          "output_type": "stream",
          "text": [
            "WARNING:absl:Found untraced functions such as lstm_cell_8_layer_call_fn, lstm_cell_8_layer_call_and_return_conditional_losses, lstm_cell_9_layer_call_fn, lstm_cell_9_layer_call_and_return_conditional_losses, lstm_cell_11_layer_call_fn while saving (showing 5 of 20). These functions will not be directly callable after loading.\n",
            "WARNING:absl:Found untraced functions such as lstm_cell_8_layer_call_fn, lstm_cell_8_layer_call_and_return_conditional_losses, lstm_cell_9_layer_call_fn, lstm_cell_9_layer_call_and_return_conditional_losses, lstm_cell_11_layer_call_fn while saving (showing 5 of 20). These functions will not be directly callable after loading.\n"
          ],
          "name": "stderr"
        },
        {
          "output_type": "stream",
          "text": [
            "INFO:tensorflow:Assets written to: /content/drive/My Drive/data/LSTM302.cv.1.best/assets\n"
          ],
          "name": "stdout"
        },
        {
          "output_type": "stream",
          "text": [
            "INFO:tensorflow:Assets written to: /content/drive/My Drive/data/LSTM302.cv.1.best/assets\n"
          ],
          "name": "stderr"
        },
        {
          "output_type": "stream",
          "text": [
            "Epoch 28/100\n",
            "453/453 [==============================] - 56s 125ms/step - loss: 0.4777 - accuracy: 0.7819 - val_loss: 0.4595 - val_accuracy: 0.7983\n"
          ],
          "name": "stdout"
        },
        {
          "output_type": "stream",
          "text": [
            "WARNING:absl:Found untraced functions such as lstm_cell_8_layer_call_fn, lstm_cell_8_layer_call_and_return_conditional_losses, lstm_cell_9_layer_call_fn, lstm_cell_9_layer_call_and_return_conditional_losses, lstm_cell_11_layer_call_fn while saving (showing 5 of 20). These functions will not be directly callable after loading.\n",
            "WARNING:absl:Found untraced functions such as lstm_cell_8_layer_call_fn, lstm_cell_8_layer_call_and_return_conditional_losses, lstm_cell_9_layer_call_fn, lstm_cell_9_layer_call_and_return_conditional_losses, lstm_cell_11_layer_call_fn while saving (showing 5 of 20). These functions will not be directly callable after loading.\n"
          ],
          "name": "stderr"
        },
        {
          "output_type": "stream",
          "text": [
            "INFO:tensorflow:Assets written to: /content/drive/My Drive/data/LSTM302.cv.1.best/assets\n"
          ],
          "name": "stdout"
        },
        {
          "output_type": "stream",
          "text": [
            "INFO:tensorflow:Assets written to: /content/drive/My Drive/data/LSTM302.cv.1.best/assets\n"
          ],
          "name": "stderr"
        },
        {
          "output_type": "stream",
          "text": [
            "Epoch 29/100\n",
            "453/453 [==============================] - 56s 124ms/step - loss: 0.5243 - accuracy: 0.7435 - val_loss: 0.5087 - val_accuracy: 0.7498\n",
            "Epoch 30/100\n",
            "453/453 [==============================] - 56s 124ms/step - loss: 0.5583 - accuracy: 0.7088 - val_loss: 0.5732 - val_accuracy: 0.7337\n",
            "Epoch 31/100\n",
            "453/453 [==============================] - 56s 124ms/step - loss: 0.5610 - accuracy: 0.7260 - val_loss: 0.5248 - val_accuracy: 0.7542\n",
            "Epoch 32/100\n",
            "453/453 [==============================] - 56s 124ms/step - loss: 0.5206 - accuracy: 0.7445 - val_loss: 0.4694 - val_accuracy: 0.7877\n",
            "Epoch 33/100\n",
            "453/453 [==============================] - 56s 124ms/step - loss: 0.4757 - accuracy: 0.7882 - val_loss: 0.4563 - val_accuracy: 0.8007\n"
          ],
          "name": "stdout"
        },
        {
          "output_type": "stream",
          "text": [
            "WARNING:absl:Found untraced functions such as lstm_cell_8_layer_call_fn, lstm_cell_8_layer_call_and_return_conditional_losses, lstm_cell_9_layer_call_fn, lstm_cell_9_layer_call_and_return_conditional_losses, lstm_cell_11_layer_call_fn while saving (showing 5 of 20). These functions will not be directly callable after loading.\n",
            "WARNING:absl:Found untraced functions such as lstm_cell_8_layer_call_fn, lstm_cell_8_layer_call_and_return_conditional_losses, lstm_cell_9_layer_call_fn, lstm_cell_9_layer_call_and_return_conditional_losses, lstm_cell_11_layer_call_fn while saving (showing 5 of 20). These functions will not be directly callable after loading.\n"
          ],
          "name": "stderr"
        },
        {
          "output_type": "stream",
          "text": [
            "INFO:tensorflow:Assets written to: /content/drive/My Drive/data/LSTM302.cv.1.best/assets\n"
          ],
          "name": "stdout"
        },
        {
          "output_type": "stream",
          "text": [
            "INFO:tensorflow:Assets written to: /content/drive/My Drive/data/LSTM302.cv.1.best/assets\n"
          ],
          "name": "stderr"
        },
        {
          "output_type": "stream",
          "text": [
            "Epoch 34/100\n",
            "453/453 [==============================] - 56s 124ms/step - loss: 0.4409 - accuracy: 0.8040 - val_loss: 0.3943 - val_accuracy: 0.8187\n"
          ],
          "name": "stdout"
        },
        {
          "output_type": "stream",
          "text": [
            "WARNING:absl:Found untraced functions such as lstm_cell_8_layer_call_fn, lstm_cell_8_layer_call_and_return_conditional_losses, lstm_cell_9_layer_call_fn, lstm_cell_9_layer_call_and_return_conditional_losses, lstm_cell_11_layer_call_fn while saving (showing 5 of 20). These functions will not be directly callable after loading.\n",
            "WARNING:absl:Found untraced functions such as lstm_cell_8_layer_call_fn, lstm_cell_8_layer_call_and_return_conditional_losses, lstm_cell_9_layer_call_fn, lstm_cell_9_layer_call_and_return_conditional_losses, lstm_cell_11_layer_call_fn while saving (showing 5 of 20). These functions will not be directly callable after loading.\n"
          ],
          "name": "stderr"
        },
        {
          "output_type": "stream",
          "text": [
            "INFO:tensorflow:Assets written to: /content/drive/My Drive/data/LSTM302.cv.1.best/assets\n"
          ],
          "name": "stdout"
        },
        {
          "output_type": "stream",
          "text": [
            "INFO:tensorflow:Assets written to: /content/drive/My Drive/data/LSTM302.cv.1.best/assets\n"
          ],
          "name": "stderr"
        },
        {
          "output_type": "stream",
          "text": [
            "Epoch 35/100\n",
            "453/453 [==============================] - 56s 125ms/step - loss: 0.4287 - accuracy: 0.8098 - val_loss: 0.4198 - val_accuracy: 0.8206\n"
          ],
          "name": "stdout"
        },
        {
          "output_type": "stream",
          "text": [
            "WARNING:absl:Found untraced functions such as lstm_cell_8_layer_call_fn, lstm_cell_8_layer_call_and_return_conditional_losses, lstm_cell_9_layer_call_fn, lstm_cell_9_layer_call_and_return_conditional_losses, lstm_cell_11_layer_call_fn while saving (showing 5 of 20). These functions will not be directly callable after loading.\n",
            "WARNING:absl:Found untraced functions such as lstm_cell_8_layer_call_fn, lstm_cell_8_layer_call_and_return_conditional_losses, lstm_cell_9_layer_call_fn, lstm_cell_9_layer_call_and_return_conditional_losses, lstm_cell_11_layer_call_fn while saving (showing 5 of 20). These functions will not be directly callable after loading.\n"
          ],
          "name": "stderr"
        },
        {
          "output_type": "stream",
          "text": [
            "INFO:tensorflow:Assets written to: /content/drive/My Drive/data/LSTM302.cv.1.best/assets\n"
          ],
          "name": "stdout"
        },
        {
          "output_type": "stream",
          "text": [
            "INFO:tensorflow:Assets written to: /content/drive/My Drive/data/LSTM302.cv.1.best/assets\n"
          ],
          "name": "stderr"
        },
        {
          "output_type": "stream",
          "text": [
            "Epoch 36/100\n",
            "453/453 [==============================] - 56s 125ms/step - loss: 0.4357 - accuracy: 0.8065 - val_loss: 0.3846 - val_accuracy: 0.8318\n"
          ],
          "name": "stdout"
        },
        {
          "output_type": "stream",
          "text": [
            "WARNING:absl:Found untraced functions such as lstm_cell_8_layer_call_fn, lstm_cell_8_layer_call_and_return_conditional_losses, lstm_cell_9_layer_call_fn, lstm_cell_9_layer_call_and_return_conditional_losses, lstm_cell_11_layer_call_fn while saving (showing 5 of 20). These functions will not be directly callable after loading.\n",
            "WARNING:absl:Found untraced functions such as lstm_cell_8_layer_call_fn, lstm_cell_8_layer_call_and_return_conditional_losses, lstm_cell_9_layer_call_fn, lstm_cell_9_layer_call_and_return_conditional_losses, lstm_cell_11_layer_call_fn while saving (showing 5 of 20). These functions will not be directly callable after loading.\n"
          ],
          "name": "stderr"
        },
        {
          "output_type": "stream",
          "text": [
            "INFO:tensorflow:Assets written to: /content/drive/My Drive/data/LSTM302.cv.1.best/assets\n"
          ],
          "name": "stdout"
        },
        {
          "output_type": "stream",
          "text": [
            "INFO:tensorflow:Assets written to: /content/drive/My Drive/data/LSTM302.cv.1.best/assets\n"
          ],
          "name": "stderr"
        },
        {
          "output_type": "stream",
          "text": [
            "Epoch 37/100\n",
            "453/453 [==============================] - 56s 125ms/step - loss: 0.4159 - accuracy: 0.8179 - val_loss: 0.4378 - val_accuracy: 0.8020\n",
            "Epoch 38/100\n",
            "453/453 [==============================] - 56s 124ms/step - loss: 0.4086 - accuracy: 0.8237 - val_loss: 0.3714 - val_accuracy: 0.8305\n",
            "Epoch 39/100\n",
            "453/453 [==============================] - 57s 125ms/step - loss: 0.4105 - accuracy: 0.8198 - val_loss: 0.3704 - val_accuracy: 0.8423\n"
          ],
          "name": "stdout"
        },
        {
          "output_type": "stream",
          "text": [
            "WARNING:absl:Found untraced functions such as lstm_cell_8_layer_call_fn, lstm_cell_8_layer_call_and_return_conditional_losses, lstm_cell_9_layer_call_fn, lstm_cell_9_layer_call_and_return_conditional_losses, lstm_cell_11_layer_call_fn while saving (showing 5 of 20). These functions will not be directly callable after loading.\n",
            "WARNING:absl:Found untraced functions such as lstm_cell_8_layer_call_fn, lstm_cell_8_layer_call_and_return_conditional_losses, lstm_cell_9_layer_call_fn, lstm_cell_9_layer_call_and_return_conditional_losses, lstm_cell_11_layer_call_fn while saving (showing 5 of 20). These functions will not be directly callable after loading.\n"
          ],
          "name": "stderr"
        },
        {
          "output_type": "stream",
          "text": [
            "INFO:tensorflow:Assets written to: /content/drive/My Drive/data/LSTM302.cv.1.best/assets\n"
          ],
          "name": "stdout"
        },
        {
          "output_type": "stream",
          "text": [
            "INFO:tensorflow:Assets written to: /content/drive/My Drive/data/LSTM302.cv.1.best/assets\n"
          ],
          "name": "stderr"
        },
        {
          "output_type": "stream",
          "text": [
            "Epoch 40/100\n",
            "453/453 [==============================] - 56s 124ms/step - loss: 0.4087 - accuracy: 0.8227 - val_loss: 0.3823 - val_accuracy: 0.8324\n",
            "Epoch 41/100\n",
            "453/453 [==============================] - 56s 124ms/step - loss: 0.3894 - accuracy: 0.8288 - val_loss: 0.3700 - val_accuracy: 0.8367\n",
            "Epoch 42/100\n",
            "453/453 [==============================] - 56s 124ms/step - loss: 0.4104 - accuracy: 0.8192 - val_loss: 0.3664 - val_accuracy: 0.8355\n",
            "Epoch 43/100\n",
            "453/453 [==============================] - 56s 124ms/step - loss: 0.4033 - accuracy: 0.8236 - val_loss: 0.3673 - val_accuracy: 0.8343\n",
            "Epoch 44/100\n",
            "453/453 [==============================] - 56s 124ms/step - loss: 0.3994 - accuracy: 0.8239 - val_loss: 0.3743 - val_accuracy: 0.8343\n",
            "Epoch 45/100\n",
            "453/453 [==============================] - 56s 124ms/step - loss: 0.4001 - accuracy: 0.8296 - val_loss: 0.4165 - val_accuracy: 0.8163\n",
            "Epoch 46/100\n",
            "453/453 [==============================] - 56s 124ms/step - loss: 0.3955 - accuracy: 0.8325 - val_loss: 0.3766 - val_accuracy: 0.8349\n",
            "Epoch 47/100\n",
            "453/453 [==============================] - 56s 124ms/step - loss: 0.3982 - accuracy: 0.8232 - val_loss: 0.3584 - val_accuracy: 0.8473\n"
          ],
          "name": "stdout"
        },
        {
          "output_type": "stream",
          "text": [
            "WARNING:absl:Found untraced functions such as lstm_cell_8_layer_call_fn, lstm_cell_8_layer_call_and_return_conditional_losses, lstm_cell_9_layer_call_fn, lstm_cell_9_layer_call_and_return_conditional_losses, lstm_cell_11_layer_call_fn while saving (showing 5 of 20). These functions will not be directly callable after loading.\n",
            "WARNING:absl:Found untraced functions such as lstm_cell_8_layer_call_fn, lstm_cell_8_layer_call_and_return_conditional_losses, lstm_cell_9_layer_call_fn, lstm_cell_9_layer_call_and_return_conditional_losses, lstm_cell_11_layer_call_fn while saving (showing 5 of 20). These functions will not be directly callable after loading.\n"
          ],
          "name": "stderr"
        },
        {
          "output_type": "stream",
          "text": [
            "INFO:tensorflow:Assets written to: /content/drive/My Drive/data/LSTM302.cv.1.best/assets\n"
          ],
          "name": "stdout"
        },
        {
          "output_type": "stream",
          "text": [
            "INFO:tensorflow:Assets written to: /content/drive/My Drive/data/LSTM302.cv.1.best/assets\n"
          ],
          "name": "stderr"
        },
        {
          "output_type": "stream",
          "text": [
            "Epoch 48/100\n",
            "453/453 [==============================] - 56s 124ms/step - loss: 0.3942 - accuracy: 0.8300 - val_loss: 0.3735 - val_accuracy: 0.8374\n",
            "Epoch 49/100\n",
            "453/453 [==============================] - 56s 125ms/step - loss: 0.3862 - accuracy: 0.8344 - val_loss: 0.3618 - val_accuracy: 0.8380\n",
            "Epoch 50/100\n",
            "453/453 [==============================] - 56s 124ms/step - loss: 0.3909 - accuracy: 0.8274 - val_loss: 0.3581 - val_accuracy: 0.8454\n",
            "Epoch 51/100\n",
            "453/453 [==============================] - 56s 124ms/step - loss: 0.3834 - accuracy: 0.8367 - val_loss: 0.3667 - val_accuracy: 0.8374\n",
            "Epoch 52/100\n",
            "453/453 [==============================] - 56s 124ms/step - loss: 0.3792 - accuracy: 0.8353 - val_loss: 0.3516 - val_accuracy: 0.8454\n",
            "Epoch 53/100\n",
            "453/453 [==============================] - 56s 124ms/step - loss: 0.3877 - accuracy: 0.8350 - val_loss: 0.3617 - val_accuracy: 0.8436\n",
            "Epoch 54/100\n",
            "453/453 [==============================] - 56s 124ms/step - loss: 0.3915 - accuracy: 0.8300 - val_loss: 0.3497 - val_accuracy: 0.8448\n",
            "Epoch 55/100\n",
            "453/453 [==============================] - 56s 124ms/step - loss: 0.3748 - accuracy: 0.8431 - val_loss: 0.3496 - val_accuracy: 0.8448\n",
            "Epoch 56/100\n",
            "453/453 [==============================] - 56s 124ms/step - loss: 0.3796 - accuracy: 0.8366 - val_loss: 0.3456 - val_accuracy: 0.8454\n",
            "Epoch 57/100\n",
            "453/453 [==============================] - 56s 124ms/step - loss: 0.3740 - accuracy: 0.8403 - val_loss: 0.3458 - val_accuracy: 0.8492\n"
          ],
          "name": "stdout"
        },
        {
          "output_type": "stream",
          "text": [
            "WARNING:absl:Found untraced functions such as lstm_cell_8_layer_call_fn, lstm_cell_8_layer_call_and_return_conditional_losses, lstm_cell_9_layer_call_fn, lstm_cell_9_layer_call_and_return_conditional_losses, lstm_cell_11_layer_call_fn while saving (showing 5 of 20). These functions will not be directly callable after loading.\n",
            "WARNING:absl:Found untraced functions such as lstm_cell_8_layer_call_fn, lstm_cell_8_layer_call_and_return_conditional_losses, lstm_cell_9_layer_call_fn, lstm_cell_9_layer_call_and_return_conditional_losses, lstm_cell_11_layer_call_fn while saving (showing 5 of 20). These functions will not be directly callable after loading.\n"
          ],
          "name": "stderr"
        },
        {
          "output_type": "stream",
          "text": [
            "INFO:tensorflow:Assets written to: /content/drive/My Drive/data/LSTM302.cv.1.best/assets\n"
          ],
          "name": "stdout"
        },
        {
          "output_type": "stream",
          "text": [
            "INFO:tensorflow:Assets written to: /content/drive/My Drive/data/LSTM302.cv.1.best/assets\n"
          ],
          "name": "stderr"
        },
        {
          "output_type": "stream",
          "text": [
            "Epoch 58/100\n",
            "453/453 [==============================] - 56s 124ms/step - loss: 0.3677 - accuracy: 0.8425 - val_loss: 0.3458 - val_accuracy: 0.8461\n",
            "Epoch 59/100\n",
            "453/453 [==============================] - 56s 124ms/step - loss: 0.3790 - accuracy: 0.8334 - val_loss: 0.4283 - val_accuracy: 0.8026\n",
            "Epoch 60/100\n",
            "453/453 [==============================] - 56s 124ms/step - loss: 0.3799 - accuracy: 0.8352 - val_loss: 0.3471 - val_accuracy: 0.8417\n",
            "Epoch 61/100\n",
            "453/453 [==============================] - 56s 124ms/step - loss: 0.3698 - accuracy: 0.8451 - val_loss: 0.3490 - val_accuracy: 0.8498\n"
          ],
          "name": "stdout"
        },
        {
          "output_type": "stream",
          "text": [
            "WARNING:absl:Found untraced functions such as lstm_cell_8_layer_call_fn, lstm_cell_8_layer_call_and_return_conditional_losses, lstm_cell_9_layer_call_fn, lstm_cell_9_layer_call_and_return_conditional_losses, lstm_cell_11_layer_call_fn while saving (showing 5 of 20). These functions will not be directly callable after loading.\n",
            "WARNING:absl:Found untraced functions such as lstm_cell_8_layer_call_fn, lstm_cell_8_layer_call_and_return_conditional_losses, lstm_cell_9_layer_call_fn, lstm_cell_9_layer_call_and_return_conditional_losses, lstm_cell_11_layer_call_fn while saving (showing 5 of 20). These functions will not be directly callable after loading.\n"
          ],
          "name": "stderr"
        },
        {
          "output_type": "stream",
          "text": [
            "INFO:tensorflow:Assets written to: /content/drive/My Drive/data/LSTM302.cv.1.best/assets\n"
          ],
          "name": "stdout"
        },
        {
          "output_type": "stream",
          "text": [
            "INFO:tensorflow:Assets written to: /content/drive/My Drive/data/LSTM302.cv.1.best/assets\n"
          ],
          "name": "stderr"
        },
        {
          "output_type": "stream",
          "text": [
            "Epoch 62/100\n",
            "453/453 [==============================] - 56s 124ms/step - loss: 0.3657 - accuracy: 0.8450 - val_loss: 0.3740 - val_accuracy: 0.8361\n",
            "Epoch 63/100\n",
            "453/453 [==============================] - 56s 124ms/step - loss: 0.3638 - accuracy: 0.8414 - val_loss: 0.3927 - val_accuracy: 0.8231\n",
            "Epoch 64/100\n",
            "453/453 [==============================] - 56s 124ms/step - loss: 0.3669 - accuracy: 0.8442 - val_loss: 0.3599 - val_accuracy: 0.8417\n",
            "Epoch 65/100\n",
            "453/453 [==============================] - 56s 124ms/step - loss: 0.3648 - accuracy: 0.8431 - val_loss: 0.3452 - val_accuracy: 0.8479\n",
            "Epoch 66/100\n",
            "453/453 [==============================] - 56s 124ms/step - loss: 0.3592 - accuracy: 0.8471 - val_loss: 0.3407 - val_accuracy: 0.8454\n",
            "Epoch 67/100\n",
            "453/453 [==============================] - 56s 124ms/step - loss: 0.3668 - accuracy: 0.8415 - val_loss: 0.3391 - val_accuracy: 0.8529\n"
          ],
          "name": "stdout"
        },
        {
          "output_type": "stream",
          "text": [
            "WARNING:absl:Found untraced functions such as lstm_cell_8_layer_call_fn, lstm_cell_8_layer_call_and_return_conditional_losses, lstm_cell_9_layer_call_fn, lstm_cell_9_layer_call_and_return_conditional_losses, lstm_cell_11_layer_call_fn while saving (showing 5 of 20). These functions will not be directly callable after loading.\n",
            "WARNING:absl:Found untraced functions such as lstm_cell_8_layer_call_fn, lstm_cell_8_layer_call_and_return_conditional_losses, lstm_cell_9_layer_call_fn, lstm_cell_9_layer_call_and_return_conditional_losses, lstm_cell_11_layer_call_fn while saving (showing 5 of 20). These functions will not be directly callable after loading.\n"
          ],
          "name": "stderr"
        },
        {
          "output_type": "stream",
          "text": [
            "INFO:tensorflow:Assets written to: /content/drive/My Drive/data/LSTM302.cv.1.best/assets\n"
          ],
          "name": "stdout"
        },
        {
          "output_type": "stream",
          "text": [
            "INFO:tensorflow:Assets written to: /content/drive/My Drive/data/LSTM302.cv.1.best/assets\n"
          ],
          "name": "stderr"
        },
        {
          "output_type": "stream",
          "text": [
            "Epoch 68/100\n",
            "453/453 [==============================] - 56s 124ms/step - loss: 0.3689 - accuracy: 0.8391 - val_loss: 0.3409 - val_accuracy: 0.8498\n",
            "Epoch 69/100\n",
            "453/453 [==============================] - 56s 124ms/step - loss: 0.3725 - accuracy: 0.8435 - val_loss: 0.3451 - val_accuracy: 0.8442\n",
            "Epoch 70/100\n",
            "453/453 [==============================] - 56s 124ms/step - loss: 0.3782 - accuracy: 0.8382 - val_loss: 0.3447 - val_accuracy: 0.8492\n",
            "Epoch 71/100\n",
            "453/453 [==============================] - 56s 124ms/step - loss: 0.3579 - accuracy: 0.8503 - val_loss: 0.3421 - val_accuracy: 0.8461\n",
            "Epoch 72/100\n",
            "453/453 [==============================] - 56s 124ms/step - loss: 0.3507 - accuracy: 0.8527 - val_loss: 0.3429 - val_accuracy: 0.8399\n",
            "Epoch 73/100\n",
            "453/453 [==============================] - 56s 124ms/step - loss: 0.3595 - accuracy: 0.8471 - val_loss: 0.3380 - val_accuracy: 0.8461\n",
            "Epoch 74/100\n",
            "453/453 [==============================] - 56s 124ms/step - loss: 0.3506 - accuracy: 0.8481 - val_loss: 0.3482 - val_accuracy: 0.8479\n",
            "Epoch 75/100\n",
            "453/453 [==============================] - 57s 125ms/step - loss: 0.3625 - accuracy: 0.8470 - val_loss: 0.3416 - val_accuracy: 0.8529\n",
            "Epoch 76/100\n",
            "453/453 [==============================] - 56s 124ms/step - loss: 0.3771 - accuracy: 0.8409 - val_loss: 0.3380 - val_accuracy: 0.8473\n",
            "Epoch 77/100\n",
            "453/453 [==============================] - 56s 124ms/step - loss: 0.3548 - accuracy: 0.8470 - val_loss: 0.3435 - val_accuracy: 0.8479\n",
            "Epoch 78/100\n",
            "453/453 [==============================] - 56s 124ms/step - loss: 0.3605 - accuracy: 0.8449 - val_loss: 0.3373 - val_accuracy: 0.8523\n",
            "Epoch 79/100\n",
            "453/453 [==============================] - 56s 124ms/step - loss: 0.3525 - accuracy: 0.8503 - val_loss: 0.3386 - val_accuracy: 0.8523\n",
            "Epoch 80/100\n",
            "453/453 [==============================] - 56s 124ms/step - loss: 0.3518 - accuracy: 0.8504 - val_loss: 0.3436 - val_accuracy: 0.8535\n"
          ],
          "name": "stdout"
        },
        {
          "output_type": "stream",
          "text": [
            "WARNING:absl:Found untraced functions such as lstm_cell_8_layer_call_fn, lstm_cell_8_layer_call_and_return_conditional_losses, lstm_cell_9_layer_call_fn, lstm_cell_9_layer_call_and_return_conditional_losses, lstm_cell_11_layer_call_fn while saving (showing 5 of 20). These functions will not be directly callable after loading.\n",
            "WARNING:absl:Found untraced functions such as lstm_cell_8_layer_call_fn, lstm_cell_8_layer_call_and_return_conditional_losses, lstm_cell_9_layer_call_fn, lstm_cell_9_layer_call_and_return_conditional_losses, lstm_cell_11_layer_call_fn while saving (showing 5 of 20). These functions will not be directly callable after loading.\n"
          ],
          "name": "stderr"
        },
        {
          "output_type": "stream",
          "text": [
            "INFO:tensorflow:Assets written to: /content/drive/My Drive/data/LSTM302.cv.1.best/assets\n"
          ],
          "name": "stdout"
        },
        {
          "output_type": "stream",
          "text": [
            "INFO:tensorflow:Assets written to: /content/drive/My Drive/data/LSTM302.cv.1.best/assets\n"
          ],
          "name": "stderr"
        },
        {
          "output_type": "stream",
          "text": [
            "Epoch 81/100\n",
            "453/453 [==============================] - 56s 124ms/step - loss: 0.3504 - accuracy: 0.8493 - val_loss: 0.3408 - val_accuracy: 0.8473\n",
            "Epoch 82/100\n",
            "453/453 [==============================] - 56s 123ms/step - loss: 0.3533 - accuracy: 0.8502 - val_loss: 0.3431 - val_accuracy: 0.8479\n",
            "Epoch 83/100\n",
            "453/453 [==============================] - 56s 124ms/step - loss: 0.3660 - accuracy: 0.8508 - val_loss: 0.3802 - val_accuracy: 0.8367\n",
            "Epoch 84/100\n",
            "453/453 [==============================] - 56s 124ms/step - loss: 0.3459 - accuracy: 0.8548 - val_loss: 0.3567 - val_accuracy: 0.8436\n",
            "Epoch 85/100\n",
            "453/453 [==============================] - 56s 125ms/step - loss: 0.3524 - accuracy: 0.8533 - val_loss: 0.3380 - val_accuracy: 0.8523\n",
            "Epoch 86/100\n",
            "453/453 [==============================] - 56s 124ms/step - loss: 0.3475 - accuracy: 0.8515 - val_loss: 0.3459 - val_accuracy: 0.8380\n",
            "Epoch 87/100\n",
            "453/453 [==============================] - 56s 124ms/step - loss: 0.3365 - accuracy: 0.8604 - val_loss: 0.3497 - val_accuracy: 0.8479\n",
            "Epoch 88/100\n",
            "453/453 [==============================] - 56s 124ms/step - loss: 0.3334 - accuracy: 0.8593 - val_loss: 0.3341 - val_accuracy: 0.8516\n",
            "Epoch 89/100\n",
            "453/453 [==============================] - 56s 124ms/step - loss: 0.3472 - accuracy: 0.8550 - val_loss: 0.3424 - val_accuracy: 0.8547\n"
          ],
          "name": "stdout"
        },
        {
          "output_type": "stream",
          "text": [
            "WARNING:absl:Found untraced functions such as lstm_cell_8_layer_call_fn, lstm_cell_8_layer_call_and_return_conditional_losses, lstm_cell_9_layer_call_fn, lstm_cell_9_layer_call_and_return_conditional_losses, lstm_cell_11_layer_call_fn while saving (showing 5 of 20). These functions will not be directly callable after loading.\n",
            "WARNING:absl:Found untraced functions such as lstm_cell_8_layer_call_fn, lstm_cell_8_layer_call_and_return_conditional_losses, lstm_cell_9_layer_call_fn, lstm_cell_9_layer_call_and_return_conditional_losses, lstm_cell_11_layer_call_fn while saving (showing 5 of 20). These functions will not be directly callable after loading.\n"
          ],
          "name": "stderr"
        },
        {
          "output_type": "stream",
          "text": [
            "INFO:tensorflow:Assets written to: /content/drive/My Drive/data/LSTM302.cv.1.best/assets\n"
          ],
          "name": "stdout"
        },
        {
          "output_type": "stream",
          "text": [
            "INFO:tensorflow:Assets written to: /content/drive/My Drive/data/LSTM302.cv.1.best/assets\n"
          ],
          "name": "stderr"
        },
        {
          "output_type": "stream",
          "text": [
            "Epoch 90/100\n",
            "453/453 [==============================] - 56s 124ms/step - loss: 0.3342 - accuracy: 0.8626 - val_loss: 0.3365 - val_accuracy: 0.8523\n",
            "Epoch 91/100\n",
            "453/453 [==============================] - 56s 124ms/step - loss: 0.3351 - accuracy: 0.8594 - val_loss: 0.3339 - val_accuracy: 0.8523\n",
            "Epoch 92/100\n",
            "453/453 [==============================] - 56s 124ms/step - loss: 0.3269 - accuracy: 0.8611 - val_loss: 0.3333 - val_accuracy: 0.8523\n",
            "Epoch 93/100\n",
            "453/453 [==============================] - 56s 125ms/step - loss: 0.3222 - accuracy: 0.8675 - val_loss: 0.3277 - val_accuracy: 0.8529\n",
            "Epoch 94/100\n",
            "453/453 [==============================] - 56s 124ms/step - loss: 0.3296 - accuracy: 0.8621 - val_loss: 0.3635 - val_accuracy: 0.8324\n",
            "Epoch 95/100\n",
            "453/453 [==============================] - 56s 125ms/step - loss: 0.3210 - accuracy: 0.8614 - val_loss: 0.3326 - val_accuracy: 0.8579\n"
          ],
          "name": "stdout"
        },
        {
          "output_type": "stream",
          "text": [
            "WARNING:absl:Found untraced functions such as lstm_cell_8_layer_call_fn, lstm_cell_8_layer_call_and_return_conditional_losses, lstm_cell_9_layer_call_fn, lstm_cell_9_layer_call_and_return_conditional_losses, lstm_cell_11_layer_call_fn while saving (showing 5 of 20). These functions will not be directly callable after loading.\n",
            "WARNING:absl:Found untraced functions such as lstm_cell_8_layer_call_fn, lstm_cell_8_layer_call_and_return_conditional_losses, lstm_cell_9_layer_call_fn, lstm_cell_9_layer_call_and_return_conditional_losses, lstm_cell_11_layer_call_fn while saving (showing 5 of 20). These functions will not be directly callable after loading.\n"
          ],
          "name": "stderr"
        },
        {
          "output_type": "stream",
          "text": [
            "INFO:tensorflow:Assets written to: /content/drive/My Drive/data/LSTM302.cv.1.best/assets\n"
          ],
          "name": "stdout"
        },
        {
          "output_type": "stream",
          "text": [
            "INFO:tensorflow:Assets written to: /content/drive/My Drive/data/LSTM302.cv.1.best/assets\n"
          ],
          "name": "stderr"
        },
        {
          "output_type": "stream",
          "text": [
            "Epoch 96/100\n",
            "453/453 [==============================] - 56s 124ms/step - loss: 0.3237 - accuracy: 0.8644 - val_loss: 0.3393 - val_accuracy: 0.8541\n",
            "Epoch 97/100\n",
            "453/453 [==============================] - 56s 124ms/step - loss: 0.3181 - accuracy: 0.8695 - val_loss: 0.3352 - val_accuracy: 0.8566\n",
            "Epoch 98/100\n",
            "453/453 [==============================] - 56s 124ms/step - loss: 0.3230 - accuracy: 0.8654 - val_loss: 0.3250 - val_accuracy: 0.8616\n"
          ],
          "name": "stdout"
        },
        {
          "output_type": "stream",
          "text": [
            "WARNING:absl:Found untraced functions such as lstm_cell_8_layer_call_fn, lstm_cell_8_layer_call_and_return_conditional_losses, lstm_cell_9_layer_call_fn, lstm_cell_9_layer_call_and_return_conditional_losses, lstm_cell_11_layer_call_fn while saving (showing 5 of 20). These functions will not be directly callable after loading.\n",
            "WARNING:absl:Found untraced functions such as lstm_cell_8_layer_call_fn, lstm_cell_8_layer_call_and_return_conditional_losses, lstm_cell_9_layer_call_fn, lstm_cell_9_layer_call_and_return_conditional_losses, lstm_cell_11_layer_call_fn while saving (showing 5 of 20). These functions will not be directly callable after loading.\n"
          ],
          "name": "stderr"
        },
        {
          "output_type": "stream",
          "text": [
            "INFO:tensorflow:Assets written to: /content/drive/My Drive/data/LSTM302.cv.1.best/assets\n"
          ],
          "name": "stdout"
        },
        {
          "output_type": "stream",
          "text": [
            "INFO:tensorflow:Assets written to: /content/drive/My Drive/data/LSTM302.cv.1.best/assets\n"
          ],
          "name": "stderr"
        },
        {
          "output_type": "stream",
          "text": [
            "Epoch 99/100\n",
            "453/453 [==============================] - 56s 125ms/step - loss: 0.3366 - accuracy: 0.8584 - val_loss: 0.3348 - val_accuracy: 0.8554\n",
            "Epoch 100/100\n",
            "453/453 [==============================] - 56s 124ms/step - loss: 0.3237 - accuracy: 0.8634 - val_loss: 0.3693 - val_accuracy: 0.8442\n",
            "Fold 1, 100 epochs, 6363 sec\n"
          ],
          "name": "stdout"
        },
        {
          "output_type": "display_data",
          "data": {
            "image/png": "[encoded data removed]",
            "text/plain": [
              "<Figure size 576x360 with 1 Axes>"
            ]
          },
          "metadata": {
            "tags": [],
            "needs_background": "light"
          }
        },
        {
          "output_type": "stream",
          "text": [
            "accuracy: 86.16%\n",
            "\n",
            "1-way Cross Validation mean 86.16% (+/- 0.00%)\n",
            "Done\n"
          ],
          "name": "stdout"
        }
      ]
    },
    {
      "cell_type": "code",
      "metadata": {
        "id": "p4fh2GI8beMQ"
      },
      "source": [
        ""
      ],
      "execution_count": null,
      "outputs": []
    }
  ]
}