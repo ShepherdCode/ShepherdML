{
 "cells": [
  {
   "cell_type": "markdown",
   "metadata": {},
   "source": [
    "# Data Augmentation\n",
    "\n",
    "Neural networks get more accurate with more training data,\n",
    "but labeled training data is rare and valuable.\n",
    "Data augmentation refers to artificially boosting the training set.\n",
    "Data augmentation is established practice \n",
    "in the world of image classification where\n",
    "real images are flipped, rotated, cropped, darkened, colorized, etc.\n",
    "The real and almost-real images are all used in training."
   ]
  },
  {
   "cell_type": "markdown",
   "metadata": {},
   "source": [
    "How should data augmentation work for RNA?\n",
    "\n",
    "Hill et al. created an inflated training set\n",
    "where every instance was a true RNA with a one-nucleotide mutation.\n",
    "Aware that a mutant's label may no longer apply,\n",
    "they used the augmented data for pre-training only.\n",
    "That is, train initial layers on the augmented data,\n",
    "then freeze their weights and train deeper layers on real data."
   ]
  },
  {
   "cell_type": "markdown",
   "metadata": {},
   "source": [
    "We cannot be sure a mutated RNA is still labeled correctly.\n",
    "But could we mutate an RNA and at least preserve its K-mer profile?\n",
    "Here is a trivial mutation algorithm. \n",
    "For K=3, find any two identical 5-mers, and exchange their middle base.\n",
    "So, ...AATCC...AAGCC... becomes ...AAGCC...AATCC...  "
   ]
  },
  {
   "cell_type": "code",
   "execution_count": null,
   "metadata": {},
   "outputs": [],
   "source": []
  }
 ],
 "metadata": {
  "kernelspec": {
   "display_name": "Python 3",
   "language": "python",
   "name": "python3"
  },
  "language_info": {
   "codemirror_mode": {
    "name": "ipython",
    "version": 3
   },
   "file_extension": ".py",
   "mimetype": "text/x-python",
   "name": "python",
   "nbconvert_exporter": "python",
   "pygments_lexer": "ipython3",
   "version": "3.8.3"
  }
 },
 "nbformat": 4,
 "nbformat_minor": 2
}
