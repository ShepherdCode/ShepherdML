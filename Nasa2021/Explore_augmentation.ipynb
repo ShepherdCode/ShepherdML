{
 "cells": [
  {
   "cell_type": "markdown",
   "metadata": {},
   "source": [
    "# Data Augmentation\n",
    "\n",
    "Neural networks get more accurate with more training data,\n",
    "but labeled training data is rare and valuable.\n",
    "Data augmentation refers to artificially boosting the training set.\n",
    "Data augmentation is established practice \n",
    "in the world of image classification where\n",
    "real images are flipped, rotated, cropped, darkened, colorized, etc.\n",
    "The real and almost-real images are all used in training."
   ]
  },
  {
   "cell_type": "markdown",
   "metadata": {},
   "source": [
    "## How should data augmentation work for RNA?\n",
    "\n",
    "We cannot be sure a mutated RNA is still labeled correctly. \n",
    "After you change a letter, it may not be protein coding any more!\n",
    "\n",
    "Hill et al. created an inflated training set\n",
    "where every instance was a true RNA with a one-nucleotide mutation.\n",
    "Aware that a mutant's label may no longer apply,\n",
    "they used the augmented data for pre-training only.\n",
    "That is, train initial layers on the augmented data,\n",
    "then freeze their weights and train deeper layers on real data."
   ]
  },
  {
   "cell_type": "markdown",
   "metadata": {},
   "source": [
    "## Literature"
   ]
  },
  {
   "cell_type": "markdown",
   "metadata": {},
   "source": [
    "Very long and entirely about images.  \n",
    "2019: A survey on Image Data Augmentation for Deep Learning. Journal of Big Data [free html](https://link.springer.com/article/10.1186/s40537-019-0197-0). \n",
    "\n",
    "Naturally, someone has tried to automate the process.  \n",
    "2019: AutoAugment. Conference on Computer Vision [free pdf](https://openaccess.thecvf.com/content_CVPR_2019/html/Cubuk_AutoAugment_Learning_Augmentation_Strategies_From_Data_CVPR_2019_paper.html). \n",
    "\n",
    "Image augmentation using GAN (generative adversarial neural networks).  \n",
    "2017: The Effectiveness of Data Augmentation in Image Classification using Deep\n",
    "Learning. arXiv [free pdf](https://arxiv.org/abs/1712.04621)\n",
    "\n",
    "Image augmentation using GAN.  \n",
    "2017: Data Augmentation Generative Adversarial Networks. arXiv [free pdf](https://arxiv.org/abs/1711.04340)\n",
    "\n",
    "Sentence augmentation by replacing words.  \n",
    "2018: Contextual Augmentation: Data Augmentation by Words with Paradigmatic Relations. arXiv [free pdf](https://arxiv.org/abs/1805.06201)\n",
    "* Previous work augments sentences by replacing words with synonyms.\n",
    "* Here, replace words with words predicted by models that predict the missing word based on the sentence (context). This seems like GAN.\n",
    "* Tested CNN and LSTM.\n",
    "* Very small gain achieved through training on augmented data.\n",
    "* Could we train ANNs to predict a masked letter? Only accept changes that don't match the original? Extend to K-mers?"
   ]
  },
  {
   "cell_type": "markdown",
   "metadata": {},
   "source": [
    "## Ideas"
   ]
  },
  {
   "cell_type": "markdown",
   "metadata": {},
   "source": [
    "### Preserve the K-mer profile\n",
    "Mutate an RNA and at least preserve its K-mer profile.\n",
    "This should not change MLP accuracy.\n",
    "How would it change RNN accuracy?\n",
    "\n",
    "Here is a trivial mutation algorithm. \n",
    "For K=3, find any two identical 5-mers, and exchange their middle base.\n",
    "So, ...AATCC...AAGCC... becomes ...AAGCC...AATCC...  "
   ]
  },
  {
   "cell_type": "markdown",
   "metadata": {},
   "source": [
    "### Reverse, rotate, or swap\n",
    "\n",
    "Reversing the RNA should have no effect on MLP accuracy.\n",
    "We predict no effect on RNN accuracy since \n",
    "Bidirectional LSTM did no better than LSTM.\n",
    "\n",
    "Rotating the RNA could be safe.\n",
    "A 1-base rotation of ABCDE would be BCDEA.\n",
    "Some rotations will break an ORF, \n",
    "but most rotations probably preserve the important sequence features.\n",
    "\n",
    "Swapping an RNA is most risky. \n",
    "A 50:50 swap of ABCDEFGH could be EFGHABCD."
   ]
  },
  {
   "cell_type": "markdown",
   "metadata": {},
   "source": [
    "### Splice or alternate exons\n",
    "Cells generate multiple transcripts from one gene sequence.\n",
    "One mechanism is splicing out parts.\n",
    "The parts that are always spliced out are called introns. \n",
    "The parts usually left in are called exons.\n",
    "But alternate splicing is observed sometimes.\n",
    "But if a gene usually retains exons 1,2,3,4,\n",
    "then RNA transcripts with exons 1,2,4 \n",
    "or 1,3,4 are called alternate splices.\n",
    "We could get the predicted splice sites (exon boundaries)\n",
    "from the sequence databases."
   ]
  },
  {
   "cell_type": "markdown",
   "metadata": {},
   "source": [
    "### Evolution\n",
    "Perhaps we could augment human transcripts\n",
    "by including primate transcripts or even other mammals.\n",
    "Note Hill et al. tested their human-trained model on mouse RNA.\n",
    "\n",
    "The NonCode database has primate lncRNA including ~15K from gorilla.\n",
    "See their stats by species on this [page](http://www.noncode.org/analysis.php).\n",
    "See their 2017 publication in [NAR](https://academic.oup.com/nar/article/46/D1/D308/4616876)."
   ]
  },
  {
   "cell_type": "code",
   "execution_count": null,
   "metadata": {},
   "outputs": [],
   "source": []
  }
 ],
 "metadata": {
  "kernelspec": {
   "display_name": "Python 3",
   "language": "python",
   "name": "python3"
  },
  "language_info": {
   "codemirror_mode": {
    "name": "ipython",
    "version": 3
   },
   "file_extension": ".py",
   "mimetype": "text/x-python",
   "name": "python",
   "nbconvert_exporter": "python",
   "pygments_lexer": "ipython3",
   "version": "3.8.3"
  }
 },
 "nbformat": 4,
 "nbformat_minor": 2
}
