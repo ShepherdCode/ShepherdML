{
  "nbformat": 4,
  "nbformat_minor": 0,
  "metadata": {
    "accelerator": "GPU",
    "colab": {
      "name": "CNN_523embed_noisy48k.ipynb",
      "provenance": [],
      "collapsed_sections": [],
      "machine_shape": "hm",
      "include_colab_link": true
    },
    "kernelspec": {
      "display_name": "Python 3",
      "language": "python",
      "name": "python3"
    },
    "language_info": {
      "codemirror_mode": {
        "name": "ipython",
        "version": 3
      },
      "file_extension": ".py",
      "mimetype": "text/x-python",
      "name": "python",
      "nbconvert_exporter": "python",
      "pygments_lexer": "ipython3",
      "version": "3.8.3"
    }
  },
  "cells": [
    {
      "cell_type": "markdown",
      "metadata": {
        "id": "view-in-github",
        "colab_type": "text"
      },
      "source": [
        "<a href=\"https://colab.research.google.com/github/ShepherdCode/ShepherdML/blob/master/Nasa2021/CNN_523embed_noisy48k.ipynb\" target=\"_parent\"><img src=\"https://colab.research.google.com/assets/colab-badge.svg\" alt=\"Open In Colab\"/></a>"
      ]
    },
    {
      "cell_type": "code",
      "metadata": {
        "id": "PJDmazbCyqHC"
      },
      "source": [
        ""
      ],
      "execution_count": null,
      "outputs": []
    },
    {
      "cell_type": "markdown",
      "metadata": {
        "id": "view-in-github"
      },
      "source": [
        "<a href=\"https://colab.research.google.com/github/ShepherdCode/ShepherdML/blob/master/Nasa2021/CNN_523.ipynb\" target=\"_parent\"><img src=\"https://colab.research.google.com/assets/colab-badge.svg\" alt=\"Open In Colab\"/></a>"
      ]
    },
    {
      "cell_type": "markdown",
      "metadata": {
        "id": "ojm_6E9f9Kcf"
      },
      "source": [
        "# CNN 523 48k noisy\n",
        "\n",
        "1. Four layers of CNNS and MaxPooling\n",
        "2. Drop out at 0.2\n",
        "3. Variable filters and dense neurons\n",
        "4. 10% Noise, datasets of 3k coding and noncoding from 3k to 192k\n",
        "\n",
        "\n",
        "\n",
        "\n",
        "\n",
        "\n",
        "\n",
        "\n",
        "\n",
        "\n",
        "\n",
        "\n"
      ]
    },
    {
      "cell_type": "code",
      "metadata": {
        "colab": {
          "base_uri": "https://localhost:8080/"
        },
        "id": "hh6XplUvC0j0",
        "outputId": "9718ca17-3c59-4fea-eae4-e65c9001bfa4"
      },
      "source": [
        "#NC_FILENAME='ncRNA.tiny50.fasta'\n",
        "#PC_FILENAME='pcRNA.tiny50.fasta'\n",
        "#NC_FILENAME='ncRNA.gc34.processed.fasta'\n",
        "#PC_FILENAME='pcRNA.gc34.processed.fasta'\n",
        "NC_FILENAME='noisy_noncod_48000_10.fasta'  # CHANGE THIS TO 1000, 2000, 4000, etc.\n",
        "PC_FILENAME='noisy_coding_48000_10.fasta'\n",
        "NC_VAL_FILE='noncod_validation.fasta'  # 'noncod_validation.fasta'  # CHANGE THIS TO THE UNIFORM VALIDATION FILE\n",
        "PC_VAL_FILE='coding_validation.fasta'  # 'coding_validation.fasta'\n",
        "\n",
        "MODEL_FILE='JUNK1'   # CHANGE THIS IF YOU WANT TO SAVE THE MODEL!\n",
        "DATAPATH=''\n",
        "\n",
        "try:\n",
        "    from google.colab import drive\n",
        "    IN_COLAB = True\n",
        "    PATH='/content/drive/'\n",
        "    drive.mount(PATH)\n",
        "    DATAPATH=PATH+'My Drive/data/'  # must end in \"/\"\n",
        "except:\n",
        "    IN_COLAB = False\n",
        "    DATAPATH='data/'  # must end in \"/\"\n",
        "NC_FILENAME = DATAPATH+NC_FILENAME\n",
        "PC_FILENAME = DATAPATH+PC_FILENAME\n",
        "NC_VAL_FILE = DATAPATH+NC_VAL_FILE\n",
        "PC_VAL_FILE = DATAPATH+PC_VAL_FILE\n",
        "MODEL_FILE=DATAPATH+MODEL_FILE\n",
        "\n",
        "EPOCHS=20  # DECIDE ON SOME AMOUNT AND STICK WITH IT\n",
        "SPLITS=5\n",
        "K=1\n",
        "VOCABULARY_SIZE=4**K+1   # e.g. K=3 => 64 DNA K-mers + 'NNN'\n",
        "EMBED_DIMEN=2\n",
        "FILTERS=32\n",
        "KERNEL=3\n",
        "NEURONS=24\n",
        "DROP=0.2\n",
        "MINLEN=200\n",
        "MAXLEN=1000    # THIS HAS TO MATCH THE SIMULATION DATA\n",
        "DENSE_LEN = 1000\n",
        "ACT=\"tanh\""
      ],
      "execution_count": 1,
      "outputs": [
        {
          "output_type": "stream",
          "text": [
            "Drive already mounted at /content/drive/; to attempt to forcibly remount, call drive.mount(\"/content/drive/\", force_remount=True).\n"
          ],
          "name": "stdout"
        }
      ]
    },
    {
      "cell_type": "code",
      "metadata": {
        "colab": {
          "base_uri": "https://localhost:8080/"
        },
        "id": "e9TY3HK9ZklE",
        "outputId": "54501bda-3887-488b-b963-d452854a46d7"
      },
      "source": [
        "# Load our own tools\n",
        "# TO DO: don't go to GitHub if the file is already local.\n",
        "GITHUB = True\n",
        "if GITHUB:\n",
        "    #!pip install requests  # Uncomment this if necessary. Seems to be pre-installed.\n",
        "    import requests\n",
        "    r = requests.get('https://raw.githubusercontent.com/ShepherdCode/ShepherdML/master/Strings/tools_fasta.py')\n",
        "    with open('tools_fasta.py', 'w') as f:\n",
        "        f.write(r.text)\n",
        "    # TO DO: delete the file after import\n",
        "import tools_fasta as tools\n",
        "tools.yahoo()  # If this prints \"Yahoo!\" the the import was successful.\n",
        "\n",
        "TOOLS_CHANGED = False   # set to True to re-run with a new version of tools\n",
        "if TOOLS_CHANGED:\n",
        "  from importlib import reload \n",
        "  tools=reload(tools)\n",
        "  print(dir(tools))   # run this to see EVERYTHING in the tools module"
      ],
      "execution_count": 2,
      "outputs": [
        {
          "output_type": "stream",
          "text": [
            "Yahoo!\n"
          ],
          "name": "stdout"
        }
      ]
    },
    {
      "cell_type": "code",
      "metadata": {
        "id": "VQY7aTj29Kch"
      },
      "source": [
        "import numpy as np\n",
        "import pandas as pd\n",
        "import matplotlib.pyplot as plt\n",
        "from sklearn.model_selection import ShuffleSplit\n",
        "from sklearn.model_selection import cross_val_score\n",
        "from sklearn.model_selection import RepeatedKFold\n",
        "from sklearn.model_selection import StratifiedKFold\n",
        "import tensorflow as tf\n",
        "from tensorflow import keras\n",
        "import time\n",
        "dt='float32'\n",
        "tf.keras.backend.set_floatx(dt)"
      ],
      "execution_count": 3,
      "outputs": []
    },
    {
      "cell_type": "markdown",
      "metadata": {
        "id": "j7jcg6Wl9Kc2"
      },
      "source": [
        "Build model"
      ]
    },
    {
      "cell_type": "code",
      "metadata": {
        "id": "qLFNO1Xa9Kc3"
      },
      "source": [
        "def compile_model(model):\n",
        "    print(\"COMPILE...\")\n",
        "    bc=tf.keras.losses.BinaryCrossentropy(from_logits=False)\n",
        "    model.compile(loss=bc, optimizer=\"adam\", metrics=[\"accuracy\"])\n",
        "    print(\"...COMPILED\")\n",
        "    return model\n",
        "\n",
        "def build_model():\n",
        "    #SHAPE=(MAXLEN,5)  \n",
        "    SHAPE=(MAXLEN,4)  \n",
        "    # 4 input letters, 4 output dimensions, 1000 letters/RNA\n",
        "    elayer  = keras.layers.Embedding(4,4,input_length=1000) \n",
        "\n",
        "    clayer1 = keras.layers.Conv1D(FILTERS,KERNEL,activation=ACT,padding=\"same\",\n",
        "                                 input_shape=SHAPE)\n",
        "    clayer2 = keras.layers.Conv1D(FILTERS,KERNEL,activation=ACT,padding=\"same\")\n",
        "    clayer3 = keras.layers.MaxPooling1D(2)\n",
        "    clayer4 = keras.layers.Conv1D(FILTERS,KERNEL,activation=ACT,padding=\"same\")\n",
        "    clayer5 = keras.layers.Conv1D(FILTERS,KERNEL,activation=ACT,padding=\"same\")\n",
        "    clayer6 = keras.layers.MaxPooling1D(2)\n",
        "    clayer7 = keras.layers.Conv1D(FILTERS,KERNEL,activation=ACT,padding=\"same\")\n",
        "    clayer8 = keras.layers.Conv1D(FILTERS,KERNEL,activation=ACT,padding=\"same\")\n",
        "    clayer9 = keras.layers.MaxPooling1D(2)\n",
        "    clayer10 = keras.layers.Conv1D(FILTERS,KERNEL,activation=ACT,padding=\"same\")\n",
        "    clayer11 = keras.layers.Conv1D(FILTERS,KERNEL,activation=ACT,padding=\"same\")\n",
        "    clayer12 = keras.layers.MaxPooling1D(2)\n",
        "\n",
        "    clayer13 = keras.layers.Flatten()\n",
        "\n",
        "    dlayer1 = keras.layers.Dense(NEURONS, activation=ACT,dtype=dt, input_shape=[DENSE_LEN])\n",
        "    dlayer2 = keras.layers.Dropout(DROP)\n",
        "    dlayer3 = keras.layers.Dense(NEURONS, activation=ACT,dtype=dt)\n",
        "    dlayer4 = keras.layers.Dropout(DROP)\n",
        "    output_layer = keras.layers.Dense(1, activation=\"sigmoid\", dtype=dt)\n",
        "\n",
        "    cnn = keras.models.Sequential()\n",
        "    cnn.add(elayer)\n",
        "    cnn.add(clayer1)\n",
        "    cnn.add(clayer2)\n",
        "    cnn.add(clayer3)\n",
        "    cnn.add(clayer4)\n",
        "    cnn.add(clayer5)\n",
        "    cnn.add(clayer6)\n",
        "    cnn.add(clayer7)\n",
        "    cnn.add(clayer8)\n",
        "    cnn.add(clayer9)\n",
        "    cnn.add(clayer10)\n",
        "    cnn.add(clayer11)\n",
        "    cnn.add(clayer12)\n",
        "    cnn.add(clayer13)\n",
        "    cnn.add(dlayer1)\n",
        "    cnn.add(dlayer2)\n",
        "    cnn.add(dlayer3)\n",
        "    cnn.add(dlayer4)\n",
        "    cnn.add(output_layer)\n",
        "    mlpc = compile_model(cnn)\n",
        "    return mlpc"
      ],
      "execution_count": 4,
      "outputs": []
    },
    {
      "cell_type": "markdown",
      "metadata": {
        "id": "LdIS2utq9Kc9"
      },
      "source": [
        "Cross validation"
      ]
    },
    {
      "cell_type": "code",
      "metadata": {
        "id": "BVo4tbB_9Kc-"
      },
      "source": [
        "def do_cross_validation(X,y,given_model,X_VALID,Y_VALID):\n",
        "    cv_scores = []\n",
        "    fold=0\n",
        "    splitter = ShuffleSplit(n_splits=SPLITS, test_size=0.1, random_state=37863)\n",
        "    for train_index,valid_index in splitter.split(X):\n",
        "        fold += 1\n",
        "        X_train=X[train_index] # use iloc[] for dataframe\n",
        "        y_train=y[train_index]\n",
        "        X_valid=X[valid_index]\n",
        "        y_valid=y[valid_index]        \n",
        "        # Avoid continually improving the same model.\n",
        "        model = compile_model(keras.models.clone_model(given_model))\n",
        "        bestname=MODEL_FILE+\".cv.\"+str(fold)+\".best\"\n",
        "        mycallbacks = [keras.callbacks.ModelCheckpoint(\n",
        "            filepath=bestname, save_best_only=True, \n",
        "            monitor='val_accuracy', mode='max')]   \n",
        "        print(\"FIT\")\n",
        "        start_time=time.time()\n",
        "        history=model.fit(X_train, y_train, \n",
        "                epochs=EPOCHS, verbose=1, callbacks=mycallbacks,\n",
        "                validation_data=(X_valid,y_valid))\n",
        "        # THE VALIDATION ABOVE IS JUST FOR SHOW\n",
        "        end_time=time.time()\n",
        "        elapsed_time=(end_time-start_time)                        \n",
        "        print(\"Fold %d, %d epochs, %d sec\"%(fold,EPOCHS,elapsed_time))\n",
        "        pd.DataFrame(history.history).plot(figsize=(8,5))\n",
        "        plt.grid(True)\n",
        "        plt.gca().set_ylim(0,1)\n",
        "        plt.show()\n",
        "        best_model=keras.models.load_model(bestname)\n",
        "        # THE VALIDATION BELOW IS FOR KEEPS\n",
        "        scores = best_model.evaluate(X_VALID, Y_VALID, verbose=0)\n",
        "        print(\"%s: %.2f%%\" % (best_model.metrics_names[1], scores[1]*100))\n",
        "        cv_scores.append(scores[1] * 100)  \n",
        "    print()\n",
        "    print(\"%d-way Cross Validation mean %.2f%% (+/- %.2f%%)\" % (fold, np.mean(cv_scores), np.std(cv_scores)))"
      ],
      "execution_count": 5,
      "outputs": []
    },
    {
      "cell_type": "markdown",
      "metadata": {
        "id": "qd3Wj_vI9KdP"
      },
      "source": [
        "## Train on RNA lengths 200-1Kb"
      ]
    },
    {
      "cell_type": "code",
      "metadata": {
        "colab": {
          "base_uri": "https://localhost:8080/"
        },
        "id": "G1HuSs8ZbeL4",
        "outputId": "f745ce2b-39da-43ba-c1e3-efaceddb8864"
      },
      "source": [
        "print (\"Compile the model\")\n",
        "model=build_model()\n",
        "print (\"Summarize the model\")\n",
        "print(model.summary())  # Print this only once\n",
        "#model.save(MODEL_FILE+'.model')\n"
      ],
      "execution_count": 6,
      "outputs": [
        {
          "output_type": "stream",
          "text": [
            "Compile the model\n",
            "COMPILE...\n",
            "...COMPILED\n",
            "Summarize the model\n",
            "Model: \"sequential\"\n",
            "_________________________________________________________________\n",
            "Layer (type)                 Output Shape              Param #   \n",
            "=================================================================\n",
            "embedding (Embedding)        (None, 1000, 4)           16        \n",
            "_________________________________________________________________\n",
            "conv1d (Conv1D)              (None, 1000, 32)          416       \n",
            "_________________________________________________________________\n",
            "conv1d_1 (Conv1D)            (None, 1000, 32)          3104      \n",
            "_________________________________________________________________\n",
            "max_pooling1d (MaxPooling1D) (None, 500, 32)           0         \n",
            "_________________________________________________________________\n",
            "conv1d_2 (Conv1D)            (None, 500, 32)           3104      \n",
            "_________________________________________________________________\n",
            "conv1d_3 (Conv1D)            (None, 500, 32)           3104      \n",
            "_________________________________________________________________\n",
            "max_pooling1d_1 (MaxPooling1 (None, 250, 32)           0         \n",
            "_________________________________________________________________\n",
            "conv1d_4 (Conv1D)            (None, 250, 32)           3104      \n",
            "_________________________________________________________________\n",
            "conv1d_5 (Conv1D)            (None, 250, 32)           3104      \n",
            "_________________________________________________________________\n",
            "max_pooling1d_2 (MaxPooling1 (None, 125, 32)           0         \n",
            "_________________________________________________________________\n",
            "conv1d_6 (Conv1D)            (None, 125, 32)           3104      \n",
            "_________________________________________________________________\n",
            "conv1d_7 (Conv1D)            (None, 125, 32)           3104      \n",
            "_________________________________________________________________\n",
            "max_pooling1d_3 (MaxPooling1 (None, 62, 32)            0         \n",
            "_________________________________________________________________\n",
            "flatten (Flatten)            (None, 1984)              0         \n",
            "_________________________________________________________________\n",
            "dense (Dense)                (None, 24)                47640     \n",
            "_________________________________________________________________\n",
            "dropout (Dropout)            (None, 24)                0         \n",
            "_________________________________________________________________\n",
            "dense_1 (Dense)              (None, 24)                600       \n",
            "_________________________________________________________________\n",
            "dropout_1 (Dropout)          (None, 24)                0         \n",
            "_________________________________________________________________\n",
            "dense_2 (Dense)              (None, 1)                 25        \n",
            "=================================================================\n",
            "Total params: 70,425\n",
            "Trainable params: 70,425\n",
            "Non-trainable params: 0\n",
            "_________________________________________________________________\n",
            "None\n"
          ],
          "name": "stdout"
        }
      ]
    },
    {
      "cell_type": "code",
      "metadata": {
        "id": "f8fNo6sn9KdH"
      },
      "source": [
        "def load_data_from_files(nc_filename,pc_filename):\n",
        "  FREEMEM=True   # use False for debugging, True for production\n",
        "  print(\"Load data from files.\")\n",
        "  nc_seq=tools.load_fasta(nc_filename,0)\n",
        "  pc_seq=tools.load_fasta(pc_filename,1)\n",
        "  train_set=pd.concat((nc_seq,pc_seq),axis=0)\n",
        "  print(\"Ready: train_set\")\n",
        "  subset=tools.make_slice(train_set,MINLEN,MAXLEN)# One array to two: X and y\n",
        "  if FREEMEM:\n",
        "      nc_seq=None\n",
        "      pc_seq=None\n",
        "      train_set=None\n",
        "  (X1,y_train)=tools.separate_X_and_y(subset)\n",
        "  # X1 is pandas df of (\"list\" of one sequence)\n",
        "  X2=X1.to_numpy()  # numpy ndarray of (\"list\" of one sequence)\n",
        "  X3=[elem[0] for elem in X2]  # numpy ndarray of ACGT-str\n",
        "  # X3? It might be faster to use int-array than char-array. Come back to this.\n",
        "  X4=X3  # no-op\n",
        "  print(\"X4\",type(X4))\n",
        "  #print(X4[0])\n",
        "  if FREEMEM:\n",
        "      X1=None\n",
        "      X2=None\n",
        "      X3=None\n",
        "  X5=[]\n",
        "  dna_to_int = {'A':0,'C':1,'G':2,'T':3}\n",
        "  for x in X4:\n",
        "      a=[]\n",
        "      for c in x:\n",
        "          i = dna_to_int[c]\n",
        "          a.append(i)\n",
        "      X5.append(a)\n",
        "  X5=np.asarray(X5)\n",
        "  print(\"X5\",type(X5))\n",
        "  print(X5.shape)\n",
        "  if FREEMEM:\n",
        "      X4=None\n",
        "  X_train=X5\n",
        "  if FREEMEM:\n",
        "      X5=None\n",
        "  print(\"X_train\",type(X_train))\n",
        "  y_train=y_train.to_numpy()\n",
        "  print(X_train.shape)\n",
        "  print(X_train[0].shape)\n",
        "  print(X_train[0])\n",
        "  return X_train,y_train\n"
      ],
      "execution_count": 7,
      "outputs": []
    },
    {
      "cell_type": "code",
      "metadata": {
        "colab": {
          "base_uri": "https://localhost:8080/"
        },
        "id": "UmEls9oXRQON",
        "outputId": "268efb92-4543-4fa7-ad76-1ef6169bb5ca"
      },
      "source": [
        "print(\"Loading training data...\")\n",
        "X_train,y_train = load_data_from_files(NC_FILENAME,PC_FILENAME)"
      ],
      "execution_count": 8,
      "outputs": [
        {
          "output_type": "stream",
          "text": [
            "Loading training data...\n",
            "Load data from files.\n",
            "Ready: train_set\n",
            "X4 <class 'list'>\n",
            "X5 <class 'numpy.ndarray'>\n",
            "(96000, 1000)\n",
            "X_train <class 'numpy.ndarray'>\n",
            "(96000, 1000)\n",
            "(1000,)\n",
            "[1 0 1 3 3 1 3 0 1 2 1 1 3 0 3 2 3 1 2 3 0 1 0 0 2 3 0 2 2 3 1 1 0 2 3 0 3\n",
            " 2 1 1 0 2 2 1 3 1 3 1 3 2 2 0 3 2 0 0 0 0 0 0 1 3 1 1 3 3 2 3 0 1 0 2 1 2\n",
            " 2 2 2 0 1 0 1 0 0 1 0 3 3 0 0 0 0 1 3 0 1 1 2 1 0 3 3 3 2 2 3 0 2 2 3 0 1\n",
            " 0 2 0 0 3 1 0 1 2 0 0 2 0 2 2 2 3 0 3 1 0 1 1 3 2 1 2 2 3 1 0 3 2 3 1 3 0\n",
            " 2 1 1 0 2 1 0 0 1 0 1 0 2 1 2 0 0 1 3 1 2 2 2 2 0 2 0 3 0 3 1 2 3 3 0 1 3\n",
            " 0 2 1 1 3 1 1 1 2 2 2 3 2 3 1 1 2 0 3 3 0 1 0 1 3 1 3 0 1 3 0 0 0 1 2 0 1\n",
            " 1 0 3 0 0 0 3 3 3 3 3 0 0 3 1 2 1 2 0 0 0 2 3 1 3 1 2 2 2 0 3 1 2 2 3 0 0\n",
            " 3 2 3 1 1 1 0 2 3 0 1 0 1 0 2 2 3 2 0 3 3 2 2 0 1 2 0 0 2 1 2 1 3 3 3 1 0\n",
            " 3 2 3 3 3 3 2 1 1 1 1 1 1 0 1 2 2 3 1 2 0 3 0 2 1 0 2 2 1 0 1 1 2 2 0 2 1\n",
            " 3 2 3 2 3 0 0 3 2 1 1 0 3 1 3 1 3 0 1 3 2 0 0 2 1 1 2 3 2 2 2 2 0 1 0 2 2\n",
            " 2 2 1 3 3 3 3 3 2 3 1 2 2 1 3 1 1 3 1 3 2 3 3 0 3 2 2 3 3 0 2 0 2 1 3 0 0\n",
            " 0 0 1 3 2 0 2 0 1 2 2 3 1 0 0 0 3 1 3 2 3 2 2 0 1 2 3 0 2 1 1 2 0 0 1 3 0\n",
            " 1 1 0 0 1 3 0 1 2 3 2 1 2 1 3 1 2 2 1 0 2 2 0 1 3 3 1 3 1 1 0 0 2 0 2 3 2\n",
            " 2 0 2 2 0 3 2 2 2 1 2 2 0 3 0 1 3 2 3 2 0 0 2 3 3 0 0 0 1 3 2 2 1 1 3 2 0\n",
            " 3 2 0 2 3 1 2 1 2 0 2 3 3 1 1 3 1 0 3 3 3 0 0 1 3 0 2 0 0 3 1 1 2 3 3 0 1\n",
            " 0 2 3 3 1 0 3 1 3 3 1 2 0 3 3 1 1 1 0 1 1 0 2 3 2 1 2 1 2 1 2 3 0 1 1 3 1\n",
            " 0 0 3 3 3 3 2 3 0 2 1 0 3 3 0 2 2 3 0 1 2 1 2 2 3 3 0 3 0 3 1 0 0 3 1 1 2\n",
            " 2 0 2 2 2 0 3 1 3 1 1 1 2 1 2 3 1 3 1 0 1 0 3 3 0 2 3 2 3 2 3 0 1 0 3 2 2\n",
            " 0 3 3 1 2 0 1 2 2 0 1 0 3 1 1 0 1 0 0 2 1 3 3 2 1 3 1 2 0 3 0 1 3 3 2 3 0\n",
            " 2 2 0 3 0 1 3 3 3 3 3 0 2 0 2 0 0 2 0 3 0 2 1 1 0 1 3 2 2 2 0 0 3 3 1 1 1\n",
            " 2 2 3 1 1 1 0 0 0 1 0 3 3 3 0 3 3 3 0 0 3 3 1 3 0 0 2 3 2 3 0 2 3 1 2 0 1\n",
            " 0 3 0 3 3 3 1 1 3 2 2 2 0 1 0 2 1 2 0 1 1 1 3 1 0 3 1 1 2 0 1 2 3 1 0 1 0\n",
            " 1 2 0 0 1 1 0 0 1 0 3 0 0 0 0 1 1 1 2 0 0 2 3 2 3 2 1 1 3 1 1 0 3 1 2 2 2\n",
            " 1 3 0 2 1 3 0 3 0 0 1 1 3 1 2 1 1 1 1 2 3 1 3 3 3 3 0 1 2 1 2 2 0 3 1 0 1\n",
            " 0 3 1 0 3 1 1 3 0 1 3 1 3 3 2 2 0 0 0 0 3 1 2 1 2 0 3 0 2 1 3 3 3 1 2 2 0\n",
            " 2 1 1 1 1 3 1 2 0 3 1 0 3 2 3 3 3 1 1 3 2 2 1 0 1 1 0 0 1 2 0 0 1 0 2 2 3\n",
            " 2 2 0 3 1 0 2 2 3 3 3 2 3 2 1 1 3 1 1 1 1 2 2 3 1 0 0 3 3 2 3 2 0 3 1 3 2\n",
            " 0]\n"
          ],
          "name": "stdout"
        }
      ]
    },
    {
      "cell_type": "code",
      "metadata": {
        "colab": {
          "base_uri": "https://localhost:8080/"
        },
        "id": "sfvgDZR1a_2j",
        "outputId": "5adc8e83-b2b5-45d7-c150-d0df49224cf0"
      },
      "source": [
        "print(\"Loading validation data...\")\n",
        "X_VALID,Y_VALID = load_data_from_files(NC_VAL_FILE,PC_VAL_FILE)"
      ],
      "execution_count": 9,
      "outputs": [
        {
          "output_type": "stream",
          "text": [
            "Loading validation data...\n",
            "Load data from files.\n",
            "Ready: train_set\n",
            "X4 <class 'list'>\n",
            "X5 <class 'numpy.ndarray'>\n",
            "(100000, 1000)\n",
            "X_train <class 'numpy.ndarray'>\n",
            "(100000, 1000)\n",
            "(1000,)\n",
            "[0 2 0 0 3 3 1 2 2 3 1 2 2 0 2 0 2 2 2 1 2 0 3 2 0 3 0 0 3 3 2 3 0 3 3 1 0\n",
            " 1 1 0 2 1 1 1 1 2 3 3 0 2 1 1 3 2 3 2 1 2 3 3 0 0 1 2 2 2 3 2 0 1 2 2 2 2\n",
            " 2 1 3 3 0 1 2 0 1 2 0 3 2 3 2 3 1 3 3 1 3 0 2 1 1 1 2 3 2 2 2 1 0 3 3 2 3\n",
            " 3 3 1 1 3 3 2 1 1 2 1 3 2 2 1 3 1 3 1 0 0 3 2 2 2 1 2 0 0 1 0 2 0 1 3 2 1\n",
            " 3 2 2 0 3 1 2 0 3 3 3 2 3 2 1 0 0 3 0 2 0 2 1 2 1 1 0 2 3 0 1 2 0 1 2 2 0\n",
            " 2 1 2 3 1 1 1 2 3 3 3 2 1 1 0 2 3 1 1 2 1 0 0 3 2 1 0 2 2 3 2 0 0 3 1 3 0\n",
            " 2 3 0 2 3 1 2 3 1 1 2 3 3 3 3 3 0 0 1 0 0 0 2 0 2 2 0 3 3 0 0 0 0 2 2 2 1\n",
            " 0 0 1 1 1 0 2 0 3 1 2 0 0 3 3 1 1 2 1 3 2 3 2 1 2 2 0 0 1 0 1 0 3 3 3 0 0\n",
            " 0 2 3 0 3 2 3 0 1 1 3 0 1 1 1 3 2 1 3 3 1 0 0 0 1 2 3 0 2 3 1 1 1 3 0 3 1\n",
            " 2 0 1 2 1 2 2 3 1 1 1 2 0 2 0 0 3 3 0 2 1 0 0 1 0 1 3 3 2 3 3 1 0 3 2 3 0\n",
            " 2 3 3 2 0 1 0 0 3 1 1 2 2 1 3 2 0 1 0 0 3 2 3 1 0 3 0 3 3 1 1 3 0 0 0 1 2\n",
            " 1 1 1 3 1 2 2 1 1 1 2 1 0 1 1 2 3 2 1 2 1 3 3 2 3 2 2 2 3 3 0 3 1 0 3 3 0\n",
            " 3 2 2 0 1 2 1 1 1 0 3 3 0 1 1 2 3 2 1 2 2 2 0 0 0 2 1 2 1 3 0 3 1 0 0 1 3\n",
            " 2 3 3 2 1 0 3 3 0 1 1 0 0 3 3 1 0 2 2 1 2 0 0 0 2 0 1 2 2 3 1 0 0 2 0 0 1\n",
            " 3 3 2 0 1 0 3 1 3 2 2 0 1 1 0 2 0 0 0 3 2 3 2 0 0 3 3 2 1 3 0 0 2 1 2 1 2\n",
            " 1 0 2 2 2 3 2 3 3 2 1 2 0 0 2 3 1 0 1 2 1 3 2 3 1 0 2 0 2 1 0 2 1 1 1 1 3\n",
            " 1 2 3 3 0 3 0 2 2 1 2 3 2 0 2 0 2 3 2 3 3 0 0 1 0 3 1 1 0 0 2 0 1 3 3 2 1\n",
            " 3 3 3 0 2 2 3 1 2 1 3 2 3 0 2 3 1 0 2 0 2 2 0 1 3 3 0 0 0 3 0 1 1 0 0 3 0\n",
            " 0 1 2 0 2 3 1 1 2 3 2 2 1 2 1 0 1 0 3 0 3 1 1 1 3 3 3 2 2 3 3 3 1 3 3 1 3\n",
            " 0 2 3 0 2 2 3 0 3 3 1 3 1 1 2 3 0 3 2 0 1 1 3 1 1 1 1 3 0 1 3 2 1 0 2 3 2\n",
            " 3 2 3 2 2 1 2 2 1 1 2 3 1 2 0 1 3 0 1 3 1 0 1 3 3 3 3 1 1 1 1 2 2 2 0 0 2\n",
            " 1 0 0 3 1 0 2 2 2 2 1 2 3 2 2 0 3 1 1 1 1 3 0 0 2 1 3 0 2 2 0 3 3 0 2 2 2\n",
            " 3 2 1 3 3 1 3 3 3 2 0 1 3 2 0 2 2 1 0 2 3 1 0 1 3 0 1 1 1 0 1 3 2 3 2 2 3\n",
            " 2 3 1 0 1 0 3 0 1 1 2 0 3 1 0 2 1 1 2 0 0 1 3 2 1 3 1 3 0 2 3 1 0 1 0 2 2\n",
            " 0 1 3 2 3 1 2 0 2 2 3 3 3 2 0 3 1 1 1 1 0 2 3 2 1 0 3 3 1 3 2 1 0 0 1 2 2\n",
            " 3 2 1 0 0 2 2 3 0 2 0 1 2 3 3 1 0 3 2 3 0 2 1 2 3 0 1 0 2 3 1 0 1 0 1 0 1\n",
            " 0 0 3 1 3 0 1 2 0 0 3 0 2 2 1 1 1 3 2 0 2 2 1 2 0 0 1 1 2 2 1 1 1 1 1 2 0\n",
            " 3]\n"
          ],
          "name": "stdout"
        }
      ]
    },
    {
      "cell_type": "code",
      "metadata": {
        "colab": {
          "base_uri": "https://localhost:8080/",
          "height": 1000
        },
        "id": "mQ8eW5Rg9KdQ",
        "outputId": "a6074604-eca6-46fc-a6a0-2c0ec8cf4fbf"
      },
      "source": [
        "print (\"Cross validation\")\n",
        "do_cross_validation(X_train,y_train,model,X_VALID,Y_VALID)  \n",
        "print (\"Done\")"
      ],
      "execution_count": 10,
      "outputs": [
        {
          "output_type": "stream",
          "text": [
            "Cross validation\n",
            "COMPILE...\n",
            "...COMPILED\n",
            "FIT\n",
            "Epoch 1/20\n",
            "2700/2700 [==============================] - 16s 5ms/step - loss: 0.6979 - accuracy: 0.5038 - val_loss: 0.6931 - val_accuracy: 0.5068\n",
            "INFO:tensorflow:Assets written to: /content/drive/My Drive/data/JUNK1.cv.1.best/assets\n",
            "Epoch 2/20\n",
            "2700/2700 [==============================] - 13s 5ms/step - loss: 0.6944 - accuracy: 0.5023 - val_loss: 0.6931 - val_accuracy: 0.5068\n",
            "Epoch 3/20\n",
            "2700/2700 [==============================] - 13s 5ms/step - loss: 0.6936 - accuracy: 0.4952 - val_loss: 0.6931 - val_accuracy: 0.5068\n",
            "Epoch 4/20\n",
            "2700/2700 [==============================] - 13s 5ms/step - loss: 0.6935 - accuracy: 0.5004 - val_loss: 0.6934 - val_accuracy: 0.4932\n",
            "Epoch 5/20\n",
            "2700/2700 [==============================] - 13s 5ms/step - loss: 0.6934 - accuracy: 0.5002 - val_loss: 0.6932 - val_accuracy: 0.4932\n",
            "Epoch 6/20\n",
            "2700/2700 [==============================] - 13s 5ms/step - loss: 0.6933 - accuracy: 0.4996 - val_loss: 0.6933 - val_accuracy: 0.4932\n",
            "Epoch 7/20\n",
            "2700/2700 [==============================] - 13s 5ms/step - loss: 0.6935 - accuracy: 0.4995 - val_loss: 0.6934 - val_accuracy: 0.4932\n",
            "Epoch 8/20\n",
            "2700/2700 [==============================] - 13s 5ms/step - loss: 0.6934 - accuracy: 0.5018 - val_loss: 0.6938 - val_accuracy: 0.4932\n",
            "Epoch 9/20\n",
            "2700/2700 [==============================] - 13s 5ms/step - loss: 0.6935 - accuracy: 0.4987 - val_loss: 0.6944 - val_accuracy: 0.4932\n",
            "Epoch 10/20\n",
            "2700/2700 [==============================] - 14s 5ms/step - loss: 0.6935 - accuracy: 0.4999 - val_loss: 0.6931 - val_accuracy: 0.5068\n",
            "Epoch 11/20\n",
            "2700/2700 [==============================] - 13s 5ms/step - loss: 0.6934 - accuracy: 0.5020 - val_loss: 0.6934 - val_accuracy: 0.4932\n",
            "Epoch 12/20\n",
            "2700/2700 [==============================] - 13s 5ms/step - loss: 0.6936 - accuracy: 0.4925 - val_loss: 0.6935 - val_accuracy: 0.4932\n",
            "Epoch 13/20\n",
            "2700/2700 [==============================] - 14s 5ms/step - loss: 0.6934 - accuracy: 0.5010 - val_loss: 0.6934 - val_accuracy: 0.4932\n",
            "Epoch 14/20\n",
            "2700/2700 [==============================] - 13s 5ms/step - loss: 0.6935 - accuracy: 0.4982 - val_loss: 0.6934 - val_accuracy: 0.4932\n",
            "Epoch 15/20\n",
            "2700/2700 [==============================] - 13s 5ms/step - loss: 0.6934 - accuracy: 0.4985 - val_loss: 0.6933 - val_accuracy: 0.4932\n",
            "Epoch 16/20\n",
            "2700/2700 [==============================] - 13s 5ms/step - loss: 0.6936 - accuracy: 0.4973 - val_loss: 0.6931 - val_accuracy: 0.5068\n",
            "Epoch 17/20\n",
            "2700/2700 [==============================] - 13s 5ms/step - loss: 0.6936 - accuracy: 0.4963 - val_loss: 0.6932 - val_accuracy: 0.4932\n",
            "Epoch 18/20\n",
            "2700/2700 [==============================] - 13s 5ms/step - loss: 0.6934 - accuracy: 0.4999 - val_loss: 0.6934 - val_accuracy: 0.4932\n",
            "Epoch 19/20\n",
            "2700/2700 [==============================] - 13s 5ms/step - loss: 0.6934 - accuracy: 0.5017 - val_loss: 0.6931 - val_accuracy: 0.5068\n",
            "Epoch 20/20\n",
            "2700/2700 [==============================] - 13s 5ms/step - loss: 0.6935 - accuracy: 0.4993 - val_loss: 0.6931 - val_accuracy: 0.5068\n",
            "Fold 1, 20 epochs, 270 sec\n"
          ],
          "name": "stdout"
        },
        {
          "output_type": "display_data",
          "data": {
            "image/png": "[encoded data removed]",
            "text/plain": [
              "<Figure size 576x360 with 1 Axes>"
            ]
          },
          "metadata": {
            "tags": [],
            "needs_background": "light"
          }
        },
        {
          "output_type": "stream",
          "text": [
            "accuracy: 50.00%\n",
            "COMPILE...\n",
            "...COMPILED\n",
            "FIT\n",
            "Epoch 1/20\n",
            "2700/2700 [==============================] - 14s 5ms/step - loss: 0.6722 - accuracy: 0.5690 - val_loss: 0.6017 - val_accuracy: 0.6843\n",
            "INFO:tensorflow:Assets written to: /content/drive/My Drive/data/JUNK1.cv.2.best/assets\n",
            "Epoch 2/20\n",
            "2700/2700 [==============================] - 13s 5ms/step - loss: 0.6057 - accuracy: 0.6766 - val_loss: 0.5868 - val_accuracy: 0.6974\n",
            "INFO:tensorflow:Assets written to: /content/drive/My Drive/data/JUNK1.cv.2.best/assets\n",
            "Epoch 3/20\n",
            "2700/2700 [==============================] - 13s 5ms/step - loss: 0.5364 - accuracy: 0.7455 - val_loss: 0.3908 - val_accuracy: 0.8580\n",
            "INFO:tensorflow:Assets written to: /content/drive/My Drive/data/JUNK1.cv.2.best/assets\n",
            "Epoch 4/20\n",
            "2700/2700 [==============================] - 13s 5ms/step - loss: 0.4089 - accuracy: 0.8462 - val_loss: 0.3515 - val_accuracy: 0.8848\n",
            "INFO:tensorflow:Assets written to: /content/drive/My Drive/data/JUNK1.cv.2.best/assets\n",
            "Epoch 5/20\n",
            "2700/2700 [==============================] - 13s 5ms/step - loss: 0.3791 - accuracy: 0.8692 - val_loss: 0.3378 - val_accuracy: 0.8918\n",
            "INFO:tensorflow:Assets written to: /content/drive/My Drive/data/JUNK1.cv.2.best/assets\n",
            "Epoch 6/20\n",
            "2700/2700 [==============================] - 13s 5ms/step - loss: 0.3569 - accuracy: 0.8811 - val_loss: 0.3463 - val_accuracy: 0.8845\n",
            "Epoch 7/20\n",
            "2700/2700 [==============================] - 13s 5ms/step - loss: 0.3550 - accuracy: 0.8824 - val_loss: 0.3516 - val_accuracy: 0.8810\n",
            "Epoch 8/20\n",
            "2700/2700 [==============================] - 13s 5ms/step - loss: 0.3547 - accuracy: 0.8828 - val_loss: 0.3320 - val_accuracy: 0.8952\n",
            "INFO:tensorflow:Assets written to: /content/drive/My Drive/data/JUNK1.cv.2.best/assets\n",
            "Epoch 9/20\n",
            "2700/2700 [==============================] - 13s 5ms/step - loss: 0.3530 - accuracy: 0.8838 - val_loss: 0.3313 - val_accuracy: 0.8952\n",
            "Epoch 10/20\n",
            "2700/2700 [==============================] - 13s 5ms/step - loss: 0.3509 - accuracy: 0.8852 - val_loss: 0.3663 - val_accuracy: 0.8734\n",
            "Epoch 11/20\n",
            "2700/2700 [==============================] - 13s 5ms/step - loss: 0.3521 - accuracy: 0.8855 - val_loss: 0.3440 - val_accuracy: 0.8873\n",
            "Epoch 12/20\n",
            "2700/2700 [==============================] - 14s 5ms/step - loss: 0.3517 - accuracy: 0.8847 - val_loss: 0.3322 - val_accuracy: 0.8940\n",
            "Epoch 13/20\n",
            "2700/2700 [==============================] - 13s 5ms/step - loss: 0.3489 - accuracy: 0.8863 - val_loss: 0.3310 - val_accuracy: 0.8956\n",
            "INFO:tensorflow:Assets written to: /content/drive/My Drive/data/JUNK1.cv.2.best/assets\n",
            "Epoch 14/20\n",
            "2700/2700 [==============================] - 14s 5ms/step - loss: 0.3493 - accuracy: 0.8869 - val_loss: 0.3348 - val_accuracy: 0.8933\n",
            "Epoch 15/20\n",
            "2700/2700 [==============================] - 13s 5ms/step - loss: 0.3450 - accuracy: 0.8885 - val_loss: 0.3486 - val_accuracy: 0.8861\n",
            "Epoch 16/20\n",
            "2700/2700 [==============================] - 13s 5ms/step - loss: 0.3475 - accuracy: 0.8874 - val_loss: 0.3314 - val_accuracy: 0.8955\n",
            "Epoch 17/20\n",
            "2700/2700 [==============================] - 13s 5ms/step - loss: 0.3466 - accuracy: 0.8882 - val_loss: 0.3377 - val_accuracy: 0.8921\n",
            "Epoch 18/20\n",
            "2700/2700 [==============================] - 13s 5ms/step - loss: 0.3478 - accuracy: 0.8877 - val_loss: 0.3282 - val_accuracy: 0.8970\n",
            "INFO:tensorflow:Assets written to: /content/drive/My Drive/data/JUNK1.cv.2.best/assets\n",
            "Epoch 19/20\n",
            "2700/2700 [==============================] - 13s 5ms/step - loss: 0.3493 - accuracy: 0.8868 - val_loss: 0.3307 - val_accuracy: 0.8966\n",
            "Epoch 20/20\n",
            "2700/2700 [==============================] - 13s 5ms/step - loss: 0.3443 - accuracy: 0.8890 - val_loss: 0.3300 - val_accuracy: 0.8956\n",
            "Fold 2, 20 epochs, 283 sec\n"
          ],
          "name": "stdout"
        },
        {
          "output_type": "display_data",
          "data": {
            "image/png": "[encoded data removed]",
            "text/plain": [
              "<Figure size 576x360 with 1 Axes>"
            ]
          },
          "metadata": {
            "tags": [],
            "needs_background": "light"
          }
        },
        {
          "output_type": "stream",
          "text": [
            "accuracy: 99.16%\n",
            "COMPILE...\n",
            "...COMPILED\n",
            "FIT\n",
            "Epoch 1/20\n",
            "2700/2700 [==============================] - 14s 5ms/step - loss: 0.6657 - accuracy: 0.5807 - val_loss: 0.5993 - val_accuracy: 0.6819\n",
            "INFO:tensorflow:Assets written to: /content/drive/My Drive/data/JUNK1.cv.3.best/assets\n",
            "Epoch 2/20\n",
            "2700/2700 [==============================] - 13s 5ms/step - loss: 0.6031 - accuracy: 0.6815 - val_loss: 0.5889 - val_accuracy: 0.6917\n",
            "INFO:tensorflow:Assets written to: /content/drive/My Drive/data/JUNK1.cv.3.best/assets\n",
            "Epoch 3/20\n",
            "2700/2700 [==============================] - 13s 5ms/step - loss: 0.5841 - accuracy: 0.7031 - val_loss: 0.7020 - val_accuracy: 0.5833\n",
            "Epoch 4/20\n",
            "2700/2700 [==============================] - 13s 5ms/step - loss: 0.5706 - accuracy: 0.7141 - val_loss: 0.5524 - val_accuracy: 0.7256\n",
            "INFO:tensorflow:Assets written to: /content/drive/My Drive/data/JUNK1.cv.3.best/assets\n",
            "Epoch 5/20\n",
            "2700/2700 [==============================] - 13s 5ms/step - loss: 0.5479 - accuracy: 0.7341 - val_loss: 0.5446 - val_accuracy: 0.7350\n",
            "INFO:tensorflow:Assets written to: /content/drive/My Drive/data/JUNK1.cv.3.best/assets\n",
            "Epoch 6/20\n",
            "2700/2700 [==============================] - 13s 5ms/step - loss: 0.5365 - accuracy: 0.7426 - val_loss: 0.5287 - val_accuracy: 0.7542\n",
            "INFO:tensorflow:Assets written to: /content/drive/My Drive/data/JUNK1.cv.3.best/assets\n",
            "Epoch 7/20\n",
            "2700/2700 [==============================] - 13s 5ms/step - loss: 0.5203 - accuracy: 0.7580 - val_loss: 0.5212 - val_accuracy: 0.7547\n",
            "INFO:tensorflow:Assets written to: /content/drive/My Drive/data/JUNK1.cv.3.best/assets\n",
            "Epoch 8/20\n",
            "2700/2700 [==============================] - 13s 5ms/step - loss: 0.4938 - accuracy: 0.7779 - val_loss: 0.4524 - val_accuracy: 0.8118\n",
            "INFO:tensorflow:Assets written to: /content/drive/My Drive/data/JUNK1.cv.3.best/assets\n",
            "Epoch 9/20\n",
            "2700/2700 [==============================] - 13s 5ms/step - loss: 0.4496 - accuracy: 0.8141 - val_loss: 0.4166 - val_accuracy: 0.8411\n",
            "INFO:tensorflow:Assets written to: /content/drive/My Drive/data/JUNK1.cv.3.best/assets\n",
            "Epoch 10/20\n",
            "2700/2700 [==============================] - 13s 5ms/step - loss: 0.4164 - accuracy: 0.8402 - val_loss: 0.4096 - val_accuracy: 0.8456\n",
            "INFO:tensorflow:Assets written to: /content/drive/My Drive/data/JUNK1.cv.3.best/assets\n",
            "Epoch 11/20\n",
            "2700/2700 [==============================] - 13s 5ms/step - loss: 0.4012 - accuracy: 0.8517 - val_loss: 0.3934 - val_accuracy: 0.8562\n",
            "INFO:tensorflow:Assets written to: /content/drive/My Drive/data/JUNK1.cv.3.best/assets\n",
            "Epoch 12/20\n",
            "2700/2700 [==============================] - 13s 5ms/step - loss: 0.3920 - accuracy: 0.8592 - val_loss: 0.3844 - val_accuracy: 0.8642\n",
            "INFO:tensorflow:Assets written to: /content/drive/My Drive/data/JUNK1.cv.3.best/assets\n",
            "Epoch 13/20\n",
            "2700/2700 [==============================] - 14s 5ms/step - loss: 0.3836 - accuracy: 0.8647 - val_loss: 0.3765 - val_accuracy: 0.8693\n",
            "INFO:tensorflow:Assets written to: /content/drive/My Drive/data/JUNK1.cv.3.best/assets\n",
            "Epoch 14/20\n",
            "2700/2700 [==============================] - 13s 5ms/step - loss: 0.3765 - accuracy: 0.8681 - val_loss: 0.3757 - val_accuracy: 0.8684\n",
            "Epoch 15/20\n",
            "2700/2700 [==============================] - 14s 5ms/step - loss: 0.3685 - accuracy: 0.8739 - val_loss: 0.3629 - val_accuracy: 0.8751\n",
            "INFO:tensorflow:Assets written to: /content/drive/My Drive/data/JUNK1.cv.3.best/assets\n",
            "Epoch 16/20\n",
            "2700/2700 [==============================] - 13s 5ms/step - loss: 0.3656 - accuracy: 0.8757 - val_loss: 0.3564 - val_accuracy: 0.8801\n",
            "INFO:tensorflow:Assets written to: /content/drive/My Drive/data/JUNK1.cv.3.best/assets\n",
            "Epoch 17/20\n",
            "2700/2700 [==============================] - 13s 5ms/step - loss: 0.3613 - accuracy: 0.8788 - val_loss: 0.3499 - val_accuracy: 0.8843\n",
            "INFO:tensorflow:Assets written to: /content/drive/My Drive/data/JUNK1.cv.3.best/assets\n",
            "Epoch 18/20\n",
            "2700/2700 [==============================] - 13s 5ms/step - loss: 0.3542 - accuracy: 0.8818 - val_loss: 0.3475 - val_accuracy: 0.8865\n",
            "INFO:tensorflow:Assets written to: /content/drive/My Drive/data/JUNK1.cv.3.best/assets\n",
            "Epoch 19/20\n",
            "2700/2700 [==============================] - 13s 5ms/step - loss: 0.3513 - accuracy: 0.8841 - val_loss: 0.3485 - val_accuracy: 0.8863\n",
            "Epoch 20/20\n",
            "2700/2700 [==============================] - 13s 5ms/step - loss: 0.3527 - accuracy: 0.8834 - val_loss: 0.3440 - val_accuracy: 0.8885\n",
            "INFO:tensorflow:Assets written to: /content/drive/My Drive/data/JUNK1.cv.3.best/assets\n",
            "Fold 3, 20 epochs, 301 sec\n"
          ],
          "name": "stdout"
        },
        {
          "output_type": "display_data",
          "data": {
            "image/png": "[encoded data removed]",
            "text/plain": [
              "<Figure size 576x360 with 1 Axes>"
            ]
          },
          "metadata": {
            "tags": [],
            "needs_background": "light"
          }
        },
        {
          "output_type": "stream",
          "text": [
            "accuracy: 98.58%\n",
            "COMPILE...\n",
            "...COMPILED\n",
            "FIT\n",
            "Epoch 1/20\n",
            "2700/2700 [==============================] - 14s 5ms/step - loss: 0.6742 - accuracy: 0.5603 - val_loss: 0.5967 - val_accuracy: 0.6879\n",
            "INFO:tensorflow:Assets written to: /content/drive/My Drive/data/JUNK1.cv.4.best/assets\n",
            "Epoch 2/20\n",
            "2700/2700 [==============================] - 14s 5ms/step - loss: 0.6000 - accuracy: 0.6852 - val_loss: 0.5652 - val_accuracy: 0.7188\n",
            "INFO:tensorflow:Assets written to: /content/drive/My Drive/data/JUNK1.cv.4.best/assets\n",
            "Epoch 3/20\n",
            "2700/2700 [==============================] - 14s 5ms/step - loss: 0.5622 - accuracy: 0.7208 - val_loss: 0.4151 - val_accuracy: 0.8460\n",
            "INFO:tensorflow:Assets written to: /content/drive/My Drive/data/JUNK1.cv.4.best/assets\n",
            "Epoch 4/20\n",
            "2700/2700 [==============================] - 14s 5ms/step - loss: 0.4235 - accuracy: 0.8398 - val_loss: 0.3548 - val_accuracy: 0.8858\n",
            "INFO:tensorflow:Assets written to: /content/drive/My Drive/data/JUNK1.cv.4.best/assets\n",
            "Epoch 5/20\n",
            "2700/2700 [==============================] - 14s 5ms/step - loss: 0.3745 - accuracy: 0.8719 - val_loss: 0.3554 - val_accuracy: 0.8821\n",
            "Epoch 6/20\n",
            "2700/2700 [==============================] - 13s 5ms/step - loss: 0.3629 - accuracy: 0.8794 - val_loss: 0.3423 - val_accuracy: 0.8906\n",
            "INFO:tensorflow:Assets written to: /content/drive/My Drive/data/JUNK1.cv.4.best/assets\n",
            "Epoch 7/20\n",
            "2700/2700 [==============================] - 13s 5ms/step - loss: 0.3617 - accuracy: 0.8803 - val_loss: 0.3413 - val_accuracy: 0.8919\n",
            "INFO:tensorflow:Assets written to: /content/drive/My Drive/data/JUNK1.cv.4.best/assets\n",
            "Epoch 8/20\n",
            "2700/2700 [==============================] - 14s 5ms/step - loss: 0.3550 - accuracy: 0.8845 - val_loss: 0.3397 - val_accuracy: 0.8924\n",
            "INFO:tensorflow:Assets written to: /content/drive/My Drive/data/JUNK1.cv.4.best/assets\n",
            "Epoch 9/20\n",
            "2700/2700 [==============================] - 13s 5ms/step - loss: 0.3546 - accuracy: 0.8852 - val_loss: 0.3444 - val_accuracy: 0.8897\n",
            "Epoch 10/20\n",
            "2700/2700 [==============================] - 13s 5ms/step - loss: 0.3514 - accuracy: 0.8867 - val_loss: 0.3401 - val_accuracy: 0.8921\n",
            "Epoch 11/20\n",
            "2700/2700 [==============================] - 14s 5ms/step - loss: 0.3494 - accuracy: 0.8864 - val_loss: 0.3352 - val_accuracy: 0.8938\n",
            "INFO:tensorflow:Assets written to: /content/drive/My Drive/data/JUNK1.cv.4.best/assets\n",
            "Epoch 12/20\n",
            "2700/2700 [==============================] - 13s 5ms/step - loss: 0.3534 - accuracy: 0.8846 - val_loss: 0.3399 - val_accuracy: 0.8913\n",
            "Epoch 13/20\n",
            "2700/2700 [==============================] - 14s 5ms/step - loss: 0.3410 - accuracy: 0.8914 - val_loss: 0.3366 - val_accuracy: 0.8936\n",
            "Epoch 14/20\n",
            "2700/2700 [==============================] - 14s 5ms/step - loss: 0.3466 - accuracy: 0.8890 - val_loss: 0.3361 - val_accuracy: 0.8938\n",
            "Epoch 15/20\n",
            "2700/2700 [==============================] - 14s 5ms/step - loss: 0.3471 - accuracy: 0.8878 - val_loss: 0.3406 - val_accuracy: 0.8915\n",
            "Epoch 16/20\n",
            "2700/2700 [==============================] - 13s 5ms/step - loss: 0.3420 - accuracy: 0.8917 - val_loss: 0.3386 - val_accuracy: 0.8927\n",
            "Epoch 17/20\n",
            "2700/2700 [==============================] - 13s 5ms/step - loss: 0.3480 - accuracy: 0.8884 - val_loss: 0.3414 - val_accuracy: 0.8910\n",
            "Epoch 18/20\n",
            "2700/2700 [==============================] - 13s 5ms/step - loss: 0.3442 - accuracy: 0.8907 - val_loss: 0.3371 - val_accuracy: 0.8933\n",
            "Epoch 19/20\n",
            "2700/2700 [==============================] - 13s 5ms/step - loss: 0.3482 - accuracy: 0.8885 - val_loss: 0.3392 - val_accuracy: 0.8923\n",
            "Epoch 20/20\n",
            "2700/2700 [==============================] - 13s 5ms/step - loss: 0.3416 - accuracy: 0.8910 - val_loss: 0.3413 - val_accuracy: 0.8904\n",
            "Fold 4, 20 epochs, 285 sec\n"
          ],
          "name": "stdout"
        },
        {
          "output_type": "display_data",
          "data": {
            "image/png": "[encoded data removed]",
            "text/plain": [
              "<Figure size 576x360 with 1 Axes>"
            ]
          },
          "metadata": {
            "tags": [],
            "needs_background": "light"
          }
        },
        {
          "output_type": "stream",
          "text": [
            "accuracy: 99.19%\n",
            "COMPILE...\n",
            "...COMPILED\n",
            "FIT\n",
            "Epoch 1/20\n",
            "2700/2700 [==============================] - 15s 5ms/step - loss: 0.6764 - accuracy: 0.5622 - val_loss: 0.6059 - val_accuracy: 0.6789\n",
            "INFO:tensorflow:Assets written to: /content/drive/My Drive/data/JUNK1.cv.5.best/assets\n",
            "Epoch 2/20\n",
            "2700/2700 [==============================] - 14s 5ms/step - loss: 0.6156 - accuracy: 0.6671 - val_loss: 0.5781 - val_accuracy: 0.7057\n",
            "INFO:tensorflow:Assets written to: /content/drive/My Drive/data/JUNK1.cv.5.best/assets\n",
            "Epoch 3/20\n",
            "2700/2700 [==============================] - 13s 5ms/step - loss: 0.5797 - accuracy: 0.7047 - val_loss: 0.5664 - val_accuracy: 0.7159\n",
            "INFO:tensorflow:Assets written to: /content/drive/My Drive/data/JUNK1.cv.5.best/assets\n",
            "Epoch 4/20\n",
            "2700/2700 [==============================] - 14s 5ms/step - loss: 0.5671 - accuracy: 0.7158 - val_loss: 0.5890 - val_accuracy: 0.6991\n",
            "Epoch 5/20\n",
            "2700/2700 [==============================] - 13s 5ms/step - loss: 0.5616 - accuracy: 0.7205 - val_loss: 0.5643 - val_accuracy: 0.7154\n",
            "Epoch 6/20\n",
            "2700/2700 [==============================] - 14s 5ms/step - loss: 0.5541 - accuracy: 0.7261 - val_loss: 0.5412 - val_accuracy: 0.7394\n",
            "INFO:tensorflow:Assets written to: /content/drive/My Drive/data/JUNK1.cv.5.best/assets\n",
            "Epoch 7/20\n",
            "2700/2700 [==============================] - 13s 5ms/step - loss: 0.5447 - accuracy: 0.7382 - val_loss: 0.5335 - val_accuracy: 0.7476\n",
            "INFO:tensorflow:Assets written to: /content/drive/My Drive/data/JUNK1.cv.5.best/assets\n",
            "Epoch 8/20\n",
            "2700/2700 [==============================] - 13s 5ms/step - loss: 0.5343 - accuracy: 0.7431 - val_loss: 0.5238 - val_accuracy: 0.7521\n",
            "INFO:tensorflow:Assets written to: /content/drive/My Drive/data/JUNK1.cv.5.best/assets\n",
            "Epoch 9/20\n",
            "2700/2700 [==============================] - 13s 5ms/step - loss: 0.5050 - accuracy: 0.7708 - val_loss: 0.4533 - val_accuracy: 0.8075\n",
            "INFO:tensorflow:Assets written to: /content/drive/My Drive/data/JUNK1.cv.5.best/assets\n",
            "Epoch 10/20\n",
            "2700/2700 [==============================] - 13s 5ms/step - loss: 0.5176 - accuracy: 0.7330 - val_loss: 0.6933 - val_accuracy: 0.5016\n",
            "Epoch 11/20\n",
            "2700/2700 [==============================] - 13s 5ms/step - loss: 0.6935 - accuracy: 0.5009 - val_loss: 0.6935 - val_accuracy: 0.4984\n",
            "Epoch 12/20\n",
            "2700/2700 [==============================] - 13s 5ms/step - loss: 0.6934 - accuracy: 0.5006 - val_loss: 0.6932 - val_accuracy: 0.5016\n",
            "Epoch 13/20\n",
            "2700/2700 [==============================] - 13s 5ms/step - loss: 0.6934 - accuracy: 0.4989 - val_loss: 0.6934 - val_accuracy: 0.5016\n",
            "Epoch 14/20\n",
            "2700/2700 [==============================] - 14s 5ms/step - loss: 0.6934 - accuracy: 0.5040 - val_loss: 0.6931 - val_accuracy: 0.5016\n",
            "Epoch 15/20\n",
            "2700/2700 [==============================] - 14s 5ms/step - loss: 0.6935 - accuracy: 0.4979 - val_loss: 0.6931 - val_accuracy: 0.5016\n",
            "Epoch 16/20\n",
            "2700/2700 [==============================] - 14s 5ms/step - loss: 0.6935 - accuracy: 0.4952 - val_loss: 0.6932 - val_accuracy: 0.4984\n",
            "Epoch 17/20\n",
            "2700/2700 [==============================] - 14s 5ms/step - loss: 0.6934 - accuracy: 0.5026 - val_loss: 0.6931 - val_accuracy: 0.5016\n",
            "Epoch 18/20\n",
            "2700/2700 [==============================] - 14s 5ms/step - loss: 0.6934 - accuracy: 0.4991 - val_loss: 0.6932 - val_accuracy: 0.4984\n",
            "Epoch 19/20\n",
            "2700/2700 [==============================] - 14s 5ms/step - loss: 0.6934 - accuracy: 0.4970 - val_loss: 0.6935 - val_accuracy: 0.4984\n",
            "Epoch 20/20\n",
            "2700/2700 [==============================] - 13s 5ms/step - loss: 0.6935 - accuracy: 0.4969 - val_loss: 0.6932 - val_accuracy: 0.4984\n",
            "Fold 5, 20 epochs, 286 sec\n"
          ],
          "name": "stdout"
        },
        {
          "output_type": "display_data",
          "data": {
            "image/png": "[encoded data removed]",
            "text/plain": [
              "<Figure size 576x360 with 1 Axes>"
            ]
          },
          "metadata": {
            "tags": [],
            "needs_background": "light"
          }
        },
        {
          "output_type": "stream",
          "text": [
            "accuracy: 88.08%\n",
            "\n",
            "5-way Cross Validation mean 87.00% (+/- 18.98%)\n",
            "Done\n"
          ],
          "name": "stdout"
        }
      ]
    },
    {
      "cell_type": "code",
      "metadata": {
        "id": "p4fh2GI8beMQ"
      },
      "source": [
        ""
      ],
      "execution_count": 10,
      "outputs": []
    }
  ]
}