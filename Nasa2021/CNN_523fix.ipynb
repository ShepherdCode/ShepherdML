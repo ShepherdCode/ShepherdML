{
 "cells": [
  {
   "cell_type": "markdown",
   "metadata": {
    "colab_type": "text",
    "id": "view-in-github"
   },
   "source": [
    "<a href=\"https://colab.research.google.com/github/ShepherdCode/ShepherdML/blob/master/Nasa2021/CNN_523.ipynb\" target=\"_parent\"><img src=\"https://colab.research.google.com/assets/colab-badge.svg\" alt=\"Open In Colab\"/></a>"
   ]
  },
  {
   "cell_type": "markdown",
   "metadata": {
    "id": "ojm_6E9f9Kcf"
   },
   "source": [
    "# CNN 523\n",
    "\n",
    "1. Four layers of CNNS and MaxPooling\n",
    "2. Drop out at 0.2\n",
    "3. Variable filters and dense neurons\n",
    "\n",
    "\n",
    "\n",
    "\n",
    "\n",
    "\n",
    "\n",
    "\n",
    "\n",
    "\n",
    "\n",
    "\n"
   ]
  },
  {
   "cell_type": "code",
   "execution_count": 1,
   "metadata": {
    "colab": {
     "base_uri": "https://localhost:8080/"
    },
    "id": "hh6XplUvC0j0",
    "outputId": "617b24a8-94c1-4a59-f0f3-8ae7d8844614"
   },
   "outputs": [],
   "source": [
    "#NC_FILENAME='ncRNA.tiny50.fasta'\n",
    "#PC_FILENAME='pcRNA.tiny50.fasta'\n",
    "#NC_FILENAME='ncRNA.gc34.processed.fasta'\n",
    "#PC_FILENAME='pcRNA.gc34.processed.fasta'\n",
    "NC_FILENAME='noncod_300K.fasta'\n",
    "PC_FILENAME='coding_300K.fasta'\n",
    "\n",
    "MODEL_FILE='CNN523' \n",
    "DATAPATH=''\n",
    "\n",
    "try:\n",
    "    from google.colab import drive\n",
    "    IN_COLAB = True\n",
    "    PATH='/content/drive/'\n",
    "    drive.mount(PATH)\n",
    "    DATAPATH=PATH+'My Drive/data/'  # must end in \"/\"\n",
    "except:\n",
    "    IN_COLAB = False\n",
    "    DATAPATH='data/'  # must end in \"/\"\n",
    "NC_FILENAME = DATAPATH+NC_FILENAME\n",
    "PC_FILENAME = DATAPATH+PC_FILENAME\n",
    "MODEL_FILE=DATAPATH+MODEL_FILE\n",
    "\n",
    "EPOCHS=5\n",
    "SPLITS=1\n",
    "K=1\n",
    "VOCABULARY_SIZE=4**K+1   # e.g. K=3 => 64 DNA K-mers + 'NNN'\n",
    "EMBED_DIMEN=2\n",
    "FILTERS=32\n",
    "KERNEL=3\n",
    "NEURONS=24\n",
    "DROP=0.2\n",
    "MINLEN=200\n",
    "MAXLEN=1000\n",
    "DENSE_LEN = 1000\n",
    "ACT=\"tanh\""
   ]
  },
  {
   "cell_type": "code",
   "execution_count": 2,
   "metadata": {
    "colab": {
     "base_uri": "https://localhost:8080/"
    },
    "id": "e9TY3HK9ZklE",
    "outputId": "4242eeb8-463b-4b7c-ac3b-aaf1925da047"
   },
   "outputs": [
    {
     "name": "stdout",
     "output_type": "stream",
     "text": [
      "Yahoo!\n"
     ]
    }
   ],
   "source": [
    "# Load our own tools\n",
    "# TO DO: don't go to GitHub if the file is already local.\n",
    "GITHUB = True\n",
    "if GITHUB:\n",
    "    #!pip install requests  # Uncomment this if necessary. Seems to be pre-installed.\n",
    "    import requests\n",
    "    r = requests.get('https://raw.githubusercontent.com/ShepherdCode/ShepherdML/master/Strings/tools_fasta.py')\n",
    "    with open('tools_fasta.py', 'w') as f:\n",
    "        f.write(r.text)\n",
    "    # TO DO: delete the file after import\n",
    "import tools_fasta as tools\n",
    "tools.yahoo()  # If this prints \"Yahoo!\" the the import was successful.\n",
    "\n",
    "TOOLS_CHANGED = False   # set to True to re-run with a new version of tools\n",
    "if TOOLS_CHANGED:\n",
    "  from importlib import reload \n",
    "  tools=reload(tools)\n",
    "  print(dir(tools))   # run this to see EVERYTHING in the tools module"
   ]
  },
  {
   "cell_type": "code",
   "execution_count": 3,
   "metadata": {
    "id": "VQY7aTj29Kch"
   },
   "outputs": [],
   "source": [
    "import numpy as np\n",
    "import pandas as pd\n",
    "import matplotlib.pyplot as plt\n",
    "from sklearn.model_selection import ShuffleSplit\n",
    "from sklearn.model_selection import cross_val_score\n",
    "from sklearn.model_selection import RepeatedKFold\n",
    "from sklearn.model_selection import StratifiedKFold\n",
    "from sklearn.preprocessing import OneHotEncoder\n",
    "import tensorflow as tf\n",
    "from tensorflow import keras\n",
    "import time\n",
    "dt='float32'\n",
    "tf.keras.backend.set_floatx(dt)"
   ]
  },
  {
   "cell_type": "markdown",
   "metadata": {
    "id": "j7jcg6Wl9Kc2"
   },
   "source": [
    "Build model"
   ]
  },
  {
   "cell_type": "code",
   "execution_count": 4,
   "metadata": {
    "id": "qLFNO1Xa9Kc3"
   },
   "outputs": [],
   "source": [
    "def compile_model(model):\n",
    "    ## learn rate = initial_learning_rate * decay_rate ^ (step / decay_steps)\n",
    "    #adam_default_learn_rate = 0.001\n",
    "    #schedule = tf.keras.optimizers.schedules.ExponentialDecay(\n",
    "    #    initial_learning_rate = adam_default_learn_rate*10,\n",
    "    #    decay_steps=10000, decay_rate=0.99, staircase=True)\n",
    "    #alrd = tf.keras.optimizers.Adam(learning_rate=schedule)\n",
    "    #model.compile(loss=bc, optimizer=alrd, metrics=[\"accuracy\"])\n",
    "\n",
    "    print(\"COMPILE...\")\n",
    "    bc=tf.keras.losses.BinaryCrossentropy(from_logits=False)\n",
    "    model.compile(loss=bc, optimizer=\"adam\", metrics=[\"accuracy\"])\n",
    "    print(\"...COMPILED\")\n",
    "    return model\n",
    "\n",
    "def build_model():\n",
    "    SHAPE=(MAXLEN,5)  # 2000 time steps, 5 features\n",
    "    SHAPE=(MAXLEN,4)  # 2000 time steps, 4 features\n",
    "    clayer1 = keras.layers.Conv1D(FILTERS,KERNEL,activation=ACT,padding=\"same\",\n",
    "                                 input_shape=SHAPE)\n",
    "    clayer2 = keras.layers.Conv1D(FILTERS,KERNEL,activation=ACT,padding=\"same\")\n",
    "    clayer3 = keras.layers.MaxPooling1D(2)\n",
    "    clayer4 = keras.layers.Conv1D(FILTERS,KERNEL,activation=ACT,padding=\"same\")\n",
    "    clayer5 = keras.layers.Conv1D(FILTERS,KERNEL,activation=ACT,padding=\"same\")\n",
    "    clayer6 = keras.layers.MaxPooling1D(2)\n",
    "    clayer7 = keras.layers.Conv1D(FILTERS,KERNEL,activation=ACT,padding=\"same\")\n",
    "    clayer8 = keras.layers.Conv1D(FILTERS,KERNEL,activation=ACT,padding=\"same\")\n",
    "    clayer9 = keras.layers.MaxPooling1D(2)\n",
    "    clayer10 = keras.layers.Conv1D(FILTERS,KERNEL,activation=ACT,padding=\"same\")\n",
    "    clayer11 = keras.layers.Conv1D(FILTERS,KERNEL,activation=ACT,padding=\"same\")\n",
    "    clayer12 = keras.layers.MaxPooling1D(2)\n",
    "\n",
    "    clayer13 = keras.layers.Flatten()\n",
    "\n",
    "    dlayer1 = keras.layers.Dense(NEURONS, activation=ACT,dtype=dt, input_shape=[DENSE_LEN])\n",
    "    dlayer2 = keras.layers.Dropout(DROP)\n",
    "    dlayer3 = keras.layers.Dense(NEURONS, activation=ACT,dtype=dt)\n",
    "    dlayer4 = keras.layers.Dropout(DROP)\n",
    "    output_layer = keras.layers.Dense(1, activation=\"sigmoid\", dtype=dt)\n",
    "\n",
    "    cnn = keras.models.Sequential()\n",
    "    cnn.add(clayer1)\n",
    "    cnn.add(clayer2)\n",
    "    cnn.add(clayer3)\n",
    "    cnn.add(clayer4)\n",
    "    cnn.add(clayer5)\n",
    "    cnn.add(clayer6)\n",
    "    cnn.add(clayer7)\n",
    "    cnn.add(clayer8)\n",
    "    cnn.add(clayer9)\n",
    "    cnn.add(clayer10)\n",
    "    cnn.add(clayer11)\n",
    "    cnn.add(clayer12)\n",
    "    cnn.add(clayer13)\n",
    "    cnn.add(dlayer1)\n",
    "    cnn.add(dlayer2)\n",
    "    cnn.add(dlayer3)\n",
    "    cnn.add(dlayer4)\n",
    "    cnn.add(output_layer)\n",
    "    mlpc = compile_model(cnn)\n",
    "    return mlpc"
   ]
  },
  {
   "cell_type": "markdown",
   "metadata": {
    "id": "LdIS2utq9Kc9"
   },
   "source": [
    "Cross validation"
   ]
  },
  {
   "cell_type": "code",
   "execution_count": 5,
   "metadata": {
    "id": "BVo4tbB_9Kc-"
   },
   "outputs": [],
   "source": [
    "def do_cross_validation(X,y,given_model):\n",
    "    cv_scores = []\n",
    "    fold=0\n",
    "    splitter = ShuffleSplit(n_splits=SPLITS, test_size=0.1, random_state=37863)\n",
    "    for train_index,valid_index in splitter.split(X):\n",
    "        fold += 1\n",
    "        X_train=X[train_index] # use iloc[] for dataframe\n",
    "        y_train=y[train_index]\n",
    "        X_valid=X[valid_index]\n",
    "        y_valid=y[valid_index]        \n",
    "        # Avoid continually improving the same model.\n",
    "        model = compile_model(keras.models.clone_model(given_model))\n",
    "        bestname=MODEL_FILE+\".cv.\"+str(fold)+\".best\"\n",
    "        mycallbacks = [keras.callbacks.ModelCheckpoint(\n",
    "            filepath=bestname, save_best_only=True, \n",
    "            monitor='val_accuracy', mode='max')]   \n",
    "        print(\"FIT\")\n",
    "        start_time=time.time()\n",
    "        history=model.fit(X_train, y_train, # batch_size=10, default=32 works nicely\n",
    "                epochs=EPOCHS, verbose=1,  # verbose=1 for ascii art, verbose=0 for none\n",
    "                callbacks=mycallbacks,\n",
    "                validation_data=(X_valid,y_valid) )\n",
    "        end_time=time.time()\n",
    "        elapsed_time=(end_time-start_time)                        \n",
    "        print(\"Fold %d, %d epochs, %d sec\"%(fold,EPOCHS,elapsed_time))\n",
    "        pd.DataFrame(history.history).plot(figsize=(8,5))\n",
    "        plt.grid(True)\n",
    "        plt.gca().set_ylim(0,1)\n",
    "        plt.show()\n",
    "        best_model=keras.models.load_model(bestname)\n",
    "        scores = best_model.evaluate(X_valid, y_valid, verbose=0)\n",
    "        print(\"%s: %.2f%%\" % (best_model.metrics_names[1], scores[1]*100))\n",
    "        cv_scores.append(scores[1] * 100)  \n",
    "    print()\n",
    "    print(\"%d-way Cross Validation mean %.2f%% (+/- %.2f%%)\" % (fold, np.mean(cv_scores), np.std(cv_scores)))"
   ]
  },
  {
   "cell_type": "markdown",
   "metadata": {
    "id": "qd3Wj_vI9KdP"
   },
   "source": [
    "## Train on RNA lengths 200-1Kb"
   ]
  },
  {
   "cell_type": "code",
   "execution_count": 6,
   "metadata": {
    "colab": {
     "base_uri": "https://localhost:8080/"
    },
    "id": "G1HuSs8ZbeL4",
    "outputId": "5e2cbf38-ddaa-4ac9-e997-162dd0f9827f"
   },
   "outputs": [
    {
     "name": "stdout",
     "output_type": "stream",
     "text": [
      "Compile the model\n",
      "COMPILE...\n",
      "...COMPILED\n",
      "Summarize the model\n",
      "Model: \"sequential\"\n",
      "_________________________________________________________________\n",
      "Layer (type)                 Output Shape              Param #   \n",
      "=================================================================\n",
      "conv1d (Conv1D)              (None, 1000, 32)          416       \n",
      "_________________________________________________________________\n",
      "conv1d_1 (Conv1D)            (None, 1000, 32)          3104      \n",
      "_________________________________________________________________\n",
      "max_pooling1d (MaxPooling1D) (None, 500, 32)           0         \n",
      "_________________________________________________________________\n",
      "conv1d_2 (Conv1D)            (None, 500, 32)           3104      \n",
      "_________________________________________________________________\n",
      "conv1d_3 (Conv1D)            (None, 500, 32)           3104      \n",
      "_________________________________________________________________\n",
      "max_pooling1d_1 (MaxPooling1 (None, 250, 32)           0         \n",
      "_________________________________________________________________\n",
      "conv1d_4 (Conv1D)            (None, 250, 32)           3104      \n",
      "_________________________________________________________________\n",
      "conv1d_5 (Conv1D)            (None, 250, 32)           3104      \n",
      "_________________________________________________________________\n",
      "max_pooling1d_2 (MaxPooling1 (None, 125, 32)           0         \n",
      "_________________________________________________________________\n",
      "conv1d_6 (Conv1D)            (None, 125, 32)           3104      \n",
      "_________________________________________________________________\n",
      "conv1d_7 (Conv1D)            (None, 125, 32)           3104      \n",
      "_________________________________________________________________\n",
      "max_pooling1d_3 (MaxPooling1 (None, 62, 32)            0         \n",
      "_________________________________________________________________\n",
      "flatten (Flatten)            (None, 1984)              0         \n",
      "_________________________________________________________________\n",
      "dense (Dense)                (None, 24)                47640     \n",
      "_________________________________________________________________\n",
      "dropout (Dropout)            (None, 24)                0         \n",
      "_________________________________________________________________\n",
      "dense_1 (Dense)              (None, 24)                600       \n",
      "_________________________________________________________________\n",
      "dropout_1 (Dropout)          (None, 24)                0         \n",
      "_________________________________________________________________\n",
      "dense_2 (Dense)              (None, 1)                 25        \n",
      "=================================================================\n",
      "Total params: 70,409\n",
      "Trainable params: 70,409\n",
      "Non-trainable params: 0\n",
      "_________________________________________________________________\n",
      "None\n"
     ]
    }
   ],
   "source": [
    "print (\"Compile the model\")\n",
    "model=build_model()\n",
    "print (\"Summarize the model\")\n",
    "print(model.summary())  # Print this only once\n",
    "#model.save(MODEL_FILE+'.model')\n"
   ]
  },
  {
   "cell_type": "code",
   "execution_count": 7,
   "metadata": {
    "colab": {
     "base_uri": "https://localhost:8080/"
    },
    "id": "f8fNo6sn9KdH",
    "outputId": "194155d1-990e-414c-f070-24de611508b5"
   },
   "outputs": [
    {
     "name": "stdout",
     "output_type": "stream",
     "text": [
      "Load data from files.\n",
      "Ready: train_set\n",
      "X4 <class 'list'>\n",
      "X5 <class 'numpy.ndarray'>\n",
      "(600000, 1000)\n",
      "categories: auto\n",
      "X_train <class 'numpy.ndarray'>\n",
      "(600000, 1000, 4)\n",
      "(1000, 4)\n",
      "[[0. 0. 0. 1.]\n",
      " [0. 1. 0. 0.]\n",
      " [1. 0. 0. 0.]\n",
      " ...\n",
      " [0. 1. 0. 0.]\n",
      " [0. 1. 0. 0.]\n",
      " [0. 0. 1. 0.]]\n"
     ]
    }
   ],
   "source": [
    "#MINLEN=200\n",
    "#MAXLEN=2000\n",
    "FREEMEM=True\n",
    "print(\"Load data from files.\")\n",
    "nc_seq=tools.load_fasta(NC_FILENAME,0)\n",
    "pc_seq=tools.load_fasta(PC_FILENAME,1)\n",
    "train_set=pd.concat((nc_seq,pc_seq),axis=0)\n",
    "print(\"Ready: train_set\")\n",
    "subset=tools.make_slice(train_set,MINLEN,MAXLEN)# One array to two: X and y\n",
    "if FREEMEM:\n",
    "    nc_seq=None\n",
    "    pc_seq=None\n",
    "    train_set=None\n",
    "(X1,y_train)=tools.separate_X_and_y(subset)\n",
    "# X1 is pandas df of (\"list\" of one sequence)\n",
    "X2=X1.to_numpy()  # numpy ndarray of (\"list\" of one sequence)\n",
    "X3=[elem[0] for elem in X2]  # numpy ndarray of ACGT-str\n",
    "# X3? It might be faster to use int-array than char-array. Come back to this.\n",
    "X4=X3  # no-op\n",
    "print(\"X4\",type(X4))\n",
    "#print(X4[0])\n",
    "if FREEMEM:\n",
    "    X1=None\n",
    "    X2=None\n",
    "    X3=None\n",
    "# This next step takes 5 min with 300K seqs\n",
    "X5=[]\n",
    "for x in X4:\n",
    "    a=[]\n",
    "    a += x\n",
    "    X5.append(a)\n",
    "X5=np.asarray(X5)\n",
    "#print(a)\n",
    "###X5= np.asarray( a+x for x in X4)\n",
    "###X5= np.asarray([list(x) for x in X4])  # numpy ndarray of char-array\n",
    "print(\"X5\",type(X5))\n",
    "print(X5.shape)\n",
    "if FREEMEM:\n",
    "    X4=None\n",
    "encoder = OneHotEncoder(sparse=False)\n",
    "encoder.fit(X5)\n",
    "print(\"categories:\",encoder.categories)\n",
    "X_train=encoder.transform(X5).reshape(-1,1000,4)\n",
    "if FREEMEM:\n",
    "    X5=None\n",
    "print(\"X_train\",type(X_train))\n",
    "y_train=y_train.to_numpy()\n",
    "print(X_train.shape)\n",
    "print(X_train[0].shape)\n",
    "print(X_train[0])"
   ]
  },
  {
   "cell_type": "code",
   "execution_count": null,
   "metadata": {
    "colab": {
     "base_uri": "https://localhost:8080/",
     "height": 1000
    },
    "id": "mQ8eW5Rg9KdQ",
    "outputId": "02f23034-2969-4912-f8b9-448d41a8ec14"
   },
   "outputs": [
    {
     "name": "stdout",
     "output_type": "stream",
     "text": [
      "Cross validation\n",
      "COMPILE...\n",
      "...COMPILED\n",
      "FIT\n",
      "Epoch 1/5\n",
      "  431/16875 [..............................] - ETA: 26:04 - loss: 0.7128 - accuracy: 0.5150"
     ]
    }
   ],
   "source": [
    "print (\"Cross validation\")\n",
    "do_cross_validation(X_train,y_train,model)  \n",
    "print (\"Done\")"
   ]
  },
  {
   "cell_type": "code",
   "execution_count": null,
   "metadata": {
    "id": "p4fh2GI8beMQ"
   },
   "outputs": [],
   "source": []
  }
 ],
 "metadata": {
  "accelerator": "GPU",
  "colab": {
   "collapsed_sections": [],
   "include_colab_link": true,
   "name": "CNN_523.ipynb",
   "provenance": []
  },
  "kernelspec": {
   "display_name": "Python 3",
   "language": "python",
   "name": "python3"
  },
  "language_info": {
   "codemirror_mode": {
    "name": "ipython",
    "version": 3
   },
   "file_extension": ".py",
   "mimetype": "text/x-python",
   "name": "python",
   "nbconvert_exporter": "python",
   "pygments_lexer": "ipython3",
   "version": "3.8.3"
  }
 },
 "nbformat": 4,
 "nbformat_minor": 1
}
