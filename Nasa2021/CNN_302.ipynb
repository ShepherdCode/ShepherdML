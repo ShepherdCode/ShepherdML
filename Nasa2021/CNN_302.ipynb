{
 "cells": [
  {
   "cell_type": "markdown",
   "metadata": {
    "id": "ojm_6E9f9Kcf"
   },
   "source": [
    "# CNN 301\n",
    "Start with LSTM 302 and modify it to use a Conv1D layer"
   ]
  },
  {
   "cell_type": "code",
   "execution_count": 1,
   "metadata": {
    "colab": {
     "base_uri": "https://localhost:8080/"
    },
    "id": "hh6XplUvC0j0",
    "outputId": "ccf442f0-a4ee-440e-80b0-9cba0821ac51"
   },
   "outputs": [],
   "source": [
    "NC_FILENAME='ncRNA.tiny50.fasta'\n",
    "PC_FILENAME='pcRNA.tiny50.fasta'\n",
    "MODEL_FILE='CNN301'  \n",
    "DATAPATH=''\n",
    "\n",
    "try:\n",
    "    from google.colab import drive\n",
    "    IN_COLAB = True\n",
    "    PATH='/content/drive/'\n",
    "    drive.mount(PATH)\n",
    "    DATAPATH=PATH+'My Drive/data/'  # must end in \"/\"\n",
    "except:\n",
    "    IN_COLAB = False\n",
    "    DATAPATH='data/'  # must end in \"/\"\n",
    "NC_FILENAME = DATAPATH+NC_FILENAME\n",
    "PC_FILENAME = DATAPATH+PC_FILENAME\n",
    "MODEL_FILE=DATAPATH+MODEL_FILE\n",
    "\n",
    "EPOCHS=100\n",
    "SPLITS=1\n",
    "K=1\n",
    "VOCABULARY_SIZE=4**K+1   # e.g. K=3 => 64 DNA K-mers + 'NNN'\n",
    "EMBED_DIMEN=2\n",
    "FILTERS=16\n",
    "KERNEL=3\n",
    "NEURONS=16\n",
    "DROP=0.25\n",
    "ACT=\"tanh\""
   ]
  },
  {
   "cell_type": "code",
   "execution_count": 2,
   "metadata": {
    "colab": {
     "base_uri": "https://localhost:8080/"
    },
    "id": "e9TY3HK9ZklE",
    "outputId": "584b4e5d-c4da-4f1f-ab26-600ecc172bea"
   },
   "outputs": [
    {
     "name": "stdout",
     "output_type": "stream",
     "text": [
      "Yahoo!\n"
     ]
    }
   ],
   "source": [
    "# Load our own tools\n",
    "GITHUB = True\n",
    "if GITHUB:\n",
    "    #!pip install requests  # Uncomment this if necessary. Seems to be pre-installed.\n",
    "    import requests\n",
    "    r = requests.get('https://raw.githubusercontent.com/ShepherdCode/ShepherdML/master/Strings/tools_fasta.py')\n",
    "    with open('tools_fasta.py', 'w') as f:\n",
    "        f.write(r.text)\n",
    "    # TO DO: delete the file after import\n",
    "import tools_fasta as tools\n",
    "tools.yahoo()  # If this prints \"Yahoo!\" the the import was successful.\n",
    "\n",
    "TOOLS_CHANGED = False   # set to True to re-run with a new version of tools\n",
    "if TOOLS_CHANGED:\n",
    "  from importlib import reload \n",
    "  tools=reload(tools)\n",
    "  print(dir(tools))   # run this to see EVERYTHING in the tools module"
   ]
  },
  {
   "cell_type": "code",
   "execution_count": 3,
   "metadata": {
    "id": "VQY7aTj29Kch"
   },
   "outputs": [],
   "source": [
    "import numpy as np\n",
    "import pandas as pd\n",
    "import matplotlib.pyplot as plt\n",
    "from sklearn.model_selection import ShuffleSplit\n",
    "from sklearn.model_selection import cross_val_score\n",
    "from sklearn.model_selection import RepeatedKFold\n",
    "from sklearn.model_selection import StratifiedKFold\n",
    "import tensorflow as tf\n",
    "from tensorflow import keras\n",
    "from keras.models import Sequential\n",
    "from keras.layers import Bidirectional\n",
    "from keras.layers import GRU\n",
    "from keras.layers import Dense\n",
    "from keras.layers import LayerNormalization\n",
    "import time\n",
    "dt='float32'\n",
    "tf.keras.backend.set_floatx(dt)"
   ]
  },
  {
   "cell_type": "markdown",
   "metadata": {
    "id": "j7jcg6Wl9Kc2"
   },
   "source": [
    "Build model"
   ]
  },
  {
   "cell_type": "code",
   "execution_count": 4,
   "metadata": {
    "id": "qLFNO1Xa9Kc3"
   },
   "outputs": [],
   "source": [
    "def compile_model(model):\n",
    "    adam_default_learn_rate = 0.001\n",
    "    schedule = tf.keras.optimizers.schedules.ExponentialDecay(\n",
    "        initial_learning_rate = adam_default_learn_rate*10,\n",
    "        #decay_steps=100000, decay_rate=0.96, staircase=True)\n",
    "        decay_steps=10000, decay_rate=0.99, staircase=True)\n",
    "    # learn rate = initial_learning_rate * decay_rate ^ (step / decay_steps)\n",
    "    alrd = tf.keras.optimizers.Adam(learning_rate=schedule)\n",
    "    bc=tf.keras.losses.BinaryCrossentropy(from_logits=False)\n",
    "    print(\"COMPILE...\")\n",
    "    #model.compile(loss=bc, optimizer=alrd, metrics=[\"accuracy\"])\n",
    "    model.compile(loss=bc, optimizer=\"adam\", metrics=[\"accuracy\"])\n",
    "    print(\"...COMPILED\")\n",
    "    return model\n",
    "\n",
    "def build_model():\n",
    "    embed_layer  = keras.layers.Embedding(\n",
    "        input_dim=VOCABULARY_SIZE, output_dim=EMBED_DIMEN, mask_zero=True)\n",
    "    clayer1 = keras.layers.Conv1D(FILTERS,KERNEL,activation=ACT,padding=\"same\",\n",
    "                                      input_shape=[MAXLEN,EMBED_DIMEN])\n",
    "    clayer2 = keras.layers.Conv1D(FILTERS,KERNEL,activation=ACT,padding=\"same\")\n",
    "    clayer3 = keras.layers.MaxPooling1D(2)\n",
    "    clayer4 = keras.layers.Conv1D(FILTERS,KERNEL,activation=ACT,padding=\"same\")\n",
    "    clayer5 = keras.layers.Conv1D(FILTERS,KERNEL,activation=ACT,padding=\"same\")\n",
    "    clayer6 = keras.layers.MaxPooling1D(2)\n",
    "    clayer7 = keras.layers.Flatten()\n",
    "\n",
    "    dlayer1 = keras.layers.Dense(NEURONS, activation=ACT,dtype=dt, input_shape=[1000])\n",
    "    dlayer2 = keras.layers.Dropout(DROP)\n",
    "    dlayer3 = keras.layers.Dense(NEURONS, activation=ACT,dtype=dt)\n",
    "    dlayer4 = keras.layers.Dropout(DROP)\n",
    "    output_layer = keras.layers.Dense(1, activation=\"sigmoid\", dtype=dt)\n",
    "\n",
    "    cnn = keras.models.Sequential()\n",
    "    #cnn.add(embed_layer)\n",
    "    #cnn.add(clayer1)\n",
    "    #cnn.add(clayer2)\n",
    "    #cnn.add(clayer3)\n",
    "    #cnn.add(clayer4)\n",
    "    #cnn.add(clayer5)\n",
    "    #cnn.add(clayer6)\n",
    "    #cnn.add(clayer7)\n",
    "    cnn.add(dlayer1)\n",
    "    #cnn.add(dlayer2)\n",
    "    cnn.add(dlayer3)\n",
    "    #cnn.add(dlayer4)\n",
    "    cnn.add(output_layer)\n",
    "    mlpc = compile_model(cnn)\n",
    "    return mlpc"
   ]
  },
  {
   "cell_type": "markdown",
   "metadata": {
    "id": "WV6k-xOm9Kcn"
   },
   "source": [
    "Partition sequences"
   ]
  },
  {
   "cell_type": "code",
   "execution_count": 5,
   "metadata": {
    "id": "1I-O_qzw9Kco"
   },
   "outputs": [],
   "source": [
    "def make_slice(data_set,min_len,max_len):\n",
    "    slice = data_set.query('seqlen <= '+str(max_len)+' & seqlen>= '+str(min_len))\n",
    "    return slice"
   ]
  },
  {
   "cell_type": "markdown",
   "metadata": {
    "id": "LdIS2utq9Kc9"
   },
   "source": [
    "Cross validation"
   ]
  },
  {
   "cell_type": "code",
   "execution_count": 6,
   "metadata": {
    "id": "BVo4tbB_9Kc-"
   },
   "outputs": [],
   "source": [
    "def do_cross_validation(X,y,given_model):\n",
    "    cv_scores = []\n",
    "    fold=0\n",
    "    splitter = ShuffleSplit(n_splits=SPLITS, test_size=0.1, random_state=37863)\n",
    "    for train_index,valid_index in splitter.split(X):\n",
    "        fold += 1\n",
    "        X_train=X[train_index] # use iloc[] for dataframe\n",
    "        y_train=y[train_index]\n",
    "        X_valid=X[valid_index]\n",
    "        y_valid=y[valid_index]        \n",
    "        # Avoid continually improving the same model.\n",
    "        model = compile_model(keras.models.clone_model(given_model))\n",
    "        bestname=MODEL_FILE+\".cv.\"+str(fold)+\".best\"\n",
    "        mycallbacks = [keras.callbacks.ModelCheckpoint(\n",
    "            filepath=bestname, save_best_only=True, \n",
    "            monitor='val_accuracy', mode='max')]   \n",
    "        print(\"FIT\")\n",
    "        start_time=time.time()\n",
    "        history=model.fit(X_train, y_train, # batch_size=10, default=32 works nicely\n",
    "                epochs=EPOCHS, verbose=1,  # verbose=1 for ascii art, verbose=0 for none\n",
    "                callbacks=mycallbacks,\n",
    "                validation_data=(X_valid,y_valid) )\n",
    "        end_time=time.time()\n",
    "        elapsed_time=(end_time-start_time)                        \n",
    "        print(\"Fold %d, %d epochs, %d sec\"%(fold,EPOCHS,elapsed_time))\n",
    "        pd.DataFrame(history.history).plot(figsize=(8,5))\n",
    "        plt.grid(True)\n",
    "        plt.gca().set_ylim(0,1)\n",
    "        plt.show()\n",
    "        best_model=keras.models.load_model(bestname)\n",
    "        scores = best_model.evaluate(X_valid, y_valid, verbose=0)\n",
    "        print(\"%s: %.2f%%\" % (best_model.metrics_names[1], scores[1]*100))\n",
    "        cv_scores.append(scores[1] * 100)  \n",
    "    print()\n",
    "    print(\"%d-way Cross Validation mean %.2f%% (+/- %.2f%%)\" % (fold, np.mean(cv_scores), np.std(cv_scores)))"
   ]
  },
  {
   "cell_type": "markdown",
   "metadata": {
    "id": "qd3Wj_vI9KdP"
   },
   "source": [
    "## Train on RNA lengths 200-1Kb"
   ]
  },
  {
   "cell_type": "code",
   "execution_count": 7,
   "metadata": {
    "colab": {
     "base_uri": "https://localhost:8080/"
    },
    "id": "f8fNo6sn9KdH",
    "outputId": "f7652e68-a3e0-4ed4-8a91-884a906a4ada"
   },
   "outputs": [
    {
     "name": "stdout",
     "output_type": "stream",
     "text": [
      "Load data from files.\n",
      "Ready: train_set\n",
      "Data reshape\n",
      "(100, 1000)\n",
      "[4 2 1 4 2 1 3 4 2 2 1 1 1 3 4 2 2 1 3 2 1 3 4 4 3 4 2 2 2 4 2 2 4 3 3 1 1\n",
      " 4 2 2 3 4 4 3 3 2 4 4 3 2 2 4 2 2 3 3 2 1 4 4 4 4 4 3 3 2 2 2 4 4 3 2 2 4\n",
      " 4 4 4 1 3 3 3 4 4 3 2 2 1 3 1 4 4 1 1 1 1 3 1 2 1 3 3 1 4 3 2 2 2 1 3 2 4\n",
      " 1 3 4 4 4 3 1 1 4 4 4 4 1 3 1 4 1 1 1 2 1 1 2 3 1 1 4 1 1 4 4 4 2 3 4 1 3\n",
      " 2 1 4 1 1 1 4 1 4 3 4 2 2 2 1 1 3 2 4 4 1 3 4 4 4 3 3 3 1 2 1 4 1 2 4 4 1\n",
      " 4 3 2 4 1 1 1 1 1 1 2 1 4 4 1 4 4 3 3 4 4 3 4 4 4 1 4 2 4 3 1 3 1 4 4 2 1\n",
      " 3 1 1 4 4 1 1 3 2 1 4 4 4 4 1 4 1 4 4 4 4 1 4 4 4 3 2 4 3 2 2 4 2 4 3 3 2\n",
      " 2 1 2 2 2 4 1 2 4 2 4 2 4 4 2 2 4 1 1 2 1 2 4 2 4 2 4 2 2 2 4 2 4 2 2 2 1\n",
      " 3 4 4 4 4 3 4 2 2 3 2 2 4 4 2 2 2 4 3 2 2 4 2 2 4 2 4 4 2 4 3 3 3 3 3 1 3\n",
      " 4 4 1 3 1 4 2 3 1 3 4 4 3 4 1 1 2 1 1 3 1 1 2 1 4 3 2 2 1 2 4 3 4 2 4 2 3\n",
      " 2 4 3 3 2 4 3 2 1 3 2 3 4 3 4 3 3 4 2 2 2 2 4 4 1 2 2 1 3 1 3 4 3 1 3 3 1\n",
      " 4 3 2 3 1 1 3 1 3 1 1 3 3 4 3 3 2 4 3 4 2 4 3 2 1 1 1 2 2 1 3 3 1 1 3 1 3\n",
      " 1 3 2 2 2 4 2 1 2 2 3 3 3 1 1 2 2 2 3 4 2 2 1 3 2 4 3 2 2 1 2 2 4 4 3 1 1\n",
      " 2 4 4 3 3 1 2 4 4 2 2 1 1 3 2 2 4 2 2 1 3 1 1 2 4 3 4 3 1 3 3 3 1 4 1 1 1\n",
      " 4 3 4 1 4 3 1 4 4 4 4 1 1 1 3 4 0 0 0 0 0 0 0 0 0 0 0 0 0 0 0 0 0 0 0 0 0\n",
      " 0 0 0 0 0 0 0 0 0 0 0 0 0 0 0 0 0 0 0 0 0 0 0 0 0 0 0 0 0 0 0 0 0 0 0 0 0\n",
      " 0 0 0 0 0 0 0 0 0 0 0 0 0 0 0 0 0 0 0 0 0 0 0 0 0 0 0 0 0 0 0 0 0 0 0 0 0\n",
      " 0 0 0 0 0 0 0 0 0 0 0 0 0 0 0 0 0 0 0 0 0 0 0 0 0 0 0 0 0 0 0 0 0 0 0 0 0\n",
      " 0 0 0 0 0 0 0 0 0 0 0 0 0 0 0 0 0 0 0 0 0 0 0 0 0 0 0 0 0 0 0 0 0 0 0 0 0\n",
      " 0 0 0 0 0 0 0 0 0 0 0 0 0 0 0 0 0 0 0 0 0 0 0 0 0 0 0 0 0 0 0 0 0 0 0 0 0\n",
      " 0 0 0 0 0 0 0 0 0 0 0 0 0 0 0 0 0 0 0 0 0 0 0 0 0 0 0 0 0 0 0 0 0 0 0 0 0\n",
      " 0 0 0 0 0 0 0 0 0 0 0 0 0 0 0 0 0 0 0 0 0 0 0 0 0 0 0 0 0 0 0 0 0 0 0 0 0\n",
      " 0 0 0 0 0 0 0 0 0 0 0 0 0 0 0 0 0 0 0 0 0 0 0 0 0 0 0 0 0 0 0 0 0 0 0 0 0\n",
      " 0 0 0 0 0 0 0 0 0 0 0 0 0 0 0 0 0 0 0 0 0 0 0 0 0 0 0 0 0 0 0 0 0 0 0 0 0\n",
      " 0 0 0 0 0 0 0 0 0 0 0 0 0 0 0 0 0 0 0 0 0 0 0 0 0 0 0 0 0 0 0 0 0 0 0 0 0\n",
      " 0 0 0 0 0 0 0 0 0 0 0 0 0 0 0 0 0 0 0 0 0 0 0 0 0 0 0 0 0 0 0 0 0 0 0 0 0\n",
      " 0 0 0 0 0 0 0 0 0 0 0 0 0 0 0 0 0 0 0 0 0 0 0 0 0 0 0 0 0 0 0 0 0 0 0 0 0\n",
      " 0]\n"
     ]
    }
   ],
   "source": [
    "MINLEN=200\n",
    "MAXLEN=1000\n",
    "print(\"Load data from files.\")\n",
    "nc_seq=tools.load_fasta(NC_FILENAME,0)\n",
    "pc_seq=tools.load_fasta(PC_FILENAME,1)\n",
    "train_set=pd.concat((nc_seq,pc_seq),axis=0)\n",
    "nc_seq=None\n",
    "pc_seq=None\n",
    "print(\"Ready: train_set\")\n",
    "#train_set\n",
    "subset=make_slice(train_set,MINLEN,MAXLEN)# One array to two: X and y\n",
    "print (\"Data reshape\")\n",
    "(X_train,y_train)=tools.make_kmers(K,MAXLEN,subset)\n",
    "print(X_train.shape)\n",
    "print(X_train[0])  # nucleotides converted to first 5 digits .. use one hot or embedding"
   ]
  },
  {
   "cell_type": "code",
   "execution_count": 8,
   "metadata": {
    "colab": {
     "base_uri": "https://localhost:8080/"
    },
    "id": "G1HuSs8ZbeL4",
    "outputId": "2c104352-0458-4bb2-e88a-7cddfb10d962"
   },
   "outputs": [
    {
     "name": "stdout",
     "output_type": "stream",
     "text": [
      "Compile the model\n",
      "COMPILE...\n",
      "...COMPILED\n",
      "Summarize the model\n",
      "Model: \"sequential\"\n",
      "_________________________________________________________________\n",
      "Layer (type)                 Output Shape              Param #   \n",
      "=================================================================\n",
      "dense (Dense)                (None, 16)                16016     \n",
      "_________________________________________________________________\n",
      "dense_1 (Dense)              (None, 16)                272       \n",
      "_________________________________________________________________\n",
      "dense_2 (Dense)              (None, 1)                 17        \n",
      "=================================================================\n",
      "Total params: 16,305\n",
      "Trainable params: 16,305\n",
      "Non-trainable params: 0\n",
      "_________________________________________________________________\n",
      "None\n",
      "INFO:tensorflow:Assets written to: data/CNN301.model/assets\n"
     ]
    }
   ],
   "source": [
    "print (\"Compile the model\")\n",
    "model=build_model()\n",
    "print (\"Summarize the model\")\n",
    "print(model.summary())  # Print this only once\n",
    "model.save(MODEL_FILE+'.model')\n"
   ]
  },
  {
   "cell_type": "code",
   "execution_count": 9,
   "metadata": {
    "colab": {
     "base_uri": "https://localhost:8080/",
     "height": 1000
    },
    "id": "mQ8eW5Rg9KdQ",
    "outputId": "dbf1fadc-a15e-46f8-e0d5-d37988351d6a"
   },
   "outputs": [
    {
     "name": "stdout",
     "output_type": "stream",
     "text": [
      "Cross valiation\n",
      "COMPILE...\n",
      "...COMPILED\n",
      "FIT\n",
      "Epoch 1/100\n",
      "3/3 [==============================] - 2s 640ms/step - loss: 0.7274 - accuracy: 0.5082 - val_loss: 0.4893 - val_accuracy: 0.9000\n",
      "INFO:tensorflow:Assets written to: data/CNN301.cv.1.best/assets\n",
      "Epoch 2/100\n",
      "3/3 [==============================] - 0s 36ms/step - loss: 0.5996 - accuracy: 0.6625 - val_loss: 0.4959 - val_accuracy: 0.9000\n",
      "Epoch 3/100\n",
      "3/3 [==============================] - 0s 42ms/step - loss: 0.5732 - accuracy: 0.6993 - val_loss: 0.4517 - val_accuracy: 0.9000\n",
      "Epoch 4/100\n",
      "3/3 [==============================] - 0s 38ms/step - loss: 0.5360 - accuracy: 0.7478 - val_loss: 0.4113 - val_accuracy: 0.9000\n",
      "Epoch 5/100\n",
      "3/3 [==============================] - 0s 35ms/step - loss: 0.5073 - accuracy: 0.7707 - val_loss: 0.3553 - val_accuracy: 0.9000\n",
      "Epoch 6/100\n",
      "3/3 [==============================] - 0s 43ms/step - loss: 0.5168 - accuracy: 0.7550 - val_loss: 0.3423 - val_accuracy: 0.9000\n",
      "Epoch 7/100\n",
      "3/3 [==============================] - 0s 38ms/step - loss: 0.5241 - accuracy: 0.7427 - val_loss: 0.3507 - val_accuracy: 0.9000\n",
      "Epoch 8/100\n",
      "3/3 [==============================] - 0s 39ms/step - loss: 0.4971 - accuracy: 0.7661 - val_loss: 0.3391 - val_accuracy: 0.9000\n",
      "Epoch 9/100\n",
      "3/3 [==============================] - 0s 35ms/step - loss: 0.4715 - accuracy: 0.8124 - val_loss: 0.3314 - val_accuracy: 0.9000\n",
      "Epoch 10/100\n",
      "3/3 [==============================] - 0s 42ms/step - loss: 0.4867 - accuracy: 0.7890 - val_loss: 0.3065 - val_accuracy: 0.9000\n",
      "Epoch 11/100\n",
      "3/3 [==============================] - 0s 33ms/step - loss: 0.4795 - accuracy: 0.7583 - val_loss: 0.2982 - val_accuracy: 0.9000\n",
      "Epoch 12/100\n",
      "3/3 [==============================] - 0s 37ms/step - loss: 0.4292 - accuracy: 0.8241 - val_loss: 0.2919 - val_accuracy: 0.9000\n",
      "Epoch 13/100\n",
      "3/3 [==============================] - 0s 41ms/step - loss: 0.4452 - accuracy: 0.7906 - val_loss: 0.2871 - val_accuracy: 0.9000\n",
      "Epoch 14/100\n",
      "3/3 [==============================] - 0s 37ms/step - loss: 0.4363 - accuracy: 0.8063 - val_loss: 0.2850 - val_accuracy: 0.9000\n",
      "Epoch 15/100\n",
      "3/3 [==============================] - 0s 39ms/step - loss: 0.4411 - accuracy: 0.7867 - val_loss: 0.2785 - val_accuracy: 0.9000\n",
      "Epoch 16/100\n",
      "3/3 [==============================] - 0s 43ms/step - loss: 0.3985 - accuracy: 0.8330 - val_loss: 0.2716 - val_accuracy: 0.9000\n",
      "Epoch 17/100\n",
      "3/3 [==============================] - 0s 41ms/step - loss: 0.3926 - accuracy: 0.8424 - val_loss: 0.2787 - val_accuracy: 0.9000\n",
      "Epoch 18/100\n",
      "3/3 [==============================] - 0s 39ms/step - loss: 0.4125 - accuracy: 0.8363 - val_loss: 0.2689 - val_accuracy: 0.9000\n",
      "Epoch 19/100\n",
      "3/3 [==============================] - 0s 41ms/step - loss: 0.3838 - accuracy: 0.8692 - val_loss: 0.2658 - val_accuracy: 0.9000\n",
      "Epoch 20/100\n",
      "3/3 [==============================] - 0s 37ms/step - loss: 0.4074 - accuracy: 0.8435 - val_loss: 0.2582 - val_accuracy: 0.9000\n",
      "Epoch 21/100\n",
      "3/3 [==============================] - 0s 38ms/step - loss: 0.3742 - accuracy: 0.8591 - val_loss: 0.2698 - val_accuracy: 0.9000\n",
      "Epoch 22/100\n",
      "3/3 [==============================] - 0s 37ms/step - loss: 0.3435 - accuracy: 0.8943 - val_loss: 0.2494 - val_accuracy: 0.9000\n",
      "Epoch 23/100\n",
      "3/3 [==============================] - 0s 42ms/step - loss: 0.3866 - accuracy: 0.8647 - val_loss: 0.2460 - val_accuracy: 0.9000\n",
      "Epoch 24/100\n",
      "3/3 [==============================] - 0s 39ms/step - loss: 0.3358 - accuracy: 0.8937 - val_loss: 0.2419 - val_accuracy: 0.9000\n",
      "Epoch 25/100\n",
      "3/3 [==============================] - 0s 49ms/step - loss: 0.3330 - accuracy: 0.9031 - val_loss: 0.2401 - val_accuracy: 0.9000\n",
      "Epoch 26/100\n",
      "3/3 [==============================] - 0s 50ms/step - loss: 0.3229 - accuracy: 0.9031 - val_loss: 0.2441 - val_accuracy: 0.9000\n",
      "Epoch 27/100\n",
      "3/3 [==============================] - 0s 43ms/step - loss: 0.3228 - accuracy: 0.9031 - val_loss: 0.2289 - val_accuracy: 0.9000\n",
      "Epoch 28/100\n",
      "3/3 [==============================] - 0s 45ms/step - loss: 0.3313 - accuracy: 0.8914 - val_loss: 0.2229 - val_accuracy: 0.9000\n",
      "Epoch 29/100\n",
      "3/3 [==============================] - 0s 44ms/step - loss: 0.3042 - accuracy: 0.9031 - val_loss: 0.2384 - val_accuracy: 0.9000\n",
      "Epoch 30/100\n",
      "3/3 [==============================] - 0s 38ms/step - loss: 0.3290 - accuracy: 0.9048 - val_loss: 0.2193 - val_accuracy: 0.9000\n",
      "Epoch 31/100\n",
      "3/3 [==============================] - 0s 46ms/step - loss: 0.2557 - accuracy: 0.9438 - val_loss: 0.2068 - val_accuracy: 0.9000\n",
      "Epoch 32/100\n",
      "3/3 [==============================] - 0s 37ms/step - loss: 0.2786 - accuracy: 0.9243 - val_loss: 0.2148 - val_accuracy: 0.9000\n",
      "Epoch 33/100\n",
      "3/3 [==============================] - 0s 39ms/step - loss: 0.2745 - accuracy: 0.9204 - val_loss: 0.2243 - val_accuracy: 0.9000\n",
      "Epoch 34/100\n",
      "3/3 [==============================] - 0s 39ms/step - loss: 0.2899 - accuracy: 0.9142 - val_loss: 0.2246 - val_accuracy: 0.9000\n",
      "Epoch 35/100\n",
      "3/3 [==============================] - 0s 39ms/step - loss: 0.2900 - accuracy: 0.9181 - val_loss: 0.2079 - val_accuracy: 0.9000\n",
      "Epoch 36/100\n",
      "3/3 [==============================] - 0s 33ms/step - loss: 0.3125 - accuracy: 0.9064 - val_loss: 0.2136 - val_accuracy: 0.9000\n",
      "Epoch 37/100\n",
      "3/3 [==============================] - 0s 34ms/step - loss: 0.2697 - accuracy: 0.9181 - val_loss: 0.2175 - val_accuracy: 0.9000\n",
      "Epoch 38/100\n",
      "3/3 [==============================] - 0s 35ms/step - loss: 0.2585 - accuracy: 0.9260 - val_loss: 0.2173 - val_accuracy: 0.9000\n",
      "Epoch 39/100\n",
      "3/3 [==============================] - 0s 37ms/step - loss: 0.2579 - accuracy: 0.9299 - val_loss: 0.2049 - val_accuracy: 0.9000\n",
      "Epoch 40/100\n",
      "3/3 [==============================] - 0s 42ms/step - loss: 0.2654 - accuracy: 0.9220 - val_loss: 0.2105 - val_accuracy: 0.9000\n",
      "Epoch 41/100\n",
      "3/3 [==============================] - 0s 50ms/step - loss: 0.2618 - accuracy: 0.9181 - val_loss: 0.2051 - val_accuracy: 0.9000\n",
      "Epoch 42/100\n",
      "3/3 [==============================] - 0s 32ms/step - loss: 0.2738 - accuracy: 0.9103 - val_loss: 0.2064 - val_accuracy: 0.9000\n",
      "Epoch 43/100\n",
      "3/3 [==============================] - 0s 34ms/step - loss: 0.2341 - accuracy: 0.9260 - val_loss: 0.2222 - val_accuracy: 0.9000\n",
      "Epoch 44/100\n",
      "3/3 [==============================] - 0s 35ms/step - loss: 0.2296 - accuracy: 0.9142 - val_loss: 0.2236 - val_accuracy: 0.9000\n",
      "Epoch 45/100\n",
      "3/3 [==============================] - 0s 34ms/step - loss: 0.1936 - accuracy: 0.9299 - val_loss: 0.2225 - val_accuracy: 0.9000\n",
      "Epoch 46/100\n",
      "3/3 [==============================] - 0s 35ms/step - loss: 0.2329 - accuracy: 0.8986 - val_loss: 0.2084 - val_accuracy: 0.9000\n",
      "Epoch 47/100\n",
      "3/3 [==============================] - 0s 34ms/step - loss: 0.1975 - accuracy: 0.9260 - val_loss: 0.1991 - val_accuracy: 0.9000\n",
      "Epoch 48/100\n",
      "3/3 [==============================] - 0s 36ms/step - loss: 0.2223 - accuracy: 0.9064 - val_loss: 0.1918 - val_accuracy: 0.9000\n",
      "Epoch 49/100\n",
      "3/3 [==============================] - 0s 36ms/step - loss: 0.2222 - accuracy: 0.9025 - val_loss: 0.1806 - val_accuracy: 0.9000\n",
      "Epoch 50/100\n",
      "3/3 [==============================] - 0s 32ms/step - loss: 0.1916 - accuracy: 0.9142 - val_loss: 0.1822 - val_accuracy: 0.9000\n",
      "Epoch 51/100\n",
      "3/3 [==============================] - 0s 35ms/step - loss: 0.1779 - accuracy: 0.9220 - val_loss: 0.1823 - val_accuracy: 0.9000\n",
      "Epoch 52/100\n",
      "3/3 [==============================] - 0s 31ms/step - loss: 0.1530 - accuracy: 0.9338 - val_loss: 0.1743 - val_accuracy: 0.9000\n",
      "Epoch 53/100\n",
      "3/3 [==============================] - 0s 35ms/step - loss: 0.1457 - accuracy: 0.9377 - val_loss: 0.1811 - val_accuracy: 0.9000\n",
      "Epoch 54/100\n",
      "3/3 [==============================] - 0s 40ms/step - loss: 0.1580 - accuracy: 0.9299 - val_loss: 0.1936 - val_accuracy: 0.9000\n",
      "Epoch 55/100\n",
      "3/3 [==============================] - 0s 45ms/step - loss: 0.1899 - accuracy: 0.8986 - val_loss: 0.1909 - val_accuracy: 0.9000\n",
      "Epoch 56/100\n",
      "3/3 [==============================] - 0s 38ms/step - loss: 0.1699 - accuracy: 0.9064 - val_loss: 0.1910 - val_accuracy: 0.9000\n",
      "Epoch 57/100\n",
      "3/3 [==============================] - 0s 36ms/step - loss: 0.1656 - accuracy: 0.9142 - val_loss: 0.2142 - val_accuracy: 0.9000\n",
      "Epoch 58/100\n"
     ]
    },
    {
     "name": "stdout",
     "output_type": "stream",
     "text": [
      "3/3 [==============================] - 0s 41ms/step - loss: 0.1396 - accuracy: 0.9142 - val_loss: 0.2248 - val_accuracy: 0.9000\n",
      "Epoch 59/100\n",
      "3/3 [==============================] - 0s 35ms/step - loss: 0.1444 - accuracy: 0.9064 - val_loss: 0.2369 - val_accuracy: 0.9000\n",
      "Epoch 60/100\n",
      "3/3 [==============================] - 0s 42ms/step - loss: 0.1247 - accuracy: 0.9237 - val_loss: 0.2405 - val_accuracy: 0.9000\n",
      "Epoch 61/100\n",
      "3/3 [==============================] - 0s 51ms/step - loss: 0.1169 - accuracy: 0.9543 - val_loss: 0.2468 - val_accuracy: 0.9000\n",
      "Epoch 62/100\n",
      "3/3 [==============================] - 0s 39ms/step - loss: 0.1183 - accuracy: 0.9543 - val_loss: 0.2578 - val_accuracy: 0.9000\n",
      "Epoch 63/100\n",
      "3/3 [==============================] - 0s 33ms/step - loss: 0.1081 - accuracy: 0.9504 - val_loss: 0.2788 - val_accuracy: 0.9000\n",
      "Epoch 64/100\n",
      "3/3 [==============================] - 0s 29ms/step - loss: 0.0936 - accuracy: 0.9716 - val_loss: 0.2505 - val_accuracy: 0.9000\n",
      "Epoch 65/100\n",
      "3/3 [==============================] - 0s 32ms/step - loss: 0.0949 - accuracy: 1.0000 - val_loss: 0.2220 - val_accuracy: 0.9000\n",
      "Epoch 66/100\n",
      "3/3 [==============================] - 0s 33ms/step - loss: 0.0870 - accuracy: 1.0000 - val_loss: 0.2712 - val_accuracy: 0.9000\n",
      "Epoch 67/100\n",
      "3/3 [==============================] - 0s 33ms/step - loss: 0.0900 - accuracy: 0.9905 - val_loss: 0.2152 - val_accuracy: 0.9000\n",
      "Epoch 68/100\n",
      "3/3 [==============================] - 0s 32ms/step - loss: 0.0923 - accuracy: 1.0000 - val_loss: 0.2169 - val_accuracy: 0.9000\n",
      "Epoch 69/100\n",
      "3/3 [==============================] - 0s 31ms/step - loss: 0.0793 - accuracy: 1.0000 - val_loss: 0.3326 - val_accuracy: 0.9000\n",
      "Epoch 70/100\n",
      "3/3 [==============================] - 0s 32ms/step - loss: 0.0709 - accuracy: 1.0000 - val_loss: 0.3324 - val_accuracy: 0.9000\n",
      "Epoch 71/100\n",
      "3/3 [==============================] - 0s 59ms/step - loss: 0.0661 - accuracy: 1.0000 - val_loss: 0.1634 - val_accuracy: 0.9000\n",
      "Epoch 72/100\n",
      "3/3 [==============================] - 0s 31ms/step - loss: 0.0585 - accuracy: 1.0000 - val_loss: 0.1432 - val_accuracy: 0.9000\n",
      "Epoch 73/100\n",
      "3/3 [==============================] - 0s 33ms/step - loss: 0.0560 - accuracy: 1.0000 - val_loss: 0.2063 - val_accuracy: 0.9000\n",
      "Epoch 74/100\n",
      "3/3 [==============================] - 0s 33ms/step - loss: 0.0538 - accuracy: 1.0000 - val_loss: 0.2992 - val_accuracy: 0.9000\n",
      "Epoch 75/100\n",
      "3/3 [==============================] - 0s 32ms/step - loss: 0.0480 - accuracy: 1.0000 - val_loss: 0.2989 - val_accuracy: 0.9000\n",
      "Epoch 76/100\n",
      "3/3 [==============================] - 0s 32ms/step - loss: 0.0539 - accuracy: 1.0000 - val_loss: 0.2324 - val_accuracy: 0.9000\n",
      "Epoch 77/100\n",
      "3/3 [==============================] - 0s 32ms/step - loss: 0.0435 - accuracy: 1.0000 - val_loss: 0.1814 - val_accuracy: 0.9000\n",
      "Epoch 78/100\n",
      "3/3 [==============================] - 0s 29ms/step - loss: 0.0482 - accuracy: 1.0000 - val_loss: 0.2053 - val_accuracy: 0.9000\n",
      "Epoch 79/100\n",
      "3/3 [==============================] - 0s 32ms/step - loss: 0.0379 - accuracy: 1.0000 - val_loss: 0.2450 - val_accuracy: 0.9000\n",
      "Epoch 80/100\n",
      "3/3 [==============================] - 0s 31ms/step - loss: 0.0475 - accuracy: 1.0000 - val_loss: 0.2853 - val_accuracy: 0.9000\n",
      "Epoch 81/100\n",
      "3/3 [==============================] - 0s 42ms/step - loss: 0.0368 - accuracy: 1.0000 - val_loss: 0.3047 - val_accuracy: 0.9000\n",
      "Epoch 82/100\n",
      "3/3 [==============================] - 0s 48ms/step - loss: 0.0426 - accuracy: 1.0000 - val_loss: 0.2901 - val_accuracy: 0.9000\n",
      "Epoch 83/100\n",
      "3/3 [==============================] - 0s 49ms/step - loss: 0.0375 - accuracy: 1.0000 - val_loss: 0.2633 - val_accuracy: 0.9000\n",
      "Epoch 84/100\n",
      "3/3 [==============================] - 0s 47ms/step - loss: 0.0336 - accuracy: 1.0000 - val_loss: 0.2655 - val_accuracy: 0.9000\n",
      "Epoch 85/100\n",
      "3/3 [==============================] - 0s 47ms/step - loss: 0.0346 - accuracy: 1.0000 - val_loss: 0.2706 - val_accuracy: 0.9000\n",
      "Epoch 86/100\n",
      "3/3 [==============================] - 0s 38ms/step - loss: 0.0262 - accuracy: 1.0000 - val_loss: 0.2558 - val_accuracy: 0.9000\n",
      "Epoch 87/100\n",
      "3/3 [==============================] - 0s 38ms/step - loss: 0.0277 - accuracy: 1.0000 - val_loss: 0.2413 - val_accuracy: 0.9000\n",
      "Epoch 88/100\n",
      "3/3 [==============================] - 0s 38ms/step - loss: 0.0284 - accuracy: 1.0000 - val_loss: 0.2494 - val_accuracy: 0.9000\n",
      "Epoch 89/100\n",
      "3/3 [==============================] - 0s 69ms/step - loss: 0.0260 - accuracy: 1.0000 - val_loss: 0.2603 - val_accuracy: 0.9000\n",
      "Epoch 90/100\n",
      "3/3 [==============================] - 0s 50ms/step - loss: 0.0271 - accuracy: 1.0000 - val_loss: 0.2749 - val_accuracy: 0.9000\n",
      "Epoch 91/100\n",
      "3/3 [==============================] - 0s 33ms/step - loss: 0.0234 - accuracy: 1.0000 - val_loss: 0.2656 - val_accuracy: 0.9000\n",
      "Epoch 92/100\n",
      "3/3 [==============================] - 0s 34ms/step - loss: 0.0237 - accuracy: 1.0000 - val_loss: 0.2534 - val_accuracy: 0.9000\n",
      "Epoch 93/100\n",
      "3/3 [==============================] - 0s 31ms/step - loss: 0.0247 - accuracy: 1.0000 - val_loss: 0.2374 - val_accuracy: 0.9000\n",
      "Epoch 94/100\n",
      "3/3 [==============================] - 0s 32ms/step - loss: 0.0235 - accuracy: 1.0000 - val_loss: 0.2284 - val_accuracy: 0.9000\n",
      "Epoch 95/100\n",
      "3/3 [==============================] - 0s 41ms/step - loss: 0.0231 - accuracy: 1.0000 - val_loss: 0.2481 - val_accuracy: 0.9000\n",
      "Epoch 96/100\n",
      "3/3 [==============================] - 0s 33ms/step - loss: 0.0206 - accuracy: 1.0000 - val_loss: 0.2570 - val_accuracy: 0.9000\n",
      "Epoch 97/100\n",
      "3/3 [==============================] - 0s 34ms/step - loss: 0.0206 - accuracy: 1.0000 - val_loss: 0.2591 - val_accuracy: 0.9000\n",
      "Epoch 98/100\n",
      "3/3 [==============================] - 0s 32ms/step - loss: 0.0208 - accuracy: 1.0000 - val_loss: 0.2642 - val_accuracy: 0.9000\n",
      "Epoch 99/100\n",
      "3/3 [==============================] - 0s 31ms/step - loss: 0.0198 - accuracy: 1.0000 - val_loss: 0.2630 - val_accuracy: 0.9000\n",
      "Epoch 100/100\n",
      "3/3 [==============================] - 0s 33ms/step - loss: 0.0185 - accuracy: 1.0000 - val_loss: 0.2614 - val_accuracy: 0.9000\n",
      "Fold 1, 100 epochs, 11 sec\n"
     ]
    },
    {
     "data": {
      "image/png": "[encoded data removed]",
      "text/plain": [
       "<Figure size 576x360 with 1 Axes>"
      ]
     },
     "metadata": {
      "needs_background": "light"
     },
     "output_type": "display_data"
    },
    {
     "name": "stdout",
     "output_type": "stream",
     "text": [
      "accuracy: 90.00%\n",
      "\n",
      "1-way Cross Validation mean 90.00% (+/- 0.00%)\n",
      "Done\n"
     ]
    }
   ],
   "source": [
    "print (\"Cross valiation\")\n",
    "do_cross_validation(X_train,y_train,model)  \n",
    "print (\"Done\")"
   ]
  },
  {
   "cell_type": "code",
   "execution_count": null,
   "metadata": {
    "id": "p4fh2GI8beMQ"
   },
   "outputs": [],
   "source": []
  }
 ],
 "metadata": {
  "accelerator": "GPU",
  "colab": {
   "collapsed_sections": [],
   "name": "LSTM_302.ipynb",
   "provenance": []
  },
  "kernelspec": {
   "display_name": "Python 3",
   "language": "python",
   "name": "python3"
  },
  "language_info": {
   "codemirror_mode": {
    "name": "ipython",
    "version": 3
   },
   "file_extension": ".py",
   "mimetype": "text/x-python",
   "name": "python",
   "nbconvert_exporter": "python",
   "pygments_lexer": "ipython3",
   "version": "3.8.3"
  }
 },
 "nbformat": 4,
 "nbformat_minor": 1
}
