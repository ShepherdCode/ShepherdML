{
  "nbformat": 4,
  "nbformat_minor": 0,
  "metadata": {
    "accelerator": "GPU",
    "colab": {
      "name": "CNN_523embed_12k_learning.ipynb",
      "provenance": [],
      "collapsed_sections": [],
      "machine_shape": "hm",
      "include_colab_link": true
    },
    "kernelspec": {
      "display_name": "Python 3",
      "language": "python",
      "name": "python3"
    },
    "language_info": {
      "codemirror_mode": {
        "name": "ipython",
        "version": 3
      },
      "file_extension": ".py",
      "mimetype": "text/x-python",
      "name": "python",
      "nbconvert_exporter": "python",
      "pygments_lexer": "ipython3",
      "version": "3.8.3"
    }
  },
  "cells": [
    {
      "cell_type": "markdown",
      "metadata": {
        "id": "view-in-github",
        "colab_type": "text"
      },
      "source": [
        "<a href=\"https://colab.research.google.com/github/ShepherdCode/ShepherdML/blob/master/Nasa2021/CNN_523embed_12k_learning.ipynb\" target=\"_parent\"><img src=\"https://colab.research.google.com/assets/colab-badge.svg\" alt=\"Open In Colab\"/></a>"
      ]
    },
    {
      "cell_type": "markdown",
      "metadata": {
        "id": "ojm_6E9f9Kcf"
      },
      "source": [
        "# CNN 523 12k\n",
        "\n",
        "1. Four layers of CNNS and MaxPooling\n",
        "2. Drop out at 0.2\n",
        "3. Variable filters and dense neurons\n",
        "4. Adjusted Learning rate to 0.0005\n",
        "\n",
        "\n",
        "\n",
        "\n",
        "\n",
        "\n",
        "\n",
        "\n",
        "\n",
        "\n",
        "\n",
        "\n"
      ]
    },
    {
      "cell_type": "code",
      "metadata": {
        "colab": {
          "base_uri": "https://localhost:8080/"
        },
        "id": "hh6XplUvC0j0",
        "outputId": "0f95595d-37d3-4c76-e1b8-c74ce84b9dbe"
      },
      "source": [
        "#NC_FILENAME='ncRNA.tiny50.fasta'\n",
        "#PC_FILENAME='pcRNA.tiny50.fasta'\n",
        "#NC_FILENAME='ncRNA.gc34.processed.fasta'\n",
        "#PC_FILENAME='pcRNA.gc34.processed.fasta'\n",
        "NC_FILENAME='noncod_12000.fasta'  # CHANGE THIS TO 1000, 2000, 4000, etc.\n",
        "PC_FILENAME='coding_12000.fasta'\n",
        "NC_VAL_FILE='noncod_validation.fasta'  # 'noncod_validation.fasta'  # CHANGE THIS TO THE UNIFORM VALIDATION FILE\n",
        "PC_VAL_FILE='coding_validation.fasta'  # 'coding_validation.fasta'\n",
        "\n",
        "MODEL_FILE='Test__12K'   # CHANGE THIS IF YOU WANT TO SAVE THE MODEL!\n",
        "DATAPATH=''\n",
        "\n",
        "try:\n",
        "    from google.colab import drive\n",
        "    IN_COLAB = True\n",
        "    PATH='/content/drive/'\n",
        "    drive.mount(PATH)\n",
        "    DATAPATH=PATH+'My Drive/data/'  # must end in \"/\"\n",
        "except:\n",
        "    IN_COLAB = False\n",
        "    DATAPATH='data/'  # must end in \"/\"\n",
        "NC_FILENAME = DATAPATH+NC_FILENAME\n",
        "PC_FILENAME = DATAPATH+PC_FILENAME\n",
        "NC_VAL_FILE = DATAPATH+NC_VAL_FILE\n",
        "PC_VAL_FILE = DATAPATH+PC_VAL_FILE\n",
        "MODEL_FILE=DATAPATH+MODEL_FILE\n",
        "\n",
        "EPOCHS=10  # DECIDE ON SOME AMOUNT AND STICK WITH IT\n",
        "SPLITS=5\n",
        "K=1\n",
        "VOCABULARY_SIZE=4**K+1   # e.g. K=3 => 64 DNA K-mers + 'NNN'\n",
        "EMBED_DIMEN=2\n",
        "FILTERS=32\n",
        "KERNEL=3\n",
        "NEURONS=24\n",
        "DROP=0.2\n",
        "MINLEN=200\n",
        "MAXLEN=1000    # THIS HAS TO MATCH THE SIMULATION DATA\n",
        "DENSE_LEN = 1000\n",
        "ACT=\"tanh\"\n",
        "LN_RATE = 0.0005"
      ],
      "execution_count": 1,
      "outputs": [
        {
          "output_type": "stream",
          "text": [
            "Drive already mounted at /content/drive/; to attempt to forcibly remount, call drive.mount(\"/content/drive/\", force_remount=True).\n"
          ],
          "name": "stdout"
        }
      ]
    },
    {
      "cell_type": "code",
      "metadata": {
        "colab": {
          "base_uri": "https://localhost:8080/"
        },
        "id": "e9TY3HK9ZklE",
        "outputId": "97118c46-6ef0-4828-bacc-e83c56eac3b7"
      },
      "source": [
        "# Load our own tools\n",
        "# TO DO: don't go to GitHub if the file is already local.\n",
        "GITHUB = True\n",
        "if GITHUB:\n",
        "    #!pip install requests  # Uncomment this if necessary. Seems to be pre-installed.\n",
        "    import requests\n",
        "    r = requests.get('https://raw.githubusercontent.com/ShepherdCode/ShepherdML/master/Strings/tools_fasta.py')\n",
        "    with open('tools_fasta.py', 'w') as f:\n",
        "        f.write(r.text)\n",
        "    # TO DO: delete the file after import\n",
        "import tools_fasta as tools\n",
        "tools.yahoo()  # If this prints \"Yahoo!\" the the import was successful.\n",
        "\n",
        "TOOLS_CHANGED = False   # set to True to re-run with a new version of tools\n",
        "if TOOLS_CHANGED:\n",
        "  from importlib import reload \n",
        "  tools=reload(tools)\n",
        "  print(dir(tools))   # run this to see EVERYTHING in the tools module"
      ],
      "execution_count": 2,
      "outputs": [
        {
          "output_type": "stream",
          "text": [
            "Yahoo!\n"
          ],
          "name": "stdout"
        }
      ]
    },
    {
      "cell_type": "code",
      "metadata": {
        "id": "VQY7aTj29Kch"
      },
      "source": [
        "import numpy as np\n",
        "import pandas as pd\n",
        "import matplotlib.pyplot as plt\n",
        "from sklearn.model_selection import ShuffleSplit\n",
        "from sklearn.model_selection import cross_val_score\n",
        "from sklearn.model_selection import RepeatedKFold\n",
        "from sklearn.model_selection import StratifiedKFold\n",
        "import tensorflow as tf\n",
        "from tensorflow import keras\n",
        "import time\n",
        "dt='float32'\n",
        "tf.keras.backend.set_floatx(dt)"
      ],
      "execution_count": 3,
      "outputs": []
    },
    {
      "cell_type": "markdown",
      "metadata": {
        "id": "j7jcg6Wl9Kc2"
      },
      "source": [
        "Build model"
      ]
    },
    {
      "cell_type": "code",
      "metadata": {
        "id": "qLFNO1Xa9Kc3"
      },
      "source": [
        "def compile_model(model):\n",
        "    print(\"COMPILE...\")\n",
        "    ## learn rate = initial_learning_rate * decay_rate ^ (step / decay_steps)\n",
        "    #adam_default_learn_rate = 0.001\n",
        "    #schedule = tf.keras.optimizers.schedules.ExponentialDecay(\n",
        "    #    initial_learning_rate = adam_default_learn_rate*10,\n",
        "    #    decay_steps=10000, decay_rate=0.99, staircase=True)\n",
        "    #alrd = tf.keras.optimizers.Adam(learning_rate=schedule)\n",
        "    \n",
        "    ln_rate = tf.keras.optimizers.Adam(learning_rate = LN_RATE)\n",
        "    bc=tf.keras.losses.BinaryCrossentropy(from_logits=False)\n",
        "    model.compile(loss=bc, optimizer=ln_rate, metrics=[\"accuracy\"])\n",
        "    print(\"...COMPILED\")\n",
        "    return model\n",
        "\n",
        "def build_model():\n",
        "    #SHAPE=(MAXLEN,5)  \n",
        "    SHAPE=(MAXLEN,4)  \n",
        "    # 4 input letters, 4 output dimensions, 1000 letters/RNA\n",
        "    elayer  = keras.layers.Embedding(4,4,input_length=1000) \n",
        "\n",
        "    clayer1 = keras.layers.Conv1D(FILTERS,KERNEL,activation=ACT,padding=\"same\",\n",
        "                                 input_shape=SHAPE)\n",
        "    clayer2 = keras.layers.Conv1D(FILTERS,KERNEL,activation=ACT,padding=\"same\")\n",
        "    clayer3 = keras.layers.MaxPooling1D(2)\n",
        "    clayer4 = keras.layers.Conv1D(FILTERS,KERNEL,activation=ACT,padding=\"same\")\n",
        "    clayer5 = keras.layers.Conv1D(FILTERS,KERNEL,activation=ACT,padding=\"same\")\n",
        "    clayer6 = keras.layers.MaxPooling1D(2)\n",
        "    clayer7 = keras.layers.Conv1D(FILTERS,KERNEL,activation=ACT,padding=\"same\")\n",
        "    clayer8 = keras.layers.Conv1D(FILTERS,KERNEL,activation=ACT,padding=\"same\")\n",
        "    clayer9 = keras.layers.MaxPooling1D(2)\n",
        "    clayer10 = keras.layers.Conv1D(FILTERS,KERNEL,activation=ACT,padding=\"same\")\n",
        "    clayer11 = keras.layers.Conv1D(FILTERS,KERNEL,activation=ACT,padding=\"same\")\n",
        "    clayer12 = keras.layers.MaxPooling1D(2)\n",
        "\n",
        "    clayer13 = keras.layers.Flatten()\n",
        "\n",
        "    dlayer1 = keras.layers.Dense(NEURONS, activation=ACT,dtype=dt, input_shape=[DENSE_LEN])\n",
        "    dlayer2 = keras.layers.Dropout(DROP)\n",
        "    dlayer3 = keras.layers.Dense(NEURONS, activation=ACT,dtype=dt)\n",
        "    dlayer4 = keras.layers.Dropout(DROP)\n",
        "    output_layer = keras.layers.Dense(1, activation=\"sigmoid\", dtype=dt)\n",
        "\n",
        "    cnn = keras.models.Sequential()\n",
        "    cnn.add(elayer)\n",
        "    cnn.add(clayer1)\n",
        "    cnn.add(clayer2)\n",
        "    cnn.add(clayer3)\n",
        "    cnn.add(clayer4)\n",
        "    cnn.add(clayer5)\n",
        "    cnn.add(clayer6)\n",
        "    cnn.add(clayer7)\n",
        "    cnn.add(clayer8)\n",
        "    cnn.add(clayer9)\n",
        "    cnn.add(clayer10)\n",
        "    cnn.add(clayer11)\n",
        "    cnn.add(clayer12)\n",
        "    cnn.add(clayer13)\n",
        "    cnn.add(dlayer1)\n",
        "    cnn.add(dlayer2)\n",
        "    cnn.add(dlayer3)\n",
        "    cnn.add(dlayer4)\n",
        "    cnn.add(output_layer)\n",
        "    mlpc = compile_model(cnn)\n",
        "    return mlpc"
      ],
      "execution_count": 4,
      "outputs": []
    },
    {
      "cell_type": "markdown",
      "metadata": {
        "id": "LdIS2utq9Kc9"
      },
      "source": [
        "Cross validation"
      ]
    },
    {
      "cell_type": "code",
      "metadata": {
        "id": "BVo4tbB_9Kc-"
      },
      "source": [
        "def do_cross_validation(X,y,given_model,X_VALID,Y_VALID):\n",
        "    cv_scores = []\n",
        "    fold=0\n",
        "    splitter = ShuffleSplit(n_splits=SPLITS, test_size=0.1, random_state=37863)\n",
        "    for train_index,valid_index in splitter.split(X):\n",
        "        fold += 1\n",
        "        X_train=X[train_index] # use iloc[] for dataframe\n",
        "        y_train=y[train_index]\n",
        "        X_valid=X[valid_index]\n",
        "        y_valid=y[valid_index]        \n",
        "        # Avoid continually improving the same model.\n",
        "        model = compile_model(keras.models.clone_model(given_model))\n",
        "        bestname=MODEL_FILE+\".cv.\"+str(fold)+\".best\"\n",
        "        mycallbacks = [keras.callbacks.ModelCheckpoint(\n",
        "            filepath=bestname, save_best_only=True, \n",
        "            monitor='val_accuracy', mode='max')]   \n",
        "        print(\"FIT\")\n",
        "        start_time=time.time()\n",
        "        history=model.fit(X_train, y_train, \n",
        "                epochs=EPOCHS, verbose=1, callbacks=mycallbacks,\n",
        "                validation_data=(X_valid,y_valid))\n",
        "        # THE VALIDATION ABOVE IS JUST FOR SHOW\n",
        "        end_time=time.time()\n",
        "        elapsed_time=(end_time-start_time)                        \n",
        "        print(\"Fold %d, %d epochs, %d sec\"%(fold,EPOCHS,elapsed_time))\n",
        "        pd.DataFrame(history.history).plot(figsize=(8,5))\n",
        "        plt.grid(True)\n",
        "        plt.gca().set_ylim(0,1)\n",
        "        plt.show()\n",
        "        best_model=keras.models.load_model(bestname)\n",
        "        # THE VALIDATION BELOW IS FOR KEEPS\n",
        "        scores = best_model.evaluate(X_VALID, Y_VALID, verbose=0)\n",
        "        print(\"%s: %.2f%%\" % (best_model.metrics_names[1], scores[1]*100))\n",
        "        cv_scores.append(scores[1] * 100)  \n",
        "    print()\n",
        "    print(\"%d-way Cross Validation mean %.2f%% (+/- %.2f%%)\" % (fold, np.mean(cv_scores), np.std(cv_scores)))"
      ],
      "execution_count": 5,
      "outputs": []
    },
    {
      "cell_type": "markdown",
      "metadata": {
        "id": "qd3Wj_vI9KdP"
      },
      "source": [
        "## Train on RNA lengths 200-1Kb"
      ]
    },
    {
      "cell_type": "code",
      "metadata": {
        "colab": {
          "base_uri": "https://localhost:8080/"
        },
        "id": "G1HuSs8ZbeL4",
        "outputId": "803b8935-e2f7-4c7b-b721-149bfb2e436a"
      },
      "source": [
        "print (\"Compile the model\")\n",
        "model=build_model()\n",
        "print (\"Summarize the model\")\n",
        "print(model.summary())  # Print this only once\n",
        "#model.save(MODEL_FILE+'.model')\n"
      ],
      "execution_count": 6,
      "outputs": [
        {
          "output_type": "stream",
          "text": [
            "Compile the model\n",
            "COMPILE...\n",
            "...COMPILED\n",
            "Summarize the model\n",
            "Model: \"sequential\"\n",
            "_________________________________________________________________\n",
            "Layer (type)                 Output Shape              Param #   \n",
            "=================================================================\n",
            "embedding (Embedding)        (None, 1000, 4)           16        \n",
            "_________________________________________________________________\n",
            "conv1d (Conv1D)              (None, 1000, 32)          416       \n",
            "_________________________________________________________________\n",
            "conv1d_1 (Conv1D)            (None, 1000, 32)          3104      \n",
            "_________________________________________________________________\n",
            "max_pooling1d (MaxPooling1D) (None, 500, 32)           0         \n",
            "_________________________________________________________________\n",
            "conv1d_2 (Conv1D)            (None, 500, 32)           3104      \n",
            "_________________________________________________________________\n",
            "conv1d_3 (Conv1D)            (None, 500, 32)           3104      \n",
            "_________________________________________________________________\n",
            "max_pooling1d_1 (MaxPooling1 (None, 250, 32)           0         \n",
            "_________________________________________________________________\n",
            "conv1d_4 (Conv1D)            (None, 250, 32)           3104      \n",
            "_________________________________________________________________\n",
            "conv1d_5 (Conv1D)            (None, 250, 32)           3104      \n",
            "_________________________________________________________________\n",
            "max_pooling1d_2 (MaxPooling1 (None, 125, 32)           0         \n",
            "_________________________________________________________________\n",
            "conv1d_6 (Conv1D)            (None, 125, 32)           3104      \n",
            "_________________________________________________________________\n",
            "conv1d_7 (Conv1D)            (None, 125, 32)           3104      \n",
            "_________________________________________________________________\n",
            "max_pooling1d_3 (MaxPooling1 (None, 62, 32)            0         \n",
            "_________________________________________________________________\n",
            "flatten (Flatten)            (None, 1984)              0         \n",
            "_________________________________________________________________\n",
            "dense (Dense)                (None, 24)                47640     \n",
            "_________________________________________________________________\n",
            "dropout (Dropout)            (None, 24)                0         \n",
            "_________________________________________________________________\n",
            "dense_1 (Dense)              (None, 24)                600       \n",
            "_________________________________________________________________\n",
            "dropout_1 (Dropout)          (None, 24)                0         \n",
            "_________________________________________________________________\n",
            "dense_2 (Dense)              (None, 1)                 25        \n",
            "=================================================================\n",
            "Total params: 70,425\n",
            "Trainable params: 70,425\n",
            "Non-trainable params: 0\n",
            "_________________________________________________________________\n",
            "None\n"
          ],
          "name": "stdout"
        }
      ]
    },
    {
      "cell_type": "code",
      "metadata": {
        "id": "f8fNo6sn9KdH"
      },
      "source": [
        "def load_data_from_files(nc_filename,pc_filename):\n",
        "  FREEMEM=True   # use False for debugging, True for production\n",
        "  print(\"Load data from files.\")\n",
        "  nc_seq=tools.load_fasta(nc_filename,0)\n",
        "  pc_seq=tools.load_fasta(pc_filename,1)\n",
        "  train_set=pd.concat((nc_seq,pc_seq),axis=0)\n",
        "  print(\"Ready: train_set\")\n",
        "  subset=tools.make_slice(train_set,MINLEN,MAXLEN)# One array to two: X and y\n",
        "  if FREEMEM:\n",
        "      nc_seq=None\n",
        "      pc_seq=None\n",
        "      train_set=None\n",
        "  (X1,y_train)=tools.separate_X_and_y(subset)\n",
        "  # X1 is pandas df of (\"list\" of one sequence)\n",
        "  X2=X1.to_numpy()  # numpy ndarray of (\"list\" of one sequence)\n",
        "  X3=[elem[0] for elem in X2]  # numpy ndarray of ACGT-str\n",
        "  # X3? It might be faster to use int-array than char-array. Come back to this.\n",
        "  X4=X3  # no-op\n",
        "  print(\"X4\",type(X4))\n",
        "  #print(X4[0])\n",
        "  if FREEMEM:\n",
        "      X1=None\n",
        "      X2=None\n",
        "      X3=None\n",
        "  X5=[]\n",
        "  dna_to_int = {'A':0,'C':1,'G':2,'T':3}\n",
        "  for x in X4:\n",
        "      a=[]\n",
        "      for c in x:\n",
        "          i = dna_to_int[c]\n",
        "          a.append(i)\n",
        "      X5.append(a)\n",
        "  X5=np.asarray(X5)\n",
        "  print(\"X5\",type(X5))\n",
        "  print(X5.shape)\n",
        "  if FREEMEM:\n",
        "      X4=None\n",
        "  X_train=X5\n",
        "  if FREEMEM:\n",
        "      X5=None\n",
        "  print(\"X_train\",type(X_train))\n",
        "  y_train=y_train.to_numpy()\n",
        "  print(X_train.shape)\n",
        "  print(X_train[0].shape)\n",
        "  print(X_train[0])\n",
        "  return X_train,y_train\n"
      ],
      "execution_count": 7,
      "outputs": []
    },
    {
      "cell_type": "code",
      "metadata": {
        "colab": {
          "base_uri": "https://localhost:8080/"
        },
        "id": "UmEls9oXRQON",
        "outputId": "4b970833-ffca-42e8-b71c-b052db919e03"
      },
      "source": [
        "print(\"Loading training data...\")\n",
        "X_train,y_train = load_data_from_files(NC_FILENAME,PC_FILENAME)"
      ],
      "execution_count": 8,
      "outputs": [
        {
          "output_type": "stream",
          "text": [
            "Loading training data...\n",
            "Load data from files.\n",
            "Ready: train_set\n",
            "X4 <class 'list'>\n",
            "X5 <class 'numpy.ndarray'>\n",
            "(24000, 1000)\n",
            "X_train <class 'numpy.ndarray'>\n",
            "(24000, 1000)\n",
            "(1000,)\n",
            "[0 0 3 0 0 3 3 0 2 0 0 2 0 0 1 3 1 0 1 3 1 1 1 1 2 3 0 0 1 3 2 0 3 2 2 3 2\n",
            " 0 1 2 1 0 0 2 2 1 2 3 1 2 1 3 1 3 2 0 3 3 3 2 1 0 2 3 1 0 0 1 3 1 1 3 1 1\n",
            " 2 3 1 2 2 2 2 1 1 0 1 0 1 2 0 2 2 1 2 2 1 3 0 1 2 0 1 3 0 2 0 1 2 3 2 2 0\n",
            " 1 0 1 0 2 1 3 0 1 0 0 2 0 0 0 1 3 1 3 0 3 1 2 2 2 3 3 3 2 3 1 1 2 1 0 1 2\n",
            " 2 0 3 1 0 2 2 3 3 2 2 1 3 0 2 2 3 3 0 2 3 1 1 0 0 0 1 1 0 3 2 0 3 1 0 1 2\n",
            " 1 1 1 3 2 1 2 0 2 0 3 3 3 0 2 1 2 3 3 1 2 0 2 2 1 2 3 2 0 1 1 1 0 2 3 2 1\n",
            " 3 2 2 2 0 3 2 0 1 2 0 2 2 3 3 0 3 3 1 2 3 3 0 2 0 3 2 3 1 2 2 1 2 3 3 3 3\n",
            " 0 2 0 1 1 3 0 1 3 2 0 0 1 0 3 3 0 1 2 1 1 3 1 0 1 2 0 0 2 0 2 1 1 2 0 0 2\n",
            " 2 0 3 3 3 3 3 2 2 1 3 2 2 0 3 2 3 1 0 3 0 2 3 1 0 3 2 0 3 1 1 1 0 3 1 3 0\n",
            " 0 2 0 1 0 2 2 1 0 1 3 1 0 3 1 2 1 3 0 0 3 2 0 2 1 0 0 1 2 0 1 3 1 3 1 2 1\n",
            " 2 3 3 1 0 3 1 2 0 2 0 3 1 1 0 0 2 3 3 3 0 0 2 0 0 3 0 3 3 1 0 1 3 3 3 1 3\n",
            " 1 2 2 3 0 0 2 2 3 3 2 2 1 1 3 1 2 2 3 1 2 1 0 1 2 3 0 3 2 2 2 1 1 1 0 0 3\n",
            " 2 3 3 0 2 2 0 3 1 3 0 3 0 1 0 0 3 0 1 3 0 3 0 1 2 2 0 2 2 3 2 0 0 3 1 0 0\n",
            " 1 3 1 2 2 2 1 2 1 2 3 2 0 3 2 3 3 0 3 3 3 1 2 0 0 3 3 1 1 2 0 3 0 3 2 2 2\n",
            " 2 2 2 0 3 2 0 2 1 0 2 1 3 2 2 1 2 1 1 0 3 1 2 2 2 3 2 3 1 2 0 2 3 1 1 1 2\n",
            " 3 1 0 2 3 3 3 3 2 2 2 1 1 0 3 3 0 1 0 0 0 3 1 0 1 1 0 2 0 2 0 0 3 0 3 2 1\n",
            " 1 0 2 0 3 2 1 0 3 1 2 0 1 1 0 0 1 0 1 3 2 0 1 3 2 3 3 3 0 2 0 3 0 1 3 1 3\n",
            " 0 2 3 1 3 1 1 3 2 3 0 1 2 1 1 0 3 2 1 3 3 2 1 2 0 3 2 2 2 2 3 3 2 2 1 1 2\n",
            " 1 0 2 1 3 2 1 3 0 0 2 1 2 1 0 2 1 2 1 2 2 2 3 0 1 0 2 3 1 2 3 0 3 1 3 1 3\n",
            " 3 0 0 1 2 0 3 0 1 2 3 1 1 1 1 3 3 3 2 0 3 3 1 0 2 1 2 1 3 3 3 0 0 1 1 1 0\n",
            " 0 3 2 0 3 1 1 3 0 3 1 3 0 1 1 3 0 2 3 3 1 1 0 1 1 0 0 3 3 3 2 0 3 0 1 3 1\n",
            " 3 3 1 3 3 0 1 0 2 0 2 3 1 3 1 3 2 2 1 2 0 0 0 0 2 1 2 0 1 0 1 3 1 3 0 3 2\n",
            " 2 2 3 0 2 0 0 3 1 3 3 0 1 3 0 0 3 1 0 1 0 0 1 0 0 3 3 2 2 0 0 2 3 1 3 0 2\n",
            " 1 0 0 1 3 0 1 3 2 1 3 2 2 0 3 1 2 0 2 0 1 0 1 1 0 1 2 2 1 2 1 3 3 3 3 0 1\n",
            " 1 3 3 1 2 0 0 0 0 3 1 3 2 0 2 0 1 1 3 3 1 1 1 2 0 3 2 3 3 1 3 0 2 0 3 1 0\n",
            " 0 2 3 0 0 2 2 3 3 2 1 1 3 3 0 2 3 0 2 3 0 1 2 0 0 3 1 1 3 3 1 0 0 0 1 0 2\n",
            " 3 1 3 3 1 1 1 0 0 3 1 1 2 0 0 2 2 3 1 0 3 0 0 0 2 2 1 3 1 3 1 1 1 3 1 0 0\n",
            " 3]\n"
          ],
          "name": "stdout"
        }
      ]
    },
    {
      "cell_type": "code",
      "metadata": {
        "colab": {
          "base_uri": "https://localhost:8080/"
        },
        "id": "sfvgDZR1a_2j",
        "outputId": "8cac9698-d6a4-4a61-891a-3d6ee8902f9e"
      },
      "source": [
        "print(\"Loading validation data...\")\n",
        "X_VALID,Y_VALID = load_data_from_files(NC_VAL_FILE,PC_VAL_FILE)"
      ],
      "execution_count": 9,
      "outputs": [
        {
          "output_type": "stream",
          "text": [
            "Loading validation data...\n",
            "Load data from files.\n",
            "Ready: train_set\n",
            "X4 <class 'list'>\n",
            "X5 <class 'numpy.ndarray'>\n",
            "(100000, 1000)\n",
            "X_train <class 'numpy.ndarray'>\n",
            "(100000, 1000)\n",
            "(1000,)\n",
            "[0 2 0 0 3 3 1 2 2 3 1 2 2 0 2 0 2 2 2 1 2 0 3 2 0 3 0 0 3 3 2 3 0 3 3 1 0\n",
            " 1 1 0 2 1 1 1 1 2 3 3 0 2 1 1 3 2 3 2 1 2 3 3 0 0 1 2 2 2 3 2 0 1 2 2 2 2\n",
            " 2 1 3 3 0 1 2 0 1 2 0 3 2 3 2 3 1 3 3 1 3 0 2 1 1 1 2 3 2 2 2 1 0 3 3 2 3\n",
            " 3 3 1 1 3 3 2 1 1 2 1 3 2 2 1 3 1 3 1 0 0 3 2 2 2 1 2 0 0 1 0 2 0 1 3 2 1\n",
            " 3 2 2 0 3 1 2 0 3 3 3 2 3 2 1 0 0 3 0 2 0 2 1 2 1 1 0 2 3 0 1 2 0 1 2 2 0\n",
            " 2 1 2 3 1 1 1 2 3 3 3 2 1 1 0 2 3 1 1 2 1 0 0 3 2 1 0 2 2 3 2 0 0 3 1 3 0\n",
            " 2 3 0 2 3 1 2 3 1 1 2 3 3 3 3 3 0 0 1 0 0 0 2 0 2 2 0 3 3 0 0 0 0 2 2 2 1\n",
            " 0 0 1 1 1 0 2 0 3 1 2 0 0 3 3 1 1 2 1 3 2 3 2 1 2 2 0 0 1 0 1 0 3 3 3 0 0\n",
            " 0 2 3 0 3 2 3 0 1 1 3 0 1 1 1 3 2 1 3 3 1 0 0 0 1 2 3 0 2 3 1 1 1 3 0 3 1\n",
            " 2 0 1 2 1 2 2 3 1 1 1 2 0 2 0 0 3 3 0 2 1 0 0 1 0 1 3 3 2 3 3 1 0 3 2 3 0\n",
            " 2 3 3 2 0 1 0 0 3 1 1 2 2 1 3 2 0 1 0 0 3 2 3 1 0 3 0 3 3 1 1 3 0 0 0 1 2\n",
            " 1 1 1 3 1 2 2 1 1 1 2 1 0 1 1 2 3 2 1 2 1 3 3 2 3 2 2 2 3 3 0 3 1 0 3 3 0\n",
            " 3 2 2 0 1 2 1 1 1 0 3 3 0 1 1 2 3 2 1 2 2 2 0 0 0 2 1 2 1 3 0 3 1 0 0 1 3\n",
            " 2 3 3 2 1 0 3 3 0 1 1 0 0 3 3 1 0 2 2 1 2 0 0 0 2 0 1 2 2 3 1 0 0 2 0 0 1\n",
            " 3 3 2 0 1 0 3 1 3 2 2 0 1 1 0 2 0 0 0 3 2 3 2 0 0 3 3 2 1 3 0 0 2 1 2 1 2\n",
            " 1 0 2 2 2 3 2 3 3 2 1 2 0 0 2 3 1 0 1 2 1 3 2 3 1 0 2 0 2 1 0 2 1 1 1 1 3\n",
            " 1 2 3 3 0 3 0 2 2 1 2 3 2 0 2 0 2 3 2 3 3 0 0 1 0 3 1 1 0 0 2 0 1 3 3 2 1\n",
            " 3 3 3 0 2 2 3 1 2 1 3 2 3 0 2 3 1 0 2 0 2 2 0 1 3 3 0 0 0 3 0 1 1 0 0 3 0\n",
            " 0 1 2 0 2 3 1 1 2 3 2 2 1 2 1 0 1 0 3 0 3 1 1 1 3 3 3 2 2 3 3 3 1 3 3 1 3\n",
            " 0 2 3 0 2 2 3 0 3 3 1 3 1 1 2 3 0 3 2 0 1 1 3 1 1 1 1 3 0 1 3 2 1 0 2 3 2\n",
            " 3 2 3 2 2 1 2 2 1 1 2 3 1 2 0 1 3 0 1 3 1 0 1 3 3 3 3 1 1 1 1 2 2 2 0 0 2\n",
            " 1 0 0 3 1 0 2 2 2 2 1 2 3 2 2 0 3 1 1 1 1 3 0 0 2 1 3 0 2 2 0 3 3 0 2 2 2\n",
            " 3 2 1 3 3 1 3 3 3 2 0 1 3 2 0 2 2 1 0 2 3 1 0 1 3 0 1 1 1 0 1 3 2 3 2 2 3\n",
            " 2 3 1 0 1 0 3 0 1 1 2 0 3 1 0 2 1 1 2 0 0 1 3 2 1 3 1 3 0 2 3 1 0 1 0 2 2\n",
            " 0 1 3 2 3 1 2 0 2 2 3 3 3 2 0 3 1 1 1 1 0 2 3 2 1 0 3 3 1 3 2 1 0 0 1 2 2\n",
            " 3 2 1 0 0 2 2 3 0 2 0 1 2 3 3 1 0 3 2 3 0 2 1 2 3 0 1 0 2 3 1 0 1 0 1 0 1\n",
            " 0 0 3 1 3 0 1 2 0 0 3 0 2 2 1 1 1 3 2 0 2 2 1 2 0 0 1 1 2 2 1 1 1 1 1 2 0\n",
            " 3]\n"
          ],
          "name": "stdout"
        }
      ]
    },
    {
      "cell_type": "code",
      "metadata": {
        "colab": {
          "base_uri": "https://localhost:8080/",
          "height": 1000
        },
        "id": "mQ8eW5Rg9KdQ",
        "outputId": "6ec41025-e38d-48db-dd71-d16ec9677692"
      },
      "source": [
        "print (\"Cross validation\")\n",
        "do_cross_validation(X_train,y_train,model,X_VALID,Y_VALID)  \n",
        "print (\"Done\")"
      ],
      "execution_count": 10,
      "outputs": [
        {
          "output_type": "stream",
          "text": [
            "Cross validation\n",
            "COMPILE...\n",
            "...COMPILED\n",
            "FIT\n",
            "Epoch 1/10\n",
            "675/675 [==============================] - 7s 6ms/step - loss: 0.6850 - accuracy: 0.5304 - val_loss: 0.6128 - val_accuracy: 0.6612\n",
            "INFO:tensorflow:Assets written to: /content/drive/My Drive/data/Test__12K.cv.1.best/assets\n",
            "Epoch 2/10\n",
            "675/675 [==============================] - 4s 5ms/step - loss: 0.5982 - accuracy: 0.6789 - val_loss: 0.5473 - val_accuracy: 0.7312\n",
            "INFO:tensorflow:Assets written to: /content/drive/My Drive/data/Test__12K.cv.1.best/assets\n",
            "Epoch 3/10\n",
            "675/675 [==============================] - 4s 5ms/step - loss: 0.5481 - accuracy: 0.7231 - val_loss: 0.5525 - val_accuracy: 0.7179\n",
            "Epoch 4/10\n",
            "675/675 [==============================] - 4s 5ms/step - loss: 0.5204 - accuracy: 0.7469 - val_loss: 0.5406 - val_accuracy: 0.7362\n",
            "INFO:tensorflow:Assets written to: /content/drive/My Drive/data/Test__12K.cv.1.best/assets\n",
            "Epoch 5/10\n",
            "675/675 [==============================] - 4s 5ms/step - loss: 0.4863 - accuracy: 0.7702 - val_loss: 0.5473 - val_accuracy: 0.7296\n",
            "Epoch 6/10\n",
            "675/675 [==============================] - 4s 5ms/step - loss: 0.4692 - accuracy: 0.7778 - val_loss: 0.5410 - val_accuracy: 0.7296\n",
            "Epoch 7/10\n",
            "675/675 [==============================] - 4s 5ms/step - loss: 0.4505 - accuracy: 0.7903 - val_loss: 0.5462 - val_accuracy: 0.7346\n",
            "Epoch 8/10\n",
            "675/675 [==============================] - 4s 5ms/step - loss: 0.4235 - accuracy: 0.8071 - val_loss: 0.5620 - val_accuracy: 0.7392\n",
            "INFO:tensorflow:Assets written to: /content/drive/My Drive/data/Test__12K.cv.1.best/assets\n",
            "Epoch 9/10\n",
            "675/675 [==============================] - 4s 5ms/step - loss: 0.3919 - accuracy: 0.8247 - val_loss: 0.6004 - val_accuracy: 0.7038\n",
            "Epoch 10/10\n",
            "675/675 [==============================] - 4s 5ms/step - loss: 0.3890 - accuracy: 0.8271 - val_loss: 0.6046 - val_accuracy: 0.7212\n",
            "Fold 1, 10 epochs, 47 sec\n"
          ],
          "name": "stdout"
        },
        {
          "output_type": "display_data",
          "data": {
            "image/png": "[encoded data removed]",
            "text/plain": [
              "<Figure size 576x360 with 1 Axes>"
            ]
          },
          "metadata": {
            "tags": [],
            "needs_background": "light"
          }
        },
        {
          "output_type": "stream",
          "text": [
            "accuracy: 74.53%\n",
            "COMPILE...\n",
            "...COMPILED\n",
            "FIT\n",
            "Epoch 1/10\n",
            "675/675 [==============================] - 5s 6ms/step - loss: 0.6855 - accuracy: 0.5298 - val_loss: 0.5749 - val_accuracy: 0.7025\n",
            "INFO:tensorflow:Assets written to: /content/drive/My Drive/data/Test__12K.cv.2.best/assets\n",
            "Epoch 2/10\n",
            "675/675 [==============================] - 4s 5ms/step - loss: 0.5802 - accuracy: 0.7014 - val_loss: 0.5738 - val_accuracy: 0.6979\n",
            "Epoch 3/10\n",
            "675/675 [==============================] - 4s 5ms/step - loss: 0.5405 - accuracy: 0.7305 - val_loss: 0.5414 - val_accuracy: 0.7279\n",
            "INFO:tensorflow:Assets written to: /content/drive/My Drive/data/Test__12K.cv.2.best/assets\n",
            "Epoch 4/10\n",
            "675/675 [==============================] - 4s 6ms/step - loss: 0.5207 - accuracy: 0.7397 - val_loss: 0.5423 - val_accuracy: 0.7250\n",
            "Epoch 5/10\n",
            "675/675 [==============================] - 4s 6ms/step - loss: 0.4959 - accuracy: 0.7641 - val_loss: 0.5212 - val_accuracy: 0.7454\n",
            "INFO:tensorflow:Assets written to: /content/drive/My Drive/data/Test__12K.cv.2.best/assets\n",
            "Epoch 6/10\n",
            "675/675 [==============================] - 4s 6ms/step - loss: 0.4701 - accuracy: 0.7810 - val_loss: 0.5278 - val_accuracy: 0.7379\n",
            "Epoch 7/10\n",
            "675/675 [==============================] - 4s 6ms/step - loss: 0.4403 - accuracy: 0.7998 - val_loss: 0.5763 - val_accuracy: 0.7271\n",
            "Epoch 8/10\n",
            "675/675 [==============================] - 4s 6ms/step - loss: 0.4264 - accuracy: 0.8058 - val_loss: 0.5489 - val_accuracy: 0.7358\n",
            "Epoch 9/10\n",
            "675/675 [==============================] - 4s 6ms/step - loss: 0.3974 - accuracy: 0.8258 - val_loss: 0.6200 - val_accuracy: 0.7067\n",
            "Epoch 10/10\n",
            "675/675 [==============================] - 4s 6ms/step - loss: 0.3824 - accuracy: 0.8317 - val_loss: 0.5791 - val_accuracy: 0.7271\n",
            "Fold 2, 10 epochs, 44 sec\n"
          ],
          "name": "stdout"
        },
        {
          "output_type": "display_data",
          "data": {
            "image/png": "[encoded data removed]",
            "text/plain": [
              "<Figure size 576x360 with 1 Axes>"
            ]
          },
          "metadata": {
            "tags": [],
            "needs_background": "light"
          }
        },
        {
          "output_type": "stream",
          "text": [
            "accuracy: 75.17%\n",
            "COMPILE...\n",
            "...COMPILED\n",
            "FIT\n",
            "Epoch 1/10\n",
            "675/675 [==============================] - 5s 6ms/step - loss: 0.6793 - accuracy: 0.5415 - val_loss: 0.5741 - val_accuracy: 0.6971\n",
            "INFO:tensorflow:Assets written to: /content/drive/My Drive/data/Test__12K.cv.3.best/assets\n",
            "Epoch 2/10\n",
            "675/675 [==============================] - 4s 6ms/step - loss: 0.5697 - accuracy: 0.7072 - val_loss: 0.5484 - val_accuracy: 0.7188\n",
            "INFO:tensorflow:Assets written to: /content/drive/My Drive/data/Test__12K.cv.3.best/assets\n",
            "Epoch 3/10\n",
            "675/675 [==============================] - 4s 6ms/step - loss: 0.5317 - accuracy: 0.7370 - val_loss: 0.5181 - val_accuracy: 0.7421\n",
            "INFO:tensorflow:Assets written to: /content/drive/My Drive/data/Test__12K.cv.3.best/assets\n",
            "Epoch 4/10\n",
            "675/675 [==============================] - 4s 5ms/step - loss: 0.5153 - accuracy: 0.7507 - val_loss: 0.5514 - val_accuracy: 0.7138\n",
            "Epoch 5/10\n",
            "675/675 [==============================] - 4s 6ms/step - loss: 0.4907 - accuracy: 0.7683 - val_loss: 0.5045 - val_accuracy: 0.7525\n",
            "INFO:tensorflow:Assets written to: /content/drive/My Drive/data/Test__12K.cv.3.best/assets\n",
            "Epoch 6/10\n",
            "675/675 [==============================] - 4s 6ms/step - loss: 0.4640 - accuracy: 0.7853 - val_loss: 0.5159 - val_accuracy: 0.7437\n",
            "Epoch 7/10\n",
            "675/675 [==============================] - 4s 6ms/step - loss: 0.4305 - accuracy: 0.8040 - val_loss: 0.5290 - val_accuracy: 0.7458\n",
            "Epoch 8/10\n",
            "675/675 [==============================] - 4s 6ms/step - loss: 0.4121 - accuracy: 0.8180 - val_loss: 0.5592 - val_accuracy: 0.7396\n",
            "Epoch 9/10\n",
            "675/675 [==============================] - 4s 6ms/step - loss: 0.3887 - accuracy: 0.8266 - val_loss: 0.5630 - val_accuracy: 0.7367\n",
            "Epoch 10/10\n",
            "675/675 [==============================] - 4s 6ms/step - loss: 0.3554 - accuracy: 0.8499 - val_loss: 0.5693 - val_accuracy: 0.7404\n",
            "Fold 3, 10 epochs, 48 sec\n"
          ],
          "name": "stdout"
        },
        {
          "output_type": "display_data",
          "data": {
            "image/png": "[encoded data removed]",
            "text/plain": [
              "<Figure size 576x360 with 1 Axes>"
            ]
          },
          "metadata": {
            "tags": [],
            "needs_background": "light"
          }
        },
        {
          "output_type": "stream",
          "text": [
            "accuracy: 74.98%\n",
            "COMPILE...\n",
            "...COMPILED\n",
            "FIT\n",
            "Epoch 1/10\n",
            "675/675 [==============================] - 5s 6ms/step - loss: 0.6793 - accuracy: 0.5519 - val_loss: 0.6101 - val_accuracy: 0.6662\n",
            "INFO:tensorflow:Assets written to: /content/drive/My Drive/data/Test__12K.cv.4.best/assets\n",
            "Epoch 2/10\n",
            "675/675 [==============================] - 4s 6ms/step - loss: 0.5913 - accuracy: 0.6868 - val_loss: 0.5327 - val_accuracy: 0.7308\n",
            "INFO:tensorflow:Assets written to: /content/drive/My Drive/data/Test__12K.cv.4.best/assets\n",
            "Epoch 3/10\n",
            "675/675 [==============================] - 4s 6ms/step - loss: 0.5430 - accuracy: 0.7308 - val_loss: 0.5551 - val_accuracy: 0.7167\n",
            "Epoch 4/10\n",
            "675/675 [==============================] - 4s 5ms/step - loss: 0.5130 - accuracy: 0.7507 - val_loss: 0.5064 - val_accuracy: 0.7408\n",
            "INFO:tensorflow:Assets written to: /content/drive/My Drive/data/Test__12K.cv.4.best/assets\n",
            "Epoch 5/10\n",
            "675/675 [==============================] - 4s 5ms/step - loss: 0.4757 - accuracy: 0.7780 - val_loss: 0.5758 - val_accuracy: 0.7096\n",
            "Epoch 6/10\n",
            "675/675 [==============================] - 4s 5ms/step - loss: 0.4661 - accuracy: 0.7827 - val_loss: 0.5333 - val_accuracy: 0.7279\n",
            "Epoch 7/10\n",
            "675/675 [==============================] - 4s 5ms/step - loss: 0.4296 - accuracy: 0.8016 - val_loss: 0.5356 - val_accuracy: 0.7333\n",
            "Epoch 8/10\n",
            "675/675 [==============================] - 4s 5ms/step - loss: 0.4229 - accuracy: 0.8097 - val_loss: 0.5765 - val_accuracy: 0.7287\n",
            "Epoch 9/10\n",
            "675/675 [==============================] - 4s 5ms/step - loss: 0.3868 - accuracy: 0.8281 - val_loss: 0.5583 - val_accuracy: 0.7308\n",
            "Epoch 10/10\n",
            "675/675 [==============================] - 4s 5ms/step - loss: 0.3672 - accuracy: 0.8407 - val_loss: 0.6514 - val_accuracy: 0.6917\n",
            "Fold 4, 10 epochs, 44 sec\n"
          ],
          "name": "stdout"
        },
        {
          "output_type": "display_data",
          "data": {
            "image/png": "[encoded data removed]",
            "text/plain": [
              "<Figure size 576x360 with 1 Axes>"
            ]
          },
          "metadata": {
            "tags": [],
            "needs_background": "light"
          }
        },
        {
          "output_type": "stream",
          "text": [
            "accuracy: 75.56%\n",
            "COMPILE...\n",
            "...COMPILED\n",
            "FIT\n",
            "Epoch 1/10\n",
            "675/675 [==============================] - 5s 6ms/step - loss: 0.6833 - accuracy: 0.5364 - val_loss: 0.5854 - val_accuracy: 0.6938\n",
            "INFO:tensorflow:Assets written to: /content/drive/My Drive/data/Test__12K.cv.5.best/assets\n",
            "Epoch 2/10\n",
            "675/675 [==============================] - 4s 5ms/step - loss: 0.5739 - accuracy: 0.7048 - val_loss: 0.5536 - val_accuracy: 0.7183\n",
            "INFO:tensorflow:Assets written to: /content/drive/My Drive/data/Test__12K.cv.5.best/assets\n",
            "Epoch 3/10\n",
            "675/675 [==============================] - 4s 5ms/step - loss: 0.5265 - accuracy: 0.7430 - val_loss: 0.5012 - val_accuracy: 0.7563\n",
            "INFO:tensorflow:Assets written to: /content/drive/My Drive/data/Test__12K.cv.5.best/assets\n",
            "Epoch 4/10\n",
            "675/675 [==============================] - 4s 6ms/step - loss: 0.5070 - accuracy: 0.7491 - val_loss: 0.5009 - val_accuracy: 0.7583\n",
            "INFO:tensorflow:Assets written to: /content/drive/My Drive/data/Test__12K.cv.5.best/assets\n",
            "Epoch 5/10\n",
            "675/675 [==============================] - 4s 5ms/step - loss: 0.4767 - accuracy: 0.7765 - val_loss: 0.5060 - val_accuracy: 0.7450\n",
            "Epoch 6/10\n",
            "675/675 [==============================] - 4s 5ms/step - loss: 0.4586 - accuracy: 0.7859 - val_loss: 0.5339 - val_accuracy: 0.7400\n",
            "Epoch 7/10\n",
            "675/675 [==============================] - 4s 5ms/step - loss: 0.4277 - accuracy: 0.8061 - val_loss: 0.5195 - val_accuracy: 0.7462\n",
            "Epoch 8/10\n",
            "675/675 [==============================] - 4s 5ms/step - loss: 0.3982 - accuracy: 0.8239 - val_loss: 0.5252 - val_accuracy: 0.7504\n",
            "Epoch 9/10\n",
            "675/675 [==============================] - 4s 5ms/step - loss: 0.3943 - accuracy: 0.8228 - val_loss: 0.5401 - val_accuracy: 0.7437\n",
            "Epoch 10/10\n",
            "675/675 [==============================] - 4s 5ms/step - loss: 0.3748 - accuracy: 0.8378 - val_loss: 0.6479 - val_accuracy: 0.7021\n",
            "Fold 5, 10 epochs, 47 sec\n"
          ],
          "name": "stdout"
        },
        {
          "output_type": "display_data",
          "data": {
            "image/png": "[encoded data removed]",
            "text/plain": [
              "<Figure size 576x360 with 1 Axes>"
            ]
          },
          "metadata": {
            "tags": [],
            "needs_background": "light"
          }
        },
        {
          "output_type": "stream",
          "text": [
            "accuracy: 76.45%\n",
            "\n",
            "5-way Cross Validation mean 75.34% (+/- 0.65%)\n",
            "Done\n"
          ],
          "name": "stdout"
        }
      ]
    },
    {
      "cell_type": "code",
      "metadata": {
        "id": "p4fh2GI8beMQ"
      },
      "source": [
        ""
      ],
      "execution_count": 10,
      "outputs": []
    }
  ]
}