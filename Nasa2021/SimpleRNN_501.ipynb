{
  "nbformat": 4,
  "nbformat_minor": 0,
  "metadata": {
    "accelerator": "GPU",
    "colab": {
      "name": "SimpleRNN_501.ipynb",
      "provenance": [],
      "collapsed_sections": [],
      "include_colab_link": true
    },
    "kernelspec": {
      "display_name": "Python 3",
      "language": "python",
      "name": "python3"
    },
    "language_info": {
      "codemirror_mode": {
        "name": "ipython",
        "version": 3
      },
      "file_extension": ".py",
      "mimetype": "text/x-python",
      "name": "python",
      "nbconvert_exporter": "python",
      "pygments_lexer": "ipython3",
      "version": "3.8.3"
    }
  },
  "cells": [
    {
      "cell_type": "markdown",
      "metadata": {
        "id": "view-in-github",
        "colab_type": "text"
      },
      "source": [
        "<a href=\"https://colab.research.google.com/github/ShepherdCode/ShepherdML/blob/master/Nasa2021/SimpleRNN_101.ipynb\" target=\"_parent\"><img src=\"https://colab.research.google.com/assets/colab-badge.svg\" alt=\"Open In Colab\"/></a>"
      ]
    },
    {
      "cell_type": "markdown",
      "metadata": {
        "id": "ojm_6E9f9Kcf"
      },
      "source": [
        "# SimpleRNN_501\n",
        "Replaced LSTM layers in LSTM_403 with Non-Bidirectional RNN layers using tiny data set to reduce run time\n"
      ]
    },
    {
      "cell_type": "code",
      "metadata": {
        "colab": {
          "base_uri": "https://localhost:8080/"
        },
        "id": "hh6XplUvC0j0",
        "outputId": "741a4ac7-6923-4932-fde1-0a1f74fc6d86"
      },
      "source": [
        "NC_FILENAME='ncRNA.tiny50.fasta'\n",
        "PC_FILENAME='pcRNA.tiny50.fasta'\n",
        "MODEL_FILE='SimpleRNN_501'   # load not save!\n",
        "DATAPATH=''\n",
        "\n",
        "try:\n",
        "    from google.colab import drive\n",
        "    IN_COLAB = True\n",
        "    PATH='/content/drive/'\n",
        "    drive.mount(PATH)\n",
        "    DATAPATH=PATH+'My Drive/data/'  # must end in \"/\"\n",
        "except:\n",
        "    IN_COLAB = False\n",
        "    DATAPATH='data/'  # must end in \"/\"\n",
        "NC_FILENAME = DATAPATH+NC_FILENAME\n",
        "PC_FILENAME = DATAPATH+PC_FILENAME\n",
        "MODEL_FILE=DATAPATH+MODEL_FILE\n",
        "\n",
        "EPOCHS=100\n",
        "SPLITS=1\n",
        "K=3\n",
        "VOCABULARY_SIZE=4**K+1   # e.g. K=3 => 64 DNA K-mers + 'NNN'\n",
        "EMBED_DIMEN=16\n",
        "NEURONS=16\n",
        "DROP=0.5\n",
        "ACT=\"tanh\""
      ],
      "execution_count": 62,
      "outputs": [
        {
          "output_type": "stream",
          "text": [
            "Drive already mounted at /content/drive/; to attempt to forcibly remount, call drive.mount(\"/content/drive/\", force_remount=True).\n"
          ],
          "name": "stdout"
        }
      ]
    },
    {
      "cell_type": "code",
      "metadata": {
        "colab": {
          "base_uri": "https://localhost:8080/"
        },
        "id": "e9TY3HK9ZklE",
        "outputId": "ffd30cd2-a390-400d-91f9-8a6bd37c0a82"
      },
      "source": [
        "# Load our own tools\n",
        "GITHUB = True\n",
        "if GITHUB:\n",
        "    #!pip install requests  # Uncomment this if necessary. Seems to be pre-installed.\n",
        "    import requests\n",
        "    r = requests.get('https://raw.githubusercontent.com/ShepherdCode/ShepherdML/master/Strings/tools_fasta.py')\n",
        "    with open('tools_fasta.py', 'w') as f:\n",
        "        f.write(r.text)\n",
        "    # TO DO: delete the file after import\n",
        "import tools_fasta as tools\n",
        "tools.yahoo()  # If this prints \"Yahoo!\" the the import was successful.\n",
        "\n",
        "TOOLS_CHANGED = False   # set to True to re-run with a new version of tools\n",
        "if TOOLS_CHANGED:\n",
        "  from importlib import reload \n",
        "  tools=reload(tools)\n",
        "  print(dir(tools))   # run this to see EVERYTHING in the tools module"
      ],
      "execution_count": 63,
      "outputs": [
        {
          "output_type": "stream",
          "text": [
            "Yahoo!\n"
          ],
          "name": "stdout"
        }
      ]
    },
    {
      "cell_type": "code",
      "metadata": {
        "id": "VQY7aTj29Kch"
      },
      "source": [
        "import numpy as np\n",
        "import pandas as pd\n",
        "import matplotlib.pyplot as plt\n",
        "from sklearn.model_selection import ShuffleSplit\n",
        "from sklearn.model_selection import cross_val_score\n",
        "from sklearn.model_selection import RepeatedKFold\n",
        "from sklearn.model_selection import StratifiedKFold\n",
        "import tensorflow as tf\n",
        "from tensorflow import keras\n",
        "#from keras.wrappers.scikit_learn import KerasRegressor\n",
        "from keras.models import Sequential\n",
        "from keras.layers import Bidirectional\n",
        "from keras.layers import GRU\n",
        "from keras.layers import Dense\n",
        "from keras.layers import LayerNormalization\n",
        "import time\n",
        "dt='float32'\n",
        "tf.keras.backend.set_floatx(dt)"
      ],
      "execution_count": 64,
      "outputs": []
    },
    {
      "cell_type": "markdown",
      "metadata": {
        "id": "j7jcg6Wl9Kc2"
      },
      "source": [
        "Build model"
      ]
    },
    {
      "cell_type": "code",
      "metadata": {
        "id": "qLFNO1Xa9Kc3"
      },
      "source": [
        "def compile_model(model):\n",
        "    adam_default_learn_rate = 0.001\n",
        "    schedule = tf.keras.optimizers.schedules.ExponentialDecay(\n",
        "        initial_learning_rate = adam_default_learn_rate*10,\n",
        "        #decay_steps=100000, decay_rate=0.96, staircase=True)\n",
        "        decay_steps=10000, decay_rate=0.99, staircase=True)\n",
        "    # learn rate = initial_learning_rate * decay_rate ^ (step / decay_steps)\n",
        "    alrd = tf.keras.optimizers.Adam(learning_rate=schedule)\n",
        "    bc=tf.keras.losses.BinaryCrossentropy(from_logits=False)\n",
        "    print(\"COMPILE...\")\n",
        "    #model.compile(loss=bc, optimizer=alrd, metrics=[\"accuracy\"])\n",
        "    model.compile(loss=bc, optimizer=\"adam\", metrics=[\"accuracy\"])\n",
        "    print(\"...COMPILED\")\n",
        "    return model\n",
        "\n",
        "def build_model():\n",
        "    embed_layer  = keras.layers.Embedding(\n",
        "        #VOCABULARY_SIZE, EMBED_DIMEN, input_length=1000, input_length=1000, mask_zero=True)\n",
        "        #input_dim=[None,VOCABULARY_SIZE], output_dim=EMBED_DIMEN, mask_zero=True)\n",
        "        input_dim=VOCABULARY_SIZE, output_dim=EMBED_DIMEN, mask_zero=True)\n",
        "    rnn1_layer = keras.layers.SimpleRNN(NEURONS, return_sequences=True, \n",
        "          input_shape=[1000,EMBED_DIMEN], activation=ACT, dropout=DROP)\n",
        "    rnn2_layer = keras.layers.SimpleRNN(NEURONS, return_sequences=True, \n",
        "          input_shape=[1000,EMBED_DIMEN], activation=ACT, dropout=DROP)\n",
        "    rnn3_layer = keras.layers.SimpleRNN(NEURONS, return_sequences=True, \n",
        "          input_shape=[1000,EMBED_DIMEN], activation=ACT, dropout=DROP)\n",
        "    rnn4_layer = keras.layers.SimpleRNN(NEURONS, return_sequences=False, \n",
        "        activation=ACT, dropout=DROP)\n",
        "    dense1_layer = keras.layers.Dense(NEURONS, activation=ACT,dtype=dt)\n",
        "    drop1_layer = keras.layers.Dropout(DROP)\n",
        "    dense2_layer = keras.layers.Dense(NEURONS, activation=ACT,dtype=dt)\n",
        "    drop2_layer = keras.layers.Dropout(DROP)\n",
        "    output_layer = keras.layers.Dense(1, activation=\"sigmoid\", dtype=dt)\n",
        "    mlp = keras.models.Sequential()\n",
        "    mlp.add(embed_layer)\n",
        "    mlp.add(rnn1_layer)\n",
        "    mlp.add(rnn2_layer)\n",
        "    mlp.add(rnn3_layer)\n",
        "    mlp.add(rnn4_layer)\n",
        "    mlp.add(dense1_layer)\n",
        "    mlp.add(drop1_layer)\n",
        "    mlp.add(dense2_layer)\n",
        "    mlp.add(drop2_layer)\n",
        "    mlp.add(output_layer)\n",
        "    mlpc = compile_model(mlp)\n",
        "    return mlpc"
      ],
      "execution_count": 65,
      "outputs": []
    },
    {
      "cell_type": "markdown",
      "metadata": {
        "id": "WV6k-xOm9Kcn"
      },
      "source": [
        "Partition sequences"
      ]
    },
    {
      "cell_type": "code",
      "metadata": {
        "id": "1I-O_qzw9Kco"
      },
      "source": [
        "def make_slice(data_set,min_len,max_len):\n",
        "    slice = data_set.query('seqlen <= '+str(max_len)+' & seqlen>= '+str(min_len))\n",
        "    return slice"
      ],
      "execution_count": 66,
      "outputs": []
    },
    {
      "cell_type": "markdown",
      "metadata": {
        "id": "LdIS2utq9Kc9"
      },
      "source": [
        "Cross validation"
      ]
    },
    {
      "cell_type": "code",
      "metadata": {
        "id": "BVo4tbB_9Kc-"
      },
      "source": [
        "def do_cross_validation(X,y,given_model):\n",
        "    cv_scores = []\n",
        "    fold=0\n",
        "    splitter = ShuffleSplit(n_splits=SPLITS, test_size=0.1, random_state=37863)\n",
        "    for train_index,valid_index in splitter.split(X):\n",
        "        fold += 1\n",
        "        X_train=X[train_index] # use iloc[] for dataframe\n",
        "        y_train=y[train_index]\n",
        "        X_valid=X[valid_index]\n",
        "        y_valid=y[valid_index]        \n",
        "        # Avoid continually improving the same model.\n",
        "        model = compile_model(keras.models.clone_model(given_model))\n",
        "        bestname=MODEL_FILE+\".cv.\"+str(fold)+\".best\"\n",
        "        mycallbacks = [keras.callbacks.ModelCheckpoint(\n",
        "            filepath=bestname, save_best_only=True, \n",
        "            monitor='val_accuracy', mode='max')]   \n",
        "        print(\"FIT\")\n",
        "        start_time=time.time()\n",
        "        history=model.fit(X_train, y_train, # batch_size=10, default=32 works nicely\n",
        "                epochs=EPOCHS, verbose=1,  # verbose=1 for ascii art, verbose=0 for none\n",
        "                callbacks=mycallbacks,\n",
        "                validation_data=(X_valid,y_valid) )\n",
        "        end_time=time.time()\n",
        "        elapsed_time=(end_time-start_time)                        \n",
        "        print(\"Fold %d, %d epochs, %d sec\"%(fold,EPOCHS,elapsed_time))\n",
        "        pd.DataFrame(history.history).plot(figsize=(8,5))\n",
        "        plt.grid(True)\n",
        "        plt.gca().set_ylim(0,1)\n",
        "        plt.show()\n",
        "        best_model=keras.models.load_model(bestname)\n",
        "        scores = best_model.evaluate(X_valid, y_valid, verbose=0)\n",
        "        print(\"%s: %.2f%%\" % (best_model.metrics_names[1], scores[1]*100))\n",
        "        cv_scores.append(scores[1] * 100)  \n",
        "    print()\n",
        "    print(\"%d-way Cross Validation mean %.2f%% (+/- %.2f%%)\" % (fold, np.mean(cv_scores), np.std(cv_scores)))"
      ],
      "execution_count": 67,
      "outputs": []
    },
    {
      "cell_type": "markdown",
      "metadata": {
        "id": "qd3Wj_vI9KdP"
      },
      "source": [
        "## Train on RNA lengths 200-1Kb"
      ]
    },
    {
      "cell_type": "code",
      "metadata": {
        "colab": {
          "base_uri": "https://localhost:8080/"
        },
        "id": "f8fNo6sn9KdH",
        "outputId": "fa969a57-2dca-4c45-8f2d-dbc2b467ace4"
      },
      "source": [
        "MINLEN=200\n",
        "MAXLEN=1000\n",
        "print(\"Load data from files.\")\n",
        "nc_seq=tools.load_fasta(NC_FILENAME,0)\n",
        "pc_seq=tools.load_fasta(PC_FILENAME,1)\n",
        "train_set=pd.concat((nc_seq,pc_seq),axis=0)\n",
        "nc_seq=None\n",
        "pc_seq=None\n",
        "print(\"Ready: train_set\")\n",
        "#train_set\n",
        "subset=make_slice(train_set,MINLEN,MAXLEN)# One array to two: X and y\n",
        "print (\"Data reshape\")\n",
        "(X_train,y_train)=tools.make_kmers(K,MAXLEN,subset)\n",
        "#print (\"Data prep\")\n",
        "#X_train=tools.make_frequencies(K,X_train)"
      ],
      "execution_count": 68,
      "outputs": [
        {
          "output_type": "stream",
          "text": [
            "Load data from files.\n",
            "Ready: train_set\n",
            "Data reshape\n"
          ],
          "name": "stdout"
        }
      ]
    },
    {
      "cell_type": "code",
      "metadata": {
        "colab": {
          "base_uri": "https://localhost:8080/"
        },
        "id": "G1HuSs8ZbeL4",
        "outputId": "db59160e-8f92-418a-cd46-88b175ee2caa"
      },
      "source": [
        "print (\"Compile the model\")\n",
        "model=build_model()\n",
        "print (\"Summarize the model\")\n",
        "print(model.summary())  # Print this only once\n",
        "model.save(MODEL_FILE+'.model')\n"
      ],
      "execution_count": 69,
      "outputs": [
        {
          "output_type": "stream",
          "text": [
            "Compile the model\n",
            "COMPILE...\n",
            "...COMPILED\n",
            "Summarize the model\n",
            "Model: \"sequential_5\"\n",
            "_________________________________________________________________\n",
            "Layer (type)                 Output Shape              Param #   \n",
            "=================================================================\n",
            "embedding_6 (Embedding)      (None, None, 16)          1040      \n",
            "_________________________________________________________________\n",
            "simple_rnn_17 (SimpleRNN)    (None, None, 16)          528       \n",
            "_________________________________________________________________\n",
            "simple_rnn_18 (SimpleRNN)    (None, None, 16)          528       \n",
            "_________________________________________________________________\n",
            "simple_rnn_19 (SimpleRNN)    (None, None, 16)          528       \n",
            "_________________________________________________________________\n",
            "simple_rnn_20 (SimpleRNN)    (None, 16)                528       \n",
            "_________________________________________________________________\n",
            "dense_15 (Dense)             (None, 16)                272       \n",
            "_________________________________________________________________\n",
            "dropout_10 (Dropout)         (None, 16)                0         \n",
            "_________________________________________________________________\n",
            "dense_16 (Dense)             (None, 16)                272       \n",
            "_________________________________________________________________\n",
            "dropout_11 (Dropout)         (None, 16)                0         \n",
            "_________________________________________________________________\n",
            "dense_17 (Dense)             (None, 1)                 17        \n",
            "=================================================================\n",
            "Total params: 3,713\n",
            "Trainable params: 3,713\n",
            "Non-trainable params: 0\n",
            "_________________________________________________________________\n",
            "None\n",
            "INFO:tensorflow:Assets written to: /content/drive/My Drive/data/LSTM302.model/assets\n"
          ],
          "name": "stdout"
        }
      ]
    },
    {
      "cell_type": "code",
      "metadata": {
        "colab": {
          "base_uri": "https://localhost:8080/",
          "height": 1000
        },
        "id": "mQ8eW5Rg9KdQ",
        "outputId": "439e9623-dee0-4a78-c8ab-b8260e2d7124"
      },
      "source": [
        "print (\"Cross valiation\")\n",
        "do_cross_validation(X_train,y_train,model)  \n",
        "print (\"Done\")"
      ],
      "execution_count": 70,
      "outputs": [
        {
          "output_type": "stream",
          "text": [
            "Cross valiation\n",
            "COMPILE...\n",
            "...COMPILED\n",
            "FIT\n",
            "Epoch 1/100\n",
            "3/3 [==============================] - 24s 7s/step - loss: 0.8406 - accuracy: 0.4097 - val_loss: 0.7575 - val_accuracy: 0.2000\n",
            "INFO:tensorflow:Assets written to: /content/drive/My Drive/data/LSTM302.cv.1.best/assets\n",
            "Epoch 2/100\n",
            "3/3 [==============================] - 20s 6s/step - loss: 0.7401 - accuracy: 0.4615 - val_loss: 0.7418 - val_accuracy: 0.3000\n",
            "INFO:tensorflow:Assets written to: /content/drive/My Drive/data/LSTM302.cv.1.best/assets\n",
            "Epoch 3/100\n",
            "3/3 [==============================] - 20s 7s/step - loss: 0.8338 - accuracy: 0.4537 - val_loss: 0.7329 - val_accuracy: 0.3000\n",
            "Epoch 4/100\n",
            "3/3 [==============================] - 19s 7s/step - loss: 0.7018 - accuracy: 0.5724 - val_loss: 0.7332 - val_accuracy: 0.3000\n",
            "Epoch 5/100\n",
            "3/3 [==============================] - 20s 7s/step - loss: 0.7877 - accuracy: 0.5043 - val_loss: 0.7534 - val_accuracy: 0.1000\n",
            "Epoch 6/100\n",
            "3/3 [==============================] - 19s 6s/step - loss: 0.7339 - accuracy: 0.4622 - val_loss: 0.7660 - val_accuracy: 0.1000\n",
            "Epoch 7/100\n",
            "3/3 [==============================] - 21s 7s/step - loss: 0.8094 - accuracy: 0.4504 - val_loss: 0.7561 - val_accuracy: 0.3000\n",
            "Epoch 8/100\n",
            "3/3 [==============================] - 20s 7s/step - loss: 0.7708 - accuracy: 0.5674 - val_loss: 0.7551 - val_accuracy: 0.3000\n",
            "Epoch 9/100\n",
            "3/3 [==============================] - 19s 7s/step - loss: 0.7174 - accuracy: 0.4850 - val_loss: 0.7402 - val_accuracy: 0.2000\n",
            "Epoch 10/100\n",
            "3/3 [==============================] - 19s 6s/step - loss: 0.7495 - accuracy: 0.5290 - val_loss: 0.7273 - val_accuracy: 0.3000\n",
            "Epoch 11/100\n",
            "3/3 [==============================] - 19s 6s/step - loss: 0.7051 - accuracy: 0.5300 - val_loss: 0.7203 - val_accuracy: 0.3000\n",
            "Epoch 12/100\n",
            "3/3 [==============================] - 20s 7s/step - loss: 0.7920 - accuracy: 0.4220 - val_loss: 0.7153 - val_accuracy: 0.3000\n",
            "Epoch 13/100\n",
            "3/3 [==============================] - 20s 7s/step - loss: 0.7508 - accuracy: 0.4710 - val_loss: 0.7114 - val_accuracy: 0.3000\n",
            "Epoch 14/100\n",
            "3/3 [==============================] - 20s 7s/step - loss: 0.7920 - accuracy: 0.4827 - val_loss: 0.7090 - val_accuracy: 0.4000\n",
            "INFO:tensorflow:Assets written to: /content/drive/My Drive/data/LSTM302.cv.1.best/assets\n",
            "Epoch 15/100\n",
            "3/3 [==============================] - 20s 7s/step - loss: 0.7128 - accuracy: 0.5963 - val_loss: 0.7071 - val_accuracy: 0.4000\n",
            "Epoch 16/100\n",
            "3/3 [==============================] - 19s 7s/step - loss: 0.7667 - accuracy: 0.4938 - val_loss: 0.7059 - val_accuracy: 0.4000\n",
            "Epoch 17/100\n",
            "3/3 [==============================] - 21s 7s/step - loss: 0.8016 - accuracy: 0.3970 - val_loss: 0.7056 - val_accuracy: 0.3000\n",
            "Epoch 18/100\n",
            "3/3 [==============================] - 19s 7s/step - loss: 0.7070 - accuracy: 0.5892 - val_loss: 0.7067 - val_accuracy: 0.3000\n",
            "Epoch 19/100\n",
            "3/3 [==============================] - 20s 7s/step - loss: 0.7337 - accuracy: 0.5072 - val_loss: 0.7067 - val_accuracy: 0.4000\n",
            "Epoch 20/100\n",
            "3/3 [==============================] - 19s 6s/step - loss: 0.7504 - accuracy: 0.4895 - val_loss: 0.7062 - val_accuracy: 0.4000\n",
            "Epoch 21/100\n",
            "3/3 [==============================] - 19s 6s/step - loss: 0.7838 - accuracy: 0.4377 - val_loss: 0.7059 - val_accuracy: 0.4000\n",
            "Epoch 22/100\n",
            "3/3 [==============================] - 19s 7s/step - loss: 0.7192 - accuracy: 0.4944 - val_loss: 0.7054 - val_accuracy: 0.4000\n",
            "Epoch 23/100\n",
            "3/3 [==============================] - 19s 7s/step - loss: 0.8105 - accuracy: 0.3881 - val_loss: 0.7053 - val_accuracy: 0.4000\n",
            "Epoch 24/100\n",
            "3/3 [==============================] - 20s 6s/step - loss: 0.6858 - accuracy: 0.6008 - val_loss: 0.7053 - val_accuracy: 0.4000\n",
            "Epoch 25/100\n",
            "3/3 [==============================] - 19s 7s/step - loss: 0.6724 - accuracy: 0.5936 - val_loss: 0.7053 - val_accuracy: 0.4000\n",
            "Epoch 26/100\n",
            "3/3 [==============================] - 19s 6s/step - loss: 0.7779 - accuracy: 0.5195 - val_loss: 0.7054 - val_accuracy: 0.4000\n",
            "Epoch 27/100\n",
            "3/3 [==============================] - 20s 7s/step - loss: 0.6942 - accuracy: 0.5267 - val_loss: 0.7054 - val_accuracy: 0.4000\n",
            "Epoch 28/100\n",
            "3/3 [==============================] - 19s 7s/step - loss: 0.7210 - accuracy: 0.4951 - val_loss: 0.7051 - val_accuracy: 0.4000\n",
            "Epoch 29/100\n",
            "3/3 [==============================] - 20s 7s/step - loss: 0.7235 - accuracy: 0.5027 - val_loss: 0.7041 - val_accuracy: 0.4000\n",
            "Epoch 30/100\n",
            "3/3 [==============================] - 20s 6s/step - loss: 0.7515 - accuracy: 0.4438 - val_loss: 0.7039 - val_accuracy: 0.4000\n",
            "Epoch 31/100\n",
            "3/3 [==============================] - 19s 7s/step - loss: 0.7575 - accuracy: 0.4132 - val_loss: 0.7032 - val_accuracy: 0.4000\n",
            "Epoch 32/100\n",
            "3/3 [==============================] - 20s 7s/step - loss: 0.6665 - accuracy: 0.5679 - val_loss: 0.7021 - val_accuracy: 0.4000\n",
            "Epoch 33/100\n",
            "3/3 [==============================] - 20s 7s/step - loss: 0.7705 - accuracy: 0.4560 - val_loss: 0.7014 - val_accuracy: 0.4000\n",
            "Epoch 34/100\n",
            "3/3 [==============================] - 19s 7s/step - loss: 0.7590 - accuracy: 0.4198 - val_loss: 0.7009 - val_accuracy: 0.5000\n",
            "INFO:tensorflow:Assets written to: /content/drive/My Drive/data/LSTM302.cv.1.best/assets\n",
            "Epoch 35/100\n",
            "3/3 [==============================] - 21s 7s/step - loss: 0.7688 - accuracy: 0.4622 - val_loss: 0.7009 - val_accuracy: 0.5000\n",
            "Epoch 36/100\n",
            "3/3 [==============================] - 19s 6s/step - loss: 0.7358 - accuracy: 0.5218 - val_loss: 0.7014 - val_accuracy: 0.5000\n",
            "Epoch 37/100\n",
            "3/3 [==============================] - 20s 7s/step - loss: 0.7972 - accuracy: 0.4097 - val_loss: 0.7017 - val_accuracy: 0.4000\n",
            "Epoch 38/100\n",
            "3/3 [==============================] - 20s 7s/step - loss: 0.7159 - accuracy: 0.5652 - val_loss: 0.7014 - val_accuracy: 0.2000\n",
            "Epoch 39/100\n",
            "3/3 [==============================] - 19s 6s/step - loss: 0.7343 - accuracy: 0.5290 - val_loss: 0.7008 - val_accuracy: 0.1000\n",
            "Epoch 40/100\n",
            "3/3 [==============================] - 19s 6s/step - loss: 0.7361 - accuracy: 0.5185 - val_loss: 0.7005 - val_accuracy: 0.1000\n",
            "Epoch 41/100\n",
            "3/3 [==============================] - 20s 7s/step - loss: 0.6693 - accuracy: 0.5802 - val_loss: 0.7001 - val_accuracy: 0.3000\n",
            "Epoch 42/100\n",
            "3/3 [==============================] - 19s 6s/step - loss: 0.7501 - accuracy: 0.5222 - val_loss: 0.7000 - val_accuracy: 0.3000\n",
            "Epoch 43/100\n",
            "3/3 [==============================] - 19s 6s/step - loss: 0.6744 - accuracy: 0.6281 - val_loss: 0.7006 - val_accuracy: 0.3000\n",
            "Epoch 44/100\n",
            "3/3 [==============================] - 19s 6s/step - loss: 0.7748 - accuracy: 0.4977 - val_loss: 0.7007 - val_accuracy: 0.4000\n",
            "Epoch 45/100\n",
            "3/3 [==============================] - 20s 7s/step - loss: 0.7461 - accuracy: 0.4465 - val_loss: 0.7008 - val_accuracy: 0.3000\n",
            "Epoch 46/100\n",
            "3/3 [==============================] - 21s 7s/step - loss: 0.7010 - accuracy: 0.5629 - val_loss: 0.7013 - val_accuracy: 0.3000\n",
            "Epoch 47/100\n",
            "3/3 [==============================] - 19s 6s/step - loss: 0.7032 - accuracy: 0.4605 - val_loss: 0.7024 - val_accuracy: 0.3000\n",
            "Epoch 48/100\n",
            "3/3 [==============================] - 19s 6s/step - loss: 0.7273 - accuracy: 0.5251 - val_loss: 0.7045 - val_accuracy: 0.2000\n",
            "Epoch 49/100\n",
            "3/3 [==============================] - 20s 6s/step - loss: 0.7666 - accuracy: 0.3563 - val_loss: 0.7075 - val_accuracy: 0.2000\n",
            "Epoch 50/100\n",
            "3/3 [==============================] - 20s 7s/step - loss: 0.6463 - accuracy: 0.6326 - val_loss: 0.7096 - val_accuracy: 0.1000\n",
            "Epoch 51/100\n",
            "3/3 [==============================] - 19s 6s/step - loss: 0.7636 - accuracy: 0.4811 - val_loss: 0.7119 - val_accuracy: 0.1000\n",
            "Epoch 52/100\n",
            "3/3 [==============================] - 19s 6s/step - loss: 0.7407 - accuracy: 0.4760 - val_loss: 0.7136 - val_accuracy: 0.1000\n",
            "Epoch 53/100\n",
            "3/3 [==============================] - 19s 7s/step - loss: 0.7223 - accuracy: 0.4883 - val_loss: 0.7136 - val_accuracy: 0.1000\n",
            "Epoch 54/100\n",
            "3/3 [==============================] - 19s 7s/step - loss: 0.7137 - accuracy: 0.5979 - val_loss: 0.7119 - val_accuracy: 0.2000\n",
            "Epoch 55/100\n",
            "3/3 [==============================] - 19s 7s/step - loss: 0.7877 - accuracy: 0.4064 - val_loss: 0.7116 - val_accuracy: 0.3000\n",
            "Epoch 56/100\n",
            "3/3 [==============================] - 20s 7s/step - loss: 0.7295 - accuracy: 0.5574 - val_loss: 0.7107 - val_accuracy: 0.3000\n",
            "Epoch 57/100\n",
            "3/3 [==============================] - 19s 6s/step - loss: 0.7111 - accuracy: 0.5740 - val_loss: 0.7101 - val_accuracy: 0.3000\n",
            "Epoch 58/100\n",
            "3/3 [==============================] - 20s 7s/step - loss: 0.7350 - accuracy: 0.5010 - val_loss: 0.7089 - val_accuracy: 0.3000\n",
            "Epoch 59/100\n",
            "3/3 [==============================] - 19s 7s/step - loss: 0.6871 - accuracy: 0.5557 - val_loss: 0.7090 - val_accuracy: 0.3000\n",
            "Epoch 60/100\n",
            "3/3 [==============================] - 19s 7s/step - loss: 0.7593 - accuracy: 0.4755 - val_loss: 0.7082 - val_accuracy: 0.3000\n",
            "Epoch 61/100\n",
            "3/3 [==============================] - 19s 6s/step - loss: 0.6765 - accuracy: 0.6721 - val_loss: 0.7086 - val_accuracy: 0.4000\n",
            "Epoch 62/100\n",
            "3/3 [==============================] - 20s 7s/step - loss: 0.7570 - accuracy: 0.5150 - val_loss: 0.7101 - val_accuracy: 0.3000\n",
            "Epoch 63/100\n",
            "3/3 [==============================] - 20s 7s/step - loss: 0.7047 - accuracy: 0.5228 - val_loss: 0.7069 - val_accuracy: 0.4000\n",
            "Epoch 64/100\n",
            "3/3 [==============================] - 20s 7s/step - loss: 0.7382 - accuracy: 0.4755 - val_loss: 0.7061 - val_accuracy: 0.3000\n",
            "Epoch 65/100\n",
            "3/3 [==============================] - 19s 6s/step - loss: 0.7131 - accuracy: 0.4688 - val_loss: 0.7044 - val_accuracy: 0.2000\n",
            "Epoch 66/100\n",
            "3/3 [==============================] - 19s 6s/step - loss: 0.7169 - accuracy: 0.4772 - val_loss: 0.7026 - val_accuracy: 0.2000\n",
            "Epoch 67/100\n",
            "3/3 [==============================] - 19s 6s/step - loss: 0.6716 - accuracy: 0.5101 - val_loss: 0.7014 - val_accuracy: 0.3000\n",
            "Epoch 68/100\n",
            "3/3 [==============================] - 20s 7s/step - loss: 0.7137 - accuracy: 0.5874 - val_loss: 0.7000 - val_accuracy: 0.3000\n",
            "Epoch 69/100\n",
            "3/3 [==============================] - 19s 6s/step - loss: 0.7294 - accuracy: 0.4589 - val_loss: 0.6984 - val_accuracy: 0.3000\n",
            "Epoch 70/100\n",
            "3/3 [==============================] - 20s 7s/step - loss: 0.7062 - accuracy: 0.5084 - val_loss: 0.6981 - val_accuracy: 0.4000\n",
            "Epoch 71/100\n",
            "3/3 [==============================] - 19s 7s/step - loss: 0.6802 - accuracy: 0.5864 - val_loss: 0.6980 - val_accuracy: 0.5000\n",
            "Epoch 72/100\n",
            "3/3 [==============================] - 20s 7s/step - loss: 0.7065 - accuracy: 0.5506 - val_loss: 0.6982 - val_accuracy: 0.5000\n",
            "Epoch 73/100\n",
            "3/3 [==============================] - 19s 6s/step - loss: 0.7237 - accuracy: 0.5140 - val_loss: 0.6973 - val_accuracy: 0.4000\n",
            "Epoch 74/100\n",
            "3/3 [==============================] - 19s 7s/step - loss: 0.7265 - accuracy: 0.4838 - val_loss: 0.6949 - val_accuracy: 0.7000\n",
            "INFO:tensorflow:Assets written to: /content/drive/My Drive/data/LSTM302.cv.1.best/assets\n",
            "Epoch 75/100\n",
            "3/3 [==============================] - 20s 7s/step - loss: 0.7978 - accuracy: 0.3435 - val_loss: 0.6897 - val_accuracy: 0.8000\n",
            "INFO:tensorflow:Assets written to: /content/drive/My Drive/data/LSTM302.cv.1.best/assets\n",
            "Epoch 76/100\n",
            "3/3 [==============================] - 21s 7s/step - loss: 0.6914 - accuracy: 0.5831 - val_loss: 0.6892 - val_accuracy: 0.7000\n",
            "Epoch 77/100\n",
            "3/3 [==============================] - 20s 7s/step - loss: 0.7226 - accuracy: 0.4426 - val_loss: 0.6989 - val_accuracy: 0.4000\n",
            "Epoch 78/100\n",
            "3/3 [==============================] - 20s 7s/step - loss: 0.7712 - accuracy: 0.4181 - val_loss: 0.7053 - val_accuracy: 0.3000\n",
            "Epoch 79/100\n",
            "3/3 [==============================] - 20s 7s/step - loss: 0.7541 - accuracy: 0.4498 - val_loss: 0.6846 - val_accuracy: 0.7000\n",
            "Epoch 80/100\n",
            "3/3 [==============================] - 21s 7s/step - loss: 0.7171 - accuracy: 0.4778 - val_loss: 0.7114 - val_accuracy: 0.6000\n",
            "Epoch 81/100\n",
            "3/3 [==============================] - 20s 7s/step - loss: 0.7119 - accuracy: 0.5424 - val_loss: 0.7031 - val_accuracy: 0.5000\n",
            "Epoch 82/100\n",
            "3/3 [==============================] - 19s 6s/step - loss: 0.7172 - accuracy: 0.5056 - val_loss: 0.6900 - val_accuracy: 0.4000\n",
            "Epoch 83/100\n",
            "3/3 [==============================] - 19s 6s/step - loss: 0.6830 - accuracy: 0.5997 - val_loss: 0.7059 - val_accuracy: 0.5000\n",
            "Epoch 84/100\n",
            "3/3 [==============================] - 20s 7s/step - loss: 0.7002 - accuracy: 0.4650 - val_loss: 0.7063 - val_accuracy: 0.6000\n",
            "Epoch 85/100\n",
            "3/3 [==============================] - 20s 7s/step - loss: 0.7499 - accuracy: 0.4243 - val_loss: 0.7376 - val_accuracy: 0.2000\n",
            "Epoch 86/100\n",
            "3/3 [==============================] - 20s 7s/step - loss: 0.7245 - accuracy: 0.5418 - val_loss: 0.6990 - val_accuracy: 0.5000\n",
            "Epoch 87/100\n",
            "3/3 [==============================] - 19s 6s/step - loss: 0.7442 - accuracy: 0.4266 - val_loss: 0.7192 - val_accuracy: 0.3000\n",
            "Epoch 88/100\n",
            "3/3 [==============================] - 19s 7s/step - loss: 0.6853 - accuracy: 0.5763 - val_loss: 0.7322 - val_accuracy: 0.3000\n",
            "Epoch 89/100\n",
            "3/3 [==============================] - 19s 6s/step - loss: 0.6668 - accuracy: 0.5128 - val_loss: 0.6874 - val_accuracy: 0.4000\n",
            "Epoch 90/100\n",
            "3/3 [==============================] - 20s 7s/step - loss: 0.6970 - accuracy: 0.5368 - val_loss: 0.7084 - val_accuracy: 0.5000\n",
            "Epoch 91/100\n",
            "3/3 [==============================] - 19s 6s/step - loss: 0.7068 - accuracy: 0.4694 - val_loss: 0.7285 - val_accuracy: 0.2000\n",
            "Epoch 92/100\n",
            "3/3 [==============================] - 18s 6s/step - loss: 0.7528 - accuracy: 0.4093 - val_loss: 0.7088 - val_accuracy: 0.4000\n",
            "Epoch 93/100\n",
            "3/3 [==============================] - 20s 7s/step - loss: 0.6866 - accuracy: 0.4949 - val_loss: 0.7168 - val_accuracy: 0.5000\n",
            "Epoch 94/100\n",
            "3/3 [==============================] - 19s 6s/step - loss: 0.7279 - accuracy: 0.4504 - val_loss: 0.6975 - val_accuracy: 0.4000\n",
            "Epoch 95/100\n",
            "3/3 [==============================] - 19s 6s/step - loss: 0.7132 - accuracy: 0.4716 - val_loss: 0.6985 - val_accuracy: 0.4000\n",
            "Epoch 96/100\n",
            "3/3 [==============================] - 19s 6s/step - loss: 0.7298 - accuracy: 0.4354 - val_loss: 0.7073 - val_accuracy: 0.5000\n",
            "Epoch 97/100\n",
            "3/3 [==============================] - 18s 6s/step - loss: 0.7424 - accuracy: 0.4365 - val_loss: 0.6982 - val_accuracy: 0.5000\n",
            "Epoch 98/100\n",
            "3/3 [==============================] - 18s 6s/step - loss: 0.7212 - accuracy: 0.5401 - val_loss: 0.6872 - val_accuracy: 0.5000\n",
            "Epoch 99/100\n",
            "3/3 [==============================] - 18s 6s/step - loss: 0.7314 - accuracy: 0.5033 - val_loss: 0.7077 - val_accuracy: 0.4000\n",
            "Epoch 100/100\n",
            "3/3 [==============================] - 18s 6s/step - loss: 0.6908 - accuracy: 0.5033 - val_loss: 0.7039 - val_accuracy: 0.4000\n",
            "Fold 1, 100 epochs, 1988 sec\n"
          ],
          "name": "stdout"
        },
        {
          "output_type": "display_data",
          "data": {
            "image/png": "[encoded data removed]",
            "text/plain": [
              "<Figure size 576x360 with 1 Axes>"
            ]
          },
          "metadata": {
            "tags": [],
            "needs_background": "light"
          }
        },
        {
          "output_type": "stream",
          "text": [
            "accuracy: 80.00%\n",
            "\n",
            "1-way Cross Validation mean 80.00% (+/- 0.00%)\n",
            "Done\n"
          ],
          "name": "stdout"
        }
      ]
    },
    {
      "cell_type": "code",
      "metadata": {
        "id": "p4fh2GI8beMQ"
      },
      "source": [
        ""
      ],
      "execution_count": 70,
      "outputs": []
    }
  ]
}
