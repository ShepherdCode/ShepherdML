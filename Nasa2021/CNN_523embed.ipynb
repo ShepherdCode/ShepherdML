{
  "nbformat": 4,
  "nbformat_minor": 0,
  "metadata": {
    "accelerator": "GPU",
    "colab": {
      "name": "CNN_523embed.ipynb",
      "provenance": [],
      "collapsed_sections": [],
      "machine_shape": "hm"
    },
    "kernelspec": {
      "display_name": "Python 3",
      "language": "python",
      "name": "python3"
    },
    "language_info": {
      "codemirror_mode": {
        "name": "ipython",
        "version": 3
      },
      "file_extension": ".py",
      "mimetype": "text/x-python",
      "name": "python",
      "nbconvert_exporter": "python",
      "pygments_lexer": "ipython3",
      "version": "3.8.3"
    }
  },
  "cells": [
    {
      "cell_type": "markdown",
      "metadata": {
        "id": "view-in-github"
      },
      "source": [
        "<a href=\"https://colab.research.google.com/github/ShepherdCode/ShepherdML/blob/master/Nasa2021/CNN_523.ipynb\" target=\"_parent\"><img src=\"https://colab.research.google.com/assets/colab-badge.svg\" alt=\"Open In Colab\"/></a>"
      ]
    },
    {
      "cell_type": "markdown",
      "metadata": {
        "id": "ojm_6E9f9Kcf"
      },
      "source": [
        "# CNN 523\n",
        "\n",
        "1. Four layers of CNNS and MaxPooling\n",
        "2. Drop out at 0.2\n",
        "3. Variable filters and dense neurons\n",
        "\n",
        "\n",
        "\n",
        "\n",
        "\n",
        "\n",
        "\n",
        "\n",
        "\n",
        "\n",
        "\n",
        "\n"
      ]
    },
    {
      "cell_type": "code",
      "metadata": {
        "colab": {
          "base_uri": "https://localhost:8080/"
        },
        "id": "hh6XplUvC0j0",
        "outputId": "85ebe29f-2b6e-4ccd-a679-32cd22fe9573"
      },
      "source": [
        "#NC_FILENAME='ncRNA.tiny50.fasta'\n",
        "#PC_FILENAME='pcRNA.tiny50.fasta'\n",
        "#NC_FILENAME='ncRNA.gc34.processed.fasta'\n",
        "#PC_FILENAME='pcRNA.gc34.processed.fasta'\n",
        "NC_FILENAME='noncod_300K.fasta'\n",
        "PC_FILENAME='coding_300K.fasta'\n",
        "\n",
        "MODEL_FILE='JUNK1' \n",
        "DATAPATH=''\n",
        "\n",
        "try:\n",
        "    from google.colab import drive\n",
        "    IN_COLAB = True\n",
        "    PATH='/content/drive/'\n",
        "    drive.mount(PATH)\n",
        "    DATAPATH=PATH+'My Drive/data/'  # must end in \"/\"\n",
        "except:\n",
        "    IN_COLAB = False\n",
        "    DATAPATH='data/'  # must end in \"/\"\n",
        "NC_FILENAME = DATAPATH+NC_FILENAME\n",
        "PC_FILENAME = DATAPATH+PC_FILENAME\n",
        "MODEL_FILE=DATAPATH+MODEL_FILE\n",
        "\n",
        "EPOCHS=5\n",
        "SPLITS=5\n",
        "K=1\n",
        "VOCABULARY_SIZE=4**K+1   # e.g. K=3 => 64 DNA K-mers + 'NNN'\n",
        "EMBED_DIMEN=2\n",
        "FILTERS=32\n",
        "KERNEL=3\n",
        "NEURONS=24\n",
        "DROP=0.2\n",
        "MINLEN=200\n",
        "MAXLEN=1000\n",
        "DENSE_LEN = 1000\n",
        "ACT=\"tanh\""
      ],
      "execution_count": 1,
      "outputs": [
        {
          "output_type": "stream",
          "text": [
            "Mounted at /content/drive/\n"
          ],
          "name": "stdout"
        }
      ]
    },
    {
      "cell_type": "code",
      "metadata": {
        "colab": {
          "base_uri": "https://localhost:8080/"
        },
        "id": "e9TY3HK9ZklE",
        "outputId": "4339c731-67f8-4e66-8468-6509007af845"
      },
      "source": [
        "# Load our own tools\n",
        "# TO DO: don't go to GitHub if the file is already local.\n",
        "GITHUB = True\n",
        "if GITHUB:\n",
        "    #!pip install requests  # Uncomment this if necessary. Seems to be pre-installed.\n",
        "    import requests\n",
        "    r = requests.get('https://raw.githubusercontent.com/ShepherdCode/ShepherdML/master/Strings/tools_fasta.py')\n",
        "    with open('tools_fasta.py', 'w') as f:\n",
        "        f.write(r.text)\n",
        "    # TO DO: delete the file after import\n",
        "import tools_fasta as tools\n",
        "tools.yahoo()  # If this prints \"Yahoo!\" the the import was successful.\n",
        "\n",
        "TOOLS_CHANGED = False   # set to True to re-run with a new version of tools\n",
        "if TOOLS_CHANGED:\n",
        "  from importlib import reload \n",
        "  tools=reload(tools)\n",
        "  print(dir(tools))   # run this to see EVERYTHING in the tools module"
      ],
      "execution_count": 2,
      "outputs": [
        {
          "output_type": "stream",
          "text": [
            "Yahoo!\n"
          ],
          "name": "stdout"
        }
      ]
    },
    {
      "cell_type": "code",
      "metadata": {
        "id": "VQY7aTj29Kch"
      },
      "source": [
        "import numpy as np\n",
        "import pandas as pd\n",
        "import matplotlib.pyplot as plt\n",
        "from sklearn.model_selection import ShuffleSplit\n",
        "from sklearn.model_selection import cross_val_score\n",
        "from sklearn.model_selection import RepeatedKFold\n",
        "from sklearn.model_selection import StratifiedKFold\n",
        "from sklearn.preprocessing import OneHotEncoder\n",
        "import tensorflow as tf\n",
        "from tensorflow import keras\n",
        "import time\n",
        "dt='float32'\n",
        "tf.keras.backend.set_floatx(dt)"
      ],
      "execution_count": 3,
      "outputs": []
    },
    {
      "cell_type": "markdown",
      "metadata": {
        "id": "j7jcg6Wl9Kc2"
      },
      "source": [
        "Build model"
      ]
    },
    {
      "cell_type": "code",
      "metadata": {
        "id": "qLFNO1Xa9Kc3"
      },
      "source": [
        "def compile_model(model):\n",
        "    ## learn rate = initial_learning_rate * decay_rate ^ (step / decay_steps)\n",
        "    #adam_default_learn_rate = 0.001\n",
        "    #schedule = tf.keras.optimizers.schedules.ExponentialDecay(\n",
        "    #    initial_learning_rate = adam_default_learn_rate*10,\n",
        "    #    decay_steps=10000, decay_rate=0.99, staircase=True)\n",
        "    #alrd = tf.keras.optimizers.Adam(learning_rate=schedule)\n",
        "    #model.compile(loss=bc, optimizer=alrd, metrics=[\"accuracy\"])\n",
        "\n",
        "    print(\"COMPILE...\")\n",
        "    bc=tf.keras.losses.BinaryCrossentropy(from_logits=False)\n",
        "    model.compile(loss=bc, optimizer=\"adam\", metrics=[\"accuracy\"])\n",
        "    print(\"...COMPILED\")\n",
        "    return model\n",
        "\n",
        "def build_model():\n",
        "    SHAPE=(MAXLEN,5)  \n",
        "    SHAPE=(MAXLEN,4)  \n",
        "    elayer  = keras.layers.Embedding(4,4,input_length=1000)\n",
        "\n",
        "    clayer1 = keras.layers.Conv1D(FILTERS,KERNEL,activation=ACT,padding=\"same\",\n",
        "                                 input_shape=SHAPE)\n",
        "    clayer2 = keras.layers.Conv1D(FILTERS,KERNEL,activation=ACT,padding=\"same\")\n",
        "    clayer3 = keras.layers.MaxPooling1D(2)\n",
        "    clayer4 = keras.layers.Conv1D(FILTERS,KERNEL,activation=ACT,padding=\"same\")\n",
        "    clayer5 = keras.layers.Conv1D(FILTERS,KERNEL,activation=ACT,padding=\"same\")\n",
        "    clayer6 = keras.layers.MaxPooling1D(2)\n",
        "    clayer7 = keras.layers.Conv1D(FILTERS,KERNEL,activation=ACT,padding=\"same\")\n",
        "    clayer8 = keras.layers.Conv1D(FILTERS,KERNEL,activation=ACT,padding=\"same\")\n",
        "    clayer9 = keras.layers.MaxPooling1D(2)\n",
        "    clayer10 = keras.layers.Conv1D(FILTERS,KERNEL,activation=ACT,padding=\"same\")\n",
        "    clayer11 = keras.layers.Conv1D(FILTERS,KERNEL,activation=ACT,padding=\"same\")\n",
        "    clayer12 = keras.layers.MaxPooling1D(2)\n",
        "\n",
        "    clayer13 = keras.layers.Flatten()\n",
        "\n",
        "    dlayer1 = keras.layers.Dense(NEURONS, activation=ACT,dtype=dt, input_shape=[DENSE_LEN])\n",
        "    dlayer2 = keras.layers.Dropout(DROP)\n",
        "    dlayer3 = keras.layers.Dense(NEURONS, activation=ACT,dtype=dt)\n",
        "    dlayer4 = keras.layers.Dropout(DROP)\n",
        "    output_layer = keras.layers.Dense(1, activation=\"sigmoid\", dtype=dt)\n",
        "\n",
        "    cnn = keras.models.Sequential()\n",
        "    cnn.add(elayer)\n",
        "    cnn.add(clayer1)\n",
        "    cnn.add(clayer2)\n",
        "    cnn.add(clayer3)\n",
        "    cnn.add(clayer4)\n",
        "    cnn.add(clayer5)\n",
        "    cnn.add(clayer6)\n",
        "    cnn.add(clayer7)\n",
        "    cnn.add(clayer8)\n",
        "    cnn.add(clayer9)\n",
        "    cnn.add(clayer10)\n",
        "    cnn.add(clayer11)\n",
        "    cnn.add(clayer12)\n",
        "    cnn.add(clayer13)\n",
        "    cnn.add(dlayer1)\n",
        "    cnn.add(dlayer2)\n",
        "    cnn.add(dlayer3)\n",
        "    cnn.add(dlayer4)\n",
        "    cnn.add(output_layer)\n",
        "    mlpc = compile_model(cnn)\n",
        "    return mlpc"
      ],
      "execution_count": 4,
      "outputs": []
    },
    {
      "cell_type": "markdown",
      "metadata": {
        "id": "LdIS2utq9Kc9"
      },
      "source": [
        "Cross validation"
      ]
    },
    {
      "cell_type": "code",
      "metadata": {
        "id": "LZpxtbyaa_2Y"
      },
      "source": [
        "class CustomCallback(keras.callbacks.Callback):\n",
        "    def on_train_begin(self, logs=None):\n",
        "        keys = list(logs.keys())\n",
        "        print(\"Starting training; got log keys: {}\".format(keys))\n",
        "batch_callback = CustomCallback()"
      ],
      "execution_count": 5,
      "outputs": []
    },
    {
      "cell_type": "code",
      "metadata": {
        "id": "BVo4tbB_9Kc-"
      },
      "source": [
        "def do_cross_validation(X,y,given_model):\n",
        "    cv_scores = []\n",
        "    fold=0\n",
        "    splitter = ShuffleSplit(n_splits=SPLITS, test_size=0.1, random_state=37863)\n",
        "    for train_index,valid_index in splitter.split(X):\n",
        "        fold += 1\n",
        "        X_train=X[train_index] # use iloc[] for dataframe\n",
        "        y_train=y[train_index]\n",
        "        X_valid=X[valid_index]\n",
        "        y_valid=y[valid_index]        \n",
        "        # Avoid continually improving the same model.\n",
        "        model = compile_model(keras.models.clone_model(given_model))\n",
        "        bestname=MODEL_FILE+\".cv.\"+str(fold)+\".best\"\n",
        "        mycallbacks = [keras.callbacks.ModelCheckpoint(\n",
        "            filepath=bestname, save_best_only=True, \n",
        "            monitor='val_accuracy', mode='max')]   \n",
        "        print(\"FIT\")\n",
        "        start_time=time.time()\n",
        "        history=model.fit(X_train, y_train, \n",
        "                epochs=EPOCHS, verbose=1, callbacks=mycallbacks,\n",
        "                validation_data=(X_valid,y_valid))\n",
        "        end_time=time.time()\n",
        "        elapsed_time=(end_time-start_time)                        \n",
        "        print(\"Fold %d, %d epochs, %d sec\"%(fold,EPOCHS,elapsed_time))\n",
        "        pd.DataFrame(history.history).plot(figsize=(8,5))\n",
        "        plt.grid(True)\n",
        "        plt.gca().set_ylim(0,1)\n",
        "        plt.show()\n",
        "        best_model=keras.models.load_model(bestname)\n",
        "        scores = best_model.evaluate(X_valid, y_valid, verbose=0)\n",
        "        print(\"%s: %.2f%%\" % (best_model.metrics_names[1], scores[1]*100))\n",
        "        cv_scores.append(scores[1] * 100)  \n",
        "    print()\n",
        "    print(\"%d-way Cross Validation mean %.2f%% (+/- %.2f%%)\" % (fold, np.mean(cv_scores), np.std(cv_scores)))"
      ],
      "execution_count": 6,
      "outputs": []
    },
    {
      "cell_type": "markdown",
      "metadata": {
        "id": "qd3Wj_vI9KdP"
      },
      "source": [
        "## Train on RNA lengths 200-1Kb"
      ]
    },
    {
      "cell_type": "code",
      "metadata": {
        "colab": {
          "base_uri": "https://localhost:8080/"
        },
        "id": "G1HuSs8ZbeL4",
        "outputId": "20774eaf-3622-448c-f6f4-8d86b9643cfe"
      },
      "source": [
        "print (\"Compile the model\")\n",
        "model=build_model()\n",
        "print (\"Summarize the model\")\n",
        "print(model.summary())  # Print this only once\n",
        "#model.save(MODEL_FILE+'.model')\n"
      ],
      "execution_count": 7,
      "outputs": [
        {
          "output_type": "stream",
          "text": [
            "Compile the model\n",
            "COMPILE...\n",
            "...COMPILED\n",
            "Summarize the model\n",
            "Model: \"sequential\"\n",
            "_________________________________________________________________\n",
            "Layer (type)                 Output Shape              Param #   \n",
            "=================================================================\n",
            "embedding (Embedding)        (None, 1000, 4)           16        \n",
            "_________________________________________________________________\n",
            "conv1d (Conv1D)              (None, 1000, 32)          416       \n",
            "_________________________________________________________________\n",
            "conv1d_1 (Conv1D)            (None, 1000, 32)          3104      \n",
            "_________________________________________________________________\n",
            "max_pooling1d (MaxPooling1D) (None, 500, 32)           0         \n",
            "_________________________________________________________________\n",
            "conv1d_2 (Conv1D)            (None, 500, 32)           3104      \n",
            "_________________________________________________________________\n",
            "conv1d_3 (Conv1D)            (None, 500, 32)           3104      \n",
            "_________________________________________________________________\n",
            "max_pooling1d_1 (MaxPooling1 (None, 250, 32)           0         \n",
            "_________________________________________________________________\n",
            "conv1d_4 (Conv1D)            (None, 250, 32)           3104      \n",
            "_________________________________________________________________\n",
            "conv1d_5 (Conv1D)            (None, 250, 32)           3104      \n",
            "_________________________________________________________________\n",
            "max_pooling1d_2 (MaxPooling1 (None, 125, 32)           0         \n",
            "_________________________________________________________________\n",
            "conv1d_6 (Conv1D)            (None, 125, 32)           3104      \n",
            "_________________________________________________________________\n",
            "conv1d_7 (Conv1D)            (None, 125, 32)           3104      \n",
            "_________________________________________________________________\n",
            "max_pooling1d_3 (MaxPooling1 (None, 62, 32)            0         \n",
            "_________________________________________________________________\n",
            "flatten (Flatten)            (None, 1984)              0         \n",
            "_________________________________________________________________\n",
            "dense (Dense)                (None, 24)                47640     \n",
            "_________________________________________________________________\n",
            "dropout (Dropout)            (None, 24)                0         \n",
            "_________________________________________________________________\n",
            "dense_1 (Dense)              (None, 24)                600       \n",
            "_________________________________________________________________\n",
            "dropout_1 (Dropout)          (None, 24)                0         \n",
            "_________________________________________________________________\n",
            "dense_2 (Dense)              (None, 1)                 25        \n",
            "=================================================================\n",
            "Total params: 70,425\n",
            "Trainable params: 70,425\n",
            "Non-trainable params: 0\n",
            "_________________________________________________________________\n",
            "None\n"
          ],
          "name": "stdout"
        }
      ]
    },
    {
      "cell_type": "code",
      "metadata": {
        "colab": {
          "base_uri": "https://localhost:8080/"
        },
        "id": "f8fNo6sn9KdH",
        "outputId": "1608c6ff-0a66-4d47-8cdf-c7b58924a700"
      },
      "source": [
        "#MINLEN=200\n",
        "#MAXLEN=2000\n",
        "FREEMEM=True\n",
        "print(\"Load data from files.\")\n",
        "nc_seq=tools.load_fasta(NC_FILENAME,0)\n",
        "pc_seq=tools.load_fasta(PC_FILENAME,1)\n",
        "train_set=pd.concat((nc_seq,pc_seq),axis=0)\n",
        "print(\"Ready: train_set\")\n",
        "subset=tools.make_slice(train_set,MINLEN,MAXLEN)# One array to two: X and y\n",
        "if FREEMEM:\n",
        "    nc_seq=None\n",
        "    pc_seq=None\n",
        "    train_set=None\n",
        "(X1,y_train)=tools.separate_X_and_y(subset)\n",
        "# X1 is pandas df of (\"list\" of one sequence)\n",
        "X2=X1.to_numpy()  # numpy ndarray of (\"list\" of one sequence)\n",
        "X3=[elem[0] for elem in X2]  # numpy ndarray of ACGT-str\n",
        "# X3? It might be faster to use int-array than char-array. Come back to this.\n",
        "X4=X3  # no-op\n",
        "print(\"X4\",type(X4))\n",
        "#print(X4[0])\n",
        "if FREEMEM:\n",
        "    X1=None\n",
        "    X2=None\n",
        "    X3=None\n"
      ],
      "execution_count": 8,
      "outputs": [
        {
          "output_type": "stream",
          "text": [
            "Load data from files.\n",
            "Ready: train_set\n",
            "X4 <class 'list'>\n"
          ],
          "name": "stdout"
        }
      ]
    },
    {
      "cell_type": "code",
      "metadata": {
        "colab": {
          "base_uri": "https://localhost:8080/"
        },
        "id": "sfvgDZR1a_2j",
        "outputId": "6ec8ac62-27ae-4464-b874-a0f60a9948a0"
      },
      "source": [
        "X5=[]\n",
        "dna_to_int = {'A':0,'C':1,'G':2,'T':3}\n",
        "for x in X4:\n",
        "    a=[]\n",
        "    for c in x:\n",
        "        i = dna_to_int[c]\n",
        "        a.append(i)\n",
        "    X5.append(a)\n",
        "X5=np.asarray(X5)\n",
        "###X5= np.asarray([list(x) for x in X4])  # SLOW\n",
        "print(\"X5\",type(X5))\n",
        "print(X5.shape)\n",
        "if FREEMEM:\n",
        "    X4=None\n",
        "##encoder = OneHotEncoder(sparse=False)\n",
        "##encoder.fit(X5)\n",
        "##print(\"categories:\",encoder.categories)\n",
        "##X_train=encoder.transform(X5).reshape(-1,1000,4)\n",
        "X_train=X5\n",
        "if FREEMEM:\n",
        "    X5=None\n",
        "print(\"X_train\",type(X_train))\n",
        "y_train=y_train.to_numpy()\n",
        "print(X_train.shape)\n",
        "print(X_train[0].shape)\n",
        "print(X_train[0])"
      ],
      "execution_count": 9,
      "outputs": [
        {
          "output_type": "stream",
          "text": [
            "X5 <class 'numpy.ndarray'>\n",
            "(600000, 1000)\n",
            "X_train <class 'numpy.ndarray'>\n",
            "(600000, 1000)\n",
            "(1000,)\n",
            "[3 1 0 2 1 2 1 1 3 1 2 1 2 0 1 0 3 0 2 3 3 2 2 0 0 1 0 1 1 1 1 0 1 3 2 1 0\n",
            " 0 2 2 2 0 2 0 3 3 2 2 2 0 2 2 0 3 1 0 3 0 2 3 1 3 2 3 3 2 0 1 2 2 1 0 2 2\n",
            " 0 2 0 2 2 1 2 2 2 1 2 3 0 3 0 3 1 0 1 0 3 3 1 0 3 0 3 0 3 0 1 2 0 2 2 1 3\n",
            " 2 0 1 2 0 1 3 0 2 2 2 1 0 1 3 1 0 3 0 1 0 1 3 0 1 2 0 1 3 2 2 1 3 3 3 1 2\n",
            " 0 2 0 3 0 0 0 1 3 0 3 1 1 0 2 0 0 3 2 1 3 0 1 3 0 1 2 1 3 2 2 2 0 2 2 1 2\n",
            " 2 2 3 0 0 3 2 2 1 3 2 2 2 1 0 0 3 1 1 0 2 0 3 1 0 0 0 3 2 2 3 1 1 1 2 1 1\n",
            " 1 3 1 2 0 0 3 3 0 0 2 3 1 2 0 1 2 3 1 0 3 0 0 1 1 3 0 1 1 0 0 0 3 0 3 3 1\n",
            " 1 0 0 1 3 2 1 3 0 2 3 1 3 3 1 0 2 3 1 0 1 1 3 2 0 0 3 1 2 2 2 0 1 0 0 3 2\n",
            " 1 1 0 1 1 1 3 2 3 0 0 2 3 1 2 1 0 1 2 3 0 1 2 2 2 3 2 3 3 2 2 1 2 0 0 3 2\n",
            " 1 3 2 2 2 1 0 2 2 2 0 2 0 0 3 2 2 0 3 2 1 2 3 0 1 3 0 2 3 1 3 0 1 2 3 3 2\n",
            " 2 0 0 1 1 1 2 2 3 3 3 1 2 3 0 3 2 0 2 2 0 2 2 2 0 3 2 1 0 3 1 1 3 2 2 3 3\n",
            " 0 3 1 3 1 1 1 2 2 3 2 2 2 0 0 2 3 1 2 0 0 3 1 1 2 2 0 3 2 2 1 3 1 3 2 3 2\n",
            " 0 2 2 0 0 1 1 3 2 3 3 3 1 2 2 3 1 0 2 0 0 1 3 3 3 3 3 0 1 1 2 0 3 3 1 3 1\n",
            " 0 3 0 1 0 0 1 3 1 1 3 0 1 2 1 0 3 3 0 2 2 2 3 1 1 0 3 2 1 2 0 3 2 0 0 3 2\n",
            " 3 3 2 3 0 3 2 3 0 3 1 3 0 2 0 2 2 2 0 0 1 2 2 0 0 0 0 0 2 1 3 2 0 0 3 3 1\n",
            " 0 1 0 0 1 3 3 0 2 2 3 3 0 2 2 0 2 2 2 0 2 1 3 0 2 2 3 3 3 2 1 2 0 1 2 2 3\n",
            " 0 3 1 2 2 0 3 3 1 3 3 3 1 2 2 2 3 0 1 0 1 3 1 1 2 0 1 1 1 3 2 1 0 2 3 0 3\n",
            " 0 3 3 0 3 2 0 2 0 3 2 3 2 0 1 0 2 0 0 3 2 3 0 3 2 0 2 1 3 0 1 0 1 0 3 1 0\n",
            " 3 2 2 3 1 1 2 3 1 2 2 2 0 3 2 0 0 3 2 3 0 0 0 3 1 3 3 0 0 0 3 1 3 1 3 2 1\n",
            " 1 0 2 2 2 1 3 3 2 2 0 2 3 0 1 1 3 3 3 0 0 2 1 0 1 3 2 3 0 2 0 0 0 3 2 0 3\n",
            " 2 2 0 3 2 3 0 2 3 3 2 1 2 1 2 1 2 2 2 2 1 3 2 2 1 2 0 3 3 0 2 1 2 3 2 0 3\n",
            " 2 1 0 1 2 0 3 0 0 1 2 0 1 2 1 2 3 3 0 3 0 1 0 3 2 1 3 1 0 0 1 0 2 1 3 1 3\n",
            " 0 1 0 0 2 0 2 3 1 2 2 3 3 2 0 2 1 1 0 3 2 3 3 1 0 2 3 0 2 0 0 1 1 1 3 2 3\n",
            " 0 1 2 2 3 3 2 1 3 3 1 0 1 2 2 0 2 0 3 2 2 0 1 0 3 2 3 3 1 3 0 2 3 2 2 2 0\n",
            " 3 3 1 3 3 1 0 1 1 0 2 3 0 3 3 1 1 0 3 2 3 1 2 3 1 1 0 1 3 2 2 2 3 0 1 1 0\n",
            " 1 1 3 1 1 1 0 0 2 2 3 0 1 1 0 2 0 1 1 2 2 0 0 3 3 0 1 2 2 1 1 3 3 3 3 2 1\n",
            " 0 1 1 3 0 3 1 3 0 3 3 3 3 1 0 1 3 3 2 2 0 0 0 3 0 3 0 1 2 1 1 0 0 1 0 1 1\n",
            " 2]\n"
          ],
          "name": "stdout"
        }
      ]
    },
    {
      "cell_type": "code",
      "metadata": {
        "colab": {
          "base_uri": "https://localhost:8080/",
          "height": 1000
        },
        "id": "mQ8eW5Rg9KdQ",
        "outputId": "804f8a86-5797-41bc-82f6-ce36474aee0a"
      },
      "source": [
        "print (\"Cross validation\")\n",
        "do_cross_validation(X_train,y_train,model)  \n",
        "print (\"Done\")"
      ],
      "execution_count": 10,
      "outputs": [
        {
          "output_type": "stream",
          "text": [
            "Cross validation\n",
            "COMPILE...\n",
            "...COMPILED\n",
            "FIT\n",
            "Epoch 1/5\n",
            "16875/16875 [==============================] - 124s 7ms/step - loss: 0.2320 - accuracy: 0.8775 - val_loss: 0.0225 - val_accuracy: 0.9943\n",
            "INFO:tensorflow:Assets written to: /content/drive/My Drive/data/JUNK1.cv.1.best/assets\n",
            "Epoch 2/5\n",
            "16875/16875 [==============================] - 118s 7ms/step - loss: 0.0262 - accuracy: 0.9932 - val_loss: 0.0151 - val_accuracy: 0.9962\n",
            "INFO:tensorflow:Assets written to: /content/drive/My Drive/data/JUNK1.cv.1.best/assets\n",
            "Epoch 3/5\n",
            "16875/16875 [==============================] - 118s 7ms/step - loss: 0.0220 - accuracy: 0.9946 - val_loss: 0.0164 - val_accuracy: 0.9959\n",
            "Epoch 4/5\n",
            "16875/16875 [==============================] - 117s 7ms/step - loss: 0.0207 - accuracy: 0.9948 - val_loss: 0.0142 - val_accuracy: 0.9965\n",
            "INFO:tensorflow:Assets written to: /content/drive/My Drive/data/JUNK1.cv.1.best/assets\n",
            "Epoch 5/5\n",
            "16875/16875 [==============================] - 117s 7ms/step - loss: 0.0207 - accuracy: 0.9949 - val_loss: 0.0133 - val_accuracy: 0.9969\n",
            "INFO:tensorflow:Assets written to: /content/drive/My Drive/data/JUNK1.cv.1.best/assets\n",
            "Fold 1, 5 epochs, 605 sec\n"
          ],
          "name": "stdout"
        },
        {
          "output_type": "display_data",
          "data": {
            "image/png": "[encoded data removed]",
            "text/plain": [
              "<Figure size 576x360 with 1 Axes>"
            ]
          },
          "metadata": {
            "tags": [],
            "needs_background": "light"
          }
        },
        {
          "output_type": "stream",
          "text": [
            "accuracy: 99.69%\n",
            "COMPILE...\n",
            "...COMPILED\n",
            "FIT\n",
            "Epoch 1/5\n",
            "16875/16875 [==============================] - 117s 7ms/step - loss: 0.3188 - accuracy: 0.7986 - val_loss: 0.0174 - val_accuracy: 0.9955\n",
            "INFO:tensorflow:Assets written to: /content/drive/My Drive/data/JUNK1.cv.2.best/assets\n",
            "Epoch 2/5\n",
            "16875/16875 [==============================] - 117s 7ms/step - loss: 0.0296 - accuracy: 0.9921 - val_loss: 0.0163 - val_accuracy: 0.9959\n",
            "INFO:tensorflow:Assets written to: /content/drive/My Drive/data/JUNK1.cv.2.best/assets\n",
            "Epoch 3/5\n",
            "16875/16875 [==============================] - 117s 7ms/step - loss: 0.0273 - accuracy: 0.9931 - val_loss: 0.0554 - val_accuracy: 0.9858\n",
            "Epoch 4/5\n",
            "16875/16875 [==============================] - 118s 7ms/step - loss: 0.0468 - accuracy: 0.9878 - val_loss: 0.0117 - val_accuracy: 0.9970\n",
            "INFO:tensorflow:Assets written to: /content/drive/My Drive/data/JUNK1.cv.2.best/assets\n",
            "Epoch 5/5\n",
            "16875/16875 [==============================] - 117s 7ms/step - loss: 0.0208 - accuracy: 0.9948 - val_loss: 0.0115 - val_accuracy: 0.9971\n",
            "INFO:tensorflow:Assets written to: /content/drive/My Drive/data/JUNK1.cv.2.best/assets\n",
            "Fold 2, 5 epochs, 598 sec\n"
          ],
          "name": "stdout"
        },
        {
          "output_type": "display_data",
          "data": {
            "image/png": "[encoded data removed]",
            "text/plain": [
              "<Figure size 576x360 with 1 Axes>"
            ]
          },
          "metadata": {
            "tags": [],
            "needs_background": "light"
          }
        },
        {
          "output_type": "stream",
          "text": [
            "accuracy: 99.71%\n",
            "COMPILE...\n",
            "...COMPILED\n",
            "FIT\n",
            "Epoch 1/5\n",
            "16875/16875 [==============================] - 119s 7ms/step - loss: 0.2593 - accuracy: 0.8515 - val_loss: 0.0171 - val_accuracy: 0.9958\n",
            "INFO:tensorflow:Assets written to: /content/drive/My Drive/data/JUNK1.cv.3.best/assets\n",
            "Epoch 2/5\n",
            "16875/16875 [==============================] - 117s 7ms/step - loss: 0.0295 - accuracy: 0.9924 - val_loss: 0.0139 - val_accuracy: 0.9965\n",
            "INFO:tensorflow:Assets written to: /content/drive/My Drive/data/JUNK1.cv.3.best/assets\n",
            "Epoch 3/5\n",
            "16875/16875 [==============================] - 116s 7ms/step - loss: 0.0224 - accuracy: 0.9941 - val_loss: 0.0186 - val_accuracy: 0.9958\n",
            "Epoch 4/5\n",
            "16875/16875 [==============================] - 116s 7ms/step - loss: 0.0208 - accuracy: 0.9949 - val_loss: 0.1716 - val_accuracy: 0.9616\n",
            "Epoch 5/5\n",
            "16875/16875 [==============================] - 117s 7ms/step - loss: 0.0236 - accuracy: 0.9941 - val_loss: 0.0491 - val_accuracy: 0.9884\n",
            "Fold 3, 5 epochs, 591 sec\n"
          ],
          "name": "stdout"
        },
        {
          "output_type": "display_data",
          "data": {
            "image/png": "[encoded data removed]",
            "text/plain": [
              "<Figure size 576x360 with 1 Axes>"
            ]
          },
          "metadata": {
            "tags": [],
            "needs_background": "light"
          }
        },
        {
          "output_type": "stream",
          "text": [
            "accuracy: 99.65%\n",
            "COMPILE...\n",
            "...COMPILED\n",
            "FIT\n",
            "Epoch 1/5\n",
            "16875/16875 [==============================] - 118s 7ms/step - loss: 0.4825 - accuracy: 0.6697 - val_loss: 0.0152 - val_accuracy: 0.9960\n",
            "INFO:tensorflow:Assets written to: /content/drive/My Drive/data/JUNK1.cv.4.best/assets\n",
            "Epoch 2/5\n",
            "16875/16875 [==============================] - 117s 7ms/step - loss: 0.0303 - accuracy: 0.9920 - val_loss: 0.0189 - val_accuracy: 0.9954\n",
            "Epoch 3/5\n",
            "16875/16875 [==============================] - 116s 7ms/step - loss: 0.0242 - accuracy: 0.9938 - val_loss: 0.0175 - val_accuracy: 0.9955\n",
            "Epoch 4/5\n",
            "16875/16875 [==============================] - 116s 7ms/step - loss: 0.0202 - accuracy: 0.9950 - val_loss: 0.0115 - val_accuracy: 0.9971\n",
            "INFO:tensorflow:Assets written to: /content/drive/My Drive/data/JUNK1.cv.4.best/assets\n",
            "Epoch 5/5\n",
            "16875/16875 [==============================] - 119s 7ms/step - loss: 0.0525 - accuracy: 0.9825 - val_loss: 0.0150 - val_accuracy: 0.9967\n",
            "Fold 4, 5 epochs, 592 sec\n"
          ],
          "name": "stdout"
        },
        {
          "output_type": "display_data",
          "data": {
            "image/png": "[encoded data removed]",
            "text/plain": [
              "<Figure size 576x360 with 1 Axes>"
            ]
          },
          "metadata": {
            "tags": [],
            "needs_background": "light"
          }
        },
        {
          "output_type": "stream",
          "text": [
            "accuracy: 99.71%\n",
            "COMPILE...\n",
            "...COMPILED\n",
            "FIT\n",
            "Epoch 1/5\n",
            "16875/16875 [==============================] - 128s 7ms/step - loss: 0.2581 - accuracy: 0.8469 - val_loss: 0.0164 - val_accuracy: 0.9958\n",
            "INFO:tensorflow:Assets written to: /content/drive/My Drive/data/JUNK1.cv.5.best/assets\n",
            "Epoch 2/5\n",
            "16875/16875 [==============================] - 126s 7ms/step - loss: 0.0296 - accuracy: 0.9924 - val_loss: 0.0112 - val_accuracy: 0.9968\n",
            "INFO:tensorflow:Assets written to: /content/drive/My Drive/data/JUNK1.cv.5.best/assets\n",
            "Epoch 3/5\n",
            "16875/16875 [==============================] - 124s 7ms/step - loss: 0.0263 - accuracy: 0.9933 - val_loss: 0.0130 - val_accuracy: 0.9967\n",
            "Epoch 4/5\n",
            "16875/16875 [==============================] - 124s 7ms/step - loss: 0.0224 - accuracy: 0.9943 - val_loss: 0.0141 - val_accuracy: 0.9967\n",
            "Epoch 5/5\n",
            "16875/16875 [==============================] - 125s 7ms/step - loss: 0.0292 - accuracy: 0.9924 - val_loss: 0.0127 - val_accuracy: 0.9966\n",
            "Fold 5, 5 epochs, 635 sec\n"
          ],
          "name": "stdout"
        },
        {
          "output_type": "display_data",
          "data": {
            "image/png": "[encoded data removed]",
            "text/plain": [
              "<Figure size 576x360 with 1 Axes>"
            ]
          },
          "metadata": {
            "tags": [],
            "needs_background": "light"
          }
        },
        {
          "output_type": "stream",
          "text": [
            "accuracy: 99.68%\n",
            "\n",
            "5-way Cross Validation mean 99.69% (+/- 0.02%)\n",
            "Done\n"
          ],
          "name": "stdout"
        }
      ]
    },
    {
      "cell_type": "code",
      "metadata": {
        "id": "p4fh2GI8beMQ"
      },
      "source": [
        ""
      ],
      "execution_count": 10,
      "outputs": []
    }
  ]
}