{
  "nbformat": 4,
  "nbformat_minor": 0,
  "metadata": {
    "accelerator": "GPU",
    "colab": {
      "name": "GRU_501.ipynb",
      "provenance": [],
      "collapsed_sections": [],
      "include_colab_link": true
    },
    "kernelspec": {
      "display_name": "Python 3",
      "language": "python",
      "name": "python3"
    },
    "language_info": {
      "codemirror_mode": {
        "name": "ipython",
        "version": 3
      },
      "file_extension": ".py",
      "mimetype": "text/x-python",
      "name": "python",
      "nbconvert_exporter": "python",
      "pygments_lexer": "ipython3",
      "version": "3.8.3"
    }
  },
  "cells": [
    {
      "cell_type": "markdown",
      "metadata": {
        "id": "view-in-github",
        "colab_type": "text"
      },
      "source": [
        "<a href=\"https://colab.research.google.com/github/ShepherdCode/ShepherdML/blob/master/Nasa2021/GRU_101.ipynb\" target=\"_parent\"><img src=\"https://colab.research.google.com/assets/colab-badge.svg\" alt=\"Open In Colab\"/></a>"
      ]
    },
    {
      "cell_type": "markdown",
      "metadata": {
        "id": "ojm_6E9f9Kcf"
      },
      "source": [
        "# GRU 501\n",
        "LSTM 403 modified to use GRU layers "
      ]
    },
    {
      "cell_type": "code",
      "metadata": {
        "colab": {
          "base_uri": "https://localhost:8080/"
        },
        "id": "hh6XplUvC0j0",
        "outputId": "e84895b8-8e89-474b-b041-1e4b803c8351"
      },
      "source": [
        "NC_FILENAME='ncRNA.gc34.processed.fasta'\n",
        "PC_FILENAME='pcRNA.gc34.processed.fasta'\n",
        "MODEL_FILE='GRU501'   # load not save!\n",
        "DATAPATH=''\n",
        "\n",
        "try:\n",
        "    from google.colab import drive\n",
        "    IN_COLAB = True\n",
        "    PATH='/content/drive/'\n",
        "    drive.mount(PATH)\n",
        "    DATAPATH=PATH+'My Drive/data/'  # must end in \"/\"\n",
        "except:\n",
        "    IN_COLAB = False\n",
        "    DATAPATH='data/'  # must end in \"/\"\n",
        "NC_FILENAME = DATAPATH+NC_FILENAME\n",
        "PC_FILENAME = DATAPATH+PC_FILENAME\n",
        "MODEL_FILE=DATAPATH+MODEL_FILE\n",
        "\n",
        "EPOCHS=100\n",
        "SPLITS=1\n",
        "K=3\n",
        "VOCABULARY_SIZE=4**K+1   # e.g. K=3 => 64 DNA K-mers + 'NNN'\n",
        "EMBED_DIMEN=16\n",
        "NEURONS=16\n",
        "DROP=0.4\n",
        "ACT=\"tanh\""
      ],
      "execution_count": 5,
      "outputs": [
        {
          "output_type": "stream",
          "text": [
            "Drive already mounted at /content/drive/; to attempt to forcibly remount, call drive.mount(\"/content/drive/\", force_remount=True).\n"
          ],
          "name": "stdout"
        }
      ]
    },
    {
      "cell_type": "code",
      "metadata": {
        "colab": {
          "base_uri": "https://localhost:8080/"
        },
        "id": "e9TY3HK9ZklE",
        "outputId": "f5fffb68-2bf2-4be8-e464-6b8c4d822cb4"
      },
      "source": [
        "# Load our own tools\n",
        "GITHUB = True\n",
        "if GITHUB:\n",
        "    #!pip install requests  # Uncomment this if necessary. Seems to be pre-installed.\n",
        "    import requests\n",
        "    r = requests.get('https://raw.githubusercontent.com/ShepherdCode/ShepherdML/master/Strings/tools_fasta.py')\n",
        "    with open('tools_fasta.py', 'w') as f:\n",
        "        f.write(r.text)\n",
        "    # TO DO: delete the file after import\n",
        "import tools_fasta as tools\n",
        "tools.yahoo()  # If this prints \"Yahoo!\" the the import was successful.\n",
        "\n",
        "TOOLS_CHANGED = False   # set to True to re-run with a new version of tools\n",
        "if TOOLS_CHANGED:\n",
        "  from importlib import reload \n",
        "  tools=reload(tools)\n",
        "  print(dir(tools))   # run this to see EVERYTHING in the tools module"
      ],
      "execution_count": 6,
      "outputs": [
        {
          "output_type": "stream",
          "text": [
            "Yahoo!\n"
          ],
          "name": "stdout"
        }
      ]
    },
    {
      "cell_type": "code",
      "metadata": {
        "id": "VQY7aTj29Kch"
      },
      "source": [
        "import numpy as np\n",
        "import pandas as pd\n",
        "import matplotlib.pyplot as plt\n",
        "from sklearn.model_selection import ShuffleSplit\n",
        "from sklearn.model_selection import cross_val_score\n",
        "from sklearn.model_selection import RepeatedKFold\n",
        "from sklearn.model_selection import StratifiedKFold\n",
        "import tensorflow as tf\n",
        "from tensorflow import keras\n",
        "#from keras.wrappers.scikit_learn import KerasRegressor\n",
        "from keras.models import Sequential\n",
        "from keras.layers import Bidirectional\n",
        "from keras.layers import GRU\n",
        "from keras.layers import Dense\n",
        "from keras.layers import LayerNormalization\n",
        "import time\n",
        "dt='float32'\n",
        "tf.keras.backend.set_floatx(dt)"
      ],
      "execution_count": 7,
      "outputs": []
    },
    {
      "cell_type": "markdown",
      "metadata": {
        "id": "j7jcg6Wl9Kc2"
      },
      "source": [
        "Build model"
      ]
    },
    {
      "cell_type": "code",
      "metadata": {
        "id": "qLFNO1Xa9Kc3"
      },
      "source": [
        "def compile_model(model):\n",
        "    adam_default_learn_rate = 0.001\n",
        "    schedule = tf.keras.optimizers.schedules.ExponentialDecay(\n",
        "        initial_learning_rate = adam_default_learn_rate*10,\n",
        "        #decay_steps=100000, decay_rate=0.96, staircase=True)\n",
        "        decay_steps=10000, decay_rate=0.99, staircase=True)\n",
        "    # learn rate = initial_learning_rate * decay_rate ^ (step / decay_steps)\n",
        "    alrd = tf.keras.optimizers.Adam(learning_rate=schedule)\n",
        "    bc=tf.keras.losses.BinaryCrossentropy(from_logits=False)\n",
        "    print(\"COMPILE...\")\n",
        "    #model.compile(loss=bc, optimizer=alrd, metrics=[\"accuracy\"])\n",
        "    model.compile(loss=bc, optimizer=\"adam\", metrics=[\"accuracy\"])\n",
        "    print(\"...COMPILED\")\n",
        "    return model\n",
        "\n",
        "def build_model():\n",
        "    embed_layer  = keras.layers.Embedding(\n",
        "        #VOCABULARY_SIZE, EMBED_DIMEN, input_length=1000, input_length=1000, mask_zero=True)\n",
        "        #input_dim=[None,VOCABULARY_SIZE], output_dim=EMBED_DIMEN, mask_zero=True)\n",
        "        input_dim=VOCABULARY_SIZE, output_dim=EMBED_DIMEN, mask_zero=True)\n",
        "    rnn1_layer = keras.layers.GRU(NEURONS, return_sequences=True, \n",
        "          input_shape=[1000,EMBED_DIMEN], activation=ACT, dropout=DROP)\n",
        "    rnn2_layer = keras.layers.GRU(NEURONS, return_sequences=False, \n",
        "        activation=ACT, dropout=DROP)\n",
        "    dense1_layer = keras.layers.Dense(NEURONS, activation=ACT,dtype=dt)\n",
        "    drop1_layer = keras.layers.Dropout(DROP)\n",
        "    dense2_layer = keras.layers.Dense(NEURONS, activation=ACT,dtype=dt)\n",
        "    drop2_layer = keras.layers.Dropout(DROP)\n",
        "    output_layer = keras.layers.Dense(1, activation=\"sigmoid\", dtype=dt)\n",
        "    mlp = keras.models.Sequential()\n",
        "    mlp.add(embed_layer)\n",
        "    mlp.add(rnn1_layer)\n",
        "    mlp.add(rnn2_layer)\n",
        "    mlp.add(dense1_layer)\n",
        "    mlp.add(drop1_layer)\n",
        "    mlp.add(dense2_layer)\n",
        "    mlp.add(drop2_layer)\n",
        "    mlp.add(output_layer)\n",
        "    mlpc = compile_model(mlp)\n",
        "    return mlpc"
      ],
      "execution_count": 8,
      "outputs": []
    },
    {
      "cell_type": "markdown",
      "metadata": {
        "id": "WV6k-xOm9Kcn"
      },
      "source": [
        "Partition sequences"
      ]
    },
    {
      "cell_type": "code",
      "metadata": {
        "id": "1I-O_qzw9Kco"
      },
      "source": [
        "def make_slice(data_set,min_len,max_len):\n",
        "    slice = data_set.query('seqlen <= '+str(max_len)+' & seqlen>= '+str(min_len))\n",
        "    return slice"
      ],
      "execution_count": 9,
      "outputs": []
    },
    {
      "cell_type": "markdown",
      "metadata": {
        "id": "LdIS2utq9Kc9"
      },
      "source": [
        "Cross validation"
      ]
    },
    {
      "cell_type": "code",
      "metadata": {
        "id": "BVo4tbB_9Kc-"
      },
      "source": [
        "def do_cross_validation(X,y,given_model):\n",
        "    cv_scores = []\n",
        "    fold=0\n",
        "    splitter = ShuffleSplit(n_splits=SPLITS, test_size=0.1, random_state=37863)\n",
        "    for train_index,valid_index in splitter.split(X):\n",
        "        fold += 1\n",
        "        X_train=X[train_index] # use iloc[] for dataframe\n",
        "        y_train=y[train_index]\n",
        "        X_valid=X[valid_index]\n",
        "        y_valid=y[valid_index]        \n",
        "        # Avoid continually improving the same model.\n",
        "        model = compile_model(keras.models.clone_model(given_model))\n",
        "        bestname=MODEL_FILE+\".cv.\"+str(fold)+\".best\"\n",
        "        mycallbacks = [keras.callbacks.ModelCheckpoint(\n",
        "            filepath=bestname, save_best_only=True, \n",
        "            monitor='val_accuracy', mode='max')]   \n",
        "        print(\"FIT\")\n",
        "        start_time=time.time()\n",
        "        history=model.fit(X_train, y_train, # batch_size=10, default=32 works nicely\n",
        "                epochs=EPOCHS, verbose=1,  # verbose=1 for ascii art, verbose=0 for none\n",
        "                callbacks=mycallbacks,\n",
        "                validation_data=(X_valid,y_valid) )\n",
        "        end_time=time.time()\n",
        "        elapsed_time=(end_time-start_time)                        \n",
        "        print(\"Fold %d, %d epochs, %d sec\"%(fold,EPOCHS,elapsed_time))\n",
        "        pd.DataFrame(history.history).plot(figsize=(8,5))\n",
        "        plt.grid(True)\n",
        "        plt.gca().set_ylim(0,1)\n",
        "        plt.show()\n",
        "        best_model=keras.models.load_model(bestname)\n",
        "        scores = best_model.evaluate(X_valid, y_valid, verbose=0)\n",
        "        print(\"%s: %.2f%%\" % (best_model.metrics_names[1], scores[1]*100))\n",
        "        cv_scores.append(scores[1] * 100)  \n",
        "    print()\n",
        "    print(\"%d-way Cross Validation mean %.2f%% (+/- %.2f%%)\" % (fold, np.mean(cv_scores), np.std(cv_scores)))"
      ],
      "execution_count": 10,
      "outputs": []
    },
    {
      "cell_type": "markdown",
      "metadata": {
        "id": "qd3Wj_vI9KdP"
      },
      "source": [
        "## Train on RNA lengths 200-1Kb"
      ]
    },
    {
      "cell_type": "code",
      "metadata": {
        "colab": {
          "base_uri": "https://localhost:8080/"
        },
        "id": "f8fNo6sn9KdH",
        "outputId": "3a7586b3-1cb5-4548-f0cc-e0ace3ee28e8"
      },
      "source": [
        "MINLEN=200\n",
        "MAXLEN=1000\n",
        "print(\"Load data from files.\")\n",
        "nc_seq=tools.load_fasta(NC_FILENAME,0)\n",
        "pc_seq=tools.load_fasta(PC_FILENAME,1)\n",
        "train_set=pd.concat((nc_seq,pc_seq),axis=0)\n",
        "nc_seq=None\n",
        "pc_seq=None\n",
        "print(\"Ready: train_set\")\n",
        "#train_set\n",
        "subset=make_slice(train_set,MINLEN,MAXLEN)# One array to two: X and y\n",
        "print (\"Data reshape\")\n",
        "(X_train,y_train)=tools.make_kmers(K,MAXLEN,subset)\n",
        "#print (\"Data prep\")\n",
        "#X_train=tools.make_frequencies(K,X_train)"
      ],
      "execution_count": 11,
      "outputs": [
        {
          "output_type": "stream",
          "text": [
            "Load data from files.\n",
            "Ready: train_set\n",
            "Data reshape\n"
          ],
          "name": "stdout"
        }
      ]
    },
    {
      "cell_type": "code",
      "metadata": {
        "colab": {
          "base_uri": "https://localhost:8080/"
        },
        "id": "G1HuSs8ZbeL4",
        "outputId": "3315572e-baf5-49a3-91e8-57c50a068ebe"
      },
      "source": [
        "print (\"Compile the model\")\n",
        "model=build_model()\n",
        "print (\"Summarize the model\")\n",
        "print(model.summary())  # Print this only once\n",
        "model.save(MODEL_FILE+'.model')\n"
      ],
      "execution_count": 12,
      "outputs": [
        {
          "output_type": "stream",
          "text": [
            "Compile the model\n",
            "COMPILE...\n",
            "...COMPILED\n",
            "Summarize the model\n",
            "Model: \"sequential\"\n",
            "_________________________________________________________________\n",
            "Layer (type)                 Output Shape              Param #   \n",
            "=================================================================\n",
            "embedding (Embedding)        (None, None, 16)          1040      \n",
            "_________________________________________________________________\n",
            "gru (GRU)                    (None, None, 16)          1632      \n",
            "_________________________________________________________________\n",
            "gru_1 (GRU)                  (None, 16)                1632      \n",
            "_________________________________________________________________\n",
            "dense (Dense)                (None, 16)                272       \n",
            "_________________________________________________________________\n",
            "dropout (Dropout)            (None, 16)                0         \n",
            "_________________________________________________________________\n",
            "dense_1 (Dense)              (None, 16)                272       \n",
            "_________________________________________________________________\n",
            "dropout_1 (Dropout)          (None, 16)                0         \n",
            "_________________________________________________________________\n",
            "dense_2 (Dense)              (None, 1)                 17        \n",
            "=================================================================\n",
            "Total params: 4,865\n",
            "Trainable params: 4,865\n",
            "Non-trainable params: 0\n",
            "_________________________________________________________________\n",
            "None\n"
          ],
          "name": "stdout"
        },
        {
          "output_type": "stream",
          "text": [
            "WARNING:absl:Found untraced functions such as gru_cell_layer_call_fn, gru_cell_layer_call_and_return_conditional_losses, gru_cell_1_layer_call_fn, gru_cell_1_layer_call_and_return_conditional_losses, gru_cell_layer_call_fn while saving (showing 5 of 10). These functions will not be directly callable after loading.\n",
            "WARNING:absl:Found untraced functions such as gru_cell_layer_call_fn, gru_cell_layer_call_and_return_conditional_losses, gru_cell_1_layer_call_fn, gru_cell_1_layer_call_and_return_conditional_losses, gru_cell_layer_call_fn while saving (showing 5 of 10). These functions will not be directly callable after loading.\n"
          ],
          "name": "stderr"
        },
        {
          "output_type": "stream",
          "text": [
            "INFO:tensorflow:Assets written to: /content/drive/My Drive/data/LSTM302.model/assets\n"
          ],
          "name": "stdout"
        },
        {
          "output_type": "stream",
          "text": [
            "INFO:tensorflow:Assets written to: /content/drive/My Drive/data/LSTM302.model/assets\n"
          ],
          "name": "stderr"
        }
      ]
    },
    {
      "cell_type": "code",
      "metadata": {
        "colab": {
          "base_uri": "https://localhost:8080/",
          "height": 1000
        },
        "id": "mQ8eW5Rg9KdQ",
        "outputId": "30e4be74-082d-42c5-c25b-36dc8706e4d4"
      },
      "source": [
        "print (\"Cross valiation\")\n",
        "do_cross_validation(X_train,y_train,model)  \n",
        "print (\"Done\")"
      ],
      "execution_count": 13,
      "outputs": [
        {
          "output_type": "stream",
          "text": [
            "Cross valiation\n",
            "COMPILE...\n",
            "...COMPILED\n",
            "FIT\n",
            "Epoch 1/100\n",
            "453/453 [==============================] - 39s 66ms/step - loss: 0.6542 - accuracy: 0.6365 - val_loss: 0.6043 - val_accuracy: 0.6723\n"
          ],
          "name": "stdout"
        },
        {
          "output_type": "stream",
          "text": [
            "WARNING:absl:Found untraced functions such as gru_cell_2_layer_call_fn, gru_cell_2_layer_call_and_return_conditional_losses, gru_cell_3_layer_call_fn, gru_cell_3_layer_call_and_return_conditional_losses, gru_cell_2_layer_call_fn while saving (showing 5 of 10). These functions will not be directly callable after loading.\n",
            "WARNING:absl:Found untraced functions such as gru_cell_2_layer_call_fn, gru_cell_2_layer_call_and_return_conditional_losses, gru_cell_3_layer_call_fn, gru_cell_3_layer_call_and_return_conditional_losses, gru_cell_2_layer_call_fn while saving (showing 5 of 10). These functions will not be directly callable after loading.\n"
          ],
          "name": "stderr"
        },
        {
          "output_type": "stream",
          "text": [
            "INFO:tensorflow:Assets written to: /content/drive/My Drive/data/LSTM302.cv.1.best/assets\n"
          ],
          "name": "stdout"
        },
        {
          "output_type": "stream",
          "text": [
            "INFO:tensorflow:Assets written to: /content/drive/My Drive/data/LSTM302.cv.1.best/assets\n"
          ],
          "name": "stderr"
        },
        {
          "output_type": "stream",
          "text": [
            "Epoch 2/100\n",
            "453/453 [==============================] - 28s 62ms/step - loss: 0.6238 - accuracy: 0.6514 - val_loss: 0.6026 - val_accuracy: 0.6754\n"
          ],
          "name": "stdout"
        },
        {
          "output_type": "stream",
          "text": [
            "WARNING:absl:Found untraced functions such as gru_cell_2_layer_call_fn, gru_cell_2_layer_call_and_return_conditional_losses, gru_cell_3_layer_call_fn, gru_cell_3_layer_call_and_return_conditional_losses, gru_cell_2_layer_call_fn while saving (showing 5 of 10). These functions will not be directly callable after loading.\n",
            "WARNING:absl:Found untraced functions such as gru_cell_2_layer_call_fn, gru_cell_2_layer_call_and_return_conditional_losses, gru_cell_3_layer_call_fn, gru_cell_3_layer_call_and_return_conditional_losses, gru_cell_2_layer_call_fn while saving (showing 5 of 10). These functions will not be directly callable after loading.\n"
          ],
          "name": "stderr"
        },
        {
          "output_type": "stream",
          "text": [
            "INFO:tensorflow:Assets written to: /content/drive/My Drive/data/LSTM302.cv.1.best/assets\n"
          ],
          "name": "stdout"
        },
        {
          "output_type": "stream",
          "text": [
            "INFO:tensorflow:Assets written to: /content/drive/My Drive/data/LSTM302.cv.1.best/assets\n"
          ],
          "name": "stderr"
        },
        {
          "output_type": "stream",
          "text": [
            "Epoch 3/100\n",
            "453/453 [==============================] - 29s 64ms/step - loss: 0.6386 - accuracy: 0.6509 - val_loss: 0.6142 - val_accuracy: 0.6629\n",
            "Epoch 4/100\n",
            "453/453 [==============================] - 28s 63ms/step - loss: 0.6287 - accuracy: 0.6528 - val_loss: 0.5898 - val_accuracy: 0.7008\n"
          ],
          "name": "stdout"
        },
        {
          "output_type": "stream",
          "text": [
            "WARNING:absl:Found untraced functions such as gru_cell_2_layer_call_fn, gru_cell_2_layer_call_and_return_conditional_losses, gru_cell_3_layer_call_fn, gru_cell_3_layer_call_and_return_conditional_losses, gru_cell_2_layer_call_fn while saving (showing 5 of 10). These functions will not be directly callable after loading.\n",
            "WARNING:absl:Found untraced functions such as gru_cell_2_layer_call_fn, gru_cell_2_layer_call_and_return_conditional_losses, gru_cell_3_layer_call_fn, gru_cell_3_layer_call_and_return_conditional_losses, gru_cell_2_layer_call_fn while saving (showing 5 of 10). These functions will not be directly callable after loading.\n"
          ],
          "name": "stderr"
        },
        {
          "output_type": "stream",
          "text": [
            "INFO:tensorflow:Assets written to: /content/drive/My Drive/data/LSTM302.cv.1.best/assets\n"
          ],
          "name": "stdout"
        },
        {
          "output_type": "stream",
          "text": [
            "INFO:tensorflow:Assets written to: /content/drive/My Drive/data/LSTM302.cv.1.best/assets\n"
          ],
          "name": "stderr"
        },
        {
          "output_type": "stream",
          "text": [
            "Epoch 5/100\n",
            "453/453 [==============================] - 29s 63ms/step - loss: 0.6151 - accuracy: 0.6807 - val_loss: 0.6008 - val_accuracy: 0.6847\n",
            "Epoch 6/100\n",
            "453/453 [==============================] - 29s 63ms/step - loss: 0.5996 - accuracy: 0.6872 - val_loss: 0.5089 - val_accuracy: 0.7579\n"
          ],
          "name": "stdout"
        },
        {
          "output_type": "stream",
          "text": [
            "WARNING:absl:Found untraced functions such as gru_cell_2_layer_call_fn, gru_cell_2_layer_call_and_return_conditional_losses, gru_cell_3_layer_call_fn, gru_cell_3_layer_call_and_return_conditional_losses, gru_cell_2_layer_call_fn while saving (showing 5 of 10). These functions will not be directly callable after loading.\n",
            "WARNING:absl:Found untraced functions such as gru_cell_2_layer_call_fn, gru_cell_2_layer_call_and_return_conditional_losses, gru_cell_3_layer_call_fn, gru_cell_3_layer_call_and_return_conditional_losses, gru_cell_2_layer_call_fn while saving (showing 5 of 10). These functions will not be directly callable after loading.\n"
          ],
          "name": "stderr"
        },
        {
          "output_type": "stream",
          "text": [
            "INFO:tensorflow:Assets written to: /content/drive/My Drive/data/LSTM302.cv.1.best/assets\n"
          ],
          "name": "stdout"
        },
        {
          "output_type": "stream",
          "text": [
            "INFO:tensorflow:Assets written to: /content/drive/My Drive/data/LSTM302.cv.1.best/assets\n"
          ],
          "name": "stderr"
        },
        {
          "output_type": "stream",
          "text": [
            "Epoch 7/100\n",
            "453/453 [==============================] - 28s 63ms/step - loss: 0.5033 - accuracy: 0.7674 - val_loss: 0.3968 - val_accuracy: 0.8256\n"
          ],
          "name": "stdout"
        },
        {
          "output_type": "stream",
          "text": [
            "WARNING:absl:Found untraced functions such as gru_cell_2_layer_call_fn, gru_cell_2_layer_call_and_return_conditional_losses, gru_cell_3_layer_call_fn, gru_cell_3_layer_call_and_return_conditional_losses, gru_cell_2_layer_call_fn while saving (showing 5 of 10). These functions will not be directly callable after loading.\n",
            "WARNING:absl:Found untraced functions such as gru_cell_2_layer_call_fn, gru_cell_2_layer_call_and_return_conditional_losses, gru_cell_3_layer_call_fn, gru_cell_3_layer_call_and_return_conditional_losses, gru_cell_2_layer_call_fn while saving (showing 5 of 10). These functions will not be directly callable after loading.\n"
          ],
          "name": "stderr"
        },
        {
          "output_type": "stream",
          "text": [
            "INFO:tensorflow:Assets written to: /content/drive/My Drive/data/LSTM302.cv.1.best/assets\n"
          ],
          "name": "stdout"
        },
        {
          "output_type": "stream",
          "text": [
            "INFO:tensorflow:Assets written to: /content/drive/My Drive/data/LSTM302.cv.1.best/assets\n"
          ],
          "name": "stderr"
        },
        {
          "output_type": "stream",
          "text": [
            "Epoch 8/100\n",
            "453/453 [==============================] - 29s 64ms/step - loss: 0.4335 - accuracy: 0.8147 - val_loss: 0.3813 - val_accuracy: 0.8355\n"
          ],
          "name": "stdout"
        },
        {
          "output_type": "stream",
          "text": [
            "WARNING:absl:Found untraced functions such as gru_cell_2_layer_call_fn, gru_cell_2_layer_call_and_return_conditional_losses, gru_cell_3_layer_call_fn, gru_cell_3_layer_call_and_return_conditional_losses, gru_cell_2_layer_call_fn while saving (showing 5 of 10). These functions will not be directly callable after loading.\n",
            "WARNING:absl:Found untraced functions such as gru_cell_2_layer_call_fn, gru_cell_2_layer_call_and_return_conditional_losses, gru_cell_3_layer_call_fn, gru_cell_3_layer_call_and_return_conditional_losses, gru_cell_2_layer_call_fn while saving (showing 5 of 10). These functions will not be directly callable after loading.\n"
          ],
          "name": "stderr"
        },
        {
          "output_type": "stream",
          "text": [
            "INFO:tensorflow:Assets written to: /content/drive/My Drive/data/LSTM302.cv.1.best/assets\n"
          ],
          "name": "stdout"
        },
        {
          "output_type": "stream",
          "text": [
            "INFO:tensorflow:Assets written to: /content/drive/My Drive/data/LSTM302.cv.1.best/assets\n"
          ],
          "name": "stderr"
        },
        {
          "output_type": "stream",
          "text": [
            "Epoch 9/100\n",
            "453/453 [==============================] - 29s 63ms/step - loss: 0.4194 - accuracy: 0.8210 - val_loss: 0.4328 - val_accuracy: 0.8014\n",
            "Epoch 10/100\n",
            "453/453 [==============================] - 29s 64ms/step - loss: 0.4190 - accuracy: 0.8132 - val_loss: 0.3824 - val_accuracy: 0.8318\n",
            "Epoch 11/100\n",
            "453/453 [==============================] - 29s 64ms/step - loss: 0.4199 - accuracy: 0.8157 - val_loss: 0.3876 - val_accuracy: 0.8281\n",
            "Epoch 12/100\n",
            "453/453 [==============================] - 29s 65ms/step - loss: 0.4052 - accuracy: 0.8230 - val_loss: 0.3589 - val_accuracy: 0.8436\n"
          ],
          "name": "stdout"
        },
        {
          "output_type": "stream",
          "text": [
            "WARNING:absl:Found untraced functions such as gru_cell_2_layer_call_fn, gru_cell_2_layer_call_and_return_conditional_losses, gru_cell_3_layer_call_fn, gru_cell_3_layer_call_and_return_conditional_losses, gru_cell_2_layer_call_fn while saving (showing 5 of 10). These functions will not be directly callable after loading.\n",
            "WARNING:absl:Found untraced functions such as gru_cell_2_layer_call_fn, gru_cell_2_layer_call_and_return_conditional_losses, gru_cell_3_layer_call_fn, gru_cell_3_layer_call_and_return_conditional_losses, gru_cell_2_layer_call_fn while saving (showing 5 of 10). These functions will not be directly callable after loading.\n"
          ],
          "name": "stderr"
        },
        {
          "output_type": "stream",
          "text": [
            "INFO:tensorflow:Assets written to: /content/drive/My Drive/data/LSTM302.cv.1.best/assets\n"
          ],
          "name": "stdout"
        },
        {
          "output_type": "stream",
          "text": [
            "INFO:tensorflow:Assets written to: /content/drive/My Drive/data/LSTM302.cv.1.best/assets\n"
          ],
          "name": "stderr"
        },
        {
          "output_type": "stream",
          "text": [
            "Epoch 13/100\n",
            "453/453 [==============================] - 29s 63ms/step - loss: 0.4094 - accuracy: 0.8251 - val_loss: 0.3795 - val_accuracy: 0.8293\n",
            "Epoch 14/100\n",
            "453/453 [==============================] - 29s 64ms/step - loss: 0.4077 - accuracy: 0.8251 - val_loss: 0.4105 - val_accuracy: 0.8212\n",
            "Epoch 15/100\n",
            "453/453 [==============================] - 29s 64ms/step - loss: 0.4120 - accuracy: 0.8227 - val_loss: 0.4062 - val_accuracy: 0.8293\n",
            "Epoch 16/100\n",
            "453/453 [==============================] - 29s 64ms/step - loss: 0.4026 - accuracy: 0.8245 - val_loss: 0.3899 - val_accuracy: 0.8250\n",
            "Epoch 17/100\n",
            "453/453 [==============================] - 29s 64ms/step - loss: 0.3966 - accuracy: 0.8271 - val_loss: 0.3784 - val_accuracy: 0.8324\n",
            "Epoch 18/100\n",
            "453/453 [==============================] - 29s 64ms/step - loss: 0.3968 - accuracy: 0.8289 - val_loss: 0.3526 - val_accuracy: 0.8442\n"
          ],
          "name": "stdout"
        },
        {
          "output_type": "stream",
          "text": [
            "WARNING:absl:Found untraced functions such as gru_cell_2_layer_call_fn, gru_cell_2_layer_call_and_return_conditional_losses, gru_cell_3_layer_call_fn, gru_cell_3_layer_call_and_return_conditional_losses, gru_cell_2_layer_call_fn while saving (showing 5 of 10). These functions will not be directly callable after loading.\n",
            "WARNING:absl:Found untraced functions such as gru_cell_2_layer_call_fn, gru_cell_2_layer_call_and_return_conditional_losses, gru_cell_3_layer_call_fn, gru_cell_3_layer_call_and_return_conditional_losses, gru_cell_2_layer_call_fn while saving (showing 5 of 10). These functions will not be directly callable after loading.\n"
          ],
          "name": "stderr"
        },
        {
          "output_type": "stream",
          "text": [
            "INFO:tensorflow:Assets written to: /content/drive/My Drive/data/LSTM302.cv.1.best/assets\n"
          ],
          "name": "stdout"
        },
        {
          "output_type": "stream",
          "text": [
            "INFO:tensorflow:Assets written to: /content/drive/My Drive/data/LSTM302.cv.1.best/assets\n"
          ],
          "name": "stderr"
        },
        {
          "output_type": "stream",
          "text": [
            "Epoch 19/100\n",
            "453/453 [==============================] - 29s 64ms/step - loss: 0.3868 - accuracy: 0.8320 - val_loss: 0.3439 - val_accuracy: 0.8454\n"
          ],
          "name": "stdout"
        },
        {
          "output_type": "stream",
          "text": [
            "WARNING:absl:Found untraced functions such as gru_cell_2_layer_call_fn, gru_cell_2_layer_call_and_return_conditional_losses, gru_cell_3_layer_call_fn, gru_cell_3_layer_call_and_return_conditional_losses, gru_cell_2_layer_call_fn while saving (showing 5 of 10). These functions will not be directly callable after loading.\n",
            "WARNING:absl:Found untraced functions such as gru_cell_2_layer_call_fn, gru_cell_2_layer_call_and_return_conditional_losses, gru_cell_3_layer_call_fn, gru_cell_3_layer_call_and_return_conditional_losses, gru_cell_2_layer_call_fn while saving (showing 5 of 10). These functions will not be directly callable after loading.\n"
          ],
          "name": "stderr"
        },
        {
          "output_type": "stream",
          "text": [
            "INFO:tensorflow:Assets written to: /content/drive/My Drive/data/LSTM302.cv.1.best/assets\n"
          ],
          "name": "stdout"
        },
        {
          "output_type": "stream",
          "text": [
            "INFO:tensorflow:Assets written to: /content/drive/My Drive/data/LSTM302.cv.1.best/assets\n"
          ],
          "name": "stderr"
        },
        {
          "output_type": "stream",
          "text": [
            "Epoch 20/100\n",
            "453/453 [==============================] - 28s 63ms/step - loss: 0.3992 - accuracy: 0.8303 - val_loss: 0.3463 - val_accuracy: 0.8510\n"
          ],
          "name": "stdout"
        },
        {
          "output_type": "stream",
          "text": [
            "WARNING:absl:Found untraced functions such as gru_cell_2_layer_call_fn, gru_cell_2_layer_call_and_return_conditional_losses, gru_cell_3_layer_call_fn, gru_cell_3_layer_call_and_return_conditional_losses, gru_cell_2_layer_call_fn while saving (showing 5 of 10). These functions will not be directly callable after loading.\n",
            "WARNING:absl:Found untraced functions such as gru_cell_2_layer_call_fn, gru_cell_2_layer_call_and_return_conditional_losses, gru_cell_3_layer_call_fn, gru_cell_3_layer_call_and_return_conditional_losses, gru_cell_2_layer_call_fn while saving (showing 5 of 10). These functions will not be directly callable after loading.\n"
          ],
          "name": "stderr"
        },
        {
          "output_type": "stream",
          "text": [
            "INFO:tensorflow:Assets written to: /content/drive/My Drive/data/LSTM302.cv.1.best/assets\n"
          ],
          "name": "stdout"
        },
        {
          "output_type": "stream",
          "text": [
            "INFO:tensorflow:Assets written to: /content/drive/My Drive/data/LSTM302.cv.1.best/assets\n"
          ],
          "name": "stderr"
        },
        {
          "output_type": "stream",
          "text": [
            "Epoch 21/100\n",
            "453/453 [==============================] - 29s 65ms/step - loss: 0.3882 - accuracy: 0.8357 - val_loss: 0.3399 - val_accuracy: 0.8541\n"
          ],
          "name": "stdout"
        },
        {
          "output_type": "stream",
          "text": [
            "WARNING:absl:Found untraced functions such as gru_cell_2_layer_call_fn, gru_cell_2_layer_call_and_return_conditional_losses, gru_cell_3_layer_call_fn, gru_cell_3_layer_call_and_return_conditional_losses, gru_cell_2_layer_call_fn while saving (showing 5 of 10). These functions will not be directly callable after loading.\n",
            "WARNING:absl:Found untraced functions such as gru_cell_2_layer_call_fn, gru_cell_2_layer_call_and_return_conditional_losses, gru_cell_3_layer_call_fn, gru_cell_3_layer_call_and_return_conditional_losses, gru_cell_2_layer_call_fn while saving (showing 5 of 10). These functions will not be directly callable after loading.\n"
          ],
          "name": "stderr"
        },
        {
          "output_type": "stream",
          "text": [
            "INFO:tensorflow:Assets written to: /content/drive/My Drive/data/LSTM302.cv.1.best/assets\n"
          ],
          "name": "stdout"
        },
        {
          "output_type": "stream",
          "text": [
            "INFO:tensorflow:Assets written to: /content/drive/My Drive/data/LSTM302.cv.1.best/assets\n"
          ],
          "name": "stderr"
        },
        {
          "output_type": "stream",
          "text": [
            "Epoch 22/100\n",
            "453/453 [==============================] - 29s 63ms/step - loss: 0.3826 - accuracy: 0.8353 - val_loss: 0.3354 - val_accuracy: 0.8560\n"
          ],
          "name": "stdout"
        },
        {
          "output_type": "stream",
          "text": [
            "WARNING:absl:Found untraced functions such as gru_cell_2_layer_call_fn, gru_cell_2_layer_call_and_return_conditional_losses, gru_cell_3_layer_call_fn, gru_cell_3_layer_call_and_return_conditional_losses, gru_cell_2_layer_call_fn while saving (showing 5 of 10). These functions will not be directly callable after loading.\n",
            "WARNING:absl:Found untraced functions such as gru_cell_2_layer_call_fn, gru_cell_2_layer_call_and_return_conditional_losses, gru_cell_3_layer_call_fn, gru_cell_3_layer_call_and_return_conditional_losses, gru_cell_2_layer_call_fn while saving (showing 5 of 10). These functions will not be directly callable after loading.\n"
          ],
          "name": "stderr"
        },
        {
          "output_type": "stream",
          "text": [
            "INFO:tensorflow:Assets written to: /content/drive/My Drive/data/LSTM302.cv.1.best/assets\n"
          ],
          "name": "stdout"
        },
        {
          "output_type": "stream",
          "text": [
            "INFO:tensorflow:Assets written to: /content/drive/My Drive/data/LSTM302.cv.1.best/assets\n"
          ],
          "name": "stderr"
        },
        {
          "output_type": "stream",
          "text": [
            "Epoch 23/100\n",
            "453/453 [==============================] - 29s 63ms/step - loss: 0.3839 - accuracy: 0.8290 - val_loss: 0.3374 - val_accuracy: 0.8516\n",
            "Epoch 24/100\n",
            "453/453 [==============================] - 29s 63ms/step - loss: 0.3846 - accuracy: 0.8358 - val_loss: 0.3663 - val_accuracy: 0.8399\n",
            "Epoch 25/100\n",
            "453/453 [==============================] - 29s 64ms/step - loss: 0.3880 - accuracy: 0.8319 - val_loss: 0.3487 - val_accuracy: 0.8442\n",
            "Epoch 26/100\n",
            "453/453 [==============================] - 29s 64ms/step - loss: 0.3828 - accuracy: 0.8393 - val_loss: 0.3284 - val_accuracy: 0.8634\n"
          ],
          "name": "stdout"
        },
        {
          "output_type": "stream",
          "text": [
            "WARNING:absl:Found untraced functions such as gru_cell_2_layer_call_fn, gru_cell_2_layer_call_and_return_conditional_losses, gru_cell_3_layer_call_fn, gru_cell_3_layer_call_and_return_conditional_losses, gru_cell_2_layer_call_fn while saving (showing 5 of 10). These functions will not be directly callable after loading.\n",
            "WARNING:absl:Found untraced functions such as gru_cell_2_layer_call_fn, gru_cell_2_layer_call_and_return_conditional_losses, gru_cell_3_layer_call_fn, gru_cell_3_layer_call_and_return_conditional_losses, gru_cell_2_layer_call_fn while saving (showing 5 of 10). These functions will not be directly callable after loading.\n"
          ],
          "name": "stderr"
        },
        {
          "output_type": "stream",
          "text": [
            "INFO:tensorflow:Assets written to: /content/drive/My Drive/data/LSTM302.cv.1.best/assets\n"
          ],
          "name": "stdout"
        },
        {
          "output_type": "stream",
          "text": [
            "INFO:tensorflow:Assets written to: /content/drive/My Drive/data/LSTM302.cv.1.best/assets\n"
          ],
          "name": "stderr"
        },
        {
          "output_type": "stream",
          "text": [
            "Epoch 27/100\n",
            "453/453 [==============================] - 29s 64ms/step - loss: 0.3703 - accuracy: 0.8424 - val_loss: 0.3306 - val_accuracy: 0.8523\n",
            "Epoch 28/100\n",
            "453/453 [==============================] - 29s 63ms/step - loss: 0.3665 - accuracy: 0.8411 - val_loss: 0.3316 - val_accuracy: 0.8479\n",
            "Epoch 29/100\n",
            "453/453 [==============================] - 29s 64ms/step - loss: 0.3664 - accuracy: 0.8412 - val_loss: 0.3291 - val_accuracy: 0.8529\n",
            "Epoch 30/100\n",
            "453/453 [==============================] - 29s 65ms/step - loss: 0.3754 - accuracy: 0.8379 - val_loss: 0.3268 - val_accuracy: 0.8572\n",
            "Epoch 31/100\n",
            "453/453 [==============================] - 29s 63ms/step - loss: 0.3779 - accuracy: 0.8372 - val_loss: 0.3277 - val_accuracy: 0.8572\n",
            "Epoch 32/100\n",
            "453/453 [==============================] - 29s 63ms/step - loss: 0.3748 - accuracy: 0.8372 - val_loss: 0.3764 - val_accuracy: 0.8336\n",
            "Epoch 33/100\n",
            "453/453 [==============================] - 29s 63ms/step - loss: 0.3707 - accuracy: 0.8375 - val_loss: 0.3265 - val_accuracy: 0.8566\n",
            "Epoch 34/100\n",
            "453/453 [==============================] - 29s 63ms/step - loss: 0.3816 - accuracy: 0.8343 - val_loss: 0.3268 - val_accuracy: 0.8610\n",
            "Epoch 35/100\n",
            "453/453 [==============================] - 29s 64ms/step - loss: 0.3672 - accuracy: 0.8440 - val_loss: 0.3364 - val_accuracy: 0.8516\n",
            "Epoch 36/100\n",
            "453/453 [==============================] - 29s 64ms/step - loss: 0.3690 - accuracy: 0.8416 - val_loss: 0.3357 - val_accuracy: 0.8523\n",
            "Epoch 37/100\n",
            "453/453 [==============================] - 29s 64ms/step - loss: 0.3606 - accuracy: 0.8433 - val_loss: 0.3858 - val_accuracy: 0.8218\n",
            "Epoch 38/100\n",
            "453/453 [==============================] - 29s 64ms/step - loss: 0.3776 - accuracy: 0.8392 - val_loss: 0.3385 - val_accuracy: 0.8523\n",
            "Epoch 39/100\n",
            "453/453 [==============================] - 29s 64ms/step - loss: 0.3646 - accuracy: 0.8432 - val_loss: 0.3546 - val_accuracy: 0.8423\n",
            "Epoch 40/100\n",
            "453/453 [==============================] - 29s 63ms/step - loss: 0.3603 - accuracy: 0.8463 - val_loss: 0.3248 - val_accuracy: 0.8554\n",
            "Epoch 41/100\n",
            "453/453 [==============================] - 29s 64ms/step - loss: 0.3580 - accuracy: 0.8501 - val_loss: 0.3314 - val_accuracy: 0.8535\n",
            "Epoch 42/100\n",
            "453/453 [==============================] - 29s 63ms/step - loss: 0.3554 - accuracy: 0.8518 - val_loss: 0.4090 - val_accuracy: 0.8156\n",
            "Epoch 43/100\n",
            "453/453 [==============================] - 29s 64ms/step - loss: 0.3641 - accuracy: 0.8423 - val_loss: 0.3231 - val_accuracy: 0.8603\n",
            "Epoch 44/100\n",
            "453/453 [==============================] - 29s 64ms/step - loss: 0.3555 - accuracy: 0.8487 - val_loss: 0.3203 - val_accuracy: 0.8547\n",
            "Epoch 45/100\n",
            "453/453 [==============================] - 29s 64ms/step - loss: 0.3517 - accuracy: 0.8490 - val_loss: 0.3261 - val_accuracy: 0.8529\n",
            "Epoch 46/100\n",
            "453/453 [==============================] - 29s 63ms/step - loss: 0.3522 - accuracy: 0.8513 - val_loss: 0.3403 - val_accuracy: 0.8541\n",
            "Epoch 47/100\n",
            "453/453 [==============================] - 29s 64ms/step - loss: 0.3544 - accuracy: 0.8464 - val_loss: 0.3531 - val_accuracy: 0.8448\n",
            "Epoch 48/100\n",
            "453/453 [==============================] - 29s 63ms/step - loss: 0.3509 - accuracy: 0.8567 - val_loss: 0.3635 - val_accuracy: 0.8349\n",
            "Epoch 49/100\n",
            "453/453 [==============================] - 28s 63ms/step - loss: 0.3558 - accuracy: 0.8484 - val_loss: 0.3178 - val_accuracy: 0.8585\n",
            "Epoch 50/100\n",
            "453/453 [==============================] - 29s 63ms/step - loss: 0.3569 - accuracy: 0.8490 - val_loss: 0.3551 - val_accuracy: 0.8479\n",
            "Epoch 51/100\n",
            "453/453 [==============================] - 29s 64ms/step - loss: 0.3515 - accuracy: 0.8512 - val_loss: 0.3187 - val_accuracy: 0.8579\n",
            "Epoch 52/100\n",
            "453/453 [==============================] - 29s 64ms/step - loss: 0.3492 - accuracy: 0.8517 - val_loss: 0.3263 - val_accuracy: 0.8585\n",
            "Epoch 53/100\n",
            "453/453 [==============================] - 29s 63ms/step - loss: 0.3550 - accuracy: 0.8478 - val_loss: 0.3160 - val_accuracy: 0.8591\n",
            "Epoch 54/100\n",
            "453/453 [==============================] - 29s 63ms/step - loss: 0.3515 - accuracy: 0.8497 - val_loss: 0.3417 - val_accuracy: 0.8523\n",
            "Epoch 55/100\n",
            "453/453 [==============================] - 29s 64ms/step - loss: 0.3604 - accuracy: 0.8464 - val_loss: 0.3252 - val_accuracy: 0.8541\n",
            "Epoch 56/100\n",
            "453/453 [==============================] - 29s 63ms/step - loss: 0.3436 - accuracy: 0.8546 - val_loss: 0.3250 - val_accuracy: 0.8603\n",
            "Epoch 57/100\n",
            "453/453 [==============================] - 28s 62ms/step - loss: 0.3420 - accuracy: 0.8564 - val_loss: 0.3384 - val_accuracy: 0.8535\n",
            "Epoch 58/100\n",
            "453/453 [==============================] - 29s 64ms/step - loss: 0.3404 - accuracy: 0.8599 - val_loss: 0.4075 - val_accuracy: 0.8262\n",
            "Epoch 59/100\n",
            "453/453 [==============================] - 29s 65ms/step - loss: 0.3457 - accuracy: 0.8546 - val_loss: 0.3238 - val_accuracy: 0.8641\n"
          ],
          "name": "stdout"
        },
        {
          "output_type": "stream",
          "text": [
            "WARNING:absl:Found untraced functions such as gru_cell_2_layer_call_fn, gru_cell_2_layer_call_and_return_conditional_losses, gru_cell_3_layer_call_fn, gru_cell_3_layer_call_and_return_conditional_losses, gru_cell_2_layer_call_fn while saving (showing 5 of 10). These functions will not be directly callable after loading.\n",
            "WARNING:absl:Found untraced functions such as gru_cell_2_layer_call_fn, gru_cell_2_layer_call_and_return_conditional_losses, gru_cell_3_layer_call_fn, gru_cell_3_layer_call_and_return_conditional_losses, gru_cell_2_layer_call_fn while saving (showing 5 of 10). These functions will not be directly callable after loading.\n"
          ],
          "name": "stderr"
        },
        {
          "output_type": "stream",
          "text": [
            "INFO:tensorflow:Assets written to: /content/drive/My Drive/data/LSTM302.cv.1.best/assets\n"
          ],
          "name": "stdout"
        },
        {
          "output_type": "stream",
          "text": [
            "INFO:tensorflow:Assets written to: /content/drive/My Drive/data/LSTM302.cv.1.best/assets\n"
          ],
          "name": "stderr"
        },
        {
          "output_type": "stream",
          "text": [
            "Epoch 60/100\n",
            "453/453 [==============================] - 29s 63ms/step - loss: 0.3390 - accuracy: 0.8582 - val_loss: 0.3620 - val_accuracy: 0.8479\n",
            "Epoch 61/100\n",
            "453/453 [==============================] - 29s 64ms/step - loss: 0.3483 - accuracy: 0.8507 - val_loss: 0.3131 - val_accuracy: 0.8709\n"
          ],
          "name": "stdout"
        },
        {
          "output_type": "stream",
          "text": [
            "WARNING:absl:Found untraced functions such as gru_cell_2_layer_call_fn, gru_cell_2_layer_call_and_return_conditional_losses, gru_cell_3_layer_call_fn, gru_cell_3_layer_call_and_return_conditional_losses, gru_cell_2_layer_call_fn while saving (showing 5 of 10). These functions will not be directly callable after loading.\n",
            "WARNING:absl:Found untraced functions such as gru_cell_2_layer_call_fn, gru_cell_2_layer_call_and_return_conditional_losses, gru_cell_3_layer_call_fn, gru_cell_3_layer_call_and_return_conditional_losses, gru_cell_2_layer_call_fn while saving (showing 5 of 10). These functions will not be directly callable after loading.\n"
          ],
          "name": "stderr"
        },
        {
          "output_type": "stream",
          "text": [
            "INFO:tensorflow:Assets written to: /content/drive/My Drive/data/LSTM302.cv.1.best/assets\n"
          ],
          "name": "stdout"
        },
        {
          "output_type": "stream",
          "text": [
            "INFO:tensorflow:Assets written to: /content/drive/My Drive/data/LSTM302.cv.1.best/assets\n"
          ],
          "name": "stderr"
        },
        {
          "output_type": "stream",
          "text": [
            "Epoch 62/100\n",
            "453/453 [==============================] - 29s 63ms/step - loss: 0.3429 - accuracy: 0.8637 - val_loss: 0.3492 - val_accuracy: 0.8535\n",
            "Epoch 63/100\n",
            "453/453 [==============================] - 29s 63ms/step - loss: 0.3247 - accuracy: 0.8635 - val_loss: 0.3403 - val_accuracy: 0.8523\n",
            "Epoch 64/100\n",
            "453/453 [==============================] - 28s 61ms/step - loss: 0.3421 - accuracy: 0.8579 - val_loss: 0.3622 - val_accuracy: 0.8423\n",
            "Epoch 65/100\n",
            "453/453 [==============================] - 28s 62ms/step - loss: 0.3364 - accuracy: 0.8583 - val_loss: 0.3938 - val_accuracy: 0.8355\n",
            "Epoch 66/100\n",
            "453/453 [==============================] - 28s 61ms/step - loss: 0.3291 - accuracy: 0.8622 - val_loss: 0.3567 - val_accuracy: 0.8423\n",
            "Epoch 67/100\n",
            "453/453 [==============================] - 28s 61ms/step - loss: 0.3356 - accuracy: 0.8632 - val_loss: 0.3726 - val_accuracy: 0.8423\n",
            "Epoch 68/100\n",
            "453/453 [==============================] - 28s 62ms/step - loss: 0.3332 - accuracy: 0.8612 - val_loss: 0.3106 - val_accuracy: 0.8641\n",
            "Epoch 69/100\n",
            "453/453 [==============================] - 28s 61ms/step - loss: 0.3180 - accuracy: 0.8698 - val_loss: 0.3147 - val_accuracy: 0.8610\n",
            "Epoch 70/100\n",
            "453/453 [==============================] - 28s 61ms/step - loss: 0.3298 - accuracy: 0.8617 - val_loss: 0.3671 - val_accuracy: 0.8473\n",
            "Epoch 71/100\n",
            "453/453 [==============================] - 28s 62ms/step - loss: 0.3282 - accuracy: 0.8613 - val_loss: 0.3321 - val_accuracy: 0.8560\n",
            "Epoch 72/100\n",
            "453/453 [==============================] - 28s 62ms/step - loss: 0.3217 - accuracy: 0.8646 - val_loss: 0.2981 - val_accuracy: 0.8759\n"
          ],
          "name": "stdout"
        },
        {
          "output_type": "stream",
          "text": [
            "WARNING:absl:Found untraced functions such as gru_cell_2_layer_call_fn, gru_cell_2_layer_call_and_return_conditional_losses, gru_cell_3_layer_call_fn, gru_cell_3_layer_call_and_return_conditional_losses, gru_cell_2_layer_call_fn while saving (showing 5 of 10). These functions will not be directly callable after loading.\n",
            "WARNING:absl:Found untraced functions such as gru_cell_2_layer_call_fn, gru_cell_2_layer_call_and_return_conditional_losses, gru_cell_3_layer_call_fn, gru_cell_3_layer_call_and_return_conditional_losses, gru_cell_2_layer_call_fn while saving (showing 5 of 10). These functions will not be directly callable after loading.\n"
          ],
          "name": "stderr"
        },
        {
          "output_type": "stream",
          "text": [
            "INFO:tensorflow:Assets written to: /content/drive/My Drive/data/LSTM302.cv.1.best/assets\n"
          ],
          "name": "stdout"
        },
        {
          "output_type": "stream",
          "text": [
            "INFO:tensorflow:Assets written to: /content/drive/My Drive/data/LSTM302.cv.1.best/assets\n"
          ],
          "name": "stderr"
        },
        {
          "output_type": "stream",
          "text": [
            "Epoch 73/100\n",
            "453/453 [==============================] - 28s 62ms/step - loss: 0.3227 - accuracy: 0.8687 - val_loss: 0.3320 - val_accuracy: 0.8591\n",
            "Epoch 74/100\n",
            "453/453 [==============================] - 28s 61ms/step - loss: 0.3237 - accuracy: 0.8635 - val_loss: 0.3374 - val_accuracy: 0.8510\n",
            "Epoch 75/100\n",
            "453/453 [==============================] - 28s 61ms/step - loss: 0.3280 - accuracy: 0.8649 - val_loss: 0.3222 - val_accuracy: 0.8641\n",
            "Epoch 76/100\n",
            "453/453 [==============================] - 28s 62ms/step - loss: 0.3132 - accuracy: 0.8685 - val_loss: 0.3062 - val_accuracy: 0.8696\n",
            "Epoch 77/100\n",
            "453/453 [==============================] - 28s 62ms/step - loss: 0.3227 - accuracy: 0.8697 - val_loss: 0.3320 - val_accuracy: 0.8616\n",
            "Epoch 78/100\n",
            "453/453 [==============================] - 28s 62ms/step - loss: 0.3176 - accuracy: 0.8669 - val_loss: 0.3319 - val_accuracy: 0.8622\n",
            "Epoch 79/100\n",
            "453/453 [==============================] - 28s 62ms/step - loss: 0.3195 - accuracy: 0.8700 - val_loss: 0.3417 - val_accuracy: 0.8579\n",
            "Epoch 80/100\n",
            "453/453 [==============================] - 28s 61ms/step - loss: 0.3227 - accuracy: 0.8641 - val_loss: 0.3022 - val_accuracy: 0.8709\n",
            "Epoch 81/100\n",
            "453/453 [==============================] - 28s 61ms/step - loss: 0.3152 - accuracy: 0.8709 - val_loss: 0.3207 - val_accuracy: 0.8684\n",
            "Epoch 82/100\n",
            "453/453 [==============================] - 28s 62ms/step - loss: 0.3270 - accuracy: 0.8668 - val_loss: 0.3259 - val_accuracy: 0.8647\n",
            "Epoch 83/100\n",
            "453/453 [==============================] - 28s 62ms/step - loss: 0.3092 - accuracy: 0.8722 - val_loss: 0.3104 - val_accuracy: 0.8665\n",
            "Epoch 84/100\n",
            "453/453 [==============================] - 28s 61ms/step - loss: 0.3225 - accuracy: 0.8671 - val_loss: 0.3085 - val_accuracy: 0.8703\n",
            "Epoch 85/100\n",
            "453/453 [==============================] - 28s 61ms/step - loss: 0.3103 - accuracy: 0.8756 - val_loss: 0.3342 - val_accuracy: 0.8616\n",
            "Epoch 86/100\n",
            "453/453 [==============================] - 28s 61ms/step - loss: 0.3107 - accuracy: 0.8686 - val_loss: 0.3316 - val_accuracy: 0.8634\n",
            "Epoch 87/100\n",
            "453/453 [==============================] - 28s 61ms/step - loss: 0.3121 - accuracy: 0.8718 - val_loss: 0.3616 - val_accuracy: 0.8498\n",
            "Epoch 88/100\n",
            "453/453 [==============================] - 28s 63ms/step - loss: 0.3040 - accuracy: 0.8755 - val_loss: 0.3477 - val_accuracy: 0.8603\n",
            "Epoch 89/100\n",
            "453/453 [==============================] - 29s 65ms/step - loss: 0.3073 - accuracy: 0.8750 - val_loss: 0.3043 - val_accuracy: 0.8740\n",
            "Epoch 90/100\n",
            "453/453 [==============================] - 29s 64ms/step - loss: 0.3094 - accuracy: 0.8740 - val_loss: 0.3099 - val_accuracy: 0.8703\n",
            "Epoch 91/100\n",
            "453/453 [==============================] - 29s 64ms/step - loss: 0.3159 - accuracy: 0.8708 - val_loss: 0.3644 - val_accuracy: 0.8547\n",
            "Epoch 92/100\n",
            "453/453 [==============================] - 28s 62ms/step - loss: 0.3062 - accuracy: 0.8762 - val_loss: 0.3593 - val_accuracy: 0.8510\n",
            "Epoch 93/100\n",
            "453/453 [==============================] - 28s 62ms/step - loss: 0.3094 - accuracy: 0.8731 - val_loss: 0.3315 - val_accuracy: 0.8610\n",
            "Epoch 94/100\n",
            "453/453 [==============================] - 28s 63ms/step - loss: 0.3092 - accuracy: 0.8750 - val_loss: 0.3303 - val_accuracy: 0.8665\n",
            "Epoch 95/100\n",
            "453/453 [==============================] - 28s 61ms/step - loss: 0.3160 - accuracy: 0.8683 - val_loss: 0.4003 - val_accuracy: 0.8405\n",
            "Epoch 96/100\n",
            "453/453 [==============================] - 28s 62ms/step - loss: 0.3075 - accuracy: 0.8741 - val_loss: 0.3482 - val_accuracy: 0.8603\n",
            "Epoch 97/100\n",
            "453/453 [==============================] - 28s 62ms/step - loss: 0.3052 - accuracy: 0.8759 - val_loss: 0.3257 - val_accuracy: 0.8641\n",
            "Epoch 98/100\n",
            "453/453 [==============================] - 28s 62ms/step - loss: 0.3027 - accuracy: 0.8776 - val_loss: 0.3139 - val_accuracy: 0.8727\n",
            "Epoch 99/100\n",
            "453/453 [==============================] - 28s 62ms/step - loss: 0.3020 - accuracy: 0.8779 - val_loss: 0.3282 - val_accuracy: 0.8653\n",
            "Epoch 100/100\n",
            "453/453 [==============================] - 28s 61ms/step - loss: 0.2994 - accuracy: 0.8780 - val_loss: 0.3056 - val_accuracy: 0.8715\n",
            "Fold 1, 100 epochs, 3099 sec\n"
          ],
          "name": "stdout"
        },
        {
          "output_type": "display_data",
          "data": {
            "image/png": "[encoded data removed]",
            "text/plain": [
              "<Figure size 576x360 with 1 Axes>"
            ]
          },
          "metadata": {
            "tags": [],
            "needs_background": "light"
          }
        },
        {
          "output_type": "stream",
          "text": [
            "accuracy: 87.59%\n",
            "\n",
            "1-way Cross Validation mean 87.59% (+/- 0.00%)\n",
            "Done\n"
          ],
          "name": "stdout"
        }
      ]
    },
    {
      "cell_type": "code",
      "metadata": {
        "id": "p4fh2GI8beMQ"
      },
      "source": [
        ""
      ],
      "execution_count": 13,
      "outputs": []
    }
  ]
}
