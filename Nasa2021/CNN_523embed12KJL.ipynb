{
  "nbformat": 4,
  "nbformat_minor": 0,
  "metadata": {
    "accelerator": "GPU",
    "colab": {
      "name": "CNN_523embed12K.ipynb",
      "provenance": [],
      "collapsed_sections": [],
      "machine_shape": "hm"
    },
    "kernelspec": {
      "display_name": "Python 3",
      "language": "python",
      "name": "python3"
    },
    "language_info": {
      "codemirror_mode": {
        "name": "ipython",
        "version": 3
      },
      "file_extension": ".py",
      "mimetype": "text/x-python",
      "name": "python",
      "nbconvert_exporter": "python",
      "pygments_lexer": "ipython3",
      "version": "3.8.3"
    }
  },
  "cells": [
    {
      "cell_type": "markdown",
      "metadata": {
        "id": "view-in-github"
      },
      "source": [
        "<a href=\"https://colab.research.google.com/github/ShepherdCode/ShepherdML/blob/master/Nasa2021/CNN_523.ipynb\" target=\"_parent\"><img src=\"https://colab.research.google.com/assets/colab-badge.svg\" alt=\"Open In Colab\"/></a>"
      ]
    },
    {
      "cell_type": "markdown",
      "metadata": {
        "id": "xBDT3RYOakJO"
      },
      "source": [
        ""
      ]
    },
    {
      "cell_type": "markdown",
      "metadata": {
        "id": "ojm_6E9f9Kcf"
      },
      "source": [
        "# CNN 523\n",
        "\n",
        "1. Four layers of CNNS and MaxPooling\n",
        "2. Drop out at 0.2\n",
        "3. Variable filters and dense neurons\n",
        "\n",
        "\n",
        "\n",
        "\n",
        "\n",
        "\n",
        "\n",
        "\n",
        "\n",
        "\n",
        "\n",
        "\n"
      ]
    },
    {
      "cell_type": "code",
      "metadata": {
        "colab": {
          "base_uri": "https://localhost:8080/"
        },
        "id": "hh6XplUvC0j0",
        "outputId": "30471624-7e6d-4832-d1b3-e3df10ff6f04"
      },
      "source": [
        "#NC_FILENAME='ncRNA.tiny50.fasta'\n",
        "#PC_FILENAME='pcRNA.tiny50.fasta'\n",
        "#NC_FILENAME='ncRNA.gc34.processed.fasta'\n",
        "#PC_FILENAME='pcRNA.gc34.processed.fasta'\n",
        "NC_FILENAME='noncod_12000.fasta'  # CHANGE THIS TO 1000, 2000, 4000, etc.\n",
        "PC_FILENAME='coding_12000.fasta'\n",
        "NC_VAL_FILE='noncod_validation.fasta'  # 'noncod_validation.fasta'  # CHANGE THIS TO THE UNIFORM VALIDATION FILE\n",
        "PC_VAL_FILE='coding_validation.fasta'  # 'coding_validation.fasta'\n",
        "\n",
        "MODEL_FILE='Test_Non_noisy_12K'   # CHANGE THIS IF YOU WANT TO SAVE THE MODEL!\n",
        "DATAPATH=''\n",
        "\n",
        "try:\n",
        "    from google.colab import drive\n",
        "    IN_COLAB = True\n",
        "    PATH='/content/drive/'\n",
        "    drive.mount(PATH)\n",
        "    DATAPATH=PATH+'My Drive/data/'  # must end in \"/\"\n",
        "except:\n",
        "    IN_COLAB = False\n",
        "    DATAPATH='data/'  # must end in \"/\"\n",
        "NC_FILENAME = DATAPATH+NC_FILENAME\n",
        "PC_FILENAME = DATAPATH+PC_FILENAME\n",
        "NC_VAL_FILE = DATAPATH+NC_VAL_FILE\n",
        "PC_VAL_FILE = DATAPATH+PC_VAL_FILE\n",
        "MODEL_FILE=DATAPATH+MODEL_FILE\n",
        "\n",
        "EPOCHS=20  # DECIDE ON SOME AMOUNT AND STICK WITH IT\n",
        "SPLITS=5\n",
        "K=1\n",
        "VOCABULARY_SIZE=4**K+1   # e.g. K=3 => 64 DNA K-mers + 'NNN'\n",
        "EMBED_DIMEN=2\n",
        "FILTERS=32\n",
        "KERNEL=3\n",
        "NEURONS=24\n",
        "DROP=0.2\n",
        "MINLEN=200\n",
        "MAXLEN=1000    # THIS HAS TO MATCH THE SIMULATION DATA\n",
        "DENSE_LEN = 1000\n",
        "ACT=\"tanh\""
      ],
      "execution_count": 1,
      "outputs": [
        {
          "output_type": "stream",
          "text": [
            "Drive already mounted at /content/drive/; to attempt to forcibly remount, call drive.mount(\"/content/drive/\", force_remount=True).\n"
          ],
          "name": "stdout"
        }
      ]
    },
    {
      "cell_type": "code",
      "metadata": {
        "colab": {
          "base_uri": "https://localhost:8080/"
        },
        "id": "e9TY3HK9ZklE",
        "outputId": "55990a22-6c5a-4919-b198-f9b6e4ea4971"
      },
      "source": [
        "# Load our own tools\n",
        "# TO DO: don't go to GitHub if the file is already local.\n",
        "GITHUB = True\n",
        "if GITHUB:\n",
        "    #!pip install requests  # Uncomment this if necessary. Seems to be pre-installed.\n",
        "    import requests\n",
        "    r = requests.get('https://raw.githubusercontent.com/ShepherdCode/ShepherdML/master/Strings/tools_fasta.py')\n",
        "    with open('tools_fasta.py', 'w') as f:\n",
        "        f.write(r.text)\n",
        "    # TO DO: delete the file after import\n",
        "import tools_fasta as tools\n",
        "tools.yahoo()  # If this prints \"Yahoo!\" the the import was successful.\n",
        "\n",
        "TOOLS_CHANGED = False   # set to True to re-run with a new version of tools\n",
        "if TOOLS_CHANGED:\n",
        "  from importlib import reload \n",
        "  tools=reload(tools)\n",
        "  print(dir(tools))   # run this to see EVERYTHING in the tools module"
      ],
      "execution_count": 2,
      "outputs": [
        {
          "output_type": "stream",
          "text": [
            "Yahoo!\n"
          ],
          "name": "stdout"
        }
      ]
    },
    {
      "cell_type": "code",
      "metadata": {
        "id": "VQY7aTj29Kch"
      },
      "source": [
        "import numpy as np\n",
        "import pandas as pd\n",
        "import matplotlib.pyplot as plt\n",
        "from sklearn.model_selection import ShuffleSplit\n",
        "from sklearn.model_selection import cross_val_score\n",
        "from sklearn.model_selection import RepeatedKFold\n",
        "from sklearn.model_selection import StratifiedKFold\n",
        "import tensorflow as tf\n",
        "from tensorflow import keras\n",
        "import time\n",
        "dt='float32'\n",
        "tf.keras.backend.set_floatx(dt)"
      ],
      "execution_count": 3,
      "outputs": []
    },
    {
      "cell_type": "markdown",
      "metadata": {
        "id": "j7jcg6Wl9Kc2"
      },
      "source": [
        "Build model"
      ]
    },
    {
      "cell_type": "code",
      "metadata": {
        "id": "qLFNO1Xa9Kc3"
      },
      "source": [
        "def compile_model(model):\n",
        "    print(\"COMPILE...\")\n",
        "    ## learn rate = initial_learning_rate * decay_rate ^ (step / decay_steps)\n",
        "    #adam_default_learn_rate = 0.001\n",
        "    #schedule = tf.keras.optimizers.schedules.ExponentialDecay(\n",
        "    #    initial_learning_rate = adam_default_learn_rate*10,\n",
        "    #    decay_steps=10000, decay_rate=0.99, staircase=True)\n",
        "    #alrd = tf.keras.optimizers.Adam(learning_rate=schedule)\n",
        "    \n",
        "    ln_rate = tf.keras.optimizers.Adam(learning_rate = 0.0001)\n",
        "    bc=tf.keras.losses.BinaryCrossentropy(from_logits=False)\n",
        "    model.compile(loss=bc, optimizer=ln_rate, metrics=[\"accuracy\"])\n",
        "    print(\"...COMPILED\")\n",
        "    return model\n",
        "\n",
        "def build_model():\n",
        "    #SHAPE=(MAXLEN,5)  \n",
        "    SHAPE=(MAXLEN,4)  \n",
        "    # 4 input letters, 4 output dimensions, 1000 letters/RNA\n",
        "    elayer  = keras.layers.Embedding(4,4,input_length=1000) \n",
        "\n",
        "    clayer1 = keras.layers.Conv1D(FILTERS,KERNEL,activation=ACT,padding=\"same\",\n",
        "                                 input_shape=SHAPE)\n",
        "    clayer2 = keras.layers.Conv1D(FILTERS,KERNEL,activation=ACT,padding=\"same\")\n",
        "    clayer3 = keras.layers.MaxPooling1D(2)\n",
        "    clayer4 = keras.layers.Conv1D(FILTERS,KERNEL,activation=ACT,padding=\"same\")\n",
        "    clayer5 = keras.layers.Conv1D(FILTERS,KERNEL,activation=ACT,padding=\"same\")\n",
        "    clayer6 = keras.layers.MaxPooling1D(2)\n",
        "    clayer7 = keras.layers.Conv1D(FILTERS,KERNEL,activation=ACT,padding=\"same\")\n",
        "    clayer8 = keras.layers.Conv1D(FILTERS,KERNEL,activation=ACT,padding=\"same\")\n",
        "    clayer9 = keras.layers.MaxPooling1D(2)\n",
        "    clayer10 = keras.layers.Conv1D(FILTERS,KERNEL,activation=ACT,padding=\"same\")\n",
        "    clayer11 = keras.layers.Conv1D(FILTERS,KERNEL,activation=ACT,padding=\"same\")\n",
        "    clayer12 = keras.layers.MaxPooling1D(2)\n",
        "\n",
        "    clayer13 = keras.layers.Flatten()\n",
        "\n",
        "    dlayer1 = keras.layers.Dense(NEURONS, activation=ACT,dtype=dt, input_shape=[DENSE_LEN])\n",
        "    dlayer2 = keras.layers.Dropout(DROP)\n",
        "    dlayer3 = keras.layers.Dense(NEURONS, activation=ACT,dtype=dt)\n",
        "    dlayer4 = keras.layers.Dropout(DROP)\n",
        "    output_layer = keras.layers.Dense(1, activation=\"sigmoid\", dtype=dt)\n",
        "\n",
        "    cnn = keras.models.Sequential()\n",
        "    cnn.add(elayer)\n",
        "    cnn.add(clayer1)\n",
        "    cnn.add(clayer2)\n",
        "    cnn.add(clayer3)\n",
        "    cnn.add(clayer4)\n",
        "    cnn.add(clayer5)\n",
        "    cnn.add(clayer6)\n",
        "    cnn.add(clayer7)\n",
        "    cnn.add(clayer8)\n",
        "    cnn.add(clayer9)\n",
        "    cnn.add(clayer10)\n",
        "    cnn.add(clayer11)\n",
        "    cnn.add(clayer12)\n",
        "    cnn.add(clayer13)\n",
        "    cnn.add(dlayer1)\n",
        "    cnn.add(dlayer2)\n",
        "    cnn.add(dlayer3)\n",
        "    cnn.add(dlayer4)\n",
        "    cnn.add(output_layer)\n",
        "    mlpc = compile_model(cnn)\n",
        "    return mlpc"
      ],
      "execution_count": 4,
      "outputs": []
    },
    {
      "cell_type": "markdown",
      "metadata": {
        "id": "LdIS2utq9Kc9"
      },
      "source": [
        "Cross validation"
      ]
    },
    {
      "cell_type": "code",
      "metadata": {
        "id": "BVo4tbB_9Kc-"
      },
      "source": [
        "def do_cross_validation(X,y,given_model,X_VALID,Y_VALID):\n",
        "    cv_scores = []\n",
        "    fold=0\n",
        "    splitter = ShuffleSplit(n_splits=SPLITS, test_size=0.1, random_state=37863)\n",
        "    for train_index,valid_index in splitter.split(X):\n",
        "        fold += 1\n",
        "        X_train=X[train_index] # use iloc[] for dataframe\n",
        "        y_train=y[train_index]\n",
        "        X_valid=X[valid_index]\n",
        "        y_valid=y[valid_index]        \n",
        "        # Avoid continually improving the same model.\n",
        "        model = compile_model(keras.models.clone_model(given_model))\n",
        "        bestname=MODEL_FILE+\".cv.\"+str(fold)+\".best\"\n",
        "        mycallbacks = [keras.callbacks.ModelCheckpoint(\n",
        "            filepath=bestname, save_best_only=True, \n",
        "            monitor='val_accuracy', mode='max')]   \n",
        "        print(\"FIT\")\n",
        "        start_time=time.time()\n",
        "        history=model.fit(X_train, y_train, \n",
        "                epochs=EPOCHS, verbose=1, callbacks=mycallbacks,\n",
        "                validation_data=(X_valid,y_valid))\n",
        "        # THE VALIDATION ABOVE IS JUST FOR SHOW\n",
        "        end_time=time.time()\n",
        "        elapsed_time=(end_time-start_time)                        \n",
        "        print(\"Fold %d, %d epochs, %d sec\"%(fold,EPOCHS,elapsed_time))\n",
        "        pd.DataFrame(history.history).plot(figsize=(8,5))\n",
        "        plt.grid(True)\n",
        "        plt.gca().set_ylim(0,1)\n",
        "        plt.show()\n",
        "        best_model=keras.models.load_model(bestname)\n",
        "        # THE VALIDATION BELOW IS FOR KEEPS\n",
        "        scores = best_model.evaluate(X_VALID, Y_VALID, verbose=0)\n",
        "        print(\"%s: %.2f%%\" % (best_model.metrics_names[1], scores[1]*100))\n",
        "        cv_scores.append(scores[1] * 100)  \n",
        "    print()\n",
        "    print(\"%d-way Cross Validation mean %.2f%% (+/- %.2f%%)\" % (fold, np.mean(cv_scores), np.std(cv_scores)))"
      ],
      "execution_count": 5,
      "outputs": []
    },
    {
      "cell_type": "markdown",
      "metadata": {
        "id": "qd3Wj_vI9KdP"
      },
      "source": [
        "## Train on RNA lengths 200-1Kb"
      ]
    },
    {
      "cell_type": "code",
      "metadata": {
        "colab": {
          "base_uri": "https://localhost:8080/"
        },
        "id": "G1HuSs8ZbeL4",
        "outputId": "01c9b80c-1f9e-4d14-d425-28e47eac4520"
      },
      "source": [
        "print (\"Compile the model\")\n",
        "model=build_model()\n",
        "print (\"Summarize the model\")\n",
        "print(model.summary())  # Print this only once\n",
        "#model.save(MODEL_FILE+'.model')\n"
      ],
      "execution_count": 6,
      "outputs": [
        {
          "output_type": "stream",
          "text": [
            "Compile the model\n",
            "COMPILE...\n",
            "...COMPILED\n",
            "Summarize the model\n",
            "Model: \"sequential\"\n",
            "_________________________________________________________________\n",
            "Layer (type)                 Output Shape              Param #   \n",
            "=================================================================\n",
            "embedding (Embedding)        (None, 1000, 4)           16        \n",
            "_________________________________________________________________\n",
            "conv1d (Conv1D)              (None, 1000, 32)          416       \n",
            "_________________________________________________________________\n",
            "conv1d_1 (Conv1D)            (None, 1000, 32)          3104      \n",
            "_________________________________________________________________\n",
            "max_pooling1d (MaxPooling1D) (None, 500, 32)           0         \n",
            "_________________________________________________________________\n",
            "conv1d_2 (Conv1D)            (None, 500, 32)           3104      \n",
            "_________________________________________________________________\n",
            "conv1d_3 (Conv1D)            (None, 500, 32)           3104      \n",
            "_________________________________________________________________\n",
            "max_pooling1d_1 (MaxPooling1 (None, 250, 32)           0         \n",
            "_________________________________________________________________\n",
            "conv1d_4 (Conv1D)            (None, 250, 32)           3104      \n",
            "_________________________________________________________________\n",
            "conv1d_5 (Conv1D)            (None, 250, 32)           3104      \n",
            "_________________________________________________________________\n",
            "max_pooling1d_2 (MaxPooling1 (None, 125, 32)           0         \n",
            "_________________________________________________________________\n",
            "conv1d_6 (Conv1D)            (None, 125, 32)           3104      \n",
            "_________________________________________________________________\n",
            "conv1d_7 (Conv1D)            (None, 125, 32)           3104      \n",
            "_________________________________________________________________\n",
            "max_pooling1d_3 (MaxPooling1 (None, 62, 32)            0         \n",
            "_________________________________________________________________\n",
            "flatten (Flatten)            (None, 1984)              0         \n",
            "_________________________________________________________________\n",
            "dense (Dense)                (None, 24)                47640     \n",
            "_________________________________________________________________\n",
            "dropout (Dropout)            (None, 24)                0         \n",
            "_________________________________________________________________\n",
            "dense_1 (Dense)              (None, 24)                600       \n",
            "_________________________________________________________________\n",
            "dropout_1 (Dropout)          (None, 24)                0         \n",
            "_________________________________________________________________\n",
            "dense_2 (Dense)              (None, 1)                 25        \n",
            "=================================================================\n",
            "Total params: 70,425\n",
            "Trainable params: 70,425\n",
            "Non-trainable params: 0\n",
            "_________________________________________________________________\n",
            "None\n"
          ],
          "name": "stdout"
        }
      ]
    },
    {
      "cell_type": "code",
      "metadata": {
        "id": "f8fNo6sn9KdH"
      },
      "source": [
        "def load_data_from_files(nc_filename,pc_filename):\n",
        "  FREEMEM=True   # use False for debugging, True for production\n",
        "  print(\"Load data from files.\")\n",
        "  nc_seq=tools.load_fasta(nc_filename,0)\n",
        "  pc_seq=tools.load_fasta(pc_filename,1)\n",
        "  train_set=pd.concat((nc_seq,pc_seq),axis=0)\n",
        "  print(\"Ready: train_set\")\n",
        "  subset=tools.make_slice(train_set,MINLEN,MAXLEN)# One array to two: X and y\n",
        "  if FREEMEM:\n",
        "      nc_seq=None\n",
        "      pc_seq=None\n",
        "      train_set=None\n",
        "  (X1,y_train)=tools.separate_X_and_y(subset)\n",
        "  # X1 is pandas df of (\"list\" of one sequence)\n",
        "  X2=X1.to_numpy()  # numpy ndarray of (\"list\" of one sequence)\n",
        "  X3=[elem[0] for elem in X2]  # numpy ndarray of ACGT-str\n",
        "  # X3? It might be faster to use int-array than char-array. Come back to this.\n",
        "  X4=X3  # no-op\n",
        "  print(\"X4\",type(X4))\n",
        "  #print(X4[0])\n",
        "  if FREEMEM:\n",
        "      X1=None\n",
        "      X2=None\n",
        "      X3=None\n",
        "  X5=[]\n",
        "  dna_to_int = {'A':0,'C':1,'G':2,'T':3}\n",
        "  for x in X4:\n",
        "      a=[]\n",
        "      for c in x:\n",
        "          i = dna_to_int[c]\n",
        "          a.append(i)\n",
        "      X5.append(a)\n",
        "  X5=np.asarray(X5)\n",
        "  print(\"X5\",type(X5))\n",
        "  print(X5.shape)\n",
        "  if FREEMEM:\n",
        "      X4=None\n",
        "  X_train=X5\n",
        "  if FREEMEM:\n",
        "      X5=None\n",
        "  print(\"X_train\",type(X_train))\n",
        "  y_train=y_train.to_numpy()\n",
        "  print(X_train.shape)\n",
        "  print(X_train[0].shape)\n",
        "  print(X_train[0])\n",
        "  return X_train,y_train\n"
      ],
      "execution_count": 7,
      "outputs": []
    },
    {
      "cell_type": "code",
      "metadata": {
        "colab": {
          "base_uri": "https://localhost:8080/"
        },
        "id": "UmEls9oXRQON",
        "outputId": "24326da6-2a75-486e-f295-bdd3a5d00ff6"
      },
      "source": [
        "print(\"Loading training data...\")\n",
        "X_train,y_train = load_data_from_files(NC_FILENAME,PC_FILENAME)"
      ],
      "execution_count": 8,
      "outputs": [
        {
          "output_type": "stream",
          "text": [
            "Loading training data...\n",
            "Load data from files.\n",
            "Ready: train_set\n",
            "X4 <class 'list'>\n",
            "X5 <class 'numpy.ndarray'>\n",
            "(24000, 1000)\n",
            "X_train <class 'numpy.ndarray'>\n",
            "(24000, 1000)\n",
            "(1000,)\n",
            "[0 2 1 2 1 3 1 1 2 1 1 3 0 3 1 1 1 3 0 1 3 0 0 2 0 2 1 2 2 0 1 0 0 0 1 2 3\n",
            " 0 0 0 0 1 1 1 0 3 3 1 2 1 3 3 3 2 2 2 2 2 3 1 1 2 0 1 3 2 2 1 1 3 3 2 3 1\n",
            " 0 0 3 2 2 3 2 1 2 0 2 2 1 3 3 1 0 0 2 1 3 2 3 2 1 2 3 2 1 3 2 0 2 0 2 2 0\n",
            " 2 3 2 0 2 2 1 2 2 1 2 2 2 2 3 1 0 3 1 0 1 2 0 1 3 1 3 3 3 1 3 2 1 3 0 1 3\n",
            " 0 3 2 1 1 3 0 3 2 1 2 0 2 2 0 0 1 3 3 3 0 0 1 0 0 2 0 1 1 1 0 2 0 1 2 0 0\n",
            " 3 2 0 0 0 1 2 1 1 1 2 3 2 3 1 0 3 2 1 3 1 3 1 0 0 2 0 3 3 0 2 2 3 2 0 1 0\n",
            " 2 0 0 0 2 0 3 0 0 3 1 3 0 2 3 0 1 0 3 1 2 0 3 2 0 3 3 1 1 2 3 3 3 3 3 0 3\n",
            " 1 0 0 2 2 3 1 3 0 0 2 2 0 1 2 1 3 0 2 1 0 3 0 2 3 0 0 3 0 1 0 1 1 2 3 2 0\n",
            " 2 2 2 1 3 2 2 3 1 3 2 3 0 0 2 0 3 2 2 2 1 2 0 1 0 0 2 1 2 2 0 0 2 2 1 3 0\n",
            " 0 1 0 0 3 1 1 2 3 1 1 0 3 2 1 3 2 0 1 3 2 3 1 2 3 2 0 2 3 0 2 1 1 2 1 1 1\n",
            " 0 2 0 1 2 2 2 3 3 0 1 2 3 1 2 1 1 1 0 1 2 3 1 0 3 0 1 1 1 2 0 3 2 3 1 1 1\n",
            " 1 0 3 3 3 1 3 0 0 0 0 3 1 2 0 1 3 1 2 1 0 2 3 2 3 0 2 2 1 2 1 2 3 3 0 2 0\n",
            " 3 3 3 3 0 2 0 2 1 3 3 2 3 2 1 1 2 2 1 1 0 1 2 2 3 2 2 1 1 0 2 1 2 2 3 1 0\n",
            " 0 1 3 3 2 3 2 0 3 0 2 2 3 3 2 2 1 0 3 2 3 1 1 2 2 2 2 1 3 2 0 1 3 0 2 2 2\n",
            " 0 1 1 2 3 3 3 2 3 0 2 1 1 0 0 2 1 3 2 1 3 1 0 3 3 1 1 0 2 3 3 3 1 2 2 3 3\n",
            " 0 3 1 3 2 0 2 0 1 3 1 0 0 1 0 2 3 3 0 1 2 1 3 3 1 2 1 1 2 2 1 2 2 1 3 1 1\n",
            " 1 0 2 1 3 1 3 3 3 1 0 1 0 2 0 1 3 2 1 0 3 1 1 3 3 0 3 2 3 3 1 0 3 1 3 3 2\n",
            " 2 2 3 0 2 2 1 2 2 3 3 2 3 1 2 1 0 1 3 0 3 1 2 1 0 1 2 2 1 1 2 0 1 0 1 3 1\n",
            " 0 2 0 2 0 2 2 3 0 0 0 0 2 1 1 1 2 1 3 1 3 0 0 0 3 0 0 1 1 3 1 3 2 2 0 3 2\n",
            " 1 2 0 3 2 3 0 1 0 3 0 1 0 1 0 3 2 1 1 1 3 1 0 1 1 3 0 2 0 1 3 3 1 2 1 1 2\n",
            " 2 2 0 2 0 1 2 3 2 3 1 2 2 1 3 1 2 2 2 1 0 1 3 1 1 3 1 2 2 0 2 0 0 1 0 3 0\n",
            " 3 2 0 0 1 3 1 2 2 3 0 3 3 3 0 1 3 1 2 1 1 2 2 0 3 1 1 3 2 2 2 2 3 1 2 2 1\n",
            " 2 3 0 3 2 1 1 3 1 1 3 3 3 1 0 1 1 1 0 0 0 2 2 0 2 3 1 1 1 3 1 2 1 3 2 1 3\n",
            " 3 2 3 0 0 2 1 1 3 2 1 1 2 0 3 3 1 0 3 2 0 0 3 3 1 3 0 0 1 3 0 0 0 2 2 1 1\n",
            " 2 0 2 2 3 3 3 0 1 2 0 3 3 1 3 3 0 2 3 1 2 0 2 0 3 1 2 2 2 1 1 3 0 2 2 0 0\n",
            " 2 1 1 1 3 3 3 3 1 1 1 3 3 1 1 2 2 3 3 2 3 1 1 1 1 1 0 0 0 2 0 1 0 1 2 1 1\n",
            " 2 0 0 1 3 1 3 2 0 2 1 2 0 2 2 1 1 3 3 0 0 3 3 3 1 1 0 3 1 0 1 1 1 0 3 1 0\n",
            " 1]\n"
          ],
          "name": "stdout"
        }
      ]
    },
    {
      "cell_type": "code",
      "metadata": {
        "colab": {
          "base_uri": "https://localhost:8080/"
        },
        "id": "sfvgDZR1a_2j",
        "outputId": "bbf753b5-1fc3-46c5-eb1c-823b2e4cb216"
      },
      "source": [
        "print(\"Loading validation data...\")\n",
        "X_VALID,Y_VALID = load_data_from_files(NC_VAL_FILE,PC_VAL_FILE)"
      ],
      "execution_count": 9,
      "outputs": [
        {
          "output_type": "stream",
          "text": [
            "Loading validation data...\n",
            "Load data from files.\n",
            "Ready: train_set\n",
            "X4 <class 'list'>\n",
            "X5 <class 'numpy.ndarray'>\n",
            "(100000, 1000)\n",
            "X_train <class 'numpy.ndarray'>\n",
            "(100000, 1000)\n",
            "(1000,)\n",
            "[3 1 0 1 2 3 2 3 0 3 3 1 2 3 2 1 1 3 2 0 3 3 0 0 3 0 0 2 3 2 0 0 1 2 1 0 2\n",
            " 0 2 3 2 3 0 1 1 1 2 0 2 3 0 1 3 2 3 3 2 2 0 1 3 2 2 1 0 2 3 2 1 3 3 3 3 3\n",
            " 3 0 3 3 2 1 2 3 3 0 2 2 2 2 2 0 0 0 1 0 1 3 0 1 2 3 2 1 3 0 2 0 3 0 2 0 0\n",
            " 3 3 1 1 3 3 1 0 3 2 3 3 0 2 3 3 2 1 1 1 2 1 3 3 2 1 0 3 0 0 1 1 3 0 2 0 3\n",
            " 1 2 3 1 0 1 1 1 1 2 2 2 2 1 0 3 0 0 1 2 1 3 3 0 0 3 3 3 1 1 2 3 2 0 1 2 2\n",
            " 1 3 3 0 0 3 2 2 3 2 0 1 3 1 2 2 3 0 1 1 1 1 2 1 3 2 0 1 1 2 3 1 1 3 0 2 2\n",
            " 0 1 2 1 1 2 2 2 1 0 0 3 0 3 0 0 1 2 1 0 2 1 1 3 3 2 0 1 2 2 1 3 1 2 1 3 3\n",
            " 3 3 3 3 3 1 3 1 1 0 3 0 3 1 0 0 3 2 1 2 1 2 2 0 0 0 3 2 3 3 1 2 0 1 1 2 1\n",
            " 1 0 3 1 0 1 1 2 0 1 1 0 3 0 1 0 3 1 3 0 0 2 2 2 0 1 1 2 2 3 0 3 0 0 0 2 2\n",
            " 1 3 3 3 3 1 1 1 0 2 3 2 1 3 2 1 0 3 3 2 2 0 0 1 0 1 1 3 0 0 2 0 1 1 2 0 2\n",
            " 1 1 1 0 1 2 1 2 0 3 3 2 2 1 0 3 3 2 0 2 2 0 2 0 1 1 0 3 3 3 1 3 0 0 2 3 1\n",
            " 2 3 3 1 0 0 3 1 1 1 2 1 1 3 3 2 0 1 1 3 0 1 0 0 2 0 1 3 1 2 2 2 1 0 1 0 3\n",
            " 0 3 1 1 3 3 2 1 3 3 1 2 3 0 2 0 1 3 1 2 0 3 1 3 3 0 2 2 1 1 0 2 1 3 3 2 0\n",
            " 0 3 3 3 0 3 2 2 0 0 2 1 2 1 2 1 2 2 0 0 1 0 2 1 2 0 3 3 3 0 2 2 1 0 3 2 1\n",
            " 3 3 0 1 3 0 3 3 1 2 1 3 2 2 0 2 3 3 3 3 1 0 3 0 2 3 3 3 3 2 1 2 1 1 0 0 1\n",
            " 3 2 2 3 0 2 0 0 0 1 2 0 2 3 0 1 2 3 0 0 2 2 2 1 2 0 0 1 1 1 3 2 0 2 0 3 1\n",
            " 3 3 3 2 3 1 3 1 1 0 1 3 2 3 1 3 1 0 0 1 3 0 1 0 0 0 0 1 0 2 1 1 3 1 1 3 3\n",
            " 1 0 2 2 0 2 2 1 3 1 0 3 2 1 2 2 1 3 3 2 0 1 1 2 3 1 0 3 3 1 0 2 0 0 2 1 2\n",
            " 0 2 2 1 0 0 2 2 3 2 1 3 3 2 2 0 2 2 3 0 2 2 1 2 2 3 2 3 2 1 3 3 0 3 3 1 1\n",
            " 2 0 2 1 2 3 0 2 2 0 1 3 1 0 0 3 2 3 0 3 1 0 2 1 3 0 3 2 3 0 2 1 2 0 1 3 3\n",
            " 2 1 3 0 1 1 1 3 1 3 3 1 0 0 1 0 0 0 3 0 0 3 2 2 2 3 1 1 1 3 0 0 2 0 3 3 0\n",
            " 2 1 3 1 0 2 2 0 1 1 3 3 3 3 0 3 3 2 3 0 0 2 3 2 2 0 0 0 2 1 2 1 3 2 3 3 2\n",
            " 2 1 2 0 0 3 0 0 3 3 1 2 3 1 2 2 1 0 2 0 2 0 1 2 1 1 0 3 1 2 1 3 0 3 2 3 3\n",
            " 0 3 3 3 3 1 3 2 3 1 2 1 0 2 1 2 1 2 2 2 0 0 0 3 1 2 3 1 0 2 1 1 2 2 3 1 0\n",
            " 2 0 1 1 3 1 3 1 1 1 3 3 0 3 3 1 2 3 3 0 3 3 1 0 0 0 1 3 0 3 1 0 3 1 1 0 1\n",
            " 3 3 0 1 3 2 2 2 3 2 0 0 1 3 3 3 0 0 3 3 0 0 3 1 2 1 2 2 3 3 2 2 2 1 0 2 2\n",
            " 1 3 3 0 0 2 2 3 3 1 2 3 2 2 1 1 1 3 0 1 3 0 1 2 0 0 1 2 2 2 3 3 3 0 0 1 3\n",
            " 2]\n"
          ],
          "name": "stdout"
        }
      ]
    },
    {
      "cell_type": "code",
      "metadata": {
        "colab": {
          "base_uri": "https://localhost:8080/",
          "height": 1000
        },
        "id": "mQ8eW5Rg9KdQ",
        "outputId": "9151af02-47a9-4f9b-cf05-a087dee2f380"
      },
      "source": [
        "print (\"Cross validation\")\n",
        "do_cross_validation(X_train,y_train,model,X_VALID,Y_VALID)  \n",
        "print (\"Done\")"
      ],
      "execution_count": 10,
      "outputs": [
        {
          "output_type": "stream",
          "text": [
            "Cross validation\n",
            "COMPILE...\n",
            "...COMPILED\n",
            "FIT\n",
            "Epoch 1/20\n",
            "675/675 [==============================] - 6s 6ms/step - loss: 0.6879 - accuracy: 0.5274 - val_loss: 0.6378 - val_accuracy: 0.6288\n",
            "INFO:tensorflow:Assets written to: /content/drive/My Drive/data/Test_Non_noisy_12K.cv.1.best/assets\n",
            "Epoch 2/20\n",
            "675/675 [==============================] - 4s 5ms/step - loss: 0.6010 - accuracy: 0.6749 - val_loss: 0.5914 - val_accuracy: 0.6750\n",
            "INFO:tensorflow:Assets written to: /content/drive/My Drive/data/Test_Non_noisy_12K.cv.1.best/assets\n",
            "Epoch 3/20\n",
            "675/675 [==============================] - 4s 5ms/step - loss: 0.5600 - accuracy: 0.7130 - val_loss: 0.5264 - val_accuracy: 0.7325\n",
            "INFO:tensorflow:Assets written to: /content/drive/My Drive/data/Test_Non_noisy_12K.cv.1.best/assets\n",
            "Epoch 4/20\n",
            "675/675 [==============================] - 4s 5ms/step - loss: 0.5298 - accuracy: 0.7346 - val_loss: 0.5154 - val_accuracy: 0.7383\n",
            "INFO:tensorflow:Assets written to: /content/drive/My Drive/data/Test_Non_noisy_12K.cv.1.best/assets\n",
            "Epoch 5/20\n",
            "675/675 [==============================] - 4s 5ms/step - loss: 0.5222 - accuracy: 0.7424 - val_loss: 0.5208 - val_accuracy: 0.7287\n",
            "Epoch 6/20\n",
            "675/675 [==============================] - 4s 5ms/step - loss: 0.5194 - accuracy: 0.7469 - val_loss: 0.5007 - val_accuracy: 0.7513\n",
            "INFO:tensorflow:Assets written to: /content/drive/My Drive/data/Test_Non_noisy_12K.cv.1.best/assets\n",
            "Epoch 7/20\n",
            "675/675 [==============================] - 4s 5ms/step - loss: 0.4984 - accuracy: 0.7593 - val_loss: 0.4897 - val_accuracy: 0.7583\n",
            "INFO:tensorflow:Assets written to: /content/drive/My Drive/data/Test_Non_noisy_12K.cv.1.best/assets\n",
            "Epoch 8/20\n",
            "675/675 [==============================] - 4s 5ms/step - loss: 0.4849 - accuracy: 0.7689 - val_loss: 0.4886 - val_accuracy: 0.7558\n",
            "Epoch 9/20\n",
            "675/675 [==============================] - 4s 5ms/step - loss: 0.4855 - accuracy: 0.7658 - val_loss: 0.4890 - val_accuracy: 0.7633\n",
            "INFO:tensorflow:Assets written to: /content/drive/My Drive/data/Test_Non_noisy_12K.cv.1.best/assets\n",
            "Epoch 10/20\n",
            "675/675 [==============================] - 4s 5ms/step - loss: 0.4885 - accuracy: 0.7632 - val_loss: 0.4895 - val_accuracy: 0.7504\n",
            "Epoch 11/20\n",
            "675/675 [==============================] - 4s 5ms/step - loss: 0.4710 - accuracy: 0.7767 - val_loss: 0.4813 - val_accuracy: 0.7629\n",
            "Epoch 12/20\n",
            "675/675 [==============================] - 4s 5ms/step - loss: 0.4728 - accuracy: 0.7770 - val_loss: 0.5349 - val_accuracy: 0.7379\n",
            "Epoch 13/20\n",
            "675/675 [==============================] - 4s 5ms/step - loss: 0.4603 - accuracy: 0.7816 - val_loss: 0.4803 - val_accuracy: 0.7625\n",
            "Epoch 14/20\n",
            "675/675 [==============================] - 4s 5ms/step - loss: 0.4483 - accuracy: 0.7913 - val_loss: 0.4817 - val_accuracy: 0.7638\n",
            "INFO:tensorflow:Assets written to: /content/drive/My Drive/data/Test_Non_noisy_12K.cv.1.best/assets\n",
            "Epoch 15/20\n",
            "675/675 [==============================] - 4s 5ms/step - loss: 0.4455 - accuracy: 0.7910 - val_loss: 0.4992 - val_accuracy: 0.7563\n",
            "Epoch 16/20\n",
            "675/675 [==============================] - 4s 5ms/step - loss: 0.4489 - accuracy: 0.7861 - val_loss: 0.5085 - val_accuracy: 0.7475\n",
            "Epoch 17/20\n",
            "675/675 [==============================] - 4s 5ms/step - loss: 0.4324 - accuracy: 0.7999 - val_loss: 0.4895 - val_accuracy: 0.7646\n",
            "INFO:tensorflow:Assets written to: /content/drive/My Drive/data/Test_Non_noisy_12K.cv.1.best/assets\n",
            "Epoch 18/20\n",
            "675/675 [==============================] - 4s 5ms/step - loss: 0.4233 - accuracy: 0.8048 - val_loss: 0.5006 - val_accuracy: 0.7592\n",
            "Epoch 19/20\n",
            "675/675 [==============================] - 4s 5ms/step - loss: 0.4163 - accuracy: 0.8114 - val_loss: 0.4963 - val_accuracy: 0.7600\n",
            "Epoch 20/20\n",
            "675/675 [==============================] - 4s 5ms/step - loss: 0.4151 - accuracy: 0.8135 - val_loss: 0.5069 - val_accuracy: 0.7579\n",
            "Fold 1, 20 epochs, 93 sec\n"
          ],
          "name": "stdout"
        },
        {
          "output_type": "display_data",
          "data": {
            "image/png": "[encoded data removed]",
            "text/plain": [
              "<Figure size 576x360 with 1 Axes>"
            ]
          },
          "metadata": {
            "tags": [],
            "needs_background": "light"
          }
        },
        {
          "output_type": "stream",
          "text": [
            "accuracy: 76.15%\n",
            "COMPILE...\n",
            "...COMPILED\n",
            "FIT\n",
            "Epoch 1/20\n",
            "675/675 [==============================] - 5s 6ms/step - loss: 0.6930 - accuracy: 0.5082 - val_loss: 0.6434 - val_accuracy: 0.6342\n",
            "INFO:tensorflow:Assets written to: /content/drive/My Drive/data/Test_Non_noisy_12K.cv.2.best/assets\n",
            "Epoch 2/20\n",
            "675/675 [==============================] - 4s 5ms/step - loss: 0.6432 - accuracy: 0.6287 - val_loss: 0.6355 - val_accuracy: 0.6379\n",
            "INFO:tensorflow:Assets written to: /content/drive/My Drive/data/Test_Non_noisy_12K.cv.2.best/assets\n",
            "Epoch 3/20\n",
            "675/675 [==============================] - 4s 6ms/step - loss: 0.6091 - accuracy: 0.6648 - val_loss: 0.5588 - val_accuracy: 0.7133\n",
            "INFO:tensorflow:Assets written to: /content/drive/My Drive/data/Test_Non_noisy_12K.cv.2.best/assets\n",
            "Epoch 4/20\n",
            "675/675 [==============================] - 4s 6ms/step - loss: 0.5722 - accuracy: 0.7088 - val_loss: 0.5315 - val_accuracy: 0.7300\n",
            "INFO:tensorflow:Assets written to: /content/drive/My Drive/data/Test_Non_noisy_12K.cv.2.best/assets\n",
            "Epoch 5/20\n",
            "675/675 [==============================] - 4s 6ms/step - loss: 0.5478 - accuracy: 0.7224 - val_loss: 0.5046 - val_accuracy: 0.7479\n",
            "INFO:tensorflow:Assets written to: /content/drive/My Drive/data/Test_Non_noisy_12K.cv.2.best/assets\n",
            "Epoch 6/20\n",
            "675/675 [==============================] - 4s 6ms/step - loss: 0.5284 - accuracy: 0.7397 - val_loss: 0.4914 - val_accuracy: 0.7600\n",
            "INFO:tensorflow:Assets written to: /content/drive/My Drive/data/Test_Non_noisy_12K.cv.2.best/assets\n",
            "Epoch 7/20\n",
            "675/675 [==============================] - 4s 6ms/step - loss: 0.5063 - accuracy: 0.7556 - val_loss: 0.4844 - val_accuracy: 0.7679\n",
            "INFO:tensorflow:Assets written to: /content/drive/My Drive/data/Test_Non_noisy_12K.cv.2.best/assets\n",
            "Epoch 8/20\n",
            "675/675 [==============================] - 4s 5ms/step - loss: 0.5010 - accuracy: 0.7572 - val_loss: 0.4772 - val_accuracy: 0.7742\n",
            "INFO:tensorflow:Assets written to: /content/drive/My Drive/data/Test_Non_noisy_12K.cv.2.best/assets\n",
            "Epoch 9/20\n",
            "675/675 [==============================] - 4s 6ms/step - loss: 0.4826 - accuracy: 0.7697 - val_loss: 0.4765 - val_accuracy: 0.7746\n",
            "INFO:tensorflow:Assets written to: /content/drive/My Drive/data/Test_Non_noisy_12K.cv.2.best/assets\n",
            "Epoch 10/20\n",
            "675/675 [==============================] - 4s 7ms/step - loss: 0.4849 - accuracy: 0.7681 - val_loss: 0.4726 - val_accuracy: 0.7738\n",
            "Epoch 11/20\n",
            "675/675 [==============================] - 4s 6ms/step - loss: 0.4715 - accuracy: 0.7778 - val_loss: 0.4691 - val_accuracy: 0.7783\n",
            "INFO:tensorflow:Assets written to: /content/drive/My Drive/data/Test_Non_noisy_12K.cv.2.best/assets\n",
            "Epoch 12/20\n",
            "675/675 [==============================] - 4s 6ms/step - loss: 0.4644 - accuracy: 0.7759 - val_loss: 0.4773 - val_accuracy: 0.7754\n",
            "Epoch 13/20\n",
            "675/675 [==============================] - 4s 5ms/step - loss: 0.4658 - accuracy: 0.7782 - val_loss: 0.4742 - val_accuracy: 0.7708\n",
            "Epoch 14/20\n",
            "675/675 [==============================] - 4s 6ms/step - loss: 0.4550 - accuracy: 0.7916 - val_loss: 0.4709 - val_accuracy: 0.7763\n",
            "Epoch 15/20\n",
            "675/675 [==============================] - 4s 6ms/step - loss: 0.4533 - accuracy: 0.7890 - val_loss: 0.5205 - val_accuracy: 0.7454\n",
            "Epoch 16/20\n",
            "675/675 [==============================] - 4s 6ms/step - loss: 0.4443 - accuracy: 0.7946 - val_loss: 0.4708 - val_accuracy: 0.7742\n",
            "Epoch 17/20\n",
            "675/675 [==============================] - 4s 6ms/step - loss: 0.4379 - accuracy: 0.7994 - val_loss: 0.4810 - val_accuracy: 0.7692\n",
            "Epoch 18/20\n",
            "675/675 [==============================] - 4s 5ms/step - loss: 0.4323 - accuracy: 0.8051 - val_loss: 0.4692 - val_accuracy: 0.7796\n",
            "INFO:tensorflow:Assets written to: /content/drive/My Drive/data/Test_Non_noisy_12K.cv.2.best/assets\n",
            "Epoch 19/20\n",
            "675/675 [==============================] - 4s 5ms/step - loss: 0.4262 - accuracy: 0.8063 - val_loss: 0.4796 - val_accuracy: 0.7771\n",
            "Epoch 20/20\n",
            "675/675 [==============================] - 4s 5ms/step - loss: 0.4222 - accuracy: 0.8103 - val_loss: 0.5007 - val_accuracy: 0.7579\n",
            "Fold 2, 20 epochs, 100 sec\n"
          ],
          "name": "stdout"
        },
        {
          "output_type": "display_data",
          "data": {
            "image/png": "[encoded data removed]",
            "text/plain": [
              "<Figure size 576x360 with 1 Axes>"
            ]
          },
          "metadata": {
            "tags": [],
            "needs_background": "light"
          }
        },
        {
          "output_type": "stream",
          "text": [
            "accuracy: 76.96%\n",
            "COMPILE...\n",
            "...COMPILED\n",
            "FIT\n",
            "Epoch 1/20\n",
            "675/675 [==============================] - 5s 6ms/step - loss: 0.6885 - accuracy: 0.5276 - val_loss: 0.6439 - val_accuracy: 0.6233\n",
            "INFO:tensorflow:Assets written to: /content/drive/My Drive/data/Test_Non_noisy_12K.cv.3.best/assets\n",
            "Epoch 2/20\n",
            "675/675 [==============================] - 4s 6ms/step - loss: 0.6407 - accuracy: 0.6358 - val_loss: 0.6116 - val_accuracy: 0.6538\n",
            "INFO:tensorflow:Assets written to: /content/drive/My Drive/data/Test_Non_noisy_12K.cv.3.best/assets\n",
            "Epoch 3/20\n",
            "675/675 [==============================] - 4s 5ms/step - loss: 0.6149 - accuracy: 0.6568 - val_loss: 0.6094 - val_accuracy: 0.6704\n",
            "INFO:tensorflow:Assets written to: /content/drive/My Drive/data/Test_Non_noisy_12K.cv.3.best/assets\n",
            "Epoch 4/20\n",
            "675/675 [==============================] - 4s 5ms/step - loss: 0.5832 - accuracy: 0.6929 - val_loss: 0.5280 - val_accuracy: 0.7321\n",
            "INFO:tensorflow:Assets written to: /content/drive/My Drive/data/Test_Non_noisy_12K.cv.3.best/assets\n",
            "Epoch 5/20\n",
            "675/675 [==============================] - 4s 5ms/step - loss: 0.5417 - accuracy: 0.7267 - val_loss: 0.5318 - val_accuracy: 0.7271\n",
            "Epoch 6/20\n",
            "675/675 [==============================] - 4s 5ms/step - loss: 0.5169 - accuracy: 0.7433 - val_loss: 0.5068 - val_accuracy: 0.7471\n",
            "INFO:tensorflow:Assets written to: /content/drive/My Drive/data/Test_Non_noisy_12K.cv.3.best/assets\n",
            "Epoch 7/20\n",
            "675/675 [==============================] - 4s 5ms/step - loss: 0.5131 - accuracy: 0.7437 - val_loss: 0.5458 - val_accuracy: 0.7204\n",
            "Epoch 8/20\n",
            "675/675 [==============================] - 4s 5ms/step - loss: 0.5004 - accuracy: 0.7555 - val_loss: 0.5072 - val_accuracy: 0.7442\n",
            "Epoch 9/20\n",
            "675/675 [==============================] - 4s 5ms/step - loss: 0.4909 - accuracy: 0.7624 - val_loss: 0.4878 - val_accuracy: 0.7592\n",
            "INFO:tensorflow:Assets written to: /content/drive/My Drive/data/Test_Non_noisy_12K.cv.3.best/assets\n",
            "Epoch 10/20\n",
            "675/675 [==============================] - 4s 5ms/step - loss: 0.4827 - accuracy: 0.7653 - val_loss: 0.4855 - val_accuracy: 0.7633\n",
            "INFO:tensorflow:Assets written to: /content/drive/My Drive/data/Test_Non_noisy_12K.cv.3.best/assets\n",
            "Epoch 11/20\n",
            "675/675 [==============================] - 4s 5ms/step - loss: 0.4659 - accuracy: 0.7817 - val_loss: 0.4861 - val_accuracy: 0.7625\n",
            "Epoch 12/20\n",
            "675/675 [==============================] - 4s 5ms/step - loss: 0.4551 - accuracy: 0.7821 - val_loss: 0.4847 - val_accuracy: 0.7642\n",
            "INFO:tensorflow:Assets written to: /content/drive/My Drive/data/Test_Non_noisy_12K.cv.3.best/assets\n",
            "Epoch 13/20\n",
            "675/675 [==============================] - 4s 5ms/step - loss: 0.4506 - accuracy: 0.7902 - val_loss: 0.4833 - val_accuracy: 0.7650\n",
            "INFO:tensorflow:Assets written to: /content/drive/My Drive/data/Test_Non_noisy_12K.cv.3.best/assets\n",
            "Epoch 14/20\n",
            "675/675 [==============================] - 4s 6ms/step - loss: 0.4460 - accuracy: 0.7923 - val_loss: 0.5047 - val_accuracy: 0.7496\n",
            "Epoch 15/20\n",
            "675/675 [==============================] - 4s 5ms/step - loss: 0.4442 - accuracy: 0.7880 - val_loss: 0.4884 - val_accuracy: 0.7558\n",
            "Epoch 16/20\n",
            "675/675 [==============================] - 4s 5ms/step - loss: 0.4340 - accuracy: 0.7977 - val_loss: 0.4965 - val_accuracy: 0.7629\n",
            "Epoch 17/20\n",
            "675/675 [==============================] - 4s 5ms/step - loss: 0.4198 - accuracy: 0.8071 - val_loss: 0.5062 - val_accuracy: 0.7492\n",
            "Epoch 18/20\n",
            "675/675 [==============================] - 3s 5ms/step - loss: 0.4135 - accuracy: 0.8098 - val_loss: 0.4977 - val_accuracy: 0.7617\n",
            "Epoch 19/20\n",
            "675/675 [==============================] - 3s 5ms/step - loss: 0.4089 - accuracy: 0.8132 - val_loss: 0.5158 - val_accuracy: 0.7504\n",
            "Epoch 20/20\n",
            "675/675 [==============================] - 4s 5ms/step - loss: 0.4024 - accuracy: 0.8174 - val_loss: 0.5394 - val_accuracy: 0.7450\n",
            "Fold 3, 20 epochs, 93 sec\n"
          ],
          "name": "stdout"
        },
        {
          "output_type": "display_data",
          "data": {
            "image/png": "[encoded data removed]",
            "text/plain": [
              "<Figure size 576x360 with 1 Axes>"
            ]
          },
          "metadata": {
            "tags": [],
            "needs_background": "light"
          }
        },
        {
          "output_type": "stream",
          "text": [
            "accuracy: 76.50%\n",
            "COMPILE...\n",
            "...COMPILED\n",
            "FIT\n",
            "Epoch 1/20\n",
            "675/675 [==============================] - 5s 6ms/step - loss: 0.6885 - accuracy: 0.5251 - val_loss: 0.6255 - val_accuracy: 0.6621\n",
            "INFO:tensorflow:Assets written to: /content/drive/My Drive/data/Test_Non_noisy_12K.cv.4.best/assets\n",
            "Epoch 2/20\n",
            "675/675 [==============================] - 4s 6ms/step - loss: 0.6340 - accuracy: 0.6375 - val_loss: 0.6008 - val_accuracy: 0.6733\n",
            "INFO:tensorflow:Assets written to: /content/drive/My Drive/data/Test_Non_noisy_12K.cv.4.best/assets\n",
            "Epoch 3/20\n",
            "675/675 [==============================] - 4s 5ms/step - loss: 0.6041 - accuracy: 0.6746 - val_loss: 0.5945 - val_accuracy: 0.6683\n",
            "Epoch 4/20\n",
            "675/675 [==============================] - 4s 5ms/step - loss: 0.5757 - accuracy: 0.6957 - val_loss: 0.5503 - val_accuracy: 0.7104\n",
            "INFO:tensorflow:Assets written to: /content/drive/My Drive/data/Test_Non_noisy_12K.cv.4.best/assets\n",
            "Epoch 5/20\n",
            "675/675 [==============================] - 4s 6ms/step - loss: 0.5415 - accuracy: 0.7271 - val_loss: 0.5316 - val_accuracy: 0.7300\n",
            "INFO:tensorflow:Assets written to: /content/drive/My Drive/data/Test_Non_noisy_12K.cv.4.best/assets\n",
            "Epoch 6/20\n",
            "675/675 [==============================] - 4s 5ms/step - loss: 0.5353 - accuracy: 0.7308 - val_loss: 0.5462 - val_accuracy: 0.7163\n",
            "Epoch 7/20\n",
            "675/675 [==============================] - 4s 5ms/step - loss: 0.5102 - accuracy: 0.7490 - val_loss: 0.5340 - val_accuracy: 0.7279\n",
            "Epoch 8/20\n",
            "675/675 [==============================] - 4s 5ms/step - loss: 0.5101 - accuracy: 0.7520 - val_loss: 0.5115 - val_accuracy: 0.7442\n",
            "INFO:tensorflow:Assets written to: /content/drive/My Drive/data/Test_Non_noisy_12K.cv.4.best/assets\n",
            "Epoch 9/20\n",
            "675/675 [==============================] - 4s 5ms/step - loss: 0.4925 - accuracy: 0.7589 - val_loss: 0.5152 - val_accuracy: 0.7404\n",
            "Epoch 10/20\n",
            "675/675 [==============================] - 4s 5ms/step - loss: 0.4932 - accuracy: 0.7595 - val_loss: 0.5081 - val_accuracy: 0.7458\n",
            "INFO:tensorflow:Assets written to: /content/drive/My Drive/data/Test_Non_noisy_12K.cv.4.best/assets\n",
            "Epoch 11/20\n",
            "675/675 [==============================] - 4s 5ms/step - loss: 0.4764 - accuracy: 0.7736 - val_loss: 0.5656 - val_accuracy: 0.7167\n",
            "Epoch 12/20\n",
            "675/675 [==============================] - 4s 6ms/step - loss: 0.4741 - accuracy: 0.7730 - val_loss: 0.5092 - val_accuracy: 0.7467\n",
            "INFO:tensorflow:Assets written to: /content/drive/My Drive/data/Test_Non_noisy_12K.cv.4.best/assets\n",
            "Epoch 13/20\n",
            "675/675 [==============================] - 4s 5ms/step - loss: 0.4657 - accuracy: 0.7807 - val_loss: 0.5049 - val_accuracy: 0.7458\n",
            "Epoch 14/20\n",
            "675/675 [==============================] - 4s 5ms/step - loss: 0.4482 - accuracy: 0.7879 - val_loss: 0.5413 - val_accuracy: 0.7350\n",
            "Epoch 15/20\n",
            "675/675 [==============================] - 4s 5ms/step - loss: 0.4475 - accuracy: 0.7923 - val_loss: 0.5633 - val_accuracy: 0.7237\n",
            "Epoch 16/20\n",
            "675/675 [==============================] - 4s 5ms/step - loss: 0.4417 - accuracy: 0.7914 - val_loss: 0.5116 - val_accuracy: 0.7542\n",
            "INFO:tensorflow:Assets written to: /content/drive/My Drive/data/Test_Non_noisy_12K.cv.4.best/assets\n",
            "Epoch 17/20\n",
            "675/675 [==============================] - 4s 5ms/step - loss: 0.4326 - accuracy: 0.8008 - val_loss: 0.5234 - val_accuracy: 0.7454\n",
            "Epoch 18/20\n",
            "675/675 [==============================] - 4s 5ms/step - loss: 0.4324 - accuracy: 0.7993 - val_loss: 0.5235 - val_accuracy: 0.7450\n",
            "Epoch 19/20\n",
            "675/675 [==============================] - 4s 5ms/step - loss: 0.4178 - accuracy: 0.8113 - val_loss: 0.5286 - val_accuracy: 0.7467\n",
            "Epoch 20/20\n",
            "675/675 [==============================] - 4s 6ms/step - loss: 0.4018 - accuracy: 0.8197 - val_loss: 0.5251 - val_accuracy: 0.7496\n",
            "Fold 4, 20 epochs, 92 sec\n"
          ],
          "name": "stdout"
        },
        {
          "output_type": "display_data",
          "data": {
            "image/png": "[encoded data removed]",
            "text/plain": [
              "<Figure size 576x360 with 1 Axes>"
            ]
          },
          "metadata": {
            "tags": [],
            "needs_background": "light"
          }
        },
        {
          "output_type": "stream",
          "text": [
            "accuracy: 75.67%\n",
            "COMPILE...\n",
            "...COMPILED\n",
            "FIT\n",
            "Epoch 1/20\n",
            "675/675 [==============================] - 5s 6ms/step - loss: 0.6905 - accuracy: 0.5165 - val_loss: 0.6551 - val_accuracy: 0.6150\n",
            "INFO:tensorflow:Assets written to: /content/drive/My Drive/data/Test_Non_noisy_12K.cv.5.best/assets\n",
            "Epoch 2/20\n",
            "675/675 [==============================] - 4s 5ms/step - loss: 0.6426 - accuracy: 0.6292 - val_loss: 0.5912 - val_accuracy: 0.6896\n",
            "INFO:tensorflow:Assets written to: /content/drive/My Drive/data/Test_Non_noisy_12K.cv.5.best/assets\n",
            "Epoch 3/20\n",
            "675/675 [==============================] - 4s 5ms/step - loss: 0.5930 - accuracy: 0.6802 - val_loss: 0.5332 - val_accuracy: 0.7375\n",
            "INFO:tensorflow:Assets written to: /content/drive/My Drive/data/Test_Non_noisy_12K.cv.5.best/assets\n",
            "Epoch 4/20\n",
            "675/675 [==============================] - 4s 5ms/step - loss: 0.5503 - accuracy: 0.7152 - val_loss: 0.5216 - val_accuracy: 0.7300\n",
            "Epoch 5/20\n",
            "675/675 [==============================] - 4s 5ms/step - loss: 0.5197 - accuracy: 0.7408 - val_loss: 0.4994 - val_accuracy: 0.7529\n",
            "INFO:tensorflow:Assets written to: /content/drive/My Drive/data/Test_Non_noisy_12K.cv.5.best/assets\n",
            "Epoch 6/20\n",
            "675/675 [==============================] - 4s 5ms/step - loss: 0.5009 - accuracy: 0.7551 - val_loss: 0.4832 - val_accuracy: 0.7625\n",
            "INFO:tensorflow:Assets written to: /content/drive/My Drive/data/Test_Non_noisy_12K.cv.5.best/assets\n",
            "Epoch 7/20\n",
            "675/675 [==============================] - 4s 6ms/step - loss: 0.4904 - accuracy: 0.7670 - val_loss: 0.4805 - val_accuracy: 0.7663\n",
            "INFO:tensorflow:Assets written to: /content/drive/My Drive/data/Test_Non_noisy_12K.cv.5.best/assets\n",
            "Epoch 8/20\n",
            "675/675 [==============================] - 4s 6ms/step - loss: 0.4816 - accuracy: 0.7694 - val_loss: 0.4783 - val_accuracy: 0.7688\n",
            "INFO:tensorflow:Assets written to: /content/drive/My Drive/data/Test_Non_noisy_12K.cv.5.best/assets\n",
            "Epoch 9/20\n",
            "675/675 [==============================] - 4s 6ms/step - loss: 0.4839 - accuracy: 0.7681 - val_loss: 0.4768 - val_accuracy: 0.7696\n",
            "INFO:tensorflow:Assets written to: /content/drive/My Drive/data/Test_Non_noisy_12K.cv.5.best/assets\n",
            "Epoch 10/20\n",
            "675/675 [==============================] - 4s 6ms/step - loss: 0.4739 - accuracy: 0.7728 - val_loss: 0.4875 - val_accuracy: 0.7604\n",
            "Epoch 11/20\n",
            "675/675 [==============================] - 4s 6ms/step - loss: 0.4677 - accuracy: 0.7783 - val_loss: 0.5017 - val_accuracy: 0.7558\n",
            "Epoch 12/20\n",
            "675/675 [==============================] - 4s 5ms/step - loss: 0.4654 - accuracy: 0.7769 - val_loss: 0.5151 - val_accuracy: 0.7496\n",
            "Epoch 13/20\n",
            "675/675 [==============================] - 4s 5ms/step - loss: 0.4547 - accuracy: 0.7844 - val_loss: 0.4784 - val_accuracy: 0.7671\n",
            "Epoch 14/20\n",
            "675/675 [==============================] - 4s 6ms/step - loss: 0.4546 - accuracy: 0.7882 - val_loss: 0.5100 - val_accuracy: 0.7454\n",
            "Epoch 15/20\n",
            "675/675 [==============================] - 4s 5ms/step - loss: 0.4403 - accuracy: 0.7938 - val_loss: 0.4795 - val_accuracy: 0.7654\n",
            "Epoch 16/20\n",
            "675/675 [==============================] - 4s 5ms/step - loss: 0.4364 - accuracy: 0.7990 - val_loss: 0.4801 - val_accuracy: 0.7646\n",
            "Epoch 17/20\n",
            "675/675 [==============================] - 4s 5ms/step - loss: 0.4301 - accuracy: 0.8013 - val_loss: 0.5167 - val_accuracy: 0.7496\n",
            "Epoch 18/20\n",
            "675/675 [==============================] - 4s 5ms/step - loss: 0.4282 - accuracy: 0.8030 - val_loss: 0.5214 - val_accuracy: 0.7504\n",
            "Epoch 19/20\n",
            "675/675 [==============================] - 4s 6ms/step - loss: 0.4191 - accuracy: 0.8095 - val_loss: 0.5079 - val_accuracy: 0.7542\n",
            "Epoch 20/20\n",
            "675/675 [==============================] - 4s 5ms/step - loss: 0.4109 - accuracy: 0.8151 - val_loss: 0.4946 - val_accuracy: 0.7579\n",
            "Fold 5, 20 epochs, 93 sec\n"
          ],
          "name": "stdout"
        },
        {
          "output_type": "display_data",
          "data": {
            "image/png": "[encoded data removed]",
            "text/plain": [
              "<Figure size 576x360 with 1 Axes>"
            ]
          },
          "metadata": {
            "tags": [],
            "needs_background": "light"
          }
        },
        {
          "output_type": "stream",
          "text": [
            "accuracy: 76.96%\n",
            "\n",
            "5-way Cross Validation mean 76.45% (+/- 0.49%)\n",
            "Done\n"
          ],
          "name": "stdout"
        }
      ]
    },
    {
      "cell_type": "code",
      "metadata": {
        "id": "p4fh2GI8beMQ"
      },
      "source": [
        ""
      ],
      "execution_count": 10,
      "outputs": []
    }
  ]
}