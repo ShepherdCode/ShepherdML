{
 "cells": [
  {
   "cell_type": "markdown",
   "metadata": {},
   "source": [
    "# convLSTM\n",
    "LSTM is a form of Recurrent Neural Network (RNN) designed for time-series data.\n",
    "Convolution is usually used for image processing \n",
    "e.g. in Convolutional Neural Networks (CNN).\n",
    "The idea behind convLSTM is to combine them and get the best of both.\n",
    "A CNN + LSTM is a model with CNN layers followed by LSTM layers.\n",
    "A typical CNN + LSTM takes 3D data such as a movie i.e. 2D frames + time dimension.\n",
    "The model applies a CNN to each frame, and applies LSTM to the time-ordered\n",
    "sequence of (convoluted) frames.\n",
    "A convLSTM is simpler; it just incorporates the convolution operation\n",
    "inside the recurrent cell of the LSTM.\n"
   ]
  },
  {
   "cell_type": "markdown",
   "metadata": {},
   "source": [
    "## Documentation\n",
    "\n",
    "Jason Brownlee \n",
    "[CNN Long Short-Term Memory Networks](https://machinelearningmastery.com/cnn-long-short-term-memory-networks/) \n",
    "\n",
    "Alexandre Xavier\n",
    "[An introduction to ConvLSTM](https://medium.com/neuronio/an-introduction-to-convlstm-55c9025563a7)\n",
    "\n",
    "TensorFlow\n",
    "[conv 1D](https://www.tensorflow.org/api_docs/python/tf/keras/layers/Conv1D),\n",
    "[LSTM](https://www.tensorflow.org/api_docs/python/tf/keras/layers/LSTM),\n",
    "and [guide to RNN](https://www.tensorflow.org/guide/keras/rnn).\n",
    "\n",
    "Keras\n",
    "[all convolutional layers](https://keras.io/api/layers/convolution_layers/),\n",
    "[all recurrent layers](https://keras.io/api/layers/recurrent_layers/),\n",
    "including the \n",
    "[conv LSTM 2D layer](https://www.tensorflow.org/api_docs/python/tf/keras/layers/ConvLSTM2D),\n",
    "\n",
    "There is no 1D version yet? GitHub has a \n",
    "[request](https://github.com/tensorflow/tensorflow/issues/23393)\n",
    "from 2018 for a conv1DLSTM in TensorFlow.\n",
    "\n",
    "Somebody made a \n",
    "[convLSTMcell](https://github.com/carlthome/tensorflow-convlstm-cell)"
   ]
  },
  {
   "cell_type": "markdown",
   "metadata": {},
   "source": [
    "## Literature\n",
    "This might be the original convLSMT paper. \n",
    "It uses the term LCRN instead of \"convLSTM\" or \"CNN LSTM\".\n",
    "\n",
    "Donahue et al [CVPR 2015](https://www.cv-foundation.org/openaccess/content_cvpr_2015/papers/Donahue_Long-Term_Recurrent_Convolutional_2015_CVPR_paper.pdf)\n",
    "or [arXiv 2016](https://arxiv.org/pdf/1411.4389.pdf)\n",
    "Long-term Recurrent Convolutional Networks for Visual Recognition and Description"
   ]
  },
  {
   "cell_type": "code",
   "execution_count": 1,
   "metadata": {},
   "outputs": [],
   "source": [
    "# Example CNN: Workshop/CNN_101.ipynb"
   ]
  },
  {
   "cell_type": "code",
   "execution_count": null,
   "metadata": {},
   "outputs": [],
   "source": []
  }
 ],
 "metadata": {
  "kernelspec": {
   "display_name": "Python 3",
   "language": "python",
   "name": "python3"
  },
  "language_info": {
   "codemirror_mode": {
    "name": "ipython",
    "version": 3
   },
   "file_extension": ".py",
   "mimetype": "text/x-python",
   "name": "python",
   "nbconvert_exporter": "python",
   "pygments_lexer": "ipython3",
   "version": "3.8.3"
  }
 },
 "nbformat": 4,
 "nbformat_minor": 2
}
