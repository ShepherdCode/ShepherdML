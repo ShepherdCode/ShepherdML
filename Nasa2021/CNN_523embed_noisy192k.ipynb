{
  "nbformat": 4,
  "nbformat_minor": 0,
  "metadata": {
    "accelerator": "GPU",
    "colab": {
      "name": "CNN_523embed_noisy192k.ipynb",
      "provenance": [],
      "collapsed_sections": [],
      "machine_shape": "hm",
      "include_colab_link": true
    },
    "kernelspec": {
      "display_name": "Python 3",
      "language": "python",
      "name": "python3"
    },
    "language_info": {
      "codemirror_mode": {
        "name": "ipython",
        "version": 3
      },
      "file_extension": ".py",
      "mimetype": "text/x-python",
      "name": "python",
      "nbconvert_exporter": "python",
      "pygments_lexer": "ipython3",
      "version": "3.8.3"
    }
  },
  "cells": [
    {
      "cell_type": "markdown",
      "metadata": {
        "id": "view-in-github",
        "colab_type": "text"
      },
      "source": [
        "<a href=\"https://colab.research.google.com/github/ShepherdCode/ShepherdML/blob/master/Nasa2021/CNN_523embed_noisy192k.ipynb\" target=\"_parent\"><img src=\"https://colab.research.google.com/assets/colab-badge.svg\" alt=\"Open In Colab\"/></a>"
      ]
    },
    {
      "cell_type": "code",
      "metadata": {
        "id": "PJDmazbCyqHC"
      },
      "source": [
        ""
      ],
      "execution_count": null,
      "outputs": []
    },
    {
      "cell_type": "markdown",
      "metadata": {
        "id": "view-in-github"
      },
      "source": [
        "<a href=\"https://colab.research.google.com/github/ShepherdCode/ShepherdML/blob/master/Nasa2021/CNN_523.ipynb\" target=\"_parent\"><img src=\"https://colab.research.google.com/assets/colab-badge.svg\" alt=\"Open In Colab\"/></a>"
      ]
    },
    {
      "cell_type": "markdown",
      "metadata": {
        "id": "ojm_6E9f9Kcf"
      },
      "source": [
        "# CNN 523 192k noisy\n",
        "\n",
        "1. Four layers of CNNS and MaxPooling\n",
        "2. Drop out at 0.2\n",
        "3. Variable filters and dense neurons\n",
        "4. 10% Noise, datasets of 3k coding and noncoding from 3k to 192k\n",
        "\n",
        "\n",
        "\n",
        "\n",
        "\n",
        "\n",
        "\n",
        "\n",
        "\n",
        "\n",
        "\n",
        "\n"
      ]
    },
    {
      "cell_type": "code",
      "metadata": {
        "colab": {
          "base_uri": "https://localhost:8080/"
        },
        "id": "hh6XplUvC0j0",
        "outputId": "8865c1eb-fa4a-4edd-e193-a4c2f1a63b1a"
      },
      "source": [
        "#NC_FILENAME='ncRNA.tiny50.fasta'\n",
        "#PC_FILENAME='pcRNA.tiny50.fasta'\n",
        "#NC_FILENAME='ncRNA.gc34.processed.fasta'\n",
        "#PC_FILENAME='pcRNA.gc34.processed.fasta'\n",
        "NC_FILENAME='noisy_noncod_192000_10.fasta'  # CHANGE THIS TO 1000, 2000, 4000, etc.\n",
        "PC_FILENAME='noisy_coding_192000_10.fasta'\n",
        "NC_VAL_FILE='noncod_validation.fasta'  # 'noncod_validation.fasta'  # CHANGE THIS TO THE UNIFORM VALIDATION FILE\n",
        "PC_VAL_FILE='coding_validation.fasta'  # 'coding_validation.fasta'\n",
        "\n",
        "MODEL_FILE='JUNK2'   # CHANGE THIS IF YOU WANT TO SAVE THE MODEL!\n",
        "DATAPATH=''\n",
        "\n",
        "try:\n",
        "    from google.colab import drive\n",
        "    IN_COLAB = True\n",
        "    PATH='/content/drive/'\n",
        "    drive.mount(PATH)\n",
        "    DATAPATH=PATH+'My Drive/data/'  # must end in \"/\"\n",
        "except:\n",
        "    IN_COLAB = False\n",
        "    DATAPATH='data/'  # must end in \"/\"\n",
        "NC_FILENAME = DATAPATH+NC_FILENAME\n",
        "PC_FILENAME = DATAPATH+PC_FILENAME\n",
        "NC_VAL_FILE = DATAPATH+NC_VAL_FILE\n",
        "PC_VAL_FILE = DATAPATH+PC_VAL_FILE\n",
        "MODEL_FILE=DATAPATH+MODEL_FILE\n",
        "\n",
        "EPOCHS=20  # DECIDE ON SOME AMOUNT AND STICK WITH IT\n",
        "SPLITS=5\n",
        "K=1\n",
        "VOCABULARY_SIZE=4**K+1   # e.g. K=3 => 64 DNA K-mers + 'NNN'\n",
        "EMBED_DIMEN=2\n",
        "FILTERS=32\n",
        "KERNEL=3\n",
        "NEURONS=24\n",
        "DROP=0.2\n",
        "MINLEN=200\n",
        "MAXLEN=1000    # THIS HAS TO MATCH THE SIMULATION DATA\n",
        "DENSE_LEN = 1000\n",
        "ACT=\"tanh\""
      ],
      "execution_count": 1,
      "outputs": [
        {
          "output_type": "stream",
          "text": [
            "Drive already mounted at /content/drive/; to attempt to forcibly remount, call drive.mount(\"/content/drive/\", force_remount=True).\n"
          ],
          "name": "stdout"
        }
      ]
    },
    {
      "cell_type": "code",
      "metadata": {
        "colab": {
          "base_uri": "https://localhost:8080/"
        },
        "id": "e9TY3HK9ZklE",
        "outputId": "615251c1-b9b4-4532-bbee-7b917081ec7b"
      },
      "source": [
        "# Load our own tools\n",
        "# TO DO: don't go to GitHub if the file is already local.\n",
        "GITHUB = True\n",
        "if GITHUB:\n",
        "    #!pip install requests  # Uncomment this if necessary. Seems to be pre-installed.\n",
        "    import requests\n",
        "    r = requests.get('https://raw.githubusercontent.com/ShepherdCode/ShepherdML/master/Strings/tools_fasta.py')\n",
        "    with open('tools_fasta.py', 'w') as f:\n",
        "        f.write(r.text)\n",
        "    # TO DO: delete the file after import\n",
        "import tools_fasta as tools\n",
        "tools.yahoo()  # If this prints \"Yahoo!\" the the import was successful.\n",
        "\n",
        "TOOLS_CHANGED = False   # set to True to re-run with a new version of tools\n",
        "if TOOLS_CHANGED:\n",
        "  from importlib import reload \n",
        "  tools=reload(tools)\n",
        "  print(dir(tools))   # run this to see EVERYTHING in the tools module"
      ],
      "execution_count": 2,
      "outputs": [
        {
          "output_type": "stream",
          "text": [
            "Yahoo!\n"
          ],
          "name": "stdout"
        }
      ]
    },
    {
      "cell_type": "code",
      "metadata": {
        "id": "VQY7aTj29Kch"
      },
      "source": [
        "import numpy as np\n",
        "import pandas as pd\n",
        "import matplotlib.pyplot as plt\n",
        "from sklearn.model_selection import ShuffleSplit\n",
        "from sklearn.model_selection import cross_val_score\n",
        "from sklearn.model_selection import RepeatedKFold\n",
        "from sklearn.model_selection import StratifiedKFold\n",
        "import tensorflow as tf\n",
        "from tensorflow import keras\n",
        "import time\n",
        "dt='float32'\n",
        "tf.keras.backend.set_floatx(dt)"
      ],
      "execution_count": 3,
      "outputs": []
    },
    {
      "cell_type": "markdown",
      "metadata": {
        "id": "j7jcg6Wl9Kc2"
      },
      "source": [
        "Build model"
      ]
    },
    {
      "cell_type": "code",
      "metadata": {
        "id": "qLFNO1Xa9Kc3"
      },
      "source": [
        "def compile_model(model):\n",
        "    print(\"COMPILE...\")\n",
        "    bc=tf.keras.losses.BinaryCrossentropy(from_logits=False)\n",
        "    model.compile(loss=bc, optimizer=\"adam\", metrics=[\"accuracy\"])\n",
        "    print(\"...COMPILED\")\n",
        "    return model\n",
        "\n",
        "def build_model():\n",
        "    #SHAPE=(MAXLEN,5)  \n",
        "    SHAPE=(MAXLEN,4)  \n",
        "    # 4 input letters, 4 output dimensions, 1000 letters/RNA\n",
        "    elayer  = keras.layers.Embedding(4,4,input_length=1000) \n",
        "\n",
        "    clayer1 = keras.layers.Conv1D(FILTERS,KERNEL,activation=ACT,padding=\"same\",\n",
        "                                 input_shape=SHAPE)\n",
        "    clayer2 = keras.layers.Conv1D(FILTERS,KERNEL,activation=ACT,padding=\"same\")\n",
        "    clayer3 = keras.layers.MaxPooling1D(2)\n",
        "    clayer4 = keras.layers.Conv1D(FILTERS,KERNEL,activation=ACT,padding=\"same\")\n",
        "    clayer5 = keras.layers.Conv1D(FILTERS,KERNEL,activation=ACT,padding=\"same\")\n",
        "    clayer6 = keras.layers.MaxPooling1D(2)\n",
        "    clayer7 = keras.layers.Conv1D(FILTERS,KERNEL,activation=ACT,padding=\"same\")\n",
        "    clayer8 = keras.layers.Conv1D(FILTERS,KERNEL,activation=ACT,padding=\"same\")\n",
        "    clayer9 = keras.layers.MaxPooling1D(2)\n",
        "    clayer10 = keras.layers.Conv1D(FILTERS,KERNEL,activation=ACT,padding=\"same\")\n",
        "    clayer11 = keras.layers.Conv1D(FILTERS,KERNEL,activation=ACT,padding=\"same\")\n",
        "    clayer12 = keras.layers.MaxPooling1D(2)\n",
        "\n",
        "    clayer13 = keras.layers.Flatten()\n",
        "\n",
        "    dlayer1 = keras.layers.Dense(NEURONS, activation=ACT,dtype=dt, input_shape=[DENSE_LEN])\n",
        "    dlayer2 = keras.layers.Dropout(DROP)\n",
        "    dlayer3 = keras.layers.Dense(NEURONS, activation=ACT,dtype=dt)\n",
        "    dlayer4 = keras.layers.Dropout(DROP)\n",
        "    output_layer = keras.layers.Dense(1, activation=\"sigmoid\", dtype=dt)\n",
        "\n",
        "    cnn = keras.models.Sequential()\n",
        "    cnn.add(elayer)\n",
        "    cnn.add(clayer1)\n",
        "    cnn.add(clayer2)\n",
        "    cnn.add(clayer3)\n",
        "    cnn.add(clayer4)\n",
        "    cnn.add(clayer5)\n",
        "    cnn.add(clayer6)\n",
        "    cnn.add(clayer7)\n",
        "    cnn.add(clayer8)\n",
        "    cnn.add(clayer9)\n",
        "    cnn.add(clayer10)\n",
        "    cnn.add(clayer11)\n",
        "    cnn.add(clayer12)\n",
        "    cnn.add(clayer13)\n",
        "    cnn.add(dlayer1)\n",
        "    cnn.add(dlayer2)\n",
        "    cnn.add(dlayer3)\n",
        "    cnn.add(dlayer4)\n",
        "    cnn.add(output_layer)\n",
        "    mlpc = compile_model(cnn)\n",
        "    return mlpc"
      ],
      "execution_count": 4,
      "outputs": []
    },
    {
      "cell_type": "markdown",
      "metadata": {
        "id": "LdIS2utq9Kc9"
      },
      "source": [
        "Cross validation"
      ]
    },
    {
      "cell_type": "code",
      "metadata": {
        "id": "BVo4tbB_9Kc-"
      },
      "source": [
        "def do_cross_validation(X,y,given_model,X_VALID,Y_VALID):\n",
        "    cv_scores = []\n",
        "    fold=0\n",
        "    splitter = ShuffleSplit(n_splits=SPLITS, test_size=0.1, random_state=37863)\n",
        "    for train_index,valid_index in splitter.split(X):\n",
        "        fold += 1\n",
        "        X_train=X[train_index] # use iloc[] for dataframe\n",
        "        y_train=y[train_index]\n",
        "        X_valid=X[valid_index]\n",
        "        y_valid=y[valid_index]        \n",
        "        # Avoid continually improving the same model.\n",
        "        model = compile_model(keras.models.clone_model(given_model))\n",
        "        bestname=MODEL_FILE+\".cv.\"+str(fold)+\".best\"\n",
        "        mycallbacks = [keras.callbacks.ModelCheckpoint(\n",
        "            filepath=bestname, save_best_only=True, \n",
        "            monitor='val_accuracy', mode='max')]   \n",
        "        print(\"FIT\")\n",
        "        start_time=time.time()\n",
        "        history=model.fit(X_train, y_train, \n",
        "                epochs=EPOCHS, verbose=1, callbacks=mycallbacks,\n",
        "                validation_data=(X_valid,y_valid))\n",
        "        # THE VALIDATION ABOVE IS JUST FOR SHOW\n",
        "        end_time=time.time()\n",
        "        elapsed_time=(end_time-start_time)                        \n",
        "        print(\"Fold %d, %d epochs, %d sec\"%(fold,EPOCHS,elapsed_time))\n",
        "        pd.DataFrame(history.history).plot(figsize=(8,5))\n",
        "        plt.grid(True)\n",
        "        plt.gca().set_ylim(0,1)\n",
        "        plt.show()\n",
        "        best_model=keras.models.load_model(bestname)\n",
        "        # THE VALIDATION BELOW IS FOR KEEPS\n",
        "        scores = best_model.evaluate(X_VALID, Y_VALID, verbose=0)\n",
        "        print(\"%s: %.2f%%\" % (best_model.metrics_names[1], scores[1]*100))\n",
        "        cv_scores.append(scores[1] * 100)  \n",
        "    print()\n",
        "    print(\"%d-way Cross Validation mean %.2f%% (+/- %.2f%%)\" % (fold, np.mean(cv_scores), np.std(cv_scores)))"
      ],
      "execution_count": 5,
      "outputs": []
    },
    {
      "cell_type": "markdown",
      "metadata": {
        "id": "qd3Wj_vI9KdP"
      },
      "source": [
        "## Train on RNA lengths 200-1Kb"
      ]
    },
    {
      "cell_type": "code",
      "metadata": {
        "colab": {
          "base_uri": "https://localhost:8080/"
        },
        "id": "G1HuSs8ZbeL4",
        "outputId": "93d05cc3-3c0d-4c48-f575-a0cba7ff88e2"
      },
      "source": [
        "print (\"Compile the model\")\n",
        "model=build_model()\n",
        "print (\"Summarize the model\")\n",
        "print(model.summary())  # Print this only once\n",
        "#model.save(MODEL_FILE+'.model')\n"
      ],
      "execution_count": 6,
      "outputs": [
        {
          "output_type": "stream",
          "text": [
            "Compile the model\n",
            "COMPILE...\n",
            "...COMPILED\n",
            "Summarize the model\n",
            "Model: \"sequential\"\n",
            "_________________________________________________________________\n",
            "Layer (type)                 Output Shape              Param #   \n",
            "=================================================================\n",
            "embedding (Embedding)        (None, 1000, 4)           16        \n",
            "_________________________________________________________________\n",
            "conv1d (Conv1D)              (None, 1000, 32)          416       \n",
            "_________________________________________________________________\n",
            "conv1d_1 (Conv1D)            (None, 1000, 32)          3104      \n",
            "_________________________________________________________________\n",
            "max_pooling1d (MaxPooling1D) (None, 500, 32)           0         \n",
            "_________________________________________________________________\n",
            "conv1d_2 (Conv1D)            (None, 500, 32)           3104      \n",
            "_________________________________________________________________\n",
            "conv1d_3 (Conv1D)            (None, 500, 32)           3104      \n",
            "_________________________________________________________________\n",
            "max_pooling1d_1 (MaxPooling1 (None, 250, 32)           0         \n",
            "_________________________________________________________________\n",
            "conv1d_4 (Conv1D)            (None, 250, 32)           3104      \n",
            "_________________________________________________________________\n",
            "conv1d_5 (Conv1D)            (None, 250, 32)           3104      \n",
            "_________________________________________________________________\n",
            "max_pooling1d_2 (MaxPooling1 (None, 125, 32)           0         \n",
            "_________________________________________________________________\n",
            "conv1d_6 (Conv1D)            (None, 125, 32)           3104      \n",
            "_________________________________________________________________\n",
            "conv1d_7 (Conv1D)            (None, 125, 32)           3104      \n",
            "_________________________________________________________________\n",
            "max_pooling1d_3 (MaxPooling1 (None, 62, 32)            0         \n",
            "_________________________________________________________________\n",
            "flatten (Flatten)            (None, 1984)              0         \n",
            "_________________________________________________________________\n",
            "dense (Dense)                (None, 24)                47640     \n",
            "_________________________________________________________________\n",
            "dropout (Dropout)            (None, 24)                0         \n",
            "_________________________________________________________________\n",
            "dense_1 (Dense)              (None, 24)                600       \n",
            "_________________________________________________________________\n",
            "dropout_1 (Dropout)          (None, 24)                0         \n",
            "_________________________________________________________________\n",
            "dense_2 (Dense)              (None, 1)                 25        \n",
            "=================================================================\n",
            "Total params: 70,425\n",
            "Trainable params: 70,425\n",
            "Non-trainable params: 0\n",
            "_________________________________________________________________\n",
            "None\n"
          ],
          "name": "stdout"
        }
      ]
    },
    {
      "cell_type": "code",
      "metadata": {
        "id": "f8fNo6sn9KdH"
      },
      "source": [
        "def load_data_from_files(nc_filename,pc_filename):\n",
        "  FREEMEM=True   # use False for debugging, True for production\n",
        "  print(\"Load data from files.\")\n",
        "  nc_seq=tools.load_fasta(nc_filename,0)\n",
        "  pc_seq=tools.load_fasta(pc_filename,1)\n",
        "  train_set=pd.concat((nc_seq,pc_seq),axis=0)\n",
        "  print(\"Ready: train_set\")\n",
        "  subset=tools.make_slice(train_set,MINLEN,MAXLEN)# One array to two: X and y\n",
        "  if FREEMEM:\n",
        "      nc_seq=None\n",
        "      pc_seq=None\n",
        "      train_set=None\n",
        "  (X1,y_train)=tools.separate_X_and_y(subset)\n",
        "  # X1 is pandas df of (\"list\" of one sequence)\n",
        "  X2=X1.to_numpy()  # numpy ndarray of (\"list\" of one sequence)\n",
        "  X3=[elem[0] for elem in X2]  # numpy ndarray of ACGT-str\n",
        "  # X3? It might be faster to use int-array than char-array. Come back to this.\n",
        "  X4=X3  # no-op\n",
        "  print(\"X4\",type(X4))\n",
        "  #print(X4[0])\n",
        "  if FREEMEM:\n",
        "      X1=None\n",
        "      X2=None\n",
        "      X3=None\n",
        "  X5=[]\n",
        "  dna_to_int = {'A':0,'C':1,'G':2,'T':3}\n",
        "  for x in X4:\n",
        "      a=[]\n",
        "      for c in x:\n",
        "          i = dna_to_int[c]\n",
        "          a.append(i)\n",
        "      X5.append(a)\n",
        "  X5=np.asarray(X5)\n",
        "  print(\"X5\",type(X5))\n",
        "  print(X5.shape)\n",
        "  if FREEMEM:\n",
        "      X4=None\n",
        "  X_train=X5\n",
        "  if FREEMEM:\n",
        "      X5=None\n",
        "  print(\"X_train\",type(X_train))\n",
        "  y_train=y_train.to_numpy()\n",
        "  print(X_train.shape)\n",
        "  print(X_train[0].shape)\n",
        "  print(X_train[0])\n",
        "  return X_train,y_train\n"
      ],
      "execution_count": 7,
      "outputs": []
    },
    {
      "cell_type": "code",
      "metadata": {
        "colab": {
          "base_uri": "https://localhost:8080/"
        },
        "id": "UmEls9oXRQON",
        "outputId": "0608f476-3e78-47c9-83ce-cb8fe58f6c07"
      },
      "source": [
        "print(\"Loading training data...\")\n",
        "X_train,y_train = load_data_from_files(NC_FILENAME,PC_FILENAME)"
      ],
      "execution_count": 8,
      "outputs": [
        {
          "output_type": "stream",
          "text": [
            "Loading training data...\n",
            "Load data from files.\n",
            "Ready: train_set\n",
            "X4 <class 'list'>\n",
            "X5 <class 'numpy.ndarray'>\n",
            "(384000, 1000)\n",
            "X_train <class 'numpy.ndarray'>\n",
            "(384000, 1000)\n",
            "(1000,)\n",
            "[2 0 0 0 3 0 0 1 0 3 0 3 2 3 2 2 1 1 0 0 0 3 3 1 3 1 3 2 1 0 0 2 3 3 2 0 2\n",
            " 1 2 2 2 0 0 3 0 1 3 0 3 3 2 1 3 3 1 2 2 0 3 2 1 2 1 3 1 0 1 3 3 2 1 0 3 1\n",
            " 1 1 1 0 3 1 0 1 1 0 3 0 1 0 1 0 2 2 2 3 1 1 3 3 3 2 0 3 3 0 1 3 1 3 2 2 2\n",
            " 0 0 3 0 2 0 2 0 3 2 3 2 0 2 0 1 0 1 1 2 3 2 1 3 2 3 2 3 2 3 1 1 3 2 0 2 2\n",
            " 3 0 3 3 3 0 1 2 3 1 0 1 0 3 0 3 1 1 1 2 0 3 0 2 3 2 0 0 0 0 3 2 3 0 2 2 1\n",
            " 1 2 2 0 3 1 1 2 2 2 0 2 0 3 3 0 1 3 0 3 3 0 2 1 2 2 0 3 1 1 3 2 2 2 3 2 2\n",
            " 2 1 1 0 3 2 0 3 2 2 0 3 3 3 1 3 3 0 1 3 0 0 1 0 3 0 3 1 2 2 0 2 1 1 2 2 2\n",
            " 2 2 2 2 2 2 0 0 0 3 2 2 1 0 0 2 0 0 3 3 0 1 0 0 2 0 1 3 0 0 2 0 2 0 2 0 0\n",
            " 1 3 1 2 1 3 2 2 3 1 1 0 0 0 2 2 2 2 0 1 0 2 2 0 3 2 0 0 2 3 3 2 0 3 0 3 0\n",
            " 1 3 3 0 3 2 1 2 0 0 2 0 2 3 1 2 0 3 0 0 1 2 3 2 2 0 2 3 2 1 2 2 1 3 3 0 1\n",
            " 3 2 0 1 1 2 1 0 0 2 3 0 1 1 1 1 1 2 2 0 2 1 1 1 0 2 1 1 2 3 0 3 0 1 3 0 3\n",
            " 3 3 2 2 0 1 0 0 2 3 0 1 3 1 2 1 3 2 1 0 1 3 1 1 2 2 0 1 2 3 3 1 2 3 3 2 3\n",
            " 2 1 1 2 1 0 1 1 0 0 0 0 3 1 0 1 3 0 1 2 1 3 3 2 0 2 3 2 0 0 2 3 1 2 3 2 2\n",
            " 3 0 3 1 1 0 1 1 3 2 3 1 3 2 2 3 0 3 3 1 2 1 2 3 1 1 0 0 1 1 3 0 0 3 2 1 1\n",
            " 2 1 3 3 0 2 1 0 1 0 3 1 2 0 0 1 3 2 3 0 0 1 0 1 1 0 0 1 3 3 2 1 2 3 2 3 0\n",
            " 2 3 3 0 1 3 0 0 0 3 3 0 2 2 0 2 0 1 0 0 0 3 1 0 3 2 3 0 0 2 1 1 0 3 0 3 1\n",
            " 2 2 3 3 3 0 1 3 2 0 2 1 0 0 0 2 1 2 2 1 0 0 2 0 2 3 3 1 0 0 2 0 2 0 2 0 1\n",
            " 3 0 1 1 1 0 1 0 2 2 0 1 3 0 3 3 0 1 0 0 3 3 1 1 0 1 1 0 3 2 3 0 0 0 1 0 3\n",
            " 3 3 2 0 0 3 0 1 1 3 3 3 0 3 0 1 3 0 2 1 1 2 2 1 0 1 0 1 2 2 2 3 1 3 3 2 1\n",
            " 2 0 0 1 2 0 0 2 2 2 2 0 1 2 2 0 0 1 0 0 0 1 3 3 2 3 2 3 3 3 1 1 1 0 0 2 0\n",
            " 2 1 3 0 0 1 2 0 0 3 0 0 0 3 1 3 3 1 2 3 3 0 1 0 2 1 1 0 1 1 0 1 2 0 2 3 3\n",
            " 1 2 3 1 2 2 3 0 3 0 1 3 1 1 0 3 3 1 1 1 2 0 0 0 0 1 0 1 3 1 2 0 2 1 3 3 2\n",
            " 0 1 1 2 1 3 1 2 2 1 3 2 3 0 1 1 3 0 1 0 2 3 0 3 2 1 1 3 2 3 0 0 1 1 2 2 2\n",
            " 1 1 1 0 0 1 0 1 1 0 3 3 3 0 1 0 1 3 1 2 0 1 0 3 0 2 3 3 2 1 0 2 2 2 1 3 3\n",
            " 2 2 3 1 0 1 2 3 3 2 0 2 2 2 2 2 0 2 2 0 3 2 3 0 3 0 0 2 0 0 0 2 3 1 3 2 1\n",
            " 0 2 2 3 3 1 1 0 1 3 1 2 3 0 2 3 3 2 1 2 0 3 1 3 0 3 0 2 0 2 2 1 0 0 2 0 3\n",
            " 1 2 3 1 3 3 2 1 1 0 2 0 1 0 3 0 2 2 2 3 0 0 1 3 3 0 3 2 2 3 0 3 2 3 2 0 3\n",
            " 0]\n"
          ],
          "name": "stdout"
        }
      ]
    },
    {
      "cell_type": "code",
      "metadata": {
        "colab": {
          "base_uri": "https://localhost:8080/"
        },
        "id": "sfvgDZR1a_2j",
        "outputId": "267d5d9a-5e79-44e6-92e5-5b7665afe7c3"
      },
      "source": [
        "print(\"Loading validation data...\")\n",
        "X_VALID,Y_VALID = load_data_from_files(NC_VAL_FILE,PC_VAL_FILE)"
      ],
      "execution_count": 9,
      "outputs": [
        {
          "output_type": "stream",
          "text": [
            "Loading validation data...\n",
            "Load data from files.\n",
            "Ready: train_set\n",
            "X4 <class 'list'>\n",
            "X5 <class 'numpy.ndarray'>\n",
            "(100000, 1000)\n",
            "X_train <class 'numpy.ndarray'>\n",
            "(100000, 1000)\n",
            "(1000,)\n",
            "[1 3 3 0 2 1 3 0 3 0 0 2 3 1 0 0 1 3 2 2 2 1 0 3 0 1 3 3 2 0 3 1 0 3 1 0 0\n",
            " 1 1 3 2 0 3 2 1 0 2 0 2 0 0 0 3 0 1 2 1 2 3 2 2 0 2 1 3 2 2 0 1 1 2 0 0 2\n",
            " 1 3 0 2 3 1 2 3 3 3 1 0 0 2 2 1 1 2 0 0 0 3 2 3 0 2 0 1 0 1 3 2 3 1 0 2 3\n",
            " 2 0 1 2 0 2 0 0 0 3 1 0 3 1 3 0 0 3 0 3 0 2 3 0 3 0 0 0 2 3 2 0 0 1 2 2 2\n",
            " 3 2 2 1 1 3 1 2 1 0 1 3 1 0 1 3 1 1 0 2 2 2 2 2 1 0 1 0 0 2 1 1 0 0 3 1 2\n",
            " 2 3 3 2 3 2 1 3 2 0 0 2 0 1 3 0 1 0 1 1 0 2 1 3 3 0 1 2 3 3 1 2 0 1 2 3 3\n",
            " 3 0 3 3 2 2 1 3 3 2 3 3 1 1 2 1 0 0 1 0 0 1 1 3 0 0 2 0 2 0 0 1 0 1 2 1 2\n",
            " 2 3 2 0 1 0 1 1 0 2 0 2 0 2 2 1 0 2 2 1 3 2 2 2 2 0 0 1 2 2 1 3 0 1 0 0 3\n",
            " 0 1 3 1 0 3 2 2 3 2 1 0 2 3 2 1 3 2 3 2 1 2 3 0 3 1 0 3 3 0 2 2 3 0 3 1 1\n",
            " 2 2 0 2 2 2 1 2 2 3 1 3 2 0 2 1 1 3 2 0 3 3 1 0 2 3 1 2 1 0 0 3 2 0 2 0 2\n",
            " 0 2 1 0 3 1 3 1 1 3 3 2 1 2 1 0 1 1 0 3 1 2 0 0 3 1 0 3 1 2 0 2 2 2 0 3 1\n",
            " 0 3 2 2 2 0 2 1 1 1 2 1 0 2 2 3 1 1 0 3 3 2 2 2 2 3 0 2 1 1 2 0 2 2 1 3 1\n",
            " 0 0 3 0 1 1 0 3 1 3 3 2 1 2 0 2 3 1 2 3 2 3 0 2 0 2 0 0 0 1 0 0 1 0 3 0 1\n",
            " 1 2 2 2 0 3 2 0 0 1 3 3 2 0 2 1 2 2 2 0 1 1 2 1 1 2 0 1 1 1 3 0 3 2 3 2 3\n",
            " 1 2 2 3 2 3 2 1 3 3 2 1 2 3 1 1 0 0 1 0 1 1 2 0 1 1 2 1 3 0 2 1 1 1 3 3 3\n",
            " 1 3 1 1 2 3 1 2 0 3 0 3 0 0 1 2 2 1 2 2 1 0 0 2 2 1 2 3 1 0 3 1 3 0 0 1 3\n",
            " 2 0 1 3 1 1 3 3 2 1 1 1 0 1 3 1 0 2 0 2 3 3 2 3 2 1 3 2 3 1 3 1 1 1 0 3 3\n",
            " 2 3 3 1 1 1 1 3 0 0 0 3 0 1 1 0 0 0 2 1 2 1 0 2 0 3 1 3 2 2 3 1 3 0 0 1 1\n",
            " 2 2 0 2 0 0 3 0 0 3 2 2 3 3 2 0 3 0 2 0 0 3 2 2 3 2 1 1 2 2 2 1 0 1 2 0 1\n",
            " 2 1 0 0 2 3 0 0 1 1 1 2 3 2 2 2 0 1 1 3 1 0 0 2 3 2 3 1 3 3 3 0 3 0 1 3 0\n",
            " 1 2 3 1 2 0 1 2 2 3 1 1 1 0 3 3 0 2 2 0 3 1 1 1 2 1 1 1 0 3 2 0 2 1 3 3 2\n",
            " 0 0 3 3 0 3 1 0 3 3 1 3 0 2 1 1 2 2 3 1 0 1 1 3 0 1 1 0 0 3 2 1 3 0 0 1 1\n",
            " 3 3 0 3 3 2 2 0 3 2 1 0 1 1 0 1 0 3 3 2 3 1 1 1 1 0 3 3 2 0 1 1 2 1 0 2 2\n",
            " 1 3 1 0 3 3 2 1 0 2 2 1 3 0 0 1 2 3 0 0 0 1 3 0 0 3 2 3 0 2 0 3 0 0 3 0 2\n",
            " 2 3 3 3 0 3 3 2 2 3 1 2 2 2 0 3 2 2 3 2 3 0 2 2 0 0 2 0 1 0 0 1 0 1 2 1 3\n",
            " 3 1 0 3 0 1 0 2 3 2 2 0 2 3 3 0 3 1 2 1 0 2 2 2 0 2 0 3 2 1 0 2 3 0 2 3 2\n",
            " 1 3 3 3 3 0 3 1 2 3 2 0 3 1 0 1 2 2 1 1 1 1 3 3 0 1 2 2 1 1 0 0 3 1 0 0 3\n",
            " 2]\n"
          ],
          "name": "stdout"
        }
      ]
    },
    {
      "cell_type": "code",
      "metadata": {
        "colab": {
          "base_uri": "https://localhost:8080/",
          "height": 1000
        },
        "id": "mQ8eW5Rg9KdQ",
        "outputId": "ac8ef093-bedc-434b-eb63-3f51b265e539"
      },
      "source": [
        "print (\"Cross validation\")\n",
        "do_cross_validation(X_train,y_train,model,X_VALID,Y_VALID)  \n",
        "print (\"Done\")"
      ],
      "execution_count": 10,
      "outputs": [
        {
          "output_type": "stream",
          "text": [
            "Cross validation\n",
            "COMPILE...\n",
            "...COMPILED\n",
            "FIT\n",
            "Epoch 1/20\n",
            "10800/10800 [==============================] - 74s 7ms/step - loss: 0.6947 - accuracy: 0.5012 - val_loss: 0.6931 - val_accuracy: 0.5044\n",
            "INFO:tensorflow:Assets written to: /content/drive/My Drive/data/JUNK2.cv.1.best/assets\n",
            "Epoch 2/20\n",
            "10800/10800 [==============================] - 70s 7ms/step - loss: 0.6935 - accuracy: 0.4986 - val_loss: 0.6934 - val_accuracy: 0.4956\n",
            "Epoch 3/20\n",
            "10800/10800 [==============================] - 70s 6ms/step - loss: 0.6935 - accuracy: 0.4984 - val_loss: 0.6933 - val_accuracy: 0.4956\n",
            "Epoch 4/20\n",
            "10800/10800 [==============================] - 70s 6ms/step - loss: 0.6934 - accuracy: 0.4996 - val_loss: 0.6945 - val_accuracy: 0.5044\n",
            "Epoch 5/20\n",
            "10800/10800 [==============================] - 70s 6ms/step - loss: 0.6935 - accuracy: 0.4986 - val_loss: 0.6931 - val_accuracy: 0.5044\n",
            "Epoch 6/20\n",
            "10800/10800 [==============================] - 70s 6ms/step - loss: 0.6934 - accuracy: 0.4980 - val_loss: 0.6931 - val_accuracy: 0.5044\n",
            "Epoch 7/20\n",
            "10800/10800 [==============================] - 69s 6ms/step - loss: 0.6934 - accuracy: 0.5006 - val_loss: 0.6941 - val_accuracy: 0.4956\n",
            "Epoch 8/20\n",
            "10800/10800 [==============================] - 69s 6ms/step - loss: 0.6934 - accuracy: 0.5000 - val_loss: 0.6954 - val_accuracy: 0.4956\n",
            "Epoch 9/20\n",
            "10800/10800 [==============================] - 69s 6ms/step - loss: 0.6935 - accuracy: 0.4976 - val_loss: 0.6935 - val_accuracy: 0.4956\n",
            "Epoch 10/20\n",
            "10800/10800 [==============================] - 70s 6ms/step - loss: 0.6934 - accuracy: 0.4997 - val_loss: 0.6935 - val_accuracy: 0.4956\n",
            "Epoch 11/20\n",
            "10800/10800 [==============================] - 69s 6ms/step - loss: 0.6934 - accuracy: 0.5009 - val_loss: 0.6936 - val_accuracy: 0.4956\n",
            "Epoch 12/20\n",
            "10800/10800 [==============================] - 69s 6ms/step - loss: 0.6934 - accuracy: 0.5023 - val_loss: 0.6931 - val_accuracy: 0.5044\n",
            "Epoch 13/20\n",
            "10800/10800 [==============================] - 70s 6ms/step - loss: 0.6934 - accuracy: 0.4981 - val_loss: 0.6931 - val_accuracy: 0.5044\n",
            "Epoch 14/20\n",
            "10800/10800 [==============================] - 70s 6ms/step - loss: 0.6934 - accuracy: 0.4998 - val_loss: 0.6931 - val_accuracy: 0.5044\n",
            "Epoch 15/20\n",
            "10800/10800 [==============================] - 69s 6ms/step - loss: 0.6934 - accuracy: 0.5009 - val_loss: 0.6937 - val_accuracy: 0.4956\n",
            "Epoch 16/20\n",
            "10800/10800 [==============================] - 69s 6ms/step - loss: 0.6934 - accuracy: 0.5019 - val_loss: 0.6931 - val_accuracy: 0.5044\n",
            "Epoch 17/20\n",
            "10800/10800 [==============================] - 70s 6ms/step - loss: 0.6934 - accuracy: 0.4984 - val_loss: 0.6933 - val_accuracy: 0.5044\n",
            "Epoch 18/20\n",
            "10800/10800 [==============================] - 69s 6ms/step - loss: 0.6934 - accuracy: 0.4987 - val_loss: 0.6937 - val_accuracy: 0.4956\n",
            "Epoch 19/20\n",
            "10800/10800 [==============================] - 70s 6ms/step - loss: 0.6934 - accuracy: 0.5003 - val_loss: 0.6937 - val_accuracy: 0.5044\n",
            "Epoch 20/20\n",
            "10800/10800 [==============================] - 69s 6ms/step - loss: 0.6934 - accuracy: 0.4998 - val_loss: 0.6931 - val_accuracy: 0.5044\n",
            "Fold 1, 20 epochs, 1395 sec\n"
          ],
          "name": "stdout"
        },
        {
          "output_type": "display_data",
          "data": {
            "image/png": "[encoded data removed]",
            "text/plain": [
              "<Figure size 576x360 with 1 Axes>"
            ]
          },
          "metadata": {
            "tags": [],
            "needs_background": "light"
          }
        },
        {
          "output_type": "stream",
          "text": [
            "accuracy: 50.00%\n",
            "COMPILE...\n",
            "...COMPILED\n",
            "FIT\n",
            "Epoch 1/20\n",
            "10800/10800 [==============================] - 71s 6ms/step - loss: 0.6162 - accuracy: 0.6031 - val_loss: 0.3319 - val_accuracy: 0.8959\n",
            "INFO:tensorflow:Assets written to: /content/drive/My Drive/data/JUNK2.cv.2.best/assets\n",
            "Epoch 2/20\n",
            "10800/10800 [==============================] - 69s 6ms/step - loss: 0.3504 - accuracy: 0.8886 - val_loss: 0.3300 - val_accuracy: 0.8967\n",
            "INFO:tensorflow:Assets written to: /content/drive/My Drive/data/JUNK2.cv.2.best/assets\n",
            "Epoch 3/20\n",
            "10800/10800 [==============================] - 69s 6ms/step - loss: 0.3402 - accuracy: 0.8935 - val_loss: 0.3282 - val_accuracy: 0.8979\n",
            "INFO:tensorflow:Assets written to: /content/drive/My Drive/data/JUNK2.cv.2.best/assets\n",
            "Epoch 4/20\n",
            "10800/10800 [==============================] - 69s 6ms/step - loss: 0.3418 - accuracy: 0.8925 - val_loss: 0.3260 - val_accuracy: 0.8986\n",
            "INFO:tensorflow:Assets written to: /content/drive/My Drive/data/JUNK2.cv.2.best/assets\n",
            "Epoch 5/20\n",
            "10800/10800 [==============================] - 68s 6ms/step - loss: 0.3383 - accuracy: 0.8945 - val_loss: 0.3277 - val_accuracy: 0.8979\n",
            "Epoch 6/20\n",
            "10800/10800 [==============================] - 67s 6ms/step - loss: 0.3399 - accuracy: 0.8933 - val_loss: 0.3270 - val_accuracy: 0.8983\n",
            "Epoch 7/20\n",
            "10800/10800 [==============================] - 68s 6ms/step - loss: 0.3378 - accuracy: 0.8943 - val_loss: 0.6961 - val_accuracy: 0.4984\n",
            "Epoch 8/20\n",
            "10800/10800 [==============================] - 68s 6ms/step - loss: 0.4681 - accuracy: 0.7625 - val_loss: 0.3291 - val_accuracy: 0.8972\n",
            "Epoch 9/20\n",
            "10800/10800 [==============================] - 67s 6ms/step - loss: 0.3455 - accuracy: 0.8892 - val_loss: 0.3266 - val_accuracy: 0.8987\n",
            "INFO:tensorflow:Assets written to: /content/drive/My Drive/data/JUNK2.cv.2.best/assets\n",
            "Epoch 10/20\n",
            "10800/10800 [==============================] - 68s 6ms/step - loss: 0.3369 - accuracy: 0.8949 - val_loss: 0.3267 - val_accuracy: 0.8988\n",
            "INFO:tensorflow:Assets written to: /content/drive/My Drive/data/JUNK2.cv.2.best/assets\n",
            "Epoch 11/20\n",
            "10800/10800 [==============================] - 68s 6ms/step - loss: 0.3382 - accuracy: 0.8943 - val_loss: 0.3262 - val_accuracy: 0.8988\n",
            "INFO:tensorflow:Assets written to: /content/drive/My Drive/data/JUNK2.cv.2.best/assets\n",
            "Epoch 12/20\n",
            "10800/10800 [==============================] - 68s 6ms/step - loss: 0.3357 - accuracy: 0.8957 - val_loss: 0.3264 - val_accuracy: 0.8990\n",
            "INFO:tensorflow:Assets written to: /content/drive/My Drive/data/JUNK2.cv.2.best/assets\n",
            "Epoch 13/20\n",
            "10800/10800 [==============================] - 68s 6ms/step - loss: 0.3384 - accuracy: 0.8943 - val_loss: 0.3267 - val_accuracy: 0.8987\n",
            "Epoch 14/20\n",
            "10800/10800 [==============================] - 68s 6ms/step - loss: 0.3399 - accuracy: 0.8932 - val_loss: 0.3289 - val_accuracy: 0.8973\n",
            "Epoch 15/20\n",
            "10800/10800 [==============================] - 68s 6ms/step - loss: 0.3416 - accuracy: 0.8928 - val_loss: 0.3269 - val_accuracy: 0.8985\n",
            "Epoch 16/20\n",
            "10800/10800 [==============================] - 68s 6ms/step - loss: 0.3361 - accuracy: 0.8954 - val_loss: 0.3273 - val_accuracy: 0.8983\n",
            "Epoch 17/20\n",
            "10800/10800 [==============================] - 69s 6ms/step - loss: 0.3516 - accuracy: 0.8792 - val_loss: 0.3264 - val_accuracy: 0.8986\n",
            "Epoch 18/20\n",
            "10800/10800 [==============================] - 68s 6ms/step - loss: 0.3363 - accuracy: 0.8952 - val_loss: 0.3265 - val_accuracy: 0.8985\n",
            "Epoch 19/20\n",
            "10800/10800 [==============================] - 68s 6ms/step - loss: 0.3367 - accuracy: 0.8949 - val_loss: 0.3291 - val_accuracy: 0.8973\n",
            "Epoch 20/20\n",
            "10800/10800 [==============================] - 68s 6ms/step - loss: 0.3374 - accuracy: 0.8948 - val_loss: 0.3295 - val_accuracy: 0.8970\n",
            "Fold 2, 20 epochs, 1382 sec\n"
          ],
          "name": "stdout"
        },
        {
          "output_type": "display_data",
          "data": {
            "image/png": "[encoded data removed]",
            "text/plain": [
              "<Figure size 576x360 with 1 Axes>"
            ]
          },
          "metadata": {
            "tags": [],
            "needs_background": "light"
          }
        },
        {
          "output_type": "stream",
          "text": [
            "accuracy: 99.64%\n",
            "COMPILE...\n",
            "...COMPILED\n",
            "FIT\n",
            "Epoch 1/20\n",
            "10800/10800 [==============================] - 70s 6ms/step - loss: 0.6949 - accuracy: 0.4980 - val_loss: 0.6931 - val_accuracy: 0.5032\n",
            "INFO:tensorflow:Assets written to: /content/drive/My Drive/data/JUNK2.cv.3.best/assets\n",
            "Epoch 2/20\n",
            "10800/10800 [==============================] - 70s 6ms/step - loss: 0.6934 - accuracy: 0.5013 - val_loss: 0.6936 - val_accuracy: 0.4968\n",
            "Epoch 3/20\n",
            "10800/10800 [==============================] - 69s 6ms/step - loss: 0.6934 - accuracy: 0.5010 - val_loss: 0.6932 - val_accuracy: 0.5032\n",
            "Epoch 4/20\n",
            "10800/10800 [==============================] - 69s 6ms/step - loss: 0.6934 - accuracy: 0.5006 - val_loss: 0.6937 - val_accuracy: 0.5032\n",
            "Epoch 5/20\n",
            "10800/10800 [==============================] - 69s 6ms/step - loss: 0.6935 - accuracy: 0.4999 - val_loss: 0.6933 - val_accuracy: 0.4968\n",
            "Epoch 6/20\n",
            "10800/10800 [==============================] - 69s 6ms/step - loss: 0.6934 - accuracy: 0.4995 - val_loss: 0.6931 - val_accuracy: 0.5032\n",
            "Epoch 7/20\n",
            "10800/10800 [==============================] - 69s 6ms/step - loss: 0.6934 - accuracy: 0.5003 - val_loss: 0.6931 - val_accuracy: 0.5032\n",
            "Epoch 8/20\n",
            "10800/10800 [==============================] - 69s 6ms/step - loss: 0.6934 - accuracy: 0.4991 - val_loss: 0.6931 - val_accuracy: 0.5032\n",
            "Epoch 9/20\n",
            "10800/10800 [==============================] - 69s 6ms/step - loss: 0.6934 - accuracy: 0.4997 - val_loss: 0.6934 - val_accuracy: 0.4968\n",
            "Epoch 10/20\n",
            "10800/10800 [==============================] - 69s 6ms/step - loss: 0.6934 - accuracy: 0.5013 - val_loss: 0.6933 - val_accuracy: 0.4968\n",
            "Epoch 11/20\n",
            "10800/10800 [==============================] - 69s 6ms/step - loss: 0.6935 - accuracy: 0.4973 - val_loss: 0.6939 - val_accuracy: 0.4968\n",
            "Epoch 12/20\n",
            "10800/10800 [==============================] - 70s 6ms/step - loss: 0.6934 - accuracy: 0.5003 - val_loss: 0.6932 - val_accuracy: 0.4968\n",
            "Epoch 13/20\n",
            "10800/10800 [==============================] - 69s 6ms/step - loss: 0.6934 - accuracy: 0.5011 - val_loss: 0.6932 - val_accuracy: 0.4968\n",
            "Epoch 14/20\n",
            "10800/10800 [==============================] - 69s 6ms/step - loss: 0.6934 - accuracy: 0.4975 - val_loss: 0.6936 - val_accuracy: 0.4968\n",
            "Epoch 15/20\n",
            "10800/10800 [==============================] - 69s 6ms/step - loss: 0.6935 - accuracy: 0.4968 - val_loss: 0.6932 - val_accuracy: 0.4968\n",
            "Epoch 16/20\n",
            "10800/10800 [==============================] - 69s 6ms/step - loss: 0.6934 - accuracy: 0.4996 - val_loss: 0.6936 - val_accuracy: 0.4968\n",
            "Epoch 17/20\n",
            "10800/10800 [==============================] - 69s 6ms/step - loss: 0.6934 - accuracy: 0.5035 - val_loss: 0.6933 - val_accuracy: 0.4968\n",
            "Epoch 18/20\n",
            "10800/10800 [==============================] - 68s 6ms/step - loss: 0.6934 - accuracy: 0.5003 - val_loss: 0.6932 - val_accuracy: 0.4968\n",
            "Epoch 19/20\n",
            "10800/10800 [==============================] - 68s 6ms/step - loss: 0.6934 - accuracy: 0.4987 - val_loss: 0.6931 - val_accuracy: 0.5032\n",
            "Epoch 20/20\n",
            "10800/10800 [==============================] - 68s 6ms/step - loss: 0.6934 - accuracy: 0.4984 - val_loss: 0.6936 - val_accuracy: 0.4968\n",
            "Fold 3, 20 epochs, 1384 sec\n"
          ],
          "name": "stdout"
        },
        {
          "output_type": "display_data",
          "data": {
            "image/png": "[encoded data removed]",
            "text/plain": [
              "<Figure size 576x360 with 1 Axes>"
            ]
          },
          "metadata": {
            "tags": [],
            "needs_background": "light"
          }
        },
        {
          "output_type": "stream",
          "text": [
            "accuracy: 50.00%\n",
            "COMPILE...\n",
            "...COMPILED\n",
            "FIT\n",
            "Epoch 1/20\n",
            "10800/10800 [==============================] - 69s 6ms/step - loss: 0.5373 - accuracy: 0.7116 - val_loss: 0.3369 - val_accuracy: 0.8932\n",
            "INFO:tensorflow:Assets written to: /content/drive/My Drive/data/JUNK2.cv.4.best/assets\n",
            "Epoch 2/20\n",
            "10800/10800 [==============================] - 68s 6ms/step - loss: 0.3490 - accuracy: 0.8895 - val_loss: 0.3321 - val_accuracy: 0.8955\n",
            "INFO:tensorflow:Assets written to: /content/drive/My Drive/data/JUNK2.cv.4.best/assets\n",
            "Epoch 3/20\n",
            "10800/10800 [==============================] - 68s 6ms/step - loss: 0.3448 - accuracy: 0.8913 - val_loss: 0.3341 - val_accuracy: 0.8945\n",
            "Epoch 4/20\n",
            "10800/10800 [==============================] - 68s 6ms/step - loss: 0.3423 - accuracy: 0.8926 - val_loss: 0.3323 - val_accuracy: 0.8953\n",
            "Epoch 5/20\n",
            "10800/10800 [==============================] - 67s 6ms/step - loss: 0.3411 - accuracy: 0.8931 - val_loss: 0.3711 - val_accuracy: 0.8714\n",
            "Epoch 6/20\n",
            "10800/10800 [==============================] - 67s 6ms/step - loss: 0.3391 - accuracy: 0.8943 - val_loss: 0.3291 - val_accuracy: 0.8974\n",
            "INFO:tensorflow:Assets written to: /content/drive/My Drive/data/JUNK2.cv.4.best/assets\n",
            "Epoch 7/20\n",
            "10800/10800 [==============================] - 68s 6ms/step - loss: 0.3405 - accuracy: 0.8935 - val_loss: 0.3328 - val_accuracy: 0.8955\n",
            "Epoch 8/20\n",
            "10800/10800 [==============================] - 68s 6ms/step - loss: 0.3382 - accuracy: 0.8945 - val_loss: 0.3282 - val_accuracy: 0.8981\n",
            "INFO:tensorflow:Assets written to: /content/drive/My Drive/data/JUNK2.cv.4.best/assets\n",
            "Epoch 9/20\n",
            "10800/10800 [==============================] - 68s 6ms/step - loss: 0.3406 - accuracy: 0.8934 - val_loss: 0.3296 - val_accuracy: 0.8973\n",
            "Epoch 10/20\n",
            "10800/10800 [==============================] - 68s 6ms/step - loss: 0.3378 - accuracy: 0.8950 - val_loss: 0.3300 - val_accuracy: 0.8968\n",
            "Epoch 11/20\n",
            "10800/10800 [==============================] - 68s 6ms/step - loss: 0.3385 - accuracy: 0.8947 - val_loss: 0.3293 - val_accuracy: 0.8970\n",
            "Epoch 12/20\n",
            "10800/10800 [==============================] - 67s 6ms/step - loss: 0.3408 - accuracy: 0.8933 - val_loss: 0.3311 - val_accuracy: 0.8966\n",
            "Epoch 13/20\n",
            "10800/10800 [==============================] - 68s 6ms/step - loss: 0.3383 - accuracy: 0.8947 - val_loss: 0.3303 - val_accuracy: 0.8968\n",
            "Epoch 14/20\n",
            "10800/10800 [==============================] - 68s 6ms/step - loss: 0.3399 - accuracy: 0.8940 - val_loss: 0.3309 - val_accuracy: 0.8963\n",
            "Epoch 15/20\n",
            "10800/10800 [==============================] - 67s 6ms/step - loss: 0.3363 - accuracy: 0.8957 - val_loss: 0.3283 - val_accuracy: 0.8979\n",
            "Epoch 16/20\n",
            "10800/10800 [==============================] - 68s 6ms/step - loss: 0.3393 - accuracy: 0.8946 - val_loss: 0.3396 - val_accuracy: 0.8918\n",
            "Epoch 17/20\n",
            "10800/10800 [==============================] - 68s 6ms/step - loss: 0.3403 - accuracy: 0.8937 - val_loss: 0.3290 - val_accuracy: 0.8976\n",
            "Epoch 18/20\n",
            "10800/10800 [==============================] - 68s 6ms/step - loss: 0.3406 - accuracy: 0.8936 - val_loss: 0.3302 - val_accuracy: 0.8968\n",
            "Epoch 19/20\n",
            "10800/10800 [==============================] - 68s 6ms/step - loss: 0.3404 - accuracy: 0.8938 - val_loss: 0.3282 - val_accuracy: 0.8985\n",
            "INFO:tensorflow:Assets written to: /content/drive/My Drive/data/JUNK2.cv.4.best/assets\n",
            "Epoch 20/20\n",
            "10800/10800 [==============================] - 68s 6ms/step - loss: 0.3385 - accuracy: 0.8947 - val_loss: 0.3288 - val_accuracy: 0.8976\n",
            "Fold 4, 20 epochs, 1369 sec\n"
          ],
          "name": "stdout"
        },
        {
          "output_type": "display_data",
          "data": {
            "image/png": "[encoded data removed]",
            "text/plain": [
              "<Figure size 576x360 with 1 Axes>"
            ]
          },
          "metadata": {
            "tags": [],
            "needs_background": "light"
          }
        },
        {
          "output_type": "stream",
          "text": [
            "accuracy: 99.62%\n",
            "COMPILE...\n",
            "...COMPILED\n",
            "FIT\n",
            "Epoch 1/20\n",
            "10800/10800 [==============================] - 70s 6ms/step - loss: 0.6948 - accuracy: 0.4997 - val_loss: 0.6931 - val_accuracy: 0.5018\n",
            "INFO:tensorflow:Assets written to: /content/drive/My Drive/data/JUNK2.cv.5.best/assets\n",
            "Epoch 2/20\n",
            "10800/10800 [==============================] - 69s 6ms/step - loss: 0.6934 - accuracy: 0.5000 - val_loss: 0.6934 - val_accuracy: 0.5018\n",
            "Epoch 3/20\n",
            "10800/10800 [==============================] - 68s 6ms/step - loss: 0.6934 - accuracy: 0.5008 - val_loss: 0.6938 - val_accuracy: 0.4982\n",
            "Epoch 4/20\n",
            "10800/10800 [==============================] - 68s 6ms/step - loss: 0.6934 - accuracy: 0.4985 - val_loss: 0.6932 - val_accuracy: 0.5018\n",
            "Epoch 5/20\n",
            "10800/10800 [==============================] - 68s 6ms/step - loss: 0.6935 - accuracy: 0.4999 - val_loss: 0.6938 - val_accuracy: 0.4982\n",
            "Epoch 6/20\n",
            "10800/10800 [==============================] - 68s 6ms/step - loss: 0.6934 - accuracy: 0.5014 - val_loss: 0.6932 - val_accuracy: 0.5018\n",
            "Epoch 7/20\n",
            "10800/10800 [==============================] - 68s 6ms/step - loss: 0.6934 - accuracy: 0.4992 - val_loss: 0.6931 - val_accuracy: 0.5018\n",
            "Epoch 8/20\n",
            "10800/10800 [==============================] - 68s 6ms/step - loss: 0.6934 - accuracy: 0.4989 - val_loss: 0.6933 - val_accuracy: 0.5018\n",
            "Epoch 9/20\n",
            "10800/10800 [==============================] - 68s 6ms/step - loss: 0.6934 - accuracy: 0.5006 - val_loss: 0.6931 - val_accuracy: 0.5018\n",
            "Epoch 10/20\n",
            "10800/10800 [==============================] - 68s 6ms/step - loss: 0.6934 - accuracy: 0.4991 - val_loss: 0.6931 - val_accuracy: 0.5018\n",
            "Epoch 11/20\n",
            "10800/10800 [==============================] - 69s 6ms/step - loss: 0.6935 - accuracy: 0.4993 - val_loss: 0.6932 - val_accuracy: 0.4982\n",
            "Epoch 12/20\n",
            "10800/10800 [==============================] - 69s 6ms/step - loss: 0.6934 - accuracy: 0.5022 - val_loss: 0.6931 - val_accuracy: 0.5018\n",
            "Epoch 13/20\n",
            "10800/10800 [==============================] - 69s 6ms/step - loss: 0.6934 - accuracy: 0.5002 - val_loss: 0.6931 - val_accuracy: 0.5018\n",
            "Epoch 14/20\n",
            "10800/10800 [==============================] - 69s 6ms/step - loss: 0.6934 - accuracy: 0.5004 - val_loss: 0.6931 - val_accuracy: 0.5018\n",
            "Epoch 15/20\n",
            "10800/10800 [==============================] - 68s 6ms/step - loss: 0.6934 - accuracy: 0.4993 - val_loss: 0.6935 - val_accuracy: 0.5018\n",
            "Epoch 16/20\n",
            "10800/10800 [==============================] - 69s 6ms/step - loss: 0.6934 - accuracy: 0.4987 - val_loss: 0.6934 - val_accuracy: 0.4982\n",
            "Epoch 17/20\n",
            "10800/10800 [==============================] - 69s 6ms/step - loss: 0.6934 - accuracy: 0.4998 - val_loss: 0.6942 - val_accuracy: 0.4982\n",
            "Epoch 18/20\n",
            "10800/10800 [==============================] - 69s 6ms/step - loss: 0.6934 - accuracy: 0.4990 - val_loss: 0.6937 - val_accuracy: 0.5018\n",
            "Epoch 19/20\n",
            "10800/10800 [==============================] - 69s 6ms/step - loss: 0.6934 - accuracy: 0.4996 - val_loss: 0.6931 - val_accuracy: 0.5018\n",
            "Epoch 20/20\n",
            "10800/10800 [==============================] - 69s 6ms/step - loss: 0.6934 - accuracy: 0.4996 - val_loss: 0.6932 - val_accuracy: 0.4982\n",
            "Fold 5, 20 epochs, 1375 sec\n"
          ],
          "name": "stdout"
        },
        {
          "output_type": "display_data",
          "data": {
            "image/png": "[encoded data removed]",
            "text/plain": [
              "<Figure size 576x360 with 1 Axes>"
            ]
          },
          "metadata": {
            "tags": [],
            "needs_background": "light"
          }
        },
        {
          "output_type": "stream",
          "text": [
            "accuracy: 50.00%\n",
            "\n",
            "5-way Cross Validation mean 69.85% (+/- 24.32%)\n",
            "Done\n"
          ],
          "name": "stdout"
        }
      ]
    },
    {
      "cell_type": "code",
      "metadata": {
        "id": "p4fh2GI8beMQ"
      },
      "source": [
        ""
      ],
      "execution_count": 10,
      "outputs": []
    },
    {
      "cell_type": "code",
      "metadata": {
        "colab": {
          "base_uri": "https://localhost:8080/"
        },
        "id": "1Z7Qi5wzWQd-",
        "outputId": "d1e874d3-0fa2-4b0f-eb5e-9591afaa3ba0"
      },
      "source": [
        "from tensorflow.python.client import device_lib\r\n",
        "device_lib.list_local_devices()"
      ],
      "execution_count": 11,
      "outputs": [
        {
          "output_type": "execute_result",
          "data": {
            "text/plain": [
              "[name: \"/device:CPU:0\"\n",
              " device_type: \"CPU\"\n",
              " memory_limit: 268435456\n",
              " locality {\n",
              " }\n",
              " incarnation: 2094365353332512968, name: \"/device:GPU:0\"\n",
              " device_type: \"GPU\"\n",
              " memory_limit: 15701340352\n",
              " locality {\n",
              "   bus_id: 1\n",
              "   links {\n",
              "   }\n",
              " }\n",
              " incarnation: 2523879564952639491\n",
              " physical_device_desc: \"device: 0, name: Tesla P100-PCIE-16GB, pci bus id: 0000:00:04.0, compute capability: 6.0\"]"
            ]
          },
          "metadata": {
            "tags": []
          },
          "execution_count": 11
        }
      ]
    }
  ]
}