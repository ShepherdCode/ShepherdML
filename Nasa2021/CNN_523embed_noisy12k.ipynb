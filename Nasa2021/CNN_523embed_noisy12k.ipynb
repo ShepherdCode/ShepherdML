{
  "nbformat": 4,
  "nbformat_minor": 0,
  "metadata": {
    "accelerator": "GPU",
    "colab": {
      "name": "CNN_523embed_noisy12k.ipynb",
      "provenance": [],
      "collapsed_sections": [],
      "machine_shape": "hm",
      "include_colab_link": true
    },
    "kernelspec": {
      "display_name": "Python 3",
      "language": "python",
      "name": "python3"
    },
    "language_info": {
      "codemirror_mode": {
        "name": "ipython",
        "version": 3
      },
      "file_extension": ".py",
      "mimetype": "text/x-python",
      "name": "python",
      "nbconvert_exporter": "python",
      "pygments_lexer": "ipython3",
      "version": "3.8.3"
    }
  },
  "cells": [
    {
      "cell_type": "markdown",
      "metadata": {
        "id": "view-in-github",
        "colab_type": "text"
      },
      "source": [
        "<a href=\"https://colab.research.google.com/github/ShepherdCode/ShepherdML/blob/master/Nasa2021/CNN_523embed_noisy12k.ipynb\" target=\"_parent\"><img src=\"https://colab.research.google.com/assets/colab-badge.svg\" alt=\"Open In Colab\"/></a>"
      ]
    },
    {
      "cell_type": "code",
      "metadata": {
        "id": "PJDmazbCyqHC"
      },
      "source": [
        ""
      ],
      "execution_count": null,
      "outputs": []
    },
    {
      "cell_type": "markdown",
      "metadata": {
        "id": "view-in-github"
      },
      "source": [
        "<a href=\"https://colab.research.google.com/github/ShepherdCode/ShepherdML/blob/master/Nasa2021/CNN_523.ipynb\" target=\"_parent\"><img src=\"https://colab.research.google.com/assets/colab-badge.svg\" alt=\"Open In Colab\"/></a>"
      ]
    },
    {
      "cell_type": "markdown",
      "metadata": {
        "id": "ojm_6E9f9Kcf"
      },
      "source": [
        "# CNN 523 12k noisy\n",
        "\n",
        "1. Four layers of CNNS and MaxPooling\n",
        "2. Drop out at 0.2\n",
        "3. Variable filters and dense neurons\n",
        "4. 10% Noise, datasets of 3k coding and noncoding from 3k to 192k\n",
        "\n",
        "\n",
        "\n",
        "\n",
        "\n",
        "\n",
        "\n",
        "\n",
        "\n",
        "\n",
        "\n",
        "\n"
      ]
    },
    {
      "cell_type": "code",
      "metadata": {
        "colab": {
          "base_uri": "https://localhost:8080/"
        },
        "id": "hh6XplUvC0j0",
        "outputId": "66c3eed2-64b0-4cc1-f1f5-3a630ea5d0ff"
      },
      "source": [
        "#NC_FILENAME='ncRNA.tiny50.fasta'\n",
        "#PC_FILENAME='pcRNA.tiny50.fasta'\n",
        "#NC_FILENAME='ncRNA.gc34.processed.fasta'\n",
        "#PC_FILENAME='pcRNA.gc34.processed.fasta'\n",
        "NC_FILENAME='noisy_noncod_12000_10.fasta'  # CHANGE THIS TO 1000, 2000, 4000, etc.\n",
        "PC_FILENAME='noisy_coding_12000_10.fasta'\n",
        "NC_VAL_FILE='noncod_validation.fasta'  # 'noncod_validation.fasta'  # CHANGE THIS TO THE UNIFORM VALIDATION FILE\n",
        "PC_VAL_FILE='coding_validation.fasta'  # 'coding_validation.fasta'\n",
        "\n",
        "MODEL_FILE='JUNK1'   # CHANGE THIS IF YOU WANT TO SAVE THE MODEL!\n",
        "DATAPATH=''\n",
        "\n",
        "try:\n",
        "    from google.colab import drive\n",
        "    IN_COLAB = True\n",
        "    PATH='/content/drive/'\n",
        "    drive.mount(PATH)\n",
        "    DATAPATH=PATH+'My Drive/data/'  # must end in \"/\"\n",
        "except:\n",
        "    IN_COLAB = False\n",
        "    DATAPATH='data/'  # must end in \"/\"\n",
        "NC_FILENAME = DATAPATH+NC_FILENAME\n",
        "PC_FILENAME = DATAPATH+PC_FILENAME\n",
        "NC_VAL_FILE = DATAPATH+NC_VAL_FILE\n",
        "PC_VAL_FILE = DATAPATH+PC_VAL_FILE\n",
        "MODEL_FILE=DATAPATH+MODEL_FILE\n",
        "\n",
        "EPOCHS=20  # DECIDE ON SOME AMOUNT AND STICK WITH IT\n",
        "SPLITS=5\n",
        "K=1\n",
        "VOCABULARY_SIZE=4**K+1   # e.g. K=3 => 64 DNA K-mers + 'NNN'\n",
        "EMBED_DIMEN=2\n",
        "FILTERS=32\n",
        "KERNEL=3\n",
        "NEURONS=24\n",
        "DROP=0.2\n",
        "MINLEN=200\n",
        "MAXLEN=1000    # THIS HAS TO MATCH THE SIMULATION DATA\n",
        "DENSE_LEN = 1000\n",
        "ACT=\"tanh\""
      ],
      "execution_count": 1,
      "outputs": [
        {
          "output_type": "stream",
          "text": [
            "Drive already mounted at /content/drive/; to attempt to forcibly remount, call drive.mount(\"/content/drive/\", force_remount=True).\n"
          ],
          "name": "stdout"
        }
      ]
    },
    {
      "cell_type": "code",
      "metadata": {
        "colab": {
          "base_uri": "https://localhost:8080/"
        },
        "id": "e9TY3HK9ZklE",
        "outputId": "8a0add65-2c4b-48f9-e2d0-c0e854f89f73"
      },
      "source": [
        "# Load our own tools\n",
        "# TO DO: don't go to GitHub if the file is already local.\n",
        "GITHUB = True\n",
        "if GITHUB:\n",
        "    #!pip install requests  # Uncomment this if necessary. Seems to be pre-installed.\n",
        "    import requests\n",
        "    r = requests.get('https://raw.githubusercontent.com/ShepherdCode/ShepherdML/master/Strings/tools_fasta.py')\n",
        "    with open('tools_fasta.py', 'w') as f:\n",
        "        f.write(r.text)\n",
        "    # TO DO: delete the file after import\n",
        "import tools_fasta as tools\n",
        "tools.yahoo()  # If this prints \"Yahoo!\" the the import was successful.\n",
        "\n",
        "TOOLS_CHANGED = False   # set to True to re-run with a new version of tools\n",
        "if TOOLS_CHANGED:\n",
        "  from importlib import reload \n",
        "  tools=reload(tools)\n",
        "  print(dir(tools))   # run this to see EVERYTHING in the tools module"
      ],
      "execution_count": 2,
      "outputs": [
        {
          "output_type": "stream",
          "text": [
            "Yahoo!\n"
          ],
          "name": "stdout"
        }
      ]
    },
    {
      "cell_type": "code",
      "metadata": {
        "id": "VQY7aTj29Kch"
      },
      "source": [
        "import numpy as np\n",
        "import pandas as pd\n",
        "import matplotlib.pyplot as plt\n",
        "from sklearn.model_selection import ShuffleSplit\n",
        "from sklearn.model_selection import cross_val_score\n",
        "from sklearn.model_selection import RepeatedKFold\n",
        "from sklearn.model_selection import StratifiedKFold\n",
        "import tensorflow as tf\n",
        "from tensorflow import keras\n",
        "import time\n",
        "dt='float32'\n",
        "tf.keras.backend.set_floatx(dt)"
      ],
      "execution_count": 3,
      "outputs": []
    },
    {
      "cell_type": "markdown",
      "metadata": {
        "id": "j7jcg6Wl9Kc2"
      },
      "source": [
        "Build model"
      ]
    },
    {
      "cell_type": "code",
      "metadata": {
        "id": "qLFNO1Xa9Kc3"
      },
      "source": [
        "def compile_model(model):\n",
        "    print(\"COMPILE...\")\n",
        "    bc=tf.keras.losses.BinaryCrossentropy(from_logits=False)\n",
        "    model.compile(loss=bc, optimizer=\"adam\", metrics=[\"accuracy\"])\n",
        "    print(\"...COMPILED\")\n",
        "    return model\n",
        "\n",
        "def build_model():\n",
        "    #SHAPE=(MAXLEN,5)  \n",
        "    SHAPE=(MAXLEN,4)  \n",
        "    # 4 input letters, 4 output dimensions, 1000 letters/RNA\n",
        "    elayer  = keras.layers.Embedding(4,4,input_length=1000) \n",
        "\n",
        "    clayer1 = keras.layers.Conv1D(FILTERS,KERNEL,activation=ACT,padding=\"same\",\n",
        "                                 input_shape=SHAPE)\n",
        "    clayer2 = keras.layers.Conv1D(FILTERS,KERNEL,activation=ACT,padding=\"same\")\n",
        "    clayer3 = keras.layers.MaxPooling1D(2)\n",
        "    clayer4 = keras.layers.Conv1D(FILTERS,KERNEL,activation=ACT,padding=\"same\")\n",
        "    clayer5 = keras.layers.Conv1D(FILTERS,KERNEL,activation=ACT,padding=\"same\")\n",
        "    clayer6 = keras.layers.MaxPooling1D(2)\n",
        "    clayer7 = keras.layers.Conv1D(FILTERS,KERNEL,activation=ACT,padding=\"same\")\n",
        "    clayer8 = keras.layers.Conv1D(FILTERS,KERNEL,activation=ACT,padding=\"same\")\n",
        "    clayer9 = keras.layers.MaxPooling1D(2)\n",
        "    clayer10 = keras.layers.Conv1D(FILTERS,KERNEL,activation=ACT,padding=\"same\")\n",
        "    clayer11 = keras.layers.Conv1D(FILTERS,KERNEL,activation=ACT,padding=\"same\")\n",
        "    clayer12 = keras.layers.MaxPooling1D(2)\n",
        "\n",
        "    clayer13 = keras.layers.Flatten()\n",
        "\n",
        "    dlayer1 = keras.layers.Dense(NEURONS, activation=ACT,dtype=dt, input_shape=[DENSE_LEN])\n",
        "    dlayer2 = keras.layers.Dropout(DROP)\n",
        "    dlayer3 = keras.layers.Dense(NEURONS, activation=ACT,dtype=dt)\n",
        "    dlayer4 = keras.layers.Dropout(DROP)\n",
        "    output_layer = keras.layers.Dense(1, activation=\"sigmoid\", dtype=dt)\n",
        "\n",
        "    cnn = keras.models.Sequential()\n",
        "    cnn.add(elayer)\n",
        "    cnn.add(clayer1)\n",
        "    cnn.add(clayer2)\n",
        "    cnn.add(clayer3)\n",
        "    cnn.add(clayer4)\n",
        "    cnn.add(clayer5)\n",
        "    cnn.add(clayer6)\n",
        "    cnn.add(clayer7)\n",
        "    cnn.add(clayer8)\n",
        "    cnn.add(clayer9)\n",
        "    cnn.add(clayer10)\n",
        "    cnn.add(clayer11)\n",
        "    cnn.add(clayer12)\n",
        "    cnn.add(clayer13)\n",
        "    cnn.add(dlayer1)\n",
        "    cnn.add(dlayer2)\n",
        "    cnn.add(dlayer3)\n",
        "    cnn.add(dlayer4)\n",
        "    cnn.add(output_layer)\n",
        "    mlpc = compile_model(cnn)\n",
        "    return mlpc"
      ],
      "execution_count": 4,
      "outputs": []
    },
    {
      "cell_type": "markdown",
      "metadata": {
        "id": "LdIS2utq9Kc9"
      },
      "source": [
        "Cross validation"
      ]
    },
    {
      "cell_type": "code",
      "metadata": {
        "id": "BVo4tbB_9Kc-"
      },
      "source": [
        "def do_cross_validation(X,y,given_model,X_VALID,Y_VALID):\n",
        "    cv_scores = []\n",
        "    fold=0\n",
        "    splitter = ShuffleSplit(n_splits=SPLITS, test_size=0.1, random_state=37863)\n",
        "    for train_index,valid_index in splitter.split(X):\n",
        "        fold += 1\n",
        "        X_train=X[train_index] # use iloc[] for dataframe\n",
        "        y_train=y[train_index]\n",
        "        X_valid=X[valid_index]\n",
        "        y_valid=y[valid_index]        \n",
        "        # Avoid continually improving the same model.\n",
        "        model = compile_model(keras.models.clone_model(given_model))\n",
        "        bestname=MODEL_FILE+\".cv.\"+str(fold)+\".best\"\n",
        "        mycallbacks = [keras.callbacks.ModelCheckpoint(\n",
        "            filepath=bestname, save_best_only=True, \n",
        "            monitor='val_accuracy', mode='max')]   \n",
        "        print(\"FIT\")\n",
        "        start_time=time.time()\n",
        "        history=model.fit(X_train, y_train, \n",
        "                epochs=EPOCHS, verbose=1, callbacks=mycallbacks,\n",
        "                validation_data=(X_valid,y_valid))\n",
        "        # THE VALIDATION ABOVE IS JUST FOR SHOW\n",
        "        end_time=time.time()\n",
        "        elapsed_time=(end_time-start_time)                        \n",
        "        print(\"Fold %d, %d epochs, %d sec\"%(fold,EPOCHS,elapsed_time))\n",
        "        pd.DataFrame(history.history).plot(figsize=(8,5))\n",
        "        plt.grid(True)\n",
        "        plt.gca().set_ylim(0,1)\n",
        "        plt.show()\n",
        "        best_model=keras.models.load_model(bestname)\n",
        "        # THE VALIDATION BELOW IS FOR KEEPS\n",
        "        scores = best_model.evaluate(X_VALID, Y_VALID, verbose=0)\n",
        "        print(\"%s: %.2f%%\" % (best_model.metrics_names[1], scores[1]*100))\n",
        "        cv_scores.append(scores[1] * 100)  \n",
        "    print()\n",
        "    print(\"%d-way Cross Validation mean %.2f%% (+/- %.2f%%)\" % (fold, np.mean(cv_scores), np.std(cv_scores)))"
      ],
      "execution_count": 5,
      "outputs": []
    },
    {
      "cell_type": "markdown",
      "metadata": {
        "id": "qd3Wj_vI9KdP"
      },
      "source": [
        "## Train on RNA lengths 200-1Kb"
      ]
    },
    {
      "cell_type": "code",
      "metadata": {
        "colab": {
          "base_uri": "https://localhost:8080/"
        },
        "id": "G1HuSs8ZbeL4",
        "outputId": "98923267-d57e-483e-f480-e7ad5d8b47cd"
      },
      "source": [
        "print (\"Compile the model\")\n",
        "model=build_model()\n",
        "print (\"Summarize the model\")\n",
        "print(model.summary())  # Print this only once\n",
        "#model.save(MODEL_FILE+'.model')\n"
      ],
      "execution_count": 6,
      "outputs": [
        {
          "output_type": "stream",
          "text": [
            "Compile the model\n",
            "COMPILE...\n",
            "...COMPILED\n",
            "Summarize the model\n",
            "Model: \"sequential\"\n",
            "_________________________________________________________________\n",
            "Layer (type)                 Output Shape              Param #   \n",
            "=================================================================\n",
            "embedding (Embedding)        (None, 1000, 4)           16        \n",
            "_________________________________________________________________\n",
            "conv1d (Conv1D)              (None, 1000, 32)          416       \n",
            "_________________________________________________________________\n",
            "conv1d_1 (Conv1D)            (None, 1000, 32)          3104      \n",
            "_________________________________________________________________\n",
            "max_pooling1d (MaxPooling1D) (None, 500, 32)           0         \n",
            "_________________________________________________________________\n",
            "conv1d_2 (Conv1D)            (None, 500, 32)           3104      \n",
            "_________________________________________________________________\n",
            "conv1d_3 (Conv1D)            (None, 500, 32)           3104      \n",
            "_________________________________________________________________\n",
            "max_pooling1d_1 (MaxPooling1 (None, 250, 32)           0         \n",
            "_________________________________________________________________\n",
            "conv1d_4 (Conv1D)            (None, 250, 32)           3104      \n",
            "_________________________________________________________________\n",
            "conv1d_5 (Conv1D)            (None, 250, 32)           3104      \n",
            "_________________________________________________________________\n",
            "max_pooling1d_2 (MaxPooling1 (None, 125, 32)           0         \n",
            "_________________________________________________________________\n",
            "conv1d_6 (Conv1D)            (None, 125, 32)           3104      \n",
            "_________________________________________________________________\n",
            "conv1d_7 (Conv1D)            (None, 125, 32)           3104      \n",
            "_________________________________________________________________\n",
            "max_pooling1d_3 (MaxPooling1 (None, 62, 32)            0         \n",
            "_________________________________________________________________\n",
            "flatten (Flatten)            (None, 1984)              0         \n",
            "_________________________________________________________________\n",
            "dense (Dense)                (None, 24)                47640     \n",
            "_________________________________________________________________\n",
            "dropout (Dropout)            (None, 24)                0         \n",
            "_________________________________________________________________\n",
            "dense_1 (Dense)              (None, 24)                600       \n",
            "_________________________________________________________________\n",
            "dropout_1 (Dropout)          (None, 24)                0         \n",
            "_________________________________________________________________\n",
            "dense_2 (Dense)              (None, 1)                 25        \n",
            "=================================================================\n",
            "Total params: 70,425\n",
            "Trainable params: 70,425\n",
            "Non-trainable params: 0\n",
            "_________________________________________________________________\n",
            "None\n"
          ],
          "name": "stdout"
        }
      ]
    },
    {
      "cell_type": "code",
      "metadata": {
        "id": "f8fNo6sn9KdH"
      },
      "source": [
        "def load_data_from_files(nc_filename,pc_filename):\n",
        "  FREEMEM=True   # use False for debugging, True for production\n",
        "  print(\"Load data from files.\")\n",
        "  nc_seq=tools.load_fasta(nc_filename,0)\n",
        "  pc_seq=tools.load_fasta(pc_filename,1)\n",
        "  train_set=pd.concat((nc_seq,pc_seq),axis=0)\n",
        "  print(\"Ready: train_set\")\n",
        "  subset=tools.make_slice(train_set,MINLEN,MAXLEN)# One array to two: X and y\n",
        "  if FREEMEM:\n",
        "      nc_seq=None\n",
        "      pc_seq=None\n",
        "      train_set=None\n",
        "  (X1,y_train)=tools.separate_X_and_y(subset)\n",
        "  # X1 is pandas df of (\"list\" of one sequence)\n",
        "  X2=X1.to_numpy()  # numpy ndarray of (\"list\" of one sequence)\n",
        "  X3=[elem[0] for elem in X2]  # numpy ndarray of ACGT-str\n",
        "  # X3? It might be faster to use int-array than char-array. Come back to this.\n",
        "  X4=X3  # no-op\n",
        "  print(\"X4\",type(X4))\n",
        "  #print(X4[0])\n",
        "  if FREEMEM:\n",
        "      X1=None\n",
        "      X2=None\n",
        "      X3=None\n",
        "  X5=[]\n",
        "  dna_to_int = {'A':0,'C':1,'G':2,'T':3}\n",
        "  for x in X4:\n",
        "      a=[]\n",
        "      for c in x:\n",
        "          i = dna_to_int[c]\n",
        "          a.append(i)\n",
        "      X5.append(a)\n",
        "  X5=np.asarray(X5)\n",
        "  print(\"X5\",type(X5))\n",
        "  print(X5.shape)\n",
        "  if FREEMEM:\n",
        "      X4=None\n",
        "  X_train=X5\n",
        "  if FREEMEM:\n",
        "      X5=None\n",
        "  print(\"X_train\",type(X_train))\n",
        "  y_train=y_train.to_numpy()\n",
        "  print(X_train.shape)\n",
        "  print(X_train[0].shape)\n",
        "  print(X_train[0])\n",
        "  return X_train,y_train\n"
      ],
      "execution_count": 7,
      "outputs": []
    },
    {
      "cell_type": "code",
      "metadata": {
        "colab": {
          "base_uri": "https://localhost:8080/"
        },
        "id": "UmEls9oXRQON",
        "outputId": "b3045262-9353-440c-a79b-b035eaff8cbf"
      },
      "source": [
        "print(\"Loading training data...\")\n",
        "X_train,y_train = load_data_from_files(NC_FILENAME,PC_FILENAME)"
      ],
      "execution_count": 8,
      "outputs": [
        {
          "output_type": "stream",
          "text": [
            "Loading training data...\n",
            "Load data from files.\n",
            "Ready: train_set\n",
            "X4 <class 'list'>\n",
            "X5 <class 'numpy.ndarray'>\n",
            "(24000, 1000)\n",
            "X_train <class 'numpy.ndarray'>\n",
            "(24000, 1000)\n",
            "(1000,)\n",
            "[2 0 1 2 1 1 0 1 3 0 3 2 0 1 2 0 1 1 1 2 2 2 1 2 2 1 2 2 1 1 2 2 1 1 3 1 3\n",
            " 0 0 1 2 1 1 2 0 2 1 3 3 1 1 3 0 1 1 2 3 0 3 0 2 3 3 0 3 3 3 0 1 0 1 0 1 3\n",
            " 3 0 0 1 3 1 2 3 1 3 1 2 0 1 1 3 2 2 3 3 3 3 3 1 0 3 0 0 2 1 1 3 1 1 3 1 2\n",
            " 2 2 2 0 3 3 2 3 0 3 3 2 3 1 0 1 2 0 2 3 1 3 1 2 2 3 0 3 1 2 1 1 2 0 0 1 0\n",
            " 0 1 1 3 1 1 3 0 3 0 3 1 1 1 2 0 3 1 1 1 3 1 3 2 0 0 0 3 1 3 0 2 0 1 1 1 2\n",
            " 0 0 0 0 1 2 3 0 3 3 1 1 2 2 2 3 2 1 2 3 3 2 2 1 2 0 3 3 0 2 0 1 3 3 2 3 0\n",
            " 2 1 1 1 2 3 0 0 1 3 1 1 2 0 2 3 0 2 0 3 2 2 3 0 2 3 0 3 2 1 0 3 2 3 1 2 1\n",
            " 2 1 3 3 0 2 2 0 1 2 0 1 2 2 1 2 2 0 3 2 2 3 1 0 0 0 1 1 0 1 0 0 2 3 1 2 0\n",
            " 1 1 1 3 1 2 0 0 1 2 3 1 0 0 3 3 1 2 3 0 1 0 3 3 1 1 1 1 2 1 1 0 0 1 0 0 2\n",
            " 2 2 3 1 1 0 2 2 2 0 0 2 1 3 2 0 1 2 1 3 2 0 0 1 0 2 3 0 2 2 0 0 3 2 0 0 2\n",
            " 3 3 0 3 1 1 1 2 3 1 0 1 0 0 2 0 0 1 1 0 0 3 2 0 2 3 0 3 0 1 1 2 3 0 3 0 3\n",
            " 1 2 2 3 3 3 2 1 2 2 3 2 2 0 0 0 3 0 1 0 1 1 0 2 3 3 2 3 0 1 1 0 0 2 1 2 2\n",
            " 0 2 0 3 2 1 3 1 1 1 0 1 2 3 2 3 1 3 0 3 3 0 3 1 1 2 2 2 3 3 1 2 3 3 2 2 1\n",
            " 0 2 3 3 2 2 2 3 3 0 3 2 0 3 2 2 3 0 0 1 1 1 2 1 1 1 0 2 3 2 2 0 3 1 2 2 2\n",
            " 3 0 3 1 2 0 0 3 3 3 2 0 1 3 1 1 0 3 0 2 0 0 2 2 0 3 2 3 1 1 0 0 1 3 0 3 3\n",
            " 0 3 0 0 0 0 2 0 2 0 0 2 1 3 1 1 0 2 3 1 3 2 0 3 3 3 2 1 0 0 1 3 1 0 3 1 1\n",
            " 3 0 0 3 0 0 0 2 2 3 3 1 2 3 1 3 1 2 2 2 0 3 2 0 3 1 1 1 3 2 0 2 2 2 1 0 3\n",
            " 2 0 1 0 1 3 3 0 3 0 0 1 0 1 1 1 1 0 3 0 0 3 3 1 1 1 2 0 1 2 2 3 3 3 2 0 2\n",
            " 2 2 0 0 2 0 0 2 3 3 1 0 3 2 1 3 3 2 0 0 1 1 2 3 2 3 3 1 0 0 2 0 2 2 0 1 2\n",
            " 0 3 3 2 2 1 3 3 2 2 0 1 1 2 2 0 2 3 0 1 3 2 3 1 2 3 3 1 2 1 3 3 1 1 2 2 3\n",
            " 2 1 3 3 3 3 0 2 2 1 3 3 0 2 3 0 3 1 3 2 2 2 3 0 0 1 2 1 0 3 0 1 0 1 2 3 2\n",
            " 2 1 0 0 1 0 1 1 0 2 0 1 2 1 1 0 3 2 1 1 0 1 2 2 2 3 1 2 0 3 3 3 1 0 2 2 0\n",
            " 2 0 0 1 1 0 3 0 1 2 0 2 3 0 1 2 3 1 0 1 3 0 2 2 0 2 3 0 0 2 2 1 3 1 3 2 3\n",
            " 2 0 3 3 1 0 2 2 0 2 0 2 1 0 2 2 2 2 0 3 3 3 0 3 0 2 2 3 2 3 2 0 3 0 1 1 0\n",
            " 0 2 2 0 1 0 3 1 1 2 1 1 2 3 1 2 1 0 3 2 0 3 3 1 2 3 3 0 2 1 3 2 3 0 1 2 2\n",
            " 2 1 1 0 0 0 1 1 1 1 0 0 2 3 2 3 3 1 2 0 2 1 1 1 2 2 0 0 3 0 0 0 3 0 3 3 0\n",
            " 3 1 3 2 0 0 1 3 3 2 3 1 3 1 1 3 3 1 0 3 3 3 0 1 2 0 0 0 2 3 3 0 3 2 2 2 3\n",
            " 0]\n"
          ],
          "name": "stdout"
        }
      ]
    },
    {
      "cell_type": "code",
      "metadata": {
        "colab": {
          "base_uri": "https://localhost:8080/"
        },
        "id": "sfvgDZR1a_2j",
        "outputId": "29684b89-8f39-48a9-b482-b79fc264dd86"
      },
      "source": [
        "print(\"Loading validation data...\")\n",
        "X_VALID,Y_VALID = load_data_from_files(NC_VAL_FILE,PC_VAL_FILE)"
      ],
      "execution_count": 9,
      "outputs": [
        {
          "output_type": "stream",
          "text": [
            "Loading validation data...\n",
            "Load data from files.\n",
            "Ready: train_set\n",
            "X4 <class 'list'>\n",
            "X5 <class 'numpy.ndarray'>\n",
            "(100000, 1000)\n",
            "X_train <class 'numpy.ndarray'>\n",
            "(100000, 1000)\n",
            "(1000,)\n",
            "[1 3 3 0 2 1 3 0 3 0 0 2 3 1 0 0 1 3 2 2 2 1 0 3 0 1 3 3 2 0 3 1 0 3 1 0 0\n",
            " 1 1 3 2 0 3 2 1 0 2 0 2 0 0 0 3 0 1 2 1 2 3 2 2 0 2 1 3 2 2 0 1 1 2 0 0 2\n",
            " 1 3 0 2 3 1 2 3 3 3 1 0 0 2 2 1 1 2 0 0 0 3 2 3 0 2 0 1 0 1 3 2 3 1 0 2 3\n",
            " 2 0 1 2 0 2 0 0 0 3 1 0 3 1 3 0 0 3 0 3 0 2 3 0 3 0 0 0 2 3 2 0 0 1 2 2 2\n",
            " 3 2 2 1 1 3 1 2 1 0 1 3 1 0 1 3 1 1 0 2 2 2 2 2 1 0 1 0 0 2 1 1 0 0 3 1 2\n",
            " 2 3 3 2 3 2 1 3 2 0 0 2 0 1 3 0 1 0 1 1 0 2 1 3 3 0 1 2 3 3 1 2 0 1 2 3 3\n",
            " 3 0 3 3 2 2 1 3 3 2 3 3 1 1 2 1 0 0 1 0 0 1 1 3 0 0 2 0 2 0 0 1 0 1 2 1 2\n",
            " 2 3 2 0 1 0 1 1 0 2 0 2 0 2 2 1 0 2 2 1 3 2 2 2 2 0 0 1 2 2 1 3 0 1 0 0 3\n",
            " 0 1 3 1 0 3 2 2 3 2 1 0 2 3 2 1 3 2 3 2 1 2 3 0 3 1 0 3 3 0 2 2 3 0 3 1 1\n",
            " 2 2 0 2 2 2 1 2 2 3 1 3 2 0 2 1 1 3 2 0 3 3 1 0 2 3 1 2 1 0 0 3 2 0 2 0 2\n",
            " 0 2 1 0 3 1 3 1 1 3 3 2 1 2 1 0 1 1 0 3 1 2 0 0 3 1 0 3 1 2 0 2 2 2 0 3 1\n",
            " 0 3 2 2 2 0 2 1 1 1 2 1 0 2 2 3 1 1 0 3 3 2 2 2 2 3 0 2 1 1 2 0 2 2 1 3 1\n",
            " 0 0 3 0 1 1 0 3 1 3 3 2 1 2 0 2 3 1 2 3 2 3 0 2 0 2 0 0 0 1 0 0 1 0 3 0 1\n",
            " 1 2 2 2 0 3 2 0 0 1 3 3 2 0 2 1 2 2 2 0 1 1 2 1 1 2 0 1 1 1 3 0 3 2 3 2 3\n",
            " 1 2 2 3 2 3 2 1 3 3 2 1 2 3 1 1 0 0 1 0 1 1 2 0 1 1 2 1 3 0 2 1 1 1 3 3 3\n",
            " 1 3 1 1 2 3 1 2 0 3 0 3 0 0 1 2 2 1 2 2 1 0 0 2 2 1 2 3 1 0 3 1 3 0 0 1 3\n",
            " 2 0 1 3 1 1 3 3 2 1 1 1 0 1 3 1 0 2 0 2 3 3 2 3 2 1 3 2 3 1 3 1 1 1 0 3 3\n",
            " 2 3 3 1 1 1 1 3 0 0 0 3 0 1 1 0 0 0 2 1 2 1 0 2 0 3 1 3 2 2 3 1 3 0 0 1 1\n",
            " 2 2 0 2 0 0 3 0 0 3 2 2 3 3 2 0 3 0 2 0 0 3 2 2 3 2 1 1 2 2 2 1 0 1 2 0 1\n",
            " 2 1 0 0 2 3 0 0 1 1 1 2 3 2 2 2 0 1 1 3 1 0 0 2 3 2 3 1 3 3 3 0 3 0 1 3 0\n",
            " 1 2 3 1 2 0 1 2 2 3 1 1 1 0 3 3 0 2 2 0 3 1 1 1 2 1 1 1 0 3 2 0 2 1 3 3 2\n",
            " 0 0 3 3 0 3 1 0 3 3 1 3 0 2 1 1 2 2 3 1 0 1 1 3 0 1 1 0 0 3 2 1 3 0 0 1 1\n",
            " 3 3 0 3 3 2 2 0 3 2 1 0 1 1 0 1 0 3 3 2 3 1 1 1 1 0 3 3 2 0 1 1 2 1 0 2 2\n",
            " 1 3 1 0 3 3 2 1 0 2 2 1 3 0 0 1 2 3 0 0 0 1 3 0 0 3 2 3 0 2 0 3 0 0 3 0 2\n",
            " 2 3 3 3 0 3 3 2 2 3 1 2 2 2 0 3 2 2 3 2 3 0 2 2 0 0 2 0 1 0 0 1 0 1 2 1 3\n",
            " 3 1 0 3 0 1 0 2 3 2 2 0 2 3 3 0 3 1 2 1 0 2 2 2 0 2 0 3 2 1 0 2 3 0 2 3 2\n",
            " 1 3 3 3 3 0 3 1 2 3 2 0 3 1 0 1 2 2 1 1 1 1 3 3 0 1 2 2 1 1 0 0 3 1 0 0 3\n",
            " 2]\n"
          ],
          "name": "stdout"
        }
      ]
    },
    {
      "cell_type": "code",
      "metadata": {
        "colab": {
          "base_uri": "https://localhost:8080/",
          "height": 1000
        },
        "id": "mQ8eW5Rg9KdQ",
        "outputId": "0676621b-df68-4be2-dd75-a4daece5e21c"
      },
      "source": [
        "print (\"Cross validation\")\n",
        "do_cross_validation(X_train,y_train,model,X_VALID,Y_VALID)  \n",
        "print (\"Done\")"
      ],
      "execution_count": 10,
      "outputs": [
        {
          "output_type": "stream",
          "text": [
            "Cross validation\n",
            "COMPILE...\n",
            "...COMPILED\n",
            "FIT\n",
            "Epoch 1/20\n",
            "675/675 [==============================] - 8s 8ms/step - loss: 0.6956 - accuracy: 0.5119 - val_loss: 0.6790 - val_accuracy: 0.6096\n",
            "INFO:tensorflow:Assets written to: /content/drive/My Drive/data/JUNK1.cv.1.best/assets\n",
            "Epoch 2/20\n",
            "675/675 [==============================] - 5s 7ms/step - loss: 0.6679 - accuracy: 0.5885 - val_loss: 0.6081 - val_accuracy: 0.6733\n",
            "INFO:tensorflow:Assets written to: /content/drive/My Drive/data/JUNK1.cv.1.best/assets\n",
            "Epoch 3/20\n",
            "675/675 [==============================] - 4s 7ms/step - loss: 0.5951 - accuracy: 0.6930 - val_loss: 0.5279 - val_accuracy: 0.7513\n",
            "INFO:tensorflow:Assets written to: /content/drive/My Drive/data/JUNK1.cv.1.best/assets\n",
            "Epoch 4/20\n",
            "675/675 [==============================] - 5s 7ms/step - loss: 0.5052 - accuracy: 0.7701 - val_loss: 0.4249 - val_accuracy: 0.8321\n",
            "INFO:tensorflow:Assets written to: /content/drive/My Drive/data/JUNK1.cv.1.best/assets\n",
            "Epoch 5/20\n",
            "675/675 [==============================] - 5s 7ms/step - loss: 0.4259 - accuracy: 0.8367 - val_loss: 0.3888 - val_accuracy: 0.8554\n",
            "INFO:tensorflow:Assets written to: /content/drive/My Drive/data/JUNK1.cv.1.best/assets\n",
            "Epoch 6/20\n",
            "675/675 [==============================] - 5s 7ms/step - loss: 0.3929 - accuracy: 0.8584 - val_loss: 0.3806 - val_accuracy: 0.8646\n",
            "INFO:tensorflow:Assets written to: /content/drive/My Drive/data/JUNK1.cv.1.best/assets\n",
            "Epoch 7/20\n",
            "675/675 [==============================] - 5s 7ms/step - loss: 0.3729 - accuracy: 0.8701 - val_loss: 0.3683 - val_accuracy: 0.8746\n",
            "INFO:tensorflow:Assets written to: /content/drive/My Drive/data/JUNK1.cv.1.best/assets\n",
            "Epoch 8/20\n",
            "675/675 [==============================] - 5s 7ms/step - loss: 0.3631 - accuracy: 0.8735 - val_loss: 0.3559 - val_accuracy: 0.8821\n",
            "INFO:tensorflow:Assets written to: /content/drive/My Drive/data/JUNK1.cv.1.best/assets\n",
            "Epoch 9/20\n",
            "675/675 [==============================] - 5s 7ms/step - loss: 0.3585 - accuracy: 0.8792 - val_loss: 0.3623 - val_accuracy: 0.8775\n",
            "Epoch 10/20\n",
            "675/675 [==============================] - 5s 7ms/step - loss: 0.3373 - accuracy: 0.8865 - val_loss: 0.3637 - val_accuracy: 0.8729\n",
            "Epoch 11/20\n",
            "675/675 [==============================] - 4s 7ms/step - loss: 0.3425 - accuracy: 0.8821 - val_loss: 0.3631 - val_accuracy: 0.8767\n",
            "Epoch 12/20\n",
            "675/675 [==============================] - 4s 7ms/step - loss: 0.3369 - accuracy: 0.8880 - val_loss: 0.3614 - val_accuracy: 0.8788\n",
            "Epoch 13/20\n",
            "675/675 [==============================] - 5s 7ms/step - loss: 0.3344 - accuracy: 0.8882 - val_loss: 0.3742 - val_accuracy: 0.8750\n",
            "Epoch 14/20\n",
            "675/675 [==============================] - 4s 7ms/step - loss: 0.3327 - accuracy: 0.8873 - val_loss: 0.3588 - val_accuracy: 0.8833\n",
            "INFO:tensorflow:Assets written to: /content/drive/My Drive/data/JUNK1.cv.1.best/assets\n",
            "Epoch 15/20\n",
            "675/675 [==============================] - 5s 7ms/step - loss: 0.3212 - accuracy: 0.8914 - val_loss: 0.3655 - val_accuracy: 0.8800\n",
            "Epoch 16/20\n",
            "675/675 [==============================] - 5s 7ms/step - loss: 0.3131 - accuracy: 0.8964 - val_loss: 0.3692 - val_accuracy: 0.8733\n",
            "Epoch 17/20\n",
            "675/675 [==============================] - 5s 7ms/step - loss: 0.3149 - accuracy: 0.8963 - val_loss: 0.3546 - val_accuracy: 0.8846\n",
            "INFO:tensorflow:Assets written to: /content/drive/My Drive/data/JUNK1.cv.1.best/assets\n",
            "Epoch 18/20\n",
            "675/675 [==============================] - 5s 7ms/step - loss: 0.3098 - accuracy: 0.8942 - val_loss: 0.3748 - val_accuracy: 0.8792\n",
            "Epoch 19/20\n",
            "675/675 [==============================] - 4s 7ms/step - loss: 0.3021 - accuracy: 0.8981 - val_loss: 0.3681 - val_accuracy: 0.8796\n",
            "Epoch 20/20\n",
            "675/675 [==============================] - 4s 7ms/step - loss: 0.3021 - accuracy: 0.8981 - val_loss: 0.3677 - val_accuracy: 0.8821\n",
            "Fold 1, 20 epochs, 119 sec\n"
          ],
          "name": "stdout"
        },
        {
          "output_type": "display_data",
          "data": {
            "image/png": "[encoded data removed]",
            "text/plain": [
              "<Figure size 576x360 with 1 Axes>"
            ]
          },
          "metadata": {
            "tags": [],
            "needs_background": "light"
          }
        },
        {
          "output_type": "stream",
          "text": [
            "accuracy: 96.40%\n",
            "COMPILE...\n",
            "...COMPILED\n",
            "FIT\n",
            "Epoch 1/20\n",
            "675/675 [==============================] - 6s 7ms/step - loss: 0.6973 - accuracy: 0.5031 - val_loss: 0.6909 - val_accuracy: 0.5150\n",
            "INFO:tensorflow:Assets written to: /content/drive/My Drive/data/JUNK1.cv.2.best/assets\n",
            "Epoch 2/20\n",
            "675/675 [==============================] - 4s 7ms/step - loss: 0.6963 - accuracy: 0.5194 - val_loss: 0.6734 - val_accuracy: 0.5829\n",
            "INFO:tensorflow:Assets written to: /content/drive/My Drive/data/JUNK1.cv.2.best/assets\n",
            "Epoch 3/20\n",
            "675/675 [==============================] - 4s 6ms/step - loss: 0.6770 - accuracy: 0.5736 - val_loss: 0.6712 - val_accuracy: 0.5621\n",
            "Epoch 4/20\n",
            "675/675 [==============================] - 4s 7ms/step - loss: 0.6424 - accuracy: 0.6373 - val_loss: 0.6301 - val_accuracy: 0.6525\n",
            "INFO:tensorflow:Assets written to: /content/drive/My Drive/data/JUNK1.cv.2.best/assets\n",
            "Epoch 5/20\n",
            "675/675 [==============================] - 5s 7ms/step - loss: 0.6099 - accuracy: 0.6736 - val_loss: 0.5621 - val_accuracy: 0.7192\n",
            "INFO:tensorflow:Assets written to: /content/drive/My Drive/data/JUNK1.cv.2.best/assets\n",
            "Epoch 6/20\n",
            "675/675 [==============================] - 5s 7ms/step - loss: 0.5318 - accuracy: 0.7479 - val_loss: 0.4528 - val_accuracy: 0.8167\n",
            "INFO:tensorflow:Assets written to: /content/drive/My Drive/data/JUNK1.cv.2.best/assets\n",
            "Epoch 7/20\n",
            "675/675 [==============================] - 4s 6ms/step - loss: 0.4231 - accuracy: 0.8348 - val_loss: 0.3707 - val_accuracy: 0.8725\n",
            "INFO:tensorflow:Assets written to: /content/drive/My Drive/data/JUNK1.cv.2.best/assets\n",
            "Epoch 8/20\n",
            "675/675 [==============================] - 4s 7ms/step - loss: 0.3736 - accuracy: 0.8748 - val_loss: 0.3517 - val_accuracy: 0.8858\n",
            "INFO:tensorflow:Assets written to: /content/drive/My Drive/data/JUNK1.cv.2.best/assets\n",
            "Epoch 9/20\n",
            "675/675 [==============================] - 4s 7ms/step - loss: 0.3454 - accuracy: 0.8850 - val_loss: 0.3504 - val_accuracy: 0.8863\n",
            "INFO:tensorflow:Assets written to: /content/drive/My Drive/data/JUNK1.cv.2.best/assets\n",
            "Epoch 10/20\n",
            "675/675 [==============================] - 4s 6ms/step - loss: 0.3413 - accuracy: 0.8892 - val_loss: 0.3511 - val_accuracy: 0.8825\n",
            "Epoch 11/20\n",
            "675/675 [==============================] - 4s 7ms/step - loss: 0.3456 - accuracy: 0.8856 - val_loss: 0.3448 - val_accuracy: 0.8879\n",
            "INFO:tensorflow:Assets written to: /content/drive/My Drive/data/JUNK1.cv.2.best/assets\n",
            "Epoch 12/20\n",
            "675/675 [==============================] - 5s 7ms/step - loss: 0.3392 - accuracy: 0.8880 - val_loss: 0.3415 - val_accuracy: 0.8900\n",
            "INFO:tensorflow:Assets written to: /content/drive/My Drive/data/JUNK1.cv.2.best/assets\n",
            "Epoch 13/20\n",
            "675/675 [==============================] - 4s 7ms/step - loss: 0.3287 - accuracy: 0.8945 - val_loss: 0.3447 - val_accuracy: 0.8888\n",
            "Epoch 14/20\n",
            "675/675 [==============================] - 5s 7ms/step - loss: 0.3287 - accuracy: 0.8921 - val_loss: 0.3416 - val_accuracy: 0.8908\n",
            "INFO:tensorflow:Assets written to: /content/drive/My Drive/data/JUNK1.cv.2.best/assets\n",
            "Epoch 15/20\n",
            "675/675 [==============================] - 4s 7ms/step - loss: 0.3251 - accuracy: 0.8944 - val_loss: 0.3472 - val_accuracy: 0.8846\n",
            "Epoch 16/20\n",
            "675/675 [==============================] - 4s 7ms/step - loss: 0.3317 - accuracy: 0.8917 - val_loss: 0.3484 - val_accuracy: 0.8850\n",
            "Epoch 17/20\n",
            "675/675 [==============================] - 4s 7ms/step - loss: 0.3122 - accuracy: 0.8974 - val_loss: 0.3416 - val_accuracy: 0.8913\n",
            "INFO:tensorflow:Assets written to: /content/drive/My Drive/data/JUNK1.cv.2.best/assets\n",
            "Epoch 18/20\n",
            "675/675 [==============================] - 4s 7ms/step - loss: 0.3149 - accuracy: 0.8981 - val_loss: 0.3459 - val_accuracy: 0.8858\n",
            "Epoch 19/20\n",
            "675/675 [==============================] - 4s 7ms/step - loss: 0.3170 - accuracy: 0.8962 - val_loss: 0.3546 - val_accuracy: 0.8792\n",
            "Epoch 20/20\n",
            "675/675 [==============================] - 4s 6ms/step - loss: 0.3103 - accuracy: 0.8988 - val_loss: 0.3481 - val_accuracy: 0.8854\n",
            "Fold 2, 20 epochs, 120 sec\n"
          ],
          "name": "stdout"
        },
        {
          "output_type": "display_data",
          "data": {
            "image/png": "[encoded data removed]",
            "text/plain": [
              "<Figure size 576x360 with 1 Axes>"
            ]
          },
          "metadata": {
            "tags": [],
            "needs_background": "light"
          }
        },
        {
          "output_type": "stream",
          "text": [
            "accuracy: 98.24%\n",
            "COMPILE...\n",
            "...COMPILED\n",
            "FIT\n",
            "Epoch 1/20\n",
            "675/675 [==============================] - 6s 7ms/step - loss: 0.6890 - accuracy: 0.5331 - val_loss: 0.7180 - val_accuracy: 0.5329\n",
            "INFO:tensorflow:Assets written to: /content/drive/My Drive/data/JUNK1.cv.3.best/assets\n",
            "Epoch 2/20\n",
            "675/675 [==============================] - 4s 7ms/step - loss: 0.6462 - accuracy: 0.6288 - val_loss: 0.6172 - val_accuracy: 0.6592\n",
            "INFO:tensorflow:Assets written to: /content/drive/My Drive/data/JUNK1.cv.3.best/assets\n",
            "Epoch 3/20\n",
            "675/675 [==============================] - 4s 7ms/step - loss: 0.5605 - accuracy: 0.7209 - val_loss: 0.4592 - val_accuracy: 0.8079\n",
            "INFO:tensorflow:Assets written to: /content/drive/My Drive/data/JUNK1.cv.3.best/assets\n",
            "Epoch 4/20\n",
            "675/675 [==============================] - 4s 7ms/step - loss: 0.4507 - accuracy: 0.8177 - val_loss: 0.4072 - val_accuracy: 0.8475\n",
            "INFO:tensorflow:Assets written to: /content/drive/My Drive/data/JUNK1.cv.3.best/assets\n",
            "Epoch 5/20\n",
            "675/675 [==============================] - 5s 7ms/step - loss: 0.3987 - accuracy: 0.8548 - val_loss: 0.3961 - val_accuracy: 0.8571\n",
            "INFO:tensorflow:Assets written to: /content/drive/My Drive/data/JUNK1.cv.3.best/assets\n",
            "Epoch 6/20\n",
            "675/675 [==============================] - 5s 7ms/step - loss: 0.3730 - accuracy: 0.8694 - val_loss: 0.3887 - val_accuracy: 0.8596\n",
            "INFO:tensorflow:Assets written to: /content/drive/My Drive/data/JUNK1.cv.3.best/assets\n",
            "Epoch 7/20\n",
            "675/675 [==============================] - 4s 7ms/step - loss: 0.3634 - accuracy: 0.8748 - val_loss: 0.3806 - val_accuracy: 0.8675\n",
            "INFO:tensorflow:Assets written to: /content/drive/My Drive/data/JUNK1.cv.3.best/assets\n",
            "Epoch 8/20\n",
            "675/675 [==============================] - 5s 7ms/step - loss: 0.3444 - accuracy: 0.8862 - val_loss: 0.3827 - val_accuracy: 0.8671\n",
            "Epoch 9/20\n",
            "675/675 [==============================] - 5s 7ms/step - loss: 0.3423 - accuracy: 0.8822 - val_loss: 0.3719 - val_accuracy: 0.8754\n",
            "INFO:tensorflow:Assets written to: /content/drive/My Drive/data/JUNK1.cv.3.best/assets\n",
            "Epoch 10/20\n",
            "675/675 [==============================] - 4s 7ms/step - loss: 0.3287 - accuracy: 0.8875 - val_loss: 0.3710 - val_accuracy: 0.8767\n",
            "INFO:tensorflow:Assets written to: /content/drive/My Drive/data/JUNK1.cv.3.best/assets\n",
            "Epoch 11/20\n",
            "675/675 [==============================] - 5s 7ms/step - loss: 0.3287 - accuracy: 0.8898 - val_loss: 0.3799 - val_accuracy: 0.8725\n",
            "Epoch 12/20\n",
            "675/675 [==============================] - 5s 7ms/step - loss: 0.3243 - accuracy: 0.8886 - val_loss: 0.3816 - val_accuracy: 0.8700\n",
            "Epoch 13/20\n",
            "675/675 [==============================] - 5s 7ms/step - loss: 0.3186 - accuracy: 0.8917 - val_loss: 0.3832 - val_accuracy: 0.8721\n",
            "Epoch 14/20\n",
            "675/675 [==============================] - 5s 7ms/step - loss: 0.2993 - accuracy: 0.8995 - val_loss: 0.3823 - val_accuracy: 0.8729\n",
            "Epoch 15/20\n",
            "675/675 [==============================] - 4s 7ms/step - loss: 0.2993 - accuracy: 0.9002 - val_loss: 0.3979 - val_accuracy: 0.8633\n",
            "Epoch 16/20\n",
            "675/675 [==============================] - 5s 7ms/step - loss: 0.2981 - accuracy: 0.9002 - val_loss: 0.3973 - val_accuracy: 0.8642\n",
            "Epoch 17/20\n",
            "675/675 [==============================] - 5s 7ms/step - loss: 0.2874 - accuracy: 0.9039 - val_loss: 0.4021 - val_accuracy: 0.8621\n",
            "Epoch 18/20\n",
            "675/675 [==============================] - 5s 7ms/step - loss: 0.2776 - accuracy: 0.9042 - val_loss: 0.4009 - val_accuracy: 0.8654\n",
            "Epoch 19/20\n",
            "675/675 [==============================] - 4s 7ms/step - loss: 0.2803 - accuracy: 0.9009 - val_loss: 0.4049 - val_accuracy: 0.8692\n",
            "Epoch 20/20\n",
            "675/675 [==============================] - 4s 7ms/step - loss: 0.2763 - accuracy: 0.9052 - val_loss: 0.4207 - val_accuracy: 0.8612\n",
            "Fold 3, 20 epochs, 115 sec\n"
          ],
          "name": "stdout"
        },
        {
          "output_type": "display_data",
          "data": {
            "image/png": "[encoded data removed]",
            "text/plain": [
              "<Figure size 576x360 with 1 Axes>"
            ]
          },
          "metadata": {
            "tags": [],
            "needs_background": "light"
          }
        },
        {
          "output_type": "stream",
          "text": [
            "accuracy: 96.94%\n",
            "COMPILE...\n",
            "...COMPILED\n",
            "FIT\n",
            "Epoch 1/20\n",
            "675/675 [==============================] - 6s 7ms/step - loss: 0.6952 - accuracy: 0.5001 - val_loss: 0.6931 - val_accuracy: 0.5017\n",
            "INFO:tensorflow:Assets written to: /content/drive/My Drive/data/JUNK1.cv.4.best/assets\n",
            "Epoch 2/20\n",
            "675/675 [==============================] - 5s 7ms/step - loss: 0.6939 - accuracy: 0.5026 - val_loss: 0.6931 - val_accuracy: 0.4983\n",
            "Epoch 3/20\n",
            "675/675 [==============================] - 5s 7ms/step - loss: 0.6940 - accuracy: 0.5016 - val_loss: 0.6932 - val_accuracy: 0.4983\n",
            "Epoch 4/20\n",
            "675/675 [==============================] - 5s 7ms/step - loss: 0.6943 - accuracy: 0.4945 - val_loss: 0.6933 - val_accuracy: 0.5017\n",
            "Epoch 5/20\n",
            "675/675 [==============================] - 4s 7ms/step - loss: 0.6935 - accuracy: 0.5099 - val_loss: 0.6931 - val_accuracy: 0.5054\n",
            "INFO:tensorflow:Assets written to: /content/drive/My Drive/data/JUNK1.cv.4.best/assets\n",
            "Epoch 6/20\n",
            "675/675 [==============================] - 4s 7ms/step - loss: 0.6911 - accuracy: 0.5124 - val_loss: 0.6525 - val_accuracy: 0.6071\n",
            "INFO:tensorflow:Assets written to: /content/drive/My Drive/data/JUNK1.cv.4.best/assets\n",
            "Epoch 7/20\n",
            "675/675 [==============================] - 5s 7ms/step - loss: 0.6208 - accuracy: 0.6643 - val_loss: 0.5194 - val_accuracy: 0.7571\n",
            "INFO:tensorflow:Assets written to: /content/drive/My Drive/data/JUNK1.cv.4.best/assets\n",
            "Epoch 8/20\n",
            "675/675 [==============================] - 4s 7ms/step - loss: 0.4897 - accuracy: 0.7818 - val_loss: 0.4122 - val_accuracy: 0.8413\n",
            "INFO:tensorflow:Assets written to: /content/drive/My Drive/data/JUNK1.cv.4.best/assets\n",
            "Epoch 9/20\n",
            "675/675 [==============================] - 4s 7ms/step - loss: 0.4287 - accuracy: 0.8338 - val_loss: 0.3723 - val_accuracy: 0.8662\n",
            "INFO:tensorflow:Assets written to: /content/drive/My Drive/data/JUNK1.cv.4.best/assets\n",
            "Epoch 10/20\n",
            "675/675 [==============================] - 4s 7ms/step - loss: 0.3886 - accuracy: 0.8613 - val_loss: 0.3663 - val_accuracy: 0.8737\n",
            "INFO:tensorflow:Assets written to: /content/drive/My Drive/data/JUNK1.cv.4.best/assets\n",
            "Epoch 11/20\n",
            "675/675 [==============================] - 4s 7ms/step - loss: 0.3633 - accuracy: 0.8773 - val_loss: 0.3607 - val_accuracy: 0.8767\n",
            "INFO:tensorflow:Assets written to: /content/drive/My Drive/data/JUNK1.cv.4.best/assets\n",
            "Epoch 12/20\n",
            "675/675 [==============================] - 5s 7ms/step - loss: 0.3520 - accuracy: 0.8833 - val_loss: 0.3613 - val_accuracy: 0.8733\n",
            "Epoch 13/20\n",
            "675/675 [==============================] - 5s 7ms/step - loss: 0.3585 - accuracy: 0.8790 - val_loss: 0.3519 - val_accuracy: 0.8821\n",
            "INFO:tensorflow:Assets written to: /content/drive/My Drive/data/JUNK1.cv.4.best/assets\n",
            "Epoch 14/20\n",
            "675/675 [==============================] - 5s 7ms/step - loss: 0.3482 - accuracy: 0.8854 - val_loss: 0.3534 - val_accuracy: 0.8813\n",
            "Epoch 15/20\n",
            "675/675 [==============================] - 4s 7ms/step - loss: 0.3458 - accuracy: 0.8863 - val_loss: 0.3469 - val_accuracy: 0.8875\n",
            "INFO:tensorflow:Assets written to: /content/drive/My Drive/data/JUNK1.cv.4.best/assets\n",
            "Epoch 16/20\n",
            "675/675 [==============================] - 5s 7ms/step - loss: 0.3412 - accuracy: 0.8869 - val_loss: 0.3542 - val_accuracy: 0.8821\n",
            "Epoch 17/20\n",
            "675/675 [==============================] - 5s 7ms/step - loss: 0.3318 - accuracy: 0.8931 - val_loss: 0.3499 - val_accuracy: 0.8842\n",
            "Epoch 18/20\n",
            "675/675 [==============================] - 4s 7ms/step - loss: 0.3304 - accuracy: 0.8915 - val_loss: 0.3643 - val_accuracy: 0.8742\n",
            "Epoch 19/20\n",
            "675/675 [==============================] - 4s 7ms/step - loss: 0.3325 - accuracy: 0.8910 - val_loss: 0.3544 - val_accuracy: 0.8829\n",
            "Epoch 20/20\n",
            "675/675 [==============================] - 4s 7ms/step - loss: 0.3291 - accuracy: 0.8910 - val_loss: 0.3507 - val_accuracy: 0.8838\n",
            "Fold 4, 20 epochs, 116 sec\n"
          ],
          "name": "stdout"
        },
        {
          "output_type": "display_data",
          "data": {
            "image/png": "[encoded data removed]",
            "text/plain": [
              "<Figure size 576x360 with 1 Axes>"
            ]
          },
          "metadata": {
            "tags": [],
            "needs_background": "light"
          }
        },
        {
          "output_type": "stream",
          "text": [
            "accuracy: 97.38%\n",
            "COMPILE...\n",
            "...COMPILED\n",
            "FIT\n",
            "Epoch 1/20\n",
            "675/675 [==============================] - 6s 7ms/step - loss: 0.6963 - accuracy: 0.4976 - val_loss: 0.6944 - val_accuracy: 0.5008\n",
            "INFO:tensorflow:Assets written to: /content/drive/My Drive/data/JUNK1.cv.5.best/assets\n",
            "Epoch 2/20\n",
            "675/675 [==============================] - 5s 7ms/step - loss: 0.6941 - accuracy: 0.5035 - val_loss: 0.6931 - val_accuracy: 0.4992\n",
            "Epoch 3/20\n",
            "675/675 [==============================] - 5s 7ms/step - loss: 0.6942 - accuracy: 0.5007 - val_loss: 0.6978 - val_accuracy: 0.4992\n",
            "Epoch 4/20\n",
            "675/675 [==============================] - 5s 7ms/step - loss: 0.6954 - accuracy: 0.5065 - val_loss: 0.6680 - val_accuracy: 0.5904\n",
            "INFO:tensorflow:Assets written to: /content/drive/My Drive/data/JUNK1.cv.5.best/assets\n",
            "Epoch 5/20\n",
            "675/675 [==============================] - 5s 7ms/step - loss: 0.6553 - accuracy: 0.6119 - val_loss: 0.5063 - val_accuracy: 0.7779\n",
            "INFO:tensorflow:Assets written to: /content/drive/My Drive/data/JUNK1.cv.5.best/assets\n",
            "Epoch 6/20\n",
            "675/675 [==============================] - 5s 7ms/step - loss: 0.4945 - accuracy: 0.7847 - val_loss: 0.4106 - val_accuracy: 0.8383\n",
            "INFO:tensorflow:Assets written to: /content/drive/My Drive/data/JUNK1.cv.5.best/assets\n",
            "Epoch 7/20\n",
            "675/675 [==============================] - 4s 7ms/step - loss: 0.4160 - accuracy: 0.8462 - val_loss: 0.3541 - val_accuracy: 0.8763\n",
            "INFO:tensorflow:Assets written to: /content/drive/My Drive/data/JUNK1.cv.5.best/assets\n",
            "Epoch 8/20\n",
            "675/675 [==============================] - 4s 7ms/step - loss: 0.3814 - accuracy: 0.8672 - val_loss: 0.3556 - val_accuracy: 0.8783\n",
            "INFO:tensorflow:Assets written to: /content/drive/My Drive/data/JUNK1.cv.5.best/assets\n",
            "Epoch 9/20\n",
            "675/675 [==============================] - 5s 7ms/step - loss: 0.3630 - accuracy: 0.8765 - val_loss: 0.3537 - val_accuracy: 0.8825\n",
            "INFO:tensorflow:Assets written to: /content/drive/My Drive/data/JUNK1.cv.5.best/assets\n",
            "Epoch 10/20\n",
            "675/675 [==============================] - 5s 7ms/step - loss: 0.3612 - accuracy: 0.8789 - val_loss: 0.3313 - val_accuracy: 0.8908\n",
            "INFO:tensorflow:Assets written to: /content/drive/My Drive/data/JUNK1.cv.5.best/assets\n",
            "Epoch 11/20\n",
            "675/675 [==============================] - 5s 7ms/step - loss: 0.3504 - accuracy: 0.8826 - val_loss: 0.3293 - val_accuracy: 0.8946\n",
            "INFO:tensorflow:Assets written to: /content/drive/My Drive/data/JUNK1.cv.5.best/assets\n",
            "Epoch 12/20\n",
            "675/675 [==============================] - 5s 7ms/step - loss: 0.3413 - accuracy: 0.8873 - val_loss: 0.3412 - val_accuracy: 0.8863\n",
            "Epoch 13/20\n",
            "675/675 [==============================] - 5s 7ms/step - loss: 0.3456 - accuracy: 0.8867 - val_loss: 0.3346 - val_accuracy: 0.8917\n",
            "Epoch 14/20\n",
            "675/675 [==============================] - 5s 7ms/step - loss: 0.3338 - accuracy: 0.8915 - val_loss: 0.3399 - val_accuracy: 0.8863\n",
            "Epoch 15/20\n",
            "675/675 [==============================] - 5s 7ms/step - loss: 0.3341 - accuracy: 0.8909 - val_loss: 0.3315 - val_accuracy: 0.8929\n",
            "Epoch 16/20\n",
            "675/675 [==============================] - 5s 7ms/step - loss: 0.3373 - accuracy: 0.8902 - val_loss: 0.3306 - val_accuracy: 0.8950\n",
            "INFO:tensorflow:Assets written to: /content/drive/My Drive/data/JUNK1.cv.5.best/assets\n",
            "Epoch 17/20\n",
            "675/675 [==============================] - 5s 7ms/step - loss: 0.3280 - accuracy: 0.8914 - val_loss: 0.3254 - val_accuracy: 0.8958\n",
            "INFO:tensorflow:Assets written to: /content/drive/My Drive/data/JUNK1.cv.5.best/assets\n",
            "Epoch 18/20\n",
            "675/675 [==============================] - 5s 7ms/step - loss: 0.3298 - accuracy: 0.8929 - val_loss: 0.3330 - val_accuracy: 0.8892\n",
            "Epoch 19/20\n",
            "675/675 [==============================] - 4s 7ms/step - loss: 0.3328 - accuracy: 0.8901 - val_loss: 0.3272 - val_accuracy: 0.8954\n",
            "Epoch 20/20\n",
            "675/675 [==============================] - 5s 7ms/step - loss: 0.3083 - accuracy: 0.9013 - val_loss: 0.3337 - val_accuracy: 0.8908\n",
            "Fold 5, 20 epochs, 120 sec\n"
          ],
          "name": "stdout"
        },
        {
          "output_type": "display_data",
          "data": {
            "image/png": "[encoded data removed]",
            "text/plain": [
              "<Figure size 576x360 with 1 Axes>"
            ]
          },
          "metadata": {
            "tags": [],
            "needs_background": "light"
          }
        },
        {
          "output_type": "stream",
          "text": [
            "accuracy: 97.28%\n",
            "\n",
            "5-way Cross Validation mean 97.25% (+/- 0.60%)\n",
            "Done\n"
          ],
          "name": "stdout"
        }
      ]
    },
    {
      "cell_type": "code",
      "metadata": {
        "id": "p4fh2GI8beMQ"
      },
      "source": [
        ""
      ],
      "execution_count": 10,
      "outputs": []
    }
  ]
}