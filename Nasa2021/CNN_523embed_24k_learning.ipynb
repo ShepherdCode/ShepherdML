{
  "nbformat": 4,
  "nbformat_minor": 0,
  "metadata": {
    "accelerator": "GPU",
    "colab": {
      "name": "CNN_523embed_24k_learning.ipynb",
      "provenance": [],
      "collapsed_sections": [],
      "machine_shape": "hm",
      "include_colab_link": true
    },
    "kernelspec": {
      "display_name": "Python 3",
      "language": "python",
      "name": "python3"
    },
    "language_info": {
      "codemirror_mode": {
        "name": "ipython",
        "version": 3
      },
      "file_extension": ".py",
      "mimetype": "text/x-python",
      "name": "python",
      "nbconvert_exporter": "python",
      "pygments_lexer": "ipython3",
      "version": "3.8.3"
    }
  },
  "cells": [
    {
      "cell_type": "markdown",
      "metadata": {
        "id": "view-in-github",
        "colab_type": "text"
      },
      "source": [
        "<a href=\"https://colab.research.google.com/github/ShepherdCode/ShepherdML/blob/master/Nasa2021/CNN_523embed_24k_learning.ipynb\" target=\"_parent\"><img src=\"https://colab.research.google.com/assets/colab-badge.svg\" alt=\"Open In Colab\"/></a>"
      ]
    },
    {
      "cell_type": "markdown",
      "metadata": {
        "id": "ojm_6E9f9Kcf"
      },
      "source": [
        "# CNN 523 24k\n",
        "\n",
        "1. Four layers of CNNS and MaxPooling\n",
        "2. Drop out at 0.2\n",
        "3. Variable filters and dense neurons\n",
        "4. Adjusted Learning rate to 0.0005\n",
        "\n",
        "\n",
        "\n",
        "\n",
        "\n",
        "\n",
        "\n",
        "\n",
        "\n",
        "\n",
        "\n",
        "\n"
      ]
    },
    {
      "cell_type": "code",
      "metadata": {
        "colab": {
          "base_uri": "https://localhost:8080/"
        },
        "id": "hh6XplUvC0j0",
        "outputId": "53c1a8ce-a3c7-43ce-a3a1-fe32e24d5f94"
      },
      "source": [
        "#NC_FILENAME='ncRNA.tiny50.fasta'\n",
        "#PC_FILENAME='pcRNA.tiny50.fasta'\n",
        "#NC_FILENAME='ncRNA.gc34.processed.fasta'\n",
        "#PC_FILENAME='pcRNA.gc34.processed.fasta'\n",
        "NC_FILENAME='noncod_24000.fasta'  # CHANGE THIS TO 1000, 2000, 4000, etc.\n",
        "PC_FILENAME='coding_24000.fasta'\n",
        "NC_VAL_FILE='noncod_validation.fasta'  # 'noncod_validation.fasta'  # CHANGE THIS TO THE UNIFORM VALIDATION FILE\n",
        "PC_VAL_FILE='coding_validation.fasta'  # 'coding_validation.fasta'\n",
        "\n",
        "MODEL_FILE='Test__24K'   # CHANGE THIS IF YOU WANT TO SAVE THE MODEL!\n",
        "DATAPATH=''\n",
        "\n",
        "try:\n",
        "    from google.colab import drive\n",
        "    IN_COLAB = True\n",
        "    PATH='/content/drive/'\n",
        "    drive.mount(PATH)\n",
        "    DATAPATH=PATH+'My Drive/data/'  # must end in \"/\"\n",
        "except:\n",
        "    IN_COLAB = False\n",
        "    DATAPATH='data/'  # must end in \"/\"\n",
        "NC_FILENAME = DATAPATH+NC_FILENAME\n",
        "PC_FILENAME = DATAPATH+PC_FILENAME\n",
        "NC_VAL_FILE = DATAPATH+NC_VAL_FILE\n",
        "PC_VAL_FILE = DATAPATH+PC_VAL_FILE\n",
        "MODEL_FILE=DATAPATH+MODEL_FILE\n",
        "\n",
        "EPOCHS=10  # DECIDE ON SOME AMOUNT AND STICK WITH IT\n",
        "SPLITS=5\n",
        "K=1\n",
        "VOCABULARY_SIZE=4**K+1   # e.g. K=3 => 64 DNA K-mers + 'NNN'\n",
        "EMBED_DIMEN=2\n",
        "FILTERS=32\n",
        "KERNEL=3\n",
        "NEURONS=24\n",
        "DROP=0.2\n",
        "MINLEN=200\n",
        "MAXLEN=1000    # THIS HAS TO MATCH THE SIMULATION DATA\n",
        "DENSE_LEN = 1000\n",
        "ACT=\"tanh\"\n",
        "LN_RATE = 0.0005"
      ],
      "execution_count": 1,
      "outputs": [
        {
          "output_type": "stream",
          "text": [
            "Drive already mounted at /content/drive/; to attempt to forcibly remount, call drive.mount(\"/content/drive/\", force_remount=True).\n"
          ],
          "name": "stdout"
        }
      ]
    },
    {
      "cell_type": "code",
      "metadata": {
        "colab": {
          "base_uri": "https://localhost:8080/"
        },
        "id": "e9TY3HK9ZklE",
        "outputId": "649232e3-8322-4bec-d058-46cd0b4b8987"
      },
      "source": [
        "# Load our own tools\n",
        "# TO DO: don't go to GitHub if the file is already local.\n",
        "GITHUB = True\n",
        "if GITHUB:\n",
        "    #!pip install requests  # Uncomment this if necessary. Seems to be pre-installed.\n",
        "    import requests\n",
        "    r = requests.get('https://raw.githubusercontent.com/ShepherdCode/ShepherdML/master/Strings/tools_fasta.py')\n",
        "    with open('tools_fasta.py', 'w') as f:\n",
        "        f.write(r.text)\n",
        "    # TO DO: delete the file after import\n",
        "import tools_fasta as tools\n",
        "tools.yahoo()  # If this prints \"Yahoo!\" the the import was successful.\n",
        "\n",
        "TOOLS_CHANGED = False   # set to True to re-run with a new version of tools\n",
        "if TOOLS_CHANGED:\n",
        "  from importlib import reload \n",
        "  tools=reload(tools)\n",
        "  print(dir(tools))   # run this to see EVERYTHING in the tools module"
      ],
      "execution_count": 2,
      "outputs": [
        {
          "output_type": "stream",
          "text": [
            "Yahoo!\n"
          ],
          "name": "stdout"
        }
      ]
    },
    {
      "cell_type": "code",
      "metadata": {
        "id": "VQY7aTj29Kch"
      },
      "source": [
        "import numpy as np\n",
        "import pandas as pd\n",
        "import matplotlib.pyplot as plt\n",
        "from sklearn.model_selection import ShuffleSplit\n",
        "from sklearn.model_selection import cross_val_score\n",
        "from sklearn.model_selection import RepeatedKFold\n",
        "from sklearn.model_selection import StratifiedKFold\n",
        "import tensorflow as tf\n",
        "from tensorflow import keras\n",
        "import time\n",
        "dt='float32'\n",
        "tf.keras.backend.set_floatx(dt)"
      ],
      "execution_count": 3,
      "outputs": []
    },
    {
      "cell_type": "markdown",
      "metadata": {
        "id": "j7jcg6Wl9Kc2"
      },
      "source": [
        "Build model"
      ]
    },
    {
      "cell_type": "code",
      "metadata": {
        "id": "qLFNO1Xa9Kc3"
      },
      "source": [
        "def compile_model(model):\n",
        "    print(\"COMPILE...\")\n",
        "    ## learn rate = initial_learning_rate * decay_rate ^ (step / decay_steps)\n",
        "    #adam_default_learn_rate = 0.001\n",
        "    #schedule = tf.keras.optimizers.schedules.ExponentialDecay(\n",
        "    #    initial_learning_rate = adam_default_learn_rate*10,\n",
        "    #    decay_steps=10000, decay_rate=0.99, staircase=True)\n",
        "    #alrd = tf.keras.optimizers.Adam(learning_rate=schedule)\n",
        "    \n",
        "    ln_rate = tf.keras.optimizers.Adam(learning_rate = LN_RATE)\n",
        "    bc=tf.keras.losses.BinaryCrossentropy(from_logits=False)\n",
        "    model.compile(loss=bc, optimizer=ln_rate, metrics=[\"accuracy\"])\n",
        "    print(\"...COMPILED\")\n",
        "    return model\n",
        "\n",
        "def build_model():\n",
        "    #SHAPE=(MAXLEN,5)  \n",
        "    SHAPE=(MAXLEN,4)  \n",
        "    # 4 input letters, 4 output dimensions, 1000 letters/RNA\n",
        "    elayer  = keras.layers.Embedding(4,4,input_length=1000) \n",
        "\n",
        "    clayer1 = keras.layers.Conv1D(FILTERS,KERNEL,activation=ACT,padding=\"same\",\n",
        "                                 input_shape=SHAPE)\n",
        "    clayer2 = keras.layers.Conv1D(FILTERS,KERNEL,activation=ACT,padding=\"same\")\n",
        "    clayer3 = keras.layers.MaxPooling1D(2)\n",
        "    clayer4 = keras.layers.Conv1D(FILTERS,KERNEL,activation=ACT,padding=\"same\")\n",
        "    clayer5 = keras.layers.Conv1D(FILTERS,KERNEL,activation=ACT,padding=\"same\")\n",
        "    clayer6 = keras.layers.MaxPooling1D(2)\n",
        "    clayer7 = keras.layers.Conv1D(FILTERS,KERNEL,activation=ACT,padding=\"same\")\n",
        "    clayer8 = keras.layers.Conv1D(FILTERS,KERNEL,activation=ACT,padding=\"same\")\n",
        "    clayer9 = keras.layers.MaxPooling1D(2)\n",
        "    clayer10 = keras.layers.Conv1D(FILTERS,KERNEL,activation=ACT,padding=\"same\")\n",
        "    clayer11 = keras.layers.Conv1D(FILTERS,KERNEL,activation=ACT,padding=\"same\")\n",
        "    clayer12 = keras.layers.MaxPooling1D(2)\n",
        "\n",
        "    clayer13 = keras.layers.Flatten()\n",
        "\n",
        "    dlayer1 = keras.layers.Dense(NEURONS, activation=ACT,dtype=dt, input_shape=[DENSE_LEN])\n",
        "    dlayer2 = keras.layers.Dropout(DROP)\n",
        "    dlayer3 = keras.layers.Dense(NEURONS, activation=ACT,dtype=dt)\n",
        "    dlayer4 = keras.layers.Dropout(DROP)\n",
        "    output_layer = keras.layers.Dense(1, activation=\"sigmoid\", dtype=dt)\n",
        "\n",
        "    cnn = keras.models.Sequential()\n",
        "    cnn.add(elayer)\n",
        "    cnn.add(clayer1)\n",
        "    cnn.add(clayer2)\n",
        "    cnn.add(clayer3)\n",
        "    cnn.add(clayer4)\n",
        "    cnn.add(clayer5)\n",
        "    cnn.add(clayer6)\n",
        "    cnn.add(clayer7)\n",
        "    cnn.add(clayer8)\n",
        "    cnn.add(clayer9)\n",
        "    cnn.add(clayer10)\n",
        "    cnn.add(clayer11)\n",
        "    cnn.add(clayer12)\n",
        "    cnn.add(clayer13)\n",
        "    cnn.add(dlayer1)\n",
        "    cnn.add(dlayer2)\n",
        "    cnn.add(dlayer3)\n",
        "    cnn.add(dlayer4)\n",
        "    cnn.add(output_layer)\n",
        "    mlpc = compile_model(cnn)\n",
        "    return mlpc"
      ],
      "execution_count": 4,
      "outputs": []
    },
    {
      "cell_type": "markdown",
      "metadata": {
        "id": "LdIS2utq9Kc9"
      },
      "source": [
        "Cross validation"
      ]
    },
    {
      "cell_type": "code",
      "metadata": {
        "id": "BVo4tbB_9Kc-"
      },
      "source": [
        "def do_cross_validation(X,y,given_model,X_VALID,Y_VALID):\n",
        "    cv_scores = []\n",
        "    fold=0\n",
        "    splitter = ShuffleSplit(n_splits=SPLITS, test_size=0.1, random_state=37863)\n",
        "    for train_index,valid_index in splitter.split(X):\n",
        "        fold += 1\n",
        "        X_train=X[train_index] # use iloc[] for dataframe\n",
        "        y_train=y[train_index]\n",
        "        X_valid=X[valid_index]\n",
        "        y_valid=y[valid_index]        \n",
        "        # Avoid continually improving the same model.\n",
        "        model = compile_model(keras.models.clone_model(given_model))\n",
        "        bestname=MODEL_FILE+\".cv.\"+str(fold)+\".best\"\n",
        "        mycallbacks = [keras.callbacks.ModelCheckpoint(\n",
        "            filepath=bestname, save_best_only=True, \n",
        "            monitor='val_accuracy', mode='max')]   \n",
        "        print(\"FIT\")\n",
        "        start_time=time.time()\n",
        "        history=model.fit(X_train, y_train, \n",
        "                epochs=EPOCHS, verbose=1, callbacks=mycallbacks,\n",
        "                validation_data=(X_valid,y_valid))\n",
        "        # THE VALIDATION ABOVE IS JUST FOR SHOW\n",
        "        end_time=time.time()\n",
        "        elapsed_time=(end_time-start_time)                        \n",
        "        print(\"Fold %d, %d epochs, %d sec\"%(fold,EPOCHS,elapsed_time))\n",
        "        pd.DataFrame(history.history).plot(figsize=(8,5))\n",
        "        plt.grid(True)\n",
        "        plt.gca().set_ylim(0,1)\n",
        "        plt.show()\n",
        "        best_model=keras.models.load_model(bestname)\n",
        "        # THE VALIDATION BELOW IS FOR KEEPS\n",
        "        scores = best_model.evaluate(X_VALID, Y_VALID, verbose=0)\n",
        "        print(\"%s: %.2f%%\" % (best_model.metrics_names[1], scores[1]*100))\n",
        "        cv_scores.append(scores[1] * 100)  \n",
        "    print()\n",
        "    print(\"%d-way Cross Validation mean %.2f%% (+/- %.2f%%)\" % (fold, np.mean(cv_scores), np.std(cv_scores)))"
      ],
      "execution_count": 5,
      "outputs": []
    },
    {
      "cell_type": "markdown",
      "metadata": {
        "id": "qd3Wj_vI9KdP"
      },
      "source": [
        "## Train on RNA lengths 200-1Kb"
      ]
    },
    {
      "cell_type": "code",
      "metadata": {
        "colab": {
          "base_uri": "https://localhost:8080/"
        },
        "id": "G1HuSs8ZbeL4",
        "outputId": "d9bf169b-a0ff-40e3-8f59-ed28c78517ac"
      },
      "source": [
        "print (\"Compile the model\")\n",
        "model=build_model()\n",
        "print (\"Summarize the model\")\n",
        "print(model.summary())  # Print this only once\n",
        "#model.save(MODEL_FILE+'.model')\n"
      ],
      "execution_count": 6,
      "outputs": [
        {
          "output_type": "stream",
          "text": [
            "Compile the model\n",
            "COMPILE...\n",
            "...COMPILED\n",
            "Summarize the model\n",
            "Model: \"sequential\"\n",
            "_________________________________________________________________\n",
            "Layer (type)                 Output Shape              Param #   \n",
            "=================================================================\n",
            "embedding (Embedding)        (None, 1000, 4)           16        \n",
            "_________________________________________________________________\n",
            "conv1d (Conv1D)              (None, 1000, 32)          416       \n",
            "_________________________________________________________________\n",
            "conv1d_1 (Conv1D)            (None, 1000, 32)          3104      \n",
            "_________________________________________________________________\n",
            "max_pooling1d (MaxPooling1D) (None, 500, 32)           0         \n",
            "_________________________________________________________________\n",
            "conv1d_2 (Conv1D)            (None, 500, 32)           3104      \n",
            "_________________________________________________________________\n",
            "conv1d_3 (Conv1D)            (None, 500, 32)           3104      \n",
            "_________________________________________________________________\n",
            "max_pooling1d_1 (MaxPooling1 (None, 250, 32)           0         \n",
            "_________________________________________________________________\n",
            "conv1d_4 (Conv1D)            (None, 250, 32)           3104      \n",
            "_________________________________________________________________\n",
            "conv1d_5 (Conv1D)            (None, 250, 32)           3104      \n",
            "_________________________________________________________________\n",
            "max_pooling1d_2 (MaxPooling1 (None, 125, 32)           0         \n",
            "_________________________________________________________________\n",
            "conv1d_6 (Conv1D)            (None, 125, 32)           3104      \n",
            "_________________________________________________________________\n",
            "conv1d_7 (Conv1D)            (None, 125, 32)           3104      \n",
            "_________________________________________________________________\n",
            "max_pooling1d_3 (MaxPooling1 (None, 62, 32)            0         \n",
            "_________________________________________________________________\n",
            "flatten (Flatten)            (None, 1984)              0         \n",
            "_________________________________________________________________\n",
            "dense (Dense)                (None, 24)                47640     \n",
            "_________________________________________________________________\n",
            "dropout (Dropout)            (None, 24)                0         \n",
            "_________________________________________________________________\n",
            "dense_1 (Dense)              (None, 24)                600       \n",
            "_________________________________________________________________\n",
            "dropout_1 (Dropout)          (None, 24)                0         \n",
            "_________________________________________________________________\n",
            "dense_2 (Dense)              (None, 1)                 25        \n",
            "=================================================================\n",
            "Total params: 70,425\n",
            "Trainable params: 70,425\n",
            "Non-trainable params: 0\n",
            "_________________________________________________________________\n",
            "None\n"
          ],
          "name": "stdout"
        }
      ]
    },
    {
      "cell_type": "code",
      "metadata": {
        "id": "f8fNo6sn9KdH"
      },
      "source": [
        "def load_data_from_files(nc_filename,pc_filename):\n",
        "  FREEMEM=True   # use False for debugging, True for production\n",
        "  print(\"Load data from files.\")\n",
        "  nc_seq=tools.load_fasta(nc_filename,0)\n",
        "  pc_seq=tools.load_fasta(pc_filename,1)\n",
        "  train_set=pd.concat((nc_seq,pc_seq),axis=0)\n",
        "  print(\"Ready: train_set\")\n",
        "  subset=tools.make_slice(train_set,MINLEN,MAXLEN)# One array to two: X and y\n",
        "  if FREEMEM:\n",
        "      nc_seq=None\n",
        "      pc_seq=None\n",
        "      train_set=None\n",
        "  (X1,y_train)=tools.separate_X_and_y(subset)\n",
        "  # X1 is pandas df of (\"list\" of one sequence)\n",
        "  X2=X1.to_numpy()  # numpy ndarray of (\"list\" of one sequence)\n",
        "  X3=[elem[0] for elem in X2]  # numpy ndarray of ACGT-str\n",
        "  # X3? It might be faster to use int-array than char-array. Come back to this.\n",
        "  X4=X3  # no-op\n",
        "  print(\"X4\",type(X4))\n",
        "  #print(X4[0])\n",
        "  if FREEMEM:\n",
        "      X1=None\n",
        "      X2=None\n",
        "      X3=None\n",
        "  X5=[]\n",
        "  dna_to_int = {'A':0,'C':1,'G':2,'T':3}\n",
        "  for x in X4:\n",
        "      a=[]\n",
        "      for c in x:\n",
        "          i = dna_to_int[c]\n",
        "          a.append(i)\n",
        "      X5.append(a)\n",
        "  X5=np.asarray(X5)\n",
        "  print(\"X5\",type(X5))\n",
        "  print(X5.shape)\n",
        "  if FREEMEM:\n",
        "      X4=None\n",
        "  X_train=X5\n",
        "  if FREEMEM:\n",
        "      X5=None\n",
        "  print(\"X_train\",type(X_train))\n",
        "  y_train=y_train.to_numpy()\n",
        "  print(X_train.shape)\n",
        "  print(X_train[0].shape)\n",
        "  print(X_train[0])\n",
        "  return X_train,y_train\n"
      ],
      "execution_count": 7,
      "outputs": []
    },
    {
      "cell_type": "code",
      "metadata": {
        "colab": {
          "base_uri": "https://localhost:8080/"
        },
        "id": "UmEls9oXRQON",
        "outputId": "bff850f3-8e2a-4cc2-a11d-673efc327778"
      },
      "source": [
        "print(\"Loading training data...\")\n",
        "X_train,y_train = load_data_from_files(NC_FILENAME,PC_FILENAME)"
      ],
      "execution_count": 8,
      "outputs": [
        {
          "output_type": "stream",
          "text": [
            "Loading training data...\n",
            "Load data from files.\n",
            "Ready: train_set\n",
            "X4 <class 'list'>\n",
            "X5 <class 'numpy.ndarray'>\n",
            "(48000, 1000)\n",
            "X_train <class 'numpy.ndarray'>\n",
            "(48000, 1000)\n",
            "(1000,)\n",
            "[3 3 0 0 1 3 2 2 1 2 0 1 3 2 1 0 1 1 0 2 2 3 3 3 0 2 0 1 3 2 0 2 2 2 0 2 2\n",
            " 1 0 3 0 0 1 3 1 0 1 2 2 0 2 0 2 0 2 1 3 0 2 0 3 1 2 2 1 3 1 2 0 2 3 0 1 3\n",
            " 1 1 0 3 3 1 2 3 1 0 2 3 0 0 1 1 0 0 0 3 1 3 2 3 1 3 0 3 3 3 1 1 3 0 1 2 2\n",
            " 2 0 0 0 1 2 1 2 0 3 3 2 0 1 2 0 3 1 2 0 3 0 0 1 1 3 1 2 2 2 3 3 1 2 0 3 2\n",
            " 2 2 2 0 1 0 2 2 2 0 2 1 1 3 3 1 3 0 2 1 1 0 2 1 3 3 2 1 1 0 2 0 2 2 3 2 0\n",
            " 2 0 2 3 1 1 1 3 0 0 1 3 1 3 2 0 1 2 0 0 0 1 0 2 3 3 1 3 3 3 3 3 3 2 0 1 1\n",
            " 3 1 2 3 1 1 0 3 2 2 2 0 1 0 1 0 3 1 2 2 0 3 1 0 3 2 3 0 1 3 2 0 2 2 1 2 3\n",
            " 2 1 2 3 1 3 3 2 3 3 2 3 0 0 2 1 3 2 0 3 0 1 2 3 3 3 3 2 3 0 1 2 2 1 2 3 0\n",
            " 3 1 0 2 2 0 0 3 0 2 1 3 3 2 0 1 1 3 0 3 1 1 0 0 0 2 3 1 2 1 3 2 1 1 2 0 0\n",
            " 0 2 0 3 3 2 1 0 0 1 3 0 2 3 1 3 2 0 1 0 1 2 3 0 3 1 1 0 1 1 0 0 1 3 2 2 3\n",
            " 0 0 2 1 1 0 3 1 1 3 2 0 0 2 1 3 2 3 1 0 3 1 0 3 1 2 0 3 2 1 3 0 1 3 3 1 1\n",
            " 2 0 1 2 1 2 0 0 3 2 1 1 0 1 2 0 2 0 0 3 1 0 0 2 3 0 2 1 3 1 0 2 0 3 3 3 1\n",
            " 2 2 1 2 2 3 2 3 0 3 1 3 3 0 0 2 2 1 1 3 1 1 3 2 2 1 2 0 1 0 1 0 2 0 0 3 3\n",
            " 3 0 2 2 1 0 0 3 2 3 3 1 2 1 0 0 0 0 0 2 1 2 3 1 2 2 0 1 0 2 3 3 1 3 1 3 0\n",
            " 2 0 2 3 1 2 0 0 3 1 3 1 2 3 1 2 1 3 1 0 0 2 3 1 1 1 3 3 3 2 1 1 0 2 1 1 1\n",
            " 3 3 3 2 0 3 0 1 1 2 0 1 2 3 1 3 1 2 0 2 3 0 3 1 2 3 0 3 0 2 1 3 3 0 3 1 3\n",
            " 1 3 2 2 0 1 1 2 0 0 0 2 3 3 1 1 0 2 0 1 2 0 2 1 0 2 3 0 1 2 0 3 2 2 3 1 0\n",
            " 1 3 2 0 2 0 1 1 1 3 2 3 0 1 1 3 2 3 3 2 2 1 3 0 2 3 3 0 0 0 0 0 2 2 2 3 1\n",
            " 2 2 0 0 2 3 2 1 2 0 2 0 0 1 0 2 0 2 2 3 3 2 3 2 3 2 2 0 3 2 1 2 2 0 0 3 1\n",
            " 1 3 0 2 1 2 2 0 3 3 1 2 2 1 3 1 2 2 1 2 3 1 3 2 2 3 1 1 3 1 3 3 2 1 2 2 2\n",
            " 3 3 0 2 1 0 3 3 1 2 2 1 0 2 2 1 1 2 2 1 0 3 3 2 0 3 2 1 1 2 0 0 1 3 2 1 3\n",
            " 1 2 1 0 1 1 0 2 0 3 3 1 3 0 2 0 0 3 3 0 0 0 1 3 3 3 0 2 0 1 2 3 0 1 2 3 0\n",
            " 1 3 2 1 1 0 3 2 0 0 3 1 3 2 1 2 0 2 2 2 2 1 1 3 3 1 2 1 0 2 0 2 3 3 1 1 0\n",
            " 0 3 1 0 1 0 1 0 0 3 1 0 0 2 1 2 3 2 1 1 2 2 1 2 1 3 3 2 1 0 3 0 2 2 1 1 0\n",
            " 0 2 1 3 0 0 3 3 0 0 0 3 2 2 3 1 1 0 3 3 0 1 2 3 0 2 2 0 3 3 3 0 1 0 3 2 3\n",
            " 0 2 2 2 3 0 3 1 2 0 3 1 0 2 1 2 0 1 0 3 1 3 0 1 0 0 1 1 0 1 0 3 3 0 2 1 0\n",
            " 0 2 1 2 3 1 3 3 0 1 0 1 3 3 2 2 3 0 3 0 2 0 3 0 3 2 2 3 3 1 2 2 1 2 0 0 1\n",
            " 2]\n"
          ],
          "name": "stdout"
        }
      ]
    },
    {
      "cell_type": "code",
      "metadata": {
        "colab": {
          "base_uri": "https://localhost:8080/"
        },
        "id": "sfvgDZR1a_2j",
        "outputId": "4a6f5f95-a100-4f71-b8ab-e0fe7ae48e5b"
      },
      "source": [
        "print(\"Loading validation data...\")\n",
        "X_VALID,Y_VALID = load_data_from_files(NC_VAL_FILE,PC_VAL_FILE)"
      ],
      "execution_count": 9,
      "outputs": [
        {
          "output_type": "stream",
          "text": [
            "Loading validation data...\n",
            "Load data from files.\n",
            "Ready: train_set\n",
            "X4 <class 'list'>\n",
            "X5 <class 'numpy.ndarray'>\n",
            "(100000, 1000)\n",
            "X_train <class 'numpy.ndarray'>\n",
            "(100000, 1000)\n",
            "(1000,)\n",
            "[0 2 0 0 3 3 1 2 2 3 1 2 2 0 2 0 2 2 2 1 2 0 3 2 0 3 0 0 3 3 2 3 0 3 3 1 0\n",
            " 1 1 0 2 1 1 1 1 2 3 3 0 2 1 1 3 2 3 2 1 2 3 3 0 0 1 2 2 2 3 2 0 1 2 2 2 2\n",
            " 2 1 3 3 0 1 2 0 1 2 0 3 2 3 2 3 1 3 3 1 3 0 2 1 1 1 2 3 2 2 2 1 0 3 3 2 3\n",
            " 3 3 1 1 3 3 2 1 1 2 1 3 2 2 1 3 1 3 1 0 0 3 2 2 2 1 2 0 0 1 0 2 0 1 3 2 1\n",
            " 3 2 2 0 3 1 2 0 3 3 3 2 3 2 1 0 0 3 0 2 0 2 1 2 1 1 0 2 3 0 1 2 0 1 2 2 0\n",
            " 2 1 2 3 1 1 1 2 3 3 3 2 1 1 0 2 3 1 1 2 1 0 0 3 2 1 0 2 2 3 2 0 0 3 1 3 0\n",
            " 2 3 0 2 3 1 2 3 1 1 2 3 3 3 3 3 0 0 1 0 0 0 2 0 2 2 0 3 3 0 0 0 0 2 2 2 1\n",
            " 0 0 1 1 1 0 2 0 3 1 2 0 0 3 3 1 1 2 1 3 2 3 2 1 2 2 0 0 1 0 1 0 3 3 3 0 0\n",
            " 0 2 3 0 3 2 3 0 1 1 3 0 1 1 1 3 2 1 3 3 1 0 0 0 1 2 3 0 2 3 1 1 1 3 0 3 1\n",
            " 2 0 1 2 1 2 2 3 1 1 1 2 0 2 0 0 3 3 0 2 1 0 0 1 0 1 3 3 2 3 3 1 0 3 2 3 0\n",
            " 2 3 3 2 0 1 0 0 3 1 1 2 2 1 3 2 0 1 0 0 3 2 3 1 0 3 0 3 3 1 1 3 0 0 0 1 2\n",
            " 1 1 1 3 1 2 2 1 1 1 2 1 0 1 1 2 3 2 1 2 1 3 3 2 3 2 2 2 3 3 0 3 1 0 3 3 0\n",
            " 3 2 2 0 1 2 1 1 1 0 3 3 0 1 1 2 3 2 1 2 2 2 0 0 0 2 1 2 1 3 0 3 1 0 0 1 3\n",
            " 2 3 3 2 1 0 3 3 0 1 1 0 0 3 3 1 0 2 2 1 2 0 0 0 2 0 1 2 2 3 1 0 0 2 0 0 1\n",
            " 3 3 2 0 1 0 3 1 3 2 2 0 1 1 0 2 0 0 0 3 2 3 2 0 0 3 3 2 1 3 0 0 2 1 2 1 2\n",
            " 1 0 2 2 2 3 2 3 3 2 1 2 0 0 2 3 1 0 1 2 1 3 2 3 1 0 2 0 2 1 0 2 1 1 1 1 3\n",
            " 1 2 3 3 0 3 0 2 2 1 2 3 2 0 2 0 2 3 2 3 3 0 0 1 0 3 1 1 0 0 2 0 1 3 3 2 1\n",
            " 3 3 3 0 2 2 3 1 2 1 3 2 3 0 2 3 1 0 2 0 2 2 0 1 3 3 0 0 0 3 0 1 1 0 0 3 0\n",
            " 0 1 2 0 2 3 1 1 2 3 2 2 1 2 1 0 1 0 3 0 3 1 1 1 3 3 3 2 2 3 3 3 1 3 3 1 3\n",
            " 0 2 3 0 2 2 3 0 3 3 1 3 1 1 2 3 0 3 2 0 1 1 3 1 1 1 1 3 0 1 3 2 1 0 2 3 2\n",
            " 3 2 3 2 2 1 2 2 1 1 2 3 1 2 0 1 3 0 1 3 1 0 1 3 3 3 3 1 1 1 1 2 2 2 0 0 2\n",
            " 1 0 0 3 1 0 2 2 2 2 1 2 3 2 2 0 3 1 1 1 1 3 0 0 2 1 3 0 2 2 0 3 3 0 2 2 2\n",
            " 3 2 1 3 3 1 3 3 3 2 0 1 3 2 0 2 2 1 0 2 3 1 0 1 3 0 1 1 1 0 1 3 2 3 2 2 3\n",
            " 2 3 1 0 1 0 3 0 1 1 2 0 3 1 0 2 1 1 2 0 0 1 3 2 1 3 1 3 0 2 3 1 0 1 0 2 2\n",
            " 0 1 3 2 3 1 2 0 2 2 3 3 3 2 0 3 1 1 1 1 0 2 3 2 1 0 3 3 1 3 2 1 0 0 1 2 2\n",
            " 3 2 1 0 0 2 2 3 0 2 0 1 2 3 3 1 0 3 2 3 0 2 1 2 3 0 1 0 2 3 1 0 1 0 1 0 1\n",
            " 0 0 3 1 3 0 1 2 0 0 3 0 2 2 1 1 1 3 2 0 2 2 1 2 0 0 1 1 2 2 1 1 1 1 1 2 0\n",
            " 3]\n"
          ],
          "name": "stdout"
        }
      ]
    },
    {
      "cell_type": "code",
      "metadata": {
        "colab": {
          "base_uri": "https://localhost:8080/",
          "height": 1000
        },
        "id": "mQ8eW5Rg9KdQ",
        "outputId": "1aee1d9b-6765-4044-ae0e-b42d41e715b9"
      },
      "source": [
        "print (\"Cross validation\")\n",
        "do_cross_validation(X_train,y_train,model,X_VALID,Y_VALID)  \n",
        "print (\"Done\")"
      ],
      "execution_count": 10,
      "outputs": [
        {
          "output_type": "stream",
          "text": [
            "Cross validation\n",
            "COMPILE...\n",
            "...COMPILED\n",
            "FIT\n",
            "Epoch 1/10\n",
            "1350/1350 [==============================] - 9s 5ms/step - loss: 0.6595 - accuracy: 0.5722 - val_loss: 0.5309 - val_accuracy: 0.7317\n",
            "INFO:tensorflow:Assets written to: /content/drive/My Drive/data/Test__24K.cv.1.best/assets\n",
            "Epoch 2/10\n",
            "1350/1350 [==============================] - 7s 5ms/step - loss: 0.5423 - accuracy: 0.7308 - val_loss: 0.4988 - val_accuracy: 0.7548\n",
            "INFO:tensorflow:Assets written to: /content/drive/My Drive/data/Test__24K.cv.1.best/assets\n",
            "Epoch 3/10\n",
            "1350/1350 [==============================] - 7s 5ms/step - loss: 0.5102 - accuracy: 0.7537 - val_loss: 0.4716 - val_accuracy: 0.7746\n",
            "INFO:tensorflow:Assets written to: /content/drive/My Drive/data/Test__24K.cv.1.best/assets\n",
            "Epoch 4/10\n",
            "1350/1350 [==============================] - 7s 5ms/step - loss: 0.4829 - accuracy: 0.7721 - val_loss: 0.4641 - val_accuracy: 0.7748\n",
            "INFO:tensorflow:Assets written to: /content/drive/My Drive/data/Test__24K.cv.1.best/assets\n",
            "Epoch 5/10\n",
            "1350/1350 [==============================] - 7s 5ms/step - loss: 0.4625 - accuracy: 0.7831 - val_loss: 0.5453 - val_accuracy: 0.7317\n",
            "Epoch 6/10\n",
            "1350/1350 [==============================] - 7s 5ms/step - loss: 0.4549 - accuracy: 0.7903 - val_loss: 0.4522 - val_accuracy: 0.7873\n",
            "INFO:tensorflow:Assets written to: /content/drive/My Drive/data/Test__24K.cv.1.best/assets\n",
            "Epoch 7/10\n",
            "1350/1350 [==============================] - 7s 5ms/step - loss: 0.4275 - accuracy: 0.8055 - val_loss: 0.4558 - val_accuracy: 0.7825\n",
            "Epoch 8/10\n",
            "1350/1350 [==============================] - 7s 5ms/step - loss: 0.4114 - accuracy: 0.8148 - val_loss: 0.4665 - val_accuracy: 0.7765\n",
            "Epoch 9/10\n",
            "1350/1350 [==============================] - 7s 5ms/step - loss: 0.4014 - accuracy: 0.8231 - val_loss: 0.5697 - val_accuracy: 0.7367\n",
            "Epoch 10/10\n",
            "1350/1350 [==============================] - 7s 5ms/step - loss: 0.3848 - accuracy: 0.8311 - val_loss: 0.4612 - val_accuracy: 0.7858\n",
            "Fold 1, 10 epochs, 80 sec\n"
          ],
          "name": "stdout"
        },
        {
          "output_type": "display_data",
          "data": {
            "image/png": "[encoded data removed]",
            "text/plain": [
              "<Figure size 576x360 with 1 Axes>"
            ]
          },
          "metadata": {
            "tags": [],
            "needs_background": "light"
          }
        },
        {
          "output_type": "stream",
          "text": [
            "accuracy: 77.85%\n",
            "COMPILE...\n",
            "...COMPILED\n",
            "FIT\n",
            "Epoch 1/10\n",
            "1350/1350 [==============================] - 8s 5ms/step - loss: 0.6750 - accuracy: 0.5604 - val_loss: 0.5889 - val_accuracy: 0.6837\n",
            "INFO:tensorflow:Assets written to: /content/drive/My Drive/data/Test__24K.cv.2.best/assets\n",
            "Epoch 2/10\n",
            "1350/1350 [==============================] - 7s 5ms/step - loss: 0.5519 - accuracy: 0.7189 - val_loss: 0.5054 - val_accuracy: 0.7550\n",
            "INFO:tensorflow:Assets written to: /content/drive/My Drive/data/Test__24K.cv.2.best/assets\n",
            "Epoch 3/10\n",
            "1350/1350 [==============================] - 7s 5ms/step - loss: 0.4983 - accuracy: 0.7628 - val_loss: 0.5138 - val_accuracy: 0.7508\n",
            "Epoch 4/10\n",
            "1350/1350 [==============================] - 7s 5ms/step - loss: 0.4768 - accuracy: 0.7769 - val_loss: 0.5099 - val_accuracy: 0.7479\n",
            "Epoch 5/10\n",
            "1350/1350 [==============================] - 7s 5ms/step - loss: 0.4637 - accuracy: 0.7836 - val_loss: 0.4847 - val_accuracy: 0.7690\n",
            "INFO:tensorflow:Assets written to: /content/drive/My Drive/data/Test__24K.cv.2.best/assets\n",
            "Epoch 6/10\n",
            "1350/1350 [==============================] - 7s 5ms/step - loss: 0.4450 - accuracy: 0.7945 - val_loss: 0.4746 - val_accuracy: 0.7765\n",
            "INFO:tensorflow:Assets written to: /content/drive/My Drive/data/Test__24K.cv.2.best/assets\n",
            "Epoch 7/10\n",
            "1350/1350 [==============================] - 7s 6ms/step - loss: 0.4324 - accuracy: 0.8042 - val_loss: 0.4691 - val_accuracy: 0.7833\n",
            "INFO:tensorflow:Assets written to: /content/drive/My Drive/data/Test__24K.cv.2.best/assets\n",
            "Epoch 8/10\n",
            "1350/1350 [==============================] - 7s 5ms/step - loss: 0.4173 - accuracy: 0.8142 - val_loss: 0.4932 - val_accuracy: 0.7694\n",
            "Epoch 9/10\n",
            "1350/1350 [==============================] - 7s 5ms/step - loss: 0.4076 - accuracy: 0.8159 - val_loss: 0.4902 - val_accuracy: 0.7683\n",
            "Epoch 10/10\n",
            "1350/1350 [==============================] - 7s 5ms/step - loss: 0.3932 - accuracy: 0.8278 - val_loss: 0.5684 - val_accuracy: 0.7375\n",
            "Fold 2, 10 epochs, 80 sec\n"
          ],
          "name": "stdout"
        },
        {
          "output_type": "display_data",
          "data": {
            "image/png": "[encoded data removed]",
            "text/plain": [
              "<Figure size 576x360 with 1 Axes>"
            ]
          },
          "metadata": {
            "tags": [],
            "needs_background": "light"
          }
        },
        {
          "output_type": "stream",
          "text": [
            "accuracy: 77.55%\n",
            "COMPILE...\n",
            "...COMPILED\n",
            "FIT\n",
            "Epoch 1/10\n",
            "1350/1350 [==============================] - 8s 5ms/step - loss: 0.6856 - accuracy: 0.5325 - val_loss: 0.6031 - val_accuracy: 0.6802\n",
            "INFO:tensorflow:Assets written to: /content/drive/My Drive/data/Test__24K.cv.3.best/assets\n",
            "Epoch 2/10\n",
            "1350/1350 [==============================] - 7s 5ms/step - loss: 0.5637 - accuracy: 0.7095 - val_loss: 0.4957 - val_accuracy: 0.7617\n",
            "INFO:tensorflow:Assets written to: /content/drive/My Drive/data/Test__24K.cv.3.best/assets\n",
            "Epoch 3/10\n",
            "1350/1350 [==============================] - 7s 5ms/step - loss: 0.5059 - accuracy: 0.7534 - val_loss: 0.4838 - val_accuracy: 0.7706\n",
            "INFO:tensorflow:Assets written to: /content/drive/My Drive/data/Test__24K.cv.3.best/assets\n",
            "Epoch 4/10\n",
            "1350/1350 [==============================] - 7s 5ms/step - loss: 0.4720 - accuracy: 0.7772 - val_loss: 0.4853 - val_accuracy: 0.7681\n",
            "Epoch 5/10\n",
            "1350/1350 [==============================] - 7s 5ms/step - loss: 0.4499 - accuracy: 0.7914 - val_loss: 0.4587 - val_accuracy: 0.7862\n",
            "INFO:tensorflow:Assets written to: /content/drive/My Drive/data/Test__24K.cv.3.best/assets\n",
            "Epoch 6/10\n",
            "1350/1350 [==============================] - 7s 5ms/step - loss: 0.4356 - accuracy: 0.8000 - val_loss: 0.4892 - val_accuracy: 0.7700\n",
            "Epoch 7/10\n",
            "1350/1350 [==============================] - 7s 5ms/step - loss: 0.4213 - accuracy: 0.8100 - val_loss: 0.4651 - val_accuracy: 0.7835\n",
            "Epoch 8/10\n",
            "1350/1350 [==============================] - 7s 5ms/step - loss: 0.4055 - accuracy: 0.8172 - val_loss: 0.4707 - val_accuracy: 0.7777\n",
            "Epoch 9/10\n",
            "1350/1350 [==============================] - 7s 5ms/step - loss: 0.3876 - accuracy: 0.8284 - val_loss: 0.4637 - val_accuracy: 0.7840\n",
            "Epoch 10/10\n",
            "1350/1350 [==============================] - 7s 5ms/step - loss: 0.3711 - accuracy: 0.8392 - val_loss: 0.4579 - val_accuracy: 0.7908\n",
            "INFO:tensorflow:Assets written to: /content/drive/My Drive/data/Test__24K.cv.3.best/assets\n",
            "Fold 3, 10 epochs, 78 sec\n"
          ],
          "name": "stdout"
        },
        {
          "output_type": "display_data",
          "data": {
            "image/png": "[encoded data removed]",
            "text/plain": [
              "<Figure size 576x360 with 1 Axes>"
            ]
          },
          "metadata": {
            "tags": [],
            "needs_background": "light"
          }
        },
        {
          "output_type": "stream",
          "text": [
            "accuracy: 78.18%\n",
            "COMPILE...\n",
            "...COMPILED\n",
            "FIT\n",
            "Epoch 1/10\n",
            "1350/1350 [==============================] - 8s 5ms/step - loss: 0.6534 - accuracy: 0.5779 - val_loss: 0.5305 - val_accuracy: 0.7312\n",
            "INFO:tensorflow:Assets written to: /content/drive/My Drive/data/Test__24K.cv.4.best/assets\n",
            "Epoch 2/10\n",
            "1350/1350 [==============================] - 7s 5ms/step - loss: 0.5381 - accuracy: 0.7323 - val_loss: 0.5112 - val_accuracy: 0.7465\n",
            "INFO:tensorflow:Assets written to: /content/drive/My Drive/data/Test__24K.cv.4.best/assets\n",
            "Epoch 3/10\n",
            "1350/1350 [==============================] - 7s 5ms/step - loss: 0.5074 - accuracy: 0.7535 - val_loss: 0.5046 - val_accuracy: 0.7565\n",
            "INFO:tensorflow:Assets written to: /content/drive/My Drive/data/Test__24K.cv.4.best/assets\n",
            "Epoch 4/10\n",
            "1350/1350 [==============================] - 7s 5ms/step - loss: 0.4751 - accuracy: 0.7757 - val_loss: 0.4808 - val_accuracy: 0.7673\n",
            "INFO:tensorflow:Assets written to: /content/drive/My Drive/data/Test__24K.cv.4.best/assets\n",
            "Epoch 5/10\n",
            "1350/1350 [==============================] - 7s 5ms/step - loss: 0.4589 - accuracy: 0.7875 - val_loss: 0.4967 - val_accuracy: 0.7640\n",
            "Epoch 6/10\n",
            "1350/1350 [==============================] - 7s 5ms/step - loss: 0.4426 - accuracy: 0.7970 - val_loss: 0.4863 - val_accuracy: 0.7658\n",
            "Epoch 7/10\n",
            "1350/1350 [==============================] - 7s 5ms/step - loss: 0.4248 - accuracy: 0.8101 - val_loss: 0.4837 - val_accuracy: 0.7740\n",
            "INFO:tensorflow:Assets written to: /content/drive/My Drive/data/Test__24K.cv.4.best/assets\n",
            "Epoch 8/10\n",
            "1350/1350 [==============================] - 7s 5ms/step - loss: 0.4166 - accuracy: 0.8118 - val_loss: 0.5448 - val_accuracy: 0.7473\n",
            "Epoch 9/10\n",
            "1350/1350 [==============================] - 7s 5ms/step - loss: 0.3988 - accuracy: 0.8252 - val_loss: 0.4896 - val_accuracy: 0.7742\n",
            "INFO:tensorflow:Assets written to: /content/drive/My Drive/data/Test__24K.cv.4.best/assets\n",
            "Epoch 10/10\n",
            "1350/1350 [==============================] - 7s 5ms/step - loss: 0.3813 - accuracy: 0.8316 - val_loss: 0.4828 - val_accuracy: 0.7819\n",
            "INFO:tensorflow:Assets written to: /content/drive/My Drive/data/Test__24K.cv.4.best/assets\n",
            "Fold 4, 10 epochs, 81 sec\n"
          ],
          "name": "stdout"
        },
        {
          "output_type": "display_data",
          "data": {
            "image/png": "[encoded data removed]",
            "text/plain": [
              "<Figure size 576x360 with 1 Axes>"
            ]
          },
          "metadata": {
            "tags": [],
            "needs_background": "light"
          }
        },
        {
          "output_type": "stream",
          "text": [
            "accuracy: 79.07%\n",
            "COMPILE...\n",
            "...COMPILED\n",
            "FIT\n",
            "Epoch 1/10\n",
            "1350/1350 [==============================] - 8s 5ms/step - loss: 0.6545 - accuracy: 0.5942 - val_loss: 0.5243 - val_accuracy: 0.7394\n",
            "INFO:tensorflow:Assets written to: /content/drive/My Drive/data/Test__24K.cv.5.best/assets\n",
            "Epoch 2/10\n",
            "1350/1350 [==============================] - 7s 5ms/step - loss: 0.5207 - accuracy: 0.7447 - val_loss: 0.5483 - val_accuracy: 0.7246\n",
            "Epoch 3/10\n",
            "1350/1350 [==============================] - 7s 5ms/step - loss: 0.4925 - accuracy: 0.7644 - val_loss: 0.5307 - val_accuracy: 0.7429\n",
            "INFO:tensorflow:Assets written to: /content/drive/My Drive/data/Test__24K.cv.5.best/assets\n",
            "Epoch 4/10\n",
            "1350/1350 [==============================] - 7s 5ms/step - loss: 0.4606 - accuracy: 0.7848 - val_loss: 0.4741 - val_accuracy: 0.7729\n",
            "INFO:tensorflow:Assets written to: /content/drive/My Drive/data/Test__24K.cv.5.best/assets\n",
            "Epoch 5/10\n",
            "1350/1350 [==============================] - 7s 5ms/step - loss: 0.4384 - accuracy: 0.7982 - val_loss: 0.4659 - val_accuracy: 0.7773\n",
            "INFO:tensorflow:Assets written to: /content/drive/My Drive/data/Test__24K.cv.5.best/assets\n",
            "Epoch 6/10\n",
            "1350/1350 [==============================] - 7s 5ms/step - loss: 0.4254 - accuracy: 0.8057 - val_loss: 0.4483 - val_accuracy: 0.7935\n",
            "INFO:tensorflow:Assets written to: /content/drive/My Drive/data/Test__24K.cv.5.best/assets\n",
            "Epoch 7/10\n",
            "1350/1350 [==============================] - 7s 5ms/step - loss: 0.3880 - accuracy: 0.8288 - val_loss: 0.4318 - val_accuracy: 0.8052\n",
            "INFO:tensorflow:Assets written to: /content/drive/My Drive/data/Test__24K.cv.5.best/assets\n",
            "Epoch 8/10\n",
            "1350/1350 [==============================] - 7s 5ms/step - loss: 0.3601 - accuracy: 0.8444 - val_loss: 0.4307 - val_accuracy: 0.8106\n",
            "INFO:tensorflow:Assets written to: /content/drive/My Drive/data/Test__24K.cv.5.best/assets\n",
            "Epoch 9/10\n",
            "1350/1350 [==============================] - 7s 5ms/step - loss: 0.3283 - accuracy: 0.8623 - val_loss: 0.3754 - val_accuracy: 0.8400\n",
            "INFO:tensorflow:Assets written to: /content/drive/My Drive/data/Test__24K.cv.5.best/assets\n",
            "Epoch 10/10\n",
            "1350/1350 [==============================] - 7s 5ms/step - loss: 0.2975 - accuracy: 0.8759 - val_loss: 0.3671 - val_accuracy: 0.8427\n",
            "INFO:tensorflow:Assets written to: /content/drive/My Drive/data/Test__24K.cv.5.best/assets\n",
            "Fold 5, 10 epochs, 84 sec\n"
          ],
          "name": "stdout"
        },
        {
          "output_type": "display_data",
          "data": {
            "image/png": "[encoded data removed]",
            "text/plain": [
              "<Figure size 576x360 with 1 Axes>"
            ]
          },
          "metadata": {
            "tags": [],
            "needs_background": "light"
          }
        },
        {
          "output_type": "stream",
          "text": [
            "accuracy: 84.67%\n",
            "\n",
            "5-way Cross Validation mean 79.47% (+/- 2.65%)\n",
            "Done\n"
          ],
          "name": "stdout"
        }
      ]
    },
    {
      "cell_type": "code",
      "metadata": {
        "id": "p4fh2GI8beMQ"
      },
      "source": [
        ""
      ],
      "execution_count": 10,
      "outputs": []
    }
  ]
}