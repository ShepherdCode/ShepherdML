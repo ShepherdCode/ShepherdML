{
 "cells": [
  {
   "cell_type": "markdown",
   "metadata": {},
   "source": [
    "# RNN\n",
    "Recurrent Neural Networks (RNN) are designed for time-series data.\n",
    "Common variants include GRU, LSTM, and peephole LSTM.\n",
    "\n",
    "See our separate notebook for convLSTM.\n"
   ]
  },
  {
   "cell_type": "markdown",
   "metadata": {},
   "source": [
    "## Documentation\n",
    "\n",
    "TensorFlow\n",
    "[RNN](https://www.tensorflow.org/api_docs/python/tf/keras/layers/RNN),\n",
    "[peephole LSTM](https://www.tensorflow.org/api_docs/python/tf/keras/experimental/PeepholeLSTMCell),\n",
    "[stacked RNN](https://www.tensorflow.org/api_docs/python/tf/keras/layers/StackedRNNCells)\n",
    "\n",
    "Keras [recurrent layers](https://keras.io/api/layers/recurrent_layers/) includes RNN, GRU, LSTM.\n"
   ]
  },
  {
   "cell_type": "markdown",
   "metadata": {},
   "source": [
    "## Literature\n",
    "[arXiv](https://arxiv.org/abs/1508.02774) Benchmarking of LSTM networks (2015)\n",
    "\n",
    "[arXiv](https://arxiv.org/abs/1712.03351) Peephole: Predicting network performance before training (2017)\n",
    "\n",
    "[IEEE](https://ieeexplore.ieee.org/abstract/document/7508408/) LSTM: A search space odyssey (2019)\n",
    "\n",
    "[IEEE](https://ieeexplore.ieee.org/abstract/document/9177688/) Time Series-oriented Load Prediction Using Deep Peephole LSTM (2020)\n",
    "\n"
   ]
  },
  {
   "cell_type": "code",
   "execution_count": null,
   "metadata": {},
   "outputs": [],
   "source": []
  }
 ],
 "metadata": {
  "kernelspec": {
   "display_name": "Python 3",
   "language": "python",
   "name": "python3"
  },
  "language_info": {
   "codemirror_mode": {
    "name": "ipython",
    "version": 3
   },
   "file_extension": ".py",
   "mimetype": "text/x-python",
   "name": "python",
   "nbconvert_exporter": "python",
   "pygments_lexer": "ipython3",
   "version": "3.8.3"
  }
 },
 "nbformat": 4,
 "nbformat_minor": 2
}
