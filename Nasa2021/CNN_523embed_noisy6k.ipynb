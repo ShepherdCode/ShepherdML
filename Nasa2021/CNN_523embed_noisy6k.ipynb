{
  "nbformat": 4,
  "nbformat_minor": 0,
  "metadata": {
    "accelerator": "GPU",
    "colab": {
      "name": "CNN_523embed_noisy6k.ipynb",
      "provenance": [],
      "collapsed_sections": [],
      "machine_shape": "hm",
      "include_colab_link": true
    },
    "kernelspec": {
      "display_name": "Python 3",
      "language": "python",
      "name": "python3"
    },
    "language_info": {
      "codemirror_mode": {
        "name": "ipython",
        "version": 3
      },
      "file_extension": ".py",
      "mimetype": "text/x-python",
      "name": "python",
      "nbconvert_exporter": "python",
      "pygments_lexer": "ipython3",
      "version": "3.8.3"
    }
  },
  "cells": [
    {
      "cell_type": "markdown",
      "metadata": {
        "id": "view-in-github",
        "colab_type": "text"
      },
      "source": [
        "<a href=\"https://colab.research.google.com/github/ShepherdCode/ShepherdML/blob/master/Nasa2021/CNN_523embed_noisy6k.ipynb\" target=\"_parent\"><img src=\"https://colab.research.google.com/assets/colab-badge.svg\" alt=\"Open In Colab\"/></a>"
      ]
    },
    {
      "cell_type": "code",
      "metadata": {
        "id": "PJDmazbCyqHC"
      },
      "source": [
        ""
      ],
      "execution_count": null,
      "outputs": []
    },
    {
      "cell_type": "markdown",
      "metadata": {
        "id": "view-in-github"
      },
      "source": [
        "<a href=\"https://colab.research.google.com/github/ShepherdCode/ShepherdML/blob/master/Nasa2021/CNN_523.ipynb\" target=\"_parent\"><img src=\"https://colab.research.google.com/assets/colab-badge.svg\" alt=\"Open In Colab\"/></a>"
      ]
    },
    {
      "cell_type": "markdown",
      "metadata": {
        "id": "ojm_6E9f9Kcf"
      },
      "source": [
        "# CNN 523 6k noisy\n",
        "\n",
        "1. Four layers of CNNS and MaxPooling\n",
        "2. Drop out at 0.2\n",
        "3. Variable filters and dense neurons\n",
        "4. 10% Noise, datasets of 3k coding and noncoding from 3k to 192k\n",
        "\n",
        "\n",
        "\n",
        "\n",
        "\n",
        "\n",
        "\n",
        "\n",
        "\n",
        "\n",
        "\n",
        "\n"
      ]
    },
    {
      "cell_type": "code",
      "metadata": {
        "colab": {
          "base_uri": "https://localhost:8080/"
        },
        "id": "hh6XplUvC0j0",
        "outputId": "ef4f4fe4-eaf7-47fe-da57-e40d13eabea8"
      },
      "source": [
        "#NC_FILENAME='ncRNA.tiny50.fasta'\n",
        "#PC_FILENAME='pcRNA.tiny50.fasta'\n",
        "#NC_FILENAME='ncRNA.gc34.processed.fasta'\n",
        "#PC_FILENAME='pcRNA.gc34.processed.fasta'\n",
        "NC_FILENAME='noisy_noncod_6000_10.fasta'  # CHANGE THIS TO 1000, 2000, 4000, etc.\n",
        "PC_FILENAME='noisy_coding_6000_10.fasta'\n",
        "NC_VAL_FILE='noncod_validation.fasta'  # 'noncod_validation.fasta'  # CHANGE THIS TO THE UNIFORM VALIDATION FILE\n",
        "PC_VAL_FILE='coding_validation.fasta'  # 'coding_validation.fasta'\n",
        "\n",
        "MODEL_FILE='JUNK2'   # CHANGE THIS IF YOU WANT TO SAVE THE MODEL!\n",
        "DATAPATH=''\n",
        "\n",
        "try:\n",
        "    from google.colab import drive\n",
        "    IN_COLAB = True\n",
        "    PATH='/content/drive/'\n",
        "    drive.mount(PATH)\n",
        "    DATAPATH=PATH+'My Drive/data/'  # must end in \"/\"\n",
        "except:\n",
        "    IN_COLAB = False\n",
        "    DATAPATH='data/'  # must end in \"/\"\n",
        "NC_FILENAME = DATAPATH+NC_FILENAME\n",
        "PC_FILENAME = DATAPATH+PC_FILENAME\n",
        "NC_VAL_FILE = DATAPATH+NC_VAL_FILE\n",
        "PC_VAL_FILE = DATAPATH+PC_VAL_FILE\n",
        "MODEL_FILE=DATAPATH+MODEL_FILE\n",
        "\n",
        "EPOCHS=20  # DECIDE ON SOME AMOUNT AND STICK WITH IT\n",
        "SPLITS=5\n",
        "K=1\n",
        "VOCABULARY_SIZE=4**K+1   # e.g. K=3 => 64 DNA K-mers + 'NNN'\n",
        "EMBED_DIMEN=2\n",
        "FILTERS=32\n",
        "KERNEL=3\n",
        "NEURONS=24\n",
        "DROP=0.2\n",
        "MINLEN=200\n",
        "MAXLEN=1000    # THIS HAS TO MATCH THE SIMULATION DATA\n",
        "DENSE_LEN = 1000\n",
        "ACT=\"tanh\""
      ],
      "execution_count": 1,
      "outputs": [
        {
          "output_type": "stream",
          "text": [
            "Mounted at /content/drive/\n"
          ],
          "name": "stdout"
        }
      ]
    },
    {
      "cell_type": "code",
      "metadata": {
        "colab": {
          "base_uri": "https://localhost:8080/"
        },
        "id": "e9TY3HK9ZklE",
        "outputId": "8007898a-9037-4d29-ba78-0c1dff8207ec"
      },
      "source": [
        "# Load our own tools\n",
        "# TO DO: don't go to GitHub if the file is already local.\n",
        "GITHUB = True\n",
        "if GITHUB:\n",
        "    #!pip install requests  # Uncomment this if necessary. Seems to be pre-installed.\n",
        "    import requests\n",
        "    r = requests.get('https://raw.githubusercontent.com/ShepherdCode/ShepherdML/master/Strings/tools_fasta.py')\n",
        "    with open('tools_fasta.py', 'w') as f:\n",
        "        f.write(r.text)\n",
        "    # TO DO: delete the file after import\n",
        "import tools_fasta as tools\n",
        "tools.yahoo()  # If this prints \"Yahoo!\" the the import was successful.\n",
        "\n",
        "TOOLS_CHANGED = False   # set to True to re-run with a new version of tools\n",
        "if TOOLS_CHANGED:\n",
        "  from importlib import reload \n",
        "  tools=reload(tools)\n",
        "  print(dir(tools))   # run this to see EVERYTHING in the tools module"
      ],
      "execution_count": 2,
      "outputs": [
        {
          "output_type": "stream",
          "text": [
            "Yahoo!\n"
          ],
          "name": "stdout"
        }
      ]
    },
    {
      "cell_type": "code",
      "metadata": {
        "id": "VQY7aTj29Kch"
      },
      "source": [
        "import numpy as np\n",
        "import pandas as pd\n",
        "import matplotlib.pyplot as plt\n",
        "from sklearn.model_selection import ShuffleSplit\n",
        "from sklearn.model_selection import cross_val_score\n",
        "from sklearn.model_selection import RepeatedKFold\n",
        "from sklearn.model_selection import StratifiedKFold\n",
        "import tensorflow as tf\n",
        "from tensorflow import keras\n",
        "import time\n",
        "dt='float32'\n",
        "tf.keras.backend.set_floatx(dt)"
      ],
      "execution_count": 3,
      "outputs": []
    },
    {
      "cell_type": "markdown",
      "metadata": {
        "id": "j7jcg6Wl9Kc2"
      },
      "source": [
        "Build model"
      ]
    },
    {
      "cell_type": "code",
      "metadata": {
        "id": "qLFNO1Xa9Kc3"
      },
      "source": [
        "def compile_model(model):\n",
        "    print(\"COMPILE...\")\n",
        "    bc=tf.keras.losses.BinaryCrossentropy(from_logits=False)\n",
        "    model.compile(loss=bc, optimizer=\"adam\", metrics=[\"accuracy\"])\n",
        "    print(\"...COMPILED\")\n",
        "    return model\n",
        "\n",
        "def build_model():\n",
        "    #SHAPE=(MAXLEN,5)  \n",
        "    SHAPE=(MAXLEN,4)  \n",
        "    # 4 input letters, 4 output dimensions, 1000 letters/RNA\n",
        "    elayer  = keras.layers.Embedding(4,4,input_length=1000) \n",
        "\n",
        "    clayer1 = keras.layers.Conv1D(FILTERS,KERNEL,activation=ACT,padding=\"same\",\n",
        "                                 input_shape=SHAPE)\n",
        "    clayer2 = keras.layers.Conv1D(FILTERS,KERNEL,activation=ACT,padding=\"same\")\n",
        "    clayer3 = keras.layers.MaxPooling1D(2)\n",
        "    clayer4 = keras.layers.Conv1D(FILTERS,KERNEL,activation=ACT,padding=\"same\")\n",
        "    clayer5 = keras.layers.Conv1D(FILTERS,KERNEL,activation=ACT,padding=\"same\")\n",
        "    clayer6 = keras.layers.MaxPooling1D(2)\n",
        "    clayer7 = keras.layers.Conv1D(FILTERS,KERNEL,activation=ACT,padding=\"same\")\n",
        "    clayer8 = keras.layers.Conv1D(FILTERS,KERNEL,activation=ACT,padding=\"same\")\n",
        "    clayer9 = keras.layers.MaxPooling1D(2)\n",
        "    clayer10 = keras.layers.Conv1D(FILTERS,KERNEL,activation=ACT,padding=\"same\")\n",
        "    clayer11 = keras.layers.Conv1D(FILTERS,KERNEL,activation=ACT,padding=\"same\")\n",
        "    clayer12 = keras.layers.MaxPooling1D(2)\n",
        "\n",
        "    clayer13 = keras.layers.Flatten()\n",
        "\n",
        "    dlayer1 = keras.layers.Dense(NEURONS, activation=ACT,dtype=dt, input_shape=[DENSE_LEN])\n",
        "    dlayer2 = keras.layers.Dropout(DROP)\n",
        "    dlayer3 = keras.layers.Dense(NEURONS, activation=ACT,dtype=dt)\n",
        "    dlayer4 = keras.layers.Dropout(DROP)\n",
        "    output_layer = keras.layers.Dense(1, activation=\"sigmoid\", dtype=dt)\n",
        "\n",
        "    cnn = keras.models.Sequential()\n",
        "    cnn.add(elayer)\n",
        "    cnn.add(clayer1)\n",
        "    cnn.add(clayer2)\n",
        "    cnn.add(clayer3)\n",
        "    cnn.add(clayer4)\n",
        "    cnn.add(clayer5)\n",
        "    cnn.add(clayer6)\n",
        "    cnn.add(clayer7)\n",
        "    cnn.add(clayer8)\n",
        "    cnn.add(clayer9)\n",
        "    cnn.add(clayer10)\n",
        "    cnn.add(clayer11)\n",
        "    cnn.add(clayer12)\n",
        "    cnn.add(clayer13)\n",
        "    cnn.add(dlayer1)\n",
        "    cnn.add(dlayer2)\n",
        "    cnn.add(dlayer3)\n",
        "    cnn.add(dlayer4)\n",
        "    cnn.add(output_layer)\n",
        "    mlpc = compile_model(cnn)\n",
        "    return mlpc"
      ],
      "execution_count": 4,
      "outputs": []
    },
    {
      "cell_type": "markdown",
      "metadata": {
        "id": "LdIS2utq9Kc9"
      },
      "source": [
        "Cross validation"
      ]
    },
    {
      "cell_type": "code",
      "metadata": {
        "id": "BVo4tbB_9Kc-"
      },
      "source": [
        "def do_cross_validation(X,y,given_model,X_VALID,Y_VALID):\n",
        "    cv_scores = []\n",
        "    fold=0\n",
        "    splitter = ShuffleSplit(n_splits=SPLITS, test_size=0.1, random_state=37863)\n",
        "    for train_index,valid_index in splitter.split(X):\n",
        "        fold += 1\n",
        "        X_train=X[train_index] # use iloc[] for dataframe\n",
        "        y_train=y[train_index]\n",
        "        X_valid=X[valid_index]\n",
        "        y_valid=y[valid_index]        \n",
        "        # Avoid continually improving the same model.\n",
        "        model = compile_model(keras.models.clone_model(given_model))\n",
        "        bestname=MODEL_FILE+\".cv.\"+str(fold)+\".best\"\n",
        "        mycallbacks = [keras.callbacks.ModelCheckpoint(\n",
        "            filepath=bestname, save_best_only=True, \n",
        "            monitor='val_accuracy', mode='max')]   \n",
        "        print(\"FIT\")\n",
        "        start_time=time.time()\n",
        "        history=model.fit(X_train, y_train, \n",
        "                epochs=EPOCHS, verbose=1, callbacks=mycallbacks,\n",
        "                validation_data=(X_valid,y_valid))\n",
        "        # THE VALIDATION ABOVE IS JUST FOR SHOW\n",
        "        end_time=time.time()\n",
        "        elapsed_time=(end_time-start_time)                        \n",
        "        print(\"Fold %d, %d epochs, %d sec\"%(fold,EPOCHS,elapsed_time))\n",
        "        pd.DataFrame(history.history).plot(figsize=(8,5))\n",
        "        plt.grid(True)\n",
        "        plt.gca().set_ylim(0,1)\n",
        "        plt.show()\n",
        "        best_model=keras.models.load_model(bestname)\n",
        "        # THE VALIDATION BELOW IS FOR KEEPS\n",
        "        scores = best_model.evaluate(X_VALID, Y_VALID, verbose=0)\n",
        "        print(\"%s: %.2f%%\" % (best_model.metrics_names[1], scores[1]*100))\n",
        "        cv_scores.append(scores[1] * 100)  \n",
        "    print()\n",
        "    print(\"%d-way Cross Validation mean %.2f%% (+/- %.2f%%)\" % (fold, np.mean(cv_scores), np.std(cv_scores)))"
      ],
      "execution_count": 5,
      "outputs": []
    },
    {
      "cell_type": "markdown",
      "metadata": {
        "id": "qd3Wj_vI9KdP"
      },
      "source": [
        "## Train on RNA lengths 200-1Kb"
      ]
    },
    {
      "cell_type": "code",
      "metadata": {
        "colab": {
          "base_uri": "https://localhost:8080/"
        },
        "id": "G1HuSs8ZbeL4",
        "outputId": "a698d48d-14d2-4117-d7c7-f015de396dfa"
      },
      "source": [
        "print (\"Compile the model\")\n",
        "model=build_model()\n",
        "print (\"Summarize the model\")\n",
        "print(model.summary())  # Print this only once\n",
        "#model.save(MODEL_FILE+'.model')\n"
      ],
      "execution_count": 6,
      "outputs": [
        {
          "output_type": "stream",
          "text": [
            "Compile the model\n",
            "COMPILE...\n",
            "...COMPILED\n",
            "Summarize the model\n",
            "Model: \"sequential\"\n",
            "_________________________________________________________________\n",
            "Layer (type)                 Output Shape              Param #   \n",
            "=================================================================\n",
            "embedding (Embedding)        (None, 1000, 4)           16        \n",
            "_________________________________________________________________\n",
            "conv1d (Conv1D)              (None, 1000, 32)          416       \n",
            "_________________________________________________________________\n",
            "conv1d_1 (Conv1D)            (None, 1000, 32)          3104      \n",
            "_________________________________________________________________\n",
            "max_pooling1d (MaxPooling1D) (None, 500, 32)           0         \n",
            "_________________________________________________________________\n",
            "conv1d_2 (Conv1D)            (None, 500, 32)           3104      \n",
            "_________________________________________________________________\n",
            "conv1d_3 (Conv1D)            (None, 500, 32)           3104      \n",
            "_________________________________________________________________\n",
            "max_pooling1d_1 (MaxPooling1 (None, 250, 32)           0         \n",
            "_________________________________________________________________\n",
            "conv1d_4 (Conv1D)            (None, 250, 32)           3104      \n",
            "_________________________________________________________________\n",
            "conv1d_5 (Conv1D)            (None, 250, 32)           3104      \n",
            "_________________________________________________________________\n",
            "max_pooling1d_2 (MaxPooling1 (None, 125, 32)           0         \n",
            "_________________________________________________________________\n",
            "conv1d_6 (Conv1D)            (None, 125, 32)           3104      \n",
            "_________________________________________________________________\n",
            "conv1d_7 (Conv1D)            (None, 125, 32)           3104      \n",
            "_________________________________________________________________\n",
            "max_pooling1d_3 (MaxPooling1 (None, 62, 32)            0         \n",
            "_________________________________________________________________\n",
            "flatten (Flatten)            (None, 1984)              0         \n",
            "_________________________________________________________________\n",
            "dense (Dense)                (None, 24)                47640     \n",
            "_________________________________________________________________\n",
            "dropout (Dropout)            (None, 24)                0         \n",
            "_________________________________________________________________\n",
            "dense_1 (Dense)              (None, 24)                600       \n",
            "_________________________________________________________________\n",
            "dropout_1 (Dropout)          (None, 24)                0         \n",
            "_________________________________________________________________\n",
            "dense_2 (Dense)              (None, 1)                 25        \n",
            "=================================================================\n",
            "Total params: 70,425\n",
            "Trainable params: 70,425\n",
            "Non-trainable params: 0\n",
            "_________________________________________________________________\n",
            "None\n"
          ],
          "name": "stdout"
        }
      ]
    },
    {
      "cell_type": "code",
      "metadata": {
        "id": "f8fNo6sn9KdH"
      },
      "source": [
        "def load_data_from_files(nc_filename,pc_filename):\n",
        "  FREEMEM=True   # use False for debugging, True for production\n",
        "  print(\"Load data from files.\")\n",
        "  nc_seq=tools.load_fasta(nc_filename,0)\n",
        "  pc_seq=tools.load_fasta(pc_filename,1)\n",
        "  train_set=pd.concat((nc_seq,pc_seq),axis=0)\n",
        "  print(\"Ready: train_set\")\n",
        "  subset=tools.make_slice(train_set,MINLEN,MAXLEN)# One array to two: X and y\n",
        "  if FREEMEM:\n",
        "      nc_seq=None\n",
        "      pc_seq=None\n",
        "      train_set=None\n",
        "  (X1,y_train)=tools.separate_X_and_y(subset)\n",
        "  # X1 is pandas df of (\"list\" of one sequence)\n",
        "  X2=X1.to_numpy()  # numpy ndarray of (\"list\" of one sequence)\n",
        "  X3=[elem[0] for elem in X2]  # numpy ndarray of ACGT-str\n",
        "  # X3? It might be faster to use int-array than char-array. Come back to this.\n",
        "  X4=X3  # no-op\n",
        "  print(\"X4\",type(X4))\n",
        "  #print(X4[0])\n",
        "  if FREEMEM:\n",
        "      X1=None\n",
        "      X2=None\n",
        "      X3=None\n",
        "  X5=[]\n",
        "  dna_to_int = {'A':0,'C':1,'G':2,'T':3}\n",
        "  for x in X4:\n",
        "      a=[]\n",
        "      for c in x:\n",
        "          i = dna_to_int[c]\n",
        "          a.append(i)\n",
        "      X5.append(a)\n",
        "  X5=np.asarray(X5)\n",
        "  print(\"X5\",type(X5))\n",
        "  print(X5.shape)\n",
        "  if FREEMEM:\n",
        "      X4=None\n",
        "  X_train=X5\n",
        "  if FREEMEM:\n",
        "      X5=None\n",
        "  print(\"X_train\",type(X_train))\n",
        "  y_train=y_train.to_numpy()\n",
        "  print(X_train.shape)\n",
        "  print(X_train[0].shape)\n",
        "  print(X_train[0])\n",
        "  return X_train,y_train\n"
      ],
      "execution_count": 7,
      "outputs": []
    },
    {
      "cell_type": "code",
      "metadata": {
        "colab": {
          "base_uri": "https://localhost:8080/"
        },
        "id": "UmEls9oXRQON",
        "outputId": "4e9818a7-e9b0-4df4-820e-5a2287502829"
      },
      "source": [
        "print(\"Loading training data...\")\n",
        "X_train,y_train = load_data_from_files(NC_FILENAME,PC_FILENAME)"
      ],
      "execution_count": 8,
      "outputs": [
        {
          "output_type": "stream",
          "text": [
            "Loading training data...\n",
            "Load data from files.\n",
            "Ready: train_set\n",
            "X4 <class 'list'>\n",
            "X5 <class 'numpy.ndarray'>\n",
            "(12000, 1000)\n",
            "X_train <class 'numpy.ndarray'>\n",
            "(12000, 1000)\n",
            "(1000,)\n",
            "[3 1 1 1 2 2 0 0 3 3 3 0 3 3 1 1 2 2 1 0 3 1 2 1 0 1 3 0 3 1 1 3 1 1 3 1 1\n",
            " 3 1 2 0 2 3 1 2 2 2 1 0 1 3 2 3 2 2 3 0 3 2 0 2 0 0 3 1 2 0 1 3 1 0 2 2 0\n",
            " 1 3 3 3 1 2 0 2 3 1 3 3 1 0 1 1 0 1 3 1 2 2 2 2 2 2 1 0 0 3 1 0 2 0 0 0 0\n",
            " 3 1 0 0 1 3 1 1 2 1 0 3 3 0 3 3 1 1 1 1 0 0 3 1 0 2 0 0 0 3 3 2 2 3 3 3 3\n",
            " 0 0 3 1 2 3 0 0 3 1 3 0 1 1 0 3 3 1 3 0 1 3 3 0 3 3 3 1 1 2 2 3 2 1 1 3 3\n",
            " 2 0 3 3 0 2 3 3 0 0 1 2 3 2 2 1 0 3 3 1 3 3 3 3 2 0 1 1 0 0 3 1 0 1 0 3 2\n",
            " 3 0 0 3 2 0 1 1 2 0 3 2 3 2 3 3 3 3 0 0 0 0 0 1 0 3 1 0 1 0 0 2 0 1 2 0 2\n",
            " 0 3 2 1 2 1 1 3 0 0 3 1 3 0 1 2 1 2 0 1 1 0 1 2 2 3 3 3 0 3 3 3 3 1 2 2 2\n",
            " 2 3 2 1 3 1 3 0 1 0 2 3 0 3 3 3 0 2 1 1 2 0 2 3 1 2 1 1 0 1 3 3 2 3 0 2 0\n",
            " 3 0 1 3 0 3 1 3 0 0 1 1 2 1 2 0 0 1 2 0 1 2 0 3 0 2 3 0 0 2 1 0 0 2 2 2 2\n",
            " 1 0 1 2 0 2 2 3 1 1 1 2 0 1 2 3 2 2 1 3 1 2 3 3 3 3 0 0 3 1 2 0 2 1 1 0 0\n",
            " 3 2 2 2 3 3 2 3 1 2 0 2 0 2 0 0 0 3 2 3 2 3 1 3 3 1 2 3 0 2 1 1 1 2 0 1 1\n",
            " 3 1 3 0 0 0 3 0 1 0 3 0 3 1 2 2 1 3 1 0 1 1 2 2 2 0 3 2 3 1 3 3 3 3 1 1 2\n",
            " 0 1 2 0 1 1 2 1 1 0 1 3 3 1 0 0 3 0 2 3 1 3 2 2 2 0 3 3 2 3 3 2 2 3 2 1 3\n",
            " 1 3 2 2 0 2 2 3 2 2 2 3 1 1 0 1 0 0 0 2 1 3 2 3 3 2 3 1 0 1 3 1 3 1 3 2 3\n",
            " 0 2 3 2 0 2 2 0 3 2 2 2 0 0 0 1 3 1 3 2 1 3 3 0 3 3 1 2 1 3 1 2 2 2 2 2 1\n",
            " 0 1 2 3 0 2 3 0 1 1 2 0 0 2 0 0 2 0 2 2 2 1 0 0 2 1 0 3 1 2 1 3 1 1 0 0 3\n",
            " 3 0 1 1 0 3 1 1 2 2 0 1 1 0 1 1 1 0 2 2 2 0 3 0 3 0 1 1 3 0 1 2 1 3 0 3 0\n",
            " 1 0 1 0 3 0 2 3 3 3 3 1 1 1 1 2 1 3 3 3 0 1 1 3 1 1 2 0 2 3 3 3 1 2 3 1 0\n",
            " 3 0 2 3 0 1 0 0 2 3 1 3 2 1 0 1 1 0 1 0 0 3 3 2 2 2 1 1 0 3 3 0 2 0 3 2 2\n",
            " 0 1 3 0 1 2 0 1 1 0 2 1 3 3 1 0 3 3 1 1 2 2 1 3 3 2 1 3 1 2 0 2 1 1 1 2 0\n",
            " 3 2 1 1 2 3 1 1 1 3 1 3 2 2 2 2 2 0 1 3 2 1 3 2 3 2 0 2 0 1 0 0 3 3 1 3 2\n",
            " 2 1 0 0 2 3 1 3 0 1 3 2 2 1 3 1 2 0 3 0 3 0 3 0 0 1 0 0 3 0 3 3 1 3 1 0 2\n",
            " 3 0 2 2 3 0 2 1 0 0 0 3 1 3 2 0 0 1 1 1 0 1 1 1 2 0 2 2 2 2 1 1 0 3 0 2 2\n",
            " 2 1 0 0 2 1 3 1 1 1 0 0 2 3 0 0 3 0 0 0 1 1 0 2 3 3 3 1 3 2 1 3 0 1 0 2 0\n",
            " 0 2 1 3 2 1 3 2 0 3 2 2 3 1 1 2 1 2 0 0 0 0 0 1 3 1 3 1 3 2 0 2 1 1 2 3 3\n",
            " 1 1 0 1 1 3 1 3 1 2 0 3 3 2 0 0 0 0 0 3 2 0 2 0 3 3 2 1 2 2 3 1 0 1 3 0 2\n",
            " 1]\n"
          ],
          "name": "stdout"
        }
      ]
    },
    {
      "cell_type": "code",
      "metadata": {
        "colab": {
          "base_uri": "https://localhost:8080/"
        },
        "id": "sfvgDZR1a_2j",
        "outputId": "7d628c3e-0ebc-4a03-f6d6-df02aee48a3f"
      },
      "source": [
        "print(\"Loading validation data...\")\n",
        "X_VALID,Y_VALID = load_data_from_files(NC_VAL_FILE,PC_VAL_FILE)"
      ],
      "execution_count": 9,
      "outputs": [
        {
          "output_type": "stream",
          "text": [
            "Loading validation data...\n",
            "Load data from files.\n",
            "Ready: train_set\n",
            "X4 <class 'list'>\n",
            "X5 <class 'numpy.ndarray'>\n",
            "(100000, 1000)\n",
            "X_train <class 'numpy.ndarray'>\n",
            "(100000, 1000)\n",
            "(1000,)\n",
            "[0 2 0 0 3 3 1 2 2 3 1 2 2 0 2 0 2 2 2 1 2 0 3 2 0 3 0 0 3 3 2 3 0 3 3 1 0\n",
            " 1 1 0 2 1 1 1 1 2 3 3 0 2 1 1 3 2 3 2 1 2 3 3 0 0 1 2 2 2 3 2 0 1 2 2 2 2\n",
            " 2 1 3 3 0 1 2 0 1 2 0 3 2 3 2 3 1 3 3 1 3 0 2 1 1 1 2 3 2 2 2 1 0 3 3 2 3\n",
            " 3 3 1 1 3 3 2 1 1 2 1 3 2 2 1 3 1 3 1 0 0 3 2 2 2 1 2 0 0 1 0 2 0 1 3 2 1\n",
            " 3 2 2 0 3 1 2 0 3 3 3 2 3 2 1 0 0 3 0 2 0 2 1 2 1 1 0 2 3 0 1 2 0 1 2 2 0\n",
            " 2 1 2 3 1 1 1 2 3 3 3 2 1 1 0 2 3 1 1 2 1 0 0 3 2 1 0 2 2 3 2 0 0 3 1 3 0\n",
            " 2 3 0 2 3 1 2 3 1 1 2 3 3 3 3 3 0 0 1 0 0 0 2 0 2 2 0 3 3 0 0 0 0 2 2 2 1\n",
            " 0 0 1 1 1 0 2 0 3 1 2 0 0 3 3 1 1 2 1 3 2 3 2 1 2 2 0 0 1 0 1 0 3 3 3 0 0\n",
            " 0 2 3 0 3 2 3 0 1 1 3 0 1 1 1 3 2 1 3 3 1 0 0 0 1 2 3 0 2 3 1 1 1 3 0 3 1\n",
            " 2 0 1 2 1 2 2 3 1 1 1 2 0 2 0 0 3 3 0 2 1 0 0 1 0 1 3 3 2 3 3 1 0 3 2 3 0\n",
            " 2 3 3 2 0 1 0 0 3 1 1 2 2 1 3 2 0 1 0 0 3 2 3 1 0 3 0 3 3 1 1 3 0 0 0 1 2\n",
            " 1 1 1 3 1 2 2 1 1 1 2 1 0 1 1 2 3 2 1 2 1 3 3 2 3 2 2 2 3 3 0 3 1 0 3 3 0\n",
            " 3 2 2 0 1 2 1 1 1 0 3 3 0 1 1 2 3 2 1 2 2 2 0 0 0 2 1 2 1 3 0 3 1 0 0 1 3\n",
            " 2 3 3 2 1 0 3 3 0 1 1 0 0 3 3 1 0 2 2 1 2 0 0 0 2 0 1 2 2 3 1 0 0 2 0 0 1\n",
            " 3 3 2 0 1 0 3 1 3 2 2 0 1 1 0 2 0 0 0 3 2 3 2 0 0 3 3 2 1 3 0 0 2 1 2 1 2\n",
            " 1 0 2 2 2 3 2 3 3 2 1 2 0 0 2 3 1 0 1 2 1 3 2 3 1 0 2 0 2 1 0 2 1 1 1 1 3\n",
            " 1 2 3 3 0 3 0 2 2 1 2 3 2 0 2 0 2 3 2 3 3 0 0 1 0 3 1 1 0 0 2 0 1 3 3 2 1\n",
            " 3 3 3 0 2 2 3 1 2 1 3 2 3 0 2 3 1 0 2 0 2 2 0 1 3 3 0 0 0 3 0 1 1 0 0 3 0\n",
            " 0 1 2 0 2 3 1 1 2 3 2 2 1 2 1 0 1 0 3 0 3 1 1 1 3 3 3 2 2 3 3 3 1 3 3 1 3\n",
            " 0 2 3 0 2 2 3 0 3 3 1 3 1 1 2 3 0 3 2 0 1 1 3 1 1 1 1 3 0 1 3 2 1 0 2 3 2\n",
            " 3 2 3 2 2 1 2 2 1 1 2 3 1 2 0 1 3 0 1 3 1 0 1 3 3 3 3 1 1 1 1 2 2 2 0 0 2\n",
            " 1 0 0 3 1 0 2 2 2 2 1 2 3 2 2 0 3 1 1 1 1 3 0 0 2 1 3 0 2 2 0 3 3 0 2 2 2\n",
            " 3 2 1 3 3 1 3 3 3 2 0 1 3 2 0 2 2 1 0 2 3 1 0 1 3 0 1 1 1 0 1 3 2 3 2 2 3\n",
            " 2 3 1 0 1 0 3 0 1 1 2 0 3 1 0 2 1 1 2 0 0 1 3 2 1 3 1 3 0 2 3 1 0 1 0 2 2\n",
            " 0 1 3 2 3 1 2 0 2 2 3 3 3 2 0 3 1 1 1 1 0 2 3 2 1 0 3 3 1 3 2 1 0 0 1 2 2\n",
            " 3 2 1 0 0 2 2 3 0 2 0 1 2 3 3 1 0 3 2 3 0 2 1 2 3 0 1 0 2 3 1 0 1 0 1 0 1\n",
            " 0 0 3 1 3 0 1 2 0 0 3 0 2 2 1 1 1 3 2 0 2 2 1 2 0 0 1 1 2 2 1 1 1 1 1 2 0\n",
            " 3]\n"
          ],
          "name": "stdout"
        }
      ]
    },
    {
      "cell_type": "code",
      "metadata": {
        "colab": {
          "base_uri": "https://localhost:8080/",
          "height": 1000
        },
        "id": "mQ8eW5Rg9KdQ",
        "outputId": "dec177c8-82e0-4f57-b092-378ea3ae6724"
      },
      "source": [
        "print (\"Cross validation\")\n",
        "do_cross_validation(X_train,y_train,model,X_VALID,Y_VALID)  \n",
        "print (\"Done\")"
      ],
      "execution_count": 10,
      "outputs": [
        {
          "output_type": "stream",
          "text": [
            "Cross validation\n",
            "COMPILE...\n",
            "...COMPILED\n",
            "FIT\n",
            "Epoch 1/20\n",
            "338/338 [==============================] - 7s 8ms/step - loss: 0.6958 - accuracy: 0.5022 - val_loss: 0.6948 - val_accuracy: 0.4833\n",
            "INFO:tensorflow:Assets written to: /content/drive/My Drive/data/JUNK2.cv.1.best/assets\n",
            "Epoch 2/20\n",
            "338/338 [==============================] - 2s 6ms/step - loss: 0.6954 - accuracy: 0.4886 - val_loss: 0.6926 - val_accuracy: 0.5167\n",
            "INFO:tensorflow:Assets written to: /content/drive/My Drive/data/JUNK2.cv.1.best/assets\n",
            "Epoch 3/20\n",
            "338/338 [==============================] - 2s 6ms/step - loss: 0.6946 - accuracy: 0.5096 - val_loss: 0.6938 - val_accuracy: 0.4833\n",
            "Epoch 4/20\n",
            "338/338 [==============================] - 2s 6ms/step - loss: 0.6943 - accuracy: 0.4979 - val_loss: 0.6928 - val_accuracy: 0.5167\n",
            "Epoch 5/20\n",
            "338/338 [==============================] - 2s 6ms/step - loss: 0.6936 - accuracy: 0.5088 - val_loss: 0.6936 - val_accuracy: 0.4833\n",
            "Epoch 6/20\n",
            "338/338 [==============================] - 2s 6ms/step - loss: 0.6934 - accuracy: 0.5056 - val_loss: 0.6931 - val_accuracy: 0.5108\n",
            "Epoch 7/20\n",
            "338/338 [==============================] - 2s 6ms/step - loss: 0.6943 - accuracy: 0.4936 - val_loss: 0.6923 - val_accuracy: 0.5217\n",
            "INFO:tensorflow:Assets written to: /content/drive/My Drive/data/JUNK2.cv.1.best/assets\n",
            "Epoch 8/20\n",
            "338/338 [==============================] - 2s 6ms/step - loss: 0.6942 - accuracy: 0.5023 - val_loss: 0.6936 - val_accuracy: 0.4950\n",
            "Epoch 9/20\n",
            "338/338 [==============================] - 2s 6ms/step - loss: 0.6939 - accuracy: 0.5113 - val_loss: 0.6915 - val_accuracy: 0.5342\n",
            "INFO:tensorflow:Assets written to: /content/drive/My Drive/data/JUNK2.cv.1.best/assets\n",
            "Epoch 10/20\n",
            "338/338 [==============================] - 2s 6ms/step - loss: 0.6919 - accuracy: 0.5334 - val_loss: 0.6940 - val_accuracy: 0.5058\n",
            "Epoch 11/20\n",
            "338/338 [==============================] - 2s 6ms/step - loss: 0.6855 - accuracy: 0.5559 - val_loss: 0.6779 - val_accuracy: 0.5558\n",
            "INFO:tensorflow:Assets written to: /content/drive/My Drive/data/JUNK2.cv.1.best/assets\n",
            "Epoch 12/20\n",
            "338/338 [==============================] - 2s 6ms/step - loss: 0.6668 - accuracy: 0.5990 - val_loss: 0.6891 - val_accuracy: 0.5758\n",
            "INFO:tensorflow:Assets written to: /content/drive/My Drive/data/JUNK2.cv.1.best/assets\n",
            "Epoch 13/20\n",
            "338/338 [==============================] - 2s 6ms/step - loss: 0.6558 - accuracy: 0.6238 - val_loss: 0.6809 - val_accuracy: 0.5792\n",
            "INFO:tensorflow:Assets written to: /content/drive/My Drive/data/JUNK2.cv.1.best/assets\n",
            "Epoch 14/20\n",
            "338/338 [==============================] - 2s 6ms/step - loss: 0.6321 - accuracy: 0.6522 - val_loss: 0.6952 - val_accuracy: 0.5567\n",
            "Epoch 15/20\n",
            "338/338 [==============================] - 2s 6ms/step - loss: 0.6019 - accuracy: 0.6860 - val_loss: 0.6814 - val_accuracy: 0.5950\n",
            "INFO:tensorflow:Assets written to: /content/drive/My Drive/data/JUNK2.cv.1.best/assets\n",
            "Epoch 16/20\n",
            "338/338 [==============================] - 2s 6ms/step - loss: 0.5789 - accuracy: 0.7054 - val_loss: 0.7021 - val_accuracy: 0.5783\n",
            "Epoch 17/20\n",
            "338/338 [==============================] - 2s 6ms/step - loss: 0.5593 - accuracy: 0.7216 - val_loss: 0.7295 - val_accuracy: 0.5700\n",
            "Epoch 18/20\n",
            "338/338 [==============================] - 2s 6ms/step - loss: 0.5215 - accuracy: 0.7552 - val_loss: 0.7480 - val_accuracy: 0.5733\n",
            "Epoch 19/20\n",
            "338/338 [==============================] - 2s 6ms/step - loss: 0.4881 - accuracy: 0.7762 - val_loss: 0.7798 - val_accuracy: 0.5858\n",
            "Epoch 20/20\n",
            "338/338 [==============================] - 2s 6ms/step - loss: 0.4510 - accuracy: 0.8002 - val_loss: 0.8143 - val_accuracy: 0.5875\n",
            "Fold 1, 20 epochs, 61 sec\n"
          ],
          "name": "stdout"
        },
        {
          "output_type": "display_data",
          "data": {
            "image/png": "[encoded data removed]",
            "text/plain": [
              "<Figure size 576x360 with 1 Axes>"
            ]
          },
          "metadata": {
            "tags": [],
            "needs_background": "light"
          }
        },
        {
          "output_type": "stream",
          "text": [
            "accuracy: 60.95%\n",
            "COMPILE...\n",
            "...COMPILED\n",
            "FIT\n",
            "Epoch 1/20\n",
            "338/338 [==============================] - 3s 7ms/step - loss: 0.6980 - accuracy: 0.4918 - val_loss: 0.6932 - val_accuracy: 0.5000\n",
            "INFO:tensorflow:Assets written to: /content/drive/My Drive/data/JUNK2.cv.2.best/assets\n",
            "Epoch 2/20\n",
            "338/338 [==============================] - 2s 6ms/step - loss: 0.6950 - accuracy: 0.4982 - val_loss: 0.6933 - val_accuracy: 0.5000\n",
            "Epoch 3/20\n",
            "338/338 [==============================] - 2s 6ms/step - loss: 0.6971 - accuracy: 0.4958 - val_loss: 0.6931 - val_accuracy: 0.4983\n",
            "Epoch 4/20\n",
            "338/338 [==============================] - 2s 6ms/step - loss: 0.6935 - accuracy: 0.5260 - val_loss: 0.6932 - val_accuracy: 0.4925\n",
            "Epoch 5/20\n",
            "338/338 [==============================] - 2s 6ms/step - loss: 0.6945 - accuracy: 0.4988 - val_loss: 0.6933 - val_accuracy: 0.5000\n",
            "Epoch 6/20\n",
            "338/338 [==============================] - 2s 6ms/step - loss: 0.6934 - accuracy: 0.5113 - val_loss: 0.6932 - val_accuracy: 0.5000\n",
            "Epoch 7/20\n",
            "338/338 [==============================] - 2s 6ms/step - loss: 0.6938 - accuracy: 0.5143 - val_loss: 0.6926 - val_accuracy: 0.5133\n",
            "INFO:tensorflow:Assets written to: /content/drive/My Drive/data/JUNK2.cv.2.best/assets\n",
            "Epoch 8/20\n",
            "338/338 [==============================] - 2s 6ms/step - loss: 0.6930 - accuracy: 0.5131 - val_loss: 0.7005 - val_accuracy: 0.5000\n",
            "Epoch 9/20\n",
            "338/338 [==============================] - 2s 6ms/step - loss: 0.6921 - accuracy: 0.5250 - val_loss: 0.6995 - val_accuracy: 0.5000\n",
            "Epoch 10/20\n",
            "338/338 [==============================] - 2s 6ms/step - loss: 0.7030 - accuracy: 0.4991 - val_loss: 0.6751 - val_accuracy: 0.5767\n",
            "INFO:tensorflow:Assets written to: /content/drive/My Drive/data/JUNK2.cv.2.best/assets\n",
            "Epoch 11/20\n",
            "338/338 [==============================] - 2s 6ms/step - loss: 0.6640 - accuracy: 0.6007 - val_loss: 0.6437 - val_accuracy: 0.6308\n",
            "INFO:tensorflow:Assets written to: /content/drive/My Drive/data/JUNK2.cv.2.best/assets\n",
            "Epoch 12/20\n",
            "338/338 [==============================] - 2s 6ms/step - loss: 0.6354 - accuracy: 0.6406 - val_loss: 0.6452 - val_accuracy: 0.6225\n",
            "Epoch 13/20\n",
            "338/338 [==============================] - 2s 6ms/step - loss: 0.6081 - accuracy: 0.6719 - val_loss: 0.6168 - val_accuracy: 0.6725\n",
            "INFO:tensorflow:Assets written to: /content/drive/My Drive/data/JUNK2.cv.2.best/assets\n",
            "Epoch 14/20\n",
            "338/338 [==============================] - 2s 6ms/step - loss: 0.5874 - accuracy: 0.6947 - val_loss: 0.6189 - val_accuracy: 0.6608\n",
            "Epoch 15/20\n",
            "338/338 [==============================] - 2s 6ms/step - loss: 0.5567 - accuracy: 0.7200 - val_loss: 0.6740 - val_accuracy: 0.6225\n",
            "Epoch 16/20\n",
            "338/338 [==============================] - 2s 6ms/step - loss: 0.5193 - accuracy: 0.7514 - val_loss: 0.7274 - val_accuracy: 0.5883\n",
            "Epoch 17/20\n",
            "338/338 [==============================] - 2s 6ms/step - loss: 0.4956 - accuracy: 0.7730 - val_loss: 0.7305 - val_accuracy: 0.5917\n",
            "Epoch 18/20\n",
            "338/338 [==============================] - 2s 6ms/step - loss: 0.4433 - accuracy: 0.8049 - val_loss: 0.7600 - val_accuracy: 0.6075\n",
            "Epoch 19/20\n",
            "338/338 [==============================] - 2s 6ms/step - loss: 0.3962 - accuracy: 0.8318 - val_loss: 0.8241 - val_accuracy: 0.5850\n",
            "Epoch 20/20\n",
            "338/338 [==============================] - 2s 6ms/step - loss: 0.3793 - accuracy: 0.8447 - val_loss: 0.8428 - val_accuracy: 0.5992\n",
            "Fold 2, 20 epochs, 54 sec\n"
          ],
          "name": "stdout"
        },
        {
          "output_type": "display_data",
          "data": {
            "image/png": "[encoded data removed]",
            "text/plain": [
              "<Figure size 576x360 with 1 Axes>"
            ]
          },
          "metadata": {
            "tags": [],
            "needs_background": "light"
          }
        },
        {
          "output_type": "stream",
          "text": [
            "accuracy: 69.38%\n",
            "COMPILE...\n",
            "...COMPILED\n",
            "FIT\n",
            "Epoch 1/20\n",
            "338/338 [==============================] - 3s 7ms/step - loss: 0.6967 - accuracy: 0.5009 - val_loss: 0.6896 - val_accuracy: 0.5008\n",
            "INFO:tensorflow:Assets written to: /content/drive/My Drive/data/JUNK2.cv.3.best/assets\n",
            "Epoch 2/20\n",
            "338/338 [==============================] - 2s 6ms/step - loss: 0.6899 - accuracy: 0.5477 - val_loss: 0.6488 - val_accuracy: 0.6308\n",
            "INFO:tensorflow:Assets written to: /content/drive/My Drive/data/JUNK2.cv.3.best/assets\n",
            "Epoch 3/20\n",
            "338/338 [==============================] - 2s 6ms/step - loss: 0.6440 - accuracy: 0.6332 - val_loss: 0.6784 - val_accuracy: 0.5708\n",
            "Epoch 4/20\n",
            "338/338 [==============================] - 2s 6ms/step - loss: 0.6304 - accuracy: 0.6486 - val_loss: 0.6392 - val_accuracy: 0.6292\n",
            "Epoch 5/20\n",
            "338/338 [==============================] - 2s 6ms/step - loss: 0.6094 - accuracy: 0.6707 - val_loss: 0.6528 - val_accuracy: 0.6208\n",
            "Epoch 6/20\n",
            "338/338 [==============================] - 2s 6ms/step - loss: 0.5954 - accuracy: 0.6868 - val_loss: 0.6408 - val_accuracy: 0.6550\n",
            "INFO:tensorflow:Assets written to: /content/drive/My Drive/data/JUNK2.cv.3.best/assets\n",
            "Epoch 7/20\n",
            "338/338 [==============================] - 2s 6ms/step - loss: 0.5562 - accuracy: 0.7220 - val_loss: 0.6492 - val_accuracy: 0.6508\n",
            "Epoch 8/20\n",
            "338/338 [==============================] - 2s 6ms/step - loss: 0.5306 - accuracy: 0.7372 - val_loss: 0.7239 - val_accuracy: 0.6125\n",
            "Epoch 9/20\n",
            "338/338 [==============================] - 2s 6ms/step - loss: 0.5057 - accuracy: 0.7585 - val_loss: 0.7118 - val_accuracy: 0.6150\n",
            "Epoch 10/20\n",
            "338/338 [==============================] - 2s 6ms/step - loss: 0.4629 - accuracy: 0.7882 - val_loss: 0.7644 - val_accuracy: 0.6117\n",
            "Epoch 11/20\n",
            "338/338 [==============================] - 2s 6ms/step - loss: 0.4122 - accuracy: 0.8244 - val_loss: 0.8062 - val_accuracy: 0.6017\n",
            "Epoch 12/20\n",
            "338/338 [==============================] - 2s 6ms/step - loss: 0.3878 - accuracy: 0.8316 - val_loss: 0.8453 - val_accuracy: 0.6092\n",
            "Epoch 13/20\n",
            "338/338 [==============================] - 2s 6ms/step - loss: 0.3430 - accuracy: 0.8602 - val_loss: 0.8997 - val_accuracy: 0.5908\n",
            "Epoch 14/20\n",
            "338/338 [==============================] - 2s 6ms/step - loss: 0.2963 - accuracy: 0.8788 - val_loss: 0.9415 - val_accuracy: 0.5975\n",
            "Epoch 15/20\n",
            "338/338 [==============================] - 2s 6ms/step - loss: 0.2779 - accuracy: 0.8880 - val_loss: 1.0002 - val_accuracy: 0.5983\n",
            "Epoch 16/20\n",
            "338/338 [==============================] - 2s 6ms/step - loss: 0.2373 - accuracy: 0.9088 - val_loss: 1.0432 - val_accuracy: 0.6025\n",
            "Epoch 17/20\n",
            "338/338 [==============================] - 2s 6ms/step - loss: 0.2291 - accuracy: 0.9078 - val_loss: 1.1462 - val_accuracy: 0.5850\n",
            "Epoch 18/20\n",
            "338/338 [==============================] - 2s 6ms/step - loss: 0.2017 - accuracy: 0.9221 - val_loss: 1.1884 - val_accuracy: 0.5758\n",
            "Epoch 19/20\n",
            "338/338 [==============================] - 2s 6ms/step - loss: 0.1853 - accuracy: 0.9314 - val_loss: 1.2292 - val_accuracy: 0.5883\n",
            "Epoch 20/20\n",
            "338/338 [==============================] - 2s 6ms/step - loss: 0.1807 - accuracy: 0.9325 - val_loss: 1.2415 - val_accuracy: 0.5925\n",
            "Fold 3, 20 epochs, 48 sec\n"
          ],
          "name": "stdout"
        },
        {
          "output_type": "display_data",
          "data": {
            "image/png": "[encoded data removed]",
            "text/plain": [
              "<Figure size 576x360 with 1 Axes>"
            ]
          },
          "metadata": {
            "tags": [],
            "needs_background": "light"
          }
        },
        {
          "output_type": "stream",
          "text": [
            "accuracy: 68.79%\n",
            "COMPILE...\n",
            "...COMPILED\n",
            "FIT\n",
            "Epoch 1/20\n",
            "338/338 [==============================] - 3s 7ms/step - loss: 0.6956 - accuracy: 0.5035 - val_loss: 0.6930 - val_accuracy: 0.4983\n",
            "INFO:tensorflow:Assets written to: /content/drive/My Drive/data/JUNK2.cv.4.best/assets\n",
            "Epoch 2/20\n",
            "338/338 [==============================] - 2s 6ms/step - loss: 0.6944 - accuracy: 0.5035 - val_loss: 0.6933 - val_accuracy: 0.4967\n",
            "Epoch 3/20\n",
            "338/338 [==============================] - 2s 6ms/step - loss: 0.6946 - accuracy: 0.4999 - val_loss: 0.6931 - val_accuracy: 0.5033\n",
            "INFO:tensorflow:Assets written to: /content/drive/My Drive/data/JUNK2.cv.4.best/assets\n",
            "Epoch 4/20\n",
            "338/338 [==============================] - 2s 6ms/step - loss: 0.6948 - accuracy: 0.5097 - val_loss: 0.6924 - val_accuracy: 0.4992\n",
            "Epoch 5/20\n",
            "338/338 [==============================] - 2s 6ms/step - loss: 0.6934 - accuracy: 0.5291 - val_loss: 0.6938 - val_accuracy: 0.4967\n",
            "Epoch 6/20\n",
            "338/338 [==============================] - 2s 6ms/step - loss: 0.7026 - accuracy: 0.4980 - val_loss: 0.6944 - val_accuracy: 0.4967\n",
            "Epoch 7/20\n",
            "338/338 [==============================] - 2s 6ms/step - loss: 0.6995 - accuracy: 0.4920 - val_loss: 0.6931 - val_accuracy: 0.5033\n",
            "Epoch 8/20\n",
            "338/338 [==============================] - 2s 6ms/step - loss: 0.6949 - accuracy: 0.5108 - val_loss: 0.6941 - val_accuracy: 0.4967\n",
            "Epoch 9/20\n",
            "338/338 [==============================] - 2s 6ms/step - loss: 0.6942 - accuracy: 0.5041 - val_loss: 0.6931 - val_accuracy: 0.5033\n",
            "Epoch 10/20\n",
            "338/338 [==============================] - 2s 6ms/step - loss: 0.6964 - accuracy: 0.4851 - val_loss: 0.6932 - val_accuracy: 0.5033\n",
            "Epoch 11/20\n",
            "338/338 [==============================] - 2s 6ms/step - loss: 0.6947 - accuracy: 0.4975 - val_loss: 0.6931 - val_accuracy: 0.5033\n",
            "Epoch 12/20\n",
            "338/338 [==============================] - 2s 6ms/step - loss: 0.6940 - accuracy: 0.5030 - val_loss: 0.6943 - val_accuracy: 0.5033\n",
            "Epoch 13/20\n",
            "338/338 [==============================] - 2s 6ms/step - loss: 0.6956 - accuracy: 0.4930 - val_loss: 0.6935 - val_accuracy: 0.5033\n",
            "Epoch 14/20\n",
            "338/338 [==============================] - 2s 6ms/step - loss: 0.6943 - accuracy: 0.4925 - val_loss: 0.6933 - val_accuracy: 0.5033\n",
            "Epoch 15/20\n",
            "338/338 [==============================] - 2s 6ms/step - loss: 0.6940 - accuracy: 0.4994 - val_loss: 0.6932 - val_accuracy: 0.4967\n",
            "Epoch 16/20\n",
            "338/338 [==============================] - 2s 6ms/step - loss: 0.6936 - accuracy: 0.4983 - val_loss: 0.6931 - val_accuracy: 0.5033\n",
            "Epoch 17/20\n",
            "338/338 [==============================] - 2s 6ms/step - loss: 0.6935 - accuracy: 0.4981 - val_loss: 0.6933 - val_accuracy: 0.4967\n",
            "Epoch 18/20\n",
            "338/338 [==============================] - 2s 6ms/step - loss: 0.6934 - accuracy: 0.4968 - val_loss: 0.6938 - val_accuracy: 0.4967\n",
            "Epoch 19/20\n",
            "338/338 [==============================] - 2s 6ms/step - loss: 0.6934 - accuracy: 0.5121 - val_loss: 0.6931 - val_accuracy: 0.5033\n",
            "Epoch 20/20\n",
            "338/338 [==============================] - 2s 6ms/step - loss: 0.6935 - accuracy: 0.4936 - val_loss: 0.6932 - val_accuracy: 0.4967\n",
            "Fold 4, 20 epochs, 45 sec\n"
          ],
          "name": "stdout"
        },
        {
          "output_type": "display_data",
          "data": {
            "image/png": "[encoded data removed]",
            "text/plain": [
              "<Figure size 576x360 with 1 Axes>"
            ]
          },
          "metadata": {
            "tags": [],
            "needs_background": "light"
          }
        },
        {
          "output_type": "stream",
          "text": [
            "accuracy: 50.00%\n",
            "COMPILE...\n",
            "...COMPILED\n",
            "FIT\n",
            "Epoch 1/20\n",
            "338/338 [==============================] - 4s 7ms/step - loss: 0.6959 - accuracy: 0.5032 - val_loss: 0.6933 - val_accuracy: 0.4658\n",
            "INFO:tensorflow:Assets written to: /content/drive/My Drive/data/JUNK2.cv.5.best/assets\n",
            "Epoch 2/20\n",
            "338/338 [==============================] - 2s 6ms/step - loss: 0.6952 - accuracy: 0.4972 - val_loss: 0.6936 - val_accuracy: 0.4733\n",
            "INFO:tensorflow:Assets written to: /content/drive/My Drive/data/JUNK2.cv.5.best/assets\n",
            "Epoch 3/20\n",
            "338/338 [==============================] - 2s 6ms/step - loss: 0.6941 - accuracy: 0.4993 - val_loss: 0.6948 - val_accuracy: 0.4733\n",
            "Epoch 4/20\n",
            "338/338 [==============================] - 2s 6ms/step - loss: 0.6947 - accuracy: 0.5109 - val_loss: 0.6959 - val_accuracy: 0.4733\n",
            "Epoch 5/20\n",
            "338/338 [==============================] - 2s 6ms/step - loss: 0.6948 - accuracy: 0.5214 - val_loss: 0.6917 - val_accuracy: 0.5267\n",
            "INFO:tensorflow:Assets written to: /content/drive/My Drive/data/JUNK2.cv.5.best/assets\n",
            "Epoch 6/20\n",
            "338/338 [==============================] - 2s 6ms/step - loss: 0.6999 - accuracy: 0.5121 - val_loss: 0.6932 - val_accuracy: 0.4733\n",
            "Epoch 7/20\n",
            "338/338 [==============================] - 2s 6ms/step - loss: 0.6988 - accuracy: 0.4946 - val_loss: 0.6886 - val_accuracy: 0.5367\n",
            "INFO:tensorflow:Assets written to: /content/drive/My Drive/data/JUNK2.cv.5.best/assets\n",
            "Epoch 8/20\n",
            "338/338 [==============================] - 2s 6ms/step - loss: 0.6830 - accuracy: 0.5632 - val_loss: 0.6922 - val_accuracy: 0.5267\n",
            "Epoch 9/20\n",
            "338/338 [==============================] - 2s 6ms/step - loss: 0.6970 - accuracy: 0.5059 - val_loss: 0.6972 - val_accuracy: 0.4733\n",
            "Epoch 10/20\n",
            "338/338 [==============================] - 2s 6ms/step - loss: 0.6969 - accuracy: 0.4972 - val_loss: 0.6932 - val_accuracy: 0.4733\n",
            "Epoch 11/20\n",
            "338/338 [==============================] - 2s 6ms/step - loss: 0.6946 - accuracy: 0.5071 - val_loss: 0.6932 - val_accuracy: 0.4733\n",
            "Epoch 12/20\n",
            "338/338 [==============================] - 2s 6ms/step - loss: 0.6938 - accuracy: 0.5072 - val_loss: 0.6942 - val_accuracy: 0.4733\n",
            "Epoch 13/20\n",
            "338/338 [==============================] - 2s 6ms/step - loss: 0.6938 - accuracy: 0.4987 - val_loss: 0.6922 - val_accuracy: 0.5267\n",
            "Epoch 14/20\n",
            "338/338 [==============================] - 2s 6ms/step - loss: 0.6935 - accuracy: 0.5081 - val_loss: 0.6953 - val_accuracy: 0.4733\n",
            "Epoch 15/20\n",
            "338/338 [==============================] - 2s 6ms/step - loss: 0.6943 - accuracy: 0.5005 - val_loss: 0.6931 - val_accuracy: 0.5267\n",
            "Epoch 16/20\n",
            "338/338 [==============================] - 2s 6ms/step - loss: 0.6932 - accuracy: 0.5176 - val_loss: 0.6946 - val_accuracy: 0.4733\n",
            "Epoch 17/20\n",
            "338/338 [==============================] - 2s 6ms/step - loss: 0.6942 - accuracy: 0.4860 - val_loss: 0.6945 - val_accuracy: 0.4733\n",
            "Epoch 18/20\n",
            "338/338 [==============================] - 2s 6ms/step - loss: 0.6927 - accuracy: 0.5055 - val_loss: 0.6929 - val_accuracy: 0.5267\n",
            "Epoch 19/20\n",
            "338/338 [==============================] - 2s 6ms/step - loss: 0.6936 - accuracy: 0.4948 - val_loss: 0.6936 - val_accuracy: 0.4733\n",
            "Epoch 20/20\n",
            "338/338 [==============================] - 2s 6ms/step - loss: 0.6933 - accuracy: 0.5025 - val_loss: 0.6934 - val_accuracy: 0.4733\n",
            "Fold 5, 20 epochs, 49 sec\n"
          ],
          "name": "stdout"
        },
        {
          "output_type": "display_data",
          "data": {
            "image/png": "[encoded data removed]",
            "text/plain": [
              "<Figure size 576x360 with 1 Axes>"
            ]
          },
          "metadata": {
            "tags": [],
            "needs_background": "light"
          }
        },
        {
          "output_type": "stream",
          "text": [
            "accuracy: 54.03%\n",
            "\n",
            "5-way Cross Validation mean 60.63% (+/- 7.74%)\n",
            "Done\n"
          ],
          "name": "stdout"
        }
      ]
    },
    {
      "cell_type": "code",
      "metadata": {
        "id": "p4fh2GI8beMQ"
      },
      "source": [
        ""
      ],
      "execution_count": 10,
      "outputs": []
    },
    {
      "cell_type": "code",
      "metadata": {
        "colab": {
          "base_uri": "https://localhost:8080/"
        },
        "id": "1Z7Qi5wzWQd-",
        "outputId": "d821ed26-74f9-4033-cbb5-15037fcb19e4"
      },
      "source": [
        "from tensorflow.python.client import device_lib\r\n",
        "device_lib.list_local_devices()"
      ],
      "execution_count": 11,
      "outputs": [
        {
          "output_type": "execute_result",
          "data": {
            "text/plain": [
              "[name: \"/device:CPU:0\"\n",
              " device_type: \"CPU\"\n",
              " memory_limit: 268435456\n",
              " locality {\n",
              " }\n",
              " incarnation: 5732809274257922623, name: \"/device:GPU:0\"\n",
              " device_type: \"GPU\"\n",
              " memory_limit: 15507165056\n",
              " locality {\n",
              "   bus_id: 1\n",
              "   links {\n",
              "   }\n",
              " }\n",
              " incarnation: 3163978830809618588\n",
              " physical_device_desc: \"device: 0, name: Tesla V100-SXM2-16GB, pci bus id: 0000:00:04.0, compute capability: 7.0\"]"
            ]
          },
          "metadata": {
            "tags": []
          },
          "execution_count": 11
        }
      ]
    }
  ]
}