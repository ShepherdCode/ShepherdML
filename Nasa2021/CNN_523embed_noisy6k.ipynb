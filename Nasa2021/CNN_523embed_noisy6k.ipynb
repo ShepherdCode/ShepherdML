{
  "nbformat": 4,
  "nbformat_minor": 0,
  "metadata": {
    "accelerator": "GPU",
    "colab": {
      "name": "CNN_523embed_noisy6k.ipynb",
      "provenance": [],
      "collapsed_sections": [],
      "machine_shape": "hm",
      "include_colab_link": true
    },
    "kernelspec": {
      "display_name": "Python 3",
      "language": "python",
      "name": "python3"
    },
    "language_info": {
      "codemirror_mode": {
        "name": "ipython",
        "version": 3
      },
      "file_extension": ".py",
      "mimetype": "text/x-python",
      "name": "python",
      "nbconvert_exporter": "python",
      "pygments_lexer": "ipython3",
      "version": "3.8.3"
    }
  },
  "cells": [
    {
      "cell_type": "markdown",
      "metadata": {
        "id": "view-in-github",
        "colab_type": "text"
      },
      "source": [
        "<a href=\"https://colab.research.google.com/github/ShepherdCode/ShepherdML/blob/master/Nasa2021/CNN_523embed_noisy6k.ipynb\" target=\"_parent\"><img src=\"https://colab.research.google.com/assets/colab-badge.svg\" alt=\"Open In Colab\"/></a>"
      ]
    },
    {
      "cell_type": "code",
      "metadata": {
        "id": "PJDmazbCyqHC"
      },
      "source": [
        ""
      ],
      "execution_count": null,
      "outputs": []
    },
    {
      "cell_type": "markdown",
      "metadata": {
        "id": "view-in-github"
      },
      "source": [
        "<a href=\"https://colab.research.google.com/github/ShepherdCode/ShepherdML/blob/master/Nasa2021/CNN_523.ipynb\" target=\"_parent\"><img src=\"https://colab.research.google.com/assets/colab-badge.svg\" alt=\"Open In Colab\"/></a>"
      ]
    },
    {
      "cell_type": "markdown",
      "metadata": {
        "id": "ojm_6E9f9Kcf"
      },
      "source": [
        "# CNN 523 6k noisy\n",
        "\n",
        "1. Four layers of CNNS and MaxPooling\n",
        "2. Drop out at 0.2\n",
        "3. Variable filters and dense neurons\n",
        "4. 10% Noise, datasets of 3k coding and noncoding from 3k to 192k\n",
        "\n",
        "\n",
        "\n",
        "\n",
        "\n",
        "\n",
        "\n",
        "\n",
        "\n",
        "\n",
        "\n",
        "\n"
      ]
    },
    {
      "cell_type": "code",
      "metadata": {
        "colab": {
          "base_uri": "https://localhost:8080/"
        },
        "id": "hh6XplUvC0j0",
        "outputId": "0d9fdb5c-44d4-466f-e737-f10f0da32f02"
      },
      "source": [
        "#NC_FILENAME='ncRNA.tiny50.fasta'\n",
        "#PC_FILENAME='pcRNA.tiny50.fasta'\n",
        "#NC_FILENAME='ncRNA.gc34.processed.fasta'\n",
        "#PC_FILENAME='pcRNA.gc34.processed.fasta'\n",
        "NC_FILENAME='noisy_noncod_6000_10.fasta'  # CHANGE THIS TO 1000, 2000, 4000, etc.\n",
        "PC_FILENAME='noisy_coding_6000_10.fasta'\n",
        "NC_VAL_FILE='noncod_validation.fasta'  # 'noncod_validation.fasta'  # CHANGE THIS TO THE UNIFORM VALIDATION FILE\n",
        "PC_VAL_FILE='coding_validation.fasta'  # 'coding_validation.fasta'\n",
        "\n",
        "MODEL_FILE='JUNK2'   # CHANGE THIS IF YOU WANT TO SAVE THE MODEL!\n",
        "DATAPATH=''\n",
        "\n",
        "try:\n",
        "    from google.colab import drive\n",
        "    IN_COLAB = True\n",
        "    PATH='/content/drive/'\n",
        "    drive.mount(PATH)\n",
        "    DATAPATH=PATH+'My Drive/data/'  # must end in \"/\"\n",
        "except:\n",
        "    IN_COLAB = False\n",
        "    DATAPATH='data/'  # must end in \"/\"\n",
        "NC_FILENAME = DATAPATH+NC_FILENAME\n",
        "PC_FILENAME = DATAPATH+PC_FILENAME\n",
        "NC_VAL_FILE = DATAPATH+NC_VAL_FILE\n",
        "PC_VAL_FILE = DATAPATH+PC_VAL_FILE\n",
        "MODEL_FILE=DATAPATH+MODEL_FILE\n",
        "\n",
        "EPOCHS=20  # DECIDE ON SOME AMOUNT AND STICK WITH IT\n",
        "SPLITS=5\n",
        "K=1\n",
        "VOCABULARY_SIZE=4**K+1   # e.g. K=3 => 64 DNA K-mers + 'NNN'\n",
        "EMBED_DIMEN=2\n",
        "FILTERS=32\n",
        "KERNEL=3\n",
        "NEURONS=24\n",
        "DROP=0.2\n",
        "MINLEN=200\n",
        "MAXLEN=1000    # THIS HAS TO MATCH THE SIMULATION DATA\n",
        "DENSE_LEN = 1000\n",
        "ACT=\"tanh\""
      ],
      "execution_count": 1,
      "outputs": [
        {
          "output_type": "stream",
          "text": [
            "Drive already mounted at /content/drive/; to attempt to forcibly remount, call drive.mount(\"/content/drive/\", force_remount=True).\n"
          ],
          "name": "stdout"
        }
      ]
    },
    {
      "cell_type": "code",
      "metadata": {
        "colab": {
          "base_uri": "https://localhost:8080/"
        },
        "id": "e9TY3HK9ZklE",
        "outputId": "511365f6-6b7d-4810-94f7-f682984fb33d"
      },
      "source": [
        "# Load our own tools\n",
        "# TO DO: don't go to GitHub if the file is already local.\n",
        "GITHUB = True\n",
        "if GITHUB:\n",
        "    #!pip install requests  # Uncomment this if necessary. Seems to be pre-installed.\n",
        "    import requests\n",
        "    r = requests.get('https://raw.githubusercontent.com/ShepherdCode/ShepherdML/master/Strings/tools_fasta.py')\n",
        "    with open('tools_fasta.py', 'w') as f:\n",
        "        f.write(r.text)\n",
        "    # TO DO: delete the file after import\n",
        "import tools_fasta as tools\n",
        "tools.yahoo()  # If this prints \"Yahoo!\" the the import was successful.\n",
        "\n",
        "TOOLS_CHANGED = False   # set to True to re-run with a new version of tools\n",
        "if TOOLS_CHANGED:\n",
        "  from importlib import reload \n",
        "  tools=reload(tools)\n",
        "  print(dir(tools))   # run this to see EVERYTHING in the tools module"
      ],
      "execution_count": 2,
      "outputs": [
        {
          "output_type": "stream",
          "text": [
            "Yahoo!\n"
          ],
          "name": "stdout"
        }
      ]
    },
    {
      "cell_type": "code",
      "metadata": {
        "id": "VQY7aTj29Kch"
      },
      "source": [
        "import numpy as np\n",
        "import pandas as pd\n",
        "import matplotlib.pyplot as plt\n",
        "from sklearn.model_selection import ShuffleSplit\n",
        "from sklearn.model_selection import cross_val_score\n",
        "from sklearn.model_selection import RepeatedKFold\n",
        "from sklearn.model_selection import StratifiedKFold\n",
        "import tensorflow as tf\n",
        "from tensorflow import keras\n",
        "import time\n",
        "dt='float32'\n",
        "tf.keras.backend.set_floatx(dt)"
      ],
      "execution_count": 3,
      "outputs": []
    },
    {
      "cell_type": "markdown",
      "metadata": {
        "id": "j7jcg6Wl9Kc2"
      },
      "source": [
        "Build model"
      ]
    },
    {
      "cell_type": "code",
      "metadata": {
        "id": "qLFNO1Xa9Kc3"
      },
      "source": [
        "def compile_model(model):\n",
        "    print(\"COMPILE...\")\n",
        "    bc=tf.keras.losses.BinaryCrossentropy(from_logits=False)\n",
        "    model.compile(loss=bc, optimizer=\"adam\", metrics=[\"accuracy\"])\n",
        "    print(\"...COMPILED\")\n",
        "    return model\n",
        "\n",
        "def build_model():\n",
        "    #SHAPE=(MAXLEN,5)  \n",
        "    SHAPE=(MAXLEN,4)  \n",
        "    # 4 input letters, 4 output dimensions, 1000 letters/RNA\n",
        "    elayer  = keras.layers.Embedding(4,4,input_length=1000) \n",
        "\n",
        "    clayer1 = keras.layers.Conv1D(FILTERS,KERNEL,activation=ACT,padding=\"same\",\n",
        "                                 input_shape=SHAPE)\n",
        "    clayer2 = keras.layers.Conv1D(FILTERS,KERNEL,activation=ACT,padding=\"same\")\n",
        "    clayer3 = keras.layers.MaxPooling1D(2)\n",
        "    clayer4 = keras.layers.Conv1D(FILTERS,KERNEL,activation=ACT,padding=\"same\")\n",
        "    clayer5 = keras.layers.Conv1D(FILTERS,KERNEL,activation=ACT,padding=\"same\")\n",
        "    clayer6 = keras.layers.MaxPooling1D(2)\n",
        "    clayer7 = keras.layers.Conv1D(FILTERS,KERNEL,activation=ACT,padding=\"same\")\n",
        "    clayer8 = keras.layers.Conv1D(FILTERS,KERNEL,activation=ACT,padding=\"same\")\n",
        "    clayer9 = keras.layers.MaxPooling1D(2)\n",
        "    clayer10 = keras.layers.Conv1D(FILTERS,KERNEL,activation=ACT,padding=\"same\")\n",
        "    clayer11 = keras.layers.Conv1D(FILTERS,KERNEL,activation=ACT,padding=\"same\")\n",
        "    clayer12 = keras.layers.MaxPooling1D(2)\n",
        "\n",
        "    clayer13 = keras.layers.Flatten()\n",
        "\n",
        "    dlayer1 = keras.layers.Dense(NEURONS, activation=ACT,dtype=dt, input_shape=[DENSE_LEN])\n",
        "    dlayer2 = keras.layers.Dropout(DROP)\n",
        "    dlayer3 = keras.layers.Dense(NEURONS, activation=ACT,dtype=dt)\n",
        "    dlayer4 = keras.layers.Dropout(DROP)\n",
        "    output_layer = keras.layers.Dense(1, activation=\"sigmoid\", dtype=dt)\n",
        "\n",
        "    cnn = keras.models.Sequential()\n",
        "    cnn.add(elayer)\n",
        "    cnn.add(clayer1)\n",
        "    cnn.add(clayer2)\n",
        "    cnn.add(clayer3)\n",
        "    cnn.add(clayer4)\n",
        "    cnn.add(clayer5)\n",
        "    cnn.add(clayer6)\n",
        "    cnn.add(clayer7)\n",
        "    cnn.add(clayer8)\n",
        "    cnn.add(clayer9)\n",
        "    cnn.add(clayer10)\n",
        "    cnn.add(clayer11)\n",
        "    cnn.add(clayer12)\n",
        "    cnn.add(clayer13)\n",
        "    cnn.add(dlayer1)\n",
        "    cnn.add(dlayer2)\n",
        "    cnn.add(dlayer3)\n",
        "    cnn.add(dlayer4)\n",
        "    cnn.add(output_layer)\n",
        "    mlpc = compile_model(cnn)\n",
        "    return mlpc"
      ],
      "execution_count": 4,
      "outputs": []
    },
    {
      "cell_type": "markdown",
      "metadata": {
        "id": "LdIS2utq9Kc9"
      },
      "source": [
        "Cross validation"
      ]
    },
    {
      "cell_type": "code",
      "metadata": {
        "id": "BVo4tbB_9Kc-"
      },
      "source": [
        "def do_cross_validation(X,y,given_model,X_VALID,Y_VALID):\n",
        "    cv_scores = []\n",
        "    fold=0\n",
        "    splitter = ShuffleSplit(n_splits=SPLITS, test_size=0.1, random_state=37863)\n",
        "    for train_index,valid_index in splitter.split(X):\n",
        "        fold += 1\n",
        "        X_train=X[train_index] # use iloc[] for dataframe\n",
        "        y_train=y[train_index]\n",
        "        X_valid=X[valid_index]\n",
        "        y_valid=y[valid_index]        \n",
        "        # Avoid continually improving the same model.\n",
        "        model = compile_model(keras.models.clone_model(given_model))\n",
        "        bestname=MODEL_FILE+\".cv.\"+str(fold)+\".best\"\n",
        "        mycallbacks = [keras.callbacks.ModelCheckpoint(\n",
        "            filepath=bestname, save_best_only=True, \n",
        "            monitor='val_accuracy', mode='max')]   \n",
        "        print(\"FIT\")\n",
        "        start_time=time.time()\n",
        "        history=model.fit(X_train, y_train, \n",
        "                epochs=EPOCHS, verbose=1, callbacks=mycallbacks,\n",
        "                validation_data=(X_valid,y_valid))\n",
        "        # THE VALIDATION ABOVE IS JUST FOR SHOW\n",
        "        end_time=time.time()\n",
        "        elapsed_time=(end_time-start_time)                        \n",
        "        print(\"Fold %d, %d epochs, %d sec\"%(fold,EPOCHS,elapsed_time))\n",
        "        pd.DataFrame(history.history).plot(figsize=(8,5))\n",
        "        plt.grid(True)\n",
        "        plt.gca().set_ylim(0,1)\n",
        "        plt.show()\n",
        "        best_model=keras.models.load_model(bestname)\n",
        "        # THE VALIDATION BELOW IS FOR KEEPS\n",
        "        scores = best_model.evaluate(X_VALID, Y_VALID, verbose=0)\n",
        "        print(\"%s: %.2f%%\" % (best_model.metrics_names[1], scores[1]*100))\n",
        "        cv_scores.append(scores[1] * 100)  \n",
        "    print()\n",
        "    print(\"%d-way Cross Validation mean %.2f%% (+/- %.2f%%)\" % (fold, np.mean(cv_scores), np.std(cv_scores)))"
      ],
      "execution_count": 5,
      "outputs": []
    },
    {
      "cell_type": "markdown",
      "metadata": {
        "id": "qd3Wj_vI9KdP"
      },
      "source": [
        "## Train on RNA lengths 200-1Kb"
      ]
    },
    {
      "cell_type": "code",
      "metadata": {
        "colab": {
          "base_uri": "https://localhost:8080/"
        },
        "id": "G1HuSs8ZbeL4",
        "outputId": "871b4cac-c032-4969-f583-110deb056500"
      },
      "source": [
        "print (\"Compile the model\")\n",
        "model=build_model()\n",
        "print (\"Summarize the model\")\n",
        "print(model.summary())  # Print this only once\n",
        "#model.save(MODEL_FILE+'.model')\n"
      ],
      "execution_count": 6,
      "outputs": [
        {
          "output_type": "stream",
          "text": [
            "Compile the model\n",
            "COMPILE...\n",
            "...COMPILED\n",
            "Summarize the model\n",
            "Model: \"sequential\"\n",
            "_________________________________________________________________\n",
            "Layer (type)                 Output Shape              Param #   \n",
            "=================================================================\n",
            "embedding (Embedding)        (None, 1000, 4)           16        \n",
            "_________________________________________________________________\n",
            "conv1d (Conv1D)              (None, 1000, 32)          416       \n",
            "_________________________________________________________________\n",
            "conv1d_1 (Conv1D)            (None, 1000, 32)          3104      \n",
            "_________________________________________________________________\n",
            "max_pooling1d (MaxPooling1D) (None, 500, 32)           0         \n",
            "_________________________________________________________________\n",
            "conv1d_2 (Conv1D)            (None, 500, 32)           3104      \n",
            "_________________________________________________________________\n",
            "conv1d_3 (Conv1D)            (None, 500, 32)           3104      \n",
            "_________________________________________________________________\n",
            "max_pooling1d_1 (MaxPooling1 (None, 250, 32)           0         \n",
            "_________________________________________________________________\n",
            "conv1d_4 (Conv1D)            (None, 250, 32)           3104      \n",
            "_________________________________________________________________\n",
            "conv1d_5 (Conv1D)            (None, 250, 32)           3104      \n",
            "_________________________________________________________________\n",
            "max_pooling1d_2 (MaxPooling1 (None, 125, 32)           0         \n",
            "_________________________________________________________________\n",
            "conv1d_6 (Conv1D)            (None, 125, 32)           3104      \n",
            "_________________________________________________________________\n",
            "conv1d_7 (Conv1D)            (None, 125, 32)           3104      \n",
            "_________________________________________________________________\n",
            "max_pooling1d_3 (MaxPooling1 (None, 62, 32)            0         \n",
            "_________________________________________________________________\n",
            "flatten (Flatten)            (None, 1984)              0         \n",
            "_________________________________________________________________\n",
            "dense (Dense)                (None, 24)                47640     \n",
            "_________________________________________________________________\n",
            "dropout (Dropout)            (None, 24)                0         \n",
            "_________________________________________________________________\n",
            "dense_1 (Dense)              (None, 24)                600       \n",
            "_________________________________________________________________\n",
            "dropout_1 (Dropout)          (None, 24)                0         \n",
            "_________________________________________________________________\n",
            "dense_2 (Dense)              (None, 1)                 25        \n",
            "=================================================================\n",
            "Total params: 70,425\n",
            "Trainable params: 70,425\n",
            "Non-trainable params: 0\n",
            "_________________________________________________________________\n",
            "None\n"
          ],
          "name": "stdout"
        }
      ]
    },
    {
      "cell_type": "code",
      "metadata": {
        "id": "f8fNo6sn9KdH"
      },
      "source": [
        "def load_data_from_files(nc_filename,pc_filename):\n",
        "  FREEMEM=True   # use False for debugging, True for production\n",
        "  print(\"Load data from files.\")\n",
        "  nc_seq=tools.load_fasta(nc_filename,0)\n",
        "  pc_seq=tools.load_fasta(pc_filename,1)\n",
        "  train_set=pd.concat((nc_seq,pc_seq),axis=0)\n",
        "  print(\"Ready: train_set\")\n",
        "  subset=tools.make_slice(train_set,MINLEN,MAXLEN)# One array to two: X and y\n",
        "  if FREEMEM:\n",
        "      nc_seq=None\n",
        "      pc_seq=None\n",
        "      train_set=None\n",
        "  (X1,y_train)=tools.separate_X_and_y(subset)\n",
        "  # X1 is pandas df of (\"list\" of one sequence)\n",
        "  X2=X1.to_numpy()  # numpy ndarray of (\"list\" of one sequence)\n",
        "  X3=[elem[0] for elem in X2]  # numpy ndarray of ACGT-str\n",
        "  # X3? It might be faster to use int-array than char-array. Come back to this.\n",
        "  X4=X3  # no-op\n",
        "  print(\"X4\",type(X4))\n",
        "  #print(X4[0])\n",
        "  if FREEMEM:\n",
        "      X1=None\n",
        "      X2=None\n",
        "      X3=None\n",
        "  X5=[]\n",
        "  dna_to_int = {'A':0,'C':1,'G':2,'T':3}\n",
        "  for x in X4:\n",
        "      a=[]\n",
        "      for c in x:\n",
        "          i = dna_to_int[c]\n",
        "          a.append(i)\n",
        "      X5.append(a)\n",
        "  X5=np.asarray(X5)\n",
        "  print(\"X5\",type(X5))\n",
        "  print(X5.shape)\n",
        "  if FREEMEM:\n",
        "      X4=None\n",
        "  X_train=X5\n",
        "  if FREEMEM:\n",
        "      X5=None\n",
        "  print(\"X_train\",type(X_train))\n",
        "  y_train=y_train.to_numpy()\n",
        "  print(X_train.shape)\n",
        "  print(X_train[0].shape)\n",
        "  print(X_train[0])\n",
        "  return X_train,y_train\n"
      ],
      "execution_count": 7,
      "outputs": []
    },
    {
      "cell_type": "code",
      "metadata": {
        "colab": {
          "base_uri": "https://localhost:8080/"
        },
        "id": "UmEls9oXRQON",
        "outputId": "b6410bed-dc27-47ff-9a36-0220ed0e7ca0"
      },
      "source": [
        "print(\"Loading training data...\")\n",
        "X_train,y_train = load_data_from_files(NC_FILENAME,PC_FILENAME)"
      ],
      "execution_count": 8,
      "outputs": [
        {
          "output_type": "stream",
          "text": [
            "Loading training data...\n",
            "Load data from files.\n",
            "Ready: train_set\n",
            "X4 <class 'list'>\n",
            "X5 <class 'numpy.ndarray'>\n",
            "(12000, 1000)\n",
            "X_train <class 'numpy.ndarray'>\n",
            "(12000, 1000)\n",
            "(1000,)\n",
            "[2 3 3 0 2 0 1 1 2 1 3 2 1 2 1 2 2 1 0 3 0 3 3 1 0 2 2 0 3 2 1 1 1 0 3 2 3\n",
            " 1 1 3 1 1 3 2 2 2 3 1 1 2 2 0 2 3 3 0 2 1 2 1 3 1 0 3 0 3 0 0 2 2 1 1 0 0\n",
            " 3 3 3 0 3 0 0 0 0 2 3 2 3 2 2 1 0 2 0 0 2 3 2 2 3 2 1 1 2 3 2 1 0 1 2 0 3\n",
            " 1 0 3 3 2 3 0 2 3 1 2 0 2 3 3 2 0 0 1 0 0 1 3 0 2 1 3 0 1 3 1 2 2 1 3 1 2\n",
            " 3 3 0 0 0 2 1 3 3 2 1 0 0 0 3 0 3 1 2 3 0 2 3 0 3 2 3 2 1 2 2 3 0 3 1 1 2\n",
            " 1 1 3 3 1 1 1 3 1 3 0 3 1 2 0 2 1 3 2 1 2 1 0 2 1 2 0 3 1 2 2 2 2 0 1 3 3\n",
            " 3 1 2 0 3 1 1 1 3 2 1 2 0 3 2 0 3 1 0 0 2 3 0 1 2 3 1 0 3 2 1 3 2 1 3 2 1\n",
            " 3 0 2 0 0 0 1 1 2 2 2 2 2 2 1 0 0 3 3 3 1 1 0 3 0 1 1 2 0 0 3 3 1 2 3 2 3\n",
            " 2 1 1 3 0 0 1 2 3 2 2 3 0 1 3 2 1 1 2 3 2 1 1 2 0 2 2 2 1 2 0 3 3 0 0 0 0\n",
            " 1 2 0 0 3 2 3 1 2 2 0 2 1 2 2 0 1 0 3 1 3 2 1 0 3 0 1 1 1 3 0 1 0 3 1 0 1\n",
            " 1 3 1 1 1 1 3 2 1 0 1 0 2 3 3 3 3 0 3 2 3 2 2 2 1 1 3 1 2 0 0 0 1 2 0 0 1\n",
            " 3 0 1 2 0 0 1 3 1 1 3 1 1 2 3 0 0 0 1 1 0 3 2 0 3 0 2 0 1 0 0 0 0 0 0 0 2\n",
            " 2 3 1 1 3 0 2 0 3 1 2 3 2 0 0 0 3 0 2 2 3 2 3 2 3 2 3 2 3 1 2 2 1 1 1 2 1\n",
            " 3 3 0 0 1 0 0 1 1 0 0 1 2 1 1 2 2 2 0 3 3 1 2 0 0 0 2 0 2 0 0 3 3 2 1 1 3\n",
            " 1 1 0 2 2 0 3 0 3 0 3 2 1 3 0 3 0 1 0 2 1 2 0 0 0 3 3 3 3 0 1 2 1 1 0 2 3\n",
            " 0 2 0 0 3 2 2 3 2 1 2 3 0 3 1 1 2 1 1 1 1 3 2 2 3 2 2 0 3 3 1 2 2 1 1 2 2\n",
            " 3 0 0 0 1 0 1 1 0 2 0 1 0 3 2 0 0 1 1 0 1 1 1 1 0 2 3 3 2 3 0 3 2 0 0 0 2\n",
            " 0 1 1 2 1 1 2 2 0 1 2 2 2 1 0 0 2 0 3 0 3 2 2 3 2 0 1 1 1 2 0 2 2 2 2 1 2\n",
            " 2 0 2 0 2 0 1 2 0 2 3 1 3 0 3 1 1 3 3 1 0 3 1 3 2 2 1 2 2 0 1 1 3 2 0 0 0\n",
            " 1 0 0 0 0 1 1 3 3 2 3 1 2 1 1 2 0 2 0 2 2 1 0 2 2 3 2 1 3 2 0 0 1 1 0 2 0\n",
            " 3 0 3 3 0 2 1 1 1 3 2 3 1 1 1 0 2 3 1 2 1 3 3 1 0 3 1 2 2 1 1 2 1 2 3 0 3\n",
            " 1 1 2 1 3 0 2 3 1 0 2 2 2 0 3 3 3 1 3 2 3 3 1 1 3 3 0 3 1 0 1 0 0 2 3 3 2\n",
            " 2 1 0 2 3 0 1 2 3 2 3 3 1 0 3 0 1 3 0 1 3 3 3 2 2 0 0 0 0 2 2 0 3 0 0 2 0\n",
            " 1 0 1 0 3 2 3 0 3 1 0 3 3 1 0 0 3 0 0 3 2 2 3 0 2 3 0 0 3 1 0 2 3 2 0 1 1\n",
            " 0 1 0 2 0 0 0 2 0 0 1 3 2 0 2 1 3 0 1 1 3 3 2 0 0 0 2 3 2 1 1 2 2 2 1 2 1\n",
            " 0 0 3 3 1 0 2 2 1 0 2 2 0 2 1 1 0 2 0 0 0 0 2 2 0 1 0 1 2 3 1 0 2 0 0 1 3\n",
            " 2 2 0 2 0 2 1 2 3 2 0 3 3 1 2 1 0 1 1 2 0 3 3 2 1 1 2 2 0 3 0 2 0 0 2 0 0\n",
            " 1]\n"
          ],
          "name": "stdout"
        }
      ]
    },
    {
      "cell_type": "code",
      "metadata": {
        "colab": {
          "base_uri": "https://localhost:8080/"
        },
        "id": "sfvgDZR1a_2j",
        "outputId": "370cbdd0-41c1-4e88-f7a5-eb8bc51a1b8d"
      },
      "source": [
        "print(\"Loading validation data...\")\n",
        "X_VALID,Y_VALID = load_data_from_files(NC_VAL_FILE,PC_VAL_FILE)"
      ],
      "execution_count": 9,
      "outputs": [
        {
          "output_type": "stream",
          "text": [
            "Loading validation data...\n",
            "Load data from files.\n",
            "Ready: train_set\n",
            "X4 <class 'list'>\n",
            "X5 <class 'numpy.ndarray'>\n",
            "(100000, 1000)\n",
            "X_train <class 'numpy.ndarray'>\n",
            "(100000, 1000)\n",
            "(1000,)\n",
            "[1 3 3 0 2 1 3 0 3 0 0 2 3 1 0 0 1 3 2 2 2 1 0 3 0 1 3 3 2 0 3 1 0 3 1 0 0\n",
            " 1 1 3 2 0 3 2 1 0 2 0 2 0 0 0 3 0 1 2 1 2 3 2 2 0 2 1 3 2 2 0 1 1 2 0 0 2\n",
            " 1 3 0 2 3 1 2 3 3 3 1 0 0 2 2 1 1 2 0 0 0 3 2 3 0 2 0 1 0 1 3 2 3 1 0 2 3\n",
            " 2 0 1 2 0 2 0 0 0 3 1 0 3 1 3 0 0 3 0 3 0 2 3 0 3 0 0 0 2 3 2 0 0 1 2 2 2\n",
            " 3 2 2 1 1 3 1 2 1 0 1 3 1 0 1 3 1 1 0 2 2 2 2 2 1 0 1 0 0 2 1 1 0 0 3 1 2\n",
            " 2 3 3 2 3 2 1 3 2 0 0 2 0 1 3 0 1 0 1 1 0 2 1 3 3 0 1 2 3 3 1 2 0 1 2 3 3\n",
            " 3 0 3 3 2 2 1 3 3 2 3 3 1 1 2 1 0 0 1 0 0 1 1 3 0 0 2 0 2 0 0 1 0 1 2 1 2\n",
            " 2 3 2 0 1 0 1 1 0 2 0 2 0 2 2 1 0 2 2 1 3 2 2 2 2 0 0 1 2 2 1 3 0 1 0 0 3\n",
            " 0 1 3 1 0 3 2 2 3 2 1 0 2 3 2 1 3 2 3 2 1 2 3 0 3 1 0 3 3 0 2 2 3 0 3 1 1\n",
            " 2 2 0 2 2 2 1 2 2 3 1 3 2 0 2 1 1 3 2 0 3 3 1 0 2 3 1 2 1 0 0 3 2 0 2 0 2\n",
            " 0 2 1 0 3 1 3 1 1 3 3 2 1 2 1 0 1 1 0 3 1 2 0 0 3 1 0 3 1 2 0 2 2 2 0 3 1\n",
            " 0 3 2 2 2 0 2 1 1 1 2 1 0 2 2 3 1 1 0 3 3 2 2 2 2 3 0 2 1 1 2 0 2 2 1 3 1\n",
            " 0 0 3 0 1 1 0 3 1 3 3 2 1 2 0 2 3 1 2 3 2 3 0 2 0 2 0 0 0 1 0 0 1 0 3 0 1\n",
            " 1 2 2 2 0 3 2 0 0 1 3 3 2 0 2 1 2 2 2 0 1 1 2 1 1 2 0 1 1 1 3 0 3 2 3 2 3\n",
            " 1 2 2 3 2 3 2 1 3 3 2 1 2 3 1 1 0 0 1 0 1 1 2 0 1 1 2 1 3 0 2 1 1 1 3 3 3\n",
            " 1 3 1 1 2 3 1 2 0 3 0 3 0 0 1 2 2 1 2 2 1 0 0 2 2 1 2 3 1 0 3 1 3 0 0 1 3\n",
            " 2 0 1 3 1 1 3 3 2 1 1 1 0 1 3 1 0 2 0 2 3 3 2 3 2 1 3 2 3 1 3 1 1 1 0 3 3\n",
            " 2 3 3 1 1 1 1 3 0 0 0 3 0 1 1 0 0 0 2 1 2 1 0 2 0 3 1 3 2 2 3 1 3 0 0 1 1\n",
            " 2 2 0 2 0 0 3 0 0 3 2 2 3 3 2 0 3 0 2 0 0 3 2 2 3 2 1 1 2 2 2 1 0 1 2 0 1\n",
            " 2 1 0 0 2 3 0 0 1 1 1 2 3 2 2 2 0 1 1 3 1 0 0 2 3 2 3 1 3 3 3 0 3 0 1 3 0\n",
            " 1 2 3 1 2 0 1 2 2 3 1 1 1 0 3 3 0 2 2 0 3 1 1 1 2 1 1 1 0 3 2 0 2 1 3 3 2\n",
            " 0 0 3 3 0 3 1 0 3 3 1 3 0 2 1 1 2 2 3 1 0 1 1 3 0 1 1 0 0 3 2 1 3 0 0 1 1\n",
            " 3 3 0 3 3 2 2 0 3 2 1 0 1 1 0 1 0 3 3 2 3 1 1 1 1 0 3 3 2 0 1 1 2 1 0 2 2\n",
            " 1 3 1 0 3 3 2 1 0 2 2 1 3 0 0 1 2 3 0 0 0 1 3 0 0 3 2 3 0 2 0 3 0 0 3 0 2\n",
            " 2 3 3 3 0 3 3 2 2 3 1 2 2 2 0 3 2 2 3 2 3 0 2 2 0 0 2 0 1 0 0 1 0 1 2 1 3\n",
            " 3 1 0 3 0 1 0 2 3 2 2 0 2 3 3 0 3 1 2 1 0 2 2 2 0 2 0 3 2 1 0 2 3 0 2 3 2\n",
            " 1 3 3 3 3 0 3 1 2 3 2 0 3 1 0 1 2 2 1 1 1 1 3 3 0 1 2 2 1 1 0 0 3 1 0 0 3\n",
            " 2]\n"
          ],
          "name": "stdout"
        }
      ]
    },
    {
      "cell_type": "code",
      "metadata": {
        "colab": {
          "base_uri": "https://localhost:8080/",
          "height": 1000
        },
        "id": "mQ8eW5Rg9KdQ",
        "outputId": "38884593-7c56-48f0-e0ec-1c05c3da8c52"
      },
      "source": [
        "print (\"Cross validation\")\n",
        "do_cross_validation(X_train,y_train,model,X_VALID,Y_VALID)  \n",
        "print (\"Done\")"
      ],
      "execution_count": 10,
      "outputs": [
        {
          "output_type": "stream",
          "text": [
            "Cross validation\n",
            "COMPILE...\n",
            "...COMPILED\n",
            "FIT\n",
            "Epoch 1/20\n",
            "338/338 [==============================] - 6s 10ms/step - loss: 0.6958 - accuracy: 0.4907 - val_loss: 0.6925 - val_accuracy: 0.5167\n",
            "INFO:tensorflow:Assets written to: /content/drive/My Drive/data/JUNK2.cv.1.best/assets\n",
            "Epoch 2/20\n",
            "338/338 [==============================] - 3s 8ms/step - loss: 0.6944 - accuracy: 0.5060 - val_loss: 0.6930 - val_accuracy: 0.5167\n",
            "Epoch 3/20\n",
            "338/338 [==============================] - 3s 8ms/step - loss: 0.6943 - accuracy: 0.4988 - val_loss: 0.6926 - val_accuracy: 0.5167\n",
            "Epoch 4/20\n",
            "338/338 [==============================] - 3s 8ms/step - loss: 0.6948 - accuracy: 0.5074 - val_loss: 0.6931 - val_accuracy: 0.5233\n",
            "INFO:tensorflow:Assets written to: /content/drive/My Drive/data/JUNK2.cv.1.best/assets\n",
            "Epoch 5/20\n",
            "338/338 [==============================] - 3s 8ms/step - loss: 0.6929 - accuracy: 0.5168 - val_loss: 0.6624 - val_accuracy: 0.6042\n",
            "INFO:tensorflow:Assets written to: /content/drive/My Drive/data/JUNK2.cv.1.best/assets\n",
            "Epoch 6/20\n",
            "338/338 [==============================] - 3s 8ms/step - loss: 0.6644 - accuracy: 0.6074 - val_loss: 0.6121 - val_accuracy: 0.6775\n",
            "INFO:tensorflow:Assets written to: /content/drive/My Drive/data/JUNK2.cv.1.best/assets\n",
            "Epoch 7/20\n",
            "338/338 [==============================] - 3s 8ms/step - loss: 0.5878 - accuracy: 0.6924 - val_loss: 0.4946 - val_accuracy: 0.7792\n",
            "INFO:tensorflow:Assets written to: /content/drive/My Drive/data/JUNK2.cv.1.best/assets\n",
            "Epoch 8/20\n",
            "338/338 [==============================] - 3s 8ms/step - loss: 0.4861 - accuracy: 0.7861 - val_loss: 0.4402 - val_accuracy: 0.8167\n",
            "INFO:tensorflow:Assets written to: /content/drive/My Drive/data/JUNK2.cv.1.best/assets\n",
            "Epoch 9/20\n",
            "338/338 [==============================] - 3s 8ms/step - loss: 0.4177 - accuracy: 0.8337 - val_loss: 0.4340 - val_accuracy: 0.8300\n",
            "INFO:tensorflow:Assets written to: /content/drive/My Drive/data/JUNK2.cv.1.best/assets\n",
            "Epoch 10/20\n",
            "338/338 [==============================] - 3s 8ms/step - loss: 0.3911 - accuracy: 0.8523 - val_loss: 0.4231 - val_accuracy: 0.8358\n",
            "INFO:tensorflow:Assets written to: /content/drive/My Drive/data/JUNK2.cv.1.best/assets\n",
            "Epoch 11/20\n",
            "338/338 [==============================] - 3s 8ms/step - loss: 0.3697 - accuracy: 0.8596 - val_loss: 0.4176 - val_accuracy: 0.8375\n",
            "INFO:tensorflow:Assets written to: /content/drive/My Drive/data/JUNK2.cv.1.best/assets\n",
            "Epoch 12/20\n",
            "338/338 [==============================] - 3s 8ms/step - loss: 0.3443 - accuracy: 0.8778 - val_loss: 0.4278 - val_accuracy: 0.8358\n",
            "Epoch 13/20\n",
            "338/338 [==============================] - 3s 8ms/step - loss: 0.3257 - accuracy: 0.8819 - val_loss: 0.4473 - val_accuracy: 0.8308\n",
            "Epoch 14/20\n",
            "338/338 [==============================] - 3s 7ms/step - loss: 0.2964 - accuracy: 0.8941 - val_loss: 0.4606 - val_accuracy: 0.8342\n",
            "Epoch 15/20\n",
            "338/338 [==============================] - 3s 8ms/step - loss: 0.2824 - accuracy: 0.9009 - val_loss: 0.4657 - val_accuracy: 0.8358\n",
            "Epoch 16/20\n",
            "338/338 [==============================] - 3s 8ms/step - loss: 0.2647 - accuracy: 0.9084 - val_loss: 0.4969 - val_accuracy: 0.8225\n",
            "Epoch 17/20\n",
            "338/338 [==============================] - 3s 8ms/step - loss: 0.2631 - accuracy: 0.9077 - val_loss: 0.5041 - val_accuracy: 0.8217\n",
            "Epoch 18/20\n",
            "338/338 [==============================] - 3s 8ms/step - loss: 0.2292 - accuracy: 0.9193 - val_loss: 0.5332 - val_accuracy: 0.8017\n",
            "Epoch 19/20\n",
            "338/338 [==============================] - 3s 8ms/step - loss: 0.2185 - accuracy: 0.9227 - val_loss: 0.5348 - val_accuracy: 0.8183\n",
            "Epoch 20/20\n",
            "338/338 [==============================] - 3s 8ms/step - loss: 0.2035 - accuracy: 0.9289 - val_loss: 0.5305 - val_accuracy: 0.8183\n",
            "Fold 1, 20 epochs, 77 sec\n"
          ],
          "name": "stdout"
        },
        {
          "output_type": "display_data",
          "data": {
            "image/png": "[encoded data removed]",
            "text/plain": [
              "<Figure size 576x360 with 1 Axes>"
            ]
          },
          "metadata": {
            "tags": [],
            "needs_background": "light"
          }
        },
        {
          "output_type": "stream",
          "text": [
            "accuracy: 92.31%\n",
            "COMPILE...\n",
            "...COMPILED\n",
            "FIT\n",
            "Epoch 1/20\n",
            "338/338 [==============================] - 4s 9ms/step - loss: 0.6960 - accuracy: 0.4905 - val_loss: 0.6933 - val_accuracy: 0.5000\n",
            "INFO:tensorflow:Assets written to: /content/drive/My Drive/data/JUNK2.cv.2.best/assets\n",
            "Epoch 2/20\n",
            "338/338 [==============================] - 3s 8ms/step - loss: 0.6944 - accuracy: 0.5076 - val_loss: 0.6932 - val_accuracy: 0.5000\n",
            "Epoch 3/20\n",
            "338/338 [==============================] - 3s 7ms/step - loss: 0.6959 - accuracy: 0.4838 - val_loss: 0.6932 - val_accuracy: 0.5000\n",
            "Epoch 4/20\n",
            "338/338 [==============================] - 3s 8ms/step - loss: 0.6929 - accuracy: 0.5121 - val_loss: 0.6932 - val_accuracy: 0.5000\n",
            "Epoch 5/20\n",
            "338/338 [==============================] - 3s 8ms/step - loss: 0.6942 - accuracy: 0.4954 - val_loss: 0.6935 - val_accuracy: 0.5000\n",
            "Epoch 6/20\n",
            "338/338 [==============================] - 3s 8ms/step - loss: 0.6940 - accuracy: 0.5041 - val_loss: 0.6932 - val_accuracy: 0.5000\n",
            "Epoch 7/20\n",
            "338/338 [==============================] - 3s 8ms/step - loss: 0.6937 - accuracy: 0.4951 - val_loss: 0.6931 - val_accuracy: 0.5000\n",
            "Epoch 8/20\n",
            "338/338 [==============================] - 3s 8ms/step - loss: 0.6936 - accuracy: 0.4930 - val_loss: 0.6933 - val_accuracy: 0.5000\n",
            "Epoch 9/20\n",
            "338/338 [==============================] - 3s 8ms/step - loss: 0.6943 - accuracy: 0.4871 - val_loss: 0.6933 - val_accuracy: 0.5000\n",
            "Epoch 10/20\n",
            "338/338 [==============================] - 3s 8ms/step - loss: 0.6936 - accuracy: 0.5004 - val_loss: 0.6934 - val_accuracy: 0.5000\n",
            "Epoch 11/20\n",
            "338/338 [==============================] - 3s 8ms/step - loss: 0.6938 - accuracy: 0.4988 - val_loss: 0.6933 - val_accuracy: 0.5000\n",
            "Epoch 12/20\n",
            "338/338 [==============================] - 3s 8ms/step - loss: 0.6928 - accuracy: 0.5142 - val_loss: 0.6530 - val_accuracy: 0.6233\n",
            "INFO:tensorflow:Assets written to: /content/drive/My Drive/data/JUNK2.cv.2.best/assets\n",
            "Epoch 13/20\n",
            "338/338 [==============================] - 3s 8ms/step - loss: 0.6681 - accuracy: 0.5996 - val_loss: 0.6256 - val_accuracy: 0.6483\n",
            "INFO:tensorflow:Assets written to: /content/drive/My Drive/data/JUNK2.cv.2.best/assets\n",
            "Epoch 14/20\n",
            "338/338 [==============================] - 3s 8ms/step - loss: 0.6459 - accuracy: 0.6341 - val_loss: 0.6349 - val_accuracy: 0.6550\n",
            "INFO:tensorflow:Assets written to: /content/drive/My Drive/data/JUNK2.cv.2.best/assets\n",
            "Epoch 15/20\n",
            "338/338 [==============================] - 3s 8ms/step - loss: 0.6222 - accuracy: 0.6618 - val_loss: 0.5911 - val_accuracy: 0.6942\n",
            "INFO:tensorflow:Assets written to: /content/drive/My Drive/data/JUNK2.cv.2.best/assets\n",
            "Epoch 16/20\n",
            "338/338 [==============================] - 3s 8ms/step - loss: 0.5974 - accuracy: 0.6816 - val_loss: 0.5563 - val_accuracy: 0.7117\n",
            "INFO:tensorflow:Assets written to: /content/drive/My Drive/data/JUNK2.cv.2.best/assets\n",
            "Epoch 17/20\n",
            "338/338 [==============================] - 3s 8ms/step - loss: 0.5551 - accuracy: 0.7287 - val_loss: 0.5064 - val_accuracy: 0.7733\n",
            "INFO:tensorflow:Assets written to: /content/drive/My Drive/data/JUNK2.cv.2.best/assets\n",
            "Epoch 18/20\n",
            "338/338 [==============================] - 3s 8ms/step - loss: 0.4885 - accuracy: 0.7898 - val_loss: 0.4259 - val_accuracy: 0.8375\n",
            "INFO:tensorflow:Assets written to: /content/drive/My Drive/data/JUNK2.cv.2.best/assets\n",
            "Epoch 19/20\n",
            "338/338 [==============================] - 3s 8ms/step - loss: 0.4300 - accuracy: 0.8302 - val_loss: 0.4056 - val_accuracy: 0.8508\n",
            "INFO:tensorflow:Assets written to: /content/drive/My Drive/data/JUNK2.cv.2.best/assets\n",
            "Epoch 20/20\n",
            "338/338 [==============================] - 3s 8ms/step - loss: 0.4105 - accuracy: 0.8442 - val_loss: 0.4049 - val_accuracy: 0.8533\n",
            "INFO:tensorflow:Assets written to: /content/drive/My Drive/data/JUNK2.cv.2.best/assets\n",
            "Fold 2, 20 epochs, 79 sec\n"
          ],
          "name": "stdout"
        },
        {
          "output_type": "display_data",
          "data": {
            "image/png": "[encoded data removed]",
            "text/plain": [
              "<Figure size 576x360 with 1 Axes>"
            ]
          },
          "metadata": {
            "tags": [],
            "needs_background": "light"
          }
        },
        {
          "output_type": "stream",
          "text": [
            "accuracy: 93.52%\n",
            "COMPILE...\n",
            "...COMPILED\n",
            "FIT\n",
            "Epoch 1/20\n",
            "338/338 [==============================] - 4s 9ms/step - loss: 0.6971 - accuracy: 0.5029 - val_loss: 0.6930 - val_accuracy: 0.5083\n",
            "INFO:tensorflow:Assets written to: /content/drive/My Drive/data/JUNK2.cv.3.best/assets\n",
            "Epoch 2/20\n",
            "338/338 [==============================] - 3s 8ms/step - loss: 0.6947 - accuracy: 0.4945 - val_loss: 0.6931 - val_accuracy: 0.5083\n",
            "Epoch 3/20\n",
            "338/338 [==============================] - 3s 8ms/step - loss: 0.6923 - accuracy: 0.5261 - val_loss: 0.6731 - val_accuracy: 0.5833\n",
            "INFO:tensorflow:Assets written to: /content/drive/My Drive/data/JUNK2.cv.3.best/assets\n",
            "Epoch 4/20\n",
            "338/338 [==============================] - 3s 8ms/step - loss: 0.6635 - accuracy: 0.6028 - val_loss: 0.6728 - val_accuracy: 0.5892\n",
            "INFO:tensorflow:Assets written to: /content/drive/My Drive/data/JUNK2.cv.3.best/assets\n",
            "Epoch 5/20\n",
            "338/338 [==============================] - 3s 8ms/step - loss: 0.6391 - accuracy: 0.6434 - val_loss: 0.6147 - val_accuracy: 0.6683\n",
            "INFO:tensorflow:Assets written to: /content/drive/My Drive/data/JUNK2.cv.3.best/assets\n",
            "Epoch 6/20\n",
            "338/338 [==============================] - 3s 8ms/step - loss: 0.5921 - accuracy: 0.6924 - val_loss: 0.5826 - val_accuracy: 0.7000\n",
            "INFO:tensorflow:Assets written to: /content/drive/My Drive/data/JUNK2.cv.3.best/assets\n",
            "Epoch 7/20\n",
            "338/338 [==============================] - 3s 8ms/step - loss: 0.5570 - accuracy: 0.7260 - val_loss: 0.5935 - val_accuracy: 0.6925\n",
            "Epoch 8/20\n",
            "338/338 [==============================] - 3s 8ms/step - loss: 0.5111 - accuracy: 0.7554 - val_loss: 0.5610 - val_accuracy: 0.7175\n",
            "INFO:tensorflow:Assets written to: /content/drive/My Drive/data/JUNK2.cv.3.best/assets\n",
            "Epoch 9/20\n",
            "338/338 [==============================] - 3s 8ms/step - loss: 0.4811 - accuracy: 0.7769 - val_loss: 0.5466 - val_accuracy: 0.7350\n",
            "INFO:tensorflow:Assets written to: /content/drive/My Drive/data/JUNK2.cv.3.best/assets\n",
            "Epoch 10/20\n",
            "338/338 [==============================] - 3s 8ms/step - loss: 0.4205 - accuracy: 0.8197 - val_loss: 0.5210 - val_accuracy: 0.7667\n",
            "INFO:tensorflow:Assets written to: /content/drive/My Drive/data/JUNK2.cv.3.best/assets\n",
            "Epoch 11/20\n",
            "338/338 [==============================] - 3s 8ms/step - loss: 0.3838 - accuracy: 0.8394 - val_loss: 0.5543 - val_accuracy: 0.7583\n",
            "Epoch 12/20\n",
            "338/338 [==============================] - 3s 8ms/step - loss: 0.3367 - accuracy: 0.8700 - val_loss: 0.5479 - val_accuracy: 0.7608\n",
            "Epoch 13/20\n",
            "338/338 [==============================] - 3s 8ms/step - loss: 0.3168 - accuracy: 0.8739 - val_loss: 0.6563 - val_accuracy: 0.7142\n",
            "Epoch 14/20\n",
            "338/338 [==============================] - 3s 8ms/step - loss: 0.2777 - accuracy: 0.8952 - val_loss: 0.5539 - val_accuracy: 0.7808\n",
            "INFO:tensorflow:Assets written to: /content/drive/My Drive/data/JUNK2.cv.3.best/assets\n",
            "Epoch 15/20\n",
            "338/338 [==============================] - 3s 8ms/step - loss: 0.2547 - accuracy: 0.9028 - val_loss: 0.6150 - val_accuracy: 0.7575\n",
            "Epoch 16/20\n",
            "338/338 [==============================] - 3s 8ms/step - loss: 0.2432 - accuracy: 0.9076 - val_loss: 0.6491 - val_accuracy: 0.7425\n",
            "Epoch 17/20\n",
            "338/338 [==============================] - 3s 8ms/step - loss: 0.2078 - accuracy: 0.9235 - val_loss: 0.6302 - val_accuracy: 0.7658\n",
            "Epoch 18/20\n",
            "338/338 [==============================] - 3s 8ms/step - loss: 0.1955 - accuracy: 0.9290 - val_loss: 0.6775 - val_accuracy: 0.7542\n",
            "Epoch 19/20\n",
            "338/338 [==============================] - 3s 8ms/step - loss: 0.1819 - accuracy: 0.9349 - val_loss: 0.7040 - val_accuracy: 0.7550\n",
            "Epoch 20/20\n",
            "338/338 [==============================] - 3s 8ms/step - loss: 0.1712 - accuracy: 0.9366 - val_loss: 0.7090 - val_accuracy: 0.7542\n",
            "Fold 3, 20 epochs, 77 sec\n"
          ],
          "name": "stdout"
        },
        {
          "output_type": "display_data",
          "data": {
            "image/png": "[encoded data removed]",
            "text/plain": [
              "<Figure size 576x360 with 1 Axes>"
            ]
          },
          "metadata": {
            "tags": [],
            "needs_background": "light"
          }
        },
        {
          "output_type": "stream",
          "text": [
            "accuracy: 83.39%\n",
            "COMPILE...\n",
            "...COMPILED\n",
            "FIT\n",
            "Epoch 1/20\n",
            "338/338 [==============================] - 4s 9ms/step - loss: 0.6976 - accuracy: 0.4947 - val_loss: 0.6934 - val_accuracy: 0.4967\n",
            "INFO:tensorflow:Assets written to: /content/drive/My Drive/data/JUNK2.cv.4.best/assets\n",
            "Epoch 2/20\n",
            "338/338 [==============================] - 3s 8ms/step - loss: 0.6954 - accuracy: 0.4987 - val_loss: 0.6931 - val_accuracy: 0.5033\n",
            "INFO:tensorflow:Assets written to: /content/drive/My Drive/data/JUNK2.cv.4.best/assets\n",
            "Epoch 3/20\n",
            "338/338 [==============================] - 3s 8ms/step - loss: 0.6942 - accuracy: 0.5164 - val_loss: 0.6936 - val_accuracy: 0.4967\n",
            "Epoch 4/20\n",
            "338/338 [==============================] - 3s 8ms/step - loss: 0.6948 - accuracy: 0.4930 - val_loss: 0.6934 - val_accuracy: 0.4967\n",
            "Epoch 5/20\n",
            "338/338 [==============================] - 3s 8ms/step - loss: 0.6940 - accuracy: 0.5043 - val_loss: 0.6932 - val_accuracy: 0.4967\n",
            "Epoch 6/20\n",
            "338/338 [==============================] - 3s 8ms/step - loss: 0.6949 - accuracy: 0.4962 - val_loss: 0.6931 - val_accuracy: 0.5033\n",
            "Epoch 7/20\n",
            "338/338 [==============================] - 3s 8ms/step - loss: 0.6943 - accuracy: 0.4989 - val_loss: 0.6932 - val_accuracy: 0.5033\n",
            "Epoch 8/20\n",
            "338/338 [==============================] - 3s 8ms/step - loss: 0.6936 - accuracy: 0.5001 - val_loss: 0.6932 - val_accuracy: 0.4975\n",
            "Epoch 9/20\n",
            "338/338 [==============================] - 3s 8ms/step - loss: 0.6939 - accuracy: 0.4976 - val_loss: 0.6933 - val_accuracy: 0.5033\n",
            "Epoch 10/20\n",
            "338/338 [==============================] - 3s 8ms/step - loss: 0.6948 - accuracy: 0.4943 - val_loss: 0.6936 - val_accuracy: 0.4967\n",
            "Epoch 11/20\n",
            "338/338 [==============================] - 3s 8ms/step - loss: 0.6939 - accuracy: 0.4946 - val_loss: 0.6931 - val_accuracy: 0.5083\n",
            "INFO:tensorflow:Assets written to: /content/drive/My Drive/data/JUNK2.cv.4.best/assets\n",
            "Epoch 12/20\n",
            "338/338 [==============================] - 3s 8ms/step - loss: 0.6933 - accuracy: 0.5043 - val_loss: 0.6932 - val_accuracy: 0.5033\n",
            "Epoch 13/20\n",
            "338/338 [==============================] - 3s 8ms/step - loss: 0.6933 - accuracy: 0.5014 - val_loss: 0.6698 - val_accuracy: 0.5875\n",
            "INFO:tensorflow:Assets written to: /content/drive/My Drive/data/JUNK2.cv.4.best/assets\n",
            "Epoch 14/20\n",
            "338/338 [==============================] - 3s 8ms/step - loss: 0.6781 - accuracy: 0.5755 - val_loss: 0.6613 - val_accuracy: 0.6058\n",
            "INFO:tensorflow:Assets written to: /content/drive/My Drive/data/JUNK2.cv.4.best/assets\n",
            "Epoch 15/20\n",
            "338/338 [==============================] - 3s 8ms/step - loss: 0.6695 - accuracy: 0.6013 - val_loss: 0.6532 - val_accuracy: 0.6258\n",
            "INFO:tensorflow:Assets written to: /content/drive/My Drive/data/JUNK2.cv.4.best/assets\n",
            "Epoch 16/20\n",
            "338/338 [==============================] - 3s 8ms/step - loss: 0.6493 - accuracy: 0.6266 - val_loss: 0.6507 - val_accuracy: 0.6175\n",
            "Epoch 17/20\n",
            "338/338 [==============================] - 3s 8ms/step - loss: 0.6470 - accuracy: 0.6258 - val_loss: 0.6225 - val_accuracy: 0.6583\n",
            "INFO:tensorflow:Assets written to: /content/drive/My Drive/data/JUNK2.cv.4.best/assets\n",
            "Epoch 18/20\n",
            "338/338 [==============================] - 3s 8ms/step - loss: 0.6265 - accuracy: 0.6546 - val_loss: 0.6100 - val_accuracy: 0.6683\n",
            "INFO:tensorflow:Assets written to: /content/drive/My Drive/data/JUNK2.cv.4.best/assets\n",
            "Epoch 19/20\n",
            "338/338 [==============================] - 3s 8ms/step - loss: 0.6166 - accuracy: 0.6621 - val_loss: 0.5833 - val_accuracy: 0.7017\n",
            "INFO:tensorflow:Assets written to: /content/drive/My Drive/data/JUNK2.cv.4.best/assets\n",
            "Epoch 20/20\n",
            "338/338 [==============================] - 3s 8ms/step - loss: 0.5714 - accuracy: 0.7196 - val_loss: 0.4716 - val_accuracy: 0.8083\n",
            "INFO:tensorflow:Assets written to: /content/drive/My Drive/data/JUNK2.cv.4.best/assets\n",
            "Fold 4, 20 epochs, 80 sec\n"
          ],
          "name": "stdout"
        },
        {
          "output_type": "display_data",
          "data": {
            "image/png": "[encoded data removed]",
            "text/plain": [
              "<Figure size 576x360 with 1 Axes>"
            ]
          },
          "metadata": {
            "tags": [],
            "needs_background": "light"
          }
        },
        {
          "output_type": "stream",
          "text": [
            "accuracy: 88.63%\n",
            "COMPILE...\n",
            "...COMPILED\n",
            "FIT\n",
            "Epoch 1/20\n",
            "338/338 [==============================] - 4s 9ms/step - loss: 0.6989 - accuracy: 0.5175 - val_loss: 0.6941 - val_accuracy: 0.4733\n",
            "INFO:tensorflow:Assets written to: /content/drive/My Drive/data/JUNK2.cv.5.best/assets\n",
            "Epoch 2/20\n",
            "338/338 [==============================] - 3s 8ms/step - loss: 0.6949 - accuracy: 0.5040 - val_loss: 0.6813 - val_accuracy: 0.5700\n",
            "INFO:tensorflow:Assets written to: /content/drive/My Drive/data/JUNK2.cv.5.best/assets\n",
            "Epoch 3/20\n",
            "338/338 [==============================] - 3s 8ms/step - loss: 0.6854 - accuracy: 0.5545 - val_loss: 0.6946 - val_accuracy: 0.5483\n",
            "Epoch 4/20\n",
            "338/338 [==============================] - 3s 8ms/step - loss: 0.6735 - accuracy: 0.5841 - val_loss: 0.6731 - val_accuracy: 0.5717\n",
            "INFO:tensorflow:Assets written to: /content/drive/My Drive/data/JUNK2.cv.5.best/assets\n",
            "Epoch 5/20\n",
            "338/338 [==============================] - 3s 8ms/step - loss: 0.6617 - accuracy: 0.6085 - val_loss: 0.6738 - val_accuracy: 0.5900\n",
            "INFO:tensorflow:Assets written to: /content/drive/My Drive/data/JUNK2.cv.5.best/assets\n",
            "Epoch 6/20\n",
            "338/338 [==============================] - 3s 8ms/step - loss: 0.6479 - accuracy: 0.6292 - val_loss: 0.6513 - val_accuracy: 0.6150\n",
            "INFO:tensorflow:Assets written to: /content/drive/My Drive/data/JUNK2.cv.5.best/assets\n",
            "Epoch 7/20\n",
            "338/338 [==============================] - 3s 8ms/step - loss: 0.6313 - accuracy: 0.6509 - val_loss: 0.6371 - val_accuracy: 0.6458\n",
            "INFO:tensorflow:Assets written to: /content/drive/My Drive/data/JUNK2.cv.5.best/assets\n",
            "Epoch 8/20\n",
            "338/338 [==============================] - 3s 8ms/step - loss: 0.5940 - accuracy: 0.6915 - val_loss: 0.6399 - val_accuracy: 0.6367\n",
            "Epoch 9/20\n",
            "338/338 [==============================] - 3s 8ms/step - loss: 0.5597 - accuracy: 0.7219 - val_loss: 0.6358 - val_accuracy: 0.6500\n",
            "INFO:tensorflow:Assets written to: /content/drive/My Drive/data/JUNK2.cv.5.best/assets\n",
            "Epoch 10/20\n",
            "338/338 [==============================] - 3s 8ms/step - loss: 0.5254 - accuracy: 0.7448 - val_loss: 0.6542 - val_accuracy: 0.6458\n",
            "Epoch 11/20\n",
            "338/338 [==============================] - 3s 8ms/step - loss: 0.4689 - accuracy: 0.7868 - val_loss: 0.6667 - val_accuracy: 0.6483\n",
            "Epoch 12/20\n",
            "338/338 [==============================] - 3s 8ms/step - loss: 0.4245 - accuracy: 0.8102 - val_loss: 0.7431 - val_accuracy: 0.6300\n",
            "Epoch 13/20\n",
            "338/338 [==============================] - 3s 8ms/step - loss: 0.3976 - accuracy: 0.8283 - val_loss: 0.6952 - val_accuracy: 0.6567\n",
            "INFO:tensorflow:Assets written to: /content/drive/My Drive/data/JUNK2.cv.5.best/assets\n",
            "Epoch 14/20\n",
            "338/338 [==============================] - 3s 8ms/step - loss: 0.3503 - accuracy: 0.8510 - val_loss: 0.7472 - val_accuracy: 0.6625\n",
            "INFO:tensorflow:Assets written to: /content/drive/My Drive/data/JUNK2.cv.5.best/assets\n",
            "Epoch 15/20\n",
            "338/338 [==============================] - 3s 8ms/step - loss: 0.3023 - accuracy: 0.8769 - val_loss: 0.8161 - val_accuracy: 0.6483\n",
            "Epoch 16/20\n",
            "338/338 [==============================] - 3s 8ms/step - loss: 0.2780 - accuracy: 0.8840 - val_loss: 0.8531 - val_accuracy: 0.6308\n",
            "Epoch 17/20\n",
            "338/338 [==============================] - 3s 8ms/step - loss: 0.2490 - accuracy: 0.9032 - val_loss: 1.0031 - val_accuracy: 0.6233\n",
            "Epoch 18/20\n",
            "338/338 [==============================] - 3s 8ms/step - loss: 0.2242 - accuracy: 0.9138 - val_loss: 0.9725 - val_accuracy: 0.6308\n",
            "Epoch 19/20\n",
            "338/338 [==============================] - 3s 8ms/step - loss: 0.2027 - accuracy: 0.9250 - val_loss: 1.0700 - val_accuracy: 0.6317\n",
            "Epoch 20/20\n",
            "338/338 [==============================] - 3s 8ms/step - loss: 0.1837 - accuracy: 0.9320 - val_loss: 1.1018 - val_accuracy: 0.6300\n",
            "Fold 5, 20 epochs, 79 sec\n"
          ],
          "name": "stdout"
        },
        {
          "output_type": "display_data",
          "data": {
            "image/png": "[encoded data removed]",
            "text/plain": [
              "<Figure size 576x360 with 1 Axes>"
            ]
          },
          "metadata": {
            "tags": [],
            "needs_background": "light"
          }
        },
        {
          "output_type": "stream",
          "text": [
            "accuracy: 66.66%\n",
            "\n",
            "5-way Cross Validation mean 84.90% (+/- 9.78%)\n",
            "Done\n"
          ],
          "name": "stdout"
        }
      ]
    },
    {
      "cell_type": "code",
      "metadata": {
        "id": "p4fh2GI8beMQ"
      },
      "source": [
        ""
      ],
      "execution_count": 10,
      "outputs": []
    }
  ]
}