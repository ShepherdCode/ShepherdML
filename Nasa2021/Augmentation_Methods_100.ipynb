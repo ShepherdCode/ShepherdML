{
  "nbformat": 4,
  "nbformat_minor": 0,
  "metadata": {
    "colab": {
      "name": "Augmentation_Exploration_a.ipynb",
      "provenance": [],
      "authorship_tag": "ABX9TyPs7p/UHD6ZiEYQFN1hi7sT",
      "include_colab_link": true
    },
    "kernelspec": {
      "name": "python3",
      "display_name": "Python 3"
    }
  },
  "cells": [
    {
      "cell_type": "markdown",
      "metadata": {
        "id": "view-in-github",
        "colab_type": "text"
      },
      "source": [
        "<a href=\"https://colab.research.google.com/github/ShepherdCode/ShepherdML/blob/master/Nasa2021/Augmentation_Methods_100.ipynb\" target=\"_parent\"><img src=\"https://colab.research.google.com/assets/colab-badge.svg\" alt=\"Open In Colab\"/></a>"
      ]
    },
    {
      "cell_type": "markdown",
      "metadata": {
        "id": "Av26_4v5Ln2m"
      },
      "source": [
        "# Augmentation Exploration"
      ]
    },
    {
      "cell_type": "markdown",
      "metadata": {
        "id": "2OzglE0YiZXc"
      },
      "source": [
        "A set of all possible codons to choose when generating a test sequence"
      ]
    },
    {
      "cell_type": "code",
      "metadata": {
        "colab": {
          "base_uri": "https://localhost:8080/"
        },
        "id": "y3jjGGDtK-bn",
        "outputId": "32f4ca78-ddf6-47ef-83a2-687f1383937b"
      },
      "source": [
        "import itertools\r\n",
        "Pairs = [\"A\",\"C\", \"G\", \"T\"]\r\n",
        "\r\n",
        "Codons = itertools.product(Pairs, repeat=3)\r\n",
        "#for codon in Codons:\r\n",
        "  #print(\"\".join(list(codon)))\r\n",
        "\r\n",
        "all_codons = [\"\".join(list(codon)) for codon in Codons]\r\n",
        "all_codons"
      ],
      "execution_count": 13,
      "outputs": [
        {
          "output_type": "execute_result",
          "data": {
            "text/plain": [
              "['AAA',\n",
              " 'AAC',\n",
              " 'AAG',\n",
              " 'AAT',\n",
              " 'ACA',\n",
              " 'ACC',\n",
              " 'ACG',\n",
              " 'ACT',\n",
              " 'AGA',\n",
              " 'AGC',\n",
              " 'AGG',\n",
              " 'AGT',\n",
              " 'ATA',\n",
              " 'ATC',\n",
              " 'ATG',\n",
              " 'ATT',\n",
              " 'CAA',\n",
              " 'CAC',\n",
              " 'CAG',\n",
              " 'CAT',\n",
              " 'CCA',\n",
              " 'CCC',\n",
              " 'CCG',\n",
              " 'CCT',\n",
              " 'CGA',\n",
              " 'CGC',\n",
              " 'CGG',\n",
              " 'CGT',\n",
              " 'CTA',\n",
              " 'CTC',\n",
              " 'CTG',\n",
              " 'CTT',\n",
              " 'GAA',\n",
              " 'GAC',\n",
              " 'GAG',\n",
              " 'GAT',\n",
              " 'GCA',\n",
              " 'GCC',\n",
              " 'GCG',\n",
              " 'GCT',\n",
              " 'GGA',\n",
              " 'GGC',\n",
              " 'GGG',\n",
              " 'GGT',\n",
              " 'GTA',\n",
              " 'GTC',\n",
              " 'GTG',\n",
              " 'GTT',\n",
              " 'TAA',\n",
              " 'TAC',\n",
              " 'TAG',\n",
              " 'TAT',\n",
              " 'TCA',\n",
              " 'TCC',\n",
              " 'TCG',\n",
              " 'TCT',\n",
              " 'TGA',\n",
              " 'TGC',\n",
              " 'TGG',\n",
              " 'TGT',\n",
              " 'TTA',\n",
              " 'TTC',\n",
              " 'TTG',\n",
              " 'TTT']"
            ]
          },
          "metadata": {
            "tags": []
          },
          "execution_count": 13
        }
      ]
    },
    {
      "cell_type": "markdown",
      "metadata": {
        "id": "QfnT2s14jz7H"
      },
      "source": [
        "Building an example sequence just to test methods of augmentation"
      ]
    },
    {
      "cell_type": "code",
      "metadata": {
        "colab": {
          "base_uri": "https://localhost:8080/"
        },
        "id": "xNTZYjdPg1l9",
        "outputId": "5ffacd75-d17f-4103-e1f9-56479622e76e"
      },
      "source": [
        "import random\r\n",
        "random.seed(a=42)\r\n",
        "def build_sequence_test(options, length):\r\n",
        "  output = []\r\n",
        "  for i in range(length):\r\n",
        "    output += random.choice(options)\r\n",
        "  return \"\".join(output)\r\n",
        "\r\n",
        "to_test_on = build_sequence_test(all_codons, 10)\r\n",
        "print(to_test_on)\r\n",
        "print(\"Reversed: \")\r\n",
        "print(to_test_on[::-1])\r\n",
        "\r\n",
        "def split_reverse(sequence):\r\n",
        "  splitIndex = len(sequence) //2\r\n",
        "  even = len(sequence)%2 == 0\r\n",
        "  output = []\r\n",
        "  if even:\r\n",
        "    output.append(sequence[0:splitIndex][::-1])\r\n",
        "    output.append(sequence[splitIndex:len(sequence)][::-1])\r\n",
        "    return \"\".join(output)\r\n",
        "  else:\r\n",
        "    output.append(sequence[0:splitIndex][::-1])\r\n",
        "    output.append(sequence[splitIndex])\r\n",
        "    output.append(sequence[splitIndex+1:len(sequence)][::-1])\r\n",
        "    return \"\".join(output)\r\n",
        "\r\n"
      ],
      "execution_count": 46,
      "outputs": [
        {
          "output_type": "stream",
          "text": [
            "ATGAATGATCTTCTACACATCAGTTCGACA\n",
            "Reversed: \n",
            "ACAGCTTGACTACACATCTTCTAGTAAGTA\n"
          ],
          "name": "stdout"
        }
      ]
    },
    {
      "cell_type": "markdown",
      "metadata": {
        "id": "5uzp2M-CsVuR"
      },
      "source": [
        "Testing the method on ABCDE and ABCD should return BACED and BADC respectively"
      ]
    },
    {
      "cell_type": "code",
      "metadata": {
        "colab": {
          "base_uri": "https://localhost:8080/"
        },
        "id": "ZgaeSFcFls-u",
        "outputId": "73c23559-0673-41be-9065-b1521d1616fd"
      },
      "source": [
        "print(split_reverse('ABCDE'))\r\n",
        "print(split_reverse('ABCD'))"
      ],
      "execution_count": 47,
      "outputs": [
        {
          "output_type": "stream",
          "text": [
            "BACED\n",
            "BADC\n"
          ],
          "name": "stdout"
        }
      ]
    },
    {
      "cell_type": "markdown",
      "metadata": {
        "id": "19JE5D-DsewW"
      },
      "source": [
        "Now let's test it on a sequence!"
      ]
    },
    {
      "cell_type": "code",
      "metadata": {
        "colab": {
          "base_uri": "https://localhost:8080/"
        },
        "id": "bHJ20m2PsjtL",
        "outputId": "60af6a67-edd6-406d-e3b1-cc0df8a5cc28"
      },
      "source": [
        "print(to_test_on + \" Split and reversed is: \")\r\n",
        "print(split_reverse(to_test_on))"
      ],
      "execution_count": 48,
      "outputs": [
        {
          "output_type": "stream",
          "text": [
            "ATGAATGATCTTCTACACATCAGTTCGACA Split and reversed is: \n",
            "ATCTTCTAGTAAGTAACAGCTTGACTACAC\n"
          ],
          "name": "stdout"
        }
      ]
    }
  ]
}