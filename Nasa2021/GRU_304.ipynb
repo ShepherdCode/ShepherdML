{
  "nbformat": 4,
  "nbformat_minor": 0,
  "metadata": {
    "accelerator": "GPU",
    "colab": {
      "name": "GRU_304.ipynb",
      "provenance": [],
      "collapsed_sections": []
    },
    "kernelspec": {
      "display_name": "Python 3",
      "language": "python",
      "name": "python3"
    },
    "language_info": {
      "codemirror_mode": {
        "name": "ipython",
        "version": 3
      },
      "file_extension": ".py",
      "mimetype": "text/x-python",
      "name": "python",
      "nbconvert_exporter": "python",
      "pygments_lexer": "ipython3",
      "version": "3.8.3"
    }
  },
  "cells": [
    {
      "cell_type": "markdown",
      "metadata": {
        "id": "ojm_6E9f9Kcf"
      },
      "source": [
        "# GRU 304\n",
        "Start with GRU 301 which did train on long, test on short.\n",
        "Here train on long, test on all."
      ]
    },
    {
      "cell_type": "code",
      "metadata": {
        "colab": {
          "base_uri": "https://localhost:8080/"
        },
        "id": "hh6XplUvC0j0",
        "outputId": "1f08e38d-ccb2-40e9-e9f3-d97f00c4e1f0"
      },
      "source": [
        "TRAIN_NC_FILENAME='ncRNA.gc36.long.fasta'\n",
        "TRAIN_PC_FILENAME='pcRNA.gc36.long.fasta'\n",
        "VALID_NC_FILENAME='ncRNA.gc36.all.fasta'\n",
        "VALID_PC_FILENAME='pcRNA.gc36.all.fasta'\n",
        "#NC_FILENAME='ncRNA.tiny50.fasta'\n",
        "#PC_FILENAME='pcRNA.tiny50.fasta'\n",
        "#NC_FILENAME='ncRNA.gc34.processed.fasta'\n",
        "#PC_FILENAME='pcRNA.gc34.processed.fasta'\n",
        "\n",
        "MODEL_FILE='JUNK2'  # change this if you want to keep models\n",
        "DATAPATH=''\n",
        "\n",
        "try:\n",
        "    from google.colab import drive\n",
        "    IN_COLAB = True\n",
        "    PATH='/content/drive/'\n",
        "    drive.mount(PATH)\n",
        "    DATAPATH=PATH+'My Drive/data/'  # must end in \"/\"\n",
        "except:\n",
        "    IN_COLAB = False\n",
        "    DATAPATH='data/'  # must end in \"/\"\n",
        "TRAIN_NC_FILENAME = DATAPATH+TRAIN_NC_FILENAME\n",
        "TRAIN_PC_FILENAME = DATAPATH+TRAIN_PC_FILENAME\n",
        "VALID_NC_FILENAME = DATAPATH+VALID_NC_FILENAME\n",
        "VALID_PC_FILENAME = DATAPATH+VALID_PC_FILENAME\n",
        "MODEL_FILE=DATAPATH+MODEL_FILE\n",
        "\n",
        "EPOCHS=200\n",
        "SPLITS=5\n",
        "ONEHOT=5  \n",
        "NEURONS=64\n",
        "DROP=0.10\n",
        "ACT=\"tanh\"\n",
        "MINLEN=201\n",
        "MAXLEN=2000\n",
        "LIMIT=5588    # This is the size of our smallest set (protein coding short)"
      ],
      "execution_count": 1,
      "outputs": [
        {
          "output_type": "stream",
          "text": [
            "Mounted at /content/drive/\n"
          ],
          "name": "stdout"
        }
      ]
    },
    {
      "cell_type": "code",
      "metadata": {
        "colab": {
          "base_uri": "https://localhost:8080/"
        },
        "id": "e9TY3HK9ZklE",
        "outputId": "cc1f19c5-8e5c-418c-900d-4ea978bb6d33"
      },
      "source": [
        "# Load our own tools\n",
        "# TO DO: don't go to GitHub if the file is already local.\n",
        "GITHUB = True\n",
        "if GITHUB:\n",
        "    #!pip install requests  # Uncomment this if necessary. Seems to be pre-installed.\n",
        "    import requests\n",
        "    r = requests.get('https://raw.githubusercontent.com/ShepherdCode/ShepherdML/master/Strings/tools_fasta.py')\n",
        "    with open('tools_fasta.py', 'w') as f:\n",
        "        f.write(r.text)\n",
        "    # TO DO: delete the file after import\n",
        "import tools_fasta as tools\n",
        "tools.yahoo()  # If this prints \"Yahoo!\" the the import was successful.\n",
        "\n",
        "TOOLS_CHANGED = False   # set to True to re-run with a new version of tools\n",
        "if TOOLS_CHANGED:\n",
        "  from importlib import reload \n",
        "  tools=reload(tools)\n",
        "  print(dir(tools))   # run this to see EVERYTHING in the tools module"
      ],
      "execution_count": 2,
      "outputs": [
        {
          "output_type": "stream",
          "text": [
            "Yahoo!\n"
          ],
          "name": "stdout"
        }
      ]
    },
    {
      "cell_type": "code",
      "metadata": {
        "id": "VQY7aTj29Kch"
      },
      "source": [
        "import numpy as np\n",
        "import pandas as pd\n",
        "import matplotlib.pyplot as plt\n",
        "from sklearn.model_selection import ShuffleSplit\n",
        "from sklearn.model_selection import cross_val_score\n",
        "from sklearn.model_selection import RepeatedKFold\n",
        "from sklearn.model_selection import StratifiedKFold\n",
        "import tensorflow as tf\n",
        "from tensorflow import keras\n",
        "import time\n",
        "dt='float32'\n",
        "tf.keras.backend.set_floatx(dt)"
      ],
      "execution_count": 3,
      "outputs": []
    },
    {
      "cell_type": "markdown",
      "metadata": {
        "id": "j7jcg6Wl9Kc2"
      },
      "source": [
        "Build model"
      ]
    },
    {
      "cell_type": "code",
      "metadata": {
        "id": "qLFNO1Xa9Kc3"
      },
      "source": [
        "def compile_model(model):\n",
        "    ## learn rate = initial_learning_rate * decay_rate ^ (step / decay_steps)\n",
        "    #adam_default_learn_rate = 0.001\n",
        "    #schedule = tf.keras.optimizers.schedules.ExponentialDecay(\n",
        "    #    initial_learning_rate = adam_default_learn_rate*10,\n",
        "    #    decay_steps=10000, decay_rate=0.99, staircase=True)\n",
        "    #alrd = tf.keras.optimizers.Adam(learning_rate=schedule)\n",
        "    #model.compile(loss=bc, optimizer=alrd, metrics=[\"accuracy\"])\n",
        "\n",
        "    print(\"COMPILE...\")\n",
        "    bc=tf.keras.losses.BinaryCrossentropy(from_logits=False)\n",
        "    model.compile(loss=bc, optimizer=\"adam\", metrics=[\"accuracy\"])\n",
        "    print(\"...COMPILED\")\n",
        "    return model\n",
        "\n",
        "def build_model():\n",
        "    MASK=[0,0,0,0,1] # to do: get one_hot('N') from the one_hot() function.\n",
        "    mask_layer = keras.layers.Masking(mask_value=MASK, input_shape=[MAXLEN,ONEHOT])\n",
        "    rlayer1 = keras.layers.GRU(NEURONS, return_sequences=True, \n",
        "        activation=ACT, dropout=DROP )  \n",
        "    rlayer2 = keras.layers.GRU(NEURONS, return_sequences=True, \n",
        "        activation=ACT, dropout=DROP) \n",
        "    rlayer3 = keras.layers.GRU(NEURONS, return_sequences=True, \n",
        "        activation=ACT, dropout=DROP) \n",
        "    rlayer4 = keras.layers.GRU(NEURONS, return_sequences=False, \n",
        "        activation=ACT, dropout=DROP) \n",
        "\n",
        "    dlayer1 = keras.layers.Dense(NEURONS, activation=ACT,dtype=dt)\n",
        "    dlayer2 = keras.layers.Dropout(DROP)\n",
        "    dlayer3 = keras.layers.Dense(NEURONS, activation=ACT,dtype=dt)\n",
        "    dlayer4 = keras.layers.Dropout(DROP)\n",
        "    output_layer = keras.layers.Dense(1, activation=\"sigmoid\", dtype=dt)\n",
        "\n",
        "    rnn = keras.models.Sequential()\n",
        "    rnn.add(mask_layer)\n",
        "    rnn.add(rlayer1)\n",
        "    rnn.add(rlayer2)\n",
        "    rnn.add(rlayer3)\n",
        "    rnn.add(rlayer4)\n",
        "    rnn.add(dlayer1)\n",
        "    rnn.add(dlayer2)\n",
        "    rnn.add(dlayer3)\n",
        "    rnn.add(dlayer4)\n",
        "    rnn.add(output_layer)\n",
        "    compiled = compile_model(rnn)\n",
        "    return compiled"
      ],
      "execution_count": 4,
      "outputs": []
    },
    {
      "cell_type": "markdown",
      "metadata": {
        "id": "LdIS2utq9Kc9"
      },
      "source": [
        "Cross validation"
      ]
    },
    {
      "cell_type": "code",
      "metadata": {
        "id": "BVo4tbB_9Kc-"
      },
      "source": [
        "def do_cross_validation(X_train,y_train,given_model,X_valid,y_valid):\n",
        "    cv_scores = []\n",
        "    fold=0\n",
        "    # When not using ShuffleSplit, make sure to randomize train data.\n",
        "    #splitter = ShuffleSplit(n_splits=SPLITS, test_size=0.1, random_state=37863)\n",
        "    #for train_index,valid_index in splitter.split(X):\n",
        "    while fold < SPLITS:\n",
        "        fold += 1\n",
        "        # Avoid continually improving the same model.\n",
        "        model = compile_model(keras.models.clone_model(given_model))\n",
        "        bestname=MODEL_FILE+\".cv.\"+str(fold)+\".best\"\n",
        "        es = keras.callbacks.EarlyStopping(monitor='val_loss',  \n",
        "            patience=10, verbose=1)\n",
        "        mc = keras.callbacks.ModelCheckpoint(\n",
        "            filepath=bestname, save_best_only=True, \n",
        "            monitor='val_accuracy', mode='max')  \n",
        "        mycallbacks = [es,mc]  \n",
        "        print(\"FIT\")\n",
        "        start_time=time.time()\n",
        "        history=model.fit(X_train, y_train, # batch_size=10, default=32 works nicely\n",
        "                epochs=EPOCHS, verbose=1,  # verbose=1 for ascii art, verbose=0 for none\n",
        "                callbacks=mycallbacks, shuffle=True,\n",
        "                validation_data=(X_valid,y_valid) )\n",
        "        end_time=time.time()\n",
        "        elapsed_time=(end_time-start_time)                        \n",
        "        print(\"Fold %d, %d epochs, %d sec\"%(fold,EPOCHS,elapsed_time))\n",
        "        pd.DataFrame(history.history).plot(figsize=(8,5))\n",
        "        plt.grid(True)\n",
        "        plt.gca().set_ylim(0,1)\n",
        "        plt.show()\n",
        "        best_model=keras.models.load_model(bestname)\n",
        "        scores = best_model.evaluate(X_valid, y_valid, verbose=0)\n",
        "        print(\"%s: %.2f%%\" % (best_model.metrics_names[1], scores[1]*100))\n",
        "        cv_scores.append(scores[1] * 100)  \n",
        "\n",
        "    print()\n",
        "    print(\"%d-way Cross Validation max %.2f%%, mean %.2f%% (+/- %.2f%%)\" % \n",
        "          (fold, np.amax(cv_scores), np.mean(cv_scores), np.std(cv_scores)))"
      ],
      "execution_count": 5,
      "outputs": []
    },
    {
      "cell_type": "markdown",
      "metadata": {
        "id": "qd3Wj_vI9KdP"
      },
      "source": [
        "## Train on RNA lengths 200-1Kb"
      ]
    },
    {
      "cell_type": "code",
      "metadata": {
        "colab": {
          "base_uri": "https://localhost:8080/"
        },
        "id": "G1HuSs8ZbeL4",
        "outputId": "9e1646aa-7032-44d2-c9a8-9931ad1609b1"
      },
      "source": [
        "print (\"Compile the model\")\n",
        "model=build_model()\n",
        "print (\"Summarize the model\")\n",
        "print(model.summary())  # Print this only once\n",
        "#model.save(MODEL_FILE+'.model')\n"
      ],
      "execution_count": 6,
      "outputs": [
        {
          "output_type": "stream",
          "text": [
            "Compile the model\n",
            "COMPILE...\n",
            "...COMPILED\n",
            "Summarize the model\n",
            "Model: \"sequential\"\n",
            "_________________________________________________________________\n",
            "Layer (type)                 Output Shape              Param #   \n",
            "=================================================================\n",
            "masking (Masking)            (None, 2000, 5)           0         \n",
            "_________________________________________________________________\n",
            "gru (GRU)                    (None, 2000, 64)          13632     \n",
            "_________________________________________________________________\n",
            "gru_1 (GRU)                  (None, 2000, 64)          24960     \n",
            "_________________________________________________________________\n",
            "gru_2 (GRU)                  (None, 2000, 64)          24960     \n",
            "_________________________________________________________________\n",
            "gru_3 (GRU)                  (None, 64)                24960     \n",
            "_________________________________________________________________\n",
            "dense (Dense)                (None, 64)                4160      \n",
            "_________________________________________________________________\n",
            "dropout (Dropout)            (None, 64)                0         \n",
            "_________________________________________________________________\n",
            "dense_1 (Dense)              (None, 64)                4160      \n",
            "_________________________________________________________________\n",
            "dropout_1 (Dropout)          (None, 64)                0         \n",
            "_________________________________________________________________\n",
            "dense_2 (Dense)              (None, 1)                 65        \n",
            "=================================================================\n",
            "Total params: 96,897\n",
            "Trainable params: 96,897\n",
            "Non-trainable params: 0\n",
            "_________________________________________________________________\n",
            "None\n"
          ],
          "name": "stdout"
        }
      ]
    },
    {
      "cell_type": "code",
      "metadata": {
        "colab": {
          "base_uri": "https://localhost:8080/"
        },
        "id": "f8fNo6sn9KdH",
        "outputId": "bf89c4bc-23f6-4356-ecfb-f54d46f6a138"
      },
      "source": [
        "def load_data(nc_filename,pc_filename,limit=None):\n",
        "  nc_seq=tools.load_fasta(nc_filename,0)\n",
        "  pc_seq=tools.load_fasta(pc_filename,1)\n",
        "  if limit is not None:\n",
        "    # Choose a random subset of size = limit.\n",
        "    # Side effect: randomizes the data order.\n",
        "    nfrac=1.0*limit/len(nc_seq)\n",
        "    pfrac=1.0*limit/len(pc_seq)\n",
        "    if nfrac<1.0:\n",
        "      nc_seq=nc_seq.sample(frac=nfrac)\n",
        "    if pfrac<1.0:\n",
        "      pc_seq=pc_seq.sample(frac=pfrac)\n",
        "  train_set=pd.concat((nc_seq,pc_seq),axis=0)\n",
        "  # May not need to slice by length if input files already sliced\n",
        "  subset=tools.make_slice(train_set,MINLEN,MAXLEN)\n",
        "  # randset=subset.sample(frac=1) # unneccessary with fit(shuffle)\n",
        "  (X1,y1)=tools.separate_X_and_y(subset)\n",
        "  # X1 is pandas df of (\"list\" of one sequence)\n",
        "  X2=X1.to_numpy()  # numpy ndarray of (\"list\" of one sequence)\n",
        "  X3=[elem[0] for elem in X2]  # numpy dnarray of str\n",
        "  X4=tools.uniform_length(X3,MAXLEN)\n",
        "  X5= [tools.one_hot(x) for x in X4]  \n",
        "  # one-hot leaves ONEHOT=5. TO DO: set 5 automatically\n",
        "  X6=np.asarray(X5)\n",
        "  y6=y1.to_numpy()\n",
        "  return X6,y6\n",
        "\n",
        "print(\"Load train data from files.\")\n",
        "X_train,y_train = load_data(TRAIN_NC_FILENAME,TRAIN_PC_FILENAME,LIMIT)\n",
        "print(\"X_train\",X_train.shape)\n",
        "print(X_train[1])\n",
        "print(\"Load valid data from files.\")\n",
        "X_valid,y_valid = load_data(VALID_NC_FILENAME,VALID_PC_FILENAME,LIMIT)\n",
        "print(\"X_valid\",X_valid.shape)"
      ],
      "execution_count": 7,
      "outputs": [
        {
          "output_type": "stream",
          "text": [
            "Load train data from files.\n",
            "X_train (11176, 2000, 5)\n",
            "[[0 0 1 0 0]\n",
            " [1 0 0 0 0]\n",
            " [1 0 0 0 0]\n",
            " ...\n",
            " [0 0 0 0 1]\n",
            " [0 0 0 0 1]\n",
            " [0 0 0 0 1]]\n",
            "Load valid data from files.\n",
            "X_valid (11176, 2000, 5)\n"
          ],
          "name": "stdout"
        }
      ]
    },
    {
      "cell_type": "code",
      "metadata": {
        "colab": {
          "base_uri": "https://localhost:8080/",
          "height": 1000
        },
        "id": "mQ8eW5Rg9KdQ",
        "outputId": "ac51df5a-70e5-41aa-e148-63bd69705163"
      },
      "source": [
        "print (\"Cross valiation\")\n",
        "do_cross_validation(X_train,y_train,model,X_valid,y_valid)  \n",
        "print (\"Done\")"
      ],
      "execution_count": 8,
      "outputs": [
        {
          "output_type": "stream",
          "text": [
            "Cross valiation\n",
            "COMPILE...\n",
            "...COMPILED\n",
            "FIT\n",
            "Epoch 1/200\n",
            "350/350 [==============================] - 157s 398ms/step - loss: 0.6938 - accuracy: 0.5163 - val_loss: 0.6865 - val_accuracy: 0.5516\n"
          ],
          "name": "stdout"
        },
        {
          "output_type": "stream",
          "text": [
            "WARNING:absl:Found untraced functions such as gru_cell_4_layer_call_fn, gru_cell_4_layer_call_and_return_conditional_losses, gru_cell_5_layer_call_fn, gru_cell_5_layer_call_and_return_conditional_losses, gru_cell_6_layer_call_fn while saving (showing 5 of 20). These functions will not be directly callable after loading.\n",
            "WARNING:absl:Found untraced functions such as gru_cell_4_layer_call_fn, gru_cell_4_layer_call_and_return_conditional_losses, gru_cell_5_layer_call_fn, gru_cell_5_layer_call_and_return_conditional_losses, gru_cell_6_layer_call_fn while saving (showing 5 of 20). These functions will not be directly callable after loading.\n"
          ],
          "name": "stderr"
        },
        {
          "output_type": "stream",
          "text": [
            "INFO:tensorflow:Assets written to: /content/drive/My Drive/data/JUNK2.cv.1.best/assets\n"
          ],
          "name": "stdout"
        },
        {
          "output_type": "stream",
          "text": [
            "INFO:tensorflow:Assets written to: /content/drive/My Drive/data/JUNK2.cv.1.best/assets\n"
          ],
          "name": "stderr"
        },
        {
          "output_type": "stream",
          "text": [
            "Epoch 2/200\n",
            "350/350 [==============================] - 138s 394ms/step - loss: 0.6880 - accuracy: 0.5452 - val_loss: 0.6893 - val_accuracy: 0.5374\n",
            "Epoch 3/200\n",
            "350/350 [==============================] - 139s 399ms/step - loss: 0.6883 - accuracy: 0.5440 - val_loss: 0.7004 - val_accuracy: 0.5137\n",
            "Epoch 4/200\n",
            "350/350 [==============================] - 139s 397ms/step - loss: 0.6816 - accuracy: 0.5643 - val_loss: 0.6942 - val_accuracy: 0.5250\n",
            "Epoch 5/200\n",
            "350/350 [==============================] - 140s 399ms/step - loss: 0.6763 - accuracy: 0.5771 - val_loss: 0.6927 - val_accuracy: 0.5378\n",
            "Epoch 6/200\n",
            "350/350 [==============================] - 140s 400ms/step - loss: 0.6696 - accuracy: 0.5929 - val_loss: 0.6885 - val_accuracy: 0.5367\n",
            "Epoch 7/200\n",
            "350/350 [==============================] - 140s 401ms/step - loss: 0.6691 - accuracy: 0.5932 - val_loss: 0.6921 - val_accuracy: 0.5395\n",
            "Epoch 8/200\n",
            "350/350 [==============================] - 140s 401ms/step - loss: 0.6699 - accuracy: 0.5878 - val_loss: 0.6909 - val_accuracy: 0.5503\n",
            "Epoch 9/200\n",
            "350/350 [==============================] - 141s 403ms/step - loss: 0.6626 - accuracy: 0.6061 - val_loss: 0.6963 - val_accuracy: 0.5367\n",
            "Epoch 10/200\n",
            "350/350 [==============================] - 141s 402ms/step - loss: 0.6634 - accuracy: 0.5984 - val_loss: 0.6898 - val_accuracy: 0.5427\n",
            "Epoch 11/200\n",
            "350/350 [==============================] - 140s 401ms/step - loss: 0.6599 - accuracy: 0.6019 - val_loss: 0.6884 - val_accuracy: 0.5537\n"
          ],
          "name": "stdout"
        },
        {
          "output_type": "stream",
          "text": [
            "WARNING:absl:Found untraced functions such as gru_cell_4_layer_call_fn, gru_cell_4_layer_call_and_return_conditional_losses, gru_cell_5_layer_call_fn, gru_cell_5_layer_call_and_return_conditional_losses, gru_cell_6_layer_call_fn while saving (showing 5 of 20). These functions will not be directly callable after loading.\n",
            "WARNING:absl:Found untraced functions such as gru_cell_4_layer_call_fn, gru_cell_4_layer_call_and_return_conditional_losses, gru_cell_5_layer_call_fn, gru_cell_5_layer_call_and_return_conditional_losses, gru_cell_6_layer_call_fn while saving (showing 5 of 20). These functions will not be directly callable after loading.\n"
          ],
          "name": "stderr"
        },
        {
          "output_type": "stream",
          "text": [
            "INFO:tensorflow:Assets written to: /content/drive/My Drive/data/JUNK2.cv.1.best/assets\n"
          ],
          "name": "stdout"
        },
        {
          "output_type": "stream",
          "text": [
            "INFO:tensorflow:Assets written to: /content/drive/My Drive/data/JUNK2.cv.1.best/assets\n"
          ],
          "name": "stderr"
        },
        {
          "output_type": "stream",
          "text": [
            "Epoch 00011: early stopping\n",
            "Fold 1, 200 epochs, 1604 sec\n"
          ],
          "name": "stdout"
        },
        {
          "output_type": "display_data",
          "data": {
            "image/png": "[encoded data removed]",
            "text/plain": [
              "<Figure size 576x360 with 1 Axes>"
            ]
          },
          "metadata": {
            "tags": [],
            "needs_background": "light"
          }
        },
        {
          "output_type": "stream",
          "text": [
            "accuracy: 55.37%\n",
            "COMPILE...\n",
            "...COMPILED\n",
            "FIT\n",
            "Epoch 1/200\n",
            "350/350 [==============================] - 155s 406ms/step - loss: 0.6920 - accuracy: 0.5234 - val_loss: 0.6874 - val_accuracy: 0.5464\n"
          ],
          "name": "stdout"
        },
        {
          "output_type": "stream",
          "text": [
            "WARNING:absl:Found untraced functions such as gru_cell_12_layer_call_fn, gru_cell_12_layer_call_and_return_conditional_losses, gru_cell_13_layer_call_fn, gru_cell_13_layer_call_and_return_conditional_losses, gru_cell_14_layer_call_fn while saving (showing 5 of 20). These functions will not be directly callable after loading.\n",
            "WARNING:absl:Found untraced functions such as gru_cell_12_layer_call_fn, gru_cell_12_layer_call_and_return_conditional_losses, gru_cell_13_layer_call_fn, gru_cell_13_layer_call_and_return_conditional_losses, gru_cell_14_layer_call_fn while saving (showing 5 of 20). These functions will not be directly callable after loading.\n"
          ],
          "name": "stderr"
        },
        {
          "output_type": "stream",
          "text": [
            "INFO:tensorflow:Assets written to: /content/drive/My Drive/data/JUNK2.cv.2.best/assets\n"
          ],
          "name": "stdout"
        },
        {
          "output_type": "stream",
          "text": [
            "INFO:tensorflow:Assets written to: /content/drive/My Drive/data/JUNK2.cv.2.best/assets\n"
          ],
          "name": "stderr"
        },
        {
          "output_type": "stream",
          "text": [
            "Epoch 2/200\n",
            "350/350 [==============================] - 139s 396ms/step - loss: 0.6881 - accuracy: 0.5402 - val_loss: 0.6837 - val_accuracy: 0.5582\n"
          ],
          "name": "stdout"
        },
        {
          "output_type": "stream",
          "text": [
            "WARNING:absl:Found untraced functions such as gru_cell_12_layer_call_fn, gru_cell_12_layer_call_and_return_conditional_losses, gru_cell_13_layer_call_fn, gru_cell_13_layer_call_and_return_conditional_losses, gru_cell_14_layer_call_fn while saving (showing 5 of 20). These functions will not be directly callable after loading.\n",
            "WARNING:absl:Found untraced functions such as gru_cell_12_layer_call_fn, gru_cell_12_layer_call_and_return_conditional_losses, gru_cell_13_layer_call_fn, gru_cell_13_layer_call_and_return_conditional_losses, gru_cell_14_layer_call_fn while saving (showing 5 of 20). These functions will not be directly callable after loading.\n"
          ],
          "name": "stderr"
        },
        {
          "output_type": "stream",
          "text": [
            "INFO:tensorflow:Assets written to: /content/drive/My Drive/data/JUNK2.cv.2.best/assets\n"
          ],
          "name": "stdout"
        },
        {
          "output_type": "stream",
          "text": [
            "INFO:tensorflow:Assets written to: /content/drive/My Drive/data/JUNK2.cv.2.best/assets\n"
          ],
          "name": "stderr"
        },
        {
          "output_type": "stream",
          "text": [
            "Epoch 3/200\n",
            "350/350 [==============================] - 140s 401ms/step - loss: 0.6871 - accuracy: 0.5528 - val_loss: 0.6963 - val_accuracy: 0.5392\n",
            "Epoch 4/200\n",
            "350/350 [==============================] - 142s 405ms/step - loss: 0.6784 - accuracy: 0.5679 - val_loss: 0.6926 - val_accuracy: 0.5382\n",
            "Epoch 5/200\n",
            "350/350 [==============================] - 142s 405ms/step - loss: 0.6748 - accuracy: 0.5796 - val_loss: 0.7120 - val_accuracy: 0.5327\n",
            "Epoch 6/200\n",
            "350/350 [==============================] - 142s 406ms/step - loss: 0.6738 - accuracy: 0.5818 - val_loss: 0.6902 - val_accuracy: 0.5473\n",
            "Epoch 7/200\n",
            "350/350 [==============================] - 142s 405ms/step - loss: 0.6688 - accuracy: 0.5892 - val_loss: 0.6893 - val_accuracy: 0.5433\n",
            "Epoch 8/200\n",
            "350/350 [==============================] - 142s 407ms/step - loss: 0.6668 - accuracy: 0.5928 - val_loss: 0.7224 - val_accuracy: 0.5390\n",
            "Epoch 9/200\n",
            "350/350 [==============================] - 142s 406ms/step - loss: 0.6679 - accuracy: 0.5894 - val_loss: 0.6871 - val_accuracy: 0.5478\n",
            "Epoch 10/200\n",
            "350/350 [==============================] - 142s 407ms/step - loss: 0.6652 - accuracy: 0.5936 - val_loss: 0.6982 - val_accuracy: 0.5391\n",
            "Epoch 11/200\n",
            "350/350 [==============================] - 142s 405ms/step - loss: 0.6557 - accuracy: 0.6066 - val_loss: 0.6994 - val_accuracy: 0.5448\n",
            "Epoch 12/200\n",
            "350/350 [==============================] - 143s 409ms/step - loss: 0.6567 - accuracy: 0.6129 - val_loss: 0.7021 - val_accuracy: 0.5462\n",
            "Epoch 00012: early stopping\n",
            "Fold 2, 200 epochs, 1760 sec\n"
          ],
          "name": "stdout"
        },
        {
          "output_type": "display_data",
          "data": {
            "image/png": "[encoded data removed]",
            "text/plain": [
              "<Figure size 576x360 with 1 Axes>"
            ]
          },
          "metadata": {
            "tags": [],
            "needs_background": "light"
          }
        },
        {
          "output_type": "stream",
          "text": [
            "accuracy: 55.82%\n",
            "COMPILE...\n",
            "...COMPILED\n",
            "FIT\n",
            "Epoch 1/200\n",
            "350/350 [==============================] - 161s 414ms/step - loss: 0.6931 - accuracy: 0.5184 - val_loss: 0.6860 - val_accuracy: 0.5529\n"
          ],
          "name": "stdout"
        },
        {
          "output_type": "stream",
          "text": [
            "WARNING:absl:Found untraced functions such as gru_cell_20_layer_call_fn, gru_cell_20_layer_call_and_return_conditional_losses, gru_cell_21_layer_call_fn, gru_cell_21_layer_call_and_return_conditional_losses, gru_cell_22_layer_call_fn while saving (showing 5 of 20). These functions will not be directly callable after loading.\n",
            "WARNING:absl:Found untraced functions such as gru_cell_20_layer_call_fn, gru_cell_20_layer_call_and_return_conditional_losses, gru_cell_21_layer_call_fn, gru_cell_21_layer_call_and_return_conditional_losses, gru_cell_22_layer_call_fn while saving (showing 5 of 20). These functions will not be directly callable after loading.\n"
          ],
          "name": "stderr"
        },
        {
          "output_type": "stream",
          "text": [
            "INFO:tensorflow:Assets written to: /content/drive/My Drive/data/JUNK2.cv.3.best/assets\n"
          ],
          "name": "stdout"
        },
        {
          "output_type": "stream",
          "text": [
            "INFO:tensorflow:Assets written to: /content/drive/My Drive/data/JUNK2.cv.3.best/assets\n"
          ],
          "name": "stderr"
        },
        {
          "output_type": "stream",
          "text": [
            "Epoch 2/200\n",
            "350/350 [==============================] - 142s 405ms/step - loss: 0.6898 - accuracy: 0.5373 - val_loss: 0.6895 - val_accuracy: 0.5258\n",
            "Epoch 3/200\n",
            "350/350 [==============================] - 143s 408ms/step - loss: 0.6854 - accuracy: 0.5572 - val_loss: 0.6881 - val_accuracy: 0.5404\n",
            "Epoch 4/200\n",
            "350/350 [==============================] - 143s 409ms/step - loss: 0.6751 - accuracy: 0.5766 - val_loss: 0.6908 - val_accuracy: 0.5309\n",
            "Epoch 5/200\n",
            "350/350 [==============================] - 144s 413ms/step - loss: 0.6778 - accuracy: 0.5757 - val_loss: 0.6943 - val_accuracy: 0.5325\n",
            "Epoch 6/200\n",
            "350/350 [==============================] - 145s 414ms/step - loss: 0.6743 - accuracy: 0.5842 - val_loss: 0.6947 - val_accuracy: 0.5364\n",
            "Epoch 7/200\n",
            "350/350 [==============================] - 144s 412ms/step - loss: 0.6699 - accuracy: 0.5923 - val_loss: 0.6885 - val_accuracy: 0.5435\n",
            "Epoch 8/200\n",
            "350/350 [==============================] - 144s 411ms/step - loss: 0.6699 - accuracy: 0.5934 - val_loss: 0.7035 - val_accuracy: 0.5386\n",
            "Epoch 9/200\n",
            "350/350 [==============================] - 145s 415ms/step - loss: 0.6676 - accuracy: 0.5937 - val_loss: 0.7032 - val_accuracy: 0.5421\n",
            "Epoch 10/200\n",
            "350/350 [==============================] - 144s 411ms/step - loss: 0.6651 - accuracy: 0.6006 - val_loss: 0.6942 - val_accuracy: 0.5393\n",
            "Epoch 11/200\n",
            "350/350 [==============================] - 145s 413ms/step - loss: 0.6647 - accuracy: 0.5967 - val_loss: 0.6982 - val_accuracy: 0.5486\n",
            "Epoch 00011: early stopping\n",
            "Fold 3, 200 epochs, 1623 sec\n"
          ],
          "name": "stdout"
        },
        {
          "output_type": "display_data",
          "data": {
            "image/png": "[encoded data removed]",
            "text/plain": [
              "<Figure size 576x360 with 1 Axes>"
            ]
          },
          "metadata": {
            "tags": [],
            "needs_background": "light"
          }
        },
        {
          "output_type": "stream",
          "text": [
            "accuracy: 55.29%\n",
            "COMPILE...\n",
            "...COMPILED\n",
            "FIT\n",
            "Epoch 1/200\n",
            "350/350 [==============================] - 160s 418ms/step - loss: 0.6906 - accuracy: 0.5290 - val_loss: 0.6866 - val_accuracy: 0.5535\n"
          ],
          "name": "stdout"
        },
        {
          "output_type": "stream",
          "text": [
            "WARNING:absl:Found untraced functions such as gru_cell_28_layer_call_fn, gru_cell_28_layer_call_and_return_conditional_losses, gru_cell_29_layer_call_fn, gru_cell_29_layer_call_and_return_conditional_losses, gru_cell_30_layer_call_fn while saving (showing 5 of 20). These functions will not be directly callable after loading.\n",
            "WARNING:absl:Found untraced functions such as gru_cell_28_layer_call_fn, gru_cell_28_layer_call_and_return_conditional_losses, gru_cell_29_layer_call_fn, gru_cell_29_layer_call_and_return_conditional_losses, gru_cell_30_layer_call_fn while saving (showing 5 of 20). These functions will not be directly callable after loading.\n"
          ],
          "name": "stderr"
        },
        {
          "output_type": "stream",
          "text": [
            "INFO:tensorflow:Assets written to: /content/drive/My Drive/data/JUNK2.cv.4.best/assets\n"
          ],
          "name": "stdout"
        },
        {
          "output_type": "stream",
          "text": [
            "INFO:tensorflow:Assets written to: /content/drive/My Drive/data/JUNK2.cv.4.best/assets\n"
          ],
          "name": "stderr"
        },
        {
          "output_type": "stream",
          "text": [
            "Epoch 2/200\n",
            "350/350 [==============================] - 141s 403ms/step - loss: 0.6885 - accuracy: 0.5343 - val_loss: 0.6929 - val_accuracy: 0.5277\n",
            "Epoch 3/200\n",
            "350/350 [==============================] - 142s 407ms/step - loss: 0.6809 - accuracy: 0.5710 - val_loss: 0.6883 - val_accuracy: 0.5353\n",
            "Epoch 4/200\n",
            "350/350 [==============================] - 142s 406ms/step - loss: 0.6757 - accuracy: 0.5755 - val_loss: 0.6875 - val_accuracy: 0.5359\n",
            "Epoch 5/200\n",
            "350/350 [==============================] - 143s 410ms/step - loss: 0.6742 - accuracy: 0.5860 - val_loss: 0.7005 - val_accuracy: 0.5360\n",
            "Epoch 6/200\n",
            "350/350 [==============================] - 143s 410ms/step - loss: 0.6727 - accuracy: 0.5884 - val_loss: 0.6896 - val_accuracy: 0.5306\n",
            "Epoch 7/200\n",
            "350/350 [==============================] - 145s 414ms/step - loss: 0.6700 - accuracy: 0.5888 - val_loss: 0.6857 - val_accuracy: 0.5463\n",
            "Epoch 8/200\n",
            "350/350 [==============================] - 144s 413ms/step - loss: 0.6684 - accuracy: 0.5908 - val_loss: 0.6886 - val_accuracy: 0.5463\n",
            "Epoch 9/200\n",
            "350/350 [==============================] - 145s 414ms/step - loss: 0.6652 - accuracy: 0.5892 - val_loss: 0.6965 - val_accuracy: 0.5384\n",
            "Epoch 10/200\n",
            "350/350 [==============================] - 145s 414ms/step - loss: 0.6584 - accuracy: 0.6116 - val_loss: 0.6876 - val_accuracy: 0.5462\n",
            "Epoch 11/200\n",
            "350/350 [==============================] - 144s 412ms/step - loss: 0.6595 - accuracy: 0.6083 - val_loss: 0.6832 - val_accuracy: 0.5480\n",
            "Epoch 12/200\n",
            "350/350 [==============================] - 145s 414ms/step - loss: 0.6595 - accuracy: 0.6037 - val_loss: 0.7018 - val_accuracy: 0.5487\n",
            "Epoch 13/200\n",
            "350/350 [==============================] - 144s 412ms/step - loss: 0.6563 - accuracy: 0.6080 - val_loss: 0.6864 - val_accuracy: 0.5529\n",
            "Epoch 14/200\n",
            "350/350 [==============================] - 145s 415ms/step - loss: 0.6515 - accuracy: 0.6148 - val_loss: 0.6899 - val_accuracy: 0.5489\n",
            "Epoch 15/200\n",
            "350/350 [==============================] - 143s 410ms/step - loss: 0.6529 - accuracy: 0.6147 - val_loss: 0.6875 - val_accuracy: 0.5659\n"
          ],
          "name": "stdout"
        },
        {
          "output_type": "stream",
          "text": [
            "WARNING:absl:Found untraced functions such as gru_cell_28_layer_call_fn, gru_cell_28_layer_call_and_return_conditional_losses, gru_cell_29_layer_call_fn, gru_cell_29_layer_call_and_return_conditional_losses, gru_cell_30_layer_call_fn while saving (showing 5 of 20). These functions will not be directly callable after loading.\n",
            "WARNING:absl:Found untraced functions such as gru_cell_28_layer_call_fn, gru_cell_28_layer_call_and_return_conditional_losses, gru_cell_29_layer_call_fn, gru_cell_29_layer_call_and_return_conditional_losses, gru_cell_30_layer_call_fn while saving (showing 5 of 20). These functions will not be directly callable after loading.\n"
          ],
          "name": "stderr"
        },
        {
          "output_type": "stream",
          "text": [
            "INFO:tensorflow:Assets written to: /content/drive/My Drive/data/JUNK2.cv.4.best/assets\n"
          ],
          "name": "stdout"
        },
        {
          "output_type": "stream",
          "text": [
            "INFO:tensorflow:Assets written to: /content/drive/My Drive/data/JUNK2.cv.4.best/assets\n"
          ],
          "name": "stderr"
        },
        {
          "output_type": "stream",
          "text": [
            "Epoch 16/200\n",
            "350/350 [==============================] - 144s 413ms/step - loss: 0.6464 - accuracy: 0.6160 - val_loss: 0.6828 - val_accuracy: 0.5838\n"
          ],
          "name": "stdout"
        },
        {
          "output_type": "stream",
          "text": [
            "WARNING:absl:Found untraced functions such as gru_cell_28_layer_call_fn, gru_cell_28_layer_call_and_return_conditional_losses, gru_cell_29_layer_call_fn, gru_cell_29_layer_call_and_return_conditional_losses, gru_cell_30_layer_call_fn while saving (showing 5 of 20). These functions will not be directly callable after loading.\n",
            "WARNING:absl:Found untraced functions such as gru_cell_28_layer_call_fn, gru_cell_28_layer_call_and_return_conditional_losses, gru_cell_29_layer_call_fn, gru_cell_29_layer_call_and_return_conditional_losses, gru_cell_30_layer_call_fn while saving (showing 5 of 20). These functions will not be directly callable after loading.\n"
          ],
          "name": "stderr"
        },
        {
          "output_type": "stream",
          "text": [
            "INFO:tensorflow:Assets written to: /content/drive/My Drive/data/JUNK2.cv.4.best/assets\n"
          ],
          "name": "stdout"
        },
        {
          "output_type": "stream",
          "text": [
            "INFO:tensorflow:Assets written to: /content/drive/My Drive/data/JUNK2.cv.4.best/assets\n"
          ],
          "name": "stderr"
        },
        {
          "output_type": "stream",
          "text": [
            "Epoch 17/200\n",
            "350/350 [==============================] - 143s 410ms/step - loss: 0.6444 - accuracy: 0.6225 - val_loss: 0.6926 - val_accuracy: 0.5532\n",
            "Epoch 18/200\n",
            "350/350 [==============================] - 144s 412ms/step - loss: 0.6538 - accuracy: 0.6119 - val_loss: 0.6830 - val_accuracy: 0.5778\n",
            "Epoch 19/200\n",
            "350/350 [==============================] - 144s 411ms/step - loss: 0.6363 - accuracy: 0.6346 - val_loss: 0.6927 - val_accuracy: 0.5634\n",
            "Epoch 20/200\n",
            "350/350 [==============================] - 144s 413ms/step - loss: 0.6494 - accuracy: 0.6206 - val_loss: 0.6894 - val_accuracy: 0.5702\n",
            "Epoch 21/200\n",
            "350/350 [==============================] - 145s 415ms/step - loss: 0.6426 - accuracy: 0.6341 - val_loss: 0.6271 - val_accuracy: 0.6521\n"
          ],
          "name": "stdout"
        },
        {
          "output_type": "stream",
          "text": [
            "WARNING:absl:Found untraced functions such as gru_cell_28_layer_call_fn, gru_cell_28_layer_call_and_return_conditional_losses, gru_cell_29_layer_call_fn, gru_cell_29_layer_call_and_return_conditional_losses, gru_cell_30_layer_call_fn while saving (showing 5 of 20). These functions will not be directly callable after loading.\n",
            "WARNING:absl:Found untraced functions such as gru_cell_28_layer_call_fn, gru_cell_28_layer_call_and_return_conditional_losses, gru_cell_29_layer_call_fn, gru_cell_29_layer_call_and_return_conditional_losses, gru_cell_30_layer_call_fn while saving (showing 5 of 20). These functions will not be directly callable after loading.\n"
          ],
          "name": "stderr"
        },
        {
          "output_type": "stream",
          "text": [
            "INFO:tensorflow:Assets written to: /content/drive/My Drive/data/JUNK2.cv.4.best/assets\n"
          ],
          "name": "stdout"
        },
        {
          "output_type": "stream",
          "text": [
            "INFO:tensorflow:Assets written to: /content/drive/My Drive/data/JUNK2.cv.4.best/assets\n"
          ],
          "name": "stderr"
        },
        {
          "output_type": "stream",
          "text": [
            "Epoch 22/200\n",
            "350/350 [==============================] - 146s 417ms/step - loss: 0.5393 - accuracy: 0.7320 - val_loss: 0.5811 - val_accuracy: 0.7012\n"
          ],
          "name": "stdout"
        },
        {
          "output_type": "stream",
          "text": [
            "WARNING:absl:Found untraced functions such as gru_cell_28_layer_call_fn, gru_cell_28_layer_call_and_return_conditional_losses, gru_cell_29_layer_call_fn, gru_cell_29_layer_call_and_return_conditional_losses, gru_cell_30_layer_call_fn while saving (showing 5 of 20). These functions will not be directly callable after loading.\n",
            "WARNING:absl:Found untraced functions such as gru_cell_28_layer_call_fn, gru_cell_28_layer_call_and_return_conditional_losses, gru_cell_29_layer_call_fn, gru_cell_29_layer_call_and_return_conditional_losses, gru_cell_30_layer_call_fn while saving (showing 5 of 20). These functions will not be directly callable after loading.\n"
          ],
          "name": "stderr"
        },
        {
          "output_type": "stream",
          "text": [
            "INFO:tensorflow:Assets written to: /content/drive/My Drive/data/JUNK2.cv.4.best/assets\n"
          ],
          "name": "stdout"
        },
        {
          "output_type": "stream",
          "text": [
            "INFO:tensorflow:Assets written to: /content/drive/My Drive/data/JUNK2.cv.4.best/assets\n"
          ],
          "name": "stderr"
        },
        {
          "output_type": "stream",
          "text": [
            "Epoch 23/200\n",
            "350/350 [==============================] - 145s 415ms/step - loss: 0.5006 - accuracy: 0.7613 - val_loss: 0.5458 - val_accuracy: 0.7188\n"
          ],
          "name": "stdout"
        },
        {
          "output_type": "stream",
          "text": [
            "WARNING:absl:Found untraced functions such as gru_cell_28_layer_call_fn, gru_cell_28_layer_call_and_return_conditional_losses, gru_cell_29_layer_call_fn, gru_cell_29_layer_call_and_return_conditional_losses, gru_cell_30_layer_call_fn while saving (showing 5 of 20). These functions will not be directly callable after loading.\n",
            "WARNING:absl:Found untraced functions such as gru_cell_28_layer_call_fn, gru_cell_28_layer_call_and_return_conditional_losses, gru_cell_29_layer_call_fn, gru_cell_29_layer_call_and_return_conditional_losses, gru_cell_30_layer_call_fn while saving (showing 5 of 20). These functions will not be directly callable after loading.\n"
          ],
          "name": "stderr"
        },
        {
          "output_type": "stream",
          "text": [
            "INFO:tensorflow:Assets written to: /content/drive/My Drive/data/JUNK2.cv.4.best/assets\n"
          ],
          "name": "stdout"
        },
        {
          "output_type": "stream",
          "text": [
            "INFO:tensorflow:Assets written to: /content/drive/My Drive/data/JUNK2.cv.4.best/assets\n"
          ],
          "name": "stderr"
        },
        {
          "output_type": "stream",
          "text": [
            "Epoch 24/200\n",
            "350/350 [==============================] - 145s 414ms/step - loss: 0.4458 - accuracy: 0.7933 - val_loss: 0.5400 - val_accuracy: 0.7253\n"
          ],
          "name": "stdout"
        },
        {
          "output_type": "stream",
          "text": [
            "WARNING:absl:Found untraced functions such as gru_cell_28_layer_call_fn, gru_cell_28_layer_call_and_return_conditional_losses, gru_cell_29_layer_call_fn, gru_cell_29_layer_call_and_return_conditional_losses, gru_cell_30_layer_call_fn while saving (showing 5 of 20). These functions will not be directly callable after loading.\n",
            "WARNING:absl:Found untraced functions such as gru_cell_28_layer_call_fn, gru_cell_28_layer_call_and_return_conditional_losses, gru_cell_29_layer_call_fn, gru_cell_29_layer_call_and_return_conditional_losses, gru_cell_30_layer_call_fn while saving (showing 5 of 20). These functions will not be directly callable after loading.\n"
          ],
          "name": "stderr"
        },
        {
          "output_type": "stream",
          "text": [
            "INFO:tensorflow:Assets written to: /content/drive/My Drive/data/JUNK2.cv.4.best/assets\n"
          ],
          "name": "stdout"
        },
        {
          "output_type": "stream",
          "text": [
            "INFO:tensorflow:Assets written to: /content/drive/My Drive/data/JUNK2.cv.4.best/assets\n"
          ],
          "name": "stderr"
        },
        {
          "output_type": "stream",
          "text": [
            "Epoch 25/200\n",
            "350/350 [==============================] - 144s 413ms/step - loss: 0.4082 - accuracy: 0.8210 - val_loss: 0.4918 - val_accuracy: 0.7752\n"
          ],
          "name": "stdout"
        },
        {
          "output_type": "stream",
          "text": [
            "WARNING:absl:Found untraced functions such as gru_cell_28_layer_call_fn, gru_cell_28_layer_call_and_return_conditional_losses, gru_cell_29_layer_call_fn, gru_cell_29_layer_call_and_return_conditional_losses, gru_cell_30_layer_call_fn while saving (showing 5 of 20). These functions will not be directly callable after loading.\n",
            "WARNING:absl:Found untraced functions such as gru_cell_28_layer_call_fn, gru_cell_28_layer_call_and_return_conditional_losses, gru_cell_29_layer_call_fn, gru_cell_29_layer_call_and_return_conditional_losses, gru_cell_30_layer_call_fn while saving (showing 5 of 20). These functions will not be directly callable after loading.\n"
          ],
          "name": "stderr"
        },
        {
          "output_type": "stream",
          "text": [
            "INFO:tensorflow:Assets written to: /content/drive/My Drive/data/JUNK2.cv.4.best/assets\n"
          ],
          "name": "stdout"
        },
        {
          "output_type": "stream",
          "text": [
            "INFO:tensorflow:Assets written to: /content/drive/My Drive/data/JUNK2.cv.4.best/assets\n"
          ],
          "name": "stderr"
        },
        {
          "output_type": "stream",
          "text": [
            "Epoch 26/200\n",
            "350/350 [==============================] - 144s 411ms/step - loss: 0.3696 - accuracy: 0.8373 - val_loss: 0.4432 - val_accuracy: 0.7904\n"
          ],
          "name": "stdout"
        },
        {
          "output_type": "stream",
          "text": [
            "WARNING:absl:Found untraced functions such as gru_cell_28_layer_call_fn, gru_cell_28_layer_call_and_return_conditional_losses, gru_cell_29_layer_call_fn, gru_cell_29_layer_call_and_return_conditional_losses, gru_cell_30_layer_call_fn while saving (showing 5 of 20). These functions will not be directly callable after loading.\n",
            "WARNING:absl:Found untraced functions such as gru_cell_28_layer_call_fn, gru_cell_28_layer_call_and_return_conditional_losses, gru_cell_29_layer_call_fn, gru_cell_29_layer_call_and_return_conditional_losses, gru_cell_30_layer_call_fn while saving (showing 5 of 20). These functions will not be directly callable after loading.\n"
          ],
          "name": "stderr"
        },
        {
          "output_type": "stream",
          "text": [
            "INFO:tensorflow:Assets written to: /content/drive/My Drive/data/JUNK2.cv.4.best/assets\n"
          ],
          "name": "stdout"
        },
        {
          "output_type": "stream",
          "text": [
            "INFO:tensorflow:Assets written to: /content/drive/My Drive/data/JUNK2.cv.4.best/assets\n"
          ],
          "name": "stderr"
        },
        {
          "output_type": "stream",
          "text": [
            "Epoch 27/200\n",
            "350/350 [==============================] - 145s 414ms/step - loss: 0.3648 - accuracy: 0.8411 - val_loss: 0.4324 - val_accuracy: 0.8076\n"
          ],
          "name": "stdout"
        },
        {
          "output_type": "stream",
          "text": [
            "WARNING:absl:Found untraced functions such as gru_cell_28_layer_call_fn, gru_cell_28_layer_call_and_return_conditional_losses, gru_cell_29_layer_call_fn, gru_cell_29_layer_call_and_return_conditional_losses, gru_cell_30_layer_call_fn while saving (showing 5 of 20). These functions will not be directly callable after loading.\n",
            "WARNING:absl:Found untraced functions such as gru_cell_28_layer_call_fn, gru_cell_28_layer_call_and_return_conditional_losses, gru_cell_29_layer_call_fn, gru_cell_29_layer_call_and_return_conditional_losses, gru_cell_30_layer_call_fn while saving (showing 5 of 20). These functions will not be directly callable after loading.\n"
          ],
          "name": "stderr"
        },
        {
          "output_type": "stream",
          "text": [
            "INFO:tensorflow:Assets written to: /content/drive/My Drive/data/JUNK2.cv.4.best/assets\n"
          ],
          "name": "stdout"
        },
        {
          "output_type": "stream",
          "text": [
            "INFO:tensorflow:Assets written to: /content/drive/My Drive/data/JUNK2.cv.4.best/assets\n"
          ],
          "name": "stderr"
        },
        {
          "output_type": "stream",
          "text": [
            "Epoch 28/200\n",
            "350/350 [==============================] - 143s 410ms/step - loss: 0.3164 - accuracy: 0.8642 - val_loss: 0.4164 - val_accuracy: 0.8134\n"
          ],
          "name": "stdout"
        },
        {
          "output_type": "stream",
          "text": [
            "WARNING:absl:Found untraced functions such as gru_cell_28_layer_call_fn, gru_cell_28_layer_call_and_return_conditional_losses, gru_cell_29_layer_call_fn, gru_cell_29_layer_call_and_return_conditional_losses, gru_cell_30_layer_call_fn while saving (showing 5 of 20). These functions will not be directly callable after loading.\n",
            "WARNING:absl:Found untraced functions such as gru_cell_28_layer_call_fn, gru_cell_28_layer_call_and_return_conditional_losses, gru_cell_29_layer_call_fn, gru_cell_29_layer_call_and_return_conditional_losses, gru_cell_30_layer_call_fn while saving (showing 5 of 20). These functions will not be directly callable after loading.\n"
          ],
          "name": "stderr"
        },
        {
          "output_type": "stream",
          "text": [
            "INFO:tensorflow:Assets written to: /content/drive/My Drive/data/JUNK2.cv.4.best/assets\n"
          ],
          "name": "stdout"
        },
        {
          "output_type": "stream",
          "text": [
            "INFO:tensorflow:Assets written to: /content/drive/My Drive/data/JUNK2.cv.4.best/assets\n"
          ],
          "name": "stderr"
        },
        {
          "output_type": "stream",
          "text": [
            "Epoch 29/200\n",
            "350/350 [==============================] - 145s 414ms/step - loss: 0.3156 - accuracy: 0.8679 - val_loss: 0.4049 - val_accuracy: 0.8202\n"
          ],
          "name": "stdout"
        },
        {
          "output_type": "stream",
          "text": [
            "WARNING:absl:Found untraced functions such as gru_cell_28_layer_call_fn, gru_cell_28_layer_call_and_return_conditional_losses, gru_cell_29_layer_call_fn, gru_cell_29_layer_call_and_return_conditional_losses, gru_cell_30_layer_call_fn while saving (showing 5 of 20). These functions will not be directly callable after loading.\n",
            "WARNING:absl:Found untraced functions such as gru_cell_28_layer_call_fn, gru_cell_28_layer_call_and_return_conditional_losses, gru_cell_29_layer_call_fn, gru_cell_29_layer_call_and_return_conditional_losses, gru_cell_30_layer_call_fn while saving (showing 5 of 20). These functions will not be directly callable after loading.\n"
          ],
          "name": "stderr"
        },
        {
          "output_type": "stream",
          "text": [
            "INFO:tensorflow:Assets written to: /content/drive/My Drive/data/JUNK2.cv.4.best/assets\n"
          ],
          "name": "stdout"
        },
        {
          "output_type": "stream",
          "text": [
            "INFO:tensorflow:Assets written to: /content/drive/My Drive/data/JUNK2.cv.4.best/assets\n"
          ],
          "name": "stderr"
        },
        {
          "output_type": "stream",
          "text": [
            "Epoch 30/200\n",
            "350/350 [==============================] - 142s 407ms/step - loss: 0.3014 - accuracy: 0.8777 - val_loss: 0.3725 - val_accuracy: 0.8395\n"
          ],
          "name": "stdout"
        },
        {
          "output_type": "stream",
          "text": [
            "WARNING:absl:Found untraced functions such as gru_cell_28_layer_call_fn, gru_cell_28_layer_call_and_return_conditional_losses, gru_cell_29_layer_call_fn, gru_cell_29_layer_call_and_return_conditional_losses, gru_cell_30_layer_call_fn while saving (showing 5 of 20). These functions will not be directly callable after loading.\n",
            "WARNING:absl:Found untraced functions such as gru_cell_28_layer_call_fn, gru_cell_28_layer_call_and_return_conditional_losses, gru_cell_29_layer_call_fn, gru_cell_29_layer_call_and_return_conditional_losses, gru_cell_30_layer_call_fn while saving (showing 5 of 20). These functions will not be directly callable after loading.\n"
          ],
          "name": "stderr"
        },
        {
          "output_type": "stream",
          "text": [
            "INFO:tensorflow:Assets written to: /content/drive/My Drive/data/JUNK2.cv.4.best/assets\n"
          ],
          "name": "stdout"
        },
        {
          "output_type": "stream",
          "text": [
            "INFO:tensorflow:Assets written to: /content/drive/My Drive/data/JUNK2.cv.4.best/assets\n"
          ],
          "name": "stderr"
        },
        {
          "output_type": "stream",
          "text": [
            "Epoch 31/200\n",
            "350/350 [==============================] - 144s 411ms/step - loss: 0.3271 - accuracy: 0.8613 - val_loss: 0.4301 - val_accuracy: 0.8208\n",
            "Epoch 32/200\n",
            "350/350 [==============================] - 144s 412ms/step - loss: 0.3235 - accuracy: 0.8572 - val_loss: 0.4194 - val_accuracy: 0.8187\n",
            "Epoch 33/200\n",
            "350/350 [==============================] - 146s 417ms/step - loss: 0.3458 - accuracy: 0.8456 - val_loss: 0.4018 - val_accuracy: 0.8281\n",
            "Epoch 34/200\n",
            "350/350 [==============================] - 146s 418ms/step - loss: 0.2962 - accuracy: 0.8760 - val_loss: 0.3854 - val_accuracy: 0.8317\n",
            "Epoch 35/200\n",
            "350/350 [==============================] - 147s 421ms/step - loss: 0.3098 - accuracy: 0.8663 - val_loss: 0.3681 - val_accuracy: 0.8402\n"
          ],
          "name": "stdout"
        },
        {
          "output_type": "stream",
          "text": [
            "WARNING:absl:Found untraced functions such as gru_cell_28_layer_call_fn, gru_cell_28_layer_call_and_return_conditional_losses, gru_cell_29_layer_call_fn, gru_cell_29_layer_call_and_return_conditional_losses, gru_cell_30_layer_call_fn while saving (showing 5 of 20). These functions will not be directly callable after loading.\n",
            "WARNING:absl:Found untraced functions such as gru_cell_28_layer_call_fn, gru_cell_28_layer_call_and_return_conditional_losses, gru_cell_29_layer_call_fn, gru_cell_29_layer_call_and_return_conditional_losses, gru_cell_30_layer_call_fn while saving (showing 5 of 20). These functions will not be directly callable after loading.\n"
          ],
          "name": "stderr"
        },
        {
          "output_type": "stream",
          "text": [
            "INFO:tensorflow:Assets written to: /content/drive/My Drive/data/JUNK2.cv.4.best/assets\n"
          ],
          "name": "stdout"
        },
        {
          "output_type": "stream",
          "text": [
            "INFO:tensorflow:Assets written to: /content/drive/My Drive/data/JUNK2.cv.4.best/assets\n"
          ],
          "name": "stderr"
        },
        {
          "output_type": "stream",
          "text": [
            "Epoch 36/200\n",
            "350/350 [==============================] - 145s 415ms/step - loss: 0.2938 - accuracy: 0.8778 - val_loss: 0.3819 - val_accuracy: 0.8401\n",
            "Epoch 37/200\n",
            "350/350 [==============================] - 146s 418ms/step - loss: 0.2701 - accuracy: 0.8855 - val_loss: 0.3812 - val_accuracy: 0.8441\n"
          ],
          "name": "stdout"
        },
        {
          "output_type": "stream",
          "text": [
            "WARNING:absl:Found untraced functions such as gru_cell_28_layer_call_fn, gru_cell_28_layer_call_and_return_conditional_losses, gru_cell_29_layer_call_fn, gru_cell_29_layer_call_and_return_conditional_losses, gru_cell_30_layer_call_fn while saving (showing 5 of 20). These functions will not be directly callable after loading.\n",
            "WARNING:absl:Found untraced functions such as gru_cell_28_layer_call_fn, gru_cell_28_layer_call_and_return_conditional_losses, gru_cell_29_layer_call_fn, gru_cell_29_layer_call_and_return_conditional_losses, gru_cell_30_layer_call_fn while saving (showing 5 of 20). These functions will not be directly callable after loading.\n"
          ],
          "name": "stderr"
        },
        {
          "output_type": "stream",
          "text": [
            "INFO:tensorflow:Assets written to: /content/drive/My Drive/data/JUNK2.cv.4.best/assets\n"
          ],
          "name": "stdout"
        },
        {
          "output_type": "stream",
          "text": [
            "INFO:tensorflow:Assets written to: /content/drive/My Drive/data/JUNK2.cv.4.best/assets\n"
          ],
          "name": "stderr"
        },
        {
          "output_type": "stream",
          "text": [
            "Epoch 38/200\n",
            "350/350 [==============================] - 146s 416ms/step - loss: 0.2521 - accuracy: 0.8994 - val_loss: 0.3492 - val_accuracy: 0.8487\n"
          ],
          "name": "stdout"
        },
        {
          "output_type": "stream",
          "text": [
            "WARNING:absl:Found untraced functions such as gru_cell_28_layer_call_fn, gru_cell_28_layer_call_and_return_conditional_losses, gru_cell_29_layer_call_fn, gru_cell_29_layer_call_and_return_conditional_losses, gru_cell_30_layer_call_fn while saving (showing 5 of 20). These functions will not be directly callable after loading.\n",
            "WARNING:absl:Found untraced functions such as gru_cell_28_layer_call_fn, gru_cell_28_layer_call_and_return_conditional_losses, gru_cell_29_layer_call_fn, gru_cell_29_layer_call_and_return_conditional_losses, gru_cell_30_layer_call_fn while saving (showing 5 of 20). These functions will not be directly callable after loading.\n"
          ],
          "name": "stderr"
        },
        {
          "output_type": "stream",
          "text": [
            "INFO:tensorflow:Assets written to: /content/drive/My Drive/data/JUNK2.cv.4.best/assets\n"
          ],
          "name": "stdout"
        },
        {
          "output_type": "stream",
          "text": [
            "INFO:tensorflow:Assets written to: /content/drive/My Drive/data/JUNK2.cv.4.best/assets\n"
          ],
          "name": "stderr"
        },
        {
          "output_type": "stream",
          "text": [
            "Epoch 39/200\n",
            "350/350 [==============================] - 145s 416ms/step - loss: 0.3423 - accuracy: 0.8390 - val_loss: 0.4707 - val_accuracy: 0.7802\n",
            "Epoch 40/200\n",
            "350/350 [==============================] - 145s 416ms/step - loss: 0.3804 - accuracy: 0.8255 - val_loss: 0.4049 - val_accuracy: 0.8223\n",
            "Epoch 41/200\n",
            "350/350 [==============================] - 146s 416ms/step - loss: 0.3082 - accuracy: 0.8706 - val_loss: 0.3955 - val_accuracy: 0.8270\n",
            "Epoch 42/200\n",
            "350/350 [==============================] - 145s 415ms/step - loss: 0.3553 - accuracy: 0.8396 - val_loss: 0.4615 - val_accuracy: 0.7893\n",
            "Epoch 43/200\n",
            "350/350 [==============================] - 145s 415ms/step - loss: 0.3365 - accuracy: 0.8528 - val_loss: 0.4537 - val_accuracy: 0.7932\n",
            "Epoch 44/200\n",
            "350/350 [==============================] - 145s 414ms/step - loss: 0.3170 - accuracy: 0.8656 - val_loss: 0.3919 - val_accuracy: 0.8223\n",
            "Epoch 45/200\n",
            "350/350 [==============================] - 146s 418ms/step - loss: 0.2875 - accuracy: 0.8793 - val_loss: 0.3716 - val_accuracy: 0.8383\n",
            "Epoch 46/200\n",
            "350/350 [==============================] - 146s 416ms/step - loss: 0.2763 - accuracy: 0.8883 - val_loss: 0.3983 - val_accuracy: 0.8333\n",
            "Epoch 47/200\n",
            "350/350 [==============================] - 146s 419ms/step - loss: 0.2827 - accuracy: 0.8821 - val_loss: 0.3430 - val_accuracy: 0.8610\n"
          ],
          "name": "stdout"
        },
        {
          "output_type": "stream",
          "text": [
            "WARNING:absl:Found untraced functions such as gru_cell_28_layer_call_fn, gru_cell_28_layer_call_and_return_conditional_losses, gru_cell_29_layer_call_fn, gru_cell_29_layer_call_and_return_conditional_losses, gru_cell_30_layer_call_fn while saving (showing 5 of 20). These functions will not be directly callable after loading.\n",
            "WARNING:absl:Found untraced functions such as gru_cell_28_layer_call_fn, gru_cell_28_layer_call_and_return_conditional_losses, gru_cell_29_layer_call_fn, gru_cell_29_layer_call_and_return_conditional_losses, gru_cell_30_layer_call_fn while saving (showing 5 of 20). These functions will not be directly callable after loading.\n"
          ],
          "name": "stderr"
        },
        {
          "output_type": "stream",
          "text": [
            "INFO:tensorflow:Assets written to: /content/drive/My Drive/data/JUNK2.cv.4.best/assets\n"
          ],
          "name": "stdout"
        },
        {
          "output_type": "stream",
          "text": [
            "INFO:tensorflow:Assets written to: /content/drive/My Drive/data/JUNK2.cv.4.best/assets\n"
          ],
          "name": "stderr"
        },
        {
          "output_type": "stream",
          "text": [
            "Epoch 48/200\n",
            "350/350 [==============================] - 146s 418ms/step - loss: 0.2578 - accuracy: 0.8924 - val_loss: 0.3637 - val_accuracy: 0.8441\n",
            "Epoch 49/200\n",
            "350/350 [==============================] - 147s 420ms/step - loss: 0.2639 - accuracy: 0.8911 - val_loss: 0.3674 - val_accuracy: 0.8466\n",
            "Epoch 50/200\n",
            "350/350 [==============================] - 146s 417ms/step - loss: 0.2512 - accuracy: 0.8995 - val_loss: 0.3436 - val_accuracy: 0.8585\n",
            "Epoch 51/200\n",
            "350/350 [==============================] - 147s 421ms/step - loss: 0.2713 - accuracy: 0.8910 - val_loss: 0.4371 - val_accuracy: 0.8249\n",
            "Epoch 52/200\n",
            "350/350 [==============================] - 147s 421ms/step - loss: 0.2700 - accuracy: 0.8838 - val_loss: 0.3391 - val_accuracy: 0.8613\n"
          ],
          "name": "stdout"
        },
        {
          "output_type": "stream",
          "text": [
            "WARNING:absl:Found untraced functions such as gru_cell_28_layer_call_fn, gru_cell_28_layer_call_and_return_conditional_losses, gru_cell_29_layer_call_fn, gru_cell_29_layer_call_and_return_conditional_losses, gru_cell_30_layer_call_fn while saving (showing 5 of 20). These functions will not be directly callable after loading.\n",
            "WARNING:absl:Found untraced functions such as gru_cell_28_layer_call_fn, gru_cell_28_layer_call_and_return_conditional_losses, gru_cell_29_layer_call_fn, gru_cell_29_layer_call_and_return_conditional_losses, gru_cell_30_layer_call_fn while saving (showing 5 of 20). These functions will not be directly callable after loading.\n"
          ],
          "name": "stderr"
        },
        {
          "output_type": "stream",
          "text": [
            "INFO:tensorflow:Assets written to: /content/drive/My Drive/data/JUNK2.cv.4.best/assets\n"
          ],
          "name": "stdout"
        },
        {
          "output_type": "stream",
          "text": [
            "INFO:tensorflow:Assets written to: /content/drive/My Drive/data/JUNK2.cv.4.best/assets\n"
          ],
          "name": "stderr"
        },
        {
          "output_type": "stream",
          "text": [
            "Epoch 53/200\n",
            "350/350 [==============================] - 147s 420ms/step - loss: 0.2402 - accuracy: 0.8992 - val_loss: 0.3759 - val_accuracy: 0.8586\n",
            "Epoch 54/200\n",
            "350/350 [==============================] - 146s 418ms/step - loss: 0.2503 - accuracy: 0.8933 - val_loss: 0.3598 - val_accuracy: 0.8473\n",
            "Epoch 55/200\n",
            "350/350 [==============================] - 147s 419ms/step - loss: 0.2310 - accuracy: 0.9070 - val_loss: 0.7231 - val_accuracy: 0.5888\n",
            "Epoch 56/200\n",
            "350/350 [==============================] - 141s 404ms/step - loss: 0.3502 - accuracy: 0.8410 - val_loss: 0.3643 - val_accuracy: 0.8494\n",
            "Epoch 57/200\n",
            "350/350 [==============================] - 136s 389ms/step - loss: 0.2422 - accuracy: 0.9019 - val_loss: 0.3601 - val_accuracy: 0.8447\n",
            "Epoch 58/200\n",
            "350/350 [==============================] - 133s 379ms/step - loss: 0.2459 - accuracy: 0.8979 - val_loss: 0.3580 - val_accuracy: 0.8550\n",
            "Epoch 59/200\n",
            "350/350 [==============================] - 135s 385ms/step - loss: 0.2439 - accuracy: 0.9034 - val_loss: 0.3965 - val_accuracy: 0.8449\n",
            "Epoch 60/200\n",
            "350/350 [==============================] - 132s 377ms/step - loss: 0.2538 - accuracy: 0.8942 - val_loss: 0.6164 - val_accuracy: 0.7056\n",
            "Epoch 61/200\n",
            "350/350 [==============================] - 136s 388ms/step - loss: 0.3514 - accuracy: 0.8454 - val_loss: 0.4077 - val_accuracy: 0.8134\n",
            "Epoch 62/200\n",
            "350/350 [==============================] - 131s 376ms/step - loss: 0.2930 - accuracy: 0.8755 - val_loss: 0.3678 - val_accuracy: 0.8521\n",
            "Epoch 00062: early stopping\n",
            "Fold 4, 200 epochs, 9363 sec\n"
          ],
          "name": "stdout"
        },
        {
          "output_type": "display_data",
          "data": {
            "image/png": "[encoded data removed]",
            "text/plain": [
              "<Figure size 576x360 with 1 Axes>"
            ]
          },
          "metadata": {
            "tags": [],
            "needs_background": "light"
          }
        },
        {
          "output_type": "stream",
          "text": [
            "accuracy: 86.13%\n",
            "COMPILE...\n",
            "...COMPILED\n",
            "FIT\n",
            "Epoch 1/200\n",
            "350/350 [==============================] - 147s 384ms/step - loss: 0.6925 - accuracy: 0.5274 - val_loss: 0.6914 - val_accuracy: 0.5222\n"
          ],
          "name": "stdout"
        },
        {
          "output_type": "stream",
          "text": [
            "WARNING:absl:Found untraced functions such as gru_cell_36_layer_call_fn, gru_cell_36_layer_call_and_return_conditional_losses, gru_cell_37_layer_call_fn, gru_cell_37_layer_call_and_return_conditional_losses, gru_cell_38_layer_call_fn while saving (showing 5 of 20). These functions will not be directly callable after loading.\n",
            "WARNING:absl:Found untraced functions such as gru_cell_36_layer_call_fn, gru_cell_36_layer_call_and_return_conditional_losses, gru_cell_37_layer_call_fn, gru_cell_37_layer_call_and_return_conditional_losses, gru_cell_38_layer_call_fn while saving (showing 5 of 20). These functions will not be directly callable after loading.\n"
          ],
          "name": "stderr"
        },
        {
          "output_type": "stream",
          "text": [
            "INFO:tensorflow:Assets written to: /content/drive/My Drive/data/JUNK2.cv.5.best/assets\n"
          ],
          "name": "stdout"
        },
        {
          "output_type": "stream",
          "text": [
            "INFO:tensorflow:Assets written to: /content/drive/My Drive/data/JUNK2.cv.5.best/assets\n"
          ],
          "name": "stderr"
        },
        {
          "output_type": "stream",
          "text": [
            "Epoch 2/200\n",
            "350/350 [==============================] - 132s 378ms/step - loss: 0.6902 - accuracy: 0.5359 - val_loss: 0.6854 - val_accuracy: 0.5541\n"
          ],
          "name": "stdout"
        },
        {
          "output_type": "stream",
          "text": [
            "WARNING:absl:Found untraced functions such as gru_cell_36_layer_call_fn, gru_cell_36_layer_call_and_return_conditional_losses, gru_cell_37_layer_call_fn, gru_cell_37_layer_call_and_return_conditional_losses, gru_cell_38_layer_call_fn while saving (showing 5 of 20). These functions will not be directly callable after loading.\n",
            "WARNING:absl:Found untraced functions such as gru_cell_36_layer_call_fn, gru_cell_36_layer_call_and_return_conditional_losses, gru_cell_37_layer_call_fn, gru_cell_37_layer_call_and_return_conditional_losses, gru_cell_38_layer_call_fn while saving (showing 5 of 20). These functions will not be directly callable after loading.\n"
          ],
          "name": "stderr"
        },
        {
          "output_type": "stream",
          "text": [
            "INFO:tensorflow:Assets written to: /content/drive/My Drive/data/JUNK2.cv.5.best/assets\n"
          ],
          "name": "stdout"
        },
        {
          "output_type": "stream",
          "text": [
            "INFO:tensorflow:Assets written to: /content/drive/My Drive/data/JUNK2.cv.5.best/assets\n"
          ],
          "name": "stderr"
        },
        {
          "output_type": "stream",
          "text": [
            "Epoch 3/200\n",
            "350/350 [==============================] - 132s 377ms/step - loss: 0.6856 - accuracy: 0.5500 - val_loss: 0.6926 - val_accuracy: 0.5221\n",
            "Epoch 4/200\n",
            "350/350 [==============================] - 129s 368ms/step - loss: 0.6778 - accuracy: 0.5699 - val_loss: 0.6905 - val_accuracy: 0.5245\n",
            "Epoch 5/200\n",
            "350/350 [==============================] - 132s 376ms/step - loss: 0.6729 - accuracy: 0.5855 - val_loss: 0.6960 - val_accuracy: 0.5312\n",
            "Epoch 6/200\n",
            "350/350 [==============================] - 128s 365ms/step - loss: 0.6690 - accuracy: 0.5891 - val_loss: 0.6882 - val_accuracy: 0.5412\n",
            "Epoch 7/200\n",
            "350/350 [==============================] - 133s 380ms/step - loss: 0.6663 - accuracy: 0.5977 - val_loss: 0.6912 - val_accuracy: 0.5499\n",
            "Epoch 8/200\n",
            "350/350 [==============================] - 129s 370ms/step - loss: 0.6646 - accuracy: 0.6035 - val_loss: 0.6859 - val_accuracy: 0.5525\n",
            "Epoch 9/200\n",
            "350/350 [==============================] - 132s 377ms/step - loss: 0.6630 - accuracy: 0.5986 - val_loss: 0.6869 - val_accuracy: 0.5470\n",
            "Epoch 10/200\n",
            "350/350 [==============================] - 132s 377ms/step - loss: 0.6596 - accuracy: 0.6047 - val_loss: 0.7201 - val_accuracy: 0.5313\n",
            "Epoch 11/200\n",
            "350/350 [==============================] - 129s 369ms/step - loss: 0.6610 - accuracy: 0.6003 - val_loss: 0.6921 - val_accuracy: 0.5644\n"
          ],
          "name": "stdout"
        },
        {
          "output_type": "stream",
          "text": [
            "WARNING:absl:Found untraced functions such as gru_cell_36_layer_call_fn, gru_cell_36_layer_call_and_return_conditional_losses, gru_cell_37_layer_call_fn, gru_cell_37_layer_call_and_return_conditional_losses, gru_cell_38_layer_call_fn while saving (showing 5 of 20). These functions will not be directly callable after loading.\n",
            "WARNING:absl:Found untraced functions such as gru_cell_36_layer_call_fn, gru_cell_36_layer_call_and_return_conditional_losses, gru_cell_37_layer_call_fn, gru_cell_37_layer_call_and_return_conditional_losses, gru_cell_38_layer_call_fn while saving (showing 5 of 20). These functions will not be directly callable after loading.\n"
          ],
          "name": "stderr"
        },
        {
          "output_type": "stream",
          "text": [
            "INFO:tensorflow:Assets written to: /content/drive/My Drive/data/JUNK2.cv.5.best/assets\n"
          ],
          "name": "stdout"
        },
        {
          "output_type": "stream",
          "text": [
            "INFO:tensorflow:Assets written to: /content/drive/My Drive/data/JUNK2.cv.5.best/assets\n"
          ],
          "name": "stderr"
        },
        {
          "output_type": "stream",
          "text": [
            "Epoch 12/200\n",
            "350/350 [==============================] - 130s 372ms/step - loss: 0.6521 - accuracy: 0.6169 - val_loss: 0.6855 - val_accuracy: 0.5588\n",
            "Epoch 00012: early stopping\n",
            "Fold 5, 200 epochs, 1651 sec\n"
          ],
          "name": "stdout"
        },
        {
          "output_type": "display_data",
          "data": {
            "image/png": "[encoded data removed]",
            "text/plain": [
              "<Figure size 576x360 with 1 Axes>"
            ]
          },
          "metadata": {
            "tags": [],
            "needs_background": "light"
          }
        },
        {
          "output_type": "stream",
          "text": [
            "accuracy: 56.44%\n",
            "\n",
            "5-way Cross Validation max 86.13%, mean 61.81% (+/- 12.17%)\n",
            "Done\n"
          ],
          "name": "stdout"
        }
      ]
    },
    {
      "cell_type": "code",
      "metadata": {
        "id": "p4fh2GI8beMQ"
      },
      "source": [
        ""
      ],
      "execution_count": 8,
      "outputs": []
    }
  ]
}