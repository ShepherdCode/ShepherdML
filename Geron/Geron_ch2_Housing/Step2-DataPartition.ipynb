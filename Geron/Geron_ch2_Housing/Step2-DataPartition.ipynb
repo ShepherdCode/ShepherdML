{
 "cells": [
  {
   "cell_type": "code",
   "execution_count": 1,
   "metadata": {},
   "outputs": [
    {
     "data": {
      "text/plain": [
       "median_house_value    1.000000\n",
       "median_income         0.688075\n",
       "total_rooms           0.134153\n",
       "housing_median_age    0.105623\n",
       "households            0.065843\n",
       "total_bedrooms        0.049686\n",
       "population           -0.024650\n",
       "longitude            -0.045967\n",
       "latitude             -0.144160\n",
       "Name: median_house_value, dtype: float64"
      ]
     },
     "execution_count": 1,
     "metadata": {},
     "output_type": "execute_result"
    }
   ],
   "source": [
    "# Goals of this step: \n",
    "#\n",
    "# Partition all_data --> train_set | test_set.\n",
    "# Partition train_set --> predictors | labels.\n",
    "#\n",
    "# As preliminary, regenerate the test and training sets from previous step.\n",
    "import pandas as pd\n",
    "datapath=\"/Users/jasonmiller/Source/MachineLearning/datasets/housing/housing.csv\"\n",
    "all_data=pd.read_csv(datapath)\n",
    "# Consider whether most important feature needs special handling.\n",
    "all_data.corr()[\"median_house_value\"].sort_values(ascending=False)"
   ]
  },
  {
   "cell_type": "code",
   "execution_count": 2,
   "metadata": {},
   "outputs": [
    {
     "data": {
      "text/plain": [
       "0.11443798449612404"
      ]
     },
     "execution_count": 2,
     "metadata": {},
     "output_type": "execute_result"
    }
   ],
   "source": [
    "# Consider whether train/test partion is fair w.r.t. house value feature. \n",
    "# First measure distribution in all_data.\n",
    "import numpy as np\n",
    "def cutup(df):\n",
    "    return pd.cut(df[\"median_income\"],\n",
    "                              bins=[0.0,1.5,3.0,4.5,6.0,np.inf],\n",
    "                              labels=[1,2,3,4,5])\n",
    "# Best metric could compare two matrices. We'll compare just the critical category: rich folks.\n",
    "temp_all= cutup(all_data)\n",
    "temp_all.value_counts()[5]/len(temp_all)"
   ]
  },
  {
   "cell_type": "code",
   "execution_count": 3,
   "metadata": {},
   "outputs": [
    {
     "data": {
      "text/plain": [
       "0.1156734496124031"
      ]
     },
     "execution_count": 3,
     "metadata": {},
     "output_type": "execute_result"
    }
   ],
   "source": [
    "# Try: random split.\n",
    "from sklearn.model_selection import train_test_split\n",
    "train_set, test_set = train_test_split(all_data,test_size=0.2,random_state=42)\n",
    "temp_random= cutup(train_set)\n",
    "temp_random.value_counts()[5]/len(temp_random)"
   ]
  },
  {
   "cell_type": "code",
   "execution_count": 5,
   "metadata": {},
   "outputs": [
    {
     "data": {
      "text/plain": [
       "0.1144016472868217"
      ]
     },
     "execution_count": 5,
     "metadata": {},
     "output_type": "execute_result"
    }
   ],
   "source": [
    "# Try: stratified split.\n",
    "from sklearn.model_selection import StratifiedShuffleSplit\n",
    "splitter = StratifiedShuffleSplit(n_splits=1, test_size=0.2, random_state=42)\n",
    "# split(x,y) expects that y is the labels. \n",
    "# Trick: Instead of y, give it it the bin labels that we generated with cutup().\n",
    "for train_index,test_index in splitter.split(all_data,temp_all):\n",
    "    train_set = all_data.loc[train_index]\n",
    "    test_set = all_data.loc[test_index]\n",
    "temp_stratified= cutup(train_set)\n",
    "temp_stratified.value_counts()[5]/len(temp_stratified)"
   ]
  },
  {
   "cell_type": "code",
   "execution_count": 7,
   "metadata": {},
   "outputs": [],
   "source": [
    "# The numbers are not significantly different!\n",
    "# The book concluded they were different and used the stratified shuffle.\n",
    "# The difference could be a random effect.\n",
    "# I will stick with random splitting since it introduces fewer metaparameters.\n",
    "\n",
    "# Done!\n",
    "train_set, test_set = train_test_split(all_data,test_size=0.2,random_state=42)\n",
    "train_predictors = train_set.drop([\"median_house_value\"],axis=1)\n",
    "train_labels = train_set[\"median_house_value\"].copy()"
   ]
  },
  {
   "cell_type": "code",
   "execution_count": null,
   "metadata": {},
   "outputs": [],
   "source": []
  }
 ],
 "metadata": {
  "kernelspec": {
   "display_name": "Python 3",
   "language": "python",
   "name": "python3"
  },
  "language_info": {
   "codemirror_mode": {
    "name": "ipython",
    "version": 3
   },
   "file_extension": ".py",
   "mimetype": "text/x-python",
   "name": "python",
   "nbconvert_exporter": "python",
   "pygments_lexer": "ipython3",
   "version": "3.8.3"
  }
 },
 "nbformat": 4,
 "nbformat_minor": 2
}
