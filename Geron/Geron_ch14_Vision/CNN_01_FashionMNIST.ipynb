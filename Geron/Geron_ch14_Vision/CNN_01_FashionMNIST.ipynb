{
 "cells": [
  {
   "cell_type": "markdown",
   "metadata": {},
   "source": [
    "# CNN\n",
    "Convolutional neural network.\n",
    "\n",
    "See Geron chapter 14 page 461."
   ]
  },
  {
   "cell_type": "code",
   "execution_count": 71,
   "metadata": {},
   "outputs": [],
   "source": [
    "# See chapter 10 for introduction to the fashion data\n",
    "import numpy as np\n",
    "import tensorflow as tf\n",
    "from tensorflow import keras\n",
    "\n",
    "fashion = keras.datasets.fashion_mnist\n",
    "(X_train_full,y_train_full),(X_test,y_test)=fashion.load_data()\n",
    "X_valid = X_train_full[:5000]/255.0 ## 5K instances\n",
    "X_train = X_train_full[5000:]/255.0 ## 55K instances\n",
    "y_valid = y_train_full[:5000]/255.0\n",
    "y_train = y_train_full[5000:]/255.0\n",
    "\n",
    "# Scaling. Not in book but menioned here.\n",
    "# https://github.com/ageron/handson-ml2/blob/master/14_deep_computer_vision_with_cnns.ipynb\n",
    "X_mean = X_train.mean(axis=0, keepdims=True)\n",
    "X_std = X_train.std(axis=0, keepdims=True) + 1e-7\n",
    "X_train = (X_train - X_mean) / X_std\n",
    "X_valid = (X_valid - X_mean) / X_std\n",
    "X_test = (X_test - X_mean) / X_std\n",
    "\n",
    "X_train = X_train[..., np.newaxis]\n",
    "X_valid = X_valid[..., np.newaxis]\n",
    "X_test = X_test[..., np.newaxis]    "
   ]
  },
  {
   "cell_type": "markdown",
   "metadata": {},
   "source": [
    "## Generic multi-layer perceptron (MLP)\n",
    "Use the Keras Sequential API."
   ]
  },
  {
   "cell_type": "code",
   "execution_count": 72,
   "metadata": {},
   "outputs": [
    {
     "name": "stdout",
     "output_type": "stream",
     "text": [
      "Model: \"sequential_31\"\n",
      "_________________________________________________________________\n",
      "Layer (type)                 Output Shape              Param #   \n",
      "=================================================================\n",
      "flatten_8 (Flatten)          (None, 784)               0         \n",
      "_________________________________________________________________\n",
      "dense_41 (Dense)             (None, 300)               235500    \n",
      "_________________________________________________________________\n",
      "dense_42 (Dense)             (None, 100)               30100     \n",
      "_________________________________________________________________\n",
      "dense_43 (Dense)             (None, 10)                1010      \n",
      "=================================================================\n",
      "Total params: 266,610\n",
      "Trainable params: 266,610\n",
      "Non-trainable params: 0\n",
      "_________________________________________________________________\n"
     ]
    }
   ],
   "source": [
    "mlp = keras.models.Sequential([\n",
    "    keras.layers.Flatten(input_shape=[28,28]),\n",
    "    keras.layers.Dense(300,activation=\"relu\"),\n",
    "    keras.layers.Dense(100,activation=\"relu\"),\n",
    "    keras.layers.Dense( 10,activation=\"softmax\")\n",
    "])\n",
    "mlp.summary()"
   ]
  },
  {
   "cell_type": "code",
   "execution_count": 73,
   "metadata": {},
   "outputs": [
    {
     "data": {
      "text/plain": [
       "[<tensorflow.python.keras.layers.core.Flatten at 0x7fd07a0ec970>,\n",
       " <tensorflow.python.keras.layers.core.Dense at 0x7fd07a0ecac0>,\n",
       " <tensorflow.python.keras.layers.core.Dense at 0x7fd07a0ecf40>,\n",
       " <tensorflow.python.keras.layers.core.Dense at 0x7fd079f28520>]"
      ]
     },
     "execution_count": 73,
     "metadata": {},
     "output_type": "execute_result"
    }
   ],
   "source": [
    "mlp.layers"
   ]
  },
  {
   "cell_type": "code",
   "execution_count": 74,
   "metadata": {},
   "outputs": [
    {
     "data": {
      "text/plain": [
       "[<tf.Variable 'dense_41/kernel:0' shape=(784, 300) dtype=float32, numpy=\n",
       " array([[ 0.00949231, -0.07326481, -0.03615466, ..., -0.05291411,\n",
       "          0.05218945,  0.05057444],\n",
       "        [-0.06510207, -0.01711185, -0.0125735 , ..., -0.04161602,\n",
       "          0.02865133,  0.03194676],\n",
       "        [-0.05532871, -0.02575465, -0.01780033, ...,  0.01775415,\n",
       "         -0.06965847, -0.05281751],\n",
       "        ...,\n",
       "        [ 0.03049061,  0.0249197 , -0.02081945, ..., -0.00492986,\n",
       "         -0.02583749, -0.02884695],\n",
       "        [-0.06356924,  0.04064874,  0.04277783, ...,  0.06169103,\n",
       "          0.0056579 ,  0.02281784],\n",
       "        [-0.00314973, -0.02318164, -0.01542872, ..., -0.06776607,\n",
       "          0.03941371,  0.05769822]], dtype=float32)>,\n",
       " <tf.Variable 'dense_41/bias:0' shape=(300,) dtype=float32, numpy=\n",
       " array([0., 0., 0., 0., 0., 0., 0., 0., 0., 0., 0., 0., 0., 0., 0., 0., 0.,\n",
       "        0., 0., 0., 0., 0., 0., 0., 0., 0., 0., 0., 0., 0., 0., 0., 0., 0.,\n",
       "        0., 0., 0., 0., 0., 0., 0., 0., 0., 0., 0., 0., 0., 0., 0., 0., 0.,\n",
       "        0., 0., 0., 0., 0., 0., 0., 0., 0., 0., 0., 0., 0., 0., 0., 0., 0.,\n",
       "        0., 0., 0., 0., 0., 0., 0., 0., 0., 0., 0., 0., 0., 0., 0., 0., 0.,\n",
       "        0., 0., 0., 0., 0., 0., 0., 0., 0., 0., 0., 0., 0., 0., 0., 0., 0.,\n",
       "        0., 0., 0., 0., 0., 0., 0., 0., 0., 0., 0., 0., 0., 0., 0., 0., 0.,\n",
       "        0., 0., 0., 0., 0., 0., 0., 0., 0., 0., 0., 0., 0., 0., 0., 0., 0.,\n",
       "        0., 0., 0., 0., 0., 0., 0., 0., 0., 0., 0., 0., 0., 0., 0., 0., 0.,\n",
       "        0., 0., 0., 0., 0., 0., 0., 0., 0., 0., 0., 0., 0., 0., 0., 0., 0.,\n",
       "        0., 0., 0., 0., 0., 0., 0., 0., 0., 0., 0., 0., 0., 0., 0., 0., 0.,\n",
       "        0., 0., 0., 0., 0., 0., 0., 0., 0., 0., 0., 0., 0., 0., 0., 0., 0.,\n",
       "        0., 0., 0., 0., 0., 0., 0., 0., 0., 0., 0., 0., 0., 0., 0., 0., 0.,\n",
       "        0., 0., 0., 0., 0., 0., 0., 0., 0., 0., 0., 0., 0., 0., 0., 0., 0.,\n",
       "        0., 0., 0., 0., 0., 0., 0., 0., 0., 0., 0., 0., 0., 0., 0., 0., 0.,\n",
       "        0., 0., 0., 0., 0., 0., 0., 0., 0., 0., 0., 0., 0., 0., 0., 0., 0.,\n",
       "        0., 0., 0., 0., 0., 0., 0., 0., 0., 0., 0., 0., 0., 0., 0., 0., 0.,\n",
       "        0., 0., 0., 0., 0., 0., 0., 0., 0., 0., 0.], dtype=float32)>]"
      ]
     },
     "execution_count": 74,
     "metadata": {},
     "output_type": "execute_result"
    }
   ],
   "source": [
    "# Keras layers have attributes: weights, shape, bias.\n",
    "mlp.layers[1].weights"
   ]
  },
  {
   "cell_type": "code",
   "execution_count": 75,
   "metadata": {},
   "outputs": [
    {
     "name": "stdout",
     "output_type": "stream",
     "text": [
      "Epoch 1/10\n",
      "1719/1719 [==============================] - 5s 3ms/step - loss: 0.0088 - accuracy: 0.1006 - val_loss: 3.5975e-04 - val_accuracy: 0.0914\n",
      "Epoch 2/10\n",
      "1719/1719 [==============================] - 5s 3ms/step - loss: 2.6776e-04 - accuracy: 0.1008 - val_loss: 1.6554e-04 - val_accuracy: 0.0914\n",
      "Epoch 3/10\n",
      "1719/1719 [==============================] - 5s 3ms/step - loss: 1.4806e-04 - accuracy: 0.1008 - val_loss: 1.0530e-04 - val_accuracy: 0.0914\n",
      "Epoch 4/10\n",
      "1719/1719 [==============================] - 5s 3ms/step - loss: 1.0158e-04 - accuracy: 0.1008 - val_loss: 7.6475e-05 - val_accuracy: 0.0914\n",
      "Epoch 5/10\n",
      "1719/1719 [==============================] - 5s 3ms/step - loss: 7.6943e-05 - accuracy: 0.1008 - val_loss: 5.9701e-05 - val_accuracy: 0.0914\n",
      "Epoch 6/10\n",
      "1719/1719 [==============================] - 6s 3ms/step - loss: 6.1725e-05 - accuracy: 0.1008 - val_loss: 4.8776e-05 - val_accuracy: 0.0914\n",
      "Epoch 7/10\n",
      "1719/1719 [==============================] - 5s 3ms/step - loss: 5.1417e-05 - accuracy: 0.1008 - val_loss: 4.1123e-05 - val_accuracy: 0.0914\n",
      "Epoch 8/10\n",
      "1719/1719 [==============================] - 4s 3ms/step - loss: 4.3989e-05 - accuracy: 0.1008 - val_loss: 3.5475e-05 - val_accuracy: 0.0914\n",
      "Epoch 9/10\n",
      "1719/1719 [==============================] - 4s 2ms/step - loss: 3.8390e-05 - accuracy: 0.1008 - val_loss: 3.1145e-05 - val_accuracy: 0.0914\n",
      "Epoch 10/10\n",
      "1719/1719 [==============================] - 4s 2ms/step - loss: 3.4022e-05 - accuracy: 0.1008 - val_loss: 2.7721e-05 - val_accuracy: 0.0914\n"
     ]
    }
   ],
   "source": [
    "# See page 302 for explanation of these parameters.\n",
    "# See also the keras docs e.g. \n",
    "# https://www.tensorflow.org/api_docs/python/tf/keras/losses/sparse_categorical_crossentropy\n",
    "# Note keras can take parameters for % train vs % validation.\n",
    "\n",
    "mlp.compile(loss=\"sparse_categorical_crossentropy\",\n",
    "           optimizer=\"sgd\",\n",
    "           metrics=[\"accuracy\"])\n",
    "# 30 epochs runs for about 15 minutes and never impoves on 1st epoch.\n",
    "# Therefore we changed epochs to 10.\n",
    "history = mlp.fit(X_train,y_train,epochs=10,\n",
    "                 validation_data=(X_valid,y_valid))"
   ]
  },
  {
   "cell_type": "markdown",
   "metadata": {},
   "source": [
    "### Terrible!\n",
    "\n",
    "Our results are terrible.\n",
    "We have 10% accuracy and it never changes through the epochs.\n",
    "In contrast, the book got 80% accuracy initially and it improved slightly.\n",
    "The only difference that I see is memory size.\n",
    "Our memory allowed 1719 instances per epoch\n",
    "but the book shows 55,000.\n",
    "The results change so little between epochs\n",
    "that we wondered if the training was doing anything.\n",
    "However, notice that the validation loss is decreasing ever so slightly.\n",
    "Training loss at zero indicates the model is overfitting.\n",
    "Perhaps that is not surprising when you only have 1000 instances.\n",
    "Validation loss is also zero -- which is confusing -- but notice\n",
    "the validation accuracy is lower than the training accuracy."
   ]
  },
  {
   "cell_type": "code",
   "execution_count": 76,
   "metadata": {},
   "outputs": [
    {
     "data": {
      "image/png": "[encoded data removed]",
      "text/plain": [
       "<Figure size 576x360 with 1 Axes>"
      ]
     },
     "metadata": {
      "needs_background": "light"
     },
     "output_type": "display_data"
    }
   ],
   "source": [
    "import pandas as pd\n",
    "import matplotlib.pyplot as plt\n",
    "pd.DataFrame(history.history).plot(figsize=(8,5))\n",
    "plt.grid(True)\n",
    "plt.gca().set_ylim(0,0.12)\n",
    "plt.show()"
   ]
  },
  {
   "cell_type": "code",
   "execution_count": 77,
   "metadata": {},
   "outputs": [
    {
     "data": {
      "text/plain": [
       "[<tf.Variable 'dense_41/kernel:0' shape=(784, 300) dtype=float32, numpy=\n",
       " array([[ 0.00946796, -0.07321969, -0.03613696, ..., -0.05293379,\n",
       "          0.05216682,  0.05058879],\n",
       "        [-0.06516861, -0.01699957, -0.01253715, ..., -0.04163028,\n",
       "          0.02857628,  0.0319768 ],\n",
       "        [-0.05543339, -0.02548885, -0.01768645, ...,  0.01769667,\n",
       "         -0.06978405, -0.05272345],\n",
       "        ...,\n",
       "        [ 0.03009379,  0.02513929, -0.02072118, ..., -0.00511081,\n",
       "         -0.02583815, -0.02866308],\n",
       "        [-0.06384243,  0.04099159,  0.04287643, ...,  0.06153727,\n",
       "          0.00543676,  0.02291184],\n",
       "        [-0.00325899, -0.02298617, -0.01536065, ..., -0.06785548,\n",
       "          0.03931228,  0.05775665]], dtype=float32)>,\n",
       " <tf.Variable 'dense_41/bias:0' shape=(300,) dtype=float32, numpy=\n",
       " array([ 3.24822823e-03, -6.45994768e-03, -2.19068327e-03,  2.74419016e-03,\n",
       "         1.21264625e-03,  3.07788514e-03, -1.33076473e-03,  1.40163209e-03,\n",
       "         3.02412035e-03,  1.02341943e-03, -1.16648051e-04,  1.20680081e-02,\n",
       "         2.20831065e-03,  6.38921792e-03,  3.43540660e-03,  4.89339419e-03,\n",
       "         3.63816367e-03,  4.97677736e-03,  1.35477055e-02,  4.01826575e-04,\n",
       "        -4.24562674e-03, -6.30386733e-03,  4.08743182e-03,  4.82838595e-06,\n",
       "         2.32576602e-03,  1.12123638e-02, -3.54427588e-03,  1.78386713e-03,\n",
       "         4.63837903e-04, -4.32188017e-03,  1.14599941e-02,  2.60877260e-03,\n",
       "         1.01019153e-02, -3.17331543e-03,  4.37288452e-03, -1.08004012e-03,\n",
       "         3.97323072e-03,  5.44693135e-03,  3.60380765e-03,  4.45147417e-03,\n",
       "        -4.97867726e-03,  5.93706639e-03,  1.10475067e-03,  7.17821997e-03,\n",
       "         5.25316410e-03,  8.71547032e-03, -1.52298936e-03,  3.48351314e-03,\n",
       "         6.30160933e-03, -4.22351342e-03,  7.62874552e-04,  6.77397195e-03,\n",
       "         8.30692239e-03,  3.06451623e-03,  1.32531917e-03,  1.05251989e-03,\n",
       "         1.70538167e-03,  4.82494943e-04,  1.70047360e-03,  6.15684222e-03,\n",
       "         5.27270790e-03, -3.59167601e-03,  3.99565417e-03, -2.58755521e-03,\n",
       "        -8.57057981e-03,  6.34627533e-04,  6.53182529e-03, -1.15847180e-03,\n",
       "        -1.15238084e-03,  1.85835280e-03,  1.22643150e-02,  2.24575429e-04,\n",
       "         1.86959328e-03,  1.65696815e-03,  1.74687873e-03,  6.84075756e-03,\n",
       "         3.50520946e-03,  6.10242784e-03,  2.72335345e-03,  2.29323492e-03,\n",
       "        -1.32510939e-03, -9.45699343e-04, -3.74621456e-03,  6.42387383e-03,\n",
       "         1.91874721e-03,  8.26865621e-03,  2.30423198e-03,  4.56943735e-03,\n",
       "        -7.29505438e-04, -1.36935505e-05,  4.51378990e-03,  2.75769178e-03,\n",
       "         6.50605978e-03,  2.03476450e-03,  6.89279241e-03, -7.82187737e-04,\n",
       "         1.48000810e-02,  2.18404326e-04, -1.81714108e-03,  1.95179798e-03,\n",
       "         4.04691463e-03,  1.06323771e-02,  2.32510665e-03,  5.42873936e-03,\n",
       "         2.87368614e-03, -2.48465152e-03, -3.15901777e-03,  3.30358488e-03,\n",
       "         3.09048546e-03, -2.23210780e-03,  2.23181769e-03,  2.24864925e-03,\n",
       "         1.40820906e-04, -3.31165938e-04,  2.77459924e-03, -1.70672036e-04,\n",
       "         7.64608523e-03,  7.37681193e-03, -9.07455629e-04,  5.07608429e-03,\n",
       "         2.44053314e-03, -1.43288763e-03, -3.95295257e-03, -2.82500032e-03,\n",
       "         3.85522982e-03, -3.47444811e-03, -3.20038502e-03,  2.20704800e-03,\n",
       "         4.42721741e-03, -2.55512423e-03,  5.63872140e-03,  8.69115116e-04,\n",
       "         1.10464729e-03,  1.02700945e-02,  2.73751235e-03,  2.70796102e-03,\n",
       "         7.39050144e-03, -3.47070792e-03,  3.71622224e-03,  3.85353982e-04,\n",
       "         4.25426569e-03,  1.88058533e-03, -1.59444893e-03, -1.05038460e-03,\n",
       "        -7.49421597e-04, -1.83285761e-03,  2.67807674e-03, -3.32410855e-04,\n",
       "        -8.48842203e-04,  3.66223417e-03,  3.83445830e-03, -4.77685360e-03,\n",
       "         2.18234956e-03,  7.94269145e-03,  8.14462546e-03,  5.52183622e-03,\n",
       "         1.29377528e-04,  8.62507895e-03,  8.40586238e-03, -3.87240527e-03,\n",
       "         5.09185996e-03,  4.32065176e-03,  4.65953583e-03, -1.71298243e-03,\n",
       "        -5.79193840e-03,  2.15536100e-03,  9.35823424e-04,  1.01255393e-03,\n",
       "        -2.92478688e-03,  2.43252469e-03, -1.12384614e-02,  8.56292900e-03,\n",
       "        -3.02365748e-03, -7.10733118e-04,  3.09992512e-03,  5.05596306e-03,\n",
       "         2.79872818e-03, -5.91261918e-03,  3.09888599e-03,  3.52308573e-03,\n",
       "        -2.32948878e-04,  6.19429602e-06,  1.45611563e-03, -2.67318985e-03,\n",
       "         6.10447163e-03, -3.26549402e-03,  3.48858256e-03, -2.86458828e-03,\n",
       "        -1.32213940e-03, -3.56964394e-03,  7.41418125e-03, -4.18572128e-03,\n",
       "         1.67936634e-03,  1.30937051e-03,  5.33431675e-03,  2.81142187e-03,\n",
       "         2.56788661e-03, -4.87642735e-03,  2.12078961e-03, -3.18689505e-03,\n",
       "         2.97349738e-03,  2.06301641e-03,  6.32909872e-03,  7.38211581e-03,\n",
       "         6.42671576e-03,  1.68457092e-03,  2.25137989e-03,  7.73451943e-03,\n",
       "        -2.19813036e-03, -6.29558833e-03,  7.89090339e-03,  6.17506355e-03,\n",
       "        -2.47687427e-03,  7.21083116e-03,  4.18094394e-04,  3.33395205e-04,\n",
       "         6.20684819e-03, -1.26924496e-02, -7.66055775e-04,  2.08420539e-03,\n",
       "         9.22542065e-03, -5.30461839e-04,  4.76781838e-03,  1.16242294e-03,\n",
       "         5.76180313e-03, -1.25444331e-03, -1.05563039e-03,  1.77850924e-03,\n",
       "         2.38422916e-04,  5.30323945e-04,  5.15919819e-04,  3.78468679e-03,\n",
       "         3.42012104e-03,  4.30753268e-03,  5.77361695e-03, -1.68578513e-03,\n",
       "         3.79315019e-03,  3.26174288e-03,  9.57270712e-03,  4.12978791e-03,\n",
       "         4.55950433e-03,  6.75394619e-03, -4.07291576e-03,  5.39495610e-03,\n",
       "        -1.14462536e-03, -4.52291127e-03,  4.03456483e-03, -1.38147653e-03,\n",
       "         1.47070864e-03, -6.41487772e-03, -5.54174511e-03,  7.35608221e-04,\n",
       "        -5.82594844e-03,  8.44289723e-04,  5.65436622e-03,  5.93771599e-03,\n",
       "         3.75296967e-03,  5.71391452e-03,  1.16978167e-03, -5.57545712e-03,\n",
       "         3.63275618e-03,  1.48560456e-03, -1.63193292e-03,  3.57316621e-03,\n",
       "         3.30826873e-03, -5.05979871e-03, -8.28014128e-03, -4.49140760e-04,\n",
       "         2.50881934e-03,  5.52179525e-03,  3.01061035e-03,  3.15286661e-03,\n",
       "        -5.52076031e-04,  8.08232184e-03,  6.91286521e-03,  5.75042656e-03,\n",
       "         3.63065558e-03,  1.18593755e-03, -2.66672811e-03, -3.80545086e-03,\n",
       "         5.59640769e-03,  3.55840661e-03,  4.78814542e-03, -7.63015402e-03,\n",
       "        -3.33212462e-04, -2.16189702e-03,  1.62194902e-03,  3.14257294e-03,\n",
       "        -7.66037172e-03, -2.28040828e-03, -2.53074599e-04,  3.34421708e-03,\n",
       "        -2.48569110e-03, -2.15854263e-03,  1.10993709e-03,  2.80320528e-03,\n",
       "         9.17778909e-03,  3.25771142e-03,  3.57155548e-03, -1.85380632e-03],\n",
       "       dtype=float32)>]"
      ]
     },
     "execution_count": 77,
     "metadata": {},
     "output_type": "execute_result"
    }
   ],
   "source": [
    "# This shows that trainging did SOMETHING. \n",
    "mlp.layers[1].weights"
   ]
  },
  {
   "cell_type": "markdown",
   "metadata": {},
   "source": [
    "## Generic CNN\n",
    "Use three layers following the design on page 461."
   ]
  },
  {
   "cell_type": "code",
   "execution_count": 84,
   "metadata": {},
   "outputs": [
    {
     "data": {
      "text/plain": [
       "[<tf.Variable 'conv2d_62/kernel:0' shape=(7, 7, 1, 64) dtype=float32, numpy=\n",
       " array([[[[ 0.00986201,  0.01265944,  0.02457138, ...,  0.02516665,\n",
       "           -0.02956999, -0.03243503]],\n",
       " \n",
       "         [[-0.02815349,  0.00189705, -0.01393528, ..., -0.0322247 ,\n",
       "            0.02679797, -0.01290373]],\n",
       " \n",
       "         [[ 0.02533486, -0.02377192,  0.01724548, ..., -0.02208702,\n",
       "            0.03245023, -0.03533415]],\n",
       " \n",
       "         ...,\n",
       " \n",
       "         [[ 0.02358662, -0.00574169,  0.00253955, ..., -0.01412475,\n",
       "           -0.01934115, -0.00078589]],\n",
       " \n",
       "         [[ 0.00094751, -0.03631891,  0.03298129, ..., -0.02725365,\n",
       "            0.04045251, -0.04124802]],\n",
       " \n",
       "         [[-0.01916933,  0.02111403,  0.03865586, ...,  0.00056344,\n",
       "            0.0333082 ,  0.03118422]]],\n",
       " \n",
       " \n",
       "        [[[ 0.00660738, -0.02755894,  0.03329207, ..., -0.04063937,\n",
       "           -0.03945661, -0.00297787]],\n",
       " \n",
       "         [[-0.0244829 ,  0.0415902 , -0.00970466, ..., -0.01882142,\n",
       "           -0.01335383,  0.0347708 ]],\n",
       " \n",
       "         [[-0.01510699, -0.03503012,  0.00077175, ...,  0.02525966,\n",
       "           -0.01234648,  0.01895092]],\n",
       " \n",
       "         ...,\n",
       " \n",
       "         [[-0.03267412,  0.02203482, -0.01231187, ...,  0.03008946,\n",
       "            0.02106693, -0.01529597]],\n",
       " \n",
       "         [[ 0.02590455,  0.0039408 , -0.00920839, ..., -0.00817332,\n",
       "            0.02092468, -0.01247537]],\n",
       " \n",
       "         [[-0.02067932,  0.00251278,  0.04281294, ..., -0.01533869,\n",
       "            0.02941288,  0.02526701]]],\n",
       " \n",
       " \n",
       "        [[[-0.01835026,  0.01857194,  0.01494635, ...,  0.03439185,\n",
       "            0.00085669,  0.04285186]],\n",
       " \n",
       "         [[-0.01573998, -0.01564609, -0.00473178, ...,  0.02471805,\n",
       "           -0.04260534, -0.0031642 ]],\n",
       " \n",
       "         [[-0.03546248,  0.03945873,  0.03173261, ..., -0.03684006,\n",
       "           -0.04339476,  0.00453577]],\n",
       " \n",
       "         ...,\n",
       " \n",
       "         [[ 0.0074151 ,  0.01888796,  0.03545075, ...,  0.01473376,\n",
       "           -0.02345795,  0.01053059]],\n",
       " \n",
       "         [[-0.02710503,  0.03428305,  0.00616957, ..., -0.03927537,\n",
       "            0.0378162 ,  0.00522617]],\n",
       " \n",
       "         [[-0.00445931,  0.01193944, -0.01382524, ..., -0.02116536,\n",
       "           -0.03567377, -0.036621  ]]],\n",
       " \n",
       " \n",
       "        ...,\n",
       " \n",
       " \n",
       "        [[[ 0.03351958,  0.01175468,  0.0398342 , ..., -0.00826922,\n",
       "            0.04323046,  0.0208731 ]],\n",
       " \n",
       "         [[-0.04293086,  0.0312193 , -0.00460506, ...,  0.0408473 ,\n",
       "           -0.01424187, -0.00932633]],\n",
       " \n",
       "         [[ 0.02892751,  0.03284286, -0.04334578, ..., -0.02542568,\n",
       "            0.00194023,  0.00596702]],\n",
       " \n",
       "         ...,\n",
       " \n",
       "         [[-0.0332795 , -0.0012852 ,  0.01552573, ..., -0.04150034,\n",
       "            0.03243624,  0.03488709]],\n",
       " \n",
       "         [[ 0.00751316, -0.02544149,  0.02233084, ...,  0.02424828,\n",
       "           -0.02490089,  0.03053806]],\n",
       " \n",
       "         [[-0.00769572,  0.04146947,  0.02482216, ...,  0.0298296 ,\n",
       "           -0.01460528, -0.04046035]]],\n",
       " \n",
       " \n",
       "        [[[-0.02424207, -0.02818327, -0.02249686, ..., -0.03659623,\n",
       "           -0.01814961, -0.00216887]],\n",
       " \n",
       "         [[-0.03160723, -0.01581142, -0.03539129, ...,  0.02986414,\n",
       "            0.01835297,  0.00376435]],\n",
       " \n",
       "         [[ 0.03038155, -0.03979917,  0.01872957, ..., -0.0384998 ,\n",
       "            0.02443016, -0.00672777]],\n",
       " \n",
       "         ...,\n",
       " \n",
       "         [[ 0.02909872, -0.02624582, -0.02918785, ...,  0.01788913,\n",
       "            0.00406053, -0.00353668]],\n",
       " \n",
       "         [[ 0.03849783, -0.02797153,  0.03376399, ...,  0.03231381,\n",
       "            0.03806898,  0.03626022]],\n",
       " \n",
       "         [[ 0.02313471, -0.00157211,  0.04304582, ...,  0.03692337,\n",
       "            0.02511731, -0.01908657]]],\n",
       " \n",
       " \n",
       "        [[[ 0.02354673,  0.00842025, -0.03473181, ..., -0.04040727,\n",
       "           -0.03569127,  0.02714793]],\n",
       " \n",
       "         [[-0.00501041, -0.00621904, -0.01379816, ...,  0.01629784,\n",
       "           -0.00638469, -0.03416484]],\n",
       " \n",
       "         [[-0.03629602, -0.00143695,  0.00365411, ..., -0.01189182,\n",
       "            0.02096795, -0.01453343]],\n",
       " \n",
       "         ...,\n",
       " \n",
       "         [[-0.03801803,  0.04311181,  0.00210169, ..., -0.03010778,\n",
       "           -0.02985418, -0.03445685]],\n",
       " \n",
       "         [[-0.02447987,  0.02704843, -0.0326249 , ..., -0.00463476,\n",
       "           -0.00231076, -0.02975786]],\n",
       " \n",
       "         [[-0.04185292, -0.00254302, -0.04030808, ..., -0.01469064,\n",
       "           -0.01239831,  0.00805662]]]], dtype=float32)>,\n",
       " <tf.Variable 'conv2d_62/bias:0' shape=(64,) dtype=float32, numpy=\n",
       " array([0., 0., 0., 0., 0., 0., 0., 0., 0., 0., 0., 0., 0., 0., 0., 0., 0.,\n",
       "        0., 0., 0., 0., 0., 0., 0., 0., 0., 0., 0., 0., 0., 0., 0., 0., 0.,\n",
       "        0., 0., 0., 0., 0., 0., 0., 0., 0., 0., 0., 0., 0., 0., 0., 0., 0.,\n",
       "        0., 0., 0., 0., 0., 0., 0., 0., 0., 0., 0., 0., 0.], dtype=float32)>]"
      ]
     },
     "execution_count": 84,
     "metadata": {},
     "output_type": "execute_result"
    }
   ],
   "source": [
    "import keras.layers as kl\n",
    "cnn = keras.models.Sequential([\n",
    "    kl.Conv2D(filters=64,kernel_size=7,activation=\"relu\",padding=\"SAME\",\n",
    "    input_shape=[28,28,1]),\n",
    "    kl.MaxPooling2D(2),\n",
    "    kl.Conv2D(128,3,activation=\"relu\",padding=\"same\"),\n",
    "    kl.Conv2D(128,3,activation=\"relu\",padding=\"same\"),\n",
    "    kl.MaxPooling2D(2),   \n",
    "    kl.Conv2D(256,3,activation=\"relu\",padding=\"same\"),\n",
    "    kl.Conv2D(256,3,activation=\"relu\",padding=\"same\"),\n",
    "    kl.MaxPooling2D(2), \n",
    "    kl.Flatten(),\n",
    "    kl.Dense(128,activation=\"relu\"),\n",
    "    kl.Dropout(0.5),\n",
    "    kl.Dense(64,activation=\"relu\"),\n",
    "    kl.Dropout(0.5),    \n",
    "    kl.Dense(10,activation=\"softmax\")\n",
    "])\n",
    "# 10 nodes in the output layer\n",
    "# corresponds to 10 classes of MNIST clothes.\n",
    "cnn.layers[0].weights"
   ]
  },
  {
   "cell_type": "code",
   "execution_count": 85,
   "metadata": {},
   "outputs": [
    {
     "name": "stdout",
     "output_type": "stream",
     "text": [
      "Epoch 1/10\n",
      "1719/1719 [==============================] - 596s 347ms/step - loss: 0.0306 - accuracy: 0.1002 - val_loss: 0.0000e+00 - val_accuracy: 0.0914\n",
      "Epoch 2/10\n",
      "1719/1719 [==============================] - 495s 288ms/step - loss: 6.2183e-04 - accuracy: 0.1008 - val_loss: 0.0000e+00 - val_accuracy: 0.0914\n",
      "Epoch 3/10\n",
      "1719/1719 [==============================] - 489s 284ms/step - loss: 5.8064e-04 - accuracy: 0.1007 - val_loss: 0.0000e+00 - val_accuracy: 0.0914\n",
      "Epoch 4/10\n",
      "1719/1719 [==============================] - 494s 287ms/step - loss: 4.4487e-04 - accuracy: 0.1008 - val_loss: 0.0000e+00 - val_accuracy: 0.0914\n",
      "Epoch 5/10\n",
      "1719/1719 [==============================] - 492s 286ms/step - loss: 2.6617e-04 - accuracy: 0.1008 - val_loss: 0.0000e+00 - val_accuracy: 0.0914\n",
      "Epoch 6/10\n",
      "1719/1719 [==============================] - 540s 314ms/step - loss: 7.7919e-05 - accuracy: 0.1008 - val_loss: 0.0000e+00 - val_accuracy: 0.0914\n",
      "Epoch 7/10\n",
      "1719/1719 [==============================] - 572s 333ms/step - loss: 1.1375e-04 - accuracy: 0.1008 - val_loss: 0.0000e+00 - val_accuracy: 0.0914\n",
      "Epoch 8/10\n",
      "1719/1719 [==============================] - 541s 315ms/step - loss: 1.9875e-04 - accuracy: 0.1008 - val_loss: 0.0000e+00 - val_accuracy: 0.0914\n",
      "Epoch 9/10\n",
      "1719/1719 [==============================] - 526s 306ms/step - loss: 1.2216e-04 - accuracy: 0.1008 - val_loss: 0.0000e+00 - val_accuracy: 0.0914\n",
      "Epoch 10/10\n",
      "1719/1719 [==============================] - 515s 299ms/step - loss: 9.9995e-05 - accuracy: 0.1008 - val_loss: 0.0000e+00 - val_accuracy: 0.0914\n"
     ]
    }
   ],
   "source": [
    "cnn.compile(loss=\"sparse_categorical_crossentropy\",\n",
    "           optimizer=\"sgd\",\n",
    "           metrics=[\"accuracy\"])\n",
    "# This is very very slow!\n",
    "# On our laptop, only 1719 instances fit in RAM per epoch.\n",
    "hist = cnn.fit(X_train,y_train,epochs=10,\n",
    "                 validation_data=(X_valid,y_valid))"
   ]
  },
  {
   "cell_type": "code",
   "execution_count": 86,
   "metadata": {},
   "outputs": [
    {
     "data": {
      "image/png": "[encoded data removed]",
      "text/plain": [
       "<Figure size 576x360 with 1 Axes>"
      ]
     },
     "metadata": {
      "needs_background": "light"
     },
     "output_type": "display_data"
    }
   ],
   "source": [
    "pd.DataFrame(hist.history).plot(figsize=(8,5))\n",
    "plt.grid(True)\n",
    "plt.gca().set_ylim(0,0.12)\n",
    "plt.show()"
   ]
  },
  {
   "cell_type": "markdown",
   "metadata": {},
   "source": [
    "### Terrible!\n",
    "Our results are terrible.\n",
    "The accuracy sits at 10% and never changes.\n",
    "This is probably because, due to laptop memory, mini batches are small.\n",
    "We noticed that accuracy didn't change whether our CNN had \n",
    "one convolutional layer or three, zero dense layers or three."
   ]
  },
  {
   "cell_type": "code",
   "execution_count": null,
   "metadata": {},
   "outputs": [],
   "source": []
  }
 ],
 "metadata": {
  "kernelspec": {
   "display_name": "Python 3",
   "language": "python",
   "name": "python3"
  },
  "language_info": {
   "codemirror_mode": {
    "name": "ipython",
    "version": 3
   },
   "file_extension": ".py",
   "mimetype": "text/x-python",
   "name": "python",
   "nbconvert_exporter": "python",
   "pygments_lexer": "ipython3",
   "version": "3.8.3"
  }
 },
 "nbformat": 4,
 "nbformat_minor": 2
}
