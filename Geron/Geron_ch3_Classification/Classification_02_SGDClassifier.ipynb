{
 "cells": [
  {
   "cell_type": "code",
   "execution_count": 1,
   "metadata": {},
   "outputs": [
    {
     "data": {
      "text/plain": [
       "(60000, 784)"
      ]
     },
     "execution_count": 1,
     "metadata": {},
     "output_type": "execute_result"
    }
   ],
   "source": [
    "# First attempt at classification.\n",
    "# Try predicting one value.\n",
    "\n",
    "import ssl\n",
    "import tensorflow\n",
    "from tensorflow.keras.datasets import mnist\n",
    "(X_train, y_train), (X_test, y_test) = mnist.load_data()\n",
    "\n",
    "# This is a general linear classifier.\n",
    "# Lots of parameters. Up to the user to choose good parameters.\n",
    "from sklearn.linear_model import SGDClassifier\n",
    "sgd_clf = SGDClassifier(random_state=42) \n",
    "# This command in the book does not work on this data.\n",
    "# ValueError: Found array with dim 3. Estimator expected <= 2.\n",
    "# The X_train array has dimention 3: 60K x 28 x 28.\n",
    "#sgd_clf.fit(X_train,y_train)\n",
    "# We must transform each image into a single dimension.\n",
    "# This takes a minute.\n",
    "num_pixels = 784\n",
    "X_train1D = X_train.reshape(X_train.shape[0],num_pixels)\n",
    "X_test1D = X_test.reshape(X_test.shape[0],num_pixels)\n",
    "X_train1D.shape"
   ]
  },
  {
   "cell_type": "code",
   "execution_count": 14,
   "metadata": {},
   "outputs": [],
   "source": [
    "#sgd_clf.fit(X_train1D,y_train)\n",
    "#sgd_clf.predict(X_train1D[0])\n",
    "\n",
    "# The SGDClassifier prediction above gives the following error. We need to transpose the sample.\n",
    "# Reshape your data either using array.reshape(-1, 1) if your data has a single feature or array.reshape(1, -1) if it contains a single sample.\n",
    "sample_0 = X_train1D[0].reshape(1,-1)\n",
    "\n",
    "#sgd_clf.fit(X_train1D,y_train)\n",
    "#sgd_clf.predict(sample_0)\n",
    "\n",
    "# We asked a linear classifier to classify 10 classes.\n",
    "# As expected, the answer is wrong: 3.\n",
    "y_train[0]   # value is 5"
   ]
  },
  {
   "cell_type": "code",
   "execution_count": 11,
   "metadata": {},
   "outputs": [
    {
     "data": {
      "text/plain": [
       "array([ True, False, False, ...,  True, False, False])"
      ]
     },
     "execution_count": 11,
     "metadata": {},
     "output_type": "execute_result"
    }
   ],
   "source": [
    "# The book suggests trying a binary classifier.\n",
    "# Transform the 10-class labels into binary labels.\n",
    "# The parentheses ask for a list. Python gives boolean array\n",
    "y_test_boolean_array = (y_test == 5)\n",
    "y_train_boolean_array = (y_train == 5)\n",
    "y_train_boolean_array"
   ]
  },
  {
   "cell_type": "code",
   "execution_count": 12,
   "metadata": {},
   "outputs": [
    {
     "data": {
      "text/plain": [
       "SGDClassifier(random_state=42)"
      ]
     },
     "execution_count": 12,
     "metadata": {},
     "output_type": "execute_result"
    }
   ],
   "source": [
    "# Retrain. This takes a long time. 10 Minutes?\n",
    "sgd_clf.fit(X_train1D,y_train_boolean_array)"
   ]
  },
  {
   "cell_type": "code",
   "execution_count": 13,
   "metadata": {},
   "outputs": [
    {
     "data": {
      "text/plain": [
       "array([ True])"
      ]
     },
     "execution_count": 13,
     "metadata": {},
     "output_type": "execute_result"
    }
   ],
   "source": [
    "# Predict. Indeed, the first sample is a 5. True.\n",
    "sgd_clf.predict(sample_0)"
   ]
  },
  {
   "cell_type": "code",
   "execution_count": null,
   "metadata": {},
   "outputs": [],
   "source": []
  }
 ],
 "metadata": {
  "kernelspec": {
   "display_name": "Python 3",
   "language": "python",
   "name": "python3"
  },
  "language_info": {
   "codemirror_mode": {
    "name": "ipython",
    "version": 3
   },
   "file_extension": ".py",
   "mimetype": "text/x-python",
   "name": "python",
   "nbconvert_exporter": "python",
   "pygments_lexer": "ipython3",
   "version": "3.8.3"
  }
 },
 "nbformat": 4,
 "nbformat_minor": 2
}
