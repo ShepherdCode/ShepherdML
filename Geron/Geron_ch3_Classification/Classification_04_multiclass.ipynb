{
 "cells": [
  {
   "cell_type": "code",
   "execution_count": 2,
   "metadata": {},
   "outputs": [
    {
     "data": {
      "text/plain": [
       "array([5, 0, 4, ..., 5, 6, 8], dtype=uint8)"
      ]
     },
     "execution_count": 2,
     "metadata": {},
     "output_type": "execute_result"
    }
   ],
   "source": [
    "# Multiclass classification.\n",
    "\n",
    "# We previously compared two binary classifiers: SGD and RF.\n",
    "# Multiclass (or multinomial) means more than 2 labels across dataset.\n",
    "# Multilabel means 1 or more labels per sample.\n",
    "# Multioutput means multilabel and multiclass (e.g. 3 possible labels, each sample has 2).\n",
    "\n",
    "# Repeat steps from previous notebook.\n",
    "import ssl\n",
    "import tensorflow\n",
    "from tensorflow.keras.datasets import mnist\n",
    "(X_train, y_train), (X_test, y_test) = mnist.load_data()\n",
    "from sklearn.linear_model import SGDClassifier\n",
    "sgd_clf = SGDClassifier(random_state=42) \n",
    "# Transform 28 * 28 pixel images into 784 pixel array\n",
    "num_pixels = X_train.shape[1]*X_train.shape[2]\n",
    "X_train1D = X_train.reshape(X_train.shape[0],num_pixels)\n",
    "X_test1D = X_test.reshape(X_test.shape[0],num_pixels)\n",
    "sample_0 = X_train1D[0].reshape(1,-1)\n",
    "# numpy ravel() returns contiguous flattened array. \n",
    "y_train1D = y_train.ravel() # otherwise SVC complains that shape is (1,60K)\n",
    "y_train1D"
   ]
  },
  {
   "cell_type": "code",
   "execution_count": 3,
   "metadata": {},
   "outputs": [
    {
     "data": {
      "text/plain": [
       "array([5], dtype=uint8)"
      ]
     },
     "execution_count": 3,
     "metadata": {},
     "output_type": "execute_result"
    }
   ],
   "source": [
    "# Two ways to do multiclass with a binary classifier.\n",
    "# One-vs-Rest e.g. take best score of is-0, is-1, is-2, etc., Uses N classifiers. Usually preferred.\n",
    "# One-vs-One e.g. take class with most pairwise wins. Uses N*(N-1)/2 classifiers. \n",
    "# OvO is good for SVM because SVM does not scale.\n",
    "\n",
    "# SKLearn has a class called OneVsRestClassifier.\n",
    "# SKLearn SVC automatically uses OvO for multiclass SVM.\n",
    "from sklearn.svm import SVC\n",
    "svm_clf=SVC()\n",
    "# This takes a long time! 10 min? This trains 10*9/2=45 classifiers.\n",
    "svm_clf.fit(X_train1D, y_train1D)\n",
    "svm_clf.predict(sample_0)"
   ]
  },
  {
   "cell_type": "code",
   "execution_count": 4,
   "metadata": {},
   "outputs": [
    {
     "data": {
      "text/plain": [
       "array([[ 1.72501977,  2.72809088,  7.2510018 ,  8.3076379 , -0.31087254,\n",
       "         9.3132482 ,  1.70975103,  2.76765202,  6.23049537,  4.84771048]])"
      ]
     },
     "execution_count": 4,
     "metadata": {},
     "output_type": "execute_result"
    }
   ],
   "source": [
    "# Model computes 10 scores per instance i.e. this vs other.\n",
    "sample_0_scores=svm_clf.decision_function(sample_0)\n",
    "sample_0_scores"
   ]
  },
  {
   "cell_type": "code",
   "execution_count": 7,
   "metadata": {},
   "outputs": [
    {
     "data": {
      "text/plain": [
       "array([0.8983, 0.891 , 0.9018])"
      ]
     },
     "execution_count": 7,
     "metadata": {},
     "output_type": "execute_result"
    }
   ],
   "source": [
    "# The SGDClassifier detects multiclass labels and switches to one-vs-rest.\n",
    "# StandardScaler converts actual scores to z-scores; 5% improvement on this data.\n",
    "import numpy as np\n",
    "from sklearn.preprocessing import StandardScaler\n",
    "scaler=StandardScaler()\n",
    "X_train_scaled = scaler.fit_transform(X_train1D.astype(np.float64))\n",
    "# The cross validation takes a long time! 15 min?\n",
    "# First, score accuracy.\n",
    "from sklearn.model_selection import cross_val_score\n",
    "accuracy=cross_val_score(sgd_clf, X_train_scaled, y_train, cv=3, scoring=\"accuracy\")\n",
    "accuracy"
   ]
  },
  {
   "cell_type": "code",
   "execution_count": 13,
   "metadata": {},
   "outputs": [
    {
     "data": {
      "text/plain": [
       "array([3, 0, 4, ..., 5, 6, 8], dtype=uint8)"
      ]
     },
     "execution_count": 13,
     "metadata": {},
     "output_type": "execute_result"
    }
   ],
   "source": [
    "# Second, the actual predictions.\n",
    "from sklearn.model_selection import cross_val_predict\n",
    "predictions=cross_val_predict(sgd_clf, X_train_scaled, y_train, cv=3)\n",
    "predictions"
   ]
  },
  {
   "cell_type": "code",
   "execution_count": 14,
   "metadata": {},
   "outputs": [
    {
     "data": {
      "text/plain": [
       "array([[5577,    0,   22,    5,    8,   43,   36,    6,  225,    1],\n",
       "       [   0, 6400,   37,   24,    4,   44,    4,    7,  212,   10],\n",
       "       [  27,   27, 5220,   92,   73,   27,   67,   36,  378,   11],\n",
       "       [  22,   17,  117, 5227,    2,  203,   27,   40,  403,   73],\n",
       "       [  12,   14,   41,    9, 5182,   12,   34,   27,  347,  164],\n",
       "       [  27,   15,   30,  168,   53, 4444,   75,   14,  535,   60],\n",
       "       [  30,   15,   42,    3,   44,   97, 5552,    3,  131,    1],\n",
       "       [  21,   10,   51,   30,   49,   12,    3, 5684,  195,  210],\n",
       "       [  17,   63,   48,   86,    3,  126,   25,   10, 5429,   44],\n",
       "       [  25,   18,   30,   64,  118,   36,    1,  179,  371, 5107]])"
      ]
     },
     "execution_count": 14,
     "metadata": {},
     "output_type": "execute_result"
    }
   ],
   "source": [
    "# Third, the 10x10 confusion matrix.\n",
    "from sklearn.metrics import confusion_matrix\n",
    "cm=confusion_matrix(y_train,predictions)\n",
    "cm"
   ]
  },
  {
   "cell_type": "code",
   "execution_count": null,
   "metadata": {},
   "outputs": [],
   "source": [
    "# Book uses KNN with SKLearn KNeighborsClassier for multilabel & multioutput.\n",
    "# One form of multi-label: label each number as small/large and even/odd.\n",
    "# Label every pixel white/grey/black (multiclass).\n",
    "# Label every image by all of its pixel labels (multilabel).\n",
    "\n",
    "# The exercises show how to enhance image training with augmentation.\n",
    "# Take every image and translate it up, down, left & right by 1 pixel each way.\n",
    "# Add those to training set with the same labels as before.\n",
    "# A further possibility is to rotate or flip each image.\n",
    "# Example of why this works: 3 vs 5 is hard to learn, need more examples.\n",
    "# A further possibility is adding toplogy features like # closed loops (8 has 2).\n",
    "# Another possibility is data cleaning / dimensionality reduction:\n",
    "# book shows reducing greyscale to fewer values using KNN."
   ]
  }
 ],
 "metadata": {
  "kernelspec": {
   "display_name": "Python 3",
   "language": "python",
   "name": "python3"
  },
  "language_info": {
   "codemirror_mode": {
    "name": "ipython",
    "version": 3
   },
   "file_extension": ".py",
   "mimetype": "text/x-python",
   "name": "python",
   "nbconvert_exporter": "python",
   "pygments_lexer": "ipython3",
   "version": "3.8.3"
  }
 },
 "nbformat": 4,
 "nbformat_minor": 2
}
