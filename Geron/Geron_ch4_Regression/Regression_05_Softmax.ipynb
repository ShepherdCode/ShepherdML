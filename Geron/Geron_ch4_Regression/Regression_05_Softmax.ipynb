{
 "cells": [
  {
   "cell_type": "code",
   "execution_count": null,
   "metadata": {},
   "outputs": [],
   "source": [
    "# Softmax regression.\n",
    "# aka multinomial logistic regression.\n",
    "# Generalization of (binary) logistic regression to multi-class.\n",
    "\n",
    "# For mutually exclusive labels (or classes). \n",
    "# It is not multi-output.\n",
    "\n",
    "# Builds a collection of linear decision boundaries between classes.\n",
    "# Always predits the highest probability (even if that prob is low).\n",
    "\n",
    "# First,\n",
    "# Compute prob ( label=k ) for each label k.\n",
    "# Softmax score for label k = s_k(X) = XT * theta_k\n",
    "\n",
    "# Second,\n",
    "# Softmax function aka normalized exponential\n",
    "#   = exp(s_k(X)) / sum_over_k(exp(s_k(X)))\n",
    "\n",
    "# Classifier: yhat = argmax_over_k(softmax(s_k(X)))\n",
    "\n",
    "# Cost function: cross entropy.\n",
    "# This is used generally to compare distributions.\n",
    "# Cost (pred) = (1/m)sum_over_m(sum_over_k(y_ki*log(prob_ki))).\n",
    "# Note y_ki is 0 or 1, so it is an indicator variable.\n",
    "# Note for only 2 classes, cost reduces to log loss i.e. logistic regression.\n",
    "\n",
    "# Gradient vector DEL_k  w.r.t. theta = (1/m)sum_over_m(prob_ki - y_ki)*Xi"
   ]
  },
  {
   "cell_type": "code",
   "execution_count": 1,
   "metadata": {},
   "outputs": [
    {
     "data": {
      "text/plain": [
       "(array([[1.4, 0.2],\n",
       "        [1.4, 0.2],\n",
       "        [1.3, 0.2],\n",
       "        [1.5, 0.2],\n",
       "        [1.4, 0.2]]),\n",
       " array([0, 0, 0, 0, 0]))"
      ]
     },
     "execution_count": 1,
     "metadata": {},
     "output_type": "execute_result"
    }
   ],
   "source": [
    "# Reproduce previous notebook data.\n",
    "import numpy as np\n",
    "from sklearn import datasets\n",
    "iris = datasets.load_iris()\n",
    "X=iris['data'][:,(2,3)]  # use two features\n",
    "y=(iris['target'])   # three possible species\n",
    "X[:5], y[:5]"
   ]
  },
  {
   "cell_type": "code",
   "execution_count": 3,
   "metadata": {},
   "outputs": [
    {
     "data": {
      "text/plain": [
       "array([2])"
      ]
     },
     "execution_count": 3,
     "metadata": {},
     "output_type": "execute_result"
    }
   ],
   "source": [
    "from sklearn.linear_model import LogisticRegression\n",
    "alpha = 0.1\n",
    "alpha_inverse=1.0/alpha\n",
    "sm = LogisticRegression(multi_class=\"multinomial\",solver=\"lbfgs\",C=alpha_inverse)\n",
    "sm.fit(X,y)\n",
    "sample_data=[5,2]\n",
    "sm.predict([sample_data])"
   ]
  },
  {
   "cell_type": "code",
   "execution_count": 8,
   "metadata": {},
   "outputs": [
    {
     "data": {
      "text/plain": [
       "array([[6.38014896e-07, 5.74929995e-02, 9.42506362e-01]])"
      ]
     },
     "execution_count": 8,
     "metadata": {},
     "output_type": "execute_result"
    }
   ],
   "source": [
    "p=sm.predict_proba([sample_data])\n",
    "# Prob(sp1) close to zero.\n",
    "# Prob(sp2) 5.7%\n",
    "# Prob(sp3) 94%.\n",
    "p"
   ]
  },
  {
   "cell_type": "code",
   "execution_count": 9,
   "metadata": {},
   "outputs": [
    {
     "data": {
      "text/plain": [
       "0.9999999999999999"
      ]
     },
     "execution_count": 9,
     "metadata": {},
     "output_type": "execute_result"
    }
   ],
   "source": [
    "# The probabilities sum to 1.\n",
    "sum(p[0])"
   ]
  },
  {
   "cell_type": "code",
   "execution_count": null,
   "metadata": {},
   "outputs": [],
   "source": []
  }
 ],
 "metadata": {
  "kernelspec": {
   "display_name": "Python 3",
   "language": "python",
   "name": "python3"
  },
  "language_info": {
   "codemirror_mode": {
    "name": "ipython",
    "version": 3
   },
   "file_extension": ".py",
   "mimetype": "text/x-python",
   "name": "python",
   "nbconvert_exporter": "python",
   "pygments_lexer": "ipython3",
   "version": "3.8.3"
  }
 },
 "nbformat": 4,
 "nbformat_minor": 2
}
