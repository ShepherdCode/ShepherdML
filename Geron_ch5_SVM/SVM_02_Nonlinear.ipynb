{
 "cells": [
  {
   "cell_type": "markdown",
   "metadata": {},
   "source": [
    "# Apply SVM to non-linearly-separable data.\n",
    "\n",
    "## Kernels.\n",
    "A kernel computes k(a,b)=dot_product(f(a),f(b)) regardless of what f() is.\n",
    "A kernel maps two vectors to a real scalar, without computing f().\n",
    "Several kernels have been studied including linear, quadratic, and string.\n",
    "Kernels permit computatin using the kernel trick and Quadratic Programming.\n",
    "Kernels are an optimization for high degree computation.\n",
    "Kernels don't scale. They are quadratic or worse in train set size. \n",
    "\n",
    "## SVM is the classic kernelized learning algorithm.\n",
    "Papers on \"kernel-based methods\" usually use SVM.\n",
    "Kernelized means not required to transform every data instance to a \n",
    "fixed-length, real-valued feature vector.\n",
    "\n",
    "## Approaches covered:\n",
    "* SVM with polynomial features.\n",
    "* SVM with a polynomial kernel which accomplishes the same thing with Quadratic Programming.\n",
    "* SVM with Radial Basis Function kernel.\n",
    "\n"
   ]
  },
  {
   "cell_type": "code",
   "execution_count": 1,
   "metadata": {},
   "outputs": [
    {
     "data": {
      "text/plain": [
       "(array([0, 1, 1, 1, 0]),\n",
       " array([[-0.03205158,  0.99948622],\n",
       "        [ 1.94905575,  0.18489178],\n",
       "        [ 1.57211666, -0.32017225],\n",
       "        [ 0.00205461,  0.43592978],\n",
       "        [-0.90096887,  0.43388374]]))"
      ]
     },
     "execution_count": 1,
     "metadata": {},
     "output_type": "execute_result"
    }
   ],
   "source": [
    "import numpy as np\n",
    "from sklearn import datasets\n",
    "from sklearn.pipeline import Pipeline\n",
    "from sklearn.preprocessing import StandardScaler\n",
    "from sklearn.svm import LinearSVC \n",
    "from sklearn.preprocessing import PolynomialFeatures\n",
    "\n",
    "# Moon data.\n",
    "# Toy dataset for testing non-linearly separable data.\n",
    "# Requires polynomial features.\n",
    "\n",
    "from sklearn.datasets import make_moons\n",
    "X,y = make_moons(n_samples=100, noise=0.15)\n",
    "X,y = make_moons(n_samples=100, noise=0)\n",
    "y[:5],X[:5]"
   ]
  },
  {
   "cell_type": "code",
   "execution_count": 77,
   "metadata": {},
   "outputs": [
    {
     "data": {
      "image/png": "[encoded data removed]",
      "text/plain": [
       "<Figure size 432x288 with 1 Axes>"
      ]
     },
     "metadata": {
      "needs_background": "light"
     },
     "output_type": "display_data"
    }
   ],
   "source": [
    "import matplotlib.pyplot as plt\n",
    "plt.scatter(X[:,0],X[:,1],c=y)\n",
    "plt.show()\n",
    "# The data is not linearly separable."
   ]
  },
  {
   "cell_type": "code",
   "execution_count": 95,
   "metadata": {},
   "outputs": [],
   "source": [
    "# These two points would be hard to classify. \n",
    "# They are both on the X-axis.\n",
    "class1_example=np.array([0,0])\n",
    "class0_example=np.array([1,0])"
   ]
  },
  {
   "cell_type": "code",
   "execution_count": 96,
   "metadata": {},
   "outputs": [
    {
     "data": {
      "text/plain": [
       "(array([1]), array([1]))"
      ]
     },
     "execution_count": 96,
     "metadata": {},
     "output_type": "execute_result"
    }
   ],
   "source": [
    "# First try with linear features.\n",
    "svm=LinearSVC(C=1, loss='hinge')\n",
    "pipe1 = Pipeline([\n",
    "    ('scaler',StandardScaler()),\n",
    "    ('svm',svm) \n",
    "])\n",
    "pipe1.fit(X,y)\n",
    "pipe1.predict([class0_example]), pipe2.predict([class1_example])\n",
    "# Classifier is wrong."
   ]
  },
  {
   "cell_type": "code",
   "execution_count": 97,
   "metadata": {},
   "outputs": [
    {
     "data": {
      "text/plain": [
       "(array([0]), array([1]))"
      ]
     },
     "execution_count": 97,
     "metadata": {},
     "output_type": "execute_result"
    }
   ],
   "source": [
    "# Second try with polynomial features. \n",
    "\n",
    "# I tried this with degree=2 and that did not help.\n",
    "# As expected, degree=3 worked.\n",
    "# On some tests I got the error \"Failure to converge.\"\n",
    "# I made it work by setting more iterations (default=1K).\n",
    "svm=LinearSVC(C=1, loss='hinge', max_iter=90000)\n",
    "pipe2 = Pipeline([\n",
    "    ('poly',PolynomialFeatures(degree=3)),\n",
    "    ('scaler',StandardScaler()),\n",
    "    ('svm',svm) \n",
    "])\n",
    "pipe2.fit(X,y)\n",
    "pipe2.predict([class0_example]), pipe2.predict([class1_example])\n",
    "# Classifier working."
   ]
  },
  {
   "cell_type": "code",
   "execution_count": 98,
   "metadata": {},
   "outputs": [
    {
     "data": {
      "text/plain": [
       "(array([0.00066964]),\n",
       " array([[ 0.00000000e+00, -1.01277627e+00, -4.25979764e-01,\n",
       "         -2.34557293e+00, -3.26197766e-01, -1.79877937e-03,\n",
       "          3.33763468e+00, -1.22400169e-01,  4.63347886e-01,\n",
       "         -5.08840379e-01]]))"
      ]
     },
     "execution_count": 98,
     "metadata": {},
     "output_type": "execute_result"
    }
   ],
   "source": [
    "# Degree 3 features.\n",
    "svm.intercept_, svm.coef_"
   ]
  },
  {
   "cell_type": "code",
   "execution_count": 101,
   "metadata": {},
   "outputs": [
    {
     "data": {
      "text/plain": [
       "(array([0]), array([1]))"
      ]
     },
     "execution_count": 101,
     "metadata": {},
     "output_type": "execute_result"
    }
   ],
   "source": [
    "# Polynomial kernel.\n",
    "# The solution above won't scale to high precision.\n",
    "# Instead, use a kernel.\n",
    "# This simplifies the math but does not scale to large dimensions or large data sets.\n",
    "\n",
    "from sklearn.svm import SVC\n",
    "svm=SVC(kernel='poly',degree=3, coef0=1, C=5)\n",
    "pipe3 = Pipeline([\n",
    "    ('scaler',StandardScaler()),\n",
    "    ('svm',svm)     \n",
    "])\n",
    "pipe3.fit(X,y)\n",
    "pipe3.predict([class0_example]), pipe3.predict([class1_example])\n",
    "# Classifier working."
   ]
  },
  {
   "cell_type": "code",
   "execution_count": 102,
   "metadata": {},
   "outputs": [],
   "source": [
    "# Radial Basis Function.\n",
    "# RBF(x) = function distance of x to some landmark.\n",
    "# RBF is one type of Similarity Feature.\n",
    "\n",
    "# Can use z landmarks to generate z features.\n",
    "# Which landmarks? Each training instance is one option (but feature dimension grows).\n",
    "\n",
    "# Approximations of RBF can reduce feature dimension to help with kernel trick.\n",
    "# These include Fourier transform and eigendecomposition.\n",
    "\n",
    "# Bioinformatics kernels:\n",
    "# 1) String kernel for DNA. Also String subsequence kernel.\n",
    "# 2) Fisher kernel used for protein similarity.\n",
    "# 3) Spectrum kernel for protein classification.\n",
    "# 4) A k-mer spectrum kernel used by SVM to recognize TFBS. \n",
    "#    https://www.ncbi.nlm.nih.gov/pmc/articles/PMC5628859/ (Elmas et al 2017)\n",
    "\n",
    "# RBF Kernel uses exp(-distance^2) so it squashes large distances. \n",
    "# Guassian RBF fits distance to normal curve."
   ]
  },
  {
   "cell_type": "code",
   "execution_count": 105,
   "metadata": {},
   "outputs": [
    {
     "data": {
      "text/plain": [
       "(array([0]), array([1]))"
      ]
     },
     "execution_count": 105,
     "metadata": {},
     "output_type": "execute_result"
    }
   ],
   "source": [
    "svm=SVC(kernel='rbf', gamma=3, C=1)   # gamma controls dimensionality\n",
    "pipe4 = Pipeline([\n",
    "    ('scaler',StandardScaler()),\n",
    "    ('svm',svm)     \n",
    "])\n",
    "pipe4.fit(X,y)\n",
    "pipe4.predict([class0_example]), pipe4.predict([class1_example])\n",
    "# Classifier working."
   ]
  },
  {
   "cell_type": "code",
   "execution_count": 114,
   "metadata": {},
   "outputs": [
    {
     "data": {
      "text/plain": [
       "(array([0.5000003]), array([ 8.85396407e-07, -4.54015172e-06]))"
      ]
     },
     "execution_count": 114,
     "metadata": {},
     "output_type": "execute_result"
    }
   ],
   "source": [
    "# Other uses for SVM.\n",
    "\n",
    "# SVM for Outliers.\n",
    "# SVM for unsupervised outlier detection: sklearn.svm.OneClassSVM.\n",
    "\n",
    "# SVM for Regression.\n",
    "# Try linear regression first.\n",
    "from sklearn.svm import LinearSVR\n",
    "reg=LinearSVR(epsilon=.5)  \n",
    "# epsilon is width of margin * 2. Results seem sensitive to this parameter despite epsilon-insensitive loss.\n",
    "# The regularization parameter C defaults to 1\n",
    "# This model has parameters for L1 lss = epsilon-insensitive loss (default) or L2 loss.\n",
    "# Documentation says set dual=False when samples>features.\n",
    "reg.fit(X,y)\n",
    "reg.intercept_, reg.coef_\n",
    "# Linear regression coefficients are goofy."
   ]
  },
  {
   "cell_type": "code",
   "execution_count": 116,
   "metadata": {},
   "outputs": [
    {
     "data": {
      "text/plain": [
       "(array([0.50000118]), array([0.5000003]))"
      ]
     },
     "execution_count": 116,
     "metadata": {},
     "output_type": "execute_result"
    }
   ],
   "source": [
    "# Linear regression predictions are wrong.\n",
    "reg.predict([class0_example]), reg.predict([class1_example])"
   ]
  },
  {
   "cell_type": "code",
   "execution_count": 125,
   "metadata": {},
   "outputs": [
    {
     "data": {
      "text/plain": [
       "(array([0.90546924]), array([-100., -100., -100.,  100.,  100.]))"
      ]
     },
     "execution_count": 125,
     "metadata": {},
     "output_type": "execute_result"
    }
   ],
   "source": [
    "# Try polynomial regression.\n",
    "from sklearn.svm import SVR\n",
    "reg=SVR(kernel='poly',degree=2,C=100,epsilon=0.1)\n",
    "reg.fit(X,y)\n",
    "reg.intercept_, reg.dual_coef_[0,:5]  # coef_ usef for linear, dual_coef_ for polynomial."
   ]
  },
  {
   "cell_type": "code",
   "execution_count": 126,
   "metadata": {},
   "outputs": [
    {
     "data": {
      "text/plain": [
       "array([[-0.90096887,  0.43388374],\n",
       "       [-0.80141362,  0.59811053],\n",
       "       [ 1.        ,  0.        ],\n",
       "       [ 0.00820999,  0.37212284],\n",
       "       [ 0.71547241, -0.45866785]])"
      ]
     },
     "execution_count": 126,
     "metadata": {},
     "output_type": "execute_result"
    }
   ],
   "source": [
    "reg.support_vectors_[:5]"
   ]
  },
  {
   "cell_type": "code",
   "execution_count": 127,
   "metadata": {},
   "outputs": [],
   "source": [
    "# The rest of this chapter covers the math \"under the hood\".\n",
    "# No python."
   ]
  },
  {
   "cell_type": "code",
   "execution_count": null,
   "metadata": {},
   "outputs": [],
   "source": []
  }
 ],
 "metadata": {
  "kernelspec": {
   "display_name": "Python 3",
   "language": "python",
   "name": "python3"
  },
  "language_info": {
   "codemirror_mode": {
    "name": "ipython",
    "version": 3
   },
   "file_extension": ".py",
   "mimetype": "text/x-python",
   "name": "python",
   "nbconvert_exporter": "python",
   "pygments_lexer": "ipython3",
   "version": "3.8.3"
  }
 },
 "nbformat": 4,
 "nbformat_minor": 2
}
