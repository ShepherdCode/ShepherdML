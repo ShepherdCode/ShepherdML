{
 "cells": [
  {
   "cell_type": "code",
   "execution_count": 9,
   "metadata": {},
   "outputs": [
    {
     "data": {
      "text/plain": [
       "0.9622222222222222"
      ]
     },
     "execution_count": 9,
     "metadata": {},
     "output_type": "execute_result"
    }
   ],
   "source": [
    "# Clustering as Preprocessor\n",
    "\n",
    "# Example using MNIST digits: \n",
    "# cluster-then-regression beats just regression.\n",
    "\n",
    "from sklearn.datasets import load_digits\n",
    "X,y = load_digits(return_X_y=True)\n",
    "from sklearn.model_selection import train_test_split\n",
    "X_train,X_test,y_train,y_test = train_test_split(X,y)\n",
    "from sklearn.linear_model import LogisticRegression\n",
    "# We get \"fail to converge\" errors unless #iterations is very high.\n",
    "# Higher numbers can yield higher scores but it isn't linear.\n",
    "# Error message also suggests scaling the data.\n",
    "log = LogisticRegression(max_iter=5000)\n",
    "log.fit(X_train,y_train)\n",
    "log.score(X_test,y_test)\n",
    "# Without clustering, regression gets 96% accuracy."
   ]
  },
  {
   "cell_type": "code",
   "execution_count": 16,
   "metadata": {},
   "outputs": [
    {
     "data": {
      "text/plain": [
       "0.9688888888888889"
      ]
     },
     "execution_count": 16,
     "metadata": {},
     "output_type": "execute_result"
    }
   ],
   "source": [
    "# Now try clustering + regression\n",
    "from sklearn.cluster import KMeans\n",
    "from sklearn.pipeline import Pipeline\n",
    "pipe = Pipeline([\n",
    "    (\"kmeans\",KMeans(n_clusters=50)),\n",
    "    (\"regression\",LogisticRegression(max_iter=20000))\n",
    "])\n",
    "pipe.fit(X_train,y_train)\n",
    "pipe.score(X_test,y_test)\n",
    "# With clustering, regression gets 97% accuracy."
   ]
  },
  {
   "cell_type": "code",
   "execution_count": 24,
   "metadata": {},
   "outputs": [
    {
     "name": "stdout",
     "output_type": "stream",
     "text": [
      "Fitting 3 folds for each of 190 candidates, totalling 570 fits\n"
     ]
    },
    {
     "name": "stderr",
     "output_type": "stream",
     "text": [
      "[Parallel(n_jobs=1)]: Using backend SequentialBackend with 1 concurrent workers.\n",
      "[Parallel(n_jobs=1)]: Done 570 out of 570 | elapsed: 16.7min finished\n"
     ]
    },
    {
     "data": {
      "text/plain": [
       "0.9422222222222222"
      ]
     },
     "execution_count": 24,
     "metadata": {},
     "output_type": "execute_result"
    }
   ],
   "source": [
    "# Now optimize hyperparameters.\n",
    "from sklearn.preprocessing import StandardScaler\n",
    "from sklearn.preprocessing import MinMaxScaler\n",
    "from sklearn.model_selection import GridSearchCV\n",
    "param = dict(kmeans__n_clusters=range(10,100))\n",
    "clf = GridSearchCV(pipe,param,cv=3,verbose=2)\n",
    "# This took about 15 minutes and did not improve accuracy at all.\n",
    "#clf.fit(X_train,y_train)\n",
    "#pipe.score(X_test,y_test)\n",
    "\n",
    "# This took 16 minutes at 400% cpu and made things worse: 94% accuracy\n",
    "pipe = Pipeline([\n",
    "    (\"kmeans\",KMeans(n_clusters=50)),\n",
    "    (\"scaler\",MinMaxScaler()),\n",
    "    (\"regression\",LogisticRegression(max_iter=1000))\n",
    "])\n",
    "param = dict(kmeans__n_clusters=range(10,200))\n",
    "clf = GridSearchCV(pipe,param,cv=3,verbose=1)\n",
    "clf.fit(X_train,y_train)\n",
    "clf.score(X_test,y_test)"
   ]
  },
  {
   "cell_type": "code",
   "execution_count": null,
   "metadata": {},
   "outputs": [],
   "source": []
  }
 ],
 "metadata": {
  "kernelspec": {
   "display_name": "Python 3",
   "language": "python",
   "name": "python3"
  },
  "language_info": {
   "codemirror_mode": {
    "name": "ipython",
    "version": 3
   },
   "file_extension": ".py",
   "mimetype": "text/x-python",
   "name": "python",
   "nbconvert_exporter": "python",
   "pygments_lexer": "ipython3",
   "version": "3.8.3"
  }
 },
 "nbformat": 4,
 "nbformat_minor": 2
}
