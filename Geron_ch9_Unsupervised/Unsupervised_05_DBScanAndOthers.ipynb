{
 "cells": [
  {
   "cell_type": "markdown",
   "metadata": {},
   "source": [
    "# Other clustering algorithms"
   ]
  },
  {
   "cell_type": "markdown",
   "metadata": {},
   "source": [
    "## DBSCAN\n",
    "Algorithm works if clusters are easily separable. Finds clusters of any shape. Robust to outliers. Book shows to to use it for prediction (using KNN).\n",
    "\n",
    "Parameters:\n",
    "* epsilon gives radius\n",
    "* min_samples is minimum size per cluster"
   ]
  },
  {
   "cell_type": "markdown",
   "metadata": {},
   "source": [
    "## Others:\n",
    "* Agglomerative Clustering. Bottom-up hieirarchy. Scales well given a sparse connectivity matrix.\n",
    "* BIRCH. Builds a tree. Scales well.\n",
    "* Mean-Shift. Splits clusters at density changes. Does not scale.\n",
    "* Affinity Propagation. Voting. Quadratic time.\n",
    "* Spectral Clustering. Requires a similarity matrix. Uses embedding. Does not scale."
   ]
  },
  {
   "cell_type": "code",
   "execution_count": null,
   "metadata": {},
   "outputs": [],
   "source": []
  }
 ],
 "metadata": {
  "kernelspec": {
   "display_name": "Python 3",
   "language": "python",
   "name": "python3"
  },
  "language_info": {
   "codemirror_mode": {
    "name": "ipython",
    "version": 3
   },
   "file_extension": ".py",
   "mimetype": "text/x-python",
   "name": "python",
   "nbconvert_exporter": "python",
   "pygments_lexer": "ipython3",
   "version": "3.8.3"
  }
 },
 "nbformat": 4,
 "nbformat_minor": 2
}
