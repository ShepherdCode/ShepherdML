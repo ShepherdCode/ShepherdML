{
 "cells": [
  {
   "cell_type": "markdown",
   "metadata": {},
   "source": [
    "# Gaussian Mixture Model (GMM)\n",
    "\n",
    "## Algorithm\n",
    "\n",
    "Assume generative model that says this data came from a mixture of Gaussian distributions. Number of Gaussians is a parameter for the simpler implementation. The algorithm finds the mean and variance of each, plus a weight. Sensitive to local minima. Tends to find ellipsoid clusters no matter what.\n",
    "\n",
    "Use expectation maximization (EM). E step: assign instances to clusters (ditributions) and compute the probability of the data given the model. M step: update the model (how?). Uses soft clustering i.e. each instance assigned to each cluster with some probability, and the update uses all the probabilities. \n",
    "\n",
    "The model makes a big distinction of how the covariances are related.\n",
    "* spherical - all clusters are spherical\n",
    "* diag - covariance matrices are diagonal matrices\n",
    "* tied - boundaries are roughly parallel\n",
    "* full - any of the above"
   ]
  },
  {
   "cell_type": "markdown",
   "metadata": {},
   "source": [
    "## Applications:\n",
    "* Anomaly/outlier detection during training - set a minimum density parameter. The algorithm is sensitive to outliers so remove them till the model settles down.\n",
    "* Novelty detection during testing - train on clean data, test for improbable data(not explained)\n",
    "\n",
    "### Other algorithms for anomaly detection\n",
    "* PCA - do the inverse transform and compare reconstruction error.\n",
    "* Fast-MCD - minimum covariance determinant.\n",
    "* Isolation Forest - build very RF randomly then prune isolated instances. This one scales well.\n",
    "* Local Outlier Factor - examine neighbor density per instance.\n",
    "* One-class SVM - Use higher dimensional space. Does not scale.\n"
   ]
  },
  {
   "cell_type": "code",
   "execution_count": null,
   "metadata": {},
   "outputs": [],
   "source": []
  }
 ],
 "metadata": {
  "kernelspec": {
   "display_name": "Python 3",
   "language": "python",
   "name": "python3"
  },
  "language_info": {
   "codemirror_mode": {
    "name": "ipython",
    "version": 3
   },
   "file_extension": ".py",
   "mimetype": "text/x-python",
   "name": "python",
   "nbconvert_exporter": "python",
   "pygments_lexer": "ipython3",
   "version": "3.8.3"
  }
 },
 "nbformat": 4,
 "nbformat_minor": 2
}
