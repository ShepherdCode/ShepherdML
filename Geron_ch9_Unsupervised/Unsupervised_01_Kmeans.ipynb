{
 "cells": [
  {
   "cell_type": "code",
   "execution_count": null,
   "metadata": {},
   "outputs": [],
   "source": [
    "# Clustering.\n",
    "# Applications: \n",
    "# preprocessor for data analysis,\n",
    "# segmentation of images or customers,\n",
    "# anomaly and novelty detection,\n",
    "# semi-supervised (starting with few labels),\n",
    "# search-for-similar image,\n",
    "# nonlinear dimensionality reduction."
   ]
  },
  {
   "cell_type": "code",
   "execution_count": 4,
   "metadata": {},
   "outputs": [
    {
     "data": {
      "text/plain": [
       "array([0, 0, 0, 0, 0, 0, 0, 0, 0, 0, 0, 0, 0, 0, 0, 0, 0, 0, 0, 0, 0, 0,\n",
       "       0, 0, 0, 0, 0, 0, 0, 0, 0, 0, 0, 0, 0, 0, 0, 0, 0, 0, 0, 0, 0, 0,\n",
       "       0, 0, 0, 0, 0, 0, 1, 1, 2, 1, 1, 1, 1, 1, 1, 1, 1, 1, 1, 1, 1, 1,\n",
       "       1, 1, 1, 1, 1, 1, 1, 1, 1, 1, 1, 2, 1, 1, 1, 1, 1, 1, 1, 1, 1, 1,\n",
       "       1, 1, 1, 1, 1, 1, 1, 1, 1, 1, 1, 1, 2, 1, 2, 2, 2, 2, 1, 2, 2, 2,\n",
       "       2, 2, 2, 1, 1, 2, 2, 2, 2, 1, 2, 1, 2, 1, 2, 2, 1, 1, 2, 2, 2, 2,\n",
       "       2, 1, 2, 2, 2, 2, 1, 2, 2, 2, 1, 2, 2, 2, 1, 2, 2, 1], dtype=int32)"
      ]
     },
     "execution_count": 4,
     "metadata": {},
     "output_type": "execute_result"
    }
   ],
   "source": [
    "# K-Means Clustering.\n",
    "# Use supplies the number of clusters, K.\n",
    "# Invented separately by Lloyd 1957 and Forgy 1965.\n",
    "\n",
    "# Algorithm:\n",
    "# centroid selection (random or inspired initially),\n",
    "# label instances by closest centroid,\n",
    "# select a new centroid using mean per label,\n",
    "# repeat.\n",
    "\n",
    "# Limitations:\n",
    "# num clusters is predetermined,\n",
    "# assumes clusters are equal size,\n",
    "# converges on local optima.\n",
    "\n",
    "# Expected linear time but worst case O(n^m)  \n",
    "# (book only said \"exponential in #instances\")\n",
    "\n",
    "from sklearn.datasets import load_iris\n",
    "iris = load_iris()\n",
    "X = iris.data\n",
    "y = iris.target\n",
    "\n",
    "from sklearn.cluster import KMeans\n",
    "K = 3\n",
    "km = KMeans(n_clusters=K)\n",
    "y_pred = km.fit_predict(X)\n",
    "y_pred"
   ]
  },
  {
   "cell_type": "code",
   "execution_count": 5,
   "metadata": {},
   "outputs": [
    {
     "data": {
      "text/plain": [
       "array([[5.006     , 3.428     , 1.462     , 0.246     ],\n",
       "       [5.9016129 , 2.7483871 , 4.39354839, 1.43387097],\n",
       "       [6.85      , 3.07368421, 5.74210526, 2.07105263]])"
      ]
     },
     "execution_count": 5,
     "metadata": {},
     "output_type": "execute_result"
    }
   ],
   "source": [
    "km.cluster_centers_"
   ]
  },
  {
   "cell_type": "code",
   "execution_count": 20,
   "metadata": {},
   "outputs": [
    {
     "data": {
      "text/plain": [
       "78.851441426146"
      ]
     },
     "execution_count": 20,
     "metadata": {},
     "output_type": "execute_result"
    }
   ],
   "source": [
    "# Mean squared distance to centroid.\n",
    "km.inertia_"
   ]
  },
  {
   "cell_type": "code",
   "execution_count": 21,
   "metadata": {},
   "outputs": [
    {
     "data": {
      "text/plain": [
       "array([0], dtype=int32)"
      ]
     },
     "execution_count": 21,
     "metadata": {},
     "output_type": "execute_result"
    }
   ],
   "source": [
    "# Predict the cluster for a point near a centroid.\n",
    "import numpy as np\n",
    "hypothetical = np.array([[5, 3, 1, 0]])\n",
    "km.predict(hypothetical)"
   ]
  },
  {
   "cell_type": "code",
   "execution_count": 22,
   "metadata": {},
   "outputs": [
    {
     "data": {
      "text/plain": [
       "array([[0.67615087, 3.80110135, 5.49588489]])"
      ]
     },
     "execution_count": 22,
     "metadata": {},
     "output_type": "execute_result"
    }
   ],
   "source": [
    "# Compute one point's distance to centroid.\n",
    "# This is a form of dimensionality reduction.\n",
    "km.transform(hypothetical)"
   ]
  },
  {
   "cell_type": "code",
   "execution_count": 19,
   "metadata": {},
   "outputs": [
    {
     "data": {
      "text/plain": [
       "-0.4571800000000004"
      ]
     },
     "execution_count": 19,
     "metadata": {},
     "output_type": "execute_result"
    }
   ],
   "source": [
    "# One point's score.\n",
    "# Score = negative inertia.\n",
    "# Useful for situations where better score means tighter fit.\n",
    "km.score(hypothetical)"
   ]
  },
  {
   "cell_type": "code",
   "execution_count": 24,
   "metadata": {},
   "outputs": [
    {
     "data": {
      "text/plain": [
       "array([ True,  True,  True,  True,  True,  True,  True,  True,  True,\n",
       "        True,  True,  True,  True,  True,  True,  True,  True,  True,\n",
       "        True,  True,  True,  True,  True,  True,  True,  True,  True,\n",
       "        True,  True,  True,  True,  True,  True,  True,  True,  True,\n",
       "        True,  True,  True,  True,  True,  True,  True,  True,  True,\n",
       "        True,  True,  True,  True,  True,  True,  True,  True,  True,\n",
       "        True,  True,  True,  True,  True,  True,  True,  True,  True,\n",
       "        True,  True,  True,  True,  True,  True,  True,  True,  True,\n",
       "        True,  True,  True,  True,  True,  True,  True,  True,  True,\n",
       "        True,  True,  True,  True,  True,  True,  True,  True,  True,\n",
       "        True,  True,  True,  True,  True,  True,  True,  True,  True,\n",
       "        True,  True,  True,  True,  True,  True,  True,  True,  True,\n",
       "        True,  True,  True,  True,  True,  True,  True,  True,  True,\n",
       "        True,  True,  True,  True,  True,  True,  True,  True,  True,\n",
       "        True,  True,  True,  True,  True,  True,  True,  True,  True,\n",
       "        True,  True,  True,  True,  True,  True,  True,  True,  True,\n",
       "        True,  True,  True,  True,  True,  True])"
      ]
     },
     "execution_count": 24,
     "metadata": {},
     "output_type": "execute_result"
    }
   ],
   "source": [
    "# Redo with more parameter settings but get same results.\n",
    "init_val = 'random' # default = K-means++ \n",
    "n_init_val = 10 # maximun number of times to start again with random init\n",
    "km = KMeans(n_clusters=K,init=init_val,n_init=n_init_val,random_state=42)\n",
    "y_rand = km.fit_predict(X)\n",
    "y_rand == y_pred"
   ]
  },
  {
   "cell_type": "code",
   "execution_count": 25,
   "metadata": {},
   "outputs": [
    {
     "data": {
      "text/plain": [
       "array([5, 0, 0, 0, 5, 7, 0, 5, 0, 0, 5, 5, 0, 0, 7, 7, 7, 5, 7, 5, 5, 5,\n",
       "       0, 5, 5, 0, 5, 5, 5, 0, 0, 5, 7, 7, 0, 0, 5, 5, 0, 5, 5, 0, 0, 5,\n",
       "       5, 0, 5, 0, 5, 5, 3, 3, 3, 6, 3, 6, 3, 2, 3, 6, 2, 6, 6, 3, 6, 3,\n",
       "       6, 6, 9, 6, 9, 6, 9, 3, 3, 3, 3, 1, 3, 6, 6, 6, 6, 9, 6, 3, 3, 3,\n",
       "       6, 6, 6, 3, 6, 2, 6, 6, 6, 3, 2, 6, 8, 9, 8, 1, 8, 4, 6, 4, 1, 8,\n",
       "       1, 1, 1, 9, 9, 1, 1, 4, 4, 9, 8, 9, 4, 9, 8, 4, 9, 9, 1, 8, 4, 4,\n",
       "       1, 9, 9, 4, 8, 1, 9, 1, 8, 1, 9, 8, 8, 1, 9, 1, 1, 9], dtype=int32)"
      ]
     },
     "execution_count": 25,
     "metadata": {},
     "output_type": "execute_result"
    }
   ],
   "source": [
    "# Redo with more clusters.\n",
    "km = KMeans(n_clusters=10)\n",
    "y_lots = km.fit_predict(X)\n",
    "y_lots"
   ]
  },
  {
   "cell_type": "code",
   "execution_count": 38,
   "metadata": {},
   "outputs": [
    {
     "name": "stdout",
     "output_type": "stream",
     "text": [
      "Clusters=2 Score=0.681046\n",
      "Clusters=3 Score=0.552819\n",
      "Clusters=4 Score=0.497455\n",
      "Clusters=5 Score=0.488749\n",
      "Clusters=6 Score=0.364834\n",
      "Clusters=7 Score=0.353871\n",
      "Clusters=8 Score=0.361790\n",
      "Clusters=9 Score=0.321463\n"
     ]
    }
   ],
   "source": [
    "# Silhouette is a metric for estimating optimal K.\n",
    "from sklearn.metrics import silhouette_score\n",
    "# Crashes if K less than 2\n",
    "for K in range(2,10):\n",
    "    km = KMeans(n_clusters=K)\n",
    "    km.fit_predict(X)\n",
    "    s=silhouette_score(X,km.labels_)\n",
    "    print(\"Clusters=%d Score=%f\"%(K,s))\n",
    "# We know there are 3 clusters but 2 of them are similar.\n",
    "# This analysis says 2 clusters is optimal."
   ]
  },
  {
   "cell_type": "code",
   "execution_count": 39,
   "metadata": {},
   "outputs": [],
   "source": [
    "# Score ranges -1 (edge of cluster) to +1 (near its centroid).\n",
    "# Can take score per point or score overall.\n",
    "# With \"knife diagram\" plot of score per point for each cluster,\n",
    "# try to choose a K with the most uniform knife shapes."
   ]
  }
 ],
 "metadata": {
  "kernelspec": {
   "display_name": "Python 3",
   "language": "python",
   "name": "python3"
  },
  "language_info": {
   "codemirror_mode": {
    "name": "ipython",
    "version": 3
   },
   "file_extension": ".py",
   "mimetype": "text/x-python",
   "name": "python",
   "nbconvert_exporter": "python",
   "pygments_lexer": "ipython3",
   "version": "3.8.3"
  }
 },
 "nbformat": 4,
 "nbformat_minor": 2
}
