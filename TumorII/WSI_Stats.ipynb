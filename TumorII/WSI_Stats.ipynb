{
 "cells": [
  {
   "cell_type": "markdown",
   "metadata": {},
   "source": [
    "# WSI Stats\n",
    "We have accuracy of prediction per patch.  \n",
    "Here, allow patches to vote for the classification of their WSI.  \n",
    "Then measure accuracy of prediction per WSI.  "
   ]
  },
  {
   "cell_type": "markdown",
   "metadata": {},
   "source": [
    "For use with training set,  \n",
    "divide training set into one-time 80/20 train/validate split.  \n",
    "Train on 80%, get ypred on 20%.  \n",
    "Make sure the model matches the data (e.g. nucleus only quartiles).\n",
    "\n",
    "For use with test set,  \n",
    "apply a trained model to the test set, get ypred on test set.  \n",
    "Make sure the model matches the data.   \n",
    "\n",
    "Note that we need TrueClass+PatchNumber to look up the WSI.  \n",
    "Output a csv with columns   \n",
    "\n",
    "        Ypred:PredictedClass Ytest:TrueClass Xtest:PatchNumber  \n",
    "\n",
    "\n",
    "Then join with another file to get WSI.  \n",
    "Choice 1 is our TrainTestSplit/Test?.csv files.  \n",
    "Choice 2 is our Output?/Process100_Image.csv files.  \n",
    "\n",
    "Sort by WSI.  \n",
    "Load one file with columns  \n",
    "Assert that TrueClass is the same for every line with same WSI.   \n",
    "\n",
    "        Ypred:PredictedClass Ytest:TrueClass Xtest:PatchNumber Split:WSI  \n",
    "\n",
    "Aggregate votes into one file with columns   \n",
    "\n",
    "        WSI TrueClass Plaurality Votes0 Votes1 Votes2 Votes3 Votes4 Votes5  \n",
    "        100 0         0          100    50     30      20    10     0    "
   ]
  },
  {
   "cell_type": "code",
   "execution_count": null,
   "metadata": {},
   "outputs": [],
   "source": []
  }
 ],
 "metadata": {
  "kernelspec": {
   "display_name": "Python 3",
   "language": "python",
   "name": "python3"
  },
  "language_info": {
   "codemirror_mode": {
    "name": "ipython",
    "version": 3
   },
   "file_extension": ".py",
   "mimetype": "text/x-python",
   "name": "python",
   "nbconvert_exporter": "python",
   "pygments_lexer": "ipython3",
   "version": "3.8.10"
  }
 },
 "nbformat": 4,
 "nbformat_minor": 4
}
