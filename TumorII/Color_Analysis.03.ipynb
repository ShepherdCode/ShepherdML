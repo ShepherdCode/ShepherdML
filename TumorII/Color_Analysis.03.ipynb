{
 "cells": [
  {
   "cell_type": "markdown",
   "metadata": {},
   "source": [
    "# Color Analysis - Split Nuclei\n",
    "Move the util class to a module.  \n",
    "Train/test split the nuclei based on tumor names."
   ]
  },
  {
   "cell_type": "markdown",
   "metadata": {},
   "source": [
    "## Overall Plan\n",
    "* Run CellProfiler on 80K patches. Make CSV files.\n",
    "* Record bounding box of every nucleus of every patch.\n",
    "* Run CNN on 80K patches. \n",
    "* For each class c, label correctly classified patches c_Cor.\n",
    "* For each class c, label in correctly classified patches c_Inc.\n",
    "* Run CNN attention on 80K patches. Make heatmaps.\n",
    "* Compute average heatmap color per nucleus bounding box.\n",
    "* Set aside test set: 20% of images (and all their patch data) per class.\n",
    "* Possibly set aside patches with too little tissue, too many RBC, or too few nuclei.\n",
    "* Remove useless columns such as XY locations.\n",
    "* Add dispersion columns such as deciles.\n",
    "* Train a Cor/Inc binary classifier for each class.\n",
    "* Evaluate the model by cross-validation over training data.\n",
    "* If the model is accurate, extract important features."
   ]
  },
  {
   "cell_type": "code",
   "execution_count": 1,
   "metadata": {},
   "outputs": [
    {
     "data": {
      "text/plain": [
       "'1.1.1'"
      ]
     },
     "execution_count": 1,
     "metadata": {},
     "output_type": "execute_result"
    }
   ],
   "source": [
    "import pandas as pd\n",
    "import numpy as np\n",
    "from sklearn.model_selection import train_test_split\n",
    "import sklearn\n",
    "sklearn.__version__"
   ]
  },
  {
   "cell_type": "code",
   "execution_count": 2,
   "metadata": {},
   "outputs": [],
   "source": [
    "THIS_CLASS=4   # use a small class for process development\n",
    "NUM_CLASSES=6\n",
    "FILEPATHS=['path']*NUM_CLASSES\n",
    "FILEPATHS[THIS_CLASS]='/Users/jasonmiller/WVU/Output4/'"
   ]
  },
  {
   "cell_type": "code",
   "execution_count": 3,
   "metadata": {},
   "outputs": [
    {
     "name": "stdout",
     "output_type": "stream",
     "text": [
      "test [4, 0] train [1 2 3 5 6 7]\n"
     ]
    }
   ],
   "source": [
    "from CellProfiler_Util import CP_Util\n",
    "cputil = CP_Util(FILEPATHS[THIS_CLASS])\n",
    "cputil.train_test_split() \n",
    "cputil.validate_split()"
   ]
  },
  {
   "cell_type": "code",
   "execution_count": 4,
   "metadata": {},
   "outputs": [
    {
     "data": {
      "text/html": [
       "<div>\n",
       "<style scoped>\n",
       "    .dataframe tbody tr th:only-of-type {\n",
       "        vertical-align: middle;\n",
       "    }\n",
       "\n",
       "    .dataframe tbody tr th {\n",
       "        vertical-align: top;\n",
       "    }\n",
       "\n",
       "    .dataframe thead th {\n",
       "        text-align: right;\n",
       "    }\n",
       "</style>\n",
       "<table border=\"1\" class=\"dataframe\">\n",
       "  <thead>\n",
       "    <tr style=\"text-align: right;\">\n",
       "      <th></th>\n",
       "      <th>TumorName</th>\n",
       "      <th>FileName</th>\n",
       "      <th>PatchX</th>\n",
       "      <th>PatchY</th>\n",
       "    </tr>\n",
       "    <tr>\n",
       "      <th>PatchNumber</th>\n",
       "      <th></th>\n",
       "      <th></th>\n",
       "      <th></th>\n",
       "      <th></th>\n",
       "    </tr>\n",
       "  </thead>\n",
       "  <tbody>\n",
       "    <tr>\n",
       "      <th>404</th>\n",
       "      <td>TCGA-DB-A4XF-01Z-00-DX2</td>\n",
       "      <td>TCGA-DB-A4XF-01Z-00-DX2_10200_27300.png</td>\n",
       "      <td>10200</td>\n",
       "      <td>27300</td>\n",
       "    </tr>\n",
       "    <tr>\n",
       "      <th>405</th>\n",
       "      <td>TCGA-DB-A4XF-01Z-00-DX2</td>\n",
       "      <td>TCGA-DB-A4XF-01Z-00-DX2_10500_33600.png</td>\n",
       "      <td>10500</td>\n",
       "      <td>33600</td>\n",
       "    </tr>\n",
       "    <tr>\n",
       "      <th>406</th>\n",
       "      <td>TCGA-DB-A4XF-01Z-00-DX2</td>\n",
       "      <td>TCGA-DB-A4XF-01Z-00-DX2_10500_35400.png</td>\n",
       "      <td>10500</td>\n",
       "      <td>35400</td>\n",
       "    </tr>\n",
       "    <tr>\n",
       "      <th>407</th>\n",
       "      <td>TCGA-DB-A4XF-01Z-00-DX2</td>\n",
       "      <td>TCGA-DB-A4XF-01Z-00-DX2_10500_36900.png</td>\n",
       "      <td>10500</td>\n",
       "      <td>36900</td>\n",
       "    </tr>\n",
       "    <tr>\n",
       "      <th>408</th>\n",
       "      <td>TCGA-DB-A4XF-01Z-00-DX2</td>\n",
       "      <td>TCGA-DB-A4XF-01Z-00-DX2_10500_39000.png</td>\n",
       "      <td>10500</td>\n",
       "      <td>39000</td>\n",
       "    </tr>\n",
       "    <tr>\n",
       "      <th>...</th>\n",
       "      <td>...</td>\n",
       "      <td>...</td>\n",
       "      <td>...</td>\n",
       "      <td>...</td>\n",
       "    </tr>\n",
       "    <tr>\n",
       "      <th>3193</th>\n",
       "      <td>TCGA-S9-A6WL-01Z-00-DX1</td>\n",
       "      <td>TCGA-S9-A6WL-01Z-00-DX1_9900_35400.png</td>\n",
       "      <td>9900</td>\n",
       "      <td>35400</td>\n",
       "    </tr>\n",
       "    <tr>\n",
       "      <th>3194</th>\n",
       "      <td>TCGA-S9-A6WL-01Z-00-DX1</td>\n",
       "      <td>TCGA-S9-A6WL-01Z-00-DX1_9900_35700.png</td>\n",
       "      <td>9900</td>\n",
       "      <td>35700</td>\n",
       "    </tr>\n",
       "    <tr>\n",
       "      <th>3195</th>\n",
       "      <td>TCGA-S9-A6WL-01Z-00-DX1</td>\n",
       "      <td>TCGA-S9-A6WL-01Z-00-DX1_9900_36000.png</td>\n",
       "      <td>9900</td>\n",
       "      <td>36000</td>\n",
       "    </tr>\n",
       "    <tr>\n",
       "      <th>3196</th>\n",
       "      <td>TCGA-S9-A6WL-01Z-00-DX1</td>\n",
       "      <td>TCGA-S9-A6WL-01Z-00-DX1_9900_36300.png</td>\n",
       "      <td>9900</td>\n",
       "      <td>36300</td>\n",
       "    </tr>\n",
       "    <tr>\n",
       "      <th>3197</th>\n",
       "      <td>TCGA-S9-A6WL-01Z-00-DX1</td>\n",
       "      <td>TCGA-S9-A6WL-01Z-00-DX1_9900_36600.png</td>\n",
       "      <td>9900</td>\n",
       "      <td>36600</td>\n",
       "    </tr>\n",
       "  </tbody>\n",
       "</table>\n",
       "<p>2384 rows × 4 columns</p>\n",
       "</div>"
      ],
      "text/plain": [
       "                           TumorName                                 FileName  \\\n",
       "PatchNumber                                                                     \n",
       "404          TCGA-DB-A4XF-01Z-00-DX2  TCGA-DB-A4XF-01Z-00-DX2_10200_27300.png   \n",
       "405          TCGA-DB-A4XF-01Z-00-DX2  TCGA-DB-A4XF-01Z-00-DX2_10500_33600.png   \n",
       "406          TCGA-DB-A4XF-01Z-00-DX2  TCGA-DB-A4XF-01Z-00-DX2_10500_35400.png   \n",
       "407          TCGA-DB-A4XF-01Z-00-DX2  TCGA-DB-A4XF-01Z-00-DX2_10500_36900.png   \n",
       "408          TCGA-DB-A4XF-01Z-00-DX2  TCGA-DB-A4XF-01Z-00-DX2_10500_39000.png   \n",
       "...                              ...                                      ...   \n",
       "3193         TCGA-S9-A6WL-01Z-00-DX1   TCGA-S9-A6WL-01Z-00-DX1_9900_35400.png   \n",
       "3194         TCGA-S9-A6WL-01Z-00-DX1   TCGA-S9-A6WL-01Z-00-DX1_9900_35700.png   \n",
       "3195         TCGA-S9-A6WL-01Z-00-DX1   TCGA-S9-A6WL-01Z-00-DX1_9900_36000.png   \n",
       "3196         TCGA-S9-A6WL-01Z-00-DX1   TCGA-S9-A6WL-01Z-00-DX1_9900_36300.png   \n",
       "3197         TCGA-S9-A6WL-01Z-00-DX1   TCGA-S9-A6WL-01Z-00-DX1_9900_36600.png   \n",
       "\n",
       "            PatchX PatchY  \n",
       "PatchNumber                \n",
       "404          10200  27300  \n",
       "405          10500  33600  \n",
       "406          10500  35400  \n",
       "407          10500  36900  \n",
       "408          10500  39000  \n",
       "...            ...    ...  \n",
       "3193          9900  35400  \n",
       "3194          9900  35700  \n",
       "3195          9900  36000  \n",
       "3196          9900  36300  \n",
       "3197          9900  36600  \n",
       "\n",
       "[2384 rows x 4 columns]"
      ]
     },
     "execution_count": 4,
     "metadata": {},
     "output_type": "execute_result"
    }
   ],
   "source": [
    "train_set = cputil.get_train_patches()\n",
    "train_set"
   ]
  },
  {
   "cell_type": "code",
   "execution_count": null,
   "metadata": {},
   "outputs": [],
   "source": []
  }
 ],
 "metadata": {
  "kernelspec": {
   "display_name": "Python 3",
   "language": "python",
   "name": "python3"
  },
  "language_info": {
   "codemirror_mode": {
    "name": "ipython",
    "version": 3
   },
   "file_extension": ".py",
   "mimetype": "text/x-python",
   "name": "python",
   "nbconvert_exporter": "python",
   "pygments_lexer": "ipython3",
   "version": "3.8.3"
  }
 },
 "nbformat": 4,
 "nbformat_minor": 2
}
