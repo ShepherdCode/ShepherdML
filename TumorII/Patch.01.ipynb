{
 "cells": [
  {
   "cell_type": "markdown",
   "metadata": {},
   "source": [
    "# Patch-Level Classification \n",
    "Use the CellProfiler per-patch features as opposed to the per-nucleus features.  \n",
    "Confusingly, CellProfiler assigns an ImageNumber to each patch.  "
   ]
  },
  {
   "cell_type": "markdown",
   "metadata": {},
   "source": [
    "Train on 6-class cancer classification.\n",
    "Input is the CellProfiler Image features only.  \n",
    "Run 5-fold cross validation.\n",
    "Print the mean accuracy. "
   ]
  },
  {
   "cell_type": "code",
   "execution_count": 1,
   "metadata": {},
   "outputs": [
    {
     "name": "stdout",
     "output_type": "stream",
     "text": [
      "2022-06-21 15:07:42.161607\n",
      "Python 3.9.6\n",
      "sklearn 1.1.1\n"
     ]
    }
   ],
   "source": [
    "import datetime\n",
    "print(datetime.datetime.now())\n",
    "from platform import python_version\n",
    "print('Python',python_version())\n",
    "import numpy as np\n",
    "import pandas as pd\n",
    "import sklearn   # pip install --upgrade scikit-learn\n",
    "print('sklearn',sklearn.__version__)\n",
    "#import tensorflow as tf\n",
    "#tf.config.list_physical_devices('GPU')"
   ]
  },
  {
   "cell_type": "code",
   "execution_count": 2,
   "metadata": {},
   "outputs": [],
   "source": [
    "from sklearn.model_selection import cross_val_score\n",
    "from sklearn.model_selection import RepeatedStratifiedKFold\n",
    "from sklearn.ensemble import RandomForestClassifier\n",
    "from sklearn.model_selection import train_test_split\n",
    "from sklearn.metrics import confusion_matrix\n",
    "from sklearn.utils import shuffle\n",
    "from sklearn.feature_selection import RFE\n",
    "import joblib # used to dump/load sklearn models\n",
    "from CellProfiler_Util import CP_Util\n",
    "from RandomForestUtil import RF_Util"
   ]
  },
  {
   "cell_type": "code",
   "execution_count": 3,
   "metadata": {},
   "outputs": [],
   "source": [
    "BASE_DIR='/home/jrm/Adjeroh/Naved/CP_80K/'  # Alien\n",
    "BASE_DIR='D:\\\\Adjeroh\\\\Naved\\\\CP_80K\\\\'  # Windows\n",
    "CLASSES=['Output0/','Output1/','Output2/','Output3/','Output4/','Output5/',]\n",
    "MODELS_DIR='/home/jrm/Adjeroh/Naved/CP_80K/models/Patch.01'  # Alien\n",
    "MODELS_DIR='D:\\\\Adjeroh\\\\Naved\\\\CP_80K\\\\models\\\\Patch.01'  # Windows\n",
    "\n",
    "# These patches were used to tune the CellProfiler pipeline\n",
    "EXCLUDE = [ [311], [12], [30,41], [87], [67], [26,46] ]\n",
    "IMAGE_FILENAME = 'Process100_Image.csv'"
   ]
  },
  {
   "cell_type": "code",
   "execution_count": 4,
   "metadata": {},
   "outputs": [
    {
     "name": "stdout",
     "output_type": "stream",
     "text": [
      "2022-06-21 15:07:46.842528\n",
      "0 (44965, 5338) 44965\n",
      "1 (57866, 5338) 57866\n",
      "2 (71814, 5338) 71814\n",
      "3 (78177, 5338) 78177\n",
      "4 (81373, 5338) 81373\n",
      "5 (82962, 5338) 82962\n"
     ]
    }
   ],
   "source": [
    "print(datetime.datetime.now())\n",
    "X = None\n",
    "y = None\n",
    "for i in range(0,6):\n",
    "    image_file = BASE_DIR+CLASSES[i]+IMAGE_FILENAME\n",
    "    patch_info = pd.read_csv(image_file)\n",
    "    # remove identifying information\n",
    "    patch_info = patch_info.set_index(['ImageNumber'])\n",
    "    patch_info = patch_info.drop(EXCLUDE[i])\n",
    "    patch_info = patch_info.reset_index()\n",
    "    Xi = patch_info.drop(columns=['ImageNumber','Group_Index'])  \n",
    "    Xi = Xi.select_dtypes(include='number')   # drop strings esp filename\n",
    "    size = len(Xi)\n",
    "    yi = np.ones(size) * i   # e.g. class 3\n",
    "    if X is None:\n",
    "        X = Xi\n",
    "        y = yi\n",
    "    else:\n",
    "        X = pd.concat( (X,Xi) )\n",
    "        y = np.concatenate( (y,yi) )\n",
    "    X.fillna(0,inplace=True)  \n",
    "    print(i,X.shape,len(y))    "
   ]
  },
  {
   "cell_type": "code",
   "execution_count": 5,
   "metadata": {},
   "outputs": [
    {
     "name": "stdout",
     "output_type": "stream",
     "text": [
      "2022-06-21 15:09:49.580789\n"
     ]
    }
   ],
   "source": [
    "print(datetime.datetime.now())\n",
    "Xtrain,ytrain=shuffle(X,y)  #set random_state for reproducibility\n",
    "X = None\n",
    "y = None"
   ]
  },
  {
   "cell_type": "code",
   "execution_count": 6,
   "metadata": {},
   "outputs": [
    {
     "name": "stdout",
     "output_type": "stream",
     "text": [
      "2022-06-21 15:09:51.426637\n",
      "Cross-validation...\n"
     ]
    },
    {
     "name": "stderr",
     "output_type": "stream",
     "text": [
      "[Parallel(n_jobs=1)]: Using backend SequentialBackend with 1 concurrent workers.\n"
     ]
    },
    {
     "name": "stdout",
     "output_type": "stream",
     "text": [
      "[CV] END .................................................... total time= 8.6min\n"
     ]
    },
    {
     "name": "stderr",
     "output_type": "stream",
     "text": [
      "[Parallel(n_jobs=1)]: Done   1 out of   1 | elapsed:  8.6min remaining:    0.0s\n"
     ]
    },
    {
     "name": "stdout",
     "output_type": "stream",
     "text": [
      "[CV] END .................................................... total time= 9.2min\n",
      "[CV] END .................................................... total time= 9.0min\n",
      "[CV] END .................................................... total time= 8.4min\n",
      "[CV] END .................................................... total time= 8.3min\n",
      "[0.88266136 0.87982884 0.88036403 0.87584378 0.87180569]\n",
      "mean 0.8781 +/- 0.0038\n",
      "2022-06-21 15:53:20.488900\n"
     ]
    },
    {
     "name": "stderr",
     "output_type": "stream",
     "text": [
      "[Parallel(n_jobs=1)]: Done   5 out of   5 | elapsed: 43.5min finished\n"
     ]
    }
   ],
   "source": [
    "print(datetime.datetime.now())\n",
    "print('Cross-validation...')\n",
    "rf1 = RF_Util()\n",
    "rf1.set_train(Xtrain,ytrain)\n",
    "cv_scores = rf1.cross_validation()\n",
    "print(cv_scores)\n",
    "print('mean %.4f +/- %.4f' % (cv_scores.mean(),cv_scores.std()))\n",
    "print(datetime.datetime.now())"
   ]
  },
  {
   "cell_type": "code",
   "execution_count": null,
   "metadata": {},
   "outputs": [],
   "source": []
  }
 ],
 "metadata": {
  "kernelspec": {
   "display_name": "Python 3 (ipykernel)",
   "language": "python",
   "name": "python3"
  },
  "language_info": {
   "codemirror_mode": {
    "name": "ipython",
    "version": 3
   },
   "file_extension": ".py",
   "mimetype": "text/x-python",
   "name": "python",
   "nbconvert_exporter": "python",
   "pygments_lexer": "ipython3",
   "version": "3.9.6"
  }
 },
 "nbformat": 4,
 "nbformat_minor": 4
}
