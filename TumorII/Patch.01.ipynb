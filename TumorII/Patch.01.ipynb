{
 "cells": [
  {
   "cell_type": "markdown",
   "metadata": {},
   "source": [
    "# Patch-Level Classification \n",
    "Use the CellProfiler per-patch features as opposed to the per-nucleus features.  \n",
    "Confusingly, CellProfiler assigns an ImageNumber to each patch.  "
   ]
  },
  {
   "cell_type": "markdown",
   "metadata": {},
   "source": [
    "Train on 6-class cancer classification.\n",
    "Input is the CellProfiler Image features only.  \n",
    "Run 5-fold cross validation.\n",
    "Print the mean accuracy. "
   ]
  },
  {
   "cell_type": "code",
   "execution_count": 1,
   "metadata": {},
   "outputs": [
    {
     "name": "stdout",
     "output_type": "stream",
     "text": [
      "2022-06-21 13:25:25.736071\n",
      "Python 3.9.6\n",
      "sklearn 1.1.1\n"
     ]
    }
   ],
   "source": [
    "import datetime\n",
    "print(datetime.datetime.now())\n",
    "from platform import python_version\n",
    "print('Python',python_version())\n",
    "import numpy as np\n",
    "import pandas as pd\n",
    "import sklearn   # pip install --upgrade scikit-learn\n",
    "print('sklearn',sklearn.__version__)\n",
    "#import tensorflow as tf\n",
    "#tf.config.list_physical_devices('GPU')"
   ]
  },
  {
   "cell_type": "code",
   "execution_count": 2,
   "metadata": {},
   "outputs": [],
   "source": [
    "from sklearn.model_selection import cross_val_score\n",
    "from sklearn.model_selection import RepeatedStratifiedKFold\n",
    "from sklearn.ensemble import RandomForestClassifier\n",
    "from sklearn.model_selection import train_test_split\n",
    "from sklearn.metrics import confusion_matrix\n",
    "from sklearn.utils import shuffle\n",
    "from sklearn.feature_selection import RFE\n",
    "import joblib # used to dump/load sklearn models\n",
    "from CellProfiler_Util import CP_Util\n",
    "from RandomForestUtil import RF_Util"
   ]
  },
  {
   "cell_type": "code",
   "execution_count": 3,
   "metadata": {},
   "outputs": [],
   "source": [
    "BASE_DIR='/home/jrm/Adjeroh/Naved/CP_80K/'  # Alien\n",
    "BASE_DIR='D:\\\\Adjeroh\\\\Naved\\\\CP_80K\\\\'  # Windows\n",
    "CLASSES=['Output0/','Output1/','Output2/','Output3/','Output4/','Output5/',]\n",
    "MODELS_DIR='/home/jrm/Adjeroh/Naved/CP_80K/models/Patch.01'  # Alien\n",
    "MODELS_DIR='D:\\\\Adjeroh\\\\Naved\\\\CP_80K\\\\models\\\\Patch.01'  # Windows\n",
    "\n",
    "# These patches were used to tune the CellProfiler pipeline\n",
    "EXCLUDE = [ [311], [12], [30,41], [87], [67], [26,46] ]\n",
    "IMAGE_FILENAME = 'Process100_Image.csv'"
   ]
  },
  {
   "cell_type": "code",
   "execution_count": 4,
   "metadata": {},
   "outputs": [
    {
     "name": "stdout",
     "output_type": "stream",
     "text": [
      "2022-06-21 13:25:27.456345\n",
      "0 (44965, 5345) 44965\n",
      "1 (57866, 5345) 57866\n",
      "2 (71814, 5345) 71814\n",
      "3 (78177, 5345) 78177\n",
      "4 (81373, 5345) 81373\n",
      "5 (82962, 5345) 82962\n",
      "5345 columns\n",
      "Drop string columns\n",
      "5339 columns\n",
      "2022-06-21 13:27:30.639623\n"
     ]
    }
   ],
   "source": [
    "print(datetime.datetime.now())\n",
    "X = None\n",
    "y = None\n",
    "for i in range(0,6):\n",
    "    image_file = BASE_DIR+CLASSES[i]+IMAGE_FILENAME\n",
    "    patch_info = pd.read_csv(image_file)\n",
    "    # remove identifying information\n",
    "    patch_info = patch_info.set_index(['ImageNumber'])\n",
    "    patch_info = patch_info.drop(EXCLUDE[i])\n",
    "    patch_info = patch_info.reset_index()\n",
    "    Xi = patch_info.drop(columns='ImageNumber')  \n",
    "    size = len(Xi)\n",
    "    yi = np.ones(size) * i   # e.g. class 3\n",
    "    if X is None:\n",
    "        X = Xi\n",
    "        y = yi\n",
    "    else:\n",
    "        X = pd.concat( (X,Xi) )\n",
    "        y = np.concatenate( (y,yi) )\n",
    "    X.fillna(0,inplace=True)  \n",
    "    print(i,X.shape,len(y))    \n",
    "print('Drop string columns')\n",
    "X = X.select_dtypes(include='number')\n",
    "print(X.shape)\n",
    "print(datetime.datetime.now())"
   ]
  },
  {
   "cell_type": "code",
   "execution_count": 5,
   "metadata": {},
   "outputs": [
    {
     "name": "stdout",
     "output_type": "stream",
     "text": [
      "2022-06-21 13:27:30.649683\n"
     ]
    }
   ],
   "source": [
    "print(datetime.datetime.now())\n",
    "Xtrain,ytrain=shuffle(X,y)  #set random_state for reproducibility\n",
    "X = None\n",
    "y = None"
   ]
  },
  {
   "cell_type": "code",
   "execution_count": 6,
   "metadata": {},
   "outputs": [
    {
     "name": "stdout",
     "output_type": "stream",
     "text": [
      "2022-06-21 13:27:32.692326\n",
      "Cross-validation...\n"
     ]
    },
    {
     "name": "stderr",
     "output_type": "stream",
     "text": [
      "[Parallel(n_jobs=1)]: Using backend SequentialBackend with 1 concurrent workers.\n"
     ]
    },
    {
     "name": "stdout",
     "output_type": "stream",
     "text": [
      "[CV] END .................................................... total time= 8.5min\n"
     ]
    },
    {
     "name": "stderr",
     "output_type": "stream",
     "text": [
      "[Parallel(n_jobs=1)]: Done   1 out of   1 | elapsed:  8.5min remaining:    0.0s\n"
     ]
    },
    {
     "name": "stdout",
     "output_type": "stream",
     "text": [
      "[CV] END .................................................... total time= 8.9min\n",
      "[CV] END .................................................... total time= 8.7min\n",
      "[CV] END .................................................... total time= 8.7min\n",
      "[CV] END .................................................... total time= 8.7min\n",
      "[0.88549388 0.8820587  0.88379942 0.88741562 0.8864513 ]\n",
      "mean 0.8850 +/- 0.0019\n",
      "2022-06-21 14:11:07.220083\n"
     ]
    },
    {
     "name": "stderr",
     "output_type": "stream",
     "text": [
      "[Parallel(n_jobs=1)]: Done   5 out of   5 | elapsed: 43.6min finished\n"
     ]
    }
   ],
   "source": [
    "print(datetime.datetime.now())\n",
    "print('Cross-validation...')\n",
    "rf1 = RF_Util()\n",
    "rf1.set_train(Xtrain,ytrain)\n",
    "cv_scores = rf1.cross_validation()\n",
    "print(cv_scores)\n",
    "print('mean %.4f +/- %.4f' % (cv_scores.mean(),cv_scores.std()))\n",
    "print(datetime.datetime.now())"
   ]
  },
  {
   "cell_type": "code",
   "execution_count": null,
   "metadata": {},
   "outputs": [],
   "source": []
  }
 ],
 "metadata": {
  "kernelspec": {
   "display_name": "Python 3 (ipykernel)",
   "language": "python",
   "name": "python3"
  },
  "language_info": {
   "codemirror_mode": {
    "name": "ipython",
    "version": 3
   },
   "file_extension": ".py",
   "mimetype": "text/x-python",
   "name": "python",
   "nbconvert_exporter": "python",
   "pygments_lexer": "ipython3",
   "version": "3.9.6"
  }
 },
 "nbformat": 4,
 "nbformat_minor": 4
}
