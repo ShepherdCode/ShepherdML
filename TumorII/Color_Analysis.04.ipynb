{
 "cells": [
  {
   "cell_type": "markdown",
   "metadata": {},
   "source": [
    "# Color Analysis - Nucleus rollup\n",
    "Rollup the nucleus statistics per patch."
   ]
  },
  {
   "cell_type": "markdown",
   "metadata": {},
   "source": [
    "## Overall Plan\n",
    "* Run CellProfiler on 80K patches. Make CSV files.\n",
    "* Record bounding box of every nucleus of every patch.\n",
    "* Run CNN on 80K patches. \n",
    "* For each class c, label correctly classified patches c_Cor.\n",
    "* For each class c, label in correctly classified patches c_Inc.\n",
    "* Run CNN attention on 80K patches. Make heatmaps.\n",
    "* Compute average heatmap color per nucleus bounding box.\n",
    "* Set aside test set: 20% of images (and all their patch data) per class.\n",
    "* Possibly set aside patches with too little tissue, too many RBC, or too few nuclei.\n",
    "* Remove useless columns such as XY locations.\n",
    "* Add dispersion columns such as deciles.\n",
    "* Train a Cor/Inc binary classifier for each class.\n",
    "* Evaluate the model by cross-validation over training data.\n",
    "* If the model is accurate, extract important features."
   ]
  },
  {
   "cell_type": "code",
   "execution_count": 1,
   "metadata": {},
   "outputs": [
    {
     "name": "stdout",
     "output_type": "stream",
     "text": [
      "2022-06-02 13:49:14.202902\n",
      "scikit-learn version 1.1.1\n"
     ]
    }
   ],
   "source": [
    "import datetime\n",
    "print(datetime.datetime.now())\n",
    "import pandas as pd\n",
    "import numpy as np\n",
    "from sklearn.model_selection import train_test_split\n",
    "import sklearn\n",
    "print('scikit-learn version',sklearn.__version__)"
   ]
  },
  {
   "cell_type": "code",
   "execution_count": 2,
   "metadata": {},
   "outputs": [],
   "source": [
    "THIS_CLASS=4   # use a small class for process development\n",
    "NUM_CLASSES=6\n",
    "FILEPATHS=['path']*NUM_CLASSES\n",
    "FILEPATHS[THIS_CLASS]='/Users/jasonmiller/WVU/Output4/'"
   ]
  },
  {
   "cell_type": "code",
   "execution_count": 3,
   "metadata": {},
   "outputs": [],
   "source": [
    "from CellProfiler_Util import CP_Util\n",
    "cputil = CP_Util(FILEPATHS[THIS_CLASS])\n",
    "cputil.train_test_split() \n",
    "cputil.validate_split()\n",
    "train_set=cputil.get_train_patches()\n",
    "nuc = cputil.get_nuclei()"
   ]
  },
  {
   "cell_type": "code",
   "execution_count": null,
   "metadata": {},
   "outputs": [
    {
     "name": "stdout",
     "output_type": "stream",
     "text": [
      "2022-06-02 13:49:26.319563\n"
     ]
    }
   ],
   "source": [
    "print(datetime.datetime.now())\n",
    "rollup = nuc.groupby(['PatchNumber']).describe() ## this is slow\n",
    "print(datetime.datetime.now())\n",
    "rollup.columns=rollup.columns.map('_'.join)  ## helps random forest code\n",
    "print(datetime.datetime.now())\n",
    "rollup"
   ]
  },
  {
   "cell_type": "code",
   "execution_count": null,
   "metadata": {},
   "outputs": [],
   "source": [
    "rollup.to_csv('Nucleus_Rollup_4')"
   ]
  },
  {
   "cell_type": "code",
   "execution_count": null,
   "metadata": {},
   "outputs": [],
   "source": []
  }
 ],
 "metadata": {
  "kernelspec": {
   "display_name": "Python 3",
   "language": "python",
   "name": "python3"
  },
  "language_info": {
   "codemirror_mode": {
    "name": "ipython",
    "version": 3
   },
   "file_extension": ".py",
   "mimetype": "text/x-python",
   "name": "python",
   "nbconvert_exporter": "python",
   "pygments_lexer": "ipython3",
   "version": "3.8.3"
  }
 },
 "nbformat": 4,
 "nbformat_minor": 2
}
