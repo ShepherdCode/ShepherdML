{
 "cells": [
  {
   "cell_type": "markdown",
   "metadata": {},
   "source": [
    "# Statistical analysis of attention temperatures\n",
    "Is there correlation to position within the patch? No."
   ]
  },
  {
   "cell_type": "code",
   "execution_count": 1,
   "metadata": {},
   "outputs": [],
   "source": [
    "import numpy as np\n",
    "import pandas as pd"
   ]
  },
  {
   "cell_type": "code",
   "execution_count": 2,
   "metadata": {},
   "outputs": [],
   "source": [
    "FILEPATH='/home/jrm/Adjeroh/Naved/CP_80K/'\n",
    "CLASSPATH=['Output0/','Output1/','Output2/','Output3/','Output4/','Output5/']\n",
    "NUCLEUS_FILE='Process100_Nucleus.csv'\n",
    "ATTENTION_FILE='attention_avg_temp_per_nucleus.csv'"
   ]
  },
  {
   "cell_type": "code",
   "execution_count": 3,
   "metadata": {},
   "outputs": [],
   "source": [
    "PATCH_NUM='ImageNumber'\n",
    "OBJECT_NUM='ObjectNumber'\n",
    "KEYS=[PATCH_NUM,OBJECT_NUM]\n",
    "AREA='AreaShape_Area'\n",
    "FIELD_X='Location_Center_X'\n",
    "FIELD_Y='Location_Center_Y'\n",
    "IDCOL='ID'\n",
    "RADIUS='Radius'\n",
    "AVGTEMP='AvgTemp'\n",
    "CENTER=150   # center along X and Y of 300-pixel patch"
   ]
  },
  {
   "cell_type": "code",
   "execution_count": 4,
   "metadata": {},
   "outputs": [
    {
     "name": "stdout",
     "output_type": "stream",
     "text": [
      "Correlation of temperature to radial distance from center of patch.\n",
      "Class 1 correlations: 0.001 X 0.001 Y -0.002 r\n",
      "Class 2 correlations: -0.001 X 0.002 Y -0.001 r\n",
      "Class 3 correlations: 0.001 X -0.001 Y -0.002 r\n",
      "Class 4 correlations: 0.001 X 0.008 Y -0.001 r\n",
      "Class 5 correlations: 0.000 X 0.007 Y 0.002 r\n",
      "Done\n"
     ]
    }
   ],
   "source": [
    "print(\"Correlation of temperature to radial distance from center of patch.\")\n",
    "for cls in range(1,6):  # waiting for data for class 0\n",
    "    # nuclei\n",
    "    FILENAME=FILEPATH+CLASSPATH[cls]+NUCLEUS_FILE\n",
    "    nuc_all = pd.read_csv(FILENAME)\n",
    "    columns=[PATCH_NUM,OBJECT_NUM,AREA,FIELD_X,FIELD_Y]\n",
    "    nuc_df=nuc_all[columns]\n",
    "    temp_df=pd.DataFrame(columns=[IDCOL])\n",
    "    temp_df[IDCOL]=nuc_df[PATCH_NUM].astype(str)+'.'+nuc_df[OBJECT_NUM].astype(str)\n",
    "    nucid_df=pd.concat( [temp_df,nuc_df], axis=1 )\n",
    "    nucid_df.drop(columns=KEYS,inplace=True)\n",
    "    nucid_df[RADIUS]=0\n",
    "    nucid_df[RADIUS]=np.sqrt((nucid_df[FIELD_X]-CENTER)**2+(nucid_df[FIELD_Y]-CENTER)**2)\n",
    "    # temperature\n",
    "    FILENAME=FILEPATH+CLASSPATH[cls]+ATTENTION_FILE\n",
    "    att_df = pd.read_csv(FILENAME)\n",
    "    att_df.rename(columns={' ObjectNumber':OBJECT_NUM,' AvgTemp':AVGTEMP},inplace=True)\n",
    "    temp_df=pd.DataFrame(columns=[IDCOL])\n",
    "    temp_df[IDCOL]=att_df[PATCH_NUM].astype(str)+'.'+att_df[OBJECT_NUM].astype(str)\n",
    "    attid_df=pd.concat( [temp_df,att_df], axis=1 )\n",
    "    combo_df = pd.concat( [attid_df,nucid_df], axis=1)\n",
    "    combo_df.describe()\n",
    "    # status\n",
    "    xcor = combo_df[AVGTEMP].corr(combo_df[FIELD_X])\n",
    "    ycor = combo_df[AVGTEMP].corr(combo_df[FIELD_Y])\n",
    "    rcor = combo_df[AVGTEMP].corr(combo_df[RADIUS])\n",
    "    print('Class %d correlations: %.3f X %.3f Y %.3f r'%\n",
    "          (cls,xcor,ycor,rcor))\n",
    "print(\"Done\")"
   ]
  },
  {
   "cell_type": "code",
   "execution_count": null,
   "metadata": {},
   "outputs": [],
   "source": [
    "\n"
   ]
  },
  {
   "cell_type": "code",
   "execution_count": null,
   "metadata": {},
   "outputs": [],
   "source": []
  }
 ],
 "metadata": {
  "kernelspec": {
   "display_name": "Python 3",
   "language": "python",
   "name": "python3"
  },
  "language_info": {
   "codemirror_mode": {
    "name": "ipython",
    "version": 3
   },
   "file_extension": ".py",
   "mimetype": "text/x-python",
   "name": "python",
   "nbconvert_exporter": "python",
   "pygments_lexer": "ipython3",
   "version": "3.8.10"
  }
 },
 "nbformat": 4,
 "nbformat_minor": 4
}
