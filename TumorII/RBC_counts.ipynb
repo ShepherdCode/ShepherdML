{
 "cells": [
  {
   "cell_type": "markdown",
   "metadata": {},
   "source": [
    "# RBC Counts\n",
    "Do some classes have more red blood cells than others? \n",
    "\n",
    "Yes. Two of the smaller classes have \n",
    "unexpectedly large numbers of RBC.\n",
    "\n",
    "This suggests we could do better WSI-level prediction\n",
    "by filtering the high-RBC patches.\n",
    "\n",
    "Here we counted \"merged RBC\"\n",
    "as counted by our CellProfiler Process100 pipeline.\n",
    "CP output one \"merged RBC\" line per object.\n",
    "Most patches have no RBC.\n",
    "Those patches with RBC are counted one or more times.\n",
    "Naturally, the number of merged objects is less than\n",
    "the number of detected objects.\n",
    "So these numbers are an undercount."
   ]
  },
  {
   "cell_type": "code",
   "execution_count": 1,
   "metadata": {},
   "outputs": [],
   "source": [
    "import scipy.stats as ss\n",
    "import numpy as np\n",
    "import pandas as pd\n",
    "import matplotlib as plt"
   ]
  },
  {
   "cell_type": "code",
   "execution_count": 2,
   "metadata": {},
   "outputs": [],
   "source": [
    "DIRECTORY = '/home/jrm/Adjeroh/Naved/Process100.class/'\n",
    "# The \"Merge RBC\" data gives a rough RBC count after cell bounaries were de-spiked and merged.\n",
    "FILE = 'Process100_MergeRBC.csv'"
   ]
  },
  {
   "cell_type": "code",
   "execution_count": 6,
   "metadata": {},
   "outputs": [
    {
     "name": "stdout",
     "output_type": "stream",
     "text": [
      "disease class: 0 #RBC= 97\n",
      "disease class: 1 #RBC= 57\n",
      "disease class: 2 #RBC= 81\n",
      "disease class: 3 #RBC= 155\n",
      "disease class: 4 #RBC= 1\n",
      "disease class: 5 #RBC= 106\n"
     ]
    }
   ],
   "source": [
    "for CL in range(6):\n",
    "    cl = str(CL)\n",
    "    fp = DIRECTORY+cl+'/'+FILE\n",
    "    object_df = pd.read_csv(fp)\n",
    "    num_RBC = len(object_df)\n",
    "    print('disease class:',CL,'#RBC=',num_RBC)"
   ]
  },
  {
   "cell_type": "code",
   "execution_count": null,
   "metadata": {},
   "outputs": [],
   "source": []
  }
 ],
 "metadata": {
  "kernelspec": {
   "display_name": "Python 3",
   "language": "python",
   "name": "python3"
  },
  "language_info": {
   "codemirror_mode": {
    "name": "ipython",
    "version": 3
   },
   "file_extension": ".py",
   "mimetype": "text/x-python",
   "name": "python",
   "nbconvert_exporter": "python",
   "pygments_lexer": "ipython3",
   "version": "3.8.10"
  }
 },
 "nbformat": 4,
 "nbformat_minor": 4
}
