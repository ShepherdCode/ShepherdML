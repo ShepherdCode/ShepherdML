{
 "cells": [
  {
   "cell_type": "markdown",
   "metadata": {},
   "source": [
    "# Color Analysis - Tumor Names\n",
    "Create a train/test split based on tumor names."
   ]
  },
  {
   "cell_type": "markdown",
   "metadata": {},
   "source": [
    "## Overall Plan\n",
    "* Run CellProfiler on 80K patches. Make CSV files.\n",
    "* Record bounding box of every nucleus of every patch.\n",
    "* Run CNN on 80K patches. \n",
    "* For each class c, label correctly classified patches c_Cor.\n",
    "* For each class c, label in correctly classified patches c_Inc.\n",
    "* Run CNN attention on 80K patches. Make heatmaps.\n",
    "* Compute average heatmap color per nucleus bounding box.\n",
    "* Set aside test set: 20% of images (and all their patch data) per class.\n",
    "* Possibly set aside patches with too little tissue, too many RBC, or too few nuclei.\n",
    "* Remove useless columns such as XY locations.\n",
    "* Add dispersion columns such as deciles.\n",
    "* Train a Cor/Inc binary classifier for each class.\n",
    "* Evaluate the model by cross-validation over training data.\n",
    "* If the model is accurate, extract important features."
   ]
  },
  {
   "cell_type": "code",
   "execution_count": 1,
   "metadata": {},
   "outputs": [
    {
     "data": {
      "text/plain": [
       "'1.0.2'"
      ]
     },
     "execution_count": 1,
     "metadata": {},
     "output_type": "execute_result"
    }
   ],
   "source": [
    "import pandas as pd\n",
    "import numpy as np\n",
    "from sklearn.model_selection import train_test_split\n",
    "import sklearn\n",
    "sklearn.__version__"
   ]
  },
  {
   "cell_type": "code",
   "execution_count": 2,
   "metadata": {},
   "outputs": [],
   "source": [
    "RANDOM_STATE=12345\n",
    "THIS_CLASS=4   # use a small class for process development\n",
    "NUM_CLASSES=6\n",
    "FILEPATHS=['path']*NUM_CLASSES\n",
    "FILEPATHS[THIS_CLASS]='/home/jrm/Adjeroh/Naved/CP_80K/Output4/' # '/Users/jasonmiller/WVU/Output4/'\n"
   ]
  },
  {
   "cell_type": "code",
   "execution_count": 3,
   "metadata": {},
   "outputs": [],
   "source": [
    "import random as rnd\n",
    "class CP_Util():\n",
    "    def __init__(self,filepath='./'):\n",
    "        self.FILEPATH  =filepath\n",
    "        self.NUCLEI_FN ='Process100_Nucleus.csv'\n",
    "        self.PATCH_FN  ='Process100_Image.csv'\n",
    "        self.TEST_SET_ASIDE =0.20\n",
    "        self.num_patches   =0\n",
    "        self.test_patches  =None\n",
    "        self.train_patches =None\n",
    "    def _load_patches(self):\n",
    "        \"\"\"Load dataframe from CellProfiler Image.csv file.\n",
    "        Change CP's word \"Image\" to \"Patch\".\n",
    "        Parse strings like FILE-NAME_XCOORD_YCOORD.PNG\n",
    "        example: TCGA-DB-A4XF-01Z-00-DX1_10200_20700.png\"\"\"\n",
    "        filename = self.FILEPATH+self.PATCH_FN\n",
    "        cols=['ImageNumber','FileName_Tumor']\n",
    "        image_info = pd.read_csv(filename,usecols=cols)\n",
    "        self.num_patches = len(image_info)\n",
    "        column_rename = {'ImageNumber':'PatchNumber','FileName_Tumor':'FileName'}\n",
    "        patch_info = image_info.rename(column_rename,axis=1)\n",
    "        patch_info.set_index('PatchNumber',inplace=True)\n",
    "        tumor_prefix = []\n",
    "        tumor_x=[]\n",
    "        tumor_y=[]\n",
    "        for index,row in patch_info.iterrows():\n",
    "            tumor = row['FileName']\n",
    "            delim = tumor.index('_')\n",
    "            prefix = tumor[:delim]\n",
    "            suffix = tumor[delim+1:]\n",
    "            x = suffix[:suffix.index('_')]\n",
    "            y = suffix[suffix.index('_')+1:suffix.index('.')]\n",
    "            tumor_prefix.append(prefix)\n",
    "            tumor_x.append(x)\n",
    "            tumor_y.append(y)\n",
    "        patch_info.insert(0,'TumorName',tumor_prefix)\n",
    "        patch_info['PatchX']=tumor_x\n",
    "        patch_info['PatchY']=tumor_y\n",
    "        return patch_info\n",
    "    def _subset(self,df,tumors):\n",
    "        return df.loc[df['TumorName'].isin(tumors)]\n",
    "    def train_test_split(self):\n",
    "        patch_info = self._load_patches()  # dataframe\n",
    "        tumor_names = patch_info['TumorName'].unique()  # ndarray\n",
    "        num_tumors = len(tumor_names)\n",
    "        population = range(num_tumors)\n",
    "        test_size = int(num_tumors*self.TEST_SET_ASIDE+0.5)\n",
    "        test_indices = rnd.sample(population,test_size)\n",
    "        train_indices = np.setdiff1d(population,test_indices)\n",
    "        test_tumor_names = tumor_names[test_indices]\n",
    "        train_tumor_names = tumor_names[train_indices]\n",
    "        self.test_patches = self._subset(patch_info,test_tumor_names)\n",
    "        self.train_patches = self._subset(patch_info,train_tumor_names)\n",
    "    def get_train_patches(self):\n",
    "        return self.train_patches  # dataframe\n",
    "    def get_test_patches(self):\n",
    "        return self.test_patches  # dataframe\n",
    "    def validate_split(self):\n",
    "        num_train_patches = len(self.train_patches)\n",
    "        num_test_patches = len(self.test_patches)\n",
    "        if not num_train_patches + num_test_patches == self.num_patches:\n",
    "            raise Exception('Apparent data loss.')\n",
    "        df1=pd.DataFrame(self.train_patches['TumorName'])\n",
    "        df2=pd.DataFrame(self.test_patches['TumorName'])\n",
    "        in_common = df1.merge(df2,how='inner',indicator=False)\n",
    "        if len(in_common)>0:\n",
    "            raise Exception('Sets not mutually exclusive.')\n",
    "        "
   ]
  },
  {
   "cell_type": "code",
   "execution_count": 4,
   "metadata": {},
   "outputs": [],
   "source": [
    "cputil = CP_Util(FILEPATHS[THIS_CLASS])\n",
    "cputil.train_test_split()"
   ]
  },
  {
   "cell_type": "code",
   "execution_count": 11,
   "metadata": {},
   "outputs": [
    {
     "name": "stdout",
     "output_type": "stream",
     "text": [
      "TCGA-DB-A4XF-01Z-00-DX1\n",
      "TCGA-DB-A4XF-01Z-00-DX2\n",
      "TCGA-DH-A66B-01Z-00-DX1\n",
      "TCGA-HT-A5RA-01Z-00-DX1\n",
      "TCGA-HT-A618-01Z-00-DX1\n",
      "TCGA-S9-A6U6-01Z-00-DX1\n",
      "TCGA-S9-A6U9-01Z-00-DX1\n",
      "TCGA-S9-A6WL-01Z-00-DX1\n"
     ]
    }
   ],
   "source": [
    "x = cputil._load_patches()\n",
    "t = x['TumorName'].unique()\n",
    "#for index, row in t.iterrows():\n",
    "#    print(row['TumorName'])\n",
    "for y in t:\n",
    "    print(y)"
   ]
  },
  {
   "cell_type": "code",
   "execution_count": null,
   "metadata": {},
   "outputs": [],
   "source": []
  }
 ],
 "metadata": {
  "kernelspec": {
   "display_name": "Python 3",
   "language": "python",
   "name": "python3"
  },
  "language_info": {
   "codemirror_mode": {
    "name": "ipython",
    "version": 3
   },
   "file_extension": ".py",
   "mimetype": "text/x-python",
   "name": "python",
   "nbconvert_exporter": "python",
   "pygments_lexer": "ipython3",
   "version": "3.8.10"
  }
 },
 "nbformat": 4,
 "nbformat_minor": 2
}
