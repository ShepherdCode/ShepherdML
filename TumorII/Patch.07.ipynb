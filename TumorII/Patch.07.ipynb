{
 "cells": [
  {
   "cell_type": "markdown",
   "metadata": {},
   "source": [
    "# Patch-Level Classification \n",
    "Re-do patch 06.  \n",
    "Make sure all possibly identifying columns have been removed from the dataframe.  "
   ]
  },
  {
   "cell_type": "code",
   "execution_count": 1,
   "metadata": {},
   "outputs": [
    {
     "name": "stdout",
     "output_type": "stream",
     "text": [
      "2022-06-30 16:37:00.550434\n",
      "Python 3.8.10\n",
      "sklearn 1.0.2\n"
     ]
    }
   ],
   "source": [
    "import datetime\n",
    "print(datetime.datetime.now())\n",
    "from platform import python_version\n",
    "print('Python',python_version())\n",
    "import numpy as np\n",
    "import pandas as pd\n",
    "import sklearn   # pip install --upgrade scikit-learn\n",
    "print('sklearn',sklearn.__version__)\n",
    "#import tensorflow as tf\n",
    "#tf.config.list_physical_devices('GPU')"
   ]
  },
  {
   "cell_type": "code",
   "execution_count": 2,
   "metadata": {},
   "outputs": [],
   "source": [
    "from sklearn.model_selection import cross_val_score\n",
    "from sklearn.model_selection import RepeatedStratifiedKFold\n",
    "from sklearn.ensemble import RandomForestClassifier\n",
    "from sklearn.model_selection import train_test_split\n",
    "from sklearn.metrics import confusion_matrix\n",
    "from sklearn.utils import shuffle\n",
    "from sklearn.feature_selection import RFE\n",
    "import joblib # used to dump/load sklearn models\n",
    "from CellProfiler_Util import CP_Util\n",
    "from RandomForestUtil import RF_Util"
   ]
  },
  {
   "cell_type": "code",
   "execution_count": 3,
   "metadata": {},
   "outputs": [],
   "source": [
    "BASE_DIR='/home/jrm/Adjeroh/Naved/CP_80K/'  # Alien\n",
    "#BASE_DIR='D:\\\\Adjeroh\\\\Naved\\\\CP_80K\\\\'  # Windows\n",
    "CLASSES=['Output0/','Output1/','Output2/','Output3/','Output4/','Output5/',]\n",
    "MODELS_DIR='/home/jrm/Adjeroh/Naved/CP_80K/models/Patch.07'  # Alien\n",
    "#MODELS_DIR='D:\\\\Adjeroh\\\\Naved\\\\CP_80K\\\\models\\\\Patch.07'  # Windows\n",
    "\n",
    "# These patches were used to tune the CellProfiler pipeline\n",
    "EXCLUDE = [ [311], [12], [30,41], [87], [67], [26,46] ]\n",
    "IMAGE_FILENAME = 'Process100_Image.csv'"
   ]
  },
  {
   "cell_type": "code",
   "execution_count": 4,
   "metadata": {},
   "outputs": [
    {
     "name": "stdout",
     "output_type": "stream",
     "text": [
      "2022-06-30 16:37:01.165598\n",
      "0 (22940, 5338) 22940\n",
      "1 (28960, 5338) 28960\n",
      "2 (36561, 5338) 36561\n",
      "3 (39498, 5338) 39498\n",
      "4 (41063, 5338) 41063\n",
      "5 (42209, 5338) 42209\n"
     ]
    }
   ],
   "source": [
    "print(datetime.datetime.now())\n",
    "X = None\n",
    "y = None\n",
    "for i in range(0,6):\n",
    "    image_file = BASE_DIR+CLASSES[i]+IMAGE_FILENAME\n",
    "    patch_info = pd.read_csv(image_file)\n",
    "    # remove identifying information\n",
    "    patch_info = patch_info.set_index(['ImageNumber'])\n",
    "    patch_info = patch_info.drop(EXCLUDE[i])\n",
    "    patch_info = patch_info.reset_index()\n",
    "    Xi = patch_info.drop(columns=['ImageNumber','Group_Index'])  \n",
    "    Xi = Xi.select_dtypes(include='number')   # drop strings esp filename\n",
    "    Xi = Xi[Xi['AreaOccupied_AreaOccupied_MergeRBC']<3333]  # filter\n",
    "    Xi = Xi[Xi['AreaOccupied_AreaOccupied_Tissue']>80000]   # filter\n",
    "    size = len(Xi)\n",
    "    yi = np.ones(size) * i   # e.g. class 3\n",
    "    if X is None:\n",
    "        X = Xi\n",
    "        y = yi\n",
    "    else:\n",
    "        X = pd.concat( (X,Xi) )\n",
    "        y = np.concatenate( (y,yi) )\n",
    "    X.fillna(0,inplace=True)  \n",
    "    print(i,X.shape,len(y))    "
   ]
  },
  {
   "cell_type": "markdown",
   "metadata": {},
   "source": [
    "Get rid of irrelevant or potentially revealing columns."
   ]
  },
  {
   "cell_type": "code",
   "execution_count": 5,
   "metadata": {},
   "outputs": [
    {
     "name": "stdout",
     "output_type": "stream",
     "text": [
      "33 columns to be dropped\n",
      "0 (42209, 5305) 42209\n"
     ]
    }
   ],
   "source": [
    "#    if c == 'Group_Number' or \\\n",
    "#    c.endswith('_Tumor') or \\\n",
    "#    c.startswith('ExecutionTime_') or \\\n",
    "#    c.startswith('ModuleError_'):\n",
    "all_cols = X.columns\n",
    "bad_cols = []\n",
    "for c in all_cols:\n",
    "    if c == 'Group_Number' or \\\n",
    "    c.endswith('_Tumor') or \\\n",
    "    c.startswith('ModuleError_'):\n",
    "        bad_cols.append(c)\n",
    "c = len(bad_cols)\n",
    "print(c,'columns to be dropped')\n",
    "X = X.drop(columns=bad_cols)\n",
    "print(0, X.shape,len(y))    "
   ]
  },
  {
   "cell_type": "code",
   "execution_count": 6,
   "metadata": {},
   "outputs": [
    {
     "name": "stdout",
     "output_type": "stream",
     "text": [
      "2022-06-30 16:38:37.294557\n"
     ]
    }
   ],
   "source": [
    "print(datetime.datetime.now())\n",
    "Xtrain,ytrain=shuffle(X,y)  #set random_state for reproducibility\n",
    "X = None\n",
    "y = None"
   ]
  },
  {
   "cell_type": "code",
   "execution_count": 7,
   "metadata": {},
   "outputs": [
    {
     "name": "stdout",
     "output_type": "stream",
     "text": [
      "2022-06-30 16:38:37.873747\n",
      "Cross-validation...\n"
     ]
    },
    {
     "name": "stderr",
     "output_type": "stream",
     "text": [
      "[Parallel(n_jobs=1)]: Using backend SequentialBackend with 1 concurrent workers.\n"
     ]
    },
    {
     "name": "stdout",
     "output_type": "stream",
     "text": [
      "[CV] END .................................................... total time= 2.9min\n"
     ]
    },
    {
     "name": "stderr",
     "output_type": "stream",
     "text": [
      "[Parallel(n_jobs=1)]: Done   1 out of   1 | elapsed:  2.9min remaining:    0.0s\n"
     ]
    },
    {
     "name": "stdout",
     "output_type": "stream",
     "text": [
      "[CV] END .................................................... total time= 2.8min\n",
      "[CV] END .................................................... total time= 2.9min\n",
      "[CV] END .................................................... total time= 2.9min\n",
      "[CV] END .................................................... total time= 2.9min\n",
      "[0.91092158 0.90890784 0.90606491 0.90642028 0.89811634]\n",
      "mean 0.9061 +/- 0.0044\n",
      "2022-06-30 16:53:04.756192\n"
     ]
    },
    {
     "name": "stderr",
     "output_type": "stream",
     "text": [
      "[Parallel(n_jobs=1)]: Done   5 out of   5 | elapsed: 14.4min finished\n"
     ]
    }
   ],
   "source": [
    "print(datetime.datetime.now())\n",
    "print('Cross-validation...')\n",
    "rf1 = RF_Util()\n",
    "rf1.set_train(Xtrain,ytrain)\n",
    "cv_scores = rf1.cross_validation()\n",
    "print(cv_scores)\n",
    "print('mean %.4f +/- %.4f' % (cv_scores.mean(),cv_scores.std()))\n",
    "print(datetime.datetime.now())"
   ]
  },
  {
   "cell_type": "markdown",
   "metadata": {},
   "source": [
    "## Conclusion\n",
    "Accuracy jumped back from 88.4% to 91% by excluding Group and _Tumor and ModuleError.\n",
    "That leaves ExecutionTime_ as the culprit.\n",
    "Next we'll try ablating those."
   ]
  },
  {
   "cell_type": "code",
   "execution_count": null,
   "metadata": {},
   "outputs": [],
   "source": []
  }
 ],
 "metadata": {
  "kernelspec": {
   "display_name": "Python 3",
   "language": "python",
   "name": "python3"
  },
  "language_info": {
   "codemirror_mode": {
    "name": "ipython",
    "version": 3
   },
   "file_extension": ".py",
   "mimetype": "text/x-python",
   "name": "python",
   "nbconvert_exporter": "python",
   "pygments_lexer": "ipython3",
   "version": "3.8.10"
  }
 },
 "nbformat": 4,
 "nbformat_minor": 4
}
