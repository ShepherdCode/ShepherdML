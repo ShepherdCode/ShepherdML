{
 "cells": [
  {
   "cell_type": "markdown",
   "metadata": {},
   "source": [
    "# Random Forest\n",
    "Train on 6-class cancer classification.  \n",
    "Input is the nucleus+RBC rollup, training set only.  \n",
    "Train on the full training set (no validation).  \n",
    "Rank feature importance."
   ]
  },
  {
   "cell_type": "code",
   "execution_count": 1,
   "metadata": {},
   "outputs": [
    {
     "name": "stdout",
     "output_type": "stream",
     "text": [
      "2022-06-09 09:16:41.719930\n",
      "Python 3.8.10\n",
      "sklearn 1.0.2\n"
     ]
    },
    {
     "data": {
      "text/plain": [
       "[]"
      ]
     },
     "execution_count": 1,
     "metadata": {},
     "output_type": "execute_result"
    }
   ],
   "source": [
    "import datetime\n",
    "print(datetime.datetime.now())\n",
    "from platform import python_version\n",
    "print('Python',python_version())\n",
    "import numpy as np\n",
    "import pandas as pd\n",
    "import sklearn   # pip install --upgrade scikit-learn\n",
    "print('sklearn',sklearn.__version__)\n",
    "import tensorflow as tf\n",
    "tf.config.list_physical_devices('GPU')"
   ]
  },
  {
   "cell_type": "code",
   "execution_count": 2,
   "metadata": {},
   "outputs": [],
   "source": [
    "from sklearn.model_selection import cross_val_score\n",
    "from sklearn.model_selection import RepeatedStratifiedKFold\n",
    "from sklearn.ensemble import RandomForestClassifier\n",
    "from sklearn.model_selection import train_test_split\n",
    "from sklearn.metrics import confusion_matrix\n",
    "from sklearn.utils import shuffle\n",
    "from sklearn.feature_selection import RFE\n",
    "import joblib # used to dump/load sklearn models\n",
    "from CellProfiler_Util import CP_Util\n",
    "from RandomForestUtil import RF_Util"
   ]
  },
  {
   "cell_type": "code",
   "execution_count": 3,
   "metadata": {},
   "outputs": [],
   "source": [
    "BASE_DIR='/home/jrm/Adjeroh/Naved/CP_80K/'  # append Output0/ etc\n",
    "NUCLEUS_FILES=[\n",
    "    'Nucleus_Rollup_0.csv',\n",
    "    'Nucleus_Rollup_1.csv',\n",
    "    'Nucleus_Rollup_2.csv',\n",
    "    'Nucleus_Rollup_3.csv',\n",
    "    'Nucleus_Rollup_4.csv',\n",
    "    'Nucleus_Rollup_5.csv']\n",
    "RBC_FILES=[\n",
    "    'RBC_Rollup_0.csv',\n",
    "    'RBC_Rollup_1.csv',\n",
    "    'RBC_Rollup_2.csv',\n",
    "    'RBC_Rollup_3.csv',\n",
    "    'RBC_Rollup_4.csv',\n",
    "    'RBC_Rollup_5.csv']\n",
    "CLASSES=range(0,6)  # use all 6 classes\n",
    "CLASSES=[0]  # JUST FOR TESTING\n",
    "MODELS_DIR='/home/jrm/Adjeroh/Naved/models/RandomForest.17/'"
   ]
  },
  {
   "cell_type": "code",
   "execution_count": 4,
   "metadata": {},
   "outputs": [
    {
     "name": "stdout",
     "output_type": "stream",
     "text": [
      "2022-06-09 09:16:43.810634\n",
      "2022-06-09 09:16:43.810832\n",
      "Process class 0\n",
      "object_info: Int64Index([  397,   398,   399,   400,   401,   402,   403,   404,   405,\n",
      "              406,\n",
      "            ...\n",
      "            44957, 44958, 44959, 44960, 44961, 44962, 44963, 44964, 44965,\n",
      "            44966],\n",
      "           dtype='int64', name='PatchNumber', length=35950)\n",
      "good_patches: Int64Index([    1,     2,     3,     4,     5,     6,     7,     8,     9,\n",
      "               10,\n",
      "            ...\n",
      "            43444, 43445, 43446, 43447, 43448, 43449, 43450, 43451, 43452,\n",
      "            43453],\n",
      "           dtype='int64', name='PatchNumber', length=8803)\n",
      "Xnuc size (0, 5192)\n",
      "object_info: Int64Index([  403,   413,   421,   422,   424,   428,   442,   446,   449,\n",
      "              455,\n",
      "            ...\n",
      "            44858, 44859, 44860, 44866, 44867, 44884, 44915, 44917, 44937,\n",
      "            44952],\n",
      "           dtype='int64', name='PatchNumber', length=8476)\n",
      "good_patches: Int64Index([    1,     2,     3,     4,     5,     6,     7,     8,     9,\n",
      "               10,\n",
      "            ...\n",
      "            43444, 43445, 43446, 43447, 43448, 43449, 43450, 43451, 43452,\n",
      "            43453],\n",
      "           dtype='int64', name='PatchNumber', length=8803)\n",
      "Xrbc size (0, 1200)\n"
     ]
    },
    {
     "data": {
      "text/html": [
       "<div>\n",
       "<style scoped>\n",
       "    .dataframe tbody tr th:only-of-type {\n",
       "        vertical-align: middle;\n",
       "    }\n",
       "\n",
       "    .dataframe tbody tr th {\n",
       "        vertical-align: top;\n",
       "    }\n",
       "\n",
       "    .dataframe thead th {\n",
       "        text-align: right;\n",
       "    }\n",
       "</style>\n",
       "<table border=\"1\" class=\"dataframe\">\n",
       "  <thead>\n",
       "    <tr style=\"text-align: right;\">\n",
       "      <th></th>\n",
       "      <th>Nuc_ObjectNumber_count</th>\n",
       "      <th>Nuc_ObjectNumber_mean</th>\n",
       "      <th>Nuc_ObjectNumber_std</th>\n",
       "      <th>Nuc_ObjectNumber_min</th>\n",
       "      <th>Nuc_ObjectNumber_25%</th>\n",
       "      <th>Nuc_ObjectNumber_50%</th>\n",
       "      <th>Nuc_ObjectNumber_75%</th>\n",
       "      <th>Nuc_ObjectNumber_max</th>\n",
       "      <th>Nuc_AreaShape_Area_count</th>\n",
       "      <th>Nuc_AreaShape_Area_mean</th>\n",
       "      <th>...</th>\n",
       "      <th>Rbc_Number_Object_Number_75%</th>\n",
       "      <th>Rbc_Number_Object_Number_max</th>\n",
       "      <th>Rbc_Parent_ShrinkRBC_count</th>\n",
       "      <th>Rbc_Parent_ShrinkRBC_mean</th>\n",
       "      <th>Rbc_Parent_ShrinkRBC_std</th>\n",
       "      <th>Rbc_Parent_ShrinkRBC_min</th>\n",
       "      <th>Rbc_Parent_ShrinkRBC_25%</th>\n",
       "      <th>Rbc_Parent_ShrinkRBC_50%</th>\n",
       "      <th>Rbc_Parent_ShrinkRBC_75%</th>\n",
       "      <th>Rbc_Parent_ShrinkRBC_max</th>\n",
       "    </tr>\n",
       "    <tr>\n",
       "      <th>PatchNumber</th>\n",
       "      <th></th>\n",
       "      <th></th>\n",
       "      <th></th>\n",
       "      <th></th>\n",
       "      <th></th>\n",
       "      <th></th>\n",
       "      <th></th>\n",
       "      <th></th>\n",
       "      <th></th>\n",
       "      <th></th>\n",
       "      <th></th>\n",
       "      <th></th>\n",
       "      <th></th>\n",
       "      <th></th>\n",
       "      <th></th>\n",
       "      <th></th>\n",
       "      <th></th>\n",
       "      <th></th>\n",
       "      <th></th>\n",
       "      <th></th>\n",
       "      <th></th>\n",
       "    </tr>\n",
       "  </thead>\n",
       "  <tbody>\n",
       "  </tbody>\n",
       "</table>\n",
       "<p>0 rows × 6392 columns</p>\n",
       "</div>"
      ],
      "text/plain": [
       "Empty DataFrame\n",
       "Columns: [Nuc_ObjectNumber_count, Nuc_ObjectNumber_mean, Nuc_ObjectNumber_std, Nuc_ObjectNumber_min, Nuc_ObjectNumber_25%, Nuc_ObjectNumber_50%, Nuc_ObjectNumber_75%, Nuc_ObjectNumber_max, Nuc_AreaShape_Area_count, Nuc_AreaShape_Area_mean, Nuc_AreaShape_Area_std, Nuc_AreaShape_Area_min, Nuc_AreaShape_Area_25%, Nuc_AreaShape_Area_50%, Nuc_AreaShape_Area_75%, Nuc_AreaShape_Area_max, Nuc_AreaShape_BoundingBoxArea_count, Nuc_AreaShape_BoundingBoxArea_mean, Nuc_AreaShape_BoundingBoxArea_std, Nuc_AreaShape_BoundingBoxArea_min, Nuc_AreaShape_BoundingBoxArea_25%, Nuc_AreaShape_BoundingBoxArea_50%, Nuc_AreaShape_BoundingBoxArea_75%, Nuc_AreaShape_BoundingBoxArea_max, Nuc_AreaShape_BoundingBoxMaximum_X_count, Nuc_AreaShape_BoundingBoxMaximum_X_mean, Nuc_AreaShape_BoundingBoxMaximum_X_std, Nuc_AreaShape_BoundingBoxMaximum_X_min, Nuc_AreaShape_BoundingBoxMaximum_X_25%, Nuc_AreaShape_BoundingBoxMaximum_X_50%, Nuc_AreaShape_BoundingBoxMaximum_X_75%, Nuc_AreaShape_BoundingBoxMaximum_X_max, Nuc_AreaShape_BoundingBoxMaximum_Y_count, Nuc_AreaShape_BoundingBoxMaximum_Y_mean, Nuc_AreaShape_BoundingBoxMaximum_Y_std, Nuc_AreaShape_BoundingBoxMaximum_Y_min, Nuc_AreaShape_BoundingBoxMaximum_Y_25%, Nuc_AreaShape_BoundingBoxMaximum_Y_50%, Nuc_AreaShape_BoundingBoxMaximum_Y_75%, Nuc_AreaShape_BoundingBoxMaximum_Y_max, Nuc_AreaShape_BoundingBoxMinimum_X_count, Nuc_AreaShape_BoundingBoxMinimum_X_mean, Nuc_AreaShape_BoundingBoxMinimum_X_std, Nuc_AreaShape_BoundingBoxMinimum_X_min, Nuc_AreaShape_BoundingBoxMinimum_X_25%, Nuc_AreaShape_BoundingBoxMinimum_X_50%, Nuc_AreaShape_BoundingBoxMinimum_X_75%, Nuc_AreaShape_BoundingBoxMinimum_X_max, Nuc_AreaShape_BoundingBoxMinimum_Y_count, Nuc_AreaShape_BoundingBoxMinimum_Y_mean, Nuc_AreaShape_BoundingBoxMinimum_Y_std, Nuc_AreaShape_BoundingBoxMinimum_Y_min, Nuc_AreaShape_BoundingBoxMinimum_Y_25%, Nuc_AreaShape_BoundingBoxMinimum_Y_50%, Nuc_AreaShape_BoundingBoxMinimum_Y_75%, Nuc_AreaShape_BoundingBoxMinimum_Y_max, Nuc_AreaShape_Center_X_count, Nuc_AreaShape_Center_X_mean, Nuc_AreaShape_Center_X_std, Nuc_AreaShape_Center_X_min, Nuc_AreaShape_Center_X_25%, Nuc_AreaShape_Center_X_50%, Nuc_AreaShape_Center_X_75%, Nuc_AreaShape_Center_X_max, Nuc_AreaShape_Center_Y_count, Nuc_AreaShape_Center_Y_mean, Nuc_AreaShape_Center_Y_std, Nuc_AreaShape_Center_Y_min, Nuc_AreaShape_Center_Y_25%, Nuc_AreaShape_Center_Y_50%, Nuc_AreaShape_Center_Y_75%, Nuc_AreaShape_Center_Y_max, Nuc_AreaShape_CentralMoment_0_0_count, Nuc_AreaShape_CentralMoment_0_0_mean, Nuc_AreaShape_CentralMoment_0_0_std, Nuc_AreaShape_CentralMoment_0_0_min, Nuc_AreaShape_CentralMoment_0_0_25%, Nuc_AreaShape_CentralMoment_0_0_50%, Nuc_AreaShape_CentralMoment_0_0_75%, Nuc_AreaShape_CentralMoment_0_0_max, Nuc_AreaShape_CentralMoment_0_1_count, Nuc_AreaShape_CentralMoment_0_1_mean, Nuc_AreaShape_CentralMoment_0_1_std, Nuc_AreaShape_CentralMoment_0_1_min, Nuc_AreaShape_CentralMoment_0_1_25%, Nuc_AreaShape_CentralMoment_0_1_50%, Nuc_AreaShape_CentralMoment_0_1_75%, Nuc_AreaShape_CentralMoment_0_1_max, Nuc_AreaShape_CentralMoment_0_2_count, Nuc_AreaShape_CentralMoment_0_2_mean, Nuc_AreaShape_CentralMoment_0_2_std, Nuc_AreaShape_CentralMoment_0_2_min, Nuc_AreaShape_CentralMoment_0_2_25%, Nuc_AreaShape_CentralMoment_0_2_50%, Nuc_AreaShape_CentralMoment_0_2_75%, Nuc_AreaShape_CentralMoment_0_2_max, Nuc_AreaShape_CentralMoment_0_3_count, Nuc_AreaShape_CentralMoment_0_3_mean, Nuc_AreaShape_CentralMoment_0_3_std, Nuc_AreaShape_CentralMoment_0_3_min, ...]\n",
       "Index: []\n",
       "\n",
       "[0 rows x 6392 columns]"
      ]
     },
     "execution_count": 4,
     "metadata": {},
     "output_type": "execute_result"
    }
   ],
   "source": [
    "print(datetime.datetime.now())\n",
    "PREFIX='abc_'\n",
    "def set_prefix(prefix):\n",
    "    global PREFIX\n",
    "    PREFIX=prefix\n",
    "def get_prefix(col_name):\n",
    "    global PREFIX\n",
    "    return PREFIX+col_name  # hard coded for now\n",
    "def load_all_classes():\n",
    "    X = None\n",
    "    y = None\n",
    "    for i in CLASSES:\n",
    "        print(datetime.datetime.now())\n",
    "        print(\"Process class\",i)\n",
    "        FULL_PATH=BASE_DIR+'Output'+str(i)+'/'\n",
    "        cp = CP_Util(FULL_PATH)\n",
    "        cp.train_test_split()\n",
    "        Xnuc = cp.get_nucleus_rollup(NUCLEUS_FILES[i])\n",
    "        print('Xnuc size',Xnuc.shape)\n",
    "        set_prefix('Nuc_')\n",
    "        Xnuc.rename(get_prefix,axis='columns',inplace=True)\n",
    "        Xrbc = cp.get_RBC_rollup(RBC_FILES[i])\n",
    "        print('Xrbc size',Xrbc.shape)\n",
    "        set_prefix('Rbc_')\n",
    "        Xrbc.rename(get_prefix,axis='columns',inplace=True)\n",
    "        Xi = Xnuc.join(Xrbc,how='outer')\n",
    "        size = len(Xi)\n",
    "        yi = np.ones(size) * i   # e.g. class 3\n",
    "        if X is None:\n",
    "            X = Xi\n",
    "            y = yi\n",
    "        else:\n",
    "            X = pd.concat( (X,Xi) )\n",
    "            y = np.concatenate( (y,yi) )\n",
    "    X.fillna(0,inplace=True)  \n",
    "    return X,y\n",
    "Xtrain,ytrain=load_all_classes()\n",
    "Xtrain"
   ]
  },
  {
   "cell_type": "code",
   "execution_count": 5,
   "metadata": {},
   "outputs": [
    {
     "name": "stdout",
     "output_type": "stream",
     "text": [
      "2022-06-09 09:17:21.423094\n",
      "Shuffle...\n"
     ]
    }
   ],
   "source": [
    "print(datetime.datetime.now())\n",
    "print(\"Shuffle...\")\n",
    "# Shuffle (happens automatically with cross validation but not with fit())\n",
    "Xtrain,ytrain=shuffle(Xtrain,ytrain)  #set random_state for reproducibility"
   ]
  },
  {
   "cell_type": "code",
   "execution_count": 6,
   "metadata": {},
   "outputs": [
    {
     "name": "stdout",
     "output_type": "stream",
     "text": [
      "2022-06-09 09:17:21.426930\n",
      "Train on full training set...\n"
     ]
    },
    {
     "ename": "ValueError",
     "evalue": "Found array with 0 sample(s) (shape=(0, 6392)) while a minimum of 1 is required.",
     "output_type": "error",
     "traceback": [
      "\u001b[0;31m---------------------------------------------------------------------------\u001b[0m",
      "\u001b[0;31mValueError\u001b[0m                                Traceback (most recent call last)",
      "\u001b[0;32m<ipython-input-6-7ccf0b1f4219>\u001b[0m in \u001b[0;36m<module>\u001b[0;34m\u001b[0m\n\u001b[1;32m      3\u001b[0m \u001b[0mrf3\u001b[0m \u001b[0;34m=\u001b[0m \u001b[0mRF_Util\u001b[0m\u001b[0;34m(\u001b[0m\u001b[0;34m)\u001b[0m\u001b[0;34m\u001b[0m\u001b[0;34m\u001b[0m\u001b[0m\n\u001b[1;32m      4\u001b[0m \u001b[0mrf3\u001b[0m\u001b[0;34m.\u001b[0m\u001b[0mset_train\u001b[0m\u001b[0;34m(\u001b[0m\u001b[0mXtrain\u001b[0m\u001b[0;34m,\u001b[0m\u001b[0mytrain\u001b[0m\u001b[0;34m)\u001b[0m\u001b[0;34m\u001b[0m\u001b[0;34m\u001b[0m\u001b[0m\n\u001b[0;32m----> 5\u001b[0;31m \u001b[0mrf3\u001b[0m\u001b[0;34m.\u001b[0m\u001b[0mfit\u001b[0m\u001b[0;34m(\u001b[0m\u001b[0;34m)\u001b[0m\u001b[0;34m\u001b[0m\u001b[0;34m\u001b[0m\u001b[0m\n\u001b[0m\u001b[1;32m      6\u001b[0m \u001b[0mprint\u001b[0m\u001b[0;34m(\u001b[0m\u001b[0mdatetime\u001b[0m\u001b[0;34m.\u001b[0m\u001b[0mdatetime\u001b[0m\u001b[0;34m.\u001b[0m\u001b[0mnow\u001b[0m\u001b[0;34m(\u001b[0m\u001b[0;34m)\u001b[0m\u001b[0;34m)\u001b[0m\u001b[0;34m\u001b[0m\u001b[0;34m\u001b[0m\u001b[0m\n\u001b[1;32m      7\u001b[0m \u001b[0mprint\u001b[0m\u001b[0;34m(\u001b[0m\u001b[0;34m'...and rank the features by importance.'\u001b[0m\u001b[0;34m)\u001b[0m\u001b[0;34m\u001b[0m\u001b[0;34m\u001b[0m\u001b[0m\n",
      "\u001b[0;32m~/ShepherdML/TumorII/RandomForestUtil.py\u001b[0m in \u001b[0;36mfit\u001b[0;34m(self)\u001b[0m\n\u001b[1;32m     17\u001b[0m     \u001b[0;32mdef\u001b[0m \u001b[0mfit\u001b[0m\u001b[0;34m(\u001b[0m\u001b[0mself\u001b[0m\u001b[0;34m)\u001b[0m\u001b[0;34m:\u001b[0m\u001b[0;34m\u001b[0m\u001b[0;34m\u001b[0m\u001b[0m\n\u001b[1;32m     18\u001b[0m         \u001b[0mself\u001b[0m\u001b[0;34m.\u001b[0m\u001b[0mmodel\u001b[0m\u001b[0;34m=\u001b[0m\u001b[0mRandomForestClassifier\u001b[0m\u001b[0;34m(\u001b[0m\u001b[0;34m)\u001b[0m\u001b[0;34m\u001b[0m\u001b[0;34m\u001b[0m\u001b[0m\n\u001b[0;32m---> 19\u001b[0;31m         \u001b[0mself\u001b[0m\u001b[0;34m.\u001b[0m\u001b[0mmodel\u001b[0m\u001b[0;34m.\u001b[0m\u001b[0mfit\u001b[0m\u001b[0;34m(\u001b[0m\u001b[0mself\u001b[0m\u001b[0;34m.\u001b[0m\u001b[0mXtr\u001b[0m\u001b[0;34m,\u001b[0m\u001b[0mself\u001b[0m\u001b[0;34m.\u001b[0m\u001b[0mytr\u001b[0m\u001b[0;34m)\u001b[0m\u001b[0;34m\u001b[0m\u001b[0;34m\u001b[0m\u001b[0m\n\u001b[0m\u001b[1;32m     20\u001b[0m     \u001b[0;32mdef\u001b[0m \u001b[0mcross_validation\u001b[0m\u001b[0;34m(\u001b[0m\u001b[0mself\u001b[0m\u001b[0;34m,\u001b[0m\u001b[0mfold\u001b[0m\u001b[0;34m=\u001b[0m\u001b[0;36m5\u001b[0m\u001b[0;34m)\u001b[0m\u001b[0;34m:\u001b[0m   \u001b[0;31m# shuffle required!\u001b[0m\u001b[0;34m\u001b[0m\u001b[0;34m\u001b[0m\u001b[0m\n\u001b[1;32m     21\u001b[0m         \u001b[0mself\u001b[0m\u001b[0;34m.\u001b[0m\u001b[0mmodel\u001b[0m\u001b[0;34m=\u001b[0m\u001b[0mRandomForestClassifier\u001b[0m\u001b[0;34m(\u001b[0m\u001b[0;34m)\u001b[0m\u001b[0;34m\u001b[0m\u001b[0;34m\u001b[0m\u001b[0m\n",
      "\u001b[0;32m~/.local/lib/python3.8/site-packages/sklearn/ensemble/_forest.py\u001b[0m in \u001b[0;36mfit\u001b[0;34m(self, X, y, sample_weight)\u001b[0m\n\u001b[1;32m    325\u001b[0m         \u001b[0;32mif\u001b[0m \u001b[0missparse\u001b[0m\u001b[0;34m(\u001b[0m\u001b[0my\u001b[0m\u001b[0;34m)\u001b[0m\u001b[0;34m:\u001b[0m\u001b[0;34m\u001b[0m\u001b[0;34m\u001b[0m\u001b[0m\n\u001b[1;32m    326\u001b[0m             \u001b[0;32mraise\u001b[0m \u001b[0mValueError\u001b[0m\u001b[0;34m(\u001b[0m\u001b[0;34m\"sparse multilabel-indicator for y is not supported.\"\u001b[0m\u001b[0;34m)\u001b[0m\u001b[0;34m\u001b[0m\u001b[0;34m\u001b[0m\u001b[0m\n\u001b[0;32m--> 327\u001b[0;31m         X, y = self._validate_data(\n\u001b[0m\u001b[1;32m    328\u001b[0m             \u001b[0mX\u001b[0m\u001b[0;34m,\u001b[0m \u001b[0my\u001b[0m\u001b[0;34m,\u001b[0m \u001b[0mmulti_output\u001b[0m\u001b[0;34m=\u001b[0m\u001b[0;32mTrue\u001b[0m\u001b[0;34m,\u001b[0m \u001b[0maccept_sparse\u001b[0m\u001b[0;34m=\u001b[0m\u001b[0;34m\"csc\"\u001b[0m\u001b[0;34m,\u001b[0m \u001b[0mdtype\u001b[0m\u001b[0;34m=\u001b[0m\u001b[0mDTYPE\u001b[0m\u001b[0;34m\u001b[0m\u001b[0;34m\u001b[0m\u001b[0m\n\u001b[1;32m    329\u001b[0m         )\n",
      "\u001b[0;32m~/.local/lib/python3.8/site-packages/sklearn/base.py\u001b[0m in \u001b[0;36m_validate_data\u001b[0;34m(self, X, y, reset, validate_separately, **check_params)\u001b[0m\n\u001b[1;32m    579\u001b[0m                 \u001b[0my\u001b[0m \u001b[0;34m=\u001b[0m \u001b[0mcheck_array\u001b[0m\u001b[0;34m(\u001b[0m\u001b[0my\u001b[0m\u001b[0;34m,\u001b[0m \u001b[0;34m**\u001b[0m\u001b[0mcheck_y_params\u001b[0m\u001b[0;34m)\u001b[0m\u001b[0;34m\u001b[0m\u001b[0;34m\u001b[0m\u001b[0m\n\u001b[1;32m    580\u001b[0m             \u001b[0;32melse\u001b[0m\u001b[0;34m:\u001b[0m\u001b[0;34m\u001b[0m\u001b[0;34m\u001b[0m\u001b[0m\n\u001b[0;32m--> 581\u001b[0;31m                 \u001b[0mX\u001b[0m\u001b[0;34m,\u001b[0m \u001b[0my\u001b[0m \u001b[0;34m=\u001b[0m \u001b[0mcheck_X_y\u001b[0m\u001b[0;34m(\u001b[0m\u001b[0mX\u001b[0m\u001b[0;34m,\u001b[0m \u001b[0my\u001b[0m\u001b[0;34m,\u001b[0m \u001b[0;34m**\u001b[0m\u001b[0mcheck_params\u001b[0m\u001b[0;34m)\u001b[0m\u001b[0;34m\u001b[0m\u001b[0;34m\u001b[0m\u001b[0m\n\u001b[0m\u001b[1;32m    582\u001b[0m             \u001b[0mout\u001b[0m \u001b[0;34m=\u001b[0m \u001b[0mX\u001b[0m\u001b[0;34m,\u001b[0m \u001b[0my\u001b[0m\u001b[0;34m\u001b[0m\u001b[0;34m\u001b[0m\u001b[0m\n\u001b[1;32m    583\u001b[0m \u001b[0;34m\u001b[0m\u001b[0m\n",
      "\u001b[0;32m~/.local/lib/python3.8/site-packages/sklearn/utils/validation.py\u001b[0m in \u001b[0;36mcheck_X_y\u001b[0;34m(X, y, accept_sparse, accept_large_sparse, dtype, order, copy, force_all_finite, ensure_2d, allow_nd, multi_output, ensure_min_samples, ensure_min_features, y_numeric, estimator)\u001b[0m\n\u001b[1;32m    962\u001b[0m         \u001b[0;32mraise\u001b[0m \u001b[0mValueError\u001b[0m\u001b[0;34m(\u001b[0m\u001b[0;34m\"y cannot be None\"\u001b[0m\u001b[0;34m)\u001b[0m\u001b[0;34m\u001b[0m\u001b[0;34m\u001b[0m\u001b[0m\n\u001b[1;32m    963\u001b[0m \u001b[0;34m\u001b[0m\u001b[0m\n\u001b[0;32m--> 964\u001b[0;31m     X = check_array(\n\u001b[0m\u001b[1;32m    965\u001b[0m         \u001b[0mX\u001b[0m\u001b[0;34m,\u001b[0m\u001b[0;34m\u001b[0m\u001b[0;34m\u001b[0m\u001b[0m\n\u001b[1;32m    966\u001b[0m         \u001b[0maccept_sparse\u001b[0m\u001b[0;34m=\u001b[0m\u001b[0maccept_sparse\u001b[0m\u001b[0;34m,\u001b[0m\u001b[0;34m\u001b[0m\u001b[0;34m\u001b[0m\u001b[0m\n",
      "\u001b[0;32m~/.local/lib/python3.8/site-packages/sklearn/utils/validation.py\u001b[0m in \u001b[0;36mcheck_array\u001b[0;34m(array, accept_sparse, accept_large_sparse, dtype, order, copy, force_all_finite, ensure_2d, allow_nd, ensure_min_samples, ensure_min_features, estimator)\u001b[0m\n\u001b[1;32m    803\u001b[0m         \u001b[0mn_samples\u001b[0m \u001b[0;34m=\u001b[0m \u001b[0m_num_samples\u001b[0m\u001b[0;34m(\u001b[0m\u001b[0marray\u001b[0m\u001b[0;34m)\u001b[0m\u001b[0;34m\u001b[0m\u001b[0;34m\u001b[0m\u001b[0m\n\u001b[1;32m    804\u001b[0m         \u001b[0;32mif\u001b[0m \u001b[0mn_samples\u001b[0m \u001b[0;34m<\u001b[0m \u001b[0mensure_min_samples\u001b[0m\u001b[0;34m:\u001b[0m\u001b[0;34m\u001b[0m\u001b[0;34m\u001b[0m\u001b[0m\n\u001b[0;32m--> 805\u001b[0;31m             raise ValueError(\n\u001b[0m\u001b[1;32m    806\u001b[0m                 \u001b[0;34m\"Found array with %d sample(s) (shape=%s) while a\"\u001b[0m\u001b[0;34m\u001b[0m\u001b[0;34m\u001b[0m\u001b[0m\n\u001b[1;32m    807\u001b[0m                 \u001b[0;34m\" minimum of %d is required%s.\"\u001b[0m\u001b[0;34m\u001b[0m\u001b[0;34m\u001b[0m\u001b[0m\n",
      "\u001b[0;31mValueError\u001b[0m: Found array with 0 sample(s) (shape=(0, 6392)) while a minimum of 1 is required."
     ]
    }
   ],
   "source": [
    "print(datetime.datetime.now())\n",
    "print('Train on full training set...')\n",
    "rf3 = RF_Util()\n",
    "rf3.set_train(Xtrain,ytrain)\n",
    "rf3.fit()\n",
    "print(datetime.datetime.now())\n",
    "print('...and rank the features by importance.')\n",
    "top = rf3.important_features()"
   ]
  },
  {
   "cell_type": "code",
   "execution_count": null,
   "metadata": {},
   "outputs": [],
   "source": [
    "pd.set_option('display.max_rows', None)\n",
    "top.loc[:100]"
   ]
  },
  {
   "cell_type": "code",
   "execution_count": null,
   "metadata": {},
   "outputs": [],
   "source": [
    "print(datetime.datetime.now())\n",
    "joblib.dump(rf3.get_model(),MODELS_DIR)"
   ]
  },
  {
   "cell_type": "code",
   "execution_count": null,
   "metadata": {},
   "outputs": [],
   "source": []
  }
 ],
 "metadata": {
  "kernelspec": {
   "display_name": "Python 3",
   "language": "python",
   "name": "python3"
  },
  "language_info": {
   "codemirror_mode": {
    "name": "ipython",
    "version": 3
   },
   "file_extension": ".py",
   "mimetype": "text/x-python",
   "name": "python",
   "nbconvert_exporter": "python",
   "pygments_lexer": "ipython3",
   "version": "3.8.10"
  }
 },
 "nbformat": 4,
 "nbformat_minor": 4
}
