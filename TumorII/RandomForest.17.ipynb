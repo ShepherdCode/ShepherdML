{
 "cells": [
  {
   "cell_type": "markdown",
   "metadata": {},
   "source": [
    "# Random Forest\n",
    "Train on 6-class cancer classification.  \n",
    "Input is the nucleus+RBC rollup, training set only.  \n",
    "Train on the full training set (no validation).  \n",
    "Rank feature importance."
   ]
  },
  {
   "cell_type": "code",
   "execution_count": 1,
   "metadata": {},
   "outputs": [
    {
     "name": "stdout",
     "output_type": "stream",
     "text": [
      "2022-06-09 14:28:21.921367\n",
      "Python 3.8.10\n",
      "sklearn 1.0.2\n"
     ]
    },
    {
     "data": {
      "text/plain": [
       "[]"
      ]
     },
     "execution_count": 1,
     "metadata": {},
     "output_type": "execute_result"
    }
   ],
   "source": [
    "import datetime\n",
    "print(datetime.datetime.now())\n",
    "from platform import python_version\n",
    "print('Python',python_version())\n",
    "import numpy as np\n",
    "import pandas as pd\n",
    "import sklearn   # pip install --upgrade scikit-learn\n",
    "print('sklearn',sklearn.__version__)\n",
    "import tensorflow as tf\n",
    "tf.config.list_physical_devices('GPU')"
   ]
  },
  {
   "cell_type": "code",
   "execution_count": 2,
   "metadata": {},
   "outputs": [],
   "source": [
    "from sklearn.model_selection import cross_val_score\n",
    "from sklearn.model_selection import RepeatedStratifiedKFold\n",
    "from sklearn.ensemble import RandomForestClassifier\n",
    "from sklearn.model_selection import train_test_split\n",
    "from sklearn.metrics import confusion_matrix\n",
    "from sklearn.utils import shuffle\n",
    "from sklearn.feature_selection import RFE\n",
    "import joblib # used to dump/load sklearn models\n",
    "from CellProfiler_Util import CP_Util\n",
    "from RandomForestUtil import RF_Util"
   ]
  },
  {
   "cell_type": "code",
   "execution_count": 3,
   "metadata": {},
   "outputs": [],
   "source": [
    "BASE_DIR='/home/jrm/Adjeroh/Naved/CP_80K/'  # append Output0/ etc\n",
    "CLASSES=range(0,6)  # use all 6 classes\n",
    "#CLASSES=[5]  # JUST FOR TESTING\n",
    "MODELS_DIR='/home/jrm/Adjeroh/Naved/CP_80K/models/RandomForest.17'"
   ]
  },
  {
   "cell_type": "code",
   "execution_count": null,
   "metadata": {},
   "outputs": [
    {
     "name": "stdout",
     "output_type": "stream",
     "text": [
      "2022-06-09 14:28:24.179475\n",
      "2022-06-09 14:28:24.179668\n",
      "Process class 0\n",
      "Num tumors in test/train sets: 23 94\n",
      "Num patches in test/train sets: 8803 36163\n",
      "2022-06-09 14:29:02.222411\n",
      "Process class 1\n",
      "Num tumors in test/train sets: 7 26\n",
      "Num patches in test/train sets: 2734 10168\n",
      "2022-06-09 14:29:15.207578\n",
      "Process class 2\n",
      "Num tumors in test/train sets: 7 30\n",
      "Num patches in test/train sets: 2769 11181\n",
      "2022-06-09 14:29:34.795910\n",
      "Process class 3\n",
      "Num tumors in test/train sets: 3 14\n",
      "Num patches in test/train sets: 1091 5273\n",
      "2022-06-09 14:29:45.382116\n",
      "Process class 4\n",
      "Num tumors in test/train sets: 2 6\n",
      "Num patches in test/train sets: 813 2384\n",
      "2022-06-09 14:29:53.088548\n",
      "Process class 5\n",
      "Num tumors in test/train sets: 1 3\n",
      "Num patches in test/train sets: 396 1195\n"
     ]
    }
   ],
   "source": [
    "print(datetime.datetime.now())\n",
    "PREFIX='abc_'\n",
    "def set_prefix(prefix):\n",
    "    global PREFIX\n",
    "    PREFIX=prefix\n",
    "def get_prefix(col_name):\n",
    "    global PREFIX\n",
    "    return PREFIX+col_name  # hard coded for now\n",
    "def load_all_classes():\n",
    "    X = None\n",
    "    y = None\n",
    "    for i in CLASSES:\n",
    "        print(datetime.datetime.now())\n",
    "        print(\"Process class\",i)\n",
    "        FULL_PATH=BASE_DIR+'Output'+str(i)+'/'\n",
    "        cp = CP_Util(FULL_PATH)\n",
    "        cp.train_test_split()\n",
    "        Xnuc = cp.get_nucleus_rollup()\n",
    "        set_prefix('Nuc_')\n",
    "        Xnuc.rename(get_prefix,axis='columns',inplace=True)\n",
    "        Xrbc = cp.get_RBC_rollup()\n",
    "        set_prefix('Rbc_')\n",
    "        Xrbc.rename(get_prefix,axis='columns',inplace=True)\n",
    "        Xi = Xnuc.join(Xrbc,how='outer')\n",
    "        size = len(Xi)\n",
    "        yi = np.ones(size) * i   # e.g. class 3\n",
    "        if X is None:\n",
    "            X = Xi\n",
    "            y = yi\n",
    "        else:\n",
    "            X = pd.concat( (X,Xi) )\n",
    "            y = np.concatenate( (y,yi) )\n",
    "    X.fillna(0,inplace=True)  \n",
    "    return X,y\n",
    "Xtrain,ytrain=load_all_classes()\n",
    "Xtrain"
   ]
  },
  {
   "cell_type": "code",
   "execution_count": null,
   "metadata": {},
   "outputs": [],
   "source": [
    "print(datetime.datetime.now())\n",
    "print(\"Shuffle...\")\n",
    "Xtrain,ytrain=shuffle(Xtrain,ytrain)  #set random_state for reproducibility"
   ]
  },
  {
   "cell_type": "code",
   "execution_count": null,
   "metadata": {},
   "outputs": [],
   "source": [
    "print(datetime.datetime.now())\n",
    "print('Train on full training set...')\n",
    "rf3 = RF_Util()\n",
    "rf3.set_train(Xtrain,ytrain)\n",
    "rf3.fit()\n",
    "print(datetime.datetime.now())\n",
    "print('...and rank the features by importance.')\n",
    "top = rf3.important_features()"
   ]
  },
  {
   "cell_type": "code",
   "execution_count": null,
   "metadata": {},
   "outputs": [],
   "source": [
    "pd.set_option('display.max_rows', None)\n",
    "top.loc[:100]"
   ]
  },
  {
   "cell_type": "code",
   "execution_count": null,
   "metadata": {},
   "outputs": [],
   "source": [
    "print(datetime.datetime.now())\n",
    "joblib.dump(rf3.get_model(),MODELS_DIR)"
   ]
  },
  {
   "cell_type": "code",
   "execution_count": null,
   "metadata": {},
   "outputs": [],
   "source": []
  }
 ],
 "metadata": {
  "kernelspec": {
   "display_name": "Python 3",
   "language": "python",
   "name": "python3"
  },
  "language_info": {
   "codemirror_mode": {
    "name": "ipython",
    "version": 3
   },
   "file_extension": ".py",
   "mimetype": "text/x-python",
   "name": "python",
   "nbconvert_exporter": "python",
   "pygments_lexer": "ipython3",
   "version": "3.8.10"
  }
 },
 "nbformat": 4,
 "nbformat_minor": 4
}
