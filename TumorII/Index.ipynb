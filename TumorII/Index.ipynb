{
 "cells": [
  {
   "cell_type": "markdown",
   "metadata": {},
   "source": [
    "# Index\n",
    "Description of this directory."
   ]
  },
  {
   "cell_type": "markdown",
   "metadata": {},
   "source": [
    "May 2022 collaboration on the glioma dataset.\n",
    "We classified images at the patch level following Hou et al 2016.\n",
    "We used a CNN+Attention as well as CellProfiler+RandomForest.\n",
    "We subsequently discovered some data problems that force a restart.\n",
    "\n",
    "1. CellProfiler was tuned and run on the test set.  \n",
    "1. At least 5 WSI were missing from the 83K test set.  \n",
    "1. We had used 40X images whereas Hou et al used 20X.  "
   ]
  },
  {
   "cell_type": "markdown",
   "metadata": {},
   "source": [
    "## Attention 1-5\n",
    "We analyzed cancer classes 1-5. We did not have data for class 0.\n",
    "Our CellProfiler pipeline was called Process100.\n",
    "We ran Process100 on the 83K test set.\n",
    "This generated nucleus bounding boxes, among other stats.\n",
    "Attention heatmaps were generated running the CNN on the 83K test set.\n",
    "Attention was expressed as a percentage per pixel (\"temperature\").\n",
    "We extracted the average temperature per nucleus bounding box.\n",
    "We put temperature in five equal-probabilty bins.\n",
    "Tackling each cancer class separately,\n",
    "we trained a RF to predict the temperature per nucleus\n",
    "given only the CP features per nucleus.\n",
    "Accuracy was about 94% in each class.\n",
    "\n",
    "Interpretations. \n",
    "This shows that the nucleus stats, as captured by CP,\n",
    "contain enough information to recapitulate the CNN attention.\n",
    "This does not prove the CNN focused attention on the nuclei.\n",
    "It is unclear why most (9 of top 10) important features\n",
    "for the RF had to do with nucleus pixel coords within the patch;\n",
    "elsewhere we demonstrated no correlation between CNN attention\n",
    "and distance of the nucleus from the patch center.\n",
    "\n",
    "Future work:\n",
    "Redo the analysis for all classes, not per-class. \n",
    "Differentiate nuclei by whether their patch was correctly classified by the CNN. \n",
    "Rerun without the nucleus pixel coords, and with just the pixel coords."
   ]
  },
  {
   "cell_type": "markdown",
   "metadata": {},
   "source": [
    "## Attention.HalfRoll 1-5\n",
    "This is a data preparation step only. \n",
    "As in Attention.1, we used average temperature per nucleus.\n",
    "We wonder whether the HOT nuclei (those with high CNN attention)\n",
    "are better predictors of cancer class than COLD nuclei.\n",
    "Operating on each class separately, we generate \n",
    "statistical rollups of HOT nuclei per patch, and\n",
    "statistical rollups of COLD nuclei per patch.\n",
    "Note we already have \n",
    "statistical rollups of ALL nuclei per patch.\n",
    "\n",
    "\n",
    "\n"
   ]
  },
  {
   "cell_type": "markdown",
   "metadata": {},
   "source": [
    "## Attention.Position.Correlation\n",
    "Previously, we showed a RF could predict CNN attention per nucleus\n",
    "with over 90% accuracy.\n",
    "We were confused why most (9 of top 10) important features,\n",
    "as ranked by the RF, had to do with nucleus location \n",
    "relative to the patch.\n",
    "We speculated that attention prefers the center or the edges\n",
    "of patches.\n",
    "Here, we tested whether attention correlates to nucleus distance from the center of the patch.\n",
    "There was zero correlation, leaving us with no explantion."
   ]
  },
  {
   "cell_type": "markdown",
   "metadata": {},
   "source": [
    "## Deciles\n",
    "Look at distribution of nuclei per patch.\n",
    "Nuclei were detected by CP.\n",
    "Are there eoungh nuclei to support patch statistics\n",
    "at the level of deciles (as opposed to, say, quartiles)?"
   ]
  },
  {
   "cell_type": "markdown",
   "metadata": {},
   "source": [
    "## PatchNumbersUsedToTuneCellProfiler\n",
    "A small number of patches were used to tune CellProfiler\n",
    "parameters while building the Process100 pipeline.\n",
    "Unfortunately, it turned out 4 were from our train set\n",
    "and 4 were from our test set.\n",
    "These patches should be excluded from validation and test statistics."
   ]
  },
  {
   "cell_type": "markdown",
   "metadata": {},
   "source": [
    "## RandomForest 20, 21, 22 \n",
    "We tested whether HOT nuclei are better predictors\n",
    "of cancer class than COLD nuclei.\n",
    "This test indicated: no.\n",
    "\n",
    "The HOT and COLD are based on the CNN attention heatmap.\n",
    "A RF classifier was trained and evaluated by cross-validation.\n",
    "Each used a quartile summary of nuclei per patch. \n",
    "Each has the same number of patches and features but the statistics \n",
    "like median nucleus size are based on different nuclei.\n",
    "The HOT run used only high-attention nuclei \n",
    "(average temperature >= 50% within the nucleus bounding box.\n",
    "The three notebooks used ALL, HOT, COLD respectively.\n",
    "If HOT>COLD, it would say attention guides us to important nuclei.\n",
    "If HOT>ALL, it would say attention guided us to nuclei so important\n",
    "that using this half of the data is better than using all the data.\n",
    "This notebook used classes 1-5 because\n",
    "we didn't have attention results for class 0.\n",
    "\n",
    "The results were HOT==COLD and HOT<ALL. \n",
    "This indicates the high-attention nuclei are not better\n",
    "predictors than the low-attention nuclei.\n",
    "We are confused how to reconcile this with other results."
   ]
  },
  {
   "cell_type": "markdown",
   "metadata": {},
   "source": [
    "## RandomForest 30, 31, 32, 33\n",
    "So far, we used sklearn RandomForestClassifier with default parameters.\n",
    "Should we try altering parameters?\n",
    "These few tests indicated: no."
   ]
  },
  {
   "cell_type": "markdown",
   "metadata": {},
   "source": [
    "## RBC.Counts\n",
    "We counted the RBC per class.\n",
    "Some classes have more RBC than others.\n",
    "Red blood cells tend to lie above and below the tissue plane\n",
    "of the WSI.\n",
    "We suspect high-RBC complicates patch classification\n",
    "by obfuscating the nuclei during CellProfiler nucleus detection.\n",
    "This suggests we should filter high-RBC patches\n",
    "when making WSI-level predictions."
   ]
  },
  {
   "cell_type": "markdown",
   "metadata": {},
   "source": [
    "## WSI Stats\n",
    "We only started thinking about aggregation\n",
    "of patch-level predictions to the WSI level."
   ]
  },
  {
   "cell_type": "code",
   "execution_count": null,
   "metadata": {},
   "outputs": [],
   "source": []
  }
 ],
 "metadata": {
  "kernelspec": {
   "display_name": "Python 3",
   "language": "python",
   "name": "python3"
  },
  "language_info": {
   "codemirror_mode": {
    "name": "ipython",
    "version": 3
   },
   "file_extension": ".py",
   "mimetype": "text/x-python",
   "name": "python",
   "nbconvert_exporter": "python",
   "pygments_lexer": "ipython3",
   "version": "3.8.10"
  }
 },
 "nbformat": 4,
 "nbformat_minor": 4
}
