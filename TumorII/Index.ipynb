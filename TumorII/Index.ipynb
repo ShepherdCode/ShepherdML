{
 "cells": [
  {
   "cell_type": "markdown",
   "metadata": {},
   "source": [
    "# Index\n",
    "Description of this directory."
   ]
  },
  {
   "cell_type": "markdown",
   "metadata": {},
   "source": [
    "May 2022 collaboration on the glioma dataset.\n",
    "We classified images at the patch level following Hou et al 2016.\n",
    "We used a CNN+Attention as well as CellProfiler+RandomForest.\n",
    "We subsequently discovered some data problems that force a restart.\n",
    "\n",
    "1. CellProfiler was tuned and run on the test set.  \n",
    "1. At least 5 WSI were missing from the 83K test set.  \n",
    "1. We had used 40X images whereas Hou et al used 20X.  "
   ]
  },
  {
   "cell_type": "markdown",
   "metadata": {},
   "source": [
    "## Attention 1-5\n",
    "We analyzed cancer classes 1-5. We did not have data for class 0.\n",
    "Our CellProfiler pipeline was called Process100.\n",
    "We ran Process100 on the 83K test set.\n",
    "This generated nucleus bounding boxes, among other stats.\n",
    "Attention heatmaps were generated running the CNN on the 83K test set.\n",
    "Attention was expressed as a percentage per pixel (\"temperature\").\n",
    "We extracted the average temperature per nucleus bounding box.\n",
    "We put temperature in five equal-probabilty bins.\n",
    "Tackling each cancer class separately,\n",
    "we trained a RF to predict the temperature per nucleus\n",
    "given only the CP features per nucleus.\n",
    "Accuracy was about 94% in each class.\n",
    "\n",
    "Interpretations. \n",
    "This shows that the nucleus stats, as captured by CP,\n",
    "contain enough information to recapitulate the CNN attention.\n",
    "This does not prove the CNN focused attention on the nuclei.\n",
    "It is unclear why most (9 of top 10) important features\n",
    "for the RF had to do with nucleus pixel coords within the patch;\n",
    "elsewhere we demonstrated no correlation between CNN attention\n",
    "and distance of the nucleus from the patch center.\n",
    "\n",
    "Future work:\n",
    "Redo the analysis for all classes, not per-class. \n",
    "Differentiate nuclei by whether their patch was correctly classified by the CNN. \n",
    "Rerun without the nucleus pixel coords, and with just the pixel coords."
   ]
  },
  {
   "cell_type": "code",
   "execution_count": null,
   "metadata": {},
   "outputs": [],
   "source": []
  }
 ],
 "metadata": {
  "kernelspec": {
   "display_name": "Python 3",
   "language": "python",
   "name": "python3"
  },
  "language_info": {
   "codemirror_mode": {
    "name": "ipython",
    "version": 3
   },
   "file_extension": ".py",
   "mimetype": "text/x-python",
   "name": "python",
   "nbconvert_exporter": "python",
   "pygments_lexer": "ipython3",
   "version": "3.8.10"
  }
 },
 "nbformat": 4,
 "nbformat_minor": 4
}
