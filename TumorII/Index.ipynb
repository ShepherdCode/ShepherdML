{
 "cells": [
  {
   "cell_type": "markdown",
   "metadata": {},
   "source": [
    "# Index\n",
    "Description of this directory."
   ]
  },
  {
   "cell_type": "markdown",
   "metadata": {},
   "source": [
    "May 2022 collaboration on the glioma dataset.\n",
    "We classified images at the patch level following Hou et al 2016.\n",
    "We used a CNN+Attention as well as CellProfiler+RandomForest.\n",
    "We subsequently discovered some data problems that force a restart.\n",
    "\n",
    "1. CellProfiler was tuned and run on the test set.  \n",
    "1. At least 5 WSI were missing from the 83K test set.  \n",
    "1. We had used 40X images whereas Hou et al used 20X.  "
   ]
  },
  {
   "cell_type": "markdown",
   "metadata": {},
   "source": [
    "## Attention 1-5\n",
    "We analyzed cancer classes 1-5. We did not have data for class 0.\n",
    "Our CellProfiler pipeline was called Process100.\n",
    "We ran Process100 on the 83K test set.\n",
    "This generated nucleus bounding boxes, among other stats.\n",
    "Attention heatmaps were generated running the CNN on the 83K test set.\n",
    "Attention was expressed as a percentage per pixel (\"temperature\").\n",
    "We extracted the average temperature per nucleus bounding box.\n",
    "We put temperature in five equal-probabilty bins.\n",
    "Tackling each cancer class separately,\n",
    "we trained a RF to predict the temperature per nucleus\n",
    "given only the CP features per nucleus.\n",
    "Accuracy was about 94% in each class.\n",
    "\n",
    "Interpretations. \n",
    "This shows that the nucleus stats, as captured by CP,\n",
    "contain enough information to recapitulate the CNN attention.\n",
    "This does not prove the CNN focused attention on the nuclei.\n",
    "It is unclear why most (9 of top 10) important features\n",
    "for the RF had to do with nucleus pixel coords within the patch;\n",
    "elsewhere we demonstrated no correlation between CNN attention\n",
    "and distance of the nucleus from the patch center.\n",
    "\n",
    "Future work:\n",
    "Redo the analysis for all classes, not per-class. \n",
    "Differentiate nuclei by whether their patch was correctly classified by the CNN. \n",
    "Rerun without the nucleus pixel coords, and with just the pixel coords."
   ]
  },
  {
   "cell_type": "markdown",
   "metadata": {},
   "source": [
    "## Attention.HalfRoll 1-5\n",
    "As in Attention.1, we used average temperature per nucleus.\n",
    "We wonder whether the \"hot\" nuclei (those with high CNN attention)\n",
    "are better predictors of cancer class than \"cold\" nuclei.\n",
    "Operating on each class separately, we generate \n",
    "statistical rollups of HOT nuclei per patch, and\n",
    "statistical rollups of COLD nuclei per patch.\n",
    "Note we already have \n",
    "statistical rollups of ALL nuclei per patch.\n",
    "\n",
    "\n",
    "\n"
   ]
  },
  {
   "cell_type": "markdown",
   "metadata": {},
   "source": [
    "## Attention.Position.Correlation\n",
    "Previously, we showed a RF could predict CNN attention per nucleus\n",
    "with over 90% accuracy.\n",
    "We were confused why most (9 of top 10) important features,\n",
    "as ranked by the RF, had to do with nucleus location \n",
    "relative to the patch.\n",
    "We speculated that attention prefers the center or the edges\n",
    "of patches.\n",
    "Here, we tested whether attention correlates to nucleus distance from the center of the patch.\n",
    "There was zero correlation, leaving us with no explantion."
   ]
  },
  {
   "cell_type": "markdown",
   "metadata": {},
   "source": [
    "## RBC.Counts\n",
    "We counted the RBC per class.\n",
    "Some classes have more RBC than others.\n",
    "Red blood cells tend to lie above and below the tissue plane\n",
    "of the WSI.\n",
    "We suspect high-RBC complicates patch classification\n",
    "by obfuscating the nuclei during CellProfiler nucleus detection.\n",
    "This suggests we should filter high-RBC patches\n",
    "when making WSI-level predictions."
   ]
  },
  {
   "cell_type": "code",
   "execution_count": null,
   "metadata": {},
   "outputs": [],
   "source": []
  }
 ],
 "metadata": {
  "kernelspec": {
   "display_name": "Python 3",
   "language": "python",
   "name": "python3"
  },
  "language_info": {
   "codemirror_mode": {
    "name": "ipython",
    "version": 3
   },
   "file_extension": ".py",
   "mimetype": "text/x-python",
   "name": "python",
   "nbconvert_exporter": "python",
   "pygments_lexer": "ipython3",
   "version": "3.8.10"
  }
 },
 "nbformat": 4,
 "nbformat_minor": 4
}
