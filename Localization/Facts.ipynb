{
 "cells": [
  {
   "cell_type": "markdown",
   "id": "45ad71a7",
   "metadata": {},
   "source": [
    "# Facts"
   ]
  },
  {
   "cell_type": "markdown",
   "id": "acc18230",
   "metadata": {},
   "source": [
    "Downloaded coding RNA: Homo_sapiens.GRCh38.cds.all.fa\n",
    "\n",
    "Fasta to CSV: Homo_sapiens.GRCh38.cds.csv \n",
    "\n",
    "CSV headers: transcript_id,gene_id,biotype,length,sequence\n",
    "\n",
    "CSV rows: 98078 (excluding header)\n",
    "\n",
    "Unique transcript IDs: 98078\n",
    "\n",
    "Unique gene IDs: 22498\n",
    "\n",
    "Unique sequences: 77940"
   ]
  },
  {
   "cell_type": "markdown",
   "id": "c56a9d5a",
   "metadata": {},
   "source": [
    "Download lncATLAS csv from publication supplement.   \n",
    "Contains one row per RNA x cell line.\n",
    "lncATLAS_all_data_RCI.csv.gz"
   ]
  },
  {
   "cell_type": "markdown",
   "id": "a8457db7",
   "metadata": {},
   "source": [
    "## Duplicate transcripts in the GenCode fasta\n",
    "Example:  \n",
    "1. [ENST00000423443.5](https://useast.ensembl.org/Homo_sapiens/Transcript/Exons?db=core;g=ENSG00000231225;r=CHR_HSCHR6_MHC_SSTO_CTG1:31397413-31409057;t=ENST00000423443),[ENSG00000231225](https://useast.ensembl.org/Homo_sapiens/Gene/Summary?db=core;g=ENSG00000231225;r=CHR_HSCHR6_MHC_SSTO_CTG1:31397413-31409057;t=ENST00000423443)  \n",
    "1. [ENST00000420744.5](https://useast.ensembl.org/Homo_sapiens/Transcript/Summary?db=core;g=ENSG00000233051;r=CHR_HSCHR6_MHC_COX_CTG1:31394161-31405805;t=ENST00000420744),[ENSG00000233051](https://useast.ensembl.org/Homo_sapiens/Gene/Summary?db=core;g=ENSG00000233051;r=CHR_HSCHR6_MHC_COX_CTG1:31394161-31405805;t=ENST00000420744)\n",
    "1. [ENST00000421350.1](https://useast.ensembl.org/Homo_sapiens/Transcript/Summary?db=core;g=ENSG00000204520;r=6:31403672-31415315;t=ENST00000421350),[ENSG00000204520](https://useast.ensembl.org/Homo_sapiens/Gene/Summary?db=core;g=ENSG00000204520;r=6:31403672-31415315;t=ENST00000421350)  \n",
    "\n",
    "These three transcripts have exactly the same sequence. Those genes also have other transcripts that are different from these. All three genes are the MHC class I gene called PERB11.1 on chr 6. It appears these genes are represented multiple times to capture variation.\n",
    "\n",
    "The Ensembl [annotation documentation](https://useast.ensembl.org/Homo_sapiens/Info/Annotation) notes that the human genome assembly of this region contains replicates to capture different alleles. \n",
    "\"This release of the assembly has the following properties: contig length total 3.4 Gb, chromosome length total 3.1 Gb (excluding haplotypes).\n",
    "It also includes 261 alt loci scaffolds, mainly in the LRC/KIR complex on chromosome 19 (35 alternate sequence representations) and the MHC region on chromosome 6 (7 alternate sequence representations).\"\n",
    "\n"
   ]
  },
  {
   "cell_type": "code",
   "execution_count": null,
   "id": "468bdd30",
   "metadata": {},
   "outputs": [],
   "source": []
  }
 ],
 "metadata": {
  "kernelspec": {
   "display_name": "Python 3 (ipykernel)",
   "language": "python",
   "name": "python3"
  },
  "language_info": {
   "codemirror_mode": {
    "name": "ipython",
    "version": 3
   },
   "file_extension": ".py",
   "mimetype": "text/x-python",
   "name": "python",
   "nbconvert_exporter": "python",
   "pygments_lexer": "ipython3",
   "version": "3.10.0"
  }
 },
 "nbformat": 4,
 "nbformat_minor": 5
}
