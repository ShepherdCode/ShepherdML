{
 "cells": [
  {
   "cell_type": "markdown",
   "metadata": {
    "id": "PG-tGRnlFLA3"
   },
   "source": [
    "# LSTM\n",
    "Combined cell lines. LSTM 131. Coding 2-3K. \n",
    "\n",
    "Acc 72%, Prec 75%, Recall 91%, F1 82%."
   ]
  },
  {
   "cell_type": "code",
   "execution_count": 30,
   "metadata": {
    "colab": {
     "base_uri": "https://localhost:8080/"
    },
    "id": "0RmwUsVLFLA6",
    "outputId": "45c6ee7b-9e91-485a-fcf5-bba7d9de467a"
   },
   "outputs": [
    {
     "name": "stdout",
     "output_type": "stream",
     "text": [
      "2023-01-17 15:54:36.239515\n",
      "Python 3.8.16\n",
      "sklearn 1.0.2\n"
     ]
    }
   ],
   "source": [
    "from datetime import datetime\n",
    "print(datetime.now())\n",
    "from platform import python_version\n",
    "print('Python',python_version())\n",
    "import numpy as np\n",
    "import pandas as pd\n",
    "from matplotlib import pyplot as plt \n",
    "import sklearn   # pip install --upgrade scikit-learn\n",
    "print('sklearn',sklearn.__version__)"
   ]
  },
  {
   "cell_type": "markdown",
   "metadata": {
    "id": "tUtGXPrcFLA8"
   },
   "source": [
    "We prevously used sklearn.model_selection.ShuffleSplit   \n",
    "Now we avoid it due to this note in the \n",
    "[documentation](https://scikit-learn.org/stable/modules/generated/sklearn.model_selection.ShuffleSplit.html):\n",
    "Note: contrary to other cross-validation strategies, random splits do not guarantee that all folds will be different, although this is still very likely for sizeable datasets."
   ]
  },
  {
   "cell_type": "code",
   "execution_count": 31,
   "metadata": {
    "id": "PRX-UEr8FLA8"
   },
   "outputs": [],
   "source": [
    "import tensorflow as tf\n",
    "dt='float32'\n",
    "tf.keras.backend.set_floatx('float32')\n",
    "tf.random.set_seed(42) \n",
    "\n",
    "from tensorflow import keras\n",
    "from sklearn.model_selection import KFold\n",
    "from sklearn.metrics import accuracy_score\n",
    "from sklearn.metrics import precision_score\n",
    "from sklearn.metrics import recall_score\n",
    "from sklearn.metrics import f1_score\n",
    "\n",
    "from keras.models import Sequential\n",
    "from keras.layers import Masking\n",
    "from keras.layers import Embedding\n",
    "from keras.layers import Bidirectional\n",
    "from keras.layers import LSTM\n",
    "from keras.layers import TimeDistributed\n",
    "from keras.layers import Flatten\n",
    "from keras.layers import Dense\n",
    "from keras.layers import Dropout\n",
    "from keras.losses import BinaryCrossentropy\n",
    "\n",
    "K=4\n",
    "RCI_THRESHOLD=0.0\n",
    "RCELLS=32\n",
    "DCELLS=16\n",
    "EPOCHS=3\n",
    "FOLDS=5      \n",
    "EMBED_DIMEN = 4 # arbitrary hyperparameter\n",
    "BREAK = False   # break after first fold\n",
    "MINLEN=2000\n",
    "MAXLEN=3000   "
   ]
  },
  {
   "cell_type": "code",
   "execution_count": 32,
   "metadata": {
    "colab": {
     "base_uri": "https://localhost:8080/"
    },
    "id": "OlzN9OdsFWEU",
    "outputId": "9fc6b566-faa2-4611-8617-3d2b00f3b37f"
   },
   "outputs": [
    {
     "name": "stdout",
     "output_type": "stream",
     "text": [
      "Running on CoLab\n",
      "Drive already mounted at /content/drive/; to attempt to forcibly remount, call drive.mount(\"/content/drive/\", force_remount=True).\n",
      "/content/drive/My Drive/data/Localization/TrainTest/\n"
     ]
    }
   ],
   "source": [
    "try:\n",
    "    from google.colab import drive\n",
    "    IN_COLAB = True\n",
    "    print('Running on CoLab')\n",
    "    PATH='/content/drive/'\n",
    "    drive.mount(PATH)\n",
    "    DATA_DIR=PATH+'My Drive/data/Localization/TrainTest/'  # must end in \"/\"\n",
    "except:\n",
    "    IN_COLAB = False\n",
    "    DATA_DIR = 'D:/Adjeroh/Localization/TrainTest/'   # Windows\n",
    "    DATA_DIR = '/Users/jasonmiller/WVU/Localization/TrainTest/'    # Mac\n",
    "print(DATA_DIR)"
   ]
  },
  {
   "cell_type": "code",
   "execution_count": 33,
   "metadata": {
    "id": "LnkpVKdMFLA-"
   },
   "outputs": [],
   "source": [
    "GENES_FILE =    'CNRCI_coding_train_genes.csv'\n",
    "RCI_FILE =      'CNRCI_coding_train_RCI.gc42.csv'\n",
    "SEQUENCE_FILE = 'CNRCI_coding_train_transcripts.gc42.csv'\n",
    "COUNTS_FILE=    'CNRCI_coding_train_counts.K4.gc42.csv'"
   ]
  },
  {
   "cell_type": "code",
   "execution_count": 34,
   "metadata": {
    "colab": {
     "base_uri": "https://localhost:8080/"
    },
    "id": "e3p4QzQJFLA_",
    "outputId": "82b9c37f-e164-48dc-bfad-e447e82fadba"
   },
   "outputs": [
    {
     "name": "stdout",
     "output_type": "stream",
     "text": [
      "Exclude cell line 1 H1.hESC\n",
      "Exclude cell line 7 NCI.H460\n"
     ]
    }
   ],
   "source": [
    "def get_ordered_list():\n",
    "    ordered_list = \\\n",
    "    ['A549',\\\n",
    "      'H1.hESC',\\\n",
    "      'HeLa.S3',\\\n",
    "      'HepG2',\\\n",
    "      'HT1080',\\\n",
    "      'HUVEC',\\\n",
    "      'MCF.7',\\\n",
    "      'NCI.H460',\\\n",
    "      'NHEK',\\\n",
    "      'SK.MEL.5',\\\n",
    "      'SK.N.DZ',\\\n",
    "      'SK.N.SH',\\\n",
    "      'GM12878',\\\n",
    "      'K562',\\\n",
    "      'IMR.90']\n",
    "    return ordered_list\n",
    "all_cell_lines = get_ordered_list()\n",
    "EXCLUSIONS = [1,7]\n",
    "for c in EXCLUSIONS:\n",
    "    print('Exclude cell line',c,all_cell_lines[c])"
   ]
  },
  {
   "cell_type": "markdown",
   "metadata": {
    "id": "UtqdpJOxFLBA"
   },
   "source": [
    "## Data Load"
   ]
  },
  {
   "cell_type": "code",
   "execution_count": 35,
   "metadata": {
    "colab": {
     "base_uri": "https://localhost:8080/"
    },
    "id": "p35ehKV3Kq0z",
    "outputId": "5eabcdc3-351b-45c7-819b-3b25fe023608"
   },
   "outputs": [
    {
     "name": "stdout",
     "output_type": "stream",
     "text": [
      "[1, 1]\n",
      "[20, 16]\n",
      "[63, 57]\n",
      "[64, 0]\n",
      "0\n",
      "1\n"
     ]
    }
   ],
   "source": [
    "class DataLoader():\n",
    "    def __init__(self):\n",
    "        self.cache=dict() \n",
    "        self.vals = {'A':0, 'C':1, 'G':2, 'T':3}\n",
    "        \n",
    "    def load_gene_rci_values(self,filepath,exclusions=[]):\n",
    "        '''\n",
    "        Load from RCI csv file.\n",
    "        Return dict with keys=gene:str and values=RCI:float.\n",
    "        '''\n",
    "        gene_to_rci = {}\n",
    "        overall_sum = 0\n",
    "        overall_count = 0\n",
    "        with open (filepath,'r') as handle:\n",
    "            header = None\n",
    "            for row in handle:\n",
    "                if header is None:\n",
    "                    header = row # skip file's header line\n",
    "                else:\n",
    "                    line = row.strip()\n",
    "                    fields = line.split(',')\n",
    "                    gene_id = fields.pop(0)\n",
    "                    rci_max = None\n",
    "                    rci_count = 0\n",
    "                    cell_line = 0 # first line is 0 = A549\n",
    "                    for rci_str in fields:\n",
    "                        if rci_str != \"nan\" and cell_line not in exclusions:\n",
    "                            rci_val = float(rci_str)\n",
    "                            if rci_max is None or rci_val > rci_max:\n",
    "                                rci_max = rci_val\n",
    "                            rci_count += 1\n",
    "                        cell_line += 1   \n",
    "                    if rci_count > 0:\n",
    "                        gene_to_rci[gene_id] = rci_max\n",
    "                        overall_sum += rci_max\n",
    "                        overall_count += 1\n",
    "        overall_mean = overall_sum / overall_count\n",
    "        print('Number of RCI values',overall_count)\n",
    "        print('Mean RCI value',overall_mean)\n",
    "        return gene_to_rci\n",
    "    \n",
    "    def seq_to_kmer_values(self,rna,K):\n",
    "        # The cache may represent more than one K. Probably not a problem.\n",
    "        N_indicator = 0 # indicator value\n",
    "        vec=[] # seq converted to list of K-mers \n",
    "        length = len(rna)\n",
    "        for i in range(length-K+1):\n",
    "            kmer = rna[i:i+K]\n",
    "            if 'N' in kmer:\n",
    "                value = N_indicator\n",
    "            elif kmer in self.cache.keys():\n",
    "                value = self.cache[kmer]\n",
    "            else:\n",
    "                value = 0\n",
    "                for j in range(K):\n",
    "                    value *= 4   \n",
    "                    nextnuc = kmer[j] \n",
    "                    nucval = self.vals[nextnuc]\n",
    "                    value += nucval\n",
    "                value += 1   # NNN => 0, AAA => 1\n",
    "                self.cache[kmer] = value\n",
    "            vec.append(value)\n",
    "        return vec\n",
    "\n",
    "    def rci_to_label(self,rci):\n",
    "        CYTO_LABEL = 1\n",
    "        NUCLEAR_LABEL = 0\n",
    "        # cnrci = log (cyto-to-nuclear ratio)\n",
    "        # rci > 0 implies cytoplasmic\n",
    "        if rci > RCI_THRESHOLD:\n",
    "            return CYTO_LABEL\n",
    "        return NUCLEAR_LABEL\n",
    "\n",
    "    def load_sequence(self,filepath):\n",
    "        labels=[]\n",
    "        allids=[]\n",
    "        allseq=[]\n",
    "        NREPEAT = str('N'*MAXLEN)\n",
    "        with open (filepath,'r') as handle:\n",
    "            header = None\n",
    "            for row in handle:\n",
    "                if header is None:\n",
    "                    header = row\n",
    "                else:\n",
    "                    line    = row.strip()\n",
    "                    fields  = line.split(',')\n",
    "                    tran_id = fields[0]  # with version number\n",
    "                    gene_id = fields[1]        # without version number\n",
    "                    seq_len = int(fields[3])\n",
    "                    seq_txt = fields[4]\n",
    "                    if seq_len>=MINLEN and seq_len<=MAXLEN and gene_id in gene_to_rci.keys():\n",
    "                        allids.append( (gene_id,tran_id) )\n",
    "                        rci_val = gene_to_rci[gene_id]\n",
    "                        rci_label = self.rci_to_label(rci_val)\n",
    "                        labels.append(rci_label)\n",
    "                        if seq_len<MAXLEN:\n",
    "                            seq_txt = seq_txt + NREPEAT\n",
    "                            seq_txt = seq_txt[:MAXLEN]\n",
    "                        hot_vec = self.seq_to_kmer_values(seq_txt,K)\n",
    "                        allseq.append(hot_vec)\n",
    "        return labels,allids,allseq\n",
    "    \n",
    "loader = DataLoader()\n",
    "# test it\n",
    "print(loader.seq_to_kmer_values('AAAA',3))\n",
    "print(loader.seq_to_kmer_values('CATT',3))\n",
    "print(loader.seq_to_kmer_values('TTGA',3))\n",
    "print(loader.seq_to_kmer_values('TTTN',3))\n",
    "# test it\n",
    "print(loader.rci_to_label(-0.9))\n",
    "print(loader.rci_to_label(1.1))"
   ]
  },
  {
   "cell_type": "code",
   "execution_count": 36,
   "metadata": {
    "colab": {
     "base_uri": "https://localhost:8080/"
    },
    "id": "cYoYDc93FLBB",
    "outputId": "691995db-205b-4ca3-d01c-9b5a044924fb"
   },
   "outputs": [
    {
     "name": "stdout",
     "output_type": "stream",
     "text": [
      "2023-01-17 15:54:37.309785\n",
      "Load RCI values...\n",
      "Number of RCI values 13512\n",
      "Mean RCI value 0.742330935725574\n",
      "Num RCI: 13512\n",
      "Example RCI: [('ENSG00000000003', 2.29436), ('ENSG00000000419', 2.1946), ('ENSG00000000457', 0.434284)]\n",
      "Load genes...\n",
      "2023-01-17 15:54:37.391426\n",
      "Load sequence...\n",
      "2023-01-17 15:54:50.761762\n",
      "Num IDs: 11480\n",
      "Example IDs: [('ENSG00000162571', 'ENST00000379288.3'), ('ENSG00000127054', 'ENST00000435064.6'), ('ENSG00000228594', 'ENST00000422725.4'), ('ENSG00000008128', 'ENST00000404249.8')]\n",
      "Count 8377 ones out of 11480 labels.\n",
      "Num labels: 11480\n",
      "Example labels: [0, 0, 1, 0]\n",
      "Num sequences: 11480\n",
      "Example sequence: [160, 126, 247, 219, 107, 172, 176, 191, 251, 236, 175, 188, 238, 181, 212, 79, 59, 234, 165, 147, 74, 40, 159, 122, 231, 155, 107, 171, 169, 163, 138, 38, 151, 90, 101, 145, 67, 9, 35, 139, 42, 167, 154, 102, 152, 95, 123, 234, 167, 155, 105, 163, 138, 40, 159, 121, 226, 135, 27, 108, 175, 187, 233, 162, 135, 25, 99, 140, 48, 190, 246, 216, 93, 115, 202, 40, 160, 126, 247, 219, 107, 170, 168, 160, 128, 255, 249, 226, 136, 30, 118, 215, 89, 99, 140, 46, 182, 215, 89, 97, 132, 14, 54, 215, 89, 99, 140, 46, 182, 215, 89, 97, 129, 1, 4, 16, 62, 248, 222, 118, 213, 82, 69, 17, 67, 10, 39, 155, 105, 163, 137, 34, 133, 18, 71, 27, 107, 169, 161, 131, 10, 37, 146, 71, 26, 103, 153, 99, 139, 42, 168, 159, 122, 230, 150, 87, 91, 105, 163, 140, 46, 182, 215, 91, 105, 164, 141, 49, 195, 10, 38, 151, 91, 107, 170, 167, 155, 107, 169, 163, 138, 38, 150, 86, 88, 94, 119, 219, 106, 166, 149, 83, 74, 38, 151, 91, 106, 167, 156, 109, 177, 193, 3, 11, 42, 166, 151, 92, 111, 186, 230, 152, 94, 120, 223, 121, 227, 138, 37, 146, 69, 17, 65, 3, 9, 34, 134, 21, 83, 74, 40, 158, 120, 222, 120, 222, 119, 219, 106, 168, 159, 121, 225, 131, 11, 41, 162, 133, 19, 73, 35, 137, 34, 134, 22, 86, 87, 89, 99, 140, 48, 190, 248, 221, 114, 197, 17, 67, 12, 48, 190, 246, 216, 95, 122, 229, 147, 75, 41, 163, 137, 33, 132, 15, 57, 226, 134, 21, 83, 73, 35, 138, 38, 152, 95, 122, 232, 157, 113, 193, 2, 8, 32, 126, 245, 211, 74, 39, 153, 98, 136, 30, 119, 219, 105, 162, 133, 19, 74, 40, 158, 120, 223, 121, 227, 139, 41, 163, 139, 41, 161, 131, 9, 35, 139, 43, 171, 170, 166, 151, 92, 112, 190, 246, 213, 82, 72, 30, 118, 214, 88, 95, 122, 230, 149, 83, 73, 36, 143, 60, 239, 186, 232, 159, 123, 233, 163, 139, 41, 161, 131, 10, 38, 149, 83, 76, 47, 185, 227, 139, 41, 163, 139, 41, 163, 139, 41, 164, 143, 59, 233, 163, 138, 39, 155, 105, 163, 139, 41, 161, 131, 11, 41, 163, 137, 33, 131, 9, 36, 143, 59, 235, 171, 169, 162, 133, 19, 73, 35, 140, 46, 182, 214, 86, 85, 83, 73, 35, 139, 43, 170, 168, 159, 121, 225, 131, 11, 43, 171, 169, 161, 131, 9, 33, 131, 9, 33, 132, 16, 62, 248, 223, 124, 240, 190, 246, 216, 95, 124, 239, 185, 226, 134, 23, 92, 110, 183, 218, 102, 149, 84, 79, 59, 236, 176, 191, 249, 227, 137, 35, 137, 36, 143, 59, 233, 161, 131, 10, 37, 147, 75, 42, 165, 147, 74, 37, 145, 65, 3, 10, 37, 145, 66, 7, 26, 102, 152, 94, 117, 210, 72, 30, 118, 213, 81, 65, 3, 10, 40, 159, 124, 240, 190, 246, 213, 84, 79, 57, 225, 131, 12, 47, 187, 236, 173, 178, 197, 19, 75, 42, 167, 156, 112, 190, 246, 215, 89, 99, 138, 37, 147, 74, 40, 159, 124, 239, 187, 234, 166, 149, 82, 70, 21, 82, 70, 22, 87, 89, 99, 139, 43, 171, 169, 162, 134, 21, 83, 75, 41, 161, 129, 3, 12, 47, 186, 232, 159, 121, 227, 139, 42, 166, 149, 81, 66, 5, 17, 65, 4, 16, 62, 246, 213, 83, 75, 44, 174, 181, 210, 71, 27, 105, 162, 133, 19, 76, 47, 186, 232, 159, 122, 229, 148, 80, 62, 245, 209, 68, 15, 58, 232, 158, 120, 223, 123, 236, 176, 189, 242, 198, 24, 96, 126, 248, 223, 122, 229, 148, 78, 53, 211, 73, 35, 137, 34, 134, 24, 94, 117, 212, 80, 63, 251, 234, 168, 159, 124, 238, 184, 222, 118, 213, 83, 73, 33, 131, 10, 40, 159, 122, 232, 159, 124, 240, 192, 255, 251, 233, 161, 129, 3, 11, 44, 175, 187, 234, 165, 145, 65, 3, 11, 41, 164, 141, 51, 202, 37, 147, 74, 37, 147, 75, 41, 164, 143, 58, 232, 159, 122, 229, 147, 74, 38, 151, 92, 110, 182, 213, 83, 74, 37, 147, 74, 38, 150, 87, 90, 104, 158, 120, 223, 123, 235, 171, 171, 169, 161, 131, 10, 40, 160, 126, 247, 220, 111, 188, 239, 187, 233, 162, 133, 20, 78, 53, 209, 67, 11, 42, 168, 160, 125, 242, 198, 24, 95, 123, 235, 170, 168, 158, 119, 219, 106, 166, 149, 84, 77, 50, 197, 19, 74, 40, 159, 123, 236, 175, 188, 238, 182, 216, 95, 124, 238, 184, 223, 124, 238, 183, 219, 105, 163, 137, 34, 135, 25, 98, 135, 27, 108, 175, 188, 240, 191, 251, 234, 167, 155, 106, 166, 151, 92, 111, 186, 232, 159, 122, 231, 155, 106, 165, 146, 69, 20, 78, 53, 211, 74, 39, 156, 111, 186, 232, 159, 123, 236, 175, 186, 230, 150, 88, 95, 122, 232, 160, 126, 246, 216, 95, 121, 226, 134, 24, 96, 126, 246, 214, 86, 85, 81, 67, 10, 37, 147, 76, 47, 186, 230, 151, 90, 101, 148, 79, 58, 232, 159, 122, 232, 158, 117, 209, 67, 9, 35, 137, 33, 132, 15, 59, 236, 175, 185, 228, 142, 55, 220, 109, 180, 207, 59, 233, 163, 138, 37, 146, 72, 31, 123, 235, 171, 169, 161, 131, 9, 35, 140, 46, 184, 222, 120, 223, 122, 231, 155, 107, 172, 175, 186, 232, 159, 123, 234, 168, 160, 128, 254, 246, 216, 95, 123, 236, 174, 182, 216, 94, 117, 211, 74, 37, 147, 73, 35, 140, 46, 184, 223, 122, 230, 151, 91, 106, 165, 146, 69, 17, 67, 9, 33, 131, 11, 41, 162, 133, 18, 72, 32, 128, 254, 246, 216, 96, 127, 251, 234, 166, 150, 86, 87, 92, 110, 182, 216, 94, 117, 209, 67, 10, 37, 145, 65, 4, 15, 60, 237, 178, 197, 20, 78, 53, 210, 71, 28, 109, 180, 207, 60, 239, 185, 227, 139, 41, 161, 130, 8, 31, 122, 229, 145, 67, 12, 48, 190, 245, 210, 70, 24, 94, 119, 218, 102, 152, 95, 123, 236, 175, 186, 230, 150, 88, 94, 118, 214, 86, 88, 96, 126, 245, 212, 78, 53, 211, 76, 48, 192, 254, 245, 212, 79, 58, 229, 147, 76, 47, 187, 233, 162, 134, 24, 96, 127, 249, 226, 135, 27, 105, 163, 138, 40, 159, 122, 232, 159, 123, 234, 166, 150, 88, 95, 123, 233, 163, 138, 38, 151, 91, 107, 172, 175, 188, 239, 187, 234, 166, 152, 93, 114, 198, 21, 83, 74, 37, 146, 71, 26, 102, 152, 96, 126, 246, 216, 94, 120, 221, 114, 197, 20, 78, 54, 215, 90, 102, 149, 83, 74, 40, 158, 119, 218, 102, 149, 84, 77, 50, 197, 18, 70, 24, 95, 122, 231, 154, 101, 145, 66, 7, 26, 102, 149, 84, 79, 57, 226, 134, 21, 82, 72, 30, 119, 218, 101, 145, 67, 9, 33, 131, 11, 41, 161, 129, 2, 5, 20, 77, 50, 198, 21, 83, 76, 46, 184, 223, 124, 239, 188, 237, 178, 197, 17, 66, 8, 31, 123, 234, 165, 147, 76, 45, 180, 207, 60, 239, 186, 229, 146, 72, 31, 122, 230, 152, 94, 120, 224, 126, 246, 216, 95, 124, 239, 187, 236, 175, 186, 230, 151, 91, 107, 172, 174, 182, 216, 95, 121, 227, 138, 37, 146, 72, 31, 122, 231, 155, 107, 170, 166, 150, 86, 85, 83, 74, 39, 153, 97, 131, 10, 38, 150, 88, 94, 118, 213, 83, 74, 38, 150, 88, 96, 127, 251, 236, 174, 184, 221, 114, 198, 22, 86, 86, 88, 96, 127, 250, 230, 150, 85, 81, 67, 12, 46, 181, 212, 78, 53, 212, 80, 63, 251, 234, 168, 159, 124, 237, 180, 206, 53, 209, 67, 10, 40, 158, 117, 212, 78, 54, 214, 86, 85, 82, 72, 31, 122, 230, 150, 87, 90, 104, 160, 126, 248, 221, 114, 198, 22, 87, 90, 104, 159, 122, 231, 153, 97, 132, 15, 58, 229, 146, 72, 31, 122, 229, 148, 78, 54, 215, 92, 111, 186, 230, 150, 88, 95, 121, 226, 135, 26, 104, 159, 122, 232, 158, 120, 222, 119, 219, 107, 171, 169, 163, 138, 40, 158, 119, 219, 107, 171, 171, 170, 166, 152, 96, 126, 245, 212, 78, 54, 214, 87, 91, 108, 175, 186, 232, 159, 122, 230, 152, 96, 128, 254, 245, 212, 78, 54, 216, 95, 123, 233, 163, 137, 36, 143, 60, 240, 190, 246, 213, 83, 74, 37, 147, 75, 44, 174, 183, 217, 98, 136, 32, 126, 245, 209, 66, 5, 19, 75, 41, 161, 131, 10, 38, 149, 83, 75, 43, 170, 167, 154, 101, 148, 79, 57, 227, 138, 40, 158, 118, 213, 81, 67, 10, 38, 150, 85, 84, 78, 53, 209, 66, 8, 32, 126, 248, 222, 118, 215, 92, 111, 185, 228, 142, 54, 216, 95, 121, 225, 131, 10, 40, 159, 124, 238, 182, 213, 81, 68, 15, 60, 238, 181, 209, 66, 6, 24, 95, 122, 229, 147, 75, 41, 163, 137, 33, 131, 11, 42, 167, 156, 109, 178, 198, 23, 91, 107, 169, 162, 135, 27, 106, 166, 152, 95, 123, 236, 175, 187, 233, 163, 138, 37, 147, 74, 40, 159, 124, 237, 178, 199, 25, 98, 134, 24, 94, 117, 210, 70, 22, 88, 95, 123, 233, 163, 140, 45, 178, 198, 24, 95, 122, 229, 146, 69, 19, 74, 38, 149, 83, 75, 42, 165, 146, 69, 18, 72, 31, 122, 229, 148, 78, 55, 219, 106, 168, 160, 126, 246, 214, 87, 91, 105, 163, 138, 40, 159, 123, 236, 175, 186, 232, 159, 122, 230, 152, 95, 124, 239, 187, 236, 174, 182, 216, 95, 122, 229, 147, 74, 40, 159, 121, 225, 131, 12, 46, 183, 220, 112, 190, 246, 216, 94, 118, 215, 91, 107, 169, 163, 140, 47, 186, 229, 145, 67, 11, 44, 175, 187, 234, 166, 149, 81, 66, 8, 29, 114, 200, 31, 122, 230, 151, 91, 106, 165, 147, 75, 44, 175, 186, 229, 147, 74, 37, 147, 74, 40, 159, 122, 232, 160, 127, 251, 235, 169, 161, 131, 11, 44, 176, 190, 245, 211, 75, 41, 163, 137, 33, 130, 8, 30, 119, 219, 106, 165, 148, 77, 50, 197, 20, 78, 56, 223, 122, 229, 147, 74, 38, 151, 90, 102, 151, 90, 102, 149, 83, 73, 35, 139, 43, 172, 176, 192, 254, 246, 216, 96, 126, 247, 219, 106, 167, 156, 110, 184, 222, 120, 223, 121, 227, 138, 37, 147, 74, 37, 147, 75, 42, 165, 147, 76, 47, 187, 233, 161, 131, 10, 38, 152, 95, 123, 235, 169, 163, 137, 33, 131, 10, 40, 159, 121, 226, 134, 22, 87, 91, 107, 169, 161, 131, 9, 35, 139, 43, 171, 169, 162, 133, 18, 70, 22, 86, 88, 95, 121, 226, 134, 24, 96, 127, 252, 237, 178, 200, 29, 114, 197, 19, 74, 38, 149, 82, 72, 31, 123, 234, 167, 154, 101, 145, 67, 10, 40, 159, 122, 231, 156, 111, 185, 226, 134, 23, 91, 107, 169, 163, 137, 36, 142, 54, 213, 83, 74, 40, 159, 123, 233, 163, 137, 36, 142, 53, 211, 76, 47, 187, 234, 165, 145, 65, 3, 9, 35, 138, 39, 155, 106, 168, 159, 123, 233, 161, 131, 9, 34, 134, 24, 95, 121, 225, 130, 8, 32, 126, 246, 214, 88, 95, 121, 227, 137, 36, 142, 53, 209, 65, 2, 7, 25, 97, 131, 11, 41, 161, 131, 9, 36, 143, 59, 234, 168, 159, 121, 226, 133, 19, 75, 41, 161, 131, 11, 41, 164, 143, 57, 227, 139, 41, 162, 133, 19, 75, 41, 161, 131, 10, 37, 145, 68, 16, 64, 253, 241, 193, 3, 9, 34, 134, 24, 94, 120, 224, 128, 255, 249, 226, 134, 24, 95, 121, 225, 130, 5, 19, 74, 40, 158, 120, 223, 121, 225, 131, 9, 35, 139, 41, 162, 135, 25, 98, 133, 18, 70, 23, 89, 99, 139, 43, 169, 164, 144, 62, 248, 222, 119, 219, 105, 163, 137, 35, 137, 35, 139, 43, 169, 164, 141, 50, 200, 31, 121, 227, 139, 42, 166, 150, 86, 88, 95, 121, 227, 138, 37, 146, 72, 30, 119, 219, 106, 165, 148, 79, 59, 235, 171, 172, 175, 187, 233, 161, 131, 9, 34, 135, 25, 100, 143, 57, 225, 131, 9, 35, 139, 41, 162, 135, 25, 99, 139, 41, 163, 139, 41, 163, 139, 43, 170, 167, 153, 99, 139, 41, 163, 139, 41, 162, 133, 19, 74, 37, 147, 74, 37, 145, 66, 8, 30, 119, 219, 105, 163, 139, 41, 164, 143, 59, 233, 163, 137, 34, 134, 22, 85, 83, 73, 34, 135, 26, 101, 147, 73, 35, 139, 42, 167, 155, 107, 171, 170, 168, 159, 123, 234, 166, 150, 86, 88, 95, 123, 235, 171, 169, 163, 138, 40, 159, 122, 229, 147, 74, 37, 147, 74, 40, 159, 123, 234, 166, 150, 85, 83, 75, 43, 171, 170, 166, 151, 91, 105, 163, 139, 41, 162, 135, 25, 99, 138, 40, 159, 123, 233, 163, 139, 41, 164, 142, 56, 223, 122, 229, 147, 74, 40, 158, 120, 222, 117, 211, 73, 35, 139, 41, 162, 135, 25, 98, 136, 31, 121, 227, 139, 42, 165, 147, 74, 38, 150, 85, 84, 78, 56, 223, 123, 235, 171, 171, 171, 170, 166, 152, 95, 124, 237, 179, 203, 43, 171, 170, 168, 159, 122, 230, 151, 91, 107, 170, 168, 159, 123, 236, 175, 187, 234, 166, 149, 83, 76, 47, 188, 240, 192, 254, 246, 213, 82, 70, 24, 94, 118, 214, 88, 95, 123, 234, 165, 147, 76, 46, 181, 211, 75, 42, 166, 152, 93, 115, 201, 35, 139, 42, 168, 159, 123, 234, 167, 156, 110, 184, 223, 124, 239, 186, 229, 147, 76, 48, 191, 251, 235, 171, 171, 169, 163, 139, 42, 165, 147, 76, 45, 179, 201, 34, 133, 18, 71, 27, 107, 169, 162, 133, 19, 75, 42, 168, 160, 128, 253, 244, 208, 61, 244, 208, 64, 253, 244, 208, 64, 256, 256, 254, 245, 211, 74, 37, 148, 79, 57, 225, 129, 3, 9, 34, 134, 21, 81, 65, 2, 7, 28, 109, 180, 206, 55, 217, 99, 137, 35, 138, 40, 159, 123, 235, 170, 168, 159, 123, 235, 170, 168, 159, 123, 235, 170, 168, 159, 123, 236, 175, 188, 239, 187, 234, 168, 159, 122, 232, 159, 121, 225, 131, 10, 38, 150, 86, 85, 82, 69, 19, 74, 40, 159, 124, 239, 187, 235, 170, 168, 159, 122, 232, 159, 121, 225, 131, 12, 46, 181, 211, 74, 40, 158, 118, 215, 90, 103, 155, 107, 171, 171, 169, 163, 138, 40, 159, 121, 226, 134, 22, 88, 95, 121, 226, 135, 28, 110, 181, 211, 74, 37, 147, 73, 34, 134, 23, 89, 99, 137, 34, 134, 21, 83, 76, 46, 182, 214, 85, 83, 76, 48, 190, 246, 213, 83, 75, 43, 171, 171, 169, 163, 139, 42, 166, 152, 95, 122, 229, 147, 75, 42, 166, 150, 86, 88, 95, 123, 234, 166, 150, 86, 88, 96, 126, 246, 213, 82, 70, 21, 82, 70, 24, 94, 120, 223, 122, 230, 150, 88, 94, 118, 215, 92, 110, 184, 223, 122, 229, 147, 73, 34, 134, 24, 94, 119, 220, 110, 182, 213, 84, 78, 56, 223, 122, 229, 146, 70, 21, 83, 75, 42, 168, 158, 120, 223, 122, 230, 152, 96, 126, 245, 210, 72, 30, 118, 214, 86, 86, 85, 81, 67, 12, 46, 184, 224, 128, 255, 249, 225, 129, 1, 4, 16, 64, 255, 252, 240, 190, 246, 216, 96, 128, 254, 246, 216, 96, 128, 255, 249, 225, 131, 12, 46, 181, 210, 69, 20, 80, 64, 256, 254, 248, 224, 128, 256, 253, 241, 193, 1, 4, 16, 64, 256, 256, 256, 255, 252, 240, 192, 256, 255, 250, 229, 148, 78, 54, 215, 89, 97, 129, 2, 6, 23, 89, 97, 129, 3, 9, 33, 129, 4, 13, 49, 193, 3, 10, 39, 155, 108, 175, 187, 235, 169, 163, 139, 42, 165, 147, 75, 43, 170, 166, 149, 84, 80, 63, 252, 239, 188, 240, 191, 249, 0, 0, 0, 0, 0, 0, 0, 0, 0, 0, 0, 0, 0, 0, 0, 0, 0, 0, 0, 0, 0, 0, 0, 0, 0, 0, 0, 0, 0, 0, 0, 0, 0, 0, 0, 0, 0, 0, 0, 0, 0, 0, 0, 0, 0, 0, 0, 0, 0, 0, 0, 0, 0, 0, 0, 0, 0, 0, 0, 0, 0, 0, 0, 0, 0, 0, 0, 0, 0, 0, 0, 0, 0, 0, 0, 0, 0, 0, 0, 0, 0, 0, 0, 0, 0, 0, 0, 0, 0, 0, 0, 0, 0, 0, 0, 0, 0, 0, 0, 0, 0, 0, 0, 0, 0, 0, 0, 0, 0, 0, 0, 0, 0, 0, 0, 0, 0, 0, 0, 0, 0, 0, 0, 0, 0, 0, 0, 0, 0, 0, 0, 0, 0, 0, 0, 0, 0, 0, 0, 0, 0, 0, 0, 0, 0, 0, 0, 0, 0, 0, 0, 0, 0, 0, 0, 0, 0, 0, 0, 0, 0, 0, 0, 0, 0, 0, 0, 0, 0, 0, 0, 0, 0, 0, 0, 0, 0, 0, 0, 0, 0, 0, 0, 0, 0, 0, 0, 0, 0, 0, 0, 0, 0, 0, 0, 0, 0, 0, 0, 0, 0, 0, 0, 0, 0, 0, 0, 0, 0, 0, 0, 0, 0, 0, 0, 0, 0, 0, 0, 0, 0, 0, 0, 0, 0, 0, 0, 0, 0, 0, 0, 0, 0, 0, 0, 0, 0, 0, 0, 0, 0, 0, 0]\n"
     ]
    }
   ],
   "source": [
    "print(datetime.now())\n",
    "print(\"Load RCI values...\")\n",
    "loader = DataLoader()\n",
    "filepath = DATA_DIR+RCI_FILE\n",
    "gene_to_rci = loader.load_gene_rci_values(filepath,EXCLUSIONS)\n",
    "print('Num RCI:', len(gene_to_rci.keys()))\n",
    "print('Example RCI:', list(gene_to_rci.items())[:3])\n",
    "print(\"Load genes...\")\n",
    "all_genes = list(gene_to_rci.keys())\n",
    "print(datetime.now())\n",
    "print('Load sequence...')\n",
    "filepath = DATA_DIR+SEQUENCE_FILE\n",
    "labels,allids,allseq = loader.load_sequence(filepath)\n",
    "print(datetime.now())\n",
    "print('Num IDs:',len(allids))\n",
    "print('Example IDs:',[allids[x] for x in [10, 20, 30, 40]] )\n",
    "print('Count',np.count_nonzero(labels),'ones out of',len(labels),'labels.')\n",
    "print('Num labels:',len(labels))\n",
    "print('Example labels:',[labels[x] for x in [10, 20, 30, 40]] )\n",
    "print('Num sequences:',len(allseq))\n",
    "print('Example sequence:',allseq[3])\n",
    "loader = None  # drop K-mer cache to save RAM"
   ]
  },
  {
   "cell_type": "markdown",
   "metadata": {
    "id": "VDZ6siB_Kq04"
   },
   "source": [
    "## Model"
   ]
  },
  {
   "cell_type": "code",
   "execution_count": 37,
   "metadata": {
    "id": "AwMbRjm0FLBF"
   },
   "outputs": [],
   "source": [
    "def build_model():\n",
    "    ALPHABET=4**K+1  # NUMBER OF DISTINCT KMERS POSSIBLE, add one if N gets mask value\n",
    "    ADJUST_LENGTH = MAXLEN-K+1  # fixed length sequences\n",
    "    rnn = Sequential()\n",
    "    embed_layer = Embedding(ALPHABET,EMBED_DIMEN,input_length=ADJUST_LENGTH,mask_zero=False)   \n",
    "    rnn1_layer = Bidirectional( LSTM(RCELLS, return_sequences=True) )\n",
    "    dens_layer = TimeDistributed(Dense(DCELLS))\n",
    "    flat_layer = Flatten()\n",
    "    drop_layer = Dropout(0.5) # this model will rely on specific time points not patterns\n",
    "    output_layer = Dense(1,activation='sigmoid',dtype=dt)\n",
    "\n",
    "    #rnn.add(mask_layer)\n",
    "    rnn.add(embed_layer)\n",
    "    rnn.add(rnn1_layer)\n",
    "    rnn.add(dens_layer)\n",
    "    rnn.add(flat_layer)\n",
    "    rnn.add(drop_layer)\n",
    "    rnn.add(output_layer)\n",
    "\n",
    "    bc=BinaryCrossentropy(from_logits=False)\n",
    "    print(\"COMPILE\")\n",
    "    rnn.compile(loss=bc, optimizer=\"Adam\",metrics=[\"accuracy\"])\n",
    "    return rnn"
   ]
  },
  {
   "cell_type": "code",
   "execution_count": 38,
   "metadata": {
    "colab": {
     "base_uri": "https://localhost:8080/"
    },
    "id": "clj-wufgFLBF",
    "outputId": "52dd19d2-7ad0-4c1c-e01f-5395df5b79ab"
   },
   "outputs": [
    {
     "name": "stdout",
     "output_type": "stream",
     "text": [
      "2023-01-17 15:54:50.796817\n",
      "COMPILE\n",
      "Model: \"sequential_12\"\n",
      "_________________________________________________________________\n",
      " Layer (type)                Output Shape              Param #   \n",
      "=================================================================\n",
      " embedding_12 (Embedding)    (None, 2997, 4)           1028      \n",
      "                                                                 \n",
      " bidirectional_12 (Bidirecti  (None, 2997, 64)         9472      \n",
      " onal)                                                           \n",
      "                                                                 \n",
      " time_distributed_12 (TimeDi  (None, 2997, 16)         1040      \n",
      " stributed)                                                      \n",
      "                                                                 \n",
      " flatten_12 (Flatten)        (None, 47952)             0         \n",
      "                                                                 \n",
      " dropout_12 (Dropout)        (None, 47952)             0         \n",
      "                                                                 \n",
      " dense_25 (Dense)            (None, 1)                 47953     \n",
      "                                                                 \n",
      "=================================================================\n",
      "Total params: 59,493\n",
      "Trainable params: 59,493\n",
      "Non-trainable params: 0\n",
      "_________________________________________________________________\n",
      "None\n"
     ]
    }
   ],
   "source": [
    "print(datetime.now())\n",
    "model=build_model()\n",
    "print(model.summary())  # Print this only once"
   ]
  },
  {
   "cell_type": "markdown",
   "metadata": {
    "id": "MgrC1alOKq07"
   },
   "source": [
    "## Training"
   ]
  },
  {
   "cell_type": "code",
   "execution_count": 39,
   "metadata": {
    "id": "W9xiFzNbFLBE"
   },
   "outputs": [],
   "source": [
    "class CrossValidator():\n",
    "    def __init__(self,epochs,folds,quick_test=False,threshold=0.5):\n",
    "        self.epochs = epochs\n",
    "        self.folds = folds\n",
    "        self.quick_test = quick_test\n",
    "        self.threshold = threshold\n",
    "    \n",
    "    def get_gene_subset(self,all_genes,sub_index):\n",
    "        sub_genes = set()\n",
    "        for index in sub_index:\n",
    "            one_gene = all_genes[index]\n",
    "            sub_genes.add(one_gene)\n",
    "        return sub_genes\n",
    "    \n",
    "    def get_X_y(self,gene_set,allids,allX,allY):\n",
    "        cnt = len(allids)\n",
    "        subsetX=[]\n",
    "        subsetY=[]\n",
    "        if cnt != len(allX) or cnt!= len(allY):\n",
    "            raise Exception('Lengths differ')\n",
    "        for i in range(cnt):\n",
    "            gene_id,tran_id = allids[i]\n",
    "            if gene_id in gene_set:\n",
    "                oneX = allX[i]\n",
    "                oneY = allY[i]\n",
    "                subsetX.append(oneX)\n",
    "                subsetY.append(oneY)\n",
    "        subsetX = np.array(subsetX)\n",
    "        subsetY = np.array(subsetY).reshape((-1,1))\n",
    "        return subsetX,subsetY\n",
    "    \n",
    "    def do_cross_validation(self):\n",
    "        cv_accuracy=[]\n",
    "        cv_precision=[]\n",
    "        cv_recall=[]\n",
    "        cv_f1=[]\n",
    "        fold=0\n",
    "        print(datetime.now())\n",
    "        print('splitting')\n",
    "        # KFold shuffles once before making the partitions\n",
    "        splitter = KFold(n_splits=self.folds,shuffle=True,random_state=42)\n",
    "        for train_index,valid_index in splitter.split(all_genes):\n",
    "            fold += 1\n",
    "            print('Fold',fold)\n",
    "            train_genes = self.get_gene_subset(all_genes,train_index)\n",
    "            valid_genes = self.get_gene_subset(all_genes,valid_index)\n",
    "            X_train,y_train = self.get_X_y(train_genes,allids,allseq,labels)\n",
    "            X_valid,y_valid = self.get_X_y(valid_genes,allids,allseq,labels)\n",
    "\n",
    "            print('Training example')\n",
    "            print(X_train[0])\n",
    "\n",
    "            print('Train sizes',X_train.shape,y_train.shape)\n",
    "            print('Valid sizes',X_valid.shape,y_valid.shape)\n",
    "            print('Train set ones/size',\n",
    "                  np.count_nonzero(y_train),'/',len(y_train))\n",
    "            print('Valid set ones/size',\n",
    "                  np.count_nonzero(y_valid),'/',len(y_valid))\n",
    "\n",
    "            print(\"BUILD MODEL\")\n",
    "            model=build_model()\n",
    "\n",
    "            print(\"FIT\")\n",
    "            print(datetime.now())\n",
    "            history=model.fit(X_train, y_train, # batch_size=10, default=32 works nicely\n",
    "                    epochs=self.epochs, verbose=1,  # verbose=1 for ascii art, verbose=0 for none\n",
    "                    validation_data=(X_valid,y_valid) )\n",
    "\n",
    "            pd.DataFrame(history.history).plot(figsize=(8,5))\n",
    "            plt.grid(True)\n",
    "            plt.gca().set_ylim(0,1)\n",
    "            plt.show()\n",
    "\n",
    "            print(\"Compute valiation accuracy\")\n",
    "            print(datetime.now())\n",
    "            yhat_pred=model.predict(X_valid, verbose=0) \n",
    "            print('Range of scores:',np.min(yhat_pred),'to',np.max(yhat_pred))\n",
    "            yhat_classes=np.where(yhat_pred > self.threshold, 1, 0)\n",
    "            print('Predicted zeros and ones',np.count_nonzero(yhat_classes==0),np.count_nonzero(yhat_classes==1))\n",
    "            # accuracy: (tp + tn) / (p + n)\n",
    "            accuracy = accuracy_score(y_valid, yhat_classes)*100.\n",
    "            # precision tp / (tp + fp)\n",
    "            precision = precision_score(y_valid, yhat_classes)*100.\n",
    "            # recall: tp / (tp + fn)\n",
    "            recall = recall_score(y_valid, yhat_classes)*100.\n",
    "            # f1: 2 tp / (2 tp + fp + fn)\n",
    "            f1 = f1_score(y_valid, yhat_classes)*100.\n",
    "            print('Accuracy: %.2f%% Precision: %.2f%% Recall: %.2f%% F1: %.2f%%' % (accuracy,precision,recall,f1)) \n",
    "            print(datetime.now())\n",
    "            cv_accuracy.append(accuracy)\n",
    "            cv_precision.append(precision)\n",
    "            cv_recall.append(recall)\n",
    "            cv_f1.append(f1)\n",
    "            if self.quick_test:   \n",
    "                print('Break -- this was for code testing only')\n",
    "                break\n",
    "        print()\n",
    "        return cv_accuracy, cv_precision, cv_recall, cv_f1"
   ]
  },
  {
   "cell_type": "code",
   "execution_count": 40,
   "metadata": {
    "colab": {
     "base_uri": "https://localhost:8080/",
     "height": 1000
    },
    "id": "XC9m0W-pFLBH",
    "outputId": "c079489d-cce5-4cd1-cc9b-fc38de77fc9f",
    "scrolled": false
   },
   "outputs": [
    {
     "name": "stdout",
     "output_type": "stream",
     "text": [
      "2023-01-17 15:54:51.646419\n",
      "2023-01-17 15:54:51.650688\n",
      "splitting\n",
      "Fold 1\n",
      "Training example\n",
      "[147  73  35 ...   0   0   0]\n",
      "Train sizes (9183, 2997) (9183, 1)\n",
      "Valid sizes (2297, 2997) (2297, 1)\n",
      "Train set ones/size 6677 / 9183\n",
      "Valid set ones/size 1700 / 2297\n",
      "BUILD MODEL\n",
      "COMPILE\n",
      "FIT\n",
      "2023-01-17 15:54:54.109298\n",
      "Epoch 1/3\n",
      "287/287 [==============================] - 53s 172ms/step - loss: 0.5628 - accuracy: 0.7261 - val_loss: 0.5461 - val_accuracy: 0.7366\n",
      "Epoch 2/3\n",
      "287/287 [==============================] - 49s 169ms/step - loss: 0.5338 - accuracy: 0.7379 - val_loss: 0.5453 - val_accuracy: 0.7379\n",
      "Epoch 3/3\n",
      "287/287 [==============================] - 49s 170ms/step - loss: 0.4987 - accuracy: 0.7635 - val_loss: 0.5691 - val_accuracy: 0.7288\n"
     ]
    },
    {
     "data": {
      "image/png": "[encoded data removed]",
      "text/plain": [
       "<Figure size 576x360 with 1 Axes>"
      ]
     },
     "metadata": {
      "needs_background": "light"
     },
     "output_type": "display_data"
    },
    {
     "name": "stdout",
     "output_type": "stream",
     "text": [
      "Compute valiation accuracy\n",
      "2023-01-17 15:57:24.897704\n",
      "Range of scores: 0.13671622 to 0.9885682\n",
      "Predicted zeros and ones 244 2053\n",
      "Accuracy: 72.88% Precision: 76.23% Recall: 92.06% F1: 83.40%\n",
      "2023-01-17 15:57:30.666106\n",
      "Fold 2\n",
      "Training example\n",
      "[147  73  35 ...   0   0   0]\n",
      "Train sizes (9088, 2997) (9088, 1)\n",
      "Valid sizes (2392, 2997) (2392, 1)\n",
      "Train set ones/size 6618 / 9088\n",
      "Valid set ones/size 1759 / 2392\n",
      "BUILD MODEL\n",
      "COMPILE\n",
      "FIT\n",
      "2023-01-17 15:57:33.126732\n",
      "Epoch 1/3\n",
      "284/284 [==============================] - 51s 171ms/step - loss: 0.5608 - accuracy: 0.7269 - val_loss: 0.5426 - val_accuracy: 0.7304\n",
      "Epoch 2/3\n",
      "284/284 [==============================] - 48s 168ms/step - loss: 0.5353 - accuracy: 0.7401 - val_loss: 0.5345 - val_accuracy: 0.7324\n",
      "Epoch 3/3\n",
      "284/284 [==============================] - 49s 172ms/step - loss: 0.4978 - accuracy: 0.7559 - val_loss: 0.5544 - val_accuracy: 0.7216\n"
     ]
    },
    {
     "data": {
      "image/png": "[encoded data removed]",
      "text/plain": [
       "<Figure size 576x360 with 1 Axes>"
      ]
     },
     "metadata": {
      "needs_background": "light"
     },
     "output_type": "display_data"
    },
    {
     "name": "stdout",
     "output_type": "stream",
     "text": [
      "Compute valiation accuracy\n",
      "2023-01-17 16:00:00.897102\n",
      "Range of scores: 0.10914374 to 0.98994887\n",
      "Predicted zeros and ones 365 2027\n",
      "Accuracy: 72.16% Precision: 76.96% Recall: 88.69% F1: 82.41%\n",
      "2023-01-17 16:00:06.837272\n",
      "Fold 3\n",
      "Training example\n",
      "[147  73  35 ...   0   0   0]\n",
      "Train sizes (9163, 2997) (9163, 1)\n",
      "Valid sizes (2317, 2997) (2317, 1)\n",
      "Train set ones/size 6646 / 9163\n",
      "Valid set ones/size 1731 / 2317\n",
      "BUILD MODEL\n",
      "COMPILE\n",
      "FIT\n",
      "2023-01-17 16:00:09.306213\n",
      "Epoch 1/3\n",
      "287/287 [==============================] - 53s 172ms/step - loss: 0.5637 - accuracy: 0.7211 - val_loss: 0.5373 - val_accuracy: 0.7458\n",
      "Epoch 2/3\n",
      "287/287 [==============================] - 49s 170ms/step - loss: 0.5361 - accuracy: 0.7365 - val_loss: 0.5432 - val_accuracy: 0.7423\n",
      "Epoch 3/3\n",
      "287/287 [==============================] - 50s 173ms/step - loss: 0.5032 - accuracy: 0.7620 - val_loss: 0.5567 - val_accuracy: 0.7441\n"
     ]
    },
    {
     "data": {
      "image/png": "[encoded data removed]",
      "text/plain": [
       "<Figure size 576x360 with 1 Axes>"
      ]
     },
     "metadata": {
      "needs_background": "light"
     },
     "output_type": "display_data"
    },
    {
     "name": "stdout",
     "output_type": "stream",
     "text": [
      "Compute valiation accuracy\n",
      "2023-01-17 16:03:34.871943\n",
      "Range of scores: 0.14404525 to 0.9879269\n",
      "Predicted zeros and ones 141 2176\n",
      "Accuracy: 74.41% Precision: 76.15% Recall: 95.73% F1: 84.82%\n",
      "2023-01-17 16:03:45.790698\n",
      "Fold 4\n",
      "Training example\n",
      "[147  73  35 ...   0   0   0]\n",
      "Train sizes (9247, 2997) (9247, 1)\n",
      "Valid sizes (2233, 2997) (2233, 1)\n",
      "Train set ones/size 6820 / 9247\n",
      "Valid set ones/size 1557 / 2233\n",
      "BUILD MODEL\n",
      "COMPILE\n",
      "FIT\n",
      "2023-01-17 16:03:48.260375\n",
      "Epoch 1/3\n",
      "289/289 [==============================] - 54s 178ms/step - loss: 0.5492 - accuracy: 0.7359 - val_loss: 0.5716 - val_accuracy: 0.7062\n",
      "Epoch 2/3\n",
      "289/289 [==============================] - 50s 173ms/step - loss: 0.5188 - accuracy: 0.7527 - val_loss: 0.5999 - val_accuracy: 0.7071\n",
      "Epoch 3/3\n",
      "289/289 [==============================] - 51s 177ms/step - loss: 0.4818 - accuracy: 0.7729 - val_loss: 0.6204 - val_accuracy: 0.6892\n"
     ]
    },
    {
     "data": {
      "image/png": "[encoded data removed]",
      "text/plain": [
       "<Figure size 576x360 with 1 Axes>"
      ]
     },
     "metadata": {
      "needs_background": "light"
     },
     "output_type": "display_data"
    },
    {
     "name": "stdout",
     "output_type": "stream",
     "text": [
      "Compute valiation accuracy\n",
      "2023-01-17 16:06:24.155097\n",
      "Range of scores: 0.14049672 to 0.9920678\n",
      "Predicted zeros and ones 272 1961\n",
      "Accuracy: 68.92% Precision: 72.00% Recall: 90.69% F1: 80.27%\n",
      "2023-01-17 16:06:30.049020\n",
      "Fold 5\n",
      "Training example\n",
      "[169 163 140 ...   0   0   0]\n",
      "Train sizes (9239, 2997) (9239, 1)\n",
      "Valid sizes (2241, 2997) (2241, 1)\n",
      "Train set ones/size 6747 / 9239\n",
      "Valid set ones/size 1630 / 2241\n",
      "BUILD MODEL\n",
      "COMPILE\n",
      "FIT\n",
      "2023-01-17 16:06:32.470582\n",
      "Epoch 1/3\n",
      "289/289 [==============================] - 55s 179ms/step - loss: 0.5632 - accuracy: 0.7287 - val_loss: 0.5626 - val_accuracy: 0.7224\n",
      "Epoch 2/3\n",
      "289/289 [==============================] - 50s 174ms/step - loss: 0.5218 - accuracy: 0.7477 - val_loss: 0.5640 - val_accuracy: 0.7202\n",
      "Epoch 3/3\n",
      "289/289 [==============================] - 50s 174ms/step - loss: 0.4849 - accuracy: 0.7745 - val_loss: 0.5781 - val_accuracy: 0.7059\n"
     ]
    },
    {
     "data": {
      "image/png": "[encoded data removed]",
      "text/plain": [
       "<Figure size 576x360 with 1 Axes>"
      ]
     },
     "metadata": {
      "needs_background": "light"
     },
     "output_type": "display_data"
    },
    {
     "name": "stdout",
     "output_type": "stream",
     "text": [
      "Compute valiation accuracy\n",
      "2023-01-17 16:09:57.485526\n",
      "Range of scores: 0.09910076 to 0.99298215\n",
      "Predicted zeros and ones 352 1889\n",
      "Accuracy: 70.59% Precision: 75.70% Recall: 87.73% F1: 81.27%\n",
      "2023-01-17 16:10:03.445885\n",
      "\n",
      "Cross validation 5 folds 3 epochs\n",
      " accuracy mean 71.79% +/- 1.89\n",
      " precision mean 75.41% +/- 1.75\n",
      " recall mean 90.98% +/- 2.81\n",
      " F1 mean 82.44% +/- 1.59\n",
      "2023-01-17 16:10:03.448081\n"
     ]
    }
   ],
   "source": [
    "print(datetime.now())\n",
    "cvdo = CrossValidator(EPOCHS,FOLDS,BREAK)\n",
    "cv_accuracy, cv_precision, cv_recall, cv_f1 = cvdo.do_cross_validation()   \n",
    "print(\"Cross validation %d folds %d epochs\" % (FOLDS,EPOCHS)) \n",
    "print(\" accuracy mean %.2f%% +/- %.2f\" % (np.mean(cv_accuracy), np.std(cv_accuracy)))\n",
    "print(\" precision mean %.2f%% +/- %.2f\" % (np.mean(cv_precision), np.std(cv_precision)))\n",
    "print(\" recall mean %.2f%% +/- %.2f\" % (np.mean(cv_recall), np.std(cv_recall)))\n",
    "print(\" F1 mean %.2f%% +/- %.2f\" % (np.mean(cv_f1), np.std(cv_f1)))\n",
    "print(datetime.now())"
   ]
  },
  {
   "cell_type": "code",
   "execution_count": 40,
   "metadata": {
    "id": "HkCeDg_HdQ36"
   },
   "outputs": [],
   "source": []
  }
 ],
 "metadata": {
  "accelerator": "GPU",
  "colab": {
   "provenance": []
  },
  "gpuClass": "standard",
  "kernelspec": {
   "display_name": "Python 3 (ipykernel)",
   "language": "python",
   "name": "python3"
  },
  "language_info": {
   "codemirror_mode": {
    "name": "ipython",
    "version": 3
   },
   "file_extension": ".py",
   "mimetype": "text/x-python",
   "name": "python",
   "nbconvert_exporter": "python",
   "pygments_lexer": "ipython3",
   "version": "3.10.0"
  }
 },
 "nbformat": 4,
 "nbformat_minor": 1
}
