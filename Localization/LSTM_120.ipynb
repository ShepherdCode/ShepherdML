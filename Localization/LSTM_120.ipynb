{
  "cells": [
    {
      "cell_type": "markdown",
      "metadata": {
        "id": "PG-tGRnlFLA3"
      },
      "source": [
        "# LSTM\n",
        "Try LSTM(16) with Integer K-mers, Embedding, Mask Zero, and Return Sequences = False."
      ]
    },
    {
      "cell_type": "code",
      "execution_count": 14,
      "metadata": {
        "colab": {
          "base_uri": "https://localhost:8080/"
        },
        "id": "0RmwUsVLFLA6",
        "outputId": "1be70693-e197-4468-eaec-a4bf7f79a363"
      },
      "outputs": [
        {
          "output_type": "stream",
          "name": "stdout",
          "text": [
            "2022-12-12 00:48:48.488736\n",
            "Python 3.8.16\n",
            "sklearn 1.0.2\n"
          ]
        }
      ],
      "source": [
        "from datetime import datetime\n",
        "print(datetime.now())\n",
        "from platform import python_version\n",
        "print('Python',python_version())\n",
        "import numpy as np\n",
        "import pandas as pd\n",
        "from matplotlib import pyplot as plt \n",
        "import sklearn   # pip install --upgrade scikit-learn\n",
        "print('sklearn',sklearn.__version__)"
      ]
    },
    {
      "cell_type": "markdown",
      "metadata": {
        "id": "tUtGXPrcFLA8"
      },
      "source": [
        "We prevously used sklearn.model_selection.ShuffleSplit   \n",
        "Now we avoid it due to this note in the \n",
        "[documentation](https://scikit-learn.org/stable/modules/generated/sklearn.model_selection.ShuffleSplit.html):\n",
        "Note: contrary to other cross-validation strategies, random splits do not guarantee that all folds will be different, although this is still very likely for sizeable datasets."
      ]
    },
    {
      "cell_type": "code",
      "execution_count": 15,
      "metadata": {
        "id": "PRX-UEr8FLA8"
      },
      "outputs": [],
      "source": [
        "import tensorflow as tf\n",
        "dt='float32'\n",
        "tf.keras.backend.set_floatx('float32')\n",
        "tf.random.set_seed(42) \n",
        "\n",
        "from tensorflow import keras\n",
        "from sklearn.model_selection import KFold\n",
        "#from sklearn.preprocessing import OneHotEncoder\n",
        "from keras.models import Sequential\n",
        "from keras.layers import Masking\n",
        "from keras.layers import Embedding\n",
        "from keras.layers import Bidirectional\n",
        "from keras.layers import LSTM\n",
        "from keras.layers import Dense\n",
        "from keras.layers import Dropout\n",
        "from keras.losses import BinaryCrossentropy\n",
        "\n",
        "K=4\n",
        "EPOCHS=10\n",
        "FOLDS=5  \n",
        "BREAK = False   # break after first fold\n",
        "MINLEN=1000\n",
        "MAXLEN=4000   # this is problematic as some genes will be excluded entirely or partially"
      ]
    },
    {
      "cell_type": "code",
      "execution_count": 16,
      "metadata": {
        "colab": {
          "base_uri": "https://localhost:8080/"
        },
        "id": "OlzN9OdsFWEU",
        "outputId": "fca51153-8460-4f28-ef74-63be10e7bc0f"
      },
      "outputs": [
        {
          "output_type": "stream",
          "name": "stdout",
          "text": [
            "Running on CoLab\n",
            "Drive already mounted at /content/drive/; to attempt to forcibly remount, call drive.mount(\"/content/drive/\", force_remount=True).\n",
            "/content/drive/My Drive/data/Localization/TrainTest/\n"
          ]
        }
      ],
      "source": [
        "try:\n",
        "    from google.colab import drive\n",
        "    IN_COLAB = True\n",
        "    print('Running on CoLab')\n",
        "    PATH='/content/drive/'\n",
        "    drive.mount(PATH)\n",
        "    DATA_DIR=PATH+'My Drive/data/Localization/TrainTest/'  # must end in \"/\"\n",
        "except:\n",
        "    IN_COLAB = False\n",
        "    DATA_DIR = 'D:/Adjeroh/Localization/TrainTest/'   # Windows\n",
        "    DATA_DIR = '/Users/jasonmiller/WVU/Localization/TrainTest/'    # Mac\n",
        "print(DATA_DIR)"
      ]
    },
    {
      "cell_type": "code",
      "execution_count": 17,
      "metadata": {
        "id": "LnkpVKdMFLA-"
      },
      "outputs": [],
      "source": [
        "GENES_FILE =    'CNRCI_noncoding_train_genes.csv'\n",
        "RCI_FILE =      'CNRCI_noncoding_train_RCI.gc42.csv'\n",
        "SEQUENCE_FILE = 'CNRCI_noncoding_train_transcripts.gc42.csv'\n",
        "COUNTS_FILE=    'CNRCI_noncoding_train_counts.K4.gc42.csv'"
      ]
    },
    {
      "cell_type": "code",
      "execution_count": 18,
      "metadata": {
        "colab": {
          "base_uri": "https://localhost:8080/"
        },
        "id": "e3p4QzQJFLA_",
        "outputId": "7fb7fdf5-fb76-4500-9385-14844bb1b3a2"
      },
      "outputs": [
        {
          "output_type": "stream",
          "name": "stdout",
          "text": [
            "Cell line for today: 1 = H1.hESC\n"
          ]
        }
      ],
      "source": [
        "def get_ordered_list():\n",
        "    ordered_list = \\\n",
        "    ['A549',\\\n",
        "      'H1.hESC',\\\n",
        "      'HeLa.S3',\\\n",
        "      'HepG2',\\\n",
        "      'HT1080',\\\n",
        "      'HUVEC',\\\n",
        "      'MCF.7',\\\n",
        "      'NCI.H460',\\\n",
        "      'NHEK',\\\n",
        "      'SK.MEL.5',\\\n",
        "      'SK.N.DZ',\\\n",
        "      'SK.N.SH',\\\n",
        "      'GM12878',\\\n",
        "      'K562',\\\n",
        "      'IMR.90']\n",
        "    return ordered_list\n",
        "CELL_LINE_NUMBER=1\n",
        "all_cell_lines = get_ordered_list()\n",
        "cell_line_name = all_cell_lines[CELL_LINE_NUMBER]\n",
        "print('Cell line for today:',CELL_LINE_NUMBER,'=',cell_line_name)"
      ]
    },
    {
      "cell_type": "markdown",
      "metadata": {
        "id": "UtqdpJOxFLBA"
      },
      "source": [
        "## Data Load"
      ]
    },
    {
      "cell_type": "code",
      "execution_count": 19,
      "metadata": {
        "colab": {
          "base_uri": "https://localhost:8080/"
        },
        "id": "cYoYDc93FLBB",
        "outputId": "dbe810d7-4a34-45ec-e460-7bf1d9207d04"
      },
      "outputs": [
        {
          "output_type": "stream",
          "name": "stdout",
          "text": [
            "2022-12-12 00:48:50.670815\n",
            "Num RCI: 3327\n",
            "[('ENSG00000099869', 1.0), ('ENSG00000116652', 1.65208), ('ENSG00000117242', -0.793877)]\n"
          ]
        }
      ],
      "source": [
        "print(datetime.now())\n",
        "# labels\n",
        "filepath = DATA_DIR+RCI_FILE\n",
        "gene_to_rci = {}\n",
        "with open (filepath,'r') as handle:\n",
        "    header = None\n",
        "    for row in handle:\n",
        "        if header is None:\n",
        "            header = row\n",
        "        else:\n",
        "            line = row.strip()\n",
        "            fields = line.split(',')\n",
        "            gene_id = fields[0]\n",
        "            rci_val = fields[CELL_LINE_NUMBER+1]\n",
        "            # Could implement Gudenas style threshold here\n",
        "            if rci_val != \"nan\":\n",
        "                gene_to_rci[gene_id] = float(rci_val)\n",
        "print('Num RCI:', len(gene_to_rci.keys()))\n",
        "print(list(gene_to_rci.items())[:3])\n",
        "all_genes = list(gene_to_rci.keys())"
      ]
    },
    {
      "cell_type": "code",
      "execution_count": 20,
      "metadata": {
        "colab": {
          "base_uri": "https://localhost:8080/"
        },
        "id": "bNrOKHddFycs",
        "outputId": "b0f7148e-31c9-4411-e440-acdebfea9010"
      },
      "outputs": [
        {
          "output_type": "stream",
          "name": "stdout",
          "text": [
            "[1, 1]\n",
            "[20, 16]\n",
            "[63, 57]\n",
            "[64, 0]\n"
          ]
        }
      ],
      "source": [
        "def seq_to_kmers(rna,K):\n",
        "    VALS = {'A':0, 'C':1, 'G':2, 'T':3}\n",
        "    length = len(rna)\n",
        "    vec=[]\n",
        "    for i in range(length-K+1):\n",
        "        value = 0\n",
        "        for j in range(K):\n",
        "            value *= 4   \n",
        "            nextnuc = rna[i+j]\n",
        "            if nextnuc=='N':\n",
        "                value = -1   # indicate an N\n",
        "                break\n",
        "            nucval = VALS[nextnuc]\n",
        "            value += nucval\n",
        "        value += 1   # NNN => 0, AAA => 1\n",
        "        vec.append(value)\n",
        "    return vec\n",
        "print(seq_to_kmers('AAAA',3))\n",
        "print(seq_to_kmers('CATT',3))\n",
        "print(seq_to_kmers('TTGA',3))\n",
        "print(seq_to_kmers('TTTN',3))"
      ]
    },
    {
      "cell_type": "code",
      "execution_count": 21,
      "metadata": {
        "colab": {
          "base_uri": "https://localhost:8080/"
        },
        "id": "ooyTeQr-FLBB",
        "outputId": "4f9850e0-c291-4cba-9538-3ee3fe705cfd"
      },
      "outputs": [
        {
          "output_type": "stream",
          "name": "stdout",
          "text": [
            "2022-12-12 00:48:50.711685\n",
            "Load sequence\n",
            "2022-12-12 00:49:14.025300\n",
            "Num IDs: 8564\n",
            "Num labels: 8564\n",
            "Num counts: 8564\n"
          ]
        }
      ],
      "source": [
        "print(datetime.now())\n",
        "print('Load sequence')\n",
        "filepath = DATA_DIR+SEQUENCE_FILE\n",
        "labels=[]\n",
        "allids=[]\n",
        "allseq=[]\n",
        "NREPEAT = str('N'*MAXLEN)\n",
        "with open (filepath,'r') as handle:\n",
        "    header = None\n",
        "    for row in handle:\n",
        "        if header is None:\n",
        "            header = row\n",
        "        else:\n",
        "            line    = row.strip()\n",
        "            fields  = line.split(',')\n",
        "            tran_id = fields[0]  # with version number\n",
        "            gene_id = fields[1]        # without version number\n",
        "            seq_len = int(fields[3])\n",
        "            seq_txt = fields[4]\n",
        "            if seq_len>=MINLEN and seq_len<=MAXLEN and gene_id in gene_to_rci.keys():\n",
        "                rci_val = gene_to_rci[gene_id]\n",
        "                allids.append( (gene_id,tran_id) )\n",
        "                labels.append(rci_val)\n",
        "                if seq_len<MAXLEN:\n",
        "                    seq_txt = seq_txt + NREPEAT\n",
        "                    seq_txt = seq_txt[:MAXLEN]\n",
        "                hot_vec = seq_to_kmers(seq_txt,K)\n",
        "                allseq.append(hot_vec)\n",
        "print(datetime.now())\n",
        "print('Num IDs:',len(allids))\n",
        "#print('Examples:',[allids[x] for x in [10, 20, 30, 40]] )\n",
        "print('Num labels:',len(labels))\n",
        "#print('Examples:',[labels[x] for x in [10, 20, 30, 40]] )\n",
        "print('Num counts:',len(allseq))\n",
        "#print('Example:',allseq[3])"
      ]
    },
    {
      "cell_type": "code",
      "execution_count": 22,
      "metadata": {
        "id": "W9xiFzNbFLBE"
      },
      "outputs": [],
      "source": [
        "def get_gene_subset(all_genes,sub_index):\n",
        "    sub_genes = set()\n",
        "    for index in sub_index:\n",
        "        one_gene = all_genes[index]\n",
        "        sub_genes.add(one_gene)\n",
        "    return sub_genes\n",
        "def get_X_y(gene_set,allids,allX,allY,threshold):\n",
        "    cnt = len(allids)\n",
        "    subsetX=[]\n",
        "    subsetY=[]\n",
        "    if cnt != len(allX) or cnt!= len(allY):\n",
        "        raise Exception('Lengths differ')\n",
        "    for i in range(cnt):\n",
        "        gene_id,tran_id = allids[i]\n",
        "        if gene_id in gene_set:\n",
        "            oneX = allX[i]\n",
        "            oneY = allY[i]\n",
        "            if oneY < threshold:\n",
        "                Yvalue = int(0)\n",
        "            else:\n",
        "                Yvalue = int(1)\n",
        "            subsetX.append(oneX)\n",
        "            subsetY.append(Yvalue)\n",
        "    subsetX = np.array(subsetX)\n",
        "    subsetY = np.array(subsetY).reshape((-1,1))\n",
        "    return subsetX,subsetY"
      ]
    },
    {
      "cell_type": "code",
      "execution_count": 23,
      "metadata": {
        "id": "AwMbRjm0FLBF"
      },
      "outputs": [],
      "source": [
        "def build_model():\n",
        "    ALPHABET=4**K+1  # NUMBER OF DISTINCT KMERS POSSIBLE, add one if N gets mask value\n",
        "    EMBED_DIMEN = 16 # arbitrary hyperparameter\n",
        "    ADJUST_LENGTH = MAXLEN-K+1  # fixed length sequences\n",
        "    rnn = Sequential()\n",
        "    # To do: try with and without masking layer\n",
        "    # To do: try the embedding layer with mask, instead of masking layer\n",
        "    #mask_layer = Masking(mask_value=0, input_shape=(ADJUST_LENGTH, K))\n",
        "    #mask_layer = Masking(mask_value=0, input_shape=(ADJUST_LENGTH, 1))\n",
        "    # This layer automatically converts inputs to one-hot using alphabet size.\n",
        "    embed_layer = Embedding(ALPHABET,EMBED_DIMEN,input_length=ADJUST_LENGTH,mask_zero=True)   \n",
        "    # rnn1_layer = LSTM(16, return_sequences=True, input_shape=[MAXLEN,DIMEN]) \n",
        "    rnn1_layer = LSTM(16, return_sequences=False) # True)\n",
        "    # rnn1_layer = Bidirectional( LSTM(32, return_sequences=True) )\n",
        "    # rnn1_layer = LSTM(16, return_sequences=True) \n",
        "    # rnn2_layer = LSTM(16, return_sequences=True)\n",
        "    # Dense can handle sequence input. Is it the best thing to do?\n",
        "    # dense1_layer = Dense(16,activation='sigmoid',dtype=dt)\n",
        "    # dropout1_layer = Dropout(0.50)\n",
        "    output_layer = Dense(1,activation='sigmoid',dtype=dt)\n",
        "\n",
        "    #rnn.add(mask_layer)\n",
        "    rnn.add(embed_layer)\n",
        "    rnn.add(rnn1_layer)\n",
        "    #rnn.add(rnn2_layer)\n",
        "    #rnn.add(dense1_layer)\n",
        "    #rnn.add(dropout1_layer)\n",
        "    #rnn.add(dense2_layer)\n",
        "    rnn.add(output_layer)\n",
        "\n",
        "    bc=BinaryCrossentropy(from_logits=False)\n",
        "    print(\"COMPILE\")\n",
        "    rnn.compile(loss=bc, optimizer=\"Adam\",metrics=[\"accuracy\"])\n",
        "    return rnn"
      ]
    },
    {
      "cell_type": "code",
      "execution_count": 24,
      "metadata": {
        "colab": {
          "base_uri": "https://localhost:8080/"
        },
        "id": "clj-wufgFLBF",
        "outputId": "34498e2b-ee0c-4b93-932f-35bbfda9cb4a"
      },
      "outputs": [
        {
          "output_type": "stream",
          "name": "stdout",
          "text": [
            "2022-12-12 00:49:14.065503\n",
            "COMPILE\n",
            "Model: \"sequential_6\"\n",
            "_________________________________________________________________\n",
            " Layer (type)                Output Shape              Param #   \n",
            "=================================================================\n",
            " embedding_6 (Embedding)     (None, 3997, 16)          4112      \n",
            "                                                                 \n",
            " lstm_6 (LSTM)               (None, 16)                2112      \n",
            "                                                                 \n",
            " dense_6 (Dense)             (None, 1)                 17        \n",
            "                                                                 \n",
            "=================================================================\n",
            "Total params: 6,241\n",
            "Trainable params: 6,241\n",
            "Non-trainable params: 0\n",
            "_________________________________________________________________\n",
            "None\n"
          ]
        }
      ],
      "source": [
        "print(datetime.now())\n",
        "model=build_model()\n",
        "print(model.summary())  # Print this only once"
      ]
    },
    {
      "cell_type": "code",
      "execution_count": 25,
      "metadata": {
        "colab": {
          "base_uri": "https://localhost:8080/"
        },
        "id": "CqO0a9evFLBG",
        "outputId": "b86a7e79-60f2-4b3e-e2c1-8a49cc1e0f7f"
      },
      "outputs": [
        {
          "output_type": "stream",
          "name": "stdout",
          "text": [
            "2022-12-12 00:49:14.926970\n"
          ]
        }
      ],
      "source": [
        "def do_cross_validation(eps):\n",
        "    cv_scores = []\n",
        "    fold=0\n",
        "    print(datetime.now())\n",
        "    print('splitting')\n",
        "    # KFold shuffles once before making the partitions\n",
        "    splitter = KFold(n_splits=FOLDS,shuffle=True,random_state=42)\n",
        "    for train_index,valid_index in splitter.split(all_genes):\n",
        "        fold += 1\n",
        "        print('Fold',fold)\n",
        "        train_genes = get_gene_subset(all_genes,train_index)\n",
        "        valid_genes = get_gene_subset(all_genes,valid_index)\n",
        "        X_train,y_train = get_X_y(train_genes,allids,allseq,labels,0)\n",
        "        X_valid,y_valid = get_X_y(valid_genes,allids,allseq,labels,0)\n",
        "\n",
        "        print('Training example')\n",
        "        print(X_train[0])\n",
        "        \n",
        "        print('Train sizes',X_train.shape,y_train.shape)\n",
        "        print('Valid sizes',X_valid.shape,y_valid.shape)\n",
        "        print('Train set ones/size',\n",
        "              np.count_nonzero(y_train),'/',len(y_train))\n",
        "        print('Valid set ones/size',\n",
        "              np.count_nonzero(y_valid),'/',len(y_valid))\n",
        "\n",
        "        print(\"BUILD MODEL\")\n",
        "        model=build_model()\n",
        "\n",
        "        print(\"FIT\")\n",
        "        print(datetime.now())\n",
        "        history=model.fit(X_train, y_train, # batch_size=10, default=32 works nicely\n",
        "                epochs=EPOCHS, verbose=1,  # verbose=1 for ascii art, verbose=0 for none\n",
        "                validation_data=(X_valid,y_valid) )\n",
        "\n",
        "        pd.DataFrame(history.history).plot(figsize=(8,5))\n",
        "        plt.grid(True)\n",
        "        plt.gca().set_ylim(0,1)\n",
        "        plt.show()\n",
        "\n",
        "        print(\"Compute valiation accuracy\")\n",
        "        print(datetime.now())\n",
        "        scores = model.evaluate(X_valid, y_valid, verbose=0)\n",
        "        print(\"%s: %.2f%%\" % (model.metrics_names[1], scores[1]*100))\n",
        "        print(datetime.now())\n",
        "        cv_scores.append(scores[1] * 100)\n",
        "        \n",
        "        if BREAK:\n",
        "            break\n",
        "        \n",
        "    print()\n",
        "    return cv_scores\n",
        "print(datetime.now())"
      ]
    },
    {
      "cell_type": "code",
      "execution_count": 26,
      "metadata": {
        "colab": {
          "base_uri": "https://localhost:8080/",
          "height": 1000
        },
        "id": "XC9m0W-pFLBH",
        "outputId": "121e0b39-9af1-41ea-aec3-0c04949f1bcd",
        "scrolled": false
      },
      "outputs": [
        {
          "output_type": "stream",
          "name": "stdout",
          "text": [
            "2022-12-12 00:49:14.949027\n",
            "2022-12-12 00:49:14.949155\n",
            "splitting\n",
            "Fold 1\n",
            "Training example\n",
            "[ 57 228 143 ...   0   0   0]\n",
            "Train sizes (6777, 3997) (6777, 1)\n",
            "Valid sizes (1787, 3997) (1787, 1)\n",
            "Train set ones/size 2754 / 6777\n",
            "Valid set ones/size 765 / 1787\n",
            "BUILD MODEL\n",
            "COMPILE\n",
            "FIT\n",
            "2022-12-12 00:49:17.670871\n",
            "Epoch 1/10\n",
            "212/212 [==============================] - 28s 112ms/step - loss: 0.6679 - accuracy: 0.5997 - val_loss: 0.7121 - val_accuracy: 0.5825\n",
            "Epoch 2/10\n",
            "212/212 [==============================] - 23s 108ms/step - loss: 0.6346 - accuracy: 0.6389 - val_loss: 0.7490 - val_accuracy: 0.5881\n",
            "Epoch 3/10\n",
            "212/212 [==============================] - 24s 115ms/step - loss: 0.6208 - accuracy: 0.6634 - val_loss: 0.7406 - val_accuracy: 0.5439\n",
            "Epoch 4/10\n",
            "212/212 [==============================] - 23s 109ms/step - loss: 0.6085 - accuracy: 0.6684 - val_loss: 0.7536 - val_accuracy: 0.5792\n",
            "Epoch 5/10\n",
            "212/212 [==============================] - 23s 106ms/step - loss: 0.5959 - accuracy: 0.6887 - val_loss: 0.7639 - val_accuracy: 0.5232\n",
            "Epoch 6/10\n",
            "212/212 [==============================] - 22s 106ms/step - loss: 0.5863 - accuracy: 0.6968 - val_loss: 0.7790 - val_accuracy: 0.5579\n",
            "Epoch 7/10\n",
            "212/212 [==============================] - 23s 106ms/step - loss: 0.5763 - accuracy: 0.7087 - val_loss: 0.7916 - val_accuracy: 0.5305\n",
            "Epoch 8/10\n",
            "212/212 [==============================] - 22s 105ms/step - loss: 0.5695 - accuracy: 0.7108 - val_loss: 0.7986 - val_accuracy: 0.5551\n",
            "Epoch 9/10\n",
            "212/212 [==============================] - 23s 108ms/step - loss: 0.5605 - accuracy: 0.7226 - val_loss: 0.8206 - val_accuracy: 0.5680\n",
            "Epoch 10/10\n",
            "212/212 [==============================] - 24s 116ms/step - loss: 0.5524 - accuracy: 0.7242 - val_loss: 0.7785 - val_accuracy: 0.5887\n"
          ]
        },
        {
          "output_type": "display_data",
          "data": {
            "text/plain": [
              "<Figure size 576x360 with 1 Axes>"
            ],
            "image/png": "[encoded data removed]"
          },
          "metadata": {
            "needs_background": "light"
          }
        },
        {
          "output_type": "stream",
          "name": "stdout",
          "text": [
            "Compute valiation accuracy\n",
            "2022-12-12 00:53:13.391348\n",
            "accuracy: 58.87%\n",
            "2022-12-12 00:53:15.787870\n",
            "Fold 2\n",
            "Training example\n",
            "[121 228 142 ...   0   0   0]\n",
            "Train sizes (6893, 3997) (6893, 1)\n",
            "Valid sizes (1671, 3997) (1671, 1)\n",
            "Train set ones/size 2899 / 6893\n",
            "Valid set ones/size 620 / 1671\n",
            "BUILD MODEL\n",
            "COMPILE\n",
            "FIT\n",
            "2022-12-12 00:53:18.456180\n",
            "Epoch 1/10\n",
            "216/216 [==============================] - 27s 109ms/step - loss: 0.6699 - accuracy: 0.5934 - val_loss: 0.6511 - val_accuracy: 0.6254\n",
            "Epoch 2/10\n",
            "216/216 [==============================] - 22s 103ms/step - loss: 0.6310 - accuracy: 0.6453 - val_loss: 0.6733 - val_accuracy: 0.5619\n",
            "Epoch 3/10\n",
            "216/216 [==============================] - 23s 104ms/step - loss: 0.6111 - accuracy: 0.6628 - val_loss: 0.7070 - val_accuracy: 0.5254\n",
            "Epoch 4/10\n",
            "216/216 [==============================] - 23s 105ms/step - loss: 0.5997 - accuracy: 0.6778 - val_loss: 0.6924 - val_accuracy: 0.5661\n",
            "Epoch 5/10\n",
            "216/216 [==============================] - 23s 104ms/step - loss: 0.5861 - accuracy: 0.6924 - val_loss: 0.6883 - val_accuracy: 0.6020\n",
            "Epoch 6/10\n",
            "216/216 [==============================] - 23s 105ms/step - loss: 0.5790 - accuracy: 0.6994 - val_loss: 0.6989 - val_accuracy: 0.5990\n",
            "Epoch 7/10\n",
            "216/216 [==============================] - 24s 109ms/step - loss: 0.5716 - accuracy: 0.7081 - val_loss: 0.7300 - val_accuracy: 0.5727\n",
            "Epoch 8/10\n",
            "216/216 [==============================] - 23s 106ms/step - loss: 0.5571 - accuracy: 0.7223 - val_loss: 0.7513 - val_accuracy: 0.5931\n",
            "Epoch 9/10\n",
            "216/216 [==============================] - 24s 109ms/step - loss: 0.5503 - accuracy: 0.7210 - val_loss: 0.7403 - val_accuracy: 0.5931\n",
            "Epoch 10/10\n",
            "216/216 [==============================] - 23s 106ms/step - loss: 0.5381 - accuracy: 0.7299 - val_loss: 0.7866 - val_accuracy: 0.5966\n"
          ]
        },
        {
          "output_type": "display_data",
          "data": {
            "text/plain": [
              "<Figure size 576x360 with 1 Axes>"
            ],
            "image/png": "[encoded data removed]"
          },
          "metadata": {
            "needs_background": "light"
          }
        },
        {
          "output_type": "stream",
          "name": "stdout",
          "text": [
            "Compute valiation accuracy\n",
            "2022-12-12 00:57:44.171183\n",
            "accuracy: 59.66%\n",
            "2022-12-12 00:57:46.570468\n",
            "Fold 3\n",
            "Training example\n",
            "[121 228 142 ...   0   0   0]\n",
            "Train sizes (7029, 3997) (7029, 1)\n",
            "Valid sizes (1535, 3997) (1535, 1)\n",
            "Train set ones/size 2994 / 7029\n",
            "Valid set ones/size 525 / 1535\n",
            "BUILD MODEL\n",
            "COMPILE\n",
            "FIT\n",
            "2022-12-12 00:57:49.265880\n",
            "Epoch 1/10\n",
            "220/220 [==============================] - 27s 107ms/step - loss: 0.6671 - accuracy: 0.5898 - val_loss: 0.6586 - val_accuracy: 0.6248\n",
            "Epoch 2/10\n",
            "220/220 [==============================] - 24s 107ms/step - loss: 0.6346 - accuracy: 0.6372 - val_loss: 0.6573 - val_accuracy: 0.6300\n",
            "Epoch 3/10\n",
            "220/220 [==============================] - 23s 105ms/step - loss: 0.6209 - accuracy: 0.6506 - val_loss: 0.6803 - val_accuracy: 0.5557\n",
            "Epoch 4/10\n",
            "220/220 [==============================] - 23s 105ms/step - loss: 0.6087 - accuracy: 0.6644 - val_loss: 0.6690 - val_accuracy: 0.6091\n",
            "Epoch 5/10\n",
            "220/220 [==============================] - 23s 104ms/step - loss: 0.5984 - accuracy: 0.6817 - val_loss: 0.6892 - val_accuracy: 0.5550\n",
            "Epoch 6/10\n",
            "220/220 [==============================] - 23s 104ms/step - loss: 0.5860 - accuracy: 0.6863 - val_loss: 0.6885 - val_accuracy: 0.5974\n",
            "Epoch 7/10\n",
            "220/220 [==============================] - 22s 101ms/step - loss: 0.5728 - accuracy: 0.7017 - val_loss: 0.7239 - val_accuracy: 0.5603\n",
            "Epoch 8/10\n",
            "220/220 [==============================] - 23s 102ms/step - loss: 0.5583 - accuracy: 0.7173 - val_loss: 0.7386 - val_accuracy: 0.5759\n",
            "Epoch 9/10\n",
            "220/220 [==============================] - 24s 108ms/step - loss: 0.5453 - accuracy: 0.7247 - val_loss: 0.7532 - val_accuracy: 0.5537\n",
            "Epoch 10/10\n",
            "220/220 [==============================] - 23s 102ms/step - loss: 0.5383 - accuracy: 0.7294 - val_loss: 0.7719 - val_accuracy: 0.5485\n"
          ]
        },
        {
          "output_type": "display_data",
          "data": {
            "text/plain": [
              "<Figure size 576x360 with 1 Axes>"
            ],
            "image/png": "[encoded data removed]"
          },
          "metadata": {
            "needs_background": "light"
          }
        },
        {
          "output_type": "stream",
          "name": "stdout",
          "text": [
            "Compute valiation accuracy\n",
            "2022-12-12 01:02:14.545144\n",
            "accuracy: 54.85%\n",
            "2022-12-12 01:02:16.725664\n",
            "Fold 4\n",
            "Training example\n",
            "[121 228 142 ...   0   0   0]\n",
            "Train sizes (6732, 3997) (6732, 1)\n",
            "Valid sizes (1832, 3997) (1832, 1)\n",
            "Train set ones/size 2666 / 6732\n",
            "Valid set ones/size 853 / 1832\n",
            "BUILD MODEL\n",
            "COMPILE\n",
            "FIT\n",
            "2022-12-12 01:02:19.364516\n",
            "Epoch 1/10\n",
            "211/211 [==============================] - 28s 114ms/step - loss: 0.6590 - accuracy: 0.6120 - val_loss: 0.6997 - val_accuracy: 0.5524\n",
            "Epoch 2/10\n",
            "211/211 [==============================] - 22s 105ms/step - loss: 0.6245 - accuracy: 0.6502 - val_loss: 0.7022 - val_accuracy: 0.5622\n",
            "Epoch 3/10\n",
            "211/211 [==============================] - 22s 105ms/step - loss: 0.6124 - accuracy: 0.6676 - val_loss: 0.7029 - val_accuracy: 0.5655\n",
            "Epoch 4/10\n",
            "211/211 [==============================] - 22s 105ms/step - loss: 0.6052 - accuracy: 0.6726 - val_loss: 0.7091 - val_accuracy: 0.5579\n",
            "Epoch 5/10\n",
            "211/211 [==============================] - 23s 111ms/step - loss: 0.5967 - accuracy: 0.6809 - val_loss: 0.7510 - val_accuracy: 0.5540\n",
            "Epoch 6/10\n",
            "211/211 [==============================] - 22s 106ms/step - loss: 0.5860 - accuracy: 0.6910 - val_loss: 0.7604 - val_accuracy: 0.5475\n",
            "Epoch 7/10\n",
            "211/211 [==============================] - 22s 106ms/step - loss: 0.5744 - accuracy: 0.7041 - val_loss: 0.7655 - val_accuracy: 0.5355\n",
            "Epoch 8/10\n",
            "211/211 [==============================] - 23s 107ms/step - loss: 0.5706 - accuracy: 0.7093 - val_loss: 0.7543 - val_accuracy: 0.5246\n",
            "Epoch 9/10\n",
            "211/211 [==============================] - 22s 106ms/step - loss: 0.5588 - accuracy: 0.7239 - val_loss: 0.8176 - val_accuracy: 0.5475\n",
            "Epoch 10/10\n",
            "211/211 [==============================] - 22s 105ms/step - loss: 0.5615 - accuracy: 0.7173 - val_loss: 0.8028 - val_accuracy: 0.5049\n"
          ]
        },
        {
          "output_type": "display_data",
          "data": {
            "text/plain": [
              "<Figure size 576x360 with 1 Axes>"
            ],
            "image/png": "[encoded data removed]"
          },
          "metadata": {
            "needs_background": "light"
          }
        },
        {
          "output_type": "stream",
          "name": "stdout",
          "text": [
            "Compute valiation accuracy\n",
            "2022-12-12 01:06:09.940817\n",
            "accuracy: 50.49%\n",
            "2022-12-12 01:06:12.429956\n",
            "Fold 5\n",
            "Training example\n",
            "[121 228 142 ...   0   0   0]\n",
            "Train sizes (6825, 3997) (6825, 1)\n",
            "Valid sizes (1739, 3997) (1739, 1)\n",
            "Train set ones/size 2763 / 6825\n",
            "Valid set ones/size 756 / 1739\n",
            "BUILD MODEL\n",
            "COMPILE\n",
            "FIT\n",
            "2022-12-12 01:06:15.058457\n",
            "Epoch 1/10\n",
            "214/214 [==============================] - 28s 111ms/step - loss: 0.6605 - accuracy: 0.6070 - val_loss: 0.6933 - val_accuracy: 0.5371\n",
            "Epoch 2/10\n",
            "214/214 [==============================] - 23s 109ms/step - loss: 0.6262 - accuracy: 0.6503 - val_loss: 0.7149 - val_accuracy: 0.5538\n",
            "Epoch 3/10\n",
            "214/214 [==============================] - 22s 104ms/step - loss: 0.6045 - accuracy: 0.6803 - val_loss: 0.7463 - val_accuracy: 0.5319\n",
            "Epoch 4/10\n",
            "214/214 [==============================] - 23s 106ms/step - loss: 0.5908 - accuracy: 0.6973 - val_loss: 0.7687 - val_accuracy: 0.5089\n",
            "Epoch 5/10\n",
            "214/214 [==============================] - 22s 105ms/step - loss: 0.5810 - accuracy: 0.7024 - val_loss: 0.7643 - val_accuracy: 0.5400\n",
            "Epoch 6/10\n",
            "214/214 [==============================] - 23s 105ms/step - loss: 0.5737 - accuracy: 0.7106 - val_loss: 0.7812 - val_accuracy: 0.4945\n",
            "Epoch 7/10\n",
            "214/214 [==============================] - 22s 105ms/step - loss: 0.5689 - accuracy: 0.7150 - val_loss: 0.7848 - val_accuracy: 0.4991\n",
            "Epoch 8/10\n",
            "214/214 [==============================] - 22s 104ms/step - loss: 0.5596 - accuracy: 0.7248 - val_loss: 0.7760 - val_accuracy: 0.5060\n",
            "Epoch 9/10\n",
            "214/214 [==============================] - 23s 109ms/step - loss: 0.5528 - accuracy: 0.7256 - val_loss: 0.8358 - val_accuracy: 0.5026\n",
            "Epoch 10/10\n",
            "214/214 [==============================] - 22s 104ms/step - loss: 0.5476 - accuracy: 0.7304 - val_loss: 0.7855 - val_accuracy: 0.5377\n"
          ]
        },
        {
          "output_type": "display_data",
          "data": {
            "text/plain": [
              "<Figure size 576x360 with 1 Axes>"
            ],
            "image/png": "[encoded data removed]"
          },
          "metadata": {
            "needs_background": "light"
          }
        },
        {
          "output_type": "stream",
          "name": "stdout",
          "text": [
            "Compute valiation accuracy\n",
            "2022-12-12 01:10:40.764935\n",
            "accuracy: 53.77%\n",
            "2022-12-12 01:10:43.214539\n",
            "\n",
            "Cross validation acc mean 55.53% (+/- 3.38%)\n",
            "2022-12-12 01:10:43.215905\n"
          ]
        }
      ],
      "source": [
        "print(datetime.now())\n",
        "cv_scores = do_cross_validation(EPOCHS)    \n",
        "print(\"Cross validation acc mean %.2f%% (+/- %.2f%%)\" % (np.mean(cv_scores), np.std(cv_scores)))\n",
        "print(datetime.now())"
      ]
    },
    {
      "cell_type": "code",
      "execution_count": 26,
      "metadata": {
        "id": "riMTsEsCFLBJ"
      },
      "outputs": [],
      "source": []
    }
  ],
  "metadata": {
    "accelerator": "GPU",
    "colab": {
      "provenance": []
    },
    "gpuClass": "standard",
    "kernelspec": {
      "display_name": "Python 3 (ipykernel)",
      "language": "python",
      "name": "python3"
    },
    "language_info": {
      "codemirror_mode": {
        "name": "ipython",
        "version": 3
      },
      "file_extension": ".py",
      "mimetype": "text/x-python",
      "name": "python",
      "nbconvert_exporter": "python",
      "pygments_lexer": "ipython3",
      "version": "3.10.0"
    }
  },
  "nbformat": 4,
  "nbformat_minor": 0
}