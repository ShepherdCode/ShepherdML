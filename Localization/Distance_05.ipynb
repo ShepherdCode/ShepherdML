{
 "cells": [
  {
   "cell_type": "markdown",
   "id": "4bbde4b0",
   "metadata": {},
   "source": [
    "# Distance\n",
    "All-vs-all at K=2 (which should be the fastest to compute)."
   ]
  },
  {
   "cell_type": "code",
   "execution_count": 1,
   "id": "cd42e135",
   "metadata": {},
   "outputs": [
    {
     "name": "stdout",
     "output_type": "stream",
     "text": [
      "2022-10-25 17:00:10.471158\n",
      "Python 3.10.6\n",
      "sklearn 1.1.2\n"
     ]
    }
   ],
   "source": [
    "from datetime import datetime\n",
    "print(datetime.now())\n",
    "from platform import python_version\n",
    "print('Python',python_version())\n",
    "import numpy as np\n",
    "import pandas as pd\n",
    "from matplotlib import pyplot as plt \n",
    "import sklearn   # pip install --upgrade scikit-learn\n",
    "print('sklearn',sklearn.__version__)"
   ]
  },
  {
   "cell_type": "code",
   "execution_count": 2,
   "id": "1d5eea09",
   "metadata": {},
   "outputs": [],
   "source": [
    "ATLAS_DIR = 'D:/Adjeroh/Localization/LncAtlas/'\n",
    "RCI_FILE = 'CNRCI_coding_train_genes.csv'\n",
    "GENCODE_DIR = 'D:/Adjeroh/Localization/GenCode/'\n",
    "COUNTS_FILE='CNRCI_coding_train_counts.K3.2byte.csv'"
   ]
  },
  {
   "cell_type": "code",
   "execution_count": 3,
   "id": "9d240c50",
   "metadata": {},
   "outputs": [],
   "source": [
    "def load_rci(filepath,cell_line_index):\n",
    "    header = None\n",
    "    data = {}\n",
    "    with open (filepath,'r') as handle:\n",
    "        for row in handle:\n",
    "            if header is None:\n",
    "                header = row\n",
    "            else:\n",
    "                fields = row.split(',')\n",
    "                gene_id = fields[0]           # gene id (without version) is in column 0\n",
    "                value = float(fields[1+cell_line_index])  # cell line 0 is in column 1\n",
    "                data[gene_id]=value\n",
    "    return(data)\n"
   ]
  },
  {
   "cell_type": "code",
   "execution_count": 4,
   "id": "9b9432d9",
   "metadata": {},
   "outputs": [],
   "source": [
    "def distance(a,b):\n",
    "    # This works because the Euclidean distance is the l2 norm, and the default value of the ord parameter in numpy.linalg.norm is 2. \n",
    "    # https://stackoverflow.com/questions/1401712/how-can-the-euclidean-distance-be-calculated-with-numpy\n",
    "    return np.linalg.norm(a-b)"
   ]
  },
  {
   "cell_type": "code",
   "execution_count": 5,
   "id": "687feb22",
   "metadata": {},
   "outputs": [],
   "source": [
    "def normalize(vec):\n",
    "    total = np.sum(vec)\n",
    "    vec = vec / total\n",
    "    return vec"
   ]
  },
  {
   "cell_type": "code",
   "execution_count": 6,
   "id": "cf0b4bd2",
   "metadata": {},
   "outputs": [],
   "source": [
    "def load_counts(filepath,min_rci,max_rci,gene_rci):\n",
    "    header = None\n",
    "    data = []\n",
    "    with open (filepath,'r') as handle:\n",
    "        for row in handle:\n",
    "            row = row.strip()\n",
    "            if header is None:\n",
    "                header = row\n",
    "            else:\n",
    "                fields = row.split(',')\n",
    "                gene_id = fields.pop(0)\n",
    "                transcript_id = fields.pop(0)\n",
    "                if gene_id in gene_rci.keys():\n",
    "                    rci = gene_rci[gene_id]\n",
    "                    if rci != float('nan'):\n",
    "                        if min_rci is None or rci>min_rci:\n",
    "                            if max_rci is None or rci<=max_rci:\n",
    "                                vector = np.asarray(fields,dtype=np.int16)\n",
    "                                normalized = normalize(vector)\n",
    "                                triple = (gene_id,transcript_id,normalized)\n",
    "                                data.append(triple)\n",
    "    return(data)"
   ]
  },
  {
   "cell_type": "code",
   "execution_count": 7,
   "id": "90e4c9f2",
   "metadata": {},
   "outputs": [],
   "source": [
    "def compute_distances(left_data,right_data):\n",
    "    tick = 0\n",
    "    tock = 1000\n",
    "    values=[]\n",
    "    left_total = len(left_data)\n",
    "    right_total = len(right_data)\n",
    "    for left_index in range(left_total):\n",
    "        left_vector = left_data[left_index][2]\n",
    "        for right_index in range(right_total):\n",
    "            right_vector = right_data[right_index][2]\n",
    "            dist = distance(left_vector, right_vector)\n",
    "            values.append(dist)\n",
    "        tick += 1\n",
    "        if tick==tock:\n",
    "            tick=0\n",
    "            print(datetime.now(),'processed',left_index)\n",
    "    return values"
   ]
  },
  {
   "cell_type": "code",
   "execution_count": 8,
   "id": "0f5e2de5",
   "metadata": {},
   "outputs": [],
   "source": [
    "def show_stats(ary):\n",
    "    print('mean',  np.mean(ary,dtype=np.float64))\n",
    "    print('stdev', np.std(ary,dtype=np.float64))"
   ]
  },
  {
   "cell_type": "code",
   "execution_count": 9,
   "id": "0fb3c02c",
   "metadata": {},
   "outputs": [],
   "source": [
    "def do_all(min_rci,max_rci):\n",
    "    print(datetime.now(), 'Load RCI values')\n",
    "    gene_rci = load_rci(ATLAS_DIR+RCI_FILE,0)\n",
    "    print(datetime.now(), 'Load K-mer counts')\n",
    "    print(COUNTS_FILE)\n",
    "    print('min_rci=',min_rci,'max_rci=',max_rci)\n",
    "    left_data = load_counts(GENCODE_DIR+COUNTS_FILE,None,max_rci,gene_rci)\n",
    "    print('Left transcripts:', len(left_data))\n",
    "    right_data = load_counts(GENCODE_DIR+COUNTS_FILE,min_rci,None,gene_rci)\n",
    "    print('Right transcripts:', len(right_data))\n",
    "          \n",
    "    print(datetime.now(), 'Compute distances for left vs left')\n",
    "    values = compute_distances(left_data,left_data)\n",
    "    print(datetime.now(), 'Compute statistics')\n",
    "    ary = np.asarray(values,dtype=np.float16)\n",
    "    show_stats(ary)\n",
    "\n",
    "    print(datetime.now(), 'Compute distances for right vs right')\n",
    "    values = compute_distances(right_data,right_data)\n",
    "    print(datetime.now(), 'Compute statistics')\n",
    "    ary = np.asarray(values,dtype=np.float16)\n",
    "    show_stats(ary)\n",
    "\n",
    "    print(datetime.now(), 'Compute distances for left vs right')\n",
    "    values = compute_distances(left_data,right_data)\n",
    "    print(datetime.now(), 'Compute statistics')\n",
    "    ary = np.asarray(values,dtype=np.float16)\n",
    "    show_stats(ary)"
   ]
  },
  {
   "cell_type": "code",
   "execution_count": 10,
   "id": "82ffdffc",
   "metadata": {},
   "outputs": [
    {
     "name": "stdout",
     "output_type": "stream",
     "text": [
      "2022-10-25 17:00:12.414478 Load RCI values\n",
      "2022-10-25 17:00:12.434570 Load K-mer counts\n",
      "CNRCI_coding_train_counts.K3.2byte.csv\n",
      "min_rci= 1 max_rci= -1\n",
      "Left transcripts: 10992\n",
      "Right transcripts: 8738\n",
      "2022-10-25 17:00:13.288094 Compute distances for left vs left\n"
     ]
    },
    {
     "ename": "KeyboardInterrupt",
     "evalue": "",
     "output_type": "error",
     "traceback": [
      "\u001b[1;31m---------------------------------------------------------------------------\u001b[0m",
      "\u001b[1;31mKeyboardInterrupt\u001b[0m                         Traceback (most recent call last)",
      "Input \u001b[1;32mIn [10]\u001b[0m, in \u001b[0;36m<cell line: 3>\u001b[1;34m()\u001b[0m\n\u001b[0;32m      1\u001b[0m MIN_RCI\u001b[38;5;241m=\u001b[39m\u001b[38;5;241m1\u001b[39m\n\u001b[0;32m      2\u001b[0m MAX_RCI\u001b[38;5;241m=\u001b[39m\u001b[38;5;241m-\u001b[39m\u001b[38;5;241m1\u001b[39m\n\u001b[1;32m----> 3\u001b[0m \u001b[43mdo_all\u001b[49m\u001b[43m(\u001b[49m\u001b[43mMIN_RCI\u001b[49m\u001b[43m,\u001b[49m\u001b[43mMAX_RCI\u001b[49m\u001b[43m)\u001b[49m\n",
      "Input \u001b[1;32mIn [9]\u001b[0m, in \u001b[0;36mdo_all\u001b[1;34m(min_rci, max_rci)\u001b[0m\n\u001b[0;32m     10\u001b[0m \u001b[38;5;28mprint\u001b[39m(\u001b[38;5;124m'\u001b[39m\u001b[38;5;124mRight transcripts:\u001b[39m\u001b[38;5;124m'\u001b[39m, \u001b[38;5;28mlen\u001b[39m(right_data))\n\u001b[0;32m     12\u001b[0m \u001b[38;5;28mprint\u001b[39m(datetime\u001b[38;5;241m.\u001b[39mnow(), \u001b[38;5;124m'\u001b[39m\u001b[38;5;124mCompute distances for left vs left\u001b[39m\u001b[38;5;124m'\u001b[39m)\n\u001b[1;32m---> 13\u001b[0m values \u001b[38;5;241m=\u001b[39m \u001b[43mcompute_distances\u001b[49m\u001b[43m(\u001b[49m\u001b[43mleft_data\u001b[49m\u001b[43m,\u001b[49m\u001b[43mleft_data\u001b[49m\u001b[43m)\u001b[49m\n\u001b[0;32m     14\u001b[0m \u001b[38;5;28mprint\u001b[39m(datetime\u001b[38;5;241m.\u001b[39mnow(), \u001b[38;5;124m'\u001b[39m\u001b[38;5;124mCompute statistics\u001b[39m\u001b[38;5;124m'\u001b[39m)\n\u001b[0;32m     15\u001b[0m ary \u001b[38;5;241m=\u001b[39m np\u001b[38;5;241m.\u001b[39masarray(values,dtype\u001b[38;5;241m=\u001b[39mnp\u001b[38;5;241m.\u001b[39mfloat16)\n",
      "Input \u001b[1;32mIn [7]\u001b[0m, in \u001b[0;36mcompute_distances\u001b[1;34m(left_data, right_data)\u001b[0m\n\u001b[0;32m      9\u001b[0m \u001b[38;5;28;01mfor\u001b[39;00m right_index \u001b[38;5;129;01min\u001b[39;00m \u001b[38;5;28mrange\u001b[39m(right_total):\n\u001b[0;32m     10\u001b[0m     right_vector \u001b[38;5;241m=\u001b[39m right_data[right_index][\u001b[38;5;241m2\u001b[39m]\n\u001b[1;32m---> 11\u001b[0m     dist \u001b[38;5;241m=\u001b[39m \u001b[43mdistance\u001b[49m\u001b[43m(\u001b[49m\u001b[43mleft_vector\u001b[49m\u001b[43m,\u001b[49m\u001b[43m \u001b[49m\u001b[43mright_vector\u001b[49m\u001b[43m)\u001b[49m\n\u001b[0;32m     12\u001b[0m     values\u001b[38;5;241m.\u001b[39mappend(dist)\n\u001b[0;32m     13\u001b[0m tick \u001b[38;5;241m+\u001b[39m\u001b[38;5;241m=\u001b[39m \u001b[38;5;241m1\u001b[39m\n",
      "Input \u001b[1;32mIn [4]\u001b[0m, in \u001b[0;36mdistance\u001b[1;34m(a, b)\u001b[0m\n\u001b[0;32m      1\u001b[0m \u001b[38;5;28;01mdef\u001b[39;00m \u001b[38;5;21mdistance\u001b[39m(a,b):\n\u001b[0;32m      2\u001b[0m     \u001b[38;5;66;03m# This works because the Euclidean distance is the l2 norm, and the default value of the ord parameter in numpy.linalg.norm is 2. \u001b[39;00m\n\u001b[0;32m      3\u001b[0m     \u001b[38;5;66;03m# https://stackoverflow.com/questions/1401712/how-can-the-euclidean-distance-be-calculated-with-numpy\u001b[39;00m\n\u001b[1;32m----> 4\u001b[0m     \u001b[38;5;28;01mreturn\u001b[39;00m \u001b[43mnp\u001b[49m\u001b[38;5;241;43m.\u001b[39;49m\u001b[43mlinalg\u001b[49m\u001b[38;5;241;43m.\u001b[39;49m\u001b[43mnorm\u001b[49m\u001b[43m(\u001b[49m\u001b[43ma\u001b[49m\u001b[38;5;241;43m-\u001b[39;49m\u001b[43mb\u001b[49m\u001b[43m)\u001b[49m\n",
      "File \u001b[1;32m<__array_function__ internals>:180\u001b[0m, in \u001b[0;36mnorm\u001b[1;34m(*args, **kwargs)\u001b[0m\n",
      "File \u001b[1;32m~\\AppData\\Local\\Programs\\Python\\Python310\\lib\\site-packages\\numpy\\linalg\\linalg.py:2526\u001b[0m, in \u001b[0;36mnorm\u001b[1;34m(x, ord, axis, keepdims)\u001b[0m\n\u001b[0;32m   2524\u001b[0m     sqnorm \u001b[38;5;241m=\u001b[39m x_real\u001b[38;5;241m.\u001b[39mdot(x_real) \u001b[38;5;241m+\u001b[39m x_imag\u001b[38;5;241m.\u001b[39mdot(x_imag)\n\u001b[0;32m   2525\u001b[0m \u001b[38;5;28;01melse\u001b[39;00m:\n\u001b[1;32m-> 2526\u001b[0m     sqnorm \u001b[38;5;241m=\u001b[39m \u001b[43mx\u001b[49m\u001b[38;5;241;43m.\u001b[39;49m\u001b[43mdot\u001b[49m\u001b[43m(\u001b[49m\u001b[43mx\u001b[49m\u001b[43m)\u001b[49m\n\u001b[0;32m   2527\u001b[0m ret \u001b[38;5;241m=\u001b[39m sqrt(sqnorm)\n\u001b[0;32m   2528\u001b[0m \u001b[38;5;28;01mif\u001b[39;00m keepdims:\n",
      "\u001b[1;31mKeyboardInterrupt\u001b[0m: "
     ]
    }
   ],
   "source": [
    "MIN_RCI=1\n",
    "MAX_RCI=-1\n",
    "do_all(MIN_RCI,MAX_RCI)"
   ]
  },
  {
   "cell_type": "code",
   "execution_count": null,
   "id": "0619225b",
   "metadata": {},
   "outputs": [],
   "source": []
  }
 ],
 "metadata": {
  "kernelspec": {
   "display_name": "Python 3 (ipykernel)",
   "language": "python",
   "name": "python3"
  },
  "language_info": {
   "codemirror_mode": {
    "name": "ipython",
    "version": 3
   },
   "file_extension": ".py",
   "mimetype": "text/x-python",
   "name": "python",
   "nbconvert_exporter": "python",
   "pygments_lexer": "ipython3",
   "version": "3.10.6"
  }
 },
 "nbformat": 4,
 "nbformat_minor": 5
}
