{
 "cells": [
  {
   "cell_type": "markdown",
   "id": "117974bd",
   "metadata": {},
   "source": [
    "# Antisense lncRNA\n",
    "An antisense lncRNA transcript complements an mRNA gene or transcript and regulates it through binding. The antisense lncRNA gene is usually located near the gene it regulates, including possibly being on the opposite strand of the same locus. Antisense lncRNA probably functions within the nucleus."
   ]
  },
  {
   "cell_type": "markdown",
   "id": "d3b4bade",
   "metadata": {},
   "source": [
    "Antisense genes are not annotated as such in our GenCode GFF file.\n",
    "But there is official nomenclature for antisense genes in human: GENE-AS#.\n",
    "See [A guide to naming human non-coding RNA genes](https://www.embopress.org/doi/full/10.15252/embj.2019103777), EMBO 2020."
   ]
  },
  {
   "cell_type": "markdown",
   "id": "e9bfcfdc",
   "metadata": {},
   "source": [
    "We generated this list of antisense lncRNA genes. The name gff is a soft link to gencode.v43.chr_patch_hapl_scaff.annotation.gff3 from GenCode.\n",
    "\n",
    "    $ grep -v '^#' gff | awk '{if ($3==\"gene\") print $0;}' | grep \"\\-AS[0-9]\" | cut -f 9 | cut -d ';' -f 1 | cut -c 4- | cut -d '.' -f 1 | sort > antisense.lncRNA.genes.txt"
   ]
  },
  {
   "cell_type": "code",
   "execution_count": 1,
   "id": "828227df",
   "metadata": {},
   "outputs": [
    {
     "name": "stdout",
     "output_type": "stream",
     "text": [
      "Num antisense lncRNA genes: 1926\n",
      "Examples: ['ENSG00000224328', 'ENSG00000236859', 'ENSG00000281032']\n"
     ]
    }
   ],
   "source": [
    "antisense_genes = set()\n",
    "filename='/Users/jasonmiller/WVU/Localization/GenCode/GenCode43/antisense.lncRNA.genes.txt'\n",
    "with open (filename, 'r') as fin:\n",
    "    for line in fin:\n",
    "        gene = line.strip()\n",
    "        antisense_genes.add(gene)\n",
    "print('Num antisense lncRNA genes:', len(antisense_genes))\n",
    "print('Examples:', list(antisense_genes)[:3])"
   ]
  },
  {
   "cell_type": "code",
   "execution_count": 2,
   "id": "bb0f91dd",
   "metadata": {},
   "outputs": [
    {
     "name": "stdout",
     "output_type": "stream",
     "text": [
      "Num genes with CNRCI 6423\n",
      "Examples: [('ENSG00000082929', [nan, nan, nan, nan, nan, nan, 1.23491, nan, nan, nan, nan, nan, nan, nan, nan]), ('ENSG00000099869', [nan, 1.0, nan, 0.00846158, nan, nan, nan, nan, nan, nan, nan, nan, nan, nan, nan]), ('ENSG00000100181', [nan, -0.192645, nan, nan, nan, -1.01879, nan, nan, 0.0238308, -0.161441, nan, nan, nan, -0.404775, nan])]\n"
     ]
    }
   ],
   "source": [
    "all_cnrci = dict()\n",
    "filename='/Users/jasonmiller/WVU/Localization/TrainTest/TrainTest_ver43/all.lncRNA_RCI.csv'\n",
    "with open (filename, 'r') as fin:\n",
    "    heading=None\n",
    "    for line in fin:\n",
    "        line = line.strip()\n",
    "        if heading is None:\n",
    "            heading = line\n",
    "        else:\n",
    "            fields = line.split(',')\n",
    "            gene = fields.pop(0)\n",
    "            ## fields[1] = 'nan' ## use this to exclude H1.hESC cell line, otherwise comment out this line\n",
    "            cnrci = [float(x) for x in fields]\n",
    "            all_cnrci[gene] = cnrci\n",
    "print('Num genes with CNRCI', len(all_cnrci.keys()))\n",
    "print('Examples:', [p for p in all_cnrci.items()][:3])"
   ]
  },
  {
   "cell_type": "code",
   "execution_count": 3,
   "id": "f952afb3",
   "metadata": {},
   "outputs": [],
   "source": [
    "import numpy as np\n",
    "def get_stats(dictionary):\n",
    "    data = []\n",
    "    min_min = 10000\n",
    "    max_max = -10000\n",
    "    means = []\n",
    "    for gene in dictionary.keys():\n",
    "        cnrci_list = dictionary[gene]\n",
    "        count_this = np.count_nonzero(~np.isnan(cnrci_list))\n",
    "        min_this = np.nanmin(cnrci_list)\n",
    "        max_this = np.nanmax(cnrci_list)\n",
    "        range_this = max_this - min_this\n",
    "        mean_this = np.nanmean(cnrci_list) \n",
    "        if not np.isnan(mean_this):\n",
    "            data1 = [gene,count_this,min_this,max_this,range_this,mean_this]\n",
    "            data.append(data1)\n",
    "            min_min = min(min_min, min_this)\n",
    "            max_max = max(max_max, max_this)\n",
    "            means.append(mean_this)\n",
    "    mean_mean = np.mean(means)\n",
    "    print('Overall min, max, mean:', min_min, max_max, mean_mean)\n",
    "    return data"
   ]
  },
  {
   "cell_type": "code",
   "execution_count": 4,
   "id": "d7f2c18a",
   "metadata": {},
   "outputs": [],
   "source": [
    "antisense_cnrci = dict()\n",
    "other_cnrci = dict()\n",
    "for gene in all_cnrci.keys():\n",
    "    if gene in antisense_genes:\n",
    "        antisense_cnrci[gene]=all_cnrci[gene]\n",
    "    else:\n",
    "        other_cnrci[gene]=all_cnrci[gene]"
   ]
  },
  {
   "cell_type": "code",
   "execution_count": 5,
   "id": "dea8e2eb",
   "metadata": {},
   "outputs": [
    {
     "name": "stdout",
     "output_type": "stream",
     "text": [
      "All genes 6423\n",
      "Overall min, max, mean: -10.255 5.58139 -1.0394403070479752\n"
     ]
    }
   ],
   "source": [
    "print('All genes', len(all_cnrci))\n",
    "data_all = get_stats(all_cnrci)"
   ]
  },
  {
   "cell_type": "code",
   "execution_count": 6,
   "id": "95e2089d",
   "metadata": {},
   "outputs": [
    {
     "name": "stdout",
     "output_type": "stream",
     "text": [
      "Antisense genes 1007\n",
      "Overall min, max, mean: -7.55636 4.58496 -0.573704981244086\n"
     ]
    }
   ],
   "source": [
    "print('Antisense genes', len(antisense_cnrci))\n",
    "data_anti = get_stats(antisense_cnrci)"
   ]
  },
  {
   "cell_type": "code",
   "execution_count": 7,
   "id": "a441d28d",
   "metadata": {},
   "outputs": [
    {
     "name": "stdout",
     "output_type": "stream",
     "text": [
      "Other genes 5416\n",
      "Overall min, max, mean: -10.255 5.58139 -1.126034744471261\n"
     ]
    }
   ],
   "source": [
    "print('Other genes', len(other_cnrci))\n",
    "data_other = get_stats(other_cnrci)"
   ]
  },
  {
   "cell_type": "markdown",
   "id": "60dbf6f8",
   "metadata": {},
   "source": [
    "## Conclusion\n",
    "Mean lncRNA CNRCI across 15 cell lines breakdown:\n",
    "* antisense genes: -0.57 (slightly nuclear)\n",
    "* other genes: -1.12 (nuclear)\n",
    "* all genes: -1.039 (nuclear)\n",
    "\n",
    "Contrary to expectation, the mean CNRCI is higher (more cytoplasmic)\n",
    "for antisense genes than for other genes."
   ]
  },
  {
   "cell_type": "markdown",
   "id": "9105d715",
   "metadata": {},
   "source": [
    "# Max Range\n",
    "Find examples of a gene with a large range of CNRCI across cell lines."
   ]
  },
  {
   "cell_type": "code",
   "execution_count": 8,
   "id": "b14be0ca",
   "metadata": {},
   "outputs": [
    {
     "name": "stdout",
     "output_type": "stream",
     "text": [
      "ENSG00000252690 [nan, 4.90689, nan, -2.85982, -3.27473, nan, -5.20107, -3.06575, nan, -7.69846, -0.725984, nan, -1.48286, nan, nan]\n",
      "ENSG00000259865 [nan, 3.86942, nan, -2.15141, -2.93709, nan, -4.85943, -2.47573, nan, nan, -0.568702, nan, -0.898076, nan, nan]\n",
      "ENSG00000260566 [nan, 3.39232, 0.0103419, 0.316555, -0.678072, -1.54029, -3.33084, -1.50321, nan, nan, -0.749954, -1.08134, -1.89308, nan, nan]\n",
      "ENSG00000261094 [nan, 3.10281, nan, 0.0140409, -1.04689, nan, -1.71193, -1.36246, -3.20163, -2.84489, 0.743501, -2.05964, 0.903014, nan, nan]\n",
      "ENSG00000261366 [nan, 3.41504, nan, nan, -2.66432, -3.79008, -2.848, -2.14839, -4.78136, nan, -0.172533, nan, -1.45409, nan, nan]\n",
      "ENSG00000269939 [-0.257158, 3.10434, nan, -2.01282, -3.88716, -2.43741, -4.365, -0.905957, nan, nan, nan, nan, -0.437405, -0.975338, nan]\n",
      "ENSG00000273321 [nan, 3.1375, -3.33498, nan, nan, nan, -1.96025, nan, nan, -5.01142, nan, nan, nan, nan, nan]\n",
      "ENSG00000274227 [nan, -1.27302, nan, nan, nan, -3.79542, -5.28077, 3.94251, nan, nan, nan, -4.52356, -1.81889, nan, nan]\n",
      "ENSG00000276077 [nan, 1.70605, nan, nan, nan, 3.26313, -3.926, -0.295726, nan, nan, nan, nan, nan, nan, nan]\n",
      "ENSG00000254911 [nan, 3.73131, nan, -6.03198, nan, nan, -5.04943, -6.16138, -5.98101, nan, -3.90074, nan, -2.68231, nan, nan]\n",
      "ENSG00000269983 [0.509727, 3.21101, nan, nan, -0.566433, -1.15754, -3.00653, 0.375904, -0.235407, -2.12237, -0.197484, nan, -1.22781, nan, nan]\n",
      "ENSG00000273271 [-2.24793, 3.11548, nan, -2.3599, 0.142019, -0.887106, nan, nan, nan, nan, nan, nan, -3.44556, nan, nan]\n",
      "ENSG00000274943 [nan, 3.38171, nan, nan, nan, -1.77138, -5.35285, nan, nan, nan, nan, nan, -2.3339, nan, nan]\n",
      "ENSG00000275854 [-0.672425, 3.45943, nan, nan, nan, nan, -4.94342, -3.6615, nan, nan, -1.76422, -0.856636, -5.12928, -2.79586, nan]\n"
     ]
    }
   ],
   "source": [
    "for data in data_all:\n",
    "    gene,count_this,min_this,max_this,range_this,mean_this = data\n",
    "    if min_this<-3 and max_this>3:\n",
    "        print(gene,all_cnrci[gene])"
   ]
  },
  {
   "cell_type": "markdown",
   "id": "350c602d",
   "metadata": {},
   "source": [
    "Above:\n",
    "There are 14 cases of one gene having CNRCI above 3 and below -3.\n",
    "All but 2 of those have their largest CNRCI in cell line 1 = H1.hESC.\n",
    "This agrees with our previous observations that H1.hESC is least correlated with the other cell lines."
   ]
  },
  {
   "cell_type": "markdown",
   "id": "63ab4c34",
   "metadata": {},
   "source": [
    "Here are the two exceptions. Little is known about either one. These genes are recent additions to the human genome assembly. Their high cytoplasmic scores were not from the same cell line. One of these genes has only one (known) transcript, indicating the high and low CNRCI are not due to isoforms.\n",
    "\n",
    "* ENSG00000274227 - 'novel transcript, antisense to ERP29', 1 transcript\n",
    "* ENSG00000276077 - 'novel transcript', 7 transcripts"
   ]
  },
  {
   "cell_type": "markdown",
   "id": "2bdae214",
   "metadata": {},
   "source": [
    "This review gives examples of cytoplasmic AS-lncRNA function: \n",
    "[link](https://www.ncbi.nlm.nih.gov/pmc/articles/PMC7847652/)\n",
    "\n",
    "This review says antisense lncRNA can be nuclear under normal conditions and cytoplasmic under stress conditions:\n",
    "[link](https://www.ncbi.nlm.nih.gov/pmc/articles/PMC5963534/)\n",
    "\n",
    "The implication for our work is that one lncRNA might contain both kinds of K-mers: the ones for nuclear retention under some conditions, and the ones for export under other conditions. We don't know whether the cell lines in lncAtlas were grown under stress conditions or not -- probably not. But the CNRCI might be more dependent on environmental factors than on tissue type.\n"
   ]
  }
 ],
 "metadata": {
  "kernelspec": {
   "display_name": "Python 3 (ipykernel)",
   "language": "python",
   "name": "python3"
  },
  "language_info": {
   "codemirror_mode": {
    "name": "ipython",
    "version": 3
   },
   "file_extension": ".py",
   "mimetype": "text/x-python",
   "name": "python",
   "nbconvert_exporter": "python",
   "pygments_lexer": "ipython3",
   "version": "3.10.0"
  }
 },
 "nbformat": 4,
 "nbformat_minor": 5
}
