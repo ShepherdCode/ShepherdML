{
 "cells": [
  {
   "cell_type": "markdown",
   "metadata": {},
   "source": [
    "# Write K-mer Counts \n",
    "On Windows, write K-mer counts.\n",
    "This time, no cap (we previously set maximum count = 255 on K=4)"
   ]
  },
  {
   "cell_type": "code",
   "execution_count": 1,
   "metadata": {},
   "outputs": [
    {
     "name": "stdout",
     "output_type": "stream",
     "text": [
      "2022-10-25 13:06:16.412061\n",
      "Python 3.10.6\n"
     ]
    }
   ],
   "source": [
    "from datetime import datetime\n",
    "print(datetime.now())\n",
    "from platform import python_version\n",
    "print('Python',python_version())\n",
    "import numpy as np\n",
    "import math\n",
    "import random"
   ]
  },
  {
   "cell_type": "code",
   "execution_count": 2,
   "metadata": {},
   "outputs": [],
   "source": [
    "from KmerCounter import KmerCounter\n",
    "K=2"
   ]
  },
  {
   "cell_type": "code",
   "execution_count": 3,
   "metadata": {},
   "outputs": [],
   "source": [
    "GENCODE_DIR = 'D:/Adjeroh/Localization/GenCode/'\n",
    "ATLAS_DIR = 'D:/Adjeroh/Localization/LncAtlas/'\n",
    "\n",
    "ID_SUBSETS = [\n",
    "    'CNRCI_coding_test_genes.csv',\n",
    "    'CNRCI_coding_train_genes.csv',\n",
    "    'CNRCI_noncoding_test_genes.csv',\n",
    "    'CNRCI_noncoding_train_genes.csv'\n",
    "]\n",
    "SEQ_SUBSETS = [\n",
    "    'CNRCI_coding_test_sequences.csv',\n",
    "    'CNRCI_coding_train_sequences.csv',\n",
    "    'CNRCI_noncoding_test_sequences.csv',\n",
    "    'CNRCI_noncoding_train_sequences.csv'\n",
    "]\n",
    "KMER_COUNTS_TEXT = [\n",
    "    'CNRCI_coding_test_counts.K2.2byte.csv',\n",
    "    'CNRCI_coding_train_counts.K2.2byte.csv',\n",
    "    'CNRCI_noncoding_test_counts.K2.2byte.csv',\n",
    "    'CNRCI_noncoding_train_counts.K2.2byte.csv'\n",
    "]"
   ]
  },
  {
   "cell_type": "markdown",
   "metadata": {},
   "source": [
    "## Load sequences"
   ]
  },
  {
   "cell_type": "code",
   "execution_count": 4,
   "metadata": {},
   "outputs": [],
   "source": [
    "def load_gene_ids(ids_file):\n",
    "    gene_ids = set()\n",
    "    with open(ids_file,'r') as handle:\n",
    "        header = None\n",
    "        for row in handle:\n",
    "            if header is None:\n",
    "                header = row\n",
    "            else:\n",
    "                fields = row.split(',')\n",
    "                gene_id = fields[0]\n",
    "                gene_ids.add(gene_id)\n",
    "    return gene_ids"
   ]
  },
  {
   "cell_type": "code",
   "execution_count": 5,
   "metadata": {},
   "outputs": [],
   "source": [
    "def kmers_from_file(K,filename,verbose=True):\n",
    "    counter = KmerCounter()\n",
    "    counter.setK(K)\n",
    "    ordered_kmer_counts = []\n",
    "    tock = 1000\n",
    "    tick = 0\n",
    "    i=0\n",
    "    header = None\n",
    "    with open (filename,'r') as infile:\n",
    "        for row in infile:\n",
    "            if header is None:\n",
    "                header = row\n",
    "            else:\n",
    "                if verbose:\n",
    "                    tick += 1\n",
    "                    if tick >= tock:\n",
    "                        tick = 1\n",
    "                        print('.',end='')\n",
    "                row = row.strip()\n",
    "                fields = row.split(',')\n",
    "                transcript_id = fields[0]  # with version number\n",
    "                gene_id = fields[1]    # without version number\n",
    "                gene_biotype = fields[2]   # e.g. protein_coding\n",
    "                reported_length = int(fields[3])\n",
    "                seq = fields[4]\n",
    "                measured_length = len(seq)\n",
    "                if reported_length != measured_length:\n",
    "                    print(row)\n",
    "                    print('Reported length =',reported_length)\n",
    "                    print('Measured length =',measured_length)\n",
    "                    raise Exception('Something is wrong with the inputs!')\n",
    "                counts = counter.seq_to_kmer_counts(seq)\n",
    "                ordered_kmer_counts.append(counts)\n",
    "                i += 1\n",
    "    if verbose:\n",
    "        print()\n",
    "    numpy_kmer_counts = np.asarray(ordered_kmer_counts)\n",
    "    return numpy_kmer_counts"
   ]
  },
  {
   "cell_type": "code",
   "execution_count": 6,
   "metadata": {},
   "outputs": [],
   "source": [
    "def make_headers(K):\n",
    "    counter = KmerCounter()\n",
    "    counter.setK(K)\n",
    "    token = 'A'*K\n",
    "    headers='gene_id,transcript_id,'+token\n",
    "    token=counter.next_kmer(token)\n",
    "    while token is not None:\n",
    "        headers = headers + ',' + token\n",
    "        token=counter.next_kmer(token)\n",
    "    return headers"
   ]
  },
  {
   "cell_type": "code",
   "execution_count": 7,
   "metadata": {},
   "outputs": [],
   "source": [
    "def save_as_text(header,kmer_counts,seq_file,out_file):\n",
    "    with open(out_file,'w') as ofile, open(seq_file,'r') as ifile:\n",
    "        ofile.write(header)\n",
    "        ofile.write('\\n')\n",
    "        i=0\n",
    "        headline = None\n",
    "        for line in ifile:\n",
    "            if headline is None:\n",
    "                headline = line\n",
    "            else:\n",
    "                fields = line.split(',')\n",
    "                transcript_id = fields[0]\n",
    "                gene_id = fields[1]\n",
    "                counts = kmer_counts[i]\n",
    "                elements = []\n",
    "                for element in counts:\n",
    "                    elements.append(str(element))\n",
    "                all_elements=','.join(elements)\n",
    "                outline = gene_id+','+transcript_id+','+all_elements\n",
    "                ofile.write(outline)\n",
    "                ofile.write('\\n')\n",
    "                i += 1"
   ]
  },
  {
   "cell_type": "code",
   "execution_count": 8,
   "metadata": {},
   "outputs": [
    {
     "name": "stdout",
     "output_type": "stream",
     "text": [
      "2022-10-25 13:06:16.700674\n",
      "2022-10-25 13:06:16.700674\n",
      "Read gene id subset from D:/Adjeroh/Localization/LncAtlas/CNRCI_coding_test_genes.csv\n",
      "2022-10-25 13:06:16.716296\n",
      "Count K-mers, K= 2\n",
      "................\n",
      "2022-10-25 13:07:32.692473\n",
      "Save counts to text file D:/Adjeroh/Localization/GenCode/CNRCI_coding_test_counts.K2.2byte.csv\n",
      "\n",
      "2022-10-25 13:07:32.976534\n",
      "Read gene id subset from D:/Adjeroh/Localization/LncAtlas/CNRCI_coding_train_genes.csv\n",
      "2022-10-25 13:07:32.988614\n",
      "Count K-mers, K= 2\n",
      "....................................................................\n",
      "2022-10-25 13:12:46.437458\n",
      "Save counts to text file D:/Adjeroh/Localization/GenCode/CNRCI_coding_train_counts.K2.2byte.csv\n",
      "\n",
      "2022-10-25 13:12:47.549637\n",
      "Read gene id subset from D:/Adjeroh/Localization/LncAtlas/CNRCI_noncoding_test_genes.csv\n",
      "2022-10-25 13:12:47.557668\n",
      "Count K-mers, K= 2\n",
      "........\n",
      "2022-10-25 13:13:32.256543\n",
      "Save counts to text file D:/Adjeroh/Localization/GenCode/CNRCI_noncoding_test_counts.K2.2byte.csv\n",
      "\n",
      "2022-10-25 13:13:32.407412\n",
      "Read gene id subset from D:/Adjeroh/Localization/LncAtlas/CNRCI_noncoding_train_genes.csv\n",
      "2022-10-25 13:13:32.409468\n",
      "Count K-mers, K= 2\n",
      "..................\n",
      "2022-10-25 13:14:58.800739\n",
      "Save counts to text file D:/Adjeroh/Localization/GenCode/CNRCI_noncoding_train_counts.K2.2byte.csv\n",
      "\n"
     ]
    }
   ],
   "source": [
    "print(datetime.now())\n",
    "iterations = 4  # make this 4 after testing\n",
    "for i in range(iterations):\n",
    "    print(datetime.now())\n",
    "\n",
    "    gene_subset = ATLAS_DIR+ID_SUBSETS[i]\n",
    "    print('Read gene id subset from',gene_subset)\n",
    "    ids = load_gene_ids(gene_subset)\n",
    "\n",
    "    seqfile = GENCODE_DIR+SEQ_SUBSETS[i]\n",
    "    print(datetime.now())\n",
    "    print('Count K-mers, K=',K)\n",
    "    ordered_kmer_counts=kmers_from_file(K,seqfile)\n",
    "    print(datetime.now())\n",
    "\n",
    "    text_file = GENCODE_DIR+KMER_COUNTS_TEXT[i]\n",
    "    print('Save counts to text file',text_file)\n",
    "    headers = make_headers(K)\n",
    "    save_as_text(headers,ordered_kmer_counts,seqfile,text_file)\n",
    "    print()"
   ]
  },
  {
   "cell_type": "code",
   "execution_count": 9,
   "metadata": {},
   "outputs": [
    {
     "name": "stdout",
     "output_type": "stream",
     "text": [
      "2022-10-25 13:14:59.128137\n"
     ]
    }
   ],
   "source": [
    "print(datetime.now())"
   ]
  },
  {
   "cell_type": "code",
   "execution_count": null,
   "metadata": {},
   "outputs": [],
   "source": []
  }
 ],
 "metadata": {
  "kernelspec": {
   "display_name": "Python 3 (ipykernel)",
   "language": "python",
   "name": "python3"
  },
  "language_info": {
   "codemirror_mode": {
    "name": "ipython",
    "version": 3
   },
   "file_extension": ".py",
   "mimetype": "text/x-python",
   "name": "python",
   "nbconvert_exporter": "python",
   "pygments_lexer": "ipython3",
   "version": "3.10.6"
  }
 },
 "nbformat": 4,
 "nbformat_minor": 2
}
