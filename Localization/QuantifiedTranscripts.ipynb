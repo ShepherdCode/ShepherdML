{
 "cells": [
  {
   "cell_type": "markdown",
   "id": "3de8d447",
   "metadata": {},
   "source": [
    "# Quantified Transcripts\n",
    "We have transcript sequences from GenCode/Ensembl.   \n",
    "We have gene RCI values from lncATLAS.   \n",
    "Here, create FASTA of transcripts whose gene RCI is known."
   ]
  },
  {
   "cell_type": "code",
   "execution_count": 20,
   "id": "be6f1266",
   "metadata": {},
   "outputs": [],
   "source": [
    "from csv import reader\n",
    "\n",
    "ATLAS_DIR='/Users/jasonmiller/WVU/MDPI/LncAtlas/'\n",
    "ATLAS_CODING='quantified_coding_genes.csv'\n",
    "ATLAS_NONCODING='quantified_noncoding_genes.csv'\n",
    "GENCODE_DIR='/Users/jasonmiller/WVU/MDPI/GenCode/'\n",
    "GENCODE_CODING='Homo_sapiens.GRCh38.cds.csv'\n",
    "GENCODE_NONCODING='Homo_sapiens.GRCh38.ncrna.csv'"
   ]
  },
  {
   "cell_type": "code",
   "execution_count": 29,
   "id": "4968d3d6",
   "metadata": {},
   "outputs": [],
   "source": [
    "def load_RCI(filepath):\n",
    "    gene_to_RCI={}\n",
    "    with open (filepath,'r') as handle:\n",
    "        r = reader(handle)\n",
    "        headers = next(r,None)\n",
    "        print('File headers:',headers)\n",
    "        for line in r:\n",
    "            (gene_id,cell_line,RCI)=line\n",
    "            key = (gene_id,cell_line)\n",
    "            if key in gene_to_RCI:\n",
    "                raise(\"Repeat input for \"+str(key))\n",
    "            gene_to_RCI[key]=RCI"
   ]
  },
  {
   "cell_type": "code",
   "execution_count": 30,
   "id": "c19545d4",
   "metadata": {},
   "outputs": [
    {
     "name": "stdout",
     "output_type": "stream",
     "text": [
      "File headers: ['gene_id', 'cell_line', 'RCI']\n",
      "File headers: ['gene_id', 'cell_line', 'RCI']\n"
     ]
    }
   ],
   "source": [
    "coding_RCI = load_RCI(ATLAS_DIR+ATLAS_CODING)\n",
    "noncoding_RCI = load_RCI(ATLAS_DIR+ATLAS_NONCODING)"
   ]
  },
  {
   "cell_type": "code",
   "execution_count": 31,
   "id": "8473da2e",
   "metadata": {},
   "outputs": [],
   "source": [
    "def rewrite_FASTA(infile,outfile,RCI_map):\n",
    "    with open (infile,'r') as innie:\n",
    "        r = reader(innie)\n",
    "        headers = next(r,None)\n",
    "        print('File headers:',headers)\n",
    "        for line in r:\n",
    "            (transcript_id,gene_id,biotype,length,sequence) = line\n",
    "            key = "
   ]
  },
  {
   "cell_type": "code",
   "execution_count": 32,
   "id": "5187b045",
   "metadata": {},
   "outputs": [
    {
     "name": "stderr",
     "output_type": "stream",
     "text": [
      "IOPub data rate exceeded.\n",
      "The notebook server will temporarily stop sending output\n",
      "to the client in order to avoid crashing it.\n",
      "To change this limit, set the config variable\n",
      "`--NotebookApp.iopub_data_rate_limit`.\n",
      "\n",
      "Current values:\n",
      "NotebookApp.iopub_data_rate_limit=1000000.0 (bytes/sec)\n",
      "NotebookApp.rate_limit_window=3.0 (secs)\n",
      "\n"
     ]
    }
   ],
   "source": [
    "rewrite_FASTA(GENCODE_DIR+GENCODE_CODING,'',coding_RCI)"
   ]
  },
  {
   "cell_type": "code",
   "execution_count": null,
   "id": "3825072c",
   "metadata": {},
   "outputs": [],
   "source": []
  }
 ],
 "metadata": {
  "kernelspec": {
   "display_name": "Python 3 (ipykernel)",
   "language": "python",
   "name": "python3"
  },
  "language_info": {
   "codemirror_mode": {
    "name": "ipython",
    "version": 3
   },
   "file_extension": ".py",
   "mimetype": "text/x-python",
   "name": "python",
   "nbconvert_exporter": "python",
   "pygments_lexer": "ipython3",
   "version": "3.10.0"
  }
 },
 "nbformat": 4,
 "nbformat_minor": 5
}
