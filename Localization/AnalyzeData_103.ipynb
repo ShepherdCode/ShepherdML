{
 "cells": [
  {
   "cell_type": "markdown",
   "id": "b885a27a",
   "metadata": {},
   "source": [
    "# Analyze RCI correlations between cell lines\n",
    "Follow-up to notebooks 101 and 102. \n",
    "\n",
    "Here we compute the correlations after removing the two outlier cell lines."
   ]
  },
  {
   "cell_type": "code",
   "execution_count": 1,
   "id": "ffef6902",
   "metadata": {},
   "outputs": [
    {
     "name": "stdout",
     "output_type": "stream",
     "text": [
      "2023-01-17 13:36:25.801627\n",
      "Python 3.10.0\n",
      "sklearn 1.1.2\n"
     ]
    }
   ],
   "source": [
    "from datetime import datetime\n",
    "print(datetime.now())\n",
    "from platform import python_version\n",
    "print('Python',python_version())\n",
    "import numpy as np\n",
    "import pandas as pd\n",
    "import scipy.stats as ss\n",
    "from matplotlib import pyplot as plt \n",
    "import sklearn   # pip install --upgrade scikit-learn\n",
    "print('sklearn',sklearn.__version__)"
   ]
  },
  {
   "cell_type": "code",
   "execution_count": 2,
   "id": "a247893c",
   "metadata": {},
   "outputs": [
    {
     "name": "stdout",
     "output_type": "stream",
     "text": [
      "/Users/jasonmiller/WVU/Localization/TrainTest/\n"
     ]
    }
   ],
   "source": [
    "try:\n",
    "    from google.colab import drive\n",
    "    IN_COLAB = True\n",
    "    print('Running on CoLab')\n",
    "    PATH='/content/drive/'\n",
    "    drive.mount(PATH)\n",
    "    DATA_DIR=PATH+'My Drive/data/Localization/TrainTest/'  # must end in \"/\"\n",
    "except:\n",
    "    IN_COLAB = False\n",
    "    DATA_DIR = 'D:/Adjeroh/Localization/TrainTest/'   # Windows\n",
    "    DATA_DIR = '/Users/jasonmiller/WVU/Localization/TrainTest/'    # Mac\n",
    "print(DATA_DIR)"
   ]
  },
  {
   "cell_type": "code",
   "execution_count": 3,
   "id": "8edc623b",
   "metadata": {},
   "outputs": [],
   "source": [
    "PC_RCI_FILE =      'CNRCI_coding_train_RCI.gc42.csv'\n",
    "NC_RCI_FILE =      'CNRCI_noncoding_train_RCI.gc42.csv'"
   ]
  },
  {
   "cell_type": "code",
   "execution_count": 4,
   "id": "25a95156",
   "metadata": {},
   "outputs": [],
   "source": [
    "def load_RCI_data(filepath):\n",
    "    cell_line_names = []\n",
    "    cell_line_maps  = []\n",
    "    with open (filepath,'r') as handle:\n",
    "        header = None\n",
    "        for row in handle:\n",
    "            line = row.strip()\n",
    "            fields = line.split(',')\n",
    "            gene_id = fields[0]\n",
    "            if header is None:\n",
    "                header = row \n",
    "                for i in range(len(fields)): \n",
    "                    cell_line_name = fields[i]\n",
    "                    cell_line_names.append(cell_line_name)\n",
    "                    cell_line_genes = {}\n",
    "                    cell_line_maps.append(cell_line_genes)\n",
    "            else:\n",
    "                for i in range(len(fields)): \n",
    "                    if i > 0:\n",
    "                        rci_val = fields[i]\n",
    "                        if rci_val != \"nan\":\n",
    "                            real_value = float(rci_val)\n",
    "                            cell_line_genes = cell_line_maps[i]\n",
    "                            cell_line_genes[gene_id] = real_value \n",
    "    del cell_line_names[8], cell_line_maps[8]\n",
    "    del cell_line_names[2], cell_line_maps[2]\n",
    "    print('Remaining cell lines:',cell_line_names)\n",
    "    return cell_line_names, cell_line_maps"
   ]
  },
  {
   "cell_type": "code",
   "execution_count": 5,
   "id": "7fffeacd",
   "metadata": {},
   "outputs": [],
   "source": [
    "def all_vs_all_intersection(names,maps):\n",
    "    NUM = len(maps)\n",
    "    SHOW = 0\n",
    "    for i in range(NUM):\n",
    "        print(names[i],end=',')\n",
    "    print()\n",
    "    for i in range(NUM):\n",
    "        i_genes = set(maps[i].keys())\n",
    "        for j in range(NUM):\n",
    "            j_genes = set(maps[j].keys())\n",
    "            section = i_genes.intersection(j_genes)\n",
    "            SHOW = len(section)\n",
    "            if i==0:\n",
    "                SHOW = len(j_genes)\n",
    "            elif j==0:\n",
    "                SHOW = len(i_genes)\n",
    "            print(SHOW,end=',')\n",
    "        print()"
   ]
  },
  {
   "cell_type": "code",
   "execution_count": 6,
   "id": "e8c0dfc9",
   "metadata": {},
   "outputs": [],
   "source": [
    "def all_vs_all_correlation(names,maps):\n",
    "    NUM = len(maps)\n",
    "    SHOW = 0\n",
    "    for i in range(NUM):\n",
    "        print(names[i],end=',')\n",
    "    print()\n",
    "    for i in range(NUM):\n",
    "        i_genes = set(maps[i].keys())\n",
    "        for j in range(NUM):\n",
    "            j_genes = set(maps[j].keys())\n",
    "            section = i_genes.intersection(j_genes)\n",
    "            i_values = np.array([maps[i][k] for k in section])\n",
    "            j_values = np.array([maps[j][k] for k in section])\n",
    "            if i==0:\n",
    "                print(len(j_genes), end=',')\n",
    "            elif j==0:\n",
    "                print(len(i_genes), end=',')\n",
    "            elif len(section)==0:\n",
    "                print(0 , end=',')\n",
    "            else:\n",
    "                r,p = ss.pearsonr(i_values,j_values)\n",
    "                SHOW = r\n",
    "                print('%.2f' % SHOW, end=',')\n",
    "        print()"
   ]
  },
  {
   "cell_type": "code",
   "execution_count": 7,
   "id": "c6718a43",
   "metadata": {},
   "outputs": [],
   "source": [
    "def get_union(maps):\n",
    "    union = set()\n",
    "    for i in range(len(maps)):\n",
    "        one_map = maps[i]\n",
    "        genes = one_map.keys()\n",
    "        union = union.union(genes)\n",
    "    return union\n",
    "def get_intersection(maps):\n",
    "    section = set()\n",
    "    for i in range(len(maps)):\n",
    "        one_map = maps[i]\n",
    "        genes = set(one_map.keys())\n",
    "        if i==0:\n",
    "            pass\n",
    "        elif i==1:\n",
    "            section = genes\n",
    "        else:\n",
    "            section = section.intersection(genes)\n",
    "    return section\n",
    "def show_rci_counts_table(names,maps):\n",
    "    for i in range(len(names)):\n",
    "        print('%10s %5d' % (names[i], len(maps[i].keys())))\n",
    "    union = get_union(maps)\n",
    "    print('The union of RCI values contains',len(union),'genes.')\n",
    "    section = get_intersection(maps)\n",
    "    print('The intersection of RCI values contains',len(section),'genes.')\n",
    "    print('All vs all intersection')\n",
    "    all_vs_all_intersection(names,maps)\n",
    "    print('All vs all correlation')\n",
    "    all_vs_all_correlation(names,maps)"
   ]
  },
  {
   "cell_type": "markdown",
   "id": "cfdff656",
   "metadata": {},
   "source": [
    "## Coding"
   ]
  },
  {
   "cell_type": "code",
   "execution_count": 8,
   "id": "68c9e108",
   "metadata": {},
   "outputs": [
    {
     "name": "stdout",
     "output_type": "stream",
     "text": [
      "Remaining cell lines: ['gene_id', 'A549', 'HeLa.S3', 'HepG2', 'HT1080', 'HUVEC', 'MCF.7', 'NHEK', 'SK.MEL.5', 'SK.N.DZ', 'SK.N.SH', 'GM12878', 'K562', 'IMR.90']\n",
      "Coding Genes: number of RCI values per cell line\n",
      "   gene_id     0\n",
      "      A549 10338\n",
      "   HeLa.S3  6983\n",
      "     HepG2  9424\n",
      "    HT1080  9575\n",
      "     HUVEC 10257\n",
      "     MCF.7 11060\n",
      "      NHEK  8738\n",
      "  SK.MEL.5  8407\n",
      "   SK.N.DZ  8510\n",
      "   SK.N.SH  9689\n",
      "   GM12878  9931\n",
      "      K562  6676\n",
      "    IMR.90  4001\n",
      "The union of RCI values contains 13512 genes.\n",
      "The intersection of RCI values contains 1526 genes.\n",
      "All vs all intersection\n",
      "gene_id,A549,HeLa.S3,HepG2,HT1080,HUVEC,MCF.7,NHEK,SK.MEL.5,SK.N.DZ,SK.N.SH,GM12878,K562,IMR.90,\n",
      "0,10338,6983,9424,9575,10257,11060,8738,8407,8510,9689,9931,6676,4001,\n",
      "10338,10338,6397,8366,8617,9048,9494,7615,7652,7582,8466,8524,6116,3718,\n",
      "6983,6397,6983,6116,6241,6447,6642,5782,5627,5510,6060,6174,4794,2729,\n",
      "9424,8366,6116,9424,8004,8426,8737,7242,7224,7161,7858,8059,5948,3411,\n",
      "9575,8617,6241,8004,9575,8850,8942,7467,7688,7549,8198,8305,5967,3488,\n",
      "10257,9048,6447,8426,8850,10257,9457,7795,7814,7778,8641,8690,6206,3663,\n",
      "11060,9494,6642,8737,8942,9457,11060,8027,7999,7965,8802,8962,6319,3701,\n",
      "8738,7615,5782,7242,7467,7795,8027,8738,6613,6469,7371,7364,5537,3332,\n",
      "8407,7652,5627,7224,7688,7814,7999,6613,8407,6891,7243,7445,5461,3066,\n",
      "8510,7582,5510,7161,7549,7778,7965,6469,6891,8510,7280,7388,5372,3021,\n",
      "9689,8466,6060,7858,8198,8641,8802,7371,7243,7280,9689,8086,5871,3626,\n",
      "9931,8524,6174,8059,8305,8690,8962,7364,7445,7388,8086,9931,6040,3394,\n",
      "6676,6116,4794,5948,5967,6206,6319,5537,5461,5372,5871,6040,6676,2740,\n",
      "4001,3718,2729,3411,3488,3663,3701,3332,3066,3021,3626,3394,2740,4001,\n",
      "All vs all correlation\n",
      "gene_id,A549,HeLa.S3,HepG2,HT1080,HUVEC,MCF.7,NHEK,SK.MEL.5,SK.N.DZ,SK.N.SH,GM12878,K562,IMR.90,\n",
      "0,10338,6983,9424,9575,10257,11060,8738,8407,8510,9689,9931,6676,4001,\n",
      "10338,1.00,0.82,0.78,0.74,0.72,0.76,0.79,0.56,0.66,0.86,0.70,0.68,0.78,\n",
      "6983,0.82,1.00,0.87,0.76,0.80,0.81,0.79,0.72,0.74,0.84,0.83,0.85,0.80,\n",
      "9424,0.78,0.87,1.00,0.73,0.82,0.83,0.74,0.72,0.77,0.83,0.84,0.86,0.82,\n",
      "9575,0.74,0.76,0.73,1.00,0.81,0.76,0.82,0.74,0.66,0.72,0.70,0.75,0.78,\n",
      "10257,0.72,0.80,0.82,0.81,1.00,0.85,0.77,0.81,0.73,0.78,0.80,0.85,0.90,\n",
      "11060,0.76,0.81,0.83,0.76,0.85,1.00,0.75,0.81,0.73,0.82,0.77,0.81,0.86,\n",
      "8738,0.79,0.79,0.74,0.82,0.77,0.75,1.00,0.62,0.59,0.75,0.68,0.71,0.74,\n",
      "8407,0.56,0.72,0.72,0.74,0.81,0.81,0.62,1.00,0.74,0.69,0.70,0.77,0.82,\n",
      "8510,0.66,0.74,0.77,0.66,0.73,0.73,0.59,0.74,1.00,0.74,0.76,0.78,0.74,\n",
      "9689,0.86,0.84,0.83,0.72,0.78,0.82,0.75,0.69,0.74,1.00,0.71,0.74,0.86,\n",
      "9931,0.70,0.83,0.84,0.70,0.80,0.77,0.68,0.70,0.76,0.71,1.00,0.88,0.78,\n",
      "6676,0.68,0.85,0.86,0.75,0.85,0.81,0.71,0.77,0.78,0.74,0.88,1.00,0.81,\n",
      "4001,0.78,0.80,0.82,0.78,0.90,0.86,0.74,0.82,0.74,0.86,0.78,0.81,1.00,\n"
     ]
    }
   ],
   "source": [
    "filepath = DATA_DIR + PC_RCI_FILE\n",
    "cl_names,cl_maps = load_RCI_data(filepath)\n",
    "print('Coding Genes: number of RCI values per cell line')\n",
    "show_rci_counts_table(cl_names,cl_maps)"
   ]
  },
  {
   "cell_type": "markdown",
   "id": "149c700a",
   "metadata": {},
   "source": [
    "## Non-coding"
   ]
  },
  {
   "cell_type": "code",
   "execution_count": 9,
   "id": "f2e499ba",
   "metadata": {},
   "outputs": [
    {
     "name": "stdout",
     "output_type": "stream",
     "text": [
      "Remaining cell lines: ['gene_id', 'A549', 'HeLa.S3', 'HepG2', 'HT1080', 'HUVEC', 'MCF.7', 'NHEK', 'SK.MEL.5', 'SK.N.DZ', 'SK.N.SH', 'GM12878', 'K562', 'IMR.90']\n",
      "Noncoding Genes: number of RCI values per cell line\n",
      "   gene_id     0\n",
      "      A549  1447\n",
      "   HeLa.S3   919\n",
      "     HepG2  1362\n",
      "    HT1080   936\n",
      "     HUVEC  1488\n",
      "     MCF.7  2156\n",
      "      NHEK  1080\n",
      "  SK.MEL.5   534\n",
      "   SK.N.DZ   603\n",
      "   SK.N.SH  1647\n",
      "   GM12878  1698\n",
      "      K562   958\n",
      "    IMR.90   390\n",
      "The union of RCI values contains 3952 genes.\n",
      "The intersection of RCI values contains 23 genes.\n",
      "All vs all intersection\n",
      "gene_id,A549,HeLa.S3,HepG2,HT1080,HUVEC,MCF.7,NHEK,SK.MEL.5,SK.N.DZ,SK.N.SH,GM12878,K562,IMR.90,\n",
      "0,1447,919,1362,936,1488,2156,1080,534,603,1647,1698,958,390,\n",
      "1447,1447,504,750,590,815,1057,624,366,377,883,827,524,287,\n",
      "919,504,919,487,356,500,664,393,228,248,531,534,353,146,\n",
      "1362,750,487,1362,560,771,964,613,367,398,826,835,521,250,\n",
      "936,590,356,560,936,634,721,497,338,355,661,641,397,218,\n",
      "1488,815,500,771,634,1488,1030,676,391,428,928,892,558,275,\n",
      "2156,1057,664,964,721,1030,2156,801,426,484,1120,1123,673,319,\n",
      "1080,624,393,613,497,676,801,1080,317,324,716,664,409,232,\n",
      "534,366,228,367,338,391,426,317,534,239,399,386,255,142,\n",
      "603,377,248,398,355,428,484,324,239,603,440,431,275,147,\n",
      "1647,883,531,826,661,928,1120,716,399,440,1647,906,582,304,\n",
      "1698,827,534,835,641,892,1123,664,386,431,906,1698,603,266,\n",
      "958,524,353,521,397,558,673,409,255,275,582,603,958,171,\n",
      "390,287,146,250,218,275,319,232,142,147,304,266,171,390,\n",
      "All vs all correlation\n",
      "gene_id,A549,HeLa.S3,HepG2,HT1080,HUVEC,MCF.7,NHEK,SK.MEL.5,SK.N.DZ,SK.N.SH,GM12878,K562,IMR.90,\n",
      "0,1447,919,1362,936,1488,2156,1080,534,603,1647,1698,958,390,\n",
      "1447,1.00,0.71,0.79,0.77,0.79,0.79,0.80,0.64,0.74,0.82,0.73,0.70,0.82,\n",
      "919,0.71,1.00,0.77,0.79,0.73,0.72,0.79,0.76,0.71,0.79,0.71,0.77,0.75,\n",
      "1362,0.79,0.77,1.00,0.80,0.86,0.81,0.77,0.72,0.77,0.81,0.81,0.81,0.83,\n",
      "936,0.77,0.79,0.80,1.00,0.84,0.83,0.82,0.84,0.77,0.83,0.70,0.74,0.86,\n",
      "1488,0.79,0.73,0.86,0.84,1.00,0.85,0.83,0.76,0.74,0.83,0.78,0.78,0.88,\n",
      "2156,0.79,0.72,0.81,0.83,0.85,1.00,0.79,0.79,0.74,0.83,0.72,0.74,0.84,\n",
      "1080,0.80,0.79,0.77,0.82,0.83,0.79,1.00,0.75,0.70,0.83,0.70,0.67,0.81,\n",
      "534,0.64,0.76,0.72,0.84,0.76,0.79,0.75,1.00,0.73,0.76,0.66,0.69,0.79,\n",
      "603,0.74,0.71,0.77,0.77,0.74,0.74,0.70,0.73,1.00,0.71,0.74,0.79,0.74,\n",
      "1647,0.82,0.79,0.81,0.83,0.83,0.83,0.83,0.76,0.71,1.00,0.67,0.67,0.87,\n",
      "1698,0.73,0.71,0.81,0.70,0.78,0.72,0.70,0.66,0.74,0.67,1.00,0.83,0.70,\n",
      "958,0.70,0.77,0.81,0.74,0.78,0.74,0.67,0.69,0.79,0.67,0.83,1.00,0.70,\n",
      "390,0.82,0.75,0.83,0.86,0.88,0.84,0.81,0.79,0.74,0.87,0.70,0.70,1.00,\n"
     ]
    }
   ],
   "source": [
    "filepath = DATA_DIR + NC_RCI_FILE\n",
    "cl_names,cl_maps = load_RCI_data(filepath)\n",
    "print('Noncoding Genes: number of RCI values per cell line')\n",
    "show_rci_counts_table(cl_names,cl_maps)"
   ]
  },
  {
   "cell_type": "code",
   "execution_count": null,
   "id": "cb6f45ef",
   "metadata": {},
   "outputs": [],
   "source": []
  },
  {
   "cell_type": "code",
   "execution_count": null,
   "id": "e3873685",
   "metadata": {},
   "outputs": [],
   "source": []
  }
 ],
 "metadata": {
  "kernelspec": {
   "display_name": "Python 3 (ipykernel)",
   "language": "python",
   "name": "python3"
  },
  "language_info": {
   "codemirror_mode": {
    "name": "ipython",
    "version": 3
   },
   "file_extension": ".py",
   "mimetype": "text/x-python",
   "name": "python",
   "nbconvert_exporter": "python",
   "pygments_lexer": "ipython3",
   "version": "3.10.0"
  }
 },
 "nbformat": 4,
 "nbformat_minor": 5
}
