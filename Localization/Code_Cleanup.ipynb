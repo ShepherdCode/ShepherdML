{
 "cells": [
  {
   "cell_type": "markdown",
   "id": "7a77128a",
   "metadata": {},
   "source": [
    "# Code Cleanup"
   ]
  },
  {
   "cell_type": "markdown",
   "id": "96383892",
   "metadata": {},
   "source": [
    "## gene selection\n",
    "Gene selection is file driven. We no longer rely on classes like Splitter to form the train/valid splits. Instead, we write the gene files once and for all.\n",
    "\n",
    "The all RCI.csv file is partitioned into train and test. See TrainTestSplit_04. This was repeated for lncRNA and mRNA. These files drive the train/test partition for notebooks.\n",
    "\n",
    "For cross-validation, there are 10 files of gene IDs. They have names like cv.1.3 for lncRNA repeat 1 of 2 fold 3 of 5; see TrainValidSplit_202. Also pc.2.5 for mRNA repeat 2 fold 5; see TrainValidSplit_203. These files drive the cross-validation splitting, which is now 100% repeatable.\n",
    "\n",
    "The train/test split was stratified to ensure equitable distribution by mean RCI over all cell lines except H1.hESC. The train/valid splits were not stratified but they seem balanced.\n",
    "\n",
    "There is an unfortunate side effect. Say we run on cell line three only. It may not have any cytoplasmic values for many of the genes in some validation subset. So, training or validation could be imbalanced.\n",
    "\n",
    "For analysis of global properties, it may be necessary to concatenate the train and test files."
   ]
  },
  {
   "cell_type": "markdown",
   "id": "1e2cf43f",
   "metadata": {},
   "source": [
    "## mean RCI\n",
    "We have code that computes the mean CNRCI, on all or selected cell lines, in notebooks that run models. These notebooks read from files like lncRNA_RCI.csv which have 16 columns: gene ID plus 15 cell lines. The method is called load_gene_rci_values(). The computation of the mean is non-trivial, involving the log of the mean of the anti-log.\n",
    "\n",
    "We also have code that computes the mean CNRCI once and for all (excluding H1.hESC) and writes csv files like train.lncRNA_RCI.csv with only 2 colums: gene ID plus 1 mean.\n",
    "\n",
    "Notebooks like MLP_260 ran the version of load_gene_rci_values() that computes means using the RCI.csv files that already had means. The result should have been input==output, but it was a waste of computation.\n",
    "\n",
    "Notebook MLP_265 started as a copy of MLP_260 but was intended to run on H1.hESC only. Its input filename needed to be modified."
   ]
  },
  {
   "cell_type": "markdown",
   "id": "f3a0f355",
   "metadata": {},
   "source": [
    "## RCI threshold\n",
    "For lncRNA and middle exclusion, we use define RCI middle as -2 to 0 and use -1 as the threshold.\n",
    "\n",
    "For mRNA and middle exclusion, we define RCI middle as -1 to +1 and use 0 as the threshold.\n",
    "\n",
    "These were set manually as needed for mRNA runs by changing the hard-coded values. Make a global boolean."
   ]
  },
  {
   "cell_type": "markdown",
   "id": "705e0b70",
   "metadata": {},
   "source": []
  }
 ],
 "metadata": {
  "kernelspec": {
   "display_name": "Python 3 (ipykernel)",
   "language": "python",
   "name": "python3"
  },
  "language_info": {
   "codemirror_mode": {
    "name": "ipython",
    "version": 3
   },
   "file_extension": ".py",
   "mimetype": "text/x-python",
   "name": "python",
   "nbconvert_exporter": "python",
   "pygments_lexer": "ipython3",
   "version": "3.10.0"
  }
 },
 "nbformat": 4,
 "nbformat_minor": 5
}
