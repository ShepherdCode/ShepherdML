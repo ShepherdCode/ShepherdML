{
 "cells": [
  {
   "cell_type": "markdown",
   "id": "61dfe8d3",
   "metadata": {},
   "source": [
    "# Gen Code 43\n",
    "GenCode 43 released 08.02.2023 (Feb 8)  \n",
    "My download started Feb 27.   \n",
    "\n",
    "Get FASTA and GFF3 from here: https://www.gencodegenes.org/human/  \n",
    "Scroll down to Fasta files   \n",
    "Click on Protein-coding transcript sequences = gencode.v43.pc_transcripts.fa   \n",
    "Click on Long non-coding RNA transcript sequences = gencode.v43.lncRNA_transcripts.fa   \n",
    "Scroll down to GFF3 files    \n",
    "Click on Basic gene annotation on chromosomes (the main file for most uers) = gencode.v43.basic.annotation.gff3\n",
    "\n",
    "GenCode [biotypes](https://www.gencodegenes.org/pages/biotypes.html)\n",
    "describes for example 'lncRNA' \n",
    "\n",
    "GenCode [tags](https://www.gencodegenes.org/pages/tags.html)\n",
    "describes for example 'appris_principal_1' Where the transcript expected to code for the main functional isoform...\n",
    "\n",
    "We discovered some transcripts are missing from the lncRNA and pc transcript FASTA files but they are present in the all transcripts file. Switch to using that.\n",
    "\n",
    "We discovered that our filters, such as only certain gene_type values, and transcript_type must match gene_type, were removing genes listed in lncAtlas. Now, load everything from GenCode and filter by what's in lncAtlas."
   ]
  },
  {
   "cell_type": "markdown",
   "id": "fe95fb51",
   "metadata": {},
   "source": [
    "## Decide to use Basic Annotation\n",
    "Using v42 in Sep 2022, \n",
    "we previously used the full \"annotation\" file which has 252416 transcripts. \n",
    "Our filters reduced this to 114760 (29K non-coding and 86L coding).\n",
    "The \"basic.annotation\" file had 117681 transcripts.\n",
    "I expect \"basic\" probably removes the same ones we filtered. \n",
    "\n",
    "It is unclear exactly what \"basic\" means for lncRNA. According to the FAQ...\n",
    "The transcripts tagged as \"basic\" form part of a subset of representative transcripts for each gene. This subset prioritises full-length protein coding transcripts over partial or non-protein coding transcripts within the same gene, and intends to highlight those transcripts that will be useful to the majority of users."
   ]
  },
  {
   "cell_type": "code",
   "execution_count": 1,
   "id": "b91805f0",
   "metadata": {},
   "outputs": [
    {
     "name": "stdout",
     "output_type": "stream",
     "text": [
      "2023-02-27 20:21:53.354527\n"
     ]
    }
   ],
   "source": [
    "from datetime import datetime\n",
    "print(datetime.now())"
   ]
  },
  {
   "cell_type": "code",
   "execution_count": 2,
   "id": "58396cf2",
   "metadata": {},
   "outputs": [],
   "source": [
    "# GenCode inputs\n",
    "DATA_DIR = '/Users/jasonmiller/WVU/Localization/GenCode/GenCode43/'\n",
    "ANNOTATION = 'gencode.v43.basic.annotation.gff3'\n",
    "SEQUENCE = 'gencode.v43.transcripts.fa'   \n",
    "# GenCode outputs\n",
    "CODING_CSV_ALL = 'gencode_v43.all_pc_transcripts.csv'        \n",
    "NONCODING_CSV_ALL = 'gencode_v43.all_lncRNA_transcripts.csv'   \n",
    "CODING_CSV_CANON = 'gencode_v43.canon_pc_transcripts.csv'        \n",
    "NONCODING_CSV_CANON = 'gencode_v43.canon_lncRNA_transcripts.csv'   \n",
    "# Atlas inputs\n",
    "ATLAS_DIR = '/Users/jasonmiller/WVU/Localization/LncAtlas/'\n",
    "ATLAS_FILE = 'lncATLAS_all_data_RCI.csv'"
   ]
  },
  {
   "cell_type": "markdown",
   "id": "adf0c8f6",
   "metadata": {},
   "source": [
    "## lncAtlas Gene IDs\n",
    "Load the list of distinct genes in lncAtlas.\n",
    "Only examine lines where field 2 is CNRCI and field 3 is not NA.\n",
    "Load the ESNG IDs.\n",
    "Remove duplicate IDs."
   ]
  },
  {
   "cell_type": "code",
   "execution_count": 3,
   "id": "e17344f1",
   "metadata": {},
   "outputs": [],
   "source": [
    "def load_atlas_genes(filepath):\n",
    "    '''Expect a CSV file.'''\n",
    "    pc_genes = set()\n",
    "    nc_genes = set()\n",
    "    with open (filepath,'r') as handle:\n",
    "        header = None\n",
    "        for row in handle:\n",
    "            if header is None:\n",
    "                header = row\n",
    "            else:\n",
    "                fields = row.split(',')\n",
    "                gene_id = fields[0]  # like ENSG00000000003\n",
    "                rci_type = fields[2]   \n",
    "                value = fields[3]\n",
    "                gene_type = fields[5] # field 5 same as field 6 in all cases\n",
    "                if (value != 'NA' and rci_type == 'CNRCI'):\n",
    "                    if gene_type == 'coding':\n",
    "                        pc_genes.add(gene_id)  # set removes dupes\n",
    "                    elif gene_type == 'nc':\n",
    "                        nc_genes.add(gene_id)\n",
    "    return pc_genes, nc_genes"
   ]
  },
  {
   "cell_type": "code",
   "execution_count": 4,
   "id": "a9f0c978",
   "metadata": {},
   "outputs": [
    {
     "name": "stdout",
     "output_type": "stream",
     "text": [
      "2023-02-27 20:21:58.179577\n",
      "Atlas pc genes: 17770\n",
      "Atlas nc genes: 6768\n"
     ]
    }
   ],
   "source": [
    "print(datetime.now())\n",
    "atlas_pc_genes,atlas_nc_genes = load_atlas_genes(ATLAS_DIR+ATLAS_FILE)\n",
    "print('Atlas pc genes:', len(atlas_pc_genes))\n",
    "print('Atlas nc genes:', len(atlas_nc_genes))"
   ]
  },
  {
   "cell_type": "markdown",
   "id": "e19a1166",
   "metadata": {},
   "source": [
    "## GenCode annotation"
   ]
  },
  {
   "cell_type": "code",
   "execution_count": 5,
   "id": "df637c33",
   "metadata": {},
   "outputs": [],
   "source": [
    "def load_annotated_transcripts(filepath,canonical_transcripts=False):\n",
    "    '''Expect a GFF3 file.'''\n",
    "    tids = set()\n",
    "    with open (filepath,'r') as handle:\n",
    "        for row in handle:\n",
    "            columns = row.split('\\t')\n",
    "            # Avoid comment lines and read only transcript lines.\n",
    "            if len(columns)>=9 and columns[2] == 'transcript':\n",
    "                # The data we need is in column 9, the so-called comments,\n",
    "                # listed as name=value pairs separated by semicolon.\n",
    "                comments = columns[8] \n",
    "                pairs = comments.split(';') \n",
    "                tid = None\n",
    "                canonical = False\n",
    "                for pair in pairs:\n",
    "                    if pair.startswith('ID=ENST'):\n",
    "                        tid = pair[3:] \n",
    "                    if pair.startswith('tag='):\n",
    "                        if canonical_transcripts and 'Ensembl_canonical' in pair:\n",
    "                            canonical = True\n",
    "                if tid is None:\n",
    "                    raise Exception('transcript type without ID')\n",
    "                if not canonical_transcripts or canonical is True:\n",
    "                    tids.add(tid)\n",
    "    return tids"
   ]
  },
  {
   "cell_type": "code",
   "execution_count": 6,
   "id": "eb96436a",
   "metadata": {},
   "outputs": [
    {
     "name": "stdout",
     "output_type": "stream",
     "text": [
      "2023-02-27 20:22:06.197686\n",
      "Gencode all transcripts: 117725\n",
      "Gencode canonical transcripts: 61009\n"
     ]
    }
   ],
   "source": [
    "print(datetime.now())\n",
    "gencode_transcripts = load_annotated_transcripts(DATA_DIR+ANNOTATION,False)\n",
    "print('Gencode all transcripts:', len(gencode_transcripts))\n",
    "canonical_transcripts = load_annotated_transcripts(DATA_DIR+ANNOTATION,True)\n",
    "print('Gencode canonical transcripts:', len(canonical_transcripts))"
   ]
  },
  {
   "cell_type": "markdown",
   "id": "6ef23d46",
   "metadata": {},
   "source": [
    "## Make sequence files\n",
    "Parse FASTA, extract sequences of interest, write CSV.\n",
    "The rest of our pipeline uses CSV because it is easier to process than FASTA."
   ]
  },
  {
   "cell_type": "code",
   "execution_count": 10,
   "id": "4fc3f3c0",
   "metadata": {},
   "outputs": [],
   "source": [
    "class fasta_reader():\n",
    "    '''Expect human transcripts FASTA file from GenCode.'''\n",
    "    def __init__(self,infile,outfile,biotype):\n",
    "        '''Biotype should be either 'pc' or 'lncRNA'.'''\n",
    "        self.infile = infile\n",
    "        self.outfile = outfile\n",
    "        self.biotype = biotype\n",
    "        self.FASTA_DEFCHAR = '>'  # signals a defline = definition line\n",
    "        self.allow_genes = None\n",
    "        self.allow_transcripts = None\n",
    "        self.transcripts_per_gene = None\n",
    "        self.headers='transcript_id,gene_id,biotype,length,sequence\\n'\n",
    "    def get_transcripts_per_gene(self):\n",
    "        return self.transcripts_per_gene\n",
    "    def allow_these_genes(self,genes:set):\n",
    "        self.allow_genes = genes\n",
    "    def allow_these_transcripts(self,trans:set):\n",
    "        self.allow_transcripts = trans\n",
    "    def print_one_sequence(self,handle,tran,gene,seq):\n",
    "        allow_genes = self.allow_genes\n",
    "        allow_trans = self.allow_transcripts\n",
    "        if seq is not None:\n",
    "            # sequence is None when we encounter the first defline\n",
    "            if allow_genes is None or gene in allow_genes:\n",
    "                if allow_trans is None or tran in allow_trans:\n",
    "                    biotype = self.biotype\n",
    "                    length = str(len(seq))\n",
    "                    outstr = ','.join((tran,gene,biotype,length,seq))\n",
    "                    handle.write(outstr+'\\n')\n",
    "                    self.count_out += 1\n",
    "                    if gene not in self.transcripts_per_gene:\n",
    "                        self.transcripts_per_gene[gene]=0\n",
    "                    self.transcripts_per_gene[gene] += 1  \n",
    "    def fasta_to_csv(self):\n",
    "        self.count_in = 0\n",
    "        self.count_out = 0\n",
    "        self.transcripts_per_gene = {}\n",
    "        with open(self.outfile,'w') as handle:\n",
    "            handle.write(self.headers)\n",
    "            with open(self.infile,'r') as fasta:\n",
    "                transcript_id = None\n",
    "                gene_id = None\n",
    "                next_seq = None\n",
    "                for line in fasta:\n",
    "                    if line[0]==self.FASTA_DEFCHAR:\n",
    "                        # Wrap up the previous sequence before moving on to the next.\n",
    "                        self.print_one_sequence(handle,transcript_id,gene_id,next_seq)\n",
    "                        # The defline starts with '>'\n",
    "                        # The defline has fields separated by vertical bar\n",
    "                        self.count_in += 1\n",
    "                        tokens = line.split('|')\n",
    "                        transcript_id = tokens[0][1:] # chop off '>'\n",
    "                        gene_id = tokens[1]   \n",
    "                        version_index=gene_id.find('.')   \n",
    "                        if version_index>=0:\n",
    "                            # chop off version number, like the 2 in ENSG00000198888.2\n",
    "                            gene_id = gene_id[:version_index]  \n",
    "                        next_seq = \"\"   # get ready for one to many sequence lines\n",
    "                    else:\n",
    "                        # In FASTA format, one sequence may continue to next line\n",
    "                        next_seq = next_seq + line.strip()  \n",
    "            # Reading FASTA, be sure to process the last sequence.\n",
    "            self.print_one_sequence(handle,transcript_id,gene_id,next_seq)\n",
    "        return self.count_in,self.count_out"
   ]
  },
  {
   "cell_type": "code",
   "execution_count": 11,
   "id": "dd12db58",
   "metadata": {},
   "outputs": [
    {
     "name": "stdout",
     "output_type": "stream",
     "text": [
      "2023-02-27 20:23:19.763615\n",
      "All mRNA in GenCode and Atlas\n",
      " Input sequences: 252913\n",
      "Output sequences: 60538\n",
      "Genes in Atlas: 17770\n",
      "Genes represented in output: 17668\n"
     ]
    }
   ],
   "source": [
    "print(datetime.now())\n",
    "infile = DATA_DIR + SEQUENCE\n",
    "outfile = DATA_DIR + CODING_CSV_ALL\n",
    "converter = fasta_reader(infile,outfile,'pc')\n",
    "converter.allow_these_genes(atlas_pc_genes)\n",
    "converter.allow_these_transcripts(gencode_transcripts)\n",
    "count_in,count_out=converter.fasta_to_csv()\n",
    "print(\"All mRNA in GenCode and Atlas\")\n",
    "print(\" Input sequences: %d\" % count_in)\n",
    "print(\"Output sequences: %d\" % count_out)\n",
    "print(\"Genes in Atlas: %d\" % len(atlas_pc_genes))\n",
    "print(\"Genes represented in output: %d\" % len(converter.get_transcripts_per_gene()))"
   ]
  },
  {
   "cell_type": "code",
   "execution_count": 13,
   "id": "40cf313f",
   "metadata": {},
   "outputs": [
    {
     "name": "stdout",
     "output_type": "stream",
     "text": [
      "2023-02-27 20:23:32.315434\n",
      "All lncRNA in GenCode and Atlas\n",
      " Input sequences: 252913\n",
      "Output sequences: 12419\n",
      "Genes in Atlas: 6768\n",
      "Genes represented in output: 6423\n"
     ]
    }
   ],
   "source": [
    "print(datetime.now())\n",
    "infile = DATA_DIR + SEQUENCE\n",
    "outfile = DATA_DIR + NONCODING_CSV_ALL\n",
    "converter = fasta_reader(infile,outfile,'lncRNA')\n",
    "converter.allow_these_genes(atlas_nc_genes)\n",
    "converter.allow_these_transcripts(gencode_transcripts)\n",
    "count_in,count_out=converter.fasta_to_csv()\n",
    "print(\"All lncRNA in GenCode and Atlas\")\n",
    "print(\" Input sequences: %d\" % count_in)\n",
    "print(\"Output sequences: %d\" % count_out)\n",
    "print(\"Genes in Atlas: %d\" % len(atlas_nc_genes))\n",
    "print(\"Genes represented in output: %d\" % len(converter.get_transcripts_per_gene()))"
   ]
  },
  {
   "cell_type": "code",
   "execution_count": 14,
   "id": "12c5751d",
   "metadata": {},
   "outputs": [
    {
     "name": "stdout",
     "output_type": "stream",
     "text": [
      "2023-02-27 20:23:37.229457\n",
      "Canonical mRNA in GenCode and Atlas\n",
      " Input sequences: 252913\n",
      "Output sequences: 17662\n",
      "Genes in Atlas: 17770\n",
      "Genes represented in output: 17645\n"
     ]
    }
   ],
   "source": [
    "print(datetime.now())\n",
    "infile = DATA_DIR + SEQUENCE\n",
    "outfile = DATA_DIR + CODING_CSV_CANON\n",
    "converter = fasta_reader(infile,outfile,'pc')\n",
    "converter.allow_these_genes(atlas_pc_genes)\n",
    "converter.allow_these_transcripts(canonical_transcripts)\n",
    "count_in,count_out=converter.fasta_to_csv()\n",
    "print(\"Canonical mRNA in GenCode and Atlas\")\n",
    "print(\" Input sequences: %d\" % count_in)\n",
    "print(\"Output sequences: %d\" % count_out)\n",
    "print(\"Genes in Atlas: %d\" % len(atlas_pc_genes))\n",
    "print(\"Genes represented in output: %d\" % len(converter.get_transcripts_per_gene()))"
   ]
  },
  {
   "cell_type": "code",
   "execution_count": 15,
   "id": "22508150",
   "metadata": {},
   "outputs": [
    {
     "name": "stdout",
     "output_type": "stream",
     "text": [
      "2023-02-27 20:23:42.458862\n",
      "Canonical lncRNA in GenCode and Atlas\n",
      " Input sequences: 252913\n",
      "Output sequences: 5697\n",
      "Genes in Atlas: 6768\n",
      "Genes represented in output: 5688\n"
     ]
    }
   ],
   "source": [
    "print(datetime.now())\n",
    "infile = DATA_DIR + SEQUENCE\n",
    "outfile = DATA_DIR + NONCODING_CSV_CANON\n",
    "converter = fasta_reader(infile,outfile,'lncRNA')\n",
    "converter.allow_these_genes(atlas_nc_genes)\n",
    "converter.allow_these_transcripts(canonical_transcripts)\n",
    "count_in,count_out=converter.fasta_to_csv()\n",
    "print(\"Canonical lncRNA in GenCode and Atlas\")\n",
    "print(\" Input sequences: %d\" % count_in)\n",
    "print(\"Output sequences: %d\" % count_out)\n",
    "print(\"Genes in Atlas: %d\" % len(atlas_nc_genes))\n",
    "print(\"Genes represented in output: %d\" % len(converter.get_transcripts_per_gene()))"
   ]
  },
  {
   "cell_type": "code",
   "execution_count": 16,
   "id": "e054e927",
   "metadata": {},
   "outputs": [
    {
     "name": "stdout",
     "output_type": "stream",
     "text": [
      "Hello ENSG00000274628\n"
     ]
    }
   ],
   "source": [
    "if 'ENSG00000274628' in atlas_nc_genes:\n",
    "    print('Hello ENSG00000274628')\n",
    "tpg = converter.get_transcripts_per_gene()\n",
    "if 'ENSG00000274628' not in tpg:\n",
    "    print('Not there')"
   ]
  },
  {
   "cell_type": "code",
   "execution_count": 17,
   "id": "41beea68",
   "metadata": {},
   "outputs": [
    {
     "name": "stdout",
     "output_type": "stream",
     "text": [
      "1\n"
     ]
    }
   ],
   "source": [
    "print(tpg['ENSG00000274628'])"
   ]
  },
  {
   "cell_type": "code",
   "execution_count": null,
   "id": "2379b2f4",
   "metadata": {},
   "outputs": [],
   "source": []
  }
 ],
 "metadata": {
  "kernelspec": {
   "display_name": "Python 3 (ipykernel)",
   "language": "python",
   "name": "python3"
  },
  "language_info": {
   "codemirror_mode": {
    "name": "ipython",
    "version": 3
   },
   "file_extension": ".py",
   "mimetype": "text/x-python",
   "name": "python",
   "nbconvert_exporter": "python",
   "pygments_lexer": "ipython3",
   "version": "3.10.0"
  }
 },
 "nbformat": 4,
 "nbformat_minor": 5
}
