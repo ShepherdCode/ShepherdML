{
 "cells": [
  {
   "cell_type": "markdown",
   "metadata": {},
   "source": [
    "# Write K-mer Counts \n",
    "First K-mer counts after revising our data in Oct 2022. Before, we were using sequences from Ensembl files. Now, we are using sequences from GenCode files. "
   ]
  },
  {
   "cell_type": "code",
   "execution_count": 1,
   "metadata": {},
   "outputs": [
    {
     "name": "stdout",
     "output_type": "stream",
     "text": [
      "2022-11-03 08:12:35.910255\n",
      "Python 3.10.0\n"
     ]
    }
   ],
   "source": [
    "from datetime import datetime\n",
    "print(datetime.now())\n",
    "from platform import python_version\n",
    "print('Python',python_version())\n",
    "import numpy as np\n",
    "import math\n",
    "import random"
   ]
  },
  {
   "cell_type": "code",
   "execution_count": 2,
   "metadata": {},
   "outputs": [],
   "source": [
    "from KmerCounter import KmerCounter\n",
    "K=4"
   ]
  },
  {
   "cell_type": "code",
   "execution_count": 3,
   "metadata": {},
   "outputs": [],
   "source": [
    "DATA_DIR = '/Users/jasonmiller/WVU/Localization/TrainTest/'\n",
    "\n",
    "INPUT_FILES=[\n",
    "    'CNRCI_coding_test_transcripts.gc42.csv',\n",
    "    'CNRCI_coding_train_transcripts.gc42.csv',\n",
    "    'CNRCI_noncoding_test_transcripts.gc42.csv',\n",
    "    'CNRCI_noncoding_train_transcripts.gc42.csv'\n",
    "]\n",
    "\n",
    "OUTPUT_FILES=[\n",
    "    'CNRCI_coding_test_counts.K4.gc42.csv',\n",
    "    'CNRCI_coding_train_counts.K4.gc42.csv',\n",
    "    'CNRCI_noncoding_test_counts.K4.gc42.csv',\n",
    "    'CNRCI_noncoding_train_counts.K4.gc42.csv'\n",
    "]"
   ]
  },
  {
   "cell_type": "code",
   "execution_count": 4,
   "metadata": {},
   "outputs": [],
   "source": [
    "class Progress_Bar():\n",
    "    def __init__(self,tock=1000):\n",
    "        self.tock = tock   \n",
    "        self.tick = 0\n",
    "    def advance(self):\n",
    "        self.tick += 1\n",
    "        if self.tick >= self.tock:\n",
    "            self.tick = 1\n",
    "            print('.',end='')\n",
    "    def done(self):\n",
    "        print()\n",
    "    def __repr__(self):\n",
    "        return \"Progress_Bar(\"+str(self.tick)+\",\"+str(self.tock)+\")\""
   ]
  },
  {
   "cell_type": "code",
   "execution_count": 5,
   "metadata": {},
   "outputs": [],
   "source": [
    "def count_kmers_from_file(K,filename,verbose=True,check_length=True):\n",
    "    '''\n",
    "    Use KmerCounter to count K-mers. \n",
    "    Assume input file is csv with these headers:\n",
    "    transcript_id,gene_id,biotype,length,sequence.\n",
    "    Returns a numpy array of list-of-int,\n",
    "    with row order matching the input file.\n",
    "    '''\n",
    "    counter = KmerCounter()\n",
    "    counter.setK(K)\n",
    "    ordered_kmer_counts = []\n",
    "    progress_bar = Progress_Bar()\n",
    "    i=0\n",
    "    with open (filename,'r') as infile:\n",
    "        header = None\n",
    "        for row in infile:\n",
    "            if header is None:\n",
    "                header = row\n",
    "            else:\n",
    "                if verbose:\n",
    "                    progress_bar.advance()\n",
    "                row = row.strip()\n",
    "                fields = row.split(',')\n",
    "                transcript_id = fields[0]  # with version number\n",
    "                gene_id = fields[1]        # without version number\n",
    "                gene_biotype = fields[2]   # e.g. protein_coding\n",
    "                seq = fields[4]\n",
    "                if check_length:           # slower but safer\n",
    "                    reported_length = int(fields[3])\n",
    "                    measured_length = len(seq)\n",
    "                    if reported_length != measured_length:\n",
    "                        print('Transcript      = ',transcript_id)\n",
    "                        print('Reported length =',reported_length)\n",
    "                        print('Measured length =',measured_length)\n",
    "                        raise Exception('Something is wrong with the inputs!')\n",
    "                counts = counter.seq_to_kmer_counts(seq)\n",
    "                ordered_kmer_counts.append(counts)\n",
    "                i += 1\n",
    "    if verbose:\n",
    "        progress_bar.done()\n",
    "    numpy_kmer_counts = np.asarray(ordered_kmer_counts)\n",
    "    return numpy_kmer_counts"
   ]
  },
  {
   "cell_type": "code",
   "execution_count": 6,
   "metadata": {},
   "outputs": [],
   "source": [
    "def make_header(K):\n",
    "    '''\n",
    "    Return a string suitable for csv header for given K.\n",
    "    For K=1, returns \"A,C,G,T\".\n",
    "    '''\n",
    "    counter = KmerCounter()\n",
    "    counter.setK(K)\n",
    "    token = 'A'*K\n",
    "    headers='gene_id,transcript_id,'+token\n",
    "    token=counter.next_kmer(token)\n",
    "    while token is not None:\n",
    "        headers = headers + ',' + token\n",
    "        token=counter.next_kmer(token)\n",
    "    return headers"
   ]
  },
  {
   "cell_type": "code",
   "execution_count": 7,
   "metadata": {},
   "outputs": [],
   "source": [
    "def save_as_text(header,kmer_counts,seq_file,out_file):\n",
    "    '''\n",
    "    Combine data (kmer_counts) from array with\n",
    "    metadata (transcript_id,gene_id) from seq_file.\n",
    "    Assume 1-to-1 row correspondence of array and file.\n",
    "    Save one row of count per sequence to a csv file.\n",
    "    '''\n",
    "    with open(out_file,'w') as ofile, open(seq_file,'r') as ifile:\n",
    "        ofile.write(header)\n",
    "        ofile.write('\\n')\n",
    "        i=0\n",
    "        headline = None\n",
    "        for line in ifile:\n",
    "            if headline is None:\n",
    "                headline = line\n",
    "            else:\n",
    "                fields = line.split(',')\n",
    "                transcript_id = fields[0]\n",
    "                gene_id = fields[1]\n",
    "                counts = kmer_counts[i]\n",
    "                elements = []\n",
    "                for element in counts:\n",
    "                    elements.append(str(element))\n",
    "                all_elements=','.join(elements)\n",
    "                outline = gene_id+','+transcript_id+','+all_elements\n",
    "                ofile.write(outline)\n",
    "                ofile.write('\\n')\n",
    "                i += 1"
   ]
  },
  {
   "cell_type": "markdown",
   "metadata": {},
   "source": [
    "## Data Processing"
   ]
  },
  {
   "cell_type": "code",
   "execution_count": 8,
   "metadata": {},
   "outputs": [
    {
     "name": "stdout",
     "output_type": "stream",
     "text": [
      "2022-11-03 08:12:36.358224\n",
      "Count K-mers, K= 4\n",
      "2022-11-03 08:12:36.360674\n",
      "Count K-mers in sequence from this file:\n",
      " /Users/jasonmiller/WVU/Localization/TrainTest/CNRCI_coding_test_transcripts.gc42.csv\n",
      ".................\n",
      "Write counts to:\n",
      " /Users/jasonmiller/WVU/Localization/TrainTest/CNRCI_coding_test_counts.K4.gc42.csv\n",
      "2022-11-03 08:16:40.428669\n",
      "Count K-mers in sequence from this file:\n",
      " /Users/jasonmiller/WVU/Localization/TrainTest/CNRCI_coding_train_transcripts.gc42.csv\n",
      "....................................................................\n",
      "Write counts to:\n",
      " /Users/jasonmiller/WVU/Localization/TrainTest/CNRCI_coding_train_counts.K4.gc42.csv\n",
      "2022-11-03 08:33:32.682798\n",
      "Count K-mers in sequence from this file:\n",
      " /Users/jasonmiller/WVU/Localization/TrainTest/CNRCI_noncoding_test_transcripts.gc42.csv\n",
      ".....\n",
      "Write counts to:\n",
      " /Users/jasonmiller/WVU/Localization/TrainTest/CNRCI_noncoding_test_counts.K4.gc42.csv\n",
      "2022-11-03 08:34:17.543324\n",
      "Count K-mers in sequence from this file:\n",
      " /Users/jasonmiller/WVU/Localization/TrainTest/CNRCI_noncoding_train_transcripts.gc42.csv\n",
      "......................\n",
      "Write counts to:\n",
      " /Users/jasonmiller/WVU/Localization/TrainTest/CNRCI_noncoding_train_counts.K4.gc42.csv\n",
      "2022-11-03 08:37:36.378104\n"
     ]
    }
   ],
   "source": [
    "print(datetime.now())\n",
    "print('Count K-mers, K=',K)\n",
    "iterations = len(INPUT_FILES)\n",
    "## iterations = 1  # just for testing\n",
    "for i in range(iterations):\n",
    "    print(datetime.now())\n",
    "    inpath = DATA_DIR+INPUT_FILES[i]\n",
    "    outpath = DATA_DIR+OUTPUT_FILES[i]\n",
    "    print('Count K-mers in sequence from this file:\\n',inpath)\n",
    "    ordered_kmer_counts = count_kmers_from_file(K,inpath)\n",
    "    print('Write counts to:\\n',outpath)\n",
    "    header = make_header(K)\n",
    "    save_as_text(header,ordered_kmer_counts,inpath,outpath)\n",
    "print(datetime.now())"
   ]
  },
  {
   "cell_type": "code",
   "execution_count": null,
   "metadata": {},
   "outputs": [],
   "source": []
  }
 ],
 "metadata": {
  "kernelspec": {
   "display_name": "Python 3 (ipykernel)",
   "language": "python",
   "name": "python3"
  },
  "language_info": {
   "codemirror_mode": {
    "name": "ipython",
    "version": 3
   },
   "file_extension": ".py",
   "mimetype": "text/x-python",
   "name": "python",
   "nbconvert_exporter": "python",
   "pygments_lexer": "ipython3",
   "version": "3.10.0"
  }
 },
 "nbformat": 4,
 "nbformat_minor": 2
}
