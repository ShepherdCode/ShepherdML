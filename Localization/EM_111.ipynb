{
 "cells": [
  {
   "cell_type": "markdown",
   "metadata": {},
   "source": [
    "# GMM and EM\n",
    "Gaussian Mixture Models and Expectation Maximization.\n",
    "\n",
    "Updated after switch to GenCode 43, but we don't use the sequence here.\n",
    "\n",
    "Use mean CNRIC (14 cell lines) and entire data set (not train set). "
   ]
  },
  {
   "cell_type": "code",
   "execution_count": 1,
   "metadata": {},
   "outputs": [],
   "source": [
    "import numpy as np\n",
    "from matplotlib import pyplot\n",
    "from sklearn.mixture import GaussianMixture\n",
    "import scipy.stats as ss"
   ]
  },
  {
   "cell_type": "code",
   "execution_count": 2,
   "metadata": {},
   "outputs": [
    {
     "name": "stdout",
     "output_type": "stream",
     "text": [
      "/Users/jasonmiller/WVU/Localization/TrainTest/TrainTest_ver43/\n"
     ]
    }
   ],
   "source": [
    "try:\n",
    "    from google.colab import drive\n",
    "    IN_COLAB = True\n",
    "    print('Running on CoLab')\n",
    "    PATH='/content/drive/'\n",
    "    drive.mount(PATH)\n",
    "    DATA_DIR=PATH+'My Drive/data/Localization/TrainTest/TrainTest_ver43/'  # must end in \"/\"\n",
    "except:\n",
    "    IN_COLAB = False\n",
    "    DATA_DIR = 'D:/Adjeroh/Localization/TrainTest/'   # Windows\n",
    "    DATA_DIR = '/Users/jasonmiller/WVU/Localization/TrainTest/TrainTest_ver43/'    # Mac\n",
    "print(DATA_DIR)"
   ]
  },
  {
   "cell_type": "code",
   "execution_count": 3,
   "metadata": {},
   "outputs": [
    {
     "name": "stdout",
     "output_type": "stream",
     "text": [
      "Exclude cell line 1 H1.hESC\n"
     ]
    }
   ],
   "source": [
    "def get_ordered_list():\n",
    "    ordered_list = \\\n",
    "    ['A549','H1.hESC','HeLa.S3','HepG2','HT1080','HUVEC','MCF.7','NCI.H460','NHEK',\\\n",
    "     'SK.MEL.5','SK.N.DZ','SK.N.SH','GM12878','K562','IMR.90']\n",
    "    return ordered_list\n",
    "all_cell_lines = get_ordered_list()\n",
    "\n",
    "EXCLUSIONS = [1] # exclude H1.hESC\n",
    "for c in EXCLUSIONS:\n",
    "    print('Exclude cell line',c,all_cell_lines[c])"
   ]
  },
  {
   "cell_type": "code",
   "execution_count": 4,
   "metadata": {},
   "outputs": [],
   "source": [
    "class RCI_Loader():\n",
    "    def __init__(self):\n",
    "        self.cache=dict() \n",
    "        \n",
    "    def load_gene_rci_values(self,filepath):\n",
    "        '''\n",
    "        Load from RCI csv file.\n",
    "        Return dict with keys=gene:str and values=RCI:float.\n",
    "        '''\n",
    "        gene_to_rci = {}\n",
    "        overall_sum = 0\n",
    "        with open (filepath,'r') as handle:\n",
    "            header = None\n",
    "            for row in handle:\n",
    "                #if len(gene_to_rci.keys())>=6423:\n",
    "                #    break # balance the sets for comparable BIC?\n",
    "                if header is None:\n",
    "                    header = row # skip file's header line\n",
    "                else:\n",
    "                    line = row.strip()\n",
    "                    fields = line.split(',')\n",
    "                    gene_id = fields.pop(0)\n",
    "                    numerics = [float(x) for x in fields]\n",
    "                    mean_rci = np.nanmean(numerics)\n",
    "                    if not np.isnan(mean_rci):\n",
    "                        gene_to_rci[gene_id] = mean_rci\n",
    "        print('File heading:',header)\n",
    "        print('Num genes:',len(gene_to_rci.keys()))\n",
    "        return gene_to_rci"
   ]
  },
  {
   "cell_type": "code",
   "execution_count": 5,
   "metadata": {},
   "outputs": [],
   "source": [
    "def plot(X,left=None,right=None,middle=None,discrim=None,num_bins=50):\n",
    "    pyplot.hist(X, bins=num_bins, density=True)\n",
    "    if left is not None:\n",
    "        pyplot.axvline(x=left,color='y')\n",
    "    if right is not None:\n",
    "        pyplot.axvline(x=right,color='y')\n",
    "    if middle is not None:\n",
    "        pyplot.axvline(x=middle,color='g')\n",
    "    if discrim is not None:\n",
    "        pyplot.axvline(x=discrim,color='r')\n",
    "    pyplot.show()\n",
    "    \n",
    "def show_gmm(model,X):\n",
    "    print(model)\n",
    "    print('AIC',model.aic(X),'BIC',model.bic(X),'score',model.score(X))\n",
    "    for i in range(model.n_components):\n",
    "        print('Gaussian',i,'mean=',model.means_[i],\n",
    "            'wgt=',model.weights_[i], 'cov=',model.covariances_[i])"
   ]
  },
  {
   "cell_type": "code",
   "execution_count": 6,
   "metadata": {},
   "outputs": [],
   "source": [
    "def place_discriminant(minRCI,maxRCI,mean1,var1,wgt1,mean2,var2,wgt2):\n",
    "    bests = []\n",
    "    left = None\n",
    "    middle = None\n",
    "    std1 = np.sqrt(var1)\n",
    "    std2 = np.sqrt(var2)\n",
    "    zmin = max(mean1-3*std1,mean2-3*std2)\n",
    "    zmax = min(mean1+3*std1,mean2+3*std2)\n",
    "    zrange = (zmax-zmin)\n",
    "    for i in range(101):\n",
    "        if left is None:\n",
    "            x = zrange * (i-1)/100.0 + zmin\n",
    "            p1 = ss.norm(mean1,var1).pdf(x)*wgt1\n",
    "            p2 = ss.norm(mean2,var2).pdf(x)*wgt2\n",
    "            left = p1-p2\n",
    "        if middle is None:\n",
    "            x = zrange * (i)/100.0 + zmin \n",
    "            p1 = ss.norm(mean1,var1).pdf(x)*wgt1\n",
    "            p2 = ss.norm(mean2,var2).pdf(x)*wgt2\n",
    "            middle = p1-p2\n",
    "        x = zrange * (i+1)/100.0 + zmin \n",
    "        p1 = ss.norm(mean1,var1).pdf(x)*wgt1\n",
    "        p2 = ss.norm(mean2,var2).pdf(x)*wgt2\n",
    "        right = p1-p2\n",
    "        if left * right < 0.0:\n",
    "            bests.append(x)\n",
    "        left = middle\n",
    "        middle = right\n",
    "    if len(bests)==0:\n",
    "        return None\n",
    "    return np.mean(bests)"
   ]
  },
  {
   "cell_type": "code",
   "execution_count": 7,
   "metadata": {
    "scrolled": false
   },
   "outputs": [],
   "source": [
    "def make_plots(filename,num_means):\n",
    "    filepath = DATA_DIR + filename\n",
    "    loader = RCI_Loader()\n",
    "\n",
    "    gene_to_rci = loader.load_gene_rci_values(filepath)\n",
    "    logs = list(gene_to_rci.values())\n",
    "    values = np.array(logs)\n",
    "    values = values.reshape(-1, 1)\n",
    "\n",
    "    model_1 = GaussianMixture(n_components=1, verbose=0, covariance_type='spherical', n_init=10) \n",
    "    model_1.fit(values)\n",
    "    model_2 = GaussianMixture(n_components=2, verbose=0, covariance_type='spherical', n_init=10) \n",
    "    model_2.fit(values)\n",
    "    model_3 = GaussianMixture(n_components=3, verbose=0, covariance_type='spherical', n_init=10) \n",
    "    model_3.fit(values)\n",
    "\n",
    "    discrim = place_discriminant(\n",
    "        min(logs),max(logs),\n",
    "        model_2.means_[0],model_2.covariances_[0],model_2.weights_[0],\n",
    "        model_2.means_[1],model_2.covariances_[1],model_2.weights_[1])\n",
    "\n",
    "    print('Single mean',model_1.means_[0])\n",
    "    print('Double mean',model_2.means_[0],model_2.means_[1])\n",
    "    print('Gaussian discriminant',discrim)\n",
    "    if discrim is None:   # not expected, but just in case...\n",
    "        discrim = model_1.means_\n",
    "    middle = model_1.means_[0]\n",
    "    left =  model_2.means_[0]\n",
    "    right = model_2.means_[1]\n",
    "\n",
    "    plot(logs,left=left,right=right)\n",
    "    show_gmm(model_2,values)"
   ]
  },
  {
   "cell_type": "code",
   "execution_count": 8,
   "metadata": {},
   "outputs": [
    {
     "name": "stdout",
     "output_type": "stream",
     "text": [
      "File heading: gene_id,A549,H1.hESC,HeLa.S3,HepG2,HT1080,HUVEC,MCF.7,NCI.H460,NHEK,SK.MEL.5,SK.N.DZ,SK.N.SH,GM12878,K562,IMR.90\n",
      "\n",
      "Num genes: 6423\n",
      "Single mean [-1.03944031]\n",
      "Double mean [-0.05086062] [-2.3468156]\n",
      "Gaussian discriminant -1.5350091340600782\n"
     ]
    },
    {
     "data": {
      "image/png": "[encoded data removed]",
      "text/plain": [
       "<Figure size 640x480 with 1 Axes>"
      ]
     },
     "metadata": {},
     "output_type": "display_data"
    },
    {
     "name": "stdout",
     "output_type": "stream",
     "text": [
      "GaussianMixture(covariance_type='spherical', n_components=2, n_init=10)\n",
      "AIC 24732.15465159961 BIC 24765.9928544859 score -1.924502152545509\n",
      "Gaussian 0 mean= [-0.05086062] wgt= 0.5694254921936542 cov= 1.2920817371742637\n",
      "Gaussian 1 mean= [-2.3468156] wgt= 0.4305745078063459 cov= 1.797131750759865\n"
     ]
    }
   ],
   "source": [
    "RCI_FILE =      'all.lncRNA_RCI.csv'  \n",
    "make_plots(RCI_FILE,2)"
   ]
  },
  {
   "cell_type": "code",
   "execution_count": 9,
   "metadata": {},
   "outputs": [
    {
     "name": "stdout",
     "output_type": "stream",
     "text": [
      "File heading: gene_id,A549,H1.hESC,HeLa.S3,HepG2,HT1080,HUVEC,MCF.7,NCI.H460,NHEK,SK.MEL.5,SK.N.DZ,SK.N.SH,GM12878,K562,IMR.90\n",
      "\n",
      "Num genes: 17668\n",
      "Single mean [-0.21743913]\n",
      "Double mean [0.34425984] [-1.17825107]\n",
      "Gaussian discriminant 0.8950875214935543\n"
     ]
    },
    {
     "data": {
      "image/png": "[encoded data removed]",
      "text/plain": [
       "<Figure size 640x480 with 1 Axes>"
      ]
     },
     "metadata": {},
     "output_type": "display_data"
    },
    {
     "name": "stdout",
     "output_type": "stream",
     "text": [
      "GaussianMixture(covariance_type='spherical', n_components=2, n_init=10)\n",
      "AIC 58292.629411072456 BIC 58331.52696293604 score -1.6493838977550503\n",
      "Gaussian 0 mean= [0.34425984] wgt= 0.6310706482767017 cov= 0.8100658100741257\n",
      "Gaussian 1 mean= [-1.17825107] wgt= 0.36892935172329827 cov= 1.6577542693111587\n"
     ]
    }
   ],
   "source": [
    "RCI_FILE =      'all.pc_RCI.csv'  \n",
    "make_plots(RCI_FILE,1)"
   ]
  },
  {
   "cell_type": "code",
   "execution_count": null,
   "metadata": {},
   "outputs": [],
   "source": []
  },
  {
   "cell_type": "code",
   "execution_count": null,
   "metadata": {},
   "outputs": [],
   "source": []
  }
 ],
 "metadata": {
  "kernelspec": {
   "display_name": "Python 3 (ipykernel)",
   "language": "python",
   "name": "python3"
  },
  "language_info": {
   "codemirror_mode": {
    "name": "ipython",
    "version": 3
   },
   "file_extension": ".py",
   "mimetype": "text/x-python",
   "name": "python",
   "nbconvert_exporter": "python",
   "pygments_lexer": "ipython3",
   "version": "3.10.0"
  }
 },
 "nbformat": 4,
 "nbformat_minor": 2
}
