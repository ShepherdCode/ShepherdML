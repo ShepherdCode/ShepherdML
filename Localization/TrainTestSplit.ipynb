{
 "cells": [
  {
   "cell_type": "markdown",
   "id": "3de8d447",
   "metadata": {},
   "source": [
    "# Train Test Split\n",
    "\n",
    "Choose 20% of genes to be the unseen test set.   \n",
    "For each test gene, remove all its transcripts from the training set.  \n",
    "\n",
    "The task is simplified by our upstream data processing.   \n",
    "Instead of one csv row per (gene_id,cell_line), we have one row per (gene_id).  \n",
    "\n",
    "Analyze the results for stratification.   \n",
    "Not all genes are expressed in every cell line.   \n",
    "We must avoid a test set with zero genes for some cell line.  \n",
    "\n",
    "This notebook reads lines of text, shuffles them, partitions them, writes them.\n",
    "The code ignores the csv nature of each line."
   ]
  },
  {
   "cell_type": "code",
   "execution_count": 1,
   "id": "be6f1266",
   "metadata": {},
   "outputs": [],
   "source": [
    "from random import Random\n",
    "\n",
    "TEST_PORTION = 0.2\n",
    "ATLAS_DIR='/Users/jasonmiller/WVU/Localization/LncAtlas/'\n",
    "ATLAS_CODING='CNRCI_coding_genes.csv'\n",
    "ATLAS_NONCODING='CNRCI_noncoding_genes.csv'\n",
    "GENCODE_DIR='/Users/jasonmiller/WVU/Localization/GenCode/'\n",
    "GENCODE_CODING='Homo_sapiens.GRCh38.cds.csv'\n",
    "GENCODE_NONCODING='Homo_sapiens.GRCh38.ncrna.csv'\n",
    "\n",
    "CODING_TEST = 'CNRCI_coding_test_genes.csv'\n",
    "CODING_TRAIN = 'CNRCI_coding_train_genes.csv'\n",
    "NONCODING_TEST = 'CNRCI_noncoding_test_genes.csv'\n",
    "NONCODING_TRAIN = 'CNRCI_noncoding_train_genes.csv'"
   ]
  },
  {
   "cell_type": "code",
   "execution_count": 2,
   "id": "4968d3d6",
   "metadata": {},
   "outputs": [],
   "source": [
    "#def load_all_rows(filepath):\n",
    "#    all_rows=[]\n",
    "#    with open (filepath,'r') as handle:\n",
    "#        r = reader(handle)\n",
    "#        headers = next(r,None)\n",
    "#        print('File headers:',headers)\n",
    "#        for line in r:\n",
    "#            all_rows.append(line)\n",
    "#    return all_rows\n",
    "def load_all_rows(filepath):\n",
    "    with open (filepath,'r') as handle:\n",
    "        all_rows = handle.readlines()\n",
    "    return all_rows"
   ]
  },
  {
   "cell_type": "code",
   "execution_count": 3,
   "id": "c19545d4",
   "metadata": {},
   "outputs": [],
   "source": [
    "all_coding_rows = load_all_rows(ATLAS_DIR+ATLAS_CODING)\n",
    "all_noncoding_rows = load_all_rows(ATLAS_DIR+ATLAS_NONCODING)"
   ]
  },
  {
   "cell_type": "code",
   "execution_count": 4,
   "id": "911c41f9",
   "metadata": {},
   "outputs": [],
   "source": [
    "def inplace_shuffle(rows):\n",
    "    generator = Random()\n",
    "    generator.seed(42)\n",
    "    generator.shuffle(rows)  # in-place\n",
    "inplace_shuffle(all_coding_rows)\n",
    "inplace_shuffle(all_coding_rows)"
   ]
  },
  {
   "cell_type": "code",
   "execution_count": 5,
   "id": "3825072c",
   "metadata": {},
   "outputs": [],
   "source": [
    "def train_test_split(rows):\n",
    "    length = len(rows)\n",
    "    divider = int(length*TEST_PORTION)\n",
    "    train_set = rows[divider:]\n",
    "    test_set = rows[:divider]\n",
    "    return (train_set,test_set)\n",
    "coding_train_set,coding_test_set = train_test_split(all_coding_rows)\n",
    "noncoding_train_set,noncoding_test_set = train_test_split(all_noncoding_rows)"
   ]
  },
  {
   "cell_type": "code",
   "execution_count": 6,
   "id": "ac4e0e1a",
   "metadata": {},
   "outputs": [],
   "source": [
    "def save_csv(rows,filepath):\n",
    "    with open(filepath,'w') as handle:\n",
    "        for line in rows:\n",
    "            handle.write(line)"
   ]
  },
  {
   "cell_type": "code",
   "execution_count": 7,
   "id": "7a82fea7",
   "metadata": {},
   "outputs": [],
   "source": [
    "filename = ATLAS_DIR + CODING_TEST\n",
    "save_csv(coding_test_set,filename)\n",
    "\n",
    "filename = ATLAS_DIR + CODING_TRAIN\n",
    "save_csv(coding_train_set,filename)\n",
    "\n",
    "filename = ATLAS_DIR + NONCODING_TEST\n",
    "save_csv(noncoding_test_set,filename)\n",
    "\n",
    "filename = ATLAS_DIR + NONCODING_TRAIN\n",
    "save_csv(coding_train_set,filename)"
   ]
  },
  {
   "cell_type": "code",
   "execution_count": 8,
   "id": "f5c733c6",
   "metadata": {},
   "outputs": [
    {
     "name": "stdout",
     "output_type": "stream",
     "text": [
      "done\n"
     ]
    }
   ],
   "source": [
    "print('done')"
   ]
  },
  {
   "cell_type": "code",
   "execution_count": 9,
   "id": "f70cbab9",
   "metadata": {},
   "outputs": [
    {
     "name": "stdout",
     "output_type": "stream",
     "text": [
      "   Coding total, train, test: 17771 14217 3554\n",
      "Noncoding total, train, test: 6769 5416 1353\n"
     ]
    }
   ],
   "source": [
    "print('   Coding total, train, test:',\n",
    "      len(all_coding_rows),len(coding_train_set),len(coding_test_set))\n",
    "print('Noncoding total, train, test:',\n",
    "      len(all_noncoding_rows),len(noncoding_train_set),len(noncoding_test_set))\n"
   ]
  },
  {
   "cell_type": "code",
   "execution_count": null,
   "id": "a0a73298",
   "metadata": {},
   "outputs": [],
   "source": []
  }
 ],
 "metadata": {
  "kernelspec": {
   "display_name": "Python 3 (ipykernel)",
   "language": "python",
   "name": "python3"
  },
  "language_info": {
   "codemirror_mode": {
    "name": "ipython",
    "version": 3
   },
   "file_extension": ".py",
   "mimetype": "text/x-python",
   "name": "python",
   "nbconvert_exporter": "python",
   "pygments_lexer": "ipython3",
   "version": "3.10.0"
  }
 },
 "nbformat": 4,
 "nbformat_minor": 5
}
