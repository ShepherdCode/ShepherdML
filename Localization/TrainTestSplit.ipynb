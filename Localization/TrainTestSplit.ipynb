{
 "cells": [
  {
   "cell_type": "markdown",
   "id": "3de8d447",
   "metadata": {},
   "source": [
    "# Train Test Split\n",
    "\n",
    "Choose 20% of genes to be the unseen test set.   \n",
    "For each test gene, remove all its transcripts from the training set.  \n",
    "\n",
    "The task is simplified by our upstream data processing.   \n",
    "Instead of one csv row per (gene_id,cell_line), we have one row per (gene_id).  \n",
    "\n",
    "Analyze the results for stratification.   \n",
    "Not all genes are expressed in every cell line.   \n",
    "We must avoid a test set with zero genes for some cell line.  "
   ]
  },
  {
   "cell_type": "code",
   "execution_count": 15,
   "id": "be6f1266",
   "metadata": {},
   "outputs": [],
   "source": [
    "from csv import reader\n",
    "from random import Random\n",
    "\n",
    "TEST_PORTION = 0.2\n",
    "ATLAS_DIR='/Users/jasonmiller/WVU/Localization/LncAtlas/'\n",
    "ATLAS_CODING='CNRCI_coding_genes.csv'\n",
    "ATLAS_NONCODING='CNRCI_noncoding_genes.csv'\n",
    "GENCODE_DIR='/Users/jasonmiller/WVU/Localization/GenCode/'\n",
    "GENCODE_CODING='Homo_sapiens.GRCh38.cds.csv'\n",
    "GENCODE_NONCODING='Homo_sapiens.GRCh38.ncrna.csv'"
   ]
  },
  {
   "cell_type": "code",
   "execution_count": 9,
   "id": "4968d3d6",
   "metadata": {},
   "outputs": [],
   "source": [
    "def load_all_rows(filepath):\n",
    "    all_rows=[]\n",
    "    with open (filepath,'r') as handle:\n",
    "        r = reader(handle)\n",
    "        headers = next(r,None)\n",
    "        print('File headers:',headers)\n",
    "        for line in r:\n",
    "            all_rows.append(line)\n",
    "    return all_rows"
   ]
  },
  {
   "cell_type": "code",
   "execution_count": 10,
   "id": "c19545d4",
   "metadata": {},
   "outputs": [
    {
     "name": "stdout",
     "output_type": "stream",
     "text": [
      "File headers: ['gene_id', 'A549', 'H1.hESC', 'HeLa.S3', 'HepG2', 'HT1080', 'HUVEC', 'MCF.7', 'NCI.H460', 'NHEK', 'SK.MEL.5', 'SK.N.DZ', 'SK.N.SH', 'GM12878', 'K562', 'IMR.90']\n",
      "File headers: ['gene_id', 'A549', 'H1.hESC', 'HeLa.S3', 'HepG2', 'HT1080', 'HUVEC', 'MCF.7', 'NCI.H460', 'NHEK', 'SK.MEL.5', 'SK.N.DZ', 'SK.N.SH', 'GM12878', 'K562', 'IMR.90']\n"
     ]
    }
   ],
   "source": [
    "all_coding_rows = load_all_rows(ATLAS_DIR+ATLAS_CODING)\n",
    "all_noncoding_rows = load_all_rows(ATLAS_DIR+ATLAS_NONCODING)"
   ]
  },
  {
   "cell_type": "code",
   "execution_count": 14,
   "id": "ba5e7b6a",
   "metadata": {},
   "outputs": [
    {
     "name": "stdout",
     "output_type": "stream",
     "text": [
      "[['ENSG00000271447', '0.127354', '1.0', 'nan', 'nan', 'nan', '0.775065', '0.263034', 'nan', '0.3856', 'nan', 'nan', '0.517848', 'nan', 'nan', 'nan'], ['ENSG00000160181', 'nan', 'nan', '1.34792', 'nan', 'nan', 'nan', '2.41504', 'nan', 'nan', 'nan', 'nan', 'nan', 'nan', 'nan', 'nan'], ['ENSG00000169871', '-0.94296', '-1.47213', '-1.94407', '-2.22531', '-0.735123', '-1.07007', '-0.700933', '-1.10321', '-1.94916', '0.0279369', '0.970047', '-1.27965', '-0.993582', 'nan', '-1.19281'], ['ENSG00000168826', '-0.370687', '-0.0471651', '-0.613863', '-1.18634', '-0.152703', '-0.771731', '-1.26649', '-0.851999', '-1.78061', 'nan', 'nan', '-1.44322', '-0.408392', '-0.770518', '-1.73548'], ['ENSG00000117602', 'nan', '0.451492', 'nan', '1.15609', '1.26212', '0.648738', '0.193042', '1.07091', '0.745835', 'nan', 'nan', '0.533392', 'nan', '-0.520832', 'nan']]\n",
      "[['ENSG00000148824', '-1.25525', '-0.11483', '-1.34377', '-2.94074', '-0.889159', '-0.93743', '-1.95416', '-1.24373', '-1.4205', '-2.45207', '-0.96639', '-2.51375', '-1.13286', '-1.65406', '-0.625578'], ['ENSG00000068697', '0.98712', '2.16212', '1.7137', '2.34801', '0.620315', '1.82917', '2.52646', '1.84576', '-0.597412', '2.52376', '1.20423', '2.29892', '1.45083', 'nan', 'nan'], ['ENSG00000134548', '2.10852', '2.88264', 'nan', 'nan', '2.13313', '-0.691878', '1.58496', '-2.5736', 'nan', 'nan', 'nan', 'nan', 'nan', '2.32193', 'nan'], ['ENSG00000242715', 'nan', '2.2993', '0.624788', 'nan', '1.27737', '-0.200697', '-1.24257', '-0.666321', 'nan', '-1.54403', 'nan', 'nan', '-1.23769', '-0.547735', 'nan'], ['ENSG00000011143', '-0.481307', '-0.945617', '-1.80085', '-2.10071', '-1.43924', '-0.991822', '-1.51841', '-1.40659', '-0.885925', '-2.42857', '-1.45024', '-1.19096', '-1.87029', '-1.99693', '-1.07009']]\n"
     ]
    }
   ],
   "source": [
    "def inplace_shuffle(rows):\n",
    "    generator = Random()\n",
    "    generator.seed(42)\n",
    "    generator.shuffle(rows)  # in-place\n",
    "inplace_shuffle(all_coding_rows)\n",
    "inplace_shuffle(all_coding_rows)"
   ]
  },
  {
   "cell_type": "code",
   "execution_count": 16,
   "id": "3825072c",
   "metadata": {},
   "outputs": [
    {
     "name": "stdout",
     "output_type": "stream",
     "text": [
      "Total, train, test: 17770 14216 3554\n",
      "Total, train, test: 6768 5415 1353\n"
     ]
    }
   ],
   "source": [
    "def train_test_split(rows):\n",
    "    length = len(rows)\n",
    "    divider = int(length*TEST_PORTION)\n",
    "    train_set = rows[divider:]\n",
    "    test_set = rows[:divider]\n",
    "    print('Total, train, test:',len(rows),len(train_set),len(test_set))\n",
    "    return (train_set,test_set)\n",
    "coding_train_set,coding_test_set = train_test_split(all_coding_rows)\n",
    "noncoding_train_set,noncoding_test_set = train_test_split(all_noncoding_rows)"
   ]
  },
  {
   "cell_type": "code",
   "execution_count": null,
   "id": "9b7a0a5c",
   "metadata": {},
   "outputs": [],
   "source": []
  }
 ],
 "metadata": {
  "kernelspec": {
   "display_name": "Python 3 (ipykernel)",
   "language": "python",
   "name": "python3"
  },
  "language_info": {
   "codemirror_mode": {
    "name": "ipython",
    "version": 3
   },
   "file_extension": ".py",
   "mimetype": "text/x-python",
   "name": "python",
   "nbconvert_exporter": "python",
   "pygments_lexer": "ipython3",
   "version": "3.10.0"
  }
 },
 "nbformat": 4,
 "nbformat_minor": 5
}
