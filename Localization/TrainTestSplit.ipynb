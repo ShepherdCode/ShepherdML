{
 "cells": [
  {
   "cell_type": "markdown",
   "id": "3de8d447",
   "metadata": {},
   "source": [
    "# Train Test Split\n",
    "\n",
    "Choose 20% of genes to be the unseen test set.   \n",
    "For each test gene, remove all its transcripts from the training set.  \n",
    "\n",
    "The task is simplified by our upstream data processing.   \n",
    "Instead of one csv row per (gene_id,cell_line), we have one row per (gene_id).  \n",
    "\n",
    "This notebook reads lines of text, shuffles them, partitions them, writes them.\n",
    "The code ignores the csv nature of each line.   \n",
    "However, the code takes the header line from input and repeats it in each output."
   ]
  },
  {
   "cell_type": "code",
   "execution_count": 1,
   "id": "be6f1266",
   "metadata": {},
   "outputs": [
    {
     "name": "stdout",
     "output_type": "stream",
     "text": [
      "2022-10-11 17:38:57.180916\n"
     ]
    }
   ],
   "source": [
    "from random import Random\n",
    "from datetime import datetime\n",
    "print(datetime.now())\n",
    "\n",
    "TEST_PORTION = 0.2\n",
    "ATLAS_DIR='/Users/jasonmiller/WVU/Localization/LncAtlas/'\n",
    "ATLAS_CODING='CNRCI_coding_genes.csv'\n",
    "ATLAS_NONCODING='CNRCI_noncoding_genes.csv'\n",
    "GENCODE_DIR='/Users/jasonmiller/WVU/Localization/GenCode/'\n",
    "GENCODE_CODING='Homo_sapiens.GRCh38.cds.csv'\n",
    "GENCODE_NONCODING='Homo_sapiens.GRCh38.ncrna.csv'\n",
    "\n",
    "CODING_TEST = 'CNRCI_coding_test_genes.csv'\n",
    "CODING_TRAIN = 'CNRCI_coding_train_genes.csv'\n",
    "NONCODING_TEST = 'CNRCI_noncoding_test_genes.csv'\n",
    "NONCODING_TRAIN = 'CNRCI_noncoding_train_genes.csv'"
   ]
  },
  {
   "cell_type": "code",
   "execution_count": 2,
   "id": "36da2558",
   "metadata": {},
   "outputs": [],
   "source": [
    "def load_available_genes(filepath):\n",
    "    '''Load IDs of the genes for which we have sequence.\n",
    "    We will ignore ATLAS data if GenCode does not have the sequence.'''\n",
    "    genes=set()\n",
    "    with open (filepath) as handle:\n",
    "        # The long RNA strings preclude the use of csv.reader\n",
    "        header = None\n",
    "        for line in handle:\n",
    "            if header is None:\n",
    "                header = line\n",
    "            else:\n",
    "                fields = line.split(',')\n",
    "                gene_id = fields[1]\n",
    "                genes.add(gene_id)\n",
    "    return genes"
   ]
  },
  {
   "cell_type": "code",
   "execution_count": 3,
   "id": "ecf78e6a",
   "metadata": {},
   "outputs": [
    {
     "name": "stdout",
     "output_type": "stream",
     "text": [
      "2022-10-11 17:38:57.208841\n",
      "2022-10-11 17:38:57.704407\n"
     ]
    }
   ],
   "source": [
    "print(datetime.now())\n",
    "coding_genes = load_available_genes(GENCODE_DIR+GENCODE_CODING)\n",
    "noncoding_genes = load_available_genes(GENCODE_DIR+GENCODE_NONCODING)\n",
    "print(datetime.now())"
   ]
  },
  {
   "cell_type": "code",
   "execution_count": 4,
   "id": "4968d3d6",
   "metadata": {},
   "outputs": [],
   "source": [
    "def load_all_rows(filepath):\n",
    "    '''Load ATLAS csv (coding or noncoding files)'''\n",
    "    with open (filepath,'r') as handle:\n",
    "        all_rows = handle.readlines()\n",
    "    header = all_rows[0]\n",
    "    data = all_rows[1:]\n",
    "    return header,data"
   ]
  },
  {
   "cell_type": "code",
   "execution_count": 5,
   "id": "c19545d4",
   "metadata": {},
   "outputs": [
    {
     "name": "stdout",
     "output_type": "stream",
     "text": [
      "2022-10-11 17:38:57.750389\n",
      "2022-10-11 17:38:57.785881\n"
     ]
    }
   ],
   "source": [
    "print(datetime.now())\n",
    "header_coding,all_coding_rows = load_all_rows(ATLAS_DIR+ATLAS_CODING)\n",
    "header_noncoding,all_noncoding_rows = load_all_rows(ATLAS_DIR+ATLAS_NONCODING)\n",
    "print(datetime.now())"
   ]
  },
  {
   "cell_type": "code",
   "execution_count": 6,
   "id": "0ef603b9",
   "metadata": {},
   "outputs": [],
   "source": [
    "def remove_unknown_genes(atlas,genes):\n",
    "    filtered_rows = []\n",
    "    for row in atlas:\n",
    "        fields = row.split(',')\n",
    "        gene_id = fields[0]\n",
    "        if gene_id in genes:\n",
    "            filtered_rows.append(row)\n",
    "    return filtered_rows"
   ]
  },
  {
   "cell_type": "code",
   "execution_count": 7,
   "id": "f968c921",
   "metadata": {},
   "outputs": [
    {
     "name": "stdout",
     "output_type": "stream",
     "text": [
      "2022-10-11 17:38:57.813903\n",
      "2022-10-11 17:38:57.853242\n"
     ]
    }
   ],
   "source": [
    "print(datetime.now())\n",
    "some_coding_rows = remove_unknown_genes(all_coding_rows,coding_genes)\n",
    "some_noncoding_rows = remove_unknown_genes(all_noncoding_rows,noncoding_genes)\n",
    "print(datetime.now())"
   ]
  },
  {
   "cell_type": "code",
   "execution_count": 8,
   "id": "bd5eb0e1",
   "metadata": {},
   "outputs": [],
   "source": [
    "def inplace_shuffle(rows):\n",
    "    generator = Random()\n",
    "    generator.seed(42)\n",
    "    generator.shuffle(rows)  # in-place\n",
    "inplace_shuffle(some_coding_rows)\n",
    "inplace_shuffle(some_coding_rows)"
   ]
  },
  {
   "cell_type": "code",
   "execution_count": 9,
   "id": "3825072c",
   "metadata": {},
   "outputs": [],
   "source": [
    "def train_test_split(rows):\n",
    "    length = len(rows)\n",
    "    divider = int(length*TEST_PORTION)\n",
    "    train_set = rows[divider:]\n",
    "    test_set = rows[:divider]\n",
    "    return (train_set,test_set)\n",
    "coding_train_set,coding_test_set = train_test_split(some_coding_rows)\n",
    "noncoding_train_set,noncoding_test_set = train_test_split(some_noncoding_rows)"
   ]
  },
  {
   "cell_type": "code",
   "execution_count": 10,
   "id": "15b17a56",
   "metadata": {},
   "outputs": [],
   "source": [
    "def save_csv(header,rows,filepath):\n",
    "    with open(filepath,'w') as handle:\n",
    "        handle.write(header)\n",
    "        for line in rows:\n",
    "            handle.write(line)"
   ]
  },
  {
   "cell_type": "code",
   "execution_count": 11,
   "id": "8111fcf6",
   "metadata": {},
   "outputs": [],
   "source": [
    "filename = ATLAS_DIR + CODING_TEST\n",
    "save_csv( header_coding, coding_test_set, filename)\n",
    "\n",
    "filename = ATLAS_DIR + CODING_TRAIN\n",
    "save_csv( header_coding, coding_train_set, filename)\n",
    "\n",
    "filename = ATLAS_DIR + NONCODING_TEST\n",
    "save_csv( header_noncoding, noncoding_test_set, filename)\n",
    "\n",
    "filename = ATLAS_DIR + NONCODING_TRAIN\n",
    "save_csv( header_noncoding, noncoding_train_set, filename)"
   ]
  },
  {
   "cell_type": "code",
   "execution_count": 12,
   "id": "40b8d1bb",
   "metadata": {},
   "outputs": [
    {
     "name": "stdout",
     "output_type": "stream",
     "text": [
      "done\n"
     ]
    }
   ],
   "source": [
    "print('done')"
   ]
  },
  {
   "cell_type": "code",
   "execution_count": 13,
   "id": "5fca8928",
   "metadata": {},
   "outputs": [
    {
     "name": "stdout",
     "output_type": "stream",
     "text": [
      "   Coding total, filtered, train, test: 17770 17412 13930 3482\n",
      "Noncoding total, filtered, train, test: 6768 5777 4622 1155\n"
     ]
    }
   ],
   "source": [
    "print('   Coding total, filtered, train, test:',\n",
    "      len(all_coding_rows),len(some_coding_rows),len(coding_train_set),len(coding_test_set))\n",
    "print('Noncoding total, filtered, train, test:',\n",
    "      len(all_noncoding_rows),len(some_noncoding_rows),len(noncoding_train_set),len(noncoding_test_set))\n"
   ]
  },
  {
   "cell_type": "code",
   "execution_count": null,
   "id": "3f58c05f",
   "metadata": {},
   "outputs": [],
   "source": []
  }
 ],
 "metadata": {
  "kernelspec": {
   "display_name": "Python 3 (ipykernel)",
   "language": "python",
   "name": "python3"
  },
  "language_info": {
   "codemirror_mode": {
    "name": "ipython",
    "version": 3
   },
   "file_extension": ".py",
   "mimetype": "text/x-python",
   "name": "python",
   "nbconvert_exporter": "python",
   "pygments_lexer": "ipython3",
   "version": "3.10.0"
  }
 },
 "nbformat": 4,
 "nbformat_minor": 5
}
