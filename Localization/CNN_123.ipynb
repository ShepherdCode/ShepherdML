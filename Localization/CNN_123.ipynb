{
 "cells": [
  {
   "cell_type": "markdown",
   "metadata": {
    "id": "PG-tGRnlFLA3"
   },
   "source": [
    "# CNN + GlobalAvgPool \n",
    "Based on CNN 107 which got 75% acc on H1 coding len 2000-4000.  \n",
    "Model: Embed mask, Conv1D, GlobalAvgPool.   \n",
    "\n",
    "H1 coding len 3000-4000.  \n",
    "Cross validation 5 folds 5 epochs, accuracy mean , F1 mean \n",
    "\n",
    "Same as CNN 118 but switch K=4 to K=3."
   ]
  },
  {
   "cell_type": "code",
   "execution_count": 120,
   "metadata": {
    "colab": {
     "base_uri": "https://localhost:8080/"
    },
    "id": "0RmwUsVLFLA6",
    "outputId": "7bbb28a7-d6ca-4ae1-cd76-4aa42d78c308"
   },
   "outputs": [
    {
     "name": "stdout",
     "output_type": "stream",
     "text": [
      "2022-12-29 15:59:32.718890\n",
      "Python 3.8.16\n",
      "sklearn 1.0.2\n"
     ]
    }
   ],
   "source": [
    "from datetime import datetime\n",
    "print(datetime.now())\n",
    "from platform import python_version\n",
    "print('Python',python_version())\n",
    "import numpy as np\n",
    "import pandas as pd\n",
    "from matplotlib import pyplot as plt \n",
    "import sklearn   # pip install --upgrade scikit-learn\n",
    "print('sklearn',sklearn.__version__)"
   ]
  },
  {
   "cell_type": "markdown",
   "metadata": {
    "id": "tUtGXPrcFLA8"
   },
   "source": [
    "We prevously used sklearn.model_selection.ShuffleSplit   \n",
    "Now we avoid it due to this note in the \n",
    "[documentation](https://scikit-learn.org/stable/modules/generated/sklearn.model_selection.ShuffleSplit.html):\n",
    "Note: contrary to other cross-validation strategies, random splits do not guarantee that all folds will be different, although this is still very likely for sizeable datasets."
   ]
  },
  {
   "cell_type": "code",
   "execution_count": 121,
   "metadata": {
    "id": "PRX-UEr8FLA8"
   },
   "outputs": [],
   "source": [
    "import tensorflow as tf\n",
    "dt='float32'\n",
    "tf.keras.backend.set_floatx('float32')\n",
    "tf.random.set_seed(42) \n",
    "\n",
    "from tensorflow import keras\n",
    "from sklearn.model_selection import KFold\n",
    "from sklearn.metrics import accuracy_score\n",
    "from sklearn.metrics import precision_score\n",
    "from sklearn.metrics import recall_score\n",
    "from sklearn.metrics import f1_score\n",
    "\n",
    "from keras.models import Sequential\n",
    "from keras.layers import Masking\n",
    "from keras.layers import Embedding\n",
    "from keras.layers import Conv1D\n",
    "from keras.layers import MaxPooling1D\n",
    "from keras.layers import GlobalAveragePooling1D\n",
    "from keras.layers import GlobalMaxPooling1D\n",
    "from keras.layers import Flatten\n",
    "from keras.layers import Attention\n",
    "from keras.layers import Bidirectional\n",
    "from keras.layers import LSTM\n",
    "from keras.layers import Dense\n",
    "from keras.layers import Dropout\n",
    "from keras.losses import BinaryCrossentropy\n",
    "\n",
    "K=3\n",
    "RCI_THRESHOLD=0.0\n",
    "CFILTERS=64\n",
    "FILTERSIZE=8\n",
    "RCELLS=16\n",
    "DCELLS=8\n",
    "EPOCHS=5\n",
    "FOLDS=5      \n",
    "EMBED_DIMEN = 4 # arbitrary hyperparameter\n",
    "BREAK = False   # break after first fold\n",
    "MINLEN=3000\n",
    "MAXLEN=4000   "
   ]
  },
  {
   "cell_type": "code",
   "execution_count": 122,
   "metadata": {
    "colab": {
     "base_uri": "https://localhost:8080/"
    },
    "id": "OlzN9OdsFWEU",
    "outputId": "b9fa8438-56b2-4241-8c0b-d0b0b6f70643"
   },
   "outputs": [
    {
     "name": "stdout",
     "output_type": "stream",
     "text": [
      "Running on CoLab\n",
      "Drive already mounted at /content/drive/; to attempt to forcibly remount, call drive.mount(\"/content/drive/\", force_remount=True).\n",
      "/content/drive/My Drive/data/Localization/TrainTest/\n"
     ]
    }
   ],
   "source": [
    "try:\n",
    "    from google.colab import drive\n",
    "    IN_COLAB = True\n",
    "    print('Running on CoLab')\n",
    "    PATH='/content/drive/'\n",
    "    drive.mount(PATH)\n",
    "    DATA_DIR=PATH+'My Drive/data/Localization/TrainTest/'  # must end in \"/\"\n",
    "except:\n",
    "    IN_COLAB = False\n",
    "    DATA_DIR = 'D:/Adjeroh/Localization/TrainTest/'   # Windows\n",
    "    DATA_DIR = '/Users/jasonmiller/WVU/Localization/TrainTest/'    # Mac\n",
    "print(DATA_DIR)"
   ]
  },
  {
   "cell_type": "code",
   "execution_count": 123,
   "metadata": {
    "id": "LnkpVKdMFLA-"
   },
   "outputs": [],
   "source": [
    "GENES_FILE =    'CNRCI_coding_train_genes.csv'\n",
    "RCI_FILE =      'CNRCI_coding_train_RCI.gc42.csv'\n",
    "SEQUENCE_FILE = 'CNRCI_coding_train_transcripts.gc42.csv'\n",
    "COUNTS_FILE=    'CNRCI_coding_train_counts.K4.gc42.csv'"
   ]
  },
  {
   "cell_type": "code",
   "execution_count": 124,
   "metadata": {
    "colab": {
     "base_uri": "https://localhost:8080/"
    },
    "id": "e3p4QzQJFLA_",
    "outputId": "23fdc2c1-e9e3-40a7-ad39-beea4ab660f1"
   },
   "outputs": [
    {
     "name": "stdout",
     "output_type": "stream",
     "text": [
      "Cell line for today: 1 = H1.hESC\n"
     ]
    }
   ],
   "source": [
    "def get_ordered_list():\n",
    "    ordered_list = \\\n",
    "    ['A549',\\\n",
    "      'H1.hESC',\\\n",
    "      'HeLa.S3',\\\n",
    "      'HepG2',\\\n",
    "      'HT1080',\\\n",
    "      'HUVEC',\\\n",
    "      'MCF.7',\\\n",
    "      'NCI.H460',\\\n",
    "      'NHEK',\\\n",
    "      'SK.MEL.5',\\\n",
    "      'SK.N.DZ',\\\n",
    "      'SK.N.SH',\\\n",
    "      'GM12878',\\\n",
    "      'K562',\\\n",
    "      'IMR.90']\n",
    "    return ordered_list\n",
    "CELL_LINE_NUMBER=1\n",
    "all_cell_lines = get_ordered_list()\n",
    "cell_line_name = all_cell_lines[CELL_LINE_NUMBER]\n",
    "print('Cell line for today:',CELL_LINE_NUMBER,'=',cell_line_name)"
   ]
  },
  {
   "cell_type": "markdown",
   "metadata": {
    "id": "UtqdpJOxFLBA"
   },
   "source": [
    "## Data Load"
   ]
  },
  {
   "cell_type": "code",
   "execution_count": 125,
   "metadata": {
    "colab": {
     "base_uri": "https://localhost:8080/"
    },
    "id": "p35ehKV3Kq0z",
    "outputId": "a757f032-218e-4376-aa2a-ef5e1c2ec3be"
   },
   "outputs": [
    {
     "name": "stdout",
     "output_type": "stream",
     "text": [
      "[1, 1]\n",
      "[20, 16]\n",
      "[63, 57]\n",
      "[64, 0]\n",
      "0\n",
      "1\n"
     ]
    }
   ],
   "source": [
    "class DataLoader():\n",
    "    def __init__(self):\n",
    "        self.cache=dict() \n",
    "        self.vals = {'A':0, 'C':1, 'G':2, 'T':3}\n",
    "        \n",
    "    def load_gene_rci_values(self,filepath,cell_line):\n",
    "        '''\n",
    "        Load from RCI csv file.\n",
    "        Return dict with keys=gene:str and values=RCI:float.\n",
    "        '''\n",
    "        gene_to_rci = {}\n",
    "        with open (filepath,'r') as handle:\n",
    "            header = None\n",
    "            for row in handle:\n",
    "                if header is None:\n",
    "                    header = row # skip file's header line\n",
    "                else:\n",
    "                    line = row.strip()\n",
    "                    fields = line.split(',')\n",
    "                    gene_id = fields[0]\n",
    "                    rci_val = fields[cell_line+1]\n",
    "                    if rci_val != \"nan\":\n",
    "                        # Convert string nan to float(nan)\n",
    "                        gene_to_rci[gene_id] = float(rci_val)\n",
    "        return gene_to_rci\n",
    "    \n",
    "    def seq_to_kmer_values(self,rna,K):\n",
    "        # The cache may represent more than one K. Probably not a problem.\n",
    "        N_indicator = 0 # indicator value\n",
    "        vec=[] # seq converted to list of K-mers \n",
    "        length = len(rna)\n",
    "        for i in range(length-K+1):\n",
    "            kmer = rna[i:i+K]\n",
    "            if 'N' in kmer:\n",
    "                value = N_indicator\n",
    "            elif kmer in self.cache.keys():\n",
    "                value = self.cache[kmer]\n",
    "            else:\n",
    "                value = 0\n",
    "                for j in range(K):\n",
    "                    value *= 4   \n",
    "                    nextnuc = kmer[j] \n",
    "                    nucval = self.vals[nextnuc]\n",
    "                    value += nucval\n",
    "                value += 1   # NNN => 0, AAA => 1\n",
    "                self.cache[kmer] = value\n",
    "            vec.append(value)\n",
    "        return vec\n",
    "\n",
    "    def rci_to_label(self,rci):\n",
    "        CYTO_LABEL = 1\n",
    "        NUCLEAR_LABEL = 0\n",
    "        # cnrci = log (cyto-to-nuclear ratio)\n",
    "        # rci > 0 implies cytoplasmic\n",
    "        if rci > RCI_THRESHOLD:\n",
    "            return CYTO_LABEL\n",
    "        return NUCLEAR_LABEL\n",
    "\n",
    "    def load_sequence(self,filepath):\n",
    "        labels=[]\n",
    "        allids=[]\n",
    "        allseq=[]\n",
    "        NREPEAT = str('N'*MAXLEN)\n",
    "        with open (filepath,'r') as handle:\n",
    "            header = None\n",
    "            for row in handle:\n",
    "                if header is None:\n",
    "                    header = row\n",
    "                else:\n",
    "                    line    = row.strip()\n",
    "                    fields  = line.split(',')\n",
    "                    tran_id = fields[0]  # with version number\n",
    "                    gene_id = fields[1]        # without version number\n",
    "                    seq_len = int(fields[3])\n",
    "                    seq_txt = fields[4]\n",
    "                    if seq_len>=MINLEN and seq_len<=MAXLEN and gene_id in gene_to_rci.keys():\n",
    "                        allids.append( (gene_id,tran_id) )\n",
    "                        rci_val = gene_to_rci[gene_id]\n",
    "                        rci_label = self.rci_to_label(rci_val)\n",
    "                        labels.append(rci_label)\n",
    "                        if seq_len<MAXLEN:\n",
    "                            seq_txt = seq_txt + NREPEAT\n",
    "                            seq_txt = seq_txt[:MAXLEN]\n",
    "                        hot_vec = self.seq_to_kmer_values(seq_txt,K)\n",
    "                        allseq.append(hot_vec)\n",
    "        return labels,allids,allseq\n",
    "    \n",
    "loader = DataLoader()\n",
    "# test it\n",
    "print(loader.seq_to_kmer_values('AAAA',3))\n",
    "print(loader.seq_to_kmer_values('CATT',3))\n",
    "print(loader.seq_to_kmer_values('TTGA',3))\n",
    "print(loader.seq_to_kmer_values('TTTN',3))\n",
    "# test it\n",
    "print(loader.rci_to_label(-0.9))\n",
    "print(loader.rci_to_label(1.1))"
   ]
  },
  {
   "cell_type": "code",
   "execution_count": 126,
   "metadata": {
    "colab": {
     "base_uri": "https://localhost:8080/"
    },
    "id": "cYoYDc93FLBB",
    "outputId": "80cea703-2a2e-4662-fe2b-e7f86f331fa2"
   },
   "outputs": [
    {
     "name": "stdout",
     "output_type": "stream",
     "text": [
      "2022-12-29 15:59:35.049313\n",
      "Load RCI values...\n",
      "Num RCI: 13000\n",
      "Example RCI: [('ENSG00000000003', 1.85734), ('ENSG00000000005', 5.88264), ('ENSG00000000419', 2.58954)]\n",
      "Load genes...\n",
      "2022-12-29 15:59:35.083378\n",
      "Load sequence...\n",
      "2022-12-29 15:59:46.286755\n",
      "Num IDs: 6935\n",
      "Example IDs: [('ENSG00000197530', 'ENST00000505820.7'), ('ENSG00000149527', 'ENST00000278878.6'), ('ENSG00000171680', 'ENST00000535355.6'), ('ENSG00000171680', 'ENST00000537245.6')]\n",
      "Count 2965 ones out of 6935 labels.\n",
      "Example labels: [0, 0, 0, 0]\n",
      "Num counts: 6935\n",
      "Example sequence: [52, 13, 49, 1, 4, 15, 58, 40, 32, 62, 56, 30, 53, 20, 14, 53, 19, 9, 34, 8, 30, 53, 17, 3, 11, 42, 38, 24, 31, 57, 35, 11, 44, 47, 57, 36, 15, 58, 40, 31, 57, 36, 15, 58, 40, 31, 60, 47, 58, 38, 24, 31, 57, 33, 4, 16, 62, 54, 21, 19, 10, 37, 19, 11, 43, 41, 35, 11, 41, 35, 11, 42, 37, 20, 15, 57, 35, 11, 44, 47, 58, 39, 28, 46, 54, 23, 25, 34, 8, 30, 54, 22, 24, 32, 62, 54, 22, 21, 20, 14, 53, 18, 5, 19, 10, 40, 31, 57, 35, 10, 40, 29, 51, 12, 48, 64, 64, 64, 62, 53, 19, 11, 44, 48, 61, 49, 2, 8, 32, 64, 63, 59, 41, 33, 4, 15, 58, 38, 22, 21, 20, 15, 59, 42, 40, 29, 49, 3, 9, 34, 6, 21, 19, 11, 43, 43, 44, 46, 54, 21, 20, 14, 54, 21, 19, 9, 34, 5, 19, 12, 48, 62, 53, 19, 11, 43, 42, 40, 32, 61, 52, 13, 49, 4, 16, 64, 64, 61, 52, 16, 64, 64, 64, 63, 59, 44, 48, 64, 61, 52, 15, 57, 35, 11, 43, 41, 33, 2, 6, 24, 29, 51, 9, 33, 3, 11, 42, 37, 19, 10, 38, 22, 21, 18, 5, 18, 7, 26, 37, 18, 6, 24, 32, 61, 50, 8, 30, 54, 24, 30, 54, 22, 21, 19, 10, 37, 19, 11, 43, 43, 41, 34, 5, 18, 6, 23, 27, 42, 38, 21, 19, 9, 34, 6, 22, 22, 21, 17, 3, 10, 40, 30, 54, 21, 18, 5, 18, 8, 30, 54, 22, 21, 18, 6, 22, 24, 30, 53, 19, 10, 37, 18, 6, 22, 21, 18, 6, 22, 21, 19, 11, 42, 38, 21, 19, 10, 37, 19, 10, 38, 23, 27, 43, 43, 43, 42, 37, 18, 6, 24, 32, 63, 59, 44, 47, 58, 38, 21, 18, 6, 24, 32, 61, 51, 12, 47, 58, 38, 24, 31, 60, 48, 62, 56, 31, 58, 39, 27, 41, 35, 11, 42, 40, 30, 54, 21, 18, 8, 31, 59, 41, 34, 5, 19, 12, 47, 58, 37, 19, 12, 48, 63, 57, 36, 15, 58, 38, 22, 23, 27, 43, 43, 42, 38, 23, 25, 35, 11, 43, 43, 43, 42, 40, 30, 56, 31, 58, 38, 24, 31, 59, 43, 41, 35, 11, 42, 40, 31, 60, 48, 62, 53, 18, 6, 24, 31, 58, 38, 24, 31, 59, 43, 44, 47, 58, 37, 19, 11, 41, 34, 6, 22, 22, 21, 19, 9, 35, 11, 43, 41, 34, 6, 22, 22, 21, 19, 11, 42, 38, 21, 18, 6, 22, 22, 24, 31, 59, 42, 38, 24, 31, 58, 38, 22, 21, 20, 15, 58, 38, 22, 21, 18, 7, 27, 43, 41, 33, 4, 14, 54, 22, 23, 25, 34, 6, 24, 32, 63, 59, 43, 42, 40, 31, 58, 38, 24, 31, 60, 46, 56, 29, 52, 16, 63, 58, 37, 18, 6, 21, 19, 9, 33, 2, 6, 23, 28, 46, 54, 22, 21, 19, 11, 43, 42, 40, 31, 57, 34, 8, 30, 53, 19, 9, 35, 12, 47, 57, 34, 6, 22, 24, 31, 57, 35, 12, 47, 59, 43, 43, 43, 41, 34, 7, 26, 40, 30, 53, 18, 6, 22, 22, 21, 19, 11, 43, 43, 41, 35, 11, 41, 33, 1, 2, 7, 27, 43, 43, 42, 40, 30, 56, 31, 59, 43, 41, 36, 13, 51, 11, 41, 35, 11, 44, 46, 54, 24, 31, 59, 42, 40, 31, 59, 43, 43, 44, 46, 54, 22, 21, 18, 5, 19, 9, 36, 15, 58, 38, 21, 19, 11, 42, 39, 26, 38, 24, 31, 58, 38, 21, 20, 14, 56, 30, 54, 21, 19, 11, 43, 42, 37, 19, 12, 47, 58, 40, 31, 60, 46, 53, 18, 5, 19, 9, 33, 3, 9, 34, 5, 17, 2, 5, 18, 6, 23, 26, 40, 30, 54, 22, 24, 30, 55, 28, 48, 61, 50, 6, 24, 31, 60, 47, 59, 42, 38, 22, 23, 27, 42, 38, 21, 18, 6, 24, 30, 53, 19, 10, 39, 27, 42, 38, 22, 21, 17, 3, 11, 41, 35, 11, 44, 47, 57, 35, 10, 40, 30, 53, 18, 5, 19, 10, 38, 21, 20, 15, 58, 40, 30, 55, 27, 44, 46, 53, 17, 4, 15, 59, 43, 43, 42, 38, 24, 31, 59, 42, 38, 23, 28, 46, 56, 32, 64, 62, 54, 24, 31, 59, 43, 41, 35, 9, 35, 9, 35, 10, 37, 19, 9, 35, 11, 42, 37, 20, 15, 59, 43, 42, 38, 22, 21, 17, 1, 3, 11, 43, 41, 35, 10, 38, 21, 19, 11, 43, 41, 36, 15, 58, 38, 24, 31, 58, 38, 22, 23, 28, 46, 54, 22, 24, 32, 62, 56, 30, 56, 30, 53, 20, 16, 62, 53, 19, 11, 42, 40, 30, 53, 18, 6, 24, 31, 59, 44, 46, 53, 20, 15, 59, 44, 47, 58, 37, 19, 12, 47, 57, 34, 6, 21, 18, 5, 19, 11, 41, 34, 6, 22, 22, 22, 21, 18, 5, 20, 15, 58, 38, 23, 27, 43, 41, 35, 10, 40, 31, 59, 43, 44, 48, 62, 55, 26, 38, 22, 22, 21, 18, 6, 22, 22, 21, 18, 6, 22, 22, 22, 24, 31, 58, 37, 18, 6, 23, 27, 43, 42, 38, 21, 19, 10, 39, 25, 35, 11, 43, 43, 41, 36, 15, 59, 42, 38, 22, 21, 19, 9, 33, 3, 9, 35, 11, 43, 43, 43, 41, 35, 11, 41, 34, 6, 21, 20, 15, 60, 47, 59, 41, 36, 16, 62, 53, 18, 6, 21, 19, 12, 47, 58, 40, 31, 59, 41, 34, 5, 20, 15, 60, 47, 58, 40, 30, 56, 31, 60, 47, 59, 42, 40, 29, 50, 6, 22, 22, 22, 24, 30, 56, 31, 58, 38, 24, 29, 50, 8, 30, 56, 30, 56, 31, 59, 42, 38, 22, 23, 25, 36, 13, 50, 5, 19, 11, 43, 43, 44, 47, 60, 47, 59, 43, 41, 34, 5, 19, 11, 42, 38, 24, 31, 59, 43, 44, 47, 57, 34, 8, 30, 54, 21, 19, 10, 37, 20, 15, 59, 42, 40, 32, 64, 62, 54, 24, 30, 56, 30, 54, 21, 19, 11, 41, 34, 7, 28, 46, 53, 18, 6, 23, 27, 44, 47, 59, 42, 37, 19, 10, 40, 31, 58, 40, 32, 62, 54, 24, 32, 62, 54, 21, 19, 9, 35, 10, 38, 23, 27, 42, 37, 19, 11, 41, 35, 11, 42, 38, 21, 19, 9, 35, 11, 42, 40, 30, 54, 21, 20, 14, 54, 24, 31, 58, 40, 32, 62, 53, 19, 9, 35, 10, 40, 31, 58, 38, 21, 19, 10, 40, 31, 58, 38, 22, 22, 22, 23, 26, 37, 17, 4, 15, 59, 42, 40, 31, 57, 35, 10, 37, 18, 6, 23, 25, 33, 3, 10, 37, 20, 15, 59, 41, 34, 7, 27, 43, 41, 35, 9, 33, 4, 15, 59, 41, 33, 3, 10, 37, 19, 10, 38, 21, 18, 5, 18, 7, 27, 43, 43, 43, 43, 43, 42, 40, 30, 56, 30, 53, 18, 6, 24, 30, 54, 21, 19, 11, 42, 40, 31, 58, 37, 19, 10, 38, 22, 21, 19, 9, 34, 7, 26, 38, 22, 22, 22, 22, 21, 19, 11, 42, 38, 23, 27, 43, 43, 42, 38, 21, 18, 6, 21, 20, 14, 53, 19, 10, 37, 18, 6, 21, 18, 6, 21, 18, 6, 21, 18, 6, 21, 18, 6, 22, 21, 17, 3, 11, 41, 35, 11, 43, 43, 42, 37, 18, 6, 21, 19, 11, 41, 35, 11, 43, 43, 42, 40, 31, 59, 44, 47, 59, 41, 35, 10, 40, 31, 58, 38, 22, 23, 26, 38, 24, 30, 55, 28, 48, 62, 54, 23, 27, 43, 41, 35, 10, 40, 31, 58, 40, 30, 53, 18, 6, 24, 32, 62, 56, 32, 62, 56, 31, 58, 37, 18, 6, 21, 17, 4, 15, 58, 38, 21, 18, 6, 21, 20, 14, 54, 21, 18, 7, 27, 42, 39, 26, 38, 21, 20, 14, 54, 23, 26, 38, 24, 31, 59, 44, 46, 56, 31, 58, 40, 30, 54, 22, 23, 26, 39, 27, 43, 41, 33, 2, 6, 23, 26, 38, 24, 30, 53, 17, 3, 9, 34, 7, 25, 34, 7, 28, 46, 54, 24, 31, 59, 43, 43, 43, 42, 40, 31, 58, 40, 31, 60, 46, 54, 22, 24, 31, 59, 43, 41, 35, 10, 38, 22, 24, 31, 59, 44, 46, 55, 26, 39, 26, 40, 30, 56, 31, 58, 40, 31, 59, 42, 37, 19, 10, 40, 31, 59, 43, 43, 42, 40, 30, 54, 24, 30, 56, 32, 64, 63, 57, 35, 10, 39, 28, 46, 53, 18, 8, 31, 59, 42, 37, 18, 6, 23, 26, 38, 22, 23, 27, 44, 46, 54, 24, 30, 53, 20, 15, 59, 42, 38, 23, 28, 46, 56, 30, 56, 31, 60, 47, 58, 37, 18, 8, 30, 55, 27, 41, 35, 10, 39, 26, 37, 17, 3, 10, 40, 31, 58, 40, 30, 54, 22, 23, 26, 40, 31, 59, 44, 46, 53, 18, 6, 22, 24, 31, 60, 47, 60, 47, 57, 34, 7, 27, 43, 41, 33, 2, 6, 22, 21, 18, 7, 28, 46, 55, 27, 42, 38, 23, 25, 35, 12, 46, 54, 23, 27, 44, 46, 54, 24, 30, 54, 23, 26, 38, 21, 20, 14, 56, 31, 59, 41, 35, 10, 40, 31, 58, 40, 31, 59, 41, 34, 7, 25, 35, 12, 48, 64, 63, 58, 38, 21, 19, 11, 43, 41, 35, 9, 33, 2, 5, 20, 16, 63, 57, 34, 8, 30, 54, 22, 24, 31, 60, 45, 50, 5, 17, 2, 7, 28, 46, 53, 17, 2, 6, 24, 30, 53, 19, 10, 37, 17, 1, 3, 11, 42, 37, 19, 9, 35, 10, 38, 23, 26, 38, 22, 24, 30, 56, 30, 54, 23, 26, 38, 21, 18, 8, 31, 60, 46, 54, 22, 22, 22, 23, 26, 38, 21, 18, 7, 25, 35, 10, 38, 22, 22, 22, 22, 24, 32, 62, 54, 21, 18, 6, 24, 31, 59, 41, 34, 6, 23, 27, 43, 41, 35, 9, 36, 14, 54, 23, 28, 46, 56, 31, 58, 37, 19, 9, 35, 11, 42, 40, 31, 57, 35, 10, 38, 21, 18, 8, 30, 55, 27, 43, 42, 37, 19, 10, 38, 23, 27, 43, 44, 46, 53, 19, 9, 35, 12, 47, 59, 43, 43, 44, 48, 62, 53, 19, 9, 34, 8, 31, 60, 47, 58, 37, 17, 2, 5, 19, 10, 37, 18, 7, 27, 43, 42, 39, 27, 42, 39, 25, 34, 8, 31, 58, 40, 32, 64, 64, 61, 50, 6, 23, 25, 35, 11, 42, 40, 29, 50, 5, 18, 7, 28, 46, 53, 19, 11, 42, 39, 28, 47, 59, 42, 39, 27, 42, 40, 31, 60, 46, 54, 21, 19, 11, 41, 34, 8, 31, 59, 44, 45, 50, 6, 21, 18, 8, 32, 62, 54, 21, 18, 8, 29, 52, 15, 60, 47, 59, 41, 36, 13, 52, 14, 54, 24, 31, 59, 42, 38, 22, 24, 31, 58, 40, 31, 58, 38, 22, 23, 26, 39, 27, 42, 37, 20, 15, 59, 43, 41, 35, 11, 41, 34, 5, 19, 10, 38, 21, 18, 7, 27, 43, 41, 35, 10, 38, 21, 19, 11, 41, 34, 7, 27, 42, 38, 21, 18, 8, 32, 62, 55, 28, 46, 54, 24, 30, 56, 30, 54, 24, 31, 58, 37, 19, 12, 48, 61, 50, 7, 25, 36, 15, 59, 42, 38, 24, 31, 59, 41, 34, 8, 31, 58, 38, 21, 19, 11, 42, 38, 22, 23, 25, 34, 5, 19, 12, 48, 62, 54, 23, 27, 41, 34, 6, 24, 32, 62, 54, 21, 18, 6, 21, 18, 6, 22, 22, 21, 18, 6, 24, 29, 50, 7, 27, 42, 37, 19, 10, 40, 31, 58, 40, 29, 50, 5, 18, 7, 27, 44, 46, 55, 25, 36, 15, 59, 42, 39, 28, 46, 56, 31, 59, 41, 34, 5, 19, 10, 40, 30, 53, 19, 10, 39, 26, 38, 22, 22, 23, 27, 42, 37, 20, 14, 53, 18, 6, 22, 21, 18, 7, 27, 41, 35, 12, 46, 55, 27, 42, 38, 24, 31, 59, 44, 46, 54, 24, 30, 53, 19, 11, 43, 44, 48, 63, 57, 35, 10, 37, 19, 10, 37, 19, 10, 38, 24, 30, 53, 18, 6, 24, 30, 54, 22, 24, 30, 56, 31, 58, 40, 31, 60, 46, 54, 21, 18, 7, 26, 40, 31, 59, 42, 38, 23, 27, 42, 37, 20, 14, 53, 19, 11, 43, 44, 46, 53, 20, 15, 59, 44, 48, 62, 53, 18, 7, 27, 42, 38, 23, 28, 45, 49, 2, 6, 21, 18, 5, 18, 7, 26, 38, 22, 24, 32, 62, 54, 24, 31, 59, 43, 43, 42, 37, 18, 6, 21, 18, 5, 19, 10, 40, 32, 62, 53, 19, 10, 39, 28, 46, 54, 23, 27, 42, 38, 21, 19, 11, 43, 41, 34, 7, 27, 41, 35, 11, 42, 38, 21, 18, 6, 21, 20, 14, 53, 19, 10, 37, 20, 14, 54, 23, 25, 35, 9, 35, 11, 41, 34, 7, 25, 35, 11, 44, 47, 58, 37, 18, 6, 23, 27, 42, 40, 30, 55, 27, 43, 41, 35, 10, 38, 22, 22, 24, 29, 50, 7, 27, 42, 38, 21, 18, 8, 31, 58, 37, 18, 6, 23, 26, 38, 23, 27, 42, 39, 27, 43, 43, 41, 33, 3, 11, 42, 39, 28, 47, 59, 41, 35, 11, 44, 47, 59, 41, 35, 10, 40, 31, 58, 40, 29, 50, 5, 18, 5, 17, 2, 5, 18, 6, 24, 30, 54, 24, 29, 50, 5, 18, 6, 21, 19, 11, 42, 37, 19, 11, 42, 38, 24, 31, 58, 38, 24, 31, 59, 44, 47, 60, 46, 54, 24, 31, 58, 40, 32, 62, 54, 21, 19, 10, 37, 19, 10, 40, 31, 57, 36, 15, 59, 44, 47, 59, 41, 35, 9, 34, 6, 24, 31, 58, 40, 30, 54, 24, 31, 60, 47, 59, 42, 40, 29, 50, 8, 29, 50, 6, 24, 30, 54, 21, 18, 6, 22, 24, 30, 56, 31, 58, 38, 23, 27, 42, 39, 27, 43, 43, 43, 42, 40, 31, 57, 35, 12, 45, 50, 8, 31, 58, 37, 19, 10, 40, 30, 56, 31, 58, 38, 22, 23, 27, 42, 37, 18, 6, 22, 24, 31, 58, 38, 24, 31, 59, 43, 43, 41, 34, 5, 18, 8, 31, 58, 40, 32, 62, 56, 29, 50, 6, 23, 26, 38, 24, 30, 56, 29, 50, 6, 21, 19, 11, 41, 34, 6, 24, 31, 59, 41, 35, 9, 34, 6, 22, 21, 18, 6, 23, 27, 42, 40, 30, 54, 22, 22, 24, 31, 60, 45, 50, 6, 24, 30, 54, 22, 23, 26, 40, 31, 58, 38, 22, 22, 21, 19, 11, 42, 38, 22, 24, 31, 58, 37, 19, 11, 43, 41, 35, 12, 46, 56, 31, 58, 37, 20, 16, 62, 53, 17, 3, 10, 40, 30, 56, 30, 54, 21, 18, 8, 31, 59, 43, 41, 34, 6, 24, 30, 54, 21, 19, 11, 44, 47, 59, 42, 38, 24, 32, 62, 54, 23, 26, 38, 21, 17, 3, 12, 46, 53, 19, 10, 40, 31, 59, 41, 36, 15, 59, 41, 34, 8, 30, 56, 31, 59, 42, 38, 21, 18, 7, 26, 40, 29, 51, 11, 44, 47, 57, 33, 2, 5, 19, 11, 43, 43, 42, 40, 31, 58, 38, 23, 26, 37, 20, 14, 53, 19, 9, 35, 10, 38, 21, 18, 5, 19, 9, 34, 5, 19, 9, 35, 11, 41, 35, 10, 37, 19, 10, 38, 24, 31, 59, 42, 38, 21, 17, 1, 1, 4, 14, 53, 17, 2, 5, 20, 14, 55, 28, 46, 56, 29, 50, 6, 21, 19, 11, 41, 35, 10, 40, 30, 53, 17, 2, 8, 29, 50, 6, 23, 26, 40, 30, 53, 19, 12, 47, 59, 41, 35, 11, 41, 35, 11, 42, 39, 26, 38, 22, 23, 28, 47, 60, 45, 50, 8, 30, 55, 27, 44, 47, 58, 38, 23, 26, 37, 19, 10, 40, 31, 58, 40, 30, 56, 30, 55, 27, 42, 38, 21, 20, 15, 59, 43, 42, 37, 19, 10, 38, 24, 30, 56, 31, 58, 37, 19, 10, 38, 24, 31, 60, 47, 59, 44, 48, 64, 63, 59, 43, 43, 42, 38, 24, 30, 54, 23, 28, 46, 54, 24, 30, 56, 30, 54, 22, 24, 30, 54, 24, 31, 59, 41, 35, 10, 40, 30, 54, 24, 31, 59, 41, 35, 10, 40, 31, 58, 40, 31, 58, 40, 30, 55, 25, 36, 15, 58, 40, 32, 62, 56, 31, 58, 38, 22, 24, 30, 53, 18, 6, 22, 24, 31, 59, 44, 47, 58, 40, 29, 51, 11, 42, 39, 27, 42, 38, 23, 26, 38, 23, 27, 42, 40, 30, 54, 23, 26, 37, 19, 11, 43, 42, 39, 28, 47, 59, 44, 48, 62, 56, 30, 54, 24, 31, 59, 42, 38, 22, 21, 19, 9, 35, 10, 38, 21, 19, 10, 38, 22, 24, 31, 58, 38, 24, 30, 53, 19, 11, 43, 43, 42, 39, 28, 46, 54, 21, 19, 10, 37, 20, 14, 53, 17, 3, 10, 38, 21, 19, 9, 35, 11, 42, 38, 21, 19, 12, 46, 53, 19, 9, 36, 15, 58, 38, 22, 22, 22, 23, 26, 38, 24, 31, 58, 37, 19, 11, 42, 39, 27, 42, 37, 18, 7, 28, 46, 53, 19, 9, 36, 15, 57, 34, 6, 22, 23, 27, 41, 35, 10, 38, 22, 21, 19, 10, 39, 27, 43, 42, 38, 24, 30, 53, 20, 14, 56, 30, 54, 22, 21, 18, 7, 27, 43, 44, 47, 57, 36, 15, 58, 40, 32, 62, 54, 21, 19, 11, 43, 43, 44, 48, 62, 56, 31, 59, 42, 39, 27, 43, 41, 35, 12, 46, 56, 30, 53, 19, 10, 38, 23, 25, 33, 3, 9, 35, 9, 35, 10, 40, 31, 59, 43, 42, 40, 31, 59, 43, 42, 38, 22, 22, 21, 19, 10, 38, 22, 22, 24, 32, 63, 57, 35, 9, 34, 8, 30, 56, 31, 59, 41, 34, 5, 18, 6, 24, 31, 57, 33, 2, 6, 21, 19, 9, 34, 6, 24, 31, 58, 38, 21, 19, 11, 43, 42, 40, 31, 60, 47, 58, 39, 25, 36, 14, 56, 30, 56, 32, 63, 59, 42, 38, 24, 31, 59, 44, 46, 54, 24, 32, 63, 58, 37, 19, 10, 40, 31, 60, 47, 59, 42, 37, 19, 10, 37, 19, 10, 37, 19, 11, 42, 40, 30, 54, 22, 22, 21, 19, 10, 39, 27, 42, 38, 22, 21, 19, 11, 43, 44, 47, 59, 43, 42, 38, 21, 19, 9, 34, 6, 21, 19, 10, 37, 19, 10, 38, 22, 21, 19, 11, 41, 33, 3, 10, 37, 19, 10, 37, 18, 5, 18, 7, 26, 39, 27, 42, 38, 23, 28, 47, 59, 43, 43, 41, 35, 11, 42, 37, 19, 11, 42, 37, 18, 6, 23, 27, 43, 42, 37, 20, 15, 60, 46, 55, 27, 42, 39, 26, 38, 24, 30, 56, 31, 59, 44, 46, 53, 17, 1, 2, 6, 21, 18, 6, 24, 29, 50, 5, 18, 8, 31, 58, 38, 24, 31, 59, 43, 43, 44, 47, 59, 43, 44, 46, 56, 30, 53, 17, 3, 11, 41, 35, 11, 42, 38, 22, 23, 27, 43, 43, 42, 39, 27, 41, 35, 11, 43, 43, 43, 43, 44, 48, 62, 54, 22, 23, 26, 39, 28, 47, 58, 37, 18, 5, 18, 7, 25, 35, 12, 47, 58, 39, 27, 42, 40, 31, 59, 41, 34, 7, 28, 47, 58, 38, 23, 25, 34, 5, 18, 7, 26, 39, 27, 44, 47, 57, 36, 15, 60, 45, 50, 6, 22, 21, 20, 15, 58, 40, 30, 54, 23, 28, 47, 60, 47, 60, 46, 56, 31, 60, 47, 60, 46, 56, 31, 58, 37, 20, 15, 60, 46, 54, 21, 18, 5, 18, 7, 28, 46, 56, 31, 57, 36, 15, 58, 37, 18, 6, 24, 31, 60, 47, 60, 45, 50, 7, 28, 47, 60, 47, 60, 46, 53, 17, 3, 10, 38, 24, 29, 51, 10, 38, 21, 18, 6, 24, 30, 53, 19, 10, 40, 31, 58, 37, 19, 11, 43, 41, 35, 11, 42, 37, 19, 9, 33, 3, 11, 42, 37, 17, 3, 11, 42, 37, 19, 11, 42, 38, 22, 22, 21, 18, 7, 27, 41, 34, 5, 18, 5, 18, 8, 32, 63, 59, 43, 42, 40, 31, 58, 40, 30, 56, 31, 57, 33, 1, 4, 13, 49, 1, 3, 10, 40, 31, 60, 48, 63, 57, 34, 8, 30, 54, 0, 0, 0, 0, 0, 0, 0, 0, 0, 0, 0, 0, 0, 0, 0, 0, 0, 0, 0, 0, 0, 0, 0, 0, 0, 0, 0, 0, 0, 0, 0, 0, 0, 0, 0, 0, 0, 0, 0, 0, 0, 0, 0, 0, 0, 0, 0, 0, 0, 0, 0, 0, 0, 0, 0, 0, 0, 0, 0, 0, 0, 0, 0, 0, 0, 0, 0, 0, 0, 0, 0, 0, 0, 0, 0, 0, 0, 0, 0, 0, 0, 0, 0, 0, 0, 0, 0, 0, 0, 0, 0, 0, 0, 0, 0, 0, 0, 0, 0, 0, 0, 0, 0, 0, 0, 0, 0, 0, 0, 0, 0, 0, 0, 0, 0, 0, 0, 0, 0, 0, 0, 0, 0, 0, 0, 0, 0, 0, 0, 0, 0, 0, 0, 0, 0, 0, 0, 0, 0, 0, 0, 0, 0, 0, 0, 0, 0, 0, 0, 0, 0, 0, 0, 0, 0, 0, 0, 0, 0, 0, 0, 0, 0, 0, 0, 0, 0, 0, 0, 0, 0, 0, 0, 0, 0, 0, 0, 0, 0, 0, 0, 0, 0, 0, 0, 0, 0, 0, 0, 0, 0, 0, 0, 0, 0, 0, 0, 0, 0, 0, 0, 0, 0, 0, 0, 0, 0, 0, 0, 0, 0, 0, 0, 0, 0, 0, 0, 0, 0, 0, 0, 0, 0, 0, 0, 0, 0, 0, 0, 0, 0, 0, 0, 0, 0, 0, 0, 0, 0, 0, 0, 0, 0, 0, 0, 0, 0, 0, 0, 0, 0, 0, 0, 0, 0, 0, 0, 0, 0, 0, 0, 0, 0, 0, 0, 0, 0, 0, 0, 0, 0, 0, 0, 0, 0, 0, 0, 0, 0, 0, 0, 0, 0, 0, 0, 0, 0, 0, 0, 0, 0, 0, 0, 0, 0, 0, 0, 0, 0, 0, 0, 0, 0, 0, 0, 0, 0, 0, 0, 0, 0, 0, 0, 0, 0, 0, 0, 0, 0, 0, 0, 0, 0, 0, 0, 0, 0, 0, 0, 0, 0, 0, 0, 0, 0, 0, 0, 0, 0, 0, 0, 0, 0, 0, 0, 0, 0, 0, 0, 0, 0, 0, 0, 0, 0, 0, 0, 0, 0, 0, 0, 0, 0, 0, 0, 0, 0, 0, 0, 0, 0, 0, 0, 0, 0, 0, 0, 0, 0, 0, 0, 0, 0, 0, 0, 0, 0, 0, 0, 0, 0, 0, 0, 0, 0, 0, 0, 0, 0, 0, 0, 0, 0, 0, 0, 0, 0, 0, 0, 0, 0, 0, 0, 0, 0, 0, 0, 0, 0, 0, 0, 0, 0, 0, 0, 0, 0, 0, 0, 0, 0, 0, 0, 0, 0, 0, 0, 0, 0, 0, 0, 0, 0, 0, 0, 0, 0, 0, 0, 0, 0, 0, 0, 0, 0, 0, 0, 0, 0, 0, 0, 0, 0, 0, 0, 0, 0, 0, 0, 0, 0, 0, 0, 0, 0, 0, 0, 0, 0, 0, 0, 0, 0, 0, 0, 0, 0, 0, 0, 0, 0, 0, 0, 0, 0, 0, 0, 0, 0, 0, 0, 0, 0, 0, 0, 0, 0, 0, 0, 0, 0, 0, 0, 0, 0, 0, 0, 0, 0, 0, 0, 0, 0, 0, 0]\n"
     ]
    }
   ],
   "source": [
    "print(datetime.now())\n",
    "print(\"Load RCI values...\")\n",
    "loader = DataLoader()\n",
    "filepath = DATA_DIR+RCI_FILE\n",
    "gene_to_rci = loader.load_gene_rci_values(filepath,CELL_LINE_NUMBER)\n",
    "print('Num RCI:', len(gene_to_rci.keys()))\n",
    "print('Example RCI:', list(gene_to_rci.items())[:3])\n",
    "print(\"Load genes...\")\n",
    "all_genes = list(gene_to_rci.keys())\n",
    "print(datetime.now())\n",
    "print('Load sequence...')\n",
    "filepath = DATA_DIR+SEQUENCE_FILE\n",
    "labels,allids,allseq = loader.load_sequence(filepath)\n",
    "print(datetime.now())\n",
    "print('Num IDs:',len(allids))\n",
    "print('Example IDs:',[allids[x] for x in [10, 20, 30, 40]] )\n",
    "print('Count',np.count_nonzero(labels),'ones out of',len(labels),'labels.')\n",
    "print('Example labels:',[labels[x] for x in [10, 20, 30, 40]] )\n",
    "print('Num counts:',len(allseq))\n",
    "print('Example sequence:',allseq[3])\n",
    "loader = None  # drop K-mer cache to save RAM"
   ]
  },
  {
   "cell_type": "markdown",
   "metadata": {
    "id": "VDZ6siB_Kq04"
   },
   "source": [
    "## Model"
   ]
  },
  {
   "cell_type": "code",
   "execution_count": 127,
   "metadata": {
    "id": "AwMbRjm0FLBF"
   },
   "outputs": [],
   "source": [
    "def build_model():\n",
    "    ALPHABET=4**K+1  # NUMBER OF DISTINCT KMERS POSSIBLE, add one if N gets mask value\n",
    "    ADJUST_LENGTH = MAXLEN-K+1  # fixed length sequences\n",
    "    rnn = Sequential()\n",
    "    embed_layer = Embedding(ALPHABET,EMBED_DIMEN,input_length=ADJUST_LENGTH,mask_zero=True)   \n",
    "    cnn1_layer = Conv1D(CFILTERS, FILTERSIZE)\n",
    "    #rnn1_layer = Bidirectional( LSTM(RCELLS, return_sequences=False) )\n",
    "    #pool_layer = MaxPooling1D(pool_size=3)\n",
    "    pool_layer = GlobalAveragePooling1D()\n",
    "    #pool_layer = GlobalMaxPooling1D()\n",
    "    flat_layer = Flatten()\n",
    "    den1_layer = Dense(DCELLS)\n",
    "    drop_layer = Dropout(0.5)\n",
    "    output_layer = Dense(1,activation='sigmoid',dtype=dt)\n",
    "\n",
    "    rnn.add(embed_layer)\n",
    "    rnn.add(cnn1_layer)\n",
    "    rnn.add(pool_layer)\n",
    "    #rnn.add(flat_layer)\n",
    "    #rnn.add(den1_layer)\n",
    "    #rnn.add(drop_layer)\n",
    "    rnn.add(output_layer)\n",
    "\n",
    "    bc=BinaryCrossentropy(from_logits=False)\n",
    "    print(\"COMPILE\")\n",
    "    rnn.compile(loss=bc, optimizer=\"Adam\",metrics=[\"accuracy\"])\n",
    "    return rnn"
   ]
  },
  {
   "cell_type": "code",
   "execution_count": 128,
   "metadata": {
    "colab": {
     "base_uri": "https://localhost:8080/"
    },
    "id": "clj-wufgFLBF",
    "outputId": "dd65a481-0e17-440d-fe72-d1254e2f2683"
   },
   "outputs": [
    {
     "name": "stdout",
     "output_type": "stream",
     "text": [
      "2022-12-29 15:59:46.327953\n",
      "COMPILE\n",
      "Model: \"sequential_61\"\n",
      "_________________________________________________________________\n",
      " Layer (type)                Output Shape              Param #   \n",
      "=================================================================\n",
      " embedding_61 (Embedding)    (None, 3998, 4)           260       \n",
      "                                                                 \n",
      " conv1d_61 (Conv1D)          (None, 3991, 64)          2112      \n",
      "                                                                 \n",
      " global_average_pooling1d_48  (None, 64)               0         \n",
      "  (GlobalAveragePooling1D)                                       \n",
      "                                                                 \n",
      " dense_121 (Dense)           (None, 1)                 65        \n",
      "                                                                 \n",
      "=================================================================\n",
      "Total params: 2,437\n",
      "Trainable params: 2,437\n",
      "Non-trainable params: 0\n",
      "_________________________________________________________________\n",
      "None\n"
     ]
    }
   ],
   "source": [
    "print(datetime.now())\n",
    "model=build_model()\n",
    "print(model.summary())  # Print this only once"
   ]
  },
  {
   "cell_type": "markdown",
   "metadata": {
    "id": "MgrC1alOKq07"
   },
   "source": [
    "## Training"
   ]
  },
  {
   "cell_type": "code",
   "execution_count": 129,
   "metadata": {
    "id": "W9xiFzNbFLBE"
   },
   "outputs": [],
   "source": [
    "class CrossValidator():\n",
    "    def __init__(self,epochs,folds,quick_test=False,pred_threshold=0.5):\n",
    "        self.epochs = epochs\n",
    "        self.folds = folds\n",
    "        self.quick_test = quick_test\n",
    "        self.threshold = pred_threshold # e.g. score>0.5 => class 1\n",
    "    \n",
    "    def get_gene_subset(self,all_genes,sub_index):\n",
    "        sub_genes = set()\n",
    "        for index in sub_index:\n",
    "            one_gene = all_genes[index]\n",
    "            sub_genes.add(one_gene)\n",
    "        return sub_genes\n",
    "    \n",
    "    def get_X_y(self,gene_set,allids,allX,allY):\n",
    "        cnt = len(allids)\n",
    "        subsetX=[]\n",
    "        subsetY=[]\n",
    "        if cnt != len(allX) or cnt!= len(allY):\n",
    "            raise Exception('Lengths differ')\n",
    "        for i in range(cnt):\n",
    "            gene_id,tran_id = allids[i]\n",
    "            if gene_id in gene_set:\n",
    "                oneX = allX[i]\n",
    "                oneY = allY[i]\n",
    "                subsetX.append(oneX)\n",
    "                subsetY.append(oneY)\n",
    "        subsetX = np.array(subsetX)\n",
    "        subsetY = np.array(subsetY).reshape((-1,1))\n",
    "        return subsetX,subsetY\n",
    "    \n",
    "    def do_cross_validation(self):\n",
    "        cv_accuracy=[]\n",
    "        cv_precision=[]\n",
    "        cv_recall=[]\n",
    "        cv_f1=[]\n",
    "        fold=0\n",
    "        print(datetime.now())\n",
    "        print('splitting')\n",
    "        # KFold shuffles once before making the partitions\n",
    "        splitter = KFold(n_splits=self.folds,shuffle=True,random_state=42)\n",
    "        for train_index,valid_index in splitter.split(all_genes):\n",
    "            fold += 1\n",
    "            print('Fold',fold)\n",
    "            train_genes = self.get_gene_subset(all_genes,train_index)\n",
    "            valid_genes = self.get_gene_subset(all_genes,valid_index)\n",
    "            X_train,y_train = self.get_X_y(train_genes,allids,allseq,labels)\n",
    "            X_valid,y_valid = self.get_X_y(valid_genes,allids,allseq,labels)\n",
    "\n",
    "            print('Training example')\n",
    "            print(X_train[0])\n",
    "\n",
    "            print('Train sizes',X_train.shape,y_train.shape)\n",
    "            print('Valid sizes',X_valid.shape,y_valid.shape)\n",
    "            print('Train set ones/size',\n",
    "                  np.count_nonzero(y_train),'/',len(y_train))\n",
    "            print('Valid set ones/size',\n",
    "                  np.count_nonzero(y_valid),'/',len(y_valid))\n",
    "\n",
    "            print(\"BUILD MODEL\")\n",
    "            model=build_model()\n",
    "\n",
    "            print(\"FIT\")\n",
    "            print(datetime.now())\n",
    "            history=model.fit(X_train, y_train, # batch_size=10, default=32 works nicely\n",
    "                    epochs=self.epochs, verbose=1,  # verbose=1 for ascii art, verbose=0 for none\n",
    "                    validation_data=(X_valid,y_valid) )\n",
    "\n",
    "            pd.DataFrame(history.history).plot(figsize=(8,5))\n",
    "            plt.grid(True)\n",
    "            plt.gca().set_ylim(0,1)\n",
    "            plt.show()\n",
    "\n",
    "            print(\"Compute valiation accuracy\")\n",
    "            print(datetime.now())\n",
    "            yhat_pred=model.predict(X_valid, verbose=0) \n",
    "            print('Range of scores:',np.min(yhat_pred),'to',np.max(yhat_pred))\n",
    "            yhat_classes=np.where(yhat_pred > self.threshold, 1, 0)\n",
    "            print('Predicted zeros and ones',np.count_nonzero(yhat_classes==0),np.count_nonzero(yhat_classes==1))\n",
    "            # accuracy: (tp + tn) / (p + n)\n",
    "            accuracy = accuracy_score(y_valid, yhat_classes)*100.\n",
    "            # precision tp / (tp + fp)\n",
    "            precision = precision_score(y_valid, yhat_classes)*100.\n",
    "            # recall: tp / (tp + fn)\n",
    "            recall = recall_score(y_valid, yhat_classes)*100.\n",
    "            # f1: 2 tp / (2 tp + fp + fn)\n",
    "            f1 = f1_score(y_valid, yhat_classes)*100.\n",
    "            print('Accuracy: %.2f%% Precision: %.2f%% Recall: %.2f%% F1: %.2f%%' % (accuracy,precision,recall,f1)) \n",
    "            print(datetime.now())\n",
    "            cv_accuracy.append(accuracy)\n",
    "            cv_precision.append(precision)\n",
    "            cv_recall.append(recall)\n",
    "            cv_f1.append(f1)\n",
    "            if self.quick_test:   \n",
    "                print('Break -- this was for code testing only')\n",
    "                break\n",
    "        print()\n",
    "        return cv_accuracy, cv_precision, cv_recall, cv_f1"
   ]
  },
  {
   "cell_type": "code",
   "execution_count": 130,
   "metadata": {
    "colab": {
     "base_uri": "https://localhost:8080/",
     "height": 1000
    },
    "id": "XC9m0W-pFLBH",
    "outputId": "57624315-ddc8-4d5a-8f95-2fb96464827c",
    "scrolled": false
   },
   "outputs": [
    {
     "name": "stdout",
     "output_type": "stream",
     "text": [
      "2022-12-29 15:59:46.607623\n",
      "2022-12-29 15:59:46.607783\n",
      "splitting\n",
      "Fold 1\n",
      "Training example\n",
      "[42 39 27 ...  0  0  0]\n",
      "Train sizes (5543, 3998) (5543, 1)\n",
      "Valid sizes (1392, 3998) (1392, 1)\n",
      "Train set ones/size 2391 / 5543\n",
      "Valid set ones/size 574 / 1392\n",
      "BUILD MODEL\n",
      "COMPILE\n",
      "FIT\n",
      "2022-12-29 15:59:48.305924\n",
      "Epoch 1/5\n",
      "174/174 [==============================] - 2s 9ms/step - loss: 0.5893 - accuracy: 0.6662 - val_loss: 0.5499 - val_accuracy: 0.7134\n",
      "Epoch 2/5\n",
      "174/174 [==============================] - 1s 7ms/step - loss: 0.5137 - accuracy: 0.7485 - val_loss: 0.5445 - val_accuracy: 0.7141\n",
      "Epoch 3/5\n",
      "174/174 [==============================] - 1s 7ms/step - loss: 0.5087 - accuracy: 0.7501 - val_loss: 0.5404 - val_accuracy: 0.7177\n",
      "Epoch 4/5\n",
      "174/174 [==============================] - 1s 7ms/step - loss: 0.5036 - accuracy: 0.7577 - val_loss: 0.5536 - val_accuracy: 0.7011\n",
      "Epoch 5/5\n",
      "174/174 [==============================] - 1s 7ms/step - loss: 0.5026 - accuracy: 0.7566 - val_loss: 0.5341 - val_accuracy: 0.7184\n"
     ]
    },
    {
     "data": {
      "image/png": "[encoded data removed]",
      "text/plain": [
       "<Figure size 576x360 with 1 Axes>"
      ]
     },
     "metadata": {
      "needs_background": "light"
     },
     "output_type": "display_data"
    },
    {
     "name": "stdout",
     "output_type": "stream",
     "text": [
      "Compute valiation accuracy\n",
      "2022-12-29 15:59:55.847539\n",
      "Range of scores: 0.026426032 to 0.9384274\n",
      "Predicted zeros and ones 790 602\n",
      "Accuracy: 71.84% Precision: 65.12% Recall: 68.29% F1: 66.67%\n",
      "2022-12-29 15:59:56.075716\n",
      "Fold 2\n",
      "Training example\n",
      "[42 39 27 ...  0  0  0]\n",
      "Train sizes (5522, 3998) (5522, 1)\n",
      "Valid sizes (1413, 3998) (1413, 1)\n",
      "Train set ones/size 2375 / 5522\n",
      "Valid set ones/size 590 / 1413\n",
      "BUILD MODEL\n",
      "COMPILE\n",
      "FIT\n",
      "2022-12-29 15:59:57.719558\n",
      "Epoch 1/5\n",
      "173/173 [==============================] - 2s 9ms/step - loss: 0.5983 - accuracy: 0.6673 - val_loss: 0.5100 - val_accuracy: 0.7431\n",
      "Epoch 2/5\n",
      "173/173 [==============================] - 1s 7ms/step - loss: 0.5243 - accuracy: 0.7371 - val_loss: 0.5037 - val_accuracy: 0.7495\n",
      "Epoch 3/5\n",
      "173/173 [==============================] - 1s 7ms/step - loss: 0.5201 - accuracy: 0.7443 - val_loss: 0.4987 - val_accuracy: 0.7580\n",
      "Epoch 4/5\n",
      "173/173 [==============================] - 1s 7ms/step - loss: 0.5175 - accuracy: 0.7390 - val_loss: 0.4918 - val_accuracy: 0.7636\n",
      "Epoch 5/5\n",
      "173/173 [==============================] - 1s 7ms/step - loss: 0.5133 - accuracy: 0.7448 - val_loss: 0.4889 - val_accuracy: 0.7686\n"
     ]
    },
    {
     "data": {
      "image/png": "[encoded data removed]",
      "text/plain": [
       "<Figure size 576x360 with 1 Axes>"
      ]
     },
     "metadata": {
      "needs_background": "light"
     },
     "output_type": "display_data"
    },
    {
     "name": "stdout",
     "output_type": "stream",
     "text": [
      "Compute valiation accuracy\n",
      "2022-12-29 16:00:04.996179\n",
      "Range of scores: 0.025075931 to 0.949039\n",
      "Predicted zeros and ones 788 625\n",
      "Accuracy: 76.86% Precision: 71.04% Recall: 75.25% F1: 73.09%\n",
      "2022-12-29 16:00:05.232077\n",
      "Fold 3\n",
      "Training example\n",
      "[42 39 27 ...  0  0  0]\n",
      "Train sizes (5525, 3998) (5525, 1)\n",
      "Valid sizes (1410, 3998) (1410, 1)\n",
      "Train set ones/size 2355 / 5525\n",
      "Valid set ones/size 610 / 1410\n",
      "BUILD MODEL\n",
      "COMPILE\n",
      "FIT\n",
      "2022-12-29 16:00:06.841357\n",
      "Epoch 1/5\n",
      "173/173 [==============================] - 2s 9ms/step - loss: 0.5915 - accuracy: 0.6643 - val_loss: 0.5200 - val_accuracy: 0.7681\n",
      "Epoch 2/5\n",
      "173/173 [==============================] - 1s 7ms/step - loss: 0.5196 - accuracy: 0.7374 - val_loss: 0.5148 - val_accuracy: 0.7645\n",
      "Epoch 3/5\n",
      "173/173 [==============================] - 1s 7ms/step - loss: 0.5147 - accuracy: 0.7412 - val_loss: 0.5176 - val_accuracy: 0.7652\n",
      "Epoch 4/5\n",
      "173/173 [==============================] - 1s 7ms/step - loss: 0.5107 - accuracy: 0.7410 - val_loss: 0.5081 - val_accuracy: 0.7660\n",
      "Epoch 5/5\n",
      "173/173 [==============================] - 1s 7ms/step - loss: 0.5085 - accuracy: 0.7437 - val_loss: 0.5088 - val_accuracy: 0.7652\n"
     ]
    },
    {
     "data": {
      "image/png": "[encoded data removed]",
      "text/plain": [
       "<Figure size 576x360 with 1 Axes>"
      ]
     },
     "metadata": {
      "needs_background": "light"
     },
     "output_type": "display_data"
    },
    {
     "name": "stdout",
     "output_type": "stream",
     "text": [
      "Compute valiation accuracy\n",
      "2022-12-29 16:00:17.876217\n",
      "Range of scores: 0.017789388 to 0.9699074\n",
      "Predicted zeros and ones 761 649\n",
      "Accuracy: 76.52% Precision: 71.49% Recall: 76.07% F1: 73.71%\n",
      "2022-12-29 16:00:18.112554\n",
      "Fold 4\n",
      "Training example\n",
      "[42 39 27 ...  0  0  0]\n",
      "Train sizes (5528, 3998) (5528, 1)\n",
      "Valid sizes (1407, 3998) (1407, 1)\n",
      "Train set ones/size 2370 / 5528\n",
      "Valid set ones/size 595 / 1407\n",
      "BUILD MODEL\n",
      "COMPILE\n",
      "FIT\n",
      "2022-12-29 16:00:19.819167\n",
      "Epoch 1/5\n",
      "173/173 [==============================] - 2s 10ms/step - loss: 0.5979 - accuracy: 0.6681 - val_loss: 0.5249 - val_accuracy: 0.7249\n",
      "Epoch 2/5\n",
      "173/173 [==============================] - 1s 7ms/step - loss: 0.5197 - accuracy: 0.7419 - val_loss: 0.5187 - val_accuracy: 0.7328\n",
      "Epoch 3/5\n",
      "173/173 [==============================] - 1s 7ms/step - loss: 0.5143 - accuracy: 0.7480 - val_loss: 0.5160 - val_accuracy: 0.7342\n",
      "Epoch 4/5\n",
      "173/173 [==============================] - 1s 7ms/step - loss: 0.5104 - accuracy: 0.7493 - val_loss: 0.5228 - val_accuracy: 0.7328\n",
      "Epoch 5/5\n",
      "173/173 [==============================] - 1s 7ms/step - loss: 0.5062 - accuracy: 0.7529 - val_loss: 0.5127 - val_accuracy: 0.7456\n"
     ]
    },
    {
     "data": {
      "image/png": "[encoded data removed]",
      "text/plain": [
       "<Figure size 576x360 with 1 Axes>"
      ]
     },
     "metadata": {
      "needs_background": "light"
     },
     "output_type": "display_data"
    },
    {
     "name": "stdout",
     "output_type": "stream",
     "text": [
      "Compute valiation accuracy\n",
      "2022-12-29 16:00:30.894322\n",
      "Range of scores: 0.032025382 to 0.95827246\n",
      "Predicted zeros and ones 766 641\n",
      "Accuracy: 74.56% Precision: 68.49% Recall: 73.78% F1: 71.04%\n",
      "2022-12-29 16:00:31.135579\n",
      "Fold 5\n",
      "Training example\n",
      "[24 31 59 ...  0  0  0]\n",
      "Train sizes (5622, 3998) (5622, 1)\n",
      "Valid sizes (1313, 3998) (1313, 1)\n",
      "Train set ones/size 2369 / 5622\n",
      "Valid set ones/size 596 / 1313\n",
      "BUILD MODEL\n",
      "COMPILE\n",
      "FIT\n",
      "2022-12-29 16:00:32.840983\n",
      "Epoch 1/5\n",
      "176/176 [==============================] - 2s 8ms/step - loss: 0.5850 - accuracy: 0.6754 - val_loss: 0.5131 - val_accuracy: 0.7471\n",
      "Epoch 2/5\n",
      "176/176 [==============================] - 1s 7ms/step - loss: 0.5228 - accuracy: 0.7421 - val_loss: 0.5135 - val_accuracy: 0.7532\n",
      "Epoch 3/5\n",
      "176/176 [==============================] - 2s 9ms/step - loss: 0.5181 - accuracy: 0.7400 - val_loss: 0.4991 - val_accuracy: 0.7517\n",
      "Epoch 4/5\n",
      "176/176 [==============================] - 2s 9ms/step - loss: 0.5124 - accuracy: 0.7481 - val_loss: 0.4978 - val_accuracy: 0.7494\n",
      "Epoch 5/5\n",
      "176/176 [==============================] - 1s 7ms/step - loss: 0.5092 - accuracy: 0.7503 - val_loss: 0.4958 - val_accuracy: 0.7494\n"
     ]
    },
    {
     "data": {
      "image/png": "[encoded data removed]",
      "text/plain": [
       "<Figure size 576x360 with 1 Axes>"
      ]
     },
     "metadata": {
      "needs_background": "light"
     },
     "output_type": "display_data"
    },
    {
     "name": "stdout",
     "output_type": "stream",
     "text": [
      "Compute valiation accuracy\n",
      "2022-12-29 16:00:40.814244\n",
      "Range of scores: 0.02390647 to 0.94567317\n",
      "Predicted zeros and ones 756 557\n",
      "Accuracy: 74.94% Precision: 73.97% Recall: 69.13% F1: 71.47%\n",
      "2022-12-29 16:00:41.038522\n",
      "\n",
      "Cross validation 5 folds 5 epochs\n",
      " accuracy mean 74.94% +/- 1.79\n",
      " precision mean 70.02% +/- 3.01\n",
      " recall mean 72.50% +/- 3.19\n",
      " F1 mean 71.19% +/- 2.47\n",
      "2022-12-29 16:00:41.046834\n"
     ]
    }
   ],
   "source": [
    "print(datetime.now())\n",
    "cvdo = CrossValidator(EPOCHS,FOLDS,BREAK)\n",
    "cv_accuracy, cv_precision, cv_recall, cv_f1 = cvdo.do_cross_validation()   \n",
    "print(\"Cross validation %d folds %d epochs\" % (FOLDS,EPOCHS)) \n",
    "print(\" accuracy mean %.2f%% +/- %.2f\" % (np.mean(cv_accuracy), np.std(cv_accuracy)))\n",
    "print(\" precision mean %.2f%% +/- %.2f\" % (np.mean(cv_precision), np.std(cv_precision)))\n",
    "print(\" recall mean %.2f%% +/- %.2f\" % (np.mean(cv_recall), np.std(cv_recall)))\n",
    "print(\" F1 mean %.2f%% +/- %.2f\" % (np.mean(cv_f1), np.std(cv_f1)))\n",
    "print(datetime.now())"
   ]
  },
  {
   "cell_type": "code",
   "execution_count": 130,
   "metadata": {
    "id": "thQspN3Nga5S"
   },
   "outputs": [],
   "source": []
  }
 ],
 "metadata": {
  "accelerator": "GPU",
  "colab": {
   "provenance": []
  },
  "gpuClass": "standard",
  "kernelspec": {
   "display_name": "Python 3 (ipykernel)",
   "language": "python",
   "name": "python3"
  },
  "language_info": {
   "codemirror_mode": {
    "name": "ipython",
    "version": 3
   },
   "file_extension": ".py",
   "mimetype": "text/x-python",
   "name": "python",
   "nbconvert_exporter": "python",
   "pygments_lexer": "ipython3",
   "version": "3.10.0"
  }
 },
 "nbformat": 4,
 "nbformat_minor": 1
}
