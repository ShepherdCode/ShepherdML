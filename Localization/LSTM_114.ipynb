{
  "cells": [
    {
      "cell_type": "markdown",
      "metadata": {
        "id": "PG-tGRnlFLA3"
      },
      "source": [
        "# LSTM\n",
        "Try sequence-of-Kmers."
      ]
    },
    {
      "cell_type": "code",
      "execution_count": 7,
      "metadata": {
        "colab": {
          "base_uri": "https://localhost:8080/"
        },
        "id": "0RmwUsVLFLA6",
        "outputId": "2a3caa74-acec-4ae4-a3a7-82e727813852"
      },
      "outputs": [
        {
          "output_type": "stream",
          "name": "stdout",
          "text": [
            "2022-11-21 12:18:54.711861\n",
            "Python 3.7.15\n",
            "sklearn 1.0.2\n"
          ]
        }
      ],
      "source": [
        "from datetime import datetime\n",
        "print(datetime.now())\n",
        "from platform import python_version\n",
        "print('Python',python_version())\n",
        "import numpy as np\n",
        "import pandas as pd\n",
        "from matplotlib import pyplot as plt \n",
        "import sklearn   # pip install --upgrade scikit-learn\n",
        "print('sklearn',sklearn.__version__)"
      ]
    },
    {
      "cell_type": "markdown",
      "metadata": {
        "id": "tUtGXPrcFLA8"
      },
      "source": [
        "We prevously used sklearn.model_selection.ShuffleSplit   \n",
        "Now we avoid it due to this note in the \n",
        "[documentation](https://scikit-learn.org/stable/modules/generated/sklearn.model_selection.ShuffleSplit.html):\n",
        "Note: contrary to other cross-validation strategies, random splits do not guarantee that all folds will be different, although this is still very likely for sizeable datasets."
      ]
    },
    {
      "cell_type": "code",
      "execution_count": 8,
      "metadata": {
        "id": "PRX-UEr8FLA8"
      },
      "outputs": [],
      "source": [
        "import tensorflow as tf\n",
        "dt='float32'\n",
        "tf.keras.backend.set_floatx('float32')\n",
        "tf.random.set_seed(42) \n",
        "\n",
        "from tensorflow import keras\n",
        "from sklearn.model_selection import KFold\n",
        "#from sklearn.preprocessing import OneHotEncoder\n",
        "from keras.models import Sequential\n",
        "from keras.layers import Embedding\n",
        "from keras.layers import Bidirectional\n",
        "from keras.layers import LSTM\n",
        "from keras.layers import Dense\n",
        "from keras.layers import Dropout\n",
        "from keras.losses import BinaryCrossentropy\n",
        "\n",
        "K=3\n",
        "EPOCHS=20\n",
        "FOLDS=5  \n",
        "BREAK = True   # break after first fold\n",
        "MAXLEN=4000   # this is problematic as some genes will be excluded entirely or partially\n",
        "MINLEN=1000"
      ]
    },
    {
      "cell_type": "code",
      "execution_count": 9,
      "metadata": {
        "colab": {
          "base_uri": "https://localhost:8080/"
        },
        "id": "OlzN9OdsFWEU",
        "outputId": "a2921612-77d3-4774-f3fa-16ba4d73b59d"
      },
      "outputs": [
        {
          "output_type": "stream",
          "name": "stdout",
          "text": [
            "Drive already mounted at /content/drive/; to attempt to forcibly remount, call drive.mount(\"/content/drive/\", force_remount=True).\n",
            "/content/drive/My Drive/data/Localization/TrainTest/\n"
          ]
        }
      ],
      "source": [
        "try:\n",
        "    from google.colab import drive\n",
        "    IN_COLAB = True\n",
        "    PATH='/content/drive/'\n",
        "    drive.mount(PATH)\n",
        "    DATA_DIR=PATH+'My Drive/data/Localization/TrainTest/'  # must end in \"/\"\n",
        "except:\n",
        "    IN_COLAB = False\n",
        "    DATA_DIR = '/Users/jasonmiller/WVU/Localization/TrainTest/'    # Mac\n",
        "    DATA_DIR = 'D:/Adjeroh/Localization/TrainTest/'   # Windows\n",
        "print(DATA_DIR)"
      ]
    },
    {
      "cell_type": "code",
      "execution_count": 10,
      "metadata": {
        "id": "LnkpVKdMFLA-"
      },
      "outputs": [],
      "source": [
        "GENES_FILE =    'CNRCI_noncoding_train_genes.csv'\n",
        "RCI_FILE =      'CNRCI_noncoding_train_RCI.gc42.csv'\n",
        "SEQUENCE_FILE = 'CNRCI_noncoding_train_transcripts.gc42.csv'\n",
        "COUNTS_FILE=    'CNRCI_noncoding_train_counts.K4.gc42.csv'"
      ]
    },
    {
      "cell_type": "code",
      "execution_count": 11,
      "metadata": {
        "colab": {
          "base_uri": "https://localhost:8080/"
        },
        "id": "e3p4QzQJFLA_",
        "outputId": "c5ae8c40-c24b-45b3-c839-eecec82ac94c"
      },
      "outputs": [
        {
          "output_type": "stream",
          "name": "stdout",
          "text": [
            "Cell line for today: 1 = H1.hESC\n"
          ]
        }
      ],
      "source": [
        "def get_ordered_list():\n",
        "    ordered_list = \\\n",
        "    ['A549',\\\n",
        "      'H1.hESC',\\\n",
        "      'HeLa.S3',\\\n",
        "      'HepG2',\\\n",
        "      'HT1080',\\\n",
        "      'HUVEC',\\\n",
        "      'MCF.7',\\\n",
        "      'NCI.H460',\\\n",
        "      'NHEK',\\\n",
        "      'SK.MEL.5',\\\n",
        "      'SK.N.DZ',\\\n",
        "      'SK.N.SH',\\\n",
        "      'GM12878',\\\n",
        "      'K562',\\\n",
        "      'IMR.90']\n",
        "    return ordered_list\n",
        "CELL_LINE_NUMBER=1\n",
        "all_cell_lines = get_ordered_list()\n",
        "cell_line_name = all_cell_lines[CELL_LINE_NUMBER]\n",
        "print('Cell line for today:',CELL_LINE_NUMBER,'=',cell_line_name)"
      ]
    },
    {
      "cell_type": "markdown",
      "metadata": {
        "id": "UtqdpJOxFLBA"
      },
      "source": [
        "## Data Load"
      ]
    },
    {
      "cell_type": "code",
      "execution_count": 12,
      "metadata": {
        "colab": {
          "base_uri": "https://localhost:8080/"
        },
        "id": "cYoYDc93FLBB",
        "outputId": "ecc65d00-7e7f-49d1-94f1-c5b047e4bea4"
      },
      "outputs": [
        {
          "output_type": "stream",
          "name": "stdout",
          "text": [
            "2022-11-21 12:18:55.766017\n",
            "Num RCI: 3327\n",
            "[('ENSG00000099869', 1.0), ('ENSG00000116652', 1.65208), ('ENSG00000117242', -0.793877)]\n"
          ]
        }
      ],
      "source": [
        "print(datetime.now())\n",
        "# labels\n",
        "filepath = DATA_DIR+RCI_FILE\n",
        "gene_to_rci = {}\n",
        "with open (filepath,'r') as handle:\n",
        "    header = None\n",
        "    for row in handle:\n",
        "        if header is None:\n",
        "            header = row\n",
        "        else:\n",
        "            line = row.strip()\n",
        "            fields = line.split(',')\n",
        "            gene_id = fields[0]\n",
        "            rci_val = fields[CELL_LINE_NUMBER+1]\n",
        "            # Could implement Gudenas style threshold here\n",
        "            if rci_val != \"nan\":\n",
        "                gene_to_rci[gene_id] = float(rci_val)\n",
        "print('Num RCI:', len(gene_to_rci.keys()))\n",
        "print(list(gene_to_rci.items())[:3])\n",
        "all_genes = list(gene_to_rci.keys())"
      ]
    },
    {
      "cell_type": "code",
      "execution_count": 13,
      "metadata": {
        "colab": {
          "base_uri": "https://localhost:8080/"
        },
        "id": "bNrOKHddFycs",
        "outputId": "86cc37c1-3e87-4608-d046-6afe60050c54"
      },
      "outputs": [
        {
          "output_type": "stream",
          "name": "stdout",
          "text": [
            "[0, 0]\n",
            "[19, 15]\n",
            "[62, 56]\n",
            "[63, 0]\n"
          ]
        }
      ],
      "source": [
        "def seq_to_kmers(rna,K):\n",
        "    VALS = {'A':0, 'C':1, 'G':2, 'T':3, 'N':0}\n",
        "    length = len(rna)\n",
        "    vec = []\n",
        "    for i in range(length-K+1):\n",
        "        one_hot = 0\n",
        "        for j in range(K):\n",
        "            one_hot = one_hot * 4\n",
        "            nextnuc = rna[i+j]\n",
        "            if nextnuc=='N':\n",
        "                one_hot= 0   # Same as A? Come back to this and try mask_zero=True\n",
        "                break\n",
        "            nucval = VALS[nextnuc]\n",
        "            one_hot = one_hot + nucval\n",
        "        vec.append(one_hot)\n",
        "    return vec\n",
        "print(seq_to_kmers('AAAA',3))\n",
        "print(seq_to_kmers('CATT',3))\n",
        "print(seq_to_kmers('TTGA',3))\n",
        "print(seq_to_kmers('TTTN',3))"
      ]
    },
    {
      "cell_type": "code",
      "execution_count": 14,
      "metadata": {
        "colab": {
          "base_uri": "https://localhost:8080/"
        },
        "id": "ooyTeQr-FLBB",
        "outputId": "60fb821d-6395-428e-8bbf-49b05f7f33cc"
      },
      "outputs": [
        {
          "output_type": "stream",
          "name": "stdout",
          "text": [
            "2022-11-21 12:18:56.659330\n",
            "Load sequence\n",
            "2022-11-21 12:19:16.913832\n",
            "Num IDs: 8564\n",
            "Num labels: 8564\n",
            "Num counts: 8564\n"
          ]
        }
      ],
      "source": [
        "# one hot\n",
        "print(datetime.now())\n",
        "print('Load sequence')\n",
        "filepath = DATA_DIR+SEQUENCE_FILE\n",
        "labels=[]\n",
        "allids=[]\n",
        "allseq=[]\n",
        "NREPEAT = str('N'*MAXLEN)\n",
        "with open (filepath,'r') as handle:\n",
        "    header = None\n",
        "    for row in handle:\n",
        "        if header is None:\n",
        "            header = row\n",
        "        else:\n",
        "            line    = row.strip()\n",
        "            fields  = line.split(',')\n",
        "            tran_id = fields[0]  # with version number\n",
        "            gene_id = fields[1]        # without version number\n",
        "            seq_len = int(fields[3])\n",
        "            seq_txt = fields[4]\n",
        "            if seq_len>=MINLEN and seq_len<=MAXLEN and gene_id in gene_to_rci.keys():\n",
        "                rci_val = gene_to_rci[gene_id]\n",
        "                allids.append( (gene_id,tran_id) )\n",
        "                labels.append(rci_val)\n",
        "                if seq_len<MAXLEN:\n",
        "                    seq_txt = seq_txt + NREPEAT\n",
        "                    seq_txt = seq_txt[:MAXLEN]\n",
        "                hot_vec = seq_to_kmers(seq_txt,K)\n",
        "                allseq.append(hot_vec)\n",
        "print(datetime.now())\n",
        "print('Num IDs:',len(allids))\n",
        "#print('Examples:',[allids[x] for x in [10, 20, 30, 40]] )\n",
        "print('Num labels:',len(labels))\n",
        "#print('Examples:',[labels[x] for x in [10, 20, 30, 40]] )\n",
        "print('Num counts:',len(allseq))\n",
        "#print('Example:',allseq[3])"
      ]
    },
    {
      "cell_type": "code",
      "execution_count": 15,
      "metadata": {
        "id": "W9xiFzNbFLBE"
      },
      "outputs": [],
      "source": [
        "def get_gene_subset(all_genes,sub_index):\n",
        "    sub_genes = set()\n",
        "    for index in sub_index:\n",
        "        one_gene = all_genes[index]\n",
        "        sub_genes.add(one_gene)\n",
        "    return sub_genes\n",
        "def get_X_y(gene_set,allids,allX,allY,threshold):\n",
        "    cnt = len(allids)\n",
        "    subsetX=[]\n",
        "    subsetY=[]\n",
        "    if cnt != len(allX) or cnt!= len(allY):\n",
        "        raise Exception('Lengths differ')\n",
        "    for i in range(cnt):\n",
        "        gene_id,tran_id = allids[i]\n",
        "        if gene_id in gene_set:\n",
        "            oneX = allX[i]\n",
        "            oneY = allY[i]\n",
        "            if oneY < threshold:\n",
        "                Yvalue = int(0)\n",
        "            else:\n",
        "                Yvalue = int(1)\n",
        "            subsetX.append(oneX)\n",
        "            subsetY.append(Yvalue)\n",
        "    subsetX = np.array(subsetX)\n",
        "    subsetY = np.array(subsetY).reshape((-1,1))\n",
        "    return subsetX,subsetY"
      ]
    },
    {
      "cell_type": "code",
      "execution_count": 16,
      "metadata": {
        "id": "AwMbRjm0FLBF"
      },
      "outputs": [],
      "source": [
        "def build_model():\n",
        "    ALPHABET=4**K  # NUMBER OF DISTINCT KMERS POSSIBLE, add one if N gets mask value\n",
        "    EMBED_DIMEN = 16 # arbitrary hyperparameter\n",
        "    ADJUST_LENGTH = MAXLEN-K+1  # fixed length sequences\n",
        "    rnn = Sequential()\n",
        "    # This layer automatically converts inputs to one-hot using alphabet size.\n",
        "    embed_layer = Embedding(ALPHABET,EMBED_DIMEN,mask_zero=False);   # crashes with mask_value=True\n",
        "    # rnn1_layer = LSTM(16, return_sequences=True, input_shape=[MAXLEN,DIMEN]) \n",
        "    rnn1_layer = Bidirectional( LSTM(32, return_sequences=True) )\n",
        "    # rnn1_layer = LSTM(16, return_sequences=True) \n",
        "    # rnn2_layer = LSTM(16, return_sequences=True)\n",
        "    # Dense can handle sequence input. Is it the best thing to do?\n",
        "    dense1_layer = Dense(16,activation='sigmoid',dtype=dt)\n",
        "    dropout1_layer = Dropout(0.50)\n",
        "    output_layer = Dense(1,activation='sigmoid',dtype=dt)\n",
        "\n",
        "    rnn.add(embed_layer)\n",
        "    rnn.add(rnn1_layer)\n",
        "    #rnn.add(rnn2_layer)\n",
        "    rnn.add(dense1_layer)\n",
        "    rnn.add(dropout1_layer)\n",
        "    #rnn.add(dense2_layer)\n",
        "    rnn.add(output_layer)\n",
        "\n",
        "    bc=BinaryCrossentropy(from_logits=False)\n",
        "    print(\"COMPILE\")\n",
        "    rnn.compile(loss=bc, optimizer=\"Adam\",metrics=[\"accuracy\"])\n",
        "    return rnn"
      ]
    },
    {
      "cell_type": "code",
      "execution_count": 17,
      "metadata": {
        "colab": {
          "base_uri": "https://localhost:8080/"
        },
        "id": "clj-wufgFLBF",
        "outputId": "83c7ffcb-7c10-416e-92bc-42e1f19d39a7"
      },
      "outputs": [
        {
          "output_type": "stream",
          "name": "stdout",
          "text": [
            "2022-11-21 12:19:16.958832\n",
            "COMPILE\n",
            "Model: \"sequential\"\n",
            "_________________________________________________________________\n",
            " Layer (type)                Output Shape              Param #   \n",
            "=================================================================\n",
            " embedding (Embedding)       (None, None, 16)          1024      \n",
            "                                                                 \n",
            " bidirectional (Bidirectiona  (None, None, 64)         12544     \n",
            " l)                                                              \n",
            "                                                                 \n",
            " dense (Dense)               (None, None, 16)          1040      \n",
            "                                                                 \n",
            " dropout (Dropout)           (None, None, 16)          0         \n",
            "                                                                 \n",
            " dense_1 (Dense)             (None, None, 1)           17        \n",
            "                                                                 \n",
            "=================================================================\n",
            "Total params: 14,625\n",
            "Trainable params: 14,625\n",
            "Non-trainable params: 0\n",
            "_________________________________________________________________\n",
            "None\n"
          ]
        }
      ],
      "source": [
        "print(datetime.now())\n",
        "model=build_model()\n",
        "print(model.summary())  # Print this only once"
      ]
    },
    {
      "cell_type": "code",
      "execution_count": 18,
      "metadata": {
        "colab": {
          "base_uri": "https://localhost:8080/"
        },
        "id": "CqO0a9evFLBG",
        "outputId": "5adad9b2-0b56-4560-fd1e-e733e25f4b4e"
      },
      "outputs": [
        {
          "output_type": "stream",
          "name": "stdout",
          "text": [
            "2022-11-21 12:19:20.857798\n"
          ]
        }
      ],
      "source": [
        "SCALING = False\n",
        "def do_cross_validation(eps):\n",
        "    cv_scores = []\n",
        "    fold=0\n",
        "    print(datetime.now())\n",
        "    print('splitting')\n",
        "    # KFold shuffles once before making the partitions\n",
        "    splitter = KFold(n_splits=FOLDS,shuffle=True,random_state=42)\n",
        "    for train_index,valid_index in splitter.split(all_genes):\n",
        "        fold += 1\n",
        "        print('Fold',fold)\n",
        "        train_genes = get_gene_subset(all_genes,train_index)\n",
        "        valid_genes = get_gene_subset(all_genes,valid_index)\n",
        "        X_train,y_train = get_X_y(train_genes,allids,allseq,labels,0)\n",
        "        X_valid,y_valid = get_X_y(valid_genes,allids,allseq,labels,0)\n",
        "\n",
        "        if SCALING:\n",
        "            print('scaling')\n",
        "            print(datetime.now())\n",
        "            scaler = StandardScaler()\n",
        "            scaler.fit(X_train)\n",
        "            X_train = scaler.transform(X_train)\n",
        "            X_valid = scaler.transform(X_valid)\n",
        "\n",
        "        print('Train sizes',X_train.shape,y_train.shape)\n",
        "        print('Valid sizes',X_valid.shape,y_valid.shape)\n",
        "        print('Train set ones/size',\n",
        "              np.count_nonzero(y_train),'/',len(y_train))\n",
        "        print('Valid set ones/size',\n",
        "              np.count_nonzero(y_valid),'/',len(y_valid))\n",
        "\n",
        "        print(\"BUILD MODEL\")\n",
        "        model=build_model()\n",
        "\n",
        "        print(\"FIT\")\n",
        "        print(datetime.now())\n",
        "        history=model.fit(X_train, y_train, # batch_size=10, default=32 works nicely\n",
        "                epochs=EPOCHS, verbose=1,  # verbose=1 for ascii art, verbose=0 for none\n",
        "                validation_data=(X_valid,y_valid) )\n",
        "\n",
        "        pd.DataFrame(history.history).plot(figsize=(8,5))\n",
        "        plt.grid(True)\n",
        "        plt.gca().set_ylim(0,1)\n",
        "        plt.show()\n",
        "\n",
        "        print(\"Compute valiation accuracy\")\n",
        "        print(datetime.now())\n",
        "        scores = model.evaluate(X_valid, y_valid, verbose=0)\n",
        "        print(\"%s: %.2f%%\" % (model.metrics_names[1], scores[1]*100))\n",
        "        print(datetime.now())\n",
        "        cv_scores.append(scores[1] * 100)\n",
        "        \n",
        "        if BREAK:\n",
        "            break\n",
        "        \n",
        "    print()\n",
        "    return cv_scores\n",
        "print(datetime.now())"
      ]
    },
    {
      "cell_type": "markdown",
      "metadata": {
        "id": "iFEy7jQYFLBG"
      },
      "source": [
        "Issues to address:\n",
        "\n",
        "Reduce dtype to int8?\n",
        "Call arguments received by layer \"sequential\" \"                 f\"(type Sequential):\n",
        "inputs=tf.Tensor(shape=(None, 4000, 4), dtype=int32)\n",
        "\n",
        "The genes were shuffled but the transcripts were not.  \n",
        "That could retard training.\n",
        "\n",
        "Loading sequence takes minutes. Save one-hot dataset to binary file. \n",
        "\n",
        "Loading sequence takes RAM. A numpy array of one-hot might require less RAM. Write a just-in-time loader.\n",
        "\n",
        "Accuracy goes down at the start of each epoch. This could mean that the data are not shuffled sufficiently."
      ]
    },
    {
      "cell_type": "code",
      "execution_count": 19,
      "metadata": {
        "colab": {
          "base_uri": "https://localhost:8080/",
          "height": 1000
        },
        "id": "XC9m0W-pFLBH",
        "outputId": "8000a8fd-81ed-4a48-88ec-5b0f08089383",
        "scrolled": false
      },
      "outputs": [
        {
          "output_type": "stream",
          "name": "stdout",
          "text": [
            "2022-11-21 12:19:20.876095\n",
            "2022-11-21 12:19:20.876396\n",
            "splitting\n",
            "Fold 1\n",
            "Train sizes (6777, 3998) (6777, 1)\n",
            "Valid sizes (1787, 3998) (1787, 1)\n",
            "Train set ones/size 2754 / 6777\n",
            "Valid set ones/size 765 / 1787\n",
            "BUILD MODEL\n",
            "COMPILE\n",
            "FIT\n",
            "2022-11-21 12:19:24.197641\n",
            "Epoch 1/20\n",
            "212/212 [==============================] - 55s 220ms/step - loss: 0.6877 - accuracy: 0.5774 - val_loss: 0.6845 - val_accuracy: 0.5719\n",
            "Epoch 2/20\n",
            "212/212 [==============================] - 47s 221ms/step - loss: 0.6774 - accuracy: 0.5934 - val_loss: 0.6840 - val_accuracy: 0.5719\n",
            "Epoch 3/20\n",
            "212/212 [==============================] - 47s 221ms/step - loss: 0.6774 - accuracy: 0.5936 - val_loss: 0.6828 - val_accuracy: 0.5719\n",
            "Epoch 4/20\n",
            "212/212 [==============================] - 47s 222ms/step - loss: 0.6767 - accuracy: 0.5936 - val_loss: 0.6816 - val_accuracy: 0.5719\n",
            "Epoch 5/20\n",
            "212/212 [==============================] - 46s 218ms/step - loss: 0.6752 - accuracy: 0.5936 - val_loss: 0.6825 - val_accuracy: 0.5719\n",
            "Epoch 6/20\n",
            "212/212 [==============================] - 47s 223ms/step - loss: 0.6755 - accuracy: 0.5936 - val_loss: 0.6800 - val_accuracy: 0.5719\n",
            "Epoch 7/20\n",
            "212/212 [==============================] - 47s 222ms/step - loss: 0.6740 - accuracy: 0.5936 - val_loss: 0.6806 - val_accuracy: 0.5719\n",
            "Epoch 8/20\n",
            "212/212 [==============================] - 47s 222ms/step - loss: 0.6759 - accuracy: 0.5936 - val_loss: 0.6845 - val_accuracy: 0.5719\n",
            "Epoch 9/20\n",
            "212/212 [==============================] - 47s 220ms/step - loss: 0.6761 - accuracy: 0.5936 - val_loss: 0.6840 - val_accuracy: 0.5719\n",
            "Epoch 10/20\n",
            "212/212 [==============================] - 46s 215ms/step - loss: 0.6756 - accuracy: 0.5936 - val_loss: 0.6828 - val_accuracy: 0.5719\n",
            "Epoch 11/20\n",
            "212/212 [==============================] - 47s 220ms/step - loss: 0.6740 - accuracy: 0.5936 - val_loss: 0.6793 - val_accuracy: 0.5719\n",
            "Epoch 12/20\n",
            "212/212 [==============================] - 46s 219ms/step - loss: 0.6739 - accuracy: 0.5936 - val_loss: 0.6815 - val_accuracy: 0.5719\n",
            "Epoch 13/20\n",
            "212/212 [==============================] - 47s 221ms/step - loss: 0.6738 - accuracy: 0.5936 - val_loss: 0.6818 - val_accuracy: 0.5719\n",
            "Epoch 14/20\n",
            "212/212 [==============================] - 45s 215ms/step - loss: 0.6730 - accuracy: 0.5936 - val_loss: 0.6796 - val_accuracy: 0.5719\n",
            "Epoch 15/20\n",
            "212/212 [==============================] - 47s 220ms/step - loss: 0.6709 - accuracy: 0.5936 - val_loss: 0.6772 - val_accuracy: 0.5719\n",
            "Epoch 16/20\n",
            "212/212 [==============================] - 46s 219ms/step - loss: 0.6709 - accuracy: 0.5936 - val_loss: 0.6807 - val_accuracy: 0.5719\n",
            "Epoch 17/20\n",
            "212/212 [==============================] - 47s 221ms/step - loss: 0.6710 - accuracy: 0.5936 - val_loss: 0.6775 - val_accuracy: 0.5719\n",
            "Epoch 18/20\n",
            "212/212 [==============================] - 46s 216ms/step - loss: 0.6682 - accuracy: 0.5945 - val_loss: 0.6767 - val_accuracy: 0.5719\n",
            "Epoch 19/20\n",
            "212/212 [==============================] - 47s 220ms/step - loss: 0.6716 - accuracy: 0.5946 - val_loss: 0.6767 - val_accuracy: 0.5718\n",
            "Epoch 20/20\n",
            "212/212 [==============================] - 47s 220ms/step - loss: 0.6702 - accuracy: 0.5942 - val_loss: 0.6760 - val_accuracy: 0.5717\n"
          ]
        },
        {
          "output_type": "display_data",
          "data": {
            "text/plain": [
              "<Figure size 576x360 with 1 Axes>"
            ],
            "image/png": "[encoded data removed]"
          },
          "metadata": {
            "needs_background": "light"
          }
        },
        {
          "output_type": "stream",
          "name": "stdout",
          "text": [
            "Compute valiation accuracy\n",
            "2022-11-21 12:35:04.051107\n",
            "accuracy: 57.17%\n",
            "2022-11-21 12:35:09.068736\n",
            "\n",
            "Cross validation acc mean 57.17% (+/- 0.00%)\n",
            "2022-11-21 12:35:09.071733\n"
          ]
        }
      ],
      "source": [
        "print(datetime.now())\n",
        "cv_scores = do_cross_validation(EPOCHS)    \n",
        "print(\"Cross validation acc mean %.2f%% (+/- %.2f%%)\" % (np.mean(cv_scores), np.std(cv_scores)))\n",
        "print(datetime.now())"
      ]
    },
    {
      "cell_type": "code",
      "execution_count": 19,
      "metadata": {
        "id": "riMTsEsCFLBJ"
      },
      "outputs": [],
      "source": []
    }
  ],
  "metadata": {
    "colab": {
      "provenance": []
    },
    "kernelspec": {
      "display_name": "Python 3 (ipykernel)",
      "language": "python",
      "name": "python3"
    },
    "language_info": {
      "codemirror_mode": {
        "name": "ipython",
        "version": 3
      },
      "file_extension": ".py",
      "mimetype": "text/x-python",
      "name": "python",
      "nbconvert_exporter": "python",
      "pygments_lexer": "ipython3",
      "version": "3.10.0"
    },
    "accelerator": "GPU",
    "gpuClass": "standard"
  },
  "nbformat": 4,
  "nbformat_minor": 0
}