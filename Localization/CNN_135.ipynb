{
 "cells": [
  {
   "cell_type": "markdown",
   "metadata": {
    "id": "PG-tGRnlFLA3"
   },
   "source": [
    "# CNN + GlobalAvgPool \n",
    "Based on CNN 107 which got 75% acc on H1 coding len 2000-4000.  \n",
    "Model: Embed mask, Conv1D, GlobalAvgPool.   \n",
    "\n",
    "H1 coding len 3000-4000.  \n",
    "Cross validation 5 folds 5 epochs, accuracy mean , F1 mean \n",
    "\n",
    "Same as CNN 118 but switch cell line 1 to 9.   \n"
   ]
  },
  {
   "cell_type": "code",
   "execution_count": 263,
   "metadata": {
    "colab": {
     "base_uri": "https://localhost:8080/"
    },
    "id": "0RmwUsVLFLA6",
    "outputId": "22ee9b59-e250-49ae-a9ea-a20bdb39c94d"
   },
   "outputs": [
    {
     "name": "stdout",
     "output_type": "stream",
     "text": [
      "2022-12-29 16:38:58.803000\n",
      "Python 3.8.16\n",
      "sklearn 1.0.2\n"
     ]
    }
   ],
   "source": [
    "from datetime import datetime\n",
    "print(datetime.now())\n",
    "from platform import python_version\n",
    "print('Python',python_version())\n",
    "import numpy as np\n",
    "import pandas as pd\n",
    "from matplotlib import pyplot as plt \n",
    "import sklearn   # pip install --upgrade scikit-learn\n",
    "print('sklearn',sklearn.__version__)"
   ]
  },
  {
   "cell_type": "markdown",
   "metadata": {
    "id": "tUtGXPrcFLA8"
   },
   "source": [
    "We prevously used sklearn.model_selection.ShuffleSplit   \n",
    "Now we avoid it due to this note in the \n",
    "[documentation](https://scikit-learn.org/stable/modules/generated/sklearn.model_selection.ShuffleSplit.html):\n",
    "Note: contrary to other cross-validation strategies, random splits do not guarantee that all folds will be different, although this is still very likely for sizeable datasets."
   ]
  },
  {
   "cell_type": "code",
   "execution_count": 264,
   "metadata": {
    "id": "PRX-UEr8FLA8"
   },
   "outputs": [],
   "source": [
    "import tensorflow as tf\n",
    "dt='float32'\n",
    "tf.keras.backend.set_floatx('float32')\n",
    "tf.random.set_seed(42) \n",
    "\n",
    "from tensorflow import keras\n",
    "from sklearn.model_selection import KFold\n",
    "from sklearn.metrics import accuracy_score\n",
    "from sklearn.metrics import precision_score\n",
    "from sklearn.metrics import recall_score\n",
    "from sklearn.metrics import f1_score\n",
    "\n",
    "from keras.models import Sequential\n",
    "from keras.layers import Masking\n",
    "from keras.layers import Embedding\n",
    "from keras.layers import Conv1D\n",
    "from keras.layers import MaxPooling1D\n",
    "from keras.layers import GlobalAveragePooling1D\n",
    "from keras.layers import GlobalMaxPooling1D\n",
    "from keras.layers import Flatten\n",
    "from keras.layers import Attention\n",
    "from keras.layers import Bidirectional\n",
    "from keras.layers import LSTM\n",
    "from keras.layers import Dense\n",
    "from keras.layers import Dropout\n",
    "from keras.losses import BinaryCrossentropy\n",
    "\n",
    "K=4\n",
    "RCI_THRESHOLD=0.0\n",
    "CFILTERS=64\n",
    "FILTERSIZE=8\n",
    "RCELLS=16\n",
    "DCELLS=8\n",
    "EPOCHS=5\n",
    "FOLDS=5      \n",
    "EMBED_DIMEN = 4 # arbitrary hyperparameter\n",
    "BREAK = False   # break after first fold\n",
    "MINLEN=3000\n",
    "MAXLEN=4000   "
   ]
  },
  {
   "cell_type": "code",
   "execution_count": 265,
   "metadata": {
    "colab": {
     "base_uri": "https://localhost:8080/"
    },
    "id": "OlzN9OdsFWEU",
    "outputId": "e8580723-f53e-4782-b659-7ac04a92a6a6"
   },
   "outputs": [
    {
     "name": "stdout",
     "output_type": "stream",
     "text": [
      "Running on CoLab\n",
      "Drive already mounted at /content/drive/; to attempt to forcibly remount, call drive.mount(\"/content/drive/\", force_remount=True).\n",
      "/content/drive/My Drive/data/Localization/TrainTest/\n"
     ]
    }
   ],
   "source": [
    "try:\n",
    "    from google.colab import drive\n",
    "    IN_COLAB = True\n",
    "    print('Running on CoLab')\n",
    "    PATH='/content/drive/'\n",
    "    drive.mount(PATH)\n",
    "    DATA_DIR=PATH+'My Drive/data/Localization/TrainTest/'  # must end in \"/\"\n",
    "except:\n",
    "    IN_COLAB = False\n",
    "    DATA_DIR = 'D:/Adjeroh/Localization/TrainTest/'   # Windows\n",
    "    DATA_DIR = '/Users/jasonmiller/WVU/Localization/TrainTest/'    # Mac\n",
    "print(DATA_DIR)"
   ]
  },
  {
   "cell_type": "code",
   "execution_count": 266,
   "metadata": {
    "id": "LnkpVKdMFLA-"
   },
   "outputs": [],
   "source": [
    "GENES_FILE =    'CNRCI_coding_train_genes.csv'\n",
    "RCI_FILE =      'CNRCI_coding_train_RCI.gc42.csv'\n",
    "SEQUENCE_FILE = 'CNRCI_coding_train_transcripts.gc42.csv'\n",
    "COUNTS_FILE=    'CNRCI_coding_train_counts.K4.gc42.csv'"
   ]
  },
  {
   "cell_type": "code",
   "execution_count": 267,
   "metadata": {
    "colab": {
     "base_uri": "https://localhost:8080/"
    },
    "id": "e3p4QzQJFLA_",
    "outputId": "55c8af0c-08ee-400c-fba5-112f391004e3"
   },
   "outputs": [
    {
     "name": "stdout",
     "output_type": "stream",
     "text": [
      "Cell line for today: 9 = SK.MEL.5\n"
     ]
    }
   ],
   "source": [
    "def get_ordered_list():\n",
    "    ordered_list = \\\n",
    "    ['A549',\\\n",
    "      'H1.hESC',\\\n",
    "      'HeLa.S3',\\\n",
    "      'HepG2',\\\n",
    "      'HT1080',\\\n",
    "      'HUVEC',\\\n",
    "      'MCF.7',\\\n",
    "      'NCI.H460',\\\n",
    "      'NHEK',\\\n",
    "      'SK.MEL.5',\\\n",
    "      'SK.N.DZ',\\\n",
    "      'SK.N.SH',\\\n",
    "      'GM12878',\\\n",
    "      'K562',\\\n",
    "      'IMR.90']\n",
    "    return ordered_list\n",
    "CELL_LINE_NUMBER=9\n",
    "\n",
    "all_cell_lines = get_ordered_list()\n",
    "cell_line_name = all_cell_lines[CELL_LINE_NUMBER]\n",
    "print('Cell line for today:',CELL_LINE_NUMBER,'=',cell_line_name)"
   ]
  },
  {
   "cell_type": "markdown",
   "metadata": {
    "id": "UtqdpJOxFLBA"
   },
   "source": [
    "## Data Load"
   ]
  },
  {
   "cell_type": "code",
   "execution_count": 268,
   "metadata": {
    "colab": {
     "base_uri": "https://localhost:8080/"
    },
    "id": "p35ehKV3Kq0z",
    "outputId": "5ef46dfe-7078-430a-f67a-12c2c403e41f"
   },
   "outputs": [
    {
     "name": "stdout",
     "output_type": "stream",
     "text": [
      "[1, 1]\n",
      "[20, 16]\n",
      "[63, 57]\n",
      "[64, 0]\n",
      "0\n",
      "1\n"
     ]
    }
   ],
   "source": [
    "class DataLoader():\n",
    "    def __init__(self):\n",
    "        self.cache=dict() \n",
    "        self.vals = {'A':0, 'C':1, 'G':2, 'T':3}\n",
    "        \n",
    "    def load_gene_rci_values(self,filepath,cell_line):\n",
    "        '''\n",
    "        Load from RCI csv file.\n",
    "        Return dict with keys=gene:str and values=RCI:float.\n",
    "        '''\n",
    "        gene_to_rci = {}\n",
    "        with open (filepath,'r') as handle:\n",
    "            header = None\n",
    "            for row in handle:\n",
    "                if header is None:\n",
    "                    header = row # skip file's header line\n",
    "                else:\n",
    "                    line = row.strip()\n",
    "                    fields = line.split(',')\n",
    "                    gene_id = fields[0]\n",
    "                    rci_val = fields[cell_line+1]\n",
    "                    if rci_val != \"nan\":\n",
    "                        # Convert string nan to float(nan)\n",
    "                        gene_to_rci[gene_id] = float(rci_val)\n",
    "        return gene_to_rci\n",
    "    \n",
    "    def seq_to_kmer_values(self,rna,K):\n",
    "        # The cache may represent more than one K. Probably not a problem.\n",
    "        N_indicator = 0 # indicator value\n",
    "        vec=[] # seq converted to list of K-mers \n",
    "        length = len(rna)\n",
    "        for i in range(length-K+1):\n",
    "            kmer = rna[i:i+K]\n",
    "            if 'N' in kmer:\n",
    "                value = N_indicator\n",
    "            elif kmer in self.cache.keys():\n",
    "                value = self.cache[kmer]\n",
    "            else:\n",
    "                value = 0\n",
    "                for j in range(K):\n",
    "                    value *= 4   \n",
    "                    nextnuc = kmer[j] \n",
    "                    nucval = self.vals[nextnuc]\n",
    "                    value += nucval\n",
    "                value += 1   # NNN => 0, AAA => 1\n",
    "                self.cache[kmer] = value\n",
    "            vec.append(value)\n",
    "        return vec\n",
    "\n",
    "    def rci_to_label(self,rci):\n",
    "        CYTO_LABEL = 1\n",
    "        NUCLEAR_LABEL = 0\n",
    "        # cnrci = log (cyto-to-nuclear ratio)\n",
    "        # rci > 0 implies cytoplasmic\n",
    "        if rci > RCI_THRESHOLD:\n",
    "            return CYTO_LABEL\n",
    "        return NUCLEAR_LABEL\n",
    "\n",
    "    def load_sequence(self,filepath):\n",
    "        labels=[]\n",
    "        allids=[]\n",
    "        allseq=[]\n",
    "        NREPEAT = str('N'*MAXLEN)\n",
    "        with open (filepath,'r') as handle:\n",
    "            header = None\n",
    "            for row in handle:\n",
    "                if header is None:\n",
    "                    header = row\n",
    "                else:\n",
    "                    line    = row.strip()\n",
    "                    fields  = line.split(',')\n",
    "                    tran_id = fields[0]  # with version number\n",
    "                    gene_id = fields[1]        # without version number\n",
    "                    seq_len = int(fields[3])\n",
    "                    seq_txt = fields[4]\n",
    "                    if seq_len>=MINLEN and seq_len<=MAXLEN and gene_id in gene_to_rci.keys():\n",
    "                        allids.append( (gene_id,tran_id) )\n",
    "                        rci_val = gene_to_rci[gene_id]\n",
    "                        rci_label = self.rci_to_label(rci_val)\n",
    "                        labels.append(rci_label)\n",
    "                        if seq_len<MAXLEN:\n",
    "                            seq_txt = seq_txt + NREPEAT\n",
    "                            seq_txt = seq_txt[:MAXLEN]\n",
    "                        hot_vec = self.seq_to_kmer_values(seq_txt,K)\n",
    "                        allseq.append(hot_vec)\n",
    "        return labels,allids,allseq\n",
    "    \n",
    "loader = DataLoader()\n",
    "# test it\n",
    "print(loader.seq_to_kmer_values('AAAA',3))\n",
    "print(loader.seq_to_kmer_values('CATT',3))\n",
    "print(loader.seq_to_kmer_values('TTGA',3))\n",
    "print(loader.seq_to_kmer_values('TTTN',3))\n",
    "# test it\n",
    "print(loader.rci_to_label(-0.9))\n",
    "print(loader.rci_to_label(1.1))"
   ]
  },
  {
   "cell_type": "code",
   "execution_count": 269,
   "metadata": {
    "colab": {
     "base_uri": "https://localhost:8080/"
    },
    "id": "cYoYDc93FLBB",
    "outputId": "8b5d36d5-5354-4286-c6cf-30d34ca0411d"
   },
   "outputs": [
    {
     "name": "stdout",
     "output_type": "stream",
     "text": [
      "2022-12-29 16:39:01.305830\n",
      "Load RCI values...\n",
      "Num RCI: 8407\n",
      "Example RCI: [('ENSG00000000003', 1.83753), ('ENSG00000000419', 0.364575), ('ENSG00000000460', -2.34965)]\n",
      "Load genes...\n",
      "2022-12-29 16:39:01.334908\n",
      "Load sequence...\n",
      "2022-12-29 16:39:09.418968\n",
      "Num IDs: 4941\n",
      "Example IDs: [('ENSG00000008130', 'ENST00000341426.9'), ('ENSG00000171680', 'ENST00000535355.6'), ('ENSG00000171680', 'ENST00000537245.6'), ('ENSG00000116688', 'ENST00000675298.1')]\n",
      "Count 2300 ones out of 4941 labels.\n",
      "Example labels: [0, 0, 0, 1]\n",
      "Num counts: 4941\n",
      "Example sequence: [33, 131, 10, 38, 151, 89, 97, 131, 11, 43, 171, 169, 163, 140, 46, 183, 219, 106, 167, 155, 106, 165, 146, 69, 17, 65, 1, 4, 15, 59, 234, 167, 155, 106, 167, 155, 106, 167, 155, 106, 167, 155, 106, 167, 155, 106, 167, 155, 106, 168, 159, 123, 236, 175, 186, 232, 159, 122, 229, 147, 75, 43, 172, 174, 183, 219, 106, 165, 147, 74, 40, 158, 118, 214, 87, 90, 103, 155, 106, 165, 147, 74, 39, 155, 106, 166, 151, 91, 106, 167, 154, 102, 150, 86, 87, 91, 107, 169, 164, 142, 56, 223, 123, 235, 171, 171, 170, 167, 154, 101, 146, 70, 22, 88, 94, 117, 211, 75, 43, 172, 174, 183, 218, 101, 147, 75, 43, 171, 171, 172, 175, 186, 232, 159, 121, 228, 142, 55, 219, 107, 171, 169, 162, 133, 19, 75, 42, 168, 159, 124, 237, 178, 200, 30, 118, 215, 91, 107, 171, 172, 175, 186, 232, 158, 117, 212, 78, 53, 210, 70, 24, 96, 127, 251, 233, 163, 137, 33, 130, 8, 31, 122, 230, 152, 94, 118, 216, 95, 122, 230, 152, 95, 121, 226, 135, 25, 98, 133, 17, 67, 10, 40, 158, 118, 215, 92, 112, 192, 254, 245, 210, 71, 26, 102, 151, 92, 110, 182, 213, 84, 79, 60, 238, 183, 217, 99, 138, 39, 155, 106, 166, 152, 94, 119, 217, 98, 133, 18, 70, 23, 89, 98, 133, 18, 69, 19, 73, 35, 137, 34, 134, 23, 89, 98, 134, 24, 94, 118, 215, 90, 103, 156, 111, 187, 236, 175, 187, 235, 170, 168, 159, 122, 231, 153, 99, 138, 40, 158, 117, 212, 78, 54, 213, 83, 75, 42, 167, 155, 106, 166, 151, 91, 108, 173, 180, 206, 54, 216, 95, 122, 232, 158, 118, 215, 90, 102, 152, 95, 122, 230, 151, 90, 101, 147, 75, 44, 175, 187, 234, 166, 149, 84, 79, 59, 234, 168, 157, 114, 198, 23, 91, 107, 170, 165, 147, 75, 44, 175, 188, 240, 191, 252, 240, 190, 246, 213, 83, 74, 39, 155, 108, 176, 190, 248, 224, 128, 256, 253, 244, 205, 50, 198, 21, 81, 67, 12, 46, 182, 216, 96, 126, 247, 220, 111, 185, 225, 131, 10, 37, 146, 72, 30, 118, 213, 84, 79, 59, 233, 163, 138, 37, 148, 79, 60, 239, 188, 238, 181, 209, 68, 15, 59, 234, 166, 152, 95, 124, 239, 188, 238, 182, 213, 82, 70, 24, 95, 123, 234, 168, 160, 126, 246, 213, 81, 67, 9, 36, 141, 51, 201, 33, 131, 9, 35, 139, 42, 166, 150, 86, 85, 81, 67, 9, 34, 135, 26, 101, 148, 77, 50, 199, 27, 107, 169, 162, 135, 28, 110, 181, 212, 78, 53, 209, 68, 15, 60, 239, 188, 240, 192, 254, 245, 210, 70, 23, 90, 102, 152, 96, 126, 247, 217, 98, 133, 19, 74, 40, 159, 121, 227, 137, 35, 137, 34, 133, 17, 65, 1, 1, 3, 9, 33, 131, 10, 38, 150, 87, 92, 111, 186, 230, 152, 94, 120, 221, 114, 200, 29, 114, 200, 31, 123, 233, 164, 142, 53, 209, 67, 9, 36, 144, 61, 244, 207, 60, 240, 189, 241, 196, 16, 64, 253, 241, 193, 3, 9, 33, 130, 6, 21, 81, 65, 4, 16, 61, 244, 205, 49, 193, 3, 11, 42, 167, 155, 105, 161, 129, 3, 9, 34, 135, 25, 99, 140, 48, 190, 248, 222, 117, 209, 65, 3, 9, 35, 140, 48, 191, 251, 235, 172, 176, 192, 254, 248, 223, 122, 231, 156, 110, 182, 213, 84, 79, 60, 239, 185, 225, 131, 10, 37, 148, 78, 54, 216, 94, 117, 212, 77, 49, 195, 9, 36, 141, 49, 196, 14, 55, 220, 112, 189, 244, 207, 60, 237, 178, 198, 24, 96, 126, 245, 211, 75, 44, 175, 188, 240, 189, 243, 201, 35, 140, 47, 188, 239, 185, 227, 138, 39, 156, 109, 177, 194, 6, 21, 81, 66, 5, 18, 70, 24, 95, 123, 236, 174, 182, 213, 83, 73, 34, 134, 24, 94, 117, 212, 79, 59, 233, 161, 132, 16, 61, 242, 197, 20, 79, 57, 225, 130, 7, 25, 98, 133, 19, 74, 38, 152, 96, 126, 247, 218, 101, 146, 70, 23, 89, 98, 135, 28, 110, 184, 224, 126, 247, 220, 111, 186, 231, 155, 108, 176, 190, 246, 213, 83, 74, 38, 149, 83, 73, 35, 137, 35, 138, 37, 148, 78, 55, 218, 102, 152, 95, 124, 239, 186, 230, 152, 95, 122, 229, 148, 80, 64, 253, 244, 206, 56, 224, 127, 250, 232, 159, 122, 230, 150, 87, 91, 105, 162, 135, 26, 104, 159, 123, 233, 163, 137, 36, 142, 54, 214, 88, 96, 128, 255, 250, 230, 150, 85, 81, 68, 14, 55, 220, 110, 182, 214, 86, 85, 84, 80, 63, 251, 236, 176, 192, 254, 248, 224, 128, 256, 255, 252, 240, 192, 255, 251, 233, 163, 138, 37, 145, 66, 8, 31, 121, 225, 131, 9, 33, 131, 9, 33, 129, 4, 16, 62, 245, 211, 75, 41, 161, 129, 4, 14, 56, 223, 122, 232, 160, 125, 241, 193, 3, 9, 36, 142, 56, 224, 127, 250, 229, 147, 74, 40, 160, 128, 253, 244, 207, 58, 232, 158, 119, 219, 105, 161, 129, 1, 1, 3, 11, 44, 176, 191, 249, 228, 142, 56, 222, 117, 210, 69, 18, 69, 18, 70, 24, 95, 123, 233, 163, 139, 43, 172, 175, 185, 225, 131, 12, 47, 187, 233, 161, 129, 1, 1, 1, 3, 9, 33, 129, 3, 10, 37, 146, 71, 26, 104, 157, 116, 206, 55, 217, 97, 131, 9, 35, 139, 42, 165, 145, 65, 3, 11, 42, 166, 150, 85, 81, 67, 10, 38, 150, 87, 91, 107, 171, 170, 166, 152, 95, 124, 240, 191, 250, 230, 152, 95, 123, 235, 171, 171, 170, 165, 146, 69, 18, 69, 19, 75, 44, 175, 186, 232, 159, 123, 233, 164, 143, 59, 236, 173, 178, 198, 24, 94, 119, 219, 107, 171, 172, 176, 190, 248, 222, 120, 222, 118, 216, 95, 122, 230, 150, 86, 86, 85, 81, 67, 10, 40, 159, 123, 236, 175, 187, 233, 161, 132, 14, 54, 214, 86, 86, 85, 81, 65, 3, 9, 33, 131, 11, 44, 173, 177, 193, 3, 11, 43, 169, 163, 138, 37, 145, 67, 10, 38, 152, 96, 126, 246, 214, 86, 85, 82, 72, 31, 124, 238, 184, 223, 124, 239, 185, 225, 131, 9, 33, 130, 5, 18, 70, 21, 81, 67, 9, 35, 139, 41, 163, 139, 42, 168, 159, 123, 233, 163, 139, 43, 170, 167, 154, 102, 149, 81, 67, 9, 33, 129, 3, 10, 38, 149, 81, 67, 11, 42, 167, 155, 105, 162, 133, 19, 74, 38, 150, 86, 87, 92, 111, 185, 225, 130, 7, 27, 106, 168, 160, 127, 250, 230, 149, 81, 65, 3, 11, 43, 171, 170, 167, 153, 99, 137, 35, 137, 35, 140, 46, 183, 219, 105, 163, 140, 46, 183, 219, 105, 163, 138, 38, 151, 91, 105, 163, 138, 38, 151, 92, 111, 185, 227, 138, 37, 147, 73, 35, 138, 40, 157, 114, 200, 30, 119, 217, 99, 139, 44, 174, 182, 214, 86, 85, 84, 78, 54, 214, 87, 89, 100, 142, 53, 211, 74, 39, 156, 110, 184, 222, 118, 216, 93, 113, 195, 9, 35, 139, 41, 163, 139, 41, 161, 129, 1, 3, 12, 47, 185, 226, 133, 19, 74, 39, 155, 106, 168, 158, 118, 213, 82, 69, 20, 78, 56, 223, 123, 236, 175, 187, 235, 172, 174, 182, 213, 81, 67, 12, 46, 183, 218, 101, 147, 73, 35, 138, 38, 151, 90, 104, 158, 118, 214, 87, 91, 105, 163, 138, 37, 147, 75, 41, 163, 140, 47, 185, 226, 136, 30, 118, 214, 86, 85, 82, 70, 23, 89, 99, 137, 34, 133, 19, 75, 42, 166, 150, 86, 86, 86, 87, 90, 101, 147, 74, 39, 154, 104, 158, 118, 214, 88, 93, 114, 197, 17, 65, 3, 11, 42, 168, 158, 120, 223, 121, 227, 137, 36, 144, 62, 247, 219, 107, 171, 170, 168, 158, 118, 214, 87, 91, 105, 161, 131, 12, 46, 182, 213, 81, 67, 11, 41, 162, 136, 31, 122, 229, 145, 67, 12, 45, 178, 198, 22, 86, 86, 85, 83, 73, 33, 131, 10, 38, 149, 82, 69, 18, 69, 17, 67, 12, 46, 184, 222, 119, 219, 105, 163, 138, 38, 151, 91, 105, 163, 140, 48, 190, 248, 224, 126, 246, 214, 87, 92, 112, 190, 248, 222, 119, 217, 97, 131, 10, 37, 147, 75, 44, 174, 181, 210, 71, 27, 107, 169, 163, 138, 39, 155, 107, 170, 167, 155, 105, 164, 141, 49, 196, 14, 54, 215, 91, 107, 169, 161, 129, 1, 4, 13, 50, 197, 17, 67, 9, 33, 131, 9, 33, 129, 1, 3, 12, 46, 181, 212, 80, 61, 242, 200, 29, 114, 197, 19, 73, 35, 137, 36, 142, 53, 211, 74, 39, 153, 98, 135, 25, 99, 137, 35, 138, 39, 154, 104, 158, 119, 217, 99, 139, 44, 174, 183, 220, 109, 180, 207, 57, 225, 130, 7, 26, 101, 146, 69, 19, 75, 42, 166, 151, 92, 110, 183, 218, 104, 157, 116, 207, 57, 227, 138, 39, 155, 107, 169, 162, 134, 21, 82, 70, 22, 88, 95, 123, 235, 170, 165, 146, 69, 19, 74, 37, 147, 75, 42, 165, 148, 78, 55, 219, 105, 163, 139, 44, 175, 185, 227, 139, 42, 167, 155, 107, 171, 172, 176, 191, 250, 229, 147, 76, 47, 185, 226, 136, 31, 123, 236, 175, 187, 234, 166, 151, 90, 101, 145, 67, 10, 38, 150, 88, 96, 126, 246, 214, 88, 95, 123, 235, 171, 169, 163, 140, 45, 178, 198, 24, 95, 121, 228, 143, 59, 234, 168, 159, 122, 230, 150, 88, 96, 128, 255, 249, 226, 134, 22, 86, 86, 87, 91, 108, 175, 187, 234, 168, 159, 122, 230, 150, 88, 96, 128, 255, 249, 226, 134, 22, 86, 86, 87, 91, 107, 172, 175, 188, 239, 186, 232, 158, 120, 222, 117, 211, 74, 39, 154, 101, 145, 67, 12, 47, 187, 236, 174, 182, 216, 93, 115, 201, 33, 130, 5, 19, 75, 41, 164, 144, 62, 248, 224, 128, 256, 256, 255, 251, 233, 161, 129, 4, 15, 60, 238, 184, 223, 124, 238, 183, 217, 98, 136, 31, 123, 233, 162, 134, 24, 96, 127, 251, 236, 175, 187, 233, 164, 144, 64, 255, 251, 233, 161, 129, 4, 15, 59, 233, 161, 130, 8, 31, 121, 227, 139, 43, 169, 162, 134, 23, 91, 108, 175, 185, 226, 133, 18, 71, 28, 111, 186, 232, 160, 126, 245, 211, 73, 34, 134, 23, 91, 108, 174, 184, 223, 123, 235, 171, 172, 175, 186, 231, 155, 106, 167, 154, 101, 146, 69, 18, 70, 24, 95, 123, 235, 170, 166, 150, 87, 92, 111, 186, 229, 147, 75, 43, 170, 168, 158, 117, 211, 74, 40, 158, 119, 219, 106, 165, 147, 74, 37, 147, 74, 40, 158, 120, 223, 121, 227, 139, 43, 170, 165, 147, 74, 40, 158, 117, 209, 68, 15, 57, 225, 129, 1, 1, 3, 12, 47, 185, 225, 132, 15, 58, 229, 146, 69, 18, 71, 26, 102, 150, 88, 96, 127, 252, 240, 191, 251, 234, 167, 156, 111, 187, 234, 166, 152, 95, 123, 234, 165, 148, 79, 59, 234, 166, 152, 95, 123, 236, 175, 186, 232, 157, 116, 206, 55, 219, 106, 165, 147, 74, 38, 151, 90, 104, 158, 120, 222, 118, 213, 82, 72, 30, 118, 214, 86, 87, 89, 98, 136, 31, 121, 228, 141, 50, 200, 30, 117, 209, 68, 16, 61, 242, 199, 28, 111, 185, 225, 131, 10, 38, 149, 81, 67, 9, 33, 129, 3, 9, 36, 143, 57, 228, 144, 64, 256, 256, 253, 243, 201, 33, 130, 6, 24, 96, 128, 255, 250, 230, 152, 93, 116, 205, 52, 208, 61, 243, 203, 44, 176, 191, 252, 237, 178, 200, 32, 125, 244, 207, 60, 237, 178, 197, 20, 77, 52, 208, 64, 256, 255, 250, 229, 147, 76, 47, 188, 240, 192, 254, 245, 210, 69, 19, 75, 41, 163, 137, 33, 129, 3, 12, 47, 187, 234, 166, 152, 96, 125, 241, 194, 8, 31, 122, 230, 150, 86, 88, 96, 125, 244, 208, 62, 248, 222, 120, 222, 120, 222, 118, 213, 82, 71, 28, 112, 191, 252, 237, 177, 193, 4, 13, 49, 193, 2, 5, 20, 79, 60, 239, 188, 240, 192, 253, 241, 196, 13, 50, 197, 17, 67, 12, 48, 189, 241, 193, 3, 10, 40, 157, 116, 207, 60, 237, 180, 207, 57, 225, 129, 1, 2, 8, 30, 117, 211, 73, 33, 130, 8, 32, 127, 249, 225, 132, 14, 54, 214, 87, 92, 110, 181, 211, 74, 40, 160, 125, 241, 193, 1, 2, 8, 32, 127, 252, 239, 188, 237, 179, 203, 43, 169, 161, 132, 14, 54, 216, 95, 121, 226, 136, 32, 128, 256, 253, 241, 193, 1, 4, 15, 60, 239, 185, 227, 139, 43, 172, 173, 180, 208, 64, 255, 251, 233, 164, 142, 56, 223, 124, 239, 188, 240, 191, 249, 225, 129, 3, 12, 46, 183, 220, 109, 180, 205, 52, 208, 64, 256, 256, 253, 244, 206, 56, 223, 124, 239, 186, 231, 155, 108, 175, 186, 232, 159, 121, 227, 140, 47, 186, 229, 147, 75, 42, 166, 149, 82, 70, 21, 83, 74, 40, 158, 118, 216, 93, 113, 193, 4, 13, 51, 201, 35, 139, 44, 176, 190, 246, 214, 88, 93, 116, 205, 52, 207, 58, 231, 154, 103, 156, 109, 180, 207, 57, 226, 133, 20, 79, 59, 236, 175, 185, 225, 132, 13, 49, 193, 2, 5, 18, 69, 17, 66, 8, 30, 120, 222, 120, 222, 118, 213, 82, 72, 30, 117, 211, 75, 41, 162, 133, 20, 78, 54, 215, 91, 105, 163, 138, 39, 156, 112, 189, 244, 207, 59, 233, 162, 135, 28, 111, 187, 236, 173, 179, 203, 44, 175, 187, 236, 174, 183, 220, 112, 190, 248, 223, 124, 239, 188, 239, 186, 232, 160, 127, 252, 239, 185, 225, 129, 3, 12, 47, 188, 238, 182, 213, 83, 75, 42, 167, 156, 111, 188, 239, 186, 229, 146, 69, 19, 74, 38, 149, 83, 76, 47, 186, 231, 154, 102, 150, 85, 82, 72, 32, 126, 246, 215, 91, 107, 170, 168, 158, 118, 216, 96, 127, 250, 232, 158, 118, 214, 88, 95, 122, 232, 159, 124, 237, 178, 200, 31, 121, 225, 131, 12, 48, 192, 256, 255, 251, 233, 164, 144, 64, 256, 255, 250, 229, 148, 78, 54, 213, 81, 68, 14, 54, 216, 95, 124, 239, 188, 239, 186, 230, 152, 95, 122, 230, 150, 88, 96, 126, 248, 223, 122, 230, 151, 89, 97, 131, 11, 42, 168, 160, 127, 252, 239, 185, 227, 139, 43, 171, 170, 166, 152, 95, 121, 227, 140, 46, 182, 216, 94, 120, 223, 122, 230, 150, 85, 84, 78, 53, 211, 75, 41, 164, 143, 57, 226, 133, 19, 75, 42, 168, 158, 118, 216, 96, 126, 246, 216, 95, 122, 229, 147, 75, 43, 170, 166, 149, 84, 77, 51, 203, 41, 163, 139, 43, 169, 161, 131, 12, 48, 192, 256, 255, 251, 233, 161, 129, 2, 5, 18, 69, 19, 73, 33, 132, 15, 57, 228, 144, 62, 246, 213, 81, 67, 11, 44, 175, 186, 232, 158, 120, 222, 119, 220, 112, 190, 246, 216, 95, 121, 227, 139, 43, 171, 171, 169, 162, 136, 31, 123, 236, 176, 192, 255, 252, 237, 177, 194, 6, 22, 85, 84, 79, 57, 226, 133, 20, 78, 56, 223, 124, 239, 187, 235, 170, 167, 153, 99, 137, 35, 137, 35, 139, 42, 165, 147, 74, 40, 159, 123, 235, 169, 163, 138, 37, 147, 75, 41, 162, 133, 18, 72, 32, 127, 251, 233, 163, 139, 43, 172, 174, 181, 210, 70, 22, 86, 85, 82, 71, 27, 107, 171, 171, 172, 175, 187, 234, 165, 146, 70, 24, 95, 122, 229, 146, 72, 30, 120, 223, 121, 227, 140, 47, 186, 230, 150, 86, 86, 86, 85, 82, 72, 31, 124, 238, 181, 212, 78, 53, 211, 74, 40, 159, 122, 230, 152, 94, 120, 224, 125, 242, 198, 23, 92, 111, 187, 233, 162, 133, 18, 69, 19, 76, 48, 192, 256, 255, 251, 236, 176, 192, 256, 255, 251, 235, 171, 169, 162, 136, 29, 115, 203, 43, 171, 171, 170, 166, 150, 86, 85, 82, 72, 30, 118, 216, 95, 123, 236, 175, 187, 236, 173, 178, 198, 23, 92, 112, 192, 255, 251, 233, 162, 136, 32, 125, 242, 200, 29, 115, 203, 43, 170, 165, 147, 76, 47, 187, 235, 169, 162, 133, 20, 77, 52, 205, 51, 203, 42, 166, 151, 91, 107, 171, 170, 168, 157, 115, 204, 47, 187, 235, 169, 164, 141, 49, 194, 7, 27, 107, 171, 169, 163, 140, 48, 189, 242, 199, 26, 102, 152, 95, 121, 228, 143, 57, 226, 136, 32, 128, 256, 256, 256, 255, 249, 228, 143, 59, 233, 161, 132, 14, 54, 216, 95, 122, 229, 148, 80, 61, 243, 201, 36, 141, 51, 202, 40, 159, 123, 236, 175, 187, 235, 169, 162, 134, 22, 86, 86, 86, 86, 88, 94, 117, 211, 73, 33, 132, 16, 63, 251, 235, 171, 169, 161, 130, 8, 31, 121, 227, 139, 41, 163, 137, 34, 136, 30, 118, 213, 83, 75, 43, 169, 163, 139, 43, 172, 175, 188, 238, 182, 216, 96, 126, 246, 213, 83, 75, 43, 169, 163, 137, 35, 138, 37, 147, 74, 40, 157, 116, 207, 57, 227, 139, 43, 171, 170, 166, 150, 86, 86, 88, 93, 115, 202, 40, 160, 126, 246, 216, 95, 124, 239, 186, 230, 152, 95, 123, 233, 161, 131, 12, 45, 177, 195, 9, 35, 137, 33, 130, 6, 21, 83, 76, 45, 177, 193, 3, 11, 43, 170, 166, 149, 84, 77, 50, 197, 18, 69, 18, 70, 24, 95, 124, 237, 178, 198, 22, 85, 81, 67, 9, 35, 137, 34, 134, 23, 90, 104, 158, 120, 222, 118, 213, 84, 80, 64, 255, 250, 232, 160, 128, 254, 248, 224, 128, 256, 256, 256, 256, 253, 242, 200, 29, 113, 193, 4, 13, 49, 196, 16, 63, 252, 237, 177, 193, 1, 4, 13, 52, 208, 61, 244, 208, 61, 244, 207, 57, 226, 133, 20, 77, 49, 193, 3, 9, 33, 130, 6, 21, 84, 80, 64, 253, 241, 195, 11, 42, 166, 149, 0, 0, 0, 0, 0, 0, 0, 0, 0, 0, 0, 0, 0, 0, 0, 0, 0, 0, 0, 0, 0, 0, 0, 0, 0, 0, 0, 0, 0, 0, 0, 0, 0, 0, 0, 0, 0, 0, 0, 0, 0, 0, 0, 0, 0, 0, 0, 0, 0, 0, 0, 0, 0, 0, 0, 0, 0, 0, 0, 0, 0, 0, 0, 0, 0, 0, 0, 0, 0, 0, 0, 0, 0, 0, 0, 0, 0, 0, 0, 0, 0, 0, 0, 0, 0, 0, 0, 0, 0, 0, 0, 0, 0, 0, 0, 0, 0, 0, 0, 0, 0, 0, 0, 0, 0, 0, 0, 0, 0, 0, 0, 0, 0, 0, 0, 0, 0, 0, 0, 0, 0, 0, 0, 0, 0, 0, 0, 0, 0, 0, 0, 0, 0, 0, 0, 0, 0, 0, 0, 0, 0, 0, 0, 0, 0, 0, 0, 0, 0, 0, 0, 0, 0, 0, 0, 0, 0, 0, 0, 0, 0, 0, 0, 0, 0, 0, 0, 0, 0, 0, 0, 0, 0, 0, 0, 0, 0, 0, 0, 0, 0, 0, 0, 0, 0, 0, 0, 0, 0, 0, 0, 0, 0, 0, 0, 0, 0, 0, 0, 0, 0, 0, 0, 0, 0, 0, 0, 0, 0, 0, 0, 0, 0, 0, 0, 0, 0, 0, 0, 0, 0, 0, 0, 0, 0, 0, 0, 0, 0, 0, 0, 0, 0, 0, 0, 0, 0, 0, 0, 0, 0, 0, 0, 0, 0, 0, 0, 0, 0, 0, 0, 0, 0, 0, 0, 0, 0, 0, 0, 0, 0, 0, 0, 0, 0, 0, 0, 0, 0, 0, 0, 0, 0, 0, 0, 0, 0, 0, 0, 0, 0, 0, 0, 0, 0, 0, 0, 0, 0, 0, 0, 0, 0, 0, 0, 0, 0, 0, 0, 0, 0, 0, 0, 0, 0, 0, 0, 0, 0, 0, 0, 0, 0, 0, 0, 0, 0, 0, 0, 0, 0, 0, 0, 0, 0, 0, 0, 0, 0, 0, 0, 0, 0, 0, 0, 0, 0, 0, 0, 0, 0, 0, 0, 0, 0, 0, 0, 0, 0, 0, 0, 0, 0, 0, 0, 0, 0, 0, 0, 0, 0, 0, 0, 0, 0, 0, 0, 0, 0, 0, 0, 0, 0, 0, 0, 0, 0, 0, 0, 0, 0, 0, 0, 0, 0, 0, 0, 0, 0, 0, 0, 0, 0, 0, 0, 0, 0, 0, 0, 0, 0, 0, 0, 0, 0, 0, 0, 0, 0, 0, 0, 0, 0, 0, 0, 0, 0, 0, 0, 0, 0, 0, 0, 0, 0, 0, 0, 0, 0, 0, 0, 0, 0, 0, 0, 0, 0, 0, 0, 0, 0, 0, 0, 0, 0, 0, 0, 0, 0, 0, 0, 0, 0, 0, 0, 0, 0, 0, 0, 0, 0, 0, 0, 0, 0, 0, 0, 0, 0, 0, 0, 0, 0, 0, 0, 0, 0, 0, 0, 0, 0, 0, 0, 0, 0, 0, 0, 0, 0, 0, 0, 0, 0, 0, 0, 0, 0, 0, 0, 0, 0, 0, 0, 0, 0, 0, 0, 0, 0, 0, 0, 0, 0, 0, 0, 0, 0, 0, 0, 0, 0, 0, 0, 0, 0, 0, 0, 0, 0, 0, 0, 0, 0, 0, 0, 0, 0, 0, 0, 0, 0, 0, 0, 0, 0, 0, 0, 0, 0, 0, 0, 0, 0, 0, 0, 0, 0, 0, 0, 0, 0, 0, 0, 0, 0, 0, 0, 0, 0, 0, 0, 0, 0, 0, 0, 0, 0, 0, 0, 0, 0, 0, 0, 0, 0, 0, 0, 0, 0, 0, 0, 0, 0, 0, 0, 0, 0, 0, 0, 0, 0, 0, 0, 0, 0, 0, 0, 0, 0, 0, 0, 0, 0, 0, 0, 0, 0, 0, 0, 0, 0, 0, 0, 0, 0, 0, 0, 0, 0, 0, 0, 0, 0, 0, 0, 0, 0, 0, 0, 0, 0, 0, 0, 0, 0, 0, 0, 0, 0, 0, 0, 0, 0, 0, 0, 0, 0, 0, 0, 0, 0, 0, 0, 0, 0, 0, 0, 0, 0, 0, 0, 0, 0, 0, 0, 0, 0, 0, 0, 0, 0, 0, 0, 0, 0, 0, 0, 0, 0, 0, 0, 0, 0, 0, 0, 0, 0, 0, 0, 0, 0, 0, 0, 0, 0, 0, 0, 0, 0, 0, 0, 0, 0, 0, 0, 0, 0, 0, 0, 0, 0, 0, 0, 0, 0, 0, 0, 0, 0, 0, 0, 0, 0, 0, 0, 0, 0, 0, 0, 0, 0, 0, 0, 0, 0, 0, 0, 0, 0, 0, 0, 0, 0, 0, 0, 0, 0, 0, 0, 0, 0, 0, 0, 0, 0, 0, 0, 0, 0, 0, 0, 0, 0, 0, 0, 0, 0, 0, 0, 0, 0, 0, 0, 0, 0, 0, 0, 0, 0, 0, 0, 0, 0, 0, 0, 0, 0, 0, 0, 0, 0, 0, 0, 0, 0, 0, 0, 0, 0, 0, 0, 0, 0, 0, 0, 0, 0, 0, 0, 0, 0, 0, 0, 0, 0, 0, 0, 0, 0, 0, 0, 0, 0, 0, 0, 0, 0, 0, 0, 0, 0, 0, 0, 0, 0, 0, 0, 0, 0, 0, 0, 0, 0, 0, 0, 0, 0, 0, 0, 0, 0, 0, 0, 0, 0, 0, 0, 0, 0, 0, 0, 0, 0, 0, 0, 0, 0, 0, 0, 0, 0, 0, 0, 0, 0, 0, 0, 0]\n"
     ]
    }
   ],
   "source": [
    "print(datetime.now())\n",
    "print(\"Load RCI values...\")\n",
    "loader = DataLoader()\n",
    "filepath = DATA_DIR+RCI_FILE\n",
    "gene_to_rci = loader.load_gene_rci_values(filepath,CELL_LINE_NUMBER)\n",
    "print('Num RCI:', len(gene_to_rci.keys()))\n",
    "print('Example RCI:', list(gene_to_rci.items())[:3])\n",
    "print(\"Load genes...\")\n",
    "all_genes = list(gene_to_rci.keys())\n",
    "print(datetime.now())\n",
    "print('Load sequence...')\n",
    "filepath = DATA_DIR+SEQUENCE_FILE\n",
    "labels,allids,allseq = loader.load_sequence(filepath)\n",
    "print(datetime.now())\n",
    "print('Num IDs:',len(allids))\n",
    "print('Example IDs:',[allids[x] for x in [10, 20, 30, 40]] )\n",
    "print('Count',np.count_nonzero(labels),'ones out of',len(labels),'labels.')\n",
    "print('Example labels:',[labels[x] for x in [10, 20, 30, 40]] )\n",
    "print('Num counts:',len(allseq))\n",
    "print('Example sequence:',allseq[3])\n",
    "loader = None  # drop K-mer cache to save RAM"
   ]
  },
  {
   "cell_type": "markdown",
   "metadata": {
    "id": "VDZ6siB_Kq04"
   },
   "source": [
    "## Model"
   ]
  },
  {
   "cell_type": "code",
   "execution_count": 270,
   "metadata": {
    "id": "AwMbRjm0FLBF"
   },
   "outputs": [],
   "source": [
    "def build_model():\n",
    "    ALPHABET=4**K+1  # NUMBER OF DISTINCT KMERS POSSIBLE, add one if N gets mask value\n",
    "    ADJUST_LENGTH = MAXLEN-K+1  # fixed length sequences\n",
    "    rnn = Sequential()\n",
    "    embed_layer = Embedding(ALPHABET,EMBED_DIMEN,input_length=ADJUST_LENGTH,mask_zero=True)   \n",
    "    cnn1_layer = Conv1D(CFILTERS, FILTERSIZE)\n",
    "    #rnn1_layer = Bidirectional( LSTM(RCELLS, return_sequences=False) )\n",
    "    #pool_layer = MaxPooling1D(pool_size=3)\n",
    "    pool_layer = GlobalAveragePooling1D()\n",
    "    #pool_layer = GlobalMaxPooling1D()\n",
    "    flat_layer = Flatten()\n",
    "    den1_layer = Dense(DCELLS)\n",
    "    drop_layer = Dropout(0.5)\n",
    "    output_layer = Dense(1,activation='sigmoid',dtype=dt)\n",
    "\n",
    "    rnn.add(embed_layer)\n",
    "    rnn.add(cnn1_layer)\n",
    "    rnn.add(pool_layer)\n",
    "    #rnn.add(flat_layer)\n",
    "    #rnn.add(den1_layer)\n",
    "    #rnn.add(drop_layer)\n",
    "    rnn.add(output_layer)\n",
    "\n",
    "    bc=BinaryCrossentropy(from_logits=False)\n",
    "    print(\"COMPILE\")\n",
    "    rnn.compile(loss=bc, optimizer=\"Adam\",metrics=[\"accuracy\"])\n",
    "    return rnn"
   ]
  },
  {
   "cell_type": "code",
   "execution_count": 271,
   "metadata": {
    "colab": {
     "base_uri": "https://localhost:8080/"
    },
    "id": "clj-wufgFLBF",
    "outputId": "a2d41d00-965c-44af-ee7d-de29777d15bf"
   },
   "outputs": [
    {
     "name": "stdout",
     "output_type": "stream",
     "text": [
      "2022-12-29 16:39:09.450533\n",
      "COMPILE\n",
      "Model: \"sequential_136\"\n",
      "_________________________________________________________________\n",
      " Layer (type)                Output Shape              Param #   \n",
      "=================================================================\n",
      " embedding_136 (Embedding)   (None, 3997, 4)           1028      \n",
      "                                                                 \n",
      " conv1d_136 (Conv1D)         (None, 3990, 64)          2112      \n",
      "                                                                 \n",
      " global_average_pooling1d_12  (None, 64)               0         \n",
      " 3 (GlobalAveragePooling1D)                                      \n",
      "                                                                 \n",
      " dense_271 (Dense)           (None, 1)                 65        \n",
      "                                                                 \n",
      "=================================================================\n",
      "Total params: 3,205\n",
      "Trainable params: 3,205\n",
      "Non-trainable params: 0\n",
      "_________________________________________________________________\n",
      "None\n"
     ]
    }
   ],
   "source": [
    "print(datetime.now())\n",
    "model=build_model()\n",
    "print(model.summary())  # Print this only once"
   ]
  },
  {
   "cell_type": "markdown",
   "metadata": {
    "id": "MgrC1alOKq07"
   },
   "source": [
    "## Training"
   ]
  },
  {
   "cell_type": "code",
   "execution_count": 272,
   "metadata": {
    "id": "W9xiFzNbFLBE"
   },
   "outputs": [],
   "source": [
    "class CrossValidator():\n",
    "    def __init__(self,epochs,folds,quick_test=False,pred_threshold=0.5):\n",
    "        self.epochs = epochs\n",
    "        self.folds = folds\n",
    "        self.quick_test = quick_test\n",
    "        self.threshold = pred_threshold # e.g. score>0.5 => class 1\n",
    "    \n",
    "    def get_gene_subset(self,all_genes,sub_index):\n",
    "        sub_genes = set()\n",
    "        for index in sub_index:\n",
    "            one_gene = all_genes[index]\n",
    "            sub_genes.add(one_gene)\n",
    "        return sub_genes\n",
    "    \n",
    "    def get_X_y(self,gene_set,allids,allX,allY):\n",
    "        cnt = len(allids)\n",
    "        subsetX=[]\n",
    "        subsetY=[]\n",
    "        if cnt != len(allX) or cnt!= len(allY):\n",
    "            raise Exception('Lengths differ')\n",
    "        for i in range(cnt):\n",
    "            gene_id,tran_id = allids[i]\n",
    "            if gene_id in gene_set:\n",
    "                oneX = allX[i]\n",
    "                oneY = allY[i]\n",
    "                subsetX.append(oneX)\n",
    "                subsetY.append(oneY)\n",
    "        subsetX = np.array(subsetX)\n",
    "        subsetY = np.array(subsetY).reshape((-1,1))\n",
    "        return subsetX,subsetY\n",
    "    \n",
    "    def do_cross_validation(self):\n",
    "        cv_accuracy=[]\n",
    "        cv_precision=[]\n",
    "        cv_recall=[]\n",
    "        cv_f1=[]\n",
    "        fold=0\n",
    "        print(datetime.now())\n",
    "        print('splitting')\n",
    "        # KFold shuffles once before making the partitions\n",
    "        splitter = KFold(n_splits=self.folds,shuffle=True,random_state=42)\n",
    "        for train_index,valid_index in splitter.split(all_genes):\n",
    "            fold += 1\n",
    "            print('Fold',fold)\n",
    "            train_genes = self.get_gene_subset(all_genes,train_index)\n",
    "            valid_genes = self.get_gene_subset(all_genes,valid_index)\n",
    "            X_train,y_train = self.get_X_y(train_genes,allids,allseq,labels)\n",
    "            X_valid,y_valid = self.get_X_y(valid_genes,allids,allseq,labels)\n",
    "\n",
    "            print('Training example')\n",
    "            print(X_train[0])\n",
    "\n",
    "            print('Train sizes',X_train.shape,y_train.shape)\n",
    "            print('Valid sizes',X_valid.shape,y_valid.shape)\n",
    "            print('Train set ones/size',\n",
    "                  np.count_nonzero(y_train),'/',len(y_train))\n",
    "            print('Valid set ones/size',\n",
    "                  np.count_nonzero(y_valid),'/',len(y_valid))\n",
    "\n",
    "            print(\"BUILD MODEL\")\n",
    "            model=build_model()\n",
    "\n",
    "            print(\"FIT\")\n",
    "            print(datetime.now())\n",
    "            history=model.fit(X_train, y_train, # batch_size=10, default=32 works nicely\n",
    "                    epochs=self.epochs, verbose=1,  # verbose=1 for ascii art, verbose=0 for none\n",
    "                    validation_data=(X_valid,y_valid) )\n",
    "\n",
    "            pd.DataFrame(history.history).plot(figsize=(8,5))\n",
    "            plt.grid(True)\n",
    "            plt.gca().set_ylim(0,1)\n",
    "            plt.show()\n",
    "\n",
    "            print(\"Compute valiation accuracy\")\n",
    "            print(datetime.now())\n",
    "            yhat_pred=model.predict(X_valid, verbose=0) \n",
    "            print('Range of scores:',np.min(yhat_pred),'to',np.max(yhat_pred))\n",
    "            yhat_classes=np.where(yhat_pred > self.threshold, 1, 0)\n",
    "            print('Predicted zeros and ones',np.count_nonzero(yhat_classes==0),np.count_nonzero(yhat_classes==1))\n",
    "            # accuracy: (tp + tn) / (p + n)\n",
    "            accuracy = accuracy_score(y_valid, yhat_classes)*100.\n",
    "            # precision tp / (tp + fp)\n",
    "            precision = precision_score(y_valid, yhat_classes)*100.\n",
    "            # recall: tp / (tp + fn)\n",
    "            recall = recall_score(y_valid, yhat_classes)*100.\n",
    "            # f1: 2 tp / (2 tp + fp + fn)\n",
    "            f1 = f1_score(y_valid, yhat_classes)*100.\n",
    "            print('Accuracy: %.2f%% Precision: %.2f%% Recall: %.2f%% F1: %.2f%%' % (accuracy,precision,recall,f1)) \n",
    "            print(datetime.now())\n",
    "            cv_accuracy.append(accuracy)\n",
    "            cv_precision.append(precision)\n",
    "            cv_recall.append(recall)\n",
    "            cv_f1.append(f1)\n",
    "            if self.quick_test:   \n",
    "                print('Break -- this was for code testing only')\n",
    "                break\n",
    "        print()\n",
    "        return cv_accuracy, cv_precision, cv_recall, cv_f1"
   ]
  },
  {
   "cell_type": "code",
   "execution_count": 273,
   "metadata": {
    "colab": {
     "base_uri": "https://localhost:8080/",
     "height": 1000
    },
    "id": "XC9m0W-pFLBH",
    "outputId": "c765de50-71de-43aa-d567-4f548962019e",
    "scrolled": false
   },
   "outputs": [
    {
     "name": "stdout",
     "output_type": "stream",
     "text": [
      "2022-12-29 16:39:09.609410\n",
      "2022-12-29 16:39:09.609582\n",
      "splitting\n",
      "Fold 1\n",
      "Training example\n",
      "[ 95 123 235 ...   0   0   0]\n",
      "Train sizes (3917, 3997) (3917, 1)\n",
      "Valid sizes (1024, 3997) (1024, 1)\n",
      "Train set ones/size 1815 / 3917\n",
      "Valid set ones/size 485 / 1024\n",
      "BUILD MODEL\n",
      "COMPILE\n",
      "FIT\n",
      "2022-12-29 16:39:10.969309\n",
      "Epoch 1/5\n",
      "123/123 [==============================] - 2s 9ms/step - loss: 0.6906 - accuracy: 0.5336 - val_loss: 0.6903 - val_accuracy: 0.5264\n",
      "Epoch 2/5\n",
      "123/123 [==============================] - 1s 8ms/step - loss: 0.6865 - accuracy: 0.5366 - val_loss: 0.6848 - val_accuracy: 0.5586\n",
      "Epoch 3/5\n",
      "123/123 [==============================] - 1s 7ms/step - loss: 0.6811 - accuracy: 0.5632 - val_loss: 0.6788 - val_accuracy: 0.5781\n",
      "Epoch 4/5\n",
      "123/123 [==============================] - 1s 7ms/step - loss: 0.6714 - accuracy: 0.5839 - val_loss: 0.6737 - val_accuracy: 0.5977\n",
      "Epoch 5/5\n",
      "123/123 [==============================] - 1s 7ms/step - loss: 0.6624 - accuracy: 0.6012 - val_loss: 0.6727 - val_accuracy: 0.5957\n"
     ]
    },
    {
     "data": {
      "image/png": "[encoded data removed]",
      "text/plain": [
       "<Figure size 576x360 with 1 Axes>"
      ]
     },
     "metadata": {
      "needs_background": "light"
     },
     "output_type": "display_data"
    },
    {
     "name": "stdout",
     "output_type": "stream",
     "text": [
      "Compute valiation accuracy\n",
      "2022-12-29 16:39:16.456822\n",
      "Range of scores: 0.17847167 to 0.7828677\n",
      "Predicted zeros and ones 583 441\n",
      "Accuracy: 59.57% Precision: 58.05% Recall: 52.78% F1: 55.29%\n",
      "2022-12-29 16:39:16.692704\n",
      "Fold 2\n",
      "Training example\n",
      "[ 95 123 235 ...   0   0   0]\n",
      "Train sizes (3849, 3997) (3849, 1)\n",
      "Valid sizes (1092, 3997) (1092, 1)\n",
      "Train set ones/size 1787 / 3849\n",
      "Valid set ones/size 513 / 1092\n",
      "BUILD MODEL\n",
      "COMPILE\n",
      "FIT\n",
      "2022-12-29 16:39:17.877402\n",
      "Epoch 1/5\n",
      "121/121 [==============================] - 2s 9ms/step - loss: 0.6909 - accuracy: 0.5362 - val_loss: 0.6897 - val_accuracy: 0.5302\n",
      "Epoch 2/5\n",
      "121/121 [==============================] - 1s 7ms/step - loss: 0.6868 - accuracy: 0.5443 - val_loss: 0.6851 - val_accuracy: 0.5321\n",
      "Epoch 3/5\n",
      "121/121 [==============================] - 1s 8ms/step - loss: 0.6798 - accuracy: 0.5747 - val_loss: 0.6842 - val_accuracy: 0.5440\n",
      "Epoch 4/5\n",
      "121/121 [==============================] - 1s 7ms/step - loss: 0.6721 - accuracy: 0.5796 - val_loss: 0.6818 - val_accuracy: 0.5549\n",
      "Epoch 5/5\n",
      "121/121 [==============================] - 1s 7ms/step - loss: 0.6621 - accuracy: 0.6098 - val_loss: 0.6929 - val_accuracy: 0.5559\n"
     ]
    },
    {
     "data": {
      "image/png": "[encoded data removed]",
      "text/plain": [
       "<Figure size 576x360 with 1 Axes>"
      ]
     },
     "metadata": {
      "needs_background": "light"
     },
     "output_type": "display_data"
    },
    {
     "name": "stdout",
     "output_type": "stream",
     "text": [
      "Compute valiation accuracy\n",
      "2022-12-29 16:39:23.805677\n",
      "Range of scores: 0.09378984 to 0.7039687\n",
      "Predicted zeros and ones 930 162\n",
      "Accuracy: 55.59% Precision: 58.64% Recall: 18.52% F1: 28.15%\n",
      "2022-12-29 16:39:24.001280\n",
      "Fold 3\n",
      "Training example\n",
      "[ 95 123 235 ...   0   0   0]\n",
      "Train sizes (4004, 3997) (4004, 1)\n",
      "Valid sizes (937, 3997) (937, 1)\n",
      "Train set ones/size 1870 / 4004\n",
      "Valid set ones/size 430 / 937\n",
      "BUILD MODEL\n",
      "COMPILE\n",
      "FIT\n",
      "2022-12-29 16:39:25.179347\n",
      "Epoch 1/5\n",
      "126/126 [==============================] - 2s 9ms/step - loss: 0.6900 - accuracy: 0.5355 - val_loss: 0.6876 - val_accuracy: 0.5390\n",
      "Epoch 2/5\n",
      "126/126 [==============================] - 1s 7ms/step - loss: 0.6853 - accuracy: 0.5500 - val_loss: 0.6819 - val_accuracy: 0.5539\n",
      "Epoch 3/5\n",
      "126/126 [==============================] - 1s 7ms/step - loss: 0.6780 - accuracy: 0.5704 - val_loss: 0.6786 - val_accuracy: 0.5582\n",
      "Epoch 4/5\n",
      "126/126 [==============================] - 1s 7ms/step - loss: 0.6696 - accuracy: 0.5899 - val_loss: 0.6791 - val_accuracy: 0.5582\n",
      "Epoch 5/5\n",
      "126/126 [==============================] - 1s 7ms/step - loss: 0.6614 - accuracy: 0.6141 - val_loss: 0.6806 - val_accuracy: 0.5752\n"
     ]
    },
    {
     "data": {
      "image/png": "[encoded data removed]",
      "text/plain": [
       "<Figure size 576x360 with 1 Axes>"
      ]
     },
     "metadata": {
      "needs_background": "light"
     },
     "output_type": "display_data"
    },
    {
     "name": "stdout",
     "output_type": "stream",
     "text": [
      "Compute valiation accuracy\n",
      "2022-12-29 16:39:31.055481\n",
      "Range of scores: 0.1761965 to 0.793747\n",
      "Predicted zeros and ones 623 314\n",
      "Accuracy: 57.52% Precision: 55.10% Recall: 40.23% F1: 46.51%\n",
      "2022-12-29 16:39:31.304670\n",
      "Fold 4\n",
      "Training example\n",
      "[ 95 123 235 ...   0   0   0]\n",
      "Train sizes (3946, 3997) (3946, 1)\n",
      "Valid sizes (995, 3997) (995, 1)\n",
      "Train set ones/size 1875 / 3946\n",
      "Valid set ones/size 425 / 995\n",
      "BUILD MODEL\n",
      "COMPILE\n",
      "FIT\n",
      "2022-12-29 16:39:32.491803\n",
      "Epoch 1/5\n",
      "124/124 [==============================] - 2s 9ms/step - loss: 0.6916 - accuracy: 0.5193 - val_loss: 0.6843 - val_accuracy: 0.5739\n",
      "Epoch 2/5\n",
      "124/124 [==============================] - 1s 7ms/step - loss: 0.6854 - accuracy: 0.5428 - val_loss: 0.6844 - val_accuracy: 0.5397\n",
      "Epoch 3/5\n",
      "124/124 [==============================] - 1s 7ms/step - loss: 0.6773 - accuracy: 0.5730 - val_loss: 0.6818 - val_accuracy: 0.5628\n",
      "Epoch 4/5\n",
      "124/124 [==============================] - 1s 7ms/step - loss: 0.6706 - accuracy: 0.5960 - val_loss: 0.6727 - val_accuracy: 0.5930\n",
      "Epoch 5/5\n",
      "124/124 [==============================] - 1s 7ms/step - loss: 0.6630 - accuracy: 0.6082 - val_loss: 0.6698 - val_accuracy: 0.6010\n"
     ]
    },
    {
     "data": {
      "image/png": "[encoded data removed]",
      "text/plain": [
       "<Figure size 576x360 with 1 Axes>"
      ]
     },
     "metadata": {
      "needs_background": "light"
     },
     "output_type": "display_data"
    },
    {
     "name": "stdout",
     "output_type": "stream",
     "text": [
      "Compute valiation accuracy\n",
      "2022-12-29 16:39:37.965712\n",
      "Range of scores: 0.1535288 to 0.77506435\n",
      "Predicted zeros and ones 593 402\n",
      "Accuracy: 60.10% Precision: 53.48% Recall: 50.59% F1: 52.00%\n",
      "2022-12-29 16:39:38.212783\n",
      "Fold 5\n",
      "Training example\n",
      "[ 62 246 215 ...   0   0   0]\n",
      "Train sizes (4048, 3997) (4048, 1)\n",
      "Valid sizes (893, 3997) (893, 1)\n",
      "Train set ones/size 1853 / 4048\n",
      "Valid set ones/size 447 / 893\n",
      "BUILD MODEL\n",
      "COMPILE\n",
      "FIT\n",
      "2022-12-29 16:39:39.388976\n",
      "Epoch 1/5\n",
      "127/127 [==============================] - 2s 9ms/step - loss: 0.6893 - accuracy: 0.5422 - val_loss: 0.6972 - val_accuracy: 0.4994\n",
      "Epoch 2/5\n",
      "127/127 [==============================] - 1s 7ms/step - loss: 0.6849 - accuracy: 0.5477 - val_loss: 0.6890 - val_accuracy: 0.5677\n",
      "Epoch 3/5\n",
      "127/127 [==============================] - 1s 7ms/step - loss: 0.6813 - accuracy: 0.5618 - val_loss: 0.6899 - val_accuracy: 0.5622\n",
      "Epoch 4/5\n",
      "127/127 [==============================] - 1s 7ms/step - loss: 0.6764 - accuracy: 0.5677 - val_loss: 0.6762 - val_accuracy: 0.5857\n",
      "Epoch 5/5\n",
      "127/127 [==============================] - 1s 7ms/step - loss: 0.6715 - accuracy: 0.5842 - val_loss: 0.6734 - val_accuracy: 0.5946\n"
     ]
    },
    {
     "data": {
      "image/png": "[encoded data removed]",
      "text/plain": [
       "<Figure size 576x360 with 1 Axes>"
      ]
     },
     "metadata": {
      "needs_background": "light"
     },
     "output_type": "display_data"
    },
    {
     "name": "stdout",
     "output_type": "stream",
     "text": [
      "Compute valiation accuracy\n",
      "2022-12-29 16:39:44.983882\n",
      "Range of scores: 0.21230958 to 0.6339432\n",
      "Predicted zeros and ones 686 207\n",
      "Accuracy: 59.46% Precision: 70.53% Recall: 32.66% F1: 44.65%\n",
      "2022-12-29 16:39:45.173486\n",
      "\n",
      "Cross validation 5 folds 5 epochs\n",
      " accuracy mean 58.45% +/- 1.68\n",
      " precision mean 59.16% +/- 5.99\n",
      " recall mean 38.96% +/- 12.53\n",
      " F1 mean 45.32% +/- 9.39\n",
      "2022-12-29 16:39:45.176304\n"
     ]
    }
   ],
   "source": [
    "print(datetime.now())\n",
    "cvdo = CrossValidator(EPOCHS,FOLDS,BREAK)\n",
    "cv_accuracy, cv_precision, cv_recall, cv_f1 = cvdo.do_cross_validation()   \n",
    "print(\"Cross validation %d folds %d epochs\" % (FOLDS,EPOCHS)) \n",
    "print(\" accuracy mean %.2f%% +/- %.2f\" % (np.mean(cv_accuracy), np.std(cv_accuracy)))\n",
    "print(\" precision mean %.2f%% +/- %.2f\" % (np.mean(cv_precision), np.std(cv_precision)))\n",
    "print(\" recall mean %.2f%% +/- %.2f\" % (np.mean(cv_recall), np.std(cv_recall)))\n",
    "print(\" F1 mean %.2f%% +/- %.2f\" % (np.mean(cv_f1), np.std(cv_f1)))\n",
    "print(datetime.now())"
   ]
  },
  {
   "cell_type": "code",
   "execution_count": 273,
   "metadata": {
    "id": "thQspN3Nga5S"
   },
   "outputs": [],
   "source": []
  }
 ],
 "metadata": {
  "accelerator": "GPU",
  "colab": {
   "provenance": []
  },
  "gpuClass": "standard",
  "kernelspec": {
   "display_name": "Python 3 (ipykernel)",
   "language": "python",
   "name": "python3"
  },
  "language_info": {
   "codemirror_mode": {
    "name": "ipython",
    "version": 3
   },
   "file_extension": ".py",
   "mimetype": "text/x-python",
   "name": "python",
   "nbconvert_exporter": "python",
   "pygments_lexer": "ipython3",
   "version": "3.10.0"
  }
 },
 "nbformat": 4,
 "nbformat_minor": 1
}
