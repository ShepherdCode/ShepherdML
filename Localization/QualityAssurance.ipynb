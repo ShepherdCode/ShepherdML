{
 "cells": [
  {
   "cell_type": "markdown",
   "id": "6e9cefde",
   "metadata": {},
   "source": [
    "# Quality Assurance"
   ]
  },
  {
   "cell_type": "markdown",
   "id": "f0a02f55",
   "metadata": {},
   "source": [
    "## Q/A the FASTA to CSV process"
   ]
  },
  {
   "cell_type": "code",
   "execution_count": 2,
   "id": "298526cf",
   "metadata": {},
   "outputs": [],
   "source": [
    "def count_fasta(fn,coding):\n",
    "    if coding:\n",
    "        # Must parse defline carefully.\n",
    "        # Gotcha #1: transcript_biotype:protein_coding_LoF\n",
    "        # Gotcha #2: transcript_biotype:protein_coding\\n \n",
    "        signal = 'transcript_biotype:protein_coding'  \n",
    "    else:\n",
    "        signal = 'transcript_biotype:lncRNA'\n",
    "    with open (fn,'r') as fasta:\n",
    "        alive=False\n",
    "        valid_seqs=0\n",
    "        valid_letters=0\n",
    "        for line in fasta:\n",
    "            line = line.strip()\n",
    "            if line[0]=='>':\n",
    "                tokens = line.split()\n",
    "                if signal in tokens:\n",
    "                    alive = True\n",
    "                    valid_seqs += 1\n",
    "                else:\n",
    "                    alive = False\n",
    "            else:\n",
    "                if alive:\n",
    "                    valid_letters += len(line)\n",
    "    return(valid_seqs,valid_letters)"
   ]
  },
  {
   "cell_type": "code",
   "execution_count": 3,
   "id": "1bdfbf14",
   "metadata": {},
   "outputs": [],
   "source": [
    "def count_csv(fn,coding):\n",
    "    header = None\n",
    "    with open (fn,'r') as csv:\n",
    "        valid_seqs=0\n",
    "        valid_letters=0\n",
    "        for line in csv:\n",
    "            if header is None:\n",
    "                header = line\n",
    "            else:\n",
    "                valid_seqs += 1\n",
    "                line = line.strip()\n",
    "                fields=line.split(',')\n",
    "                # The CSV headers are:\n",
    "                # transcript_id,gene_id,biotype,length,sequence\n",
    "                sequence = fields[4]\n",
    "                valid_letters += len(sequence)\n",
    "    return(valid_seqs,valid_letters)"
   ]
  },
  {
   "cell_type": "markdown",
   "id": "a8c3e146",
   "metadata": {},
   "source": [
    "### Expect non-coding CSV == FASTA\n",
    "Number of lncRNA, and total nucleotides, should be the same."
   ]
  },
  {
   "cell_type": "code",
   "execution_count": 4,
   "id": "055e370d",
   "metadata": {},
   "outputs": [
    {
     "name": "stdout",
     "output_type": "stream",
     "text": [
      "FASTA 55625 71589477\n",
      "  CSV 55625 71589477\n"
     ]
    }
   ],
   "source": [
    "DATA_DIR = '/Users/jasonmiller/WVU/Localization/GenCode/'\n",
    "FASTA_FILENAME='Homo_sapiens.GRCh38.ncrna.fa'\n",
    "CSV_FILENAME='Homo_sapiens.GRCh38.ncrna.csv'\n",
    "num_seqs, num_letters = count_fasta(DATA_DIR+FASTA_FILENAME,False)\n",
    "print('FASTA', num_seqs, num_letters)\n",
    "num_seqs, num_letters = count_csv(DATA_DIR+CSV_FILENAME,False)\n",
    "print('  CSV', num_seqs, num_letters)"
   ]
  },
  {
   "cell_type": "markdown",
   "id": "4c78fac9",
   "metadata": {},
   "source": [
    "### Expect coding CSV == FASTA\n",
    "Number of mRNA, and total nucleotides, should be the same."
   ]
  },
  {
   "cell_type": "code",
   "execution_count": 5,
   "id": "b660e4b5",
   "metadata": {},
   "outputs": [
    {
     "name": "stdout",
     "output_type": "stream",
     "text": [
      "FASTA 98078 127885784\n",
      "  CSV 98078 127885784\n"
     ]
    }
   ],
   "source": [
    "DATA_DIR = '/Users/jasonmiller/WVU/Localization/GenCode/'\n",
    "FASTA_FILENAME='Homo_sapiens.GRCh38.cds.all.fa'\n",
    "CSV_FILENAME='Homo_sapiens.GRCh38.cds.csv'\n",
    "num_seqs, num_letters = count_fasta(DATA_DIR+FASTA_FILENAME,True)\n",
    "print('FASTA', num_seqs, num_letters)\n",
    "num_seqs, num_letters = count_csv(DATA_DIR+CSV_FILENAME,True)\n",
    "print('  CSV', num_seqs, num_letters)"
   ]
  },
  {
   "cell_type": "markdown",
   "id": "21b6184c",
   "metadata": {},
   "source": [
    "## Q/A the LncATLAS to CSV process"
   ]
  },
  {
   "cell_type": "code",
   "execution_count": 6,
   "id": "d8c60fb3",
   "metadata": {},
   "outputs": [],
   "source": [
    "DATA_DIR = '/Users/jasonmiller/WVU/Localization/LncAtlas/'\n",
    "ATLAS_FILE='lncATLAS_all_data_RCI.csv'"
   ]
  },
  {
   "cell_type": "code",
   "execution_count": 13,
   "id": "214dcb44",
   "metadata": {},
   "outputs": [],
   "source": [
    "def count_LncAtlas(fn):\n",
    "    header = None\n",
    "    coding_rci_per_gene = {}\n",
    "    noncoding_rci_per_gene = {}\n",
    "    with open (fn,'r') as csv:\n",
    "        for line in csv:\n",
    "            if header is None:\n",
    "                header = line\n",
    "            else:\n",
    "                # ENSEMBL ID,Data Source,Data Type,Value,Gene Name,Coding Type,Biotype\n",
    "                line=line.strip()\n",
    "                fields=line.split(',')\n",
    "                gene = fields[0]\n",
    "                measure = fields[2]\n",
    "                value = fields[3]\n",
    "                biotype = fields[6]\n",
    "                if measure=='CNRCI' and value != 'NA':\n",
    "                    if biotype == 'coding':\n",
    "                        if gene in coding_rci_per_gene:\n",
    "                            coding_rci_per_gene[gene] += 1\n",
    "                        else:\n",
    "                            coding_rci_per_gene[gene] = 1\n",
    "                    elif biotype == 'nc':\n",
    "                        if gene in noncoding_rci_per_gene:\n",
    "                            noncoding_rci_per_gene[gene] += 1\n",
    "                        else:\n",
    "                            noncoding_rci_per_gene[gene] = 1\n",
    "    return coding_rci_per_gene,noncoding_rci_per_gene"
   ]
  },
  {
   "cell_type": "code",
   "execution_count": 14,
   "id": "d5bb1514",
   "metadata": {},
   "outputs": [
    {
     "name": "stdout",
     "output_type": "stream",
     "text": [
      "17770 6768\n"
     ]
    }
   ],
   "source": [
    "coding,noncoding = count_LncAtlas(DATA_DIR+ATLAS_FILE)\n",
    "print(len(coding),len(noncoding))"
   ]
  },
  {
   "cell_type": "code",
   "execution_count": null,
   "id": "777424fe",
   "metadata": {},
   "outputs": [],
   "source": []
  }
 ],
 "metadata": {
  "kernelspec": {
   "display_name": "Python 3 (ipykernel)",
   "language": "python",
   "name": "python3"
  },
  "language_info": {
   "codemirror_mode": {
    "name": "ipython",
    "version": 3
   },
   "file_extension": ".py",
   "mimetype": "text/x-python",
   "name": "python",
   "nbconvert_exporter": "python",
   "pygments_lexer": "ipython3",
   "version": "3.10.0"
  }
 },
 "nbformat": 4,
 "nbformat_minor": 5
}
