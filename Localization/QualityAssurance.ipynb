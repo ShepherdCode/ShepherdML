{
 "cells": [
  {
   "cell_type": "markdown",
   "id": "36bc56ed",
   "metadata": {},
   "source": [
    "# Quality Assurance"
   ]
  },
  {
   "cell_type": "markdown",
   "id": "a00b43e0",
   "metadata": {},
   "source": [
    "## Q/A the FASTA to CSV process"
   ]
  },
  {
   "cell_type": "code",
   "execution_count": 1,
   "id": "7ee31664",
   "metadata": {},
   "outputs": [],
   "source": [
    "def count_fasta(fn,coding):\n",
    "    if coding:\n",
    "        # Must parse defline carefully.\n",
    "        # Gotcha #1: transcript_biotype:protein_coding_LoF\n",
    "        # Gotcha #2: transcript_biotype:protein_coding\\n \n",
    "        signal = 'transcript_biotype:protein_coding'  \n",
    "    else:\n",
    "        signal = 'transcript_biotype:lncRNA'\n",
    "    with open (fn,'r') as fasta:\n",
    "        alive=False\n",
    "        valid_seqs=0\n",
    "        valid_letters=0\n",
    "        for line in fasta:\n",
    "            line = line.strip()\n",
    "            if line[0]=='>':\n",
    "                tokens = line.split()\n",
    "                if signal in tokens:\n",
    "                    alive = True\n",
    "                    valid_seqs += 1\n",
    "                else:\n",
    "                    alive = False\n",
    "            else:\n",
    "                if alive:\n",
    "                    valid_letters += len(line)\n",
    "    return(valid_seqs,valid_letters)"
   ]
  },
  {
   "cell_type": "code",
   "execution_count": 2,
   "id": "6d84801f",
   "metadata": {},
   "outputs": [],
   "source": [
    "def count_csv(fn,coding):\n",
    "    header = None\n",
    "    with open (fn,'r') as csv:\n",
    "        valid_seqs=0\n",
    "        valid_letters=0\n",
    "        for line in csv:\n",
    "            if header is None:\n",
    "                header = line\n",
    "            else:\n",
    "                valid_seqs += 1\n",
    "                line = line.strip()\n",
    "                fields=line.split(',')\n",
    "                # The CSV headers are:\n",
    "                # transcript_id,gene_id,biotype,length,sequence\n",
    "                sequence = fields[4]\n",
    "                valid_letters += len(sequence)\n",
    "    return(valid_seqs,valid_letters)"
   ]
  },
  {
   "cell_type": "markdown",
   "id": "09f4168b",
   "metadata": {},
   "source": [
    "### Expect non-coding CSV == FASTA\n",
    "Number of lncRNA, and total nucleotides, should be the same."
   ]
  },
  {
   "cell_type": "code",
   "execution_count": 3,
   "id": "1cabcb19",
   "metadata": {},
   "outputs": [
    {
     "name": "stdout",
     "output_type": "stream",
     "text": [
      "FASTA 55625 71589477\n",
      "  CSV 55625 71589477\n",
      "same!\n"
     ]
    }
   ],
   "source": [
    "DATA_DIR = '/Users/jasonmiller/WVU/Localization/GenCode/'\n",
    "FASTA_FILENAME='Homo_sapiens.GRCh38.ncrna.fa'\n",
    "CSV_FILENAME='Homo_sapiens.GRCh38.ncrna.csv'\n",
    "num_seqs1, num_letters1 = count_fasta(DATA_DIR+FASTA_FILENAME,False)\n",
    "print('FASTA', num_seqs1, num_letters1)\n",
    "num_seqs2, num_letters2 = count_csv(DATA_DIR+CSV_FILENAME,False)\n",
    "print('  CSV', num_seqs2, num_letters2)\n",
    "if num_seqs1==num_seqs2 and num_letters1==num_letters2:\n",
    "    print(\"same!\")"
   ]
  },
  {
   "cell_type": "markdown",
   "id": "37e38476",
   "metadata": {},
   "source": [
    "### Expect coding CSV == FASTA\n",
    "Number of mRNA, and total nucleotides, should be the same."
   ]
  },
  {
   "cell_type": "code",
   "execution_count": 4,
   "id": "1dc07574",
   "metadata": {},
   "outputs": [
    {
     "name": "stdout",
     "output_type": "stream",
     "text": [
      "FASTA 98078 127885784\n",
      "  CSV 98078 127885784\n",
      "same!\n"
     ]
    }
   ],
   "source": [
    "DATA_DIR = '/Users/jasonmiller/WVU/Localization/GenCode/'\n",
    "FASTA_FILENAME='Homo_sapiens.GRCh38.cds.all.fa'\n",
    "CSV_FILENAME='Homo_sapiens.GRCh38.cds.csv'\n",
    "num_seqs1, num_letters1 = count_fasta(DATA_DIR+FASTA_FILENAME,True)\n",
    "print('FASTA', num_seqs1, num_letters1)\n",
    "num_seqs2, num_letters2 = count_csv(DATA_DIR+CSV_FILENAME,True)\n",
    "print('  CSV', num_seqs2, num_letters2)\n",
    "if num_seqs1==num_seqs2 and num_letters1==num_letters2:\n",
    "    print(\"same!\")"
   ]
  },
  {
   "cell_type": "markdown",
   "id": "6ed1f65e",
   "metadata": {},
   "source": [
    "## Q/A the LncATLAS to CSV process"
   ]
  },
  {
   "cell_type": "code",
   "execution_count": 5,
   "id": "7b26be4b",
   "metadata": {},
   "outputs": [],
   "source": [
    "DATA_DIR = '/Users/jasonmiller/WVU/Localization/LncAtlas/'\n",
    "ATLAS_FILE='lncATLAS_all_data_RCI.csv'\n",
    "CODING_TEST=DATA_DIR+'CNRCI_coding_test_genes.csv'\n",
    "CODING_TRAIN=DATA_DIR+'CNRCI_coding_train_genes.csv'\n",
    "NONCODING_TEST=DATA_DIR+'CNRCI_noncoding_test_genes.csv'\n",
    "NONCODING_TRAIN=DATA_DIR+'CNRCI_noncoding_train_genes.csv'"
   ]
  },
  {
   "cell_type": "code",
   "execution_count": 6,
   "id": "398a3381",
   "metadata": {},
   "outputs": [],
   "source": [
    "def count_data(file):\n",
    "    with open (file,'r') as csv:\n",
    "        count = -1   # don't include csv header line\n",
    "        for line in csv:\n",
    "            count += 1\n",
    "    return count"
   ]
  },
  {
   "cell_type": "code",
   "execution_count": 7,
   "id": "58fd3e5b",
   "metadata": {},
   "outputs": [],
   "source": [
    "def count_LncAtlas(fn):\n",
    "    header = None\n",
    "    coding_rci_per_gene = {}\n",
    "    noncoding_rci_per_gene = {}\n",
    "    with open (fn,'r') as csv:\n",
    "        for line in csv:\n",
    "            if header is None:\n",
    "                header = line\n",
    "            else:\n",
    "                # ENSEMBL ID,Data Source,Data Type,Value,Gene Name,Coding Type,Biotype\n",
    "                line=line.strip()\n",
    "                fields=line.split(',')\n",
    "                gene = fields[0]\n",
    "                measure = fields[2]\n",
    "                value = fields[3]\n",
    "                biotype = fields[6]\n",
    "                if measure=='CNRCI' and value != 'NA':\n",
    "                    if biotype == 'coding':\n",
    "                        if gene in coding_rci_per_gene:\n",
    "                            coding_rci_per_gene[gene] += 1\n",
    "                        else:\n",
    "                            coding_rci_per_gene[gene] = 1\n",
    "                    elif biotype == 'nc':\n",
    "                        if gene in noncoding_rci_per_gene:\n",
    "                            noncoding_rci_per_gene[gene] += 1\n",
    "                        else:\n",
    "                            noncoding_rci_per_gene[gene] = 1\n",
    "    return coding_rci_per_gene,noncoding_rci_per_gene"
   ]
  },
  {
   "cell_type": "code",
   "execution_count": 8,
   "id": "dc495900",
   "metadata": {},
   "outputs": [
    {
     "name": "stdout",
     "output_type": "stream",
     "text": [
      "ATLAS genes 17770 6768\n"
     ]
    }
   ],
   "source": [
    "coding_map,noncoding_map = count_LncAtlas(DATA_DIR+ATLAS_FILE)\n",
    "coding_genes = len(coding_map)\n",
    "noncoding_genes = len(noncoding_map)\n",
    "print('ATLAS genes',coding_genes,noncoding_genes)\n",
    "# to do: count RCI values"
   ]
  },
  {
   "cell_type": "code",
   "execution_count": 9,
   "id": "34236995",
   "metadata": {},
   "outputs": [
    {
     "name": "stdout",
     "output_type": "stream",
     "text": [
      "CODING test train: 3554 14216\n",
      "same total\n",
      "NONCODING test train: 1353 5415\n",
      "same total\n"
     ]
    }
   ],
   "source": [
    "coding_test_genes = count_data(CODING_TEST)\n",
    "coding_train_genes = count_data(CODING_TRAIN)\n",
    "print('CODING test train:',coding_test_genes,coding_train_genes)\n",
    "if coding_test_genes+coding_train_genes == coding_genes:\n",
    "    print(\"same total\")\n",
    "noncoding_test_genes = count_data(NONCODING_TEST)\n",
    "noncoding_train_genes = count_data(NONCODING_TRAIN)\n",
    "print('NONCODING test train:',noncoding_test_genes,noncoding_train_genes)\n",
    "if noncoding_test_genes+noncoding_train_genes == noncoding_genes:\n",
    "    print(\"same total\")"
   ]
  },
  {
   "cell_type": "code",
   "execution_count": null,
   "id": "eda45113",
   "metadata": {},
   "outputs": [],
   "source": []
  }
 ],
 "metadata": {
  "kernelspec": {
   "display_name": "Python 3 (ipykernel)",
   "language": "python",
   "name": "python3"
  },
  "language_info": {
   "codemirror_mode": {
    "name": "ipython",
    "version": 3
   },
   "file_extension": ".py",
   "mimetype": "text/x-python",
   "name": "python",
   "nbconvert_exporter": "python",
   "pygments_lexer": "ipython3",
   "version": "3.10.0"
  }
 },
 "nbformat": 4,
 "nbformat_minor": 5
}
