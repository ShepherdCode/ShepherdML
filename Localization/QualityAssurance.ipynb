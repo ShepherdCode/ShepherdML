{
 "cells": [
  {
   "cell_type": "markdown",
   "id": "f3380fdb",
   "metadata": {},
   "source": [
    "# Q/A"
   ]
  },
  {
   "cell_type": "code",
   "execution_count": 1,
   "id": "f4e63fb2",
   "metadata": {},
   "outputs": [],
   "source": [
    "DATA_DIR = '/Users/jasonmiller/WVU/Localization/GenCode/'"
   ]
  },
  {
   "cell_type": "code",
   "execution_count": 23,
   "id": "33ed6196",
   "metadata": {},
   "outputs": [],
   "source": [
    "def count_fasta(fn,coding):\n",
    "    if coding:\n",
    "        signal = 'transcript_biotype:protein_coding'\n",
    "    else:\n",
    "        signal = 'transcript_biotype:lncRNA'\n",
    "    with open (fn,'r') as fasta:\n",
    "        alive=False\n",
    "        valid_seqs=0\n",
    "        valid_letters=0\n",
    "        for line in fasta:\n",
    "            if line[0]=='>':\n",
    "                if signal in line:\n",
    "                    alive = True\n",
    "                    valid_seqs += 1\n",
    "                else:\n",
    "                    alive = False\n",
    "            else:\n",
    "                if alive:\n",
    "                    line = line.strip()\n",
    "                    valid_letters += len(line)\n",
    "    return(valid_seqs,valid_letters)"
   ]
  },
  {
   "cell_type": "code",
   "execution_count": 24,
   "id": "ae10c955",
   "metadata": {},
   "outputs": [],
   "source": [
    "def count_csv(fn,coding):\n",
    "    header = None\n",
    "    with open (fn,'r') as csv:\n",
    "        valid_seqs=0\n",
    "        valid_letters=0\n",
    "        for line in csv:\n",
    "            if header is None:\n",
    "                header = line\n",
    "            else:\n",
    "                valid_seqs += 1\n",
    "                line = line.strip()\n",
    "                fields=line.split(',')\n",
    "                sequence = fields[4]\n",
    "                valid_letters += len(sequence)\n",
    "    return(valid_seqs,valid_letters)"
   ]
  },
  {
   "cell_type": "markdown",
   "id": "bed60bed",
   "metadata": {},
   "source": [
    "## Expect non-coding CSV == FASTA\n",
    "Number of lncRNA, and total nucleotides, should be the same."
   ]
  },
  {
   "cell_type": "code",
   "execution_count": 27,
   "id": "4f6952fc",
   "metadata": {},
   "outputs": [
    {
     "name": "stdout",
     "output_type": "stream",
     "text": [
      "FASTA 55625 71589477\n",
      "  CSV 55625 71589477\n"
     ]
    }
   ],
   "source": [
    "FASTA_FILENAME='Homo_sapiens.GRCh38.ncrna.fa'\n",
    "CSV_FILENAME='Homo_sapiens.GRCh38.ncrna.csv'\n",
    "num_seqs, num_letters = count_fasta(DATA_DIR+FASTA_FILENAME,False)\n",
    "print('FASTA', num_seqs, num_letters)\n",
    "num_seqs, num_letters = count_csv(DATA_DIR+CSV_FILENAME,False)\n",
    "print('  CSV', num_seqs, num_letters)"
   ]
  },
  {
   "cell_type": "markdown",
   "id": "d93f0cb5",
   "metadata": {},
   "source": [
    "## Expect coding CSV == FASTA\n",
    "Number of mRNA, and total nucleotides, should be the same."
   ]
  },
  {
   "cell_type": "code",
   "execution_count": 28,
   "id": "ac487583",
   "metadata": {},
   "outputs": [
    {
     "name": "stdout",
     "output_type": "stream",
     "text": [
      "FASTA 98190 128054784\n",
      "  CSV 98078 127885784\n"
     ]
    }
   ],
   "source": [
    "FASTA_FILENAME='Homo_sapiens.GRCh38.cds.all.fa'\n",
    "CSV_FILENAME='Homo_sapiens.GRCh38.cds.csv'\n",
    "num_seqs, num_letters = count_fasta(DATA_DIR+FASTA_FILENAME,True)\n",
    "print('FASTA', num_seqs, num_letters)\n",
    "num_seqs, num_letters = count_csv(DATA_DIR+CSV_FILENAME,True)\n",
    "print('  CSV', num_seqs, num_letters)"
   ]
  },
  {
   "cell_type": "code",
   "execution_count": null,
   "id": "e2a78a93",
   "metadata": {},
   "outputs": [],
   "source": []
  }
 ],
 "metadata": {
  "kernelspec": {
   "display_name": "Python 3 (ipykernel)",
   "language": "python",
   "name": "python3"
  },
  "language_info": {
   "codemirror_mode": {
    "name": "ipython",
    "version": 3
   },
   "file_extension": ".py",
   "mimetype": "text/x-python",
   "name": "python",
   "nbconvert_exporter": "python",
   "pygments_lexer": "ipython3",
   "version": "3.10.0"
  }
 },
 "nbformat": 4,
 "nbformat_minor": 5
}
