{
 "cells": [
  {
   "cell_type": "code",
   "execution_count": 1,
   "id": "f8f66182",
   "metadata": {},
   "outputs": [],
   "source": [
    "import csv\n",
    "import numpy as np"
   ]
  },
  {
   "cell_type": "code",
   "execution_count": 2,
   "id": "6df37d71",
   "metadata": {},
   "outputs": [],
   "source": [
    "GENCODE_GFF_FILE = \\\n",
    "'/Users/jasonmiller/WVU/Localization/GenCode/'+\\\n",
    "'gencode.v42.lncRNA_transcripts.csv'"
   ]
  },
  {
   "cell_type": "code",
   "execution_count": 4,
   "id": "1e241be2",
   "metadata": {},
   "outputs": [
    {
     "name": "stdout",
     "output_type": "stream",
     "text": [
      "Transcript IDs: 29102\n"
     ]
    }
   ],
   "source": [
    "tid_to_gid={}\n",
    "with open (GENCODE_GFF_FILE,'r') as infile:\n",
    "    header = next(infile)\n",
    "    for row in infile:\n",
    "        trunc = row[:100]\n",
    "        fields = trunc.split(',')\n",
    "        versioned = fields[0]\n",
    "        tid = versioned.split('.')[0]\n",
    "        gid = fields[1]\n",
    "        tid_to_gid[tid]=gid\n",
    "print('Transcript IDs:',len(tid_to_gid.keys()))"
   ]
  },
  {
   "cell_type": "code",
   "execution_count": 5,
   "id": "130f1142",
   "metadata": {},
   "outputs": [],
   "source": [
    "GUDENAS_FILE = \\\n",
    "'/Users/jasonmiller/WVU/Localization/Gudenas/'+\\\n",
    "'Gudenas.Supplement.Data1.csv'"
   ]
  },
  {
   "cell_type": "code",
   "execution_count": 7,
   "id": "f204be4d",
   "metadata": {},
   "outputs": [
    {
     "name": "stdout",
     "output_type": "stream",
     "text": [
      "Genes with any fold change: 3291\n"
     ]
    }
   ],
   "source": [
    "fold_changes={}\n",
    "with open (GUDENAS_FILE,'r') as infile:\n",
    "    reader = csv.reader(infile)\n",
    "    header = next(reader)\n",
    "    for row in reader:\n",
    "        tid = row[0]\n",
    "        lfc = row[1]\n",
    "        if tid in tid_to_gid:\n",
    "            gid = tid_to_gid[tid]\n",
    "            if gid in fold_changes:\n",
    "                fold_changes[gid].append(lfc)\n",
    "            else:\n",
    "                fold_changes[gid] = [lfc]\n",
    "print('Genes with any fold change:',len(fold_changes))"
   ]
  },
  {
   "cell_type": "code",
   "execution_count": 14,
   "id": "cc7a635e",
   "metadata": {},
   "outputs": [
    {
     "name": "stdout",
     "output_type": "stream",
     "text": [
      "mean mean 0.3660335561591466\n",
      "mean std 1.2002282289324067\n",
      "max std 5.2038092405\n",
      "min std 0.002719465500000018\n"
     ]
    }
   ],
   "source": [
    "singletons = 0\n",
    "replicates = 0\n",
    "all_means = []\n",
    "all_std = []\n",
    "for gid in fold_changes:\n",
    "    list_lfc = fold_changes[gid]\n",
    "    if len(list_lfc)==0:\n",
    "        print('Uh oh. No fold changes for gene',gid)\n",
    "    elif len(list_lfc)==1:\n",
    "        singletons += 1\n",
    "    else:\n",
    "        #print(gid,list_lfc)\n",
    "        np_lfc = np.asarray(list_lfc,dtype='float')\n",
    "        the_mean = np.mean(np_lfc)\n",
    "        the_std = np.std(np_lfc)\n",
    "        all_means.append(the_mean)\n",
    "        all_std.append(the_std)\n",
    "        #print(gid,the_mean,the_std)\n",
    "print('mean mean', np.mean(all_means))\n",
    "print('mean std', np.mean(all_std))\n",
    "print('max std', np.max(all_std))\n",
    "print('min std', np.min(all_std))"
   ]
  },
  {
   "cell_type": "code",
   "execution_count": null,
   "id": "8b483373",
   "metadata": {},
   "outputs": [],
   "source": []
  }
 ],
 "metadata": {
  "kernelspec": {
   "display_name": "Python 3 (ipykernel)",
   "language": "python",
   "name": "python3"
  },
  "language_info": {
   "codemirror_mode": {
    "name": "ipython",
    "version": 3
   },
   "file_extension": ".py",
   "mimetype": "text/x-python",
   "name": "python",
   "nbconvert_exporter": "python",
   "pygments_lexer": "ipython3",
   "version": "3.10.0"
  }
 },
 "nbformat": 4,
 "nbformat_minor": 5
}
