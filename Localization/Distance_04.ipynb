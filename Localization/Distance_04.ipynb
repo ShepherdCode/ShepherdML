{
 "cells": [
  {
   "cell_type": "markdown",
   "id": "4bbde4b0",
   "metadata": {},
   "source": [
    "# Distance\n",
    "All-vs-all at K=2 (which should be the fastest to compute)."
   ]
  },
  {
   "cell_type": "code",
   "execution_count": 10,
   "id": "cd42e135",
   "metadata": {},
   "outputs": [
    {
     "name": "stdout",
     "output_type": "stream",
     "text": [
      "2022-10-25 15:16:56.214988\n",
      "Python 3.10.6\n",
      "sklearn 1.1.2\n"
     ]
    }
   ],
   "source": [
    "from datetime import datetime\n",
    "print(datetime.now())\n",
    "from platform import python_version\n",
    "print('Python',python_version())\n",
    "import numpy as np\n",
    "import pandas as pd\n",
    "from matplotlib import pyplot as plt \n",
    "import sklearn   # pip install --upgrade scikit-learn\n",
    "print('sklearn',sklearn.__version__)"
   ]
  },
  {
   "cell_type": "code",
   "execution_count": 30,
   "id": "1d5eea09",
   "metadata": {},
   "outputs": [],
   "source": [
    "ATLAS_DIR = 'D:/Adjeroh/Localization/LncAtlas/'\n",
    "RCI_FILE = 'CNRCI_coding_train_genes.csv'\n",
    "GENCODE_DIR = 'D:/Adjeroh/Localization/GenCode/'\n",
    "COUNTS_FILE='CNRCI_coding_train_counts.K2.2byte.csv'"
   ]
  },
  {
   "cell_type": "code",
   "execution_count": 31,
   "id": "ae033111",
   "metadata": {},
   "outputs": [],
   "source": [
    "def load_rci(filepath,cell_line_index):\n",
    "    header = None\n",
    "    data = {}\n",
    "    with open (filepath,'r') as handle:\n",
    "        for row in handle:\n",
    "            if header is None:\n",
    "                header = row\n",
    "            else:\n",
    "                fields = row.split(',')\n",
    "                gene_id = fields[0]           # gene id (without version) is in column 0\n",
    "                value = float(fields[1+cell_line_index])  # cell line 0 is in column 1\n",
    "                data[gene_id]=value\n",
    "    return(data)\n",
    "gene_rci = load_rci(ATLAS_DIR+RCI_FILE,0)\n"
   ]
  },
  {
   "cell_type": "code",
   "execution_count": 33,
   "id": "9b9432d9",
   "metadata": {},
   "outputs": [],
   "source": [
    "def distance(a,b):\n",
    "    # This works because the Euclidean distance is the l2 norm, and the default value of the ord parameter in numpy.linalg.norm is 2. \n",
    "    # https://stackoverflow.com/questions/1401712/how-can-the-euclidean-distance-be-calculated-with-numpy\n",
    "    return np.linalg.norm(a-b)"
   ]
  },
  {
   "cell_type": "code",
   "execution_count": 38,
   "id": "fe7f745f",
   "metadata": {},
   "outputs": [
    {
     "name": "stdout",
     "output_type": "stream",
     "text": [
      "Total counts loaded = 1069\n"
     ]
    }
   ],
   "source": [
    "def load_counts(filepath,min_rci,max_rci,gene_rci):\n",
    "    header = None\n",
    "    data = []\n",
    "    with open (filepath,'r') as handle:\n",
    "        for row in handle:\n",
    "            row = row.strip()\n",
    "            if header is None:\n",
    "                header = row\n",
    "            else:\n",
    "                fields = row.split(',')\n",
    "                gene_id = fields.pop(0)\n",
    "                transcript_id = fields.pop(0)\n",
    "                if gene_id in gene_rci.keys():\n",
    "                    rci = gene_rci[gene_id]\n",
    "                    if rci != float('nan'):\n",
    "                        if min_rci is None or rci>min_rci:\n",
    "                            if max_rci is None or rci<=max_rci:\n",
    "                                vector = np.asarray(fields,dtype=np.int16)\n",
    "                                triple = (gene_id,transcript_id,vector)\n",
    "                                data.append(triple)\n",
    "    return(data)\n",
    "data = load_counts(GENCODE_DIR+COUNTS_FILE,2,None,gene_rci)\n",
    "total = len(data)\n",
    "print('Total counts loaded =', total)"
   ]
  },
  {
   "cell_type": "code",
   "execution_count": 39,
   "id": "d55dcb09",
   "metadata": {},
   "outputs": [
    {
     "name": "stdout",
     "output_type": "stream",
     "text": [
      "1142761\n"
     ]
    }
   ],
   "source": [
    "print(total*total)"
   ]
  },
  {
   "cell_type": "code",
   "execution_count": 40,
   "id": "90e4c9f2",
   "metadata": {},
   "outputs": [
    {
     "name": "stdout",
     "output_type": "stream",
     "text": [
      "Vector length =  16\n",
      "2022-10-25 15:37:22.376477\n",
      "999 2022-10-25 15:37:26.234927\n",
      "done\n",
      "2022-10-25 15:37:26.508205\n"
     ]
    }
   ],
   "source": [
    "# Compute\n",
    "# Don't save yet\n",
    "# Just seeing how much time it takes\n",
    "left_index = 0\n",
    "left_vector = data[left_index][2]\n",
    "print('Vector length = ',len(left_vector))\n",
    "print(datetime.now())\n",
    "tick = 0\n",
    "tock = 1000\n",
    "values=[]\n",
    "for left_index in range(total):\n",
    "    left_vector = data[left_index][2]\n",
    "    for right_index in range(total):\n",
    "        right_vector = data[right_index][2]\n",
    "        dist = distance(left_vector, right_vector)\n",
    "        values.append(dist)\n",
    "    tick += 1\n",
    "    if tick==tock:\n",
    "        tick=0\n",
    "        print(left_index,datetime.now())\n",
    "print('done')\n",
    "print(datetime.now())"
   ]
  },
  {
   "cell_type": "code",
   "execution_count": 44,
   "id": "5c2ce5b6",
   "metadata": {},
   "outputs": [
    {
     "name": "stdout",
     "output_type": "stream",
     "text": [
      "mean 130.5098460377706\n",
      "stdev 172.6066773156202\n"
     ]
    }
   ],
   "source": [
    "ary = np.asarray(values,dtype=np.float16)\n",
    "print('mean',  np.mean(ary,dtype=np.float64))\n",
    "print('stdev', np.std(ary,dtype=np.float64))"
   ]
  },
  {
   "cell_type": "markdown",
   "id": "46c1c009",
   "metadata": {},
   "source": [
    "Times for all vs all:\n",
    "\n",
    "Vector length =  16  \n",
    "2022-10-25 14:27:11.502706  \n",
    "999 2022-10-25 14:28:15.763160  \n",
    "1999 2022-10-25 14:29:20.491432  \n",
    "2999 2022-10-25 14:30:25.117940  \n",
    "3999 2022-10-25 14:31:31.273742  \n",
    "4999 2022-10-25 14:32:41.525587  \n",
    "5999 2022-10-25 14:33:52.231153  \n",
    "6999 2022-10-25 14:35:02.161528  \n",
    "7999 2022-10-25 14:36:12.259136  \n",
    "8999 2022-10-25 14:37:22.127670  \n",
    "9999 2022-10-25 14:38:32.026037  \n",
    "10999 2022-10-25 14:39:41.712526  \n",
    "11999 2022-10-25 14:40:50.733244  \n",
    "12999 2022-10-25 14:42:00.245487  \n",
    "13999 2022-10-25 14:43:10.268282  \n",
    "14999 2022-10-25 14:44:21.594595  \n",
    "15999 2022-10-25 14:45:31.889860  \n",
    "16999 2022-10-25 14:46:42.125385  \n",
    "17999 2022-10-25 14:47:51.963612  \n",
    "2022-10-25 14:48:21.804961  \n"
   ]
  },
  {
   "cell_type": "code",
   "execution_count": null,
   "id": "0a35c948",
   "metadata": {},
   "outputs": [],
   "source": []
  }
 ],
 "metadata": {
  "kernelspec": {
   "display_name": "Python 3 (ipykernel)",
   "language": "python",
   "name": "python3"
  },
  "language_info": {
   "codemirror_mode": {
    "name": "ipython",
    "version": 3
   },
   "file_extension": ".py",
   "mimetype": "text/x-python",
   "name": "python",
   "nbconvert_exporter": "python",
   "pygments_lexer": "ipython3",
   "version": "3.10.6"
  }
 },
 "nbformat": 4,
 "nbformat_minor": 5
}
