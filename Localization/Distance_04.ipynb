{
 "cells": [
  {
   "cell_type": "markdown",
   "id": "4bbde4b0",
   "metadata": {},
   "source": [
    "# Distance\n",
    "All-vs-all at K=2 (which should be the fastest to compute)."
   ]
  },
  {
   "cell_type": "code",
   "execution_count": 1,
   "id": "cd42e135",
   "metadata": {},
   "outputs": [
    {
     "name": "stdout",
     "output_type": "stream",
     "text": [
      "2022-10-25 14:02:56.865504\n",
      "Python 3.10.6\n",
      "sklearn 1.1.2\n"
     ]
    }
   ],
   "source": [
    "from datetime import datetime\n",
    "print(datetime.now())\n",
    "from platform import python_version\n",
    "print('Python',python_version())\n",
    "import numpy as np\n",
    "import pandas as pd\n",
    "from matplotlib import pyplot as plt \n",
    "import sklearn   # pip install --upgrade scikit-learn\n",
    "print('sklearn',sklearn.__version__)"
   ]
  },
  {
   "cell_type": "code",
   "execution_count": 2,
   "id": "1d5eea09",
   "metadata": {},
   "outputs": [],
   "source": [
    "GENCODE_DIR = 'D:/Adjeroh/Localization/GenCode/'\n",
    "COUNTS_FILE='CNRCI_noncoding_train_counts.K2.2byte.csv'"
   ]
  },
  {
   "cell_type": "code",
   "execution_count": 3,
   "id": "9b9432d9",
   "metadata": {},
   "outputs": [],
   "source": [
    "def distance(a,b):\n",
    "    # This works because the Euclidean distance is the l2 norm, and the default value of the ord parameter in numpy.linalg.norm is 2. \n",
    "    # https://stackoverflow.com/questions/1401712/how-can-the-euclidean-distance-be-calculated-with-numpy\n",
    "    return np.linalg.norm(a-b)"
   ]
  },
  {
   "cell_type": "code",
   "execution_count": 11,
   "id": "0dc00232",
   "metadata": {},
   "outputs": [
    {
     "name": "stdout",
     "output_type": "stream",
     "text": [
      "Total counts loaded = 18430\n"
     ]
    }
   ],
   "source": [
    "def load_counts(filepath):\n",
    "    header = None\n",
    "    data = []\n",
    "    with open (filepath,'r') as handle:\n",
    "        for row in handle:\n",
    "            row = row.strip()\n",
    "            if header is None:\n",
    "                header = row\n",
    "            else:\n",
    "                fields = row.split(',')\n",
    "                gene_id = fields.pop(0)\n",
    "                transcript_id = fields.pop(0)\n",
    "                vector = np.asarray(fields,dtype=np.int16)\n",
    "                triple = (gene_id,transcript_id,vector)\n",
    "                data.append(triple)\n",
    "    return(data)\n",
    "data = load_counts(GENCODE_DIR+COUNTS_FILE)\n",
    "total = len(data)\n",
    "print('Total counts loaded =', total)"
   ]
  },
  {
   "cell_type": "code",
   "execution_count": 12,
   "id": "d55dcb09",
   "metadata": {},
   "outputs": [
    {
     "name": "stdout",
     "output_type": "stream",
     "text": [
      "339664900\n"
     ]
    }
   ],
   "source": [
    "print(total*total)"
   ]
  },
  {
   "cell_type": "code",
   "execution_count": null,
   "id": "90e4c9f2",
   "metadata": {},
   "outputs": [
    {
     "name": "stdout",
     "output_type": "stream",
     "text": [
      "Vector length =  16\n",
      "2022-10-25 14:08:25.969229\n"
     ]
    }
   ],
   "source": [
    "left_index = 0\n",
    "left_vector = data[left_index][2]\n",
    "print('Vector length = ',len(left_vector))\n",
    "print(datetime.now())\n",
    "tick = 0\n",
    "tock = 1000\n",
    "for left_index in range(total):\n",
    "    left_vector = data[left_index][2]\n",
    "    for right_index in range(total):\n",
    "        right_vector = data[right_index][2]\n",
    "        dist = distance(left_vector, right_vector)\n",
    "    tick += 1\n",
    "    if tick==tock:\n",
    "        tick=0\n",
    "        print('.',end='')\n",
    "print()\n",
    "print(datetime.now())\n",
    "    \n"
   ]
  },
  {
   "cell_type": "code",
   "execution_count": null,
   "id": "2608bd88",
   "metadata": {},
   "outputs": [],
   "source": []
  }
 ],
 "metadata": {
  "kernelspec": {
   "display_name": "Python 3 (ipykernel)",
   "language": "python",
   "name": "python3"
  },
  "language_info": {
   "codemirror_mode": {
    "name": "ipython",
    "version": 3
   },
   "file_extension": ".py",
   "mimetype": "text/x-python",
   "name": "python",
   "nbconvert_exporter": "python",
   "pygments_lexer": "ipython3",
   "version": "3.10.6"
  }
 },
 "nbformat": 4,
 "nbformat_minor": 5
}
