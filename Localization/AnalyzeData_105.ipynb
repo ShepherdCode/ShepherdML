{
 "cells": [
  {
   "cell_type": "markdown",
   "id": "b885a27a",
   "metadata": {},
   "source": [
    "# Analyze RCI correlations between cell lines\n",
    "Here we compute the correlations after removing the two outlier cell lines in GenCode 43 data."
   ]
  },
  {
   "cell_type": "code",
   "execution_count": 1,
   "id": "ffef6902",
   "metadata": {},
   "outputs": [
    {
     "name": "stdout",
     "output_type": "stream",
     "text": [
      "2023-03-04 09:43:50.456512\n",
      "Python 3.10.0\n",
      "sklearn 1.1.2\n"
     ]
    }
   ],
   "source": [
    "from datetime import datetime\n",
    "print(datetime.now())\n",
    "from platform import python_version\n",
    "print('Python',python_version())\n",
    "import numpy as np\n",
    "import pandas as pd\n",
    "import scipy.stats as ss\n",
    "from matplotlib import pyplot as plt \n",
    "import sklearn   # pip install --upgrade scikit-learn\n",
    "print('sklearn',sklearn.__version__)"
   ]
  },
  {
   "cell_type": "code",
   "execution_count": 2,
   "id": "a247893c",
   "metadata": {},
   "outputs": [
    {
     "name": "stdout",
     "output_type": "stream",
     "text": [
      "/Users/jasonmiller/WVU/Localization/TrainTest/TrainTest_ver43/\n"
     ]
    }
   ],
   "source": [
    "try:\n",
    "    from google.colab import drive\n",
    "    IN_COLAB = True\n",
    "    print('Running on CoLab')\n",
    "    PATH='/content/drive/'\n",
    "    drive.mount(PATH)\n",
    "    DATA_DIR=PATH+'My Drive/data/Localization/TrainTest/'  # must end in \"/\"\n",
    "except:\n",
    "    IN_COLAB = False\n",
    "    DATA_DIR = 'D:/Adjeroh/Localization/TrainTest/'   # Windows\n",
    "    DATA_DIR = '/Users/jasonmiller/WVU/Localization/TrainTest/TrainTest_ver43/'    # Mac\n",
    "print(DATA_DIR)"
   ]
  },
  {
   "cell_type": "code",
   "execution_count": 3,
   "id": "8edc623b",
   "metadata": {},
   "outputs": [],
   "source": [
    "PC_RCI_FILE =      'train.pc_RCI.csv'\n",
    "NC_RCI_FILE =      'train.lncRNA_RCI.csv'"
   ]
  },
  {
   "cell_type": "markdown",
   "id": "56b9df8b",
   "metadata": {},
   "source": [
    "## CNRCI values per gene"
   ]
  },
  {
   "cell_type": "code",
   "execution_count": 27,
   "id": "cc200803",
   "metadata": {},
   "outputs": [],
   "source": [
    "def values_per_gene(filepath):\n",
    "    all_counts=[]\n",
    "    with open (filepath,'r') as handle:\n",
    "        header = None\n",
    "        for row in handle:\n",
    "            if header is None:\n",
    "                header = row \n",
    "            else:\n",
    "                fields = row.strip().split(',')\n",
    "                count_nan=0\n",
    "                for i in range(1,len(fields)):\n",
    "                    if fields[i]=='nan':\n",
    "                        count_nan += 1\n",
    "                count_rci = len(fields) -1 -count_nan\n",
    "                all_counts.append(count_rci)\n",
    "    all_counts = np.asarray(all_counts)\n",
    "    print(len(all_counts), 'genes examined')\n",
    "    print(np.mean(all_counts), 'average number of CNRCI for one gene')\n",
    "    print(min(all_counts), max(all_counts), 'min and max CNRCI for one gene')\n",
    "    print(np.count_nonzero(all_counts==1), 'genes have only one CNRCI')\n",
    "    print(np.count_nonzero(all_counts==2), 'genes have only two CNRCI')\n",
    "    print(np.count_nonzero(all_counts==3), 'genes have only three CNRCI')\n",
    "    print(np.count_nonzero(all_counts>1), 'genes have more than one CNRCI')\n",
    "    print(np.count_nonzero(all_counts>2), 'genes have more than two CNRCI')\n",
    "    print(np.count_nonzero(all_counts==15), 'genes have 15 CNRCI -- one for each cell line')"
   ]
  },
  {
   "cell_type": "code",
   "execution_count": 28,
   "id": "c6a84c6a",
   "metadata": {},
   "outputs": [
    {
     "name": "stdout",
     "output_type": "stream",
     "text": [
      "Protein-coding CNRCI values\n",
      "14135 genes examined\n",
      "9.651220374955784 average number of CNRCI for one gene\n",
      "1 15 min and max CNRCI for one gene\n",
      "887 genes have only one CNRCI\n",
      "791 genes have only two CNRCI\n",
      "677 genes have only three CNRCI\n",
      "13248 genes have more than one CNRCI\n",
      "12457 genes have more than two CNRCI\n",
      "1463 genes have 15 CNRCI -- one for each cell line\n"
     ]
    }
   ],
   "source": [
    "print('Protein-coding CNRCI values')\n",
    "filepath = DATA_DIR + PC_RCI_FILE\n",
    "values_per_gene(filepath)"
   ]
  },
  {
   "cell_type": "code",
   "execution_count": 29,
   "id": "e9a9e1c3",
   "metadata": {},
   "outputs": [
    {
     "name": "stdout",
     "output_type": "stream",
     "text": [
      "Non-coding CNRCI values\n",
      "5139 genes examined\n",
      "4.205292858532789 average number of CNRCI for one gene\n",
      "1 15 min and max CNRCI for one gene\n",
      "1597 genes have only one CNRCI\n",
      "768 genes have only two CNRCI\n",
      "524 genes have only three CNRCI\n",
      "3542 genes have more than one CNRCI\n",
      "2774 genes have more than two CNRCI\n",
      "19 genes have 15 CNRCI -- one for each cell line\n"
     ]
    }
   ],
   "source": [
    "print('Non-coding CNRCI values')\n",
    "filepath = DATA_DIR + NC_RCI_FILE\n",
    "values_per_gene(filepath)"
   ]
  },
  {
   "cell_type": "markdown",
   "id": "d4283435",
   "metadata": {},
   "source": [
    "## Correlations"
   ]
  },
  {
   "cell_type": "code",
   "execution_count": 4,
   "id": "25a95156",
   "metadata": {},
   "outputs": [],
   "source": [
    "def load_RCI_data(filepath,exclude_lines=[]):\n",
    "    cell_line_names = []  # list of 15 names like A549\n",
    "    cell_line_maps  = []  # 15 maps for 15 cell lines, each maps one gene name to one RCI value\n",
    "    with open (filepath,'r') as handle:\n",
    "        header = None\n",
    "        for row in handle:\n",
    "            line = row.strip()\n",
    "            fields = line.split(',')\n",
    "            if header is None:\n",
    "                header = row \n",
    "                # exclude column 0 = gene name\n",
    "                for col in range(1,len(fields)): \n",
    "                    cell_line_name = fields[col]\n",
    "                    cell_line_names.append(cell_line_name)\n",
    "                    # start a new empty map for each column\n",
    "                    cell_line_genes = {}\n",
    "                    cell_line_maps.append(cell_line_genes)\n",
    "            else:\n",
    "                gene_id = fields[0]\n",
    "                for col in range(1,len(fields)): \n",
    "                    rci_val = fields[col]\n",
    "                    if rci_val != \"nan\":\n",
    "                        real_value = float(rci_val)\n",
    "                        position = col-1 # 1st cell line in position 0\n",
    "                        cell_line_name = cell_line_names[position] \n",
    "                        cell_line_map  = cell_line_maps[position]\n",
    "                        cell_line_map[gene_id] = real_value \n",
    "    for i in exclude_lines:\n",
    "        print('Exclude cell line', i, cell_line_names[i])\n",
    "        del cell_line_names[i]\n",
    "        del cell_line_maps[i]\n",
    "    if len(exclude_lines)==0:\n",
    "        print('No cell lines excluded.')\n",
    "    print('Remaining cell lines:',cell_line_names)\n",
    "    return cell_line_names, cell_line_maps"
   ]
  },
  {
   "cell_type": "code",
   "execution_count": 5,
   "id": "7fffeacd",
   "metadata": {},
   "outputs": [],
   "source": [
    "def all_vs_all_intersection(names,maps):\n",
    "    NUM = len(maps)\n",
    "    SHOW = 0\n",
    "    for i in range(NUM):\n",
    "        print(names[i],end=',')\n",
    "    print()\n",
    "    for i in range(NUM):\n",
    "        i_genes = set(maps[i].keys())\n",
    "        for j in range(NUM):\n",
    "            j_genes = set(maps[j].keys())\n",
    "            section = i_genes.intersection(j_genes)\n",
    "            SHOW = len(section)\n",
    "            if i==0:\n",
    "                SHOW = len(j_genes)\n",
    "            elif j==0:\n",
    "                SHOW = len(i_genes)\n",
    "            print(SHOW,end=',')\n",
    "        print()"
   ]
  },
  {
   "cell_type": "code",
   "execution_count": 6,
   "id": "e8c0dfc9",
   "metadata": {},
   "outputs": [],
   "source": [
    "def all_vs_all_correlation(names,maps):\n",
    "    NUM = len(maps)\n",
    "    # heading\n",
    "    for i in range(NUM):\n",
    "        print(names[i],end=',')\n",
    "    print()\n",
    "    # table\n",
    "    for i in range(NUM):\n",
    "        i_genes = set(maps[i].keys())\n",
    "        for j in range(NUM):\n",
    "            j_genes = set(maps[j].keys())\n",
    "            common_genes = i_genes.intersection(j_genes)\n",
    "            i_values = np.array([maps[i][k] for k in common_genes])\n",
    "            j_values = np.array([maps[j][k] for k in common_genes])\n",
    "            r,p = ss.pearsonr(i_values,j_values)\n",
    "            print('%.2f' % r, end=',')\n",
    "        print()"
   ]
  },
  {
   "cell_type": "code",
   "execution_count": 7,
   "id": "c6718a43",
   "metadata": {},
   "outputs": [],
   "source": [
    "def get_union(maps):\n",
    "    union = set()\n",
    "    for i in range(len(maps)):\n",
    "        one_map = maps[i]\n",
    "        genes = one_map.keys()\n",
    "        union = union.union(genes)\n",
    "    return union\n",
    "def get_intersection(maps):\n",
    "    section = set()\n",
    "    for i in range(len(maps)):\n",
    "        one_map = maps[i]\n",
    "        genes = set(one_map.keys())\n",
    "        if i==0:\n",
    "            pass\n",
    "        elif i==1:\n",
    "            section = genes\n",
    "        else:\n",
    "            section = section.intersection(genes)\n",
    "    return section\n",
    "def show_rci_counts_table(names,maps):\n",
    "    section = get_intersection(maps)\n",
    "    print('The intersection of RCI values contains',len(section),'genes.')\n",
    "    print('All vs all intersection')\n",
    "    all_vs_all_intersection(names,maps)"
   ]
  },
  {
   "cell_type": "markdown",
   "id": "cfdff656",
   "metadata": {},
   "source": [
    "## Coding"
   ]
  },
  {
   "cell_type": "code",
   "execution_count": 8,
   "id": "68c9e108",
   "metadata": {},
   "outputs": [
    {
     "name": "stdout",
     "output_type": "stream",
     "text": [
      "No cell lines excluded.\n",
      "Remaining cell lines: ['A549', 'H1.hESC', 'HeLa.S3', 'HepG2', 'HT1080', 'HUVEC', 'MCF.7', 'NCI.H460', 'NHEK', 'SK.MEL.5', 'SK.N.DZ', 'SK.N.SH', 'GM12878', 'K562', 'IMR.90']\n",
      "Coding Genes: number of RCI values per cell line\n",
      " 0       A549 10474\n",
      " 1    H1.hESC 13136\n",
      " 2    HeLa.S3  7055\n",
      " 3      HepG2  9549\n",
      " 4     HT1080  9667\n",
      " 5      HUVEC 10393\n",
      " 6      MCF.7 11147\n",
      " 7   NCI.H460  8541\n",
      " 8       NHEK  8859\n",
      " 9   SK.MEL.5  8472\n",
      "10    SK.N.DZ  8540\n",
      "11    SK.N.SH  9764\n",
      "12    GM12878 10038\n",
      "13       K562  6727\n",
      "14     IMR.90  4058\n",
      "The union of RCI values contains 14135 genes.\n"
     ]
    }
   ],
   "source": [
    "filepath = DATA_DIR + PC_RCI_FILE\n",
    "cl_names,cl_maps = load_RCI_data(filepath)\n",
    "print('Coding Genes: number of RCI values per cell line')\n",
    "for i in range(len(cl_names)):\n",
    "    print('%2d %10s %5d' % (i, cl_names[i], len(cl_maps[i].keys())))\n",
    "union = get_union(cl_maps)\n",
    "print('The union of RCI values contains',len(union),'genes.')"
   ]
  },
  {
   "cell_type": "code",
   "execution_count": 9,
   "id": "c94dacd2",
   "metadata": {},
   "outputs": [
    {
     "name": "stdout",
     "output_type": "stream",
     "text": [
      "The intersection of RCI values contains 1473 genes.\n",
      "All vs all intersection\n",
      "A549,H1.hESC,HeLa.S3,HepG2,HT1080,HUVEC,MCF.7,NCI.H460,NHEK,SK.MEL.5,SK.N.DZ,SK.N.SH,GM12878,K562,IMR.90,\n",
      "10474,13136,7055,9549,9667,10393,11147,8541,8859,8472,8540,9764,10038,6727,4058,\n",
      "13136,13136,6933,9339,9486,10172,10863,8437,8605,8367,8481,9539,9696,6624,4008,\n",
      "7055,6933,7055,6202,6313,6522,6711,5752,5847,5708,5560,6104,6227,4841,2753,\n",
      "9549,9339,6202,9549,8112,8524,8841,7360,7357,7324,7212,7937,8170,6010,3447,\n",
      "9667,9486,6313,8112,9667,8933,9042,7751,7564,7764,7581,8255,8367,5992,3530,\n",
      "10393,10172,6522,8524,8933,10393,9568,7968,7897,7898,7825,8685,8781,6241,3698,\n",
      "11147,10863,6711,8841,9042,9568,11147,8163,8129,8068,8008,8857,9055,6360,3749,\n",
      "8541,8437,5752,7360,7751,7968,8163,8541,6760,7081,6929,7333,7490,5459,3120,\n",
      "8859,8605,5847,7357,7564,7897,8129,6760,8859,6693,6526,7442,7467,5570,3378,\n",
      "8472,8367,5708,7324,7764,7898,8068,7081,6693,8472,6928,7290,7494,5472,3103,\n",
      "8540,8481,5560,7212,7581,7825,8008,6929,6526,6928,8540,7311,7420,5382,3042,\n",
      "9764,9539,6104,7937,8255,8685,8857,7333,7442,7290,7311,9764,8135,5882,3672,\n",
      "10038,9696,6227,8170,8367,8781,9055,7490,7467,7494,7420,8135,10038,6075,3433,\n",
      "6727,6624,4841,6010,5992,6241,6360,5459,5570,5472,5382,5882,6075,6727,2775,\n",
      "4058,4008,2753,3447,3530,3698,3749,3120,3378,3103,3042,3672,3433,2775,4058,\n"
     ]
    }
   ],
   "source": [
    "show_rci_counts_table(cl_names,cl_maps)"
   ]
  },
  {
   "cell_type": "code",
   "execution_count": 10,
   "id": "d79487b3",
   "metadata": {},
   "outputs": [
    {
     "name": "stdout",
     "output_type": "stream",
     "text": [
      "All vs all correlation\n",
      "A549,H1.hESC,HeLa.S3,HepG2,HT1080,HUVEC,MCF.7,NCI.H460,NHEK,SK.MEL.5,SK.N.DZ,SK.N.SH,GM12878,K562,IMR.90,\n",
      "1.00,0.73,0.82,0.78,0.74,0.72,0.75,0.55,0.79,0.56,0.66,0.86,0.71,0.69,0.78,\n",
      "0.73,1.00,0.71,0.68,0.51,0.55,0.58,0.38,0.58,0.38,0.55,0.71,0.58,0.65,0.63,\n",
      "0.82,0.71,1.00,0.87,0.76,0.80,0.81,0.58,0.79,0.71,0.74,0.84,0.83,0.85,0.80,\n",
      "0.78,0.68,0.87,1.00,0.73,0.83,0.83,0.55,0.74,0.72,0.77,0.84,0.84,0.86,0.83,\n",
      "0.74,0.51,0.76,0.73,1.00,0.81,0.76,0.60,0.82,0.74,0.66,0.73,0.71,0.75,0.78,\n",
      "0.72,0.55,0.80,0.83,0.81,1.00,0.86,0.58,0.78,0.81,0.73,0.78,0.80,0.85,0.91,\n",
      "0.75,0.58,0.81,0.83,0.76,0.86,1.00,0.60,0.75,0.81,0.74,0.83,0.77,0.81,0.86,\n",
      "0.55,0.38,0.58,0.55,0.60,0.58,0.60,1.00,0.53,0.63,0.62,0.58,0.55,0.56,0.53,\n",
      "0.79,0.58,0.79,0.74,0.82,0.78,0.75,0.53,1.00,0.63,0.60,0.76,0.69,0.72,0.74,\n",
      "0.56,0.38,0.71,0.72,0.74,0.81,0.81,0.63,0.63,1.00,0.74,0.69,0.70,0.77,0.83,\n",
      "0.66,0.55,0.74,0.77,0.66,0.73,0.74,0.62,0.60,0.74,1.00,0.75,0.76,0.79,0.74,\n",
      "0.86,0.71,0.84,0.84,0.73,0.78,0.83,0.58,0.76,0.69,0.75,1.00,0.72,0.75,0.87,\n",
      "0.71,0.58,0.83,0.84,0.71,0.80,0.77,0.55,0.69,0.70,0.76,0.72,1.00,0.89,0.78,\n",
      "0.69,0.65,0.85,0.86,0.75,0.85,0.81,0.56,0.72,0.77,0.79,0.75,0.89,1.00,0.82,\n",
      "0.78,0.63,0.80,0.83,0.78,0.91,0.86,0.53,0.74,0.83,0.74,0.87,0.78,0.82,1.00,\n"
     ]
    }
   ],
   "source": [
    "print('All vs all correlation')\n",
    "all_vs_all_correlation(cl_names,cl_maps)"
   ]
  },
  {
   "cell_type": "markdown",
   "id": "149c700a",
   "metadata": {},
   "source": [
    "## Non-coding"
   ]
  },
  {
   "cell_type": "code",
   "execution_count": 11,
   "id": "f2e499ba",
   "metadata": {},
   "outputs": [
    {
     "name": "stdout",
     "output_type": "stream",
     "text": [
      "No cell lines excluded.\n",
      "Remaining cell lines: ['A549', 'H1.hESC', 'HeLa.S3', 'HepG2', 'HT1080', 'HUVEC', 'MCF.7', 'NCI.H460', 'NHEK', 'SK.MEL.5', 'SK.N.DZ', 'SK.N.SH', 'GM12878', 'K562', 'IMR.90']\n",
      "Noncoding Genes: number of RCI values per cell line\n",
      " 0       A549  1635\n",
      " 1    H1.hESC  3774\n",
      " 2    HeLa.S3   999\n",
      " 3      HepG2  1560\n",
      " 4     HT1080  1050\n",
      " 5      HUVEC  1674\n",
      " 6      MCF.7  2377\n",
      " 7   NCI.H460   700\n",
      " 8       NHEK  1214\n",
      " 9   SK.MEL.5   618\n",
      "10    SK.N.DZ   683\n",
      "11    SK.N.SH  1865\n",
      "12    GM12878  1931\n",
      "13       K562  1090\n",
      "14     IMR.90   441\n",
      "The union of RCI values contains 5139 genes.\n"
     ]
    }
   ],
   "source": [
    "filepath = DATA_DIR + NC_RCI_FILE\n",
    "cl_names,cl_maps = load_RCI_data(filepath)\n",
    "print('Noncoding Genes: number of RCI values per cell line')\n",
    "for i in range(len(cl_names)):\n",
    "    print('%2d %10s %5d' % (i, cl_names[i], len(cl_maps[i].keys())))\n",
    "union = get_union(cl_maps)\n",
    "print('The union of RCI values contains',len(union),'genes.')"
   ]
  },
  {
   "cell_type": "code",
   "execution_count": 12,
   "id": "cb6f45ef",
   "metadata": {},
   "outputs": [
    {
     "name": "stdout",
     "output_type": "stream",
     "text": [
      "The intersection of RCI values contains 22 genes.\n",
      "All vs all intersection\n",
      "A549,H1.hESC,HeLa.S3,HepG2,HT1080,HUVEC,MCF.7,NCI.H460,NHEK,SK.MEL.5,SK.N.DZ,SK.N.SH,GM12878,K562,IMR.90,\n",
      "1635,3774,999,1560,1050,1674,2377,700,1214,618,683,1865,1931,1090,441,\n",
      "3774,3774,867,1347,910,1443,1966,660,1054,556,631,1602,1605,962,402,\n",
      "999,867,999,547,397,556,733,299,455,265,266,593,598,390,163,\n",
      "1560,1347,547,1560,640,897,1101,480,712,408,448,945,954,593,287,\n",
      "1050,910,397,640,1050,722,811,437,575,389,389,743,725,453,247,\n",
      "1674,1443,556,897,722,1674,1182,507,779,439,475,1057,1029,635,315,\n",
      "2377,1966,733,1101,811,1182,2377,573,902,503,541,1282,1277,763,357,\n",
      "700,660,299,480,437,507,573,700,412,299,314,497,524,328,162,\n",
      "1214,1054,455,712,575,779,902,412,1214,375,364,804,764,476,265,\n",
      "618,556,265,408,389,439,503,299,375,618,273,458,450,292,156,\n",
      "683,631,266,448,389,475,541,314,364,273,683,494,489,309,166,\n",
      "1865,1602,593,945,743,1057,1282,497,804,458,494,1865,1044,665,345,\n",
      "1931,1605,598,954,725,1029,1277,524,764,450,489,1044,1931,708,299,\n",
      "1090,962,390,593,453,635,763,328,476,292,309,665,708,1090,203,\n",
      "441,402,163,287,247,315,357,162,265,156,166,345,299,203,441,\n"
     ]
    }
   ],
   "source": [
    "show_rci_counts_table(cl_names,cl_maps)"
   ]
  },
  {
   "cell_type": "code",
   "execution_count": 13,
   "id": "e3873685",
   "metadata": {},
   "outputs": [
    {
     "name": "stdout",
     "output_type": "stream",
     "text": [
      "All vs all correlation\n",
      "A549,H1.hESC,HeLa.S3,HepG2,HT1080,HUVEC,MCF.7,NCI.H460,NHEK,SK.MEL.5,SK.N.DZ,SK.N.SH,GM12878,K562,IMR.90,\n",
      "1.00,0.56,0.71,0.80,0.78,0.81,0.80,0.59,0.80,0.65,0.72,0.81,0.72,0.69,0.83,\n",
      "0.56,1.00,0.56,0.54,0.39,0.49,0.39,0.33,0.41,0.25,0.48,0.53,0.47,0.58,0.58,\n",
      "0.71,0.56,1.00,0.79,0.77,0.74,0.73,0.66,0.79,0.76,0.70,0.79,0.70,0.78,0.72,\n",
      "0.80,0.54,0.79,1.00,0.82,0.87,0.82,0.63,0.78,0.71,0.75,0.81,0.81,0.81,0.83,\n",
      "0.78,0.39,0.77,0.82,1.00,0.84,0.84,0.68,0.81,0.81,0.73,0.84,0.69,0.72,0.85,\n",
      "0.81,0.49,0.74,0.87,0.84,1.00,0.86,0.66,0.83,0.76,0.73,0.83,0.78,0.80,0.89,\n",
      "0.80,0.39,0.73,0.82,0.84,0.86,1.00,0.63,0.80,0.79,0.72,0.82,0.70,0.75,0.87,\n",
      "0.59,0.33,0.66,0.63,0.68,0.66,0.63,1.00,0.59,0.70,0.66,0.65,0.56,0.54,0.60,\n",
      "0.80,0.41,0.79,0.78,0.81,0.83,0.80,0.59,1.00,0.74,0.67,0.83,0.68,0.68,0.81,\n",
      "0.65,0.25,0.76,0.71,0.81,0.76,0.79,0.70,0.74,1.00,0.70,0.74,0.63,0.70,0.80,\n",
      "0.72,0.48,0.70,0.75,0.73,0.73,0.72,0.66,0.67,0.70,1.00,0.69,0.73,0.76,0.75,\n",
      "0.81,0.53,0.79,0.81,0.84,0.83,0.82,0.65,0.83,0.74,0.69,1.00,0.66,0.69,0.87,\n",
      "0.72,0.47,0.70,0.81,0.69,0.78,0.70,0.56,0.68,0.63,0.73,0.66,1.00,0.83,0.71,\n",
      "0.69,0.58,0.78,0.81,0.72,0.80,0.75,0.54,0.68,0.70,0.76,0.69,0.83,1.00,0.75,\n",
      "0.83,0.58,0.72,0.83,0.85,0.89,0.87,0.60,0.81,0.80,0.75,0.87,0.71,0.75,1.00,\n"
     ]
    }
   ],
   "source": [
    "print('All vs all correlation')\n",
    "all_vs_all_correlation(cl_names,cl_maps)"
   ]
  },
  {
   "cell_type": "code",
   "execution_count": null,
   "id": "17206ec1",
   "metadata": {},
   "outputs": [],
   "source": []
  }
 ],
 "metadata": {
  "kernelspec": {
   "display_name": "Python 3 (ipykernel)",
   "language": "python",
   "name": "python3"
  },
  "language_info": {
   "codemirror_mode": {
    "name": "ipython",
    "version": 3
   },
   "file_extension": ".py",
   "mimetype": "text/x-python",
   "name": "python",
   "nbconvert_exporter": "python",
   "pygments_lexer": "ipython3",
   "version": "3.10.0"
  }
 },
 "nbformat": 4,
 "nbformat_minor": 5
}
