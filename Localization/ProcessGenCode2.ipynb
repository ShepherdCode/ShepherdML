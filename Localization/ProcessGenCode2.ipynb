{
 "cells": [
  {
   "cell_type": "markdown",
   "id": "804ca646",
   "metadata": {},
   "source": [
    "# Gen Code 43\n",
    "GenCode 43 released 08.02.2023 (Feb 8)  \n",
    "My download started Feb 27.   \n",
    "\n",
    "Get FASTA and GFF3 from here: https://www.gencodegenes.org/human/  \n",
    "Scroll down to Fasta files   \n",
    "Click on Protein-coding transcript sequences = gencode.v43.pc_transcripts.fa   \n",
    "Click on Long non-coding RNA transcript sequences = gencode.v43.lncRNA_transcripts.fa   \n",
    "Scroll down to GFF3 files    \n",
    "Click on Basic gene annotation on chromosomes (the main file for most uers) = gencode.v43.basic.annotation.gff3\n",
    "\n",
    "GenCode [biotypes](https://www.gencodegenes.org/pages/biotypes.html)\n",
    "describes for example 'lncRNA' \n",
    "\n",
    "GenCode [tags](https://www.gencodegenes.org/pages/tags.html)\n",
    "describes for example 'appris_principal_1' Where the transcript expected to code for the main functional isoform..."
   ]
  },
  {
   "cell_type": "markdown",
   "id": "a29d3fbf",
   "metadata": {},
   "source": [
    "## Decide to use Basic Annotation\n",
    "Using v42 in Sep 2022, \n",
    "we previously used the full \"annotation\" file which has 252416 transcripts. \n",
    "Our filters reduced this to 114760 (29K non-coding and 86L coding).\n",
    "The \"basic.annotation\" file had 117681 transcripts.\n",
    "I expect \"basic\" probably removes the same ones we filtered. \n",
    "\n",
    "It is unclear exactly what \"basic\" means for lncRNA. According to the FAQ...\n",
    "The transcripts tagged as \"basic\" form part of a subset of representative transcripts for each gene. This subset prioritises full-length protein coding transcripts over partial or non-protein coding transcripts within the same gene, and intends to highlight those transcripts that will be useful to the majority of users."
   ]
  },
  {
   "cell_type": "code",
   "execution_count": 1,
   "id": "bbaa7752",
   "metadata": {},
   "outputs": [
    {
     "name": "stdout",
     "output_type": "stream",
     "text": [
      "2023-02-27 17:45:19.541964\n"
     ]
    }
   ],
   "source": [
    "from datetime import datetime\n",
    "print(datetime.now())"
   ]
  },
  {
   "cell_type": "code",
   "execution_count": 2,
   "id": "9d778477",
   "metadata": {},
   "outputs": [],
   "source": [
    "# GenCode inputs\n",
    "DATA_DIR = '/Users/jasonmiller/WVU/Localization/GenCode/GenCode43/'\n",
    "ANNOTATION = 'gencode.v43.basic.annotation.gff3'\n",
    "NONCODING_SEQUENCE = 'gencode.v43.lncRNA_transcripts.fa'   \n",
    "CODING_SEQUENCE = 'gencode.v43.pc_transcripts.fa'    \n",
    "# GenCode outputs\n",
    "CODING_CSV = 'gencode.v43.pc_transcripts.csv'        \n",
    "NONCODING_CSV = 'gencode.v43.lncRNA_transcripts.csv'   \n",
    "# Atlas inputs\n",
    "ATLAS_DIR = '/Users/jasonmiller/WVU/Localization/LncAtlas/'\n",
    "ATLAS_FILE = 'lncATLAS_all_data_RCI.csv'"
   ]
  },
  {
   "cell_type": "markdown",
   "id": "c2dac946",
   "metadata": {},
   "source": [
    "## lncAtlas Gene IDs\n",
    "Load the list of distinct genes in lncAtlas.\n",
    "Only examine lines where field 2 is CNRCI and field 3 is not NA.\n",
    "Load the ESNG IDs.\n",
    "Remove duplicate IDs."
   ]
  },
  {
   "cell_type": "code",
   "execution_count": 3,
   "id": "612b695d",
   "metadata": {},
   "outputs": [],
   "source": [
    "def load_atlas_genes(filepath):\n",
    "    '''Expect a CSV file.'''\n",
    "    genes = set()\n",
    "    with open (filepath,'r') as handle:\n",
    "        header = None\n",
    "        for row in handle:\n",
    "            if header is None:\n",
    "                header = row\n",
    "            else:\n",
    "                fields = row.split(',')\n",
    "                gene_id = fields[0]  # like ENSG00000000003\n",
    "                rci_type = fields[2]   \n",
    "                value = fields[3]\n",
    "                if (value != 'NA' and rci_type == 'CNRCI'):\n",
    "                    genes.add(gene_id)  # set removes dupes\n",
    "    return genes"
   ]
  },
  {
   "cell_type": "code",
   "execution_count": 4,
   "id": "d3bdd40a",
   "metadata": {},
   "outputs": [
    {
     "name": "stdout",
     "output_type": "stream",
     "text": [
      "2023-02-27 17:45:19.636310\n",
      "Atlas good genes: 24538\n"
     ]
    }
   ],
   "source": [
    "print(datetime.now())\n",
    "atlas_genes = load_atlas_genes(ATLAS_DIR+ATLAS_FILE)\n",
    "print('Atlas good genes:', len(atlas_genes))"
   ]
  },
  {
   "cell_type": "markdown",
   "id": "7c40fe4f",
   "metadata": {},
   "source": [
    "## GenCode annotation"
   ]
  },
  {
   "cell_type": "code",
   "execution_count": 5,
   "id": "1c071890",
   "metadata": {},
   "outputs": [],
   "source": [
    "def load_annotated_transcripts(filepath,all_transcripts=True):\n",
    "    '''Expect a GFF3 file.'''\n",
    "    pc_tids = set()\n",
    "    nc_tids = set()\n",
    "    with open (filepath,'r') as handle:\n",
    "        for row in handle:\n",
    "            columns = row.split('\\t')\n",
    "            # Avoid comment lines and read only transcript lines.\n",
    "            if len(columns)>=9 and columns[2] == 'transcript':\n",
    "                # The data we need is in column 9, the so-called comments,\n",
    "                # listed as name=value pairs separated by semicolon.\n",
    "                comments = columns[8] \n",
    "                pairs = comments.split(';') \n",
    "                tid = None\n",
    "                gtype = None\n",
    "                ttype = None\n",
    "                canonical = False\n",
    "                for pair in pairs:\n",
    "                    # Look for certain tags and retain their values.\n",
    "                    if pair.startswith('ID=ENST'):\n",
    "                        tid = pair[3:] \n",
    "                    elif pair.startswith('gene_type='):\n",
    "                        gtype = pair[10:] \n",
    "                    elif pair.startswith('transcript_type='):\n",
    "                        ttype = pair[16:]\n",
    "                    elif not all_transcripts and pair.startswith('tag='):\n",
    "                        if 'Ensembl_canonical' in pair:\n",
    "                            canonical = True\n",
    "                if ttype is not None:\n",
    "                    if tid is None:\n",
    "                        raise Exception('transcript type without ID')\n",
    "                    if ttype==gtype: \n",
    "                        if all_transcripts or canonical is True:\n",
    "                            if ttype=='protein_coding':\n",
    "                                pc_tids.add(tid)\n",
    "                            elif ttype=='lncRNA':\n",
    "                                nc_tids.add(tid)\n",
    "    return pc_tids, nc_tids"
   ]
  },
  {
   "cell_type": "code",
   "execution_count": 6,
   "id": "3ddcd256",
   "metadata": {},
   "outputs": [
    {
     "name": "stdout",
     "output_type": "stream",
     "text": [
      "2023-02-27 17:45:20.227234\n",
      "Gencode all pc transcripts pc/nc: 63752\n",
      "Gencode all nc transcripts pc/nc: 29147\n",
      "Gencode principal pc transcripts pc/nc: 19688\n",
      "Gencode principal nc transcripts pc/nc: 17153\n"
     ]
    }
   ],
   "source": [
    "print(datetime.now())\n",
    "gencode_pc_transcripts,gencode_nc_transcripts = \\\n",
    "    load_annotated_transcripts(DATA_DIR+ANNOTATION,True)\n",
    "print('Gencode all pc transcripts pc/nc:', len(gencode_pc_transcripts))\n",
    "print('Gencode all nc transcripts pc/nc:', len(gencode_nc_transcripts))\n",
    "canonical_pc_transcripts,canonical_nc_transcripts = \\\n",
    "    load_annotated_transcripts(DATA_DIR+ANNOTATION,False)\n",
    "print('Gencode principal pc transcripts pc/nc:', len(canonical_pc_transcripts))\n",
    "print('Gencode principal nc transcripts pc/nc:', len(canonical_nc_transcripts))"
   ]
  },
  {
   "cell_type": "code",
   "execution_count": null,
   "id": "5ad7d52e",
   "metadata": {},
   "outputs": [],
   "source": []
  }
 ],
 "metadata": {
  "kernelspec": {
   "display_name": "Python 3 (ipykernel)",
   "language": "python",
   "name": "python3"
  },
  "language_info": {
   "codemirror_mode": {
    "name": "ipython",
    "version": 3
   },
   "file_extension": ".py",
   "mimetype": "text/x-python",
   "name": "python",
   "nbconvert_exporter": "python",
   "pygments_lexer": "ipython3",
   "version": "3.10.0"
  }
 },
 "nbformat": 4,
 "nbformat_minor": 5
}
