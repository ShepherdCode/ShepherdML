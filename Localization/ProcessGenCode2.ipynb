{
 "cells": [
  {
   "cell_type": "markdown",
   "id": "b30710d4",
   "metadata": {},
   "source": [
    "# Gen Code 43\n",
    "GenCode 43 released 08.02.2023 (Feb 8)  \n",
    "My download started Feb 27.   \n",
    "\n",
    "Get FASTA and GFF3 from here: https://www.gencodegenes.org/human/  \n",
    "Scroll down to Fasta files   \n",
    "Click on Protein-coding transcript sequences = gencode.v43.pc_transcripts.fa   \n",
    "Click on Long non-coding RNA transcript sequences = gencode.v43.lncRNA_transcripts.fa   \n",
    "Scroll down to GFF3 files    \n",
    "Click on Basic gene annotation on chromosomes (the main file for most uers) = gencode.v43.basic.annotation.gff3\n",
    "\n",
    "GenCode [biotypes](https://www.gencodegenes.org/pages/biotypes.html)\n",
    "describes for example 'lncRNA' \n",
    "\n",
    "GenCode [tags](https://www.gencodegenes.org/pages/tags.html)\n",
    "describes for example 'appris_principal_1' Where the transcript expected to code for the main functional isoform..."
   ]
  },
  {
   "cell_type": "markdown",
   "id": "d9a9e596",
   "metadata": {},
   "source": [
    "## Decide to use Basic Annotation\n",
    "Using v42 in Sep 2022, \n",
    "we previously used the full \"annotation\" file which has 252416 transcripts. \n",
    "Our filters reduced this to 114760 (29K non-coding and 86L coding).\n",
    "The \"basic.annotation\" file had 117681 transcripts.\n",
    "I expect \"basic\" probably removes the same ones we filtered. \n",
    "\n",
    "It is unclear exactly what \"basic\" means for lncRNA. According to the FAQ...\n",
    "The transcripts tagged as \"basic\" form part of a subset of representative transcripts for each gene. This subset prioritises full-length protein coding transcripts over partial or non-protein coding transcripts within the same gene, and intends to highlight those transcripts that will be useful to the majority of users."
   ]
  },
  {
   "cell_type": "code",
   "execution_count": 1,
   "id": "1615d361",
   "metadata": {},
   "outputs": [
    {
     "name": "stdout",
     "output_type": "stream",
     "text": [
      "2023-02-27 18:21:20.773785\n"
     ]
    }
   ],
   "source": [
    "from datetime import datetime\n",
    "print(datetime.now())"
   ]
  },
  {
   "cell_type": "code",
   "execution_count": 2,
   "id": "6111dd52",
   "metadata": {},
   "outputs": [],
   "source": [
    "# GenCode inputs\n",
    "DATA_DIR = '/Users/jasonmiller/WVU/Localization/GenCode/GenCode43/'\n",
    "ANNOTATION = 'gencode.v43.basic.annotation.gff3'\n",
    "NONCODING_SEQUENCE = 'gencode.v43.lncRNA_transcripts.fa'   \n",
    "CODING_SEQUENCE = 'gencode.v43.pc_transcripts.fa'    \n",
    "# GenCode outputs\n",
    "CODING_CSV_ALL = 'gencode_v43.all_pc_transcripts.csv'        \n",
    "NONCODING_CSV_ALL = 'gencode_v43.all_lncRNA_transcripts.csv'   \n",
    "CODING_CSV_CANON = 'gencode_v43.canon_pc_transcripts.csv'        \n",
    "NONCODING_CSV_CANON = 'gencode_v43.canon_lncRNA_transcripts.csv'   \n",
    "# Atlas inputs\n",
    "ATLAS_DIR = '/Users/jasonmiller/WVU/Localization/LncAtlas/'\n",
    "ATLAS_FILE = 'lncATLAS_all_data_RCI.csv'"
   ]
  },
  {
   "cell_type": "markdown",
   "id": "6595e4f6",
   "metadata": {},
   "source": [
    "## lncAtlas Gene IDs\n",
    "Load the list of distinct genes in lncAtlas.\n",
    "Only examine lines where field 2 is CNRCI and field 3 is not NA.\n",
    "Load the ESNG IDs.\n",
    "Remove duplicate IDs."
   ]
  },
  {
   "cell_type": "code",
   "execution_count": 12,
   "id": "aafcb804",
   "metadata": {},
   "outputs": [],
   "source": [
    "def load_atlas_genes(filepath):\n",
    "    '''Expect a CSV file.'''\n",
    "    pc_genes = set()\n",
    "    nc_genes = set()\n",
    "    with open (filepath,'r') as handle:\n",
    "        header = None\n",
    "        for row in handle:\n",
    "            if header is None:\n",
    "                header = row\n",
    "            else:\n",
    "                fields = row.split(',')\n",
    "                gene_id = fields[0]  # like ENSG00000000003\n",
    "                rci_type = fields[2]   \n",
    "                value = fields[3]\n",
    "                gene_type = fields[5] # field 5 same as field 6 in all cases\n",
    "                if (value != 'NA' and rci_type == 'CNRCI'):\n",
    "                    if gene_type == 'coding':\n",
    "                        pc_genes.add(gene_id)  # set removes dupes\n",
    "                    elif gene_type == 'nc':\n",
    "                        nc_genes.add(gene_id)\n",
    "    return pc_genes, nc_genes"
   ]
  },
  {
   "cell_type": "code",
   "execution_count": 13,
   "id": "c89534aa",
   "metadata": {},
   "outputs": [
    {
     "name": "stdout",
     "output_type": "stream",
     "text": [
      "2023-02-27 18:25:21.918262\n",
      "Atlas pc genes: 17770\n",
      "Atlas nc genes: 6768\n"
     ]
    }
   ],
   "source": [
    "print(datetime.now())\n",
    "atlas_pc_genes,atlas_nc_genes = load_atlas_genes(ATLAS_DIR+ATLAS_FILE)\n",
    "print('Atlas pc genes:', len(atlas_pc_genes))\n",
    "print('Atlas nc genes:', len(atlas_nc_genes))"
   ]
  },
  {
   "cell_type": "markdown",
   "id": "cca1f447",
   "metadata": {},
   "source": [
    "## GenCode annotation"
   ]
  },
  {
   "cell_type": "code",
   "execution_count": 14,
   "id": "be01028b",
   "metadata": {},
   "outputs": [],
   "source": [
    "def load_annotated_transcripts(filepath,all_transcripts=True):\n",
    "    '''Expect a GFF3 file.'''\n",
    "    pc_tids = set()\n",
    "    nc_tids = set()\n",
    "    with open (filepath,'r') as handle:\n",
    "        for row in handle:\n",
    "            columns = row.split('\\t')\n",
    "            # Avoid comment lines and read only transcript lines.\n",
    "            if len(columns)>=9 and columns[2] == 'transcript':\n",
    "                # The data we need is in column 9, the so-called comments,\n",
    "                # listed as name=value pairs separated by semicolon.\n",
    "                comments = columns[8] \n",
    "                pairs = comments.split(';') \n",
    "                tid = None\n",
    "                gtype = None\n",
    "                ttype = None\n",
    "                canonical = False\n",
    "                for pair in pairs:\n",
    "                    # Look for certain tags and retain their values.\n",
    "                    if pair.startswith('ID=ENST'):\n",
    "                        tid = pair[3:] \n",
    "                    elif pair.startswith('gene_type='):\n",
    "                        gtype = pair[10:] \n",
    "                    elif pair.startswith('transcript_type='):\n",
    "                        ttype = pair[16:]\n",
    "                    elif not all_transcripts and pair.startswith('tag='):\n",
    "                        if 'Ensembl_canonical' in pair:\n",
    "                            canonical = True\n",
    "                if ttype is not None:\n",
    "                    if tid is None:\n",
    "                        raise Exception('transcript type without ID')\n",
    "                    if ttype==gtype: \n",
    "                        if all_transcripts or canonical is True:\n",
    "                            if ttype=='protein_coding':\n",
    "                                pc_tids.add(tid)\n",
    "                            elif ttype=='lncRNA':\n",
    "                                nc_tids.add(tid)\n",
    "    return pc_tids, nc_tids"
   ]
  },
  {
   "cell_type": "code",
   "execution_count": 15,
   "id": "d7e74784",
   "metadata": {},
   "outputs": [
    {
     "name": "stdout",
     "output_type": "stream",
     "text": [
      "2023-02-27 18:25:34.933040\n",
      "Gencode all pc transcripts: 63752\n",
      "Gencode all nc transcripts: 29147\n",
      "Gencode canonical pc transcripts: 19688\n",
      "Gencode canonical nc transcripts: 17153\n"
     ]
    }
   ],
   "source": [
    "print(datetime.now())\n",
    "gencode_pc_transcripts,gencode_nc_transcripts = \\\n",
    "    load_annotated_transcripts(DATA_DIR+ANNOTATION,True)\n",
    "print('Gencode all pc transcripts:', len(gencode_pc_transcripts))\n",
    "print('Gencode all nc transcripts:', len(gencode_nc_transcripts))\n",
    "canonical_pc_transcripts,canonical_nc_transcripts = \\\n",
    "    load_annotated_transcripts(DATA_DIR+ANNOTATION,False)\n",
    "print('Gencode canonical pc transcripts:', len(canonical_pc_transcripts))\n",
    "print('Gencode canonical nc transcripts:', len(canonical_nc_transcripts))"
   ]
  },
  {
   "cell_type": "markdown",
   "id": "c5804317",
   "metadata": {},
   "source": [
    "## Make sequence files\n",
    "Parse FASTA, extract sequences of interest, write CSV.\n",
    "The rest of our pipeline uses CSV because it is easier to process than FASTA."
   ]
  },
  {
   "cell_type": "code",
   "execution_count": 16,
   "id": "d2320a03",
   "metadata": {},
   "outputs": [],
   "source": [
    "class fasta_reader():\n",
    "    '''Expect human transcripts FASTA file from GenCode.'''\n",
    "    def __init__(self,infile,outfile,biotype):\n",
    "        '''Biotype should be either 'pc' or 'lncRNA'.'''\n",
    "        self.infile = infile\n",
    "        self.outfile = outfile\n",
    "        self.biotype = biotype\n",
    "        self.FASTA_DEFCHAR = '>'  # signals a defline = definition line\n",
    "        self.allow_genes = None\n",
    "        self.allow_transcripts = None\n",
    "        self.transcripts_per_gene = None\n",
    "        self.headers='transcript_id,gene_id,biotype,length,sequence\\n'\n",
    "    def get_transcripts_per_gene(self):\n",
    "        return self.transcripts_per_gene\n",
    "    def allow_these_genes(self,genes:set):\n",
    "        self.allow_genes = genes\n",
    "    def allow_these_transcripts(self,trans:set):\n",
    "        self.allow_transcripts = trans\n",
    "    def print_one_sequence(self,handle,tran,gene,seq):\n",
    "        allow_genes = self.allow_genes\n",
    "        allow_trans = self.allow_transcripts\n",
    "        if seq is not None:\n",
    "            # sequence is None when we encounter the first defline\n",
    "            if allow_genes is None or gene in allow_genes:\n",
    "                if allow_trans is None or tran in allow_trans:\n",
    "                    biotype = self.biotype\n",
    "                    length = str(len(seq))\n",
    "                    outstr = ','.join((tran,gene,biotype,length,seq))\n",
    "                    handle.write(outstr+'\\n')\n",
    "                    self.count_out += 1\n",
    "                    if gene not in self.transcripts_per_gene:\n",
    "                        self.transcripts_per_gene[gene]=0\n",
    "                    self.transcripts_per_gene[gene] += 1  \n",
    "    def fasta_to_csv(self):\n",
    "        self.count_in = 0\n",
    "        self.count_out = 0\n",
    "        self.transcripts_per_gene = {}\n",
    "        with open(self.outfile,'w') as handle:\n",
    "            handle.write(self.headers)\n",
    "            with open(self.infile,'r') as fasta:\n",
    "                transcript_id = None\n",
    "                gene_id = None\n",
    "                next_seq = None\n",
    "                for line in fasta:\n",
    "                    if line[0]==self.FASTA_DEFCHAR:\n",
    "                        # Wrap up the previous sequence before moving on to the next.\n",
    "                        self.print_one_sequence(handle,transcript_id,gene_id,next_seq)\n",
    "                        # The defline starts with '>'\n",
    "                        # The defline has fields separated by vertical bar\n",
    "                        self.count_in += 1\n",
    "                        tokens = line.split('|')\n",
    "                        transcript_id = tokens[0][1:] # chop off '>'\n",
    "                        gene_id = tokens[1]   \n",
    "                        version_index=gene_id.find('.')   \n",
    "                        if version_index>=0:\n",
    "                            # chop off version number, like the 2 in ENSG00000198888.2\n",
    "                            gene_id = gene_id[:version_index]  \n",
    "                        next_seq = \"\"   # get ready for one to many sequence lines\n",
    "                    else:\n",
    "                        # In FASTA format, one sequence may continue to next line\n",
    "                        next_seq = next_seq + line.strip()  \n",
    "            # Reading FASTA, be sure to process the last sequence.\n",
    "            self.print_one_sequence(handle,transcript_id,gene_id,next_seq)\n",
    "        return self.count_in,self.count_out"
   ]
  },
  {
   "cell_type": "code",
   "execution_count": 17,
   "id": "a4770220",
   "metadata": {},
   "outputs": [
    {
     "name": "stdout",
     "output_type": "stream",
     "text": [
      "2023-02-27 18:26:02.821587\n",
      "All mRNA in GenCode and Atlas\n",
      " Input sequences: 111276\n",
      "Output sequences: 60136\n",
      "Genes in Atlas: 17770\n",
      "Genes represented in output: 17399\n"
     ]
    }
   ],
   "source": [
    "print(datetime.now())\n",
    "infile = DATA_DIR + CODING_SEQUENCE\n",
    "outfile = DATA_DIR + CODING_CSV_ALL\n",
    "converter = fasta_reader(infile,outfile,'pc')\n",
    "converter.allow_these_genes(atlas_pc_genes)\n",
    "converter.allow_these_transcripts(gencode_pc_transcripts)\n",
    "count_in,count_out=converter.fasta_to_csv()\n",
    "print(\"All mRNA in GenCode and Atlas\")\n",
    "print(\" Input sequences: %d\" % count_in)\n",
    "print(\"Output sequences: %d\" % count_out)\n",
    "print(\"Genes in Atlas: %d\" % len(atlas_pc_genes))\n",
    "print(\"Genes represented in output: %d\" % len(converter.get_transcripts_per_gene()))"
   ]
  },
  {
   "cell_type": "code",
   "execution_count": 18,
   "id": "86696714",
   "metadata": {},
   "outputs": [
    {
     "name": "stdout",
     "output_type": "stream",
     "text": [
      "2023-02-27 18:26:28.270087\n",
      "All lncRNA in GenCode and Atlas\n",
      " Input sequences: 58023\n",
      "Output sequences: 11656\n",
      "Genes in Atlas: 6768\n",
      "Genes represented in output: 5767\n"
     ]
    }
   ],
   "source": [
    "print(datetime.now())\n",
    "infile = DATA_DIR + NONCODING_SEQUENCE\n",
    "outfile = DATA_DIR + NONCODING_CSV_ALL\n",
    "converter = fasta_reader(infile,outfile,'lncRNA')\n",
    "converter.allow_these_genes(atlas_nc_genes)\n",
    "converter.allow_these_transcripts(gencode_nc_transcripts)\n",
    "count_in,count_out=converter.fasta_to_csv()\n",
    "print(\"All lncRNA in GenCode and Atlas\")\n",
    "print(\" Input sequences: %d\" % count_in)\n",
    "print(\"Output sequences: %d\" % count_out)\n",
    "print(\"Genes in Atlas: %d\" % len(atlas_nc_genes))\n",
    "print(\"Genes represented in output: %d\" % len(converter.get_transcripts_per_gene()))"
   ]
  },
  {
   "cell_type": "code",
   "execution_count": 19,
   "id": "681ed55d",
   "metadata": {},
   "outputs": [
    {
     "name": "stdout",
     "output_type": "stream",
     "text": [
      "2023-02-27 18:27:02.707729\n",
      "Canonical mRNA in GenCode and Atlas\n",
      " Input sequences: 111276\n",
      "Output sequences: 17415\n",
      "Genes in Atlas: 17770\n",
      "Genes represented in output: 17398\n"
     ]
    }
   ],
   "source": [
    "print(datetime.now())\n",
    "infile = DATA_DIR + CODING_SEQUENCE\n",
    "outfile = DATA_DIR + CODING_CSV_CANON\n",
    "converter = fasta_reader(infile,outfile,'pc')\n",
    "converter.allow_these_genes(atlas_pc_genes)\n",
    "converter.allow_these_transcripts(canonical_pc_transcripts)\n",
    "count_in,count_out=converter.fasta_to_csv()\n",
    "print(\"Canonical mRNA in GenCode and Atlas\")\n",
    "print(\" Input sequences: %d\" % count_in)\n",
    "print(\"Output sequences: %d\" % count_out)\n",
    "print(\"Genes in Atlas: %d\" % len(atlas_pc_genes))\n",
    "print(\"Genes represented in output: %d\" % len(converter.get_transcripts_per_gene()))"
   ]
  },
  {
   "cell_type": "code",
   "execution_count": 20,
   "id": "5226bf1c",
   "metadata": {},
   "outputs": [
    {
     "name": "stdout",
     "output_type": "stream",
     "text": [
      "2023-02-27 18:27:05.933339\n",
      "Canonical lncRNA in GenCode and Atlas\n",
      " Input sequences: 58023\n",
      "Output sequences: 5042\n",
      "Genes in Atlas: 6768\n",
      "Genes represented in output: 5033\n"
     ]
    }
   ],
   "source": [
    "print(datetime.now())\n",
    "infile = DATA_DIR + NONCODING_SEQUENCE\n",
    "outfile = DATA_DIR + NONCODING_CSV_CANON\n",
    "converter = fasta_reader(infile,outfile,'lncRNA')\n",
    "converter.allow_these_genes(atlas_nc_genes)\n",
    "converter.allow_these_transcripts(canonical_nc_transcripts)\n",
    "count_in,count_out=converter.fasta_to_csv()\n",
    "print(\"Canonical lncRNA in GenCode and Atlas\")\n",
    "print(\" Input sequences: %d\" % count_in)\n",
    "print(\"Output sequences: %d\" % count_out)\n",
    "print(\"Genes in Atlas: %d\" % len(atlas_nc_genes))\n",
    "print(\"Genes represented in output: %d\" % len(converter.get_transcripts_per_gene()))"
   ]
  },
  {
   "cell_type": "code",
   "execution_count": null,
   "id": "040bbb28",
   "metadata": {},
   "outputs": [],
   "source": []
  }
 ],
 "metadata": {
  "kernelspec": {
   "display_name": "Python 3 (ipykernel)",
   "language": "python",
   "name": "python3"
  },
  "language_info": {
   "codemirror_mode": {
    "name": "ipython",
    "version": 3
   },
   "file_extension": ".py",
   "mimetype": "text/x-python",
   "name": "python",
   "nbconvert_exporter": "python",
   "pygments_lexer": "ipython3",
   "version": "3.10.0"
  }
 },
 "nbformat": 4,
 "nbformat_minor": 5
}
