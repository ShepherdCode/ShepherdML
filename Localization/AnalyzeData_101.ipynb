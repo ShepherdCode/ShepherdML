{
 "cells": [
  {
   "cell_type": "markdown",
   "id": "8daed8a2",
   "metadata": {},
   "source": [
    "# Analyze RCI correlations between cell lines"
   ]
  },
  {
   "cell_type": "code",
   "execution_count": 1,
   "id": "0c04ba05",
   "metadata": {},
   "outputs": [
    {
     "name": "stdout",
     "output_type": "stream",
     "text": [
      "2023-01-08 12:27:22.445524\n",
      "Python 3.10.0\n",
      "sklearn 1.1.2\n"
     ]
    }
   ],
   "source": [
    "from datetime import datetime\n",
    "print(datetime.now())\n",
    "from platform import python_version\n",
    "print('Python',python_version())\n",
    "import numpy as np\n",
    "import pandas as pd\n",
    "from matplotlib import pyplot as plt \n",
    "import sklearn   # pip install --upgrade scikit-learn\n",
    "print('sklearn',sklearn.__version__)"
   ]
  },
  {
   "cell_type": "code",
   "execution_count": 2,
   "id": "037e5e2c",
   "metadata": {},
   "outputs": [
    {
     "name": "stdout",
     "output_type": "stream",
     "text": [
      "/Users/jasonmiller/WVU/Localization/TrainTest/\n"
     ]
    }
   ],
   "source": [
    "try:\n",
    "    from google.colab import drive\n",
    "    IN_COLAB = True\n",
    "    print('Running on CoLab')\n",
    "    PATH='/content/drive/'\n",
    "    drive.mount(PATH)\n",
    "    DATA_DIR=PATH+'My Drive/data/Localization/TrainTest/'  # must end in \"/\"\n",
    "except:\n",
    "    IN_COLAB = False\n",
    "    DATA_DIR = 'D:/Adjeroh/Localization/TrainTest/'   # Windows\n",
    "    DATA_DIR = '/Users/jasonmiller/WVU/Localization/TrainTest/'    # Mac\n",
    "print(DATA_DIR)"
   ]
  },
  {
   "cell_type": "code",
   "execution_count": 3,
   "id": "3451f201",
   "metadata": {},
   "outputs": [],
   "source": [
    "RCI_FILE =      'CNRCI_noncoding_train_RCI.gc42.csv'\n",
    "SEQUENCE_FILE = 'CNRCI_noncoding_train_transcripts.gc42.csv'"
   ]
  },
  {
   "cell_type": "code",
   "execution_count": 4,
   "id": "8100230f",
   "metadata": {},
   "outputs": [],
   "source": [
    "def load_RCI_data(filepath):\n",
    "    cell_line_names = []\n",
    "    cell_line_maps  = []\n",
    "    with open (filepath,'r') as handle:\n",
    "        header = None\n",
    "        for row in handle:\n",
    "            line = row.strip()\n",
    "            fields = line.split(',')\n",
    "            gene_id = fields[0]\n",
    "            if header is None:\n",
    "                header = row \n",
    "                for i in range(len(fields)): \n",
    "                    cell_line_name = fields[i]\n",
    "                    cell_line_names.append(cell_line_name)\n",
    "                    cell_line_genes = {}\n",
    "                    cell_line_maps.append(cell_line_genes)\n",
    "            else:\n",
    "                for i in range(len(fields)): \n",
    "                    if i>0:  # column 0 is gene_id\n",
    "                        rci_val = fields[i]\n",
    "                        if rci_val != \"nan\":\n",
    "                            real_value = float(rci_val)\n",
    "                            cell_line_genes = cell_line_maps[i]\n",
    "                            cell_line_genes[gene_id] = real_value \n",
    "    return cell_line_names, cell_line_maps"
   ]
  },
  {
   "cell_type": "code",
   "execution_count": 5,
   "id": "52508481",
   "metadata": {},
   "outputs": [],
   "source": [
    "filepath = DATA_DIR + RCI_FILE\n",
    "cl_names,cl_maps = load_RCI_data(filepath)"
   ]
  },
  {
   "cell_type": "code",
   "execution_count": 11,
   "id": "45fa3922",
   "metadata": {},
   "outputs": [
    {
     "name": "stdout",
     "output_type": "stream",
     "text": [
      "gene_id 0\n",
      "A549 1447\n",
      "H1.hESC 3327\n",
      "HeLa.S3 919\n",
      "HepG2 1362\n",
      "HT1080 936\n",
      "HUVEC 1488\n",
      "MCF.7 2156\n",
      "NCI.H460 610\n",
      "NHEK 1080\n",
      "SK.MEL.5 534\n",
      "SK.N.DZ 603\n",
      "SK.N.SH 1647\n",
      "GM12878 1698\n",
      "K562 958\n",
      "IMR.90 390\n"
     ]
    }
   ],
   "source": [
    "for i in range(len(cl_names)):\n",
    "    print(cl_names[i], len(cl_maps[i].keys()))"
   ]
  },
  {
   "cell_type": "code",
   "execution_count": null,
   "id": "51ad4bf6",
   "metadata": {},
   "outputs": [],
   "source": []
  }
 ],
 "metadata": {
  "kernelspec": {
   "display_name": "Python 3 (ipykernel)",
   "language": "python",
   "name": "python3"
  },
  "language_info": {
   "codemirror_mode": {
    "name": "ipython",
    "version": 3
   },
   "file_extension": ".py",
   "mimetype": "text/x-python",
   "name": "python",
   "nbconvert_exporter": "python",
   "pygments_lexer": "ipython3",
   "version": "3.10.0"
  }
 },
 "nbformat": 4,
 "nbformat_minor": 5
}
