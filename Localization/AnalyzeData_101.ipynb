{
 "cells": [
  {
   "cell_type": "markdown",
   "id": "80e2efc7",
   "metadata": {},
   "source": [
    "# Analyze RCI correlations between cell lines"
   ]
  },
  {
   "cell_type": "code",
   "execution_count": 1,
   "id": "1f0d9856",
   "metadata": {},
   "outputs": [
    {
     "name": "stdout",
     "output_type": "stream",
     "text": [
      "2023-01-08 12:35:10.337949\n",
      "Python 3.10.0\n",
      "sklearn 1.1.2\n"
     ]
    }
   ],
   "source": [
    "from datetime import datetime\n",
    "print(datetime.now())\n",
    "from platform import python_version\n",
    "print('Python',python_version())\n",
    "import numpy as np\n",
    "import pandas as pd\n",
    "from matplotlib import pyplot as plt \n",
    "import sklearn   # pip install --upgrade scikit-learn\n",
    "print('sklearn',sklearn.__version__)"
   ]
  },
  {
   "cell_type": "code",
   "execution_count": 2,
   "id": "719e25f2",
   "metadata": {},
   "outputs": [
    {
     "name": "stdout",
     "output_type": "stream",
     "text": [
      "/Users/jasonmiller/WVU/Localization/TrainTest/\n"
     ]
    }
   ],
   "source": [
    "try:\n",
    "    from google.colab import drive\n",
    "    IN_COLAB = True\n",
    "    print('Running on CoLab')\n",
    "    PATH='/content/drive/'\n",
    "    drive.mount(PATH)\n",
    "    DATA_DIR=PATH+'My Drive/data/Localization/TrainTest/'  # must end in \"/\"\n",
    "except:\n",
    "    IN_COLAB = False\n",
    "    DATA_DIR = 'D:/Adjeroh/Localization/TrainTest/'   # Windows\n",
    "    DATA_DIR = '/Users/jasonmiller/WVU/Localization/TrainTest/'    # Mac\n",
    "print(DATA_DIR)"
   ]
  },
  {
   "cell_type": "code",
   "execution_count": 3,
   "id": "bd11cc37",
   "metadata": {},
   "outputs": [],
   "source": [
    "PC_RCI_FILE =      'CNRCI_coding_train_RCI.gc42.csv'\n",
    "NC_RCI_FILE =      'CNRCI_noncoding_train_RCI.gc42.csv'"
   ]
  },
  {
   "cell_type": "code",
   "execution_count": 8,
   "id": "d07a6c3b",
   "metadata": {},
   "outputs": [],
   "source": [
    "def load_RCI_data(filepath):\n",
    "    cell_line_names = []\n",
    "    cell_line_maps  = []\n",
    "    with open (filepath,'r') as handle:\n",
    "        header = None\n",
    "        for row in handle:\n",
    "            line = row.strip()\n",
    "            fields = line.split(',')\n",
    "            gene_id = fields[0]\n",
    "            if header is None:\n",
    "                header = row \n",
    "                for i in range(len(fields)): \n",
    "                    cell_line_name = fields[i]\n",
    "                    cell_line_names.append(cell_line_name)\n",
    "                    cell_line_genes = {}\n",
    "                    cell_line_maps.append(cell_line_genes)\n",
    "            else:\n",
    "                for i in range(len(fields)): \n",
    "                    if i>0:  # column 0 is gene_id\n",
    "                        rci_val = fields[i]\n",
    "                        if rci_val != \"nan\":\n",
    "                            real_value = float(rci_val)\n",
    "                            cell_line_genes = cell_line_maps[i]\n",
    "                            cell_line_genes[gene_id] = real_value \n",
    "    return cell_line_names, cell_line_maps"
   ]
  },
  {
   "cell_type": "code",
   "execution_count": 31,
   "id": "9f3faae6",
   "metadata": {},
   "outputs": [],
   "source": [
    "def all_vs_all_intersection(maps):\n",
    "    NUM = len(maps)\n",
    "    SHOW = 0\n",
    "    for i in range(NUM):\n",
    "        i_genes = set(maps[i].keys())\n",
    "        for j in range(NUM):\n",
    "            j_genes = set(maps[j].keys())\n",
    "            section = i_genes.intersection(j_genes)\n",
    "            SHOW = len(section)\n",
    "            if i==0:\n",
    "                SHOW = len(j_genes)\n",
    "            elif j==0:\n",
    "                SHOW = len(i_genes)\n",
    "            print(SHOW,end=',')\n",
    "        print()"
   ]
  },
  {
   "cell_type": "code",
   "execution_count": 32,
   "id": "56342ab5",
   "metadata": {},
   "outputs": [],
   "source": [
    "def get_union(maps):\n",
    "    union = set()\n",
    "    for i in range(len(maps)):\n",
    "        one_map = maps[i]\n",
    "        genes = one_map.keys()\n",
    "        union = union.union(genes)\n",
    "    return union\n",
    "def get_intersection(maps):\n",
    "    section = set()\n",
    "    for i in range(len(maps)):\n",
    "        one_map = maps[i]\n",
    "        genes = set(one_map.keys())\n",
    "        if i==0:\n",
    "            pass\n",
    "        elif i==1:\n",
    "            section = genes\n",
    "        else:\n",
    "            section = section.intersection(genes)\n",
    "    return section\n",
    "def show_rci_counts_table(names,maps):\n",
    "    for i in range(len(names)):\n",
    "        print('%10s %5d' % (names[i], len(maps[i].keys())))\n",
    "    union = get_union(cl_maps)\n",
    "    print('The union of RCI values contains',len(union),'genes.')\n",
    "    section = get_intersection(cl_maps)\n",
    "    print('The intersection of RCI values contains',len(section),'genes.')\n",
    "    print('All vs all intersection')\n",
    "    all_vs_all_intersection(cl_maps)"
   ]
  },
  {
   "cell_type": "code",
   "execution_count": 33,
   "id": "b37abb8a",
   "metadata": {},
   "outputs": [
    {
     "name": "stdout",
     "output_type": "stream",
     "text": [
      "Coding Genes: number of RCI values per cell line\n",
      "   gene_id     0\n",
      "      A549 10338\n",
      "   H1.hESC 13000\n",
      "   HeLa.S3  6983\n",
      "     HepG2  9424\n",
      "    HT1080  9575\n",
      "     HUVEC 10257\n",
      "     MCF.7 11060\n",
      "  NCI.H460  8441\n",
      "      NHEK  8738\n",
      "  SK.MEL.5  8407\n",
      "   SK.N.DZ  8510\n",
      "   SK.N.SH  9689\n",
      "   GM12878  9931\n",
      "      K562  6676\n",
      "    IMR.90  4001\n",
      "The union of RCI values contains 13978 genes.\n",
      "The intersection of RCI values contains 1425 genes.\n",
      "All vs all intersection\n",
      "0,10338,13000,6983,9424,9575,10257,11060,8441,8738,8407,8510,9689,9931,6676,4001,\n",
      "10338,10338,10111,6397,8366,8617,9048,9494,7775,7615,7652,7582,8466,8524,6116,3718,\n",
      "13000,10111,13000,6852,9210,9387,10047,10779,8339,8489,8298,8441,9457,9601,6568,3951,\n",
      "6983,6397,6852,6983,6116,6241,6447,6642,5707,5782,5627,5510,6060,6174,4794,2729,\n",
      "9424,8366,9210,6116,9424,8004,8426,8737,7265,7242,7224,7161,7858,8059,5948,3411,\n",
      "9575,8617,9387,6241,8004,9575,8850,8942,7689,7467,7688,7549,8198,8305,5967,3488,\n",
      "10257,9048,10047,6447,8426,8850,10257,9457,7892,7795,7814,7778,8641,8690,6206,3663,\n",
      "11060,9494,10779,6642,8737,8942,9457,11060,8073,8027,7999,7965,8802,8962,6319,3701,\n",
      "8441,7775,8339,5707,7265,7689,7892,8073,8441,6683,7022,6900,7283,7432,5447,3080,\n",
      "8738,7615,8489,5782,7242,7467,7795,8027,6683,8738,6613,6469,7371,7364,5537,3332,\n",
      "8407,7652,8298,5627,7224,7688,7814,7999,7022,6613,8407,6891,7243,7445,5461,3066,\n",
      "8510,7582,8441,5510,7161,7549,7778,7965,6900,6469,6891,8510,7280,7388,5372,3021,\n",
      "9689,8466,9457,6060,7858,8198,8641,8802,7283,7371,7243,7280,9689,8086,5871,3626,\n",
      "9931,8524,9601,6174,8059,8305,8690,8962,7432,7364,7445,7388,8086,9931,6040,3394,\n",
      "6676,6116,6568,4794,5948,5967,6206,6319,5447,5537,5461,5372,5871,6040,6676,2740,\n",
      "4001,3718,3951,2729,3411,3488,3663,3701,3080,3332,3066,3021,3626,3394,2740,4001,\n"
     ]
    }
   ],
   "source": [
    "filepath = DATA_DIR + PC_RCI_FILE\n",
    "cl_names,cl_maps = load_RCI_data(filepath)\n",
    "print('Coding Genes: number of RCI values per cell line')\n",
    "show_rci_counts_table(cl_names,cl_maps)"
   ]
  },
  {
   "cell_type": "code",
   "execution_count": 34,
   "id": "5446efaa",
   "metadata": {},
   "outputs": [
    {
     "name": "stdout",
     "output_type": "stream",
     "text": [
      "Noncoding Genes: number of RCI values per cell line\n",
      "   gene_id     0\n",
      "      A549  1447\n",
      "   H1.hESC  3327\n",
      "   HeLa.S3   919\n",
      "     HepG2  1362\n",
      "    HT1080   936\n",
      "     HUVEC  1488\n",
      "     MCF.7  2156\n",
      "  NCI.H460   610\n",
      "      NHEK  1080\n",
      "  SK.MEL.5   534\n",
      "   SK.N.DZ   603\n",
      "   SK.N.SH  1647\n",
      "   GM12878  1698\n",
      "      K562   958\n",
      "    IMR.90   390\n",
      "The union of RCI values contains 4662 genes.\n",
      "The intersection of RCI values contains 19 genes.\n",
      "All vs all intersection\n",
      "0,1447,3327,919,1362,936,1488,2156,610,1080,534,603,1647,1698,958,390,\n",
      "1447,1447,1240,504,750,590,815,1057,433,624,366,377,883,827,524,287,\n",
      "3327,1240,3327,770,1158,806,1249,1749,572,914,477,557,1382,1375,827,347,\n",
      "919,504,770,919,487,356,500,664,256,393,228,248,531,534,353,146,\n",
      "1362,750,1158,487,1362,560,771,964,426,613,367,398,826,835,521,250,\n",
      "936,590,806,356,560,936,634,721,395,497,338,355,661,641,397,218,\n",
      "1488,815,1249,500,771,634,1488,1030,441,676,391,428,928,892,558,275,\n",
      "2156,1057,1749,664,964,721,1030,2156,510,801,426,484,1120,1123,673,319,\n",
      "610,433,572,256,426,395,441,510,610,362,262,278,443,456,274,134,\n",
      "1080,624,914,393,613,497,676,801,362,1080,317,324,716,664,409,232,\n",
      "534,366,477,228,367,338,391,426,262,317,534,239,399,386,255,142,\n",
      "603,377,557,248,398,355,428,484,278,324,239,603,440,431,275,147,\n",
      "1647,883,1382,531,826,661,928,1120,443,716,399,440,1647,906,582,304,\n",
      "1698,827,1375,534,835,641,892,1123,456,664,386,431,906,1698,603,266,\n",
      "958,524,827,353,521,397,558,673,274,409,255,275,582,603,958,171,\n",
      "390,287,347,146,250,218,275,319,134,232,142,147,304,266,171,390,\n"
     ]
    }
   ],
   "source": [
    "filepath = DATA_DIR + NC_RCI_FILE\n",
    "cl_names,cl_maps = load_RCI_data(filepath)\n",
    "print('Noncoding Genes: number of RCI values per cell line')\n",
    "show_rci_counts_table(cl_names,cl_maps)"
   ]
  },
  {
   "cell_type": "code",
   "execution_count": null,
   "id": "963a716a",
   "metadata": {},
   "outputs": [],
   "source": []
  },
  {
   "cell_type": "code",
   "execution_count": null,
   "id": "f6bf1903",
   "metadata": {},
   "outputs": [],
   "source": []
  }
 ],
 "metadata": {
  "kernelspec": {
   "display_name": "Python 3 (ipykernel)",
   "language": "python",
   "name": "python3"
  },
  "language_info": {
   "codemirror_mode": {
    "name": "ipython",
    "version": 3
   },
   "file_extension": ".py",
   "mimetype": "text/x-python",
   "name": "python",
   "nbconvert_exporter": "python",
   "pygments_lexer": "ipython3",
   "version": "3.10.0"
  }
 },
 "nbformat": 4,
 "nbformat_minor": 5
}
