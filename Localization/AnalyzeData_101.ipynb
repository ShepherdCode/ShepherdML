{
 "cells": [
  {
   "cell_type": "markdown",
   "id": "b401c58b",
   "metadata": {},
   "source": [
    "# Analyze RCI correlations between cell lines"
   ]
  },
  {
   "cell_type": "code",
   "execution_count": 1,
   "id": "3eb047d0",
   "metadata": {},
   "outputs": [
    {
     "name": "stdout",
     "output_type": "stream",
     "text": [
      "2023-01-08 12:35:10.337949\n",
      "Python 3.10.0\n",
      "sklearn 1.1.2\n"
     ]
    }
   ],
   "source": [
    "from datetime import datetime\n",
    "print(datetime.now())\n",
    "from platform import python_version\n",
    "print('Python',python_version())\n",
    "import numpy as np\n",
    "import pandas as pd\n",
    "from matplotlib import pyplot as plt \n",
    "import sklearn   # pip install --upgrade scikit-learn\n",
    "print('sklearn',sklearn.__version__)"
   ]
  },
  {
   "cell_type": "code",
   "execution_count": 2,
   "id": "7b6876f9",
   "metadata": {},
   "outputs": [
    {
     "name": "stdout",
     "output_type": "stream",
     "text": [
      "/Users/jasonmiller/WVU/Localization/TrainTest/\n"
     ]
    }
   ],
   "source": [
    "try:\n",
    "    from google.colab import drive\n",
    "    IN_COLAB = True\n",
    "    print('Running on CoLab')\n",
    "    PATH='/content/drive/'\n",
    "    drive.mount(PATH)\n",
    "    DATA_DIR=PATH+'My Drive/data/Localization/TrainTest/'  # must end in \"/\"\n",
    "except:\n",
    "    IN_COLAB = False\n",
    "    DATA_DIR = 'D:/Adjeroh/Localization/TrainTest/'   # Windows\n",
    "    DATA_DIR = '/Users/jasonmiller/WVU/Localization/TrainTest/'    # Mac\n",
    "print(DATA_DIR)"
   ]
  },
  {
   "cell_type": "code",
   "execution_count": 3,
   "id": "d461af4f",
   "metadata": {},
   "outputs": [],
   "source": [
    "PC_RCI_FILE =      'CNRCI_coding_train_RCI.gc42.csv'\n",
    "NC_RCI_FILE =      'CNRCI_noncoding_train_RCI.gc42.csv'"
   ]
  },
  {
   "cell_type": "code",
   "execution_count": 8,
   "id": "b8e47afa",
   "metadata": {},
   "outputs": [],
   "source": [
    "def load_RCI_data(filepath):\n",
    "    cell_line_names = []\n",
    "    cell_line_maps  = []\n",
    "    with open (filepath,'r') as handle:\n",
    "        header = None\n",
    "        for row in handle:\n",
    "            line = row.strip()\n",
    "            fields = line.split(',')\n",
    "            gene_id = fields[0]\n",
    "            if header is None:\n",
    "                header = row \n",
    "                for i in range(len(fields)): \n",
    "                    cell_line_name = fields[i]\n",
    "                    cell_line_names.append(cell_line_name)\n",
    "                    cell_line_genes = {}\n",
    "                    cell_line_maps.append(cell_line_genes)\n",
    "            else:\n",
    "                for i in range(len(fields)): \n",
    "                    if i>0:  # column 0 is gene_id\n",
    "                        rci_val = fields[i]\n",
    "                        if rci_val != \"nan\":\n",
    "                            real_value = float(rci_val)\n",
    "                            cell_line_genes = cell_line_maps[i]\n",
    "                            cell_line_genes[gene_id] = real_value \n",
    "    return cell_line_names, cell_line_maps"
   ]
  },
  {
   "cell_type": "code",
   "execution_count": 20,
   "id": "6cb71343",
   "metadata": {},
   "outputs": [],
   "source": [
    "def get_union(maps):\n",
    "    union = set()\n",
    "    for i in range(len(maps)):\n",
    "        one_map = maps[i]\n",
    "        genes = one_map.keys()\n",
    "        union = union.union(genes)\n",
    "    return union\n",
    "def get_intersection(maps):\n",
    "    section = set()\n",
    "    for i in range(len(maps)):\n",
    "        one_map = maps[i]\n",
    "        genes = set(one_map.keys())\n",
    "        if i==0:\n",
    "            pass\n",
    "        elif i==1:\n",
    "            section = genes\n",
    "        else:\n",
    "            section = section.intersection(genes)\n",
    "    return section\n",
    "def show_rci_counts_table(names,maps):\n",
    "    for i in range(len(names)):\n",
    "        print('%10s %5d' % (names[i], len(maps[i].keys())))\n",
    "    union = get_union(cl_maps)\n",
    "    print('The union of RCI values contains',len(union),'genes.')\n",
    "    section = get_intersection(cl_maps)\n",
    "    print('The intersection of RCI values contains',len(section),'genes.')"
   ]
  },
  {
   "cell_type": "code",
   "execution_count": 21,
   "id": "d3c1fb13",
   "metadata": {},
   "outputs": [
    {
     "name": "stdout",
     "output_type": "stream",
     "text": [
      "Coding Genes: number of RCI values per cell line\n",
      "   gene_id     0\n",
      "      A549 10338\n",
      "   H1.hESC 13000\n",
      "   HeLa.S3  6983\n",
      "     HepG2  9424\n",
      "    HT1080  9575\n",
      "     HUVEC 10257\n",
      "     MCF.7 11060\n",
      "  NCI.H460  8441\n",
      "      NHEK  8738\n",
      "  SK.MEL.5  8407\n",
      "   SK.N.DZ  8510\n",
      "   SK.N.SH  9689\n",
      "   GM12878  9931\n",
      "      K562  6676\n",
      "    IMR.90  4001\n",
      "The union of RCI values contains 13978 genes.\n",
      "The intersection of RCI values contains 1425 genes.\n"
     ]
    }
   ],
   "source": [
    "filepath = DATA_DIR + PC_RCI_FILE\n",
    "cl_names,cl_maps = load_RCI_data(filepath)\n",
    "print('Coding Genes: number of RCI values per cell line')\n",
    "show_rci_counts_table(cl_names,cl_maps)"
   ]
  },
  {
   "cell_type": "code",
   "execution_count": 22,
   "id": "8d595212",
   "metadata": {},
   "outputs": [
    {
     "name": "stdout",
     "output_type": "stream",
     "text": [
      "Noncoding Genes: number of RCI values per cell line\n",
      "   gene_id     0\n",
      "      A549  1447\n",
      "   H1.hESC  3327\n",
      "   HeLa.S3   919\n",
      "     HepG2  1362\n",
      "    HT1080   936\n",
      "     HUVEC  1488\n",
      "     MCF.7  2156\n",
      "  NCI.H460   610\n",
      "      NHEK  1080\n",
      "  SK.MEL.5   534\n",
      "   SK.N.DZ   603\n",
      "   SK.N.SH  1647\n",
      "   GM12878  1698\n",
      "      K562   958\n",
      "    IMR.90   390\n",
      "The union of RCI values contains 4662 genes.\n",
      "The intersection of RCI values contains 19 genes.\n"
     ]
    }
   ],
   "source": [
    "filepath = DATA_DIR + NC_RCI_FILE\n",
    "cl_names,cl_maps = load_RCI_data(filepath)\n",
    "print('Noncoding Genes: number of RCI values per cell line')\n",
    "show_rci_counts_table(cl_names,cl_maps)"
   ]
  },
  {
   "cell_type": "code",
   "execution_count": null,
   "id": "68774ec2",
   "metadata": {},
   "outputs": [],
   "source": []
  }
 ],
 "metadata": {
  "kernelspec": {
   "display_name": "Python 3 (ipykernel)",
   "language": "python",
   "name": "python3"
  },
  "language_info": {
   "codemirror_mode": {
    "name": "ipython",
    "version": 3
   },
   "file_extension": ".py",
   "mimetype": "text/x-python",
   "name": "python",
   "nbconvert_exporter": "python",
   "pygments_lexer": "ipython3",
   "version": "3.10.0"
  }
 },
 "nbformat": 4,
 "nbformat_minor": 5
}
