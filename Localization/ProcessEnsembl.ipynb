{
 "cells": [
  {
   "cell_type": "markdown",
   "id": "9785c0a6",
   "metadata": {},
   "source": [
    "# GenCode / Ensembl\n",
    "The current release for human is Release 41 (GRCh38.p13).\n",
    "All GenCode annotataion refers to Ensembl IDs.\n",
    "The sequence download pages at GenCode contain links to the Ensembl \n",
    "[FTP](https://useast.ensembl.org/info/data/ftp/index.html).  \n",
    "\n",
    "Human sequence in FASTA: \n",
    "1. genomic DNA\n",
    "1. gene cDNA (with introns) \n",
    "1. transcript [CDS](http://ftp.ensembl.org/pub/release-107/fasta/homo_sapiens/cds/) \n",
    "(without introns) \n",
    "1. noncoding [ncRNA](http://ftp.ensembl.org/pub/release-107/fasta/homo_sapiens/ncrna/)   \n",
    "1. Human gene annotation in [GFF](https://www.gencodegenes.org/human/)\n"
   ]
  },
  {
   "cell_type": "markdown",
   "id": "64d5d81c",
   "metadata": {},
   "source": [
    "Process the human cds sequence file.\n",
    "\n",
    "Typical defline of cds file:    \n",
    "`ENST00000631435.1 cds chromosome:GRCh38:CHR_HSCHR7_2_CTG6:142847306:142847317:1 gene:ENSG00000282253.1 gene_biotype:TR_D_gene transcript_biotype:TR_D_gene gene_symbol:TRBD1 description:T cell receptor beta diversity 1 [Source:HGNC Symbol;Acc:HGNC:12158]`\n",
    "\n",
    "Typical defline of ncrna file:   \n",
    "`>ENST00000516993.1 ncrna chromosome:GRCh38:1:26593940:26594041:-1 gene:ENSG00000252802.1 gene_biotype:misc_RNA transcript_biotype:misc_RNA gene_symbol:Y_RNA description:Y RNA [Source:RFAM;Acc:RF00019]`"
   ]
  },
  {
   "cell_type": "code",
   "execution_count": 12,
   "id": "dc83e1fb",
   "metadata": {},
   "outputs": [],
   "source": [
    "class fasta_reader():\n",
    "    def __init__(self,infile,outfile):\n",
    "        self.infile = infile\n",
    "        self.outfile = outfile\n",
    "    def accumulate_types(self,biotype):\n",
    "        if biotype in self.type_dict:\n",
    "            self.type_dict[biotype] = self.type_dict[biotype]+1\n",
    "        else:\n",
    "            self.type_dict[biotype]=1\n",
    "    def print_one_sequence(self,handle,tran,gene,biotype,seq):\n",
    "        if seq is not None:\n",
    "            self.accumulate_types(biotype)\n",
    "            outstr = ','.join((tran,gene,seq))\n",
    "            handle.write(outstr+'\\n')\n",
    "    def fasta_to_csv(self,):\n",
    "        FASTA_DEFCHAR = '>'\n",
    "        self.type_dict={}\n",
    "        with open(self.outfile,'w') as handle:\n",
    "            with open(self.infile,'r') as fasta:\n",
    "                transcript_id = None\n",
    "                gene_id = None\n",
    "                biotype = None\n",
    "                next_seq = None\n",
    "                for line in fasta:\n",
    "                    if line[0]==FASTA_DEFCHAR:\n",
    "                        self.print_one_sequence(handle,transcript_id,gene_id,biotype,next_seq)\n",
    "                        desc_index = line.find(' description:')\n",
    "                        if desc_index>0:\n",
    "                            desc_str = line[desc_index+1:]\n",
    "                            line = line[:desc_index]\n",
    "                        tokens = line.split(' ')\n",
    "                        transcript_id = tokens[0][1:]\n",
    "                        gene_id = tokens[3][5:]\n",
    "                        longbiotype = tokens[5].strip()\n",
    "                        biotype = longbiotype.split(':')[1]\n",
    "                        next_seq = \"\"\n",
    "                    else:\n",
    "                        next_seq = next_seq + line.strip()\n",
    "            self.print_one_sequence(handle,transcript_id,gene_id,biotype,next_seq)\n",
    "    def summary_report(self):\n",
    "        print(\"Transcript biotypes report:\")\n",
    "        print(self.type_dict)"
   ]
  },
  {
   "cell_type": "code",
   "execution_count": 13,
   "id": "f1d3241d",
   "metadata": {},
   "outputs": [
    {
     "name": "stdout",
     "output_type": "stream",
     "text": [
      "Transcript biotypes report:\n",
      "{'protein_coding': 7, 'nonsense_mediated_decay': 2}\n"
     ]
    }
   ],
   "source": [
    "# From https://ftp.ensembl.org/pub/release-107/fasta/homo_sapiens/cds/\n",
    "DATA_DIR = '/Users/jasonmiller/WVU/MDPI/GenCode/'\n",
    "FASTA_FILENAME='Homo_sapiens.GRCh38.cds.all.fa'\n",
    "FASTA_FILENAME='test.cds.fa'   # just for testing\n",
    "CSV_FILENAME='Homo_sapiens.GRCh38.cds.csv'\n",
    "infile = DATA_DIR + FASTA_FILENAME\n",
    "outfile = DATA_DIR + CSV_FILENAME\n",
    "converter = fasta_reader(infile,outfile)\n",
    "converter.fasta_to_csv()\n",
    "converter.summary_report()"
   ]
  },
  {
   "cell_type": "code",
   "execution_count": 15,
   "id": "03c34a41",
   "metadata": {},
   "outputs": [
    {
     "name": "stdout",
     "output_type": "stream",
     "text": [
      "Transcript biotypes report:\n",
      "{'misc_RNA': 18}\n"
     ]
    }
   ],
   "source": [
    "# From http://ftp.ensembl.org/pub/release-107/fasta/homo_sapiens/ncrna/\n",
    "DATA_DIR = '/Users/jasonmiller/WVU/MDPI/GenCode/'\n",
    "FASTA_FILENAME='Homo_sapiens.GRCh38.ncrna.fa'\n",
    "FASTA_FILENAME='test.ncrna.fa'   # just for testing\n",
    "CSV_FILENAME='Homo_sapiens.GRCh38.ncrna.csv'\n",
    "infile = DATA_DIR + FASTA_FILENAME\n",
    "outfile = DATA_DIR + CSV_FILENAME\n",
    "converter = fasta_reader(infile,outfile)\n",
    "converter.fasta_to_csv()\n",
    "converter.summary_report()"
   ]
  },
  {
   "cell_type": "code",
   "execution_count": null,
   "id": "1c8bfc4f",
   "metadata": {},
   "outputs": [],
   "source": []
  }
 ],
 "metadata": {
  "kernelspec": {
   "display_name": "Python 3 (ipykernel)",
   "language": "python",
   "name": "python3"
  },
  "language_info": {
   "codemirror_mode": {
    "name": "ipython",
    "version": 3
   },
   "file_extension": ".py",
   "mimetype": "text/x-python",
   "name": "python",
   "nbconvert_exporter": "python",
   "pygments_lexer": "ipython3",
   "version": "3.10.0"
  }
 },
 "nbformat": 4,
 "nbformat_minor": 5
}
