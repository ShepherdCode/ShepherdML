{
 "cells": [
  {
   "cell_type": "code",
   "execution_count": 1,
   "id": "cdf9ab29",
   "metadata": {},
   "outputs": [],
   "source": [
    "import numpy as np\n",
    "DATA_DIR = '/Users/jasonmiller/WVU/Localization/TrainTest/TrainTest_ver43/'"
   ]
  },
  {
   "cell_type": "code",
   "execution_count": 2,
   "id": "b4efe72a",
   "metadata": {},
   "outputs": [],
   "source": [
    "def line_average(line):\n",
    "    fields = line.split(',')\n",
    "    fields[0] = 'nan'   # gene id\n",
    "    fields[2] = 'nan'   # H1.hESC\n",
    "    numbers = [float(x) for x in fields if x!='nan']\n",
    "    if len(numbers)==0:\n",
    "        return None,None\n",
    "    avg = np.mean(numbers)\n",
    "    count=len(numbers)\n",
    "    return avg,count"
   ]
  },
  {
   "cell_type": "code",
   "execution_count": 3,
   "id": "c5a39ed5",
   "metadata": {},
   "outputs": [],
   "source": [
    "def file_average(filename):\n",
    "    with open (filename, 'r') as fin:\n",
    "        header = None\n",
    "        line_averages = []\n",
    "        line_values = 0\n",
    "        for line in fin:\n",
    "            if header is None:\n",
    "                header = line\n",
    "            else:\n",
    "                line = line.strip()\n",
    "                line_avg,line_count = line_average(line)\n",
    "                if line_avg is not None and not np.isnan(line_avg):\n",
    "                    line_averages.append(line_avg)\n",
    "                    line_values += line_count\n",
    "        grand_avg = np.mean(line_averages)\n",
    "        stdev = np.std(line_averages)\n",
    "        avg_count = line_values / len(line_averages)\n",
    "        print(filename,len(line_averages))\n",
    "        print(grand_avg,stdev,avg_count)"
   ]
  },
  {
   "cell_type": "code",
   "execution_count": 4,
   "id": "c3403f68",
   "metadata": {},
   "outputs": [],
   "source": [
    "train_file = DATA_DIR+'train.lncRNA_RCI.csv'\n",
    "test_file = DATA_DIR+'test.lncRNA_RCI.csv'\n",
    "all_file = DATA_DIR+'all.lncRNA_RCI.csv'"
   ]
  },
  {
   "cell_type": "code",
   "execution_count": 5,
   "id": "c6be51a7",
   "metadata": {},
   "outputs": [
    {
     "name": "stdout",
     "output_type": "stream",
     "text": [
      "/Users/jasonmiller/WVU/Localization/TrainTest/TrainTest_ver43/all.lncRNA_RCI.csv 5465\n",
      "-1.273082409823492 1.855972573554765 4.028728270814272\n"
     ]
    }
   ],
   "source": [
    "file_average(all_file)"
   ]
  },
  {
   "cell_type": "code",
   "execution_count": 6,
   "id": "b8af99cd",
   "metadata": {},
   "outputs": [
    {
     "name": "stdout",
     "output_type": "stream",
     "text": [
      "/Users/jasonmiller/WVU/Localization/TrainTest/TrainTest_ver43/train.lncRNA_RCI.csv 4369\n",
      "-1.2774660662835888 1.8553031375040596 4.082627603570611\n"
     ]
    }
   ],
   "source": [
    "file_average(train_file)"
   ]
  },
  {
   "cell_type": "code",
   "execution_count": 7,
   "id": "fe6edeff",
   "metadata": {},
   "outputs": [
    {
     "name": "stdout",
     "output_type": "stream",
     "text": [
      "/Users/jasonmiller/WVU/Localization/TrainTest/TrainTest_ver43/test.lncRNA_RCI.csv 1096\n",
      "-1.2556077792813738 1.8585360025160138 3.8138686131386863\n"
     ]
    }
   ],
   "source": [
    "file_average(test_file)"
   ]
  }
 ],
 "metadata": {
  "kernelspec": {
   "display_name": "Python 3 (ipykernel)",
   "language": "python",
   "name": "python3"
  },
  "language_info": {
   "codemirror_mode": {
    "name": "ipython",
    "version": 3
   },
   "file_extension": ".py",
   "mimetype": "text/x-python",
   "name": "python",
   "nbconvert_exporter": "python",
   "pygments_lexer": "ipython3",
   "version": "3.10.0"
  }
 },
 "nbformat": 4,
 "nbformat_minor": 5
}
