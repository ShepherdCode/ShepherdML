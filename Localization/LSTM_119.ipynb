{
  "cells": [
    {
      "cell_type": "markdown",
      "metadata": {
        "id": "PG-tGRnlFLA3"
      },
      "source": [
        "# LSTM\n",
        "Try LSTM(4) with Integer K-mers, Embedding, Mask Zero, and Return Sequences = False."
      ]
    },
    {
      "cell_type": "code",
      "execution_count": 1,
      "metadata": {
        "colab": {
          "base_uri": "https://localhost:8080/"
        },
        "id": "0RmwUsVLFLA6",
        "outputId": "77713961-403b-44eb-b04c-c8f097059ca4"
      },
      "outputs": [
        {
          "output_type": "stream",
          "name": "stdout",
          "text": [
            "2022-12-12 00:18:47.764755\n",
            "Python 3.8.16\n",
            "sklearn 1.0.2\n"
          ]
        }
      ],
      "source": [
        "from datetime import datetime\n",
        "print(datetime.now())\n",
        "from platform import python_version\n",
        "print('Python',python_version())\n",
        "import numpy as np\n",
        "import pandas as pd\n",
        "from matplotlib import pyplot as plt \n",
        "import sklearn   # pip install --upgrade scikit-learn\n",
        "print('sklearn',sklearn.__version__)"
      ]
    },
    {
      "cell_type": "markdown",
      "metadata": {
        "id": "tUtGXPrcFLA8"
      },
      "source": [
        "We prevously used sklearn.model_selection.ShuffleSplit   \n",
        "Now we avoid it due to this note in the \n",
        "[documentation](https://scikit-learn.org/stable/modules/generated/sklearn.model_selection.ShuffleSplit.html):\n",
        "Note: contrary to other cross-validation strategies, random splits do not guarantee that all folds will be different, although this is still very likely for sizeable datasets."
      ]
    },
    {
      "cell_type": "code",
      "execution_count": 2,
      "metadata": {
        "id": "PRX-UEr8FLA8"
      },
      "outputs": [],
      "source": [
        "import tensorflow as tf\n",
        "dt='float32'\n",
        "tf.keras.backend.set_floatx('float32')\n",
        "tf.random.set_seed(42) \n",
        "\n",
        "from tensorflow import keras\n",
        "from sklearn.model_selection import KFold\n",
        "#from sklearn.preprocessing import OneHotEncoder\n",
        "from keras.models import Sequential\n",
        "from keras.layers import Masking\n",
        "from keras.layers import Embedding\n",
        "from keras.layers import Bidirectional\n",
        "from keras.layers import LSTM\n",
        "from keras.layers import Dense\n",
        "from keras.layers import Dropout\n",
        "from keras.losses import BinaryCrossentropy\n",
        "\n",
        "K=4\n",
        "EPOCHS=10\n",
        "FOLDS=5  \n",
        "BREAK = False   # break after first fold\n",
        "MINLEN=1000\n",
        "MAXLEN=4000   # this is problematic as some genes will be excluded entirely or partially"
      ]
    },
    {
      "cell_type": "code",
      "execution_count": 3,
      "metadata": {
        "colab": {
          "base_uri": "https://localhost:8080/"
        },
        "id": "OlzN9OdsFWEU",
        "outputId": "22a4c561-d814-4545-882d-5ba9ad85b043"
      },
      "outputs": [
        {
          "output_type": "stream",
          "name": "stdout",
          "text": [
            "Running on CoLab\n",
            "Mounted at /content/drive/\n",
            "/content/drive/My Drive/data/Localization/TrainTest/\n"
          ]
        }
      ],
      "source": [
        "try:\n",
        "    from google.colab import drive\n",
        "    IN_COLAB = True\n",
        "    print('Running on CoLab')\n",
        "    PATH='/content/drive/'\n",
        "    drive.mount(PATH)\n",
        "    DATA_DIR=PATH+'My Drive/data/Localization/TrainTest/'  # must end in \"/\"\n",
        "except:\n",
        "    IN_COLAB = False\n",
        "    DATA_DIR = 'D:/Adjeroh/Localization/TrainTest/'   # Windows\n",
        "    DATA_DIR = '/Users/jasonmiller/WVU/Localization/TrainTest/'    # Mac\n",
        "print(DATA_DIR)"
      ]
    },
    {
      "cell_type": "code",
      "execution_count": 4,
      "metadata": {
        "id": "LnkpVKdMFLA-"
      },
      "outputs": [],
      "source": [
        "GENES_FILE =    'CNRCI_noncoding_train_genes.csv'\n",
        "RCI_FILE =      'CNRCI_noncoding_train_RCI.gc42.csv'\n",
        "SEQUENCE_FILE = 'CNRCI_noncoding_train_transcripts.gc42.csv'\n",
        "COUNTS_FILE=    'CNRCI_noncoding_train_counts.K4.gc42.csv'"
      ]
    },
    {
      "cell_type": "code",
      "execution_count": 5,
      "metadata": {
        "colab": {
          "base_uri": "https://localhost:8080/"
        },
        "id": "e3p4QzQJFLA_",
        "outputId": "0e21c1ba-a06e-42f9-a6db-cce0ed9c49bd"
      },
      "outputs": [
        {
          "output_type": "stream",
          "name": "stdout",
          "text": [
            "Cell line for today: 1 = H1.hESC\n"
          ]
        }
      ],
      "source": [
        "def get_ordered_list():\n",
        "    ordered_list = \\\n",
        "    ['A549',\\\n",
        "      'H1.hESC',\\\n",
        "      'HeLa.S3',\\\n",
        "      'HepG2',\\\n",
        "      'HT1080',\\\n",
        "      'HUVEC',\\\n",
        "      'MCF.7',\\\n",
        "      'NCI.H460',\\\n",
        "      'NHEK',\\\n",
        "      'SK.MEL.5',\\\n",
        "      'SK.N.DZ',\\\n",
        "      'SK.N.SH',\\\n",
        "      'GM12878',\\\n",
        "      'K562',\\\n",
        "      'IMR.90']\n",
        "    return ordered_list\n",
        "CELL_LINE_NUMBER=1\n",
        "all_cell_lines = get_ordered_list()\n",
        "cell_line_name = all_cell_lines[CELL_LINE_NUMBER]\n",
        "print('Cell line for today:',CELL_LINE_NUMBER,'=',cell_line_name)"
      ]
    },
    {
      "cell_type": "markdown",
      "metadata": {
        "id": "UtqdpJOxFLBA"
      },
      "source": [
        "## Data Load"
      ]
    },
    {
      "cell_type": "code",
      "execution_count": 6,
      "metadata": {
        "colab": {
          "base_uri": "https://localhost:8080/"
        },
        "id": "cYoYDc93FLBB",
        "outputId": "7fdc9975-fa69-4a19-fc6e-1d1a9713dd2a"
      },
      "outputs": [
        {
          "output_type": "stream",
          "name": "stdout",
          "text": [
            "2022-12-12 00:20:02.398268\n",
            "Num RCI: 3327\n",
            "[('ENSG00000099869', 1.0), ('ENSG00000116652', 1.65208), ('ENSG00000117242', -0.793877)]\n"
          ]
        }
      ],
      "source": [
        "print(datetime.now())\n",
        "# labels\n",
        "filepath = DATA_DIR+RCI_FILE\n",
        "gene_to_rci = {}\n",
        "with open (filepath,'r') as handle:\n",
        "    header = None\n",
        "    for row in handle:\n",
        "        if header is None:\n",
        "            header = row\n",
        "        else:\n",
        "            line = row.strip()\n",
        "            fields = line.split(',')\n",
        "            gene_id = fields[0]\n",
        "            rci_val = fields[CELL_LINE_NUMBER+1]\n",
        "            # Could implement Gudenas style threshold here\n",
        "            if rci_val != \"nan\":\n",
        "                gene_to_rci[gene_id] = float(rci_val)\n",
        "print('Num RCI:', len(gene_to_rci.keys()))\n",
        "print(list(gene_to_rci.items())[:3])\n",
        "all_genes = list(gene_to_rci.keys())"
      ]
    },
    {
      "cell_type": "code",
      "execution_count": 7,
      "metadata": {
        "colab": {
          "base_uri": "https://localhost:8080/"
        },
        "id": "bNrOKHddFycs",
        "outputId": "4698d4fd-0f9b-4b08-ebb4-852e1a5b6217"
      },
      "outputs": [
        {
          "output_type": "stream",
          "name": "stdout",
          "text": [
            "[1, 1]\n",
            "[20, 16]\n",
            "[63, 57]\n",
            "[64, 0]\n"
          ]
        }
      ],
      "source": [
        "def seq_to_kmers(rna,K):\n",
        "    VALS = {'A':0, 'C':1, 'G':2, 'T':3}\n",
        "    length = len(rna)\n",
        "    vec=[]\n",
        "    for i in range(length-K+1):\n",
        "        value = 0\n",
        "        for j in range(K):\n",
        "            value *= 4   \n",
        "            nextnuc = rna[i+j]\n",
        "            if nextnuc=='N':\n",
        "                value = -1   # indicate an N\n",
        "                break\n",
        "            nucval = VALS[nextnuc]\n",
        "            value += nucval\n",
        "        value += 1   # NNN => 0, AAA => 1\n",
        "        vec.append(value)\n",
        "    return vec\n",
        "print(seq_to_kmers('AAAA',3))\n",
        "print(seq_to_kmers('CATT',3))\n",
        "print(seq_to_kmers('TTGA',3))\n",
        "print(seq_to_kmers('TTTN',3))"
      ]
    },
    {
      "cell_type": "code",
      "execution_count": 8,
      "metadata": {
        "colab": {
          "base_uri": "https://localhost:8080/"
        },
        "id": "ooyTeQr-FLBB",
        "outputId": "7f2b367c-e1f8-4579-c4ee-b8b2dace37c8"
      },
      "outputs": [
        {
          "output_type": "stream",
          "name": "stdout",
          "text": [
            "2022-12-12 00:20:05.418014\n",
            "Load sequence\n",
            "2022-12-12 00:20:29.490594\n",
            "Num IDs: 8564\n",
            "Num labels: 8564\n",
            "Num counts: 8564\n"
          ]
        }
      ],
      "source": [
        "print(datetime.now())\n",
        "print('Load sequence')\n",
        "filepath = DATA_DIR+SEQUENCE_FILE\n",
        "labels=[]\n",
        "allids=[]\n",
        "allseq=[]\n",
        "NREPEAT = str('N'*MAXLEN)\n",
        "with open (filepath,'r') as handle:\n",
        "    header = None\n",
        "    for row in handle:\n",
        "        if header is None:\n",
        "            header = row\n",
        "        else:\n",
        "            line    = row.strip()\n",
        "            fields  = line.split(',')\n",
        "            tran_id = fields[0]  # with version number\n",
        "            gene_id = fields[1]        # without version number\n",
        "            seq_len = int(fields[3])\n",
        "            seq_txt = fields[4]\n",
        "            if seq_len>=MINLEN and seq_len<=MAXLEN and gene_id in gene_to_rci.keys():\n",
        "                rci_val = gene_to_rci[gene_id]\n",
        "                allids.append( (gene_id,tran_id) )\n",
        "                labels.append(rci_val)\n",
        "                if seq_len<MAXLEN:\n",
        "                    seq_txt = seq_txt + NREPEAT\n",
        "                    seq_txt = seq_txt[:MAXLEN]\n",
        "                hot_vec = seq_to_kmers(seq_txt,K)\n",
        "                allseq.append(hot_vec)\n",
        "print(datetime.now())\n",
        "print('Num IDs:',len(allids))\n",
        "#print('Examples:',[allids[x] for x in [10, 20, 30, 40]] )\n",
        "print('Num labels:',len(labels))\n",
        "#print('Examples:',[labels[x] for x in [10, 20, 30, 40]] )\n",
        "print('Num counts:',len(allseq))\n",
        "#print('Example:',allseq[3])"
      ]
    },
    {
      "cell_type": "code",
      "execution_count": 9,
      "metadata": {
        "id": "W9xiFzNbFLBE"
      },
      "outputs": [],
      "source": [
        "def get_gene_subset(all_genes,sub_index):\n",
        "    sub_genes = set()\n",
        "    for index in sub_index:\n",
        "        one_gene = all_genes[index]\n",
        "        sub_genes.add(one_gene)\n",
        "    return sub_genes\n",
        "def get_X_y(gene_set,allids,allX,allY,threshold):\n",
        "    cnt = len(allids)\n",
        "    subsetX=[]\n",
        "    subsetY=[]\n",
        "    if cnt != len(allX) or cnt!= len(allY):\n",
        "        raise Exception('Lengths differ')\n",
        "    for i in range(cnt):\n",
        "        gene_id,tran_id = allids[i]\n",
        "        if gene_id in gene_set:\n",
        "            oneX = allX[i]\n",
        "            oneY = allY[i]\n",
        "            if oneY < threshold:\n",
        "                Yvalue = int(0)\n",
        "            else:\n",
        "                Yvalue = int(1)\n",
        "            subsetX.append(oneX)\n",
        "            subsetY.append(Yvalue)\n",
        "    subsetX = np.array(subsetX)\n",
        "    subsetY = np.array(subsetY).reshape((-1,1))\n",
        "    return subsetX,subsetY"
      ]
    },
    {
      "cell_type": "code",
      "execution_count": 10,
      "metadata": {
        "id": "AwMbRjm0FLBF"
      },
      "outputs": [],
      "source": [
        "def build_model():\n",
        "    ALPHABET=4**K+1  # NUMBER OF DISTINCT KMERS POSSIBLE, add one if N gets mask value\n",
        "    EMBED_DIMEN = 16 # arbitrary hyperparameter\n",
        "    ADJUST_LENGTH = MAXLEN-K+1  # fixed length sequences\n",
        "    rnn = Sequential()\n",
        "    # To do: try with and without masking layer\n",
        "    # To do: try the embedding layer with mask, instead of masking layer\n",
        "    #mask_layer = Masking(mask_value=0, input_shape=(ADJUST_LENGTH, K))\n",
        "    #mask_layer = Masking(mask_value=0, input_shape=(ADJUST_LENGTH, 1))\n",
        "    # This layer automatically converts inputs to one-hot using alphabet size.\n",
        "    embed_layer = Embedding(ALPHABET,EMBED_DIMEN,input_length=ADJUST_LENGTH,mask_zero=True)   \n",
        "    # rnn1_layer = LSTM(16, return_sequences=True, input_shape=[MAXLEN,DIMEN]) \n",
        "    rnn1_layer = LSTM(4, return_sequences=False) # True)\n",
        "    # rnn1_layer = Bidirectional( LSTM(32, return_sequences=True) )\n",
        "    # rnn1_layer = LSTM(16, return_sequences=True) \n",
        "    # rnn2_layer = LSTM(16, return_sequences=True)\n",
        "    # Dense can handle sequence input. Is it the best thing to do?\n",
        "    # dense1_layer = Dense(16,activation='sigmoid',dtype=dt)\n",
        "    # dropout1_layer = Dropout(0.50)\n",
        "    output_layer = Dense(1,activation='sigmoid',dtype=dt)\n",
        "\n",
        "    #rnn.add(mask_layer)\n",
        "    rnn.add(embed_layer)\n",
        "    rnn.add(rnn1_layer)\n",
        "    #rnn.add(rnn2_layer)\n",
        "    #rnn.add(dense1_layer)\n",
        "    #rnn.add(dropout1_layer)\n",
        "    #rnn.add(dense2_layer)\n",
        "    rnn.add(output_layer)\n",
        "\n",
        "    bc=BinaryCrossentropy(from_logits=False)\n",
        "    print(\"COMPILE\")\n",
        "    rnn.compile(loss=bc, optimizer=\"Adam\",metrics=[\"accuracy\"])\n",
        "    return rnn"
      ]
    },
    {
      "cell_type": "code",
      "execution_count": 11,
      "metadata": {
        "colab": {
          "base_uri": "https://localhost:8080/"
        },
        "id": "clj-wufgFLBF",
        "outputId": "7456f068-98af-465c-9450-05b951883847"
      },
      "outputs": [
        {
          "output_type": "stream",
          "name": "stdout",
          "text": [
            "2022-12-12 00:20:29.535633\n",
            "COMPILE\n",
            "Model: \"sequential\"\n",
            "_________________________________________________________________\n",
            " Layer (type)                Output Shape              Param #   \n",
            "=================================================================\n",
            " embedding (Embedding)       (None, 3997, 16)          4112      \n",
            "                                                                 \n",
            " lstm (LSTM)                 (None, 4)                 336       \n",
            "                                                                 \n",
            " dense (Dense)               (None, 1)                 5         \n",
            "                                                                 \n",
            "=================================================================\n",
            "Total params: 4,453\n",
            "Trainable params: 4,453\n",
            "Non-trainable params: 0\n",
            "_________________________________________________________________\n",
            "None\n"
          ]
        }
      ],
      "source": [
        "print(datetime.now())\n",
        "model=build_model()\n",
        "print(model.summary())  # Print this only once"
      ]
    },
    {
      "cell_type": "code",
      "execution_count": 12,
      "metadata": {
        "colab": {
          "base_uri": "https://localhost:8080/"
        },
        "id": "CqO0a9evFLBG",
        "outputId": "21c41419-6355-45ea-828f-670860dff9bd"
      },
      "outputs": [
        {
          "output_type": "stream",
          "name": "stdout",
          "text": [
            "2022-12-12 00:20:33.306947\n"
          ]
        }
      ],
      "source": [
        "def do_cross_validation(eps):\n",
        "    cv_scores = []\n",
        "    fold=0\n",
        "    print(datetime.now())\n",
        "    print('splitting')\n",
        "    # KFold shuffles once before making the partitions\n",
        "    splitter = KFold(n_splits=FOLDS,shuffle=True,random_state=42)\n",
        "    for train_index,valid_index in splitter.split(all_genes):\n",
        "        fold += 1\n",
        "        print('Fold',fold)\n",
        "        train_genes = get_gene_subset(all_genes,train_index)\n",
        "        valid_genes = get_gene_subset(all_genes,valid_index)\n",
        "        X_train,y_train = get_X_y(train_genes,allids,allseq,labels,0)\n",
        "        X_valid,y_valid = get_X_y(valid_genes,allids,allseq,labels,0)\n",
        "\n",
        "        print('Training example')\n",
        "        print(X_train[0])\n",
        "        \n",
        "        print('Train sizes',X_train.shape,y_train.shape)\n",
        "        print('Valid sizes',X_valid.shape,y_valid.shape)\n",
        "        print('Train set ones/size',\n",
        "              np.count_nonzero(y_train),'/',len(y_train))\n",
        "        print('Valid set ones/size',\n",
        "              np.count_nonzero(y_valid),'/',len(y_valid))\n",
        "\n",
        "        print(\"BUILD MODEL\")\n",
        "        model=build_model()\n",
        "\n",
        "        print(\"FIT\")\n",
        "        print(datetime.now())\n",
        "        history=model.fit(X_train, y_train, # batch_size=10, default=32 works nicely\n",
        "                epochs=EPOCHS, verbose=1,  # verbose=1 for ascii art, verbose=0 for none\n",
        "                validation_data=(X_valid,y_valid) )\n",
        "\n",
        "        pd.DataFrame(history.history).plot(figsize=(8,5))\n",
        "        plt.grid(True)\n",
        "        plt.gca().set_ylim(0,1)\n",
        "        plt.show()\n",
        "\n",
        "        print(\"Compute valiation accuracy\")\n",
        "        print(datetime.now())\n",
        "        scores = model.evaluate(X_valid, y_valid, verbose=0)\n",
        "        print(\"%s: %.2f%%\" % (model.metrics_names[1], scores[1]*100))\n",
        "        print(datetime.now())\n",
        "        cv_scores.append(scores[1] * 100)\n",
        "        \n",
        "        if BREAK:\n",
        "            break\n",
        "        \n",
        "    print()\n",
        "    return cv_scores\n",
        "print(datetime.now())"
      ]
    },
    {
      "cell_type": "code",
      "execution_count": 13,
      "metadata": {
        "colab": {
          "base_uri": "https://localhost:8080/",
          "height": 1000
        },
        "id": "XC9m0W-pFLBH",
        "outputId": "6f422a3a-6303-43fe-c300-8868cab87057",
        "scrolled": false
      },
      "outputs": [
        {
          "output_type": "stream",
          "name": "stdout",
          "text": [
            "2022-12-12 00:20:33.316448\n",
            "2022-12-12 00:20:33.316550\n",
            "splitting\n",
            "Fold 1\n",
            "Training example\n",
            "[ 57 228 143 ...   0   0   0]\n",
            "Train sizes (6777, 3997) (6777, 1)\n",
            "Valid sizes (1787, 3997) (1787, 1)\n",
            "Train set ones/size 2754 / 6777\n",
            "Valid set ones/size 765 / 1787\n",
            "BUILD MODEL\n",
            "COMPILE\n",
            "FIT\n",
            "2022-12-12 00:20:36.084288\n",
            "Epoch 1/10\n",
            "212/212 [==============================] - 32s 112ms/step - loss: 0.6724 - accuracy: 0.5950 - val_loss: 0.6850 - val_accuracy: 0.5725\n",
            "Epoch 2/10\n",
            "212/212 [==============================] - 24s 112ms/step - loss: 0.6413 - accuracy: 0.6333 - val_loss: 0.7142 - val_accuracy: 0.5881\n",
            "Epoch 3/10\n",
            "212/212 [==============================] - 23s 108ms/step - loss: 0.6242 - accuracy: 0.6633 - val_loss: 0.7363 - val_accuracy: 0.5658\n",
            "Epoch 4/10\n",
            "212/212 [==============================] - 23s 108ms/step - loss: 0.6145 - accuracy: 0.6683 - val_loss: 0.7435 - val_accuracy: 0.5786\n",
            "Epoch 5/10\n",
            "212/212 [==============================] - 23s 109ms/step - loss: 0.6073 - accuracy: 0.6841 - val_loss: 0.7566 - val_accuracy: 0.4975\n",
            "Epoch 6/10\n",
            "212/212 [==============================] - 23s 109ms/step - loss: 0.5983 - accuracy: 0.6918 - val_loss: 0.7579 - val_accuracy: 0.5478\n",
            "Epoch 7/10\n",
            "212/212 [==============================] - 23s 107ms/step - loss: 0.5912 - accuracy: 0.7016 - val_loss: 0.7750 - val_accuracy: 0.5311\n",
            "Epoch 8/10\n",
            "212/212 [==============================] - 23s 109ms/step - loss: 0.5839 - accuracy: 0.7053 - val_loss: 0.7638 - val_accuracy: 0.5417\n",
            "Epoch 9/10\n",
            "212/212 [==============================] - 24s 112ms/step - loss: 0.5778 - accuracy: 0.7129 - val_loss: 0.7698 - val_accuracy: 0.5378\n",
            "Epoch 10/10\n",
            "212/212 [==============================] - 23s 107ms/step - loss: 0.5744 - accuracy: 0.7149 - val_loss: 0.7689 - val_accuracy: 0.5439\n"
          ]
        },
        {
          "output_type": "display_data",
          "data": {
            "text/plain": [
              "<Figure size 576x360 with 1 Axes>"
            ],
            "image/png": "[encoded data removed]"
          },
          "metadata": {
            "needs_background": "light"
          }
        },
        {
          "output_type": "stream",
          "name": "stdout",
          "text": [
            "Compute valiation accuracy\n",
            "2022-12-12 00:25:01.994307\n",
            "accuracy: 54.39%\n",
            "2022-12-12 00:25:04.544589\n",
            "Fold 2\n",
            "Training example\n",
            "[121 228 142 ...   0   0   0]\n",
            "Train sizes (6893, 3997) (6893, 1)\n",
            "Valid sizes (1671, 3997) (1671, 1)\n",
            "Train set ones/size 2899 / 6893\n",
            "Valid set ones/size 620 / 1671\n",
            "BUILD MODEL\n",
            "COMPILE\n",
            "FIT\n",
            "2022-12-12 00:25:07.192894\n",
            "Epoch 1/10\n",
            "216/216 [==============================] - 28s 111ms/step - loss: 0.6762 - accuracy: 0.5823 - val_loss: 0.6601 - val_accuracy: 0.6296\n",
            "Epoch 2/10\n",
            "216/216 [==============================] - 23s 107ms/step - loss: 0.6429 - accuracy: 0.6292 - val_loss: 0.6655 - val_accuracy: 0.5787\n",
            "Epoch 3/10\n",
            "216/216 [==============================] - 23s 107ms/step - loss: 0.6188 - accuracy: 0.6633 - val_loss: 0.6735 - val_accuracy: 0.5745\n",
            "Epoch 4/10\n",
            "216/216 [==============================] - 24s 112ms/step - loss: 0.6062 - accuracy: 0.6739 - val_loss: 0.6782 - val_accuracy: 0.5661\n",
            "Epoch 5/10\n",
            "216/216 [==============================] - 23s 108ms/step - loss: 0.5908 - accuracy: 0.6878 - val_loss: 0.6929 - val_accuracy: 0.5583\n",
            "Epoch 6/10\n",
            "216/216 [==============================] - 23s 106ms/step - loss: 0.5780 - accuracy: 0.7001 - val_loss: 0.7049 - val_accuracy: 0.5643\n",
            "Epoch 7/10\n",
            "216/216 [==============================] - 23s 107ms/step - loss: 0.5703 - accuracy: 0.7110 - val_loss: 0.7239 - val_accuracy: 0.5482\n",
            "Epoch 8/10\n",
            "216/216 [==============================] - 23s 106ms/step - loss: 0.5608 - accuracy: 0.7174 - val_loss: 0.7595 - val_accuracy: 0.4955\n",
            "Epoch 9/10\n",
            "216/216 [==============================] - 23s 107ms/step - loss: 0.5598 - accuracy: 0.7155 - val_loss: 0.7389 - val_accuracy: 0.5302\n",
            "Epoch 10/10\n",
            "216/216 [==============================] - 23s 108ms/step - loss: 0.5522 - accuracy: 0.7252 - val_loss: 0.7454 - val_accuracy: 0.5380\n"
          ]
        },
        {
          "output_type": "display_data",
          "data": {
            "text/plain": [
              "<Figure size 576x360 with 1 Axes>"
            ],
            "image/png": "[encoded data removed]"
          },
          "metadata": {
            "needs_background": "light"
          }
        },
        {
          "output_type": "stream",
          "name": "stdout",
          "text": [
            "Compute valiation accuracy\n",
            "2022-12-12 00:29:04.499398\n",
            "accuracy: 53.80%\n",
            "2022-12-12 00:29:06.905531\n",
            "Fold 3\n",
            "Training example\n",
            "[121 228 142 ...   0   0   0]\n",
            "Train sizes (7029, 3997) (7029, 1)\n",
            "Valid sizes (1535, 3997) (1535, 1)\n",
            "Train set ones/size 2994 / 7029\n",
            "Valid set ones/size 525 / 1535\n",
            "BUILD MODEL\n",
            "COMPILE\n",
            "FIT\n",
            "2022-12-12 00:29:11.052978\n",
            "Epoch 1/10\n",
            "220/220 [==============================] - 28s 110ms/step - loss: 0.6750 - accuracy: 0.5792 - val_loss: 0.6437 - val_accuracy: 0.6528\n",
            "Epoch 2/10\n",
            "220/220 [==============================] - 23s 106ms/step - loss: 0.6450 - accuracy: 0.6217 - val_loss: 0.6529 - val_accuracy: 0.6280\n",
            "Epoch 3/10\n",
            "220/220 [==============================] - 23s 106ms/step - loss: 0.6282 - accuracy: 0.6398 - val_loss: 0.6683 - val_accuracy: 0.5746\n",
            "Epoch 4/10\n",
            "220/220 [==============================] - 23s 107ms/step - loss: 0.6143 - accuracy: 0.6587 - val_loss: 0.6550 - val_accuracy: 0.6221\n",
            "Epoch 5/10\n",
            "220/220 [==============================] - 23s 107ms/step - loss: 0.6012 - accuracy: 0.6701 - val_loss: 0.6689 - val_accuracy: 0.6104\n",
            "Epoch 6/10\n",
            "220/220 [==============================] - 24s 109ms/step - loss: 0.5886 - accuracy: 0.6872 - val_loss: 0.6793 - val_accuracy: 0.6013\n",
            "Epoch 7/10\n",
            "220/220 [==============================] - 25s 115ms/step - loss: 0.5805 - accuracy: 0.6916 - val_loss: 0.7107 - val_accuracy: 0.5648\n",
            "Epoch 8/10\n",
            "220/220 [==============================] - 24s 110ms/step - loss: 0.5719 - accuracy: 0.6983 - val_loss: 0.7270 - val_accuracy: 0.5524\n",
            "Epoch 9/10\n",
            "220/220 [==============================] - 24s 108ms/step - loss: 0.5601 - accuracy: 0.7082 - val_loss: 0.7424 - val_accuracy: 0.5440\n",
            "Epoch 10/10\n",
            "220/220 [==============================] - 24s 108ms/step - loss: 0.5548 - accuracy: 0.7109 - val_loss: 0.7445 - val_accuracy: 0.5557\n"
          ]
        },
        {
          "output_type": "display_data",
          "data": {
            "text/plain": [
              "<Figure size 576x360 with 1 Axes>"
            ],
            "image/png": "[encoded data removed]"
          },
          "metadata": {
            "needs_background": "light"
          }
        },
        {
          "output_type": "stream",
          "name": "stdout",
          "text": [
            "Compute valiation accuracy\n",
            "2022-12-12 00:33:13.384101\n",
            "accuracy: 55.57%\n",
            "2022-12-12 00:33:15.581147\n",
            "Fold 4\n",
            "Training example\n",
            "[121 228 142 ...   0   0   0]\n",
            "Train sizes (6732, 3997) (6732, 1)\n",
            "Valid sizes (1832, 3997) (1832, 1)\n",
            "Train set ones/size 2666 / 6732\n",
            "Valid set ones/size 853 / 1832\n",
            "BUILD MODEL\n",
            "COMPILE\n",
            "FIT\n",
            "2022-12-12 00:33:18.908189\n",
            "Epoch 1/10\n",
            "211/211 [==============================] - 28s 116ms/step - loss: 0.6615 - accuracy: 0.6108 - val_loss: 0.6941 - val_accuracy: 0.5360\n",
            "Epoch 2/10\n",
            "211/211 [==============================] - 23s 111ms/step - loss: 0.6270 - accuracy: 0.6523 - val_loss: 0.6949 - val_accuracy: 0.5573\n",
            "Epoch 3/10\n",
            "211/211 [==============================] - 25s 117ms/step - loss: 0.6104 - accuracy: 0.6781 - val_loss: 0.7090 - val_accuracy: 0.5622\n",
            "Epoch 4/10\n",
            "211/211 [==============================] - 23s 111ms/step - loss: 0.5950 - accuracy: 0.6901 - val_loss: 0.7244 - val_accuracy: 0.5540\n",
            "Epoch 5/10\n",
            "211/211 [==============================] - 23s 111ms/step - loss: 0.5837 - accuracy: 0.7090 - val_loss: 0.7463 - val_accuracy: 0.5573\n",
            "Epoch 6/10\n",
            "211/211 [==============================] - 24s 112ms/step - loss: 0.5757 - accuracy: 0.7132 - val_loss: 0.7403 - val_accuracy: 0.5513\n",
            "Epoch 7/10\n",
            "211/211 [==============================] - 23s 111ms/step - loss: 0.5669 - accuracy: 0.7222 - val_loss: 0.7611 - val_accuracy: 0.5557\n",
            "Epoch 8/10\n",
            "211/211 [==============================] - 24s 112ms/step - loss: 0.5842 - accuracy: 0.7084 - val_loss: 0.7257 - val_accuracy: 0.5628\n",
            "Epoch 9/10\n",
            "211/211 [==============================] - 24s 112ms/step - loss: 0.5645 - accuracy: 0.7271 - val_loss: 0.7571 - val_accuracy: 0.5617\n",
            "Epoch 10/10\n",
            "211/211 [==============================] - 25s 118ms/step - loss: 0.5533 - accuracy: 0.7357 - val_loss: 0.7730 - val_accuracy: 0.5437\n"
          ]
        },
        {
          "output_type": "display_data",
          "data": {
            "text/plain": [
              "<Figure size 576x360 with 1 Axes>"
            ],
            "image/png": "[encoded data removed]"
          },
          "metadata": {
            "needs_background": "light"
          }
        },
        {
          "output_type": "stream",
          "name": "stdout",
          "text": [
            "Compute valiation accuracy\n",
            "2022-12-12 00:37:21.285829\n",
            "accuracy: 54.37%\n",
            "2022-12-12 00:37:23.962053\n",
            "Fold 5\n",
            "Training example\n",
            "[121 228 142 ...   0   0   0]\n",
            "Train sizes (6825, 3997) (6825, 1)\n",
            "Valid sizes (1739, 3997) (1739, 1)\n",
            "Train set ones/size 2763 / 6825\n",
            "Valid set ones/size 756 / 1739\n",
            "BUILD MODEL\n",
            "COMPILE\n",
            "FIT\n",
            "2022-12-12 00:37:26.651896\n",
            "Epoch 1/10\n",
            "214/214 [==============================] - 29s 117ms/step - loss: 0.6662 - accuracy: 0.6015 - val_loss: 0.6873 - val_accuracy: 0.5584\n",
            "Epoch 2/10\n",
            "214/214 [==============================] - 23s 110ms/step - loss: 0.6323 - accuracy: 0.6435 - val_loss: 0.6961 - val_accuracy: 0.5377\n",
            "Epoch 3/10\n",
            "214/214 [==============================] - 24s 111ms/step - loss: 0.6141 - accuracy: 0.6675 - val_loss: 0.7122 - val_accuracy: 0.5555\n",
            "Epoch 4/10\n",
            "214/214 [==============================] - 24s 110ms/step - loss: 0.6047 - accuracy: 0.6731 - val_loss: 0.7259 - val_accuracy: 0.5377\n",
            "Epoch 5/10\n",
            "214/214 [==============================] - 24s 110ms/step - loss: 0.6012 - accuracy: 0.6768 - val_loss: 0.7180 - val_accuracy: 0.5377\n",
            "Epoch 6/10\n",
            "214/214 [==============================] - 25s 117ms/step - loss: 0.5919 - accuracy: 0.6875 - val_loss: 0.7262 - val_accuracy: 0.5520\n",
            "Epoch 7/10\n",
            "214/214 [==============================] - 24s 111ms/step - loss: 0.5872 - accuracy: 0.6941 - val_loss: 0.7347 - val_accuracy: 0.5279\n",
            "Epoch 8/10\n",
            "214/214 [==============================] - 24s 112ms/step - loss: 0.5901 - accuracy: 0.6900 - val_loss: 0.7452 - val_accuracy: 0.5342\n",
            "Epoch 9/10\n",
            "214/214 [==============================] - 24s 112ms/step - loss: 0.6062 - accuracy: 0.6630 - val_loss: 0.7319 - val_accuracy: 0.5394\n",
            "Epoch 10/10\n",
            "214/214 [==============================] - 24s 114ms/step - loss: 0.5837 - accuracy: 0.6941 - val_loss: 0.7465 - val_accuracy: 0.5377\n"
          ]
        },
        {
          "output_type": "display_data",
          "data": {
            "text/plain": [
              "<Figure size 576x360 with 1 Axes>"
            ],
            "image/png": "[encoded data removed]"
          },
          "metadata": {
            "needs_background": "light"
          }
        },
        {
          "output_type": "stream",
          "name": "stdout",
          "text": [
            "Compute valiation accuracy\n",
            "2022-12-12 00:41:31.249365\n",
            "accuracy: 53.77%\n",
            "2022-12-12 00:41:33.783528\n",
            "\n",
            "Cross validation acc mean 54.38% (+/- 0.65%)\n",
            "2022-12-12 00:41:33.785688\n"
          ]
        }
      ],
      "source": [
        "print(datetime.now())\n",
        "cv_scores = do_cross_validation(EPOCHS)    \n",
        "print(\"Cross validation acc mean %.2f%% (+/- %.2f%%)\" % (np.mean(cv_scores), np.std(cv_scores)))\n",
        "print(datetime.now())"
      ]
    },
    {
      "cell_type": "code",
      "execution_count": 13,
      "metadata": {
        "id": "riMTsEsCFLBJ"
      },
      "outputs": [],
      "source": []
    }
  ],
  "metadata": {
    "accelerator": "GPU",
    "colab": {
      "provenance": []
    },
    "gpuClass": "standard",
    "kernelspec": {
      "display_name": "Python 3 (ipykernel)",
      "language": "python",
      "name": "python3"
    },
    "language_info": {
      "codemirror_mode": {
        "name": "ipython",
        "version": 3
      },
      "file_extension": ".py",
      "mimetype": "text/x-python",
      "name": "python",
      "nbconvert_exporter": "python",
      "pygments_lexer": "ipython3",
      "version": "3.10.0"
    }
  },
  "nbformat": 4,
  "nbformat_minor": 0
}