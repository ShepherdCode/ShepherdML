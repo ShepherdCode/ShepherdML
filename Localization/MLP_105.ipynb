{
 "cells": [
  {
   "cell_type": "markdown",
   "metadata": {
    "id": "VsKepJU7mqlI"
   },
   "source": [
    "# MLP\n",
    "\n",
    "Compare MLP to LSTM on same data.\n",
    "Compare to LSTM notebook 113.\n",
    "K=3.  \n",
    "Normalized K-mer counts.  \n",
    "Two-layer MLP.  "
   ]
  },
  {
   "cell_type": "markdown",
   "metadata": {
    "id": "KAYhV4GBmqlM"
   },
   "source": [
    "## Environment setup"
   ]
  },
  {
   "cell_type": "code",
   "execution_count": 8,
   "metadata": {
    "colab": {
     "base_uri": "https://localhost:8080/"
    },
    "id": "lhXz2N95mqlO",
    "outputId": "decff4c7-eafd-4c9f-99d5-9d45cc0ab200"
   },
   "outputs": [
    {
     "name": "stdout",
     "output_type": "stream",
     "text": [
      "2022-11-21 15:21:36.117686\n",
      "Python 3.7.15\n",
      "sklearn 1.0.2\n"
     ]
    }
   ],
   "source": [
    "from datetime import datetime\n",
    "print(datetime.now())\n",
    "from platform import python_version\n",
    "print('Python',python_version())\n",
    "import numpy as np\n",
    "import pandas as pd\n",
    "from matplotlib import pyplot as plt \n",
    "import sklearn   # pip install --upgrade scikit-learn\n",
    "print('sklearn',sklearn.__version__)"
   ]
  },
  {
   "cell_type": "code",
   "execution_count": 9,
   "metadata": {
    "id": "s6q63VqVmqlR"
   },
   "outputs": [],
   "source": [
    "import tensorflow as tf\n",
    "dt='float32'\n",
    "tf.keras.backend.set_floatx('float32')\n",
    "tf.random.set_seed(42) \n",
    "\n",
    "from tensorflow import keras\n",
    "from sklearn.model_selection import KFold\n",
    "from keras.models import Sequential\n",
    "from keras.layers import Dense\n",
    "from keras.layers import Dropout\n",
    "from keras.losses import BinaryCrossentropy\n",
    "\n",
    "K=3\n",
    "EPOCHS=10\n",
    "FOLDS=5  \n",
    "BREAK = False   # break after first fold\n",
    "MAXLEN=4000   # this is problematic as some genes will be excluded entirely or partially\n",
    "MINLEN=1000"
   ]
  },
  {
   "cell_type": "code",
   "execution_count": 10,
   "metadata": {
    "colab": {
     "base_uri": "https://localhost:8080/"
    },
    "id": "rnMMYh84n3pT",
    "outputId": "d2692993-ab83-4c98-8f2d-8d113fcf34ed"
   },
   "outputs": [
    {
     "name": "stdout",
     "output_type": "stream",
     "text": [
      "Drive already mounted at /content/drive/; to attempt to forcibly remount, call drive.mount(\"/content/drive/\", force_remount=True).\n",
      "/content/drive/My Drive/data/Localization/TrainTest/\n"
     ]
    }
   ],
   "source": [
    "try:\n",
    "    from google.colab import drive\n",
    "    IN_COLAB = True\n",
    "    PATH='/content/drive/'\n",
    "    drive.mount(PATH)\n",
    "    DATA_DIR=PATH+'My Drive/data/Localization/TrainTest/'  # must end in \"/\"\n",
    "except:\n",
    "    IN_COLAB = False\n",
    "    DATA_DIR = '/Users/jasonmiller/WVU/Localization/TrainTest/'    # Mac\n",
    "    DATA_DIR = 'D:/Adjeroh/Localization/TrainTest/'   # Windows\n",
    "print(DATA_DIR)"
   ]
  },
  {
   "cell_type": "code",
   "execution_count": 11,
   "metadata": {
    "id": "sYZ-W6pHmqlV"
   },
   "outputs": [],
   "source": [
    "GENES_FILE =    'CNRCI_coding_train_genes.csv'\n",
    "RCI_FILE =      'CNRCI_coding_train_RCI.gc42.csv'\n",
    "SEQUENCE_FILE = 'CNRCI_coding_train_transcripts.gc42.csv'\n",
    "COUNTS_FILE=    'CNRCI_coding_train_counts.K3.gc42.csv'   # K=3"
   ]
  },
  {
   "cell_type": "code",
   "execution_count": 12,
   "metadata": {
    "colab": {
     "base_uri": "https://localhost:8080/"
    },
    "id": "FplXb3IKmqlX",
    "outputId": "7456de04-7f00-4f35-cc03-677b0cfd5269"
   },
   "outputs": [
    {
     "name": "stdout",
     "output_type": "stream",
     "text": [
      "Cell line for today: 1 = H1.hESC\n"
     ]
    }
   ],
   "source": [
    "def get_ordered_list():\n",
    "    ordered_list = \\\n",
    "    ['A549',\\\n",
    "      'H1.hESC',\\\n",
    "      'HeLa.S3',\\\n",
    "      'HepG2',\\\n",
    "      'HT1080',\\\n",
    "      'HUVEC',\\\n",
    "      'MCF.7',\\\n",
    "      'NCI.H460',\\\n",
    "      'NHEK',\\\n",
    "      'SK.MEL.5',\\\n",
    "      'SK.N.DZ',\\\n",
    "      'SK.N.SH',\\\n",
    "      'GM12878',\\\n",
    "      'K562',\\\n",
    "      'IMR.90']\n",
    "    return ordered_list\n",
    "CELL_LINE_NUMBER=1\n",
    "all_cell_lines = get_ordered_list()\n",
    "cell_line_name = all_cell_lines[CELL_LINE_NUMBER]\n",
    "print('Cell line for today:',CELL_LINE_NUMBER,'=',cell_line_name)"
   ]
  },
  {
   "cell_type": "markdown",
   "metadata": {
    "id": "jhDBkzEZoVIh"
   },
   "source": [
    "## Data Load"
   ]
  },
  {
   "cell_type": "code",
   "execution_count": 13,
   "metadata": {
    "colab": {
     "base_uri": "https://localhost:8080/"
    },
    "id": "lbutkpiEoUDP",
    "outputId": "253a558e-78d1-4d6a-f640-f3c25370205c"
   },
   "outputs": [
    {
     "name": "stdout",
     "output_type": "stream",
     "text": [
      "2022-11-21 15:21:37.930781\n",
      "Num RCI: 13000\n",
      "[('ENSG00000000003', 1.85734), ('ENSG00000000005', 5.88264), ('ENSG00000000419', 2.58954)]\n"
     ]
    }
   ],
   "source": [
    "print(datetime.now())\n",
    "# labels\n",
    "filepath = DATA_DIR+RCI_FILE\n",
    "gene_to_rci = {}\n",
    "with open (filepath,'r') as handle:\n",
    "    header = None\n",
    "    for row in handle:\n",
    "        if header is None:\n",
    "            header = row\n",
    "        else:\n",
    "            line = row.strip()\n",
    "            fields = line.split(',')\n",
    "            gene_id = fields[0]\n",
    "            rci_val = fields[CELL_LINE_NUMBER+1]\n",
    "            # Could implement Gudenas style threshold here\n",
    "            if rci_val != \"nan\":\n",
    "                gene_to_rci[gene_id] = float(rci_val)\n",
    "print('Num RCI:', len(gene_to_rci.keys()))\n",
    "print(list(gene_to_rci.items())[:3])\n",
    "all_genes = list(gene_to_rci.keys())"
   ]
  },
  {
   "cell_type": "code",
   "execution_count": 14,
   "metadata": {
    "colab": {
     "base_uri": "https://localhost:8080/"
    },
    "id": "YKVzKcvTmqlk",
    "outputId": "75bc6aef-1144-4990-eecb-995605307852"
   },
   "outputs": [
    {
     "name": "stdout",
     "output_type": "stream",
     "text": [
      "2022-11-21 15:21:37.992934\n",
      "2022-11-21 15:21:39.706603\n",
      "Normalize\n",
      "2022-11-21 15:21:40.094662\n",
      "Num IDs: 31220\n",
      "Num labels: 31220\n",
      "Num counts: 31220\n"
     ]
    }
   ],
   "source": [
    "# kmer counts\n",
    "print(datetime.now())\n",
    "filepath = DATA_DIR+COUNTS_FILE\n",
    "labels=[]\n",
    "allids=[]\n",
    "counts=[]\n",
    "with open (filepath,'r') as handle:\n",
    "    header = None\n",
    "    for row in handle:\n",
    "        if header is None:\n",
    "            header = row\n",
    "        else:\n",
    "            line    = row.strip()\n",
    "            fields  = line.split(',')\n",
    "            gene_id = fields.pop(0)\n",
    "            tran_id = fields.pop(0)\n",
    "            numbers = [int(x) for x in fields]\n",
    "            seq_len = sum(numbers)+K-1\n",
    "            if seq_len>=MINLEN and seq_len<=MAXLEN and gene_id in gene_to_rci.keys():\n",
    "                rci_val = gene_to_rci[gene_id]\n",
    "                allids.append( (gene_id,tran_id) )\n",
    "                labels.append(rci_val)\n",
    "                counts.append(numbers)\n",
    "print(datetime.now())\n",
    "print('Normalize')\n",
    "rows = len(counts)\n",
    "cols = len(counts[0])\n",
    "for row in range(rows):\n",
    "    total = sum(counts[row])\n",
    "    for col in range(cols):\n",
    "        counts[row][col] /= total\n",
    "print(datetime.now())\n",
    "print('Num IDs:',len(allids))\n",
    "#print('Examples:',[allids[x] for x in [10, 20, 30, 40]] )\n",
    "print('Num labels:',len(labels))\n",
    "#print('Examples:',[labels[x] for x in [10, 20, 30, 40]] )\n",
    "print('Num counts:',len(counts))\n",
    "#print('Example:',counts[3])"
   ]
  },
  {
   "cell_type": "code",
   "execution_count": 15,
   "metadata": {
    "id": "O4CAnuRwmqlk"
   },
   "outputs": [],
   "source": [
    "def get_gene_subset(all_genes,sub_index):\n",
    "    sub_genes = set()\n",
    "    for index in sub_index:\n",
    "        one_gene = all_genes[index]\n",
    "        sub_genes.add(one_gene)\n",
    "    return sub_genes\n",
    "def get_X_y(gene_set,allids,allX,allY,threshold):\n",
    "    cnt = len(allids)\n",
    "    subsetX=[]\n",
    "    subsetY=[]\n",
    "    if cnt != len(allX) or cnt!= len(allY):\n",
    "        raise Exception('Lengths differ')\n",
    "    for i in range(cnt):\n",
    "        gene_id,tran_id = allids[i]\n",
    "        if gene_id in gene_set:\n",
    "            oneX = allX[i]\n",
    "            oneY = allY[i]\n",
    "            if oneY < threshold:\n",
    "                Yvalue = int(0)\n",
    "            else:\n",
    "                Yvalue = int(1)\n",
    "            subsetX.append(oneX)\n",
    "            subsetY.append(Yvalue)\n",
    "    return subsetX,subsetY"
   ]
  },
  {
   "cell_type": "markdown",
   "metadata": {
    "id": "0r_BffGimqlY"
   },
   "source": [
    "## Model design"
   ]
  },
  {
   "cell_type": "code",
   "execution_count": 18,
   "metadata": {
    "id": "IaIsNuX0mqla"
   },
   "outputs": [],
   "source": [
    "def build_model():\n",
    "    ALPHABET=4**K  # NUMBER OF DISTINCT KMERS POSSIBLE\n",
    "    mlp    = Sequential()\n",
    "    layer1 = Dense(64, activation='sigmoid',dtype=dt,input_dim=ALPHABET)\n",
    "    layer2 = Dense(8, activation='sigmoid')\n",
    "    output = Dense(1, activation='sigmoid')\n",
    "    mlp.add(layer1)\n",
    "    mlp.add(layer2)\n",
    "    mlp.add(output)\n",
    "      \n",
    "    bc=BinaryCrossentropy(from_logits=False)\n",
    "    print(\"COMPILE...\")\n",
    "    mlp.compile(loss=bc, optimizer=\"Adam\",metrics=[\"accuracy\"])\n",
    "    print(\"...COMPILED\")\n",
    "    return mlp"
   ]
  },
  {
   "cell_type": "code",
   "execution_count": 19,
   "metadata": {
    "colab": {
     "base_uri": "https://localhost:8080/"
    },
    "id": "MZpxfagAmqld",
    "outputId": "8b311da8-ed22-474b-d700-2d117b8a1d8d",
    "scrolled": true
   },
   "outputs": [
    {
     "name": "stdout",
     "output_type": "stream",
     "text": [
      "2022-11-21 15:23:12.593071\n",
      "COMPILE...\n",
      "...COMPILED\n",
      "Model: \"sequential_1\"\n",
      "_________________________________________________________________\n",
      " Layer (type)                Output Shape              Param #   \n",
      "=================================================================\n",
      " dense (Dense)               (None, 64)                4160      \n",
      "                                                                 \n",
      " dense_1 (Dense)             (None, 8)                 520       \n",
      "                                                                 \n",
      " dense_2 (Dense)             (None, 1)                 9         \n",
      "                                                                 \n",
      "=================================================================\n",
      "Total params: 4,689\n",
      "Trainable params: 4,689\n",
      "Non-trainable params: 0\n",
      "_________________________________________________________________\n",
      "None\n"
     ]
    }
   ],
   "source": [
    "print(datetime.now())\n",
    "model=build_model()\n",
    "print(model.summary())  # Print this only once"
   ]
  },
  {
   "cell_type": "markdown",
   "metadata": {
    "id": "ubMRq0-Cmqll"
   },
   "source": [
    "## Train and validate with all K-mer counts"
   ]
  },
  {
   "cell_type": "code",
   "execution_count": 20,
   "metadata": {
    "id": "vt7iFHZsmqlm"
   },
   "outputs": [],
   "source": [
    "SCALING = False\n",
    "def do_cross_validation(eps):\n",
    "    cv_scores = []\n",
    "    fold=0\n",
    "    print(datetime.now())\n",
    "    print('splitting')\n",
    "    # KFold shuffles once before making the partitions\n",
    "    splitter = KFold(n_splits=FOLDS,shuffle=True,random_state=42)\n",
    "    for train_index,valid_index in splitter.split(all_genes):\n",
    "        fold += 1\n",
    "        print('Fold',fold)\n",
    "        train_genes = get_gene_subset(all_genes,train_index)\n",
    "        valid_genes = get_gene_subset(all_genes,valid_index)\n",
    "        X_train,y_train = get_X_y(train_genes,allids,counts,labels,0)\n",
    "        X_valid,y_valid = get_X_y(valid_genes,allids,counts,labels,0)\n",
    "\n",
    "        if SCALING:\n",
    "            print('scaling')\n",
    "            print(datetime.now())\n",
    "            scaler = StandardScaler()\n",
    "            scaler.fit(X_train)\n",
    "            X_train = scaler.transform(X_train)\n",
    "            X_valid = scaler.transform(X_valid)\n",
    "\n",
    "        print('Train sizes',len(X_train),len(y_train))\n",
    "        print('Valid sizes',len(X_valid),len(y_valid))\n",
    "        print('Train set ones/size',\n",
    "              np.count_nonzero(y_train),'/',len(y_train))\n",
    "        print('Valid set ones/size',\n",
    "              np.count_nonzero(y_valid),'/',len(y_valid))\n",
    "\n",
    "        print(\"BUILD MODEL\")\n",
    "        model=build_model()\n",
    "\n",
    "        print(\"FIT\")\n",
    "        print(datetime.now())\n",
    "        history=model.fit(X_train, y_train, # batch_size=10, default=32 works nicely\n",
    "                epochs=EPOCHS, verbose=1,  # verbose=1 for ascii art, verbose=0 for none\n",
    "                validation_data=(X_valid,y_valid) )\n",
    "\n",
    "        pd.DataFrame(history.history).plot(figsize=(8,5))\n",
    "        plt.grid(True)\n",
    "        plt.gca().set_ylim(0,1)\n",
    "        plt.show()\n",
    "\n",
    "        print(\"Compute valiation accuracy\")\n",
    "        print(datetime.now())\n",
    "        scores = model.evaluate(X_valid, y_valid, verbose=0)\n",
    "        print(\"%s: %.2f%%\" % (model.metrics_names[1], scores[1]*100))\n",
    "        print(datetime.now())\n",
    "        cv_scores.append(scores[1] * 100)\n",
    "    return cv_scores"
   ]
  },
  {
   "cell_type": "code",
   "execution_count": 21,
   "metadata": {
    "colab": {
     "base_uri": "https://localhost:8080/",
     "height": 1000
    },
    "id": "L4zvPTQmmqln",
    "outputId": "f56fdbb4-76aa-400d-ab41-d560bae961f3",
    "scrolled": false
   },
   "outputs": [
    {
     "name": "stdout",
     "output_type": "stream",
     "text": [
      "2022-11-21 15:23:27.557326\n",
      "2022-11-21 15:23:27.557887\n",
      "splitting\n",
      "Fold 1\n",
      "Train sizes 24903 24903\n",
      "Valid sizes 6317 6317\n",
      "Train set ones/size 12187 / 24903\n",
      "Valid set ones/size 3025 / 6317\n",
      "BUILD MODEL\n",
      "COMPILE...\n",
      "...COMPILED\n",
      "FIT\n",
      "2022-11-21 15:23:27.639272\n",
      "Epoch 1/10\n",
      "779/779 [==============================] - 5s 5ms/step - loss: 0.6810 - accuracy: 0.5889 - val_loss: 0.6581 - val_accuracy: 0.6864\n",
      "Epoch 2/10\n",
      "779/779 [==============================] - 2s 2ms/step - loss: 0.6189 - accuracy: 0.6935 - val_loss: 0.5985 - val_accuracy: 0.6910\n",
      "Epoch 3/10\n",
      "779/779 [==============================] - 2s 2ms/step - loss: 0.5917 - accuracy: 0.6983 - val_loss: 0.5906 - val_accuracy: 0.6945\n",
      "Epoch 4/10\n",
      "779/779 [==============================] - 2s 2ms/step - loss: 0.5884 - accuracy: 0.6997 - val_loss: 0.5879 - val_accuracy: 0.6965\n",
      "Epoch 5/10\n",
      "779/779 [==============================] - 2s 2ms/step - loss: 0.5865 - accuracy: 0.7016 - val_loss: 0.5859 - val_accuracy: 0.6959\n",
      "Epoch 6/10\n",
      "779/779 [==============================] - 2s 2ms/step - loss: 0.5848 - accuracy: 0.7036 - val_loss: 0.5840 - val_accuracy: 0.6978\n",
      "Epoch 7/10\n",
      "779/779 [==============================] - 2s 2ms/step - loss: 0.5832 - accuracy: 0.7053 - val_loss: 0.5823 - val_accuracy: 0.6987\n",
      "Epoch 8/10\n",
      "779/779 [==============================] - 2s 2ms/step - loss: 0.5817 - accuracy: 0.7069 - val_loss: 0.5808 - val_accuracy: 0.6995\n",
      "Epoch 9/10\n",
      "779/779 [==============================] - 2s 2ms/step - loss: 0.5803 - accuracy: 0.7077 - val_loss: 0.5792 - val_accuracy: 0.7003\n",
      "Epoch 10/10\n",
      "779/779 [==============================] - 2s 2ms/step - loss: 0.5789 - accuracy: 0.7081 - val_loss: 0.5778 - val_accuracy: 0.7008\n"
     ]
    },
    {
     "data": {
      "image/png": "[encoded data removed]",
      "text/plain": [
       "<Figure size 576x360 with 1 Axes>"
      ]
     },
     "metadata": {
      "needs_background": "light"
     },
     "output_type": "display_data"
    },
    {
     "name": "stdout",
     "output_type": "stream",
     "text": [
      "Compute valiation accuracy\n",
      "2022-11-21 15:24:04.149411\n",
      "accuracy: 70.08%\n",
      "2022-11-21 15:24:06.437776\n",
      "Fold 2\n",
      "Train sizes 24921 24921\n",
      "Valid sizes 6299 6299\n",
      "Train set ones/size 12133 / 24921\n",
      "Valid set ones/size 3079 / 6299\n",
      "BUILD MODEL\n",
      "COMPILE...\n",
      "...COMPILED\n",
      "FIT\n",
      "2022-11-21 15:24:06.513232\n",
      "Epoch 1/10\n",
      "779/779 [==============================] - 4s 5ms/step - loss: 0.6847 - accuracy: 0.5904 - val_loss: 0.6686 - val_accuracy: 0.6199\n",
      "Epoch 2/10\n",
      "779/779 [==============================] - 2s 3ms/step - loss: 0.6302 - accuracy: 0.6863 - val_loss: 0.6055 - val_accuracy: 0.6852\n",
      "Epoch 3/10\n",
      "779/779 [==============================] - 2s 2ms/step - loss: 0.5919 - accuracy: 0.6958 - val_loss: 0.5954 - val_accuracy: 0.6946\n",
      "Epoch 4/10\n",
      "779/779 [==============================] - 2s 2ms/step - loss: 0.5871 - accuracy: 0.6981 - val_loss: 0.5934 - val_accuracy: 0.6947\n",
      "Epoch 5/10\n",
      "779/779 [==============================] - 2s 3ms/step - loss: 0.5850 - accuracy: 0.6999 - val_loss: 0.5919 - val_accuracy: 0.6963\n",
      "Epoch 6/10\n",
      "779/779 [==============================] - 2s 2ms/step - loss: 0.5831 - accuracy: 0.7014 - val_loss: 0.5905 - val_accuracy: 0.6969\n",
      "Epoch 7/10\n",
      "779/779 [==============================] - 2s 2ms/step - loss: 0.5813 - accuracy: 0.7029 - val_loss: 0.5892 - val_accuracy: 0.6977\n",
      "Epoch 8/10\n",
      "779/779 [==============================] - 2s 2ms/step - loss: 0.5796 - accuracy: 0.7044 - val_loss: 0.5881 - val_accuracy: 0.6995\n",
      "Epoch 9/10\n",
      "779/779 [==============================] - 2s 2ms/step - loss: 0.5779 - accuracy: 0.7063 - val_loss: 0.5870 - val_accuracy: 0.7000\n",
      "Epoch 10/10\n",
      "779/779 [==============================] - 2s 2ms/step - loss: 0.5763 - accuracy: 0.7084 - val_loss: 0.5859 - val_accuracy: 0.6996\n"
     ]
    },
    {
     "data": {
      "image/png": "[encoded data removed]",
      "text/plain": [
       "<Figure size 576x360 with 1 Axes>"
      ]
     },
     "metadata": {
      "needs_background": "light"
     },
     "output_type": "display_data"
    },
    {
     "name": "stdout",
     "output_type": "stream",
     "text": [
      "Compute valiation accuracy\n",
      "2022-11-21 15:24:40.767118\n",
      "accuracy: 69.96%\n",
      "2022-11-21 15:24:43.076580\n",
      "Fold 3\n",
      "Train sizes 24914 24914\n",
      "Valid sizes 6306 6306\n",
      "Train set ones/size 12233 / 24914\n",
      "Valid set ones/size 2979 / 6306\n",
      "BUILD MODEL\n",
      "COMPILE...\n",
      "...COMPILED\n",
      "FIT\n",
      "2022-11-21 15:24:43.155833\n",
      "Epoch 1/10\n",
      "779/779 [==============================] - 6s 6ms/step - loss: 0.6786 - accuracy: 0.5904 - val_loss: 0.6484 - val_accuracy: 0.6966\n",
      "Epoch 2/10\n",
      "779/779 [==============================] - 2s 2ms/step - loss: 0.6142 - accuracy: 0.6925 - val_loss: 0.5950 - val_accuracy: 0.6998\n",
      "Epoch 3/10\n",
      "779/779 [==============================] - 2s 2ms/step - loss: 0.5898 - accuracy: 0.6958 - val_loss: 0.5907 - val_accuracy: 0.7023\n",
      "Epoch 4/10\n",
      "779/779 [==============================] - 2s 2ms/step - loss: 0.5865 - accuracy: 0.6971 - val_loss: 0.5889 - val_accuracy: 0.7058\n",
      "Epoch 5/10\n",
      "779/779 [==============================] - 2s 3ms/step - loss: 0.5843 - accuracy: 0.6998 - val_loss: 0.5873 - val_accuracy: 0.7088\n",
      "Epoch 6/10\n",
      "779/779 [==============================] - 2s 2ms/step - loss: 0.5824 - accuracy: 0.7012 - val_loss: 0.5858 - val_accuracy: 0.7092\n",
      "Epoch 7/10\n",
      "779/779 [==============================] - 3s 4ms/step - loss: 0.5806 - accuracy: 0.7025 - val_loss: 0.5845 - val_accuracy: 0.7119\n",
      "Epoch 8/10\n",
      "779/779 [==============================] - 2s 3ms/step - loss: 0.5788 - accuracy: 0.7043 - val_loss: 0.5832 - val_accuracy: 0.7136\n",
      "Epoch 9/10\n",
      "779/779 [==============================] - 2s 2ms/step - loss: 0.5772 - accuracy: 0.7065 - val_loss: 0.5820 - val_accuracy: 0.7144\n",
      "Epoch 10/10\n",
      "779/779 [==============================] - 2s 2ms/step - loss: 0.5757 - accuracy: 0.7077 - val_loss: 0.5810 - val_accuracy: 0.7147\n"
     ]
    },
    {
     "data": {
      "image/png": "[encoded data removed]",
      "text/plain": [
       "<Figure size 576x360 with 1 Axes>"
      ]
     },
     "metadata": {
      "needs_background": "light"
     },
     "output_type": "display_data"
    },
    {
     "name": "stdout",
     "output_type": "stream",
     "text": [
      "Compute valiation accuracy\n",
      "2022-11-21 15:25:20.096205\n",
      "accuracy: 71.47%\n",
      "2022-11-21 15:25:22.500948\n",
      "Fold 4\n",
      "Train sizes 24986 24986\n",
      "Valid sizes 6234 6234\n",
      "Train set ones/size 12223 / 24986\n",
      "Valid set ones/size 2989 / 6234\n",
      "BUILD MODEL\n",
      "COMPILE...\n",
      "...COMPILED\n",
      "FIT\n",
      "2022-11-21 15:25:22.579464\n",
      "Epoch 1/10\n",
      "781/781 [==============================] - 4s 5ms/step - loss: 0.6834 - accuracy: 0.5907 - val_loss: 0.6613 - val_accuracy: 0.6471\n",
      "Epoch 2/10\n",
      "781/781 [==============================] - 2s 2ms/step - loss: 0.6236 - accuracy: 0.6894 - val_loss: 0.5946 - val_accuracy: 0.7004\n",
      "Epoch 3/10\n",
      "781/781 [==============================] - 2s 2ms/step - loss: 0.5919 - accuracy: 0.6948 - val_loss: 0.5888 - val_accuracy: 0.7008\n",
      "Epoch 4/10\n",
      "781/781 [==============================] - 2s 2ms/step - loss: 0.5887 - accuracy: 0.6965 - val_loss: 0.5868 - val_accuracy: 0.7007\n",
      "Epoch 5/10\n",
      "781/781 [==============================] - 2s 2ms/step - loss: 0.5869 - accuracy: 0.6980 - val_loss: 0.5851 - val_accuracy: 0.7010\n",
      "Epoch 6/10\n",
      "781/781 [==============================] - 2s 2ms/step - loss: 0.5853 - accuracy: 0.6996 - val_loss: 0.5834 - val_accuracy: 0.7032\n",
      "Epoch 7/10\n",
      "781/781 [==============================] - 2s 2ms/step - loss: 0.5838 - accuracy: 0.7014 - val_loss: 0.5818 - val_accuracy: 0.7039\n",
      "Epoch 8/10\n",
      "781/781 [==============================] - 2s 2ms/step - loss: 0.5823 - accuracy: 0.7028 - val_loss: 0.5803 - val_accuracy: 0.7044\n",
      "Epoch 9/10\n",
      "781/781 [==============================] - 2s 2ms/step - loss: 0.5809 - accuracy: 0.7038 - val_loss: 0.5788 - val_accuracy: 0.7044\n",
      "Epoch 10/10\n",
      "781/781 [==============================] - 2s 2ms/step - loss: 0.5796 - accuracy: 0.7044 - val_loss: 0.5773 - val_accuracy: 0.7060\n"
     ]
    },
    {
     "data": {
      "image/png": "[encoded data removed]",
      "text/plain": [
       "<Figure size 576x360 with 1 Axes>"
      ]
     },
     "metadata": {
      "needs_background": "light"
     },
     "output_type": "display_data"
    },
    {
     "name": "stdout",
     "output_type": "stream",
     "text": [
      "Compute valiation accuracy\n",
      "2022-11-21 15:25:55.957202\n",
      "accuracy: 70.60%\n",
      "2022-11-21 15:25:58.221902\n",
      "Fold 5\n",
      "Train sizes 25156 25156\n",
      "Valid sizes 6064 6064\n",
      "Train set ones/size 12072 / 25156\n",
      "Valid set ones/size 3140 / 6064\n",
      "BUILD MODEL\n",
      "COMPILE...\n",
      "...COMPILED\n",
      "FIT\n",
      "2022-11-21 15:25:58.302523\n",
      "Epoch 1/10\n",
      "787/787 [==============================] - 4s 5ms/step - loss: 0.6834 - accuracy: 0.5470 - val_loss: 0.6700 - val_accuracy: 0.5821\n",
      "Epoch 2/10\n",
      "787/787 [==============================] - 2s 2ms/step - loss: 0.6319 - accuracy: 0.6831 - val_loss: 0.6045 - val_accuracy: 0.6933\n",
      "Epoch 3/10\n",
      "787/787 [==============================] - 2s 2ms/step - loss: 0.5961 - accuracy: 0.6958 - val_loss: 0.5904 - val_accuracy: 0.6981\n",
      "Epoch 4/10\n",
      "787/787 [==============================] - 2s 2ms/step - loss: 0.5905 - accuracy: 0.6979 - val_loss: 0.5866 - val_accuracy: 0.6981\n",
      "Epoch 5/10\n",
      "787/787 [==============================] - 2s 2ms/step - loss: 0.5881 - accuracy: 0.7002 - val_loss: 0.5844 - val_accuracy: 0.6994\n",
      "Epoch 6/10\n",
      "787/787 [==============================] - 2s 2ms/step - loss: 0.5863 - accuracy: 0.7017 - val_loss: 0.5825 - val_accuracy: 0.6997\n",
      "Epoch 7/10\n",
      "787/787 [==============================] - 3s 4ms/step - loss: 0.5847 - accuracy: 0.7031 - val_loss: 0.5808 - val_accuracy: 0.7017\n",
      "Epoch 8/10\n",
      "787/787 [==============================] - 2s 2ms/step - loss: 0.5832 - accuracy: 0.7046 - val_loss: 0.5792 - val_accuracy: 0.7010\n",
      "Epoch 9/10\n",
      "787/787 [==============================] - 2s 2ms/step - loss: 0.5818 - accuracy: 0.7058 - val_loss: 0.5776 - val_accuracy: 0.7018\n",
      "Epoch 10/10\n",
      "787/787 [==============================] - 2s 2ms/step - loss: 0.5804 - accuracy: 0.7073 - val_loss: 0.5761 - val_accuracy: 0.7022\n"
     ]
    },
    {
     "data": {
      "image/png": "[encoded data removed]",
      "text/plain": [
       "<Figure size 576x360 with 1 Axes>"
      ]
     },
     "metadata": {
      "needs_background": "light"
     },
     "output_type": "display_data"
    },
    {
     "name": "stdout",
     "output_type": "stream",
     "text": [
      "Compute valiation accuracy\n",
      "2022-11-21 15:26:32.653267\n",
      "accuracy: 70.22%\n",
      "2022-11-21 15:26:34.882277\n",
      "Cross validation acc mean 70.47% (+/- 0.55%)\n",
      "2022-11-21 15:26:34.885659\n"
     ]
    }
   ],
   "source": [
    "print(datetime.now())\n",
    "cv_scores = do_cross_validation(EPOCHS)    \n",
    "print(\"Cross validation acc mean %.2f%% (+/- %.2f%%)\" % (np.mean(cv_scores), np.std(cv_scores)))\n",
    "print(datetime.now())"
   ]
  },
  {
   "cell_type": "code",
   "execution_count": null,
   "metadata": {
    "id": "C-CiPsCymqln"
   },
   "outputs": [],
   "source": []
  }
 ],
 "metadata": {
  "colab": {
   "provenance": []
  },
  "gpuClass": "standard",
  "kernelspec": {
   "display_name": "Python 3 (ipykernel)",
   "language": "python",
   "name": "python3"
  },
  "language_info": {
   "codemirror_mode": {
    "name": "ipython",
    "version": 3
   },
   "file_extension": ".py",
   "mimetype": "text/x-python",
   "name": "python",
   "nbconvert_exporter": "python",
   "pygments_lexer": "ipython3",
   "version": "3.10.0"
  }
 },
 "nbformat": 4,
 "nbformat_minor": 1
}
