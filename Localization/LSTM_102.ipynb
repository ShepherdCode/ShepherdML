{
  "cells": [
    {
      "cell_type": "markdown",
      "metadata": {
        "id": "PG-tGRnlFLA3"
      },
      "source": [
        "# LSTM\n",
        "Use sequence from GenCode files."
      ]
    },
    {
      "cell_type": "code",
      "execution_count": 1,
      "metadata": {
        "colab": {
          "base_uri": "https://localhost:8080/"
        },
        "id": "0RmwUsVLFLA6",
        "outputId": "d04193cd-4111-40fa-bb51-1fa51af9cdc8"
      },
      "outputs": [
        {
          "output_type": "stream",
          "name": "stdout",
          "text": [
            "2022-11-13 13:14:18.534431\n",
            "Python 3.7.15\n",
            "sklearn 1.0.2\n"
          ]
        }
      ],
      "source": [
        "from datetime import datetime\n",
        "print(datetime.now())\n",
        "from platform import python_version\n",
        "print('Python',python_version())\n",
        "import numpy as np\n",
        "import pandas as pd\n",
        "from matplotlib import pyplot as plt \n",
        "import sklearn   # pip install --upgrade scikit-learn\n",
        "print('sklearn',sklearn.__version__)"
      ]
    },
    {
      "cell_type": "markdown",
      "metadata": {
        "id": "tUtGXPrcFLA8"
      },
      "source": [
        "We prevously used sklearn.model_selection.ShuffleSplit   \n",
        "Now we avoid it due to this note in the \n",
        "[documentation](https://scikit-learn.org/stable/modules/generated/sklearn.model_selection.ShuffleSplit.html):\n",
        "Note: contrary to other cross-validation strategies, random splits do not guarantee that all folds will be different, although this is still very likely for sizeable datasets."
      ]
    },
    {
      "cell_type": "code",
      "execution_count": 2,
      "metadata": {
        "id": "PRX-UEr8FLA8"
      },
      "outputs": [],
      "source": [
        "import tensorflow as tf\n",
        "dt='float32'\n",
        "tf.keras.backend.set_floatx('float32')\n",
        "tf.random.set_seed(42) \n",
        "\n",
        "from tensorflow import keras\n",
        "from sklearn.model_selection import KFold\n",
        "#from sklearn.preprocessing import OneHotEncoder\n",
        "from keras.models import Sequential\n",
        "from keras.layers import Embedding\n",
        "from keras.layers import Bidirectional\n",
        "from keras.layers import LSTM\n",
        "from keras.layers import Dense\n",
        "from keras.losses import BinaryCrossentropy\n",
        "\n",
        "EPOCHS=5\n",
        "FOLDS=3\n",
        "EMBED_DIMEN=4\n",
        "MAXLEN=4000   # this is problematic as some genes will be excluded entirely or partially\n",
        "MINLEN=1000"
      ]
    },
    {
      "cell_type": "code",
      "source": [
        "try:\n",
        "    from google.colab import drive\n",
        "    IN_COLAB = True\n",
        "    PATH='/content/drive/'\n",
        "    drive.mount(PATH)\n",
        "    DATA_DIR=PATH+'My Drive/data/'  # must end in \"/\"\n",
        "except:\n",
        "    IN_COLAB = False\n",
        "    DATA_DIR = 'D:/Adjeroh/Localization/TrainTest/'   # Windows\n",
        "    DATA_DIR = '/Users/jasonmiller/WVU/Localization/TrainTest/'    # Mac\n"
      ],
      "metadata": {
        "colab": {
          "base_uri": "https://localhost:8080/"
        },
        "id": "OlzN9OdsFWEU",
        "outputId": "7c57c098-eccd-4905-fad3-2aa816011189"
      },
      "execution_count": 3,
      "outputs": [
        {
          "output_type": "stream",
          "name": "stdout",
          "text": [
            "Drive already mounted at /content/drive/; to attempt to forcibly remount, call drive.mount(\"/content/drive/\", force_remount=True).\n"
          ]
        }
      ]
    },
    {
      "cell_type": "code",
      "execution_count": 4,
      "metadata": {
        "id": "LnkpVKdMFLA-"
      },
      "outputs": [],
      "source": [
        "GENES_FILE = 'CNRCI_coding_train_genes.csv'\n",
        "RCI_FILE = 'CNRCI_coding_train_RCI.gc42.csv'\n",
        "SEQUENCE_FILE = 'CNRCI_coding_train_transcripts.gc42.csv'\n",
        "#COUNTS_FILE='CNRCI_coding_train_counts.K4.gc42.csv'"
      ]
    },
    {
      "cell_type": "code",
      "execution_count": 5,
      "metadata": {
        "colab": {
          "base_uri": "https://localhost:8080/"
        },
        "id": "e3p4QzQJFLA_",
        "outputId": "2c692462-eb3d-4ada-e73c-7f836aced655"
      },
      "outputs": [
        {
          "output_type": "stream",
          "name": "stdout",
          "text": [
            "Cell line for today: 0 = A549\n"
          ]
        }
      ],
      "source": [
        "def get_ordered_list():\n",
        "    ordered_list = \\\n",
        "    ['A549',\\\n",
        "      'H1.hESC',\\\n",
        "      'HeLa.S3',\\\n",
        "      'HepG2',\\\n",
        "      'HT1080',\\\n",
        "      'HUVEC',\\\n",
        "      'MCF.7',\\\n",
        "      'NCI.H460',\\\n",
        "      'NHEK',\\\n",
        "      'SK.MEL.5',\\\n",
        "      'SK.N.DZ',\\\n",
        "      'SK.N.SH',\\\n",
        "      'GM12878',\\\n",
        "      'K562',\\\n",
        "      'IMR.90']\n",
        "    return ordered_list\n",
        "CELL_LINE_NUMBER=0\n",
        "all_cell_lines = get_ordered_list()\n",
        "cell_line_name = all_cell_lines[CELL_LINE_NUMBER]\n",
        "print('Cell line for today:',CELL_LINE_NUMBER,'=',cell_line_name)"
      ]
    },
    {
      "cell_type": "markdown",
      "metadata": {
        "id": "UtqdpJOxFLBA"
      },
      "source": [
        "## Data Load"
      ]
    },
    {
      "cell_type": "code",
      "execution_count": 6,
      "metadata": {
        "colab": {
          "base_uri": "https://localhost:8080/"
        },
        "id": "cYoYDc93FLBB",
        "outputId": "333d4012-8039-440c-9c5a-4e3a2a1e39a4"
      },
      "outputs": [
        {
          "output_type": "stream",
          "name": "stdout",
          "text": [
            "2022-11-13 13:14:24.974586\n",
            "Num RCI: 10338\n",
            "[('ENSG00000000003', 1.08068), ('ENSG00000000419', 1.32679), ('ENSG00000000457', 0.434284)]\n"
          ]
        }
      ],
      "source": [
        "print(datetime.now())\n",
        "# labels\n",
        "filepath = DATA_DIR+RCI_FILE\n",
        "gene_to_rci = {}\n",
        "with open (filepath,'r') as handle:\n",
        "    header = None\n",
        "    for row in handle:\n",
        "        if header is None:\n",
        "            header = row\n",
        "        else:\n",
        "            line = row.strip()\n",
        "            fields = line.split(',')\n",
        "            gene_id = fields[0]\n",
        "            rci_val = fields[CELL_LINE_NUMBER+1]\n",
        "            # Could implement Gudenas style threshold here\n",
        "            if rci_val != \"nan\":\n",
        "                gene_to_rci[gene_id] = float(rci_val)\n",
        "print('Num RCI:', len(gene_to_rci.keys()))\n",
        "print(list(gene_to_rci.items())[:3])\n",
        "all_genes = list(gene_to_rci.keys())"
      ]
    },
    {
      "cell_type": "code",
      "execution_count": 7,
      "metadata": {
        "colab": {
          "base_uri": "https://localhost:8080/"
        },
        "id": "ooyTeQr-FLBB",
        "outputId": "29f504f6-fe47-45a8-e40e-dd064e15ab5c"
      },
      "outputs": [
        {
          "output_type": "stream",
          "name": "stdout",
          "text": [
            "2022-11-13 13:14:25.117244\n",
            "Load sequence\n",
            "2022-11-13 13:15:00.185928\n",
            "Num IDs: 25714\n",
            "Num labels: 25714\n",
            "Num counts: 25714\n"
          ]
        }
      ],
      "source": [
        "# one hot\n",
        "print(datetime.now())\n",
        "print('Load sequence')\n",
        "filepath = DATA_DIR+SEQUENCE_FILE\n",
        "labels=[]\n",
        "allids=[]\n",
        "allseq=[]\n",
        "NREPEAT = str('N'*MAXLEN)\n",
        "HOTS = {'A':[1,0,0,0], 'C':[0,1,0,0], 'G':[0,0,1,0], 'T':[0,0,0,1], 'N':[0,0,0,0]}\n",
        "with open (filepath,'r') as handle:\n",
        "    header = None\n",
        "    for row in handle:\n",
        "        if header is None:\n",
        "            header = row\n",
        "        else:\n",
        "            line    = row.strip()\n",
        "            fields  = line.split(',')\n",
        "            tran_id = fields[0]  # with version number\n",
        "            gene_id = fields[1]        # without version number\n",
        "            seq_len = int(fields[3])\n",
        "            seq_txt = fields[4]\n",
        "            if seq_len>=MINLEN and seq_len<=MAXLEN and gene_id in gene_to_rci.keys():\n",
        "                rci_val = gene_to_rci[gene_id]\n",
        "                allids.append( (gene_id,tran_id) )\n",
        "                labels.append(rci_val)\n",
        "                if seq_len<MAXLEN:\n",
        "                    seq_txt = seq_txt + NREPEAT\n",
        "                    seq_txt = seq_txt[:MAXLEN]\n",
        "                seq_chr = list(seq_txt)\n",
        "                seq_hot = []\n",
        "                for c in seq_chr:\n",
        "                    one_hot = HOTS[c]\n",
        "                    seq_hot.append(one_hot)\n",
        "                allseq.append(seq_hot)\n",
        "print(datetime.now())\n",
        "print('Num IDs:',len(allids))\n",
        "#print('Examples:',[allids[x] for x in [10, 20, 30, 40]] )\n",
        "print('Num labels:',len(labels))\n",
        "#print('Examples:',[labels[x] for x in [10, 20, 30, 40]] )\n",
        "print('Num counts:',len(allseq))\n",
        "#print('Example:',allseq[3])"
      ]
    },
    {
      "cell_type": "code",
      "execution_count": 8,
      "metadata": {
        "id": "W9xiFzNbFLBE"
      },
      "outputs": [],
      "source": [
        "def get_gene_subset(all_genes,sub_index):\n",
        "    sub_genes = set()\n",
        "    for index in sub_index:\n",
        "        one_gene = all_genes[index]\n",
        "        sub_genes.add(one_gene)\n",
        "    return sub_genes\n",
        "def get_X_y(gene_set,allids,allX,allY,threshold):\n",
        "    cnt = len(allids)\n",
        "    subsetX=[]\n",
        "    subsetY=[]\n",
        "    if cnt != len(allX) or cnt!= len(allY):\n",
        "        raise Exception('Lengths differ')\n",
        "    for i in range(cnt):\n",
        "        gene_id,tran_id = allids[i]\n",
        "        if gene_id in gene_set:\n",
        "            oneX = allX[i]\n",
        "            oneY = allY[i]\n",
        "            if oneY < threshold:\n",
        "                Yvalue = int(0)\n",
        "            else:\n",
        "                Yvalue = int(1)\n",
        "            subsetX.append(oneX)\n",
        "            subsetY.append(Yvalue)\n",
        "    subsetX = np.array(subsetX)\n",
        "    subsetY = np.array(subsetY).reshape((-1,1))\n",
        "    return subsetX,subsetY"
      ]
    },
    {
      "cell_type": "code",
      "execution_count": 9,
      "metadata": {
        "id": "AwMbRjm0FLBF"
      },
      "outputs": [],
      "source": [
        "def build_model():\n",
        "    DIMEN=4  # ONE HOT CATEGORIES\n",
        "    ACT = 'relu'\n",
        "    rnn = Sequential()\n",
        "    embed_layer = Embedding(DIMEN,EMBED_DIMEN,input_length=MAXLEN);\n",
        "    # rnn1_layer = Bidirectional(\n",
        "    rnn1_layer = LSTM(64, return_sequences=True, input_shape=[MAXLEN,DIMEN]) \n",
        "    rnn2_layer = LSTM(64, return_sequences=True)\n",
        "    # Dense can handle sequence input. Is it the best thing to do?\n",
        "    dense1_layer = Dense(64,activation=ACT,dtype=dt)\n",
        "    dense2_layer = Dense(16,activation=ACT,dtype=dt)\n",
        "    output_layer = Dense(1,activation='sigmoid',dtype=dt)\n",
        "\n",
        "    #rnn.add(embed_layer)\n",
        "    rnn.add(rnn1_layer)\n",
        "    rnn.add(rnn2_layer)\n",
        "    rnn.add(dense1_layer)\n",
        "    rnn.add(dense2_layer)\n",
        "    rnn.add(output_layer)\n",
        "\n",
        "    bc=BinaryCrossentropy(from_logits=False)\n",
        "    print(\"COMPILE\")\n",
        "    rnn.compile(loss=bc, optimizer=\"Adam\",metrics=[\"accuracy\"])\n",
        "    return rnn"
      ]
    },
    {
      "cell_type": "code",
      "execution_count": 10,
      "metadata": {
        "colab": {
          "base_uri": "https://localhost:8080/"
        },
        "id": "clj-wufgFLBF",
        "outputId": "a5d9ec4c-9131-4d7d-83aa-d44703327026"
      },
      "outputs": [
        {
          "output_type": "stream",
          "name": "stdout",
          "text": [
            "2022-11-13 13:15:00.252775\n",
            "COMPILE\n",
            "Model: \"sequential\"\n",
            "_________________________________________________________________\n",
            " Layer (type)                Output Shape              Param #   \n",
            "=================================================================\n",
            " lstm (LSTM)                 (None, 4000, 64)          17664     \n",
            "                                                                 \n",
            " lstm_1 (LSTM)               (None, 4000, 64)          33024     \n",
            "                                                                 \n",
            " dense (Dense)               (None, 4000, 64)          4160      \n",
            "                                                                 \n",
            " dense_1 (Dense)             (None, 4000, 16)          1040      \n",
            "                                                                 \n",
            " dense_2 (Dense)             (None, 4000, 1)           17        \n",
            "                                                                 \n",
            "=================================================================\n",
            "Total params: 55,905\n",
            "Trainable params: 55,905\n",
            "Non-trainable params: 0\n",
            "_________________________________________________________________\n",
            "None\n"
          ]
        }
      ],
      "source": [
        "print(datetime.now())\n",
        "model=build_model()\n",
        "print(model.summary())  # Print this only once"
      ]
    },
    {
      "cell_type": "code",
      "execution_count": 11,
      "metadata": {
        "colab": {
          "base_uri": "https://localhost:8080/"
        },
        "id": "CqO0a9evFLBG",
        "outputId": "989e513a-9e3b-4828-c60d-8610dc164ffe"
      },
      "outputs": [
        {
          "output_type": "stream",
          "name": "stdout",
          "text": [
            "2022-11-13 13:15:01.166037\n"
          ]
        }
      ],
      "source": [
        "SCALING = False\n",
        "def do_cross_validation(eps):\n",
        "    cv_scores = []\n",
        "    fold=0\n",
        "    print(datetime.now())\n",
        "    print('splitting')\n",
        "    # KFold shuffles once before making the partitions\n",
        "    splitter = KFold(n_splits=FOLDS,shuffle=True,random_state=42)\n",
        "    for train_index,valid_index in splitter.split(all_genes):\n",
        "        fold += 1\n",
        "        print('Fold',fold)\n",
        "        train_genes = get_gene_subset(all_genes,train_index)\n",
        "        valid_genes = get_gene_subset(all_genes,valid_index)\n",
        "        X_train,y_train = get_X_y(train_genes,allids,allseq,labels,0)\n",
        "        X_valid,y_valid = get_X_y(valid_genes,allids,allseq,labels,0)\n",
        "\n",
        "        if SCALING:\n",
        "            print('scaling')\n",
        "            print(datetime.now())\n",
        "            scaler = StandardScaler()\n",
        "            scaler.fit(X_train)\n",
        "            X_train = scaler.transform(X_train)\n",
        "            X_valid = scaler.transform(X_valid)\n",
        "\n",
        "        print('Train sizes',X_train.shape,y_train.shape)\n",
        "        print('Valid sizes',X_valid.shape,y_valid.shape)\n",
        "        print('Train set ones/size',\n",
        "              np.count_nonzero(y_train),'/',len(y_train))\n",
        "        print('Valid set ones/size',\n",
        "              np.count_nonzero(y_valid),'/',len(y_valid))\n",
        "\n",
        "        print(\"BUILD MODEL\")\n",
        "        model=build_model()\n",
        "\n",
        "        print(\"FIT\")\n",
        "        print(datetime.now())\n",
        "        history=model.fit(X_train, y_train, # batch_size=10, default=32 works nicely\n",
        "                epochs=EPOCHS, verbose=1,  # verbose=1 for ascii art, verbose=0 for none\n",
        "                validation_data=(X_valid,y_valid) )\n",
        "\n",
        "        pd.DataFrame(history.history).plot(figsize=(8,5))\n",
        "        plt.grid(True)\n",
        "        plt.gca().set_ylim(0,1)\n",
        "        plt.show()\n",
        "\n",
        "        print(\"Compute valiation accuracy\")\n",
        "        print(datetime.now())\n",
        "        scores = model.evaluate(X_valid, y_valid, verbose=0)\n",
        "        print(\"%s: %.2f%%\" % (model.metrics_names[1], scores[1]*100))\n",
        "        print(datetime.now())\n",
        "        cv_scores.append(scores[1] * 100)\n",
        "    print()\n",
        "    return cv_scores\n",
        "print(datetime.now())"
      ]
    },
    {
      "cell_type": "markdown",
      "metadata": {
        "id": "iFEy7jQYFLBG"
      },
      "source": [
        "Issues to address:\n",
        "\n",
        "Reduce dtype to int8?\n",
        "Call arguments received by layer \"sequential\" \"                 f\"(type Sequential):\n",
        "inputs=tf.Tensor(shape=(None, 4000, 4), dtype=int32)\n",
        "\n",
        "The genes were shuffled but the transcripts were not.  \n",
        "That could retard training.\n",
        "\n",
        "Loading sequence takes minutes. Save one-hot dataset to binary file. \n",
        "\n",
        "Loading sequence takes RAM. A numpy array of one-hot might require less RAM. Write a just-in-time loader.\n",
        "\n",
        "Accuracy goes down at the start of each epoch. This could mean that the data are not shuffled sufficiently."
      ]
    },
    {
      "cell_type": "code",
      "execution_count": null,
      "metadata": {
        "scrolled": false,
        "colab": {
          "base_uri": "https://localhost:8080/",
          "height": 1000
        },
        "id": "XC9m0W-pFLBH",
        "outputId": "4468c74c-5c38-4803-fec4-7c39b1b0a301"
      },
      "outputs": [
        {
          "output_type": "stream",
          "name": "stdout",
          "text": [
            "2022-11-13 13:15:01.179794\n",
            "2022-11-13 13:15:01.182751\n",
            "splitting\n",
            "Fold 1\n",
            "Train sizes (17188, 4000, 4) (17188, 1)\n",
            "Valid sizes (8526, 4000, 4) (8526, 1)\n",
            "Train set ones/size 8817 / 17188\n",
            "Valid set ones/size 4176 / 8526\n",
            "BUILD MODEL\n",
            "COMPILE\n",
            "FIT\n",
            "2022-11-13 13:16:24.113919\n",
            "Epoch 1/5\n",
            "538/538 [==============================] - 2823s 5s/step - loss: 0.6698 - accuracy: 0.5882 - val_loss: 0.6913 - val_accuracy: 0.5350\n",
            "Epoch 2/5\n",
            "538/538 [==============================] - 2831s 5s/step - loss: 0.6588 - accuracy: 0.6092 - val_loss: 0.6733 - val_accuracy: 0.5102\n",
            "Epoch 3/5\n",
            "538/538 [==============================] - 2813s 5s/step - loss: 0.6865 - accuracy: 0.5442 - val_loss: 0.6931 - val_accuracy: 0.5044\n",
            "Epoch 4/5\n",
            "538/538 [==============================] - 2808s 5s/step - loss: 0.6931 - accuracy: 0.5116 - val_loss: 0.6948 - val_accuracy: 0.4898\n",
            "Epoch 5/5\n",
            "538/538 [==============================] - 2791s 5s/step - loss: 0.6929 - accuracy: 0.5107 - val_loss: 0.6949 - val_accuracy: 0.4898\n"
          ]
        },
        {
          "output_type": "display_data",
          "data": {
            "text/plain": [
              "<Figure size 576x360 with 1 Axes>"
            ],
            "image/png": "[encoded data removed]"
          },
          "metadata": {
            "needs_background": "light"
          }
        },
        {
          "output_type": "stream",
          "name": "stdout",
          "text": [
            "Compute valiation accuracy\n",
            "2022-11-13 17:11:54.648845\n",
            "accuracy: 48.98%\n",
            "2022-11-13 17:16:04.971447\n",
            "Fold 2\n",
            "Train sizes (16974, 4000, 4) (16974, 1)\n",
            "Valid sizes (8740, 4000, 4) (8740, 1)\n",
            "Train set ones/size 8621 / 16974\n",
            "Valid set ones/size 4372 / 8740\n",
            "BUILD MODEL\n",
            "COMPILE\n",
            "FIT\n",
            "2022-11-13 17:17:31.835306\n",
            "Epoch 1/5\n",
            "531/531 [==============================] - 2810s 5s/step - loss: 0.6887 - accuracy: 0.5283 - val_loss: 0.6932 - val_accuracy: 0.5002\n",
            "Epoch 2/5\n",
            "531/531 [==============================] - 2835s 5s/step - loss: 0.6931 - accuracy: 0.5079 - val_loss: 0.6933 - val_accuracy: 0.5002\n",
            "Epoch 3/5\n",
            "531/531 [==============================] - 2853s 5s/step - loss: 0.6931 - accuracy: 0.5079 - val_loss: 0.6932 - val_accuracy: 0.5002\n",
            "Epoch 4/5\n",
            "531/531 [==============================] - 2849s 5s/step - loss: 0.6931 - accuracy: 0.5079 - val_loss: 0.6932 - val_accuracy: 0.5002\n",
            "Epoch 5/5\n",
            "460/531 [========================>.....] - ETA: 5:43 - loss: 0.6931 - accuracy: 0.5079"
          ]
        }
      ],
      "source": [
        "print(datetime.now())\n",
        "cv_scores = do_cross_validation(EPOCHS)    \n",
        "print(\"Cross validation acc mean %.2f%% (+/- %.2f%%)\" % (np.mean(cv_scores), np.std(cv_scores)))\n",
        "print(datetime.now())"
      ]
    },
    {
      "cell_type": "code",
      "execution_count": null,
      "metadata": {
        "id": "riMTsEsCFLBJ"
      },
      "outputs": [],
      "source": []
    }
  ],
  "metadata": {
    "kernelspec": {
      "display_name": "Python 3 (ipykernel)",
      "language": "python",
      "name": "python3"
    },
    "language_info": {
      "codemirror_mode": {
        "name": "ipython",
        "version": 3
      },
      "file_extension": ".py",
      "mimetype": "text/x-python",
      "name": "python",
      "nbconvert_exporter": "python",
      "pygments_lexer": "ipython3",
      "version": "3.10.0"
    },
    "colab": {
      "provenance": []
    }
  },
  "nbformat": 4,
  "nbformat_minor": 0
}