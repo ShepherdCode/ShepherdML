{
  "cells": [
    {
      "cell_type": "markdown",
      "metadata": {
        "id": "PG-tGRnlFLA3"
      },
      "source": [
        "# CNN + GlobalAvgPool\n",
        "Measure AUPRC.\n",
        "Use median rather than max RCI."
      ]
    },
    {
      "cell_type": "code",
      "execution_count": 1,
      "metadata": {
        "colab": {
          "base_uri": "https://localhost:8080/"
        },
        "id": "0RmwUsVLFLA6",
        "outputId": "904d9b4e-f978-49b3-e671-90e84354514c"
      },
      "outputs": [
        {
          "output_type": "stream",
          "name": "stdout",
          "text": [
            "2023-01-26 12:39:23.174707\n",
            "Python 3.8.10\n",
            "sklearn 1.0.2\n"
          ]
        }
      ],
      "source": [
        "from datetime import datetime\n",
        "print(datetime.now())\n",
        "from platform import python_version\n",
        "print('Python',python_version())\n",
        "import numpy as np\n",
        "import pandas as pd\n",
        "import pickle\n",
        "import time # sleep function\n",
        "from os.path import isfile\n",
        "from matplotlib import pyplot as plt \n",
        "import sklearn   # pip install --upgrade scikit-learn\n",
        "print('sklearn',sklearn.__version__)"
      ]
    },
    {
      "cell_type": "markdown",
      "metadata": {
        "id": "tUtGXPrcFLA8"
      },
      "source": [
        "We prevously used sklearn.model_selection.ShuffleSplit   \n",
        "Now we avoid it due to this note in the \n",
        "[documentation](https://scikit-learn.org/stable/modules/generated/sklearn.model_selection.ShuffleSplit.html):\n",
        "Note: contrary to other cross-validation strategies, random splits do not guarantee that all folds will be different, although this is still very likely for sizeable datasets."
      ]
    },
    {
      "cell_type": "code",
      "execution_count": 2,
      "metadata": {
        "id": "PRX-UEr8FLA8"
      },
      "outputs": [],
      "source": [
        "import tensorflow as tf\n",
        "dt='float32'\n",
        "tf.keras.backend.set_floatx('float32')\n",
        "tf.random.set_seed(42) \n",
        "\n",
        "from tensorflow import keras\n",
        "from sklearn.model_selection import KFold\n",
        "from sklearn.metrics import accuracy_score\n",
        "from sklearn.metrics import precision_score\n",
        "from sklearn.metrics import recall_score\n",
        "from sklearn.metrics import f1_score\n",
        "from sklearn.metrics import precision_recall_curve\n",
        "from sklearn.metrics import auc\n",
        "\n",
        "from keras.models import Sequential\n",
        "from keras.layers import Masking\n",
        "from keras.layers import Embedding\n",
        "from keras.layers import Conv1D\n",
        "from keras.layers import MaxPooling1D\n",
        "from keras.layers import GlobalAveragePooling1D\n",
        "from keras.layers import GlobalMaxPooling1D\n",
        "from keras.layers import Bidirectional\n",
        "from keras.layers import LSTM\n",
        "from keras.layers import TimeDistributed\n",
        "from keras.layers import Flatten\n",
        "from keras.layers import Dense\n",
        "from keras.layers import Dropout\n",
        "from keras.losses import BinaryCrossentropy\n",
        "\n",
        "K=4\n",
        "RCI_THRESHOLD=0.0\n",
        "CFILTERS=64\n",
        "FILTERSIZE=8\n",
        "RCELLS=32\n",
        "DCELLS=16\n",
        "EPOCHS=10\n",
        "FOLDS=5      \n",
        "EMBED_DIMEN = 4 # arbitrary hyperparameter\n",
        "BREAK = False   # break after first fold\n",
        "MINLEN=200\n",
        "MAXLEN=4000   "
      ]
    },
    {
      "cell_type": "code",
      "execution_count": 3,
      "metadata": {
        "colab": {
          "base_uri": "https://localhost:8080/"
        },
        "id": "OlzN9OdsFWEU",
        "outputId": "93eb7451-6c70-4eee-9378-7e3e4b6ceba4"
      },
      "outputs": [
        {
          "output_type": "stream",
          "name": "stdout",
          "text": [
            "Running on CoLab\n",
            "Drive already mounted at /content/drive/; to attempt to forcibly remount, call drive.mount(\"/content/drive/\", force_remount=True).\n",
            "/content/drive/My Drive/data/Localization/TrainTest/\n"
          ]
        }
      ],
      "source": [
        "try:\n",
        "    from google.colab import drive\n",
        "    IN_COLAB = True\n",
        "    print('Running on CoLab')\n",
        "    PATH='/content/drive/'\n",
        "    drive.mount(PATH)\n",
        "    DATA_DIR=PATH+'My Drive/data/Localization/TrainTest/'  # must end in \"/\"\n",
        "except:\n",
        "    IN_COLAB = False\n",
        "    DATA_DIR = 'D:/Adjeroh/Localization/TrainTest/'   # Windows\n",
        "    DATA_DIR = '/Users/jasonmiller/WVU/Localization/TrainTest/'    # Mac\n",
        "print(DATA_DIR)"
      ]
    },
    {
      "cell_type": "code",
      "execution_count": 4,
      "metadata": {
        "id": "LnkpVKdMFLA-"
      },
      "outputs": [],
      "source": [
        "GENES_FILE =    'CNRCI_coding_train_genes.csv'\n",
        "RCI_FILE =      'CNRCI_coding_train_RCI.gc42.csv'\n",
        "SEQUENCE_FILE = 'CNRCI_coding_train_transcripts.gc42.csv'\n",
        "COUNTS_FILE =   'CNRCI_coding_train_counts.K4.gc42.csv'\n",
        "PICKLE_FILE =   'CNRCI_coding_combined_K4.pkl'"
      ]
    },
    {
      "cell_type": "code",
      "execution_count": 5,
      "metadata": {
        "colab": {
          "base_uri": "https://localhost:8080/"
        },
        "id": "e3p4QzQJFLA_",
        "outputId": "77327777-addb-4b49-a7f0-09c11f085458"
      },
      "outputs": [
        {
          "output_type": "stream",
          "name": "stdout",
          "text": [
            "Exclude cell line 1 H1.hESC\n",
            "Exclude cell line 7 NCI.H460\n"
          ]
        }
      ],
      "source": [
        "def get_ordered_list():\n",
        "    ordered_list = \\\n",
        "    ['A549',\\\n",
        "      'H1.hESC',\\\n",
        "      'HeLa.S3',\\\n",
        "      'HepG2',\\\n",
        "      'HT1080',\\\n",
        "      'HUVEC',\\\n",
        "      'MCF.7',\\\n",
        "      'NCI.H460',\\\n",
        "      'NHEK',\\\n",
        "      'SK.MEL.5',\\\n",
        "      'SK.N.DZ',\\\n",
        "      'SK.N.SH',\\\n",
        "      'GM12878',\\\n",
        "      'K562',\\\n",
        "      'IMR.90']\n",
        "    return ordered_list\n",
        "all_cell_lines = get_ordered_list()\n",
        "EXCLUSIONS = [1,7]\n",
        "for c in EXCLUSIONS:\n",
        "    print('Exclude cell line',c,all_cell_lines[c])"
      ]
    },
    {
      "cell_type": "markdown",
      "metadata": {
        "id": "UtqdpJOxFLBA"
      },
      "source": [
        "## Data Load"
      ]
    },
    {
      "cell_type": "code",
      "execution_count": 6,
      "metadata": {
        "colab": {
          "base_uri": "https://localhost:8080/"
        },
        "id": "p35ehKV3Kq0z",
        "outputId": "ec490f8a-b990-4c32-9a6b-4bbd7e65bd47"
      },
      "outputs": [
        {
          "output_type": "stream",
          "name": "stdout",
          "text": [
            "[1, 1]\n",
            "[20, 16]\n",
            "[63, 57]\n",
            "[64, 0]\n",
            "0\n",
            "1\n"
          ]
        }
      ],
      "source": [
        "class DataLoader():\n",
        "    def __init__(self):\n",
        "        self.cache=dict() \n",
        "        self.vals = {'A':0, 'C':1, 'G':2, 'T':3}\n",
        "        \n",
        "    def load_gene_rci_values(self,filepath,exclusions=[]):\n",
        "        '''\n",
        "        Load from RCI csv file.\n",
        "        Return dict with keys=gene:str and values=RCI:float.\n",
        "        '''\n",
        "        gene_to_rci = {}\n",
        "        overall_sum = 0\n",
        "        with open (filepath,'r') as handle:\n",
        "            header = None\n",
        "            for row in handle:\n",
        "                if header is None:\n",
        "                    header = row # skip file's header line\n",
        "                else:\n",
        "                    line = row.strip()\n",
        "                    fields = line.split(',')\n",
        "                    gene_id = fields.pop(0)\n",
        "                    rci_list = []\n",
        "                    cell_line = 0 # first line is 0 = A549\n",
        "                    for rci_str in fields:\n",
        "                        if rci_str != \"nan\" and cell_line not in exclusions:\n",
        "                            rci_val = float(rci_str)\n",
        "                            rci_list.append(rci_val)\n",
        "                        cell_line += 1   \n",
        "                    if len(rci_list) > 0:\n",
        "                        statistic = np.median(rci_list)\n",
        "                        gene_to_rci[gene_id] = statistic\n",
        "                        overall_sum += statistic\n",
        "        overall_count = len(gene_to_rci.keys())\n",
        "        overall_mean = overall_sum / overall_count\n",
        "        print('Number of RCI values lo',overall_count)\n",
        "        print('Mean RCI value',overall_mean)\n",
        "        return gene_to_rci\n",
        "    \n",
        "    def seq_to_kmer_values(self,rna,K):\n",
        "        # The cache may represent more than one K. Probably not a problem.\n",
        "        N_indicator = 0 # indicator value\n",
        "        vec=[] # seq converted to list of K-mers \n",
        "        length = len(rna)\n",
        "        for i in range(length-K+1):\n",
        "            kmer = rna[i:i+K]\n",
        "            if 'N' in kmer:\n",
        "                value = N_indicator\n",
        "            elif kmer in self.cache.keys():\n",
        "                value = self.cache[kmer]\n",
        "            else:\n",
        "                value = 0\n",
        "                for j in range(K):\n",
        "                    value *= 4   \n",
        "                    nextnuc = kmer[j] \n",
        "                    nucval = self.vals[nextnuc]\n",
        "                    value += nucval\n",
        "                value += 1   # NNN => 0, AAA => 1\n",
        "                self.cache[kmer] = value\n",
        "            vec.append(value)\n",
        "        return vec\n",
        "\n",
        "    def rci_to_label(self,rci):\n",
        "        CYTO_LABEL = 1\n",
        "        NUCLEAR_LABEL = 0\n",
        "        # cnrci = log (cyto-to-nuclear ratio)\n",
        "        # rci > 0 implies cytoplasmic\n",
        "        if rci > RCI_THRESHOLD:\n",
        "            return CYTO_LABEL\n",
        "        return NUCLEAR_LABEL\n",
        "\n",
        "    def load_sequence(self,filepath):\n",
        "        labels=[]\n",
        "        allids=[]\n",
        "        allseq=[]\n",
        "        cache = DATA_DIR+PICKLE_FILE # TO DO: parameterize\n",
        "        if isfile(cache):\n",
        "            with open(cache,'rb') as fin:\n",
        "                alldata = pickle.load(fin)\n",
        "                labels=alldata[0]\n",
        "                allids=alldata[1]\n",
        "                allseq=alldata[2]\n",
        "                return labels,allids,allseq\n",
        "\n",
        "        NREPEAT = str('N'*MAXLEN)\n",
        "        with open (filepath,'r') as handle:\n",
        "            header = None\n",
        "            for row in handle:\n",
        "                if header is None:\n",
        "                    header = row\n",
        "                else:\n",
        "                    line    = row.strip()\n",
        "                    fields  = line.split(',')\n",
        "                    tran_id = fields[0]  # with version number\n",
        "                    gene_id = fields[1]        # without version number\n",
        "                    seq_len = int(fields[3])\n",
        "                    seq_txt = fields[4]\n",
        "                    if seq_len>=MINLEN and seq_len<=MAXLEN and gene_id in gene_to_rci.keys():\n",
        "                        allids.append( (gene_id,tran_id) )\n",
        "                        rci_val = gene_to_rci[gene_id]\n",
        "                        rci_label = self.rci_to_label(rci_val)\n",
        "                        labels.append(rci_label)\n",
        "                        if seq_len<MAXLEN:\n",
        "                            seq_txt = seq_txt + NREPEAT\n",
        "                            seq_txt = seq_txt[:MAXLEN]\n",
        "                        hot_vec = self.seq_to_kmer_values(seq_txt,K)\n",
        "                        allseq.append(hot_vec)\n",
        "        with open(cache,'wb') as fout:\n",
        "            alldata = [labels,allids,allseq]\n",
        "            pickle.dump(alldata,fout)\n",
        "        return labels,allids,allseq\n",
        "    \n",
        "loader = DataLoader()\n",
        "# test it\n",
        "print(loader.seq_to_kmer_values('AAAA',3))\n",
        "print(loader.seq_to_kmer_values('CATT',3))\n",
        "print(loader.seq_to_kmer_values('TTGA',3))\n",
        "print(loader.seq_to_kmer_values('TTTN',3))\n",
        "# test it\n",
        "print(loader.rci_to_label(-0.9))\n",
        "print(loader.rci_to_label(1.1))"
      ]
    },
    {
      "cell_type": "code",
      "execution_count": 7,
      "metadata": {
        "colab": {
          "base_uri": "https://localhost:8080/"
        },
        "id": "cYoYDc93FLBB",
        "outputId": "ffcb8904-66ac-45de-8eb8-b6a301b9072d"
      },
      "outputs": [
        {
          "output_type": "stream",
          "name": "stdout",
          "text": [
            "2023-01-26 12:39:36.303846\n",
            "Load RCI values...\n",
            "Number of RCI values lo 13512\n",
            "Mean RCI value -0.20493295871695527\n",
            "Num RCI: 13512\n",
            "Example RCI: [('ENSG00000000003', 1.50595), ('ENSG00000000419', 1.15523), ('ENSG00000000457', -0.78064)]\n",
            "Load genes...\n",
            "2023-01-26 12:39:37.237903\n",
            "Load sequence...\n",
            "2023-01-26 12:39:46.200261\n",
            "Num IDs: 54410\n",
            "Example IDs: [('ENSG00000187634', 'ENST00000455979.1'), ('ENSG00000187608', 'ENST00000624652.1'), ('ENSG00000131591', 'ENST00000427787.5'), ('ENSG00000186827', 'ENST00000699969.1')]\n",
            "Count 26044 ones out of 54410 labels.\n",
            "Num labels: 54410\n",
            "Example labels: [0, 1, 0, 0]\n",
            "Num sequences: 54410\n",
            "Example sequence: [147, 73, 35, 138, 38, 150, 85, 83, 74, 37, 147, 73, 36, 142, 54, 214, 88, 95, 122, 231, 155, 106, 167, 156, 112, 190, 247, 218, 103, 153, 99, 139, 43, 172, 175, 187, 235, 169, 162, 135, 27, 107, 169, 161, 131, 10, 39, 155, 107, 170, 168, 159, 123, 235, 169, 161, 131, 12, 46, 183, 219, 107, 170, 166, 151, 89, 99, 139, 43, 169, 161, 129, 1, 3, 12, 46, 184, 223, 121, 225, 131, 9, 34, 135, 26, 104, 160, 125, 244, 207, 60, 238, 182, 213, 81, 67, 11, 43, 171, 169, 164, 142, 54, 216, 95, 122, 229, 147, 75, 44, 175, 186, 229, 148, 78, 54, 216, 94, 118, 215, 89, 100, 142, 56, 223, 122, 231, 153, 98, 136, 31, 122, 230, 150, 87, 91, 107, 170, 168, 159, 122, 230, 151, 89, 97, 132, 13, 52, 206, 54, 216, 94, 118, 214, 86, 87, 91, 108, 175, 185, 225, 130, 6, 23, 91, 107, 171, 171, 170, 167, 155, 106, 168, 159, 123, 234, 165, 147, 73, 34, 133, 17, 67, 9, 35, 139, 41, 162, 133, 19, 76, 46, 183, 218, 102, 150, 88, 95, 122, 230, 152, 95, 122, 230, 151, 90, 102, 150, 87, 91, 105, 161, 130, 6, 24, 95, 121, 225, 131, 9, 33, 131, 11, 41, 163, 138, 39, 153, 97, 130, 8, 30, 118, 214, 85, 83, 74, 40, 160, 126, 248, 222, 120, 223, 122, 230, 149, 83, 74, 39, 153, 100, 143, 59, 236, 175, 185, 226, 133, 19, 74, 39, 153, 98, 135, 27, 107, 169, 163, 140, 47, 187, 234, 166, 150, 86, 85, 82, 70, 24, 95, 124, 239, 187, 235, 170, 167, 155, 106, 167, 155, 106, 166, 149, 83, 75, 42, 168, 160, 127, 249, 225, 131, 10, 37, 147, 75, 41, 163, 139, 41, 164, 143, 59, 236, 174, 182, 215, 90, 101, 146, 69, 20, 78, 54, 215, 92, 109, 180, 206, 53, 212, 79, 57, 225, 131, 9, 35, 137, 33, 131, 9, 35, 140, 46, 182, 213, 82, 69, 18, 70, 22, 85, 82, 72, 31, 123, 235, 169, 162, 135, 28, 111, 185, 225, 130, 5, 20, 78, 56, 222, 120, 224, 128, 254, 246, 215, 89, 99, 137, 35, 139, 42, 167, 156, 110, 182, 216, 95, 122, 229, 147, 74, 38, 149, 83, 75, 41, 162, 135, 27, 106, 165, 145, 66, 6, 24, 96, 126, 246, 214, 85, 82, 70, 22, 88, 94, 117, 212, 77, 52, 206, 54, 213, 83, 74, 39, 156, 110, 182, 213, 82, 70, 23, 90, 101, 147, 74, 38, 151, 90, 102, 149, 82, 70, 24, 94, 119, 220, 112, 189, 244, 207, 58, 230, 150, 87, 89, 99, 138, 37, 148, 78, 53, 211, 73, 35, 138, 38, 151, 90, 104, 159, 124, 239, 185, 225, 132, 16, 62, 246, 213, 83, 73, 35, 137, 35, 139, 42, 165, 147, 74, 38, 152, 95, 123, 233, 163, 137, 36, 144, 63, 251, 234, 166, 152, 95, 122, 231, 153, 98, 134, 22, 87, 90, 102, 151, 91, 108, 175, 185, 226, 134, 24, 95, 124, 240, 191, 251, 235, 170, 165, 145, 67, 9, 35, 139, 42, 168, 159, 123, 235, 170, 166, 151, 90, 104, 158, 118, 214, 86, 86, 86, 87, 92, 109, 180, 206, 53, 211, 74, 37, 147, 74, 39, 153, 98, 136, 31, 122, 232, 160, 128, 256, 254, 245, 211, 73, 35, 137, 33, 131, 9, 35, 139, 43, 170, 165, 146, 71, 25, 97, 131, 10, 39, 153, 97, 132, 14, 55, 218, 102, 152, 94, 117, 209, 67, 9, 35, 139, 42, 167, 154, 104, 159, 122, 232, 159, 122, 232, 159, 122, 230, 151, 90, 103, 155, 107, 169, 163, 138, 40, 159, 123, 235, 171, 170, 166, 150, 85, 83, 74, 37, 148, 79, 59, 234, 166, 150, 86, 87, 91, 105, 163, 139, 41, 162, 134, 21, 84, 80, 61, 242, 198, 23, 90, 102, 151, 91, 106, 168, 160, 127, 252, 239, 188, 238, 181, 211, 74, 37, 146, 72, 31, 121, 227, 138, 39, 153, 99, 139, 42, 166, 149, 83, 74, 37, 146, 70, 24, 96, 128, 255, 249, 227, 139, 41, 162, 134, 22, 88, 94, 117, 211, 74, 39, 154, 102, 152, 94, 120, 221, 114, 198, 21, 82, 70, 24, 95, 123, 235, 170, 166, 152, 94, 118, 214, 86, 85, 83, 74, 38, 149, 82, 71, 27, 108, 175, 185, 227, 139, 41, 162, 134, 22, 85, 82, 70, 22, 88, 95, 123, 234, 165, 148, 79, 57, 228, 142, 54, 214, 86, 86, 88, 94, 117, 212, 78, 53, 210, 70, 24, 94, 118, 214, 86, 85, 83, 74, 38, 149, 82, 71, 25, 100, 142, 56, 222, 118, 216, 95, 121, 227, 139, 43, 172, 174, 182, 215, 91, 106, 165, 147, 75, 41, 163, 139, 44, 175, 187, 234, 167, 155, 106, 168, 159, 122, 229, 147, 74, 40, 158, 120, 223, 121, 227, 139, 43, 171, 170, 166, 150, 86, 85, 83, 76, 47, 187, 234, 166, 152, 95, 123, 233, 161, 131, 10, 38, 150, 85, 82, 70, 24, 95, 122, 230, 150, 88, 94, 118, 216, 94, 118, 213, 82, 71, 27, 106, 165, 147, 75, 44, 174, 181, 211, 74, 39, 156, 110, 183, 219, 105, 161, 131, 10, 37, 147, 75, 43, 170, 166, 152, 95, 123, 234, 168, 158, 117, 211, 74, 37, 146, 70, 23, 91, 107, 169, 163, 139, 43, 170, 167, 154, 102, 151, 90, 102, 150, 86, 85, 83, 74, 40, 159, 122, 230, 151, 90, 102, 150, 86, 87, 92, 110, 182, 216, 96, 126, 248, 222, 119, 219, 105, 163, 137, 35, 139, 43, 169, 163, 138, 40, 159, 122, 230, 152, 94, 117, 211, 74, 38, 151, 90, 102, 150, 86, 86, 86, 88, 96, 127, 250, 232, 159, 124, 238, 183, 218, 102, 151, 90, 101, 147, 73, 33, 132, 15, 58, 230, 150, 86, 88, 94, 117, 210, 71, 28, 110, 183, 218, 102, 150, 88, 95, 123, 235, 170, 166, 150, 86, 86, 85, 84, 78, 56, 222, 117, 211, 75, 42, 166, 150, 86, 86, 86, 88, 96, 126, 246, 216, 95, 123, 235, 171, 171, 172, 175, 186, 230, 150, 88, 94, 119, 219, 106, 168, 158, 120, 223, 124, 239, 186, 230, 149, 83, 73, 34, 134, 22, 86, 85, 83, 75, 42, 168, 157, 114, 199, 27, 106, 168, 160, 126, 246, 216, 95, 122, 230, 150, 86, 86, 86, 87, 90, 103, 154, 101, 147, 75, 42, 167, 155, 105, 163, 137, 36, 143, 60, 240, 190, 247, 218, 102, 152, 95, 123, 234, 165, 147, 74, 37, 147, 75, 41, 163, 138, 40, 158, 118, 216, 95, 122, 231, 155, 105, 161, 131, 10, 37, 147, 73, 33, 130, 6, 24, 95, 123, 234, 166, 150, 87, 91, 106, 168, 159, 123, 233, 163, 138, 40, 159, 122, 230, 150, 87, 90, 102, 151, 89, 98, 134, 24, 94, 118, 216, 95, 122, 231, 155, 106, 165, 147, 73, 33, 131, 11, 41, 163, 138, 40, 159, 123, 233, 163, 137, 35, 138, 39, 154, 103, 154, 103, 154, 102, 150, 85, 82, 69, 19, 74, 40, 159, 122, 232, 159, 123, 234, 167, 154, 102, 150, 87, 89, 99, 137, 34, 134, 23, 90, 102, 150, 88, 95, 122, 231, 154, 102, 150, 86, 85, 81, 66, 7, 25, 98, 135, 27, 106, 167, 154, 102, 151, 89, 99, 139, 41, 163, 138, 40, 159, 122, 229, 147, 74, 39, 155, 106, 167, 154, 103, 155, 107, 171, 170, 166, 150, 88, 95, 122, 232, 159, 123, 236, 175, 186, 232, 159, 121, 225, 130, 6, 21, 82, 71, 27, 106, 167, 154, 103, 155, 106, 167, 154, 102, 149, 82, 72, 31, 122, 232, 159, 123, 234, 166, 150, 88, 95, 122, 230, 150, 86, 86, 86, 86, 85, 83, 75, 43, 171, 170, 166, 150, 86, 86, 87, 91, 107, 170, 168, 158, 118, 215, 91, 105, 162, 134, 22, 86, 86, 86, 85, 82, 70, 22, 86, 87, 92, 110, 182, 214, 87, 91, 107, 169, 162, 136, 30, 120, 223, 122, 230, 150, 87, 91, 106, 167, 153, 99, 138, 38, 150, 86, 86, 86, 87, 91, 105, 161, 131, 11, 43, 171, 171, 171, 172, 174, 182, 214, 87, 91, 106, 166, 150, 88, 95, 122, 230, 152, 94, 117, 211, 74, 39, 154, 103, 155, 106, 166, 150, 85, 83, 74, 39, 153, 99, 140, 46, 182, 213, 81, 67, 11, 41, 163, 137, 36, 143, 57, 226, 135, 27, 107, 171, 171, 170, 168, 157, 115, 203, 42, 168, 158, 120, 223, 123, 235, 170, 165, 146, 69, 17, 67, 9, 36, 143, 59, 234, 168, 158, 119, 219, 105, 161, 131, 9, 34, 135, 25, 99, 138, 38, 150, 86, 86, 86, 85, 81, 65, 3, 9, 34, 136, 30, 119, 219, 105, 162, 135, 27, 105, 163, 137, 35, 139, 41, 162, 134, 22, 86, 87, 89, 99, 137, 34, 135, 27, 106, 165, 147, 74, 40, 159, 124, 240, 191, 251, 235, 172, 175, 186, 229, 147, 75, 43, 171, 171, 170, 166, 150, 85, 82, 72, 30, 118, 215, 91, 107, 170, 166, 149, 81, 67, 10, 40, 158, 118, 213, 83, 74, 40, 159, 123, 233, 163, 139, 43, 171, 170, 166, 151, 91, 106, 167, 154, 102, 151, 89, 99, 139, 43, 171, 169, 161, 131, 11, 43, 171, 170, 168, 160, 128, 256, 254, 246, 214, 85, 83, 75, 43, 172, 174, 182, 213, 82, 69, 18, 72, 31, 122, 230, 150, 86, 88, 95, 123, 235, 170, 168, 160, 126, 246, 214, 88, 96, 125, 244, 207, 58, 230, 151, 92, 110, 181, 211, 74, 38, 150, 86, 88, 93, 114, 200, 32, 126, 246, 213, 82, 69, 18, 69, 19, 75, 42, 167, 154, 103, 155, 108, 173, 179, 203, 43, 171, 171, 169, 162, 136, 30, 120, 222, 118, 213, 84, 79, 59, 233, 164, 143, 59, 235, 171, 169, 163, 139, 41, 163, 139, 42, 166, 150, 86, 85, 83, 74, 38, 150, 86, 88, 95, 121, 227, 139, 41, 162, 135, 28, 110, 181, 210, 70, 21, 81, 67, 12, 47, 187, 233, 162, 134, 23, 92, 111, 187, 233, 164, 143, 57, 226, 135, 28, 110, 184, 223, 122, 229, 147, 74, 40, 160, 126, 247, 220, 111, 187, 235, 171, 171, 171, 170, 166, 152, 95, 124, 238, 184, 223, 123, 234, 168, 159, 124, 239, 187, 233, 163, 137, 35, 140, 45, 178, 197, 18, 72, 30, 119, 219, 107, 172, 174, 184, 224, 126, 245, 211, 75, 43, 169, 163, 138, 37, 147, 75, 43, 171, 169, 164, 142, 55, 217, 98, 135, 27, 107, 171, 169, 163, 137, 34, 134, 22, 88, 95, 122, 230, 149, 82, 72, 31, 122, 232, 159, 121, 226, 135, 27, 105, 163, 139, 41, 163, 138, 37, 146, 70, 24, 95, 122, 232, 159, 121, 226, 134, 21, 81, 66, 5, 20, 79, 59, 235, 171, 170, 168, 159, 121, 225, 131, 10, 40, 159, 123, 235, 171, 170, 166, 150, 87, 90, 102, 150, 88, 94, 117, 209, 67, 9, 36, 142, 54, 215, 91, 107, 170, 166, 150, 85, 83, 75, 44, 175, 187, 234, 166, 149, 83, 75, 42, 167, 154, 102, 152, 95, 123, 235, 170, 166, 151, 89, 99, 140, 48, 192, 256, 254, 248, 221, 114, 199, 28, 111, 187, 234, 166, 149, 83, 74, 40, 160, 126, 246, 214, 86, 87, 92, 111, 187, 234, 168, 158, 120, 223, 122, 230, 149, 82, 72, 31, 122, 229, 147, 74, 38, 149, 82, 70, 21, 81, 66, 6, 22, 88, 95, 122, 231, 155, 107, 170, 166, 150, 86, 87, 91, 105, 163, 138, 39, 153, 99, 137, 33, 130, 8, 30, 119, 219, 106, 165, 146, 69, 19, 75, 41, 163, 137, 35, 138, 37, 147, 74, 38, 150, 88, 96, 127, 252, 238, 182, 214, 86, 86, 85, 82, 71, 25, 98, 135, 27, 106, 166, 149, 82, 71, 28, 110, 182, 214, 86, 86, 88, 93, 116, 207, 59, 233, 163, 139, 43, 171, 171, 170, 166, 149, 82, 71, 26, 102, 150, 88, 96, 127, 250, 230, 151, 91, 108, 174, 181, 209, 65, 2, 8, 32, 126, 245, 210, 70, 22, 85, 81, 67, 10, 37, 147, 75, 41, 163, 137, 33, 132, 15, 59, 235, 169, 162, 134, 24, 96, 127, 251, 234, 168, 158, 120, 221, 114, 200, 32, 126, 246, 213, 83, 75, 43, 171, 170, 166, 150, 86, 86, 87, 89, 98, 134, 22, 88, 96, 126, 246, 214, 85, 83, 74, 38, 152, 94, 120, 223, 124, 239, 188, 240, 191, 249, 227, 139, 44, 176, 191, 250, 230, 151, 91, 107, 171, 171, 172, 173, 179, 203, 43, 171, 172, 175, 187, 235, 171, 170, 166, 149, 82, 69, 18, 69, 17, 65, 4, 14, 56, 222, 118, 213, 83, 75, 41, 163, 138, 38, 149, 82, 70, 21, 82, 72, 30, 117, 209, 66, 5, 18, 69, 17, 68, 15, 59, 234, 166, 150, 88, 95, 122, 230, 152, 94, 118, 214, 85, 82, 70, 23, 90, 104, 160, 128, 253, 244, 208, 64, 254, 248, 224, 128, 254, 247, 219, 108, 176, 192, 254, 247, 219, 105, 164, 143, 58, 229, 145, 65, 1, 2, 5, 17, 65, 1, 1, 1, 4, 16, 64, 256, 253, 241, 193, 1, 3, 9, 33, 129, 1, 4, 15, 60, 239, 185, 226, 136, 32, 126, 245, 209, 65, 3, 11, 41, 161, 129, 3, 11, 41, 161, 130, 5, 17, 65, 4, 16, 64, 256, 254, 245, 209, 65, 3, 9, 34, 136, 32, 127, 251, 235, 171, 171, 169, 163, 140, 47, 185, 225, 131, 11, 42, 165, 147, 73, 35, 138, 38, 152, 95, 123, 236, 175, 186, 229, 147, 73, 36, 143, 59, 233, 162, 135, 25, 99, 139, 44, 174, 184, 223, 122, 229, 147, 73, 34, 135, 27, 105, 163, 139, 43, 170, 165, 147, 73, 35, 139, 44, 175, 187, 236, 175, 187, 233, 161, 131, 11, 43, 171, 170, 166, 149, 83, 75, 43, 171, 170, 166, 152, 95, 122, 229, 147, 75, 42, 166, 152, 94, 118, 214, 86, 86, 88, 95, 123, 233, 161, 130, 8, 31, 123, 235, 169, 162, 136, 31, 123, 236, 174, 184, 222, 119, 219, 108, 174, 184, 223, 122, 232, 159, 121, 226, 135, 28, 110, 181, 211, 75, 43, 172, 174, 181, 211, 74, 40, 158, 118, 214, 86, 86, 87, 90, 103, 155, 105, 163, 138, 40, 159, 121, 226, 136, 32, 126, 245, 211, 74, 37, 147, 74, 38, 150, 85, 82, 69, 19, 74, 40, 159, 124, 239, 187, 235, 171, 170, 168, 160, 126, 245, 211, 74, 37, 147, 74, 38, 149, 82, 69, 18, 70, 21, 83, 74, 38, 150, 85, 83, 74, 38, 150, 85, 83, 74, 38, 150, 85, 83, 74, 40, 158, 120, 222, 119, 217, 100, 141, 50, 199, 28, 112, 192, 255, 251, 236, 174, 184, 224, 128, 254, 245, 212, 79, 58, 232, 159, 121, 225, 129, 1, 1, 4, 13, 49, 193, 4, 13, 49, 196, 13, 49, 193, 3, 10, 38, 152, 95, 0, 0, 0, 0, 0, 0, 0, 0, 0, 0, 0, 0, 0, 0, 0, 0, 0, 0, 0, 0, 0, 0, 0, 0, 0, 0, 0, 0, 0, 0, 0, 0, 0, 0, 0, 0, 0, 0, 0, 0, 0, 0, 0, 0, 0, 0, 0, 0, 0, 0, 0, 0, 0, 0, 0, 0, 0, 0, 0, 0, 0, 0, 0, 0, 0, 0, 0, 0, 0, 0, 0, 0, 0, 0, 0, 0, 0, 0, 0, 0, 0, 0, 0, 0, 0, 0, 0, 0, 0, 0, 0, 0, 0, 0, 0, 0, 0, 0, 0, 0, 0, 0, 0, 0, 0, 0, 0, 0, 0, 0, 0, 0, 0, 0, 0, 0, 0, 0, 0, 0, 0, 0, 0, 0, 0, 0, 0, 0, 0, 0, 0, 0, 0, 0, 0, 0, 0, 0, 0, 0, 0, 0, 0, 0, 0, 0, 0, 0, 0, 0, 0, 0, 0, 0, 0, 0, 0, 0, 0, 0, 0, 0, 0, 0, 0, 0, 0, 0, 0, 0, 0, 0, 0, 0, 0, 0, 0, 0, 0, 0, 0, 0, 0, 0, 0, 0, 0, 0, 0, 0, 0, 0, 0, 0, 0, 0, 0, 0, 0, 0, 0, 0, 0, 0, 0, 0, 0, 0, 0, 0, 0, 0, 0, 0, 0, 0, 0, 0, 0, 0, 0, 0, 0, 0, 0, 0, 0, 0, 0, 0, 0, 0, 0, 0, 0, 0, 0, 0, 0, 0, 0, 0, 0, 0, 0, 0, 0, 0, 0, 0, 0, 0, 0, 0, 0, 0, 0, 0, 0, 0, 0, 0, 0, 0, 0, 0, 0, 0, 0, 0, 0, 0, 0, 0, 0, 0, 0, 0, 0, 0, 0, 0, 0, 0, 0, 0, 0, 0, 0, 0, 0, 0, 0, 0, 0, 0, 0, 0, 0, 0, 0, 0, 0, 0, 0, 0, 0, 0, 0, 0, 0, 0, 0, 0, 0, 0, 0, 0, 0, 0, 0, 0, 0, 0, 0, 0, 0, 0, 0, 0, 0, 0, 0, 0, 0, 0, 0, 0, 0, 0, 0, 0, 0, 0, 0, 0, 0, 0, 0, 0, 0, 0, 0, 0, 0, 0, 0, 0, 0, 0, 0, 0, 0, 0, 0, 0, 0, 0, 0, 0, 0, 0, 0, 0, 0, 0, 0, 0, 0, 0, 0, 0, 0, 0, 0, 0, 0, 0, 0, 0, 0, 0, 0, 0, 0, 0, 0, 0, 0, 0, 0, 0, 0, 0, 0, 0, 0, 0, 0, 0, 0, 0, 0, 0, 0, 0, 0, 0, 0, 0, 0, 0, 0, 0, 0, 0, 0, 0, 0, 0, 0, 0, 0, 0, 0, 0, 0, 0, 0, 0, 0, 0, 0, 0, 0, 0, 0, 0, 0, 0, 0, 0, 0, 0, 0, 0, 0, 0, 0, 0, 0, 0, 0, 0, 0, 0, 0, 0, 0, 0, 0, 0, 0, 0, 0, 0, 0, 0, 0, 0, 0, 0, 0, 0, 0, 0, 0, 0, 0, 0, 0, 0, 0, 0, 0, 0, 0, 0, 0, 0, 0, 0, 0, 0, 0, 0, 0, 0, 0, 0, 0, 0, 0, 0, 0, 0, 0, 0, 0, 0, 0, 0, 0, 0, 0, 0, 0, 0, 0, 0, 0, 0, 0, 0, 0, 0, 0, 0, 0, 0, 0, 0, 0, 0, 0, 0, 0, 0, 0, 0, 0, 0, 0, 0, 0, 0, 0, 0, 0, 0, 0, 0, 0, 0, 0, 0, 0, 0, 0, 0, 0, 0, 0, 0, 0, 0, 0, 0, 0, 0, 0, 0, 0, 0, 0, 0, 0, 0, 0, 0, 0, 0, 0, 0, 0, 0, 0, 0, 0, 0, 0, 0, 0, 0, 0, 0, 0, 0, 0, 0, 0, 0, 0, 0, 0, 0, 0, 0, 0, 0, 0, 0, 0, 0, 0, 0, 0, 0, 0, 0, 0, 0, 0, 0, 0, 0, 0, 0, 0, 0, 0, 0, 0, 0, 0, 0, 0, 0, 0, 0, 0, 0, 0, 0, 0, 0, 0, 0, 0, 0, 0, 0, 0, 0, 0, 0, 0, 0, 0, 0, 0, 0, 0, 0, 0, 0, 0, 0, 0, 0, 0, 0, 0, 0, 0, 0, 0, 0, 0, 0, 0, 0, 0, 0, 0, 0, 0, 0, 0, 0, 0, 0, 0, 0, 0, 0, 0, 0, 0, 0, 0, 0, 0, 0, 0, 0, 0, 0, 0, 0, 0, 0, 0, 0, 0, 0, 0, 0, 0, 0, 0, 0, 0, 0, 0, 0, 0, 0, 0, 0, 0, 0, 0, 0, 0, 0, 0, 0, 0, 0, 0, 0, 0, 0, 0, 0, 0, 0, 0, 0, 0, 0, 0, 0, 0, 0, 0, 0, 0, 0, 0, 0, 0, 0, 0, 0, 0, 0, 0, 0, 0, 0, 0, 0, 0, 0, 0, 0, 0, 0, 0, 0, 0, 0, 0, 0, 0, 0, 0, 0, 0, 0, 0, 0, 0, 0, 0, 0, 0, 0, 0, 0, 0, 0, 0, 0, 0, 0, 0, 0, 0, 0, 0, 0, 0, 0, 0, 0, 0, 0, 0, 0, 0, 0, 0, 0, 0, 0, 0, 0, 0, 0, 0, 0, 0, 0, 0, 0, 0, 0, 0, 0, 0, 0, 0, 0, 0, 0, 0, 0, 0, 0, 0, 0, 0, 0, 0, 0, 0, 0, 0, 0, 0, 0, 0, 0, 0, 0, 0, 0, 0, 0, 0, 0, 0, 0, 0, 0, 0, 0, 0, 0, 0, 0, 0, 0, 0, 0, 0, 0, 0, 0, 0, 0, 0, 0, 0, 0, 0, 0, 0, 0, 0, 0, 0, 0, 0, 0, 0, 0, 0, 0, 0, 0, 0, 0, 0, 0, 0, 0, 0, 0, 0, 0, 0, 0, 0, 0, 0, 0, 0, 0, 0, 0, 0, 0, 0, 0, 0, 0, 0, 0, 0, 0, 0, 0, 0, 0, 0, 0, 0, 0, 0, 0, 0, 0, 0, 0, 0, 0, 0, 0, 0, 0, 0, 0, 0, 0, 0, 0, 0, 0, 0, 0, 0, 0, 0, 0, 0, 0, 0, 0, 0, 0, 0, 0, 0, 0, 0, 0, 0, 0, 0, 0, 0, 0, 0, 0, 0, 0, 0, 0, 0, 0, 0, 0, 0, 0, 0, 0, 0, 0, 0, 0, 0, 0, 0, 0, 0, 0, 0, 0, 0, 0, 0, 0, 0, 0, 0, 0, 0, 0, 0, 0, 0, 0, 0, 0, 0, 0, 0, 0, 0, 0, 0, 0, 0, 0, 0, 0, 0, 0, 0, 0, 0, 0, 0, 0, 0, 0, 0, 0, 0, 0, 0, 0, 0, 0, 0, 0, 0, 0, 0, 0, 0, 0, 0, 0, 0, 0, 0, 0, 0, 0, 0, 0, 0, 0, 0, 0, 0, 0, 0, 0, 0, 0, 0, 0, 0, 0, 0, 0, 0, 0, 0, 0, 0, 0, 0, 0, 0, 0, 0, 0, 0, 0, 0, 0, 0, 0, 0, 0, 0, 0, 0, 0, 0, 0, 0, 0, 0, 0, 0, 0, 0, 0, 0, 0, 0, 0, 0, 0, 0, 0, 0, 0, 0, 0, 0, 0, 0, 0, 0, 0, 0, 0, 0, 0, 0, 0, 0, 0, 0, 0, 0, 0, 0, 0, 0, 0, 0, 0, 0, 0, 0, 0, 0, 0, 0, 0, 0, 0, 0, 0, 0, 0, 0, 0, 0, 0, 0, 0, 0, 0, 0, 0, 0, 0, 0, 0, 0, 0, 0, 0, 0, 0, 0, 0, 0, 0, 0, 0, 0, 0, 0, 0, 0, 0, 0, 0, 0, 0, 0, 0, 0, 0, 0, 0, 0, 0, 0, 0, 0, 0, 0, 0, 0, 0, 0, 0, 0, 0, 0, 0, 0, 0, 0, 0, 0, 0, 0, 0, 0, 0, 0, 0, 0, 0, 0, 0, 0, 0, 0, 0, 0, 0, 0, 0, 0, 0, 0, 0, 0, 0, 0, 0, 0, 0, 0, 0, 0, 0, 0, 0, 0, 0, 0, 0, 0, 0, 0, 0, 0, 0, 0, 0, 0, 0, 0, 0, 0, 0, 0, 0, 0, 0, 0, 0, 0, 0, 0, 0, 0, 0, 0, 0, 0, 0, 0, 0, 0, 0, 0, 0, 0, 0, 0, 0, 0, 0, 0, 0, 0, 0, 0, 0, 0, 0, 0, 0, 0, 0, 0, 0, 0, 0, 0, 0, 0, 0, 0, 0, 0, 0, 0, 0, 0, 0, 0, 0, 0, 0, 0, 0, 0, 0, 0, 0, 0, 0, 0, 0, 0, 0, 0, 0, 0, 0, 0, 0, 0, 0, 0, 0, 0, 0, 0, 0, 0, 0, 0, 0, 0, 0, 0, 0, 0, 0, 0, 0, 0, 0, 0, 0, 0, 0, 0, 0, 0, 0, 0, 0, 0, 0, 0, 0, 0, 0, 0, 0, 0, 0, 0, 0, 0, 0, 0, 0, 0, 0, 0, 0, 0]\n"
          ]
        }
      ],
      "source": [
        "print(datetime.now())\n",
        "print(\"Load RCI values...\")\n",
        "loader = DataLoader()\n",
        "filepath = DATA_DIR+RCI_FILE\n",
        "gene_to_rci = loader.load_gene_rci_values(filepath,EXCLUSIONS)\n",
        "print('Num RCI:', len(gene_to_rci.keys()))\n",
        "print('Example RCI:', list(gene_to_rci.items())[:3])\n",
        "print(\"Load genes...\")\n",
        "all_genes = list(gene_to_rci.keys())\n",
        "print(datetime.now())\n",
        "print('Load sequence...')\n",
        "filepath = DATA_DIR+SEQUENCE_FILE\n",
        "labels,allids,allseq = loader.load_sequence(filepath)\n",
        "print(datetime.now())\n",
        "print('Num IDs:',len(allids))\n",
        "print('Example IDs:',[allids[x] for x in [10, 20, 30, 40]] )\n",
        "print('Count',np.count_nonzero(labels),'ones out of',len(labels),'labels.')\n",
        "print('Num labels:',len(labels))\n",
        "print('Example labels:',[labels[x] for x in [10, 20, 30, 40]] )\n",
        "print('Num sequences:',len(allseq))\n",
        "print('Example sequence:',allseq[3])\n",
        "loader = None  # drop K-mer cache to save RAM"
      ]
    },
    {
      "cell_type": "markdown",
      "metadata": {
        "id": "VDZ6siB_Kq04"
      },
      "source": [
        "## Model"
      ]
    },
    {
      "cell_type": "code",
      "execution_count": 8,
      "metadata": {
        "id": "AwMbRjm0FLBF"
      },
      "outputs": [],
      "source": [
        "def build_model():\n",
        "    ALPHABET=4**K+1  # NUMBER OF DISTINCT KMERS POSSIBLE, add one if N gets mask value\n",
        "    ADJUST_LENGTH = MAXLEN-K+1  # fixed length sequences\n",
        "    cnn = Sequential()\n",
        "    embed_layer = Embedding(ALPHABET,EMBED_DIMEN,input_length=ADJUST_LENGTH,mask_zero=True)   \n",
        "    cnn1_layer = Conv1D(CFILTERS, FILTERSIZE)\n",
        "    pool_layer = GlobalAveragePooling1D()\n",
        "    #pool_layer = GlobalMaxPooling1D()\n",
        "    flat_layer = Flatten()\n",
        "    den1_layer = Dense(DCELLS)\n",
        "    drop_layer = Dropout(0.5)\n",
        "    output_layer = Dense(1,activation='sigmoid',dtype=dt)\n",
        "\n",
        "    cnn.add(embed_layer)\n",
        "    cnn.add(cnn1_layer)\n",
        "    cnn.add(pool_layer)\n",
        "    cnn.add(output_layer)\n",
        "\n",
        "    bc=BinaryCrossentropy(from_logits=False)\n",
        "    print(\"COMPILE\")\n",
        "    cnn.compile(loss=bc, optimizer=\"Adam\",metrics=[\"accuracy\"])\n",
        "    return cnn"
      ]
    },
    {
      "cell_type": "code",
      "execution_count": 9,
      "metadata": {
        "colab": {
          "base_uri": "https://localhost:8080/"
        },
        "id": "clj-wufgFLBF",
        "outputId": "712e0ef6-67bc-4a7f-dcec-192b4f0baa99"
      },
      "outputs": [
        {
          "output_type": "stream",
          "name": "stdout",
          "text": [
            "2023-01-26 12:39:46.235767\n",
            "COMPILE\n",
            "Model: \"sequential\"\n",
            "_________________________________________________________________\n",
            " Layer (type)                Output Shape              Param #   \n",
            "=================================================================\n",
            " embedding (Embedding)       (None, 3997, 4)           1028      \n",
            "                                                                 \n",
            " conv1d (Conv1D)             (None, 3990, 64)          2112      \n",
            "                                                                 \n",
            " global_average_pooling1d (G  (None, 64)               0         \n",
            " lobalAveragePooling1D)                                          \n",
            "                                                                 \n",
            " dense_1 (Dense)             (None, 1)                 65        \n",
            "                                                                 \n",
            "=================================================================\n",
            "Total params: 3,205\n",
            "Trainable params: 3,205\n",
            "Non-trainable params: 0\n",
            "_________________________________________________________________\n",
            "None\n"
          ]
        }
      ],
      "source": [
        "print(datetime.now())\n",
        "model=build_model()\n",
        "print(model.summary())  # Print this only once\n",
        "model=None"
      ]
    },
    {
      "cell_type": "markdown",
      "metadata": {
        "id": "MgrC1alOKq07"
      },
      "source": [
        "## Training"
      ]
    },
    {
      "cell_type": "code",
      "execution_count": 10,
      "metadata": {
        "id": "W9xiFzNbFLBE"
      },
      "outputs": [],
      "source": [
        "import gc\n",
        "class CrossValidator():\n",
        "    def __init__(self,epochs,folds,quick_test=False,threshold=0.5):\n",
        "        self.epochs = epochs\n",
        "        self.folds = folds\n",
        "        self.quick_test = quick_test\n",
        "        self.threshold = threshold\n",
        "    \n",
        "    def get_gene_subset(self,all_genes,sub_index):\n",
        "        sub_genes = set()\n",
        "        for index in sub_index:\n",
        "            one_gene = all_genes[index]\n",
        "            sub_genes.add(one_gene)\n",
        "        return sub_genes\n",
        "    \n",
        "    def get_X_y(self,gene_set,allids,allX,allY):\n",
        "        cnt = len(allids)\n",
        "        subsetX=[]\n",
        "        subsetY=[]\n",
        "        if cnt != len(allX) or cnt!= len(allY):\n",
        "            raise Exception('Lengths differ')\n",
        "        for i in range(cnt):\n",
        "            gene_id,tran_id = allids[i]\n",
        "            if gene_id in gene_set:\n",
        "                oneX = allX[i]\n",
        "                oneY = allY[i]\n",
        "                subsetX.append(oneX)\n",
        "                subsetY.append(oneY)\n",
        "        subsetX = np.array(subsetX)\n",
        "        subsetY = np.array(subsetY).reshape((-1,1))\n",
        "        return subsetX,subsetY\n",
        "    \n",
        "    def do_cross_validation(self):\n",
        "        cv_accuracy=[]\n",
        "        cv_precision=[]\n",
        "        cv_recall=[]\n",
        "        cv_f1=[]\n",
        "        cv_auc=[]\n",
        "        fold=0\n",
        "        print(datetime.now())\n",
        "        print('splitting')\n",
        "        # KFold shuffles once before making the partitions\n",
        "        splitter = KFold(n_splits=self.folds,shuffle=True,random_state=42)\n",
        "        splits = splitter.split(all_genes)\n",
        "        splitter = None\n",
        "        for train_index,valid_index in splits:\n",
        "            fold += 1\n",
        "            print('Fold',fold)\n",
        "            train_genes = self.get_gene_subset(all_genes,train_index)\n",
        "            X_train,y_train = self.get_X_y(train_genes,allids,allseq,labels)\n",
        "            valid_genes = self.get_gene_subset(all_genes,valid_index)\n",
        "            X_valid,y_valid = self.get_X_y(valid_genes,allids,allseq,labels)\n",
        "\n",
        "            print('Training example')\n",
        "            print(X_train[0])\n",
        "\n",
        "            print(\"BUILD MODEL\")\n",
        "            model=build_model()\n",
        "\n",
        "            print(\"FIT\")\n",
        "            print(datetime.now())\n",
        "            history=model.fit(X_train, y_train, # batch_size=10, default=32 works nicely\n",
        "              epochs=self.epochs, verbose=1,  # verbose=1 for ascii art, verbose=0 for none\n",
        "              validation_data=(X_valid,y_valid) )\n",
        "\n",
        "            print(datetime.now())\n",
        "\n",
        "            pd.DataFrame(history.history).plot(figsize=(8,5))\n",
        "            plt.grid(True)\n",
        "            plt.gca().set_ylim(0,1)\n",
        "            plt.show()\n",
        "\n",
        "            print('Train sizes',X_train.shape,y_train.shape)\n",
        "            print('Train set ones/size',\n",
        "                  np.count_nonzero(y_train),'/',len(y_train))\n",
        "\n",
        "            print(\"Compute valiation accuracy\")\n",
        "            print(datetime.now())\n",
        "            print('Valid sizes',X_valid.shape,y_valid.shape)\n",
        "            print('Valid set ones/size',\n",
        "                  np.count_nonzero(y_valid),'/',len(y_valid))\n",
        "            yhat_pred=model.predict(X_valid, verbose=0) \n",
        "            \n",
        "            print('Range of scores:',np.min(yhat_pred),'to',np.max(yhat_pred))\n",
        "            yhat_classes=np.where(yhat_pred > self.threshold, 1, 0)\n",
        "            print('Score threshold',self.threshold)\n",
        "            print('Prediction set ones/size',\n",
        "                  np.count_nonzero(yhat_classes),'/',len(yhat_classes))\n",
        "            # accuracy: (tp + tn) / (p + n)\n",
        "            accuracy = accuracy_score(y_valid, yhat_classes)*100.\n",
        "            # precision tp / (tp + fp)\n",
        "            precision = precision_score(y_valid, yhat_classes)*100.\n",
        "            # recall: tp / (tp + fn)\n",
        "            recall = recall_score(y_valid, yhat_classes)*100.\n",
        "            # f1: 2 tp / (2 tp + fp + fn)\n",
        "            f1 = f1_score(y_valid, yhat_classes)*100.\n",
        "            # PRC\n",
        "            prc_Y, prc_X, prc_bins = precision_recall_curve(y_valid, yhat_pred)\n",
        "            auprc = auc(prc_X,prc_Y)*100.\n",
        "            count_ones= len(y_valid[y_valid==1])\n",
        "            count_zeros= len(y_valid[y_valid==0])\n",
        "            guess = max(count_ones,count_zeros) / len(y_valid)\n",
        "            plt.plot(prc_X, prc_Y, marker='.')\n",
        "            plt.plot([0, 1], [guess,guess], linestyle='--')\n",
        "            plt.xlabel('Recall')\n",
        "            plt.ylabel('Precision')\n",
        "            plt.show()\n",
        "            \n",
        "            print('Accuracy: %.2f%% Precision: %.2f%% Recall: %.2f%%' % (accuracy,precision,recall)) \n",
        "            print('F1: %.2f%% AUPRC: %.2f%%' % (f1,auprc)) \n",
        "            print(datetime.now())\n",
        "            cv_accuracy.append(accuracy)\n",
        "            cv_precision.append(precision)\n",
        "            cv_recall.append(recall)\n",
        "            cv_f1.append(f1)\n",
        "            cv_auc.append(auprc)\n",
        "            \n",
        "            if self.quick_test:   \n",
        "                print('Break -- this was for code testing only')\n",
        "                break\n",
        "            model = None\n",
        "            history = None\n",
        "            prc_Y = None\n",
        "            prc_X = None\n",
        "            prc_bins = None\n",
        "            yhat_classes = None\n",
        "            X_train = None\n",
        "            y_train = None\n",
        "            train_genes = None\n",
        "            X_valid = None\n",
        "            y_valid = None\n",
        "            valid_genes = None\n",
        "            # There is a memory leak within the fit() command!\n",
        "            # Each successive call to fit() consumes more memory.\n",
        "            tf.keras.backend.clear_session()\n",
        "            gc.collect()\n",
        "            time.sleep(1)  # hope gc kicks in\n",
        "        print()\n",
        "        return cv_accuracy, cv_precision, cv_recall, cv_f1, cv_auc"
      ]
    },
    {
      "cell_type": "code",
      "execution_count": 11,
      "metadata": {
        "colab": {
          "base_uri": "https://localhost:8080/",
          "height": 1000
        },
        "id": "XC9m0W-pFLBH",
        "outputId": "b9573c1d-7fd7-4925-fa28-49f1052540f3",
        "scrolled": false
      },
      "outputs": [
        {
          "output_type": "stream",
          "name": "stdout",
          "text": [
            "2023-01-26 12:39:49.379052\n",
            "2023-01-26 12:39:49.380779\n",
            "splitting\n",
            "Fold 1\n",
            "Training example\n",
            "[167 155 106 ...   0   0   0]\n",
            "BUILD MODEL\n",
            "COMPILE\n",
            "FIT\n",
            "2023-01-26 12:39:59.965148\n",
            "Epoch 1/10\n",
            "1356/1356 [==============================] - 20s 9ms/step - loss: 0.6674 - accuracy: 0.5766 - val_loss: 0.6603 - val_accuracy: 0.5903\n",
            "Epoch 2/10\n",
            "1356/1356 [==============================] - 9s 7ms/step - loss: 0.6598 - accuracy: 0.5896 - val_loss: 0.6610 - val_accuracy: 0.6000\n",
            "Epoch 3/10\n",
            "1356/1356 [==============================] - 10s 7ms/step - loss: 0.6552 - accuracy: 0.6013 - val_loss: 0.6531 - val_accuracy: 0.6111\n",
            "Epoch 4/10\n",
            "1356/1356 [==============================] - 10s 7ms/step - loss: 0.6520 - accuracy: 0.6065 - val_loss: 0.6546 - val_accuracy: 0.6060\n",
            "Epoch 5/10\n",
            "1356/1356 [==============================] - 10s 7ms/step - loss: 0.6495 - accuracy: 0.6095 - val_loss: 0.6525 - val_accuracy: 0.6148\n",
            "Epoch 6/10\n",
            "1356/1356 [==============================] - 10s 7ms/step - loss: 0.6482 - accuracy: 0.6113 - val_loss: 0.6528 - val_accuracy: 0.6104\n",
            "Epoch 7/10\n",
            "1356/1356 [==============================] - 9s 7ms/step - loss: 0.6469 - accuracy: 0.6134 - val_loss: 0.6591 - val_accuracy: 0.5983\n",
            "Epoch 8/10\n",
            "1356/1356 [==============================] - 9s 7ms/step - loss: 0.6472 - accuracy: 0.6113 - val_loss: 0.6528 - val_accuracy: 0.6112\n",
            "Epoch 9/10\n",
            "1356/1356 [==============================] - 10s 7ms/step - loss: 0.6468 - accuracy: 0.6109 - val_loss: 0.6533 - val_accuracy: 0.6044\n",
            "Epoch 10/10\n",
            "1356/1356 [==============================] - 10s 7ms/step - loss: 0.6458 - accuracy: 0.6143 - val_loss: 0.6518 - val_accuracy: 0.6077\n",
            "2023-01-26 12:42:23.734088\n"
          ]
        },
        {
          "output_type": "display_data",
          "data": {
            "text/plain": [
              "<Figure size 576x360 with 1 Axes>"
            ],
            "image/png": "[encoded data removed]"
          },
          "metadata": {
            "needs_background": "light"
          }
        },
        {
          "output_type": "stream",
          "name": "stdout",
          "text": [
            "Train sizes (43381, 3997) (43381, 1)\n",
            "Train set ones/size 20635 / 43381\n",
            "Compute valiation accuracy\n",
            "2023-01-26 12:42:23.892912\n",
            "Valid sizes (11029, 3997) (11029, 1)\n",
            "Valid set ones/size 5409 / 11029\n",
            "Range of scores: 0.015043661 to 0.8984459\n",
            "Score threshold 0.5\n",
            "Prediction set ones/size 6306 / 11029\n"
          ]
        },
        {
          "output_type": "display_data",
          "data": {
            "text/plain": [
              "<Figure size 432x288 with 1 Axes>"
            ],
            "image/png": "[encoded data removed]"
          },
          "metadata": {
            "needs_background": "light"
          }
        },
        {
          "output_type": "stream",
          "name": "stdout",
          "text": [
            "Accuracy: 60.77% Precision: 58.58% Recall: 68.29%\n",
            "F1: 63.06% AUPRC: 62.64%\n",
            "2023-01-26 12:42:25.385525\n",
            "Fold 2\n",
            "Training example\n",
            "[167 155 106 ...   0   0   0]\n",
            "BUILD MODEL\n",
            "COMPILE\n",
            "FIT\n",
            "2023-01-26 12:42:37.928124\n",
            "Epoch 1/10\n",
            "1358/1358 [==============================] - 11s 7ms/step - loss: 0.6666 - accuracy: 0.5765 - val_loss: 0.6628 - val_accuracy: 0.5864\n",
            "Epoch 2/10\n",
            "1358/1358 [==============================] - 9s 7ms/step - loss: 0.6575 - accuracy: 0.5959 - val_loss: 0.6598 - val_accuracy: 0.5968\n",
            "Epoch 3/10\n",
            "1358/1358 [==============================] - 10s 7ms/step - loss: 0.6530 - accuracy: 0.6005 - val_loss: 0.6565 - val_accuracy: 0.6135\n",
            "Epoch 4/10\n",
            "1358/1358 [==============================] - 9s 7ms/step - loss: 0.6493 - accuracy: 0.6108 - val_loss: 0.6579 - val_accuracy: 0.5996\n",
            "Epoch 5/10\n",
            "1358/1358 [==============================] - 9s 7ms/step - loss: 0.6470 - accuracy: 0.6112 - val_loss: 0.6621 - val_accuracy: 0.5872\n",
            "Epoch 6/10\n",
            "1358/1358 [==============================] - 10s 7ms/step - loss: 0.6462 - accuracy: 0.6122 - val_loss: 0.6586 - val_accuracy: 0.5972\n",
            "Epoch 7/10\n",
            "1358/1358 [==============================] - 10s 7ms/step - loss: 0.6450 - accuracy: 0.6136 - val_loss: 0.6561 - val_accuracy: 0.6037\n",
            "Epoch 8/10\n",
            "1358/1358 [==============================] - 10s 8ms/step - loss: 0.6447 - accuracy: 0.6174 - val_loss: 0.6579 - val_accuracy: 0.5994\n",
            "Epoch 9/10\n",
            "1358/1358 [==============================] - 9s 7ms/step - loss: 0.6446 - accuracy: 0.6139 - val_loss: 0.6595 - val_accuracy: 0.5930\n",
            "Epoch 10/10\n",
            "1358/1358 [==============================] - 10s 7ms/step - loss: 0.6445 - accuracy: 0.6150 - val_loss: 0.6579 - val_accuracy: 0.6023\n",
            "2023-01-26 12:44:15.790624\n"
          ]
        },
        {
          "output_type": "display_data",
          "data": {
            "text/plain": [
              "<Figure size 576x360 with 1 Axes>"
            ],
            "image/png": "[encoded data removed]"
          },
          "metadata": {
            "needs_background": "light"
          }
        },
        {
          "output_type": "stream",
          "name": "stdout",
          "text": [
            "Train sizes (43433, 3997) (43433, 1)\n",
            "Train set ones/size 20747 / 43433\n",
            "Compute valiation accuracy\n",
            "2023-01-26 12:44:15.923735\n",
            "Valid sizes (10977, 3997) (10977, 1)\n",
            "Valid set ones/size 5297 / 10977\n",
            "Range of scores: 0.030897686 to 0.93478644\n",
            "Score threshold 0.5\n",
            "Prediction set ones/size 6575 / 10977\n"
          ]
        },
        {
          "output_type": "display_data",
          "data": {
            "text/plain": [
              "<Figure size 432x288 with 1 Axes>"
            ],
            "image/png": "[encoded data removed]"
          },
          "metadata": {
            "needs_background": "light"
          }
        },
        {
          "output_type": "stream",
          "name": "stdout",
          "text": [
            "Accuracy: 60.23% Precision: 57.08% Recall: 70.85%\n",
            "F1: 63.22% AUPRC: 60.14%\n",
            "2023-01-26 12:44:17.121282\n",
            "Fold 3\n",
            "Training example\n",
            "[167 155 106 ...   0   0   0]\n",
            "BUILD MODEL\n",
            "COMPILE\n",
            "FIT\n",
            "2023-01-26 12:44:30.312363\n",
            "Epoch 1/10\n",
            "1354/1354 [==============================] - 10s 7ms/step - loss: 0.6687 - accuracy: 0.5765 - val_loss: 0.6627 - val_accuracy: 0.5888\n",
            "Epoch 2/10\n",
            "1354/1354 [==============================] - 10s 7ms/step - loss: 0.6574 - accuracy: 0.5989 - val_loss: 0.6596 - val_accuracy: 0.5880\n",
            "Epoch 3/10\n",
            "1354/1354 [==============================] - 9s 7ms/step - loss: 0.6509 - accuracy: 0.6115 - val_loss: 0.6586 - val_accuracy: 0.5929\n",
            "Epoch 4/10\n",
            "1354/1354 [==============================] - 9s 7ms/step - loss: 0.6491 - accuracy: 0.6109 - val_loss: 0.6606 - val_accuracy: 0.5869\n",
            "Epoch 5/10\n",
            "1354/1354 [==============================] - 9s 7ms/step - loss: 0.6461 - accuracy: 0.6152 - val_loss: 0.6599 - val_accuracy: 0.5910\n",
            "Epoch 6/10\n",
            "1354/1354 [==============================] - 9s 7ms/step - loss: 0.6452 - accuracy: 0.6152 - val_loss: 0.6616 - val_accuracy: 0.5886\n",
            "Epoch 7/10\n",
            "1354/1354 [==============================] - 10s 7ms/step - loss: 0.6442 - accuracy: 0.6181 - val_loss: 0.6622 - val_accuracy: 0.5933\n",
            "Epoch 8/10\n",
            "1354/1354 [==============================] - 9s 7ms/step - loss: 0.6438 - accuracy: 0.6181 - val_loss: 0.6680 - val_accuracy: 0.5764\n",
            "Epoch 9/10\n",
            "1354/1354 [==============================] - 10s 7ms/step - loss: 0.6429 - accuracy: 0.6203 - val_loss: 0.6808 - val_accuracy: 0.5673\n",
            "Epoch 10/10\n",
            "1354/1354 [==============================] - 9s 7ms/step - loss: 0.6425 - accuracy: 0.6207 - val_loss: 0.6703 - val_accuracy: 0.5755\n",
            "2023-01-26 12:46:06.328505\n"
          ]
        },
        {
          "output_type": "display_data",
          "data": {
            "text/plain": [
              "<Figure size 576x360 with 1 Axes>"
            ],
            "image/png": "[encoded data removed]"
          },
          "metadata": {
            "needs_background": "light"
          }
        },
        {
          "output_type": "stream",
          "name": "stdout",
          "text": [
            "Train sizes (43311, 3997) (43311, 1)\n",
            "Train set ones/size 20779 / 43311\n",
            "Compute valiation accuracy\n",
            "2023-01-26 12:46:06.473342\n",
            "Valid sizes (11099, 3997) (11099, 1)\n",
            "Valid set ones/size 5265 / 11099\n",
            "Range of scores: 0.023044806 to 0.9474647\n",
            "Score threshold 0.5\n",
            "Prediction set ones/size 7597 / 11099\n"
          ]
        },
        {
          "output_type": "display_data",
          "data": {
            "text/plain": [
              "<Figure size 432x288 with 1 Axes>"
            ],
            "image/png": "[encoded data removed]"
          },
          "metadata": {
            "needs_background": "light"
          }
        },
        {
          "output_type": "stream",
          "name": "stdout",
          "text": [
            "Accuracy: 57.55% Precision: 53.64% Recall: 77.40%\n",
            "F1: 63.36% AUPRC: 59.05%\n",
            "2023-01-26 12:46:07.676754\n",
            "Fold 4\n",
            "Training example\n",
            "[167 155 106 ...   0   0   0]\n",
            "BUILD MODEL\n",
            "COMPILE\n",
            "FIT\n",
            "2023-01-26 12:46:20.337350\n",
            "Epoch 1/10\n",
            "1366/1366 [==============================] - 11s 8ms/step - loss: 0.6679 - accuracy: 0.5782 - val_loss: 0.6650 - val_accuracy: 0.5768\n",
            "Epoch 2/10\n",
            "1366/1366 [==============================] - 10s 7ms/step - loss: 0.6581 - accuracy: 0.5982 - val_loss: 0.6604 - val_accuracy: 0.5828\n",
            "Epoch 3/10\n",
            "1366/1366 [==============================] - 9s 7ms/step - loss: 0.6538 - accuracy: 0.6033 - val_loss: 0.6603 - val_accuracy: 0.5912\n",
            "Epoch 4/10\n",
            "1366/1366 [==============================] - 10s 7ms/step - loss: 0.6500 - accuracy: 0.6098 - val_loss: 0.6655 - val_accuracy: 0.5879\n",
            "Epoch 5/10\n",
            "1366/1366 [==============================] - 10s 7ms/step - loss: 0.6475 - accuracy: 0.6147 - val_loss: 0.6596 - val_accuracy: 0.6023\n",
            "Epoch 6/10\n",
            "1366/1366 [==============================] - 10s 7ms/step - loss: 0.6461 - accuracy: 0.6155 - val_loss: 0.6597 - val_accuracy: 0.6005\n",
            "Epoch 7/10\n",
            "1366/1366 [==============================] - 10s 7ms/step - loss: 0.6452 - accuracy: 0.6167 - val_loss: 0.6604 - val_accuracy: 0.5960\n",
            "Epoch 8/10\n",
            "1366/1366 [==============================] - 10s 7ms/step - loss: 0.6450 - accuracy: 0.6157 - val_loss: 0.6587 - val_accuracy: 0.5986\n",
            "Epoch 9/10\n",
            "1366/1366 [==============================] - 10s 7ms/step - loss: 0.6446 - accuracy: 0.6173 - val_loss: 0.6608 - val_accuracy: 0.5998\n",
            "Epoch 10/10\n",
            "1366/1366 [==============================] - 10s 7ms/step - loss: 0.6444 - accuracy: 0.6155 - val_loss: 0.6625 - val_accuracy: 0.5982\n",
            "2023-01-26 12:47:59.977667\n"
          ]
        },
        {
          "output_type": "display_data",
          "data": {
            "text/plain": [
              "<Figure size 576x360 with 1 Axes>"
            ],
            "image/png": "[encoded data removed]"
          },
          "metadata": {
            "needs_background": "light"
          }
        },
        {
          "output_type": "stream",
          "name": "stdout",
          "text": [
            "Train sizes (43698, 3997) (43698, 1)\n",
            "Train set ones/size 21077 / 43698\n",
            "Compute valiation accuracy\n",
            "2023-01-26 12:48:00.151387\n",
            "Valid sizes (10712, 3997) (10712, 1)\n",
            "Valid set ones/size 4967 / 10712\n",
            "Range of scores: 0.016125297 to 0.9765518\n",
            "Score threshold 0.5\n",
            "Prediction set ones/size 5769 / 10712\n"
          ]
        },
        {
          "output_type": "display_data",
          "data": {
            "text/plain": [
              "<Figure size 432x288 with 1 Axes>"
            ],
            "image/png": "[encoded data removed]"
          },
          "metadata": {
            "needs_background": "light"
          }
        },
        {
          "output_type": "stream",
          "name": "stdout",
          "text": [
            "Accuracy: 59.82% Precision: 55.75% Recall: 64.75%\n",
            "F1: 59.91% AUPRC: 57.14%\n",
            "2023-01-26 12:48:01.324533\n",
            "Fold 5\n",
            "Training example\n",
            "[169 163 140 ...   0   0   0]\n",
            "BUILD MODEL\n",
            "COMPILE\n",
            "FIT\n",
            "2023-01-26 12:48:14.083147\n",
            "Epoch 1/10\n",
            "1370/1370 [==============================] - 11s 7ms/step - loss: 0.6686 - accuracy: 0.5751 - val_loss: 0.6618 - val_accuracy: 0.5903\n",
            "Epoch 2/10\n",
            "1370/1370 [==============================] - 10s 7ms/step - loss: 0.6592 - accuracy: 0.5938 - val_loss: 0.6553 - val_accuracy: 0.6139\n",
            "Epoch 3/10\n",
            "1370/1370 [==============================] - 10s 7ms/step - loss: 0.6535 - accuracy: 0.6047 - val_loss: 0.6569 - val_accuracy: 0.6047\n",
            "Epoch 4/10\n",
            "1370/1370 [==============================] - 10s 7ms/step - loss: 0.6496 - accuracy: 0.6114 - val_loss: 0.6541 - val_accuracy: 0.6068\n",
            "Epoch 5/10\n",
            "1370/1370 [==============================] - 9s 7ms/step - loss: 0.6480 - accuracy: 0.6115 - val_loss: 0.6553 - val_accuracy: 0.6023\n",
            "Epoch 6/10\n",
            "1370/1370 [==============================] - 10s 7ms/step - loss: 0.6458 - accuracy: 0.6145 - val_loss: 0.6551 - val_accuracy: 0.6024\n",
            "Epoch 7/10\n",
            "1370/1370 [==============================] - 9s 7ms/step - loss: 0.6454 - accuracy: 0.6152 - val_loss: 0.6562 - val_accuracy: 0.6028\n",
            "Epoch 8/10\n",
            "1370/1370 [==============================] - 10s 7ms/step - loss: 0.6453 - accuracy: 0.6160 - val_loss: 0.6581 - val_accuracy: 0.6033\n",
            "Epoch 9/10\n",
            "1370/1370 [==============================] - 9s 7ms/step - loss: 0.6440 - accuracy: 0.6187 - val_loss: 0.6591 - val_accuracy: 0.5999\n",
            "Epoch 10/10\n",
            "1370/1370 [==============================] - 9s 7ms/step - loss: 0.6437 - accuracy: 0.6195 - val_loss: 0.6591 - val_accuracy: 0.6025\n",
            "2023-01-26 12:50:37.791881\n"
          ]
        },
        {
          "output_type": "display_data",
          "data": {
            "text/plain": [
              "<Figure size 576x360 with 1 Axes>"
            ],
            "image/png": "[encoded data removed]"
          },
          "metadata": {
            "needs_background": "light"
          }
        },
        {
          "output_type": "stream",
          "name": "stdout",
          "text": [
            "Train sizes (43817, 3997) (43817, 1)\n",
            "Train set ones/size 20938 / 43817\n",
            "Compute valiation accuracy\n",
            "2023-01-26 12:50:37.929461\n",
            "Valid sizes (10593, 3997) (10593, 1)\n",
            "Valid set ones/size 5106 / 10593\n",
            "Range of scores: 0.012157904 to 0.9659674\n",
            "Score threshold 0.5\n",
            "Prediction set ones/size 6229 / 10593\n"
          ]
        },
        {
          "output_type": "display_data",
          "data": {
            "text/plain": [
              "<Figure size 432x288 with 1 Axes>"
            ],
            "image/png": "[encoded data removed]"
          },
          "metadata": {
            "needs_background": "light"
          }
        },
        {
          "output_type": "stream",
          "name": "stdout",
          "text": [
            "Accuracy: 60.25% Precision: 57.18% Recall: 69.76%\n",
            "F1: 62.85% AUPRC: 60.37%\n",
            "2023-01-26 12:50:39.566976\n",
            "\n",
            "Cross validation 5 folds 10 epochs\n",
            " accuracy mean 59.72% +/- 1.13\n",
            " precision mean 56.45% +/- 1.67\n",
            " recall mean 70.21% +/- 4.14\n",
            " F1 mean 62.48% +/- 1.30\n",
            " AUC mean 59.87% +/- 1.79\n",
            "2023-01-26 12:50:41.706930\n"
          ]
        }
      ],
      "source": [
        "print(datetime.now())\n",
        "cvdo = CrossValidator(EPOCHS,FOLDS,BREAK)\n",
        "cv_accuracy, cv_precision, cv_recall, cv_f1, cv_auc = cvdo.do_cross_validation()   \n",
        "cvdo = None\n",
        "print(\"Cross validation %d folds %d epochs\" % (FOLDS,EPOCHS)) \n",
        "print(\" accuracy mean %.2f%% +/- %.2f\" % (np.mean(cv_accuracy), np.std(cv_accuracy)))\n",
        "print(\" precision mean %.2f%% +/- %.2f\" % (np.mean(cv_precision), np.std(cv_precision)))\n",
        "print(\" recall mean %.2f%% +/- %.2f\" % (np.mean(cv_recall), np.std(cv_recall)))\n",
        "print(\" F1 mean %.2f%% +/- %.2f\" % (np.mean(cv_f1), np.std(cv_f1)))\n",
        "print(\" AUC mean %.2f%% +/- %.2f\" % (np.mean(cv_auc), np.std(cv_auc)))\n",
        "print(datetime.now())"
      ]
    },
    {
      "cell_type": "code",
      "execution_count": 11,
      "metadata": {
        "id": "HkCeDg_HdQ36"
      },
      "outputs": [],
      "source": []
    }
  ],
  "metadata": {
    "accelerator": "GPU",
    "colab": {
      "provenance": []
    },
    "gpuClass": "standard",
    "kernelspec": {
      "display_name": "Python 3 (ipykernel)",
      "language": "python",
      "name": "python3"
    },
    "language_info": {
      "codemirror_mode": {
        "name": "ipython",
        "version": 3
      },
      "file_extension": ".py",
      "mimetype": "text/x-python",
      "name": "python",
      "nbconvert_exporter": "python",
      "pygments_lexer": "ipython3",
      "version": "3.10.0"
    }
  },
  "nbformat": 4,
  "nbformat_minor": 0
}