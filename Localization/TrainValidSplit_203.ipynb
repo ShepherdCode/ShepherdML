{
 "cells": [
  {
   "cell_type": "markdown",
   "id": "b0536e6c",
   "metadata": {},
   "source": [
    "# Train/Valid split\n",
    "Create files with 80/20 splits.\n",
    "The files contain just the gene IDs.\n",
    "This is for mRNA only."
   ]
  },
  {
   "cell_type": "code",
   "execution_count": 1,
   "id": "b262ec91",
   "metadata": {},
   "outputs": [
    {
     "name": "stdout",
     "output_type": "stream",
     "text": [
      "2023-04-08 13:08:12.349950\n"
     ]
    }
   ],
   "source": [
    "from datetime import datetime\n",
    "print(datetime.now())\n",
    "import random\n",
    "import copy"
   ]
  },
  {
   "cell_type": "code",
   "execution_count": 2,
   "id": "582773b3",
   "metadata": {},
   "outputs": [
    {
     "name": "stdout",
     "output_type": "stream",
     "text": [
      "This is repeatable.\n",
      "Original [0, 1, 2, 3, 4, 5, 6, 7, 8, 9]\n",
      "Shuffled [5, 2, 7, 1, 8, 4, 3, 6, 0, 9]\n",
      "Shuffled [5, 2, 7, 1, 8, 4, 3, 6, 0, 9]\n"
     ]
    }
   ],
   "source": [
    "print('This is repeatable.')\n",
    "original = [x for x in range(10)]\n",
    "print('Original',original)\n",
    "copy1 = copy.deepcopy(original)\n",
    "copy2 = copy.deepcopy(original)\n",
    "\n",
    "random.seed(10)\n",
    "random.shuffle(copy1)  # in-place\n",
    "print('Shuffled',copy1)\n",
    "\n",
    "random.seed(10)\n",
    "random.shuffle(copy2)  # in-place\n",
    "print('Shuffled',copy2)"
   ]
  },
  {
   "cell_type": "code",
   "execution_count": 3,
   "id": "06bf84ea",
   "metadata": {},
   "outputs": [],
   "source": [
    "DATA_DIR='/Users/jasonmiller/WVU/Localization/TrainTest/TrainTest_ver43/'\n",
    "SEQ_FILE='train.all_pc_transcripts.csv'\n",
    "OUTPUT_DIR='/Users/jasonmiller/WVU/Localization/TrainTest/TrainTest_ver43/'"
   ]
  },
  {
   "cell_type": "code",
   "execution_count": 4,
   "id": "11225892",
   "metadata": {},
   "outputs": [],
   "source": [
    "def load_genes():\n",
    "    gene_set = set()\n",
    "    with open (DATA_DIR+SEQ_FILE,'r') as fin:\n",
    "        header = None\n",
    "        for line in fin:\n",
    "            if header is None:\n",
    "                header = line\n",
    "            else:\n",
    "                fields=line.strip().split(',')\n",
    "                gene_id=fields[1]\n",
    "                gene_set.add(gene_id)\n",
    "    return list(gene_set)"
   ]
  },
  {
   "cell_type": "code",
   "execution_count": 5,
   "id": "2d36d120",
   "metadata": {},
   "outputs": [
    {
     "name": "stdout",
     "output_type": "stream",
     "text": [
      "This is repeatable.\n",
      "Original ['ENSG00000118482', 'ENSG00000178467', 'ENSG00000177613', 'ENSG00000101463', 'ENSG00000198948']\n",
      "Shuffled ['ENSG00000140451', 'ENSG00000166170', 'ENSG00000102974', 'ENSG00000268089', 'ENSG00000186806']\n",
      "Shuffled ['ENSG00000140451', 'ENSG00000166170', 'ENSG00000102974', 'ENSG00000268089', 'ENSG00000186806']\n"
     ]
    }
   ],
   "source": [
    "print('This is repeatable.')\n",
    "original = load_genes()\n",
    "print('Original',original[:5])\n",
    "copy1 = copy.deepcopy(original)\n",
    "again = copy.deepcopy(original)\n",
    "copy2 = copy.deepcopy(original)\n",
    "\n",
    "random.seed(10)\n",
    "random.shuffle(copy1)  # in-place\n",
    "print('Shuffled',copy1[:5])\n",
    "\n",
    "random.seed(10)\n",
    "random.shuffle(again)  # in-place\n",
    "print('Shuffled',again[:5])\n",
    "\n",
    "# Shuffled ['ENSG00000275191', 'ENSG00000228495', 'ENSG00000272155', 'ENSG00000235890', 'ENSG00000274020']"
   ]
  },
  {
   "cell_type": "code",
   "execution_count": 6,
   "id": "b8cf2775",
   "metadata": {},
   "outputs": [
    {
     "name": "stdout",
     "output_type": "stream",
     "text": [
      "This is different from above but also repeatable.\n",
      "Shuffled ['ENSG00000183831', 'ENSG00000145362', 'ENSG00000006459', 'ENSG00000128513', 'ENSG00000039560']\n"
     ]
    }
   ],
   "source": [
    "print('This is different from above but also repeatable.')\n",
    "random.shuffle(copy2)  # in-place\n",
    "print('Shuffled',copy2[:5])\n",
    "\n",
    "# Shuffled ['ENSG00000254290', 'ENSG00000231133', 'ENSG00000250514', 'ENSG00000273998', 'ENSG00000268001']"
   ]
  },
  {
   "cell_type": "code",
   "execution_count": 7,
   "id": "127acf1f",
   "metadata": {},
   "outputs": [],
   "source": [
    "def make_valids(gene_list):\n",
    "    valids=[ [],[],[],[],[] ]\n",
    "    robin = 0\n",
    "    for i in range(len(gene_list)):\n",
    "        gene = gene_list[i]\n",
    "        valids[robin].append(gene)\n",
    "        robin = (robin+1)%5\n",
    "    return valids"
   ]
  },
  {
   "cell_type": "code",
   "execution_count": 8,
   "id": "ec274840",
   "metadata": {},
   "outputs": [],
   "source": [
    "def write_valids(valids,repetition):\n",
    "    r = repetition\n",
    "    for fold in range(5):\n",
    "        valid_list = valids[fold]\n",
    "        f = fold + 1\n",
    "        VALID_FILE = 'pc.{}.{}.validation_genes.txt'.format(r,f)\n",
    "        filename = OUTPUT_DIR+VALID_FILE\n",
    "        with open (filename,'w') as fout:\n",
    "            for gene in valid_list:\n",
    "                print(gene,file=fout)"
   ]
  },
  {
   "cell_type": "code",
   "execution_count": 9,
   "id": "e6e7bcb8",
   "metadata": {},
   "outputs": [],
   "source": [
    "valids = make_valids(copy1)\n",
    "write_valids(valids,1)\n",
    "valids = make_valids(copy2)\n",
    "write_valids(valids,2)"
   ]
  },
  {
   "cell_type": "code",
   "execution_count": 10,
   "id": "a5617ce0",
   "metadata": {},
   "outputs": [
    {
     "name": "stdout",
     "output_type": "stream",
     "text": [
      "2023-04-08 13:08:13.465321\n",
      "done\n"
     ]
    }
   ],
   "source": [
    "print(datetime.now())\n",
    "print('done')"
   ]
  }
 ],
 "metadata": {
  "kernelspec": {
   "display_name": "Python 3 (ipykernel)",
   "language": "python",
   "name": "python3"
  },
  "language_info": {
   "codemirror_mode": {
    "name": "ipython",
    "version": 3
   },
   "file_extension": ".py",
   "mimetype": "text/x-python",
   "name": "python",
   "nbconvert_exporter": "python",
   "pygments_lexer": "ipython3",
   "version": "3.10.0"
  }
 },
 "nbformat": 4,
 "nbformat_minor": 5
}
