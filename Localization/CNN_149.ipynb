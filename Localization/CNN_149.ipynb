{
  "cells": [
    {
      "cell_type": "markdown",
      "metadata": {
        "id": "PG-tGRnlFLA3"
      },
      "source": [
        "# CNN + GlobalAvgPool\n",
        "Derived from notebook LSTM 132. \n",
        "\n",
        "Combined cell lines. Coding RNA up to 4K. \n",
        "\n"
      ]
    },
    {
      "cell_type": "code",
      "execution_count": 92,
      "metadata": {
        "colab": {
          "base_uri": "https://localhost:8080/"
        },
        "id": "0RmwUsVLFLA6",
        "outputId": "98f31710-56ee-4851-cf3e-26ac93408d8a"
      },
      "outputs": [
        {
          "output_type": "stream",
          "name": "stdout",
          "text": [
            "2023-01-19 01:15:57.915332\n",
            "Python 3.8.10\n",
            "sklearn 1.0.2\n"
          ]
        }
      ],
      "source": [
        "from datetime import datetime\n",
        "print(datetime.now())\n",
        "from platform import python_version\n",
        "print('Python',python_version())\n",
        "import numpy as np\n",
        "import pandas as pd\n",
        "from matplotlib import pyplot as plt \n",
        "import sklearn   # pip install --upgrade scikit-learn\n",
        "print('sklearn',sklearn.__version__)"
      ]
    },
    {
      "cell_type": "markdown",
      "metadata": {
        "id": "tUtGXPrcFLA8"
      },
      "source": [
        "We prevously used sklearn.model_selection.ShuffleSplit   \n",
        "Now we avoid it due to this note in the \n",
        "[documentation](https://scikit-learn.org/stable/modules/generated/sklearn.model_selection.ShuffleSplit.html):\n",
        "Note: contrary to other cross-validation strategies, random splits do not guarantee that all folds will be different, although this is still very likely for sizeable datasets."
      ]
    },
    {
      "cell_type": "code",
      "execution_count": 93,
      "metadata": {
        "id": "PRX-UEr8FLA8"
      },
      "outputs": [],
      "source": [
        "import tensorflow as tf\n",
        "dt='float32'\n",
        "tf.keras.backend.set_floatx('float32')\n",
        "tf.random.set_seed(42) \n",
        "\n",
        "from tensorflow import keras\n",
        "from sklearn.model_selection import KFold\n",
        "from sklearn.metrics import accuracy_score\n",
        "from sklearn.metrics import precision_score\n",
        "from sklearn.metrics import recall_score\n",
        "from sklearn.metrics import f1_score\n",
        "\n",
        "from keras.models import Sequential\n",
        "from keras.layers import Masking\n",
        "from keras.layers import Embedding\n",
        "from keras.layers import Conv1D\n",
        "from keras.layers import MaxPooling1D\n",
        "from keras.layers import GlobalAveragePooling1D\n",
        "from keras.layers import GlobalMaxPooling1D\n",
        "from keras.layers import Bidirectional\n",
        "from keras.layers import LSTM\n",
        "from keras.layers import TimeDistributed\n",
        "from keras.layers import Flatten\n",
        "from keras.layers import Dense\n",
        "from keras.layers import Dropout\n",
        "from keras.losses import BinaryCrossentropy\n",
        "\n",
        "K=4\n",
        "RCI_THRESHOLD=0.0\n",
        "CFILTERS=64\n",
        "FILTERSIZE=16\n",
        "RCELLS=32\n",
        "DCELLS=16\n",
        "EPOCHS=10\n",
        "FOLDS=5      \n",
        "EMBED_DIMEN = 4 # arbitrary hyperparameter\n",
        "BREAK = False   # break after first fold\n",
        "MINLEN=200\n",
        "MAXLEN=4000   "
      ]
    },
    {
      "cell_type": "code",
      "execution_count": 94,
      "metadata": {
        "colab": {
          "base_uri": "https://localhost:8080/"
        },
        "id": "OlzN9OdsFWEU",
        "outputId": "44c3545e-0b3e-41d9-e2e6-fae6c1430234"
      },
      "outputs": [
        {
          "output_type": "stream",
          "name": "stdout",
          "text": [
            "Running on CoLab\n",
            "Drive already mounted at /content/drive/; to attempt to forcibly remount, call drive.mount(\"/content/drive/\", force_remount=True).\n",
            "/content/drive/My Drive/data/Localization/TrainTest/\n"
          ]
        }
      ],
      "source": [
        "try:\n",
        "    from google.colab import drive\n",
        "    IN_COLAB = True\n",
        "    print('Running on CoLab')\n",
        "    PATH='/content/drive/'\n",
        "    drive.mount(PATH)\n",
        "    DATA_DIR=PATH+'My Drive/data/Localization/TrainTest/'  # must end in \"/\"\n",
        "except:\n",
        "    IN_COLAB = False\n",
        "    DATA_DIR = 'D:/Adjeroh/Localization/TrainTest/'   # Windows\n",
        "    DATA_DIR = '/Users/jasonmiller/WVU/Localization/TrainTest/'    # Mac\n",
        "print(DATA_DIR)"
      ]
    },
    {
      "cell_type": "code",
      "execution_count": 95,
      "metadata": {
        "id": "LnkpVKdMFLA-"
      },
      "outputs": [],
      "source": [
        "GENES_FILE =    'CNRCI_noncoding_train_genes.csv'\n",
        "RCI_FILE =      'CNRCI_noncoding_train_RCI.gc42.csv'\n",
        "SEQUENCE_FILE = 'CNRCI_noncoding_train_transcripts.gc42.csv'\n",
        "COUNTS_FILE=    'CNRCI_noncoding_train_counts.K4.gc42.csv'"
      ]
    },
    {
      "cell_type": "code",
      "execution_count": 96,
      "metadata": {
        "colab": {
          "base_uri": "https://localhost:8080/"
        },
        "id": "e3p4QzQJFLA_",
        "outputId": "52d968de-6d2f-4acc-adb2-c2d57b9c9462"
      },
      "outputs": [
        {
          "output_type": "stream",
          "name": "stdout",
          "text": [
            "Exclude cell line 1 H1.hESC\n",
            "Exclude cell line 7 NCI.H460\n"
          ]
        }
      ],
      "source": [
        "def get_ordered_list():\n",
        "    ordered_list = \\\n",
        "    ['A549',\\\n",
        "      'H1.hESC',\\\n",
        "      'HeLa.S3',\\\n",
        "      'HepG2',\\\n",
        "      'HT1080',\\\n",
        "      'HUVEC',\\\n",
        "      'MCF.7',\\\n",
        "      'NCI.H460',\\\n",
        "      'NHEK',\\\n",
        "      'SK.MEL.5',\\\n",
        "      'SK.N.DZ',\\\n",
        "      'SK.N.SH',\\\n",
        "      'GM12878',\\\n",
        "      'K562',\\\n",
        "      'IMR.90']\n",
        "    return ordered_list\n",
        "all_cell_lines = get_ordered_list()\n",
        "EXCLUSIONS = [1,7]\n",
        "for c in EXCLUSIONS:\n",
        "    print('Exclude cell line',c,all_cell_lines[c])"
      ]
    },
    {
      "cell_type": "markdown",
      "metadata": {
        "id": "UtqdpJOxFLBA"
      },
      "source": [
        "## Data Load"
      ]
    },
    {
      "cell_type": "code",
      "execution_count": 97,
      "metadata": {
        "colab": {
          "base_uri": "https://localhost:8080/"
        },
        "id": "p35ehKV3Kq0z",
        "outputId": "457b2d90-a0e0-4767-8e9c-18214e08a3dd"
      },
      "outputs": [
        {
          "output_type": "stream",
          "name": "stdout",
          "text": [
            "[1, 1]\n",
            "[20, 16]\n",
            "[63, 57]\n",
            "[64, 0]\n",
            "0\n",
            "1\n"
          ]
        }
      ],
      "source": [
        "class DataLoader():\n",
        "    def __init__(self):\n",
        "        self.cache=dict() \n",
        "        self.vals = {'A':0, 'C':1, 'G':2, 'T':3}\n",
        "        \n",
        "    def load_gene_rci_values(self,filepath,exclusions=[]):\n",
        "        '''\n",
        "        Load from RCI csv file.\n",
        "        Return dict with keys=gene:str and values=RCI:float.\n",
        "        '''\n",
        "        gene_to_rci = {}\n",
        "        overall_sum = 0\n",
        "        overall_count = 0\n",
        "        with open (filepath,'r') as handle:\n",
        "            header = None\n",
        "            for row in handle:\n",
        "                if header is None:\n",
        "                    header = row # skip file's header line\n",
        "                else:\n",
        "                    line = row.strip()\n",
        "                    fields = line.split(',')\n",
        "                    gene_id = fields.pop(0)\n",
        "                    rci_max = None\n",
        "                    rci_count = 0\n",
        "                    cell_line = 0 # first line is 0 = A549\n",
        "                    for rci_str in fields:\n",
        "                        if rci_str != \"nan\" and cell_line not in exclusions:\n",
        "                            rci_val = float(rci_str)\n",
        "                            if rci_max is None or rci_val > rci_max:\n",
        "                                rci_max = rci_val\n",
        "                            rci_count += 1\n",
        "                        cell_line += 1   \n",
        "                    if rci_count > 0:\n",
        "                        gene_to_rci[gene_id] = rci_max\n",
        "                        overall_sum += rci_max\n",
        "                        overall_count += 1\n",
        "        overall_mean = overall_sum / overall_count\n",
        "        print('Number of RCI values',overall_count)\n",
        "        print('Mean RCI value',overall_mean)\n",
        "        return gene_to_rci\n",
        "    \n",
        "    def seq_to_kmer_values(self,rna,K):\n",
        "        # The cache may represent more than one K. Probably not a problem.\n",
        "        N_indicator = 0 # indicator value\n",
        "        vec=[] # seq converted to list of K-mers \n",
        "        length = len(rna)\n",
        "        for i in range(length-K+1):\n",
        "            kmer = rna[i:i+K]\n",
        "            if 'N' in kmer:\n",
        "                value = N_indicator\n",
        "            elif kmer in self.cache.keys():\n",
        "                value = self.cache[kmer]\n",
        "            else:\n",
        "                value = 0\n",
        "                for j in range(K):\n",
        "                    value *= 4   \n",
        "                    nextnuc = kmer[j] \n",
        "                    nucval = self.vals[nextnuc]\n",
        "                    value += nucval\n",
        "                value += 1   # NNN => 0, AAA => 1\n",
        "                self.cache[kmer] = value\n",
        "            vec.append(value)\n",
        "        return vec\n",
        "\n",
        "    def rci_to_label(self,rci):\n",
        "        CYTO_LABEL = 1\n",
        "        NUCLEAR_LABEL = 0\n",
        "        # cnrci = log (cyto-to-nuclear ratio)\n",
        "        # rci > 0 implies cytoplasmic\n",
        "        if rci > RCI_THRESHOLD:\n",
        "            return CYTO_LABEL\n",
        "        return NUCLEAR_LABEL\n",
        "\n",
        "    def load_sequence(self,filepath):\n",
        "        labels=[]\n",
        "        allids=[]\n",
        "        allseq=[]\n",
        "        NREPEAT = str('N'*MAXLEN)\n",
        "        with open (filepath,'r') as handle:\n",
        "            header = None\n",
        "            for row in handle:\n",
        "                if header is None:\n",
        "                    header = row\n",
        "                else:\n",
        "                    line    = row.strip()\n",
        "                    fields  = line.split(',')\n",
        "                    tran_id = fields[0]  # with version number\n",
        "                    gene_id = fields[1]        # without version number\n",
        "                    seq_len = int(fields[3])\n",
        "                    seq_txt = fields[4]\n",
        "                    if seq_len>=MINLEN and seq_len<=MAXLEN and gene_id in gene_to_rci.keys():\n",
        "                        allids.append( (gene_id,tran_id) )\n",
        "                        rci_val = gene_to_rci[gene_id]\n",
        "                        rci_label = self.rci_to_label(rci_val)\n",
        "                        labels.append(rci_label)\n",
        "                        if seq_len<MAXLEN:\n",
        "                            seq_txt = seq_txt + NREPEAT\n",
        "                            seq_txt = seq_txt[:MAXLEN]\n",
        "                        hot_vec = self.seq_to_kmer_values(seq_txt,K)\n",
        "                        allseq.append(hot_vec)\n",
        "        return labels,allids,allseq\n",
        "    \n",
        "loader = DataLoader()\n",
        "# test it\n",
        "print(loader.seq_to_kmer_values('AAAA',3))\n",
        "print(loader.seq_to_kmer_values('CATT',3))\n",
        "print(loader.seq_to_kmer_values('TTGA',3))\n",
        "print(loader.seq_to_kmer_values('TTTN',3))\n",
        "# test it\n",
        "print(loader.rci_to_label(-0.9))\n",
        "print(loader.rci_to_label(1.1))"
      ]
    },
    {
      "cell_type": "code",
      "execution_count": 98,
      "metadata": {
        "colab": {
          "base_uri": "https://localhost:8080/"
        },
        "id": "cYoYDc93FLBB",
        "outputId": "a30a4712-236d-4d6a-8f9d-c9504606899e"
      },
      "outputs": [
        {
          "output_type": "stream",
          "name": "stdout",
          "text": [
            "2023-01-19 01:16:01.165083\n",
            "Load RCI values...\n",
            "Number of RCI values 3952\n",
            "Mean RCI value -0.394721008327429\n",
            "Num RCI: 3952\n",
            "Example RCI: [('ENSG00000099869', 0.00846158), ('ENSG00000105501', 0.363348), ('ENSG00000116652', -1.848)]\n",
            "Load genes...\n",
            "2023-01-19 01:16:01.188649\n",
            "Load sequence...\n",
            "2023-01-19 01:16:22.562341\n",
            "Num IDs: 19406\n",
            "Example IDs: [('ENSG00000241860', 'ENST00000662089.1'), ('ENSG00000237491', 'ENST00000657896.1'), ('ENSG00000237491', 'ENST00000589899.5'), ('ENSG00000237491', 'ENST00000593022.5')]\n",
            "Count 10307 ones out of 19406 labels.\n",
            "Num labels: 19406\n",
            "Example labels: [0, 0, 0, 0]\n",
            "Num sequences: 19406\n",
            "Example sequence: [133, 17, 67, 12, 48, 190, 247, 217, 99, 138, 37, 148, 78, 56, 224, 125, 241, 193, 1, 4, 15, 57, 228, 144, 62, 245, 209, 66, 5, 19, 75, 41, 163, 139, 41, 163, 137, 36, 141, 49, 195, 11, 41, 161, 131, 10, 40, 158, 119, 217, 99, 139, 41, 161, 131, 9, 35, 137, 33, 129, 1, 1, 1, 1, 1, 1, 2, 8, 31, 123, 233, 161, 131, 11, 41, 163, 137, 33, 129, 4, 14, 53, 212, 77, 51, 201, 36, 144, 64, 256, 256, 253, 244, 205, 49, 193, 1, 4, 15, 57, 225, 129, 3, 10, 40, 159, 122, 230, 152, 94, 120, 223, 121, 225, 131, 10, 37, 146, 72, 31, 122, 229, 147, 73, 34, 136, 30, 117, 211, 74, 40, 159, 121, 227, 138, 37, 146, 70, 23, 89, 100, 141, 50, 197, 17, 65, 3, 9, 33, 129, 3, 9, 34, 133, 17, 65, 2, 5, 20, 78, 54, 216, 95, 121, 228, 142, 54, 213, 84, 77, 52, 207, 57, 225, 132, 16, 62, 246, 216, 94, 120, 224, 125, 244, 208, 61, 241, 195, 9, 33, 129, 1, 1, 4, 13, 49, 193, 3, 10, 37, 148, 78, 54, 213, 83, 75, 41, 164, 144, 62, 245, 209, 68, 15, 57, 225, 131, 9, 33, 130, 8, 31, 121, 226, 136, 29, 116, 206, 53, 210, 70, 24, 96, 127, 252, 240, 189, 241, 196, 14, 53, 212, 80, 62, 245, 211, 73, 33, 129, 2, 5, 20, 79, 60, 240, 191, 250, 229, 147, 75, 42, 168, 160, 125, 241, 195, 10, 38, 149, 84, 80, 64, 256, 256, 255, 249, 228, 141, 52, 205, 51, 201, 36, 141, 50, 200, 31, 121, 225, 129, 2, 5, 17, 68, 16, 61, 242, 200, 32, 127, 250, 232, 157, 113, 195, 9, 35, 138, 37, 145, 65, 2, 8, 32, 127, 249, 225, 131, 11, 44, 173, 180, 207, 59, 233, 164, 141, 49, 195, 11, 42, 166, 150, 88, 95, 121, 227, 140, 46, 181, 212, 78, 56, 224, 126, 246, 216, 95, 121, 227, 138, 40, 159, 121, 225, 132, 15, 57, 228, 141, 51, 204, 48, 189, 241, 195, 10, 40, 159, 121, 225, 132, 16, 61, 241, 194, 5, 17, 68, 16, 64, 255, 251, 233, 162, 133, 17, 67, 9, 34, 133, 19, 74, 37, 145, 65, 4, 15, 58, 232, 157, 116, 208, 63, 252, 238, 182, 213, 81, 67, 12, 48, 192, 256, 254, 248, 221, 113, 193, 3, 9, 33, 131, 9, 33, 132, 14, 56, 223, 121, 225, 131, 12, 47, 185, 225, 129, 4, 15, 57, 226, 133, 20, 78, 53, 209, 67, 9, 35, 137, 34, 134, 24, 93, 116, 206, 53, 209, 67, 9, 34, 134, 24, 95, 124, 237, 180, 206, 54, 213, 83, 75, 41, 161, 129, 1, 3, 9, 34, 134, 21, 81, 65, 2, 6, 21, 81, 68, 0, 0, 0, 0, 0, 0, 0, 0, 0, 0, 0, 0, 0, 0, 0, 0, 0, 0, 0, 0, 0, 0, 0, 0, 0, 0, 0, 0, 0, 0, 0, 0, 0, 0, 0, 0, 0, 0, 0, 0, 0, 0, 0, 0, 0, 0, 0, 0, 0, 0, 0, 0, 0, 0, 0, 0, 0, 0, 0, 0, 0, 0, 0, 0, 0, 0, 0, 0, 0, 0, 0, 0, 0, 0, 0, 0, 0, 0, 0, 0, 0, 0, 0, 0, 0, 0, 0, 0, 0, 0, 0, 0, 0, 0, 0, 0, 0, 0, 0, 0, 0, 0, 0, 0, 0, 0, 0, 0, 0, 0, 0, 0, 0, 0, 0, 0, 0, 0, 0, 0, 0, 0, 0, 0, 0, 0, 0, 0, 0, 0, 0, 0, 0, 0, 0, 0, 0, 0, 0, 0, 0, 0, 0, 0, 0, 0, 0, 0, 0, 0, 0, 0, 0, 0, 0, 0, 0, 0, 0, 0, 0, 0, 0, 0, 0, 0, 0, 0, 0, 0, 0, 0, 0, 0, 0, 0, 0, 0, 0, 0, 0, 0, 0, 0, 0, 0, 0, 0, 0, 0, 0, 0, 0, 0, 0, 0, 0, 0, 0, 0, 0, 0, 0, 0, 0, 0, 0, 0, 0, 0, 0, 0, 0, 0, 0, 0, 0, 0, 0, 0, 0, 0, 0, 0, 0, 0, 0, 0, 0, 0, 0, 0, 0, 0, 0, 0, 0, 0, 0, 0, 0, 0, 0, 0, 0, 0, 0, 0, 0, 0, 0, 0, 0, 0, 0, 0, 0, 0, 0, 0, 0, 0, 0, 0, 0, 0, 0, 0, 0, 0, 0, 0, 0, 0, 0, 0, 0, 0, 0, 0, 0, 0, 0, 0, 0, 0, 0, 0, 0, 0, 0, 0, 0, 0, 0, 0, 0, 0, 0, 0, 0, 0, 0, 0, 0, 0, 0, 0, 0, 0, 0, 0, 0, 0, 0, 0, 0, 0, 0, 0, 0, 0, 0, 0, 0, 0, 0, 0, 0, 0, 0, 0, 0, 0, 0, 0, 0, 0, 0, 0, 0, 0, 0, 0, 0, 0, 0, 0, 0, 0, 0, 0, 0, 0, 0, 0, 0, 0, 0, 0, 0, 0, 0, 0, 0, 0, 0, 0, 0, 0, 0, 0, 0, 0, 0, 0, 0, 0, 0, 0, 0, 0, 0, 0, 0, 0, 0, 0, 0, 0, 0, 0, 0, 0, 0, 0, 0, 0, 0, 0, 0, 0, 0, 0, 0, 0, 0, 0, 0, 0, 0, 0, 0, 0, 0, 0, 0, 0, 0, 0, 0, 0, 0, 0, 0, 0, 0, 0, 0, 0, 0, 0, 0, 0, 0, 0, 0, 0, 0, 0, 0, 0, 0, 0, 0, 0, 0, 0, 0, 0, 0, 0, 0, 0, 0, 0, 0, 0, 0, 0, 0, 0, 0, 0, 0, 0, 0, 0, 0, 0, 0, 0, 0, 0, 0, 0, 0, 0, 0, 0, 0, 0, 0, 0, 0, 0, 0, 0, 0, 0, 0, 0, 0, 0, 0, 0, 0, 0, 0, 0, 0, 0, 0, 0, 0, 0, 0, 0, 0, 0, 0, 0, 0, 0, 0, 0, 0, 0, 0, 0, 0, 0, 0, 0, 0, 0, 0, 0, 0, 0, 0, 0, 0, 0, 0, 0, 0, 0, 0, 0, 0, 0, 0, 0, 0, 0, 0, 0, 0, 0, 0, 0, 0, 0, 0, 0, 0, 0, 0, 0, 0, 0, 0, 0, 0, 0, 0, 0, 0, 0, 0, 0, 0, 0, 0, 0, 0, 0, 0, 0, 0, 0, 0, 0, 0, 0, 0, 0, 0, 0, 0, 0, 0, 0, 0, 0, 0, 0, 0, 0, 0, 0, 0, 0, 0, 0, 0, 0, 0, 0, 0, 0, 0, 0, 0, 0, 0, 0, 0, 0, 0, 0, 0, 0, 0, 0, 0, 0, 0, 0, 0, 0, 0, 0, 0, 0, 0, 0, 0, 0, 0, 0, 0, 0, 0, 0, 0, 0, 0, 0, 0, 0, 0, 0, 0, 0, 0, 0, 0, 0, 0, 0, 0, 0, 0, 0, 0, 0, 0, 0, 0, 0, 0, 0, 0, 0, 0, 0, 0, 0, 0, 0, 0, 0, 0, 0, 0, 0, 0, 0, 0, 0, 0, 0, 0, 0, 0, 0, 0, 0, 0, 0, 0, 0, 0, 0, 0, 0, 0, 0, 0, 0, 0, 0, 0, 0, 0, 0, 0, 0, 0, 0, 0, 0, 0, 0, 0, 0, 0, 0, 0, 0, 0, 0, 0, 0, 0, 0, 0, 0, 0, 0, 0, 0, 0, 0, 0, 0, 0, 0, 0, 0, 0, 0, 0, 0, 0, 0, 0, 0, 0, 0, 0, 0, 0, 0, 0, 0, 0, 0, 0, 0, 0, 0, 0, 0, 0, 0, 0, 0, 0, 0, 0, 0, 0, 0, 0, 0, 0, 0, 0, 0, 0, 0, 0, 0, 0, 0, 0, 0, 0, 0, 0, 0, 0, 0, 0, 0, 0, 0, 0, 0, 0, 0, 0, 0, 0, 0, 0, 0, 0, 0, 0, 0, 0, 0, 0, 0, 0, 0, 0, 0, 0, 0, 0, 0, 0, 0, 0, 0, 0, 0, 0, 0, 0, 0, 0, 0, 0, 0, 0, 0, 0, 0, 0, 0, 0, 0, 0, 0, 0, 0, 0, 0, 0, 0, 0, 0, 0, 0, 0, 0, 0, 0, 0, 0, 0, 0, 0, 0, 0, 0, 0, 0, 0, 0, 0, 0, 0, 0, 0, 0, 0, 0, 0, 0, 0, 0, 0, 0, 0, 0, 0, 0, 0, 0, 0, 0, 0, 0, 0, 0, 0, 0, 0, 0, 0, 0, 0, 0, 0, 0, 0, 0, 0, 0, 0, 0, 0, 0, 0, 0, 0, 0, 0, 0, 0, 0, 0, 0, 0, 0, 0, 0, 0, 0, 0, 0, 0, 0, 0, 0, 0, 0, 0, 0, 0, 0, 0, 0, 0, 0, 0, 0, 0, 0, 0, 0, 0, 0, 0, 0, 0, 0, 0, 0, 0, 0, 0, 0, 0, 0, 0, 0, 0, 0, 0, 0, 0, 0, 0, 0, 0, 0, 0, 0, 0, 0, 0, 0, 0, 0, 0, 0, 0, 0, 0, 0, 0, 0, 0, 0, 0, 0, 0, 0, 0, 0, 0, 0, 0, 0, 0, 0, 0, 0, 0, 0, 0, 0, 0, 0, 0, 0, 0, 0, 0, 0, 0, 0, 0, 0, 0, 0, 0, 0, 0, 0, 0, 0, 0, 0, 0, 0, 0, 0, 0, 0, 0, 0, 0, 0, 0, 0, 0, 0, 0, 0, 0, 0, 0, 0, 0, 0, 0, 0, 0, 0, 0, 0, 0, 0, 0, 0, 0, 0, 0, 0, 0, 0, 0, 0, 0, 0, 0, 0, 0, 0, 0, 0, 0, 0, 0, 0, 0, 0, 0, 0, 0, 0, 0, 0, 0, 0, 0, 0, 0, 0, 0, 0, 0, 0, 0, 0, 0, 0, 0, 0, 0, 0, 0, 0, 0, 0, 0, 0, 0, 0, 0, 0, 0, 0, 0, 0, 0, 0, 0, 0, 0, 0, 0, 0, 0, 0, 0, 0, 0, 0, 0, 0, 0, 0, 0, 0, 0, 0, 0, 0, 0, 0, 0, 0, 0, 0, 0, 0, 0, 0, 0, 0, 0, 0, 0, 0, 0, 0, 0, 0, 0, 0, 0, 0, 0, 0, 0, 0, 0, 0, 0, 0, 0, 0, 0, 0, 0, 0, 0, 0, 0, 0, 0, 0, 0, 0, 0, 0, 0, 0, 0, 0, 0, 0, 0, 0, 0, 0, 0, 0, 0, 0, 0, 0, 0, 0, 0, 0, 0, 0, 0, 0, 0, 0, 0, 0, 0, 0, 0, 0, 0, 0, 0, 0, 0, 0, 0, 0, 0, 0, 0, 0, 0, 0, 0, 0, 0, 0, 0, 0, 0, 0, 0, 0, 0, 0, 0, 0, 0, 0, 0, 0, 0, 0, 0, 0, 0, 0, 0, 0, 0, 0, 0, 0, 0, 0, 0, 0, 0, 0, 0, 0, 0, 0, 0, 0, 0, 0, 0, 0, 0, 0, 0, 0, 0, 0, 0, 0, 0, 0, 0, 0, 0, 0, 0, 0, 0, 0, 0, 0, 0, 0, 0, 0, 0, 0, 0, 0, 0, 0, 0, 0, 0, 0, 0, 0, 0, 0, 0, 0, 0, 0, 0, 0, 0, 0, 0, 0, 0, 0, 0, 0, 0, 0, 0, 0, 0, 0, 0, 0, 0, 0, 0, 0, 0, 0, 0, 0, 0, 0, 0, 0, 0, 0, 0, 0, 0, 0, 0, 0, 0, 0, 0, 0, 0, 0, 0, 0, 0, 0, 0, 0, 0, 0, 0, 0, 0, 0, 0, 0, 0, 0, 0, 0, 0, 0, 0, 0, 0, 0, 0, 0, 0, 0, 0, 0, 0, 0, 0, 0, 0, 0, 0, 0, 0, 0, 0, 0, 0, 0, 0, 0, 0, 0, 0, 0, 0, 0, 0, 0, 0, 0, 0, 0, 0, 0, 0, 0, 0, 0, 0, 0, 0, 0, 0, 0, 0, 0, 0, 0, 0, 0, 0, 0, 0, 0, 0, 0, 0, 0, 0, 0, 0, 0, 0, 0, 0, 0, 0, 0, 0, 0, 0, 0, 0, 0, 0, 0, 0, 0, 0, 0, 0, 0, 0, 0, 0, 0, 0, 0, 0, 0, 0, 0, 0, 0, 0, 0, 0, 0, 0, 0, 0, 0, 0, 0, 0, 0, 0, 0, 0, 0, 0, 0, 0, 0, 0, 0, 0, 0, 0, 0, 0, 0, 0, 0, 0, 0, 0, 0, 0, 0, 0, 0, 0, 0, 0, 0, 0, 0, 0, 0, 0, 0, 0, 0, 0, 0, 0, 0, 0, 0, 0, 0, 0, 0, 0, 0, 0, 0, 0, 0, 0, 0, 0, 0, 0, 0, 0, 0, 0, 0, 0, 0, 0, 0, 0, 0, 0, 0, 0, 0, 0, 0, 0, 0, 0, 0, 0, 0, 0, 0, 0, 0, 0, 0, 0, 0, 0, 0, 0, 0, 0, 0, 0, 0, 0, 0, 0, 0, 0, 0, 0, 0, 0, 0, 0, 0, 0, 0, 0, 0, 0, 0, 0, 0, 0, 0, 0, 0, 0, 0, 0, 0, 0, 0, 0, 0, 0, 0, 0, 0, 0, 0, 0, 0, 0, 0, 0, 0, 0, 0, 0, 0, 0, 0, 0, 0, 0, 0, 0, 0, 0, 0, 0, 0, 0, 0, 0, 0, 0, 0, 0, 0, 0, 0, 0, 0, 0, 0, 0, 0, 0, 0, 0, 0, 0, 0, 0, 0, 0, 0, 0, 0, 0, 0, 0, 0, 0, 0, 0, 0, 0, 0, 0, 0, 0, 0, 0, 0, 0, 0, 0, 0, 0, 0, 0, 0, 0, 0, 0, 0, 0, 0, 0, 0, 0, 0, 0, 0, 0, 0, 0, 0, 0, 0, 0, 0, 0, 0, 0, 0, 0, 0, 0, 0, 0, 0, 0, 0, 0, 0, 0, 0, 0, 0, 0, 0, 0, 0, 0, 0, 0, 0, 0, 0, 0, 0, 0, 0, 0, 0, 0, 0, 0, 0, 0, 0, 0, 0, 0, 0, 0, 0, 0, 0, 0, 0, 0, 0, 0, 0, 0, 0, 0, 0, 0, 0, 0, 0, 0, 0, 0, 0, 0, 0, 0, 0, 0, 0, 0, 0, 0, 0, 0, 0, 0, 0, 0, 0, 0, 0, 0, 0, 0, 0, 0, 0, 0, 0, 0, 0, 0, 0, 0, 0, 0, 0, 0, 0, 0, 0, 0, 0, 0, 0, 0, 0, 0, 0, 0, 0, 0, 0, 0, 0, 0, 0, 0, 0, 0, 0, 0, 0, 0, 0, 0, 0, 0, 0, 0, 0, 0, 0, 0, 0, 0, 0, 0, 0, 0, 0, 0, 0, 0, 0, 0, 0, 0, 0, 0, 0, 0, 0, 0, 0, 0, 0, 0, 0, 0, 0, 0, 0, 0, 0, 0, 0, 0, 0, 0, 0, 0, 0, 0, 0, 0, 0, 0, 0, 0, 0, 0, 0, 0, 0, 0, 0, 0, 0, 0, 0, 0, 0, 0, 0, 0, 0, 0, 0, 0, 0, 0, 0, 0, 0, 0, 0, 0, 0, 0, 0, 0, 0, 0, 0, 0, 0, 0, 0, 0, 0, 0, 0, 0, 0, 0, 0, 0, 0, 0, 0, 0, 0, 0, 0, 0, 0, 0, 0, 0, 0, 0, 0, 0, 0, 0, 0, 0, 0, 0, 0, 0, 0, 0, 0, 0, 0, 0, 0, 0, 0, 0, 0, 0, 0, 0, 0, 0, 0, 0, 0, 0, 0, 0, 0, 0, 0, 0, 0, 0, 0, 0, 0, 0, 0, 0, 0, 0, 0, 0, 0, 0, 0, 0, 0, 0, 0, 0, 0, 0, 0, 0, 0, 0, 0, 0, 0, 0, 0, 0, 0, 0, 0, 0, 0, 0, 0, 0, 0, 0, 0, 0, 0, 0, 0, 0, 0, 0, 0, 0, 0, 0, 0, 0, 0, 0, 0, 0, 0, 0, 0, 0, 0, 0, 0, 0, 0, 0, 0, 0, 0, 0, 0, 0, 0, 0, 0, 0, 0, 0, 0, 0, 0, 0, 0, 0, 0, 0, 0, 0, 0, 0, 0, 0, 0, 0, 0, 0, 0, 0, 0, 0, 0, 0, 0, 0, 0, 0, 0, 0, 0, 0, 0, 0, 0, 0, 0, 0, 0, 0, 0, 0, 0, 0, 0, 0, 0, 0, 0, 0, 0, 0, 0, 0, 0, 0, 0, 0, 0, 0, 0, 0, 0, 0, 0, 0, 0, 0, 0, 0, 0, 0, 0, 0, 0, 0, 0, 0, 0, 0, 0, 0, 0, 0, 0, 0, 0, 0, 0, 0, 0, 0, 0, 0, 0, 0, 0, 0, 0, 0, 0, 0, 0, 0, 0, 0, 0, 0, 0, 0, 0, 0, 0, 0, 0, 0, 0, 0, 0, 0, 0, 0, 0, 0, 0, 0, 0, 0, 0, 0, 0, 0, 0, 0, 0, 0, 0, 0, 0, 0, 0, 0, 0, 0, 0, 0, 0, 0, 0, 0, 0, 0, 0, 0, 0, 0, 0, 0, 0, 0, 0, 0, 0, 0, 0, 0, 0, 0, 0, 0, 0, 0, 0, 0, 0, 0, 0, 0, 0, 0, 0, 0, 0, 0, 0, 0, 0, 0, 0, 0, 0, 0, 0, 0, 0, 0, 0, 0, 0, 0, 0, 0, 0, 0, 0, 0, 0, 0, 0, 0, 0, 0, 0, 0, 0, 0, 0, 0, 0, 0, 0, 0, 0, 0, 0, 0, 0, 0, 0, 0, 0, 0, 0, 0, 0, 0, 0, 0, 0, 0, 0, 0, 0, 0, 0, 0, 0, 0, 0, 0, 0, 0, 0, 0, 0, 0, 0, 0, 0, 0, 0, 0, 0, 0, 0, 0, 0, 0, 0, 0, 0, 0, 0, 0, 0, 0, 0, 0, 0, 0, 0, 0, 0, 0, 0, 0, 0, 0, 0, 0, 0, 0, 0, 0, 0, 0, 0, 0, 0, 0, 0, 0, 0, 0, 0, 0, 0, 0, 0, 0, 0, 0, 0, 0, 0, 0, 0, 0, 0, 0, 0, 0, 0, 0, 0, 0, 0, 0, 0, 0, 0, 0, 0, 0, 0, 0, 0, 0, 0, 0, 0, 0, 0, 0, 0, 0, 0, 0, 0, 0, 0, 0, 0, 0, 0, 0, 0, 0, 0, 0, 0, 0, 0, 0, 0, 0, 0, 0, 0, 0, 0, 0, 0, 0, 0, 0, 0, 0, 0, 0, 0, 0, 0, 0, 0, 0, 0, 0, 0, 0, 0, 0, 0, 0, 0, 0, 0, 0, 0, 0, 0, 0, 0, 0, 0, 0, 0, 0, 0, 0, 0, 0, 0, 0, 0, 0, 0, 0, 0, 0, 0, 0, 0, 0, 0, 0, 0, 0, 0, 0, 0, 0, 0, 0, 0, 0, 0, 0, 0, 0, 0, 0, 0, 0, 0, 0, 0, 0, 0, 0, 0, 0, 0, 0, 0, 0, 0, 0, 0, 0, 0, 0, 0, 0, 0, 0, 0, 0, 0, 0, 0, 0, 0, 0, 0, 0, 0, 0, 0, 0, 0, 0, 0, 0, 0, 0, 0, 0, 0, 0, 0, 0, 0, 0, 0, 0, 0, 0, 0, 0, 0, 0, 0, 0, 0, 0, 0, 0, 0, 0, 0, 0, 0, 0, 0, 0, 0, 0, 0, 0, 0, 0, 0, 0, 0, 0, 0, 0, 0, 0, 0, 0, 0, 0, 0, 0, 0, 0, 0, 0, 0, 0, 0, 0, 0, 0, 0, 0, 0, 0, 0, 0, 0, 0, 0, 0, 0, 0, 0, 0, 0, 0, 0, 0, 0, 0, 0, 0, 0, 0, 0, 0, 0, 0, 0, 0, 0, 0, 0, 0, 0, 0, 0, 0, 0, 0, 0, 0, 0, 0, 0, 0, 0, 0, 0, 0, 0, 0, 0, 0, 0, 0, 0, 0, 0, 0, 0, 0, 0, 0, 0, 0, 0, 0, 0, 0, 0, 0, 0, 0, 0, 0, 0, 0, 0, 0, 0, 0, 0, 0, 0, 0, 0, 0, 0, 0, 0, 0, 0, 0, 0, 0, 0, 0, 0, 0, 0, 0, 0, 0, 0, 0, 0, 0, 0, 0, 0, 0, 0, 0, 0, 0, 0, 0, 0, 0, 0, 0, 0, 0, 0, 0, 0, 0, 0, 0, 0, 0, 0, 0, 0, 0, 0, 0, 0, 0, 0, 0, 0, 0, 0, 0, 0, 0, 0, 0, 0, 0, 0, 0, 0, 0, 0, 0, 0, 0, 0, 0, 0, 0, 0, 0, 0, 0, 0, 0, 0, 0, 0, 0, 0, 0, 0, 0, 0, 0, 0, 0, 0, 0, 0, 0, 0, 0, 0, 0, 0, 0, 0, 0, 0, 0, 0, 0, 0, 0, 0, 0, 0, 0, 0, 0, 0, 0, 0, 0, 0, 0, 0, 0, 0, 0, 0, 0, 0, 0, 0, 0, 0, 0, 0, 0, 0, 0, 0, 0, 0, 0, 0, 0, 0, 0, 0, 0, 0, 0, 0, 0, 0, 0, 0, 0, 0, 0, 0, 0, 0, 0, 0, 0, 0, 0, 0, 0, 0, 0, 0, 0, 0, 0, 0, 0, 0, 0, 0, 0, 0, 0, 0, 0, 0, 0, 0, 0, 0, 0, 0, 0, 0, 0, 0, 0, 0, 0, 0, 0, 0, 0, 0, 0, 0, 0, 0, 0, 0, 0, 0, 0, 0, 0, 0, 0, 0, 0, 0, 0, 0, 0, 0, 0, 0, 0, 0, 0, 0, 0, 0, 0, 0, 0, 0, 0, 0, 0, 0, 0, 0, 0, 0, 0, 0, 0, 0, 0, 0, 0, 0, 0, 0, 0, 0, 0, 0, 0, 0, 0, 0, 0, 0, 0, 0, 0, 0, 0, 0, 0, 0, 0, 0, 0, 0, 0, 0, 0, 0, 0, 0, 0, 0, 0, 0, 0, 0, 0, 0, 0, 0, 0, 0, 0, 0, 0, 0, 0, 0, 0, 0, 0, 0, 0, 0, 0, 0, 0, 0, 0, 0, 0, 0, 0, 0, 0, 0, 0, 0, 0, 0, 0, 0, 0, 0, 0, 0, 0, 0, 0, 0, 0, 0, 0, 0, 0, 0, 0, 0, 0, 0, 0, 0, 0, 0, 0, 0, 0, 0, 0, 0, 0, 0, 0, 0, 0, 0, 0, 0, 0, 0, 0, 0, 0, 0, 0, 0, 0, 0, 0, 0, 0, 0, 0, 0, 0, 0, 0, 0, 0, 0, 0, 0, 0, 0, 0, 0, 0, 0, 0, 0, 0, 0, 0, 0, 0, 0, 0, 0, 0, 0, 0, 0, 0, 0, 0, 0, 0, 0, 0, 0, 0, 0, 0, 0, 0, 0, 0, 0, 0, 0, 0, 0, 0, 0, 0, 0, 0, 0, 0, 0, 0, 0, 0, 0, 0, 0, 0, 0, 0, 0, 0, 0, 0, 0, 0, 0, 0, 0, 0, 0, 0, 0, 0, 0, 0, 0, 0, 0, 0, 0, 0, 0, 0, 0, 0, 0, 0, 0, 0, 0, 0, 0, 0, 0, 0, 0, 0, 0, 0, 0, 0, 0, 0, 0, 0, 0, 0, 0, 0, 0, 0, 0, 0, 0, 0, 0, 0, 0, 0, 0, 0, 0, 0, 0, 0, 0, 0, 0, 0, 0, 0, 0, 0, 0, 0, 0, 0, 0, 0, 0, 0, 0, 0, 0, 0, 0, 0, 0, 0, 0, 0, 0, 0, 0, 0, 0, 0, 0, 0, 0, 0, 0, 0, 0, 0, 0, 0, 0, 0, 0, 0, 0, 0, 0, 0, 0, 0, 0, 0, 0, 0, 0, 0, 0, 0, 0, 0, 0, 0, 0, 0, 0, 0, 0, 0, 0, 0, 0, 0, 0, 0, 0, 0, 0, 0, 0, 0, 0, 0, 0, 0, 0, 0, 0, 0, 0, 0, 0, 0, 0, 0, 0, 0, 0, 0, 0, 0, 0, 0, 0, 0, 0, 0, 0, 0, 0, 0, 0, 0, 0, 0, 0, 0, 0, 0, 0, 0, 0, 0, 0, 0, 0, 0, 0, 0, 0, 0, 0, 0, 0, 0, 0, 0, 0, 0, 0, 0, 0, 0, 0, 0, 0, 0, 0, 0, 0, 0, 0, 0, 0, 0, 0, 0, 0, 0, 0, 0, 0, 0, 0, 0, 0, 0, 0, 0, 0, 0, 0, 0, 0, 0, 0, 0, 0, 0, 0, 0, 0, 0, 0, 0, 0, 0, 0, 0, 0, 0, 0, 0, 0, 0, 0, 0, 0, 0, 0, 0, 0, 0, 0, 0, 0, 0, 0, 0, 0, 0, 0, 0, 0, 0, 0, 0, 0, 0, 0, 0, 0, 0, 0, 0, 0, 0, 0, 0, 0, 0, 0, 0, 0, 0, 0, 0, 0, 0, 0, 0, 0, 0, 0, 0, 0, 0]\n"
          ]
        }
      ],
      "source": [
        "print(datetime.now())\n",
        "print(\"Load RCI values...\")\n",
        "loader = DataLoader()\n",
        "filepath = DATA_DIR+RCI_FILE\n",
        "gene_to_rci = loader.load_gene_rci_values(filepath,EXCLUSIONS)\n",
        "print('Num RCI:', len(gene_to_rci.keys()))\n",
        "print('Example RCI:', list(gene_to_rci.items())[:3])\n",
        "print(\"Load genes...\")\n",
        "all_genes = list(gene_to_rci.keys())\n",
        "print(datetime.now())\n",
        "print('Load sequence...')\n",
        "filepath = DATA_DIR+SEQUENCE_FILE\n",
        "labels,allids,allseq = loader.load_sequence(filepath)\n",
        "print(datetime.now())\n",
        "print('Num IDs:',len(allids))\n",
        "print('Example IDs:',[allids[x] for x in [10, 20, 30, 40]] )\n",
        "print('Count',np.count_nonzero(labels),'ones out of',len(labels),'labels.')\n",
        "print('Num labels:',len(labels))\n",
        "print('Example labels:',[labels[x] for x in [10, 20, 30, 40]] )\n",
        "print('Num sequences:',len(allseq))\n",
        "print('Example sequence:',allseq[3])\n",
        "loader = None  # drop K-mer cache to save RAM"
      ]
    },
    {
      "cell_type": "markdown",
      "metadata": {
        "id": "VDZ6siB_Kq04"
      },
      "source": [
        "## Model"
      ]
    },
    {
      "cell_type": "code",
      "execution_count": 99,
      "metadata": {
        "id": "AwMbRjm0FLBF"
      },
      "outputs": [],
      "source": [
        "def build_model():\n",
        "    ALPHABET=4**K+1  # NUMBER OF DISTINCT KMERS POSSIBLE, add one if N gets mask value\n",
        "    ADJUST_LENGTH = MAXLEN-K+1  # fixed length sequences\n",
        "    cnn = Sequential()\n",
        "    embed_layer = Embedding(ALPHABET,EMBED_DIMEN,input_length=ADJUST_LENGTH,mask_zero=True)   \n",
        "    cnn1_layer = Conv1D(CFILTERS, FILTERSIZE)\n",
        "    pool_layer = GlobalAveragePooling1D()\n",
        "    #pool_layer = GlobalMaxPooling1D()\n",
        "    flat_layer = Flatten()\n",
        "    den1_layer = Dense(DCELLS)\n",
        "    drop_layer = Dropout(0.5)\n",
        "    output_layer = Dense(1,activation='sigmoid',dtype=dt)\n",
        "\n",
        "    cnn.add(embed_layer)\n",
        "    cnn.add(cnn1_layer)\n",
        "    cnn.add(pool_layer)\n",
        "    cnn.add(output_layer)\n",
        "\n",
        "    bc=BinaryCrossentropy(from_logits=False)\n",
        "    print(\"COMPILE\")\n",
        "    cnn.compile(loss=bc, optimizer=\"Adam\",metrics=[\"accuracy\"])\n",
        "    return cnn"
      ]
    },
    {
      "cell_type": "code",
      "execution_count": 100,
      "metadata": {
        "colab": {
          "base_uri": "https://localhost:8080/"
        },
        "id": "clj-wufgFLBF",
        "outputId": "fdd197c5-6e96-458b-ade4-74511184ce68"
      },
      "outputs": [
        {
          "output_type": "stream",
          "name": "stdout",
          "text": [
            "2023-01-19 01:16:22.591027\n",
            "COMPILE\n",
            "Model: \"sequential\"\n",
            "_________________________________________________________________\n",
            " Layer (type)                Output Shape              Param #   \n",
            "=================================================================\n",
            " embedding (Embedding)       (None, 3997, 4)           1028      \n",
            "                                                                 \n",
            " conv1d (Conv1D)             (None, 3982, 64)          4160      \n",
            "                                                                 \n",
            " global_average_pooling1d (G  (None, 64)               0         \n",
            " lobalAveragePooling1D)                                          \n",
            "                                                                 \n",
            " dense_1 (Dense)             (None, 1)                 65        \n",
            "                                                                 \n",
            "=================================================================\n",
            "Total params: 5,253\n",
            "Trainable params: 5,253\n",
            "Non-trainable params: 0\n",
            "_________________________________________________________________\n",
            "None\n"
          ]
        }
      ],
      "source": [
        "print(datetime.now())\n",
        "model=build_model()\n",
        "print(model.summary())  # Print this only once\n",
        "model=None"
      ]
    },
    {
      "cell_type": "markdown",
      "metadata": {
        "id": "MgrC1alOKq07"
      },
      "source": [
        "## Training"
      ]
    },
    {
      "cell_type": "code",
      "execution_count": 101,
      "metadata": {
        "id": "W9xiFzNbFLBE"
      },
      "outputs": [],
      "source": [
        "import gc\n",
        "class CrossValidator():\n",
        "    def __init__(self,epochs,folds,quick_test=False,threshold=0.5):\n",
        "        self.epochs = epochs\n",
        "        self.folds = folds\n",
        "        self.quick_test = quick_test\n",
        "        self.threshold = threshold\n",
        "    \n",
        "    def get_gene_subset(self,all_genes,sub_index):\n",
        "        sub_genes = set()\n",
        "        for index in sub_index:\n",
        "            one_gene = all_genes[index]\n",
        "            sub_genes.add(one_gene)\n",
        "        return sub_genes\n",
        "    \n",
        "    def get_X_y(self,gene_set,allids,allX,allY):\n",
        "        cnt = len(allids)\n",
        "        subsetX=[]\n",
        "        subsetY=[]\n",
        "        if cnt != len(allX) or cnt!= len(allY):\n",
        "            raise Exception('Lengths differ')\n",
        "        for i in range(cnt):\n",
        "            gene_id,tran_id = allids[i]\n",
        "            if gene_id in gene_set:\n",
        "                oneX = allX[i]\n",
        "                oneY = allY[i]\n",
        "                subsetX.append(oneX)\n",
        "                subsetY.append(oneY)\n",
        "        subsetX = np.array(subsetX)\n",
        "        subsetY = np.array(subsetY).reshape((-1,1))\n",
        "        return subsetX,subsetY\n",
        "    \n",
        "    def do_cross_validation(self):\n",
        "        cv_accuracy=[]\n",
        "        cv_precision=[]\n",
        "        cv_recall=[]\n",
        "        cv_f1=[]\n",
        "        fold=0\n",
        "        print(datetime.now())\n",
        "        print('splitting')\n",
        "        # KFold shuffles once before making the partitions\n",
        "        splitter = KFold(n_splits=self.folds,shuffle=True,random_state=42)\n",
        "        splits = splitter.split(all_genes)\n",
        "        splitter = None\n",
        "        for train_index,valid_index in splits:\n",
        "            fold += 1\n",
        "            print('Fold',fold)\n",
        "            train_genes = self.get_gene_subset(all_genes,train_index)\n",
        "            X_train,y_train = self.get_X_y(train_genes,allids,allseq,labels)\n",
        "            valid_genes = self.get_gene_subset(all_genes,valid_index)\n",
        "            X_valid,y_valid = self.get_X_y(valid_genes,allids,allseq,labels)\n",
        "\n",
        "            print('Training example')\n",
        "            print(X_train[0])\n",
        "\n",
        "            print(\"BUILD MODEL\")\n",
        "            model=build_model()\n",
        "\n",
        "            print(\"FIT\")\n",
        "            # There is a memory leak within the fit() command!\n",
        "            # Each successive call to fit() consumes more memory.\n",
        "            print(datetime.now())\n",
        "            history=model.fit(X_train, y_train, # batch_size=10, default=32 works nicely\n",
        "              epochs=self.epochs, verbose=1,  # verbose=1 for ascii art, verbose=0 for none\n",
        "              validation_data=(X_valid,y_valid) )\n",
        "\n",
        "            print(datetime.now())\n",
        "            tf.keras.backend.clear_session()\n",
        "            gc.collect()\n",
        "\n",
        "            pd.DataFrame(history.history).plot(figsize=(8,5))\n",
        "            plt.grid(True)\n",
        "            plt.gca().set_ylim(0,1)\n",
        "            plt.show()\n",
        "\n",
        "            print('Train sizes',X_train.shape,y_train.shape)\n",
        "            print('Train set ones/size',\n",
        "                  np.count_nonzero(y_train),'/',len(y_train))\n",
        "            X_train = None\n",
        "            y_train = None\n",
        "            train_genes = None\n",
        "\n",
        "            print(\"Compute valiation accuracy\")\n",
        "            print(datetime.now())\n",
        "            print('Valid sizes',X_valid.shape,y_valid.shape)\n",
        "            print('Valid set ones/size',\n",
        "                  np.count_nonzero(y_valid),'/',len(y_valid))\n",
        "            yhat_pred=model.predict(X_valid, verbose=0) \n",
        "            print('Range of scores:',np.min(yhat_pred),'to',np.max(yhat_pred))\n",
        "            yhat_classes=np.where(yhat_pred > self.threshold, 1, 0)\n",
        "            print('Predicted zeros and ones',np.count_nonzero(yhat_classes==0),np.count_nonzero(yhat_classes==1))\n",
        "            # accuracy: (tp + tn) / (p + n)\n",
        "            accuracy = accuracy_score(y_valid, yhat_classes)*100.\n",
        "            # precision tp / (tp + fp)\n",
        "            precision = precision_score(y_valid, yhat_classes)*100.\n",
        "            # recall: tp / (tp + fn)\n",
        "            recall = recall_score(y_valid, yhat_classes)*100.\n",
        "            # f1: 2 tp / (2 tp + fp + fn)\n",
        "            f1 = f1_score(y_valid, yhat_classes)*100.\n",
        "            yhat_classes = None\n",
        "            X_valid = None\n",
        "            y_valid = None\n",
        "            valid_genes = None\n",
        "            print('Accuracy: %.2f%% Precision: %.2f%% Recall: %.2f%% F1: %.2f%%' % (accuracy,precision,recall,f1)) \n",
        "            print(datetime.now())\n",
        "            cv_accuracy.append(accuracy)\n",
        "            cv_precision.append(precision)\n",
        "            cv_recall.append(recall)\n",
        "            cv_f1.append(f1)\n",
        "            model = None\n",
        "            history = None\n",
        "            if self.quick_test:   \n",
        "                print('Break -- this was for code testing only')\n",
        "                break\n",
        "        print()\n",
        "        return cv_accuracy, cv_precision, cv_recall, cv_f1"
      ]
    },
    {
      "cell_type": "code",
      "execution_count": 102,
      "metadata": {
        "colab": {
          "base_uri": "https://localhost:8080/",
          "height": 1000
        },
        "id": "XC9m0W-pFLBH",
        "outputId": "b158d592-ff56-4a17-e70d-8644b702ac21",
        "scrolled": false
      },
      "outputs": [
        {
          "output_type": "stream",
          "name": "stdout",
          "text": [
            "2023-01-19 01:16:22.711299\n",
            "2023-01-19 01:16:22.711428\n",
            "splitting\n",
            "Fold 1\n",
            "Training example\n",
            "[121 228 142 ...   0   0   0]\n",
            "BUILD MODEL\n",
            "COMPILE\n",
            "FIT\n",
            "2023-01-19 01:16:26.911331\n",
            "Epoch 1/10\n",
            "490/490 [==============================] - 5s 9ms/step - loss: 0.6928 - accuracy: 0.5162 - val_loss: 0.6860 - val_accuracy: 0.5820\n",
            "Epoch 2/10\n",
            "490/490 [==============================] - 4s 8ms/step - loss: 0.6919 - accuracy: 0.5250 - val_loss: 0.6862 - val_accuracy: 0.6105\n",
            "Epoch 3/10\n",
            "490/490 [==============================] - 4s 8ms/step - loss: 0.6843 - accuracy: 0.5512 - val_loss: 0.6740 - val_accuracy: 0.5966\n",
            "Epoch 4/10\n",
            "490/490 [==============================] - 4s 8ms/step - loss: 0.6698 - accuracy: 0.5879 - val_loss: 0.6893 - val_accuracy: 0.5248\n",
            "Epoch 5/10\n",
            "490/490 [==============================] - 4s 8ms/step - loss: 0.6588 - accuracy: 0.6071 - val_loss: 0.6810 - val_accuracy: 0.5716\n",
            "Epoch 6/10\n",
            "490/490 [==============================] - 4s 8ms/step - loss: 0.6526 - accuracy: 0.6095 - val_loss: 0.6955 - val_accuracy: 0.5423\n",
            "Epoch 7/10\n",
            "490/490 [==============================] - 4s 8ms/step - loss: 0.6496 - accuracy: 0.6158 - val_loss: 0.6879 - val_accuracy: 0.5596\n",
            "Epoch 8/10\n",
            "490/490 [==============================] - 4s 8ms/step - loss: 0.6448 - accuracy: 0.6224 - val_loss: 0.6870 - val_accuracy: 0.5703\n",
            "Epoch 9/10\n",
            "490/490 [==============================] - 4s 8ms/step - loss: 0.6418 - accuracy: 0.6252 - val_loss: 0.7003 - val_accuracy: 0.5439\n",
            "Epoch 10/10\n",
            "490/490 [==============================] - 4s 7ms/step - loss: 0.6393 - accuracy: 0.6281 - val_loss: 0.7330 - val_accuracy: 0.5106\n",
            "2023-01-19 01:17:08.970944\n"
          ]
        },
        {
          "output_type": "display_data",
          "data": {
            "text/plain": [
              "<Figure size 576x360 with 1 Axes>"
            ],
            "image/png": "[encoded data removed]"
          },
          "metadata": {
            "needs_background": "light"
          }
        },
        {
          "output_type": "stream",
          "name": "stdout",
          "text": [
            "Train sizes (15650, 3997) (15650, 1)\n",
            "Train set ones/size 8121 / 15650\n",
            "Compute valiation accuracy\n",
            "2023-01-19 01:17:09.596951\n",
            "Valid sizes (3756, 3997) (3756, 1)\n",
            "Valid set ones/size 2186 / 3756\n",
            "Range of scores: 0.022629948 to 0.9722152\n",
            "Predicted zeros and ones 2416 1340\n",
            "Accuracy: 51.06% Precision: 62.99% Recall: 38.61% F1: 47.87%\n",
            "2023-01-19 01:17:10.064291\n",
            "Fold 2\n",
            "Training example\n",
            "[186 229 146 ...   0   0   0]\n",
            "BUILD MODEL\n",
            "COMPILE\n",
            "FIT\n",
            "2023-01-19 01:17:13.862464\n",
            "Epoch 1/10\n",
            "476/476 [==============================] - 4s 8ms/step - loss: 0.6890 - accuracy: 0.5474 - val_loss: 0.7070 - val_accuracy: 0.4701\n",
            "Epoch 2/10\n",
            "476/476 [==============================] - 4s 8ms/step - loss: 0.6861 - accuracy: 0.5483 - val_loss: 0.6999 - val_accuracy: 0.4715\n",
            "Epoch 3/10\n",
            "476/476 [==============================] - 4s 8ms/step - loss: 0.6758 - accuracy: 0.5776 - val_loss: 0.6932 - val_accuracy: 0.5311\n",
            "Epoch 4/10\n",
            "476/476 [==============================] - 4s 8ms/step - loss: 0.6670 - accuracy: 0.5856 - val_loss: 0.7091 - val_accuracy: 0.5234\n",
            "Epoch 5/10\n",
            "476/476 [==============================] - 4s 8ms/step - loss: 0.6560 - accuracy: 0.6088 - val_loss: 0.7192 - val_accuracy: 0.5206\n",
            "Epoch 6/10\n",
            "476/476 [==============================] - 4s 8ms/step - loss: 0.6498 - accuracy: 0.6166 - val_loss: 0.7107 - val_accuracy: 0.5148\n",
            "Epoch 7/10\n",
            "476/476 [==============================] - 4s 8ms/step - loss: 0.6470 - accuracy: 0.6178 - val_loss: 0.7658 - val_accuracy: 0.5002\n",
            "Epoch 8/10\n",
            "476/476 [==============================] - 4s 8ms/step - loss: 0.6466 - accuracy: 0.6230 - val_loss: 0.7226 - val_accuracy: 0.5067\n",
            "Epoch 9/10\n",
            "476/476 [==============================] - 4s 8ms/step - loss: 0.6437 - accuracy: 0.6234 - val_loss: 0.7221 - val_accuracy: 0.5100\n",
            "Epoch 10/10\n",
            "476/476 [==============================] - 4s 8ms/step - loss: 0.6413 - accuracy: 0.6290 - val_loss: 0.7453 - val_accuracy: 0.5062\n",
            "2023-01-19 01:17:55.530377\n"
          ]
        },
        {
          "output_type": "display_data",
          "data": {
            "text/plain": [
              "<Figure size 576x360 with 1 Axes>"
            ],
            "image/png": "[encoded data removed]"
          },
          "metadata": {
            "needs_background": "light"
          }
        },
        {
          "output_type": "stream",
          "name": "stdout",
          "text": [
            "Train sizes (15226, 3997) (15226, 1)\n",
            "Train set ones/size 8342 / 15226\n",
            "Compute valiation accuracy\n",
            "2023-01-19 01:17:56.185164\n",
            "Valid sizes (4180, 3997) (4180, 1)\n",
            "Valid set ones/size 1965 / 4180\n",
            "Range of scores: 0.07837346 to 0.96825534\n",
            "Predicted zeros and ones 1245 2935\n",
            "Accuracy: 50.62% Precision: 48.31% Recall: 72.16% F1: 57.88%\n",
            "2023-01-19 01:17:56.955388\n",
            "Fold 3\n",
            "Training example\n",
            "[186 229 146 ...   0   0   0]\n",
            "BUILD MODEL\n",
            "COMPILE\n",
            "FIT\n",
            "2023-01-19 01:18:02.368187\n",
            "Epoch 1/10\n",
            "498/498 [==============================] - 5s 8ms/step - loss: 0.6905 - accuracy: 0.5389 - val_loss: 0.6976 - val_accuracy: 0.4934\n",
            "Epoch 2/10\n",
            "498/498 [==============================] - 4s 8ms/step - loss: 0.6857 - accuracy: 0.5530 - val_loss: 0.7083 - val_accuracy: 0.5032\n",
            "Epoch 3/10\n",
            "498/498 [==============================] - 4s 8ms/step - loss: 0.6733 - accuracy: 0.5787 - val_loss: 0.7225 - val_accuracy: 0.4997\n",
            "Epoch 4/10\n",
            "498/498 [==============================] - 4s 7ms/step - loss: 0.6601 - accuracy: 0.6040 - val_loss: 0.7268 - val_accuracy: 0.4900\n",
            "Epoch 5/10\n",
            "498/498 [==============================] - 4s 8ms/step - loss: 0.6457 - accuracy: 0.6233 - val_loss: 0.7443 - val_accuracy: 0.4977\n",
            "Epoch 6/10\n",
            "498/498 [==============================] - 4s 7ms/step - loss: 0.6382 - accuracy: 0.6294 - val_loss: 0.7404 - val_accuracy: 0.4989\n",
            "Epoch 7/10\n",
            "498/498 [==============================] - 4s 8ms/step - loss: 0.6357 - accuracy: 0.6354 - val_loss: 0.7482 - val_accuracy: 0.4997\n",
            "Epoch 8/10\n",
            "498/498 [==============================] - 4s 8ms/step - loss: 0.6351 - accuracy: 0.6347 - val_loss: 0.7414 - val_accuracy: 0.4883\n",
            "Epoch 9/10\n",
            "498/498 [==============================] - 4s 7ms/step - loss: 0.6334 - accuracy: 0.6369 - val_loss: 0.7438 - val_accuracy: 0.4819\n",
            "Epoch 10/10\n",
            "498/498 [==============================] - 4s 7ms/step - loss: 0.6323 - accuracy: 0.6396 - val_loss: 0.7497 - val_accuracy: 0.4862\n",
            "2023-01-19 01:18:44.077738\n"
          ]
        },
        {
          "output_type": "display_data",
          "data": {
            "text/plain": [
              "<Figure size 576x360 with 1 Axes>"
            ],
            "image/png": "[encoded data removed]"
          },
          "metadata": {
            "needs_background": "light"
          }
        },
        {
          "output_type": "stream",
          "name": "stdout",
          "text": [
            "Train sizes (15916, 3997) (15916, 1)\n",
            "Train set ones/size 8585 / 15916\n",
            "Compute valiation accuracy\n",
            "2023-01-19 01:18:44.718731\n",
            "Valid sizes (3490, 3997) (3490, 1)\n",
            "Valid set ones/size 1722 / 3490\n",
            "Range of scores: 0.0078240065 to 0.9639253\n",
            "Predicted zeros and ones 1631 1859\n",
            "Accuracy: 48.62% Precision: 48.09% Recall: 51.92% F1: 49.93%\n",
            "2023-01-19 01:18:45.474982\n",
            "Fold 4\n",
            "Training example\n",
            "[186 229 146 ...   0   0   0]\n",
            "BUILD MODEL\n",
            "COMPILE\n",
            "FIT\n",
            "2023-01-19 01:18:49.227774\n",
            "Epoch 1/10\n",
            "483/483 [==============================] - 5s 9ms/step - loss: 0.6926 - accuracy: 0.5159 - val_loss: 0.6876 - val_accuracy: 0.5734\n",
            "Epoch 2/10\n",
            "483/483 [==============================] - 4s 8ms/step - loss: 0.6902 - accuracy: 0.5296 - val_loss: 0.6961 - val_accuracy: 0.5139\n",
            "Epoch 3/10\n",
            "483/483 [==============================] - 4s 8ms/step - loss: 0.6760 - accuracy: 0.5780 - val_loss: 0.6924 - val_accuracy: 0.5366\n",
            "Epoch 4/10\n",
            "483/483 [==============================] - 4s 8ms/step - loss: 0.6588 - accuracy: 0.6032 - val_loss: 0.7235 - val_accuracy: 0.5086\n",
            "Epoch 5/10\n",
            "483/483 [==============================] - 4s 8ms/step - loss: 0.6490 - accuracy: 0.6187 - val_loss: 0.7144 - val_accuracy: 0.5156\n",
            "Epoch 6/10\n",
            "483/483 [==============================] - 4s 8ms/step - loss: 0.6437 - accuracy: 0.6238 - val_loss: 0.7396 - val_accuracy: 0.5000\n",
            "Epoch 7/10\n",
            "483/483 [==============================] - 4s 8ms/step - loss: 0.6423 - accuracy: 0.6261 - val_loss: 0.7189 - val_accuracy: 0.5204\n",
            "Epoch 8/10\n",
            "483/483 [==============================] - 4s 8ms/step - loss: 0.6375 - accuracy: 0.6314 - val_loss: 0.7409 - val_accuracy: 0.4879\n",
            "Epoch 9/10\n",
            "483/483 [==============================] - 4s 8ms/step - loss: 0.6354 - accuracy: 0.6326 - val_loss: 0.7303 - val_accuracy: 0.5298\n",
            "Epoch 10/10\n",
            "483/483 [==============================] - 4s 8ms/step - loss: 0.6374 - accuracy: 0.6361 - val_loss: 0.7357 - val_accuracy: 0.4881\n",
            "2023-01-19 01:19:28.797575\n"
          ]
        },
        {
          "output_type": "display_data",
          "data": {
            "text/plain": [
              "<Figure size 576x360 with 1 Axes>"
            ],
            "image/png": "[encoded data removed]"
          },
          "metadata": {
            "needs_background": "light"
          }
        },
        {
          "output_type": "stream",
          "name": "stdout",
          "text": [
            "Train sizes (15440, 3997) (15440, 1)\n",
            "Train set ones/size 8032 / 15440\n",
            "Compute valiation accuracy\n",
            "2023-01-19 01:19:29.438310\n",
            "Valid sizes (3966, 3997) (3966, 1)\n",
            "Valid set ones/size 2275 / 3966\n",
            "Range of scores: 0.017781647 to 0.99921525\n",
            "Predicted zeros and ones 2051 1915\n",
            "Accuracy: 48.81% Precision: 56.40% Recall: 47.47% F1: 51.55%\n",
            "2023-01-19 01:19:29.883186\n",
            "Fold 5\n",
            "Training example\n",
            "[186 229 146 ...   0   0   0]\n",
            "BUILD MODEL\n",
            "COMPILE\n",
            "FIT\n",
            "2023-01-19 01:19:33.681626\n",
            "Epoch 1/10\n",
            "481/481 [==============================] - 5s 9ms/step - loss: 0.6916 - accuracy: 0.5286 - val_loss: 0.6907 - val_accuracy: 0.5384\n",
            "Epoch 2/10\n",
            "481/481 [==============================] - 4s 8ms/step - loss: 0.6868 - accuracy: 0.5453 - val_loss: 0.7009 - val_accuracy: 0.4803\n",
            "Epoch 3/10\n",
            "481/481 [==============================] - 4s 8ms/step - loss: 0.6751 - accuracy: 0.5742 - val_loss: 0.7059 - val_accuracy: 0.5344\n",
            "Epoch 4/10\n",
            "481/481 [==============================] - 4s 7ms/step - loss: 0.6643 - accuracy: 0.5977 - val_loss: 0.7084 - val_accuracy: 0.5311\n",
            "Epoch 5/10\n",
            "481/481 [==============================] - 4s 7ms/step - loss: 0.6538 - accuracy: 0.6173 - val_loss: 0.7172 - val_accuracy: 0.5060\n",
            "Epoch 6/10\n",
            "481/481 [==============================] - 4s 8ms/step - loss: 0.6470 - accuracy: 0.6238 - val_loss: 0.7156 - val_accuracy: 0.5371\n",
            "Epoch 7/10\n",
            "481/481 [==============================] - 4s 7ms/step - loss: 0.6430 - accuracy: 0.6292 - val_loss: 0.7141 - val_accuracy: 0.5326\n",
            "Epoch 8/10\n",
            "481/481 [==============================] - 4s 7ms/step - loss: 0.6391 - accuracy: 0.6353 - val_loss: 0.7228 - val_accuracy: 0.5219\n",
            "Epoch 9/10\n",
            "481/481 [==============================] - 4s 8ms/step - loss: 0.6388 - accuracy: 0.6364 - val_loss: 0.7142 - val_accuracy: 0.5130\n",
            "Epoch 10/10\n",
            "481/481 [==============================] - 4s 7ms/step - loss: 0.6356 - accuracy: 0.6441 - val_loss: 0.7241 - val_accuracy: 0.5192\n",
            "2023-01-19 01:20:15.281311\n"
          ]
        },
        {
          "output_type": "display_data",
          "data": {
            "text/plain": [
              "<Figure size 576x360 with 1 Axes>"
            ],
            "image/png": "[encoded data removed]"
          },
          "metadata": {
            "needs_background": "light"
          }
        },
        {
          "output_type": "stream",
          "name": "stdout",
          "text": [
            "Train sizes (15392, 3997) (15392, 1)\n",
            "Train set ones/size 8148 / 15392\n",
            "Compute valiation accuracy\n",
            "2023-01-19 01:20:15.941816\n",
            "Valid sizes (4014, 3997) (4014, 1)\n",
            "Valid set ones/size 2159 / 4014\n",
            "Range of scores: 0.033783253 to 0.99748707\n",
            "Predicted zeros and ones 1597 2417\n",
            "Accuracy: 51.92% Precision: 54.74% Recall: 61.28% F1: 57.82%\n",
            "2023-01-19 01:20:16.701476\n",
            "\n",
            "Cross validation 5 folds 10 epochs\n",
            " accuracy mean 50.21% +/- 1.29\n",
            " precision mean 54.10% +/- 5.55\n",
            " recall mean 54.29% +/- 11.54\n",
            " F1 mean 53.01% +/- 4.12\n",
            "2023-01-19 01:20:16.702529\n"
          ]
        }
      ],
      "source": [
        "print(datetime.now())\n",
        "cvdo = CrossValidator(EPOCHS,FOLDS,BREAK)\n",
        "cv_accuracy, cv_precision, cv_recall, cv_f1 = cvdo.do_cross_validation()   \n",
        "cvdo = None\n",
        "print(\"Cross validation %d folds %d epochs\" % (FOLDS,EPOCHS)) \n",
        "print(\" accuracy mean %.2f%% +/- %.2f\" % (np.mean(cv_accuracy), np.std(cv_accuracy)))\n",
        "print(\" precision mean %.2f%% +/- %.2f\" % (np.mean(cv_precision), np.std(cv_precision)))\n",
        "print(\" recall mean %.2f%% +/- %.2f\" % (np.mean(cv_recall), np.std(cv_recall)))\n",
        "print(\" F1 mean %.2f%% +/- %.2f\" % (np.mean(cv_f1), np.std(cv_f1)))\n",
        "print(datetime.now())"
      ]
    },
    {
      "cell_type": "code",
      "execution_count": 102,
      "metadata": {
        "id": "HkCeDg_HdQ36"
      },
      "outputs": [],
      "source": []
    }
  ],
  "metadata": {
    "accelerator": "GPU",
    "colab": {
      "provenance": []
    },
    "gpuClass": "standard",
    "kernelspec": {
      "display_name": "Python 3 (ipykernel)",
      "language": "python",
      "name": "python3"
    },
    "language_info": {
      "codemirror_mode": {
        "name": "ipython",
        "version": 3
      },
      "file_extension": ".py",
      "mimetype": "text/x-python",
      "name": "python",
      "nbconvert_exporter": "python",
      "pygments_lexer": "ipython3",
      "version": "3.10.0"
    }
  },
  "nbformat": 4,
  "nbformat_minor": 0
}