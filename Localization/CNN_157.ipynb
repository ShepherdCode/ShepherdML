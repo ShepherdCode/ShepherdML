{
  "cells": [
    {
      "cell_type": "markdown",
      "metadata": {
        "id": "PG-tGRnlFLA3"
      },
      "source": [
        "# CNN + GlobalAvgPool\n",
        "Measure AUPRC.\n",
        "Use median rather than max RCI."
      ]
    },
    {
      "cell_type": "code",
      "execution_count": 1,
      "metadata": {
        "colab": {
          "base_uri": "https://localhost:8080/"
        },
        "id": "0RmwUsVLFLA6",
        "outputId": "f3341cb1-ba84-4233-bdb4-9e4c367868d6"
      },
      "outputs": [
        {
          "output_type": "stream",
          "name": "stdout",
          "text": [
            "2023-01-26 13:43:34.947946\n",
            "Python 3.8.10\n",
            "sklearn 1.0.2\n"
          ]
        }
      ],
      "source": [
        "from datetime import datetime\n",
        "print(datetime.now())\n",
        "from platform import python_version\n",
        "print('Python',python_version())\n",
        "import numpy as np\n",
        "import pandas as pd\n",
        "import pickle\n",
        "import time # sleep function\n",
        "from os.path import isfile\n",
        "from matplotlib import pyplot as plt \n",
        "import sklearn   # pip install --upgrade scikit-learn\n",
        "print('sklearn',sklearn.__version__)"
      ]
    },
    {
      "cell_type": "markdown",
      "metadata": {
        "id": "tUtGXPrcFLA8"
      },
      "source": [
        "We prevously used sklearn.model_selection.ShuffleSplit   \n",
        "Now we avoid it due to this note in the \n",
        "[documentation](https://scikit-learn.org/stable/modules/generated/sklearn.model_selection.ShuffleSplit.html):\n",
        "Note: contrary to other cross-validation strategies, random splits do not guarantee that all folds will be different, although this is still very likely for sizeable datasets."
      ]
    },
    {
      "cell_type": "code",
      "execution_count": 2,
      "metadata": {
        "id": "PRX-UEr8FLA8"
      },
      "outputs": [],
      "source": [
        "import tensorflow as tf\n",
        "dt='float32'\n",
        "tf.keras.backend.set_floatx('float32')\n",
        "tf.random.set_seed(42) \n",
        "\n",
        "from tensorflow import keras\n",
        "from sklearn.model_selection import KFold\n",
        "from sklearn.metrics import accuracy_score\n",
        "from sklearn.metrics import precision_score\n",
        "from sklearn.metrics import recall_score\n",
        "from sklearn.metrics import f1_score\n",
        "from sklearn.metrics import precision_recall_curve\n",
        "from sklearn.metrics import auc\n",
        "\n",
        "from keras.models import Sequential\n",
        "from keras.layers import Masking\n",
        "from keras.layers import Embedding\n",
        "from keras.layers import Conv1D\n",
        "from keras.layers import MaxPooling1D\n",
        "from keras.layers import GlobalAveragePooling1D\n",
        "from keras.layers import GlobalMaxPooling1D\n",
        "from keras.layers import Bidirectional\n",
        "from keras.layers import LSTM\n",
        "from keras.layers import TimeDistributed\n",
        "from keras.layers import Flatten\n",
        "from keras.layers import Dense\n",
        "from keras.layers import Dropout\n",
        "from keras.losses import BinaryCrossentropy\n",
        "\n",
        "K=5\n",
        "RCI_THRESHOLD=0.0\n",
        "CFILTERS=64\n",
        "FILTERSIZE=8\n",
        "RCELLS=32\n",
        "DCELLS=16\n",
        "EPOCHS=10\n",
        "FOLDS=5      \n",
        "EMBED_DIMEN = 4 # arbitrary hyperparameter\n",
        "BREAK = False   # break after first fold\n",
        "MINLEN=200\n",
        "MAXLEN=4000   "
      ]
    },
    {
      "cell_type": "code",
      "execution_count": 3,
      "metadata": {
        "colab": {
          "base_uri": "https://localhost:8080/"
        },
        "id": "OlzN9OdsFWEU",
        "outputId": "5108ef48-0f50-493d-c610-2c6f66da486f"
      },
      "outputs": [
        {
          "output_type": "stream",
          "name": "stdout",
          "text": [
            "Running on CoLab\n",
            "Drive already mounted at /content/drive/; to attempt to forcibly remount, call drive.mount(\"/content/drive/\", force_remount=True).\n",
            "/content/drive/My Drive/data/Localization/TrainTest/\n"
          ]
        }
      ],
      "source": [
        "try:\n",
        "    from google.colab import drive\n",
        "    IN_COLAB = True\n",
        "    print('Running on CoLab')\n",
        "    PATH='/content/drive/'\n",
        "    drive.mount(PATH)\n",
        "    DATA_DIR=PATH+'My Drive/data/Localization/TrainTest/'  # must end in \"/\"\n",
        "except:\n",
        "    IN_COLAB = False\n",
        "    DATA_DIR = 'D:/Adjeroh/Localization/TrainTest/'   # Windows\n",
        "    DATA_DIR = '/Users/jasonmiller/WVU/Localization/TrainTest/'    # Mac\n",
        "print(DATA_DIR)"
      ]
    },
    {
      "cell_type": "code",
      "execution_count": 4,
      "metadata": {
        "id": "LnkpVKdMFLA-"
      },
      "outputs": [],
      "source": [
        "GENES_FILE =    'CNRCI_coding_train_genes.csv'\n",
        "RCI_FILE =      'CNRCI_coding_train_RCI.gc42.csv'\n",
        "SEQUENCE_FILE = 'CNRCI_coding_train_transcripts.gc42.csv'\n",
        "COUNTS_FILE =   'CNRCI_coding_train_counts.K4.gc42.csv'\n",
        "PICKLE_FILE =   'CNRCI_coding_combined_K5.pkl'"
      ]
    },
    {
      "cell_type": "code",
      "execution_count": 5,
      "metadata": {
        "colab": {
          "base_uri": "https://localhost:8080/"
        },
        "id": "e3p4QzQJFLA_",
        "outputId": "ef68a38e-3610-4a39-ea3a-32e3bb3fec3e"
      },
      "outputs": [
        {
          "output_type": "stream",
          "name": "stdout",
          "text": [
            "Exclude cell line 1 H1.hESC\n",
            "Exclude cell line 7 NCI.H460\n"
          ]
        }
      ],
      "source": [
        "def get_ordered_list():\n",
        "    ordered_list = \\\n",
        "    ['A549',\\\n",
        "      'H1.hESC',\\\n",
        "      'HeLa.S3',\\\n",
        "      'HepG2',\\\n",
        "      'HT1080',\\\n",
        "      'HUVEC',\\\n",
        "      'MCF.7',\\\n",
        "      'NCI.H460',\\\n",
        "      'NHEK',\\\n",
        "      'SK.MEL.5',\\\n",
        "      'SK.N.DZ',\\\n",
        "      'SK.N.SH',\\\n",
        "      'GM12878',\\\n",
        "      'K562',\\\n",
        "      'IMR.90']\n",
        "    return ordered_list\n",
        "all_cell_lines = get_ordered_list()\n",
        "EXCLUSIONS = [1,7]\n",
        "for c in EXCLUSIONS:\n",
        "    print('Exclude cell line',c,all_cell_lines[c])"
      ]
    },
    {
      "cell_type": "markdown",
      "metadata": {
        "id": "UtqdpJOxFLBA"
      },
      "source": [
        "## Data Load"
      ]
    },
    {
      "cell_type": "code",
      "execution_count": 6,
      "metadata": {
        "colab": {
          "base_uri": "https://localhost:8080/"
        },
        "id": "p35ehKV3Kq0z",
        "outputId": "271783d0-8e9a-4136-c549-8ec28556194b"
      },
      "outputs": [
        {
          "output_type": "stream",
          "name": "stdout",
          "text": [
            "[1, 1]\n",
            "[20, 16]\n",
            "[63, 57]\n",
            "[64, 0]\n",
            "0\n",
            "1\n"
          ]
        }
      ],
      "source": [
        "class DataLoader():\n",
        "    def __init__(self):\n",
        "        self.cache=dict() \n",
        "        self.vals = {'A':0, 'C':1, 'G':2, 'T':3}\n",
        "        \n",
        "    def load_gene_rci_values(self,filepath,exclusions=[]):\n",
        "        '''\n",
        "        Load from RCI csv file.\n",
        "        Return dict with keys=gene:str and values=RCI:float.\n",
        "        '''\n",
        "        gene_to_rci = {}\n",
        "        overall_sum = 0\n",
        "        with open (filepath,'r') as handle:\n",
        "            header = None\n",
        "            for row in handle:\n",
        "                if header is None:\n",
        "                    header = row # skip file's header line\n",
        "                else:\n",
        "                    line = row.strip()\n",
        "                    fields = line.split(',')\n",
        "                    gene_id = fields.pop(0)\n",
        "                    rci_list = []\n",
        "                    cell_line = 0 # first line is 0 = A549\n",
        "                    for rci_str in fields:\n",
        "                        if rci_str != \"nan\" and cell_line not in exclusions:\n",
        "                            rci_val = float(rci_str)\n",
        "                            rci_list.append(rci_val)\n",
        "                        cell_line += 1   \n",
        "                    if len(rci_list) > 0:\n",
        "                        statistic = np.median(rci_list)\n",
        "                        gene_to_rci[gene_id] = statistic\n",
        "                        overall_sum += statistic\n",
        "        overall_count = len(gene_to_rci.keys())\n",
        "        overall_mean = overall_sum / overall_count\n",
        "        print('Number of RCI values lo',overall_count)\n",
        "        print('Mean RCI value',overall_mean)\n",
        "        return gene_to_rci\n",
        "    \n",
        "    def seq_to_kmer_values(self,rna,K):\n",
        "        # The cache may represent more than one K. Probably not a problem.\n",
        "        N_indicator = 0 # indicator value\n",
        "        vec=[] # seq converted to list of K-mers \n",
        "        length = len(rna)\n",
        "        for i in range(length-K+1):\n",
        "            kmer = rna[i:i+K]\n",
        "            if 'N' in kmer:\n",
        "                value = N_indicator\n",
        "            elif kmer in self.cache.keys():\n",
        "                value = self.cache[kmer]\n",
        "            else:\n",
        "                value = 0\n",
        "                for j in range(K):\n",
        "                    value *= 4   \n",
        "                    nextnuc = kmer[j] \n",
        "                    nucval = self.vals[nextnuc]\n",
        "                    value += nucval\n",
        "                value += 1   # NNN => 0, AAA => 1\n",
        "                self.cache[kmer] = value\n",
        "            vec.append(value)\n",
        "        return vec\n",
        "\n",
        "    def rci_to_label(self,rci):\n",
        "        CYTO_LABEL = 1\n",
        "        NUCLEAR_LABEL = 0\n",
        "        # cnrci = log (cyto-to-nuclear ratio)\n",
        "        # rci > 0 implies cytoplasmic\n",
        "        if rci > RCI_THRESHOLD:\n",
        "            return CYTO_LABEL\n",
        "        return NUCLEAR_LABEL\n",
        "\n",
        "    def load_sequence(self,filepath):\n",
        "        labels=[]\n",
        "        allids=[]\n",
        "        allseq=[]\n",
        "        cache = DATA_DIR+PICKLE_FILE # TO DO: parameterize\n",
        "        if isfile(cache):\n",
        "            with open(cache,'rb') as fin:\n",
        "                alldata = pickle.load(fin)\n",
        "                labels=alldata[0]\n",
        "                allids=alldata[1]\n",
        "                allseq=alldata[2]\n",
        "                return labels,allids,allseq\n",
        "\n",
        "        NREPEAT = str('N'*MAXLEN)\n",
        "        with open (filepath,'r') as handle:\n",
        "            header = None\n",
        "            for row in handle:\n",
        "                if header is None:\n",
        "                    header = row\n",
        "                else:\n",
        "                    line    = row.strip()\n",
        "                    fields  = line.split(',')\n",
        "                    tran_id = fields[0]  # with version number\n",
        "                    gene_id = fields[1]        # without version number\n",
        "                    seq_len = int(fields[3])\n",
        "                    seq_txt = fields[4]\n",
        "                    if seq_len>=MINLEN and seq_len<=MAXLEN and gene_id in gene_to_rci.keys():\n",
        "                        allids.append( (gene_id,tran_id) )\n",
        "                        rci_val = gene_to_rci[gene_id]\n",
        "                        rci_label = self.rci_to_label(rci_val)\n",
        "                        labels.append(rci_label)\n",
        "                        if seq_len<MAXLEN:\n",
        "                            seq_txt = seq_txt + NREPEAT\n",
        "                            seq_txt = seq_txt[:MAXLEN]\n",
        "                        hot_vec = self.seq_to_kmer_values(seq_txt,K)\n",
        "                        allseq.append(hot_vec)\n",
        "        with open(cache,'wb') as fout:\n",
        "            alldata = [labels,allids,allseq]\n",
        "            pickle.dump(alldata,fout)\n",
        "        return labels,allids,allseq\n",
        "    \n",
        "loader = DataLoader()\n",
        "# test it\n",
        "print(loader.seq_to_kmer_values('AAAA',3))\n",
        "print(loader.seq_to_kmer_values('CATT',3))\n",
        "print(loader.seq_to_kmer_values('TTGA',3))\n",
        "print(loader.seq_to_kmer_values('TTTN',3))\n",
        "# test it\n",
        "print(loader.rci_to_label(-0.9))\n",
        "print(loader.rci_to_label(1.1))"
      ]
    },
    {
      "cell_type": "code",
      "execution_count": 7,
      "metadata": {
        "colab": {
          "base_uri": "https://localhost:8080/"
        },
        "id": "cYoYDc93FLBB",
        "outputId": "896dc1ba-1760-4fe6-bad4-3a72959b0ef1"
      },
      "outputs": [
        {
          "output_type": "stream",
          "name": "stdout",
          "text": [
            "2023-01-26 13:43:45.352823\n",
            "Load RCI values...\n",
            "Number of RCI values lo 13512\n",
            "Mean RCI value -0.20493295871695527\n",
            "Num RCI: 13512\n",
            "Example RCI: [('ENSG00000000003', 1.50595), ('ENSG00000000419', 1.15523), ('ENSG00000000457', -0.78064)]\n",
            "Load genes...\n",
            "2023-01-26 13:43:46.821243\n",
            "Load sequence...\n",
            "2023-01-26 13:45:06.681702\n",
            "Num IDs: 54410\n",
            "Example IDs: [('ENSG00000187634', 'ENST00000455979.1'), ('ENSG00000187608', 'ENST00000624652.1'), ('ENSG00000131591', 'ENST00000427787.5'), ('ENSG00000186827', 'ENST00000699969.1')]\n",
            "Count 26044 ones out of 54410 labels.\n",
            "Num labels: 54410\n",
            "Example labels: [0, 1, 0, 0]\n",
            "Num sequences: 54410\n",
            "Example sequence: [585, 291, 138, 550, 150, 597, 339, 330, 293, 147, 585, 292, 142, 566, 214, 856, 351, 378, 487, 923, 618, 423, 668, 624, 446, 759, 986, 871, 409, 611, 395, 555, 172, 687, 699, 747, 937, 674, 647, 539, 107, 425, 673, 643, 522, 39, 155, 619, 426, 680, 671, 635, 491, 937, 673, 643, 524, 46, 183, 731, 875, 426, 678, 663, 601, 355, 395, 555, 169, 673, 641, 513, 3, 12, 46, 184, 735, 889, 481, 899, 521, 34, 135, 538, 104, 416, 637, 500, 975, 828, 238, 950, 725, 849, 323, 267, 43, 171, 681, 676, 654, 566, 216, 863, 378, 485, 915, 587, 300, 175, 698, 741, 916, 590, 310, 216, 862, 374, 471, 857, 356, 398, 568, 223, 890, 487, 921, 610, 392, 543, 122, 486, 918, 599, 347, 363, 426, 680, 671, 634, 486, 919, 601, 353, 388, 525, 52, 206, 822, 216, 862, 374, 470, 854, 343, 347, 364, 431, 697, 737, 898, 518, 23, 91, 363, 427, 683, 682, 679, 667, 618, 424, 671, 635, 490, 933, 659, 585, 290, 133, 529, 67, 265, 35, 139, 553, 162, 645, 531, 76, 302, 183, 730, 870, 406, 600, 351, 378, 486, 920, 607, 378, 486, 919, 602, 358, 406, 599, 347, 361, 417, 642, 518, 24, 95, 377, 481, 899, 521, 33, 131, 523, 41, 163, 650, 551, 153, 609, 386, 520, 30, 118, 470, 853, 339, 330, 296, 160, 638, 504, 990, 888, 479, 890, 486, 917, 595, 330, 295, 153, 612, 399, 571, 236, 943, 697, 738, 901, 531, 74, 295, 153, 610, 391, 539, 107, 425, 675, 652, 559, 187, 746, 934, 662, 598, 341, 338, 326, 280, 95, 380, 495, 955, 747, 938, 679, 667, 618, 423, 667, 618, 422, 661, 595, 331, 298, 168, 672, 639, 505, 993, 899, 522, 37, 147, 587, 297, 163, 651, 553, 164, 655, 571, 236, 942, 694, 727, 858, 357, 402, 581, 276, 78, 310, 215, 860, 365, 436, 718, 821, 212, 847, 313, 225, 899, 521, 35, 137, 545, 131, 521, 35, 140, 558, 182, 725, 850, 325, 274, 70, 278, 85, 338, 328, 287, 123, 491, 937, 674, 647, 540, 111, 441, 737, 898, 517, 20, 78, 312, 222, 888, 480, 896, 510, 1014, 983, 857, 355, 393, 547, 139, 554, 167, 668, 622, 438, 728, 863, 378, 485, 915, 586, 294, 149, 595, 331, 297, 162, 647, 539, 106, 421, 657, 578, 262, 24, 96, 382, 502, 982, 853, 338, 326, 278, 88, 350, 373, 468, 845, 308, 206, 822, 213, 851, 330, 295, 156, 622, 438, 725, 850, 326, 279, 90, 357, 403, 586, 294, 151, 602, 358, 405, 594, 326, 280, 94, 375, 476, 880, 445, 756, 975, 826, 230, 918, 599, 345, 355, 394, 549, 148, 590, 309, 211, 841, 291, 138, 550, 151, 602, 360, 415, 636, 495, 953, 737, 900, 528, 62, 246, 981, 851, 329, 291, 137, 547, 139, 554, 165, 659, 586, 294, 152, 607, 379, 489, 931, 649, 548, 144, 575, 251, 1002, 934, 664, 607, 378, 487, 921, 610, 390, 534, 87, 346, 358, 407, 603, 364, 431, 697, 738, 902, 536, 95, 380, 496, 959, 763, 1003, 938, 677, 657, 579, 265, 35, 139, 554, 168, 671, 635, 491, 938, 678, 663, 602, 360, 414, 630, 470, 854, 342, 342, 343, 348, 365, 436, 718, 821, 211, 842, 293, 147, 586, 295, 153, 610, 392, 543, 122, 488, 928, 640, 512, 1022, 1013, 979, 841, 291, 137, 545, 131, 521, 35, 139, 555, 170, 677, 658, 583, 281, 97, 387, 522, 39, 153, 609, 388, 526, 55, 218, 870, 408, 606, 373, 465, 835, 265, 35, 139, 554, 167, 666, 616, 415, 634, 488, 927, 634, 488, 927, 634, 486, 919, 602, 359, 411, 619, 425, 675, 650, 552, 159, 635, 491, 939, 682, 678, 662, 597, 339, 330, 293, 148, 591, 315, 234, 934, 662, 598, 343, 347, 361, 419, 651, 553, 162, 646, 533, 84, 336, 317, 242, 966, 791, 90, 358, 407, 603, 362, 424, 672, 639, 508, 1007, 956, 750, 949, 723, 842, 293, 146, 584, 287, 121, 483, 906, 551, 153, 611, 395, 554, 166, 661, 595, 330, 293, 146, 582, 280, 96, 384, 511, 1017, 995, 907, 553, 162, 646, 534, 88, 350, 373, 467, 842, 295, 154, 614, 408, 606, 376, 477, 882, 454, 789, 82, 326, 280, 95, 379, 491, 938, 678, 664, 606, 374, 470, 854, 341, 339, 330, 294, 149, 594, 327, 283, 108, 431, 697, 739, 907, 553, 162, 646, 534, 85, 338, 326, 278, 88, 351, 379, 490, 933, 660, 591, 313, 228, 910, 566, 214, 854, 342, 344, 350, 373, 468, 846, 309, 210, 838, 280, 94, 374, 470, 854, 341, 339, 330, 294, 149, 594, 327, 281, 100, 398, 568, 222, 886, 472, 863, 377, 483, 907, 555, 172, 686, 694, 727, 859, 362, 421, 659, 587, 297, 163, 651, 556, 175, 699, 746, 935, 667, 618, 424, 671, 634, 485, 915, 586, 296, 158, 632, 479, 889, 483, 907, 555, 171, 682, 678, 662, 598, 341, 339, 332, 303, 187, 746, 934, 664, 607, 379, 489, 929, 643, 522, 38, 150, 597, 338, 326, 280, 95, 378, 486, 918, 600, 350, 374, 472, 862, 374, 469, 850, 327, 283, 106, 421, 659, 587, 300, 174, 693, 723, 842, 295, 156, 622, 439, 731, 873, 417, 643, 522, 37, 147, 587, 299, 170, 678, 664, 607, 379, 490, 936, 670, 629, 467, 842, 293, 146, 582, 279, 91, 363, 425, 675, 651, 555, 170, 679, 666, 614, 407, 602, 358, 406, 598, 341, 339, 330, 296, 159, 634, 486, 919, 602, 358, 406, 598, 343, 348, 366, 438, 728, 864, 382, 504, 990, 887, 475, 873, 419, 649, 547, 139, 555, 169, 675, 650, 552, 159, 634, 486, 920, 606, 373, 467, 842, 294, 151, 602, 358, 406, 598, 342, 342, 344, 352, 383, 506, 1000, 927, 636, 494, 951, 730, 870, 407, 602, 357, 403, 585, 289, 132, 527, 58, 230, 918, 598, 344, 350, 373, 466, 839, 284, 110, 439, 730, 870, 406, 600, 351, 379, 491, 938, 678, 662, 598, 342, 341, 340, 334, 312, 222, 885, 467, 843, 298, 166, 662, 598, 342, 342, 344, 352, 382, 502, 984, 863, 379, 491, 939, 683, 684, 687, 698, 742, 918, 600, 350, 375, 475, 874, 424, 670, 632, 479, 892, 495, 954, 742, 917, 595, 329, 290, 134, 534, 86, 341, 339, 331, 298, 168, 669, 626, 455, 795, 106, 424, 672, 638, 502, 984, 863, 378, 486, 918, 598, 342, 342, 343, 346, 359, 410, 613, 403, 587, 298, 167, 667, 617, 419, 649, 548, 143, 572, 240, 958, 759, 986, 870, 408, 607, 379, 490, 933, 659, 586, 293, 147, 587, 297, 163, 650, 552, 158, 630, 472, 863, 378, 487, 923, 617, 417, 643, 522, 37, 147, 585, 289, 130, 518, 24, 95, 379, 490, 934, 662, 599, 347, 362, 424, 671, 635, 489, 931, 650, 552, 159, 634, 486, 918, 599, 346, 358, 407, 601, 354, 390, 536, 94, 374, 472, 863, 378, 487, 923, 618, 421, 659, 585, 289, 131, 523, 41, 163, 650, 552, 159, 635, 489, 931, 649, 547, 138, 551, 154, 615, 410, 615, 410, 614, 406, 597, 338, 325, 275, 74, 296, 159, 634, 488, 927, 635, 490, 935, 666, 614, 406, 599, 345, 355, 393, 546, 134, 535, 90, 358, 406, 600, 351, 378, 487, 922, 614, 406, 598, 341, 337, 322, 263, 25, 98, 391, 539, 106, 423, 666, 614, 407, 601, 355, 395, 553, 163, 650, 552, 159, 634, 485, 915, 586, 295, 155, 618, 423, 666, 615, 411, 619, 427, 682, 678, 662, 600, 351, 378, 488, 927, 635, 492, 943, 698, 744, 927, 633, 481, 898, 518, 21, 82, 327, 283, 106, 423, 666, 615, 411, 618, 423, 666, 614, 405, 594, 328, 287, 122, 488, 927, 635, 490, 934, 662, 600, 351, 378, 486, 918, 598, 342, 342, 342, 341, 339, 331, 299, 171, 682, 678, 662, 598, 342, 343, 347, 363, 426, 680, 670, 630, 471, 859, 361, 418, 646, 534, 86, 342, 342, 341, 338, 326, 278, 86, 343, 348, 366, 438, 726, 855, 347, 363, 425, 674, 648, 542, 120, 479, 890, 486, 918, 599, 347, 362, 423, 665, 611, 394, 550, 150, 598, 342, 342, 343, 347, 361, 417, 643, 523, 43, 171, 683, 683, 684, 686, 694, 726, 855, 347, 362, 422, 662, 600, 351, 378, 486, 920, 606, 373, 467, 842, 295, 154, 615, 411, 618, 422, 662, 597, 339, 330, 295, 153, 611, 396, 558, 182, 725, 849, 323, 267, 41, 163, 649, 548, 143, 569, 226, 903, 539, 107, 427, 683, 682, 680, 669, 627, 459, 810, 168, 670, 632, 479, 891, 491, 938, 677, 658, 581, 273, 67, 265, 36, 143, 571, 234, 936, 670, 631, 475, 873, 417, 643, 521, 34, 135, 537, 99, 394, 550, 150, 598, 342, 342, 341, 337, 321, 259, 9, 34, 136, 542, 119, 475, 873, 418, 647, 539, 105, 419, 649, 547, 139, 553, 162, 646, 534, 86, 343, 345, 355, 393, 546, 135, 539, 106, 421, 659, 586, 296, 159, 636, 496, 959, 763, 1003, 940, 687, 698, 741, 915, 587, 299, 171, 683, 682, 678, 662, 597, 338, 328, 286, 118, 471, 859, 363, 426, 678, 661, 593, 323, 266, 40, 158, 630, 469, 851, 330, 296, 159, 635, 489, 931, 651, 555, 171, 682, 678, 663, 603, 362, 423, 666, 614, 407, 601, 355, 395, 555, 171, 681, 673, 643, 523, 43, 171, 682, 680, 672, 640, 512, 1022, 1014, 982, 853, 339, 331, 299, 172, 686, 694, 725, 850, 325, 274, 72, 287, 122, 486, 918, 598, 344, 351, 379, 491, 938, 680, 672, 638, 502, 982, 856, 352, 381, 500, 975, 826, 230, 919, 604, 366, 437, 723, 842, 294, 150, 598, 344, 349, 370, 456, 800, 126, 502, 981, 850, 325, 274, 69, 275, 75, 298, 167, 666, 615, 411, 620, 429, 691, 715, 811, 171, 683, 681, 674, 648, 542, 120, 478, 886, 469, 852, 335, 315, 233, 932, 655, 571, 235, 939, 681, 675, 651, 553, 163, 651, 554, 166, 662, 598, 341, 339, 330, 294, 150, 598, 344, 351, 377, 483, 907, 553, 162, 647, 540, 110, 437, 722, 838, 277, 81, 323, 268, 47, 187, 745, 930, 646, 535, 92, 367, 443, 745, 932, 655, 569, 226, 903, 540, 110, 440, 735, 890, 485, 915, 586, 296, 160, 638, 503, 988, 879, 443, 747, 939, 683, 683, 682, 678, 664, 607, 380, 494, 952, 735, 891, 490, 936, 671, 636, 495, 955, 745, 931, 649, 547, 140, 557, 178, 709, 786, 72, 286, 119, 475, 875, 428, 686, 696, 736, 894, 501, 979, 843, 299, 169, 675, 650, 549, 147, 587, 299, 171, 681, 676, 654, 567, 217, 866, 391, 539, 107, 427, 681, 675, 649, 546, 134, 534, 88, 351, 378, 486, 917, 594, 328, 287, 122, 488, 927, 633, 482, 903, 539, 105, 419, 651, 553, 163, 650, 549, 146, 582, 280, 95, 378, 488, 927, 633, 482, 902, 533, 81, 322, 261, 20, 79, 315, 235, 939, 682, 680, 671, 633, 481, 899, 522, 40, 159, 635, 491, 939, 682, 678, 662, 599, 346, 358, 406, 600, 350, 373, 465, 835, 265, 36, 142, 566, 215, 859, 363, 426, 678, 662, 597, 339, 331, 300, 175, 699, 746, 934, 661, 595, 331, 298, 167, 666, 614, 408, 607, 379, 491, 938, 678, 663, 601, 355, 396, 560, 192, 768, 1022, 1016, 989, 882, 455, 796, 111, 443, 746, 934, 661, 595, 330, 296, 160, 638, 502, 982, 854, 343, 348, 367, 443, 746, 936, 670, 632, 479, 890, 486, 917, 594, 328, 287, 122, 485, 915, 586, 294, 149, 594, 326, 277, 81, 322, 262, 22, 88, 351, 378, 487, 923, 619, 426, 678, 662, 598, 343, 347, 361, 419, 650, 551, 153, 611, 393, 545, 130, 520, 30, 119, 475, 874, 421, 658, 581, 275, 75, 297, 163, 649, 547, 138, 549, 147, 586, 294, 150, 600, 352, 383, 508, 1006, 950, 726, 854, 342, 341, 338, 327, 281, 98, 391, 539, 106, 422, 661, 594, 327, 284, 110, 438, 726, 854, 342, 344, 349, 372, 463, 827, 233, 931, 651, 555, 171, 683, 682, 678, 661, 594, 327, 282, 102, 406, 600, 352, 383, 506, 998, 919, 603, 364, 430, 693, 721, 833, 258, 8, 32, 126, 501, 978, 838, 278, 85, 337, 323, 266, 37, 147, 587, 297, 163, 649, 545, 132, 527, 59, 235, 937, 674, 646, 536, 96, 383, 507, 1002, 936, 670, 632, 477, 882, 456, 800, 126, 502, 981, 851, 331, 299, 171, 682, 678, 662, 598, 342, 343, 345, 354, 390, 534, 88, 352, 382, 502, 982, 853, 339, 330, 294, 152, 606, 376, 479, 892, 495, 956, 752, 959, 761, 995, 907, 556, 176, 703, 762, 998, 919, 603, 363, 427, 683, 684, 685, 691, 715, 811, 171, 684, 687, 699, 747, 939, 682, 678, 661, 594, 325, 274, 69, 273, 65, 260, 14, 56, 222, 886, 469, 851, 331, 297, 163, 650, 550, 149, 594, 326, 277, 82, 328, 286, 117, 465, 834, 261, 18, 69, 273, 68, 271, 59, 234, 934, 662, 600, 351, 378, 486, 920, 606, 374, 470, 853, 338, 326, 279, 90, 360, 416, 640, 509, 1012, 976, 832, 254, 1016, 992, 896, 510, 1015, 987, 876, 432, 704, 766, 1015, 987, 873, 420, 655, 570, 229, 913, 577, 257, 2, 5, 17, 65, 257, 1, 1, 4, 16, 64, 256, 1021, 1009, 961, 769, 3, 9, 33, 129, 513, 4, 15, 60, 239, 953, 738, 904, 544, 126, 501, 977, 833, 259, 11, 41, 161, 641, 515, 11, 41, 161, 642, 517, 17, 65, 260, 16, 64, 256, 1022, 1013, 977, 833, 259, 9, 34, 136, 544, 127, 507, 1003, 939, 683, 681, 675, 652, 559, 185, 737, 899, 523, 42, 165, 659, 585, 291, 138, 550, 152, 607, 379, 492, 943, 698, 741, 915, 585, 292, 143, 571, 233, 930, 647, 537, 99, 395, 556, 174, 696, 735, 890, 485, 915, 585, 290, 135, 539, 105, 419, 651, 555, 170, 677, 659, 585, 291, 139, 556, 175, 699, 748, 943, 699, 745, 929, 643, 523, 43, 171, 682, 678, 661, 595, 331, 299, 171, 682, 678, 664, 607, 378, 485, 915, 587, 298, 166, 664, 606, 374, 470, 854, 342, 344, 351, 379, 489, 929, 642, 520, 31, 123, 491, 937, 674, 648, 543, 123, 492, 942, 696, 734, 887, 475, 876, 430, 696, 735, 890, 488, 927, 633, 482, 903, 540, 110, 437, 723, 843, 299, 172, 686, 693, 723, 842, 296, 158, 630, 470, 854, 342, 343, 346, 359, 411, 617, 419, 650, 552, 159, 633, 482, 904, 544, 126, 501, 979, 842, 293, 147, 586, 294, 150, 597, 338, 325, 275, 74, 296, 159, 636, 495, 955, 747, 939, 682, 680, 672, 638, 501, 979, 842, 293, 147, 586, 294, 149, 594, 325, 274, 70, 277, 83, 330, 294, 150, 597, 339, 330, 294, 150, 597, 339, 330, 294, 150, 597, 339, 330, 296, 158, 632, 478, 887, 473, 868, 397, 562, 199, 796, 112, 448, 767, 1019, 1004, 942, 696, 736, 896, 510, 1013, 980, 847, 314, 232, 927, 633, 481, 897, 513, 1, 4, 13, 49, 193, 772, 13, 49, 196, 781, 49, 193, 771, 10, 38, 152, 607, 0, 0, 0, 0, 0, 0, 0, 0, 0, 0, 0, 0, 0, 0, 0, 0, 0, 0, 0, 0, 0, 0, 0, 0, 0, 0, 0, 0, 0, 0, 0, 0, 0, 0, 0, 0, 0, 0, 0, 0, 0, 0, 0, 0, 0, 0, 0, 0, 0, 0, 0, 0, 0, 0, 0, 0, 0, 0, 0, 0, 0, 0, 0, 0, 0, 0, 0, 0, 0, 0, 0, 0, 0, 0, 0, 0, 0, 0, 0, 0, 0, 0, 0, 0, 0, 0, 0, 0, 0, 0, 0, 0, 0, 0, 0, 0, 0, 0, 0, 0, 0, 0, 0, 0, 0, 0, 0, 0, 0, 0, 0, 0, 0, 0, 0, 0, 0, 0, 0, 0, 0, 0, 0, 0, 0, 0, 0, 0, 0, 0, 0, 0, 0, 0, 0, 0, 0, 0, 0, 0, 0, 0, 0, 0, 0, 0, 0, 0, 0, 0, 0, 0, 0, 0, 0, 0, 0, 0, 0, 0, 0, 0, 0, 0, 0, 0, 0, 0, 0, 0, 0, 0, 0, 0, 0, 0, 0, 0, 0, 0, 0, 0, 0, 0, 0, 0, 0, 0, 0, 0, 0, 0, 0, 0, 0, 0, 0, 0, 0, 0, 0, 0, 0, 0, 0, 0, 0, 0, 0, 0, 0, 0, 0, 0, 0, 0, 0, 0, 0, 0, 0, 0, 0, 0, 0, 0, 0, 0, 0, 0, 0, 0, 0, 0, 0, 0, 0, 0, 0, 0, 0, 0, 0, 0, 0, 0, 0, 0, 0, 0, 0, 0, 0, 0, 0, 0, 0, 0, 0, 0, 0, 0, 0, 0, 0, 0, 0, 0, 0, 0, 0, 0, 0, 0, 0, 0, 0, 0, 0, 0, 0, 0, 0, 0, 0, 0, 0, 0, 0, 0, 0, 0, 0, 0, 0, 0, 0, 0, 0, 0, 0, 0, 0, 0, 0, 0, 0, 0, 0, 0, 0, 0, 0, 0, 0, 0, 0, 0, 0, 0, 0, 0, 0, 0, 0, 0, 0, 0, 0, 0, 0, 0, 0, 0, 0, 0, 0, 0, 0, 0, 0, 0, 0, 0, 0, 0, 0, 0, 0, 0, 0, 0, 0, 0, 0, 0, 0, 0, 0, 0, 0, 0, 0, 0, 0, 0, 0, 0, 0, 0, 0, 0, 0, 0, 0, 0, 0, 0, 0, 0, 0, 0, 0, 0, 0, 0, 0, 0, 0, 0, 0, 0, 0, 0, 0, 0, 0, 0, 0, 0, 0, 0, 0, 0, 0, 0, 0, 0, 0, 0, 0, 0, 0, 0, 0, 0, 0, 0, 0, 0, 0, 0, 0, 0, 0, 0, 0, 0, 0, 0, 0, 0, 0, 0, 0, 0, 0, 0, 0, 0, 0, 0, 0, 0, 0, 0, 0, 0, 0, 0, 0, 0, 0, 0, 0, 0, 0, 0, 0, 0, 0, 0, 0, 0, 0, 0, 0, 0, 0, 0, 0, 0, 0, 0, 0, 0, 0, 0, 0, 0, 0, 0, 0, 0, 0, 0, 0, 0, 0, 0, 0, 0, 0, 0, 0, 0, 0, 0, 0, 0, 0, 0, 0, 0, 0, 0, 0, 0, 0, 0, 0, 0, 0, 0, 0, 0, 0, 0, 0, 0, 0, 0, 0, 0, 0, 0, 0, 0, 0, 0, 0, 0, 0, 0, 0, 0, 0, 0, 0, 0, 0, 0, 0, 0, 0, 0, 0, 0, 0, 0, 0, 0, 0, 0, 0, 0, 0, 0, 0, 0, 0, 0, 0, 0, 0, 0, 0, 0, 0, 0, 0, 0, 0, 0, 0, 0, 0, 0, 0, 0, 0, 0, 0, 0, 0, 0, 0, 0, 0, 0, 0, 0, 0, 0, 0, 0, 0, 0, 0, 0, 0, 0, 0, 0, 0, 0, 0, 0, 0, 0, 0, 0, 0, 0, 0, 0, 0, 0, 0, 0, 0, 0, 0, 0, 0, 0, 0, 0, 0, 0, 0, 0, 0, 0, 0, 0, 0, 0, 0, 0, 0, 0, 0, 0, 0, 0, 0, 0, 0, 0, 0, 0, 0, 0, 0, 0, 0, 0, 0, 0, 0, 0, 0, 0, 0, 0, 0, 0, 0, 0, 0, 0, 0, 0, 0, 0, 0, 0, 0, 0, 0, 0, 0, 0, 0, 0, 0, 0, 0, 0, 0, 0, 0, 0, 0, 0, 0, 0, 0, 0, 0, 0, 0, 0, 0, 0, 0, 0, 0, 0, 0, 0, 0, 0, 0, 0, 0, 0, 0, 0, 0, 0, 0, 0, 0, 0, 0, 0, 0, 0, 0, 0, 0, 0, 0, 0, 0, 0, 0, 0, 0, 0, 0, 0, 0, 0, 0, 0, 0, 0, 0, 0, 0, 0, 0, 0, 0, 0, 0, 0, 0, 0, 0, 0, 0, 0, 0, 0, 0, 0, 0, 0, 0, 0, 0, 0, 0, 0, 0, 0, 0, 0, 0, 0, 0, 0, 0, 0, 0, 0, 0, 0, 0, 0, 0, 0, 0, 0, 0, 0, 0, 0, 0, 0, 0, 0, 0, 0, 0, 0, 0, 0, 0, 0, 0, 0, 0, 0, 0, 0, 0, 0, 0, 0, 0, 0, 0, 0, 0, 0, 0, 0, 0, 0, 0, 0, 0, 0, 0, 0, 0, 0, 0, 0, 0, 0, 0, 0, 0, 0, 0, 0, 0, 0, 0, 0, 0, 0, 0, 0, 0, 0, 0, 0, 0, 0, 0, 0, 0, 0, 0, 0, 0, 0, 0, 0, 0, 0, 0, 0, 0, 0, 0, 0, 0, 0, 0, 0, 0, 0, 0, 0, 0, 0, 0, 0, 0, 0, 0, 0, 0, 0, 0, 0, 0, 0, 0, 0, 0, 0, 0, 0, 0, 0, 0, 0, 0, 0, 0, 0, 0, 0, 0, 0, 0, 0, 0, 0, 0, 0, 0, 0, 0, 0, 0, 0, 0, 0, 0, 0, 0, 0, 0, 0, 0, 0, 0, 0, 0, 0, 0, 0, 0, 0, 0, 0, 0, 0, 0, 0, 0, 0, 0, 0, 0, 0, 0, 0, 0, 0, 0, 0, 0, 0, 0, 0, 0, 0, 0, 0, 0, 0, 0, 0, 0, 0, 0, 0, 0, 0, 0, 0, 0, 0, 0, 0, 0, 0, 0, 0, 0, 0, 0, 0, 0, 0, 0, 0, 0, 0, 0, 0, 0, 0, 0, 0, 0, 0, 0, 0, 0, 0, 0, 0, 0, 0, 0, 0, 0, 0, 0, 0, 0, 0, 0, 0, 0, 0, 0, 0, 0, 0, 0, 0, 0, 0, 0, 0, 0, 0, 0, 0, 0, 0, 0, 0, 0, 0, 0, 0, 0, 0, 0, 0, 0, 0, 0, 0, 0, 0, 0, 0, 0, 0, 0, 0, 0, 0, 0, 0, 0, 0, 0, 0, 0, 0, 0, 0, 0, 0, 0, 0, 0, 0, 0, 0, 0, 0, 0, 0, 0, 0, 0, 0, 0, 0, 0, 0, 0, 0, 0, 0, 0, 0, 0, 0, 0, 0, 0, 0, 0, 0, 0, 0, 0, 0, 0, 0, 0, 0, 0, 0, 0, 0, 0, 0, 0, 0, 0, 0, 0, 0, 0, 0, 0, 0, 0, 0, 0, 0, 0, 0, 0, 0, 0, 0, 0, 0, 0, 0, 0, 0, 0, 0, 0, 0, 0, 0, 0, 0, 0, 0, 0, 0, 0, 0, 0, 0, 0, 0, 0, 0, 0, 0, 0, 0, 0, 0, 0, 0, 0, 0, 0, 0, 0, 0, 0, 0, 0, 0, 0, 0, 0, 0, 0, 0, 0, 0, 0, 0, 0, 0, 0, 0, 0, 0, 0, 0, 0, 0, 0, 0, 0, 0, 0, 0, 0, 0, 0, 0, 0, 0, 0, 0, 0, 0, 0, 0, 0, 0, 0, 0, 0, 0, 0, 0, 0, 0, 0, 0, 0, 0, 0, 0, 0, 0, 0, 0, 0, 0, 0, 0, 0, 0, 0, 0, 0, 0, 0, 0, 0, 0, 0, 0, 0, 0, 0, 0, 0, 0, 0, 0, 0, 0, 0, 0, 0, 0, 0, 0, 0, 0, 0, 0, 0, 0, 0, 0, 0, 0, 0, 0, 0, 0, 0, 0, 0, 0, 0, 0, 0, 0, 0, 0, 0, 0, 0, 0, 0, 0, 0, 0, 0, 0, 0, 0, 0, 0, 0, 0, 0, 0, 0, 0, 0, 0, 0, 0, 0, 0, 0, 0, 0, 0, 0, 0, 0, 0, 0, 0, 0, 0, 0, 0, 0, 0, 0, 0, 0, 0, 0, 0, 0, 0, 0, 0, 0, 0, 0, 0, 0, 0, 0, 0, 0, 0, 0, 0, 0, 0, 0, 0, 0, 0, 0, 0, 0, 0, 0, 0, 0, 0, 0, 0, 0, 0, 0, 0, 0, 0, 0, 0, 0, 0, 0, 0, 0, 0, 0, 0, 0, 0, 0, 0, 0, 0, 0, 0, 0, 0, 0, 0, 0, 0, 0, 0, 0, 0, 0, 0, 0, 0, 0, 0, 0, 0, 0, 0, 0, 0, 0, 0, 0]\n"
          ]
        }
      ],
      "source": [
        "print(datetime.now())\n",
        "print(\"Load RCI values...\")\n",
        "loader = DataLoader()\n",
        "filepath = DATA_DIR+RCI_FILE\n",
        "gene_to_rci = loader.load_gene_rci_values(filepath,EXCLUSIONS)\n",
        "print('Num RCI:', len(gene_to_rci.keys()))\n",
        "print('Example RCI:', list(gene_to_rci.items())[:3])\n",
        "print(\"Load genes...\")\n",
        "all_genes = list(gene_to_rci.keys())\n",
        "print(datetime.now())\n",
        "print('Load sequence...')\n",
        "filepath = DATA_DIR+SEQUENCE_FILE\n",
        "labels,allids,allseq = loader.load_sequence(filepath)\n",
        "print(datetime.now())\n",
        "print('Num IDs:',len(allids))\n",
        "print('Example IDs:',[allids[x] for x in [10, 20, 30, 40]] )\n",
        "print('Count',np.count_nonzero(labels),'ones out of',len(labels),'labels.')\n",
        "print('Num labels:',len(labels))\n",
        "print('Example labels:',[labels[x] for x in [10, 20, 30, 40]] )\n",
        "print('Num sequences:',len(allseq))\n",
        "print('Example sequence:',allseq[3])\n",
        "loader = None  # drop K-mer cache to save RAM"
      ]
    },
    {
      "cell_type": "markdown",
      "metadata": {
        "id": "VDZ6siB_Kq04"
      },
      "source": [
        "## Model"
      ]
    },
    {
      "cell_type": "code",
      "execution_count": 8,
      "metadata": {
        "id": "AwMbRjm0FLBF"
      },
      "outputs": [],
      "source": [
        "def build_model():\n",
        "    ALPHABET=4**K+1  # NUMBER OF DISTINCT KMERS POSSIBLE, add one if N gets mask value\n",
        "    ADJUST_LENGTH = MAXLEN-K+1  # fixed length sequences\n",
        "    cnn = Sequential()\n",
        "    embed_layer = Embedding(ALPHABET,EMBED_DIMEN,input_length=ADJUST_LENGTH,mask_zero=True)   \n",
        "    cnn1_layer = Conv1D(CFILTERS, FILTERSIZE)\n",
        "    cnn2_layer = Conv1D(CFILTERS, FILTERSIZE)\n",
        "    pool_layer = GlobalAveragePooling1D()\n",
        "    #pool_layer = GlobalMaxPooling1D()\n",
        "    flat_layer = Flatten()\n",
        "    den1_layer = Dense(DCELLS)\n",
        "    drop_layer = Dropout(0.5)\n",
        "    output_layer = Dense(1,activation='sigmoid',dtype=dt)\n",
        "\n",
        "    cnn.add(embed_layer)\n",
        "    cnn.add(cnn1_layer)\n",
        "    cnn.add(cnn2_layer)\n",
        "    cnn.add(pool_layer)\n",
        "    cnn.add(output_layer)\n",
        "\n",
        "    bc=BinaryCrossentropy(from_logits=False)\n",
        "    print(\"COMPILE\")\n",
        "    cnn.compile(loss=bc, optimizer=\"Adam\",metrics=[\"accuracy\"])\n",
        "    return cnn"
      ]
    },
    {
      "cell_type": "code",
      "execution_count": 9,
      "metadata": {
        "colab": {
          "base_uri": "https://localhost:8080/"
        },
        "id": "clj-wufgFLBF",
        "outputId": "f8035c42-1817-49f1-db4e-6dd46a3ada99"
      },
      "outputs": [
        {
          "output_type": "stream",
          "name": "stdout",
          "text": [
            "2023-01-26 13:45:06.720300\n",
            "COMPILE\n",
            "Model: \"sequential\"\n",
            "_________________________________________________________________\n",
            " Layer (type)                Output Shape              Param #   \n",
            "=================================================================\n",
            " embedding (Embedding)       (None, 3996, 4)           4100      \n",
            "                                                                 \n",
            " conv1d (Conv1D)             (None, 3989, 64)          2112      \n",
            "                                                                 \n",
            " conv1d_1 (Conv1D)           (None, 3982, 64)          32832     \n",
            "                                                                 \n",
            " global_average_pooling1d (G  (None, 64)               0         \n",
            " lobalAveragePooling1D)                                          \n",
            "                                                                 \n",
            " dense_1 (Dense)             (None, 1)                 65        \n",
            "                                                                 \n",
            "=================================================================\n",
            "Total params: 39,109\n",
            "Trainable params: 39,109\n",
            "Non-trainable params: 0\n",
            "_________________________________________________________________\n",
            "None\n"
          ]
        }
      ],
      "source": [
        "print(datetime.now())\n",
        "model=build_model()\n",
        "print(model.summary())  # Print this only once\n",
        "model=None"
      ]
    },
    {
      "cell_type": "markdown",
      "metadata": {
        "id": "MgrC1alOKq07"
      },
      "source": [
        "## Training"
      ]
    },
    {
      "cell_type": "code",
      "execution_count": 10,
      "metadata": {
        "id": "W9xiFzNbFLBE"
      },
      "outputs": [],
      "source": [
        "import gc\n",
        "class CrossValidator():\n",
        "    def __init__(self,epochs,folds,quick_test=False,threshold=0.5):\n",
        "        self.epochs = epochs\n",
        "        self.folds = folds\n",
        "        self.quick_test = quick_test\n",
        "        self.threshold = threshold\n",
        "    \n",
        "    def get_gene_subset(self,all_genes,sub_index):\n",
        "        sub_genes = set()\n",
        "        for index in sub_index:\n",
        "            one_gene = all_genes[index]\n",
        "            sub_genes.add(one_gene)\n",
        "        return sub_genes\n",
        "    \n",
        "    def get_X_y(self,gene_set,allids,allX,allY):\n",
        "        cnt = len(allids)\n",
        "        subsetX=[]\n",
        "        subsetY=[]\n",
        "        if cnt != len(allX) or cnt!= len(allY):\n",
        "            raise Exception('Lengths differ')\n",
        "        for i in range(cnt):\n",
        "            gene_id,tran_id = allids[i]\n",
        "            if gene_id in gene_set:\n",
        "                oneX = allX[i]\n",
        "                oneY = allY[i]\n",
        "                subsetX.append(oneX)\n",
        "                subsetY.append(oneY)\n",
        "        subsetX = np.array(subsetX)\n",
        "        subsetY = np.array(subsetY).reshape((-1,1))\n",
        "        return subsetX,subsetY\n",
        "    \n",
        "    def do_cross_validation(self):\n",
        "        cv_accuracy=[]\n",
        "        cv_precision=[]\n",
        "        cv_recall=[]\n",
        "        cv_f1=[]\n",
        "        cv_auc=[]\n",
        "        fold=0\n",
        "        print(datetime.now())\n",
        "        print('splitting')\n",
        "        # KFold shuffles once before making the partitions\n",
        "        splitter = KFold(n_splits=self.folds,shuffle=True,random_state=42)\n",
        "        splits = splitter.split(all_genes)\n",
        "        splitter = None\n",
        "        for train_index,valid_index in splits:\n",
        "            fold += 1\n",
        "            print('Fold',fold)\n",
        "            train_genes = self.get_gene_subset(all_genes,train_index)\n",
        "            X_train,y_train = self.get_X_y(train_genes,allids,allseq,labels)\n",
        "            valid_genes = self.get_gene_subset(all_genes,valid_index)\n",
        "            X_valid,y_valid = self.get_X_y(valid_genes,allids,allseq,labels)\n",
        "\n",
        "            print('Training example')\n",
        "            print(X_train[0])\n",
        "\n",
        "            print(\"BUILD MODEL\")\n",
        "            model=build_model()\n",
        "\n",
        "            print(\"FIT\")\n",
        "            print(datetime.now())\n",
        "            history=model.fit(X_train, y_train, # batch_size=10, default=32 works nicely\n",
        "              epochs=self.epochs, verbose=1,  # verbose=1 for ascii art, verbose=0 for none\n",
        "              validation_data=(X_valid,y_valid) )\n",
        "\n",
        "            print(datetime.now())\n",
        "\n",
        "            pd.DataFrame(history.history).plot(figsize=(8,5))\n",
        "            plt.grid(True)\n",
        "            plt.gca().set_ylim(0,1)\n",
        "            plt.show()\n",
        "\n",
        "            print('Train sizes',X_train.shape,y_train.shape)\n",
        "            print('Train set ones/size',\n",
        "                  np.count_nonzero(y_train),'/',len(y_train))\n",
        "\n",
        "            print(\"Compute valiation accuracy\")\n",
        "            print(datetime.now())\n",
        "            print('Valid sizes',X_valid.shape,y_valid.shape)\n",
        "            print('Valid set ones/size',\n",
        "                  np.count_nonzero(y_valid),'/',len(y_valid))\n",
        "            yhat_pred=model.predict(X_valid, verbose=0) \n",
        "            \n",
        "            print('Range of scores:',np.min(yhat_pred),'to',np.max(yhat_pred))\n",
        "            yhat_classes=np.where(yhat_pred > self.threshold, 1, 0)\n",
        "            print('Score threshold',self.threshold)\n",
        "            print('Prediction set ones/size',\n",
        "                  np.count_nonzero(yhat_classes),'/',len(yhat_classes))\n",
        "            # accuracy: (tp + tn) / (p + n)\n",
        "            accuracy = accuracy_score(y_valid, yhat_classes)*100.\n",
        "            # precision tp / (tp + fp)\n",
        "            precision = precision_score(y_valid, yhat_classes)*100.\n",
        "            # recall: tp / (tp + fn)\n",
        "            recall = recall_score(y_valid, yhat_classes)*100.\n",
        "            # f1: 2 tp / (2 tp + fp + fn)\n",
        "            f1 = f1_score(y_valid, yhat_classes)*100.\n",
        "            # PRC\n",
        "            prc_Y, prc_X, prc_bins = precision_recall_curve(y_valid, yhat_pred)\n",
        "            auprc = auc(prc_X,prc_Y)*100.\n",
        "            count_ones= len(y_valid[y_valid==1])\n",
        "            count_zeros= len(y_valid[y_valid==0])\n",
        "            guess = max(count_ones,count_zeros) / len(y_valid)\n",
        "            plt.plot(prc_X, prc_Y, marker='.')\n",
        "            plt.plot([0, 1], [guess,guess], linestyle='--')\n",
        "            plt.xlabel('Recall')\n",
        "            plt.ylabel('Precision')\n",
        "            plt.show()\n",
        "            \n",
        "            print('Accuracy: %.2f%% Precision: %.2f%% Recall: %.2f%%' % (accuracy,precision,recall)) \n",
        "            print('F1: %.2f%% AUPRC: %.2f%%' % (f1,auprc)) \n",
        "            print(datetime.now())\n",
        "            cv_accuracy.append(accuracy)\n",
        "            cv_precision.append(precision)\n",
        "            cv_recall.append(recall)\n",
        "            cv_f1.append(f1)\n",
        "            cv_auc.append(auprc)\n",
        "            \n",
        "            if self.quick_test:   \n",
        "                print('Break -- this was for code testing only')\n",
        "                break\n",
        "            model = None\n",
        "            history = None\n",
        "            prc_Y = None\n",
        "            prc_X = None\n",
        "            prc_bins = None\n",
        "            yhat_classes = None\n",
        "            X_train = None\n",
        "            y_train = None\n",
        "            train_genes = None\n",
        "            X_valid = None\n",
        "            y_valid = None\n",
        "            valid_genes = None\n",
        "            # There is a memory leak within the fit() command!\n",
        "            # Each successive call to fit() consumes more memory.\n",
        "            tf.keras.backend.clear_session()\n",
        "            gc.collect()\n",
        "            time.sleep(1)  # hope gc kicks in\n",
        "        print()\n",
        "        return cv_accuracy, cv_precision, cv_recall, cv_f1, cv_auc"
      ]
    },
    {
      "cell_type": "code",
      "execution_count": 11,
      "metadata": {
        "colab": {
          "base_uri": "https://localhost:8080/",
          "height": 1000
        },
        "id": "XC9m0W-pFLBH",
        "outputId": "04e52881-e00e-461f-df9d-76f27fc2497b",
        "scrolled": false
      },
      "outputs": [
        {
          "output_type": "stream",
          "name": "stdout",
          "text": [
            "2023-01-26 13:45:09.808770\n",
            "2023-01-26 13:45:09.808903\n",
            "splitting\n",
            "Fold 1\n",
            "Training example\n",
            "[667 618 423 ...   0   0   0]\n",
            "BUILD MODEL\n",
            "COMPILE\n",
            "FIT\n",
            "2023-01-26 13:45:21.242036\n",
            "Epoch 1/10\n",
            "1356/1356 [==============================] - 34s 19ms/step - loss: 0.6633 - accuracy: 0.5857 - val_loss: 0.6595 - val_accuracy: 0.5989\n",
            "Epoch 2/10\n",
            "1356/1356 [==============================] - 25s 18ms/step - loss: 0.6426 - accuracy: 0.6182 - val_loss: 0.6555 - val_accuracy: 0.6116\n",
            "Epoch 3/10\n",
            "1356/1356 [==============================] - 25s 18ms/step - loss: 0.6319 - accuracy: 0.6347 - val_loss: 0.6723 - val_accuracy: 0.5962\n",
            "Epoch 4/10\n",
            "1356/1356 [==============================] - 24s 18ms/step - loss: 0.6256 - accuracy: 0.6402 - val_loss: 0.6954 - val_accuracy: 0.5601\n",
            "Epoch 5/10\n",
            "1356/1356 [==============================] - 25s 18ms/step - loss: 0.6244 - accuracy: 0.6421 - val_loss: 0.6620 - val_accuracy: 0.5972\n",
            "Epoch 6/10\n",
            "1356/1356 [==============================] - 26s 19ms/step - loss: 0.6221 - accuracy: 0.6466 - val_loss: 0.6775 - val_accuracy: 0.5957\n",
            "Epoch 7/10\n",
            "1356/1356 [==============================] - 24s 18ms/step - loss: 0.6201 - accuracy: 0.6485 - val_loss: 0.6736 - val_accuracy: 0.5910\n",
            "Epoch 8/10\n",
            "1356/1356 [==============================] - 24s 18ms/step - loss: 0.6197 - accuracy: 0.6476 - val_loss: 0.6705 - val_accuracy: 0.5985\n",
            "Epoch 9/10\n",
            "1356/1356 [==============================] - 25s 18ms/step - loss: 0.6183 - accuracy: 0.6491 - val_loss: 0.6904 - val_accuracy: 0.5712\n",
            "Epoch 10/10\n",
            "1356/1356 [==============================] - 24s 18ms/step - loss: 0.6184 - accuracy: 0.6487 - val_loss: 0.6731 - val_accuracy: 0.5948\n",
            "2023-01-26 13:49:45.284518\n"
          ]
        },
        {
          "output_type": "display_data",
          "data": {
            "text/plain": [
              "<Figure size 576x360 with 1 Axes>"
            ],
            "image/png": "[encoded data removed]"
          },
          "metadata": {
            "needs_background": "light"
          }
        },
        {
          "output_type": "stream",
          "name": "stdout",
          "text": [
            "Train sizes (43381, 3996) (43381, 1)\n",
            "Train set ones/size 20635 / 43381\n",
            "Compute valiation accuracy\n",
            "2023-01-26 13:49:45.447949\n",
            "Valid sizes (11029, 3996) (11029, 1)\n",
            "Valid set ones/size 5409 / 11029\n",
            "Range of scores: 0.0083321845 to 0.9563244\n",
            "Score threshold 0.5\n",
            "Prediction set ones/size 4848 / 11029\n"
          ]
        },
        {
          "output_type": "display_data",
          "data": {
            "text/plain": [
              "<Figure size 432x288 with 1 Axes>"
            ],
            "image/png": "[encoded data removed]"
          },
          "metadata": {
            "needs_background": "light"
          }
        },
        {
          "output_type": "stream",
          "name": "stdout",
          "text": [
            "Accuracy: 59.48% Precision: 59.69% Recall: 53.50%\n",
            "F1: 56.43% AUPRC: 60.42%\n",
            "2023-01-26 13:49:47.842625\n",
            "Fold 2\n",
            "Training example\n",
            "[667 618 423 ...   0   0   0]\n",
            "BUILD MODEL\n",
            "COMPILE\n",
            "FIT\n",
            "2023-01-26 13:50:00.466176\n",
            "Epoch 1/10\n",
            "1358/1358 [==============================] - 26s 19ms/step - loss: 0.6636 - accuracy: 0.5836 - val_loss: 0.6588 - val_accuracy: 0.5996\n",
            "Epoch 2/10\n",
            "1358/1358 [==============================] - 25s 19ms/step - loss: 0.6413 - accuracy: 0.6204 - val_loss: 0.6608 - val_accuracy: 0.5951\n",
            "Epoch 3/10\n",
            "1358/1358 [==============================] - 25s 18ms/step - loss: 0.6311 - accuracy: 0.6314 - val_loss: 0.7053 - val_accuracy: 0.5759\n",
            "Epoch 4/10\n",
            "1358/1358 [==============================] - 24s 18ms/step - loss: 0.6263 - accuracy: 0.6378 - val_loss: 0.6693 - val_accuracy: 0.5925\n",
            "Epoch 5/10\n",
            "1358/1358 [==============================] - 25s 18ms/step - loss: 0.6214 - accuracy: 0.6461 - val_loss: 0.6746 - val_accuracy: 0.5783\n",
            "Epoch 6/10\n",
            "1358/1358 [==============================] - 24s 18ms/step - loss: 0.6204 - accuracy: 0.6472 - val_loss: 0.6688 - val_accuracy: 0.5935\n",
            "Epoch 7/10\n",
            "1358/1358 [==============================] - 25s 18ms/step - loss: 0.6189 - accuracy: 0.6479 - val_loss: 0.6847 - val_accuracy: 0.5830\n",
            "Epoch 8/10\n",
            "1358/1358 [==============================] - 24s 18ms/step - loss: 0.6187 - accuracy: 0.6493 - val_loss: 0.6711 - val_accuracy: 0.6025\n",
            "Epoch 9/10\n",
            "1358/1358 [==============================] - 25s 18ms/step - loss: 0.6173 - accuracy: 0.6500 - val_loss: 0.6740 - val_accuracy: 0.5987\n",
            "Epoch 10/10\n",
            "1358/1358 [==============================] - 25s 18ms/step - loss: 0.6180 - accuracy: 0.6502 - val_loss: 0.6725 - val_accuracy: 0.5980\n",
            "2023-01-26 13:54:24.295054\n"
          ]
        },
        {
          "output_type": "display_data",
          "data": {
            "text/plain": [
              "<Figure size 576x360 with 1 Axes>"
            ],
            "image/png": "[encoded data removed]"
          },
          "metadata": {
            "needs_background": "light"
          }
        },
        {
          "output_type": "stream",
          "name": "stdout",
          "text": [
            "Train sizes (43433, 3996) (43433, 1)\n",
            "Train set ones/size 20747 / 43433\n",
            "Compute valiation accuracy\n",
            "2023-01-26 13:54:24.428021\n",
            "Valid sizes (10977, 3996) (10977, 1)\n",
            "Valid set ones/size 5297 / 10977\n",
            "Range of scores: 0.011834721 to 0.9633442\n",
            "Score threshold 0.5\n",
            "Prediction set ones/size 6522 / 10977\n"
          ]
        },
        {
          "output_type": "display_data",
          "data": {
            "text/plain": [
              "<Figure size 432x288 with 1 Axes>"
            ],
            "image/png": "[encoded data removed]"
          },
          "metadata": {
            "needs_background": "light"
          }
        },
        {
          "output_type": "stream",
          "name": "stdout",
          "text": [
            "Accuracy: 59.80% Precision: 56.78% Recall: 69.91%\n",
            "F1: 62.66% AUPRC: 58.72%\n",
            "2023-01-26 13:54:26.724205\n",
            "Fold 3\n",
            "Training example\n",
            "[667 618 423 ...   0   0   0]\n",
            "BUILD MODEL\n",
            "COMPILE\n",
            "FIT\n",
            "2023-01-26 13:54:39.459976\n",
            "Epoch 1/10\n",
            "1354/1354 [==============================] - 25s 18ms/step - loss: 0.6637 - accuracy: 0.5862 - val_loss: 0.6585 - val_accuracy: 0.6007\n",
            "Epoch 2/10\n",
            "1354/1354 [==============================] - 24s 18ms/step - loss: 0.6416 - accuracy: 0.6225 - val_loss: 0.6651 - val_accuracy: 0.5837\n",
            "Epoch 3/10\n",
            "1354/1354 [==============================] - 24s 18ms/step - loss: 0.6281 - accuracy: 0.6377 - val_loss: 0.6744 - val_accuracy: 0.5736\n",
            "Epoch 4/10\n",
            "1354/1354 [==============================] - 24s 18ms/step - loss: 0.6255 - accuracy: 0.6386 - val_loss: 0.6726 - val_accuracy: 0.5810\n",
            "Epoch 5/10\n",
            "1354/1354 [==============================] - 24s 18ms/step - loss: 0.6200 - accuracy: 0.6466 - val_loss: 0.6879 - val_accuracy: 0.5719\n",
            "Epoch 6/10\n",
            "1354/1354 [==============================] - 24s 18ms/step - loss: 0.6178 - accuracy: 0.6497 - val_loss: 0.6829 - val_accuracy: 0.5765\n",
            "Epoch 7/10\n",
            "1354/1354 [==============================] - 24s 18ms/step - loss: 0.6163 - accuracy: 0.6506 - val_loss: 0.6915 - val_accuracy: 0.5819\n",
            "Epoch 8/10\n",
            "1354/1354 [==============================] - 25s 18ms/step - loss: 0.6155 - accuracy: 0.6530 - val_loss: 0.6932 - val_accuracy: 0.5719\n",
            "Epoch 9/10\n",
            "1354/1354 [==============================] - 25s 18ms/step - loss: 0.6136 - accuracy: 0.6558 - val_loss: 0.7108 - val_accuracy: 0.5655\n",
            "Epoch 10/10\n",
            "1354/1354 [==============================] - 24s 18ms/step - loss: 0.6134 - accuracy: 0.6553 - val_loss: 0.7056 - val_accuracy: 0.5628\n",
            "2023-01-26 13:59:02.510654\n"
          ]
        },
        {
          "output_type": "display_data",
          "data": {
            "text/plain": [
              "<Figure size 576x360 with 1 Axes>"
            ],
            "image/png": "[encoded data removed]"
          },
          "metadata": {
            "needs_background": "light"
          }
        },
        {
          "output_type": "stream",
          "name": "stdout",
          "text": [
            "Train sizes (43311, 3996) (43311, 1)\n",
            "Train set ones/size 20779 / 43311\n",
            "Compute valiation accuracy\n",
            "2023-01-26 13:59:02.645510\n",
            "Valid sizes (11099, 3996) (11099, 1)\n",
            "Valid set ones/size 5265 / 11099\n",
            "Range of scores: 0.009922075 to 0.98102653\n",
            "Score threshold 0.5\n",
            "Prediction set ones/size 7687 / 11099\n"
          ]
        },
        {
          "output_type": "display_data",
          "data": {
            "text/plain": [
              "<Figure size 432x288 with 1 Axes>"
            ],
            "image/png": "[encoded data removed]"
          },
          "metadata": {
            "needs_background": "light"
          }
        },
        {
          "output_type": "stream",
          "name": "stdout",
          "text": [
            "Accuracy: 56.28% Precision: 52.69% Recall: 76.92%\n",
            "F1: 62.54% AUPRC: 56.57%\n",
            "2023-01-26 13:59:05.763547\n",
            "Fold 4\n",
            "Training example\n",
            "[667 618 423 ...   0   0   0]\n",
            "BUILD MODEL\n",
            "COMPILE\n",
            "FIT\n",
            "2023-01-26 13:59:18.288193\n",
            "Epoch 1/10\n",
            "1366/1366 [==============================] - 25s 18ms/step - loss: 0.6616 - accuracy: 0.5902 - val_loss: 0.6614 - val_accuracy: 0.5857\n",
            "Epoch 2/10\n",
            "1366/1366 [==============================] - 25s 18ms/step - loss: 0.6415 - accuracy: 0.6231 - val_loss: 0.6567 - val_accuracy: 0.5987\n",
            "Epoch 3/10\n",
            "1366/1366 [==============================] - 24s 18ms/step - loss: 0.6319 - accuracy: 0.6326 - val_loss: 0.6619 - val_accuracy: 0.6012\n",
            "Epoch 4/10\n",
            "1366/1366 [==============================] - 25s 18ms/step - loss: 0.6272 - accuracy: 0.6414 - val_loss: 0.6729 - val_accuracy: 0.5857\n",
            "Epoch 5/10\n",
            "1366/1366 [==============================] - 25s 18ms/step - loss: 0.6232 - accuracy: 0.6455 - val_loss: 0.6707 - val_accuracy: 0.5902\n",
            "Epoch 6/10\n",
            "1366/1366 [==============================] - 25s 18ms/step - loss: 0.6207 - accuracy: 0.6499 - val_loss: 0.6687 - val_accuracy: 0.5973\n",
            "Epoch 7/10\n",
            "1366/1366 [==============================] - 25s 18ms/step - loss: 0.6199 - accuracy: 0.6501 - val_loss: 0.6774 - val_accuracy: 0.5969\n",
            "Epoch 8/10\n",
            "1366/1366 [==============================] - 25s 18ms/step - loss: 0.6191 - accuracy: 0.6488 - val_loss: 0.6676 - val_accuracy: 0.5883\n",
            "Epoch 9/10\n",
            "1366/1366 [==============================] - 25s 18ms/step - loss: 0.6192 - accuracy: 0.6498 - val_loss: 0.6690 - val_accuracy: 0.5867\n",
            "Epoch 10/10\n",
            "1366/1366 [==============================] - 25s 18ms/step - loss: 0.6182 - accuracy: 0.6515 - val_loss: 0.6752 - val_accuracy: 0.5930\n",
            "2023-01-26 14:03:42.140277\n"
          ]
        },
        {
          "output_type": "display_data",
          "data": {
            "text/plain": [
              "<Figure size 576x360 with 1 Axes>"
            ],
            "image/png": "[encoded data removed]"
          },
          "metadata": {
            "needs_background": "light"
          }
        },
        {
          "output_type": "stream",
          "name": "stdout",
          "text": [
            "Train sizes (43698, 3996) (43698, 1)\n",
            "Train set ones/size 21077 / 43698\n",
            "Compute valiation accuracy\n",
            "2023-01-26 14:03:42.268989\n",
            "Valid sizes (10712, 3996) (10712, 1)\n",
            "Valid set ones/size 4967 / 10712\n",
            "Range of scores: 0.008773794 to 0.99239326\n",
            "Score threshold 0.5\n",
            "Prediction set ones/size 5037 / 10712\n"
          ]
        },
        {
          "output_type": "display_data",
          "data": {
            "text/plain": [
              "<Figure size 432x288 with 1 Axes>"
            ],
            "image/png": "[encoded data removed]"
          },
          "metadata": {
            "needs_background": "light"
          }
        },
        {
          "output_type": "stream",
          "name": "stdout",
          "text": [
            "Accuracy: 59.30% Precision: 56.03% Recall: 56.81%\n",
            "F1: 56.42% AUPRC: 56.97%\n",
            "2023-01-26 14:03:45.328056\n",
            "Fold 5\n",
            "Training example\n",
            "[675 652 559 ...   0   0   0]\n",
            "BUILD MODEL\n",
            "COMPILE\n",
            "FIT\n",
            "2023-01-26 14:03:57.970994\n",
            "Epoch 1/10\n",
            "1370/1370 [==============================] - 26s 18ms/step - loss: 0.6634 - accuracy: 0.5853 - val_loss: 0.6708 - val_accuracy: 0.5759\n",
            "Epoch 2/10\n",
            "1370/1370 [==============================] - 25s 19ms/step - loss: 0.6398 - accuracy: 0.6230 - val_loss: 0.6637 - val_accuracy: 0.5886\n",
            "Epoch 3/10\n",
            "1370/1370 [==============================] - 25s 18ms/step - loss: 0.6302 - accuracy: 0.6362 - val_loss: 0.6880 - val_accuracy: 0.5817\n",
            "Epoch 4/10\n",
            "1370/1370 [==============================] - 24s 18ms/step - loss: 0.6244 - accuracy: 0.6435 - val_loss: 0.6706 - val_accuracy: 0.5866\n",
            "Epoch 5/10\n",
            "1370/1370 [==============================] - 25s 18ms/step - loss: 0.6223 - accuracy: 0.6442 - val_loss: 0.6700 - val_accuracy: 0.5876\n",
            "Epoch 6/10\n",
            "1370/1370 [==============================] - 25s 18ms/step - loss: 0.6202 - accuracy: 0.6463 - val_loss: 0.6761 - val_accuracy: 0.5866\n",
            "Epoch 7/10\n",
            "1370/1370 [==============================] - 24s 18ms/step - loss: 0.6190 - accuracy: 0.6477 - val_loss: 0.6933 - val_accuracy: 0.5776\n",
            "Epoch 8/10\n",
            "1370/1370 [==============================] - 25s 18ms/step - loss: 0.6182 - accuracy: 0.6494 - val_loss: 0.6875 - val_accuracy: 0.5852\n",
            "Epoch 9/10\n",
            "1370/1370 [==============================] - 25s 18ms/step - loss: 0.6171 - accuracy: 0.6494 - val_loss: 0.6883 - val_accuracy: 0.5837\n",
            "Epoch 10/10\n",
            "1370/1370 [==============================] - 24s 18ms/step - loss: 0.6159 - accuracy: 0.6512 - val_loss: 0.6812 - val_accuracy: 0.5809\n",
            "2023-01-26 14:08:07.411381\n"
          ]
        },
        {
          "output_type": "display_data",
          "data": {
            "text/plain": [
              "<Figure size 576x360 with 1 Axes>"
            ],
            "image/png": "[encoded data removed]"
          },
          "metadata": {
            "needs_background": "light"
          }
        },
        {
          "output_type": "stream",
          "name": "stdout",
          "text": [
            "Train sizes (43817, 3996) (43817, 1)\n",
            "Train set ones/size 20938 / 43817\n",
            "Compute valiation accuracy\n",
            "2023-01-26 14:08:07.541908\n",
            "Valid sizes (10593, 3996) (10593, 1)\n",
            "Valid set ones/size 5106 / 10593\n",
            "Range of scores: 0.004095452 to 0.9746164\n",
            "Score threshold 0.5\n",
            "Prediction set ones/size 5031 / 10593\n"
          ]
        },
        {
          "output_type": "display_data",
          "data": {
            "text/plain": [
              "<Figure size 432x288 with 1 Axes>"
            ],
            "image/png": "[encoded data removed]"
          },
          "metadata": {
            "needs_background": "light"
          }
        },
        {
          "output_type": "stream",
          "name": "stdout",
          "text": [
            "Accuracy: 58.09% Precision: 56.63% Recall: 55.80%\n",
            "F1: 56.21% AUPRC: 58.12%\n",
            "2023-01-26 14:08:10.458989\n",
            "\n",
            "Cross validation 5 folds 10 epochs\n",
            " accuracy mean 58.59% +/- 1.29\n",
            " precision mean 56.36% +/- 2.23\n",
            " recall mean 62.59% +/- 9.18\n",
            " F1 mean 58.85% +/- 3.06\n",
            " AUC mean 58.16% +/- 1.37\n",
            "2023-01-26 14:08:12.632359\n"
          ]
        }
      ],
      "source": [
        "print(datetime.now())\n",
        "cvdo = CrossValidator(EPOCHS,FOLDS,BREAK)\n",
        "cv_accuracy, cv_precision, cv_recall, cv_f1, cv_auc = cvdo.do_cross_validation()   \n",
        "cvdo = None\n",
        "print(\"Cross validation %d folds %d epochs\" % (FOLDS,EPOCHS)) \n",
        "print(\" accuracy mean %.2f%% +/- %.2f\" % (np.mean(cv_accuracy), np.std(cv_accuracy)))\n",
        "print(\" precision mean %.2f%% +/- %.2f\" % (np.mean(cv_precision), np.std(cv_precision)))\n",
        "print(\" recall mean %.2f%% +/- %.2f\" % (np.mean(cv_recall), np.std(cv_recall)))\n",
        "print(\" F1 mean %.2f%% +/- %.2f\" % (np.mean(cv_f1), np.std(cv_f1)))\n",
        "print(\" AUC mean %.2f%% +/- %.2f\" % (np.mean(cv_auc), np.std(cv_auc)))\n",
        "print(datetime.now())"
      ]
    },
    {
      "cell_type": "code",
      "execution_count": 11,
      "metadata": {
        "id": "HkCeDg_HdQ36"
      },
      "outputs": [],
      "source": []
    }
  ],
  "metadata": {
    "accelerator": "GPU",
    "colab": {
      "provenance": []
    },
    "gpuClass": "standard",
    "kernelspec": {
      "display_name": "Python 3 (ipykernel)",
      "language": "python",
      "name": "python3"
    },
    "language_info": {
      "codemirror_mode": {
        "name": "ipython",
        "version": 3
      },
      "file_extension": ".py",
      "mimetype": "text/x-python",
      "name": "python",
      "nbconvert_exporter": "python",
      "pygments_lexer": "ipython3",
      "version": "3.10.0"
    }
  },
  "nbformat": 4,
  "nbformat_minor": 0
}