{
 "cells": [
  {
   "cell_type": "markdown",
   "id": "4bbde4b0",
   "metadata": {},
   "source": [
    "# Distance\n",
    "Define distance (RNA1, RNA2, K) as:   \n",
    "Euclidean distance between K-mer count vectors of RNA1 and RNA2.\n",
    "\n",
    "In MLP 15, we examined the 2 mRNA sequences with minimal distance.\n",
    "These turned out to be from the same gene: \n",
    "a normal gene called CENPS, \n",
    "plus its overlapping \"readthrough\" called CENPS-CORT.\n",
    "(Why does Ensembl consider these different genes???)\n",
    "\n",
    "We may need to compute all-vs-all pairwise distances.\n",
    "That will require HPC.\n",
    "\n",
    "Much less expensive would be all-vs-mean distances.\n",
    "In this notebook, we try to find the mean K-mer vectors\n",
    "for nuclear vs cytoplasmic, \n",
    "within the training set mRNA, at K=4.\n",
    "\n",
    "We got more separation by restricting the counts to RNA length range 2K-4K.\n",
    "This is sensible when using raw counts (not percents).\n",
    "\n",
    "This notebook shows that the low-RCI K-mer counts are closer to the average low than to the average high. \n",
    "Similarly, the high-RCI K-mer counts are closer to the average high than to the average low.\n",
    "We haven't measured variance, but this suggests the two populations have separate distributions and individuals could be assigned to one by their K-mer counts. "
   ]
  },
  {
   "cell_type": "code",
   "execution_count": 1,
   "id": "cd42e135",
   "metadata": {},
   "outputs": [
    {
     "name": "stdout",
     "output_type": "stream",
     "text": [
      "2022-10-23 15:54:06.065302\n",
      "Python 3.10.0\n",
      "sklearn 1.1.2\n"
     ]
    }
   ],
   "source": [
    "from datetime import datetime\n",
    "print(datetime.now())\n",
    "from platform import python_version\n",
    "print('Python',python_version())\n",
    "import numpy as np\n",
    "import pandas as pd\n",
    "from matplotlib import pyplot as plt \n",
    "import sklearn   # pip install --upgrade scikit-learn\n",
    "print('sklearn',sklearn.__version__)"
   ]
  },
  {
   "cell_type": "code",
   "execution_count": 2,
   "id": "f24c1b99",
   "metadata": {},
   "outputs": [
    {
     "name": "stdout",
     "output_type": "stream",
     "text": [
      "Cell line for today: 0 = A549\n"
     ]
    }
   ],
   "source": [
    "from KmerCounter import KmerCounter\n",
    "K=4\n",
    "counter=KmerCounter(K)\n",
    "VOCABULARY_SIZE = counter.get_vocabulary_size() \n",
    "from cell_lines import Cell_Lines\n",
    "CELL_LINE_NUMBER = 0\n",
    "all_cell_lines = Cell_Lines.get_ordered_list()\n",
    "cell_line_name = all_cell_lines[CELL_LINE_NUMBER]\n",
    "print('Cell line for today:',CELL_LINE_NUMBER,'=',cell_line_name)"
   ]
  },
  {
   "cell_type": "code",
   "execution_count": 3,
   "id": "1d5eea09",
   "metadata": {},
   "outputs": [],
   "source": [
    "ATLAS_DIR = '/Users/jasonmiller/WVU/Localization/LncAtlas/'\n",
    "RCI_FILE = 'CNRCI_coding_train_genes.csv'\n",
    "GENCODE_DIR = '/Users/jasonmiller/WVU/Localization/GenCode/'\n",
    "COUNTS_FILE='CNRCI_coding_train_counts.K4.csv'"
   ]
  },
  {
   "cell_type": "code",
   "execution_count": 4,
   "id": "e1717708",
   "metadata": {},
   "outputs": [
    {
     "name": "stdout",
     "output_type": "stream",
     "text": [
      "Loaded RCI values for cell line 0\n",
      "Selected 10354 values out of 13930 genes.\n",
      "Loaded 67964 gid+tid combinations.\n",
      "Loaded 67964 rows of K-mer counts.\n"
     ]
    }
   ],
   "source": [
    "from TrainValidSplit2 import Splitter2\n",
    "splitter = Splitter2()\n",
    "ATLAS_PATH = ATLAS_DIR+RCI_FILE\n",
    "gene_rci = splitter.get_gene_universe(ATLAS_PATH,CELL_LINE_NUMBER)\n",
    "COUNTS_PATH = GENCODE_DIR+COUNTS_FILE\n",
    "gid_tid,ordered_counts = splitter.load_counts_universe(COUNTS_PATH)\n",
    "splitter = None"
   ]
  },
  {
   "cell_type": "code",
   "execution_count": 5,
   "id": "f7bbf9a2",
   "metadata": {},
   "outputs": [
    {
     "name": "stdout",
     "output_type": "stream",
     "text": [
      "<class 'dict'> <class 'list'> <class 'list'>\n"
     ]
    }
   ],
   "source": [
    "print(type(gene_rci),type(gid_tid),type(ordered_counts))"
   ]
  },
  {
   "cell_type": "code",
   "execution_count": 6,
   "id": "192b709c",
   "metadata": {},
   "outputs": [],
   "source": [
    "def split_genes(pairs,t1,t2):\n",
    "    low=[]\n",
    "    middle=[]\n",
    "    high=[]\n",
    "    for (gid,rci) in pairs.items():\n",
    "        if rci<t1:\n",
    "            low.append(gid)\n",
    "        elif rci<t2:\n",
    "            middle.append(gid)\n",
    "        else:\n",
    "            high.append(gid)\n",
    "    return low,middle,high\n",
    "def split_counts(ordered_counts,ordered_ids,select_genes):\n",
    "    select_counts=[]\n",
    "    for i in range(len(ordered_ids)):\n",
    "        (gid,tid) = ordered_ids[i]\n",
    "        if gid in select_genes:\n",
    "            select_counts.append(ordered_counts[i])\n",
    "    return select_counts"
   ]
  },
  {
   "cell_type": "code",
   "execution_count": 7,
   "id": "99fc964d",
   "metadata": {},
   "outputs": [
    {
     "name": "stdout",
     "output_type": "stream",
     "text": [
      "Genes/Transcripts Low   : 2085 10936\n",
      "Genes/Transcripts Middle: 6392 34599\n",
      "Genes/Transcripts High  : 1877 8816\n"
     ]
    }
   ],
   "source": [
    "low_genes,middle_genes,high_genes = split_genes(gene_rci,-1,1)\n",
    "low_counts    = split_counts(ordered_counts,gid_tid,low_genes)\n",
    "print('Genes/Transcripts Low   :',len(low_genes),len(low_counts))\n",
    "middle_counts = split_counts(ordered_counts,gid_tid,middle_genes)\n",
    "print('Genes/Transcripts Middle:',len(middle_genes),len(middle_counts))\n",
    "high_counts   = split_counts(ordered_counts,gid_tid,high_genes)\n",
    "print('Genes/Transcripts High  :',len(high_genes),len(high_counts))"
   ]
  },
  {
   "cell_type": "code",
   "execution_count": 8,
   "id": "339d52b1",
   "metadata": {},
   "outputs": [],
   "source": [
    "def length_filter(counts,minimum,maximum):\n",
    "    filtered = []\n",
    "    for count in counts:\n",
    "        tot = np.sum(count)\n",
    "        if tot>=minimum and tot<=maximum:\n",
    "            filtered.append(count)\n",
    "    return filtered"
   ]
  },
  {
   "cell_type": "code",
   "execution_count": 9,
   "id": "f8e443a5",
   "metadata": {},
   "outputs": [
    {
     "name": "stdout",
     "output_type": "stream",
     "text": [
      "Genes/Transcripts Low   : 2085 2517\n",
      "Genes/Transcripts Middle: 6392 5548\n",
      "Genes/Transcripts High  : 1877 392\n"
     ]
    }
   ],
   "source": [
    "low_counts    = length_filter(low_counts,2000,4000)\n",
    "print('Genes/Transcripts Low   :',len(low_genes),len(low_counts))\n",
    "middle_counts = length_filter(middle_counts,2000,4000)\n",
    "print('Genes/Transcripts Middle:',len(middle_genes),len(middle_counts))\n",
    "high_counts   = length_filter(high_counts,2000,4000)\n",
    "print('Genes/Transcripts High  :',len(high_genes),len(high_counts))"
   ]
  },
  {
   "cell_type": "code",
   "execution_count": 10,
   "id": "95c3dd18",
   "metadata": {},
   "outputs": [],
   "source": [
    "def compute_average_vector(counts):\n",
    "    means = np.mean(counts,axis=0)\n",
    "    return means\n",
    "low_avg = compute_average_vector(low_counts)\n",
    "middle_avg = compute_average_vector(middle_counts)\n",
    "high_avg = compute_average_vector(high_counts)"
   ]
  },
  {
   "cell_type": "code",
   "execution_count": 11,
   "id": "9b9432d9",
   "metadata": {},
   "outputs": [],
   "source": [
    "def distance(a,b):\n",
    "    ss = 0\n",
    "    dim = len(a)\n",
    "    for i in range(dim):\n",
    "        ai = a[i]\n",
    "        bi = b[i]\n",
    "        df = ai-bi\n",
    "        sq = df**2\n",
    "        ss += sq\n",
    "    return np.sqrt(ss)"
   ]
  },
  {
   "cell_type": "code",
   "execution_count": 13,
   "id": "ccf08b77",
   "metadata": {},
   "outputs": [
    {
     "name": "stdout",
     "output_type": "stream",
     "text": [
      "dist(low,middle) = 70.54739087237033\n",
      "dist(middle,high)= 37.45022931134671\n",
      "dist(low,high)   = 106.52814939423472\n"
     ]
    }
   ],
   "source": [
    "print('dist(low,middle) =',distance(low_avg,middle_avg))\n",
    "print('dist(middle,high)=',distance(middle_avg,high_avg))\n",
    "print('dist(low,high)   =',distance(low_avg,high_avg))"
   ]
  },
  {
   "cell_type": "code",
   "execution_count": 14,
   "id": "5ec2d7ca",
   "metadata": {},
   "outputs": [],
   "source": [
    "def average_distance(data,center):\n",
    "    tot = 0\n",
    "    for counts in data:\n",
    "        dist = distance(counts,center)\n",
    "        tot += dist\n",
    "    avg = tot / len(data)\n",
    "    return avg"
   ]
  },
  {
   "cell_type": "code",
   "execution_count": 15,
   "id": "d4688cc7",
   "metadata": {},
   "outputs": [
    {
     "name": "stdout",
     "output_type": "stream",
     "text": [
      "avg(low - avg(low))   95.94030416773376\n",
      "avg(high - avg(high)) 78.62989749143739\n"
     ]
    }
   ],
   "source": [
    "low_avg_dist = average_distance(low_counts,low_avg)\n",
    "print('avg(low - avg(low))  ',low_avg_dist)\n",
    "high_avg_dist = average_distance(high_counts,high_avg)\n",
    "print('avg(high - avg(high))',high_avg_dist)"
   ]
  },
  {
   "cell_type": "code",
   "execution_count": 16,
   "id": "171b6539",
   "metadata": {},
   "outputs": [
    {
     "name": "stdout",
     "output_type": "stream",
     "text": [
      "avg(low - avg(high)) 139.8907798504645\n",
      "avg(high - avg(low)) 132.26876624371477\n"
     ]
    }
   ],
   "source": [
    "low_high_avg_dist = average_distance(low_counts,high_avg)\n",
    "print('avg(low - avg(high))',low_high_avg_dist)\n",
    "high_low_avg_dist = average_distance(high_counts,low_avg)\n",
    "print('avg(high - avg(low))',high_low_avg_dist)"
   ]
  },
  {
   "cell_type": "markdown",
   "id": "a0b9355e",
   "metadata": {},
   "source": [
    "Ideas:\n",
    "\n",
    "Narrow the RNA set to just extremes, Gudenas-style.\n",
    "\n",
    "The following vectors have 256 counts.\n",
    "\n",
    "Compute the mean vector for high and for low RCI.\n",
    "\n",
    "Compute vector of presence/absence i.e. sequences with this K-mer.\n",
    "\n",
    "Compute mean & stdev distance to the mean vector.\n",
    "\n",
    "Are nuclear RNA more like the nuclear mean vector?\n"
   ]
  },
  {
   "cell_type": "code",
   "execution_count": null,
   "id": "d55dcb09",
   "metadata": {},
   "outputs": [],
   "source": []
  },
  {
   "cell_type": "code",
   "execution_count": null,
   "id": "90e4c9f2",
   "metadata": {},
   "outputs": [],
   "source": []
  }
 ],
 "metadata": {
  "kernelspec": {
   "display_name": "Python 3 (ipykernel)",
   "language": "python",
   "name": "python3"
  },
  "language_info": {
   "codemirror_mode": {
    "name": "ipython",
    "version": 3
   },
   "file_extension": ".py",
   "mimetype": "text/x-python",
   "name": "python",
   "nbconvert_exporter": "python",
   "pygments_lexer": "ipython3",
   "version": "3.10.0"
  }
 },
 "nbformat": 4,
 "nbformat_minor": 5
}
