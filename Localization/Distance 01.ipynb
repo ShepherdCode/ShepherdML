{
 "cells": [
  {
   "cell_type": "markdown",
   "id": "1b455f5b",
   "metadata": {},
   "source": [
    "# Distance\n",
    "Define distance (RNA1, RNA2, K) as:   \n",
    "Euclidean distance between K-mer count vectors of RNA1 and RNA2.\n",
    "\n",
    "In MLP 15, we examined the 2 mRNA sequences with minimal distance.\n",
    "These turned out to be from the same gene: \n",
    "a normal gene called CENPS, \n",
    "plus its overlapping \"readthrough\" called CENPS-CORT.\n",
    "(Why does Ensembl consider these different genes???)\n",
    "\n",
    "We may need to compute all-vs-all pairwise distances.\n",
    "That will require HPC.\n",
    "\n",
    "Much less expensive would be all-vs-mean distances.\n",
    "In this notebook, we try to find the mean K-mer vectors\n",
    "for nuclear vs cytoplasmic, \n",
    "within the training set mRNA, at K=4."
   ]
  },
  {
   "cell_type": "code",
   "execution_count": 1,
   "id": "bab31b7e",
   "metadata": {},
   "outputs": [
    {
     "name": "stdout",
     "output_type": "stream",
     "text": [
      "2022-10-23 13:48:31.286768\n",
      "Python 3.10.0\n",
      "sklearn 1.1.2\n"
     ]
    }
   ],
   "source": [
    "from datetime import datetime\n",
    "print(datetime.now())\n",
    "from platform import python_version\n",
    "print('Python',python_version())\n",
    "import numpy as np\n",
    "import pandas as pd\n",
    "from matplotlib import pyplot as plt \n",
    "import sklearn   # pip install --upgrade scikit-learn\n",
    "print('sklearn',sklearn.__version__)"
   ]
  },
  {
   "cell_type": "code",
   "execution_count": 2,
   "id": "1b1f9b98",
   "metadata": {},
   "outputs": [
    {
     "name": "stdout",
     "output_type": "stream",
     "text": [
      "Cell line for today: 0 = A549\n"
     ]
    }
   ],
   "source": [
    "from KmerCounter import KmerCounter\n",
    "K=4\n",
    "counter=KmerCounter(K)\n",
    "VOCABULARY_SIZE = counter.get_vocabulary_size() \n",
    "from cell_lines import Cell_Lines\n",
    "CELL_LINE_NUMBER = 0\n",
    "all_cell_lines = Cell_Lines.get_ordered_list()\n",
    "cell_line_name = all_cell_lines[CELL_LINE_NUMBER]\n",
    "print('Cell line for today:',CELL_LINE_NUMBER,'=',cell_line_name)"
   ]
  },
  {
   "cell_type": "code",
   "execution_count": 3,
   "id": "d86c5284",
   "metadata": {},
   "outputs": [],
   "source": [
    "ATLAS_DIR = '/Users/jasonmiller/WVU/Localization/LncAtlas/'\n",
    "RCI_FILE = 'CNRCI_coding_train_genes.csv'\n",
    "GENCODE_DIR = '/Users/jasonmiller/WVU/Localization/GenCode/'\n",
    "COUNTS_FILE='CNRCI_coding_train_counts.K4.csv'"
   ]
  },
  {
   "cell_type": "code",
   "execution_count": 4,
   "id": "590e66f3",
   "metadata": {},
   "outputs": [
    {
     "name": "stdout",
     "output_type": "stream",
     "text": [
      "Loaded RCI values for cell line 0\n",
      "Selected 10354 values out of 13930 genes.\n",
      "Loaded 67964 gid+tid combinations.\n",
      "Loaded 67964 rows of K-mer counts.\n"
     ]
    }
   ],
   "source": [
    "from TrainValidSplit2 import Splitter2\n",
    "splitter = Splitter2()\n",
    "ATLAS_PATH = ATLAS_DIR+RCI_FILE\n",
    "gene_rci = splitter.get_gene_universe(ATLAS_PATH,CELL_LINE_NUMBER)\n",
    "COUNTS_PATH = GENCODE_DIR+COUNTS_FILE\n",
    "gid_tid,ordered_counts = splitter.load_counts_universe(COUNTS_PATH)\n",
    "print\n",
    "splitter = None"
   ]
  },
  {
   "cell_type": "markdown",
   "id": "d4fc7b75",
   "metadata": {},
   "source": [
    "Ideas:\n",
    "\n",
    "Narrow the RNA set to just extremes, Gudenas-style.\n",
    "\n",
    "The following vectors have 256 counts.\n",
    "\n",
    "Compute the mean vector for high and for low RCI.\n",
    "\n",
    "Compute vector of presence/absence i.e. sequences with this K-mer.\n",
    "\n",
    "Compute mean & stdev distance to the mean vector.\n",
    "\n",
    "Are nuclear RNA more like the nuclear mean vector?\n"
   ]
  },
  {
   "cell_type": "code",
   "execution_count": null,
   "id": "612fef6e",
   "metadata": {},
   "outputs": [],
   "source": []
  },
  {
   "cell_type": "code",
   "execution_count": null,
   "id": "c8be34a8",
   "metadata": {},
   "outputs": [],
   "source": []
  }
 ],
 "metadata": {
  "kernelspec": {
   "display_name": "Python 3 (ipykernel)",
   "language": "python",
   "name": "python3"
  },
  "language_info": {
   "codemirror_mode": {
    "name": "ipython",
    "version": 3
   },
   "file_extension": ".py",
   "mimetype": "text/x-python",
   "name": "python",
   "nbconvert_exporter": "python",
   "pygments_lexer": "ipython3",
   "version": "3.10.0"
  }
 },
 "nbformat": 4,
 "nbformat_minor": 5
}
