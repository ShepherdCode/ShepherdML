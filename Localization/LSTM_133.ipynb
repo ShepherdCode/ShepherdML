{
 "cells": [
  {
   "cell_type": "markdown",
   "metadata": {
    "id": "PG-tGRnlFLA3"
   },
   "source": [
    "# LSTM\n",
    "Cell Line A549. LSTM 133. Coding 3-4K. \n",
    "\n",
    "Acc 74%, Prec 72%, Recall 66%, F1 69%."
   ]
  },
  {
   "cell_type": "code",
   "execution_count": 1,
   "metadata": {
    "colab": {
     "base_uri": "https://localhost:8080/"
    },
    "id": "0RmwUsVLFLA6",
    "outputId": "b24b5e15-0a54-49ab-a7f0-a41a1c734553"
   },
   "outputs": [
    {
     "name": "stdout",
     "output_type": "stream",
     "text": [
      "2023-01-17 16:43:39.649796\n",
      "Python 3.8.16\n",
      "sklearn 1.0.2\n"
     ]
    }
   ],
   "source": [
    "from datetime import datetime\n",
    "print(datetime.now())\n",
    "from platform import python_version\n",
    "print('Python',python_version())\n",
    "import numpy as np\n",
    "import pandas as pd\n",
    "from matplotlib import pyplot as plt \n",
    "import sklearn   # pip install --upgrade scikit-learn\n",
    "print('sklearn',sklearn.__version__)"
   ]
  },
  {
   "cell_type": "markdown",
   "metadata": {
    "id": "tUtGXPrcFLA8"
   },
   "source": [
    "We prevously used sklearn.model_selection.ShuffleSplit   \n",
    "Now we avoid it due to this note in the \n",
    "[documentation](https://scikit-learn.org/stable/modules/generated/sklearn.model_selection.ShuffleSplit.html):\n",
    "Note: contrary to other cross-validation strategies, random splits do not guarantee that all folds will be different, although this is still very likely for sizeable datasets."
   ]
  },
  {
   "cell_type": "code",
   "execution_count": 2,
   "metadata": {
    "id": "PRX-UEr8FLA8"
   },
   "outputs": [],
   "source": [
    "import tensorflow as tf\n",
    "dt='float32'\n",
    "tf.keras.backend.set_floatx('float32')\n",
    "tf.random.set_seed(42) \n",
    "\n",
    "from tensorflow import keras\n",
    "from sklearn.model_selection import KFold\n",
    "from sklearn.metrics import accuracy_score\n",
    "from sklearn.metrics import precision_score\n",
    "from sklearn.metrics import recall_score\n",
    "from sklearn.metrics import f1_score\n",
    "\n",
    "from keras.models import Sequential\n",
    "from keras.layers import Masking\n",
    "from keras.layers import Embedding\n",
    "from keras.layers import Bidirectional\n",
    "from keras.layers import LSTM\n",
    "from keras.layers import TimeDistributed\n",
    "from keras.layers import Flatten\n",
    "from keras.layers import Dense\n",
    "from keras.layers import Dropout\n",
    "from keras.losses import BinaryCrossentropy\n",
    "\n",
    "K=4\n",
    "RCI_THRESHOLD=0.0\n",
    "RCELLS=32\n",
    "DCELLS=16\n",
    "EPOCHS=3\n",
    "FOLDS=5      \n",
    "EMBED_DIMEN = 4 # arbitrary hyperparameter\n",
    "BREAK = False   # break after first fold\n",
    "MINLEN=3000\n",
    "MAXLEN=4000   "
   ]
  },
  {
   "cell_type": "code",
   "execution_count": 3,
   "metadata": {
    "colab": {
     "base_uri": "https://localhost:8080/"
    },
    "id": "OlzN9OdsFWEU",
    "outputId": "45eb377f-4cbf-4763-bed4-03122cfab9e3"
   },
   "outputs": [
    {
     "name": "stdout",
     "output_type": "stream",
     "text": [
      "Running on CoLab\n",
      "Mounted at /content/drive/\n",
      "/content/drive/My Drive/data/Localization/TrainTest/\n"
     ]
    }
   ],
   "source": [
    "try:\n",
    "    from google.colab import drive\n",
    "    IN_COLAB = True\n",
    "    print('Running on CoLab')\n",
    "    PATH='/content/drive/'\n",
    "    drive.mount(PATH)\n",
    "    DATA_DIR=PATH+'My Drive/data/Localization/TrainTest/'  # must end in \"/\"\n",
    "except:\n",
    "    IN_COLAB = False\n",
    "    DATA_DIR = 'D:/Adjeroh/Localization/TrainTest/'   # Windows\n",
    "    DATA_DIR = '/Users/jasonmiller/WVU/Localization/TrainTest/'    # Mac\n",
    "print(DATA_DIR)"
   ]
  },
  {
   "cell_type": "code",
   "execution_count": 4,
   "metadata": {
    "id": "LnkpVKdMFLA-"
   },
   "outputs": [],
   "source": [
    "GENES_FILE =    'CNRCI_coding_train_genes.csv'\n",
    "RCI_FILE =      'CNRCI_coding_train_RCI.gc42.csv'\n",
    "SEQUENCE_FILE = 'CNRCI_coding_train_transcripts.gc42.csv'\n",
    "COUNTS_FILE=    'CNRCI_coding_train_counts.K4.gc42.csv'"
   ]
  },
  {
   "cell_type": "code",
   "execution_count": 5,
   "metadata": {
    "colab": {
     "base_uri": "https://localhost:8080/"
    },
    "id": "e3p4QzQJFLA_",
    "outputId": "fa40772a-1362-4cf6-be76-55db9f196c53"
   },
   "outputs": [
    {
     "name": "stdout",
     "output_type": "stream",
     "text": [
      "Use only this cell line A549\n"
     ]
    }
   ],
   "source": [
    "def get_ordered_list():\n",
    "    ordered_list = \\\n",
    "    ['A549',\\\n",
    "      'H1.hESC',\\\n",
    "      'HeLa.S3',\\\n",
    "      'HepG2',\\\n",
    "      'HT1080',\\\n",
    "      'HUVEC',\\\n",
    "      'MCF.7',\\\n",
    "      'NCI.H460',\\\n",
    "      'NHEK',\\\n",
    "      'SK.MEL.5',\\\n",
    "      'SK.N.DZ',\\\n",
    "      'SK.N.SH',\\\n",
    "      'GM12878',\\\n",
    "      'K562',\\\n",
    "      'IMR.90']\n",
    "    return ordered_list\n",
    "all_cell_lines = get_ordered_list()\n",
    "CELL_LINE = 0\n",
    "print('Use only this cell line',all_cell_lines[CELL_LINE])"
   ]
  },
  {
   "cell_type": "markdown",
   "metadata": {
    "id": "UtqdpJOxFLBA"
   },
   "source": [
    "## Data Load"
   ]
  },
  {
   "cell_type": "code",
   "execution_count": 6,
   "metadata": {
    "colab": {
     "base_uri": "https://localhost:8080/"
    },
    "id": "p35ehKV3Kq0z",
    "outputId": "fed7bbbb-d8de-46bf-f026-c9b827348d72"
   },
   "outputs": [
    {
     "name": "stdout",
     "output_type": "stream",
     "text": [
      "[1, 1]\n",
      "[20, 16]\n",
      "[63, 57]\n",
      "[64, 0]\n",
      "0\n",
      "1\n"
     ]
    }
   ],
   "source": [
    "class DataLoader():\n",
    "    def __init__(self):\n",
    "        self.cache=dict() \n",
    "        self.vals = {'A':0, 'C':1, 'G':2, 'T':3}\n",
    "        \n",
    "    def load_gene_rci_values(self,filepath,cell_line):\n",
    "        '''\n",
    "        Load from RCI csv file.\n",
    "        Return dict with keys=gene:str and values=RCI:float.\n",
    "        '''\n",
    "        gene_to_rci = {}\n",
    "        overall_sum = 0\n",
    "        overall_count = 0\n",
    "        with open (filepath,'r') as handle:\n",
    "            header = None\n",
    "            for row in handle:\n",
    "                if header is None:\n",
    "                    header = row # skip file's header line\n",
    "                else:\n",
    "                    line = row.strip()\n",
    "                    fields = line.split(',')\n",
    "                    gene_id = fields.pop(0)\n",
    "                    rci_str = fields[cell_line+1]\n",
    "                    if rci_str != \"nan\":\n",
    "                        # Convert string nan to float(nan)\n",
    "                        rci_val = float(rci_str)\n",
    "                        gene_to_rci[gene_id] = rci_val\n",
    "                        overall_sum += rci_val\n",
    "                        overall_count += 1\n",
    "        overall_mean = overall_sum / overall_count\n",
    "        print('Number of RCI values',overall_count)\n",
    "        print('Mean RCI value',overall_mean)\n",
    "        return gene_to_rci\n",
    "    \n",
    "    def seq_to_kmer_values(self,rna,K):\n",
    "        # The cache may represent more than one K. Probably not a problem.\n",
    "        N_indicator = 0 # indicator value\n",
    "        vec=[] # seq converted to list of K-mers \n",
    "        length = len(rna)\n",
    "        for i in range(length-K+1):\n",
    "            kmer = rna[i:i+K]\n",
    "            if 'N' in kmer:\n",
    "                value = N_indicator\n",
    "            elif kmer in self.cache.keys():\n",
    "                value = self.cache[kmer]\n",
    "            else:\n",
    "                value = 0\n",
    "                for j in range(K):\n",
    "                    value *= 4   \n",
    "                    nextnuc = kmer[j] \n",
    "                    nucval = self.vals[nextnuc]\n",
    "                    value += nucval\n",
    "                value += 1   # NNN => 0, AAA => 1\n",
    "                self.cache[kmer] = value\n",
    "            vec.append(value)\n",
    "        return vec\n",
    "\n",
    "    def rci_to_label(self,rci):\n",
    "        CYTO_LABEL = 1\n",
    "        NUCLEAR_LABEL = 0\n",
    "        # cnrci = log (cyto-to-nuclear ratio)\n",
    "        # rci > 0 implies cytoplasmic\n",
    "        if rci > RCI_THRESHOLD:\n",
    "            return CYTO_LABEL\n",
    "        return NUCLEAR_LABEL\n",
    "\n",
    "    def load_sequence(self,filepath):\n",
    "        labels=[]\n",
    "        allids=[]\n",
    "        allseq=[]\n",
    "        NREPEAT = str('N'*MAXLEN)\n",
    "        with open (filepath,'r') as handle:\n",
    "            header = None\n",
    "            for row in handle:\n",
    "                if header is None:\n",
    "                    header = row\n",
    "                else:\n",
    "                    line    = row.strip()\n",
    "                    fields  = line.split(',')\n",
    "                    tran_id = fields[0]  # with version number\n",
    "                    gene_id = fields[1]        # without version number\n",
    "                    seq_len = int(fields[3])\n",
    "                    seq_txt = fields[4]\n",
    "                    if seq_len>=MINLEN and seq_len<=MAXLEN and gene_id in gene_to_rci.keys():\n",
    "                        allids.append( (gene_id,tran_id) )\n",
    "                        rci_val = gene_to_rci[gene_id]\n",
    "                        rci_label = self.rci_to_label(rci_val)\n",
    "                        labels.append(rci_label)\n",
    "                        if seq_len<MAXLEN:\n",
    "                            seq_txt = seq_txt + NREPEAT\n",
    "                            seq_txt = seq_txt[:MAXLEN]\n",
    "                        hot_vec = self.seq_to_kmer_values(seq_txt,K)\n",
    "                        allseq.append(hot_vec)\n",
    "        return labels,allids,allseq\n",
    "    \n",
    "loader = DataLoader()\n",
    "# test it\n",
    "print(loader.seq_to_kmer_values('AAAA',3))\n",
    "print(loader.seq_to_kmer_values('CATT',3))\n",
    "print(loader.seq_to_kmer_values('TTGA',3))\n",
    "print(loader.seq_to_kmer_values('TTTN',3))\n",
    "# test it\n",
    "print(loader.rci_to_label(-0.9))\n",
    "print(loader.rci_to_label(1.1))"
   ]
  },
  {
   "cell_type": "code",
   "execution_count": 7,
   "metadata": {
    "colab": {
     "base_uri": "https://localhost:8080/"
    },
    "id": "cYoYDc93FLBB",
    "outputId": "6765bf4e-8399-4595-a412-d230032a64b7"
   },
   "outputs": [
    {
     "name": "stdout",
     "output_type": "stream",
     "text": [
      "2023-01-17 16:44:06.056266\n",
      "Load RCI values...\n",
      "Number of RCI values 13000\n",
      "Mean RCI value -0.036765961332307674\n",
      "Num RCI: 13000\n",
      "Example RCI: [('ENSG00000000003', 1.85734), ('ENSG00000000005', 5.88264), ('ENSG00000000419', 2.58954)]\n",
      "Load genes...\n",
      "2023-01-17 16:44:06.853997\n",
      "Load sequence...\n",
      "2023-01-17 16:44:18.848377\n",
      "Num IDs: 6935\n",
      "Example IDs: [('ENSG00000197530', 'ENST00000505820.7'), ('ENSG00000149527', 'ENST00000278878.6'), ('ENSG00000171680', 'ENST00000535355.6'), ('ENSG00000171680', 'ENST00000537245.6')]\n",
      "Count 2965 ones out of 6935 labels.\n",
      "Num labels: 6935\n",
      "Example labels: [0, 0, 0, 0]\n",
      "Num sequences: 6935\n",
      "Example sequence: [205, 49, 193, 4, 15, 58, 232, 160, 126, 248, 222, 117, 212, 78, 53, 211, 73, 34, 136, 30, 117, 209, 67, 11, 42, 166, 152, 95, 121, 227, 139, 44, 175, 185, 228, 143, 58, 232, 159, 121, 228, 143, 58, 232, 159, 124, 239, 186, 230, 152, 95, 121, 225, 132, 16, 62, 246, 213, 83, 74, 37, 147, 75, 43, 169, 163, 139, 41, 163, 139, 42, 165, 148, 79, 57, 227, 139, 44, 175, 186, 231, 156, 110, 182, 215, 89, 98, 136, 30, 118, 214, 88, 96, 126, 246, 214, 85, 84, 78, 53, 210, 69, 19, 74, 40, 159, 121, 227, 138, 40, 157, 115, 204, 48, 192, 256, 256, 254, 245, 211, 75, 44, 176, 189, 241, 194, 8, 32, 128, 255, 251, 233, 161, 132, 15, 58, 230, 150, 85, 84, 79, 59, 234, 168, 157, 113, 195, 9, 34, 134, 21, 83, 75, 43, 171, 172, 174, 182, 213, 84, 78, 54, 213, 83, 73, 34, 133, 19, 76, 48, 190, 245, 211, 75, 43, 170, 168, 160, 125, 244, 205, 49, 196, 16, 64, 256, 253, 244, 208, 64, 256, 256, 255, 251, 236, 176, 192, 253, 244, 207, 57, 227, 139, 43, 169, 161, 130, 6, 24, 93, 115, 201, 33, 131, 11, 42, 165, 147, 74, 38, 150, 85, 82, 69, 18, 71, 26, 101, 146, 70, 24, 96, 125, 242, 200, 30, 118, 216, 94, 118, 214, 85, 83, 74, 37, 147, 75, 43, 171, 169, 162, 133, 18, 70, 23, 91, 106, 166, 149, 83, 73, 34, 134, 22, 86, 85, 81, 67, 10, 40, 158, 118, 213, 82, 69, 18, 72, 30, 118, 214, 85, 82, 70, 22, 88, 94, 117, 211, 74, 37, 146, 70, 22, 85, 82, 70, 22, 85, 83, 75, 42, 166, 149, 83, 74, 37, 147, 74, 38, 151, 91, 107, 171, 171, 170, 165, 146, 70, 24, 96, 127, 251, 236, 175, 186, 230, 149, 82, 70, 24, 96, 125, 243, 204, 47, 186, 230, 152, 95, 124, 240, 190, 248, 223, 122, 231, 155, 105, 163, 139, 42, 168, 158, 118, 213, 82, 72, 31, 123, 233, 162, 133, 19, 76, 47, 186, 229, 147, 76, 48, 191, 249, 228, 143, 58, 230, 150, 87, 91, 107, 171, 170, 166, 151, 89, 99, 139, 43, 171, 171, 170, 168, 158, 120, 223, 122, 230, 152, 95, 123, 235, 169, 163, 139, 42, 168, 159, 124, 240, 190, 245, 210, 70, 24, 95, 122, 230, 152, 95, 123, 235, 172, 175, 186, 229, 147, 75, 41, 162, 134, 22, 86, 85, 83, 73, 35, 139, 43, 169, 162, 134, 22, 86, 85, 83, 75, 42, 166, 149, 82, 70, 22, 86, 88, 95, 123, 234, 166, 152, 95, 122, 230, 150, 85, 84, 79, 58, 230, 150, 85, 82, 71, 27, 107, 169, 161, 132, 14, 54, 214, 87, 89, 98, 134, 24, 96, 127, 251, 235, 170, 168, 159, 122, 230, 152, 95, 124, 238, 184, 221, 116, 208, 63, 250, 229, 146, 70, 21, 83, 73, 33, 130, 6, 23, 92, 110, 182, 214, 85, 83, 75, 43, 170, 168, 159, 121, 226, 136, 30, 117, 211, 73, 35, 140, 47, 185, 226, 134, 22, 88, 95, 121, 227, 140, 47, 187, 235, 171, 171, 169, 162, 135, 26, 104, 158, 117, 210, 70, 22, 86, 85, 83, 75, 43, 171, 169, 163, 139, 41, 161, 129, 2, 7, 27, 107, 171, 170, 168, 158, 120, 223, 123, 235, 169, 164, 141, 51, 203, 41, 163, 139, 44, 174, 182, 216, 95, 123, 234, 168, 159, 123, 235, 171, 172, 174, 182, 214, 85, 82, 69, 19, 73, 36, 143, 58, 230, 149, 83, 75, 42, 167, 154, 102, 152, 95, 122, 230, 149, 84, 78, 56, 222, 118, 213, 83, 75, 43, 170, 165, 147, 76, 47, 186, 232, 159, 124, 238, 181, 210, 69, 19, 73, 33, 131, 9, 34, 133, 17, 66, 5, 18, 70, 23, 90, 104, 158, 118, 214, 88, 94, 119, 220, 112, 189, 242, 198, 24, 95, 124, 239, 187, 234, 166, 150, 87, 91, 106, 166, 149, 82, 70, 24, 94, 117, 211, 74, 39, 155, 106, 166, 150, 85, 81, 67, 11, 41, 163, 139, 44, 175, 185, 227, 138, 40, 158, 117, 210, 69, 19, 74, 38, 149, 84, 79, 58, 232, 158, 119, 219, 108, 174, 181, 209, 68, 15, 59, 235, 171, 170, 166, 152, 95, 123, 234, 166, 151, 92, 110, 184, 224, 128, 254, 246, 216, 95, 123, 235, 169, 163, 137, 35, 137, 35, 138, 37, 147, 73, 35, 139, 42, 165, 148, 79, 59, 235, 170, 166, 150, 85, 81, 65, 3, 11, 43, 169, 163, 138, 38, 149, 83, 75, 43, 169, 164, 143, 58, 230, 152, 95, 122, 230, 150, 87, 92, 110, 182, 214, 88, 96, 126, 248, 222, 120, 222, 117, 212, 80, 62, 245, 211, 75, 42, 168, 158, 117, 210, 70, 24, 95, 123, 236, 174, 181, 212, 79, 59, 236, 175, 186, 229, 147, 76, 47, 185, 226, 134, 21, 82, 69, 19, 75, 41, 162, 134, 22, 86, 86, 85, 82, 69, 20, 79, 58, 230, 151, 91, 107, 169, 163, 138, 40, 159, 123, 235, 172, 176, 190, 247, 218, 102, 150, 86, 85, 82, 70, 22, 86, 85, 82, 70, 22, 86, 86, 88, 95, 122, 229, 146, 70, 23, 91, 107, 170, 166, 149, 83, 74, 39, 153, 99, 139, 43, 171, 169, 164, 143, 59, 234, 166, 150, 85, 83, 73, 33, 131, 9, 35, 139, 43, 171, 171, 169, 163, 139, 41, 162, 134, 21, 84, 79, 60, 239, 187, 233, 164, 144, 62, 245, 210, 70, 21, 83, 76, 47, 186, 232, 159, 123, 233, 162, 133, 20, 79, 60, 239, 186, 232, 158, 120, 223, 124, 239, 187, 234, 168, 157, 114, 198, 22, 86, 86, 88, 94, 120, 223, 122, 230, 152, 93, 114, 200, 30, 120, 222, 120, 223, 123, 234, 166, 150, 87, 89, 100, 141, 50, 197, 19, 75, 43, 171, 172, 175, 188, 239, 187, 235, 169, 162, 133, 19, 75, 42, 166, 152, 95, 123, 235, 172, 175, 185, 226, 136, 30, 118, 213, 83, 74, 37, 148, 79, 59, 234, 168, 160, 128, 254, 246, 216, 94, 120, 222, 118, 213, 83, 75, 41, 162, 135, 28, 110, 181, 210, 70, 23, 91, 108, 175, 187, 234, 165, 147, 74, 40, 159, 122, 232, 160, 126, 246, 216, 96, 126, 246, 213, 83, 73, 35, 138, 38, 151, 91, 106, 165, 147, 75, 41, 163, 139, 42, 166, 149, 83, 73, 35, 139, 42, 168, 158, 118, 213, 84, 78, 54, 216, 95, 122, 232, 160, 126, 245, 211, 73, 35, 138, 40, 159, 122, 230, 149, 83, 74, 40, 159, 122, 230, 150, 86, 86, 87, 90, 101, 145, 68, 15, 59, 234, 168, 159, 121, 227, 138, 37, 146, 70, 23, 89, 97, 131, 10, 37, 148, 79, 59, 233, 162, 135, 27, 107, 169, 163, 137, 33, 132, 15, 59, 233, 161, 131, 10, 37, 147, 74, 38, 149, 82, 69, 18, 71, 27, 107, 171, 171, 171, 171, 170, 168, 158, 120, 222, 117, 210, 70, 24, 94, 118, 213, 83, 75, 42, 168, 159, 122, 229, 147, 74, 38, 150, 85, 83, 73, 34, 135, 26, 102, 150, 86, 86, 86, 85, 83, 75, 42, 166, 151, 91, 107, 171, 170, 166, 149, 82, 70, 21, 84, 78, 53, 211, 74, 37, 146, 70, 21, 82, 70, 21, 82, 70, 21, 82, 70, 21, 82, 70, 22, 85, 81, 67, 11, 41, 163, 139, 43, 171, 170, 165, 146, 70, 21, 83, 75, 41, 163, 139, 43, 171, 170, 168, 159, 123, 236, 175, 187, 233, 163, 138, 40, 159, 122, 230, 150, 87, 90, 102, 152, 94, 119, 220, 112, 190, 246, 215, 91, 107, 169, 163, 138, 40, 159, 122, 232, 158, 117, 210, 70, 24, 96, 126, 248, 224, 126, 248, 223, 122, 229, 146, 70, 21, 81, 68, 15, 58, 230, 149, 82, 70, 21, 84, 78, 54, 213, 82, 71, 27, 106, 167, 154, 102, 149, 84, 78, 54, 215, 90, 102, 152, 95, 123, 236, 174, 184, 223, 122, 232, 158, 118, 214, 87, 90, 103, 155, 107, 169, 161, 130, 6, 23, 90, 102, 152, 94, 117, 209, 67, 9, 34, 135, 25, 98, 135, 28, 110, 182, 216, 95, 123, 235, 171, 171, 170, 168, 159, 122, 232, 159, 124, 238, 182, 214, 88, 95, 123, 235, 169, 163, 138, 38, 150, 88, 95, 123, 236, 174, 183, 218, 103, 154, 104, 158, 120, 223, 122, 232, 159, 123, 234, 165, 147, 74, 40, 159, 123, 235, 171, 170, 168, 158, 118, 216, 94, 120, 224, 128, 255, 249, 227, 138, 39, 156, 110, 181, 210, 72, 31, 123, 234, 165, 146, 70, 23, 90, 102, 150, 87, 91, 108, 174, 182, 216, 94, 117, 212, 79, 59, 234, 166, 151, 92, 110, 184, 222, 120, 223, 124, 239, 186, 229, 146, 72, 30, 119, 219, 105, 163, 138, 39, 154, 101, 145, 67, 10, 40, 159, 122, 232, 158, 118, 214, 87, 90, 104, 159, 123, 236, 174, 181, 210, 70, 22, 88, 95, 124, 239, 188, 239, 185, 226, 135, 27, 107, 169, 161, 130, 6, 22, 85, 82, 71, 28, 110, 183, 219, 106, 166, 151, 89, 99, 140, 46, 182, 215, 91, 108, 174, 182, 216, 94, 118, 215, 90, 102, 149, 84, 78, 56, 223, 123, 233, 163, 138, 40, 159, 122, 232, 159, 123, 233, 162, 135, 25, 99, 140, 48, 192, 255, 250, 230, 149, 83, 75, 43, 169, 163, 137, 33, 130, 5, 20, 80, 63, 249, 226, 136, 30, 118, 214, 88, 95, 124, 237, 178, 197, 17, 66, 7, 28, 110, 181, 209, 66, 6, 24, 94, 117, 211, 74, 37, 145, 65, 3, 11, 42, 165, 147, 73, 35, 138, 38, 151, 90, 102, 150, 88, 94, 120, 222, 118, 215, 90, 102, 149, 82, 72, 31, 124, 238, 182, 214, 86, 86, 87, 90, 102, 149, 82, 71, 25, 99, 138, 38, 150, 86, 86, 86, 88, 96, 126, 246, 213, 82, 70, 24, 95, 123, 233, 162, 134, 23, 91, 107, 169, 163, 137, 36, 142, 54, 215, 92, 110, 184, 223, 122, 229, 147, 73, 35, 139, 42, 168, 159, 121, 227, 138, 38, 149, 82, 72, 30, 119, 219, 107, 170, 165, 147, 74, 38, 151, 91, 107, 172, 174, 181, 211, 73, 35, 140, 47, 187, 235, 171, 172, 176, 190, 245, 211, 73, 34, 136, 31, 124, 239, 186, 229, 145, 66, 5, 19, 74, 37, 146, 71, 27, 107, 170, 167, 155, 106, 167, 153, 98, 136, 31, 122, 232, 160, 128, 256, 253, 242, 198, 23, 89, 99, 139, 42, 168, 157, 114, 197, 18, 71, 28, 110, 181, 211, 75, 42, 167, 156, 111, 187, 234, 167, 155, 106, 168, 159, 124, 238, 182, 213, 83, 75, 41, 162, 136, 31, 123, 236, 173, 178, 198, 21, 82, 72, 32, 126, 246, 213, 82, 72, 29, 116, 207, 60, 239, 187, 233, 164, 141, 52, 206, 54, 216, 95, 123, 234, 166, 150, 88, 95, 122, 232, 159, 122, 230, 150, 87, 90, 103, 155, 106, 165, 148, 79, 59, 235, 169, 163, 139, 41, 162, 133, 19, 74, 38, 149, 82, 71, 27, 107, 169, 163, 138, 38, 149, 83, 75, 41, 162, 135, 27, 106, 166, 149, 82, 72, 32, 126, 247, 220, 110, 182, 216, 94, 120, 222, 118, 216, 95, 122, 229, 147, 76, 48, 189, 242, 199, 25, 100, 143, 59, 234, 166, 152, 95, 123, 233, 162, 136, 31, 122, 230, 149, 83, 75, 42, 166, 150, 87, 89, 98, 133, 19, 76, 48, 190, 246, 215, 91, 105, 162, 134, 24, 96, 126, 246, 213, 82, 70, 21, 82, 70, 22, 86, 85, 82, 70, 24, 93, 114, 199, 27, 106, 165, 147, 74, 40, 159, 122, 232, 157, 114, 197, 18, 71, 27, 108, 174, 183, 217, 100, 143, 59, 234, 167, 156, 110, 184, 223, 123, 233, 162, 133, 19, 74, 40, 158, 117, 211, 74, 39, 154, 102, 150, 86, 87, 91, 106, 165, 148, 78, 53, 210, 70, 22, 85, 82, 71, 27, 105, 163, 140, 46, 183, 219, 106, 166, 152, 95, 123, 236, 174, 182, 216, 94, 117, 211, 75, 43, 172, 176, 191, 249, 227, 138, 37, 147, 74, 37, 147, 74, 38, 152, 94, 117, 210, 70, 24, 94, 118, 214, 88, 94, 120, 223, 122, 232, 159, 124, 238, 182, 213, 82, 71, 26, 104, 159, 123, 234, 166, 151, 91, 106, 165, 148, 78, 53, 211, 75, 43, 172, 174, 181, 212, 79, 59, 236, 176, 190, 245, 210, 71, 27, 106, 166, 151, 92, 109, 177, 194, 6, 21, 82, 69, 18, 71, 26, 102, 150, 88, 96, 126, 246, 216, 95, 123, 235, 171, 170, 165, 146, 70, 21, 82, 69, 19, 74, 40, 160, 126, 245, 211, 74, 39, 156, 110, 182, 215, 91, 106, 166, 149, 83, 75, 43, 169, 162, 135, 27, 105, 163, 139, 42, 166, 149, 82, 70, 21, 84, 78, 53, 211, 74, 37, 148, 78, 54, 215, 89, 99, 137, 35, 139, 41, 162, 135, 25, 99, 139, 44, 175, 186, 229, 146, 70, 23, 91, 106, 168, 158, 119, 219, 107, 169, 163, 138, 38, 150, 86, 88, 93, 114, 199, 27, 106, 166, 149, 82, 72, 31, 122, 229, 146, 70, 23, 90, 102, 151, 91, 106, 167, 155, 107, 171, 169, 161, 131, 11, 42, 167, 156, 111, 187, 233, 163, 139, 44, 175, 187, 233, 163, 138, 40, 159, 122, 232, 157, 114, 197, 18, 69, 17, 66, 5, 18, 70, 24, 94, 118, 216, 93, 114, 197, 18, 70, 21, 83, 75, 42, 165, 147, 75, 42, 166, 152, 95, 122, 230, 152, 95, 123, 236, 175, 188, 238, 182, 216, 95, 122, 232, 160, 126, 246, 213, 83, 74, 37, 147, 74, 40, 159, 121, 228, 143, 59, 236, 175, 187, 233, 163, 137, 34, 134, 24, 95, 122, 232, 158, 118, 216, 95, 124, 239, 187, 234, 168, 157, 114, 200, 29, 114, 198, 24, 94, 118, 213, 82, 70, 22, 88, 94, 120, 223, 122, 230, 151, 91, 106, 167, 155, 107, 171, 171, 170, 168, 159, 121, 227, 140, 45, 178, 200, 31, 122, 229, 147, 74, 40, 158, 120, 223, 122, 230, 150, 87, 91, 106, 165, 146, 70, 22, 88, 95, 122, 230, 152, 95, 123, 235, 171, 169, 162, 133, 18, 72, 31, 122, 232, 160, 126, 248, 221, 114, 198, 23, 90, 102, 152, 94, 120, 221, 114, 198, 21, 83, 75, 41, 162, 134, 24, 95, 123, 233, 163, 137, 34, 134, 22, 85, 82, 70, 23, 91, 106, 168, 158, 118, 214, 86, 88, 95, 124, 237, 178, 198, 24, 94, 118, 214, 87, 90, 104, 159, 122, 230, 150, 86, 85, 83, 75, 42, 166, 150, 88, 95, 122, 229, 147, 75, 43, 169, 163, 140, 46, 184, 223, 122, 229, 148, 80, 62, 245, 209, 67, 10, 40, 158, 120, 222, 118, 213, 82, 72, 31, 123, 235, 169, 162, 134, 24, 94, 118, 213, 83, 75, 44, 175, 187, 234, 166, 152, 96, 126, 246, 215, 90, 102, 149, 81, 67, 12, 46, 181, 211, 74, 40, 159, 123, 233, 164, 143, 59, 233, 162, 136, 30, 120, 223, 123, 234, 166, 149, 82, 71, 26, 104, 157, 115, 203, 44, 175, 185, 225, 130, 5, 19, 75, 43, 171, 170, 168, 159, 122, 230, 151, 90, 101, 148, 78, 53, 211, 73, 35, 138, 38, 149, 82, 69, 19, 73, 34, 133, 19, 73, 35, 139, 41, 163, 138, 37, 147, 74, 38, 152, 95, 123, 234, 166, 149, 81, 65, 1, 4, 14, 53, 209, 66, 5, 20, 78, 55, 220, 110, 184, 221, 114, 198, 21, 83, 75, 41, 163, 138, 40, 158, 117, 209, 66, 8, 29, 114, 198, 23, 90, 104, 158, 117, 211, 76, 47, 187, 233, 163, 139, 41, 163, 139, 42, 167, 154, 102, 150, 87, 92, 111, 188, 237, 178, 200, 30, 119, 219, 108, 175, 186, 230, 151, 90, 101, 147, 74, 40, 159, 122, 232, 158, 120, 222, 119, 219, 106, 166, 149, 84, 79, 59, 235, 170, 165, 147, 74, 38, 152, 94, 120, 223, 122, 229, 147, 74, 38, 152, 95, 124, 239, 187, 236, 176, 192, 255, 251, 235, 171, 170, 166, 152, 94, 118, 215, 92, 110, 182, 216, 94, 120, 222, 118, 214, 88, 94, 118, 216, 95, 123, 233, 163, 138, 40, 158, 118, 216, 95, 123, 233, 163, 138, 40, 159, 122, 232, 159, 122, 232, 158, 119, 217, 100, 143, 58, 232, 160, 126, 248, 223, 122, 230, 150, 88, 94, 117, 210, 70, 22, 88, 95, 123, 236, 175, 186, 232, 157, 115, 203, 42, 167, 155, 106, 166, 151, 90, 102, 151, 91, 106, 168, 158, 118, 215, 90, 101, 147, 75, 43, 170, 167, 156, 111, 187, 236, 176, 190, 248, 222, 118, 216, 95, 123, 234, 166, 150, 85, 83, 73, 35, 138, 38, 149, 83, 74, 38, 150, 88, 95, 122, 230, 152, 94, 117, 211, 75, 43, 171, 170, 167, 156, 110, 182, 213, 83, 74, 37, 148, 78, 53, 209, 67, 10, 38, 149, 83, 73, 35, 139, 42, 166, 149, 83, 76, 46, 181, 211, 73, 36, 143, 58, 230, 150, 86, 86, 87, 90, 102, 152, 95, 122, 229, 147, 75, 42, 167, 155, 106, 165, 146, 71, 28, 110, 181, 211, 73, 36, 143, 57, 226, 134, 22, 87, 91, 105, 163, 138, 38, 150, 85, 83, 74, 39, 155, 107, 170, 166, 152, 94, 117, 212, 78, 56, 222, 118, 214, 85, 82, 71, 27, 107, 172, 175, 185, 228, 143, 58, 232, 160, 126, 246, 213, 83, 75, 43, 171, 172, 176, 190, 248, 223, 123, 234, 167, 155, 107, 169, 163, 140, 46, 184, 222, 117, 211, 74, 38, 151, 89, 97, 131, 9, 35, 137, 35, 138, 40, 159, 123, 235, 170, 168, 159, 123, 235, 170, 166, 150, 86, 85, 83, 74, 38, 150, 86, 88, 96, 127, 249, 227, 137, 34, 136, 30, 120, 223, 123, 233, 162, 133, 18, 70, 24, 95, 121, 225, 130, 6, 21, 83, 73, 34, 134, 24, 95, 122, 230, 149, 83, 75, 43, 170, 168, 159, 124, 239, 186, 231, 153, 100, 142, 56, 222, 120, 224, 127, 251, 234, 166, 152, 95, 123, 236, 174, 182, 216, 96, 127, 250, 229, 147, 74, 40, 159, 124, 239, 187, 234, 165, 147, 74, 37, 147, 74, 37, 147, 75, 42, 168, 158, 118, 214, 86, 85, 83, 74, 39, 155, 106, 166, 150, 85, 83, 75, 43, 172, 175, 187, 235, 170, 166, 149, 83, 73, 34, 134, 21, 83, 74, 37, 147, 74, 38, 150, 85, 83, 75, 41, 161, 131, 10, 37, 147, 74, 37, 146, 69, 18, 71, 26, 103, 155, 106, 166, 151, 92, 111, 187, 235, 171, 169, 163, 139, 42, 165, 147, 75, 42, 165, 146, 70, 23, 91, 107, 170, 165, 148, 79, 60, 238, 183, 219, 106, 167, 154, 102, 152, 94, 120, 223, 123, 236, 174, 181, 209, 65, 2, 6, 21, 82, 70, 24, 93, 114, 197, 18, 72, 31, 122, 230, 152, 95, 123, 235, 171, 172, 175, 187, 235, 172, 174, 184, 222, 117, 209, 67, 11, 41, 163, 139, 42, 166, 150, 87, 91, 107, 171, 170, 167, 155, 105, 163, 139, 43, 171, 171, 171, 172, 176, 190, 246, 214, 87, 90, 103, 156, 111, 186, 229, 146, 69, 18, 71, 25, 99, 140, 47, 186, 231, 155, 106, 168, 159, 123, 233, 162, 135, 28, 111, 186, 230, 151, 89, 98, 133, 18, 71, 26, 103, 155, 108, 175, 185, 228, 143, 60, 237, 178, 198, 22, 85, 84, 79, 58, 232, 158, 118, 215, 92, 111, 188, 239, 188, 238, 184, 223, 124, 239, 188, 238, 184, 223, 122, 229, 148, 79, 60, 238, 182, 213, 82, 69, 18, 71, 28, 110, 184, 223, 121, 228, 143, 58, 229, 146, 70, 24, 95, 124, 239, 188, 237, 178, 199, 28, 111, 188, 239, 188, 238, 181, 209, 67, 10, 38, 152, 93, 115, 202, 38, 149, 82, 70, 24, 94, 117, 211, 74, 40, 159, 122, 229, 147, 75, 43, 169, 163, 139, 42, 165, 147, 73, 33, 131, 11, 42, 165, 145, 67, 11, 42, 165, 147, 75, 42, 166, 150, 86, 85, 82, 71, 27, 105, 162, 133, 18, 69, 18, 72, 32, 127, 251, 235, 170, 168, 159, 122, 232, 158, 120, 223, 121, 225, 129, 4, 13, 49, 193, 3, 10, 40, 159, 124, 240, 191, 249, 226, 136, 30, 118, 0, 0, 0, 0, 0, 0, 0, 0, 0, 0, 0, 0, 0, 0, 0, 0, 0, 0, 0, 0, 0, 0, 0, 0, 0, 0, 0, 0, 0, 0, 0, 0, 0, 0, 0, 0, 0, 0, 0, 0, 0, 0, 0, 0, 0, 0, 0, 0, 0, 0, 0, 0, 0, 0, 0, 0, 0, 0, 0, 0, 0, 0, 0, 0, 0, 0, 0, 0, 0, 0, 0, 0, 0, 0, 0, 0, 0, 0, 0, 0, 0, 0, 0, 0, 0, 0, 0, 0, 0, 0, 0, 0, 0, 0, 0, 0, 0, 0, 0, 0, 0, 0, 0, 0, 0, 0, 0, 0, 0, 0, 0, 0, 0, 0, 0, 0, 0, 0, 0, 0, 0, 0, 0, 0, 0, 0, 0, 0, 0, 0, 0, 0, 0, 0, 0, 0, 0, 0, 0, 0, 0, 0, 0, 0, 0, 0, 0, 0, 0, 0, 0, 0, 0, 0, 0, 0, 0, 0, 0, 0, 0, 0, 0, 0, 0, 0, 0, 0, 0, 0, 0, 0, 0, 0, 0, 0, 0, 0, 0, 0, 0, 0, 0, 0, 0, 0, 0, 0, 0, 0, 0, 0, 0, 0, 0, 0, 0, 0, 0, 0, 0, 0, 0, 0, 0, 0, 0, 0, 0, 0, 0, 0, 0, 0, 0, 0, 0, 0, 0, 0, 0, 0, 0, 0, 0, 0, 0, 0, 0, 0, 0, 0, 0, 0, 0, 0, 0, 0, 0, 0, 0, 0, 0, 0, 0, 0, 0, 0, 0, 0, 0, 0, 0, 0, 0, 0, 0, 0, 0, 0, 0, 0, 0, 0, 0, 0, 0, 0, 0, 0, 0, 0, 0, 0, 0, 0, 0, 0, 0, 0, 0, 0, 0, 0, 0, 0, 0, 0, 0, 0, 0, 0, 0, 0, 0, 0, 0, 0, 0, 0, 0, 0, 0, 0, 0, 0, 0, 0, 0, 0, 0, 0, 0, 0, 0, 0, 0, 0, 0, 0, 0, 0, 0, 0, 0, 0, 0, 0, 0, 0, 0, 0, 0, 0, 0, 0, 0, 0, 0, 0, 0, 0, 0, 0, 0, 0, 0, 0, 0, 0, 0, 0, 0, 0, 0, 0, 0, 0, 0, 0, 0, 0, 0, 0, 0, 0, 0, 0, 0, 0, 0, 0, 0, 0, 0, 0, 0, 0, 0, 0, 0, 0, 0, 0, 0, 0, 0, 0, 0, 0, 0, 0, 0, 0, 0, 0, 0, 0, 0, 0, 0, 0, 0, 0, 0, 0, 0, 0, 0, 0, 0, 0, 0, 0, 0, 0, 0, 0, 0, 0, 0, 0, 0, 0, 0, 0, 0, 0, 0, 0, 0, 0, 0, 0, 0, 0, 0, 0, 0, 0, 0, 0, 0, 0, 0, 0, 0, 0, 0, 0, 0, 0, 0, 0, 0, 0, 0, 0, 0, 0, 0, 0, 0, 0, 0, 0, 0, 0, 0, 0, 0, 0, 0, 0, 0, 0, 0, 0, 0, 0, 0, 0, 0, 0, 0, 0, 0, 0, 0, 0, 0, 0, 0, 0, 0, 0, 0, 0, 0, 0, 0, 0, 0, 0, 0, 0, 0, 0, 0, 0, 0, 0, 0, 0, 0, 0, 0, 0, 0, 0, 0, 0, 0, 0, 0]\n"
     ]
    }
   ],
   "source": [
    "print(datetime.now())\n",
    "print(\"Load RCI values...\")\n",
    "loader = DataLoader()\n",
    "filepath = DATA_DIR+RCI_FILE\n",
    "gene_to_rci = loader.load_gene_rci_values(filepath,CELL_LINE)\n",
    "print('Num RCI:', len(gene_to_rci.keys()))\n",
    "print('Example RCI:', list(gene_to_rci.items())[:3])\n",
    "print(\"Load genes...\")\n",
    "all_genes = list(gene_to_rci.keys())\n",
    "print(datetime.now())\n",
    "print('Load sequence...')\n",
    "filepath = DATA_DIR+SEQUENCE_FILE\n",
    "labels,allids,allseq = loader.load_sequence(filepath)\n",
    "print(datetime.now())\n",
    "print('Num IDs:',len(allids))\n",
    "print('Example IDs:',[allids[x] for x in [10, 20, 30, 40]] )\n",
    "print('Count',np.count_nonzero(labels),'ones out of',len(labels),'labels.')\n",
    "print('Num labels:',len(labels))\n",
    "print('Example labels:',[labels[x] for x in [10, 20, 30, 40]] )\n",
    "print('Num sequences:',len(allseq))\n",
    "print('Example sequence:',allseq[3])\n",
    "loader = None  # drop K-mer cache to save RAM"
   ]
  },
  {
   "cell_type": "markdown",
   "metadata": {
    "id": "VDZ6siB_Kq04"
   },
   "source": [
    "## Model"
   ]
  },
  {
   "cell_type": "code",
   "execution_count": 8,
   "metadata": {
    "id": "AwMbRjm0FLBF"
   },
   "outputs": [],
   "source": [
    "def build_model():\n",
    "    ALPHABET=4**K+1  # NUMBER OF DISTINCT KMERS POSSIBLE, add one if N gets mask value\n",
    "    ADJUST_LENGTH = MAXLEN-K+1  # fixed length sequences\n",
    "    rnn = Sequential()\n",
    "    embed_layer = Embedding(ALPHABET,EMBED_DIMEN,input_length=ADJUST_LENGTH,mask_zero=False)   \n",
    "    rnn1_layer = Bidirectional( LSTM(RCELLS, return_sequences=True) )\n",
    "    dens_layer = TimeDistributed(Dense(DCELLS))\n",
    "    flat_layer = Flatten()\n",
    "    drop_layer = Dropout(0.5) # this model will rely on specific time points not patterns\n",
    "    output_layer = Dense(1,activation='sigmoid',dtype=dt)\n",
    "\n",
    "    #rnn.add(mask_layer)\n",
    "    rnn.add(embed_layer)\n",
    "    rnn.add(rnn1_layer)\n",
    "    rnn.add(dens_layer)\n",
    "    rnn.add(flat_layer)\n",
    "    rnn.add(drop_layer)\n",
    "    rnn.add(output_layer)\n",
    "\n",
    "    bc=BinaryCrossentropy(from_logits=False)\n",
    "    print(\"COMPILE\")\n",
    "    rnn.compile(loss=bc, optimizer=\"Adam\",metrics=[\"accuracy\"])\n",
    "    return rnn"
   ]
  },
  {
   "cell_type": "code",
   "execution_count": 9,
   "metadata": {
    "colab": {
     "base_uri": "https://localhost:8080/"
    },
    "id": "clj-wufgFLBF",
    "outputId": "c8a3b07b-37e4-4a98-a4d5-741f124949b8"
   },
   "outputs": [
    {
     "name": "stdout",
     "output_type": "stream",
     "text": [
      "2023-01-17 16:44:18.897560\n",
      "COMPILE\n",
      "Model: \"sequential\"\n",
      "_________________________________________________________________\n",
      " Layer (type)                Output Shape              Param #   \n",
      "=================================================================\n",
      " embedding (Embedding)       (None, 3997, 4)           1028      \n",
      "                                                                 \n",
      " bidirectional (Bidirectiona  (None, 3997, 64)         9472      \n",
      " l)                                                              \n",
      "                                                                 \n",
      " time_distributed (TimeDistr  (None, 3997, 16)         1040      \n",
      " ibuted)                                                         \n",
      "                                                                 \n",
      " flatten (Flatten)           (None, 63952)             0         \n",
      "                                                                 \n",
      " dropout (Dropout)           (None, 63952)             0         \n",
      "                                                                 \n",
      " dense_1 (Dense)             (None, 1)                 63953     \n",
      "                                                                 \n",
      "=================================================================\n",
      "Total params: 75,493\n",
      "Trainable params: 75,493\n",
      "Non-trainable params: 0\n",
      "_________________________________________________________________\n",
      "None\n"
     ]
    }
   ],
   "source": [
    "print(datetime.now())\n",
    "model=build_model()\n",
    "print(model.summary())  # Print this only once"
   ]
  },
  {
   "cell_type": "markdown",
   "metadata": {
    "id": "MgrC1alOKq07"
   },
   "source": [
    "## Training"
   ]
  },
  {
   "cell_type": "code",
   "execution_count": 10,
   "metadata": {
    "id": "W9xiFzNbFLBE"
   },
   "outputs": [],
   "source": [
    "class CrossValidator():\n",
    "    def __init__(self,epochs,folds,quick_test=False,threshold=0.5):\n",
    "        self.epochs = epochs\n",
    "        self.folds = folds\n",
    "        self.quick_test = quick_test\n",
    "        self.threshold = threshold\n",
    "    \n",
    "    def get_gene_subset(self,all_genes,sub_index):\n",
    "        sub_genes = set()\n",
    "        for index in sub_index:\n",
    "            one_gene = all_genes[index]\n",
    "            sub_genes.add(one_gene)\n",
    "        return sub_genes\n",
    "    \n",
    "    def get_X_y(self,gene_set,allids,allX,allY):\n",
    "        cnt = len(allids)\n",
    "        subsetX=[]\n",
    "        subsetY=[]\n",
    "        if cnt != len(allX) or cnt!= len(allY):\n",
    "            raise Exception('Lengths differ')\n",
    "        for i in range(cnt):\n",
    "            gene_id,tran_id = allids[i]\n",
    "            if gene_id in gene_set:\n",
    "                oneX = allX[i]\n",
    "                oneY = allY[i]\n",
    "                subsetX.append(oneX)\n",
    "                subsetY.append(oneY)\n",
    "        subsetX = np.array(subsetX)\n",
    "        subsetY = np.array(subsetY).reshape((-1,1))\n",
    "        return subsetX,subsetY\n",
    "    \n",
    "    def do_cross_validation(self):\n",
    "        cv_accuracy=[]\n",
    "        cv_precision=[]\n",
    "        cv_recall=[]\n",
    "        cv_f1=[]\n",
    "        fold=0\n",
    "        print(datetime.now())\n",
    "        print('splitting')\n",
    "        # KFold shuffles once before making the partitions\n",
    "        splitter = KFold(n_splits=self.folds,shuffle=True,random_state=42)\n",
    "        for train_index,valid_index in splitter.split(all_genes):\n",
    "            fold += 1\n",
    "            print('Fold',fold)\n",
    "            train_genes = self.get_gene_subset(all_genes,train_index)\n",
    "            valid_genes = self.get_gene_subset(all_genes,valid_index)\n",
    "            X_train,y_train = self.get_X_y(train_genes,allids,allseq,labels)\n",
    "            X_valid,y_valid = self.get_X_y(valid_genes,allids,allseq,labels)\n",
    "\n",
    "            print('Training example')\n",
    "            print(X_train[0])\n",
    "\n",
    "            print('Train sizes',X_train.shape,y_train.shape)\n",
    "            print('Valid sizes',X_valid.shape,y_valid.shape)\n",
    "            print('Train set ones/size',\n",
    "                  np.count_nonzero(y_train),'/',len(y_train))\n",
    "            print('Valid set ones/size',\n",
    "                  np.count_nonzero(y_valid),'/',len(y_valid))\n",
    "\n",
    "            print(\"BUILD MODEL\")\n",
    "            model=build_model()\n",
    "\n",
    "            print(\"FIT\")\n",
    "            print(datetime.now())\n",
    "            history=model.fit(X_train, y_train, # batch_size=10, default=32 works nicely\n",
    "                    epochs=self.epochs, verbose=1,  # verbose=1 for ascii art, verbose=0 for none\n",
    "                    validation_data=(X_valid,y_valid) )\n",
    "\n",
    "            pd.DataFrame(history.history).plot(figsize=(8,5))\n",
    "            plt.grid(True)\n",
    "            plt.gca().set_ylim(0,1)\n",
    "            plt.show()\n",
    "\n",
    "            print(\"Compute valiation accuracy\")\n",
    "            print(datetime.now())\n",
    "            yhat_pred=model.predict(X_valid, verbose=0) \n",
    "            print('Range of scores:',np.min(yhat_pred),'to',np.max(yhat_pred))\n",
    "            yhat_classes=np.where(yhat_pred > self.threshold, 1, 0)\n",
    "            print('Predicted zeros and ones',np.count_nonzero(yhat_classes==0),np.count_nonzero(yhat_classes==1))\n",
    "            # accuracy: (tp + tn) / (p + n)\n",
    "            accuracy = accuracy_score(y_valid, yhat_classes)*100.\n",
    "            # precision tp / (tp + fp)\n",
    "            precision = precision_score(y_valid, yhat_classes)*100.\n",
    "            # recall: tp / (tp + fn)\n",
    "            recall = recall_score(y_valid, yhat_classes)*100.\n",
    "            # f1: 2 tp / (2 tp + fp + fn)\n",
    "            f1 = f1_score(y_valid, yhat_classes)*100.\n",
    "            print('Accuracy: %.2f%% Precision: %.2f%% Recall: %.2f%% F1: %.2f%%' % (accuracy,precision,recall,f1)) \n",
    "            print(datetime.now())\n",
    "            cv_accuracy.append(accuracy)\n",
    "            cv_precision.append(precision)\n",
    "            cv_recall.append(recall)\n",
    "            cv_f1.append(f1)\n",
    "            if self.quick_test:   \n",
    "                print('Break -- this was for code testing only')\n",
    "                break\n",
    "        print()\n",
    "        return cv_accuracy, cv_precision, cv_recall, cv_f1"
   ]
  },
  {
   "cell_type": "code",
   "execution_count": 11,
   "metadata": {
    "colab": {
     "base_uri": "https://localhost:8080/",
     "height": 1000
    },
    "id": "XC9m0W-pFLBH",
    "outputId": "491717b5-779a-4a6f-d696-b776f40fc156",
    "scrolled": false
   },
   "outputs": [
    {
     "name": "stdout",
     "output_type": "stream",
     "text": [
      "2023-01-17 16:44:22.223612\n",
      "2023-01-17 16:44:22.224175\n",
      "splitting\n",
      "Fold 1\n",
      "Training example\n",
      "[167 155 106 ...   0   0   0]\n",
      "Train sizes (5543, 3997) (5543, 1)\n",
      "Valid sizes (1392, 3997) (1392, 1)\n",
      "Train set ones/size 2391 / 5543\n",
      "Valid set ones/size 574 / 1392\n",
      "BUILD MODEL\n",
      "COMPILE\n",
      "FIT\n",
      "2023-01-17 16:44:24.426573\n",
      "Epoch 1/3\n",
      "174/174 [==============================] - 46s 217ms/step - loss: 0.5554 - accuracy: 0.7110 - val_loss: 0.5381 - val_accuracy: 0.7277\n",
      "Epoch 2/3\n",
      "174/174 [==============================] - 38s 221ms/step - loss: 0.4933 - accuracy: 0.7714 - val_loss: 0.5351 - val_accuracy: 0.7292\n",
      "Epoch 3/3\n",
      "174/174 [==============================] - 37s 215ms/step - loss: 0.4574 - accuracy: 0.7963 - val_loss: 0.5436 - val_accuracy: 0.7385\n"
     ]
    },
    {
     "data": {
      "image/png": "[encoded data removed]",
      "text/plain": [
       "<Figure size 576x360 with 1 Axes>"
      ]
     },
     "metadata": {
      "needs_background": "light"
     },
     "output_type": "display_data"
    },
    {
     "name": "stdout",
     "output_type": "stream",
     "text": [
      "Compute valiation accuracy\n",
      "2023-01-17 16:46:50.240437\n",
      "Range of scores: 0.004107717 to 0.9911265\n",
      "Predicted zeros and ones 854 538\n",
      "Accuracy: 73.85% Precision: 69.52% Recall: 65.16% F1: 67.27%\n",
      "2023-01-17 16:46:56.101785\n",
      "Fold 2\n",
      "Training example\n",
      "[167 155 106 ...   0   0   0]\n",
      "Train sizes (5522, 3997) (5522, 1)\n",
      "Valid sizes (1413, 3997) (1413, 1)\n",
      "Train set ones/size 2375 / 5522\n",
      "Valid set ones/size 590 / 1413\n",
      "BUILD MODEL\n",
      "COMPILE\n",
      "FIT\n",
      "2023-01-17 16:46:58.209357\n",
      "Epoch 1/3\n",
      "173/173 [==============================] - 42s 218ms/step - loss: 0.5579 - accuracy: 0.7213 - val_loss: 0.4998 - val_accuracy: 0.7622\n",
      "Epoch 2/3\n",
      "173/173 [==============================] - 37s 213ms/step - loss: 0.5010 - accuracy: 0.7644 - val_loss: 0.5084 - val_accuracy: 0.7374\n",
      "Epoch 3/3\n",
      "173/173 [==============================] - 37s 214ms/step - loss: 0.4581 - accuracy: 0.7923 - val_loss: 0.5165 - val_accuracy: 0.7509\n"
     ]
    },
    {
     "data": {
      "image/png": "[encoded data removed]",
      "text/plain": [
       "<Figure size 576x360 with 1 Axes>"
      ]
     },
     "metadata": {
      "needs_background": "light"
     },
     "output_type": "display_data"
    },
    {
     "name": "stdout",
     "output_type": "stream",
     "text": [
      "Compute valiation accuracy\n",
      "2023-01-17 16:49:24.435949\n",
      "Range of scores: 0.0062039667 to 0.9660822\n",
      "Predicted zeros and ones 821 592\n",
      "Accuracy: 75.09% Precision: 70.10% Recall: 70.34% F1: 70.22%\n",
      "2023-01-17 16:49:30.714481\n",
      "Fold 3\n",
      "Training example\n",
      "[167 155 106 ...   0   0   0]\n",
      "Train sizes (5525, 3997) (5525, 1)\n",
      "Valid sizes (1410, 3997) (1410, 1)\n",
      "Train set ones/size 2355 / 5525\n",
      "Valid set ones/size 610 / 1410\n",
      "BUILD MODEL\n",
      "COMPILE\n",
      "FIT\n",
      "2023-01-17 16:49:32.785572\n",
      "Epoch 1/3\n",
      "173/173 [==============================] - 41s 219ms/step - loss: 0.5424 - accuracy: 0.7204 - val_loss: 0.5324 - val_accuracy: 0.7674\n",
      "Epoch 2/3\n",
      "173/173 [==============================] - 37s 212ms/step - loss: 0.4908 - accuracy: 0.7725 - val_loss: 0.5293 - val_accuracy: 0.7752\n",
      "Epoch 3/3\n",
      "173/173 [==============================] - 36s 210ms/step - loss: 0.4510 - accuracy: 0.7895 - val_loss: 0.5552 - val_accuracy: 0.7589\n"
     ]
    },
    {
     "data": {
      "image/png": "[encoded data removed]",
      "text/plain": [
       "<Figure size 576x360 with 1 Axes>"
      ]
     },
     "metadata": {
      "needs_background": "light"
     },
     "output_type": "display_data"
    },
    {
     "name": "stdout",
     "output_type": "stream",
     "text": [
      "Compute valiation accuracy\n",
      "2023-01-17 16:51:26.895021\n",
      "Range of scores: 0.006177031 to 0.9746386\n",
      "Predicted zeros and ones 828 582\n",
      "Accuracy: 75.89% Precision: 73.20% Recall: 69.84% F1: 71.48%\n",
      "2023-01-17 16:51:32.687897\n",
      "Fold 4\n",
      "Training example\n",
      "[167 155 106 ...   0   0   0]\n",
      "Train sizes (5528, 3997) (5528, 1)\n",
      "Valid sizes (1407, 3997) (1407, 1)\n",
      "Train set ones/size 2370 / 5528\n",
      "Valid set ones/size 595 / 1407\n",
      "BUILD MODEL\n",
      "COMPILE\n",
      "FIT\n",
      "2023-01-17 16:51:34.779909\n",
      "Epoch 1/3\n",
      "173/173 [==============================] - 42s 221ms/step - loss: 0.5522 - accuracy: 0.7229 - val_loss: 0.5243 - val_accuracy: 0.7448\n",
      "Epoch 2/3\n",
      "173/173 [==============================] - 37s 212ms/step - loss: 0.4950 - accuracy: 0.7713 - val_loss: 0.5367 - val_accuracy: 0.7242\n",
      "Epoch 3/3\n",
      "173/173 [==============================] - 36s 211ms/step - loss: 0.4603 - accuracy: 0.7885 - val_loss: 0.5302 - val_accuracy: 0.7406\n"
     ]
    },
    {
     "data": {
      "image/png": "[encoded data removed]",
      "text/plain": [
       "<Figure size 576x360 with 1 Axes>"
      ]
     },
     "metadata": {
      "needs_background": "light"
     },
     "output_type": "display_data"
    },
    {
     "name": "stdout",
     "output_type": "stream",
     "text": [
      "Compute valiation accuracy\n",
      "2023-01-17 16:53:30.041504\n",
      "Range of scores: 0.010574619 to 0.97385716\n",
      "Predicted zeros and ones 845 562\n",
      "Accuracy: 74.06% Precision: 70.46% Recall: 66.55% F1: 68.45%\n",
      "2023-01-17 16:53:34.617121\n",
      "Fold 5\n",
      "Training example\n",
      "[ 95 123 235 ...   0   0   0]\n",
      "Train sizes (5622, 3997) (5622, 1)\n",
      "Valid sizes (1313, 3997) (1313, 1)\n",
      "Train set ones/size 2369 / 5622\n",
      "Valid set ones/size 596 / 1313\n",
      "BUILD MODEL\n",
      "COMPILE\n",
      "FIT\n",
      "2023-01-17 16:53:36.699778\n",
      "Epoch 1/3\n",
      "176/176 [==============================] - 41s 214ms/step - loss: 0.5516 - accuracy: 0.7223 - val_loss: 0.5118 - val_accuracy: 0.7471\n",
      "Epoch 2/3\n",
      "176/176 [==============================] - 37s 210ms/step - loss: 0.4889 - accuracy: 0.7773 - val_loss: 0.5499 - val_accuracy: 0.7190\n",
      "Epoch 3/3\n",
      "176/176 [==============================] - 37s 209ms/step - loss: 0.4432 - accuracy: 0.8024 - val_loss: 0.5667 - val_accuracy: 0.7228\n"
     ]
    },
    {
     "data": {
      "image/png": "[encoded data removed]",
      "text/plain": [
       "<Figure size 576x360 with 1 Axes>"
      ]
     },
     "metadata": {
      "needs_background": "light"
     },
     "output_type": "display_data"
    },
    {
     "name": "stdout",
     "output_type": "stream",
     "text": [
      "Compute valiation accuracy\n",
      "2023-01-17 16:55:31.286479\n",
      "Range of scores: 0.0031156526 to 0.9790659\n",
      "Predicted zeros and ones 849 464\n",
      "Accuracy: 72.28% Precision: 75.00% Recall: 58.39% F1: 65.66%\n",
      "2023-01-17 16:55:35.558816\n",
      "\n",
      "Cross validation 5 folds 3 epochs\n",
      " accuracy mean 74.23% +/- 1.22\n",
      " precision mean 71.66% +/- 2.10\n",
      " recall mean 66.06% +/- 4.30\n",
      " F1 mean 68.62% +/- 2.07\n",
      "2023-01-17 16:55:35.561993\n"
     ]
    }
   ],
   "source": [
    "print(datetime.now())\n",
    "cvdo = CrossValidator(EPOCHS,FOLDS,BREAK)\n",
    "cv_accuracy, cv_precision, cv_recall, cv_f1 = cvdo.do_cross_validation()   \n",
    "print(\"Cross validation %d folds %d epochs\" % (FOLDS,EPOCHS)) \n",
    "print(\" accuracy mean %.2f%% +/- %.2f\" % (np.mean(cv_accuracy), np.std(cv_accuracy)))\n",
    "print(\" precision mean %.2f%% +/- %.2f\" % (np.mean(cv_precision), np.std(cv_precision)))\n",
    "print(\" recall mean %.2f%% +/- %.2f\" % (np.mean(cv_recall), np.std(cv_recall)))\n",
    "print(\" F1 mean %.2f%% +/- %.2f\" % (np.mean(cv_f1), np.std(cv_f1)))\n",
    "print(datetime.now())"
   ]
  },
  {
   "cell_type": "code",
   "execution_count": 11,
   "metadata": {
    "id": "HkCeDg_HdQ36"
   },
   "outputs": [],
   "source": []
  }
 ],
 "metadata": {
  "accelerator": "GPU",
  "colab": {
   "provenance": []
  },
  "gpuClass": "standard",
  "kernelspec": {
   "display_name": "Python 3 (ipykernel)",
   "language": "python",
   "name": "python3"
  },
  "language_info": {
   "codemirror_mode": {
    "name": "ipython",
    "version": 3
   },
   "file_extension": ".py",
   "mimetype": "text/x-python",
   "name": "python",
   "nbconvert_exporter": "python",
   "pygments_lexer": "ipython3",
   "version": "3.10.0"
  }
 },
 "nbformat": 4,
 "nbformat_minor": 1
}
