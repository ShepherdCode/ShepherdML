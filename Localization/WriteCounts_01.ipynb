{
 "cells": [
  {
   "cell_type": "markdown",
   "metadata": {},
   "source": [
    "# Write K-mer Counts \n",
    "Rewrite sequences as K-mer counts in a binary file.\n",
    "There is no need to repeat the counting every time we train a model."
   ]
  },
  {
   "cell_type": "code",
   "execution_count": 1,
   "metadata": {},
   "outputs": [
    {
     "name": "stdout",
     "output_type": "stream",
     "text": [
      "2022-10-11 09:40:21.311787\n",
      "Python 3.10.0\n"
     ]
    }
   ],
   "source": [
    "from datetime import datetime\n",
    "print(datetime.now())\n",
    "from platform import python_version\n",
    "print('Python',python_version())\n",
    "from csv import reader\n",
    "import numpy as np\n",
    "import math\n",
    "import random"
   ]
  },
  {
   "cell_type": "code",
   "execution_count": 2,
   "metadata": {},
   "outputs": [],
   "source": [
    "from KmerCounter import KmerCounter"
   ]
  },
  {
   "cell_type": "code",
   "execution_count": 3,
   "metadata": {},
   "outputs": [],
   "source": [
    "GENCODE_DIR = '/Users/jasonmiller/WVU/Localization/GenCode/'\n",
    "SEQUENCE_FILE = 'cds_100.csv'   # testing\n",
    "SEQUENCE_FILE = 'Homo_sapiens.GRCh38.cds.csv'"
   ]
  },
  {
   "cell_type": "code",
   "execution_count": 4,
   "metadata": {},
   "outputs": [],
   "source": [
    "def get_output_filenames(K):\n",
    "    text  =f\"cds_100.kmer_counts.k{K}.csv\" # testing\n",
    "    binary=f\"cds_100.kmer_counts.k{K}.npy\"\n",
    "    text  =f\"cds.kmer_counts.k{K}.csv\"\n",
    "    binary=f\"cds.kmer_counts.k{K}.npy\"\n",
    "    return text,binary"
   ]
  },
  {
   "cell_type": "markdown",
   "metadata": {},
   "source": [
    "## Load sequences"
   ]
  },
  {
   "cell_type": "code",
   "execution_count": 5,
   "metadata": {},
   "outputs": [],
   "source": [
    "def load_sequences(gencode_file):\n",
    "    gid_tid = []\n",
    "    tseqs = []\n",
    "    with open(gencode_file,'r') as gencode:\n",
    "        header = None\n",
    "        csv = reader(gencode)\n",
    "        for row in csv:\n",
    "            if header is None:\n",
    "                header = row\n",
    "            else:\n",
    "                tran_id = row[0]\n",
    "                gene_id = row[1]\n",
    "                tseq = row[4]\n",
    "                gid_tid.append ((gene_id,tran_id))\n",
    "                tseqs.append(tseq)\n",
    "    return gid_tid,tseqs"
   ]
  },
  {
   "cell_type": "code",
   "execution_count": 6,
   "metadata": {},
   "outputs": [
    {
     "name": "stdout",
     "output_type": "stream",
     "text": [
      "2022-10-11 09:40:21.665795\n",
      "Number of transcript ID:   98078\n",
      "Number of transcript seqs: 98078\n",
      "2022-10-11 09:40:23.476837\n"
     ]
    }
   ],
   "source": [
    "print(datetime.now())\n",
    "gencode_path = GENCODE_DIR+SEQUENCE_FILE\n",
    "ordered_gid_tid,ordered_seqs = load_sequences(gencode_path)\n",
    "print('Number of transcript ID:  ',len(ordered_gid_tid))\n",
    "print('Number of transcript seqs:',len(ordered_seqs))\n",
    "print(datetime.now())"
   ]
  },
  {
   "cell_type": "markdown",
   "metadata": {},
   "source": [
    "## Make K-mers"
   ]
  },
  {
   "cell_type": "code",
   "execution_count": 7,
   "metadata": {},
   "outputs": [],
   "source": [
    "def make_kmers(counter,ordered_seqs,verbose=True):\n",
    "    # TO DO: for speed, pre-allocate numpy array instead of list.append\n",
    "    example = counter.seq_to_kmer_counts('AAAATTTT')\n",
    "    ordered_kmer_counts = np.empty(len(ordered_seqs),np.ndarray)\n",
    "    tock = 1000\n",
    "    tick = 0\n",
    "    i=0\n",
    "    for seq in ordered_seqs:\n",
    "        if verbose:\n",
    "            tick += 1\n",
    "            if tick >= tock:\n",
    "                tick = 1\n",
    "                print('.',end='')\n",
    "        counts = counter.seq_to_kmer_counts(seq)\n",
    "        ordered_kmer_counts[i]=counts\n",
    "        i += 1\n",
    "    if verbose:\n",
    "        print()\n",
    "    return ordered_kmer_counts"
   ]
  },
  {
   "cell_type": "code",
   "execution_count": 8,
   "metadata": {},
   "outputs": [
    {
     "name": "stdout",
     "output_type": "stream",
     "text": [
      "2022-10-11 09:40:23.522524\n",
      "..................................................................................................\n",
      "2022-10-11 09:50:52.869061\n"
     ]
    }
   ],
   "source": [
    "K=4\n",
    "counter = KmerCounter()\n",
    "counter.setK(K)\n",
    "counter.optimize()\n",
    "print(datetime.now())\n",
    "ordered_kmer_counts=make_kmers(counter,ordered_seqs)\n",
    "print(datetime.now())"
   ]
  },
  {
   "cell_type": "markdown",
   "metadata": {},
   "source": [
    "## Save binary file"
   ]
  },
  {
   "cell_type": "code",
   "execution_count": 9,
   "metadata": {},
   "outputs": [
    {
     "name": "stdout",
     "output_type": "stream",
     "text": [
      "2022-10-11 09:50:52.877616\n",
      "2022-10-11 09:50:53.623184\n"
     ]
    }
   ],
   "source": [
    "# The saved binary file contains...\n",
    "#    numpy array of seqs, with one element per sequence, of...\n",
    "#       numpy array of counts, one 8-bit count per letter \n",
    "\n",
    "print(datetime.now())\n",
    "text_file,binary_file = get_output_filenames(K)\n",
    "OUTPUT_FILE=GENCODE_DIR+binary_file\n",
    "NUMPY_ARRAY = np.asarray(ordered_kmer_counts)\n",
    "np.save(OUTPUT_FILE,NUMPY_ARRAY,allow_pickle=True)\n",
    "print(datetime.now())"
   ]
  },
  {
   "cell_type": "markdown",
   "metadata": {},
   "source": [
    "## Save text file"
   ]
  },
  {
   "cell_type": "code",
   "execution_count": 10,
   "metadata": {},
   "outputs": [],
   "source": [
    "def next_kmer(token)->str:\n",
    "    p = len(token)-1\n",
    "    next_token = list(token)\n",
    "    while p>=0:\n",
    "        if token[p]=='A':\n",
    "            next_token[p]='C'\n",
    "            word=''.join(next_token)\n",
    "            return word\n",
    "        if token[p]=='C':\n",
    "            next_token[p]='G'\n",
    "            word=''.join(next_token)\n",
    "            return word\n",
    "        if token[p]=='G':\n",
    "            next_token[p]='T'\n",
    "            word=''.join(next_token)\n",
    "            return word\n",
    "        if token[p]=='T':\n",
    "            next_token[p]='A'\n",
    "            p = p-1\n",
    "    return None\n",
    "def make_headers(K):\n",
    "    token = 'A'*K\n",
    "    headers='gene_id,transcript_id,'+token\n",
    "    token=next_kmer(token)\n",
    "    while token is not None:\n",
    "        headers = headers + ',' + token\n",
    "        token=next_kmer(token)\n",
    "    return headers"
   ]
  },
  {
   "cell_type": "code",
   "execution_count": 11,
   "metadata": {},
   "outputs": [],
   "source": [
    "text_file,binary_file = get_output_filenames(K)\n",
    "INPUT_BINARY = GENCODE_DIR+binary_file\n",
    "OUTPUT_TEXT = GENCODE_DIR+text_file\n",
    "NUMPY_ARRAY = np.load(INPUT_BINARY,allow_pickle=True)\n",
    "with open(OUTPUT_TEXT,'w') as f:\n",
    "    f.write(make_headers(K))\n",
    "    f.write('\\n')\n",
    "    for line in NUMPY_ARRAY:\n",
    "        i=0\n",
    "        ids = ordered_gid_tid[i]\n",
    "        elements = []\n",
    "        for element in line:\n",
    "            elements.append(str(element))\n",
    "        outline = ids[0]+','+ids[1]+','+','.join(elements)\n",
    "        f.write(outline)\n",
    "        f.write('\\n')\n"
   ]
  },
  {
   "cell_type": "code",
   "execution_count": null,
   "metadata": {},
   "outputs": [],
   "source": []
  },
  {
   "cell_type": "code",
   "execution_count": null,
   "metadata": {},
   "outputs": [],
   "source": []
  }
 ],
 "metadata": {
  "kernelspec": {
   "display_name": "Python 3 (ipykernel)",
   "language": "python",
   "name": "python3"
  },
  "language_info": {
   "codemirror_mode": {
    "name": "ipython",
    "version": 3
   },
   "file_extension": ".py",
   "mimetype": "text/x-python",
   "name": "python",
   "nbconvert_exporter": "python",
   "pygments_lexer": "ipython3",
   "version": "3.10.0"
  }
 },
 "nbformat": 4,
 "nbformat_minor": 2
}
