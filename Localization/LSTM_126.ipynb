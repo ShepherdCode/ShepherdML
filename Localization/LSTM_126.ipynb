{
 "cells": [
  {
   "cell_type": "markdown",
   "metadata": {
    "id": "PG-tGRnlFLA3"
   },
   "source": [
    "# LSTM\n",
    "Same as LSTM_124 but use bidirectional LSTM instead of LSTM."
   ]
  },
  {
   "cell_type": "code",
   "execution_count": 51,
   "metadata": {
    "colab": {
     "base_uri": "https://localhost:8080/"
    },
    "id": "0RmwUsVLFLA6",
    "outputId": "90075c57-9c35-418e-91aa-ed7b402cdc9c"
   },
   "outputs": [
    {
     "name": "stdout",
     "output_type": "stream",
     "text": [
      "2022-12-13 15:40:11.680156\n",
      "Python 3.8.16\n",
      "sklearn 1.0.2\n"
     ]
    }
   ],
   "source": [
    "from datetime import datetime\n",
    "print(datetime.now())\n",
    "from platform import python_version\n",
    "print('Python',python_version())\n",
    "import numpy as np\n",
    "import pandas as pd\n",
    "from matplotlib import pyplot as plt \n",
    "import sklearn   # pip install --upgrade scikit-learn\n",
    "print('sklearn',sklearn.__version__)"
   ]
  },
  {
   "cell_type": "markdown",
   "metadata": {
    "id": "tUtGXPrcFLA8"
   },
   "source": [
    "We prevously used sklearn.model_selection.ShuffleSplit   \n",
    "Now we avoid it due to this note in the \n",
    "[documentation](https://scikit-learn.org/stable/modules/generated/sklearn.model_selection.ShuffleSplit.html):\n",
    "Note: contrary to other cross-validation strategies, random splits do not guarantee that all folds will be different, although this is still very likely for sizeable datasets."
   ]
  },
  {
   "cell_type": "code",
   "execution_count": 52,
   "metadata": {
    "id": "PRX-UEr8FLA8"
   },
   "outputs": [],
   "source": [
    "import tensorflow as tf\n",
    "dt='float32'\n",
    "tf.keras.backend.set_floatx('float32')\n",
    "tf.random.set_seed(42) \n",
    "\n",
    "from tensorflow import keras\n",
    "from sklearn.model_selection import KFold\n",
    "from sklearn.metrics import accuracy_score\n",
    "from sklearn.metrics import precision_score\n",
    "from sklearn.metrics import recall_score\n",
    "from sklearn.metrics import f1_score\n",
    "\n",
    "from keras.models import Sequential\n",
    "from keras.layers import Masking\n",
    "from keras.layers import Embedding\n",
    "from keras.layers import Bidirectional\n",
    "from keras.layers import LSTM\n",
    "from keras.layers import Dense\n",
    "from keras.layers import Dropout\n",
    "from keras.losses import BinaryCrossentropy\n",
    "\n",
    "K=4\n",
    "RCELLS=16\n",
    "EPOCHS=20\n",
    "FOLDS=5      \n",
    "EMBED_DIMEN = 4 # arbitrary hyperparameter\n",
    "BREAK = False   # break after first fold\n",
    "MINLEN=1000\n",
    "MAXLEN=2000   "
   ]
  },
  {
   "cell_type": "code",
   "execution_count": 53,
   "metadata": {
    "colab": {
     "base_uri": "https://localhost:8080/"
    },
    "id": "OlzN9OdsFWEU",
    "outputId": "e02cf4c9-fec6-425d-9b71-ebd5bbbc7104"
   },
   "outputs": [
    {
     "name": "stdout",
     "output_type": "stream",
     "text": [
      "Running on CoLab\n",
      "Drive already mounted at /content/drive/; to attempt to forcibly remount, call drive.mount(\"/content/drive/\", force_remount=True).\n",
      "/content/drive/My Drive/data/Localization/TrainTest/\n"
     ]
    }
   ],
   "source": [
    "try:\n",
    "    from google.colab import drive\n",
    "    IN_COLAB = True\n",
    "    print('Running on CoLab')\n",
    "    PATH='/content/drive/'\n",
    "    drive.mount(PATH)\n",
    "    DATA_DIR=PATH+'My Drive/data/Localization/TrainTest/'  # must end in \"/\"\n",
    "except:\n",
    "    IN_COLAB = False\n",
    "    DATA_DIR = 'D:/Adjeroh/Localization/TrainTest/'   # Windows\n",
    "    DATA_DIR = '/Users/jasonmiller/WVU/Localization/TrainTest/'    # Mac\n",
    "print(DATA_DIR)"
   ]
  },
  {
   "cell_type": "code",
   "execution_count": 54,
   "metadata": {
    "id": "LnkpVKdMFLA-"
   },
   "outputs": [],
   "source": [
    "GENES_FILE =    'CNRCI_coding_train_genes.csv'\n",
    "RCI_FILE =      'CNRCI_coding_train_RCI.gc42.csv'\n",
    "SEQUENCE_FILE = 'CNRCI_coding_train_transcripts.gc42.csv'\n",
    "COUNTS_FILE=    'CNRCI_coding_train_counts.K4.gc42.csv'"
   ]
  },
  {
   "cell_type": "code",
   "execution_count": 55,
   "metadata": {
    "colab": {
     "base_uri": "https://localhost:8080/"
    },
    "id": "e3p4QzQJFLA_",
    "outputId": "6ac5e09a-334f-4690-a5d8-403db35835f2"
   },
   "outputs": [
    {
     "name": "stdout",
     "output_type": "stream",
     "text": [
      "Cell line for today: 1 = H1.hESC\n"
     ]
    }
   ],
   "source": [
    "def get_ordered_list():\n",
    "    ordered_list = \\\n",
    "    ['A549',\\\n",
    "      'H1.hESC',\\\n",
    "      'HeLa.S3',\\\n",
    "      'HepG2',\\\n",
    "      'HT1080',\\\n",
    "      'HUVEC',\\\n",
    "      'MCF.7',\\\n",
    "      'NCI.H460',\\\n",
    "      'NHEK',\\\n",
    "      'SK.MEL.5',\\\n",
    "      'SK.N.DZ',\\\n",
    "      'SK.N.SH',\\\n",
    "      'GM12878',\\\n",
    "      'K562',\\\n",
    "      'IMR.90']\n",
    "    return ordered_list\n",
    "CELL_LINE_NUMBER=1\n",
    "all_cell_lines = get_ordered_list()\n",
    "cell_line_name = all_cell_lines[CELL_LINE_NUMBER]\n",
    "print('Cell line for today:',CELL_LINE_NUMBER,'=',cell_line_name)"
   ]
  },
  {
   "cell_type": "markdown",
   "metadata": {
    "id": "UtqdpJOxFLBA"
   },
   "source": [
    "## Data Load"
   ]
  },
  {
   "cell_type": "code",
   "execution_count": 56,
   "metadata": {
    "colab": {
     "base_uri": "https://localhost:8080/"
    },
    "id": "cYoYDc93FLBB",
    "outputId": "c2cafd36-d463-4c81-e1a2-c4565976a3d4"
   },
   "outputs": [
    {
     "name": "stdout",
     "output_type": "stream",
     "text": [
      "2022-12-13 15:40:14.509663\n",
      "Num RCI: 13000\n",
      "[('ENSG00000000003', 1.85734), ('ENSG00000000005', 5.88264), ('ENSG00000000419', 2.58954)]\n"
     ]
    }
   ],
   "source": [
    "print(datetime.now())\n",
    "# labels\n",
    "filepath = DATA_DIR+RCI_FILE\n",
    "gene_to_rci = {}\n",
    "with open (filepath,'r') as handle:\n",
    "    header = None\n",
    "    for row in handle:\n",
    "        if header is None:\n",
    "            header = row\n",
    "        else:\n",
    "            line = row.strip()\n",
    "            fields = line.split(',')\n",
    "            gene_id = fields[0]\n",
    "            rci_val = fields[CELL_LINE_NUMBER+1]\n",
    "            # Could implement Gudenas style threshold here\n",
    "            if rci_val != \"nan\":\n",
    "                gene_to_rci[gene_id] = float(rci_val)\n",
    "print('Num RCI:', len(gene_to_rci.keys()))\n",
    "print(list(gene_to_rci.items())[:3])\n",
    "all_genes = list(gene_to_rci.keys())"
   ]
  },
  {
   "cell_type": "code",
   "execution_count": 57,
   "metadata": {
    "colab": {
     "base_uri": "https://localhost:8080/"
    },
    "id": "bNrOKHddFycs",
    "outputId": "86224cde-6307-4a09-8a80-db5aeb1609f5"
   },
   "outputs": [
    {
     "name": "stdout",
     "output_type": "stream",
     "text": [
      "[1, 1]\n",
      "[20, 16]\n",
      "[63, 57]\n",
      "[64, 0]\n"
     ]
    }
   ],
   "source": [
    "KMER_VALUES=dict()   # drop this after to save RAM\n",
    "def seq_to_kmer_values(rna,K):\n",
    "    VALS = {'A':0, 'C':1, 'G':2, 'T':3}\n",
    "    length = len(rna)\n",
    "    vec=[]\n",
    "    for i in range(length-K+1):\n",
    "        kmer = rna[i:i+K]\n",
    "        if 'N' in kmer:\n",
    "            value = 0\n",
    "        elif kmer in KMER_VALUES.keys():\n",
    "            value = KMER_VALUES[kmer]\n",
    "        else:\n",
    "            value = 0\n",
    "            for j in range(K):\n",
    "                value *= 4   \n",
    "                nextnuc = kmer[j] \n",
    "                nucval = VALS[nextnuc]\n",
    "                value += nucval\n",
    "            value += 1   # NNN => 0, AAA => 1\n",
    "            KMER_VALUES[kmer] = value\n",
    "        vec.append(value)\n",
    "    return vec\n",
    "print(seq_to_kmer_values('AAAA',3))\n",
    "print(seq_to_kmer_values('CATT',3))\n",
    "print(seq_to_kmer_values('TTGA',3))\n",
    "print(seq_to_kmer_values('TTTN',3))"
   ]
  },
  {
   "cell_type": "code",
   "execution_count": 58,
   "metadata": {
    "colab": {
     "base_uri": "https://localhost:8080/"
    },
    "id": "ooyTeQr-FLBB",
    "outputId": "0f11295f-0fb7-4c17-9bab-557cc27aa00d"
   },
   "outputs": [
    {
     "name": "stdout",
     "output_type": "stream",
     "text": [
      "2022-12-13 15:40:14.598346\n",
      "Load sequence\n",
      "2022-12-13 15:40:23.890170\n",
      "Num IDs: 13143\n",
      "Num labels: 13143\n",
      "Num counts: 13143\n"
     ]
    }
   ],
   "source": [
    "print(datetime.now())\n",
    "print('Load sequence')\n",
    "filepath = DATA_DIR+SEQUENCE_FILE\n",
    "labels=[]\n",
    "allids=[]\n",
    "allseq=[]\n",
    "NREPEAT = str('N'*MAXLEN)\n",
    "with open (filepath,'r') as handle:\n",
    "    header = None\n",
    "    for row in handle:\n",
    "        if header is None:\n",
    "            header = row\n",
    "        else:\n",
    "            line    = row.strip()\n",
    "            fields  = line.split(',')\n",
    "            tran_id = fields[0]  # with version number\n",
    "            gene_id = fields[1]        # without version number\n",
    "            seq_len = int(fields[3])\n",
    "            seq_txt = fields[4]\n",
    "            if seq_len>=MINLEN and seq_len<=MAXLEN and gene_id in gene_to_rci.keys():\n",
    "                rci_val = gene_to_rci[gene_id]\n",
    "                allids.append( (gene_id,tran_id) )\n",
    "                labels.append(rci_val)\n",
    "                if seq_len<MAXLEN:\n",
    "                    seq_txt = seq_txt + NREPEAT\n",
    "                    seq_txt = seq_txt[:MAXLEN]\n",
    "                hot_vec = seq_to_kmer_values(seq_txt,K)\n",
    "                allseq.append(hot_vec)\n",
    "print(datetime.now())\n",
    "KMER_VALUES=dict()   # drop this after to save RAM\n",
    "\n",
    "print('Num IDs:',len(allids))\n",
    "#print('Examples:',[allids[x] for x in [10, 20, 30, 40]] )\n",
    "print('Num labels:',len(labels))\n",
    "#print('Examples:',[labels[x] for x in [10, 20, 30, 40]] )\n",
    "print('Num counts:',len(allseq))\n",
    "#print('Example:',allseq[3])"
   ]
  },
  {
   "cell_type": "code",
   "execution_count": 59,
   "metadata": {
    "id": "W9xiFzNbFLBE"
   },
   "outputs": [],
   "source": [
    "def get_gene_subset(all_genes,sub_index):\n",
    "    sub_genes = set()\n",
    "    for index in sub_index:\n",
    "        one_gene = all_genes[index]\n",
    "        sub_genes.add(one_gene)\n",
    "    return sub_genes\n",
    "def get_X_y(gene_set,allids,allX,allY,threshold):\n",
    "    cnt = len(allids)\n",
    "    subsetX=[]\n",
    "    subsetY=[]\n",
    "    if cnt != len(allX) or cnt!= len(allY):\n",
    "        raise Exception('Lengths differ')\n",
    "    for i in range(cnt):\n",
    "        gene_id,tran_id = allids[i]\n",
    "        if gene_id in gene_set:\n",
    "            oneX = allX[i]\n",
    "            oneY = allY[i]\n",
    "            if oneY < threshold:\n",
    "                Yvalue = int(0)\n",
    "            else:\n",
    "                Yvalue = int(1)\n",
    "            subsetX.append(oneX)\n",
    "            subsetY.append(Yvalue)\n",
    "    subsetX = np.array(subsetX)\n",
    "    subsetY = np.array(subsetY).reshape((-1,1))\n",
    "    return subsetX,subsetY"
   ]
  },
  {
   "cell_type": "code",
   "execution_count": 60,
   "metadata": {
    "id": "AwMbRjm0FLBF"
   },
   "outputs": [],
   "source": [
    "def build_model():\n",
    "    ALPHABET=4**K+1  # NUMBER OF DISTINCT KMERS POSSIBLE, add one if N gets mask value\n",
    "    ADJUST_LENGTH = MAXLEN-K+1  # fixed length sequences\n",
    "    rnn = Sequential()\n",
    "    # To do: try with and without masking layer\n",
    "    # To do: try the embedding layer with mask, instead of masking layer\n",
    "    #mask_layer = Masking(mask_value=0, input_shape=(ADJUST_LENGTH, K))\n",
    "    #mask_layer = Masking(mask_value=0, input_shape=(ADJUST_LENGTH, 1))\n",
    "    # This layer automatically converts inputs to one-hot using alphabet size.\n",
    "    embed_layer = Embedding(ALPHABET,EMBED_DIMEN,input_length=ADJUST_LENGTH,mask_zero=True)   \n",
    "    # rnn1_layer = LSTM(16, return_sequences=True, input_shape=[MAXLEN,DIMEN]) \n",
    "    # rnn1_layer = LSTM(RCELLS, return_sequences=False) # True)\n",
    "    rnn1_layer = Bidirectional( LSTM(RCELLS, return_sequences=False) )\n",
    "    # rnn1_layer = LSTM(16, return_sequences=True) \n",
    "    # rnn2_layer = LSTM(16, return_sequences=True)\n",
    "    # Dense can handle sequence input. Is it the best thing to do?\n",
    "    #dense1_layer = Dense(16,activation='sigmoid',dtype=dt)\n",
    "    #dropout1_layer = Dropout(0.25)\n",
    "    output_layer = Dense(1,activation='sigmoid',dtype=dt)\n",
    "\n",
    "    #rnn.add(mask_layer)\n",
    "    rnn.add(embed_layer)\n",
    "    rnn.add(rnn1_layer)\n",
    "    #rnn.add(rnn2_layer)\n",
    "    #rnn.add(dense1_layer)\n",
    "    #rnn.add(dropout1_layer)\n",
    "    #rnn.add(dense2_layer)\n",
    "    rnn.add(output_layer)\n",
    "\n",
    "    bc=BinaryCrossentropy(from_logits=False)\n",
    "    print(\"COMPILE\")\n",
    "    rnn.compile(loss=bc, optimizer=\"Adam\",metrics=[\"accuracy\"])\n",
    "    return rnn"
   ]
  },
  {
   "cell_type": "code",
   "execution_count": 61,
   "metadata": {
    "colab": {
     "base_uri": "https://localhost:8080/"
    },
    "id": "clj-wufgFLBF",
    "outputId": "67653d58-e261-41b8-8551-e8998bbf5b88"
   },
   "outputs": [
    {
     "name": "stdout",
     "output_type": "stream",
     "text": [
      "2022-12-13 15:40:23.935784\n",
      "COMPILE\n",
      "Model: \"sequential_12\"\n",
      "_________________________________________________________________\n",
      " Layer (type)                Output Shape              Param #   \n",
      "=================================================================\n",
      " embedding_12 (Embedding)    (None, 1997, 4)           1028      \n",
      "                                                                 \n",
      " bidirectional (Bidirectiona  (None, 32)               2688      \n",
      " l)                                                              \n",
      "                                                                 \n",
      " dense_12 (Dense)            (None, 1)                 33        \n",
      "                                                                 \n",
      "=================================================================\n",
      "Total params: 3,749\n",
      "Trainable params: 3,749\n",
      "Non-trainable params: 0\n",
      "_________________________________________________________________\n",
      "None\n"
     ]
    }
   ],
   "source": [
    "print(datetime.now())\n",
    "model=build_model()\n",
    "print(model.summary())  # Print this only once"
   ]
  },
  {
   "cell_type": "code",
   "execution_count": 62,
   "metadata": {
    "colab": {
     "base_uri": "https://localhost:8080/"
    },
    "id": "CqO0a9evFLBG",
    "outputId": "07f96b81-e9f7-441c-ec01-9ef8ba09772e"
   },
   "outputs": [
    {
     "name": "stdout",
     "output_type": "stream",
     "text": [
      "2022-12-13 15:40:25.652652\n"
     ]
    }
   ],
   "source": [
    "def do_cross_validation(eps):\n",
    "    cv_accuracy=[]\n",
    "    cv_precision=[]\n",
    "    cv_recall=[]\n",
    "    cv_f1=[]\n",
    "    fold=0\n",
    "    print(datetime.now())\n",
    "    print('splitting')\n",
    "    # KFold shuffles once before making the partitions\n",
    "    splitter = KFold(n_splits=FOLDS,shuffle=True,random_state=42)\n",
    "    for train_index,valid_index in splitter.split(all_genes):\n",
    "        fold += 1\n",
    "        print('Fold',fold)\n",
    "        train_genes = get_gene_subset(all_genes,train_index)\n",
    "        valid_genes = get_gene_subset(all_genes,valid_index)\n",
    "        X_train,y_train = get_X_y(train_genes,allids,allseq,labels,0)\n",
    "        X_valid,y_valid = get_X_y(valid_genes,allids,allseq,labels,0)\n",
    "\n",
    "        print('Training example')\n",
    "        print(X_train[0])\n",
    "        \n",
    "        print('Train sizes',X_train.shape,y_train.shape)\n",
    "        print('Valid sizes',X_valid.shape,y_valid.shape)\n",
    "        print('Train set ones/size',\n",
    "              np.count_nonzero(y_train),'/',len(y_train))\n",
    "        print('Valid set ones/size',\n",
    "              np.count_nonzero(y_valid),'/',len(y_valid))\n",
    "\n",
    "        print(\"BUILD MODEL\")\n",
    "        model=build_model()\n",
    "\n",
    "        print(\"FIT\")\n",
    "        print(datetime.now())\n",
    "        history=model.fit(X_train, y_train, # batch_size=10, default=32 works nicely\n",
    "                epochs=EPOCHS, verbose=1,  # verbose=1 for ascii art, verbose=0 for none\n",
    "                validation_data=(X_valid,y_valid) )\n",
    "\n",
    "        pd.DataFrame(history.history).plot(figsize=(8,5))\n",
    "        plt.grid(True)\n",
    "        plt.gca().set_ylim(0,1)\n",
    "        plt.show()\n",
    "\n",
    "        print(\"Compute valiation accuracy\")\n",
    "        print(datetime.now())\n",
    "        yhat_pred=model.predict(X_valid, verbose=0) \n",
    "        print('Range of scores:',np.min(yhat_pred),'to',np.max(yhat_pred))\n",
    "        THRESHOLD=0.5\n",
    "        yhat_classes=np.where(yhat_pred > THRESHOLD, 1, 0)\n",
    "        print('Predicted zeros and ones',np.count_nonzero(yhat_classes==0),np.count_nonzero(yhat_classes==1))\n",
    "        # accuracy: (tp + tn) / (p + n)\n",
    "        accuracy = accuracy_score(y_valid, yhat_classes)*100.\n",
    "        # precision tp / (tp + fp)\n",
    "        precision = precision_score(y_valid, yhat_classes)*100.\n",
    "        # recall: tp / (tp + fn)\n",
    "        recall = recall_score(y_valid, yhat_classes)*100.\n",
    "        # f1: 2 tp / (2 tp + fp + fn)\n",
    "        f1 = f1_score(y_valid, yhat_classes)*100.\n",
    "        print('Accuracy: %.2f%% Precision: %.2f%% Recall: %.2f%% F1: %.2f%%' % (accuracy,precision,recall,f1)) \n",
    "        print(datetime.now())\n",
    "        cv_accuracy.append(accuracy)\n",
    "        cv_precision.append(precision)\n",
    "        cv_recall.append(recall)\n",
    "        cv_f1.append(f1)\n",
    "        \n",
    "        if BREAK:\n",
    "            break\n",
    "        \n",
    "    print()\n",
    "    return cv_accuracy, cv_precision, cv_recall, cv_f1\n",
    "\n",
    "print(datetime.now())"
   ]
  },
  {
   "cell_type": "code",
   "execution_count": 63,
   "metadata": {
    "colab": {
     "base_uri": "https://localhost:8080/",
     "height": 1000
    },
    "id": "XC9m0W-pFLBH",
    "outputId": "e997a1bb-e737-41df-86e8-87ceb8e27224",
    "scrolled": false
   },
   "outputs": [
    {
     "name": "stdout",
     "output_type": "stream",
     "text": [
      "2022-12-13 15:40:25.668142\n",
      "2022-12-13 15:40:25.668252\n",
      "splitting\n",
      "Fold 1\n",
      "Training example\n",
      "[ 60 238 182 ...   0   0   0]\n",
      "Train sizes (10521, 1997) (10521, 1)\n",
      "Valid sizes (2622, 1997) (2622, 1)\n",
      "Train set ones/size 5687 / 10521\n",
      "Valid set ones/size 1362 / 2622\n",
      "BUILD MODEL\n",
      "COMPILE\n",
      "FIT\n",
      "2022-12-13 15:40:29.627077\n",
      "Epoch 1/20\n",
      "329/329 [==============================] - 47s 122ms/step - loss: 0.6652 - accuracy: 0.5892 - val_loss: 0.6548 - val_accuracy: 0.6121\n",
      "Epoch 2/20\n",
      "329/329 [==============================] - 39s 118ms/step - loss: 0.6349 - accuracy: 0.6430 - val_loss: 0.7518 - val_accuracy: 0.6152\n",
      "Epoch 3/20\n",
      "329/329 [==============================] - 38s 114ms/step - loss: 0.6316 - accuracy: 0.6490 - val_loss: 0.6529 - val_accuracy: 0.6064\n",
      "Epoch 4/20\n",
      "329/329 [==============================] - 38s 114ms/step - loss: 0.6276 - accuracy: 0.6506 - val_loss: 0.6515 - val_accuracy: 0.6201\n",
      "Epoch 5/20\n",
      "329/329 [==============================] - 38s 114ms/step - loss: 0.6228 - accuracy: 0.6634 - val_loss: 0.6440 - val_accuracy: 0.6423\n",
      "Epoch 6/20\n",
      "329/329 [==============================] - 38s 115ms/step - loss: 0.6232 - accuracy: 0.6630 - val_loss: 0.6523 - val_accuracy: 0.6270\n",
      "Epoch 7/20\n",
      "329/329 [==============================] - 39s 119ms/step - loss: 0.6304 - accuracy: 0.6503 - val_loss: 0.6627 - val_accuracy: 0.6087\n",
      "Epoch 8/20\n",
      "329/329 [==============================] - 38s 114ms/step - loss: 0.6144 - accuracy: 0.6675 - val_loss: 0.6982 - val_accuracy: 0.5770\n",
      "Epoch 9/20\n",
      "329/329 [==============================] - 38s 115ms/step - loss: 0.6054 - accuracy: 0.6771 - val_loss: 0.6458 - val_accuracy: 0.6564\n",
      "Epoch 10/20\n",
      "329/329 [==============================] - 38s 115ms/step - loss: 0.6234 - accuracy: 0.6487 - val_loss: 0.6837 - val_accuracy: 0.5545\n",
      "Epoch 11/20\n",
      "329/329 [==============================] - 38s 114ms/step - loss: 0.6503 - accuracy: 0.6205 - val_loss: 0.6771 - val_accuracy: 0.5866\n",
      "Epoch 12/20\n",
      "329/329 [==============================] - 38s 116ms/step - loss: 0.6210 - accuracy: 0.6611 - val_loss: 0.6553 - val_accuracy: 0.6358\n",
      "Epoch 13/20\n",
      "329/329 [==============================] - 38s 114ms/step - loss: 0.6066 - accuracy: 0.6732 - val_loss: 0.6744 - val_accuracy: 0.6117\n",
      "Epoch 14/20\n",
      "329/329 [==============================] - 38s 115ms/step - loss: 0.6024 - accuracy: 0.6747 - val_loss: 0.6568 - val_accuracy: 0.6320\n",
      "Epoch 15/20\n",
      "329/329 [==============================] - 38s 115ms/step - loss: 0.6616 - accuracy: 0.6151 - val_loss: 0.6914 - val_accuracy: 0.5576\n",
      "Epoch 16/20\n",
      "329/329 [==============================] - 39s 118ms/step - loss: 0.6501 - accuracy: 0.6225 - val_loss: 0.6904 - val_accuracy: 0.5648\n",
      "Epoch 17/20\n",
      "329/329 [==============================] - 38s 114ms/step - loss: 0.6396 - accuracy: 0.6304 - val_loss: 0.6774 - val_accuracy: 0.5782\n",
      "Epoch 18/20\n",
      "329/329 [==============================] - 38s 115ms/step - loss: 0.6449 - accuracy: 0.6353 - val_loss: 0.6907 - val_accuracy: 0.5538\n",
      "Epoch 19/20\n",
      "329/329 [==============================] - 38s 114ms/step - loss: 0.6616 - accuracy: 0.6022 - val_loss: 0.6916 - val_accuracy: 0.5584\n",
      "Epoch 20/20\n",
      "329/329 [==============================] - 38s 115ms/step - loss: 0.6482 - accuracy: 0.6202 - val_loss: 0.6895 - val_accuracy: 0.5721\n"
     ]
    },
    {
     "data": {
      "image/png": "[encoded data removed]",
      "text/plain": [
       "<Figure size 576x360 with 1 Axes>"
      ]
     },
     "metadata": {
      "needs_background": "light"
     },
     "output_type": "display_data"
    },
    {
     "name": "stdout",
     "output_type": "stream",
     "text": [
      "Compute valiation accuracy\n",
      "2022-12-13 15:53:16.447272\n",
      "Range of scores: 0.19390333 to 0.82476157\n",
      "Predicted zeros and ones 622 2000\n",
      "Accuracy: 57.21% Precision: 56.00% Recall: 82.23% F1: 66.63%\n",
      "2022-12-13 15:53:23.638757\n",
      "Fold 2\n",
      "Training example\n",
      "[ 60 238 182 ...   0   0   0]\n",
      "Train sizes (10474, 1997) (10474, 1)\n",
      "Valid sizes (2669, 1997) (2669, 1)\n",
      "Train set ones/size 5545 / 10474\n",
      "Valid set ones/size 1504 / 2669\n",
      "BUILD MODEL\n",
      "COMPILE\n",
      "FIT\n",
      "2022-12-13 15:53:26.709482\n",
      "Epoch 1/20\n",
      "328/328 [==============================] - 47s 121ms/step - loss: 0.6758 - accuracy: 0.5846 - val_loss: 0.6508 - val_accuracy: 0.6302\n",
      "Epoch 2/20\n",
      "328/328 [==============================] - 37s 114ms/step - loss: 0.6467 - accuracy: 0.6410 - val_loss: 0.6527 - val_accuracy: 0.6242\n",
      "Epoch 3/20\n",
      "328/328 [==============================] - 38s 114ms/step - loss: 0.6717 - accuracy: 0.5898 - val_loss: 0.6714 - val_accuracy: 0.6186\n",
      "Epoch 4/20\n",
      "328/328 [==============================] - 39s 118ms/step - loss: 0.6476 - accuracy: 0.6322 - val_loss: 0.6399 - val_accuracy: 0.6358\n",
      "Epoch 5/20\n",
      "328/328 [==============================] - 37s 114ms/step - loss: 0.6384 - accuracy: 0.6521 - val_loss: 0.6484 - val_accuracy: 0.6253\n",
      "Epoch 6/20\n",
      "328/328 [==============================] - 38s 114ms/step - loss: 0.6323 - accuracy: 0.6557 - val_loss: 0.6318 - val_accuracy: 0.6647\n",
      "Epoch 7/20\n",
      "328/328 [==============================] - 37s 114ms/step - loss: 0.6321 - accuracy: 0.6530 - val_loss: 0.6338 - val_accuracy: 0.6561\n",
      "Epoch 8/20\n",
      "328/328 [==============================] - 38s 115ms/step - loss: 0.6361 - accuracy: 0.6496 - val_loss: 0.6650 - val_accuracy: 0.6287\n",
      "Epoch 9/20\n",
      "328/328 [==============================] - 37s 114ms/step - loss: 0.6447 - accuracy: 0.6314 - val_loss: 0.6418 - val_accuracy: 0.6253\n",
      "Epoch 10/20\n",
      "328/328 [==============================] - 37s 114ms/step - loss: 0.6250 - accuracy: 0.6560 - val_loss: 0.6277 - val_accuracy: 0.6474\n",
      "Epoch 11/20\n",
      "328/328 [==============================] - 38s 114ms/step - loss: 0.6289 - accuracy: 0.6584 - val_loss: 0.6579 - val_accuracy: 0.6133\n",
      "Epoch 12/20\n",
      "328/328 [==============================] - 38s 116ms/step - loss: 0.6499 - accuracy: 0.6234 - val_loss: 0.7216 - val_accuracy: 0.5043\n",
      "Epoch 13/20\n",
      "328/328 [==============================] - 39s 117ms/step - loss: 0.6417 - accuracy: 0.6350 - val_loss: 0.6362 - val_accuracy: 0.6426\n",
      "Epoch 14/20\n",
      "328/328 [==============================] - 37s 114ms/step - loss: 0.6171 - accuracy: 0.6608 - val_loss: 0.6389 - val_accuracy: 0.6280\n",
      "Epoch 15/20\n",
      "328/328 [==============================] - 38s 116ms/step - loss: 0.6540 - accuracy: 0.6158 - val_loss: 0.6814 - val_accuracy: 0.5789\n",
      "Epoch 16/20\n",
      "328/328 [==============================] - 38s 116ms/step - loss: 0.6452 - accuracy: 0.6281 - val_loss: 0.6377 - val_accuracy: 0.6347\n",
      "Epoch 17/20\n",
      "328/328 [==============================] - 37s 114ms/step - loss: 0.6231 - accuracy: 0.6591 - val_loss: 0.6241 - val_accuracy: 0.6527\n",
      "Epoch 18/20\n",
      "328/328 [==============================] - 37s 112ms/step - loss: 0.6027 - accuracy: 0.6771 - val_loss: 0.6341 - val_accuracy: 0.6463\n",
      "Epoch 19/20\n",
      "328/328 [==============================] - 37s 113ms/step - loss: 0.6337 - accuracy: 0.6508 - val_loss: 0.6421 - val_accuracy: 0.6358\n",
      "Epoch 20/20\n",
      "328/328 [==============================] - 37s 113ms/step - loss: 0.6061 - accuracy: 0.6797 - val_loss: 0.6414 - val_accuracy: 0.6467\n"
     ]
    },
    {
     "data": {
      "image/png": "[encoded data removed]",
      "text/plain": [
       "<Figure size 576x360 with 1 Axes>"
      ]
     },
     "metadata": {
      "needs_background": "light"
     },
     "output_type": "display_data"
    },
    {
     "name": "stdout",
     "output_type": "stream",
     "text": [
      "Compute valiation accuracy\n",
      "2022-12-13 16:06:07.185388\n",
      "Range of scores: 0.133329 to 0.8743337\n",
      "Predicted zeros and ones 794 1875\n",
      "Accuracy: 64.67% Precision: 64.96% Recall: 80.98% F1: 72.09%\n",
      "2022-12-13 16:06:13.411406\n",
      "Fold 3\n",
      "Training example\n",
      "[ 60 238 182 ...   0   0   0]\n",
      "Train sizes (10563, 1997) (10563, 1)\n",
      "Valid sizes (2580, 1997) (2580, 1)\n",
      "Train set ones/size 5740 / 10563\n",
      "Valid set ones/size 1309 / 2580\n",
      "BUILD MODEL\n",
      "COMPILE\n",
      "FIT\n",
      "2022-12-13 16:06:16.494325\n",
      "Epoch 1/20\n",
      "331/331 [==============================] - 47s 120ms/step - loss: 0.6632 - accuracy: 0.5933 - val_loss: 0.6772 - val_accuracy: 0.5709\n",
      "Epoch 2/20\n",
      "331/331 [==============================] - 38s 116ms/step - loss: 0.6414 - accuracy: 0.6322 - val_loss: 0.6636 - val_accuracy: 0.6159\n",
      "Epoch 3/20\n",
      "331/331 [==============================] - 37s 113ms/step - loss: 0.6238 - accuracy: 0.6556 - val_loss: 0.6412 - val_accuracy: 0.6360\n",
      "Epoch 4/20\n",
      "331/331 [==============================] - 37s 112ms/step - loss: 0.6159 - accuracy: 0.6628 - val_loss: 0.6354 - val_accuracy: 0.6411\n",
      "Epoch 5/20\n",
      "331/331 [==============================] - 37s 113ms/step - loss: 0.6112 - accuracy: 0.6687 - val_loss: 0.6537 - val_accuracy: 0.6333\n",
      "Epoch 6/20\n",
      "331/331 [==============================] - 37s 112ms/step - loss: 0.6060 - accuracy: 0.6727 - val_loss: 0.6495 - val_accuracy: 0.6322\n",
      "Epoch 7/20\n",
      "331/331 [==============================] - 38s 114ms/step - loss: 0.6224 - accuracy: 0.6514 - val_loss: 0.7037 - val_accuracy: 0.5519\n",
      "Epoch 8/20\n",
      "331/331 [==============================] - 37s 113ms/step - loss: 0.6248 - accuracy: 0.6597 - val_loss: 0.6714 - val_accuracy: 0.6058\n",
      "Epoch 9/20\n",
      "331/331 [==============================] - 38s 114ms/step - loss: 0.6093 - accuracy: 0.6682 - val_loss: 0.6551 - val_accuracy: 0.6291\n",
      "Epoch 10/20\n",
      "331/331 [==============================] - 37s 113ms/step - loss: 0.6095 - accuracy: 0.6680 - val_loss: 0.6501 - val_accuracy: 0.6372\n",
      "Epoch 11/20\n",
      "331/331 [==============================] - 39s 117ms/step - loss: 0.6014 - accuracy: 0.6768 - val_loss: 0.6517 - val_accuracy: 0.6306\n",
      "Epoch 12/20\n",
      "331/331 [==============================] - 37s 113ms/step - loss: 0.5951 - accuracy: 0.6843 - val_loss: 0.6463 - val_accuracy: 0.6430\n",
      "Epoch 13/20\n",
      "331/331 [==============================] - 38s 114ms/step - loss: 0.6376 - accuracy: 0.6360 - val_loss: 0.6772 - val_accuracy: 0.5895\n",
      "Epoch 14/20\n",
      "331/331 [==============================] - 37s 113ms/step - loss: 0.6380 - accuracy: 0.6316 - val_loss: 0.6758 - val_accuracy: 0.6050\n",
      "Epoch 15/20\n",
      "331/331 [==============================] - 39s 117ms/step - loss: 0.6316 - accuracy: 0.6425 - val_loss: 0.6858 - val_accuracy: 0.6016\n",
      "Epoch 16/20\n",
      "331/331 [==============================] - 39s 117ms/step - loss: 0.6302 - accuracy: 0.6426 - val_loss: 0.6708 - val_accuracy: 0.6105\n",
      "Epoch 17/20\n",
      "331/331 [==============================] - 38s 114ms/step - loss: 0.6165 - accuracy: 0.6552 - val_loss: 0.6652 - val_accuracy: 0.6101\n",
      "Epoch 18/20\n",
      "331/331 [==============================] - 38s 115ms/step - loss: 0.6073 - accuracy: 0.6677 - val_loss: 0.6594 - val_accuracy: 0.6205\n",
      "Epoch 19/20\n",
      "331/331 [==============================] - 40s 120ms/step - loss: 0.6027 - accuracy: 0.6720 - val_loss: 0.6700 - val_accuracy: 0.6233\n",
      "Epoch 20/20\n",
      "331/331 [==============================] - 38s 116ms/step - loss: 0.6068 - accuracy: 0.6635 - val_loss: 0.6654 - val_accuracy: 0.6186\n"
     ]
    },
    {
     "data": {
      "image/png": "[encoded data removed]",
      "text/plain": [
       "<Figure size 576x360 with 1 Axes>"
      ]
     },
     "metadata": {
      "needs_background": "light"
     },
     "output_type": "display_data"
    },
    {
     "name": "stdout",
     "output_type": "stream",
     "text": [
      "Compute valiation accuracy\n",
      "2022-12-13 16:19:04.729376\n",
      "Range of scores: 0.09108215 to 0.9166542\n",
      "Predicted zeros and ones 1545 1035\n",
      "Accuracy: 61.86% Precision: 65.70% Recall: 51.95% F1: 58.02%\n",
      "2022-12-13 16:19:11.991065\n",
      "Fold 4\n",
      "Training example\n",
      "[ 60 238 182 ...   0   0   0]\n",
      "Train sizes (10478, 1997) (10478, 1)\n",
      "Valid sizes (2665, 1997) (2665, 1)\n",
      "Train set ones/size 5659 / 10478\n",
      "Valid set ones/size 1390 / 2665\n",
      "BUILD MODEL\n",
      "COMPILE\n",
      "FIT\n",
      "2022-12-13 16:19:15.103218\n",
      "Epoch 1/20\n",
      "328/328 [==============================] - 48s 121ms/step - loss: 0.6802 - accuracy: 0.5638 - val_loss: 0.6711 - val_accuracy: 0.6195\n",
      "Epoch 2/20\n",
      "328/328 [==============================] - 38s 115ms/step - loss: 0.6523 - accuracy: 0.6328 - val_loss: 0.6666 - val_accuracy: 0.6120\n",
      "Epoch 3/20\n",
      "328/328 [==============================] - 38s 115ms/step - loss: 0.6577 - accuracy: 0.6179 - val_loss: 0.6734 - val_accuracy: 0.5704\n",
      "Epoch 4/20\n",
      "328/328 [==============================] - 38s 114ms/step - loss: 0.6614 - accuracy: 0.6015 - val_loss: 0.6778 - val_accuracy: 0.5580\n",
      "Epoch 5/20\n",
      "328/328 [==============================] - 37s 114ms/step - loss: 0.6523 - accuracy: 0.6163 - val_loss: 0.6688 - val_accuracy: 0.6124\n",
      "Epoch 6/20\n",
      "328/328 [==============================] - 38s 116ms/step - loss: 0.6742 - accuracy: 0.5785 - val_loss: 0.6818 - val_accuracy: 0.5568\n",
      "Epoch 7/20\n",
      "328/328 [==============================] - 38s 117ms/step - loss: 0.6534 - accuracy: 0.6148 - val_loss: 0.6643 - val_accuracy: 0.5989\n",
      "Epoch 8/20\n",
      "328/328 [==============================] - 38s 114ms/step - loss: 0.6516 - accuracy: 0.6248 - val_loss: 0.6708 - val_accuracy: 0.5932\n",
      "Epoch 9/20\n",
      "328/328 [==============================] - 37s 114ms/step - loss: 0.6431 - accuracy: 0.6327 - val_loss: 0.6525 - val_accuracy: 0.6161\n",
      "Epoch 10/20\n",
      "328/328 [==============================] - 37s 114ms/step - loss: 0.6353 - accuracy: 0.6422 - val_loss: 0.6617 - val_accuracy: 0.5985\n",
      "Epoch 11/20\n",
      "328/328 [==============================] - 37s 113ms/step - loss: 0.6490 - accuracy: 0.6215 - val_loss: 0.6849 - val_accuracy: 0.5490\n",
      "Epoch 12/20\n",
      "328/328 [==============================] - 38s 116ms/step - loss: 0.6372 - accuracy: 0.6422 - val_loss: 0.6579 - val_accuracy: 0.6150\n",
      "Epoch 13/20\n",
      "328/328 [==============================] - 38s 115ms/step - loss: 0.6389 - accuracy: 0.6406 - val_loss: 0.6701 - val_accuracy: 0.5775\n",
      "Epoch 14/20\n",
      "328/328 [==============================] - 38s 116ms/step - loss: 0.6703 - accuracy: 0.5990 - val_loss: 0.6459 - val_accuracy: 0.6236\n",
      "Epoch 15/20\n",
      "328/328 [==============================] - 38s 117ms/step - loss: 0.6485 - accuracy: 0.6171 - val_loss: 0.6471 - val_accuracy: 0.6236\n",
      "Epoch 16/20\n",
      "328/328 [==============================] - 40s 121ms/step - loss: 0.6227 - accuracy: 0.6566 - val_loss: 0.6454 - val_accuracy: 0.6315\n",
      "Epoch 17/20\n",
      "328/328 [==============================] - 39s 118ms/step - loss: 0.6358 - accuracy: 0.6350 - val_loss: 0.6818 - val_accuracy: 0.5535\n",
      "Epoch 18/20\n",
      "328/328 [==============================] - 40s 121ms/step - loss: 0.6594 - accuracy: 0.6085 - val_loss: 0.6746 - val_accuracy: 0.5707\n",
      "Epoch 19/20\n",
      "328/328 [==============================] - 40s 121ms/step - loss: 0.6335 - accuracy: 0.6451 - val_loss: 0.6493 - val_accuracy: 0.6259\n",
      "Epoch 20/20\n",
      "328/328 [==============================] - 40s 121ms/step - loss: 0.6124 - accuracy: 0.6674 - val_loss: 0.6473 - val_accuracy: 0.6300\n"
     ]
    },
    {
     "data": {
      "image/png": "[encoded data removed]",
      "text/plain": [
       "<Figure size 576x360 with 1 Axes>"
      ]
     },
     "metadata": {
      "needs_background": "light"
     },
     "output_type": "display_data"
    },
    {
     "name": "stdout",
     "output_type": "stream",
     "text": [
      "Compute valiation accuracy\n",
      "2022-12-13 16:32:44.262618\n",
      "Range of scores: 0.118632786 to 0.8977523\n",
      "Predicted zeros and ones 1105 1560\n",
      "Accuracy: 63.00% Precision: 62.95% Recall: 70.65% F1: 66.58%\n",
      "2022-12-13 16:32:50.656535\n",
      "Fold 5\n",
      "Training example\n",
      "[169 161 129 ...   0   0   0]\n",
      "Train sizes (10536, 1997) (10536, 1)\n",
      "Valid sizes (2607, 1997) (2607, 1)\n",
      "Train set ones/size 5565 / 10536\n",
      "Valid set ones/size 1484 / 2607\n",
      "BUILD MODEL\n",
      "COMPILE\n",
      "FIT\n",
      "2022-12-13 16:32:53.724627\n",
      "Epoch 1/20\n",
      "330/330 [==============================] - 50s 126ms/step - loss: 0.6768 - accuracy: 0.5693 - val_loss: 0.6312 - val_accuracy: 0.6747\n",
      "Epoch 2/20\n",
      "330/330 [==============================] - 40s 122ms/step - loss: 0.6497 - accuracy: 0.6317 - val_loss: 0.6328 - val_accuracy: 0.6770\n",
      "Epoch 3/20\n",
      "330/330 [==============================] - 39s 120ms/step - loss: 0.6685 - accuracy: 0.5997 - val_loss: 0.6344 - val_accuracy: 0.6717\n",
      "Epoch 4/20\n",
      "330/330 [==============================] - 39s 119ms/step - loss: 0.6602 - accuracy: 0.6114 - val_loss: 0.6755 - val_accuracy: 0.5773\n",
      "Epoch 5/20\n",
      "330/330 [==============================] - 39s 119ms/step - loss: 0.6698 - accuracy: 0.5851 - val_loss: 0.6643 - val_accuracy: 0.5980\n",
      "Epoch 6/20\n",
      "330/330 [==============================] - 39s 119ms/step - loss: 0.6673 - accuracy: 0.5918 - val_loss: 0.6660 - val_accuracy: 0.5911\n",
      "Epoch 7/20\n",
      "330/330 [==============================] - 39s 120ms/step - loss: 0.6604 - accuracy: 0.6023 - val_loss: 0.6794 - val_accuracy: 0.5654\n",
      "Epoch 8/20\n",
      "330/330 [==============================] - 39s 119ms/step - loss: 0.6607 - accuracy: 0.6027 - val_loss: 0.6516 - val_accuracy: 0.6145\n",
      "Epoch 9/20\n",
      "330/330 [==============================] - 39s 120ms/step - loss: 0.6539 - accuracy: 0.6129 - val_loss: 0.6543 - val_accuracy: 0.6260\n",
      "Epoch 10/20\n",
      "330/330 [==============================] - 40s 122ms/step - loss: 0.6496 - accuracy: 0.6208 - val_loss: 0.6416 - val_accuracy: 0.6295\n",
      "Epoch 11/20\n",
      "330/330 [==============================] - 39s 119ms/step - loss: 0.6378 - accuracy: 0.6366 - val_loss: 0.6478 - val_accuracy: 0.6252\n",
      "Epoch 12/20\n",
      "330/330 [==============================] - 39s 119ms/step - loss: 0.6275 - accuracy: 0.6511 - val_loss: 0.6241 - val_accuracy: 0.6655\n",
      "Epoch 13/20\n",
      "330/330 [==============================] - 39s 119ms/step - loss: 0.6218 - accuracy: 0.6619 - val_loss: 0.6253 - val_accuracy: 0.6540\n",
      "Epoch 14/20\n",
      "330/330 [==============================] - 38s 116ms/step - loss: 0.6311 - accuracy: 0.6446 - val_loss: 0.6438 - val_accuracy: 0.6302\n",
      "Epoch 15/20\n",
      "330/330 [==============================] - 37s 114ms/step - loss: 0.6199 - accuracy: 0.6552 - val_loss: 0.6095 - val_accuracy: 0.6720\n",
      "Epoch 16/20\n",
      "330/330 [==============================] - 37s 113ms/step - loss: 0.6177 - accuracy: 0.6576 - val_loss: 0.6672 - val_accuracy: 0.5961\n",
      "Epoch 17/20\n",
      "330/330 [==============================] - 37s 113ms/step - loss: 0.6187 - accuracy: 0.6577 - val_loss: 0.6289 - val_accuracy: 0.6686\n",
      "Epoch 18/20\n",
      "330/330 [==============================] - 39s 117ms/step - loss: 0.6261 - accuracy: 0.6459 - val_loss: 0.7002 - val_accuracy: 0.5316\n",
      "Epoch 19/20\n",
      "330/330 [==============================] - 37s 112ms/step - loss: 0.6408 - accuracy: 0.6327 - val_loss: 0.6661 - val_accuracy: 0.5949\n",
      "Epoch 20/20\n",
      "330/330 [==============================] - 37s 113ms/step - loss: 0.6399 - accuracy: 0.6321 - val_loss: 0.6614 - val_accuracy: 0.6087\n"
     ]
    },
    {
     "data": {
      "image/png": "[encoded data removed]",
      "text/plain": [
       "<Figure size 576x360 with 1 Axes>"
      ]
     },
     "metadata": {
      "needs_background": "light"
     },
     "output_type": "display_data"
    },
    {
     "name": "stdout",
     "output_type": "stream",
     "text": [
      "Compute valiation accuracy\n",
      "2022-12-13 16:46:01.286562\n",
      "Range of scores: 0.14400896 to 0.85726255\n",
      "Predicted zeros and ones 1071 1536\n",
      "Accuracy: 60.87% Precision: 65.10% Recall: 67.39% F1: 66.23%\n",
      "2022-12-13 16:46:08.494578\n",
      "\n",
      "Cross validation 5 folds 20 epochs\n",
      " accuracy mean 61.52% +/- 2.50\n",
      " precision mean 62.94% +/- 3.59\n",
      " recall mean 70.64% +/- 10.97\n",
      " F1 mean 65.91% +/- 4.51\n",
      "2022-12-13 16:46:08.497951\n"
     ]
    }
   ],
   "source": [
    "print(datetime.now())\n",
    "cv_accuracy, cv_precision, cv_recall, cv_f1 = do_cross_validation(EPOCHS)   \n",
    "print(\"Cross validation %d folds %d epochs\" % (FOLDS,EPOCHS)) \n",
    "print(\" accuracy mean %.2f%% +/- %.2f\" % (np.mean(cv_accuracy), np.std(cv_accuracy)))\n",
    "print(\" precision mean %.2f%% +/- %.2f\" % (np.mean(cv_precision), np.std(cv_precision)))\n",
    "print(\" recall mean %.2f%% +/- %.2f\" % (np.mean(cv_recall), np.std(cv_recall)))\n",
    "print(\" F1 mean %.2f%% +/- %.2f\" % (np.mean(cv_f1), np.std(cv_f1)))\n",
    "\n",
    "print(datetime.now())"
   ]
  },
  {
   "cell_type": "markdown",
   "metadata": {
    "id": "riMTsEsCFLBJ"
   },
   "source": []
  },
  {
   "cell_type": "code",
   "execution_count": 63,
   "metadata": {
    "id": "j56xTZdJm2B6"
   },
   "outputs": [],
   "source": []
  }
 ],
 "metadata": {
  "accelerator": "GPU",
  "colab": {
   "provenance": []
  },
  "gpuClass": "standard",
  "kernelspec": {
   "display_name": "Python 3 (ipykernel)",
   "language": "python",
   "name": "python3"
  },
  "language_info": {
   "codemirror_mode": {
    "name": "ipython",
    "version": 3
   },
   "file_extension": ".py",
   "mimetype": "text/x-python",
   "name": "python",
   "nbconvert_exporter": "python",
   "pygments_lexer": "ipython3",
   "version": "3.10.0"
  }
 },
 "nbformat": 4,
 "nbformat_minor": 1
}
