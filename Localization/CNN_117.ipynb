{
  "cells": [
    {
      "cell_type": "markdown",
      "metadata": {
        "id": "PG-tGRnlFLA3"
      },
      "source": [
        "# CNN + GlobalAvgPool \n",
        "Based on CNN 107 which got 75% acc on H1 coding len 2000-4000.  \n",
        "Model: Embed mask, Conv1D, GlobalAvgPool.   \n",
        "\n",
        "H1 coding len 2000-3000.  \n",
        "Cross validation 5 folds 5 epochs, accuracy mean , F1 mean \n"
      ]
    },
    {
      "cell_type": "code",
      "execution_count": 34,
      "metadata": {
        "colab": {
          "base_uri": "https://localhost:8080/"
        },
        "id": "0RmwUsVLFLA6",
        "outputId": "f3658085-4087-41a9-caf0-bd6ef1d412b5"
      },
      "outputs": [
        {
          "output_type": "stream",
          "name": "stdout",
          "text": [
            "2022-12-29 14:58:21.594509\n",
            "Python 3.8.16\n",
            "sklearn 1.0.2\n"
          ]
        }
      ],
      "source": [
        "from datetime import datetime\n",
        "print(datetime.now())\n",
        "from platform import python_version\n",
        "print('Python',python_version())\n",
        "import numpy as np\n",
        "import pandas as pd\n",
        "from matplotlib import pyplot as plt \n",
        "import sklearn   # pip install --upgrade scikit-learn\n",
        "print('sklearn',sklearn.__version__)"
      ]
    },
    {
      "cell_type": "markdown",
      "metadata": {
        "id": "tUtGXPrcFLA8"
      },
      "source": [
        "We prevously used sklearn.model_selection.ShuffleSplit   \n",
        "Now we avoid it due to this note in the \n",
        "[documentation](https://scikit-learn.org/stable/modules/generated/sklearn.model_selection.ShuffleSplit.html):\n",
        "Note: contrary to other cross-validation strategies, random splits do not guarantee that all folds will be different, although this is still very likely for sizeable datasets."
      ]
    },
    {
      "cell_type": "code",
      "execution_count": 35,
      "metadata": {
        "id": "PRX-UEr8FLA8"
      },
      "outputs": [],
      "source": [
        "import tensorflow as tf\n",
        "dt='float32'\n",
        "tf.keras.backend.set_floatx('float32')\n",
        "tf.random.set_seed(42) \n",
        "\n",
        "from tensorflow import keras\n",
        "from sklearn.model_selection import KFold\n",
        "from sklearn.metrics import accuracy_score\n",
        "from sklearn.metrics import precision_score\n",
        "from sklearn.metrics import recall_score\n",
        "from sklearn.metrics import f1_score\n",
        "\n",
        "from keras.models import Sequential\n",
        "from keras.layers import Masking\n",
        "from keras.layers import Embedding\n",
        "from keras.layers import Conv1D\n",
        "from keras.layers import MaxPooling1D\n",
        "from keras.layers import GlobalAveragePooling1D\n",
        "from keras.layers import Flatten\n",
        "from keras.layers import Attention\n",
        "from keras.layers import Bidirectional\n",
        "from keras.layers import LSTM\n",
        "from keras.layers import Dense\n",
        "from keras.layers import Dropout\n",
        "from keras.losses import BinaryCrossentropy\n",
        "\n",
        "K=4\n",
        "RCI_THRESHOLD=0.0\n",
        "CFILTERS=64\n",
        "FILTERSIZE=8\n",
        "RCELLS=16\n",
        "DCELLS=8\n",
        "EPOCHS=5\n",
        "FOLDS=5      \n",
        "EMBED_DIMEN = 4 # arbitrary hyperparameter\n",
        "BREAK = False   # break after first fold\n",
        "MINLEN=2000\n",
        "MAXLEN=3000   "
      ]
    },
    {
      "cell_type": "code",
      "execution_count": 36,
      "metadata": {
        "colab": {
          "base_uri": "https://localhost:8080/"
        },
        "id": "OlzN9OdsFWEU",
        "outputId": "ccaf4350-315b-4927-aa5f-4d181fc21fa4"
      },
      "outputs": [
        {
          "output_type": "stream",
          "name": "stdout",
          "text": [
            "Running on CoLab\n",
            "Drive already mounted at /content/drive/; to attempt to forcibly remount, call drive.mount(\"/content/drive/\", force_remount=True).\n",
            "/content/drive/My Drive/data/Localization/TrainTest/\n"
          ]
        }
      ],
      "source": [
        "try:\n",
        "    from google.colab import drive\n",
        "    IN_COLAB = True\n",
        "    print('Running on CoLab')\n",
        "    PATH='/content/drive/'\n",
        "    drive.mount(PATH)\n",
        "    DATA_DIR=PATH+'My Drive/data/Localization/TrainTest/'  # must end in \"/\"\n",
        "except:\n",
        "    IN_COLAB = False\n",
        "    DATA_DIR = 'D:/Adjeroh/Localization/TrainTest/'   # Windows\n",
        "    DATA_DIR = '/Users/jasonmiller/WVU/Localization/TrainTest/'    # Mac\n",
        "print(DATA_DIR)"
      ]
    },
    {
      "cell_type": "code",
      "execution_count": 37,
      "metadata": {
        "id": "LnkpVKdMFLA-"
      },
      "outputs": [],
      "source": [
        "GENES_FILE =    'CNRCI_coding_train_genes.csv'\n",
        "RCI_FILE =      'CNRCI_coding_train_RCI.gc42.csv'\n",
        "SEQUENCE_FILE = 'CNRCI_coding_train_transcripts.gc42.csv'\n",
        "COUNTS_FILE=    'CNRCI_coding_train_counts.K4.gc42.csv'"
      ]
    },
    {
      "cell_type": "code",
      "execution_count": 38,
      "metadata": {
        "colab": {
          "base_uri": "https://localhost:8080/"
        },
        "id": "e3p4QzQJFLA_",
        "outputId": "8176e0a7-d35e-4e50-9757-42cb6bb6bd11"
      },
      "outputs": [
        {
          "output_type": "stream",
          "name": "stdout",
          "text": [
            "Cell line for today: 1 = H1.hESC\n"
          ]
        }
      ],
      "source": [
        "def get_ordered_list():\n",
        "    ordered_list = \\\n",
        "    ['A549',\\\n",
        "      'H1.hESC',\\\n",
        "      'HeLa.S3',\\\n",
        "      'HepG2',\\\n",
        "      'HT1080',\\\n",
        "      'HUVEC',\\\n",
        "      'MCF.7',\\\n",
        "      'NCI.H460',\\\n",
        "      'NHEK',\\\n",
        "      'SK.MEL.5',\\\n",
        "      'SK.N.DZ',\\\n",
        "      'SK.N.SH',\\\n",
        "      'GM12878',\\\n",
        "      'K562',\\\n",
        "      'IMR.90']\n",
        "    return ordered_list\n",
        "CELL_LINE_NUMBER=1\n",
        "all_cell_lines = get_ordered_list()\n",
        "cell_line_name = all_cell_lines[CELL_LINE_NUMBER]\n",
        "print('Cell line for today:',CELL_LINE_NUMBER,'=',cell_line_name)"
      ]
    },
    {
      "cell_type": "markdown",
      "metadata": {
        "id": "UtqdpJOxFLBA"
      },
      "source": [
        "## Data Load"
      ]
    },
    {
      "cell_type": "code",
      "execution_count": 39,
      "metadata": {
        "colab": {
          "base_uri": "https://localhost:8080/"
        },
        "id": "p35ehKV3Kq0z",
        "outputId": "5b0198b5-6cda-427b-8a62-6307e310c13f"
      },
      "outputs": [
        {
          "output_type": "stream",
          "name": "stdout",
          "text": [
            "[1, 1]\n",
            "[20, 16]\n",
            "[63, 57]\n",
            "[64, 0]\n",
            "0\n",
            "1\n"
          ]
        }
      ],
      "source": [
        "class DataLoader():\n",
        "    def __init__(self):\n",
        "        self.cache=dict() \n",
        "        self.vals = {'A':0, 'C':1, 'G':2, 'T':3}\n",
        "        \n",
        "    def load_gene_rci_values(self,filepath,cell_line):\n",
        "        '''\n",
        "        Load from RCI csv file.\n",
        "        Return dict with keys=gene:str and values=RCI:float.\n",
        "        '''\n",
        "        gene_to_rci = {}\n",
        "        with open (filepath,'r') as handle:\n",
        "            header = None\n",
        "            for row in handle:\n",
        "                if header is None:\n",
        "                    header = row # skip file's header line\n",
        "                else:\n",
        "                    line = row.strip()\n",
        "                    fields = line.split(',')\n",
        "                    gene_id = fields[0]\n",
        "                    rci_val = fields[cell_line+1]\n",
        "                    if rci_val != \"nan\":\n",
        "                        # Convert string nan to float(nan)\n",
        "                        gene_to_rci[gene_id] = float(rci_val)\n",
        "        return gene_to_rci\n",
        "    \n",
        "    def seq_to_kmer_values(self,rna,K):\n",
        "        # The cache may represent more than one K. Probably not a problem.\n",
        "        N_indicator = 0 # indicator value\n",
        "        vec=[] # seq converted to list of K-mers \n",
        "        length = len(rna)\n",
        "        for i in range(length-K+1):\n",
        "            kmer = rna[i:i+K]\n",
        "            if 'N' in kmer:\n",
        "                value = N_indicator\n",
        "            elif kmer in self.cache.keys():\n",
        "                value = self.cache[kmer]\n",
        "            else:\n",
        "                value = 0\n",
        "                for j in range(K):\n",
        "                    value *= 4   \n",
        "                    nextnuc = kmer[j] \n",
        "                    nucval = self.vals[nextnuc]\n",
        "                    value += nucval\n",
        "                value += 1   # NNN => 0, AAA => 1\n",
        "                self.cache[kmer] = value\n",
        "            vec.append(value)\n",
        "        return vec\n",
        "\n",
        "    def rci_to_label(self,rci):\n",
        "        CYTO_LABEL = 1\n",
        "        NUCLEAR_LABEL = 0\n",
        "        # cnrci = log (cyto-to-nuclear ratio)\n",
        "        # rci > 0 implies cytoplasmic\n",
        "        if rci > RCI_THRESHOLD:\n",
        "            return CYTO_LABEL\n",
        "        return NUCLEAR_LABEL\n",
        "\n",
        "    def load_sequence(self,filepath):\n",
        "        labels=[]\n",
        "        allids=[]\n",
        "        allseq=[]\n",
        "        NREPEAT = str('N'*MAXLEN)\n",
        "        with open (filepath,'r') as handle:\n",
        "            header = None\n",
        "            for row in handle:\n",
        "                if header is None:\n",
        "                    header = row\n",
        "                else:\n",
        "                    line    = row.strip()\n",
        "                    fields  = line.split(',')\n",
        "                    tran_id = fields[0]  # with version number\n",
        "                    gene_id = fields[1]        # without version number\n",
        "                    seq_len = int(fields[3])\n",
        "                    seq_txt = fields[4]\n",
        "                    if seq_len>=MINLEN and seq_len<=MAXLEN and gene_id in gene_to_rci.keys():\n",
        "                        allids.append( (gene_id,tran_id) )\n",
        "                        rci_val = gene_to_rci[gene_id]\n",
        "                        rci_label = self.rci_to_label(rci_val)\n",
        "                        labels.append(rci_label)\n",
        "                        if seq_len<MAXLEN:\n",
        "                            seq_txt = seq_txt + NREPEAT\n",
        "                            seq_txt = seq_txt[:MAXLEN]\n",
        "                        hot_vec = self.seq_to_kmer_values(seq_txt,K)\n",
        "                        allseq.append(hot_vec)\n",
        "        return labels,allids,allseq\n",
        "    \n",
        "loader = DataLoader()\n",
        "# test it\n",
        "print(loader.seq_to_kmer_values('AAAA',3))\n",
        "print(loader.seq_to_kmer_values('CATT',3))\n",
        "print(loader.seq_to_kmer_values('TTGA',3))\n",
        "print(loader.seq_to_kmer_values('TTTN',3))\n",
        "# test it\n",
        "print(loader.rci_to_label(-0.9))\n",
        "print(loader.rci_to_label(1.1))"
      ]
    },
    {
      "cell_type": "code",
      "execution_count": 40,
      "metadata": {
        "colab": {
          "base_uri": "https://localhost:8080/"
        },
        "id": "cYoYDc93FLBB",
        "outputId": "d7d8fa53-6236-4c8c-d457-b1adc2f3e920"
      },
      "outputs": [
        {
          "output_type": "stream",
          "name": "stdout",
          "text": [
            "2022-12-29 14:58:24.598114\n",
            "Load RCI values...\n",
            "Num RCI: 13000\n",
            "Example RCI: [('ENSG00000000003', 1.85734), ('ENSG00000000005', 5.88264), ('ENSG00000000419', 2.58954)]\n",
            "Load genes...\n",
            "2022-12-29 14:58:24.628938\n",
            "Load sequence...\n",
            "2022-12-29 14:58:37.678135\n",
            "Num IDs: 11162\n",
            "Example IDs: [('ENSG00000078808', 'ENST00000263741.12'), ('ENSG00000224051', 'ENST00000343938.9'), ('ENSG00000197530', 'ENST00000378712.5'), ('ENSG00000008128', 'ENST00000356200.7')]\n",
            "Count 5073 ones out of 11162 labels.\n",
            "Example labels: [0, 1, 0, 0]\n",
            "Num counts: 11162\n",
            "Example sequence: [160, 126, 247, 219, 107, 172, 176, 191, 251, 236, 175, 188, 238, 181, 212, 79, 59, 234, 165, 147, 74, 40, 159, 122, 231, 155, 107, 171, 169, 163, 138, 38, 151, 90, 101, 145, 67, 9, 35, 139, 42, 167, 154, 102, 152, 95, 123, 234, 167, 155, 105, 163, 138, 40, 159, 121, 226, 135, 27, 108, 175, 187, 233, 162, 135, 25, 99, 140, 48, 190, 246, 216, 93, 115, 202, 40, 160, 126, 247, 219, 107, 170, 168, 160, 128, 255, 249, 226, 136, 30, 118, 215, 89, 99, 140, 46, 182, 215, 89, 97, 132, 14, 54, 215, 89, 99, 140, 46, 182, 215, 89, 97, 129, 1, 4, 16, 62, 248, 222, 118, 213, 82, 69, 17, 67, 10, 39, 155, 105, 163, 137, 34, 133, 18, 71, 27, 107, 169, 161, 131, 10, 37, 146, 71, 26, 103, 153, 99, 139, 42, 168, 159, 122, 230, 150, 87, 91, 105, 163, 140, 46, 182, 215, 91, 105, 164, 141, 49, 195, 10, 38, 151, 91, 107, 170, 167, 155, 107, 169, 163, 138, 38, 150, 86, 88, 94, 119, 219, 106, 166, 149, 83, 74, 38, 151, 91, 106, 167, 156, 109, 177, 193, 3, 11, 42, 166, 151, 92, 111, 186, 230, 152, 94, 120, 223, 121, 227, 138, 37, 146, 69, 17, 65, 3, 9, 34, 134, 21, 83, 74, 40, 158, 120, 222, 120, 222, 119, 219, 106, 168, 159, 121, 225, 131, 11, 41, 162, 133, 19, 73, 35, 137, 34, 134, 22, 86, 87, 89, 99, 140, 48, 190, 248, 221, 114, 197, 17, 67, 12, 48, 190, 246, 216, 95, 122, 229, 147, 75, 41, 163, 137, 33, 132, 15, 57, 226, 134, 21, 83, 73, 35, 138, 38, 152, 95, 122, 232, 157, 113, 193, 2, 8, 32, 126, 245, 211, 74, 39, 153, 98, 136, 30, 119, 219, 105, 162, 133, 19, 74, 40, 158, 120, 223, 121, 227, 139, 41, 163, 139, 41, 161, 131, 9, 35, 139, 43, 171, 170, 166, 151, 92, 112, 190, 246, 213, 82, 72, 30, 118, 214, 88, 95, 122, 230, 149, 83, 73, 36, 143, 60, 239, 186, 232, 159, 123, 233, 163, 139, 41, 161, 131, 10, 38, 149, 83, 76, 47, 185, 227, 139, 41, 163, 139, 41, 163, 139, 41, 164, 143, 59, 233, 163, 138, 39, 155, 105, 163, 139, 41, 161, 131, 11, 41, 163, 137, 33, 131, 9, 36, 143, 59, 235, 171, 169, 162, 133, 19, 73, 35, 140, 46, 182, 214, 86, 85, 83, 73, 35, 139, 43, 170, 168, 159, 121, 225, 131, 11, 43, 171, 169, 161, 131, 9, 33, 131, 9, 33, 132, 16, 62, 248, 223, 124, 240, 190, 246, 216, 95, 124, 239, 185, 226, 134, 23, 92, 110, 183, 218, 102, 149, 84, 79, 59, 236, 176, 191, 249, 227, 137, 35, 137, 36, 143, 59, 233, 161, 131, 10, 37, 147, 75, 42, 165, 147, 74, 37, 145, 65, 3, 10, 37, 145, 66, 7, 26, 102, 152, 94, 117, 210, 72, 30, 118, 213, 81, 65, 3, 10, 40, 159, 124, 240, 190, 246, 213, 84, 79, 57, 225, 131, 12, 47, 187, 236, 173, 178, 197, 19, 75, 42, 167, 156, 112, 190, 246, 215, 89, 99, 138, 37, 147, 74, 40, 159, 124, 239, 187, 234, 166, 149, 82, 70, 21, 82, 70, 22, 87, 89, 99, 139, 43, 171, 169, 162, 134, 21, 83, 75, 41, 161, 129, 3, 12, 47, 186, 232, 159, 121, 227, 139, 42, 166, 149, 81, 66, 5, 17, 65, 4, 16, 62, 246, 213, 83, 75, 44, 174, 181, 210, 71, 27, 105, 162, 133, 19, 76, 47, 186, 232, 159, 122, 229, 148, 80, 62, 245, 209, 68, 15, 58, 232, 158, 120, 223, 123, 236, 176, 189, 242, 198, 24, 96, 126, 248, 223, 122, 229, 148, 78, 53, 211, 73, 35, 137, 34, 134, 24, 94, 117, 212, 80, 63, 251, 234, 168, 159, 124, 238, 184, 222, 118, 213, 83, 73, 33, 131, 10, 40, 159, 122, 232, 159, 124, 240, 192, 255, 251, 233, 161, 129, 3, 11, 44, 175, 187, 234, 165, 145, 65, 3, 11, 41, 164, 141, 51, 202, 37, 147, 74, 37, 147, 75, 41, 164, 143, 58, 232, 159, 122, 229, 147, 74, 38, 151, 92, 110, 182, 213, 83, 74, 37, 147, 74, 38, 150, 87, 90, 104, 158, 120, 223, 123, 235, 171, 171, 169, 161, 131, 10, 40, 160, 126, 247, 220, 111, 188, 239, 187, 233, 162, 133, 20, 78, 53, 209, 67, 11, 42, 168, 160, 125, 242, 198, 24, 95, 123, 235, 170, 168, 158, 119, 219, 106, 166, 149, 84, 77, 50, 197, 19, 74, 40, 159, 123, 236, 175, 188, 238, 182, 216, 95, 124, 238, 184, 223, 124, 238, 183, 219, 105, 163, 137, 34, 135, 25, 98, 135, 27, 108, 175, 188, 240, 191, 251, 234, 167, 155, 106, 166, 151, 92, 111, 186, 232, 159, 122, 231, 155, 106, 165, 146, 69, 20, 78, 53, 211, 74, 39, 156, 111, 186, 232, 159, 123, 236, 175, 186, 230, 150, 88, 95, 122, 232, 160, 126, 246, 216, 95, 121, 226, 134, 24, 96, 126, 246, 214, 86, 85, 81, 67, 10, 37, 147, 76, 47, 186, 230, 151, 90, 101, 148, 79, 58, 232, 159, 122, 232, 158, 117, 209, 67, 9, 35, 137, 33, 132, 15, 59, 236, 175, 185, 228, 142, 55, 220, 109, 180, 207, 59, 233, 163, 138, 37, 146, 72, 31, 123, 235, 171, 169, 161, 131, 9, 35, 140, 46, 184, 222, 120, 223, 122, 231, 155, 107, 172, 175, 186, 232, 159, 123, 234, 168, 160, 128, 254, 246, 216, 95, 123, 236, 174, 182, 216, 94, 117, 211, 74, 37, 147, 73, 35, 140, 46, 184, 223, 122, 230, 151, 91, 106, 165, 146, 69, 17, 67, 9, 33, 131, 11, 41, 162, 133, 18, 72, 32, 128, 254, 246, 216, 96, 127, 251, 234, 166, 150, 86, 87, 92, 110, 182, 216, 94, 117, 209, 67, 10, 37, 145, 65, 4, 15, 60, 237, 178, 197, 20, 78, 53, 210, 71, 28, 109, 180, 207, 60, 239, 185, 227, 139, 41, 161, 130, 8, 31, 122, 229, 145, 67, 12, 48, 190, 245, 210, 70, 24, 94, 119, 218, 102, 152, 95, 123, 236, 175, 186, 230, 150, 88, 94, 118, 214, 86, 88, 96, 126, 245, 212, 78, 53, 211, 76, 48, 192, 254, 245, 212, 79, 58, 229, 147, 76, 47, 187, 233, 162, 134, 24, 96, 127, 249, 226, 135, 27, 105, 163, 138, 40, 159, 122, 232, 159, 123, 234, 166, 150, 88, 95, 123, 233, 163, 138, 38, 151, 91, 107, 172, 175, 188, 239, 187, 234, 166, 152, 93, 114, 198, 21, 83, 74, 37, 146, 71, 26, 102, 152, 96, 126, 246, 216, 94, 120, 221, 114, 197, 20, 78, 54, 215, 90, 102, 149, 83, 74, 40, 158, 119, 218, 102, 149, 84, 77, 50, 197, 18, 70, 24, 95, 122, 231, 154, 101, 145, 66, 7, 26, 102, 149, 84, 79, 57, 226, 134, 21, 82, 72, 30, 119, 218, 101, 145, 67, 9, 33, 131, 11, 41, 161, 129, 2, 5, 20, 77, 50, 198, 21, 83, 76, 46, 184, 223, 124, 239, 188, 237, 178, 197, 17, 66, 8, 31, 123, 234, 165, 147, 76, 45, 180, 207, 60, 239, 186, 229, 146, 72, 31, 122, 230, 152, 94, 120, 224, 126, 246, 216, 95, 124, 239, 187, 236, 175, 186, 230, 151, 91, 107, 172, 174, 182, 216, 95, 121, 227, 138, 37, 146, 72, 31, 122, 231, 155, 107, 170, 166, 150, 86, 85, 83, 74, 39, 153, 97, 131, 10, 38, 150, 88, 94, 118, 213, 83, 74, 38, 150, 88, 96, 127, 251, 236, 174, 184, 221, 114, 198, 22, 86, 86, 88, 96, 127, 250, 230, 150, 85, 81, 67, 12, 46, 181, 212, 78, 53, 212, 80, 63, 251, 234, 168, 159, 124, 237, 180, 206, 53, 209, 67, 10, 40, 158, 117, 212, 78, 54, 214, 86, 85, 82, 72, 31, 122, 230, 150, 87, 90, 104, 160, 126, 248, 221, 114, 198, 22, 87, 90, 104, 159, 122, 231, 153, 97, 132, 15, 58, 229, 146, 72, 31, 122, 229, 148, 78, 54, 215, 92, 111, 186, 230, 150, 88, 95, 121, 226, 135, 26, 104, 159, 122, 232, 158, 120, 222, 119, 219, 107, 171, 169, 163, 138, 40, 158, 119, 219, 107, 171, 171, 170, 166, 152, 96, 126, 245, 212, 78, 54, 214, 87, 91, 108, 175, 186, 232, 159, 122, 230, 152, 96, 128, 254, 245, 212, 78, 54, 216, 95, 123, 233, 163, 137, 36, 143, 60, 240, 190, 246, 213, 83, 74, 37, 147, 75, 44, 174, 183, 217, 98, 136, 32, 126, 245, 209, 66, 5, 19, 75, 41, 161, 131, 10, 38, 149, 83, 75, 43, 170, 167, 154, 101, 148, 79, 57, 227, 138, 40, 158, 118, 213, 81, 67, 10, 38, 150, 85, 84, 78, 53, 209, 66, 8, 32, 126, 248, 222, 118, 215, 92, 111, 185, 228, 142, 54, 216, 95, 121, 225, 131, 10, 40, 159, 124, 238, 182, 213, 81, 68, 15, 60, 238, 181, 209, 66, 6, 24, 95, 122, 229, 147, 75, 41, 163, 137, 33, 131, 11, 42, 167, 156, 109, 178, 198, 23, 91, 107, 169, 162, 135, 27, 106, 166, 152, 95, 123, 236, 175, 187, 233, 163, 138, 37, 147, 74, 40, 159, 124, 237, 178, 199, 25, 98, 134, 24, 94, 117, 210, 70, 22, 88, 95, 123, 233, 163, 140, 45, 178, 198, 24, 95, 122, 229, 146, 69, 19, 74, 38, 149, 83, 75, 42, 165, 146, 69, 18, 72, 31, 122, 229, 148, 78, 55, 219, 106, 168, 160, 126, 246, 214, 87, 91, 105, 163, 138, 40, 159, 123, 236, 175, 186, 232, 159, 122, 230, 152, 95, 124, 239, 187, 236, 174, 182, 216, 95, 122, 229, 147, 74, 40, 159, 121, 225, 131, 12, 46, 183, 220, 112, 190, 246, 216, 94, 118, 215, 91, 107, 169, 163, 140, 47, 186, 229, 145, 67, 11, 44, 175, 187, 234, 166, 149, 81, 66, 8, 29, 114, 200, 31, 122, 230, 151, 91, 106, 165, 147, 75, 44, 175, 186, 229, 147, 74, 37, 147, 74, 40, 159, 122, 232, 160, 127, 251, 235, 169, 161, 131, 11, 44, 176, 190, 245, 211, 75, 41, 163, 137, 33, 130, 8, 30, 119, 219, 106, 165, 148, 77, 50, 197, 20, 78, 56, 223, 122, 229, 147, 74, 38, 151, 90, 102, 151, 90, 102, 149, 83, 73, 35, 139, 43, 172, 176, 192, 254, 246, 216, 96, 126, 247, 219, 106, 167, 156, 110, 184, 222, 120, 223, 121, 227, 138, 37, 147, 74, 37, 147, 75, 42, 165, 147, 76, 47, 187, 233, 161, 131, 10, 38, 152, 95, 123, 235, 169, 163, 137, 33, 131, 10, 40, 159, 121, 226, 134, 22, 87, 91, 107, 169, 161, 131, 9, 35, 139, 43, 171, 169, 162, 133, 18, 70, 22, 86, 88, 95, 121, 226, 134, 24, 96, 127, 252, 237, 178, 200, 29, 114, 197, 19, 74, 38, 149, 82, 72, 31, 123, 234, 167, 154, 101, 145, 67, 10, 40, 159, 122, 231, 156, 111, 185, 226, 134, 23, 91, 107, 169, 163, 137, 36, 142, 54, 213, 83, 74, 40, 159, 123, 233, 163, 137, 36, 142, 53, 211, 76, 47, 187, 234, 165, 145, 65, 3, 9, 35, 138, 39, 155, 106, 168, 159, 123, 233, 161, 131, 9, 34, 134, 24, 95, 121, 225, 130, 8, 32, 126, 246, 214, 88, 95, 121, 227, 137, 36, 142, 53, 209, 65, 2, 7, 25, 97, 131, 11, 41, 161, 131, 9, 36, 143, 59, 234, 168, 159, 121, 226, 133, 19, 75, 41, 161, 131, 11, 41, 164, 143, 57, 227, 139, 41, 162, 133, 19, 75, 41, 161, 131, 10, 37, 145, 68, 16, 64, 253, 241, 193, 3, 9, 34, 134, 24, 94, 120, 224, 128, 255, 249, 226, 134, 24, 95, 121, 225, 130, 5, 19, 74, 40, 158, 120, 223, 121, 225, 131, 9, 35, 139, 41, 162, 135, 25, 98, 133, 18, 70, 23, 89, 99, 139, 43, 169, 164, 144, 62, 248, 222, 119, 219, 105, 163, 137, 35, 137, 35, 139, 43, 169, 164, 141, 50, 200, 31, 121, 227, 139, 42, 166, 150, 86, 88, 95, 121, 227, 138, 37, 146, 72, 30, 119, 219, 106, 165, 148, 79, 59, 235, 171, 172, 175, 187, 233, 161, 131, 9, 34, 135, 25, 100, 143, 57, 225, 131, 9, 35, 139, 41, 162, 135, 25, 99, 139, 41, 163, 139, 41, 163, 139, 43, 170, 167, 153, 99, 139, 41, 163, 139, 41, 162, 133, 19, 74, 37, 147, 74, 37, 145, 66, 8, 30, 119, 219, 105, 163, 139, 41, 164, 143, 59, 233, 163, 137, 34, 134, 22, 85, 83, 73, 34, 135, 26, 101, 147, 73, 35, 139, 42, 167, 155, 107, 171, 170, 168, 159, 123, 234, 166, 150, 86, 88, 95, 123, 235, 171, 169, 163, 138, 40, 159, 122, 229, 147, 74, 37, 147, 74, 40, 159, 123, 234, 166, 150, 85, 83, 75, 43, 171, 170, 166, 151, 91, 105, 163, 139, 41, 162, 135, 25, 99, 138, 40, 159, 123, 233, 163, 139, 41, 164, 142, 56, 223, 122, 229, 147, 74, 40, 158, 120, 222, 117, 211, 73, 35, 139, 41, 162, 135, 25, 98, 136, 31, 121, 227, 139, 42, 165, 147, 74, 38, 150, 85, 84, 78, 56, 223, 123, 235, 171, 171, 171, 170, 166, 152, 95, 124, 237, 179, 203, 43, 171, 170, 168, 159, 122, 230, 151, 91, 107, 170, 168, 159, 123, 236, 175, 187, 234, 166, 149, 83, 76, 47, 188, 240, 192, 254, 246, 213, 82, 70, 24, 94, 118, 214, 88, 95, 123, 234, 165, 147, 76, 46, 181, 211, 75, 42, 166, 152, 93, 115, 201, 35, 139, 42, 168, 159, 123, 234, 167, 156, 110, 184, 223, 124, 239, 186, 229, 147, 76, 48, 191, 251, 235, 171, 171, 169, 163, 139, 42, 165, 147, 76, 45, 179, 201, 34, 133, 18, 71, 27, 107, 169, 162, 133, 19, 75, 42, 168, 160, 128, 253, 244, 208, 61, 244, 208, 64, 253, 244, 208, 64, 256, 256, 254, 245, 211, 74, 37, 148, 79, 57, 225, 129, 3, 9, 34, 134, 21, 81, 65, 2, 7, 28, 109, 180, 206, 55, 217, 99, 137, 35, 138, 40, 159, 123, 235, 170, 168, 159, 123, 235, 170, 168, 159, 123, 235, 170, 168, 159, 123, 236, 175, 188, 239, 187, 234, 168, 159, 122, 232, 159, 121, 225, 131, 10, 38, 150, 86, 85, 82, 69, 19, 74, 40, 159, 124, 239, 187, 235, 170, 168, 159, 122, 232, 159, 121, 225, 131, 12, 46, 181, 211, 74, 40, 158, 118, 215, 90, 103, 155, 107, 171, 171, 169, 163, 138, 40, 159, 121, 226, 134, 22, 88, 95, 121, 226, 135, 28, 110, 181, 211, 74, 37, 147, 73, 34, 134, 23, 89, 99, 137, 34, 134, 21, 83, 76, 46, 182, 214, 85, 83, 76, 48, 190, 246, 213, 83, 75, 43, 171, 171, 169, 163, 139, 42, 166, 152, 95, 122, 229, 147, 75, 42, 166, 150, 86, 88, 95, 123, 234, 166, 150, 86, 88, 96, 126, 246, 213, 82, 70, 21, 82, 70, 24, 94, 120, 223, 122, 230, 150, 88, 94, 118, 215, 92, 110, 184, 223, 122, 229, 147, 73, 34, 134, 24, 94, 119, 220, 110, 182, 213, 84, 78, 56, 223, 122, 229, 146, 70, 21, 83, 75, 42, 168, 158, 120, 223, 122, 230, 152, 96, 126, 245, 210, 72, 30, 118, 214, 86, 86, 85, 81, 67, 12, 46, 184, 224, 128, 255, 249, 225, 129, 1, 4, 16, 64, 255, 252, 240, 190, 246, 216, 96, 128, 254, 246, 216, 96, 128, 255, 249, 225, 131, 12, 46, 181, 210, 69, 20, 80, 64, 256, 254, 248, 224, 128, 256, 253, 241, 193, 1, 4, 16, 64, 256, 256, 256, 255, 252, 240, 192, 256, 255, 250, 229, 148, 78, 54, 215, 89, 97, 129, 2, 6, 23, 89, 97, 129, 3, 9, 33, 129, 4, 13, 49, 193, 3, 10, 39, 155, 108, 175, 187, 235, 169, 163, 139, 42, 165, 147, 75, 43, 170, 166, 149, 84, 80, 63, 252, 239, 188, 240, 191, 249, 0, 0, 0, 0, 0, 0, 0, 0, 0, 0, 0, 0, 0, 0, 0, 0, 0, 0, 0, 0, 0, 0, 0, 0, 0, 0, 0, 0, 0, 0, 0, 0, 0, 0, 0, 0, 0, 0, 0, 0, 0, 0, 0, 0, 0, 0, 0, 0, 0, 0, 0, 0, 0, 0, 0, 0, 0, 0, 0, 0, 0, 0, 0, 0, 0, 0, 0, 0, 0, 0, 0, 0, 0, 0, 0, 0, 0, 0, 0, 0, 0, 0, 0, 0, 0, 0, 0, 0, 0, 0, 0, 0, 0, 0, 0, 0, 0, 0, 0, 0, 0, 0, 0, 0, 0, 0, 0, 0, 0, 0, 0, 0, 0, 0, 0, 0, 0, 0, 0, 0, 0, 0, 0, 0, 0, 0, 0, 0, 0, 0, 0, 0, 0, 0, 0, 0, 0, 0, 0, 0, 0, 0, 0, 0, 0, 0, 0, 0, 0, 0, 0, 0, 0, 0, 0, 0, 0, 0, 0, 0, 0, 0, 0, 0, 0, 0, 0, 0, 0, 0, 0, 0, 0, 0, 0, 0, 0, 0, 0, 0, 0, 0, 0, 0, 0, 0, 0, 0, 0, 0, 0, 0, 0, 0, 0, 0, 0, 0, 0, 0, 0, 0, 0, 0, 0, 0, 0, 0, 0, 0, 0, 0, 0, 0, 0, 0, 0, 0, 0, 0, 0, 0, 0, 0, 0, 0, 0, 0, 0, 0, 0, 0, 0, 0, 0, 0, 0, 0, 0, 0, 0, 0, 0]\n"
          ]
        }
      ],
      "source": [
        "print(datetime.now())\n",
        "print(\"Load RCI values...\")\n",
        "loader = DataLoader()\n",
        "filepath = DATA_DIR+RCI_FILE\n",
        "gene_to_rci = loader.load_gene_rci_values(filepath,CELL_LINE_NUMBER)\n",
        "print('Num RCI:', len(gene_to_rci.keys()))\n",
        "print('Example RCI:', list(gene_to_rci.items())[:3])\n",
        "print(\"Load genes...\")\n",
        "all_genes = list(gene_to_rci.keys())\n",
        "print(datetime.now())\n",
        "print('Load sequence...')\n",
        "filepath = DATA_DIR+SEQUENCE_FILE\n",
        "labels,allids,allseq = loader.load_sequence(filepath)\n",
        "print(datetime.now())\n",
        "print('Num IDs:',len(allids))\n",
        "print('Example IDs:',[allids[x] for x in [10, 20, 30, 40]] )\n",
        "print('Count',np.count_nonzero(labels),'ones out of',len(labels),'labels.')\n",
        "print('Example labels:',[labels[x] for x in [10, 20, 30, 40]] )\n",
        "print('Num counts:',len(allseq))\n",
        "print('Example sequence:',allseq[3])\n",
        "loader = None  # drop K-mer cache to save RAM"
      ]
    },
    {
      "cell_type": "markdown",
      "metadata": {
        "id": "VDZ6siB_Kq04"
      },
      "source": [
        "## Model"
      ]
    },
    {
      "cell_type": "code",
      "execution_count": 41,
      "metadata": {
        "id": "AwMbRjm0FLBF"
      },
      "outputs": [],
      "source": [
        "def build_model():\n",
        "    ALPHABET=4**K+1  # NUMBER OF DISTINCT KMERS POSSIBLE, add one if N gets mask value\n",
        "    ADJUST_LENGTH = MAXLEN-K+1  # fixed length sequences\n",
        "    rnn = Sequential()\n",
        "    embed_layer = Embedding(ALPHABET,EMBED_DIMEN,input_length=ADJUST_LENGTH,mask_zero=True)   \n",
        "    cnn1_layer = Conv1D(CFILTERS, FILTERSIZE)\n",
        "    #rnn1_layer = Bidirectional( LSTM(RCELLS, return_sequences=False) )\n",
        "    #pool_layer = MaxPooling1D(pool_size=3)\n",
        "    pool_layer = GlobalAveragePooling1D()\n",
        "    flat_layer = Flatten()\n",
        "    den1_layer = Dense(DCELLS)\n",
        "    drop_layer = Dropout(0.5)\n",
        "    output_layer = Dense(1,activation='sigmoid',dtype=dt)\n",
        "\n",
        "    rnn.add(embed_layer)\n",
        "    rnn.add(cnn1_layer)\n",
        "    rnn.add(pool_layer)\n",
        "    #rnn.add(flat_layer)\n",
        "    #rnn.add(den1_layer)\n",
        "    #rnn.add(drop_layer)\n",
        "    rnn.add(output_layer)\n",
        "\n",
        "    bc=BinaryCrossentropy(from_logits=False)\n",
        "    print(\"COMPILE\")\n",
        "    rnn.compile(loss=bc, optimizer=\"Adam\",metrics=[\"accuracy\"])\n",
        "    return rnn"
      ]
    },
    {
      "cell_type": "code",
      "execution_count": 42,
      "metadata": {
        "colab": {
          "base_uri": "https://localhost:8080/"
        },
        "id": "clj-wufgFLBF",
        "outputId": "a8ec783b-e06e-4303-9aa4-1fd6780fa1a3"
      },
      "outputs": [
        {
          "output_type": "stream",
          "name": "stdout",
          "text": [
            "2022-12-29 14:58:37.719191\n",
            "COMPILE\n",
            "Model: \"sequential_18\"\n",
            "_________________________________________________________________\n",
            " Layer (type)                Output Shape              Param #   \n",
            "=================================================================\n",
            " embedding_18 (Embedding)    (None, 2997, 4)           1028      \n",
            "                                                                 \n",
            " conv1d_18 (Conv1D)          (None, 2990, 64)          2112      \n",
            "                                                                 \n",
            " global_average_pooling1d_18  (None, 64)               0         \n",
            "  (GlobalAveragePooling1D)                                       \n",
            "                                                                 \n",
            " dense_37 (Dense)            (None, 1)                 65        \n",
            "                                                                 \n",
            "=================================================================\n",
            "Total params: 3,205\n",
            "Trainable params: 3,205\n",
            "Non-trainable params: 0\n",
            "_________________________________________________________________\n",
            "None\n"
          ]
        }
      ],
      "source": [
        "print(datetime.now())\n",
        "model=build_model()\n",
        "print(model.summary())  # Print this only once"
      ]
    },
    {
      "cell_type": "markdown",
      "metadata": {
        "id": "MgrC1alOKq07"
      },
      "source": [
        "## Training"
      ]
    },
    {
      "cell_type": "code",
      "execution_count": 43,
      "metadata": {
        "id": "W9xiFzNbFLBE"
      },
      "outputs": [],
      "source": [
        "class CrossValidator():\n",
        "    def __init__(self,epochs,folds,quick_test=False,pred_threshold=0.5):\n",
        "        self.epochs = epochs\n",
        "        self.folds = folds\n",
        "        self.quick_test = quick_test\n",
        "        self.threshold = pred_threshold # e.g. score>0.5 => class 1\n",
        "    \n",
        "    def get_gene_subset(self,all_genes,sub_index):\n",
        "        sub_genes = set()\n",
        "        for index in sub_index:\n",
        "            one_gene = all_genes[index]\n",
        "            sub_genes.add(one_gene)\n",
        "        return sub_genes\n",
        "    \n",
        "    def get_X_y(self,gene_set,allids,allX,allY):\n",
        "        cnt = len(allids)\n",
        "        subsetX=[]\n",
        "        subsetY=[]\n",
        "        if cnt != len(allX) or cnt!= len(allY):\n",
        "            raise Exception('Lengths differ')\n",
        "        for i in range(cnt):\n",
        "            gene_id,tran_id = allids[i]\n",
        "            if gene_id in gene_set:\n",
        "                oneX = allX[i]\n",
        "                oneY = allY[i]\n",
        "                subsetX.append(oneX)\n",
        "                subsetY.append(oneY)\n",
        "        subsetX = np.array(subsetX)\n",
        "        subsetY = np.array(subsetY).reshape((-1,1))\n",
        "        return subsetX,subsetY\n",
        "    \n",
        "    def do_cross_validation(self):\n",
        "        cv_accuracy=[]\n",
        "        cv_precision=[]\n",
        "        cv_recall=[]\n",
        "        cv_f1=[]\n",
        "        fold=0\n",
        "        print(datetime.now())\n",
        "        print('splitting')\n",
        "        # KFold shuffles once before making the partitions\n",
        "        splitter = KFold(n_splits=self.folds,shuffle=True,random_state=42)\n",
        "        for train_index,valid_index in splitter.split(all_genes):\n",
        "            fold += 1\n",
        "            print('Fold',fold)\n",
        "            train_genes = self.get_gene_subset(all_genes,train_index)\n",
        "            valid_genes = self.get_gene_subset(all_genes,valid_index)\n",
        "            X_train,y_train = self.get_X_y(train_genes,allids,allseq,labels)\n",
        "            X_valid,y_valid = self.get_X_y(valid_genes,allids,allseq,labels)\n",
        "\n",
        "            print('Training example')\n",
        "            print(X_train[0])\n",
        "\n",
        "            print('Train sizes',X_train.shape,y_train.shape)\n",
        "            print('Valid sizes',X_valid.shape,y_valid.shape)\n",
        "            print('Train set ones/size',\n",
        "                  np.count_nonzero(y_train),'/',len(y_train))\n",
        "            print('Valid set ones/size',\n",
        "                  np.count_nonzero(y_valid),'/',len(y_valid))\n",
        "\n",
        "            print(\"BUILD MODEL\")\n",
        "            model=build_model()\n",
        "\n",
        "            print(\"FIT\")\n",
        "            print(datetime.now())\n",
        "            history=model.fit(X_train, y_train, # batch_size=10, default=32 works nicely\n",
        "                    epochs=self.epochs, verbose=1,  # verbose=1 for ascii art, verbose=0 for none\n",
        "                    validation_data=(X_valid,y_valid) )\n",
        "\n",
        "            pd.DataFrame(history.history).plot(figsize=(8,5))\n",
        "            plt.grid(True)\n",
        "            plt.gca().set_ylim(0,1)\n",
        "            plt.show()\n",
        "\n",
        "            print(\"Compute valiation accuracy\")\n",
        "            print(datetime.now())\n",
        "            yhat_pred=model.predict(X_valid, verbose=0) \n",
        "            print('Range of scores:',np.min(yhat_pred),'to',np.max(yhat_pred))\n",
        "            yhat_classes=np.where(yhat_pred > self.threshold, 1, 0)\n",
        "            print('Predicted zeros and ones',np.count_nonzero(yhat_classes==0),np.count_nonzero(yhat_classes==1))\n",
        "            # accuracy: (tp + tn) / (p + n)\n",
        "            accuracy = accuracy_score(y_valid, yhat_classes)*100.\n",
        "            # precision tp / (tp + fp)\n",
        "            precision = precision_score(y_valid, yhat_classes)*100.\n",
        "            # recall: tp / (tp + fn)\n",
        "            recall = recall_score(y_valid, yhat_classes)*100.\n",
        "            # f1: 2 tp / (2 tp + fp + fn)\n",
        "            f1 = f1_score(y_valid, yhat_classes)*100.\n",
        "            print('Accuracy: %.2f%% Precision: %.2f%% Recall: %.2f%% F1: %.2f%%' % (accuracy,precision,recall,f1)) \n",
        "            print(datetime.now())\n",
        "            cv_accuracy.append(accuracy)\n",
        "            cv_precision.append(precision)\n",
        "            cv_recall.append(recall)\n",
        "            cv_f1.append(f1)\n",
        "            if self.quick_test:   \n",
        "                print('Break -- this was for code testing only')\n",
        "                break\n",
        "        print()\n",
        "        return cv_accuracy, cv_precision, cv_recall, cv_f1"
      ]
    },
    {
      "cell_type": "code",
      "execution_count": 44,
      "metadata": {
        "colab": {
          "base_uri": "https://localhost:8080/",
          "height": 1000
        },
        "id": "XC9m0W-pFLBH",
        "outputId": "1a878ccf-7466-46c1-aedc-294eb2b20b70",
        "scrolled": false
      },
      "outputs": [
        {
          "output_type": "stream",
          "name": "stdout",
          "text": [
            "2022-12-29 14:58:38.029063\n",
            "2022-12-29 14:58:38.029586\n",
            "splitting\n",
            "Fold 1\n",
            "Training example\n",
            "[147  73  35 ...   0   0   0]\n",
            "Train sizes (8855, 2997) (8855, 1)\n",
            "Valid sizes (2307, 2997) (2307, 1)\n",
            "Train set ones/size 4006 / 8855\n",
            "Valid set ones/size 1067 / 2307\n",
            "BUILD MODEL\n",
            "COMPILE\n",
            "FIT\n",
            "2022-12-29 14:58:40.028790\n",
            "Epoch 1/5\n",
            "277/277 [==============================] - 3s 7ms/step - loss: 0.5996 - accuracy: 0.6761 - val_loss: 0.5373 - val_accuracy: 0.7278\n",
            "Epoch 2/5\n",
            "277/277 [==============================] - 2s 6ms/step - loss: 0.5556 - accuracy: 0.7260 - val_loss: 0.5371 - val_accuracy: 0.7256\n",
            "Epoch 3/5\n",
            "277/277 [==============================] - 2s 6ms/step - loss: 0.5474 - accuracy: 0.7313 - val_loss: 0.5221 - val_accuracy: 0.7469\n",
            "Epoch 4/5\n",
            "277/277 [==============================] - 2s 6ms/step - loss: 0.5384 - accuracy: 0.7420 - val_loss: 0.5144 - val_accuracy: 0.7534\n",
            "Epoch 5/5\n",
            "277/277 [==============================] - 2s 6ms/step - loss: 0.5297 - accuracy: 0.7461 - val_loss: 0.5155 - val_accuracy: 0.7516\n"
          ]
        },
        {
          "output_type": "display_data",
          "data": {
            "text/plain": [
              "<Figure size 576x360 with 1 Axes>"
            ],
            "image/png": "[encoded data removed]"
          },
          "metadata": {
            "needs_background": "light"
          }
        },
        {
          "output_type": "stream",
          "name": "stdout",
          "text": [
            "Compute valiation accuracy\n",
            "2022-12-29 14:58:51.126278\n",
            "Range of scores: 0.015581591 to 0.9666327\n",
            "Predicted zeros and ones 1109 1198\n",
            "Accuracy: 75.16% Precision: 70.62% Recall: 79.29% F1: 74.70%\n",
            "2022-12-29 14:58:51.545041\n",
            "Fold 2\n",
            "Training example\n",
            "[147  73  35 ...   0   0   0]\n",
            "Train sizes (8942, 2997) (8942, 1)\n",
            "Valid sizes (2220, 2997) (2220, 1)\n",
            "Train set ones/size 4116 / 8942\n",
            "Valid set ones/size 957 / 2220\n",
            "BUILD MODEL\n",
            "COMPILE\n",
            "FIT\n",
            "2022-12-29 14:58:53.505692\n",
            "Epoch 1/5\n",
            "280/280 [==============================] - 3s 7ms/step - loss: 0.5928 - accuracy: 0.6760 - val_loss: 0.5528 - val_accuracy: 0.7356\n",
            "Epoch 2/5\n",
            "280/280 [==============================] - 2s 6ms/step - loss: 0.5502 - accuracy: 0.7286 - val_loss: 0.5450 - val_accuracy: 0.7423\n",
            "Epoch 3/5\n",
            "280/280 [==============================] - 2s 6ms/step - loss: 0.5414 - accuracy: 0.7379 - val_loss: 0.5477 - val_accuracy: 0.7396\n",
            "Epoch 4/5\n",
            "280/280 [==============================] - 2s 6ms/step - loss: 0.5304 - accuracy: 0.7436 - val_loss: 0.5461 - val_accuracy: 0.7419\n",
            "Epoch 5/5\n",
            "280/280 [==============================] - 2s 6ms/step - loss: 0.5240 - accuracy: 0.7502 - val_loss: 0.5328 - val_accuracy: 0.7523\n"
          ]
        },
        {
          "output_type": "display_data",
          "data": {
            "text/plain": [
              "<Figure size 576x360 with 1 Axes>"
            ],
            "image/png": "[encoded data removed]"
          },
          "metadata": {
            "needs_background": "light"
          }
        },
        {
          "output_type": "stream",
          "name": "stdout",
          "text": [
            "Compute valiation accuracy\n",
            "2022-12-29 14:59:03.551002\n",
            "Range of scores: 0.0059695 to 0.95845574\n",
            "Predicted zeros and ones 1323 897\n",
            "Accuracy: 75.23% Precision: 72.69% Recall: 68.13% F1: 70.33%\n",
            "2022-12-29 14:59:03.968458\n",
            "Fold 3\n",
            "Training example\n",
            "[147  73  35 ...   0   0   0]\n",
            "Train sizes (8841, 2997) (8841, 1)\n",
            "Valid sizes (2321, 2997) (2321, 1)\n",
            "Train set ones/size 4031 / 8841\n",
            "Valid set ones/size 1042 / 2321\n",
            "BUILD MODEL\n",
            "COMPILE\n",
            "FIT\n",
            "2022-12-29 14:59:05.910642\n",
            "Epoch 1/5\n",
            "277/277 [==============================] - 3s 7ms/step - loss: 0.5912 - accuracy: 0.6792 - val_loss: 0.5623 - val_accuracy: 0.7277\n",
            "Epoch 2/5\n",
            "277/277 [==============================] - 2s 6ms/step - loss: 0.5477 - accuracy: 0.7293 - val_loss: 0.5526 - val_accuracy: 0.7363\n",
            "Epoch 3/5\n",
            "277/277 [==============================] - 2s 6ms/step - loss: 0.5363 - accuracy: 0.7374 - val_loss: 0.5457 - val_accuracy: 0.7419\n",
            "Epoch 4/5\n",
            "277/277 [==============================] - 2s 7ms/step - loss: 0.5254 - accuracy: 0.7474 - val_loss: 0.5517 - val_accuracy: 0.7324\n",
            "Epoch 5/5\n",
            "277/277 [==============================] - 2s 6ms/step - loss: 0.5178 - accuracy: 0.7546 - val_loss: 0.5418 - val_accuracy: 0.7385\n"
          ]
        },
        {
          "output_type": "display_data",
          "data": {
            "text/plain": [
              "<Figure size 576x360 with 1 Axes>"
            ],
            "image/png": "[encoded data removed]"
          },
          "metadata": {
            "needs_background": "light"
          }
        },
        {
          "output_type": "stream",
          "name": "stdout",
          "text": [
            "Compute valiation accuracy\n",
            "2022-12-29 14:59:17.007858\n",
            "Range of scores: 0.008652275 to 0.9735108\n",
            "Predicted zeros and ones 1288 1033\n",
            "Accuracy: 73.85% Precision: 71.06% Recall: 70.44% F1: 70.75%\n",
            "2022-12-29 14:59:17.426427\n",
            "Fold 4\n",
            "Training example\n",
            "[147  73  35 ...   0   0   0]\n",
            "Train sizes (8999, 2997) (8999, 1)\n",
            "Valid sizes (2163, 2997) (2163, 1)\n",
            "Train set ones/size 4108 / 8999\n",
            "Valid set ones/size 965 / 2163\n",
            "BUILD MODEL\n",
            "COMPILE\n",
            "FIT\n",
            "2022-12-29 14:59:19.396294\n",
            "Epoch 1/5\n",
            "282/282 [==============================] - 3s 7ms/step - loss: 0.5950 - accuracy: 0.6840 - val_loss: 0.5558 - val_accuracy: 0.7291\n",
            "Epoch 2/5\n",
            "282/282 [==============================] - 2s 6ms/step - loss: 0.5504 - accuracy: 0.7257 - val_loss: 0.5491 - val_accuracy: 0.7323\n",
            "Epoch 3/5\n",
            "282/282 [==============================] - 2s 6ms/step - loss: 0.5407 - accuracy: 0.7361 - val_loss: 0.5428 - val_accuracy: 0.7402\n",
            "Epoch 4/5\n",
            "282/282 [==============================] - 2s 7ms/step - loss: 0.5306 - accuracy: 0.7459 - val_loss: 0.5384 - val_accuracy: 0.7402\n",
            "Epoch 5/5\n",
            "282/282 [==============================] - 2s 6ms/step - loss: 0.5235 - accuracy: 0.7490 - val_loss: 0.5422 - val_accuracy: 0.7508\n"
          ]
        },
        {
          "output_type": "display_data",
          "data": {
            "text/plain": [
              "<Figure size 576x360 with 1 Axes>"
            ],
            "image/png": "[encoded data removed]"
          },
          "metadata": {
            "needs_background": "light"
          }
        },
        {
          "output_type": "stream",
          "name": "stdout",
          "text": [
            "Compute valiation accuracy\n",
            "2022-12-29 14:59:30.450620\n",
            "Range of scores: 0.00922448 to 0.9687228\n",
            "Predicted zeros and ones 1069 1094\n",
            "Accuracy: 75.08% Precision: 69.47% Recall: 78.76% F1: 73.82%\n",
            "2022-12-29 14:59:30.728340\n",
            "Fold 5\n",
            "Training example\n",
            "[160 126 247 ...   0   0   0]\n",
            "Train sizes (9011, 2997) (9011, 1)\n",
            "Valid sizes (2151, 2997) (2151, 1)\n",
            "Train set ones/size 4031 / 9011\n",
            "Valid set ones/size 1042 / 2151\n",
            "BUILD MODEL\n",
            "COMPILE\n",
            "FIT\n",
            "2022-12-29 14:59:32.707300\n",
            "Epoch 1/5\n",
            "282/282 [==============================] - 3s 7ms/step - loss: 0.5895 - accuracy: 0.6794 - val_loss: 0.5775 - val_accuracy: 0.7020\n",
            "Epoch 2/5\n",
            "282/282 [==============================] - 2s 6ms/step - loss: 0.5473 - accuracy: 0.7321 - val_loss: 0.5623 - val_accuracy: 0.7197\n",
            "Epoch 3/5\n",
            "282/282 [==============================] - 3s 9ms/step - loss: 0.5382 - accuracy: 0.7429 - val_loss: 0.5543 - val_accuracy: 0.7187\n",
            "Epoch 4/5\n",
            "282/282 [==============================] - 3s 10ms/step - loss: 0.5293 - accuracy: 0.7482 - val_loss: 0.5448 - val_accuracy: 0.7280\n",
            "Epoch 5/5\n",
            "282/282 [==============================] - 2s 8ms/step - loss: 0.5230 - accuracy: 0.7511 - val_loss: 0.5384 - val_accuracy: 0.7313\n"
          ]
        },
        {
          "output_type": "display_data",
          "data": {
            "text/plain": [
              "<Figure size 576x360 with 1 Axes>"
            ],
            "image/png": "[encoded data removed]"
          },
          "metadata": {
            "needs_background": "light"
          }
        },
        {
          "output_type": "stream",
          "name": "stdout",
          "text": [
            "Compute valiation accuracy\n",
            "2022-12-29 14:59:45.036025\n",
            "Range of scores: 0.008221558 to 0.9688867\n",
            "Predicted zeros and ones 1079 1072\n",
            "Accuracy: 73.13% Precision: 71.64% Recall: 73.70% F1: 72.66%\n",
            "2022-12-29 14:59:45.462905\n",
            "\n",
            "Cross validation 5 folds 5 epochs\n",
            " accuracy mean 74.49% +/- 0.85\n",
            " precision mean 71.09% +/- 1.07\n",
            " recall mean 74.06% +/- 4.42\n",
            " F1 mean 72.45% +/- 1.70\n",
            "2022-12-29 14:59:45.466907\n"
          ]
        }
      ],
      "source": [
        "print(datetime.now())\n",
        "cvdo = CrossValidator(EPOCHS,FOLDS,BREAK)\n",
        "cv_accuracy, cv_precision, cv_recall, cv_f1 = cvdo.do_cross_validation()   \n",
        "print(\"Cross validation %d folds %d epochs\" % (FOLDS,EPOCHS)) \n",
        "print(\" accuracy mean %.2f%% +/- %.2f\" % (np.mean(cv_accuracy), np.std(cv_accuracy)))\n",
        "print(\" precision mean %.2f%% +/- %.2f\" % (np.mean(cv_precision), np.std(cv_precision)))\n",
        "print(\" recall mean %.2f%% +/- %.2f\" % (np.mean(cv_recall), np.std(cv_recall)))\n",
        "print(\" F1 mean %.2f%% +/- %.2f\" % (np.mean(cv_f1), np.std(cv_f1)))\n",
        "print(datetime.now())"
      ]
    },
    {
      "cell_type": "code",
      "execution_count": 44,
      "metadata": {
        "id": "thQspN3Nga5S"
      },
      "outputs": [],
      "source": []
    }
  ],
  "metadata": {
    "accelerator": "GPU",
    "colab": {
      "provenance": []
    },
    "gpuClass": "standard",
    "kernelspec": {
      "display_name": "Python 3 (ipykernel)",
      "language": "python",
      "name": "python3"
    },
    "language_info": {
      "codemirror_mode": {
        "name": "ipython",
        "version": 3
      },
      "file_extension": ".py",
      "mimetype": "text/x-python",
      "name": "python",
      "nbconvert_exporter": "python",
      "pygments_lexer": "ipython3",
      "version": "3.10.0"
    }
  },
  "nbformat": 4,
  "nbformat_minor": 0
}