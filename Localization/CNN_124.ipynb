{
 "cells": [
  {
   "cell_type": "markdown",
   "metadata": {
    "id": "PG-tGRnlFLA3"
   },
   "source": [
    "# CNN + GlobalAvgPool \n",
    "Based on CNN 107 which got 75% acc on H1 coding len 2000-4000.  \n",
    "Model: Embed mask, Conv1D, GlobalAvgPool.   \n",
    "\n",
    "H1 coding len 3000-4000.  \n",
    "Cross validation 5 folds 5 epochs, accuracy mean , F1 mean \n",
    "\n",
    "Same as CNN 118 but switch K=4 to K=1."
   ]
  },
  {
   "cell_type": "code",
   "execution_count": 131,
   "metadata": {
    "colab": {
     "base_uri": "https://localhost:8080/"
    },
    "id": "0RmwUsVLFLA6",
    "outputId": "02bb5b0a-a491-4938-abb2-07f13a7d2e84"
   },
   "outputs": [
    {
     "name": "stdout",
     "output_type": "stream",
     "text": [
      "2022-12-29 16:02:19.750611\n",
      "Python 3.8.16\n",
      "sklearn 1.0.2\n"
     ]
    }
   ],
   "source": [
    "from datetime import datetime\n",
    "print(datetime.now())\n",
    "from platform import python_version\n",
    "print('Python',python_version())\n",
    "import numpy as np\n",
    "import pandas as pd\n",
    "from matplotlib import pyplot as plt \n",
    "import sklearn   # pip install --upgrade scikit-learn\n",
    "print('sklearn',sklearn.__version__)"
   ]
  },
  {
   "cell_type": "markdown",
   "metadata": {
    "id": "tUtGXPrcFLA8"
   },
   "source": [
    "We prevously used sklearn.model_selection.ShuffleSplit   \n",
    "Now we avoid it due to this note in the \n",
    "[documentation](https://scikit-learn.org/stable/modules/generated/sklearn.model_selection.ShuffleSplit.html):\n",
    "Note: contrary to other cross-validation strategies, random splits do not guarantee that all folds will be different, although this is still very likely for sizeable datasets."
   ]
  },
  {
   "cell_type": "code",
   "execution_count": 132,
   "metadata": {
    "id": "PRX-UEr8FLA8"
   },
   "outputs": [],
   "source": [
    "import tensorflow as tf\n",
    "dt='float32'\n",
    "tf.keras.backend.set_floatx('float32')\n",
    "tf.random.set_seed(42) \n",
    "\n",
    "from tensorflow import keras\n",
    "from sklearn.model_selection import KFold\n",
    "from sklearn.metrics import accuracy_score\n",
    "from sklearn.metrics import precision_score\n",
    "from sklearn.metrics import recall_score\n",
    "from sklearn.metrics import f1_score\n",
    "\n",
    "from keras.models import Sequential\n",
    "from keras.layers import Masking\n",
    "from keras.layers import Embedding\n",
    "from keras.layers import Conv1D\n",
    "from keras.layers import MaxPooling1D\n",
    "from keras.layers import GlobalAveragePooling1D\n",
    "from keras.layers import GlobalMaxPooling1D\n",
    "from keras.layers import Flatten\n",
    "from keras.layers import Attention\n",
    "from keras.layers import Bidirectional\n",
    "from keras.layers import LSTM\n",
    "from keras.layers import Dense\n",
    "from keras.layers import Dropout\n",
    "from keras.losses import BinaryCrossentropy\n",
    "\n",
    "K=1\n",
    "RCI_THRESHOLD=0.0\n",
    "CFILTERS=64\n",
    "FILTERSIZE=8\n",
    "RCELLS=16\n",
    "DCELLS=8\n",
    "EPOCHS=5\n",
    "FOLDS=5      \n",
    "EMBED_DIMEN = 4 # arbitrary hyperparameter\n",
    "BREAK = False   # break after first fold\n",
    "MINLEN=3000\n",
    "MAXLEN=4000   "
   ]
  },
  {
   "cell_type": "code",
   "execution_count": 133,
   "metadata": {
    "colab": {
     "base_uri": "https://localhost:8080/"
    },
    "id": "OlzN9OdsFWEU",
    "outputId": "fd640043-a721-4f6e-b4c7-c30719139a01"
   },
   "outputs": [
    {
     "name": "stdout",
     "output_type": "stream",
     "text": [
      "Running on CoLab\n",
      "Drive already mounted at /content/drive/; to attempt to forcibly remount, call drive.mount(\"/content/drive/\", force_remount=True).\n",
      "/content/drive/My Drive/data/Localization/TrainTest/\n"
     ]
    }
   ],
   "source": [
    "try:\n",
    "    from google.colab import drive\n",
    "    IN_COLAB = True\n",
    "    print('Running on CoLab')\n",
    "    PATH='/content/drive/'\n",
    "    drive.mount(PATH)\n",
    "    DATA_DIR=PATH+'My Drive/data/Localization/TrainTest/'  # must end in \"/\"\n",
    "except:\n",
    "    IN_COLAB = False\n",
    "    DATA_DIR = 'D:/Adjeroh/Localization/TrainTest/'   # Windows\n",
    "    DATA_DIR = '/Users/jasonmiller/WVU/Localization/TrainTest/'    # Mac\n",
    "print(DATA_DIR)"
   ]
  },
  {
   "cell_type": "code",
   "execution_count": 134,
   "metadata": {
    "id": "LnkpVKdMFLA-"
   },
   "outputs": [],
   "source": [
    "GENES_FILE =    'CNRCI_coding_train_genes.csv'\n",
    "RCI_FILE =      'CNRCI_coding_train_RCI.gc42.csv'\n",
    "SEQUENCE_FILE = 'CNRCI_coding_train_transcripts.gc42.csv'\n",
    "COUNTS_FILE=    'CNRCI_coding_train_counts.K4.gc42.csv'"
   ]
  },
  {
   "cell_type": "code",
   "execution_count": 135,
   "metadata": {
    "colab": {
     "base_uri": "https://localhost:8080/"
    },
    "id": "e3p4QzQJFLA_",
    "outputId": "729017f8-4bbb-4c4c-898d-3ec34fe545fd"
   },
   "outputs": [
    {
     "name": "stdout",
     "output_type": "stream",
     "text": [
      "Cell line for today: 1 = H1.hESC\n"
     ]
    }
   ],
   "source": [
    "def get_ordered_list():\n",
    "    ordered_list = \\\n",
    "    ['A549',\\\n",
    "      'H1.hESC',\\\n",
    "      'HeLa.S3',\\\n",
    "      'HepG2',\\\n",
    "      'HT1080',\\\n",
    "      'HUVEC',\\\n",
    "      'MCF.7',\\\n",
    "      'NCI.H460',\\\n",
    "      'NHEK',\\\n",
    "      'SK.MEL.5',\\\n",
    "      'SK.N.DZ',\\\n",
    "      'SK.N.SH',\\\n",
    "      'GM12878',\\\n",
    "      'K562',\\\n",
    "      'IMR.90']\n",
    "    return ordered_list\n",
    "CELL_LINE_NUMBER=1\n",
    "all_cell_lines = get_ordered_list()\n",
    "cell_line_name = all_cell_lines[CELL_LINE_NUMBER]\n",
    "print('Cell line for today:',CELL_LINE_NUMBER,'=',cell_line_name)"
   ]
  },
  {
   "cell_type": "markdown",
   "metadata": {
    "id": "UtqdpJOxFLBA"
   },
   "source": [
    "## Data Load"
   ]
  },
  {
   "cell_type": "code",
   "execution_count": 136,
   "metadata": {
    "colab": {
     "base_uri": "https://localhost:8080/"
    },
    "id": "p35ehKV3Kq0z",
    "outputId": "b166f14a-23de-4cbf-adf1-a1a69dea93fe"
   },
   "outputs": [
    {
     "name": "stdout",
     "output_type": "stream",
     "text": [
      "[1, 1]\n",
      "[20, 16]\n",
      "[63, 57]\n",
      "[64, 0]\n",
      "0\n",
      "1\n"
     ]
    }
   ],
   "source": [
    "class DataLoader():\n",
    "    def __init__(self):\n",
    "        self.cache=dict() \n",
    "        self.vals = {'A':0, 'C':1, 'G':2, 'T':3}\n",
    "        \n",
    "    def load_gene_rci_values(self,filepath,cell_line):\n",
    "        '''\n",
    "        Load from RCI csv file.\n",
    "        Return dict with keys=gene:str and values=RCI:float.\n",
    "        '''\n",
    "        gene_to_rci = {}\n",
    "        with open (filepath,'r') as handle:\n",
    "            header = None\n",
    "            for row in handle:\n",
    "                if header is None:\n",
    "                    header = row # skip file's header line\n",
    "                else:\n",
    "                    line = row.strip()\n",
    "                    fields = line.split(',')\n",
    "                    gene_id = fields[0]\n",
    "                    rci_val = fields[cell_line+1]\n",
    "                    if rci_val != \"nan\":\n",
    "                        # Convert string nan to float(nan)\n",
    "                        gene_to_rci[gene_id] = float(rci_val)\n",
    "        return gene_to_rci\n",
    "    \n",
    "    def seq_to_kmer_values(self,rna,K):\n",
    "        # The cache may represent more than one K. Probably not a problem.\n",
    "        N_indicator = 0 # indicator value\n",
    "        vec=[] # seq converted to list of K-mers \n",
    "        length = len(rna)\n",
    "        for i in range(length-K+1):\n",
    "            kmer = rna[i:i+K]\n",
    "            if 'N' in kmer:\n",
    "                value = N_indicator\n",
    "            elif kmer in self.cache.keys():\n",
    "                value = self.cache[kmer]\n",
    "            else:\n",
    "                value = 0\n",
    "                for j in range(K):\n",
    "                    value *= 4   \n",
    "                    nextnuc = kmer[j] \n",
    "                    nucval = self.vals[nextnuc]\n",
    "                    value += nucval\n",
    "                value += 1   # NNN => 0, AAA => 1\n",
    "                self.cache[kmer] = value\n",
    "            vec.append(value)\n",
    "        return vec\n",
    "\n",
    "    def rci_to_label(self,rci):\n",
    "        CYTO_LABEL = 1\n",
    "        NUCLEAR_LABEL = 0\n",
    "        # cnrci = log (cyto-to-nuclear ratio)\n",
    "        # rci > 0 implies cytoplasmic\n",
    "        if rci > RCI_THRESHOLD:\n",
    "            return CYTO_LABEL\n",
    "        return NUCLEAR_LABEL\n",
    "\n",
    "    def load_sequence(self,filepath):\n",
    "        labels=[]\n",
    "        allids=[]\n",
    "        allseq=[]\n",
    "        NREPEAT = str('N'*MAXLEN)\n",
    "        with open (filepath,'r') as handle:\n",
    "            header = None\n",
    "            for row in handle:\n",
    "                if header is None:\n",
    "                    header = row\n",
    "                else:\n",
    "                    line    = row.strip()\n",
    "                    fields  = line.split(',')\n",
    "                    tran_id = fields[0]  # with version number\n",
    "                    gene_id = fields[1]        # without version number\n",
    "                    seq_len = int(fields[3])\n",
    "                    seq_txt = fields[4]\n",
    "                    if seq_len>=MINLEN and seq_len<=MAXLEN and gene_id in gene_to_rci.keys():\n",
    "                        allids.append( (gene_id,tran_id) )\n",
    "                        rci_val = gene_to_rci[gene_id]\n",
    "                        rci_label = self.rci_to_label(rci_val)\n",
    "                        labels.append(rci_label)\n",
    "                        if seq_len<MAXLEN:\n",
    "                            seq_txt = seq_txt + NREPEAT\n",
    "                            seq_txt = seq_txt[:MAXLEN]\n",
    "                        hot_vec = self.seq_to_kmer_values(seq_txt,K)\n",
    "                        allseq.append(hot_vec)\n",
    "        return labels,allids,allseq\n",
    "    \n",
    "loader = DataLoader()\n",
    "# test it\n",
    "print(loader.seq_to_kmer_values('AAAA',3))\n",
    "print(loader.seq_to_kmer_values('CATT',3))\n",
    "print(loader.seq_to_kmer_values('TTGA',3))\n",
    "print(loader.seq_to_kmer_values('TTTN',3))\n",
    "# test it\n",
    "print(loader.rci_to_label(-0.9))\n",
    "print(loader.rci_to_label(1.1))"
   ]
  },
  {
   "cell_type": "code",
   "execution_count": 137,
   "metadata": {
    "colab": {
     "base_uri": "https://localhost:8080/"
    },
    "id": "cYoYDc93FLBB",
    "outputId": "dabd5f7f-1157-4fbb-c54b-c96ac28f76af"
   },
   "outputs": [
    {
     "name": "stdout",
     "output_type": "stream",
     "text": [
      "2022-12-29 16:02:23.601166\n",
      "Load RCI values...\n",
      "Num RCI: 13000\n",
      "Example RCI: [('ENSG00000000003', 1.85734), ('ENSG00000000005', 5.88264), ('ENSG00000000419', 2.58954)]\n",
      "Load genes...\n",
      "2022-12-29 16:02:23.629997\n",
      "Load sequence...\n",
      "2022-12-29 16:02:33.197622\n",
      "Num IDs: 6935\n",
      "Example IDs: [('ENSG00000197530', 'ENST00000505820.7'), ('ENSG00000149527', 'ENST00000278878.6'), ('ENSG00000171680', 'ENST00000535355.6'), ('ENSG00000171680', 'ENST00000537245.6')]\n",
      "Count 2965 ones out of 6935 labels.\n",
      "Example labels: [0, 0, 0, 0]\n",
      "Num counts: 6935\n",
      "Example sequence: [4, 1, 4, 1, 1, 1, 4, 3, 2, 4, 4, 2, 4, 2, 1, 4, 2, 1, 3, 1, 2, 4, 2, 1, 1, 3, 3, 2, 2, 4, 3, 1, 3, 3, 4, 3, 1, 4, 3, 2, 4, 3, 1, 4, 3, 2, 4, 3, 4, 3, 2, 2, 4, 3, 1, 1, 4, 4, 2, 2, 1, 3, 2, 1, 3, 3, 3, 1, 3, 3, 1, 3, 3, 2, 1, 4, 3, 1, 3, 3, 4, 3, 2, 3, 4, 2, 2, 3, 1, 2, 4, 2, 2, 2, 4, 4, 2, 2, 2, 1, 4, 2, 1, 2, 1, 3, 2, 4, 3, 1, 3, 2, 4, 1, 3, 4, 4, 4, 4, 4, 2, 1, 3, 3, 4, 4, 1, 1, 2, 4, 4, 4, 3, 3, 1, 1, 4, 3, 2, 2, 2, 1, 4, 3, 3, 2, 4, 1, 1, 3, 1, 2, 2, 1, 3, 3, 3, 3, 4, 2, 2, 1, 4, 2, 2, 1, 3, 1, 2, 1, 3, 4, 4, 2, 1, 3, 3, 3, 2, 4, 4, 1, 4, 1, 1, 4, 4, 4, 4, 1, 4, 4, 4, 4, 4, 3, 3, 4, 4, 4, 1, 4, 3, 1, 3, 3, 3, 1, 1, 2, 2, 4, 1, 3, 1, 1, 3, 3, 2, 1, 3, 2, 2, 2, 1, 2, 1, 2, 3, 2, 1, 2, 2, 4, 4, 1, 2, 4, 2, 2, 4, 2, 2, 2, 1, 3, 2, 1, 3, 3, 3, 3, 1, 2, 1, 2, 2, 3, 3, 2, 2, 1, 3, 1, 2, 2, 2, 2, 1, 1, 3, 2, 4, 2, 2, 1, 2, 1, 2, 4, 2, 2, 2, 1, 2, 2, 2, 4, 2, 1, 3, 2, 1, 2, 2, 2, 1, 2, 2, 2, 1, 3, 3, 2, 2, 1, 3, 2, 1, 3, 2, 2, 3, 3, 3, 3, 3, 2, 1, 2, 2, 4, 4, 3, 3, 4, 3, 2, 2, 1, 2, 2, 4, 4, 1, 3, 4, 3, 2, 2, 4, 3, 4, 4, 2, 4, 3, 2, 3, 3, 1, 3, 3, 2, 4, 2, 2, 1, 2, 4, 3, 3, 1, 2, 1, 3, 4, 3, 2, 1, 3, 4, 4, 3, 1, 4, 3, 2, 2, 2, 3, 3, 3, 3, 2, 2, 3, 1, 3, 3, 3, 3, 3, 2, 4, 2, 4, 3, 2, 2, 4, 3, 3, 3, 1, 3, 3, 2, 4, 3, 4, 4, 2, 1, 2, 2, 4, 3, 2, 2, 4, 3, 3, 3, 4, 3, 2, 1, 3, 3, 1, 2, 2, 2, 2, 1, 3, 1, 3, 3, 3, 1, 2, 2, 2, 2, 1, 3, 3, 2, 2, 1, 2, 2, 2, 2, 4, 3, 3, 2, 2, 4, 3, 2, 2, 2, 1, 4, 3, 2, 2, 2, 1, 2, 3, 3, 3, 1, 1, 4, 2, 2, 2, 3, 1, 2, 2, 4, 4, 3, 3, 3, 2, 4, 3, 2, 2, 4, 3, 4, 2, 4, 1, 4, 4, 3, 2, 1, 2, 2, 1, 3, 1, 1, 2, 2, 3, 4, 2, 2, 2, 1, 3, 3, 3, 2, 4, 3, 1, 2, 4, 2, 1, 3, 1, 3, 4, 3, 1, 2, 2, 2, 4, 3, 1, 3, 4, 3, 3, 3, 3, 3, 1, 2, 3, 2, 4, 2, 1, 2, 2, 2, 2, 1, 3, 3, 3, 3, 1, 3, 3, 1, 1, 1, 2, 3, 3, 3, 3, 2, 4, 2, 4, 3, 3, 3, 1, 4, 1, 3, 3, 1, 3, 3, 4, 2, 2, 4, 3, 3, 2, 4, 3, 3, 3, 3, 4, 2, 2, 2, 1, 2, 1, 3, 1, 4, 3, 2, 2, 1, 3, 3, 2, 3, 2, 2, 4, 3, 2, 2, 1, 4, 2, 4, 2, 2, 1, 3, 3, 3, 2, 1, 3, 4, 3, 2, 4, 3, 4, 2, 1, 2, 1, 3, 1, 1, 3, 1, 2, 1, 1, 2, 1, 2, 2, 3, 2, 4, 2, 2, 2, 4, 2, 3, 4, 4, 1, 2, 2, 4, 3, 4, 3, 3, 2, 2, 2, 3, 3, 2, 2, 1, 2, 2, 4, 2, 1, 3, 2, 3, 3, 2, 2, 2, 1, 1, 3, 3, 1, 3, 3, 4, 3, 1, 3, 2, 4, 2, 1, 2, 1, 3, 2, 2, 1, 4, 3, 2, 4, 2, 3, 3, 4, 2, 1, 1, 4, 3, 3, 3, 3, 2, 2, 4, 3, 3, 2, 2, 3, 4, 2, 4, 4, 4, 2, 2, 4, 3, 3, 3, 1, 3, 1, 3, 1, 3, 2, 1, 3, 1, 3, 3, 2, 1, 4, 3, 3, 3, 2, 2, 2, 1, 1, 1, 3, 3, 3, 1, 3, 2, 2, 1, 3, 3, 3, 1, 4, 3, 2, 2, 4, 3, 2, 2, 2, 3, 4, 2, 2, 2, 4, 4, 2, 4, 2, 4, 2, 1, 4, 4, 2, 1, 3, 3, 2, 4, 2, 1, 2, 2, 4, 3, 3, 4, 2, 1, 4, 3, 3, 4, 3, 2, 1, 3, 4, 3, 1, 2, 2, 1, 2, 1, 3, 3, 1, 2, 2, 2, 2, 2, 1, 2, 1, 4, 3, 2, 2, 3, 3, 3, 1, 3, 2, 4, 3, 3, 3, 4, 4, 2, 3, 2, 2, 2, 2, 1, 2, 2, 2, 2, 1, 2, 2, 2, 2, 2, 4, 3, 2, 1, 2, 2, 3, 3, 3, 2, 2, 1, 3, 2, 3, 1, 3, 3, 3, 3, 1, 4, 3, 3, 2, 2, 2, 1, 3, 1, 1, 3, 1, 3, 3, 3, 3, 3, 1, 3, 3, 1, 2, 2, 1, 4, 3, 4, 3, 3, 1, 4, 4, 2, 1, 2, 2, 1, 3, 4, 3, 2, 4, 3, 3, 1, 2, 1, 4, 3, 4, 3, 2, 4, 2, 4, 3, 4, 3, 3, 2, 4, 1, 2, 2, 2, 2, 2, 4, 2, 4, 3, 2, 2, 4, 1, 2, 4, 2, 4, 2, 4, 3, 3, 2, 2, 2, 3, 1, 4, 1, 2, 1, 3, 3, 3, 3, 4, 3, 4, 3, 3, 3, 1, 2, 1, 3, 3, 2, 2, 4, 3, 3, 3, 4, 3, 1, 2, 4, 2, 2, 1, 3, 2, 1, 4, 3, 3, 2, 4, 4, 4, 2, 2, 4, 2, 4, 2, 2, 1, 3, 3, 1, 2, 3, 4, 2, 1, 2, 2, 3, 3, 4, 3, 3, 2, 1, 3, 2, 4, 3, 2, 4, 4, 2, 2, 4, 4, 2, 2, 1, 3, 1, 3, 2, 2, 3, 3, 2, 1, 3, 3, 1, 3, 3, 2, 2, 1, 3, 1, 3, 3, 2, 4, 2, 2, 1, 4, 2, 2, 4, 3, 2, 4, 4, 2, 1, 3, 1, 3, 2, 4, 3, 2, 2, 1, 3, 2, 4, 3, 2, 2, 2, 2, 2, 3, 2, 1, 1, 4, 3, 3, 2, 4, 3, 1, 3, 2, 1, 2, 2, 3, 1, 1, 3, 2, 1, 4, 3, 3, 1, 2, 3, 3, 3, 1, 3, 1, 1, 4, 3, 3, 1, 1, 3, 2, 1, 3, 2, 2, 1, 2, 1, 2, 3, 3, 3, 3, 3, 3, 3, 2, 4, 2, 4, 2, 1, 2, 2, 4, 2, 2, 1, 3, 3, 2, 4, 3, 2, 1, 3, 2, 2, 2, 1, 3, 1, 2, 3, 2, 2, 2, 2, 2, 2, 1, 3, 3, 2, 2, 3, 3, 3, 3, 2, 2, 1, 2, 2, 1, 4, 2, 1, 3, 2, 1, 2, 2, 1, 2, 2, 1, 2, 2, 1, 2, 2, 1, 2, 2, 2, 1, 1, 3, 3, 1, 3, 3, 3, 3, 2, 1, 2, 2, 1, 3, 3, 1, 3, 3, 3, 3, 2, 4, 3, 3, 4, 3, 3, 1, 3, 2, 4, 3, 2, 2, 2, 3, 2, 2, 4, 2, 3, 4, 4, 2, 2, 3, 3, 3, 1, 3, 2, 4, 3, 2, 4, 2, 1, 2, 2, 4, 4, 2, 4, 4, 2, 4, 3, 2, 1, 2, 2, 1, 1, 4, 3, 2, 2, 1, 2, 2, 1, 4, 2, 2, 1, 2, 3, 3, 2, 3, 2, 2, 1, 4, 2, 2, 3, 2, 2, 4, 3, 3, 4, 2, 4, 3, 2, 4, 2, 2, 2, 3, 2, 3, 3, 3, 1, 1, 2, 2, 3, 2, 2, 4, 2, 1, 1, 3, 1, 2, 3, 1, 2, 3, 4, 2, 2, 4, 3, 3, 3, 3, 3, 2, 4, 3, 2, 4, 3, 4, 2, 2, 2, 4, 3, 3, 3, 1, 3, 2, 2, 2, 4, 3, 3, 4, 2, 3, 2, 3, 2, 4, 2, 4, 3, 2, 4, 3, 3, 2, 1, 3, 2, 4, 3, 3, 3, 3, 2, 4, 2, 2, 4, 2, 4, 4, 4, 3, 1, 3, 2, 3, 4, 2, 1, 2, 4, 3, 3, 2, 1, 2, 2, 3, 2, 2, 2, 3, 3, 4, 2, 2, 4, 2, 1, 4, 3, 3, 2, 2, 3, 4, 2, 4, 2, 4, 3, 4, 3, 2, 1, 2, 4, 2, 3, 3, 1, 3, 2, 3, 2, 1, 1, 3, 2, 4, 3, 2, 4, 2, 2, 2, 3, 2, 4, 3, 3, 4, 2, 1, 2, 2, 2, 4, 3, 4, 3, 4, 3, 1, 2, 3, 3, 3, 1, 1, 2, 2, 2, 1, 2, 3, 4, 2, 3, 3, 2, 2, 3, 1, 3, 4, 2, 2, 3, 3, 4, 2, 2, 4, 2, 2, 3, 2, 2, 1, 4, 2, 4, 3, 3, 1, 3, 2, 4, 3, 2, 4, 3, 3, 1, 2, 3, 1, 3, 4, 4, 4, 3, 2, 2, 1, 3, 3, 3, 1, 3, 1, 1, 2, 1, 4, 4, 3, 1, 2, 4, 2, 2, 2, 4, 3, 4, 1, 2, 1, 1, 2, 3, 4, 2, 1, 1, 2, 2, 4, 2, 1, 3, 2, 1, 1, 1, 3, 3, 2, 1, 3, 1, 3, 2, 2, 3, 2, 2, 2, 4, 2, 4, 2, 2, 3, 2, 2, 1, 2, 4, 3, 4, 2, 2, 2, 2, 2, 3, 2, 2, 1, 2, 3, 1, 3, 2, 2, 2, 2, 2, 2, 4, 4, 2, 2, 1, 2, 2, 4, 3, 3, 1, 2, 2, 3, 3, 3, 1, 3, 1, 4, 2, 2, 3, 4, 2, 4, 3, 2, 1, 3, 1, 3, 3, 2, 4, 3, 1, 3, 2, 2, 1, 2, 4, 2, 3, 3, 3, 2, 1, 3, 2, 2, 3, 3, 3, 4, 2, 1, 3, 1, 3, 4, 3, 3, 3, 3, 4, 4, 2, 1, 3, 1, 2, 4, 3, 4, 3, 2, 1, 1, 2, 1, 3, 2, 1, 2, 3, 3, 3, 2, 3, 3, 2, 3, 1, 2, 4, 3, 2, 4, 4, 4, 4, 1, 2, 2, 3, 1, 3, 3, 2, 4, 1, 2, 1, 2, 3, 4, 2, 1, 3, 3, 2, 3, 4, 3, 3, 2, 3, 3, 2, 4, 3, 4, 2, 2, 1, 3, 3, 1, 2, 4, 3, 3, 4, 1, 2, 2, 1, 2, 4, 4, 2, 2, 1, 2, 4, 1, 4, 3, 4, 3, 3, 1, 4, 1, 4, 2, 2, 4, 3, 3, 2, 2, 2, 4, 3, 2, 4, 3, 2, 2, 2, 3, 2, 3, 3, 2, 1, 4, 3, 3, 3, 1, 3, 3, 1, 2, 1, 3, 2, 2, 1, 2, 3, 3, 3, 1, 3, 2, 2, 1, 3, 3, 1, 2, 3, 3, 2, 2, 1, 2, 4, 4, 2, 3, 4, 2, 2, 4, 2, 4, 2, 2, 4, 3, 2, 1, 3, 4, 4, 1, 2, 3, 1, 4, 3, 3, 2, 2, 4, 3, 3, 1, 2, 4, 3, 2, 2, 1, 3, 3, 2, 2, 2, 3, 1, 2, 1, 3, 4, 4, 2, 2, 3, 3, 1, 2, 2, 4, 4, 2, 2, 1, 2, 2, 1, 2, 2, 2, 2, 1, 2, 2, 4, 1, 2, 3, 3, 2, 1, 3, 2, 4, 3, 2, 4, 1, 2, 1, 2, 3, 3, 4, 2, 3, 1, 4, 3, 3, 2, 3, 4, 2, 4, 3, 3, 1, 2, 1, 3, 2, 4, 2, 1, 3, 2, 3, 2, 2, 2, 2, 3, 3, 2, 1, 4, 2, 1, 2, 2, 2, 1, 2, 3, 3, 1, 3, 4, 2, 3, 3, 2, 2, 4, 3, 3, 4, 2, 2, 4, 2, 1, 3, 3, 3, 4, 4, 3, 1, 3, 2, 1, 3, 2, 1, 3, 2, 2, 4, 2, 1, 2, 2, 4, 2, 2, 2, 4, 2, 4, 3, 2, 4, 3, 4, 2, 2, 1, 2, 3, 2, 4, 3, 3, 2, 2, 3, 3, 2, 1, 4, 2, 1, 3, 3, 3, 4, 2, 1, 4, 3, 3, 4, 4, 2, 1, 2, 3, 3, 2, 2, 3, 4, 1, 1, 2, 2, 1, 2, 1, 2, 3, 2, 2, 2, 4, 4, 2, 2, 4, 3, 3, 3, 3, 2, 1, 2, 2, 1, 2, 1, 3, 2, 4, 4, 2, 1, 3, 2, 3, 4, 2, 2, 3, 3, 2, 2, 1, 3, 3, 3, 1, 2, 3, 3, 1, 3, 3, 2, 2, 1, 2, 2, 1, 4, 2, 1, 3, 2, 1, 4, 2, 2, 3, 1, 3, 1, 3, 3, 1, 2, 3, 1, 3, 3, 4, 3, 2, 1, 2, 2, 3, 3, 2, 4, 2, 3, 3, 3, 1, 3, 2, 2, 2, 2, 4, 1, 2, 3, 3, 2, 2, 1, 2, 4, 3, 2, 1, 2, 2, 3, 2, 2, 3, 3, 2, 3, 3, 3, 3, 1, 1, 3, 3, 2, 3, 4, 3, 3, 1, 3, 3, 4, 3, 3, 1, 3, 2, 4, 3, 2, 4, 1, 2, 1, 2, 1, 1, 2, 1, 2, 2, 4, 2, 2, 4, 1, 2, 1, 2, 2, 1, 3, 3, 2, 1, 3, 3, 2, 2, 4, 3, 2, 2, 4, 3, 3, 4, 3, 4, 2, 2, 4, 3, 2, 4, 4, 2, 2, 1, 3, 2, 1, 3, 2, 4, 3, 1, 4, 3, 3, 4, 3, 3, 1, 3, 1, 2, 2, 4, 3, 2, 4, 2, 2, 4, 3, 4, 3, 3, 2, 4, 1, 2, 4, 1, 2, 2, 4, 2, 2, 1, 2, 2, 2, 4, 2, 4, 3, 2, 2, 3, 3, 2, 3, 3, 3, 3, 3, 2, 4, 3, 1, 3, 4, 1, 2, 4, 3, 2, 1, 3, 2, 4, 2, 4, 3, 2, 2, 2, 3, 3, 2, 1, 2, 2, 2, 4, 3, 2, 2, 4, 3, 3, 3, 3, 1, 2, 1, 2, 4, 3, 2, 4, 4, 2, 4, 1, 2, 2, 3, 2, 2, 4, 2, 4, 1, 2, 2, 1, 3, 3, 1, 2, 2, 4, 3, 3, 1, 3, 1, 2, 2, 2, 1, 2, 2, 3, 3, 2, 4, 2, 2, 2, 2, 4, 3, 4, 1, 2, 2, 4, 2, 2, 2, 3, 2, 4, 3, 2, 2, 2, 2, 1, 3, 3, 2, 2, 2, 4, 3, 2, 1, 3, 3, 3, 1, 3, 4, 2, 4, 3, 2, 1, 4, 4, 2, 1, 1, 3, 2, 4, 2, 4, 2, 2, 1, 2, 4, 3, 3, 3, 1, 2, 2, 4, 2, 2, 1, 3, 3, 4, 3, 3, 2, 2, 4, 4, 2, 2, 3, 2, 2, 1, 1, 3, 4, 2, 1, 3, 2, 4, 3, 3, 1, 4, 3, 3, 1, 2, 4, 2, 4, 3, 3, 2, 2, 1, 2, 3, 2, 4, 1, 3, 3, 4, 3, 1, 1, 2, 1, 3, 3, 3, 3, 2, 4, 3, 2, 2, 3, 2, 1, 4, 2, 1, 3, 1, 3, 2, 2, 1, 2, 1, 3, 1, 2, 1, 3, 1, 3, 3, 1, 3, 2, 1, 3, 2, 2, 4, 3, 3, 2, 2, 1, 1, 1, 1, 4, 2, 1, 1, 2, 1, 4, 2, 3, 4, 2, 4, 1, 2, 2, 1, 3, 3, 1, 3, 2, 4, 2, 1, 1, 2, 4, 1, 2, 2, 3, 2, 4, 2, 1, 3, 4, 3, 3, 1, 3, 3, 1, 3, 3, 2, 3, 2, 2, 2, 3, 4, 3, 4, 1, 2, 4, 2, 3, 3, 4, 3, 2, 2, 3, 2, 1, 3, 2, 4, 3, 2, 4, 2, 4, 2, 3, 3, 2, 2, 1, 4, 3, 3, 3, 2, 1, 3, 2, 2, 4, 2, 4, 3, 2, 1, 3, 2, 2, 4, 3, 4, 3, 3, 4, 4, 4, 3, 3, 3, 3, 2, 2, 4, 2, 2, 3, 4, 2, 2, 4, 2, 4, 2, 2, 2, 4, 2, 2, 4, 3, 3, 1, 3, 2, 4, 2, 2, 4, 3, 3, 1, 3, 2, 4, 3, 2, 4, 3, 2, 4, 2, 3, 1, 4, 3, 2, 4, 4, 2, 4, 3, 2, 2, 2, 4, 2, 1, 2, 2, 2, 4, 3, 3, 4, 3, 2, 4, 1, 3, 3, 2, 3, 3, 2, 2, 3, 2, 2, 3, 3, 2, 4, 2, 2, 3, 2, 1, 3, 3, 3, 2, 3, 4, 3, 3, 4, 4, 2, 4, 2, 2, 4, 3, 3, 2, 2, 2, 1, 3, 1, 3, 2, 2, 1, 3, 2, 2, 2, 4, 3, 2, 2, 4, 2, 1, 3, 3, 3, 3, 2, 3, 4, 2, 2, 1, 3, 2, 1, 4, 2, 1, 1, 3, 2, 2, 1, 3, 1, 3, 3, 2, 2, 1, 3, 4, 2, 1, 3, 1, 4, 3, 2, 2, 2, 2, 2, 3, 2, 2, 4, 3, 2, 1, 3, 3, 2, 3, 3, 2, 1, 2, 3, 4, 2, 1, 3, 1, 4, 3, 1, 2, 2, 2, 3, 3, 1, 3, 2, 2, 2, 1, 3, 2, 3, 3, 3, 2, 2, 4, 2, 1, 4, 2, 4, 2, 2, 2, 1, 2, 3, 3, 3, 4, 3, 1, 4, 3, 2, 4, 4, 2, 2, 1, 3, 3, 3, 3, 4, 4, 2, 4, 3, 3, 2, 3, 3, 3, 1, 3, 4, 2, 4, 2, 1, 3, 2, 2, 3, 1, 1, 3, 1, 3, 1, 3, 2, 4, 3, 3, 3, 2, 4, 3, 3, 3, 2, 2, 2, 2, 1, 3, 2, 2, 2, 2, 4, 4, 3, 1, 3, 1, 2, 4, 2, 4, 3, 3, 1, 2, 1, 2, 2, 4, 3, 1, 1, 2, 2, 1, 3, 1, 2, 2, 4, 3, 2, 2, 1, 3, 3, 3, 2, 4, 3, 4, 3, 2, 3, 1, 4, 2, 4, 2, 4, 4, 3, 3, 2, 2, 4, 3, 3, 4, 2, 2, 4, 4, 3, 2, 1, 3, 2, 4, 3, 4, 3, 3, 2, 1, 3, 2, 1, 3, 2, 1, 3, 3, 2, 4, 2, 2, 2, 2, 1, 3, 2, 3, 3, 2, 2, 2, 1, 3, 3, 3, 4, 3, 3, 3, 2, 2, 1, 3, 1, 2, 2, 1, 3, 2, 1, 3, 2, 2, 2, 1, 3, 3, 1, 1, 3, 2, 1, 3, 2, 1, 2, 1, 2, 3, 2, 3, 3, 2, 2, 3, 4, 3, 3, 3, 3, 1, 3, 3, 2, 1, 3, 3, 2, 1, 2, 2, 3, 3, 3, 2, 1, 4, 3, 4, 2, 3, 3, 2, 3, 2, 2, 4, 2, 4, 3, 3, 4, 2, 1, 1, 1, 2, 2, 1, 2, 2, 4, 1, 2, 1, 2, 4, 3, 2, 2, 4, 3, 3, 3, 3, 4, 3, 3, 3, 4, 2, 4, 2, 1, 1, 3, 3, 1, 3, 3, 2, 2, 2, 3, 3, 3, 3, 2, 3, 3, 1, 3, 3, 3, 3, 3, 3, 4, 4, 2, 2, 2, 3, 2, 3, 4, 3, 2, 1, 2, 1, 2, 3, 1, 3, 4, 3, 2, 3, 3, 2, 4, 3, 3, 1, 2, 3, 4, 3, 2, 2, 3, 1, 2, 1, 2, 3, 2, 3, 3, 4, 3, 1, 4, 3, 4, 1, 2, 2, 2, 1, 4, 3, 2, 4, 2, 2, 3, 4, 3, 4, 3, 4, 2, 4, 3, 4, 3, 4, 2, 4, 3, 2, 1, 4, 3, 4, 2, 2, 1, 2, 1, 2, 3, 4, 2, 4, 3, 1, 4, 3, 2, 1, 2, 2, 4, 3, 4, 3, 4, 1, 2, 3, 4, 3, 4, 3, 4, 2, 1, 1, 3, 2, 2, 4, 1, 3, 2, 2, 1, 2, 2, 4, 2, 1, 3, 2, 4, 3, 2, 1, 3, 3, 3, 1, 3, 3, 2, 1, 3, 1, 1, 3, 3, 2, 1, 1, 3, 3, 2, 1, 3, 3, 2, 2, 2, 2, 1, 2, 3, 3, 1, 2, 1, 2, 1, 2, 4, 4, 3, 3, 3, 2, 4, 3, 2, 4, 2, 4, 3, 1, 1, 1, 4, 1, 1, 1, 3, 2, 4, 3, 4, 4, 3, 1, 2, 4, 2, 2, 0, 0, 0, 0, 0, 0, 0, 0, 0, 0, 0, 0, 0, 0, 0, 0, 0, 0, 0, 0, 0, 0, 0, 0, 0, 0, 0, 0, 0, 0, 0, 0, 0, 0, 0, 0, 0, 0, 0, 0, 0, 0, 0, 0, 0, 0, 0, 0, 0, 0, 0, 0, 0, 0, 0, 0, 0, 0, 0, 0, 0, 0, 0, 0, 0, 0, 0, 0, 0, 0, 0, 0, 0, 0, 0, 0, 0, 0, 0, 0, 0, 0, 0, 0, 0, 0, 0, 0, 0, 0, 0, 0, 0, 0, 0, 0, 0, 0, 0, 0, 0, 0, 0, 0, 0, 0, 0, 0, 0, 0, 0, 0, 0, 0, 0, 0, 0, 0, 0, 0, 0, 0, 0, 0, 0, 0, 0, 0, 0, 0, 0, 0, 0, 0, 0, 0, 0, 0, 0, 0, 0, 0, 0, 0, 0, 0, 0, 0, 0, 0, 0, 0, 0, 0, 0, 0, 0, 0, 0, 0, 0, 0, 0, 0, 0, 0, 0, 0, 0, 0, 0, 0, 0, 0, 0, 0, 0, 0, 0, 0, 0, 0, 0, 0, 0, 0, 0, 0, 0, 0, 0, 0, 0, 0, 0, 0, 0, 0, 0, 0, 0, 0, 0, 0, 0, 0, 0, 0, 0, 0, 0, 0, 0, 0, 0, 0, 0, 0, 0, 0, 0, 0, 0, 0, 0, 0, 0, 0, 0, 0, 0, 0, 0, 0, 0, 0, 0, 0, 0, 0, 0, 0, 0, 0, 0, 0, 0, 0, 0, 0, 0, 0, 0, 0, 0, 0, 0, 0, 0, 0, 0, 0, 0, 0, 0, 0, 0, 0, 0, 0, 0, 0, 0, 0, 0, 0, 0, 0, 0, 0, 0, 0, 0, 0, 0, 0, 0, 0, 0, 0, 0, 0, 0, 0, 0, 0, 0, 0, 0, 0, 0, 0, 0, 0, 0, 0, 0, 0, 0, 0, 0, 0, 0, 0, 0, 0, 0, 0, 0, 0, 0, 0, 0, 0, 0, 0, 0, 0, 0, 0, 0, 0, 0, 0, 0, 0, 0, 0, 0, 0, 0, 0, 0, 0, 0, 0, 0, 0, 0, 0, 0, 0, 0, 0, 0, 0, 0, 0, 0, 0, 0, 0, 0, 0, 0, 0, 0, 0, 0, 0, 0, 0, 0, 0, 0, 0, 0, 0, 0, 0, 0, 0, 0, 0, 0, 0, 0, 0, 0, 0, 0, 0, 0, 0, 0, 0, 0, 0, 0, 0, 0, 0, 0, 0, 0, 0, 0, 0, 0, 0, 0, 0, 0, 0, 0, 0, 0, 0, 0, 0, 0, 0, 0, 0, 0, 0, 0, 0, 0, 0, 0, 0, 0, 0, 0, 0, 0, 0, 0, 0, 0, 0, 0, 0, 0, 0, 0, 0, 0, 0, 0, 0, 0, 0, 0, 0, 0, 0, 0, 0, 0, 0, 0, 0, 0, 0, 0, 0, 0, 0, 0, 0, 0, 0, 0, 0, 0, 0, 0, 0, 0, 0, 0, 0, 0, 0, 0, 0, 0, 0, 0, 0, 0, 0, 0, 0, 0, 0, 0, 0, 0, 0, 0, 0, 0, 0, 0, 0, 0, 0, 0, 0, 0, 0, 0, 0, 0, 0, 0, 0, 0, 0, 0, 0, 0]\n"
     ]
    }
   ],
   "source": [
    "print(datetime.now())\n",
    "print(\"Load RCI values...\")\n",
    "loader = DataLoader()\n",
    "filepath = DATA_DIR+RCI_FILE\n",
    "gene_to_rci = loader.load_gene_rci_values(filepath,CELL_LINE_NUMBER)\n",
    "print('Num RCI:', len(gene_to_rci.keys()))\n",
    "print('Example RCI:', list(gene_to_rci.items())[:3])\n",
    "print(\"Load genes...\")\n",
    "all_genes = list(gene_to_rci.keys())\n",
    "print(datetime.now())\n",
    "print('Load sequence...')\n",
    "filepath = DATA_DIR+SEQUENCE_FILE\n",
    "labels,allids,allseq = loader.load_sequence(filepath)\n",
    "print(datetime.now())\n",
    "print('Num IDs:',len(allids))\n",
    "print('Example IDs:',[allids[x] for x in [10, 20, 30, 40]] )\n",
    "print('Count',np.count_nonzero(labels),'ones out of',len(labels),'labels.')\n",
    "print('Example labels:',[labels[x] for x in [10, 20, 30, 40]] )\n",
    "print('Num counts:',len(allseq))\n",
    "print('Example sequence:',allseq[3])\n",
    "loader = None  # drop K-mer cache to save RAM"
   ]
  },
  {
   "cell_type": "markdown",
   "metadata": {
    "id": "VDZ6siB_Kq04"
   },
   "source": [
    "## Model"
   ]
  },
  {
   "cell_type": "code",
   "execution_count": 138,
   "metadata": {
    "id": "AwMbRjm0FLBF"
   },
   "outputs": [],
   "source": [
    "def build_model():\n",
    "    ALPHABET=4**K+1  # NUMBER OF DISTINCT KMERS POSSIBLE, add one if N gets mask value\n",
    "    ADJUST_LENGTH = MAXLEN-K+1  # fixed length sequences\n",
    "    rnn = Sequential()\n",
    "    embed_layer = Embedding(ALPHABET,EMBED_DIMEN,input_length=ADJUST_LENGTH,mask_zero=True)   \n",
    "    cnn1_layer = Conv1D(CFILTERS, FILTERSIZE)\n",
    "    #rnn1_layer = Bidirectional( LSTM(RCELLS, return_sequences=False) )\n",
    "    #pool_layer = MaxPooling1D(pool_size=3)\n",
    "    pool_layer = GlobalAveragePooling1D()\n",
    "    #pool_layer = GlobalMaxPooling1D()\n",
    "    flat_layer = Flatten()\n",
    "    den1_layer = Dense(DCELLS)\n",
    "    drop_layer = Dropout(0.5)\n",
    "    output_layer = Dense(1,activation='sigmoid',dtype=dt)\n",
    "\n",
    "    rnn.add(embed_layer)\n",
    "    rnn.add(cnn1_layer)\n",
    "    rnn.add(pool_layer)\n",
    "    #rnn.add(flat_layer)\n",
    "    #rnn.add(den1_layer)\n",
    "    #rnn.add(drop_layer)\n",
    "    rnn.add(output_layer)\n",
    "\n",
    "    bc=BinaryCrossentropy(from_logits=False)\n",
    "    print(\"COMPILE\")\n",
    "    rnn.compile(loss=bc, optimizer=\"Adam\",metrics=[\"accuracy\"])\n",
    "    return rnn"
   ]
  },
  {
   "cell_type": "code",
   "execution_count": 139,
   "metadata": {
    "colab": {
     "base_uri": "https://localhost:8080/"
    },
    "id": "clj-wufgFLBF",
    "outputId": "ab76a015-9d8f-4113-8654-f3ee2f058bde"
   },
   "outputs": [
    {
     "name": "stdout",
     "output_type": "stream",
     "text": [
      "2022-12-29 16:02:33.243177\n",
      "COMPILE\n",
      "Model: \"sequential_67\"\n",
      "_________________________________________________________________\n",
      " Layer (type)                Output Shape              Param #   \n",
      "=================================================================\n",
      " embedding_67 (Embedding)    (None, 4000, 4)           20        \n",
      "                                                                 \n",
      " conv1d_67 (Conv1D)          (None, 3993, 64)          2112      \n",
      "                                                                 \n",
      " global_average_pooling1d_54  (None, 64)               0         \n",
      "  (GlobalAveragePooling1D)                                       \n",
      "                                                                 \n",
      " dense_133 (Dense)           (None, 1)                 65        \n",
      "                                                                 \n",
      "=================================================================\n",
      "Total params: 2,197\n",
      "Trainable params: 2,197\n",
      "Non-trainable params: 0\n",
      "_________________________________________________________________\n",
      "None\n"
     ]
    }
   ],
   "source": [
    "print(datetime.now())\n",
    "model=build_model()\n",
    "print(model.summary())  # Print this only once"
   ]
  },
  {
   "cell_type": "markdown",
   "metadata": {
    "id": "MgrC1alOKq07"
   },
   "source": [
    "## Training"
   ]
  },
  {
   "cell_type": "code",
   "execution_count": 140,
   "metadata": {
    "id": "W9xiFzNbFLBE"
   },
   "outputs": [],
   "source": [
    "class CrossValidator():\n",
    "    def __init__(self,epochs,folds,quick_test=False,pred_threshold=0.5):\n",
    "        self.epochs = epochs\n",
    "        self.folds = folds\n",
    "        self.quick_test = quick_test\n",
    "        self.threshold = pred_threshold # e.g. score>0.5 => class 1\n",
    "    \n",
    "    def get_gene_subset(self,all_genes,sub_index):\n",
    "        sub_genes = set()\n",
    "        for index in sub_index:\n",
    "            one_gene = all_genes[index]\n",
    "            sub_genes.add(one_gene)\n",
    "        return sub_genes\n",
    "    \n",
    "    def get_X_y(self,gene_set,allids,allX,allY):\n",
    "        cnt = len(allids)\n",
    "        subsetX=[]\n",
    "        subsetY=[]\n",
    "        if cnt != len(allX) or cnt!= len(allY):\n",
    "            raise Exception('Lengths differ')\n",
    "        for i in range(cnt):\n",
    "            gene_id,tran_id = allids[i]\n",
    "            if gene_id in gene_set:\n",
    "                oneX = allX[i]\n",
    "                oneY = allY[i]\n",
    "                subsetX.append(oneX)\n",
    "                subsetY.append(oneY)\n",
    "        subsetX = np.array(subsetX)\n",
    "        subsetY = np.array(subsetY).reshape((-1,1))\n",
    "        return subsetX,subsetY\n",
    "    \n",
    "    def do_cross_validation(self):\n",
    "        cv_accuracy=[]\n",
    "        cv_precision=[]\n",
    "        cv_recall=[]\n",
    "        cv_f1=[]\n",
    "        fold=0\n",
    "        print(datetime.now())\n",
    "        print('splitting')\n",
    "        # KFold shuffles once before making the partitions\n",
    "        splitter = KFold(n_splits=self.folds,shuffle=True,random_state=42)\n",
    "        for train_index,valid_index in splitter.split(all_genes):\n",
    "            fold += 1\n",
    "            print('Fold',fold)\n",
    "            train_genes = self.get_gene_subset(all_genes,train_index)\n",
    "            valid_genes = self.get_gene_subset(all_genes,valid_index)\n",
    "            X_train,y_train = self.get_X_y(train_genes,allids,allseq,labels)\n",
    "            X_valid,y_valid = self.get_X_y(valid_genes,allids,allseq,labels)\n",
    "\n",
    "            print('Training example')\n",
    "            print(X_train[0])\n",
    "\n",
    "            print('Train sizes',X_train.shape,y_train.shape)\n",
    "            print('Valid sizes',X_valid.shape,y_valid.shape)\n",
    "            print('Train set ones/size',\n",
    "                  np.count_nonzero(y_train),'/',len(y_train))\n",
    "            print('Valid set ones/size',\n",
    "                  np.count_nonzero(y_valid),'/',len(y_valid))\n",
    "\n",
    "            print(\"BUILD MODEL\")\n",
    "            model=build_model()\n",
    "\n",
    "            print(\"FIT\")\n",
    "            print(datetime.now())\n",
    "            history=model.fit(X_train, y_train, # batch_size=10, default=32 works nicely\n",
    "                    epochs=self.epochs, verbose=1,  # verbose=1 for ascii art, verbose=0 for none\n",
    "                    validation_data=(X_valid,y_valid) )\n",
    "\n",
    "            pd.DataFrame(history.history).plot(figsize=(8,5))\n",
    "            plt.grid(True)\n",
    "            plt.gca().set_ylim(0,1)\n",
    "            plt.show()\n",
    "\n",
    "            print(\"Compute valiation accuracy\")\n",
    "            print(datetime.now())\n",
    "            yhat_pred=model.predict(X_valid, verbose=0) \n",
    "            print('Range of scores:',np.min(yhat_pred),'to',np.max(yhat_pred))\n",
    "            yhat_classes=np.where(yhat_pred > self.threshold, 1, 0)\n",
    "            print('Predicted zeros and ones',np.count_nonzero(yhat_classes==0),np.count_nonzero(yhat_classes==1))\n",
    "            # accuracy: (tp + tn) / (p + n)\n",
    "            accuracy = accuracy_score(y_valid, yhat_classes)*100.\n",
    "            # precision tp / (tp + fp)\n",
    "            precision = precision_score(y_valid, yhat_classes)*100.\n",
    "            # recall: tp / (tp + fn)\n",
    "            recall = recall_score(y_valid, yhat_classes)*100.\n",
    "            # f1: 2 tp / (2 tp + fp + fn)\n",
    "            f1 = f1_score(y_valid, yhat_classes)*100.\n",
    "            print('Accuracy: %.2f%% Precision: %.2f%% Recall: %.2f%% F1: %.2f%%' % (accuracy,precision,recall,f1)) \n",
    "            print(datetime.now())\n",
    "            cv_accuracy.append(accuracy)\n",
    "            cv_precision.append(precision)\n",
    "            cv_recall.append(recall)\n",
    "            cv_f1.append(f1)\n",
    "            if self.quick_test:   \n",
    "                print('Break -- this was for code testing only')\n",
    "                break\n",
    "        print()\n",
    "        return cv_accuracy, cv_precision, cv_recall, cv_f1"
   ]
  },
  {
   "cell_type": "code",
   "execution_count": 141,
   "metadata": {
    "colab": {
     "base_uri": "https://localhost:8080/",
     "height": 1000
    },
    "id": "XC9m0W-pFLBH",
    "outputId": "d401e3f1-910b-479f-b84d-904b7576d258",
    "scrolled": false
   },
   "outputs": [
    {
     "name": "stdout",
     "output_type": "stream",
     "text": [
      "2022-12-29 16:02:33.538799\n",
      "2022-12-29 16:02:33.538983\n",
      "splitting\n",
      "Fold 1\n",
      "Training example\n",
      "[3 3 2 ... 0 0 0]\n",
      "Train sizes (5543, 4000) (5543, 1)\n",
      "Valid sizes (1392, 4000) (1392, 1)\n",
      "Train set ones/size 2391 / 5543\n",
      "Valid set ones/size 574 / 1392\n",
      "BUILD MODEL\n",
      "COMPILE\n",
      "FIT\n",
      "2022-12-29 16:02:35.234688\n",
      "Epoch 1/5\n",
      "174/174 [==============================] - 3s 10ms/step - loss: 0.6271 - accuracy: 0.6242 - val_loss: 0.5571 - val_accuracy: 0.7091\n",
      "Epoch 2/5\n",
      "174/174 [==============================] - 1s 7ms/step - loss: 0.5237 - accuracy: 0.7427 - val_loss: 0.5538 - val_accuracy: 0.7076\n",
      "Epoch 3/5\n",
      "174/174 [==============================] - 1s 7ms/step - loss: 0.5212 - accuracy: 0.7447 - val_loss: 0.5525 - val_accuracy: 0.7098\n",
      "Epoch 4/5\n",
      "174/174 [==============================] - 1s 7ms/step - loss: 0.5181 - accuracy: 0.7454 - val_loss: 0.5745 - val_accuracy: 0.6882\n",
      "Epoch 5/5\n",
      "174/174 [==============================] - 1s 7ms/step - loss: 0.5197 - accuracy: 0.7442 - val_loss: 0.5503 - val_accuracy: 0.7047\n"
     ]
    },
    {
     "data": {
      "image/png": "[encoded data removed]",
      "text/plain": [
       "<Figure size 576x360 with 1 Axes>"
      ]
     },
     "metadata": {
      "needs_background": "light"
     },
     "output_type": "display_data"
    },
    {
     "name": "stdout",
     "output_type": "stream",
     "text": [
      "Compute valiation accuracy\n",
      "2022-12-29 16:02:43.364710\n",
      "Range of scores: 0.02388763 to 0.90644324\n",
      "Predicted zeros and ones 771 621\n",
      "Accuracy: 70.47% Precision: 63.12% Recall: 68.29% F1: 65.61%\n",
      "2022-12-29 16:02:43.595259\n",
      "Fold 2\n",
      "Training example\n",
      "[3 3 2 ... 0 0 0]\n",
      "Train sizes (5522, 4000) (5522, 1)\n",
      "Valid sizes (1413, 4000) (1413, 1)\n",
      "Train set ones/size 2375 / 5522\n",
      "Valid set ones/size 590 / 1413\n",
      "BUILD MODEL\n",
      "COMPILE\n",
      "FIT\n",
      "2022-12-29 16:02:45.252993\n",
      "Epoch 1/5\n",
      "173/173 [==============================] - 2s 10ms/step - loss: 0.6321 - accuracy: 0.6394 - val_loss: 0.5267 - val_accuracy: 0.7481\n",
      "Epoch 2/5\n",
      "173/173 [==============================] - 1s 7ms/step - loss: 0.5285 - accuracy: 0.7361 - val_loss: 0.5086 - val_accuracy: 0.7488\n",
      "Epoch 3/5\n",
      "173/173 [==============================] - 1s 7ms/step - loss: 0.5261 - accuracy: 0.7367 - val_loss: 0.5094 - val_accuracy: 0.7509\n",
      "Epoch 4/5\n",
      "173/173 [==============================] - 1s 8ms/step - loss: 0.5255 - accuracy: 0.7356 - val_loss: 0.5061 - val_accuracy: 0.7502\n",
      "Epoch 5/5\n",
      "173/173 [==============================] - 1s 7ms/step - loss: 0.5241 - accuracy: 0.7376 - val_loss: 0.5058 - val_accuracy: 0.7523\n"
     ]
    },
    {
     "data": {
      "image/png": "[encoded data removed]",
      "text/plain": [
       "<Figure size 576x360 with 1 Axes>"
      ]
     },
     "metadata": {
      "needs_background": "light"
     },
     "output_type": "display_data"
    },
    {
     "name": "stdout",
     "output_type": "stream",
     "text": [
      "Compute valiation accuracy\n",
      "2022-12-29 16:02:56.283677\n",
      "Range of scores: 0.008881247 to 0.93475235\n",
      "Predicted zeros and ones 781 632\n",
      "Accuracy: 75.23% Precision: 68.99% Recall: 73.90% F1: 71.36%\n",
      "2022-12-29 16:02:56.528312\n",
      "Fold 3\n",
      "Training example\n",
      "[3 3 2 ... 0 0 0]\n",
      "Train sizes (5525, 4000) (5525, 1)\n",
      "Valid sizes (1410, 4000) (1410, 1)\n",
      "Train set ones/size 2355 / 5525\n",
      "Valid set ones/size 610 / 1410\n",
      "BUILD MODEL\n",
      "COMPILE\n",
      "FIT\n",
      "2022-12-29 16:02:58.186957\n",
      "Epoch 1/5\n",
      "173/173 [==============================] - 2s 10ms/step - loss: 0.6163 - accuracy: 0.6471 - val_loss: 0.5231 - val_accuracy: 0.7603\n",
      "Epoch 2/5\n",
      "173/173 [==============================] - 1s 7ms/step - loss: 0.5281 - accuracy: 0.7327 - val_loss: 0.5242 - val_accuracy: 0.7667\n",
      "Epoch 3/5\n",
      "173/173 [==============================] - 1s 8ms/step - loss: 0.5263 - accuracy: 0.7354 - val_loss: 0.5272 - val_accuracy: 0.7624\n",
      "Epoch 4/5\n",
      "173/173 [==============================] - 1s 7ms/step - loss: 0.5249 - accuracy: 0.7347 - val_loss: 0.5195 - val_accuracy: 0.7645\n",
      "Epoch 5/5\n",
      "173/173 [==============================] - 1s 7ms/step - loss: 0.5256 - accuracy: 0.7345 - val_loss: 0.5188 - val_accuracy: 0.7652\n"
     ]
    },
    {
     "data": {
      "image/png": "[encoded data removed]",
      "text/plain": [
       "<Figure size 576x360 with 1 Axes>"
      ]
     },
     "metadata": {
      "needs_background": "light"
     },
     "output_type": "display_data"
    },
    {
     "name": "stdout",
     "output_type": "stream",
     "text": [
      "Compute valiation accuracy\n",
      "2022-12-29 16:03:05.902757\n",
      "Range of scores: 0.018611217 to 0.937711\n",
      "Predicted zeros and ones 755 655\n",
      "Accuracy: 76.52% Precision: 71.30% Recall: 76.56% F1: 73.83%\n",
      "2022-12-29 16:03:06.144080\n",
      "Fold 4\n",
      "Training example\n",
      "[3 3 2 ... 0 0 0]\n",
      "Train sizes (5528, 4000) (5528, 1)\n",
      "Valid sizes (1407, 4000) (1407, 1)\n",
      "Train set ones/size 2370 / 5528\n",
      "Valid set ones/size 595 / 1407\n",
      "BUILD MODEL\n",
      "COMPILE\n",
      "FIT\n",
      "2022-12-29 16:03:07.790243\n",
      "Epoch 1/5\n",
      "173/173 [==============================] - 2s 10ms/step - loss: 0.6379 - accuracy: 0.6223 - val_loss: 0.5361 - val_accuracy: 0.7221\n",
      "Epoch 2/5\n",
      "173/173 [==============================] - 1s 7ms/step - loss: 0.5292 - accuracy: 0.7364 - val_loss: 0.5241 - val_accuracy: 0.7342\n",
      "Epoch 3/5\n",
      "173/173 [==============================] - 1s 7ms/step - loss: 0.5262 - accuracy: 0.7417 - val_loss: 0.5229 - val_accuracy: 0.7285\n",
      "Epoch 4/5\n",
      "173/173 [==============================] - 1s 7ms/step - loss: 0.5255 - accuracy: 0.7391 - val_loss: 0.5275 - val_accuracy: 0.7257\n",
      "Epoch 5/5\n",
      "173/173 [==============================] - 1s 7ms/step - loss: 0.5236 - accuracy: 0.7402 - val_loss: 0.5215 - val_accuracy: 0.7321\n"
     ]
    },
    {
     "data": {
      "image/png": "[encoded data removed]",
      "text/plain": [
       "<Figure size 576x360 with 1 Axes>"
      ]
     },
     "metadata": {
      "needs_background": "light"
     },
     "output_type": "display_data"
    },
    {
     "name": "stdout",
     "output_type": "stream",
     "text": [
      "Compute valiation accuracy\n",
      "2022-12-29 16:03:18.840095\n",
      "Range of scores: 0.015079192 to 0.9273787\n",
      "Predicted zeros and ones 763 644\n",
      "Accuracy: 73.21% Precision: 66.93% Recall: 72.44% F1: 69.57%\n",
      "2022-12-29 16:03:19.090925\n",
      "Fold 5\n",
      "Training example\n",
      "[2 2 4 ... 0 0 0]\n",
      "Train sizes (5622, 4000) (5622, 1)\n",
      "Valid sizes (1313, 4000) (1313, 1)\n",
      "Train set ones/size 2369 / 5622\n",
      "Valid set ones/size 596 / 1313\n",
      "BUILD MODEL\n",
      "COMPILE\n",
      "FIT\n",
      "2022-12-29 16:03:20.735227\n",
      "Epoch 1/5\n",
      "176/176 [==============================] - 2s 9ms/step - loss: 0.6139 - accuracy: 0.6430 - val_loss: 0.5193 - val_accuracy: 0.7525\n",
      "Epoch 2/5\n",
      "176/176 [==============================] - 1s 7ms/step - loss: 0.5288 - accuracy: 0.7360 - val_loss: 0.5143 - val_accuracy: 0.7479\n",
      "Epoch 3/5\n",
      "176/176 [==============================] - 1s 7ms/step - loss: 0.5270 - accuracy: 0.7328 - val_loss: 0.5057 - val_accuracy: 0.7471\n",
      "Epoch 4/5\n",
      "176/176 [==============================] - 1s 7ms/step - loss: 0.5244 - accuracy: 0.7396 - val_loss: 0.5078 - val_accuracy: 0.7456\n",
      "Epoch 5/5\n",
      "176/176 [==============================] - 1s 7ms/step - loss: 0.5238 - accuracy: 0.7376 - val_loss: 0.5076 - val_accuracy: 0.7479\n"
     ]
    },
    {
     "data": {
      "image/png": "[encoded data removed]",
      "text/plain": [
       "<Figure size 576x360 with 1 Axes>"
      ]
     },
     "metadata": {
      "needs_background": "light"
     },
     "output_type": "display_data"
    },
    {
     "name": "stdout",
     "output_type": "stream",
     "text": [
      "Compute valiation accuracy\n",
      "2022-12-29 16:03:31.785646\n",
      "Range of scores: 0.011372061 to 0.9340907\n",
      "Predicted zeros and ones 748 565\n",
      "Accuracy: 74.79% Precision: 73.45% Recall: 69.63% F1: 71.49%\n",
      "2022-12-29 16:03:32.010558\n",
      "\n",
      "Cross validation 5 folds 5 epochs\n",
      " accuracy mean 74.04% +/- 2.08\n",
      " precision mean 68.76% +/- 3.57\n",
      " recall mean 72.16% +/- 2.96\n",
      " F1 mean 70.37% +/- 2.74\n",
      "2022-12-29 16:03:32.015912\n"
     ]
    }
   ],
   "source": [
    "print(datetime.now())\n",
    "cvdo = CrossValidator(EPOCHS,FOLDS,BREAK)\n",
    "cv_accuracy, cv_precision, cv_recall, cv_f1 = cvdo.do_cross_validation()   \n",
    "print(\"Cross validation %d folds %d epochs\" % (FOLDS,EPOCHS)) \n",
    "print(\" accuracy mean %.2f%% +/- %.2f\" % (np.mean(cv_accuracy), np.std(cv_accuracy)))\n",
    "print(\" precision mean %.2f%% +/- %.2f\" % (np.mean(cv_precision), np.std(cv_precision)))\n",
    "print(\" recall mean %.2f%% +/- %.2f\" % (np.mean(cv_recall), np.std(cv_recall)))\n",
    "print(\" F1 mean %.2f%% +/- %.2f\" % (np.mean(cv_f1), np.std(cv_f1)))\n",
    "print(datetime.now())"
   ]
  },
  {
   "cell_type": "code",
   "execution_count": 141,
   "metadata": {
    "id": "thQspN3Nga5S"
   },
   "outputs": [],
   "source": []
  }
 ],
 "metadata": {
  "accelerator": "GPU",
  "colab": {
   "provenance": []
  },
  "gpuClass": "standard",
  "kernelspec": {
   "display_name": "Python 3 (ipykernel)",
   "language": "python",
   "name": "python3"
  },
  "language_info": {
   "codemirror_mode": {
    "name": "ipython",
    "version": 3
   },
   "file_extension": ".py",
   "mimetype": "text/x-python",
   "name": "python",
   "nbconvert_exporter": "python",
   "pygments_lexer": "ipython3",
   "version": "3.10.0"
  }
 },
 "nbformat": 4,
 "nbformat_minor": 1
}
