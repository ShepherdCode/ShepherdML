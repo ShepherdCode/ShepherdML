{
 "cells": [
  {
   "cell_type": "code",
   "execution_count": 1,
   "id": "b262ec91",
   "metadata": {},
   "outputs": [],
   "source": [
    "DATA_DIR='/Users/jasonmiller/WVU/Localization/TrainTest/TrainTest_ver43/'\n",
    "SEQ_FILE='train.all_lncRNA_transcripts.csv'\n",
    "TRAIN_FILE = 'cv.1.train.all_lncRNA_transcripts.csv'\n",
    "VALID_FILE = 'cv.1.valid.all_lncRNA_transcripts.csv'"
   ]
  },
  {
   "cell_type": "code",
   "execution_count": 2,
   "id": "11225892",
   "metadata": {},
   "outputs": [],
   "source": [
    "gene_set = set()\n",
    "with open (DATA_DIR+SEQ_FILE,'r') as fin:\n",
    "    header = None\n",
    "    for line in fin:\n",
    "        if header is None:\n",
    "            header = line\n",
    "        else:\n",
    "            fields=line.strip().split(',')\n",
    "            gene_id=fields[1]\n",
    "            gene_set.add(gene_id)"
   ]
  },
  {
   "cell_type": "code",
   "execution_count": 3,
   "id": "d37db6bd",
   "metadata": {},
   "outputs": [
    {
     "name": "stdout",
     "output_type": "stream",
     "text": [
      "total genes: 5139\n",
      "train genes: 4111\n",
      "valid genes: 1028\n"
     ]
    }
   ],
   "source": [
    "import random\n",
    "gene_list = list(gene_set)\n",
    "random.shuffle(gene_list)\n",
    "TEST_PORTION = 0.8\n",
    "threshold = int(len(gene_set) * TEST_PORTION + 0.5)\n",
    "train_set = set(gene_list[:threshold])\n",
    "valid_set = set(gene_list[threshold:])\n",
    "print('total genes:',len(gene_set))\n",
    "print('train genes:',len(train_set))\n",
    "print('valid genes:',len(valid_set))"
   ]
  },
  {
   "cell_type": "code",
   "execution_count": 7,
   "id": "4d7ffb11",
   "metadata": {},
   "outputs": [
    {
     "name": "stdout",
     "output_type": "stream",
     "text": [
      "Done\n"
     ]
    }
   ],
   "source": [
    "with open(DATA_DIR+TRAIN_FILE,'w') as tout:\n",
    "    with open(DATA_DIR+VALID_FILE,'w') as vout:\n",
    "        with open (DATA_DIR+SEQ_FILE,'r') as fin:\n",
    "            header = None\n",
    "            for line in fin:\n",
    "                line=line.strip()\n",
    "                if header is None:\n",
    "                    header = line\n",
    "                    print(header,file=tout)\n",
    "                    print(header,file=vout)\n",
    "                else:\n",
    "                    fields=line.split(',')\n",
    "                    gene_id=fields[1]\n",
    "                    if gene_id in train_set:\n",
    "                        if gene_id in valid_set:\n",
    "                            print(line)\n",
    "                            raise Exception('gene in both subsets')\n",
    "                        print(line,file=tout)\n",
    "                    elif gene_id in valid_set:\n",
    "                        print(line,file=vout)\n",
    "                    else:\n",
    "                        print(line)\n",
    "                        raise Exception('gene not found')\n",
    "print('Done')"
   ]
  },
  {
   "cell_type": "code",
   "execution_count": null,
   "id": "a0a5c38d",
   "metadata": {},
   "outputs": [],
   "source": []
  }
 ],
 "metadata": {
  "kernelspec": {
   "display_name": "Python 3 (ipykernel)",
   "language": "python",
   "name": "python3"
  },
  "language_info": {
   "codemirror_mode": {
    "name": "ipython",
    "version": 3
   },
   "file_extension": ".py",
   "mimetype": "text/x-python",
   "name": "python",
   "nbconvert_exporter": "python",
   "pygments_lexer": "ipython3",
   "version": "3.10.0"
  }
 },
 "nbformat": 4,
 "nbformat_minor": 5
}
