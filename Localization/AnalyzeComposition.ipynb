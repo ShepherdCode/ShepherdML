{
 "cells": [
  {
   "cell_type": "markdown",
   "id": "3de8d447",
   "metadata": {},
   "source": [
    "# Analyze Composition\n",
    "\n",
    "Analyze the results for stratification.   \n",
    "Not all genes are expressed in every cell line.   \n",
    "We must avoid a test set with zero genes for some cell line.  "
   ]
  },
  {
   "cell_type": "code",
   "execution_count": 1,
   "id": "be6f1266",
   "metadata": {},
   "outputs": [],
   "source": [
    "import pandas as pd\n",
    "from cell_lines import Cell_Lines\n",
    "\n",
    "TEST_PORTION = 0.2\n",
    "ATLAS_DIR='/Users/jasonmiller/WVU/Localization/LncAtlas/'\n",
    "ATLAS_CODING='CNRCI_coding_genes.csv'\n",
    "ATLAS_NONCODING='CNRCI_noncoding_genes.csv'\n",
    "GENCODE_DIR='/Users/jasonmiller/WVU/Localization/GenCode/'\n",
    "GENCODE_CODING='Homo_sapiens.GRCh38.cds.csv'\n",
    "GENCODE_NONCODING='Homo_sapiens.GRCh38.ncrna.csv'\n",
    "\n",
    "CODING_TEST = 'CNRCI_coding_test_genes.csv'\n",
    "CODING_TRAIN = 'CNRCI_coding_train_genes.csv'\n",
    "NONCODING_TEST = 'CNRCI_noncoding_test_genes.csv'\n",
    "NONCODING_TRAIN = 'CNRCI_noncoding_train_genes.csv'"
   ]
  },
  {
   "cell_type": "code",
   "execution_count": 2,
   "id": "8bd66224",
   "metadata": {},
   "outputs": [
    {
     "name": "stdout",
     "output_type": "stream",
     "text": [
      "['A549', 'H1.hESC', 'HeLa.S3', 'HepG2', 'HT1080', 'HUVEC', 'MCF.7', 'NCI.H460', 'NHEK', 'SK.MEL.5', 'SK.N.DZ', 'SK.N.SH', 'GM12878', 'K562', 'IMR.90']\n"
     ]
    }
   ],
   "source": [
    "cell_line_names = Cell_Lines.get_ordered_list()\n",
    "print(cell_line_names)"
   ]
  },
  {
   "cell_type": "code",
   "execution_count": 3,
   "id": "0c3ef5e0",
   "metadata": {},
   "outputs": [
    {
     "name": "stdout",
     "output_type": "stream",
     "text": [
      "0 A549\n",
      "1 H1.hESC\n",
      "2 HeLa.S3\n",
      "3 HepG2\n",
      "4 HT1080\n",
      "5 HUVEC\n",
      "6 MCF.7\n",
      "7 NCI.H460\n",
      "8 NHEK\n",
      "9 SK.MEL.5\n",
      "10 SK.N.DZ\n",
      "11 SK.N.SH\n",
      "12 GM12878\n",
      "13 K562\n",
      "14 IMR.90\n"
     ]
    }
   ],
   "source": [
    "def show_names():\n",
    "    for i in range(len(cell_line_names)):\n",
    "        print(i, cell_line_names[i])\n",
    "show_names()"
   ]
  },
  {
   "cell_type": "code",
   "execution_count": 4,
   "id": "b3d69ef0",
   "metadata": {},
   "outputs": [],
   "source": [
    "def analyze_nan(dataset_name, df):\n",
    "    print(dataset_name, len(df))\n",
    "    count = len(df)\n",
    "    for i in range(len(cell_line_names)):\n",
    "        print(f'{i:4}',end=' ')\n",
    "    print()\n",
    "    for i in range(len(cell_line_names)):\n",
    "        col = cell_line_names[i]\n",
    "        s = df[col].isna().sum()\n",
    "        print(f'{s:4}',end=' ')\n",
    "    print()"
   ]
  },
  {
   "cell_type": "code",
   "execution_count": 5,
   "id": "e0457b9e",
   "metadata": {},
   "outputs": [
    {
     "name": "stdout",
     "output_type": "stream",
     "text": [
      "Coding Train Set 14216\n",
      "   0    1    2    3    4    5    6    7    8    9   10   11   12   13   14 \n",
      "3824 1047 7216 4735 4624 3892 3067 5787 5443 5832 5663 4516 4204 7553 10216 \n"
     ]
    }
   ],
   "source": [
    "filename = ATLAS_DIR + CODING_TRAIN\n",
    "df = pd.read_csv(filename)\n",
    "analyze_nan(\"Coding Train Set\", df)"
   ]
  },
  {
   "cell_type": "code",
   "execution_count": 6,
   "id": "45dd2304",
   "metadata": {},
   "outputs": [
    {
     "name": "stdout",
     "output_type": "stream",
     "text": [
      "Coding Test Set 3554\n",
      "   0    1    2    3    4    5    6    7    8    9   10   11   12   13   14 \n",
      " 895  264 1751 1155 1122  947  744 1400 1318 1422 1451 1080 1013 1866 2537 \n"
     ]
    }
   ],
   "source": [
    "filename = ATLAS_DIR + CODING_TEST\n",
    "df = pd.read_csv(filename)\n",
    "analyze_nan(\"Coding Test Set\", df)"
   ]
  },
  {
   "cell_type": "code",
   "execution_count": 7,
   "id": "bfe45c84",
   "metadata": {},
   "outputs": [
    {
     "name": "stdout",
     "output_type": "stream",
     "text": [
      "Noncoding Train Set 5415\n",
      "   0    1    2    3    4    5    6    7    8    9   10   11   12   13   14 \n",
      "3730 1435 4350 3819 4347 3634 2918 4678 4186 4808 4709 3512 3409 4294 4972 \n"
     ]
    }
   ],
   "source": [
    "filename = ATLAS_DIR + NONCODING_TRAIN\n",
    "df = pd.read_csv(filename)\n",
    "analyze_nan(\"Noncoding Train Set\", df)"
   ]
  },
  {
   "cell_type": "code",
   "execution_count": 8,
   "id": "7e8594a1",
   "metadata": {},
   "outputs": [
    {
     "name": "stdout",
     "output_type": "stream",
     "text": [
      "Noncoding Test Set 1353\n",
      "   0    1    2    3    4    5    6    7    8    9   10   11   12   13   14 \n",
      " 909  410 1101  935 1060  920  736 1160  994 1152 1152  839  848 1072 1214 \n"
     ]
    }
   ],
   "source": [
    "filename = ATLAS_DIR + NONCODING_TEST\n",
    "df = pd.read_csv(filename)\n",
    "analyze_nan(\"Noncoding Test Set\", df)"
   ]
  }
 ],
 "metadata": {
  "kernelspec": {
   "display_name": "Python 3 (ipykernel)",
   "language": "python",
   "name": "python3"
  },
  "language_info": {
   "codemirror_mode": {
    "name": "ipython",
    "version": 3
   },
   "file_extension": ".py",
   "mimetype": "text/x-python",
   "name": "python",
   "nbconvert_exporter": "python",
   "pygments_lexer": "ipython3",
   "version": "3.10.0"
  }
 },
 "nbformat": 4,
 "nbformat_minor": 5
}
