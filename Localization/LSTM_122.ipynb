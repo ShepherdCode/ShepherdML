{
  "cells": [
    {
      "cell_type": "markdown",
      "metadata": {
        "id": "PG-tGRnlFLA3"
      },
      "source": [
        "# LSTM\n",
        "Added F1 score and ran a full model through cross-validation."
      ]
    },
    {
      "cell_type": "code",
      "execution_count": 85,
      "metadata": {
        "colab": {
          "base_uri": "https://localhost:8080/"
        },
        "id": "0RmwUsVLFLA6",
        "outputId": "5fbbda8a-300f-4db1-924b-26f9de27866f"
      },
      "outputs": [
        {
          "output_type": "stream",
          "name": "stdout",
          "text": [
            "2022-12-12 23:48:39.234510\n",
            "Python 3.8.16\n",
            "sklearn 1.0.2\n"
          ]
        }
      ],
      "source": [
        "from datetime import datetime\n",
        "print(datetime.now())\n",
        "from platform import python_version\n",
        "print('Python',python_version())\n",
        "import numpy as np\n",
        "import pandas as pd\n",
        "from matplotlib import pyplot as plt \n",
        "import sklearn   # pip install --upgrade scikit-learn\n",
        "print('sklearn',sklearn.__version__)"
      ]
    },
    {
      "cell_type": "markdown",
      "metadata": {
        "id": "tUtGXPrcFLA8"
      },
      "source": [
        "We prevously used sklearn.model_selection.ShuffleSplit   \n",
        "Now we avoid it due to this note in the \n",
        "[documentation](https://scikit-learn.org/stable/modules/generated/sklearn.model_selection.ShuffleSplit.html):\n",
        "Note: contrary to other cross-validation strategies, random splits do not guarantee that all folds will be different, although this is still very likely for sizeable datasets."
      ]
    },
    {
      "cell_type": "code",
      "execution_count": 86,
      "metadata": {
        "id": "PRX-UEr8FLA8"
      },
      "outputs": [],
      "source": [
        "import tensorflow as tf\n",
        "dt='float32'\n",
        "tf.keras.backend.set_floatx('float32')\n",
        "tf.random.set_seed(42) \n",
        "\n",
        "from tensorflow import keras\n",
        "from sklearn.model_selection import KFold\n",
        "from sklearn.metrics import accuracy_score\n",
        "from sklearn.metrics import precision_score\n",
        "from sklearn.metrics import recall_score\n",
        "from sklearn.metrics import f1_score\n",
        "\n",
        "from keras.models import Sequential\n",
        "from keras.layers import Masking\n",
        "from keras.layers import Embedding\n",
        "from keras.layers import Bidirectional\n",
        "from keras.layers import LSTM\n",
        "from keras.layers import Dense\n",
        "from keras.layers import Dropout\n",
        "from keras.losses import BinaryCrossentropy\n",
        "\n",
        "K=4\n",
        "RCELLS=64\n",
        "EPOCHS=10\n",
        "FOLDS=5      \n",
        "EMBED_DIMEN = 4 # arbitrary hyperparameter\n",
        "BREAK = False   # break after first fold\n",
        "MINLEN=1000\n",
        "MAXLEN=4000   # this is problematic as some genes will be excluded entirely or partially"
      ]
    },
    {
      "cell_type": "code",
      "execution_count": 87,
      "metadata": {
        "colab": {
          "base_uri": "https://localhost:8080/"
        },
        "id": "OlzN9OdsFWEU",
        "outputId": "a97e1db9-d6a1-40db-dd86-d4bf631706c1"
      },
      "outputs": [
        {
          "output_type": "stream",
          "name": "stdout",
          "text": [
            "Running on CoLab\n",
            "Drive already mounted at /content/drive/; to attempt to forcibly remount, call drive.mount(\"/content/drive/\", force_remount=True).\n",
            "/content/drive/My Drive/data/Localization/TrainTest/\n"
          ]
        }
      ],
      "source": [
        "try:\n",
        "    from google.colab import drive\n",
        "    IN_COLAB = True\n",
        "    print('Running on CoLab')\n",
        "    PATH='/content/drive/'\n",
        "    drive.mount(PATH)\n",
        "    DATA_DIR=PATH+'My Drive/data/Localization/TrainTest/'  # must end in \"/\"\n",
        "except:\n",
        "    IN_COLAB = False\n",
        "    DATA_DIR = 'D:/Adjeroh/Localization/TrainTest/'   # Windows\n",
        "    DATA_DIR = '/Users/jasonmiller/WVU/Localization/TrainTest/'    # Mac\n",
        "print(DATA_DIR)"
      ]
    },
    {
      "cell_type": "code",
      "execution_count": 88,
      "metadata": {
        "id": "LnkpVKdMFLA-"
      },
      "outputs": [],
      "source": [
        "GENES_FILE =    'CNRCI_coding_train_genes.csv'\n",
        "RCI_FILE =      'CNRCI_coding_train_RCI.gc42.csv'\n",
        "SEQUENCE_FILE = 'CNRCI_coding_train_transcripts.gc42.csv'\n",
        "COUNTS_FILE=    'CNRCI_coding_train_counts.K4.gc42.csv'"
      ]
    },
    {
      "cell_type": "code",
      "execution_count": 89,
      "metadata": {
        "colab": {
          "base_uri": "https://localhost:8080/"
        },
        "id": "e3p4QzQJFLA_",
        "outputId": "f73e8680-1bc4-4877-eb1e-f75c8c23ae03"
      },
      "outputs": [
        {
          "output_type": "stream",
          "name": "stdout",
          "text": [
            "Cell line for today: 1 = H1.hESC\n"
          ]
        }
      ],
      "source": [
        "def get_ordered_list():\n",
        "    ordered_list = \\\n",
        "    ['A549',\\\n",
        "      'H1.hESC',\\\n",
        "      'HeLa.S3',\\\n",
        "      'HepG2',\\\n",
        "      'HT1080',\\\n",
        "      'HUVEC',\\\n",
        "      'MCF.7',\\\n",
        "      'NCI.H460',\\\n",
        "      'NHEK',\\\n",
        "      'SK.MEL.5',\\\n",
        "      'SK.N.DZ',\\\n",
        "      'SK.N.SH',\\\n",
        "      'GM12878',\\\n",
        "      'K562',\\\n",
        "      'IMR.90']\n",
        "    return ordered_list\n",
        "CELL_LINE_NUMBER=1\n",
        "all_cell_lines = get_ordered_list()\n",
        "cell_line_name = all_cell_lines[CELL_LINE_NUMBER]\n",
        "print('Cell line for today:',CELL_LINE_NUMBER,'=',cell_line_name)"
      ]
    },
    {
      "cell_type": "markdown",
      "metadata": {
        "id": "UtqdpJOxFLBA"
      },
      "source": [
        "## Data Load"
      ]
    },
    {
      "cell_type": "code",
      "execution_count": 90,
      "metadata": {
        "colab": {
          "base_uri": "https://localhost:8080/"
        },
        "id": "cYoYDc93FLBB",
        "outputId": "d68f89f7-ee09-4d6e-c27e-904839b266f6"
      },
      "outputs": [
        {
          "output_type": "stream",
          "name": "stdout",
          "text": [
            "2022-12-12 23:48:40.891464\n",
            "Num RCI: 13000\n",
            "[('ENSG00000000003', 1.85734), ('ENSG00000000005', 5.88264), ('ENSG00000000419', 2.58954)]\n"
          ]
        }
      ],
      "source": [
        "print(datetime.now())\n",
        "# labels\n",
        "filepath = DATA_DIR+RCI_FILE\n",
        "gene_to_rci = {}\n",
        "with open (filepath,'r') as handle:\n",
        "    header = None\n",
        "    for row in handle:\n",
        "        if header is None:\n",
        "            header = row\n",
        "        else:\n",
        "            line = row.strip()\n",
        "            fields = line.split(',')\n",
        "            gene_id = fields[0]\n",
        "            rci_val = fields[CELL_LINE_NUMBER+1]\n",
        "            # Could implement Gudenas style threshold here\n",
        "            if rci_val != \"nan\":\n",
        "                gene_to_rci[gene_id] = float(rci_val)\n",
        "print('Num RCI:', len(gene_to_rci.keys()))\n",
        "print(list(gene_to_rci.items())[:3])\n",
        "all_genes = list(gene_to_rci.keys())"
      ]
    },
    {
      "cell_type": "code",
      "execution_count": 91,
      "metadata": {
        "colab": {
          "base_uri": "https://localhost:8080/"
        },
        "id": "bNrOKHddFycs",
        "outputId": "600fcbe5-41a7-4cd8-cc74-69e9599bd4de"
      },
      "outputs": [
        {
          "output_type": "stream",
          "name": "stdout",
          "text": [
            "[1, 1]\n",
            "[20, 16]\n",
            "[63, 57]\n",
            "[64, 0]\n"
          ]
        }
      ],
      "source": [
        "def seq_to_kmers(rna,K):\n",
        "    VALS = {'A':0, 'C':1, 'G':2, 'T':3}\n",
        "    length = len(rna)\n",
        "    vec=[]\n",
        "    for i in range(length-K+1):\n",
        "        value = 0\n",
        "        for j in range(K):\n",
        "            value *= 4   \n",
        "            nextnuc = rna[i+j] # to do: avoid recomputing k-1 bases next time\n",
        "            if nextnuc=='N':\n",
        "                value = -1   # indicate an N\n",
        "                break\n",
        "            nucval = VALS[nextnuc]\n",
        "            value += nucval\n",
        "        value += 1   # NNN => 0, AAA => 1\n",
        "        vec.append(value)\n",
        "    return vec\n",
        "print(seq_to_kmers('AAAA',3))\n",
        "print(seq_to_kmers('CATT',3))\n",
        "print(seq_to_kmers('TTGA',3))\n",
        "print(seq_to_kmers('TTTN',3))"
      ]
    },
    {
      "cell_type": "code",
      "execution_count": 92,
      "metadata": {
        "colab": {
          "base_uri": "https://localhost:8080/"
        },
        "id": "ooyTeQr-FLBB",
        "outputId": "595c7298-5241-4b25-b030-8405c44b3313"
      },
      "outputs": [
        {
          "output_type": "stream",
          "name": "stdout",
          "text": [
            "2022-12-12 23:48:40.952028\n",
            "Load sequence\n",
            "2022-12-12 23:50:17.072423\n",
            "Num IDs: 31220\n",
            "Num labels: 31220\n",
            "Num counts: 31220\n"
          ]
        }
      ],
      "source": [
        "print(datetime.now())\n",
        "print('Load sequence')\n",
        "filepath = DATA_DIR+SEQUENCE_FILE\n",
        "labels=[]\n",
        "allids=[]\n",
        "allseq=[]\n",
        "NREPEAT = str('N'*MAXLEN)\n",
        "with open (filepath,'r') as handle:\n",
        "    header = None\n",
        "    for row in handle:\n",
        "        if header is None:\n",
        "            header = row\n",
        "        else:\n",
        "            line    = row.strip()\n",
        "            fields  = line.split(',')\n",
        "            tran_id = fields[0]  # with version number\n",
        "            gene_id = fields[1]        # without version number\n",
        "            seq_len = int(fields[3])\n",
        "            seq_txt = fields[4]\n",
        "            if seq_len>=MINLEN and seq_len<=MAXLEN and gene_id in gene_to_rci.keys():\n",
        "                rci_val = gene_to_rci[gene_id]\n",
        "                allids.append( (gene_id,tran_id) )\n",
        "                labels.append(rci_val)\n",
        "                if seq_len<MAXLEN:\n",
        "                    seq_txt = seq_txt + NREPEAT\n",
        "                    seq_txt = seq_txt[:MAXLEN]\n",
        "                hot_vec = seq_to_kmers(seq_txt,K)\n",
        "                allseq.append(hot_vec)\n",
        "print(datetime.now())\n",
        "print('Num IDs:',len(allids))\n",
        "#print('Examples:',[allids[x] for x in [10, 20, 30, 40]] )\n",
        "print('Num labels:',len(labels))\n",
        "#print('Examples:',[labels[x] for x in [10, 20, 30, 40]] )\n",
        "print('Num counts:',len(allseq))\n",
        "#print('Example:',allseq[3])"
      ]
    },
    {
      "cell_type": "code",
      "execution_count": 93,
      "metadata": {
        "id": "W9xiFzNbFLBE"
      },
      "outputs": [],
      "source": [
        "def get_gene_subset(all_genes,sub_index):\n",
        "    sub_genes = set()\n",
        "    for index in sub_index:\n",
        "        one_gene = all_genes[index]\n",
        "        sub_genes.add(one_gene)\n",
        "    return sub_genes\n",
        "def get_X_y(gene_set,allids,allX,allY,threshold):\n",
        "    cnt = len(allids)\n",
        "    subsetX=[]\n",
        "    subsetY=[]\n",
        "    if cnt != len(allX) or cnt!= len(allY):\n",
        "        raise Exception('Lengths differ')\n",
        "    for i in range(cnt):\n",
        "        gene_id,tran_id = allids[i]\n",
        "        if gene_id in gene_set:\n",
        "            oneX = allX[i]\n",
        "            oneY = allY[i]\n",
        "            if oneY < threshold:\n",
        "                Yvalue = int(0)\n",
        "            else:\n",
        "                Yvalue = int(1)\n",
        "            subsetX.append(oneX)\n",
        "            subsetY.append(Yvalue)\n",
        "    subsetX = np.array(subsetX)\n",
        "    subsetY = np.array(subsetY).reshape((-1,1))\n",
        "    return subsetX,subsetY"
      ]
    },
    {
      "cell_type": "code",
      "execution_count": 94,
      "metadata": {
        "id": "AwMbRjm0FLBF"
      },
      "outputs": [],
      "source": [
        "def build_model():\n",
        "    ALPHABET=4**K+1  # NUMBER OF DISTINCT KMERS POSSIBLE, add one if N gets mask value\n",
        "    ADJUST_LENGTH = MAXLEN-K+1  # fixed length sequences\n",
        "    rnn = Sequential()\n",
        "    # To do: try with and without masking layer\n",
        "    # To do: try the embedding layer with mask, instead of masking layer\n",
        "    #mask_layer = Masking(mask_value=0, input_shape=(ADJUST_LENGTH, K))\n",
        "    #mask_layer = Masking(mask_value=0, input_shape=(ADJUST_LENGTH, 1))\n",
        "    # This layer automatically converts inputs to one-hot using alphabet size.\n",
        "    embed_layer = Embedding(ALPHABET,EMBED_DIMEN,input_length=ADJUST_LENGTH,mask_zero=True)   \n",
        "    # rnn1_layer = LSTM(16, return_sequences=True, input_shape=[MAXLEN,DIMEN]) \n",
        "    rnn1_layer = LSTM(RCELLS, return_sequences=False) # True)\n",
        "    # rnn1_layer = Bidirectional( LSTM(32, return_sequences=True) )\n",
        "    # rnn1_layer = LSTM(16, return_sequences=True) \n",
        "    # rnn2_layer = LSTM(16, return_sequences=True)\n",
        "    # Dense can handle sequence input. Is it the best thing to do?\n",
        "    dense1_layer = Dense(16,activation='sigmoid',dtype=dt)\n",
        "    dropout1_layer = Dropout(0.25)\n",
        "    output_layer = Dense(1,activation='sigmoid',dtype=dt)\n",
        "\n",
        "    #rnn.add(mask_layer)\n",
        "    rnn.add(embed_layer)\n",
        "    rnn.add(rnn1_layer)\n",
        "    #rnn.add(rnn2_layer)\n",
        "    rnn.add(dense1_layer)\n",
        "    rnn.add(dropout1_layer)\n",
        "    #rnn.add(dense2_layer)\n",
        "    rnn.add(output_layer)\n",
        "\n",
        "    bc=BinaryCrossentropy(from_logits=False)\n",
        "    print(\"COMPILE\")\n",
        "    rnn.compile(loss=bc, optimizer=\"Adam\",metrics=[\"accuracy\"])\n",
        "    return rnn"
      ]
    },
    {
      "cell_type": "code",
      "execution_count": 95,
      "metadata": {
        "colab": {
          "base_uri": "https://localhost:8080/"
        },
        "id": "clj-wufgFLBF",
        "outputId": "bddc8219-d125-4050-ed7a-b3535f3e6282"
      },
      "outputs": [
        {
          "output_type": "stream",
          "name": "stdout",
          "text": [
            "2022-12-12 23:50:17.110819\n",
            "COMPILE\n",
            "Model: \"sequential_19\"\n",
            "_________________________________________________________________\n",
            " Layer (type)                Output Shape              Param #   \n",
            "=================================================================\n",
            " embedding_19 (Embedding)    (None, 3997, 4)           1028      \n",
            "                                                                 \n",
            " lstm_19 (LSTM)              (None, 64)                17664     \n",
            "                                                                 \n",
            " dense_21 (Dense)            (None, 16)                1040      \n",
            "                                                                 \n",
            " dropout_2 (Dropout)         (None, 16)                0         \n",
            "                                                                 \n",
            " dense_22 (Dense)            (None, 1)                 17        \n",
            "                                                                 \n",
            "=================================================================\n",
            "Total params: 19,749\n",
            "Trainable params: 19,749\n",
            "Non-trainable params: 0\n",
            "_________________________________________________________________\n",
            "None\n"
          ]
        }
      ],
      "source": [
        "print(datetime.now())\n",
        "model=build_model()\n",
        "print(model.summary())  # Print this only once"
      ]
    },
    {
      "cell_type": "code",
      "execution_count": 96,
      "metadata": {
        "colab": {
          "base_uri": "https://localhost:8080/"
        },
        "id": "CqO0a9evFLBG",
        "outputId": "804fc498-2bc5-438f-f847-5ed574212fb7"
      },
      "outputs": [
        {
          "output_type": "stream",
          "name": "stdout",
          "text": [
            "2022-12-12 23:50:18.096527\n"
          ]
        }
      ],
      "source": [
        "def do_cross_validation(eps):\n",
        "    cv_accuracy=[]\n",
        "    cv_precision=[]\n",
        "    cv_recall=[]\n",
        "    cv_f1=[]\n",
        "    fold=0\n",
        "    print(datetime.now())\n",
        "    print('splitting')\n",
        "    # KFold shuffles once before making the partitions\n",
        "    splitter = KFold(n_splits=FOLDS,shuffle=True,random_state=42)\n",
        "    for train_index,valid_index in splitter.split(all_genes):\n",
        "        fold += 1\n",
        "        print('Fold',fold)\n",
        "        train_genes = get_gene_subset(all_genes,train_index)\n",
        "        valid_genes = get_gene_subset(all_genes,valid_index)\n",
        "        X_train,y_train = get_X_y(train_genes,allids,allseq,labels,0)\n",
        "        X_valid,y_valid = get_X_y(valid_genes,allids,allseq,labels,0)\n",
        "\n",
        "        print('Training example')\n",
        "        print(X_train[0])\n",
        "        \n",
        "        print('Train sizes',X_train.shape,y_train.shape)\n",
        "        print('Valid sizes',X_valid.shape,y_valid.shape)\n",
        "        print('Train set ones/size',\n",
        "              np.count_nonzero(y_train),'/',len(y_train))\n",
        "        print('Valid set ones/size',\n",
        "              np.count_nonzero(y_valid),'/',len(y_valid))\n",
        "\n",
        "        print(\"BUILD MODEL\")\n",
        "        model=build_model()\n",
        "\n",
        "        print(\"FIT\")\n",
        "        print(datetime.now())\n",
        "        history=model.fit(X_train, y_train, # batch_size=10, default=32 works nicely\n",
        "                epochs=EPOCHS, verbose=1,  # verbose=1 for ascii art, verbose=0 for none\n",
        "                validation_data=(X_valid,y_valid) )\n",
        "\n",
        "        pd.DataFrame(history.history).plot(figsize=(8,5))\n",
        "        plt.grid(True)\n",
        "        plt.gca().set_ylim(0,1)\n",
        "        plt.show()\n",
        "\n",
        "        print(\"Compute valiation accuracy\")\n",
        "        print(datetime.now())\n",
        "        yhat_pred=model.predict(X_valid, verbose=0) \n",
        "        print('Range of scores:',np.min(yhat_pred),'to',np.max(yhat_pred))\n",
        "        THRESHOLD=0.5\n",
        "        yhat_classes=np.where(yhat_pred > THRESHOLD, 1, 0)\n",
        "        print('Predicted zeros and ones',np.count_nonzero(yhat_classes==0),np.count_nonzero(yhat_classes==1))\n",
        "        # accuracy: (tp + tn) / (p + n)\n",
        "        accuracy = accuracy_score(y_valid, yhat_classes)*100.\n",
        "        # precision tp / (tp + fp)\n",
        "        precision = precision_score(y_valid, yhat_classes)*100.\n",
        "        # recall: tp / (tp + fn)\n",
        "        recall = recall_score(y_valid, yhat_classes)*100.\n",
        "        # f1: 2 tp / (2 tp + fp + fn)\n",
        "        f1 = f1_score(y_valid, yhat_classes)*100.\n",
        "        print('Accuracy: %.2f%% Precision: %.2f%% Recall: %.2f%% F1: %.2f%%' % (accuracy,precision,recall,f1)) \n",
        "        print(datetime.now())\n",
        "        cv_accuracy.append(accuracy)\n",
        "        cv_precision.append(precision)\n",
        "        cv_recall.append(recall)\n",
        "        cv_f1.append(f1)\n",
        "        \n",
        "        if BREAK:\n",
        "            break\n",
        "        \n",
        "    print()\n",
        "    return cv_accuracy, cv_precision, cv_recall, cv_f1\n",
        "\n",
        "print(datetime.now())"
      ]
    },
    {
      "cell_type": "code",
      "execution_count": 97,
      "metadata": {
        "colab": {
          "base_uri": "https://localhost:8080/",
          "height": 1000
        },
        "id": "XC9m0W-pFLBH",
        "outputId": "afeaef05-cbe0-47a5-ed89-fe2d72322468",
        "scrolled": false
      },
      "outputs": [
        {
          "output_type": "stream",
          "name": "stdout",
          "text": [
            "2022-12-12 23:50:18.108245\n",
            "2022-12-12 23:50:18.109152\n",
            "splitting\n",
            "Fold 1\n",
            "Training example\n",
            "[167 155 106 ...   0   0   0]\n",
            "Train sizes (24903, 3997) (24903, 1)\n",
            "Valid sizes (6317, 3997) (6317, 1)\n",
            "Train set ones/size 12187 / 24903\n",
            "Valid set ones/size 3025 / 6317\n",
            "BUILD MODEL\n",
            "COMPILE\n",
            "FIT\n",
            "2022-12-12 23:50:25.802357\n",
            "Epoch 1/10\n",
            "779/779 [==============================] - 108s 134ms/step - loss: 0.6989 - accuracy: 0.5015 - val_loss: 0.6923 - val_accuracy: 0.5211\n",
            "Epoch 2/10\n",
            "779/779 [==============================] - 107s 138ms/step - loss: 0.6838 - accuracy: 0.5580 - val_loss: 0.6859 - val_accuracy: 0.5533\n",
            "Epoch 3/10\n",
            "779/779 [==============================] - 102s 131ms/step - loss: 0.6761 - accuracy: 0.5780 - val_loss: 0.6821 - val_accuracy: 0.5542\n",
            "Epoch 4/10\n",
            "779/779 [==============================] - 103s 133ms/step - loss: 0.6682 - accuracy: 0.5980 - val_loss: 0.7026 - val_accuracy: 0.5162\n",
            "Epoch 5/10\n",
            "779/779 [==============================] - 100s 129ms/step - loss: 0.6498 - accuracy: 0.6333 - val_loss: 0.6665 - val_accuracy: 0.5998\n",
            "Epoch 6/10\n",
            "779/779 [==============================] - 102s 131ms/step - loss: 0.6423 - accuracy: 0.6392 - val_loss: 0.6234 - val_accuracy: 0.6767\n",
            "Epoch 7/10\n",
            "779/779 [==============================] - 99s 127ms/step - loss: 0.6129 - accuracy: 0.6887 - val_loss: 0.6087 - val_accuracy: 0.6824\n",
            "Epoch 8/10\n",
            "779/779 [==============================] - 101s 130ms/step - loss: 0.6062 - accuracy: 0.6909 - val_loss: 0.6064 - val_accuracy: 0.6878\n",
            "Epoch 9/10\n",
            "779/779 [==============================] - 98s 126ms/step - loss: 0.5982 - accuracy: 0.6975 - val_loss: 0.6007 - val_accuracy: 0.6886\n",
            "Epoch 10/10\n",
            "779/779 [==============================] - 98s 126ms/step - loss: 0.5928 - accuracy: 0.7017 - val_loss: 0.6133 - val_accuracy: 0.6772\n"
          ]
        },
        {
          "output_type": "display_data",
          "data": {
            "text/plain": [
              "<Figure size 576x360 with 1 Axes>"
            ],
            "image/png": "[encoded data removed]"
          },
          "metadata": {
            "needs_background": "light"
          }
        },
        {
          "output_type": "stream",
          "name": "stdout",
          "text": [
            "Compute valiation accuracy\n",
            "2022-12-13 00:07:26.229263\n",
            "Range of scores: 0.13321532 to 0.8653028\n",
            "Predicted zeros and ones 2137 4180\n",
            "Accuracy: 67.72% Precision: 61.79% Recall: 85.39% F1: 71.70%\n",
            "2022-12-13 00:07:39.530685\n",
            "Fold 2\n",
            "Training example\n",
            "[167 155 106 ...   0   0   0]\n",
            "Train sizes (24921, 3997) (24921, 1)\n",
            "Valid sizes (6299, 3997) (6299, 1)\n",
            "Train set ones/size 12133 / 24921\n",
            "Valid set ones/size 3079 / 6299\n",
            "BUILD MODEL\n",
            "COMPILE\n",
            "FIT\n",
            "2022-12-13 00:07:46.971330\n",
            "Epoch 1/10\n",
            "779/779 [==============================] - 103s 127ms/step - loss: 0.6898 - accuracy: 0.5494 - val_loss: 0.6903 - val_accuracy: 0.5601\n",
            "Epoch 2/10\n",
            "779/779 [==============================] - 97s 125ms/step - loss: 0.6710 - accuracy: 0.5920 - val_loss: 0.6639 - val_accuracy: 0.6114\n",
            "Epoch 3/10\n",
            "779/779 [==============================] - 100s 128ms/step - loss: 0.6596 - accuracy: 0.6159 - val_loss: 0.6718 - val_accuracy: 0.5829\n",
            "Epoch 4/10\n",
            "779/779 [==============================] - 100s 129ms/step - loss: 0.6663 - accuracy: 0.5971 - val_loss: 0.6476 - val_accuracy: 0.6274\n",
            "Epoch 5/10\n",
            "779/779 [==============================] - 99s 127ms/step - loss: 0.6893 - accuracy: 0.5364 - val_loss: 0.6793 - val_accuracy: 0.5650\n",
            "Epoch 6/10\n",
            "779/779 [==============================] - 100s 128ms/step - loss: 0.6837 - accuracy: 0.5560 - val_loss: 0.6794 - val_accuracy: 0.5668\n",
            "Epoch 7/10\n",
            "779/779 [==============================] - 99s 127ms/step - loss: 0.6757 - accuracy: 0.5847 - val_loss: 0.6773 - val_accuracy: 0.5674\n",
            "Epoch 8/10\n",
            "779/779 [==============================] - 99s 126ms/step - loss: 0.6624 - accuracy: 0.6046 - val_loss: 0.6902 - val_accuracy: 0.5342\n",
            "Epoch 9/10\n",
            "779/779 [==============================] - 100s 128ms/step - loss: 0.6788 - accuracy: 0.5674 - val_loss: 0.6282 - val_accuracy: 0.6601\n",
            "Epoch 10/10\n",
            "779/779 [==============================] - 99s 127ms/step - loss: 0.6233 - accuracy: 0.6669 - val_loss: 0.6083 - val_accuracy: 0.6807\n"
          ]
        },
        {
          "output_type": "display_data",
          "data": {
            "text/plain": [
              "<Figure size 576x360 with 1 Axes>"
            ],
            "image/png": "[encoded data removed]"
          },
          "metadata": {
            "needs_background": "light"
          }
        },
        {
          "output_type": "stream",
          "name": "stdout",
          "text": [
            "Compute valiation accuracy\n",
            "2022-12-13 00:24:22.841581\n",
            "Range of scores: 0.20288248 to 0.7278306\n",
            "Predicted zeros and ones 2563 3736\n",
            "Accuracy: 68.07% Precision: 64.29% Recall: 78.01% F1: 70.49%\n",
            "2022-12-13 00:24:35.693621\n",
            "Fold 3\n",
            "Training example\n",
            "[167 155 106 ...   0   0   0]\n",
            "Train sizes (24914, 3997) (24914, 1)\n",
            "Valid sizes (6306, 3997) (6306, 1)\n",
            "Train set ones/size 12233 / 24914\n",
            "Valid set ones/size 2979 / 6306\n",
            "BUILD MODEL\n",
            "COMPILE\n",
            "FIT\n",
            "2022-12-13 00:24:43.189883\n",
            "Epoch 1/10\n",
            "779/779 [==============================] - 104s 129ms/step - loss: 0.6959 - accuracy: 0.5081 - val_loss: 0.6909 - val_accuracy: 0.5276\n",
            "Epoch 2/10\n",
            "779/779 [==============================] - 100s 129ms/step - loss: 0.6777 - accuracy: 0.5682 - val_loss: 0.6790 - val_accuracy: 0.5745\n",
            "Epoch 3/10\n",
            "779/779 [==============================] - 99s 127ms/step - loss: 0.6681 - accuracy: 0.5954 - val_loss: 0.6847 - val_accuracy: 0.5347\n",
            "Epoch 4/10\n",
            "779/779 [==============================] - 99s 127ms/step - loss: 0.6778 - accuracy: 0.5849 - val_loss: 0.6382 - val_accuracy: 0.6505\n",
            "Epoch 5/10\n",
            "779/779 [==============================] - 100s 128ms/step - loss: 0.6403 - accuracy: 0.6486 - val_loss: 0.6695 - val_accuracy: 0.5912\n",
            "Epoch 6/10\n",
            "779/779 [==============================] - 99s 128ms/step - loss: 0.6488 - accuracy: 0.6322 - val_loss: 0.6391 - val_accuracy: 0.6462\n",
            "Epoch 7/10\n",
            "779/779 [==============================] - 102s 131ms/step - loss: 0.6412 - accuracy: 0.6431 - val_loss: 0.6273 - val_accuracy: 0.6597\n",
            "Epoch 8/10\n",
            "779/779 [==============================] - 102s 130ms/step - loss: 0.6223 - accuracy: 0.6725 - val_loss: 0.6135 - val_accuracy: 0.6784\n",
            "Epoch 9/10\n",
            "779/779 [==============================] - 99s 128ms/step - loss: 0.6130 - accuracy: 0.6829 - val_loss: 0.6179 - val_accuracy: 0.6676\n",
            "Epoch 10/10\n",
            "779/779 [==============================] - 102s 131ms/step - loss: 0.6412 - accuracy: 0.6425 - val_loss: 0.6224 - val_accuracy: 0.6732\n"
          ]
        },
        {
          "output_type": "display_data",
          "data": {
            "text/plain": [
              "<Figure size 576x360 with 1 Axes>"
            ],
            "image/png": "[encoded data removed]"
          },
          "metadata": {
            "needs_background": "light"
          }
        },
        {
          "output_type": "stream",
          "name": "stdout",
          "text": [
            "Compute valiation accuracy\n",
            "2022-12-13 00:41:28.611250\n",
            "Range of scores: 0.16152225 to 0.74895227\n",
            "Predicted zeros and ones 3524 2782\n",
            "Accuracy: 67.32% Precision: 66.50% Recall: 62.10% F1: 64.22%\n",
            "2022-12-13 00:41:50.297479\n",
            "Fold 4\n",
            "Training example\n",
            "[167 155 106 ...   0   0   0]\n",
            "Train sizes (24986, 3997) (24986, 1)\n",
            "Valid sizes (6234, 3997) (6234, 1)\n",
            "Train set ones/size 12223 / 24986\n",
            "Valid set ones/size 2989 / 6234\n",
            "BUILD MODEL\n",
            "COMPILE\n",
            "FIT\n",
            "2022-12-13 00:41:58.450879\n",
            "Epoch 1/10\n",
            "781/781 [==============================] - 107s 131ms/step - loss: 0.6946 - accuracy: 0.5170 - val_loss: 0.7084 - val_accuracy: 0.5205\n",
            "Epoch 2/10\n",
            "781/781 [==============================] - 98s 126ms/step - loss: 0.6919 - accuracy: 0.5181 - val_loss: 0.6886 - val_accuracy: 0.5205\n",
            "Epoch 3/10\n",
            "781/781 [==============================] - 103s 132ms/step - loss: 0.6821 - accuracy: 0.5614 - val_loss: 0.6719 - val_accuracy: 0.5852\n",
            "Epoch 4/10\n",
            "781/781 [==============================] - 100s 128ms/step - loss: 0.6802 - accuracy: 0.5570 - val_loss: 0.6827 - val_accuracy: 0.5646\n",
            "Epoch 5/10\n",
            "781/781 [==============================] - 99s 126ms/step - loss: 0.6636 - accuracy: 0.6071 - val_loss: 0.6504 - val_accuracy: 0.6368\n",
            "Epoch 6/10\n",
            "781/781 [==============================] - 112s 143ms/step - loss: 0.6644 - accuracy: 0.6083 - val_loss: 0.6527 - val_accuracy: 0.6412\n",
            "Epoch 7/10\n",
            "781/781 [==============================] - 104s 133ms/step - loss: 0.6610 - accuracy: 0.6165 - val_loss: 0.6607 - val_accuracy: 0.6115\n",
            "Epoch 8/10\n",
            "781/781 [==============================] - 102s 130ms/step - loss: 0.6467 - accuracy: 0.6433 - val_loss: 0.6474 - val_accuracy: 0.6341\n",
            "Epoch 9/10\n",
            "781/781 [==============================] - 100s 127ms/step - loss: 0.6425 - accuracy: 0.6480 - val_loss: 0.6401 - val_accuracy: 0.6463\n",
            "Epoch 10/10\n",
            "781/781 [==============================] - 101s 129ms/step - loss: 0.6521 - accuracy: 0.6303 - val_loss: 0.6409 - val_accuracy: 0.6538\n"
          ]
        },
        {
          "output_type": "display_data",
          "data": {
            "text/plain": [
              "<Figure size 576x360 with 1 Axes>"
            ],
            "image/png": "[encoded data removed]"
          },
          "metadata": {
            "needs_background": "light"
          }
        },
        {
          "output_type": "stream",
          "name": "stdout",
          "text": [
            "Compute valiation accuracy\n",
            "2022-12-13 00:59:04.242074\n",
            "Range of scores: 0.15120336 to 0.6219994\n",
            "Predicted zeros and ones 3957 2277\n",
            "Accuracy: 65.38% Precision: 68.25% Recall: 51.99% F1: 59.02%\n",
            "2022-12-13 00:59:15.878970\n",
            "Fold 5\n",
            "Training example\n",
            "[160 126 247 ...   0   0   0]\n",
            "Train sizes (25156, 3997) (25156, 1)\n",
            "Valid sizes (6064, 3997) (6064, 1)\n",
            "Train set ones/size 12072 / 25156\n",
            "Valid set ones/size 3140 / 6064\n",
            "BUILD MODEL\n",
            "COMPILE\n",
            "FIT\n",
            "2022-12-13 00:59:23.448495\n",
            "Epoch 1/10\n",
            "787/787 [==============================] - 105s 129ms/step - loss: 0.6934 - accuracy: 0.5250 - val_loss: 0.6670 - val_accuracy: 0.5968\n",
            "Epoch 2/10\n",
            "787/787 [==============================] - 100s 127ms/step - loss: 0.6769 - accuracy: 0.5801 - val_loss: 0.6823 - val_accuracy: 0.5665\n",
            "Epoch 3/10\n",
            "787/787 [==============================] - 99s 125ms/step - loss: 0.6825 - accuracy: 0.5617 - val_loss: 0.6632 - val_accuracy: 0.6097\n",
            "Epoch 4/10\n",
            "787/787 [==============================] - 100s 128ms/step - loss: 0.6623 - accuracy: 0.6127 - val_loss: 0.6708 - val_accuracy: 0.5884\n",
            "Epoch 5/10\n",
            "787/787 [==============================] - 99s 126ms/step - loss: 0.6443 - accuracy: 0.6457 - val_loss: 0.6459 - val_accuracy: 0.6275\n",
            "Epoch 6/10\n",
            "787/787 [==============================] - 100s 127ms/step - loss: 0.6687 - accuracy: 0.5958 - val_loss: 0.6719 - val_accuracy: 0.5879\n",
            "Epoch 7/10\n",
            "787/787 [==============================] - 102s 129ms/step - loss: 0.6661 - accuracy: 0.6009 - val_loss: 0.6903 - val_accuracy: 0.5231\n",
            "Epoch 8/10\n",
            "787/787 [==============================] - 100s 127ms/step - loss: 0.6545 - accuracy: 0.6261 - val_loss: 0.6159 - val_accuracy: 0.6840\n",
            "Epoch 9/10\n",
            "787/787 [==============================] - 102s 129ms/step - loss: 0.6543 - accuracy: 0.6202 - val_loss: 0.6208 - val_accuracy: 0.6712\n",
            "Epoch 10/10\n",
            "787/787 [==============================] - 100s 127ms/step - loss: 0.6516 - accuracy: 0.6273 - val_loss: 0.6327 - val_accuracy: 0.6672\n"
          ]
        },
        {
          "output_type": "display_data",
          "data": {
            "text/plain": [
              "<Figure size 576x360 with 1 Axes>"
            ],
            "image/png": "[encoded data removed]"
          },
          "metadata": {
            "needs_background": "light"
          }
        },
        {
          "output_type": "stream",
          "name": "stdout",
          "text": [
            "Compute valiation accuracy\n",
            "2022-12-13 01:16:11.707835\n",
            "Range of scores: 0.15098134 to 0.835706\n",
            "Predicted zeros and ones 3606 2458\n",
            "Accuracy: 66.72% Precision: 72.82% Recall: 57.01% F1: 63.95%\n",
            "2022-12-13 01:16:24.349646\n",
            "\n",
            "Cross validation 5 folds 10 epochs\n",
            " accuracy mean 67.04% +/- 0.94\n",
            " precision mean 66.73% +/- 3.74\n",
            " recall mean 66.90% +/- 12.72\n",
            " F1 mean 65.88% +/- 4.66\n",
            "2022-12-13 01:16:24.353623\n"
          ]
        }
      ],
      "source": [
        "print(datetime.now())\n",
        "cv_accuracy, cv_precision, cv_recall, cv_f1 = do_cross_validation(EPOCHS)   \n",
        "print(\"Cross validation %d folds %d epochs\" % (FOLDS,EPOCHS)) \n",
        "print(\" accuracy mean %.2f%% +/- %.2f\" % (np.mean(cv_accuracy), np.std(cv_accuracy)))\n",
        "print(\" precision mean %.2f%% +/- %.2f\" % (np.mean(cv_precision), np.std(cv_precision)))\n",
        "print(\" recall mean %.2f%% +/- %.2f\" % (np.mean(cv_recall), np.std(cv_recall)))\n",
        "print(\" F1 mean %.2f%% +/- %.2f\" % (np.mean(cv_f1), np.std(cv_f1)))\n",
        "\n",
        "print(datetime.now())"
      ]
    },
    {
      "cell_type": "markdown",
      "metadata": {
        "id": "riMTsEsCFLBJ"
      },
      "source": [
        "Results on CoLab\n",
        "Coding, len 1000-2000, 4 cells, break after 1 fold, 5 epochs.   \n",
        "Embedding(ALPHABET,EMBED_DIMEN,input_length=ADJUST_LENGTH,mask_zero=True)   \n",
        "rnn1_layer = LSTM(RCELLS, return_sequences=False) # True)\n",
        "output_layer = Dense(1,activation='sigmoid',dtype=dt)\n",
        "1. K=4, accuracy: 0.6608, val_accuracy: 0.6190\n",
        "1. K=1, accuracy: 0.6329, val_accuracy: 0.6167 \n",
        "\n",
        "Next try mask_zero=False, return_sequences=True\n",
        "1. K=4,  accuracy: 0.6441, val_accuracy: 0.6258\n",
        "1. K=1, accuracy: 0.5756, val_accuracy: 0.5896"
      ]
    }
  ],
  "metadata": {
    "accelerator": "GPU",
    "colab": {
      "provenance": []
    },
    "gpuClass": "standard",
    "kernelspec": {
      "display_name": "Python 3 (ipykernel)",
      "language": "python",
      "name": "python3"
    },
    "language_info": {
      "codemirror_mode": {
        "name": "ipython",
        "version": 3
      },
      "file_extension": ".py",
      "mimetype": "text/x-python",
      "name": "python",
      "nbconvert_exporter": "python",
      "pygments_lexer": "ipython3",
      "version": "3.10.0"
    }
  },
  "nbformat": 4,
  "nbformat_minor": 0
}