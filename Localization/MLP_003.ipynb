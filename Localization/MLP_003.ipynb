{
 "cells": [
  {
   "cell_type": "markdown",
   "metadata": {},
   "source": [
    "# MLP "
   ]
  },
  {
   "cell_type": "code",
   "execution_count": 1,
   "metadata": {},
   "outputs": [
    {
     "name": "stdout",
     "output_type": "stream",
     "text": [
      "2022-10-09 12:27:41.128361\n",
      "Python 3.10.0\n",
      "sklearn 1.1.2\n"
     ]
    }
   ],
   "source": [
    "from datetime import datetime\n",
    "print(datetime.now())\n",
    "from platform import python_version\n",
    "print('Python',python_version())\n",
    "from csv import reader\n",
    "import numpy as np\n",
    "import pandas as pd\n",
    "import matplotlib as plt\n",
    "import math\n",
    "import random\n",
    "import sklearn   # pip install --upgrade scikit-learn\n",
    "print('sklearn',sklearn.__version__)"
   ]
  },
  {
   "cell_type": "code",
   "execution_count": 2,
   "metadata": {},
   "outputs": [],
   "source": [
    "from sklearn.model_selection import ShuffleSplit\n",
    "from sklearn.model_selection import cross_val_score\n",
    "from sklearn.model_selection import RepeatedKFold\n",
    "from sklearn.model_selection import StratifiedKFold\n",
    "import tensorflow as tf\n",
    "from tensorflow import keras\n",
    "from keras.wrappers.scikit_learn import KerasRegressor\n",
    "from keras.models import Sequential\n",
    "from keras.layers import Bidirectional\n",
    "from keras.layers import Dense\n",
    "from keras.layers import LayerNormalization\n",
    "\n",
    "dt='float32'\n",
    "tf.keras.backend.set_floatx(dt)\n",
    "\n",
    "EPOCHS=10\n",
    "SPLITS=3\n",
    "EMBED_DIMEN=16"
   ]
  },
  {
   "cell_type": "code",
   "execution_count": 3,
   "metadata": {},
   "outputs": [],
   "source": [
    "ATLAS_DIR = '/Users/jasonmiller/WVU/Localization/LncAtlas/'\n",
    "RCI_FILE = 'CNRCI_coding_train_genes.csv'\n",
    "GENCODE_DIR = '/Users/jasonmiller/WVU/Localization/GenCode/'\n",
    "SEQUENCE_FILE = 'Homo_sapiens.GRCh38.cds.csv'"
   ]
  },
  {
   "cell_type": "code",
   "execution_count": 4,
   "metadata": {},
   "outputs": [
    {
     "name": "stdout",
     "output_type": "stream",
     "text": [
      "Cell line for today: 0 A549\n"
     ]
    }
   ],
   "source": [
    "from cell_lines import Cell_Lines\n",
    "all_cell_lines = Cell_Lines.get_ordered_list()\n",
    "cell_line_number = 0\n",
    "cell_line_name = all_cell_lines[cell_line_number]\n",
    "print('Cell line for today:',cell_line_number,cell_line_name)"
   ]
  },
  {
   "cell_type": "markdown",
   "metadata": {},
   "source": [
    "## Load labels and sequences"
   ]
  },
  {
   "cell_type": "code",
   "execution_count": 5,
   "metadata": {},
   "outputs": [
    {
     "name": "stdout",
     "output_type": "stream",
     "text": [
      "2022-10-09 12:27:59.843739\n",
      "Genes: 14216\n",
      "Gene labels: 10392\n",
      "Positive labels: 5412\n"
     ]
    }
   ],
   "source": [
    "def load_labels(atlas_file,cells):\n",
    "    gene_labels = {}\n",
    "    with open(atlas_file,'r') as atlas:\n",
    "        header = None\n",
    "        genes_considered = 0\n",
    "        positives = 0\n",
    "        csv = reader(atlas)\n",
    "        for row in csv:\n",
    "            if header is None:\n",
    "                header = row\n",
    "            else:\n",
    "                gene = row[0]\n",
    "                genes_considered += 1\n",
    "                rci = float(row[1+cells])\n",
    "                if not math.isnan(rci):\n",
    "                    # GENERATE BINARY LABELS\n",
    "                    label = 0   # RCI<0\n",
    "                    if rci>=0:  # THRESHOLD\n",
    "                        label = 1   #RCI>=0\n",
    "                        positives += 1\n",
    "                    gene_labels[gene]=label\n",
    "    print('Genes:',genes_considered)\n",
    "    print('Gene labels:',len(gene_labels))\n",
    "    print('Positive labels:',positives)\n",
    "    return gene_labels\n",
    "    \n",
    "print(datetime.now())\n",
    "atlas_path = ATLAS_DIR+RCI_FILE\n",
    "gene_label = load_labels(atlas_path,cell_line_number)"
   ]
  },
  {
   "cell_type": "code",
   "execution_count": 6,
   "metadata": {},
   "outputs": [],
   "source": [
    "def load_sequences(gencode_file,gene_label):\n",
    "    gid_tid = []\n",
    "    labels = []\n",
    "    tseqs = []\n",
    "    with open(gencode_file,'r') as gencode:\n",
    "        header = None\n",
    "        csv = reader(gencode)\n",
    "        for row in csv:\n",
    "            if header is None:\n",
    "                header = row\n",
    "            else:\n",
    "                tran_id = row[0]\n",
    "                gene_id = row[1]\n",
    "                tseq = row[4]\n",
    "                if gene_id in gene_label:\n",
    "                    label = gene_label[gene_id]\n",
    "                    gid_tid.append ((gene_id,tran_id))\n",
    "                    labels.append(label)\n",
    "                    tseqs.append(tseq)\n",
    "    return gid_tid,labels,tseqs"
   ]
  },
  {
   "cell_type": "code",
   "execution_count": 7,
   "metadata": {},
   "outputs": [
    {
     "name": "stdout",
     "output_type": "stream",
     "text": [
      "2022-10-09 12:27:59.960155\n"
     ]
    }
   ],
   "source": [
    "print(datetime.now())\n",
    "gencode_path = GENCODE_DIR+SEQUENCE_FILE\n",
    "ordered_gid_tid,ordered_labels,ordered_seqs = \\\n",
    "    load_sequences(gencode_path,gene_label)"
   ]
  },
  {
   "cell_type": "markdown",
   "metadata": {},
   "source": [
    "## Make K-mers"
   ]
  },
  {
   "cell_type": "code",
   "execution_count": 8,
   "metadata": {},
   "outputs": [],
   "source": [
    "K=4\n",
    "MAX_COUNT = 2**8-1\n",
    "VOCABULARY_SIZE = 4**K\n",
    "def seq_to_kmer_counts(seq):\n",
    "    counts = np.zeros(VOCABULARY_SIZE,np.int8)\n",
    "    letter_values={'A':0, 'C':1, 'G':2, 'T':3}\n",
    "    for p in range(len(seq)-K+1):\n",
    "        valid = True\n",
    "        kmer_seq=seq[p:p+K]\n",
    "        kmer_hash=0\n",
    "        for d in range(K):\n",
    "            letter = kmer_seq[d]\n",
    "            if letter in letter_values:\n",
    "                additional = letter_values[letter]\n",
    "                kmer_hash = kmer_hash * 4  # left shift\n",
    "                kmer_hash = kmer_hash + additional\n",
    "            else:\n",
    "                valid = False\n",
    "        #print(p, kmer_seq, kmer_hash, valid)\n",
    "        if valid and counts[kmer_hash]<MAX_COUNT:\n",
    "            counts[kmer_hash] += 1\n",
    "    return counts"
   ]
  },
  {
   "cell_type": "code",
   "execution_count": 9,
   "metadata": {},
   "outputs": [
    {
     "name": "stdout",
     "output_type": "stream",
     "text": [
      "2022-10-09 12:28:01.804717\n",
      ".....................................................2022-10-09 12:34:58.781155\n"
     ]
    }
   ],
   "source": [
    "print(datetime.now())\n",
    "ordered_kmer_counts = []\n",
    "tock = 1000\n",
    "tick = 0\n",
    "for seq in ordered_seqs:\n",
    "    tick += 1\n",
    "    if tick >= tock:\n",
    "        tick = 1\n",
    "        print('.',end='')\n",
    "    counts = seq_to_kmer_counts(seq)\n",
    "    ordered_kmer_counts.append(counts)\n",
    "print(datetime.now())"
   ]
  },
  {
   "cell_type": "markdown",
   "metadata": {},
   "source": [
    "## Build model"
   ]
  },
  {
   "cell_type": "code",
   "execution_count": 14,
   "metadata": {},
   "outputs": [],
   "source": [
    "def build_model():\n",
    "    act=\"sigmoid\"\n",
    "    #embed_layer  = keras.layers.Embedding(\n",
    "    #    VOCABULARY_SIZE,EMBED_DIMEN,input_length=maxlen);\n",
    "    dense1_layer = keras.layers.Dense(64, activation=act,dtype=dt,\n",
    "                                      input_dim=VOCABULARY_SIZE)\n",
    "    dense2_layer = keras.layers.Dense(64, activation=act,dtype=dt)\n",
    "    dense3_layer = keras.layers.Dense(64, activation=act,dtype=dt)\n",
    "    #output_layer = keras.layers.Dense(1,  activation=\"softmax\",dtype=dt)\n",
    "    output_layer = keras.layers.Dense(1,  activation=act,dtype=dt)\n",
    "\n",
    "    mlp = keras.models.Sequential()\n",
    "    #mlp.add(embed_layer)\n",
    "    mlp.add(dense1_layer)\n",
    "    mlp.add(dense2_layer)\n",
    "    mlp.add(dense3_layer)\n",
    "    mlp.add(output_layer)\n",
    "    \n",
    "    # Logit=True ranges from + to - infinity.\n",
    "    # Logit=False i.e. probabilities range from 0 to 1.\n",
    "    # If your output layer has a 'softmax' activation, from_logits should be False. If your output layer doesn't have a 'softmax' activation, from_logits should be True. \n",
    "    bc=tf.keras.losses.BinaryCrossentropy(from_logits=False)\n",
    "    print(\"COMPILE...\")\n",
    "    mlp.compile(loss=bc, optimizer=\"Adam\",metrics=[\"accuracy\"])\n",
    "    print(\"...COMPILED\")\n",
    "    return mlp"
   ]
  },
  {
   "cell_type": "markdown",
   "metadata": {},
   "source": [
    "## Cross validation"
   ]
  },
  {
   "cell_type": "code",
   "execution_count": 15,
   "metadata": {},
   "outputs": [],
   "source": [
    "from random import Random\n",
    "def train_valid_split(iteration, partitions):\n",
    "    num_transcripts = len(ordered_gid_tid)\n",
    "    gene_set = set()\n",
    "    for (gid,tid) in ordered_gid_tid:\n",
    "        gene_set.add(gid)\n",
    "    num_genes = len(gene_set)\n",
    "    print('Num genes:',num_genes,'Num transcripts:',num_transcripts)\n",
    "    low = int(0)\n",
    "    high = int(num_genes * 0.20)    # later, calculate from iteration\n",
    "    gene_list = list(gene_set)\n",
    "    generator = Random()\n",
    "    generator.seed(42)\n",
    "    generator.shuffle(gene_list)  # in-place\n",
    "    valid_genes = set(gene_list[low:high])\n",
    "    train_genes = set(gene_list[high:])    # not needed?\n",
    "    X_train = []   # would be more efficient with fixed-size numpy array\n",
    "    X_valid = []\n",
    "    y_train = []\n",
    "    y_valid = []\n",
    "    for i in range(num_transcripts):\n",
    "        (gid,tid) = ordered_gid_tid[i]     \n",
    "        if gid in valid_genes:\n",
    "            X_valid.append(ordered_kmer_counts[i])   \n",
    "            y_valid.append(ordered_labels[i])\n",
    "        else:\n",
    "            X_train.append(ordered_kmer_counts[i])   \n",
    "            y_train.append(ordered_labels[i])\n",
    "    X_train = np.asarray(X_train)\n",
    "    y_train = np.asarray(y_train)\n",
    "    X_valid = np.asarray(X_valid)\n",
    "    y_valid = np.asarray(y_valid)\n",
    "    return X_train,y_train,X_valid,y_valid"
   ]
  },
  {
   "cell_type": "code",
   "execution_count": 20,
   "metadata": {},
   "outputs": [],
   "source": [
    "import matplotlib.pyplot as plt \n",
    "def do_cross_validation(X,y,eps):\n",
    "    cv_scores = []\n",
    "    fold=0\n",
    "    PARTITIONS=5\n",
    "    PARTITIONS=1   # for testing\n",
    "    for i in range(PARTITIONS):\n",
    "        X_train,y_train,X_valid,y_valid = train_valid_split(i,PARTITIONS)\n",
    "\n",
    "        print(\"BUILD MODEL\")\n",
    "        model=build_model()\n",
    "\n",
    "        print(\"FIT\")\n",
    "        # this is complaining about string to float\n",
    "        history=model.fit(X_train, y_train, # batch_size=10, default=32 works nicely\n",
    "                epochs=eps, verbose=1,  # verbose=1 for ascii art, verbose=0 for none\n",
    "                validation_data=(X_valid,y_valid) )\n",
    "                        \n",
    "        fold += 1\n",
    "        print(\"Fold %d, %d epochs\"%(fold,eps))\n",
    "\n",
    "        pd.DataFrame(history.history).plot(figsize=(8,5))\n",
    "        plt.grid(True)\n",
    "        plt.gca().set_ylim(0,1)\n",
    "        plt.show()\n",
    "\n",
    "        scores = model.evaluate(X_valid, y_valid, verbose=0)\n",
    "        print(\"%s: %.2f%%\" % (model.metrics_names[1], scores[1]*100))\n",
    "        # What are the other metrics_names?\n",
    "        # Try this from Geron page 505:\n",
    "        # np.mean(keras.losses.mean_squared_error(y_valid,y_pred))\n",
    "        cv_scores.append(scores[1] * 100)\n",
    "    print()\n",
    "    print(\"Validation core mean %.2f%% (+/- %.2f%%)\" % (np.mean(cv_scores), np.std(cv_scores)))\n"
   ]
  },
  {
   "cell_type": "markdown",
   "metadata": {},
   "source": [
    "## Train"
   ]
  },
  {
   "cell_type": "code",
   "execution_count": 21,
   "metadata": {},
   "outputs": [
    {
     "name": "stdout",
     "output_type": "stream",
     "text": [
      "2022-10-09 12:42:47.472991\n",
      "COMPILE...\n",
      "...COMPILED\n",
      "Summarize the model\n",
      "Model: \"sequential_6\"\n",
      "_________________________________________________________________\n",
      " Layer (type)                Output Shape              Param #   \n",
      "=================================================================\n",
      " dense_24 (Dense)            (None, 64)                16448     \n",
      "                                                                 \n",
      " dense_25 (Dense)            (None, 64)                4160      \n",
      "                                                                 \n",
      " dense_26 (Dense)            (None, 64)                4160      \n",
      "                                                                 \n",
      " dense_27 (Dense)            (None, 1)                 65        \n",
      "                                                                 \n",
      "=================================================================\n",
      "Total params: 24,833\n",
      "Trainable params: 24,833\n",
      "Non-trainable params: 0\n",
      "_________________________________________________________________\n",
      "None\n",
      "Sequence to Kmer\n",
      "Cross valiation\n",
      "Num genes: 10268 Num transcripts: 53450\n",
      "BUILD MODEL\n",
      "COMPILE...\n",
      "...COMPILED\n",
      "FIT\n",
      "Epoch 1/10\n",
      "1342/1342 [==============================] - 4s 3ms/step - loss: 0.5917 - accuracy: 0.6938 - val_loss: 0.6133 - val_accuracy: 0.6729\n",
      "Epoch 2/10\n",
      "1342/1342 [==============================] - 3s 2ms/step - loss: 0.5762 - accuracy: 0.7044 - val_loss: 0.6098 - val_accuracy: 0.6695\n",
      "Epoch 3/10\n",
      "1342/1342 [==============================] - 3s 3ms/step - loss: 0.5764 - accuracy: 0.7047 - val_loss: 0.6070 - val_accuracy: 0.6767\n",
      "Epoch 4/10\n",
      "1342/1342 [==============================] - 3s 3ms/step - loss: 0.5712 - accuracy: 0.7097 - val_loss: 0.6211 - val_accuracy: 0.6764\n",
      "Epoch 5/10\n",
      "1342/1342 [==============================] - 3s 3ms/step - loss: 0.5650 - accuracy: 0.7156 - val_loss: 0.6042 - val_accuracy: 0.6750\n",
      "Epoch 6/10\n",
      "1342/1342 [==============================] - 3s 3ms/step - loss: 0.5555 - accuracy: 0.7227 - val_loss: 0.6266 - val_accuracy: 0.6755\n",
      "Epoch 7/10\n",
      "1342/1342 [==============================] - 3s 2ms/step - loss: 0.5401 - accuracy: 0.7336 - val_loss: 0.6428 - val_accuracy: 0.6721\n",
      "Epoch 8/10\n",
      "1342/1342 [==============================] - 3s 2ms/step - loss: 0.5297 - accuracy: 0.7408 - val_loss: 0.6275 - val_accuracy: 0.6782\n",
      "Epoch 9/10\n",
      "1342/1342 [==============================] - 4s 3ms/step - loss: 0.5201 - accuracy: 0.7459 - val_loss: 0.6623 - val_accuracy: 0.6539\n",
      "Epoch 10/10\n",
      "1342/1342 [==============================] - 3s 3ms/step - loss: 0.5066 - accuracy: 0.7565 - val_loss: 0.6395 - val_accuracy: 0.6811\n",
      "Fold 1, 10 epochs\n"
     ]
    },
    {
     "data": {
      "image/png": "[encoded data removed]",
      "text/plain": [
       "<Figure size 800x500 with 1 Axes>"
      ]
     },
     "metadata": {},
     "output_type": "display_data"
    },
    {
     "name": "stdout",
     "output_type": "stream",
     "text": [
      "accuracy: 68.11%\n",
      "\n",
      "Validation core mean 68.11% (+/- 0.00%)\n",
      "2022-10-09 12:43:23.322847\n"
     ]
    }
   ],
   "source": [
    "print(datetime.now())\n",
    "model=build_model()\n",
    "print (\"Summarize the model\")\n",
    "print(model.summary())  # Print this only once\n",
    "\n",
    "print (\"Sequence to Kmer\")\n",
    "y = ordered_labels\n",
    "X = ordered_kmer_counts\n",
    "\n",
    "print (\"Cross valiation\")\n",
    "do_cross_validation(X,y,EPOCHS)\n",
    "print(datetime.now())"
   ]
  },
  {
   "cell_type": "markdown",
   "metadata": {},
   "source": [
    "# to do\n",
    "Do train/valid split with respect to genes. "
   ]
  },
  {
   "cell_type": "code",
   "execution_count": null,
   "metadata": {},
   "outputs": [],
   "source": []
  }
 ],
 "metadata": {
  "kernelspec": {
   "display_name": "Python 3 (ipykernel)",
   "language": "python",
   "name": "python3"
  },
  "language_info": {
   "codemirror_mode": {
    "name": "ipython",
    "version": 3
   },
   "file_extension": ".py",
   "mimetype": "text/x-python",
   "name": "python",
   "nbconvert_exporter": "python",
   "pygments_lexer": "ipython3",
   "version": "3.10.0"
  }
 },
 "nbformat": 4,
 "nbformat_minor": 2
}
