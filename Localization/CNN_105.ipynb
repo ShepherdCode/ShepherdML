{
 "cells": [
  {
   "cell_type": "markdown",
   "metadata": {
    "id": "PG-tGRnlFLA3"
   },
   "source": [
    "# CNN + LSTM + Dense \n",
    "Model: Embed mask, Conv1D, LSTM no seq, Dense, Dropout (overfit, bounce up & down)\n",
    "\n",
    "Coding len 2000-4000\n",
    "\n",
    "Cross validation 5 folds 5 epochs,  accuracy mean 53.01% +/- 1.14, F1 mean 43.31% +/- 3.15\n",
    "\n",
    "2 hr 27 min on CoLab GPU"
   ]
  },
  {
   "cell_type": "code",
   "execution_count": 2,
   "metadata": {
    "colab": {
     "base_uri": "https://localhost:8080/"
    },
    "id": "0RmwUsVLFLA6",
    "outputId": "e656c3e9-a638-43ba-9b5f-9e5a8f6aa027"
   },
   "outputs": [
    {
     "name": "stdout",
     "output_type": "stream",
     "text": [
      "2022-12-18 17:07:17.384944\n",
      "Python 3.8.16\n",
      "sklearn 1.0.2\n"
     ]
    }
   ],
   "source": [
    "from datetime import datetime\n",
    "print(datetime.now())\n",
    "from platform import python_version\n",
    "print('Python',python_version())\n",
    "import numpy as np\n",
    "import pandas as pd\n",
    "from matplotlib import pyplot as plt \n",
    "import sklearn   # pip install --upgrade scikit-learn\n",
    "print('sklearn',sklearn.__version__)"
   ]
  },
  {
   "cell_type": "markdown",
   "metadata": {
    "id": "tUtGXPrcFLA8"
   },
   "source": [
    "We prevously used sklearn.model_selection.ShuffleSplit   \n",
    "Now we avoid it due to this note in the \n",
    "[documentation](https://scikit-learn.org/stable/modules/generated/sklearn.model_selection.ShuffleSplit.html):\n",
    "Note: contrary to other cross-validation strategies, random splits do not guarantee that all folds will be different, although this is still very likely for sizeable datasets."
   ]
  },
  {
   "cell_type": "code",
   "execution_count": 3,
   "metadata": {
    "id": "PRX-UEr8FLA8"
   },
   "outputs": [],
   "source": [
    "import tensorflow as tf\n",
    "dt='float32'\n",
    "tf.keras.backend.set_floatx('float32')\n",
    "tf.random.set_seed(42) \n",
    "\n",
    "from tensorflow import keras\n",
    "from sklearn.model_selection import KFold\n",
    "from sklearn.metrics import accuracy_score\n",
    "from sklearn.metrics import precision_score\n",
    "from sklearn.metrics import recall_score\n",
    "from sklearn.metrics import f1_score\n",
    "\n",
    "from keras.models import Sequential\n",
    "from keras.layers import Masking\n",
    "from keras.layers import Embedding\n",
    "from keras.layers import Conv1D\n",
    "from keras.layers import Attention\n",
    "from keras.layers import Bidirectional\n",
    "from keras.layers import LSTM\n",
    "from keras.layers import Dense\n",
    "from keras.layers import Dropout\n",
    "from keras.losses import BinaryCrossentropy\n",
    "\n",
    "K=4\n",
    "RCI_THRESHOLD=0.0\n",
    "CFILTERS=62\n",
    "FILTERSIZE=8\n",
    "RCELLS=16\n",
    "EPOCHS=20\n",
    "FOLDS=5      \n",
    "EMBED_DIMEN = 4 # arbitrary hyperparameter\n",
    "BREAK = False   # break after first fold\n",
    "MINLEN=2000\n",
    "MAXLEN=4000   "
   ]
  },
  {
   "cell_type": "code",
   "execution_count": 4,
   "metadata": {
    "colab": {
     "base_uri": "https://localhost:8080/"
    },
    "id": "OlzN9OdsFWEU",
    "outputId": "c53c503b-26ad-4f40-a159-029cb5be487b"
   },
   "outputs": [
    {
     "name": "stdout",
     "output_type": "stream",
     "text": [
      "Running on CoLab\n",
      "Mounted at /content/drive/\n",
      "/content/drive/My Drive/data/Localization/TrainTest/\n"
     ]
    }
   ],
   "source": [
    "try:\n",
    "    from google.colab import drive\n",
    "    IN_COLAB = True\n",
    "    print('Running on CoLab')\n",
    "    PATH='/content/drive/'\n",
    "    drive.mount(PATH)\n",
    "    DATA_DIR=PATH+'My Drive/data/Localization/TrainTest/'  # must end in \"/\"\n",
    "except:\n",
    "    IN_COLAB = False\n",
    "    DATA_DIR = 'D:/Adjeroh/Localization/TrainTest/'   # Windows\n",
    "    DATA_DIR = '/Users/jasonmiller/WVU/Localization/TrainTest/'    # Mac\n",
    "print(DATA_DIR)"
   ]
  },
  {
   "cell_type": "code",
   "execution_count": 5,
   "metadata": {
    "id": "LnkpVKdMFLA-"
   },
   "outputs": [],
   "source": [
    "GENES_FILE =    'CNRCI_coding_train_genes.csv'\n",
    "RCI_FILE =      'CNRCI_coding_train_RCI.gc42.csv'\n",
    "SEQUENCE_FILE = 'CNRCI_coding_train_transcripts.gc42.csv'\n",
    "COUNTS_FILE=    'CNRCI_coding_train_counts.K4.gc42.csv'"
   ]
  },
  {
   "cell_type": "code",
   "execution_count": 6,
   "metadata": {
    "colab": {
     "base_uri": "https://localhost:8080/"
    },
    "id": "e3p4QzQJFLA_",
    "outputId": "2789633f-54a2-4c5d-c167-ac57fb96a81c"
   },
   "outputs": [
    {
     "name": "stdout",
     "output_type": "stream",
     "text": [
      "Cell line for today: 1 = H1.hESC\n"
     ]
    }
   ],
   "source": [
    "def get_ordered_list():\n",
    "    ordered_list = \\\n",
    "    ['A549',\\\n",
    "      'H1.hESC',\\\n",
    "      'HeLa.S3',\\\n",
    "      'HepG2',\\\n",
    "      'HT1080',\\\n",
    "      'HUVEC',\\\n",
    "      'MCF.7',\\\n",
    "      'NCI.H460',\\\n",
    "      'NHEK',\\\n",
    "      'SK.MEL.5',\\\n",
    "      'SK.N.DZ',\\\n",
    "      'SK.N.SH',\\\n",
    "      'GM12878',\\\n",
    "      'K562',\\\n",
    "      'IMR.90']\n",
    "    return ordered_list\n",
    "CELL_LINE_NUMBER=1\n",
    "all_cell_lines = get_ordered_list()\n",
    "cell_line_name = all_cell_lines[CELL_LINE_NUMBER]\n",
    "print('Cell line for today:',CELL_LINE_NUMBER,'=',cell_line_name)"
   ]
  },
  {
   "cell_type": "markdown",
   "metadata": {
    "id": "UtqdpJOxFLBA"
   },
   "source": [
    "## Data Load"
   ]
  },
  {
   "cell_type": "code",
   "execution_count": 7,
   "metadata": {
    "colab": {
     "base_uri": "https://localhost:8080/"
    },
    "id": "p35ehKV3Kq0z",
    "outputId": "e8a226bd-3f8b-4ac0-81bb-f72521668896"
   },
   "outputs": [
    {
     "name": "stdout",
     "output_type": "stream",
     "text": [
      "[1, 1]\n",
      "[20, 16]\n",
      "[63, 57]\n",
      "[64, 0]\n",
      "0\n",
      "1\n"
     ]
    }
   ],
   "source": [
    "class DataLoader():\n",
    "    def __init__(self):\n",
    "        self.cache=dict() \n",
    "        self.vals = {'A':0, 'C':1, 'G':2, 'T':3}\n",
    "        \n",
    "    def load_gene_rci_values(self,filepath,cell_line):\n",
    "        '''\n",
    "        Load from RCI csv file.\n",
    "        Return dict with keys=gene:str and values=RCI:float.\n",
    "        '''\n",
    "        gene_to_rci = {}\n",
    "        with open (filepath,'r') as handle:\n",
    "            header = None\n",
    "            for row in handle:\n",
    "                if header is None:\n",
    "                    header = row # skip file's header line\n",
    "                else:\n",
    "                    line = row.strip()\n",
    "                    fields = line.split(',')\n",
    "                    gene_id = fields[0]\n",
    "                    rci_val = fields[cell_line+1]\n",
    "                    if rci_val != \"nan\":\n",
    "                        # Convert string nan to float(nan)\n",
    "                        gene_to_rci[gene_id] = float(rci_val)\n",
    "        return gene_to_rci\n",
    "    \n",
    "    def seq_to_kmer_values(self,rna,K):\n",
    "        # The cache may represent more than one K. Probably not a problem.\n",
    "        N_indicator = 0 # indicator value\n",
    "        vec=[] # seq converted to list of K-mers \n",
    "        length = len(rna)\n",
    "        for i in range(length-K+1):\n",
    "            kmer = rna[i:i+K]\n",
    "            if 'N' in kmer:\n",
    "                value = N_indicator\n",
    "            elif kmer in self.cache.keys():\n",
    "                value = self.cache[kmer]\n",
    "            else:\n",
    "                value = 0\n",
    "                for j in range(K):\n",
    "                    value *= 4   \n",
    "                    nextnuc = kmer[j] \n",
    "                    nucval = self.vals[nextnuc]\n",
    "                    value += nucval\n",
    "                value += 1   # NNN => 0, AAA => 1\n",
    "                self.cache[kmer] = value\n",
    "            vec.append(value)\n",
    "        return vec\n",
    "\n",
    "    def rci_to_label(self,rci):\n",
    "        CYTO_LABEL = 1\n",
    "        NUCLEAR_LABEL = 0\n",
    "        # cnrci = log (cyto-to-nuclear ratio)\n",
    "        # rci > 0 implies cytoplasmic\n",
    "        if rci > RCI_THRESHOLD:\n",
    "            return CYTO_LABEL\n",
    "        return NUCLEAR_LABEL\n",
    "\n",
    "    def load_sequence(self,filepath):\n",
    "        labels=[]\n",
    "        allids=[]\n",
    "        allseq=[]\n",
    "        NREPEAT = str('N'*MAXLEN)\n",
    "        with open (filepath,'r') as handle:\n",
    "            header = None\n",
    "            for row in handle:\n",
    "                if header is None:\n",
    "                    header = row\n",
    "                else:\n",
    "                    line    = row.strip()\n",
    "                    fields  = line.split(',')\n",
    "                    tran_id = fields[0]  # with version number\n",
    "                    gene_id = fields[1]        # without version number\n",
    "                    seq_len = int(fields[3])\n",
    "                    seq_txt = fields[4]\n",
    "                    if seq_len>=MINLEN and seq_len<=MAXLEN and gene_id in gene_to_rci.keys():\n",
    "                        allids.append( (gene_id,tran_id) )\n",
    "                        rci_val = gene_to_rci[gene_id]\n",
    "                        rci_label = self.rci_to_label(rci_val)\n",
    "                        labels.append(rci_label)\n",
    "                        if seq_len<MAXLEN:\n",
    "                            seq_txt = seq_txt + NREPEAT\n",
    "                            seq_txt = seq_txt[:MAXLEN]\n",
    "                        hot_vec = self.seq_to_kmer_values(seq_txt,K)\n",
    "                        allseq.append(hot_vec)\n",
    "        return labels,allids,allseq\n",
    "    \n",
    "loader = DataLoader()\n",
    "# test it\n",
    "print(loader.seq_to_kmer_values('AAAA',3))\n",
    "print(loader.seq_to_kmer_values('CATT',3))\n",
    "print(loader.seq_to_kmer_values('TTGA',3))\n",
    "print(loader.seq_to_kmer_values('TTTN',3))\n",
    "# test it\n",
    "print(loader.rci_to_label(-0.9))\n",
    "print(loader.rci_to_label(1.1))"
   ]
  },
  {
   "cell_type": "code",
   "execution_count": 8,
   "metadata": {
    "colab": {
     "base_uri": "https://localhost:8080/"
    },
    "id": "cYoYDc93FLBB",
    "outputId": "500d5d1e-a881-4791-ae33-16c0ddb23684"
   },
   "outputs": [
    {
     "name": "stdout",
     "output_type": "stream",
     "text": [
      "2022-12-18 17:07:45.770260\n",
      "Load RCI values...\n",
      "Num RCI: 13000\n",
      "Example RCI: [('ENSG00000000003', 1.85734), ('ENSG00000000005', 5.88264), ('ENSG00000000419', 2.58954)]\n",
      "Load genes...\n",
      "2022-12-18 17:07:47.516029\n",
      "Load sequence...\n",
      "2022-12-18 17:08:15.082546\n",
      "Num IDs: 18084\n",
      "Example IDs: [('ENSG00000162571', 'ENST00000379289.6'), ('ENSG00000131584', 'ENST00000354700.10'), ('ENSG00000162576', 'ENST00000477278.3'), ('ENSG00000197530', 'ENST00000505820.7')]\n",
      "Count 8030 ones out of 18084 labels.\n",
      "Example labels: [0, 0, 0, 0]\n",
      "Num counts: 18084\n",
      "Example sequence: [60, 238, 182, 213, 81, 67, 11, 43, 171, 169, 164, 142, 54, 216, 95, 122, 229, 147, 75, 44, 175, 186, 229, 148, 78, 54, 216, 94, 118, 215, 89, 100, 142, 56, 223, 122, 231, 153, 98, 136, 31, 122, 230, 150, 87, 91, 107, 170, 168, 159, 122, 230, 151, 89, 97, 132, 13, 52, 206, 54, 216, 94, 118, 214, 86, 87, 91, 108, 175, 185, 225, 130, 6, 23, 91, 107, 171, 171, 170, 167, 155, 106, 168, 159, 123, 234, 165, 147, 73, 34, 133, 17, 67, 9, 35, 139, 41, 162, 133, 19, 76, 46, 183, 218, 102, 150, 88, 95, 122, 230, 152, 95, 122, 230, 151, 90, 102, 150, 87, 91, 105, 161, 130, 6, 24, 95, 121, 225, 131, 9, 33, 131, 11, 41, 163, 138, 39, 153, 97, 130, 8, 30, 118, 214, 85, 83, 74, 40, 160, 126, 248, 222, 120, 223, 122, 230, 149, 83, 74, 39, 153, 100, 143, 59, 236, 175, 185, 226, 133, 19, 74, 39, 153, 98, 135, 27, 107, 169, 163, 140, 47, 187, 234, 166, 150, 86, 85, 82, 70, 24, 95, 124, 239, 187, 235, 170, 167, 155, 106, 167, 155, 106, 166, 149, 83, 75, 42, 168, 160, 127, 249, 225, 131, 10, 37, 147, 75, 41, 163, 139, 41, 164, 143, 59, 236, 174, 182, 215, 90, 101, 146, 69, 20, 78, 54, 215, 92, 109, 180, 206, 53, 212, 79, 57, 225, 131, 9, 35, 137, 33, 131, 9, 35, 140, 46, 182, 213, 82, 69, 18, 70, 22, 85, 82, 72, 31, 123, 235, 169, 162, 135, 28, 111, 185, 225, 130, 5, 20, 78, 56, 222, 120, 224, 128, 254, 246, 215, 89, 99, 137, 35, 139, 42, 167, 156, 110, 182, 216, 95, 122, 229, 147, 74, 38, 149, 83, 75, 41, 162, 135, 27, 106, 165, 145, 66, 6, 24, 96, 126, 246, 214, 85, 82, 70, 22, 88, 94, 117, 212, 77, 52, 206, 54, 213, 83, 74, 39, 156, 110, 182, 213, 82, 70, 23, 90, 101, 147, 74, 38, 151, 90, 102, 149, 82, 70, 24, 94, 119, 220, 112, 189, 244, 207, 58, 230, 150, 87, 89, 99, 138, 37, 148, 78, 53, 211, 73, 35, 138, 38, 151, 90, 104, 159, 124, 239, 185, 225, 132, 16, 62, 246, 213, 83, 73, 35, 137, 35, 139, 42, 165, 147, 74, 38, 152, 95, 123, 233, 163, 137, 36, 144, 63, 251, 234, 166, 152, 95, 122, 231, 153, 98, 134, 22, 87, 90, 102, 151, 91, 108, 175, 185, 226, 134, 24, 95, 124, 240, 191, 251, 235, 170, 165, 145, 67, 9, 35, 139, 42, 168, 159, 123, 235, 170, 166, 151, 90, 104, 158, 118, 214, 86, 86, 86, 87, 92, 109, 180, 206, 53, 211, 74, 37, 147, 74, 39, 153, 98, 136, 31, 122, 232, 160, 128, 256, 254, 245, 211, 73, 35, 137, 33, 131, 9, 35, 139, 43, 170, 165, 146, 71, 25, 97, 131, 10, 39, 153, 97, 132, 14, 55, 218, 102, 152, 94, 117, 209, 67, 10, 37, 147, 73, 35, 139, 42, 167, 154, 104, 159, 122, 232, 159, 122, 232, 159, 122, 230, 151, 90, 103, 155, 107, 169, 163, 138, 40, 159, 123, 235, 171, 170, 166, 150, 85, 83, 74, 37, 148, 79, 59, 234, 166, 150, 86, 87, 91, 105, 163, 139, 41, 162, 134, 21, 84, 80, 61, 242, 198, 23, 90, 102, 151, 91, 106, 168, 160, 127, 252, 239, 188, 238, 181, 211, 74, 37, 146, 72, 31, 121, 227, 138, 39, 153, 99, 139, 42, 166, 149, 83, 74, 37, 146, 70, 24, 96, 128, 255, 249, 227, 139, 41, 162, 134, 22, 88, 94, 117, 211, 74, 39, 154, 102, 152, 94, 120, 221, 114, 198, 21, 82, 70, 24, 95, 123, 235, 170, 166, 152, 94, 118, 214, 86, 85, 83, 74, 38, 149, 82, 71, 27, 108, 175, 185, 227, 139, 41, 162, 134, 22, 85, 82, 70, 22, 88, 95, 123, 234, 165, 148, 79, 57, 228, 142, 54, 214, 86, 86, 88, 94, 117, 212, 78, 53, 210, 70, 24, 94, 118, 214, 86, 85, 83, 74, 38, 149, 82, 71, 25, 100, 142, 56, 222, 118, 216, 95, 121, 227, 139, 43, 172, 174, 182, 215, 91, 106, 165, 147, 75, 41, 163, 139, 44, 175, 187, 234, 167, 155, 106, 168, 159, 122, 229, 147, 74, 40, 158, 120, 223, 121, 227, 139, 43, 171, 170, 166, 150, 86, 85, 83, 76, 47, 187, 234, 166, 152, 95, 123, 233, 161, 131, 10, 38, 150, 85, 82, 70, 24, 95, 122, 230, 150, 88, 94, 118, 216, 94, 118, 213, 82, 71, 27, 106, 165, 147, 75, 44, 174, 181, 211, 74, 39, 156, 110, 183, 219, 105, 161, 131, 10, 37, 147, 75, 43, 170, 166, 152, 95, 123, 234, 168, 158, 117, 211, 74, 37, 146, 70, 23, 91, 107, 169, 163, 139, 43, 170, 167, 154, 102, 151, 90, 102, 150, 86, 85, 83, 74, 40, 159, 122, 230, 151, 90, 102, 150, 86, 87, 92, 110, 182, 216, 96, 126, 248, 222, 119, 219, 105, 163, 137, 35, 139, 43, 169, 163, 138, 40, 159, 122, 230, 152, 94, 117, 211, 74, 38, 151, 90, 102, 150, 86, 86, 86, 88, 96, 127, 250, 232, 159, 124, 238, 183, 218, 102, 151, 90, 101, 147, 73, 33, 132, 15, 58, 230, 150, 86, 88, 94, 117, 210, 71, 28, 110, 183, 218, 102, 150, 88, 95, 123, 235, 170, 166, 150, 86, 86, 85, 84, 78, 56, 222, 117, 211, 75, 42, 166, 150, 86, 86, 86, 88, 96, 126, 246, 216, 95, 123, 235, 171, 171, 172, 175, 186, 230, 150, 88, 94, 119, 219, 106, 168, 158, 120, 223, 124, 239, 186, 230, 149, 83, 73, 34, 134, 22, 86, 85, 83, 75, 42, 168, 157, 114, 199, 27, 106, 168, 160, 126, 246, 216, 95, 122, 230, 150, 86, 86, 86, 87, 90, 103, 154, 101, 147, 75, 42, 167, 155, 105, 163, 137, 36, 143, 60, 240, 190, 247, 218, 102, 152, 95, 123, 234, 165, 147, 74, 37, 147, 75, 41, 163, 138, 40, 158, 118, 216, 95, 122, 231, 155, 105, 161, 131, 10, 37, 147, 73, 33, 130, 6, 24, 95, 123, 234, 166, 150, 87, 91, 106, 168, 159, 123, 233, 163, 138, 40, 159, 122, 230, 150, 87, 90, 102, 151, 89, 98, 134, 24, 94, 118, 216, 95, 122, 231, 155, 106, 165, 147, 73, 33, 131, 11, 41, 163, 138, 40, 159, 123, 233, 163, 137, 35, 138, 39, 154, 103, 154, 103, 154, 102, 150, 85, 82, 69, 19, 74, 40, 159, 122, 232, 159, 123, 234, 167, 154, 102, 150, 87, 89, 99, 137, 34, 134, 23, 90, 102, 150, 88, 95, 122, 231, 154, 102, 150, 86, 85, 81, 66, 7, 25, 98, 135, 27, 106, 167, 154, 102, 151, 89, 99, 139, 41, 163, 138, 40, 159, 122, 229, 147, 74, 39, 155, 106, 167, 154, 103, 155, 107, 171, 170, 166, 150, 88, 95, 122, 232, 159, 123, 236, 175, 186, 232, 159, 121, 225, 130, 6, 21, 82, 71, 27, 106, 167, 154, 103, 155, 106, 167, 154, 102, 149, 82, 72, 31, 122, 232, 159, 123, 234, 166, 150, 88, 95, 122, 230, 150, 86, 86, 86, 86, 85, 83, 75, 43, 171, 170, 166, 150, 86, 86, 87, 91, 107, 170, 168, 158, 118, 215, 91, 105, 162, 134, 22, 86, 86, 86, 85, 82, 70, 22, 86, 87, 92, 110, 182, 214, 87, 91, 107, 169, 162, 136, 30, 120, 223, 122, 230, 150, 87, 91, 106, 167, 153, 99, 138, 38, 150, 86, 86, 86, 87, 91, 105, 161, 131, 11, 43, 171, 171, 171, 172, 174, 182, 214, 87, 91, 106, 166, 150, 88, 95, 122, 230, 152, 94, 117, 211, 74, 39, 154, 103, 155, 106, 166, 150, 85, 83, 74, 39, 153, 99, 140, 46, 182, 213, 81, 67, 11, 41, 163, 137, 36, 143, 57, 226, 135, 27, 107, 171, 171, 170, 168, 157, 115, 203, 42, 168, 158, 120, 223, 123, 235, 170, 165, 146, 69, 17, 67, 9, 36, 143, 59, 234, 168, 158, 119, 219, 105, 161, 131, 9, 34, 135, 25, 99, 138, 38, 150, 86, 86, 86, 85, 81, 65, 3, 9, 34, 136, 30, 119, 219, 105, 162, 135, 27, 105, 163, 137, 35, 139, 41, 162, 134, 22, 86, 87, 89, 99, 137, 34, 135, 27, 106, 165, 147, 74, 40, 159, 124, 240, 191, 251, 235, 172, 175, 186, 229, 147, 75, 43, 171, 171, 170, 166, 150, 85, 82, 72, 30, 118, 215, 91, 107, 170, 166, 149, 81, 67, 10, 40, 158, 118, 213, 83, 74, 40, 159, 123, 233, 163, 139, 43, 171, 170, 166, 151, 91, 106, 167, 154, 102, 151, 89, 99, 139, 43, 171, 169, 161, 131, 11, 43, 171, 170, 168, 160, 128, 256, 254, 246, 214, 85, 83, 75, 43, 172, 174, 182, 213, 82, 69, 18, 72, 31, 122, 230, 150, 86, 88, 95, 123, 235, 170, 168, 160, 126, 246, 214, 88, 96, 125, 244, 207, 58, 230, 151, 92, 110, 181, 211, 74, 38, 150, 86, 88, 93, 114, 200, 32, 126, 246, 213, 82, 69, 18, 69, 19, 75, 42, 167, 154, 103, 155, 108, 173, 179, 203, 43, 171, 171, 169, 162, 136, 30, 120, 222, 118, 213, 84, 79, 59, 233, 164, 143, 59, 235, 171, 169, 163, 139, 41, 163, 139, 42, 166, 150, 86, 85, 83, 74, 38, 150, 86, 88, 95, 121, 227, 139, 41, 162, 135, 28, 110, 181, 210, 70, 21, 81, 67, 12, 47, 187, 233, 162, 134, 23, 92, 111, 187, 233, 164, 143, 57, 226, 135, 28, 110, 184, 223, 122, 229, 147, 74, 40, 160, 126, 247, 220, 111, 187, 235, 171, 171, 171, 170, 166, 152, 95, 124, 238, 184, 223, 123, 234, 168, 159, 124, 239, 187, 233, 163, 137, 35, 140, 45, 178, 197, 18, 72, 30, 119, 219, 107, 172, 174, 184, 224, 126, 245, 211, 75, 43, 169, 163, 138, 37, 147, 75, 43, 171, 169, 164, 142, 55, 217, 98, 135, 27, 107, 171, 169, 163, 137, 34, 134, 22, 88, 95, 122, 230, 149, 82, 72, 31, 122, 232, 159, 121, 226, 135, 27, 105, 163, 139, 41, 163, 138, 37, 146, 70, 24, 95, 122, 232, 159, 121, 226, 134, 21, 81, 66, 5, 20, 79, 59, 235, 171, 170, 168, 159, 121, 225, 131, 10, 40, 159, 123, 235, 171, 170, 166, 150, 87, 90, 102, 150, 88, 94, 117, 209, 67, 9, 36, 142, 54, 215, 91, 107, 170, 166, 150, 85, 83, 75, 44, 175, 187, 234, 166, 149, 83, 75, 42, 167, 154, 102, 152, 95, 123, 235, 170, 166, 151, 89, 99, 140, 48, 192, 256, 254, 248, 221, 114, 199, 28, 111, 187, 234, 166, 149, 83, 74, 40, 160, 126, 246, 214, 86, 87, 92, 111, 187, 234, 168, 158, 120, 223, 122, 230, 149, 82, 72, 31, 122, 229, 147, 74, 38, 149, 82, 70, 21, 81, 66, 6, 22, 88, 95, 122, 231, 155, 107, 170, 166, 150, 86, 87, 91, 105, 163, 138, 39, 153, 99, 137, 33, 130, 8, 30, 119, 219, 106, 165, 146, 69, 19, 75, 41, 163, 137, 35, 138, 37, 147, 74, 38, 150, 88, 96, 127, 252, 238, 182, 214, 86, 86, 85, 82, 71, 25, 98, 135, 27, 106, 166, 149, 82, 71, 28, 110, 182, 214, 86, 86, 88, 93, 116, 207, 59, 233, 163, 139, 43, 171, 171, 170, 166, 149, 82, 71, 26, 102, 150, 88, 96, 127, 250, 230, 151, 91, 108, 174, 181, 209, 65, 2, 8, 32, 126, 245, 210, 70, 22, 85, 81, 67, 10, 37, 147, 75, 41, 163, 137, 33, 132, 15, 59, 235, 169, 162, 134, 24, 96, 127, 251, 234, 168, 158, 120, 221, 114, 200, 32, 126, 246, 213, 83, 75, 43, 171, 170, 166, 150, 86, 86, 87, 89, 98, 134, 22, 88, 96, 126, 246, 214, 85, 83, 74, 38, 152, 94, 120, 223, 124, 239, 188, 240, 191, 249, 0, 0, 0, 0, 0, 0, 0, 0, 0, 0, 0, 0, 0, 0, 0, 0, 0, 0, 0, 0, 0, 0, 0, 0, 0, 0, 0, 0, 0, 0, 0, 0, 0, 0, 0, 0, 0, 0, 0, 0, 0, 0, 0, 0, 0, 0, 0, 0, 0, 0, 0, 0, 0, 0, 0, 0, 0, 0, 0, 0, 0, 0, 0, 0, 0, 0, 0, 0, 0, 0, 0, 0, 0, 0, 0, 0, 0, 0, 0, 0, 0, 0, 0, 0, 0, 0, 0, 0, 0, 0, 0, 0, 0, 0, 0, 0, 0, 0, 0, 0, 0, 0, 0, 0, 0, 0, 0, 0, 0, 0, 0, 0, 0, 0, 0, 0, 0, 0, 0, 0, 0, 0, 0, 0, 0, 0, 0, 0, 0, 0, 0, 0, 0, 0, 0, 0, 0, 0, 0, 0, 0, 0, 0, 0, 0, 0, 0, 0, 0, 0, 0, 0, 0, 0, 0, 0, 0, 0, 0, 0, 0, 0, 0, 0, 0, 0, 0, 0, 0, 0, 0, 0, 0, 0, 0, 0, 0, 0, 0, 0, 0, 0, 0, 0, 0, 0, 0, 0, 0, 0, 0, 0, 0, 0, 0, 0, 0, 0, 0, 0, 0, 0, 0, 0, 0, 0, 0, 0, 0, 0, 0, 0, 0, 0, 0, 0, 0, 0, 0, 0, 0, 0, 0, 0, 0, 0, 0, 0, 0, 0, 0, 0, 0, 0, 0, 0, 0, 0, 0, 0, 0, 0, 0, 0, 0, 0, 0, 0, 0, 0, 0, 0, 0, 0, 0, 0, 0, 0, 0, 0, 0, 0, 0, 0, 0, 0, 0, 0, 0, 0, 0, 0, 0, 0, 0, 0, 0, 0, 0, 0, 0, 0, 0, 0, 0, 0, 0, 0, 0, 0, 0, 0, 0, 0, 0, 0, 0, 0, 0, 0, 0, 0, 0, 0, 0, 0, 0, 0, 0, 0, 0, 0, 0, 0, 0, 0, 0, 0, 0, 0, 0, 0, 0, 0, 0, 0, 0, 0, 0, 0, 0, 0, 0, 0, 0, 0, 0, 0, 0, 0, 0, 0, 0, 0, 0, 0, 0, 0, 0, 0, 0, 0, 0, 0, 0, 0, 0, 0, 0, 0, 0, 0, 0, 0, 0, 0, 0, 0, 0, 0, 0, 0, 0, 0, 0, 0, 0, 0, 0, 0, 0, 0, 0, 0, 0, 0, 0, 0, 0, 0, 0, 0, 0, 0, 0, 0, 0, 0, 0, 0, 0, 0, 0, 0, 0, 0, 0, 0, 0, 0, 0, 0, 0, 0, 0, 0, 0, 0, 0, 0, 0, 0, 0, 0, 0, 0, 0, 0, 0, 0, 0, 0, 0, 0, 0, 0, 0, 0, 0, 0, 0, 0, 0, 0, 0, 0, 0, 0, 0, 0, 0, 0, 0, 0, 0, 0, 0, 0, 0, 0, 0, 0, 0, 0, 0, 0, 0, 0, 0, 0, 0, 0, 0, 0, 0, 0, 0, 0, 0, 0, 0, 0, 0, 0, 0, 0, 0, 0, 0, 0, 0, 0, 0, 0, 0, 0, 0, 0, 0, 0, 0, 0, 0, 0, 0, 0, 0, 0, 0, 0, 0, 0, 0, 0, 0, 0, 0, 0, 0, 0, 0, 0, 0, 0, 0, 0, 0, 0, 0, 0, 0, 0, 0, 0, 0, 0, 0, 0, 0, 0, 0, 0, 0, 0, 0, 0, 0, 0, 0, 0, 0, 0, 0, 0, 0, 0, 0, 0, 0, 0, 0, 0, 0, 0, 0, 0, 0, 0, 0, 0, 0, 0, 0, 0, 0, 0, 0, 0, 0, 0, 0, 0, 0, 0, 0, 0, 0, 0, 0, 0, 0, 0, 0, 0, 0, 0, 0, 0, 0, 0, 0, 0, 0, 0, 0, 0, 0, 0, 0, 0, 0, 0, 0, 0, 0, 0, 0, 0, 0, 0, 0, 0, 0, 0, 0, 0, 0, 0, 0, 0, 0, 0, 0, 0, 0, 0, 0, 0, 0, 0, 0, 0, 0, 0, 0, 0, 0, 0, 0, 0, 0, 0, 0, 0, 0, 0, 0, 0, 0, 0, 0, 0, 0, 0, 0, 0, 0, 0, 0, 0, 0, 0, 0, 0, 0, 0, 0, 0, 0, 0, 0, 0, 0, 0, 0, 0, 0, 0, 0, 0, 0, 0, 0, 0, 0, 0, 0, 0, 0, 0, 0, 0, 0, 0, 0, 0, 0, 0, 0, 0, 0, 0, 0, 0, 0, 0, 0, 0, 0, 0, 0, 0, 0, 0, 0, 0, 0, 0, 0, 0, 0, 0, 0, 0, 0, 0, 0, 0, 0, 0, 0, 0, 0, 0, 0, 0, 0, 0, 0, 0, 0, 0, 0, 0, 0, 0, 0, 0, 0, 0, 0, 0, 0, 0, 0, 0, 0, 0, 0, 0, 0, 0, 0, 0, 0, 0, 0, 0, 0, 0, 0, 0, 0, 0, 0, 0, 0, 0, 0, 0, 0, 0, 0, 0, 0, 0, 0, 0, 0, 0, 0, 0, 0, 0, 0, 0, 0, 0, 0, 0, 0, 0, 0, 0, 0, 0, 0, 0, 0, 0, 0, 0, 0, 0, 0, 0, 0, 0, 0, 0, 0, 0, 0, 0, 0, 0, 0, 0, 0, 0, 0, 0, 0, 0, 0, 0, 0, 0, 0, 0, 0, 0, 0, 0, 0, 0, 0, 0, 0, 0, 0, 0, 0, 0, 0, 0, 0, 0, 0, 0, 0, 0, 0, 0, 0, 0, 0, 0, 0, 0, 0, 0, 0, 0, 0, 0, 0, 0, 0, 0, 0, 0, 0, 0, 0, 0, 0, 0, 0, 0, 0, 0, 0, 0, 0, 0, 0, 0, 0, 0, 0, 0, 0, 0, 0, 0, 0, 0, 0, 0, 0, 0, 0, 0, 0, 0, 0, 0, 0, 0, 0, 0, 0, 0, 0, 0, 0, 0, 0, 0, 0, 0, 0, 0, 0, 0, 0, 0, 0, 0, 0, 0, 0, 0, 0, 0, 0, 0, 0, 0, 0, 0, 0, 0, 0, 0, 0, 0, 0, 0, 0, 0, 0, 0, 0, 0, 0, 0, 0, 0, 0, 0, 0, 0, 0, 0, 0, 0, 0, 0, 0, 0, 0, 0, 0, 0, 0, 0, 0, 0, 0, 0, 0, 0, 0, 0, 0, 0, 0, 0, 0, 0, 0, 0, 0, 0, 0, 0, 0, 0, 0, 0, 0, 0, 0, 0, 0, 0, 0, 0, 0, 0, 0, 0, 0, 0, 0, 0, 0, 0, 0, 0, 0, 0, 0, 0, 0, 0, 0, 0, 0, 0, 0, 0, 0, 0, 0, 0, 0, 0, 0, 0, 0, 0, 0, 0, 0, 0, 0, 0, 0, 0, 0, 0, 0, 0, 0, 0, 0, 0, 0, 0, 0, 0, 0, 0, 0, 0, 0, 0, 0, 0, 0, 0, 0, 0, 0, 0, 0, 0, 0, 0, 0, 0, 0, 0, 0, 0, 0, 0, 0, 0, 0, 0, 0, 0, 0, 0, 0, 0, 0, 0, 0, 0, 0, 0, 0, 0, 0, 0, 0, 0, 0, 0, 0, 0, 0, 0, 0, 0, 0, 0, 0, 0, 0, 0, 0, 0, 0, 0, 0, 0, 0, 0, 0, 0, 0, 0, 0, 0, 0, 0, 0, 0, 0, 0, 0, 0, 0, 0, 0, 0, 0, 0, 0, 0, 0, 0, 0, 0, 0, 0, 0, 0, 0, 0, 0, 0, 0, 0, 0, 0, 0, 0, 0, 0, 0, 0, 0, 0, 0, 0, 0, 0, 0, 0, 0, 0, 0, 0, 0, 0, 0, 0, 0, 0, 0, 0, 0, 0, 0, 0, 0, 0, 0, 0, 0, 0, 0, 0, 0, 0, 0, 0, 0, 0, 0, 0, 0, 0, 0, 0, 0, 0, 0, 0, 0, 0, 0, 0, 0, 0, 0, 0, 0, 0, 0, 0, 0, 0, 0, 0, 0, 0, 0, 0, 0, 0, 0, 0, 0, 0, 0, 0, 0, 0, 0, 0, 0, 0, 0, 0, 0, 0, 0, 0, 0, 0, 0, 0, 0, 0, 0, 0, 0, 0, 0, 0, 0, 0, 0, 0, 0, 0, 0, 0, 0, 0, 0, 0, 0, 0, 0, 0, 0, 0, 0, 0, 0, 0, 0, 0, 0, 0, 0, 0, 0, 0, 0, 0, 0, 0, 0, 0, 0, 0, 0, 0, 0, 0, 0, 0, 0, 0, 0, 0, 0, 0, 0, 0, 0, 0, 0, 0, 0, 0, 0, 0, 0, 0, 0, 0, 0, 0, 0, 0, 0, 0, 0, 0, 0, 0, 0, 0, 0, 0, 0, 0, 0, 0, 0, 0, 0, 0, 0, 0, 0, 0, 0, 0, 0, 0, 0, 0, 0, 0, 0, 0, 0, 0, 0, 0, 0, 0, 0, 0, 0, 0, 0, 0, 0, 0, 0, 0, 0, 0, 0, 0, 0, 0, 0, 0, 0, 0, 0, 0, 0, 0, 0, 0, 0, 0, 0, 0, 0, 0, 0, 0, 0, 0, 0, 0, 0, 0, 0, 0, 0, 0, 0, 0, 0, 0, 0, 0, 0, 0, 0, 0, 0, 0, 0, 0, 0, 0, 0, 0, 0, 0, 0, 0, 0, 0, 0, 0, 0, 0, 0, 0, 0, 0, 0, 0, 0, 0, 0, 0, 0, 0, 0, 0, 0, 0, 0, 0, 0, 0, 0, 0, 0, 0, 0, 0, 0, 0, 0, 0, 0, 0, 0, 0, 0, 0, 0, 0, 0, 0, 0, 0, 0, 0, 0, 0, 0, 0, 0, 0, 0, 0, 0, 0, 0, 0, 0, 0, 0, 0, 0, 0, 0, 0, 0, 0, 0, 0, 0, 0, 0, 0, 0, 0, 0, 0, 0, 0, 0, 0, 0, 0, 0, 0, 0, 0, 0, 0, 0, 0, 0, 0, 0, 0, 0, 0, 0, 0, 0, 0, 0, 0, 0, 0, 0, 0, 0, 0, 0, 0, 0, 0, 0, 0, 0, 0, 0, 0, 0, 0, 0, 0, 0, 0, 0, 0, 0, 0, 0, 0, 0, 0, 0, 0, 0, 0, 0, 0, 0, 0, 0, 0, 0, 0, 0, 0, 0, 0, 0, 0, 0, 0, 0, 0, 0, 0, 0, 0, 0, 0, 0, 0, 0, 0, 0, 0, 0, 0, 0, 0, 0, 0, 0, 0, 0, 0, 0, 0, 0, 0, 0, 0, 0, 0, 0, 0, 0, 0, 0, 0, 0, 0, 0, 0, 0, 0, 0, 0, 0, 0, 0, 0, 0, 0, 0, 0, 0, 0, 0, 0, 0, 0, 0, 0, 0, 0, 0, 0, 0, 0, 0, 0, 0, 0, 0, 0, 0, 0, 0, 0, 0, 0, 0, 0, 0, 0, 0, 0, 0, 0, 0, 0, 0, 0, 0, 0, 0, 0, 0, 0, 0, 0, 0, 0, 0, 0, 0, 0, 0, 0, 0, 0, 0, 0, 0, 0, 0, 0, 0, 0, 0, 0, 0, 0, 0, 0, 0, 0, 0, 0, 0, 0, 0, 0, 0, 0, 0, 0, 0, 0, 0, 0, 0, 0, 0, 0, 0, 0, 0, 0, 0, 0, 0, 0, 0, 0, 0, 0, 0, 0, 0, 0, 0, 0, 0, 0, 0, 0, 0, 0, 0, 0, 0, 0, 0, 0, 0, 0, 0, 0, 0, 0, 0, 0, 0, 0, 0, 0, 0, 0, 0, 0, 0, 0, 0, 0, 0, 0, 0, 0, 0, 0, 0, 0, 0, 0, 0, 0, 0, 0, 0, 0, 0, 0, 0, 0, 0, 0, 0, 0, 0, 0, 0, 0, 0, 0, 0, 0, 0, 0, 0, 0, 0, 0, 0, 0, 0, 0, 0, 0, 0, 0, 0, 0, 0, 0, 0, 0, 0, 0, 0, 0, 0, 0, 0, 0, 0, 0, 0, 0, 0, 0, 0, 0, 0, 0, 0, 0, 0, 0, 0, 0, 0, 0, 0, 0, 0, 0, 0, 0, 0, 0, 0, 0, 0, 0, 0, 0, 0, 0, 0, 0, 0, 0, 0, 0, 0, 0, 0, 0, 0, 0, 0, 0, 0, 0, 0, 0, 0, 0, 0, 0, 0, 0, 0, 0, 0, 0, 0, 0, 0, 0, 0, 0, 0]\n"
     ]
    }
   ],
   "source": [
    "print(datetime.now())\n",
    "print(\"Load RCI values...\")\n",
    "loader = DataLoader()\n",
    "filepath = DATA_DIR+RCI_FILE\n",
    "gene_to_rci = loader.load_gene_rci_values(filepath,CELL_LINE_NUMBER)\n",
    "print('Num RCI:', len(gene_to_rci.keys()))\n",
    "print('Example RCI:', list(gene_to_rci.items())[:3])\n",
    "print(\"Load genes...\")\n",
    "all_genes = list(gene_to_rci.keys())\n",
    "print(datetime.now())\n",
    "print('Load sequence...')\n",
    "filepath = DATA_DIR+SEQUENCE_FILE\n",
    "labels,allids,allseq = loader.load_sequence(filepath)\n",
    "print(datetime.now())\n",
    "print('Num IDs:',len(allids))\n",
    "print('Example IDs:',[allids[x] for x in [10, 20, 30, 40]] )\n",
    "print('Count',np.count_nonzero(labels),'ones out of',len(labels),'labels.')\n",
    "print('Example labels:',[labels[x] for x in [10, 20, 30, 40]] )\n",
    "print('Num counts:',len(allseq))\n",
    "print('Example sequence:',allseq[3])\n",
    "loader = None  # drop K-mer cache to save RAM"
   ]
  },
  {
   "cell_type": "markdown",
   "metadata": {
    "id": "VDZ6siB_Kq04"
   },
   "source": [
    "## Model"
   ]
  },
  {
   "cell_type": "code",
   "execution_count": 9,
   "metadata": {
    "id": "AwMbRjm0FLBF"
   },
   "outputs": [],
   "source": [
    "def build_model():\n",
    "    ALPHABET=4**K+1  # NUMBER OF DISTINCT KMERS POSSIBLE, add one if N gets mask value\n",
    "    ADJUST_LENGTH = MAXLEN-K+1  # fixed length sequences\n",
    "    rnn = Sequential()\n",
    "    embed_layer = Embedding(ALPHABET,EMBED_DIMEN,input_length=ADJUST_LENGTH,mask_zero=True)   \n",
    "    cnn1_layer = Conv1D(CFILTERS, FILTERSIZE)\n",
    "    rnn1_layer = Bidirectional( LSTM(RCELLS, return_sequences=False) )\n",
    "    den1_layer = Dense(RCELLS)\n",
    "    drop_layer = Dropout(0.5)\n",
    "    output_layer = Dense(1,activation='sigmoid',dtype=dt)\n",
    "\n",
    "    rnn.add(embed_layer)\n",
    "    rnn.add(cnn1_layer)\n",
    "    rnn.add(rnn1_layer)\n",
    "    rnn.add(den1_layer)\n",
    "    rnn.add(drop_layer)\n",
    "    rnn.add(output_layer)\n",
    "\n",
    "    bc=BinaryCrossentropy(from_logits=False)\n",
    "    print(\"COMPILE\")\n",
    "    rnn.compile(loss=bc, optimizer=\"Adam\",metrics=[\"accuracy\"])\n",
    "    return rnn"
   ]
  },
  {
   "cell_type": "code",
   "execution_count": 10,
   "metadata": {
    "colab": {
     "base_uri": "https://localhost:8080/"
    },
    "id": "clj-wufgFLBF",
    "outputId": "4c4d703e-9eba-4a7f-e08b-ed1dff7fafb2"
   },
   "outputs": [
    {
     "name": "stdout",
     "output_type": "stream",
     "text": [
      "2022-12-18 17:08:15.123848\n",
      "COMPILE\n",
      "Model: \"sequential\"\n",
      "_________________________________________________________________\n",
      " Layer (type)                Output Shape              Param #   \n",
      "=================================================================\n",
      " embedding (Embedding)       (None, 3997, 4)           1028      \n",
      "                                                                 \n",
      " conv1d (Conv1D)             (None, 3990, 62)          2046      \n",
      "                                                                 \n",
      " bidirectional (Bidirectiona  (None, 32)               10112     \n",
      " l)                                                              \n",
      "                                                                 \n",
      " dense (Dense)               (None, 16)                528       \n",
      "                                                                 \n",
      " dropout (Dropout)           (None, 16)                0         \n",
      "                                                                 \n",
      " dense_1 (Dense)             (None, 1)                 17        \n",
      "                                                                 \n",
      "=================================================================\n",
      "Total params: 13,731\n",
      "Trainable params: 13,731\n",
      "Non-trainable params: 0\n",
      "_________________________________________________________________\n",
      "None\n"
     ]
    }
   ],
   "source": [
    "print(datetime.now())\n",
    "model=build_model()\n",
    "print(model.summary())  # Print this only once"
   ]
  },
  {
   "cell_type": "markdown",
   "metadata": {
    "id": "MgrC1alOKq07"
   },
   "source": [
    "## Training"
   ]
  },
  {
   "cell_type": "code",
   "execution_count": 11,
   "metadata": {
    "id": "W9xiFzNbFLBE"
   },
   "outputs": [],
   "source": [
    "class CrossValidator():\n",
    "    def __init__(self,epochs,folds,quick_test=False,pred_threshold=0.5):\n",
    "        self.epochs = epochs\n",
    "        self.folds = folds\n",
    "        self.quick_test = quick_test\n",
    "        self.threshold = pred_threshold # e.g. score>0.5 => class 1\n",
    "    \n",
    "    def get_gene_subset(self,all_genes,sub_index):\n",
    "        sub_genes = set()\n",
    "        for index in sub_index:\n",
    "            one_gene = all_genes[index]\n",
    "            sub_genes.add(one_gene)\n",
    "        return sub_genes\n",
    "    \n",
    "    def get_X_y(self,gene_set,allids,allX,allY):\n",
    "        cnt = len(allids)\n",
    "        subsetX=[]\n",
    "        subsetY=[]\n",
    "        if cnt != len(allX) or cnt!= len(allY):\n",
    "            raise Exception('Lengths differ')\n",
    "        for i in range(cnt):\n",
    "            gene_id,tran_id = allids[i]\n",
    "            if gene_id in gene_set:\n",
    "                oneX = allX[i]\n",
    "                oneY = allY[i]\n",
    "                subsetX.append(oneX)\n",
    "                subsetY.append(oneY)\n",
    "        subsetX = np.array(subsetX)\n",
    "        subsetY = np.array(subsetY).reshape((-1,1))\n",
    "        return subsetX,subsetY\n",
    "    \n",
    "    def do_cross_validation(self):\n",
    "        cv_accuracy=[]\n",
    "        cv_precision=[]\n",
    "        cv_recall=[]\n",
    "        cv_f1=[]\n",
    "        fold=0\n",
    "        print(datetime.now())\n",
    "        print('splitting')\n",
    "        # KFold shuffles once before making the partitions\n",
    "        splitter = KFold(n_splits=self.folds,shuffle=True,random_state=42)\n",
    "        for train_index,valid_index in splitter.split(all_genes):\n",
    "            fold += 1\n",
    "            print('Fold',fold)\n",
    "            train_genes = self.get_gene_subset(all_genes,train_index)\n",
    "            valid_genes = self.get_gene_subset(all_genes,valid_index)\n",
    "            X_train,y_train = self.get_X_y(train_genes,allids,allseq,labels)\n",
    "            X_valid,y_valid = self.get_X_y(valid_genes,allids,allseq,labels)\n",
    "\n",
    "            print('Training example')\n",
    "            print(X_train[0])\n",
    "\n",
    "            print('Train sizes',X_train.shape,y_train.shape)\n",
    "            print('Valid sizes',X_valid.shape,y_valid.shape)\n",
    "            print('Train set ones/size',\n",
    "                  np.count_nonzero(y_train),'/',len(y_train))\n",
    "            print('Valid set ones/size',\n",
    "                  np.count_nonzero(y_valid),'/',len(y_valid))\n",
    "\n",
    "            print(\"BUILD MODEL\")\n",
    "            model=build_model()\n",
    "\n",
    "            print(\"FIT\")\n",
    "            print(datetime.now())\n",
    "            history=model.fit(X_train, y_train, # batch_size=10, default=32 works nicely\n",
    "                    epochs=self.epochs, verbose=1,  # verbose=1 for ascii art, verbose=0 for none\n",
    "                    validation_data=(X_valid,y_valid) )\n",
    "\n",
    "            pd.DataFrame(history.history).plot(figsize=(8,5))\n",
    "            plt.grid(True)\n",
    "            plt.gca().set_ylim(0,1)\n",
    "            plt.show()\n",
    "\n",
    "            print(\"Compute valiation accuracy\")\n",
    "            print(datetime.now())\n",
    "            yhat_pred=model.predict(X_valid, verbose=0) \n",
    "            print('Range of scores:',np.min(yhat_pred),'to',np.max(yhat_pred))\n",
    "            yhat_classes=np.where(yhat_pred > self.threshold, 1, 0)\n",
    "            print('Predicted zeros and ones',np.count_nonzero(yhat_classes==0),np.count_nonzero(yhat_classes==1))\n",
    "            # accuracy: (tp + tn) / (p + n)\n",
    "            accuracy = accuracy_score(y_valid, yhat_classes)*100.\n",
    "            # precision tp / (tp + fp)\n",
    "            precision = precision_score(y_valid, yhat_classes)*100.\n",
    "            # recall: tp / (tp + fn)\n",
    "            recall = recall_score(y_valid, yhat_classes)*100.\n",
    "            # f1: 2 tp / (2 tp + fp + fn)\n",
    "            f1 = f1_score(y_valid, yhat_classes)*100.\n",
    "            print('Accuracy: %.2f%% Precision: %.2f%% Recall: %.2f%% F1: %.2f%%' % (accuracy,precision,recall,f1)) \n",
    "            print(datetime.now())\n",
    "            cv_accuracy.append(accuracy)\n",
    "            cv_precision.append(precision)\n",
    "            cv_recall.append(recall)\n",
    "            cv_f1.append(f1)\n",
    "            if self.quick_test:   \n",
    "                print('Break -- this was for code testing only')\n",
    "                break\n",
    "        print()\n",
    "        return cv_accuracy, cv_precision, cv_recall, cv_f1"
   ]
  },
  {
   "cell_type": "code",
   "execution_count": 12,
   "metadata": {
    "colab": {
     "base_uri": "https://localhost:8080/",
     "height": 1000
    },
    "id": "XC9m0W-pFLBH",
    "outputId": "01fe4587-f073-4af3-da43-eb3252f1e6df",
    "scrolled": false
   },
   "outputs": [
    {
     "name": "stdout",
     "output_type": "stream",
     "text": [
      "2022-12-18 17:08:18.561350\n",
      "2022-12-18 17:08:18.563143\n",
      "splitting\n",
      "Fold 1\n",
      "Training example\n",
      "[167 155 106 ...   0   0   0]\n",
      "Train sizes (14388, 3997) (14388, 1)\n",
      "Valid sizes (3696, 3997) (3696, 1)\n",
      "Train set ones/size 6390 / 14388\n",
      "Valid set ones/size 1640 / 3696\n",
      "BUILD MODEL\n",
      "COMPILE\n",
      "FIT\n",
      "2022-12-18 17:08:23.047390\n",
      "Epoch 1/20\n",
      "450/450 [==============================] - 99s 194ms/step - loss: 0.6880 - accuracy: 0.5551 - val_loss: 0.6859 - val_accuracy: 0.5557\n",
      "Epoch 2/20\n",
      "450/450 [==============================] - 88s 196ms/step - loss: 0.6818 - accuracy: 0.5654 - val_loss: 0.6832 - val_accuracy: 0.5601\n",
      "Epoch 3/20\n",
      "450/450 [==============================] - 88s 195ms/step - loss: 0.6743 - accuracy: 0.5853 - val_loss: 0.6838 - val_accuracy: 0.5644\n",
      "Epoch 4/20\n",
      "450/450 [==============================] - 87s 194ms/step - loss: 0.6753 - accuracy: 0.5803 - val_loss: 0.6931 - val_accuracy: 0.5568\n",
      "Epoch 5/20\n",
      "450/450 [==============================] - 88s 196ms/step - loss: 0.6713 - accuracy: 0.5892 - val_loss: 0.6913 - val_accuracy: 0.5582\n",
      "Epoch 6/20\n",
      "450/450 [==============================] - 87s 194ms/step - loss: 0.6664 - accuracy: 0.6018 - val_loss: 0.6886 - val_accuracy: 0.5587\n",
      "Epoch 7/20\n",
      "450/450 [==============================] - 86s 191ms/step - loss: 0.6600 - accuracy: 0.6080 - val_loss: 0.6865 - val_accuracy: 0.5763\n",
      "Epoch 8/20\n",
      "450/450 [==============================] - 86s 191ms/step - loss: 0.6557 - accuracy: 0.6148 - val_loss: 0.6909 - val_accuracy: 0.5652\n",
      "Epoch 9/20\n",
      "450/450 [==============================] - 86s 191ms/step - loss: 0.6655 - accuracy: 0.6018 - val_loss: 0.6980 - val_accuracy: 0.5344\n",
      "Epoch 10/20\n",
      "450/450 [==============================] - 86s 191ms/step - loss: 0.6629 - accuracy: 0.6015 - val_loss: 0.6981 - val_accuracy: 0.5317\n",
      "Epoch 11/20\n",
      "450/450 [==============================] - 86s 192ms/step - loss: 0.6590 - accuracy: 0.6090 - val_loss: 0.7006 - val_accuracy: 0.5452\n",
      "Epoch 12/20\n",
      "450/450 [==============================] - 88s 196ms/step - loss: 0.6541 - accuracy: 0.6160 - val_loss: 0.7050 - val_accuracy: 0.5390\n",
      "Epoch 13/20\n",
      "450/450 [==============================] - 89s 197ms/step - loss: 0.6512 - accuracy: 0.6251 - val_loss: 0.6986 - val_accuracy: 0.5436\n",
      "Epoch 14/20\n",
      "450/450 [==============================] - 87s 194ms/step - loss: 0.6437 - accuracy: 0.6357 - val_loss: 0.7017 - val_accuracy: 0.5598\n",
      "Epoch 15/20\n",
      "450/450 [==============================] - 87s 194ms/step - loss: 0.6449 - accuracy: 0.6295 - val_loss: 0.7028 - val_accuracy: 0.5168\n",
      "Epoch 16/20\n",
      "450/450 [==============================] - 87s 194ms/step - loss: 0.6541 - accuracy: 0.6195 - val_loss: 0.7146 - val_accuracy: 0.5227\n",
      "Epoch 17/20\n",
      "450/450 [==============================] - 88s 195ms/step - loss: 0.6493 - accuracy: 0.6261 - val_loss: 0.7188 - val_accuracy: 0.5287\n",
      "Epoch 18/20\n",
      "450/450 [==============================] - 87s 194ms/step - loss: 0.6441 - accuracy: 0.6339 - val_loss: 0.7054 - val_accuracy: 0.5598\n",
      "Epoch 19/20\n",
      "450/450 [==============================] - 89s 199ms/step - loss: 0.6466 - accuracy: 0.6290 - val_loss: 0.7179 - val_accuracy: 0.5292\n",
      "Epoch 20/20\n",
      "450/450 [==============================] - 89s 198ms/step - loss: 0.6442 - accuracy: 0.6314 - val_loss: 0.7013 - val_accuracy: 0.5365\n"
     ]
    },
    {
     "data": {
      "image/png": "[encoded data removed]",
      "text/plain": [
       "<Figure size 576x360 with 1 Axes>"
      ]
     },
     "metadata": {
      "needs_background": "light"
     },
     "output_type": "display_data"
    },
    {
     "name": "stdout",
     "output_type": "stream",
     "text": [
      "Compute valiation accuracy\n",
      "2022-12-18 17:37:48.997660\n",
      "Range of scores: 0.19116879 to 0.8299971\n",
      "Predicted zeros and ones 2439 1257\n",
      "Accuracy: 53.65% Precision: 47.10% Recall: 36.10% F1: 40.87%\n",
      "2022-12-18 17:38:00.027190\n",
      "Fold 2\n",
      "Training example\n",
      "[167 155 106 ...   0   0   0]\n",
      "Train sizes (14453, 3997) (14453, 1)\n",
      "Valid sizes (3631, 3997) (3631, 1)\n",
      "Train set ones/size 6483 / 14453\n",
      "Valid set ones/size 1547 / 3631\n",
      "BUILD MODEL\n",
      "COMPILE\n",
      "FIT\n",
      "2022-12-18 17:38:04.405216\n",
      "Epoch 1/20\n",
      "452/452 [==============================] - 92s 198ms/step - loss: 0.6875 - accuracy: 0.5473 - val_loss: 0.6837 - val_accuracy: 0.5635\n",
      "Epoch 2/20\n",
      "452/452 [==============================] - 88s 195ms/step - loss: 0.6779 - accuracy: 0.5770 - val_loss: 0.7297 - val_accuracy: 0.4478\n",
      "Epoch 3/20\n",
      "452/452 [==============================] - 87s 193ms/step - loss: 0.6701 - accuracy: 0.5926 - val_loss: 0.6863 - val_accuracy: 0.5690\n",
      "Epoch 4/20\n",
      "452/452 [==============================] - 87s 192ms/step - loss: 0.6697 - accuracy: 0.5934 - val_loss: 0.6863 - val_accuracy: 0.5660\n",
      "Epoch 5/20\n",
      "452/452 [==============================] - 86s 191ms/step - loss: 0.6624 - accuracy: 0.6069 - val_loss: 0.6867 - val_accuracy: 0.5830\n",
      "Epoch 6/20\n",
      "452/452 [==============================] - 86s 191ms/step - loss: 0.6694 - accuracy: 0.5939 - val_loss: 0.6968 - val_accuracy: 0.5472\n",
      "Epoch 7/20\n",
      "452/452 [==============================] - 87s 192ms/step - loss: 0.6653 - accuracy: 0.5945 - val_loss: 0.6930 - val_accuracy: 0.5357\n",
      "Epoch 8/20\n",
      "452/452 [==============================] - 87s 192ms/step - loss: 0.6601 - accuracy: 0.6076 - val_loss: 0.6805 - val_accuracy: 0.6037\n",
      "Epoch 9/20\n",
      "452/452 [==============================] - 88s 194ms/step - loss: 0.6520 - accuracy: 0.6192 - val_loss: 0.6986 - val_accuracy: 0.5511\n",
      "Epoch 10/20\n",
      "452/452 [==============================] - 88s 194ms/step - loss: 0.6617 - accuracy: 0.6055 - val_loss: 0.6950 - val_accuracy: 0.5373\n",
      "Epoch 11/20\n",
      "452/452 [==============================] - 87s 192ms/step - loss: 0.6571 - accuracy: 0.6119 - val_loss: 0.6972 - val_accuracy: 0.5315\n",
      "Epoch 12/20\n",
      "452/452 [==============================] - 87s 192ms/step - loss: 0.6578 - accuracy: 0.6087 - val_loss: 0.7046 - val_accuracy: 0.5596\n",
      "Epoch 13/20\n",
      "452/452 [==============================] - 86s 191ms/step - loss: 0.6489 - accuracy: 0.6251 - val_loss: 0.7030 - val_accuracy: 0.5461\n",
      "Epoch 14/20\n",
      "452/452 [==============================] - 87s 191ms/step - loss: 0.6546 - accuracy: 0.6132 - val_loss: 0.7024 - val_accuracy: 0.5434\n",
      "Epoch 15/20\n",
      "452/452 [==============================] - 86s 191ms/step - loss: 0.6514 - accuracy: 0.6208 - val_loss: 0.7240 - val_accuracy: 0.5150\n",
      "Epoch 16/20\n",
      "452/452 [==============================] - 87s 192ms/step - loss: 0.6485 - accuracy: 0.6225 - val_loss: 0.7173 - val_accuracy: 0.5211\n",
      "Epoch 17/20\n",
      "452/452 [==============================] - 87s 191ms/step - loss: 0.6403 - accuracy: 0.6323 - val_loss: 0.7196 - val_accuracy: 0.5379\n",
      "Epoch 18/20\n",
      "452/452 [==============================] - 87s 192ms/step - loss: 0.6404 - accuracy: 0.6356 - val_loss: 0.7121 - val_accuracy: 0.5244\n",
      "Epoch 19/20\n",
      "452/452 [==============================] - 87s 192ms/step - loss: 0.6515 - accuracy: 0.6139 - val_loss: 0.7181 - val_accuracy: 0.5310\n",
      "Epoch 20/20\n",
      "452/452 [==============================] - 87s 192ms/step - loss: 0.6373 - accuracy: 0.6384 - val_loss: 0.7169 - val_accuracy: 0.5233\n"
     ]
    },
    {
     "data": {
      "image/png": "[encoded data removed]",
      "text/plain": [
       "<Figure size 576x360 with 1 Axes>"
      ]
     },
     "metadata": {
      "needs_background": "light"
     },
     "output_type": "display_data"
    },
    {
     "name": "stdout",
     "output_type": "stream",
     "text": [
      "Compute valiation accuracy\n",
      "2022-12-18 18:07:07.257261\n",
      "Range of scores: 0.10316177 to 0.8055925\n",
      "Predicted zeros and ones 2089 1542\n",
      "Accuracy: 52.33% Precision: 44.03% Recall: 43.89% F1: 43.96%\n",
      "2022-12-18 18:07:18.824022\n",
      "Fold 3\n",
      "Training example\n",
      "[167 155 106 ...   0   0   0]\n",
      "Train sizes (14355, 3997) (14355, 1)\n",
      "Valid sizes (3729, 3997) (3729, 1)\n",
      "Train set ones/size 6379 / 14355\n",
      "Valid set ones/size 1651 / 3729\n",
      "BUILD MODEL\n",
      "COMPILE\n",
      "FIT\n",
      "2022-12-18 18:07:23.174295\n",
      "Epoch 1/20\n",
      "449/449 [==============================] - 90s 194ms/step - loss: 0.6877 - accuracy: 0.5558 - val_loss: 0.6857 - val_accuracy: 0.5575\n",
      "Epoch 2/20\n",
      "449/449 [==============================] - 87s 193ms/step - loss: 0.6812 - accuracy: 0.5657 - val_loss: 0.6857 - val_accuracy: 0.5573\n",
      "Epoch 3/20\n",
      "449/449 [==============================] - 87s 193ms/step - loss: 0.6800 - accuracy: 0.5682 - val_loss: 0.6852 - val_accuracy: 0.5591\n",
      "Epoch 4/20\n",
      "449/449 [==============================] - 87s 193ms/step - loss: 0.6719 - accuracy: 0.5890 - val_loss: 0.6827 - val_accuracy: 0.5766\n",
      "Epoch 5/20\n",
      "449/449 [==============================] - 86s 193ms/step - loss: 0.6676 - accuracy: 0.5969 - val_loss: 0.6856 - val_accuracy: 0.5682\n",
      "Epoch 6/20\n",
      "449/449 [==============================] - 87s 193ms/step - loss: 0.6665 - accuracy: 0.5999 - val_loss: 0.6938 - val_accuracy: 0.5551\n",
      "Epoch 7/20\n",
      "449/449 [==============================] - 86s 193ms/step - loss: 0.6506 - accuracy: 0.6203 - val_loss: 0.6438 - val_accuracy: 0.6466\n",
      "Epoch 8/20\n",
      "449/449 [==============================] - 87s 193ms/step - loss: 0.6461 - accuracy: 0.6297 - val_loss: 0.6874 - val_accuracy: 0.5685\n",
      "Epoch 9/20\n",
      "449/449 [==============================] - 86s 193ms/step - loss: 0.6538 - accuracy: 0.6164 - val_loss: 0.6907 - val_accuracy: 0.5452\n",
      "Epoch 10/20\n",
      "449/449 [==============================] - 86s 192ms/step - loss: 0.6467 - accuracy: 0.6259 - val_loss: 0.6979 - val_accuracy: 0.5404\n",
      "Epoch 11/20\n",
      "449/449 [==============================] - 87s 194ms/step - loss: 0.6473 - accuracy: 0.6284 - val_loss: 0.7021 - val_accuracy: 0.5441\n",
      "Epoch 12/20\n",
      "449/449 [==============================] - 86s 191ms/step - loss: 0.6543 - accuracy: 0.6073 - val_loss: 0.7074 - val_accuracy: 0.5299\n",
      "Epoch 13/20\n",
      "449/449 [==============================] - 86s 192ms/step - loss: 0.6505 - accuracy: 0.6203 - val_loss: 0.7066 - val_accuracy: 0.5291\n",
      "Epoch 14/20\n",
      "449/449 [==============================] - 86s 191ms/step - loss: 0.6438 - accuracy: 0.6331 - val_loss: 0.7055 - val_accuracy: 0.5479\n",
      "Epoch 15/20\n",
      "449/449 [==============================] - 86s 192ms/step - loss: 0.6364 - accuracy: 0.6382 - val_loss: 0.7137 - val_accuracy: 0.5245\n",
      "Epoch 16/20\n",
      "449/449 [==============================] - 86s 192ms/step - loss: 0.6360 - accuracy: 0.6371 - val_loss: 0.7078 - val_accuracy: 0.5438\n",
      "Epoch 17/20\n",
      "449/449 [==============================] - 86s 191ms/step - loss: 0.6387 - accuracy: 0.6375 - val_loss: 0.7147 - val_accuracy: 0.5315\n",
      "Epoch 18/20\n",
      "449/449 [==============================] - 86s 192ms/step - loss: 0.6360 - accuracy: 0.6392 - val_loss: 0.7147 - val_accuracy: 0.5414\n",
      "Epoch 19/20\n",
      "449/449 [==============================] - 86s 192ms/step - loss: 0.6331 - accuracy: 0.6488 - val_loss: 0.7077 - val_accuracy: 0.5382\n",
      "Epoch 20/20\n",
      "449/449 [==============================] - 86s 192ms/step - loss: 0.6275 - accuracy: 0.6541 - val_loss: 0.7210 - val_accuracy: 0.5460\n"
     ]
    },
    {
     "data": {
      "image/png": "[encoded data removed]",
      "text/plain": [
       "<Figure size 576x360 with 1 Axes>"
      ]
     },
     "metadata": {
      "needs_background": "light"
     },
     "output_type": "display_data"
    },
    {
     "name": "stdout",
     "output_type": "stream",
     "text": [
      "Compute valiation accuracy\n",
      "2022-12-18 18:36:13.455960\n",
      "Range of scores: 0.13053717 to 0.7910854\n",
      "Predicted zeros and ones 2319 1410\n",
      "Accuracy: 54.60% Precision: 48.51% Recall: 41.43% F1: 44.69%\n",
      "2022-12-18 18:36:23.807746\n",
      "Fold 4\n",
      "Training example\n",
      "[167 155 106 ...   0   0   0]\n",
      "Train sizes (14515, 3997) (14515, 1)\n",
      "Valid sizes (3569, 3997) (3569, 1)\n",
      "Train set ones/size 6471 / 14515\n",
      "Valid set ones/size 1559 / 3569\n",
      "BUILD MODEL\n",
      "COMPILE\n",
      "FIT\n",
      "2022-12-18 18:36:28.212859\n",
      "Epoch 1/20\n",
      "454/454 [==============================] - 91s 193ms/step - loss: 0.6878 - accuracy: 0.5524 - val_loss: 0.6831 - val_accuracy: 0.5573\n",
      "Epoch 2/20\n",
      "454/454 [==============================] - 87s 191ms/step - loss: 0.6799 - accuracy: 0.5664 - val_loss: 0.6780 - val_accuracy: 0.5677\n",
      "Epoch 3/20\n",
      "454/454 [==============================] - 87s 191ms/step - loss: 0.6726 - accuracy: 0.5901 - val_loss: 0.6767 - val_accuracy: 0.5769\n",
      "Epoch 4/20\n",
      "454/454 [==============================] - 87s 191ms/step - loss: 0.6688 - accuracy: 0.5955 - val_loss: 0.6719 - val_accuracy: 0.5733\n",
      "Epoch 5/20\n",
      "454/454 [==============================] - 88s 193ms/step - loss: 0.6762 - accuracy: 0.5724 - val_loss: 0.6870 - val_accuracy: 0.5665\n",
      "Epoch 6/20\n",
      "454/454 [==============================] - 88s 194ms/step - loss: 0.6699 - accuracy: 0.5916 - val_loss: 0.6852 - val_accuracy: 0.5609\n",
      "Epoch 7/20\n",
      "454/454 [==============================] - 88s 193ms/step - loss: 0.6660 - accuracy: 0.5984 - val_loss: 0.6833 - val_accuracy: 0.5565\n",
      "Epoch 8/20\n",
      "454/454 [==============================] - 88s 194ms/step - loss: 0.6578 - accuracy: 0.6131 - val_loss: 0.6931 - val_accuracy: 0.5472\n",
      "Epoch 9/20\n",
      "454/454 [==============================] - 87s 192ms/step - loss: 0.6616 - accuracy: 0.6051 - val_loss: 0.6935 - val_accuracy: 0.5455\n",
      "Epoch 10/20\n",
      "454/454 [==============================] - 87s 192ms/step - loss: 0.6637 - accuracy: 0.5997 - val_loss: 0.6936 - val_accuracy: 0.5402\n",
      "Epoch 11/20\n",
      "454/454 [==============================] - 87s 192ms/step - loss: 0.6609 - accuracy: 0.6086 - val_loss: 0.6987 - val_accuracy: 0.5405\n",
      "Epoch 12/20\n",
      "454/454 [==============================] - 87s 192ms/step - loss: 0.6540 - accuracy: 0.6223 - val_loss: 0.6973 - val_accuracy: 0.5579\n",
      "Epoch 13/20\n",
      "454/454 [==============================] - 88s 193ms/step - loss: 0.6542 - accuracy: 0.6187 - val_loss: 0.7027 - val_accuracy: 0.5461\n",
      "Epoch 14/20\n",
      "454/454 [==============================] - 87s 191ms/step - loss: 0.6560 - accuracy: 0.6159 - val_loss: 0.7021 - val_accuracy: 0.5405\n",
      "Epoch 15/20\n",
      "454/454 [==============================] - 87s 191ms/step - loss: 0.6510 - accuracy: 0.6273 - val_loss: 0.7024 - val_accuracy: 0.5531\n",
      "Epoch 16/20\n",
      "454/454 [==============================] - 86s 191ms/step - loss: 0.6464 - accuracy: 0.6307 - val_loss: 0.7004 - val_accuracy: 0.5441\n",
      "Epoch 17/20\n",
      "454/454 [==============================] - 86s 191ms/step - loss: 0.6436 - accuracy: 0.6338 - val_loss: 0.7093 - val_accuracy: 0.5444\n",
      "Epoch 18/20\n",
      "454/454 [==============================] - 87s 191ms/step - loss: 0.6374 - accuracy: 0.6465 - val_loss: 0.7123 - val_accuracy: 0.5503\n",
      "Epoch 19/20\n",
      "454/454 [==============================] - 87s 191ms/step - loss: 0.6335 - accuracy: 0.6466 - val_loss: 0.7174 - val_accuracy: 0.5453\n",
      "Epoch 20/20\n",
      "454/454 [==============================] - 87s 191ms/step - loss: 0.6433 - accuracy: 0.6375 - val_loss: 0.7199 - val_accuracy: 0.5324\n"
     ]
    },
    {
     "data": {
      "image/png": "[encoded data removed]",
      "text/plain": [
       "<Figure size 576x360 with 1 Axes>"
      ]
     },
     "metadata": {
      "needs_background": "light"
     },
     "output_type": "display_data"
    },
    {
     "name": "stdout",
     "output_type": "stream",
     "text": [
      "Compute valiation accuracy\n",
      "2022-12-18 19:05:34.397888\n",
      "Range of scores: 0.17628889 to 0.82528657\n",
      "Predicted zeros and ones 1915 1654\n",
      "Accuracy: 53.24% Precision: 46.67% Recall: 49.52% F1: 48.05%\n",
      "2022-12-18 19:05:45.293660\n",
      "Fold 5\n",
      "Training example\n",
      "[160 126 247 ...   0   0   0]\n",
      "Train sizes (14625, 3997) (14625, 1)\n",
      "Valid sizes (3459, 3997) (3459, 1)\n",
      "Train set ones/size 6397 / 14625\n",
      "Valid set ones/size 1633 / 3459\n",
      "BUILD MODEL\n",
      "COMPILE\n",
      "FIT\n",
      "2022-12-18 19:05:49.585826\n",
      "Epoch 1/20\n",
      "458/458 [==============================] - 90s 191ms/step - loss: 0.6853 - accuracy: 0.5636 - val_loss: 0.6936 - val_accuracy: 0.5322\n",
      "Epoch 2/20\n",
      "458/458 [==============================] - 87s 190ms/step - loss: 0.6784 - accuracy: 0.5809 - val_loss: 0.6905 - val_accuracy: 0.5435\n",
      "Epoch 3/20\n",
      "458/458 [==============================] - 87s 189ms/step - loss: 0.6700 - accuracy: 0.5915 - val_loss: 0.6881 - val_accuracy: 0.5554\n",
      "Epoch 4/20\n",
      "458/458 [==============================] - 87s 190ms/step - loss: 0.6628 - accuracy: 0.6076 - val_loss: 0.7462 - val_accuracy: 0.4883\n",
      "Epoch 5/20\n",
      "458/458 [==============================] - 87s 191ms/step - loss: 0.6626 - accuracy: 0.6059 - val_loss: 0.6806 - val_accuracy: 0.5600\n",
      "Epoch 6/20\n",
      "458/458 [==============================] - 87s 190ms/step - loss: 0.6578 - accuracy: 0.6121 - val_loss: 0.6911 - val_accuracy: 0.5490\n",
      "Epoch 7/20\n",
      "458/458 [==============================] - 88s 193ms/step - loss: 0.6614 - accuracy: 0.6034 - val_loss: 0.7091 - val_accuracy: 0.5288\n",
      "Epoch 8/20\n",
      "458/458 [==============================] - 88s 191ms/step - loss: 0.6641 - accuracy: 0.6051 - val_loss: 0.7125 - val_accuracy: 0.5311\n",
      "Epoch 9/20\n",
      "458/458 [==============================] - 87s 190ms/step - loss: 0.6578 - accuracy: 0.6121 - val_loss: 0.7100 - val_accuracy: 0.5438\n",
      "Epoch 10/20\n",
      "458/458 [==============================] - 87s 190ms/step - loss: 0.6548 - accuracy: 0.6147 - val_loss: 0.7113 - val_accuracy: 0.5253\n",
      "Epoch 11/20\n",
      "458/458 [==============================] - 86s 189ms/step - loss: 0.6481 - accuracy: 0.6241 - val_loss: 0.6993 - val_accuracy: 0.5785\n",
      "Epoch 12/20\n",
      "458/458 [==============================] - 87s 189ms/step - loss: 0.6530 - accuracy: 0.6169 - val_loss: 0.7012 - val_accuracy: 0.5074\n",
      "Epoch 13/20\n",
      "458/458 [==============================] - 86s 189ms/step - loss: 0.6567 - accuracy: 0.6155 - val_loss: 0.7220 - val_accuracy: 0.5192\n",
      "Epoch 14/20\n",
      "458/458 [==============================] - 87s 189ms/step - loss: 0.6522 - accuracy: 0.6235 - val_loss: 0.7183 - val_accuracy: 0.5221\n",
      "Epoch 15/20\n",
      "458/458 [==============================] - 87s 190ms/step - loss: 0.6485 - accuracy: 0.6290 - val_loss: 0.7333 - val_accuracy: 0.5244\n",
      "Epoch 16/20\n",
      "458/458 [==============================] - 87s 189ms/step - loss: 0.6446 - accuracy: 0.6290 - val_loss: 0.7171 - val_accuracy: 0.5146\n",
      "Epoch 17/20\n",
      "458/458 [==============================] - 87s 190ms/step - loss: 0.6398 - accuracy: 0.6371 - val_loss: 0.7173 - val_accuracy: 0.5279\n",
      "Epoch 18/20\n",
      "458/458 [==============================] - 87s 190ms/step - loss: 0.6372 - accuracy: 0.6398 - val_loss: 0.7205 - val_accuracy: 0.5470\n",
      "Epoch 19/20\n",
      "458/458 [==============================] - 87s 190ms/step - loss: 0.6342 - accuracy: 0.6389 - val_loss: 0.7131 - val_accuracy: 0.5377\n",
      "Epoch 20/20\n",
      "458/458 [==============================] - 87s 190ms/step - loss: 0.6292 - accuracy: 0.6524 - val_loss: 0.7280 - val_accuracy: 0.5126\n"
     ]
    },
    {
     "data": {
      "image/png": "[encoded data removed]",
      "text/plain": [
       "<Figure size 576x360 with 1 Axes>"
      ]
     },
     "metadata": {
      "needs_background": "light"
     },
     "output_type": "display_data"
    },
    {
     "name": "stdout",
     "output_type": "stream",
     "text": [
      "Compute valiation accuracy\n",
      "2022-12-18 19:34:52.354169\n",
      "Range of scores: 0.13812068 to 0.8652231\n",
      "Predicted zeros and ones 2330 1129\n",
      "Accuracy: 51.26% Precision: 47.65% Recall: 32.95% F1: 38.96%\n",
      "2022-12-18 19:35:01.888183\n",
      "\n",
      "Cross validation 5 folds 20 epochs\n",
      " accuracy mean 53.01% +/- 1.14\n",
      " precision mean 46.79% +/- 1.51\n",
      " recall mean 40.78% +/- 5.83\n",
      " F1 mean 43.31% +/- 3.15\n",
      "2022-12-18 19:35:01.894336\n"
     ]
    }
   ],
   "source": [
    "print(datetime.now())\n",
    "cvdo = CrossValidator(EPOCHS,FOLDS,BREAK)\n",
    "cv_accuracy, cv_precision, cv_recall, cv_f1 = cvdo.do_cross_validation()   \n",
    "print(\"Cross validation %d folds %d epochs\" % (FOLDS,EPOCHS)) \n",
    "print(\" accuracy mean %.2f%% +/- %.2f\" % (np.mean(cv_accuracy), np.std(cv_accuracy)))\n",
    "print(\" precision mean %.2f%% +/- %.2f\" % (np.mean(cv_precision), np.std(cv_precision)))\n",
    "print(\" recall mean %.2f%% +/- %.2f\" % (np.mean(cv_recall), np.std(cv_recall)))\n",
    "print(\" F1 mean %.2f%% +/- %.2f\" % (np.mean(cv_f1), np.std(cv_f1)))\n",
    "print(datetime.now())"
   ]
  },
  {
   "cell_type": "code",
   "execution_count": 12,
   "metadata": {
    "id": "thQspN3Nga5S"
   },
   "outputs": [],
   "source": []
  }
 ],
 "metadata": {
  "accelerator": "GPU",
  "colab": {
   "provenance": []
  },
  "gpuClass": "standard",
  "kernelspec": {
   "display_name": "Python 3 (ipykernel)",
   "language": "python",
   "name": "python3"
  },
  "language_info": {
   "codemirror_mode": {
    "name": "ipython",
    "version": 3
   },
   "file_extension": ".py",
   "mimetype": "text/x-python",
   "name": "python",
   "nbconvert_exporter": "python",
   "pygments_lexer": "ipython3",
   "version": "3.10.0"
  }
 },
 "nbformat": 4,
 "nbformat_minor": 1
}
