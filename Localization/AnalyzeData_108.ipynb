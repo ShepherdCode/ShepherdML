{
 "cells": [
  {
   "cell_type": "markdown",
   "id": "b885a27a",
   "metadata": {},
   "source": [
    "# Analyze RCI correlations between cell lines\n",
    "lncAtlas, exclude cell line 1 (H1.hESC), training data only.\n",
    "\n",
    "Include only genes also represented in GenCode 43.\n",
    "We can only train and test on genes for which we have sequence.\n",
    "Some gene IDs from lncAtlas (2017) are no longer represented in GenCode 43 (2023).\n",
    "However, the exclusion makes little difference, if any."
   ]
  },
  {
   "cell_type": "code",
   "execution_count": 1,
   "id": "ffef6902",
   "metadata": {},
   "outputs": [
    {
     "name": "stdout",
     "output_type": "stream",
     "text": [
      "2023-03-26 13:55:25.896943\n",
      "Python 3.10.0\n",
      "sklearn 1.1.2\n"
     ]
    }
   ],
   "source": [
    "from datetime import datetime\n",
    "print(datetime.now())\n",
    "from platform import python_version\n",
    "print('Python',python_version())\n",
    "import numpy as np\n",
    "import pandas as pd\n",
    "import scipy.stats as ss\n",
    "from matplotlib import pyplot as plt \n",
    "import sklearn   # pip install --upgrade scikit-learn\n",
    "print('sklearn',sklearn.__version__)"
   ]
  },
  {
   "cell_type": "code",
   "execution_count": 2,
   "id": "a247893c",
   "metadata": {},
   "outputs": [
    {
     "name": "stdout",
     "output_type": "stream",
     "text": [
      "/Users/jasonmiller/WVU/Localization/TrainTest/TrainTest_ver43/\n"
     ]
    }
   ],
   "source": [
    "try:\n",
    "    from google.colab import drive\n",
    "    IN_COLAB = True\n",
    "    print('Running on CoLab')\n",
    "    PATH='/content/drive/'\n",
    "    drive.mount(PATH)\n",
    "    DATA_DIR=PATH+'My Drive/data/Localization/TrainTest/'  # must end in \"/\"\n",
    "except:\n",
    "    IN_COLAB = False\n",
    "    DATA_DIR = 'D:/Adjeroh/Localization/TrainTest/'   # Windows\n",
    "    DATA_DIR = '/Users/jasonmiller/WVU/Localization/TrainTest/TrainTest_ver43/'    # Mac\n",
    "print(DATA_DIR)"
   ]
  },
  {
   "cell_type": "code",
   "execution_count": 3,
   "id": "8edc623b",
   "metadata": {},
   "outputs": [],
   "source": [
    "PC_RCI_FILE  = 'train.pc_RCI.csv'\n",
    "PC_GENE_FILE = 'train.canon_pc_transcripts.csv'\n",
    "NC_RCI_FILE  = 'train.lncRNA_RCI.csv'\n",
    "NC_GENE_FILE = 'train.canon_lncRNA_transcripts.csv'\n",
    "CELL_LINES   = 15\n",
    "EXCLUDE      = [1]"
   ]
  },
  {
   "cell_type": "markdown",
   "id": "514a0d3f",
   "metadata": {},
   "source": [
    "## Genes with GenCode sequence"
   ]
  },
  {
   "cell_type": "code",
   "execution_count": 4,
   "id": "ff868232",
   "metadata": {},
   "outputs": [
    {
     "name": "stdout",
     "output_type": "stream",
     "text": [
      "GenCode gene counts (pc,nc,both): 14135 5139 19274\n"
     ]
    }
   ],
   "source": [
    "def load_gencode_genes(filepath):\n",
    "    gene_set = set()\n",
    "    with open (filepath,'r') as handle:\n",
    "        header = None\n",
    "        for row in handle:\n",
    "            if header is None:\n",
    "                header = row \n",
    "            else:\n",
    "                fields = row.strip().split(',')\n",
    "                tran_id = fields[0]\n",
    "                gene_id = fields[1]\n",
    "                gene_set.add(gene_id)\n",
    "    return gene_set\n",
    "PC_GENES = load_gencode_genes(DATA_DIR + PC_GENE_FILE)\n",
    "NC_GENES = load_gencode_genes(DATA_DIR + NC_GENE_FILE)\n",
    "GC_GENES = PC_GENES.union(NC_GENES)\n",
    "print('GenCode gene counts (pc,nc,both):',len(PC_GENES),len(NC_GENES),len(GC_GENES))"
   ]
  },
  {
   "cell_type": "markdown",
   "id": "56b9df8b",
   "metadata": {},
   "source": [
    "## CNRCI values per gene"
   ]
  },
  {
   "cell_type": "code",
   "execution_count": 5,
   "id": "cc200803",
   "metadata": {},
   "outputs": [],
   "source": [
    "def values_per_gene(filepath,exclude_lines=[]):\n",
    "    all_counts=[]\n",
    "    with open (filepath,'r') as handle:\n",
    "        header = None\n",
    "        for row in handle:\n",
    "            if header is None:\n",
    "                header = row \n",
    "            else:\n",
    "                count_rci = 0\n",
    "                fields = row.strip().split(',')\n",
    "                gene_id = fields.pop(0)\n",
    "                if gene_id in GC_GENES:\n",
    "                    for i in range(len(fields)):\n",
    "                        if fields[i] != 'nan' and i not in exclude_lines:\n",
    "                            count_rci += 1\n",
    "                    all_counts.append(count_rci)\n",
    "    all_counts = np.asarray(all_counts)\n",
    "    return all_counts\n",
    "def analyze_values_per_gene(all_counts):\n",
    "    print(len(all_counts), 'genes examined')\n",
    "    print(np.mean(all_counts), 'average number of CNRCI for one gene')\n",
    "    print(min(all_counts), max(all_counts), 'min and max CNRCI for any gene')\n",
    "    print()\n",
    "    print('Threshold T, Genes with T CNRCI, Genes with more CNRCI, Genes with fewer CNRCI')\n",
    "    for threshold in range(CELL_LINES+1):\n",
    "        equal = np.count_nonzero(all_counts==threshold)\n",
    "        more  = np.count_nonzero(all_counts>threshold)\n",
    "        less  = np.count_nonzero(all_counts<threshold)\n",
    "        print(\"%2d %6d %6d %6d\" % (threshold, equal, more, less))"
   ]
  },
  {
   "cell_type": "code",
   "execution_count": 6,
   "id": "c6a84c6a",
   "metadata": {},
   "outputs": [
    {
     "name": "stdout",
     "output_type": "stream",
     "text": [
      "Protein-coding genes with some number of CNRCI values\n",
      "14135 genes examined\n",
      "8.721896002829855 average number of CNRCI for one gene\n",
      "0 14 min and max CNRCI for any gene\n",
      "\n",
      "Threshold T, Genes with T CNRCI, Genes with more CNRCI, Genes with fewer CNRCI\n",
      " 0    466  13669      0\n",
      " 1    969  12700    466\n",
      " 2    796  11904   1435\n",
      " 3    615  11289   2231\n",
      " 4    535  10754   2846\n",
      " 5    533  10221   3381\n",
      " 6    492   9729   3914\n",
      " 7    546   9183   4406\n",
      " 8    617   8566   4952\n",
      " 9    741   7825   5569\n",
      "10    985   6840   6310\n",
      "11   1364   5476   7295\n",
      "12   1812   3664   8659\n",
      "13   2200   1464  10471\n",
      "14   1464      0  12671\n",
      "15      0      0  14135\n"
     ]
    }
   ],
   "source": [
    "print('Protein-coding genes with some number of CNRCI values')\n",
    "filepath = DATA_DIR + PC_RCI_FILE\n",
    "counts = values_per_gene(filepath,exclude_lines=EXCLUDE)\n",
    "analyze_values_per_gene(counts)"
   ]
  },
  {
   "cell_type": "code",
   "execution_count": 7,
   "id": "e9a9e1c3",
   "metadata": {},
   "outputs": [
    {
     "name": "stdout",
     "output_type": "stream",
     "text": [
      "Non-coding genes with some number of CNRCI values\n",
      "5139 genes examined\n",
      "4.205292858532789 average number of CNRCI for one gene\n",
      "1 15 min and max CNRCI for any gene\n",
      "\n",
      "Threshold T, Genes with T CNRCI, Genes with more CNRCI, Genes with fewer CNRCI\n",
      " 0      0   5139      0\n",
      " 1   1597   3542      0\n",
      " 2    768   2774   1597\n",
      " 3    524   2250   2365\n",
      " 4    407   1843   2889\n",
      " 5    334   1509   3296\n",
      " 6    274   1235   3630\n",
      " 7    261    974   3904\n",
      " 8    217    757   4165\n",
      " 9    163    594   4382\n",
      "10    171    423   4545\n",
      "11    134    289   4716\n",
      "12    114    175   4850\n",
      "13     87     88   4964\n",
      "14     69     19   5051\n",
      "15     19      0   5120\n"
     ]
    }
   ],
   "source": [
    "print('Non-coding genes with some number of CNRCI values')\n",
    "filepath = DATA_DIR + NC_RCI_FILE\n",
    "counts = values_per_gene(filepath)\n",
    "analyze_values_per_gene(counts)"
   ]
  },
  {
   "cell_type": "markdown",
   "id": "02e2c044",
   "metadata": {},
   "source": [
    "## Values per cell line"
   ]
  },
  {
   "cell_type": "code",
   "execution_count": 8,
   "id": "e3e4d7b8",
   "metadata": {},
   "outputs": [],
   "source": [
    "def values_per_cell_line(filepath):\n",
    "    names = np.zeros(CELL_LINES)\n",
    "    values = []\n",
    "    for i in range(CELL_LINES):\n",
    "        values.append([])\n",
    "    with open (filepath,'r') as handle:\n",
    "        header = None\n",
    "        for row in handle:\n",
    "            row = row.strip()\n",
    "            if header is None:\n",
    "                header = row \n",
    "                # ignore col 0 = 'gene_id'\n",
    "                names = row.split(',')\n",
    "                names.pop(0)\n",
    "            else:\n",
    "                fields = row.split(',')\n",
    "                gene_id = fields.pop(0)\n",
    "                if gene_id in GC_GENES:\n",
    "                    for i in range(len(fields)):\n",
    "                        if fields[i] != 'nan':\n",
    "                            value = float(fields[i])\n",
    "                            values[i].append(value)\n",
    "    return names,values\n",
    "def analyze_values_per_cell_line(names,counts,exclude_lines=[]):\n",
    "    print('Cell line, count, mean, stdev, min, max')\n",
    "    for i in range(len(names)):\n",
    "        if i not in exclude_lines:\n",
    "            #print(\"%8s %6d %6.3f %6.3f %6.3f %6.3f \" %\n",
    "            #    (names[i], len(counts[i]), np.mean(counts[i]), np.std(counts[i]),\n",
    "            #    min(counts[i]), max(counts[i])))\n",
    "            print(names[i], len(counts[i]), np.mean(counts[i]), np.std(counts[i]),\n",
    "                min(counts[i]), max(counts[i]))"
   ]
  },
  {
   "cell_type": "code",
   "execution_count": 9,
   "id": "c01b37e9",
   "metadata": {},
   "outputs": [
    {
     "name": "stdout",
     "output_type": "stream",
     "text": [
      "Protein-coding CNRCI values per cell line\n",
      "Cell line, count, mean, stdev, min, max\n",
      "A549 10474 -0.05976983478537331 1.1981512707728252 -6.45121 10.5541\n",
      "HeLa.S3 7055 -0.05204840213182141 1.5081758665287959 -6.89372 4.40693\n",
      "HepG2 9549 -0.28159588836223687 1.697331904911219 -7.68568 4.4075\n",
      "HT1080 9667 0.028601782410468613 1.2182034378268005 -6.45921 3.90689\n",
      "HUVEC 10393 -0.19753256528480712 1.4503234673517502 -7.3837 5.47449\n",
      "MCF.7 11147 -0.2306045686635866 1.690233969810388 -8.19311 6.63662\n",
      "NCI.H460 8541 -0.3187753048713266 1.2739545077228769 -8.93799 6.48113\n",
      "NHEK 8859 -0.2458269187210746 1.3490845772383626 -7.38627 3.61471\n",
      "SK.MEL.5 8472 -0.03255823837783286 1.6583024352563216 -8.47407 5.6231\n",
      "SK.N.DZ 8540 0.03112836065374708 1.149277386338518 -6.58496 3.97728\n",
      "SK.N.SH 9764 -0.34718655745575583 1.705001843534662 -8.13443 6.16065\n",
      "GM12878 10038 -0.2311822760021917 1.3109922002552217 -6.93074 5.1883\n",
      "K562 6727 -0.1312907043020663 1.4424511219062668 -5.8419 3.9542\n",
      "IMR.90 4058 -0.06950355284869393 1.5886378304186795 -7.23939 4.73997\n"
     ]
    }
   ],
   "source": [
    "print('Protein-coding CNRCI values per cell line')\n",
    "filepath = DATA_DIR + PC_RCI_FILE\n",
    "names,counts = values_per_cell_line(filepath)\n",
    "analyze_values_per_cell_line(names,counts,exclude_lines=EXCLUDE)"
   ]
  },
  {
   "cell_type": "code",
   "execution_count": 10,
   "id": "c41dbd58",
   "metadata": {},
   "outputs": [
    {
     "name": "stdout",
     "output_type": "stream",
     "text": [
      "Non-coding CNRCI values per cell line\n",
      "Cell line, count, mean, stdev, min, max\n",
      "A549 1635 -0.543231414409786 1.6423750408739248 -5.59991 4.49338\n",
      "HeLa.S3 999 -1.5328410593593595 1.8489583039982518 -7.5727 4.14975\n",
      "HepG2 1560 -1.4347548832820511 1.9767969260079241 -7.57193 3.64697\n",
      "HT1080 1050 -0.5911357883047619 1.8555808753482688 -7.74147 4.24793\n",
      "HUVEC 1674 -1.4093593955854242 2.0546907078051406 -8.23002 3.64386\n",
      "MCF.7 2377 -1.56400102796382 2.1838592553463188 -9.1779 3.88264\n",
      "NCI.H460 700 -1.495083041 1.8548862772960437 -7.61176 4.20387\n",
      "NHEK 1214 -1.225780156589786 1.9808793877267008 -8.40027 3.12653\n",
      "SK.MEL.5 618 -1.7226884745469255 2.1480533868631126 -8.66356 3.81823\n",
      "SK.N.DZ 683 -0.6119149324743778 1.5994391693300594 -8.33023 3.20511\n",
      "SK.N.SH 1865 -1.4181864412064344 2.124505876393391 -9.53877 4.05156\n",
      "GM12878 1931 -1.1746448151424134 1.6076889900159934 -8.32125 3.36075\n",
      "K562 1090 -1.0155525348990828 1.6916048915065078 -6.66607 4.35815\n",
      "IMR.90 441 -0.7462931029478458 2.1038014196731583 -7.89269 3.38313\n"
     ]
    }
   ],
   "source": [
    "print('Non-coding CNRCI values per cell line')\n",
    "filepath = DATA_DIR + NC_RCI_FILE\n",
    "names,counts = values_per_cell_line(filepath)\n",
    "analyze_values_per_cell_line(names,counts,exclude_lines=EXCLUDE)"
   ]
  },
  {
   "cell_type": "markdown",
   "id": "d4283435",
   "metadata": {},
   "source": [
    "## Correlations"
   ]
  },
  {
   "cell_type": "code",
   "execution_count": 11,
   "id": "25a95156",
   "metadata": {},
   "outputs": [],
   "source": [
    "def load_RCI_data(filepath,exclude_lines=[]):\n",
    "    cell_line_names = []  # list of 15 names like A549\n",
    "    cell_line_maps  = []  # 15 maps for 15 cell lines, each maps one gene name to one RCI value\n",
    "    with open (filepath,'r') as handle:\n",
    "        header = None\n",
    "        for row in handle:\n",
    "            line = row.strip()\n",
    "            fields = line.split(',')\n",
    "            if header is None:\n",
    "                header = row \n",
    "                # exclude column 0 = gene name\n",
    "                for col in range(1,len(fields)): \n",
    "                    cell_line_name = fields[col]\n",
    "                    cell_line_names.append(cell_line_name)\n",
    "                    # start a new empty map for each column\n",
    "                    cell_line_genes = {}\n",
    "                    cell_line_maps.append(cell_line_genes)\n",
    "            else:\n",
    "                gene_id = fields[0]\n",
    "                if gene_id in GC_GENES:\n",
    "                    for col in range(1,len(fields)): \n",
    "                        rci_val = fields[col]\n",
    "                        if rci_val != \"nan\":\n",
    "                            real_value = float(rci_val)\n",
    "                            position = col-1 # 1st cell line in position 0\n",
    "                            cell_line_name = cell_line_names[position] \n",
    "                            cell_line_map  = cell_line_maps[position]\n",
    "                            cell_line_map[gene_id] = real_value \n",
    "    for i in exclude_lines:\n",
    "        print('Exclude cell line', i, cell_line_names[i])\n",
    "        del cell_line_names[i]\n",
    "        del cell_line_maps[i]\n",
    "    if len(exclude_lines)==0:\n",
    "        print('No cell lines excluded.')\n",
    "    print('Remaining cell lines:',cell_line_names)\n",
    "    return cell_line_names, cell_line_maps"
   ]
  },
  {
   "cell_type": "code",
   "execution_count": 12,
   "id": "7fffeacd",
   "metadata": {},
   "outputs": [],
   "source": [
    "def all_vs_all_intersection(names,maps):\n",
    "    NUM = len(maps)\n",
    "    SHOW = 0\n",
    "    for i in range(NUM):\n",
    "        print(names[i],end=',')\n",
    "    print()\n",
    "    for i in range(NUM):\n",
    "        i_genes = set(maps[i].keys())\n",
    "        for j in range(NUM):\n",
    "            j_genes = set(maps[j].keys())\n",
    "            section = i_genes.intersection(j_genes)\n",
    "            SHOW = len(section)\n",
    "            #if i==0:\n",
    "            #    SHOW = len(j_genes)\n",
    "            #elif j==0:\n",
    "            #    SHOW = len(i_genes)\n",
    "            print(SHOW,end=',')\n",
    "        print()"
   ]
  },
  {
   "cell_type": "code",
   "execution_count": 13,
   "id": "e8c0dfc9",
   "metadata": {},
   "outputs": [],
   "source": [
    "def all_vs_all_correlation(names,maps):\n",
    "    NUM = len(maps)\n",
    "    # heading\n",
    "    for i in range(NUM):\n",
    "        print(names[i],end=',')\n",
    "    print()\n",
    "    # table\n",
    "    for i in range(NUM):\n",
    "        i_genes = set(maps[i].keys())\n",
    "        for j in range(NUM):\n",
    "            j_genes = set(maps[j].keys())\n",
    "            common_genes = i_genes.intersection(j_genes)\n",
    "            i_values = np.array([maps[i][k] for k in common_genes])\n",
    "            j_values = np.array([maps[j][k] for k in common_genes])\n",
    "            r,p = ss.pearsonr(i_values,j_values)\n",
    "            print('%.2f' % r, end=',')\n",
    "        print()"
   ]
  },
  {
   "cell_type": "code",
   "execution_count": 14,
   "id": "c6718a43",
   "metadata": {},
   "outputs": [],
   "source": [
    "def get_union(maps):\n",
    "    union = set()\n",
    "    for i in range(len(maps)):\n",
    "        one_map = maps[i]\n",
    "        genes = one_map.keys()\n",
    "        union = union.union(genes)\n",
    "    return union\n",
    "def get_intersection(maps):\n",
    "    section = set()\n",
    "    for i in range(len(maps)):\n",
    "        one_map = maps[i]\n",
    "        genes = set(one_map.keys())\n",
    "        if i==0:\n",
    "            pass\n",
    "        elif i==1:\n",
    "            section = genes\n",
    "        else:\n",
    "            section = section.intersection(genes)\n",
    "    return section\n",
    "def show_rci_counts_table(names,maps):\n",
    "    section = get_intersection(maps)\n",
    "    print('The intersection of RCI values contains',len(section),'genes.')\n",
    "    print('All vs all intersection')\n",
    "    all_vs_all_intersection(names,maps)"
   ]
  },
  {
   "cell_type": "markdown",
   "id": "cfdff656",
   "metadata": {},
   "source": [
    "## Coding"
   ]
  },
  {
   "cell_type": "code",
   "execution_count": 15,
   "id": "68c9e108",
   "metadata": {},
   "outputs": [
    {
     "name": "stdout",
     "output_type": "stream",
     "text": [
      "Exclude cell line 1 H1.hESC\n",
      "Remaining cell lines: ['A549', 'HeLa.S3', 'HepG2', 'HT1080', 'HUVEC', 'MCF.7', 'NCI.H460', 'NHEK', 'SK.MEL.5', 'SK.N.DZ', 'SK.N.SH', 'GM12878', 'K562', 'IMR.90']\n",
      "The union of RCI values contains 13669 genes.\n"
     ]
    }
   ],
   "source": [
    "filepath = DATA_DIR + PC_RCI_FILE\n",
    "cl_names,cl_maps = load_RCI_data(filepath,exclude_lines=[1])\n",
    "#print('Coding Genes: number of RCI values per cell line')\n",
    "#for i in range(len(cl_names)):\n",
    "#    print('%2d %10s %5d' % (i, cl_names[i], len(cl_maps[i].keys())))\n",
    "union = get_union(cl_maps)\n",
    "print('The union of RCI values contains',len(union),'genes.')"
   ]
  },
  {
   "cell_type": "code",
   "execution_count": 16,
   "id": "c94dacd2",
   "metadata": {},
   "outputs": [
    {
     "name": "stdout",
     "output_type": "stream",
     "text": [
      "The intersection of RCI values contains 1474 genes.\n",
      "All vs all intersection\n",
      "A549,HeLa.S3,HepG2,HT1080,HUVEC,MCF.7,NCI.H460,NHEK,SK.MEL.5,SK.N.DZ,SK.N.SH,GM12878,K562,IMR.90,\n",
      "10474,6461,8470,8733,9159,9613,7883,7737,7738,7642,8545,8612,6157,3765,\n",
      "6461,7055,6202,6313,6522,6711,5752,5847,5708,5560,6104,6227,4841,2753,\n",
      "8470,6202,9549,8112,8524,8841,7360,7357,7324,7212,7937,8170,6010,3447,\n",
      "8733,6313,8112,9667,8933,9042,7751,7564,7764,7581,8255,8367,5992,3530,\n",
      "9159,6522,8524,8933,10393,9568,7968,7897,7898,7825,8685,8781,6241,3698,\n",
      "9613,6711,8841,9042,9568,11147,8163,8129,8068,8008,8857,9055,6360,3749,\n",
      "7883,5752,7360,7751,7968,8163,8541,6760,7081,6929,7333,7490,5459,3120,\n",
      "7737,5847,7357,7564,7897,8129,6760,8859,6693,6526,7442,7467,5570,3378,\n",
      "7738,5708,7324,7764,7898,8068,7081,6693,8472,6928,7290,7494,5472,3103,\n",
      "7642,5560,7212,7581,7825,8008,6929,6526,6928,8540,7311,7420,5382,3042,\n",
      "8545,6104,7937,8255,8685,8857,7333,7442,7290,7311,9764,8135,5882,3672,\n",
      "8612,6227,8170,8367,8781,9055,7490,7467,7494,7420,8135,10038,6075,3433,\n",
      "6157,4841,6010,5992,6241,6360,5459,5570,5472,5382,5882,6075,6727,2775,\n",
      "3765,2753,3447,3530,3698,3749,3120,3378,3103,3042,3672,3433,2775,4058,\n"
     ]
    }
   ],
   "source": [
    "show_rci_counts_table(cl_names,cl_maps)"
   ]
  },
  {
   "cell_type": "code",
   "execution_count": 17,
   "id": "d79487b3",
   "metadata": {},
   "outputs": [
    {
     "name": "stdout",
     "output_type": "stream",
     "text": [
      "All vs all correlation\n",
      "A549,HeLa.S3,HepG2,HT1080,HUVEC,MCF.7,NCI.H460,NHEK,SK.MEL.5,SK.N.DZ,SK.N.SH,GM12878,K562,IMR.90,\n",
      "1.00,0.82,0.78,0.74,0.72,0.75,0.55,0.79,0.56,0.66,0.86,0.71,0.69,0.78,\n",
      "0.82,1.00,0.87,0.76,0.80,0.81,0.58,0.79,0.71,0.74,0.84,0.83,0.85,0.80,\n",
      "0.78,0.87,1.00,0.73,0.83,0.83,0.55,0.74,0.72,0.77,0.84,0.84,0.86,0.83,\n",
      "0.74,0.76,0.73,1.00,0.81,0.76,0.60,0.82,0.74,0.66,0.73,0.71,0.75,0.78,\n",
      "0.72,0.80,0.83,0.81,1.00,0.86,0.58,0.78,0.81,0.73,0.78,0.80,0.85,0.91,\n",
      "0.75,0.81,0.83,0.76,0.86,1.00,0.60,0.75,0.81,0.74,0.83,0.77,0.81,0.86,\n",
      "0.55,0.58,0.55,0.60,0.58,0.60,1.00,0.53,0.63,0.62,0.58,0.55,0.56,0.53,\n",
      "0.79,0.79,0.74,0.82,0.78,0.75,0.53,1.00,0.63,0.60,0.76,0.69,0.72,0.74,\n",
      "0.56,0.71,0.72,0.74,0.81,0.81,0.63,0.63,1.00,0.74,0.69,0.70,0.77,0.83,\n",
      "0.66,0.74,0.77,0.66,0.73,0.74,0.62,0.60,0.74,1.00,0.75,0.76,0.79,0.74,\n",
      "0.86,0.84,0.84,0.73,0.78,0.83,0.58,0.76,0.69,0.75,1.00,0.72,0.75,0.87,\n",
      "0.71,0.83,0.84,0.71,0.80,0.77,0.55,0.69,0.70,0.76,0.72,1.00,0.89,0.78,\n",
      "0.69,0.85,0.86,0.75,0.85,0.81,0.56,0.72,0.77,0.79,0.75,0.89,1.00,0.82,\n",
      "0.78,0.80,0.83,0.78,0.91,0.86,0.53,0.74,0.83,0.74,0.87,0.78,0.82,1.00,\n"
     ]
    }
   ],
   "source": [
    "print('All vs all correlation')\n",
    "all_vs_all_correlation(cl_names,cl_maps)"
   ]
  },
  {
   "cell_type": "markdown",
   "id": "149c700a",
   "metadata": {},
   "source": [
    "## Non-coding"
   ]
  },
  {
   "cell_type": "code",
   "execution_count": 18,
   "id": "f2e499ba",
   "metadata": {},
   "outputs": [
    {
     "name": "stdout",
     "output_type": "stream",
     "text": [
      "Exclude cell line 1 H1.hESC\n",
      "Remaining cell lines: ['A549', 'HeLa.S3', 'HepG2', 'HT1080', 'HUVEC', 'MCF.7', 'NCI.H460', 'NHEK', 'SK.MEL.5', 'SK.N.DZ', 'SK.N.SH', 'GM12878', 'K562', 'IMR.90']\n",
      "The union of RCI values contains 4369 genes.\n"
     ]
    }
   ],
   "source": [
    "filepath = DATA_DIR + NC_RCI_FILE\n",
    "cl_names,cl_maps = load_RCI_data(filepath,exclude_lines=[1])\n",
    "#print('Noncoding Genes: number of RCI values per cell line')\n",
    "#for i in range(len(cl_names)):\n",
    "#    print('%2d %10s %5d' % (i, cl_names[i], len(cl_maps[i].keys())))\n",
    "union = get_union(cl_maps)\n",
    "print('The union of RCI values contains',len(union),'genes.')"
   ]
  },
  {
   "cell_type": "code",
   "execution_count": 19,
   "id": "cb6f45ef",
   "metadata": {},
   "outputs": [
    {
     "name": "stdout",
     "output_type": "stream",
     "text": [
      "The intersection of RCI values contains 22 genes.\n",
      "All vs all intersection\n",
      "A549,HeLa.S3,HepG2,HT1080,HUVEC,MCF.7,NCI.H460,NHEK,SK.MEL.5,SK.N.DZ,SK.N.SH,GM12878,K562,IMR.90,\n",
      "1635,559,862,669,917,1185,484,693,414,431,1012,955,609,321,\n",
      "559,999,547,397,556,733,299,455,265,266,593,598,390,163,\n",
      "862,547,1560,640,897,1101,480,712,408,448,945,954,593,287,\n",
      "669,397,640,1050,722,811,437,575,389,389,743,725,453,247,\n",
      "917,556,897,722,1674,1182,507,779,439,475,1057,1029,635,315,\n",
      "1185,733,1101,811,1182,2377,573,902,503,541,1282,1277,763,357,\n",
      "484,299,480,437,507,573,700,412,299,314,497,524,328,162,\n",
      "693,455,712,575,779,902,412,1214,375,364,804,764,476,265,\n",
      "414,265,408,389,439,503,299,375,618,273,458,450,292,156,\n",
      "431,266,448,389,475,541,314,364,273,683,494,489,309,166,\n",
      "1012,593,945,743,1057,1282,497,804,458,494,1865,1044,665,345,\n",
      "955,598,954,725,1029,1277,524,764,450,489,1044,1931,708,299,\n",
      "609,390,593,453,635,763,328,476,292,309,665,708,1090,203,\n",
      "321,163,287,247,315,357,162,265,156,166,345,299,203,441,\n"
     ]
    }
   ],
   "source": [
    "show_rci_counts_table(cl_names,cl_maps)"
   ]
  },
  {
   "cell_type": "code",
   "execution_count": 20,
   "id": "e3873685",
   "metadata": {},
   "outputs": [
    {
     "name": "stdout",
     "output_type": "stream",
     "text": [
      "All vs all correlation\n",
      "A549,HeLa.S3,HepG2,HT1080,HUVEC,MCF.7,NCI.H460,NHEK,SK.MEL.5,SK.N.DZ,SK.N.SH,GM12878,K562,IMR.90,\n",
      "1.00,0.71,0.80,0.78,0.81,0.80,0.59,0.80,0.65,0.72,0.81,0.72,0.69,0.83,\n",
      "0.71,1.00,0.79,0.77,0.74,0.73,0.66,0.79,0.76,0.70,0.79,0.70,0.78,0.72,\n",
      "0.80,0.79,1.00,0.82,0.87,0.82,0.63,0.78,0.71,0.75,0.81,0.81,0.81,0.83,\n",
      "0.78,0.77,0.82,1.00,0.84,0.84,0.68,0.81,0.81,0.73,0.84,0.69,0.72,0.85,\n",
      "0.81,0.74,0.87,0.84,1.00,0.86,0.66,0.83,0.76,0.73,0.83,0.78,0.80,0.89,\n",
      "0.80,0.73,0.82,0.84,0.86,1.00,0.63,0.80,0.79,0.72,0.82,0.70,0.75,0.87,\n",
      "0.59,0.66,0.63,0.68,0.66,0.63,1.00,0.59,0.70,0.66,0.65,0.56,0.54,0.60,\n",
      "0.80,0.79,0.78,0.81,0.83,0.80,0.59,1.00,0.74,0.67,0.83,0.68,0.68,0.81,\n",
      "0.65,0.76,0.71,0.81,0.76,0.79,0.70,0.74,1.00,0.70,0.74,0.63,0.70,0.80,\n",
      "0.72,0.70,0.75,0.73,0.73,0.72,0.66,0.67,0.70,1.00,0.69,0.73,0.76,0.75,\n",
      "0.81,0.79,0.81,0.84,0.83,0.82,0.65,0.83,0.74,0.69,1.00,0.66,0.69,0.87,\n",
      "0.72,0.70,0.81,0.69,0.78,0.70,0.56,0.68,0.63,0.73,0.66,1.00,0.83,0.71,\n",
      "0.69,0.78,0.81,0.72,0.80,0.75,0.54,0.68,0.70,0.76,0.69,0.83,1.00,0.75,\n",
      "0.83,0.72,0.83,0.85,0.89,0.87,0.60,0.81,0.80,0.75,0.87,0.71,0.75,1.00,\n"
     ]
    }
   ],
   "source": [
    "print('All vs all correlation')\n",
    "all_vs_all_correlation(cl_names,cl_maps)"
   ]
  },
  {
   "cell_type": "code",
   "execution_count": null,
   "id": "17206ec1",
   "metadata": {},
   "outputs": [],
   "source": []
  }
 ],
 "metadata": {
  "kernelspec": {
   "display_name": "Python 3 (ipykernel)",
   "language": "python",
   "name": "python3"
  },
  "language_info": {
   "codemirror_mode": {
    "name": "ipython",
    "version": 3
   },
   "file_extension": ".py",
   "mimetype": "text/x-python",
   "name": "python",
   "nbconvert_exporter": "python",
   "pygments_lexer": "ipython3",
   "version": "3.10.0"
  }
 },
 "nbformat": 4,
 "nbformat_minor": 5
}
