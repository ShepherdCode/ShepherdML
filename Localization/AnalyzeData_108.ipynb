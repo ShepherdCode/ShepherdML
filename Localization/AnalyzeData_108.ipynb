{
 "cells": [
  {
   "cell_type": "markdown",
   "id": "b885a27a",
   "metadata": {},
   "source": [
    "# Analyze RCI correlations between cell lines\n",
    "lncAtlas, exclude cell line 1 (H1.hESC), training data only.\n",
    "\n",
    "Include only genes also represented in GenCode 43.\n",
    "We can only train and test on genes for which we have sequence.\n",
    "Some gene IDs from lncAtlas (2017) are no longer represented in GenCode 43 (2023).\n",
    "However, the exclusion makes little difference, if any."
   ]
  },
  {
   "cell_type": "code",
   "execution_count": 1,
   "id": "ffef6902",
   "metadata": {},
   "outputs": [
    {
     "name": "stdout",
     "output_type": "stream",
     "text": [
      "2023-05-02 09:28:22.004759\n",
      "Python 3.10.0\n",
      "sklearn 1.1.2\n"
     ]
    }
   ],
   "source": [
    "from datetime import datetime\n",
    "print(datetime.now())\n",
    "from platform import python_version\n",
    "print('Python',python_version())\n",
    "import numpy as np\n",
    "import pandas as pd\n",
    "import scipy.stats as ss\n",
    "from matplotlib import pyplot as plt \n",
    "import sklearn   # pip install --upgrade scikit-learn\n",
    "print('sklearn',sklearn.__version__)"
   ]
  },
  {
   "cell_type": "code",
   "execution_count": 2,
   "id": "a247893c",
   "metadata": {},
   "outputs": [
    {
     "name": "stdout",
     "output_type": "stream",
     "text": [
      "/Users/jasonmiller/WVU/Localization/TrainTest/TrainTest_ver43/\n"
     ]
    }
   ],
   "source": [
    "try:\n",
    "    from google.colab import drive\n",
    "    IN_COLAB = True\n",
    "    print('Running on CoLab')\n",
    "    PATH='/content/drive/'\n",
    "    drive.mount(PATH)\n",
    "    DATA_DIR=PATH+'My Drive/data/Localization/TrainTest/'  # must end in \"/\"\n",
    "except:\n",
    "    IN_COLAB = False\n",
    "    DATA_DIR = 'D:/Adjeroh/Localization/TrainTest/'   # Windows\n",
    "    DATA_DIR = '/Users/jasonmiller/WVU/Localization/TrainTest/TrainTest_ver43/'    # Mac\n",
    "print(DATA_DIR)"
   ]
  },
  {
   "cell_type": "code",
   "execution_count": 3,
   "id": "8edc623b",
   "metadata": {},
   "outputs": [],
   "source": [
    "PC_RCI_FILE  = 'all.pc_RCI.csv'\n",
    "PC_GENE_FILE = 'all.canon_pc_transcripts.csv'\n",
    "NC_RCI_FILE  = 'all.lncRNA_RCI.csv'\n",
    "NC_GENE_FILE = 'all.canon_lncRNA_transcripts.csv'\n",
    "CELL_LINES   = 15\n",
    "EXCLUDE      = [] # [] or [1]"
   ]
  },
  {
   "cell_type": "markdown",
   "id": "514a0d3f",
   "metadata": {},
   "source": [
    "## Genes with GenCode sequence"
   ]
  },
  {
   "cell_type": "code",
   "execution_count": 4,
   "id": "ff868232",
   "metadata": {},
   "outputs": [
    {
     "name": "stdout",
     "output_type": "stream",
     "text": [
      "GenCode gene counts (pc,nc,both): 17668 6423 24091\n"
     ]
    }
   ],
   "source": [
    "def load_gencode_genes(filepath):\n",
    "    gene_set = set()\n",
    "    with open (filepath,'r') as handle:\n",
    "        header = None\n",
    "        for row in handle:\n",
    "            if header is None:\n",
    "                header = row \n",
    "            else:\n",
    "                fields = row.strip().split(',')\n",
    "                tran_id = fields[0]\n",
    "                gene_id = fields[1]\n",
    "                gene_set.add(gene_id)\n",
    "    return gene_set\n",
    "PC_GENES = load_gencode_genes(DATA_DIR + PC_GENE_FILE)\n",
    "NC_GENES = load_gencode_genes(DATA_DIR + NC_GENE_FILE)\n",
    "GC_GENES = PC_GENES.union(NC_GENES)\n",
    "print('GenCode gene counts (pc,nc,both):',len(PC_GENES),len(NC_GENES),len(GC_GENES))"
   ]
  },
  {
   "cell_type": "markdown",
   "id": "56b9df8b",
   "metadata": {},
   "source": [
    "## CNRCI values per gene"
   ]
  },
  {
   "cell_type": "code",
   "execution_count": 5,
   "id": "cc200803",
   "metadata": {},
   "outputs": [],
   "source": [
    "def values_per_gene(filepath,exclude_lines=[]):\n",
    "    all_counts=[]\n",
    "    with open (filepath,'r') as handle:\n",
    "        header = None\n",
    "        for row in handle:\n",
    "            if header is None:\n",
    "                header = row \n",
    "            else:\n",
    "                count_rci = 0\n",
    "                fields = row.strip().split(',')\n",
    "                gene_id = fields.pop(0)\n",
    "                if gene_id in GC_GENES:\n",
    "                    for i in range(len(fields)):\n",
    "                        if fields[i] != 'nan' and i not in exclude_lines:\n",
    "                            count_rci += 1\n",
    "                    all_counts.append(count_rci)\n",
    "    all_counts = np.asarray(all_counts)\n",
    "    return all_counts\n",
    "def analyze_values_per_gene(all_counts):\n",
    "    print(len(all_counts), 'genes examined')\n",
    "    print(np.mean(all_counts), 'average number of CNRCI for one gene')\n",
    "    print(min(all_counts), max(all_counts), 'min and max CNRCI for any gene')\n",
    "    print()\n",
    "    print('Threshold T, Genes with T CNRCI, Genes with more CNRCI, Genes with fewer CNRCI')\n",
    "    for threshold in range(CELL_LINES+1):\n",
    "        equal = np.count_nonzero(all_counts==threshold)\n",
    "        more  = np.count_nonzero(all_counts>threshold)\n",
    "        less  = np.count_nonzero(all_counts<threshold)\n",
    "        print(\"%2d %6d %6d %6d\" % (threshold, equal, more, less))"
   ]
  },
  {
   "cell_type": "code",
   "execution_count": 6,
   "id": "c6a84c6a",
   "metadata": {},
   "outputs": [
    {
     "name": "stdout",
     "output_type": "stream",
     "text": [
      "Protein-coding genes with some number of CNRCI values\n",
      "17668 genes examined\n",
      "9.59310618066561 average number of CNRCI for one gene\n",
      "1 15 min and max CNRCI for any gene\n",
      "\n",
      "Threshold T, Genes with T CNRCI, Genes with more CNRCI, Genes with fewer CNRCI\n",
      " 0      0  17668      0\n",
      " 1   1137  16531      0\n",
      " 2   1010  15521   1137\n",
      " 3    850  14671   2147\n",
      " 4    716  13955   2997\n",
      " 5    662  13293   3713\n",
      " 6    653  12640   4375\n",
      " 7    600  12040   5028\n",
      " 8    686  11354   5628\n",
      " 9    747  10607   6314\n",
      "10    922   9685   7061\n",
      "11   1246   8439   7983\n",
      "12   1654   6785   9229\n",
      "13   2256   4529  10883\n",
      "14   2756   1773  13139\n",
      "15   1773      0  15895\n"
     ]
    }
   ],
   "source": [
    "print('Protein-coding genes with some number of CNRCI values')\n",
    "filepath = DATA_DIR + PC_RCI_FILE\n",
    "counts = values_per_gene(filepath,exclude_lines=EXCLUDE)\n",
    "analyze_values_per_gene(counts)"
   ]
  },
  {
   "cell_type": "code",
   "execution_count": 7,
   "id": "e9a9e1c3",
   "metadata": {},
   "outputs": [
    {
     "name": "stdout",
     "output_type": "stream",
     "text": [
      "Non-coding genes with some number of CNRCI values\n",
      "6423 genes examined\n",
      "4.154756344387358 average number of CNRCI for one gene\n",
      "1 15 min and max CNRCI for any gene\n",
      "\n",
      "Threshold T, Genes with T CNRCI, Genes with more CNRCI, Genes with fewer CNRCI\n",
      " 0      0   6423      0\n",
      " 1   2004   4419      0\n",
      " 2    992   3427   2004\n",
      " 3    670   2757   2996\n",
      " 4    504   2253   3666\n",
      " 5    417   1836   4170\n",
      " 6    342   1494   4587\n",
      " 7    300   1194   4929\n",
      " 8    256    938   5229\n",
      " 9    202    736   5485\n",
      "10    223    513   5687\n",
      "11    161    352   5910\n",
      "12    138    214   6071\n",
      "13    110    104   6209\n",
      "14     78     26   6319\n",
      "15     26      0   6397\n"
     ]
    }
   ],
   "source": [
    "print('Non-coding genes with some number of CNRCI values')\n",
    "filepath = DATA_DIR + NC_RCI_FILE\n",
    "counts = values_per_gene(filepath)\n",
    "analyze_values_per_gene(counts)"
   ]
  },
  {
   "cell_type": "markdown",
   "id": "02e2c044",
   "metadata": {},
   "source": [
    "## Values per cell line"
   ]
  },
  {
   "cell_type": "code",
   "execution_count": 8,
   "id": "e3e4d7b8",
   "metadata": {},
   "outputs": [],
   "source": [
    "def values_per_cell_line(filepath):\n",
    "    names = np.zeros(CELL_LINES)\n",
    "    values = []\n",
    "    for i in range(CELL_LINES):\n",
    "        values.append([])\n",
    "    with open (filepath,'r') as handle:\n",
    "        header = None\n",
    "        for row in handle:\n",
    "            row = row.strip()\n",
    "            if header is None:\n",
    "                header = row \n",
    "                # ignore col 0 = 'gene_id'\n",
    "                names = row.split(',')\n",
    "                names.pop(0)\n",
    "            else:\n",
    "                fields = row.split(',')\n",
    "                gene_id = fields.pop(0)\n",
    "                if gene_id in GC_GENES:\n",
    "                    for i in range(len(fields)):\n",
    "                        if fields[i] != 'nan':\n",
    "                            value = float(fields[i])\n",
    "                            values[i].append(value)\n",
    "    return names,values\n",
    "def analyze_values_per_cell_line(names,counts,exclude_lines=[]):\n",
    "    print('Cell line, count, mean, stdev, min, max')\n",
    "    for i in range(len(names)):\n",
    "        if i not in exclude_lines:\n",
    "            #print(\"%8s %6d %6.3f %6.3f %6.3f %6.3f \" %\n",
    "            #    (names[i], len(counts[i]), np.mean(counts[i]), np.std(counts[i]),\n",
    "            #    min(counts[i]), max(counts[i])))\n",
    "            print(names[i], len(counts[i]), np.mean(counts[i]), np.std(counts[i]),\n",
    "                min(counts[i]), max(counts[i]))"
   ]
  },
  {
   "cell_type": "code",
   "execution_count": 9,
   "id": "c01b37e9",
   "metadata": {},
   "outputs": [
    {
     "name": "stdout",
     "output_type": "stream",
     "text": [
      "Protein-coding CNRCI values per cell line\n",
      "Cell line, count, mean, stdev, min, max\n",
      "A549 13011 -0.056876129296902625 1.1947761160368826 -6.45121 10.5541\n",
      "H1.hESC 16387 -0.03566786461030085 1.2803003889292162 -6.61208 6.76404\n",
      "HeLa.S3 8778 -0.04764011320369104 1.5176974528727853 -7.52878 4.40693\n",
      "HepG2 11844 -0.2679212828378082 1.700094207133356 -8.02377 4.48684\n",
      "HT1080 11996 0.03182446937829277 1.2241419443773964 -7.33092 3.90689\n",
      "HUVEC 12889 -0.1938931582919544 1.4508190643351646 -7.3837 5.47449\n",
      "MCF.7 13908 -0.22639405178623814 1.692214888091745 -8.19311 6.63662\n",
      "NCI.H460 10566 -0.32241901070565965 1.2743598039017643 -8.93799 6.48113\n",
      "NHEK 10976 -0.24475720787591107 1.3570799541571847 -7.38627 3.61471\n",
      "SK.MEL.5 10500 -0.03390146483590477 1.656405451671528 -8.47407 5.6231\n",
      "SK.N.DZ 10644 0.03877351828391583 1.1421726466128805 -6.58496 3.97728\n",
      "SK.N.SH 12141 -0.33746653690783296 1.7121380352115043 -8.13443 6.16065\n",
      "GM12878 12511 -0.22194632432595318 1.30557280957447 -6.93074 5.1883\n",
      "K562 8333 -0.1205005341773671 1.4397563710887298 -6.36729 4.97154\n",
      "IMR.90 5007 -0.0625304611783503 1.585887599772681 -7.23939 4.73997\n"
     ]
    }
   ],
   "source": [
    "print('Protein-coding CNRCI values per cell line')\n",
    "filepath = DATA_DIR + PC_RCI_FILE\n",
    "names,counts = values_per_cell_line(filepath)\n",
    "analyze_values_per_cell_line(names,counts,exclude_lines=EXCLUDE)"
   ]
  },
  {
   "cell_type": "code",
   "execution_count": 10,
   "id": "c41dbd58",
   "metadata": {},
   "outputs": [
    {
     "name": "stdout",
     "output_type": "stream",
     "text": [
      "Non-coding CNRCI values per cell line\n",
      "Cell line, count, mean, stdev, min, max\n",
      "A549 2018 -0.5502883531764123 1.6358036485839058 -5.59991 4.49338\n",
      "H1.hESC 4669 -0.4594495390511887 1.549763348670568 -6.47018 5.58139\n",
      "HeLa.S3 1248 -1.5686552029647436 1.8659041625283603 -7.5727 4.14975\n",
      "HepG2 1900 -1.4432894830263159 1.9852199108638904 -7.57193 3.64697\n",
      "HT1080 1288 -0.5655285576863355 1.8511188761594475 -7.74147 4.24793\n",
      "HUVEC 2089 -1.3906608333221635 2.053116678411728 -8.23002 3.64386\n",
      "MCF.7 2951 -1.576154710223653 2.1831108992870694 -9.1779 4.16993\n",
      "NCI.H460 861 -1.5200252442508713 1.8878196622987138 -7.61176 4.58496\n",
      "NHEK 1497 -1.2024822903139614 1.979496429550201 -8.40027 3.46877\n",
      "SK.MEL.5 763 -1.785872140065531 2.1795594855117044 -10.255 3.97389\n",
      "SK.N.DZ 848 -0.6133945319339623 1.5763191114750537 -8.33023 3.20511\n",
      "SK.N.SH 2291 -1.384835979113924 2.1358692865483238 -9.53877 4.05156\n",
      "GM12878 2379 -1.17181106790248 1.616109226810934 -8.32125 3.36075\n",
      "K562 1334 -1.0011880146476761 1.6835658537003675 -6.66607 4.35815\n",
      "IMR.90 550 -0.7531138621818182 2.140837486757388 -7.89269 3.69488\n"
     ]
    }
   ],
   "source": [
    "print('Non-coding CNRCI values per cell line')\n",
    "filepath = DATA_DIR + NC_RCI_FILE\n",
    "names,counts = values_per_cell_line(filepath)\n",
    "analyze_values_per_cell_line(names,counts,exclude_lines=EXCLUDE)"
   ]
  },
  {
   "cell_type": "markdown",
   "id": "d4283435",
   "metadata": {},
   "source": [
    "## Correlations"
   ]
  },
  {
   "cell_type": "code",
   "execution_count": 11,
   "id": "25a95156",
   "metadata": {},
   "outputs": [],
   "source": [
    "def load_RCI_data(filepath,exclude_lines=[]):\n",
    "    cell_line_names = []  # list of 15 names like A549\n",
    "    cell_line_maps  = []  # 15 maps for 15 cell lines, each maps one gene name to one RCI value\n",
    "    with open (filepath,'r') as handle:\n",
    "        header = None\n",
    "        for row in handle:\n",
    "            line = row.strip()\n",
    "            fields = line.split(',')\n",
    "            if header is None:\n",
    "                header = row \n",
    "                # exclude column 0 = gene name\n",
    "                for col in range(1,len(fields)): \n",
    "                    cell_line_name = fields[col]\n",
    "                    cell_line_names.append(cell_line_name)\n",
    "                    # start a new empty map for each column\n",
    "                    cell_line_genes = {}\n",
    "                    cell_line_maps.append(cell_line_genes)\n",
    "            else:\n",
    "                gene_id = fields[0]\n",
    "                if gene_id in GC_GENES:\n",
    "                    for col in range(1,len(fields)): \n",
    "                        rci_val = fields[col]\n",
    "                        if rci_val != \"nan\":\n",
    "                            real_value = float(rci_val)\n",
    "                            position = col-1 # 1st cell line in position 0\n",
    "                            cell_line_name = cell_line_names[position] \n",
    "                            cell_line_map  = cell_line_maps[position]\n",
    "                            cell_line_map[gene_id] = real_value \n",
    "    for i in exclude_lines:\n",
    "        print('Exclude cell line', i, cell_line_names[i])\n",
    "        del cell_line_names[i]\n",
    "        del cell_line_maps[i]\n",
    "    if len(exclude_lines)==0:\n",
    "        print('No cell lines excluded.')\n",
    "    print('Remaining cell lines:',cell_line_names)\n",
    "    return cell_line_names, cell_line_maps"
   ]
  },
  {
   "cell_type": "code",
   "execution_count": 12,
   "id": "7fffeacd",
   "metadata": {},
   "outputs": [],
   "source": [
    "def all_vs_all_intersection(names,maps):\n",
    "    NUM = len(maps)\n",
    "    SHOW = 0\n",
    "    for i in range(NUM):\n",
    "        print(names[i],end=',')\n",
    "    print()\n",
    "    for i in range(NUM):\n",
    "        i_genes = set(maps[i].keys())\n",
    "        for j in range(NUM):\n",
    "            j_genes = set(maps[j].keys())\n",
    "            section = i_genes.intersection(j_genes)\n",
    "            SHOW = len(section)\n",
    "            #if i==0:\n",
    "            #    SHOW = len(j_genes)\n",
    "            #elif j==0:\n",
    "            #    SHOW = len(i_genes)\n",
    "            print(SHOW,end=',')\n",
    "        print()"
   ]
  },
  {
   "cell_type": "code",
   "execution_count": 13,
   "id": "e8c0dfc9",
   "metadata": {},
   "outputs": [],
   "source": [
    "def all_vs_all_correlation(names,maps):\n",
    "    NUM = len(maps)\n",
    "    # heading\n",
    "    for i in range(NUM):\n",
    "        print(names[i],end=',')\n",
    "    print()\n",
    "    # table\n",
    "    for i in range(NUM):\n",
    "        i_genes = set(maps[i].keys())\n",
    "        for j in range(NUM):\n",
    "            j_genes = set(maps[j].keys())\n",
    "            common_genes = i_genes.intersection(j_genes)\n",
    "            i_values = np.array([maps[i][k] for k in common_genes])\n",
    "            j_values = np.array([maps[j][k] for k in common_genes])\n",
    "            r,p = ss.pearsonr(i_values,j_values)\n",
    "            print('%.2f' % r, end=',')\n",
    "        print()"
   ]
  },
  {
   "cell_type": "code",
   "execution_count": 14,
   "id": "c6718a43",
   "metadata": {},
   "outputs": [],
   "source": [
    "def get_union(maps):\n",
    "    union = set()\n",
    "    for i in range(len(maps)):\n",
    "        one_map = maps[i]\n",
    "        genes = one_map.keys()\n",
    "        union = union.union(genes)\n",
    "    return union\n",
    "def get_intersection(maps):\n",
    "    section = set()\n",
    "    for i in range(len(maps)):\n",
    "        one_map = maps[i]\n",
    "        genes = set(one_map.keys())\n",
    "        if i==0:\n",
    "            pass\n",
    "        elif i==1:\n",
    "            section = genes\n",
    "        else:\n",
    "            section = section.intersection(genes)\n",
    "    return section\n",
    "def show_rci_counts_table(names,maps):\n",
    "    section = get_intersection(maps)\n",
    "    print('The intersection of RCI values contains',len(section),'genes.')\n",
    "    print('All vs all intersection')\n",
    "    all_vs_all_intersection(names,maps)"
   ]
  },
  {
   "cell_type": "markdown",
   "id": "cfdff656",
   "metadata": {},
   "source": [
    "## Coding"
   ]
  },
  {
   "cell_type": "code",
   "execution_count": 15,
   "id": "68c9e108",
   "metadata": {},
   "outputs": [
    {
     "name": "stdout",
     "output_type": "stream",
     "text": [
      "No cell lines excluded.\n",
      "Remaining cell lines: ['A549', 'H1.hESC', 'HeLa.S3', 'HepG2', 'HT1080', 'HUVEC', 'MCF.7', 'NCI.H460', 'NHEK', 'SK.MEL.5', 'SK.N.DZ', 'SK.N.SH', 'GM12878', 'K562', 'IMR.90']\n",
      "The union of RCI values contains 17668 genes.\n"
     ]
    }
   ],
   "source": [
    "filepath = DATA_DIR + PC_RCI_FILE\n",
    "cl_names,cl_maps = load_RCI_data(filepath,exclude_lines=EXCLUDE)\n",
    "#print('Coding Genes: number of RCI values per cell line')\n",
    "#for i in range(len(cl_names)):\n",
    "#    print('%2d %10s %5d' % (i, cl_names[i], len(cl_maps[i].keys())))\n",
    "union = get_union(cl_maps)\n",
    "print('The union of RCI values contains',len(union),'genes.')"
   ]
  },
  {
   "cell_type": "code",
   "execution_count": 16,
   "id": "c94dacd2",
   "metadata": {},
   "outputs": [
    {
     "name": "stdout",
     "output_type": "stream",
     "text": [
      "The intersection of RCI values contains 1787 genes.\n",
      "All vs all intersection\n",
      "A549,H1.hESC,HeLa.S3,HepG2,HT1080,HUVEC,MCF.7,NCI.H460,NHEK,SK.MEL.5,SK.N.DZ,SK.N.SH,GM12878,K562,IMR.90,\n",
      "13011,12706,8021,10490,10803,11345,11930,9734,9551,9552,9483,10596,10696,7610,4638,\n",
      "12706,16387,8614,11572,11762,12622,13546,10442,10657,10368,10559,11851,12074,8202,4941,\n",
      "8021,8614,8778,7696,7822,8085,8346,7134,7269,7062,6901,7586,7746,5992,3386,\n",
      "10490,11572,7696,11844,10028,10552,10960,9097,9082,9037,8937,9830,10127,7432,4245,\n",
      "10803,11762,7822,10028,11996,11067,11218,9595,9346,9600,9425,10241,10392,7421,4344,\n",
      "11345,12622,8085,10552,11067,12889,11878,9862,9774,9775,9709,10794,10902,7721,4556,\n",
      "11930,13546,8346,10960,11218,11878,13908,10107,10067,9995,9953,11023,11261,7888,4623,\n",
      "9734,10442,7134,9097,9595,9862,10107,10566,8346,8759,8594,9088,9283,6751,3821,\n",
      "9551,10657,7269,9082,9346,9774,10067,8346,10976,8263,8086,9219,9245,6893,4151,\n",
      "9552,10368,7062,9037,9600,9775,9995,8759,8263,10500,8597,9031,9305,6766,3813,\n",
      "9483,10559,6901,8937,9425,9709,9953,8594,8086,8597,10644,9068,9231,6661,3756,\n",
      "10596,11851,7586,9830,10241,10794,11023,9088,9219,9031,9068,12141,10116,7287,4533,\n",
      "10696,12074,7746,10127,10392,10902,11261,9283,9245,9305,9231,10116,12511,7526,4227,\n",
      "7610,8202,5992,7432,7421,7721,7888,6751,6893,6766,6661,7287,7526,8333,3414,\n",
      "4638,4941,3386,4245,4344,4556,4623,3821,4151,3813,3756,4533,4227,3414,5007,\n"
     ]
    }
   ],
   "source": [
    "show_rci_counts_table(cl_names,cl_maps)"
   ]
  },
  {
   "cell_type": "code",
   "execution_count": 17,
   "id": "d79487b3",
   "metadata": {},
   "outputs": [
    {
     "name": "stdout",
     "output_type": "stream",
     "text": [
      "All vs all correlation\n",
      "A549,H1.hESC,HeLa.S3,HepG2,HT1080,HUVEC,MCF.7,NCI.H460,NHEK,SK.MEL.5,SK.N.DZ,SK.N.SH,GM12878,K562,IMR.90,\n",
      "1.00,0.73,0.82,0.78,0.74,0.72,0.76,0.56,0.79,0.56,0.66,0.86,0.70,0.69,0.78,\n",
      "0.73,1.00,0.71,0.68,0.51,0.55,0.58,0.38,0.58,0.38,0.55,0.72,0.58,0.65,0.63,\n",
      "0.82,0.71,1.00,0.87,0.76,0.80,0.81,0.59,0.79,0.72,0.74,0.84,0.83,0.85,0.80,\n",
      "0.78,0.68,0.87,1.00,0.73,0.83,0.83,0.55,0.74,0.72,0.77,0.84,0.84,0.86,0.83,\n",
      "0.74,0.51,0.76,0.73,1.00,0.81,0.76,0.59,0.83,0.74,0.66,0.73,0.70,0.75,0.78,\n",
      "0.72,0.55,0.80,0.83,0.81,1.00,0.86,0.58,0.78,0.81,0.73,0.78,0.80,0.85,0.91,\n",
      "0.76,0.58,0.81,0.83,0.76,0.86,1.00,0.61,0.75,0.81,0.74,0.82,0.77,0.81,0.86,\n",
      "0.56,0.38,0.59,0.55,0.59,0.58,0.61,1.00,0.53,0.63,0.62,0.59,0.55,0.56,0.53,\n",
      "0.79,0.58,0.79,0.74,0.83,0.78,0.75,0.53,1.00,0.63,0.60,0.76,0.68,0.72,0.74,\n",
      "0.56,0.38,0.72,0.72,0.74,0.81,0.81,0.63,0.63,1.00,0.74,0.69,0.70,0.77,0.82,\n",
      "0.66,0.55,0.74,0.77,0.66,0.73,0.74,0.62,0.60,0.74,1.00,0.74,0.76,0.79,0.74,\n",
      "0.86,0.72,0.84,0.84,0.73,0.78,0.82,0.59,0.76,0.69,0.74,1.00,0.72,0.75,0.87,\n",
      "0.70,0.58,0.83,0.84,0.70,0.80,0.77,0.55,0.68,0.70,0.76,0.72,1.00,0.89,0.78,\n",
      "0.69,0.65,0.85,0.86,0.75,0.85,0.81,0.56,0.72,0.77,0.79,0.75,0.89,1.00,0.82,\n",
      "0.78,0.63,0.80,0.83,0.78,0.91,0.86,0.53,0.74,0.82,0.74,0.87,0.78,0.82,1.00,\n"
     ]
    }
   ],
   "source": [
    "print('All vs all correlation')\n",
    "all_vs_all_correlation(cl_names,cl_maps)"
   ]
  },
  {
   "cell_type": "markdown",
   "id": "149c700a",
   "metadata": {},
   "source": [
    "## Non-coding"
   ]
  },
  {
   "cell_type": "code",
   "execution_count": 18,
   "id": "f2e499ba",
   "metadata": {},
   "outputs": [
    {
     "name": "stdout",
     "output_type": "stream",
     "text": [
      "No cell lines excluded.\n",
      "Remaining cell lines: ['A549', 'H1.hESC', 'HeLa.S3', 'HepG2', 'HT1080', 'HUVEC', 'MCF.7', 'NCI.H460', 'NHEK', 'SK.MEL.5', 'SK.N.DZ', 'SK.N.SH', 'GM12878', 'K562', 'IMR.90']\n",
      "The union of RCI values contains 6423 genes.\n"
     ]
    }
   ],
   "source": [
    "filepath = DATA_DIR + NC_RCI_FILE\n",
    "cl_names,cl_maps = load_RCI_data(filepath,exclude_lines=EXCLUDE)\n",
    "#print('Noncoding Genes: number of RCI values per cell line')\n",
    "#for i in range(len(cl_names)):\n",
    "#    print('%2d %10s %5d' % (i, cl_names[i], len(cl_maps[i].keys())))\n",
    "union = get_union(cl_maps)\n",
    "print('The union of RCI values contains',len(union),'genes.')"
   ]
  },
  {
   "cell_type": "code",
   "execution_count": 19,
   "id": "cb6f45ef",
   "metadata": {},
   "outputs": [
    {
     "name": "stdout",
     "output_type": "stream",
     "text": [
      "The intersection of RCI values contains 29 genes.\n",
      "All vs all intersection\n",
      "A549,H1.hESC,HeLa.S3,HepG2,HT1080,HUVEC,MCF.7,NCI.H460,NHEK,SK.MEL.5,SK.N.DZ,SK.N.SH,GM12878,K562,IMR.90,\n",
      "2018,1740,706,1053,828,1137,1457,601,845,516,536,1232,1166,739,408,\n",
      "1740,4669,1070,1639,1111,1782,2419,809,1273,686,786,1936,1953,1162,498,\n",
      "706,1070,1248,677,494,690,909,364,551,321,340,732,737,491,210,\n",
      "1053,1639,677,1900,779,1099,1346,594,864,512,555,1147,1163,718,359,\n",
      "828,1111,494,779,1288,881,986,532,693,481,492,909,891,547,312,\n",
      "1137,1782,690,1099,881,2089,1451,616,945,548,596,1295,1262,772,397,\n",
      "1457,2419,909,1346,986,1451,2951,704,1100,611,670,1559,1549,924,445,\n",
      "601,809,364,594,532,616,704,861,494,367,386,607,638,389,200,\n",
      "845,1273,551,864,693,945,1100,494,1497,460,445,968,916,570,323,\n",
      "516,686,321,512,481,548,611,367,460,763,340,561,552,362,198,\n",
      "536,786,340,555,492,596,670,386,445,340,848,612,605,381,209,\n",
      "1232,1936,732,1147,909,1295,1559,607,968,561,612,2291,1267,804,427,\n",
      "1166,1953,737,1163,891,1262,1549,638,916,552,605,1267,2379,862,372,\n",
      "739,1162,491,718,547,772,924,389,570,362,381,804,862,1334,249,\n",
      "408,498,210,359,312,397,445,200,323,198,209,427,372,249,550,\n"
     ]
    }
   ],
   "source": [
    "show_rci_counts_table(cl_names,cl_maps)"
   ]
  },
  {
   "cell_type": "code",
   "execution_count": 20,
   "id": "e3873685",
   "metadata": {},
   "outputs": [
    {
     "name": "stdout",
     "output_type": "stream",
     "text": [
      "All vs all correlation\n",
      "A549,H1.hESC,HeLa.S3,HepG2,HT1080,HUVEC,MCF.7,NCI.H460,NHEK,SK.MEL.5,SK.N.DZ,SK.N.SH,GM12878,K562,IMR.90,\n",
      "1.00,0.57,0.73,0.81,0.76,0.81,0.80,0.59,0.79,0.66,0.73,0.82,0.73,0.71,0.83,\n",
      "0.57,1.00,0.55,0.54,0.39,0.49,0.39,0.33,0.41,0.25,0.46,0.53,0.45,0.59,0.60,\n",
      "0.73,0.55,1.00,0.79,0.77,0.74,0.73,0.66,0.79,0.77,0.71,0.80,0.72,0.77,0.75,\n",
      "0.81,0.54,0.79,1.00,0.81,0.87,0.82,0.63,0.78,0.72,0.75,0.81,0.82,0.81,0.83,\n",
      "0.76,0.39,0.77,0.81,1.00,0.83,0.83,0.67,0.81,0.81,0.73,0.83,0.68,0.73,0.85,\n",
      "0.81,0.49,0.74,0.87,0.83,1.00,0.86,0.67,0.82,0.77,0.73,0.84,0.78,0.81,0.89,\n",
      "0.80,0.39,0.73,0.82,0.83,0.86,1.00,0.64,0.80,0.80,0.73,0.82,0.71,0.75,0.86,\n",
      "0.59,0.33,0.66,0.63,0.67,0.67,0.64,1.00,0.60,0.71,0.68,0.66,0.57,0.54,0.59,\n",
      "0.79,0.41,0.79,0.78,0.81,0.82,0.80,0.60,1.00,0.74,0.67,0.83,0.69,0.67,0.81,\n",
      "0.66,0.25,0.77,0.72,0.81,0.77,0.80,0.71,0.74,1.00,0.72,0.74,0.66,0.71,0.79,\n",
      "0.73,0.46,0.71,0.75,0.73,0.73,0.73,0.68,0.67,0.72,1.00,0.70,0.74,0.78,0.75,\n",
      "0.82,0.53,0.80,0.81,0.83,0.84,0.82,0.66,0.83,0.74,0.70,1.00,0.67,0.69,0.87,\n",
      "0.73,0.45,0.72,0.82,0.68,0.78,0.71,0.57,0.69,0.66,0.74,0.67,1.00,0.83,0.71,\n",
      "0.71,0.59,0.77,0.81,0.73,0.81,0.75,0.54,0.67,0.71,0.78,0.69,0.83,1.00,0.74,\n",
      "0.83,0.60,0.75,0.83,0.85,0.89,0.86,0.59,0.81,0.79,0.75,0.87,0.71,0.74,1.00,\n"
     ]
    }
   ],
   "source": [
    "print('All vs all correlation')\n",
    "all_vs_all_correlation(cl_names,cl_maps)"
   ]
  },
  {
   "cell_type": "code",
   "execution_count": null,
   "id": "17206ec1",
   "metadata": {},
   "outputs": [],
   "source": []
  }
 ],
 "metadata": {
  "kernelspec": {
   "display_name": "Python 3 (ipykernel)",
   "language": "python",
   "name": "python3"
  },
  "language_info": {
   "codemirror_mode": {
    "name": "ipython",
    "version": 3
   },
   "file_extension": ".py",
   "mimetype": "text/x-python",
   "name": "python",
   "nbconvert_exporter": "python",
   "pygments_lexer": "ipython3",
   "version": "3.10.0"
  }
 },
 "nbformat": 4,
 "nbformat_minor": 5
}
