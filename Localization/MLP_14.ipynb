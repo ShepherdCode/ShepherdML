{
 "cells": [
  {
   "cell_type": "markdown",
   "metadata": {},
   "source": [
    "# MLP\n",
    "\n",
    "Use one neuron and selected K-mers."
   ]
  },
  {
   "cell_type": "markdown",
   "metadata": {},
   "source": [
    "## Environment setup"
   ]
  },
  {
   "cell_type": "code",
   "execution_count": 1,
   "metadata": {},
   "outputs": [
    {
     "name": "stdout",
     "output_type": "stream",
     "text": [
      "2022-10-20 13:54:00.826253\n",
      "Python 3.10.0\n",
      "sklearn 1.1.2\n"
     ]
    }
   ],
   "source": [
    "from datetime import datetime\n",
    "print(datetime.now())\n",
    "from platform import python_version\n",
    "print('Python',python_version())\n",
    "import numpy as np\n",
    "import pandas as pd\n",
    "from matplotlib import pyplot as plt \n",
    "import sklearn   # pip install --upgrade scikit-learn\n",
    "print('sklearn',sklearn.__version__)"
   ]
  },
  {
   "cell_type": "code",
   "execution_count": 2,
   "metadata": {},
   "outputs": [
    {
     "name": "stdout",
     "output_type": "stream",
     "text": [
      "K= 4 alphabet size= 4 vocabulary size= 256\n"
     ]
    }
   ],
   "source": [
    "from sklearn.model_selection import ShuffleSplit\n",
    "from sklearn.model_selection import cross_val_score\n",
    "from sklearn.model_selection import RepeatedKFold\n",
    "from sklearn.model_selection import StratifiedKFold\n",
    "import tensorflow as tf\n",
    "from tensorflow import keras\n",
    "from keras.wrappers.scikit_learn import KerasRegressor\n",
    "from keras.models import Sequential\n",
    "from keras.layers import Bidirectional\n",
    "from keras.layers import Dense\n",
    "from keras.layers import LayerNormalization\n",
    "\n",
    "dt='float32'\n",
    "tf.keras.backend.set_floatx(dt)\n",
    "\n",
    "tf.random.set_seed(42) # reproducible training sessions?\n",
    "\n",
    "from KmerCounter import KmerCounter\n",
    "ALPHABET_SIZE=4\n",
    "K=4\n",
    "counter=KmerCounter(K)\n",
    "VOCABULARY_SIZE = counter.get_vocabulary_size() \n",
    "print('K=',K,'alphabet size=',ALPHABET_SIZE,'vocabulary size=',VOCABULARY_SIZE)\n",
    "from TrainValidSplit2 import Splitter2\n",
    "EPOCHS=5\n",
    "from cell_lines import Cell_Lines\n",
    "CELL_LINE_NUMBER = 0"
   ]
  },
  {
   "cell_type": "code",
   "execution_count": 3,
   "metadata": {},
   "outputs": [],
   "source": [
    "ATLAS_DIR = '/Users/jasonmiller/WVU/Localization/LncAtlas/'\n",
    "RCI_FILE = 'CNRCI_coding_train_genes.csv'\n",
    "GENCODE_DIR = '/Users/jasonmiller/WVU/Localization/GenCode/'\n",
    "COUNTS_FILE='CNRCI_coding_train_counts.K4.csv'"
   ]
  },
  {
   "cell_type": "code",
   "execution_count": 4,
   "metadata": {},
   "outputs": [
    {
     "name": "stdout",
     "output_type": "stream",
     "text": [
      "Cell line for today: 0 = A549\n"
     ]
    }
   ],
   "source": [
    "# Consider a Cell_Lines object to represent today's cell line.\n",
    "all_cell_lines = Cell_Lines.get_ordered_list()\n",
    "cell_line_name = all_cell_lines[CELL_LINE_NUMBER]\n",
    "print('Cell line for today:',CELL_LINE_NUMBER,'=',cell_line_name)"
   ]
  },
  {
   "cell_type": "markdown",
   "metadata": {},
   "source": [
    "## Model design"
   ]
  },
  {
   "cell_type": "code",
   "execution_count": 5,
   "metadata": {},
   "outputs": [],
   "source": [
    "def build_model():\n",
    "    # Here is the joke model -- one neuron!\n",
    "    mlp = keras.models.Sequential()\n",
    "    one_layer = keras.layers.Dense(1, activation='sigmoid',dtype=dt,\n",
    "                                      input_dim=VOCABULARY_SIZE)\n",
    "    mlp.add(one_layer)\n",
    "      \n",
    "    bc=tf.keras.losses.BinaryCrossentropy(from_logits=False)\n",
    "    print(\"COMPILE...\")\n",
    "    mlp.compile(loss=bc, optimizer=\"Adam\",metrics=[\"accuracy\"])\n",
    "    print(\"...COMPILED\")\n",
    "    return mlp"
   ]
  },
  {
   "cell_type": "code",
   "execution_count": 6,
   "metadata": {
    "scrolled": true
   },
   "outputs": [
    {
     "name": "stdout",
     "output_type": "stream",
     "text": [
      "2022-10-20 13:54:13.566961\n",
      "COMPILE...\n",
      "...COMPILED\n",
      "Summarize the model\n",
      "Model: \"sequential\"\n",
      "_________________________________________________________________\n",
      " Layer (type)                Output Shape              Param #   \n",
      "=================================================================\n",
      " dense (Dense)               (None, 1)                 257       \n",
      "                                                                 \n",
      "=================================================================\n",
      "Total params: 257\n",
      "Trainable params: 257\n",
      "Non-trainable params: 0\n",
      "_________________________________________________________________\n",
      "None\n"
     ]
    },
    {
     "name": "stderr",
     "output_type": "stream",
     "text": [
      "2022-10-20 13:54:13.574287: I tensorflow/core/platform/cpu_feature_guard.cc:193] This TensorFlow binary is optimized with oneAPI Deep Neural Network Library (oneDNN) to use the following CPU instructions in performance-critical operations:  AVX2 FMA\n",
      "To enable them in other operations, rebuild TensorFlow with the appropriate compiler flags.\n"
     ]
    }
   ],
   "source": [
    "# Model setup\n",
    "print(datetime.now())\n",
    "model=build_model()\n",
    "print (\"Summarize the model\")\n",
    "print(model.summary())  # Print this only once"
   ]
  },
  {
   "cell_type": "markdown",
   "metadata": {},
   "source": [
    "## Load the data"
   ]
  },
  {
   "cell_type": "code",
   "execution_count": 7,
   "metadata": {},
   "outputs": [
    {
     "name": "stdout",
     "output_type": "stream",
     "text": [
      "2022-10-20 13:54:13.687635\n",
      "Loaded values for cell line 0\n",
      "Selected 10354 values out of 13930\n",
      "2022-10-20 13:54:16.877445\n"
     ]
    }
   ],
   "source": [
    "# Data setup\n",
    "print(datetime.now())\n",
    "Kmer_counts_filepath = GENCODE_DIR+COUNTS_FILE\n",
    "atlas_filepath = ATLAS_DIR+RCI_FILE\n",
    "\n",
    "splitter=Splitter2()\n",
    "splitter.load_counts_universe(Kmer_counts_filepath)\n",
    "universe = splitter.get_gene_universe(atlas_filepath, CELL_LINE_NUMBER)\n",
    "print(datetime.now())"
   ]
  },
  {
   "cell_type": "markdown",
   "metadata": {},
   "source": [
    "## Train and validate with all K-mer counts"
   ]
  },
  {
   "cell_type": "code",
   "execution_count": 8,
   "metadata": {},
   "outputs": [],
   "source": [
    "def list_Kmers_with_extreme_weights(weights):\n",
    "    show_kmer = 'AAAA'\n",
    "    MIN = -0.1\n",
    "    MAX = 0.1\n",
    "    pairs = []\n",
    "    for i in range(len(weights)):\n",
    "        val = float(weights[i])\n",
    "        pair = (show_kmer,val,i)\n",
    "        pairs.append(pair)\n",
    "        show_kmer = counter.next_kmer(show_kmer)  # assume global counts\n",
    "    ms = [x[0] for x in pairs if (x[1]< MIN or x[1]> MAX) ]\n",
    "    print('Extreme K-mers',ms)\n",
    "    #ws = [x[1] for x in pairs if (x[1]< MIN or x[1]> MAX) ]\n",
    "    #print('Their weights',ws)\n",
    "    indices = [x[2] for x in pairs if (x[1]< MIN or x[1]> MAX) ]\n",
    "    #print('Their indices',indices)\n",
    "    return indices"
   ]
  },
  {
   "cell_type": "code",
   "execution_count": 9,
   "metadata": {},
   "outputs": [
    {
     "name": "stdout",
     "output_type": "stream",
     "text": [
      "splitting\n",
      "2022-10-20 13:54:16.944545\n",
      "Train sizes 12019 12019\n",
      "Valid sizes 2795 2795\n",
      "Thresholds (-1.266972910885237, 1.1401767974371442)\n",
      "Train set ones/size 5469 / 12019\n",
      "Valid set ones/size 1418 / 2795\n",
      "BUILD MODEL\n",
      "COMPILE...\n",
      "...COMPILED\n",
      "FIT\n",
      "2022-10-20 13:54:17.091834\n",
      "Epoch 1/5\n",
      "376/376 [==============================] - 1s 2ms/step - loss: 1.1294 - accuracy: 0.7267\n",
      "Epoch 2/5\n",
      "376/376 [==============================] - 1s 2ms/step - loss: 0.5720 - accuracy: 0.7795\n",
      "Epoch 3/5\n",
      "376/376 [==============================] - 1s 2ms/step - loss: 0.4991 - accuracy: 0.7967\n",
      "Epoch 4/5\n",
      "376/376 [==============================] - 1s 2ms/step - loss: 0.4416 - accuracy: 0.8146\n",
      "Epoch 5/5\n",
      "376/376 [==============================] - 1s 2ms/step - loss: 0.4148 - accuracy: 0.8270\n"
     ]
    },
    {
     "data": {
      "image/png": "[encoded data removed]",
      "text/plain": [
       "<Figure size 800x500 with 1 Axes>"
      ]
     },
     "metadata": {},
     "output_type": "display_data"
    },
    {
     "name": "stdout",
     "output_type": "stream",
     "text": [
      "accuracy: 83.04%\n",
      "2022-10-20 13:54:21.382328\n"
     ]
    }
   ],
   "source": [
    "print('splitting')\n",
    "print(datetime.now())\n",
    "data_partitions = splitter.get_train_valid_partitions(universe)\n",
    "one_partition =data_partitions[0]\n",
    "train_genes,valid_genes = one_partition[0],one_partition[1]\n",
    "thresholds = splitter.choose_thresholds(train_genes,'one_z')\n",
    "X_train,y_train = splitter.get_X_y(train_genes, thresholds)\n",
    "X_valid,y_valid = splitter.get_X_y(valid_genes, thresholds)\n",
    "print('Train sizes',len(X_train),len(y_train))\n",
    "print('Valid sizes',len(X_valid),len(y_valid))\n",
    "\n",
    "print('Thresholds',thresholds)\n",
    "print('Train set ones/size',\n",
    "      np.count_nonzero(y_train),'/',len(y_train))\n",
    "print('Valid set ones/size',\n",
    "      np.count_nonzero(y_valid),'/',len(y_valid))\n",
    "\n",
    "print(\"BUILD MODEL\")\n",
    "model=build_model()\n",
    "\n",
    "print(\"FIT\")\n",
    "print(datetime.now())\n",
    "history=model.fit(X_train, y_train, # batch_size=10, default=32 works nicely\n",
    "        epochs=EPOCHS, verbose=1)  # verbose=1 for ascii art, verbose=0 for none\n",
    "        #validation_data=(X_valid,y_valid) )\n",
    "\n",
    "pd.DataFrame(history.history).plot(figsize=(8,5))\n",
    "plt.grid(True)\n",
    "plt.gca().set_ylim(0,1)\n",
    "plt.show()\n",
    "\n",
    "scores = model.evaluate(X_valid, y_valid, verbose=0)\n",
    "print(\"%s: %.2f%%\" % (model.metrics_names[1], scores[1]*100))\n",
    "print(datetime.now())"
   ]
  },
  {
   "cell_type": "code",
   "execution_count": 10,
   "metadata": {},
   "outputs": [
    {
     "name": "stdout",
     "output_type": "stream",
     "text": [
      "bias [0.76812756]\n",
      "256 weights min= [-0.15011957] max= [0.20966573]\n",
      "Extreme K-mers ['AAAA', 'AAAC', 'AAAG', 'AAAT', 'AACA', 'AACC', 'AACG', 'AACT', 'AAGA', 'AAGT', 'AATA', 'AATC', 'AATG', 'AATT', 'ACAA', 'ACAC', 'ACAG', 'ACAT', 'ACCA', 'ACCC', 'ACCG', 'ACCT', 'ACGA', 'ACGT', 'ACTA', 'ACTC', 'ACTG', 'ACTT', 'AGAC', 'AGAT', 'AGCA', 'AGCC', 'AGCG', 'AGCT', 'AGGA', 'AGGG', 'AGGT', 'AGTA', 'AGTC', 'AGTG', 'AGTT', 'ATAA', 'ATAC', 'ATAG', 'ATAT', 'ATCA', 'ATCC', 'ATCG', 'ATCT', 'ATGC', 'ATGT', 'ATTA', 'ATTC', 'ATTT', 'CAAA', 'CAAC', 'CAAG', 'CAAT', 'CACA', 'CACC', 'CACG', 'CACT', 'CAGC', 'CAGT', 'CATA', 'CATC', 'CATG', 'CATT', 'CCAA', 'CCAC', 'CCAG', 'CCAT', 'CCCA', 'CCCC', 'CCCG', 'CCCT', 'CCGA', 'CCGC', 'CCGG', 'CCGT', 'CCTA', 'CCTC', 'CCTG', 'CCTT', 'CGAA', 'CGAC', 'CGAG', 'CGAT', 'CGCA', 'CGCC', 'CGCG', 'CGGG', 'CGGT', 'CGTC', 'CGTG', 'CGTT', 'CTAA', 'CTAC', 'CTAG', 'CTAT', 'CTCA', 'CTCC', 'CTCG', 'CTCT', 'CTGA', 'CTGC', 'CTGG', 'CTGT', 'CTTA', 'CTTC', 'CTTG', 'CTTT', 'GAAA', 'GAAC', 'GAAG', 'GAAT', 'GACA', 'GACC', 'GACG', 'GACT', 'GAGA', 'GAGG', 'GAGT', 'GATA', 'GATC', 'GATG', 'GCAA', 'GCAC', 'GCAG', 'GCAT', 'GCCA', 'GCCC', 'GCCG', 'GCCT', 'GCGA', 'GCGC', 'GCGG', 'GCGT', 'GCTA', 'GCTC', 'GCTG', 'GCTT', 'GGAA', 'GGAC', 'GGAG', 'GGAT', 'GGCA', 'GGCG', 'GGGA', 'GGGC', 'GGGG', 'GGTA', 'GGTC', 'GGTG', 'GGTT', 'GTAA', 'GTAC', 'GTAG', 'GTAT', 'GTCA', 'GTCG', 'GTCT', 'GTGA', 'GTGC', 'GTGG', 'GTGT', 'GTTA', 'GTTC', 'GTTG', 'GTTT', 'TAAA', 'TAAG', 'TAAT', 'TACA', 'TACC', 'TACG', 'TACT', 'TAGA', 'TAGC', 'TAGG', 'TAGT', 'TATC', 'TATT', 'TCAA', 'TCAC', 'TCAG', 'TCAT', 'TCCA', 'TCCC', 'TCCG', 'TCGC', 'TCGG', 'TCGT', 'TCTA', 'TCTC', 'TCTG', 'TCTT', 'TGAA', 'TGAC', 'TGAG', 'TGAT', 'TGCA', 'TGCC', 'TGCT', 'TGGA', 'TGGC', 'TGGG', 'TGGT', 'TGTA', 'TGTC', 'TTAA', 'TTAC', 'TTAG', 'TTCA', 'TTCC', 'TTCG', 'TTCT', 'TTGA', 'TTGC', 'TTGG', 'TTGT', 'TTTA', 'TTTC', 'TTTG', 'TTTT']\n"
     ]
    }
   ],
   "source": [
    "# https://www.tensorflow.org/guide/variable\n",
    "w=model.trainable_weights[0].numpy()  # weights\n",
    "b=model.trainable_weights[1].numpy()  # bias\n",
    "print('bias',b)\n",
    "print(len(w),'weights min=',min(w),'max=',max(w))\n",
    "sacred = list_Kmers_with_extreme_weights(w)"
   ]
  },
  {
   "cell_type": "markdown",
   "metadata": {},
   "source": [
    "## Train and validate with only \"top ten\" K-mer counts"
   ]
  },
  {
   "cell_type": "code",
   "execution_count": 11,
   "metadata": {},
   "outputs": [],
   "source": [
    "def zero_unimportant_counts(rows,sacred):\n",
    "    for r in range(len(rows)):\n",
    "        for c in range(len(rows[r])):\n",
    "            if c not in sacred:\n",
    "                rows[r][c]=0"
   ]
  },
  {
   "cell_type": "code",
   "execution_count": 12,
   "metadata": {},
   "outputs": [
    {
     "name": "stdout",
     "output_type": "stream",
     "text": [
      "splitting\n",
      "2022-10-20 13:54:21.466732\n",
      "Train sizes 12019 12019\n",
      "Valid sizes 2795 2795\n",
      "whacking\n",
      "2022-10-20 13:54:21.577861\n",
      "Thresholds (-1.266972910885237, 1.1401767974371442)\n",
      "Train set ones/size 5469 / 12019\n",
      "Valid set ones/size 1418 / 2795\n",
      "BUILD MODEL\n",
      "COMPILE...\n",
      "...COMPILED\n",
      "FIT\n",
      "2022-10-20 13:54:27.894153\n",
      "Epoch 1/5\n",
      "376/376 [==============================] - 1s 2ms/step - loss: 0.7160 - accuracy: 0.7472\n",
      "Epoch 2/5\n",
      "376/376 [==============================] - 1s 2ms/step - loss: 0.5443 - accuracy: 0.7873\n",
      "Epoch 3/5\n",
      "376/376 [==============================] - 1s 2ms/step - loss: 0.4604 - accuracy: 0.8077\n",
      "Epoch 4/5\n",
      "376/376 [==============================] - 1s 2ms/step - loss: 0.4126 - accuracy: 0.8298\n",
      "Epoch 5/5\n",
      "376/376 [==============================] - 1s 2ms/step - loss: 0.3922 - accuracy: 0.8393\n"
     ]
    },
    {
     "data": {
      "image/png": "[encoded data removed]",
      "text/plain": [
       "<Figure size 800x500 with 1 Axes>"
      ]
     },
     "metadata": {},
     "output_type": "display_data"
    },
    {
     "name": "stdout",
     "output_type": "stream",
     "text": [
      "accuracy: 82.54%\n",
      "2022-10-20 13:54:33.334834\n"
     ]
    }
   ],
   "source": [
    "print('splitting')\n",
    "print(datetime.now())\n",
    "data_partitions = splitter.get_train_valid_partitions(universe)\n",
    "one_partition =data_partitions[0]\n",
    "train_genes,valid_genes = one_partition[0],one_partition[1]\n",
    "thresholds = splitter.choose_thresholds(train_genes,'one_z')\n",
    "X_train,y_train = splitter.get_X_y(train_genes, thresholds)\n",
    "X_valid,y_valid = splitter.get_X_y(valid_genes, thresholds)\n",
    "print('Train sizes',len(X_train),len(y_train))\n",
    "print('Valid sizes',len(X_valid),len(y_valid))\n",
    "\n",
    "print('whacking')\n",
    "print(datetime.now())\n",
    "zero_unimportant_counts(X_train,sacred)\n",
    "zero_unimportant_counts(X_valid,sacred)\n",
    "\n",
    "print('Thresholds',thresholds)\n",
    "print('Train set ones/size',\n",
    "      np.count_nonzero(y_train),'/',len(y_train))\n",
    "print('Valid set ones/size',\n",
    "      np.count_nonzero(y_valid),'/',len(y_valid))\n",
    "\n",
    "print(\"BUILD MODEL\")\n",
    "model=build_model()\n",
    "\n",
    "print(\"FIT\")\n",
    "print(datetime.now())\n",
    "history=model.fit(X_train, y_train, # batch_size=10, default=32 works nicely\n",
    "        epochs=EPOCHS, verbose=1)  # verbose=1 for ascii art, verbose=0 for none\n",
    "        #validation_data=(X_valid,y_valid) )\n",
    "\n",
    "pd.DataFrame(history.history).plot(figsize=(8,5))\n",
    "plt.grid(True)\n",
    "plt.gca().set_ylim(0,1)\n",
    "plt.show()\n",
    "\n",
    "scores = model.evaluate(X_valid, y_valid, verbose=0)\n",
    "print(\"%s: %.2f%%\" % (model.metrics_names[1], scores[1]*100))\n",
    "print(datetime.now())"
   ]
  },
  {
   "cell_type": "code",
   "execution_count": 13,
   "metadata": {},
   "outputs": [
    {
     "name": "stdout",
     "output_type": "stream",
     "text": [
      "bias [0.8561143]\n",
      "256 weights min= [-0.16147214] max= [0.15188865]\n",
      "Extreme K-mers ['AAAA', 'AAAC', 'AAAG', 'AAAT', 'AACA', 'AACC', 'AACG', 'AACT', 'AAGA', 'AAGG', 'AAGT', 'AATA', 'AATC', 'AATG', 'AATT', 'ACAA', 'ACAG', 'ACAT', 'ACCA', 'ACCC', 'ACCG', 'ACCT', 'ACGC', 'ACGG', 'ACGT', 'ACTA', 'ACTC', 'ACTG', 'ACTT', 'AGAA', 'AGAG', 'AGAT', 'AGCA', 'AGCC', 'AGCG', 'AGCT', 'AGGA', 'AGGC', 'AGGG', 'AGGT', 'AGTA', 'AGTC', 'AGTG', 'AGTT', 'ATAA', 'ATAC', 'ATAG', 'ATAT', 'ATCC', 'ATCT', 'ATGA', 'ATGC', 'ATGG', 'ATGT', 'ATTA', 'ATTC', 'ATTG', 'ATTT', 'CAAA', 'CAAC', 'CAAG', 'CAAT', 'CACA', 'CACC', 'CACG', 'CACT', 'CAGA', 'CAGC', 'CAGG', 'CAGT', 'CATA', 'CATC', 'CATG', 'CATT', 'CCAA', 'CCAG', 'CCAT', 'CCCA', 'CCCC', 'CCCG', 'CCCT', 'CCGC', 'CCGT', 'CCTC', 'CCTG', 'CCTT', 'CGAA', 'CGAC', 'CGAT', 'CGCA', 'CGCG', 'CGCT', 'CGGA', 'CGGC', 'CGGG', 'CGGT', 'CGTA', 'CGTC', 'CGTG', 'CGTT', 'CTAA', 'CTAC', 'CTAG', 'CTAT', 'CTCA', 'CTCC', 'CTCG', 'CTCT', 'CTGA', 'CTGC', 'CTGG', 'CTGT', 'CTTA', 'CTTC', 'CTTG', 'CTTT', 'GAAA', 'GAAC', 'GAAG', 'GAAT', 'GACA', 'GACC', 'GACT', 'GAGA', 'GAGC', 'GAGG', 'GATA', 'GATG', 'GATT', 'GCAA', 'GCAC', 'GCAG', 'GCAT', 'GCCA', 'GCCC', 'GCCG', 'GCCT', 'GCGA', 'GCGC', 'GCGG', 'GCGT', 'GCTA', 'GCTC', 'GCTG', 'GCTT', 'GGAA', 'GGAC', 'GGAT', 'GGCA', 'GGCC', 'GGCG', 'GGCT', 'GGGA', 'GGGG', 'GGTA', 'GGTC', 'GGTG', 'GGTT', 'GTAA', 'GTAC', 'GTAG', 'GTAT', 'GTCA', 'GTCC', 'GTCT', 'GTGA', 'GTGC', 'GTGG', 'GTGT', 'GTTA', 'GTTC', 'GTTG', 'GTTT', 'TAAA', 'TAAC', 'TAAT', 'TACA', 'TACG', 'TACT', 'TAGA', 'TAGC', 'TAGG', 'TAGT', 'TATA', 'TATC', 'TATG', 'TATT', 'TCAA', 'TCAC', 'TCAG', 'TCAT', 'TCCA', 'TCCC', 'TCCG', 'TCCT', 'TCGA', 'TCGC', 'TCGG', 'TCGT', 'TCTA', 'TCTC', 'TCTG', 'TCTT', 'TGAA', 'TGAC', 'TGAG', 'TGAT', 'TGCA', 'TGCC', 'TGCG', 'TGCT', 'TGGA', 'TGGC', 'TGGG', 'TGGT', 'TGTA', 'TGTC', 'TGTG', 'TGTT', 'TTAA', 'TTAG', 'TTAT', 'TTCG', 'TTCT', 'TTGA', 'TTGC', 'TTGG', 'TTGT', 'TTTA', 'TTTC', 'TTTG', 'TTTT']\n"
     ]
    }
   ],
   "source": [
    "# https://www.tensorflow.org/guide/variable\n",
    "w=model.trainable_weights[0].numpy()  # weights\n",
    "b=model.trainable_weights[1].numpy()  # bias\n",
    "print('bias',b)\n",
    "print(len(w),'weights min=',min(w),'max=',max(w))\n",
    "ignored = list_Kmers_with_extreme_weights(w)"
   ]
  },
  {
   "cell_type": "markdown",
   "metadata": {},
   "source": [
    "## Train and validate with very few K-mer counts"
   ]
  },
  {
   "cell_type": "code",
   "execution_count": 47,
   "metadata": {},
   "outputs": [],
   "source": [
    "def zero_many_counts(rows,mod):\n",
    "    counts = len(rows[0])\n",
    "    for r in range(len(rows)):\n",
    "        for c in range(counts):\n",
    "            if c%mod != 0:\n",
    "                rows[r][c]=0"
   ]
  },
  {
   "cell_type": "code",
   "execution_count": 51,
   "metadata": {},
   "outputs": [
    {
     "name": "stdout",
     "output_type": "stream",
     "text": [
      "splitting\n",
      "2022-10-20 14:10:09.245086\n",
      "Train sizes 12019 12019\n",
      "Valid sizes 2795 2795\n",
      "scaling\n",
      "2022-10-20 14:10:09.373373\n",
      "Thresholds (-1.266972910885237, 1.1401767974371442)\n",
      "2022-10-20 14:10:10.712383\n",
      "Train set ones/size 5469 / 12019\n",
      "Valid set ones/size 1418 / 2795\n",
      "BUILD MODEL\n",
      "2022-10-20 14:10:10.712675\n",
      "COMPILE...\n",
      "...COMPILED\n",
      "FIT\n",
      "2022-10-20 14:10:10.727248\n",
      "Epoch 1/5\n",
      "376/376 [==============================] - 1s 2ms/step - loss: 0.5691 - accuracy: 0.7231\n",
      "Epoch 2/5\n",
      "376/376 [==============================] - 1s 2ms/step - loss: 0.4841 - accuracy: 0.7754\n",
      "Epoch 3/5\n",
      "376/376 [==============================] - 1s 2ms/step - loss: 0.4606 - accuracy: 0.7911\n",
      "Epoch 4/5\n",
      "376/376 [==============================] - 1s 2ms/step - loss: 0.4480 - accuracy: 0.7988\n",
      "Epoch 5/5\n",
      "376/376 [==============================] - 1s 2ms/step - loss: 0.4406 - accuracy: 0.8031\n"
     ]
    },
    {
     "data": {
      "image/png": "[encoded data removed]",
      "text/plain": [
       "<Figure size 800x500 with 1 Axes>"
      ]
     },
     "metadata": {},
     "output_type": "display_data"
    },
    {
     "name": "stdout",
     "output_type": "stream",
     "text": [
      "accuracy: 81.65%\n",
      "2022-10-20 14:10:15.442165\n"
     ]
    }
   ],
   "source": [
    "from sklearn.preprocessing import StandardScaler\n",
    "\n",
    "print('splitting')\n",
    "print(datetime.now())\n",
    "data_partitions = splitter.get_train_valid_partitions(universe)\n",
    "one_partition =data_partitions[0]\n",
    "train_genes,valid_genes = one_partition[0],one_partition[1]\n",
    "thresholds = splitter.choose_thresholds(train_genes,'one_z')\n",
    "X_train,y_train = splitter.get_X_y(train_genes, thresholds)\n",
    "X_valid,y_valid = splitter.get_X_y(valid_genes, thresholds)\n",
    "print('Train sizes',len(X_train),len(y_train))\n",
    "print('Valid sizes',len(X_valid),len(y_valid))\n",
    "\n",
    "print('scaling')\n",
    "print(datetime.now())\n",
    "scaler = StandardScaler()\n",
    "scaler.fit(X_train)\n",
    "X_train = scaler.transform(X_train)\n",
    "X_valid = scaler.transform(X_valid)\n",
    "zero_many_counts(X_train,10)\n",
    "zero_many_counts(X_valid,10)\n",
    "\n",
    "print('Thresholds',thresholds)\n",
    "print(datetime.now())\n",
    "print('Train set ones/size',\n",
    "      np.count_nonzero(y_train),'/',len(y_train))\n",
    "print('Valid set ones/size',\n",
    "      np.count_nonzero(y_valid),'/',len(y_valid))\n",
    "\n",
    "print(\"BUILD MODEL\")\n",
    "print(datetime.now())\n",
    "model=build_model()\n",
    "\n",
    "print(\"FIT\")\n",
    "print(datetime.now())\n",
    "history=model.fit(X_train, y_train, # batch_size=10, default=32 works nicely\n",
    "        epochs=EPOCHS, verbose=1)  # verbose=1 for ascii art, verbose=0 for none\n",
    "        #validation_data=(X_valid,y_valid) )\n",
    "\n",
    "pd.DataFrame(history.history).plot(figsize=(8,5))\n",
    "plt.grid(True)\n",
    "plt.gca().set_ylim(0,1)\n",
    "plt.show()\n",
    "\n",
    "scores = model.evaluate(X_valid, y_valid, verbose=0)\n",
    "print(\"%s: %.2f%%\" % (model.metrics_names[1], scores[1]*100))\n",
    "print(datetime.now())"
   ]
  },
  {
   "cell_type": "code",
   "execution_count": 52,
   "metadata": {},
   "outputs": [
    {
     "name": "stdout",
     "output_type": "stream",
     "text": [
      "0.7417897730800902 0.0 0.0 0.0 0.0 0.0 0.0 0.0 0.0 0.0 -0.6096975328885512 0.0 0.0 0.0 0.0 0.0 0.0 0.0 0.0 0.0 0.4709104971514866 0.0 0.0 0.0 0.0 0.0 0.0 0.0 0.0 0.0 -0.5790313884988391 0.0 0.0 0.0 0.0 0.0 0.0 0.0 0.0 0.0 \n",
      "-0.1420689457439131 0.0 0.0 0.0 0.0 0.0 0.0 0.0 0.0 0.0 -0.7051732813744213 0.0 0.0 0.0 0.0 0.0 0.0 0.0 0.0 0.0 -0.11576698870958556 0.0 0.0 0.0 0.0 0.0 0.0 0.0 0.0 0.0 -0.5790313884988391 0.0 0.0 0.0 0.0 0.0 0.0 0.0 0.0 0.0 \n",
      "0.5650180293152894 0.0 0.0 0.0 0.0 0.0 0.0 0.0 0.0 0.0 -0.6096975328885512 0.0 0.0 0.0 0.0 0.0 0.0 0.0 0.0 0.0 0.1775717542209505 0.0 0.0 0.0 0.0 0.0 0.0 0.0 0.0 0.0 -0.3533157229392008 0.0 0.0 0.0 0.0 0.0 0.0 0.0 0.0 0.0 \n",
      "0.4766321574328891 0.0 0.0 0.0 0.0 0.0 0.0 0.0 0.0 0.0 -0.32327028743094105 0.0 0.0 0.0 0.0 0.0 0.0 0.0 0.0 0.0 -0.7024444745706577 0.0 0.0 0.0 0.0 0.0 0.0 0.0 0.0 0.0 -0.6918892212786582 0.0 0.0 0.0 0.0 0.0 0.0 0.0 0.0 0.0 \n",
      "0.4766321574328891 0.0 0.0 0.0 0.0 0.0 0.0 0.0 0.0 0.0 -0.32327028743094105 0.0 0.0 0.0 0.0 0.0 0.0 0.0 0.0 0.0 -0.7024444745706577 0.0 0.0 0.0 0.0 0.0 0.0 0.0 0.0 0.0 -0.6918892212786582 0.0 0.0 0.0 0.0 0.0 0.0 0.0 0.0 0.0 \n",
      "-0.5839983051559147 0.0 0.0 0.0 0.0 0.0 0.0 0.0 0.0 0.0 -0.7051732813744213 0.0 0.0 0.0 0.0 0.0 0.0 0.0 0.0 0.0 -0.7024444745706577 0.0 0.0 0.0 0.0 0.0 0.0 0.0 0.0 0.0 -0.5790313884988391 0.0 0.0 0.0 0.0 0.0 0.0 0.0 0.0 0.0 \n",
      "0.6534039011976898 0.0 0.0 0.0 0.0 0.0 0.0 0.0 0.0 0.0 0.6314871974277593 0.0 0.0 0.0 0.0 0.0 0.0 0.0 0.0 0.0 -0.3113261506632763 0.0 0.0 0.0 0.0 0.0 0.0 0.0 0.0 0.0 -0.014742224599743432 0.0 0.0 0.0 0.0 0.0 0.0 0.0 0.0 0.0 \n",
      "0.6534039011976898 0.0 0.0 0.0 0.0 0.0 0.0 0.0 0.0 0.0 0.6314871974277593 0.0 0.0 0.0 0.0 0.0 0.0 0.0 0.0 0.0 -0.3113261506632763 0.0 0.0 0.0 0.0 0.0 0.0 0.0 0.0 0.0 -0.014742224599743432 0.0 0.0 0.0 0.0 0.0 0.0 0.0 0.0 0.0 \n",
      "-0.31884068950871375 0.0 0.0 0.0 0.0 0.0 0.0 0.0 0.0 0.0 -0.5142217844026812 0.0 0.0 0.0 0.0 0.0 0.0 0.0 0.0 0.0 -0.506885312616967 0.0 0.0 0.0 0.0 0.0 0.0 0.0 0.0 0.0 -0.6918892212786582 0.0 0.0 0.0 0.0 0.0 0.0 0.0 0.0 0.0 \n",
      "-0.31884068950871375 0.0 0.0 0.0 0.0 0.0 0.0 0.0 0.0 0.0 -0.5142217844026812 0.0 0.0 0.0 0.0 0.0 0.0 0.0 0.0 0.0 -0.506885312616967 0.0 0.0 0.0 0.0 0.0 0.0 0.0 0.0 0.0 -0.6918892212786582 0.0 0.0 0.0 0.0 0.0 0.0 0.0 0.0 0.0 \n"
     ]
    }
   ],
   "source": [
    "for row in X_train[:10]:\n",
    "    for v in row[:40]:\n",
    "        print(v,end=' ')\n",
    "    print()"
   ]
  },
  {
   "cell_type": "code",
   "execution_count": null,
   "metadata": {},
   "outputs": [],
   "source": []
  },
  {
   "cell_type": "code",
   "execution_count": null,
   "metadata": {},
   "outputs": [],
   "source": []
  }
 ],
 "metadata": {
  "kernelspec": {
   "display_name": "Python 3 (ipykernel)",
   "language": "python",
   "name": "python3"
  },
  "language_info": {
   "codemirror_mode": {
    "name": "ipython",
    "version": 3
   },
   "file_extension": ".py",
   "mimetype": "text/x-python",
   "name": "python",
   "nbconvert_exporter": "python",
   "pygments_lexer": "ipython3",
   "version": "3.10.0"
  }
 },
 "nbformat": 4,
 "nbformat_minor": 2
}
