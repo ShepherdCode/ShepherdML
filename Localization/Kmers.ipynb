{
 "cells": [
  {
   "cell_type": "markdown",
   "id": "6cc8ab8f",
   "metadata": {},
   "source": [
    "# Toward a K-mer counting package"
   ]
  },
  {
   "cell_type": "code",
   "execution_count": 9,
   "id": "662425db",
   "metadata": {},
   "outputs": [],
   "source": [
    "import numpy as np\n",
    "K=4\n",
    "MAX_COUNT = 2**8-1\n",
    "VOCABULARY_SIZE = 4**K\n",
    "def seq_to_kmer_counts(seq):\n",
    "    counts = np.zeros(VOCABULARY_SIZE,np.int8)\n",
    "    letter_values={'A':0, 'C':1, 'G':2, 'T':3}\n",
    "    for p in range(len(seq)-K+1):\n",
    "        valid = True\n",
    "        kmer_seq=seq[p:p+K]\n",
    "        kmer_hash=0\n",
    "        for d in range(K):\n",
    "            letter = kmer_seq[d]\n",
    "            if letter in letter_values:\n",
    "                additional = letter_values[letter]\n",
    "                kmer_hash = kmer_hash * 4  # left shift\n",
    "                kmer_hash = kmer_hash + additional\n",
    "            else:\n",
    "                valid = False\n",
    "        #print(p, kmer_seq, kmer_hash, valid)\n",
    "        if valid and counts[kmer_hash]<MAX_COUNT:\n",
    "            counts[kmer_hash] += 1\n",
    "    return counts"
   ]
  },
  {
   "cell_type": "code",
   "execution_count": 10,
   "id": "b61068a8",
   "metadata": {},
   "outputs": [],
   "source": [
    "import unittest\n",
    "class TestKmers(unittest.TestCase):\n",
    "    def setUp(self):\n",
    "        pass\n",
    "    def test_AAAA(self):\n",
    "        seq='AAAA'\n",
    "        counts = seq_to_kmer_counts(seq)\n",
    "        print(counts)\n",
    "        "
   ]
  },
  {
   "cell_type": "code",
   "execution_count": 11,
   "id": "c55d0d6a",
   "metadata": {},
   "outputs": [
    {
     "name": "stderr",
     "output_type": "stream",
     "text": [
      "test_AAAA (__main__.TestKmers) ... "
     ]
    },
    {
     "name": "stdout",
     "output_type": "stream",
     "text": [
      "[1 0 0 0 0 0 0 0 0 0 0 0 0 0 0 0 0 0 0 0 0 0 0 0 0 0 0 0 0 0 0 0 0 0 0 0 0\n",
      " 0 0 0 0 0 0 0 0 0 0 0 0 0 0 0 0 0 0 0 0 0 0 0 0 0 0 0 0 0 0 0 0 0 0 0 0 0\n",
      " 0 0 0 0 0 0 0 0 0 0 0 0 0 0 0 0 0 0 0 0 0 0 0 0 0 0 0 0 0 0 0 0 0 0 0 0 0\n",
      " 0 0 0 0 0 0 0 0 0 0 0 0 0 0 0 0 0 0 0 0 0 0 0 0 0 0 0 0 0 0 0 0 0 0 0 0 0\n",
      " 0 0 0 0 0 0 0 0 0 0 0 0 0 0 0 0 0 0 0 0 0 0 0 0 0 0 0 0 0 0 0 0 0 0 0 0 0\n",
      " 0 0 0 0 0 0 0 0 0 0 0 0 0 0 0 0 0 0 0 0 0 0 0 0 0 0 0 0 0 0 0 0 0 0 0 0 0\n",
      " 0 0 0 0 0 0 0 0 0 0 0 0 0 0 0 0 0 0 0 0 0 0 0 0 0 0 0 0 0 0 0 0 0 0]\n"
     ]
    },
    {
     "name": "stderr",
     "output_type": "stream",
     "text": [
      "ok\n",
      "\n",
      "----------------------------------------------------------------------\n",
      "Ran 1 test in 0.031s\n",
      "\n",
      "OK\n"
     ]
    },
    {
     "data": {
      "text/plain": [
       "<unittest.main.TestProgram at 0x10e3c7f40>"
      ]
     },
     "execution_count": 11,
     "metadata": {},
     "output_type": "execute_result"
    }
   ],
   "source": [
    "unittest.main(argv=[''], verbosity=2, exit=False)"
   ]
  },
  {
   "cell_type": "code",
   "execution_count": null,
   "id": "67a2046d",
   "metadata": {},
   "outputs": [],
   "source": []
  }
 ],
 "metadata": {
  "kernelspec": {
   "display_name": "Python 3 (ipykernel)",
   "language": "python",
   "name": "python3"
  },
  "language_info": {
   "codemirror_mode": {
    "name": "ipython",
    "version": 3
   },
   "file_extension": ".py",
   "mimetype": "text/x-python",
   "name": "python",
   "nbconvert_exporter": "python",
   "pygments_lexer": "ipython3",
   "version": "3.10.0"
  }
 },
 "nbformat": 4,
 "nbformat_minor": 5
}
