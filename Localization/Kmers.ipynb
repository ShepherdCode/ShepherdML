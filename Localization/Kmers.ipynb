{
 "cells": [
  {
   "cell_type": "markdown",
   "id": "d801f827",
   "metadata": {},
   "source": [
    "# Toward a K-mer counting package"
   ]
  },
  {
   "cell_type": "code",
   "execution_count": 1,
   "id": "803f3063",
   "metadata": {},
   "outputs": [],
   "source": [
    "import numpy as np\n",
    "class KmerCounter():\n",
    "    NUCLEOTIDE_BITS={'A':0, 'C':1, 'G':2, 'T':3}\n",
    "    BITS_PER_NUCLEOTIDE=2\n",
    "    COUNT_TYPE=np.int8\n",
    "    MAX_COUNT = 2**8-1\n",
    "    def __init__(self,K=4):\n",
    "        self.setK(K)\n",
    "    def setK(self,K):\n",
    "        self.K=4\n",
    "        self.VOCABULARY_SIZE = 4**K\n",
    "    def hash_value(self,token):\n",
    "        # TO DO: CACHE BITS FROM PREVIOUS K-1 LETTERS \n",
    "        kmer_hash=0\n",
    "        if len(token)!=self.K:\n",
    "            raise Exception('Given token not of length K='+str(self.K))\n",
    "        letters = list(token)\n",
    "        for letter in letters:\n",
    "            try:\n",
    "                additional = KmerCounter.NUCLEOTIDE_BITS[letter]\n",
    "                kmer_hash = kmer_hash << KmerCounter.BITS_PER_NUCLEOTIDE\n",
    "                kmer_hash = kmer_hash + additional\n",
    "            except KeyError:\n",
    "                # Ignore tokens with N or any non-nucleotide\n",
    "                return None\n",
    "        return kmer_hash\n",
    "    def seq_to_kmer_counts(self,seq):\n",
    "        counts = np.zeros(\n",
    "            self.VOCABULARY_SIZE, KmerCounter.COUNT_TYPE)\n",
    "        for p in range(len(seq)-self.K+1):\n",
    "            token=seq[p:p+self.K]\n",
    "            hash_value = self.hash_value(token)\n",
    "            if hash_value is not None:\n",
    "                if counts[hash_value]<KmerCounter.MAX_COUNT:\n",
    "                    counts[hash_value] += 1\n",
    "        return counts"
   ]
  },
  {
   "cell_type": "code",
   "execution_count": 2,
   "id": "07948268",
   "metadata": {},
   "outputs": [],
   "source": [
    "import unittest\n",
    "class Test4mers(unittest.TestCase):\n",
    "    def setUp(self):\n",
    "        self.counter = KmerCounter(4)\n",
    "    def test_4A(self):\n",
    "        seq='AAAA'\n",
    "        counts = self.counter.seq_to_kmer_counts(seq)\n",
    "        self.assertEqual(counts[0],1)\n",
    "        self.assertEqual(counts.sum(),1)\n",
    "    def test_8A(self):\n",
    "        seq='AAAAAAAA'\n",
    "        counts = self.counter.seq_to_kmer_counts(seq)\n",
    "        self.assertEqual(counts[0],5)\n",
    "        self.assertEqual(counts.sum(),5)\n",
    "    def test_middleN(self):\n",
    "        seq='AAAANAAAA'\n",
    "        counts = self.counter.seq_to_kmer_counts(seq)\n",
    "        self.assertEqual(counts[0],2)\n",
    "        self.assertEqual(counts.sum(),2)\n",
    "    def test_middleN(self):\n",
    "        seq='ACGTACGT'\n",
    "        counts = self.counter.seq_to_kmer_counts(seq)\n",
    "        self.assertEqual(counts[0],0)      # no AAAA\n",
    "        self.assertEqual(counts.max(),2)   # ACTG twice     \n",
    "        self.assertEqual(counts.sum(),5)   # all kmers counted\n",
    "    def test_hash_homopolymers(self):\n",
    "        c = self.counter\n",
    "        self.assertEqual(c.hash_value('AAAA'),int(\"00000000\",2))\n",
    "        self.assertEqual(c.hash_value('CCCC'),int(\"01010101\",2))\n",
    "        self.assertEqual(c.hash_value('GGGG'),int(\"10101010\",2))\n",
    "        self.assertEqual(c.hash_value('TTTT'),int(\"11111111\",2))  \n",
    "    def test_hash_combos(self):\n",
    "        c = self.counter\n",
    "        self.assertEqual(c.hash_value('ACGT'),int(\"00\"+\"01\"+\"10\"+\"11\",2))\n",
    "        self.assertEqual(c.hash_value('TCGA'),int(\"11\"+\"01\"+\"10\"+\"00\",2))\n",
    "        self.assertEqual(c.hash_value('TATG'),int(\"11\"+\"00\"+\"11\"+\"10\",2))\n",
    "        self.assertEqual(c.hash_value('CTGG'),int(\"01\"+\"11\"+\"10\"+\"10\",2))\n"
   ]
  },
  {
   "cell_type": "code",
   "execution_count": 3,
   "id": "aaeac6c8",
   "metadata": {},
   "outputs": [
    {
     "name": "stderr",
     "output_type": "stream",
     "text": [
      "----------------------------------------------------------------------\n",
      "Ran 5 tests in 0.001s\n",
      "\n",
      "OK\n"
     ]
    },
    {
     "data": {
      "text/plain": [
       "<unittest.main.TestProgram at 0x109a538e0>"
      ]
     },
     "execution_count": 3,
     "metadata": {},
     "output_type": "execute_result"
    }
   ],
   "source": [
    "unittest.main(argv=[''], verbosity=0, exit=False)"
   ]
  },
  {
   "cell_type": "code",
   "execution_count": null,
   "id": "297f2f76",
   "metadata": {},
   "outputs": [],
   "source": []
  }
 ],
 "metadata": {
  "kernelspec": {
   "display_name": "Python 3 (ipykernel)",
   "language": "python",
   "name": "python3"
  },
  "language_info": {
   "codemirror_mode": {
    "name": "ipython",
    "version": 3
   },
   "file_extension": ".py",
   "mimetype": "text/x-python",
   "name": "python",
   "nbconvert_exporter": "python",
   "pygments_lexer": "ipython3",
   "version": "3.10.0"
  }
 },
 "nbformat": 4,
 "nbformat_minor": 5
}
