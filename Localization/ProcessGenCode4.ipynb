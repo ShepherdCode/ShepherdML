{
 "cells": [
  {
   "cell_type": "markdown",
   "id": "a050ac35",
   "metadata": {},
   "source": [
    "# Using Gen Code v43\n",
    "GenCode 43 released 08.02.2023 (Feb 8)  "
   ]
  },
  {
   "cell_type": "markdown",
   "id": "61dfe8d3",
   "metadata": {},
   "source": [
    "My download started Feb 27.   \n",
    "\n",
    "Get FASTA and GFF3 from [GenCode](https://www.gencodegenes.org/human/),\n",
    "and GenCode [biotypes](https://www.gencodegenes.org/pages/biotypes.html)\n",
    "which describes GFF terms such as 'lncRNA',\n",
    "and GenCode [tags](https://www.gencodegenes.org/pages/tags.html)\n",
    "which describes GFF tags.\n",
    "\n",
    "Which is the better tag for best transcript per isoform?\n",
    "We tried appris_principal_1, described as \n",
    "\"Where the transcript expected to code for the main functional isoform...\".\n",
    "That gave us mRNA but not lncRNA.\n",
    "Next we tried 'Ensembl_canonical' which gave us mRNA and lncRNA.\n",
    "\n",
    "Scroll down to Fasta files.\n",
    "Previously, we used \"Protein-coding transcript sequences\" (gencode.v43.pc_transcripts.fa)\n",
    "and \"Long non-coding RNA transcript sequences\" (gencode.v43.lncRNA_transcripts.fa).\n",
    "But now we discovered some lncAtlas genes are missing.\n",
    "Now we switch to using \n",
    "\"Transcript sequences - CHR - Nucleotide sequences of all transcripts on the reference chromosomes\" (gencode.v43.transcripts.fa) which is larger than both others combined.\n",
    "\n",
    "Scroll down to GFF3 files    \n",
    "When we used v42 in Sep 2022, \n",
    "we previously used the full \"annotation\" file which has 252416 transcripts. \n",
    "Our filters reduced this to 114760 (29K non-coding and 86K coding).\n",
    "So \"basic\" probably removes the same ones we filtered. \n",
    "So again we click on \"Basic gene annotation on chromosomes - the main file for most users\"(gencode.v43.basic.annotation.gff3). \n",
    "The \"basic.annotation\" file had 117681 transcripts in v42.\n",
    "The \"basic.annotation\" file has 117725 transcripts in v43.\n",
    "\n",
    "According to the FAQ...\n",
    "The transcripts tagged as \"basic\" form part of a subset of representative transcripts for each gene. This subset prioritises full-length protein coding transcripts over partial or non-protein coding transcripts within the same gene, and intends to highlight those transcripts that will be useful to the majority of users.\n",
    "\n",
    "The all-annotation file (gencode.v43.chr_patch_hapl_scaff.annotation.gff3) \n",
    "almost twice as large as the basic-annotation file. \n",
    "The documentation says it contains genes not assigned to chromosomes\n",
    "(these are on left-over contigs from the genome assembly).\n",
    "We might as well use this.\n",
    "\n",
    "GenCode includes two copies of any gene in the paralogous regions of ChrX and ChrY.\n",
    "For such a gene, the GFF and FASTA list the gene twice \n",
    "(but the version number of one includes \\_PAR_Y).\n",
    "Also, the GFF and FASTA list two canonical transcripts.\n",
    "We decided to filter genes with the PAR tag."
   ]
  },
  {
   "cell_type": "markdown",
   "id": "c3caed84",
   "metadata": {},
   "source": [
    "## Oddities\n",
    "Previously, we tried to generate a database of trustable lncRNA (and mRNA for comparison).\n",
    "We applied filters such as GFF transcript_type must be present, must be 'lncRNA', must match the gene_type, etc. Also, we used GenCode as our oracle for deciding whether a gene was lncRNA or protein-coding.\n",
    "\n",
    "This time, we will use lncAtlas as the oracle and GenCode merely as a source for transcript sequences per gene. Note lncAtlas lists the Ensembl gene ID (but not transcript ID) and whether the gene is 'coding' or 'nc'. Here are some changes.\n",
    "\n",
    "Gene ENSG00000274628 is listed as 'nc' in lncAtlas. It has negative CNRCI values indicating nuclear. Ensemble indicates this is a member of the Cytochrome P450 gene family. It is annotated \"Transcribed unprocessed pseudogene\". I think that means it was retrotransposed into the genome with introns -- a seriously messed up gene. This gene was left off the chromosomes in human genome assemblies until the latest release, GRCh38, which put it on Chr9, indicating it belongs to a seriously messy part of the genome. There is no RefSeq for this gene. This gene is not annotated as 'lncRNA' in the GenCode GFF. Instead, it is \"gene_type=transcribed_unprocessed_pseudogene\", one of 959 such transcripts. \n",
    "\n",
    "Is this a lncRNA? it is probably a mistake, not an evolved feature. But who are we to decide what's a lncRNA. Which database should we believe? We previously went with GenCode but this time we're going with lncRNA."
   ]
  },
  {
   "cell_type": "code",
   "execution_count": 1,
   "id": "b91805f0",
   "metadata": {},
   "outputs": [
    {
     "name": "stdout",
     "output_type": "stream",
     "text": [
      "2023-02-28 11:58:16.558820\n"
     ]
    }
   ],
   "source": [
    "from datetime import datetime\n",
    "print(datetime.now())"
   ]
  },
  {
   "cell_type": "code",
   "execution_count": 2,
   "id": "58396cf2",
   "metadata": {},
   "outputs": [],
   "source": [
    "# GenCode inputs\n",
    "DATA_DIR = '/Users/jasonmiller/WVU/Localization/GenCode/GenCode43/'\n",
    "BASIC_ANNOTATION = 'gencode.v43.basic.annotation.gff3'\n",
    "ALL_ANNOTATION = 'gencode.v43.chr_patch_hapl_scaff.annotation.gff3'\n",
    "SEQUENCE = 'gencode.v43.transcripts.fa'   \n",
    "# GenCode outputs\n",
    "CODING_CSV_ALL = 'gencode_v43.all_pc_transcripts.csv'        \n",
    "NONCODING_CSV_ALL = 'gencode_v43.all_lncRNA_transcripts.csv'   \n",
    "CODING_CSV_CANON = 'gencode_v43.canon_pc_transcripts.csv'        \n",
    "NONCODING_CSV_CANON = 'gencode_v43.canon_lncRNA_transcripts.csv'   \n",
    "# Atlas inputs\n",
    "ATLAS_DIR = '/Users/jasonmiller/WVU/Localization/LncAtlas/'\n",
    "ATLAS_FILE = 'lncATLAS_all_data_RCI.csv'"
   ]
  },
  {
   "cell_type": "markdown",
   "id": "adf0c8f6",
   "metadata": {},
   "source": [
    "## lncAtlas Gene IDs\n",
    "Load the list of distinct genes in lncAtlas.\n",
    "Only examine lines where field 2 is CNRCI and field 3 is not NA.\n",
    "Load the ESNG IDs.\n",
    "Remove duplicate IDs.\n",
    "Use field 5 as indicator of 'coding' or 'nc'."
   ]
  },
  {
   "cell_type": "code",
   "execution_count": 3,
   "id": "e17344f1",
   "metadata": {},
   "outputs": [],
   "source": [
    "class Atlas_Parser():\n",
    "    def __init__(self,filepath):\n",
    "        '''Expect a CSV file.'''\n",
    "        self.filepath = filepath\n",
    "    def load_useful_genes(self):\n",
    "        '''Return two gene sets (each free of duplicates) containing\n",
    "        only genes with at least one CNRCI value in lncAtlas.'''\n",
    "        pc_genes = set() \n",
    "        nc_genes = set()\n",
    "        with open (self.filepath,'r') as handle:\n",
    "            header = None\n",
    "            for row in handle:\n",
    "                if header is None:\n",
    "                    header = row\n",
    "                else:\n",
    "                    fields = row.split(',')\n",
    "                    gene_id = fields[0]   # like ENSG00000000003\n",
    "                    rci_type = fields[2]  # like CNRCI or RCIin\n",
    "                    value = fields[3]     # like -3.05 or NA\n",
    "                    gene_type = fields[5] # coding or nc, same as field 6\n",
    "                    if (value != 'NA' and rci_type == 'CNRCI'):\n",
    "                        if gene_type == 'coding':\n",
    "                            pc_genes.add(gene_id)  \n",
    "                        elif gene_type == 'nc':\n",
    "                            nc_genes.add(gene_id)\n",
    "        return pc_genes, nc_genes # sets - no duplicates"
   ]
  },
  {
   "cell_type": "code",
   "execution_count": 4,
   "id": "a9f0c978",
   "metadata": {},
   "outputs": [
    {
     "name": "stdout",
     "output_type": "stream",
     "text": [
      "2023-02-28 11:58:16.642757\n",
      "Atlas pc genes with at least one CNRCI: 17770\n",
      "Atlas nc genes with at least one CNRCI: 6768\n"
     ]
    }
   ],
   "source": [
    "print(datetime.now())\n",
    "atlas_db = Atlas_Parser(ATLAS_DIR+ATLAS_FILE)\n",
    "atlas_pc_genes,atlas_nc_genes = atlas_db.load_useful_genes()\n",
    "atlas_db = None\n",
    "print('Atlas pc genes with at least one CNRCI:', len(atlas_pc_genes))\n",
    "print('Atlas nc genes with at least one CNRCI:', len(atlas_nc_genes))"
   ]
  },
  {
   "cell_type": "markdown",
   "id": "e19a1166",
   "metadata": {},
   "source": [
    "## GenCode annotation\n",
    "The GenCode GFF file indicates the canonical transcript per gene."
   ]
  },
  {
   "cell_type": "code",
   "execution_count": 5,
   "id": "df637c33",
   "metadata": {},
   "outputs": [],
   "source": [
    "class GenCodeGFF_Parser():\n",
    "    def __init__(self,filepath):\n",
    "        '''Expect a GFF3 file.'''\n",
    "        self.filepath=filepath\n",
    "    def load_transcripts(self,canonical_transcripts_only=False):\n",
    "        gids = dict()  # gene_id:transcript_id\n",
    "        tids = dict()  # transcript_id:gene_id\n",
    "        with open (self.filepath,'r') as handle:\n",
    "            for row in handle:\n",
    "                columns = row.split('\\t')\n",
    "                # Avoid comment lines and read only transcript lines.\n",
    "                if len(columns)>=9 and columns[2] == 'transcript':\n",
    "                    # The data we need is in column 9, the so-called comments,\n",
    "                    # listed as name=value pairs separated by semicolon.\n",
    "                    comments = columns[8].strip() \n",
    "                    pairs = comments.split(';') \n",
    "                    gid = None\n",
    "                    tid = None\n",
    "                    canonical = False\n",
    "                    for pair in pairs:\n",
    "                        if pair.startswith('ID=ENST'):\n",
    "                            tid = pair[3:] \n",
    "                        if pair.startswith('gene_id='):\n",
    "                            gid = pair[8:] \n",
    "                        if pair.startswith('tag='): \n",
    "                            tag_string = pair[4:]\n",
    "                            tag_list = tag_string.split(',')\n",
    "                            # Some ChrX genes have an identical paralog on ChrY\n",
    "                            if 'PAR' in tag_list:\n",
    "                                continue\n",
    "                            if canonical_transcripts_only and 'Ensembl_canonical' in pair:\n",
    "                                canonical = True\n",
    "                    if gid is None:\n",
    "                        print(row)\n",
    "                        raise Exception('missing ID')\n",
    "                    if tid is None:\n",
    "                        print(row)\n",
    "                        raise Exception('missing transcript ID')\n",
    "                    if not canonical_transcripts_only or canonical:\n",
    "                        if canonical and gid in gids:\n",
    "                            print('WARN: Another canonical!',gid,tid)\n",
    "                        gids[gid]=tid # either the canonical tid or the last tid\n",
    "                        tids[tid]=gid\n",
    "        return gids,tids "
   ]
  },
  {
   "cell_type": "code",
   "execution_count": 6,
   "id": "eb96436a",
   "metadata": {},
   "outputs": [
    {
     "name": "stdout",
     "output_type": "stream",
     "text": [
      "2023-02-28 11:58:17.580448\n",
      "Basic Annotation\n",
      "Gencode all genes: 62656\n",
      "Gencode all transcripts: 117725\n",
      "Gencode canonical genes: 60963\n",
      "Gencode canonical transcripts: 60963\n",
      "Genes with no canonical transcript: 1693\n",
      "Portion of transcripts that are canonical: 0.5178424293905288\n"
     ]
    }
   ],
   "source": [
    "print(datetime.now())\n",
    "print(\"Basic Annotation\")\n",
    "gff_db = GenCodeGFF_Parser(DATA_DIR+BASIC_ANNOTATION)\n",
    "gencode_genes,gencode_transcripts = gff_db.load_transcripts(False)\n",
    "print('Gencode all genes:', len(gencode_genes))\n",
    "print('Gencode all transcripts:', len(gencode_transcripts))\n",
    "canonical_genes,canonical_transcripts = gff_db.load_transcripts(True)\n",
    "print('Gencode canonical genes:', len(canonical_genes))\n",
    "print('Gencode canonical transcripts:', len(canonical_transcripts))\n",
    "gff_db = None\n",
    "print('Genes with no canonical transcript:',\n",
    "      len(gencode_genes)-len(canonical_genes))\n",
    "print('Portion of transcripts that are canonical:',\n",
    "     len(canonical_transcripts)/len(gencode_transcripts))"
   ]
  },
  {
   "cell_type": "code",
   "execution_count": 7,
   "id": "cf088ea4",
   "metadata": {},
   "outputs": [
    {
     "name": "stdout",
     "output_type": "stream",
     "text": [
      "2023-02-28 11:58:25.998222\n",
      "All Annotation\n",
      "Gencode all genes: 69175\n",
      "Gencode all transcripts: 274031\n",
      "Gencode canonical genes: 69175\n",
      "Gencode canonical transcripts: 69175\n",
      "Genes with no canonical transcript: 0\n",
      "Portion of transcripts that are canonical: 0.25243494349179474\n"
     ]
    }
   ],
   "source": [
    "print(datetime.now())\n",
    "print(\"All Annotation\")\n",
    "gff_db = GenCodeGFF_Parser(DATA_DIR+ALL_ANNOTATION)\n",
    "gencode_genes,gencode_transcripts = gff_db.load_transcripts(False)\n",
    "print('Gencode all genes:', len(gencode_genes))\n",
    "print('Gencode all transcripts:', len(gencode_transcripts))\n",
    "canonical_genes,canonical_transcripts = gff_db.load_transcripts(True)\n",
    "print('Gencode canonical genes:', len(canonical_genes))\n",
    "print('Gencode canonical transcripts:', len(canonical_transcripts))\n",
    "gff_db = None\n",
    "print('Genes with no canonical transcript:',\n",
    "      len(gencode_genes)-len(canonical_genes))\n",
    "print('Portion of transcripts that are canonical:',\n",
    "     len(canonical_transcripts)/len(gencode_transcripts))"
   ]
  },
  {
   "cell_type": "code",
   "execution_count": 8,
   "id": "d8478027",
   "metadata": {},
   "outputs": [],
   "source": [
    "if False:\n",
    "    for gid in gencode_genes:\n",
    "        if gid not in canonical_genes:\n",
    "            print(gid)"
   ]
  },
  {
   "cell_type": "markdown",
   "id": "a1aea47c",
   "metadata": {},
   "source": [
    "### Example: ENSG00000238009\n",
    "The canonical transcript is in GenCode's all-annotation but not its basic-annotation file!\n",
    "Ensemble says lncRNA gene with 5 transcripts from Chr1 but no other information.\n",
    "This gene is present and useful in the lncAtlas database.\n",
    "The gene tag in the GFF is 'overlapping_locus'.\n",
    "GenCode GFF has 2 transcripts, neither marked canonical.\n",
    "Both have transcript_support_level_5.\n",
    "Lower ID has level=2 and tag=not_best_in_genome_evidence; other has level=3.\n",
    "(Level=1 means validated, Level=2 means manual, Level=3 means automatic.)\n",
    "GenCode FASTA has 5 transcripts; only difference is highest ID has no OTTHUMG ID.\n",
    "The one with lowest ID is not present in the GFF.\n",
    "Lengths range from 336 to 2748."
   ]
  },
  {
   "cell_type": "markdown",
   "id": "0b8c45b4",
   "metadata": {},
   "source": [
    "## Ensembl Canonical\n",
    "Ensembl documentation of \n",
    "[canonical](https://www.ensembl.org/info/genome/genebuild/canonical.html)\n",
    "\n",
    "* The Ensembl Canonical transcript is a single, representative transcript identified at every locus. For accurate analysis, we recommend that more than one transcripts at a locus may need to be considered, however, we designate a single Ensembl Canonical transcript per locus to provide consistency when only one transcript is required... \n",
    "* The Ensembl Canonical transcript for non-protein-coding gene biotypes are currently calculated as follows: lncRNAs: The Ensembl Canonical is the transcript at the locus with the longest genomic span.\n",
    "\n",
    "Notes \n",
    "* Genomic span is not the same as transcript length. There could be a short transcript derived from splicing two exons that are widely-separated on the genome.\n",
    "* Genomic span is not indicated in the lncAtlas or GenCode FASTA files. \n",
    "* Genomic can be derived by subtracting columns 4 and 5 of any 'transcript' line of the GFF.\n",
    "* The transcript length is reported only in the FASTA file defline. (The sum of the exon lengths in the GFF might also work, but those are genomic coordinates so it could be off.)\n",
    "\n",
    "The GenCode FASTA of all transcripts has gene variants\n",
    "that don't have an ensembl canonical transcript.\n",
    "For example, for ID=ENSG00000124334, \n",
    "gene ID ENSG00000124334.18 has a canonical transcript,\n",
    "but ENSG00000124334.18_PAR_Y is listed in the FASTA\n",
    "and it does not have a canonical transcript (unless you parse away the PAR Y part)."
   ]
  },
  {
   "cell_type": "markdown",
   "id": "9a0d1be0",
   "metadata": {},
   "source": [
    "## Longest span, longest transcript\n",
    "Ensemble canonical means longest genomic span. \n",
    "\n",
    "Here, we show this is not the same as longest transcript. \n",
    "\n",
    "We get transcript lengths from the FASTA."
   ]
  },
  {
   "cell_type": "code",
   "execution_count": 9,
   "id": "2379b2f4",
   "metadata": {},
   "outputs": [
    {
     "name": "stdout",
     "output_type": "stream",
     "text": [
      "We have the length of the canonical transcript for this many genes:\n",
      "62656\n"
     ]
    }
   ],
   "source": [
    "# First pass through the FASTA file\n",
    "length_canonical_transcript={}\n",
    "with open(DATA_DIR+SEQUENCE,'r') as fasta:\n",
    "    for line in fasta:\n",
    "        if line[0]=='>':\n",
    "            line=line[1:]\n",
    "            line=line.strip()\n",
    "            fields=line.split('|')\n",
    "            tid=fields[0]\n",
    "            gid=fields[1]\n",
    "            tlen=int(fields[6])\n",
    "            if gid not in canonical_genes:\n",
    "                continue # e.g. ENSG00000124333.16_PAR_Y\n",
    "            if tid == canonical_genes[gid]:\n",
    "                if gid in length_canonical_transcript.keys():\n",
    "                    print(\"PROBLEM\",line)\n",
    "                else:\n",
    "                    length_canonical_transcript[gid]=tlen\n",
    "print(\"We have the length of the canonical transcript for this many genes:\")\n",
    "print(len(length_canonical_transcript))"
   ]
  },
  {
   "cell_type": "code",
   "execution_count": 10,
   "id": "f3791272",
   "metadata": {},
   "outputs": [
    {
     "name": "stdout",
     "output_type": "stream",
     "text": [
      "We counted transcripts longer than the canonical transcript of the same gene.\n",
      "Transcripts longer than their canonical one: 33988\n",
      "Total excess in nucleotides: 24963981\n",
      "Average excess nucleotides per transcript: 734.4939684594563\n"
     ]
    }
   ],
   "source": [
    "# Second pass through the FASTA file\n",
    "exception_count = 0\n",
    "exception_total_len = 0\n",
    "with open(DATA_DIR+SEQUENCE,'r') as fasta:\n",
    "    for line in fasta:\n",
    "        if line[0]=='>':\n",
    "            line=line[1:]\n",
    "            line=line.strip()\n",
    "            fields=line.split('|')\n",
    "            tid=fields[0]\n",
    "            gid=fields[1]\n",
    "            tlen=int(fields[6])\n",
    "            if gid not in canonical_genes:\n",
    "                continue # e.g. ENSG00000124333.16_PAR_Y\n",
    "            clen = length_canonical_transcript[gid]\n",
    "            if tlen > clen:\n",
    "                exception_count += 1\n",
    "                exception_total_len += (tlen-clen)\n",
    "print(\"We counted transcripts longer than the canonical transcript of the same gene.\")\n",
    "print('Transcripts longer than their canonical one:',exception_count)\n",
    "print('Total excess in nucleotides:',exception_total_len)\n",
    "print('Average excess nucleotides per transcript:',exception_total_len/exception_count)"
   ]
  },
  {
   "cell_type": "code",
   "execution_count": 11,
   "id": "a9fbf0cd",
   "metadata": {},
   "outputs": [
    {
     "name": "stdout",
     "output_type": "stream",
     "text": [
      "We looked only at lncRNA genes with a CNRCI value in lncAtlas.\n",
      "We counted transcripts longer than the canonical transcript of the same gene.\n",
      "Transcripts longer than their canonical one: 8025\n",
      "Total excess in nucleotides: 6920513\n",
      "Average excess nucleotides per transcript: 862.3692211838006\n"
     ]
    }
   ],
   "source": [
    "# Third pass through the FASTA file\n",
    "exception_count = 0\n",
    "exception_total_len = 0\n",
    "with open(DATA_DIR+SEQUENCE,'r') as fasta:\n",
    "    for line in fasta:\n",
    "        if line[0]=='>':\n",
    "            line=line[1:]\n",
    "            line=line.strip()\n",
    "            fields=line.split('|')\n",
    "            tid=fields[0]\n",
    "            gid=fields[1]\n",
    "            tlen=int(fields[6])\n",
    "            if gid not in canonical_genes:\n",
    "                continue # e.g. ENSG00000124333.16_PAR_Y\n",
    "            clen = length_canonical_transcript[gid]\n",
    "            base_gene_id = gid.split('.')[0]\n",
    "            if base_gene_id in atlas_nc_genes:\n",
    "                if tlen > clen:\n",
    "                    exception_count += 1\n",
    "                    exception_total_len += (tlen-clen)\n",
    "print(\"We looked only at lncRNA genes with a CNRCI value in lncAtlas.\")\n",
    "print(\"We counted transcripts longer than the canonical transcript of the same gene.\")\n",
    "print('Transcripts longer than their canonical one:',exception_count)\n",
    "print('Total excess in nucleotides:',exception_total_len)\n",
    "print('Average excess nucleotides per transcript:',exception_total_len/exception_count)"
   ]
  },
  {
   "cell_type": "markdown",
   "id": "210909f3",
   "metadata": {},
   "source": [
    "## Combine lncAtlas and GenCode to list transcripts\n",
    "Only lncAtlas knows which genes have a CNRCI values. \n",
    "Also, we rely on lncAtlas for the coding/non-coding label.\n",
    "Note lncAtlas gene IDs are lacking the version suffix.\n",
    "\n",
    "Only GenCode GFF knows the Ensembl canonical transcript per gene."
   ]
  },
  {
   "cell_type": "code",
   "execution_count": 15,
   "id": "1f522009",
   "metadata": {},
   "outputs": [],
   "source": [
    "def subset(atlas,gencode):\n",
    "    tids = set()\n",
    "    for tid in gencode:\n",
    "        gid = gencode[tid]\n",
    "        base_gene_id = gid.split('.')[0]\n",
    "        if base_gene_id in atlas:\n",
    "            tids.add(tid)\n",
    "    return tids"
   ]
  },
  {
   "cell_type": "code",
   "execution_count": 16,
   "id": "bff9c198",
   "metadata": {},
   "outputs": [
    {
     "name": "stdout",
     "output_type": "stream",
     "text": [
      "atlas_all_pc_transcripts: 165307\n",
      "atlas_canonical_pc_transcripts 17668\n",
      "atlas_all_nc_transcripts 28997\n",
      "atlas_canonical_nc_transcripts 6423\n"
     ]
    }
   ],
   "source": [
    "atlas_all_pc_transcripts=subset(atlas_pc_genes,gencode_transcripts)\n",
    "atlas_canonical_pc_transcripts=subset(atlas_pc_genes,canonical_transcripts)\n",
    "atlas_all_nc_transcripts=subset(atlas_nc_genes,gencode_transcripts)\n",
    "atlas_canonical_nc_transcripts=subset(atlas_nc_genes,canonical_transcripts)\n",
    "print('atlas_all_pc_transcripts:',len(atlas_all_pc_transcripts))\n",
    "print('atlas_canonical_pc_transcripts',len(atlas_canonical_pc_transcripts))\n",
    "print('atlas_all_nc_transcripts',len(atlas_all_nc_transcripts))\n",
    "print('atlas_canonical_nc_transcripts',len(atlas_canonical_nc_transcripts))"
   ]
  },
  {
   "cell_type": "markdown",
   "id": "d6402a30",
   "metadata": {},
   "source": [
    "## Convert FASTA to CSV\n",
    "Extract just the relevant transcripts from the FASTA.\n",
    "Convert to one-line format for ease of downstream processling."
   ]
  },
  {
   "cell_type": "code",
   "execution_count": 17,
   "id": "fcb9f412",
   "metadata": {},
   "outputs": [],
   "source": [
    "class fasta_reader():\n",
    "    '''Expect human transcripts FASTA file from GenCode.'''\n",
    "    def __init__(self,infile,outfile,biotype):\n",
    "        '''Biotype should be either 'pc' or 'lncRNA'.'''\n",
    "        self.infile = infile\n",
    "        self.outfile = outfile\n",
    "        self.biotype = biotype\n",
    "        self.FASTA_DEFCHAR = '>'  # signals a defline = definition line\n",
    "        self.headers='transcript_id,gene_id,biotype,length,sequence\\n'\n",
    "        self.allow_tids = None\n",
    "    def _print_one_sequence(self,handle,tran,gene,seq):\n",
    "        if seq is not None: # None means it was first defline in file\n",
    "            if tran in self.allow_tids:\n",
    "                biotype = self.biotype\n",
    "                length = str(len(seq))\n",
    "                outstr = ','.join((tran,gene,biotype,length,seq))\n",
    "                handle.write(outstr+'\\n')\n",
    "                self.count_out += 1\n",
    "    def fasta_to_csv(self,allow_tids):\n",
    "        self.allow_tids = allow_tids\n",
    "        self.count_in = 0\n",
    "        self.count_out = 0\n",
    "        with open(self.outfile,'w') as handle:\n",
    "            handle.write(self.headers)\n",
    "            with open(self.infile,'r') as fasta:\n",
    "                transcript_id = None\n",
    "                gene_id = None\n",
    "                next_seq = None\n",
    "                for line in fasta:\n",
    "                    if line[0]==self.FASTA_DEFCHAR:\n",
    "                        # Wrap up the previous sequence before moving on to the next.\n",
    "                        self._print_one_sequence(handle,transcript_id,gene_id,next_seq)\n",
    "                        # The defline starts with '>'\n",
    "                        # The defline has fields separated by vertical bar\n",
    "                        self.count_in += 1\n",
    "                        line = line[1:].strip()  # strip defchar and newline\n",
    "                        tokens = line.split('|')\n",
    "                        transcript_id = tokens[0] \n",
    "                        gene_id = tokens[1]   \n",
    "                        version_index=gene_id.find('.')   \n",
    "                        if version_index>=0:\n",
    "                            # chop off version number, like the 2 in ENSG00000198888.2\n",
    "                            gene_id = gene_id[:version_index]  \n",
    "                        next_seq = \"\"   # get ready for one to many sequence lines\n",
    "                    else:\n",
    "                        # In FASTA format, one sequence may continue to next line\n",
    "                        next_seq = next_seq + line.strip()  \n",
    "            # Reading FASTA, be sure to process the last sequence.\n",
    "            self._print_one_sequence(handle,transcript_id,gene_id,next_seq)\n",
    "        return self.count_in,self.count_out"
   ]
  },
  {
   "cell_type": "code",
   "execution_count": 28,
   "id": "a8c3e650",
   "metadata": {},
   "outputs": [
    {
     "name": "stdout",
     "output_type": "stream",
     "text": [
      "         GenCode transcripts: 252913\n",
      "Atlas all coding transcripts: 165307\n"
     ]
    }
   ],
   "source": [
    "fasta_db = fasta_reader(DATA_DIR+SEQUENCE,DATA_DIR+CODING_CSV_ALL,'pc')\n",
    "tin,tout=fasta_db.fasta_to_csv(atlas_all_pc_transcripts)\n",
    "print('         GenCode transcripts:',tin)\n",
    "print('Atlas all coding transcripts:',tout)"
   ]
  },
  {
   "cell_type": "code",
   "execution_count": 29,
   "id": "aa745082",
   "metadata": {},
   "outputs": [
    {
     "name": "stdout",
     "output_type": "stream",
     "text": [
      "               GenCode transcripts: 252913\n",
      "Atlas canonical coding transcripts: 17668\n"
     ]
    }
   ],
   "source": [
    "fasta_db = fasta_reader(DATA_DIR+SEQUENCE,DATA_DIR+CODING_CSV_CANON,'pc')\n",
    "tin,tout=fasta_db.fasta_to_csv(atlas_canonical_pc_transcripts)\n",
    "print('               GenCode transcripts:',tin)\n",
    "print('Atlas canonical coding transcripts:',tout)"
   ]
  },
  {
   "cell_type": "code",
   "execution_count": 30,
   "id": "606c3b5e",
   "metadata": {},
   "outputs": [
    {
     "name": "stdout",
     "output_type": "stream",
     "text": [
      "             GenCode transcripts: 252913\n",
      "Atlas all non-coding transcripts: 28997\n"
     ]
    }
   ],
   "source": [
    "fasta_db = fasta_reader(DATA_DIR+SEQUENCE,DATA_DIR+NONCODING_CSV_ALL,'pc')\n",
    "tin,tout=fasta_db.fasta_to_csv(atlas_all_nc_transcripts)\n",
    "print('             GenCode transcripts:',tin)\n",
    "print('Atlas all non-coding transcripts:',tout)"
   ]
  },
  {
   "cell_type": "code",
   "execution_count": 31,
   "id": "ddb2e9b5",
   "metadata": {},
   "outputs": [
    {
     "name": "stdout",
     "output_type": "stream",
     "text": [
      "                   GenCode transcripts: 252913\n",
      "Atlas canonical non-coding transcripts: 6423\n"
     ]
    }
   ],
   "source": [
    "fasta_db = fasta_reader(DATA_DIR+SEQUENCE,DATA_DIR+NONCODING_CSV_CANON,'pc')\n",
    "tin,tout=fasta_db.fasta_to_csv(atlas_canonical_nc_transcripts)\n",
    "print('                   GenCode transcripts:',tin)\n",
    "print('Atlas canonical non-coding transcripts:',tout)"
   ]
  },
  {
   "cell_type": "code",
   "execution_count": null,
   "id": "4e125152",
   "metadata": {},
   "outputs": [],
   "source": []
  }
 ],
 "metadata": {
  "kernelspec": {
   "display_name": "Python 3 (ipykernel)",
   "language": "python",
   "name": "python3"
  },
  "language_info": {
   "codemirror_mode": {
    "name": "ipython",
    "version": 3
   },
   "file_extension": ".py",
   "mimetype": "text/x-python",
   "name": "python",
   "nbconvert_exporter": "python",
   "pygments_lexer": "ipython3",
   "version": "3.10.0"
  }
 },
 "nbformat": 4,
 "nbformat_minor": 5
}
