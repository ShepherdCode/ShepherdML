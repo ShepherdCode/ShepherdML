{
 "cells": [
  {
   "cell_type": "markdown",
   "metadata": {},
   "source": [
    "# Write K-mer Counts 03 \n",
    "Separate counts for train and test sets."
   ]
  },
  {
   "cell_type": "code",
   "execution_count": 1,
   "metadata": {},
   "outputs": [
    {
     "name": "stdout",
     "output_type": "stream",
     "text": [
      "2022-10-13 14:57:44.724065\n",
      "Python 3.10.0\n"
     ]
    }
   ],
   "source": [
    "from datetime import datetime\n",
    "print(datetime.now())\n",
    "from platform import python_version\n",
    "print('Python',python_version())\n",
    "import numpy as np\n",
    "import math\n",
    "import random"
   ]
  },
  {
   "cell_type": "code",
   "execution_count": 2,
   "metadata": {},
   "outputs": [],
   "source": [
    "from KmerCounter import KmerCounter\n",
    "K=4"
   ]
  },
  {
   "cell_type": "code",
   "execution_count": 3,
   "metadata": {},
   "outputs": [],
   "source": [
    "GENCODE_DIR = '/Users/jasonmiller/WVU/Localization/GenCode/'\n",
    "ATLAS_DIR = '/Users/jasonmiller/WVU/Localization/LncAtlas/'\n",
    "\n",
    "GENCODE_FILES = [\n",
    "    'Homo_sapiens.GRCh38.cds.csv',\n",
    "    'Homo_sapiens.GRCh38.cds.csv',\n",
    "    'Homo_sapiens.GRCh38.ncrna.csv',\n",
    "    'Homo_sapiens.GRCh38.ncrna.csv'\n",
    "]\n",
    "ID_SUBSETS = [\n",
    "    'CNRCI_coding_test_genes.csv',\n",
    "    'CNRCI_coding_train_genes.csv',\n",
    "    'CNRCI_noncoding_test_genes.csv',\n",
    "    'CNRCI_noncoding_train_genes.csv'\n",
    "]\n",
    "SEQ_SUBSETS = [\n",
    "    'CNRCI_coding_test_sequences.csv',\n",
    "    'CNRCI_coding_train_sequences.csv',\n",
    "    'CNRCI_noncoding_test_sequences.csv',\n",
    "    'CNRCI_noncoding_train_sequences.csv'\n",
    "]\n",
    "KMER_COUNTS_TEXT = [\n",
    "    'CNRCI_coding_test_counts.K4.csv',\n",
    "    'CNRCI_coding_train_counts.K4.csv',\n",
    "    'CNRCI_noncoding_test_counts.K4.csv',\n",
    "    'CNRCI_noncoding_train_counts.K4.csv'\n",
    "]\n",
    "KMER_COUNTS_BINARY = [\n",
    "    'CNRCI_coding_test_counts.K4.npy',\n",
    "    'CNRCI_coding_train_counts.K4.npy',\n",
    "    'CNRCI_noncoding_test_counts.K4.npy',\n",
    "    'CNRCI_noncoding_train_counts.K4.npy'\n",
    "]"
   ]
  },
  {
   "cell_type": "markdown",
   "metadata": {},
   "source": [
    "## Load sequences"
   ]
  },
  {
   "cell_type": "code",
   "execution_count": 4,
   "metadata": {},
   "outputs": [],
   "source": [
    "def load_gene_ids(ids_file):\n",
    "    gene_ids = set()\n",
    "    with open(ids_file,'r') as handle:\n",
    "        header = None\n",
    "        for row in handle:\n",
    "            if header is None:\n",
    "                header = row\n",
    "            else:\n",
    "                fields = row.split(',')\n",
    "                gene_id = fields[0]\n",
    "                gene_ids.add(gene_id)\n",
    "    return gene_ids"
   ]
  },
  {
   "cell_type": "code",
   "execution_count": 5,
   "metadata": {},
   "outputs": [],
   "source": [
    "def load_subset(gene_ids,seq_file):\n",
    "    rows=[]\n",
    "    with open(seq_file,'r') as handle:\n",
    "        header = None\n",
    "        for row in handle:\n",
    "            if header is None:\n",
    "                header = row\n",
    "            else:\n",
    "                fields = row.split(',')\n",
    "                gene_id = fields[1]\n",
    "                if gene_id in gene_ids:\n",
    "                    rows.append(row)\n",
    "    return header,rows"
   ]
  },
  {
   "cell_type": "code",
   "execution_count": 6,
   "metadata": {},
   "outputs": [],
   "source": [
    "def save_rows(header,rows,seq_file):\n",
    "    with open (seq_file,'w') as output:\n",
    "        output.write(header)\n",
    "        for row in rows:\n",
    "            output.write(row)"
   ]
  },
  {
   "cell_type": "code",
   "execution_count": 7,
   "metadata": {},
   "outputs": [],
   "source": [
    "def kmers_from_file(K,filename,verbose=True):\n",
    "    counter = KmerCounter()\n",
    "    counter.setK(K)\n",
    "    ordered_kmer_counts = []\n",
    "    tock = 1000\n",
    "    tick = 0\n",
    "    i=0\n",
    "    header = None\n",
    "    with open (filename,'r') as infile:\n",
    "        for row in infile:\n",
    "            if header is None:\n",
    "                header = row\n",
    "            else:\n",
    "                if verbose:\n",
    "                    tick += 1\n",
    "                    if tick >= tock:\n",
    "                        tick = 1\n",
    "                        print('.',end='')\n",
    "                fields = row.split(',')\n",
    "                seq = fields[4]\n",
    "                counts = counter.seq_to_kmer_counts(seq)\n",
    "                ordered_kmer_counts.append(counts)\n",
    "                i += 1\n",
    "    if verbose:\n",
    "        print()\n",
    "    numpy_kmer_counts = np.asarray(ordered_kmer_counts)\n",
    "    return numpy_kmer_counts"
   ]
  },
  {
   "cell_type": "code",
   "execution_count": 8,
   "metadata": {},
   "outputs": [],
   "source": [
    "def make_headers(K):\n",
    "    counter = KmerCounter()\n",
    "    counter.setK(K)\n",
    "    token = 'A'*K\n",
    "    headers='gene_id,transcript_id,'+token\n",
    "    token=counter.next_kmer(token)\n",
    "    while token is not None:\n",
    "        headers = headers + ',' + token\n",
    "        token=counter.next_kmer(token)\n",
    "    return headers"
   ]
  },
  {
   "cell_type": "code",
   "execution_count": 9,
   "metadata": {},
   "outputs": [],
   "source": [
    "def save_as_text(header,kmer_counts,seq_file,out_file):\n",
    "    with open(out_file,'w') as ofile, open(seq_file,'r') as ifile:\n",
    "        ofile.write(header)\n",
    "        ofile.write('\\n')\n",
    "        i=0\n",
    "        headline = None\n",
    "        for line in ifile:\n",
    "            if headline is None:\n",
    "                headline = line\n",
    "            else:\n",
    "                fields = line.split(',')\n",
    "                transcript_id = fields[0]\n",
    "                gene_id = fields[1]\n",
    "                counts = kmer_counts[i]\n",
    "                elements = []\n",
    "                for element in counts:\n",
    "                    elements.append(str(element))\n",
    "                all_elements=','.join(elements)\n",
    "                outline = gene_id+','+transcript_id+','+all_elements\n",
    "                ofile.write(outline)\n",
    "                ofile.write('\\n')\n",
    "                i += 1"
   ]
  },
  {
   "cell_type": "code",
   "execution_count": 10,
   "metadata": {},
   "outputs": [],
   "source": [
    "def save_as_binary(kmer_counts,filename):\n",
    "    NUMPY_ARRAY = np.asarray(kmer_counts)\n",
    "    np.save(filename,NUMPY_ARRAY,allow_pickle=True)"
   ]
  },
  {
   "cell_type": "code",
   "execution_count": 12,
   "metadata": {},
   "outputs": [
    {
     "name": "stdout",
     "output_type": "stream",
     "text": [
      "2022-10-13 15:01:27.314812\n",
      "2022-10-13 15:01:27.315894\n",
      "Read gene id subset from /Users/jasonmiller/WVU/Localization/LncAtlas/CNRCI_coding_test_genes.csv\n",
      "Read subset of rows from /Users/jasonmiller/WVU/Localization/GenCode/Homo_sapiens.GRCh38.cds.csv\n",
      "Write subset of rows to /Users/jasonmiller/WVU/Localization/GenCode/CNRCI_coding_test_sequences.csv\n",
      "2022-10-13 15:01:27.776410\n",
      "Count K-mers, K= 4\n",
      "................\n",
      "2022-10-13 15:03:51.137810\n",
      "Save counts to text file /Users/jasonmiller/WVU/Localization/GenCode/CNRCI_coding_test_counts.K4.csv\n",
      "Save counts to binary file /Users/jasonmiller/WVU/Localization/GenCode/CNRCI_coding_test_counts.K4.npy\n",
      "\n",
      "2022-10-13 15:03:55.939109\n",
      "Read gene id subset from /Users/jasonmiller/WVU/Localization/LncAtlas/CNRCI_coding_train_genes.csv\n",
      "Read subset of rows from /Users/jasonmiller/WVU/Localization/GenCode/Homo_sapiens.GRCh38.cds.csv\n",
      "Write subset of rows to /Users/jasonmiller/WVU/Localization/GenCode/CNRCI_coding_train_sequences.csv\n",
      "2022-10-13 15:03:56.956858\n",
      "Count K-mers, K= 4\n",
      "....................................................................\n",
      "2022-10-13 15:13:53.233173\n",
      "Save counts to text file /Users/jasonmiller/WVU/Localization/GenCode/CNRCI_coding_train_counts.K4.csv\n",
      "Save counts to binary file /Users/jasonmiller/WVU/Localization/GenCode/CNRCI_coding_train_counts.K4.npy\n",
      "\n",
      "2022-10-13 15:14:07.702887\n",
      "Read gene id subset from /Users/jasonmiller/WVU/Localization/LncAtlas/CNRCI_noncoding_test_genes.csv\n",
      "Read subset of rows from /Users/jasonmiller/WVU/Localization/GenCode/Homo_sapiens.GRCh38.ncrna.csv\n",
      "Write subset of rows to /Users/jasonmiller/WVU/Localization/GenCode/CNRCI_noncoding_test_sequences.csv\n",
      "2022-10-13 15:14:08.061132\n",
      "Count K-mers, K= 4\n",
      "........\n",
      "2022-10-13 15:15:30.706364\n",
      "Save counts to text file /Users/jasonmiller/WVU/Localization/GenCode/CNRCI_noncoding_test_counts.K4.csv\n",
      "Save counts to binary file /Users/jasonmiller/WVU/Localization/GenCode/CNRCI_noncoding_test_counts.K4.npy\n",
      "\n",
      "2022-10-13 15:15:32.522971\n",
      "Read gene id subset from /Users/jasonmiller/WVU/Localization/LncAtlas/CNRCI_noncoding_train_genes.csv\n",
      "Read subset of rows from /Users/jasonmiller/WVU/Localization/GenCode/Homo_sapiens.GRCh38.ncrna.csv\n",
      "Write subset of rows to /Users/jasonmiller/WVU/Localization/GenCode/CNRCI_noncoding_train_sequences.csv\n",
      "2022-10-13 15:15:32.793968\n",
      "Count K-mers, K= 4\n",
      "..................\n",
      "2022-10-13 15:18:28.368433\n",
      "Save counts to text file /Users/jasonmiller/WVU/Localization/GenCode/CNRCI_noncoding_train_counts.K4.csv\n",
      "Save counts to binary file /Users/jasonmiller/WVU/Localization/GenCode/CNRCI_noncoding_train_counts.K4.npy\n",
      "\n"
     ]
    }
   ],
   "source": [
    "print(datetime.now())\n",
    "iterations = 4  # make this 4 after testing\n",
    "K=4\n",
    "for i in range(iterations):\n",
    "    print(datetime.now())\n",
    "\n",
    "    gene_subset = ATLAS_DIR+ID_SUBSETS[i]\n",
    "    print('Read gene id subset from',gene_subset)\n",
    "    ids = load_gene_ids(gene_subset)\n",
    "\n",
    "    all_seqs = GENCODE_DIR+GENCODE_FILES[i]\n",
    "    print('Read subset of rows from',all_seqs)\n",
    "    header,rows = load_subset(ids,all_seqs)\n",
    "\n",
    "    seqfile = GENCODE_DIR+SEQ_SUBSETS[i]\n",
    "    print('Write subset of rows to',seqfile)\n",
    "    save_rows(header,rows,seqfile)\n",
    "\n",
    "    print(datetime.now())\n",
    "    print('Count K-mers, K=',K)\n",
    "    ordered_kmer_counts=kmers_from_file(K,seqfile)\n",
    "    print(datetime.now())\n",
    "\n",
    "    text_file = GENCODE_DIR+KMER_COUNTS_TEXT[i]\n",
    "    print('Save counts to text file',text_file)\n",
    "    headers = make_headers(K)\n",
    "    save_as_text(headers,ordered_kmer_counts,seqfile,text_file)\n",
    "\n",
    "    binary_file = GENCODE_DIR+KMER_COUNTS_BINARY[i]\n",
    "    print('Save counts to binary file',binary_file)\n",
    "    save_as_binary(ordered_kmer_counts,binary_file)\n",
    "    \n",
    "    print()"
   ]
  },
  {
   "cell_type": "code",
   "execution_count": null,
   "metadata": {},
   "outputs": [],
   "source": [
    "print(datetime.now())"
   ]
  },
  {
   "cell_type": "code",
   "execution_count": null,
   "metadata": {},
   "outputs": [],
   "source": []
  }
 ],
 "metadata": {
  "kernelspec": {
   "display_name": "Python 3 (ipykernel)",
   "language": "python",
   "name": "python3"
  },
  "language_info": {
   "codemirror_mode": {
    "name": "ipython",
    "version": 3
   },
   "file_extension": ".py",
   "mimetype": "text/x-python",
   "name": "python",
   "nbconvert_exporter": "python",
   "pygments_lexer": "ipython3",
   "version": "3.10.0"
  }
 },
 "nbformat": 4,
 "nbformat_minor": 2
}
