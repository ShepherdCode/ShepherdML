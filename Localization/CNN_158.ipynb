{
  "cells": [
    {
      "cell_type": "markdown",
      "metadata": {
        "id": "PG-tGRnlFLA3"
      },
      "source": [
        "# CNN + GlobalAvgPool\n",
        "Measure AUPRC.\n",
        "Use median rather than max RCI."
      ]
    },
    {
      "cell_type": "code",
      "execution_count": 8,
      "metadata": {
        "colab": {
          "base_uri": "https://localhost:8080/"
        },
        "id": "0RmwUsVLFLA6",
        "outputId": "e05ad766-068c-46bb-ec63-d79994be378b"
      },
      "outputs": [
        {
          "output_type": "stream",
          "name": "stdout",
          "text": [
            "2023-01-26 13:49:19.307899\n",
            "Python 3.8.10\n",
            "sklearn 1.0.2\n"
          ]
        }
      ],
      "source": [
        "from datetime import datetime\n",
        "print(datetime.now())\n",
        "from platform import python_version\n",
        "print('Python',python_version())\n",
        "import numpy as np\n",
        "import pandas as pd\n",
        "import pickle\n",
        "import time # sleep function\n",
        "from os.path import isfile\n",
        "from matplotlib import pyplot as plt \n",
        "import sklearn   # pip install --upgrade scikit-learn\n",
        "print('sklearn',sklearn.__version__)"
      ]
    },
    {
      "cell_type": "markdown",
      "metadata": {
        "id": "tUtGXPrcFLA8"
      },
      "source": [
        "We prevously used sklearn.model_selection.ShuffleSplit   \n",
        "Now we avoid it due to this note in the \n",
        "[documentation](https://scikit-learn.org/stable/modules/generated/sklearn.model_selection.ShuffleSplit.html):\n",
        "Note: contrary to other cross-validation strategies, random splits do not guarantee that all folds will be different, although this is still very likely for sizeable datasets."
      ]
    },
    {
      "cell_type": "code",
      "execution_count": 9,
      "metadata": {
        "id": "PRX-UEr8FLA8"
      },
      "outputs": [],
      "source": [
        "import tensorflow as tf\n",
        "dt='float32'\n",
        "tf.keras.backend.set_floatx('float32')\n",
        "tf.random.set_seed(42) \n",
        "\n",
        "from tensorflow import keras\n",
        "from sklearn.model_selection import KFold\n",
        "from sklearn.metrics import accuracy_score\n",
        "from sklearn.metrics import precision_score\n",
        "from sklearn.metrics import recall_score\n",
        "from sklearn.metrics import f1_score\n",
        "from sklearn.metrics import precision_recall_curve\n",
        "from sklearn.metrics import auc\n",
        "\n",
        "from keras.models import Sequential\n",
        "from keras.layers import Masking\n",
        "from keras.layers import Embedding\n",
        "from keras.layers import Conv1D\n",
        "from keras.layers import MaxPooling1D\n",
        "from keras.layers import GlobalAveragePooling1D\n",
        "from keras.layers import GlobalMaxPooling1D\n",
        "from keras.layers import Bidirectional\n",
        "from keras.layers import LSTM\n",
        "from keras.layers import TimeDistributed\n",
        "from keras.layers import Flatten\n",
        "from keras.layers import Dense\n",
        "from keras.layers import Dropout\n",
        "from keras.losses import BinaryCrossentropy\n",
        "\n",
        "K=3\n",
        "RCI_THRESHOLD=0.0\n",
        "CFILTERS=64\n",
        "FILTERSIZE=8\n",
        "RCELLS=32\n",
        "DCELLS=16\n",
        "EPOCHS=10\n",
        "FOLDS=5      \n",
        "EMBED_DIMEN = 4 # arbitrary hyperparameter\n",
        "BREAK = False   # break after first fold\n",
        "MINLEN=200\n",
        "MAXLEN=4000   "
      ]
    },
    {
      "cell_type": "code",
      "execution_count": 10,
      "metadata": {
        "colab": {
          "base_uri": "https://localhost:8080/"
        },
        "id": "OlzN9OdsFWEU",
        "outputId": "f044d4d3-d68c-4fb9-d13e-7ebabc94cc24"
      },
      "outputs": [
        {
          "output_type": "stream",
          "name": "stdout",
          "text": [
            "Running on CoLab\n",
            "Drive already mounted at /content/drive/; to attempt to forcibly remount, call drive.mount(\"/content/drive/\", force_remount=True).\n",
            "/content/drive/My Drive/data/Localization/TrainTest/\n"
          ]
        }
      ],
      "source": [
        "try:\n",
        "    from google.colab import drive\n",
        "    IN_COLAB = True\n",
        "    print('Running on CoLab')\n",
        "    PATH='/content/drive/'\n",
        "    drive.mount(PATH)\n",
        "    DATA_DIR=PATH+'My Drive/data/Localization/TrainTest/'  # must end in \"/\"\n",
        "except:\n",
        "    IN_COLAB = False\n",
        "    DATA_DIR = 'D:/Adjeroh/Localization/TrainTest/'   # Windows\n",
        "    DATA_DIR = '/Users/jasonmiller/WVU/Localization/TrainTest/'    # Mac\n",
        "print(DATA_DIR)"
      ]
    },
    {
      "cell_type": "code",
      "execution_count": 11,
      "metadata": {
        "id": "LnkpVKdMFLA-"
      },
      "outputs": [],
      "source": [
        "GENES_FILE =    'CNRCI_coding_train_genes.csv'\n",
        "RCI_FILE =      'CNRCI_coding_train_RCI.gc42.csv'\n",
        "SEQUENCE_FILE = 'CNRCI_coding_train_transcripts.gc42.csv'\n",
        "COUNTS_FILE =   'CNRCI_coding_train_counts.K4.gc42.csv'\n",
        "PICKLE_FILE =   'CNRCI_coding_combined_K3.pkl'"
      ]
    },
    {
      "cell_type": "code",
      "execution_count": 12,
      "metadata": {
        "colab": {
          "base_uri": "https://localhost:8080/"
        },
        "id": "e3p4QzQJFLA_",
        "outputId": "0607ac1c-2b9d-4ebe-e160-db561c33895a"
      },
      "outputs": [
        {
          "output_type": "stream",
          "name": "stdout",
          "text": [
            "Exclude cell line 1 H1.hESC\n",
            "Exclude cell line 7 NCI.H460\n"
          ]
        }
      ],
      "source": [
        "def get_ordered_list():\n",
        "    ordered_list = \\\n",
        "    ['A549',\\\n",
        "      'H1.hESC',\\\n",
        "      'HeLa.S3',\\\n",
        "      'HepG2',\\\n",
        "      'HT1080',\\\n",
        "      'HUVEC',\\\n",
        "      'MCF.7',\\\n",
        "      'NCI.H460',\\\n",
        "      'NHEK',\\\n",
        "      'SK.MEL.5',\\\n",
        "      'SK.N.DZ',\\\n",
        "      'SK.N.SH',\\\n",
        "      'GM12878',\\\n",
        "      'K562',\\\n",
        "      'IMR.90']\n",
        "    return ordered_list\n",
        "all_cell_lines = get_ordered_list()\n",
        "EXCLUSIONS = [1,7]\n",
        "for c in EXCLUSIONS:\n",
        "    print('Exclude cell line',c,all_cell_lines[c])"
      ]
    },
    {
      "cell_type": "markdown",
      "metadata": {
        "id": "UtqdpJOxFLBA"
      },
      "source": [
        "## Data Load"
      ]
    },
    {
      "cell_type": "code",
      "execution_count": 13,
      "metadata": {
        "colab": {
          "base_uri": "https://localhost:8080/"
        },
        "id": "p35ehKV3Kq0z",
        "outputId": "de8166f1-a659-41b4-e1a5-55a11c8e6041"
      },
      "outputs": [
        {
          "output_type": "stream",
          "name": "stdout",
          "text": [
            "[1, 1]\n",
            "[20, 16]\n",
            "[63, 57]\n",
            "[64, 0]\n",
            "0\n",
            "1\n"
          ]
        }
      ],
      "source": [
        "class DataLoader():\n",
        "    def __init__(self):\n",
        "        self.cache=dict() \n",
        "        self.vals = {'A':0, 'C':1, 'G':2, 'T':3}\n",
        "        \n",
        "    def load_gene_rci_values(self,filepath,exclusions=[]):\n",
        "        '''\n",
        "        Load from RCI csv file.\n",
        "        Return dict with keys=gene:str and values=RCI:float.\n",
        "        '''\n",
        "        gene_to_rci = {}\n",
        "        overall_sum = 0\n",
        "        with open (filepath,'r') as handle:\n",
        "            header = None\n",
        "            for row in handle:\n",
        "                if header is None:\n",
        "                    header = row # skip file's header line\n",
        "                else:\n",
        "                    line = row.strip()\n",
        "                    fields = line.split(',')\n",
        "                    gene_id = fields.pop(0)\n",
        "                    rci_list = []\n",
        "                    cell_line = 0 # first line is 0 = A549\n",
        "                    for rci_str in fields:\n",
        "                        if rci_str != \"nan\" and cell_line not in exclusions:\n",
        "                            rci_val = float(rci_str)\n",
        "                            rci_list.append(rci_val)\n",
        "                        cell_line += 1   \n",
        "                    if len(rci_list) > 0:\n",
        "                        statistic = np.median(rci_list)\n",
        "                        gene_to_rci[gene_id] = statistic\n",
        "                        overall_sum += statistic\n",
        "        overall_count = len(gene_to_rci.keys())\n",
        "        overall_mean = overall_sum / overall_count\n",
        "        print('Number of RCI values lo',overall_count)\n",
        "        print('Mean RCI value',overall_mean)\n",
        "        return gene_to_rci\n",
        "    \n",
        "    def seq_to_kmer_values(self,rna,K):\n",
        "        # The cache may represent more than one K. Probably not a problem.\n",
        "        N_indicator = 0 # indicator value\n",
        "        vec=[] # seq converted to list of K-mers \n",
        "        length = len(rna)\n",
        "        for i in range(length-K+1):\n",
        "            kmer = rna[i:i+K]\n",
        "            if 'N' in kmer:\n",
        "                value = N_indicator\n",
        "            elif kmer in self.cache.keys():\n",
        "                value = self.cache[kmer]\n",
        "            else:\n",
        "                value = 0\n",
        "                for j in range(K):\n",
        "                    value *= 4   \n",
        "                    nextnuc = kmer[j] \n",
        "                    nucval = self.vals[nextnuc]\n",
        "                    value += nucval\n",
        "                value += 1   # NNN => 0, AAA => 1\n",
        "                self.cache[kmer] = value\n",
        "            vec.append(value)\n",
        "        return vec\n",
        "\n",
        "    def rci_to_label(self,rci):\n",
        "        CYTO_LABEL = 1\n",
        "        NUCLEAR_LABEL = 0\n",
        "        # cnrci = log (cyto-to-nuclear ratio)\n",
        "        # rci > 0 implies cytoplasmic\n",
        "        if rci > RCI_THRESHOLD:\n",
        "            return CYTO_LABEL\n",
        "        return NUCLEAR_LABEL\n",
        "\n",
        "    def load_sequence(self,filepath):\n",
        "        labels=[]\n",
        "        allids=[]\n",
        "        allseq=[]\n",
        "        cache = DATA_DIR+PICKLE_FILE # TO DO: parameterize\n",
        "        if isfile(cache):\n",
        "            with open(cache,'rb') as fin:\n",
        "                alldata = pickle.load(fin)\n",
        "                labels=alldata[0]\n",
        "                allids=alldata[1]\n",
        "                allseq=alldata[2]\n",
        "                return labels,allids,allseq\n",
        "\n",
        "        NREPEAT = str('N'*MAXLEN)\n",
        "        with open (filepath,'r') as handle:\n",
        "            header = None\n",
        "            for row in handle:\n",
        "                if header is None:\n",
        "                    header = row\n",
        "                else:\n",
        "                    line    = row.strip()\n",
        "                    fields  = line.split(',')\n",
        "                    tran_id = fields[0]  # with version number\n",
        "                    gene_id = fields[1]        # without version number\n",
        "                    seq_len = int(fields[3])\n",
        "                    seq_txt = fields[4]\n",
        "                    if seq_len>=MINLEN and seq_len<=MAXLEN and gene_id in gene_to_rci.keys():\n",
        "                        allids.append( (gene_id,tran_id) )\n",
        "                        rci_val = gene_to_rci[gene_id]\n",
        "                        rci_label = self.rci_to_label(rci_val)\n",
        "                        labels.append(rci_label)\n",
        "                        if seq_len<MAXLEN:\n",
        "                            seq_txt = seq_txt + NREPEAT\n",
        "                            seq_txt = seq_txt[:MAXLEN]\n",
        "                        hot_vec = self.seq_to_kmer_values(seq_txt,K)\n",
        "                        allseq.append(hot_vec)\n",
        "        with open(cache,'wb') as fout:\n",
        "            alldata = [labels,allids,allseq]\n",
        "            pickle.dump(alldata,fout)\n",
        "        return labels,allids,allseq\n",
        "    \n",
        "loader = DataLoader()\n",
        "# test it\n",
        "print(loader.seq_to_kmer_values('AAAA',3))\n",
        "print(loader.seq_to_kmer_values('CATT',3))\n",
        "print(loader.seq_to_kmer_values('TTGA',3))\n",
        "print(loader.seq_to_kmer_values('TTTN',3))\n",
        "# test it\n",
        "print(loader.rci_to_label(-0.9))\n",
        "print(loader.rci_to_label(1.1))"
      ]
    },
    {
      "cell_type": "code",
      "execution_count": 14,
      "metadata": {
        "colab": {
          "base_uri": "https://localhost:8080/"
        },
        "id": "cYoYDc93FLBB",
        "outputId": "b63844c7-7f03-428d-900a-a4d6ec51a9ee"
      },
      "outputs": [
        {
          "output_type": "stream",
          "name": "stdout",
          "text": [
            "2023-01-26 13:49:21.354181\n",
            "Load RCI values...\n",
            "Number of RCI values lo 13512\n",
            "Mean RCI value -0.20493295871695527\n",
            "Num RCI: 13512\n",
            "Example RCI: [('ENSG00000000003', 1.50595), ('ENSG00000000419', 1.15523), ('ENSG00000000457', -0.78064)]\n",
            "Load genes...\n",
            "2023-01-26 13:49:23.270964\n",
            "Load sequence...\n",
            "2023-01-26 13:50:38.935124\n",
            "Num IDs: 54410\n",
            "Example IDs: [('ENSG00000187634', 'ENST00000455979.1'), ('ENSG00000187608', 'ENST00000624652.1'), ('ENSG00000131591', 'ENST00000427787.5'), ('ENSG00000186827', 'ENST00000699969.1')]\n",
            "Count 26044 ones out of 54410 labels.\n",
            "Num labels: 54410\n",
            "Example labels: [0, 1, 0, 0]\n",
            "Num sequences: 54410\n",
            "Example sequence: [37, 19, 9, 35, 10, 38, 22, 21, 19, 10, 37, 19, 9, 36, 14, 54, 22, 24, 31, 58, 39, 27, 42, 39, 28, 48, 62, 55, 26, 39, 25, 35, 11, 43, 44, 47, 59, 43, 41, 34, 7, 27, 43, 41, 33, 3, 10, 39, 27, 43, 42, 40, 31, 59, 43, 41, 33, 3, 12, 46, 55, 27, 43, 42, 38, 23, 25, 35, 11, 43, 41, 33, 1, 1, 3, 12, 46, 56, 31, 57, 33, 3, 9, 34, 7, 26, 40, 32, 61, 52, 15, 60, 46, 54, 21, 17, 3, 11, 43, 43, 41, 36, 14, 54, 24, 31, 58, 37, 19, 11, 44, 47, 58, 37, 20, 14, 54, 24, 30, 54, 23, 25, 36, 14, 56, 31, 58, 39, 25, 34, 8, 31, 58, 38, 22, 23, 27, 43, 42, 40, 31, 58, 38, 23, 25, 33, 4, 13, 52, 14, 54, 24, 30, 54, 22, 22, 23, 27, 44, 47, 57, 33, 2, 6, 23, 27, 43, 43, 43, 42, 39, 27, 42, 40, 31, 59, 42, 37, 19, 9, 34, 5, 17, 3, 9, 35, 11, 41, 34, 5, 19, 12, 46, 55, 26, 38, 22, 24, 31, 58, 38, 24, 31, 58, 38, 23, 26, 38, 22, 23, 27, 41, 33, 2, 6, 24, 31, 57, 33, 3, 9, 33, 3, 11, 41, 35, 10, 39, 25, 33, 2, 8, 30, 54, 22, 21, 19, 10, 40, 32, 62, 56, 30, 56, 31, 58, 38, 21, 19, 10, 39, 25, 36, 15, 59, 44, 47, 57, 34, 5, 19, 10, 39, 25, 34, 7, 27, 43, 41, 35, 12, 47, 59, 42, 38, 22, 22, 21, 18, 6, 24, 31, 60, 47, 59, 43, 42, 39, 27, 42, 39, 27, 42, 38, 21, 19, 11, 42, 40, 32, 63, 57, 33, 3, 10, 37, 19, 11, 41, 35, 11, 41, 36, 15, 59, 44, 46, 54, 23, 26, 37, 18, 5, 20, 14, 54, 23, 28, 45, 52, 14, 53, 20, 15, 57, 33, 3, 9, 35, 9, 33, 3, 9, 35, 12, 46, 54, 21, 18, 5, 18, 6, 22, 21, 18, 8, 31, 59, 43, 41, 34, 7, 28, 47, 57, 33, 2, 5, 20, 14, 56, 30, 56, 32, 64, 62, 54, 23, 25, 35, 9, 35, 11, 42, 39, 28, 46, 54, 24, 31, 58, 37, 19, 10, 38, 21, 19, 11, 41, 34, 7, 27, 42, 37, 17, 2, 6, 24, 32, 62, 54, 22, 21, 18, 6, 22, 24, 30, 53, 20, 13, 52, 14, 54, 21, 19, 10, 39, 28, 46, 54, 21, 18, 6, 23, 26, 37, 19, 10, 38, 23, 26, 38, 21, 18, 6, 24, 30, 55, 28, 48, 61, 52, 15, 58, 38, 22, 23, 25, 35, 10, 37, 20, 14, 53, 19, 9, 35, 10, 38, 23, 26, 40, 31, 60, 47, 57, 33, 4, 16, 62, 54, 21, 19, 9, 35, 9, 35, 11, 42, 37, 19, 10, 38, 24, 31, 59, 41, 35, 9, 36, 16, 63, 59, 42, 38, 24, 31, 58, 39, 25, 34, 6, 22, 23, 26, 38, 23, 27, 44, 47, 57, 34, 6, 24, 31, 60, 48, 63, 59, 43, 42, 37, 17, 3, 9, 35, 11, 42, 40, 31, 59, 43, 42, 38, 23, 26, 40, 30, 54, 22, 22, 22, 22, 23, 28, 45, 52, 14, 53, 19, 10, 37, 19, 10, 39, 25, 34, 8, 31, 58, 40, 32, 64, 64, 62, 53, 19, 9, 35, 9, 33, 3, 9, 35, 11, 43, 42, 37, 18, 7, 25, 33, 3, 10, 39, 25, 33, 4, 14, 55, 26, 38, 24, 30, 53, 17, 3, 9, 35, 11, 42, 39, 26, 40, 31, 58, 40, 31, 58, 40, 31, 58, 38, 23, 26, 39, 27, 43, 41, 35, 10, 40, 31, 59, 43, 43, 42, 38, 22, 21, 19, 10, 37, 20, 15, 59, 42, 38, 22, 22, 23, 27, 41, 35, 11, 41, 34, 6, 21, 20, 16, 61, 50, 6, 23, 26, 38, 23, 27, 42, 40, 32, 63, 60, 47, 60, 46, 53, 19, 10, 37, 18, 8, 31, 57, 35, 10, 39, 25, 35, 11, 42, 38, 21, 19, 10, 37, 18, 6, 24, 32, 64, 63, 57, 35, 11, 41, 34, 6, 22, 24, 30, 53, 19, 10, 39, 26, 38, 24, 30, 56, 29, 50, 6, 21, 18, 6, 24, 31, 59, 43, 42, 38, 24, 30, 54, 22, 22, 21, 19, 10, 38, 21, 18, 7, 27, 44, 47, 57, 35, 11, 41, 34, 6, 22, 21, 18, 6, 22, 24, 31, 59, 42, 37, 20, 15, 57, 36, 14, 54, 22, 22, 22, 24, 30, 53, 20, 14, 53, 18, 6, 24, 30, 54, 22, 22, 21, 19, 10, 38, 21, 18, 7, 25, 36, 14, 56, 30, 54, 24, 31, 57, 35, 11, 43, 44, 46, 54, 23, 27, 42, 37, 19, 11, 41, 35, 11, 44, 47, 59, 42, 39, 27, 42, 40, 31, 58, 37, 19, 10, 40, 30, 56, 31, 57, 35, 11, 43, 43, 42, 38, 22, 22, 21, 19, 12, 47, 59, 42, 38, 24, 31, 59, 41, 33, 3, 10, 38, 22, 21, 18, 6, 24, 31, 58, 38, 22, 24, 30, 54, 24, 30, 54, 21, 18, 7, 27, 42, 37, 19, 11, 44, 46, 53, 19, 10, 39, 28, 46, 55, 27, 41, 33, 3, 10, 37, 19, 11, 43, 42, 38, 24, 31, 59, 42, 40, 30, 53, 19, 10, 37, 18, 6, 23, 27, 43, 41, 35, 11, 43, 42, 39, 26, 38, 23, 26, 38, 22, 22, 21, 19, 10, 40, 31, 58, 38, 23, 26, 38, 22, 22, 23, 28, 46, 54, 24, 32, 62, 56, 30, 55, 27, 41, 35, 9, 35, 11, 43, 41, 35, 10, 40, 31, 58, 38, 24, 30, 53, 19, 10, 38, 23, 26, 38, 22, 22, 22, 22, 24, 32, 63, 58, 40, 31, 60, 46, 55, 26, 38, 23, 26, 37, 19, 9, 33, 4, 15, 58, 38, 22, 22, 24, 30, 53, 18, 7, 28, 46, 55, 26, 38, 22, 24, 31, 59, 43, 42, 38, 22, 22, 22, 21, 20, 14, 56, 30, 53, 19, 11, 42, 38, 22, 22, 22, 22, 24, 32, 62, 54, 24, 31, 59, 43, 43, 43, 44, 47, 58, 38, 22, 24, 30, 55, 27, 42, 40, 30, 56, 31, 60, 47, 58, 38, 21, 19, 9, 34, 6, 22, 22, 21, 19, 11, 42, 40, 29, 50, 7, 27, 42, 40, 32, 62, 54, 24, 31, 58, 38, 22, 22, 22, 22, 23, 26, 39, 26, 37, 19, 11, 42, 39, 27, 41, 35, 9, 36, 15, 60, 48, 62, 55, 26, 38, 24, 31, 59, 42, 37, 19, 10, 37, 19, 11, 41, 35, 10, 40, 30, 54, 24, 31, 58, 39, 27, 41, 33, 3, 10, 37, 19, 9, 33, 2, 6, 24, 31, 59, 42, 38, 22, 23, 27, 42, 40, 31, 59, 41, 35, 10, 40, 31, 58, 38, 22, 23, 26, 38, 23, 25, 34, 6, 24, 30, 54, 24, 31, 58, 39, 27, 42, 37, 19, 9, 33, 3, 11, 41, 35, 10, 40, 31, 59, 41, 35, 9, 35, 10, 39, 26, 39, 26, 39, 26, 38, 22, 21, 18, 5, 19, 10, 40, 31, 58, 40, 31, 59, 42, 39, 26, 38, 22, 23, 25, 35, 9, 34, 6, 23, 26, 38, 22, 24, 31, 58, 39, 26, 38, 22, 22, 21, 17, 2, 7, 25, 34, 7, 27, 42, 39, 26, 38, 23, 25, 35, 11, 41, 35, 10, 40, 31, 58, 37, 19, 10, 39, 27, 42, 39, 26, 39, 27, 43, 43, 42, 38, 22, 24, 31, 58, 40, 31, 59, 44, 47, 58, 40, 31, 57, 33, 2, 6, 21, 18, 7, 27, 42, 39, 26, 39, 27, 42, 39, 26, 38, 21, 18, 8, 31, 58, 40, 31, 59, 42, 38, 22, 24, 31, 58, 38, 22, 22, 22, 22, 22, 21, 19, 11, 43, 43, 42, 38, 22, 22, 22, 23, 27, 43, 42, 40, 30, 54, 23, 27, 41, 34, 6, 22, 22, 22, 22, 21, 18, 6, 22, 22, 23, 28, 46, 54, 22, 23, 27, 43, 41, 34, 8, 30, 56, 31, 58, 38, 22, 23, 27, 42, 39, 25, 35, 10, 38, 22, 22, 22, 22, 23, 27, 41, 33, 3, 11, 43, 43, 43, 43, 44, 46, 54, 22, 23, 27, 42, 38, 22, 24, 31, 58, 38, 24, 30, 53, 19, 10, 39, 26, 39, 27, 42, 38, 22, 21, 19, 10, 39, 25, 35, 12, 46, 54, 21, 17, 3, 11, 41, 35, 9, 36, 15, 57, 34, 7, 27, 43, 43, 43, 42, 40, 29, 51, 11, 42, 40, 30, 56, 31, 59, 43, 42, 37, 18, 5, 17, 3, 9, 36, 15, 59, 42, 40, 30, 55, 27, 41, 33, 3, 9, 34, 7, 25, 35, 10, 38, 22, 22, 22, 22, 21, 17, 1, 3, 9, 34, 8, 30, 55, 27, 41, 34, 7, 27, 41, 35, 9, 35, 11, 41, 34, 6, 22, 22, 23, 25, 35, 9, 34, 7, 27, 42, 37, 19, 10, 40, 31, 60, 48, 63, 59, 43, 44, 47, 58, 37, 19, 11, 43, 43, 43, 42, 38, 22, 21, 18, 8, 30, 54, 23, 27, 43, 42, 38, 21, 17, 3, 10, 40, 30, 54, 21, 19, 10, 40, 31, 59, 41, 35, 11, 43, 43, 42, 38, 23, 27, 42, 39, 26, 38, 23, 25, 35, 11, 43, 43, 41, 33, 3, 11, 43, 43, 42, 40, 32, 64, 64, 62, 54, 22, 21, 19, 11, 43, 44, 46, 54, 21, 18, 5, 18, 8, 31, 58, 38, 22, 22, 24, 31, 59, 43, 42, 40, 32, 62, 54, 22, 24, 32, 61, 52, 15, 58, 38, 23, 28, 46, 53, 19, 10, 38, 22, 22, 24, 29, 50, 8, 32, 62, 54, 21, 18, 5, 18, 5, 19, 11, 42, 39, 26, 39, 27, 44, 45, 51, 11, 43, 43, 43, 41, 34, 8, 30, 56, 30, 54, 21, 20, 15, 59, 41, 36, 15, 59, 43, 43, 41, 35, 11, 41, 35, 11, 42, 38, 22, 22, 21, 19, 10, 38, 22, 22, 24, 31, 57, 35, 11, 41, 34, 7, 28, 46, 53, 18, 6, 21, 17, 3, 12, 47, 59, 41, 34, 6, 23, 28, 47, 59, 41, 36, 15, 57, 34, 7, 28, 46, 56, 31, 58, 37, 19, 10, 40, 32, 62, 55, 28, 47, 59, 43, 43, 43, 43, 42, 38, 24, 31, 60, 46, 56, 31, 59, 42, 40, 31, 60, 47, 59, 41, 35, 9, 35, 12, 45, 50, 5, 18, 8, 30, 55, 27, 43, 44, 46, 56, 32, 62, 53, 19, 11, 43, 41, 35, 10, 37, 19, 11, 43, 43, 41, 36, 14, 55, 25, 34, 7, 27, 43, 43, 41, 35, 9, 34, 6, 22, 24, 31, 58, 38, 21, 18, 8, 31, 58, 40, 31, 57, 34, 7, 27, 41, 35, 11, 41, 35, 10, 37, 18, 6, 24, 31, 58, 40, 31, 57, 34, 6, 21, 17, 2, 5, 20, 15, 59, 43, 43, 42, 40, 31, 57, 33, 3, 10, 40, 31, 59, 43, 43, 42, 38, 22, 23, 26, 38, 22, 24, 30, 53, 17, 3, 9, 36, 14, 54, 23, 27, 43, 42, 38, 22, 21, 19, 11, 44, 47, 59, 42, 38, 21, 19, 11, 42, 39, 26, 38, 24, 31, 59, 43, 42, 38, 23, 25, 35, 12, 48, 64, 64, 62, 56, 29, 50, 7, 28, 47, 59, 42, 38, 21, 19, 10, 40, 32, 62, 54, 22, 22, 23, 28, 47, 59, 42, 40, 30, 56, 31, 58, 38, 21, 18, 8, 31, 58, 37, 19, 10, 38, 21, 18, 6, 21, 17, 2, 6, 22, 24, 31, 58, 39, 27, 43, 42, 38, 22, 22, 23, 27, 41, 35, 10, 39, 25, 35, 9, 33, 2, 8, 30, 55, 27, 42, 37, 18, 5, 19, 11, 41, 35, 9, 35, 10, 37, 19, 10, 38, 22, 24, 32, 63, 60, 46, 54, 22, 22, 22, 21, 18, 7, 25, 34, 7, 27, 42, 38, 21, 18, 7, 28, 46, 54, 22, 22, 22, 24, 29, 52, 15, 59, 41, 35, 11, 43, 43, 43, 42, 38, 21, 18, 7, 26, 38, 22, 24, 32, 63, 58, 38, 23, 27, 44, 46, 53, 17, 1, 2, 8, 32, 62, 53, 18, 6, 22, 21, 17, 3, 10, 37, 19, 11, 41, 35, 9, 33, 4, 15, 59, 43, 41, 34, 6, 24, 32, 63, 59, 42, 40, 30, 56, 29, 50, 8, 32, 62, 54, 21, 19, 11, 43, 43, 42, 38, 22, 22, 22, 23, 25, 34, 6, 22, 24, 32, 62, 54, 22, 21, 19, 10, 38, 24, 30, 56, 31, 60, 47, 60, 48, 63, 57, 35, 11, 44, 48, 63, 58, 38, 23, 27, 43, 43, 43, 44, 45, 51, 11, 43, 43, 44, 47, 59, 43, 43, 42, 38, 21, 18, 5, 18, 5, 17, 1, 4, 14, 56, 30, 54, 21, 19, 11, 41, 35, 10, 38, 21, 18, 6, 21, 18, 8, 30, 53, 17, 2, 5, 18, 5, 17, 4, 15, 59, 42, 38, 22, 24, 31, 58, 38, 24, 30, 54, 22, 21, 18, 6, 23, 26, 40, 32, 64, 61, 52, 16, 64, 62, 56, 32, 64, 62, 55, 27, 44, 48, 64, 62, 55, 27, 41, 36, 15, 58, 37, 17, 1, 1, 2, 5, 17, 1, 1, 1, 1, 4, 16, 64, 64, 61, 49, 1, 1, 3, 9, 33, 1, 1, 4, 15, 60, 47, 57, 34, 8, 32, 62, 53, 17, 1, 3, 11, 41, 33, 1, 3, 11, 41, 33, 2, 5, 17, 1, 4, 16, 64, 64, 62, 53, 17, 1, 3, 9, 34, 8, 32, 63, 59, 43, 43, 43, 41, 35, 12, 47, 57, 33, 3, 11, 42, 37, 19, 9, 35, 10, 38, 24, 31, 59, 44, 47, 58, 37, 19, 9, 36, 15, 59, 41, 34, 7, 25, 35, 11, 44, 46, 56, 31, 58, 37, 19, 9, 34, 7, 27, 41, 35, 11, 43, 42, 37, 19, 9, 35, 11, 44, 47, 59, 44, 47, 59, 41, 33, 3, 11, 43, 43, 42, 38, 21, 19, 11, 43, 43, 42, 38, 24, 31, 58, 37, 19, 11, 42, 38, 24, 30, 54, 22, 22, 22, 24, 31, 59, 41, 33, 2, 8, 31, 59, 43, 41, 34, 8, 31, 59, 44, 46, 56, 30, 55, 27, 44, 46, 56, 31, 58, 40, 31, 57, 34, 7, 28, 46, 53, 19, 11, 43, 44, 46, 53, 19, 10, 40, 30, 54, 22, 22, 22, 23, 26, 39, 27, 41, 35, 10, 40, 31, 57, 34, 8, 32, 62, 53, 19, 10, 37, 19, 10, 38, 22, 21, 18, 5, 19, 10, 40, 31, 60, 47, 59, 43, 43, 42, 40, 32, 62, 53, 19, 10, 37, 19, 10, 38, 21, 18, 5, 18, 6, 21, 19, 10, 38, 22, 21, 19, 10, 38, 22, 21, 19, 10, 38, 22, 21, 19, 10, 40, 30, 56, 30, 55, 25, 36, 13, 50, 7, 28, 48, 64, 63, 59, 44, 46, 56, 32, 64, 62, 53, 20, 15, 58, 40, 31, 57, 33, 1, 1, 1, 4, 13, 49, 1, 4, 13, 49, 4, 13, 49, 1, 3, 10, 38, 24, 31, 0, 0, 0, 0, 0, 0, 0, 0, 0, 0, 0, 0, 0, 0, 0, 0, 0, 0, 0, 0, 0, 0, 0, 0, 0, 0, 0, 0, 0, 0, 0, 0, 0, 0, 0, 0, 0, 0, 0, 0, 0, 0, 0, 0, 0, 0, 0, 0, 0, 0, 0, 0, 0, 0, 0, 0, 0, 0, 0, 0, 0, 0, 0, 0, 0, 0, 0, 0, 0, 0, 0, 0, 0, 0, 0, 0, 0, 0, 0, 0, 0, 0, 0, 0, 0, 0, 0, 0, 0, 0, 0, 0, 0, 0, 0, 0, 0, 0, 0, 0, 0, 0, 0, 0, 0, 0, 0, 0, 0, 0, 0, 0, 0, 0, 0, 0, 0, 0, 0, 0, 0, 0, 0, 0, 0, 0, 0, 0, 0, 0, 0, 0, 0, 0, 0, 0, 0, 0, 0, 0, 0, 0, 0, 0, 0, 0, 0, 0, 0, 0, 0, 0, 0, 0, 0, 0, 0, 0, 0, 0, 0, 0, 0, 0, 0, 0, 0, 0, 0, 0, 0, 0, 0, 0, 0, 0, 0, 0, 0, 0, 0, 0, 0, 0, 0, 0, 0, 0, 0, 0, 0, 0, 0, 0, 0, 0, 0, 0, 0, 0, 0, 0, 0, 0, 0, 0, 0, 0, 0, 0, 0, 0, 0, 0, 0, 0, 0, 0, 0, 0, 0, 0, 0, 0, 0, 0, 0, 0, 0, 0, 0, 0, 0, 0, 0, 0, 0, 0, 0, 0, 0, 0, 0, 0, 0, 0, 0, 0, 0, 0, 0, 0, 0, 0, 0, 0, 0, 0, 0, 0, 0, 0, 0, 0, 0, 0, 0, 0, 0, 0, 0, 0, 0, 0, 0, 0, 0, 0, 0, 0, 0, 0, 0, 0, 0, 0, 0, 0, 0, 0, 0, 0, 0, 0, 0, 0, 0, 0, 0, 0, 0, 0, 0, 0, 0, 0, 0, 0, 0, 0, 0, 0, 0, 0, 0, 0, 0, 0, 0, 0, 0, 0, 0, 0, 0, 0, 0, 0, 0, 0, 0, 0, 0, 0, 0, 0, 0, 0, 0, 0, 0, 0, 0, 0, 0, 0, 0, 0, 0, 0, 0, 0, 0, 0, 0, 0, 0, 0, 0, 0, 0, 0, 0, 0, 0, 0, 0, 0, 0, 0, 0, 0, 0, 0, 0, 0, 0, 0, 0, 0, 0, 0, 0, 0, 0, 0, 0, 0, 0, 0, 0, 0, 0, 0, 0, 0, 0, 0, 0, 0, 0, 0, 0, 0, 0, 0, 0, 0, 0, 0, 0, 0, 0, 0, 0, 0, 0, 0, 0, 0, 0, 0, 0, 0, 0, 0, 0, 0, 0, 0, 0, 0, 0, 0, 0, 0, 0, 0, 0, 0, 0, 0, 0, 0, 0, 0, 0, 0, 0, 0, 0, 0, 0, 0, 0, 0, 0, 0, 0, 0, 0, 0, 0, 0, 0, 0, 0, 0, 0, 0, 0, 0, 0, 0, 0, 0, 0, 0, 0, 0, 0, 0, 0, 0, 0, 0, 0, 0, 0, 0, 0, 0, 0, 0, 0, 0, 0, 0, 0, 0, 0, 0, 0, 0, 0, 0, 0, 0, 0, 0, 0, 0, 0, 0, 0, 0, 0, 0, 0, 0, 0, 0, 0, 0, 0, 0, 0, 0, 0, 0, 0, 0, 0, 0, 0, 0, 0, 0, 0, 0, 0, 0, 0, 0, 0, 0, 0, 0, 0, 0, 0, 0, 0, 0, 0, 0, 0, 0, 0, 0, 0, 0, 0, 0, 0, 0, 0, 0, 0, 0, 0, 0, 0, 0, 0, 0, 0, 0, 0, 0, 0, 0, 0, 0, 0, 0, 0, 0, 0, 0, 0, 0, 0, 0, 0, 0, 0, 0, 0, 0, 0, 0, 0, 0, 0, 0, 0, 0, 0, 0, 0, 0, 0, 0, 0, 0, 0, 0, 0, 0, 0, 0, 0, 0, 0, 0, 0, 0, 0, 0, 0, 0, 0, 0, 0, 0, 0, 0, 0, 0, 0, 0, 0, 0, 0, 0, 0, 0, 0, 0, 0, 0, 0, 0, 0, 0, 0, 0, 0, 0, 0, 0, 0, 0, 0, 0, 0, 0, 0, 0, 0, 0, 0, 0, 0, 0, 0, 0, 0, 0, 0, 0, 0, 0, 0, 0, 0, 0, 0, 0, 0, 0, 0, 0, 0, 0, 0, 0, 0, 0, 0, 0, 0, 0, 0, 0, 0, 0, 0, 0, 0, 0, 0, 0, 0, 0, 0, 0, 0, 0, 0, 0, 0, 0, 0, 0, 0, 0, 0, 0, 0, 0, 0, 0, 0, 0, 0, 0, 0, 0, 0, 0, 0, 0, 0, 0, 0, 0, 0, 0, 0, 0, 0, 0, 0, 0, 0, 0, 0, 0, 0, 0, 0, 0, 0, 0, 0, 0, 0, 0, 0, 0, 0, 0, 0, 0, 0, 0, 0, 0, 0, 0, 0, 0, 0, 0, 0, 0, 0, 0, 0, 0, 0, 0, 0, 0, 0, 0, 0, 0, 0, 0, 0, 0, 0, 0, 0, 0, 0, 0, 0, 0, 0, 0, 0, 0, 0, 0, 0, 0, 0, 0, 0, 0, 0, 0, 0, 0, 0, 0, 0, 0, 0, 0, 0, 0, 0, 0, 0, 0, 0, 0, 0, 0, 0, 0, 0, 0, 0, 0, 0, 0, 0, 0, 0, 0, 0, 0, 0, 0, 0, 0, 0, 0, 0, 0, 0, 0, 0, 0, 0, 0, 0, 0, 0, 0, 0, 0, 0, 0, 0, 0, 0, 0, 0, 0, 0, 0, 0, 0, 0, 0, 0, 0, 0, 0, 0, 0, 0, 0, 0, 0, 0, 0, 0, 0, 0, 0, 0, 0, 0, 0, 0, 0, 0, 0, 0, 0, 0, 0, 0, 0, 0, 0, 0, 0, 0, 0, 0, 0, 0, 0, 0, 0, 0, 0, 0, 0, 0, 0, 0, 0, 0, 0, 0, 0, 0, 0, 0, 0, 0, 0, 0, 0, 0, 0, 0, 0, 0, 0, 0, 0, 0, 0, 0, 0, 0, 0, 0, 0, 0, 0, 0, 0, 0, 0, 0, 0, 0, 0, 0, 0, 0, 0, 0, 0, 0, 0, 0, 0, 0, 0, 0, 0, 0, 0, 0, 0, 0, 0, 0, 0, 0, 0, 0, 0, 0, 0, 0, 0, 0, 0, 0, 0, 0, 0, 0, 0, 0, 0, 0, 0, 0, 0, 0, 0, 0, 0, 0, 0, 0, 0, 0, 0, 0, 0, 0, 0, 0, 0, 0, 0, 0, 0, 0, 0, 0, 0, 0, 0, 0, 0, 0, 0, 0, 0, 0, 0, 0, 0, 0, 0, 0, 0, 0, 0, 0, 0, 0, 0, 0, 0, 0, 0, 0, 0, 0, 0, 0, 0, 0, 0, 0, 0, 0, 0, 0, 0, 0, 0, 0, 0, 0, 0, 0, 0, 0, 0, 0, 0, 0, 0, 0, 0, 0, 0, 0, 0, 0, 0, 0, 0, 0, 0, 0, 0, 0, 0, 0, 0, 0, 0, 0, 0, 0, 0, 0, 0, 0, 0, 0, 0, 0, 0, 0, 0, 0, 0, 0, 0, 0, 0, 0, 0, 0, 0, 0, 0, 0, 0, 0, 0, 0, 0, 0, 0, 0, 0, 0, 0, 0, 0, 0, 0, 0, 0, 0, 0, 0, 0, 0, 0, 0, 0, 0, 0, 0, 0, 0, 0, 0, 0, 0, 0, 0, 0, 0, 0, 0, 0, 0, 0, 0, 0, 0, 0, 0, 0, 0, 0, 0, 0, 0, 0, 0, 0, 0, 0, 0, 0, 0, 0, 0, 0, 0, 0, 0, 0, 0, 0, 0, 0, 0, 0, 0, 0, 0, 0, 0, 0, 0, 0, 0, 0, 0, 0, 0, 0, 0, 0, 0, 0, 0, 0, 0, 0, 0, 0, 0, 0, 0, 0, 0, 0, 0, 0, 0, 0, 0, 0, 0, 0, 0, 0, 0, 0, 0, 0, 0, 0, 0, 0, 0, 0, 0, 0, 0, 0, 0, 0, 0, 0, 0, 0, 0, 0, 0, 0, 0, 0, 0, 0, 0, 0, 0, 0, 0, 0, 0, 0, 0, 0, 0, 0, 0, 0, 0, 0, 0, 0, 0, 0, 0, 0, 0, 0, 0, 0, 0, 0, 0, 0, 0, 0, 0, 0, 0, 0, 0, 0, 0, 0, 0, 0, 0, 0, 0, 0, 0, 0, 0, 0, 0, 0, 0, 0, 0, 0, 0, 0, 0, 0, 0, 0, 0, 0, 0, 0, 0, 0, 0, 0, 0, 0, 0, 0, 0, 0, 0, 0, 0, 0, 0, 0, 0, 0, 0, 0, 0, 0, 0, 0, 0, 0, 0, 0, 0, 0, 0, 0, 0, 0, 0, 0, 0, 0, 0, 0, 0, 0, 0, 0, 0, 0, 0, 0, 0, 0, 0, 0, 0, 0, 0, 0, 0, 0, 0, 0, 0, 0, 0, 0, 0, 0, 0, 0, 0, 0, 0, 0, 0, 0, 0, 0, 0, 0, 0, 0, 0, 0, 0, 0, 0]\n"
          ]
        }
      ],
      "source": [
        "print(datetime.now())\n",
        "print(\"Load RCI values...\")\n",
        "loader = DataLoader()\n",
        "filepath = DATA_DIR+RCI_FILE\n",
        "gene_to_rci = loader.load_gene_rci_values(filepath,EXCLUSIONS)\n",
        "print('Num RCI:', len(gene_to_rci.keys()))\n",
        "print('Example RCI:', list(gene_to_rci.items())[:3])\n",
        "print(\"Load genes...\")\n",
        "all_genes = list(gene_to_rci.keys())\n",
        "print(datetime.now())\n",
        "print('Load sequence...')\n",
        "filepath = DATA_DIR+SEQUENCE_FILE\n",
        "labels,allids,allseq = loader.load_sequence(filepath)\n",
        "print(datetime.now())\n",
        "print('Num IDs:',len(allids))\n",
        "print('Example IDs:',[allids[x] for x in [10, 20, 30, 40]] )\n",
        "print('Count',np.count_nonzero(labels),'ones out of',len(labels),'labels.')\n",
        "print('Num labels:',len(labels))\n",
        "print('Example labels:',[labels[x] for x in [10, 20, 30, 40]] )\n",
        "print('Num sequences:',len(allseq))\n",
        "print('Example sequence:',allseq[3])\n",
        "loader = None  # drop K-mer cache to save RAM"
      ]
    },
    {
      "cell_type": "markdown",
      "metadata": {
        "id": "VDZ6siB_Kq04"
      },
      "source": [
        "## Model"
      ]
    },
    {
      "cell_type": "code",
      "execution_count": 15,
      "metadata": {
        "id": "AwMbRjm0FLBF"
      },
      "outputs": [],
      "source": [
        "def build_model():\n",
        "    ALPHABET=4**K+1  # NUMBER OF DISTINCT KMERS POSSIBLE, add one if N gets mask value\n",
        "    ADJUST_LENGTH = MAXLEN-K+1  # fixed length sequences\n",
        "    cnn = Sequential()\n",
        "    embed_layer = Embedding(ALPHABET,EMBED_DIMEN,input_length=ADJUST_LENGTH,mask_zero=True)   \n",
        "    cnn1_layer = Conv1D(CFILTERS, FILTERSIZE)\n",
        "    cnn2_layer = Conv1D(CFILTERS, FILTERSIZE)\n",
        "    pool_layer = GlobalAveragePooling1D()\n",
        "    #pool_layer = GlobalMaxPooling1D()\n",
        "    flat_layer = Flatten()\n",
        "    den1_layer = Dense(DCELLS)\n",
        "    drop_layer = Dropout(0.5)\n",
        "    output_layer = Dense(1,activation='sigmoid',dtype=dt)\n",
        "\n",
        "    cnn.add(embed_layer)\n",
        "    cnn.add(cnn1_layer)\n",
        "    cnn.add(cnn2_layer)\n",
        "    cnn.add(pool_layer)\n",
        "    cnn.add(output_layer)\n",
        "\n",
        "    bc=BinaryCrossentropy(from_logits=False)\n",
        "    print(\"COMPILE\")\n",
        "    cnn.compile(loss=bc, optimizer=\"Adam\",metrics=[\"accuracy\"])\n",
        "    return cnn"
      ]
    },
    {
      "cell_type": "code",
      "execution_count": 16,
      "metadata": {
        "colab": {
          "base_uri": "https://localhost:8080/"
        },
        "id": "clj-wufgFLBF",
        "outputId": "0ef60445-377c-49ff-874b-af20abe7a394"
      },
      "outputs": [
        {
          "output_type": "stream",
          "name": "stdout",
          "text": [
            "2023-01-26 13:50:38.973246\n",
            "COMPILE\n",
            "Model: \"sequential\"\n",
            "_________________________________________________________________\n",
            " Layer (type)                Output Shape              Param #   \n",
            "=================================================================\n",
            " embedding (Embedding)       (None, 3998, 4)           260       \n",
            "                                                                 \n",
            " conv1d (Conv1D)             (None, 3991, 64)          2112      \n",
            "                                                                 \n",
            " conv1d_1 (Conv1D)           (None, 3984, 64)          32832     \n",
            "                                                                 \n",
            " global_average_pooling1d (G  (None, 64)               0         \n",
            " lobalAveragePooling1D)                                          \n",
            "                                                                 \n",
            " dense_1 (Dense)             (None, 1)                 65        \n",
            "                                                                 \n",
            "=================================================================\n",
            "Total params: 35,269\n",
            "Trainable params: 35,269\n",
            "Non-trainable params: 0\n",
            "_________________________________________________________________\n",
            "None\n"
          ]
        }
      ],
      "source": [
        "print(datetime.now())\n",
        "model=build_model()\n",
        "print(model.summary())  # Print this only once\n",
        "model=None"
      ]
    },
    {
      "cell_type": "markdown",
      "metadata": {
        "id": "MgrC1alOKq07"
      },
      "source": [
        "## Training"
      ]
    },
    {
      "cell_type": "code",
      "execution_count": 17,
      "metadata": {
        "id": "W9xiFzNbFLBE"
      },
      "outputs": [],
      "source": [
        "import gc\n",
        "class CrossValidator():\n",
        "    def __init__(self,epochs,folds,quick_test=False,threshold=0.5):\n",
        "        self.epochs = epochs\n",
        "        self.folds = folds\n",
        "        self.quick_test = quick_test\n",
        "        self.threshold = threshold\n",
        "    \n",
        "    def get_gene_subset(self,all_genes,sub_index):\n",
        "        sub_genes = set()\n",
        "        for index in sub_index:\n",
        "            one_gene = all_genes[index]\n",
        "            sub_genes.add(one_gene)\n",
        "        return sub_genes\n",
        "    \n",
        "    def get_X_y(self,gene_set,allids,allX,allY):\n",
        "        cnt = len(allids)\n",
        "        subsetX=[]\n",
        "        subsetY=[]\n",
        "        if cnt != len(allX) or cnt!= len(allY):\n",
        "            raise Exception('Lengths differ')\n",
        "        for i in range(cnt):\n",
        "            gene_id,tran_id = allids[i]\n",
        "            if gene_id in gene_set:\n",
        "                oneX = allX[i]\n",
        "                oneY = allY[i]\n",
        "                subsetX.append(oneX)\n",
        "                subsetY.append(oneY)\n",
        "        subsetX = np.array(subsetX)\n",
        "        subsetY = np.array(subsetY).reshape((-1,1))\n",
        "        return subsetX,subsetY\n",
        "    \n",
        "    def do_cross_validation(self):\n",
        "        cv_accuracy=[]\n",
        "        cv_precision=[]\n",
        "        cv_recall=[]\n",
        "        cv_f1=[]\n",
        "        cv_auc=[]\n",
        "        fold=0\n",
        "        print(datetime.now())\n",
        "        print('splitting')\n",
        "        # KFold shuffles once before making the partitions\n",
        "        splitter = KFold(n_splits=self.folds,shuffle=True,random_state=42)\n",
        "        splits = splitter.split(all_genes)\n",
        "        splitter = None\n",
        "        for train_index,valid_index in splits:\n",
        "            fold += 1\n",
        "            print('Fold',fold)\n",
        "            train_genes = self.get_gene_subset(all_genes,train_index)\n",
        "            X_train,y_train = self.get_X_y(train_genes,allids,allseq,labels)\n",
        "            valid_genes = self.get_gene_subset(all_genes,valid_index)\n",
        "            X_valid,y_valid = self.get_X_y(valid_genes,allids,allseq,labels)\n",
        "\n",
        "            print('Training example')\n",
        "            print(X_train[0])\n",
        "\n",
        "            print(\"BUILD MODEL\")\n",
        "            model=build_model()\n",
        "\n",
        "            print(\"FIT\")\n",
        "            print(datetime.now())\n",
        "            history=model.fit(X_train, y_train, # batch_size=10, default=32 works nicely\n",
        "              epochs=self.epochs, verbose=1,  # verbose=1 for ascii art, verbose=0 for none\n",
        "              validation_data=(X_valid,y_valid) )\n",
        "\n",
        "            print(datetime.now())\n",
        "\n",
        "            pd.DataFrame(history.history).plot(figsize=(8,5))\n",
        "            plt.grid(True)\n",
        "            plt.gca().set_ylim(0,1)\n",
        "            plt.show()\n",
        "\n",
        "            print('Train sizes',X_train.shape,y_train.shape)\n",
        "            print('Train set ones/size',\n",
        "                  np.count_nonzero(y_train),'/',len(y_train))\n",
        "\n",
        "            print(\"Compute valiation accuracy\")\n",
        "            print(datetime.now())\n",
        "            print('Valid sizes',X_valid.shape,y_valid.shape)\n",
        "            print('Valid set ones/size',\n",
        "                  np.count_nonzero(y_valid),'/',len(y_valid))\n",
        "            yhat_pred=model.predict(X_valid, verbose=0) \n",
        "            \n",
        "            print('Range of scores:',np.min(yhat_pred),'to',np.max(yhat_pred))\n",
        "            yhat_classes=np.where(yhat_pred > self.threshold, 1, 0)\n",
        "            print('Score threshold',self.threshold)\n",
        "            print('Prediction set ones/size',\n",
        "                  np.count_nonzero(yhat_classes),'/',len(yhat_classes))\n",
        "            # accuracy: (tp + tn) / (p + n)\n",
        "            accuracy = accuracy_score(y_valid, yhat_classes)*100.\n",
        "            # precision tp / (tp + fp)\n",
        "            precision = precision_score(y_valid, yhat_classes)*100.\n",
        "            # recall: tp / (tp + fn)\n",
        "            recall = recall_score(y_valid, yhat_classes)*100.\n",
        "            # f1: 2 tp / (2 tp + fp + fn)\n",
        "            f1 = f1_score(y_valid, yhat_classes)*100.\n",
        "            # PRC\n",
        "            prc_Y, prc_X, prc_bins = precision_recall_curve(y_valid, yhat_pred)\n",
        "            auprc = auc(prc_X,prc_Y)*100.\n",
        "            count_ones= len(y_valid[y_valid==1])\n",
        "            count_zeros= len(y_valid[y_valid==0])\n",
        "            guess = max(count_ones,count_zeros) / len(y_valid)\n",
        "            plt.plot(prc_X, prc_Y, marker='.')\n",
        "            plt.plot([0, 1], [guess,guess], linestyle='--')\n",
        "            plt.xlabel('Recall')\n",
        "            plt.ylabel('Precision')\n",
        "            plt.show()\n",
        "            \n",
        "            print('Accuracy: %.2f%% Precision: %.2f%% Recall: %.2f%%' % (accuracy,precision,recall)) \n",
        "            print('F1: %.2f%% AUPRC: %.2f%%' % (f1,auprc)) \n",
        "            print(datetime.now())\n",
        "            cv_accuracy.append(accuracy)\n",
        "            cv_precision.append(precision)\n",
        "            cv_recall.append(recall)\n",
        "            cv_f1.append(f1)\n",
        "            cv_auc.append(auprc)\n",
        "            \n",
        "            if self.quick_test:   \n",
        "                print('Break -- this was for code testing only')\n",
        "                break\n",
        "            model = None\n",
        "            history = None\n",
        "            prc_Y = None\n",
        "            prc_X = None\n",
        "            prc_bins = None\n",
        "            yhat_classes = None\n",
        "            X_train = None\n",
        "            y_train = None\n",
        "            train_genes = None\n",
        "            X_valid = None\n",
        "            y_valid = None\n",
        "            valid_genes = None\n",
        "            # There is a memory leak within the fit() command!\n",
        "            # Each successive call to fit() consumes more memory.\n",
        "            tf.keras.backend.clear_session()\n",
        "            gc.collect()\n",
        "            time.sleep(1)  # hope gc kicks in\n",
        "        print()\n",
        "        return cv_accuracy, cv_precision, cv_recall, cv_f1, cv_auc"
      ]
    },
    {
      "cell_type": "code",
      "execution_count": 18,
      "metadata": {
        "colab": {
          "base_uri": "https://localhost:8080/",
          "height": 1000
        },
        "id": "XC9m0W-pFLBH",
        "outputId": "2ff1bbb6-f05f-4d4b-c9a6-29cf9801ea39",
        "scrolled": false
      },
      "outputs": [
        {
          "output_type": "stream",
          "name": "stdout",
          "text": [
            "2023-01-26 13:50:42.223421\n",
            "2023-01-26 13:50:42.224792\n",
            "splitting\n",
            "Fold 1\n",
            "Training example\n",
            "[42 39 27 ...  0  0  0]\n",
            "BUILD MODEL\n",
            "COMPILE\n",
            "FIT\n",
            "2023-01-26 13:50:56.140894\n",
            "Epoch 1/10\n",
            "1356/1356 [==============================] - 35s 19ms/step - loss: 0.6702 - accuracy: 0.5742 - val_loss: 0.6654 - val_accuracy: 0.5811\n",
            "Epoch 2/10\n",
            "1356/1356 [==============================] - 26s 19ms/step - loss: 0.6647 - accuracy: 0.5809 - val_loss: 0.6679 - val_accuracy: 0.5804\n",
            "Epoch 3/10\n",
            "1356/1356 [==============================] - 26s 19ms/step - loss: 0.6626 - accuracy: 0.5881 - val_loss: 0.6590 - val_accuracy: 0.6044\n",
            "Epoch 4/10\n",
            "1356/1356 [==============================] - 25s 18ms/step - loss: 0.6616 - accuracy: 0.5896 - val_loss: 0.6607 - val_accuracy: 0.5975\n",
            "Epoch 5/10\n",
            "1356/1356 [==============================] - 26s 19ms/step - loss: 0.6602 - accuracy: 0.5917 - val_loss: 0.6577 - val_accuracy: 0.6087\n",
            "Epoch 6/10\n",
            "1356/1356 [==============================] - 25s 18ms/step - loss: 0.6593 - accuracy: 0.5931 - val_loss: 0.6569 - val_accuracy: 0.6117\n",
            "Epoch 7/10\n",
            "1356/1356 [==============================] - 25s 18ms/step - loss: 0.6585 - accuracy: 0.5972 - val_loss: 0.6601 - val_accuracy: 0.5981\n",
            "Epoch 8/10\n",
            "1356/1356 [==============================] - 26s 19ms/step - loss: 0.6587 - accuracy: 0.5964 - val_loss: 0.6578 - val_accuracy: 0.6046\n",
            "Epoch 9/10\n",
            "1356/1356 [==============================] - 25s 18ms/step - loss: 0.6583 - accuracy: 0.5943 - val_loss: 0.6595 - val_accuracy: 0.5975\n",
            "Epoch 10/10\n",
            "1356/1356 [==============================] - 25s 18ms/step - loss: 0.6576 - accuracy: 0.5972 - val_loss: 0.6555 - val_accuracy: 0.6039\n",
            "2023-01-26 13:55:19.883770\n"
          ]
        },
        {
          "output_type": "display_data",
          "data": {
            "text/plain": [
              "<Figure size 576x360 with 1 Axes>"
            ],
            "image/png": "[encoded data removed]"
          },
          "metadata": {
            "needs_background": "light"
          }
        },
        {
          "output_type": "stream",
          "name": "stdout",
          "text": [
            "Train sizes (43381, 3998) (43381, 1)\n",
            "Train set ones/size 20635 / 43381\n",
            "Compute valiation accuracy\n",
            "2023-01-26 13:55:20.100926\n",
            "Valid sizes (11029, 3998) (11029, 1)\n",
            "Valid set ones/size 5409 / 11029\n",
            "Range of scores: 0.043463413 to 0.88386303\n",
            "Score threshold 0.5\n",
            "Prediction set ones/size 6400 / 11029\n"
          ]
        },
        {
          "output_type": "display_data",
          "data": {
            "text/plain": [
              "<Figure size 432x288 with 1 Axes>"
            ],
            "image/png": "[encoded data removed]"
          },
          "metadata": {
            "needs_background": "light"
          }
        },
        {
          "output_type": "stream",
          "name": "stdout",
          "text": [
            "Accuracy: 60.39% Precision: 58.13% Recall: 68.77%\n",
            "F1: 63.00% AUPRC: 62.10%\n",
            "2023-01-26 13:55:23.275237\n",
            "Fold 2\n",
            "Training example\n",
            "[42 39 27 ...  0  0  0]\n",
            "BUILD MODEL\n",
            "COMPILE\n",
            "FIT\n",
            "2023-01-26 13:55:36.742919\n",
            "Epoch 1/10\n",
            "1358/1358 [==============================] - 27s 19ms/step - loss: 0.6695 - accuracy: 0.5727 - val_loss: 0.6651 - val_accuracy: 0.5795\n",
            "Epoch 2/10\n",
            "1358/1358 [==============================] - 25s 19ms/step - loss: 0.6635 - accuracy: 0.5859 - val_loss: 0.6644 - val_accuracy: 0.5842\n",
            "Epoch 3/10\n",
            "1358/1358 [==============================] - 26s 19ms/step - loss: 0.6616 - accuracy: 0.5892 - val_loss: 0.6612 - val_accuracy: 0.6030\n",
            "Epoch 4/10\n",
            "1358/1358 [==============================] - 26s 19ms/step - loss: 0.6600 - accuracy: 0.5925 - val_loss: 0.6622 - val_accuracy: 0.5901\n",
            "Epoch 5/10\n",
            "1358/1358 [==============================] - 26s 19ms/step - loss: 0.6590 - accuracy: 0.5940 - val_loss: 0.6630 - val_accuracy: 0.5850\n",
            "Epoch 6/10\n",
            "1358/1358 [==============================] - 26s 19ms/step - loss: 0.6588 - accuracy: 0.5928 - val_loss: 0.6621 - val_accuracy: 0.5875\n",
            "Epoch 7/10\n",
            "1358/1358 [==============================] - 26s 19ms/step - loss: 0.6577 - accuracy: 0.5958 - val_loss: 0.6595 - val_accuracy: 0.5974\n",
            "Epoch 8/10\n",
            "1358/1358 [==============================] - 26s 19ms/step - loss: 0.6575 - accuracy: 0.5986 - val_loss: 0.6599 - val_accuracy: 0.5926\n",
            "Epoch 9/10\n",
            "1358/1358 [==============================] - 26s 19ms/step - loss: 0.6572 - accuracy: 0.5950 - val_loss: 0.6600 - val_accuracy: 0.5899\n",
            "Epoch 10/10\n",
            "1358/1358 [==============================] - 26s 19ms/step - loss: 0.6572 - accuracy: 0.5962 - val_loss: 0.6597 - val_accuracy: 0.5984\n",
            "2023-01-26 13:59:55.891008\n"
          ]
        },
        {
          "output_type": "display_data",
          "data": {
            "text/plain": [
              "<Figure size 576x360 with 1 Axes>"
            ],
            "image/png": "[encoded data removed]"
          },
          "metadata": {
            "needs_background": "light"
          }
        },
        {
          "output_type": "stream",
          "name": "stdout",
          "text": [
            "Train sizes (43433, 3998) (43433, 1)\n",
            "Train set ones/size 20747 / 43433\n",
            "Compute valiation accuracy\n",
            "2023-01-26 13:59:56.052184\n",
            "Valid sizes (10977, 3998) (10977, 1)\n",
            "Valid set ones/size 5297 / 10977\n",
            "Range of scores: 0.0701702 to 0.93461937\n",
            "Score threshold 0.5\n",
            "Prediction set ones/size 6799 / 10977\n"
          ]
        },
        {
          "output_type": "display_data",
          "data": {
            "text/plain": [
              "<Figure size 432x288 with 1 Axes>"
            ],
            "image/png": "[encoded data removed]"
          },
          "metadata": {
            "needs_background": "light"
          }
        },
        {
          "output_type": "stream",
          "name": "stdout",
          "text": [
            "Accuracy: 59.84% Precision: 56.54% Recall: 72.57%\n",
            "F1: 63.56% AUPRC: 60.05%\n",
            "2023-01-26 13:59:58.398493\n",
            "Fold 3\n",
            "Training example\n",
            "[42 39 27 ...  0  0  0]\n",
            "BUILD MODEL\n",
            "COMPILE\n",
            "FIT\n",
            "2023-01-26 14:00:11.790228\n",
            "Epoch 1/10\n",
            "1354/1354 [==============================] - 27s 19ms/step - loss: 0.6702 - accuracy: 0.5740 - val_loss: 0.6648 - val_accuracy: 0.5873\n",
            "Epoch 2/10\n",
            "1354/1354 [==============================] - 25s 19ms/step - loss: 0.6639 - accuracy: 0.5885 - val_loss: 0.6641 - val_accuracy: 0.5758\n",
            "Epoch 3/10\n",
            "1354/1354 [==============================] - 26s 19ms/step - loss: 0.6614 - accuracy: 0.5944 - val_loss: 0.6624 - val_accuracy: 0.5794\n",
            "Epoch 4/10\n",
            "1354/1354 [==============================] - 25s 19ms/step - loss: 0.6610 - accuracy: 0.5923 - val_loss: 0.6635 - val_accuracy: 0.5942\n",
            "Epoch 5/10\n",
            "1354/1354 [==============================] - 26s 19ms/step - loss: 0.6592 - accuracy: 0.5992 - val_loss: 0.6611 - val_accuracy: 0.5939\n",
            "Epoch 6/10\n",
            "1354/1354 [==============================] - 25s 19ms/step - loss: 0.6585 - accuracy: 0.5969 - val_loss: 0.6607 - val_accuracy: 0.5853\n",
            "Epoch 7/10\n",
            "1354/1354 [==============================] - 25s 18ms/step - loss: 0.6574 - accuracy: 0.5986 - val_loss: 0.6610 - val_accuracy: 0.5909\n",
            "Epoch 8/10\n",
            "1354/1354 [==============================] - 26s 19ms/step - loss: 0.6569 - accuracy: 0.5994 - val_loss: 0.6650 - val_accuracy: 0.5740\n",
            "Epoch 9/10\n",
            "1354/1354 [==============================] - 25s 19ms/step - loss: 0.6566 - accuracy: 0.6014 - val_loss: 0.6713 - val_accuracy: 0.5685\n",
            "Epoch 10/10\n",
            "1354/1354 [==============================] - 26s 19ms/step - loss: 0.6560 - accuracy: 0.6032 - val_loss: 0.6651 - val_accuracy: 0.5763\n",
            "2023-01-26 14:04:34.906857\n"
          ]
        },
        {
          "output_type": "display_data",
          "data": {
            "text/plain": [
              "<Figure size 576x360 with 1 Axes>"
            ],
            "image/png": "[encoded data removed]"
          },
          "metadata": {
            "needs_background": "light"
          }
        },
        {
          "output_type": "stream",
          "name": "stdout",
          "text": [
            "Train sizes (43311, 3998) (43311, 1)\n",
            "Train set ones/size 20779 / 43311\n",
            "Compute valiation accuracy\n",
            "2023-01-26 14:04:35.062339\n",
            "Valid sizes (11099, 3998) (11099, 1)\n",
            "Valid set ones/size 5265 / 11099\n",
            "Range of scores: 0.033252016 to 0.9165109\n",
            "Score threshold 0.5\n",
            "Prediction set ones/size 7478 / 11099\n"
          ]
        },
        {
          "output_type": "display_data",
          "data": {
            "text/plain": [
              "<Figure size 432x288 with 1 Axes>"
            ],
            "image/png": "[encoded data removed]"
          },
          "metadata": {
            "needs_background": "light"
          }
        },
        {
          "output_type": "stream",
          "name": "stdout",
          "text": [
            "Accuracy: 57.63% Precision: 53.76% Recall: 76.35%\n",
            "F1: 63.09% AUPRC: 58.62%\n",
            "2023-01-26 14:04:38.208509\n",
            "Fold 4\n",
            "Training example\n",
            "[42 39 27 ...  0  0  0]\n",
            "BUILD MODEL\n",
            "COMPILE\n",
            "FIT\n",
            "2023-01-26 14:04:51.477637\n",
            "Epoch 1/10\n",
            "1366/1366 [==============================] - 26s 19ms/step - loss: 0.6698 - accuracy: 0.5749 - val_loss: 0.6658 - val_accuracy: 0.5710\n",
            "Epoch 2/10\n",
            "1366/1366 [==============================] - 26s 19ms/step - loss: 0.6627 - accuracy: 0.5916 - val_loss: 0.6644 - val_accuracy: 0.5747\n",
            "Epoch 3/10\n",
            "1366/1366 [==============================] - 26s 19ms/step - loss: 0.6612 - accuracy: 0.5922 - val_loss: 0.6661 - val_accuracy: 0.5845\n",
            "Epoch 4/10\n",
            "1366/1366 [==============================] - 26s 19ms/step - loss: 0.6594 - accuracy: 0.5967 - val_loss: 0.6685 - val_accuracy: 0.5804\n",
            "Epoch 5/10\n",
            "1366/1366 [==============================] - 25s 18ms/step - loss: 0.6582 - accuracy: 0.5974 - val_loss: 0.6639 - val_accuracy: 0.5912\n",
            "Epoch 6/10\n",
            "1366/1366 [==============================] - 26s 19ms/step - loss: 0.6573 - accuracy: 0.5993 - val_loss: 0.6627 - val_accuracy: 0.5859\n",
            "Epoch 7/10\n",
            "1366/1366 [==============================] - 26s 19ms/step - loss: 0.6565 - accuracy: 0.6006 - val_loss: 0.6672 - val_accuracy: 0.5845\n",
            "Epoch 8/10\n",
            "1366/1366 [==============================] - 25s 18ms/step - loss: 0.6565 - accuracy: 0.5990 - val_loss: 0.6622 - val_accuracy: 0.5826\n",
            "Epoch 9/10\n",
            "1366/1366 [==============================] - 26s 19ms/step - loss: 0.6561 - accuracy: 0.6012 - val_loss: 0.6651 - val_accuracy: 0.5912\n",
            "Epoch 10/10\n",
            "1366/1366 [==============================] - 26s 19ms/step - loss: 0.6561 - accuracy: 0.5990 - val_loss: 0.6650 - val_accuracy: 0.5892\n",
            "2023-01-26 14:09:15.386676\n"
          ]
        },
        {
          "output_type": "display_data",
          "data": {
            "text/plain": [
              "<Figure size 576x360 with 1 Axes>"
            ],
            "image/png": "[encoded data removed]"
          },
          "metadata": {
            "needs_background": "light"
          }
        },
        {
          "output_type": "stream",
          "name": "stdout",
          "text": [
            "Train sizes (43698, 3998) (43698, 1)\n",
            "Train set ones/size 21077 / 43698\n",
            "Compute valiation accuracy\n",
            "2023-01-26 14:09:15.559670\n",
            "Valid sizes (10712, 3998) (10712, 1)\n",
            "Valid set ones/size 4967 / 10712\n",
            "Range of scores: 0.023915963 to 0.95579755\n",
            "Score threshold 0.5\n",
            "Prediction set ones/size 5673 / 10712\n"
          ]
        },
        {
          "output_type": "display_data",
          "data": {
            "text/plain": [
              "<Figure size 432x288 with 1 Axes>"
            ],
            "image/png": "[encoded data removed]"
          },
          "metadata": {
            "needs_background": "light"
          }
        },
        {
          "output_type": "stream",
          "name": "stdout",
          "text": [
            "Accuracy: 58.92% Precision: 55.00% Recall: 62.81%\n",
            "F1: 58.65% AUPRC: 56.13%\n",
            "2023-01-26 14:09:17.852337\n",
            "Fold 5\n",
            "Training example\n",
            "[43 41 35 ...  0  0  0]\n",
            "BUILD MODEL\n",
            "COMPILE\n",
            "FIT\n",
            "2023-01-26 14:09:31.168358\n",
            "Epoch 1/10\n",
            "1370/1370 [==============================] - 27s 19ms/step - loss: 0.6709 - accuracy: 0.5718 - val_loss: 0.6716 - val_accuracy: 0.5647\n",
            "Epoch 2/10\n",
            "1370/1370 [==============================] - 26s 19ms/step - loss: 0.6649 - accuracy: 0.5829 - val_loss: 0.6613 - val_accuracy: 0.6107\n",
            "Epoch 3/10\n",
            "1370/1370 [==============================] - 26s 19ms/step - loss: 0.6629 - accuracy: 0.5895 - val_loss: 0.6611 - val_accuracy: 0.5932\n",
            "Epoch 4/10\n",
            "1370/1370 [==============================] - 25s 18ms/step - loss: 0.6618 - accuracy: 0.5921 - val_loss: 0.6581 - val_accuracy: 0.6031\n",
            "Epoch 5/10\n",
            "1370/1370 [==============================] - 25s 19ms/step - loss: 0.6613 - accuracy: 0.5906 - val_loss: 0.6561 - val_accuracy: 0.5976\n",
            "Epoch 6/10\n",
            "1370/1370 [==============================] - 26s 19ms/step - loss: 0.6600 - accuracy: 0.5942 - val_loss: 0.6547 - val_accuracy: 0.6052\n",
            "Epoch 7/10\n",
            "1370/1370 [==============================] - 25s 19ms/step - loss: 0.6597 - accuracy: 0.5929 - val_loss: 0.6542 - val_accuracy: 0.6047\n",
            "Epoch 8/10\n",
            "1370/1370 [==============================] - 25s 19ms/step - loss: 0.6597 - accuracy: 0.5922 - val_loss: 0.6544 - val_accuracy: 0.6085\n",
            "Epoch 9/10\n",
            "1370/1370 [==============================] - 25s 18ms/step - loss: 0.6589 - accuracy: 0.5952 - val_loss: 0.6535 - val_accuracy: 0.6041\n",
            "Epoch 10/10\n",
            "1370/1370 [==============================] - 26s 19ms/step - loss: 0.6585 - accuracy: 0.5943 - val_loss: 0.6536 - val_accuracy: 0.6069\n",
            "2023-01-26 14:13:49.706182\n"
          ]
        },
        {
          "output_type": "display_data",
          "data": {
            "text/plain": [
              "<Figure size 576x360 with 1 Axes>"
            ],
            "image/png": "[encoded data removed]"
          },
          "metadata": {
            "needs_background": "light"
          }
        },
        {
          "output_type": "stream",
          "name": "stdout",
          "text": [
            "Train sizes (43817, 3998) (43817, 1)\n",
            "Train set ones/size 20938 / 43817\n",
            "Compute valiation accuracy\n",
            "2023-01-26 14:13:49.889429\n",
            "Valid sizes (10593, 3998) (10593, 1)\n",
            "Valid set ones/size 5106 / 10593\n",
            "Range of scores: 0.034784354 to 0.9174419\n",
            "Score threshold 0.5\n",
            "Prediction set ones/size 5978 / 10593\n"
          ]
        },
        {
          "output_type": "display_data",
          "data": {
            "text/plain": [
              "<Figure size 432x288 with 1 Axes>"
            ],
            "image/png": "[encoded data removed]"
          },
          "metadata": {
            "needs_background": "light"
          }
        },
        {
          "output_type": "stream",
          "name": "stdout",
          "text": [
            "Accuracy: 60.69% Precision: 57.88% Recall: 67.76%\n",
            "F1: 62.43% AUPRC: 60.84%\n",
            "2023-01-26 14:13:52.169093\n",
            "\n",
            "Cross validation 5 folds 10 epochs\n",
            " accuracy mean 59.49% +/- 1.11\n",
            " precision mean 56.26% +/- 1.68\n",
            " recall mean 69.65% +/- 4.57\n",
            " F1 mean 62.15% +/- 1.79\n",
            " AUC mean 59.55% +/- 2.05\n",
            "2023-01-26 14:13:54.377205\n"
          ]
        }
      ],
      "source": [
        "print(datetime.now())\n",
        "cvdo = CrossValidator(EPOCHS,FOLDS,BREAK)\n",
        "cv_accuracy, cv_precision, cv_recall, cv_f1, cv_auc = cvdo.do_cross_validation()   \n",
        "cvdo = None\n",
        "print(\"Cross validation %d folds %d epochs\" % (FOLDS,EPOCHS)) \n",
        "print(\" accuracy mean %.2f%% +/- %.2f\" % (np.mean(cv_accuracy), np.std(cv_accuracy)))\n",
        "print(\" precision mean %.2f%% +/- %.2f\" % (np.mean(cv_precision), np.std(cv_precision)))\n",
        "print(\" recall mean %.2f%% +/- %.2f\" % (np.mean(cv_recall), np.std(cv_recall)))\n",
        "print(\" F1 mean %.2f%% +/- %.2f\" % (np.mean(cv_f1), np.std(cv_f1)))\n",
        "print(\" AUC mean %.2f%% +/- %.2f\" % (np.mean(cv_auc), np.std(cv_auc)))\n",
        "print(datetime.now())"
      ]
    },
    {
      "cell_type": "code",
      "execution_count": 18,
      "metadata": {
        "id": "HkCeDg_HdQ36"
      },
      "outputs": [],
      "source": []
    }
  ],
  "metadata": {
    "accelerator": "GPU",
    "colab": {
      "provenance": []
    },
    "gpuClass": "standard",
    "kernelspec": {
      "display_name": "Python 3 (ipykernel)",
      "language": "python",
      "name": "python3"
    },
    "language_info": {
      "codemirror_mode": {
        "name": "ipython",
        "version": 3
      },
      "file_extension": ".py",
      "mimetype": "text/x-python",
      "name": "python",
      "nbconvert_exporter": "python",
      "pygments_lexer": "ipython3",
      "version": "3.10.0"
    }
  },
  "nbformat": 4,
  "nbformat_minor": 0
}