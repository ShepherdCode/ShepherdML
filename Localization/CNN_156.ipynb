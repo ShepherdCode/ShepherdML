{
  "cells": [
    {
      "cell_type": "markdown",
      "metadata": {
        "id": "PG-tGRnlFLA3"
      },
      "source": [
        "# CNN + GlobalAvgPool\n",
        "Measure AUPRC.\n",
        "Use median rather than max RCI."
      ]
    },
    {
      "cell_type": "code",
      "execution_count": 23,
      "metadata": {
        "colab": {
          "base_uri": "https://localhost:8080/"
        },
        "id": "0RmwUsVLFLA6",
        "outputId": "466f6e28-0c0c-44d6-baa5-9ec5aa1245a0"
      },
      "outputs": [
        {
          "output_type": "stream",
          "name": "stdout",
          "text": [
            "2023-01-26 13:16:56.907452\n",
            "Python 3.8.10\n",
            "sklearn 1.0.2\n"
          ]
        }
      ],
      "source": [
        "from datetime import datetime\n",
        "print(datetime.now())\n",
        "from platform import python_version\n",
        "print('Python',python_version())\n",
        "import numpy as np\n",
        "import pandas as pd\n",
        "import pickle\n",
        "import time # sleep function\n",
        "from os.path import isfile\n",
        "from matplotlib import pyplot as plt \n",
        "import sklearn   # pip install --upgrade scikit-learn\n",
        "print('sklearn',sklearn.__version__)"
      ]
    },
    {
      "cell_type": "markdown",
      "metadata": {
        "id": "tUtGXPrcFLA8"
      },
      "source": [
        "We prevously used sklearn.model_selection.ShuffleSplit   \n",
        "Now we avoid it due to this note in the \n",
        "[documentation](https://scikit-learn.org/stable/modules/generated/sklearn.model_selection.ShuffleSplit.html):\n",
        "Note: contrary to other cross-validation strategies, random splits do not guarantee that all folds will be different, although this is still very likely for sizeable datasets."
      ]
    },
    {
      "cell_type": "code",
      "execution_count": 24,
      "metadata": {
        "id": "PRX-UEr8FLA8"
      },
      "outputs": [],
      "source": [
        "import tensorflow as tf\n",
        "dt='float32'\n",
        "tf.keras.backend.set_floatx('float32')\n",
        "tf.random.set_seed(42) \n",
        "\n",
        "from tensorflow import keras\n",
        "from sklearn.model_selection import KFold\n",
        "from sklearn.metrics import accuracy_score\n",
        "from sklearn.metrics import precision_score\n",
        "from sklearn.metrics import recall_score\n",
        "from sklearn.metrics import f1_score\n",
        "from sklearn.metrics import precision_recall_curve\n",
        "from sklearn.metrics import auc\n",
        "\n",
        "from keras.models import Sequential\n",
        "from keras.layers import Masking\n",
        "from keras.layers import Embedding\n",
        "from keras.layers import Conv1D\n",
        "from keras.layers import MaxPooling1D\n",
        "from keras.layers import GlobalAveragePooling1D\n",
        "from keras.layers import GlobalMaxPooling1D\n",
        "from keras.layers import Bidirectional\n",
        "from keras.layers import LSTM\n",
        "from keras.layers import TimeDistributed\n",
        "from keras.layers import Flatten\n",
        "from keras.layers import Dense\n",
        "from keras.layers import Dropout\n",
        "from keras.losses import BinaryCrossentropy\n",
        "\n",
        "K=1\n",
        "RCI_THRESHOLD=0.0\n",
        "CFILTERS=64\n",
        "FILTERSIZE=8\n",
        "RCELLS=32\n",
        "DCELLS=16\n",
        "EPOCHS=10\n",
        "FOLDS=5      \n",
        "EMBED_DIMEN = 4 # arbitrary hyperparameter\n",
        "BREAK = False   # break after first fold\n",
        "MINLEN=200\n",
        "MAXLEN=4000   "
      ]
    },
    {
      "cell_type": "code",
      "execution_count": 25,
      "metadata": {
        "colab": {
          "base_uri": "https://localhost:8080/"
        },
        "id": "OlzN9OdsFWEU",
        "outputId": "c02d0f1b-7e05-48e5-9ac3-30abde901ee2"
      },
      "outputs": [
        {
          "output_type": "stream",
          "name": "stdout",
          "text": [
            "Running on CoLab\n",
            "Drive already mounted at /content/drive/; to attempt to forcibly remount, call drive.mount(\"/content/drive/\", force_remount=True).\n",
            "/content/drive/My Drive/data/Localization/TrainTest/\n"
          ]
        }
      ],
      "source": [
        "try:\n",
        "    from google.colab import drive\n",
        "    IN_COLAB = True\n",
        "    print('Running on CoLab')\n",
        "    PATH='/content/drive/'\n",
        "    drive.mount(PATH)\n",
        "    DATA_DIR=PATH+'My Drive/data/Localization/TrainTest/'  # must end in \"/\"\n",
        "except:\n",
        "    IN_COLAB = False\n",
        "    DATA_DIR = 'D:/Adjeroh/Localization/TrainTest/'   # Windows\n",
        "    DATA_DIR = '/Users/jasonmiller/WVU/Localization/TrainTest/'    # Mac\n",
        "print(DATA_DIR)"
      ]
    },
    {
      "cell_type": "code",
      "execution_count": 26,
      "metadata": {
        "id": "LnkpVKdMFLA-"
      },
      "outputs": [],
      "source": [
        "GENES_FILE =    'CNRCI_coding_train_genes.csv'\n",
        "RCI_FILE =      'CNRCI_coding_train_RCI.gc42.csv'\n",
        "SEQUENCE_FILE = 'CNRCI_coding_train_transcripts.gc42.csv'\n",
        "COUNTS_FILE =   'CNRCI_coding_train_counts.K4.gc42.csv'\n",
        "PICKLE_FILE =   'CNRCI_coding_combined_K1.pkl'"
      ]
    },
    {
      "cell_type": "code",
      "execution_count": 27,
      "metadata": {
        "colab": {
          "base_uri": "https://localhost:8080/"
        },
        "id": "e3p4QzQJFLA_",
        "outputId": "f1c9142c-4dbe-42e1-a9f4-f552b9ba4ee4"
      },
      "outputs": [
        {
          "output_type": "stream",
          "name": "stdout",
          "text": [
            "Exclude cell line 1 H1.hESC\n",
            "Exclude cell line 7 NCI.H460\n"
          ]
        }
      ],
      "source": [
        "def get_ordered_list():\n",
        "    ordered_list = \\\n",
        "    ['A549',\\\n",
        "      'H1.hESC',\\\n",
        "      'HeLa.S3',\\\n",
        "      'HepG2',\\\n",
        "      'HT1080',\\\n",
        "      'HUVEC',\\\n",
        "      'MCF.7',\\\n",
        "      'NCI.H460',\\\n",
        "      'NHEK',\\\n",
        "      'SK.MEL.5',\\\n",
        "      'SK.N.DZ',\\\n",
        "      'SK.N.SH',\\\n",
        "      'GM12878',\\\n",
        "      'K562',\\\n",
        "      'IMR.90']\n",
        "    return ordered_list\n",
        "all_cell_lines = get_ordered_list()\n",
        "EXCLUSIONS = [1,7]\n",
        "for c in EXCLUSIONS:\n",
        "    print('Exclude cell line',c,all_cell_lines[c])"
      ]
    },
    {
      "cell_type": "markdown",
      "metadata": {
        "id": "UtqdpJOxFLBA"
      },
      "source": [
        "## Data Load"
      ]
    },
    {
      "cell_type": "code",
      "execution_count": 28,
      "metadata": {
        "colab": {
          "base_uri": "https://localhost:8080/"
        },
        "id": "p35ehKV3Kq0z",
        "outputId": "d18b8054-80a9-4d3b-c1ac-2a267c087b38"
      },
      "outputs": [
        {
          "output_type": "stream",
          "name": "stdout",
          "text": [
            "[1, 1]\n",
            "[20, 16]\n",
            "[63, 57]\n",
            "[64, 0]\n",
            "0\n",
            "1\n"
          ]
        }
      ],
      "source": [
        "class DataLoader():\n",
        "    def __init__(self):\n",
        "        self.cache=dict() \n",
        "        self.vals = {'A':0, 'C':1, 'G':2, 'T':3}\n",
        "        \n",
        "    def load_gene_rci_values(self,filepath,exclusions=[]):\n",
        "        '''\n",
        "        Load from RCI csv file.\n",
        "        Return dict with keys=gene:str and values=RCI:float.\n",
        "        '''\n",
        "        gene_to_rci = {}\n",
        "        overall_sum = 0\n",
        "        with open (filepath,'r') as handle:\n",
        "            header = None\n",
        "            for row in handle:\n",
        "                if header is None:\n",
        "                    header = row # skip file's header line\n",
        "                else:\n",
        "                    line = row.strip()\n",
        "                    fields = line.split(',')\n",
        "                    gene_id = fields.pop(0)\n",
        "                    rci_list = []\n",
        "                    cell_line = 0 # first line is 0 = A549\n",
        "                    for rci_str in fields:\n",
        "                        if rci_str != \"nan\" and cell_line not in exclusions:\n",
        "                            rci_val = float(rci_str)\n",
        "                            rci_list.append(rci_val)\n",
        "                        cell_line += 1   \n",
        "                    if len(rci_list) > 0:\n",
        "                        statistic = np.median(rci_list)\n",
        "                        gene_to_rci[gene_id] = statistic\n",
        "                        overall_sum += statistic\n",
        "        overall_count = len(gene_to_rci.keys())\n",
        "        overall_mean = overall_sum / overall_count\n",
        "        print('Number of RCI values lo',overall_count)\n",
        "        print('Mean RCI value',overall_mean)\n",
        "        return gene_to_rci\n",
        "    \n",
        "    def seq_to_kmer_values(self,rna,K):\n",
        "        # The cache may represent more than one K. Probably not a problem.\n",
        "        N_indicator = 0 # indicator value\n",
        "        vec=[] # seq converted to list of K-mers \n",
        "        length = len(rna)\n",
        "        for i in range(length-K+1):\n",
        "            kmer = rna[i:i+K]\n",
        "            if 'N' in kmer:\n",
        "                value = N_indicator\n",
        "            elif kmer in self.cache.keys():\n",
        "                value = self.cache[kmer]\n",
        "            else:\n",
        "                value = 0\n",
        "                for j in range(K):\n",
        "                    value *= 4   \n",
        "                    nextnuc = kmer[j] \n",
        "                    nucval = self.vals[nextnuc]\n",
        "                    value += nucval\n",
        "                value += 1   # NNN => 0, AAA => 1\n",
        "                self.cache[kmer] = value\n",
        "            vec.append(value)\n",
        "        return vec\n",
        "\n",
        "    def rci_to_label(self,rci):\n",
        "        CYTO_LABEL = 1\n",
        "        NUCLEAR_LABEL = 0\n",
        "        # cnrci = log (cyto-to-nuclear ratio)\n",
        "        # rci > 0 implies cytoplasmic\n",
        "        if rci > RCI_THRESHOLD:\n",
        "            return CYTO_LABEL\n",
        "        return NUCLEAR_LABEL\n",
        "\n",
        "    def load_sequence(self,filepath):\n",
        "        labels=[]\n",
        "        allids=[]\n",
        "        allseq=[]\n",
        "        cache = DATA_DIR+PICKLE_FILE # TO DO: parameterize\n",
        "        if isfile(cache):\n",
        "            with open(cache,'rb') as fin:\n",
        "                alldata = pickle.load(fin)\n",
        "                labels=alldata[0]\n",
        "                allids=alldata[1]\n",
        "                allseq=alldata[2]\n",
        "                return labels,allids,allseq\n",
        "\n",
        "        NREPEAT = str('N'*MAXLEN)\n",
        "        with open (filepath,'r') as handle:\n",
        "            header = None\n",
        "            for row in handle:\n",
        "                if header is None:\n",
        "                    header = row\n",
        "                else:\n",
        "                    line    = row.strip()\n",
        "                    fields  = line.split(',')\n",
        "                    tran_id = fields[0]  # with version number\n",
        "                    gene_id = fields[1]        # without version number\n",
        "                    seq_len = int(fields[3])\n",
        "                    seq_txt = fields[4]\n",
        "                    if seq_len>=MINLEN and seq_len<=MAXLEN and gene_id in gene_to_rci.keys():\n",
        "                        allids.append( (gene_id,tran_id) )\n",
        "                        rci_val = gene_to_rci[gene_id]\n",
        "                        rci_label = self.rci_to_label(rci_val)\n",
        "                        labels.append(rci_label)\n",
        "                        if seq_len<MAXLEN:\n",
        "                            seq_txt = seq_txt + NREPEAT\n",
        "                            seq_txt = seq_txt[:MAXLEN]\n",
        "                        hot_vec = self.seq_to_kmer_values(seq_txt,K)\n",
        "                        allseq.append(hot_vec)\n",
        "        with open(cache,'wb') as fout:\n",
        "            alldata = [labels,allids,allseq]\n",
        "            pickle.dump(alldata,fout)\n",
        "        return labels,allids,allseq\n",
        "    \n",
        "loader = DataLoader()\n",
        "# test it\n",
        "print(loader.seq_to_kmer_values('AAAA',3))\n",
        "print(loader.seq_to_kmer_values('CATT',3))\n",
        "print(loader.seq_to_kmer_values('TTGA',3))\n",
        "print(loader.seq_to_kmer_values('TTTN',3))\n",
        "# test it\n",
        "print(loader.rci_to_label(-0.9))\n",
        "print(loader.rci_to_label(1.1))"
      ]
    },
    {
      "cell_type": "code",
      "execution_count": 29,
      "metadata": {
        "colab": {
          "base_uri": "https://localhost:8080/"
        },
        "id": "cYoYDc93FLBB",
        "outputId": "d808c785-df59-49f7-90c9-417198b719c7"
      },
      "outputs": [
        {
          "output_type": "stream",
          "name": "stdout",
          "text": [
            "2023-01-26 13:16:59.679462\n",
            "Load RCI values...\n",
            "Number of RCI values lo 13512\n",
            "Mean RCI value -0.20493295871695527\n",
            "Num RCI: 13512\n",
            "Example RCI: [('ENSG00000000003', 1.50595), ('ENSG00000000419', 1.15523), ('ENSG00000000457', -0.78064)]\n",
            "Load genes...\n",
            "2023-01-26 13:17:00.151951\n",
            "Load sequence...\n",
            "2023-01-26 13:17:59.855677\n",
            "Num IDs: 54410\n",
            "Example IDs: [('ENSG00000187634', 'ENST00000455979.1'), ('ENSG00000187608', 'ENST00000624652.1'), ('ENSG00000131591', 'ENST00000427787.5'), ('ENSG00000186827', 'ENST00000699969.1')]\n",
            "Count 26044 ones out of 54410 labels.\n",
            "Num labels: 54410\n",
            "Example labels: [0, 1, 0, 0]\n",
            "Num sequences: 54410\n",
            "Example sequence: [3, 2, 1, 3, 1, 3, 2, 2, 2, 1, 3, 2, 1, 3, 1, 4, 2, 2, 2, 4, 3, 2, 3, 3, 2, 3, 4, 4, 2, 3, 2, 3, 1, 3, 3, 3, 4, 3, 3, 3, 1, 2, 3, 3, 3, 1, 1, 3, 2, 3, 3, 3, 2, 4, 3, 3, 3, 1, 1, 3, 4, 2, 3, 3, 3, 2, 2, 3, 1, 3, 3, 3, 1, 1, 1, 1, 3, 4, 2, 4, 3, 1, 1, 3, 1, 2, 3, 2, 4, 4, 1, 4, 3, 4, 2, 2, 1, 1, 3, 3, 3, 3, 1, 4, 2, 2, 4, 3, 2, 1, 3, 3, 4, 3, 2, 1, 4, 2, 2, 4, 2, 2, 3, 1, 4, 2, 4, 3, 2, 3, 1, 2, 4, 3, 2, 2, 2, 3, 3, 3, 2, 4, 3, 2, 2, 3, 1, 1, 4, 1, 4, 2, 2, 4, 2, 2, 2, 2, 3, 3, 4, 3, 1, 1, 2, 2, 3, 3, 3, 3, 3, 2, 3, 3, 2, 4, 3, 3, 2, 1, 3, 1, 2, 1, 1, 3, 1, 3, 3, 1, 2, 1, 3, 4, 2, 3, 2, 2, 2, 4, 3, 2, 2, 4, 3, 2, 2, 3, 2, 2, 2, 3, 3, 1, 1, 2, 2, 4, 3, 1, 1, 3, 1, 1, 3, 3, 1, 3, 2, 3, 1, 1, 2, 4, 2, 2, 2, 1, 3, 2, 4, 4, 2, 4, 2, 4, 3, 2, 2, 1, 3, 2, 3, 1, 4, 3, 3, 4, 3, 1, 2, 1, 3, 2, 3, 1, 2, 3, 3, 3, 1, 3, 4, 3, 3, 2, 2, 2, 2, 1, 2, 2, 4, 3, 4, 3, 3, 3, 2, 3, 3, 2, 3, 3, 2, 2, 1, 3, 3, 2, 4, 4, 3, 1, 1, 3, 2, 1, 3, 3, 1, 3, 3, 1, 4, 3, 3, 4, 2, 2, 3, 2, 1, 2, 1, 4, 2, 2, 3, 4, 1, 4, 2, 1, 4, 3, 1, 1, 3, 1, 3, 1, 1, 3, 1, 3, 4, 2, 2, 1, 2, 1, 2, 2, 2, 1, 2, 4, 3, 3, 3, 1, 2, 3, 4, 3, 1, 1, 2, 1, 4, 2, 4, 2, 4, 4, 4, 2, 2, 3, 1, 3, 1, 3, 3, 2, 3, 4, 2, 2, 4, 3, 2, 1, 3, 2, 2, 1, 3, 3, 1, 2, 3, 3, 2, 1, 1, 2, 2, 4, 4, 2, 2, 2, 1, 2, 2, 2, 4, 2, 1, 4, 1, 4, 2, 2, 1, 3, 2, 3, 4, 2, 2, 1, 2, 2, 3, 2, 1, 3, 2, 2, 3, 2, 2, 1, 2, 2, 4, 2, 3, 4, 4, 1, 4, 3, 2, 2, 2, 3, 1, 3, 2, 1, 4, 2, 1, 3, 1, 3, 2, 2, 3, 2, 4, 3, 4, 3, 1, 1, 4, 4, 2, 2, 1, 3, 1, 3, 1, 3, 3, 2, 1, 3, 2, 2, 4, 3, 3, 1, 3, 1, 4, 4, 3, 3, 2, 2, 4, 3, 2, 3, 1, 2, 2, 2, 3, 2, 2, 3, 3, 4, 3, 1, 2, 2, 4, 3, 4, 4, 3, 3, 3, 2, 1, 1, 3, 1, 3, 3, 2, 4, 3, 3, 3, 2, 2, 3, 2, 4, 2, 2, 2, 2, 2, 2, 3, 4, 1, 4, 2, 1, 3, 2, 1, 3, 2, 3, 1, 2, 4, 3, 2, 4, 4, 4, 4, 2, 1, 3, 1, 3, 1, 1, 3, 1, 3, 3, 3, 2, 1, 2, 3, 1, 1, 3, 2, 3, 1, 1, 4, 2, 3, 2, 2, 4, 2, 1, 1, 3, 1, 3, 3, 2, 3, 2, 4, 3, 2, 4, 3, 2, 4, 3, 2, 2, 3, 2, 3, 3, 3, 1, 3, 2, 4, 3, 3, 3, 3, 2, 2, 2, 1, 3, 2, 1, 4, 3, 3, 2, 2, 2, 2, 3, 3, 1, 3, 3, 1, 2, 2, 1, 4, 4, 1, 2, 2, 3, 2, 2, 3, 3, 2, 4, 4, 3, 4, 3, 4, 2, 1, 3, 2, 1, 2, 4, 3, 1, 3, 2, 3, 1, 3, 3, 2, 2, 1, 3, 2, 1, 2, 2, 4, 4, 4, 3, 1, 3, 3, 1, 2, 2, 2, 4, 2, 1, 3, 2, 3, 2, 2, 4, 2, 4, 1, 2, 2, 1, 2, 2, 4, 3, 3, 3, 2, 2, 4, 2, 2, 2, 2, 1, 3, 2, 2, 1, 2, 3, 3, 4, 3, 1, 3, 3, 1, 2, 2, 2, 1, 2, 2, 2, 4, 3, 3, 2, 1, 4, 3, 1, 4, 2, 2, 2, 2, 2, 4, 2, 1, 4, 2, 1, 2, 2, 4, 2, 2, 2, 2, 1, 3, 2, 2, 1, 2, 3, 1, 4, 2, 4, 2, 2, 4, 3, 1, 3, 3, 3, 4, 2, 2, 3, 3, 2, 1, 3, 3, 1, 3, 3, 4, 3, 3, 2, 3, 3, 2, 4, 3, 2, 1, 3, 2, 4, 2, 4, 3, 1, 3, 3, 3, 3, 2, 2, 2, 2, 1, 3, 4, 3, 3, 2, 2, 4, 3, 3, 1, 1, 3, 2, 2, 2, 1, 2, 2, 4, 3, 2, 2, 2, 4, 2, 2, 4, 2, 2, 1, 2, 3, 3, 2, 1, 3, 3, 4, 2, 1, 3, 2, 3, 4, 2, 3, 3, 1, 1, 3, 2, 1, 3, 3, 3, 2, 2, 4, 3, 3, 2, 4, 2, 1, 3, 2, 1, 2, 2, 3, 3, 3, 1, 3, 3, 3, 2, 3, 2, 2, 3, 2, 2, 2, 2, 1, 3, 2, 4, 3, 2, 2, 3, 2, 2, 2, 2, 3, 4, 2, 2, 4, 4, 2, 4, 2, 3, 3, 1, 3, 1, 3, 3, 3, 1, 3, 2, 4, 3, 2, 2, 4, 2, 1, 3, 2, 2, 3, 2, 2, 2, 2, 2, 2, 4, 4, 3, 2, 4, 3, 4, 2, 3, 2, 2, 3, 2, 1, 3, 1, 1, 4, 3, 2, 2, 2, 2, 4, 2, 1, 2, 3, 4, 2, 3, 2, 2, 2, 4, 3, 3, 3, 2, 2, 2, 2, 2, 1, 4, 2, 4, 2, 1, 3, 3, 2, 2, 2, 2, 2, 2, 4, 4, 2, 2, 4, 3, 3, 3, 3, 3, 4, 3, 2, 2, 2, 4, 2, 3, 3, 2, 4, 2, 4, 3, 4, 3, 2, 2, 1, 3, 1, 2, 2, 2, 2, 1, 3, 3, 2, 4, 1, 2, 3, 3, 2, 4, 4, 2, 2, 4, 3, 2, 2, 2, 2, 2, 2, 3, 2, 3, 2, 1, 3, 3, 2, 3, 3, 1, 3, 1, 4, 3, 4, 4, 2, 3, 2, 2, 4, 3, 3, 2, 1, 3, 2, 1, 3, 3, 1, 3, 2, 4, 2, 2, 4, 3, 2, 3, 3, 1, 1, 3, 2, 1, 3, 1, 1, 2, 2, 4, 3, 3, 2, 2, 2, 3, 3, 2, 4, 3, 3, 1, 3, 2, 4, 3, 2, 2, 2, 3, 2, 2, 3, 1, 2, 2, 4, 2, 2, 4, 3, 2, 3, 3, 2, 1, 3, 1, 1, 3, 3, 1, 3, 2, 4, 3, 3, 1, 3, 1, 3, 2, 3, 2, 3, 2, 3, 2, 2, 2, 1, 2, 1, 3, 2, 4, 3, 2, 4, 3, 3, 2, 3, 2, 2, 2, 3, 1, 3, 1, 2, 2, 3, 2, 2, 2, 4, 3, 2, 3, 2, 2, 2, 2, 1, 1, 2, 3, 1, 2, 3, 3, 2, 3, 2, 2, 3, 1, 3, 3, 1, 3, 2, 4, 3, 2, 1, 3, 2, 3, 3, 2, 3, 2, 3, 3, 3, 3, 2, 2, 2, 4, 3, 2, 4, 3, 3, 4, 3, 2, 4, 3, 1, 1, 2, 2, 1, 2, 3, 3, 2, 3, 2, 3, 3, 2, 3, 2, 2, 1, 2, 4, 3, 2, 4, 3, 3, 2, 2, 2, 4, 3, 2, 2, 2, 2, 2, 2, 2, 1, 3, 3, 3, 3, 2, 2, 2, 2, 2, 3, 3, 3, 2, 4, 2, 2, 3, 3, 1, 2, 2, 2, 2, 2, 2, 1, 2, 2, 2, 2, 3, 4, 2, 2, 2, 3, 3, 3, 1, 2, 4, 2, 4, 3, 2, 2, 2, 3, 3, 2, 3, 1, 3, 2, 2, 2, 2, 2, 2, 3, 3, 1, 1, 3, 3, 3, 3, 3, 3, 4, 2, 2, 2, 3, 3, 2, 2, 2, 4, 3, 2, 2, 4, 2, 1, 3, 2, 3, 2, 3, 3, 2, 2, 2, 1, 3, 2, 3, 1, 3, 4, 2, 2, 1, 1, 3, 3, 1, 3, 1, 4, 3, 1, 2, 3, 3, 3, 3, 3, 2, 4, 1, 3, 3, 2, 4, 2, 4, 3, 3, 3, 2, 1, 2, 1, 1, 3, 1, 4, 3, 3, 2, 4, 2, 3, 3, 1, 1, 3, 1, 2, 3, 1, 3, 2, 2, 2, 2, 2, 2, 1, 1, 1, 3, 1, 2, 4, 2, 3, 3, 1, 2, 3, 3, 1, 3, 1, 3, 3, 1, 2, 2, 2, 2, 3, 1, 3, 1, 2, 3, 3, 2, 1, 3, 2, 4, 3, 4, 4, 3, 3, 3, 4, 3, 2, 1, 3, 3, 3, 3, 3, 2, 2, 2, 1, 2, 4, 2, 2, 3, 3, 3, 2, 2, 1, 1, 3, 2, 4, 2, 2, 1, 3, 2, 4, 3, 3, 1, 3, 3, 3, 3, 2, 2, 3, 3, 2, 3, 2, 2, 3, 1, 3, 3, 3, 3, 1, 1, 3, 3, 3, 3, 2, 4, 4, 4, 4, 2, 2, 2, 1, 3, 3, 3, 4, 2, 2, 1, 2, 1, 2, 4, 3, 2, 2, 2, 2, 4, 3, 3, 3, 2, 4, 4, 2, 2, 2, 4, 4, 1, 4, 3, 2, 2, 3, 4, 2, 1, 3, 2, 2, 2, 2, 4, 1, 2, 4, 4, 2, 2, 1, 2, 1, 2, 1, 3, 3, 2, 3, 2, 3, 3, 4, 1, 3, 3, 3, 3, 3, 1, 2, 4, 2, 4, 2, 2, 1, 4, 3, 3, 1, 4, 3, 3, 3, 3, 1, 3, 3, 1, 3, 3, 2, 2, 2, 2, 1, 3, 2, 2, 2, 2, 4, 3, 1, 3, 3, 1, 2, 3, 4, 2, 1, 2, 2, 1, 1, 3, 4, 3, 3, 1, 2, 2, 3, 4, 3, 3, 1, 4, 3, 1, 2, 3, 4, 2, 4, 3, 2, 1, 3, 2, 4, 4, 2, 3, 4, 3, 3, 3, 3, 3, 3, 2, 2, 4, 3, 4, 2, 4, 3, 3, 2, 4, 3, 4, 3, 3, 1, 3, 1, 3, 4, 1, 2, 1, 2, 4, 2, 3, 3, 3, 4, 2, 4, 4, 2, 1, 3, 3, 3, 1, 3, 2, 1, 3, 3, 3, 3, 1, 4, 2, 3, 1, 2, 3, 3, 3, 3, 1, 3, 1, 2, 2, 2, 4, 3, 2, 2, 1, 2, 4, 3, 2, 4, 3, 1, 2, 3, 3, 1, 3, 3, 1, 3, 2, 1, 2, 2, 4, 3, 2, 4, 3, 1, 2, 2, 1, 1, 2, 1, 4, 3, 3, 3, 3, 2, 4, 3, 1, 1, 3, 2, 4, 3, 3, 3, 3, 2, 2, 2, 3, 2, 2, 2, 4, 2, 1, 1, 3, 1, 4, 2, 2, 3, 3, 3, 2, 2, 2, 1, 3, 3, 4, 3, 3, 2, 2, 1, 3, 3, 2, 3, 2, 2, 4, 3, 3, 3, 2, 2, 3, 1, 3, 4, 4, 4, 4, 2, 4, 1, 2, 3, 4, 3, 3, 2, 2, 1, 3, 2, 4, 4, 2, 2, 2, 2, 3, 4, 3, 3, 2, 4, 2, 4, 3, 2, 2, 1, 2, 4, 3, 2, 1, 3, 2, 2, 1, 2, 2, 1, 1, 2, 2, 2, 4, 3, 2, 3, 3, 3, 2, 2, 2, 2, 3, 3, 1, 3, 2, 3, 1, 3, 1, 1, 2, 4, 2, 3, 3, 2, 1, 2, 1, 3, 3, 1, 3, 1, 3, 2, 1, 3, 2, 2, 2, 4, 4, 3, 4, 2, 2, 2, 2, 2, 1, 2, 3, 1, 2, 3, 3, 2, 2, 1, 2, 3, 4, 2, 2, 2, 2, 2, 4, 1, 4, 3, 3, 1, 3, 3, 3, 3, 3, 2, 2, 1, 2, 3, 2, 2, 2, 4, 4, 3, 2, 2, 3, 3, 4, 2, 1, 1, 1, 2, 4, 4, 2, 1, 2, 2, 2, 1, 1, 3, 2, 1, 3, 3, 1, 3, 1, 1, 4, 3, 3, 3, 1, 2, 2, 4, 4, 3, 3, 2, 4, 2, 4, 1, 2, 4, 4, 2, 2, 1, 3, 3, 3, 3, 2, 2, 2, 2, 2, 3, 1, 2, 2, 2, 4, 4, 2, 2, 2, 1, 3, 2, 2, 4, 2, 4, 3, 4, 3, 4, 4, 3, 1, 3, 3, 4, 4, 3, 2, 2, 3, 3, 3, 3, 3, 4, 1, 3, 3, 3, 3, 4, 3, 3, 3, 3, 2, 2, 1, 2, 1, 2, 1, 1, 1, 4, 2, 4, 2, 2, 1, 3, 3, 1, 3, 2, 2, 1, 2, 2, 1, 2, 4, 2, 1, 1, 2, 1, 2, 1, 1, 4, 3, 3, 2, 2, 2, 4, 3, 2, 2, 4, 2, 2, 2, 1, 2, 2, 3, 2, 4, 4, 4, 1, 4, 4, 4, 2, 4, 4, 4, 2, 3, 3, 4, 4, 4, 2, 3, 3, 1, 4, 3, 2, 1, 1, 1, 1, 2, 1, 1, 1, 1, 1, 1, 4, 4, 4, 4, 1, 1, 1, 1, 3, 1, 1, 1, 1, 4, 3, 4, 3, 1, 2, 4, 4, 2, 1, 1, 1, 3, 3, 1, 1, 1, 3, 3, 1, 1, 2, 1, 1, 1, 4, 4, 4, 4, 2, 1, 1, 1, 3, 1, 2, 4, 4, 3, 3, 3, 3, 3, 1, 3, 4, 3, 1, 1, 3, 3, 2, 1, 3, 1, 3, 2, 2, 4, 3, 3, 4, 3, 2, 1, 3, 1, 4, 3, 3, 1, 2, 3, 1, 3, 3, 4, 2, 4, 3, 2, 1, 3, 1, 2, 3, 3, 1, 3, 3, 3, 2, 1, 3, 1, 3, 3, 4, 3, 3, 4, 3, 3, 1, 1, 3, 3, 3, 3, 2, 2, 1, 3, 3, 3, 3, 2, 2, 4, 3, 2, 1, 3, 3, 2, 2, 4, 2, 2, 2, 2, 2, 4, 3, 3, 1, 1, 2, 4, 3, 3, 3, 1, 2, 4, 3, 3, 4, 2, 4, 2, 3, 3, 4, 2, 4, 3, 2, 4, 3, 1, 2, 3, 4, 2, 1, 3, 3, 3, 4, 2, 1, 3, 2, 4, 2, 2, 2, 2, 2, 3, 2, 3, 3, 1, 3, 2, 4, 3, 1, 2, 4, 4, 2, 1, 3, 2, 1, 3, 2, 2, 2, 1, 2, 1, 3, 2, 4, 3, 4, 3, 3, 3, 3, 2, 4, 4, 2, 1, 3, 2, 1, 3, 2, 2, 1, 2, 1, 2, 2, 1, 3, 2, 2, 2, 1, 3, 2, 2, 2, 1, 3, 2, 2, 2, 1, 3, 2, 4, 2, 4, 2, 3, 1, 4, 1, 2, 3, 4, 4, 4, 3, 3, 4, 2, 4, 4, 4, 2, 1, 4, 3, 2, 4, 3, 1, 1, 1, 1, 1, 4, 1, 1, 1, 4, 1, 1, 4, 1, 1, 1, 3, 2, 2, 4, 3, 0, 0, 0, 0, 0, 0, 0, 0, 0, 0, 0, 0, 0, 0, 0, 0, 0, 0, 0, 0, 0, 0, 0, 0, 0, 0, 0, 0, 0, 0, 0, 0, 0, 0, 0, 0, 0, 0, 0, 0, 0, 0, 0, 0, 0, 0, 0, 0, 0, 0, 0, 0, 0, 0, 0, 0, 0, 0, 0, 0, 0, 0, 0, 0, 0, 0, 0, 0, 0, 0, 0, 0, 0, 0, 0, 0, 0, 0, 0, 0, 0, 0, 0, 0, 0, 0, 0, 0, 0, 0, 0, 0, 0, 0, 0, 0, 0, 0, 0, 0, 0, 0, 0, 0, 0, 0, 0, 0, 0, 0, 0, 0, 0, 0, 0, 0, 0, 0, 0, 0, 0, 0, 0, 0, 0, 0, 0, 0, 0, 0, 0, 0, 0, 0, 0, 0, 0, 0, 0, 0, 0, 0, 0, 0, 0, 0, 0, 0, 0, 0, 0, 0, 0, 0, 0, 0, 0, 0, 0, 0, 0, 0, 0, 0, 0, 0, 0, 0, 0, 0, 0, 0, 0, 0, 0, 0, 0, 0, 0, 0, 0, 0, 0, 0, 0, 0, 0, 0, 0, 0, 0, 0, 0, 0, 0, 0, 0, 0, 0, 0, 0, 0, 0, 0, 0, 0, 0, 0, 0, 0, 0, 0, 0, 0, 0, 0, 0, 0, 0, 0, 0, 0, 0, 0, 0, 0, 0, 0, 0, 0, 0, 0, 0, 0, 0, 0, 0, 0, 0, 0, 0, 0, 0, 0, 0, 0, 0, 0, 0, 0, 0, 0, 0, 0, 0, 0, 0, 0, 0, 0, 0, 0, 0, 0, 0, 0, 0, 0, 0, 0, 0, 0, 0, 0, 0, 0, 0, 0, 0, 0, 0, 0, 0, 0, 0, 0, 0, 0, 0, 0, 0, 0, 0, 0, 0, 0, 0, 0, 0, 0, 0, 0, 0, 0, 0, 0, 0, 0, 0, 0, 0, 0, 0, 0, 0, 0, 0, 0, 0, 0, 0, 0, 0, 0, 0, 0, 0, 0, 0, 0, 0, 0, 0, 0, 0, 0, 0, 0, 0, 0, 0, 0, 0, 0, 0, 0, 0, 0, 0, 0, 0, 0, 0, 0, 0, 0, 0, 0, 0, 0, 0, 0, 0, 0, 0, 0, 0, 0, 0, 0, 0, 0, 0, 0, 0, 0, 0, 0, 0, 0, 0, 0, 0, 0, 0, 0, 0, 0, 0, 0, 0, 0, 0, 0, 0, 0, 0, 0, 0, 0, 0, 0, 0, 0, 0, 0, 0, 0, 0, 0, 0, 0, 0, 0, 0, 0, 0, 0, 0, 0, 0, 0, 0, 0, 0, 0, 0, 0, 0, 0, 0, 0, 0, 0, 0, 0, 0, 0, 0, 0, 0, 0, 0, 0, 0, 0, 0, 0, 0, 0, 0, 0, 0, 0, 0, 0, 0, 0, 0, 0, 0, 0, 0, 0, 0, 0, 0, 0, 0, 0, 0, 0, 0, 0, 0, 0, 0, 0, 0, 0, 0, 0, 0, 0, 0, 0, 0, 0, 0, 0, 0, 0, 0, 0, 0, 0, 0, 0, 0, 0, 0, 0, 0, 0, 0, 0, 0, 0, 0, 0, 0, 0, 0, 0, 0, 0, 0, 0, 0, 0, 0, 0, 0, 0, 0, 0, 0, 0, 0, 0, 0, 0, 0, 0, 0, 0, 0, 0, 0, 0, 0, 0, 0, 0, 0, 0, 0, 0, 0, 0, 0, 0, 0, 0, 0, 0, 0, 0, 0, 0, 0, 0, 0, 0, 0, 0, 0, 0, 0, 0, 0, 0, 0, 0, 0, 0, 0, 0, 0, 0, 0, 0, 0, 0, 0, 0, 0, 0, 0, 0, 0, 0, 0, 0, 0, 0, 0, 0, 0, 0, 0, 0, 0, 0, 0, 0, 0, 0, 0, 0, 0, 0, 0, 0, 0, 0, 0, 0, 0, 0, 0, 0, 0, 0, 0, 0, 0, 0, 0, 0, 0, 0, 0, 0, 0, 0, 0, 0, 0, 0, 0, 0, 0, 0, 0, 0, 0, 0, 0, 0, 0, 0, 0, 0, 0, 0, 0, 0, 0, 0, 0, 0, 0, 0, 0, 0, 0, 0, 0, 0, 0, 0, 0, 0, 0, 0, 0, 0, 0, 0, 0, 0, 0, 0, 0, 0, 0, 0, 0, 0, 0, 0, 0, 0, 0, 0, 0, 0, 0, 0, 0, 0, 0, 0, 0, 0, 0, 0, 0, 0, 0, 0, 0, 0, 0, 0, 0, 0, 0, 0, 0, 0, 0, 0, 0, 0, 0, 0, 0, 0, 0, 0, 0, 0, 0, 0, 0, 0, 0, 0, 0, 0, 0, 0, 0, 0, 0, 0, 0, 0, 0, 0, 0, 0, 0, 0, 0, 0, 0, 0, 0, 0, 0, 0, 0, 0, 0, 0, 0, 0, 0, 0, 0, 0, 0, 0, 0, 0, 0, 0, 0, 0, 0, 0, 0, 0, 0, 0, 0, 0, 0, 0, 0, 0, 0, 0, 0, 0, 0, 0, 0, 0, 0, 0, 0, 0, 0, 0, 0, 0, 0, 0, 0, 0, 0, 0, 0, 0, 0, 0, 0, 0, 0, 0, 0, 0, 0, 0, 0, 0, 0, 0, 0, 0, 0, 0, 0, 0, 0, 0, 0, 0, 0, 0, 0, 0, 0, 0, 0, 0, 0, 0, 0, 0, 0, 0, 0, 0, 0, 0, 0, 0, 0, 0, 0, 0, 0, 0, 0, 0, 0, 0, 0, 0, 0, 0, 0, 0, 0, 0, 0, 0, 0, 0, 0, 0, 0, 0, 0, 0, 0, 0, 0, 0, 0, 0, 0, 0, 0, 0, 0, 0, 0, 0, 0, 0, 0, 0, 0, 0, 0, 0, 0, 0, 0, 0, 0, 0, 0, 0, 0, 0, 0, 0, 0, 0, 0, 0, 0, 0, 0, 0, 0, 0, 0, 0, 0, 0, 0, 0, 0, 0, 0, 0, 0, 0, 0, 0, 0, 0, 0, 0, 0, 0, 0, 0, 0, 0, 0, 0, 0, 0, 0, 0, 0, 0, 0, 0, 0, 0, 0, 0, 0, 0, 0, 0, 0, 0, 0, 0, 0, 0, 0, 0, 0, 0, 0, 0, 0, 0, 0, 0, 0, 0, 0, 0, 0, 0, 0, 0, 0, 0, 0, 0, 0, 0, 0, 0, 0, 0, 0, 0, 0, 0, 0, 0, 0, 0, 0, 0, 0, 0, 0, 0, 0, 0, 0, 0, 0, 0, 0, 0, 0, 0, 0, 0, 0, 0, 0, 0, 0, 0, 0, 0, 0, 0, 0, 0, 0, 0, 0, 0, 0, 0, 0, 0, 0, 0, 0, 0, 0, 0, 0, 0, 0, 0, 0, 0, 0, 0, 0, 0, 0, 0, 0, 0, 0, 0, 0, 0, 0, 0, 0, 0, 0, 0, 0, 0, 0, 0, 0, 0, 0, 0, 0, 0, 0, 0, 0, 0, 0, 0, 0, 0, 0, 0, 0, 0, 0, 0, 0, 0, 0, 0, 0, 0, 0, 0, 0, 0, 0, 0, 0, 0, 0, 0, 0, 0, 0, 0, 0, 0, 0, 0, 0, 0, 0, 0, 0, 0, 0, 0, 0, 0, 0, 0, 0, 0, 0, 0, 0, 0, 0, 0, 0, 0, 0, 0, 0, 0, 0, 0, 0, 0, 0, 0, 0, 0, 0, 0, 0, 0, 0, 0, 0, 0, 0, 0, 0, 0, 0, 0, 0, 0, 0, 0, 0, 0, 0, 0, 0, 0, 0, 0, 0, 0, 0, 0, 0, 0, 0, 0, 0, 0, 0, 0, 0, 0, 0, 0, 0, 0, 0, 0, 0, 0, 0, 0, 0, 0, 0, 0, 0, 0, 0, 0, 0, 0, 0, 0, 0, 0, 0, 0, 0, 0, 0, 0, 0, 0, 0, 0, 0, 0, 0, 0, 0, 0, 0, 0, 0, 0, 0, 0, 0, 0, 0, 0, 0, 0, 0, 0, 0, 0, 0, 0, 0, 0, 0, 0, 0, 0, 0, 0, 0, 0, 0, 0, 0, 0, 0, 0, 0, 0, 0, 0, 0, 0, 0, 0, 0, 0, 0, 0, 0, 0, 0, 0, 0, 0, 0, 0, 0, 0, 0, 0, 0, 0, 0, 0, 0, 0, 0, 0, 0, 0, 0, 0, 0, 0, 0, 0, 0, 0, 0, 0, 0, 0, 0, 0, 0, 0, 0, 0, 0, 0, 0, 0, 0, 0, 0, 0, 0, 0, 0, 0, 0, 0, 0, 0, 0, 0, 0, 0, 0, 0, 0, 0, 0, 0, 0, 0, 0, 0, 0, 0, 0, 0, 0, 0, 0, 0, 0, 0, 0, 0, 0, 0, 0, 0, 0, 0, 0, 0, 0, 0, 0, 0, 0, 0, 0, 0, 0, 0, 0, 0, 0, 0, 0, 0, 0, 0, 0, 0, 0, 0, 0, 0, 0, 0, 0, 0, 0, 0, 0, 0, 0, 0, 0, 0, 0, 0, 0, 0, 0, 0, 0, 0, 0, 0, 0, 0, 0, 0, 0, 0, 0, 0, 0, 0, 0, 0, 0]\n"
          ]
        }
      ],
      "source": [
        "print(datetime.now())\n",
        "print(\"Load RCI values...\")\n",
        "loader = DataLoader()\n",
        "filepath = DATA_DIR+RCI_FILE\n",
        "gene_to_rci = loader.load_gene_rci_values(filepath,EXCLUSIONS)\n",
        "print('Num RCI:', len(gene_to_rci.keys()))\n",
        "print('Example RCI:', list(gene_to_rci.items())[:3])\n",
        "print(\"Load genes...\")\n",
        "all_genes = list(gene_to_rci.keys())\n",
        "print(datetime.now())\n",
        "print('Load sequence...')\n",
        "filepath = DATA_DIR+SEQUENCE_FILE\n",
        "labels,allids,allseq = loader.load_sequence(filepath)\n",
        "print(datetime.now())\n",
        "print('Num IDs:',len(allids))\n",
        "print('Example IDs:',[allids[x] for x in [10, 20, 30, 40]] )\n",
        "print('Count',np.count_nonzero(labels),'ones out of',len(labels),'labels.')\n",
        "print('Num labels:',len(labels))\n",
        "print('Example labels:',[labels[x] for x in [10, 20, 30, 40]] )\n",
        "print('Num sequences:',len(allseq))\n",
        "print('Example sequence:',allseq[3])\n",
        "loader = None  # drop K-mer cache to save RAM"
      ]
    },
    {
      "cell_type": "markdown",
      "metadata": {
        "id": "VDZ6siB_Kq04"
      },
      "source": [
        "## Model"
      ]
    },
    {
      "cell_type": "code",
      "execution_count": 30,
      "metadata": {
        "id": "AwMbRjm0FLBF"
      },
      "outputs": [],
      "source": [
        "def build_model():\n",
        "    ALPHABET=4**K+1  # NUMBER OF DISTINCT KMERS POSSIBLE, add one if N gets mask value\n",
        "    ADJUST_LENGTH = MAXLEN-K+1  # fixed length sequences\n",
        "    cnn = Sequential()\n",
        "    embed_layer = Embedding(ALPHABET,EMBED_DIMEN,input_length=ADJUST_LENGTH,mask_zero=True)   \n",
        "    cnn1_layer = Conv1D(CFILTERS, FILTERSIZE)\n",
        "    cnn2_layer = Conv1D(CFILTERS, FILTERSIZE)\n",
        "    pool_layer = GlobalAveragePooling1D()\n",
        "    #pool_layer = GlobalMaxPooling1D()\n",
        "    flat_layer = Flatten()\n",
        "    den1_layer = Dense(DCELLS)\n",
        "    drop_layer = Dropout(0.5)\n",
        "    output_layer = Dense(1,activation='sigmoid',dtype=dt)\n",
        "\n",
        "    cnn.add(embed_layer)\n",
        "    cnn.add(cnn1_layer)\n",
        "    cnn.add(cnn2_layer)\n",
        "    cnn.add(pool_layer)\n",
        "    cnn.add(output_layer)\n",
        "\n",
        "    bc=BinaryCrossentropy(from_logits=False)\n",
        "    print(\"COMPILE\")\n",
        "    cnn.compile(loss=bc, optimizer=\"Adam\",metrics=[\"accuracy\"])\n",
        "    return cnn"
      ]
    },
    {
      "cell_type": "code",
      "execution_count": 31,
      "metadata": {
        "colab": {
          "base_uri": "https://localhost:8080/"
        },
        "id": "clj-wufgFLBF",
        "outputId": "f51d8ef9-4e40-4a13-8c5c-e032dd2d2728"
      },
      "outputs": [
        {
          "output_type": "stream",
          "name": "stdout",
          "text": [
            "2023-01-26 13:18:00.308527\n",
            "COMPILE\n",
            "Model: \"sequential\"\n",
            "_________________________________________________________________\n",
            " Layer (type)                Output Shape              Param #   \n",
            "=================================================================\n",
            " embedding (Embedding)       (None, 4000, 4)           20        \n",
            "                                                                 \n",
            " conv1d (Conv1D)             (None, 3993, 64)          2112      \n",
            "                                                                 \n",
            " conv1d_1 (Conv1D)           (None, 3986, 64)          32832     \n",
            "                                                                 \n",
            " global_average_pooling1d (G  (None, 64)               0         \n",
            " lobalAveragePooling1D)                                          \n",
            "                                                                 \n",
            " dense_1 (Dense)             (None, 1)                 65        \n",
            "                                                                 \n",
            "=================================================================\n",
            "Total params: 35,029\n",
            "Trainable params: 35,029\n",
            "Non-trainable params: 0\n",
            "_________________________________________________________________\n",
            "None\n"
          ]
        }
      ],
      "source": [
        "print(datetime.now())\n",
        "model=build_model()\n",
        "print(model.summary())  # Print this only once\n",
        "model=None"
      ]
    },
    {
      "cell_type": "markdown",
      "metadata": {
        "id": "MgrC1alOKq07"
      },
      "source": [
        "## Training"
      ]
    },
    {
      "cell_type": "code",
      "execution_count": 32,
      "metadata": {
        "id": "W9xiFzNbFLBE"
      },
      "outputs": [],
      "source": [
        "import gc\n",
        "class CrossValidator():\n",
        "    def __init__(self,epochs,folds,quick_test=False,threshold=0.5):\n",
        "        self.epochs = epochs\n",
        "        self.folds = folds\n",
        "        self.quick_test = quick_test\n",
        "        self.threshold = threshold\n",
        "    \n",
        "    def get_gene_subset(self,all_genes,sub_index):\n",
        "        sub_genes = set()\n",
        "        for index in sub_index:\n",
        "            one_gene = all_genes[index]\n",
        "            sub_genes.add(one_gene)\n",
        "        return sub_genes\n",
        "    \n",
        "    def get_X_y(self,gene_set,allids,allX,allY):\n",
        "        cnt = len(allids)\n",
        "        subsetX=[]\n",
        "        subsetY=[]\n",
        "        if cnt != len(allX) or cnt!= len(allY):\n",
        "            raise Exception('Lengths differ')\n",
        "        for i in range(cnt):\n",
        "            gene_id,tran_id = allids[i]\n",
        "            if gene_id in gene_set:\n",
        "                oneX = allX[i]\n",
        "                oneY = allY[i]\n",
        "                subsetX.append(oneX)\n",
        "                subsetY.append(oneY)\n",
        "        subsetX = np.array(subsetX)\n",
        "        subsetY = np.array(subsetY).reshape((-1,1))\n",
        "        return subsetX,subsetY\n",
        "    \n",
        "    def do_cross_validation(self):\n",
        "        cv_accuracy=[]\n",
        "        cv_precision=[]\n",
        "        cv_recall=[]\n",
        "        cv_f1=[]\n",
        "        cv_auc=[]\n",
        "        fold=0\n",
        "        print(datetime.now())\n",
        "        print('splitting')\n",
        "        # KFold shuffles once before making the partitions\n",
        "        splitter = KFold(n_splits=self.folds,shuffle=True,random_state=42)\n",
        "        splits = splitter.split(all_genes)\n",
        "        splitter = None\n",
        "        for train_index,valid_index in splits:\n",
        "            fold += 1\n",
        "            print('Fold',fold)\n",
        "            train_genes = self.get_gene_subset(all_genes,train_index)\n",
        "            X_train,y_train = self.get_X_y(train_genes,allids,allseq,labels)\n",
        "            valid_genes = self.get_gene_subset(all_genes,valid_index)\n",
        "            X_valid,y_valid = self.get_X_y(valid_genes,allids,allseq,labels)\n",
        "\n",
        "            print('Training example')\n",
        "            print(X_train[0])\n",
        "\n",
        "            print(\"BUILD MODEL\")\n",
        "            model=build_model()\n",
        "\n",
        "            print(\"FIT\")\n",
        "            print(datetime.now())\n",
        "            history=model.fit(X_train, y_train, # batch_size=10, default=32 works nicely\n",
        "              epochs=self.epochs, verbose=1,  # verbose=1 for ascii art, verbose=0 for none\n",
        "              validation_data=(X_valid,y_valid) )\n",
        "\n",
        "            print(datetime.now())\n",
        "\n",
        "            pd.DataFrame(history.history).plot(figsize=(8,5))\n",
        "            plt.grid(True)\n",
        "            plt.gca().set_ylim(0,1)\n",
        "            plt.show()\n",
        "\n",
        "            print('Train sizes',X_train.shape,y_train.shape)\n",
        "            print('Train set ones/size',\n",
        "                  np.count_nonzero(y_train),'/',len(y_train))\n",
        "\n",
        "            print(\"Compute valiation accuracy\")\n",
        "            print(datetime.now())\n",
        "            print('Valid sizes',X_valid.shape,y_valid.shape)\n",
        "            print('Valid set ones/size',\n",
        "                  np.count_nonzero(y_valid),'/',len(y_valid))\n",
        "            yhat_pred=model.predict(X_valid, verbose=0) \n",
        "            \n",
        "            print('Range of scores:',np.min(yhat_pred),'to',np.max(yhat_pred))\n",
        "            yhat_classes=np.where(yhat_pred > self.threshold, 1, 0)\n",
        "            print('Score threshold',self.threshold)\n",
        "            print('Prediction set ones/size',\n",
        "                  np.count_nonzero(yhat_classes),'/',len(yhat_classes))\n",
        "            # accuracy: (tp + tn) / (p + n)\n",
        "            accuracy = accuracy_score(y_valid, yhat_classes)*100.\n",
        "            # precision tp / (tp + fp)\n",
        "            precision = precision_score(y_valid, yhat_classes)*100.\n",
        "            # recall: tp / (tp + fn)\n",
        "            recall = recall_score(y_valid, yhat_classes)*100.\n",
        "            # f1: 2 tp / (2 tp + fp + fn)\n",
        "            f1 = f1_score(y_valid, yhat_classes)*100.\n",
        "            # PRC\n",
        "            prc_Y, prc_X, prc_bins = precision_recall_curve(y_valid, yhat_pred)\n",
        "            auprc = auc(prc_X,prc_Y)*100.\n",
        "            count_ones= len(y_valid[y_valid==1])\n",
        "            count_zeros= len(y_valid[y_valid==0])\n",
        "            guess = max(count_ones,count_zeros) / len(y_valid)\n",
        "            plt.plot(prc_X, prc_Y, marker='.')\n",
        "            plt.plot([0, 1], [guess,guess], linestyle='--')\n",
        "            plt.xlabel('Recall')\n",
        "            plt.ylabel('Precision')\n",
        "            plt.show()\n",
        "            \n",
        "            print('Accuracy: %.2f%% Precision: %.2f%% Recall: %.2f%%' % (accuracy,precision,recall)) \n",
        "            print('F1: %.2f%% AUPRC: %.2f%%' % (f1,auprc)) \n",
        "            print(datetime.now())\n",
        "            cv_accuracy.append(accuracy)\n",
        "            cv_precision.append(precision)\n",
        "            cv_recall.append(recall)\n",
        "            cv_f1.append(f1)\n",
        "            cv_auc.append(auprc)\n",
        "            \n",
        "            if self.quick_test:   \n",
        "                print('Break -- this was for code testing only')\n",
        "                break\n",
        "            model = None\n",
        "            history = None\n",
        "            prc_Y = None\n",
        "            prc_X = None\n",
        "            prc_bins = None\n",
        "            yhat_classes = None\n",
        "            X_train = None\n",
        "            y_train = None\n",
        "            train_genes = None\n",
        "            X_valid = None\n",
        "            y_valid = None\n",
        "            valid_genes = None\n",
        "            # There is a memory leak within the fit() command!\n",
        "            # Each successive call to fit() consumes more memory.\n",
        "            tf.keras.backend.clear_session()\n",
        "            gc.collect()\n",
        "            time.sleep(1)  # hope gc kicks in\n",
        "        print()\n",
        "        return cv_accuracy, cv_precision, cv_recall, cv_f1, cv_auc"
      ]
    },
    {
      "cell_type": "code",
      "execution_count": 33,
      "metadata": {
        "colab": {
          "base_uri": "https://localhost:8080/",
          "height": 1000
        },
        "id": "XC9m0W-pFLBH",
        "outputId": "160a6666-19f6-4112-d7be-d4d8db49e878",
        "scrolled": false
      },
      "outputs": [
        {
          "output_type": "stream",
          "name": "stdout",
          "text": [
            "2023-01-26 13:18:00.554463\n",
            "2023-01-26 13:18:00.554597\n",
            "splitting\n",
            "Fold 1\n",
            "Training example\n",
            "[3 3 2 ... 0 0 0]\n",
            "BUILD MODEL\n",
            "COMPILE\n",
            "FIT\n",
            "2023-01-26 13:18:11.667775\n",
            "Epoch 1/10\n",
            "1356/1356 [==============================] - 26s 19ms/step - loss: 0.6743 - accuracy: 0.5644 - val_loss: 0.6694 - val_accuracy: 0.5736\n",
            "Epoch 2/10\n",
            "1356/1356 [==============================] - 24s 18ms/step - loss: 0.6704 - accuracy: 0.5714 - val_loss: 0.6737 - val_accuracy: 0.5678\n",
            "Epoch 3/10\n",
            "1356/1356 [==============================] - 25s 18ms/step - loss: 0.6690 - accuracy: 0.5763 - val_loss: 0.6660 - val_accuracy: 0.5926\n",
            "Epoch 4/10\n",
            "1356/1356 [==============================] - 24s 18ms/step - loss: 0.6686 - accuracy: 0.5789 - val_loss: 0.6683 - val_accuracy: 0.5868\n",
            "Epoch 5/10\n",
            "1356/1356 [==============================] - 25s 18ms/step - loss: 0.6679 - accuracy: 0.5774 - val_loss: 0.6659 - val_accuracy: 0.5923\n",
            "Epoch 6/10\n",
            "1356/1356 [==============================] - 25s 18ms/step - loss: 0.6674 - accuracy: 0.5799 - val_loss: 0.6652 - val_accuracy: 0.5926\n",
            "Epoch 7/10\n",
            "1356/1356 [==============================] - 25s 18ms/step - loss: 0.6672 - accuracy: 0.5811 - val_loss: 0.6675 - val_accuracy: 0.5923\n",
            "Epoch 8/10\n",
            "1356/1356 [==============================] - 25s 19ms/step - loss: 0.6675 - accuracy: 0.5807 - val_loss: 0.6681 - val_accuracy: 0.5894\n",
            "Epoch 9/10\n",
            "1356/1356 [==============================] - 24s 18ms/step - loss: 0.6673 - accuracy: 0.5808 - val_loss: 0.6667 - val_accuracy: 0.5882\n",
            "Epoch 10/10\n",
            "1356/1356 [==============================] - 25s 18ms/step - loss: 0.6669 - accuracy: 0.5818 - val_loss: 0.6655 - val_accuracy: 0.5912\n",
            "2023-01-26 13:22:34.879610\n"
          ]
        },
        {
          "output_type": "display_data",
          "data": {
            "text/plain": [
              "<Figure size 576x360 with 1 Axes>"
            ],
            "image/png": "[encoded data removed]"
          },
          "metadata": {
            "needs_background": "light"
          }
        },
        {
          "output_type": "stream",
          "name": "stdout",
          "text": [
            "Train sizes (43381, 4000) (43381, 1)\n",
            "Train set ones/size 20635 / 43381\n",
            "Compute valiation accuracy\n",
            "2023-01-26 13:22:35.023594\n",
            "Valid sizes (11029, 4000) (11029, 1)\n",
            "Valid set ones/size 5409 / 11029\n",
            "Range of scores: 0.06538262 to 0.8147741\n",
            "Score threshold 0.5\n",
            "Prediction set ones/size 5562 / 11029\n"
          ]
        },
        {
          "output_type": "display_data",
          "data": {
            "text/plain": [
              "<Figure size 432x288 with 1 Axes>"
            ],
            "image/png": "[encoded data removed]"
          },
          "metadata": {
            "needs_background": "light"
          }
        },
        {
          "output_type": "stream",
          "name": "stdout",
          "text": [
            "Accuracy: 59.12% Precision: 58.09% Recall: 59.73%\n",
            "F1: 58.90% AUPRC: 59.80%\n",
            "2023-01-26 13:22:37.206616\n",
            "Fold 2\n",
            "Training example\n",
            "[3 3 2 ... 0 0 0]\n",
            "BUILD MODEL\n",
            "COMPILE\n",
            "FIT\n",
            "2023-01-26 13:22:49.812942\n",
            "Epoch 1/10\n",
            "1358/1358 [==============================] - 25s 18ms/step - loss: 0.6748 - accuracy: 0.5610 - val_loss: 0.6698 - val_accuracy: 0.5712\n",
            "Epoch 2/10\n",
            "1358/1358 [==============================] - 25s 18ms/step - loss: 0.6698 - accuracy: 0.5768 - val_loss: 0.6690 - val_accuracy: 0.5726\n",
            "Epoch 3/10\n",
            "1358/1358 [==============================] - 24s 18ms/step - loss: 0.6684 - accuracy: 0.5786 - val_loss: 0.6669 - val_accuracy: 0.5918\n",
            "Epoch 4/10\n",
            "1358/1358 [==============================] - 24s 18ms/step - loss: 0.6674 - accuracy: 0.5809 - val_loss: 0.6679 - val_accuracy: 0.5776\n",
            "Epoch 5/10\n",
            "1358/1358 [==============================] - 24s 18ms/step - loss: 0.6669 - accuracy: 0.5814 - val_loss: 0.6690 - val_accuracy: 0.5744\n",
            "Epoch 6/10\n",
            "1358/1358 [==============================] - 24s 18ms/step - loss: 0.6672 - accuracy: 0.5797 - val_loss: 0.6688 - val_accuracy: 0.5756\n",
            "Epoch 7/10\n",
            "1358/1358 [==============================] - 24s 18ms/step - loss: 0.6666 - accuracy: 0.5810 - val_loss: 0.6680 - val_accuracy: 0.5862\n",
            "Epoch 8/10\n",
            "1358/1358 [==============================] - 24s 18ms/step - loss: 0.6668 - accuracy: 0.5827 - val_loss: 0.6690 - val_accuracy: 0.5832\n",
            "Epoch 9/10\n",
            "1358/1358 [==============================] - 25s 18ms/step - loss: 0.6665 - accuracy: 0.5791 - val_loss: 0.6686 - val_accuracy: 0.5805\n",
            "Epoch 10/10\n",
            "1358/1358 [==============================] - 24s 18ms/step - loss: 0.6667 - accuracy: 0.5800 - val_loss: 0.6681 - val_accuracy: 0.5817\n",
            "2023-01-26 13:27:12.906972\n"
          ]
        },
        {
          "output_type": "display_data",
          "data": {
            "text/plain": [
              "<Figure size 576x360 with 1 Axes>"
            ],
            "image/png": "[encoded data removed]"
          },
          "metadata": {
            "needs_background": "light"
          }
        },
        {
          "output_type": "stream",
          "name": "stdout",
          "text": [
            "Train sizes (43433, 4000) (43433, 1)\n",
            "Train set ones/size 20747 / 43433\n",
            "Compute valiation accuracy\n",
            "2023-01-26 13:27:13.047454\n",
            "Valid sizes (10977, 4000) (10977, 1)\n",
            "Valid set ones/size 5297 / 10977\n",
            "Range of scores: 0.09801164 to 0.89468503\n",
            "Score threshold 0.5\n",
            "Prediction set ones/size 6857 / 10977\n"
          ]
        },
        {
          "output_type": "display_data",
          "data": {
            "text/plain": [
              "<Figure size 432x288 with 1 Axes>"
            ],
            "image/png": "[encoded data removed]"
          },
          "metadata": {
            "needs_background": "light"
          }
        },
        {
          "output_type": "stream",
          "name": "stdout",
          "text": [
            "Accuracy: 58.17% Precision: 55.14% Recall: 71.38%\n",
            "F1: 62.22% AUPRC: 57.97%\n",
            "2023-01-26 13:27:16.026986\n",
            "Fold 3\n",
            "Training example\n",
            "[3 3 2 ... 0 0 0]\n",
            "BUILD MODEL\n",
            "COMPILE\n",
            "FIT\n",
            "2023-01-26 13:27:29.007560\n",
            "Epoch 1/10\n",
            "1354/1354 [==============================] - 26s 19ms/step - loss: 0.6750 - accuracy: 0.5625 - val_loss: 0.6704 - val_accuracy: 0.5754\n",
            "Epoch 2/10\n",
            "1354/1354 [==============================] - 26s 19ms/step - loss: 0.6696 - accuracy: 0.5759 - val_loss: 0.6695 - val_accuracy: 0.5728\n",
            "Epoch 3/10\n",
            "1354/1354 [==============================] - 24s 18ms/step - loss: 0.6682 - accuracy: 0.5789 - val_loss: 0.6682 - val_accuracy: 0.5796\n",
            "Epoch 4/10\n",
            "1354/1354 [==============================] - 24s 18ms/step - loss: 0.6683 - accuracy: 0.5792 - val_loss: 0.6706 - val_accuracy: 0.5839\n",
            "Epoch 5/10\n",
            "1354/1354 [==============================] - 25s 18ms/step - loss: 0.6675 - accuracy: 0.5823 - val_loss: 0.6687 - val_accuracy: 0.5765\n",
            "Epoch 6/10\n",
            "1354/1354 [==============================] - 24s 18ms/step - loss: 0.6674 - accuracy: 0.5821 - val_loss: 0.6675 - val_accuracy: 0.5785\n",
            "Epoch 7/10\n",
            "1354/1354 [==============================] - 24s 18ms/step - loss: 0.6672 - accuracy: 0.5821 - val_loss: 0.6673 - val_accuracy: 0.5812\n",
            "Epoch 8/10\n",
            "1354/1354 [==============================] - 25s 18ms/step - loss: 0.6667 - accuracy: 0.5825 - val_loss: 0.6682 - val_accuracy: 0.5757\n",
            "Epoch 9/10\n",
            "1354/1354 [==============================] - 25s 19ms/step - loss: 0.6670 - accuracy: 0.5823 - val_loss: 0.6703 - val_accuracy: 0.5692\n",
            "Epoch 10/10\n",
            "1354/1354 [==============================] - 24s 18ms/step - loss: 0.6664 - accuracy: 0.5836 - val_loss: 0.6680 - val_accuracy: 0.5764\n",
            "2023-01-26 13:31:52.868121\n"
          ]
        },
        {
          "output_type": "display_data",
          "data": {
            "text/plain": [
              "<Figure size 576x360 with 1 Axes>"
            ],
            "image/png": "[encoded data removed]"
          },
          "metadata": {
            "needs_background": "light"
          }
        },
        {
          "output_type": "stream",
          "name": "stdout",
          "text": [
            "Train sizes (43311, 4000) (43311, 1)\n",
            "Train set ones/size 20779 / 43311\n",
            "Compute valiation accuracy\n",
            "2023-01-26 13:31:52.995771\n",
            "Valid sizes (11099, 4000) (11099, 1)\n",
            "Valid set ones/size 5265 / 11099\n",
            "Range of scores: 0.10518917 to 0.83205485\n",
            "Score threshold 0.5\n",
            "Prediction set ones/size 6902 / 11099\n"
          ]
        },
        {
          "output_type": "display_data",
          "data": {
            "text/plain": [
              "<Figure size 432x288 with 1 Axes>"
            ],
            "image/png": "[encoded data removed]"
          },
          "metadata": {
            "needs_background": "light"
          }
        },
        {
          "output_type": "stream",
          "name": "stdout",
          "text": [
            "Accuracy: 57.64% Precision: 54.09% Recall: 70.90%\n",
            "F1: 61.36% AUPRC: 57.37%\n",
            "2023-01-26 13:31:55.912971\n",
            "Fold 4\n",
            "Training example\n",
            "[3 3 2 ... 0 0 0]\n",
            "BUILD MODEL\n",
            "COMPILE\n",
            "FIT\n",
            "2023-01-26 13:32:08.411057\n",
            "Epoch 1/10\n",
            "1366/1366 [==============================] - 26s 18ms/step - loss: 0.6738 - accuracy: 0.5673 - val_loss: 0.6699 - val_accuracy: 0.5678\n",
            "Epoch 2/10\n",
            "1366/1366 [==============================] - 25s 19ms/step - loss: 0.6694 - accuracy: 0.5779 - val_loss: 0.6685 - val_accuracy: 0.5709\n",
            "Epoch 3/10\n",
            "1366/1366 [==============================] - 25s 18ms/step - loss: 0.6686 - accuracy: 0.5809 - val_loss: 0.6687 - val_accuracy: 0.5722\n",
            "Epoch 4/10\n",
            "1366/1366 [==============================] - 25s 19ms/step - loss: 0.6677 - accuracy: 0.5825 - val_loss: 0.6723 - val_accuracy: 0.5738\n",
            "Epoch 5/10\n",
            "1366/1366 [==============================] - 25s 18ms/step - loss: 0.6671 - accuracy: 0.5823 - val_loss: 0.6698 - val_accuracy: 0.5767\n",
            "Epoch 6/10\n",
            "1366/1366 [==============================] - 25s 18ms/step - loss: 0.6672 - accuracy: 0.5825 - val_loss: 0.6673 - val_accuracy: 0.5760\n",
            "Epoch 7/10\n",
            "1366/1366 [==============================] - 25s 18ms/step - loss: 0.6667 - accuracy: 0.5830 - val_loss: 0.6731 - val_accuracy: 0.5747\n",
            "Epoch 8/10\n",
            "1366/1366 [==============================] - 24s 18ms/step - loss: 0.6667 - accuracy: 0.5867 - val_loss: 0.6668 - val_accuracy: 0.5740\n",
            "Epoch 9/10\n",
            "1366/1366 [==============================] - 24s 18ms/step - loss: 0.6666 - accuracy: 0.5836 - val_loss: 0.6734 - val_accuracy: 0.5733\n",
            "Epoch 10/10\n",
            "1366/1366 [==============================] - 25s 18ms/step - loss: 0.6668 - accuracy: 0.5849 - val_loss: 0.6701 - val_accuracy: 0.5741\n",
            "2023-01-26 13:36:32.369877\n"
          ]
        },
        {
          "output_type": "display_data",
          "data": {
            "text/plain": [
              "<Figure size 576x360 with 1 Axes>"
            ],
            "image/png": "[encoded data removed]"
          },
          "metadata": {
            "needs_background": "light"
          }
        },
        {
          "output_type": "stream",
          "name": "stdout",
          "text": [
            "Train sizes (43698, 4000) (43698, 1)\n",
            "Train set ones/size 21077 / 43698\n",
            "Compute valiation accuracy\n",
            "2023-01-26 13:36:32.510742\n",
            "Valid sizes (10712, 4000) (10712, 1)\n",
            "Valid set ones/size 4967 / 10712\n",
            "Range of scores: 0.0591804 to 0.8920117\n",
            "Score threshold 0.5\n",
            "Prediction set ones/size 5849 / 10712\n"
          ]
        },
        {
          "output_type": "display_data",
          "data": {
            "text/plain": [
              "<Figure size 432x288 with 1 Axes>"
            ],
            "image/png": "[encoded data removed]"
          },
          "metadata": {
            "needs_background": "light"
          }
        },
        {
          "output_type": "stream",
          "name": "stdout",
          "text": [
            "Accuracy: 57.41% Precision: 53.46% Recall: 62.96%\n",
            "F1: 57.82% AUPRC: 54.76%\n",
            "2023-01-26 13:36:35.485377\n",
            "Fold 5\n",
            "Training example\n",
            "[3 3 3 ... 0 0 0]\n",
            "BUILD MODEL\n",
            "COMPILE\n",
            "FIT\n",
            "2023-01-26 13:36:48.308678\n",
            "Epoch 1/10\n",
            "1370/1370 [==============================] - 26s 18ms/step - loss: 0.6759 - accuracy: 0.5615 - val_loss: 0.6746 - val_accuracy: 0.5494\n",
            "Epoch 2/10\n",
            "1370/1370 [==============================] - 25s 19ms/step - loss: 0.6708 - accuracy: 0.5740 - val_loss: 0.6670 - val_accuracy: 0.5959\n",
            "Epoch 3/10\n",
            "1370/1370 [==============================] - 25s 18ms/step - loss: 0.6695 - accuracy: 0.5760 - val_loss: 0.6662 - val_accuracy: 0.5851\n",
            "Epoch 4/10\n",
            "1370/1370 [==============================] - 25s 18ms/step - loss: 0.6690 - accuracy: 0.5786 - val_loss: 0.6653 - val_accuracy: 0.5884\n",
            "Epoch 5/10\n",
            "1370/1370 [==============================] - 25s 18ms/step - loss: 0.6688 - accuracy: 0.5781 - val_loss: 0.6634 - val_accuracy: 0.5857\n",
            "Epoch 6/10\n",
            "1370/1370 [==============================] - 25s 18ms/step - loss: 0.6681 - accuracy: 0.5801 - val_loss: 0.6632 - val_accuracy: 0.5897\n",
            "Epoch 7/10\n",
            "1370/1370 [==============================] - 25s 18ms/step - loss: 0.6683 - accuracy: 0.5800 - val_loss: 0.6624 - val_accuracy: 0.5894\n",
            "Epoch 8/10\n",
            "1370/1370 [==============================] - 25s 18ms/step - loss: 0.6684 - accuracy: 0.5798 - val_loss: 0.6629 - val_accuracy: 0.5963\n",
            "Epoch 9/10\n",
            "1370/1370 [==============================] - 25s 18ms/step - loss: 0.6681 - accuracy: 0.5802 - val_loss: 0.6623 - val_accuracy: 0.5917\n",
            "Epoch 10/10\n",
            "1370/1370 [==============================] - 25s 18ms/step - loss: 0.6677 - accuracy: 0.5813 - val_loss: 0.6627 - val_accuracy: 0.5900\n",
            "2023-01-26 13:41:00.529766\n"
          ]
        },
        {
          "output_type": "display_data",
          "data": {
            "text/plain": [
              "<Figure size 576x360 with 1 Axes>"
            ],
            "image/png": "[encoded data removed]"
          },
          "metadata": {
            "needs_background": "light"
          }
        },
        {
          "output_type": "stream",
          "name": "stdout",
          "text": [
            "Train sizes (43817, 4000) (43817, 1)\n",
            "Train set ones/size 20938 / 43817\n",
            "Compute valiation accuracy\n",
            "2023-01-26 13:41:00.659702\n",
            "Valid sizes (10593, 4000) (10593, 1)\n",
            "Valid set ones/size 5106 / 10593\n",
            "Range of scores: 0.07674605 to 0.83598953\n",
            "Score threshold 0.5\n",
            "Prediction set ones/size 5485 / 10593\n"
          ]
        },
        {
          "output_type": "display_data",
          "data": {
            "text/plain": [
              "<Figure size 432x288 with 1 Axes>"
            ],
            "image/png": "[encoded data removed]"
          },
          "metadata": {
            "needs_background": "light"
          }
        },
        {
          "output_type": "stream",
          "name": "stdout",
          "text": [
            "Accuracy: 59.00% Precision: 56.96% Recall: 61.18%\n",
            "F1: 58.99% AUPRC: 57.90%\n",
            "2023-01-26 13:41:02.772740\n",
            "\n",
            "Cross validation 5 folds 10 epochs\n",
            " accuracy mean 58.27% +/- 0.69\n",
            " precision mean 55.55% +/- 1.74\n",
            " recall mean 65.23% +/- 4.93\n",
            " F1 mean 59.86% +/- 1.65\n",
            " AUC mean 57.56% +/- 1.62\n",
            "2023-01-26 13:41:04.920776\n"
          ]
        }
      ],
      "source": [
        "print(datetime.now())\n",
        "cvdo = CrossValidator(EPOCHS,FOLDS,BREAK)\n",
        "cv_accuracy, cv_precision, cv_recall, cv_f1, cv_auc = cvdo.do_cross_validation()   \n",
        "cvdo = None\n",
        "print(\"Cross validation %d folds %d epochs\" % (FOLDS,EPOCHS)) \n",
        "print(\" accuracy mean %.2f%% +/- %.2f\" % (np.mean(cv_accuracy), np.std(cv_accuracy)))\n",
        "print(\" precision mean %.2f%% +/- %.2f\" % (np.mean(cv_precision), np.std(cv_precision)))\n",
        "print(\" recall mean %.2f%% +/- %.2f\" % (np.mean(cv_recall), np.std(cv_recall)))\n",
        "print(\" F1 mean %.2f%% +/- %.2f\" % (np.mean(cv_f1), np.std(cv_f1)))\n",
        "print(\" AUC mean %.2f%% +/- %.2f\" % (np.mean(cv_auc), np.std(cv_auc)))\n",
        "print(datetime.now())"
      ]
    },
    {
      "cell_type": "code",
      "execution_count": 33,
      "metadata": {
        "id": "HkCeDg_HdQ36"
      },
      "outputs": [],
      "source": []
    }
  ],
  "metadata": {
    "accelerator": "GPU",
    "colab": {
      "provenance": []
    },
    "gpuClass": "standard",
    "kernelspec": {
      "display_name": "Python 3 (ipykernel)",
      "language": "python",
      "name": "python3"
    },
    "language_info": {
      "codemirror_mode": {
        "name": "ipython",
        "version": 3
      },
      "file_extension": ".py",
      "mimetype": "text/x-python",
      "name": "python",
      "nbconvert_exporter": "python",
      "pygments_lexer": "ipython3",
      "version": "3.10.0"
    }
  },
  "nbformat": 4,
  "nbformat_minor": 0
}