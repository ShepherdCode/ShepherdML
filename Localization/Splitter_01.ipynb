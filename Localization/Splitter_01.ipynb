{
 "cells": [
  {
   "cell_type": "code",
   "execution_count": 1,
   "id": "75c3327c",
   "metadata": {},
   "outputs": [],
   "source": [
    "import numpy as np\n",
    "DATA_DIR = '/Users/jasonmiller/WVU/Localization/TrainTest/TrainTest_ver43/'"
   ]
  },
  {
   "cell_type": "code",
   "execution_count": 2,
   "id": "12779bb4",
   "metadata": {},
   "outputs": [],
   "source": [
    "def get_sequenced_genes(filename):\n",
    "    genes = set()\n",
    "    with open (filename, 'r') as fin:\n",
    "        header = None\n",
    "        for line in fin:\n",
    "            if header is None:\n",
    "                header = line\n",
    "            else:\n",
    "                line = line.strip()\n",
    "                fields = line.split(',')\n",
    "                tran_id = fields[0]\n",
    "                gene_id = fields[1]\n",
    "                genes.add(gene_id)\n",
    "    return genes"
   ]
  },
  {
   "cell_type": "code",
   "execution_count": 3,
   "id": "595b344d",
   "metadata": {},
   "outputs": [],
   "source": [
    "def gene_numbers(line):\n",
    "    fields = line.split(',')\n",
    "    gene_id = fields.pop(0)\n",
    "    fields[1] = 'nan'   # H1.hESC\n",
    "    numbers = [float(x) for x in fields if x!='nan']\n",
    "    return gene_id, numbers"
   ]
  },
  {
   "cell_type": "code",
   "execution_count": 4,
   "id": "ab0b652c",
   "metadata": {},
   "outputs": [],
   "source": [
    "def load_gene_averages(filename):\n",
    "    genes = []\n",
    "    with open (filename, 'r') as fin:\n",
    "        header = None\n",
    "        for line in fin:\n",
    "            if header is None:\n",
    "                header = line\n",
    "            else:\n",
    "                line = line.strip()\n",
    "                gene_id, numbers = gene_numbers(line)\n",
    "                if len(numbers)>0:\n",
    "                    avg_rci = np.mean(numbers)\n",
    "                    if not np.isnan(avg_rci):\n",
    "                        genes.append( (gene_id,avg_rci) )\n",
    "    return genes"
   ]
  },
  {
   "cell_type": "code",
   "execution_count": 5,
   "id": "58d74ac4",
   "metadata": {},
   "outputs": [],
   "source": [
    "def sort_genes(list_of_tuple):\n",
    "    s = sorted(list_of_tuple, key=lambda x: x[1])\n",
    "    return s"
   ]
  },
  {
   "cell_type": "code",
   "execution_count": 6,
   "id": "a5dbecbb",
   "metadata": {},
   "outputs": [],
   "source": [
    "def filter_genes(data,good_genes):\n",
    "    keepers = [t for t in data if t[0] in good_genes]\n",
    "    return keepers"
   ]
  },
  {
   "cell_type": "code",
   "execution_count": 7,
   "id": "009bdf67",
   "metadata": {},
   "outputs": [],
   "source": [
    "MODULUS = 5\n",
    "MIDDLE_INDEX = 2\n",
    "def train_test_split(genes,train,test):\n",
    "    '''\n",
    "    genes: tuple(gene_id,mean_rci)\n",
    "    train,test: filenames\n",
    "    '''\n",
    "    with open (train, 'w') as train_out, open(test, 'w') as test_out:\n",
    "        counter = 0\n",
    "        for tup in genes:\n",
    "            gene_id, mean_rci = tup\n",
    "            if counter==MIDDLE_INDEX:\n",
    "                print(f\"{tup[0]},{str(tup[1])}\" , file=test_out)\n",
    "            else:\n",
    "                print(f\"{tup[0]},{str(tup[1])}\" , file=train_out)\n",
    "            counter = (counter +1) % MODULUS "
   ]
  },
  {
   "cell_type": "code",
   "execution_count": 8,
   "id": "94c6c954",
   "metadata": {},
   "outputs": [],
   "source": [
    "def file_average(filename):\n",
    "    with open (filename, 'r') as fin:\n",
    "        values = []\n",
    "        for line in fin:\n",
    "            line = line.strip()\n",
    "            gene_id,rci_str = line.split(',')\n",
    "            rci_val = float(rci_str)\n",
    "            values.append(rci_val)\n",
    "        print(filename, len(values))\n",
    "        print(np.mean(values), np.std(values))"
   ]
  },
  {
   "cell_type": "code",
   "execution_count": 9,
   "id": "931c6597",
   "metadata": {},
   "outputs": [],
   "source": [
    "def process_all():\n",
    "    sequenced_genes = get_sequenced_genes(seq_file)\n",
    "    print('sequenced genes:', len(sequenced_genes))\n",
    "    gene_averages = load_gene_averages(rci_file)\n",
    "    print('gene averages:', len(gene_averages))\n",
    "    gene_averages = filter_genes(gene_averages,sequenced_genes)\n",
    "    print('filtered:', len(gene_averages))\n",
    "    sorted_genes = sort_genes(gene_averages)\n",
    "    print('sorted:', len(sorted_genes))\n",
    "    print('First five sorted:',sorted_genes[:5])\n",
    "    train_test_split(sorted_genes,train_file,test_file)"
   ]
  },
  {
   "cell_type": "markdown",
   "id": "92a03597",
   "metadata": {},
   "source": [
    "## lncRNA"
   ]
  },
  {
   "cell_type": "code",
   "execution_count": 10,
   "id": "d43618d9",
   "metadata": {},
   "outputs": [],
   "source": [
    "# input\n",
    "rci_file = DATA_DIR+'all.lncRNA_RCI.csv'\n",
    "seq_file = DATA_DIR+'all.canon.lncRNA.csv' # gencode canonical - make sure we have sequence\n",
    "# output\n",
    "train_file = DATA_DIR+'train.lncRNA_RCI.csv'\n",
    "test_file =  DATA_DIR+'test.lncRNA_RCI.csv'"
   ]
  },
  {
   "cell_type": "code",
   "execution_count": 11,
   "id": "1383e8b2",
   "metadata": {},
   "outputs": [
    {
     "name": "stdout",
     "output_type": "stream",
     "text": [
      "sequenced genes: 6423\n",
      "gene averages: 5465\n",
      "filtered: 5465\n",
      "sorted: 5465\n",
      "First five sorted: [('ENSG00000229807', -8.639225), ('ENSG00000279289', -8.23002), ('ENSG00000279439', -7.54689), ('ENSG00000279166', -7.5025), ('ENSG00000174171', -7.17991)]\n"
     ]
    }
   ],
   "source": [
    "process_all()"
   ]
  },
  {
   "cell_type": "code",
   "execution_count": 12,
   "id": "baeae7e2",
   "metadata": {},
   "outputs": [
    {
     "name": "stdout",
     "output_type": "stream",
     "text": [
      "/Users/jasonmiller/WVU/Localization/TrainTest/TrainTest_ver43/train.lncRNA_RCI.csv 4372\n",
      "-1.2731183624623068 1.856242200100356\n",
      "/Users/jasonmiller/WVU/Localization/TrainTest/TrainTest_ver43/test.lncRNA_RCI.csv 1093\n",
      "-1.272938599268234 1.8548936684759063\n"
     ]
    }
   ],
   "source": [
    "file_average(train_file)\n",
    "file_average(test_file)"
   ]
  },
  {
   "cell_type": "markdown",
   "id": "d391dd37",
   "metadata": {},
   "source": [
    "## mRNA"
   ]
  },
  {
   "cell_type": "code",
   "execution_count": 13,
   "id": "97306d65",
   "metadata": {},
   "outputs": [],
   "source": [
    "# input\n",
    "rci_file = DATA_DIR+'all.pc_RCI.csv'\n",
    "seq_file = DATA_DIR+'all.canon.pc.csv' # gencode canonical - make sure we have sequence\n",
    "# output\n",
    "train_file = DATA_DIR+'train.pc_RCI.csv'\n",
    "test_file =  DATA_DIR+'test.pc_RCI.csv'"
   ]
  },
  {
   "cell_type": "code",
   "execution_count": 14,
   "id": "c9655da5",
   "metadata": {},
   "outputs": [
    {
     "name": "stdout",
     "output_type": "stream",
     "text": [
      "sequenced genes: 17668\n",
      "gene averages: 17079\n",
      "filtered: 17079\n",
      "sorted: 17079\n",
      "First five sorted: [('ENSG00000254995', -6.290376), ('ENSG00000169885', -6.2700175), ('ENSG00000255837', -5.998693333333333), ('ENSG00000179698', -5.992748571428571), ('ENSG00000271698', -5.950271428571428)]\n"
     ]
    }
   ],
   "source": [
    "process_all()"
   ]
  },
  {
   "cell_type": "code",
   "execution_count": 15,
   "id": "a567824b",
   "metadata": {},
   "outputs": [
    {
     "name": "stdout",
     "output_type": "stream",
     "text": [
      "/Users/jasonmiller/WVU/Localization/TrainTest/TrainTest_ver43/train.pc_RCI.csv 13663\n",
      "-0.23192734972412932 1.3475606256526398\n",
      "/Users/jasonmiller/WVU/Localization/TrainTest/TrainTest_ver43/test.pc_RCI.csv 3416\n",
      "-0.23132543092706284 1.348940976495518\n"
     ]
    }
   ],
   "source": [
    "file_average(train_file)\n",
    "file_average(test_file)"
   ]
  }
 ],
 "metadata": {
  "kernelspec": {
   "display_name": "Python 3 (ipykernel)",
   "language": "python",
   "name": "python3"
  },
  "language_info": {
   "codemirror_mode": {
    "name": "ipython",
    "version": 3
   },
   "file_extension": ".py",
   "mimetype": "text/x-python",
   "name": "python",
   "nbconvert_exporter": "python",
   "pygments_lexer": "ipython3",
   "version": "3.10.0"
  }
 },
 "nbformat": 4,
 "nbformat_minor": 5
}
