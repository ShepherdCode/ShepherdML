{
 "cells": [
  {
   "cell_type": "markdown",
   "metadata": {
    "id": "PG-tGRnlFLA3"
   },
   "source": [
    "# CNN + LSTM + Dense \n",
    "Model: Embed mask, Conv1D, LSTM no seq, Dense, Dropout \n",
    "\n",
    "Coding len 1000-2000\n",
    "\n",
    "Cross validation 5 folds 5 epochs, accuracy mean 55.13% +/- 1.88, F1 mean 59.64% +/- 1.65\n",
    "\n",
    "58 min on CoLab GPU"
   ]
  },
  {
   "cell_type": "code",
   "execution_count": null,
   "metadata": {
    "colab": {
     "base_uri": "https://localhost:8080/"
    },
    "id": "0RmwUsVLFLA6",
    "outputId": "e40c674e-b3ab-48cf-847c-b93737288aef"
   },
   "outputs": [
    {
     "name": "stdout",
     "output_type": "stream",
     "text": [
      "2022-12-18 13:44:47.716361\n",
      "Python 3.8.16\n",
      "sklearn 1.0.2\n"
     ]
    }
   ],
   "source": [
    "from datetime import datetime\n",
    "print(datetime.now())\n",
    "from platform import python_version\n",
    "print('Python',python_version())\n",
    "import numpy as np\n",
    "import pandas as pd\n",
    "from matplotlib import pyplot as plt \n",
    "import sklearn   # pip install --upgrade scikit-learn\n",
    "print('sklearn',sklearn.__version__)"
   ]
  },
  {
   "cell_type": "markdown",
   "metadata": {
    "id": "tUtGXPrcFLA8"
   },
   "source": [
    "We prevously used sklearn.model_selection.ShuffleSplit   \n",
    "Now we avoid it due to this note in the \n",
    "[documentation](https://scikit-learn.org/stable/modules/generated/sklearn.model_selection.ShuffleSplit.html):\n",
    "Note: contrary to other cross-validation strategies, random splits do not guarantee that all folds will be different, although this is still very likely for sizeable datasets."
   ]
  },
  {
   "cell_type": "code",
   "execution_count": null,
   "metadata": {
    "id": "PRX-UEr8FLA8"
   },
   "outputs": [],
   "source": [
    "import tensorflow as tf\n",
    "dt='float32'\n",
    "tf.keras.backend.set_floatx('float32')\n",
    "tf.random.set_seed(42) \n",
    "\n",
    "from tensorflow import keras\n",
    "from sklearn.model_selection import KFold\n",
    "from sklearn.metrics import accuracy_score\n",
    "from sklearn.metrics import precision_score\n",
    "from sklearn.metrics import recall_score\n",
    "from sklearn.metrics import f1_score\n",
    "\n",
    "from keras.models import Sequential\n",
    "from keras.layers import Masking\n",
    "from keras.layers import Embedding\n",
    "from keras.layers import Conv1D\n",
    "from keras.layers import Attention\n",
    "from keras.layers import Bidirectional\n",
    "from keras.layers import LSTM\n",
    "from keras.layers import Dense\n",
    "from keras.layers import Dropout\n",
    "from keras.losses import BinaryCrossentropy\n",
    "\n",
    "K=4\n",
    "RCI_THRESHOLD=0.0\n",
    "CFILTERS=62\n",
    "FILTERSIZE=8\n",
    "RCELLS=16\n",
    "EPOCHS=20\n",
    "FOLDS=5      \n",
    "EMBED_DIMEN = 4 # arbitrary hyperparameter\n",
    "BREAK = False   # break after first fold\n",
    "MINLEN=1000\n",
    "MAXLEN=2000   "
   ]
  },
  {
   "cell_type": "code",
   "execution_count": null,
   "metadata": {
    "colab": {
     "base_uri": "https://localhost:8080/"
    },
    "id": "OlzN9OdsFWEU",
    "outputId": "a77081a9-c03d-4b09-b2ae-c6d42379e994"
   },
   "outputs": [
    {
     "name": "stdout",
     "output_type": "stream",
     "text": [
      "Running on CoLab\n",
      "Drive already mounted at /content/drive/; to attempt to forcibly remount, call drive.mount(\"/content/drive/\", force_remount=True).\n",
      "/content/drive/My Drive/data/Localization/TrainTest/\n"
     ]
    }
   ],
   "source": [
    "try:\n",
    "    from google.colab import drive\n",
    "    IN_COLAB = True\n",
    "    print('Running on CoLab')\n",
    "    PATH='/content/drive/'\n",
    "    drive.mount(PATH)\n",
    "    DATA_DIR=PATH+'My Drive/data/Localization/TrainTest/'  # must end in \"/\"\n",
    "except:\n",
    "    IN_COLAB = False\n",
    "    DATA_DIR = 'D:/Adjeroh/Localization/TrainTest/'   # Windows\n",
    "    DATA_DIR = '/Users/jasonmiller/WVU/Localization/TrainTest/'    # Mac\n",
    "print(DATA_DIR)"
   ]
  },
  {
   "cell_type": "code",
   "execution_count": null,
   "metadata": {
    "id": "LnkpVKdMFLA-"
   },
   "outputs": [],
   "source": [
    "GENES_FILE =    'CNRCI_coding_train_genes.csv'\n",
    "RCI_FILE =      'CNRCI_coding_train_RCI.gc42.csv'\n",
    "SEQUENCE_FILE = 'CNRCI_coding_train_transcripts.gc42.csv'\n",
    "COUNTS_FILE=    'CNRCI_coding_train_counts.K4.gc42.csv'"
   ]
  },
  {
   "cell_type": "code",
   "execution_count": null,
   "metadata": {
    "colab": {
     "base_uri": "https://localhost:8080/"
    },
    "id": "e3p4QzQJFLA_",
    "outputId": "c41154c3-c70d-48e1-ee7e-bd2b65f6948e"
   },
   "outputs": [
    {
     "name": "stdout",
     "output_type": "stream",
     "text": [
      "Cell line for today: 1 = H1.hESC\n"
     ]
    }
   ],
   "source": [
    "def get_ordered_list():\n",
    "    ordered_list = \\\n",
    "    ['A549',\\\n",
    "      'H1.hESC',\\\n",
    "      'HeLa.S3',\\\n",
    "      'HepG2',\\\n",
    "      'HT1080',\\\n",
    "      'HUVEC',\\\n",
    "      'MCF.7',\\\n",
    "      'NCI.H460',\\\n",
    "      'NHEK',\\\n",
    "      'SK.MEL.5',\\\n",
    "      'SK.N.DZ',\\\n",
    "      'SK.N.SH',\\\n",
    "      'GM12878',\\\n",
    "      'K562',\\\n",
    "      'IMR.90']\n",
    "    return ordered_list\n",
    "CELL_LINE_NUMBER=1\n",
    "all_cell_lines = get_ordered_list()\n",
    "cell_line_name = all_cell_lines[CELL_LINE_NUMBER]\n",
    "print('Cell line for today:',CELL_LINE_NUMBER,'=',cell_line_name)"
   ]
  },
  {
   "cell_type": "markdown",
   "metadata": {
    "id": "UtqdpJOxFLBA"
   },
   "source": [
    "## Data Load"
   ]
  },
  {
   "cell_type": "code",
   "execution_count": null,
   "metadata": {
    "colab": {
     "base_uri": "https://localhost:8080/"
    },
    "id": "p35ehKV3Kq0z",
    "outputId": "ca92f75a-29ad-4525-98a3-6f7a4dca03ba"
   },
   "outputs": [
    {
     "name": "stdout",
     "output_type": "stream",
     "text": [
      "[1, 1]\n",
      "[20, 16]\n",
      "[63, 57]\n",
      "[64, 0]\n",
      "0\n",
      "1\n"
     ]
    }
   ],
   "source": [
    "class DataLoader():\n",
    "    def __init__(self):\n",
    "        self.cache=dict() \n",
    "        self.vals = {'A':0, 'C':1, 'G':2, 'T':3}\n",
    "        \n",
    "    def load_gene_rci_values(self,filepath,cell_line):\n",
    "        '''\n",
    "        Load from RCI csv file.\n",
    "        Return dict with keys=gene:str and values=RCI:float.\n",
    "        '''\n",
    "        gene_to_rci = {}\n",
    "        with open (filepath,'r') as handle:\n",
    "            header = None\n",
    "            for row in handle:\n",
    "                if header is None:\n",
    "                    header = row # skip file's header line\n",
    "                else:\n",
    "                    line = row.strip()\n",
    "                    fields = line.split(',')\n",
    "                    gene_id = fields[0]\n",
    "                    rci_val = fields[cell_line+1]\n",
    "                    if rci_val != \"nan\":\n",
    "                        # Convert string nan to float(nan)\n",
    "                        gene_to_rci[gene_id] = float(rci_val)\n",
    "        return gene_to_rci\n",
    "    \n",
    "    def seq_to_kmer_values(self,rna,K):\n",
    "        # The cache may represent more than one K. Probably not a problem.\n",
    "        N_indicator = 0 # indicator value\n",
    "        vec=[] # seq converted to list of K-mers \n",
    "        length = len(rna)\n",
    "        for i in range(length-K+1):\n",
    "            kmer = rna[i:i+K]\n",
    "            if 'N' in kmer:\n",
    "                value = N_indicator\n",
    "            elif kmer in self.cache.keys():\n",
    "                value = self.cache[kmer]\n",
    "            else:\n",
    "                value = 0\n",
    "                for j in range(K):\n",
    "                    value *= 4   \n",
    "                    nextnuc = kmer[j] \n",
    "                    nucval = self.vals[nextnuc]\n",
    "                    value += nucval\n",
    "                value += 1   # NNN => 0, AAA => 1\n",
    "                self.cache[kmer] = value\n",
    "            vec.append(value)\n",
    "        return vec\n",
    "\n",
    "    def rci_to_label(self,rci):\n",
    "        CYTO_LABEL = 1\n",
    "        NUCLEAR_LABEL = 0\n",
    "        # cnrci = log (cyto-to-nuclear ratio)\n",
    "        # rci > 0 implies cytoplasmic\n",
    "        if rci > RCI_THRESHOLD:\n",
    "            return CYTO_LABEL\n",
    "        return NUCLEAR_LABEL\n",
    "\n",
    "    def load_sequence(self,filepath):\n",
    "        labels=[]\n",
    "        allids=[]\n",
    "        allseq=[]\n",
    "        NREPEAT = str('N'*MAXLEN)\n",
    "        with open (filepath,'r') as handle:\n",
    "            header = None\n",
    "            for row in handle:\n",
    "                if header is None:\n",
    "                    header = row\n",
    "                else:\n",
    "                    line    = row.strip()\n",
    "                    fields  = line.split(',')\n",
    "                    tran_id = fields[0]  # with version number\n",
    "                    gene_id = fields[1]        # without version number\n",
    "                    seq_len = int(fields[3])\n",
    "                    seq_txt = fields[4]\n",
    "                    if seq_len>=MINLEN and seq_len<=MAXLEN and gene_id in gene_to_rci.keys():\n",
    "                        allids.append( (gene_id,tran_id) )\n",
    "                        rci_val = gene_to_rci[gene_id]\n",
    "                        rci_label = self.rci_to_label(rci_val)\n",
    "                        labels.append(rci_label)\n",
    "                        if seq_len<MAXLEN:\n",
    "                            seq_txt = seq_txt + NREPEAT\n",
    "                            seq_txt = seq_txt[:MAXLEN]\n",
    "                        hot_vec = self.seq_to_kmer_values(seq_txt,K)\n",
    "                        allseq.append(hot_vec)\n",
    "        return labels,allids,allseq\n",
    "    \n",
    "loader = DataLoader()\n",
    "# test it\n",
    "print(loader.seq_to_kmer_values('AAAA',3))\n",
    "print(loader.seq_to_kmer_values('CATT',3))\n",
    "print(loader.seq_to_kmer_values('TTGA',3))\n",
    "print(loader.seq_to_kmer_values('TTTN',3))\n",
    "# test it\n",
    "print(loader.rci_to_label(-0.9))\n",
    "print(loader.rci_to_label(1.1))"
   ]
  },
  {
   "cell_type": "code",
   "execution_count": null,
   "metadata": {
    "colab": {
     "base_uri": "https://localhost:8080/"
    },
    "id": "cYoYDc93FLBB",
    "outputId": "261b0cca-53fd-4107-dd57-07e883718132"
   },
   "outputs": [
    {
     "name": "stdout",
     "output_type": "stream",
     "text": [
      "2022-12-18 13:44:48.616668\n",
      "Load RCI values...\n",
      "Num RCI: 13000\n",
      "Example RCI: [('ENSG00000000003', 1.85734), ('ENSG00000000005', 5.88264), ('ENSG00000000419', 2.58954)]\n",
      "Load genes...\n",
      "2022-12-18 13:44:48.649548\n",
      "Load sequence...\n",
      "2022-12-18 13:44:58.209448\n",
      "Num IDs: 13143\n",
      "Example IDs: [('ENSG00000186827', 'ENST00000379236.4'), ('ENSG00000127054', 'ENST00000620829.4'), ('ENSG00000235098', 'ENST00000520296.5'), ('ENSG00000187730', 'ENST00000638411.1')]\n",
      "Count 6959 ones out of 13143 labels.\n",
      "Example labels: [0, 0, 0, 0]\n",
      "Num counts: 13143\n",
      "Example sequence: [60, 238, 182, 213, 81, 67, 11, 43, 171, 169, 164, 142, 54, 216, 95, 122, 229, 147, 75, 44, 175, 186, 229, 148, 78, 54, 216, 94, 118, 215, 89, 100, 142, 56, 223, 122, 231, 153, 98, 136, 31, 122, 230, 150, 87, 91, 107, 170, 168, 159, 122, 230, 151, 89, 97, 132, 13, 52, 206, 54, 216, 94, 118, 214, 86, 87, 91, 108, 175, 185, 225, 130, 6, 23, 91, 107, 171, 171, 170, 167, 155, 106, 168, 159, 123, 234, 165, 147, 73, 34, 133, 17, 67, 9, 35, 139, 41, 162, 133, 19, 76, 46, 183, 218, 102, 150, 88, 95, 122, 230, 152, 95, 122, 230, 151, 90, 102, 150, 87, 91, 105, 161, 130, 6, 24, 95, 121, 225, 131, 9, 33, 131, 11, 41, 163, 138, 39, 153, 97, 130, 8, 30, 118, 214, 85, 83, 74, 40, 160, 126, 248, 222, 120, 223, 122, 230, 149, 83, 74, 39, 153, 100, 143, 59, 236, 175, 185, 226, 133, 19, 74, 39, 153, 98, 135, 27, 107, 169, 163, 140, 47, 187, 234, 166, 150, 86, 85, 82, 70, 24, 95, 124, 239, 187, 235, 170, 167, 155, 106, 167, 155, 106, 166, 149, 83, 75, 42, 168, 160, 127, 249, 225, 131, 10, 37, 147, 75, 41, 163, 139, 41, 164, 143, 59, 236, 174, 182, 215, 90, 101, 146, 69, 20, 78, 54, 215, 92, 109, 180, 206, 53, 212, 79, 57, 225, 131, 9, 35, 137, 33, 131, 9, 35, 140, 46, 182, 213, 82, 69, 18, 70, 22, 85, 82, 72, 31, 123, 235, 169, 162, 135, 28, 111, 185, 225, 130, 5, 20, 78, 56, 222, 120, 224, 128, 254, 246, 215, 89, 99, 137, 35, 139, 42, 167, 156, 110, 182, 216, 95, 122, 229, 147, 74, 38, 149, 83, 75, 41, 162, 135, 27, 106, 165, 145, 66, 6, 24, 96, 126, 246, 214, 85, 82, 70, 22, 88, 94, 117, 212, 77, 52, 206, 54, 213, 83, 74, 39, 156, 110, 182, 213, 82, 70, 23, 90, 101, 147, 74, 38, 151, 90, 102, 149, 82, 70, 24, 94, 119, 220, 112, 189, 244, 207, 58, 230, 150, 87, 89, 99, 138, 37, 148, 78, 53, 211, 73, 35, 138, 38, 151, 90, 104, 159, 124, 239, 185, 225, 132, 16, 62, 246, 213, 83, 73, 35, 137, 35, 139, 42, 165, 147, 74, 38, 152, 95, 123, 233, 163, 137, 36, 144, 63, 251, 234, 166, 152, 95, 122, 231, 153, 98, 134, 22, 87, 90, 102, 151, 91, 108, 175, 185, 226, 134, 24, 95, 124, 240, 191, 251, 235, 170, 165, 145, 67, 9, 35, 139, 42, 168, 159, 123, 235, 170, 166, 151, 90, 104, 158, 118, 214, 86, 86, 86, 87, 92, 109, 180, 206, 53, 211, 74, 37, 147, 74, 39, 153, 98, 136, 31, 122, 232, 160, 128, 256, 254, 245, 211, 73, 35, 137, 33, 131, 9, 35, 139, 43, 170, 165, 146, 71, 25, 97, 131, 10, 39, 153, 97, 132, 14, 55, 218, 102, 152, 94, 117, 209, 67, 10, 37, 147, 73, 35, 139, 42, 167, 154, 104, 159, 122, 232, 159, 122, 232, 159, 122, 230, 151, 90, 103, 155, 107, 169, 163, 138, 40, 159, 123, 235, 171, 170, 166, 150, 85, 83, 74, 37, 148, 79, 59, 234, 166, 150, 86, 87, 91, 105, 163, 139, 41, 162, 134, 21, 84, 80, 61, 242, 198, 23, 90, 102, 151, 91, 106, 168, 160, 127, 252, 239, 188, 238, 181, 211, 74, 37, 146, 72, 31, 121, 227, 138, 39, 153, 99, 139, 42, 166, 149, 83, 74, 37, 146, 70, 24, 96, 128, 255, 249, 227, 139, 41, 162, 134, 22, 88, 94, 117, 211, 74, 39, 154, 102, 152, 94, 120, 221, 114, 198, 21, 82, 70, 24, 95, 123, 235, 170, 166, 152, 94, 118, 214, 86, 85, 83, 74, 38, 149, 82, 71, 27, 108, 175, 185, 227, 139, 41, 162, 134, 22, 85, 82, 70, 22, 88, 95, 123, 234, 165, 148, 79, 57, 228, 142, 54, 214, 86, 86, 88, 94, 117, 212, 78, 53, 210, 70, 24, 94, 118, 214, 86, 85, 83, 74, 38, 149, 82, 71, 25, 100, 142, 56, 222, 118, 216, 95, 121, 227, 139, 43, 172, 174, 182, 215, 91, 106, 165, 147, 75, 41, 163, 139, 44, 175, 187, 234, 167, 155, 106, 168, 159, 122, 229, 147, 74, 40, 158, 120, 223, 121, 227, 139, 43, 171, 170, 166, 150, 86, 85, 83, 76, 47, 187, 234, 166, 152, 95, 123, 233, 161, 131, 10, 38, 150, 85, 82, 70, 24, 95, 122, 230, 150, 88, 94, 118, 216, 94, 118, 213, 82, 71, 27, 106, 165, 147, 75, 44, 174, 181, 211, 74, 39, 156, 110, 183, 219, 105, 161, 131, 10, 37, 147, 75, 43, 170, 166, 152, 95, 123, 234, 168, 158, 117, 211, 74, 37, 146, 70, 23, 91, 107, 169, 163, 139, 43, 170, 167, 154, 102, 151, 90, 102, 150, 86, 85, 83, 74, 40, 159, 122, 230, 151, 90, 102, 150, 86, 87, 92, 110, 182, 216, 96, 126, 248, 222, 119, 219, 105, 163, 137, 35, 139, 43, 169, 163, 138, 40, 159, 122, 230, 152, 94, 117, 211, 74, 38, 151, 90, 102, 150, 86, 86, 86, 88, 96, 127, 250, 232, 159, 124, 238, 183, 218, 102, 151, 90, 101, 147, 73, 33, 132, 15, 58, 230, 150, 86, 88, 94, 117, 210, 71, 28, 110, 183, 218, 102, 150, 88, 95, 123, 235, 170, 166, 150, 86, 86, 85, 84, 78, 56, 222, 117, 211, 75, 42, 166, 150, 86, 86, 86, 88, 96, 126, 246, 216, 95, 123, 235, 171, 171, 172, 175, 186, 230, 150, 88, 94, 119, 219, 106, 168, 158, 120, 223, 124, 239, 186, 230, 149, 83, 73, 34, 134, 22, 86, 85, 83, 75, 42, 168, 157, 114, 199, 27, 106, 168, 160, 126, 246, 216, 95, 122, 230, 150, 86, 86, 86, 87, 90, 103, 154, 101, 147, 75, 42, 167, 155, 105, 163, 137, 36, 143, 60, 240, 190, 247, 218, 102, 152, 95, 123, 234, 165, 147, 74, 37, 147, 75, 41, 163, 138, 40, 158, 118, 216, 95, 122, 231, 155, 105, 161, 131, 10, 37, 147, 73, 33, 130, 6, 24, 95, 123, 234, 166, 150, 87, 91, 106, 168, 159, 123, 233, 163, 138, 40, 159, 122, 230, 150, 87, 90, 102, 151, 89, 98, 134, 24, 94, 118, 216, 95, 122, 231, 155, 106, 165, 147, 73, 33, 131, 11, 41, 163, 138, 40, 159, 123, 233, 163, 137, 35, 138, 39, 154, 103, 154, 103, 154, 102, 150, 85, 82, 69, 19, 74, 40, 159, 122, 232, 159, 123, 234, 167, 154, 102, 150, 87, 89, 99, 137, 34, 134, 23, 90, 102, 150, 88, 95, 122, 231, 154, 102, 150, 86, 85, 81, 66, 7, 25, 98, 135, 27, 106, 167, 154, 102, 151, 89, 99, 139, 41, 163, 138, 40, 159, 122, 229, 147, 74, 39, 155, 106, 167, 154, 103, 155, 107, 171, 170, 166, 150, 88, 95, 122, 232, 159, 123, 236, 175, 186, 232, 159, 121, 225, 130, 6, 21, 82, 71, 27, 106, 167, 154, 103, 155, 106, 167, 154, 102, 149, 82, 72, 31, 122, 232, 159, 123, 234, 166, 150, 88, 95, 122, 230, 150, 86, 86, 86, 86, 85, 83, 75, 43, 171, 170, 166, 150, 86, 86, 87, 91, 107, 170, 168, 158, 118, 215, 91, 105, 162, 134, 22, 86, 86, 86, 85, 82, 70, 22, 86, 87, 92, 110, 182, 214, 87, 91, 107, 169, 162, 136, 30, 120, 223, 122, 230, 150, 87, 91, 106, 167, 153, 99, 138, 38, 150, 86, 86, 86, 87, 91, 105, 161, 131, 11, 43, 171, 171, 171, 172, 174, 182, 214, 87, 91, 106, 166, 150, 88, 95, 122, 230, 152, 94, 117, 211, 74, 39, 154, 103, 155, 106, 166, 150, 85, 83, 74, 39, 153, 99, 140, 46, 182, 213, 81, 67, 11, 41, 163, 137, 36, 143, 57, 226, 135, 27, 107, 171, 171, 170, 168, 157, 115, 203, 42, 168, 158, 120, 223, 123, 235, 170, 165, 146, 69, 17, 67, 9, 36, 143, 59, 234, 168, 158, 119, 219, 105, 161, 131, 9, 34, 135, 25, 99, 138, 38, 150, 86, 86, 86, 85, 81, 65, 3, 9, 34, 136, 30, 119, 219, 105, 162, 135, 27, 105, 163, 137, 35, 139, 41, 162, 134, 22, 86, 87, 89, 99, 137, 34, 135, 27, 106, 165, 147, 74, 40, 159, 124, 240, 191, 251, 235, 172, 175, 186, 229, 147, 75, 43, 171, 171, 170, 166, 150, 85, 82, 72, 30, 118, 215, 91, 107, 170, 166, 149, 81, 67, 10, 40, 158, 118, 213, 83, 74, 40, 159, 123, 233, 163, 139, 43, 171, 170, 166, 151, 91, 106, 167, 154, 102, 151, 89, 99, 139, 43, 171, 169, 161, 131, 11, 43, 171, 170, 168, 160, 128, 256, 254, 246, 214, 85, 83, 75, 43, 172, 174, 182, 213, 82, 69, 18, 72, 31, 122, 230, 150, 86, 88, 95, 123, 235, 170, 168, 160, 126, 246, 214, 88, 96, 125, 244, 207, 58, 230, 151, 92, 110, 181, 211, 74, 38, 150, 86, 88, 93, 114, 200, 32, 126, 246, 213, 82, 69, 18, 69, 19, 75, 42, 167, 154, 103, 155, 108, 173, 179, 203, 43, 171, 171, 169, 162, 136, 30, 120, 222, 118, 213, 84, 79, 59, 233, 164, 143, 59, 235, 171, 169, 163, 139, 41, 163, 139, 42, 166, 150, 86, 85, 83, 74, 38, 150, 86, 88, 95, 121, 227, 139, 41, 162, 135, 28, 110, 181, 210, 70, 21, 81, 67, 12, 47, 187, 233, 162, 134, 23, 92, 111, 187, 233, 164, 143, 57, 226, 135, 28, 110, 184, 223, 122, 229, 147, 74, 40, 160, 126, 247, 220, 111, 187, 235, 171, 171, 171, 170, 166, 152, 95, 124, 238, 184, 223, 123, 234, 168, 159, 124, 239, 187, 233, 163, 137, 35, 140, 45, 178, 197, 18, 72, 30, 119, 219, 107, 172, 174, 184, 224, 126, 245, 211, 75, 43, 169, 163, 138, 37, 147, 75, 43, 171, 169, 164, 142, 55, 217, 98, 135, 27, 107, 171, 169, 163, 137, 34, 134, 22, 88, 95, 122, 230, 149, 82, 72, 31, 122, 232, 159, 121, 226, 135, 27, 105, 163, 139, 41, 163, 138, 37, 146, 70, 24, 95, 122, 232, 159, 121, 226, 134, 21, 81, 66, 5, 20, 79, 59, 235, 171, 170, 168, 159, 121, 225, 131, 10, 40, 159, 123, 235, 171, 170, 166, 150, 87, 90, 102, 150, 88, 94, 117, 209, 67, 9, 36, 142, 54, 215, 91, 107, 170, 166, 150, 85, 83, 74, 38, 149, 82, 70, 21, 81, 66, 6, 22, 88, 95, 122, 231, 155, 107, 170, 166, 150, 86, 87, 91, 105, 163, 138, 39, 153, 99, 137, 33, 130, 8, 30, 119, 219, 106, 165, 146, 69, 19, 75, 41, 163, 137, 35, 138, 37, 147, 74, 38, 150, 88, 96, 127, 252, 238, 182, 214, 86, 86, 85, 82, 71, 25, 98, 135, 27, 106, 166, 149, 82, 71, 28, 110, 182, 214, 86, 86, 88, 93, 116, 207, 59, 233, 163, 139, 43, 171, 171, 170, 166, 149, 82, 71, 26, 102, 150, 88, 96, 127, 250, 230, 151, 91, 108, 174, 181, 209, 65, 2, 8, 32, 126, 245, 210, 70, 22, 85, 81, 67, 10, 37, 147, 75, 41, 163, 137, 33, 132, 15, 59, 235, 169, 162, 134, 24, 96, 127, 251, 234, 168, 158, 120, 221, 114, 200, 32, 126, 246, 213, 83, 75, 43, 171, 170, 166, 150, 86, 86, 87, 89, 98, 134, 22, 88, 96, 126, 246, 214, 85, 83, 74, 38, 152, 94, 120, 223, 124, 239, 188, 240, 191, 249, 0, 0, 0, 0, 0, 0, 0, 0, 0, 0, 0, 0, 0, 0]\n"
     ]
    }
   ],
   "source": [
    "print(datetime.now())\n",
    "print(\"Load RCI values...\")\n",
    "loader = DataLoader()\n",
    "filepath = DATA_DIR+RCI_FILE\n",
    "gene_to_rci = loader.load_gene_rci_values(filepath,CELL_LINE_NUMBER)\n",
    "print('Num RCI:', len(gene_to_rci.keys()))\n",
    "print('Example RCI:', list(gene_to_rci.items())[:3])\n",
    "print(\"Load genes...\")\n",
    "all_genes = list(gene_to_rci.keys())\n",
    "print(datetime.now())\n",
    "print('Load sequence...')\n",
    "filepath = DATA_DIR+SEQUENCE_FILE\n",
    "labels,allids,allseq = loader.load_sequence(filepath)\n",
    "print(datetime.now())\n",
    "print('Num IDs:',len(allids))\n",
    "print('Example IDs:',[allids[x] for x in [10, 20, 30, 40]] )\n",
    "print('Count',np.count_nonzero(labels),'ones out of',len(labels),'labels.')\n",
    "print('Example labels:',[labels[x] for x in [10, 20, 30, 40]] )\n",
    "print('Num counts:',len(allseq))\n",
    "print('Example sequence:',allseq[3])\n",
    "loader = None  # drop K-mer cache to save RAM"
   ]
  },
  {
   "cell_type": "markdown",
   "metadata": {
    "id": "VDZ6siB_Kq04"
   },
   "source": [
    "## Model"
   ]
  },
  {
   "cell_type": "code",
   "execution_count": null,
   "metadata": {
    "id": "AwMbRjm0FLBF"
   },
   "outputs": [],
   "source": [
    "def build_model():\n",
    "    ALPHABET=4**K+1  # NUMBER OF DISTINCT KMERS POSSIBLE, add one if N gets mask value\n",
    "    ADJUST_LENGTH = MAXLEN-K+1  # fixed length sequences\n",
    "    rnn = Sequential()\n",
    "    embed_layer = Embedding(ALPHABET,EMBED_DIMEN,input_length=ADJUST_LENGTH,mask_zero=True)   \n",
    "    cnn1_layer = Conv1D(CFILTERS, FILTERSIZE)\n",
    "    rnn1_layer = Bidirectional( LSTM(RCELLS, return_sequences=False) )\n",
    "    den1_layer = Dense(RCELLS)\n",
    "    drop_layer = Dropout(0.5)\n",
    "    output_layer = Dense(1,activation='sigmoid',dtype=dt)\n",
    "\n",
    "    rnn.add(embed_layer)\n",
    "    rnn.add(cnn1_layer)\n",
    "    rnn.add(rnn1_layer)\n",
    "    rnn.add(den1_layer)\n",
    "    rnn.add(drop_layer)\n",
    "    rnn.add(output_layer)\n",
    "\n",
    "    bc=BinaryCrossentropy(from_logits=False)\n",
    "    print(\"COMPILE\")\n",
    "    rnn.compile(loss=bc, optimizer=\"Adam\",metrics=[\"accuracy\"])\n",
    "    return rnn"
   ]
  },
  {
   "cell_type": "code",
   "execution_count": null,
   "metadata": {
    "colab": {
     "base_uri": "https://localhost:8080/"
    },
    "id": "clj-wufgFLBF",
    "outputId": "bd96a507-79fa-43de-eaaa-7b42c314230a"
   },
   "outputs": [
    {
     "name": "stdout",
     "output_type": "stream",
     "text": [
      "2022-12-18 13:44:58.246982\n",
      "COMPILE\n",
      "Model: \"sequential_5\"\n",
      "_________________________________________________________________\n",
      " Layer (type)                Output Shape              Param #   \n",
      "=================================================================\n",
      " embedding_5 (Embedding)     (None, 1997, 4)           1028      \n",
      "                                                                 \n",
      " conv1d_5 (Conv1D)           (None, 1990, 62)          2046      \n",
      "                                                                 \n",
      " bidirectional_5 (Bidirectio  (None, 32)               10112     \n",
      " nal)                                                            \n",
      "                                                                 \n",
      " dense_10 (Dense)            (None, 16)                528       \n",
      "                                                                 \n",
      " dropout_5 (Dropout)         (None, 16)                0         \n",
      "                                                                 \n",
      " dense_11 (Dense)            (None, 1)                 17        \n",
      "                                                                 \n",
      "=================================================================\n",
      "Total params: 13,731\n",
      "Trainable params: 13,731\n",
      "Non-trainable params: 0\n",
      "_________________________________________________________________\n",
      "None\n"
     ]
    }
   ],
   "source": [
    "print(datetime.now())\n",
    "model=build_model()\n",
    "print(model.summary())  # Print this only once"
   ]
  },
  {
   "cell_type": "markdown",
   "metadata": {
    "id": "MgrC1alOKq07"
   },
   "source": [
    "## Training"
   ]
  },
  {
   "cell_type": "code",
   "execution_count": null,
   "metadata": {
    "id": "W9xiFzNbFLBE"
   },
   "outputs": [],
   "source": [
    "class CrossValidator():\n",
    "    def __init__(self,epochs,folds,quick_test=False,pred_threshold=0.5):\n",
    "        self.epochs = epochs\n",
    "        self.folds = folds\n",
    "        self.quick_test = quick_test\n",
    "        self.threshold = pred_threshold # e.g. score>0.5 => class 1\n",
    "    \n",
    "    def get_gene_subset(self,all_genes,sub_index):\n",
    "        sub_genes = set()\n",
    "        for index in sub_index:\n",
    "            one_gene = all_genes[index]\n",
    "            sub_genes.add(one_gene)\n",
    "        return sub_genes\n",
    "    \n",
    "    def get_X_y(self,gene_set,allids,allX,allY):\n",
    "        cnt = len(allids)\n",
    "        subsetX=[]\n",
    "        subsetY=[]\n",
    "        if cnt != len(allX) or cnt!= len(allY):\n",
    "            raise Exception('Lengths differ')\n",
    "        for i in range(cnt):\n",
    "            gene_id,tran_id = allids[i]\n",
    "            if gene_id in gene_set:\n",
    "                oneX = allX[i]\n",
    "                oneY = allY[i]\n",
    "                subsetX.append(oneX)\n",
    "                subsetY.append(oneY)\n",
    "        subsetX = np.array(subsetX)\n",
    "        subsetY = np.array(subsetY).reshape((-1,1))\n",
    "        return subsetX,subsetY\n",
    "    \n",
    "    def do_cross_validation(self):\n",
    "        cv_accuracy=[]\n",
    "        cv_precision=[]\n",
    "        cv_recall=[]\n",
    "        cv_f1=[]\n",
    "        fold=0\n",
    "        print(datetime.now())\n",
    "        print('splitting')\n",
    "        # KFold shuffles once before making the partitions\n",
    "        splitter = KFold(n_splits=self.folds,shuffle=True,random_state=42)\n",
    "        for train_index,valid_index in splitter.split(all_genes):\n",
    "            fold += 1\n",
    "            print('Fold',fold)\n",
    "            train_genes = self.get_gene_subset(all_genes,train_index)\n",
    "            valid_genes = self.get_gene_subset(all_genes,valid_index)\n",
    "            X_train,y_train = self.get_X_y(train_genes,allids,allseq,labels)\n",
    "            X_valid,y_valid = self.get_X_y(valid_genes,allids,allseq,labels)\n",
    "\n",
    "            print('Training example')\n",
    "            print(X_train[0])\n",
    "\n",
    "            print('Train sizes',X_train.shape,y_train.shape)\n",
    "            print('Valid sizes',X_valid.shape,y_valid.shape)\n",
    "            print('Train set ones/size',\n",
    "                  np.count_nonzero(y_train),'/',len(y_train))\n",
    "            print('Valid set ones/size',\n",
    "                  np.count_nonzero(y_valid),'/',len(y_valid))\n",
    "\n",
    "            print(\"BUILD MODEL\")\n",
    "            model=build_model()\n",
    "\n",
    "            print(\"FIT\")\n",
    "            print(datetime.now())\n",
    "            history=model.fit(X_train, y_train, # batch_size=10, default=32 works nicely\n",
    "                    epochs=self.epochs, verbose=1,  # verbose=1 for ascii art, verbose=0 for none\n",
    "                    validation_data=(X_valid,y_valid) )\n",
    "\n",
    "            pd.DataFrame(history.history).plot(figsize=(8,5))\n",
    "            plt.grid(True)\n",
    "            plt.gca().set_ylim(0,1)\n",
    "            plt.show()\n",
    "\n",
    "            print(\"Compute valiation accuracy\")\n",
    "            print(datetime.now())\n",
    "            yhat_pred=model.predict(X_valid, verbose=0) \n",
    "            print('Range of scores:',np.min(yhat_pred),'to',np.max(yhat_pred))\n",
    "            yhat_classes=np.where(yhat_pred > self.threshold, 1, 0)\n",
    "            print('Predicted zeros and ones',np.count_nonzero(yhat_classes==0),np.count_nonzero(yhat_classes==1))\n",
    "            # accuracy: (tp + tn) / (p + n)\n",
    "            accuracy = accuracy_score(y_valid, yhat_classes)*100.\n",
    "            # precision tp / (tp + fp)\n",
    "            precision = precision_score(y_valid, yhat_classes)*100.\n",
    "            # recall: tp / (tp + fn)\n",
    "            recall = recall_score(y_valid, yhat_classes)*100.\n",
    "            # f1: 2 tp / (2 tp + fp + fn)\n",
    "            f1 = f1_score(y_valid, yhat_classes)*100.\n",
    "            print('Accuracy: %.2f%% Precision: %.2f%% Recall: %.2f%% F1: %.2f%%' % (accuracy,precision,recall,f1)) \n",
    "            print(datetime.now())\n",
    "            cv_accuracy.append(accuracy)\n",
    "            cv_precision.append(precision)\n",
    "            cv_recall.append(recall)\n",
    "            cv_f1.append(f1)\n",
    "            if self.quick_test:   \n",
    "                print('Break -- this was for code testing only')\n",
    "                break\n",
    "        print()\n",
    "        return cv_accuracy, cv_precision, cv_recall, cv_f1"
   ]
  },
  {
   "cell_type": "code",
   "execution_count": null,
   "metadata": {
    "colab": {
     "base_uri": "https://localhost:8080/",
     "height": 1000
    },
    "id": "XC9m0W-pFLBH",
    "outputId": "9d19317c-777e-417a-ae58-f8fc63151e87",
    "scrolled": false
   },
   "outputs": [
    {
     "name": "stdout",
     "output_type": "stream",
     "text": [
      "2022-12-18 13:44:59.072912\n",
      "2022-12-18 13:44:59.074680\n",
      "splitting\n",
      "Fold 1\n",
      "Training example\n",
      "[ 60 238 182 ...   0   0   0]\n",
      "Train sizes (10521, 1997) (10521, 1)\n",
      "Valid sizes (2622, 1997) (2622, 1)\n",
      "Train set ones/size 5609 / 10521\n",
      "Valid set ones/size 1350 / 2622\n",
      "BUILD MODEL\n",
      "COMPILE\n",
      "FIT\n",
      "2022-12-18 13:45:01.046861\n",
      "Epoch 1/20\n",
      "329/329 [==============================] - 79s 106ms/step - loss: 0.6880 - accuracy: 0.5391 - val_loss: 0.6973 - val_accuracy: 0.5359\n",
      "Epoch 2/20\n",
      "329/329 [==============================] - 34s 104ms/step - loss: 0.6777 - accuracy: 0.5724 - val_loss: 0.6852 - val_accuracy: 0.5660\n",
      "Epoch 3/20\n",
      "329/329 [==============================] - 34s 105ms/step - loss: 0.6683 - accuracy: 0.5946 - val_loss: 0.6869 - val_accuracy: 0.5618\n",
      "Epoch 4/20\n",
      "329/329 [==============================] - 34s 103ms/step - loss: 0.6624 - accuracy: 0.6074 - val_loss: 0.6905 - val_accuracy: 0.5576\n",
      "Epoch 5/20\n",
      "329/329 [==============================] - 34s 102ms/step - loss: 0.6534 - accuracy: 0.6209 - val_loss: 0.6892 - val_accuracy: 0.5614\n",
      "Epoch 6/20\n",
      "329/329 [==============================] - 33s 102ms/step - loss: 0.6542 - accuracy: 0.6195 - val_loss: 0.6891 - val_accuracy: 0.5645\n",
      "Epoch 7/20\n",
      "329/329 [==============================] - 34s 105ms/step - loss: 0.6482 - accuracy: 0.6268 - val_loss: 0.7013 - val_accuracy: 0.5389\n",
      "Epoch 8/20\n",
      "329/329 [==============================] - 34s 103ms/step - loss: 0.6446 - accuracy: 0.6329 - val_loss: 0.7033 - val_accuracy: 0.5679\n",
      "Epoch 9/20\n",
      "329/329 [==============================] - 34s 102ms/step - loss: 0.6402 - accuracy: 0.6330 - val_loss: 0.7066 - val_accuracy: 0.5694\n",
      "Epoch 10/20\n",
      "329/329 [==============================] - 34s 103ms/step - loss: 0.6325 - accuracy: 0.6448 - val_loss: 0.7037 - val_accuracy: 0.5629\n",
      "Epoch 11/20\n",
      "329/329 [==============================] - 33s 101ms/step - loss: 0.6311 - accuracy: 0.6476 - val_loss: 0.7025 - val_accuracy: 0.5629\n",
      "Epoch 12/20\n",
      "329/329 [==============================] - 33s 102ms/step - loss: 0.6343 - accuracy: 0.6380 - val_loss: 0.7138 - val_accuracy: 0.5164\n",
      "Epoch 13/20\n",
      "329/329 [==============================] - 33s 101ms/step - loss: 0.6442 - accuracy: 0.6209 - val_loss: 0.7228 - val_accuracy: 0.5244\n",
      "Epoch 14/20\n",
      "329/329 [==============================] - 34s 103ms/step - loss: 0.6499 - accuracy: 0.6172 - val_loss: 0.7074 - val_accuracy: 0.5427\n",
      "Epoch 15/20\n",
      "329/329 [==============================] - 33s 102ms/step - loss: 0.6442 - accuracy: 0.6237 - val_loss: 0.7170 - val_accuracy: 0.5301\n",
      "Epoch 16/20\n",
      "329/329 [==============================] - 34s 102ms/step - loss: 0.6471 - accuracy: 0.6241 - val_loss: 0.7525 - val_accuracy: 0.5267\n",
      "Epoch 17/20\n",
      "329/329 [==============================] - 33s 101ms/step - loss: 0.6330 - accuracy: 0.6393 - val_loss: 0.7185 - val_accuracy: 0.5420\n",
      "Epoch 18/20\n",
      "329/329 [==============================] - 33s 102ms/step - loss: 0.6276 - accuracy: 0.6443 - val_loss: 0.7263 - val_accuracy: 0.5496\n",
      "Epoch 19/20\n",
      "329/329 [==============================] - 33s 102ms/step - loss: 0.6194 - accuracy: 0.6552 - val_loss: 0.7374 - val_accuracy: 0.5347\n",
      "Epoch 20/20\n",
      "329/329 [==============================] - 34s 102ms/step - loss: 0.6146 - accuracy: 0.6635 - val_loss: 0.7214 - val_accuracy: 0.5713\n"
     ]
    },
    {
     "data": {
      "image/png": "[encoded data removed]",
      "text/plain": [
       "<Figure size 576x360 with 1 Axes>"
      ]
     },
     "metadata": {
      "needs_background": "light"
     },
     "output_type": "display_data"
    },
    {
     "name": "stdout",
     "output_type": "stream",
     "text": [
      "Compute valiation accuracy\n",
      "2022-12-18 13:57:00.439736\n",
      "Range of scores: 0.07455954 to 0.9746124\n",
      "Predicted zeros and ones 1274 1348\n",
      "Accuracy: 57.13% Precision: 58.38% Recall: 58.30% F1: 58.34%\n",
      "2022-12-18 13:57:04.604996\n",
      "Fold 2\n",
      "Training example\n",
      "[ 60 238 182 ...   0   0   0]\n",
      "Train sizes (10474, 1997) (10474, 1)\n",
      "Valid sizes (2669, 1997) (2669, 1)\n",
      "Train set ones/size 5478 / 10474\n",
      "Valid set ones/size 1481 / 2669\n",
      "BUILD MODEL\n",
      "COMPILE\n",
      "FIT\n",
      "2022-12-18 13:57:06.511200\n",
      "Epoch 1/20\n",
      "328/328 [==============================] - 37s 105ms/step - loss: 0.6917 - accuracy: 0.5236 - val_loss: 0.6805 - val_accuracy: 0.5661\n",
      "Epoch 2/20\n",
      "328/328 [==============================] - 34s 103ms/step - loss: 0.6783 - accuracy: 0.5751 - val_loss: 0.6797 - val_accuracy: 0.5673\n",
      "Epoch 3/20\n",
      "328/328 [==============================] - 34s 103ms/step - loss: 0.6750 - accuracy: 0.5854 - val_loss: 0.6889 - val_accuracy: 0.5455\n",
      "Epoch 4/20\n",
      "328/328 [==============================] - 34s 103ms/step - loss: 0.6696 - accuracy: 0.5946 - val_loss: 0.6902 - val_accuracy: 0.5332\n",
      "Epoch 5/20\n",
      "328/328 [==============================] - 33s 101ms/step - loss: 0.6687 - accuracy: 0.5913 - val_loss: 0.7007 - val_accuracy: 0.5279\n",
      "Epoch 6/20\n",
      "328/328 [==============================] - 33s 101ms/step - loss: 0.6668 - accuracy: 0.6018 - val_loss: 0.6922 - val_accuracy: 0.5388\n",
      "Epoch 7/20\n",
      "328/328 [==============================] - 33s 101ms/step - loss: 0.6549 - accuracy: 0.6125 - val_loss: 0.7063 - val_accuracy: 0.4841\n",
      "Epoch 8/20\n",
      "328/328 [==============================] - 33s 101ms/step - loss: 0.6609 - accuracy: 0.6019 - val_loss: 0.7099 - val_accuracy: 0.5189\n",
      "Epoch 9/20\n",
      "328/328 [==============================] - 33s 101ms/step - loss: 0.6429 - accuracy: 0.6296 - val_loss: 0.7778 - val_accuracy: 0.4732\n",
      "Epoch 10/20\n",
      "328/328 [==============================] - 33s 102ms/step - loss: 0.6531 - accuracy: 0.6191 - val_loss: 0.7112 - val_accuracy: 0.5197\n",
      "Epoch 11/20\n",
      "328/328 [==============================] - 33s 102ms/step - loss: 0.6430 - accuracy: 0.6348 - val_loss: 0.7147 - val_accuracy: 0.5313\n",
      "Epoch 12/20\n",
      "328/328 [==============================] - 34s 102ms/step - loss: 0.6325 - accuracy: 0.6436 - val_loss: 0.7081 - val_accuracy: 0.5343\n",
      "Epoch 13/20\n",
      "328/328 [==============================] - 33s 101ms/step - loss: 0.6384 - accuracy: 0.6356 - val_loss: 0.7134 - val_accuracy: 0.5290\n",
      "Epoch 14/20\n",
      "328/328 [==============================] - 33s 102ms/step - loss: 0.6447 - accuracy: 0.6299 - val_loss: 0.7166 - val_accuracy: 0.5260\n",
      "Epoch 15/20\n",
      "328/328 [==============================] - 33s 101ms/step - loss: 0.6414 - accuracy: 0.6301 - val_loss: 0.7330 - val_accuracy: 0.5092\n",
      "Epoch 16/20\n",
      "328/328 [==============================] - 34s 102ms/step - loss: 0.6302 - accuracy: 0.6501 - val_loss: 0.7222 - val_accuracy: 0.5534\n",
      "Epoch 17/20\n",
      "328/328 [==============================] - 33s 101ms/step - loss: 0.6262 - accuracy: 0.6491 - val_loss: 0.7304 - val_accuracy: 0.5347\n",
      "Epoch 18/20\n",
      "328/328 [==============================] - 33s 102ms/step - loss: 0.6257 - accuracy: 0.6532 - val_loss: 0.7332 - val_accuracy: 0.5114\n",
      "Epoch 19/20\n",
      "328/328 [==============================] - 33s 102ms/step - loss: 0.6213 - accuracy: 0.6566 - val_loss: 0.7378 - val_accuracy: 0.5088\n",
      "Epoch 20/20\n",
      "328/328 [==============================] - 33s 101ms/step - loss: 0.6215 - accuracy: 0.6554 - val_loss: 0.7279 - val_accuracy: 0.5245\n"
     ]
    },
    {
     "data": {
      "image/png": "[encoded data removed]",
      "text/plain": [
       "<Figure size 576x360 with 1 Axes>"
      ]
     },
     "metadata": {
      "needs_background": "light"
     },
     "output_type": "display_data"
    },
    {
     "name": "stdout",
     "output_type": "stream",
     "text": [
      "Compute valiation accuracy\n",
      "2022-12-18 14:08:17.858379\n",
      "Range of scores: 0.094093636 to 0.83438414\n",
      "Predicted zeros and ones 1157 1512\n",
      "Accuracy: 52.45% Precision: 57.01% Recall: 58.20% F1: 57.60%\n",
      "2022-12-18 14:08:22.076791\n",
      "Fold 3\n",
      "Training example\n",
      "[ 60 238 182 ...   0   0   0]\n",
      "Train sizes (10563, 1997) (10563, 1)\n",
      "Valid sizes (2580, 1997) (2580, 1)\n",
      "Train set ones/size 5669 / 10563\n",
      "Valid set ones/size 1290 / 2580\n",
      "BUILD MODEL\n",
      "COMPILE\n",
      "FIT\n",
      "2022-12-18 14:08:24.006515\n",
      "Epoch 1/20\n",
      "331/331 [==============================] - 38s 104ms/step - loss: 0.6888 - accuracy: 0.5397 - val_loss: 0.6840 - val_accuracy: 0.5624\n",
      "Epoch 2/20\n",
      "331/331 [==============================] - 33s 101ms/step - loss: 0.6765 - accuracy: 0.5787 - val_loss: 0.6963 - val_accuracy: 0.5302\n",
      "Epoch 3/20\n",
      "331/331 [==============================] - 34s 102ms/step - loss: 0.6740 - accuracy: 0.5889 - val_loss: 0.6939 - val_accuracy: 0.5202\n",
      "Epoch 4/20\n",
      "331/331 [==============================] - 34s 101ms/step - loss: 0.6762 - accuracy: 0.5746 - val_loss: 0.6954 - val_accuracy: 0.5329\n",
      "Epoch 5/20\n",
      "331/331 [==============================] - 34s 101ms/step - loss: 0.6688 - accuracy: 0.5921 - val_loss: 0.6936 - val_accuracy: 0.5500\n",
      "Epoch 6/20\n",
      "331/331 [==============================] - 33s 101ms/step - loss: 0.6641 - accuracy: 0.5930 - val_loss: 0.6928 - val_accuracy: 0.5531\n",
      "Epoch 7/20\n",
      "331/331 [==============================] - 33s 101ms/step - loss: 0.6563 - accuracy: 0.6152 - val_loss: 0.6904 - val_accuracy: 0.5539\n",
      "Epoch 8/20\n",
      "331/331 [==============================] - 34s 101ms/step - loss: 0.6549 - accuracy: 0.6127 - val_loss: 0.7020 - val_accuracy: 0.5419\n",
      "Epoch 9/20\n",
      "331/331 [==============================] - 33s 101ms/step - loss: 0.6484 - accuracy: 0.6220 - val_loss: 0.6979 - val_accuracy: 0.5496\n",
      "Epoch 10/20\n",
      "331/331 [==============================] - 34s 101ms/step - loss: 0.6466 - accuracy: 0.6291 - val_loss: 0.7017 - val_accuracy: 0.5411\n",
      "Epoch 11/20\n",
      "331/331 [==============================] - 34s 102ms/step - loss: 0.6409 - accuracy: 0.6365 - val_loss: 0.7067 - val_accuracy: 0.5357\n",
      "Epoch 12/20\n",
      "331/331 [==============================] - 33s 101ms/step - loss: 0.6382 - accuracy: 0.6340 - val_loss: 0.7236 - val_accuracy: 0.5302\n",
      "Epoch 13/20\n",
      "331/331 [==============================] - 33s 101ms/step - loss: 0.6321 - accuracy: 0.6429 - val_loss: 0.7283 - val_accuracy: 0.5500\n",
      "Epoch 14/20\n",
      "331/331 [==============================] - 33s 101ms/step - loss: 0.6249 - accuracy: 0.6479 - val_loss: 0.7260 - val_accuracy: 0.5539\n",
      "Epoch 15/20\n",
      "331/331 [==============================] - 34s 102ms/step - loss: 0.6250 - accuracy: 0.6532 - val_loss: 0.7372 - val_accuracy: 0.5508\n",
      "Epoch 16/20\n",
      "331/331 [==============================] - 33s 101ms/step - loss: 0.6310 - accuracy: 0.6481 - val_loss: 0.7378 - val_accuracy: 0.5438\n",
      "Epoch 17/20\n",
      "331/331 [==============================] - 34s 101ms/step - loss: 0.6272 - accuracy: 0.6502 - val_loss: 0.7276 - val_accuracy: 0.5395\n",
      "Epoch 18/20\n",
      "331/331 [==============================] - 34s 102ms/step - loss: 0.6216 - accuracy: 0.6563 - val_loss: 0.7447 - val_accuracy: 0.5407\n",
      "Epoch 19/20\n",
      "331/331 [==============================] - 34s 102ms/step - loss: 0.6210 - accuracy: 0.6581 - val_loss: 0.7231 - val_accuracy: 0.5225\n",
      "Epoch 20/20\n",
      "331/331 [==============================] - 34s 102ms/step - loss: 0.6320 - accuracy: 0.6443 - val_loss: 0.7393 - val_accuracy: 0.5663\n"
     ]
    },
    {
     "data": {
      "image/png": "[encoded data removed]",
      "text/plain": [
       "<Figure size 576x360 with 1 Axes>"
      ]
     },
     "metadata": {
      "needs_background": "light"
     },
     "output_type": "display_data"
    },
    {
     "name": "stdout",
     "output_type": "stream",
     "text": [
      "Compute valiation accuracy\n",
      "2022-12-18 14:19:39.168468\n",
      "Range of scores: 0.13004844 to 0.94638234\n",
      "Predicted zeros and ones 1123 1457\n",
      "Accuracy: 56.63% Precision: 55.87% Recall: 63.10% F1: 59.26%\n",
      "2022-12-18 14:19:44.934566\n",
      "Fold 4\n",
      "Training example\n",
      "[ 60 238 182 ...   0   0   0]\n",
      "Train sizes (10478, 1997) (10478, 1)\n",
      "Valid sizes (2665, 1997) (2665, 1)\n",
      "Train set ones/size 5589 / 10478\n",
      "Valid set ones/size 1370 / 2665\n",
      "BUILD MODEL\n",
      "COMPILE\n",
      "FIT\n",
      "2022-12-18 14:19:46.832884\n",
      "Epoch 1/20\n",
      "328/328 [==============================] - 37s 104ms/step - loss: 0.6892 - accuracy: 0.5340 - val_loss: 0.6865 - val_accuracy: 0.5546\n",
      "Epoch 2/20\n",
      "328/328 [==============================] - 33s 102ms/step - loss: 0.6761 - accuracy: 0.5826 - val_loss: 0.6748 - val_accuracy: 0.5805\n",
      "Epoch 3/20\n",
      "328/328 [==============================] - 34s 103ms/step - loss: 0.6799 - accuracy: 0.5689 - val_loss: 0.6892 - val_accuracy: 0.5655\n",
      "Epoch 4/20\n",
      "328/328 [==============================] - 34s 102ms/step - loss: 0.6772 - accuracy: 0.5714 - val_loss: 0.6830 - val_accuracy: 0.5520\n",
      "Epoch 5/20\n",
      "328/328 [==============================] - 33s 102ms/step - loss: 0.6680 - accuracy: 0.5931 - val_loss: 0.6856 - val_accuracy: 0.5681\n",
      "Epoch 6/20\n",
      "328/328 [==============================] - 34s 103ms/step - loss: 0.6649 - accuracy: 0.6021 - val_loss: 0.6829 - val_accuracy: 0.5614\n",
      "Epoch 7/20\n",
      "328/328 [==============================] - 34s 103ms/step - loss: 0.6662 - accuracy: 0.6012 - val_loss: 0.6956 - val_accuracy: 0.5343\n",
      "Epoch 8/20\n",
      "328/328 [==============================] - 34s 102ms/step - loss: 0.6596 - accuracy: 0.6059 - val_loss: 0.6952 - val_accuracy: 0.5467\n",
      "Epoch 9/20\n",
      "328/328 [==============================] - 34s 104ms/step - loss: 0.6498 - accuracy: 0.6201 - val_loss: 0.6981 - val_accuracy: 0.5625\n",
      "Epoch 10/20\n",
      "328/328 [==============================] - 33s 102ms/step - loss: 0.6499 - accuracy: 0.6251 - val_loss: 0.7006 - val_accuracy: 0.5460\n",
      "Epoch 11/20\n",
      "328/328 [==============================] - 33s 102ms/step - loss: 0.6491 - accuracy: 0.6190 - val_loss: 0.7174 - val_accuracy: 0.5392\n",
      "Epoch 12/20\n",
      "328/328 [==============================] - 34s 105ms/step - loss: 0.6392 - accuracy: 0.6412 - val_loss: 0.7032 - val_accuracy: 0.5497\n",
      "Epoch 13/20\n",
      "328/328 [==============================] - 33s 102ms/step - loss: 0.6356 - accuracy: 0.6437 - val_loss: 0.7031 - val_accuracy: 0.5460\n",
      "Epoch 14/20\n",
      "328/328 [==============================] - 34s 102ms/step - loss: 0.6277 - accuracy: 0.6463 - val_loss: 0.7004 - val_accuracy: 0.5610\n",
      "Epoch 15/20\n",
      "328/328 [==============================] - 33s 101ms/step - loss: 0.6419 - accuracy: 0.6333 - val_loss: 0.7184 - val_accuracy: 0.5133\n",
      "Epoch 16/20\n",
      "328/328 [==============================] - 33s 102ms/step - loss: 0.6316 - accuracy: 0.6492 - val_loss: 0.6962 - val_accuracy: 0.5831\n",
      "Epoch 17/20\n",
      "328/328 [==============================] - 34s 103ms/step - loss: 0.6317 - accuracy: 0.6412 - val_loss: 0.7056 - val_accuracy: 0.5107\n",
      "Epoch 18/20\n",
      "328/328 [==============================] - 34s 103ms/step - loss: 0.6317 - accuracy: 0.6453 - val_loss: 0.6996 - val_accuracy: 0.5685\n",
      "Epoch 19/20\n",
      "328/328 [==============================] - 34s 103ms/step - loss: 0.6362 - accuracy: 0.6393 - val_loss: 0.7176 - val_accuracy: 0.5276\n",
      "Epoch 20/20\n",
      "328/328 [==============================] - 34s 103ms/step - loss: 0.6245 - accuracy: 0.6486 - val_loss: 0.7159 - val_accuracy: 0.5610\n"
     ]
    },
    {
     "data": {
      "image/png": "[encoded data removed]",
      "text/plain": [
       "<Figure size 576x360 with 1 Axes>"
      ]
     },
     "metadata": {
      "needs_background": "light"
     },
     "output_type": "display_data"
    },
    {
     "name": "stdout",
     "output_type": "stream",
     "text": [
      "Compute valiation accuracy\n",
      "2022-12-18 14:31:02.913063\n",
      "Range of scores: 0.17828807 to 0.91916996\n",
      "Predicted zeros and ones 947 1718\n",
      "Accuracy: 56.10% Precision: 55.82% Recall: 70.00% F1: 62.11%\n",
      "2022-12-18 14:31:09.272680\n",
      "Fold 5\n",
      "Training example\n",
      "[169 161 129 ...   0   0   0]\n",
      "Train sizes (10536, 1997) (10536, 1)\n",
      "Valid sizes (2607, 1997) (2607, 1)\n",
      "Train set ones/size 5491 / 10536\n",
      "Valid set ones/size 1468 / 2607\n",
      "BUILD MODEL\n",
      "COMPILE\n",
      "FIT\n",
      "2022-12-18 14:31:11.194994\n",
      "Epoch 1/20\n",
      "330/330 [==============================] - 38s 105ms/step - loss: 0.6921 - accuracy: 0.5155 - val_loss: 0.6778 - val_accuracy: 0.5769\n",
      "Epoch 2/20\n",
      "330/330 [==============================] - 34s 103ms/step - loss: 0.6850 - accuracy: 0.5567 - val_loss: 0.6855 - val_accuracy: 0.5489\n",
      "Epoch 3/20\n",
      "330/330 [==============================] - 34s 103ms/step - loss: 0.6765 - accuracy: 0.5782 - val_loss: 0.6924 - val_accuracy: 0.5370\n",
      "Epoch 4/20\n",
      "330/330 [==============================] - 34s 103ms/step - loss: 0.6686 - accuracy: 0.5909 - val_loss: 0.6889 - val_accuracy: 0.5516\n",
      "Epoch 5/20\n",
      "330/330 [==============================] - 34s 103ms/step - loss: 0.6622 - accuracy: 0.6043 - val_loss: 0.6814 - val_accuracy: 0.5527\n",
      "Epoch 6/20\n",
      "330/330 [==============================] - 34s 103ms/step - loss: 0.6571 - accuracy: 0.6155 - val_loss: 0.7072 - val_accuracy: 0.5255\n",
      "Epoch 7/20\n",
      "330/330 [==============================] - 34s 103ms/step - loss: 0.6505 - accuracy: 0.6268 - val_loss: 0.6910 - val_accuracy: 0.5662\n",
      "Epoch 8/20\n",
      "330/330 [==============================] - 34s 103ms/step - loss: 0.6519 - accuracy: 0.6227 - val_loss: 0.7059 - val_accuracy: 0.5370\n",
      "Epoch 9/20\n",
      "330/330 [==============================] - 34s 103ms/step - loss: 0.6468 - accuracy: 0.6313 - val_loss: 0.7010 - val_accuracy: 0.5409\n",
      "Epoch 10/20\n",
      "330/330 [==============================] - 34s 104ms/step - loss: 0.6488 - accuracy: 0.6288 - val_loss: 0.6981 - val_accuracy: 0.5336\n",
      "Epoch 11/20\n",
      "330/330 [==============================] - 34s 104ms/step - loss: 0.6517 - accuracy: 0.6256 - val_loss: 0.7179 - val_accuracy: 0.5221\n",
      "Epoch 12/20\n",
      "330/330 [==============================] - 34s 103ms/step - loss: 0.6453 - accuracy: 0.6309 - val_loss: 0.7196 - val_accuracy: 0.5263\n",
      "Epoch 13/20\n",
      "330/330 [==============================] - 34s 103ms/step - loss: 0.6398 - accuracy: 0.6441 - val_loss: 0.7135 - val_accuracy: 0.5351\n",
      "Epoch 14/20\n",
      "330/330 [==============================] - 34s 103ms/step - loss: 0.6378 - accuracy: 0.6459 - val_loss: 0.7026 - val_accuracy: 0.5458\n",
      "Epoch 15/20\n",
      "330/330 [==============================] - 34s 103ms/step - loss: 0.6310 - accuracy: 0.6532 - val_loss: 0.7126 - val_accuracy: 0.5535\n",
      "Epoch 16/20\n",
      "330/330 [==============================] - 34s 103ms/step - loss: 0.6312 - accuracy: 0.6547 - val_loss: 0.7027 - val_accuracy: 0.5420\n",
      "Epoch 17/20\n",
      "330/330 [==============================] - 34s 104ms/step - loss: 0.6293 - accuracy: 0.6570 - val_loss: 0.7026 - val_accuracy: 0.5432\n",
      "Epoch 18/20\n",
      "330/330 [==============================] - 35s 105ms/step - loss: 0.6207 - accuracy: 0.6665 - val_loss: 0.7061 - val_accuracy: 0.5769\n",
      "Epoch 19/20\n",
      "330/330 [==============================] - 34s 104ms/step - loss: 0.6189 - accuracy: 0.6700 - val_loss: 0.7008 - val_accuracy: 0.5708\n",
      "Epoch 20/20\n",
      "330/330 [==============================] - 34s 103ms/step - loss: 0.6290 - accuracy: 0.6538 - val_loss: 0.7105 - val_accuracy: 0.5332\n"
     ]
    },
    {
     "data": {
      "image/png": "[encoded data removed]",
      "text/plain": [
       "<Figure size 576x360 with 1 Axes>"
      ]
     },
     "metadata": {
      "needs_background": "light"
     },
     "output_type": "display_data"
    },
    {
     "name": "stdout",
     "output_type": "stream",
     "text": [
      "Compute valiation accuracy\n",
      "2022-12-18 14:42:36.574608\n",
      "Range of scores: 0.20457198 to 0.8488327\n",
      "Predicted zeros and ones 964 1643\n",
      "Accuracy: 53.32% Precision: 57.64% Recall: 64.51% F1: 60.88%\n",
      "2022-12-18 14:42:40.816039\n",
      "\n",
      "Cross validation 5 folds 20 epochs\n",
      " accuracy mean 55.13% +/- 1.88\n",
      " precision mean 56.94% +/- 1.00\n",
      " recall mean 62.82% +/- 4.39\n",
      " F1 mean 59.64% +/- 1.65\n",
      "2022-12-18 14:42:40.817877\n"
     ]
    }
   ],
   "source": [
    "print(datetime.now())\n",
    "cvdo = CrossValidator(EPOCHS,FOLDS,BREAK)\n",
    "cv_accuracy, cv_precision, cv_recall, cv_f1 = cvdo.do_cross_validation()   \n",
    "print(\"Cross validation %d folds %d epochs\" % (FOLDS,EPOCHS)) \n",
    "print(\" accuracy mean %.2f%% +/- %.2f\" % (np.mean(cv_accuracy), np.std(cv_accuracy)))\n",
    "print(\" precision mean %.2f%% +/- %.2f\" % (np.mean(cv_precision), np.std(cv_precision)))\n",
    "print(\" recall mean %.2f%% +/- %.2f\" % (np.mean(cv_recall), np.std(cv_recall)))\n",
    "print(\" F1 mean %.2f%% +/- %.2f\" % (np.mean(cv_f1), np.std(cv_f1)))\n",
    "print(datetime.now())"
   ]
  },
  {
   "cell_type": "code",
   "execution_count": null,
   "metadata": {
    "id": "thQspN3Nga5S"
   },
   "outputs": [],
   "source": []
  }
 ],
 "metadata": {
  "accelerator": "GPU",
  "colab": {
   "provenance": []
  },
  "gpuClass": "standard",
  "kernelspec": {
   "display_name": "Python 3 (ipykernel)",
   "language": "python",
   "name": "python3"
  },
  "language_info": {
   "codemirror_mode": {
    "name": "ipython",
    "version": 3
   },
   "file_extension": ".py",
   "mimetype": "text/x-python",
   "name": "python",
   "nbconvert_exporter": "python",
   "pygments_lexer": "ipython3",
   "version": "3.10.0"
  }
 },
 "nbformat": 4,
 "nbformat_minor": 1
}
