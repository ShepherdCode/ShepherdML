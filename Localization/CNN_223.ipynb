{
 "cells": [
  {
   "cell_type": "markdown",
   "metadata": {
    "id": "PG-tGRnlFLA3"
   },
   "source": [
    "# CNN + MaxPool\n",
    "Fixed train/valid split.\n",
    "Combine train+test in one. \n",
    "To do: put this in a loop of 10."
   ]
  },
  {
   "cell_type": "code",
   "execution_count": 1,
   "metadata": {
    "colab": {
     "base_uri": "https://localhost:8080/"
    },
    "id": "0RmwUsVLFLA6",
    "outputId": "479676f4-6d35-418d-ab3d-c225190f108f"
   },
   "outputs": [
    {
     "name": "stdout",
     "output_type": "stream",
     "text": [
      "2023-03-11 18:41:33.135296\n"
     ]
    }
   ],
   "source": [
    "from datetime import datetime\n",
    "print(datetime.now())"
   ]
  },
  {
   "cell_type": "code",
   "execution_count": 2,
   "metadata": {
    "colab": {
     "base_uri": "https://localhost:8080/"
    },
    "id": "OlzN9OdsFWEU",
    "outputId": "aa4d4879-15e2-4e44-d31d-787594d5371d"
   },
   "outputs": [
    {
     "name": "stdout",
     "output_type": "stream",
     "text": [
      "Found GPU at: /device:GPU:0\n",
      "Running on CoLab\n",
      "Drive already mounted at /content/drive/; to attempt to forcibly remount, call drive.mount(\"/content/drive/\", force_remount=True).\n",
      "/content/drive/My Drive/data/Localization/TrainTest/TrainTest_ver43/\n"
     ]
    }
   ],
   "source": [
    "import tensorflow as tf\n",
    "dt='float32'\n",
    "tf.keras.backend.set_floatx('float32')\n",
    "# tf.random.set_seed(42) # supposedly leads to reproducible results\n",
    "\n",
    "device_name = tf.test.gpu_device_name()\n",
    "if device_name != '/device:GPU:0':\n",
    "    raise SystemError('GPU device not found')\n",
    "print('Found GPU at: {}'.format(device_name))\n",
    "\n",
    "try:\n",
    "    from google.colab import drive\n",
    "    IN_COLAB = True\n",
    "    print('Running on CoLab')\n",
    "    PATH='/content/drive/'\n",
    "    drive.mount(PATH)\n",
    "    DATA_DIR=PATH+'My Drive/data/Localization/TrainTest/TrainTest_ver43/'  # must end in \"/\"\n",
    "except:\n",
    "    IN_COLAB = False\n",
    "    DATA_DIR = 'D:/Adjeroh/Localization/TrainTest/'   # Windows\n",
    "    DATA_DIR = '/Users/jasonmiller/WVU/Localization/TrainTest/TrainTest_ver43/'    # Mac\n",
    "print(DATA_DIR)"
   ]
  },
  {
   "cell_type": "code",
   "execution_count": 3,
   "metadata": {
    "colab": {
     "base_uri": "https://localhost:8080/"
    },
    "id": "PRX-UEr8FLA8",
    "outputId": "414c23ec-096a-4b70-92e6-d51ee3d2ddbe"
   },
   "outputs": [
    {
     "name": "stdout",
     "output_type": "stream",
     "text": [
      "Python 3.9.16\n",
      "sklearn 1.2.1\n"
     ]
    }
   ],
   "source": [
    "from platform import python_version\n",
    "print('Python',python_version())\n",
    "import numpy as np\n",
    "import pandas as pd\n",
    "import scipy.stats as ss\n",
    "import pickle\n",
    "import time # sleep function\n",
    "from os.path import isfile\n",
    "from matplotlib import pyplot as plt \n",
    "import sklearn   # pip install --upgrade scikit-learn\n",
    "print('sklearn',sklearn.__version__)\n",
    "\n",
    "from tensorflow import keras\n",
    "from sklearn.mixture import GaussianMixture\n",
    "from sklearn.model_selection import KFold\n",
    "from sklearn.metrics import accuracy_score\n",
    "from sklearn.metrics import precision_score\n",
    "from sklearn.metrics import recall_score\n",
    "from sklearn.metrics import f1_score\n",
    "from sklearn.metrics import precision_recall_curve\n",
    "from sklearn.metrics import roc_curve\n",
    "from sklearn.metrics import roc_auc_score\n",
    "from sklearn.metrics import auc\n",
    "from sklearn.metrics import matthews_corrcoef\n",
    "from sklearn.utils import class_weight\n",
    "\n",
    "from keras.models import Sequential\n",
    "from keras.layers import Masking\n",
    "from keras.layers import Embedding\n",
    "from keras.layers import Conv1D\n",
    "from keras.layers import GlobalAveragePooling1D\n",
    "from keras.layers import GlobalMaxPooling1D\n",
    "from keras.layers import AveragePooling1D\n",
    "from keras.layers import MaxPooling1D\n",
    "from keras.layers import Bidirectional\n",
    "from keras.layers import LSTM\n",
    "from keras.layers import TimeDistributed\n",
    "from keras.layers import Flatten\n",
    "from keras.layers import Dense\n",
    "from keras.layers import Dropout\n",
    "from keras.losses import BinaryCrossentropy\n",
    "\n",
    "K=4\n",
    "CFILTERS=64\n",
    "FILTERSIZE=16\n",
    "RCELLS=32\n",
    "DCELLS=16\n",
    "EPOCHS=12\n",
    "FOLDS=5      \n",
    "EMBED_DIMEN = 4 # arbitrary hyperparameter\n",
    "MINLEN=200\n",
    "MAXLEN=5000   \n",
    "PRETTY_PICTURES = True\n",
    "RCI_THRESHOLD_MECHANISM = 'RCI_GMM'  # 'RCI_GMM' 'ZERO' 'THE_MEAN'\n",
    "BREAK = False   # break after first fold\n",
    "CACHING = False   # have not worked out how to cache multiple cell lines\n",
    "NUM_LINES = 15   # 15 to analyze all of them"
   ]
  },
  {
   "cell_type": "code",
   "execution_count": 4,
   "metadata": {
    "id": "LnkpVKdMFLA-"
   },
   "outputs": [],
   "source": [
    "RCI_FILE_TRAIN = 'train.lncRNA_RCI.csv'\n",
    "SEQUENCE_TRAIN = 'train.all_lncRNA_transcripts.csv'\n",
    "RCI_FILE_TEST  = 'test.lncRNA_RCI.csv'\n",
    "SEQUENCE_TEST  = 'test.all_lncRNA_transcripts.csv'\n",
    "CNN_FILE       = 'cnn_223.model'\n",
    "GMM_FILE       = 'gmm_223.pickle'\n",
    "CACHE_SEQUENCE = 'cache.seq.pickle'\n",
    "CACHE_IDS      = 'cache.id.pickle'\n",
    "if CACHING:\n",
    "    cache_seq = DATA_DIR+CACHE_SEQUENCE \n",
    "    cache_ids = DATA_DIR+CACHE_IDS \n",
    "    if isfile(cache_seq) and isfile(cache_ids):\n",
    "        print('WARNING: this run will read sequence from cache.')\n",
    "    else:\n",
    "        print('INFO: this run will write sequence to cache.')"
   ]
  },
  {
   "cell_type": "code",
   "execution_count": 5,
   "metadata": {
    "id": "e3p4QzQJFLA_"
   },
   "outputs": [],
   "source": [
    "def get_ordered_list():\n",
    "    ordered_list = \\\n",
    "    ['A549','H1.hESC','HeLa.S3','HepG2','HT1080',\\\n",
    "      'HUVEC','MCF.7','NCI.H460','NHEK','SK.MEL.5',\\\n",
    "      'SK.N.DZ','SK.N.SH','GM12878','K562','IMR.90']\n",
    "    return ordered_list\n",
    "all_cell_lines = get_ordered_list()\n",
    "\n",
    "EXCLUSIONS = [1]   # possibly exclude cell line 1 = H1.hESC"
   ]
  },
  {
   "cell_type": "markdown",
   "metadata": {
    "id": "UtqdpJOxFLBA"
   },
   "source": [
    "## Data Load"
   ]
  },
  {
   "cell_type": "code",
   "execution_count": 6,
   "metadata": {
    "id": "p35ehKV3Kq0z"
   },
   "outputs": [],
   "source": [
    "class DataLoader():\n",
    "    def __init__(self):\n",
    "        self.cache=dict() \n",
    "        self.vals = {'A':0, 'C':1, 'G':2, 'T':3}\n",
    "        \n",
    "    def load_gene_rci_values(self,filepath,exclusions):\n",
    "        '''\n",
    "        Load from RCI csv file.\n",
    "        Return dict with keys=gene:str and values=RCI:float.\n",
    "        '''\n",
    "        gene_to_rci = {}\n",
    "        overall_sum = 0\n",
    "        with open (filepath,'r') as handle:\n",
    "            header = None\n",
    "            for row in handle:\n",
    "                if header is None:\n",
    "                    header = row # skip file's header line\n",
    "                else:\n",
    "                    line = row.strip()\n",
    "                    fields = line.split(',')\n",
    "                    gene_id = fields.pop(0)\n",
    "                    cell_line_index = 0\n",
    "                    rci_values = []\n",
    "                    for rci_str in fields:\n",
    "                        if cell_line_index not in exclusions:\n",
    "                            if rci_str != \"nan\":\n",
    "                                rci_val = float(rci_str)\n",
    "                                rci_values.append(rci_val)\n",
    "                        cell_line_index += 1\n",
    "                    if len(rci_values)>0:\n",
    "                        values = np.array(rci_values)\n",
    "                        antilogs = np.power(values,2)\n",
    "                        big_mean = np.mean(antilogs)\n",
    "                        if np.absolute(big_mean)<0.000001:\n",
    "                            log_mean = 0.0\n",
    "                        else:\n",
    "                            log_mean = np.log2(big_mean) \n",
    "                        gene_to_rci[gene_id] = log_mean\n",
    "        print('Number of RCI values loaded',len(gene_to_rci.keys()))\n",
    "        return gene_to_rci\n",
    "\n",
    "    def seq_to_kmer_values(self,rna,K):\n",
    "        vec=[] # seq converted to list of K-mers \n",
    "        N_indicator = 0 # indicator value\n",
    "        length = len(rna)\n",
    "        for i in range(length-K+1):\n",
    "            kmer = rna[i:i+K]\n",
    "            if 'N' in kmer:\n",
    "                value = N_indicator\n",
    "            elif kmer in self.cache.keys():\n",
    "                value = self.cache[kmer]\n",
    "            else:\n",
    "                value = 0\n",
    "                for j in range(K):\n",
    "                    value *= 4   \n",
    "                    nextnuc = kmer[j] \n",
    "                    nucval = self.vals[nextnuc]\n",
    "                    value += nucval\n",
    "                value += 1   # NNN => 0, AAA => 1\n",
    "                self.cache[kmer] = value\n",
    "            vec.append(value)\n",
    "        return vec\n",
    "\n",
    "    def load_sequence(self,filepath):\n",
    "        allids=[]\n",
    "        allseq=[]\n",
    "        cache_seq = DATA_DIR+CACHE_SEQUENCE \n",
    "        cache_ids = DATA_DIR+CACHE_IDS \n",
    "        if CACHING and isfile(cache_seq) and isfile(cache_ids):\n",
    "            # Warning: the cache may represent the wrong K.\n",
    "            with open(cache_seq,'rb') as fin:\n",
    "                allseq = pickle.load(fin)\n",
    "            with open(cache_ids,'rb') as fin:\n",
    "                allids = pickle.load(fin)\n",
    "            return allids,allseq           \n",
    "        NREPEAT = str('N'*MAXLEN)\n",
    "        with open (filepath,'r') as handle:\n",
    "            header = None\n",
    "            for row in handle:\n",
    "                if header is None:\n",
    "                    header = row\n",
    "                else:\n",
    "                    line    = row.strip()\n",
    "                    fields  = line.split(',')\n",
    "                    tran_id = fields[0]  # with version number\n",
    "                    gene_id = fields[1]        # without version number\n",
    "                    seq_len = int(fields[3])\n",
    "                    seq_txt = fields[4]\n",
    "                    if seq_len>=MINLEN and seq_len<=MAXLEN and gene_id in gene_to_rci.keys():\n",
    "                        allids.append( (gene_id,tran_id) )\n",
    "                        if seq_len<MAXLEN:\n",
    "                            seq_txt = seq_txt + NREPEAT\n",
    "                            seq_txt = seq_txt[:MAXLEN]\n",
    "                        hot_vec = self.seq_to_kmer_values(seq_txt,K)\n",
    "                        allseq.append(hot_vec)\n",
    "        if CACHING:\n",
    "            with open(cache_seq,'wb') as fout:\n",
    "                pickle.dump(allseq,fout)\n",
    "            with open(cache_ids,'wb') as fout:\n",
    "                pickle.dump(allids,fout)\n",
    "        return allids,allseq"
   ]
  },
  {
   "cell_type": "markdown",
   "metadata": {
    "id": "VDZ6siB_Kq04"
   },
   "source": [
    "## Model"
   ]
  },
  {
   "cell_type": "code",
   "execution_count": 7,
   "metadata": {
    "id": "AwMbRjm0FLBF"
   },
   "outputs": [],
   "source": [
    "def build_model():\n",
    "    ALPHABET=4**K+1  # NUMBER OF DISTINCT KMERS POSSIBLE, add one if N gets mask value\n",
    "    ADJUST_LENGTH = MAXLEN-K+1  # fixed length sequences\n",
    "    cnn = Sequential()\n",
    "    embed_layer = Embedding(ALPHABET,EMBED_DIMEN,input_length=ADJUST_LENGTH,mask_zero=True)   \n",
    "    cnn1_layer = Conv1D(CFILTERS, FILTERSIZE)\n",
    "    pool_layer = MaxPooling1D(pool_size=FILTERSIZE, strides=FILTERSIZE//2)\n",
    "    flat_layer = Flatten()\n",
    "    dens_layer = Dense(DCELLS)\n",
    "    drop_layer = Dropout(0.5)\n",
    "    output_layer = Dense(1,activation='sigmoid',dtype=dt)\n",
    "\n",
    "    cnn.add(embed_layer)\n",
    "    cnn.add(cnn1_layer)\n",
    "    cnn.add(pool_layer)\n",
    "    cnn.add(flat_layer)\n",
    "    cnn.add(dens_layer)\n",
    "    cnn.add(drop_layer)\n",
    "    cnn.add(output_layer)\n",
    "\n",
    "    bc=BinaryCrossentropy(from_logits=False)\n",
    "    cnn.compile(loss=bc, optimizer=\"Adam\",metrics=[\"accuracy\"])\n",
    "    return cnn"
   ]
  },
  {
   "cell_type": "code",
   "execution_count": 8,
   "metadata": {
    "colab": {
     "base_uri": "https://localhost:8080/"
    },
    "id": "clj-wufgFLBF",
    "outputId": "5be05300-87e8-4895-ef37-ec72eb7d7d14"
   },
   "outputs": [
    {
     "name": "stdout",
     "output_type": "stream",
     "text": [
      "2023-03-11 18:41:52.179606\n",
      "Model: \"sequential\"\n",
      "_________________________________________________________________\n",
      " Layer (type)                Output Shape              Param #   \n",
      "=================================================================\n",
      " embedding (Embedding)       (None, 4997, 4)           1028      \n",
      "                                                                 \n",
      " conv1d (Conv1D)             (None, 4982, 64)          4160      \n",
      "                                                                 \n",
      " max_pooling1d (MaxPooling1D  (None, 621, 64)          0         \n",
      " )                                                               \n",
      "                                                                 \n",
      " flatten (Flatten)           (None, 39744)             0         \n",
      "                                                                 \n",
      " dense (Dense)               (None, 16)                635920    \n",
      "                                                                 \n",
      " dropout (Dropout)           (None, 16)                0         \n",
      "                                                                 \n",
      " dense_1 (Dense)             (None, 1)                 17        \n",
      "                                                                 \n",
      "=================================================================\n",
      "Total params: 641,125\n",
      "Trainable params: 641,125\n",
      "Non-trainable params: 0\n",
      "_________________________________________________________________\n",
      "None\n"
     ]
    }
   ],
   "source": [
    "print(datetime.now())\n",
    "model=build_model()\n",
    "print(model.summary())  # Print this only once\n",
    "model=None"
   ]
  },
  {
   "cell_type": "markdown",
   "metadata": {
    "id": "MgrC1alOKq07"
   },
   "source": [
    "## Training"
   ]
  },
  {
   "cell_type": "code",
   "execution_count": 9,
   "metadata": {
    "id": "W9xiFzNbFLBE"
   },
   "outputs": [],
   "source": [
    "import gc\n",
    "class CrossValidator():\n",
    "    def __init__(self,epochs,folds,quick_test=False,score_threshold=0.5):\n",
    "        self.epochs = epochs\n",
    "        self.folds = folds\n",
    "        self.quick_test = quick_test\n",
    "        self.score_threshold = score_threshold\n",
    "        self.mechanism = 'ZERO'\n",
    "        self.discriminator = None\n",
    "        self.flip = False    \n",
    "        self.cv_accuracy=[]\n",
    "        self.cv_precision=[]\n",
    "        self.cv_recall=[]\n",
    "        self.cv_f1=[]\n",
    "        self.cv_auprc=[]\n",
    "        self.cv_auroc=[]\n",
    "        self.cv_mcc=[]\n",
    "        \n",
    "    def set_sequences(self, allids, allseq):\n",
    "        # Keep IDs and sequences in same order.\n",
    "        self.all_ids = allids  # pairs of (gene_id,tran_id)\n",
    "        self.all_seqs = allseq  # may be vectors of K-mers\n",
    "        genes = []\n",
    "        for i in range(len(allids)):\n",
    "            (one_gene,one_tran) = allids[i]\n",
    "            genes.append(one_gene)\n",
    "        self.all_genes = genes\n",
    "            \n",
    "    def set_rci_map(self, gene_to_rci):\n",
    "        # The map is for fast lookup, not gene order.\n",
    "        self.rci_map = gene_to_rci # map gene_id to RCI value\n",
    "    \n",
    "    def get_gene_subset(self, sub_index):\n",
    "        sub_genes = set()\n",
    "        for index in sub_index:\n",
    "            one_gene = self.all_genes[index]\n",
    "            sub_genes.add(one_gene)\n",
    "        return sub_genes   # this is a set: unordered with fast lookup\n",
    "    \n",
    "    def _get_X_y(self, gene_index, exclude_middle=False):\n",
    "        # gene_index is ndarray with subset of indices of all_genes\n",
    "        subsetX=[]\n",
    "        subsetY=[]\n",
    "        gene_subset = self._get_gene_subset(gene_index)\n",
    "        for t in range(len(self.all_ids)):\n",
    "            gene_id,tran_id = self.all_ids[t]\n",
    "            if gene_id in gene_subset:\n",
    "                oneX            = self.all_seqs[t]\n",
    "                oneY            = self.rci_map[gene_id]\n",
    "                if exclude_middle and oneY >= -2 and oneY <= 0:\n",
    "                    # Exclude middle from train set only, for comparison to Yuan et al\n",
    "                    continue\n",
    "                subsetX.append(oneX)\n",
    "                subsetY.append(oneY)\n",
    "        subsetX = np.array(subsetX)\n",
    "        subsetY = np.array(subsetY).reshape((-1,1))\n",
    "        return subsetX,subsetY\n",
    "    \n",
    "    def set_threshold_mechanism(self, mechanism):\n",
    "        if mechanism not in ['RCI_GMM','THE_MEAN','ZERO']:\n",
    "            raise Exception('Unrecognized mechansm:',mechanism)\n",
    "        self.mechanism = mechanism\n",
    "    \n",
    "    def _apply_threshold(self, array_of_rci):\n",
    "        # Takes list of float, returns list of labels [0,1].\n",
    "        if self.mechanism == 'RCI_GMM':\n",
    "            labels = self.discriminator.predict(array_of_rci)\n",
    "            if self.flip:\n",
    "                IS_CYTO = lambda label: 1 if label==0 else 0\n",
    "                labels = np.array(list(map(IS_CYTO, labels)))\n",
    "        else:  # 'THE_MEAN' or 'ZERO'\n",
    "            rci_threshold = self.discriminator\n",
    "            IS_CYTO = lambda rci: 1 if rci>rci_threshold else 0\n",
    "            labels = np.array(list(map(IS_CYTO, array_of_rci)))\n",
    "        return labels\n",
    "    \n",
    "    def _prepare_threshold(self, rci_values, create=True):\n",
    "        if self.mechanism == 'RCI_GMM':\n",
    "            if create:\n",
    "                gmm = GaussianMixture(n_components=2, verbose=0, \n",
    "                  covariance_type='spherical', n_init=100) # random_state=42) \n",
    "                gmm.fit(rci_values)\n",
    "            else:\n",
    "                # assume prior call to load_gmm()\n",
    "                gmm=self.discriminator\n",
    "            self.flip = False\n",
    "            # The GMM labels are arbitrary.\n",
    "            if gmm.means_[0][0] > gmm.means_[1][0]:\n",
    "                self.flip = True\n",
    "            self.discriminator = gmm   # redundant but consistent\n",
    "        elif self.mechanism == 'THE_MEAN':\n",
    "            self.discriminator = np.mean(rci_values)\n",
    "        elif self.mechanism == 'ZERO':\n",
    "            self.discriminator = -1   # 0 usually, -1 is as in Yuan et al.\n",
    "        else: # not expected\n",
    "            self.discriminator = 0\n",
    "    \n",
    "    def _explain_threshold(self):\n",
    "        if self.mechanism == 'RCI_GMM':\n",
    "            gmm=self.discriminator\n",
    "            print('Discriminator is GMM')\n",
    "            print('Means',[gmm.means_[0][0],gmm.means_[1][0]])\n",
    "            print('Variances',gmm.covariances_)\n",
    "            print('Priors',gmm.weights_)\n",
    "            test_rcis=[-5,-4,-3.5,-3,-2.5,-2,-1.5,-1,-0.5,0,0.5,1,1.5,2,3]\n",
    "            print(test_rcis)\n",
    "            print(self._apply_threshold(np.array(test_rcis).reshape((-1,1))))\n",
    "        else:\n",
    "            print('Discriminator',self.mechanism,self.discriminator)\n",
    "    \n",
    "    def _show_sizes(self,label,values):\n",
    "        a = np.count_nonzero(values==1)\n",
    "        b = np.count_nonzero(values==0)\n",
    "        print('%s 1:0 %d:%d %5.2f%%'%(label,a,b,100*a/(a+b)))\n",
    "        \n",
    "    def train_without_validation(self):\n",
    "        print(datetime.now())\n",
    "        # for final train, the train subset is the entire data set\n",
    "        train_index = range(len(self.all_ids))  \n",
    "        X_train,y_rci = self._get_X_y(train_index) \n",
    "        self._prepare_threshold(y_rci,True)  # create and save\n",
    "        self._explain_threshold()\n",
    "        y_train = self._apply_threshold(y_rci)\n",
    "        y_rci = None\n",
    "        cw = class_weight.compute_class_weight(\n",
    "            'balanced', classes=[0,1], y=y_train)\n",
    "        cwd = {0: cw[0], 1: cw[1]}\n",
    "\n",
    "        self.model=build_model()\n",
    "        print(\"FIT\")\n",
    "        print(datetime.now())\n",
    "        history=self.model.fit(X_train, y_train, # batch_size=10, default=32 works nicely\n",
    "            epochs=self.epochs, verbose=1,  # verbose=1 for ascii art, verbose=0 for none \n",
    "            class_weight=cwd) # validation_data=(X_valid,y_valid) ) \n",
    "\n",
    "        # for final train, there is no separate valid set\n",
    "        X_valid = X_train   \n",
    "        y_valid = y_train\n",
    "        \n",
    "        print(\"PREDICT\")\n",
    "        print(datetime.now())        \n",
    "        yhat_pred=self.model.predict(X_valid, verbose=0)     \n",
    "        yhat_classes=np.where(yhat_pred > self.score_threshold, 1, 0)\n",
    "\n",
    "        print('train class weights 1:0 %5.2f:%5.2f' % (cwd[1],cwd[0]))\n",
    "        self._show_sizes('Train',y_valid)\n",
    "        self._show_sizes('Predict',yhat_classes)\n",
    "        print('Valid sizes',X_valid.shape,y_valid.shape)\n",
    "        print('Range of scores:',np.min(yhat_pred),'to',np.max(yhat_pred))\n",
    "        print('Score threshold',self.score_threshold)\n",
    "\n",
    "        accuracy = accuracy_score(y_valid, yhat_classes)*100.\n",
    "        precision = precision_score(y_valid, yhat_classes)*100.\n",
    "        recall = recall_score(y_valid, yhat_classes)*100.\n",
    "        f1 = f1_score(y_valid, yhat_classes)*100.\n",
    "        prc_Y, prc_X, prc_bins = precision_recall_curve(y_valid, yhat_pred)\n",
    "        auprc = auc(prc_X,prc_Y)*100.\n",
    "        auroc = roc_auc_score(y_valid, yhat_pred)*100.\n",
    "        mcc = matthews_corrcoef(y_valid, yhat_classes)\n",
    "        if PRETTY_PICTURES:\n",
    "            self._pretty_pictures(y_valid,yhat_pred,prc_X,prc_Y)\n",
    "        print('Accuracy: %.2f%% Precision: %.2f%% Recall: %.2f%%' % (accuracy,precision,recall)) \n",
    "        print('F1: %.2f%% MCC: %.2f%%' % (f1,mcc)) \n",
    "        print('AUPRC: %.2f%% AUROC: %.2f%%' % (auprc,auroc)) \n",
    "        self.cv_accuracy.append(accuracy)\n",
    "        self.cv_precision.append(precision)\n",
    "        self.cv_recall.append(recall)\n",
    "        self.cv_f1.append(f1)\n",
    "        self.cv_mcc.append(mcc)\n",
    "        self.cv_auprc.append(auprc)\n",
    "        self.cv_auroc.append(auroc)\n",
    "        \n",
    "    def test_without_training(self):\n",
    "        print(datetime.now())\n",
    "        # for final train, the train subset is the entire data set\n",
    "        train_index = range(len(self.all_ids))  \n",
    "        X_train,y_rci = self._get_X_y(train_index) \n",
    "        self._prepare_threshold(y_rci,False)  # reload\n",
    "        self._explain_threshold()\n",
    "        y_train = self._apply_threshold(y_rci)\n",
    "        y_rci = None\n",
    "        cw = class_weight.compute_class_weight(\n",
    "            'balanced', classes=[0,1], y=y_train)\n",
    "        cwd = {0: cw[0], 1: cw[1]}\n",
    "\n",
    "        # for final test, do no train\n",
    "        # assume load_cnn) has been called\n",
    "\n",
    "        # for final test, there is no separate valid set\n",
    "        X_valid = X_train   \n",
    "        y_valid = y_train\n",
    "        \n",
    "        print(\"PREDICT\")\n",
    "        print(datetime.now())        \n",
    "        yhat_pred=self.model.predict(X_valid, verbose=0)     \n",
    "        yhat_classes=np.where(yhat_pred > self.score_threshold, 1, 0)\n",
    "\n",
    "        print('train class weights 1:0 %5.2f:%5.2f' % (cwd[1],cwd[0]))\n",
    "        self._show_sizes('Train',y_valid)\n",
    "        self._show_sizes('Predict',yhat_classes)\n",
    "        print('Valid sizes',X_valid.shape,y_valid.shape)\n",
    "        print('Range of scores:',np.min(yhat_pred),'to',np.max(yhat_pred))\n",
    "        print('Score threshold',self.score_threshold)\n",
    "\n",
    "        accuracy = accuracy_score(y_valid, yhat_classes)*100.\n",
    "        precision = precision_score(y_valid, yhat_classes)*100.\n",
    "        recall = recall_score(y_valid, yhat_classes)*100.\n",
    "        f1 = f1_score(y_valid, yhat_classes)*100.\n",
    "        prc_Y, prc_X, prc_bins = precision_recall_curve(y_valid, yhat_pred)\n",
    "        auprc = auc(prc_X,prc_Y)*100.\n",
    "        auroc = roc_auc_score(y_valid, yhat_pred)*100.\n",
    "        mcc = matthews_corrcoef(y_valid, yhat_classes)\n",
    "        if PRETTY_PICTURES:\n",
    "            self._pretty_pictures(y_valid,yhat_pred,prc_X,prc_Y)\n",
    "            print('Accuracy: %.2f%% Precision: %.2f%% Recall: %.2f%%' % (accuracy,precision,recall)) \n",
    "            print('F1: %.2f%% MCC: %.2f%%' % (f1,mcc)) \n",
    "            print('AUPRC: %.2f%% AUROC: %.2f%%' % (auprc,auroc)) \n",
    "        self.cv_accuracy.append(accuracy)\n",
    "        self.cv_precision.append(precision)\n",
    "        self.cv_recall.append(recall)\n",
    "        self.cv_f1.append(f1)\n",
    "        self.cv_mcc.append(mcc)\n",
    "        self.cv_auprc.append(auprc)\n",
    "        self.cv_auroc.append(auroc)\n",
    "\n",
    "    def _pretty_pictures(self,y_valid,yhat_pred,prc_X,prc_Y):\n",
    "        count_ones= len(y_valid[y_valid==1])\n",
    "        count_zeros= len(y_valid[y_valid==0])\n",
    "        guess = max(count_ones,count_zeros) / len(y_valid)\n",
    "        # PRC\n",
    "        plt.plot(prc_X, prc_Y, marker='.')\n",
    "        plt.plot([0, 1], [guess,guess], linestyle='--')\n",
    "        plt.xlabel('Recall')\n",
    "        plt.ylabel('Precision')\n",
    "        plt.show()\n",
    "        # ROC\n",
    "        fpr, tpr, roc_bins = roc_curve(y_valid, yhat_pred)\n",
    "        plt.plot(fpr, tpr, marker='.')\n",
    "        plt.xlabel('False Positive Rate')\n",
    "        plt.ylabel('True Positive Rate')\n",
    "        plt.show()\n",
    "        \n",
    "    def load_cnn(self,filename):\n",
    "        self.model = keras.models.load_model(filename)\n",
    "        \n",
    "    def load_gmm(self,filename):\n",
    "        gmm = pickle.load(open(filename,'rb'))\n",
    "        self.discriminator = gmm\n",
    "        \n",
    "    def save_cnn(self,filename):\n",
    "        self.model.save(filename)\n",
    "        \n",
    "    def save_gmm(self,filename):\n",
    "        if self.mechanism == 'RCI_GMM':\n",
    "            gmm=self.discriminator\n",
    "            pickle.dump(gmm, open(filename,'wb'))\n",
    "        \n",
    "    def get_statistics(self):\n",
    "        return \\\n",
    "        self.cv_accuracy,\\\n",
    "        self.cv_precision,\\\n",
    "        self.cv_recall,\\\n",
    "        self.cv_f1,\\\n",
    "        self.cv_mcc,\\\n",
    "        self.cv_auprc,\\\n",
    "        self.cv_auroc\n"
   ]
  },
  {
   "cell_type": "markdown",
   "metadata": {
    "id": "Td97uyyj5qDq"
   },
   "source": [
    "## Train"
   ]
  },
  {
   "cell_type": "code",
   "execution_count": 10,
   "metadata": {
    "colab": {
     "base_uri": "https://localhost:8080/",
     "height": 1000
    },
    "id": "XC9m0W-pFLBH",
    "outputId": "5af81d89-511b-41be-a3e7-05b7a9d3f900",
    "scrolled": false
   },
   "outputs": [
    {
     "name": "stdout",
     "output_type": "stream",
     "text": [
      "2023-03-11 18:41:52.925339\n",
      "Number of RCI values loaded 4369\n",
      "Num RCI: 4369\n",
      "Load sequence...\n",
      "Loaded 19301 sequences.\n",
      "Training...\n",
      "2023-03-11 18:42:23.468639\n",
      "Discriminator is GMM\n",
      "Means [1.4363416352604474, -0.18563426001690153]\n",
      "Variances [2.40467844 7.89863319]\n",
      "Priors [0.731338 0.268662]\n",
      "[-5, -4, -3.5, -3, -2.5, -2, -1.5, -1, -0.5, 0, 0.5, 1, 1.5, 2, 3]\n",
      "[0 0 0 0 0 0 0 1 1 1 1 1 1 1 1]\n",
      "FIT\n",
      "2023-03-11 18:42:42.186250\n",
      "Epoch 1/12\n",
      "604/604 [==============================] - 18s 11ms/step - loss: 0.6990 - accuracy: 0.5277\n",
      "Epoch 2/12\n",
      "604/604 [==============================] - 7s 11ms/step - loss: 0.6629 - accuracy: 0.6043\n",
      "Epoch 3/12\n",
      "604/604 [==============================] - 7s 11ms/step - loss: 0.5955 - accuracy: 0.6769\n",
      "Epoch 4/12\n",
      "604/604 [==============================] - 7s 12ms/step - loss: 0.5168 - accuracy: 0.7472\n",
      "Epoch 5/12\n",
      "604/604 [==============================] - 6s 11ms/step - loss: 0.4259 - accuracy: 0.8009\n",
      "Epoch 6/12\n",
      "604/604 [==============================] - 6s 11ms/step - loss: 0.3299 - accuracy: 0.8543\n",
      "Epoch 7/12\n",
      "604/604 [==============================] - 7s 11ms/step - loss: 0.2428 - accuracy: 0.8983\n",
      "Epoch 8/12\n",
      "604/604 [==============================] - 6s 10ms/step - loss: 0.1841 - accuracy: 0.9240\n",
      "Epoch 9/12\n",
      "604/604 [==============================] - 7s 11ms/step - loss: 0.1358 - accuracy: 0.9436\n",
      "Epoch 10/12\n",
      "604/604 [==============================] - 7s 11ms/step - loss: 0.1227 - accuracy: 0.9525\n",
      "Epoch 11/12\n",
      "604/604 [==============================] - 7s 11ms/step - loss: 0.1162 - accuracy: 0.9529\n",
      "Epoch 12/12\n",
      "604/604 [==============================] - 6s 10ms/step - loss: 0.0755 - accuracy: 0.9701\n",
      "PREDICT\n",
      "2023-03-11 18:45:06.750583\n",
      "train class weights 1:0  0.56: 4.76\n",
      "Train 1:0 17275:2026 89.50%\n",
      "Predict 1:0 16766:2535 86.87%\n",
      "Valid sizes (19301, 4997) (19301,)\n",
      "Range of scores: 4.7455508e-33 to 1.0\n",
      "Score threshold 0.5\n"
     ]
    },
    {
     "data": {
      "image/png": "[encoded data removed]",
      "text/plain": [
       "<Figure size 432x288 with 1 Axes>"
      ]
     },
     "metadata": {
      "needs_background": "light"
     },
     "output_type": "display_data"
    },
    {
     "data": {
      "image/png": "[encoded data removed]",
      "text/plain": [
       "<Figure size 432x288 with 1 Axes>"
      ]
     },
     "metadata": {
      "needs_background": "light"
     },
     "output_type": "display_data"
    },
    {
     "name": "stdout",
     "output_type": "stream",
     "text": [
      "Accuracy: 97.35% Precision: 99.99% Recall: 97.05%\n",
      "F1: 98.50% MCC: 0.88%\n",
      "AUPRC: 99.99% AUROC: 99.94%\n"
     ]
    },
    {
     "name": "stderr",
     "output_type": "stream",
     "text": [
      "WARNING:absl:Found untraced functions such as _jit_compiled_convolution_op while saving (showing 1 of 1). These functions will not be directly callable after loading.\n"
     ]
    },
    {
     "name": "stdout",
     "output_type": "stream",
     "text": [
      " accuracy [97.35246878400083]\n",
      " precision [99.99403554813313]\n",
      " recall [97.04775687409551]\n",
      " F1 [98.49886901089863]\n",
      " MCC [0.8802166914973607]\n",
      " AUPRC [99.99291404775869]\n",
      " AUROC [99.93829707292892]\n",
      "2023-03-11 18:45:15.421646\n"
     ]
    }
   ],
   "source": [
    "print(datetime.now())\n",
    "loader = DataLoader()\n",
    "filepath = DATA_DIR+RCI_FILE_TRAIN\n",
    "gene_to_rci = loader.load_gene_rci_values(filepath,EXCLUSIONS)\n",
    "print('Num RCI:', len(gene_to_rci.keys()))\n",
    "print('Load sequence...')\n",
    "filepath = DATA_DIR+SEQUENCE_TRAIN\n",
    "allids,allseq = loader.load_sequence(filepath)\n",
    "print('Loaded',len(allseq),'sequences.')\n",
    "loader = None  # drop K-mer cache to save RAM\n",
    "\n",
    "print(\"Training...\")\n",
    "cvdo = CrossValidator(EPOCHS,FOLDS,BREAK)\n",
    "cvdo.set_sequences(allids,allseq)\n",
    "cvdo.set_rci_map(gene_to_rci)\n",
    "cvdo.set_threshold_mechanism(RCI_THRESHOLD_MECHANISM)\n",
    "cvdo.train_without_validation()\n",
    "filepath = DATA_DIR+GMM_FILE\n",
    "cvdo.save_gmm(filepath)\n",
    "filepath = DATA_DIR+CNN_FILE\n",
    "cvdo.save_cnn(filepath)\n",
    "\n",
    "cv_accuracy,cv_precision,cv_recall,cv_f1,cv_mcc,cv_auprc,cv_auroc=\\\n",
    "    cvdo.get_statistics()\n",
    "\n",
    "def STD (values):\n",
    "    return np.std(values,ddof=1)\n",
    "\n",
    "print(\" accuracy\" ,  cv_accuracy)\n",
    "print(\" precision\" , cv_precision)\n",
    "print(\" recall\" ,    cv_recall)\n",
    "print(\" F1\" ,        cv_f1)\n",
    "print(\" MCC\" ,       cv_mcc)\n",
    "print(\" AUPRC\" ,     cv_auprc)\n",
    "print(\" AUROC\" ,     cv_auroc)\n",
    "\n",
    "print(datetime.now())"
   ]
  },
  {
   "cell_type": "markdown",
   "metadata": {
    "id": "pTlQpO9e5qDt"
   },
   "source": [
    "## Test"
   ]
  },
  {
   "cell_type": "code",
   "execution_count": 11,
   "metadata": {
    "colab": {
     "base_uri": "https://localhost:8080/",
     "height": 1000
    },
    "id": "INadHJr95qDu",
    "outputId": "cf638f4e-babb-49b5-959e-367b1322c52d",
    "scrolled": false
   },
   "outputs": [
    {
     "name": "stdout",
     "output_type": "stream",
     "text": [
      "2023-03-11 18:45:15.439912\n",
      "Number of RCI values loaded 1096\n",
      "Num RCI: 1096\n",
      "Load sequence...\n",
      "Loaded 6248 sequences.\n",
      "Testing...\n",
      "2023-03-11 18:45:26.511781\n",
      "Discriminator is GMM\n",
      "Means [1.4363416352604474, -0.18563426001690153]\n",
      "Variances [2.40467844 7.89863319]\n",
      "Priors [0.731338 0.268662]\n",
      "[-5, -4, -3.5, -3, -2.5, -2, -1.5, -1, -0.5, 0, 0.5, 1, 1.5, 2, 3]\n",
      "[0 0 0 0 0 0 0 1 1 1 1 1 1 1 1]\n",
      "PREDICT\n",
      "2023-03-11 18:45:28.132302\n",
      "train class weights 1:0  0.55: 5.79\n",
      "Train 1:0 5708:540 91.36%\n",
      "Predict 1:0 5234:1014 83.77%\n",
      "Valid sizes (6248, 4997) (6248,)\n",
      "Range of scores: 4.2879645e-08 to 1.0\n",
      "Score threshold 0.5\n"
     ]
    },
    {
     "data": {
      "image/png": "[encoded data removed]",
      "text/plain": [
       "<Figure size 432x288 with 1 Axes>"
      ]
     },
     "metadata": {
      "needs_background": "light"
     },
     "output_type": "display_data"
    },
    {
     "data": {
      "image/png": "[encoded data removed]",
      "text/plain": [
       "<Figure size 432x288 with 1 Axes>"
      ]
     },
     "metadata": {
      "needs_background": "light"
     },
     "output_type": "display_data"
    },
    {
     "name": "stdout",
     "output_type": "stream",
     "text": [
      "Accuracy: 78.39% Precision: 91.63% Recall: 84.02%\n",
      "F1: 87.66% MCC: 0.02%\n",
      "AUPRC: 92.65% AUROC: 54.43%\n",
      " accuracy [78.393085787452]\n",
      " precision [91.63163928162018]\n",
      " recall [84.02242466713385]\n",
      " F1 [87.66221897276549]\n",
      " MCC [0.0221866640877823]\n",
      " AUPRC [92.6538338033742]\n",
      " AUROC [54.429131303693325]\n",
      "2023-03-11 18:45:30.224083\n"
     ]
    }
   ],
   "source": [
    "print(datetime.now())\n",
    "loader = DataLoader()\n",
    "filepath = DATA_DIR+RCI_FILE_TEST\n",
    "gene_to_rci = loader.load_gene_rci_values(filepath,EXCLUSIONS)\n",
    "print('Num RCI:', len(gene_to_rci.keys()))\n",
    "print('Load sequence...')\n",
    "filepath = DATA_DIR+SEQUENCE_TEST\n",
    "allids,allseq = loader.load_sequence(filepath)\n",
    "print('Loaded',len(allseq),'sequences.')\n",
    "loader = None  # drop K-mer cache to save RAM\n",
    "\n",
    "print(\"Testing...\")\n",
    "cvdo = CrossValidator(EPOCHS,FOLDS,BREAK)\n",
    "cvdo.set_sequences(allids,allseq)\n",
    "cvdo.set_rci_map(gene_to_rci)\n",
    "cvdo.set_threshold_mechanism(RCI_THRESHOLD_MECHANISM)\n",
    "filepath = DATA_DIR+GMM_FILE\n",
    "cvdo.load_gmm(filepath)\n",
    "filepath = DATA_DIR+CNN_FILE\n",
    "cvdo.load_cnn(filepath)\n",
    "cvdo.test_without_training()\n",
    "\n",
    "cv_accuracy,cv_precision,cv_recall,cv_f1,cv_mcc,cv_auprc,cv_auroc=\\\n",
    "    cvdo.get_statistics()\n",
    "\n",
    "def STD (values):\n",
    "    return np.std(values,ddof=1)\n",
    "\n",
    "print(\" accuracy\" ,  cv_accuracy)\n",
    "print(\" precision\" , cv_precision)\n",
    "print(\" recall\" ,    cv_recall)\n",
    "print(\" F1\" ,        cv_f1)\n",
    "print(\" MCC\" ,       cv_mcc)\n",
    "print(\" AUPRC\" ,     cv_auprc)\n",
    "print(\" AUROC\" ,     cv_auroc)\n",
    "\n",
    "print(datetime.now())"
   ]
  },
  {
   "cell_type": "code",
   "execution_count": 11,
   "metadata": {
    "id": "HkCeDg_HdQ36"
   },
   "outputs": [],
   "source": []
  }
 ],
 "metadata": {
  "accelerator": "GPU",
  "colab": {
   "provenance": []
  },
  "gpuClass": "standard",
  "kernelspec": {
   "display_name": "Python 3 (ipykernel)",
   "language": "python",
   "name": "python3"
  },
  "language_info": {
   "codemirror_mode": {
    "name": "ipython",
    "version": 3
   },
   "file_extension": ".py",
   "mimetype": "text/x-python",
   "name": "python",
   "nbconvert_exporter": "python",
   "pygments_lexer": "ipython3",
   "version": "3.10.0"
  }
 },
 "nbformat": 4,
 "nbformat_minor": 1
}
