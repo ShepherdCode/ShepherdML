{
 "cells": [
  {
   "cell_type": "markdown",
   "metadata": {
    "id": "PG-tGRnlFLA3"
   },
   "source": [
    "# CNN + GlobalAvgPool \n",
    "Based on CNN 107 which got 75% acc on H1 coding len 2000-4000.  \n",
    "Model: Embed mask, Conv1D, GlobalAvgPool.   \n",
    "\n",
    "H1 coding len 3000-4000.  \n",
    "Cross validation 5 folds 5 epochs, accuracy mean , F1 mean \n",
    "\n",
    "Same as CNN 118 but switch cell line 1 to 5."
   ]
  },
  {
   "cell_type": "code",
   "execution_count": 186,
   "metadata": {
    "colab": {
     "base_uri": "https://localhost:8080/"
    },
    "id": "0RmwUsVLFLA6",
    "outputId": "c509f92a-1b16-4b84-f3c3-63e0a3cbc771"
   },
   "outputs": [
    {
     "name": "stdout",
     "output_type": "stream",
     "text": [
      "2022-12-29 16:15:23.475554\n",
      "Python 3.8.16\n",
      "sklearn 1.0.2\n"
     ]
    }
   ],
   "source": [
    "from datetime import datetime\n",
    "print(datetime.now())\n",
    "from platform import python_version\n",
    "print('Python',python_version())\n",
    "import numpy as np\n",
    "import pandas as pd\n",
    "from matplotlib import pyplot as plt \n",
    "import sklearn   # pip install --upgrade scikit-learn\n",
    "print('sklearn',sklearn.__version__)"
   ]
  },
  {
   "cell_type": "markdown",
   "metadata": {
    "id": "tUtGXPrcFLA8"
   },
   "source": [
    "We prevously used sklearn.model_selection.ShuffleSplit   \n",
    "Now we avoid it due to this note in the \n",
    "[documentation](https://scikit-learn.org/stable/modules/generated/sklearn.model_selection.ShuffleSplit.html):\n",
    "Note: contrary to other cross-validation strategies, random splits do not guarantee that all folds will be different, although this is still very likely for sizeable datasets."
   ]
  },
  {
   "cell_type": "code",
   "execution_count": 187,
   "metadata": {
    "id": "PRX-UEr8FLA8"
   },
   "outputs": [],
   "source": [
    "import tensorflow as tf\n",
    "dt='float32'\n",
    "tf.keras.backend.set_floatx('float32')\n",
    "tf.random.set_seed(42) \n",
    "\n",
    "from tensorflow import keras\n",
    "from sklearn.model_selection import KFold\n",
    "from sklearn.metrics import accuracy_score\n",
    "from sklearn.metrics import precision_score\n",
    "from sklearn.metrics import recall_score\n",
    "from sklearn.metrics import f1_score\n",
    "\n",
    "from keras.models import Sequential\n",
    "from keras.layers import Masking\n",
    "from keras.layers import Embedding\n",
    "from keras.layers import Conv1D\n",
    "from keras.layers import MaxPooling1D\n",
    "from keras.layers import GlobalAveragePooling1D\n",
    "from keras.layers import GlobalMaxPooling1D\n",
    "from keras.layers import Flatten\n",
    "from keras.layers import Attention\n",
    "from keras.layers import Bidirectional\n",
    "from keras.layers import LSTM\n",
    "from keras.layers import Dense\n",
    "from keras.layers import Dropout\n",
    "from keras.losses import BinaryCrossentropy\n",
    "\n",
    "K=4\n",
    "RCI_THRESHOLD=0.0\n",
    "CFILTERS=64\n",
    "FILTERSIZE=8\n",
    "RCELLS=16\n",
    "DCELLS=8\n",
    "EPOCHS=5\n",
    "FOLDS=5      \n",
    "EMBED_DIMEN = 4 # arbitrary hyperparameter\n",
    "BREAK = False   # break after first fold\n",
    "MINLEN=3000\n",
    "MAXLEN=4000   "
   ]
  },
  {
   "cell_type": "code",
   "execution_count": 188,
   "metadata": {
    "colab": {
     "base_uri": "https://localhost:8080/"
    },
    "id": "OlzN9OdsFWEU",
    "outputId": "a7cf56a6-9655-48bc-fcab-569d4b26298d"
   },
   "outputs": [
    {
     "name": "stdout",
     "output_type": "stream",
     "text": [
      "Running on CoLab\n",
      "Drive already mounted at /content/drive/; to attempt to forcibly remount, call drive.mount(\"/content/drive/\", force_remount=True).\n",
      "/content/drive/My Drive/data/Localization/TrainTest/\n"
     ]
    }
   ],
   "source": [
    "try:\n",
    "    from google.colab import drive\n",
    "    IN_COLAB = True\n",
    "    print('Running on CoLab')\n",
    "    PATH='/content/drive/'\n",
    "    drive.mount(PATH)\n",
    "    DATA_DIR=PATH+'My Drive/data/Localization/TrainTest/'  # must end in \"/\"\n",
    "except:\n",
    "    IN_COLAB = False\n",
    "    DATA_DIR = 'D:/Adjeroh/Localization/TrainTest/'   # Windows\n",
    "    DATA_DIR = '/Users/jasonmiller/WVU/Localization/TrainTest/'    # Mac\n",
    "print(DATA_DIR)"
   ]
  },
  {
   "cell_type": "code",
   "execution_count": 189,
   "metadata": {
    "id": "LnkpVKdMFLA-"
   },
   "outputs": [],
   "source": [
    "GENES_FILE =    'CNRCI_coding_train_genes.csv'\n",
    "RCI_FILE =      'CNRCI_coding_train_RCI.gc42.csv'\n",
    "SEQUENCE_FILE = 'CNRCI_coding_train_transcripts.gc42.csv'\n",
    "COUNTS_FILE=    'CNRCI_coding_train_counts.K4.gc42.csv'"
   ]
  },
  {
   "cell_type": "code",
   "execution_count": 190,
   "metadata": {
    "colab": {
     "base_uri": "https://localhost:8080/"
    },
    "id": "e3p4QzQJFLA_",
    "outputId": "5c8db5f5-4bed-46d0-b313-9894049aec15"
   },
   "outputs": [
    {
     "name": "stdout",
     "output_type": "stream",
     "text": [
      "Cell line for today: 5 = HUVEC\n"
     ]
    }
   ],
   "source": [
    "def get_ordered_list():\n",
    "    ordered_list = \\\n",
    "    ['A549',\\\n",
    "      'H1.hESC',\\\n",
    "      'HeLa.S3',\\\n",
    "      'HepG2',\\\n",
    "      'HT1080',\\\n",
    "      'HUVEC',\\\n",
    "      'MCF.7',\\\n",
    "      'NCI.H460',\\\n",
    "      'NHEK',\\\n",
    "      'SK.MEL.5',\\\n",
    "      'SK.N.DZ',\\\n",
    "      'SK.N.SH',\\\n",
    "      'GM12878',\\\n",
    "      'K562',\\\n",
    "      'IMR.90']\n",
    "    return ordered_list\n",
    "CELL_LINE_NUMBER=5\n",
    "all_cell_lines = get_ordered_list()\n",
    "cell_line_name = all_cell_lines[CELL_LINE_NUMBER]\n",
    "print('Cell line for today:',CELL_LINE_NUMBER,'=',cell_line_name)"
   ]
  },
  {
   "cell_type": "markdown",
   "metadata": {
    "id": "UtqdpJOxFLBA"
   },
   "source": [
    "## Data Load"
   ]
  },
  {
   "cell_type": "code",
   "execution_count": 191,
   "metadata": {
    "colab": {
     "base_uri": "https://localhost:8080/"
    },
    "id": "p35ehKV3Kq0z",
    "outputId": "f69f42c6-f1ba-4aef-832d-22dc19abc264"
   },
   "outputs": [
    {
     "name": "stdout",
     "output_type": "stream",
     "text": [
      "[1, 1]\n",
      "[20, 16]\n",
      "[63, 57]\n",
      "[64, 0]\n",
      "0\n",
      "1\n"
     ]
    }
   ],
   "source": [
    "class DataLoader():\n",
    "    def __init__(self):\n",
    "        self.cache=dict() \n",
    "        self.vals = {'A':0, 'C':1, 'G':2, 'T':3}\n",
    "        \n",
    "    def load_gene_rci_values(self,filepath,cell_line):\n",
    "        '''\n",
    "        Load from RCI csv file.\n",
    "        Return dict with keys=gene:str and values=RCI:float.\n",
    "        '''\n",
    "        gene_to_rci = {}\n",
    "        with open (filepath,'r') as handle:\n",
    "            header = None\n",
    "            for row in handle:\n",
    "                if header is None:\n",
    "                    header = row # skip file's header line\n",
    "                else:\n",
    "                    line = row.strip()\n",
    "                    fields = line.split(',')\n",
    "                    gene_id = fields[0]\n",
    "                    rci_val = fields[cell_line+1]\n",
    "                    if rci_val != \"nan\":\n",
    "                        # Convert string nan to float(nan)\n",
    "                        gene_to_rci[gene_id] = float(rci_val)\n",
    "        return gene_to_rci\n",
    "    \n",
    "    def seq_to_kmer_values(self,rna,K):\n",
    "        # The cache may represent more than one K. Probably not a problem.\n",
    "        N_indicator = 0 # indicator value\n",
    "        vec=[] # seq converted to list of K-mers \n",
    "        length = len(rna)\n",
    "        for i in range(length-K+1):\n",
    "            kmer = rna[i:i+K]\n",
    "            if 'N' in kmer:\n",
    "                value = N_indicator\n",
    "            elif kmer in self.cache.keys():\n",
    "                value = self.cache[kmer]\n",
    "            else:\n",
    "                value = 0\n",
    "                for j in range(K):\n",
    "                    value *= 4   \n",
    "                    nextnuc = kmer[j] \n",
    "                    nucval = self.vals[nextnuc]\n",
    "                    value += nucval\n",
    "                value += 1   # NNN => 0, AAA => 1\n",
    "                self.cache[kmer] = value\n",
    "            vec.append(value)\n",
    "        return vec\n",
    "\n",
    "    def rci_to_label(self,rci):\n",
    "        CYTO_LABEL = 1\n",
    "        NUCLEAR_LABEL = 0\n",
    "        # cnrci = log (cyto-to-nuclear ratio)\n",
    "        # rci > 0 implies cytoplasmic\n",
    "        if rci > RCI_THRESHOLD:\n",
    "            return CYTO_LABEL\n",
    "        return NUCLEAR_LABEL\n",
    "\n",
    "    def load_sequence(self,filepath):\n",
    "        labels=[]\n",
    "        allids=[]\n",
    "        allseq=[]\n",
    "        NREPEAT = str('N'*MAXLEN)\n",
    "        with open (filepath,'r') as handle:\n",
    "            header = None\n",
    "            for row in handle:\n",
    "                if header is None:\n",
    "                    header = row\n",
    "                else:\n",
    "                    line    = row.strip()\n",
    "                    fields  = line.split(',')\n",
    "                    tran_id = fields[0]  # with version number\n",
    "                    gene_id = fields[1]        # without version number\n",
    "                    seq_len = int(fields[3])\n",
    "                    seq_txt = fields[4]\n",
    "                    if seq_len>=MINLEN and seq_len<=MAXLEN and gene_id in gene_to_rci.keys():\n",
    "                        allids.append( (gene_id,tran_id) )\n",
    "                        rci_val = gene_to_rci[gene_id]\n",
    "                        rci_label = self.rci_to_label(rci_val)\n",
    "                        labels.append(rci_label)\n",
    "                        if seq_len<MAXLEN:\n",
    "                            seq_txt = seq_txt + NREPEAT\n",
    "                            seq_txt = seq_txt[:MAXLEN]\n",
    "                        hot_vec = self.seq_to_kmer_values(seq_txt,K)\n",
    "                        allseq.append(hot_vec)\n",
    "        return labels,allids,allseq\n",
    "    \n",
    "loader = DataLoader()\n",
    "# test it\n",
    "print(loader.seq_to_kmer_values('AAAA',3))\n",
    "print(loader.seq_to_kmer_values('CATT',3))\n",
    "print(loader.seq_to_kmer_values('TTGA',3))\n",
    "print(loader.seq_to_kmer_values('TTTN',3))\n",
    "# test it\n",
    "print(loader.rci_to_label(-0.9))\n",
    "print(loader.rci_to_label(1.1))"
   ]
  },
  {
   "cell_type": "code",
   "execution_count": 192,
   "metadata": {
    "colab": {
     "base_uri": "https://localhost:8080/"
    },
    "id": "cYoYDc93FLBB",
    "outputId": "a10d4b43-a59b-4a70-be81-4b8c485d3957"
   },
   "outputs": [
    {
     "name": "stdout",
     "output_type": "stream",
     "text": [
      "2022-12-29 16:15:26.278820\n",
      "Load RCI values...\n",
      "Num RCI: 10257\n",
      "Example RCI: [('ENSG00000000003', 1.28494), ('ENSG00000000419', 1.27546), ('ENSG00000000457', -0.853779)]\n",
      "Load genes...\n",
      "2022-12-29 16:15:26.307969\n",
      "Load sequence...\n",
      "2022-12-29 16:15:35.967102\n",
      "Num IDs: 5722\n",
      "Example IDs: [('ENSG00000008130', 'ENST00000341991.7'), ('ENSG00000069424', 'ENST00000669250.1'), ('ENSG00000171680', 'ENST00000673471.2'), ('ENSG00000173614', 'ENST00000377205.6')]\n",
      "Count 2044 ones out of 5722 labels.\n",
      "Example labels: [0, 0, 0, 1]\n",
      "Num counts: 5722\n",
      "Example sequence: [150, 88, 96, 126, 247, 219, 107, 172, 174, 182, 214, 85, 82, 69, 19, 76, 48, 192, 254, 246, 213, 83, 74, 38, 151, 90, 102, 151, 90, 104, 158, 120, 222, 118, 216, 94, 117, 211, 76, 47, 186, 230, 150, 87, 91, 108, 175, 187, 234, 166, 150, 85, 83, 75, 41, 163, 139, 43, 170, 166, 152, 95, 123, 235, 169, 163, 138, 38, 150, 87, 89, 97, 131, 10, 38, 151, 92, 110, 182, 214, 86, 87, 89, 99, 140, 46, 183, 218, 104, 158, 118, 216, 93, 115, 203, 44, 174, 181, 210, 72, 31, 123, 234, 167, 154, 103, 153, 100, 143, 58, 231, 155, 107, 170, 166, 151, 92, 110, 182, 216, 94, 120, 222, 119, 219, 106, 168, 159, 121, 228, 143, 59, 235, 172, 176, 191, 251, 233, 161, 131, 10, 38, 150, 85, 83, 74, 39, 153, 99, 139, 42, 168, 157, 115, 201, 35, 139, 42, 166, 149, 83, 76, 46, 182, 214, 85, 81, 65, 3, 12, 48, 192, 254, 246, 213, 83, 75, 42, 165, 148, 78, 53, 211, 75, 43, 170, 168, 159, 122, 229, 147, 74, 38, 150, 85, 83, 75, 41, 163, 138, 38, 152, 94, 117, 209, 67, 11, 42, 167, 155, 106, 166, 150, 87, 91, 106, 167, 155, 107, 170, 167, 153, 98, 136, 31, 123, 233, 162, 135, 27, 106, 166, 151, 91, 105, 162, 133, 19, 75, 44, 174, 182, 214, 87, 89, 99, 138, 37, 147, 74, 38, 150, 86, 87, 90, 102, 150, 85, 81, 66, 5, 20, 79, 59, 233, 162, 134, 22, 85, 83, 73, 34, 134, 22, 86, 86, 85, 83, 75, 42, 167, 155, 107, 170, 167, 156, 111, 186, 229, 147, 75, 44, 175, 187, 235, 170, 165, 148, 79, 58, 231, 155, 107, 172, 175, 187, 236, 175, 186, 231, 154, 103, 155, 106, 167, 156, 111, 187, 233, 162, 136, 31, 123, 233, 161, 131, 12, 47, 187, 235, 171, 170, 166, 149, 83, 74, 37, 147, 75, 41, 162, 135, 27, 106, 167, 155, 106, 167, 153, 99, 139, 43, 170, 167, 155, 106, 167, 156, 111, 187, 235, 170, 165, 146, 71, 27, 108, 175, 187, 236, 175, 187, 233, 163, 138, 40, 160, 127, 251, 234, 166, 151, 90, 102, 149, 82, 71, 27, 106, 165, 147, 74, 38, 150, 86, 88, 94, 119, 217, 98, 133, 18, 70, 22, 87, 89, 98, 134, 23, 90, 101, 146, 69, 19, 76, 47, 187, 236, 174, 183, 220, 111, 186, 229, 147, 76, 47, 187, 235, 169, 162, 134, 21, 83, 75, 43, 170, 165, 146, 71, 26, 103, 154, 101, 146, 70, 21, 81, 66, 8, 29, 114, 198, 23, 90, 103, 154, 102, 151, 91, 106, 168, 157, 114, 198, 21, 83, 75, 43, 170, 167, 154, 103, 154, 101, 146, 71, 25, 98, 134, 24, 95, 122, 232, 159, 122, 232, 159, 124, 237, 178, 199, 25, 98, 133, 17, 66, 7, 26, 102, 150, 85, 83, 73, 36, 142, 55, 219, 106, 167, 156, 110, 182, 215, 91, 106, 165, 146, 70, 22, 86, 85, 81, 66, 5, 20, 78, 53, 212, 78, 56, 223, 124, 239, 185, 226, 136, 31, 122, 232, 159, 122, 229, 145, 67, 9, 33, 131, 10, 37, 146, 71, 27, 107, 170, 168, 159, 122, 231, 155, 107, 171, 171, 169, 164, 143, 58, 231, 154, 104, 159, 123, 233, 161, 131, 12, 47, 186, 230, 151, 92, 111, 188, 239, 188, 239, 186, 230, 152, 95, 123, 233, 162, 136, 29, 114, 199, 25, 98, 134, 24, 94, 120, 223, 122, 229, 146, 71, 26, 101, 147, 76, 47, 186, 232, 157, 114, 197, 20, 79, 58, 229, 146, 69, 17, 66, 5, 17, 67, 10, 37, 148, 79, 57, 227, 138, 40, 158, 119, 218, 102, 150, 85, 82, 71, 26, 102, 152, 96, 126, 247, 217, 98, 134, 23, 90, 104, 157, 114, 199, 25, 99, 137, 34, 134, 23, 90, 104, 158, 117, 210, 72, 30, 119, 218, 103, 154, 102, 150, 88, 95, 124, 238, 181, 210, 69, 18, 72, 31, 121, 227, 140, 46, 182, 214, 86, 87, 90, 102, 149, 83, 75, 43, 170, 166, 152, 94, 118, 214, 87, 89, 99, 139, 41, 164, 142, 54, 214, 85, 82, 72, 29, 113, 195, 11, 43, 171, 170, 165, 148, 78, 56, 224, 126, 246, 213, 83, 75, 43, 169, 163, 138, 39, 153, 97, 131, 11, 44, 175, 187, 236, 175, 186, 231, 153, 99, 139, 42, 166, 150, 86, 87, 89, 98, 136, 31, 123, 235, 169, 163, 140, 47, 187, 235, 171, 170, 168, 158, 117, 210, 69, 19, 75, 41, 164, 143, 59, 233, 163, 139, 43, 171, 169, 161, 131, 11, 43, 169, 161, 129, 2, 6, 23, 91, 107, 170, 166, 151, 92, 111, 188, 239, 187, 236, 175, 187, 233, 162, 133, 20, 78, 54, 215, 92, 111, 187, 234, 168, 159, 123, 235, 169, 164, 143, 60, 239, 187, 233, 163, 137, 34, 133, 19, 75, 42, 166, 151, 91, 105, 163, 140, 47, 188, 239, 187, 234, 166, 149, 83, 74, 39, 156, 111, 185, 226, 135, 28, 111, 187, 235, 170, 168, 159, 121, 228, 143, 59, 236, 173, 178, 198, 21, 82, 70, 21, 81, 68, 15, 60, 239, 188, 237, 178, 198, 23, 92, 111, 188, 239, 187, 235, 170, 166, 149, 82, 69, 17, 67, 11, 43, 170, 165, 145, 67, 11, 44, 175, 187, 233, 162, 134, 24, 94, 117, 209, 67, 12, 47, 188, 239, 188, 239, 187, 235, 170, 167, 153, 99, 139, 42, 165, 147, 74, 39, 155, 107, 170, 167, 155, 106, 168, 160, 126, 248, 221, 114, 200, 29, 114, 197, 17, 67, 11, 41, 162, 134, 21, 82, 70, 24, 94, 118, 214, 85, 81, 67, 11, 42, 168, 158, 119, 219, 106, 165, 145, 67, 10, 38, 151, 91, 106, 167, 155, 105, 163, 138, 40, 159, 122, 229, 147, 74, 39, 154, 101, 147, 75, 43, 172, 175, 185, 227, 140, 47, 186, 232, 159, 121, 226, 133, 19, 74, 38, 149, 83, 74, 38, 150, 88, 96, 126, 246, 213, 83, 74, 37, 146, 71, 27, 107, 171, 169, 162, 133, 17, 67, 11, 44, 174, 181, 209, 67, 12, 47, 188, 238, 184, 223, 122, 232, 159, 123, 233, 162, 133, 18, 72, 31, 121, 228, 143, 60, 238, 182, 216, 95, 122, 231, 155, 107, 169, 163, 137, 36, 143, 58, 229, 147, 75, 41, 161, 131, 11, 42, 166, 149, 82, 71, 27, 106, 167, 155, 106, 168, 159, 123, 233, 161, 130, 6, 22, 86, 85, 83, 75, 41, 164, 143, 59, 234, 167, 155, 105, 163, 140, 48, 192, 253, 244, 206, 55, 219, 105, 162, 133, 19, 73, 34, 135, 27, 107, 170, 165, 146, 70, 23, 92, 111, 186, 229, 148, 78, 55, 220, 109, 180, 206, 53, 210, 71, 27, 105, 162, 134, 23, 90, 103, 155, 107, 171, 169, 162, 135, 28, 111, 186, 231, 154, 103, 156, 111, 186, 229, 147, 76, 48, 190, 245, 209, 66, 6, 21, 82, 71, 25, 99, 137, 34, 135, 26, 103, 154, 104, 159, 123, 233, 162, 134, 24, 96, 126, 246, 213, 82, 70, 22, 86, 87, 91, 107, 171, 170, 167, 154, 104, 158, 117, 210, 70, 21, 81, 67, 10, 37, 146, 70, 21, 82, 72, 30, 118, 216, 96, 126, 248, 223, 123, 235, 172, 175, 187, 235, 170, 167, 153, 98, 135, 28, 111, 187, 236, 174, 182, 215, 91, 107, 172, 174, 181, 212, 78, 55, 219, 106, 167, 153, 98, 134, 24, 96, 127, 249, 226, 133, 18, 69, 19, 76, 47, 185, 225, 131, 10, 39, 155, 106, 168, 159, 122, 229, 147, 75, 42, 168, 159, 123, 235, 170, 165, 148, 79, 59, 234, 167, 153, 99, 140, 47, 187, 233, 162, 135, 27, 105, 162, 135, 25, 98, 133, 20, 79, 59, 234, 166, 150, 86, 88, 95, 122, 230, 150, 88, 95, 123, 235, 170, 166, 151, 90, 103, 156, 110, 183, 219, 107, 169, 161, 131, 11, 44, 175, 187, 236, 175, 185, 225, 129, 3, 12, 47, 188, 240, 192, 255, 251, 233, 163, 137, 34, 135, 27, 107, 169, 161, 130, 6, 24, 95, 122, 231, 156, 111, 188, 237, 179, 202, 37, 147, 76, 46, 183, 218, 104, 159, 123, 236, 174, 181, 211, 74, 39, 155, 108, 175, 187, 233, 162, 134, 24, 96, 126, 245, 211, 74, 38, 150, 86, 88, 94, 118, 216, 95, 122, 230, 152, 95, 123, 236, 175, 187, 234, 166, 152, 93, 114, 198, 23, 91, 106, 166, 150, 87, 89, 99, 139, 41, 163, 139, 41, 164, 143, 58, 230, 149, 81, 66, 6, 24, 95, 123, 233, 162, 135, 28, 111, 187, 234, 166, 151, 89, 99, 138, 39, 154, 103, 154, 102, 150, 87, 91, 107, 169, 163, 137, 33, 130, 5, 17, 65, 1, 3, 10, 40, 158, 117, 210, 72, 31, 121, 227, 138, 39, 156, 111, 187, 234, 166, 150, 88, 95, 123, 233, 162, 133, 17, 67, 10, 40, 160, 126, 247, 219, 107, 170, 166, 150, 85, 83, 73, 33, 131, 9, 35, 140, 47, 185, 226, 134, 22, 85, 83, 73, 35, 138, 37, 146, 70, 22, 87, 91, 107, 169, 161, 131, 11, 42, 168, 159, 123, 236, 175, 187, 236, 175, 187, 233, 163, 139, 44, 175, 187, 234, 167, 154, 104, 159, 123, 235, 172, 173, 177, 194, 7, 26, 101, 147, 74, 38, 150, 87, 91, 107, 170, 168, 158, 120, 223, 123, 233, 162, 134, 24, 95, 122, 232, 159, 122, 231, 155, 105, 163, 139, 42, 167, 154, 102, 150, 85, 83, 73, 35, 138, 37, 147, 75, 44, 175, 187, 233, 162, 133, 18, 70, 21, 81, 67, 9, 33, 130, 6, 21, 81, 67, 11, 42, 165, 147, 75, 41, 162, 134, 23, 90, 104, 158, 120, 223, 122, 229, 145, 67, 12, 47, 187, 234, 168, 159, 122, 230, 152, 93, 114, 198, 24, 95, 123, 235, 170, 166, 149, 83, 75, 44, 175, 187, 233, 163, 140, 48, 191, 249, 228, 141, 50, 199, 27, 106, 168, 159, 122, 232, 159, 122, 232, 157, 114, 197, 17, 67, 10, 38, 149, 83, 75, 43, 170, 167, 155, 107, 170, 167, 156, 111, 187, 233, 162, 134, 24, 95, 122, 230, 151, 91, 105, 162, 135, 25, 98, 135, 25, 99, 139, 43, 170, 165, 145, 66, 5, 18, 71, 27, 106, 165, 146, 72, 31, 122, 229, 146, 72, 29, 114, 199, 26, 103, 155, 106, 166, 150, 88, 95, 123, 235, 171, 169, 161, 130, 6, 21, 83, 74, 38, 150, 87, 89, 99, 139, 42, 166, 149, 82, 70, 21, 83, 75, 43, 172, 175, 186, 232, 158, 118, 216, 95, 121, 227, 140, 47, 186, 232, 159, 123, 235, 172, 175, 186, 230, 151, 91, 107, 170, 167, 155, 105, 162, 135, 26, 102, 149, 84, 78, 53, 209, 66, 5, 19, 74, 37, 146, 70, 22, 85, 83, 73, 35, 138, 37, 146, 69, 19, 74, 37, 146, 72, 31, 122, 229, 146, 71, 28, 111, 187, 234, 166, 151, 92, 111, 186, 229, 147, 73, 35, 139, 43, 171, 170, 168, 160, 126, 246, 216, 95, 123, 233, 163, 139, 44, 175, 187, 236, 175, 186, 231, 155, 107, 170, 166, 150, 88, 95, 124, 239, 188, 239, 185, 227, 138, 39, 154, 103, 155, 106, 168, 159, 124, 239, 185, 226, 135, 28, 110, 181, 209, 66, 6, 24, 95, 122, 230, 150, 87, 89, 98, 135, 26, 102, 150, 85, 82, 72, 30, 119, 219, 105, 162, 133, 18, 71, 26, 102, 150, 86, 88, 95, 122, 229, 146, 72, 30, 118, 215, 90, 102, 149, 84, 78, 56, 222, 119, 219, 106, 167, 155, 107, 170, 165, 146, 72, 31, 123, 233, 163, 138, 38, 149, 83, 74, 39, 155, 106, 165, 148, 80, 63, 252, 238, 183, 217, 99, 139, 44, 174, 182, 216, 94, 117, 210, 71, 27, 105, 163, 139, 44, 175, 186, 230, 149, 81, 65, 2, 5, 20, 78, 55, 217, 100, 143, 60, 240, 189, 242, 198, 23, 90, 102, 149, 82, 70, 21, 81, 66, 5, 19, 74, 38, 149, 83, 75, 43, 172, 176, 192, 254, 245, 210, 70, 22, 88, 95, 122, 232, 159, 122, 229, 146, 70, 21, 84, 79, 58, 230, 152, 94, 118, 214, 88, 94, 117, 209, 67, 11, 43, 172, 174, 181, 210, 71, 26, 103, 154, 104, 157, 115, 202, 40, 159, 124, 239, 185, 227, 137, 33, 129, 3, 9, 36, 144, 62, 248, 223, 123, 234, 168, 158, 119, 219, 107, 170, 167, 154, 103, 155, 106, 165, 147, 74, 40, 159, 123, 236, 175, 187, 233, 162, 135, 26, 102, 149, 81, 67, 9, 33, 131, 11, 41, 163, 139, 41, 162, 135, 27, 106, 168, 160, 126, 245, 210, 71, 27, 106, 167, 154, 104, 159, 122, 229, 148, 78, 56, 223, 123, 234, 168, 159, 122, 230, 150, 88, 94, 117, 209, 66, 5, 17, 66, 6, 21, 82, 70, 23, 90, 103, 153, 99, 139, 44, 175, 187, 234, 166, 150, 85, 83, 73, 36, 142, 54, 216, 94, 117, 212, 78, 54, 215, 91, 107, 169, 163, 139, 43, 170, 166, 151, 90, 104, 159, 124, 239, 185, 226, 135, 28, 111, 185, 225, 130, 7, 28, 111, 186, 231, 154, 101, 145, 66, 6, 23, 91, 105, 161, 131, 10, 40, 159, 122, 229, 147, 76, 46, 182, 214, 86, 87, 90, 104, 159, 122, 229, 148, 78, 56, 222, 119, 218, 102, 151, 92, 111, 186, 229, 145, 66, 5, 19, 75, 42, 166, 150, 85, 82, 71, 28, 111, 187, 235, 171, 170, 168, 159, 123, 236, 175, 186, 230, 151, 90, 104, 157, 114, 200, 31, 123, 236, 175, 187, 233, 162, 135, 26, 104, 159, 123, 235, 172, 175, 186, 229, 147, 76, 47, 188, 238, 181, 209, 66, 7, 26, 102, 151, 89, 99, 139, 41, 162, 135, 25, 99, 139, 41, 163, 139, 43, 171, 171, 169, 162, 133, 18, 69, 19, 74, 38, 150, 88, 95, 122, 229, 146, 71, 28, 111, 187, 234, 167, 154, 104, 159, 122, 229, 147, 74, 39, 156, 110, 181, 212, 78, 53, 211, 74, 40, 159, 122, 232, 159, 122, 230, 150, 86, 88, 95, 123, 236, 175, 187, 234, 168, 159, 121, 228, 143, 59, 235, 171, 170, 166, 151, 91, 107, 171, 171, 171, 171, 169, 162, 134, 22, 85, 83, 75, 43, 170, 166, 150, 88, 96, 127, 250, 229, 147, 74, 40, 159, 122, 232, 159, 124, 238, 182, 213, 83, 75, 42, 168, 157, 114, 197, 19, 75, 42, 166, 152, 94, 119, 219, 107, 170, 166, 152, 94, 118, 214, 86, 87, 91, 106, 165, 147, 74, 39, 154, 103, 155, 105, 163, 138, 40, 159, 121, 226, 135, 27, 108, 175, 187, 235, 170, 167, 154, 103, 155, 106, 167, 155, 108, 174, 183, 218, 102, 152, 95, 122, 232, 160, 126, 246, 216, 95, 123, 234, 167, 154, 104, 159, 123, 233, 163, 139, 43, 170, 167, 154, 102, 151, 89, 98, 135, 28, 111, 185, 227, 138, 40, 157, 114, 197, 18, 70, 21, 81, 66, 6, 21, 82, 70, 23, 90, 103, 155, 108, 174, 183, 219, 105, 163, 138, 38, 150, 87, 90, 104, 159, 123, 233, 162, 134, 24, 95, 123, 234, 166, 151, 90, 102, 151, 89, 99, 139, 43, 172, 174, 183, 218, 103, 156, 111, 186, 232, 158, 117, 209, 67, 11, 42, 166, 150, 88, 96, 126, 245, 211, 75, 43, 170, 168, 159, 122, 231, 154, 102, 150, 85, 83, 74, 39, 154, 104, 160, 126, 246, 215, 91, 107, 169, 163, 138, 39, 155, 106, 165, 147, 75, 42, 167, 155, 107, 170, 167, 155, 107, 171, 171, 170, 167, 154, 103, 155, 106, 166, 150, 86, 87, 91, 107, 170, 166, 150, 86, 85, 83, 75, 42, 165, 145, 65, 2, 7, 26, 104, 158, 119, 219, 107, 169, 162, 134, 22, 86, 86, 85, 81, 66, 5, 18, 70, 23, 92, 111, 185, 226, 135, 25, 97, 130, 6, 24, 95, 122, 229, 146, 71, 28, 111, 187, 235, 170, 167, 154, 102, 151, 90, 103, 154, 102, 151, 91, 107, 171, 170, 166, 150, 87, 89, 99, 139, 42, 166, 151, 90, 104, 159, 121, 227, 140, 47, 186, 230, 152, 95, 123, 236, 175, 188, 239, 186, 232, 158, 118, 215, 89, 99, 138, 40, 159, 123, 234, 167, 154, 104, 159, 122, 232, 159, 123, 236, 175, 186, 232, 159, 124, 240, 190, 248, 222, 119, 218, 102, 151, 92, 111, 186, 230, 149, 83, 74, 37, 146, 70, 23, 90, 101, 146, 70, 23, 92, 111, 188, 239, 188, 239, 185, 227, 139, 41, 163, 140, 47, 186, 231, 154, 103, 154, 103, 154, 101, 147, 75, 41, 164, 143, 57, 225, 131, 9, 33, 131, 12, 47, 186, 229, 148, 78, 53, 211, 75, 44, 175, 186, 230, 149, 83, 75, 44, 175, 187, 236, 174, 183, 220, 110, 181, 211, 74, 37, 145, 67, 9, 33, 129, 2, 8, 31, 122, 231, 154, 102, 150, 85, 83, 73, 34, 135, 27, 106, 168, 158, 120, 223, 121, 227, 139, 44, 175, 187, 234, 167, 153, 99, 138, 39, 154, 102, 151, 90, 102, 150, 86, 86, 87, 90, 102, 150, 86, 86, 87, 91, 106, 166, 150, 87, 90, 102, 151, 90, 103, 154, 102, 149, 83, 74, 40, 159, 123, 236, 175, 187, 233, 163, 139, 41, 163, 138, 40, 159, 122, 229, 147, 73, 35, 138, 38, 151, 90, 104, 157, 114, 198, 23, 91, 106, 165, 147, 73, 36, 143, 59, 233, 163, 139, 41, 161, 130, 7, 26, 101, 148, 78, 53, 210, 70, 24, 95, 122, 230, 150, 86, 85, 84, 78, 56, 223, 122, 229, 148, 78, 55, 217, 98, 133, 19, 74, 38, 149, 82, 69, 20, 78, 54, 215, 90, 102, 152, 94, 119, 220, 111, 188, 240, 190, 246, 213, 83, 76, 47, 186, 231, 155, 106, 166, 149, 82, 71, 27, 106, 167, 154, 101, 148, 79, 58, 231, 154, 102, 150, 86, 86, 88, 95, 122, 231, 155, 106, 168, 158, 118, 215, 90, 103, 154, 104, 158, 117, 211, 74, 39, 154, 102, 152, 95, 122, 230, 150, 86, 85, 84, 78, 56, 223, 122, 230, 151, 90, 102, 149, 83, 74, 38, 150, 85, 84, 78, 54, 215, 90, 103, 153, 98, 134, 23, 90, 101, 148, 78, 54, 213, 83, 73, 36, 142, 56, 224, 126, 247, 220, 111, 188, 239, 185, 227, 138, 38, 151, 90, 103, 154, 102, 151, 92, 110, 182, 215, 90, 102, 151, 90, 103, 154, 102, 150, 87, 89, 99, 138, 40, 159, 122, 230, 152, 96, 126, 247, 218, 103, 156, 111, 186, 230, 150, 86, 86, 87, 90, 102, 150, 88, 95, 124, 239, 188, 240, 192, 256, 253, 244, 205, 49, 193, 1, 1, 3, 9, 33, 129, 3, 9, 36, 144, 62, 248, 222, 119, 219, 105, 0, 0, 0, 0, 0, 0, 0, 0, 0, 0, 0, 0, 0, 0, 0, 0, 0, 0, 0, 0, 0, 0, 0, 0, 0, 0, 0, 0, 0, 0, 0, 0, 0, 0, 0, 0, 0, 0, 0, 0, 0, 0, 0, 0, 0, 0, 0, 0, 0, 0, 0, 0, 0, 0, 0, 0, 0, 0, 0, 0, 0, 0, 0, 0, 0, 0, 0, 0, 0, 0, 0, 0, 0, 0, 0, 0, 0, 0, 0, 0, 0, 0, 0, 0, 0, 0, 0, 0, 0, 0, 0, 0, 0, 0, 0, 0, 0, 0, 0, 0, 0, 0, 0, 0, 0, 0, 0, 0, 0, 0, 0, 0, 0, 0, 0, 0, 0, 0, 0, 0, 0, 0, 0, 0, 0, 0, 0, 0, 0, 0, 0, 0, 0, 0, 0, 0, 0, 0, 0, 0, 0, 0, 0, 0, 0, 0, 0, 0, 0, 0, 0, 0, 0, 0, 0, 0, 0, 0, 0, 0, 0, 0, 0, 0, 0, 0, 0, 0, 0, 0, 0, 0, 0, 0, 0, 0, 0, 0, 0, 0, 0, 0, 0, 0, 0, 0, 0, 0, 0, 0, 0, 0, 0, 0, 0, 0, 0, 0, 0, 0, 0, 0, 0, 0, 0, 0, 0, 0, 0, 0, 0, 0, 0, 0, 0, 0, 0, 0, 0, 0, 0, 0, 0, 0, 0, 0, 0, 0, 0, 0, 0, 0, 0, 0, 0, 0, 0, 0, 0, 0, 0, 0, 0, 0, 0, 0, 0, 0, 0, 0, 0, 0, 0, 0, 0, 0, 0, 0, 0, 0, 0, 0, 0, 0, 0, 0, 0, 0, 0, 0, 0, 0, 0, 0, 0, 0, 0, 0, 0, 0, 0, 0, 0, 0, 0, 0, 0, 0, 0, 0, 0, 0, 0, 0, 0, 0, 0, 0, 0, 0, 0, 0, 0, 0, 0, 0, 0, 0, 0, 0, 0, 0, 0, 0, 0, 0, 0, 0, 0, 0, 0, 0, 0, 0, 0, 0, 0, 0, 0, 0, 0, 0, 0, 0, 0, 0, 0, 0, 0, 0, 0, 0, 0, 0, 0, 0, 0, 0, 0, 0, 0, 0, 0, 0, 0, 0, 0, 0, 0, 0, 0, 0, 0, 0, 0, 0, 0, 0, 0, 0, 0, 0, 0, 0, 0, 0, 0, 0, 0, 0, 0, 0, 0, 0, 0, 0, 0, 0, 0, 0, 0, 0, 0, 0, 0, 0, 0, 0, 0, 0, 0, 0, 0, 0, 0, 0, 0, 0, 0, 0, 0, 0, 0, 0, 0, 0, 0, 0, 0, 0, 0, 0, 0, 0, 0, 0, 0, 0, 0, 0, 0, 0, 0, 0, 0, 0, 0, 0, 0, 0, 0, 0, 0, 0, 0, 0, 0, 0, 0, 0, 0, 0, 0, 0, 0, 0, 0, 0, 0, 0, 0, 0, 0, 0, 0, 0, 0, 0, 0, 0, 0, 0, 0, 0, 0, 0, 0, 0, 0, 0, 0, 0, 0, 0, 0, 0, 0, 0, 0, 0, 0, 0, 0, 0, 0, 0, 0, 0, 0, 0, 0, 0, 0, 0, 0, 0, 0, 0, 0, 0, 0, 0, 0, 0, 0, 0, 0, 0, 0, 0, 0, 0, 0, 0, 0, 0, 0, 0, 0, 0, 0, 0, 0, 0, 0, 0, 0, 0, 0, 0, 0, 0, 0, 0, 0, 0, 0, 0, 0, 0, 0, 0, 0, 0, 0, 0, 0, 0, 0, 0, 0, 0, 0, 0, 0, 0, 0, 0, 0, 0, 0, 0, 0, 0, 0, 0, 0, 0, 0, 0, 0, 0, 0, 0, 0, 0, 0, 0, 0, 0, 0, 0, 0, 0, 0, 0, 0, 0, 0, 0, 0, 0, 0, 0, 0, 0, 0, 0, 0, 0, 0, 0, 0, 0, 0, 0, 0, 0, 0, 0, 0, 0, 0, 0, 0, 0, 0, 0, 0, 0, 0, 0, 0, 0, 0, 0, 0, 0, 0, 0, 0, 0, 0, 0, 0, 0, 0, 0, 0, 0, 0, 0, 0, 0, 0, 0, 0, 0, 0, 0, 0, 0, 0, 0, 0, 0, 0, 0, 0, 0, 0, 0, 0, 0, 0, 0, 0, 0, 0, 0, 0, 0, 0, 0, 0, 0, 0, 0, 0, 0, 0, 0, 0, 0, 0, 0, 0, 0, 0, 0, 0, 0, 0, 0, 0, 0, 0, 0, 0, 0, 0, 0, 0, 0, 0, 0, 0, 0, 0, 0, 0, 0, 0, 0, 0, 0, 0, 0, 0, 0, 0, 0, 0, 0, 0, 0, 0, 0, 0, 0, 0, 0, 0, 0, 0, 0, 0, 0, 0, 0, 0, 0, 0, 0, 0, 0, 0, 0, 0, 0, 0, 0, 0, 0, 0, 0, 0, 0, 0, 0, 0, 0, 0, 0, 0, 0, 0, 0, 0, 0, 0, 0, 0, 0, 0, 0, 0, 0, 0, 0, 0, 0, 0, 0]\n"
     ]
    }
   ],
   "source": [
    "print(datetime.now())\n",
    "print(\"Load RCI values...\")\n",
    "loader = DataLoader()\n",
    "filepath = DATA_DIR+RCI_FILE\n",
    "gene_to_rci = loader.load_gene_rci_values(filepath,CELL_LINE_NUMBER)\n",
    "print('Num RCI:', len(gene_to_rci.keys()))\n",
    "print('Example RCI:', list(gene_to_rci.items())[:3])\n",
    "print(\"Load genes...\")\n",
    "all_genes = list(gene_to_rci.keys())\n",
    "print(datetime.now())\n",
    "print('Load sequence...')\n",
    "filepath = DATA_DIR+SEQUENCE_FILE\n",
    "labels,allids,allseq = loader.load_sequence(filepath)\n",
    "print(datetime.now())\n",
    "print('Num IDs:',len(allids))\n",
    "print('Example IDs:',[allids[x] for x in [10, 20, 30, 40]] )\n",
    "print('Count',np.count_nonzero(labels),'ones out of',len(labels),'labels.')\n",
    "print('Example labels:',[labels[x] for x in [10, 20, 30, 40]] )\n",
    "print('Num counts:',len(allseq))\n",
    "print('Example sequence:',allseq[3])\n",
    "loader = None  # drop K-mer cache to save RAM"
   ]
  },
  {
   "cell_type": "markdown",
   "metadata": {
    "id": "VDZ6siB_Kq04"
   },
   "source": [
    "## Model"
   ]
  },
  {
   "cell_type": "code",
   "execution_count": 193,
   "metadata": {
    "id": "AwMbRjm0FLBF"
   },
   "outputs": [],
   "source": [
    "def build_model():\n",
    "    ALPHABET=4**K+1  # NUMBER OF DISTINCT KMERS POSSIBLE, add one if N gets mask value\n",
    "    ADJUST_LENGTH = MAXLEN-K+1  # fixed length sequences\n",
    "    rnn = Sequential()\n",
    "    embed_layer = Embedding(ALPHABET,EMBED_DIMEN,input_length=ADJUST_LENGTH,mask_zero=True)   \n",
    "    cnn1_layer = Conv1D(CFILTERS, FILTERSIZE)\n",
    "    #rnn1_layer = Bidirectional( LSTM(RCELLS, return_sequences=False) )\n",
    "    #pool_layer = MaxPooling1D(pool_size=3)\n",
    "    pool_layer = GlobalAveragePooling1D()\n",
    "    #pool_layer = GlobalMaxPooling1D()\n",
    "    flat_layer = Flatten()\n",
    "    den1_layer = Dense(DCELLS)\n",
    "    drop_layer = Dropout(0.5)\n",
    "    output_layer = Dense(1,activation='sigmoid',dtype=dt)\n",
    "\n",
    "    rnn.add(embed_layer)\n",
    "    rnn.add(cnn1_layer)\n",
    "    rnn.add(pool_layer)\n",
    "    #rnn.add(flat_layer)\n",
    "    #rnn.add(den1_layer)\n",
    "    #rnn.add(drop_layer)\n",
    "    rnn.add(output_layer)\n",
    "\n",
    "    bc=BinaryCrossentropy(from_logits=False)\n",
    "    print(\"COMPILE\")\n",
    "    rnn.compile(loss=bc, optimizer=\"Adam\",metrics=[\"accuracy\"])\n",
    "    return rnn"
   ]
  },
  {
   "cell_type": "code",
   "execution_count": 194,
   "metadata": {
    "colab": {
     "base_uri": "https://localhost:8080/"
    },
    "id": "clj-wufgFLBF",
    "outputId": "c735c3eb-5594-486c-85f3-4c059c76a8c8"
   },
   "outputs": [
    {
     "name": "stdout",
     "output_type": "stream",
     "text": [
      "2022-12-29 16:15:36.103937\n",
      "COMPILE\n",
      "Model: \"sequential_97\"\n",
      "_________________________________________________________________\n",
      " Layer (type)                Output Shape              Param #   \n",
      "=================================================================\n",
      " embedding_97 (Embedding)    (None, 3997, 4)           1028      \n",
      "                                                                 \n",
      " conv1d_97 (Conv1D)          (None, 3990, 64)          2112      \n",
      "                                                                 \n",
      " global_average_pooling1d_84  (None, 64)               0         \n",
      "  (GlobalAveragePooling1D)                                       \n",
      "                                                                 \n",
      " dense_193 (Dense)           (None, 1)                 65        \n",
      "                                                                 \n",
      "=================================================================\n",
      "Total params: 3,205\n",
      "Trainable params: 3,205\n",
      "Non-trainable params: 0\n",
      "_________________________________________________________________\n",
      "None\n"
     ]
    }
   ],
   "source": [
    "print(datetime.now())\n",
    "model=build_model()\n",
    "print(model.summary())  # Print this only once"
   ]
  },
  {
   "cell_type": "markdown",
   "metadata": {
    "id": "MgrC1alOKq07"
   },
   "source": [
    "## Training"
   ]
  },
  {
   "cell_type": "code",
   "execution_count": 195,
   "metadata": {
    "id": "W9xiFzNbFLBE"
   },
   "outputs": [],
   "source": [
    "class CrossValidator():\n",
    "    def __init__(self,epochs,folds,quick_test=False,pred_threshold=0.5):\n",
    "        self.epochs = epochs\n",
    "        self.folds = folds\n",
    "        self.quick_test = quick_test\n",
    "        self.threshold = pred_threshold # e.g. score>0.5 => class 1\n",
    "    \n",
    "    def get_gene_subset(self,all_genes,sub_index):\n",
    "        sub_genes = set()\n",
    "        for index in sub_index:\n",
    "            one_gene = all_genes[index]\n",
    "            sub_genes.add(one_gene)\n",
    "        return sub_genes\n",
    "    \n",
    "    def get_X_y(self,gene_set,allids,allX,allY):\n",
    "        cnt = len(allids)\n",
    "        subsetX=[]\n",
    "        subsetY=[]\n",
    "        if cnt != len(allX) or cnt!= len(allY):\n",
    "            raise Exception('Lengths differ')\n",
    "        for i in range(cnt):\n",
    "            gene_id,tran_id = allids[i]\n",
    "            if gene_id in gene_set:\n",
    "                oneX = allX[i]\n",
    "                oneY = allY[i]\n",
    "                subsetX.append(oneX)\n",
    "                subsetY.append(oneY)\n",
    "        subsetX = np.array(subsetX)\n",
    "        subsetY = np.array(subsetY).reshape((-1,1))\n",
    "        return subsetX,subsetY\n",
    "    \n",
    "    def do_cross_validation(self):\n",
    "        cv_accuracy=[]\n",
    "        cv_precision=[]\n",
    "        cv_recall=[]\n",
    "        cv_f1=[]\n",
    "        fold=0\n",
    "        print(datetime.now())\n",
    "        print('splitting')\n",
    "        # KFold shuffles once before making the partitions\n",
    "        splitter = KFold(n_splits=self.folds,shuffle=True,random_state=42)\n",
    "        for train_index,valid_index in splitter.split(all_genes):\n",
    "            fold += 1\n",
    "            print('Fold',fold)\n",
    "            train_genes = self.get_gene_subset(all_genes,train_index)\n",
    "            valid_genes = self.get_gene_subset(all_genes,valid_index)\n",
    "            X_train,y_train = self.get_X_y(train_genes,allids,allseq,labels)\n",
    "            X_valid,y_valid = self.get_X_y(valid_genes,allids,allseq,labels)\n",
    "\n",
    "            print('Training example')\n",
    "            print(X_train[0])\n",
    "\n",
    "            print('Train sizes',X_train.shape,y_train.shape)\n",
    "            print('Valid sizes',X_valid.shape,y_valid.shape)\n",
    "            print('Train set ones/size',\n",
    "                  np.count_nonzero(y_train),'/',len(y_train))\n",
    "            print('Valid set ones/size',\n",
    "                  np.count_nonzero(y_valid),'/',len(y_valid))\n",
    "\n",
    "            print(\"BUILD MODEL\")\n",
    "            model=build_model()\n",
    "\n",
    "            print(\"FIT\")\n",
    "            print(datetime.now())\n",
    "            history=model.fit(X_train, y_train, # batch_size=10, default=32 works nicely\n",
    "                    epochs=self.epochs, verbose=1,  # verbose=1 for ascii art, verbose=0 for none\n",
    "                    validation_data=(X_valid,y_valid) )\n",
    "\n",
    "            pd.DataFrame(history.history).plot(figsize=(8,5))\n",
    "            plt.grid(True)\n",
    "            plt.gca().set_ylim(0,1)\n",
    "            plt.show()\n",
    "\n",
    "            print(\"Compute valiation accuracy\")\n",
    "            print(datetime.now())\n",
    "            yhat_pred=model.predict(X_valid, verbose=0) \n",
    "            print('Range of scores:',np.min(yhat_pred),'to',np.max(yhat_pred))\n",
    "            yhat_classes=np.where(yhat_pred > self.threshold, 1, 0)\n",
    "            print('Predicted zeros and ones',np.count_nonzero(yhat_classes==0),np.count_nonzero(yhat_classes==1))\n",
    "            # accuracy: (tp + tn) / (p + n)\n",
    "            accuracy = accuracy_score(y_valid, yhat_classes)*100.\n",
    "            # precision tp / (tp + fp)\n",
    "            precision = precision_score(y_valid, yhat_classes)*100.\n",
    "            # recall: tp / (tp + fn)\n",
    "            recall = recall_score(y_valid, yhat_classes)*100.\n",
    "            # f1: 2 tp / (2 tp + fp + fn)\n",
    "            f1 = f1_score(y_valid, yhat_classes)*100.\n",
    "            print('Accuracy: %.2f%% Precision: %.2f%% Recall: %.2f%% F1: %.2f%%' % (accuracy,precision,recall,f1)) \n",
    "            print(datetime.now())\n",
    "            cv_accuracy.append(accuracy)\n",
    "            cv_precision.append(precision)\n",
    "            cv_recall.append(recall)\n",
    "            cv_f1.append(f1)\n",
    "            if self.quick_test:   \n",
    "                print('Break -- this was for code testing only')\n",
    "                break\n",
    "        print()\n",
    "        return cv_accuracy, cv_precision, cv_recall, cv_f1"
   ]
  },
  {
   "cell_type": "code",
   "execution_count": 196,
   "metadata": {
    "colab": {
     "base_uri": "https://localhost:8080/",
     "height": 1000
    },
    "id": "XC9m0W-pFLBH",
    "outputId": "d9ecfe33-6719-4cf6-b9e5-7a82333c4526",
    "scrolled": false
   },
   "outputs": [
    {
     "name": "stdout",
     "output_type": "stream",
     "text": [
      "2022-12-29 16:15:36.269605\n",
      "2022-12-29 16:15:36.270212\n",
      "splitting\n",
      "Fold 1\n",
      "Training example\n",
      "[158 117 210 ...   0   0   0]\n",
      "Train sizes (4618, 3997) (4618, 1)\n",
      "Valid sizes (1104, 3997) (1104, 1)\n",
      "Train set ones/size 1660 / 4618\n",
      "Valid set ones/size 384 / 1104\n",
      "BUILD MODEL\n",
      "COMPILE\n",
      "FIT\n",
      "2022-12-29 16:15:37.658218\n",
      "Epoch 1/5\n",
      "145/145 [==============================] - 2s 9ms/step - loss: 0.6553 - accuracy: 0.6390 - val_loss: 0.6375 - val_accuracy: 0.6522\n",
      "Epoch 2/5\n",
      "145/145 [==============================] - 1s 7ms/step - loss: 0.6376 - accuracy: 0.6423 - val_loss: 0.6251 - val_accuracy: 0.6549\n",
      "Epoch 3/5\n",
      "145/145 [==============================] - 1s 7ms/step - loss: 0.6237 - accuracy: 0.6585 - val_loss: 0.6122 - val_accuracy: 0.6703\n",
      "Epoch 4/5\n",
      "145/145 [==============================] - 1s 7ms/step - loss: 0.6081 - accuracy: 0.6752 - val_loss: 0.6129 - val_accuracy: 0.6757\n",
      "Epoch 5/5\n",
      "145/145 [==============================] - 1s 7ms/step - loss: 0.6018 - accuracy: 0.6871 - val_loss: 0.6000 - val_accuracy: 0.6784\n"
     ]
    },
    {
     "data": {
      "image/png": "[encoded data removed]",
      "text/plain": [
       "<Figure size 576x360 with 1 Axes>"
      ]
     },
     "metadata": {
      "needs_background": "light"
     },
     "output_type": "display_data"
    },
    {
     "name": "stdout",
     "output_type": "stream",
     "text": [
      "Compute valiation accuracy\n",
      "2022-12-29 16:15:48.697581\n",
      "Range of scores: 0.05649546 to 0.82876116\n",
      "Predicted zeros and ones 923 181\n",
      "Accuracy: 67.84% Precision: 58.01% Recall: 27.34% F1: 37.17%\n",
      "2022-12-29 16:15:48.917325\n",
      "Fold 2\n",
      "Training example\n",
      "[ 62 246 215 ...   0   0   0]\n",
      "Train sizes (4593, 3997) (4593, 1)\n",
      "Valid sizes (1129, 3997) (1129, 1)\n",
      "Train set ones/size 1665 / 4593\n",
      "Valid set ones/size 379 / 1129\n",
      "BUILD MODEL\n",
      "COMPILE\n",
      "FIT\n",
      "2022-12-29 16:15:50.301298\n",
      "Epoch 1/5\n",
      "144/144 [==============================] - 2s 9ms/step - loss: 0.6588 - accuracy: 0.6373 - val_loss: 0.6385 - val_accuracy: 0.6643\n",
      "Epoch 2/5\n",
      "144/144 [==============================] - 1s 7ms/step - loss: 0.6366 - accuracy: 0.6399 - val_loss: 0.6368 - val_accuracy: 0.6714\n",
      "Epoch 3/5\n",
      "144/144 [==============================] - 1s 7ms/step - loss: 0.6233 - accuracy: 0.6599 - val_loss: 0.6349 - val_accuracy: 0.6590\n",
      "Epoch 4/5\n",
      "144/144 [==============================] - 1s 7ms/step - loss: 0.6086 - accuracy: 0.6791 - val_loss: 0.6189 - val_accuracy: 0.6616\n",
      "Epoch 5/5\n",
      "144/144 [==============================] - 1s 7ms/step - loss: 0.5982 - accuracy: 0.6889 - val_loss: 0.6064 - val_accuracy: 0.6732\n"
     ]
    },
    {
     "data": {
      "image/png": "[encoded data removed]",
      "text/plain": [
       "<Figure size 576x360 with 1 Axes>"
      ]
     },
     "metadata": {
      "needs_background": "light"
     },
     "output_type": "display_data"
    },
    {
     "name": "stdout",
     "output_type": "stream",
     "text": [
      "Compute valiation accuracy\n",
      "2022-12-29 16:16:01.336370\n",
      "Range of scores: 0.08461575 to 0.82653576\n",
      "Predicted zeros and ones 951 178\n",
      "Accuracy: 67.32% Precision: 52.81% Recall: 24.80% F1: 33.75%\n",
      "2022-12-29 16:16:01.592790\n",
      "Fold 3\n",
      "Training example\n",
      "[ 62 246 215 ...   0   0   0]\n",
      "Train sizes (4521, 3997) (4521, 1)\n",
      "Valid sizes (1201, 3997) (1201, 1)\n",
      "Train set ones/size 1565 / 4521\n",
      "Valid set ones/size 479 / 1201\n",
      "BUILD MODEL\n",
      "COMPILE\n",
      "FIT\n",
      "2022-12-29 16:16:03.014062\n",
      "Epoch 1/5\n",
      "142/142 [==============================] - 2s 9ms/step - loss: 0.6455 - accuracy: 0.6538 - val_loss: 0.6680 - val_accuracy: 0.6012\n",
      "Epoch 2/5\n",
      "142/142 [==============================] - 1s 7ms/step - loss: 0.6296 - accuracy: 0.6536 - val_loss: 0.6490 - val_accuracy: 0.6178\n",
      "Epoch 3/5\n",
      "142/142 [==============================] - 1s 7ms/step - loss: 0.6145 - accuracy: 0.6709 - val_loss: 0.6465 - val_accuracy: 0.6436\n",
      "Epoch 4/5\n",
      "142/142 [==============================] - 1s 7ms/step - loss: 0.5984 - accuracy: 0.6844 - val_loss: 0.6628 - val_accuracy: 0.6545\n",
      "Epoch 5/5\n",
      "142/142 [==============================] - 1s 7ms/step - loss: 0.5886 - accuracy: 0.6934 - val_loss: 0.6402 - val_accuracy: 0.6636\n"
     ]
    },
    {
     "data": {
      "image/png": "[encoded data removed]",
      "text/plain": [
       "<Figure size 576x360 with 1 Axes>"
      ]
     },
     "metadata": {
      "needs_background": "light"
     },
     "output_type": "display_data"
    },
    {
     "name": "stdout",
     "output_type": "stream",
     "text": [
      "Compute valiation accuracy\n",
      "2022-12-29 16:16:14.439117\n",
      "Range of scores: 0.0455082 to 0.8031274\n",
      "Predicted zeros and ones 1000 201\n",
      "Accuracy: 66.36% Precision: 68.66% Recall: 28.81% F1: 40.59%\n",
      "2022-12-29 16:16:14.691635\n",
      "Fold 4\n",
      "Training example\n",
      "[ 62 246 215 ...   0   0   0]\n",
      "Train sizes (4603, 3997) (4603, 1)\n",
      "Valid sizes (1119, 3997) (1119, 1)\n",
      "Train set ones/size 1678 / 4603\n",
      "Valid set ones/size 366 / 1119\n",
      "BUILD MODEL\n",
      "COMPILE\n",
      "FIT\n",
      "2022-12-29 16:16:16.063545\n",
      "Epoch 1/5\n",
      "144/144 [==============================] - 2s 9ms/step - loss: 0.6599 - accuracy: 0.6333 - val_loss: 0.6245 - val_accuracy: 0.6729\n",
      "Epoch 2/5\n",
      "144/144 [==============================] - 1s 7ms/step - loss: 0.6435 - accuracy: 0.6365 - val_loss: 0.6069 - val_accuracy: 0.6729\n",
      "Epoch 3/5\n",
      "144/144 [==============================] - 1s 8ms/step - loss: 0.6320 - accuracy: 0.6494 - val_loss: 0.5941 - val_accuracy: 0.6899\n",
      "Epoch 4/5\n",
      "144/144 [==============================] - 1s 7ms/step - loss: 0.6216 - accuracy: 0.6613 - val_loss: 0.5732 - val_accuracy: 0.7113\n",
      "Epoch 5/5\n",
      "144/144 [==============================] - 1s 7ms/step - loss: 0.6101 - accuracy: 0.6796 - val_loss: 0.5758 - val_accuracy: 0.7006\n"
     ]
    },
    {
     "data": {
      "image/png": "[encoded data removed]",
      "text/plain": [
       "<Figure size 576x360 with 1 Axes>"
      ]
     },
     "metadata": {
      "needs_background": "light"
     },
     "output_type": "display_data"
    },
    {
     "name": "stdout",
     "output_type": "stream",
     "text": [
      "Compute valiation accuracy\n",
      "2022-12-29 16:16:22.397473\n",
      "Range of scores: 0.08352949 to 0.8079798\n",
      "Predicted zeros and ones 818 301\n",
      "Accuracy: 70.06% Precision: 55.15% Recall: 45.36% F1: 49.78%\n",
      "2022-12-29 16:16:22.598376\n",
      "Fold 5\n",
      "Training example\n",
      "[ 62 246 215 ...   0   0   0]\n",
      "Train sizes (4553, 3997) (4553, 1)\n",
      "Valid sizes (1169, 3997) (1169, 1)\n",
      "Train set ones/size 1608 / 4553\n",
      "Valid set ones/size 436 / 1169\n",
      "BUILD MODEL\n",
      "COMPILE\n",
      "FIT\n",
      "2022-12-29 16:16:23.993446\n",
      "Epoch 1/5\n",
      "143/143 [==============================] - 2s 9ms/step - loss: 0.6517 - accuracy: 0.6422 - val_loss: 0.6525 - val_accuracy: 0.6270\n",
      "Epoch 2/5\n",
      "143/143 [==============================] - 1s 7ms/step - loss: 0.6361 - accuracy: 0.6477 - val_loss: 0.6351 - val_accuracy: 0.6253\n",
      "Epoch 3/5\n",
      "143/143 [==============================] - 1s 7ms/step - loss: 0.6207 - accuracy: 0.6655 - val_loss: 0.6191 - val_accuracy: 0.6638\n",
      "Epoch 4/5\n",
      "143/143 [==============================] - 1s 7ms/step - loss: 0.6072 - accuracy: 0.6780 - val_loss: 0.6142 - val_accuracy: 0.6672\n",
      "Epoch 5/5\n",
      "143/143 [==============================] - 1s 7ms/step - loss: 0.5953 - accuracy: 0.6839 - val_loss: 0.6099 - val_accuracy: 0.6886\n"
     ]
    },
    {
     "data": {
      "image/png": "[encoded data removed]",
      "text/plain": [
       "<Figure size 576x360 with 1 Axes>"
      ]
     },
     "metadata": {
      "needs_background": "light"
     },
     "output_type": "display_data"
    },
    {
     "name": "stdout",
     "output_type": "stream",
     "text": [
      "Compute valiation accuracy\n",
      "2022-12-29 16:16:30.349015\n",
      "Range of scores: 0.048421305 to 0.802393\n",
      "Predicted zeros and ones 949 220\n",
      "Accuracy: 68.86% Precision: 66.36% Recall: 33.49% F1: 44.51%\n",
      "2022-12-29 16:16:30.549451\n",
      "\n",
      "Cross validation 5 folds 5 epochs\n",
      " accuracy mean 68.09% +/- 1.28\n",
      " precision mean 60.20% +/- 6.24\n",
      " recall mean 31.96% +/- 7.27\n",
      " F1 mean 41.16% +/- 5.60\n",
      "2022-12-29 16:16:30.555682\n"
     ]
    }
   ],
   "source": [
    "print(datetime.now())\n",
    "cvdo = CrossValidator(EPOCHS,FOLDS,BREAK)\n",
    "cv_accuracy, cv_precision, cv_recall, cv_f1 = cvdo.do_cross_validation()   \n",
    "print(\"Cross validation %d folds %d epochs\" % (FOLDS,EPOCHS)) \n",
    "print(\" accuracy mean %.2f%% +/- %.2f\" % (np.mean(cv_accuracy), np.std(cv_accuracy)))\n",
    "print(\" precision mean %.2f%% +/- %.2f\" % (np.mean(cv_precision), np.std(cv_precision)))\n",
    "print(\" recall mean %.2f%% +/- %.2f\" % (np.mean(cv_recall), np.std(cv_recall)))\n",
    "print(\" F1 mean %.2f%% +/- %.2f\" % (np.mean(cv_f1), np.std(cv_f1)))\n",
    "print(datetime.now())"
   ]
  },
  {
   "cell_type": "code",
   "execution_count": 196,
   "metadata": {
    "id": "thQspN3Nga5S"
   },
   "outputs": [],
   "source": []
  }
 ],
 "metadata": {
  "accelerator": "GPU",
  "colab": {
   "provenance": []
  },
  "gpuClass": "standard",
  "kernelspec": {
   "display_name": "Python 3 (ipykernel)",
   "language": "python",
   "name": "python3"
  },
  "language_info": {
   "codemirror_mode": {
    "name": "ipython",
    "version": 3
   },
   "file_extension": ".py",
   "mimetype": "text/x-python",
   "name": "python",
   "nbconvert_exporter": "python",
   "pygments_lexer": "ipython3",
   "version": "3.10.0"
  }
 },
 "nbformat": 4,
 "nbformat_minor": 1
}
