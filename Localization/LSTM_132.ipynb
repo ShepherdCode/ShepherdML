{
 "cells": [
  {
   "cell_type": "markdown",
   "metadata": {
    "id": "PG-tGRnlFLA3"
   },
   "source": [
    "# LSTM\n",
    "Combined cell lines. LSTM 132. Coding 3-4K. \n",
    "\n",
    "Acc 70%, Prec 74%, Recall 90%, F1 81%."
   ]
  },
  {
   "cell_type": "code",
   "execution_count": 41,
   "metadata": {
    "colab": {
     "base_uri": "https://localhost:8080/"
    },
    "id": "0RmwUsVLFLA6",
    "outputId": "b0770a83-8f36-410b-bbc4-23e3777a04ef"
   },
   "outputs": [
    {
     "name": "stdout",
     "output_type": "stream",
     "text": [
      "2023-01-17 16:10:48.224615\n",
      "Python 3.8.16\n",
      "sklearn 1.0.2\n"
     ]
    }
   ],
   "source": [
    "from datetime import datetime\n",
    "print(datetime.now())\n",
    "from platform import python_version\n",
    "print('Python',python_version())\n",
    "import numpy as np\n",
    "import pandas as pd\n",
    "from matplotlib import pyplot as plt \n",
    "import sklearn   # pip install --upgrade scikit-learn\n",
    "print('sklearn',sklearn.__version__)"
   ]
  },
  {
   "cell_type": "markdown",
   "metadata": {
    "id": "tUtGXPrcFLA8"
   },
   "source": [
    "We prevously used sklearn.model_selection.ShuffleSplit   \n",
    "Now we avoid it due to this note in the \n",
    "[documentation](https://scikit-learn.org/stable/modules/generated/sklearn.model_selection.ShuffleSplit.html):\n",
    "Note: contrary to other cross-validation strategies, random splits do not guarantee that all folds will be different, although this is still very likely for sizeable datasets."
   ]
  },
  {
   "cell_type": "code",
   "execution_count": 42,
   "metadata": {
    "id": "PRX-UEr8FLA8"
   },
   "outputs": [],
   "source": [
    "import tensorflow as tf\n",
    "dt='float32'\n",
    "tf.keras.backend.set_floatx('float32')\n",
    "tf.random.set_seed(42) \n",
    "\n",
    "from tensorflow import keras\n",
    "from sklearn.model_selection import KFold\n",
    "from sklearn.metrics import accuracy_score\n",
    "from sklearn.metrics import precision_score\n",
    "from sklearn.metrics import recall_score\n",
    "from sklearn.metrics import f1_score\n",
    "\n",
    "from keras.models import Sequential\n",
    "from keras.layers import Masking\n",
    "from keras.layers import Embedding\n",
    "from keras.layers import Bidirectional\n",
    "from keras.layers import LSTM\n",
    "from keras.layers import TimeDistributed\n",
    "from keras.layers import Flatten\n",
    "from keras.layers import Dense\n",
    "from keras.layers import Dropout\n",
    "from keras.losses import BinaryCrossentropy\n",
    "\n",
    "K=4\n",
    "RCI_THRESHOLD=0.0\n",
    "RCELLS=32\n",
    "DCELLS=16\n",
    "EPOCHS=3\n",
    "FOLDS=5      \n",
    "EMBED_DIMEN = 4 # arbitrary hyperparameter\n",
    "BREAK = False   # break after first fold\n",
    "MINLEN=3000\n",
    "MAXLEN=4000   "
   ]
  },
  {
   "cell_type": "code",
   "execution_count": 43,
   "metadata": {
    "colab": {
     "base_uri": "https://localhost:8080/"
    },
    "id": "OlzN9OdsFWEU",
    "outputId": "80b6b95c-75ae-45ca-b5fe-8677a3d69633"
   },
   "outputs": [
    {
     "name": "stdout",
     "output_type": "stream",
     "text": [
      "Running on CoLab\n",
      "Drive already mounted at /content/drive/; to attempt to forcibly remount, call drive.mount(\"/content/drive/\", force_remount=True).\n",
      "/content/drive/My Drive/data/Localization/TrainTest/\n"
     ]
    }
   ],
   "source": [
    "try:\n",
    "    from google.colab import drive\n",
    "    IN_COLAB = True\n",
    "    print('Running on CoLab')\n",
    "    PATH='/content/drive/'\n",
    "    drive.mount(PATH)\n",
    "    DATA_DIR=PATH+'My Drive/data/Localization/TrainTest/'  # must end in \"/\"\n",
    "except:\n",
    "    IN_COLAB = False\n",
    "    DATA_DIR = 'D:/Adjeroh/Localization/TrainTest/'   # Windows\n",
    "    DATA_DIR = '/Users/jasonmiller/WVU/Localization/TrainTest/'    # Mac\n",
    "print(DATA_DIR)"
   ]
  },
  {
   "cell_type": "code",
   "execution_count": 44,
   "metadata": {
    "id": "LnkpVKdMFLA-"
   },
   "outputs": [],
   "source": [
    "GENES_FILE =    'CNRCI_coding_train_genes.csv'\n",
    "RCI_FILE =      'CNRCI_coding_train_RCI.gc42.csv'\n",
    "SEQUENCE_FILE = 'CNRCI_coding_train_transcripts.gc42.csv'\n",
    "COUNTS_FILE=    'CNRCI_coding_train_counts.K4.gc42.csv'"
   ]
  },
  {
   "cell_type": "code",
   "execution_count": 45,
   "metadata": {
    "colab": {
     "base_uri": "https://localhost:8080/"
    },
    "id": "e3p4QzQJFLA_",
    "outputId": "3f19c819-a5df-4a0d-f8ec-7b63acb6a4bc"
   },
   "outputs": [
    {
     "name": "stdout",
     "output_type": "stream",
     "text": [
      "Exclude cell line 1 H1.hESC\n",
      "Exclude cell line 7 NCI.H460\n"
     ]
    }
   ],
   "source": [
    "def get_ordered_list():\n",
    "    ordered_list = \\\n",
    "    ['A549',\\\n",
    "      'H1.hESC',\\\n",
    "      'HeLa.S3',\\\n",
    "      'HepG2',\\\n",
    "      'HT1080',\\\n",
    "      'HUVEC',\\\n",
    "      'MCF.7',\\\n",
    "      'NCI.H460',\\\n",
    "      'NHEK',\\\n",
    "      'SK.MEL.5',\\\n",
    "      'SK.N.DZ',\\\n",
    "      'SK.N.SH',\\\n",
    "      'GM12878',\\\n",
    "      'K562',\\\n",
    "      'IMR.90']\n",
    "    return ordered_list\n",
    "all_cell_lines = get_ordered_list()\n",
    "EXCLUSIONS = [1,7]\n",
    "for c in EXCLUSIONS:\n",
    "    print('Exclude cell line',c,all_cell_lines[c])"
   ]
  },
  {
   "cell_type": "markdown",
   "metadata": {
    "id": "UtqdpJOxFLBA"
   },
   "source": [
    "## Data Load"
   ]
  },
  {
   "cell_type": "code",
   "execution_count": 46,
   "metadata": {
    "colab": {
     "base_uri": "https://localhost:8080/"
    },
    "id": "p35ehKV3Kq0z",
    "outputId": "3d67b365-a77c-4943-8f8e-89efc2e9fe2a"
   },
   "outputs": [
    {
     "name": "stdout",
     "output_type": "stream",
     "text": [
      "[1, 1]\n",
      "[20, 16]\n",
      "[63, 57]\n",
      "[64, 0]\n",
      "0\n",
      "1\n"
     ]
    }
   ],
   "source": [
    "class DataLoader():\n",
    "    def __init__(self):\n",
    "        self.cache=dict() \n",
    "        self.vals = {'A':0, 'C':1, 'G':2, 'T':3}\n",
    "        \n",
    "    def load_gene_rci_values(self,filepath,exclusions=[]):\n",
    "        '''\n",
    "        Load from RCI csv file.\n",
    "        Return dict with keys=gene:str and values=RCI:float.\n",
    "        '''\n",
    "        gene_to_rci = {}\n",
    "        overall_sum = 0\n",
    "        overall_count = 0\n",
    "        with open (filepath,'r') as handle:\n",
    "            header = None\n",
    "            for row in handle:\n",
    "                if header is None:\n",
    "                    header = row # skip file's header line\n",
    "                else:\n",
    "                    line = row.strip()\n",
    "                    fields = line.split(',')\n",
    "                    gene_id = fields.pop(0)\n",
    "                    rci_max = None\n",
    "                    rci_count = 0\n",
    "                    cell_line = 0 # first line is 0 = A549\n",
    "                    for rci_str in fields:\n",
    "                        if rci_str != \"nan\" and cell_line not in exclusions:\n",
    "                            rci_val = float(rci_str)\n",
    "                            if rci_max is None or rci_val > rci_max:\n",
    "                                rci_max = rci_val\n",
    "                            rci_count += 1\n",
    "                        cell_line += 1   \n",
    "                    if rci_count > 0:\n",
    "                        gene_to_rci[gene_id] = rci_max\n",
    "                        overall_sum += rci_max\n",
    "                        overall_count += 1\n",
    "        overall_mean = overall_sum / overall_count\n",
    "        print('Number of RCI values',overall_count)\n",
    "        print('Mean RCI value',overall_mean)\n",
    "        return gene_to_rci\n",
    "    \n",
    "    def seq_to_kmer_values(self,rna,K):\n",
    "        # The cache may represent more than one K. Probably not a problem.\n",
    "        N_indicator = 0 # indicator value\n",
    "        vec=[] # seq converted to list of K-mers \n",
    "        length = len(rna)\n",
    "        for i in range(length-K+1):\n",
    "            kmer = rna[i:i+K]\n",
    "            if 'N' in kmer:\n",
    "                value = N_indicator\n",
    "            elif kmer in self.cache.keys():\n",
    "                value = self.cache[kmer]\n",
    "            else:\n",
    "                value = 0\n",
    "                for j in range(K):\n",
    "                    value *= 4   \n",
    "                    nextnuc = kmer[j] \n",
    "                    nucval = self.vals[nextnuc]\n",
    "                    value += nucval\n",
    "                value += 1   # NNN => 0, AAA => 1\n",
    "                self.cache[kmer] = value\n",
    "            vec.append(value)\n",
    "        return vec\n",
    "\n",
    "    def rci_to_label(self,rci):\n",
    "        CYTO_LABEL = 1\n",
    "        NUCLEAR_LABEL = 0\n",
    "        # cnrci = log (cyto-to-nuclear ratio)\n",
    "        # rci > 0 implies cytoplasmic\n",
    "        if rci > RCI_THRESHOLD:\n",
    "            return CYTO_LABEL\n",
    "        return NUCLEAR_LABEL\n",
    "\n",
    "    def load_sequence(self,filepath):\n",
    "        labels=[]\n",
    "        allids=[]\n",
    "        allseq=[]\n",
    "        NREPEAT = str('N'*MAXLEN)\n",
    "        with open (filepath,'r') as handle:\n",
    "            header = None\n",
    "            for row in handle:\n",
    "                if header is None:\n",
    "                    header = row\n",
    "                else:\n",
    "                    line    = row.strip()\n",
    "                    fields  = line.split(',')\n",
    "                    tran_id = fields[0]  # with version number\n",
    "                    gene_id = fields[1]        # without version number\n",
    "                    seq_len = int(fields[3])\n",
    "                    seq_txt = fields[4]\n",
    "                    if seq_len>=MINLEN and seq_len<=MAXLEN and gene_id in gene_to_rci.keys():\n",
    "                        allids.append( (gene_id,tran_id) )\n",
    "                        rci_val = gene_to_rci[gene_id]\n",
    "                        rci_label = self.rci_to_label(rci_val)\n",
    "                        labels.append(rci_label)\n",
    "                        if seq_len<MAXLEN:\n",
    "                            seq_txt = seq_txt + NREPEAT\n",
    "                            seq_txt = seq_txt[:MAXLEN]\n",
    "                        hot_vec = self.seq_to_kmer_values(seq_txt,K)\n",
    "                        allseq.append(hot_vec)\n",
    "        return labels,allids,allseq\n",
    "    \n",
    "loader = DataLoader()\n",
    "# test it\n",
    "print(loader.seq_to_kmer_values('AAAA',3))\n",
    "print(loader.seq_to_kmer_values('CATT',3))\n",
    "print(loader.seq_to_kmer_values('TTGA',3))\n",
    "print(loader.seq_to_kmer_values('TTTN',3))\n",
    "# test it\n",
    "print(loader.rci_to_label(-0.9))\n",
    "print(loader.rci_to_label(1.1))"
   ]
  },
  {
   "cell_type": "code",
   "execution_count": 47,
   "metadata": {
    "colab": {
     "base_uri": "https://localhost:8080/"
    },
    "id": "cYoYDc93FLBB",
    "outputId": "dbe6e733-1ced-44e5-c30a-46b42bef12fc"
   },
   "outputs": [
    {
     "name": "stdout",
     "output_type": "stream",
     "text": [
      "2023-01-17 16:10:49.312286\n",
      "Load RCI values...\n",
      "Number of RCI values 13512\n",
      "Mean RCI value 0.742330935725574\n",
      "Num RCI: 13512\n",
      "Example RCI: [('ENSG00000000003', 2.29436), ('ENSG00000000419', 2.1946), ('ENSG00000000457', 0.434284)]\n",
      "Load genes...\n",
      "2023-01-17 16:10:49.384051\n",
      "Load sequence...\n",
      "2023-01-17 16:11:01.275500\n",
      "Num IDs: 7048\n",
      "Example IDs: [('ENSG00000197530', 'ENST00000355826.10'), ('ENSG00000157916', 'ENST00000605895.6'), ('ENSG00000158286', 'ENST00000377939.5'), ('ENSG00000171680', 'ENST00000675694.1')]\n",
      "Count 5013 ones out of 7048 labels.\n",
      "Num labels: 7048\n",
      "Example labels: [0, 1, 0, 0]\n",
      "Num sequences: 7048\n",
      "Example sequence: [34, 135, 26, 102, 150, 85, 83, 74, 40, 158, 119, 219, 106, 166, 151, 90, 102, 151, 91, 107, 169, 162, 134, 22, 85, 83, 75, 43, 170, 165, 148, 79, 59, 233, 164, 143, 59, 233, 163, 138, 38, 150, 86, 87, 89, 99, 139, 42, 167, 155, 108, 175, 187, 235, 169, 163, 138, 40, 158, 118, 214, 85, 83, 76, 48, 190, 248, 222, 117, 212, 78, 54, 216, 95, 122, 230, 150, 88, 95, 123, 236, 174, 182, 215, 91, 106, 167, 156, 110, 184, 224, 126, 248, 223, 123, 233, 163, 137, 34, 134, 21, 83, 73, 36, 143, 58, 229, 147, 73, 35, 139, 42, 168, 160, 126, 248, 223, 122, 229, 147, 75, 43, 170, 166, 150, 88, 95, 122, 230, 150, 86, 85, 82, 71, 27, 106, 166, 150, 86, 86, 88, 95, 123, 236, 175, 185, 227, 138, 38, 150, 86, 86, 88, 95, 123, 235, 169, 163, 140, 46, 182, 214, 85, 81, 67, 12, 46, 182, 214, 86, 88, 95, 123, 234, 166, 149, 82, 69, 19, 74, 37, 146, 72, 31, 123, 234, 168, 158, 118, 214, 85, 83, 73, 35, 139, 42, 166, 150, 86, 86, 86, 87, 89, 100, 141, 51, 202, 38, 150, 88, 95, 123, 233, 163, 138, 38, 150, 86, 85, 82, 70, 21, 82, 71, 27, 105, 163, 138, 38, 150, 86, 85, 83, 74, 38, 151, 89, 97, 129, 3, 9, 33, 131, 9, 35, 139, 42, 167, 153, 99, 138, 40, 159, 124, 239, 187, 235, 172, 175, 186, 230, 149, 81, 67, 11, 43, 171, 171, 171, 172, 175, 187, 235, 170, 165, 146, 69, 18, 69, 19, 75, 41, 163, 138, 38, 152, 94, 120, 223, 122, 232, 160, 126, 248, 223, 122, 230, 150, 85, 83, 73, 34, 135, 27, 107, 170, 168, 158, 118, 214, 86, 87, 90, 104, 159, 122, 232, 158, 118, 214, 88, 95, 122, 231, 155, 106, 166, 149, 83, 76, 46, 182, 216, 95, 121, 227, 137, 34, 135, 27, 106, 165, 145, 65, 3, 10, 40, 159, 121, 228, 143, 59, 234, 166, 149, 81, 65, 3, 10, 38, 151, 91, 107, 170, 165, 147, 75, 41, 163, 139, 41, 163, 140, 48, 191, 251, 235, 171, 170, 166, 149, 83, 75, 44, 174, 182, 216, 95, 122, 229, 147, 75, 41, 163, 138, 40, 158, 118, 216, 95, 121, 227, 138, 38, 152, 95, 123, 234, 166, 150, 86, 85, 83, 75, 44, 174, 182, 214, 86, 88, 95, 124, 239, 186, 229, 147, 75, 41, 161, 131, 9, 34, 133, 19, 73, 34, 134, 21, 83, 75, 43, 170, 166, 149, 83, 75, 44, 176, 192, 255, 251, 235, 170, 166, 152, 95, 124, 238, 184, 221, 114, 197, 18, 70, 24, 95, 124, 238, 182, 214, 88, 95, 124, 239, 185, 226, 133, 19, 73, 35, 138, 37, 145, 67, 11, 42, 165, 146, 69, 19, 73, 34, 134, 21, 81, 65, 4, 14, 53, 211, 73, 33, 130, 6, 22, 86, 87, 90, 103, 154, 102, 151, 89, 99, 138, 38, 149, 81, 67, 10, 40, 159, 122, 229, 146, 69, 18, 69, 19, 76, 47, 188, 238, 182, 213, 82, 71, 25, 98, 136, 31, 124, 238, 184, 223, 123, 235, 169, 161, 131, 10, 38, 150, 88, 94, 118, 214, 85, 83, 73, 36, 143, 60, 238, 184, 222, 117, 209, 67, 11, 43, 170, 168, 157, 113, 195, 12, 46, 181, 211, 73, 34, 133, 20, 79, 59, 234, 168, 159, 124, 239, 188, 238, 184, 221, 114, 197, 18, 70, 24, 95, 122, 230, 152, 94, 118, 215, 89, 99, 138, 38, 151, 90, 101, 145, 66, 6, 24, 95, 121, 226, 133, 19, 75, 43, 169, 162, 133, 20, 79, 59, 234, 168, 159, 124, 239, 188, 238, 184, 221, 114, 197, 18, 70, 24, 95, 122, 230, 152, 94, 118, 215, 89, 99, 138, 38, 151, 90, 101, 145, 68, 14, 56, 223, 121, 226, 133, 19, 75, 43, 169, 162, 133, 20, 79, 59, 234, 168, 159, 124, 239, 188, 238, 184, 221, 114, 197, 18, 70, 24, 95, 122, 230, 152, 94, 120, 223, 121, 227, 138, 38, 151, 90, 101, 145, 66, 6, 24, 95, 121, 226, 133, 18, 71, 27, 105, 162, 133, 20, 79, 59, 234, 168, 159, 124, 239, 188, 238, 184, 221, 114, 197, 18, 70, 24, 95, 122, 230, 152, 94, 120, 223, 121, 227, 138, 38, 151, 90, 101, 145, 66, 6, 24, 95, 121, 226, 133, 19, 75, 43, 169, 162, 133, 20, 79, 59, 234, 168, 159, 124, 239, 188, 238, 184, 221, 116, 205, 50, 198, 24, 95, 122, 230, 152, 94, 118, 213, 81, 67, 10, 38, 151, 90, 101, 145, 68, 14, 56, 223, 121, 226, 133, 18, 71, 27, 106, 168, 159, 124, 239, 188, 238, 184, 221, 114, 197, 18, 70, 21, 83, 74, 40, 160, 126, 248, 223, 121, 227, 138, 38, 152, 94, 117, 211, 76, 46, 182, 213, 83, 76, 47, 188, 239, 187, 234, 168, 158, 120, 223, 124, 238, 184, 221, 114, 197, 18, 70, 22, 85, 84, 78, 56, 222, 118, 213, 81, 67, 10, 38, 149, 82, 69, 17, 68, 16, 63, 251, 233, 162, 133, 18, 71, 27, 105, 162, 135, 28, 111, 187, 234, 168, 159, 124, 239, 188, 238, 182, 213, 82, 69, 18, 70, 24, 95, 122, 230, 152, 94, 118, 213, 81, 65, 2, 5, 20, 79, 59, 234, 166, 152, 95, 123, 233, 164, 143, 60, 239, 187, 234, 166, 152, 96, 127, 250, 230, 152, 93, 114, 197, 19, 74, 37, 147, 75, 42, 166, 150, 85, 83, 76, 47, 187, 234, 168, 157, 113, 195, 10, 40, 157, 115, 201, 35, 139, 44, 175, 187, 234, 168, 160, 126, 245, 212, 78, 56, 222, 118, 213, 82, 70, 24, 95, 124, 238, 184, 222, 119, 219, 105, 163, 139, 42, 168, 159, 124, 239, 186, 230, 151, 89, 99, 139, 41, 164, 143, 57, 226, 134, 23, 89, 99, 140, 46, 182, 213, 83, 74, 39, 155, 107, 170, 168, 160, 127, 252, 239, 188, 238, 184, 221, 114, 197, 18, 70, 24, 95, 124, 240, 190, 246, 214, 85, 83, 73, 35, 138, 38, 151, 89, 98, 135, 26, 102, 151, 90, 104, 159, 123, 234, 166, 152, 94, 119, 218, 102, 152, 95, 123, 234, 166, 152, 94, 118, 214, 85, 82, 70, 22, 87, 90, 101, 147, 73, 35, 138, 40, 159, 123, 235, 170, 166, 152, 95, 121, 228, 143, 60, 239, 187, 236, 175, 187, 233, 163, 137, 36, 143, 59, 233, 163, 139, 42, 167, 155, 108, 176, 191, 252, 239, 188, 238, 184, 223, 121, 227, 138, 38, 150, 88, 94, 117, 211, 74, 37, 147, 75, 43, 171, 170, 166, 150, 86, 86, 87, 91, 105, 164, 143, 58, 232, 159, 122, 232, 158, 120, 223, 123, 235, 171, 170, 165, 146, 70, 22, 87, 90, 101, 146, 72, 31, 123, 235, 172, 174, 184, 222, 117, 210, 70, 22, 85, 81, 67, 12, 46, 182, 214, 86, 85, 83, 75, 41, 161, 131, 9, 33, 131, 9, 33, 129, 3, 12, 47, 186, 231, 154, 104, 160, 126, 248, 222, 118, 215, 92, 111, 187, 234, 168, 159, 123, 235, 170, 166, 150, 85, 83, 74, 38, 150, 86, 85, 81, 68, 13, 49, 195, 10, 38, 149, 83, 75, 42, 168, 158, 117, 211, 75, 41, 162, 133, 19, 75, 42, 166, 152, 94, 117, 211, 74, 38, 150, 87, 91, 106, 166, 150, 88, 94, 117, 211, 74, 38, 150, 86, 86, 86, 85, 83, 73, 34, 133, 19, 74, 37, 145, 66, 8, 31, 123, 235, 171, 170, 166, 150, 85, 82, 71, 27, 107, 171, 171, 171, 170, 166, 150, 87, 91, 105, 163, 138, 38, 152, 95, 123, 235, 169, 163, 139, 42, 168, 159, 124, 239, 187, 234, 168, 159, 124, 238, 183, 219, 107, 170, 166, 150, 86, 87, 91, 106, 166, 150, 86, 85, 82, 70, 21, 83, 74, 38, 152, 94, 119, 219, 105, 164, 142, 54, 216, 94, 117, 209, 67, 10, 37, 146, 70, 24, 95, 122, 230, 152, 94, 119, 218, 102, 150, 86, 86, 86, 88, 94, 118, 214, 88, 94, 120, 223, 122, 230, 151, 92, 111, 185, 226, 135, 25, 99, 139, 43, 172, 174, 183, 219, 107, 170, 166, 150, 87, 91, 107, 169, 163, 138, 37, 147, 74, 40, 160, 128, 255, 250, 230, 151, 92, 111, 185, 226, 134, 22, 88, 94, 118, 214, 87, 91, 105, 163, 139, 42, 166, 152, 93, 114, 199, 25, 99, 140, 48, 190, 248, 224, 126, 248, 224, 126, 248, 223, 124, 239, 185, 226, 133, 18, 70, 21, 84, 78, 55, 217, 99, 139, 41, 163, 137, 33, 130, 7, 25, 97, 131, 9, 35, 139, 42, 168, 159, 121, 227, 139, 42, 167, 155, 106, 165, 147, 74, 39, 155, 106, 166, 151, 91, 108, 174, 181, 211, 75, 41, 164, 142, 54, 215, 91, 106, 165, 147, 75, 42, 167, 156, 110, 182, 213, 83, 76, 47, 187, 234, 166, 151, 91, 105, 162, 133, 20, 79, 60, 239, 186, 231, 153, 99, 140, 48, 190, 248, 224, 126, 248, 224, 126, 246, 214, 85, 83, 73, 34, 135, 28, 112, 191, 251, 233, 163, 138, 38, 150, 85, 83, 73, 35, 139, 44, 174, 183, 217, 99, 139, 42, 167, 155, 106, 167, 155, 107, 171, 171, 172, 174, 182, 214, 86, 87, 91, 105, 163, 138, 38, 151, 90, 104, 158, 118, 214, 87, 89, 99, 137, 35, 138, 40, 159, 121, 228, 142, 54, 216, 95, 124, 239, 186, 230, 151, 91, 106, 166, 150, 86, 86, 85, 84, 77, 50, 198, 24, 95, 123, 233, 163, 137, 34, 134, 22, 86, 87, 92, 111, 186, 230, 150, 85, 84, 78, 56, 222, 118, 213, 84, 78, 54, 214, 88, 95, 121, 227, 139, 44, 174, 184, 221, 116, 207, 57, 225, 130, 5, 18, 72, 32, 126, 248, 224, 126, 248, 224, 126, 247, 219, 107, 171, 169, 163, 139, 41, 162, 133, 19, 75, 42, 168, 160, 127, 249, 227, 139, 43, 170, 167, 156, 111, 186, 232, 159, 123, 235, 171, 170, 166, 151, 91, 106, 168, 159, 124, 238, 182, 214, 87, 90, 104, 158, 118, 214, 85, 82, 72, 31, 122, 229, 147, 75, 42, 166, 150, 88, 95, 123, 233, 163, 138, 38, 152, 94, 118, 214, 86, 87, 91, 108, 174, 183, 219, 106, 166, 152, 94, 118, 215, 89, 99, 139, 43, 171, 171, 170, 167, 155, 107, 171, 170, 166, 152, 95, 123, 235, 169, 162, 134, 22, 86, 86, 86, 88, 94, 117, 209, 67, 10, 38, 149, 83, 74, 38, 151, 92, 111, 187, 236, 173, 179, 201, 35, 138, 39, 155, 106, 168, 158, 118, 213, 82, 70, 24, 95, 123, 234, 168, 158, 120, 224, 125, 243, 201, 34, 135, 27, 107, 170, 165, 147, 75, 43, 171, 169, 163, 138, 40, 158, 118, 215, 91, 107, 171, 171, 170, 166, 152, 95, 124, 238, 182, 214, 85, 84, 78, 53, 212, 80, 64, 255, 250, 230, 152, 96, 126, 245, 211, 74, 38, 149, 83, 73, 33, 132, 15, 57, 226, 133, 20, 79, 60, 239, 186, 230, 152, 95, 123, 236, 175, 188, 240, 192, 255, 252, 237, 179, 202, 40, 160, 128, 256, 255, 250, 230, 149, 82, 70, 24, 95, 123, 235, 170, 168, 159, 124, 239, 185, 227, 139, 41, 162, 135, 28, 110, 181, 211, 73, 36, 142, 54, 215, 90, 101, 148, 77, 50, 198, 22, 86, 85, 83, 73, 34, 135, 26, 102, 152, 95, 123, 233, 161, 129, 1, 2, 5, 19, 74, 38, 152, 96, 127, 250, 232, 159, 123, 234, 166, 149, 81, 66, 7, 28, 110, 183, 219, 106, 165, 146, 70, 21, 84, 78, 56, 222, 120, 223, 122, 230, 149, 84, 78, 54, 215, 90, 104, 157, 114, 200, 32, 126, 246, 215, 90, 102, 151, 91, 106, 165, 147, 75, 44, 175, 187, 235, 171, 170, 165, 145, 67, 11, 43, 170, 167, 154, 102, 151, 90, 101, 147, 74, 38, 149, 82, 69, 19, 74, 38, 150, 86, 85, 83, 74, 38, 150, 86, 85, 83, 74, 40, 158, 118, 216, 93, 115, 203, 41, 163, 138, 38, 149, 83, 75, 42, 166, 150, 87, 91, 107, 170, 166, 149, 83, 75, 43, 169, 163, 137, 36, 143, 58, 229, 147, 75, 41, 164, 143, 57, 227, 139, 41, 163, 137, 34, 135, 25, 98, 134, 21, 82, 69, 19, 75, 42, 167, 154, 102, 150, 85, 83, 75, 43, 170, 165, 147, 75, 41, 162, 135, 25, 99, 139, 44, 175, 186, 230, 151, 90, 102, 150, 88, 94, 119, 218, 102, 150, 87, 91, 107, 170, 166, 150, 88, 94, 120, 223, 121, 226, 134, 22, 86, 88, 94, 120, 222, 120, 224, 126, 248, 221, 114, 198, 23, 90, 103, 156, 110, 182, 213, 83, 75, 41, 163, 139, 43, 171, 171, 171, 170, 167, 156, 111, 188, 238, 182, 216, 95, 123, 236, 175, 186, 232, 159, 122, 232, 158, 118, 214, 88, 94, 118, 215, 89, 98, 136, 30, 117, 210, 70, 24, 95, 121, 227, 139, 41, 164, 142, 54, 213, 83, 74, 38, 149, 83, 76, 47, 185, 226, 134, 21, 82, 71, 27, 106, 166, 149, 82, 72, 30, 118, 214, 86, 85, 82, 71, 26, 102, 152, 95, 123, 235, 169, 163, 139, 43, 169, 163, 139, 44, 175, 186, 232, 157, 113, 193, 3, 12, 46, 184, 223, 123, 235, 172, 175, 187, 235, 172, 175, 187, 233, 163, 139, 43, 170, 165, 147, 75, 42, 165, 147, 75, 44, 175, 187, 234, 168, 159, 123, 235, 172, 173, 179, 203, 41, 163, 139, 43, 172, 175, 187, 234, 166, 149, 83, 73, 36, 144, 62, 245, 210, 69, 19, 73, 36, 143, 57, 227, 137, 33, 130, 5, 18, 69, 19, 75, 43, 170, 165, 148, 80, 62, 247, 219, 108, 176, 189, 241, 196, 16, 64, 254, 245, 211, 73, 34, 133, 19, 75, 42, 165, 145, 68, 13, 51, 204, 47, 187, 235, 171, 169, 163, 139, 44, 174, 181, 212, 80, 64, 256, 253, 242, 200, 29, 113, 195, 9, 33, 131, 12, 48, 191, 252, 240, 191, 252, 240, 192, 253, 244, 206, 56, 223, 121, 225, 129, 4, 14, 53, 209, 65, 4, 15, 58, 229, 145, 66, 6, 23, 90, 101, 146, 70, 22, 88, 95, 122, 231, 156, 112, 192, 254, 248, 224, 126, 248, 223, 123, 235, 171, 172, 175, 186, 229, 147, 75, 43, 171, 171, 169, 163, 138, 40, 159, 121, 227, 140, 47, 187, 234, 165, 147, 75, 41, 162, 133, 19, 75, 41, 162, 136, 32, 127, 251, 233, 162, 134, 24, 94, 119, 219, 105, 163, 139, 43, 171, 172, 174, 184, 223, 121, 227, 138, 37, 147, 74, 37, 145, 67, 9, 34, 133, 18, 72, 30, 118, 215, 91, 106, 168, 159, 123, 233, 163, 138, 40, 158, 120, 223, 123, 235, 170, 165, 147, 73, 35, 139, 42, 165, 147, 75, 43, 171, 169, 163, 137, 35, 139, 41, 162, 133, 18, 69, 19, 75, 43, 172, 175, 187, 234, 166, 152, 94, 117, 209, 65, 3, 9, 35, 139, 43, 171, 169, 164, 143, 59, 235, 170, 165, 147, 74, 38, 152, 94, 118, 216, 94, 117, 210, 69, 19, 75, 44, 175, 187, 235, 170, 168, 159, 123, 235, 170, 168, 159, 123, 234, 165, 145, 67, 11, 43, 170, 168, 158, 118, 213, 81, 67, 11, 42, 166, 150, 85, 84, 78, 53, 210, 72, 30, 120, 224, 127, 249, 228, 142, 54, 216, 94, 117, 209, 65, 3, 11, 41, 162, 136, 31, 124, 239, 187, 234, 166, 149, 81, 67, 11, 42, 166, 152, 94, 120, 223, 122, 231, 155, 107, 170, 168, 158, 120, 223, 123, 234, 166, 152, 95, 121, 227, 137, 34, 133, 19, 74, 39, 153, 97, 131, 11, 42, 168, 158, 120, 223, 122, 230, 152, 95, 122, 230, 150, 86, 88, 94, 118, 214, 86, 85, 83, 76, 47, 186, 229, 147, 74, 37, 147, 74, 38, 150, 86, 88, 95, 122, 229, 147, 75, 43, 172, 175, 187, 235, 171, 171, 172, 174, 184, 223, 124, 239, 187, 234, 165, 147, 73, 35, 138, 38, 151, 90, 103, 153, 99, 138, 38, 150, 86, 88, 94, 118, 214, 86, 87, 91, 107, 169, 163, 138, 38, 150, 88, 95, 123, 235, 172, 175, 186, 229, 147, 75, 44, 175, 186, 229, 147, 73, 35, 139, 43, 169, 163, 137, 33, 132, 16, 62, 247, 219, 108, 175, 187, 234, 166, 152, 94, 117, 211, 73, 36, 143, 59, 233, 163, 139, 43, 170, 168, 159, 123, 235, 170, 168, 158, 118, 216, 95, 123, 235, 171, 172, 176, 191, 252, 238, 182, 214, 87, 91, 107, 171, 171, 170, 168, 158, 118, 216, 95, 124, 239, 187, 235, 171, 170, 165, 147, 74, 40, 159, 123, 235, 171, 169, 162, 134, 22, 85, 82, 69, 19, 74, 38, 149, 81, 67, 9, 35, 139, 41, 163, 140, 46, 181, 211, 73, 35, 137, 36, 143, 57, 227, 139, 44, 175, 187, 235, 169, 161, 131, 11, 44, 174, 183, 219, 108, 175, 185, 227, 139, 43, 171, 170, 166, 150, 87, 89, 99, 139, 44, 175, 187, 234, 165, 147, 73, 35, 139, 41, 161, 131, 11, 43, 171, 171, 170, 168, 159, 122, 230, 152, 95, 123, 234, 168, 159, 123, 235, 172, 175, 186, 232, 159, 123, 235, 172, 175, 187, 235, 171, 171, 172, 174, 182, 216, 94, 117, 209, 67, 9, 34, 136, 31, 124, 239, 187, 235, 169, 163, 137, 34, 134, 22, 88, 95, 123, 234, 168, 159, 122, 232, 159, 121, 227, 138, 37, 147, 73, 35, 137, 33, 130, 5, 18, 69, 20, 79, 59, 233, 164, 143, 58, 229, 147, 74, 37, 146, 70, 21, 81, 68, 13, 49, 193, 1, 4, 16, 62, 248, 221, 116, 206, 56, 224, 128, 256, 254, 0, 0, 0, 0, 0, 0, 0, 0, 0, 0, 0, 0, 0, 0, 0, 0, 0, 0, 0, 0, 0, 0, 0, 0, 0, 0, 0, 0, 0, 0, 0, 0, 0, 0, 0, 0, 0, 0, 0, 0, 0, 0, 0, 0, 0, 0, 0, 0, 0, 0, 0, 0, 0, 0, 0, 0, 0, 0, 0, 0, 0, 0, 0, 0, 0, 0, 0, 0, 0, 0, 0, 0, 0, 0, 0, 0, 0, 0, 0, 0, 0, 0, 0, 0, 0, 0, 0, 0, 0, 0, 0, 0, 0, 0, 0, 0, 0, 0, 0, 0, 0, 0, 0, 0, 0, 0, 0, 0, 0, 0, 0, 0, 0, 0, 0, 0, 0, 0, 0, 0, 0, 0, 0, 0, 0, 0, 0, 0, 0, 0, 0, 0, 0, 0, 0, 0, 0, 0, 0, 0, 0, 0, 0, 0, 0, 0, 0, 0, 0, 0, 0, 0, 0, 0, 0, 0, 0, 0, 0, 0, 0, 0, 0, 0, 0, 0, 0, 0, 0, 0, 0, 0, 0, 0, 0, 0, 0, 0, 0, 0, 0, 0, 0, 0, 0, 0, 0, 0, 0, 0, 0, 0, 0, 0, 0, 0, 0, 0, 0, 0, 0, 0, 0, 0, 0, 0, 0, 0, 0, 0, 0, 0, 0, 0, 0, 0, 0, 0, 0, 0, 0, 0, 0, 0, 0, 0, 0, 0, 0, 0, 0, 0, 0, 0, 0, 0, 0, 0, 0, 0, 0, 0, 0, 0, 0, 0, 0, 0, 0, 0, 0, 0, 0, 0, 0, 0, 0, 0, 0, 0, 0, 0, 0, 0, 0, 0, 0, 0, 0, 0, 0, 0, 0, 0, 0, 0, 0, 0, 0, 0, 0, 0, 0, 0, 0, 0, 0, 0, 0, 0, 0, 0, 0, 0, 0, 0, 0, 0, 0, 0, 0, 0, 0, 0, 0, 0, 0, 0, 0, 0, 0, 0, 0, 0, 0, 0, 0, 0, 0, 0, 0, 0, 0, 0, 0, 0, 0, 0, 0, 0, 0, 0, 0, 0, 0, 0, 0, 0, 0, 0, 0, 0, 0, 0, 0, 0, 0, 0, 0, 0, 0, 0, 0, 0, 0, 0, 0, 0, 0, 0, 0, 0, 0, 0, 0, 0, 0, 0, 0, 0, 0, 0, 0, 0, 0, 0, 0, 0, 0, 0, 0, 0, 0, 0, 0, 0, 0, 0, 0, 0, 0, 0, 0, 0, 0, 0, 0, 0, 0, 0, 0, 0, 0, 0, 0, 0, 0, 0, 0, 0, 0, 0, 0, 0, 0, 0, 0, 0, 0, 0, 0, 0, 0, 0, 0, 0, 0, 0, 0, 0, 0, 0, 0, 0, 0, 0, 0, 0, 0, 0, 0, 0, 0, 0, 0, 0, 0, 0, 0, 0, 0, 0, 0, 0, 0, 0, 0, 0, 0, 0, 0, 0, 0, 0, 0, 0, 0, 0, 0, 0, 0, 0, 0, 0, 0, 0, 0, 0, 0, 0, 0, 0, 0, 0, 0, 0, 0, 0, 0, 0, 0, 0, 0, 0, 0, 0, 0, 0, 0, 0, 0, 0, 0, 0, 0, 0, 0, 0, 0, 0, 0, 0, 0, 0, 0, 0, 0, 0, 0, 0, 0, 0, 0, 0, 0, 0, 0, 0, 0, 0, 0, 0, 0, 0, 0, 0, 0, 0, 0, 0, 0, 0, 0, 0, 0, 0, 0, 0, 0, 0, 0, 0, 0, 0, 0, 0, 0, 0, 0, 0, 0, 0, 0, 0, 0, 0, 0, 0, 0, 0, 0, 0, 0, 0, 0, 0, 0, 0, 0, 0, 0, 0, 0, 0, 0, 0, 0, 0, 0, 0, 0, 0, 0, 0, 0, 0, 0, 0, 0, 0, 0, 0, 0, 0, 0, 0, 0, 0, 0, 0, 0, 0, 0, 0, 0, 0, 0, 0, 0, 0, 0, 0, 0, 0, 0, 0, 0, 0, 0, 0, 0, 0, 0, 0, 0, 0, 0, 0, 0, 0, 0, 0, 0, 0, 0, 0, 0, 0, 0, 0, 0, 0, 0, 0, 0, 0, 0, 0, 0, 0, 0, 0, 0, 0, 0, 0, 0, 0, 0, 0, 0, 0, 0, 0, 0, 0, 0, 0, 0, 0, 0, 0, 0, 0, 0, 0, 0, 0, 0, 0, 0, 0, 0, 0, 0, 0, 0, 0, 0, 0, 0, 0, 0, 0, 0, 0, 0, 0, 0, 0, 0, 0, 0, 0, 0, 0, 0, 0, 0, 0, 0, 0, 0, 0, 0, 0, 0, 0, 0, 0, 0, 0, 0, 0, 0, 0, 0, 0, 0, 0, 0, 0, 0, 0, 0, 0, 0, 0, 0, 0, 0, 0, 0, 0, 0, 0, 0, 0, 0, 0, 0, 0, 0, 0, 0, 0, 0, 0, 0, 0, 0, 0, 0, 0, 0, 0, 0, 0, 0, 0, 0, 0, 0, 0, 0, 0, 0, 0, 0, 0, 0, 0, 0, 0, 0, 0, 0, 0, 0, 0, 0, 0, 0, 0, 0, 0, 0, 0, 0, 0, 0, 0, 0, 0, 0, 0, 0, 0, 0, 0, 0, 0, 0, 0, 0, 0, 0, 0, 0, 0, 0, 0, 0, 0, 0, 0, 0, 0, 0, 0, 0, 0, 0, 0, 0, 0, 0, 0, 0, 0, 0, 0, 0, 0, 0, 0, 0, 0, 0, 0, 0, 0, 0, 0, 0, 0, 0, 0, 0, 0, 0, 0, 0, 0, 0, 0, 0, 0, 0, 0, 0, 0, 0, 0, 0, 0, 0, 0, 0, 0, 0, 0, 0, 0, 0, 0, 0, 0, 0, 0, 0, 0, 0, 0, 0, 0, 0, 0, 0, 0, 0, 0, 0, 0, 0, 0, 0, 0, 0, 0, 0, 0, 0, 0, 0, 0, 0, 0, 0, 0, 0, 0, 0, 0, 0, 0, 0, 0, 0, 0, 0, 0, 0, 0, 0, 0, 0, 0, 0, 0, 0, 0, 0, 0, 0, 0, 0, 0, 0, 0, 0, 0, 0, 0, 0]\n"
     ]
    }
   ],
   "source": [
    "print(datetime.now())\n",
    "print(\"Load RCI values...\")\n",
    "loader = DataLoader()\n",
    "filepath = DATA_DIR+RCI_FILE\n",
    "gene_to_rci = loader.load_gene_rci_values(filepath,EXCLUSIONS)\n",
    "print('Num RCI:', len(gene_to_rci.keys()))\n",
    "print('Example RCI:', list(gene_to_rci.items())[:3])\n",
    "print(\"Load genes...\")\n",
    "all_genes = list(gene_to_rci.keys())\n",
    "print(datetime.now())\n",
    "print('Load sequence...')\n",
    "filepath = DATA_DIR+SEQUENCE_FILE\n",
    "labels,allids,allseq = loader.load_sequence(filepath)\n",
    "print(datetime.now())\n",
    "print('Num IDs:',len(allids))\n",
    "print('Example IDs:',[allids[x] for x in [10, 20, 30, 40]] )\n",
    "print('Count',np.count_nonzero(labels),'ones out of',len(labels),'labels.')\n",
    "print('Num labels:',len(labels))\n",
    "print('Example labels:',[labels[x] for x in [10, 20, 30, 40]] )\n",
    "print('Num sequences:',len(allseq))\n",
    "print('Example sequence:',allseq[3])\n",
    "loader = None  # drop K-mer cache to save RAM"
   ]
  },
  {
   "cell_type": "markdown",
   "metadata": {
    "id": "VDZ6siB_Kq04"
   },
   "source": [
    "## Model"
   ]
  },
  {
   "cell_type": "code",
   "execution_count": 48,
   "metadata": {
    "id": "AwMbRjm0FLBF"
   },
   "outputs": [],
   "source": [
    "def build_model():\n",
    "    ALPHABET=4**K+1  # NUMBER OF DISTINCT KMERS POSSIBLE, add one if N gets mask value\n",
    "    ADJUST_LENGTH = MAXLEN-K+1  # fixed length sequences\n",
    "    rnn = Sequential()\n",
    "    embed_layer = Embedding(ALPHABET,EMBED_DIMEN,input_length=ADJUST_LENGTH,mask_zero=False)   \n",
    "    rnn1_layer = Bidirectional( LSTM(RCELLS, return_sequences=True) )\n",
    "    dens_layer = TimeDistributed(Dense(DCELLS))\n",
    "    flat_layer = Flatten()\n",
    "    drop_layer = Dropout(0.5) # this model will rely on specific time points not patterns\n",
    "    output_layer = Dense(1,activation='sigmoid',dtype=dt)\n",
    "\n",
    "    #rnn.add(mask_layer)\n",
    "    rnn.add(embed_layer)\n",
    "    rnn.add(rnn1_layer)\n",
    "    rnn.add(dens_layer)\n",
    "    rnn.add(flat_layer)\n",
    "    rnn.add(drop_layer)\n",
    "    rnn.add(output_layer)\n",
    "\n",
    "    bc=BinaryCrossentropy(from_logits=False)\n",
    "    print(\"COMPILE\")\n",
    "    rnn.compile(loss=bc, optimizer=\"Adam\",metrics=[\"accuracy\"])\n",
    "    return rnn"
   ]
  },
  {
   "cell_type": "code",
   "execution_count": 49,
   "metadata": {
    "colab": {
     "base_uri": "https://localhost:8080/"
    },
    "id": "clj-wufgFLBF",
    "outputId": "6cf0454d-297a-4576-d880-e76a0ed0ac8d"
   },
   "outputs": [
    {
     "name": "stdout",
     "output_type": "stream",
     "text": [
      "2023-01-17 16:11:01.305376\n",
      "COMPILE\n",
      "Model: \"sequential_18\"\n",
      "_________________________________________________________________\n",
      " Layer (type)                Output Shape              Param #   \n",
      "=================================================================\n",
      " embedding_18 (Embedding)    (None, 3997, 4)           1028      \n",
      "                                                                 \n",
      " bidirectional_18 (Bidirecti  (None, 3997, 64)         9472      \n",
      " onal)                                                           \n",
      "                                                                 \n",
      " time_distributed_18 (TimeDi  (None, 3997, 16)         1040      \n",
      " stributed)                                                      \n",
      "                                                                 \n",
      " flatten_18 (Flatten)        (None, 63952)             0         \n",
      "                                                                 \n",
      " dropout_18 (Dropout)        (None, 63952)             0         \n",
      "                                                                 \n",
      " dense_37 (Dense)            (None, 1)                 63953     \n",
      "                                                                 \n",
      "=================================================================\n",
      "Total params: 75,493\n",
      "Trainable params: 75,493\n",
      "Non-trainable params: 0\n",
      "_________________________________________________________________\n",
      "None\n"
     ]
    }
   ],
   "source": [
    "print(datetime.now())\n",
    "model=build_model()\n",
    "print(model.summary())  # Print this only once"
   ]
  },
  {
   "cell_type": "markdown",
   "metadata": {
    "id": "MgrC1alOKq07"
   },
   "source": [
    "## Training"
   ]
  },
  {
   "cell_type": "code",
   "execution_count": 50,
   "metadata": {
    "id": "W9xiFzNbFLBE"
   },
   "outputs": [],
   "source": [
    "class CrossValidator():\n",
    "    def __init__(self,epochs,folds,quick_test=False,threshold=0.5):\n",
    "        self.epochs = epochs\n",
    "        self.folds = folds\n",
    "        self.quick_test = quick_test\n",
    "        self.threshold = threshold\n",
    "    \n",
    "    def get_gene_subset(self,all_genes,sub_index):\n",
    "        sub_genes = set()\n",
    "        for index in sub_index:\n",
    "            one_gene = all_genes[index]\n",
    "            sub_genes.add(one_gene)\n",
    "        return sub_genes\n",
    "    \n",
    "    def get_X_y(self,gene_set,allids,allX,allY):\n",
    "        cnt = len(allids)\n",
    "        subsetX=[]\n",
    "        subsetY=[]\n",
    "        if cnt != len(allX) or cnt!= len(allY):\n",
    "            raise Exception('Lengths differ')\n",
    "        for i in range(cnt):\n",
    "            gene_id,tran_id = allids[i]\n",
    "            if gene_id in gene_set:\n",
    "                oneX = allX[i]\n",
    "                oneY = allY[i]\n",
    "                subsetX.append(oneX)\n",
    "                subsetY.append(oneY)\n",
    "        subsetX = np.array(subsetX)\n",
    "        subsetY = np.array(subsetY).reshape((-1,1))\n",
    "        return subsetX,subsetY\n",
    "    \n",
    "    def do_cross_validation(self):\n",
    "        cv_accuracy=[]\n",
    "        cv_precision=[]\n",
    "        cv_recall=[]\n",
    "        cv_f1=[]\n",
    "        fold=0\n",
    "        print(datetime.now())\n",
    "        print('splitting')\n",
    "        # KFold shuffles once before making the partitions\n",
    "        splitter = KFold(n_splits=self.folds,shuffle=True,random_state=42)\n",
    "        for train_index,valid_index in splitter.split(all_genes):\n",
    "            fold += 1\n",
    "            print('Fold',fold)\n",
    "            train_genes = self.get_gene_subset(all_genes,train_index)\n",
    "            valid_genes = self.get_gene_subset(all_genes,valid_index)\n",
    "            X_train,y_train = self.get_X_y(train_genes,allids,allseq,labels)\n",
    "            X_valid,y_valid = self.get_X_y(valid_genes,allids,allseq,labels)\n",
    "\n",
    "            print('Training example')\n",
    "            print(X_train[0])\n",
    "\n",
    "            print('Train sizes',X_train.shape,y_train.shape)\n",
    "            print('Valid sizes',X_valid.shape,y_valid.shape)\n",
    "            print('Train set ones/size',\n",
    "                  np.count_nonzero(y_train),'/',len(y_train))\n",
    "            print('Valid set ones/size',\n",
    "                  np.count_nonzero(y_valid),'/',len(y_valid))\n",
    "\n",
    "            print(\"BUILD MODEL\")\n",
    "            model=build_model()\n",
    "\n",
    "            print(\"FIT\")\n",
    "            print(datetime.now())\n",
    "            history=model.fit(X_train, y_train, # batch_size=10, default=32 works nicely\n",
    "                    epochs=self.epochs, verbose=1,  # verbose=1 for ascii art, verbose=0 for none\n",
    "                    validation_data=(X_valid,y_valid) )\n",
    "\n",
    "            pd.DataFrame(history.history).plot(figsize=(8,5))\n",
    "            plt.grid(True)\n",
    "            plt.gca().set_ylim(0,1)\n",
    "            plt.show()\n",
    "\n",
    "            print(\"Compute valiation accuracy\")\n",
    "            print(datetime.now())\n",
    "            yhat_pred=model.predict(X_valid, verbose=0) \n",
    "            print('Range of scores:',np.min(yhat_pred),'to',np.max(yhat_pred))\n",
    "            yhat_classes=np.where(yhat_pred > self.threshold, 1, 0)\n",
    "            print('Predicted zeros and ones',np.count_nonzero(yhat_classes==0),np.count_nonzero(yhat_classes==1))\n",
    "            # accuracy: (tp + tn) / (p + n)\n",
    "            accuracy = accuracy_score(y_valid, yhat_classes)*100.\n",
    "            # precision tp / (tp + fp)\n",
    "            precision = precision_score(y_valid, yhat_classes)*100.\n",
    "            # recall: tp / (tp + fn)\n",
    "            recall = recall_score(y_valid, yhat_classes)*100.\n",
    "            # f1: 2 tp / (2 tp + fp + fn)\n",
    "            f1 = f1_score(y_valid, yhat_classes)*100.\n",
    "            print('Accuracy: %.2f%% Precision: %.2f%% Recall: %.2f%% F1: %.2f%%' % (accuracy,precision,recall,f1)) \n",
    "            print(datetime.now())\n",
    "            cv_accuracy.append(accuracy)\n",
    "            cv_precision.append(precision)\n",
    "            cv_recall.append(recall)\n",
    "            cv_f1.append(f1)\n",
    "            if self.quick_test:   \n",
    "                print('Break -- this was for code testing only')\n",
    "                break\n",
    "        print()\n",
    "        return cv_accuracy, cv_precision, cv_recall, cv_f1"
   ]
  },
  {
   "cell_type": "code",
   "execution_count": 51,
   "metadata": {
    "colab": {
     "base_uri": "https://localhost:8080/",
     "height": 1000
    },
    "id": "XC9m0W-pFLBH",
    "outputId": "76d034c1-9f5b-4cf3-c878-226251ac7f96",
    "scrolled": false
   },
   "outputs": [
    {
     "name": "stdout",
     "output_type": "stream",
     "text": [
      "2023-01-17 16:11:02.450581\n",
      "2023-01-17 16:11:02.452876\n",
      "splitting\n",
      "Fold 1\n",
      "Training example\n",
      "[167 155 106 ...   0   0   0]\n",
      "Train sizes (5654, 3997) (5654, 1)\n",
      "Valid sizes (1394, 3997) (1394, 1)\n",
      "Train set ones/size 4004 / 5654\n",
      "Valid set ones/size 1009 / 1394\n",
      "BUILD MODEL\n",
      "COMPILE\n",
      "FIT\n",
      "2023-01-17 16:11:06.046167\n",
      "Epoch 1/3\n",
      "177/177 [==============================] - 45s 233ms/step - loss: 0.5789 - accuracy: 0.7190 - val_loss: 0.5663 - val_accuracy: 0.7260\n",
      "Epoch 2/3\n",
      "177/177 [==============================] - 41s 231ms/step - loss: 0.5489 - accuracy: 0.7361 - val_loss: 0.5515 - val_accuracy: 0.7267\n",
      "Epoch 3/3\n",
      "177/177 [==============================] - 40s 229ms/step - loss: 0.5100 - accuracy: 0.7586 - val_loss: 0.5701 - val_accuracy: 0.7274\n"
     ]
    },
    {
     "data": {
      "image/png": "[encoded data removed]",
      "text/plain": [
       "<Figure size 576x360 with 1 Axes>"
      ]
     },
     "metadata": {
      "needs_background": "light"
     },
     "output_type": "display_data"
    },
    {
     "name": "stdout",
     "output_type": "stream",
     "text": [
      "Compute valiation accuracy\n",
      "2023-01-17 16:13:31.800147\n",
      "Range of scores: 0.13349439 to 0.97391087\n",
      "Predicted zeros and ones 137 1257\n",
      "Accuracy: 72.74% Precision: 75.02% Recall: 93.46% F1: 83.23%\n",
      "2023-01-17 16:13:36.838046\n",
      "Fold 2\n",
      "Training example\n",
      "[167 155 106 ...   0   0   0]\n",
      "Train sizes (5744, 3997) (5744, 1)\n",
      "Valid sizes (1304, 3997) (1304, 1)\n",
      "Train set ones/size 4030 / 5744\n",
      "Valid set ones/size 983 / 1304\n",
      "BUILD MODEL\n",
      "COMPILE\n",
      "FIT\n",
      "2023-01-17 16:13:38.934390\n",
      "Epoch 1/3\n",
      "180/180 [==============================] - 45s 230ms/step - loss: 0.5747 - accuracy: 0.7131 - val_loss: 0.5340 - val_accuracy: 0.7431\n",
      "Epoch 2/3\n",
      "180/180 [==============================] - 41s 226ms/step - loss: 0.5343 - accuracy: 0.7463 - val_loss: 0.5677 - val_accuracy: 0.7055\n",
      "Epoch 3/3\n",
      "180/180 [==============================] - 41s 227ms/step - loss: 0.4756 - accuracy: 0.7779 - val_loss: 0.5846 - val_accuracy: 0.6840\n"
     ]
    },
    {
     "data": {
      "image/png": "[encoded data removed]",
      "text/plain": [
       "<Figure size 576x360 with 1 Axes>"
      ]
     },
     "metadata": {
      "needs_background": "light"
     },
     "output_type": "display_data"
    },
    {
     "name": "stdout",
     "output_type": "stream",
     "text": [
      "Compute valiation accuracy\n",
      "2023-01-17 16:16:04.224603\n",
      "Range of scores: 0.07867633 to 0.9924907\n",
      "Predicted zeros and ones 253 1051\n",
      "Accuracy: 68.40% Precision: 77.16% Recall: 82.50% F1: 79.74%\n",
      "2023-01-17 16:16:08.933538\n",
      "Fold 3\n",
      "Training example\n",
      "[167 155 106 ...   0   0   0]\n",
      "Train sizes (5628, 3997) (5628, 1)\n",
      "Valid sizes (1420, 3997) (1420, 1)\n",
      "Train set ones/size 4004 / 5628\n",
      "Valid set ones/size 1009 / 1420\n",
      "BUILD MODEL\n",
      "COMPILE\n",
      "FIT\n",
      "2023-01-17 16:16:11.014482\n",
      "Epoch 1/3\n",
      "176/176 [==============================] - 45s 237ms/step - loss: 0.5711 - accuracy: 0.7230 - val_loss: 0.5669 - val_accuracy: 0.7007\n",
      "Epoch 2/3\n",
      "176/176 [==============================] - 41s 230ms/step - loss: 0.5408 - accuracy: 0.7425 - val_loss: 0.5732 - val_accuracy: 0.7092\n",
      "Epoch 3/3\n",
      "176/176 [==============================] - 40s 228ms/step - loss: 0.4946 - accuracy: 0.7672 - val_loss: 0.6096 - val_accuracy: 0.6866\n"
     ]
    },
    {
     "data": {
      "image/png": "[encoded data removed]",
      "text/plain": [
       "<Figure size 576x360 with 1 Axes>"
      ]
     },
     "metadata": {
      "needs_background": "light"
     },
     "output_type": "display_data"
    },
    {
     "name": "stdout",
     "output_type": "stream",
     "text": [
      "Compute valiation accuracy\n",
      "2023-01-17 16:18:35.976078\n",
      "Range of scores: 0.109276116 to 0.9848726\n",
      "Predicted zeros and ones 186 1234\n",
      "Accuracy: 68.66% Precision: 72.85% Recall: 89.10% F1: 80.16%\n",
      "2023-01-17 16:18:41.006553\n",
      "Fold 4\n",
      "Training example\n",
      "[167 155 106 ...   0   0   0]\n",
      "Train sizes (5590, 3997) (5590, 1)\n",
      "Valid sizes (1458, 3997) (1458, 1)\n",
      "Train set ones/size 3949 / 5590\n",
      "Valid set ones/size 1064 / 1458\n",
      "BUILD MODEL\n",
      "COMPILE\n",
      "FIT\n",
      "2023-01-17 16:18:43.089957\n",
      "Epoch 1/3\n",
      "175/175 [==============================] - 45s 235ms/step - loss: 0.5794 - accuracy: 0.7100 - val_loss: 0.5511 - val_accuracy: 0.7462\n",
      "Epoch 2/3\n",
      "175/175 [==============================] - 40s 230ms/step - loss: 0.5386 - accuracy: 0.7419 - val_loss: 0.5719 - val_accuracy: 0.7133\n",
      "Epoch 3/3\n",
      "175/175 [==============================] - 40s 229ms/step - loss: 0.5006 - accuracy: 0.7639 - val_loss: 0.5771 - val_accuracy: 0.7428\n"
     ]
    },
    {
     "data": {
      "image/png": "[encoded data removed]",
      "text/plain": [
       "<Figure size 576x360 with 1 Axes>"
      ]
     },
     "metadata": {
      "needs_background": "light"
     },
     "output_type": "display_data"
    },
    {
     "name": "stdout",
     "output_type": "stream",
     "text": [
      "Compute valiation accuracy\n",
      "2023-01-17 16:21:08.751674\n",
      "Range of scores: 0.120981015 to 0.99033654\n",
      "Predicted zeros and ones 135 1323\n",
      "Accuracy: 74.28% Precision: 76.04% Recall: 94.55% F1: 84.29%\n",
      "2023-01-17 16:21:14.551121\n",
      "Fold 5\n",
      "Training example\n",
      "[ 34 135  26 ...   0   0   0]\n",
      "Train sizes (5576, 3997) (5576, 1)\n",
      "Valid sizes (1472, 3997) (1472, 1)\n",
      "Train set ones/size 4065 / 5576\n",
      "Valid set ones/size 948 / 1472\n",
      "BUILD MODEL\n",
      "COMPILE\n",
      "FIT\n",
      "2023-01-17 16:21:16.648296\n",
      "Epoch 1/3\n",
      "175/175 [==============================] - 44s 233ms/step - loss: 0.5673 - accuracy: 0.7278 - val_loss: 0.5904 - val_accuracy: 0.7024\n",
      "Epoch 2/3\n",
      "175/175 [==============================] - 41s 237ms/step - loss: 0.5303 - accuracy: 0.7428 - val_loss: 0.6127 - val_accuracy: 0.6909\n",
      "Epoch 3/3\n",
      "175/175 [==============================] - 40s 230ms/step - loss: 0.4912 - accuracy: 0.7678 - val_loss: 0.6123 - val_accuracy: 0.6800\n"
     ]
    },
    {
     "data": {
      "image/png": "[encoded data removed]",
      "text/plain": [
       "<Figure size 576x360 with 1 Axes>"
      ]
     },
     "metadata": {
      "needs_background": "light"
     },
     "output_type": "display_data"
    },
    {
     "name": "stdout",
     "output_type": "stream",
     "text": [
      "Compute valiation accuracy\n",
      "2023-01-17 16:23:22.479139\n",
      "Range of scores: 0.12905416 to 0.9887918\n",
      "Predicted zeros and ones 257 1215\n",
      "Accuracy: 68.00% Precision: 69.63% Recall: 89.24% F1: 78.22%\n",
      "2023-01-17 16:23:28.211982\n",
      "\n",
      "Cross validation 5 folds 3 epochs\n",
      " accuracy mean 70.42% +/- 2.58\n",
      " precision mean 74.14% +/- 2.67\n",
      " recall mean 89.77% +/- 4.24\n",
      " F1 mean 81.13% +/- 2.27\n",
      "2023-01-17 16:23:28.214278\n"
     ]
    }
   ],
   "source": [
    "print(datetime.now())\n",
    "cvdo = CrossValidator(EPOCHS,FOLDS,BREAK)\n",
    "cv_accuracy, cv_precision, cv_recall, cv_f1 = cvdo.do_cross_validation()   \n",
    "print(\"Cross validation %d folds %d epochs\" % (FOLDS,EPOCHS)) \n",
    "print(\" accuracy mean %.2f%% +/- %.2f\" % (np.mean(cv_accuracy), np.std(cv_accuracy)))\n",
    "print(\" precision mean %.2f%% +/- %.2f\" % (np.mean(cv_precision), np.std(cv_precision)))\n",
    "print(\" recall mean %.2f%% +/- %.2f\" % (np.mean(cv_recall), np.std(cv_recall)))\n",
    "print(\" F1 mean %.2f%% +/- %.2f\" % (np.mean(cv_f1), np.std(cv_f1)))\n",
    "print(datetime.now())"
   ]
  },
  {
   "cell_type": "code",
   "execution_count": 51,
   "metadata": {
    "id": "HkCeDg_HdQ36"
   },
   "outputs": [],
   "source": []
  }
 ],
 "metadata": {
  "accelerator": "GPU",
  "colab": {
   "provenance": []
  },
  "gpuClass": "standard",
  "kernelspec": {
   "display_name": "Python 3 (ipykernel)",
   "language": "python",
   "name": "python3"
  },
  "language_info": {
   "codemirror_mode": {
    "name": "ipython",
    "version": 3
   },
   "file_extension": ".py",
   "mimetype": "text/x-python",
   "name": "python",
   "nbconvert_exporter": "python",
   "pygments_lexer": "ipython3",
   "version": "3.10.0"
  }
 },
 "nbformat": 4,
 "nbformat_minor": 1
}
