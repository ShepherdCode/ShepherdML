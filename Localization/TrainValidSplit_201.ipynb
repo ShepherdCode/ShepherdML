{
 "cells": [
  {
   "cell_type": "markdown",
   "id": "b0536e6c",
   "metadata": {},
   "source": [
    "# Train/Valid split\n",
    "Create redudant sequence files with 80/20 splits."
   ]
  },
  {
   "cell_type": "code",
   "execution_count": 1,
   "id": "b262ec91",
   "metadata": {},
   "outputs": [
    {
     "name": "stdout",
     "output_type": "stream",
     "text": [
      "2023-03-15 13:39:34.134255\n"
     ]
    }
   ],
   "source": [
    "from datetime import datetime\n",
    "print(datetime.now())\n",
    "\n",
    "import random\n",
    "random.seed(42)\n",
    "\n",
    "DATA_DIR='/Users/jasonmiller/WVU/Localization/TrainTest/TrainTest_ver43/'\n",
    "SEQ_FILE='train.all_lncRNA_transcripts.csv'"
   ]
  },
  {
   "cell_type": "code",
   "execution_count": 2,
   "id": "11225892",
   "metadata": {},
   "outputs": [],
   "source": [
    "def load_genes():\n",
    "    gene_set = set()\n",
    "    with open (DATA_DIR+SEQ_FILE,'r') as fin:\n",
    "        header = None\n",
    "        for line in fin:\n",
    "            if header is None:\n",
    "                header = line\n",
    "            else:\n",
    "                fields=line.strip().split(',')\n",
    "                gene_id=fields[1]\n",
    "                gene_set.add(gene_id)\n",
    "    return list(gene_set)"
   ]
  },
  {
   "cell_type": "code",
   "execution_count": 3,
   "id": "127acf1f",
   "metadata": {},
   "outputs": [],
   "source": [
    "def make_valids(gene_list):\n",
    "    valids=[ [],[],[],[],[] ]\n",
    "    robin = 0\n",
    "    for i in range(len(gene_list)):\n",
    "        gene = gene_list[i]\n",
    "        valids[robin].append(gene)\n",
    "        robin = (robin+1)%5\n",
    "    return valids"
   ]
  },
  {
   "cell_type": "code",
   "execution_count": 4,
   "id": "4d7ffb11",
   "metadata": {},
   "outputs": [],
   "source": [
    "def write_file_pair(seq_file,train_file,valid_file,valid_list):\n",
    "    valid_set = set(valid_list)\n",
    "    with open(train_file,'w') as tout:\n",
    "        with open(valid_file,'w') as vout:\n",
    "            with open (seq_file,'r') as fin:\n",
    "                header = None\n",
    "                for line in fin:\n",
    "                    line=line.strip()\n",
    "                    if header is None:\n",
    "                        header = line\n",
    "                        print(header,file=tout)\n",
    "                        print(header,file=vout)\n",
    "                    else:\n",
    "                        fields=line.split(',')\n",
    "                        gene_id=fields[1]\n",
    "                        if gene_id in valid_set:\n",
    "                            print(line,file=vout)\n",
    "                        else:\n",
    "                            print(line,file=tout)"
   ]
  },
  {
   "cell_type": "code",
   "execution_count": 5,
   "id": "ec274840",
   "metadata": {},
   "outputs": [],
   "source": [
    "def write_folds(valids,repetition):\n",
    "    r = repetition\n",
    "    for fold in range(5):\n",
    "        valid_list = valids[fold]\n",
    "        f = fold + 1\n",
    "        TRAIN_FILE = 'cv.{}.{}.train.all_lncRNA_transcripts.csv'.format(r,f)\n",
    "        VALID_FILE = 'cv.{}.{}.valid.all_lncRNA_transcripts.csv'.format(r,f)\n",
    "        sfile = DATA_DIR+SEQ_FILE\n",
    "        tfile = DATA_DIR+TRAIN_FILE\n",
    "        vfile = DATA_DIR+VALID_FILE\n",
    "        write_file_pair(sfile,tfile,vfile,valid_list)"
   ]
  },
  {
   "cell_type": "code",
   "execution_count": 6,
   "id": "d37db6bd",
   "metadata": {},
   "outputs": [
    {
     "name": "stdout",
     "output_type": "stream",
     "text": [
      "total genes: 5139\n"
     ]
    }
   ],
   "source": [
    "gene_list = load_genes()\n",
    "print('total genes:',len(gene_list))"
   ]
  },
  {
   "cell_type": "code",
   "execution_count": 7,
   "id": "deb532d5",
   "metadata": {},
   "outputs": [],
   "source": [
    "rep = 1\n",
    "random.shuffle(gene_list)\n",
    "valids = make_valids(gene_list)\n",
    "write_folds(valids, rep)"
   ]
  },
  {
   "cell_type": "code",
   "execution_count": 8,
   "id": "186ee2de",
   "metadata": {},
   "outputs": [],
   "source": [
    "rep = 2\n",
    "random.shuffle(gene_list)\n",
    "valids = make_valids(gene_list)\n",
    "write_folds(valids, rep)"
   ]
  },
  {
   "cell_type": "code",
   "execution_count": 9,
   "id": "a5617ce0",
   "metadata": {},
   "outputs": [
    {
     "name": "stdout",
     "output_type": "stream",
     "text": [
      "2023-03-15 13:39:37.873610\n"
     ]
    }
   ],
   "source": [
    "print(datetime.now())"
   ]
  },
  {
   "cell_type": "code",
   "execution_count": 10,
   "id": "a0a5c38d",
   "metadata": {},
   "outputs": [
    {
     "name": "stdout",
     "output_type": "stream",
     "text": [
      "done\n"
     ]
    }
   ],
   "source": [
    "print('done')"
   ]
  }
 ],
 "metadata": {
  "kernelspec": {
   "display_name": "Python 3 (ipykernel)",
   "language": "python",
   "name": "python3"
  },
  "language_info": {
   "codemirror_mode": {
    "name": "ipython",
    "version": 3
   },
   "file_extension": ".py",
   "mimetype": "text/x-python",
   "name": "python",
   "nbconvert_exporter": "python",
   "pygments_lexer": "ipython3",
   "version": "3.10.0"
  }
 },
 "nbformat": 4,
 "nbformat_minor": 5
}
