{
 "cells": [
  {
   "cell_type": "markdown",
   "metadata": {},
   "source": [
    "# MLP\n",
    "\n",
    "Non-coding. Use one neuron and selected K-mers."
   ]
  },
  {
   "cell_type": "markdown",
   "metadata": {},
   "source": [
    "## Environment setup"
   ]
  },
  {
   "cell_type": "code",
   "execution_count": 1,
   "metadata": {},
   "outputs": [
    {
     "name": "stdout",
     "output_type": "stream",
     "text": [
      "2022-10-20 18:14:54.534526\n",
      "Python 3.10.0\n",
      "sklearn 1.1.2\n"
     ]
    }
   ],
   "source": [
    "from datetime import datetime\n",
    "print(datetime.now())\n",
    "from platform import python_version\n",
    "print('Python',python_version())\n",
    "import numpy as np\n",
    "import pandas as pd\n",
    "from matplotlib import pyplot as plt \n",
    "import sklearn   # pip install --upgrade scikit-learn\n",
    "print('sklearn',sklearn.__version__)"
   ]
  },
  {
   "cell_type": "code",
   "execution_count": 2,
   "metadata": {},
   "outputs": [
    {
     "name": "stdout",
     "output_type": "stream",
     "text": [
      "K= 4 alphabet size= 4 vocabulary size= 256\n"
     ]
    }
   ],
   "source": [
    "from sklearn.model_selection import ShuffleSplit\n",
    "from sklearn.model_selection import cross_val_score\n",
    "from sklearn.model_selection import RepeatedKFold\n",
    "from sklearn.model_selection import StratifiedKFold\n",
    "import tensorflow as tf\n",
    "from tensorflow import keras\n",
    "from keras.wrappers.scikit_learn import KerasRegressor\n",
    "from keras.models import Sequential\n",
    "from keras.layers import Bidirectional\n",
    "from keras.layers import Dense\n",
    "from keras.layers import LayerNormalization\n",
    "from sklearn.preprocessing import StandardScaler\n",
    "\n",
    "dt='float32'\n",
    "tf.keras.backend.set_floatx(dt)\n",
    "\n",
    "tf.random.set_seed(42) # reproducible training sessions?\n",
    "\n",
    "from KmerCounter import KmerCounter\n",
    "ALPHABET_SIZE=4\n",
    "K=4\n",
    "counter=KmerCounter(K)\n",
    "VOCABULARY_SIZE = counter.get_vocabulary_size() \n",
    "print('K=',K,'alphabet size=',ALPHABET_SIZE,'vocabulary size=',VOCABULARY_SIZE)\n",
    "from TrainValidSplit2 import Splitter2\n",
    "EPOCHS=20\n",
    "from cell_lines import Cell_Lines\n",
    "CELL_LINE_NUMBER = 0"
   ]
  },
  {
   "cell_type": "code",
   "execution_count": 3,
   "metadata": {},
   "outputs": [],
   "source": [
    "ATLAS_DIR = '/Users/jasonmiller/WVU/Localization/LncAtlas/'\n",
    "RCI_FILE = 'CNRCI_noncoding_train_genes.csv'\n",
    "GENCODE_DIR = '/Users/jasonmiller/WVU/Localization/GenCode/'\n",
    "COUNTS_FILE='CNRCI_noncoding_train_counts.K4.csv'"
   ]
  },
  {
   "cell_type": "code",
   "execution_count": 4,
   "metadata": {},
   "outputs": [
    {
     "name": "stdout",
     "output_type": "stream",
     "text": [
      "Cell line for today: 0 = A549\n"
     ]
    }
   ],
   "source": [
    "# Consider a Cell_Lines object to represent today's cell line.\n",
    "all_cell_lines = Cell_Lines.get_ordered_list()\n",
    "cell_line_name = all_cell_lines[CELL_LINE_NUMBER]\n",
    "print('Cell line for today:',CELL_LINE_NUMBER,'=',cell_line_name)"
   ]
  },
  {
   "cell_type": "markdown",
   "metadata": {},
   "source": [
    "## Model design"
   ]
  },
  {
   "cell_type": "code",
   "execution_count": 5,
   "metadata": {},
   "outputs": [],
   "source": [
    "def build_model():\n",
    "    # Here is the joke model -- one neuron!\n",
    "    mlp = keras.models.Sequential()\n",
    "    one_layer = keras.layers.Dense(1, activation='sigmoid',dtype=dt,\n",
    "                                      input_dim=VOCABULARY_SIZE)\n",
    "    mlp.add(one_layer)\n",
    "      \n",
    "    bc=tf.keras.losses.BinaryCrossentropy(from_logits=False)\n",
    "    print(\"COMPILE...\")\n",
    "    mlp.compile(loss=bc, optimizer=\"Adam\",metrics=[\"accuracy\"])\n",
    "    print(\"...COMPILED\")\n",
    "    return mlp"
   ]
  },
  {
   "cell_type": "code",
   "execution_count": 6,
   "metadata": {
    "scrolled": true
   },
   "outputs": [
    {
     "name": "stdout",
     "output_type": "stream",
     "text": [
      "2022-10-20 18:15:03.730061\n",
      "COMPILE...\n",
      "...COMPILED\n",
      "Summarize the model\n",
      "Model: \"sequential\"\n",
      "_________________________________________________________________\n",
      " Layer (type)                Output Shape              Param #   \n",
      "=================================================================\n",
      " dense (Dense)               (None, 1)                 257       \n",
      "                                                                 \n",
      "=================================================================\n",
      "Total params: 257\n",
      "Trainable params: 257\n",
      "Non-trainable params: 0\n",
      "_________________________________________________________________\n",
      "None\n"
     ]
    },
    {
     "name": "stderr",
     "output_type": "stream",
     "text": [
      "2022-10-20 18:15:03.734396: I tensorflow/core/platform/cpu_feature_guard.cc:193] This TensorFlow binary is optimized with oneAPI Deep Neural Network Library (oneDNN) to use the following CPU instructions in performance-critical operations:  AVX2 FMA\n",
      "To enable them in other operations, rebuild TensorFlow with the appropriate compiler flags.\n"
     ]
    }
   ],
   "source": [
    "# Model setup\n",
    "print(datetime.now())\n",
    "model=build_model()\n",
    "print (\"Summarize the model\")\n",
    "print(model.summary())  # Print this only once"
   ]
  },
  {
   "cell_type": "markdown",
   "metadata": {},
   "source": [
    "## Load the data"
   ]
  },
  {
   "cell_type": "code",
   "execution_count": 7,
   "metadata": {},
   "outputs": [
    {
     "name": "stdout",
     "output_type": "stream",
     "text": [
      "2022-10-20 18:15:03.880548\n",
      "Loaded values for cell line 0\n",
      "Selected 1422 values out of 4622\n",
      "2022-10-20 18:15:04.887413\n"
     ]
    }
   ],
   "source": [
    "# Data setup\n",
    "print(datetime.now())\n",
    "Kmer_counts_filepath = GENCODE_DIR+COUNTS_FILE\n",
    "atlas_filepath = ATLAS_DIR+RCI_FILE\n",
    "\n",
    "splitter=Splitter2()\n",
    "splitter.load_counts_universe(Kmer_counts_filepath)\n",
    "universe = splitter.get_gene_universe(atlas_filepath, CELL_LINE_NUMBER)\n",
    "print(datetime.now())"
   ]
  },
  {
   "cell_type": "markdown",
   "metadata": {},
   "source": [
    "## Train and validate with all K-mer counts"
   ]
  },
  {
   "cell_type": "code",
   "execution_count": 8,
   "metadata": {},
   "outputs": [
    {
     "name": "stdout",
     "output_type": "stream",
     "text": [
      "splitting\n",
      "2022-10-20 18:15:04.917856\n",
      "Train sizes 1477 1477\n",
      "Valid sizes 340 340\n",
      "scaling\n",
      "2022-10-20 18:15:04.943921\n",
      "Thresholds (-2.0908811911882577, 1.1671038970933545)\n",
      "Train set ones/size 1033 / 1477\n",
      "Valid set ones/size 190 / 340\n",
      "BUILD MODEL\n",
      "COMPILE...\n",
      "...COMPILED\n",
      "FIT\n",
      "2022-10-20 18:15:04.969631\n",
      "Epoch 1/20\n",
      "47/47 [==============================] - 1s 6ms/step - loss: 0.7663 - accuracy: 0.5531 - val_loss: 0.6907 - val_accuracy: 0.6059\n",
      "Epoch 2/20\n",
      "47/47 [==============================] - 0s 3ms/step - loss: 0.5978 - accuracy: 0.6804 - val_loss: 0.7009 - val_accuracy: 0.6088\n",
      "Epoch 3/20\n",
      "47/47 [==============================] - 0s 6ms/step - loss: 0.5639 - accuracy: 0.7373 - val_loss: 0.7160 - val_accuracy: 0.6176\n",
      "Epoch 4/20\n",
      "47/47 [==============================] - 0s 4ms/step - loss: 0.5415 - accuracy: 0.7454 - val_loss: 0.7332 - val_accuracy: 0.6059\n",
      "Epoch 5/20\n",
      "47/47 [==============================] - 0s 4ms/step - loss: 0.5248 - accuracy: 0.7583 - val_loss: 0.7467 - val_accuracy: 0.6088\n",
      "Epoch 6/20\n",
      "47/47 [==============================] - 0s 4ms/step - loss: 0.5146 - accuracy: 0.7691 - val_loss: 0.7254 - val_accuracy: 0.6412\n",
      "Epoch 7/20\n",
      "47/47 [==============================] - 0s 3ms/step - loss: 0.4961 - accuracy: 0.7752 - val_loss: 0.7260 - val_accuracy: 0.6324\n",
      "Epoch 8/20\n",
      "47/47 [==============================] - 0s 4ms/step - loss: 0.4802 - accuracy: 0.7969 - val_loss: 0.7203 - val_accuracy: 0.6382\n",
      "Epoch 9/20\n",
      "47/47 [==============================] - 0s 4ms/step - loss: 0.4654 - accuracy: 0.8152 - val_loss: 0.7573 - val_accuracy: 0.6235\n",
      "Epoch 10/20\n",
      "47/47 [==============================] - 0s 4ms/step - loss: 0.4607 - accuracy: 0.8158 - val_loss: 0.7319 - val_accuracy: 0.6441\n",
      "Epoch 11/20\n",
      "47/47 [==============================] - 0s 5ms/step - loss: 0.4494 - accuracy: 0.8280 - val_loss: 0.7327 - val_accuracy: 0.6471\n",
      "Epoch 12/20\n",
      "47/47 [==============================] - 0s 4ms/step - loss: 0.4384 - accuracy: 0.8328 - val_loss: 0.7306 - val_accuracy: 0.6441\n",
      "Epoch 13/20\n",
      "47/47 [==============================] - 0s 4ms/step - loss: 0.4290 - accuracy: 0.8375 - val_loss: 0.7368 - val_accuracy: 0.6500\n",
      "Epoch 14/20\n",
      "47/47 [==============================] - 0s 5ms/step - loss: 0.4237 - accuracy: 0.8382 - val_loss: 0.7442 - val_accuracy: 0.6647\n",
      "Epoch 15/20\n",
      "47/47 [==============================] - 0s 5ms/step - loss: 0.4146 - accuracy: 0.8463 - val_loss: 0.7406 - val_accuracy: 0.6471\n",
      "Epoch 16/20\n",
      "47/47 [==============================] - 0s 4ms/step - loss: 0.4087 - accuracy: 0.8402 - val_loss: 0.7493 - val_accuracy: 0.6676\n",
      "Epoch 17/20\n",
      "47/47 [==============================] - 0s 4ms/step - loss: 0.4028 - accuracy: 0.8517 - val_loss: 0.7392 - val_accuracy: 0.6412\n",
      "Epoch 18/20\n",
      "47/47 [==============================] - 0s 3ms/step - loss: 0.3960 - accuracy: 0.8544 - val_loss: 0.7481 - val_accuracy: 0.6500\n",
      "Epoch 19/20\n",
      "47/47 [==============================] - 0s 3ms/step - loss: 0.3918 - accuracy: 0.8504 - val_loss: 0.7488 - val_accuracy: 0.6441\n",
      "Epoch 20/20\n",
      "47/47 [==============================] - 0s 3ms/step - loss: 0.3868 - accuracy: 0.8551 - val_loss: 0.7447 - val_accuracy: 0.6353\n"
     ]
    },
    {
     "data": {
      "image/png": "[encoded data removed]",
      "text/plain": [
       "<Figure size 800x500 with 1 Axes>"
      ]
     },
     "metadata": {},
     "output_type": "display_data"
    },
    {
     "name": "stdout",
     "output_type": "stream",
     "text": [
      "Compute valiation accuracy\n",
      "2022-10-20 18:15:09.950509\n",
      "accuracy: 63.53%\n",
      "2022-10-20 18:15:10.071587\n"
     ]
    }
   ],
   "source": [
    "print('splitting')\n",
    "print(datetime.now())\n",
    "data_partitions = splitter.get_train_valid_partitions(universe)\n",
    "one_partition =data_partitions[0]\n",
    "train_genes,valid_genes = one_partition[0],one_partition[1]\n",
    "thresholds = splitter.choose_thresholds(train_genes,'one_z')\n",
    "X_train,y_train,train_ids = splitter.get_X_y(train_genes, thresholds)\n",
    "X_valid,y_valid,valid_ids = splitter.get_X_y(valid_genes, thresholds)\n",
    "print('Train sizes',len(X_train),len(y_train))\n",
    "print('Valid sizes',len(X_valid),len(y_valid))\n",
    "\n",
    "print('scaling')\n",
    "print(datetime.now())\n",
    "scaler = StandardScaler()\n",
    "scaler.fit(X_train)\n",
    "X_train = scaler.transform(X_train)\n",
    "X_valid = scaler.transform(X_valid)\n",
    "\n",
    "print('Thresholds',thresholds)\n",
    "print('Train set ones/size',\n",
    "      np.count_nonzero(y_train),'/',len(y_train))\n",
    "print('Valid set ones/size',\n",
    "      np.count_nonzero(y_valid),'/',len(y_valid))\n",
    "\n",
    "print(\"BUILD MODEL\")\n",
    "model=build_model()\n",
    "\n",
    "print(\"FIT\")\n",
    "print(datetime.now())\n",
    "history=model.fit(X_train, y_train, # batch_size=10, default=32 works nicely\n",
    "        epochs=EPOCHS, verbose=1,  # verbose=1 for ascii art, verbose=0 for none\n",
    "        validation_data=(X_valid,y_valid) )\n",
    "\n",
    "pd.DataFrame(history.history).plot(figsize=(8,5))\n",
    "plt.grid(True)\n",
    "plt.gca().set_ylim(0,1)\n",
    "plt.show()\n",
    "\n",
    "print(\"Compute valiation accuracy\")\n",
    "print(datetime.now())\n",
    "scores = model.evaluate(X_valid, y_valid, verbose=0)\n",
    "print(\"%s: %.2f%%\" % (model.metrics_names[1], scores[1]*100))\n",
    "print(datetime.now())"
   ]
  },
  {
   "cell_type": "code",
   "execution_count": 9,
   "metadata": {},
   "outputs": [
    {
     "name": "stdout",
     "output_type": "stream",
     "text": [
      "bias [0.61874974]\n",
      "256 weights min= [-0.24891624] max= [0.24013878]\n"
     ]
    }
   ],
   "source": [
    "# https://www.tensorflow.org/guide/variable\n",
    "w=model.trainable_weights[0].numpy()  # weights\n",
    "b=model.trainable_weights[1].numpy()  # bias\n",
    "print('bias',b)\n",
    "print(len(w),'weights min=',min(w),'max=',max(w))"
   ]
  }
 ],
 "metadata": {
  "kernelspec": {
   "display_name": "Python 3 (ipykernel)",
   "language": "python",
   "name": "python3"
  },
  "language_info": {
   "codemirror_mode": {
    "name": "ipython",
    "version": 3
   },
   "file_extension": ".py",
   "mimetype": "text/x-python",
   "name": "python",
   "nbconvert_exporter": "python",
   "pygments_lexer": "ipython3",
   "version": "3.10.0"
  }
 },
 "nbformat": 4,
 "nbformat_minor": 2
}
