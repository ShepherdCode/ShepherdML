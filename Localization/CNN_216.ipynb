{
 "cells": [
  {
   "cell_type": "markdown",
   "metadata": {
    "id": "PG-tGRnlFLA3"
   },
   "source": [
    "# CNN + MaxPool\n",
    "CNN with GenCode 43 data.\n",
    "Merge cell lines using average of the antilogs.\n",
    "Ten rounds of CV.\n",
    "Use class_weights for balanced predictions.\n",
    "Return to 3 epochs of training.\n",
    "\n",
    "Test the k-mer cache mechanism.\n",
    "CNN_215 created the cache. \n",
    "This notebook should use it."
   ]
  },
  {
   "cell_type": "markdown",
   "metadata": {
    "id": "DSm4TCJFkTTs"
   },
   "source": [
    "TO DO:\n",
    "* Retain best model."
   ]
  },
  {
   "cell_type": "code",
   "execution_count": 1,
   "metadata": {
    "colab": {
     "base_uri": "https://localhost:8080/"
    },
    "id": "0RmwUsVLFLA6",
    "outputId": "ca6ac5ec-bd49-430d-ea05-b9ee1631ff9c"
   },
   "outputs": [
    {
     "name": "stdout",
     "output_type": "stream",
     "text": [
      "2023-03-07 13:47:11.141652\n"
     ]
    }
   ],
   "source": [
    "from datetime import datetime\n",
    "print(datetime.now())"
   ]
  },
  {
   "cell_type": "code",
   "execution_count": 2,
   "metadata": {
    "colab": {
     "base_uri": "https://localhost:8080/"
    },
    "id": "OlzN9OdsFWEU",
    "outputId": "c83889fb-445b-40e0-829f-79f2a345b851"
   },
   "outputs": [
    {
     "name": "stdout",
     "output_type": "stream",
     "text": [
      "/Users/jasonmiller/WVU/Localization/TrainTest/TrainTest_ver43/\n"
     ]
    }
   ],
   "source": [
    "try:\n",
    "    from google.colab import drive\n",
    "    IN_COLAB = True\n",
    "    print('Running on CoLab')\n",
    "    PATH='/content/drive/'\n",
    "    drive.mount(PATH)\n",
    "    DATA_DIR=PATH+'My Drive/data/Localization/TrainTest/TrainTest_ver43/'  # must end in \"/\"\n",
    "except:\n",
    "    IN_COLAB = False\n",
    "    DATA_DIR = 'D:/Adjeroh/Localization/TrainTest/'   # Windows\n",
    "    DATA_DIR = '/Users/jasonmiller/WVU/Localization/TrainTest/TrainTest_ver43/'    # Mac\n",
    "print(DATA_DIR)"
   ]
  },
  {
   "cell_type": "code",
   "execution_count": 3,
   "metadata": {
    "colab": {
     "base_uri": "https://localhost:8080/"
    },
    "id": "PRX-UEr8FLA8",
    "outputId": "2df05dda-18d7-422b-8358-5eeeeba6b963"
   },
   "outputs": [
    {
     "name": "stdout",
     "output_type": "stream",
     "text": [
      "Python 3.10.0\n",
      "sklearn 1.1.2\n"
     ]
    },
    {
     "name": "stderr",
     "output_type": "stream",
     "text": [
      "2023-03-07 13:47:15.252830: I tensorflow/core/platform/cpu_feature_guard.cc:193] This TensorFlow binary is optimized with oneAPI Deep Neural Network Library (oneDNN) to use the following CPU instructions in performance-critical operations:  AVX2 FMA\n",
      "To enable them in other operations, rebuild TensorFlow with the appropriate compiler flags.\n"
     ]
    }
   ],
   "source": [
    "from platform import python_version\n",
    "print('Python',python_version())\n",
    "import numpy as np\n",
    "import pandas as pd\n",
    "import scipy.stats as ss\n",
    "import pickle\n",
    "import time # sleep function\n",
    "from os.path import isfile\n",
    "from matplotlib import pyplot as plt \n",
    "import sklearn   # pip install --upgrade scikit-learn\n",
    "print('sklearn',sklearn.__version__)\n",
    "\n",
    "import tensorflow as tf\n",
    "dt='float32'\n",
    "tf.keras.backend.set_floatx('float32')\n",
    "tf.random.set_seed(42) \n",
    "\n",
    "from tensorflow import keras\n",
    "from sklearn.mixture import GaussianMixture\n",
    "from sklearn.model_selection import KFold\n",
    "from sklearn.metrics import accuracy_score\n",
    "from sklearn.metrics import precision_score\n",
    "from sklearn.metrics import recall_score\n",
    "from sklearn.metrics import f1_score\n",
    "from sklearn.metrics import precision_recall_curve\n",
    "from sklearn.metrics import roc_curve\n",
    "from sklearn.metrics import roc_auc_score\n",
    "from sklearn.metrics import auc\n",
    "from sklearn.metrics import matthews_corrcoef\n",
    "from sklearn.utils import class_weight\n",
    "\n",
    "from keras.models import Sequential\n",
    "from keras.layers import Masking\n",
    "from keras.layers import Embedding\n",
    "from keras.layers import Conv1D\n",
    "from keras.layers import GlobalAveragePooling1D\n",
    "from keras.layers import GlobalMaxPooling1D\n",
    "from keras.layers import AveragePooling1D\n",
    "from keras.layers import MaxPooling1D\n",
    "from keras.layers import Bidirectional\n",
    "from keras.layers import LSTM\n",
    "from keras.layers import TimeDistributed\n",
    "from keras.layers import Flatten\n",
    "from keras.layers import Dense\n",
    "from keras.layers import Dropout\n",
    "from keras.losses import BinaryCrossentropy\n",
    "\n",
    "K=4\n",
    "CFILTERS=64\n",
    "FILTERSIZE=16\n",
    "RCELLS=32\n",
    "DCELLS=16\n",
    "EPOCHS=3\n",
    "FOLDS=5      \n",
    "EMBED_DIMEN = 4 # arbitrary hyperparameter\n",
    "MINLEN=200\n",
    "MAXLEN=5000   \n",
    "PRETTY_PICTURES = True\n",
    "RCI_THRESHOLD_MECHANISM = 'RCI_GMM'  # 'RCI_GMM' 'ZERO' 'THE_MEAN'\n",
    "BREAK = True   # break after first fold\n",
    "CACHING = True   # have not worked out how to cache multiple cell lines\n",
    "NUM_LINES = 15   # 15 to analyze all of them\n",
    "REPETITIONS = 1  # usually 2 for good stats"
   ]
  },
  {
   "cell_type": "code",
   "execution_count": 4,
   "metadata": {
    "id": "LnkpVKdMFLA-"
   },
   "outputs": [
    {
     "name": "stdout",
     "output_type": "stream",
     "text": [
      "WARNING: this run will read sequence from cache.\n"
     ]
    }
   ],
   "source": [
    "RCI_FILE       = 'train.lncRNA_RCI.csv'\n",
    "SEQUENCE_FILE  = 'train.all_lncRNA_transcripts.csv'\n",
    "CACHE_SEQUENCE = 'cache.seq.pickle'\n",
    "CACHE_IDS      = 'cache.id.pickle'\n",
    "if CACHING:\n",
    "    cache_seq = DATA_DIR+CACHE_SEQUENCE \n",
    "    cache_ids = DATA_DIR+CACHE_IDS \n",
    "    if isfile(cache_seq) and isfile(cache_ids):\n",
    "        print('WARNING: this run will read sequence from cache.')\n",
    "    else:\n",
    "        print('INFO: this run will write sequence to cache.')"
   ]
  },
  {
   "cell_type": "code",
   "execution_count": 5,
   "metadata": {
    "id": "e3p4QzQJFLA_"
   },
   "outputs": [],
   "source": [
    "def get_ordered_list():\n",
    "    ordered_list = \\\n",
    "    ['A549','H1.hESC','HeLa.S3','HepG2','HT1080',\\\n",
    "      'HUVEC','MCF.7','NCI.H460','NHEK','SK.MEL.5',\\\n",
    "      'SK.N.DZ','SK.N.SH','GM12878','K562','IMR.90']\n",
    "    return ordered_list\n",
    "all_cell_lines = get_ordered_list()\n",
    "\n",
    "EXCLUSIONS = [1]   # possibly exclude cell line 1 = H1.hESC"
   ]
  },
  {
   "cell_type": "markdown",
   "metadata": {
    "id": "UtqdpJOxFLBA"
   },
   "source": [
    "## Data Load"
   ]
  },
  {
   "cell_type": "code",
   "execution_count": 6,
   "metadata": {
    "id": "p35ehKV3Kq0z"
   },
   "outputs": [],
   "source": [
    "class DataLoader():\n",
    "    def __init__(self):\n",
    "        self.cache=dict() \n",
    "        self.vals = {'A':0, 'C':1, 'G':2, 'T':3}\n",
    "        \n",
    "    def load_gene_rci_values(self,filepath,exclusions):\n",
    "        '''\n",
    "        Load from RCI csv file.\n",
    "        Return dict with keys=gene:str and values=RCI:float.\n",
    "        '''\n",
    "        gene_to_rci = {}\n",
    "        overall_sum = 0\n",
    "        with open (filepath,'r') as handle:\n",
    "            header = None\n",
    "            for row in handle:\n",
    "                if header is None:\n",
    "                    header = row # skip file's header line\n",
    "                else:\n",
    "                    line = row.strip()\n",
    "                    fields = line.split(',')\n",
    "                    gene_id = fields.pop(0)\n",
    "                    cell_line_index = 0\n",
    "                    rci_values = []\n",
    "                    for rci_str in fields:\n",
    "                        if cell_line_index not in exclusions:\n",
    "                            if rci_str != \"nan\":\n",
    "                                rci_val = float(rci_str)\n",
    "                                rci_values.append(rci_val)\n",
    "                        cell_line_index += 1\n",
    "                    if len(rci_values)>0:\n",
    "                        values = np.array(rci_values)\n",
    "                        antilogs = np.power(values,2)\n",
    "                        big_mean = np.mean(antilogs)\n",
    "                        if np.absolute(big_mean)<0.000001:\n",
    "                            log_mean = 0.0\n",
    "                        else:\n",
    "                            log_mean = np.log2(big_mean) \n",
    "                        gene_to_rci[gene_id] = log_mean\n",
    "        print('Number of RCI values loaded',len(gene_to_rci.keys()))\n",
    "        return gene_to_rci\n",
    "\n",
    "    def seq_to_kmer_values(self,rna,K):\n",
    "        vec=[] # seq converted to list of K-mers \n",
    "        N_indicator = 0 # indicator value\n",
    "        length = len(rna)\n",
    "        for i in range(length-K+1):\n",
    "            kmer = rna[i:i+K]\n",
    "            if 'N' in kmer:\n",
    "                value = N_indicator\n",
    "            elif kmer in self.cache.keys():\n",
    "                value = self.cache[kmer]\n",
    "            else:\n",
    "                value = 0\n",
    "                for j in range(K):\n",
    "                    value *= 4   \n",
    "                    nextnuc = kmer[j] \n",
    "                    nucval = self.vals[nextnuc]\n",
    "                    value += nucval\n",
    "                value += 1   # NNN => 0, AAA => 1\n",
    "                self.cache[kmer] = value\n",
    "            vec.append(value)\n",
    "        return vec\n",
    "\n",
    "    def load_sequence(self,filepath):\n",
    "        allids=[]\n",
    "        allseq=[]\n",
    "        cache_seq = DATA_DIR+CACHE_SEQUENCE \n",
    "        cache_ids = DATA_DIR+CACHE_IDS \n",
    "        if CACHING and isfile(cache_seq) and isfile(cache_ids):\n",
    "            # Warning: the cache may represent the wrong K.\n",
    "            with open(cache_seq,'rb') as fin:\n",
    "                allseq = pickle.load(fin)\n",
    "            with open(cache_ids,'rb') as fin:\n",
    "                allids = pickle.load(fin)\n",
    "            return allids,allseq           \n",
    "        NREPEAT = str('N'*MAXLEN)\n",
    "        with open (filepath,'r') as handle:\n",
    "            header = None\n",
    "            for row in handle:\n",
    "                if header is None:\n",
    "                    header = row\n",
    "                else:\n",
    "                    line    = row.strip()\n",
    "                    fields  = line.split(',')\n",
    "                    tran_id = fields[0]  # with version number\n",
    "                    gene_id = fields[1]        # without version number\n",
    "                    seq_len = int(fields[3])\n",
    "                    seq_txt = fields[4]\n",
    "                    if seq_len>=MINLEN and seq_len<=MAXLEN and gene_id in gene_to_rci.keys():\n",
    "                        allids.append( (gene_id,tran_id) )\n",
    "                        if seq_len<MAXLEN:\n",
    "                            seq_txt = seq_txt + NREPEAT\n",
    "                            seq_txt = seq_txt[:MAXLEN]\n",
    "                        hot_vec = self.seq_to_kmer_values(seq_txt,K)\n",
    "                        allseq.append(hot_vec)\n",
    "        if CACHING:\n",
    "            with open(cache_seq,'wb') as fout:\n",
    "                pickle.dump(allseq,fout)\n",
    "            with open(cache_ids,'wb') as fout:\n",
    "                pickle.dump(allids,fout)\n",
    "        return allids,allseq"
   ]
  },
  {
   "cell_type": "markdown",
   "metadata": {
    "id": "VDZ6siB_Kq04"
   },
   "source": [
    "## Model"
   ]
  },
  {
   "cell_type": "code",
   "execution_count": 7,
   "metadata": {
    "id": "AwMbRjm0FLBF"
   },
   "outputs": [],
   "source": [
    "def build_model():\n",
    "    ALPHABET=4**K+1  # NUMBER OF DISTINCT KMERS POSSIBLE, add one if N gets mask value\n",
    "    ADJUST_LENGTH = MAXLEN-K+1  # fixed length sequences\n",
    "    cnn = Sequential()\n",
    "    embed_layer = Embedding(ALPHABET,EMBED_DIMEN,input_length=ADJUST_LENGTH,mask_zero=True)   \n",
    "    cnn1_layer = Conv1D(CFILTERS, FILTERSIZE)\n",
    "    pool_layer = MaxPooling1D(pool_size=FILTERSIZE, strides=FILTERSIZE//2)\n",
    "    flat_layer = Flatten()\n",
    "    dens_layer = Dense(DCELLS)\n",
    "    drop_layer = Dropout(0.5)\n",
    "    output_layer = Dense(1,activation='sigmoid',dtype=dt)\n",
    "\n",
    "    cnn.add(embed_layer)\n",
    "    cnn.add(cnn1_layer)\n",
    "    cnn.add(pool_layer)\n",
    "    cnn.add(flat_layer)\n",
    "    cnn.add(dens_layer)\n",
    "    cnn.add(drop_layer)\n",
    "    cnn.add(output_layer)\n",
    "\n",
    "    bc=BinaryCrossentropy(from_logits=False)\n",
    "    cnn.compile(loss=bc, optimizer=\"Adam\",metrics=[\"accuracy\"])\n",
    "    return cnn"
   ]
  },
  {
   "cell_type": "code",
   "execution_count": 8,
   "metadata": {
    "colab": {
     "base_uri": "https://localhost:8080/"
    },
    "id": "clj-wufgFLBF",
    "outputId": "3feed801-b02a-474d-8038-8f8408b230de"
   },
   "outputs": [
    {
     "name": "stdout",
     "output_type": "stream",
     "text": [
      "2023-03-07 13:47:25.142074\n",
      "Model: \"sequential\"\n",
      "_________________________________________________________________\n",
      " Layer (type)                Output Shape              Param #   \n",
      "=================================================================\n",
      " embedding (Embedding)       (None, 4997, 4)           1028      \n"
     ]
    },
    {
     "name": "stderr",
     "output_type": "stream",
     "text": [
      "2023-03-07 13:47:25.149830: I tensorflow/core/platform/cpu_feature_guard.cc:193] This TensorFlow binary is optimized with oneAPI Deep Neural Network Library (oneDNN) to use the following CPU instructions in performance-critical operations:  AVX2 FMA\n",
      "To enable them in other operations, rebuild TensorFlow with the appropriate compiler flags.\n"
     ]
    },
    {
     "name": "stdout",
     "output_type": "stream",
     "text": [
      "                                                                 \n",
      " conv1d (Conv1D)             (None, 4982, 64)          4160      \n",
      "                                                                 \n",
      " max_pooling1d (MaxPooling1D  (None, 621, 64)          0         \n",
      " )                                                               \n",
      "                                                                 \n",
      " flatten (Flatten)           (None, 39744)             0         \n",
      "                                                                 \n",
      " dense (Dense)               (None, 16)                635920    \n",
      "                                                                 \n",
      " dropout (Dropout)           (None, 16)                0         \n",
      "                                                                 \n",
      " dense_1 (Dense)             (None, 1)                 17        \n",
      "                                                                 \n",
      "=================================================================\n",
      "Total params: 641,125\n",
      "Trainable params: 641,125\n",
      "Non-trainable params: 0\n",
      "_________________________________________________________________\n",
      "None\n"
     ]
    }
   ],
   "source": [
    "print(datetime.now())\n",
    "model=build_model()\n",
    "print(model.summary())  # Print this only once\n",
    "model=None"
   ]
  },
  {
   "cell_type": "markdown",
   "metadata": {
    "id": "MgrC1alOKq07"
   },
   "source": [
    "## Training"
   ]
  },
  {
   "cell_type": "code",
   "execution_count": 9,
   "metadata": {
    "id": "W9xiFzNbFLBE"
   },
   "outputs": [],
   "source": [
    "import gc\n",
    "class CrossValidator():\n",
    "    def __init__(self,epochs,folds,quick_test=False,score_threshold=0.5):\n",
    "        self.epochs = epochs\n",
    "        self.folds = folds\n",
    "        self.quick_test = quick_test\n",
    "        self.score_threshold = score_threshold\n",
    "        self.mechanism = 'ZERO'\n",
    "        self.discriminator = None\n",
    "        self.flip = False    \n",
    "        self.cv_accuracy=[]\n",
    "        self.cv_precision=[]\n",
    "        self.cv_recall=[]\n",
    "        self.cv_f1=[]\n",
    "        self.cv_auprc=[]\n",
    "        self.cv_auroc=[]\n",
    "        self.cv_mcc=[]\n",
    "        \n",
    "    def set_sequences(self, allids, allseq):\n",
    "        # Keep IDs and sequences in same order.\n",
    "        self.all_ids = allids  # pairs of (gene_id,tran_id)\n",
    "        self.all_seqs = allseq  # may be vectors of K-mers\n",
    "        genes = []\n",
    "        for i in range(len(allids)):\n",
    "            (one_gene,one_tran) = allids[i]\n",
    "            genes.append(one_gene)\n",
    "        self.all_genes = genes\n",
    "            \n",
    "    def set_rci_map(self, gene_to_rci):\n",
    "        # The map is for fast lookup, not gene order.\n",
    "        self.rci_map = gene_to_rci # map gene_id to RCI value\n",
    "    \n",
    "    def get_gene_subset(self, sub_index):\n",
    "        sub_genes = set()\n",
    "        for index in sub_index:\n",
    "            one_gene = self.all_genes[index]\n",
    "            sub_genes.add(one_gene)\n",
    "        return sub_genes   # this is a set: unordered with fast lookup\n",
    "    \n",
    "    def _get_X_y(self, gene_index, exclude_middle=False):\n",
    "        # gene_index is ndarray with subset of indices of all_ids\n",
    "        subsetX=[]\n",
    "        subsetY=[]\n",
    "        for i in gene_index:\n",
    "            gene_id,tran_id = self.all_ids[i]\n",
    "            oneX            = self.all_seqs[i]\n",
    "            oneY            = self.rci_map[gene_id]\n",
    "            if exclude_middle and oneY >= -2 and oneY <= 0:\n",
    "                # Exclude middle from train set only, for comparison to Yuan et al\n",
    "                continue\n",
    "            subsetX.append(oneX)\n",
    "            subsetY.append(oneY)\n",
    "        subsetX = np.array(subsetX)\n",
    "        subsetY = np.array(subsetY).reshape((-1,1))\n",
    "        return subsetX,subsetY\n",
    "    \n",
    "    def set_threshold_mechanism(self, mechanism):\n",
    "        if mechanism not in ['RCI_GMM','THE_MEAN','ZERO']:\n",
    "            raise Exception('Unrecognized mechansm:',mechanism)\n",
    "        self.mechanism = mechanism\n",
    "    \n",
    "    def _apply_threshold(self, array_of_rci):\n",
    "        # Takes list of float, returns list of labels [0,1].\n",
    "        if self.mechanism == 'RCI_GMM':\n",
    "            labels = self.discriminator.predict(array_of_rci)\n",
    "            if self.flip:\n",
    "                IS_CYTO = lambda label: 1 if label==0 else 0\n",
    "                labels = np.array(list(map(IS_CYTO, labels)))\n",
    "        else:  # 'THE_MEAN' or 'ZERO'\n",
    "            rci_threshold = self.discriminator\n",
    "            IS_CYTO = lambda rci: 1 if rci>rci_threshold else 0\n",
    "            labels = np.array(list(map(IS_CYTO, array_of_rci)))\n",
    "        return labels\n",
    "    \n",
    "    def _prepare_threshold(self, rci_values):\n",
    "        if self.mechanism == 'RCI_GMM':\n",
    "            gmm = GaussianMixture(n_components=2, verbose=0, \n",
    "                covariance_type='spherical', n_init=100) \n",
    "            gmm.fit(rci_values)\n",
    "            self.flip = False\n",
    "            # The GMM labels are arbitrary.\n",
    "            if gmm.means_[0][0] > gmm.means_[1][0]:\n",
    "                self.flip = True\n",
    "            self.discriminator = gmm\n",
    "        elif self.mechanism == 'THE_MEAN':\n",
    "            self.discriminator = np.mean(rci_values)\n",
    "        elif self.mechanism == 'ZERO':\n",
    "            self.discriminator = -1   # 0 usually, -1 is as in Yuan et al.\n",
    "        else: # not expected\n",
    "            self.discriminator = 0\n",
    "    \n",
    "    def _explain_threshold(self):\n",
    "        if self.mechanism == 'RCI_GMM':\n",
    "            gmm=self.discriminator\n",
    "            print('Discriminator is GMM')\n",
    "            print('Means',[gmm.means_[0][0],gmm.means_[1][0]])\n",
    "            print('Variances',gmm.covariances_)\n",
    "            print('Priors',gmm.weights_)\n",
    "            test_rcis=[-5,-4,-3.5,-3,-2.5,-2,-1.5,-1,-0.5,0,0.5,1,1.5,2,3]\n",
    "            print(test_rcis)\n",
    "            print(self._apply_threshold(np.array(test_rcis).reshape((-1,1))))\n",
    "        else:\n",
    "            print('Discriminator',self.mechanism,self.discriminator)\n",
    "    \n",
    "    def _show_sizes(self,label,values):\n",
    "        a = np.count_nonzero(values==1)\n",
    "        b = np.count_nonzero(values==0)\n",
    "        print('%s 1:0 %d:%d %5.2f%%'%(label,a,b,100*a/(a+b)))\n",
    "        \n",
    "    def do_cross_validation(self,repetition):\n",
    "        fold=0\n",
    "        print()\n",
    "        print(datetime.now())\n",
    "        print('splitting')\n",
    "        # KFold shuffles once before making the partitions\n",
    "        splitter = KFold(n_splits=self.folds,shuffle=True) # random_state=42)\n",
    "        splits = splitter.split(self.all_genes)\n",
    "        splitter = None\n",
    "        for train_index,valid_index in splits:\n",
    "            fold += 1\n",
    "            print('Repetition',repetition,'Fold',fold)\n",
    "            X_train,y_rci = self._get_X_y(train_index) \n",
    "            self._prepare_threshold(y_rci)  # use train subset only!\n",
    "            self._explain_threshold()\n",
    "            y_train = self._apply_threshold(y_rci)\n",
    "            X_valid,y_rci = self._get_X_y(valid_index)  \n",
    "            y_valid = self._apply_threshold(y_rci) \n",
    "            y_rci = None\n",
    "            cw = class_weight.compute_class_weight(\n",
    "                'balanced', classes=[0,1], y=y_train)\n",
    "            cwd = {0: cw[0], 1: cw[1]}\n",
    "\n",
    "            model=build_model()\n",
    "            print(\"FIT\")\n",
    "            print(datetime.now())\n",
    "            history=model.fit(X_train, y_train, # batch_size=10, default=32 works nicely\n",
    "                epochs=self.epochs, verbose=0,  # verbose=1 for ascii art, verbose=0 for none \n",
    "                class_weight=cwd, validation_data=(X_valid,y_valid) ) \n",
    "            \n",
    "            print(\"PREDICT\")\n",
    "            print(datetime.now())\n",
    "            yhat_pred=model.predict(X_valid, verbose=0)             \n",
    "            yhat_classes=np.where(yhat_pred > self.score_threshold, 1, 0)\n",
    "\n",
    "            print('train class weights 1:0 %5.2f:%5.2f' % (cwd[1],cwd[0]))\n",
    "            self._show_sizes('Train',y_train)\n",
    "            self._show_sizes('Valid',y_valid)\n",
    "            self._show_sizes('Predict',yhat_classes)\n",
    "\n",
    "            accuracy = accuracy_score(y_valid, yhat_classes)*100.\n",
    "            precision = precision_score(y_valid, yhat_classes)*100.\n",
    "            recall = recall_score(y_valid, yhat_classes)*100.\n",
    "            f1 = f1_score(y_valid, yhat_classes)*100.\n",
    "            prc_Y, prc_X, prc_bins = precision_recall_curve(y_valid, yhat_pred)\n",
    "            auprc = auc(prc_X,prc_Y)*100.\n",
    "            auroc = roc_auc_score(y_valid, yhat_pred)*100.\n",
    "            mcc = matthews_corrcoef(y_valid, yhat_classes)\n",
    "\n",
    "            if PRETTY_PICTURES:\n",
    "                pd.DataFrame(history.history).plot(figsize=(8,5))\n",
    "                plt.grid(True)\n",
    "                plt.gca().set_ylim(0,1)\n",
    "                plt.show()\n",
    "\n",
    "                print(\"Compute valiation accuracy\")\n",
    "                print('Valid sizes',X_valid.shape,y_valid.shape)\n",
    "                print('Range of scores:',np.min(yhat_pred),'to',np.max(yhat_pred))\n",
    "                print('Score threshold',self.score_threshold)\n",
    "\n",
    "                count_ones= len(y_valid[y_valid==1])\n",
    "                count_zeros= len(y_valid[y_valid==0])\n",
    "                guess = max(count_ones,count_zeros) / len(y_valid)\n",
    "                plt.plot(prc_X, prc_Y, marker='.')\n",
    "                plt.plot([0, 1], [guess,guess], linestyle='--')\n",
    "                plt.xlabel('Recall')\n",
    "                plt.ylabel('Precision')\n",
    "                plt.show()\n",
    "                # ROC\n",
    "                fpr, tpr, roc_bins = roc_curve(y_valid, yhat_pred)\n",
    "                plt.plot(fpr, tpr, marker='.')\n",
    "                plt.xlabel('False Positive Rate')\n",
    "                plt.ylabel('True Positive Rate')\n",
    "                plt.show()\n",
    "\n",
    "            print('Accuracy: %.2f%% Precision: %.2f%% Recall: %.2f%%' % (accuracy,precision,recall)) \n",
    "            print('F1: %.2f%% MCC: %.2f%%' % (f1,mcc)) \n",
    "            print('AUPRC: %.2f%% AUROC: %.2f%%' % (auprc,auroc)) \n",
    "            self.cv_accuracy.append(accuracy)\n",
    "            self.cv_precision.append(precision)\n",
    "            self.cv_recall.append(recall)\n",
    "            self.cv_f1.append(f1)\n",
    "            self.cv_mcc.append(mcc)\n",
    "            self.cv_auprc.append(auprc)\n",
    "            self.cv_auroc.append(auroc)\n",
    "            \n",
    "            print(datetime.now())\n",
    "            if self.quick_test:   \n",
    "                print('Break -- this was for code testing only')\n",
    "                break\n",
    "\n",
    "            # There is a memory leak within the fit() command!\n",
    "            # Each successive call to fit() consumes more memory.\n",
    "            model = None\n",
    "            history = None\n",
    "            prc_Y = None\n",
    "            prc_X = None\n",
    "            prc_bins = None\n",
    "            yhat_classes = None\n",
    "            X_train = None\n",
    "            y_train = None\n",
    "            X_valid = None\n",
    "            y_valid = None\n",
    "            tf.keras.backend.clear_session()\n",
    "            gc.collect()\n",
    "            time.sleep(1)  # hope gc kicks in\n",
    "        print()\n",
    "\n",
    "        \n",
    "    def get_statistics(self):\n",
    "        return \\\n",
    "        self.cv_accuracy,\\\n",
    "        self.cv_precision,\\\n",
    "        self.cv_recall,\\\n",
    "        self.cv_f1,\\\n",
    "        self.cv_mcc,\\\n",
    "        self.cv_auprc,\\\n",
    "        self.cv_auroc\n"
   ]
  },
  {
   "cell_type": "code",
   "execution_count": 10,
   "metadata": {
    "colab": {
     "base_uri": "https://localhost:8080/",
     "height": 1000
    },
    "id": "XC9m0W-pFLBH",
    "outputId": "b9854cd7-a9d1-46a3-9a14-4fa65651ee57",
    "scrolled": false
   },
   "outputs": [
    {
     "name": "stdout",
     "output_type": "stream",
     "text": [
      "2023-03-07 13:47:25.537701\n",
      "Number of RCI values loaded 4369\n",
      "Num RCI: 4369\n",
      "Load sequence...\n",
      "Loaded 19301 sequences.\n",
      "Cross validation...\n",
      "\n",
      "2023-03-07 13:47:29.905524\n",
      "splitting\n",
      "Repetition 1 Fold 1\n",
      "Discriminator is GMM\n",
      "Means [1.465541132484191, -0.1879881845798982]\n",
      "Variances [2.34364024 7.30892029]\n",
      "Priors [0.71420495 0.28579505]\n",
      "[-5, -4, -3.5, -3, -2.5, -2, -1.5, -1, -0.5, 0, 0.5, 1, 1.5, 2, 3]\n",
      "[0 0 0 0 0 0 0 1 1 1 1 1 1 1 1]\n",
      "FIT\n",
      "2023-03-07 13:47:45.673917\n",
      "PREDICT\n",
      "2023-03-07 13:52:00.049550\n",
      "train class weights 1:0  0.56: 4.37\n",
      "Train 1:0 13675:1765 88.57%\n",
      "Valid 1:0 3418:443 88.53%\n",
      "Predict 1:0 2841:1020 73.58%\n"
     ]
    },
    {
     "data": {
      "image/png": "[encoded data removed]",
      "text/plain": [
       "<Figure size 800x500 with 1 Axes>"
      ]
     },
     "metadata": {},
     "output_type": "display_data"
    },
    {
     "name": "stdout",
     "output_type": "stream",
     "text": [
      "Compute valiation accuracy\n",
      "Valid sizes (3861, 4997) (3861,)\n",
      "Range of scores: 0.08328018 to 0.96442384\n",
      "Score threshold 0.5\n"
     ]
    },
    {
     "data": {
      "image/png": "[encoded data removed]",
      "text/plain": [
       "<Figure size 640x480 with 1 Axes>"
      ]
     },
     "metadata": {},
     "output_type": "display_data"
    },
    {
     "data": {
      "image/png": "[encoded data removed]",
      "text/plain": [
       "<Figure size 640x480 with 1 Axes>"
      ]
     },
     "metadata": {},
     "output_type": "display_data"
    },
    {
     "name": "stdout",
     "output_type": "stream",
     "text": [
      "Accuracy: 73.04% Precision: 91.83% Recall: 76.33%\n",
      "F1: 83.37% MCC: 0.17%\n",
      "AUPRC: 93.50% AUROC: 67.71%\n",
      "2023-03-07 13:52:04.835834\n",
      "Break -- this was for code testing only\n",
      "\n",
      "Completed cross validation 5 folds 3 epochs\n",
      "Repeated for a total of 5 folds\n",
      " accuracy mean 73.04% std nan\n",
      " precision mean 91.83% std nan\n",
      " recall mean 76.33% std nan\n",
      " F1 mean 83.37% std nan\n",
      " MCC mean 0.17% std nan\n",
      " AUPRC mean 93.50% std nan\n",
      " AUROC mean 67.71% std nan\n",
      "\n",
      " accuracy [73.03807303807304]\n",
      " precision [91.83386131643788]\n",
      " recall [76.33118782913985]\n",
      " F1 [83.36795015178143]\n",
      " MCC [0.17320357461228586]\n",
      " AUPRC [93.50226235006546]\n",
      " AUROC [67.71216518048784]\n",
      "2023-03-07 13:52:04.845713\n"
     ]
    },
    {
     "name": "stderr",
     "output_type": "stream",
     "text": [
      "/Library/Frameworks/Python.framework/Versions/3.10/lib/python3.10/site-packages/numpy/core/_methods.py:265: RuntimeWarning: Degrees of freedom <= 0 for slice\n",
      "  ret = _var(a, axis=axis, dtype=dtype, out=out, ddof=ddof,\n",
      "/Library/Frameworks/Python.framework/Versions/3.10/lib/python3.10/site-packages/numpy/core/_methods.py:257: RuntimeWarning: invalid value encountered in double_scalars\n",
      "  ret = ret.dtype.type(ret / rcount)\n"
     ]
    }
   ],
   "source": [
    "print(datetime.now())\n",
    "loader = DataLoader()\n",
    "filepath = DATA_DIR+RCI_FILE\n",
    "gene_to_rci = loader.load_gene_rci_values(filepath,EXCLUSIONS)\n",
    "print('Num RCI:', len(gene_to_rci.keys()))\n",
    "print('Load sequence...')\n",
    "filepath = DATA_DIR+SEQUENCE_FILE\n",
    "allids,allseq = loader.load_sequence(filepath)\n",
    "print('Loaded',len(allseq),'sequences.')\n",
    "loader = None  # drop K-mer cache to save RAM\n",
    "\n",
    "print(\"Cross validation...\")\n",
    "cvdo = CrossValidator(EPOCHS,FOLDS,BREAK)\n",
    "cvdo.set_sequences(allids,allseq)\n",
    "cvdo.set_rci_map(gene_to_rci)\n",
    "cvdo.set_threshold_mechanism(RCI_THRESHOLD_MECHANISM)\n",
    "# two rounds of 5 for 10 total\n",
    "total_folds = 0\n",
    "for F in range(REPETITIONS):\n",
    "    total_folds += FOLDS\n",
    "    cvdo.do_cross_validation(F+1)   \n",
    "cv_accuracy,cv_precision,cv_recall,cv_f1,cv_mcc,cv_auprc,cv_auroc=\\\n",
    "    cvdo.get_statistics()\n",
    "cvdo = None\n",
    "\n",
    "def STD (values):\n",
    "    return np.std(values,ddof=1)\n",
    "\n",
    "print(\"Completed cross validation %d folds %d epochs\" % (FOLDS,EPOCHS)) \n",
    "print(\"Repeated for a total of %d folds\" % total_folds)\n",
    "print(\" accuracy mean %.2f%% std %.2f\" %  (np.mean(cv_accuracy),  STD(cv_accuracy)))\n",
    "print(\" precision mean %.2f%% std %.2f\" % (np.mean(cv_precision), STD(cv_precision)))\n",
    "print(\" recall mean %.2f%% std %.2f\" %    (np.mean(cv_recall),    STD(cv_recall)))\n",
    "print(\" F1 mean %.2f%% std %.2f\" %        (np.mean(cv_f1),        STD(cv_f1)))\n",
    "print(\" MCC mean %.2f%% std %.2f\" %       (np.mean(cv_mcc),       STD(cv_mcc)))\n",
    "print(\" AUPRC mean %.2f%% std %.2f\" %     (np.mean(cv_auprc),     STD(cv_auprc)))\n",
    "print(\" AUROC mean %.2f%% std %.2f\" %     (np.mean(cv_auroc),     STD(cv_auroc)))\n",
    "print()\n",
    "print(\" accuracy\" ,  cv_accuracy)\n",
    "print(\" precision\" , cv_precision)\n",
    "print(\" recall\" ,    cv_recall)\n",
    "print(\" F1\" ,        cv_f1)\n",
    "print(\" MCC\" ,       cv_mcc)\n",
    "print(\" AUPRC\" ,     cv_auprc)\n",
    "print(\" AUROC\" ,     cv_auroc)\n",
    "print(datetime.now())"
   ]
  },
  {
   "cell_type": "code",
   "execution_count": null,
   "metadata": {
    "id": "HkCeDg_HdQ36"
   },
   "outputs": [],
   "source": []
  }
 ],
 "metadata": {
  "accelerator": "GPU",
  "colab": {
   "provenance": []
  },
  "gpuClass": "standard",
  "kernelspec": {
   "display_name": "Python 3 (ipykernel)",
   "language": "python",
   "name": "python3"
  },
  "language_info": {
   "codemirror_mode": {
    "name": "ipython",
    "version": 3
   },
   "file_extension": ".py",
   "mimetype": "text/x-python",
   "name": "python",
   "nbconvert_exporter": "python",
   "pygments_lexer": "ipython3",
   "version": "3.10.0"
  }
 },
 "nbformat": 4,
 "nbformat_minor": 1
}
