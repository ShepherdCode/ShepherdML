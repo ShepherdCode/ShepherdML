{
 "cells": [
  {
   "cell_type": "markdown",
   "id": "eb48f3fe",
   "metadata": {},
   "source": [
    "# LncATLAS\n",
    "Publication: LncATLAS database for subcellular localization of long noncoding RNAs (2017) David Mas-Ponte, Joana Carlevaro-Fita, Emilio Palumbo, Toni Hermoso Pulido, Roderic Guigo, and Rory Johnson. RNA 23:1080–1087\n",
    "\n",
    "Publication [online](https://rnajournal.cshlp.org/content/23/7/1080)\n",
    "\n",
    "Here, extract just the genes with a cytoplasm:nuclear RCI value for at least one cell line.  \n",
    "Transpose from row-per-cell-line to row-per-gene.  \n",
    "\n",
    "Some genes were expressed in only one cell line:  \n",
    "\n",
    "    ENSG00000166917,nan,nan,nan,nan,nan,nan,nan,nan,nan,nan,nan,nan,nan,-0.293196,nan  \n",
    "    ENSG00000167046,nan,nan,nan,nan,nan,nan,nan,nan,nan,nan,nan,nan,-1.8365,nan,nan  \n",
    "    ENSG00000167117,nan,nan,nan,1.58496,nan,nan,nan,nan,nan,nan,nan,nan,nan,nan,nan  \n",
    "\n",
    "This notebook runs after TrainTestSplit4.\n",
    "\n",
    "This notebook will output 4 files of RCI values for genes in: \n",
    "coding train, coding test, noncoding train, noncoding test."
   ]
  },
  {
   "cell_type": "code",
   "execution_count": 1,
   "id": "d0c62f68",
   "metadata": {},
   "outputs": [
    {
     "name": "stdout",
     "output_type": "stream",
     "text": [
      "2023-03-03 17:28:44.130828\n"
     ]
    }
   ],
   "source": [
    "from datetime import datetime\n",
    "print(datetime.now())\n",
    "from cell_lines import Cell_Lines\n",
    "\n",
    "# input raw data\n",
    "ATLAS_DIR='/Users/jasonmiller/WVU/Localization/LncAtlas/'\n",
    "ATLAS_DATA='lncATLAS_all_data_RCI.csv'\n",
    "# input gene lists from train/test split\n",
    "SPLIT_DIR='/Users/jasonmiller/WVU/Localization/TrainTest/TrainTest_ver43/'\n",
    "CODING_TEST_INFILE     ='test.canon_pc_transcripts.csv'\n",
    "NONCODING_TEST_INFILE  ='test.canon_lncRNA_transcripts.csv'\n",
    "CODING_TRAIN_INFILE    ='train.canon_pc_transcripts.csv'\n",
    "NONCODING_TRAIN_INFILE ='train.canon_lncRNA_transcripts.csv'\n",
    "# output to train/test split\n",
    "CODING_TEST_OUTFILE    ='test.pc_RCI.csv'\n",
    "NONCODING_TEST_OUTFILE ='test.lncRNA_RCI.csv'\n",
    "CODING_TRAIN_OUTFILE   ='train.pc_RCI.csv'\n",
    "NONCODING_TRAIN_OUTFILE='train.lncRNA_RCI.csv'"
   ]
  },
  {
   "cell_type": "markdown",
   "id": "0e10a273",
   "metadata": {},
   "source": [
    "## Raw data"
   ]
  },
  {
   "cell_type": "code",
   "execution_count": 2,
   "id": "2ecce53a",
   "metadata": {},
   "outputs": [],
   "source": [
    "def get_atlas_data(filepath):\n",
    "    '''\n",
    "    Read in the file with one line per gene, cell line, value (possibly invalid).\n",
    "    Create lines with all 15 values for one gene.\n",
    "    '''\n",
    "    num_cell_lines = Cell_Lines.get_count()\n",
    "    cell_line_map = Cell_Lines.get_mapping()\n",
    "    gene_to_data={}\n",
    "    with open (filepath, 'r') as handle:\n",
    "        header = None\n",
    "        for row in handle:\n",
    "            if header is None:\n",
    "                header = row\n",
    "            else:\n",
    "                row = row.strip()\n",
    "                fields = row.split(',')\n",
    "                gene_id = fields[0]\n",
    "                cell_line = fields[1]\n",
    "                data_type = fields[2]\n",
    "                value = fields[3]\n",
    "                if data_type == 'CNRCI' and value != 'NA':\n",
    "                    if gene_id not in gene_to_data:\n",
    "                        data_row = [float('nan')]*num_cell_lines\n",
    "                        gene_to_data[gene_id] = data_row\n",
    "                    rci = float(value)\n",
    "                    cell_line_index = cell_line_map[cell_line]\n",
    "                    gene_to_data[gene_id][cell_line_index] = rci\n",
    "    return gene_to_data"
   ]
  },
  {
   "cell_type": "code",
   "execution_count": 3,
   "id": "b803e936",
   "metadata": {},
   "outputs": [
    {
     "name": "stdout",
     "output_type": "stream",
     "text": [
      "2023-03-03 17:28:44.921890\n"
     ]
    }
   ],
   "source": [
    "atlas_data = get_atlas_data(ATLAS_DIR+ATLAS_DATA)\n",
    "print(datetime.now())"
   ]
  },
  {
   "cell_type": "code",
   "execution_count": 4,
   "id": "a3ca0202",
   "metadata": {},
   "outputs": [],
   "source": [
    "def load_ids(geneset_filepath):\n",
    "    '''Expect CSV with header: transcript_id,gene_id,biotype,length,sequence'''\n",
    "    gene_set = set()\n",
    "    with open (geneset_filepath, 'r') as handle:\n",
    "        header = None\n",
    "        for row in handle:\n",
    "            if header is None:\n",
    "                header = row\n",
    "            else:\n",
    "                fields = row.strip().split(',')\n",
    "                gene_id = fields[1]\n",
    "                gene_set.add(gene_id)\n",
    "    return gene_set\n",
    "def subset(dict_gene_to_rci,gene_list):\n",
    "    filtered_dict = {}\n",
    "    for gene_id in dict_gene_to_rci.keys():\n",
    "        if gene_id in gene_list:\n",
    "            rci = dict_gene_to_rci[gene_id]\n",
    "            filtered_dict[gene_id] = rci\n",
    "    return filtered_dict"
   ]
  },
  {
   "cell_type": "code",
   "execution_count": 5,
   "id": "e7b553a3",
   "metadata": {},
   "outputs": [],
   "source": [
    "def save_to_csv(gene_to_RCI_map,fn):\n",
    "    column_names = Cell_Lines.get_ordered_list()\n",
    "    with open(fn,'w') as handle:\n",
    "        cell_lines = ','.join(column_names)\n",
    "        header = 'gene_id,' + cell_lines + '\\n'\n",
    "        handle.write(header)\n",
    "        for gene,rci_list in gene_to_RCI_map.items():\n",
    "            line_values = gene\n",
    "            for value in rci_list:\n",
    "                line_values += ',' + str(value)\n",
    "            handle.write(line_values + '\\n')"
   ]
  },
  {
   "cell_type": "code",
   "execution_count": 6,
   "id": "b6f5b07c",
   "metadata": {},
   "outputs": [
    {
     "name": "stdout",
     "output_type": "stream",
     "text": [
      "split\n",
      "2023-03-03 17:28:45.417869\n"
     ]
    }
   ],
   "source": [
    "print('split')\n",
    "coding_train_genes = load_ids(SPLIT_DIR+CODING_TRAIN_INFILE)\n",
    "coding_train_RCI   = subset(atlas_data, coding_train_genes) \n",
    "save_to_csv(coding_train_RCI,    SPLIT_DIR+CODING_TRAIN_OUTFILE)\n",
    "\n",
    "coding_test_genes = load_ids(SPLIT_DIR+CODING_TEST_INFILE)\n",
    "coding_test_RCI   = subset(atlas_data, coding_test_genes) \n",
    "save_to_csv(coding_test_RCI,     SPLIT_DIR+CODING_TEST_OUTFILE)\n",
    "\n",
    "noncoding_train_genes = load_ids(SPLIT_DIR+NONCODING_TRAIN_INFILE)\n",
    "noncoding_train_RCI   = subset(atlas_data, noncoding_train_genes) \n",
    "save_to_csv(noncoding_train_RCI, SPLIT_DIR+NONCODING_TRAIN_OUTFILE)\n",
    "\n",
    "noncoding_test_genes = load_ids(SPLIT_DIR+NONCODING_TEST_INFILE)\n",
    "noncoding_test_RCI   = subset(atlas_data, noncoding_test_genes) \n",
    "save_to_csv(noncoding_test_RCI,  SPLIT_DIR+NONCODING_TEST_OUTFILE)\n",
    "\n",
    "print(datetime.now())"
   ]
  },
  {
   "cell_type": "code",
   "execution_count": null,
   "id": "329c96b7",
   "metadata": {},
   "outputs": [],
   "source": []
  }
 ],
 "metadata": {
  "kernelspec": {
   "display_name": "Python 3 (ipykernel)",
   "language": "python",
   "name": "python3"
  },
  "language_info": {
   "codemirror_mode": {
    "name": "ipython",
    "version": 3
   },
   "file_extension": ".py",
   "mimetype": "text/x-python",
   "name": "python",
   "nbconvert_exporter": "python",
   "pygments_lexer": "ipython3",
   "version": "3.10.0"
  }
 },
 "nbformat": 4,
 "nbformat_minor": 5
}
