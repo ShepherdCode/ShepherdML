{
 "cells": [
  {
   "cell_type": "markdown",
   "id": "4bbde4b0",
   "metadata": {},
   "source": [
    "# Distance\n",
    "All-vs-all at K=2 (which should be the fastest to compute)."
   ]
  },
  {
   "cell_type": "code",
   "execution_count": 1,
   "id": "cd42e135",
   "metadata": {},
   "outputs": [
    {
     "name": "stdout",
     "output_type": "stream",
     "text": [
      "2022-10-25 17:09:51.966038\n",
      "Python 3.10.6\n",
      "sklearn 1.1.2\n"
     ]
    }
   ],
   "source": [
    "from datetime import datetime\n",
    "print(datetime.now())\n",
    "from platform import python_version\n",
    "print('Python',python_version())\n",
    "import numpy as np\n",
    "import pandas as pd\n",
    "from matplotlib import pyplot as plt \n",
    "import sklearn   # pip install --upgrade scikit-learn\n",
    "print('sklearn',sklearn.__version__)"
   ]
  },
  {
   "cell_type": "code",
   "execution_count": 2,
   "id": "1d5eea09",
   "metadata": {},
   "outputs": [],
   "source": [
    "ATLAS_DIR = 'D:/Adjeroh/Localization/LncAtlas/'\n",
    "RCI_FILE = 'CNRCI_coding_train_genes.csv'\n",
    "GENCODE_DIR = 'D:/Adjeroh/Localization/GenCode/'\n",
    "COUNTS_FILE='CNRCI_coding_train_counts.K4.2byte.csv'"
   ]
  },
  {
   "cell_type": "code",
   "execution_count": 3,
   "id": "9d240c50",
   "metadata": {},
   "outputs": [],
   "source": [
    "def load_rci(filepath,cell_line_index):\n",
    "    header = None\n",
    "    data = {}\n",
    "    with open (filepath,'r') as handle:\n",
    "        for row in handle:\n",
    "            if header is None:\n",
    "                header = row\n",
    "            else:\n",
    "                fields = row.split(',')\n",
    "                gene_id = fields[0]           # gene id (without version) is in column 0\n",
    "                value = float(fields[1+cell_line_index])  # cell line 0 is in column 1\n",
    "                data[gene_id]=value\n",
    "    return(data)\n"
   ]
  },
  {
   "cell_type": "code",
   "execution_count": 4,
   "id": "9b9432d9",
   "metadata": {},
   "outputs": [],
   "source": [
    "def distance(a,b):\n",
    "    # This works because the Euclidean distance is the l2 norm, and the default value of the ord parameter in numpy.linalg.norm is 2. \n",
    "    # https://stackoverflow.com/questions/1401712/how-can-the-euclidean-distance-be-calculated-with-numpy\n",
    "    return np.linalg.norm(a-b)"
   ]
  },
  {
   "cell_type": "code",
   "execution_count": 5,
   "id": "2dd33fb9",
   "metadata": {},
   "outputs": [],
   "source": [
    "def normalize(vec):\n",
    "    total = np.sum(vec)\n",
    "    vec = vec / total\n",
    "    return vec"
   ]
  },
  {
   "cell_type": "code",
   "execution_count": 6,
   "id": "cf0b4bd2",
   "metadata": {},
   "outputs": [],
   "source": [
    "def load_counts(filepath,min_rci,max_rci,gene_rci):\n",
    "    header = None\n",
    "    data = []\n",
    "    with open (filepath,'r') as handle:\n",
    "        for row in handle:\n",
    "            row = row.strip()\n",
    "            if header is None:\n",
    "                header = row\n",
    "            else:\n",
    "                fields = row.split(',')\n",
    "                gene_id = fields.pop(0)\n",
    "                transcript_id = fields.pop(0)\n",
    "                if True:\n",
    "                    vector = np.asarray(fields,dtype=np.int16)\n",
    "                    total = np.sum(vector)\n",
    "                    if total<=0:\n",
    "                        print(gene_id,transcript_id)\n",
    "                        print(fields)\n",
    "                if gene_id in gene_rci.keys():\n",
    "                    rci = gene_rci[gene_id]\n",
    "                    if rci != float('nan'):\n",
    "                        if min_rci is None or rci>min_rci:\n",
    "                            if max_rci is None or rci<=max_rci:\n",
    "                                vector = np.asarray(fields,dtype=np.int16)\n",
    "                                normalized = normalize(vector)\n",
    "                                triple = (gene_id,transcript_id,normalized)\n",
    "                                data.append(triple)\n",
    "    return(data)"
   ]
  },
  {
   "cell_type": "code",
   "execution_count": 7,
   "id": "90e4c9f2",
   "metadata": {},
   "outputs": [],
   "source": [
    "def compute_distances(left_data,right_data):\n",
    "    tick = 0\n",
    "    tock = 1000\n",
    "    values=[]\n",
    "    left_total = len(left_data)\n",
    "    right_total = len(right_data)\n",
    "    for left_index in range(left_total):\n",
    "        left_vector = left_data[left_index][2]\n",
    "        for right_index in range(right_total):\n",
    "            right_vector = right_data[right_index][2]\n",
    "            dist = distance(left_vector, right_vector)\n",
    "            values.append(dist)\n",
    "        tick += 1\n",
    "        if tick==tock:\n",
    "            tick=0\n",
    "            print(datetime.now(),'processed',left_index)\n",
    "    return values"
   ]
  },
  {
   "cell_type": "code",
   "execution_count": 8,
   "id": "0f5e2de5",
   "metadata": {},
   "outputs": [],
   "source": [
    "def show_stats(ary):\n",
    "    print('mean',  np.mean(ary,dtype=np.float64))\n",
    "    print('stdev', np.std(ary,dtype=np.float64))"
   ]
  },
  {
   "cell_type": "code",
   "execution_count": 9,
   "id": "0fb3c02c",
   "metadata": {},
   "outputs": [],
   "source": [
    "def do_all(min_rci,max_rci):\n",
    "    print(datetime.now(), 'Load RCI values')\n",
    "    gene_rci = load_rci(ATLAS_DIR+RCI_FILE,0)\n",
    "    print(datetime.now(), 'Load K-mer counts')\n",
    "    print(COUNTS_FILE)\n",
    "    print('min_rci=',min_rci,'max_rci=',max_rci)\n",
    "    left_data = load_counts(GENCODE_DIR+COUNTS_FILE,None,max_rci,gene_rci)\n",
    "    print('Left transcripts:', len(left_data))\n",
    "    right_data = load_counts(GENCODE_DIR+COUNTS_FILE,min_rci,None,gene_rci)\n",
    "    print('Right transcripts:', len(right_data))\n",
    "          \n",
    "    print(datetime.now(), 'Compute distances for left vs left')\n",
    "    values = compute_distances(left_data,left_data)\n",
    "    print(datetime.now(), 'Compute statistics')\n",
    "    ary = np.asarray(values,dtype=np.float16)\n",
    "    show_stats(ary)\n",
    "\n",
    "    print(datetime.now(), 'Compute distances for right vs right')\n",
    "    values = compute_distances(right_data,right_data)\n",
    "    print(datetime.now(), 'Compute statistics')\n",
    "    ary = np.asarray(values,dtype=np.float16)\n",
    "    show_stats(ary)\n",
    "\n",
    "    print(datetime.now(), 'Compute distances for left vs right')\n",
    "    values = compute_distances(left_data,right_data)\n",
    "    print(datetime.now(), 'Compute statistics')\n",
    "    ary = np.asarray(values,dtype=np.float16)\n",
    "    show_stats(ary)"
   ]
  },
  {
   "cell_type": "code",
   "execution_count": 10,
   "id": "82ffdffc",
   "metadata": {},
   "outputs": [
    {
     "name": "stdout",
     "output_type": "stream",
     "text": [
      "2022-10-25 17:09:53.720265 Load RCI values\n",
      "2022-10-25 17:09:53.735886 Load K-mer counts\n",
      "CNRCI_coding_train_counts.K4.2byte.csv\n",
      "min_rci= 1 max_rci= -1\n",
      "ENSG00000113658 ENST00000515005.1\n",
      "['0', '0', '0', '0', '0', '0', '0', '0', '0', '0', '0', '0', '0', '0', '0', '0', '0', '0', '0', '0', '0', '0', '0', '0', '0', '0', '0', '0', '0', '0', '0', '0', '0', '0', '0', '0', '0', '0', '0', '0', '0', '0', '0', '0', '0', '0', '0', '0', '0', '0', '0', '0', '0', '0', '0', '0', '0', '0', '0', '0', '0', '0', '0', '0', '0', '0', '0', '0', '0', '0', '0', '0', '0', '0', '0', '0', '0', '0', '0', '0', '0', '0', '0', '0', '0', '0', '0', '0', '0', '0', '0', '0', '0', '0', '0', '0', '0', '0', '0', '0', '0', '0', '0', '0', '0', '0', '0', '0', '0', '0', '0', '0', '0', '0', '0', '0', '0', '0', '0', '0', '0', '0', '0', '0', '0', '0', '0', '0', '0', '0', '0', '0', '0', '0', '0', '0', '0', '0', '0', '0', '0', '0', '0', '0', '0', '0', '0', '0', '0', '0', '0', '0', '0', '0', '0', '0', '0', '0', '0', '0', '0', '0', '0', '0', '0', '0', '0', '0', '0', '0', '0', '0', '0', '0', '0', '0', '0', '0', '0', '0', '0', '0', '0', '0', '0', '0', '0', '0', '0', '0', '0', '0', '0', '0', '0', '0', '0', '0', '0', '0', '0', '0', '0', '0', '0', '0', '0', '0', '0', '0', '0', '0', '0', '0', '0', '0', '0', '0', '0', '0', '0', '0', '0', '0', '0', '0', '0', '0', '0', '0', '0', '0', '0', '0', '0', '0', '0', '0', '0', '0', '0', '0', '0', '0', '0', '0', '0', '0', '0', '0', '0', '0', '0', '0', '0', '0']\n",
      "ENSG00000104375 ENST00000519420.1\n",
      "['0', '0', '0', '0', '0', '0', '0', '0', '0', '0', '0', '0', '0', '0', '0', '0', '0', '0', '0', '0', '0', '0', '0', '0', '0', '0', '0', '0', '0', '0', '0', '0', '0', '0', '0', '0', '0', '0', '0', '0', '0', '0', '0', '0', '0', '0', '0', '0', '0', '0', '0', '0', '0', '0', '0', '0', '0', '0', '0', '0', '0', '0', '0', '0', '0', '0', '0', '0', '0', '0', '0', '0', '0', '0', '0', '0', '0', '0', '0', '0', '0', '0', '0', '0', '0', '0', '0', '0', '0', '0', '0', '0', '0', '0', '0', '0', '0', '0', '0', '0', '0', '0', '0', '0', '0', '0', '0', '0', '0', '0', '0', '0', '0', '0', '0', '0', '0', '0', '0', '0', '0', '0', '0', '0', '0', '0', '0', '0', '0', '0', '0', '0', '0', '0', '0', '0', '0', '0', '0', '0', '0', '0', '0', '0', '0', '0', '0', '0', '0', '0', '0', '0', '0', '0', '0', '0', '0', '0', '0', '0', '0', '0', '0', '0', '0', '0', '0', '0', '0', '0', '0', '0', '0', '0', '0', '0', '0', '0', '0', '0', '0', '0', '0', '0', '0', '0', '0', '0', '0', '0', '0', '0', '0', '0', '0', '0', '0', '0', '0', '0', '0', '0', '0', '0', '0', '0', '0', '0', '0', '0', '0', '0', '0', '0', '0', '0', '0', '0', '0', '0', '0', '0', '0', '0', '0', '0', '0', '0', '0', '0', '0', '0', '0', '0', '0', '0', '0', '0', '0', '0', '0', '0', '0', '0', '0', '0', '0', '0', '0', '0', '0', '0', '0', '0', '0', '0']\n",
      "ENSG00000149256 ENST00000527736.5\n",
      "['0', '0', '0', '0', '0', '0', '0', '0', '0', '0', '0', '0', '0', '0', '0', '0', '0', '0', '0', '0', '0', '0', '0', '0', '0', '0', '0', '0', '0', '0', '0', '0', '0', '0', '0', '0', '0', '0', '0', '0', '0', '0', '0', '0', '0', '0', '0', '0', '0', '0', '0', '0', '0', '0', '0', '0', '0', '0', '0', '0', '0', '0', '0', '0', '0', '0', '0', '0', '0', '0', '0', '0', '0', '0', '0', '0', '0', '0', '0', '0', '0', '0', '0', '0', '0', '0', '0', '0', '0', '0', '0', '0', '0', '0', '0', '0', '0', '0', '0', '0', '0', '0', '0', '0', '0', '0', '0', '0', '0', '0', '0', '0', '0', '0', '0', '0', '0', '0', '0', '0', '0', '0', '0', '0', '0', '0', '0', '0', '0', '0', '0', '0', '0', '0', '0', '0', '0', '0', '0', '0', '0', '0', '0', '0', '0', '0', '0', '0', '0', '0', '0', '0', '0', '0', '0', '0', '0', '0', '0', '0', '0', '0', '0', '0', '0', '0', '0', '0', '0', '0', '0', '0', '0', '0', '0', '0', '0', '0', '0', '0', '0', '0', '0', '0', '0', '0', '0', '0', '0', '0', '0', '0', '0', '0', '0', '0', '0', '0', '0', '0', '0', '0', '0', '0', '0', '0', '0', '0', '0', '0', '0', '0', '0', '0', '0', '0', '0', '0', '0', '0', '0', '0', '0', '0', '0', '0', '0', '0', '0', '0', '0', '0', '0', '0', '0', '0', '0', '0', '0', '0', '0', '0', '0', '0', '0', '0', '0', '0', '0', '0', '0', '0', '0', '0', '0', '0']\n",
      "ENSG00000187764 ENST00000420670.5\n",
      "['0', '0', '0', '0', '0', '0', '0', '0', '0', '0', '0', '0', '0', '0', '0', '0', '0', '0', '0', '0', '0', '0', '0', '0', '0', '0', '0', '0', '0', '0', '0', '0', '0', '0', '0', '0', '0', '0', '0', '0', '0', '0', '0', '0', '0', '0', '0', '0', '0', '0', '0', '0', '0', '0', '0', '0', '0', '0', '0', '0', '0', '0', '0', '0', '0', '0', '0', '0', '0', '0', '0', '0', '0', '0', '0', '0', '0', '0', '0', '0', '0', '0', '0', '0', '0', '0', '0', '0', '0', '0', '0', '0', '0', '0', '0', '0', '0', '0', '0', '0', '0', '0', '0', '0', '0', '0', '0', '0', '0', '0', '0', '0', '0', '0', '0', '0', '0', '0', '0', '0', '0', '0', '0', '0', '0', '0', '0', '0', '0', '0', '0', '0', '0', '0', '0', '0', '0', '0', '0', '0', '0', '0', '0', '0', '0', '0', '0', '0', '0', '0', '0', '0', '0', '0', '0', '0', '0', '0', '0', '0', '0', '0', '0', '0', '0', '0', '0', '0', '0', '0', '0', '0', '0', '0', '0', '0', '0', '0', '0', '0', '0', '0', '0', '0', '0', '0', '0', '0', '0', '0', '0', '0', '0', '0', '0', '0', '0', '0', '0', '0', '0', '0', '0', '0', '0', '0', '0', '0', '0', '0', '0', '0', '0', '0', '0', '0', '0', '0', '0', '0', '0', '0', '0', '0', '0', '0', '0', '0', '0', '0', '0', '0', '0', '0', '0', '0', '0', '0', '0', '0', '0', '0', '0', '0', '0', '0', '0', '0', '0', '0', '0', '0', '0', '0', '0', '0']\n"
     ]
    },
    {
     "name": "stderr",
     "output_type": "stream",
     "text": [
      "C:\\Users\\jmill02\\AppData\\Local\\Temp\\ipykernel_17956\\1775471093.py:3: RuntimeWarning: invalid value encountered in divide\n",
      "  vec = vec / total\n"
     ]
    },
    {
     "ename": "KeyboardInterrupt",
     "evalue": "",
     "output_type": "error",
     "traceback": [
      "\u001b[1;31m---------------------------------------------------------------------------\u001b[0m",
      "\u001b[1;31mKeyboardInterrupt\u001b[0m                         Traceback (most recent call last)",
      "Input \u001b[1;32mIn [10]\u001b[0m, in \u001b[0;36m<cell line: 3>\u001b[1;34m()\u001b[0m\n\u001b[0;32m      1\u001b[0m MIN_RCI\u001b[38;5;241m=\u001b[39m\u001b[38;5;241m1\u001b[39m\n\u001b[0;32m      2\u001b[0m MAX_RCI\u001b[38;5;241m=\u001b[39m\u001b[38;5;241m-\u001b[39m\u001b[38;5;241m1\u001b[39m\n\u001b[1;32m----> 3\u001b[0m \u001b[43mdo_all\u001b[49m\u001b[43m(\u001b[49m\u001b[43mMIN_RCI\u001b[49m\u001b[43m,\u001b[49m\u001b[43mMAX_RCI\u001b[49m\u001b[43m)\u001b[49m\n",
      "Input \u001b[1;32mIn [9]\u001b[0m, in \u001b[0;36mdo_all\u001b[1;34m(min_rci, max_rci)\u001b[0m\n\u001b[0;32m      5\u001b[0m \u001b[38;5;28mprint\u001b[39m(COUNTS_FILE)\n\u001b[0;32m      6\u001b[0m \u001b[38;5;28mprint\u001b[39m(\u001b[38;5;124m'\u001b[39m\u001b[38;5;124mmin_rci=\u001b[39m\u001b[38;5;124m'\u001b[39m,min_rci,\u001b[38;5;124m'\u001b[39m\u001b[38;5;124mmax_rci=\u001b[39m\u001b[38;5;124m'\u001b[39m,max_rci)\n\u001b[1;32m----> 7\u001b[0m left_data \u001b[38;5;241m=\u001b[39m \u001b[43mload_counts\u001b[49m\u001b[43m(\u001b[49m\u001b[43mGENCODE_DIR\u001b[49m\u001b[38;5;241;43m+\u001b[39;49m\u001b[43mCOUNTS_FILE\u001b[49m\u001b[43m,\u001b[49m\u001b[38;5;28;43;01mNone\u001b[39;49;00m\u001b[43m,\u001b[49m\u001b[43mmax_rci\u001b[49m\u001b[43m,\u001b[49m\u001b[43mgene_rci\u001b[49m\u001b[43m)\u001b[49m\n\u001b[0;32m      8\u001b[0m \u001b[38;5;28mprint\u001b[39m(\u001b[38;5;124m'\u001b[39m\u001b[38;5;124mLeft transcripts:\u001b[39m\u001b[38;5;124m'\u001b[39m, \u001b[38;5;28mlen\u001b[39m(left_data))\n\u001b[0;32m      9\u001b[0m right_data \u001b[38;5;241m=\u001b[39m load_counts(GENCODE_DIR\u001b[38;5;241m+\u001b[39mCOUNTS_FILE,min_rci,\u001b[38;5;28;01mNone\u001b[39;00m,gene_rci)\n",
      "Input \u001b[1;32mIn [6]\u001b[0m, in \u001b[0;36mload_counts\u001b[1;34m(filepath, min_rci, max_rci, gene_rci)\u001b[0m\n\u001b[0;32m      3\u001b[0m data \u001b[38;5;241m=\u001b[39m []\n\u001b[0;32m      4\u001b[0m \u001b[38;5;28;01mwith\u001b[39;00m \u001b[38;5;28mopen\u001b[39m (filepath,\u001b[38;5;124m'\u001b[39m\u001b[38;5;124mr\u001b[39m\u001b[38;5;124m'\u001b[39m) \u001b[38;5;28;01mas\u001b[39;00m handle:\n\u001b[1;32m----> 5\u001b[0m     \u001b[38;5;28;01mfor\u001b[39;00m row \u001b[38;5;129;01min\u001b[39;00m handle:\n\u001b[0;32m      6\u001b[0m         row \u001b[38;5;241m=\u001b[39m row\u001b[38;5;241m.\u001b[39mstrip()\n\u001b[0;32m      7\u001b[0m         \u001b[38;5;28;01mif\u001b[39;00m header \u001b[38;5;129;01mis\u001b[39;00m \u001b[38;5;28;01mNone\u001b[39;00m:\n",
      "File \u001b[1;32m~\\AppData\\Local\\Programs\\Python\\Python310\\lib\\encodings\\cp1252.py:22\u001b[0m, in \u001b[0;36mIncrementalDecoder.decode\u001b[1;34m(self, input, final)\u001b[0m\n\u001b[0;32m     21\u001b[0m \u001b[38;5;28;01mclass\u001b[39;00m \u001b[38;5;21;01mIncrementalDecoder\u001b[39;00m(codecs\u001b[38;5;241m.\u001b[39mIncrementalDecoder):\n\u001b[1;32m---> 22\u001b[0m     \u001b[38;5;28;01mdef\u001b[39;00m \u001b[38;5;21mdecode\u001b[39m(\u001b[38;5;28mself\u001b[39m, \u001b[38;5;28minput\u001b[39m, final\u001b[38;5;241m=\u001b[39m\u001b[38;5;28;01mFalse\u001b[39;00m):\n\u001b[0;32m     23\u001b[0m         \u001b[38;5;28;01mreturn\u001b[39;00m codecs\u001b[38;5;241m.\u001b[39mcharmap_decode(\u001b[38;5;28minput\u001b[39m,\u001b[38;5;28mself\u001b[39m\u001b[38;5;241m.\u001b[39merrors,decoding_table)[\u001b[38;5;241m0\u001b[39m]\n",
      "\u001b[1;31mKeyboardInterrupt\u001b[0m: "
     ]
    }
   ],
   "source": [
    "MIN_RCI=1\n",
    "MAX_RCI=-1\n",
    "do_all(MIN_RCI,MAX_RCI)"
   ]
  },
  {
   "cell_type": "code",
   "execution_count": null,
   "id": "0619225b",
   "metadata": {},
   "outputs": [],
   "source": []
  }
 ],
 "metadata": {
  "kernelspec": {
   "display_name": "Python 3 (ipykernel)",
   "language": "python",
   "name": "python3"
  },
  "language_info": {
   "codemirror_mode": {
    "name": "ipython",
    "version": 3
   },
   "file_extension": ".py",
   "mimetype": "text/x-python",
   "name": "python",
   "nbconvert_exporter": "python",
   "pygments_lexer": "ipython3",
   "version": "3.10.6"
  }
 },
 "nbformat": 4,
 "nbformat_minor": 5
}
