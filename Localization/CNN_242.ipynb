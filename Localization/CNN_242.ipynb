{
  "cells": [
    {
      "cell_type": "markdown",
      "metadata": {
        "id": "PG-tGRnlFLA3"
      },
      "source": [
        "# CNN + MaxPool\n",
        "Restructure code.\n",
        "Here, make sure we can do loops of train+test using all of both files."
      ]
    },
    {
      "cell_type": "code",
      "execution_count": 53,
      "metadata": {
        "colab": {
          "base_uri": "https://localhost:8080/"
        },
        "id": "0RmwUsVLFLA6",
        "outputId": "8047ea90-35c5-423b-878c-d15c8546e00d"
      },
      "outputs": [
        {
          "output_type": "stream",
          "name": "stdout",
          "text": [
            "2023-03-15 22:39:54.656474\n"
          ]
        }
      ],
      "source": [
        "from datetime import datetime\n",
        "print(datetime.now())"
      ]
    },
    {
      "cell_type": "code",
      "execution_count": 54,
      "metadata": {
        "colab": {
          "base_uri": "https://localhost:8080/"
        },
        "id": "OlzN9OdsFWEU",
        "outputId": "171564c4-d638-4937-8f03-8e4689efad79"
      },
      "outputs": [
        {
          "output_type": "stream",
          "name": "stdout",
          "text": [
            "Found GPU at: /device:GPU:0\n",
            "Running on CoLab\n",
            "Drive already mounted at /content/drive/; to attempt to forcibly remount, call drive.mount(\"/content/drive/\", force_remount=True).\n",
            "/content/drive/My Drive/data/Localization/TrainTest/TrainTest_ver43/\n"
          ]
        }
      ],
      "source": [
        "import tensorflow as tf\n",
        "dt='float32'\n",
        "tf.keras.backend.set_floatx('float32')\n",
        "# tf.random.set_seed(42) # supposedly leads to reproducible results\n",
        "\n",
        "device_name = tf.test.gpu_device_name()\n",
        "if device_name != '/device:GPU:0':\n",
        "    print('GPU device not found')\n",
        "else:\n",
        "    print('Found GPU at: {}'.format(device_name))\n",
        "\n",
        "try:\n",
        "    from google.colab import drive\n",
        "    IN_COLAB = True\n",
        "    print('Running on CoLab')\n",
        "    PATH='/content/drive/'\n",
        "    drive.mount(PATH)\n",
        "    DATA_DIR=PATH+'My Drive/data/Localization/TrainTest/TrainTest_ver43/'  # must end in \"/\"\n",
        "except:\n",
        "    IN_COLAB = False\n",
        "    DATA_DIR = 'D:/Adjeroh/Localization/TrainTest/'   # Windows\n",
        "    DATA_DIR = '/Users/jasonmiller/WVU/Localization/TrainTest/TrainTest_ver43/'    # Mac\n",
        "print(DATA_DIR)"
      ]
    },
    {
      "cell_type": "code",
      "execution_count": 55,
      "metadata": {
        "colab": {
          "base_uri": "https://localhost:8080/"
        },
        "id": "PRX-UEr8FLA8",
        "outputId": "f0ba38e7-c43f-4270-867c-399188ddfc38"
      },
      "outputs": [
        {
          "output_type": "stream",
          "name": "stdout",
          "text": [
            "Python 3.9.16\n",
            "sklearn 1.2.2\n"
          ]
        }
      ],
      "source": [
        "from platform import python_version\n",
        "print('Python',python_version())\n",
        "import numpy as np\n",
        "import pandas as pd\n",
        "import scipy.stats as ss\n",
        "import pickle\n",
        "import time # sleep function\n",
        "from os.path import isfile\n",
        "from matplotlib import pyplot as plt \n",
        "import sklearn   # pip install --upgrade scikit-learn\n",
        "print('sklearn',sklearn.__version__)\n",
        "\n",
        "from tensorflow import keras\n",
        "from sklearn.mixture import GaussianMixture\n",
        "from sklearn.model_selection import KFold\n",
        "from sklearn.metrics import accuracy_score\n",
        "from sklearn.metrics import precision_score\n",
        "from sklearn.metrics import recall_score\n",
        "from sklearn.metrics import f1_score\n",
        "from sklearn.metrics import precision_recall_curve\n",
        "from sklearn.metrics import roc_curve\n",
        "from sklearn.metrics import roc_auc_score\n",
        "from sklearn.metrics import auc\n",
        "from sklearn.metrics import matthews_corrcoef\n",
        "from sklearn.utils import class_weight\n",
        "\n",
        "from keras.models import Sequential\n",
        "from keras.layers import Masking\n",
        "from keras.layers import Embedding\n",
        "from keras.layers import Conv1D\n",
        "from keras.layers import GlobalAveragePooling1D\n",
        "from keras.layers import GlobalMaxPooling1D\n",
        "from keras.layers import AveragePooling1D\n",
        "from keras.layers import MaxPooling1D\n",
        "from keras.layers import Bidirectional\n",
        "from keras.layers import LSTM\n",
        "from keras.layers import TimeDistributed\n",
        "from keras.layers import Flatten\n",
        "from keras.layers import Dense\n",
        "from keras.layers import Dropout\n",
        "from keras.losses import BinaryCrossentropy\n",
        "\n",
        "K=4\n",
        "CFILTERS=64\n",
        "FILTERSIZE=16\n",
        "RCELLS=32\n",
        "DCELLS=16\n",
        "EPOCHS=1 # 12\n",
        "EMBED_DIMEN = 4 # arbitrary hyperparameter\n",
        "MINLEN=200\n",
        "MAXLEN=5000   \n",
        "PRETTY_PICTURES = True\n",
        "RCI_THRESHOLD_MECHANISM = 'RCI_GMM'  # 'RCI_GMM' 'ZERO' 'THE_MEAN'\n",
        "BREAK = True   # break after first fold\n",
        "NUM_LINES = 15   # 15 to analyze all of them"
      ]
    },
    {
      "cell_type": "code",
      "execution_count": 56,
      "metadata": {
        "id": "LnkpVKdMFLA-"
      },
      "outputs": [],
      "source": [
        "RCI_FILE_TRAIN = 'train.lncRNA_RCI.csv'\n",
        "RCI_FILE_VALID = 'train.lncRNA_RCI.csv'\n",
        "RCI_FILE_TEST  = 'test.lncRNA_RCI.csv'\n",
        "\n",
        "SEQ_FILE_TRAIN = 'train.canon_lncRNA_transcripts.csv'\n",
        "SEQ_FILE_VALID = 'train.canon_lncRNA_transcripts.csv'\n",
        "SEQ_FILE_TEST  = 'test.canon_lncRNA_transcripts.csv'"
      ]
    },
    {
      "cell_type": "code",
      "execution_count": 57,
      "metadata": {
        "id": "e3p4QzQJFLA_"
      },
      "outputs": [],
      "source": [
        "def get_ordered_list():\n",
        "    ordered_list = \\\n",
        "    ['A549','H1.hESC','HeLa.S3','HepG2','HT1080',\\\n",
        "      'HUVEC','MCF.7','NCI.H460','NHEK','SK.MEL.5',\\\n",
        "      'SK.N.DZ','SK.N.SH','GM12878','K562','IMR.90']\n",
        "    return ordered_list\n",
        "all_cell_lines = get_ordered_list()\n",
        "\n",
        "EXCLUSIONS = [1]   # possibly exclude cell line 1 = H1.hESC"
      ]
    },
    {
      "cell_type": "markdown",
      "metadata": {
        "id": "UtqdpJOxFLBA"
      },
      "source": [
        "## Data Load"
      ]
    },
    {
      "cell_type": "code",
      "execution_count": 58,
      "metadata": {
        "id": "p35ehKV3Kq0z"
      },
      "outputs": [],
      "source": [
        "class DataLoader():\n",
        "    def __init__(self):\n",
        "        self.cache=dict() \n",
        "        self.vals = {'A':0, 'C':1, 'G':2, 'T':3}\n",
        "        self.gene2rci = dict()\n",
        "        \n",
        "    def load_gene_rci_values(self,filepath,exclusions):\n",
        "        '''\n",
        "        Load all the genes from the given RCI csv file.\n",
        "        The given file usually contains train or test, not both.\n",
        "        Load average RCI for each across cell lines.\n",
        "        Define average as log of mean of antilogs: log2(mean(2^RCI)).\n",
        "        Return dict with keys=gene:str and values=RCI:float.\n",
        "        '''\n",
        "        self.gene2rci = {}\n",
        "        overall_sum = 0\n",
        "        with open (filepath,'r') as handle:\n",
        "            header = None\n",
        "            for row in handle:\n",
        "                if header is None:\n",
        "                    header = row # skip file's header line\n",
        "                else:\n",
        "                    line = row.strip()\n",
        "                    fields = line.split(',')\n",
        "                    gene_id = fields.pop(0)\n",
        "                    cell_line_index = 0\n",
        "                    rci_values = []\n",
        "                    for rci_str in fields:\n",
        "                        if cell_line_index not in exclusions:\n",
        "                            if rci_str != \"nan\":\n",
        "                                rci_val = float(rci_str)\n",
        "                                rci_values.append(rci_val)\n",
        "                        cell_line_index += 1\n",
        "                    if len(rci_values)>0:\n",
        "                        values = np.array(rci_values)\n",
        "                        antilogs = np.power(values,2)\n",
        "                        big_mean = np.mean(antilogs)\n",
        "                        if np.absolute(big_mean)<0.000001:\n",
        "                            log_mean = 0.0\n",
        "                        else:\n",
        "                            log_mean = np.log2(big_mean) \n",
        "                        self.gene2rci[gene_id] = log_mean\n",
        "        print('Number of RCI values loaded',len(gene_to_rci.keys()))\n",
        "        return self.gene2rci\n",
        "\n",
        "    def _seq_to_kmer_values(self,rna,K):\n",
        "        vec=[] # seq converted to list of K-mers \n",
        "        N_indicator = 0 # indicator value\n",
        "        length = len(rna)\n",
        "        for i in range(length-K+1):\n",
        "            kmer = rna[i:i+K]\n",
        "            if 'N' in kmer:\n",
        "                value = N_indicator\n",
        "            elif kmer in self.cache.keys():\n",
        "                value = self.cache[kmer]\n",
        "            else:\n",
        "                value = 0\n",
        "                for j in range(K):\n",
        "                    value *= 4   \n",
        "                    nextnuc = kmer[j] \n",
        "                    nucval = self.vals[nextnuc]\n",
        "                    value += nucval\n",
        "                value += 1   # NNN => 0, AAA => 1\n",
        "                self.cache[kmer] = value\n",
        "            vec.append(value)\n",
        "        return vec\n",
        "\n",
        "    def load_sequence(self,filepath):\n",
        "        '''\n",
        "        Load all the sequences from the given file. \n",
        "        Load our version of GenCode -- csv, easier to parse than fasta.\n",
        "        Each line has IDs plus sequence.\n",
        "        The IDs in the file do not include dot-version numbers.\n",
        "        The file may already be filtered e.g. canonical transcripts.\n",
        "        '''\n",
        "        allids=[]\n",
        "        allseq=[]\n",
        "        NREPEAT = str('N'*MAXLEN)\n",
        "        with open (filepath,'r') as handle:\n",
        "            header = None\n",
        "            for row in handle:\n",
        "                if header is None:\n",
        "                    header = row\n",
        "                else:\n",
        "                    line    = row.strip()\n",
        "                    fields  = line.split(',')\n",
        "                    tran_id = fields[0]  # without version number\n",
        "                    gene_id = fields[1]  # without version number\n",
        "                    seq_len = int(fields[3])\n",
        "                    seq_txt = fields[4]\n",
        "                    if seq_len>=MINLEN and seq_len<=MAXLEN \\\n",
        "                    and gene_id in self.gene2rci.keys():\n",
        "                        allids.append( (gene_id,tran_id) )\n",
        "                        if seq_len<MAXLEN:\n",
        "                            seq_txt = seq_txt + NREPEAT\n",
        "                            seq_txt = seq_txt[:MAXLEN]\n",
        "                        hot_vec = self._seq_to_kmer_values(seq_txt,K)\n",
        "                        allseq.append(hot_vec)\n",
        "        self.cache=dict() # save RAM\n",
        "        return allids,allseq"
      ]
    },
    {
      "cell_type": "markdown",
      "metadata": {
        "id": "VDZ6siB_Kq04"
      },
      "source": [
        "## Model"
      ]
    },
    {
      "cell_type": "code",
      "execution_count": 59,
      "metadata": {
        "id": "AwMbRjm0FLBF"
      },
      "outputs": [],
      "source": [
        "def build_model():\n",
        "    ALPHABET=4**K+1  # NUMBER OF DISTINCT KMERS POSSIBLE, add one if N gets mask value\n",
        "    ADJUST_LENGTH = MAXLEN-K+1  # fixed length sequences\n",
        "    cnn = Sequential()\n",
        "    embed_layer = Embedding(ALPHABET,EMBED_DIMEN,input_length=ADJUST_LENGTH,mask_zero=True)   \n",
        "    cnn1_layer = Conv1D(CFILTERS, FILTERSIZE)\n",
        "    pool_layer = MaxPooling1D(pool_size=FILTERSIZE, strides=FILTERSIZE//2)\n",
        "    flat_layer = Flatten()\n",
        "    dens_layer = Dense(DCELLS)\n",
        "    drop_layer = Dropout(0.5)\n",
        "    output_layer = Dense(1,activation='sigmoid',dtype=dt)\n",
        "\n",
        "    cnn.add(embed_layer)\n",
        "    cnn.add(cnn1_layer)\n",
        "    cnn.add(pool_layer)\n",
        "    cnn.add(flat_layer)\n",
        "    cnn.add(dens_layer)\n",
        "    cnn.add(drop_layer)\n",
        "    cnn.add(output_layer)\n",
        "\n",
        "    bc=BinaryCrossentropy(from_logits=False)\n",
        "    cnn.compile(loss=bc, optimizer=\"Adam\",metrics=[\"accuracy\"])\n",
        "    return cnn"
      ]
    },
    {
      "cell_type": "code",
      "execution_count": 60,
      "metadata": {
        "colab": {
          "base_uri": "https://localhost:8080/"
        },
        "id": "clj-wufgFLBF",
        "outputId": "1c229edb-f13c-409a-cd3c-edc515483eee"
      },
      "outputs": [
        {
          "output_type": "stream",
          "name": "stdout",
          "text": [
            "2023-03-15 22:39:56.247402\n",
            "Model: \"sequential_10\"\n",
            "_________________________________________________________________\n",
            " Layer (type)                Output Shape              Param #   \n",
            "=================================================================\n",
            " embedding_10 (Embedding)    (None, 4997, 4)           1028      \n",
            "                                                                 \n",
            " conv1d_10 (Conv1D)          (None, 4982, 64)          4160      \n",
            "                                                                 \n",
            " max_pooling1d_10 (MaxPoolin  (None, 621, 64)          0         \n",
            " g1D)                                                            \n",
            "                                                                 \n",
            " flatten_10 (Flatten)        (None, 39744)             0         \n",
            "                                                                 \n",
            " dense_20 (Dense)            (None, 16)                635920    \n",
            "                                                                 \n",
            " dropout_10 (Dropout)        (None, 16)                0         \n",
            "                                                                 \n",
            " dense_21 (Dense)            (None, 1)                 17        \n",
            "                                                                 \n",
            "=================================================================\n",
            "Total params: 641,125\n",
            "Trainable params: 641,125\n",
            "Non-trainable params: 0\n",
            "_________________________________________________________________\n",
            "None\n"
          ]
        }
      ],
      "source": [
        "print(datetime.now())\n",
        "model=build_model()\n",
        "print(model.summary())  # Print this only once\n",
        "model=None"
      ]
    },
    {
      "cell_type": "markdown",
      "metadata": {
        "id": "MgrC1alOKq07"
      },
      "source": [
        "## Training"
      ]
    },
    {
      "cell_type": "code",
      "execution_count": 61,
      "metadata": {
        "id": "W9xiFzNbFLBE"
      },
      "outputs": [],
      "source": [
        "import gc\n",
        "class CrossValidator():\n",
        "    def __init__(self,epochs,quick_test=False,score_threshold=0.5):\n",
        "        self.epochs = epochs\n",
        "        self.quick_test = quick_test\n",
        "        self.score_threshold = score_threshold\n",
        "        self.mechanism = 'ZERO'\n",
        "        self.discriminator = None\n",
        "        self.flip = False\n",
        "        self.reset_statistics()\n",
        "        \n",
        "    def reset_statistics(self):\n",
        "        self.cv_accuracy=[]\n",
        "        self.cv_precision=[]\n",
        "        self.cv_recall=[]\n",
        "        self.cv_f1=[]\n",
        "        self.cv_auprc=[]\n",
        "        self.cv_auroc=[]\n",
        "        self.cv_mcc=[]\n",
        "        \n",
        "    def set_sequences(self, allids, allseq):\n",
        "        # Keep IDs and sequences in same order.\n",
        "        self.all_ids = allids  # pairs of (gene_id,tran_id)\n",
        "        self.all_seqs = allseq  # may be vectors of K-mers\n",
        "            \n",
        "    def set_rci_map(self, gene_to_rci):\n",
        "        # The map is for fast lookup, not gene order.\n",
        "        self.rci_map = gene_to_rci # map gene_id to RCI value\n",
        "    \n",
        "    def _get_X_y(self, exclude_middle=False): # to do: validation subset\n",
        "        subsetX=[]\n",
        "        subsetY=[]\n",
        "        for t in range(len(self.all_ids)):\n",
        "            gene_id,tran_id = self.all_ids[t]\n",
        "            oneX            = self.all_seqs[t]\n",
        "            oneY            = self.rci_map[gene_id]\n",
        "            if exclude_middle and oneY >= -2 and oneY <= 0:\n",
        "                # Exclude middle from train set only, for comparison to Yuan et al\n",
        "                continue\n",
        "            subsetX.append(oneX)\n",
        "            subsetY.append(oneY)\n",
        "        subsetX = np.array(subsetX)\n",
        "        subsetY = np.array(subsetY).reshape((-1,1))\n",
        "        return subsetX,subsetY\n",
        "    \n",
        "    def set_threshold_mechanism(self, mechanism):\n",
        "        if mechanism not in ['RCI_GMM','THE_MEAN','ZERO']:\n",
        "            raise Exception('Unrecognized mechansm:',mechanism)\n",
        "        self.mechanism = mechanism\n",
        "    \n",
        "    def _apply_threshold(self, array_of_rci):\n",
        "        # Takes list of float, returns list of labels [0,1].\n",
        "        if self.mechanism == 'RCI_GMM':\n",
        "            labels = self.discriminator.predict(array_of_rci)\n",
        "            if self.flip:\n",
        "                IS_CYTO = lambda label: 1 if label==0 else 0\n",
        "                labels = np.array(list(map(IS_CYTO, labels)))\n",
        "        else:  # 'THE_MEAN' or 'ZERO'\n",
        "            rci_threshold = self.discriminator\n",
        "            IS_CYTO = lambda rci: 1 if rci>rci_threshold else 0\n",
        "            labels = np.array(list(map(IS_CYTO, array_of_rci)))\n",
        "        return labels\n",
        "    \n",
        "    def _prepare_threshold(self, rci_values, create=True):\n",
        "        if self.mechanism == 'RCI_GMM':\n",
        "            if create:  # during training, create a new GMM\n",
        "                gmm = GaussianMixture(n_components=2, verbose=0, \n",
        "                  covariance_type='spherical', n_init=100) # random_state=42) \n",
        "                gmm.fit(rci_values)\n",
        "            else:   # during testing, use existing GMM\n",
        "                gmm=self.discriminator\n",
        "            self.flip = False\n",
        "            # The GMM labels are arbitrary.\n",
        "            if gmm.means_[0][0] > gmm.means_[1][0]:\n",
        "                self.flip = True\n",
        "            self.discriminator = gmm   # redundant but consistent\n",
        "        elif self.mechanism == 'THE_MEAN':\n",
        "            self.discriminator = np.mean(rci_values)\n",
        "        elif self.mechanism == 'ZERO':\n",
        "            self.discriminator = -1   # 0 usually, -1 is as in Yuan et al.\n",
        "        else: # not expected\n",
        "            self.discriminator = 0\n",
        "    \n",
        "    def _explain_threshold(self):\n",
        "        if self.mechanism == 'RCI_GMM':\n",
        "            gmm=self.discriminator\n",
        "            print('Discriminator is GMM')\n",
        "            print('Means',[gmm.means_[0][0],gmm.means_[1][0]])\n",
        "            print('Variances',gmm.covariances_)\n",
        "            print('Priors',gmm.weights_)\n",
        "            test_rcis=[-5,-4,-3.5,-3,-2.5,-2,-1.5,-1,-0.5,0,0.5,1,1.5,2,3]\n",
        "            print(test_rcis)\n",
        "            print(self._apply_threshold(np.array(test_rcis).reshape((-1,1))))\n",
        "        else:\n",
        "            print('Discriminator',self.mechanism,self.discriminator)\n",
        "    \n",
        "    def _show_sizes(self,label,values):\n",
        "        a = np.count_nonzero(values==1)\n",
        "        b = np.count_nonzero(values==0)\n",
        "        print('%s 1:0 %d:%d %5.2f%%'%(label,a,b,100*a/(a+b)))\n",
        "        \n",
        "    def train_new_model(self):\n",
        "        print(datetime.now())\n",
        "        X_train,y_rci = self._get_X_y() \n",
        "        self._prepare_threshold(y_rci,True)  \n",
        "        self._explain_threshold()\n",
        "        y_train = self._apply_threshold(y_rci)\n",
        "        y_rci = None\n",
        "        cw = class_weight.compute_class_weight(\n",
        "            'balanced', classes=[0,1], y=y_train)\n",
        "        cwd = {0: cw[0], 1: cw[1]}\n",
        "\n",
        "        self.model=build_model()\n",
        "        print(\"FIT\")\n",
        "        print(datetime.now())\n",
        "        history=self.model.fit(X_train, y_train, # batch_size=10, default=32 works nicely\n",
        "            epochs=self.epochs, verbose=0,  # verbose=1 for ascii art, verbose=0 for none \n",
        "            class_weight=cwd) # validation_data=(X_valid,y_valid) ) \n",
        "\n",
        "        if PRETTY_PICTURES:\n",
        "            pd.DataFrame(history.history).plot(figsize=(8,5))\n",
        "            plt.grid(True)\n",
        "            plt.gca().set_ylim(0,1)\n",
        "            plt.show()\n",
        "        \n",
        "    def test_without_training(self):\n",
        "        # For final test, do no train.\n",
        "        # Assume set_sequences() set the test set.\n",
        "        print(datetime.now())\n",
        "        X_test,y_rci = self._get_X_y() \n",
        "        y_test = self._apply_threshold(y_rci)\n",
        "        y_rci = None\n",
        "        \n",
        "        print(\"PREDICT\")\n",
        "        print(datetime.now())        \n",
        "        yhat_pred=self.model.predict(X_test, verbose=0)     \n",
        "        yhat_classes=np.where(yhat_pred > self.score_threshold, 1, 0)\n",
        "\n",
        "        self._show_sizes('Test',y_test)\n",
        "        self._show_sizes('Predict',yhat_classes)\n",
        "        print('Test sizes',X_test.shape,y_test.shape)\n",
        "        print('Range of scores:',np.min(yhat_pred),'to',np.max(yhat_pred))\n",
        "        print('Score threshold',self.score_threshold)\n",
        "\n",
        "        accuracy = accuracy_score(y_test, yhat_classes)*100.\n",
        "        precision = precision_score(y_test, yhat_classes)*100.\n",
        "        recall = recall_score(y_test, yhat_classes)*100.\n",
        "        f1 = f1_score(y_test, yhat_classes)*100.\n",
        "        prc_Y, prc_X, prc_bins = precision_recall_curve(y_test, yhat_pred)\n",
        "        auprc = auc(prc_X,prc_Y)*100.\n",
        "        auroc = roc_auc_score(y_test, yhat_pred)*100.\n",
        "        mcc = matthews_corrcoef(y_test, yhat_classes)\n",
        "        if PRETTY_PICTURES:\n",
        "            self._pretty_pictures(y_test,yhat_pred,prc_X,prc_Y)\n",
        "            print('Accuracy: %.2f%% Precision: %.2f%% Recall: %.2f%%' % (accuracy,precision,recall)) \n",
        "            print('F1: %.2f%% MCC: %.2f%%' % (f1,mcc)) \n",
        "            print('AUPRC: %.2f%% AUROC: %.2f%%' % (auprc,auroc)) \n",
        "        self.cv_accuracy.append(accuracy)\n",
        "        self.cv_precision.append(precision)\n",
        "        self.cv_recall.append(recall)\n",
        "        self.cv_f1.append(f1)\n",
        "        self.cv_mcc.append(mcc)\n",
        "        self.cv_auprc.append(auprc)\n",
        "        self.cv_auroc.append(auroc)\n",
        "\n",
        "    def _pretty_pictures(self,y_valid,yhat_pred,prc_X,prc_Y):\n",
        "        count_ones= len(y_valid[y_valid==1])\n",
        "        count_zeros= len(y_valid[y_valid==0])\n",
        "        guess = max(count_ones,count_zeros) / len(y_valid)\n",
        "        # PRC\n",
        "        plt.plot(prc_X, prc_Y, marker='.')\n",
        "        plt.plot([0, 1], [guess,guess], linestyle='--')\n",
        "        plt.xlabel('Recall')\n",
        "        plt.ylabel('Precision')\n",
        "        plt.show()\n",
        "        # ROC\n",
        "        fpr, tpr, roc_bins = roc_curve(y_valid, yhat_pred)\n",
        "        plt.plot(fpr, tpr, marker='.')\n",
        "        plt.xlabel('False Positive Rate')\n",
        "        plt.ylabel('True Positive Rate')\n",
        "        plt.show()\n",
        "        \n",
        "    def get_statistics(self):\n",
        "        return \\\n",
        "        self.cv_accuracy,\\\n",
        "        self.cv_precision,\\\n",
        "        self.cv_recall,\\\n",
        "        self.cv_f1,\\\n",
        "        self.cv_mcc,\\\n",
        "        self.cv_auprc,\\\n",
        "        self.cv_auroc\n"
      ]
    },
    {
      "cell_type": "markdown",
      "metadata": {
        "id": "Td97uyyj5qDq"
      },
      "source": [
        "## Train"
      ]
    },
    {
      "cell_type": "code",
      "execution_count": 62,
      "metadata": {
        "colab": {
          "base_uri": "https://localhost:8080/",
          "height": 1000
        },
        "id": "XC9m0W-pFLBH",
        "outputId": "2ed7a636-87a9-475f-ed4a-9c5fb63533f6",
        "scrolled": false
      },
      "outputs": [
        {
          "output_type": "stream",
          "name": "stdout",
          "text": [
            "2023-03-15 22:39:56.767270\n",
            "Load RCI from /content/drive/My Drive/data/Localization/TrainTest/TrainTest_ver43/train.lncRNA_RCI.csv\n",
            "Number of RCI values loaded 4369\n",
            "Num RCI: 4369\n",
            "Load sequence from /content/drive/My Drive/data/Localization/TrainTest/TrainTest_ver43/train.canon_lncRNA_transcripts.csv\n",
            "Loaded 4236 sequences.\n",
            "Load RCI from /content/drive/My Drive/data/Localization/TrainTest/TrainTest_ver43/test.lncRNA_RCI.csv\n",
            "Number of RCI values loaded 4369\n",
            "Num RCI: 1096\n",
            "Load sequence from /content/drive/My Drive/data/Localization/TrainTest/TrainTest_ver43/test.canon_lncRNA_transcripts.csv\n",
            "Loaded 1053 sequences.\n",
            "2023-03-15 22:40:05.064776\n",
            "\n",
            "Training # 1 1\n",
            "2023-03-15 22:40:05.066282\n",
            "2023-03-15 22:40:05.066603\n",
            "Discriminator is GMM\n",
            "Means [-0.2239477097586752, 1.9719112416941398]\n",
            "Variances [7.95766867 2.55796695]\n",
            "Priors [0.35126894 0.64873106]\n",
            "[-5, -4, -3.5, -3, -2.5, -2, -1.5, -1, -0.5, 0, 0.5, 1, 1.5, 2, 3]\n",
            "[0 0 0 0 0 0 0 0 0 1 1 1 1 1 1]\n",
            "FIT\n",
            "2023-03-15 22:40:08.310146\n"
          ]
        },
        {
          "output_type": "display_data",
          "data": {
            "text/plain": [
              "<Figure size 576x360 with 1 Axes>"
            ],
            "image/png": "[encoded data removed]"
          },
          "metadata": {
            "needs_background": "light"
          }
        },
        {
          "output_type": "stream",
          "name": "stdout",
          "text": [
            "\n",
            "2023-03-15 22:40:12.108478\n",
            "\n",
            "Testing # 1 1\n",
            "2023-03-15 22:40:12.108585\n",
            "2023-03-15 22:40:12.108624\n",
            "PREDICT\n",
            "2023-03-15 22:40:12.372943\n",
            "Test 1:0 860:193 81.67%\n",
            "Predict 1:0 1053:0 100.00%\n",
            "Test sizes (1053, 4997) (1053,)\n",
            "Range of scores: 0.60929793 to 0.66976225\n",
            "Score threshold 0.5\n"
          ]
        },
        {
          "output_type": "display_data",
          "data": {
            "text/plain": [
              "<Figure size 432x288 with 1 Axes>"
            ],
            "image/png": "[encoded data removed]"
          },
          "metadata": {
            "needs_background": "light"
          }
        },
        {
          "output_type": "display_data",
          "data": {
            "text/plain": [
              "<Figure size 432x288 with 1 Axes>"
            ],
            "image/png": "[encoded data removed]"
          },
          "metadata": {
            "needs_background": "light"
          }
        },
        {
          "output_type": "stream",
          "name": "stdout",
          "text": [
            "Accuracy: 81.67% Precision: 81.67% Recall: 100.00%\n",
            "F1: 89.91% MCC: 0.00%\n",
            "AUPRC: 84.18% AUROC: 55.53%\n",
            " accuracy [81.67141500474834]\n",
            " precision [81.67141500474834]\n",
            " recall [100.0]\n",
            " F1 [89.91113434396236]\n",
            " MCC [0.0]\n",
            " AUPRC [84.18016708972355]\n",
            " AUROC [55.52566574286059]\n",
            "2023-03-15 22:40:13.152060\n"
          ]
        }
      ],
      "source": [
        "print(datetime.now())\n",
        "\n",
        "accuracy=[]\n",
        "precision=[]\n",
        "recall=[]\n",
        "f1=[]\n",
        "mcc=[]\n",
        "auprc=[]\n",
        "auroc=[]\n",
        "\n",
        "loader = DataLoader()\n",
        "filepath = DATA_DIR+RCI_FILE_TRAIN\n",
        "print(\"Load RCI from\",filepath)\n",
        "gene_to_rci = loader.load_gene_rci_values(filepath,EXCLUSIONS)\n",
        "print('Num RCI:', len(gene_to_rci.keys()))\n",
        "filepath = DATA_DIR+SEQ_FILE_TRAIN\n",
        "print('Load sequence from',filepath)\n",
        "allids,allseq = loader.load_sequence(filepath)\n",
        "print('Loaded',len(allseq),'sequences.')\n",
        "if RCI_FILE_TEST is not None and SEQ_FILE_TEST is not None:\n",
        "    test_loader = DataLoader()\n",
        "    filepath = DATA_DIR+RCI_FILE_TEST\n",
        "    print(\"Load RCI from\",filepath)\n",
        "    test_gene_to_rci = test_loader.load_gene_rci_values(filepath,EXCLUSIONS)\n",
        "    print('Num RCI:', len(test_gene_to_rci.keys()))\n",
        "    filepath = DATA_DIR+SEQ_FILE_TEST\n",
        "    print('Load sequence from',filepath)\n",
        "    test_allids,test_allseq = test_loader.load_sequence(filepath)\n",
        "    print('Loaded',len(test_allseq),'sequences.')\n",
        "\n",
        "REPEATS = 2\n",
        "FOLDS = 5\n",
        "for repeat in range(REPEATS):\n",
        "    for fold in range(FOLDS):\n",
        "        r = repeat+1\n",
        "        f = fold+1\n",
        "\n",
        "        # to do : separate a validation set\n",
        "        train_allids = allids\n",
        "        train_allseq = allseq\n",
        "        train_gene_to_rci = gene_to_rci\n",
        "\n",
        "        print(datetime.now())\n",
        "        print()\n",
        "        print(\"Training #\",r,f)\n",
        "        print(datetime.now())\n",
        "        cvdo = CrossValidator(EPOCHS,BREAK)\n",
        "        cvdo.set_sequences(train_allids,train_allseq)\n",
        "        cvdo.set_rci_map(train_gene_to_rci)\n",
        "        cvdo.set_threshold_mechanism(RCI_THRESHOLD_MECHANISM)\n",
        "        cvdo.train_new_model()\n",
        "\n",
        "        print()\n",
        "        print(datetime.now())\n",
        "        print()\n",
        "        print(\"Testing #\",r,f)\n",
        "        print(datetime.now())\n",
        "        cvdo.set_sequences(test_allids,test_allseq)\n",
        "        cvdo.set_rci_map(test_gene_to_rci)\n",
        "        cvdo.reset_statistics()\n",
        "        cvdo.test_without_training()\n",
        "        cv_accuracy,cv_precision,cv_recall,cv_f1,cv_mcc,cv_auprc,cv_auroc=\\\n",
        "            cvdo.get_statistics()\n",
        "\n",
        "        print(\" accuracy\" ,  cv_accuracy)\n",
        "        print(\" precision\" , cv_precision)\n",
        "        print(\" recall\" ,    cv_recall)\n",
        "        print(\" F1\" ,        cv_f1)\n",
        "        print(\" MCC\" ,       cv_mcc)\n",
        "        print(\" AUPRC\" ,     cv_auprc)\n",
        "        print(\" AUROC\" ,     cv_auroc)\n",
        "\n",
        "        accuracy.append(cv_accuracy)\n",
        "        precision.append(cv_precision)\n",
        "        recall.append(cv_recall)\n",
        "        f1.append(cv_f1)\n",
        "        mcc.append(cv_mcc)\n",
        "        auprc.append(cv_auprc)\n",
        "        auroc.append(cv_auroc)\n",
        "        if BREAK: break\n",
        "    if BREAK: break\n",
        "print(datetime.now())"
      ]
    },
    {
      "cell_type": "code",
      "execution_count": 63,
      "metadata": {
        "colab": {
          "base_uri": "https://localhost:8080/"
        },
        "id": "HkCeDg_HdQ36",
        "outputId": "b3938646-b584-4c7e-83a7-3191f1b2cd69"
      },
      "outputs": [
        {
          "output_type": "stream",
          "name": "stdout",
          "text": [
            " accuracy mean 81.67% std nan\n",
            " precision mean 81.67% std nan\n",
            " recall mean 100.00% std nan\n",
            " F1 mean 89.91% std nan\n",
            " MCC mean 0.00% std nan\n",
            " AUPRC mean 84.18% std nan\n",
            " AUROC mean 55.53% std nan\n",
            " accuracy [[81.67141500474834]]\n",
            " precision [[81.67141500474834]]\n",
            " recall [[100.0]]\n",
            " F1 [[89.91113434396236]]\n",
            " MCC [[0.0]]\n",
            " AUPRC [[84.18016708972355]]\n",
            " AUROC [[55.52566574286059]]\n"
          ]
        },
        {
          "output_type": "stream",
          "name": "stderr",
          "text": [
            "/usr/local/lib/python3.9/dist-packages/numpy/core/_methods.py:264: RuntimeWarning: Degrees of freedom <= 0 for slice\n",
            "  ret = _var(a, axis=axis, dtype=dtype, out=out, ddof=ddof,\n",
            "/usr/local/lib/python3.9/dist-packages/numpy/core/_methods.py:256: RuntimeWarning: invalid value encountered in double_scalars\n",
            "  ret = ret.dtype.type(ret / rcount)\n"
          ]
        }
      ],
      "source": [
        "def STD (values):\n",
        "    return np.std(values,ddof=1)\n",
        "\n",
        "print(\" accuracy mean %.2f%% std %.2f\" %  (np.mean(accuracy),  STD(accuracy)))\n",
        "print(\" precision mean %.2f%% std %.2f\" % (np.mean(precision), STD(precision)))\n",
        "print(\" recall mean %.2f%% std %.2f\" %    (np.mean(recall),    STD(recall)))\n",
        "print(\" F1 mean %.2f%% std %.2f\" %        (np.mean(f1),        STD(f1)))\n",
        "print(\" MCC mean %.2f%% std %.2f\" %       (np.mean(mcc),       STD(mcc)))\n",
        "print(\" AUPRC mean %.2f%% std %.2f\" %     (np.mean(auprc),     STD(auprc)))\n",
        "print(\" AUROC mean %.2f%% std %.2f\" %     (np.mean(auroc),     STD(auroc)))\n",
        "\n",
        "print(\" accuracy\"  , accuracy)\n",
        "print(\" precision\" , precision)\n",
        "print(\" recall\"    , recall)\n",
        "print(\" F1\"        , f1)\n",
        "print(\" MCC\"       , mcc)\n",
        "print(\" AUPRC\"     , auprc)\n",
        "print(\" AUROC\"     , auroc)\n",
        "\n"
      ]
    }
  ],
  "metadata": {
    "accelerator": "GPU",
    "colab": {
      "provenance": []
    },
    "gpuClass": "standard",
    "kernelspec": {
      "display_name": "Python 3 (ipykernel)",
      "language": "python",
      "name": "python3"
    },
    "language_info": {
      "codemirror_mode": {
        "name": "ipython",
        "version": 3
      },
      "file_extension": ".py",
      "mimetype": "text/x-python",
      "name": "python",
      "nbconvert_exporter": "python",
      "pygments_lexer": "ipython3",
      "version": "3.10.0"
    }
  },
  "nbformat": 4,
  "nbformat_minor": 0
}