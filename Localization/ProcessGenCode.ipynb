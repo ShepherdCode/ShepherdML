{
 "cells": [
  {
   "cell_type": "markdown",
   "id": "9785c0a6",
   "metadata": {},
   "source": [
    "# GenCode\n",
    "\n",
    "GenCode release 42\n",
    "[LINK](https://ftp.ebi.ac.uk/pub/databases/gencode/Gencode_human/release_42/)\n",
    "\n",
    "This notebook runs before Train/Test Split.\n",
    "\n",
    "This notebook reduces our GenCode sequence files to \n",
    "1. genes with RCI values in LncAtlas\n",
    "1. transcripts whose GenCode annotation looks good\n",
    "\n",
    "This notebook does not generate the train/test split."
   ]
  },
  {
   "cell_type": "code",
   "execution_count": 1,
   "id": "62785822",
   "metadata": {},
   "outputs": [
    {
     "name": "stdout",
     "output_type": "stream",
     "text": [
      "2022-10-27 18:35:03.022160\n"
     ]
    }
   ],
   "source": [
    "from datetime import datetime\n",
    "print(datetime.now())"
   ]
  },
  {
   "cell_type": "code",
   "execution_count": 2,
   "id": "e18a77ba",
   "metadata": {},
   "outputs": [],
   "source": [
    "DATA_DIR = '/Users/jasonmiller/WVU/Localization/GenCode/'\n",
    "# GenCode inputs\n",
    "ANNOTATION = 'gencode.v42.annotation.gff3'\n",
    "NONCODING_SEQUENCE = 'gencode.v42.lncRNA_transcripts.fa'   \n",
    "CODING_SEQUENCE = 'gencode.v42.pc_transcripts.fa'    \n",
    "# GenCode outputs\n",
    "CODING_CSV = 'gencode.v42.pc_transcripts.csv'        \n",
    "NONCODING_CSV = 'gencode.v42.lncRNA_transcripts.csv'   \n",
    "# Atlas inputs\n",
    "ATLAS_DIR = '/Users/jasonmiller/WVU/Localization/LncAtlas/'\n",
    "ATLAS_FILE = 'lncATLAS_all_data_RCI.csv'"
   ]
  },
  {
   "cell_type": "code",
   "execution_count": 3,
   "id": "dc83e1fb",
   "metadata": {},
   "outputs": [],
   "source": [
    "class fasta_reader():\n",
    "    '''\n",
    "    Parser for human transcripts FASTA file from GenCode.\n",
    "    '''\n",
    "    def __init__(self,infile,outfile,biotype):\n",
    "        '''\n",
    "        Biotype should reflect the filename: either 'pc' or 'lncRNA'.\n",
    "        '''\n",
    "        self.infile = infile\n",
    "        self.outfile = outfile\n",
    "        self.biotype = biotype\n",
    "        self.FASTA_DEFCHAR = '>'  # signals a defline = definition line\n",
    "        self.count_in = 0\n",
    "        self.count_out = 0\n",
    "        self.allow_genes = None\n",
    "        self.allow_transcripts = None\n",
    "        self.headers='transcript_id,gene_id,biotype,length,sequence\\n'\n",
    "    def allow_these_genes(self,genes:set):\n",
    "        self.allow_genes = genes\n",
    "    def allow_these_transcripts(self,trans:set):\n",
    "        self.allow_transcripts = trans\n",
    "    def print_one_sequence(self,handle,tran,gene,seq):\n",
    "        allow_genes = self.allow_genes\n",
    "        allow_trans = self.allow_transcripts\n",
    "        if seq is not None:\n",
    "            # sequence is None when we encounter the first defline\n",
    "            if allow_genes is None or gene in allow_genes:\n",
    "                if allow_trans is None or tran in allow_trans:\n",
    "                    biotype = self.biotype\n",
    "                    length = str(len(seq))\n",
    "                    outstr = ','.join((tran,gene,biotype,length,seq))\n",
    "                    handle.write(outstr+'\\n')\n",
    "                    self.count_out += 1\n",
    "    def fasta_to_csv(self):\n",
    "        with open(self.outfile,'w') as handle:\n",
    "            handle.write(self.headers)\n",
    "            with open(self.infile,'r') as fasta:\n",
    "                transcript_id = None\n",
    "                gene_id = None\n",
    "                next_seq = None\n",
    "                for line in fasta:\n",
    "                    if line[0]==self.FASTA_DEFCHAR:\n",
    "                        self.count_in += 1\n",
    "                        # The defline starts with '>'\n",
    "                        # The defline has fields separated by vertical bar\n",
    "                        # Wrap up the previous sequence before moving on to the next.\n",
    "                        self.print_one_sequence(handle,transcript_id,gene_id,next_seq)\n",
    "                        tokens = line.split('|')\n",
    "                        transcript_id = tokens[0][1:] # chop off '>'\n",
    "                        gene_id = tokens[1]   \n",
    "                        version_index=gene_id.find('.')   \n",
    "                        if version_index>=0:\n",
    "                            # chop off version number, as in ENSG00000198888.2\n",
    "                            gene_id = gene_id[:version_index]  \n",
    "                        next_seq = \"\"   # get ready for one to many sequence lines\n",
    "                    else:\n",
    "                        # In FASTA format, one sequence may continue to next line\n",
    "                        next_seq = next_seq + line.strip()  \n",
    "            self.print_one_sequence(handle,transcript_id,gene_id,next_seq)\n",
    "        print(\" Input sequences: %d\"%self.count_in)\n",
    "        print(\"Output sequences: %d\"%self.count_out)"
   ]
  },
  {
   "cell_type": "code",
   "execution_count": 4,
   "id": "2324acca",
   "metadata": {},
   "outputs": [
    {
     "name": "stdout",
     "output_type": "stream",
     "text": [
      "2022-10-27 18:35:03.106824\n",
      "Atlas good genes: 25172\n"
     ]
    }
   ],
   "source": [
    "def load_atlas_genes(filepath):\n",
    "    genes = set()\n",
    "    with open (filepath,'r') as handle:\n",
    "        header = None\n",
    "        for row in handle:\n",
    "            if header is None:\n",
    "                header = row\n",
    "            else:\n",
    "                fields = row.split(',')\n",
    "                gene_id = fields[0]\n",
    "                value = fields[3]\n",
    "                if (value != 'NA'):\n",
    "                    genes.add(gene_id)  # set removes dupes\n",
    "    return genes\n",
    "print(datetime.now())\n",
    "atlas_genes = load_atlas_genes(ATLAS_DIR+ATLAS_FILE)\n",
    "print('Atlas good genes:', len(atlas_genes))"
   ]
  },
  {
   "cell_type": "markdown",
   "id": "8cc34a31",
   "metadata": {},
   "source": [
    "We keep transcripts with the following combinations of GenCode annotation:\n",
    "1. gene_type=transcript_type=lncRNA\n",
    "1. gene_type=transcript_type=protein_coding\n",
    "\n",
    "The goal is to avoid these GenCode transcript types:\n",
    "1. transcript_type=retained_intron\n",
    "1. transcript_type=protein_coding_CDS_not_defined   \n",
    "1. transcript_type=protein_coding_LoF # note the bug-inducing partial string match\n",
    "1. transcript_type=nonsense_mediated_decay\n",
    "1. transcript_type=non_stop_decay"
   ]
  },
  {
   "cell_type": "code",
   "execution_count": 5,
   "id": "0c0048a8",
   "metadata": {},
   "outputs": [
    {
     "name": "stdout",
     "output_type": "stream",
     "text": [
      "2022-10-27 18:35:03.625319\n",
      "Gencode good pc transcripts pc/nc: 89305\n",
      "Gencode good nc transcripts pc/nc: 56049\n"
     ]
    }
   ],
   "source": [
    "def load_annotated_transcripts(filepath):\n",
    "    pc_tids = set()\n",
    "    nc_tids = set()\n",
    "    with open (filepath,'r') as handle:\n",
    "        for row in handle:\n",
    "            columns = row.split('\\t')\n",
    "            # Avoid comment lines\n",
    "            if len(columns)>=9 and columns[2] == 'transcript':\n",
    "                comments = columns[8]\n",
    "                pairs = comments.split(';')\n",
    "                tid = None\n",
    "                gtype = None\n",
    "                ttype = None\n",
    "                for pair in pairs:\n",
    "                    if pair.startswith('ID=ENST'):\n",
    "                        tid = pair[3:]  \n",
    "                    elif pair.startswith('gene_type='):\n",
    "                        gtype = pair[10:]\n",
    "                    elif pair.startswith('transcript_type='):\n",
    "                        ttype = pair[16:]\n",
    "                if ttype is not None:\n",
    "                    if tid is None:\n",
    "                        raise Exception('transcript type without ID')\n",
    "                    if ttype==gtype: \n",
    "                        if ttype=='protein_coding':\n",
    "                            pc_tids.add(tid)\n",
    "                        elif ttype=='lncRNA':\n",
    "                            nc_tids.add(tid)\n",
    "    return pc_tids, nc_tids\n",
    "print(datetime.now())\n",
    "gencode_pc_transcripts,gencode_nc_transcripts = load_annotated_transcripts(DATA_DIR+ANNOTATION)\n",
    "print('Gencode good pc transcripts pc/nc:', len(gencode_pc_transcripts))\n",
    "print('Gencode good nc transcripts pc/nc:', len(gencode_nc_transcripts))"
   ]
  },
  {
   "cell_type": "markdown",
   "id": "3bf2524e",
   "metadata": {},
   "source": [
    "## mRNA\n",
    "One genes can have several RNA transcripts called isoforms. \n",
    "\n",
    "Typical defline of the GenCode pc file:    \n",
    "\n",
    "    >ENST00000641515.2|ENSG00000186092.7|OTTHUMG00000001094.4|OTTHUMT00000003223.4|OR4F5-201|OR4F5|2618|UTR5:1-60|CDS:61-1041|UTR3:1042-2618|"
   ]
  },
  {
   "cell_type": "code",
   "execution_count": 6,
   "id": "f1d3241d",
   "metadata": {},
   "outputs": [
    {
     "name": "stdout",
     "output_type": "stream",
     "text": [
      "2022-10-27 18:35:10.531331\n",
      " Input sequences: 111053\n",
      "Output sequences: 85641\n"
     ]
    }
   ],
   "source": [
    "print(datetime.now())\n",
    "infile = DATA_DIR + CODING_SEQUENCE\n",
    "outfile = DATA_DIR + CODING_CSV\n",
    "converter = fasta_reader(infile,outfile,'pc')\n",
    "converter.allow_these_genes(atlas_genes)\n",
    "converter.allow_these_transcripts(gencode_pc_transcripts)\n",
    "converter.fasta_to_csv()\n",
    "# Without gencode_pc_transcripts filter, Input sequences: 111053 Output sequences: 106395"
   ]
  },
  {
   "cell_type": "markdown",
   "id": "fb5f4f4b",
   "metadata": {},
   "source": [
    "## lncRNA\n",
    "\n",
    "Non-coding genes can halso ave different transcripts called isoforms. \n",
    "\n",
    "Typical defline of the GenCode lncRNA file:   \n",
    "\n",
    "    >ENST00000456328.2|ENSG00000290825.1|-|OTTHUMT00000362751.1|DDX11L2-202|DDX11L2|1657|\n"
   ]
  },
  {
   "cell_type": "code",
   "execution_count": 7,
   "id": "03c34a41",
   "metadata": {},
   "outputs": [
    {
     "name": "stdout",
     "output_type": "stream",
     "text": [
      "2022-10-27 18:35:14.566913\n",
      " Input sequences: 57936\n",
      "Output sequences: 29117\n"
     ]
    }
   ],
   "source": [
    "print(datetime.now())\n",
    "infile = DATA_DIR + NONCODING_SEQUENCE\n",
    "outfile = DATA_DIR + NONCODING_CSV\n",
    "converter = fasta_reader(infile,outfile,'lncRNA')\n",
    "converter.allow_these_genes(atlas_genes)\n",
    "converter.allow_these_transcripts(gencode_nc_transcripts)\n",
    "converter.fasta_to_csv()\n",
    "# Without gencode_pc_transcripts filter, Input sequences: 57936 Output sequences: 30139"
   ]
  },
  {
   "cell_type": "code",
   "execution_count": 8,
   "id": "1c8bfc4f",
   "metadata": {},
   "outputs": [
    {
     "name": "stdout",
     "output_type": "stream",
     "text": [
      "2022-10-27 18:35:15.788251\n"
     ]
    }
   ],
   "source": [
    "print(datetime.now())"
   ]
  },
  {
   "cell_type": "code",
   "execution_count": null,
   "id": "bce28587",
   "metadata": {},
   "outputs": [],
   "source": []
  }
 ],
 "metadata": {
  "kernelspec": {
   "display_name": "Python 3 (ipykernel)",
   "language": "python",
   "name": "python3"
  },
  "language_info": {
   "codemirror_mode": {
    "name": "ipython",
    "version": 3
   },
   "file_extension": ".py",
   "mimetype": "text/x-python",
   "name": "python",
   "nbconvert_exporter": "python",
   "pygments_lexer": "ipython3",
   "version": "3.10.0"
  }
 },
 "nbformat": 4,
 "nbformat_minor": 5
}
