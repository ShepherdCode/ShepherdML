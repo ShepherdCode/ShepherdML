{
 "cells": [
  {
   "cell_type": "markdown",
   "id": "9785c0a6",
   "metadata": {},
   "source": [
    "# GenCode / Ensembl\n",
    "The current release for human is Release 41 (GRCh38.p13).\n",
    "All GenCode annotataion refers to Ensembl IDs.\n",
    "The sequence download pages at GenCode contain links to the Ensembl \n",
    "[FTP](https://useast.ensembl.org/info/data/ftp/index.html).  \n",
    "\n",
    "Human sequence in FASTA: \n",
    "1. genomic DNA\n",
    "1. gene cDNA (with introns) \n",
    "1. transcript [CDS](http://ftp.ensembl.org/pub/release-107/fasta/homo_sapiens/cds/) \n",
    "(without introns) \n",
    "1. noncoding [ncRNA](http://ftp.ensembl.org/pub/release-107/fasta/homo_sapiens/ncrna/)   \n",
    "1. Human gene annotation in [GFF](https://www.gencodegenes.org/human/)\n"
   ]
  },
  {
   "cell_type": "code",
   "execution_count": 1,
   "id": "e18a77ba",
   "metadata": {},
   "outputs": [],
   "source": [
    "DATA_DIR = '/Users/jasonmiller/WVU/Localization/GenCode/'"
   ]
  },
  {
   "cell_type": "code",
   "execution_count": 2,
   "id": "dc83e1fb",
   "metadata": {},
   "outputs": [],
   "source": [
    "class fasta_reader():\n",
    "    '''Parser for human transcripts FASTA file from Ensembl.'''\n",
    "    def __init__(self,infile,outfile):\n",
    "        self.infile = infile\n",
    "        self.outfile = outfile\n",
    "        self.filter_type = None\n",
    "        self.FASTA_DEFCHAR = '>'\n",
    "        self.count=0\n",
    "        self.headers='transcript_id,gene_id,biotype,length,sequence\\n'\n",
    "    def accumulate_types(self,biotype):\n",
    "        if biotype in self.type_dict:\n",
    "            self.type_dict[biotype] = self.type_dict[biotype]+1\n",
    "        else:\n",
    "            self.type_dict[biotype]=1\n",
    "    def print_one_sequence(self,handle,tran,gene,biotype,seq):\n",
    "        if seq is not None:\n",
    "            if self.filter_type is None or self.filter_type==biotype:\n",
    "                length = str(len(seq))\n",
    "                outstr = ','.join((tran,gene,biotype,length,seq))\n",
    "                handle.write(outstr+'\\n')\n",
    "                self.count += 1\n",
    "    def set_filter(self,word):\n",
    "        self.filter_type = word\n",
    "    def types_report(self):\n",
    "        self.type_dict={}\n",
    "        with open(self.infile,'r') as fasta:\n",
    "            for line in fasta:\n",
    "                if line[0]==self.FASTA_DEFCHAR:\n",
    "                    tokens = line.split(' ')\n",
    "                    longbiotype = tokens[5].strip()\n",
    "                    biotype = longbiotype.split(':')[1]\n",
    "                    self.accumulate_types(biotype)\n",
    "        print(\"Input transcript biotypes report:\")\n",
    "        print(self.type_dict)\n",
    "    def fasta_to_csv(self):\n",
    "        self.type_dict={}\n",
    "        with open(self.outfile,'w') as handle:\n",
    "            handle.write(self.headers)\n",
    "            with open(self.infile,'r') as fasta:\n",
    "                transcript_id = None\n",
    "                gene_id = None\n",
    "                biotype = None\n",
    "                next_seq = None\n",
    "                for line in fasta:\n",
    "                    if line[0]==self.FASTA_DEFCHAR:\n",
    "                        # The defline starts with '>'\n",
    "                        # The defline has key:value pairs separated by spaces\n",
    "                        self.print_one_sequence(handle,transcript_id,gene_id,biotype,next_seq)\n",
    "                        # Special case: descriptions come last and have embedded spaces\n",
    "                        desc_index = line.find(' description:')\n",
    "                        if desc_index>0:\n",
    "                            desc_str = line[desc_index+1:]\n",
    "                            line = line[:desc_index]  # line minus description\n",
    "                        tokens = line.split(' ')\n",
    "                        transcript_id = tokens[0][1:] # chop off '>'\n",
    "                        gene_id = tokens[3][5:]    # chop off 'gene:'\n",
    "                        version_index=gene_id.find('.')   # as in ENSG00000198888.2\n",
    "                        if version_index>=0:\n",
    "                            gene_id = gene_id[:version_index]  # chop off version\n",
    "                        longbiotype = tokens[5].strip()  # chop off newlines\n",
    "                        biotype = longbiotype.split(':')[1]  # chop of 'transcript_biotype:'\n",
    "                        next_seq = \"\"   # get ready for one to many sequence lines\n",
    "                    else:\n",
    "                        next_seq = next_seq + line.strip()  # sequence continuation\n",
    "            self.print_one_sequence(handle,transcript_id,gene_id,biotype,next_seq)\n",
    "        print(\"Output sequences: %d\"%self.count)"
   ]
  },
  {
   "cell_type": "markdown",
   "id": "3bf2524e",
   "metadata": {},
   "source": [
    "## mRNA\n",
    "The cds file contains the coding sequence, that is, the processed transcript,\n",
    "which is the gene sequence minus the untranslated UTR and introns.\n",
    "\n",
    "Genes can have different transcripts called isoforms. \n",
    "\n",
    "Some protein_coding genes have degenerate, non-coding transcripts.\n",
    "For example, a protein_coding gene might have one transcript\n",
    "marked for nonsense-mediated_decay because it is ill-formed.\n",
    "\n",
    "Here, we filter for the protein_coding transcripts only.\n",
    "\n",
    "Typical defline of cds file:    \n",
    "`ENST00000631435.1 cds chromosome:GRCh38:CHR_HSCHR7_2_CTG6:142847306:142847317:1 gene:ENSG00000282253.1 gene_biotype:TR_D_gene transcript_biotype:TR_D_gene gene_symbol:TRBD1 description:T cell receptor beta diversity 1 [Source:HGNC Symbol;Acc:HGNC:12158]`"
   ]
  },
  {
   "cell_type": "code",
   "execution_count": 3,
   "id": "f1d3241d",
   "metadata": {},
   "outputs": [
    {
     "name": "stdout",
     "output_type": "stream",
     "text": [
      "Input transcript biotypes report:\n",
      "{'TR_D_gene': 5, 'IG_D_gene': 64, 'TR_V_gene': 160, 'TR_C_gene': 8, 'IG_J_gene': 24, 'IG_C_gene': 34, 'IG_V_gene': 231, 'TR_J_gene': 93, 'protein_coding': 98078, 'protein_coding_LoF': 112, 'nonsense_mediated_decay': 21789, 'non_stop_decay': 114}\n",
      "Output sequences: 98078\n"
     ]
    }
   ],
   "source": [
    "# From https://ftp.ensembl.org/pub/release-107/fasta/homo_sapiens/cds/\n",
    "FASTA_FILENAME='Homo_sapiens.GRCh38.cds.all.fa'\n",
    "# FASTA_FILENAME='test.cds.fa'   # just for testing\n",
    "CSV_FILENAME='Homo_sapiens.GRCh38.cds.csv'\n",
    "infile = DATA_DIR + FASTA_FILENAME\n",
    "outfile = DATA_DIR + CSV_FILENAME\n",
    "converter = fasta_reader(infile,outfile)\n",
    "converter.types_report()\n",
    "converter.set_filter('protein_coding')\n",
    "converter.fasta_to_csv()"
   ]
  },
  {
   "cell_type": "markdown",
   "id": "fb5f4f4b",
   "metadata": {},
   "source": [
    "## lncRNA\n",
    "The ncrna file contains non-coding sequence, that is, \n",
    "transcripts from non-coding genes. \n",
    "\n",
    "Non-coding genes can have different transcripts called isoforms. \n",
    "\n",
    "Some non-coding genes have degenerate transcripts.\n",
    "For example, a lncRNA gene might have one transcript\n",
    "marked retained_intron because it was not processed correctly.\n",
    "\n",
    "Here, we filter for the lncRNA transcripts only.\n",
    "\n",
    "Typical defline of ncrna file:   \n",
    "`>ENST00000516993.1 ncrna chromosome:GRCh38:1:26593940:26594041:-1 gene:ENSG00000252802.1 gene_biotype:misc_RNA transcript_biotype:misc_RNA gene_symbol:Y_RNA description:Y RNA [Source:RFAM;Acc:RF00019]`"
   ]
  },
  {
   "cell_type": "code",
   "execution_count": 4,
   "id": "03c34a41",
   "metadata": {},
   "outputs": [
    {
     "name": "stdout",
     "output_type": "stream",
     "text": [
      "Input transcript biotypes report:\n",
      "{'snRNA': 2072, 'rRNA': 71, 'scRNA': 1, 'sRNA': 6, 'Mt_rRNA': 2, 'snoRNA': 1009, 'vault_RNA': 1, 'miRNA': 1924, 'Mt_tRNA': 22, 'scaRNA': 51, 'lncRNA': 55625, 'retained_intron': 648, 'TEC': 17, 'transcribed_unitary_pseudogene': 1, 'ribozyme': 8, 'misc_RNA': 2407}\n",
      "Output sequences: 55625\n"
     ]
    }
   ],
   "source": [
    "# From http://ftp.ensembl.org/pub/release-107/fasta/homo_sapiens/ncrna/\n",
    "FASTA_FILENAME='Homo_sapiens.GRCh38.ncrna.fa'\n",
    "# FASTA_FILENAME='test.ncrna.fa'   # just for testing\n",
    "CSV_FILENAME='Homo_sapiens.GRCh38.ncrna.csv'\n",
    "infile = DATA_DIR + FASTA_FILENAME\n",
    "outfile = DATA_DIR + CSV_FILENAME\n",
    "converter = fasta_reader(infile,outfile)\n",
    "converter.types_report()\n",
    "converter.set_filter('lncRNA')   \n",
    "converter.fasta_to_csv()"
   ]
  },
  {
   "cell_type": "code",
   "execution_count": null,
   "id": "1c8bfc4f",
   "metadata": {},
   "outputs": [],
   "source": []
  }
 ],
 "metadata": {
  "kernelspec": {
   "display_name": "Python 3 (ipykernel)",
   "language": "python",
   "name": "python3"
  },
  "language_info": {
   "codemirror_mode": {
    "name": "ipython",
    "version": 3
   },
   "file_extension": ".py",
   "mimetype": "text/x-python",
   "name": "python",
   "nbconvert_exporter": "python",
   "pygments_lexer": "ipython3",
   "version": "3.10.0"
  }
 },
 "nbformat": 4,
 "nbformat_minor": 5
}
