{
 "cells": [
  {
   "cell_type": "markdown",
   "id": "9785c0a6",
   "metadata": {},
   "source": [
    "# GenCode\n",
    "\n",
    "GenCode release 42\n",
    "[LINK](https://ftp.ebi.ac.uk/pub/databases/gencode/Gencode_human/release_42/)"
   ]
  },
  {
   "cell_type": "code",
   "execution_count": 1,
   "id": "e18a77ba",
   "metadata": {},
   "outputs": [],
   "source": [
    "DATA_DIR = '/Users/jasonmiller/WVU/Localization/GenCode/'\n",
    "ANNOTATION = 'gencode.v42.basic.annotation.gff3'\n",
    "NONCODING_SEQUENCE = 'gencode.v42.lncRNA_transcripts.fa'\n",
    "CODING_SEQUENCE = 'gencode.v42.pc_transcripts.fa'\n",
    "CODING_CSV = 'gencode.v42.pc_transcripts.csv'\n",
    "NONCODING_CSV = 'gencode.v42.lncRNA_transcripts.csv'"
   ]
  },
  {
   "cell_type": "code",
   "execution_count": 2,
   "id": "dc83e1fb",
   "metadata": {},
   "outputs": [],
   "source": [
    "class fasta_reader():\n",
    "    '''\n",
    "    Parser for human transcripts FASTA file from GenCode.\n",
    "    '''\n",
    "    def __init__(self,infile,outfile,biotype):\n",
    "        '''\n",
    "        Biotype should reflect the filename: either 'pc' or 'lncRNA'.\n",
    "        '''\n",
    "        self.infile = infile\n",
    "        self.outfile = outfile\n",
    "        self.biotype = biotype\n",
    "        self.FASTA_DEFCHAR = '>'  # signals a defline = definition line\n",
    "        self.count=0\n",
    "        self.headers='transcript_id,gene_id,biotype,length,sequence\\n'\n",
    "    def print_one_sequence(self,handle,tran,gene,seq):\n",
    "        if seq is not None:\n",
    "            # sequence is None when we encounter the first defline\n",
    "            biotype = self.biotype\n",
    "            length = str(len(seq))\n",
    "            outstr = ','.join((tran,gene,biotype,length,seq))\n",
    "            handle.write(outstr+'\\n')\n",
    "            self.count += 1\n",
    "    def fasta_to_csv(self):\n",
    "        with open(self.outfile,'w') as handle:\n",
    "            handle.write(self.headers)\n",
    "            with open(self.infile,'r') as fasta:\n",
    "                transcript_id = None\n",
    "                gene_id = None\n",
    "                next_seq = None\n",
    "                for line in fasta:\n",
    "                    if line[0]==self.FASTA_DEFCHAR:\n",
    "                        # The defline starts with '>'\n",
    "                        # The defline has fields separated by vertical bar\n",
    "                        # Wrap up the previous sequence before moving on to the next.\n",
    "                        self.print_one_sequence(handle,transcript_id,gene_id,next_seq)\n",
    "                        tokens = line.split('|')\n",
    "                        transcript_id = tokens[0][1:] # chop off '>'\n",
    "                        gene_id = tokens[1]   \n",
    "                        version_index=gene_id.find('.')   \n",
    "                        if version_index>=0:\n",
    "                            # chop off version number, as in ENSG00000198888.2\n",
    "                            gene_id = gene_id[:version_index]  \n",
    "                        next_seq = \"\"   # get ready for one to many sequence lines\n",
    "                    else:\n",
    "                        # In FASTA format, one sequence may continue to next line\n",
    "                        next_seq = next_seq + line.strip()  \n",
    "            self.print_one_sequence(handle,transcript_id,gene_id,next_seq)\n",
    "        print(\"Output sequences: %d\"%self.count)"
   ]
  },
  {
   "cell_type": "markdown",
   "id": "3bf2524e",
   "metadata": {},
   "source": [
    "## mRNA\n",
    "One genes can have several RNA transcripts called isoforms. \n",
    "\n",
    "Typical defline of the GenCode pc file:    \n",
    "\n",
    "    >ENST00000641515.2|ENSG00000186092.7|OTTHUMG00000001094.4|OTTHUMT00000003223.4|OR4F5-201|OR4F5|2618|UTR5:1-60|CDS:61-1041|UTR3:1042-2618|"
   ]
  },
  {
   "cell_type": "code",
   "execution_count": 3,
   "id": "f1d3241d",
   "metadata": {},
   "outputs": [
    {
     "name": "stdout",
     "output_type": "stream",
     "text": [
      "Output sequences: 111053\n"
     ]
    }
   ],
   "source": [
    "infile = DATA_DIR + CODING_SEQUENCE\n",
    "outfile = DATA_DIR + CODING_CSV\n",
    "converter = fasta_reader(infile,outfile,'pc')\n",
    "converter.fasta_to_csv()"
   ]
  },
  {
   "cell_type": "markdown",
   "id": "fb5f4f4b",
   "metadata": {},
   "source": [
    "## lncRNA\n",
    "\n",
    "Non-coding genes can halso ave different transcripts called isoforms. \n",
    "\n",
    "Typical defline of the GenCode lncRNA file:   \n",
    "\n",
    "    >ENST00000456328.2|ENSG00000290825.1|-|OTTHUMT00000362751.1|DDX11L2-202|DDX11L2|1657|\n"
   ]
  },
  {
   "cell_type": "code",
   "execution_count": 4,
   "id": "03c34a41",
   "metadata": {},
   "outputs": [
    {
     "name": "stdout",
     "output_type": "stream",
     "text": [
      "Output sequences: 57936\n"
     ]
    }
   ],
   "source": [
    "infile = DATA_DIR + NONCODING_SEQUENCE\n",
    "outfile = DATA_DIR + NONCODING_CSV\n",
    "converter = fasta_reader(infile,outfile,'lncRNA')\n",
    "converter.fasta_to_csv()"
   ]
  },
  {
   "cell_type": "code",
   "execution_count": null,
   "id": "1c8bfc4f",
   "metadata": {},
   "outputs": [],
   "source": []
  }
 ],
 "metadata": {
  "kernelspec": {
   "display_name": "Python 3 (ipykernel)",
   "language": "python",
   "name": "python3"
  },
  "language_info": {
   "codemirror_mode": {
    "name": "ipython",
    "version": 3
   },
   "file_extension": ".py",
   "mimetype": "text/x-python",
   "name": "python",
   "nbconvert_exporter": "python",
   "pygments_lexer": "ipython3",
   "version": "3.10.0"
  }
 },
 "nbformat": 4,
 "nbformat_minor": 5
}
