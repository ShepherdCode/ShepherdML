{
  "cells": [
    {
      "cell_type": "markdown",
      "metadata": {
        "id": "PG-tGRnlFLA3"
      },
      "source": [
        "# LSTM\n",
        "Try sequence-of-Kmers."
      ]
    },
    {
      "cell_type": "code",
      "execution_count": 20,
      "metadata": {
        "colab": {
          "base_uri": "https://localhost:8080/"
        },
        "id": "0RmwUsVLFLA6",
        "outputId": "6b2cbe80-916b-4d5d-c1c8-498343c1c6d1"
      },
      "outputs": [
        {
          "output_type": "stream",
          "name": "stdout",
          "text": [
            "2022-11-21 12:55:20.559945\n",
            "Python 3.7.15\n",
            "sklearn 1.0.2\n"
          ]
        }
      ],
      "source": [
        "from datetime import datetime\n",
        "print(datetime.now())\n",
        "from platform import python_version\n",
        "print('Python',python_version())\n",
        "import numpy as np\n",
        "import pandas as pd\n",
        "from matplotlib import pyplot as plt \n",
        "import sklearn   # pip install --upgrade scikit-learn\n",
        "print('sklearn',sklearn.__version__)"
      ]
    },
    {
      "cell_type": "markdown",
      "metadata": {
        "id": "tUtGXPrcFLA8"
      },
      "source": [
        "We prevously used sklearn.model_selection.ShuffleSplit   \n",
        "Now we avoid it due to this note in the \n",
        "[documentation](https://scikit-learn.org/stable/modules/generated/sklearn.model_selection.ShuffleSplit.html):\n",
        "Note: contrary to other cross-validation strategies, random splits do not guarantee that all folds will be different, although this is still very likely for sizeable datasets."
      ]
    },
    {
      "cell_type": "code",
      "execution_count": 21,
      "metadata": {
        "id": "PRX-UEr8FLA8"
      },
      "outputs": [],
      "source": [
        "import tensorflow as tf\n",
        "dt='float32'\n",
        "tf.keras.backend.set_floatx('float32')\n",
        "tf.random.set_seed(42) \n",
        "\n",
        "from tensorflow import keras\n",
        "from sklearn.model_selection import KFold\n",
        "#from sklearn.preprocessing import OneHotEncoder\n",
        "from keras.models import Sequential\n",
        "from keras.layers import Embedding\n",
        "from keras.layers import Bidirectional\n",
        "from keras.layers import LSTM\n",
        "from keras.layers import Dense\n",
        "from keras.layers import Dropout\n",
        "from keras.losses import BinaryCrossentropy\n",
        "\n",
        "K=3\n",
        "EPOCHS=10\n",
        "FOLDS=5  \n",
        "BREAK = False   # break after first fold\n",
        "MAXLEN=4000   # this is problematic as some genes will be excluded entirely or partially\n",
        "MINLEN=1000"
      ]
    },
    {
      "cell_type": "code",
      "execution_count": 22,
      "metadata": {
        "colab": {
          "base_uri": "https://localhost:8080/"
        },
        "id": "OlzN9OdsFWEU",
        "outputId": "daac96a8-9914-4038-f5c8-4dd9eed3004b"
      },
      "outputs": [
        {
          "output_type": "stream",
          "name": "stdout",
          "text": [
            "Drive already mounted at /content/drive/; to attempt to forcibly remount, call drive.mount(\"/content/drive/\", force_remount=True).\n",
            "/content/drive/My Drive/data/Localization/TrainTest/\n"
          ]
        }
      ],
      "source": [
        "try:\n",
        "    from google.colab import drive\n",
        "    IN_COLAB = True\n",
        "    PATH='/content/drive/'\n",
        "    drive.mount(PATH)\n",
        "    DATA_DIR=PATH+'My Drive/data/Localization/TrainTest/'  # must end in \"/\"\n",
        "except:\n",
        "    IN_COLAB = False\n",
        "    DATA_DIR = '/Users/jasonmiller/WVU/Localization/TrainTest/'    # Mac\n",
        "    DATA_DIR = 'D:/Adjeroh/Localization/TrainTest/'   # Windows\n",
        "print(DATA_DIR)"
      ]
    },
    {
      "cell_type": "code",
      "execution_count": 23,
      "metadata": {
        "id": "LnkpVKdMFLA-"
      },
      "outputs": [],
      "source": [
        "GENES_FILE =    'CNRCI_noncoding_train_genes.csv'\n",
        "RCI_FILE =      'CNRCI_noncoding_train_RCI.gc42.csv'\n",
        "SEQUENCE_FILE = 'CNRCI_noncoding_train_transcripts.gc42.csv'\n",
        "COUNTS_FILE=    'CNRCI_noncoding_train_counts.K4.gc42.csv'"
      ]
    },
    {
      "cell_type": "code",
      "execution_count": 24,
      "metadata": {
        "colab": {
          "base_uri": "https://localhost:8080/"
        },
        "id": "e3p4QzQJFLA_",
        "outputId": "b69a75e4-cc45-4e9d-c1f9-6ce3b19b8741"
      },
      "outputs": [
        {
          "output_type": "stream",
          "name": "stdout",
          "text": [
            "Cell line for today: 1 = H1.hESC\n"
          ]
        }
      ],
      "source": [
        "def get_ordered_list():\n",
        "    ordered_list = \\\n",
        "    ['A549',\\\n",
        "      'H1.hESC',\\\n",
        "      'HeLa.S3',\\\n",
        "      'HepG2',\\\n",
        "      'HT1080',\\\n",
        "      'HUVEC',\\\n",
        "      'MCF.7',\\\n",
        "      'NCI.H460',\\\n",
        "      'NHEK',\\\n",
        "      'SK.MEL.5',\\\n",
        "      'SK.N.DZ',\\\n",
        "      'SK.N.SH',\\\n",
        "      'GM12878',\\\n",
        "      'K562',\\\n",
        "      'IMR.90']\n",
        "    return ordered_list\n",
        "CELL_LINE_NUMBER=1\n",
        "all_cell_lines = get_ordered_list()\n",
        "cell_line_name = all_cell_lines[CELL_LINE_NUMBER]\n",
        "print('Cell line for today:',CELL_LINE_NUMBER,'=',cell_line_name)"
      ]
    },
    {
      "cell_type": "markdown",
      "metadata": {
        "id": "UtqdpJOxFLBA"
      },
      "source": [
        "## Data Load"
      ]
    },
    {
      "cell_type": "code",
      "execution_count": 25,
      "metadata": {
        "colab": {
          "base_uri": "https://localhost:8080/"
        },
        "id": "cYoYDc93FLBB",
        "outputId": "e50612e6-3a7a-47ad-9555-9d03ac5433a2"
      },
      "outputs": [
        {
          "output_type": "stream",
          "name": "stdout",
          "text": [
            "2022-11-21 12:55:21.967146\n",
            "Num RCI: 3327\n",
            "[('ENSG00000099869', 1.0), ('ENSG00000116652', 1.65208), ('ENSG00000117242', -0.793877)]\n"
          ]
        }
      ],
      "source": [
        "print(datetime.now())\n",
        "# labels\n",
        "filepath = DATA_DIR+RCI_FILE\n",
        "gene_to_rci = {}\n",
        "with open (filepath,'r') as handle:\n",
        "    header = None\n",
        "    for row in handle:\n",
        "        if header is None:\n",
        "            header = row\n",
        "        else:\n",
        "            line = row.strip()\n",
        "            fields = line.split(',')\n",
        "            gene_id = fields[0]\n",
        "            rci_val = fields[CELL_LINE_NUMBER+1]\n",
        "            # Could implement Gudenas style threshold here\n",
        "            if rci_val != \"nan\":\n",
        "                gene_to_rci[gene_id] = float(rci_val)\n",
        "print('Num RCI:', len(gene_to_rci.keys()))\n",
        "print(list(gene_to_rci.items())[:3])\n",
        "all_genes = list(gene_to_rci.keys())"
      ]
    },
    {
      "cell_type": "code",
      "execution_count": 26,
      "metadata": {
        "colab": {
          "base_uri": "https://localhost:8080/"
        },
        "id": "bNrOKHddFycs",
        "outputId": "9c4cb2cd-9cc7-4aa6-eff8-b233e338ef6a"
      },
      "outputs": [
        {
          "output_type": "stream",
          "name": "stdout",
          "text": [
            "[0, 0]\n",
            "[19, 15]\n",
            "[62, 56]\n",
            "[63, 0]\n"
          ]
        }
      ],
      "source": [
        "def seq_to_kmers(rna,K):\n",
        "    VALS = {'A':0, 'C':1, 'G':2, 'T':3, 'N':0}\n",
        "    length = len(rna)\n",
        "    vec = []\n",
        "    for i in range(length-K+1):\n",
        "        one_hot = 0\n",
        "        for j in range(K):\n",
        "            one_hot = one_hot * 4\n",
        "            nextnuc = rna[i+j]\n",
        "            if nextnuc=='N':\n",
        "                one_hot= 0   # Same as A? Come back to this and try mask_zero=True\n",
        "                break\n",
        "            nucval = VALS[nextnuc]\n",
        "            one_hot = one_hot + nucval\n",
        "        vec.append(one_hot)\n",
        "    return vec\n",
        "print(seq_to_kmers('AAAA',3))\n",
        "print(seq_to_kmers('CATT',3))\n",
        "print(seq_to_kmers('TTGA',3))\n",
        "print(seq_to_kmers('TTTN',3))"
      ]
    },
    {
      "cell_type": "code",
      "execution_count": 27,
      "metadata": {
        "colab": {
          "base_uri": "https://localhost:8080/"
        },
        "id": "ooyTeQr-FLBB",
        "outputId": "645cac53-12e2-443b-e49f-3d16c822f2cf"
      },
      "outputs": [
        {
          "output_type": "stream",
          "name": "stdout",
          "text": [
            "2022-11-21 12:55:22.055024\n",
            "Load sequence\n",
            "2022-11-21 12:55:43.287866\n",
            "Num IDs: 8564\n",
            "Num labels: 8564\n",
            "Num counts: 8564\n"
          ]
        }
      ],
      "source": [
        "# one hot\n",
        "print(datetime.now())\n",
        "print('Load sequence')\n",
        "filepath = DATA_DIR+SEQUENCE_FILE\n",
        "labels=[]\n",
        "allids=[]\n",
        "allseq=[]\n",
        "NREPEAT = str('N'*MAXLEN)\n",
        "with open (filepath,'r') as handle:\n",
        "    header = None\n",
        "    for row in handle:\n",
        "        if header is None:\n",
        "            header = row\n",
        "        else:\n",
        "            line    = row.strip()\n",
        "            fields  = line.split(',')\n",
        "            tran_id = fields[0]  # with version number\n",
        "            gene_id = fields[1]        # without version number\n",
        "            seq_len = int(fields[3])\n",
        "            seq_txt = fields[4]\n",
        "            if seq_len>=MINLEN and seq_len<=MAXLEN and gene_id in gene_to_rci.keys():\n",
        "                rci_val = gene_to_rci[gene_id]\n",
        "                allids.append( (gene_id,tran_id) )\n",
        "                labels.append(rci_val)\n",
        "                if seq_len<MAXLEN:\n",
        "                    seq_txt = seq_txt + NREPEAT\n",
        "                    seq_txt = seq_txt[:MAXLEN]\n",
        "                hot_vec = seq_to_kmers(seq_txt,K)\n",
        "                allseq.append(hot_vec)\n",
        "print(datetime.now())\n",
        "print('Num IDs:',len(allids))\n",
        "#print('Examples:',[allids[x] for x in [10, 20, 30, 40]] )\n",
        "print('Num labels:',len(labels))\n",
        "#print('Examples:',[labels[x] for x in [10, 20, 30, 40]] )\n",
        "print('Num counts:',len(allseq))\n",
        "#print('Example:',allseq[3])"
      ]
    },
    {
      "cell_type": "code",
      "execution_count": 28,
      "metadata": {
        "id": "W9xiFzNbFLBE"
      },
      "outputs": [],
      "source": [
        "def get_gene_subset(all_genes,sub_index):\n",
        "    sub_genes = set()\n",
        "    for index in sub_index:\n",
        "        one_gene = all_genes[index]\n",
        "        sub_genes.add(one_gene)\n",
        "    return sub_genes\n",
        "def get_X_y(gene_set,allids,allX,allY,threshold):\n",
        "    cnt = len(allids)\n",
        "    subsetX=[]\n",
        "    subsetY=[]\n",
        "    if cnt != len(allX) or cnt!= len(allY):\n",
        "        raise Exception('Lengths differ')\n",
        "    for i in range(cnt):\n",
        "        gene_id,tran_id = allids[i]\n",
        "        if gene_id in gene_set:\n",
        "            oneX = allX[i]\n",
        "            oneY = allY[i]\n",
        "            if oneY < threshold:\n",
        "                Yvalue = int(0)\n",
        "            else:\n",
        "                Yvalue = int(1)\n",
        "            subsetX.append(oneX)\n",
        "            subsetY.append(Yvalue)\n",
        "    subsetX = np.array(subsetX)\n",
        "    subsetY = np.array(subsetY).reshape((-1,1))\n",
        "    return subsetX,subsetY"
      ]
    },
    {
      "cell_type": "code",
      "execution_count": 29,
      "metadata": {
        "id": "AwMbRjm0FLBF"
      },
      "outputs": [],
      "source": [
        "def build_model():\n",
        "    ALPHABET=4**K  # NUMBER OF DISTINCT KMERS POSSIBLE, add one if N gets mask value\n",
        "    EMBED_DIMEN = 16 # arbitrary hyperparameter\n",
        "    ADJUST_LENGTH = MAXLEN-K+1  # fixed length sequences\n",
        "    rnn = Sequential()\n",
        "    # This layer automatically converts inputs to one-hot using alphabet size.\n",
        "    embed_layer = Embedding(ALPHABET,EMBED_DIMEN,mask_zero=False);   # crashes with mask_value=True\n",
        "    # rnn1_layer = LSTM(16, return_sequences=True, input_shape=[MAXLEN,DIMEN]) \n",
        "    rnn1_layer = Bidirectional( LSTM(32, return_sequences=True) )\n",
        "    # rnn1_layer = LSTM(16, return_sequences=True) \n",
        "    # rnn2_layer = LSTM(16, return_sequences=True)\n",
        "    # Dense can handle sequence input. Is it the best thing to do?\n",
        "    dense1_layer = Dense(16,activation='sigmoid',dtype=dt)\n",
        "    dropout1_layer = Dropout(0.50)\n",
        "    output_layer = Dense(1,activation='sigmoid',dtype=dt)\n",
        "\n",
        "    rnn.add(embed_layer)\n",
        "    rnn.add(rnn1_layer)\n",
        "    #rnn.add(rnn2_layer)\n",
        "    rnn.add(dense1_layer)\n",
        "    rnn.add(dropout1_layer)\n",
        "    #rnn.add(dense2_layer)\n",
        "    rnn.add(output_layer)\n",
        "\n",
        "    bc=BinaryCrossentropy(from_logits=False)\n",
        "    print(\"COMPILE\")\n",
        "    rnn.compile(loss=bc, optimizer=\"Adam\",metrics=[\"accuracy\"])\n",
        "    return rnn"
      ]
    },
    {
      "cell_type": "code",
      "execution_count": 30,
      "metadata": {
        "colab": {
          "base_uri": "https://localhost:8080/"
        },
        "id": "clj-wufgFLBF",
        "outputId": "3113304d-657d-42a3-9bdc-966599b59c60"
      },
      "outputs": [
        {
          "output_type": "stream",
          "name": "stdout",
          "text": [
            "2022-11-21 12:55:43.335593\n",
            "COMPILE\n",
            "Model: \"sequential_2\"\n",
            "_________________________________________________________________\n",
            " Layer (type)                Output Shape              Param #   \n",
            "=================================================================\n",
            " embedding_2 (Embedding)     (None, None, 16)          1024      \n",
            "                                                                 \n",
            " bidirectional_2 (Bidirectio  (None, None, 64)         12544     \n",
            " nal)                                                            \n",
            "                                                                 \n",
            " dense_4 (Dense)             (None, None, 16)          1040      \n",
            "                                                                 \n",
            " dropout_2 (Dropout)         (None, None, 16)          0         \n",
            "                                                                 \n",
            " dense_5 (Dense)             (None, None, 1)           17        \n",
            "                                                                 \n",
            "=================================================================\n",
            "Total params: 14,625\n",
            "Trainable params: 14,625\n",
            "Non-trainable params: 0\n",
            "_________________________________________________________________\n",
            "None\n"
          ]
        }
      ],
      "source": [
        "print(datetime.now())\n",
        "model=build_model()\n",
        "print(model.summary())  # Print this only once"
      ]
    },
    {
      "cell_type": "code",
      "execution_count": 31,
      "metadata": {
        "colab": {
          "base_uri": "https://localhost:8080/"
        },
        "id": "CqO0a9evFLBG",
        "outputId": "b021d5af-9467-4ff7-d156-973b045d2feb"
      },
      "outputs": [
        {
          "output_type": "stream",
          "name": "stdout",
          "text": [
            "2022-11-21 12:55:44.391237\n"
          ]
        }
      ],
      "source": [
        "SCALING = False\n",
        "def do_cross_validation(eps):\n",
        "    cv_scores = []\n",
        "    fold=0\n",
        "    print(datetime.now())\n",
        "    print('splitting')\n",
        "    # KFold shuffles once before making the partitions\n",
        "    splitter = KFold(n_splits=FOLDS,shuffle=True,random_state=42)\n",
        "    for train_index,valid_index in splitter.split(all_genes):\n",
        "        fold += 1\n",
        "        print('Fold',fold)\n",
        "        train_genes = get_gene_subset(all_genes,train_index)\n",
        "        valid_genes = get_gene_subset(all_genes,valid_index)\n",
        "        X_train,y_train = get_X_y(train_genes,allids,allseq,labels,0)\n",
        "        X_valid,y_valid = get_X_y(valid_genes,allids,allseq,labels,0)\n",
        "\n",
        "        if SCALING:\n",
        "            print('scaling')\n",
        "            print(datetime.now())\n",
        "            scaler = StandardScaler()\n",
        "            scaler.fit(X_train)\n",
        "            X_train = scaler.transform(X_train)\n",
        "            X_valid = scaler.transform(X_valid)\n",
        "\n",
        "        print('Train sizes',X_train.shape,y_train.shape)\n",
        "        print('Valid sizes',X_valid.shape,y_valid.shape)\n",
        "        print('Train set ones/size',\n",
        "              np.count_nonzero(y_train),'/',len(y_train))\n",
        "        print('Valid set ones/size',\n",
        "              np.count_nonzero(y_valid),'/',len(y_valid))\n",
        "\n",
        "        print(\"BUILD MODEL\")\n",
        "        model=build_model()\n",
        "\n",
        "        print(\"FIT\")\n",
        "        print(datetime.now())\n",
        "        history=model.fit(X_train, y_train, # batch_size=10, default=32 works nicely\n",
        "                epochs=EPOCHS, verbose=1,  # verbose=1 for ascii art, verbose=0 for none\n",
        "                validation_data=(X_valid,y_valid) )\n",
        "\n",
        "        pd.DataFrame(history.history).plot(figsize=(8,5))\n",
        "        plt.grid(True)\n",
        "        plt.gca().set_ylim(0,1)\n",
        "        plt.show()\n",
        "\n",
        "        print(\"Compute valiation accuracy\")\n",
        "        print(datetime.now())\n",
        "        scores = model.evaluate(X_valid, y_valid, verbose=0)\n",
        "        print(\"%s: %.2f%%\" % (model.metrics_names[1], scores[1]*100))\n",
        "        print(datetime.now())\n",
        "        cv_scores.append(scores[1] * 100)\n",
        "        \n",
        "        if BREAK:\n",
        "            break\n",
        "        \n",
        "    print()\n",
        "    return cv_scores\n",
        "print(datetime.now())"
      ]
    },
    {
      "cell_type": "markdown",
      "metadata": {
        "id": "iFEy7jQYFLBG"
      },
      "source": [
        "Issues to address:\n",
        "\n",
        "Reduce dtype to int8?\n",
        "Call arguments received by layer \"sequential\" \"                 f\"(type Sequential):\n",
        "inputs=tf.Tensor(shape=(None, 4000, 4), dtype=int32)\n",
        "\n",
        "The genes were shuffled but the transcripts were not.  \n",
        "That could retard training.\n",
        "\n",
        "Loading sequence takes minutes. Save one-hot dataset to binary file. \n",
        "\n",
        "Loading sequence takes RAM. A numpy array of one-hot might require less RAM. Write a just-in-time loader.\n",
        "\n",
        "Accuracy goes down at the start of each epoch. This could mean that the data are not shuffled sufficiently."
      ]
    },
    {
      "cell_type": "code",
      "execution_count": 32,
      "metadata": {
        "colab": {
          "base_uri": "https://localhost:8080/",
          "height": 1000
        },
        "id": "XC9m0W-pFLBH",
        "outputId": "2f8654f0-2bf6-4672-d2f8-1f3f34669ca8",
        "scrolled": false
      },
      "outputs": [
        {
          "output_type": "stream",
          "name": "stdout",
          "text": [
            "2022-11-21 12:55:44.408956\n",
            "2022-11-21 12:55:44.410956\n",
            "splitting\n",
            "Fold 1\n",
            "Train sizes (6777, 3998) (6777, 1)\n",
            "Valid sizes (1787, 3998) (1787, 1)\n",
            "Train set ones/size 2754 / 6777\n",
            "Valid set ones/size 765 / 1787\n",
            "BUILD MODEL\n",
            "COMPILE\n",
            "FIT\n",
            "2022-11-21 12:55:46.690537\n",
            "Epoch 1/10\n",
            "212/212 [==============================] - 51s 227ms/step - loss: 0.6877 - accuracy: 0.5774 - val_loss: 0.6845 - val_accuracy: 0.5719\n",
            "Epoch 2/10\n",
            "212/212 [==============================] - 47s 220ms/step - loss: 0.6774 - accuracy: 0.5934 - val_loss: 0.6840 - val_accuracy: 0.5719\n",
            "Epoch 3/10\n",
            "212/212 [==============================] - 47s 220ms/step - loss: 0.6774 - accuracy: 0.5936 - val_loss: 0.6828 - val_accuracy: 0.5719\n",
            "Epoch 4/10\n",
            "212/212 [==============================] - 47s 222ms/step - loss: 0.6767 - accuracy: 0.5936 - val_loss: 0.6816 - val_accuracy: 0.5719\n",
            "Epoch 5/10\n",
            "212/212 [==============================] - 47s 222ms/step - loss: 0.6752 - accuracy: 0.5936 - val_loss: 0.6822 - val_accuracy: 0.5719\n",
            "Epoch 6/10\n",
            "212/212 [==============================] - 47s 223ms/step - loss: 0.6756 - accuracy: 0.5936 - val_loss: 0.6803 - val_accuracy: 0.5719\n",
            "Epoch 7/10\n",
            "212/212 [==============================] - 46s 218ms/step - loss: 0.6743 - accuracy: 0.5936 - val_loss: 0.6802 - val_accuracy: 0.5719\n",
            "Epoch 8/10\n",
            "212/212 [==============================] - 47s 223ms/step - loss: 0.6743 - accuracy: 0.5936 - val_loss: 0.6841 - val_accuracy: 0.5719\n",
            "Epoch 9/10\n",
            "212/212 [==============================] - 47s 222ms/step - loss: 0.6762 - accuracy: 0.5936 - val_loss: 0.6844 - val_accuracy: 0.5719\n",
            "Epoch 10/10\n",
            "212/212 [==============================] - 47s 222ms/step - loss: 0.6759 - accuracy: 0.5936 - val_loss: 0.6837 - val_accuracy: 0.5719\n"
          ]
        },
        {
          "output_type": "display_data",
          "data": {
            "text/plain": [
              "<Figure size 576x360 with 1 Axes>"
            ],
            "image/png": "[encoded data removed]"
          },
          "metadata": {
            "needs_background": "light"
          }
        },
        {
          "output_type": "stream",
          "name": "stdout",
          "text": [
            "Compute valiation accuracy\n",
            "2022-11-21 13:03:40.105550\n",
            "accuracy: 57.19%\n",
            "2022-11-21 13:03:45.234300\n",
            "Fold 2\n",
            "Train sizes (6893, 3998) (6893, 1)\n",
            "Valid sizes (1671, 3998) (1671, 1)\n",
            "Train set ones/size 2899 / 6893\n",
            "Valid set ones/size 620 / 1671\n",
            "BUILD MODEL\n",
            "COMPILE\n",
            "FIT\n",
            "2022-11-21 13:03:47.536898\n",
            "Epoch 1/10\n",
            "216/216 [==============================] - 51s 219ms/step - loss: 0.6905 - accuracy: 0.5649 - val_loss: 0.6724 - val_accuracy: 0.6290\n",
            "Epoch 2/10\n",
            "216/216 [==============================] - 47s 220ms/step - loss: 0.6821 - accuracy: 0.5793 - val_loss: 0.6640 - val_accuracy: 0.6290\n",
            "Epoch 3/10\n",
            "216/216 [==============================] - 47s 219ms/step - loss: 0.6819 - accuracy: 0.5794 - val_loss: 0.6676 - val_accuracy: 0.6290\n",
            "Epoch 4/10\n",
            "216/216 [==============================] - 47s 219ms/step - loss: 0.6818 - accuracy: 0.5794 - val_loss: 0.6701 - val_accuracy: 0.6290\n",
            "Epoch 5/10\n",
            "216/216 [==============================] - 46s 214ms/step - loss: 0.6811 - accuracy: 0.5794 - val_loss: 0.6616 - val_accuracy: 0.6290\n",
            "Epoch 6/10\n",
            "216/216 [==============================] - 47s 219ms/step - loss: 0.6808 - accuracy: 0.5794 - val_loss: 0.6632 - val_accuracy: 0.6290\n",
            "Epoch 7/10\n",
            "216/216 [==============================] - 48s 222ms/step - loss: 0.6795 - accuracy: 0.5794 - val_loss: 0.6684 - val_accuracy: 0.6290\n",
            "Epoch 8/10\n",
            "216/216 [==============================] - 48s 222ms/step - loss: 0.6800 - accuracy: 0.5794 - val_loss: 0.6651 - val_accuracy: 0.6290\n",
            "Epoch 9/10\n",
            "216/216 [==============================] - 46s 215ms/step - loss: 0.6801 - accuracy: 0.5794 - val_loss: 0.6633 - val_accuracy: 0.6290\n",
            "Epoch 10/10\n",
            "216/216 [==============================] - 48s 220ms/step - loss: 0.6790 - accuracy: 0.5794 - val_loss: 0.6641 - val_accuracy: 0.6290\n"
          ]
        },
        {
          "output_type": "display_data",
          "data": {
            "text/plain": [
              "<Figure size 576x360 with 1 Axes>"
            ],
            "image/png": "[encoded data removed]"
          },
          "metadata": {
            "needs_background": "light"
          }
        },
        {
          "output_type": "stream",
          "name": "stdout",
          "text": [
            "Compute valiation accuracy\n",
            "2022-11-21 13:11:44.295229\n",
            "accuracy: 62.90%\n",
            "2022-11-21 13:11:49.107399\n",
            "Fold 3\n",
            "Train sizes (7029, 3998) (7029, 1)\n",
            "Valid sizes (1535, 3998) (1535, 1)\n",
            "Train set ones/size 2994 / 7029\n",
            "Valid set ones/size 525 / 1535\n",
            "BUILD MODEL\n",
            "COMPILE\n",
            "FIT\n",
            "2022-11-21 13:11:51.334485\n",
            "Epoch 1/10\n",
            "220/220 [==============================] - 52s 221ms/step - loss: 0.7034 - accuracy: 0.5460 - val_loss: 0.6568 - val_accuracy: 0.6580\n",
            "Epoch 2/10\n",
            "220/220 [==============================] - 48s 219ms/step - loss: 0.6840 - accuracy: 0.5730 - val_loss: 0.6577 - val_accuracy: 0.6580\n",
            "Epoch 3/10\n",
            "220/220 [==============================] - 48s 218ms/step - loss: 0.6837 - accuracy: 0.5740 - val_loss: 0.6611 - val_accuracy: 0.6580\n",
            "Epoch 4/10\n",
            "220/220 [==============================] - 47s 213ms/step - loss: 0.6832 - accuracy: 0.5740 - val_loss: 0.6580 - val_accuracy: 0.6580\n",
            "Epoch 5/10\n",
            "220/220 [==============================] - 48s 217ms/step - loss: 0.6829 - accuracy: 0.5740 - val_loss: 0.6625 - val_accuracy: 0.6580\n",
            "Epoch 6/10\n",
            "220/220 [==============================] - 48s 216ms/step - loss: 0.6828 - accuracy: 0.5740 - val_loss: 0.6581 - val_accuracy: 0.6580\n",
            "Epoch 7/10\n",
            "220/220 [==============================] - 48s 218ms/step - loss: 0.6824 - accuracy: 0.5740 - val_loss: 0.6641 - val_accuracy: 0.6580\n",
            "Epoch 8/10\n",
            "220/220 [==============================] - 47s 215ms/step - loss: 0.6825 - accuracy: 0.5740 - val_loss: 0.6631 - val_accuracy: 0.6580\n",
            "Epoch 9/10\n",
            "220/220 [==============================] - 48s 219ms/step - loss: 0.6819 - accuracy: 0.5741 - val_loss: 0.6603 - val_accuracy: 0.6580\n",
            "Epoch 10/10\n",
            "220/220 [==============================] - 48s 220ms/step - loss: 0.6811 - accuracy: 0.5740 - val_loss: 0.6554 - val_accuracy: 0.6580\n"
          ]
        },
        {
          "output_type": "display_data",
          "data": {
            "text/plain": [
              "<Figure size 576x360 with 1 Axes>"
            ],
            "image/png": "[encoded data removed]"
          },
          "metadata": {
            "needs_background": "light"
          }
        },
        {
          "output_type": "stream",
          "name": "stdout",
          "text": [
            "Compute valiation accuracy\n",
            "2022-11-21 13:19:53.140034\n",
            "accuracy: 65.80%\n",
            "2022-11-21 13:19:57.502399\n",
            "Fold 4\n",
            "Train sizes (6732, 3998) (6732, 1)\n",
            "Valid sizes (1832, 3998) (1832, 1)\n",
            "Train set ones/size 2666 / 6732\n",
            "Valid set ones/size 853 / 1832\n",
            "BUILD MODEL\n",
            "COMPILE\n",
            "FIT\n",
            "2022-11-21 13:19:59.736817\n",
            "Epoch 1/10\n",
            "211/211 [==============================] - 52s 229ms/step - loss: 0.6909 - accuracy: 0.5796 - val_loss: 0.6983 - val_accuracy: 0.5344\n",
            "Epoch 2/10\n",
            "211/211 [==============================] - 46s 220ms/step - loss: 0.6743 - accuracy: 0.6037 - val_loss: 0.6951 - val_accuracy: 0.5344\n",
            "Epoch 3/10\n",
            "211/211 [==============================] - 47s 225ms/step - loss: 0.6736 - accuracy: 0.6040 - val_loss: 0.6958 - val_accuracy: 0.5344\n",
            "Epoch 4/10\n",
            "211/211 [==============================] - 48s 226ms/step - loss: 0.6730 - accuracy: 0.6040 - val_loss: 0.6950 - val_accuracy: 0.5344\n",
            "Epoch 5/10\n",
            "211/211 [==============================] - 48s 226ms/step - loss: 0.6728 - accuracy: 0.6040 - val_loss: 0.7007 - val_accuracy: 0.5344\n",
            "Epoch 6/10\n",
            "211/211 [==============================] - 47s 222ms/step - loss: 0.6724 - accuracy: 0.6040 - val_loss: 0.6982 - val_accuracy: 0.5344\n",
            "Epoch 7/10\n",
            "211/211 [==============================] - 48s 226ms/step - loss: 0.6719 - accuracy: 0.6040 - val_loss: 0.7056 - val_accuracy: 0.5344\n",
            "Epoch 8/10\n",
            "211/211 [==============================] - 47s 225ms/step - loss: 0.6719 - accuracy: 0.6040 - val_loss: 0.6959 - val_accuracy: 0.5344\n",
            "Epoch 9/10\n",
            "211/211 [==============================] - 47s 223ms/step - loss: 0.6709 - accuracy: 0.6040 - val_loss: 0.6965 - val_accuracy: 0.5344\n",
            "Epoch 10/10\n",
            "211/211 [==============================] - 46s 219ms/step - loss: 0.6714 - accuracy: 0.6040 - val_loss: 0.6965 - val_accuracy: 0.5344\n"
          ]
        },
        {
          "output_type": "display_data",
          "data": {
            "text/plain": [
              "<Figure size 576x360 with 1 Axes>"
            ],
            "image/png": "[encoded data removed]"
          },
          "metadata": {
            "needs_background": "light"
          }
        },
        {
          "output_type": "stream",
          "name": "stdout",
          "text": [
            "Compute valiation accuracy\n",
            "2022-11-21 13:27:56.578247\n",
            "accuracy: 53.44%\n",
            "2022-11-21 13:28:01.727826\n",
            "Fold 5\n",
            "Train sizes (6825, 3998) (6825, 1)\n",
            "Valid sizes (1739, 3998) (1739, 1)\n",
            "Train set ones/size 2763 / 6825\n",
            "Valid set ones/size 756 / 1739\n",
            "BUILD MODEL\n",
            "COMPILE\n",
            "FIT\n",
            "2022-11-21 13:28:03.925016\n",
            "Epoch 1/10\n",
            "214/214 [==============================] - 51s 222ms/step - loss: 0.6928 - accuracy: 0.5797 - val_loss: 0.6853 - val_accuracy: 0.5653\n",
            "Epoch 2/10\n",
            "214/214 [==============================] - 47s 219ms/step - loss: 0.6774 - accuracy: 0.5950 - val_loss: 0.6846 - val_accuracy: 0.5653\n",
            "Epoch 3/10\n",
            "214/214 [==============================] - 47s 220ms/step - loss: 0.6765 - accuracy: 0.5951 - val_loss: 0.6850 - val_accuracy: 0.5653\n",
            "Epoch 4/10\n",
            "214/214 [==============================] - 46s 216ms/step - loss: 0.6759 - accuracy: 0.5952 - val_loss: 0.6841 - val_accuracy: 0.5653\n",
            "Epoch 5/10\n",
            "214/214 [==============================] - 47s 222ms/step - loss: 0.6753 - accuracy: 0.5951 - val_loss: 0.6829 - val_accuracy: 0.5653\n",
            "Epoch 6/10\n",
            "214/214 [==============================] - 47s 220ms/step - loss: 0.6747 - accuracy: 0.5951 - val_loss: 0.6844 - val_accuracy: 0.5653\n",
            "Epoch 7/10\n",
            "214/214 [==============================] - 47s 220ms/step - loss: 0.6749 - accuracy: 0.5952 - val_loss: 0.6844 - val_accuracy: 0.5653\n",
            "Epoch 8/10\n",
            "214/214 [==============================] - 46s 216ms/step - loss: 0.6751 - accuracy: 0.5952 - val_loss: 0.6849 - val_accuracy: 0.5653\n",
            "Epoch 9/10\n",
            "214/214 [==============================] - 47s 221ms/step - loss: 0.6743 - accuracy: 0.5952 - val_loss: 0.6818 - val_accuracy: 0.5653\n",
            "Epoch 10/10\n",
            "214/214 [==============================] - 47s 221ms/step - loss: 0.6735 - accuracy: 0.5952 - val_loss: 0.6841 - val_accuracy: 0.5653\n"
          ]
        },
        {
          "output_type": "display_data",
          "data": {
            "text/plain": [
              "<Figure size 576x360 with 1 Axes>"
            ],
            "image/png": "[encoded data removed]"
          },
          "metadata": {
            "needs_background": "light"
          }
        },
        {
          "output_type": "stream",
          "name": "stdout",
          "text": [
            "Compute valiation accuracy\n",
            "2022-11-21 13:35:58.138296\n",
            "accuracy: 56.53%\n",
            "2022-11-21 13:36:02.973783\n",
            "\n",
            "Cross validation acc mean 59.17% (+/- 4.51%)\n",
            "2022-11-21 13:36:02.975581\n"
          ]
        }
      ],
      "source": [
        "print(datetime.now())\n",
        "cv_scores = do_cross_validation(EPOCHS)    \n",
        "print(\"Cross validation acc mean %.2f%% (+/- %.2f%%)\" % (np.mean(cv_scores), np.std(cv_scores)))\n",
        "print(datetime.now())"
      ]
    },
    {
      "cell_type": "code",
      "execution_count": 32,
      "metadata": {
        "id": "riMTsEsCFLBJ"
      },
      "outputs": [],
      "source": []
    }
  ],
  "metadata": {
    "colab": {
      "provenance": []
    },
    "kernelspec": {
      "display_name": "Python 3 (ipykernel)",
      "language": "python",
      "name": "python3"
    },
    "language_info": {
      "codemirror_mode": {
        "name": "ipython",
        "version": 3
      },
      "file_extension": ".py",
      "mimetype": "text/x-python",
      "name": "python",
      "nbconvert_exporter": "python",
      "pygments_lexer": "ipython3",
      "version": "3.10.0"
    },
    "accelerator": "GPU",
    "gpuClass": "standard"
  },
  "nbformat": 4,
  "nbformat_minor": 0
}