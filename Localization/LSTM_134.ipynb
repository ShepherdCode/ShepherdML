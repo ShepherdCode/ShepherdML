{
 "cells": [
  {
   "cell_type": "markdown",
   "metadata": {
    "id": "PG-tGRnlFLA3"
   },
   "source": [
    "# LSTM\n",
    "Cell Line A549. LSTM 134. Coding 2-3K. \n",
    "\n",
    "Acc 71%, Prec 69%, Recall 68%, F1 68%."
   ]
  },
  {
   "cell_type": "code",
   "execution_count": 1,
   "metadata": {
    "colab": {
     "base_uri": "https://localhost:8080/"
    },
    "id": "0RmwUsVLFLA6",
    "outputId": "b570eaf0-f8b0-43ea-a628-ba80eb084c33"
   },
   "outputs": [
    {
     "name": "stdout",
     "output_type": "stream",
     "text": [
      "2023-01-17 17:40:54.213248\n",
      "Python 3.8.16\n",
      "sklearn 1.0.2\n"
     ]
    }
   ],
   "source": [
    "from datetime import datetime\n",
    "print(datetime.now())\n",
    "from platform import python_version\n",
    "print('Python',python_version())\n",
    "import numpy as np\n",
    "import pandas as pd\n",
    "from matplotlib import pyplot as plt \n",
    "import sklearn   # pip install --upgrade scikit-learn\n",
    "print('sklearn',sklearn.__version__)"
   ]
  },
  {
   "cell_type": "markdown",
   "metadata": {
    "id": "tUtGXPrcFLA8"
   },
   "source": [
    "We prevously used sklearn.model_selection.ShuffleSplit   \n",
    "Now we avoid it due to this note in the \n",
    "[documentation](https://scikit-learn.org/stable/modules/generated/sklearn.model_selection.ShuffleSplit.html):\n",
    "Note: contrary to other cross-validation strategies, random splits do not guarantee that all folds will be different, although this is still very likely for sizeable datasets."
   ]
  },
  {
   "cell_type": "code",
   "execution_count": 2,
   "metadata": {
    "id": "PRX-UEr8FLA8"
   },
   "outputs": [],
   "source": [
    "import tensorflow as tf\n",
    "dt='float32'\n",
    "tf.keras.backend.set_floatx('float32')\n",
    "tf.random.set_seed(42) \n",
    "\n",
    "from tensorflow import keras\n",
    "from sklearn.model_selection import KFold\n",
    "from sklearn.metrics import accuracy_score\n",
    "from sklearn.metrics import precision_score\n",
    "from sklearn.metrics import recall_score\n",
    "from sklearn.metrics import f1_score\n",
    "\n",
    "from keras.models import Sequential\n",
    "from keras.layers import Masking\n",
    "from keras.layers import Embedding\n",
    "from keras.layers import Bidirectional\n",
    "from keras.layers import LSTM\n",
    "from keras.layers import TimeDistributed\n",
    "from keras.layers import Flatten\n",
    "from keras.layers import Dense\n",
    "from keras.layers import Dropout\n",
    "from keras.losses import BinaryCrossentropy\n",
    "\n",
    "K=4\n",
    "RCI_THRESHOLD=0.0\n",
    "RCELLS=32\n",
    "DCELLS=16\n",
    "EPOCHS=3\n",
    "FOLDS=5      \n",
    "EMBED_DIMEN = 4 # arbitrary hyperparameter\n",
    "BREAK = False   # break after first fold\n",
    "MINLEN=2000\n",
    "MAXLEN=3000   "
   ]
  },
  {
   "cell_type": "code",
   "execution_count": 3,
   "metadata": {
    "colab": {
     "base_uri": "https://localhost:8080/"
    },
    "id": "OlzN9OdsFWEU",
    "outputId": "490b270b-8a15-4f03-df80-2b8462702530"
   },
   "outputs": [
    {
     "name": "stdout",
     "output_type": "stream",
     "text": [
      "Running on CoLab\n",
      "Mounted at /content/drive/\n",
      "/content/drive/My Drive/data/Localization/TrainTest/\n"
     ]
    }
   ],
   "source": [
    "try:\n",
    "    from google.colab import drive\n",
    "    IN_COLAB = True\n",
    "    print('Running on CoLab')\n",
    "    PATH='/content/drive/'\n",
    "    drive.mount(PATH)\n",
    "    DATA_DIR=PATH+'My Drive/data/Localization/TrainTest/'  # must end in \"/\"\n",
    "except:\n",
    "    IN_COLAB = False\n",
    "    DATA_DIR = 'D:/Adjeroh/Localization/TrainTest/'   # Windows\n",
    "    DATA_DIR = '/Users/jasonmiller/WVU/Localization/TrainTest/'    # Mac\n",
    "print(DATA_DIR)"
   ]
  },
  {
   "cell_type": "code",
   "execution_count": 4,
   "metadata": {
    "id": "LnkpVKdMFLA-"
   },
   "outputs": [],
   "source": [
    "GENES_FILE =    'CNRCI_coding_train_genes.csv'\n",
    "RCI_FILE =      'CNRCI_coding_train_RCI.gc42.csv'\n",
    "SEQUENCE_FILE = 'CNRCI_coding_train_transcripts.gc42.csv'\n",
    "COUNTS_FILE=    'CNRCI_coding_train_counts.K4.gc42.csv'"
   ]
  },
  {
   "cell_type": "code",
   "execution_count": 5,
   "metadata": {
    "colab": {
     "base_uri": "https://localhost:8080/"
    },
    "id": "e3p4QzQJFLA_",
    "outputId": "a744bae2-938d-41a5-a11f-4e05070c5a45"
   },
   "outputs": [
    {
     "name": "stdout",
     "output_type": "stream",
     "text": [
      "Use only this cell line A549\n"
     ]
    }
   ],
   "source": [
    "def get_ordered_list():\n",
    "    ordered_list = \\\n",
    "    ['A549',\\\n",
    "      'H1.hESC',\\\n",
    "      'HeLa.S3',\\\n",
    "      'HepG2',\\\n",
    "      'HT1080',\\\n",
    "      'HUVEC',\\\n",
    "      'MCF.7',\\\n",
    "      'NCI.H460',\\\n",
    "      'NHEK',\\\n",
    "      'SK.MEL.5',\\\n",
    "      'SK.N.DZ',\\\n",
    "      'SK.N.SH',\\\n",
    "      'GM12878',\\\n",
    "      'K562',\\\n",
    "      'IMR.90']\n",
    "    return ordered_list\n",
    "all_cell_lines = get_ordered_list()\n",
    "CELL_LINE = 0\n",
    "print('Use only this cell line',all_cell_lines[CELL_LINE])"
   ]
  },
  {
   "cell_type": "markdown",
   "metadata": {
    "id": "UtqdpJOxFLBA"
   },
   "source": [
    "## Data Load"
   ]
  },
  {
   "cell_type": "code",
   "execution_count": 6,
   "metadata": {
    "colab": {
     "base_uri": "https://localhost:8080/"
    },
    "id": "p35ehKV3Kq0z",
    "outputId": "fa04379f-85b6-413b-b572-7f44406af20e"
   },
   "outputs": [
    {
     "name": "stdout",
     "output_type": "stream",
     "text": [
      "[1, 1]\n",
      "[20, 16]\n",
      "[63, 57]\n",
      "[64, 0]\n",
      "0\n",
      "1\n"
     ]
    }
   ],
   "source": [
    "class DataLoader():\n",
    "    def __init__(self):\n",
    "        self.cache=dict() \n",
    "        self.vals = {'A':0, 'C':1, 'G':2, 'T':3}\n",
    "        \n",
    "    def load_gene_rci_values(self,filepath,cell_line):\n",
    "        '''\n",
    "        Load from RCI csv file.\n",
    "        Return dict with keys=gene:str and values=RCI:float.\n",
    "        '''\n",
    "        gene_to_rci = {}\n",
    "        overall_sum = 0\n",
    "        overall_count = 0\n",
    "        with open (filepath,'r') as handle:\n",
    "            header = None\n",
    "            for row in handle:\n",
    "                if header is None:\n",
    "                    header = row # skip file's header line\n",
    "                else:\n",
    "                    line = row.strip()\n",
    "                    fields = line.split(',')\n",
    "                    gene_id = fields.pop(0)\n",
    "                    rci_str = fields[cell_line+1]\n",
    "                    if rci_str != \"nan\":\n",
    "                        # Convert string nan to float(nan)\n",
    "                        rci_val = float(rci_str)\n",
    "                        gene_to_rci[gene_id] = rci_val\n",
    "                        overall_sum += rci_val\n",
    "                        overall_count += 1\n",
    "        overall_mean = overall_sum / overall_count\n",
    "        print('Number of RCI values',overall_count)\n",
    "        print('Mean RCI value',overall_mean)\n",
    "        return gene_to_rci\n",
    "    \n",
    "    def seq_to_kmer_values(self,rna,K):\n",
    "        # The cache may represent more than one K. Probably not a problem.\n",
    "        N_indicator = 0 # indicator value\n",
    "        vec=[] # seq converted to list of K-mers \n",
    "        length = len(rna)\n",
    "        for i in range(length-K+1):\n",
    "            kmer = rna[i:i+K]\n",
    "            if 'N' in kmer:\n",
    "                value = N_indicator\n",
    "            elif kmer in self.cache.keys():\n",
    "                value = self.cache[kmer]\n",
    "            else:\n",
    "                value = 0\n",
    "                for j in range(K):\n",
    "                    value *= 4   \n",
    "                    nextnuc = kmer[j] \n",
    "                    nucval = self.vals[nextnuc]\n",
    "                    value += nucval\n",
    "                value += 1   # NNN => 0, AAA => 1\n",
    "                self.cache[kmer] = value\n",
    "            vec.append(value)\n",
    "        return vec\n",
    "\n",
    "    def rci_to_label(self,rci):\n",
    "        CYTO_LABEL = 1\n",
    "        NUCLEAR_LABEL = 0\n",
    "        # cnrci = log (cyto-to-nuclear ratio)\n",
    "        # rci > 0 implies cytoplasmic\n",
    "        if rci > RCI_THRESHOLD:\n",
    "            return CYTO_LABEL\n",
    "        return NUCLEAR_LABEL\n",
    "\n",
    "    def load_sequence(self,filepath):\n",
    "        labels=[]\n",
    "        allids=[]\n",
    "        allseq=[]\n",
    "        NREPEAT = str('N'*MAXLEN)\n",
    "        with open (filepath,'r') as handle:\n",
    "            header = None\n",
    "            for row in handle:\n",
    "                if header is None:\n",
    "                    header = row\n",
    "                else:\n",
    "                    line    = row.strip()\n",
    "                    fields  = line.split(',')\n",
    "                    tran_id = fields[0]  # with version number\n",
    "                    gene_id = fields[1]        # without version number\n",
    "                    seq_len = int(fields[3])\n",
    "                    seq_txt = fields[4]\n",
    "                    if seq_len>=MINLEN and seq_len<=MAXLEN and gene_id in gene_to_rci.keys():\n",
    "                        allids.append( (gene_id,tran_id) )\n",
    "                        rci_val = gene_to_rci[gene_id]\n",
    "                        rci_label = self.rci_to_label(rci_val)\n",
    "                        labels.append(rci_label)\n",
    "                        if seq_len<MAXLEN:\n",
    "                            seq_txt = seq_txt + NREPEAT\n",
    "                            seq_txt = seq_txt[:MAXLEN]\n",
    "                        hot_vec = self.seq_to_kmer_values(seq_txt,K)\n",
    "                        allseq.append(hot_vec)\n",
    "        return labels,allids,allseq\n",
    "    \n",
    "loader = DataLoader()\n",
    "# test it\n",
    "print(loader.seq_to_kmer_values('AAAA',3))\n",
    "print(loader.seq_to_kmer_values('CATT',3))\n",
    "print(loader.seq_to_kmer_values('TTGA',3))\n",
    "print(loader.seq_to_kmer_values('TTTN',3))\n",
    "# test it\n",
    "print(loader.rci_to_label(-0.9))\n",
    "print(loader.rci_to_label(1.1))"
   ]
  },
  {
   "cell_type": "code",
   "execution_count": 7,
   "metadata": {
    "colab": {
     "base_uri": "https://localhost:8080/"
    },
    "id": "cYoYDc93FLBB",
    "outputId": "d294084d-c5d8-4469-e160-858698a16a01"
   },
   "outputs": [
    {
     "name": "stdout",
     "output_type": "stream",
     "text": [
      "2023-01-17 17:41:22.369185\n",
      "Load RCI values...\n",
      "Number of RCI values 13000\n",
      "Mean RCI value -0.036765961332307674\n",
      "Num RCI: 13000\n",
      "Example RCI: [('ENSG00000000003', 1.85734), ('ENSG00000000005', 5.88264), ('ENSG00000000419', 2.58954)]\n",
      "Load genes...\n",
      "2023-01-17 17:41:23.282322\n",
      "Load sequence...\n",
      "2023-01-17 17:41:36.390419\n",
      "Num IDs: 11162\n",
      "Example IDs: [('ENSG00000078808', 'ENST00000263741.12'), ('ENSG00000224051', 'ENST00000343938.9'), ('ENSG00000197530', 'ENST00000378712.5'), ('ENSG00000008128', 'ENST00000356200.7')]\n",
      "Count 5073 ones out of 11162 labels.\n",
      "Num labels: 11162\n",
      "Example labels: [0, 1, 0, 0]\n",
      "Num sequences: 11162\n",
      "Example sequence: [160, 126, 247, 219, 107, 172, 176, 191, 251, 236, 175, 188, 238, 181, 212, 79, 59, 234, 165, 147, 74, 40, 159, 122, 231, 155, 107, 171, 169, 163, 138, 38, 151, 90, 101, 145, 67, 9, 35, 139, 42, 167, 154, 102, 152, 95, 123, 234, 167, 155, 105, 163, 138, 40, 159, 121, 226, 135, 27, 108, 175, 187, 233, 162, 135, 25, 99, 140, 48, 190, 246, 216, 93, 115, 202, 40, 160, 126, 247, 219, 107, 170, 168, 160, 128, 255, 249, 226, 136, 30, 118, 215, 89, 99, 140, 46, 182, 215, 89, 97, 132, 14, 54, 215, 89, 99, 140, 46, 182, 215, 89, 97, 129, 1, 4, 16, 62, 248, 222, 118, 213, 82, 69, 17, 67, 10, 39, 155, 105, 163, 137, 34, 133, 18, 71, 27, 107, 169, 161, 131, 10, 37, 146, 71, 26, 103, 153, 99, 139, 42, 168, 159, 122, 230, 150, 87, 91, 105, 163, 140, 46, 182, 215, 91, 105, 164, 141, 49, 195, 10, 38, 151, 91, 107, 170, 167, 155, 107, 169, 163, 138, 38, 150, 86, 88, 94, 119, 219, 106, 166, 149, 83, 74, 38, 151, 91, 106, 167, 156, 109, 177, 193, 3, 11, 42, 166, 151, 92, 111, 186, 230, 152, 94, 120, 223, 121, 227, 138, 37, 146, 69, 17, 65, 3, 9, 34, 134, 21, 83, 74, 40, 158, 120, 222, 120, 222, 119, 219, 106, 168, 159, 121, 225, 131, 11, 41, 162, 133, 19, 73, 35, 137, 34, 134, 22, 86, 87, 89, 99, 140, 48, 190, 248, 221, 114, 197, 17, 67, 12, 48, 190, 246, 216, 95, 122, 229, 147, 75, 41, 163, 137, 33, 132, 15, 57, 226, 134, 21, 83, 73, 35, 138, 38, 152, 95, 122, 232, 157, 113, 193, 2, 8, 32, 126, 245, 211, 74, 39, 153, 98, 136, 30, 119, 219, 105, 162, 133, 19, 74, 40, 158, 120, 223, 121, 227, 139, 41, 163, 139, 41, 161, 131, 9, 35, 139, 43, 171, 170, 166, 151, 92, 112, 190, 246, 213, 82, 72, 30, 118, 214, 88, 95, 122, 230, 149, 83, 73, 36, 143, 60, 239, 186, 232, 159, 123, 233, 163, 139, 41, 161, 131, 10, 38, 149, 83, 76, 47, 185, 227, 139, 41, 163, 139, 41, 163, 139, 41, 164, 143, 59, 233, 163, 138, 39, 155, 105, 163, 139, 41, 161, 131, 11, 41, 163, 137, 33, 131, 9, 36, 143, 59, 235, 171, 169, 162, 133, 19, 73, 35, 140, 46, 182, 214, 86, 85, 83, 73, 35, 139, 43, 170, 168, 159, 121, 225, 131, 11, 43, 171, 169, 161, 131, 9, 33, 131, 9, 33, 132, 16, 62, 248, 223, 124, 240, 190, 246, 216, 95, 124, 239, 185, 226, 134, 23, 92, 110, 183, 218, 102, 149, 84, 79, 59, 236, 176, 191, 249, 227, 137, 35, 137, 36, 143, 59, 233, 161, 131, 10, 37, 147, 75, 42, 165, 147, 74, 37, 145, 65, 3, 10, 37, 145, 66, 7, 26, 102, 152, 94, 117, 210, 72, 30, 118, 213, 81, 65, 3, 10, 40, 159, 124, 240, 190, 246, 213, 84, 79, 57, 225, 131, 12, 47, 187, 236, 173, 178, 197, 19, 75, 42, 167, 156, 112, 190, 246, 215, 89, 99, 138, 37, 147, 74, 40, 159, 124, 239, 187, 234, 166, 149, 82, 70, 21, 82, 70, 22, 87, 89, 99, 139, 43, 171, 169, 162, 134, 21, 83, 75, 41, 161, 129, 3, 12, 47, 186, 232, 159, 121, 227, 139, 42, 166, 149, 81, 66, 5, 17, 65, 4, 16, 62, 246, 213, 83, 75, 44, 174, 181, 210, 71, 27, 105, 162, 133, 19, 76, 47, 186, 232, 159, 122, 229, 148, 80, 62, 245, 209, 68, 15, 58, 232, 158, 120, 223, 123, 236, 176, 189, 242, 198, 24, 96, 126, 248, 223, 122, 229, 148, 78, 53, 211, 73, 35, 137, 34, 134, 24, 94, 117, 212, 80, 63, 251, 234, 168, 159, 124, 238, 184, 222, 118, 213, 83, 73, 33, 131, 10, 40, 159, 122, 232, 159, 124, 240, 192, 255, 251, 233, 161, 129, 3, 11, 44, 175, 187, 234, 165, 145, 65, 3, 11, 41, 164, 141, 51, 202, 37, 147, 74, 37, 147, 75, 41, 164, 143, 58, 232, 159, 122, 229, 147, 74, 38, 151, 92, 110, 182, 213, 83, 74, 37, 147, 74, 38, 150, 87, 90, 104, 158, 120, 223, 123, 235, 171, 171, 169, 161, 131, 10, 40, 160, 126, 247, 220, 111, 188, 239, 187, 233, 162, 133, 20, 78, 53, 209, 67, 11, 42, 168, 160, 125, 242, 198, 24, 95, 123, 235, 170, 168, 158, 119, 219, 106, 166, 149, 84, 77, 50, 197, 19, 74, 40, 159, 123, 236, 175, 188, 238, 182, 216, 95, 124, 238, 184, 223, 124, 238, 183, 219, 105, 163, 137, 34, 135, 25, 98, 135, 27, 108, 175, 188, 240, 191, 251, 234, 167, 155, 106, 166, 151, 92, 111, 186, 232, 159, 122, 231, 155, 106, 165, 146, 69, 20, 78, 53, 211, 74, 39, 156, 111, 186, 232, 159, 123, 236, 175, 186, 230, 150, 88, 95, 122, 232, 160, 126, 246, 216, 95, 121, 226, 134, 24, 96, 126, 246, 214, 86, 85, 81, 67, 10, 37, 147, 76, 47, 186, 230, 151, 90, 101, 148, 79, 58, 232, 159, 122, 232, 158, 117, 209, 67, 9, 35, 137, 33, 132, 15, 59, 236, 175, 185, 228, 142, 55, 220, 109, 180, 207, 59, 233, 163, 138, 37, 146, 72, 31, 123, 235, 171, 169, 161, 131, 9, 35, 140, 46, 184, 222, 120, 223, 122, 231, 155, 107, 172, 175, 186, 232, 159, 123, 234, 168, 160, 128, 254, 246, 216, 95, 123, 236, 174, 182, 216, 94, 117, 211, 74, 37, 147, 73, 35, 140, 46, 184, 223, 122, 230, 151, 91, 106, 165, 146, 69, 17, 67, 9, 33, 131, 11, 41, 162, 133, 18, 72, 32, 128, 254, 246, 216, 96, 127, 251, 234, 166, 150, 86, 87, 92, 110, 182, 216, 94, 117, 209, 67, 10, 37, 145, 65, 4, 15, 60, 237, 178, 197, 20, 78, 53, 210, 71, 28, 109, 180, 207, 60, 239, 185, 227, 139, 41, 161, 130, 8, 31, 122, 229, 145, 67, 12, 48, 190, 245, 210, 70, 24, 94, 119, 218, 102, 152, 95, 123, 236, 175, 186, 230, 150, 88, 94, 118, 214, 86, 88, 96, 126, 245, 212, 78, 53, 211, 76, 48, 192, 254, 245, 212, 79, 58, 229, 147, 76, 47, 187, 233, 162, 134, 24, 96, 127, 249, 226, 135, 27, 105, 163, 138, 40, 159, 122, 232, 159, 123, 234, 166, 150, 88, 95, 123, 233, 163, 138, 38, 151, 91, 107, 172, 175, 188, 239, 187, 234, 166, 152, 93, 114, 198, 21, 83, 74, 37, 146, 71, 26, 102, 152, 96, 126, 246, 216, 94, 120, 221, 114, 197, 20, 78, 54, 215, 90, 102, 149, 83, 74, 40, 158, 119, 218, 102, 149, 84, 77, 50, 197, 18, 70, 24, 95, 122, 231, 154, 101, 145, 66, 7, 26, 102, 149, 84, 79, 57, 226, 134, 21, 82, 72, 30, 119, 218, 101, 145, 67, 9, 33, 131, 11, 41, 161, 129, 2, 5, 20, 77, 50, 198, 21, 83, 76, 46, 184, 223, 124, 239, 188, 237, 178, 197, 17, 66, 8, 31, 123, 234, 165, 147, 76, 45, 180, 207, 60, 239, 186, 229, 146, 72, 31, 122, 230, 152, 94, 120, 224, 126, 246, 216, 95, 124, 239, 187, 236, 175, 186, 230, 151, 91, 107, 172, 174, 182, 216, 95, 121, 227, 138, 37, 146, 72, 31, 122, 231, 155, 107, 170, 166, 150, 86, 85, 83, 74, 39, 153, 97, 131, 10, 38, 150, 88, 94, 118, 213, 83, 74, 38, 150, 88, 96, 127, 251, 236, 174, 184, 221, 114, 198, 22, 86, 86, 88, 96, 127, 250, 230, 150, 85, 81, 67, 12, 46, 181, 212, 78, 53, 212, 80, 63, 251, 234, 168, 159, 124, 237, 180, 206, 53, 209, 67, 10, 40, 158, 117, 212, 78, 54, 214, 86, 85, 82, 72, 31, 122, 230, 150, 87, 90, 104, 160, 126, 248, 221, 114, 198, 22, 87, 90, 104, 159, 122, 231, 153, 97, 132, 15, 58, 229, 146, 72, 31, 122, 229, 148, 78, 54, 215, 92, 111, 186, 230, 150, 88, 95, 121, 226, 135, 26, 104, 159, 122, 232, 158, 120, 222, 119, 219, 107, 171, 169, 163, 138, 40, 158, 119, 219, 107, 171, 171, 170, 166, 152, 96, 126, 245, 212, 78, 54, 214, 87, 91, 108, 175, 186, 232, 159, 122, 230, 152, 96, 128, 254, 245, 212, 78, 54, 216, 95, 123, 233, 163, 137, 36, 143, 60, 240, 190, 246, 213, 83, 74, 37, 147, 75, 44, 174, 183, 217, 98, 136, 32, 126, 245, 209, 66, 5, 19, 75, 41, 161, 131, 10, 38, 149, 83, 75, 43, 170, 167, 154, 101, 148, 79, 57, 227, 138, 40, 158, 118, 213, 81, 67, 10, 38, 150, 85, 84, 78, 53, 209, 66, 8, 32, 126, 248, 222, 118, 215, 92, 111, 185, 228, 142, 54, 216, 95, 121, 225, 131, 10, 40, 159, 124, 238, 182, 213, 81, 68, 15, 60, 238, 181, 209, 66, 6, 24, 95, 122, 229, 147, 75, 41, 163, 137, 33, 131, 11, 42, 167, 156, 109, 178, 198, 23, 91, 107, 169, 162, 135, 27, 106, 166, 152, 95, 123, 236, 175, 187, 233, 163, 138, 37, 147, 74, 40, 159, 124, 237, 178, 199, 25, 98, 134, 24, 94, 117, 210, 70, 22, 88, 95, 123, 233, 163, 140, 45, 178, 198, 24, 95, 122, 229, 146, 69, 19, 74, 38, 149, 83, 75, 42, 165, 146, 69, 18, 72, 31, 122, 229, 148, 78, 55, 219, 106, 168, 160, 126, 246, 214, 87, 91, 105, 163, 138, 40, 159, 123, 236, 175, 186, 232, 159, 122, 230, 152, 95, 124, 239, 187, 236, 174, 182, 216, 95, 122, 229, 147, 74, 40, 159, 121, 225, 131, 12, 46, 183, 220, 112, 190, 246, 216, 94, 118, 215, 91, 107, 169, 163, 140, 47, 186, 229, 145, 67, 11, 44, 175, 187, 234, 166, 149, 81, 66, 8, 29, 114, 200, 31, 122, 230, 151, 91, 106, 165, 147, 75, 44, 175, 186, 229, 147, 74, 37, 147, 74, 40, 159, 122, 232, 160, 127, 251, 235, 169, 161, 131, 11, 44, 176, 190, 245, 211, 75, 41, 163, 137, 33, 130, 8, 30, 119, 219, 106, 165, 148, 77, 50, 197, 20, 78, 56, 223, 122, 229, 147, 74, 38, 151, 90, 102, 151, 90, 102, 149, 83, 73, 35, 139, 43, 172, 176, 192, 254, 246, 216, 96, 126, 247, 219, 106, 167, 156, 110, 184, 222, 120, 223, 121, 227, 138, 37, 147, 74, 37, 147, 75, 42, 165, 147, 76, 47, 187, 233, 161, 131, 10, 38, 152, 95, 123, 235, 169, 163, 137, 33, 131, 10, 40, 159, 121, 226, 134, 22, 87, 91, 107, 169, 161, 131, 9, 35, 139, 43, 171, 169, 162, 133, 18, 70, 22, 86, 88, 95, 121, 226, 134, 24, 96, 127, 252, 237, 178, 200, 29, 114, 197, 19, 74, 38, 149, 82, 72, 31, 123, 234, 167, 154, 101, 145, 67, 10, 40, 159, 122, 231, 156, 111, 185, 226, 134, 23, 91, 107, 169, 163, 137, 36, 142, 54, 213, 83, 74, 40, 159, 123, 233, 163, 137, 36, 142, 53, 211, 76, 47, 187, 234, 165, 145, 65, 3, 9, 35, 138, 39, 155, 106, 168, 159, 123, 233, 161, 131, 9, 34, 134, 24, 95, 121, 225, 130, 8, 32, 126, 246, 214, 88, 95, 121, 227, 137, 36, 142, 53, 209, 65, 2, 7, 25, 97, 131, 11, 41, 161, 131, 9, 36, 143, 59, 234, 168, 159, 121, 226, 133, 19, 75, 41, 161, 131, 11, 41, 164, 143, 57, 227, 139, 41, 162, 133, 19, 75, 41, 161, 131, 10, 37, 145, 68, 16, 64, 253, 241, 193, 3, 9, 34, 134, 24, 94, 120, 224, 128, 255, 249, 226, 134, 24, 95, 121, 225, 130, 5, 19, 74, 40, 158, 120, 223, 121, 225, 131, 9, 35, 139, 41, 162, 135, 25, 98, 133, 18, 70, 23, 89, 99, 139, 43, 169, 164, 144, 62, 248, 222, 119, 219, 105, 163, 137, 35, 137, 35, 139, 43, 169, 164, 141, 50, 200, 31, 121, 227, 139, 42, 166, 150, 86, 88, 95, 121, 227, 138, 37, 146, 72, 30, 119, 219, 106, 165, 148, 79, 59, 235, 171, 172, 175, 187, 233, 161, 131, 9, 34, 135, 25, 100, 143, 57, 225, 131, 9, 35, 139, 41, 162, 135, 25, 99, 139, 41, 163, 139, 41, 163, 139, 43, 170, 167, 153, 99, 139, 41, 163, 139, 41, 162, 133, 19, 74, 37, 147, 74, 37, 145, 66, 8, 30, 119, 219, 105, 163, 139, 41, 164, 143, 59, 233, 163, 137, 34, 134, 22, 85, 83, 73, 34, 135, 26, 101, 147, 73, 35, 139, 42, 167, 155, 107, 171, 170, 168, 159, 123, 234, 166, 150, 86, 88, 95, 123, 235, 171, 169, 163, 138, 40, 159, 122, 229, 147, 74, 37, 147, 74, 40, 159, 123, 234, 166, 150, 85, 83, 75, 43, 171, 170, 166, 151, 91, 105, 163, 139, 41, 162, 135, 25, 99, 138, 40, 159, 123, 233, 163, 139, 41, 164, 142, 56, 223, 122, 229, 147, 74, 40, 158, 120, 222, 117, 211, 73, 35, 139, 41, 162, 135, 25, 98, 136, 31, 121, 227, 139, 42, 165, 147, 74, 38, 150, 85, 84, 78, 56, 223, 123, 235, 171, 171, 171, 170, 166, 152, 95, 124, 237, 179, 203, 43, 171, 170, 168, 159, 122, 230, 151, 91, 107, 170, 168, 159, 123, 236, 175, 187, 234, 166, 149, 83, 76, 47, 188, 240, 192, 254, 246, 213, 82, 70, 24, 94, 118, 214, 88, 95, 123, 234, 165, 147, 76, 46, 181, 211, 75, 42, 166, 152, 93, 115, 201, 35, 139, 42, 168, 159, 123, 234, 167, 156, 110, 184, 223, 124, 239, 186, 229, 147, 76, 48, 191, 251, 235, 171, 171, 169, 163, 139, 42, 165, 147, 76, 45, 179, 201, 34, 133, 18, 71, 27, 107, 169, 162, 133, 19, 75, 42, 168, 160, 128, 253, 244, 208, 61, 244, 208, 64, 253, 244, 208, 64, 256, 256, 254, 245, 211, 74, 37, 148, 79, 57, 225, 129, 3, 9, 34, 134, 21, 81, 65, 2, 7, 28, 109, 180, 206, 55, 217, 99, 137, 35, 138, 40, 159, 123, 235, 170, 168, 159, 123, 235, 170, 168, 159, 123, 235, 170, 168, 159, 123, 236, 175, 188, 239, 187, 234, 168, 159, 122, 232, 159, 121, 225, 131, 10, 38, 150, 86, 85, 82, 69, 19, 74, 40, 159, 124, 239, 187, 235, 170, 168, 159, 122, 232, 159, 121, 225, 131, 12, 46, 181, 211, 74, 40, 158, 118, 215, 90, 103, 155, 107, 171, 171, 169, 163, 138, 40, 159, 121, 226, 134, 22, 88, 95, 121, 226, 135, 28, 110, 181, 211, 74, 37, 147, 73, 34, 134, 23, 89, 99, 137, 34, 134, 21, 83, 76, 46, 182, 214, 85, 83, 76, 48, 190, 246, 213, 83, 75, 43, 171, 171, 169, 163, 139, 42, 166, 152, 95, 122, 229, 147, 75, 42, 166, 150, 86, 88, 95, 123, 234, 166, 150, 86, 88, 96, 126, 246, 213, 82, 70, 21, 82, 70, 24, 94, 120, 223, 122, 230, 150, 88, 94, 118, 215, 92, 110, 184, 223, 122, 229, 147, 73, 34, 134, 24, 94, 119, 220, 110, 182, 213, 84, 78, 56, 223, 122, 229, 146, 70, 21, 83, 75, 42, 168, 158, 120, 223, 122, 230, 152, 96, 126, 245, 210, 72, 30, 118, 214, 86, 86, 85, 81, 67, 12, 46, 184, 224, 128, 255, 249, 225, 129, 1, 4, 16, 64, 255, 252, 240, 190, 246, 216, 96, 128, 254, 246, 216, 96, 128, 255, 249, 225, 131, 12, 46, 181, 210, 69, 20, 80, 64, 256, 254, 248, 224, 128, 256, 253, 241, 193, 1, 4, 16, 64, 256, 256, 256, 255, 252, 240, 192, 256, 255, 250, 229, 148, 78, 54, 215, 89, 97, 129, 2, 6, 23, 89, 97, 129, 3, 9, 33, 129, 4, 13, 49, 193, 3, 10, 39, 155, 108, 175, 187, 235, 169, 163, 139, 42, 165, 147, 75, 43, 170, 166, 149, 84, 80, 63, 252, 239, 188, 240, 191, 249, 0, 0, 0, 0, 0, 0, 0, 0, 0, 0, 0, 0, 0, 0, 0, 0, 0, 0, 0, 0, 0, 0, 0, 0, 0, 0, 0, 0, 0, 0, 0, 0, 0, 0, 0, 0, 0, 0, 0, 0, 0, 0, 0, 0, 0, 0, 0, 0, 0, 0, 0, 0, 0, 0, 0, 0, 0, 0, 0, 0, 0, 0, 0, 0, 0, 0, 0, 0, 0, 0, 0, 0, 0, 0, 0, 0, 0, 0, 0, 0, 0, 0, 0, 0, 0, 0, 0, 0, 0, 0, 0, 0, 0, 0, 0, 0, 0, 0, 0, 0, 0, 0, 0, 0, 0, 0, 0, 0, 0, 0, 0, 0, 0, 0, 0, 0, 0, 0, 0, 0, 0, 0, 0, 0, 0, 0, 0, 0, 0, 0, 0, 0, 0, 0, 0, 0, 0, 0, 0, 0, 0, 0, 0, 0, 0, 0, 0, 0, 0, 0, 0, 0, 0, 0, 0, 0, 0, 0, 0, 0, 0, 0, 0, 0, 0, 0, 0, 0, 0, 0, 0, 0, 0, 0, 0, 0, 0, 0, 0, 0, 0, 0, 0, 0, 0, 0, 0, 0, 0, 0, 0, 0, 0, 0, 0, 0, 0, 0, 0, 0, 0, 0, 0, 0, 0, 0, 0, 0, 0, 0, 0, 0, 0, 0, 0, 0, 0, 0, 0, 0, 0, 0, 0, 0, 0, 0, 0, 0, 0, 0, 0, 0, 0, 0, 0, 0, 0, 0, 0, 0, 0, 0, 0]\n"
     ]
    }
   ],
   "source": [
    "print(datetime.now())\n",
    "print(\"Load RCI values...\")\n",
    "loader = DataLoader()\n",
    "filepath = DATA_DIR+RCI_FILE\n",
    "gene_to_rci = loader.load_gene_rci_values(filepath,CELL_LINE)\n",
    "print('Num RCI:', len(gene_to_rci.keys()))\n",
    "print('Example RCI:', list(gene_to_rci.items())[:3])\n",
    "print(\"Load genes...\")\n",
    "all_genes = list(gene_to_rci.keys())\n",
    "print(datetime.now())\n",
    "print('Load sequence...')\n",
    "filepath = DATA_DIR+SEQUENCE_FILE\n",
    "labels,allids,allseq = loader.load_sequence(filepath)\n",
    "print(datetime.now())\n",
    "print('Num IDs:',len(allids))\n",
    "print('Example IDs:',[allids[x] for x in [10, 20, 30, 40]] )\n",
    "print('Count',np.count_nonzero(labels),'ones out of',len(labels),'labels.')\n",
    "print('Num labels:',len(labels))\n",
    "print('Example labels:',[labels[x] for x in [10, 20, 30, 40]] )\n",
    "print('Num sequences:',len(allseq))\n",
    "print('Example sequence:',allseq[3])\n",
    "loader = None  # drop K-mer cache to save RAM"
   ]
  },
  {
   "cell_type": "markdown",
   "metadata": {
    "id": "VDZ6siB_Kq04"
   },
   "source": [
    "## Model"
   ]
  },
  {
   "cell_type": "code",
   "execution_count": 8,
   "metadata": {
    "id": "AwMbRjm0FLBF"
   },
   "outputs": [],
   "source": [
    "def build_model():\n",
    "    ALPHABET=4**K+1  # NUMBER OF DISTINCT KMERS POSSIBLE, add one if N gets mask value\n",
    "    ADJUST_LENGTH = MAXLEN-K+1  # fixed length sequences\n",
    "    rnn = Sequential()\n",
    "    embed_layer = Embedding(ALPHABET,EMBED_DIMEN,input_length=ADJUST_LENGTH,mask_zero=False)   \n",
    "    rnn1_layer = Bidirectional( LSTM(RCELLS, return_sequences=True) )\n",
    "    dens_layer = TimeDistributed(Dense(DCELLS))\n",
    "    flat_layer = Flatten()\n",
    "    drop_layer = Dropout(0.5) # this model will rely on specific time points not patterns\n",
    "    output_layer = Dense(1,activation='sigmoid',dtype=dt)\n",
    "\n",
    "    #rnn.add(mask_layer)\n",
    "    rnn.add(embed_layer)\n",
    "    rnn.add(rnn1_layer)\n",
    "    rnn.add(dens_layer)\n",
    "    rnn.add(flat_layer)\n",
    "    rnn.add(drop_layer)\n",
    "    rnn.add(output_layer)\n",
    "\n",
    "    bc=BinaryCrossentropy(from_logits=False)\n",
    "    print(\"COMPILE\")\n",
    "    rnn.compile(loss=bc, optimizer=\"Adam\",metrics=[\"accuracy\"])\n",
    "    return rnn"
   ]
  },
  {
   "cell_type": "code",
   "execution_count": 9,
   "metadata": {
    "colab": {
     "base_uri": "https://localhost:8080/"
    },
    "id": "clj-wufgFLBF",
    "outputId": "d1a6204e-6c5b-403a-f8a9-1b0ec79e9a14"
   },
   "outputs": [
    {
     "name": "stdout",
     "output_type": "stream",
     "text": [
      "2023-01-17 17:41:36.430270\n",
      "COMPILE\n",
      "Model: \"sequential\"\n",
      "_________________________________________________________________\n",
      " Layer (type)                Output Shape              Param #   \n",
      "=================================================================\n",
      " embedding (Embedding)       (None, 2997, 4)           1028      \n",
      "                                                                 \n",
      " bidirectional (Bidirectiona  (None, 2997, 64)         9472      \n",
      " l)                                                              \n",
      "                                                                 \n",
      " time_distributed (TimeDistr  (None, 2997, 16)         1040      \n",
      " ibuted)                                                         \n",
      "                                                                 \n",
      " flatten (Flatten)           (None, 47952)             0         \n",
      "                                                                 \n",
      " dropout (Dropout)           (None, 47952)             0         \n",
      "                                                                 \n",
      " dense_1 (Dense)             (None, 1)                 47953     \n",
      "                                                                 \n",
      "=================================================================\n",
      "Total params: 59,493\n",
      "Trainable params: 59,493\n",
      "Non-trainable params: 0\n",
      "_________________________________________________________________\n",
      "None\n"
     ]
    }
   ],
   "source": [
    "print(datetime.now())\n",
    "model=build_model()\n",
    "print(model.summary())  # Print this only once"
   ]
  },
  {
   "cell_type": "markdown",
   "metadata": {
    "id": "MgrC1alOKq07"
   },
   "source": [
    "## Training"
   ]
  },
  {
   "cell_type": "code",
   "execution_count": 10,
   "metadata": {
    "id": "W9xiFzNbFLBE"
   },
   "outputs": [],
   "source": [
    "class CrossValidator():\n",
    "    def __init__(self,epochs,folds,quick_test=False,threshold=0.5):\n",
    "        self.epochs = epochs\n",
    "        self.folds = folds\n",
    "        self.quick_test = quick_test\n",
    "        self.threshold = threshold\n",
    "    \n",
    "    def get_gene_subset(self,all_genes,sub_index):\n",
    "        sub_genes = set()\n",
    "        for index in sub_index:\n",
    "            one_gene = all_genes[index]\n",
    "            sub_genes.add(one_gene)\n",
    "        return sub_genes\n",
    "    \n",
    "    def get_X_y(self,gene_set,allids,allX,allY):\n",
    "        cnt = len(allids)\n",
    "        subsetX=[]\n",
    "        subsetY=[]\n",
    "        if cnt != len(allX) or cnt!= len(allY):\n",
    "            raise Exception('Lengths differ')\n",
    "        for i in range(cnt):\n",
    "            gene_id,tran_id = allids[i]\n",
    "            if gene_id in gene_set:\n",
    "                oneX = allX[i]\n",
    "                oneY = allY[i]\n",
    "                subsetX.append(oneX)\n",
    "                subsetY.append(oneY)\n",
    "        subsetX = np.array(subsetX)\n",
    "        subsetY = np.array(subsetY).reshape((-1,1))\n",
    "        return subsetX,subsetY\n",
    "    \n",
    "    def do_cross_validation(self):\n",
    "        cv_accuracy=[]\n",
    "        cv_precision=[]\n",
    "        cv_recall=[]\n",
    "        cv_f1=[]\n",
    "        fold=0\n",
    "        print(datetime.now())\n",
    "        print('splitting')\n",
    "        # KFold shuffles once before making the partitions\n",
    "        splitter = KFold(n_splits=self.folds,shuffle=True,random_state=42)\n",
    "        for train_index,valid_index in splitter.split(all_genes):\n",
    "            fold += 1\n",
    "            print('Fold',fold)\n",
    "            train_genes = self.get_gene_subset(all_genes,train_index)\n",
    "            valid_genes = self.get_gene_subset(all_genes,valid_index)\n",
    "            X_train,y_train = self.get_X_y(train_genes,allids,allseq,labels)\n",
    "            X_valid,y_valid = self.get_X_y(valid_genes,allids,allseq,labels)\n",
    "\n",
    "            print('Training example')\n",
    "            print(X_train[0])\n",
    "\n",
    "            print('Train sizes',X_train.shape,y_train.shape)\n",
    "            print('Valid sizes',X_valid.shape,y_valid.shape)\n",
    "            print('Train set ones/size',\n",
    "                  np.count_nonzero(y_train),'/',len(y_train))\n",
    "            print('Valid set ones/size',\n",
    "                  np.count_nonzero(y_valid),'/',len(y_valid))\n",
    "\n",
    "            print(\"BUILD MODEL\")\n",
    "            model=build_model()\n",
    "\n",
    "            print(\"FIT\")\n",
    "            print(datetime.now())\n",
    "            history=model.fit(X_train, y_train, # batch_size=10, default=32 works nicely\n",
    "                    epochs=self.epochs, verbose=1,  # verbose=1 for ascii art, verbose=0 for none\n",
    "                    validation_data=(X_valid,y_valid) )\n",
    "\n",
    "            pd.DataFrame(history.history).plot(figsize=(8,5))\n",
    "            plt.grid(True)\n",
    "            plt.gca().set_ylim(0,1)\n",
    "            plt.show()\n",
    "\n",
    "            print(\"Compute valiation accuracy\")\n",
    "            print(datetime.now())\n",
    "            yhat_pred=model.predict(X_valid, verbose=0) \n",
    "            print('Range of scores:',np.min(yhat_pred),'to',np.max(yhat_pred))\n",
    "            yhat_classes=np.where(yhat_pred > self.threshold, 1, 0)\n",
    "            print('Predicted zeros and ones',np.count_nonzero(yhat_classes==0),np.count_nonzero(yhat_classes==1))\n",
    "            # accuracy: (tp + tn) / (p + n)\n",
    "            accuracy = accuracy_score(y_valid, yhat_classes)*100.\n",
    "            # precision tp / (tp + fp)\n",
    "            precision = precision_score(y_valid, yhat_classes)*100.\n",
    "            # recall: tp / (tp + fn)\n",
    "            recall = recall_score(y_valid, yhat_classes)*100.\n",
    "            # f1: 2 tp / (2 tp + fp + fn)\n",
    "            f1 = f1_score(y_valid, yhat_classes)*100.\n",
    "            print('Accuracy: %.2f%% Precision: %.2f%% Recall: %.2f%% F1: %.2f%%' % (accuracy,precision,recall,f1)) \n",
    "            print(datetime.now())\n",
    "            cv_accuracy.append(accuracy)\n",
    "            cv_precision.append(precision)\n",
    "            cv_recall.append(recall)\n",
    "            cv_f1.append(f1)\n",
    "            if self.quick_test:   \n",
    "                print('Break -- this was for code testing only')\n",
    "                break\n",
    "        print()\n",
    "        return cv_accuracy, cv_precision, cv_recall, cv_f1"
   ]
  },
  {
   "cell_type": "code",
   "execution_count": 11,
   "metadata": {
    "colab": {
     "base_uri": "https://localhost:8080/",
     "height": 1000
    },
    "id": "XC9m0W-pFLBH",
    "outputId": "a83816c6-574e-45c5-f2d1-3998f483a61e",
    "scrolled": false
   },
   "outputs": [
    {
     "name": "stdout",
     "output_type": "stream",
     "text": [
      "2023-01-17 17:41:39.590684\n",
      "2023-01-17 17:41:39.591263\n",
      "splitting\n",
      "Fold 1\n",
      "Training example\n",
      "[147  73  35 ...   0   0   0]\n",
      "Train sizes (8855, 2997) (8855, 1)\n",
      "Valid sizes (2307, 2997) (2307, 1)\n",
      "Train set ones/size 4006 / 8855\n",
      "Valid set ones/size 1067 / 2307\n",
      "BUILD MODEL\n",
      "COMPILE\n",
      "FIT\n",
      "2023-01-17 17:41:42.010900\n",
      "Epoch 1/3\n",
      "277/277 [==============================] - 54s 168ms/step - loss: 0.5832 - accuracy: 0.7004 - val_loss: 0.5337 - val_accuracy: 0.7378\n",
      "Epoch 2/3\n",
      "277/277 [==============================] - 46s 164ms/step - loss: 0.5465 - accuracy: 0.7343 - val_loss: 0.5310 - val_accuracy: 0.7529\n",
      "Epoch 3/3\n",
      "277/277 [==============================] - 44s 160ms/step - loss: 0.5232 - accuracy: 0.7473 - val_loss: 0.5346 - val_accuracy: 0.7261\n"
     ]
    },
    {
     "data": {
      "image/png": "[encoded data removed]",
      "text/plain": [
       "<Figure size 576x360 with 1 Axes>"
      ]
     },
     "metadata": {
      "needs_background": "light"
     },
     "output_type": "display_data"
    },
    {
     "name": "stdout",
     "output_type": "stream",
     "text": [
      "Compute valiation accuracy\n",
      "2023-01-17 17:44:06.846473\n",
      "Range of scores: 0.0129486965 to 0.96999234\n",
      "Predicted zeros and ones 1388 919\n",
      "Accuracy: 72.61% Precision: 73.67% Recall: 63.45% F1: 68.18%\n",
      "2023-01-17 17:44:12.656870\n",
      "Fold 2\n",
      "Training example\n",
      "[147  73  35 ...   0   0   0]\n",
      "Train sizes (8942, 2997) (8942, 1)\n",
      "Valid sizes (2220, 2997) (2220, 1)\n",
      "Train set ones/size 4116 / 8942\n",
      "Valid set ones/size 957 / 2220\n",
      "BUILD MODEL\n",
      "COMPILE\n",
      "FIT\n",
      "2023-01-17 17:44:15.046141\n",
      "Epoch 1/3\n",
      "280/280 [==============================] - 48s 161ms/step - loss: 0.5788 - accuracy: 0.6941 - val_loss: 0.5466 - val_accuracy: 0.7477\n",
      "Epoch 2/3\n",
      "280/280 [==============================] - 44s 158ms/step - loss: 0.5337 - accuracy: 0.7446 - val_loss: 0.5666 - val_accuracy: 0.7279\n",
      "Epoch 3/3\n",
      "280/280 [==============================] - 45s 159ms/step - loss: 0.4930 - accuracy: 0.7610 - val_loss: 0.5837 - val_accuracy: 0.7306\n"
     ]
    },
    {
     "data": {
      "image/png": "[encoded data removed]",
      "text/plain": [
       "<Figure size 576x360 with 1 Axes>"
      ]
     },
     "metadata": {
      "needs_background": "light"
     },
     "output_type": "display_data"
    },
    {
     "name": "stdout",
     "output_type": "stream",
     "text": [
      "Compute valiation accuracy\n",
      "2023-01-17 17:46:32.245655\n",
      "Range of scores: 0.009830451 to 0.9901545\n",
      "Predicted zeros and ones 1237 983\n",
      "Accuracy: 73.06% Precision: 68.26% Recall: 70.11% F1: 69.18%\n",
      "2023-01-17 17:46:38.495042\n",
      "Fold 3\n",
      "Training example\n",
      "[147  73  35 ...   0   0   0]\n",
      "Train sizes (8841, 2997) (8841, 1)\n",
      "Valid sizes (2321, 2997) (2321, 1)\n",
      "Train set ones/size 4031 / 8841\n",
      "Valid set ones/size 1042 / 2321\n",
      "BUILD MODEL\n",
      "COMPILE\n",
      "FIT\n",
      "2023-01-17 17:46:40.836779\n",
      "Epoch 1/3\n",
      "277/277 [==============================] - 49s 167ms/step - loss: 0.5819 - accuracy: 0.6966 - val_loss: 0.5656 - val_accuracy: 0.7303\n",
      "Epoch 2/3\n",
      "277/277 [==============================] - 45s 161ms/step - loss: 0.5325 - accuracy: 0.7402 - val_loss: 0.5683 - val_accuracy: 0.7225\n",
      "Epoch 3/3\n",
      "277/277 [==============================] - 44s 160ms/step - loss: 0.4972 - accuracy: 0.7662 - val_loss: 0.5873 - val_accuracy: 0.7027\n"
     ]
    },
    {
     "data": {
      "image/png": "[encoded data removed]",
      "text/plain": [
       "<Figure size 576x360 with 1 Axes>"
      ]
     },
     "metadata": {
      "needs_background": "light"
     },
     "output_type": "display_data"
    },
    {
     "name": "stdout",
     "output_type": "stream",
     "text": [
      "Compute valiation accuracy\n",
      "2023-01-17 17:48:59.220517\n",
      "Range of scores: 0.016285496 to 0.9760356\n",
      "Predicted zeros and ones 1293 1028\n",
      "Accuracy: 70.27% Precision: 67.12% Recall: 66.22% F1: 66.67%\n",
      "2023-01-17 17:49:05.010611\n",
      "Fold 4\n",
      "Training example\n",
      "[147  73  35 ...   0   0   0]\n",
      "Train sizes (8999, 2997) (8999, 1)\n",
      "Valid sizes (2163, 2997) (2163, 1)\n",
      "Train set ones/size 4108 / 8999\n",
      "Valid set ones/size 965 / 2163\n",
      "BUILD MODEL\n",
      "COMPILE\n",
      "FIT\n",
      "2023-01-17 17:49:07.345646\n",
      "Epoch 1/3\n",
      "282/282 [==============================] - 49s 162ms/step - loss: 0.5798 - accuracy: 0.7024 - val_loss: 0.5677 - val_accuracy: 0.7152\n",
      "Epoch 2/3\n",
      "282/282 [==============================] - 45s 159ms/step - loss: 0.5384 - accuracy: 0.7417 - val_loss: 0.5574 - val_accuracy: 0.7175\n",
      "Epoch 3/3\n",
      "282/282 [==============================] - 46s 162ms/step - loss: 0.5216 - accuracy: 0.7508 - val_loss: 0.5853 - val_accuracy: 0.7087\n"
     ]
    },
    {
     "data": {
      "image/png": "[encoded data removed]",
      "text/plain": [
       "<Figure size 576x360 with 1 Axes>"
      ]
     },
     "metadata": {
      "needs_background": "light"
     },
     "output_type": "display_data"
    },
    {
     "name": "stdout",
     "output_type": "stream",
     "text": [
      "Compute valiation accuracy\n",
      "2023-01-17 17:51:27.368506\n",
      "Range of scores: 0.036771648 to 0.97556555\n",
      "Predicted zeros and ones 920 1243\n",
      "Accuracy: 70.87% Precision: 63.48% Recall: 81.76% F1: 71.47%\n",
      "2023-01-17 17:51:32.337364\n",
      "Fold 5\n",
      "Training example\n",
      "[160 126 247 ...   0   0   0]\n",
      "Train sizes (9011, 2997) (9011, 1)\n",
      "Valid sizes (2151, 2997) (2151, 1)\n",
      "Train set ones/size 4031 / 9011\n",
      "Valid set ones/size 1042 / 2151\n",
      "BUILD MODEL\n",
      "COMPILE\n",
      "FIT\n",
      "2023-01-17 17:51:34.654973\n",
      "Epoch 1/3\n",
      "282/282 [==============================] - 48s 161ms/step - loss: 0.5813 - accuracy: 0.6957 - val_loss: 0.5652 - val_accuracy: 0.7201\n",
      "Epoch 2/3\n",
      "282/282 [==============================] - 45s 159ms/step - loss: 0.5368 - accuracy: 0.7398 - val_loss: 0.5813 - val_accuracy: 0.6978\n",
      "Epoch 3/3\n",
      "282/282 [==============================] - 45s 159ms/step - loss: 0.5102 - accuracy: 0.7573 - val_loss: 0.5922 - val_accuracy: 0.7006\n"
     ]
    },
    {
     "data": {
      "image/png": "[encoded data removed]",
      "text/plain": [
       "<Figure size 576x360 with 1 Axes>"
      ]
     },
     "metadata": {
      "needs_background": "light"
     },
     "output_type": "display_data"
    },
    {
     "name": "stdout",
     "output_type": "stream",
     "text": [
      "Compute valiation accuracy\n",
      "2023-01-17 17:53:52.786017\n",
      "Range of scores: 0.0080056405 to 0.9716583\n",
      "Predicted zeros and ones 1329 822\n",
      "Accuracy: 70.06% Precision: 74.21% Recall: 58.54% F1: 65.45%\n",
      "2023-01-17 17:53:58.587351\n",
      "\n",
      "Cross validation 5 folds 3 epochs\n",
      " accuracy mean 71.37% +/- 1.23\n",
      " precision mean 69.35% +/- 4.07\n",
      " recall mean 68.02% +/- 7.84\n",
      " F1 mean 68.19% +/- 2.08\n",
      "2023-01-17 17:53:58.589386\n"
     ]
    }
   ],
   "source": [
    "print(datetime.now())\n",
    "cvdo = CrossValidator(EPOCHS,FOLDS,BREAK)\n",
    "cv_accuracy, cv_precision, cv_recall, cv_f1 = cvdo.do_cross_validation()   \n",
    "print(\"Cross validation %d folds %d epochs\" % (FOLDS,EPOCHS)) \n",
    "print(\" accuracy mean %.2f%% +/- %.2f\" % (np.mean(cv_accuracy), np.std(cv_accuracy)))\n",
    "print(\" precision mean %.2f%% +/- %.2f\" % (np.mean(cv_precision), np.std(cv_precision)))\n",
    "print(\" recall mean %.2f%% +/- %.2f\" % (np.mean(cv_recall), np.std(cv_recall)))\n",
    "print(\" F1 mean %.2f%% +/- %.2f\" % (np.mean(cv_f1), np.std(cv_f1)))\n",
    "print(datetime.now())"
   ]
  },
  {
   "cell_type": "code",
   "execution_count": 11,
   "metadata": {
    "id": "HkCeDg_HdQ36"
   },
   "outputs": [],
   "source": []
  }
 ],
 "metadata": {
  "accelerator": "GPU",
  "colab": {
   "provenance": []
  },
  "gpuClass": "standard",
  "kernelspec": {
   "display_name": "Python 3 (ipykernel)",
   "language": "python",
   "name": "python3"
  },
  "language_info": {
   "codemirror_mode": {
    "name": "ipython",
    "version": 3
   },
   "file_extension": ".py",
   "mimetype": "text/x-python",
   "name": "python",
   "nbconvert_exporter": "python",
   "pygments_lexer": "ipython3",
   "version": "3.10.0"
  }
 },
 "nbformat": 4,
 "nbformat_minor": 1
}
