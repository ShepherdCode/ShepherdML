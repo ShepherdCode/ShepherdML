{
 "cells": [
  {
   "cell_type": "markdown",
   "id": "4bbde4b0",
   "metadata": {},
   "source": [
    "# Distance\n",
    "Verify np.linalg.norm() gives same result faster than my distance().\n",
    "Compare my numbers to Distance 02."
   ]
  },
  {
   "cell_type": "code",
   "execution_count": 1,
   "id": "cd42e135",
   "metadata": {},
   "outputs": [
    {
     "name": "stdout",
     "output_type": "stream",
     "text": [
      "2022-10-25 13:54:08.426320\n",
      "Python 3.10.6\n",
      "sklearn 1.1.2\n"
     ]
    }
   ],
   "source": [
    "from datetime import datetime\n",
    "print(datetime.now())\n",
    "from platform import python_version\n",
    "print('Python',python_version())\n",
    "import numpy as np\n",
    "import pandas as pd\n",
    "import sklearn   # pip install --upgrade scikit-learn\n",
    "print('sklearn',sklearn.__version__)"
   ]
  },
  {
   "cell_type": "code",
   "execution_count": 2,
   "id": "f24c1b99",
   "metadata": {},
   "outputs": [
    {
     "name": "stdout",
     "output_type": "stream",
     "text": [
      "Cell line for today: 0 = A549\n"
     ]
    }
   ],
   "source": [
    "from KmerCounter import KmerCounter\n",
    "K=4\n",
    "counter=KmerCounter(K)\n",
    "VOCABULARY_SIZE = counter.get_vocabulary_size() \n",
    "from cell_lines import Cell_Lines\n",
    "CELL_LINE_NUMBER = 0\n",
    "all_cell_lines = Cell_Lines.get_ordered_list()\n",
    "cell_line_name = all_cell_lines[CELL_LINE_NUMBER]\n",
    "print('Cell line for today:',CELL_LINE_NUMBER,'=',cell_line_name)"
   ]
  },
  {
   "cell_type": "code",
   "execution_count": 3,
   "id": "1d5eea09",
   "metadata": {},
   "outputs": [],
   "source": [
    "ATLAS_DIR = 'D:/Adjeroh/Localization/LncAtlas/'\n",
    "RCI_FILE = 'CNRCI_noncoding_train_genes.csv'\n",
    "GENCODE_DIR = 'D:/Adjeroh/Localization/GenCode/'\n",
    "COUNTS_FILE='CNRCI_noncoding_train_counts.K4.csv'"
   ]
  },
  {
   "cell_type": "code",
   "execution_count": 4,
   "id": "e1717708",
   "metadata": {},
   "outputs": [
    {
     "name": "stdout",
     "output_type": "stream",
     "text": [
      "Loaded RCI values for cell line 0\n",
      "Selected 1422 values out of 4622 genes.\n",
      "Loaded 18430 gid+tid combinations.\n",
      "Loaded 18430 rows of K-mer counts.\n"
     ]
    }
   ],
   "source": [
    "from TrainValidSplit2 import Splitter2\n",
    "splitter = Splitter2()\n",
    "ATLAS_PATH = ATLAS_DIR+RCI_FILE\n",
    "gene_rci = splitter.get_gene_universe(ATLAS_PATH,CELL_LINE_NUMBER)\n",
    "COUNTS_PATH = GENCODE_DIR+COUNTS_FILE\n",
    "gid_tid,ordered_counts = splitter.load_counts_universe(COUNTS_PATH)\n",
    "splitter = None"
   ]
  },
  {
   "cell_type": "code",
   "execution_count": 5,
   "id": "f7bbf9a2",
   "metadata": {},
   "outputs": [
    {
     "name": "stdout",
     "output_type": "stream",
     "text": [
      "<class 'dict'> <class 'list'> <class 'list'>\n"
     ]
    }
   ],
   "source": [
    "print(type(gene_rci),type(gid_tid),type(ordered_counts))"
   ]
  },
  {
   "cell_type": "code",
   "execution_count": 6,
   "id": "192b709c",
   "metadata": {},
   "outputs": [],
   "source": [
    "def split_genes(pairs,t1,t2):\n",
    "    low=[]\n",
    "    middle=[]\n",
    "    high=[]\n",
    "    for (gid,rci) in pairs.items():\n",
    "        if rci<t1:\n",
    "            low.append(gid)\n",
    "        elif rci<t2:\n",
    "            middle.append(gid)\n",
    "        else:\n",
    "            high.append(gid)\n",
    "    return low,middle,high\n",
    "def split_counts(ordered_counts,ordered_ids,select_genes):\n",
    "    select_counts=[]\n",
    "    for i in range(len(ordered_ids)):\n",
    "        (gid,tid) = ordered_ids[i]\n",
    "        if gid in select_genes:\n",
    "            select_counts.append(ordered_counts[i])\n",
    "    return select_counts"
   ]
  },
  {
   "cell_type": "code",
   "execution_count": 7,
   "id": "99fc964d",
   "metadata": {},
   "outputs": [
    {
     "name": "stdout",
     "output_type": "stream",
     "text": [
      "2022-10-25 13:54:10.464319\n",
      "Genes/Transcripts Low   : 486 1631\n",
      "Genes/Transcripts Middle: 683 3714\n",
      "Genes/Transcripts High  : 253 1412\n",
      "2022-10-25 13:54:10.735621\n"
     ]
    }
   ],
   "source": [
    "print(datetime.now())\n",
    "low_genes,middle_genes,high_genes = split_genes(gene_rci,-1,1)\n",
    "low_counts    = split_counts(ordered_counts,gid_tid,low_genes)\n",
    "print('Genes/Transcripts Low   :',len(low_genes),len(low_counts))\n",
    "middle_counts = split_counts(ordered_counts,gid_tid,middle_genes)\n",
    "print('Genes/Transcripts Middle:',len(middle_genes),len(middle_counts))\n",
    "high_counts   = split_counts(ordered_counts,gid_tid,high_genes)\n",
    "print('Genes/Transcripts High  :',len(high_genes),len(high_counts))\n",
    "print(datetime.now())"
   ]
  },
  {
   "cell_type": "code",
   "execution_count": 8,
   "id": "339d52b1",
   "metadata": {},
   "outputs": [],
   "source": [
    "def length_filter(counts,minimum,maximum):\n",
    "    filtered = []\n",
    "    for count in counts:\n",
    "        tot = np.sum(count)\n",
    "        if tot>=minimum and tot<=maximum:\n",
    "            filtered.append(count)\n",
    "    return filtered"
   ]
  },
  {
   "cell_type": "code",
   "execution_count": 9,
   "id": "f8e443a5",
   "metadata": {},
   "outputs": [
    {
     "name": "stdout",
     "output_type": "stream",
     "text": [
      "2022-10-25 13:54:10.767900\n",
      "Genes/Transcripts Low   : 486 275\n",
      "Genes/Transcripts Middle: 683 681\n",
      "Genes/Transcripts High  : 253 256\n",
      "2022-10-25 13:54:10.788114\n"
     ]
    }
   ],
   "source": [
    "print(datetime.now())\n",
    "low_counts    = length_filter(low_counts,2000,4000)\n",
    "print('Genes/Transcripts Low   :',len(low_genes),len(low_counts))\n",
    "middle_counts = length_filter(middle_counts,2000,4000)\n",
    "print('Genes/Transcripts Middle:',len(middle_genes),len(middle_counts))\n",
    "high_counts   = length_filter(high_counts,2000,4000)\n",
    "print('Genes/Transcripts High  :',len(high_genes),len(high_counts))\n",
    "print(datetime.now())"
   ]
  },
  {
   "cell_type": "code",
   "execution_count": 10,
   "id": "95c3dd18",
   "metadata": {},
   "outputs": [],
   "source": [
    "def compute_average_vector(counts):\n",
    "    means = np.mean(counts,axis=0)\n",
    "    return means\n",
    "low_avg = compute_average_vector(low_counts)\n",
    "middle_avg = compute_average_vector(middle_counts)\n",
    "high_avg = compute_average_vector(high_counts)"
   ]
  },
  {
   "cell_type": "code",
   "execution_count": 11,
   "id": "9b9432d9",
   "metadata": {},
   "outputs": [],
   "source": [
    "def distance_slow(a,b):\n",
    "    ss = 0\n",
    "    dim = len(a)\n",
    "    for i in range(dim):\n",
    "        ai = a[i]\n",
    "        bi = b[i]\n",
    "        df = ai-bi\n",
    "        sq = df**2\n",
    "        ss += sq\n",
    "    return np.sqrt(ss)\n",
    "def distance(a,b):\n",
    "    # This works because the Euclidean distance is the l2 norm, and the default value of the ord parameter in numpy.linalg.norm is 2. \n",
    "    # https://stackoverflow.com/questions/1401712/how-can-the-euclidean-distance-be-calculated-with-numpy\n",
    "    return np.linalg.norm(a-b)"
   ]
  },
  {
   "cell_type": "code",
   "execution_count": 12,
   "id": "ccf08b77",
   "metadata": {},
   "outputs": [
    {
     "name": "stdout",
     "output_type": "stream",
     "text": [
      "2022-10-25 13:54:10.847475\n",
      "dist(low,middle) = 30.21686362266514\n",
      "dist(middle,high)= 21.019557692241836\n",
      "dist(low,high)   = 48.2060721825071\n",
      "2022-10-25 13:54:10.847475\n"
     ]
    }
   ],
   "source": [
    "print(datetime.now())\n",
    "print('dist(low,middle) =',distance(low_avg,middle_avg))\n",
    "print('dist(middle,high)=',distance(middle_avg,high_avg))\n",
    "print('dist(low,high)   =',distance(low_avg,high_avg))\n",
    "print(datetime.now())"
   ]
  },
  {
   "cell_type": "code",
   "execution_count": 13,
   "id": "5ec2d7ca",
   "metadata": {},
   "outputs": [],
   "source": [
    "def average_distance(data,center):\n",
    "    tot = 0\n",
    "    for counts in data:\n",
    "        dist = distance(counts,center)\n",
    "        tot += dist\n",
    "    avg = tot / len(data)\n",
    "    return avg"
   ]
  },
  {
   "cell_type": "code",
   "execution_count": 14,
   "id": "d4688cc7",
   "metadata": {},
   "outputs": [
    {
     "name": "stdout",
     "output_type": "stream",
     "text": [
      "2022-10-25 13:54:10.878720\n",
      "avg(low - avg(low))   95.374431709019\n",
      "avg(high - avg(high)) 73.78839414852989\n",
      "2022-10-25 13:54:10.878720\n"
     ]
    }
   ],
   "source": [
    "print(datetime.now())\n",
    "low_avg_dist = average_distance(low_counts,low_avg)\n",
    "print('avg(low - avg(low))  ',low_avg_dist)\n",
    "high_avg_dist = average_distance(high_counts,high_avg)\n",
    "print('avg(high - avg(high))',high_avg_dist)\n",
    "print(datetime.now())"
   ]
  },
  {
   "cell_type": "code",
   "execution_count": 15,
   "id": "171b6539",
   "metadata": {},
   "outputs": [
    {
     "name": "stdout",
     "output_type": "stream",
     "text": [
      "2022-10-25 13:54:10.894340\n",
      "avg(low - avg(high)) 104.03863246113501\n",
      "avg(high - avg(low)) 88.49741222919877\n",
      "2022-10-25 13:54:10.894340\n"
     ]
    }
   ],
   "source": [
    "print(datetime.now())\n",
    "low_high_avg_dist = average_distance(low_counts,high_avg)\n",
    "print('avg(low - avg(high))',low_high_avg_dist)\n",
    "high_low_avg_dist = average_distance(high_counts,low_avg)\n",
    "print('avg(high - avg(low))',high_low_avg_dist)\n",
    "print(datetime.now())"
   ]
  },
  {
   "cell_type": "markdown",
   "id": "a0b9355e",
   "metadata": {},
   "source": [
    "Ideas:\n",
    "\n",
    "Narrow the RNA set to just extremes, Gudenas-style.\n",
    "\n",
    "The following vectors have 256 counts.\n",
    "\n",
    "Compute the mean vector for high and for low RCI.\n",
    "\n",
    "Compute vector of presence/absence i.e. sequences with this K-mer.\n",
    "\n",
    "Compute mean & stdev distance to the mean vector.\n",
    "\n",
    "Are nuclear RNA more like the nuclear mean vector?\n",
    "\n",
    "How to estimate significance? Is the difference significant if any one K-mer count is significantly different (minus correction for repeat tests)?\n"
   ]
  },
  {
   "cell_type": "code",
   "execution_count": 16,
   "id": "d55dcb09",
   "metadata": {},
   "outputs": [
    {
     "data": {
      "text/plain": [
       "numpy.ndarray"
      ]
     },
     "execution_count": 16,
     "metadata": {},
     "output_type": "execute_result"
    }
   ],
   "source": [
    "type(high_avg)"
   ]
  },
  {
   "cell_type": "code",
   "execution_count": null,
   "id": "90e4c9f2",
   "metadata": {},
   "outputs": [],
   "source": []
  }
 ],
 "metadata": {
  "kernelspec": {
   "display_name": "Python 3 (ipykernel)",
   "language": "python",
   "name": "python3"
  },
  "language_info": {
   "codemirror_mode": {
    "name": "ipython",
    "version": 3
   },
   "file_extension": ".py",
   "mimetype": "text/x-python",
   "name": "python",
   "nbconvert_exporter": "python",
   "pygments_lexer": "ipython3",
   "version": "3.10.6"
  }
 },
 "nbformat": 4,
 "nbformat_minor": 5
}
