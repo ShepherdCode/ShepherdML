{
 "cells": [
  {
   "cell_type": "markdown",
   "metadata": {},
   "source": [
    "# MLP\n",
    "\n",
    "Coding. Use one neuron. Gudenas style test. Try all K-mers and subset of K-mers."
   ]
  },
  {
   "cell_type": "markdown",
   "metadata": {},
   "source": [
    "## Environment setup"
   ]
  },
  {
   "cell_type": "code",
   "execution_count": 1,
   "metadata": {},
   "outputs": [
    {
     "name": "stdout",
     "output_type": "stream",
     "text": [
      "2022-10-20 15:43:49.194818\n",
      "Python 3.10.0\n",
      "sklearn 1.1.2\n"
     ]
    }
   ],
   "source": [
    "from datetime import datetime\n",
    "print(datetime.now())\n",
    "from platform import python_version\n",
    "print('Python',python_version())\n",
    "import numpy as np\n",
    "import pandas as pd\n",
    "from matplotlib import pyplot as plt \n",
    "import sklearn   # pip install --upgrade scikit-learn\n",
    "print('sklearn',sklearn.__version__)"
   ]
  },
  {
   "cell_type": "code",
   "execution_count": 2,
   "metadata": {},
   "outputs": [
    {
     "name": "stdout",
     "output_type": "stream",
     "text": [
      "K= 4 alphabet size= 4 vocabulary size= 256\n"
     ]
    }
   ],
   "source": [
    "from sklearn.model_selection import ShuffleSplit\n",
    "from sklearn.model_selection import cross_val_score\n",
    "from sklearn.model_selection import RepeatedKFold\n",
    "from sklearn.model_selection import StratifiedKFold\n",
    "import tensorflow as tf\n",
    "from tensorflow import keras\n",
    "from keras.wrappers.scikit_learn import KerasRegressor\n",
    "from keras.models import Sequential\n",
    "from keras.layers import Bidirectional\n",
    "from keras.layers import Dense\n",
    "from keras.layers import LayerNormalization\n",
    "from sklearn.preprocessing import StandardScaler\n",
    "\n",
    "dt='float32'\n",
    "tf.keras.backend.set_floatx(dt)\n",
    "\n",
    "tf.random.set_seed(42) # reproducible training sessions?\n",
    "\n",
    "from KmerCounter import KmerCounter\n",
    "ALPHABET_SIZE=4\n",
    "K=4\n",
    "counter=KmerCounter(K)\n",
    "VOCABULARY_SIZE = counter.get_vocabulary_size() \n",
    "print('K=',K,'alphabet size=',ALPHABET_SIZE,'vocabulary size=',VOCABULARY_SIZE)\n",
    "from TrainValidSplit2 import Splitter2\n",
    "EPOCHS=5\n",
    "from cell_lines import Cell_Lines\n",
    "CELL_LINE_NUMBER = 0"
   ]
  },
  {
   "cell_type": "code",
   "execution_count": 3,
   "metadata": {},
   "outputs": [],
   "source": [
    "ATLAS_DIR = '/Users/jasonmiller/WVU/Localization/LncAtlas/'\n",
    "RCI_FILE = 'CNRCI_coding_train_genes.csv'\n",
    "GENCODE_DIR = '/Users/jasonmiller/WVU/Localization/GenCode/'\n",
    "COUNTS_FILE='CNRCI_coding_train_counts.K4.csv'"
   ]
  },
  {
   "cell_type": "code",
   "execution_count": 4,
   "metadata": {},
   "outputs": [
    {
     "name": "stdout",
     "output_type": "stream",
     "text": [
      "Cell line for today: 0 = A549\n"
     ]
    }
   ],
   "source": [
    "# Consider a Cell_Lines object to represent today's cell line.\n",
    "all_cell_lines = Cell_Lines.get_ordered_list()\n",
    "cell_line_name = all_cell_lines[CELL_LINE_NUMBER]\n",
    "print('Cell line for today:',CELL_LINE_NUMBER,'=',cell_line_name)"
   ]
  },
  {
   "cell_type": "markdown",
   "metadata": {},
   "source": [
    "## Model design"
   ]
  },
  {
   "cell_type": "code",
   "execution_count": 5,
   "metadata": {},
   "outputs": [],
   "source": [
    "def build_model():\n",
    "    # Here is the joke model -- one neuron!\n",
    "    mlp = keras.models.Sequential()\n",
    "    one_layer = keras.layers.Dense(1, activation='sigmoid',dtype=dt,\n",
    "                                      input_dim=VOCABULARY_SIZE)\n",
    "    mlp.add(one_layer)\n",
    "      \n",
    "    bc=tf.keras.losses.BinaryCrossentropy(from_logits=False)\n",
    "    print(\"COMPILE...\")\n",
    "    mlp.compile(loss=bc, optimizer=\"Adam\",metrics=[\"accuracy\"])\n",
    "    print(\"...COMPILED\")\n",
    "    return mlp"
   ]
  },
  {
   "cell_type": "code",
   "execution_count": 6,
   "metadata": {
    "scrolled": true
   },
   "outputs": [
    {
     "name": "stdout",
     "output_type": "stream",
     "text": [
      "2022-10-20 15:44:01.942942\n",
      "COMPILE...\n",
      "...COMPILED\n",
      "Summarize the model\n",
      "Model: \"sequential\"\n",
      "_________________________________________________________________\n",
      " Layer (type)                Output Shape              Param #   \n",
      "=================================================================\n",
      " dense (Dense)               (None, 1)                 257       \n",
      "                                                                 \n",
      "=================================================================\n",
      "Total params: 257\n",
      "Trainable params: 257\n",
      "Non-trainable params: 0\n",
      "_________________________________________________________________\n",
      "None\n"
     ]
    },
    {
     "name": "stderr",
     "output_type": "stream",
     "text": [
      "2022-10-20 15:44:01.951653: I tensorflow/core/platform/cpu_feature_guard.cc:193] This TensorFlow binary is optimized with oneAPI Deep Neural Network Library (oneDNN) to use the following CPU instructions in performance-critical operations:  AVX2 FMA\n",
      "To enable them in other operations, rebuild TensorFlow with the appropriate compiler flags.\n"
     ]
    }
   ],
   "source": [
    "# Model setup\n",
    "print(datetime.now())\n",
    "model=build_model()\n",
    "print (\"Summarize the model\")\n",
    "print(model.summary())  # Print this only once"
   ]
  },
  {
   "cell_type": "markdown",
   "metadata": {},
   "source": [
    "## Load the data"
   ]
  },
  {
   "cell_type": "code",
   "execution_count": 7,
   "metadata": {},
   "outputs": [
    {
     "name": "stdout",
     "output_type": "stream",
     "text": [
      "2022-10-20 15:44:02.127932\n",
      "Loaded values for cell line 0\n",
      "Selected 10354 values out of 13930\n",
      "2022-10-20 15:44:05.336829\n"
     ]
    }
   ],
   "source": [
    "# Data setup\n",
    "print(datetime.now())\n",
    "Kmer_counts_filepath = GENCODE_DIR+COUNTS_FILE\n",
    "atlas_filepath = ATLAS_DIR+RCI_FILE\n",
    "\n",
    "splitter=Splitter2()\n",
    "splitter.load_counts_universe(Kmer_counts_filepath)\n",
    "universe = splitter.get_gene_universe(atlas_filepath, CELL_LINE_NUMBER)\n",
    "print(datetime.now())"
   ]
  },
  {
   "cell_type": "markdown",
   "metadata": {},
   "source": [
    "## Train and validate with all K-mer counts"
   ]
  },
  {
   "cell_type": "code",
   "execution_count": 8,
   "metadata": {},
   "outputs": [
    {
     "name": "stdout",
     "output_type": "stream",
     "text": [
      "splitting\n",
      "2022-10-20 15:44:05.365870\n",
      "Train sizes 12019 12019\n",
      "Valid sizes 2795 2795\n",
      "scaling\n",
      "2022-10-20 15:44:05.522192\n",
      "Thresholds (-1.266972910885237, 1.1401767974371442)\n",
      "Train set ones/size 5469 / 12019\n",
      "Valid set ones/size 1418 / 2795\n",
      "BUILD MODEL\n",
      "COMPILE...\n",
      "...COMPILED\n",
      "FIT\n",
      "2022-10-20 15:44:05.636996\n",
      "Epoch 1/5\n",
      "376/376 [==============================] - 1s 2ms/step - loss: 0.5175 - accuracy: 0.7355\n",
      "Epoch 2/5\n",
      "376/376 [==============================] - 1s 2ms/step - loss: 0.4355 - accuracy: 0.7972\n",
      "Epoch 3/5\n",
      "376/376 [==============================] - 1s 2ms/step - loss: 0.4138 - accuracy: 0.8179\n",
      "Epoch 4/5\n",
      "376/376 [==============================] - 1s 2ms/step - loss: 0.3996 - accuracy: 0.8299\n",
      "Epoch 5/5\n",
      "376/376 [==============================] - 1s 2ms/step - loss: 0.3883 - accuracy: 0.8390\n"
     ]
    },
    {
     "data": {
      "image/png": "[encoded data removed]",
      "text/plain": [
       "<Figure size 800x500 with 1 Axes>"
      ]
     },
     "metadata": {},
     "output_type": "display_data"
    },
    {
     "name": "stdout",
     "output_type": "stream",
     "text": [
      "Compute valiation accuracy\n",
      "2022-10-20 15:44:09.999024\n",
      "accuracy: 87.98%\n",
      "2022-10-20 15:44:10.281752\n"
     ]
    }
   ],
   "source": [
    "print('splitting')\n",
    "print(datetime.now())\n",
    "data_partitions = splitter.get_train_valid_partitions(universe)\n",
    "one_partition =data_partitions[0]\n",
    "train_genes,valid_genes = one_partition[0],one_partition[1]\n",
    "thresholds = splitter.choose_thresholds(train_genes,'one_z')\n",
    "X_train,y_train,train_ids = splitter.get_X_y(train_genes, thresholds)\n",
    "X_valid,y_valid,valid_ids = splitter.get_X_y(valid_genes, thresholds)\n",
    "print('Train sizes',len(X_train),len(y_train))\n",
    "print('Valid sizes',len(X_valid),len(y_valid))\n",
    "\n",
    "print('scaling')\n",
    "print(datetime.now())\n",
    "scaler = StandardScaler()\n",
    "scaler.fit(X_train)\n",
    "X_train = scaler.transform(X_train)\n",
    "X_valid = scaler.transform(X_valid)\n",
    "\n",
    "print('Thresholds',thresholds)\n",
    "print('Train set ones/size',\n",
    "      np.count_nonzero(y_train),'/',len(y_train))\n",
    "print('Valid set ones/size',\n",
    "      np.count_nonzero(y_valid),'/',len(y_valid))\n",
    "\n",
    "print(\"BUILD MODEL\")\n",
    "model=build_model()\n",
    "\n",
    "print(\"FIT\")\n",
    "print(datetime.now())\n",
    "history=model.fit(X_train, y_train, # batch_size=10, default=32 works nicely\n",
    "        epochs=EPOCHS, verbose=1)  # verbose=1 for ascii art, verbose=0 for none\n",
    "        #validation_data=(X_valid,y_valid) )\n",
    "\n",
    "pd.DataFrame(history.history).plot(figsize=(8,5))\n",
    "plt.grid(True)\n",
    "plt.gca().set_ylim(0,1)\n",
    "plt.show()\n",
    "\n",
    "print(\"Compute valiation accuracy\")\n",
    "print(datetime.now())\n",
    "scores = model.evaluate(X_valid, y_valid, verbose=0)\n",
    "print(\"%s: %.2f%%\" % (model.metrics_names[1], scores[1]*100))\n",
    "print(datetime.now())"
   ]
  },
  {
   "cell_type": "code",
   "execution_count": 9,
   "metadata": {},
   "outputs": [
    {
     "name": "stdout",
     "output_type": "stream",
     "text": [
      "bias [-1.0112555]\n",
      "256 weights min= [-0.24146825] max= [0.23666012]\n"
     ]
    }
   ],
   "source": [
    "# https://www.tensorflow.org/guide/variable\n",
    "w=model.trainable_weights[0].numpy()  # weights\n",
    "b=model.trainable_weights[1].numpy()  # bias\n",
    "print('bias',b)\n",
    "print(len(w),'weights min=',min(w),'max=',max(w))"
   ]
  },
  {
   "cell_type": "code",
   "execution_count": 10,
   "metadata": {},
   "outputs": [],
   "source": [
    "def distance(a,b):\n",
    "    ss = 0\n",
    "    dim = len(a)\n",
    "    for i in range(dim):\n",
    "        ai = a[i]\n",
    "        bi = b[i]\n",
    "        df = ai-bi\n",
    "        sq = df**2\n",
    "        ss += sq\n",
    "    return np.sqrt(ss)"
   ]
  },
  {
   "cell_type": "code",
   "execution_count": 11,
   "metadata": {},
   "outputs": [
    {
     "data": {
      "text/plain": [
       "0.0"
      ]
     },
     "execution_count": 11,
     "metadata": {},
     "output_type": "execute_result"
    }
   ],
   "source": [
    "distance(X_train[0],X_train[0])"
   ]
  },
  {
   "cell_type": "code",
   "execution_count": 12,
   "metadata": {},
   "outputs": [
    {
     "name": "stdout",
     "output_type": "stream",
     "text": [
      "2795 12019\n"
     ]
    }
   ],
   "source": [
    "print(len(X_valid),len(X_train))\n"
   ]
  },
  {
   "cell_type": "code",
   "execution_count": 26,
   "metadata": {},
   "outputs": [
    {
     "name": "stdout",
     "output_type": "stream",
     "text": [
      "2022-10-20 17:50:14.696403\n",
      "[0, 0, 0, 0, 0]\n",
      "2022-10-20 17:57:40.868524\n",
      "299 [0, 127, 2458, 25056, 110572]\n",
      "2022-10-20 18:05:01.037764\n",
      "599 [0, 191, 5359, 52174, 239240]\n",
      "2022-10-20 18:12:38.256005\n",
      "899 [0, 410, 8337, 79308, 354437]\n",
      "2022-10-20 18:20:21.865681\n",
      "1199 [0, 465, 8615, 94337, 471771]\n",
      "1482 ('ENSG00000175279', 'ENST00000309048.8') 6443 ('ENSG00000251503', 'ENST00000602787.6')\n",
      "1483 ('ENSG00000175279', 'ENST00000462462.1') 6445 ('ENSG00000251503', 'ENST00000465026.1')\n",
      "2022-10-20 18:27:42.417009\n",
      "1499 [2, 483, 9406, 114706, 583295]\n",
      "2022-10-20 18:35:03.765030\n",
      "1799 [2, 483, 9909, 142227, 709582]\n",
      "2022-10-20 18:42:23.588229\n",
      "2099 [2, 516, 12820, 167799, 837188]\n",
      "2022-10-20 18:49:45.804818\n",
      "2399 [2, 713, 17614, 197296, 952437]\n",
      "2022-10-20 18:57:16.920572\n",
      "2699 [2, 773, 19390, 216284, 1028332]\n",
      "[2, 795, 20106, 222879, 1047969]\n",
      "2022-10-20 18:59:36.715283\n"
     ]
    }
   ],
   "source": [
    "print(datetime.now())\n",
    "valid_index=0\n",
    "COUNTS=[0,0,0,0,0]\n",
    "print(COUNTS)\n",
    "tick = 0\n",
    "tock = 300\n",
    "for valid_vec in X_valid:\n",
    "    train_index=0\n",
    "    for train_vec in X_train:\n",
    "        dist = distance(valid_vec,train_vec)\n",
    "        if dist<=4:\n",
    "            if dist<0.2:\n",
    "                print(valid_index,valid_ids[valid_index],\n",
    "                      train_index,train_ids[train_index])\n",
    "                COUNTS[0] += 1\n",
    "            elif dist<=1:\n",
    "                COUNTS[1] += 1\n",
    "            elif dist<=2:\n",
    "                COUNTS[2] += 1\n",
    "            elif dist<=3:\n",
    "                COUNTS[3] += 1\n",
    "            elif dist<=4:\n",
    "                COUNTS[4] += 1\n",
    "        train_index += 1\n",
    "    tick += 1        \n",
    "    if tick>=tock:\n",
    "        print(datetime.now())\n",
    "        print(valid_index,COUNTS)\n",
    "        tick = 0\n",
    "    valid_index += 1\n",
    "print(COUNTS)\n",
    "print(datetime.now())"
   ]
  },
  {
   "cell_type": "code",
   "execution_count": 13,
   "metadata": {},
   "outputs": [
    {
     "name": "stdout",
     "output_type": "stream",
     "text": [
      "2022-10-20 15:44:10.409497\n"
     ]
    }
   ],
   "source": [
    "print(datetime.now())"
   ]
  },
  {
   "cell_type": "markdown",
   "metadata": {},
   "source": [
    "This pair has dist<0.2\n",
    "\n",
    "Gene: CENPS ENSG00000175279 Description centromere protein S [Source:HGNC Symbol;Acc:HGNC:23163] Chromosome 1: 10,430,433-10,442,808 forward strand. GRCh38:CM000663.2\n",
    "\n",
    "Gene: CENPS-CORT ENSG00000251503DescriptionCENPS-CORT readthrough [Source:HGNC Symbol;Acc:HGNC:38843] Chromosome 1: 10,430,102-10,452,153 forward strand. GRCh38:CM000663.2\n",
    "\n",
    "It is encouraging that our distance metric found two obviously-related genes."
   ]
  },
  {
   "cell_type": "code",
   "execution_count": null,
   "metadata": {},
   "outputs": [],
   "source": []
  }
 ],
 "metadata": {
  "kernelspec": {
   "display_name": "Python 3 (ipykernel)",
   "language": "python",
   "name": "python3"
  },
  "language_info": {
   "codemirror_mode": {
    "name": "ipython",
    "version": 3
   },
   "file_extension": ".py",
   "mimetype": "text/x-python",
   "name": "python",
   "nbconvert_exporter": "python",
   "pygments_lexer": "ipython3",
   "version": "3.10.0"
  }
 },
 "nbformat": 4,
 "nbformat_minor": 2
}
