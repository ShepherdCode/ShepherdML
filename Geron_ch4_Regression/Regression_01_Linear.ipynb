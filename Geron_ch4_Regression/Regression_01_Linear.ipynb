{
 "cells": [
  {
   "cell_type": "code",
   "execution_count": 1,
   "metadata": {},
   "outputs": [],
   "source": [
    "# How to train a regression model.\n",
    "# Types of regression: linear, polynomial, logistic, softmax.\n",
    "# Hyperparameters can be estimated by gradient descent.\n",
    "\n",
    "# Start with Linear Regression.\n",
    "# Weighted sum of parameters plus bias.\n",
    "# yhat = transpose(theta) dot xvec, where theta(0)=bias and xvec(0)=1.\n",
    "# Training can mean find theta that minimizes RMSE or MSE.\n",
    "\n",
    "# In this notebook, show closed form exact solution and SVD approximation."
   ]
  },
  {
   "cell_type": "code",
   "execution_count": 2,
   "metadata": {},
   "outputs": [
    {
     "data": {
      "image/png": "[encoded data removed]",
      "text/plain": [
       "<Figure size 432x288 with 1 Axes>"
      ]
     },
     "metadata": {
      "needs_background": "light"
     },
     "output_type": "display_data"
    }
   ],
   "source": [
    "# Generate data for a known equation: y=4+3x.\n",
    "import numpy as np\n",
    "X = 2 * np.random.rand(100,1)  # 100 random numbers 0<=r<2, uniform distribtuion\n",
    "y = 4 + 3 * X\n",
    "import matplotlib.pyplot as plt\n",
    "plt.scatter(X,y,)\n",
    "plt.show()"
   ]
  },
  {
   "cell_type": "code",
   "execution_count": 3,
   "metadata": {},
   "outputs": [
    {
     "data": {
      "text/plain": [
       "(array([[0.20213329],\n",
       "        [1.6713032 ],\n",
       "        [0.32148819],\n",
       "        [1.85971697],\n",
       "        [1.34255175]]),\n",
       " array([[4.60639988],\n",
       "        [9.01390961],\n",
       "        [4.96446458],\n",
       "        [9.5791509 ],\n",
       "        [8.02765524]]))"
      ]
     },
     "execution_count": 3,
     "metadata": {},
     "output_type": "execute_result"
    }
   ],
   "source": [
    "# Normal equation: theta_best = (XT*X)^(-1)*XT*y\n",
    "(X[:5], y[:5])"
   ]
  },
  {
   "cell_type": "code",
   "execution_count": 4,
   "metadata": {},
   "outputs": [
    {
     "data": {
      "text/plain": [
       "array([[1.        , 0.20213329],\n",
       "       [1.        , 1.6713032 ],\n",
       "       [1.        , 0.32148819],\n",
       "       [1.        , 1.85971697],\n",
       "       [1.        , 1.34255175]])"
      ]
     },
     "execution_count": 4,
     "metadata": {},
     "output_type": "execute_result"
    }
   ],
   "source": [
    "# Hyperparameters can be calculated by closed form solution = normal equation.\n",
    "\n",
    "# Our X is 1D but in general it has columns 1..n.\n",
    "# For regression, add an identitity vector to represent X0=bias.\n",
    "bias = np.ones((100,1))\n",
    "biasX = np.c_[bias, X] # column-wise concatenation\n",
    "biasX[:5]"
   ]
  },
  {
   "cell_type": "code",
   "execution_count": 5,
   "metadata": {},
   "outputs": [
    {
     "data": {
      "text/plain": [
       "array([[4.],\n",
       "       [3.]])"
      ]
     },
     "execution_count": 5,
     "metadata": {},
     "output_type": "execute_result"
    }
   ],
   "source": [
    "biasX_T = biasX.T\n",
    "theta_best = np.linalg.inv(biasX_T.dot(biasX)).dot(biasX_T).dot(y)\n",
    "# The parameters are learned exactly.\n",
    "theta_best"
   ]
  },
  {
   "cell_type": "code",
   "execution_count": 6,
   "metadata": {},
   "outputs": [
    {
     "data": {
      "image/png": "[encoded data removed]",
      "text/plain": [
       "<Figure size 432x288 with 1 Axes>"
      ]
     },
     "metadata": {
      "needs_background": "light"
     },
     "output_type": "display_data"
    }
   ],
   "source": [
    "# Generate data with noise. Same equation: y=4+3x.\n",
    "noise = np.random.randn(100,1) # 100 random numbers 0<=n<1, Gaussian distribution\n",
    "y = 4 + 3 * X + noise\n",
    "plt.scatter(X,y,)\n",
    "plt.show()"
   ]
  },
  {
   "cell_type": "code",
   "execution_count": 7,
   "metadata": {},
   "outputs": [
    {
     "data": {
      "text/plain": [
       "array([[4.05706018],\n",
       "       [3.11941136]])"
      ]
     },
     "execution_count": 7,
     "metadata": {},
     "output_type": "execute_result"
    }
   ],
   "source": [
    "# Regression on noisy data.\n",
    "biasX = np.c_[np.ones((100,1)), X] # column-wise concatenation\n",
    "theta_best = np.linalg.inv(biasX_T.dot(biasX)).dot(biasX_T).dot(y)\n",
    "# The parameters are learned approximately.\n",
    "theta_best"
   ]
  },
  {
   "cell_type": "code",
   "execution_count": 8,
   "metadata": {},
   "outputs": [],
   "source": [
    "Xtest = 2 * np.random.rand(100,1)  # 100 random numbers 0<=r<2, uniform distribtuion\n",
    "biasXtest = np.c_[np.ones((100,1)), Xtest] # column-wise concatenation\n",
    "predictions=biasXtest.dot(theta_best)"
   ]
  },
  {
   "cell_type": "code",
   "execution_count": 9,
   "metadata": {},
   "outputs": [
    {
     "data": {
      "image/png": "[encoded data removed]",
      "text/plain": [
       "<Figure size 432x288 with 1 Axes>"
      ]
     },
     "metadata": {
      "needs_background": "light"
     },
     "output_type": "display_data"
    }
   ],
   "source": [
    "plt.plot(X, y, \"b.\")  # original data blue\n",
    "plt.plot(Xtest,predictions,\"r-\") # computed data red\n",
    "plt.axis([0,2,0,15])\n",
    "plt.show()"
   ]
  },
  {
   "cell_type": "code",
   "execution_count": 10,
   "metadata": {},
   "outputs": [
    {
     "data": {
      "text/plain": [
       "(array([4.05706018]), array([[3.11941136]]))"
      ]
     },
     "execution_count": 10,
     "metadata": {},
     "output_type": "execute_result"
    }
   ],
   "source": [
    "# Problem with the above.\n",
    "# The closed form solution is hard i.e. O(n^3).\n",
    "# In fact it is unbtainable if X or XT*X is not invertible.\n",
    "\n",
    "# The alternative is O(n^2) for n features, O(m) for m instances.\n",
    "# Use Singular Value Decomposition (SVD) of X -> U*E*VT. See numpy.lnalg.svd().\n",
    "# Then use pseudoinverse (Moore-Penrose inverse). See numpy.linalg.pinv().\n",
    "# It also uses least squares with a minimum value e.g. 10^(-6). See np.linalg.lstsq().\n",
    "\n",
    "from sklearn.linear_model import LinearRegression\n",
    "linreg = LinearRegression()\n",
    "linreg.fit(X,y)\n",
    "linreg.intercept_, linreg.coef_"
   ]
  },
  {
   "cell_type": "code",
   "execution_count": 11,
   "metadata": {},
   "outputs": [
    {
     "data": {
      "text/plain": [
       "(array([[0.88209505],\n",
       "        [0.27729146],\n",
       "        [0.20219787],\n",
       "        [1.19577152],\n",
       "        [1.24432427]]),\n",
       " array([[6.8086775 ],\n",
       "        [4.92204633],\n",
       "        [4.68779852],\n",
       "        [7.78716346],\n",
       "        [7.93861944]]))"
      ]
     },
     "execution_count": 11,
     "metadata": {},
     "output_type": "execute_result"
    }
   ],
   "source": [
    "preds = linreg.predict(Xtest)\n",
    "(Xtest[:5], preds[:5])"
   ]
  },
  {
   "cell_type": "code",
   "execution_count": null,
   "metadata": {},
   "outputs": [],
   "source": []
  }
 ],
 "metadata": {
  "kernelspec": {
   "display_name": "Python 3",
   "language": "python",
   "name": "python3"
  },
  "language_info": {
   "codemirror_mode": {
    "name": "ipython",
    "version": 3
   },
   "file_extension": ".py",
   "mimetype": "text/x-python",
   "name": "python",
   "nbconvert_exporter": "python",
   "pygments_lexer": "ipython3",
   "version": "3.8.3"
  }
 },
 "nbformat": 4,
 "nbformat_minor": 2
}
