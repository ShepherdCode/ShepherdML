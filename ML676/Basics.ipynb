{
 "cells": [
  {
   "cell_type": "code",
   "execution_count": 2,
   "metadata": {},
   "outputs": [
    {
     "name": "stdout",
     "output_type": "stream",
     "text": [
      "numpy 1.18.4\n",
      "pandas 1.0.5\n",
      "keras 2.4.3\n",
      "sklearn 0.23.1\n",
      "tensorflow 2.2.0\n",
      "matplotlib 3.2.2\n"
     ]
    }
   ],
   "source": [
    "import numpy as np\n",
    "import scipy.stats as ss\n",
    "import pandas\n",
    "import keras\n",
    "import sklearn\n",
    "import tensorflow\n",
    "import matplotlib\n",
    "print(\"numpy\", np.__version__)\n",
    "print(\"pandas\", pandas.__version__)\n",
    "print(\"keras\", keras.__version__)\n",
    "print(\"sklearn\", sklearn.__version__)\n",
    "print(\"tensorflow\", tensorflow.__version__)\n",
    "print(\"matplotlib\", matplotlib.__version__)\n"
   ]
  },
  {
   "cell_type": "code",
   "execution_count": 2,
   "metadata": {},
   "outputs": [
    {
     "data": {
      "text/plain": [
       "array([1., 1., 1., 1., 1., 1., 1., 1., 1., 1.])"
      ]
     },
     "execution_count": 2,
     "metadata": {},
     "output_type": "execute_result"
    }
   ],
   "source": [
    "X=np.ones(10)\n",
    "W=np.ones(10)\n",
    "W"
   ]
  },
  {
   "cell_type": "code",
   "execution_count": 5,
   "metadata": {},
   "outputs": [
    {
     "data": {
      "text/plain": [
       "10.0"
      ]
     },
     "execution_count": 5,
     "metadata": {},
     "output_type": "execute_result"
    }
   ],
   "source": [
    "dot_product = X.dot(W)\n",
    "dot_product"
   ]
  },
  {
   "cell_type": "code",
   "execution_count": 13,
   "metadata": {},
   "outputs": [
    {
     "name": "stdout",
     "output_type": "stream",
     "text": [
      "(5, 10) (10,)\n"
     ]
    }
   ],
   "source": [
    "W=np.ones([5,10])\n",
    "print(np.shape(W),np.shape(X))"
   ]
  },
  {
   "cell_type": "code",
   "execution_count": 14,
   "metadata": {},
   "outputs": [
    {
     "name": "stdout",
     "output_type": "stream",
     "text": [
      "(5,)\n"
     ]
    },
    {
     "data": {
      "text/plain": [
       "array([10., 10., 10., 10., 10.])"
      ]
     },
     "execution_count": 14,
     "metadata": {},
     "output_type": "execute_result"
    }
   ],
   "source": [
    "dot_product = W.dot(X)\n",
    "print(np.shape(dot_product))\n",
    "dot_product"
   ]
  },
  {
   "cell_type": "markdown",
   "metadata": {},
   "source": [
    "# Python Dictionary"
   ]
  },
  {
   "cell_type": "code",
   "execution_count": 4,
   "metadata": {},
   "outputs": [],
   "source": [
    "mylist = []\n",
    "mydict = {}\n",
    "mydict [ 'CPU' ] = \"Central Processing Unit\"\n",
    "mydict [ 'ALU' ] = \"Arithmetic and Logic Unit\"\n",
    "mydict [ 'FPU' ] = \"Floating Point Unit\""
   ]
  },
  {
   "cell_type": "code",
   "execution_count": 5,
   "metadata": {},
   "outputs": [
    {
     "data": {
      "text/plain": [
       "{'CPU': 'Central Processing Unit',\n",
       " 'ALU': 'Arithmetic and Logic Unit',\n",
       " 'FPU': 'Floating Point Unit'}"
      ]
     },
     "execution_count": 5,
     "metadata": {},
     "output_type": "execute_result"
    }
   ],
   "source": [
    "mydict"
   ]
  },
  {
   "cell_type": "code",
   "execution_count": 6,
   "metadata": {},
   "outputs": [
    {
     "name": "stdout",
     "output_type": "stream",
     "text": [
      "Arithmetic and Logic Unit\n"
     ]
    }
   ],
   "source": [
    "print (mydict['ALU'])"
   ]
  },
  {
   "cell_type": "code",
   "execution_count": 7,
   "metadata": {},
   "outputs": [
    {
     "name": "stdout",
     "output_type": "stream",
     "text": [
      "Not found!\n"
     ]
    }
   ],
   "source": [
    "if 'BUS' in mydict:\n",
    "    print(\"Got it!\")\n",
    "else:\n",
    "    print(\"Not found!\")"
   ]
  },
  {
   "cell_type": "code",
   "execution_count": 8,
   "metadata": {},
   "outputs": [
    {
     "name": "stdout",
     "output_type": "stream",
     "text": [
      "The definition of  CPU  is  Central Processing Unit\n",
      "The definition of  ALU  is  Arithmetic and Logic Unit\n",
      "The definition of  FPU  is  Floating Point Unit\n"
     ]
    }
   ],
   "source": [
    "for word in mydict:\n",
    "    print(\"The definition of \", word, \" is \", mydict[word])"
   ]
  },
  {
   "cell_type": "code",
   "execution_count": 5,
   "metadata": {},
   "outputs": [
    {
     "data": {
      "text/plain": [
       "(92.97200000000001, 1.367265884895841)"
      ]
     },
     "execution_count": 5,
     "metadata": {},
     "output_type": "execute_result"
    }
   ],
   "source": [
    "import numpy as np\n",
    "A=(93.85, 92.36, 90.63, 94.54, 93.48)\n",
    "M=np.mean(A)\n",
    "S=np.std(A)\n",
    "M,S"
   ]
  },
  {
   "cell_type": "code",
   "execution_count": 2,
   "metadata": {},
   "outputs": [
    {
     "data": {
      "text/plain": [
       "MannwhitneyuResult(statistic=0.0, pvalue=0.006092890177672406)"
      ]
     },
     "execution_count": 2,
     "metadata": {},
     "output_type": "execute_result"
    }
   ],
   "source": [
    "mlp203=(75.23,75.05,74.92,74.67,75.42)\n",
    "mlp205=(85.97,85.85,85.54,85.29,86.65)\n",
    "ss.mannwhitneyu(mlp203,mlp205)\n",
    "# requires at least 20 observations per sample"
   ]
  },
  {
   "cell_type": "code",
   "execution_count": 3,
   "metadata": {},
   "outputs": [
    {
     "data": {
      "text/plain": [
       "Ttest_indResult(statistic=-40.9172537526874, pvalue=1.4012413845559694e-10)"
      ]
     },
     "execution_count": 3,
     "metadata": {},
     "output_type": "execute_result"
    }
   ],
   "source": [
    "ss.ttest_ind(mlp203,mlp205)\n",
    "# assumes both normal and variances are equal"
   ]
  },
  {
   "cell_type": "code",
   "execution_count": 4,
   "metadata": {},
   "outputs": [
    {
     "data": {
      "text/plain": [
       "Ttest_indResult(statistic=-40.9172537526874, pvalue=7.563720623586533e-09)"
      ]
     },
     "execution_count": 4,
     "metadata": {},
     "output_type": "execute_result"
    }
   ],
   "source": [
    "ss.ttest_ind(mlp203,mlp205,equal_var=False)\n",
    "# assumes both normal"
   ]
  },
  {
   "cell_type": "code",
   "execution_count": 6,
   "metadata": {},
   "outputs": [
    {
     "data": {
      "text/plain": [
       "Ttest_indResult(statistic=0.21906573368207619, pvalue=0.8335135668608495)"
      ]
     },
     "execution_count": 6,
     "metadata": {},
     "output_type": "execute_result"
    }
   ],
   "source": [
    "gru219=(93.98,89.45,92.24,89.57,93.05)\n",
    "gru220=(93.61,85.04,94.04,92.36,91.19)\n",
    "ss.ttest_ind(gru219,gru220,equal_var=False)"
   ]
  },
  {
   "cell_type": "code",
   "execution_count": 7,
   "metadata": {},
   "outputs": [
    {
     "data": {
      "text/plain": [
       "MannwhitneyuResult(statistic=11.0, pvalue=0.41726581135546437)"
      ]
     },
     "execution_count": 7,
     "metadata": {},
     "output_type": "execute_result"
    }
   ],
   "source": [
    "ss.mannwhitneyu(gru219,gru220)"
   ]
  },
  {
   "cell_type": "code",
   "execution_count": 7,
   "metadata": {},
   "outputs": [
    {
     "name": "stdout",
     "output_type": "stream",
     "text": [
      "91.26500000000001 2.6544990111130216\n",
      "[86.96 87.4  88.21 90.63 92.36 92.36 92.86 93.48 93.85 94.54]\n"
     ]
    },
    {
     "data": {
      "text/plain": [
       "Ttest_indResult(statistic=-2.5952867889778277, pvalue=0.026402569994122466)"
      ]
     },
     "execution_count": 7,
     "metadata": {},
     "output_type": "execute_result"
    }
   ],
   "source": [
    "gru215=(93.85,92.36, 90.63, 94.54, 93.48, 92.86, 87.40, 88.21, 92.36, 86.96)\n",
    "gru217=(87.77, 90.94, 88.27, 87.40, 84.79)\n",
    "M=np.mean(gru215)\n",
    "S=np.std(gru215)\n",
    "print(M,S)\n",
    "print(np.sort(gru215))\n",
    "ss.ttest_ind(gru217,gru215,equal_var=False)"
   ]
  },
  {
   "cell_type": "code",
   "execution_count": 8,
   "metadata": {},
   "outputs": [
    {
     "data": {
      "text/plain": [
       "(-0.5075742173410019, 0.38267167774163646)"
      ]
     },
     "execution_count": 8,
     "metadata": {},
     "output_type": "execute_result"
    }
   ],
   "source": [
    "#gru\n",
    "params=(49169,49361,50129,53201,65489)\n",
    "accuracy=(87.83,87.44,91.27,87.61,86.52)\n",
    "ss.pearsonr(params,accuracy)"
   ]
  },
  {
   "cell_type": "code",
   "execution_count": 12,
   "metadata": {},
   "outputs": [
    {
     "data": {
      "text/plain": [
       "Ttest_indResult(statistic=-1.9633680994635292, pvalue=0.09633587491316349)"
      ]
     },
     "execution_count": 12,
     "metadata": {},
     "output_type": "execute_result"
    }
   ],
   "source": [
    "gru229=(85.72, 85.47, 88.83, 86.10, 87.27)\n",
    "gru232=(90.13, 88.83, 85.10, 92.05, 90.19)\n",
    "ss.ttest_ind(gru229,gru232,equal_var=False)"
   ]
  },
  {
   "cell_type": "code",
   "execution_count": 10,
   "metadata": {},
   "outputs": [
    {
     "data": {
      "text/plain": [
       "Ttest_indResult(statistic=-2.636186592915551, pvalue=0.04067529976680055)"
      ]
     },
     "execution_count": 10,
     "metadata": {},
     "output_type": "execute_result"
    }
   ],
   "source": [
    "gru232=(86.72, 87.27, 88.83, 86.72, 88.76)\n",
    "gru222=(92.05, 86.78, 91.74, 90.32, 92.05)\n",
    "ss.ttest_ind(gru232,gru222,equal_var=False)"
   ]
  },
  {
   "cell_type": "code",
   "execution_count": 14,
   "metadata": {},
   "outputs": [
    {
     "data": {
      "text/plain": [
       "(0.5811435861199084, 0.13083426764743972)"
      ]
     },
     "execution_count": 14,
     "metadata": {},
     "output_type": "execute_result"
    }
   ],
   "source": [
    "params=(2961,4849,6929,12753,14657,32625,50129,119505)  # one missing value\n",
    "accuracy=(87.98,88.14,90.59,89.72,88.80,91.66,92.97,91.25) # one missing value\n",
    "ss.pearsonr(params,accuracy)"
   ]
  },
  {
   "cell_type": "code",
   "execution_count": null,
   "metadata": {},
   "outputs": [],
   "source": []
  }
 ],
 "metadata": {
  "kernelspec": {
   "display_name": "Python 3",
   "language": "python",
   "name": "python3"
  },
  "language_info": {
   "codemirror_mode": {
    "name": "ipython",
    "version": 3
   },
   "file_extension": ".py",
   "mimetype": "text/x-python",
   "name": "python",
   "nbconvert_exporter": "python",
   "pygments_lexer": "ipython3",
   "version": "3.8.3"
  }
 },
 "nbformat": 4,
 "nbformat_minor": 2
}
