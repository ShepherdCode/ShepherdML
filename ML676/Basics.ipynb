{
 "cells": [
  {
   "cell_type": "code",
   "execution_count": 6,
   "metadata": {},
   "outputs": [
    {
     "name": "stdout",
     "output_type": "stream",
     "text": [
      "numpy 1.18.4\n",
      "pandas 1.0.5\n",
      "keras 2.4.3\n",
      "sklearn 0.23.1\n",
      "tensorflow 2.2.0\n",
      "matplotlib 3.2.2\n"
     ]
    }
   ],
   "source": [
    "import numpy as np\n",
    "import pandas\n",
    "import keras\n",
    "import sklearn\n",
    "import tensorflow\n",
    "import matplotlib\n",
    "print(\"numpy\", np.__version__)\n",
    "print(\"pandas\", pandas.__version__)\n",
    "print(\"keras\", keras.__version__)\n",
    "print(\"sklearn\", sklearn.__version__)\n",
    "print(\"tensorflow\", tensorflow.__version__)\n",
    "print(\"matplotlib\", matplotlib.__version__)\n"
   ]
  },
  {
   "cell_type": "code",
   "execution_count": 2,
   "metadata": {},
   "outputs": [
    {
     "data": {
      "text/plain": [
       "array([1., 1., 1., 1., 1., 1., 1., 1., 1., 1.])"
      ]
     },
     "execution_count": 2,
     "metadata": {},
     "output_type": "execute_result"
    }
   ],
   "source": [
    "X=np.ones(10)\n",
    "W=np.ones(10)\n",
    "W"
   ]
  },
  {
   "cell_type": "code",
   "execution_count": 5,
   "metadata": {},
   "outputs": [
    {
     "data": {
      "text/plain": [
       "10.0"
      ]
     },
     "execution_count": 5,
     "metadata": {},
     "output_type": "execute_result"
    }
   ],
   "source": [
    "dot_product = X.dot(W)\n",
    "dot_product"
   ]
  },
  {
   "cell_type": "code",
   "execution_count": 13,
   "metadata": {},
   "outputs": [
    {
     "name": "stdout",
     "output_type": "stream",
     "text": [
      "(5, 10) (10,)\n"
     ]
    }
   ],
   "source": [
    "W=np.ones([5,10])\n",
    "print(np.shape(W),np.shape(X))"
   ]
  },
  {
   "cell_type": "code",
   "execution_count": 14,
   "metadata": {},
   "outputs": [
    {
     "name": "stdout",
     "output_type": "stream",
     "text": [
      "(5,)\n"
     ]
    },
    {
     "data": {
      "text/plain": [
       "array([10., 10., 10., 10., 10.])"
      ]
     },
     "execution_count": 14,
     "metadata": {},
     "output_type": "execute_result"
    }
   ],
   "source": [
    "dot_product = W.dot(X)\n",
    "print(np.shape(dot_product))\n",
    "dot_product"
   ]
  },
  {
   "cell_type": "markdown",
   "metadata": {},
   "source": [
    "# Python Dictionary"
   ]
  },
  {
   "cell_type": "code",
   "execution_count": 4,
   "metadata": {},
   "outputs": [],
   "source": [
    "mylist = []\n",
    "mydict = {}\n",
    "mydict [ 'CPU' ] = \"Central Processing Unit\"\n",
    "mydict [ 'ALU' ] = \"Arithmetic and Logic Unit\"\n",
    "mydict [ 'FPU' ] = \"Floating Point Unit\""
   ]
  },
  {
   "cell_type": "code",
   "execution_count": 5,
   "metadata": {},
   "outputs": [
    {
     "data": {
      "text/plain": [
       "{'CPU': 'Central Processing Unit',\n",
       " 'ALU': 'Arithmetic and Logic Unit',\n",
       " 'FPU': 'Floating Point Unit'}"
      ]
     },
     "execution_count": 5,
     "metadata": {},
     "output_type": "execute_result"
    }
   ],
   "source": [
    "mydict"
   ]
  },
  {
   "cell_type": "code",
   "execution_count": 6,
   "metadata": {},
   "outputs": [
    {
     "name": "stdout",
     "output_type": "stream",
     "text": [
      "Arithmetic and Logic Unit\n"
     ]
    }
   ],
   "source": [
    "print (mydict['ALU'])"
   ]
  },
  {
   "cell_type": "code",
   "execution_count": 7,
   "metadata": {},
   "outputs": [
    {
     "name": "stdout",
     "output_type": "stream",
     "text": [
      "Not found!\n"
     ]
    }
   ],
   "source": [
    "if 'BUS' in mydict:\n",
    "    print(\"Got it!\")\n",
    "else:\n",
    "    print(\"Not found!\")"
   ]
  },
  {
   "cell_type": "code",
   "execution_count": 8,
   "metadata": {},
   "outputs": [
    {
     "name": "stdout",
     "output_type": "stream",
     "text": [
      "The definition of  CPU  is  Central Processing Unit\n",
      "The definition of  ALU  is  Arithmetic and Logic Unit\n",
      "The definition of  FPU  is  Floating Point Unit\n"
     ]
    }
   ],
   "source": [
    "for word in mydict:\n",
    "    print(\"The definition of \", word, \" is \", mydict[word])"
   ]
  },
  {
   "cell_type": "code",
   "execution_count": 5,
   "metadata": {},
   "outputs": [
    {
     "data": {
      "text/plain": [
       "(92.97200000000001, 1.367265884895841)"
      ]
     },
     "execution_count": 5,
     "metadata": {},
     "output_type": "execute_result"
    }
   ],
   "source": [
    "import numpy as np\n",
    "A=(93.85, 92.36, 90.63, 94.54, 93.48)\n",
    "M=np.mean(A)\n",
    "S=np.std(A)\n",
    "M,S"
   ]
  },
  {
   "cell_type": "code",
   "execution_count": null,
   "metadata": {},
   "outputs": [],
   "source": []
  }
 ],
 "metadata": {
  "kernelspec": {
   "display_name": "Python 3",
   "language": "python",
   "name": "python3"
  },
  "language_info": {
   "codemirror_mode": {
    "name": "ipython",
    "version": 3
   },
   "file_extension": ".py",
   "mimetype": "text/x-python",
   "name": "python",
   "nbconvert_exporter": "python",
   "pygments_lexer": "ipython3",
   "version": "3.8.3"
  }
 },
 "nbformat": 4,
 "nbformat_minor": 2
}
