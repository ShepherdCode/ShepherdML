{
 "cells": [
  {
   "cell_type": "markdown",
   "metadata": {
    "id": "c3aQWTz7YjMP"
   },
   "source": [
    "# HW4 Solution\n",
    "## Student Name: Jason Miller\n",
    "\n",
    "---\n",
    "\n",
    "**NOTE:**\n",
    "Change the notebook filename in this way:\n",
    "```\n",
    "hw4_solution_lastname_firstname.ipynb\n",
    "```\n",
    "\n",
    "---\n",
    "\n",
    "As you can see, you can write an inline equation in this way: $P(\\theta)$.\n",
    "\n",
    "Or you can write a block equation in this way\n",
    "$$\n",
    "\\mathcal{N}(\\mu,\\sigma^2) = \\frac{1}{\\sqrt{2 \\pi \\sigma^2}} \\exp{-\\frac{1}{2}\\left(\\frac{x-\\mu}{\\sigma}\\right)^2}\n",
    "$$\n",
    "\n",
    "This is a [Markdown overview](https://colab.research.google.com/notebooks/markdown_guide.ipynb) if you are not familiar with this text editing formalism.\n",
    "\n",
    "---\n"
   ]
  },
  {
   "cell_type": "code",
   "execution_count": 1,
   "metadata": {
    "id": "wHG2qF-jZhmy"
   },
   "outputs": [],
   "source": [
    "# You can only import these libraries\n",
    "import matplotlib\n",
    "import matplotlib.pyplot as plt\n",
    "import numpy as np\n"
   ]
  },
  {
   "cell_type": "markdown",
   "metadata": {
    "id": "FlLcVkQuYw1r"
   },
   "source": [
    "## Problem 1.1\n",
    "\n",
    "Let n = 64 data points and p = 6830 features.\n",
    "How many principal components with non-zero variance would we get? Explain why.\n",
    "\n",
    "### 1.1 Solution\n",
    "\n",
    "We get 63 non-zero principal components at most.\n",
    "\n",
    "Our textbook (James, Intro to Stat Learning, page 380) \n",
    "uses the formula M=min(n−1,p) \n",
    "where M principal components can exactly represent all the data.  \n",
    "\n",
    "The principal components are the minimum orthogonal dimensions,\n",
    "each of which captures some of the data's variance.\n",
    "At n=1 there is no variance and at n=2 either \n",
    "data point could be expressed as a variation on the other.\n",
    "In contrast, there could be variance at p=1 and n=2.\n",
    "At n=64, at most 63 data points could rotate into \n",
    "a dimension that is orthogonal to all the others.\n"
   ]
  },
  {
   "cell_type": "markdown",
   "metadata": {
    "id": "v_sYp0kRbzOX"
   },
   "source": [
    "## Problem 1.2\n",
    "\n",
    "### 1.2.a Question\n",
    "\n",
    "Which PCA has the variables standardized to variance 1 before calculating the covariance matrix and its eigenvalues? Explain briefly.\n",
    "\n",
    "### 1.2.a Solution\n",
    "\n",
    "PCA2 uses standardized variance.\n",
    "\n",
    "The evidence comes from PCA1.\n",
    "The PCA1 scree plot (fig 1)\n",
    "and the projections (table 3) \n",
    "concentrate nearly 100% of the variance in one PC. \n",
    "We were not given feature variances but we do have ranges (table 2).\n",
    "The range of one feature (Area, max-min=565K) \n",
    "is 20X larger than the next largest (Population, max-min=21K).\n",
    "Without normalization, it makes sense that the \n",
    "Area variance would dominate."
   ]
  },
  {
   "cell_type": "markdown",
   "metadata": {},
   "source": [
    "### 1.2.b Question\n",
    "From the Scree Plot of PCA1 in Figure 1, where do you locate a “big gap” or elbow, and what is the reasonable number of principal components to be retained?\n",
    "### 1.2.b Solution\n",
    "Visual inspection of fig 1 says the elbow occurs at X=2. \n",
    "\n",
    "A reasonable number of PCs is 1.\n",
    "That is because the elbow is sharp and the curve is flat from X=2 to X=8. \n",
    "Thus, most variance can be explained with 1 PC.\n",
    "However, if you wish to make a 2D plot, you could retain the top 2 PCs."
   ]
  },
  {
   "cell_type": "markdown",
   "metadata": {},
   "source": [
    "### 1.2.c Question\n",
    "Describe, in words, the first two principal components of PCA1.\n",
    "### 1.2.c Solution\n",
    "Table 3 shows the projections of features to PC1 and PC2 for PCA1.\n",
    "\n",
    "PC1 is composed almost entirely of the Area feature.\n",
    "Among its other contributors,\n",
    "the leaders are Population and Income\n",
    "at 1 and 3 one thousandths as strong, repsectively.\n",
    "\n",
    "PC2 is composed almost entirely of the Population feature.\n",
    "The nearest other contributor is Income which is only 3% as strong.\n"
   ]
  },
  {
   "cell_type": "markdown",
   "metadata": {},
   "source": [
    "### 1.2.d Question\n",
    "From the Scree Plot of PCA2 in Figure 2, where is a “big gap” or elbow and what is the reasonable number of principal components to be retained?\n",
    "### 1.2.d Solution\n",
    "Visual inspection of fig 2 does not present a precise elbow.\n",
    "A judgement call is required, possibly informed by outside factors\n",
    "such as what portion of the variance needs to be explained.\n",
    "A reasonable elbow designation is at X=5,\n",
    "with the first 5 PCs retained."
   ]
  },
  {
   "cell_type": "markdown",
   "metadata": {},
   "source": [
    "### 1.2.e Question\n",
    "Describe, in words, the first two principal components of PCA2.\n",
    "### 1.2.e Solution\n",
    "Table 4 shows the projections of features to PC1 and PC2 of PCA2.\n",
    "The signs indicate different directions of influence\n",
    "but the absolute values indicate relative strengths.\n",
    "\n",
    "PC1 is a fairly even mix of six of the eight features, \n",
    "whereas PC2 has more skew:\n",
    "* PC1 tops: Illiteracy (0.47), Murder (0.44), HSgrad (-0.43), LifeExp (-0.41), Frost (-0.36), and Income (-0.30). \n",
    "* PC2 tops: Area (0.59), Income (0.52), Population (0.41), Murder (0.31), and HSgrad (0.30). \n",
    "\n",
    "PC1 and PC2 have no overlap among their top 3\n",
    "so the first two PCs complement each other somewhat:\n",
    "* PC1 top 3: Illiteracy, Murder, HSgrad\n",
    "* PC2 top 3: Area, Income, Population"
   ]
  },
  {
   "cell_type": "markdown",
   "metadata": {},
   "source": [
    "### 1.2.f Problem\n",
    "Would you rather use PCA2 or PCA1 for the PCA analysis? Pick one and explain your choice. \n",
    "### 1.2.f Solution\n",
    "PCA2.\n",
    "\n",
    "The problem with this data is the heterogeneous nature of the features.\n",
    "There is no obvious way to compare a difference of 2K acres (Area)\n",
    "to a difference of 2K dollars (Income). \n",
    "\n",
    "PCA1 did nothing to address this problem.\n",
    "The PCA1 approach is ok for the MNIST digits below,\n",
    "where all the features have the same meaning (pixel intensity),\n",
    "but it is not ok for the US states data.\n",
    "\n",
    "In contrast, PCA2 used variance standardized to one.\n",
    "This allowed PCA2 to compare heterogeneous features by \n",
    "something they all have in common: Z-score (essentially). \n",
    "Thus, I find PCA2 preferable for the US states data."
   ]
  },
  {
   "cell_type": "markdown",
   "metadata": {},
   "source": [
    "## Problem 2"
   ]
  },
  {
   "cell_type": "code",
   "execution_count": 2,
   "metadata": {
    "id": "HjW8SWZp_aJX"
   },
   "outputs": [
    {
     "name": "stdout",
     "output_type": "stream",
     "text": [
      "(70000, 784)\n",
      "(70000, 1)\n"
     ]
    }
   ],
   "source": [
    "# get MNIST data from online repository\n",
    "# Getting the dataset is the only reason why we used sklearn. It cannot be used for other purposes\n",
    "from sklearn.datasets import fetch_openml\n",
    "x, y = fetch_openml('mnist_784', version=1, return_X_y=True)\n",
    "\n",
    "# convert string labels to integers\n",
    "y = np.array([int(v) for v in y])[:,np.newaxis]\n",
    "\n",
    "print(np.shape(x))\n",
    "print(np.shape(y))"
   ]
  },
  {
   "cell_type": "code",
   "execution_count": 3,
   "metadata": {
    "id": "ZtJZSOLf-b31"
   },
   "outputs": [
    {
     "name": "stdout",
     "output_type": "stream",
     "text": [
      "(784, 784)\n"
     ]
    }
   ],
   "source": [
    "# Computes PCA\n",
    "\n",
    "numClasses = 10\n",
    "numEig = 100\n",
    "picSize = 28*28\n",
    "trainSize = 60000\n",
    "\n",
    "# zero-mean training data\n",
    "trainY = y[0:trainSize,:]\n",
    "trainMean = np.mean(x[0:trainSize,:], axis=0) # zero-centering\n",
    "trainX = x[0:trainSize,:] - trainMean\n",
    "\n",
    "# testing data\n",
    "testY = y[trainSize:,:]\n",
    "testX = x[trainSize:,:]\n",
    "\n",
    "cov = np.cov(trainX.T)  ## 784x784 pixel covariance\n",
    "print(np.shape(cov))\n",
    "# w = eigenvalues (784,)\n",
    "# v = unit eigenvectors (one hot)\n",
    "w, v = np.linalg.eig(cov)   ## eigen decomposition of covariance matrix\n",
    "ws = np.sort(w)  # sort the eigenvalues (784,) ascending\n",
    "ws = ws[::-1]  # ??? -1 takes all but the last, but ws is still (784,)\n",
    "tmp = np.array(v);\n",
    "for i in range(0,numEig):\n",
    "    tmp[:,i] = v[:,np.where(w==ws[i])[0][0]]\n",
    "v = tmp[:,:numEig].real\n",
    "\n",
    "#free memory\n",
    "del cov, w, tmp"
   ]
  },
  {
   "cell_type": "markdown",
   "metadata": {},
   "source": [
    "### Data exploration"
   ]
  },
  {
   "cell_type": "code",
   "execution_count": 4,
   "metadata": {},
   "outputs": [
    {
     "name": "stdout",
     "output_type": "stream",
     "text": [
      "332724.667446568\n",
      "3373.7058208668345\n",
      "203.5434875144455\n",
      "0.0\n"
     ]
    }
   ],
   "source": [
    "# Example eigenvalues in decreasing order\n",
    "print(ws[0])  \n",
    "print(ws[100])  \n",
    "print(ws[400])  \n",
    "print(ws[727])  "
   ]
  },
  {
   "cell_type": "code",
   "execution_count": 5,
   "metadata": {},
   "outputs": [
    {
     "name": "stdout",
     "output_type": "stream",
     "text": [
      "(784, 100)\n",
      "[0. 0. 0. 0. 0. 0. 0. 0. 0. 0. 0. 0. 0. 0. 0. 0. 0. 0. 0. 0. 0. 0. 0. 0.\n",
      " 0. 0. 0. 0. 0. 0. 0. 0. 0. 0. 0. 0. 0. 0. 0. 0. 0. 0. 0. 0. 0. 0. 0. 0.\n",
      " 0. 0. 0. 0. 0. 0. 0. 0. 0. 0. 0. 0. 0. 0. 0. 0. 0. 0. 0. 0. 0. 0. 0. 0.\n",
      " 0. 0. 0. 0. 0. 0. 0. 0. 0. 0. 0. 0. 0. 0. 0. 0. 0. 0. 0. 0. 0. 0. 0. 0.\n",
      " 0. 0. 0. 0.]\n",
      "[-0.00886485 -0.00812866  0.02139428  0.03762675 -0.01826191 -0.03010306\n",
      "  0.0123972   0.00144399 -0.0237319   0.00464373 -0.01634536  0.00574509\n",
      " -0.00348484  0.00810631  0.01117779  0.01202791 -0.02226615  0.02077036\n",
      " -0.00288519 -0.01172428  0.02275511  0.0134019  -0.0167441   0.01411576\n",
      " -0.01259602  0.00670511 -0.00128385  0.02387361  0.00343945 -0.00249084\n",
      " -0.05410934  0.0037329  -0.03489022 -0.03705471 -0.02407548 -0.00354087\n",
      "  0.02807565  0.04228606  0.00370142 -0.00594182 -0.05128516  0.03186546\n",
      "  0.03818421 -0.0368326   0.00027684 -0.02802877  0.05547744  0.01452484\n",
      "  0.04431241  0.08902126  0.04319275 -0.01961667 -0.00907145  0.03536842\n",
      "  0.03637595  0.02066894 -0.01249137  0.04754186 -0.0006208  -0.01723863\n",
      " -0.04463639 -0.0768833  -0.02848409 -0.00496106  0.01875236  0.09650509\n",
      " -0.01591149 -0.01119276 -0.07539498 -0.01665146 -0.02646451 -0.00209155\n",
      "  0.03023757  0.09803135  0.00364173 -0.01040694 -0.00582859  0.05266162\n",
      "  0.01247581  0.04090354  0.03285276  0.05511266  0.03755552  0.03333179\n",
      "  0.02238155  0.06852272 -0.02795417 -0.03562009 -0.07043096 -0.11568775\n",
      "  0.0485373  -0.00325094  0.04845648 -0.01642953 -0.0189191  -0.09431788\n",
      "  0.02155052  0.00327181  0.08034089 -0.00455034]\n",
      "[0. 0. 0. 0. 0. 0. 0. 0. 0. 0. 0. 0. 0. 0. 0. 0. 0. 0. 0. 0. 0. 0. 0. 0.\n",
      " 0. 0. 0. 0. 0. 0. 0. 0. 0. 0. 0. 0. 0. 0. 0. 0. 0. 0. 0. 0. 0. 0. 0. 0.\n",
      " 0. 0. 0. 0. 0. 0. 0. 0. 0. 0. 0. 0. 0. 0. 0. 0. 0. 0. 0. 0. 0. 0. 0. 0.\n",
      " 0. 0. 0. 0. 0. 0. 0. 0. 0. 0. 0. 0. 0. 0. 0. 0. 0. 0. 0. 0. 0. 0. 0. 0.\n",
      " 0. 0. 0. 0.]\n"
     ]
    }
   ],
   "source": [
    "# Weights for spreading one pixel over 100 PC dimensions.\n",
    "# Weights are specific to each pixel coordinate.\n",
    "print(np.shape(v))   # (784 pixels x 100 PCs)\n",
    "print(v[0])  # There is no weight for a corner pixel like 0,0 or 28,28\n",
    "print(v[100])  # There is weight for a center pixel like 10,10\n",
    "print(v[783])  # There is no weight for a corner pixel like 0,0 or 28,28"
   ]
  },
  {
   "cell_type": "code",
   "execution_count": 6,
   "metadata": {
    "id": "YiOQBioJ5v1P"
   },
   "outputs": [
    {
     "name": "stdout",
     "output_type": "stream",
     "text": [
      "(10, 100, 784)\n",
      "calculating weights for digit 0, samples 5923\n",
      "calculating weights for digit 1, samples 6742\n",
      "calculating weights for digit 2, samples 5958\n",
      "calculating weights for digit 3, samples 6131\n",
      "calculating weights for digit 4, samples 5842\n",
      "calculating weights for digit 5, samples 5421\n",
      "calculating weights for digit 6, samples 5918\n",
      "calculating weights for digit 7, samples 6265\n",
      "calculating weights for digit 8, samples 5851\n",
      "calculating weights for digit 9, samples 5949\n"
     ]
    }
   ],
   "source": [
    "#Digit representations in the PC domain\n",
    "omega = np.zeros((numClasses, numEig ,picSize))  \n",
    "print(np.shape(omega))   # 10 x 100 x 728\n",
    "for i in range(0,numClasses):\n",
    "    trainDigit = trainX[np.where(trainY==i)[0]]   # pixels of all images with this digit label\n",
    "    print(\"calculating weights for digit %d, samples %d\" % (i,len(trainDigit)))\n",
    "    for k in range(0,len(trainDigit)):   # loop over k images\n",
    "        tmp = v.T * trainDigit[k]  # 100x728 weights dot 728 pixels = 100x784\n",
    "        omega[i] += tmp\n",
    "        np.linalg.norm(omega[3])   # why class 3 ???\n",
    "    omega[i] /= len(trainDigit)    # average weight for this digit, 100 eig x 728 pixel\n",
    "    nr=np.linalg.norm(omega[i])  # nr not used\n"
   ]
  },
  {
   "cell_type": "markdown",
   "metadata": {},
   "source": [
    "### Code modified to introduce a classify() function"
   ]
  },
  {
   "cell_type": "code",
   "execution_count": 7,
   "metadata": {
    "id": "ZwgWT11FDoxA"
   },
   "outputs": [
    {
     "data": {
      "image/png": "[encoded data removed]",
      "text/plain": [
       "<Figure size 576x216 with 3 Axes>"
      ]
     },
     "metadata": {
      "needs_background": "light"
     },
     "output_type": "display_data"
    },
    {
     "name": "stdout",
     "output_type": "stream",
     "text": [
      "Test digit = 1 , Match digit = 1\n"
     ]
    }
   ],
   "source": [
    "#Randomly select a test sample\n",
    "test_sample = np.random.randint(0, len(testX)) \n",
    "orig = testX[test_sample]\n",
    "zero_center = (orig - trainMean) # zero-centering, now applied to test data\n",
    "omega_m = v.T * zero_center  # transform to PC axiis \n",
    "\n",
    "#find best match\n",
    "dist = np.zeros((numClasses))\n",
    "#dist2 = np.zeros((numClasses)) # not used\n",
    "\n",
    "def classify(test_sample,V):\n",
    "    orig = testX[test_sample]\n",
    "    zero_center = (orig - trainMean) # zero-centering, now applied to test data\n",
    "    omega_m = V.T * zero_center  # transform to PC axiis \n",
    "    for i in range(0,numClasses):\n",
    "        dist[i] = np.linalg.norm(omega[i] - omega_m)\n",
    "        #dist2[i] = np.linalg.norm(omega[i])  # not used\n",
    "    return dist.argmin()\n",
    "\n",
    "i=classify(test_sample,v)\n",
    "\n",
    "#reconstruct\n",
    "recon = v.T * omega_m\n",
    "recon = np.sum(recon,axis=0) + trainMean\n",
    "match = v.T * omega[i]\n",
    "match = np.sum(match, axis=0) + trainMean\n",
    "\n",
    "#show result\n",
    "fig, (ax1, ax2, ax3) = plt.subplots(nrows=1, ncols=3, figsize=(8, 3),\n",
    "                                    sharex=True, sharey=True)\n",
    "\n",
    "ax1.imshow(orig.reshape(28,28), cmap=plt.cm.gray)\n",
    "ax1.axis('off')\n",
    "ax1.set_title('Test Sample', fontsize=10)\n",
    "\n",
    "ax2.imshow(recon.reshape(28,28), cmap=plt.cm.gray)\n",
    "ax2.axis('off')\n",
    "ax2.set_title('Reconstruction', fontsize=10)\n",
    "\n",
    "ax3.imshow(match.reshape(28,28), cmap=plt.cm.gray)\n",
    "ax3.axis('off')\n",
    "ax3.set_title('Match', fontsize=10)\n",
    "\n",
    "plt.show()\n",
    "plt.close()\n",
    "print(\"Test digit = %d , Match digit = %d\" % (testY[test_sample],i) )"
   ]
  },
  {
   "cell_type": "code",
   "execution_count": 8,
   "metadata": {
    "id": "BDV-LUzukKvR"
   },
   "outputs": [],
   "source": [
    "# Code to solve Problem 8\n",
    "# Remember that only numpy and matplotlib can be used"
   ]
  },
  {
   "cell_type": "markdown",
   "metadata": {},
   "source": [
    "### Preparations"
   ]
  },
  {
   "cell_type": "code",
   "execution_count": 9,
   "metadata": {},
   "outputs": [
    {
     "name": "stdout",
     "output_type": "stream",
     "text": [
      "(784,)\n",
      "-123.93258865866109\n",
      "(784, 100)\n",
      "-123.93258865866115\n"
     ]
    }
   ],
   "source": [
    "# Make sure we can use dot product to replace the inside loop in next cell.\n",
    "i=0\n",
    "m=0\n",
    "s=0\n",
    "for j in range(picSize):\n",
    "    data = trainX[i][j]\n",
    "    weight = v[j][m]\n",
    "    s += weight * data\n",
    "print(trainX[i].shape)\n",
    "print(s)\n",
    "vm = v[:,m]\n",
    "print(v.shape)\n",
    "dp = np.dot(trainX[i],vm)\n",
    "print(dp)\n",
    "# Yes, they are (nearly) the same."
   ]
  },
  {
   "cell_type": "code",
   "execution_count": 10,
   "metadata": {},
   "outputs": [
    {
     "name": "stdout",
     "output_type": "stream",
     "text": [
      "[332719.12203544175, 243279.88433818202, 211503.84193548118, 184773.30625575615, 166924.04919680033, 147842.49759263016, 112176.33307507078, 98872.78171992648, 94694.67078222182, 80808.47770153615, 72312.41503256488, 69357.14535496384, 58825.89070160857, 58013.117115313515, 54122.85488616949, 50842.22114258536, 45411.84942951093, 43777.729490583275, 40704.66203105984, 39519.131716712036, 36552.92663576054, 34514.61862556803, 32692.741175233292, 31286.064373453915, 30287.047806920706, 28775.598749043435, 27858.82108334409, 26960.13209868279, 25532.76803475876, 23685.728211134716, 22562.38589243957, 22221.39604691092, 20660.327480325577, 20110.650230831445, 19542.875204406526, 18637.981479870847, 17340.611293172326, 16725.96601510356, 16505.542277546916, 16191.393295758122, 15659.318949662447, 15250.959929289309, 14348.089706438379, 13652.595593243563, 13198.644344179802, 12860.214939392628, 12411.275942262033, 12054.11507352283, 11658.710003160375, 11035.290466112376, 10937.325503666321, 10724.346650530162, 10147.604258822324, 9906.650774072963, 9741.255657353815, 9306.028681124693, 9240.395960589261, 8861.590182383747, 8700.38633287948, 8392.181630452887, 8245.621516225907, 8202.998018297729, 7899.42932661716, 7595.108243553453, 7327.301550753074, 7104.604262449188, 6961.207191513162, 6746.584597467587, 6611.845959123142, 6467.161597304621, 6410.406669218147, 6208.331252954725, 6087.619760719413, 5996.284995487388, 5682.930110123883, 5619.013686449384, 5535.640470658238, 5318.081935460559, 5060.8302643001725, 4908.713282498855, 4871.623058663405, 4839.3600785677445, 4805.803311287476, 4653.64644874637, 4588.876241405261, 4539.136047249344, 4462.37029652894, 4315.490189909243, 4211.0964334115815, 4168.457748056725, 4012.462663830307, 3938.3783676712433, 3882.5150224285376, 3801.653656601685, 3737.0675428693335, 3665.8047346881813, 3572.302128452411, 3565.816917147068, 3471.516309210639, 3446.522124698282]\n"
     ]
    }
   ],
   "source": [
    "# Algorithm for sum of variance based on our textbook\n",
    "# (James, Intro Stat Learn, eq 10.7)\n",
    "# for m in M=100 PCs ...\n",
    "#    var(m)=0\n",
    "#    for i in n=60000 pictures...\n",
    "#       sum = 0\n",
    "#       for j in p=728 pixels...\n",
    "#           sum += weight(j,m) * pixel(i,j)   \n",
    "#       var += sum^2\n",
    "variance=[]\n",
    "for m in range(numEig):\n",
    "    var = 0\n",
    "    for i in range(trainSize):\n",
    "        s=0\n",
    "        dp = np.dot(trainX[i],v[:,m])\n",
    "        s += dp\n",
    "        ss = s*s\n",
    "        var += ss\n",
    "    var /= trainSize\n",
    "    #print(\"m=\",m,\"var=\",var)\n",
    "    variance.append(var)\n",
    "print(variance)\n",
    "# In a separate notebook, we validated the values below by \n",
    "# obtaining the same values with\n",
    "# sklearn.decomposition.PCA.explained_variance_"
   ]
  },
  {
   "cell_type": "markdown",
   "metadata": {},
   "source": [
    "## 2.1\n",
    "Show the scree plot. \n",
    "Note our textbook (James, fig 10.4, page 383)\n",
    "shows scree plots with PVE on the Y-axis. \n",
    "PVE = portion of variance explained.\n",
    "The figures 1 and 2 on the HW plot variance on the Y-axis.\n",
    "We will follow the HW example and plot variance,\n",
    "as in eq 10.7 in James."
   ]
  },
  {
   "cell_type": "code",
   "execution_count": 11,
   "metadata": {},
   "outputs": [
    {
     "data": {
      "image/png": "[encoded data removed]",
      "text/plain": [
       "<Figure size 432x288 with 1 Axes>"
      ]
     },
     "metadata": {
      "needs_background": "light"
     },
     "output_type": "display_data"
    }
   ],
   "source": [
    "# Scree plot of variance per PC\n",
    "plt.plot(variance)\n",
    "plt.ylabel('Variance')\n",
    "plt.xlabel('Principal Component')\n",
    "plt.show()"
   ]
  },
  {
   "cell_type": "markdown",
   "metadata": {},
   "source": [
    "### 2.2\n",
    "Compute the error rate on the testing dataset, when the digit representation includes the first n = 100 principal components. This is the percentage of test digits that have been incorrectly classified."
   ]
  },
  {
   "cell_type": "code",
   "execution_count": 12,
   "metadata": {},
   "outputs": [
    {
     "name": "stdout",
     "output_type": "stream",
     "text": [
      "X (10000, 784)\n",
      "Y (10000, 1)\n",
      "Error rate = 18.260000%\n"
     ]
    }
   ],
   "source": [
    "print(\"X\",testX.shape)\n",
    "print(\"Y\",testY.shape)\n",
    "def compute_error_rate(V):\n",
    "    TESTSIZE=len(testY)\n",
    "    results=[]\n",
    "    for i in range(TESTSIZE):\n",
    "        label = testY[i]\n",
    "        pred = classify(i,V)\n",
    "        zero_one = 0\n",
    "        if (pred==label):\n",
    "            zero_one = 1\n",
    "        results.append(zero_one)\n",
    "    num_correct = np.count_nonzero(results)\n",
    "    #print (num_correct, \"correct out of\", TESTSIZE)\n",
    "    accuracy = 100.0*num_correct/TESTSIZE\n",
    "    err_rate = 100.0*(TESTSIZE-num_correct)/TESTSIZE\n",
    "    return err_rate \n",
    "err_rate = compute_error_rate(v)\n",
    "print (\"Error rate = %f%%\"%err_rate)"
   ]
  },
  {
   "cell_type": "markdown",
   "metadata": {},
   "source": [
    "### 2.3.a\n",
    "Plot the error rate for a number of principal components in the representation that varies from n = 5 to n = 100. Proceed with increments of 5 components at a time. ..."
   ]
  },
  {
   "cell_type": "code",
   "execution_count": 13,
   "metadata": {},
   "outputs": [
    {
     "name": "stdout",
     "output_type": "stream",
     "text": [
      "Using 5 PCs, error rate = 90.810000%\n",
      "Using 10 PCs, error rate = 82.660000%\n",
      "Using 15 PCs, error rate = 70.140000%\n",
      "Using 20 PCs, error rate = 58.880000%\n",
      "Using 25 PCs, error rate = 47.020000%\n",
      "Using 30 PCs, error rate = 37.560000%\n",
      "Using 35 PCs, error rate = 31.000000%\n",
      "Using 40 PCs, error rate = 26.510000%\n",
      "Using 45 PCs, error rate = 23.970000%\n",
      "Using 50 PCs, error rate = 22.120000%\n",
      "Using 55 PCs, error rate = 20.790000%\n",
      "Using 60 PCs, error rate = 19.660000%\n",
      "Using 65 PCs, error rate = 19.010000%\n",
      "Using 70 PCs, error rate = 18.640000%\n",
      "Using 75 PCs, error rate = 18.410000%\n",
      "Using 80 PCs, error rate = 18.340000%\n",
      "Using 85 PCs, error rate = 18.330000%\n",
      "Using 90 PCs, error rate = 18.230000%\n",
      "Using 95 PCs, error rate = 18.180000%\n",
      "Using 100 PCs, error rate = 18.260000%\n"
     ]
    }
   ],
   "source": [
    "# First accumulate a list of error rates.\n",
    "# Do this by ablation i.e. set a range of smaller PC weights to zero.\n",
    "rates = []\n",
    "for base in range(5,100+5,5):\n",
    "    V = np.copy(v)\n",
    "    for i in range(base,100):\n",
    "        V[:,i] = 0 \n",
    "    #print(V[400])\n",
    "    err_rate = compute_error_rate(V)\n",
    "    print (\"Using %d PCs, error rate = %f%%\"%(base,err_rate))\n",
    "    rates.append(err_rate)\n",
    "    "
   ]
  },
  {
   "cell_type": "code",
   "execution_count": 14,
   "metadata": {},
   "outputs": [
    {
     "data": {
      "image/png": "[encoded data removed]",
      "text/plain": [
       "<Figure size 432x288 with 1 Axes>"
      ]
     },
     "metadata": {
      "needs_background": "light"
     },
     "output_type": "display_data"
    }
   ],
   "source": [
    "# Now plot the error rates\n",
    "plt.plot(rates)\n",
    "plt.ylabel('Test Error %')\n",
    "plt.xlabel('Principal Components')\n",
    "plt.xticks(ticks=np.arange(20),labels=np.arange(5, 105, 5)) # X axis labels use step 5\n",
    "plt.show()"
   ]
  },
  {
   "cell_type": "markdown",
   "metadata": {},
   "source": [
    "### 2.3.b\n",
    "... If we are willing to accept an error rate that is up to 20% higher than the best error rate that you found, how many principal components should we use in the representation?\n"
   ]
  },
  {
   "cell_type": "code",
   "execution_count": 15,
   "metadata": {},
   "outputs": [
    {
     "name": "stdout",
     "output_type": "stream",
     "text": [
      "20.000000% better than 18.260000 is 21.912000\n"
     ]
    }
   ],
   "source": [
    "# First, compute 20% of best.\n",
    "best=18.26\n",
    "margin = 0.20\n",
    "print(\"%f%% better than %f is %f\"%(100.0*margin,best,best+(margin*best)))"
   ]
  },
  {
   "cell_type": "markdown",
   "metadata": {},
   "source": [
    "### 2.3.b Solution\n",
    "\n",
    "ERR(100) = 18.26% = BEST      \n",
    "ALLOW = 21.91% = BEST * 120%  \n",
    "ERR(50) = 22.12% = test error with 50 PCS  \n",
    "ERR(55) = 20.79% = test error with 55 PCs  \n",
    "MIN(X) such that ( ERR(X) <= ALLOW ) = 55  \n",
    "\n",
    "Answer = 55."
   ]
  },
  {
   "cell_type": "code",
   "execution_count": null,
   "metadata": {},
   "outputs": [],
   "source": []
  }
 ],
 "metadata": {
  "colab": {
   "collapsed_sections": [],
   "name": "hw4_solution.ipynb",
   "provenance": []
  },
  "kernelspec": {
   "display_name": "Python 3",
   "language": "python",
   "name": "python3"
  },
  "language_info": {
   "codemirror_mode": {
    "name": "ipython",
    "version": 3
   },
   "file_extension": ".py",
   "mimetype": "text/x-python",
   "name": "python",
   "nbconvert_exporter": "python",
   "pygments_lexer": "ipython3",
   "version": "3.8.3"
  }
 },
 "nbformat": 4,
 "nbformat_minor": 1
}
