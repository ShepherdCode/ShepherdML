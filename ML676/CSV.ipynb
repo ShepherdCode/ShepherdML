{
 "cells": [
  {
   "cell_type": "markdown",
   "metadata": {},
   "source": [
    "# CIS 314\n",
    "## Reading a CSV file with python"
   ]
  },
  {
   "cell_type": "code",
   "execution_count": 7,
   "metadata": {},
   "outputs": [
    {
     "name": "stdout",
     "output_type": "stream",
     "text": [
      "The value of X is 1 and Y is 2\n"
     ]
    }
   ],
   "source": [
    "(x,y,z) = (1,2,3)\n",
    "print ( \"The value of X is %d and Y is %d\" % (x,y) )"
   ]
  },
  {
   "cell_type": "code",
   "execution_count": 31,
   "metadata": {},
   "outputs": [
    {
     "name": "stdout",
     "output_type": "stream",
     "text": [
      "Model and PriceRangeLow\n",
      "Camry and 27950\n",
      "Sonata and 36500\n",
      "Fusion and 27555\n",
      "Prius and 23475\n",
      "Optima and 25995\n",
      "Ioniq and 22200\n",
      "Accord and 25100\n",
      "Volt and 33220\n",
      "Malibu and 27920\n",
      "Prius Prime and 27300\n",
      "Bolt and 36620\n",
      "Insight and 22830\n",
      "Sonata and 22050\n",
      "Clarity and 33400\n",
      "C-Max and 24120\n",
      "Fusion and 36595\n",
      "Leaf and 29990\n",
      "Prius C and 20630\n"
     ]
    }
   ],
   "source": [
    "import csv\n",
    "FILENAME = \"Cars.csv\"\n",
    "mycars = []\n",
    "with open (FILENAME) as handle:\n",
    "    reader = csv.reader(handle)\n",
    "    for line in reader:\n",
    "        mycars.append(line)\n",
    "for car in mycars:\n",
    "    print(car[1],\"and\", car[2])\n"
   ]
  },
  {
   "cell_type": "code",
   "execution_count": 29,
   "metadata": {},
   "outputs": [
    {
     "name": "stdout",
     "output_type": "stream",
     "text": [
      "Camry 27950\n",
      "Fusion 27555\n",
      "Prius 23475\n",
      "Optima 25995\n",
      "Accord 25100\n",
      "Prius Prime 27300\n",
      "Leaf 29990\n"
     ]
    }
   ],
   "source": [
    "import csv\n",
    "FILENAME = \"Cars.csv\"\n",
    "mycars = []\n",
    "with open (FILENAME) as handle:\n",
    "    reader = csv.DictReader(handle)\n",
    "    for line in reader:\n",
    "        mycars.append(line)\n",
    "for car in mycars:\n",
    "    if int(car['PriceRangeLow'])<=30000 and int(car['PriceRangeHigh'])>=30000:\n",
    "        print(car['Model'],car['PriceRangeLow'])"
   ]
  },
  {
   "cell_type": "code",
   "execution_count": null,
   "metadata": {},
   "outputs": [],
   "source": []
  }
 ],
 "metadata": {
  "kernelspec": {
   "display_name": "Python 3",
   "language": "python",
   "name": "python3"
  },
  "language_info": {
   "codemirror_mode": {
    "name": "ipython",
    "version": 3
   },
   "file_extension": ".py",
   "mimetype": "text/x-python",
   "name": "python",
   "nbconvert_exporter": "python",
   "pygments_lexer": "ipython3",
   "version": "3.8.3"
  }
 },
 "nbformat": 4,
 "nbformat_minor": 2
}
