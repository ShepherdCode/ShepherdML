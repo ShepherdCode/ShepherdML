{
  "nbformat": 4,
  "nbformat_minor": 0,
  "metadata": {
    "colab": {
      "name": "hw1_solution.ipynb",
      "provenance": []
    },
    "kernelspec": {
      "name": "python3",
      "display_name": "Python 3"
    }
  },
  "cells": [
    {
      "cell_type": "markdown",
      "metadata": {
        "id": "c3aQWTz7YjMP",
        "colab_type": "text"
      },
      "source": [
        "# HW1 Solution\n",
        "## Student Name: \n",
        "\n",
        "---\n",
        "\n",
        "**NOTE:**\n",
        "Change the notebook filename in this way:\n",
        "```\n",
        "hw1_solution_lastname_firstname.ipynb\n",
        "```\n",
        "\n",
        "---\n",
        "\n",
        "As you can see, you can write an inline equation in this way: $P(\\theta)$.\n",
        "\n",
        "Or you can write a block equation in this way\n",
        "$$\n",
        "\\mathcal{N}(\\mu,\\sigma^2) = \\frac{1}{\\sqrt{2 \\pi \\sigma^2}} \\exp{-\\frac{1}{2}\\left(\\frac{x-\\mu}{\\sigma}\\right)^2}\n",
        "$$\n",
        "\n",
        "This is a [Markdown overview](https://colab.research.google.com/notebooks/markdown_guide.ipynb) if you are not familiar with this text editing formalism.\n",
        "\n",
        "---\n"
      ]
    },
    {
      "cell_type": "code",
      "metadata": {
        "id": "wHG2qF-jZhmy",
        "colab_type": "code",
        "colab": {}
      },
      "source": [
        "# You can only import these libraries\n",
        "import matplotlib\n",
        "import matplotlib.pyplot as plt\n",
        "import numpy as np\n"
      ],
      "execution_count": 1,
      "outputs": []
    },
    {
      "cell_type": "markdown",
      "metadata": {
        "id": "FlLcVkQuYw1r",
        "colab_type": "text"
      },
      "source": [
        "## Problem 1 Solution\n",
        "\n",
        "Write here the solution to this problem using Markdown.\n",
        "\n"
      ]
    },
    {
      "cell_type": "markdown",
      "metadata": {
        "id": "A0uRrmF8Zq6R",
        "colab_type": "text"
      },
      "source": [
        "## Problem 2 Solution\n",
        "\n",
        "Write here the solution to this problem using Markdown.\n"
      ]
    },
    {
      "cell_type": "markdown",
      "metadata": {
        "id": "RdEVo5a-a8Kj",
        "colab_type": "text"
      },
      "source": [
        "## Problem 3 Solution\n",
        "\n",
        "Write here the solution to this problem using Markdown."
      ]
    },
    {
      "cell_type": "markdown",
      "metadata": {
        "colab_type": "text",
        "id": "MCub3fk1bTEE"
      },
      "source": [
        "## Problem 4 Solution\n",
        "\n",
        "Write here the solution to this problem using Markdown."
      ]
    },
    {
      "cell_type": "markdown",
      "metadata": {
        "colab_type": "text",
        "id": "MFMdYc-wbYCp"
      },
      "source": [
        "## Problem 5 Solution\n",
        "\n",
        "Write here the solution to this problem using Markdown."
      ]
    },
    {
      "cell_type": "code",
      "metadata": {
        "id": "clabb3LrbQsT",
        "colab_type": "code",
        "colab": {}
      },
      "source": [
        "# Code to solve Problem 5\n",
        "# Remember that only numpy and matplotlib can be used"
      ],
      "execution_count": null,
      "outputs": []
    },
    {
      "cell_type": "markdown",
      "metadata": {
        "colab_type": "text",
        "id": "vQGJylcXbihQ"
      },
      "source": [
        "## Problem 6 Solution\n",
        "\n",
        "Write here the solution to this problem using Markdown."
      ]
    },
    {
      "cell_type": "code",
      "metadata": {
        "id": "tu4_h-XbblXO",
        "colab_type": "code",
        "colab": {}
      },
      "source": [
        "# Code to solve Problem 6\n",
        "# Remember that only numpy and matplotlib can be used"
      ],
      "execution_count": null,
      "outputs": []
    },
    {
      "cell_type": "markdown",
      "metadata": {
        "colab_type": "text",
        "id": "fb8w2ABfbqTE"
      },
      "source": [
        "## Problem 7 Solution\n",
        "\n",
        "Write the solution to this problem using Markdown."
      ]
    },
    {
      "cell_type": "markdown",
      "metadata": {
        "colab_type": "text",
        "id": "v_sYp0kRbzOX"
      },
      "source": [
        "## Problem 8 Solution\n",
        "\n",
        "Write here the solution to this problem using Markdown."
      ]
    },
    {
      "cell_type": "code",
      "metadata": {
        "id": "HjW8SWZp_aJX",
        "colab_type": "code",
        "colab": {}
      },
      "source": [
        "\n",
        "# get MNIST data from online repository\n",
        "# Getting the dataset is the only reason why we used sklearn. It cannot be used for other purposes\n",
        "from sklearn.datasets import fetch_openml\n",
        "x, y = fetch_openml('mnist_784', version=1, return_X_y=True)\n",
        "\n",
        "# convert string labels to integers\n",
        "y = np.array([int(v) for v in y])[:,np.newaxis]\n",
        "\n",
        "print(np.shape(x))\n",
        "print(np.shape(y))"
      ],
      "execution_count": null,
      "outputs": []
    },
    {
      "cell_type": "code",
      "metadata": {
        "id": "ZtJZSOLf-b31",
        "colab_type": "code",
        "colab": {}
      },
      "source": [
        "# Code to solve Problem 8\n",
        "# Remember that only numpy and matplotlib can be used"
      ],
      "execution_count": null,
      "outputs": []
    },
    {
      "cell_type": "markdown",
      "metadata": {
        "colab_type": "text",
        "id": "pNNMt-N0b5ct"
      },
      "source": [
        "## Problem 9 Solution\n",
        "\n",
        "Write here the solution to this problem using Markdown."
      ]
    },
    {
      "cell_type": "code",
      "metadata": {
        "id": "0no_e79Vo_IJ",
        "colab_type": "code",
        "colab": {}
      },
      "source": [
        "# get Boston Housing data from online repository\n",
        "# Getting the dataset is the only reason why we used sklearn. It cannot be used for other purposes\n",
        "from sklearn.datasets import load_boston\n",
        "\n",
        "dataset = load_boston()\n",
        "target = np.array(dataset.feature_names) == \"DIS\"\n",
        "X = dataset.data[:, np.logical_not(target)]\n",
        "Y = dataset.data[:, target].squeeze()\n",
        "\n",
        "print(np.shape(X))\n",
        "print(np.shape(Y))"
      ],
      "execution_count": null,
      "outputs": []
    },
    {
      "cell_type": "code",
      "metadata": {
        "id": "TA9c2DRpb9cv",
        "colab_type": "code",
        "colab": {}
      },
      "source": [
        "# Code to solve Problem 9\n",
        "# Remember that only numpy and matplotlib can be used"
      ],
      "execution_count": null,
      "outputs": []
    }
  ]
}