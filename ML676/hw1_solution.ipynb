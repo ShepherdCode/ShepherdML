{
 "cells": [
  {
   "cell_type": "markdown",
   "metadata": {
    "id": "c3aQWTz7YjMP"
   },
   "source": [
    "# HW1 Solution\n",
    "## Courtesy of Matthew Keaton - Revised by the instructor\n",
    "\n"
   ]
  },
  {
   "cell_type": "code",
   "execution_count": 2,
   "metadata": {
    "id": "wHG2qF-jZhmy"
   },
   "outputs": [],
   "source": [
    "# You can only import these libraries\n",
    "import matplotlib\n",
    "import matplotlib.pyplot as plt\n",
    "import numpy as np\n"
   ]
  },
  {
   "cell_type": "code",
   "execution_count": null,
   "metadata": {
    "id": "sxY5KvAAlsEe"
   },
   "outputs": [],
   "source": []
  },
  {
   "cell_type": "markdown",
   "metadata": {
    "id": "FlLcVkQuYw1r"
   },
   "source": [
    "## Problem 1 Solution\n",
    "\n",
    "The definition of conditional probability, $\\displaystyle P(A|B) = \\frac{P(A \\wedge B)}{P(B)}$, allows us to write $P(A \\wedge B) = P(A|B)P(B)$, also known as the Chain Rule. By flipping the role of $A$ and $B$ we also have $P(A \\wedge B) = P(B|A)P(A)$, from which it follows that $P(A|B)P(B)=P(B|A)P(A)$. Dividing both sides by $P(B)$, we arrive at\n",
    "$$\n",
    "\\boxed{\n",
    "P(A|B) = \\frac{P(B|A)P(A)}{P(B)}}\n",
    "$$\n",
    "\n"
   ]
  },
  {
   "cell_type": "markdown",
   "metadata": {
    "id": "A0uRrmF8Zq6R"
   },
   "source": [
    "## Problem 2 Solution\n",
    "\n",
    "$1.$\n",
    "\n",
    "$$P(X=0) = P(X=0|Y=a) + P(X=0|Y=b)$$\n",
    "\n",
    "$$=\\frac{21}{125} + \\frac{7}{125} = \\frac{28}{125} = \\boxed{0.224}$$\n",
    "\n",
    "$2.$\n",
    "\n",
    "$$P(X=0,Y=b) = \\frac{7}{125} = \\boxed{0.056}$$\n",
    "\n",
    "$3.$\n",
    "\n",
    "$$\n",
    "P({X=0} \\cup {Y=b}) = P(X=0) + P(Y=b) - P(X=0, Y=b) \\\\\n",
    "=(P(X=0,Y=a) + P(X=0,Y=b)) + (P(X=0,Y=b) + P(X=1,Y=b)) - P(X=0,Y=b)\n",
    "$$\n",
    "$$\n",
    "=\\frac{21}{125} + \\frac{7}{125} + \\frac{13}{125} = \\boxed {0.328}\n",
    "$$\n",
    "\n",
    "$4.$\n",
    "\n",
    "$$\n",
    "P(X=0|Y=b) = \\frac{P(X=0, Y=b)}{P(Y=b)} = \\frac{P(X=0,Y=b)}{P(X=0,Y=b)+P(X=1,Y=b)}\n",
    "$$\n",
    "\n",
    "$$\n",
    "= \\frac{\\frac{7}{125}}{\\frac{7}{125} + \\frac{13}{125}} = \\frac{7}{20} = \\boxed{0.35}\n",
    "$$\n",
    "\n",
    "$5.$\n",
    "\n",
    "$$\n",
    "\\begin{align*}\n",
    "P(Y) & = P(Y,X=0) + P(Y,X=1) \\text{, using the total probability rule for binary variables} \\\\\n",
    "& = P(Y|X=0)P(X=0) + P(Y|X=1)P(X=1) \\text{, using the Chain Rule}\n",
    "\\end{align*}\n",
    "$$\n",
    "\n",
    "Using $P(Y=b)$:\n",
    "\n",
    "$$\n",
    "P(Y=b) = P(Y=b|X=0)P(X=0) + P(Y=b|X=1)P(X=1) \\\\\n",
    "= \\left(\\frac{7}{21+7}\\right)\\left(\\frac{21+7}{125}\\right) + \\left(\\frac{13}{84+13}\\right)\\left(\\frac{84+12}{125}\\right) \\\\\n",
    "= \\frac{7}{125} + \\frac{13}{125} = \\frac{20}{125} \\\\\n",
    "= \\boxed{0.16}\n",
    "$$"
   ]
  },
  {
   "cell_type": "markdown",
   "metadata": {
    "id": "RdEVo5a-a8Kj"
   },
   "source": [
    "## Problem 3 Solution\n",
    "\n",
    "$P(X,Y,Z)$ can be expressed in terms of a singular marginal probability with a few conditional probabilities using the general form of the Chain Rule, or by applying the Chain Rule twice:\n",
    "\n",
    "$$\n",
    "\\begin{align*}\n",
    "P(X,Y,Z) & = P(X|Y,Z)P(Y,Z) \\\\\n",
    "& = \\boxed{P(X|Y,Z)P(Y|Z)P(Z)}\n",
    "\\end{align*}\n",
    "$$"
   ]
  },
  {
   "cell_type": "markdown",
   "metadata": {
    "id": "MCub3fk1bTEE"
   },
   "source": [
    "## Problem 4 Solution\n",
    "\n",
    "$1.$\n",
    "From the low of total probability we know that\n",
    "$$\n",
    "P(X)=\\sum_y P(X,Y)=\\sum_y P(X|Y)P(Y)\n",
    "$$\n",
    "By using the low of total probability again and the fact that $Y$ and $Z$ are independent we also have\n",
    "$$\n",
    "P(X|Y)=\\sum_z P(X,Z|Y)=\\sum_z P(X|Y,Z)P(Z)\n",
    "$$\n",
    "Therefore\n",
    "\n",
    "$$P(X=1|Y=1) = P(X=1|Y=1,Z=0)P(Z=0) + P(X=1|Y=1,Z=1)P(Z=1) = 0.1\\cdot0.2 +0.6\\cdot0.8 = 0.5$$\n",
    "\n",
    "Using this again for $Y$,\n",
    "\n",
    "$$P(X=1) = P(X=1|Y=0)P(Y=0) + P(X=1|Y=1)P(Y=1) = 0.2\\cdot0.1 + 0.5\\cdot0.9 = \\boxed{0.47}$$\n",
    "\n",
    "$2.$\n",
    "\n",
    "$$\n",
    "\\begin{align*}\n",
    "E[Y] & = \\sum_{y \\in \\mathcal{Y}}yP(Y=y) \\\\\n",
    "& = 0 \\cdot P(Y=0) + 1 \\cdot P(Y=1) = P(Y=1) \\\\\n",
    "& = \\boxed{0.9}\n",
    "\\end{align*}\n",
    "$$\n",
    "\n",
    "$3.$\n",
    "\n",
    "$$\n",
    "\\begin{align*}\n",
    "E[Y] & = \\sum_{y \\in \\mathcal{Y}}yP(Y=y) \\\\\n",
    "& = 25 \\cdot P(Y=25) + 120 \\cdot P(Y=120) \\\\\n",
    "& = 25 \\cdot (1 - P(Y=25)) + 120 \\cdot P(Y=120) \\\\\n",
    "& = 25 \\cdot(1 - 0.9) + 120 \\cdot 0.9 \\\\\n",
    "& = 2.5 + 108 = \\boxed{110.5}\n",
    "\\end{align*}\n",
    "$$\n",
    "\n"
   ]
  },
  {
   "cell_type": "markdown",
   "metadata": {
    "id": "MFMdYc-wbYCp"
   },
   "source": [
    "## Problem 5 Solution\n",
    "\n",
    "$1.$\n",
    "\n",
    "Given that the stated problem is a binomial distribution, the likelihood would take the form $$P(X_1, ... , X_n|\\theta) = \\prod_{i:X_i=H} \\theta \\prod_{i:X_i=T} (1-\\theta).$$\n",
    "This simplifies to $$P(X_1, ... , X_n|\\theta) = \\theta^{\\alpha_H}(1-\\theta)^{\\alpha_T}$$\n",
    "\n",
    "$2., 3.$\n",
    "\n",
    "Parts 2 and 3 are shown below."
   ]
  },
  {
   "cell_type": "code",
   "execution_count": null,
   "metadata": {
    "colab": {
     "base_uri": "https://localhost:8080/",
     "height": 301
    },
    "id": "clabb3LrbQsT",
    "outputId": "895a8f0c-e848-4db6-d4d2-d6cdb7c5db01"
   },
   "outputs": [
    {
     "data": {
      "image/png": "[encoded data removed]",
      "text/plain": [
       "<Figure size 432x288 with 1 Axes>"
      ]
     },
     "metadata": {
      "needs_background": "light",
      "tags": []
     },
     "output_type": "display_data"
    }
   ],
   "source": [
    "heads = 8; tails = 4\n",
    "theta = np.arange(0, 1.01, 0.01)\n",
    "L = np.zeros(len(theta))\n",
    "for i, t in enumerate(theta):\n",
    "  L[i] = t**heads * (1-t)**tails\n",
    "mle = theta[np.where(L == np.amax(L))]\n",
    "plt.plot(theta, L)\n",
    "plt.axvline(x=mle, color='r', linestyle='-')\n",
    "plt.title(r'Likelihood Distribution of Coin Flips As A Function of $\\theta$, Given 8 Heads and 4 Tails')\n",
    "plt.xlabel(r'Probability $\\theta$ of Flipping Heads')\n",
    "plt.ylabel(r'Likelihood $L$')\n",
    "plt.show()"
   ]
  },
  {
   "cell_type": "markdown",
   "metadata": {
    "id": "SqOXQPz2hRGY"
   },
   "source": [
    "The MLE estimate above agrees with the empirical mean, $(\\sum_i X_i)/n = 8/12 \\approx 0.67.$\n",
    "\n",
    "$4.$\n",
    "\n",
    "Experiment 2 is shown below."
   ]
  },
  {
   "cell_type": "code",
   "execution_count": null,
   "metadata": {
    "colab": {
     "base_uri": "https://localhost:8080/",
     "height": 301
    },
    "id": "45WcvoybiPiJ",
    "outputId": "114b0af6-44ec-4dde-aba2-df5a831f63c0"
   },
   "outputs": [
    {
     "data": {
      "image/png": "[encoded data removed]",
      "text/plain": [
       "<Figure size 432x288 with 1 Axes>"
      ]
     },
     "metadata": {
      "needs_background": "light",
      "tags": []
     },
     "output_type": "display_data"
    }
   ],
   "source": [
    "heads = 4; tails = 2\n",
    "for i, t in enumerate(theta):\n",
    "  L[i] = t**heads * (1-t)**tails\n",
    "mle = theta[np.where(L == np.amax(L))]\n",
    "plt.plot(theta, L)\n",
    "plt.axvline(x=mle, color='r', linestyle='-')\n",
    "plt.title(r'Likelihood Distribution of Coin Flips As A Function of $\\theta$, Given 4 Heads and 2 Tails')\n",
    "plt.xlabel(r'Probability $\\theta$ of Flipping Heads')\n",
    "plt.ylabel(r'Likelihood $L$')\n",
    "plt.show()"
   ]
  },
  {
   "cell_type": "code",
   "execution_count": null,
   "metadata": {
    "colab": {
     "base_uri": "https://localhost:8080/",
     "height": 301
    },
    "id": "gYsBbVxpiscc",
    "outputId": "ac432207-b57d-4127-9b3e-aff101da6c47"
   },
   "outputs": [
    {
     "data": {
      "image/png": "[encoded data removed]",
      "text/plain": [
       "<Figure size 432x288 with 1 Axes>"
      ]
     },
     "metadata": {
      "needs_background": "light",
      "tags": []
     },
     "output_type": "display_data"
    }
   ],
   "source": [
    "heads = 80; tails = 40\n",
    "for i, t in enumerate(theta):\n",
    "  L[i] = t**heads * (1-t)**tails\n",
    "mle = theta[np.where(L == np.amax(L))]\n",
    "plt.plot(theta, L)\n",
    "plt.axvline(x=mle, color='r', linestyle='-')\n",
    "plt.title(r'Likelihood Distribution of Coin Flips As A Function of $\\theta$, Given 80 Heads and 40 Tails')\n",
    "plt.xlabel(r'Probability $\\theta$ of Flipping Heads')\n",
    "plt.ylabel(r'Likelihood $L$')\n",
    "plt.show()"
   ]
  },
  {
   "cell_type": "markdown",
   "metadata": {
    "id": "u44zAymFkHzL"
   },
   "source": [
    "$5.$\n",
    "\n",
    "In each experiment above, the likelihood graphs exhibit a maximum, or in other words the Maximum Likelihood Estimation, at 0.67. This is consistent with the empirical averages in each scenario. Additionally, the likelihood plots become more \"certain\", where the distribution becomes less spread out as the sample size increases. This is consistent with the notion that gathering more information via continued trials increases our confidence that the true probability of flipping heads is at or near the calculated maximum likelihood."
   ]
  },
  {
   "cell_type": "markdown",
   "metadata": {
    "id": "vQGJylcXbihQ"
   },
   "source": [
    "## Problem 6 Solution\n",
    "\n",
    "$1.$\n",
    "\n",
    "The normalized plot for the first section of this problem is shown below."
   ]
  },
  {
   "cell_type": "code",
   "execution_count": 9,
   "metadata": {
    "colab": {
     "base_uri": "https://localhost:8080/",
     "height": 301
    },
    "id": "tu4_h-XbblXO",
    "outputId": "ec22ffd8-53a9-4235-e912-8302b9f07ddc"
   },
   "outputs": [
    {
     "data": {
      "image/png": "[encoded data removed]",
      "text/plain": [
       "<Figure size 432x288 with 1 Axes>"
      ]
     },
     "metadata": {
      "needs_background": "light",
      "tags": []
     },
     "output_type": "display_data"
    }
   ],
   "source": [
    "#1.\n",
    "b_h = 2; b_t = 5\n",
    "theta = np.arange(0, 1.01, 0.01)\n",
    "prior = np.zeros(len(theta))\n",
    "for i,t in enumerate(theta):\n",
    "   prior[i] = t**(b_h-1) * (1-t)**(b_t-1)\n",
    "total_mass = np.sum(prior)\n",
    "normalized_prior = prior / total_mass # Normalization\n",
    "plt.plot(theta, normalized_prior)\n",
    "plt.title(r'Prior Probability of Coin Flips As A Function of $\\theta$, Given $\\beta_H$ = 2 and $\\beta_T$ = 5')\n",
    "plt.xlabel(r'Probability $\\theta$ of Flipping Heads')\n",
    "plt.ylabel(r'Likelihood $L$')\n",
    "plt.show()"
   ]
  },
  {
   "cell_type": "markdown",
   "metadata": {
    "id": "f-TraRGohwMG"
   },
   "source": [
    "$2.$\n",
    "\n",
    "The un-normalized posterior plot for the second section of this problem is shown below."
   ]
  },
  {
   "cell_type": "code",
   "execution_count": 10,
   "metadata": {
    "colab": {
     "base_uri": "https://localhost:8080/",
     "height": 318
    },
    "id": "tyJfiMksj0nx",
    "outputId": "f6d8ff5a-5c8f-4ecc-ba83-456788cf5515"
   },
   "outputs": [
    {
     "data": {
      "image/png": "[encoded data removed]",
      "text/plain": [
       "<Figure size 432x288 with 1 Axes>"
      ]
     },
     "metadata": {
      "needs_background": "light",
      "tags": []
     },
     "output_type": "display_data"
    },
    {
     "name": "stdout",
     "output_type": "stream",
     "text": [
      "Maximum a posteriori (MAP): 0.53\n"
     ]
    }
   ],
   "source": [
    "heads = 8; tails = 4\n",
    "theta = np.arange(0, 1.01, 0.01)\n",
    "L = np.zeros(len(theta))\n",
    "\n",
    "for i, t in enumerate(theta):\n",
    "  L[i] = t**heads * (1-t)**tails\n",
    "posterior = np.multiply(L, prior)\n",
    "map = theta[np.where(posterior == np.amax(posterior))][0]\n",
    "\n",
    "plt.plot(theta, posterior)\n",
    "plt.axvline(x=map, color='r', linestyle='-')\n",
    "plt.title(r'Un-normalized Posterior Plot of Coin Flip Problem, Given 8 Heads, 4 Tails, $\\beta_H$ = 2, and $\\beta_T$ = 5')\n",
    "plt.xlabel(r'Probability $\\theta$ of Flipping Heads')\n",
    "plt.ylabel(r'Un-normalized Posterior Probability')\n",
    "plt.show()\n",
    "print('Maximum a posteriori (MAP): {}'.format(map))"
   ]
  },
  {
   "cell_type": "markdown",
   "metadata": {
    "id": "SgKKey_QlKhW"
   },
   "source": [
    "As can be seen above, the $\\hat \\theta^{MAP}$ is shifted to the left from $\\hat \\theta^{MLE}$, due to the influence of the provided prior on the likelihood estimation. $\\hat \\theta^{MAP}$ takes more than the empirical trial data into account, resulting in a difference between the two estimations."
   ]
  },
  {
   "cell_type": "markdown",
   "metadata": {
    "id": "fb8w2ABfbqTE"
   },
   "source": [
    "## Problem 7 Solution\n",
    "\n",
    "a.)\n",
    "The statement $X \\perp Y | Z$ is the definition of conditional independence. In other words, the two events $X$ and $Y$ are independent when $Z$ is given. Because of this, finding the probability of $X$ and $Y$ given $Z$, or $P(X,Y|Z)$ is equivalent to finding the probability of $X$ given $Z$ and $Y$ given $Z$, or $P(X|Z)P(Y|Z).$ Thus, $P(X,Y|Z)=P(X|Z)P(Y|Z).$\n",
    "\n",
    "b.)\n",
    "$\\displaystyle P(X,Y)=\\sum_z P(X,Y,Z)=\\sum_z P(X,Y|Z)P(Z) = \\sum_z P(X|Z) P(Y|Z)P(Z)$\n",
    "\n",
    "From the expression above where we first applied the low of total probability and then the fact that $X$ and $Y$ are conditionally independent given $Z$, it is clear that for the given statement to be true we would also require that $X$ and $Z$ be independent, and that $Y$ and $Z$ be independent. Since we do not know that, the statement is false.\n",
    "\n",
    "c.)\n",
    "The total number of independent parameters $p_{ij}$would be $nC.$. Note given how the question is posed, it is as if the components were considered independent. This is the typical assumption of Naive Bayes.\n",
    "\n",
    "d.)\n",
    "The number of independent parameters $\\mu_{ij}, \\sigma_{ij}$ will be $2nC$. Again it is as if the components were considered independent, given the question.\n",
    "\n",
    "e.)\n",
    "The denominator of the Naive Bayes classifier is typically ignored, as it represents a normalization factor which has no impact on the estimation of the prediction. Indeed, given the components $X_i$ the normalization factor is constant, this means that the location of the maximum $y_k$ will not change.\n",
    "\n",
    "f.)\n",
    "For a single sample $X$ we could compute the probability as follows\n",
    "$$\n",
    "P(X) = \\sum_y P(X,Y) = \\sum_y P(X|Y)P(Y) \\approx \\sum_y \\prod_j P(X_j|Y)P(Y)\n",
    "$$\n",
    "where in the last step we have made the Naive Bayes assumption, and here $X_j$ represents the $j$-th component of the input sample $X$."
   ]
  },
  {
   "cell_type": "markdown",
   "metadata": {
    "id": "v_sYp0kRbzOX"
   },
   "source": [
    "## Problem 8 Solution\n",
    "\n",
    "a.)\n",
    "Notation: $\\tilde x^T = [1 \\;x^T]$, $\\mathbf{w}_t^T =[w_{t0} \\; w_t^T]$\n",
    "\n",
    "The general expression for log likelihood is \n",
    "\n",
    "$$\n",
    "L(\\mathbf{w}_1,...,\\mathbf{w}_{K-1}) = L(\\textbf{w}) = \\ln \\prod_{i=1}^M P(Y=y_i|X=x_i,\\textbf{w})\n",
    "$$\n",
    "\n",
    "where\n",
    "\n",
    "$$\n",
    "P(Y=y_i|X=x_i,\\mathbf{w}) = \\frac{\\exp(\\textbf{w}_{y_i}^T \\tilde x_i)}{\\sum_{t=1}^K \\exp(\\textbf{w}_t^T \\tilde x_i)}$$\n",
    "\n",
    "Adding in the formula for the prior and simplifying,\n",
    "\n",
    "$$L(\\textbf{w}) = \\ln \\prod_i\\frac{\\exp(\\textbf{w}_{y_i}^T \\tilde x_i)}{\\sum_{t=1}^K \\exp(\\textbf{w}_t^T \\tilde x_i)} \\\\\n",
    "= \\sum_i \\ln \\frac{\\exp(\\textbf{w}_{y_i}^T \\tilde x_i)}{\\sum_{t=1}^K \\exp(\\textbf{w}_t^T \\tilde x_i)} \\\\\n",
    "= \\sum_i \\left(\\textbf{w}_{y_i}^T \\tilde x_i - \\ln \\sum_{t=1}^K \\exp(\\textbf{w}_t^T \\tilde x_i) \\right)$$\n",
    "\n",
    "With $L_2$ regularization, this becomes\n",
    "\n",
    "$$\n",
    "\\boxed{L(\\textbf{w}) = \\sum_{i=1}^M \\left(\\textbf{w}_{y_i}^T \\tilde x_i - \\ln \\sum_{t=1}^K \\exp(\\textbf{w}_t^T \\tilde x_i) \\right) - \\sum_{t=1}^{K-1} \\frac{w_t^Tw_t}{2 \\kappa^2}}\n",
    "$$\n",
    "\n",
    "Note that the regularization is applied to all the weights, but we usually do not apply it to the biases.\n",
    "\n",
    "b.)\n",
    "$$\n",
    "\\frac{\\partial L(\\mathbf{w})}{\\partial \\mathbf{w}_t} = \\sum_i 1[y_i=t] \\tilde x_i^T - \\tilde x_i^T \\frac{\\exp(\\textbf{w}_t^T \\tilde x_i)}{\\sum_{t=1}^K \\exp(\\textbf{w}_t^T \\tilde x_i)} - \\frac{[0 \\; w_t^T]}{\\kappa^2} \n",
    "$$\n",
    "\n",
    "Which is equivalent to\n",
    "\n",
    "$$\n",
    "\\frac{\\partial L(\\mathbf{w})}{\\partial \\mathbf{w}_t} = \\sum_i \\tilde x_i^T \\left( 1[y_i=t] - P(Y=t|X=x_i,\\mathbf{w}) \\right) - \\frac{[0 \\; w_t^T]}{\\kappa^2}\n",
    "$$\n",
    "\n",
    "The $(j+1)$ update of the main gradient ascent algorithm will look like the following:\n",
    "\n",
    "$$\n",
    "\\boxed{\\mathbf{w}_t^{(j+1)} \\leftarrow \\mathbf{w}_t^{(j)} + \\eta \\left( \\sum_i \\tilde x_i^T \\left( 1[y_i=t] - P(Y=t|X=x_i,\\mathbf{w}^{(j)}) \\right) - \\frac{[0 \\; {w_t^T}^{(j)}]}{\\kappa^2} \\right)}\n",
    "$$\n",
    "\n",
    "\n",
    "d.)\n",
    "Gradient ascent is never guaranteed to converge to the global maximum. Each iteration of the ascent algorithm pushes the weights in the direction of a local maximum, and as the weights approach this position, the gradient will tend to decrease, causing the weights to slowly rest at this position.\n",
    "\n"
   ]
  },
  {
   "cell_type": "code",
   "execution_count": null,
   "metadata": {
    "colab": {
     "base_uri": "https://localhost:8080/",
     "height": 53
    },
    "id": "HjW8SWZp_aJX",
    "outputId": "edac9f66-0294-414e-d7bb-9d8fce8b945e"
   },
   "outputs": [
    {
     "name": "stdout",
     "output_type": "stream",
     "text": [
      "(70000, 785)\n",
      "(70000, 1)\n"
     ]
    }
   ],
   "source": [
    "# get MNIST data from online repository\n",
    "# Getting the dataset is the only reason why we used sklearn. It cannot be used for other purposes\n",
    "from sklearn.datasets import fetch_openml\n",
    "x, y = fetch_openml('mnist_784', version=1, return_X_y=True)\n",
    "\n",
    "# convert string labels to integers\n",
    "y = np.array([int(v) for v in y])[:,np.newaxis]\n",
    "\n",
    "# Adding element (1) to input vector to account for bias\n",
    "x = np.append(x, np.ones((len(x), 1)), axis = 1)\n",
    "print(np.shape(x))\n",
    "print(np.shape(y))"
   ]
  },
  {
   "cell_type": "markdown",
   "metadata": {
    "id": "pNNMt-N0b5ct"
   },
   "source": [
    "## Problem 9 Solution\n",
    "\n",
    "$1.$\n",
    "We want to perform an MLE estimation of $\\beta$ under the assumption of a Laplacian noise model, rather than a Gaussian noise model. The conditional likelyhood of the data becomes\n",
    "\n",
    "$$\n",
    "L(\\beta) = \\prod_{i=1}^n P(Y_i|X_i; \\beta) = \\prod_i \\frac{1}{2b} \\exp\\left({-\\frac{|Y_i-X_i^T\\beta|}{b}}\\right)\n",
    "$$\n",
    "\n",
    "the logarithm of the likelyhood becomes\n",
    "\n",
    "$$\n",
    "\\ln L(\\beta) = \\sum_{i} \\ln \\left( \\frac{1}{2b} \\right) - \\frac{|Y_i-X_i^T\\beta|}{b}\n",
    "$$\n",
    "\n",
    "By eliminating the constant terms and factors, and by taking the negative, we obtain the MLE cost funtion that we want to minimize to estimate $\\beta$, i.e.,\n",
    "\n",
    "$$\n",
    "J_L(\\beta) = \\sum_{i} |Y_i-X_i^T\\beta|\n",
    "$$\n",
    "\n",
    "\n",
    "$2.$\n",
    "\n",
    "a.)\n",
    "Let's start from the following equation, which is the MAP estimation principle\n",
    "\n",
    "$$ \n",
    "\\hat \\beta_{MAP} = \\arg \\max_\\beta \\prod_{i=1}^n P(Y_i|X_i; \\beta)P(\\beta)\n",
    "$$\n",
    "\n",
    "take the logarithm\n",
    "\n",
    "$$ \n",
    "\\hat \\beta_{MAP} = \\arg \\max_\\beta \\ln \\prod_{i=1}^n P(Y_i|X_i; \\beta)P(\\beta)\n",
    "$$\n",
    "\n",
    "$$ \n",
    "\\hat \\beta_{MAP} = \\arg \\max_\\beta \\sum_{i=1}^n \\ln P(Y_i|X_i; \\beta)P(\\beta) \\\\\n",
    "= \\arg \\max_\\beta \\sum_{i=1}^n \\ln P(Y_i|X_i; \\beta) + \\sum_{i=1}^n \\ln P(\\beta)\n",
    "$$\n",
    "\n",
    "we assume a Gaussian prior for $\\beta$ where $P(\\beta) \\sim \\mathcal{N}(0,I\\sigma^2/\\lambda)$\n",
    "\n",
    "$$ \n",
    "\\hat \\beta_{MAP} \n",
    "= \\arg \\max_\\beta \\sum_{i=1}^n \\ln P(Y_i|X_i; \\beta) + \\sum_{i=1}^n \\ln \\left( \\left( \\frac{\\lambda}{2\\pi\\sigma^2}\\right)^{\\frac{m}{2}} \\exp \\left( - \\frac{\\lambda}{2} \\frac{\\beta^T \\beta}{\\sigma^2} \\right) \\right) \\\\\n",
    "$$\n",
    "\n",
    "We now note that the first summation is simply the log likelyhood under the Gaussian noise model. Therefore, by taking the negative sign and removing the constant terms and factors we know that it reduces to $J(\\beta)$ as expressed in the homework Problem 9. By doing the same thing on the second summation we get\n",
    "\n",
    "$$ \n",
    "\\boxed{\\hat \\beta_{MAP} \n",
    "= \\arg \\min_\\beta \\sum_{i=1}^n (Y_i-X_i^T\\beta) + \\lambda \\beta^T \\beta}\n",
    "$$\n",
    "\n",
    "Thus, the assumption that the prior $\\beta$ follows a Gaussian distribution is functionally equivalent to applying $L_2$ normalization to the $\\hat \\beta$ estimation function.\n",
    "\n",
    "b.)\n",
    "When $\\lambda \\rightarrow 0$ the covariance of the prior diverges (variances going to infinity), indicating complete absence of knowledge about what the parameters might be. So, we are under complete uncertainty, and indeed absence of prior.\n",
    "\n",
    "When $\\lambda \\rightarrow \\infty$ the covariance of the prior converges (variances going to zero), indicating more and more complete certainty about potential values for the parameters. So, we become under complete control of what the prior tells us. "
   ]
  },
  {
   "cell_type": "code",
   "execution_count": null,
   "metadata": {
    "colab": {
     "base_uri": "https://localhost:8080/",
     "height": 53
    },
    "id": "0no_e79Vo_IJ",
    "outputId": "ab0a00ae-ed83-4ce8-fcb3-5cce57fd10cb"
   },
   "outputs": [
    {
     "name": "stdout",
     "output_type": "stream",
     "text": [
      "(506, 12)\n",
      "(506,)\n"
     ]
    }
   ],
   "source": [
    "# get Boston Housing data from online repository\n",
    "# Getting the dataset is the only reason why we used sklearn. It cannot be used for other purposes\n",
    "from sklearn.datasets import load_boston\n",
    "\n",
    "dataset = load_boston()\n",
    "target = np.array(dataset.feature_names) == \"DIS\"\n",
    "X = dataset.data[:, np.logical_not(target)]\n",
    "Y = dataset.data[:, target].squeeze()\n",
    "\n",
    "print(np.shape(X))\n",
    "print(np.shape(Y))"
   ]
  }
 ],
 "metadata": {
  "colab": {
   "collapsed_sections": [],
   "name": "hw1_full_solution.ipynb",
   "provenance": []
  },
  "kernelspec": {
   "display_name": "Python 3",
   "language": "python",
   "name": "python3"
  },
  "language_info": {
   "codemirror_mode": {
    "name": "ipython",
    "version": 3
   },
   "file_extension": ".py",
   "mimetype": "text/x-python",
   "name": "python",
   "nbconvert_exporter": "python",
   "pygments_lexer": "ipython3",
   "version": "3.8.3"
  }
 },
 "nbformat": 4,
 "nbformat_minor": 1
}
