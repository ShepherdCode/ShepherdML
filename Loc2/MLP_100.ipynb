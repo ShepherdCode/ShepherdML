{
 "cells": [
  {
   "cell_type": "markdown",
   "metadata": {
    "id": "PG-tGRnlFLA3"
   },
   "source": [
    "# MLP\n",
    "Gudenas data"
   ]
  },
  {
   "cell_type": "code",
   "execution_count": 1,
   "metadata": {
    "colab": {
     "base_uri": "https://localhost:8080/"
    },
    "id": "0RmwUsVLFLA6",
    "outputId": "0b166437-0c80-44e9-eaad-232c056ef15f"
   },
   "outputs": [
    {
     "name": "stdout",
     "output_type": "stream",
     "text": [
      "2023-07-13 12:56:43.629012\n"
     ]
    }
   ],
   "source": [
    "from datetime import datetime\n",
    "print(datetime.now())"
   ]
  },
  {
   "cell_type": "code",
   "execution_count": 2,
   "metadata": {
    "colab": {
     "base_uri": "https://localhost:8080/"
    },
    "id": "OlzN9OdsFWEU",
    "outputId": "aaa12507-ef54-4ee1-e52e-8b8ed24ef257"
   },
   "outputs": [
    {
     "name": "stderr",
     "output_type": "stream",
     "text": [
      "2023-07-13 12:56:43.659809: I tensorflow/core/platform/cpu_feature_guard.cc:193] This TensorFlow binary is optimized with oneAPI Deep Neural Network Library (oneDNN) to use the following CPU instructions in performance-critical operations:  AVX2 FMA\n",
      "To enable them in other operations, rebuild TensorFlow with the appropriate compiler flags.\n"
     ]
    },
    {
     "name": "stdout",
     "output_type": "stream",
     "text": [
      "GPU device not found\n",
      "Running on Mac\n"
     ]
    },
    {
     "name": "stderr",
     "output_type": "stream",
     "text": [
      "2023-07-13 12:56:52.857343: I tensorflow/core/platform/cpu_feature_guard.cc:193] This TensorFlow binary is optimized with oneAPI Deep Neural Network Library (oneDNN) to use the following CPU instructions in performance-critical operations:  AVX2 FMA\n",
      "To enable them in other operations, rebuild TensorFlow with the appropriate compiler flags.\n"
     ]
    }
   ],
   "source": [
    "import tensorflow as tf\n",
    "dt='float32'\n",
    "tf.keras.backend.set_floatx('float32')\n",
    "tf.random.set_seed(42) # supposedly leads to reproducible results\n",
    "\n",
    "device_name = tf.test.gpu_device_name()\n",
    "if device_name != '/device:GPU:0':\n",
    "    print('GPU device not found')\n",
    "else:\n",
    "    print('Found GPU at: {}'.format(device_name))\n",
    "\n",
    "try:\n",
    "    from google.colab import drive\n",
    "    IN_COLAB = True\n",
    "    print('Running on CoLab')\n",
    "    PATH='/content/drive/'\n",
    "    drive.mount(PATH)\n",
    "    DATA_DIR=PATH+'My Drive/data/Localization/'  # must end in \"/\"\n",
    "except:\n",
    "    IN_COLAB = False\n",
    "    print('Running on Mac')\n",
    "    DATA_DIR=\"/Users/jasonmiller/WVU/Localization/\""
   ]
  },
  {
   "cell_type": "code",
   "execution_count": 3,
   "metadata": {
    "colab": {
     "base_uri": "https://localhost:8080/"
    },
    "id": "PRX-UEr8FLA8",
    "outputId": "fe6522ac-a850-44f1-82d1-1769dc5c5d6a"
   },
   "outputs": [
    {
     "name": "stdout",
     "output_type": "stream",
     "text": [
      "Python 3.10.0\n",
      "sklearn 1.1.2\n"
     ]
    }
   ],
   "source": [
    "from platform import python_version\n",
    "print('Python',python_version())\n",
    "import numpy as np\n",
    "import pandas as pd\n",
    "import scipy.stats as ss\n",
    "import pickle\n",
    "import time # time and sleep functions\n",
    "from os.path import isfile\n",
    "from matplotlib import pyplot as plt \n",
    "import sklearn   # pip install --upgrade scikit-learn\n",
    "print('sklearn',sklearn.__version__)\n",
    "\n",
    "from tensorflow import keras\n",
    "from sklearn.mixture import GaussianMixture\n",
    "from sklearn.model_selection import KFold\n",
    "from sklearn.metrics import accuracy_score\n",
    "from sklearn.metrics import precision_score\n",
    "from sklearn.metrics import recall_score\n",
    "from sklearn.metrics import f1_score\n",
    "from sklearn.metrics import precision_recall_curve\n",
    "from sklearn.metrics import roc_curve\n",
    "from sklearn.metrics import roc_auc_score\n",
    "from sklearn.metrics import auc\n",
    "from sklearn.metrics import matthews_corrcoef\n",
    "from sklearn.utils import class_weight\n",
    "from sklearn.metrics import confusion_matrix\n",
    "\n",
    "from keras.models import Sequential\n",
    "from keras.layers import Masking\n",
    "from keras.layers import Embedding\n",
    "from keras.layers import Conv1D\n",
    "from keras.layers import GlobalAveragePooling1D\n",
    "from keras.layers import GlobalMaxPooling1D\n",
    "from keras.layers import AveragePooling1D\n",
    "from keras.layers import MaxPooling1D\n",
    "from keras.layers import Bidirectional\n",
    "from keras.layers import LSTM\n",
    "from keras.layers import TimeDistributed\n",
    "from keras.layers import Flatten\n",
    "from keras.layers import Dense\n",
    "from keras.layers import Dropout\n",
    "from keras.losses import BinaryCrossentropy\n",
    "\n",
    "DCELLS=16\n",
    "EPOCHS=5 \n",
    "EMBED_DIMEN = 4 # arbitrary hyperparameter\n",
    "BREAK = False   # break after first fold\n",
    "REPEATS = 2\n",
    "FOLDS = 5\n",
    "\n",
    "SAVE_MODEL_FILENAME = None # 'MLP_100'"
   ]
  },
  {
   "cell_type": "code",
   "execution_count": 4,
   "metadata": {
    "id": "LnkpVKdMFLA-"
   },
   "outputs": [
    {
     "name": "stdout",
     "output_type": "stream",
     "text": [
      "Data directory: /Users/jasonmiller/WVU/Localization/\n",
      "Data file 0 Gudenas/Gudenas.Supplement.Data1.csv\n"
     ]
    }
   ],
   "source": [
    "MAX_LINES_TO_LOAD =    10 # use this for debugging\n",
    "MAX_LINES_TO_LOAD = None\n",
    "\n",
    "DATA_FILE_0 = 'Gudenas/Gudenas.Supplement.Data1.csv'\n",
    "\n",
    "print('Data directory: %s'%DATA_DIR)\n",
    "print('Data file 0 %s'%DATA_FILE_0)"
   ]
  },
  {
   "cell_type": "markdown",
   "metadata": {
    "id": "UtqdpJOxFLBA"
   },
   "source": [
    "## Data Load"
   ]
  },
  {
   "cell_type": "code",
   "execution_count": 5,
   "metadata": {
    "id": "p35ehKV3Kq0z"
   },
   "outputs": [],
   "source": [
    "class DataLoader():\n",
    "    def __init__(self,filepath1,verbose=True):\n",
    "        self.file = filepath1\n",
    "        self.verbose = verbose\n",
    "        self.max_lines = None\n",
    "\n",
    "    def set_max_lines(self,lines):\n",
    "        '''Limit the dataset size to fit in RAM.'''\n",
    "        self.max_lines = lines\n",
    "        if self.verbose:\n",
    "            print('Maximum lines to load per file: %d'%lines)\n",
    "\n",
    "    def load_full_train_set(self):\n",
    "        minimum = 0\n",
    "        max_lines = self.max_lines\n",
    "        num_lines = 0\n",
    "        header = None\n",
    "        self.id = []\n",
    "        self.fold_change = []\n",
    "        self.label = []\n",
    "        self.feature = []\n",
    "        self.names = []\n",
    "        try:\n",
    "            with open(self.file,'r') as fin:\n",
    "                for line in fin:\n",
    "                    line=line.strip()\n",
    "                    fields=line.split(',')\n",
    "                    if header is None:\n",
    "                        header = fields\n",
    "                        self.names.append(fields)\n",
    "                        continue\n",
    "                    if max_lines is not None and num_lines >= max_lines:\n",
    "                        break\n",
    "                    num_lines += 1\n",
    "                    # Retain critical info about each sample\n",
    "                    self.id.append(fields[0])\n",
    "                    self.fold_change.append(fields[1])\n",
    "                    if fields[-1] =='Cytosol':\n",
    "                        self.label.append(0)\n",
    "                    else:  # Nucleus\n",
    "                        self.label.append(1)\n",
    "                    # Zero out columns that give away the answer!\n",
    "                    fields[0]=0 # ID\n",
    "                    fields[1]=0 # fold change\n",
    "                    fields[-1]=0 # cytosol/nucleus label\n",
    "                    for i in range(len(fields)):\n",
    "                        #if header[i].startswith('chromosome'):\n",
    "                        if header[i].isdigit():\n",
    "                            fields[i] = 0\n",
    "                    # Change GC content from fraction to percent\n",
    "                    fields[3]=100.0*float(fields[3])+0.5  \n",
    "                    # Change all columns to integers\n",
    "                    ints = list(map(int,fields))\n",
    "                    self.feature.append(ints)\n",
    "        except Exception as e:\n",
    "            print(e)\n",
    "            raise Exception('CANNOT LOAD DATA FROM FILE!')\n",
    "            \n",
    "    def get_names(self):\n",
    "        return self.names\n",
    "\n",
    "    def show_examples(self,how_many=3):\n",
    "        for i in range(how_many):\n",
    "            print(self.id[i], self.fold_change[i],self.label[i])\n",
    "            print(self.feature[i])\n",
    "            #print(self.feature[i][:5],'...',self.feature[i][-5:])\n",
    "\n",
    "    def get_X_y(self,one_out_of=5):\n",
    "        ONE_OUT_OF = one_out_of\n",
    "        length = len(self.label)\n",
    "        X_train = []\n",
    "        y_train = []\n",
    "        X_valid = []\n",
    "        y_valid = []\n",
    "        skip = 0\n",
    "        for i in range(length):\n",
    "            skip += 1\n",
    "            if skip == ONE_OUT_OF:\n",
    "                # Set aside every fifth sample for validation\n",
    "                X_valid.append(self.feature[i])\n",
    "                y_valid.append(self.label[i])\n",
    "                skip = 0\n",
    "            else:\n",
    "                X_train.append(self.feature[i])\n",
    "                y_train.append(self.label[i])\n",
    "        X_train = np.asarray(X_train)\n",
    "        y_train = np.asarray(y_train)\n",
    "        X_valid = np.asarray(X_valid)\n",
    "        y_valid = np.asarray(y_valid)\n",
    "        return X_train,y_train, X_valid,y_valid"
   ]
  },
  {
   "cell_type": "code",
   "execution_count": 6,
   "metadata": {},
   "outputs": [
    {
     "name": "stdout",
     "output_type": "stream",
     "text": [
      "2023-07-13 12:56:55.279545\n",
      "LOADING...\n",
      "EXAMPLES:\n",
      "ENST00000446102 -0.521941851 0\n",
      "[0, 0, 1363, 44, 111, 70, 99, 94, 102, 68, 5, 110, 101, 59, 83, 65, 61, 88, 120, 126, 32, 25, 26, 28, 24, 16, 2, 28, 32, 17, 30, 20, 18, 17, 29, 30, 29, 15, 30, 27, 28, 15, 2, 23, 1, 1, 2, 1, 13, 24, 44, 29, 34, 13, 31, 23, 18, 15, 1, 25, 35, 20, 15, 13, 12, 16, 20, 17, 16, 17, 12, 16, 32, 22, 0, 34, 33, 21, 35, 31, 18, 31, 27, 50, 6, 8, 9, 9, 5, 9, 0, 11, 11, 2, 7, 6, 7, 3, 7, 11, 7, 2, 11, 4, 7, 3, 2, 4, 1, 1, 0, 0, 5, 8, 11, 4, 10, 4, 10, 8, 4, 5, 0, 8, 12, 7, 6, 5, 4, 5, 6, 5, 5, 5, 3, 5, 9, 6, 0, 2, 7, 5, 10, 7, 1, 8, 12, 9, 11, 6, 8, 4, 8, 2, 1, 4, 11, 7, 9, 3, 3, 7, 7, 10, 5, 1, 11, 11, 7, 3, 0, 5, 0, 0, 1, 1, 2, 3, 11, 7, 0, 1, 0, 0, 1, 0, 0, 0, 1, 1, 0, 0, 0, 0, 1, 0, 5, 2, 4, 2, 7, 6, 0, 11, 17, 6, 13, 8, 5, 6, 4, 14, 9, 8, 7, 10, 4, 1, 1, 7, 8, 6, 10, 7, 6, 5, 8, 4, 5, 4, 4, 5, 11, 1, 0, 3, 0, 0, 1, 0, 4, 6, 10, 5, 12, 3, 12, 8, 7, 5, 1, 7, 7, 3, 1, 4, 3, 1, 6, 3, 3, 5, 2, 2, 7, 3, 0, 6, 6, 3, 5, 6, 5, 3, 3, 6, 6, 3, 2, 5, 7, 4, 0, 6, 2, 2, 4, 4, 2, 2, 7, 5, 12, 8, 4, 7, 3, 8, 0, 11, 0, 0, 0, 0, 2, 7, 12, 13, 12, 5, 9, 7, 6, 5, 0, 10, 15, 8, 8, 4, 5, 10, 7, 9, 3, 5, 3, 7, 9, 7, 0, 15, 3, 7, 7, 10, 7, 14, 8, 21, 1, 2, 1, 2, 2, 1, 0, 5, 6, 2, 0, 1, 3, 2, 2, 2, 0, 1, 4, 0, 5, 1, 2, 1, 0, 0, 0, 0, 2, 5, 4, 0, 3, 2, 5, 1, 1, 0, 0, 1, 4, 0, 1, 2, 1, 0, 4, 1, 3, 3, 1, 0, 1, 0, 0, 2, 3, 0, 1, 3, 0, 3, 5, 3, 2, 2, 3, 0, 0, 0, 1, 1, 5, 1, 5, 0, 0, 3, 1, 0, 0, 1, 3, 3, 1, 0, 0, 2, 0, 0, 1, 1, 1, 1, 1, 1, 0, 1, 0, 0, 1, 0, 0, 0, 0, 0, 0, 0, 0, 0, 0, 0, 2, 1, 1, 1, 4, 1, 0, 3, 4, 1, 5, 1, 1, 2, 0, 1, 2, 2, 1, 5, 1, 1, 0, 2, 2, 1, 3, 4, 3, 2, 3, 0, 0, 2, 1, 1, 5, 0, 0, 0, 0, 0, 0, 0, 2, 1, 3, 2, 8, 0, 2, 2, 2, 1, 0, 4, 2, 2, 1, 1, 1, 1, 1, 2, 3, 0, 1, 0, 1, 2, 0, 2, 2, 1, 0, 3, 2, 1, 2, 0, 3, 1, 0, 1, 2, 2, 0, 1, 0, 1, 2, 0, 2, 0, 1, 2, 3, 4, 0, 2, 1, 5, 0, 0, 0, 0, 0, 0, 1, 0, 0, 1, 2, 2, 1, 2, 0, 1, 0, 4, 5, 1, 4, 0, 2, 1, 2, 2, 0, 1, 0, 0, 2, 2, 0, 4, 2, 2, 3, 5, 1, 1, 0, 7, 4, 3, 2, 2, 1, 2, 0, 3, 2, 0, 4, 2, 2, 0, 0, 2, 3, 0, 3, 2, 0, 1, 0, 1, 1, 0, 0, 0, 2, 0, 1, 1, 3, 0, 2, 6, 1, 3, 0, 3, 6, 2, 1, 0, 1, 0, 1, 1, 0, 1, 1, 1, 4, 3, 0, 0, 1, 0, 4, 2, 0, 4, 2, 4, 2, 1, 2, 0, 1, 0, 0, 0, 3, 4, 2, 2, 1, 3, 5, 2, 2, 0, 3, 2, 2, 0, 0, 1, 0, 0, 0, 0, 1, 0, 3, 1, 0, 0, 0, 0, 0, 0, 0, 0, 0, 1, 0, 0, 0, 0, 1, 0, 1, 0, 1, 0, 2, 1, 0, 0, 4, 1, 3, 3, 0, 2, 1, 4, 0, 0, 0, 0, 1, 0, 0, 0, 0, 0, 0, 0, 0, 0, 0, 0, 0, 1, 0, 0, 0, 0, 0, 0, 0, 0, 0, 0, 0, 0, 0, 0, 0, 0, 1, 0, 1, 0, 0, 0, 0, 0, 0, 0, 0, 0, 0, 0, 0, 0, 0, 0, 0, 0, 0, 0, 0, 0, 0, 1, 0, 0, 0, 0, 3, 0, 1, 1, 0, 2, 0, 0, 1, 0, 1, 2, 0, 1, 0, 1, 2, 1, 2, 2, 1, 2, 0, 3, 0, 0, 0, 0, 0, 4, 4, 3, 7, 2, 6, 2, 4, 1, 0, 1, 5, 4, 2, 2, 0, 5, 3, 0, 1, 2, 1, 1, 2, 1, 0, 3, 0, 0, 2, 2, 2, 4, 3, 5, 1, 3, 3, 2, 1, 6, 0, 1, 2, 0, 3, 2, 1, 1, 3, 5, 1, 1, 1, 1, 0, 0, 0, 1, 0, 1, 0, 0, 1, 1, 3, 2, 4, 2, 2, 0, 1, 2, 0, 3, 1, 4, 3, 2, 1, 3, 1, 2, 1, 1, 1, 3, 2, 3, 0, 0, 1, 2, 3, 2, 1, 1, 1, 1, 2, 0, 2, 1, 3, 0, 0, 1, 1, 1, 1, 1, 1, 0, 0, 4, 2, 0, 4, 5, 0, 0, 0, 1, 0, 0, 0, 0, 0, 1, 2, 0, 0, 0, 0, 0, 0, 0, 0, 0, 1, 0, 0, 0, 0, 0, 0, 0, 2, 1, 1, 0, 0, 2, 0, 4, 2, 2, 4, 2, 1, 1, 1, 2, 5, 3, 3, 1, 0, 0, 0, 3, 3, 3, 5, 1, 3, 1, 2, 2, 3, 1, 2, 1, 2, 0, 0, 3, 0, 0, 1, 0, 2, 2, 3, 0, 1, 0, 4, 2, 1, 1, 0, 1, 1, 0, 0, 0, 2, 0, 2, 0, 0, 2, 0, 1, 1, 0, 0, 0, 1, 2, 2, 1, 1, 1, 0, 1, 0, 1, 1, 1, 3, 0, 0, 2, 0, 0, 1, 1, 0, 0, 1, 1, 3, 2, 1, 1, 0, 0, 0, 3, 0, 0, 0, 0, 1, 1, 2, 2, 2, 0, 2, 2, 1, 0, 0, 2, 2, 1, 2, 0, 1, 1, 1, 3, 2, 2, 0, 1, 1, 1, 0, 1, 0, 2, 1, 0, 2, 3, 1, 0, 0, 0, 3, 3, 1, 0, 0, 2, 1, 0, 0, 1, 1, 0, 2, 2, 3, 0, 3, 1, 2, 1, 0, 1, 0, 0, 0, 0, 0, 2, 3, 1, 0, 0, 1, 1, 1, 0, 0, 1, 1, 1, 1, 1, 1, 2, 0, 1, 1, 0, 0, 1, 2, 0, 0, 0, 2, 3, 2, 0, 0, 0, 4, 1, 5, 3, 1, 3, 4, 2, 0, 2, 2, 1, 1, 0, 1, 1, 1, 4, 1, 0, 1, 1, 4, 3, 0, 1, 0, 0, 0, 0, 0, 1, 5, 5, 0, 0, 0, 0, 0, 0, 0, 0, 0, 0, 0, 0, 0, 0, 0, 0, 0, 0, 1, 1, 1, 2, 0, 4, 7, 2, 1, 2, 3, 1, 2, 7, 2, 3, 3, 4, 2, 0, 1, 2, 3, 2, 2, 2, 0, 2, 3, 2, 2, 0, 1, 3, 4, 1, 0, 0, 0, 0, 0, 0, 0, 3, 4, 3, 3, 3, 5, 4, 3, 3, 1, 1, 4, 1, 0, 3, 0, 0, 3, 1, 0, 3, 1, 1, 5, 1, 0, 4, 3, 0, 3, 1, 2, 1, 1, 5, 0, 1, 0, 2, 2, 0, 0, 3, 1, 1, 0, 1, 0, 1, 5, 1, 4, 1, 1, 2, 1, 1, 0, 5, 0, 0, 0, 0, 0, 2, 6, 7, 1, 1, 0, 1, 1, 3, 0, 3, 3, 2, 0, 2, 2, 3, 1, 4, 0, 0, 2, 5, 4, 3, 0, 7, 1, 3, 1, 3, 2, 6, 4, 9, 0, 0, 0, 0, 0, 0, 0, 0, 0, 0, 0, 0, 0, 0, 0, 0, 0, 0, 0, 0, 0, 0, 0, 0, 0, 0, 0, 0, 0, 0, 0, 0, 0, 0, 0, 0, 0, 0, 0, 0, 0, 0, 0, 0, 0, 0, 0, 0, 0, 0, 0, 0, 0, 0, 0, 0, 0, 0, 0, 0, 0, 0, 0, 0, 0, 0, 0, 0, 0, 0, 0, 0, 0, 0, 0, 0, 0, 0, 0, 0, 0, 0, 0, 0, 0, 0, 0, 0, 0, 0, 0, 0, 0, 0, 0, 0, 0, 0, 0, 0, 0, 0, 0, 0, 0, 0, 0, 0, 0, 0, 0, 0, 0, 0, 0, 0, 0, 0, 0, 0, 0, 0, 0, 0, 0, 0, 0, 0, 0, 0, 0, 0, 0, 0, 0, 0, 0, 0, 0, 0, 0, 0, 0, 0, 0, 0, 0, 0, 0, 0, 0, 0, 0, 0, 0, 0, 0, 0, 0, 0, 0, 0, 0, 0, 0, 0, 0, 0, 0, 0, 0, 0, 0, 0, 0, 0, 0, 0, 0, 0, 0, 0, 0, 0, 0, 0, 0, 0, 0, 0, 0, 0, 0, 0, 1, 0, 1, 0, 0, 0, 0, 0, 0, 0, 0, 0, 0, 0, 0, 0, 0, 0, 0, 0, 0, 0, 0, 0, 0, 0, 0]\n",
      "ENST00000421020 -0.103359064 0\n",
      "[0, 0, 755, 41, 58, 39, 51, 58, 50, 27, 4, 71, 46, 33, 41, 35, 52, 53, 59, 77, 18, 10, 14, 16, 9, 8, 2, 20, 12, 14, 12, 13, 16, 4, 13, 25, 14, 7, 19, 10, 10, 7, 0, 10, 1, 2, 0, 1, 9, 23, 20, 19, 11, 7, 10, 18, 9, 7, 1, 16, 15, 6, 13, 7, 5, 7, 12, 11, 15, 15, 8, 14, 22, 5, 1, 25, 18, 11, 16, 13, 22, 19, 14, 22, 5, 4, 1, 8, 5, 0, 1, 4, 4, 4, 2, 4, 4, 3, 4, 5, 2, 2, 3, 2, 3, 3, 0, 2, 0, 1, 0, 1, 4, 4, 3, 9, 1, 2, 2, 7, 3, 5, 0, 6, 4, 2, 5, 1, 5, 3, 5, 0, 3, 4, 3, 6, 0, 0, 1, 3, 4, 1, 5, 3, 6, 7, 6, 6, 3, 3, 6, 2, 2, 1, 0, 4, 6, 4, 5, 4, 1, 1, 2, 6, 4, 2, 4, 0, 4, 2, 0, 1, 0, 0, 0, 0, 2, 2, 2, 4, 0, 0, 0, 1, 0, 0, 0, 2, 0, 0, 0, 0, 0, 0, 0, 1, 2, 4, 3, 0, 8, 2, 0, 13, 8, 3, 3, 5, 6, 5, 3, 5, 6, 1, 1, 3, 1, 1, 0, 5, 1, 4, 3, 2, 7, 0, 6, 5, 3, 0, 4, 2, 2, 1, 0, 4, 1, 0, 0, 0, 1, 7, 3, 5, 2, 0, 7, 6, 3, 0, 1, 2, 3, 0, 5, 5, 0, 2, 1, 4, 1, 2, 1, 1, 5, 0, 0, 2, 3, 2, 6, 1, 4, 1, 3, 3, 4, 2, 6, 3, 1, 6, 1, 7, 1, 2, 2, 3, 4, 0, 1, 9, 5, 3, 8, 6, 1, 1, 0, 3, 0, 1, 0, 0, 2, 10, 12, 1, 8, 5, 1, 4, 3, 2, 0, 6, 8, 4, 3, 1, 0, 2, 6, 5, 9, 5, 1, 7, 9, 3, 0, 7, 3, 5, 2, 4, 6, 6, 2, 8, 1, 2, 0, 2, 2, 0, 0, 2, 0, 0, 0, 1, 3, 1, 2, 2, 0, 1, 3, 1, 0, 0, 0, 0, 0, 1, 0, 0, 1, 0, 1, 2, 0, 1, 1, 2, 3, 0, 0, 1, 0, 0, 2, 0, 2, 1, 1, 0, 1, 0, 1, 2, 0, 0, 1, 2, 1, 0, 2, 1, 1, 3, 0, 1, 0, 1, 0, 1, 0, 0, 0, 2, 3, 0, 0, 0, 1, 0, 0, 1, 1, 1, 1, 0, 2, 1, 0, 0, 0, 0, 0, 0, 0, 1, 0, 1, 0, 0, 0, 0, 0, 0, 0, 1, 0, 0, 0, 0, 0, 0, 0, 1, 0, 2, 2, 0, 2, 0, 0, 2, 1, 0, 0, 2, 4, 2, 2, 1, 0, 0, 0, 1, 1, 0, 0, 1, 0, 1, 1, 0, 4, 0, 1, 2, 2, 0, 1, 0, 1, 1, 0, 3, 0, 0, 0, 0, 1, 4, 1, 0, 0, 0, 3, 1, 1, 0, 0, 1, 1, 0, 2, 2, 0, 0, 0, 1, 1, 2, 1, 1, 2, 0, 0, 1, 2, 1, 2, 0, 0, 0, 0, 0, 1, 0, 2, 0, 0, 2, 0, 2, 0, 0, 0, 3, 1, 0, 1, 4, 0, 0, 0, 0, 0, 0, 0, 0, 0, 1, 0, 0, 1, 0, 1, 1, 4, 0, 0, 0, 1, 0, 0, 0, 1, 2, 2, 0, 0, 0, 1, 2, 4, 0, 0, 2, 3, 1, 0, 3, 0, 3, 0, 3, 0, 1, 1, 4, 1, 0, 0, 2, 2, 0, 0, 1, 2, 3, 0, 1, 1, 0, 0, 1, 1, 0, 0, 1, 0, 1, 0, 0, 0, 0, 0, 0, 1, 0, 1, 2, 1, 0, 1, 4, 0, 2, 0, 2, 2, 0, 3, 0, 3, 0, 1, 0, 0, 0, 0, 1, 0, 0, 0, 1, 1, 0, 0, 1, 1, 1, 2, 2, 0, 1, 3, 0, 1, 1, 0, 0, 2, 1, 1, 0, 0, 0, 0, 0, 2, 0, 2, 0, 2, 0, 0, 0, 0, 0, 0, 0, 0, 0, 0, 1, 0, 0, 0, 0, 0, 0, 0, 0, 0, 0, 0, 0, 0, 0, 0, 0, 0, 1, 1, 0, 0, 0, 0, 2, 0, 0, 0, 2, 0, 2, 0, 2, 0, 0, 0, 0, 0, 0, 0, 0, 0, 0, 0, 0, 0, 0, 1, 0, 0, 0, 0, 0, 0, 0, 0, 0, 0, 0, 0, 0, 0, 0, 1, 1, 0, 0, 0, 0, 0, 0, 0, 0, 0, 0, 0, 0, 0, 0, 0, 0, 0, 0, 0, 0, 0, 0, 0, 0, 0, 0, 0, 0, 1, 0, 0, 0, 0, 0, 2, 0, 1, 0, 0, 3, 0, 2, 1, 0, 0, 0, 0, 0, 2, 2, 2, 2, 1, 1, 0, 0, 0, 0, 0, 0, 1, 6, 6, 0, 2, 3, 1, 2, 1, 1, 0, 1, 0, 1, 1, 1, 0, 0, 4, 1, 2, 3, 0, 1, 3, 0, 0, 2, 2, 0, 1, 0, 2, 1, 0, 2, 2, 1, 1, 2, 0, 0, 0, 1, 0, 1, 0, 0, 0, 1, 1, 1, 1, 0, 0, 0, 0, 1, 0, 0, 0, 0, 0, 0, 1, 3, 0, 1, 0, 0, 0, 1, 0, 2, 0, 2, 1, 1, 0, 1, 0, 1, 1, 0, 2, 1, 1, 3, 0, 0, 0, 0, 1, 1, 3, 1, 0, 2, 3, 0, 2, 0, 1, 0, 0, 0, 0, 0, 0, 2, 1, 1, 0, 0, 1, 1, 1, 0, 1, 0, 0, 1, 0, 0, 0, 0, 0, 0, 1, 0, 2, 1, 0, 0, 0, 1, 0, 0, 0, 0, 0, 0, 0, 0, 0, 0, 0, 0, 1, 0, 0, 0, 3, 2, 0, 2, 1, 1, 1, 0, 2, 1, 1, 1, 1, 0, 0, 1, 0, 0, 0, 0, 1, 3, 2, 1, 3, 0, 0, 3, 0, 0, 2, 1, 0, 0, 0, 0, 1, 0, 0, 0, 0, 1, 0, 1, 1, 0, 0, 2, 0, 0, 0, 0, 2, 0, 2, 1, 0, 2, 1, 2, 0, 0, 0, 0, 1, 0, 0, 1, 0, 0, 1, 0, 2, 0, 2, 0, 1, 0, 0, 0, 0, 2, 0, 0, 0, 0, 1, 0, 0, 0, 0, 1, 1, 0, 2, 2, 0, 0, 0, 0, 0, 0, 0, 0, 0, 1, 1, 0, 0, 2, 0, 1, 1, 1, 0, 0, 6, 0, 0, 0, 0, 1, 0, 0, 1, 2, 0, 1, 1, 0, 0, 0, 0, 2, 1, 0, 0, 3, 0, 0, 1, 1, 0, 2, 1, 0, 1, 0, 2, 0, 2, 2, 0, 1, 1, 1, 0, 1, 0, 0, 3, 1, 0, 2, 0, 0, 0, 1, 1, 1, 1, 4, 0, 1, 0, 0, 0, 1, 0, 1, 1, 1, 0, 0, 0, 1, 2, 0, 0, 3, 1, 0, 0, 0, 0, 0, 1, 0, 0, 0, 4, 1, 1, 3, 1, 1, 2, 1, 1, 0, 0, 2, 1, 1, 3, 3, 0, 1, 1, 4, 0, 1, 0, 0, 0, 0, 0, 1, 0, 0, 0, 0, 1, 1, 0, 1, 0, 0, 0, 0, 0, 0, 0, 1, 0, 0, 0, 0, 0, 0, 0, 0, 1, 1, 0, 0, 3, 0, 0, 7, 6, 2, 2, 1, 0, 0, 0, 1, 5, 1, 1, 1, 0, 1, 0, 4, 0, 0, 0, 1, 0, 0, 4, 0, 1, 0, 1, 1, 1, 0, 0, 1, 0, 0, 0, 0, 0, 2, 1, 3, 1, 0, 4, 3, 2, 0, 1, 1, 0, 0, 1, 2, 0, 0, 0, 1, 0, 0, 0, 0, 2, 0, 0, 0, 1, 1, 3, 1, 1, 1, 1, 2, 2, 2, 2, 3, 0, 2, 1, 2, 1, 0, 0, 0, 3, 0, 0, 4, 2, 1, 4, 2, 0, 0, 0, 3, 0, 0, 0, 0, 0, 3, 4, 0, 2, 0, 0, 1, 0, 0, 0, 5, 1, 1, 0, 0, 0, 1, 1, 2, 2, 0, 1, 3, 2, 2, 0, 2, 1, 0, 0, 1, 4, 1, 1, 2, 0, 0, 0, 0, 0, 0, 0, 0, 0, 0, 0, 0, 0, 0, 0, 0, 0, 0, 0, 0, 0, 0, 0, 0, 0, 0, 0, 0, 0, 0, 0, 0, 0, 0, 0, 0, 0, 0, 0, 0, 0, 0, 0, 0, 0, 0, 0, 0, 0, 0, 0, 0, 0, 0, 0, 0, 0, 0, 0, 0, 0, 0, 0, 0, 0, 0, 0, 0, 0, 0, 0, 0, 0, 0, 0, 0, 0, 0, 0, 0, 0, 0, 0, 0, 0, 0, 0, 0, 0, 0, 0, 0, 0, 0, 0, 0, 0, 0, 0, 0, 0, 0, 0, 0, 0, 0, 0, 0, 0, 0, 0, 0, 0, 0, 0, 0, 0, 0, 0, 0, 0, 0, 0, 0, 0, 0, 0, 0, 0, 0, 0, 0, 0, 0, 0, 0, 0, 0, 0, 0, 0, 0, 0, 0, 0, 0, 0, 0, 0, 0, 0, 0, 0, 0, 0, 0, 0, 0, 0, 0, 0, 0, 0, 0, 0, 0, 0, 0, 0, 0, 0, 0, 0, 0, 0, 0, 0, 0, 0, 0, 0, 0, 0, 0, 0, 0, 0, 0, 0, 0, 0, 0, 0, 0, 1, 0, 1, 0, 0, 0, 0, 0, 0, 0, 0, 0, 0, 0, 0, 0, 0, 0, 0, 0, 0, 0, 0, 0, 0, 0, 0]\n",
      "ENST00000428895 -3.3740969 0\n",
      "[0, 0, 1479, 46, 95, 72, 111, 98, 95, 103, 36, 103, 96, 75, 80, 93, 90, 87, 117, 127, 25, 13, 27, 29, 18, 23, 5, 26, 37, 24, 31, 19, 26, 19, 21, 32, 20, 22, 32, 21, 31, 32, 13, 27, 9, 12, 7, 8, 16, 22, 41, 24, 23, 22, 29, 22, 22, 25, 14, 14, 22, 19, 14, 25, 24, 18, 28, 23, 27, 14, 23, 26, 24, 23, 4, 36, 28, 20, 28, 41, 24, 28, 27, 48, 4, 3, 8, 10, 1, 6, 0, 6, 9, 7, 7, 4, 9, 8, 5, 7, 4, 4, 6, 4, 5, 7, 3, 8, 0, 3, 2, 0, 3, 3, 12, 8, 10, 6, 10, 11, 8, 10, 2, 4, 7, 5, 8, 11, 5, 4, 3, 7, 7, 5, 5, 9, 1, 4, 1, 13, 4, 3, 7, 7, 8, 2, 8, 14, 5, 4, 7, 4, 4, 8, 2, 8, 12, 8, 9, 3, 7, 2, 4, 8, 5, 7, 9, 10, 12, 7, 6, 7, 3, 3, 2, 5, 5, 8, 11, 3, 2, 3, 1, 3, 2, 2, 6, 2, 3, 1, 1, 2, 2, 2, 4, 0, 4, 1, 5, 6, 8, 5, 2, 7, 7, 8, 11, 15, 1, 7, 8, 8, 7, 2, 7, 7, 7, 8, 2, 5, 11, 4, 9, 5, 7, 7, 4, 4, 3, 6, 9, 4, 7, 9, 3, 6, 4, 4, 3, 3, 2, 4, 5, 3, 5, 3, 10, 4, 8, 4, 3, 4, 2, 6, 2, 4, 4, 5, 10, 6, 5, 5, 7, 7, 7, 6, 1, 4, 10, 4, 6, 8, 8, 6, 3, 6, 9, 4, 5, 8, 6, 1, 1, 6, 5, 5, 6, 7, 3, 2, 8, 13, 8, 5, 8, 3, 7, 9, 1, 6, 2, 2, 0, 0, 6, 7, 13, 10, 6, 10, 8, 4, 4, 9, 3, 4, 10, 7, 3, 8, 13, 7, 11, 10, 11, 3, 6, 4, 8, 8, 0, 12, 7, 5, 4, 11, 7, 13, 8, 20, 1, 0, 1, 2, 0, 1, 0, 2, 2, 4, 1, 1, 3, 2, 3, 2, 0, 1, 0, 0, 1, 2, 2, 1, 0, 0, 0, 0, 0, 1, 4, 1, 3, 0, 3, 3, 3, 1, 0, 3, 2, 1, 1, 3, 1, 0, 1, 2, 3, 2, 1, 3, 1, 2, 0, 5, 0, 1, 2, 2, 3, 1, 0, 3, 2, 0, 1, 1, 2, 0, 0, 2, 3, 2, 0, 1, 1, 0, 2, 1, 0, 3, 2, 0, 1, 3, 1, 2, 1, 0, 0, 2, 4, 1, 1, 2, 0, 0, 0, 0, 0, 0, 3, 0, 1, 0, 1, 0, 0, 0, 0, 0, 0, 0, 2, 1, 1, 2, 0, 0, 4, 0, 4, 4, 1, 3, 3, 1, 5, 1, 1, 3, 1, 2, 0, 3, 5, 1, 3, 1, 4, 4, 3, 0, 3, 2, 3, 0, 3, 4, 1, 2, 0, 1, 1, 0, 0, 1, 1, 2, 2, 1, 3, 1, 3, 0, 2, 0, 2, 3, 0, 3, 1, 2, 5, 3, 2, 1, 0, 2, 2, 1, 1, 0, 2, 0, 1, 0, 2, 1, 3, 1, 3, 1, 1, 2, 2, 0, 1, 2, 1, 0, 2, 2, 2, 0, 3, 4, 0, 1, 0, 0, 2, 2, 0, 0, 1, 0, 0, 0, 0, 4, 4, 5, 0, 1, 2, 1, 0, 1, 0, 2, 3, 2, 0, 2, 3, 2, 1, 1, 3, 1, 2, 2, 1, 0, 0, 1, 3, 2, 1, 2, 1, 3, 3, 7, 0, 1, 1, 3, 0, 4, 0, 0, 2, 2, 2, 1, 1, 1, 0, 2, 1, 0, 2, 1, 3, 1, 0, 4, 0, 1, 1, 0, 1, 0, 2, 5, 3, 4, 2, 3, 4, 3, 1, 0, 2, 3, 3, 1, 1, 1, 0, 1, 1, 1, 0, 5, 0, 1, 0, 1, 1, 1, 0, 2, 2, 0, 4, 2, 2, 1, 2, 0, 0, 5, 0, 2, 3, 2, 2, 2, 4, 1, 1, 4, 2, 1, 3, 6, 3, 0, 3, 1, 1, 1, 2, 2, 0, 3, 4, 0, 1, 1, 0, 1, 1, 0, 0, 2, 0, 1, 0, 1, 2, 2, 1, 0, 0, 1, 1, 3, 4, 2, 1, 1, 0, 5, 3, 3, 0, 1, 2, 0, 0, 0, 0, 2, 2, 0, 1, 0, 0, 0, 1, 0, 0, 2, 0, 1, 0, 0, 2, 0, 0, 1, 1, 0, 2, 1, 2, 1, 0, 0, 2, 0, 1, 0, 2, 0, 1, 0, 0, 0, 0, 1, 0, 0, 0, 1, 1, 0, 0, 1, 1, 0, 0, 0, 0, 2, 0, 2, 1, 1, 0, 0, 0, 0, 1, 1, 2, 0, 0, 1, 0, 0, 2, 2, 1, 0, 0, 0, 4, 2, 1, 2, 3, 2, 2, 1, 0, 2, 1, 1, 0, 0, 1, 1, 5, 0, 0, 2, 4, 1, 2, 4, 1, 1, 4, 3, 2, 2, 5, 1, 4, 5, 0, 0, 1, 0, 2, 3, 0, 2, 3, 1, 2, 2, 2, 1, 3, 2, 1, 1, 3, 2, 0, 0, 0, 2, 2, 1, 2, 2, 1, 3, 2, 1, 2, 1, 3, 1, 1, 3, 1, 3, 0, 1, 1, 0, 0, 2, 3, 0, 3, 1, 3, 4, 0, 2, 1, 1, 2, 1, 1, 5, 2, 2, 0, 1, 2, 2, 2, 1, 0, 1, 0, 6, 2, 1, 1, 0, 1, 0, 0, 3, 0, 1, 1, 1, 0, 3, 2, 1, 3, 2, 4, 0, 1, 1, 1, 1, 2, 1, 3, 1, 3, 2, 2, 2, 1, 1, 0, 1, 1, 1, 3, 1, 1, 2, 1, 0, 1, 2, 1, 0, 2, 0, 0, 1, 0, 0, 3, 0, 1, 0, 0, 1, 1, 0, 0, 3, 0, 2, 1, 2, 0, 1, 1, 1, 1, 1, 3, 0, 1, 2, 0, 0, 4, 3, 2, 1, 1, 0, 0, 3, 0, 3, 3, 2, 2, 2, 0, 0, 1, 0, 0, 2, 0, 2, 1, 1, 1, 0, 1, 0, 1, 2, 1, 2, 0, 1, 1, 0, 2, 0, 0, 2, 0, 1, 2, 1, 1, 2, 0, 2, 5, 1, 3, 1, 4, 0, 0, 2, 3, 1, 0, 1, 3, 0, 0, 2, 1, 1, 2, 3, 1, 1, 0, 5, 4, 1, 2, 0, 0, 4, 0, 2, 0, 1, 0, 0, 1, 1, 1, 1, 3, 5, 1, 1, 0, 1, 2, 1, 1, 2, 0, 3, 1, 2, 3, 2, 4, 2, 2, 0, 1, 1, 0, 4, 0, 0, 1, 2, 1, 1, 1, 3, 2, 1, 3, 3, 1, 1, 0, 2, 3, 0, 2, 0, 4, 2, 0, 2, 1, 2, 1, 2, 0, 1, 0, 0, 0, 1, 0, 0, 2, 0, 2, 2, 1, 1, 2, 1, 1, 4, 0, 0, 1, 0, 3, 2, 1, 1, 2, 3, 1, 0, 2, 0, 0, 0, 1, 1, 1, 0, 4, 3, 2, 1, 4, 6, 1, 2, 3, 2, 2, 0, 0, 3, 3, 2, 3, 0, 1, 0, 0, 2, 1, 2, 1, 3, 5, 2, 0, 2, 0, 1, 0, 0, 0, 3, 3, 0, 0, 0, 0, 2, 0, 0, 2, 0, 0, 0, 0, 0, 0, 0, 0, 0, 3, 0, 2, 1, 2, 1, 1, 3, 3, 1, 3, 6, 0, 2, 2, 6, 1, 0, 3, 2, 3, 4, 1, 2, 2, 0, 3, 3, 2, 1, 1, 0, 0, 1, 1, 2, 2, 2, 1, 4, 1, 2, 0, 0, 2, 1, 1, 0, 1, 2, 4, 3, 3, 2, 0, 2, 0, 1, 1, 1, 1, 2, 4, 1, 3, 2, 4, 4, 4, 3, 0, 0, 3, 1, 1, 6, 2, 5, 0, 3, 2, 1, 2, 5, 1, 0, 0, 2, 1, 2, 1, 2, 0, 1, 1, 2, 3, 1, 3, 1, 3, 2, 1, 2, 0, 0, 0, 0, 4, 1, 3, 4, 3, 2, 1, 1, 2, 3, 0, 0, 2, 0, 1, 1, 4, 2, 3, 2, 4, 0, 1, 2, 4, 4, 0, 5, 1, 2, 0, 5, 3, 8, 1, 8, 0, 0, 0, 0, 0, 0, 0, 0, 0, 0, 0, 0, 0, 0, 0, 0, 0, 0, 0, 0, 0, 0, 0, 0, 0, 0, 0, 0, 0, 0, 0, 0, 0, 0, 0, 0, 0, 0, 0, 0, 0, 0, 0, 0, 0, 0, 0, 0, 0, 0, 0, 0, 0, 0, 0, 0, 0, 0, 0, 0, 0, 0, 0, 0, 0, 0, 0, 0, 0, 0, 0, 0, 0, 0, 0, 0, 0, 0, 0, 0, 0, 0, 0, 0, 0, 0, 0, 0, 0, 0, 0, 0, 0, 0, 0, 0, 0, 0, 0, 0, 0, 0, 0, 0, 0, 0, 0, 0, 0, 0, 0, 0, 0, 0, 0, 0, 0, 0, 0, 0, 0, 0, 0, 0, 0, 0, 0, 0, 0, 0, 0, 0, 0, 0, 0, 0, 0, 0, 0, 0, 0, 0, 0, 0, 0, 0, 0, 0, 0, 0, 0, 0, 0, 0, 0, 0, 0, 0, 0, 0, 0, 0, 0, 0, 0, 0, 0, 0, 0, 0, 0, 0, 0, 0, 0, 0, 0, 0, 0, 0, 0, 0, 0, 0, 0, 0, 0, 0, 0, 0, 0, 0, 0, 1, 0, 0, 0, 0, 0, 0, 0, 0, 0, 0, 1, 0, 0, 0, 0, 0, 0, 0, 0, 0, 0, 0, 0, 0, 0, 0, 0]\n"
     ]
    }
   ],
   "source": [
    "print(datetime.now())\n",
    "filepath0 = DATA_DIR+DATA_FILE_0\n",
    "loader=DataLoader(filepath0)\n",
    "if MAX_LINES_TO_LOAD is not None:\n",
    "    loader.set_max_lines(MAX_LINES_TO_LOAD)\n",
    "print('LOADING...')\n",
    "loader.load_full_train_set()\n",
    "num_features = len(loader.get_names())\n",
    "print('EXAMPLES:')\n",
    "loader.show_examples()"
   ]
  },
  {
   "cell_type": "code",
   "execution_count": 7,
   "metadata": {},
   "outputs": [
    {
     "name": "stdout",
     "output_type": "stream",
     "text": [
      "X train shape: \n",
      "(6943, 1585)\n",
      "y train shape: \n",
      "(6943,)\n",
      "X valid shape: \n",
      "(1735, 1585)\n",
      "y valid shape: \n",
      "(1735,)\n"
     ]
    }
   ],
   "source": [
    "X_train,y_train, X_valid,y_valid = loader.get_X_y()\n",
    "print('X train shape: ')\n",
    "print(np.shape(X_train))\n",
    "print('y train shape: ')\n",
    "print(np.shape(y_train))\n",
    "print('X valid shape: ')\n",
    "print(np.shape(X_valid))\n",
    "print('y valid shape: ')\n",
    "print(np.shape(y_valid))"
   ]
  },
  {
   "cell_type": "markdown",
   "metadata": {
    "id": "VDZ6siB_Kq04"
   },
   "source": [
    "## Model"
   ]
  },
  {
   "cell_type": "code",
   "execution_count": 8,
   "metadata": {
    "id": "AwMbRjm0FLBF"
   },
   "outputs": [],
   "source": [
    "def build_model(input_dimension):\n",
    "    mlp    = Sequential()\n",
    "    layer1 = Dense(128, activation='sigmoid') #,dtype=dt)# ,input_dim=input_dimension)\n",
    "    layer2 = Dense(64, activation='sigmoid')\n",
    "    drop2  = Dropout(.2)\n",
    "    layer3 = Dense(64, activation='sigmoid')\n",
    "    drop3  = Dropout(.2)\n",
    "    output = Dense(1, activation='sigmoid')\n",
    "    mlp.add(layer1)\n",
    "    mlp.add(layer2)\n",
    "    mlp.add(drop2)\n",
    "    mlp.add(layer3)\n",
    "    mlp.add(drop3)\n",
    "    mlp.add(output)\n",
    "      \n",
    "    bc=BinaryCrossentropy(from_logits=False)\n",
    "    mlp.compile(loss=bc, optimizer=\"Adam\", metrics=[\"accuracy\"])\n",
    "    return mlp"
   ]
  },
  {
   "cell_type": "code",
   "execution_count": 9,
   "metadata": {
    "colab": {
     "base_uri": "https://localhost:8080/"
    },
    "id": "clj-wufgFLBF",
    "outputId": "df7c155b-6a69-43ed-ea59-69b3eb4f9ef6"
   },
   "outputs": [
    {
     "name": "stdout",
     "output_type": "stream",
     "text": [
      "2023-07-13 12:56:59.855994\n"
     ]
    }
   ],
   "source": [
    "print(datetime.now())\n",
    "model=build_model(num_features)"
   ]
  },
  {
   "cell_type": "markdown",
   "metadata": {
    "id": "MgrC1alOKq07"
   },
   "source": [
    "## Training"
   ]
  },
  {
   "cell_type": "code",
   "execution_count": 10,
   "metadata": {},
   "outputs": [
    {
     "name": "stdout",
     "output_type": "stream",
     "text": [
      "Model: \"sequential\"\n",
      "_________________________________________________________________\n",
      " Layer (type)                Output Shape              Param #   \n",
      "=================================================================\n",
      " dense (Dense)               (None, 128)               203008    \n",
      "                                                                 \n",
      " dense_1 (Dense)             (None, 64)                8256      \n",
      "                                                                 \n",
      " dropout (Dropout)           (None, 64)                0         \n",
      "                                                                 \n",
      " dense_2 (Dense)             (None, 64)                4160      \n",
      "                                                                 \n",
      " dropout_1 (Dropout)         (None, 64)                0         \n",
      "                                                                 \n",
      " dense_3 (Dense)             (None, 1)                 65        \n",
      "                                                                 \n",
      "=================================================================\n",
      "Total params: 215,489\n",
      "Trainable params: 215,489\n",
      "Non-trainable params: 0\n",
      "_________________________________________________________________\n",
      "None\n"
     ]
    }
   ],
   "source": [
    "history=model.fit(X_train, y_train, # batch_size=10, default=32 works nicely\n",
    "epochs=EPOCHS, verbose=0, # verbose=1 for ascii art, verbose=0 for none \n",
    "validation_data=(X_valid,y_valid) )\n",
    "print(model.summary())  "
   ]
  },
  {
   "cell_type": "code",
   "execution_count": 11,
   "metadata": {},
   "outputs": [
    {
     "data": {
      "image/png": "[encoded data removed]",
      "text/plain": [
       "<Figure size 800x500 with 1 Axes>"
      ]
     },
     "metadata": {},
     "output_type": "display_data"
    }
   ],
   "source": [
    "pd.DataFrame(history.history).plot(figsize=(8,5))\n",
    "plt.grid(True)\n",
    "plt.gca().set_ylim(0,1)\n",
    "plt.show()\n"
   ]
  },
  {
   "cell_type": "code",
   "execution_count": 12,
   "metadata": {
    "id": "QjSVa72v4IsA"
   },
   "outputs": [
    {
     "name": "stdout",
     "output_type": "stream",
     "text": [
      "2023-07-13 12:57:06.864728\n",
      "PREDICT\n",
      "debug pred [[0.43355978]\n",
      " [0.17978182]\n",
      " [0.37884218]]\n",
      "debug class [[0]\n",
      " [0]\n",
      " [0]]\n",
      "2023-07-13 12:57:07.151642\n"
     ]
    }
   ],
   "source": [
    "print(datetime.now())\n",
    "print(\"PREDICT\")\n",
    "yhat_pred=model.predict(X_valid, verbose=0)     \n",
    "yhat_classes=np.where(yhat_pred > 0.5, 1, 0)\n",
    "\n",
    "print('debug pred',yhat_pred[:3])\n",
    "print('debug class',yhat_classes[:3])\n",
    "print(datetime.now())"
   ]
  },
  {
   "cell_type": "code",
   "execution_count": 13,
   "metadata": {},
   "outputs": [],
   "source": [
    "# In binary classification, recall of the positive class is also known as “sensitivity”\n",
    "# and recall of the negative class is “specificity”.\n",
    "def show_performance(y_valid, yhat_classes, yhat_pred):\n",
    "    accuracy = accuracy_score(y_valid, yhat_classes)*100.\n",
    "    precision = precision_score(y_valid, yhat_classes)*100.\n",
    "    recall = recall_score(y_valid, yhat_classes)*100.\n",
    "    sensitivity = recall_score(y_valid, yhat_classes, pos_label=1)*100.\n",
    "    specificity = recall_score(y_valid, yhat_classes, pos_label=0)*100.\n",
    "    f1 = f1_score(y_valid, yhat_classes)*100.\n",
    "    mcc = matthews_corrcoef(y_valid, yhat_classes)\n",
    "    if yhat_pred is None:\n",
    "        # these stats are possible for probabilistic models only\n",
    "        auprc = 0.\n",
    "        auroc = 0.\n",
    "    else:\n",
    "        prc_Y, prc_X, prc_bins = precision_recall_curve(y_valid, yhat_pred)\n",
    "        auprc = auc(prc_X,prc_Y)*100.\n",
    "        auroc = roc_auc_score(y_valid, yhat_pred)*100.\n",
    "    values,counts=np.unique(yhat_classes, return_counts=True)\n",
    "    print('Predictions: ', dict(zip(values, counts)))\n",
    "    print('Accuracy: %.2f%% F1: %.2f%% MCC: %.4f' % (accuracy,f1,mcc))\n",
    "    print('Precision: %.2f%% Recall: %.2f%% AUPRC: %.2f%%' % (precision,recall,auprc))\n",
    "    print('Sensitivity: %.2f%% Specificity: %.2f%% AUROC: %.2f%%' % (sensitivity,specificity,auroc))\n"
   ]
  },
  {
   "cell_type": "code",
   "execution_count": 14,
   "metadata": {},
   "outputs": [
    {
     "name": "stdout",
     "output_type": "stream",
     "text": [
      "Distrib of scores: 0.46300375 mean 0.15546718 std\n",
      "Range of scores: 0.17947032 to 0.8211477\n",
      "Confusion matrix\n",
      " [[696 191]\n",
      " [369 479]]\n",
      "Normalized matrix\n",
      " [[0.40115274 0.11008646]\n",
      " [0.21268012 0.27608069]]\n",
      "Predictions:  {0: 1065, 1: 670}\n",
      "Accuracy: 67.72% F1: 63.11% MCC: 0.3589\n",
      "Precision: 71.49% Recall: 56.49% AUPRC: 72.43%\n",
      "Sensitivity: 56.49% Specificity: 78.47% AUROC: 73.89%\n"
     ]
    }
   ],
   "source": [
    "print('Distrib of scores:',np.mean(yhat_pred),'mean',np.std(yhat_pred),'std')\n",
    "print('Range of scores:',np.min(yhat_pred),'to',np.max(yhat_pred))\n",
    "cm1 = confusion_matrix(y_valid,yhat_classes)\n",
    "print('Confusion matrix\\n',cm1)\n",
    "cm2 = confusion_matrix(y_valid,yhat_classes,normalize='all')\n",
    "print('Normalized matrix\\n',cm2)\n",
    "\n",
    "show_performance(y_valid, yhat_classes, yhat_pred)"
   ]
  },
  {
   "cell_type": "code",
   "execution_count": null,
   "metadata": {},
   "outputs": [],
   "source": []
  }
 ],
 "metadata": {
  "colab": {
   "provenance": []
  },
  "gpuClass": "standard",
  "kernelspec": {
   "display_name": "Python 3 (ipykernel)",
   "language": "python",
   "name": "python3"
  },
  "language_info": {
   "codemirror_mode": {
    "name": "ipython",
    "version": 3
   },
   "file_extension": ".py",
   "mimetype": "text/x-python",
   "name": "python",
   "nbconvert_exporter": "python",
   "pygments_lexer": "ipython3",
   "version": "3.10.0"
  }
 },
 "nbformat": 4,
 "nbformat_minor": 1
}
