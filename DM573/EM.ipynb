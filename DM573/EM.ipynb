{
 "cells": [
  {
   "cell_type": "markdown",
   "metadata": {},
   "source": [
    "# GMM and EM\n",
    "Gaussian Mixture Models and Expectation Maximization  \n",
    "\n",
    "Here we show canned and homgrown implementations."
   ]
  },
  {
   "cell_type": "markdown",
   "metadata": {},
   "source": [
    "## Using a library call\n",
    "Follow tutorial in [mastery](https://machinelearningmastery.com/expectation-maximization-em-algorithm/)\n",
    "\n",
    "Use [sklearn](https://scikit-learn.org/stable/modules/generated/sklearn.mixture.GaussianMixture.html) class GaussianMixture."
   ]
  },
  {
   "cell_type": "code",
   "execution_count": 1,
   "metadata": {},
   "outputs": [
    {
     "data": {
      "image/png": "[encoded data removed]",
      "text/plain": [
       "<Figure size 432x288 with 1 Axes>"
      ]
     },
     "metadata": {
      "needs_background": "light"
     },
     "output_type": "display_data"
    }
   ],
   "source": [
    "# Straight from the Mastery site.\n",
    "# Construct a bimodal from two Gaussian processes.\n",
    "from numpy import hstack\n",
    "from numpy.random import normal\n",
    "from matplotlib import pyplot\n",
    "# normal ( mean, standard deviation, count )\n",
    "def plot(X1,X2):\n",
    "    X = hstack( (X1, X2) )  # horizontal stack i.e. concat\n",
    "    pyplot.hist(X, bins=50, density=True)\n",
    "    pyplot.show()\n",
    "X1 = normal(loc=20, scale=6, size=3000) \n",
    "X2 = normal(loc=40, scale=5, size=6000)\n",
    "plot(X1,X2)"
   ]
  },
  {
   "cell_type": "code",
   "execution_count": 2,
   "metadata": {},
   "outputs": [],
   "source": [
    "def show_gmm(model):\n",
    "    print(model)\n",
    "    for i in range(model.n_components):\n",
    "        print('Gaussian',i,'mean=',model.means_[i],\n",
    "            'wgt=',model.weights_[i], \n",
    "            'Cov=',model.covariances_[i])"
   ]
  },
  {
   "cell_type": "code",
   "execution_count": 3,
   "metadata": {},
   "outputs": [
    {
     "name": "stdout",
     "output_type": "stream",
     "text": [
      "Initialization 0\n",
      "Initialization converged: True\n",
      "GaussianMixture(covariance_type='spherical', n_components=2, verbose=1)\n",
      "Gaussian 0 mean= [39.95460303] wgt= 0.6721688584750733 Cov= 25.615962532142138\n",
      "Gaussian 1 mean= [19.77901558] wgt= 0.32783114152492815 Cov= 34.035787572407855\n"
     ]
    }
   ],
   "source": [
    "# Straight from the Mastery site.\n",
    "# Use EM to reverse engineer the model i.e. fit a GMM to the data.\n",
    "from sklearn.mixture import GaussianMixture\n",
    "X = hstack( (X1, X2) ) \n",
    "X = X.reshape((len(X), 1))\n",
    "# By default, covariance=‘full’: each component has its own general covariance matrix.\n",
    "# Use 'spherical' (one variance per mean) since our data has only one feature.\n",
    "# By default, init_params='kmeans'. Works much better than 'random'!\n",
    "model = GaussianMixture(n_components=2, verbose=1, covariance_type='spherical')\n",
    "model.fit(X)\n",
    "show_gmm(model)"
   ]
  },
  {
   "cell_type": "code",
   "execution_count": 4,
   "metadata": {},
   "outputs": [
    {
     "name": "stdout",
     "output_type": "stream",
     "text": [
      "Predicted class of a point on the left: 1\n",
      "Predicted class of a point on the right: 0\n"
     ]
    }
   ],
   "source": [
    "yhat = model.predict(X)\n",
    "print('Predicted class of a point on the left:',yhat[100])\n",
    "print('Predicted class of a point on the right:',yhat[-100])"
   ]
  },
  {
   "cell_type": "code",
   "execution_count": 5,
   "metadata": {},
   "outputs": [
    {
     "data": {
      "image/png": "[encoded data removed]",
      "text/plain": [
       "<Figure size 432x288 with 1 Axes>"
      ]
     },
     "metadata": {
      "needs_background": "light"
     },
     "output_type": "display_data"
    }
   ],
   "source": [
    "mean0=model.means_[0]\n",
    "mean1=model.means_[1]\n",
    "G0 = normal(loc=mean0, scale=6, size=3000) \n",
    "G1 = normal(loc=mean1, scale=5, size=6000)\n",
    "if mean0>mean1:\n",
    "    G0 = normal(loc=mean0, scale=6, size=6000) \n",
    "    G1 = normal(loc=mean1, scale=5, size=3000)\n",
    "plot(G0,G1)"
   ]
  },
  {
   "cell_type": "markdown",
   "metadata": {},
   "source": [
    "## Homegrown version\n",
    "See [YouTube](https://youtu.be/iQoXFmbXRJA) video by Victor Lavrenko,\n",
    "especially minute 3:46.\n",
    "\n",
    "At each iteration, we have two models to explain the data.\n",
    "Each model \"votes\" for each data point by assigning its Gaussian probability.\n",
    "Critically, we use Bayes Rule to assign weights.\n",
    "\n",
    "Bayes can use a prior if one is known.\n",
    "The code can update the prior by counting cluster size,\n",
    "but this can preclude convergence or converge on inferior solutions (why?).\n",
    "We've seen it go on a  downhill spiral where stdev and thus prior approach 0."
   ]
  },
  {
   "cell_type": "code",
   "execution_count": 12,
   "metadata": {},
   "outputs": [],
   "source": [
    "import scipy.stats as ss\n",
    "import numpy as np\n",
    "def assign_probs(mean,stdev,data):\n",
    "    probs=np.asarray([ss.norm.pdf(x,loc=mean,scale=stdev) for x in data])\n",
    "    return probs\n",
    "def bayes(prob_under_this,prior_for_this,prob_under_other):\n",
    "    prior_for_other = 1-prior_for_this\n",
    "    numerator = prob_under_this * prior_for_this\n",
    "    denominator = numerator + prob_under_other * prior_for_other\n",
    "    posterior = numerator / denominator\n",
    "    return posterior\n",
    "def assign_weights(probs1,probs2,prior1):\n",
    "    prior2 = 1-prior1\n",
    "    length = len(probs1)\n",
    "    weights1=np.zeros(length)\n",
    "    weights2=np.zeros(length)\n",
    "    for i in range(length):    # do without for loop ?                 \n",
    "        weights1[i]=bayes(probs1[i],prior1,probs2[i])  \n",
    "        weights2[i]=bayes(probs2[i],prior2,probs1[i])  \n",
    "    return weights1,weights2\n",
    "def update_mean(weights,data):\n",
    "    length = len(data)\n",
    "    weighted = data*weights  # Hadamard vector multiply\n",
    "    mean=sum(weighted)/sum(weights)\n",
    "    return mean\n",
    "def update_stdev(mean,weights,data):\n",
    "    # sum of the squares of the weighted deviations from the mean\n",
    "    dev = data-mean\n",
    "    wdev = dev*weights\n",
    "    sse = sum(wdev**2)\n",
    "    stdev=float(np.sqrt(sse/sum(weights)))\n",
    "    return stdev\n",
    "def update_prior(probs1,probs2):\n",
    "    # prior = sum(probs)/len(probs)  # doesn't work!\n",
    "    length = len(probs1)\n",
    "    mine = 0\n",
    "    for i in range(length):\n",
    "        if probs1[i]>probs2[i]:\n",
    "            mine += 1\n",
    "    return mine / length\n",
    "def iterative_2_means(mean1,mean2,data,num_iter,update_priors):\n",
    "    # initial guess is both equal to overall\n",
    "    stdev1=np.std(data)\n",
    "    stdev2=update_stdev(np.mean(data),np.ones(len(data)),data)  # should be same\n",
    "    print('Initial means: %f +/- %d, %f +/- %d'%(mean1,stdev1,mean2,stdev2))\n",
    "    prior1 = 0.5\n",
    "    for i in range(num_iter):\n",
    "        probs1=assign_probs(mean1,stdev1,data)\n",
    "        probs2=assign_probs(mean2,stdev2,data)\n",
    "        weights1,weights2 = assign_weights(probs1,probs2,prior1)\n",
    "        mean1 = update_mean(weights1,data)\n",
    "        mean2 = update_mean(weights2,data)\n",
    "        stdev1 = update_stdev(mean1,weights1,data)\n",
    "        stdev2 = update_stdev(mean2,weights2,data)\n",
    "        print('Intermediate means: %f +/- %d, %f +/- %d (%f)'%(mean1,stdev1,mean2,stdev2,prior1))\n",
    "        if update_priors:\n",
    "            prior1=update_prior(probs1,probs2)\n",
    "    print()\n",
    "    print('Final means: %f +/- %d, %f +/- %d'%(mean1,stdev1,mean2,stdev2))\n",
    "    return mean1,mean2,stdev1,stdev2"
   ]
  },
  {
   "cell_type": "code",
   "execution_count": 15,
   "metadata": {},
   "outputs": [
    {
     "name": "stdout",
     "output_type": "stream",
     "text": [
      "Initial means: 10.000000 +/- 10, 20.000000 +/- 10\n",
      "Intermediate means: 25.548134 +/- 5, 35.482106 +/- 8 (0.500000)\n",
      "Intermediate means: 20.096078 +/- 2, 34.671690 +/- 9 (0.060778)\n",
      "Intermediate means: 19.335464 +/- 2, 36.581833 +/- 8 (0.348111)\n",
      "Intermediate means: 18.535722 +/- 2, 36.771999 +/- 8 (0.229778)\n",
      "Intermediate means: 17.906174 +/- 2, 37.129824 +/- 7 (0.235556)\n",
      "Intermediate means: 17.433593 +/- 3, 37.674987 +/- 6 (0.237000)\n",
      "Intermediate means: 17.444836 +/- 3, 38.291171 +/- 6 (0.245778)\n",
      "Intermediate means: 18.050952 +/- 4, 38.812017 +/- 5 (0.262667)\n",
      "Intermediate means: 18.560272 +/- 4, 39.206936 +/- 5 (0.283667)\n",
      "Intermediate means: 18.944335 +/- 4, 39.478294 +/- 5 (0.299556)\n",
      "Intermediate means: 19.219907 +/- 4, 39.654667 +/- 5 (0.310000)\n",
      "Intermediate means: 19.414096 +/- 4, 39.769287 +/- 4 (0.318222)\n",
      "Intermediate means: 19.546284 +/- 4, 39.842827 +/- 4 (0.322778)\n",
      "Intermediate means: 19.635821 +/- 5, 39.890701 +/- 4 (0.326000)\n",
      "Intermediate means: 19.697633 +/- 5, 39.922896 +/- 4 (0.328778)\n",
      "Intermediate means: 19.738955 +/- 5, 39.944021 +/- 4 (0.330111)\n",
      "Intermediate means: 19.767314 +/- 5, 39.958357 +/- 4 (0.331333)\n",
      "Intermediate means: 19.785874 +/- 5, 39.967655 +/- 4 (0.331778)\n",
      "Intermediate means: 19.797847 +/- 5, 39.973620 +/- 4 (0.332000)\n",
      "Intermediate means: 19.805232 +/- 5, 39.977284 +/- 4 (0.332000)\n",
      "\n",
      "Final means: 19.805232 +/- 5, 39.977284 +/- 4\n"
     ]
    }
   ],
   "source": [
    "X1 = normal(loc=20, scale=6, size=3000) \n",
    "X2 = normal(loc=40, scale=5, size=6000)\n",
    "guess1 = 10\n",
    "guess2 = 20\n",
    "X = hstack( (X1, X2) ) \n",
    "X = np.asarray(X)\n",
    "mean1,mean2,stdev1,stdev2=iterative_2_means(guess1,guess2,X,20,True)"
   ]
  },
  {
   "cell_type": "code",
   "execution_count": null,
   "metadata": {},
   "outputs": [],
   "source": []
  }
 ],
 "metadata": {
  "kernelspec": {
   "display_name": "Python 3",
   "language": "python",
   "name": "python3"
  },
  "language_info": {
   "codemirror_mode": {
    "name": "ipython",
    "version": 3
   },
   "file_extension": ".py",
   "mimetype": "text/x-python",
   "name": "python",
   "nbconvert_exporter": "python",
   "pygments_lexer": "ipython3",
   "version": "3.8.3"
  }
 },
 "nbformat": 4,
 "nbformat_minor": 2
}
