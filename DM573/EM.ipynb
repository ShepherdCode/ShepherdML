{
 "cells": [
  {
   "cell_type": "markdown",
   "metadata": {},
   "source": [
    "# GMM and EM\n",
    "Gaussian Mixture Models and Expectation Maximization  \n",
    "\n",
    "Here we show canned and homgrown implementations."
   ]
  },
  {
   "cell_type": "markdown",
   "metadata": {},
   "source": [
    "## Using a library call\n",
    "Follow tutorial in [mastery](https://machinelearningmastery.com/expectation-maximization-em-algorithm/)\n",
    "\n",
    "Use [sklearn](https://scikit-learn.org/stable/modules/generated/sklearn.mixture.GaussianMixture.html) class GaussianMixture."
   ]
  },
  {
   "cell_type": "code",
   "execution_count": 1,
   "metadata": {},
   "outputs": [
    {
     "data": {
      "image/png": "[encoded data removed]",
      "text/plain": [
       "<Figure size 432x288 with 1 Axes>"
      ]
     },
     "metadata": {
      "needs_background": "light"
     },
     "output_type": "display_data"
    }
   ],
   "source": [
    "# Straight from the Mastery site.\n",
    "# Construct a bimodal from two Gaussian processes.\n",
    "from numpy import hstack\n",
    "from numpy.random import normal\n",
    "from matplotlib import pyplot\n",
    "# normal ( mean, standard deviation, count )\n",
    "def plot(X1,X2):\n",
    "    X = hstack( (X1, X2) )  # horizontal stack i.e. concat\n",
    "    pyplot.hist(X, bins=50, density=True)\n",
    "    pyplot.show()\n",
    "X1 = normal(loc=20, scale=4, size=3000) \n",
    "X2 = normal(loc=40, scale=6, size=6000)\n",
    "plot(X1,X2)"
   ]
  },
  {
   "cell_type": "code",
   "execution_count": 2,
   "metadata": {},
   "outputs": [],
   "source": [
    "def show_gmm(model):\n",
    "    print(model)\n",
    "    for i in range(model.n_components):\n",
    "        print('Gaussian',i,'mean=',model.means_[i],\n",
    "            'wgt=',model.weights_[i], \n",
    "            'Cov=',model.covariances_[i])"
   ]
  },
  {
   "cell_type": "code",
   "execution_count": 3,
   "metadata": {},
   "outputs": [
    {
     "name": "stdout",
     "output_type": "stream",
     "text": [
      "Initialization 0\n",
      "Initialization converged: True\n",
      "GaussianMixture(covariance_type='spherical', n_components=2, verbose=1)\n",
      "Gaussian 0 mean= [20.05309374] wgt= 0.34004644852388455 Cov= 16.718874625114612\n",
      "Gaussian 1 mean= [40.22980955] wgt= 0.6599535514761126 Cov= 33.756151766542985\n"
     ]
    }
   ],
   "source": [
    "# Straight from the Mastery site.\n",
    "# Use EM to reverse engineer the model i.e. fit a GMM to the data.\n",
    "from sklearn.mixture import GaussianMixture\n",
    "X = hstack( (X1, X2) ) \n",
    "X = X.reshape((len(X), 1))\n",
    "# By default, covariance=‘full’: each component has its own general covariance matrix.\n",
    "# Use 'spherical' (one variance per mean) since our data has only one feature.\n",
    "# By default, init_params='kmeans'. Works much better than 'random'!\n",
    "model = GaussianMixture(n_components=2, verbose=1, covariance_type='spherical')\n",
    "model.fit(X)\n",
    "show_gmm(model)"
   ]
  },
  {
   "cell_type": "code",
   "execution_count": 4,
   "metadata": {},
   "outputs": [
    {
     "name": "stdout",
     "output_type": "stream",
     "text": [
      "Predicted class of a point on the left: 0\n",
      "Predicted class of a point on the right: 1\n"
     ]
    }
   ],
   "source": [
    "yhat = model.predict(X)\n",
    "print('Predicted class of a point on the left:',yhat[100])\n",
    "print('Predicted class of a point on the right:',yhat[-100])"
   ]
  },
  {
   "cell_type": "code",
   "execution_count": 5,
   "metadata": {},
   "outputs": [
    {
     "data": {
      "image/png": "[encoded data removed]",
      "text/plain": [
       "<Figure size 432x288 with 1 Axes>"
      ]
     },
     "metadata": {
      "needs_background": "light"
     },
     "output_type": "display_data"
    }
   ],
   "source": [
    "mean0=model.means_[0]\n",
    "mean1=model.means_[1]\n",
    "G0 = normal(loc=mean0, scale=4, size=3000) \n",
    "G1 = normal(loc=mean1, scale=6, size=6000)\n",
    "if mean0>mean1:\n",
    "    G0 = normal(loc=mean0, scale=4, size=6000) \n",
    "    G1 = normal(loc=mean1, scale=6, size=3000)\n",
    "plot(G0,G1)"
   ]
  },
  {
   "cell_type": "markdown",
   "metadata": {},
   "source": [
    "## Homegrown version\n",
    "Assumption: the observed data was generated by n Gaussian processes.\n",
    "Easy case: one-dimensional data (avoids matricies & covariance).\n",
    "Easy case: n=2.\n",
    "\n",
    "See [YouTube](https://youtu.be/iQoXFmbXRJA) video by Victor Lavrenko.\n",
    "\n",
    "At each iteration, we have two models to explain the data.\n",
    "Each model \"votes\" for each data point by assigning its Gaussian probability.\n",
    "\n",
    "The weight for the ith data point w[i]   \n",
    "equals   \n",
    "prob_of_i_under_model_1 / prob_of_i_under_all_models  \n",
    "equals  \n",
    "prob_of_i_under_model_1 / prob_of_i_under_model_1+prob_of_i_under_model_2\n",
    "\n",
    "Alternately, we can use Bayes rule to calculate posterior probabilities if priors are known.\n",
    "This code sets both priors to 50% so it doesn't really use Bayes. \n",
    "Optionally, this code can update the prior by counting cluster size at each step.\n",
    "It is not clear that these updates are justified,\n",
    "and in practice is makes the results much worse. \n",
    "We've seen it go on a downhill spiral where stdev and thus prior approach 0."
   ]
  },
  {
   "cell_type": "code",
   "execution_count": 26,
   "metadata": {},
   "outputs": [],
   "source": [
    "import scipy.stats as ss\n",
    "import numpy as np\n",
    "def likelihood_of_data(mean,stdev,data):\n",
    "    # Likelihood of each datapoint under the given Gaussian parameters.\n",
    "    L=np.asarray([ss.norm.pdf(x,loc=mean,scale=stdev) for x in data])\n",
    "    return L\n",
    "def conditional_probabilities(like1,like2): \n",
    "    # get conditional probability of each model given these likelihoods\n",
    "    length = len(like1)\n",
    "    cond1=np.zeros(length)\n",
    "    cond2=np.zeros(length)\n",
    "    # TO DO: use vectors instead of for loop \n",
    "    for i in range(length):      \n",
    "        # This formula is same as Bayes rule \n",
    "        # if we multiply both likelihoods by prior=50%\n",
    "        prob_of_data = like1[i]+like2[i]\n",
    "        cond1[i] = like1[i] / prob_of_data  \n",
    "        cond2[i] = like2[i] / prob_of_data  \n",
    "    return cond1,cond2\n",
    "def mle_mean(weights,data):\n",
    "    length = len(data)\n",
    "    weighted = data*weights  # Hadamard vector multiply\n",
    "    mean=sum(weighted)/sum(weights)\n",
    "    return mean\n",
    "def mle_stdev(mean,weights,data):\n",
    "    # sum of the squares of the weighted deviations from the mean\n",
    "    dev = data-mean\n",
    "    wdev = dev*weights\n",
    "    sse = sum(wdev**2)\n",
    "    stdev=float(np.sqrt(sse/sum(weights)))\n",
    "    return stdev\n",
    "def expectation_maximization(data,num_iter):\n",
    "    # These initial guesses are arbitrary but based on the overall data.\n",
    "    mean=np.mean(data)\n",
    "    stdev=np.std(data)\n",
    "    mean1 = mean-0.5\n",
    "    mean2 = mean+0.5\n",
    "    stdev1 = stdev\n",
    "    stdev2 = stdev\n",
    "    print('Initial means: %f +/- %d, %f +/- %d'%(mean1,stdev1,mean2,stdev2))\n",
    "    for i in range(num_iter):\n",
    "        # likelihood of each data point under each Gaussian model\n",
    "        like1 = likelihood_of_data(mean1,stdev1,data)\n",
    "        like2 = likelihood_of_data(mean2,stdev2,data)\n",
    "        # conditional prob of each point assuming either Gaussian model\n",
    "        cond1,cond2 = conditional_probabilities(like1,like2)\n",
    "        # re-compute MLE given the conditionals\n",
    "        mean1 = mle_mean(cond1,data)\n",
    "        mean2 = mle_mean(cond2,data)\n",
    "        stdev1 = mle_stdev(mean1,cond1,data)\n",
    "        stdev2 = mle_stdev(mean2,cond2,data)\n",
    "        print('Intermediate means: %f +/- %d, %f +/- %d'%(mean1,stdev1,mean2,stdev2))\n",
    "    print()\n",
    "    print('Final means: %f +/- %d, %f +/- %d'%(mean1,stdev1,mean2,stdev2))\n",
    "    return mean1,mean2,stdev1,stdev2"
   ]
  },
  {
   "cell_type": "code",
   "execution_count": 27,
   "metadata": {},
   "outputs": [
    {
     "name": "stdout",
     "output_type": "stream",
     "text": [
      "Initial means: 32.853365 +/- 10, 33.853365 +/- 10\n",
      "Intermediate means: 32.854026 +/- 7, 33.852696 +/- 7\n",
      "Intermediate means: 32.303825 +/- 8, 34.427703 +/- 7\n",
      "Intermediate means: 31.135043 +/- 8, 35.787601 +/- 6\n",
      "Intermediate means: 29.308834 +/- 9, 38.341446 +/- 4\n",
      "Intermediate means: 27.819773 +/- 9, 40.347093 +/- 3\n",
      "Intermediate means: 27.084902 +/- 8, 41.274618 +/- 3\n",
      "Intermediate means: 26.602027 +/- 8, 41.840215 +/- 3\n",
      "Intermediate means: 25.927297 +/- 7, 42.240890 +/- 3\n",
      "Intermediate means: 24.927243 +/- 6, 42.445485 +/- 4\n",
      "Intermediate means: 23.974419 +/- 6, 42.202100 +/- 4\n",
      "Intermediate means: 23.206768 +/- 5, 41.872863 +/- 4\n",
      "Intermediate means: 22.559093 +/- 5, 41.593148 +/- 4\n",
      "Intermediate means: 22.021608 +/- 5, 41.352999 +/- 4\n",
      "Intermediate means: 21.586262 +/- 4, 41.149522 +/- 4\n",
      "Intermediate means: 21.244946 +/- 4, 40.981724 +/- 5\n",
      "Intermediate means: 20.986302 +/- 4, 40.847931 +/- 5\n",
      "Intermediate means: 20.796235 +/- 4, 40.744899 +/- 5\n",
      "Intermediate means: 20.660133 +/- 4, 40.668104 +/- 5\n",
      "Intermediate means: 20.564669 +/- 4, 40.612471 +/- 5\n",
      "Intermediate means: 20.498749 +/- 4, 40.573092 +/- 5\n",
      "\n",
      "Final means: 20.498749 +/- 4, 40.573092 +/- 5\n"
     ]
    }
   ],
   "source": [
    "X1 = normal(loc=20, scale=4, size=3000) \n",
    "X2 = normal(loc=40, scale=6, size=6000)\n",
    "X = hstack( (X1, X2) ) \n",
    "X = np.asarray(X)\n",
    "mean1,mean2,stdev1,stdev2=expectation_maximization(X,20)"
   ]
  },
  {
   "cell_type": "markdown",
   "metadata": {},
   "source": [
    "## Explanation\n",
    "Assume every point was generated by process 0 or process 1.\n",
    "Z is a vector naming the generating process for each point. \n",
    "Z is an unknown, a latent variable, that we'll predict.\n",
    "\n",
    "Assume processes 0 and 1 are Gaussian. \n",
    "Each has a mean and stdev.\n",
    "These are the parameters of the generating model.\n",
    "These are unknowns that we'll estimate.\n",
    "\n",
    "Start by guessing the number of processes, and the mean and stdev of each.\n",
    "\n",
    "EM loops over two steps.  \n",
    "* E-Step: The word expectation is not helpul. For every point, assign responsibility to each process. For K-means, assign 0 for one and 1 for the other i.e. all-or-nothing. For GMM, assign probabilities that sum to one across all processes.  \n",
    "* M-Step: Re-estimate the mean and stdev of each process. Use maximum likelihood to choose parameters that maximize the likelihood of this data. When computing the new mean and stdev, weight the sums by the assigned responsibilities. "
   ]
  },
  {
   "cell_type": "code",
   "execution_count": null,
   "metadata": {},
   "outputs": [],
   "source": []
  }
 ],
 "metadata": {
  "kernelspec": {
   "display_name": "Python 3",
   "language": "python",
   "name": "python3"
  },
  "language_info": {
   "codemirror_mode": {
    "name": "ipython",
    "version": 3
   },
   "file_extension": ".py",
   "mimetype": "text/x-python",
   "name": "python",
   "nbconvert_exporter": "python",
   "pygments_lexer": "ipython3",
   "version": "3.8.3"
  }
 },
 "nbformat": 4,
 "nbformat_minor": 2
}
