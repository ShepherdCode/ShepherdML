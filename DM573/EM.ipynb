{
 "cells": [
  {
   "cell_type": "markdown",
   "metadata": {},
   "source": [
    "# GMM and EM\n",
    "Gaussian Mixture Models and Expectation Maximization  \n",
    "\n",
    "Here we show canned and homgrown implementations."
   ]
  },
  {
   "cell_type": "markdown",
   "metadata": {},
   "source": [
    "## Using a library call\n",
    "Follow tutorial in [mastery](https://machinelearningmastery.com/expectation-maximization-em-algorithm/)\n",
    "\n",
    "Use [sklearn](https://scikit-learn.org/stable/modules/generated/sklearn.mixture.GaussianMixture.html) class GaussianMixture."
   ]
  },
  {
   "cell_type": "code",
   "execution_count": 1,
   "metadata": {},
   "outputs": [
    {
     "data": {
      "image/png": "[encoded data removed]",
      "text/plain": [
       "<Figure size 432x288 with 1 Axes>"
      ]
     },
     "metadata": {
      "needs_background": "light"
     },
     "output_type": "display_data"
    }
   ],
   "source": [
    "# Straight from the Mastery site.\n",
    "# Construct a bimodal from two Gaussian processes.\n",
    "from numpy import hstack\n",
    "from numpy.random import normal\n",
    "from matplotlib import pyplot\n",
    "# normal ( mean, standard deviation, count )\n",
    "def plot(X1,X2):\n",
    "    X = hstack( (X1, X2) )  # horizontal stack i.e. concat\n",
    "    pyplot.hist(X, bins=50, density=True)\n",
    "    pyplot.show()\n",
    "X1 = normal(loc=20, scale=5, size=3000) \n",
    "X2 = normal(loc=40, scale=5, size=6000)\n",
    "plot(X1,X2)"
   ]
  },
  {
   "cell_type": "code",
   "execution_count": 2,
   "metadata": {},
   "outputs": [],
   "source": [
    "def show_gmm(model):\n",
    "    print(model)\n",
    "    for i in range(model.n_components):\n",
    "        print('Gaussian',i,'mean=',model.means_[i],\n",
    "            'wgt=',model.weights_[i], \n",
    "            'Cov=',model.covariances_[i])"
   ]
  },
  {
   "cell_type": "code",
   "execution_count": 3,
   "metadata": {},
   "outputs": [
    {
     "name": "stdout",
     "output_type": "stream",
     "text": [
      "Initialization 0\n",
      "Initialization converged: True\n",
      "GaussianMixture(covariance_type='spherical', n_components=2, verbose=1)\n",
      "Gaussian 0 mean= [20.13884889] wgt= 0.3375188202572885 Cov= 25.56891292158537\n",
      "Gaussian 1 mean= [40.16504497] wgt= 0.6624811797427124 Cov= 23.950486542014577\n"
     ]
    }
   ],
   "source": [
    "# Straight from the Mastery site.\n",
    "# Use EM to reverse engineer the model i.e. fit a GMM to the data.\n",
    "from sklearn.mixture import GaussianMixture\n",
    "X = hstack( (X1, X2) ) \n",
    "X = X.reshape((len(X), 1))\n",
    "# By default, covariance=‘full’: each component has its own general covariance matrix.\n",
    "# Use 'spherical' (one variance per mean) since our data has only one feature.\n",
    "# By default, init_params='kmeans'. Works much better than 'random'!\n",
    "model = GaussianMixture(n_components=2, verbose=1, covariance_type='spherical')\n",
    "model.fit(X)\n",
    "show_gmm(model)"
   ]
  },
  {
   "cell_type": "code",
   "execution_count": 4,
   "metadata": {},
   "outputs": [
    {
     "name": "stdout",
     "output_type": "stream",
     "text": [
      "Predicted class of a point on the left: 0\n",
      "Predicted class of a point on the right: 1\n"
     ]
    }
   ],
   "source": [
    "yhat = model.predict(X)\n",
    "print('Predicted class of a point on the left:',yhat[100])\n",
    "print('Predicted class of a point on the right:',yhat[-100])"
   ]
  },
  {
   "cell_type": "code",
   "execution_count": 5,
   "metadata": {},
   "outputs": [
    {
     "data": {
      "image/png": "[encoded data removed]",
      "text/plain": [
       "<Figure size 432x288 with 1 Axes>"
      ]
     },
     "metadata": {
      "needs_background": "light"
     },
     "output_type": "display_data"
    }
   ],
   "source": [
    "mean0=model.means_[0]\n",
    "mean1=model.means_[1]\n",
    "G0 = normal(loc=mean0, scale=5, size=3000) \n",
    "G1 = normal(loc=mean1, scale=5, size=6000)\n",
    "if mean0>mean1:\n",
    "    G0 = normal(loc=mean0, scale=5, size=6000) \n",
    "    G1 = normal(loc=mean1, scale=5, size=3000)\n",
    "plot(G0,G1)"
   ]
  },
  {
   "cell_type": "markdown",
   "metadata": {},
   "source": [
    "## Homegrown version\n",
    "See [YouTube](https://youtu.be/iQoXFmbXRJA) video by Victor Lavrenko,\n",
    "especially minute 3:46.\n",
    "\n",
    "At each iteration, we have two models to explain the data.\n",
    "Each model \"votes\" for each data point by assigning its Gaussian probability.\n",
    "Critically, we use Bayes Rule to incorporate observations that\n",
    "one model explains more data points than the other; those are priors. "
   ]
  },
  {
   "cell_type": "code",
   "execution_count": 6,
   "metadata": {},
   "outputs": [],
   "source": [
    "import scipy.stats as ss\n",
    "import numpy as np\n",
    "def assign_probs(mean,stdev,data):\n",
    "    dist = ss.norm(mean,stdev)\n",
    "    probs=np.asarray([dist.pdf(x) for x in data])\n",
    "    return probs\n",
    "def bayes(prob_under_this,prob_under_other,prior_for_this,):\n",
    "    prior_for_other = 1-prior_for_this\n",
    "    numerator = prob_under_this * prior_for_this\n",
    "    denominator = numerator + prob_under_other * prior_for_other\n",
    "    posterior = numerator / denominator\n",
    "    return posterior\n",
    "def assign_weights(probs1,probs2,prior1):\n",
    "    prior2 = 1-prior1\n",
    "    length = len(probs1)\n",
    "    weights1=np.zeros(length)\n",
    "    weights2=np.zeros(length)\n",
    "    for i in range(length):    # do without for loop ?                 \n",
    "        weights1[i]=bayes(probs1[i],probs2[i],prior1)  \n",
    "        weights2[i]=bayes(probs2[i],probs1[i],prior2)  \n",
    "    return weights1,weights2\n",
    "def update_mean(weights,data):\n",
    "    length = len(data)\n",
    "    weighted = data*weights  # Hadamard vector multiply\n",
    "    mean=sum(weighted)/sum(weights)\n",
    "    return mean\n",
    "def update_stdev(mean,weights,data):\n",
    "    # sum of the squares of the weighted deviations from the mean\n",
    "    sse = sum(((data-mean)*weights)**2)\n",
    "    stdev=float(np.sqrt(sse/sum(weights)))\n",
    "    return stdev\n",
    "def iterative_2_means(mean1,mean2,data,num_iter):\n",
    "    # initial guess is both equal to overall\n",
    "    stdev1=np.std(data)\n",
    "    stdev2=update_stdev(np.mean(data),np.ones(len(data)),data)  # should be same\n",
    "    print('Initial means: %d +/- %d, %d +/- %d'%(mean1,stdev1,mean2,stdev2))\n",
    "    prior1 = 0.5\n",
    "    for i in range(num_iter):\n",
    "        probs1=assign_probs(mean1,stdev1,data)\n",
    "        probs2=assign_probs(mean2,stdev2,data)\n",
    "        weights1,weights2 = assign_weights(probs1,probs2,prior1)\n",
    "        mean1 = update_mean(weights1,data)\n",
    "        mean2 = update_mean(weights2,data)\n",
    "        stdev1 = update_stdev(mean1,weights1,data)\n",
    "        stdev2 = update_stdev(mean2,weights2,data)\n",
    "        print('Intermediate means: %d +/- %d, %d +/- %d'%(mean1,stdev1,mean2,stdev2))\n",
    "    print()\n",
    "    print('Final means: %d +/- %d, %d +/- %d'%(mean1,stdev1,mean2,stdev2))\n",
    "    return mean1,mean2,stdev1,stdev2"
   ]
  },
  {
   "cell_type": "code",
   "execution_count": 10,
   "metadata": {},
   "outputs": [
    {
     "name": "stdout",
     "output_type": "stream",
     "text": [
      "Initial means: 1 +/- 10, 2 +/- 10\n",
      "Intermediate means: 32 +/- 6, 33 +/- 7\n",
      "Intermediate means: 32 +/- 6, 33 +/- 7\n",
      "Intermediate means: 33 +/- 6, 33 +/- 7\n",
      "Intermediate means: 33 +/- 6, 33 +/- 7\n",
      "Intermediate means: 35 +/- 5, 31 +/- 8\n",
      "Intermediate means: 38 +/- 2, 29 +/- 9\n",
      "Intermediate means: 39 +/- 2, 26 +/- 8\n",
      "Intermediate means: 40 +/- 2, 25 +/- 7\n",
      "Intermediate means: 40 +/- 2, 24 +/- 7\n",
      "Intermediate means: 40 +/- 2, 23 +/- 6\n",
      "Intermediate means: 40 +/- 2, 22 +/- 5\n",
      "Intermediate means: 40 +/- 2, 21 +/- 5\n",
      "Intermediate means: 40 +/- 2, 20 +/- 5\n",
      "Intermediate means: 40 +/- 2, 20 +/- 5\n",
      "Intermediate means: 40 +/- 2, 20 +/- 4\n",
      "Intermediate means: 40 +/- 2, 20 +/- 4\n",
      "Intermediate means: 40 +/- 2, 20 +/- 4\n",
      "Intermediate means: 40 +/- 2, 20 +/- 4\n",
      "Intermediate means: 40 +/- 2, 20 +/- 4\n",
      "Intermediate means: 40 +/- 2, 20 +/- 4\n",
      "\n",
      "Final means: 40 +/- 2, 20 +/- 4\n"
     ]
    }
   ],
   "source": [
    "X1 = normal(loc=20, scale=5, size=3000) \n",
    "X2 = normal(loc=40, scale=3, size=6000)\n",
    "guess1 = 1\n",
    "guess2 = 2\n",
    "X = hstack( (X1, X2) ) \n",
    "X = np.asarray(X)\n",
    "mean1,mean2,stdev1,stdev2=iterative_2_means(guess1,guess2,X,20)"
   ]
  },
  {
   "cell_type": "code",
   "execution_count": null,
   "metadata": {},
   "outputs": [],
   "source": []
  }
 ],
 "metadata": {
  "kernelspec": {
   "display_name": "Python 3",
   "language": "python",
   "name": "python3"
  },
  "language_info": {
   "codemirror_mode": {
    "name": "ipython",
    "version": 3
   },
   "file_extension": ".py",
   "mimetype": "text/x-python",
   "name": "python",
   "nbconvert_exporter": "python",
   "pygments_lexer": "ipython3",
   "version": "3.8.3"
  }
 },
 "nbformat": 4,
 "nbformat_minor": 2
}
