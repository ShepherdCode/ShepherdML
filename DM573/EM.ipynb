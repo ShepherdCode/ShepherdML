{
 "cells": [
  {
   "cell_type": "markdown",
   "metadata": {},
   "source": [
    "# GMM and EM\n",
    "Gaussian Mixture Models and Expectation Maximization  \n",
    "\n",
    "Here we show canned and homgrown implementations."
   ]
  },
  {
   "cell_type": "markdown",
   "metadata": {},
   "source": [
    "## Using a library call\n",
    "Follow tutorial in [mastery](https://machinelearningmastery.com/expectation-maximization-em-algorithm/)\n",
    "\n",
    "Use [sklearn](https://scikit-learn.org/stable/modules/generated/sklearn.mixture.GaussianMixture.html) class GaussianMixture."
   ]
  },
  {
   "cell_type": "code",
   "execution_count": 8,
   "metadata": {},
   "outputs": [
    {
     "data": {
      "image/png": "[encoded data removed]",
      "text/plain": [
       "<Figure size 432x288 with 1 Axes>"
      ]
     },
     "metadata": {
      "needs_background": "light"
     },
     "output_type": "display_data"
    }
   ],
   "source": [
    "# Straight from the Mastery site.\n",
    "# Construct a bimodal from two Gaussian processes.\n",
    "from numpy import hstack\n",
    "from numpy.random import normal\n",
    "from matplotlib import pyplot\n",
    "# normal ( mean, standard deviation, count )\n",
    "def plot(X1,X2):\n",
    "    X = hstack( (X1, X2) )  # horizontal stack i.e. concat\n",
    "    pyplot.hist(X, bins=50, density=True)\n",
    "    pyplot.show()\n",
    "X1 = normal(loc=20, scale=5, size=3000) \n",
    "X2 = normal(loc=40, scale=5, size=6000)\n",
    "plot(X1,X2)"
   ]
  },
  {
   "cell_type": "code",
   "execution_count": 9,
   "metadata": {},
   "outputs": [],
   "source": [
    "def show_gmm(model):\n",
    "    print(model)\n",
    "    for i in range(model.n_components):\n",
    "        print('Gaussian',i,'mean=',model.means_[i],\n",
    "            'wgt=',model.weights_[i], \n",
    "            'Cov=',model.covariances_[i])"
   ]
  },
  {
   "cell_type": "code",
   "execution_count": 10,
   "metadata": {},
   "outputs": [
    {
     "name": "stdout",
     "output_type": "stream",
     "text": [
      "Initialization 0\n",
      "Initialization converged: True\n",
      "GaussianMixture(covariance_type='spherical', n_components=2, verbose=1)\n",
      "Gaussian 0 mean= [19.90665747] wgt= 0.3344511357135007 Cov= 25.248074096497877\n",
      "Gaussian 1 mean= [40.01071329] wgt= 0.6655488642865003 Cov= 25.223305196742448\n"
     ]
    }
   ],
   "source": [
    "# Straight from the Mastery site.\n",
    "# Use EM to reverse engineer the model i.e. fit a GMM to the data.\n",
    "from sklearn.mixture import GaussianMixture\n",
    "X = hstack( (X1, X2) ) \n",
    "X = X.reshape((len(X), 1))\n",
    "# By default, covariance=‘full’: each component has its own general covariance matrix.\n",
    "# Use 'spherical' (one variance per mean) since our data has only one feature.\n",
    "# By default, init_params='kmeans'. Works much better than 'random'!\n",
    "model = GaussianMixture(n_components=2, verbose=1, covariance_type='spherical')\n",
    "model.fit(X)\n",
    "show_gmm(model)"
   ]
  },
  {
   "cell_type": "code",
   "execution_count": 11,
   "metadata": {},
   "outputs": [
    {
     "name": "stdout",
     "output_type": "stream",
     "text": [
      "Predicted class of a point on the left: 0\n",
      "Predicted class of a point on the right: 1\n"
     ]
    }
   ],
   "source": [
    "yhat = model.predict(X)\n",
    "print('Predicted class of a point on the left:',yhat[100])\n",
    "print('Predicted class of a point on the right:',yhat[-100])"
   ]
  },
  {
   "cell_type": "code",
   "execution_count": 12,
   "metadata": {},
   "outputs": [
    {
     "data": {
      "image/png": "[encoded data removed]",
      "text/plain": [
       "<Figure size 432x288 with 1 Axes>"
      ]
     },
     "metadata": {
      "needs_background": "light"
     },
     "output_type": "display_data"
    }
   ],
   "source": [
    "mean0=model.means_[0]\n",
    "mean1=model.means_[1]\n",
    "G0 = normal(loc=mean0, scale=5, size=3000) \n",
    "G1 = normal(loc=mean1, scale=5, size=6000)\n",
    "if mean0>mean1:\n",
    "    G0 = normal(loc=mean0, scale=5, size=6000) \n",
    "    G1 = normal(loc=mean1, scale=5, size=3000)\n",
    "plot(G0,G1)"
   ]
  },
  {
   "cell_type": "markdown",
   "metadata": {},
   "source": [
    "## Homegrown version"
   ]
  },
  {
   "cell_type": "code",
   "execution_count": 54,
   "metadata": {},
   "outputs": [],
   "source": [
    "import scipy.stats as ss\n",
    "import numpy as np\n",
    "def is_closer(point,this_mean,that_mean):\n",
    "    return abs(point-this_mean) < abs(point-that_mean)\n",
    "def sse(vector,mean):\n",
    "    err=vector-mean\n",
    "    se=np.square(err)\n",
    "    sse=sum(se)\n",
    "    return int(sse)\n",
    "def assign_probs(mean,stdev,data):\n",
    "    dist = ss.norm(mean,stdev)\n",
    "    probs=np.asarray([dist.pdf(x) for x in data])\n",
    "    return probs\n",
    "def recompute_means(clust1,clust2):\n",
    "    mean1=np.mean(clust1)\n",
    "    mean2=np.mean(clust2)\n",
    "    print('Means:',mean1,mean2)\n",
    "    return mean1,mean2\n",
    "def iterative_2_means_delta(mean1,mean2,data,delta):\n",
    "    stdev1=np.std(data)\n",
    "    stdev2=np.std(data)\n",
    "    probs1=assign_probs(mean1,stdev1,data)\n",
    "    probs2=assign_probs(mean2,stdev2,data)\n",
    "    print('probs')\n",
    "    print(probs1)\n",
    "    print(probs2)\n",
    "    weights1=np.zeros(len(data))\n",
    "    weights2=np.zeros(len(data))\n",
    "    weighted1=np.zeros(len(data))\n",
    "    weighted2=np.zeros(len(data))\n",
    "    for i in range(len(data)):\n",
    "        p1=probs1[i]\n",
    "        p2=probs2[i]\n",
    "        weights1[i]=p1/p2\n",
    "        weights2[i]=p2/p1\n",
    "        weighted1[i]=data[i]*weights1[i]\n",
    "        weighted2[i]=data[i]*weights2[i]\n",
    "    print('weights')\n",
    "    print(weights1)\n",
    "    print(weights2)\n",
    "    print('weighted')\n",
    "    print(weighted1)\n",
    "    print(weighted2)\n",
    "    mean1=sum(weighted1)/sum(weights1)\n",
    "    mean2=sum(weighted2)/sum(weights2)\n",
    "    return mean1,mean2"
   ]
  },
  {
   "cell_type": "code",
   "execution_count": 55,
   "metadata": {},
   "outputs": [
    {
     "name": "stdout",
     "output_type": "stream",
     "text": [
      "Data [[18.51226248]\n",
      " [26.73774525]\n",
      " [13.2927098 ]\n",
      " [45.07066551]\n",
      " [40.06657397]\n",
      " [53.46652969]]\n",
      "Initial means: 20 40\n",
      "probs\n",
      "[[0.02747264]\n",
      " [0.02477178]\n",
      " [0.0247961 ]\n",
      " [0.00612434]\n",
      " [0.01052282]\n",
      " [0.00188611]]\n",
      "[[0.0091342 ]\n",
      " [0.0181197 ]\n",
      " [0.0049988 ]\n",
      " [0.02596838]\n",
      " [0.02761845]\n",
      " [0.01788416]]\n",
      "weights\n",
      "[3.00766621 1.36711888 4.960408   0.23583844 0.38100686 0.10546256]\n",
      "[0.3324837  0.73146529 0.20159632 4.24019089 2.62462464 9.48203755]\n",
      "weighted\n",
      "[55.67870639 36.5536763  65.9372641  10.6293954  15.26563965  5.63871735]\n",
      "[  6.15502558  19.55773246   2.67976138 191.10822526 105.15971734\n",
      " 506.9716422 ]\n",
      "Final means: 18.861882280769205 47.21856080464579\n"
     ]
    }
   ],
   "source": [
    "X1 = normal(loc=20, scale=5, size=3) # size=3000) \n",
    "X2 = normal(loc=40, scale=5, size=3) # size=6000)\n",
    "guess1 = 20\n",
    "guess2 = 40\n",
    "X = hstack( (X1, X2) ) \n",
    "X = X.reshape((len(X), 1))\n",
    "X = np.asarray(X)\n",
    "print('Data',X)\n",
    "print('Initial means:',guess1,guess2)\n",
    "mean1,mean2=iterative_2_means_delta(guess1,guess2,X,0.01)\n",
    "print('Final means:',mean1,mean2)\n"
   ]
  },
  {
   "cell_type": "code",
   "execution_count": null,
   "metadata": {},
   "outputs": [],
   "source": []
  }
 ],
 "metadata": {
  "kernelspec": {
   "display_name": "Python 3",
   "language": "python",
   "name": "python3"
  },
  "language_info": {
   "codemirror_mode": {
    "name": "ipython",
    "version": 3
   },
   "file_extension": ".py",
   "mimetype": "text/x-python",
   "name": "python",
   "nbconvert_exporter": "python",
   "pygments_lexer": "ipython3",
   "version": "3.8.3"
  }
 },
 "nbformat": 4,
 "nbformat_minor": 2
}
