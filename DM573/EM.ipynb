{
 "cells": [
  {
   "cell_type": "markdown",
   "metadata": {},
   "source": [
    "# GMM and EM\n",
    "Gaussian Mixture Models and Expectation Maximization  \n",
    "\n",
    "Here we show canned and homgrown implementations."
   ]
  },
  {
   "cell_type": "markdown",
   "metadata": {},
   "source": [
    "## Using a library call\n",
    "Follow tutorial in [mastery](https://machinelearningmastery.com/expectation-maximization-em-algorithm/)\n",
    "\n",
    "Use [sklearn](https://scikit-learn.org/stable/modules/generated/sklearn.mixture.GaussianMixture.html) class GaussianMixture."
   ]
  },
  {
   "cell_type": "code",
   "execution_count": 8,
   "metadata": {},
   "outputs": [
    {
     "data": {
      "image/png": "[encoded data removed]",
      "text/plain": [
       "<Figure size 432x288 with 1 Axes>"
      ]
     },
     "metadata": {
      "needs_background": "light"
     },
     "output_type": "display_data"
    }
   ],
   "source": [
    "# Straight from the Mastery site.\n",
    "# Construct a bimodal from two Gaussian processes.\n",
    "from numpy import hstack\n",
    "from numpy.random import normal\n",
    "from matplotlib import pyplot\n",
    "# normal ( mean, standard deviation, count )\n",
    "def plot(X1,X2):\n",
    "    X = hstack( (X1, X2) )  # horizontal stack i.e. concat\n",
    "    pyplot.hist(X, bins=50, density=True)\n",
    "    pyplot.show()\n",
    "X1 = normal(loc=20, scale=4, size=3000) \n",
    "X2 = normal(loc=40, scale=6, size=6000)\n",
    "plot(X1,X2)"
   ]
  },
  {
   "cell_type": "code",
   "execution_count": 9,
   "metadata": {},
   "outputs": [],
   "source": [
    "def show_gmm(model):\n",
    "    print(model)\n",
    "    for i in range(model.n_components):\n",
    "        print('Gaussian',i,'mean=',model.means_[i],\n",
    "            'wgt=',model.weights_[i], \n",
    "            'Cov=',model.covariances_[i])"
   ]
  },
  {
   "cell_type": "code",
   "execution_count": 10,
   "metadata": {},
   "outputs": [
    {
     "name": "stdout",
     "output_type": "stream",
     "text": [
      "Initialization 0\n",
      "Initialization converged: True\n",
      "GaussianMixture(covariance_type='spherical', n_components=2, verbose=1)\n",
      "Gaussian 0 mean= [40.12945753] wgt= 0.6563470239494186 Cov= 33.647695302458146\n",
      "Gaussian 1 mean= [20.20550312] wgt= 0.3436529760505827 Cov= 17.082524852264957\n"
     ]
    }
   ],
   "source": [
    "# Straight from the Mastery site.\n",
    "# Use EM to reverse engineer the model i.e. fit a GMM to the data.\n",
    "from sklearn.mixture import GaussianMixture\n",
    "X = hstack( (X1, X2) ) \n",
    "X = X.reshape((len(X), 1))\n",
    "# By default, covariance=‘full’: each component has its own general covariance matrix.\n",
    "# Use 'spherical' (one variance per mean) since our data has only one feature.\n",
    "# By default, init_params='kmeans'. Works much better than 'random'!\n",
    "model = GaussianMixture(n_components=2, verbose=1, covariance_type='spherical')\n",
    "model.fit(X)\n",
    "show_gmm(model)"
   ]
  },
  {
   "cell_type": "code",
   "execution_count": 11,
   "metadata": {},
   "outputs": [
    {
     "name": "stdout",
     "output_type": "stream",
     "text": [
      "Predicted class of a point on the left: 1\n",
      "Predicted class of a point on the right: 0\n"
     ]
    }
   ],
   "source": [
    "yhat = model.predict(X)\n",
    "print('Predicted class of a point on the left:',yhat[100])\n",
    "print('Predicted class of a point on the right:',yhat[-100])"
   ]
  },
  {
   "cell_type": "code",
   "execution_count": 13,
   "metadata": {},
   "outputs": [
    {
     "data": {
      "image/png": "[encoded data removed]",
      "text/plain": [
       "<Figure size 432x288 with 1 Axes>"
      ]
     },
     "metadata": {
      "needs_background": "light"
     },
     "output_type": "display_data"
    }
   ],
   "source": [
    "mean0=model.means_[0]\n",
    "mean1=model.means_[1]\n",
    "G0 = normal(loc=mean0, scale=4, size=3000) \n",
    "G1 = normal(loc=mean1, scale=6, size=6000)\n",
    "if mean0>mean1:\n",
    "    G0 = normal(loc=mean0, scale=4, size=6000) \n",
    "    G1 = normal(loc=mean1, scale=6, size=3000)\n",
    "plot(G0,G1)"
   ]
  },
  {
   "cell_type": "markdown",
   "metadata": {},
   "source": [
    "## Homegrown version\n",
    "See [YouTube](https://youtu.be/iQoXFmbXRJA) video by Victor Lavrenko,\n",
    "especially minute 3:46.\n",
    "\n",
    "At each iteration, we have two models to explain the data.\n",
    "Each model \"votes\" for each data point by assigning its Gaussian probability.\n",
    "\n",
    "The weight for the ith data point w[i]   \n",
    "equals   \n",
    "prob_of_i_under_model_1 / prob_of_i_under_all_models  \n",
    "equals  \n",
    "prob_of_i_under_model_1 / prob_of_i_under_model_1+prob_of_i_under_model_2\n",
    "\n",
    "Alternately, we can use Bayes rule to calculate posterior probabilities if priors are known.\n",
    "This code sets both priors to 50% so it doesn't really use Bayes. \n",
    "Optionally, this code can update the prior by counting cluster size at each step.\n",
    "It is not clear that these updates are justified,\n",
    "and in practice is makes the results much worse. \n",
    "We've seen it go on a downhill spiral where stdev and thus prior approach 0."
   ]
  },
  {
   "cell_type": "code",
   "execution_count": 14,
   "metadata": {},
   "outputs": [],
   "source": [
    "import scipy.stats as ss\n",
    "import numpy as np\n",
    "def assign_probs(mean,stdev,data):\n",
    "    probs=np.asarray([ss.norm.pdf(x,loc=mean,scale=stdev) for x in data])\n",
    "    return probs\n",
    "def bayes(prob_under_this,prior_for_this,prob_under_other):\n",
    "    prior_for_other = 1-prior_for_this\n",
    "    numerator = prob_under_this * prior_for_this\n",
    "    denominator = numerator + prob_under_other * prior_for_other\n",
    "    posterior = numerator / denominator\n",
    "    return posterior\n",
    "def assign_weights(probs1,probs2,prior1):\n",
    "    prior2 = 1-prior1\n",
    "    length = len(probs1)\n",
    "    weights1=np.zeros(length)\n",
    "    weights2=np.zeros(length)\n",
    "    for i in range(length):    # do without for loop ?                 \n",
    "        weights1[i]=bayes(probs1[i],prior1,probs2[i])  \n",
    "        weights2[i]=bayes(probs2[i],prior2,probs1[i])  \n",
    "    return weights1,weights2\n",
    "def update_mean(weights,data):\n",
    "    length = len(data)\n",
    "    weighted = data*weights  # Hadamard vector multiply\n",
    "    mean=sum(weighted)/sum(weights)\n",
    "    return mean\n",
    "def update_stdev(mean,weights,data):\n",
    "    # sum of the squares of the weighted deviations from the mean\n",
    "    dev = data-mean\n",
    "    wdev = dev*weights\n",
    "    sse = sum(wdev**2)\n",
    "    stdev=float(np.sqrt(sse/sum(weights)))\n",
    "    return stdev\n",
    "def update_prior(probs1,probs2):\n",
    "    # Not clear there is any prior information to build on.\n",
    "    # prior = sum(probs)/len(probs)  # doesn't work!\n",
    "    length = len(probs1)\n",
    "    mine = 0\n",
    "    for i in range(length):\n",
    "        if probs1[i]>probs2[i]:\n",
    "            mine += 1\n",
    "    return mine / length\n",
    "def iterative_2_means(mean1,mean2,data,num_iter,update_priors):\n",
    "    # initial guess is both equal to overall\n",
    "    stdev1=np.std(data)\n",
    "    stdev2=update_stdev(np.mean(data),np.ones(len(data)),data)  # should be same\n",
    "    print('Initial means: %f +/- %d, %f +/- %d'%(mean1,stdev1,mean2,stdev2))\n",
    "    prior1 = 0.5\n",
    "    for i in range(num_iter):\n",
    "        probs1=assign_probs(mean1,stdev1,data)\n",
    "        probs2=assign_probs(mean2,stdev2,data)\n",
    "        weights1,weights2 = assign_weights(probs1,probs2,prior1)\n",
    "        mean1 = update_mean(weights1,data)\n",
    "        mean2 = update_mean(weights2,data)\n",
    "        stdev1 = update_stdev(mean1,weights1,data)\n",
    "        stdev2 = update_stdev(mean2,weights2,data)\n",
    "        print('Intermediate means: %f +/- %d, %f +/- %d (%f)'%(mean1,stdev1,mean2,stdev2,prior1))\n",
    "        if update_priors:\n",
    "            prior1=update_prior(probs1,probs2)\n",
    "    print()\n",
    "    print('Final means: %f +/- %d, %f +/- %d'%(mean1,stdev1,mean2,stdev2))\n",
    "    return mean1,mean2,stdev1,stdev2"
   ]
  },
  {
   "cell_type": "code",
   "execution_count": 7,
   "metadata": {},
   "outputs": [
    {
     "name": "stdout",
     "output_type": "stream",
     "text": [
      "Initial means: 10.000000 +/- 10, 20.000000 +/- 10\n",
      "Intermediate means: 26.008602 +/- 4, 35.375446 +/- 8 (0.500000)\n",
      "Intermediate means: 23.493979 +/- 4, 38.553664 +/- 6 (0.500000)\n",
      "Intermediate means: 21.159856 +/- 4, 40.536749 +/- 5 (0.500000)\n",
      "Intermediate means: 20.847897 +/- 4, 40.703031 +/- 5 (0.500000)\n",
      "Intermediate means: 20.762206 +/- 4, 40.653841 +/- 5 (0.500000)\n",
      "Intermediate means: 20.705592 +/- 4, 40.619504 +/- 5 (0.500000)\n",
      "Intermediate means: 20.668055 +/- 4, 40.596387 +/- 5 (0.500000)\n",
      "Intermediate means: 20.643392 +/- 4, 40.581015 +/- 5 (0.500000)\n",
      "Intermediate means: 20.627270 +/- 4, 40.570887 +/- 5 (0.500000)\n",
      "Intermediate means: 20.616768 +/- 4, 40.564253 +/- 5 (0.500000)\n",
      "Intermediate means: 20.609941 +/- 4, 40.559927 +/- 5 (0.500000)\n",
      "Intermediate means: 20.605510 +/- 4, 40.557111 +/- 5 (0.500000)\n",
      "Intermediate means: 20.602637 +/- 4, 40.555283 +/- 5 (0.500000)\n",
      "Intermediate means: 20.600774 +/- 4, 40.554097 +/- 5 (0.500000)\n",
      "Intermediate means: 20.599568 +/- 4, 40.553328 +/- 5 (0.500000)\n",
      "Intermediate means: 20.598786 +/- 4, 40.552830 +/- 5 (0.500000)\n",
      "Intermediate means: 20.598280 +/- 4, 40.552507 +/- 5 (0.500000)\n",
      "Intermediate means: 20.597953 +/- 4, 40.552298 +/- 5 (0.500000)\n",
      "Intermediate means: 20.597740 +/- 4, 40.552163 +/- 5 (0.500000)\n",
      "Intermediate means: 20.597603 +/- 4, 40.552075 +/- 5 (0.500000)\n",
      "\n",
      "Final means: 20.597603 +/- 4, 40.552075 +/- 5\n"
     ]
    }
   ],
   "source": [
    "X1 = normal(loc=20, scale=4, size=3000) \n",
    "X2 = normal(loc=40, scale=6, size=6000)\n",
    "guess1 = 10\n",
    "guess2 = 20\n",
    "X = hstack( (X1, X2) ) \n",
    "X = np.asarray(X)\n",
    "mean1,mean2,stdev1,stdev2=iterative_2_means(guess1,guess2,X,20,False)"
   ]
  },
  {
   "cell_type": "markdown",
   "metadata": {},
   "source": [
    "## Explanation\n",
    "Assume every point was generated by process 0 or process 1.\n",
    "Z is a vector naming the generating process for each point. \n",
    "Z is an unknown, a latent variable, that we'll predict.\n",
    "\n",
    "Assume processes 0 and 1 are Gaussian. \n",
    "Each has a mean and stdev.\n",
    "These are the parameters of the generating model.\n",
    "These are unknowns that we'll estimate.\n",
    "\n",
    "Start by guessing the number of processes, and the mean and stdev of each.\n",
    "\n",
    "EM loops over two steps.  \n",
    "* E-Step: The word expectation is not helpul. For every point, assign responsibility to each process. For K-means, assign 0 for one and 1 for the other i.e. all-or-nothing. For GMM, assign probabilities that sum to one across all processes.  \n",
    "* M-Step: Re-estimate the mean and stdev of each process. Use maximum likelihood to choose parameters that maximize the likelihood of this data. When computing the new mean and stdev, weight the sums by the assigned responsibilities. "
   ]
  },
  {
   "cell_type": "code",
   "execution_count": null,
   "metadata": {},
   "outputs": [],
   "source": []
  }
 ],
 "metadata": {
  "kernelspec": {
   "display_name": "Python 3",
   "language": "python",
   "name": "python3"
  },
  "language_info": {
   "codemirror_mode": {
    "name": "ipython",
    "version": 3
   },
   "file_extension": ".py",
   "mimetype": "text/x-python",
   "name": "python",
   "nbconvert_exporter": "python",
   "pygments_lexer": "ipython3",
   "version": "3.8.3"
  }
 },
 "nbformat": 4,
 "nbformat_minor": 2
}
