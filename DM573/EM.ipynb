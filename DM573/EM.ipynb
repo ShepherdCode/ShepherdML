{
 "cells": [
  {
   "cell_type": "markdown",
   "metadata": {},
   "source": [
    "# GMM and EM\n",
    "Gaussian Mixture Models and Expectation Maximization  \n",
    "\n",
    "Here we show canned and homgrown implementations."
   ]
  },
  {
   "cell_type": "markdown",
   "metadata": {},
   "source": [
    "## Using a library call\n",
    "Follow tutorial in [mastery](https://machinelearningmastery.com/expectation-maximization-em-algorithm/)\n",
    "\n",
    "Use [sklearn](https://scikit-learn.org/stable/modules/generated/sklearn.mixture.GaussianMixture.html) class GaussianMixture."
   ]
  },
  {
   "cell_type": "code",
   "execution_count": 1,
   "metadata": {},
   "outputs": [
    {
     "data": {
      "image/png": "[encoded data removed]",
      "text/plain": [
       "<Figure size 432x288 with 1 Axes>"
      ]
     },
     "metadata": {
      "needs_background": "light"
     },
     "output_type": "display_data"
    }
   ],
   "source": [
    "# Straight from the Mastery site.\n",
    "# Construct a bimodal from two Gaussian processes.\n",
    "from numpy import hstack\n",
    "from numpy.random import normal\n",
    "from matplotlib import pyplot\n",
    "# normal ( mean, standard deviation, count )\n",
    "def plot(X1,X2):\n",
    "    X = hstack( (X1, X2) )  # horizontal stack i.e. concat\n",
    "    pyplot.hist(X, bins=50, density=True)\n",
    "    pyplot.show()\n",
    "X1 = normal(loc=20, scale=5, size=3000) \n",
    "X2 = normal(loc=40, scale=5, size=6000)\n",
    "plot(X1,X2)"
   ]
  },
  {
   "cell_type": "code",
   "execution_count": 2,
   "metadata": {},
   "outputs": [],
   "source": [
    "def show_gmm(model):\n",
    "    print(model)\n",
    "    for i in range(model.n_components):\n",
    "        print('Gaussian',i,'mean=',model.means_[i],\n",
    "            'wgt=',model.weights_[i], \n",
    "            'Cov=',model.covariances_[i])"
   ]
  },
  {
   "cell_type": "code",
   "execution_count": 3,
   "metadata": {},
   "outputs": [
    {
     "name": "stdout",
     "output_type": "stream",
     "text": [
      "Initialization 0\n",
      "Initialization converged: True\n",
      "GaussianMixture(covariance_type='spherical', n_components=2, verbose=1)\n",
      "Gaussian 0 mean= [40.08491144] wgt= 0.6619829885555241 Cov= 23.93286498148689\n",
      "Gaussian 1 mean= [20.16155396] wgt= 0.338017011444476 Cov= 25.59689289093257\n"
     ]
    }
   ],
   "source": [
    "# Straight from the Mastery site.\n",
    "# Use EM to reverse engineer the model i.e. fit a GMM to the data.\n",
    "from sklearn.mixture import GaussianMixture\n",
    "X = hstack( (X1, X2) ) \n",
    "X = X.reshape((len(X), 1))\n",
    "# By default, covariance=‘full’: each component has its own general covariance matrix.\n",
    "# Use 'spherical' (one variance per mean) since our data has only one feature.\n",
    "# By default, init_params='kmeans'. Works much better than 'random'!\n",
    "model = GaussianMixture(n_components=2, verbose=1, covariance_type='spherical')\n",
    "model.fit(X)\n",
    "show_gmm(model)"
   ]
  },
  {
   "cell_type": "code",
   "execution_count": 4,
   "metadata": {},
   "outputs": [
    {
     "name": "stdout",
     "output_type": "stream",
     "text": [
      "Predicted class of a point on the left: 1\n",
      "Predicted class of a point on the right: 0\n"
     ]
    }
   ],
   "source": [
    "yhat = model.predict(X)\n",
    "print('Predicted class of a point on the left:',yhat[100])\n",
    "print('Predicted class of a point on the right:',yhat[-100])"
   ]
  },
  {
   "cell_type": "code",
   "execution_count": 5,
   "metadata": {},
   "outputs": [
    {
     "data": {
      "image/png": "[encoded data removed]",
      "text/plain": [
       "<Figure size 432x288 with 1 Axes>"
      ]
     },
     "metadata": {
      "needs_background": "light"
     },
     "output_type": "display_data"
    }
   ],
   "source": [
    "mean0=model.means_[0]\n",
    "mean1=model.means_[1]\n",
    "G0 = normal(loc=mean0, scale=5, size=3000) \n",
    "G1 = normal(loc=mean1, scale=5, size=6000)\n",
    "if mean0>mean1:\n",
    "    G0 = normal(loc=mean0, scale=5, size=6000) \n",
    "    G1 = normal(loc=mean1, scale=5, size=3000)\n",
    "plot(G0,G1)"
   ]
  },
  {
   "cell_type": "markdown",
   "metadata": {},
   "source": [
    "## Homegrown version"
   ]
  },
  {
   "cell_type": "code",
   "execution_count": 31,
   "metadata": {},
   "outputs": [],
   "source": [
    "import scipy.stats as ss\n",
    "import numpy as np\n",
    "def assign_probs(mean,stdev,data):\n",
    "    dist = ss.norm(mean,stdev)\n",
    "    probs=np.asarray([dist.pdf(x) for x in data])\n",
    "    return probs\n",
    "def assign_weights(probs1,probs2):\n",
    "    length = len(probs1)\n",
    "    weights1=np.zeros(length)\n",
    "    weights2=np.zeros(length)\n",
    "    for i in range(length):    # do without for loop                  \n",
    "        weights1[i]=probs1[i]/probs2[i]\n",
    "        weights2[i]=probs2[i]/probs1[i]\n",
    "    return weights1,weights2\n",
    "def update_mean(weights,data):\n",
    "    length = len(data)\n",
    "    weighted=np.zeros(length)\n",
    "    for i in range(length):   # do without for loop\n",
    "        weighted[i]=data[i]*weights[i]  \n",
    "    mean=sum(weighted)/sum(weights)\n",
    "    return mean\n",
    "def update_stdev(mean,weights,data):\n",
    "    sse = 0\n",
    "    for i in range(len(data)):   # do without for loop\n",
    "        sse += ((mean-data[i])*weights[i])**2\n",
    "    stdev=float(np.sqrt(sse/sum(weights)))\n",
    "    return stdev\n",
    "def iterative_2_means_delta(mean1,mean2,data,delta,iter):\n",
    "    # initial guess is both equal to overall\n",
    "    stdev1=np.std(data)\n",
    "    stdev2=update_stdev(np.mean(data),np.ones(len(data)),data)  # should be same\n",
    "    print('Initial means: %d +/- %d, %d +/- %d'%(mean1,stdev1,mean2,stdev2))\n",
    "    for i in range(iter):\n",
    "        probs1=assign_probs(mean1,stdev1,data)\n",
    "        probs2=assign_probs(mean2,stdev2,data)\n",
    "        weights1,weights2 = assign_weights(probs1,probs2)\n",
    "        mean1 = update_mean(weights1,data)\n",
    "        mean2 = update_mean(weights2,data)\n",
    "        stdev1 = update_stdev(mean1,weights1,data)\n",
    "        stdev2 = update_stdev(mean2,weights2,data)\n",
    "        print('Intermediate means: %d +/- %d, %d +/- %d'%(mean1,stdev1,mean2,stdev2))\n",
    "    print()\n",
    "    print('Final means: %d +/- %d, %d +/- %d'%(mean1,stdev1,mean2,stdev2))\n",
    "    return mean1,mean2,stdev1,stdev2"
   ]
  },
  {
   "cell_type": "code",
   "execution_count": 32,
   "metadata": {},
   "outputs": [
    {
     "name": "stdout",
     "output_type": "stream",
     "text": [
      "Initial means: 15 +/- 10, 30 +/- 10\n",
      "Intermediate means: 19 +/- 12, 42 +/- 25\n",
      "Intermediate means: 24 +/- 12, 42 +/- 17\n",
      "Intermediate means: 24 +/- 13, 41 +/- 12\n",
      "Intermediate means: 20 +/- 21, 40 +/- 9\n",
      "Intermediate means: 13 +/- 197, 40 +/- 8\n",
      "Intermediate means: 7 +/- 383, 39 +/- 18\n",
      "Intermediate means: 29 +/- 3, 35 +/- 34\n",
      "Intermediate means: 30 +/- 7, 0 +/- 10155077\n",
      "Intermediate means: 33 +/- 5485, 26 +/- 0\n"
     ]
    },
    {
     "name": "stderr",
     "output_type": "stream",
     "text": [
      "<ipython-input-31-7387757ec209>:12: RuntimeWarning: divide by zero encountered in true_divide\n",
      "  weights1[i]=probs1[i]/probs2[i]\n",
      "<ipython-input-31-7387757ec209>:20: RuntimeWarning: invalid value encountered in double_scalars\n",
      "  mean=sum(weighted)/sum(weights)\n"
     ]
    },
    {
     "ename": "ValueError",
     "evalue": "cannot convert float NaN to integer",
     "output_type": "error",
     "traceback": [
      "\u001b[0;31m---------------------------------------------------------------------------\u001b[0m",
      "\u001b[0;31mValueError\u001b[0m                                Traceback (most recent call last)",
      "\u001b[0;32m<ipython-input-32-f0a2b2c0ee8a>\u001b[0m in \u001b[0;36m<module>\u001b[0;34m\u001b[0m\n\u001b[1;32m      6\u001b[0m \u001b[0mX\u001b[0m \u001b[0;34m=\u001b[0m \u001b[0mX\u001b[0m\u001b[0;34m.\u001b[0m\u001b[0mreshape\u001b[0m\u001b[0;34m(\u001b[0m\u001b[0;34m(\u001b[0m\u001b[0mlen\u001b[0m\u001b[0;34m(\u001b[0m\u001b[0mX\u001b[0m\u001b[0;34m)\u001b[0m\u001b[0;34m,\u001b[0m \u001b[0;36m1\u001b[0m\u001b[0;34m)\u001b[0m\u001b[0;34m)\u001b[0m\u001b[0;34m\u001b[0m\u001b[0;34m\u001b[0m\u001b[0m\n\u001b[1;32m      7\u001b[0m \u001b[0mX\u001b[0m \u001b[0;34m=\u001b[0m \u001b[0mnp\u001b[0m\u001b[0;34m.\u001b[0m\u001b[0masarray\u001b[0m\u001b[0;34m(\u001b[0m\u001b[0mX\u001b[0m\u001b[0;34m)\u001b[0m\u001b[0;34m\u001b[0m\u001b[0;34m\u001b[0m\u001b[0m\n\u001b[0;32m----> 8\u001b[0;31m \u001b[0mmean1\u001b[0m\u001b[0;34m,\u001b[0m\u001b[0mmean2\u001b[0m\u001b[0;34m,\u001b[0m\u001b[0mstdev1\u001b[0m\u001b[0;34m,\u001b[0m\u001b[0mstdev2\u001b[0m\u001b[0;34m=\u001b[0m\u001b[0miterative_2_means_delta\u001b[0m\u001b[0;34m(\u001b[0m\u001b[0mguess1\u001b[0m\u001b[0;34m,\u001b[0m\u001b[0mguess2\u001b[0m\u001b[0;34m,\u001b[0m\u001b[0mX\u001b[0m\u001b[0;34m,\u001b[0m\u001b[0;36m0.01\u001b[0m\u001b[0;34m,\u001b[0m\u001b[0;36m20\u001b[0m\u001b[0;34m)\u001b[0m\u001b[0;34m\u001b[0m\u001b[0;34m\u001b[0m\u001b[0m\n\u001b[0m",
      "\u001b[0;32m<ipython-input-31-7387757ec209>\u001b[0m in \u001b[0;36miterative_2_means_delta\u001b[0;34m(mean1, mean2, data, delta, iter)\u001b[0m\n\u001b[1;32m     39\u001b[0m         \u001b[0mstdev1\u001b[0m \u001b[0;34m=\u001b[0m \u001b[0mupdate_stdev\u001b[0m\u001b[0;34m(\u001b[0m\u001b[0mmean1\u001b[0m\u001b[0;34m,\u001b[0m\u001b[0mweights1\u001b[0m\u001b[0;34m,\u001b[0m\u001b[0mdata\u001b[0m\u001b[0;34m)\u001b[0m\u001b[0;34m\u001b[0m\u001b[0;34m\u001b[0m\u001b[0m\n\u001b[1;32m     40\u001b[0m         \u001b[0mstdev2\u001b[0m \u001b[0;34m=\u001b[0m \u001b[0mupdate_stdev\u001b[0m\u001b[0;34m(\u001b[0m\u001b[0mmean2\u001b[0m\u001b[0;34m,\u001b[0m\u001b[0mweights2\u001b[0m\u001b[0;34m,\u001b[0m\u001b[0mdata\u001b[0m\u001b[0;34m)\u001b[0m\u001b[0;34m\u001b[0m\u001b[0;34m\u001b[0m\u001b[0m\n\u001b[0;32m---> 41\u001b[0;31m         \u001b[0mprint\u001b[0m\u001b[0;34m(\u001b[0m\u001b[0;34m'Intermediate means: %d +/- %d, %d +/- %d'\u001b[0m\u001b[0;34m%\u001b[0m\u001b[0;34m(\u001b[0m\u001b[0mmean1\u001b[0m\u001b[0;34m,\u001b[0m\u001b[0mstdev1\u001b[0m\u001b[0;34m,\u001b[0m\u001b[0mmean2\u001b[0m\u001b[0;34m,\u001b[0m\u001b[0mstdev2\u001b[0m\u001b[0;34m)\u001b[0m\u001b[0;34m)\u001b[0m\u001b[0;34m\u001b[0m\u001b[0;34m\u001b[0m\u001b[0m\n\u001b[0m\u001b[1;32m     42\u001b[0m     \u001b[0mprint\u001b[0m\u001b[0;34m(\u001b[0m\u001b[0;34m)\u001b[0m\u001b[0;34m\u001b[0m\u001b[0;34m\u001b[0m\u001b[0m\n\u001b[1;32m     43\u001b[0m     \u001b[0mprint\u001b[0m\u001b[0;34m(\u001b[0m\u001b[0;34m'Final means: %d +/- %d, %d +/- %d'\u001b[0m\u001b[0;34m%\u001b[0m\u001b[0;34m(\u001b[0m\u001b[0mmean1\u001b[0m\u001b[0;34m,\u001b[0m\u001b[0mstdev1\u001b[0m\u001b[0;34m,\u001b[0m\u001b[0mmean2\u001b[0m\u001b[0;34m,\u001b[0m\u001b[0mstdev2\u001b[0m\u001b[0;34m)\u001b[0m\u001b[0;34m)\u001b[0m\u001b[0;34m\u001b[0m\u001b[0;34m\u001b[0m\u001b[0m\n",
      "\u001b[0;31mValueError\u001b[0m: cannot convert float NaN to integer"
     ]
    }
   ],
   "source": [
    "X1 = normal(loc=20, scale=5, size=3000) \n",
    "X2 = normal(loc=40, scale=5, size=6000)\n",
    "guess1 = 15\n",
    "guess2 = 30\n",
    "X = hstack( (X1, X2) ) \n",
    "X = X.reshape((len(X), 1))\n",
    "X = np.asarray(X)\n",
    "mean1,mean2,stdev1,stdev2=iterative_2_means_delta(guess1,guess2,X,0.01,20)\n"
   ]
  },
  {
   "cell_type": "code",
   "execution_count": null,
   "metadata": {},
   "outputs": [],
   "source": []
  }
 ],
 "metadata": {
  "kernelspec": {
   "display_name": "Python 3",
   "language": "python",
   "name": "python3"
  },
  "language_info": {
   "codemirror_mode": {
    "name": "ipython",
    "version": 3
   },
   "file_extension": ".py",
   "mimetype": "text/x-python",
   "name": "python",
   "nbconvert_exporter": "python",
   "pygments_lexer": "ipython3",
   "version": "3.8.3"
  }
 },
 "nbformat": 4,
 "nbformat_minor": 2
}
