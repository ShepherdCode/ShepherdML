{
 "cells": [
  {
   "cell_type": "markdown",
   "metadata": {},
   "source": [
    "# GMM and EM\n",
    "Gaussian Mixture Models and Expectation Maximization  \n",
    "\n",
    "Here we show canned and homgrown implementations."
   ]
  },
  {
   "cell_type": "markdown",
   "metadata": {},
   "source": [
    "## Using a library call\n",
    "Follow tutorial in [mastery](https://machinelearningmastery.com/expectation-maximization-em-algorithm/)\n",
    "\n",
    "Use [sklearn](https://scikit-learn.org/stable/modules/generated/sklearn.mixture.GaussianMixture.html) class GaussianMixture."
   ]
  },
  {
   "cell_type": "code",
   "execution_count": 1,
   "metadata": {},
   "outputs": [
    {
     "data": {
      "image/png": "[encoded data removed]",
      "text/plain": [
       "<Figure size 432x288 with 1 Axes>"
      ]
     },
     "metadata": {
      "needs_background": "light"
     },
     "output_type": "display_data"
    }
   ],
   "source": [
    "# Straight from the Mastery site.\n",
    "# Construct a bimodal from two Gaussian processes.\n",
    "from numpy import hstack\n",
    "from numpy.random import normal\n",
    "from matplotlib import pyplot\n",
    "# normal ( mean, standard deviation, count )\n",
    "def plot(X1,X2):\n",
    "    X = hstack( (X1, X2) )  # horizontal stack i.e. concat\n",
    "    pyplot.hist(X, bins=50, density=True)\n",
    "    pyplot.show()\n",
    "X1 = normal(loc=20, scale=4, size=3000) \n",
    "X2 = normal(loc=40, scale=6, size=6000)\n",
    "plot(X1,X2)"
   ]
  },
  {
   "cell_type": "code",
   "execution_count": 2,
   "metadata": {},
   "outputs": [],
   "source": [
    "def show_gmm(model):\n",
    "    print(model)\n",
    "    for i in range(model.n_components):\n",
    "        print('Gaussian',i,'mean=',model.means_[i],\n",
    "            'wgt=',model.weights_[i], \n",
    "            'Cov=',model.covariances_[i])"
   ]
  },
  {
   "cell_type": "code",
   "execution_count": 3,
   "metadata": {},
   "outputs": [
    {
     "name": "stdout",
     "output_type": "stream",
     "text": [
      "Initialization 0\n",
      "Initialization converged: True\n",
      "GaussianMixture(covariance_type='spherical', n_components=2, verbose=1)\n",
      "Gaussian 0 mean= [20.17692285] wgt= 0.3419892768307201 Cov= 17.83515328324393\n",
      "Gaussian 1 mean= [40.09866455] wgt= 0.6580107231692798 Cov= 35.070832462359135\n"
     ]
    }
   ],
   "source": [
    "# Straight from the Mastery site.\n",
    "# Use EM to reverse engineer the model i.e. fit a GMM to the data.\n",
    "from sklearn.mixture import GaussianMixture\n",
    "X = hstack( (X1, X2) ) \n",
    "X = X.reshape((len(X), 1))\n",
    "# By default, covariance=‘full’: each component has its own general covariance matrix.\n",
    "# Use 'spherical' (one variance per mean) since our data has only one feature.\n",
    "# By default, init_params='kmeans'. Works much better than 'random'!\n",
    "model = GaussianMixture(n_components=2, verbose=1, covariance_type='spherical')\n",
    "model.fit(X)\n",
    "show_gmm(model)"
   ]
  },
  {
   "cell_type": "code",
   "execution_count": 4,
   "metadata": {},
   "outputs": [
    {
     "name": "stdout",
     "output_type": "stream",
     "text": [
      "Predicted class of a point on the left: 0\n",
      "Predicted class of a point on the right: 1\n"
     ]
    }
   ],
   "source": [
    "yhat = model.predict(X)\n",
    "print('Predicted class of a point on the left:',yhat[100])\n",
    "print('Predicted class of a point on the right:',yhat[-100])"
   ]
  },
  {
   "cell_type": "code",
   "execution_count": 5,
   "metadata": {},
   "outputs": [
    {
     "data": {
      "image/png": "[encoded data removed]",
      "text/plain": [
       "<Figure size 432x288 with 1 Axes>"
      ]
     },
     "metadata": {
      "needs_background": "light"
     },
     "output_type": "display_data"
    }
   ],
   "source": [
    "mean0=model.means_[0]\n",
    "mean1=model.means_[1]\n",
    "G0 = normal(loc=mean0, scale=4, size=3000) \n",
    "G1 = normal(loc=mean1, scale=6, size=6000)\n",
    "if mean0>mean1:\n",
    "    G0 = normal(loc=mean0, scale=4, size=6000) \n",
    "    G1 = normal(loc=mean1, scale=6, size=3000)\n",
    "plot(G0,G1)"
   ]
  },
  {
   "cell_type": "markdown",
   "metadata": {},
   "source": [
    "## Homegrown version\n",
    "Assumption: the observed data was generated by n Gaussian processes.\n",
    "\n",
    "The maximum likelihood estimate can be appoximated by exepctation maximization with one caveat: there are singularities in the search space\n",
    "where mean = some data point, variance is zero, and likelihood is infinite.\n",
    "\n",
    "See Bishop, Pattern Recognition, section 9.2, starting on page 430.\n",
    "See [YouTube](https://youtu.be/iQoXFmbXRJA) video by Victor Lavrenko."
   ]
  },
  {
   "cell_type": "markdown",
   "metadata": {},
   "source": [
    "The model includes a vector of Gaussians.\n",
    "Each Gaussian is characterized by a mean and standard deviation\n",
    "(or mean and covariance matrix for higher dimensional points).\n",
    "The model also includes a mixing parameter $\\pi$.\n",
    "This ia a vector holding the probability of drawing from each Gaussian.\n",
    "The mixture model says point x has probability equal to weigthed sum of Gaussians:    \n",
    "$p(x) = \\sum_i \\pi_i \\mathcal{N}(x|\\mu_i,\\sigma_i)$\n",
    "We wish to compute $\\pi, \\mu, \\sigma$"
   ]
  },
  {
   "cell_type": "markdown",
   "metadata": {},
   "source": [
    "Bishop introduces a latent, unknown variable \n",
    "z = a 1-of-K bit vector indicting which Gaussian was responsible for x.\n",
    "This doesn't change anything but it allows him to deal with\n",
    "conditional probabilities p(z|x) rather than marginal probabilities p(x).\n",
    "Then he derives likelihood formulas for mean and stdev. \n",
    "These formulae involve the conditionals as weights on the deviations."
   ]
  },
  {
   "cell_type": "markdown",
   "metadata": {},
   "source": [
    "Our code tackles an easy case.\n",
    "Easy case: one-dimensional data (avoids matricies & covariance).\n",
    "Easy case: n=2.  "
   ]
  },
  {
   "cell_type": "code",
   "execution_count": 14,
   "metadata": {},
   "outputs": [],
   "source": [
    "import scipy.stats as ss\n",
    "import numpy as np\n",
    "def responsibility(mean,stdev,data):\n",
    "    # Probability of each datapoint under the given Gaussian parameters.\n",
    "    L=np.asarray([ss.norm.pdf(x,loc=mean,scale=stdev) for x in data])\n",
    "    return L\n",
    "def conditional_probabilities(like1,like2): \n",
    "    # get conditional probability of each model given these likelihoods\n",
    "    length = len(like1)\n",
    "    cond1=np.zeros(length)\n",
    "    cond2=np.zeros(length)\n",
    "    # TO DO: use vectors instead of for loop \n",
    "    for i in range(length):      \n",
    "        # This formula is same as Bayes rule \n",
    "        # if we multiply both likelihoods by prior=50%\n",
    "        prob_of_data = like1[i]+like2[i]\n",
    "        cond1[i] = like1[i] / prob_of_data  \n",
    "        cond2[i] = like2[i] / prob_of_data  \n",
    "    return cond1,cond2\n",
    "def mle_mean(weights,data):\n",
    "    length = len(data)\n",
    "    weighted = data*weights  # Hadamard vector multiply\n",
    "    mean=sum(weighted)/sum(weights)\n",
    "    return mean\n",
    "def mle_stdev(mean,weights,data):\n",
    "    # sum of the squares of the weighted deviations from the mean\n",
    "    dev = data-mean\n",
    "    wdev = dev*weights\n",
    "    sse = sum(wdev**2)\n",
    "    stdev=float(np.sqrt(sse/sum(weights)))\n",
    "    return stdev\n",
    "def show(stage,mean1,stdev1,mean2,stdev2,mix,lnp):\n",
    "    mixing = \"{}/{}\".format(int(100*mix),int(100*(1-mix)))\n",
    "    print('%s: %f +/- %d, %f +/- %d, Mix=%s LL=%d'%\n",
    "          (stage,mean1,stdev1,mean2,stdev2,mixing,lnp))\n",
    "def log_likelihood(data,mean1,mean2,stdev1,stdev2,mix1):\n",
    "    mix2 = 1-mix1\n",
    "    #lsum1 = np.log2 (mix1 * np.sum(responsibility(mean1,stdev1,data)))\n",
    "    #lsum2 = np.log2 (mix2 * np.sum(responsibility(mean2,stdev2,data)))\n",
    "    sum_of_logs = 0\n",
    "    for x in data:\n",
    "        sum  = mix1 * ss.norm.pdf(x,loc=mean1,scale=stdev1)\n",
    "        sum += mix2 * ss.norm.pdf(x,loc=mean2,scale=stdev2)\n",
    "        sum_of_logs += np.log2(sum)\n",
    "    return sum_of_logs\n",
    "def expectation_maximization(data,num_iter):\n",
    "    # 1. Initial step.\n",
    "    # These initial guesses are arbitrary but ok being based on the overall data.\n",
    "    mean=np.mean(data)\n",
    "    stdev=np.std(data)\n",
    "    mean1 = mean-0.5\n",
    "    mean2 = mean+0.5\n",
    "    stdev1 = stdev\n",
    "    stdev2 = stdev\n",
    "    mix = .5\n",
    "    lnp=0\n",
    "    show('Initial',mean1,stdev1,mean2,stdev2,mix,lnp)\n",
    "    for i in range(num_iter):\n",
    "        # 2. E-step. Evaluate responsibilities.\n",
    "        # Get conditional prob of each point assuming either Gaussian model.\n",
    "        resp1 = responsibility(mean1,stdev1,data)\n",
    "        resp2 = responsibility(mean2,stdev2,data)\n",
    "        cond1,cond2 = conditional_probabilities(resp1,resp2)\n",
    "        # 3. M-step. Re-estimate model parameters by weighted MLE.\n",
    "        mean1 = mle_mean(cond1,data)\n",
    "        mean2 = mle_mean(cond2,data)\n",
    "        stdev1 = mle_stdev(mean1,cond1,data)\n",
    "        stdev2 = mle_stdev(mean2,cond2,data)\n",
    "        # re-compute the mixing parameter\n",
    "        mix = np.sum(cond1)/np.sum(cond1+cond2)\n",
    "        # 4. Terminate if log likelihood is no longer changing.\n",
    "        # As shortcut, we just fix the number of iterations.\n",
    "        lnp = log_likelihood(data,mean1,mean2,stdev1,stdev2,mix)\n",
    "        show('Intermediate',mean1,stdev1,mean2,stdev2,mix,lnp)\n",
    "    print()\n",
    "    show('Final',mean1,stdev1,mean2,stdev2,mix,lnp)\n",
    "    return mean1,mean2,stdev1,stdev2"
   ]
  },
  {
   "cell_type": "code",
   "execution_count": 15,
   "metadata": {},
   "outputs": [
    {
     "name": "stdout",
     "output_type": "stream",
     "text": [
      "Initial: 32.870677 +/- 10, 33.870677 +/- 10, Mix=50/50 LL=0\n",
      "Intermediate: 32.871339 +/- 7, 33.870007 +/- 7, Mix=49/50 LL=-51417\n",
      "Intermediate: 32.332359 +/- 8, 34.431170 +/- 7, Mix=50/49 LL=-51336\n",
      "Intermediate: 31.203924 +/- 8, 35.727749 +/- 6, Mix=52/47 LL=-50937\n",
      "Intermediate: 29.384025 +/- 9, 38.222052 +/- 4, Mix=54/45 LL=-49874\n",
      "Intermediate: 27.770841 +/- 8, 40.363064 +/- 3, Mix=55/44 LL=-49300\n",
      "Intermediate: 26.827593 +/- 8, 41.358072 +/- 3, Mix=54/45 LL=-49233\n",
      "Intermediate: 26.011321 +/- 7, 41.992183 +/- 3, Mix=53/46 LL=-48983\n",
      "Intermediate: 24.937790 +/- 6, 42.341204 +/- 4, Mix=51/48 LL=-48613\n",
      "Intermediate: 23.931757 +/- 5, 42.124266 +/- 4, Mix=48/51 LL=-48355\n",
      "Intermediate: 23.116127 +/- 5, 41.773953 +/- 4, Mix=45/54 LL=-48144\n",
      "Intermediate: 22.408774 +/- 5, 41.468598 +/- 4, Mix=42/57 LL=-47947\n",
      "Intermediate: 21.818065 +/- 4, 41.204207 +/- 4, Mix=40/59 LL=-47780\n",
      "Intermediate: 21.355901 +/- 4, 40.984637 +/- 5, Mix=38/61 LL=-47655\n",
      "Intermediate: 21.020926 +/- 4, 40.813166 +/- 5, Mix=37/62 LL=-47572\n",
      "Intermediate: 20.793439 +/- 4, 40.687562 +/- 5, Mix=36/63 LL=-47523\n",
      "Intermediate: 20.645612 +/- 3, 40.600483 +/- 5, Mix=36/63 LL=-47495\n",
      "Intermediate: 20.552118 +/- 3, 40.542635 +/- 5, Mix=35/64 LL=-47479\n",
      "Intermediate: 20.493940 +/- 3, 40.505377 +/- 5, Mix=35/64 LL=-47470\n",
      "Intermediate: 20.458081 +/- 3, 40.481883 +/- 5, Mix=35/64 LL=-47465\n",
      "Intermediate: 20.436102 +/- 3, 40.467271 +/- 5, Mix=35/64 LL=-47462\n",
      "\n",
      "Final: 20.436102 +/- 3, 40.467271 +/- 5, Mix=35/64 LL=-47462\n"
     ]
    }
   ],
   "source": [
    "X1 = normal(loc=20, scale=4, size=3000) \n",
    "X2 = normal(loc=40, scale=6, size=6000)\n",
    "X = hstack( (X1, X2) ) \n",
    "X = np.asarray(X)\n",
    "mean1,mean2,stdev1,stdev2=expectation_maximization(X,20)"
   ]
  },
  {
   "cell_type": "markdown",
   "metadata": {},
   "source": [
    "## Explanation\n",
    "Assume every point was generated by process 0 or process 1.\n",
    "Z is a vector naming the generating process for each point. \n",
    "Z is an unknown, a latent variable, that we'll predict.\n",
    "\n",
    "Assume processes 0 and 1 are Gaussian. \n",
    "Each has a mean and stdev.\n",
    "These are the parameters of the generating model.\n",
    "These are unknowns that we'll estimate.\n",
    "\n",
    "Start by guessing the number of processes, and the mean and stdev of each.\n",
    "\n",
    "EM loops over two steps.  \n",
    "* E-Step: The word expectation is not helpul. For every point, assign responsibility to each process. For K-means, assign 0 for one and 1 for the other i.e. all-or-nothing. For GMM, assign probabilities that sum to one across all processes.  \n",
    "* M-Step: Re-estimate the mean and stdev of each process. Use maximum likelihood to choose parameters that maximize the likelihood of this data. When computing the new mean and stdev, weight the sums by the assigned responsibilities. "
   ]
  },
  {
   "cell_type": "code",
   "execution_count": null,
   "metadata": {},
   "outputs": [],
   "source": []
  }
 ],
 "metadata": {
  "kernelspec": {
   "display_name": "Python 3",
   "language": "python",
   "name": "python3"
  },
  "language_info": {
   "codemirror_mode": {
    "name": "ipython",
    "version": 3
   },
   "file_extension": ".py",
   "mimetype": "text/x-python",
   "name": "python",
   "nbconvert_exporter": "python",
   "pygments_lexer": "ipython3",
   "version": "3.8.3"
  }
 },
 "nbformat": 4,
 "nbformat_minor": 2
}
