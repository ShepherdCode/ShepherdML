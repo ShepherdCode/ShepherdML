{
 "cells": [
  {
   "cell_type": "markdown",
   "metadata": {},
   "source": [
    "# Feature Selection"
   ]
  },
  {
   "cell_type": "code",
   "execution_count": 1,
   "metadata": {},
   "outputs": [],
   "source": [
    "import numpy as np\n",
    "import matplotlib.pyplot as plt\n",
    "from matplotlib.patches import Ellipse\n",
    "import matplotlib.transforms as transforms"
   ]
  },
  {
   "cell_type": "markdown",
   "metadata": {},
   "source": [
    "## Separability and Scatter matrix\n",
    "Separability is commonly measured with a scatter matrix.\n",
    "\n",
    "Scatter matrix = $\\sum[(\\mu-x_k)(\\mu-x_k)^T]$.  \n",
    "Scatter matrix = outer product (u-x) * (u-x).  \n",
    "For d dimensional data, scatter matrix size is (d x d).   \n",
    "The (scatter matrix)/n is the maximum likelihood estimate of the covariance matrix, assuming normality.  \n",
    "\n",
    "Note similarity to covariation matrix.  \n",
    "cov(X,Y) = $\\sigma(X,Y) = (1/n)\\sum_1^n[(\\mu_{x}-x)(\\mu_{y}-y)^T]$  \n",
    "\n",
    "Matrix M is positive definite if $z^TMz$ is positive for all real column vectors z.  \n",
    "Matrix M is positive semi-definite if $z^TMz$ is non-negative for all real column vectors z.  \n",
    "The scatter matrix is positive semi-definite.   \n",
    "\n",
    "See wikipedia [scatter matrix](https://en.wikipedia.org/wiki/Scatter_matrix)"
   ]
  },
  {
   "cell_type": "code",
   "execution_count": 2,
   "metadata": {},
   "outputs": [],
   "source": [
    "def scatter_matrix(X):\n",
    "    \"\"\"For 100 points in 2D space, X has size=(100,2)\"\"\"\n",
    "    instances = X.shape[0]\n",
    "    features = X.shape[1]\n",
    "    means = np.mean(X)  # vector of feature means\n",
    "    sm = np.zeros( (features,features) )\n",
    "    for i in range(instances):\n",
    "        deviation = means-X[i] # vector of feature deviations\n",
    "        outer_product = np.outer(deviation,deviation)\n",
    "        sm += outer_product\n",
    "    return sm\n",
    "        "
   ]
  },
  {
   "cell_type": "code",
   "execution_count": 3,
   "metadata": {},
   "outputs": [
    {
     "name": "stdout",
     "output_type": "stream",
     "text": [
      "Scatter matrix\n",
      "[[19525.1125 -2255.2225]\n",
      " [-2255.2225 19013.4425]]\n",
      "ML estimate of Covariance matrix\n",
      "[[195.251125 -22.552225]\n",
      " [-22.552225 190.134425]]\n",
      "Numpy estimate of Covariance matrix\n",
      "[[196.22333333 -21.78      ]\n",
      " [-21.78       191.05494949]]\n"
     ]
    },
    {
     "data": {
      "image/png": "[encoded data removed]",
      "text/plain": [
       "<Figure size 432x288 with 1 Axes>"
      ]
     },
     "metadata": {
      "needs_background": "light"
     },
     "output_type": "display_data"
    }
   ],
   "source": [
    "# One hundred uniformly scattered points.\n",
    "N = 100\n",
    "x = np.random.randint(0, 50, N)\n",
    "y = np.random.randint(0, 50, N)\n",
    "xy = np.asarray(list(zip(x, y)))  # N rows of (x,y)\n",
    "sm = scatter_matrix(xy)\n",
    "print('Scatter matrix')\n",
    "print(sm)\n",
    "mlcov = sm/N\n",
    "print('ML estimate of Covariance matrix')\n",
    "print(mlcov)\n",
    "print('Numpy estimate of Covariance matrix')\n",
    "obs = np.array( [x,y] )   # row of x values, row of values\n",
    "print(np.cov(obs))\n",
    "\n",
    "plt.scatter(x, y)\n",
    "plt.axis('equal')    # uniform aspect ratio, not same coords\n",
    "plt.show()"
   ]
  },
  {
   "cell_type": "code",
   "execution_count": 4,
   "metadata": {},
   "outputs": [
    {
     "name": "stdout",
     "output_type": "stream",
     "text": [
      "Scatter matrix\n",
      "[[4397.70033478  -15.84229777]\n",
      " [ -15.84229777  225.58714308]]\n",
      "ML estimate of Covariance matrix\n",
      "[[21.98850167 -0.07921149]\n",
      " [-0.07921149  1.12793572]]\n",
      "Numpy estimate of Covariance matrix\n",
      "[[22.09353631 -0.07414919]\n",
      " [-0.07414919  1.12814338]]\n"
     ]
    },
    {
     "data": {
      "image/png": "[encoded data removed]",
      "text/plain": [
       "<Figure size 432x288 with 1 Axes>"
      ]
     },
     "metadata": {
      "needs_background": "light"
     },
     "output_type": "display_data"
    }
   ],
   "source": [
    "# Multivariate gaussian.\n",
    "N = 200\n",
    "mu = 25\n",
    "sigma_x = 5\n",
    "sigma_y = 1\n",
    "x = np.random.normal(mu, sigma_x, N)\n",
    "y = np.random.normal(mu, sigma_y, N)\n",
    "xy = np.asarray(list(zip(x, y)))  # N rows of (x,y)\n",
    "sm = scatter_matrix(xy)\n",
    "print('Scatter matrix')\n",
    "print(sm)\n",
    "mlcov = sm/N\n",
    "print('ML estimate of Covariance matrix')\n",
    "print(mlcov)\n",
    "print('Numpy estimate of Covariance matrix')\n",
    "obs = np.array( [x,y] )   # row of x values, row of values\n",
    "print(np.cov(obs))\n",
    "\n",
    "plt.scatter(x, y)\n",
    "plt.axis('equal')    # uniform aspect ratio, not same coords\n",
    "plt.show()"
   ]
  },
  {
   "cell_type": "markdown",
   "metadata": {},
   "source": [
    "# Feature Selection\n",
    "Which features can we do without? Which can we discard? \n",
    "\n",
    "Too many features is a problem due to\n",
    "\n",
    "* NumFeatures > NumInstances\n",
    "* Curse of dimensionality\n",
    "* Worse-than-linear algorithm complexity\n",
    "* Model confusion from irrelevent features\n",
    "* Overfitting to variance in irrelevant features\n",
    "\n",
    "After FEATURE EXTRACTION,   \n",
    "we need to reduce complexity by  \n",
    "FEATURE SELECTION or DIMENSIONALITY REDUCTION.\n",
    "\n",
    "But finding the optimal subset is NP-hard.\n",
    "Also, cannot just use features with high correlation (predictive value)\n",
    "due to important feature-interaction effects. \n",
    "So there are heuristics and domain-specific rules."
   ]
  },
  {
   "cell_type": "markdown",
   "metadata": {},
   "source": [
    "## Separability\n",
    "Generally, define separability of a scalar quantity and try to maximize it.  \n",
    "Separability sets the upper limit on the learning accuracy.  \n",
    "Here are choices, all of which use between-group scatter / within-group scatter.\n",
    "\n",
    "* $J = tr(S_B)/tr(S_W)$\n",
    "* $J = tr(S_W^{-1}S_B)$\n",
    "* $J = det(S_W^{-1}S_B)$\n",
    "* $J = ln[det(S_W^{-1}S_B)]$\n"
   ]
  },
  {
   "cell_type": "markdown",
   "metadata": {},
   "source": [
    "## Correlation\n",
    "Pearson's correlation between feature f and class y   \n",
    "$R = \\frac {cov(f,y)} {\\sqrt{var(f)var(y)}}$   \n",
    "$R = \\frac {\\sum[(f-\\bar{f})(y-\\bar{y})]} {\\sqrt{\\sum[(f-\\bar{f})^2\\sum(y-\\bar{y})^2]}}$ \n",
    "Usually use $|R|$ or $R^2$.  \n",
    "\n",
    "Problem: Correlation only detects linear relationships.  \n",
    "Important features may be predictive of class collectively \n",
    "but uncorrelated to class individually."
   ]
  },
  {
   "cell_type": "markdown",
   "metadata": {},
   "source": [
    "## Mutual Information\n",
    "Can detect non-linear relationships but is harder to compute.\n",
    "\n",
    "Information:  \n",
    "$I(x) = p(x) ln(p(x))$  \n",
    "Mutual information between feature xi and class y:  \n",
    "$I(x_i,y) = p(x_i,y) ln[p(x_i,y)/p(x_i)p(y)]$\n",
    "\n",
    "With discrete variables, \n",
    "and using frequencies as empirical estimates of probabilities:  \n",
    "$I(X,Y) = \\sum_x \\sum_y P(X=x,Y=y) ln[P(X=x,Y=y)/P(X=x)P(Y=y)]$"
   ]
  },
  {
   "cell_type": "markdown",
   "metadata": {},
   "source": [
    "## Filter vs Wrapper methods\n",
    "Feature selection by \n",
    "* Filter methods ... are independent of any model. Also called unsupervised. Often based on outlier detection with clustering. May not be optimal for a chosen model. \n",
    "* Wrapper methods ... are specific to a model. Also called supervised. Test goodness by cross-validation using the model of interest.\n",
    "\n",
    "Methods for feature selection with a wrapper \n",
    "* Forward selection ... start with one and iteratively add more.   \n",
    "* Reverse selection ... start with full set and iteratively remove some.  \n",
    "* Bidirectional selection ... after adding a good one, check if others could be removed.\n",
    "\n",
    "Note these are greedy and compute-intense."
   ]
  },
  {
   "cell_type": "code",
   "execution_count": null,
   "metadata": {},
   "outputs": [],
   "source": []
  }
 ],
 "metadata": {
  "kernelspec": {
   "display_name": "Python 3 (ipykernel)",
   "language": "python",
   "name": "python3"
  },
  "language_info": {
   "codemirror_mode": {
    "name": "ipython",
    "version": 3
   },
   "file_extension": ".py",
   "mimetype": "text/x-python",
   "name": "python",
   "nbconvert_exporter": "python",
   "pygments_lexer": "ipython3",
   "version": "3.10.0"
  }
 },
 "nbformat": 4,
 "nbformat_minor": 2
}
