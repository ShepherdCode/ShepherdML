{
 "cells": [
  {
   "cell_type": "markdown",
   "metadata": {},
   "source": [
    "# Feature Selection"
   ]
  },
  {
   "cell_type": "code",
   "execution_count": 1,
   "metadata": {},
   "outputs": [],
   "source": [
    "import numpy as np\n",
    "import matplotlib.pyplot as plt\n",
    "from matplotlib.patches import Ellipse\n",
    "import matplotlib.transforms as transforms"
   ]
  },
  {
   "cell_type": "markdown",
   "metadata": {},
   "source": [
    "## Separability and Scatter matrix\n",
    "Separability is commonly measured with a scatter matrix.\n",
    "\n",
    "Scatter matrix = $\\sum[(\\mu-x_k)(\\mu-x_k)^T]$.  \n",
    "Scatter matrix = outer product (u-x) * (u-x).  \n",
    "For d dimensional data, scatter matrix size is (d x d).   \n",
    "\n",
    "More generally, use E(x) = Expectation of x instead of $\\mu$.\n",
    "Use the mean, $\\mu$, for the maximum likelihood estimate (MLE).\n",
    "For maximum likelihood, assum the latent distributions are normal.\n",
    "Then, (scatter matrix)/n is the MLE of the covariance matrix. \n",
    "It is also the maximum a priori (MAP) estimate if the priors are uniform.\n",
    "The statistic is biased due to n in the denominator;\n",
    "the statistic is unbiased if we use n-1 in the denominator.\n",
    "\n",
    "Note similarity to covariation matrix.  \n",
    "cov(X,Y) = $\\sigma(X,Y) = (1/n)\\sum_1^n[(\\mu_{x}-x)(\\mu_{y}-y)^T]$  \n",
    "\n",
    "Matrix M is positive definite if $z^TMz$ is positive for all real column vectors z.  \n",
    "Matrix M is positive semi-definite if $z^TMz$ is non-negative for all real column vectors z.  \n",
    "The scatter matrix is positive semi-definite.   \n",
    "\n",
    "See wikipedia [scatter matrix](https://en.wikipedia.org/wiki/Scatter_matrix)"
   ]
  },
  {
   "cell_type": "code",
   "execution_count": 2,
   "metadata": {},
   "outputs": [],
   "source": [
    "def scatter_matrix(X):\n",
    "    \"\"\"For 100 points in 2D space, X has size=(100,2)\"\"\"\n",
    "    instances = X.shape[0]\n",
    "    features = X.shape[1]\n",
    "    means = np.mean(X,axis=0)  # vector of feature means\n",
    "    sm = np.zeros( (features,features) )\n",
    "    for i in range(instances):\n",
    "        deviation = means-X[i] # vector of feature deviations\n",
    "        outer_product = np.outer(deviation,deviation)\n",
    "        sm += outer_product\n",
    "    return sm"
   ]
  },
  {
   "cell_type": "code",
   "execution_count": 3,
   "metadata": {},
   "outputs": [
    {
     "name": "stdout",
     "output_type": "stream",
     "text": [
      "Data shape\n",
      "(100, 2)\n",
      "First two rows of data, with columns x and y:\n",
      "[29 13]\n",
      "[12 32]\n",
      "Mean of x, mean of y\n",
      "[25.71 49.23]\n",
      "First iteration of the summation\n",
      "deviation = mean-row0\n",
      " [-3.29 36.23]\n",
      "scatter = outer-product(dev-col-vec,dev-row-vec)\n",
      " [[  10.8241 -119.1967]\n",
      " [-119.1967 1312.6129]]\n",
      "Total scatter matrix\n",
      "[[21258.59  3445.67]\n",
      " [ 3445.67 76455.71]]\n",
      "MLE of Covariance matrix - biased (divide by N)\n",
      "[[212.5859  34.4567]\n",
      " [ 34.4567 764.5571]]\n",
      "Numpy computation of the same thing\n",
      "[[212.5859  34.4567]\n",
      " [ 34.4567 764.5571]]\n"
     ]
    }
   ],
   "source": [
    "# Generate one hundred uniformly scattered points.\n",
    "# All points come from the same distribution.\n",
    "# All x coords are uniform 0 to 50.\n",
    "# All y coords are uniform 0 to 100.\n",
    "N = 100\n",
    "x = np.random.randint(0, 50, N)\n",
    "y = np.random.randint(0, 100, N)\n",
    "xy = np.asarray(list(zip(x, y)))  # N rows of (x,y)\n",
    "print('Data shape')\n",
    "print(xy.shape)\n",
    "print('First two rows of data, with columns x and y:')\n",
    "print(xy[0])\n",
    "print(xy[1])\n",
    "print('Mean of x, mean of y')\n",
    "means = np.mean(xy,axis=0)  # vector of feature means\n",
    "print(means)\n",
    "print('First iteration of the summation')\n",
    "deviation = means-xy[0] # vector of feature deviations\n",
    "outer_product = np.outer(deviation,deviation)\n",
    "print(\"deviation = mean-row0\\n\",deviation)\n",
    "print(\"scatter = outer-product(dev-col-vec,dev-row-vec)\\n\",outer_product)\n",
    "sm = scatter_matrix(xy)\n",
    "print('Total scatter matrix')\n",
    "print(sm)\n",
    "mlcov = sm/N\n",
    "print('MLE of Covariance matrix - biased (divide by N)')\n",
    "print(mlcov)\n",
    "print('Numpy computation of the same thing')\n",
    "# Numpy cov() expects rows of features, columns of values\n",
    "print(np.cov(np.transpose(xy), bias=True))"
   ]
  },
  {
   "cell_type": "code",
   "execution_count": 12,
   "metadata": {},
   "outputs": [
    {
     "name": "stdout",
     "output_type": "stream",
     "text": [
      "Scatter within one group\n"
     ]
    },
    {
     "data": {
      "image/png": "[encoded data removed]",
      "text/plain": [
       "<Figure size 640x480 with 1 Axes>"
      ]
     },
     "metadata": {},
     "output_type": "display_data"
    }
   ],
   "source": [
    "print('Scatter within one group')\n",
    "plt.scatter(x, y)\n",
    "plt.axis('equal')    # uniform aspect ratio, not same coords\n",
    "plt.show()"
   ]
  },
  {
   "cell_type": "code",
   "execution_count": 13,
   "metadata": {
    "scrolled": false
   },
   "outputs": [
    {
     "name": "stdout",
     "output_type": "stream",
     "text": [
      "Scatter matrix\n",
      "[[4841.67433475   72.14754405]\n",
      " [  72.14754405  197.79831987]]\n",
      "ML estimate of Covariance matrix\n",
      "[[24.20837167  0.36073772]\n",
      " [ 0.36073772  0.9889916 ]]\n",
      "Numpy estimate of Covariance matrix\n",
      "[[24.20837167  0.36073772]\n",
      " [ 0.36073772  0.9889916 ]]\n"
     ]
    }
   ],
   "source": [
    "# Generate two hundred uniformly scattered points.\n",
    "# All points come from the same distribution.\n",
    "# All x coords are Gaussian (25,5).\n",
    "# All y coords are Gaussian (50,1).\n",
    "N = 200\n",
    "mu_x = 25\n",
    "mu_y = 50\n",
    "sigma_x = 5\n",
    "sigma_y = 1\n",
    "x = np.random.normal(mu_x, sigma_x, N)\n",
    "y = np.random.normal(mu_y, sigma_y, N)\n",
    "xy = np.asarray(list(zip(x, y)))  # N rows of (x,y)\n",
    "sm = scatter_matrix(xy)\n",
    "print('Scatter matrix')\n",
    "print(sm)\n",
    "mlcov = sm/N\n",
    "print('ML estimate of Covariance matrix')\n",
    "print(mlcov)\n",
    "print('Numpy estimate of Covariance matrix')\n",
    "print(np.cov(np.transpose(xy), bias=True))"
   ]
  },
  {
   "cell_type": "code",
   "execution_count": 14,
   "metadata": {},
   "outputs": [
    {
     "name": "stdout",
     "output_type": "stream",
     "text": [
      "Scatter within one group\n"
     ]
    },
    {
     "data": {
      "image/png": "[encoded data removed]",
      "text/plain": [
       "<Figure size 640x480 with 1 Axes>"
      ]
     },
     "metadata": {},
     "output_type": "display_data"
    }
   ],
   "source": [
    "print('Scatter within one group')\n",
    "plt.scatter(x, y)\n",
    "plt.axis('equal')    # uniform aspect ratio, not same coords\n",
    "plt.show()"
   ]
  },
  {
   "cell_type": "markdown",
   "metadata": {},
   "source": [
    "# Feature Selection\n",
    "Too many features is a problem due to\n",
    "\n",
    "* NumFeatures > NumInstances\n",
    "* Curse of dimensionality\n",
    "* Worse-than-linear algorithm complexity\n",
    "* Model confusion from irrelevent features\n",
    "* Overfitting to variance in irrelevant features\n",
    "\n",
    "After FEATURE EXTRACTION,   \n",
    "we need to reduce complexity by  \n",
    "FEATURE SELECTION or DIMENSIONALITY REDUCTION.\n",
    "\n",
    "But finding the optimal subset is NP-hard.\n",
    "Also, cannot just use features with high correlation (predictive value)\n",
    "due to important feature-interaction effects. \n",
    "So there are heuristics and domain-specific rules.\n",
    "* Which features can we do without? \n",
    "* Which features can we ignore? "
   ]
  },
  {
   "cell_type": "markdown",
   "metadata": {},
   "source": [
    "## Separability\n",
    "We define separability as a scalar quantity and try to maximize it. \n",
    "Here are commonly used definitions of separability.   \n",
    "All these rely on between-group scatter / within-group scatter.\n",
    "\n",
    "* $J = tr(S_B)/tr(S_W)$\n",
    "* $J = tr(S_W^{-1}S_B)$\n",
    "* $J = det(S_W^{-1}S_B)$\n",
    "* $J = ln[det(S_W^{-1}S_B)]$\n",
    "\n",
    "Separability over all features sets the upper limit on the learning accuracy.  \n",
    "Max-Min problem: maximally reduce features while minimally reducing separability."
   ]
  },
  {
   "cell_type": "markdown",
   "metadata": {},
   "source": [
    "## Correlation\n",
    "Find features that are highly correlated to the lables.\n",
    "\n",
    "Pearson's correlation between feature f and class y   \n",
    "$R = \\frac {cov(f,y)} {\\sqrt{var(f)var(y)}}$   \n",
    "$R = \\frac {\\sum[(f-\\bar{f})(y-\\bar{y})]} {\\sqrt{\\sum[(f-\\bar{f})^2\\sum(y-\\bar{y})^2]}}$ \n",
    "Usually use $|R|$ or $R^2$.  \n",
    "\n",
    "Problem: Correlation only detects linear relationships.  \n",
    "Important features may be predictive of class collectively \n",
    "but uncorrelated to class individually."
   ]
  },
  {
   "cell_type": "markdown",
   "metadata": {},
   "source": [
    "## Mutual Information\n",
    "Find a feature subset that conveys the same information \n",
    "as the labels. \n",
    "\n",
    "Compared to correlation, \n",
    "mutual information detects non-linear relationships,\n",
    "but is harder to compute.\n",
    "\n",
    "Information:  \n",
    "$I(x) = p(x) ln(p(x))$  \n",
    "\n",
    "Mutual information between feature xi and class y,\n",
    "uses the joint probability divided by the marginal probabilities:  \n",
    "$I(x_i,y) = p(x_i,y) ln[p(x_i,y)/p(x_i)p(y)]$\n",
    "\n",
    "With discrete variables, \n",
    "and using frequencies as empirical estimates of probabilities:  \n",
    "$I(X,Y) = \\sum_x \\sum_y P(X=x,Y=y) ln[P(X=x,Y=y)/P(X=x)P(Y=y)]$"
   ]
  },
  {
   "cell_type": "markdown",
   "metadata": {},
   "source": [
    "## Filter vs Wrapper methods\n",
    "Empirically, try classification while leaving out some features.\n",
    "\n",
    "### Filter methods\n",
    "These are independent of any model. \n",
    "Also called unsupervised.\n",
    "May not be optimal for a chosen model. \n",
    "\n",
    "Examples: \n",
    "Choose features that improve clustering and reduce outliers.\n",
    "Ignore some features that correlate with other features.\n",
    "Choose features that correlate with the label (supervised).\n",
    "\n",
    "### Wrapper methods\n",
    "These are specific to a model. \n",
    "Also called supervised. \n",
    "Test goodness by cross-validation using the model of interest.\n",
    "\n",
    "Methods for feature selection with a wrapper \n",
    "* Forward selection ... start with one and iteratively add more.   \n",
    "* Reverse selection ... start with full set and iteratively remove some. \n",
    "* Bidirectional selection ... after adding a good one, check if others could be removed.\n",
    "\n",
    "Note these are greedy and compute-intense."
   ]
  },
  {
   "cell_type": "code",
   "execution_count": null,
   "metadata": {},
   "outputs": [],
   "source": []
  }
 ],
 "metadata": {
  "kernelspec": {
   "display_name": "Python 3 (ipykernel)",
   "language": "python",
   "name": "python3"
  },
  "language_info": {
   "codemirror_mode": {
    "name": "ipython",
    "version": 3
   },
   "file_extension": ".py",
   "mimetype": "text/x-python",
   "name": "python",
   "nbconvert_exporter": "python",
   "pygments_lexer": "ipython3",
   "version": "3.10.0"
  }
 },
 "nbformat": 4,
 "nbformat_minor": 2
}
