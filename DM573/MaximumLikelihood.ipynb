{
 "cells": [
  {
   "cell_type": "markdown",
   "id": "78d520f6",
   "metadata": {},
   "source": [
    "# Maximum Likelihood\n",
    "\n",
    "Good video from [UVa](https://youtu.be/IMfLXEOksGc)"
   ]
  },
  {
   "cell_type": "markdown",
   "id": "458e9f59",
   "metadata": {},
   "source": [
    "## PDF\n",
    "Start with a probability density function, such as the Gaussian."
   ]
  },
  {
   "cell_type": "markdown",
   "id": "604cf760",
   "metadata": {},
   "source": [
    "## Likelihood\n",
    "For any one point x, compute its height on the PDF, P(x|dist).    \n",
    "This is the probability of x under that model.   \n",
    "But it is also the likelihood of the model given the data: L(dist|x)."
   ]
  },
  {
   "cell_type": "markdown",
   "id": "7ae479c8",
   "metadata": {},
   "source": [
    "## Maximum likelihood classifier\n",
    "We need to assign point x to dist1 or dist2.   \n",
    "For point x, compute L(dist1|x) and L(dist2|x).   \n",
    "Assign x to the ditribtuion with maximum likelihood.  \n",
    "Write $arg_i max [ L(dist_i|x) ]$  "
   ]
  },
  {
   "cell_type": "markdown",
   "id": "0b782cd4",
   "metadata": {},
   "source": [
    "## Decision boundary\n",
    "There is a point, line, plane, or hyperplane between dists\n",
    "that represents the tipping point."
   ]
  },
  {
   "cell_type": "markdown",
   "id": "fb032deb",
   "metadata": {},
   "source": [
    "## Bayesian\n",
    "Maximum Likelihood Estimation (MLE) is based on just the data (frequentist). In contrast, Maximum a-priori Estimation (MAP) incorporates prior probabilities.\n",
    "\n",
    "The Bayesian decision boundary can be shifted based on priors.   \n",
    "\n",
    "Priors can come from external information.\n",
    "If 90% of the marbles are thought to be red, that's a prior.\n",
    "\n",
    "Lacking external information, priors are computed from \n",
    "the sizes of each class in the data seen so far.  \n",
    "If 90% of the marbles seen so far were red, that's a prior. \n",
    "\n",
    "The probabilty that x is in dist1 is    \n",
    "(prior probability of dist1) * (likelihood x is from dist1) / (sum likelihoods over all classes).\n",
    "Write $arg_i max [ P(dist_i) L(x|dist_i) / P(x)]$   \n",
    "where P(x) = sum of P(x) under all distributions.\n"
   ]
  },
  {
   "cell_type": "code",
   "execution_count": null,
   "id": "40cac5b2",
   "metadata": {},
   "outputs": [],
   "source": []
  }
 ],
 "metadata": {
  "kernelspec": {
   "display_name": "Python 3 (ipykernel)",
   "language": "python",
   "name": "python3"
  },
  "language_info": {
   "codemirror_mode": {
    "name": "ipython",
    "version": 3
   },
   "file_extension": ".py",
   "mimetype": "text/x-python",
   "name": "python",
   "nbconvert_exporter": "python",
   "pygments_lexer": "ipython3",
   "version": "3.10.0"
  }
 },
 "nbformat": 4,
 "nbformat_minor": 5
}
