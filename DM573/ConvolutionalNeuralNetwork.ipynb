{
 "cells": [
  {
   "cell_type": "markdown",
   "metadata": {},
   "source": [
    "# Convolutional Neural Network\n",
    "From DNN to CNN:   \n",
    "The DNN fully-connected network suffers from a profusion of parameters,\n",
    "starting with one parameter between every input feature to every neuron\n",
    "of the first internal layer.\n",
    "In standard image analysis, each pixel is a feature.\n",
    "Given so many input features per image, dense neural networks are impractical.\n",
    "The CNN architecture uses shared weights to reduce the number of trainable parameters.\n",
    "\n",
    "Acknowledgement:   \n",
    "This notebook is a modification of my DenseNeuralNetwork notebook.\n",
    "I used help from Jason Brownlee's tutorials on  \n",
    "[MNIST](https://machinelearningmastery.com/how-to-develop-a-convolutional-neural-network-from-scratch-for-mnist-handwritten-digit-classification/) and the\n",
    "[Functional API](https://machinelearningmastery.com/keras-functional-api-deep-learning/)"
   ]
  },
  {
   "cell_type": "markdown",
   "metadata": {},
   "source": [
    "## CNN architecture\n",
    "The neural network architecture is:\n",
    "* Input Layer that reads features \n",
    "* Internal Convolutional Layer(s) that have filters with trainable weights\n",
    "* Pooling Layer(s) for image smoothing and data reduction\n",
    "* Flatten Layer that converts a 3D array (width * height * filters) to 1D \n",
    "* Dense Layer(s) for classification using convoluted pixels as features \n",
    "* Output Layer that generates scores for classification.\n",
    "\n",
    "### Fully convolutional  \n",
    "A fully-convolutional neural network, such as U-Net, may have no dense layers,\n",
    "but it is not designed for classification.\n",
    "Most convolutional models include CNN layers followed by DNN layers. \n",
    "The DNN layers provide classification based on convolutional features.\n",
    "\n",
    "### Filters aka Kernels    \n",
    "The CNN network consists of filters, also called kernels.\n",
    "\n",
    "Each filter is a mini-neural-network that produces a score for an image region.\n",
    "Each filter reads the scores in its \"receptive field\", then outputs one score. \n",
    "A 3x3 filter reads 9 pixel values and outputs 1 score. \n",
    "\n",
    "Filters have a \"receptive field\" that grows per layer.\n",
    "A 3x3 filter in layer 1 has a receptive field of 3x3 on the image.\n",
    "The filters in layer 2 operate on the map from layer 1,\n",
    "and in that map, every 3x3 square is derived from a 5x5 square of the image, \n",
    "assuming stride 1x1.\n",
    "Thus, the 3x3 filter in layer 2 has a receptive field of size 5x5 on the image.\n",
    "\n",
    "Each filter starts with random weights then learns to \"recognize\" a pattern.\n",
    "In training, initial layers might develop filters that recognize dots, vertical lines, horizontal lines, curves.\n",
    "One filter will recognize its pattern at any number of locations around the input.\n",
    "For an image with a vertical line from top to bottom, \n",
    "a 3x3 vertical line filter would output a vertical line of bright dots from top to bottom.\n",
    "Filters in later layers learn to recognize combinations of earlier filters. \n",
    "Thus, later filters recognize circles and squares and faces.\n",
    "\n",
    "### Stride and Padding\n",
    "During training and prediction,\n",
    "each filter slides around the 2D input image.\n",
    "Thus, each filter gets to cover the input (except for edge effects). \n",
    "The amount of the slide is the \"stride.\"\n",
    "A 3x3 filter with stride 1x1 would be centered on columns 2, 3, 4, etc.\n",
    "A 3x3 filter with stride 2x2 would be centered on columns 2, 4, 6, etc.\n",
    "\n",
    "With \"same\" convolution, pad with pixels at the edges, \n",
    "such that the output map is the same size as the input image.\n",
    "The problem is that the padding value is arbitrary.\n",
    "With \"valid\" convolution, the output map is smaller than the input image,\n",
    "and the image's border pixels are underrepresented."
   ]
  },
  {
   "cell_type": "markdown",
   "metadata": {},
   "source": [
    "### Example\n",
    "Use \"valid\" convolution, 3x3 filters, stride 2x2.\n",
    "Input 16x16x3 RGB image. Each pixel has 3 dimensions (RBG). \n",
    "First conv layer has 4 filters.\n",
    "On the horizontal, the filter visits 7 positions: 1-3, 3-5, 5-7, 7-9, 9-11, 11-13, 13-15.\n",
    "The right-most pixels cannot be processed.\n",
    "Output map is 7x7x4 image. Each pixel has 4 dimensions (maps)."
   ]
  },
  {
   "cell_type": "markdown",
   "metadata": {},
   "source": [
    "## Training and Evaluation\n",
    "Training and evaluating the model works identically for CNN as for DNN.\n",
    "Please see my notes on the DenseNeuralNetwork notebook."
   ]
  },
  {
   "cell_type": "code",
   "execution_count": 1,
   "metadata": {},
   "outputs": [
    {
     "name": "stdout",
     "output_type": "stream",
     "text": [
      "2022-11-28 19:13:11.971105\n",
      "Python 3.10.0\n"
     ]
    }
   ],
   "source": [
    "import datetime\n",
    "print(datetime.datetime.now())\n",
    "from platform import python_version\n",
    "print('Python',python_version())\n",
    "import csv\n",
    "import numpy as np\n",
    "import pandas as pd\n",
    "import matplotlib.pyplot as plt\n",
    "import requests"
   ]
  },
  {
   "cell_type": "code",
   "execution_count": 2,
   "metadata": {},
   "outputs": [
    {
     "name": "stderr",
     "output_type": "stream",
     "text": [
      "2022-11-28 19:13:26.300520: I tensorflow/core/platform/cpu_feature_guard.cc:193] This TensorFlow binary is optimized with oneAPI Deep Neural Network Library (oneDNN) to use the following CPU instructions in performance-critical operations:  AVX2 FMA\n",
      "To enable them in other operations, rebuild TensorFlow with the appropriate compiler flags.\n"
     ]
    }
   ],
   "source": [
    "import tensorflow as tf\n",
    "from tensorflow import keras\n",
    "from keras import layers\n",
    "from sklearn.model_selection import StratifiedKFold"
   ]
  },
  {
   "cell_type": "markdown",
   "metadata": {},
   "source": [
    "## The Dataset\n",
    "MNIST:   \n",
    "We'll use the MNIST dataset,\n",
    "famous because it was used by Yann LeCun \n",
    "to develop the first convolutional neural network.\n",
    "\n",
    "Color vs B & W:    \n",
    "In black and white images, each pixel has 1 value representing greyscale.\n",
    "In color images, each pixel has 3 values representing the RGB channels.\n",
    "In MNIST, there are 70K greyscale images of 28x28 pixels. \n",
    "Each image is centered on a single, hand-written digit.\n",
    "Each label is one of 0, 1, 2, ... 9.\n",
    "\n",
    "Shuffle:  \n",
    "The data are provided in random order so there is no need to shuffle.\n",
    "\n",
    "Train and test:    \n",
    "The data are in random order, so we just set aside the last 10K as the unseen data."
   ]
  },
  {
   "cell_type": "code",
   "execution_count": 3,
   "metadata": {},
   "outputs": [
    {
     "name": "stdout",
     "output_type": "stream",
     "text": [
      "Train: (60000, 28, 28) (60000,)\n",
      "Test:  (10000, 28, 28) (10000,)\n",
      "Distinct labels: 10\n"
     ]
    }
   ],
   "source": [
    "(X_seen, y_seen), (X_unseen, y_unseen) = keras.datasets.mnist.load_data()\n",
    "print('Train:',X_seen.shape,y_seen.shape)\n",
    "print('Test: ',X_unseen.shape,y_unseen.shape)\n",
    "num_instances = X_seen.shape[0]\n",
    "CHANNELS_PER_PIXEL = 1 # we have greyscale inputs\n",
    "image_shape = (X_seen.shape[1],X_seen.shape[2],CHANNELS_PER_PIXEL) \n",
    "num_features = X_seen.shape[1] * X_seen.shape[2] \n",
    "num_labels = len(np.unique(y_seen))\n",
    "print('Distinct labels:',num_labels)"
   ]
  },
  {
   "cell_type": "code",
   "execution_count": 4,
   "metadata": {},
   "outputs": [
    {
     "data": {
      "text/plain": [
       "array([5, 0, 4, 1, 9, 2, 1, 3, 1, 4], dtype=uint8)"
      ]
     },
     "execution_count": 4,
     "metadata": {},
     "output_type": "execute_result"
    }
   ],
   "source": [
    "# Here are the species labels. Each y corresponds to a row of X_seen.\n",
    "y_seen[:10]"
   ]
  },
  {
   "cell_type": "code",
   "execution_count": 5,
   "metadata": {},
   "outputs": [
    {
     "data": {
      "image/png": "[encoded data removed]",
      "text/plain": [
       "<Figure size 640x480 with 3 Axes>"
      ]
     },
     "metadata": {},
     "output_type": "display_data"
    },
    {
     "name": "stdout",
     "output_type": "stream",
     "text": [
      "Image labels: [5 0 4]\n",
      "Image data structure: <class 'numpy.ndarray'> (28, 28)\n",
      "Pixel value range: 0 to 255\n"
     ]
    }
   ],
   "source": [
    "# Here is some raw data, not normalized.\n",
    "for i in range(3):\n",
    "    plt.subplot(330 + 1 + i)\n",
    "    plt.imshow(X_seen[i], cmap=plt.get_cmap('gray'))\n",
    "plt.show()\n",
    "print('Image labels:',y_seen[:3])\n",
    "print('Image data structure:',type(X_seen[0]),X_seen[0].shape)\n",
    "print('Pixel value range:',np.amin(X_seen[0]),'to',np.amax(X_seen[0]))"
   ]
  },
  {
   "cell_type": "markdown",
   "metadata": {},
   "source": [
    "### Normalization\n",
    "Without normalization, pixel values range from 0 to 255.\n",
    "This is a problem if low-intensity differences (like 0 vs 1)\n",
    "seem huge compared to high-intensity differences (like 254 vs 255).\n",
    "We simply divide every pixel by 255.\n",
    "Do this to the train and test sets."
   ]
  },
  {
   "cell_type": "code",
   "execution_count": 6,
   "metadata": {},
   "outputs": [
    {
     "name": "stdout",
     "output_type": "stream",
     "text": [
      "Normalized pixel value range: 0.0 to 1.0\n"
     ]
    }
   ],
   "source": [
    "X_seen = X_seen/255.0\n",
    "X_unseen = X_unseen/255.0\n",
    "print('Normalized pixel value range:',np.amin(X_seen[0]),'to',np.amax(X_seen[0]))"
   ]
  },
  {
   "cell_type": "markdown",
   "metadata": {},
   "source": [
    "## Model Architecture\n",
    "See also:    \n",
    "Please see my notes on the DenseNeuralNetwork notebook.\n",
    "Keras model building works identically for CNN as for DNN.\n",
    "\n",
    "Conv2D:    \n",
    "The big CNN/DNN difference is CNN's use of the Keras Conv2D layer.\n",
    "Conv2D requires parameters to specify the number of filters, and the size of those filters.\n",
    "Like Dense, Conv2D uses the Xavier/Glorot uniform initializer by default."
   ]
  },
  {
   "cell_type": "code",
   "execution_count": 7,
   "metadata": {},
   "outputs": [],
   "source": [
    "def make_model(name):\n",
    "    KERNEL_SHAPE = (3,3)\n",
    "    inputs  =  keras.Input(shape=image_shape)\n",
    "    prev    =  inputs\n",
    "    prev    =  layers.Conv2D(30, KERNEL_SHAPE, \n",
    "                             activation='relu'  ) (prev) \n",
    "  #  kernel_initializer='he_uniform') (prev)                          \n",
    "    prev    =  layers.Flatten()                               (prev)\n",
    "    prev    =  layers.Dense(10, activation=\"relu\")            (prev)\n",
    "    outputs =  layers.Dense(num_labels, activation=\"softmax\") (prev)\n",
    "    new_model = keras.Model(inputs=inputs, outputs=outputs, name=name)\n",
    "    new_model.compile(\n",
    "        loss=keras.losses.SparseCategoricalCrossentropy(),\n",
    "        optimizer=keras.optimizers.RMSprop(),\n",
    "        metrics=[\"accuracy\"])\n",
    "    return new_model"
   ]
  },
  {
   "cell_type": "markdown",
   "metadata": {},
   "source": [
    "## Count the trainable parameters\n",
    "Here we explain the number of trainable parameters that are shown below.\n",
    "1. Conv2D(30): 30 kernels * (3 * 3 inputs + 1 bias) = 300 \n",
    "1. Flatten:\n",
    "The kernel never scores the pixels along the very top, bottom, left, and right.\n",
    "This is because we are using valid convolution.\n",
    "(The alternative, called same convolution, \n",
    "adds pixels along the top, bottom, left, and right,\n",
    "and uses some rule to fill their pixel values.)\n",
    "Since the input is 28 * 28, each 3 * 3 kernel visits 26 * 26 positions.\n",
    "Thus, Flatten has (26 * 26) pixels * 30 kernels = 20280 outputs.\n",
    "1. Dense(10): 10 neurons * (20280 inputs + 1 bias) = 202810 parameters.\n",
    "1. Output(10): 10 neurons * (10 inputs + 1 bias) = 110 parameters. "
   ]
  },
  {
   "cell_type": "code",
   "execution_count": 8,
   "metadata": {},
   "outputs": [
    {
     "name": "stdout",
     "output_type": "stream",
     "text": [
      "Model: \"Demo\"\n",
      "_________________________________________________________________\n",
      " Layer (type)                Output Shape              Param #   \n",
      "=================================================================\n",
      " input_1 (InputLayer)        [(None, 28, 28, 1)]       0         \n",
      "                                                                 \n",
      " conv2d (Conv2D)             (None, 26, 26, 30)        300       \n"
     ]
    },
    {
     "name": "stderr",
     "output_type": "stream",
     "text": [
      "2022-11-28 19:14:00.923252: I tensorflow/core/platform/cpu_feature_guard.cc:193] This TensorFlow binary is optimized with oneAPI Deep Neural Network Library (oneDNN) to use the following CPU instructions in performance-critical operations:  AVX2 FMA\n",
      "To enable them in other operations, rebuild TensorFlow with the appropriate compiler flags.\n"
     ]
    },
    {
     "name": "stdout",
     "output_type": "stream",
     "text": [
      "                                                                 \n",
      " flatten (Flatten)           (None, 20280)             0         \n",
      "                                                                 \n",
      " dense (Dense)               (None, 10)                202810    \n",
      "                                                                 \n",
      " dense_1 (Dense)             (None, 10)                110       \n",
      "                                                                 \n",
      "=================================================================\n",
      "Total params: 203,220\n",
      "Trainable params: 203,220\n",
      "Non-trainable params: 0\n",
      "_________________________________________________________________\n"
     ]
    }
   ],
   "source": [
    "demo = make_model(\"Demo\")\n",
    "demo.summary()"
   ]
  },
  {
   "cell_type": "markdown",
   "metadata": {},
   "source": [
    "## Training and Validation\n",
    "See also:    \n",
    "Please see my notes on the DenseNeuralNetwork notebook.\n",
    "Training and validation work identically for CNN as for DNN.\n",
    "\n",
    "CNN run time:    \n",
    "The CNN training is computationally demanding.\n",
    "This can be alleviated by use of a GPU (which was not used here)."
   ]
  },
  {
   "cell_type": "code",
   "execution_count": 9,
   "metadata": {},
   "outputs": [
    {
     "name": "stdout",
     "output_type": "stream",
     "text": [
      "Epoch 1/2\n",
      "1250/1250 [==============================] - 17s 13ms/step - loss: 0.4341 - accuracy: 0.8705 - val_loss: 0.1920 - val_accuracy: 0.9418\n",
      "Epoch 2/2\n",
      "1250/1250 [==============================] - 16s 13ms/step - loss: 0.1324 - accuracy: 0.9615 - val_loss: 0.1209 - val_accuracy: 0.9627\n",
      "625/625 [==============================] - 3s 5ms/step - loss: 0.1209 - accuracy: 0.9627\n",
      "Fold 1 Valid accuracy: 0.9627000093460083 Valid loss: 0.12092822045087814\n",
      "Epoch 1/2\n",
      "1250/1250 [==============================] - 17s 13ms/step - loss: 0.5923 - accuracy: 0.8354 - val_loss: 0.2134 - val_accuracy: 0.9408\n",
      "Epoch 2/2\n",
      "1250/1250 [==============================] - 16s 13ms/step - loss: 0.1579 - accuracy: 0.9549 - val_loss: 0.1438 - val_accuracy: 0.9588\n",
      "625/625 [==============================] - 2s 4ms/step - loss: 0.1438 - accuracy: 0.9588\n",
      "Fold 2 Valid accuracy: 0.9588000178337097 Valid loss: 0.143767312169075\n",
      "Epoch 1/2\n",
      "1250/1250 [==============================] - 16s 12ms/step - loss: 0.3463 - accuracy: 0.8978 - val_loss: 0.1539 - val_accuracy: 0.9563\n",
      "Epoch 2/2\n",
      "1250/1250 [==============================] - 15s 12ms/step - loss: 0.1194 - accuracy: 0.9649 - val_loss: 0.1092 - val_accuracy: 0.9672\n",
      "625/625 [==============================] - 3s 5ms/step - loss: 0.1092 - accuracy: 0.9672\n",
      "Fold 3 Valid accuracy: 0.9672499895095825 Valid loss: 0.10923181474208832\n"
     ]
    }
   ],
   "source": [
    "# Use seen data only. Do not peek at unseen data.\n",
    "EPOCHS=2\n",
    "SPLITS=3\n",
    "fold=0\n",
    "skf = StratifiedKFold(n_splits=SPLITS)\n",
    "history_vector=[None]*SPLITS\n",
    "valid_vector  =[None]*SPLITS\n",
    "def tensor_slice(tensor,index):\n",
    "    array = np.array(tensor)\n",
    "    subset = array[index]\n",
    "    tensor = tf.convert_to_tensor(subset)\n",
    "    return tensor\n",
    "for train, valid in skf.split(X_seen,y_seen):\n",
    "    X_train = tensor_slice(X_seen,train)\n",
    "    y_train = tensor_slice(y_seen,train)\n",
    "    X_valid = tensor_slice(X_seen,valid)\n",
    "    y_valid = tensor_slice(y_seen,valid)\n",
    "    validata = (X_valid,y_valid)\n",
    "    name = \"MLP_\"+str(fold)\n",
    "    fold_model  = make_model(name)\n",
    "    fold_history = fold_model.fit(X_train,y_train,\n",
    "                                  epochs=EPOCHS,validation_data=validata)\n",
    "    # The call to evaluate() is redundant with fit(validation_data),\n",
    "    # but it provides a quick & easy way to get the final validation scores.\n",
    "    fold_valid = None\n",
    "    fold_valid = fold_model.evaluate(X_valid, y_valid)\n",
    "    history_vector[fold]=fold_history\n",
    "    valid_vector  [fold]=fold_valid\n",
    "    fold += 1\n",
    "    print(\"Fold\", fold,\"Valid accuracy:\",fold_valid[1],\"Valid loss:\", fold_valid[0])"
   ]
  },
  {
   "cell_type": "markdown",
   "metadata": {},
   "source": [
    "## Summarize the training and validation \n",
    "Within each round of cross valication,\n",
    "after each epoch,\n",
    "we measured train accuracy, train loss, validation accuracy, validation loss.\n",
    "Now they can be plotted over time."
   ]
  },
  {
   "cell_type": "code",
   "execution_count": 10,
   "metadata": {},
   "outputs": [
    {
     "data": {
      "image/png": "[encoded data removed]",
      "text/plain": [
       "<Figure size 400x300 with 1 Axes>"
      ]
     },
     "metadata": {},
     "output_type": "display_data"
    },
    {
     "name": "stdout",
     "output_type": "stream",
     "text": [
      "Fold 1 Final Validation acc = 0.96 loss =0.12\n"
     ]
    },
    {
     "data": {
      "image/png": "[encoded data removed]",
      "text/plain": [
       "<Figure size 400x300 with 1 Axes>"
      ]
     },
     "metadata": {},
     "output_type": "display_data"
    },
    {
     "name": "stdout",
     "output_type": "stream",
     "text": [
      "Fold 2 Final Validation acc = 0.96 loss =0.14\n"
     ]
    },
    {
     "data": {
      "image/png": "[encoded data removed]",
      "text/plain": [
       "<Figure size 400x300 with 1 Axes>"
      ]
     },
     "metadata": {},
     "output_type": "display_data"
    },
    {
     "name": "stdout",
     "output_type": "stream",
     "text": [
      "Fold 3 Final Validation acc = 0.97 loss =0.11\n"
     ]
    }
   ],
   "source": [
    "for fold in range(SPLITS):\n",
    "    one_history = history_vector[fold]\n",
    "    pair = valid_vector[fold]\n",
    "    pd.DataFrame(one_history.history).plot(figsize=(4,3))\n",
    "    plt.show()\n",
    "    print('Fold %d Final Validation acc = %.2f loss =%.2f'%(fold+1,pair[1],pair[0]))"
   ]
  },
  {
   "cell_type": "markdown",
   "metadata": {},
   "source": [
    "# Finally, compute test accuracy\n",
    "Do this only after settling on the model hyperparameters once and for all."
   ]
  },
  {
   "cell_type": "code",
   "execution_count": 11,
   "metadata": {},
   "outputs": [
    {
     "name": "stdout",
     "output_type": "stream",
     "text": [
      "Epoch 1/2\n",
      "2400/2400 [==============================] - 20s 8ms/step - loss: 0.9195 - accuracy: 0.6918\n",
      "Epoch 2/2\n",
      "2400/2400 [==============================] - 21s 9ms/step - loss: 0.1528 - accuracy: 0.9557\n",
      "313/313 [==============================] - 1s 4ms/step - loss: 0.1005 - accuracy: 0.9705\n"
     ]
    },
    {
     "data": {
      "image/png": "[encoded data removed]",
      "text/plain": [
       "<Figure size 400x300 with 1 Axes>"
      ]
     },
     "metadata": {},
     "output_type": "display_data"
    }
   ],
   "source": [
    "# Finally, we peek at the unseen data.\n",
    "# Train a model on all the seen data previously used for in cross validation.\n",
    "# Then test on unseen data for the first time.\n",
    "final_model = None\n",
    "X_train = X_seen  # don't need tf.convert_to_tensor()\n",
    "y_train = y_seen\n",
    "X_test  = X_unseen\n",
    "y_test  = y_unseen\n",
    "name = \"MLP_final\"\n",
    "final_model   = make_model(name)\n",
    "final_history = final_model.fit(X_train, y_train, batch_size=25, epochs=EPOCHS)\n",
    "test_scores   = final_model.evaluate(X_test, y_test)\n",
    "pd.DataFrame(final_history.history).plot(figsize=(4,3))\n",
    "plt.show()"
   ]
  },
  {
   "cell_type": "markdown",
   "metadata": {},
   "source": [
    "## Here is our final test accuracy:\n",
    "High accuracy is not expected as we used a rather small neural network. \n",
    "Anything better than 10% is better than guessing.\n",
    "So, our high accuracy is surprising."
   ]
  },
  {
   "cell_type": "code",
   "execution_count": 12,
   "metadata": {},
   "outputs": [
    {
     "name": "stdout",
     "output_type": "stream",
     "text": [
      "\n",
      "Test acc = 0.97 loss = 0.10\n"
     ]
    }
   ],
   "source": [
    "print()\n",
    "print('Test acc = %.2f loss = %.2f'%(test_scores[1],test_scores[0]))"
   ]
  },
  {
   "cell_type": "code",
   "execution_count": null,
   "metadata": {},
   "outputs": [],
   "source": []
  }
 ],
 "metadata": {
  "kernelspec": {
   "display_name": "Python 3 (ipykernel)",
   "language": "python",
   "name": "python3"
  },
  "language_info": {
   "codemirror_mode": {
    "name": "ipython",
    "version": 3
   },
   "file_extension": ".py",
   "mimetype": "text/x-python",
   "name": "python",
   "nbconvert_exporter": "python",
   "pygments_lexer": "ipython3",
   "version": "3.10.0"
  }
 },
 "nbformat": 4,
 "nbformat_minor": 2
}
