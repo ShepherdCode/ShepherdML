{
 "cells": [
  {
   "cell_type": "markdown",
   "metadata": {},
   "source": [
    "# Convolutional Neural Network\n",
    "From DNN to CNN:   \n",
    "The DNN fully-connected network suffers from a profusion of parameters,\n",
    "starting with one parameter between every input feature to every neuron\n",
    "of the first internal layer.\n",
    "In standard image analysis, each pixel is a feature.\n",
    "Given so many input features per image, dense neural networks are impractical.\n",
    "The CNN architecture uses shared weights to reduce the number of trainable parameters.\n",
    "\n",
    "Acknowledgement:   \n",
    "This notebook is a modification of my DenseNeuralNetwork notebook.\n",
    "I used help from Jason Brownlee's tutorials on  \n",
    "[MNIST](https://machinelearningmastery.com/how-to-develop-a-convolutional-neural-network-from-scratch-for-mnist-handwritten-digit-classification/) and the\n",
    "[Functional API](https://machinelearningmastery.com/keras-functional-api-deep-learning/)"
   ]
  },
  {
   "cell_type": "markdown",
   "metadata": {},
   "source": [
    "## Architecture\n",
    "Layers:    \n",
    "The neural network architecture is: \n",
    "Input Layer that reads features | \n",
    "Convolutional Layer(s) that have filters with trainable weights | \n",
    "Flatten Layer that converts a 3D array (num filters * width * hight) to 1D | \n",
    "Dense Layer(s) that treat convolution scores as features | \n",
    "Output Layer that generates scores for classification.\n",
    "\n",
    "CNN + DNN?   \n",
    "Note that the CNN incorporates a DNN. \n",
    "The DNN layers provide classification based on convolutional features.\n",
    "(A fully-convolutional neural network, such as U-Net, has no dense layers,\n",
    "and it is not designed for classification.)\n",
    "\n",
    "Filters or Kernels:    \n",
    "The CNN network consists of filters, also called kernels.\n",
    "Each filter is a mini-neural-network that produces a score for an image region.\n",
    "The region, called the receptive field, is usually a small square, such as 3x3 pixels.\n",
    "Each filter slides around the 2D input, scoring the center pixel of that region.\n",
    "If some filter gives high scores to dots, we say it recognizes dots.\n",
    "Layers of filters build on each other, \n",
    "such that early filters recognize simple patterns like edges and dots,\n",
    "while late filters recongnize compound patterns like cats and dogs.\n",
    "One filter can recognize its pattern at any number of locations around the input.\n",
    "Training a CNN involves tuning the filters to output useful scores. "
   ]
  },
  {
   "cell_type": "markdown",
   "metadata": {},
   "source": [
    "## Training and Evaluation\n",
    "Training and evaluating the model works identically for CNN as for DNN.\n",
    "Please see my notes on the DenseNeuralNetwork notebook."
   ]
  },
  {
   "cell_type": "code",
   "execution_count": 1,
   "metadata": {},
   "outputs": [
    {
     "name": "stdout",
     "output_type": "stream",
     "text": [
      "2022-09-06 10:43:12.699755\n",
      "Python 3.10.0\n"
     ]
    }
   ],
   "source": [
    "import datetime\n",
    "print(datetime.datetime.now())\n",
    "from platform import python_version\n",
    "print('Python',python_version())\n",
    "import csv\n",
    "import numpy as np\n",
    "import pandas as pd\n",
    "import matplotlib.pyplot as plt\n",
    "import requests"
   ]
  },
  {
   "cell_type": "code",
   "execution_count": 2,
   "metadata": {},
   "outputs": [],
   "source": [
    "import tensorflow as tf\n",
    "from tensorflow import keras\n",
    "from keras import layers\n",
    "from sklearn.model_selection import StratifiedKFold"
   ]
  },
  {
   "cell_type": "markdown",
   "metadata": {},
   "source": [
    "## The Dataset\n",
    "MNIST:   \n",
    "We'll use the MNIST dataset,\n",
    "famous because it was used by Yann LeCun \n",
    "to develop the first convolutional neural network.\n",
    "\n",
    "Color vs B & W:    \n",
    "In black and white images, each pixel has 1 value representing greyscale.\n",
    "In color images, each pixel has 3 values representing the RGB channels.\n",
    "In MNIST, there are 70K greyscale images of 28x28 pixels. \n",
    "Each image is centered on a single, hand-written digit.\n",
    "Each label is one of 0, 1, 2, ... 9.\n",
    "\n",
    "Shuffle:  \n",
    "The data are provided in random order so there is no need to shuffle.\n",
    "\n",
    "Train and test:    \n",
    "The data are in random order, so we just set aside the last 10K as the unseen data."
   ]
  },
  {
   "cell_type": "code",
   "execution_count": 3,
   "metadata": {},
   "outputs": [
    {
     "name": "stdout",
     "output_type": "stream",
     "text": [
      "Train: (60000, 28, 28) (60000,)\n",
      "Test:  (10000, 28, 28) (10000,)\n",
      "Num labels: 10\n"
     ]
    }
   ],
   "source": [
    "(X_seen, y_seen), (X_unseen, y_unseen) = keras.datasets.mnist.load_data()\n",
    "print('Train:',X_seen.shape,y_seen.shape)\n",
    "print('Test: ',X_unseen.shape,y_unseen.shape)\n",
    "num_instances = X_seen.shape[0]\n",
    "CHANNELS_PER_PIXEL = 1 # we have greyscale inputs\n",
    "image_shape = (X_seen.shape[1],X_seen.shape[2],CHANNELS_PER_PIXEL) \n",
    "num_features = X_seen.shape[1] * X_seen.shape[2] \n",
    "num_labels = len(np.unique(y_seen))\n",
    "print('Num labels:',num_labels)"
   ]
  },
  {
   "cell_type": "code",
   "execution_count": 4,
   "metadata": {},
   "outputs": [
    {
     "data": {
      "text/plain": [
       "array([5, 0, 4, 1, 9, 2, 1, 3, 1, 4], dtype=uint8)"
      ]
     },
     "execution_count": 4,
     "metadata": {},
     "output_type": "execute_result"
    }
   ],
   "source": [
    "# Here are the species labels. Each y corresponds to a row of X_seen.\n",
    "y_seen[:10]"
   ]
  },
  {
   "cell_type": "code",
   "execution_count": 5,
   "metadata": {},
   "outputs": [
    {
     "data": {
      "image/png": "[encoded data removed]",
      "text/plain": [
       "<Figure size 640x480 with 3 Axes>"
      ]
     },
     "metadata": {},
     "output_type": "display_data"
    },
    {
     "name": "stdout",
     "output_type": "stream",
     "text": [
      "Image labels: [5 0 4]\n",
      "Image data structure: <class 'numpy.ndarray'> (28, 28)\n",
      "Pixel value range: 0 to 255\n"
     ]
    }
   ],
   "source": [
    "# Here is some raw data, not normalized.\n",
    "for i in range(3):\n",
    "    plt.subplot(330 + 1 + i)\n",
    "    plt.imshow(X_seen[i], cmap=plt.get_cmap('gray'))\n",
    "plt.show()\n",
    "print('Image labels:',y_seen[:3])\n",
    "print('Image data structure:',type(X_seen[0]),X_seen[0].shape)\n",
    "print('Pixel value range:',np.amin(X_seen[0]),'to',np.amax(X_seen[0]))"
   ]
  },
  {
   "cell_type": "markdown",
   "metadata": {},
   "source": [
    "### Normalization\n",
    "Without normalization, pixel values range from 0 to 255.\n",
    "This is a problem if low-intensity differences (like 0 vs 1)\n",
    "seem huge compared to high-intensity differences (like 254 vs 255).\n",
    "We simply divide every pixel by 255.\n",
    "Do this to the train and test sets."
   ]
  },
  {
   "cell_type": "code",
   "execution_count": 6,
   "metadata": {},
   "outputs": [
    {
     "name": "stdout",
     "output_type": "stream",
     "text": [
      "Normalized pixel value range: 0.0 to 1.0\n"
     ]
    }
   ],
   "source": [
    "X_seen = X_seen/255.0\n",
    "X_unseen = X_unseen/255.0\n",
    "print('Normalized pixel value range:',np.amin(X_seen[0]),'to',np.amax(X_seen[0]))"
   ]
  },
  {
   "cell_type": "markdown",
   "metadata": {},
   "source": [
    "## Model Architecture\n",
    "See also:    \n",
    "Please see my notes on the DenseNeuralNetwork notebook.\n",
    "Keras model building works identically for CNN as for DNN.\n",
    "\n",
    "Conv2D:    \n",
    "The big CNN/DNN difference is CNN's use of the Keras Conv2D layer.\n",
    "Conv2D requires parameters to specify the number of filters, and the size of those filters.\n",
    "Like Dense, Conv2D uses the Xavier/Glorot uniform initializer by default."
   ]
  },
  {
   "cell_type": "code",
   "execution_count": 7,
   "metadata": {},
   "outputs": [],
   "source": [
    "def make_model(name):\n",
    "    KERNEL_SHAPE = (3,3)\n",
    "    inputs  =  keras.Input(shape=image_shape)\n",
    "    prev    =  inputs\n",
    "    prev    =  layers.Conv2D(30, KERNEL_SHAPE, \n",
    "                             activation='relu'  ) (prev) \n",
    "  #  kernel_initializer='he_uniform') (prev)                          \n",
    "    prev    =  layers.Flatten()                               (prev)\n",
    "    prev    =  layers.Dense(10, activation=\"relu\")            (prev)\n",
    "    outputs =  layers.Dense(num_labels, activation=\"softmax\") (prev)\n",
    "    new_model = keras.Model(inputs=inputs, outputs=outputs, name=name)\n",
    "    new_model.compile(\n",
    "        loss=keras.losses.SparseCategoricalCrossentropy(),\n",
    "        optimizer=keras.optimizers.RMSprop(),\n",
    "        metrics=[\"accuracy\"])\n",
    "    return new_model"
   ]
  },
  {
   "cell_type": "markdown",
   "metadata": {},
   "source": [
    "## Count the trainable parameters\n",
    "Here we explain the number of trainable parameters that are shown below.\n",
    "1. Conv2D(30): 30 kernels * (3 * 3 inputs + 1 bias) = 300 \n",
    "1. Flatten:\n",
    "The kernel never scores the pixels along the very top, bottom, left, and right.\n",
    "This is because we are using valid convolution.\n",
    "(The alternative, called same convolution, \n",
    "adds pixels along the top, bottom, left, and right,\n",
    "and uses some rule to fill their pixel values.)\n",
    "Since the input is 28 * 28, each 3 * 3 kernel visits 26 * 26 positions.\n",
    "Thus, Flatten has (26 * 26) pixels * 30 kernels = 20280 outputs.\n",
    "1. Dense(10): 10 neurons * (20280 inputs + 1 bias) = 202810 parameters.\n",
    "1. Output(10): 10 neurons * (10 inputs + 1 bias) = 110 parameters. "
   ]
  },
  {
   "cell_type": "code",
   "execution_count": 8,
   "metadata": {},
   "outputs": [
    {
     "name": "stdout",
     "output_type": "stream",
     "text": [
      "Model: \"Demo\"\n",
      "_________________________________________________________________\n",
      " Layer (type)                Output Shape              Param #   \n",
      "=================================================================\n",
      " input_1 (InputLayer)        [(None, 28, 28, 1)]       0         \n",
      "                                                                 \n",
      " conv2d (Conv2D)             (None, 26, 26, 30)        300       \n",
      "                                                                 \n",
      " flatten (Flatten)           (None, 20280)             0         \n",
      "                                                                 \n",
      " dense (Dense)               (None, 10)                202810    \n",
      "                                                                 \n",
      " dense_1 (Dense)             (None, 10)                110       \n",
      "                                                                 \n",
      "=================================================================\n",
      "Total params: 203,220\n",
      "Trainable params: 203,220\n",
      "Non-trainable params: 0\n",
      "_________________________________________________________________\n"
     ]
    },
    {
     "name": "stderr",
     "output_type": "stream",
     "text": [
      "2022-09-06 10:43:27.797472: I tensorflow/core/platform/cpu_feature_guard.cc:193] This TensorFlow binary is optimized with oneAPI Deep Neural Network Library (oneDNN) to use the following CPU instructions in performance-critical operations:  AVX2 FMA\n",
      "To enable them in other operations, rebuild TensorFlow with the appropriate compiler flags.\n"
     ]
    }
   ],
   "source": [
    "demo = make_model(\"Demo\")\n",
    "demo.summary()"
   ]
  },
  {
   "cell_type": "markdown",
   "metadata": {},
   "source": [
    "## Training and Validation\n",
    "See also:    \n",
    "Please see my notes on the DenseNeuralNetwork notebook.\n",
    "Training and validation work identically for CNN as for DNN.\n",
    "\n",
    "CNN run time:    \n",
    "The CNN training is computationally demanding.\n",
    "This can be alleviated by use of a GPU (which was not used here)."
   ]
  },
  {
   "cell_type": "code",
   "execution_count": 9,
   "metadata": {},
   "outputs": [
    {
     "name": "stdout",
     "output_type": "stream",
     "text": [
      "Epoch 1/2\n",
      "1250/1250 [==============================] - 16s 12ms/step - loss: 0.5813 - accuracy: 0.8175 - val_loss: 0.2503 - val_accuracy: 0.9298\n",
      "Epoch 2/2\n",
      "1250/1250 [==============================] - 16s 13ms/step - loss: 0.1856 - accuracy: 0.9492 - val_loss: 0.1589 - val_accuracy: 0.9532\n",
      "625/625 [==============================] - 2s 4ms/step - loss: 0.1589 - accuracy: 0.9532\n",
      "Fold 1 Valid accuracy: 0.953249990940094 Valid loss: 0.15886859595775604\n",
      "Epoch 1/2\n",
      "1250/1250 [==============================] - 18s 14ms/step - loss: 0.3118 - accuracy: 0.9076 - val_loss: 0.1308 - val_accuracy: 0.9631\n",
      "Epoch 2/2\n",
      "1250/1250 [==============================] - 17s 13ms/step - loss: 0.1003 - accuracy: 0.9710 - val_loss: 0.0985 - val_accuracy: 0.9728\n",
      "625/625 [==============================] - 3s 4ms/step - loss: 0.0985 - accuracy: 0.9728\n",
      "Fold 2 Valid accuracy: 0.9727500081062317 Valid loss: 0.09850933402776718\n",
      "Epoch 1/2\n",
      "1250/1250 [==============================] - 17s 13ms/step - loss: 0.4731 - accuracy: 0.8594 - val_loss: 0.1904 - val_accuracy: 0.9463\n",
      "Epoch 2/2\n",
      "1250/1250 [==============================] - 15s 12ms/step - loss: 0.1509 - accuracy: 0.9568 - val_loss: 0.1279 - val_accuracy: 0.9623\n",
      "625/625 [==============================] - 2s 4ms/step - loss: 0.1279 - accuracy: 0.9623\n",
      "Fold 3 Valid accuracy: 0.9623000025749207 Valid loss: 0.12791144847869873\n"
     ]
    }
   ],
   "source": [
    "# Use seen data only. Do not peek at unseen data.\n",
    "EPOCHS=2\n",
    "SPLITS=3\n",
    "fold=0\n",
    "skf = StratifiedKFold(n_splits=SPLITS)\n",
    "history_vector=[None]*SPLITS\n",
    "valid_vector  =[None]*SPLITS\n",
    "def tensor_slice(tensor,index):\n",
    "    array = np.array(tensor)\n",
    "    subset = array[index]\n",
    "    tensor = tf.convert_to_tensor(subset)\n",
    "    return tensor\n",
    "for train, valid in skf.split(X_seen,y_seen):\n",
    "    X_train = tensor_slice(X_seen,train)\n",
    "    y_train = tensor_slice(y_seen,train)\n",
    "    X_valid = tensor_slice(X_seen,valid)\n",
    "    y_valid = tensor_slice(y_seen,valid)\n",
    "    validata = (X_valid,y_valid)\n",
    "    name = \"MLP_\"+str(fold)\n",
    "    fold_model  = make_model(name)\n",
    "    fold_history = fold_model.fit(X_train,y_train,\n",
    "                                  epochs=EPOCHS,validation_data=validata)\n",
    "    # The call to evaluate() is redundant with fit(validation_data),\n",
    "    # but it provides a quick & easy way to get the final validation scores.\n",
    "    fold_valid = None\n",
    "    fold_valid = fold_model.evaluate(X_valid, y_valid)\n",
    "    history_vector[fold]=fold_history\n",
    "    valid_vector  [fold]=fold_valid\n",
    "    fold += 1\n",
    "    print(\"Fold\", fold,\"Valid accuracy:\",fold_valid[1],\"Valid loss:\", fold_valid[0])"
   ]
  },
  {
   "cell_type": "markdown",
   "metadata": {},
   "source": [
    "## Summarize the training and validation \n",
    "Within each round of cross valication,\n",
    "after each epoch,\n",
    "we measured train accuracy, train loss, validation accuracy, validation loss.\n",
    "Now they can be plotted over time."
   ]
  },
  {
   "cell_type": "code",
   "execution_count": 13,
   "metadata": {},
   "outputs": [
    {
     "data": {
      "image/png": "[encoded data removed]",
      "text/plain": [
       "<Figure size 400x300 with 1 Axes>"
      ]
     },
     "metadata": {},
     "output_type": "display_data"
    },
    {
     "name": "stdout",
     "output_type": "stream",
     "text": [
      "Fold 1 Final Validation acc = 0.95 loss =0.16\n"
     ]
    },
    {
     "data": {
      "image/png": "[encoded data removed]",
      "text/plain": [
       "<Figure size 400x300 with 1 Axes>"
      ]
     },
     "metadata": {},
     "output_type": "display_data"
    },
    {
     "name": "stdout",
     "output_type": "stream",
     "text": [
      "Fold 2 Final Validation acc = 0.97 loss =0.10\n"
     ]
    },
    {
     "data": {
      "image/png": "[encoded data removed]",
      "text/plain": [
       "<Figure size 400x300 with 1 Axes>"
      ]
     },
     "metadata": {},
     "output_type": "display_data"
    },
    {
     "name": "stdout",
     "output_type": "stream",
     "text": [
      "Fold 3 Final Validation acc = 0.96 loss =0.13\n"
     ]
    }
   ],
   "source": [
    "for fold in range(SPLITS):\n",
    "    one_history = history_vector[fold]\n",
    "    pair = valid_vector[fold]\n",
    "    pd.DataFrame(one_history.history).plot(figsize=(4,3))\n",
    "    plt.show()\n",
    "    print('Fold %d Final Validation acc = %.2f loss =%.2f'%(fold+1,pair[1],pair[0]))"
   ]
  },
  {
   "cell_type": "markdown",
   "metadata": {},
   "source": [
    "# Finally, compute test accuracy\n",
    "Do this only after settling on the model hyperparameters once and for all."
   ]
  },
  {
   "cell_type": "code",
   "execution_count": 14,
   "metadata": {},
   "outputs": [
    {
     "name": "stdout",
     "output_type": "stream",
     "text": [
      "Epoch 1/2\n",
      "2400/2400 [==============================] - 23s 9ms/step - loss: 0.2800 - accuracy: 0.9190\n",
      "Epoch 2/2\n",
      "2400/2400 [==============================] - 21s 9ms/step - loss: 0.1017 - accuracy: 0.9704\n",
      "313/313 [==============================] - 1s 4ms/step - loss: 0.0927 - accuracy: 0.9727\n"
     ]
    },
    {
     "data": {
      "image/png": "[encoded data removed]",
      "text/plain": [
       "<Figure size 400x300 with 1 Axes>"
      ]
     },
     "metadata": {},
     "output_type": "display_data"
    }
   ],
   "source": [
    "# Finally, we peek at the unseen data.\n",
    "# Train a model on all the seen data previously used for in cross validation.\n",
    "# Then test on unseen data for the first time.\n",
    "final_model = None\n",
    "X_train = X_seen  # don't need tf.convert_to_tensor()\n",
    "y_train = y_seen\n",
    "X_test  = X_unseen\n",
    "y_test  = y_unseen\n",
    "name = \"MLP_final\"\n",
    "final_model   = make_model(name)\n",
    "final_history = final_model.fit(X_train, y_train, batch_size=25, epochs=EPOCHS)\n",
    "test_scores   = final_model.evaluate(X_test, y_test)\n",
    "pd.DataFrame(final_history.history).plot(figsize=(4,3))\n",
    "plt.show()"
   ]
  },
  {
   "cell_type": "markdown",
   "metadata": {},
   "source": [
    "## Here is our final test accuracy:\n",
    "High accuracy is not expected as we used a rather small neural network. \n",
    "Anything better than 10% is better than guessing.\n",
    "So, our high accuracy is surprising."
   ]
  },
  {
   "cell_type": "code",
   "execution_count": 15,
   "metadata": {},
   "outputs": [
    {
     "name": "stdout",
     "output_type": "stream",
     "text": [
      "\n",
      "Test acc = 0.97 loss = 0.09\n"
     ]
    }
   ],
   "source": [
    "print()\n",
    "print('Test acc = %.2f loss = %.2f'%(test_scores[1],test_scores[0]))"
   ]
  },
  {
   "cell_type": "code",
   "execution_count": null,
   "metadata": {},
   "outputs": [],
   "source": []
  }
 ],
 "metadata": {
  "kernelspec": {
   "display_name": "Python 3 (ipykernel)",
   "language": "python",
   "name": "python3"
  },
  "language_info": {
   "codemirror_mode": {
    "name": "ipython",
    "version": 3
   },
   "file_extension": ".py",
   "mimetype": "text/x-python",
   "name": "python",
   "nbconvert_exporter": "python",
   "pygments_lexer": "ipython3",
   "version": "3.10.0"
  }
 },
 "nbformat": 4,
 "nbformat_minor": 2
}
