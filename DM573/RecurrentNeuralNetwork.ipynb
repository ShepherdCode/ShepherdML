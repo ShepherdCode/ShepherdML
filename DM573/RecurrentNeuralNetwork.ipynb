{
 "cells": [
  {
   "cell_type": "markdown",
   "metadata": {},
   "source": [
    "# Recurrent Neural Network\n",
    "From DNN to RNN:    \n",
    "Whereas DNN accepts one input at a time, RNN accepts streaming input.\n",
    "RNNs are well-suited for sequences, time series, and natural language processing (NLP).\n",
    "However, since 2019, RNNs have been surpassed at NLP by Transformer models\n",
    "such as BERT, Alberta, and Roberta.\n",
    "\n",
    "RNN, LSTM, GRU:    \n",
    "The RNN invention is usually attributed to Rumelhart,\n",
    "though the older Hopfield Network is similar.\n",
    "The vanilla RNN suffers from memory decay that is exponential over time.\n",
    "Variants with longer memories are called long-short-term memory (LSTM) and \n",
    "gated-recurrent units (GRU). \n",
    "\n",
    "Similarity of DNN, CNN, RNN:    \n",
    "The DNN, being fully connected, suffers from parameter explosion.\n",
    "The CNN reduces parameters using convolutions that each apply a small set of parameters to every subregion of the image.\n",
    "The RNN reduces parameters using recurrences that each apply a small set of parameters to every subregion of the input sequence.\n",
    "\n",
    "Acknowledgement:   \n",
    "This notebook is a modification of my DenseNeuralNetwork notebook.\n",
    "I used help from Jason Brownlee's tutorials on  \n",
    "[time series](https://machinelearningmastery.com/time-series-prediction-lstm-recurrent-neural-networks-python-keras/)"
   ]
  },
  {
   "cell_type": "markdown",
   "metadata": {},
   "source": [
    "## Architecture\n",
    "Layers:    \n",
    "\n",
    "Recurrent neurons or units:   "
   ]
  },
  {
   "cell_type": "markdown",
   "metadata": {},
   "source": [
    "## Training and Evaluation\n",
    "Training and evaluating the model works identically for RNN as for DNN.\n",
    "Please see my notes on the DenseNeuralNetwork notebook."
   ]
  },
  {
   "cell_type": "code",
   "execution_count": 1,
   "metadata": {},
   "outputs": [
    {
     "name": "stdout",
     "output_type": "stream",
     "text": [
      "2022-09-06 15:53:05.336996\n",
      "Python 3.10.0\n"
     ]
    }
   ],
   "source": [
    "import datetime\n",
    "print(datetime.datetime.now())\n",
    "from platform import python_version\n",
    "print('Python',python_version())\n",
    "import csv\n",
    "import numpy as np\n",
    "import pandas as pd\n",
    "import matplotlib.pyplot as plt\n",
    "import requests"
   ]
  },
  {
   "cell_type": "code",
   "execution_count": 2,
   "metadata": {},
   "outputs": [],
   "source": [
    "import tensorflow as tf\n",
    "from tensorflow import keras\n",
    "from keras import layers\n",
    "from sklearn.model_selection import StratifiedKFold"
   ]
  },
  {
   "cell_type": "markdown",
   "metadata": {},
   "source": [
    "## The Dataset\n",
    "Airline Passengers:   \n",
    "We'll use Jason Brownlee's airline passengers dataset,\n",
    "which merely provides total passengers per month over one decade."
   ]
  },
  {
   "cell_type": "code",
   "execution_count": 3,
   "metadata": {},
   "outputs": [
    {
     "data": {
      "text/html": [
       "<div>\n",
       "<style scoped>\n",
       "    .dataframe tbody tr th:only-of-type {\n",
       "        vertical-align: middle;\n",
       "    }\n",
       "\n",
       "    .dataframe tbody tr th {\n",
       "        vertical-align: top;\n",
       "    }\n",
       "\n",
       "    .dataframe thead th {\n",
       "        text-align: right;\n",
       "    }\n",
       "</style>\n",
       "<table border=\"1\" class=\"dataframe\">\n",
       "  <thead>\n",
       "    <tr style=\"text-align: right;\">\n",
       "      <th></th>\n",
       "      <th>Month</th>\n",
       "      <th>Passengers</th>\n",
       "    </tr>\n",
       "  </thead>\n",
       "  <tbody>\n",
       "    <tr>\n",
       "      <th>0</th>\n",
       "      <td>1949-01</td>\n",
       "      <td>112</td>\n",
       "    </tr>\n",
       "    <tr>\n",
       "      <th>1</th>\n",
       "      <td>1949-02</td>\n",
       "      <td>118</td>\n",
       "    </tr>\n",
       "    <tr>\n",
       "      <th>2</th>\n",
       "      <td>1949-03</td>\n",
       "      <td>132</td>\n",
       "    </tr>\n",
       "    <tr>\n",
       "      <th>3</th>\n",
       "      <td>1949-04</td>\n",
       "      <td>129</td>\n",
       "    </tr>\n",
       "    <tr>\n",
       "      <th>4</th>\n",
       "      <td>1949-05</td>\n",
       "      <td>121</td>\n",
       "    </tr>\n",
       "    <tr>\n",
       "      <th>...</th>\n",
       "      <td>...</td>\n",
       "      <td>...</td>\n",
       "    </tr>\n",
       "    <tr>\n",
       "      <th>139</th>\n",
       "      <td>1960-08</td>\n",
       "      <td>606</td>\n",
       "    </tr>\n",
       "    <tr>\n",
       "      <th>140</th>\n",
       "      <td>1960-09</td>\n",
       "      <td>508</td>\n",
       "    </tr>\n",
       "    <tr>\n",
       "      <th>141</th>\n",
       "      <td>1960-10</td>\n",
       "      <td>461</td>\n",
       "    </tr>\n",
       "    <tr>\n",
       "      <th>142</th>\n",
       "      <td>1960-11</td>\n",
       "      <td>390</td>\n",
       "    </tr>\n",
       "    <tr>\n",
       "      <th>143</th>\n",
       "      <td>1960-12</td>\n",
       "      <td>432</td>\n",
       "    </tr>\n",
       "  </tbody>\n",
       "</table>\n",
       "<p>144 rows × 2 columns</p>\n",
       "</div>"
      ],
      "text/plain": [
       "       Month  Passengers\n",
       "0    1949-01         112\n",
       "1    1949-02         118\n",
       "2    1949-03         132\n",
       "3    1949-04         129\n",
       "4    1949-05         121\n",
       "..       ...         ...\n",
       "139  1960-08         606\n",
       "140  1960-09         508\n",
       "141  1960-10         461\n",
       "142  1960-11         390\n",
       "143  1960-12         432\n",
       "\n",
       "[144 rows x 2 columns]"
      ]
     },
     "execution_count": 3,
     "metadata": {},
     "output_type": "execute_result"
    }
   ],
   "source": [
    "# This fails for me due to an https cert issue.\n",
    "# data = pd.read_csv('https://raw.githubusercontent.com/jbrownlee/Datasets/master/airline-passengers.csv')\n",
    "# Instead, please run this command outside of the notebook.\n",
    "# wget https://raw.githubusercontent.com/jbrownlee/Datasets/master/airline-passengers.csv\n",
    "data = pd.read_csv('airline-passengers.csv')\n",
    "data"
   ]
  },
  {
   "cell_type": "code",
   "execution_count": 4,
   "metadata": {},
   "outputs": [
    {
     "data": {
      "image/png": "[encoded data removed]",
      "text/plain": [
       "<Figure size 640x480 with 1 Axes>"
      ]
     },
     "metadata": {},
     "output_type": "display_data"
    }
   ],
   "source": [
    "plt.plot(data['Passengers'])\n",
    "plt.show()\n",
    "# In a real experiment, we would not peek ahead at the test data!"
   ]
  },
  {
   "cell_type": "markdown",
   "metadata": {},
   "source": [
    "### Normalization\n",
    "Without normalization, pixel values range from 104 to 625.\n",
    "This is a problem if low-range jumps (like 100 to 200)\n",
    "seem huge compared to high-range jumps (like 500 to 600).\n",
    "We simply shift all numbers to the (0,1) range.\n",
    "Do this to the train and test sets.\n",
    "When making predictions, we must unshift the values."
   ]
  },
  {
   "cell_type": "code",
   "execution_count": 5,
   "metadata": {},
   "outputs": [
    {
     "name": "stdout",
     "output_type": "stream",
     "text": [
      "Raw data: [112 118 132 129 121 135 148 148 136 119]\n",
      "Raw min and max values: 104 622\n",
      "Scaled data: [0.01544402 0.02702703 0.05405405 0.04826255 0.03281853 0.05984556\n",
      " 0.08494208 0.08494208 0.06177606 0.02895753]\n",
      "Scaled min and max values: 0.0 1.0\n",
      "Later, denormalize 0, 1/2, and 1 to: 104 363 622\n"
     ]
    }
   ],
   "source": [
    "pass1 = np.array(data['Passengers'])\n",
    "shifter = np.amin(pass1)  # later, shift predictions by this\n",
    "pass2 = pass1 - shifter\n",
    "multiplier = np.amax(pass2) # later, multiply predictions by this\n",
    "pass3 = pass2 / multiplier\n",
    "print('Raw data:',pass1[:10])\n",
    "print('Raw min and max values:',np.amin(pass1),np.amax(pass1))\n",
    "print('Scaled data:',pass3[:10])\n",
    "print('Scaled min and max values:',np.amin(pass3),np.amax(pass3))\n",
    "def denormalize (value):\n",
    "    value *= multiplier\n",
    "    value += shifter\n",
    "    return int(value)\n",
    "print('Later, denormalize 0, 1/2, and 1 to:',\n",
    "      denormalize(0),denormalize(0.5),denormalize(1))"
   ]
  },
  {
   "cell_type": "markdown",
   "metadata": {},
   "source": [
    "### Train/Test split\n",
    "Partition the data into seen=training and unseen=testing.\n",
    "The graph above indicates the early years are indeed predictive of the later years.\n",
    "We'll use the early years for training and the later years for testing."
   ]
  },
  {
   "cell_type": "code",
   "execution_count": 6,
   "metadata": {},
   "outputs": [
    {
     "name": "stdout",
     "output_type": "stream",
     "text": [
      "Train/test data sizes: 115 29\n"
     ]
    }
   ],
   "source": [
    "TEST_PORTION = 0.20\n",
    "test_index = int(len(pass3) * (1-TEST_PORTION))\n",
    "train_data =   pass3[:test_index]\n",
    "test_data  = pass3[test_index:]\n",
    "print('Train/test data sizes:',len(train_data),len(test_data))"
   ]
  },
  {
   "cell_type": "markdown",
   "metadata": {},
   "source": [
    "### Reshape\n",
    "For time series, we need a redundant data layout like this:\n",
    "1. Use input X = t1..t5 to predict y = t6.\n",
    "1. Use input X = t2..t6 to predict y = t7.\n",
    "1. Use input X = t3..t7 to predict y = t8."
   ]
  },
  {
   "cell_type": "code",
   "execution_count": 7,
   "metadata": {},
   "outputs": [
    {
     "name": "stdout",
     "output_type": "stream",
     "text": [
      "From 115 timepoints, we created 114 overlapping time series.\n",
      "0.015444015444015444 0.02702702702702703\n",
      "0.02702702702702703 0.05405405405405406\n",
      "0.05405405405405406 0.04826254826254826\n",
      "0.04826254826254826 0.032818532818532815\n",
      "0.032818532818532815 0.059845559845559844\n",
      "0.059845559845559844 0.08494208494208494\n",
      "0.08494208494208494 0.08494208494208494\n",
      "0.08494208494208494 0.06177606177606178\n",
      "0.06177606177606178 0.02895752895752896\n",
      "0.02895752895752896 0.0\n"
     ]
    }
   ],
   "source": [
    "BACKWARD_WINDOW = 1   # number of past events used to predict a future event\n",
    "FORWARD_WINDOW = 1    # do these have to be the same?\n",
    "def reshape(data):\n",
    "    X=[]\n",
    "    y=[]\n",
    "    #for i in range(len(data)-BACKWARD_WINDOW):\n",
    "    #    the_end = i+BACKWARD_WINDOW\n",
    "    #    X.append(data[i:the_end])\n",
    "    #    y.append(data[the_end:the_end+FORWARD_WINDOW])\n",
    "    for i in range(len(data)-1):\n",
    "        X.append(data[i])\n",
    "        y.append(data[i+1])\n",
    "    return np.array(X),np.array(y)\n",
    "X_seen,y_seen = reshape(train_data)\n",
    "X_unseen,y_unseen = reshape(test_data)\n",
    "\n",
    "print('From',len(train_data),\n",
    "      'timepoints, we created',len(X_seen),'overlapping time series.')\n",
    "# Notice that each y(i) becomes the last element of X(i+1) \n",
    "for i in range(10):\n",
    "    print(X_seen[i],y_seen[i])"
   ]
  },
  {
   "cell_type": "markdown",
   "metadata": {},
   "source": [
    "## Model Architecture\n",
    "See also:    \n",
    "Please see my notes on the DenseNeuralNetwork notebook.\n",
    "Keras model building works identically for RNN as for DNN.\n",
    "\n",
    "RNN:    \n",
    "It is hard to calculate the number of parameters.\n",
    "It is strongly dependent on the outputs, which in our model is just 1.\n",
    "Each LSTM unit has 4 gates, each with a parameter.\n",
    "Each unit has a connection to the next unit, to capture the ordered sequence.\n",
    "The units in the layer have connections to themselves and each other to represent time."
   ]
  },
  {
   "cell_type": "code",
   "execution_count": 8,
   "metadata": {},
   "outputs": [
    {
     "name": "stderr",
     "output_type": "stream",
     "text": [
      "2022-09-06 15:53:17.283706: I tensorflow/core/platform/cpu_feature_guard.cc:193] This TensorFlow binary is optimized with oneAPI Deep Neural Network Library (oneDNN) to use the following CPU instructions in performance-critical operations:  AVX2 FMA\n",
      "To enable them in other operations, rebuild TensorFlow with the appropriate compiler flags.\n"
     ]
    },
    {
     "name": "stdout",
     "output_type": "stream",
     "text": [
      "Model: \"sequential\"\n",
      "_________________________________________________________________\n",
      " Layer (type)                Output Shape              Param #   \n",
      "=================================================================\n",
      " lstm (LSTM)                 (None, 10)                480       \n",
      "                                                                 \n",
      " dense (Dense)               (None, 1)                 11        \n",
      "                                                                 \n",
      "=================================================================\n",
      "Total params: 491\n",
      "Trainable params: 491\n",
      "Non-trainable params: 0\n",
      "_________________________________________________________________\n"
     ]
    }
   ],
   "source": [
    "EPOCHS = 20\n",
    "from tensorflow.keras.models import Sequential\n",
    "rnn = Sequential()\n",
    "rnn.add(layers.LSTM(10, input_shape=(1,1)))  # (batch,timesteps,features)\n",
    "rnn.add(layers.Dense(1))\n",
    "rnn.compile(loss='mean_squared_error', optimizer='adam')\n",
    "rnn.build()\n",
    "rnn.summary()"
   ]
  },
  {
   "cell_type": "markdown",
   "metadata": {},
   "source": [
    "## Training and Validation\n",
    "I used cross-validation in my notebooks \n",
    "on Dense and Convolutional Neural Networks.\n",
    "The technique would not be easy to apply to this data,\n",
    "which consists of one short time series. \n",
    "So, let's just train and validate once."
   ]
  },
  {
   "cell_type": "code",
   "execution_count": 9,
   "metadata": {},
   "outputs": [
    {
     "name": "stdout",
     "output_type": "stream",
     "text": [
      "<class 'numpy.ndarray'> (114, 1, 1)\n",
      "Epoch 1/20\n",
      "114/114 [==============================] - 2s 3ms/step - loss: 0.0409\n",
      "Epoch 2/20\n",
      "114/114 [==============================] - 0s 3ms/step - loss: 0.0163\n",
      "Epoch 3/20\n",
      "114/114 [==============================] - 0s 3ms/step - loss: 0.0129\n",
      "Epoch 4/20\n",
      "114/114 [==============================] - 0s 3ms/step - loss: 0.0106\n",
      "Epoch 5/20\n",
      "114/114 [==============================] - 0s 3ms/step - loss: 0.0083\n",
      "Epoch 6/20\n",
      "114/114 [==============================] - 0s 3ms/step - loss: 0.0064\n",
      "Epoch 7/20\n",
      "114/114 [==============================] - 0s 3ms/step - loss: 0.0047\n",
      "Epoch 8/20\n",
      "114/114 [==============================] - 0s 3ms/step - loss: 0.0036\n",
      "Epoch 9/20\n",
      "114/114 [==============================] - 0s 3ms/step - loss: 0.0032\n",
      "Epoch 10/20\n",
      "114/114 [==============================] - 0s 2ms/step - loss: 0.0028\n",
      "Epoch 11/20\n",
      "114/114 [==============================] - 0s 2ms/step - loss: 0.0028\n",
      "Epoch 12/20\n",
      "114/114 [==============================] - 0s 3ms/step - loss: 0.0028\n",
      "Epoch 13/20\n",
      "114/114 [==============================] - 0s 3ms/step - loss: 0.0028\n",
      "Epoch 14/20\n",
      "114/114 [==============================] - 0s 3ms/step - loss: 0.0029\n",
      "Epoch 15/20\n",
      "114/114 [==============================] - 0s 3ms/step - loss: 0.0028\n",
      "Epoch 16/20\n",
      "114/114 [==============================] - 0s 2ms/step - loss: 0.0029\n",
      "Epoch 17/20\n",
      "114/114 [==============================] - 0s 3ms/step - loss: 0.0027\n",
      "Epoch 18/20\n",
      "114/114 [==============================] - 1s 5ms/step - loss: 0.0028\n",
      "Epoch 19/20\n",
      "114/114 [==============================] - 0s 2ms/step - loss: 0.0028\n",
      "Epoch 20/20\n",
      "114/114 [==============================] - 0s 2ms/step - loss: 0.0028\n"
     ]
    }
   ],
   "source": [
    "X_train,y_train = X_seen,y_seen\n",
    "X_train = np.reshape(X_seen,(len(X_train),1,1))\n",
    "print(type(X_train),X_train.shape)\n",
    "output = rnn.fit(X_train,y_train,batch_size=1,verbose=1,epochs=EPOCHS)"
   ]
  },
  {
   "cell_type": "code",
   "execution_count": 13,
   "metadata": {},
   "outputs": [
    {
     "name": "stdout",
     "output_type": "stream",
     "text": [
      "4/4 [==============================] - 0s 3ms/step\n"
     ]
    }
   ],
   "source": [
    "predictions = rnn.predict(X_train)\n",
    "actual=[denormalize(x) for x in y_seen]\n",
    "pred  =[denormalize(x) for x in predictions]"
   ]
  },
  {
   "cell_type": "code",
   "execution_count": 14,
   "metadata": {},
   "outputs": [
    {
     "data": {
      "image/png": "[encoded data removed]",
      "text/plain": [
       "<Figure size 640x480 with 1 Axes>"
      ]
     },
     "metadata": {},
     "output_type": "display_data"
    }
   ],
   "source": [
    "plt.plot(actual,label='actual') # blue\n",
    "plt.plot(pred,label='predicted') # orange\n",
    "plt.legend()\n",
    "plt.show()"
   ]
  },
  {
   "cell_type": "markdown",
   "metadata": {},
   "source": [
    "The correspondence is incredible given the simplicity of the model.\n",
    "\n",
    "A lag is apparent, as orange follow blue.\n",
    "Orange is always greater than blue when blue is decreasing,\n",
    "and less than blue when blue is increasing. \n",
    "\n",
    "Why the lag?\n",
    "I don't think it is a drawing artifact."
   ]
  },
  {
   "cell_type": "markdown",
   "metadata": {},
   "source": [
    "## Links\n",
    "LSTM window method, Stateful LSTM, [link](https://machinelearningmastery.com/time-series-prediction-lstm-recurrent-neural-networks-python-keras/)\n",
    "\n",
    "Google AI blog, BERT and other Transformers [link](https://ai.googleblog.com/2018/11/open-sourcing-bert-state-of-art-pre.html)\n",
    "\n",
    "Counting the parameters in LSTM [link](https://stackoverflow.com/questions/38080035/how-to-calculate-the-number-of-parameters-of-an-lstm-network)"
   ]
  },
  {
   "cell_type": "code",
   "execution_count": null,
   "metadata": {},
   "outputs": [],
   "source": []
  }
 ],
 "metadata": {
  "kernelspec": {
   "display_name": "Python 3 (ipykernel)",
   "language": "python",
   "name": "python3"
  },
  "language_info": {
   "codemirror_mode": {
    "name": "ipython",
    "version": 3
   },
   "file_extension": ".py",
   "mimetype": "text/x-python",
   "name": "python",
   "nbconvert_exporter": "python",
   "pygments_lexer": "ipython3",
   "version": "3.10.0"
  }
 },
 "nbformat": 4,
 "nbformat_minor": 2
}
