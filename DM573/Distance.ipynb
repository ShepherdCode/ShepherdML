{
 "cells": [
  {
   "cell_type": "markdown",
   "metadata": {},
   "source": [
    "# Normal distribution, L2 norm, Mahalanobis distance"
   ]
  },
  {
   "cell_type": "code",
   "execution_count": 5,
   "metadata": {},
   "outputs": [],
   "source": [
    "import scipy as sp\n",
    "import numpy as np"
   ]
  },
  {
   "cell_type": "markdown",
   "metadata": {},
   "source": [
    "## Univariate Gaussian PDF\n",
    "$N(\\mu,\\sigma)=(\\frac{1}{\\sigma^2 \\sqrt(2\\pi})e^{[\\frac{-1}{2}(\\frac{X-\\mu}{\\sigma})^2]}$"
   ]
  },
  {
   "cell_type": "code",
   "execution_count": 10,
   "metadata": {},
   "outputs": [],
   "source": [
    "def univariate_gaussian_prob(X,mean,std):\n",
    "    constant = 1/((std**2)*np.sqrt(2*np.pi))\n",
    "    exponent = (X-mean)/std\n",
    "    exponent = (-1/2) * exponent**2\n",
    "    prob = constant * np.exp(exponent)\n",
    "    return prob\n",
    "def show_ugp(X,mean,std):\n",
    "    print(\"P(%d|mean=%d,std=%d)=%f\"%(X,mean,std,univariate_gaussian_prob(X,mean,std)))"
   ]
  },
  {
   "cell_type": "code",
   "execution_count": 14,
   "metadata": {},
   "outputs": [
    {
     "name": "stdout",
     "output_type": "stream",
     "text": [
      "P(5|mean=5,std=1)=0.398942\n",
      "P(4|mean=5,std=1)=0.241971\n",
      "P(6|mean=5,std=1)=0.241971\n",
      "P(3|mean=5,std=1)=0.053991\n"
     ]
    }
   ],
   "source": [
    "# Prob drops as distance from mean increases\n",
    "show_ugp(5,5,1)\n",
    "show_ugp(4,5,1)\n",
    "show_ugp(6,5,1)\n",
    "show_ugp(3,5,1)"
   ]
  },
  {
   "cell_type": "code",
   "execution_count": 16,
   "metadata": {},
   "outputs": [
    {
     "name": "stdout",
     "output_type": "stream",
     "text": [
      "P(5|mean=5,std=1)=0.398942\n",
      "P(5|mean=5,std=2)=0.099736\n",
      "P(5|mean=5,std=3)=0.044327\n"
     ]
    }
   ],
   "source": [
    "# Prob drops as variance increases\n",
    "show_ugp(5,5,1)\n",
    "show_ugp(5,5,2)\n",
    "show_ugp(5,5,3)\n"
   ]
  },
  {
   "cell_type": "code",
   "execution_count": null,
   "metadata": {},
   "outputs": [],
   "source": []
  }
 ],
 "metadata": {
  "kernelspec": {
   "display_name": "Python 3",
   "language": "python",
   "name": "python3"
  },
  "language_info": {
   "codemirror_mode": {
    "name": "ipython",
    "version": 3
   },
   "file_extension": ".py",
   "mimetype": "text/x-python",
   "name": "python",
   "nbconvert_exporter": "python",
   "pygments_lexer": "ipython3",
   "version": "3.8.3"
  }
 },
 "nbformat": 4,
 "nbformat_minor": 2
}
