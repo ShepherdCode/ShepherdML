{
 "cells": [
  {
   "cell_type": "markdown",
   "id": "f7d9123a",
   "metadata": {},
   "source": [
    "# Distance\n",
    "Euclidian, Minkowski, Mahalanobis\n",
    "\n",
    "Use a tiny dataset from this web page: \n",
    "[Calculating Mahalanobis](https://jamesmccaffrey.wordpress.com/2017/11/09/example-of-calculating-the-mahalanobis-distance/#:~:text=The%20mean%20of%20the%20data,is%205.33%20(no%20units).)"
   ]
  },
  {
   "cell_type": "code",
   "execution_count": 1,
   "id": "57c20f04",
   "metadata": {},
   "outputs": [],
   "source": [
    "import numpy as np"
   ]
  },
  {
   "cell_type": "code",
   "execution_count": 2,
   "id": "4fc26ee3",
   "metadata": {},
   "outputs": [
    {
     "data": {
      "text/plain": [
       "array([[ 64, 580,  29],\n",
       "       [ 66, 570,  33],\n",
       "       [ 68, 590,  37],\n",
       "       [ 69, 660,  46],\n",
       "       [ 73, 600,  55]])"
      ]
     },
     "execution_count": 2,
     "metadata": {},
     "output_type": "execute_result"
    }
   ],
   "source": [
    "# 3D data: X = height, Y = score, Z = age\n",
    "X,Y,Z = 0,1,2\n",
    "data=[]\n",
    "data.append( (64,580,29) )\n",
    "data.append( (66,570,33) )\n",
    "data.append( (68,590,37) )\n",
    "data.append( (69,660,46) )\n",
    "data.append( (73,600,55) )\n",
    "ary = np.asarray(data)\n",
    "ary"
   ]
  },
  {
   "cell_type": "code",
   "execution_count": 3,
   "id": "cfd895ec",
   "metadata": {},
   "outputs": [
    {
     "name": "stdout",
     "output_type": "stream",
     "text": [
      "means: [ 68. 600.  40.]\n",
      "variance of this population: [   9.2 1000.    88. ]\n",
      "variance of this sample: [  11.5 1250.   110. ]\n"
     ]
    }
   ],
   "source": [
    "# Mean, variance, co-variance\n",
    "means = np.mean(ary,axis=0)\n",
    "print('means:',means)\n",
    "var_pop = np.var(ary,axis=0)  # maximum likelihood estimate, assumes we have entire population\n",
    "var = np.var(ary,axis=0,ddof=1)  # unbiased estimate, assumes we have a random sample\n",
    "print('variance of this population:',var_pop)\n",
    "print('variance of this sample:',var)\n"
   ]
  },
  {
   "cell_type": "code",
   "execution_count": 4,
   "id": "43d61224",
   "metadata": {},
   "outputs": [
    {
     "name": "stdout",
     "output_type": "stream",
     "text": [
      "Mean and variance of X, Y, Z:\n",
      "X mean & variance: 68.0 11.5\n",
      "Y mean & variance: 600.0 1250.0\n",
      "Z mean & variance: 40.0 110.0\n"
     ]
    }
   ],
   "source": [
    "# Verify we can get the same answers without numpy\n",
    "def mean_variance(data):\n",
    "    dof = 1\n",
    "    N = len(data)\n",
    "    mean = sum(data)/N\n",
    "    ss = 0\n",
    "    for x in data:\n",
    "        dev = x - mean\n",
    "        sq = dev**2\n",
    "        ss += sq\n",
    "    var = ss/(N-dof)\n",
    "    return mean,var\n",
    "print('Mean and variance of X, Y, Z:')\n",
    "Xmean,Xvar = mean_variance(ary[:,0])\n",
    "Ymean,Yvar = mean_variance(ary[:,1])\n",
    "Zmean,Zvar = mean_variance(ary[:,2])\n",
    "print('X mean & variance:',Xmean,Xvar)\n",
    "print('Y mean & variance:',Ymean,Yvar)\n",
    "print('Z mean & variance:',Zmean,Zvar)"
   ]
  },
  {
   "cell_type": "code",
   "execution_count": 5,
   "id": "e2c51c72",
   "metadata": {},
   "outputs": [
    {
     "data": {
      "text/plain": [
       "array([[  11.5,   50. ],\n",
       "       [  50. , 1250. ]])"
      ]
     },
     "execution_count": 5,
     "metadata": {},
     "output_type": "execute_result"
    }
   ],
   "source": [
    "covXY = np.cov(ary[:,0],ary[:,1])\n",
    "covXY"
   ]
  },
  {
   "cell_type": "code",
   "execution_count": 6,
   "id": "806643af",
   "metadata": {},
   "outputs": [
    {
     "data": {
      "text/plain": [
       "array([[ 11.5 ,  34.75],\n",
       "       [ 34.75, 110.  ]])"
      ]
     },
     "execution_count": 6,
     "metadata": {},
     "output_type": "execute_result"
    }
   ],
   "source": [
    "covXZ = np.cov(ary[:,0],ary[:,2])\n",
    "covXZ"
   ]
  },
  {
   "cell_type": "code",
   "execution_count": 7,
   "id": "8d8f9640",
   "metadata": {},
   "outputs": [
    {
     "data": {
      "text/plain": [
       "array([[1250.,  205.],\n",
       "       [ 205.,  110.]])"
      ]
     },
     "execution_count": 7,
     "metadata": {},
     "output_type": "execute_result"
    }
   ],
   "source": [
    "covYZ = np.cov(ary[:,1],ary[:,2])\n",
    "covYZ"
   ]
  },
  {
   "cell_type": "code",
   "execution_count": 8,
   "id": "b279ace0",
   "metadata": {},
   "outputs": [
    {
     "data": {
      "text/plain": [
       "array([[  11.5 ,   50.  ,   34.75],\n",
       "       [  50.  , 1250.  ,  205.  ],\n",
       "       [  34.75,  205.  ,  110.  ]])"
      ]
     },
     "execution_count": 8,
     "metadata": {},
     "output_type": "execute_result"
    }
   ],
   "source": [
    "cov = np.array([\n",
    "    [Xvar,covXY[0,1],covXZ[0,1]],\n",
    "    [covXY[0,1],Yvar,covYZ[0,1]],\n",
    "    [covXZ[0,1],covYZ[0,1],Zvar]])\n",
    "cov"
   ]
  },
  {
   "cell_type": "markdown",
   "id": "041bd74c",
   "metadata": {},
   "source": [
    "Need the inverse of the 3x3 covariance matrix. See [how to](https://www.wikihow.com/Find-the-Inverse-of-a-3x3-Matrix)"
   ]
  },
  {
   "cell_type": "code",
   "execution_count": 9,
   "id": "c4c0caa4",
   "metadata": {},
   "outputs": [
    {
     "data": {
      "text/plain": [
       "array([[ 3.68851865e+00,  6.27308946e-02, -1.28214415e+00],\n",
       "       [ 6.27308946e-02,  2.21900278e-03, -2.39526742e-02],\n",
       "       [-1.28214415e+00, -2.39526742e-02,  4.58770977e-01]])"
      ]
     },
     "execution_count": 9,
     "metadata": {},
     "output_type": "execute_result"
    }
   ],
   "source": [
    "inv_cov = np.linalg.inv(cov)\n",
    "inv_cov"
   ]
  },
  {
   "cell_type": "markdown",
   "id": "55742345",
   "metadata": {},
   "source": [
    "For a previously unseen data point, compute its distance to the mean."
   ]
  },
  {
   "cell_type": "code",
   "execution_count": 11,
   "id": "327e05b5",
   "metadata": {},
   "outputs": [
    {
     "name": "stdout",
     "output_type": "stream",
     "text": [
      "mean: [68.0, 600.0, 40.0]\n",
      "unseen: [66, 640, 44]\n",
      "distance: 5.334540488762537\n"
     ]
    }
   ],
   "source": [
    "def mahalanobis_distance(point, means, cov):\n",
    "    inv = np.linalg.inv(cov) \n",
    "    dev = np.subtract(point,means) # X - mu elementwise vector subtraction\n",
    "    prod = dev.dot(inv).dot(dev)   # (deviation)(inverse Sigma)(deviation)\n",
    "    dist = np.sqrt(prod)\n",
    "    return dist\n",
    "unseen = [66,640,44]\n",
    "mean = [Xmean,Ymean,Zmean]\n",
    "md = mahalanobis_distance (unseen, mean, cov)\n",
    "print('mean:',mean)\n",
    "print('unseen:',unseen)\n",
    "print('distance:',md)"
   ]
  },
  {
   "cell_type": "markdown",
   "id": "93741b09",
   "metadata": {},
   "source": [
    "That matches the answer on the web page."
   ]
  },
  {
   "cell_type": "code",
   "execution_count": null,
   "id": "c0ec4222",
   "metadata": {},
   "outputs": [],
   "source": []
  }
 ],
 "metadata": {
  "kernelspec": {
   "display_name": "Python 3 (ipykernel)",
   "language": "python",
   "name": "python3"
  },
  "language_info": {
   "codemirror_mode": {
    "name": "ipython",
    "version": 3
   },
   "file_extension": ".py",
   "mimetype": "text/x-python",
   "name": "python",
   "nbconvert_exporter": "python",
   "pygments_lexer": "ipython3",
   "version": "3.10.0"
  }
 },
 "nbformat": 4,
 "nbformat_minor": 5
}
