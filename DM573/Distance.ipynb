{
 "cells": [
  {
   "cell_type": "markdown",
   "metadata": {},
   "source": [
    "# Normal distribution, L2 norm, Mahalanobis distance"
   ]
  },
  {
   "cell_type": "code",
   "execution_count": 5,
   "metadata": {},
   "outputs": [],
   "source": [
    "import scipy as sp\n",
    "import numpy as np"
   ]
  },
  {
   "cell_type": "markdown",
   "metadata": {},
   "source": [
    "## Univariate Gaussian PDF\n",
    "$N(\\mu,\\sigma)=(\\frac{1}{\\sigma^2 \\sqrt(2\\pi})e^{[\\frac{-1}{2}(\\frac{X-\\mu}{\\sigma})^2]}$"
   ]
  },
  {
   "cell_type": "code",
   "execution_count": 10,
   "metadata": {},
   "outputs": [],
   "source": [
    "def univariate_gaussian_prob(X,mean,std):\n",
    "    constant = 1/((std**2)*np.sqrt(2*np.pi))\n",
    "    exponent = (X-mean)/std\n",
    "    exponent = (-1/2) * exponent**2\n",
    "    prob = constant * np.exp(exponent)\n",
    "    return prob\n",
    "def show_ugp(X,mean,std):\n",
    "    print(\"P(%d|mean=%d,std=%d)=%f\"%(X,mean,std,univariate_gaussian_prob(X,mean,std)))"
   ]
  },
  {
   "cell_type": "code",
   "execution_count": 14,
   "metadata": {},
   "outputs": [
    {
     "name": "stdout",
     "output_type": "stream",
     "text": [
      "P(5|mean=5,std=1)=0.398942\n",
      "P(4|mean=5,std=1)=0.241971\n",
      "P(6|mean=5,std=1)=0.241971\n",
      "P(3|mean=5,std=1)=0.053991\n"
     ]
    }
   ],
   "source": [
    "# Prob drops as distance from mean increases\n",
    "show_ugp(5,5,1)\n",
    "show_ugp(4,5,1)\n",
    "show_ugp(6,5,1)\n",
    "show_ugp(3,5,1)"
   ]
  },
  {
   "cell_type": "code",
   "execution_count": 16,
   "metadata": {},
   "outputs": [
    {
     "name": "stdout",
     "output_type": "stream",
     "text": [
      "P(5|mean=5,std=1)=0.398942\n",
      "P(5|mean=5,std=2)=0.099736\n",
      "P(5|mean=5,std=3)=0.044327\n"
     ]
    }
   ],
   "source": [
    "# Prob drops as variance increases\n",
    "show_ugp(5,5,1)\n",
    "show_ugp(5,5,2)\n",
    "show_ugp(5,5,3)\n"
   ]
  },
  {
   "cell_type": "markdown",
   "metadata": {},
   "source": [
    "### Numpy support \n",
    "Deprecated: numpy.linalg.norm  \n",
    "\n",
    "Supported: numpy.random.normal   \n",
    "Supported: numpy.random.Generator.normal  \n",
    "Supported: numpy.random.default_rng().normal  \n",
    "\n",
    "np.normal(mu, sigma, size) # size can be like 1000 or like (2,5)"
   ]
  },
  {
   "cell_type": "code",
   "execution_count": 35,
   "metadata": {},
   "outputs": [],
   "source": [
    "from numpy.random import normal\n",
    "import matplotlib.pyplot as plt\n",
    "from scipy import stats"
   ]
  },
  {
   "cell_type": "code",
   "execution_count": 36,
   "metadata": {},
   "outputs": [
    {
     "data": {
      "text/plain": [
       "array([8.79026544, 8.50537994, 8.96152752, 9.98478607, 9.83824821])"
      ]
     },
     "execution_count": 36,
     "metadata": {},
     "output_type": "execute_result"
    }
   ],
   "source": [
    "data = normal(10,1,5)\n",
    "data"
   ]
  },
  {
   "cell_type": "code",
   "execution_count": 37,
   "metadata": {},
   "outputs": [
    {
     "name": "stdout",
     "output_type": "stream",
     "text": [
      "Observed mean 10.007078954036901 std 1.0156049802366778\n"
     ]
    }
   ],
   "source": [
    "theoretical_mean=10\n",
    "theoretical_std=1\n",
    "observations=5000\n",
    "data = normal(theoretical_mean,theoretical_std,observations)\n",
    "sample_mean = np.mean(data)\n",
    "sample_std = np.std(data)\n",
    "print(\"Observed mean\",sample_mean,\"std\",sample_std)"
   ]
  },
  {
   "cell_type": "code",
   "execution_count": 40,
   "metadata": {},
   "outputs": [
    {
     "data": {
      "image/png": "[encoded data removed]",
      "text/plain": [
       "<Figure size 432x288 with 1 Axes>"
      ]
     },
     "metadata": {
      "needs_background": "light"
     },
     "output_type": "display_data"
    }
   ],
   "source": [
    "num_bins = 20\n",
    "x = np.linspace(5,15,100)\n",
    "plt.plot(x, 0.5*observations*stats.norm.pdf(x, theoretical_mean, theoretical_std),color='red')\n",
    "plt.hist(data, bins=num_bins, facecolor='blue', alpha=0.5)\n",
    "plt.show()"
   ]
  },
  {
   "cell_type": "code",
   "execution_count": null,
   "metadata": {},
   "outputs": [],
   "source": []
  }
 ],
 "metadata": {
  "kernelspec": {
   "display_name": "Python 3",
   "language": "python",
   "name": "python3"
  },
  "language_info": {
   "codemirror_mode": {
    "name": "ipython",
    "version": 3
   },
   "file_extension": ".py",
   "mimetype": "text/x-python",
   "name": "python",
   "nbconvert_exporter": "python",
   "pygments_lexer": "ipython3",
   "version": "3.8.3"
  }
 },
 "nbformat": 4,
 "nbformat_minor": 2
}
