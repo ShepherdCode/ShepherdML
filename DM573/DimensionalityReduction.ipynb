{
 "cells": [
  {
   "cell_type": "markdown",
   "metadata": {},
   "source": [
    "# Dimensionality Reduction\n",
    "* eigen decomposition: data 𝐴=𝑄Λ𝑄−1 where A is square, invertible. Basis ranked by utility for data reconstruction (i.e. smallest eigenvalues address noise).\n",
    "* PCA: covariance=𝑃Λ𝑃−1 where cov is square, symmetric, positive-semidefinite, mean centered. Gives orthonormal basis ranked by variance explained.\n",
    "* ICA: basis is not orthonormal. \n",
    "* SVD: data 𝐷=𝑄Σ𝑃−1 always exists. Discovers & ranks. latent factors.\n",
    "* LDA: Supervised, separates the labels by linear combination of continuous features, assumed independent. Lower-dimensional space maximizes between-vs-within class scatter. May not exist. Helps to run PCA first. "
   ]
  },
  {
   "cell_type": "markdown",
   "metadata": {},
   "source": [
    "## PCA\n",
    "* PCA Discovers an axis rotation i.e. linear transformation.\n",
    "* Uses the eigen decomposition of the (symmetric positive-semidefinite) covariance matrix.\n",
    "* Prerequisite is mean centering.\n",
    "* Finds an orthonormal basis. \n",
    "* In effect, recursively performs axis rotation to where remaining variance is maximized along next axis.\n",
    "* Discovers linear transformations only. (But kernel trick can uncover non-linear ones.)\n",
    "* Under the new coordinates, there is no covariance, and the covariance matrix == the diagonalized eigenvalue matrix.\n",
    "* For dimensionality reduction (with lossy reconstruction), discard the axiis with the smallest eigenvalues.\n",
    "\n",
    "The eigen decomposition of data matrix D:   \n",
    "Scatter matrix = $D D^T$  \n",
    "Covariance matrix = $\\frac{D D^T}{n} - \\mu^T \\mu$ (mean centered)    \n",
    "Covariance = $P \\Lambda P^{-1}$   \n",
    "This factorization is possible because cov is symmetric and positive semi-definite.\n",
    "\n",
    "PCA vs SVD\n",
    "* PCA is a special case of SVD. \n",
    "* Whenever all feature means are 0, SVD==PCA.\n",
    "* PCA generates one basis for the matrix rows. SVD generates one for the rows and one for the columns. \n",
    "* PCA is restricted to diagonalizable (square) matrices. SVD is not.\n",
    "* PCA is applied to the covariance matrix. SVD is applied to the data matrix.\n",
    "\n",
    "PCA vs ICA\n",
    "* PCA components are orthogonal, ICA are not.\n",
    "* PCA is focused on components that are uncorrelated, but not ICA.\n",
    "* PCA uses second-order stats (variance), ICA uses higher-order.\n",
    "* PCA assumes underlying Gaussians (via variance)."
   ]
  },
  {
   "cell_type": "markdown",
   "metadata": {},
   "source": [
    "## SVD\n",
    "* Does not require mean centering.\n",
    "* Ideal for sparse non-negative matrices e.g. word vectors of documents.\n",
    "* SVD can be transformed in spectral decomposition.\n",
    "* SVD discovers the latent factors and ranks them.\n",
    "* SVD can provide a lossy reconstruction of the data.\n",
    "* SVD maximizes the energy on the reduced dimensions.\n",
    "\n",
    "Energy:\n",
    "Energy of original = sum of squared distances to origin.  \n",
    "Energy of reconstructed is unchanged by axis rotation, \n",
    "and slightly reduced by dimension reduction.\n",
    "The SVD minimizes the reconstruction error i.e.\n",
    "sum of squared distances between pairs of (original,reconstructed) points.  \n",
    "\n",
    "Latent factors:  \n",
    "Say D = (n x d) = movie-patrons x movie-titles.\n",
    "SVD discovers a latent concepts that explain both\n",
    "e.g. sci-fi might explain why some of the movie patrons like some of the movies.\n",
    "\n",
    "Noise reduction:\n",
    "The lossy part of the lossy reconstruction \n",
    "is focused on noise and outliers.\n",
    "So the lossy reconstruction can provide better training data."
   ]
  },
  {
   "cell_type": "markdown",
   "metadata": {},
   "source": [
    "### math\n",
    "$D = Q \\Sigma P^{-1}$  \n",
    "SVD uses this factorization of the data matrix.   \n",
    "This facorization is unique and always exists. \n",
    "\n",
    "D = data matrix on original axiis.   \n",
    "Q = left singular matrix of orthonormal column vectors of $D^T$.  \n",
    "$\\Sigma$ = non-negative singular values along the diagonal (in decreasing order)  \n",
    "P = right singular matrix of orthonormal column vectors of $D$.  \n",
    "\n",
    "D = (n x d) = n instances x d dimensions.  \n",
    "Q = (n x n)  \n",
    "$\\Sigma$ = (n x d) \n",
    "P = (d x d)  \n",
    "\n",
    "$P^T P = I$  \n",
    "$Q^T Q = I$  \n",
    "\n",
    "Q = eigenvectors of $D D^T$  \n",
    "P = eigenvectors of $D^T D$  \n",
    "\n",
    "Number of non-zero entries in $\\Sigma$\n",
    "equals Rank(D) and is <= min(n,d)."
   ]
  },
  {
   "cell_type": "markdown",
   "metadata": {},
   "source": [
    "Example of reducing dimensions to k:   \n",
    "Choose k < min(n instances, d dimensions).  \n",
    "The full dataset is $D = Q \\Sigma P^{-1}$  \n",
    "The rank=k approxization of data D(n viewers x d movies) =   \n",
    "Q(n viewers x k concepts) * (k x k, diagonal, ordered) * Pt(k concepts x d movies)  \n",
    "Note SVD provided k latent concepts.  "
   ]
  },
  {
   "cell_type": "markdown",
   "metadata": {},
   "source": [
    "## LDA\n",
    "Original form invented by Fisher. Since extended to LDA and dimensionality reduction. Good tutorial [here](https://www.knowledgehut.com/blog/data-science/linear-discriminant-analysis-for-machine-learning). Good video from UVa [here](https://youtu.be/IMfLXEOksGc). Code sample [blog](https://www.python-engineer.com/courses/mlfromscratch/14-lda/).\n",
    "\n",
    "Supervised learning, maximizes between/within scatter.\n",
    "\n",
    "This is rather simplistic. \n",
    "It assumes each class is generated by a Guassian with the same variance.\n",
    "That is, each class forms a circular sombrero of same size. \n",
    "If these assumptions are violated, poor discriminant functions result.\n",
    "The LDA discriminators between classes are lines or hyperplanes.\n",
    "\n",
    "One step up is QDA, quadratic discriminant analysis, \n",
    "which allows different variances, and yields parabolic discriminants.\n",
    "\n",
    "Assume independent features (for learning a linear combination).\n",
    "Assume independent data instances (for learning the placement or intercept of each discriminant.\n",
    "Assume the data are generated by one Gaussian distribution per class. \n",
    "Assume homoscedacity i.e. same variance everywhere. \n",
    "Look for a linear combination of features that explains the class labels.\n",
    "\n",
    "Uses likelihood.\n",
    "Consider each class using its assumed mean & stdev.\n",
    "Each point has a probability of coming from this mean, & stdev (use the Gaussian PDF).\n",
    "The class has a likelihood based on these data.\n",
    "\n",
    "Uses maximum likelihood. \n",
    "Each point is assigned to the class model that explains it best.\n",
    "\n",
    "Invokes the Bayes decision rule.\n",
    "Draw a line between Gaussians and assign points to classes\n",
    "based on whether they are left or right of the line.\n",
    "The line placement can incorporate priors.\n",
    "\n",
    "Each discriminant function creates latent features and gets a discriminant score, much like how each eigenvector has an eigenvalue. The top 3 linear discriminants would draw 3 lines or hyperplanes between populations.\n",
    "\n",
    "Otsu's method is related. In greyscale image analysis, it chooses the black/which threshold that maximizes pixel-to-class assignment."
   ]
  },
  {
   "cell_type": "markdown",
   "metadata": {},
   "source": [
    "LDA is a classifier but it is typically used for dimensionality reduction prior to classification. LDA is related to eigenvalues of the covariance matrix and thus to PCA."
   ]
  },
  {
   "cell_type": "markdown",
   "metadata": {},
   "source": [
    "Here is my take. The labeled data points are in a d-dimensional space for d features. Fisher's Score uses between-scatter in numerator and within-scatter in denominator. There is a d-dimensional vector w that maximizes Fisher's Score. Of all hyperplanes perpendicular to w, one maximally separates the classes. Use least squares regression to find its intercept: wx+b=0. Now w is linear combination of features but also a latent feature that maximally separates classes. We can recursively add more latent features = dimensions."
   ]
  },
  {
   "cell_type": "markdown",
   "metadata": {},
   "source": [
    "LDA is associated with eigenvalues.\n",
    "Part of computing the LDA involves computing\n",
    "the eigen decomposition of the Scatter_Between/Scatter_Within matrix.\n",
    "\n"
   ]
  },
  {
   "cell_type": "markdown",
   "metadata": {},
   "source": [
    "The scikit-learn [LDA](https://scikit-learn.org/stable/modules/generated/sklearn.discriminant_analysis.LinearDiscriminantAnalysis.html) \n",
    "has these features.\n",
    "\n",
    "Inputs:\n",
    "Solver algorithm: SVD avoids the covariance matrix; Eigen and Least Squares must compute covariance and can use shrinkage. \n",
    "Shrinkage algorithm: for large covariance matrices, it is better to apply a shrinkage algorithm that preserves variance but removes outliers.\n",
    "Priors: if not given, inferred from frequencies in the data.\n",
    "Target dimensions: if not given, uses min(#classes-1,#features).\n",
    "\n",
    "Outputs:\n",
    "The vectors w and the intercepts b.\n",
    "Means (centroids) per class.\n",
    "Explained variance ratio. "
   ]
  },
  {
   "cell_type": "code",
   "execution_count": null,
   "metadata": {},
   "outputs": [],
   "source": []
  }
 ],
 "metadata": {
  "kernelspec": {
   "display_name": "Python 3",
   "language": "python",
   "name": "python3"
  },
  "language_info": {
   "codemirror_mode": {
    "name": "ipython",
    "version": 3
   },
   "file_extension": ".py",
   "mimetype": "text/x-python",
   "name": "python",
   "nbconvert_exporter": "python",
   "pygments_lexer": "ipython3",
   "version": "3.8.3"
  }
 },
 "nbformat": 4,
 "nbformat_minor": 2
}
