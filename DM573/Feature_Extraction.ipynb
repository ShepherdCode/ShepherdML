{
 "cells": [
  {
   "cell_type": "markdown",
   "metadata": {},
   "source": [
    "# Feature Extraction"
   ]
  },
  {
   "cell_type": "markdown",
   "metadata": {},
   "source": [
    "## One Ellipse\n",
    "In 2D space with 2 features, represent instances as dots.  \n",
    "An ellipse encircles most of the data.  \n",
    "Center = centroid = data mean.  \n",
    "$\\Sigma$ = covariance matrix.  \n",
    "$\\lambda_i$ = eigenvalues of covariance matrix.  \n",
    "Each ellipse radius has length $\\sqrt(\\lambda_i)$.  \n",
    "Each ellipse diameter has length $2\\sqrt(\\lambda_i)$.  "
   ]
  },
  {
   "cell_type": "markdown",
   "metadata": {},
   "source": [
    "### Scatter matrix\n",
    "Scatter matrix = $\\sum[(\\mu-x_k)(\\mu-x_k)^T]$.  \n",
    "Scatter matrix = outer product (u-x) * (u-x).  \n",
    "For d dimensional data, scatter matrix size is (d x d).   \n",
    "The (scatter matrix)/n is the maximum likelihood estimate of the covariance matrix, assuming normality.  \n",
    "\n",
    "Note similarity to covariation matrix.  \n",
    "cov(X,Y) = $\\sigma(X,Y) = (1/n)\\sum_1^n[(\\mu_{x}-x)(\\mu_{y}-y)^T]$  \n",
    "\n",
    "Matrix M is positive definite if $z^TMz$ is positive for all real column vectors z.  \n",
    "Matrix M is positive semi-definite if $z^TMz$ is non-negative for all real column vectors z.  \n",
    "The scatter matrix is positive semi-definite.   \n",
    "\n",
    "See wikipedia [scatter matrix](https://en.wikipedia.org/wiki/Scatter_matrix)"
   ]
  },
  {
   "cell_type": "code",
   "execution_count": 1,
   "metadata": {},
   "outputs": [],
   "source": [
    "import numpy as np\n",
    "import matplotlib.pyplot as plt\n",
    "from matplotlib.patches import Ellipse\n",
    "import matplotlib.transforms as transforms"
   ]
  },
  {
   "cell_type": "code",
   "execution_count": 2,
   "metadata": {},
   "outputs": [],
   "source": [
    "def scatter_matrix(X):\n",
    "    \"\"\"For 100 points in 2D space, X has size=(100,2)\"\"\"\n",
    "    instances = X.shape[0]\n",
    "    features = X.shape[1]\n",
    "    means = np.mean(X)  # vector of feature means\n",
    "    sm = np.zeros( (features,features) )\n",
    "    for i in range(instances):\n",
    "        deviation = means-X[i] # vector of feature deviations\n",
    "        outer_product = np.outer(deviation,deviation)\n",
    "        sm += outer_product\n",
    "    return sm\n",
    "        "
   ]
  },
  {
   "cell_type": "code",
   "execution_count": 3,
   "metadata": {},
   "outputs": [
    {
     "name": "stdout",
     "output_type": "stream",
     "text": [
      "Scatter matrix\n",
      "[[25530.1425 -1616.4225]\n",
      " [-1616.4225 23166.0125]]\n",
      "ML estimate of Covariance matrix\n",
      "[[255.301425 -16.164225]\n",
      " [-16.164225 231.660125]]\n",
      "Numpy estimate of Covariance matrix\n",
      "[[247.17818182  -5.62545455]\n",
      " [ -5.62545455 223.29808081]]\n"
     ]
    },
    {
     "data": {
      "image/png": "[encoded data removed]",
      "text/plain": [
       "<Figure size 432x288 with 1 Axes>"
      ]
     },
     "metadata": {
      "needs_background": "light"
     },
     "output_type": "display_data"
    }
   ],
   "source": [
    "# One hundred uniformly scattered points.\n",
    "N = 100\n",
    "x = np.random.randint(0, 50, N)\n",
    "y = np.random.randint(0, 50, N)\n",
    "xy = np.asarray(list(zip(x, y)))  # N rows of (x,y)\n",
    "sm = scatter_matrix(xy)\n",
    "print('Scatter matrix')\n",
    "print(sm)\n",
    "mlcov = sm/N\n",
    "print('ML estimate of Covariance matrix')\n",
    "print(mlcov)\n",
    "print('Numpy estimate of Covariance matrix')\n",
    "obs = np.array( [x,y] )   # row of x values, row of values\n",
    "print(np.cov(obs))\n",
    "\n",
    "plt.scatter(x, y)\n",
    "plt.axis('equal')    # uniform aspect ratio, not same coords\n",
    "plt.show()"
   ]
  },
  {
   "cell_type": "code",
   "execution_count": 4,
   "metadata": {},
   "outputs": [
    {
     "name": "stdout",
     "output_type": "stream",
     "text": [
      "Scatter matrix\n",
      "[[5044.62830766  -97.3803762 ]\n",
      " [ -97.3803762   169.39404935]]\n",
      "ML estimate of Covariance matrix\n",
      "[[25.22314154 -0.48690188]\n",
      " [-0.48690188  0.84697025]]\n",
      "Numpy estimate of Covariance matrix\n",
      "[[25.34076813 -0.48022576]\n",
      " [-0.48022576  0.84210352]]\n"
     ]
    },
    {
     "data": {
      "image/png": "[encoded data removed]",
      "text/plain": [
       "<Figure size 432x288 with 1 Axes>"
      ]
     },
     "metadata": {
      "needs_background": "light"
     },
     "output_type": "display_data"
    }
   ],
   "source": [
    "# Multivariate gaussian.\n",
    "N = 200\n",
    "mu = 25\n",
    "sigma_x = 5\n",
    "sigma_y = 1\n",
    "x = np.random.normal(mu, sigma_x, N)\n",
    "y = np.random.normal(mu, sigma_y, N)\n",
    "xy = np.asarray(list(zip(x, y)))  # N rows of (x,y)\n",
    "sm = scatter_matrix(xy)\n",
    "print('Scatter matrix')\n",
    "print(sm)\n",
    "mlcov = sm/N\n",
    "print('ML estimate of Covariance matrix')\n",
    "print(mlcov)\n",
    "print('Numpy estimate of Covariance matrix')\n",
    "obs = np.array( [x,y] )   # row of x values, row of values\n",
    "print(np.cov(obs))\n",
    "\n",
    "plt.scatter(x, y)\n",
    "plt.axis('equal')    # uniform aspect ratio, not same coords\n",
    "plt.show()"
   ]
  },
  {
   "cell_type": "markdown",
   "metadata": {},
   "source": [
    "## Synthesis\n",
    "### Generate two ellipsoid distributions"
   ]
  },
  {
   "cell_type": "code",
   "execution_count": 9,
   "metadata": {},
   "outputs": [
    {
     "data": {
      "image/png": "[encoded data removed]",
      "text/plain": [
       "<Figure size 432x288 with 1 Axes>"
      ]
     },
     "metadata": {
      "needs_background": "light"
     },
     "output_type": "display_data"
    }
   ],
   "source": [
    "N = 200\n",
    "half=int(N)\n",
    "mu_x = 3\n",
    "mu_y = 5\n",
    "sigma_x = 40\n",
    "sigma_y = 8\n",
    "x = np.random.normal(mu_x, sigma_x, half)\n",
    "y = np.random.normal(mu_y, sigma_y, half)\n",
    "plt.scatter(x, y, color='blue')\n",
    "sigma_x = 8\n",
    "sigma_y = 40\n",
    "x = np.random.normal(mu_x, sigma_x, half)\n",
    "y = np.random.normal(mu_y, sigma_y, half)\n",
    "plt.scatter(x, y, color='red')\n",
    "plt.axis('equal')   \n",
    "plt.show()"
   ]
  },
  {
   "cell_type": "markdown",
   "metadata": {},
   "source": [
    "### Combine the points\n",
    "The challenge will be to disambiguate the 2 distributions and assign instances to each.  \n",
    "(Unless we shuffle, this would be easy.) "
   ]
  },
  {
   "cell_type": "code",
   "execution_count": 10,
   "metadata": {},
   "outputs": [
    {
     "data": {
      "image/png": "[encoded data removed]",
      "text/plain": [
       "<Figure size 432x288 with 1 Axes>"
      ]
     },
     "metadata": {
      "needs_background": "light"
     },
     "output_type": "display_data"
    }
   ],
   "source": [
    "N = 200\n",
    "half=int(N)\n",
    "mu_x = 3\n",
    "mu_y = 5\n",
    "sigma_x = 40\n",
    "sigma_y = 8\n",
    "x1 = np.random.normal(mu_x, sigma_x, half)\n",
    "y1 = np.random.normal(mu_y, sigma_y, half)\n",
    "sigma_x = 8\n",
    "sigma_y = 40\n",
    "x2 = np.random.normal(mu_x, sigma_x, half)\n",
    "y2 = np.random.normal(mu_y, sigma_y, half)\n",
    "x = np.concatenate( (x1,x2) )\n",
    "y = np.concatenate( (y1,y2) )\n",
    "plt.scatter(x, y,)\n",
    "plt.axis('equal')    \n",
    "plt.show()"
   ]
  },
  {
   "cell_type": "code",
   "execution_count": 22,
   "metadata": {},
   "outputs": [
    {
     "data": {
      "image/png": "[encoded data removed]",
      "text/plain": [
       "<Figure size 432x288 with 1 Axes>"
      ]
     },
     "metadata": {
      "needs_background": "light"
     },
     "output_type": "display_data"
    }
   ],
   "source": [
    "# First, drive eigenvalues from cooked data\n",
    "N = 200\n",
    "markersize = 10\n",
    "mu_x = 3\n",
    "mu_y = 5\n",
    "sigma_x = 40/2  # get 95% of data within this\n",
    "sigma_y = 8/2\n",
    "x = np.random.normal(mu_x, sigma_x, N)\n",
    "y = np.random.normal(mu_y, sigma_y, N)\n",
    "plt.scatter(x, y, color='blue', s=markersize)\n",
    "\n",
    "sigma_x = 4/2\n",
    "sigma_y = 50/2\n",
    "x = np.random.normal(mu_x, sigma_x, N)\n",
    "y = np.random.normal(mu_y, sigma_y, N)\n",
    "degrees = -45\n",
    "rad = np.radians(degrees)\n",
    "rotation_matrix = [[np.cos(rad),0-np.sin(rad)],[np.sin(rad),np.cos(rad)]]\n",
    "xy = np.asarray(list(zip(x, y)))  # N rows of (x,y)\n",
    "rotated = xy.dot(rotation_matrix)\n",
    "x,y = zip(*rotated)\n",
    "plt.scatter(x, y, color='red', s=markersize)\n",
    "plt.axis('equal')   \n",
    "plt.show()"
   ]
  },
  {
   "cell_type": "code",
   "execution_count": null,
   "metadata": {},
   "outputs": [],
   "source": [
    "# Second, go from eigenvalues to covariance\n",
    "axis_radius_1 = 40   # visual interpretation of slide 8, lecture 5-6\n",
    "axis_radius_2 = 8\n",
    "\n",
    "eigenvalue_1 = axis_radius_1^2\n",
    "eigenvalue_2 = axis_radius_2^2\n"
   ]
  }
 ],
 "metadata": {
  "kernelspec": {
   "display_name": "Python 3",
   "language": "python",
   "name": "python3"
  },
  "language_info": {
   "codemirror_mode": {
    "name": "ipython",
    "version": 3
   },
   "file_extension": ".py",
   "mimetype": "text/x-python",
   "name": "python",
   "nbconvert_exporter": "python",
   "pygments_lexer": "ipython3",
   "version": "3.8.3"
  }
 },
 "nbformat": 4,
 "nbformat_minor": 2
}
