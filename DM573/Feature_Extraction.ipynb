{
 "cells": [
  {
   "cell_type": "markdown",
   "metadata": {},
   "source": [
    "# Feature Extraction"
   ]
  },
  {
   "cell_type": "markdown",
   "metadata": {},
   "source": [
    "## One Ellipse\n",
    "In 2D space with 2 features, represent instances as dots.  \n",
    "An ellipse encircles most of the data.  \n",
    "Center = centroid = data mean.  \n",
    "$\\Sigma$ = covariance matrix.  \n",
    "$\\lambda_i$ = eigenvalues of covariance matrix.  \n",
    "Each ellipse radius has length $\\sqrt(\\lambda_i)$.  \n",
    "Each ellipse diameter has length $2\\sqrt(\\lambda_i)$.  "
   ]
  },
  {
   "cell_type": "markdown",
   "metadata": {},
   "source": [
    "### Scatter matrix\n",
    "Scatter matrix = $\\sum[(\\mu-x_k)(\\mu-x_k)^T]$.  \n",
    "Scatter matrix = outer product (u-x) * (u-x).  \n",
    "For d dimensional data, scatter matrix size is (d x d).   \n",
    "The (scatter matrix)/n is the maximum likelihood estimate of the covariance matrix, assuming normality.  \n",
    "\n",
    "Note similarity to covariation matrix.  \n",
    "cov(X,Y) = $\\sigma(X,Y) = (1/n)\\sum_1^n[(\\mu_{x}-x)(\\mu_{y}-y)^T]$  \n",
    "\n",
    "Matrix M is positive definite if $z^TMz$ is positive for all real column vectors z.  \n",
    "Matrix M is positive semi-definite if $z^TMz$ is non-negative for all real column vectors z.  \n",
    "The scatter matrix is positive semi-definite.   \n",
    "\n",
    "See wikipedia [scatter matrix](https://en.wikipedia.org/wiki/Scatter_matrix)"
   ]
  },
  {
   "cell_type": "code",
   "execution_count": 1,
   "metadata": {},
   "outputs": [],
   "source": [
    "import numpy as np\n",
    "import matplotlib.pyplot as plt\n",
    "from matplotlib.patches import Ellipse\n",
    "import matplotlib.transforms as transforms"
   ]
  },
  {
   "cell_type": "code",
   "execution_count": 2,
   "metadata": {},
   "outputs": [],
   "source": [
    "def scatter_matrix(X):\n",
    "    \"\"\"For 100 points in 2D space, X has size=(100,2)\"\"\"\n",
    "    instances = X.shape[0]\n",
    "    features = X.shape[1]\n",
    "    means = np.mean(X)  # vector of feature means\n",
    "    sm = np.zeros( (features,features) )\n",
    "    for i in range(instances):\n",
    "        deviation = means-X[i] # vector of feature deviations\n",
    "        outer_product = np.outer(deviation,deviation)\n",
    "        sm += outer_product\n",
    "    return sm\n",
    "        "
   ]
  },
  {
   "cell_type": "code",
   "execution_count": 3,
   "metadata": {},
   "outputs": [
    {
     "name": "stdout",
     "output_type": "stream",
     "text": [
      "Scatter matrix\n",
      "[[24418.53 -1059.49]\n",
      " [-1059.49 22326.49]]\n",
      "ML estimate of Covariance matrix\n",
      "[[244.1853 -10.5949]\n",
      " [-10.5949 223.2649]]\n",
      "Numpy estimate of Covariance matrix\n",
      "[[246.32363636 -10.37373737]\n",
      " [-10.37373737 225.19191919]]\n"
     ]
    },
    {
     "data": {
      "image/png": "[encoded data removed]",
      "text/plain": [
       "<Figure size 432x288 with 1 Axes>"
      ]
     },
     "metadata": {
      "needs_background": "light"
     },
     "output_type": "display_data"
    }
   ],
   "source": [
    "# One hundred uniformly scattered points.\n",
    "N = 100\n",
    "x = np.random.randint(0, 50, N)\n",
    "y = np.random.randint(0, 50, N)\n",
    "xy = np.asarray(list(zip(x, y)))  # N rows of (x,y)\n",
    "sm = scatter_matrix(xy)\n",
    "print('Scatter matrix')\n",
    "print(sm)\n",
    "mlcov = sm/N\n",
    "print('ML estimate of Covariance matrix')\n",
    "print(mlcov)\n",
    "print('Numpy estimate of Covariance matrix')\n",
    "obs = np.array( [x,y] )   # row of x values, row of values\n",
    "print(np.cov(obs))\n",
    "\n",
    "plt.scatter(x, y)\n",
    "plt.axis('equal')    # uniform aspect ratio, not same coords\n",
    "plt.show()"
   ]
  },
  {
   "cell_type": "code",
   "execution_count": 4,
   "metadata": {},
   "outputs": [
    {
     "name": "stdout",
     "output_type": "stream",
     "text": [
      "Scatter matrix\n",
      "[[4571.45378417 -121.26588712]\n",
      " [-121.26588712  199.94651784]]\n",
      "ML estimate of Covariance matrix\n",
      "[[22.85726892 -0.60632944]\n",
      " [-0.60632944  0.99973259]]\n",
      "Numpy estimate of Covariance matrix\n",
      "[[22.92633125 -0.563578  ]\n",
      " [-0.563578    0.95895805]]\n"
     ]
    },
    {
     "data": {
      "image/png": "[encoded data removed]",
      "text/plain": [
       "<Figure size 432x288 with 1 Axes>"
      ]
     },
     "metadata": {
      "needs_background": "light"
     },
     "output_type": "display_data"
    }
   ],
   "source": [
    "# Multivariate gaussian.\n",
    "N = 200\n",
    "mu = 25\n",
    "sigma_x = 5\n",
    "sigma_y = 1\n",
    "x = np.random.normal(mu, sigma_x, N)\n",
    "y = np.random.normal(mu, sigma_y, N)\n",
    "xy = np.asarray(list(zip(x, y)))  # N rows of (x,y)\n",
    "sm = scatter_matrix(xy)\n",
    "print('Scatter matrix')\n",
    "print(sm)\n",
    "mlcov = sm/N\n",
    "print('ML estimate of Covariance matrix')\n",
    "print(mlcov)\n",
    "print('Numpy estimate of Covariance matrix')\n",
    "obs = np.array( [x,y] )   # row of x values, row of values\n",
    "print(np.cov(obs))\n",
    "\n",
    "plt.scatter(x, y)\n",
    "plt.axis('equal')    # uniform aspect ratio, not same coords\n",
    "plt.show()"
   ]
  },
  {
   "cell_type": "markdown",
   "metadata": {},
   "source": [
    "## Slide 7 from Lectures 5-6\n",
    "Slide 7 shows a matlab script using 1=male=blue, 2=female=red.\n",
    "N=150.\n",
    "The means are M1=(170,75), M2=(160,50).\n",
    "The covariance matrices are E1= 150 15 and 120 20, E2= 100 10 and 70 30;\n",
    "using E for Sigma.\n",
    "The eigen decomposition is computed with matlab's [P,A]=eig(),\n",
    "where P has eigenvectors and A has eigenvalues.\n",
    "To generate (x,y) data points, use random normal numbers y=randn(2,N);\n",
    "this y should be r as it has nothing to do with the y-axis.\n",
    "Each data point x is a 2-feature vector computed from x=P1 * sqrt(A1) * y + M1.\n",
    "The hint on the next slide says to use E=PAP, the eigen decomposition.\n",
    "We'll repeat the exercise with numpy."
   ]
  },
  {
   "cell_type": "code",
   "execution_count": 5,
   "metadata": {},
   "outputs": [
    {
     "name": "stdout",
     "output_type": "stream",
     "text": [
      "mean\n",
      " (170, 75)\n",
      "covariance\n",
      " [[150  15]\n",
      " [120  20]]\n"
     ]
    }
   ],
   "source": [
    "N=150\n",
    "mu = (170,75)\n",
    "cov = np.array([[150,15],[120,20]])  ## assume the matlab code used row vectors, like numpy\n",
    "print('mean\\n',mu)\n",
    "print('covariance\\n',cov)"
   ]
  },
  {
   "cell_type": "markdown",
   "metadata": {},
   "source": [
    "With numpy, we could simulate a population directly with this info.  \n",
    "But we must use high tolerance and get approximate values\n",
    "because numpy says the covariance matrix is not positive-semidefinite."
   ]
  },
  {
   "cell_type": "code",
   "execution_count": 6,
   "metadata": {},
   "outputs": [
    {
     "data": {
      "image/png": "[encoded data removed]",
      "text/plain": [
       "<Figure size 432x288 with 1 Axes>"
      ]
     },
     "metadata": {
      "needs_background": "light"
     },
     "output_type": "display_data"
    }
   ],
   "source": [
    "X = np.random.multivariate_normal(mu,cov,size=N,tol=1)\n",
    "x = X[:,0]\n",
    "y = X[:,1]\n",
    "plt.scatter(x, y, color='blue')\n",
    "plt.axis('equal')   \n",
    "plt.show()"
   ]
  },
  {
   "cell_type": "markdown",
   "metadata": {},
   "source": [
    "But instead, we'll simulate a population using the eigens.  \n",
    "It is rather silly in this case since we'll compute the eigens from the covariance.  "
   ]
  },
  {
   "cell_type": "code",
   "execution_count": 7,
   "metadata": {},
   "outputs": [
    {
     "name": "stdout",
     "output_type": "stream",
     "text": [
      "eigenvectors P\n",
      " [[ 0.7651802  -0.10459703]\n",
      " [ 0.64381617  0.99451469]]\n",
      "diagonal eigenvalues A\n",
      " [[162.62087348   0.        ]\n",
      " [  0.           7.37912652]]\n",
      "1/P\n",
      " [[ 1.20063458  0.12627548]\n",
      " [-0.77725142  0.92376897]]\n",
      "As a test, reconstruct cov = PAP\n",
      " [[150.  15.]\n",
      " [120.  20.]]\n"
     ]
    }
   ],
   "source": [
    "# Matlab returnes [eigenvecors,eigenvalues]. Numpy does the opposite.\n",
    "eigenvalues,P = np.linalg.eig(cov)\n",
    "Pinv = np.linalg.inv(P)\n",
    "A = eigenvalues * np.identity(2)   # 2x2 diagonal matrix\n",
    "print('eigenvectors P\\n', P)\n",
    "print('diagonal eigenvalues A\\n', A)\n",
    "print('1/P\\n', Pinv)\n",
    "print('As a test, reconstruct cov = PAP\\n', P.dot(A.dot(Pinv)))"
   ]
  },
  {
   "cell_type": "markdown",
   "metadata": {},
   "source": [
    "Generate random data points using the eigens"
   ]
  },
  {
   "cell_type": "code",
   "execution_count": 8,
   "metadata": {},
   "outputs": [
    {
     "data": {
      "image/png": "[encoded data removed]",
      "text/plain": [
       "<Figure size 432x288 with 1 Axes>"
      ]
     },
     "metadata": {
      "needs_background": "light"
     },
     "output_type": "display_data"
    }
   ],
   "source": [
    "def make_data(N,mean,cov):\n",
    "    eigenvalues,P = np.linalg.eig(cov)\n",
    "    Pinv = np.linalg.inv(P)\n",
    "    A = eigenvalues * np.identity(2)   # 2x2 diagonal matrix\n",
    "    s = np.sqrt(A)\n",
    "    r=np.zeros(2)\n",
    "    X = np.zeros ( (N,2) )\n",
    "    for i in range(N):\n",
    "        r = np.random.standard_normal(2)\n",
    "        x = P.dot(s).dot(r) + mu\n",
    "        X[i] = x\n",
    "    x = X[:,0]\n",
    "    y = X[:,1]\n",
    "    return x,y\n",
    "\n",
    "mu = (170,75)\n",
    "cov = np.array([[150,15],[120,20]])  ## assume the matlab code used row vectors, like numpy\n",
    "x,y=make_data(N,mu,cov)\n",
    "plt.scatter(x, y, color='blue')\n",
    "mu = (160,50)\n",
    "cov = np.array([[100,10],[70,30]])  ## assume the matlab code used row vectors, like numpy\n",
    "x,y=make_data(N,mu,cov)\n",
    "plt.scatter(x, y, color='red')\n",
    "\n",
    "plt.axis('equal')   \n",
    "plt.show()"
   ]
  },
  {
   "cell_type": "markdown",
   "metadata": {},
   "source": [
    "## Slide 8 from Lectures 5-6\n",
    "Slide 8 gives a similar plot that we need to reverse engineer.  \n",
    "Make two distributions and plot them in the same figure.   \n",
    "First, we'll do ith with numpy by estimating the mean and variance by eyeball."
   ]
  },
  {
   "cell_type": "code",
   "execution_count": 9,
   "metadata": {},
   "outputs": [
    {
     "name": "stdout",
     "output_type": "stream",
     "text": [
      "Blue covariance\n",
      " [[426.71009692   1.91653071]\n",
      " [  1.91653071  15.74127419]]\n",
      "Blue eigenvectors\n",
      " [[ 0.99998913 -0.00466329]\n",
      " [ 0.00466329  0.99998913]]\n",
      "Red covariance prior to rotation -- almost none!\n",
      " [[  3.67571763   2.77795946]\n",
      " [  2.77795946 708.99299103]]\n",
      "Red eigenvectors\n",
      " [[-0.99999224 -0.0039385 ]\n",
      " [ 0.0039385  -0.99999224]]\n",
      "Red covariance after rotation -- covariance close to the variance\n",
      " [[ 353.55639487 -352.6586367 ]\n",
      " [-352.6586367   359.11231379]]\n",
      "Red eigenvectors\n",
      " [[-0.70988624  0.70431635]\n",
      " [-0.70431635 -0.70988624]]\n"
     ]
    },
    {
     "data": {
      "image/png": "[encoded data removed]",
      "text/plain": [
       "<Figure size 432x288 with 1 Axes>"
      ]
     },
     "metadata": {
      "needs_background": "light"
     },
     "output_type": "display_data"
    }
   ],
   "source": [
    "# Blue\n",
    "N = 200\n",
    "markersize = 10\n",
    "mu_x = 3\n",
    "mu_y = 5\n",
    "radius_1 = 40 \n",
    "radius_2 = 8\n",
    "sigma_x = radius_1/2  # so 95% of points in 2 stdevs = +/- 40\n",
    "sigma_y = radius_2/2\n",
    "blue_x = np.random.normal(mu_x, sigma_x, N)\n",
    "blue_y = np.random.normal(mu_y, sigma_y, N)\n",
    "obs = np.array( [blue_x,blue_y] )   # row of x values, row of values\n",
    "cov = np.cov(obs)\n",
    "print('Blue covariance\\n',cov)\n",
    "eigenvalues,eigenvectors = np.linalg.eig(cov)\n",
    "print('Blue eigenvectors\\n',eigenvectors)\n",
    "plt.scatter(blue_x, blue_y, color='blue', s=markersize)\n",
    "\n",
    "# Red\n",
    "radius_1 = 4\n",
    "radius_2 = 50\n",
    "sigma_x = radius_1/2   # so 95% of points in 2 stdevs = +/- 4\n",
    "sigma_y = radius_2/2\n",
    "red_x = np.random.normal(mu_x, sigma_x, N)\n",
    "red_y = np.random.normal(mu_y, sigma_y, N)\n",
    "obs = np.array( [red_x,red_y] )   # row of x values, row of values\n",
    "cov = np.cov(obs)\n",
    "print('Red covariance prior to rotation -- almost none!\\n',cov)\n",
    "eigenvalues,eigenvectors = np.linalg.eig(cov)\n",
    "print('Red eigenvectors\\n',eigenvectors)\n",
    "\n",
    "# Red rotated\n",
    "degrees = -45\n",
    "rad = np.radians(degrees)\n",
    "rotation_matrix = [[np.cos(rad),0-np.sin(rad)],[np.sin(rad),np.cos(rad)]]\n",
    "xy = np.asarray(list(zip(red_x, red_y)))  # N rows of (x,y)\n",
    "rotated = xy.dot(rotation_matrix)\n",
    "rot_x,rot_y = zip(*rotated)\n",
    "obs = np.array( [rot_x,rot_y] )   # row of x values, row of values\n",
    "cov = np.cov(obs)\n",
    "print('Red covariance after rotation -- covariance close to the variance\\n',cov)\n",
    "eigenvalues,eigenvectors = np.linalg.eig(cov)\n",
    "print('Red eigenvectors\\n',eigenvectors)\n",
    "      \n",
    "plt.scatter(rot_x, rot_y, color='red', s=markersize)\n",
    "plt.axis('equal')   \n",
    "plt.show()"
   ]
  },
  {
   "cell_type": "markdown",
   "metadata": {},
   "source": [
    "Preparing for the next steps, we'll show that we could\n",
    "combine both both distributions into one data structure and one figure."
   ]
  },
  {
   "cell_type": "code",
   "execution_count": 10,
   "metadata": {},
   "outputs": [
    {
     "data": {
      "image/png": "[encoded data removed]",
      "text/plain": [
       "<Figure size 432x288 with 1 Axes>"
      ]
     },
     "metadata": {
      "needs_background": "light"
     },
     "output_type": "display_data"
    }
   ],
   "source": [
    "x = np.concatenate( (blue_x,rot_x) )\n",
    "y = np.concatenate( (blue_y,rot_y) )\n",
    "plt.scatter(x, y,)\n",
    "plt.axis('equal')    \n",
    "plt.show()"
   ]
  },
  {
   "cell_type": "markdown",
   "metadata": {},
   "source": [
    "Next we'll generate the data from the eigens.  \n",
    "These are easier to guess than mean and covariance.   \n",
    "With an ellipsoid distribution,\n",
    "each eigenvalue is the square of a radial axis."
   ]
  },
  {
   "cell_type": "code",
   "execution_count": 13,
   "metadata": {},
   "outputs": [
    {
     "data": {
      "image/png": "[encoded data removed]",
      "text/plain": [
       "<Figure size 432x288 with 1 Axes>"
      ]
     },
     "metadata": {
      "needs_background": "light"
     },
     "output_type": "display_data"
    }
   ],
   "source": [
    "def make_points(N,mu,eigenvalues,eigenvectors):\n",
    "    P = np.array(eigenvectors)\n",
    "    Pinv = np.linalg.inv(P)\n",
    "    A = eigenvalues * np.identity(2)   # 2x2 diagonal matrix\n",
    "    cov = P.dot(A.dot(Pinv))    \n",
    "    X = np.random.multivariate_normal(mu,cov,size=N,tol=1)\n",
    "    x = X[:,0]\n",
    "    y = X[:,1]\n",
    "    return x,y\n",
    "\n",
    "N = 200\n",
    "mu = (3,5)\n",
    "markersize = 10\n",
    "\n",
    "big_radius=40\n",
    "small_radius=8\n",
    "eigenvalues = (big_radius**2, small_radius**2)\n",
    "eigenvectors = [[1,0],[0,1]]  # guess for horizontal line\n",
    "x,y=make_points(N,mu,eigenvalues,eigenvectors)\n",
    "plt.scatter(x, y, color='blue',s=markersize)\n",
    "\n",
    "big_radius=50\n",
    "small_radius=4\n",
    "eigenvalues = (big_radius**2, small_radius**2)\n",
    "eigenvectors = [[1,1],[-1,1]]  # guess for tilted line\n",
    "x,y=make_points(N,mu,eigenvalues,eigenvectors)\n",
    "plt.scatter(x, y, color='red',s=markersize)\n",
    "\n",
    "plt.axis('equal')   \n",
    "plt.show()"
   ]
  },
  {
   "cell_type": "markdown",
   "metadata": {},
   "source": [
    "My points are more spread out than the ones on the slide,\n",
    "but remember I had to use the numpy random number generator\n",
    "with wide tolerance because numpy said the covariance was not positive-semidefinite."
   ]
  },
  {
   "cell_type": "code",
   "execution_count": null,
   "metadata": {},
   "outputs": [],
   "source": []
  }
 ],
 "metadata": {
  "kernelspec": {
   "display_name": "Python 3",
   "language": "python",
   "name": "python3"
  },
  "language_info": {
   "codemirror_mode": {
    "name": "ipython",
    "version": 3
   },
   "file_extension": ".py",
   "mimetype": "text/x-python",
   "name": "python",
   "nbconvert_exporter": "python",
   "pygments_lexer": "ipython3",
   "version": "3.8.3"
  }
 },
 "nbformat": 4,
 "nbformat_minor": 2
}
