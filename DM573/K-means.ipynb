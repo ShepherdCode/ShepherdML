{
 "cells": [
  {
   "cell_type": "markdown",
   "id": "15a3bd01",
   "metadata": {},
   "source": [
    "# K-means\n",
    "See the more general notebook on Clustering.\n",
    "\n",
    "Here, we implement K-means Clustering from scratch."
   ]
  },
  {
   "cell_type": "markdown",
   "id": "26ec92b4",
   "metadata": {},
   "source": [
    "To keep it simple, use only one feature i.e. one dimension.\n",
    "The algorithm must slide the means left & right to find optimal.\n",
    "\n",
    "Implementing our code, we compute and display SSE\n",
    "to show that it reduces as the means approach 20 and 40. \n",
    "However, our topping criteria was delta mean, not SSE.\n",
    "\n",
    "Testing our code, we found the initializers made a big difference.\n",
    "The code often generated poor results when given bad initial values."
   ]
  },
  {
   "cell_type": "markdown",
   "id": "3fa27b7c",
   "metadata": {},
   "source": [
    "This code is designed for K=2. \n",
    "That simplifies the situation.\n",
    "We only need to test two means for each point's cluster membership.\n",
    "The distance calculation is scalar not vector.\n",
    "\n",
    "This code is designed for #features=1.\n",
    "That simplifies the situation.\n",
    "Each distance from the mean is computed by \n",
    "simple subtraction along X axis.\n",
    "For additional features, each point and mean would be a vector.\n",
    "We would use element-wise subtraction to determine convergence, \n",
    "and norm=np.linalg.norm(diff)\n",
    "i.e. sqrt of sum of squares of differences per dimension.\n",
    "\n",
    "Our code can crash on divide by zero,\n",
    "but this only happens with bad initial guesses \n",
    "outside the acutal (random) data range, such as\n",
    "(0,0) or (0,1) or (1,2) or (100,200).\n",
    "We saw fast convergence with parameters near the extremes\n",
    "such as (10,50) .\n",
    "We saw eventual convergence with means like \n",
    "(20,21) or (40,41) or (60,61)."
   ]
  },
  {
   "cell_type": "code",
   "execution_count": 1,
   "id": "ae8f186c",
   "metadata": {},
   "outputs": [],
   "source": [
    "import numpy as np\n",
    "import matplotlib.pyplot as plt\n",
    "from sklearn import cluster, datasets, mixture\n",
    "from sklearn.neighbors import kneighbors_graph\n",
    "from sklearn.preprocessing import StandardScaler"
   ]
  },
  {
   "cell_type": "code",
   "execution_count": 2,
   "id": "1129fc48",
   "metadata": {},
   "outputs": [],
   "source": [
    "def distance(p1,p2):\n",
    "    # Compute the norm of the distance between points p1 and p2.\n",
    "    # For single-feature data, all the norms are equivalent.\n",
    "    # For Kmeans in higher dimensions, the L2 norm is used.\n",
    "    # Althouth L1 is simply abs(p1-p2),\n",
    "    # and sqrt of square is a wasteful identity op,\n",
    "    # we'll use L2 to be pedantic.\n",
    "    return np.sqrt((p1-p2)**2)\n",
    "def is_closer(point,this_mean,that_mean):\n",
    "    return distance(point,this_mean) < distance(point,that_mean)\n",
    "def sse(vector,mean):\n",
    "    err=vector-mean\n",
    "    se=np.square(err)\n",
    "    sse=sum(se)\n",
    "    return int(sse)\n",
    "def assign_clusters(mean1,mean2,data):\n",
    "    clust1=np.asarray([x for x in data if is_closer(x,mean1,mean2)])\n",
    "    clust2=np.asarray([x for x in data if is_closer(x,mean2,mean1)])\n",
    "    print('Cluster sizes:',len(clust1),len(clust2))\n",
    "    return clust1,clust2\n",
    "def recompute_means(clust1,clust2):\n",
    "    mean1=np.mean(clust1)\n",
    "    mean2=np.mean(clust2)\n",
    "    print('New means: %.2f %.2f' % (mean1,mean2) )\n",
    "    return mean1,mean2\n",
    "def compute_sse(clust1,clust2,mean1,mean2):\n",
    "    sse1=sse(clust1,mean1)\n",
    "    sse2=sse(clust2,mean2)\n",
    "    print('Cluster SSE: %d %d' % (sse1,sse2) )\n",
    "    print('Cluster stdev: %.2f %.2f' % (\n",
    "        np.sqrt(sse1)/len(clust1),\n",
    "          np.sqrt(sse2)/len(clust2)))  \n",
    "    return sse1,sse2\n",
    "def iterative_2_means_delta(mean1,mean2,data,delta):\n",
    "    \"\"\"Iterate till the means change by less than delta.\"\"\"\n",
    "    clust1,clust2=assign_clusters(mean1,mean2,data)\n",
    "    sse1,sse2 = compute_sse(clust1,clust2,mean1,mean2)\n",
    "    prev_SSE = sse1 + sse2\n",
    "    diff = None\n",
    "    while diff is None or diff>delta:\n",
    "        print()\n",
    "        mean1,mean2=recompute_means(clust1,clust2)\n",
    "        clust1,clust2=assign_clusters(mean1,mean2,data)\n",
    "        sse1,sse2 = compute_sse(clust1,clust2,mean1,mean2)\n",
    "        this_SSE = sse1 + sse2\n",
    "        diff = prev_SSE - this_SSE\n",
    "        print('Diff:',diff,'Delta:',delta)\n",
    "        prev_SSE = this_SSE\n",
    "    return clust1,clust2"
   ]
  },
  {
   "cell_type": "code",
   "execution_count": 3,
   "id": "ebb7334f",
   "metadata": {},
   "outputs": [
    {
     "data": {
      "image/png": "[encoded data removed]",
      "text/plain": [
       "<Figure size 640x480 with 1 Axes>"
      ]
     },
     "metadata": {},
     "output_type": "display_data"
    }
   ],
   "source": [
    "# Use data suggested by the Mastery site.\n",
    "# Construct a bimodal from two Gaussian processes.\n",
    "# Can K-means with K=2 reconstruct the 2 means?\n",
    "from numpy import hstack\n",
    "from numpy.random import normal\n",
    "from matplotlib import pyplot\n",
    "# normal ( mean, standard deviation, count )\n",
    "def plot(X1,X2):\n",
    "    X = hstack( (X1, X2) )  # horizontal stack i.e. concat\n",
    "    pyplot.hist(X, bins=50, density=True)\n",
    "    pyplot.show()\n",
    "X1 = normal(loc=20, scale=5, size=3000) \n",
    "X2 = normal(loc=40, scale=5, size=6000)\n",
    "plot(X1,X2)"
   ]
  },
  {
   "cell_type": "code",
   "execution_count": 4,
   "id": "601ae1e3",
   "metadata": {},
   "outputs": [
    {
     "name": "stdout",
     "output_type": "stream",
     "text": [
      "Initial means: 5 10\n",
      "Cluster sizes: 22 8978\n",
      "Cluster SSE: 73 5933368\n",
      "Cluster stdev: 0.39 0.27\n",
      "\n",
      "New means: 5.85 33.43\n",
      "Cluster sizes: 1391 7609\n",
      "Cluster SSE: 148855 576538\n",
      "Cluster stdev: 0.28 0.10\n",
      "Diff: 5208048 Delta: 0.01\n",
      "\n",
      "New means: 15.78 36.58\n",
      "Cluster sizes: 2694 6306\n",
      "Cluster SSE: 75555 239749\n",
      "Cluster stdev: 0.10 0.08\n",
      "Diff: 410089 Delta: 0.01\n",
      "\n",
      "New means: 19.04 39.48\n",
      "Cluster sizes: 2986 6014\n",
      "Cluster SSE: 68327 145047\n",
      "Cluster stdev: 0.09 0.06\n",
      "Diff: 101930 Delta: 0.01\n",
      "\n",
      "New means: 19.88 40.06\n",
      "Cluster sizes: 3045 5955\n",
      "Cluster SSE: 71820 136578\n",
      "Cluster stdev: 0.09 0.06\n",
      "Diff: 4976 Delta: 0.01\n",
      "\n",
      "New means: 20.07 40.16\n",
      "Cluster sizes: 3053 5947\n",
      "Cluster SSE: 72510 135696\n",
      "Cluster stdev: 0.09 0.06\n",
      "Diff: 192 Delta: 0.01\n",
      "\n",
      "New means: 20.09 40.17\n",
      "Cluster sizes: 3054 5946\n",
      "Cluster SSE: 72609 135594\n",
      "Cluster stdev: 0.09 0.06\n",
      "Diff: 3 Delta: 0.01\n",
      "\n",
      "New means: 20.09 40.18\n",
      "Cluster sizes: 3054 5946\n",
      "Cluster SSE: 72609 135594\n",
      "Cluster stdev: 0.09 0.06\n",
      "Diff: 0 Delta: 0.01\n"
     ]
    }
   ],
   "source": [
    "# Choose not-quite-random initializers, k=2.\n",
    "guess1 = 5\n",
    "guess2 = 10\n",
    "X = hstack( (X1, X2) ) \n",
    "X = X.reshape((len(X), 1))\n",
    "X = np.asarray(X)\n",
    "print('Initial means:',guess1,guess2)\n",
    "new1,new2=iterative_2_means_delta(guess1,guess2,X,0.01)"
   ]
  },
  {
   "cell_type": "code",
   "execution_count": null,
   "id": "9139ed2a",
   "metadata": {},
   "outputs": [],
   "source": []
  }
 ],
 "metadata": {
  "kernelspec": {
   "display_name": "Python 3 (ipykernel)",
   "language": "python",
   "name": "python3"
  },
  "language_info": {
   "codemirror_mode": {
    "name": "ipython",
    "version": 3
   },
   "file_extension": ".py",
   "mimetype": "text/x-python",
   "name": "python",
   "nbconvert_exporter": "python",
   "pygments_lexer": "ipython3",
   "version": "3.10.0"
  }
 },
 "nbformat": 4,
 "nbformat_minor": 5
}
