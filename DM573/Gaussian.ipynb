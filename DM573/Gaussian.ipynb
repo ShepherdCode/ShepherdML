{
 "cells": [
  {
   "cell_type": "markdown",
   "metadata": {},
   "source": [
    "# Normal distribution"
   ]
  },
  {
   "cell_type": "markdown",
   "metadata": {},
   "source": [
    "Terms:  \n",
    "L2 norm := Euclidian distance of point to origin = sqrt of sum of X & Y sqared.  \n",
    "Mahalanobis distance := from point to distribution (multivariate gaussian).  \n",
    "Central Limit Theorem := mean approximates the normal distribution for any sufficiently large set of independent random variables, regardless of their distributions. "
   ]
  },
  {
   "cell_type": "markdown",
   "metadata": {},
   "source": [
    "Links:  \n",
    "Penn State University stat[505](https://online.stat.psu.edu/stat505/book/export/html/636)"
   ]
  },
  {
   "cell_type": "markdown",
   "metadata": {},
   "source": [
    "## Univariate Gaussian PDF\n",
    "$X \\sim \\mathcal{N} (\\mu,\\sigma)=(\\frac{1}{\\sigma \\sqrt(2\\pi)})e^{[\\frac{-1}{2}(\\frac{X-\\mu}{\\sigma})^2]}$  \n",
    "Random variable X is distributed according to the distribution N\n",
    "having parameters mean and standard deviation."
   ]
  },
  {
   "cell_type": "code",
   "execution_count": 1,
   "metadata": {},
   "outputs": [],
   "source": [
    "import math\n",
    "def univariate_gaussian_prob(X,mean,std):\n",
    "    constant = 1/((std**2)*math.sqrt(2*math.pi))\n",
    "    exponent = (X-mean)/std\n",
    "    exponent = (-1/2) * exponent**2\n",
    "    prob = constant * math.exp(exponent)\n",
    "    return prob\n",
    "def show_ugp(X,mean,std):\n",
    "    print(\"P(%d|mean=%d,std=%d)=%f\"%(X,mean,std,univariate_gaussian_prob(X,mean,std)))"
   ]
  },
  {
   "cell_type": "code",
   "execution_count": 2,
   "metadata": {},
   "outputs": [
    {
     "name": "stdout",
     "output_type": "stream",
     "text": [
      "P(5|mean=5,std=1)=0.398942\n",
      "P(4|mean=5,std=1)=0.241971\n",
      "P(6|mean=5,std=1)=0.241971\n",
      "P(3|mean=5,std=1)=0.053991\n"
     ]
    }
   ],
   "source": [
    "# Prob drops as distance from mean increases\n",
    "show_ugp(5,5,1)\n",
    "show_ugp(4,5,1)\n",
    "show_ugp(6,5,1)\n",
    "show_ugp(3,5,1)"
   ]
  },
  {
   "cell_type": "code",
   "execution_count": 3,
   "metadata": {},
   "outputs": [
    {
     "name": "stdout",
     "output_type": "stream",
     "text": [
      "P(5|mean=5,std=1)=0.398942\n",
      "P(5|mean=5,std=2)=0.099736\n",
      "P(5|mean=5,std=3)=0.044327\n"
     ]
    }
   ],
   "source": [
    "# Prob drops as variance increases\n",
    "show_ugp(5,5,1)\n",
    "show_ugp(5,5,2)\n",
    "show_ugp(5,5,3)\n"
   ]
  },
  {
   "cell_type": "markdown",
   "metadata": {},
   "source": [
    "### In Python \n",
    "Deprecated: numpy.linalg.norm  \n",
    "\n",
    "Supported: numpy.random.normal   \n",
    "Supported: numpy.random.Generator.normal  \n",
    "Supported: numpy.random.default_rng().normal  \n",
    "\n",
    "np.normal(mu, sigma, size) # size can be like 1000 or like (2,5)"
   ]
  },
  {
   "cell_type": "code",
   "execution_count": 8,
   "metadata": {},
   "outputs": [],
   "source": [
    "import scipy as sp\n",
    "from scipy import stats # pdf and cdf functions\n",
    "import numpy as np\n",
    "from numpy.random import normal  # random number generators\n",
    "import matplotlib.pyplot as plt"
   ]
  },
  {
   "cell_type": "code",
   "execution_count": 11,
   "metadata": {},
   "outputs": [
    {
     "data": {
      "text/plain": [
       "array([ 9.00207183,  8.79588466,  9.77045102, 10.88186203,  9.71562691])"
      ]
     },
     "execution_count": 11,
     "metadata": {},
     "output_type": "execute_result"
    }
   ],
   "source": [
    "data = normal(10,1,5)\n",
    "data  # random numbers with mean = 10"
   ]
  },
  {
   "cell_type": "code",
   "execution_count": 12,
   "metadata": {},
   "outputs": [
    {
     "name": "stdout",
     "output_type": "stream",
     "text": [
      "Observed mean 9.986103323591964 std 1.0031643618496535\n"
     ]
    }
   ],
   "source": [
    "theoretical_mean=10\n",
    "theoretical_std=1\n",
    "observations=5000\n",
    "data = normal(theoretical_mean,theoretical_std,observations)\n",
    "sample_mean = np.mean(data)\n",
    "sample_std = np.std(data)\n",
    "print(\"Observed mean\",sample_mean,\"std\",sample_std)"
   ]
  },
  {
   "cell_type": "code",
   "execution_count": 14,
   "metadata": {},
   "outputs": [
    {
     "data": {
      "image/png": "[encoded data removed]",
      "text/plain": [
       "<Figure size 432x288 with 1 Axes>"
      ]
     },
     "metadata": {
      "needs_background": "light"
     },
     "output_type": "display_data"
    }
   ],
   "source": [
    "num_bins = 20\n",
    "x = np.linspace(5,15,100)  # Xmin, Xmax, num points\n",
    "fudge=0.5 # probabilities are mirrored above & below the mean\n",
    "plt.plot(x, fudge*observations*stats.norm.pdf(x, theoretical_mean, theoretical_std),color='red')\n",
    "plt.hist(data, bins=num_bins, facecolor='blue', alpha=0.5)\n",
    "plt.show()"
   ]
  },
  {
   "cell_type": "markdown",
   "metadata": {},
   "source": [
    "## Multivariate Gaussian PDF\n",
    "In the above, X and $\\mu$ were scalar i.e. dimension D=1. \n",
    "Rewrite univariate distribution as function of mean and variance.\n",
    "\n",
    "$X \\sim \\mathcal{N} (\\mu,\\sigma^2)=(\\frac{1}{\\sqrt{\\sigma^2} * \\sqrt(2\\pi)})e^{[\\frac{-1}{2} * \\frac{(X-\\mu)*(X-\\mu)}{\\sigma^2}]}$\n",
    "\n",
    "Now X and $\\mu$ are vectors with D>1 dimensions. \n",
    "Substitute covariance matrix $\\Sigma$ for variance $\\sigma$. \n",
    "Use the determinant under the square root. \n",
    "Use the inverse for matrix multiplication.\n",
    "Note dimensions D: above, D=1 was omitted but here D>1.\n",
    "\n",
    "$\\bar X \\sim \\mathcal{N} (\\bar \\mu,\\Sigma)=(\\frac{1}{\\sqrt{|\\Sigma|} * \\sqrt((2\\pi)^D)})e^{[\\frac{-1}{2} * (\\bar X - \\bar \\mu)^{T}*\\Sigma^{-1}*(\\bar X - \\bar \\mu)]}$  "
   ]
  },
  {
   "cell_type": "markdown",
   "metadata": {},
   "source": [
    "## Covariance matrix\n",
    "Variance is computed over n samples.  \n",
    "Variance:  \n",
    "$\\sigma^2(X) = (1/n)\\sum_1^n[(\\mu-x)^2]$  \n",
    "Covariance:   \n",
    "$\\sigma(X,Y) = (1/n)\\sum_1^n[(\\mu_{x}-x)(\\mu_{y}-y)]$  \n",
    "Covariance matrix:  \n",
    "It is a symmetric matrix \n",
    "with diagonal elements = Variance(X), \n",
    "and off-diagonals = Covariance(X,Y).\n",
    "The covariance matrix is similar to but not the same as the correlation matrix!\n",
    "Data tight on the diagonal has correlations close to 1 but covariances close to the variances.\n",
    "\n",
    "    Matrix   Circle  WideElipse  TallElips  DiagonalElipse\n",
    "    XX  XY    1 0     2 0         1 0        1 2\n",
    "    YX  YY    0 1     0 1         0 2        2 1"
   ]
  },
  {
   "cell_type": "code",
   "execution_count": 60,
   "metadata": {},
   "outputs": [
    {
     "data": {
      "image/png": "[encoded data removed]",
      "text/plain": [
       "<Figure size 432x288 with 1 Axes>"
      ]
     },
     "metadata": {
      "needs_background": "light"
     },
     "output_type": "display_data"
    }
   ],
   "source": [
    "from scipy.stats import multivariate_normal\n",
    "# numpy.random.multivariate_normal\n",
    "\n",
    "means = np.array([5,5])\n",
    "cov1 = np.array([[20, 0], [0, 1]]) # blue : high X variance\n",
    "cov2 = np.array([[1, 0], [0, 20]]) # red : high Y variance\n",
    "cov3 = np.array([[20, -19.9], [-19.9, 20]])  # green : covariance close to variance\n",
    "data1 = multivariate_normal.rvs(means, cov1, 100)\n",
    "data2 = multivariate_normal.rvs(means, cov2, 100)\n",
    "data3 = multivariate_normal.rvs(means, cov3, 200)\n",
    "plt.scatter(data1[:,0],data1[:,1],color='blue')\n",
    "plt.scatter(data2[:,0],data2[:,1],color='red')\n",
    "plt.scatter(data3[:,0],data3[:,1],color='green')\n",
    "plt.show()"
   ]
  },
  {
   "cell_type": "markdown",
   "metadata": {},
   "source": [
    "### Easy case: 2 variables, 2x2 covariance"
   ]
  },
  {
   "cell_type": "code",
   "execution_count": 69,
   "metadata": {},
   "outputs": [],
   "source": [
    "def roll_matrix(a,b,c,d):\n",
    "    M = np.zeros((2,2))\n",
    "    M[0,0] = a\n",
    "    M[0,1] = b\n",
    "    M[1,0] = c\n",
    "    M[1,1] = d\n",
    "    return M\n",
    "def unroll_matrix(M):\n",
    "    a = M[0,0]\n",
    "    b = M[0,1]\n",
    "    c = M[1,0]\n",
    "    d = M[1,1]\n",
    "    return a,b,c,d\n",
    "def determinant(M):\n",
    "    a,b,c,d = unroll_matrix(M)\n",
    "    det = a*d - b*c\n",
    "    return det\n",
    "def inverse(M):\n",
    "    det = determinant(M)\n",
    "    if det==0:\n",
    "        return None\n",
    "    denominator = 1 / det\n",
    "    tup = unroll_matrix(M)\n",
    "    a,b,c,d = tuple(t/denominator for t in tup) \n",
    "    IM = roll_matrix(d,-b,-c,a)\n",
    "    return IM"
   ]
  },
  {
   "cell_type": "code",
   "execution_count": 76,
   "metadata": {},
   "outputs": [],
   "source": [
    "def multivariate_gaussian_prob(X,means,cov):\n",
    "    print(\"cov\",cov)\n",
    "    det = determinant(cov)\n",
    "    print(\"det\",det)\n",
    "    inv = inverse(cov)\n",
    "    print(\"inv\",inv)\n",
    "    constant = 1/(math.sqrt(det)*2*math.pi)\n",
    "    print(\"X\",X)\n",
    "    print(\"means\",means)\n",
    "    dev = np.subtract(X,means)\n",
    "    print(\"dev\",dev)\n",
    "    devT = np.transpose(dev)\n",
    "    print(\"devT\",devT)\n",
    "    exp = (-1/2) * devT * inv * dev\n",
    "    print(\"exp\",exp)\n",
    "    prob = constant * math.exp(exp)\n",
    "    return prob"
   ]
  },
  {
   "cell_type": "code",
   "execution_count": 77,
   "metadata": {},
   "outputs": [
    {
     "name": "stdout",
     "output_type": "stream",
     "text": [
      "cov [[10.  0.]\n",
      " [ 0. 10.]]\n",
      "det 100.0\n",
      "inv [[1000.   -0.]\n",
      " [  -0. 1000.]]\n",
      "X (5, 3)\n",
      "means (5, 3)\n",
      "dev [0 0]\n",
      "devT [0 0]\n",
      "exp [[-0.  0.]\n",
      " [ 0. -0.]]\n"
     ]
    },
    {
     "ename": "TypeError",
     "evalue": "only size-1 arrays can be converted to Python scalars",
     "output_type": "error",
     "traceback": [
      "\u001b[0;31m---------------------------------------------------------------------------\u001b[0m",
      "\u001b[0;31mTypeError\u001b[0m                                 Traceback (most recent call last)",
      "\u001b[0;32m<ipython-input-77-5f81695e1e1b>\u001b[0m in \u001b[0;36m<module>\u001b[0;34m\u001b[0m\n\u001b[1;32m      2\u001b[0m \u001b[0mmeans\u001b[0m \u001b[0;34m=\u001b[0m \u001b[0;34m(\u001b[0m\u001b[0;36m5\u001b[0m\u001b[0;34m,\u001b[0m\u001b[0;36m3\u001b[0m\u001b[0;34m)\u001b[0m\u001b[0;34m\u001b[0m\u001b[0;34m\u001b[0m\u001b[0m\n\u001b[1;32m      3\u001b[0m \u001b[0mcov\u001b[0m \u001b[0;34m=\u001b[0m \u001b[0mroll_matrix\u001b[0m\u001b[0;34m(\u001b[0m\u001b[0;36m10\u001b[0m\u001b[0;34m,\u001b[0m\u001b[0;36m0\u001b[0m\u001b[0;34m,\u001b[0m\u001b[0;36m0\u001b[0m\u001b[0;34m,\u001b[0m\u001b[0;36m10\u001b[0m\u001b[0;34m)\u001b[0m\u001b[0;34m\u001b[0m\u001b[0;34m\u001b[0m\u001b[0m\n\u001b[0;32m----> 4\u001b[0;31m \u001b[0mprint\u001b[0m\u001b[0;34m(\u001b[0m\u001b[0mmultivariate_gaussian_prob\u001b[0m\u001b[0;34m(\u001b[0m\u001b[0mX\u001b[0m\u001b[0;34m,\u001b[0m\u001b[0mmeans\u001b[0m\u001b[0;34m,\u001b[0m\u001b[0mcov\u001b[0m\u001b[0;34m)\u001b[0m\u001b[0;34m)\u001b[0m\u001b[0;34m\u001b[0m\u001b[0;34m\u001b[0m\u001b[0m\n\u001b[0m",
      "\u001b[0;32m<ipython-input-76-d015673c7d5b>\u001b[0m in \u001b[0;36mmultivariate_gaussian_prob\u001b[0;34m(X, means, cov)\u001b[0m\n\u001b[1;32m     14\u001b[0m     \u001b[0mexp\u001b[0m \u001b[0;34m=\u001b[0m \u001b[0;34m(\u001b[0m\u001b[0;34m-\u001b[0m\u001b[0;36m1\u001b[0m\u001b[0;34m/\u001b[0m\u001b[0;36m2\u001b[0m\u001b[0;34m)\u001b[0m \u001b[0;34m*\u001b[0m \u001b[0mdevT\u001b[0m \u001b[0;34m*\u001b[0m \u001b[0minv\u001b[0m \u001b[0;34m*\u001b[0m \u001b[0mdev\u001b[0m\u001b[0;34m\u001b[0m\u001b[0;34m\u001b[0m\u001b[0m\n\u001b[1;32m     15\u001b[0m     \u001b[0mprint\u001b[0m\u001b[0;34m(\u001b[0m\u001b[0;34m\"exp\"\u001b[0m\u001b[0;34m,\u001b[0m\u001b[0mexp\u001b[0m\u001b[0;34m)\u001b[0m\u001b[0;34m\u001b[0m\u001b[0;34m\u001b[0m\u001b[0m\n\u001b[0;32m---> 16\u001b[0;31m     \u001b[0mprob\u001b[0m \u001b[0;34m=\u001b[0m \u001b[0mconstant\u001b[0m \u001b[0;34m*\u001b[0m \u001b[0mmath\u001b[0m\u001b[0;34m.\u001b[0m\u001b[0mexp\u001b[0m\u001b[0;34m(\u001b[0m\u001b[0mexp\u001b[0m\u001b[0;34m)\u001b[0m\u001b[0;34m\u001b[0m\u001b[0;34m\u001b[0m\u001b[0m\n\u001b[0m\u001b[1;32m     17\u001b[0m     \u001b[0;32mreturn\u001b[0m \u001b[0mprob\u001b[0m\u001b[0;34m\u001b[0m\u001b[0;34m\u001b[0m\u001b[0m\n",
      "\u001b[0;31mTypeError\u001b[0m: only size-1 arrays can be converted to Python scalars"
     ]
    }
   ],
   "source": [
    "X = (5,3)\n",
    "means = (5,3)\n",
    "cov = roll_matrix(10,0,0,10)\n",
    "print(multivariate_gaussian_prob(X,means,cov))"
   ]
  },
  {
   "cell_type": "code",
   "execution_count": null,
   "metadata": {},
   "outputs": [],
   "source": []
  }
 ],
 "metadata": {
  "kernelspec": {
   "display_name": "Python 3",
   "language": "python",
   "name": "python3"
  },
  "language_info": {
   "codemirror_mode": {
    "name": "ipython",
    "version": 3
   },
   "file_extension": ".py",
   "mimetype": "text/x-python",
   "name": "python",
   "nbconvert_exporter": "python",
   "pygments_lexer": "ipython3",
   "version": "3.8.3"
  }
 },
 "nbformat": 4,
 "nbformat_minor": 2
}
