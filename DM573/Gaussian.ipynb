{
 "cells": [
  {
   "cell_type": "markdown",
   "metadata": {},
   "source": [
    "# Normal distribution\n",
    "See Duda/Hart/Stork, Pattern Classification, section 2.5.   "
   ]
  },
  {
   "cell_type": "markdown",
   "metadata": {},
   "source": [
    "## Univariate Gaussian PDF\n",
    "$X \\sim \\mathcal{N} (\\mu,\\sigma)=(\\frac{1}{\\sigma \\sqrt(2\\pi)})e^{[\\frac{-1}{2}(\\frac{X-\\mu}{\\sigma})^2]}$  \n",
    "Random variable X is distributed according to the distribution N\n",
    "having parameters mean and standard deviation.\n",
    "\n",
    "Mean is the expected value: $\\mu = \\sum(x)p(x)$  \n",
    "Variance is the expected squared deviation: $\\sigma^2 = \\sum [(x-\\mu)(p(x))]^2$  \n",
    "Mode is $p(\\mu) = \\frac{1}{\\sqrt(2\\pi\\sigma^2)}$\n",
    "\n",
    "The normal distribution has maximum entropy (sum of prob * log prob).  \n",
    "Central limit theorem says aggregate of random disturbance is normal, and aggregate of many random distributions is normal.  \n",
    "Linear combinations of normal distributions are normal.  "
   ]
  },
  {
   "cell_type": "markdown",
   "metadata": {},
   "source": [
    "### Implement PDF from scratch"
   ]
  },
  {
   "cell_type": "code",
   "execution_count": 20,
   "metadata": {},
   "outputs": [],
   "source": [
    "import math\n",
    "def univariate_gaussian_prob(X,mean,std):\n",
    "    constant = 1/((std**2)*math.sqrt(2*math.pi))\n",
    "    deviation = (X-mean)/std\n",
    "    exponent = (-1/2) * deviation**2\n",
    "    prob = constant * math.exp(exponent)\n",
    "    return prob\n",
    "def show_ugp(X,mean,std):\n",
    "    print(\"P(%d|mean=%d,std=%d)=%f\"%(X,mean,std,univariate_gaussian_prob(X,mean,std)))"
   ]
  },
  {
   "cell_type": "code",
   "execution_count": 22,
   "metadata": {},
   "outputs": [
    {
     "name": "stdout",
     "output_type": "stream",
     "text": [
      "P(5|mean=5,std=1)=0.398942\n",
      "P(4|mean=5,std=1)=0.241971\n",
      "P(6|mean=5,std=1)=0.241971\n",
      "P(3|mean=5,std=1)=0.053991\n"
     ]
    }
   ],
   "source": [
    "# The probability of X drops as its distance from mean increases\n",
    "show_ugp(5,5,1)\n",
    "show_ugp(4,5,1)\n",
    "show_ugp(6,5,1)\n",
    "show_ugp(3,5,1)"
   ]
  },
  {
   "cell_type": "code",
   "execution_count": 23,
   "metadata": {},
   "outputs": [
    {
     "name": "stdout",
     "output_type": "stream",
     "text": [
      "P(5|mean=5,std=1)=0.398942\n",
      "P(5|mean=5,std=2)=0.099736\n",
      "P(5|mean=5,std=3)=0.044327\n"
     ]
    }
   ],
   "source": [
    "# The probability of X=mean drops as the variance increases\n",
    "show_ugp(5,5,1)\n",
    "show_ugp(5,5,2)\n",
    "show_ugp(5,5,3)\n"
   ]
  },
  {
   "cell_type": "markdown",
   "metadata": {},
   "source": [
    "### Use numpy univariate\n",
    "Deprecated: numpy.linalg.norm  \n",
    "\n",
    "Supported: numpy.random.normal   \n",
    "Supported: numpy.random.Generator.normal  \n",
    "Supported: numpy.random.default_rng().normal  \n",
    "\n",
    "np.normal(mu, sigma, size) # size can be scalar or tuple\n",
    "\n",
    "Link: [AlphaCodingSkills](https://www.alphacodingskills.com/numpy/numpy-normal-distribution.php)"
   ]
  },
  {
   "cell_type": "code",
   "execution_count": 4,
   "metadata": {},
   "outputs": [],
   "source": [
    "import scipy as sp\n",
    "from scipy import stats # pdf and cdf functions\n",
    "import numpy as np\n",
    "from numpy.random import normal  # random number generators\n",
    "import matplotlib.pyplot as plt"
   ]
  },
  {
   "cell_type": "code",
   "execution_count": 24,
   "metadata": {},
   "outputs": [
    {
     "data": {
      "text/plain": [
       "array([ 8.27324185, 10.20693404,  9.72074175, 11.73764419, 10.64358124])"
      ]
     },
     "execution_count": 24,
     "metadata": {},
     "output_type": "execute_result"
    }
   ],
   "source": [
    "data = normal(10,1,5)\n",
    "data  # 5 random numbers with mean = 10, stdev = 1"
   ]
  },
  {
   "cell_type": "code",
   "execution_count": 25,
   "metadata": {},
   "outputs": [
    {
     "name": "stdout",
     "output_type": "stream",
     "text": [
      "Theoretical mean 10 std 1\n",
      "Observed mean 10.00171886016304 std 1.0086573814359907\n"
     ]
    }
   ],
   "source": [
    "theoretical_mean=10\n",
    "theoretical_std=1\n",
    "observations=5000\n",
    "data = normal(theoretical_mean,theoretical_std,observations)\n",
    "sample_mean = np.mean(data)\n",
    "sample_std = np.std(data)\n",
    "print(\"Theoretical mean\",theoretical_mean,\"std\",theoretical_std)\n",
    "print(\"Observed mean\",sample_mean,\"std\",sample_std)"
   ]
  },
  {
   "cell_type": "code",
   "execution_count": 29,
   "metadata": {},
   "outputs": [
    {
     "data": {
      "image/png": "[encoded data removed]",
      "text/plain": [
       "<Figure size 432x288 with 1 Axes>"
      ]
     },
     "metadata": {
      "needs_background": "light"
     },
     "output_type": "display_data"
    }
   ],
   "source": [
    "num_bins = 20\n",
    "x = np.linspace(5,15,100)  # params are Xmin, Xmax, and num points between\n",
    "max_prob = stats.norm.pdf(theoretical_mean, theoretical_mean, theoretical_std)\n",
    "max_height = max_prob*observations\n",
    "plt.plot(x, max_height*stats.norm.pdf(x, theoretical_mean, theoretical_std),color='red')\n",
    "plt.hist(data, bins=num_bins, facecolor='blue', alpha=0.5)\n",
    "plt.show()"
   ]
  },
  {
   "cell_type": "markdown",
   "metadata": {},
   "source": [
    "### Use scipi"
   ]
  },
  {
   "cell_type": "code",
   "execution_count": 56,
   "metadata": {},
   "outputs": [
    {
     "name": "stdout",
     "output_type": "stream",
     "text": [
      "Mean = 5, variance=1\n",
      "Prob(0) = 0.000001 = 0.000001\n",
      "Prob(1) = 0.000134 = 0.000134\n",
      "Prob(2) = 0.004432 = 0.004432\n",
      "Prob(3) = 0.053991 = 0.053991\n",
      "Prob(4) = 0.241971 = 0.241971\n",
      "Prob(5) = 0.398942 = 0.398942\n",
      "Prob(6) = 0.241971 = 0.241971\n",
      "Prob(7) = 0.053991 = 0.053991\n",
      "Prob(8) = 0.004432 = 0.004432\n",
      "Prob(9) = 0.000134 = 0.000134\n"
     ]
    }
   ],
   "source": [
    "# Compute Gaussian probabilities with scipi\n",
    "from scipy.stats import norm  # one way to do it\n",
    "from scipy.stats import multivariate_normal  # can be used for univariate too\n",
    "mean=5; var=1; std=1\n",
    "print(\"Mean = %d, variance=%d\"%(mean,var))\n",
    "for x in range(10):\n",
    "    y = multivariate_normal.pdf(x, mean=mean, cov=var)\n",
    "    z = norm(mean,std).pdf(x)  # should be same\n",
    "    print(\"Prob(%d) = %f = %f\"%(x,y,z))"
   ]
  },
  {
   "cell_type": "markdown",
   "metadata": {},
   "source": [
    "## Multivariate Gaussian PDF\n",
    "Start with univariate.  \n",
    "$X \\sim \\mathcal{N} (\\mu,\\sigma)=(\\frac{1}{\\sigma \\sqrt(2\\pi)})e^{[\\frac{-1}{2}(\\frac{X-\\mu}{\\sigma})^2]}$  \n",
    "\n",
    "In the above, X and $\\mu$ were scalar with #dimensions D=1.   \n",
    "Now, rewrite univariate distribution as function of mean and variance.  \n",
    "Also, make D explicit.  \n",
    "\n",
    "$X \\sim \\mathcal{N} (\\mu,\\sigma^2)=(\\frac{1}{\\sqrt{\\sigma^2} * (2\\pi)^{D/2}})e^{[\\frac{-1}{2} * \\frac{(X-\\mu)*(X-\\mu)}{\\sigma^2}]}$\n",
    "\n",
    "Next make X and $\\mu$ vectors with D>1 dimensions.   \n",
    "Substitute covariance matrix $\\Sigma$ for variance $\\sigma^2$.   \n",
    "Use the determinant under the square root.  \n",
    "Use the inverse for matrix multiplication.   \n",
    "\n",
    "$\\bar X \\sim \\mathcal{N} (\\bar \\mu,\\Sigma)=(\\frac{1}{\\sqrt{|\\Sigma|} * (2\\pi)^{D/2}})e^{[\\frac{-1}{2} * (\\bar X - \\bar \\mu)^{T}*\\Sigma^{-1}*(\\bar X - \\bar \\mu)]}$  \n",
    "\n",
    "If X and Y are independent, $\\Sigma$ is a diagonal matrix,\n",
    "and the multivariate pdf is the product of the univariate pdfs.\n",
    "\n",
    "If cov is proportional to the identity matrix I, the distribution is spherical.  \n",
    "Whitening is the transformation that makes this so.  \n",
    "Otherwise, the data clouds are ellipsoids, and\n",
    "the eigenvectors of cov are the principal axiis of the ellipsoids.  \n",
    "\n",
    "Just as $(x-\\mu)^2 / \\sigma$ is the univariate distance in Zs,  \n",
    "so $(x-\\mu_x)^T\\Sigma^{-1}(y-\\mu_y) / \\sigma$ is the multivariate Mahalanobis distance in Zs."
   ]
  },
  {
   "cell_type": "markdown",
   "metadata": {},
   "source": [
    "### Use numpy multivariate"
   ]
  },
  {
   "cell_type": "code",
   "execution_count": 57,
   "metadata": {},
   "outputs": [
    {
     "data": {
      "text/plain": [
       "array([[ 1.08479177,  2.48842763],\n",
       "       [ 0.79178881,  2.60267781],\n",
       "       [ 1.35985034,  3.65101302],\n",
       "       [ 0.90345808,  1.88058846],\n",
       "       [ 0.24382427, -0.12158423],\n",
       "       [ 0.54800067,  3.12272474],\n",
       "       [ 1.35369942,  1.8848787 ],\n",
       "       [ 1.7731609 ,  1.4205317 ],\n",
       "       [ 1.5759858 ,  2.50448633]])"
      ]
     },
     "execution_count": 57,
     "metadata": {},
     "output_type": "execute_result"
    }
   ],
   "source": [
    "# use numpy.random.Generator.multivariate_normal\n",
    "# to make a multi-dimentional array of random numbers\n",
    "mean = (1, 2)    # means along two dimensions\n",
    "cov = [[1, 0], [0, .5]]    # diagonals=variances, off-diagonals=independence\n",
    "rng = np.random.default_rng()\n",
    "x = rng.multivariate_normal(mean, cov, (3, 3))  ## make a 3x3 matrix of tuples\n",
    "x.shape\n",
    "# Makes more sense to create a list of tuples\n",
    "x = rng.multivariate_normal(mean, cov, 9)  \n",
    "# Each of 9 elements is a tuple.\n",
    "# Each tuple has one number from each dimension. \n",
    "x"
   ]
  },
  {
   "cell_type": "code",
   "execution_count": 69,
   "metadata": {},
   "outputs": [
    {
     "data": {
      "image/png": "[encoded data removed]",
      "text/plain": [
       "<Figure size 432x288 with 1 Axes>"
      ]
     },
     "metadata": {
      "needs_background": "light"
     },
     "output_type": "display_data"
    }
   ],
   "source": [
    "# X-axis: random numbers, mean=10, variance=1, covariance=2\n",
    "# Y-axis: random numbers, mean=10, variance=10, covariance=2\n",
    "mean = (10, 10)    # means along two dimensions\n",
    "cov = [[1, 2], [2, 10]]    # diagonals=variances, off-diagonals=independence\n",
    "x = rng.multivariate_normal(mean, cov, 1000)  # generate tuples all at once\n",
    "x1 = [tup[0] for tup in x]   # separate out the tuples for plotting\n",
    "y1 = [tup[1] for tup in x]\n",
    "plt.xlim(0, 20)    # Keep X and Y axis same size\n",
    "plt.ylim(0, 20)\n",
    "plt.gca().set_aspect('equal', adjustable='box')   # draw square instead of rectangle\n",
    "plt.scatter(x1, y1)\n",
    "plt.show()"
   ]
  },
  {
   "cell_type": "markdown",
   "metadata": {},
   "source": [
    "### Use scipy"
   ]
  },
  {
   "cell_type": "code",
   "execution_count": 70,
   "metadata": {},
   "outputs": [
    {
     "name": "stdout",
     "output_type": "stream",
     "text": [
      "Probability density along center vertical of picture above\n",
      "Mean =  (10, 10)  variance =  [[1, 2], [2, 10]]\n",
      "Prob at 10,0 = 0.000016 \n",
      "Prob at 10,2 = 0.000314 \n",
      "Prob at 10,4 = 0.003235 \n",
      "Prob at 10,6 = 0.017127 \n",
      "Prob at 10,8 = 0.046556 \n",
      "Prob at 10,10 = 0.064975 \n",
      "Prob at 10,12 = 0.046556 \n",
      "Prob at 10,14 = 0.017127 \n",
      "Prob at 10,16 = 0.003235 \n",
      "Prob at 10,18 = 0.000314 \n"
     ]
    }
   ],
   "source": [
    "from scipy.stats import multivariate_normal  # can be used for univariate too\n",
    "print(\"Probability density along center vertical of picture above\")\n",
    "print(\"Mean = \",mean,\" variance = \",cov)\n",
    "for x2 in range(0,20,2):\n",
    "    x1=10\n",
    "    y = multivariate_normal.pdf((x1,x2), mean=mean, cov=cov)\n",
    "    print(\"Prob at %d,%d = %f \"%(x1,x2,y))"
   ]
  },
  {
   "cell_type": "markdown",
   "metadata": {},
   "source": [
    "## Covariance matrix\n",
    "Compute variance over n samples like this:    \n",
    "var(X) = $\\sigma^2(X) = (1/n)\\sum_1^n[(\\mu-x)^2]$  \n",
    "\n",
    "Rewrite variance as covariance of X with itself:    \n",
    "cov(X,X) = $\\sigma(X,X) = (1/n)\\sum_1^n[(\\mu_{x}-x)(\\mu_{x}-x)^T]$  \n",
    "\n",
    "Compute covariance like this:     \n",
    "cov(X,Y) = $\\sigma(X,Y) = (1/n)\\sum_1^n[(\\mu_{x}-x)(\\mu_{y}-y)^T]$  \n",
    "\n",
    "Covariance matrix:  \n",
    "This is a symmetric matrix.   \n",
    "Diagonal elements = Variance(X).   \n",
    "Off-diagonals = Covariance(X,Y).   \n",
    "\n",
    "    Matrix    Circle  WideElipse  TallElipse  DiagonalElipse\n",
    "    XX  XY    1 0     2 0         1 0         1 2\n",
    "    YX  YY    0 1     0 1         0 2         2 1\n",
    "\n"
   ]
  },
  {
   "cell_type": "markdown",
   "metadata": {},
   "source": [
    "Correlation vs Covariance:  \n",
    "There are similarities and differences.    \n",
    "Correlation varies from -1 to +1.  \n",
    "+ Positive cor gives a bottom-left to top-right diagonal.  \n",
    "+ Negative cor gives a bottom-right to top-left diagonal.  \n",
    "+ Zero cor implies independence.  \n",
    "\n",
    "Covariance varies from can be anything.  \n",
    "+ Positive off-diagonal cov gives a bottom-left to top-right diagonal.  \n",
    "+ Negative off-diagonal cov gives a bottom-right to top-left diagonal.  \n",
    "+ Zero covariance means statistical independence.  \n",
    "\n",
    "Imagine data tight on the positive diagonal.  \n",
    "The XY correlations are close to 1 because large X correlates to large Y.  \n",
    "But the XY covariances are close to variances.  "
   ]
  },
  {
   "cell_type": "code",
   "execution_count": 81,
   "metadata": {},
   "outputs": [
    {
     "data": {
      "image/png": "[encoded data removed]",
      "text/plain": [
       "<Figure size 432x288 with 1 Axes>"
      ]
     },
     "metadata": {
      "needs_background": "light"
     },
     "output_type": "display_data"
    }
   ],
   "source": [
    "from scipy.stats import multivariate_normal\n",
    "means = np.array([10,10])\n",
    "N = 100\n",
    "covB = np.array([[20, 0], [0, 1]]) # blue : high X variance\n",
    "covR = np.array([[20, 0], [0, 20]]) # red : high X and Y variance, no covariance\n",
    "covG = np.array([[20, -20], [-20, 20]])  # green : covariance close to variance\n",
    "dataB = multivariate_normal.rvs(means, covB, N)\n",
    "dataR = multivariate_normal.rvs(means, covR, N)\n",
    "dataG = multivariate_normal.rvs(means, covG, N)\n",
    "plt.scatter(dataB[:,0],dataB[:,1],color='blue')\n",
    "plt.scatter(dataR[:,0],dataR[:,1],color='red')\n",
    "plt.scatter(dataG[:,0],dataG[:,1],color='green')\n",
    "plt.show()"
   ]
  },
  {
   "cell_type": "markdown",
   "metadata": {},
   "source": [
    "### Using numpy"
   ]
  },
  {
   "cell_type": "markdown",
   "metadata": {},
   "source": [
    "Note on numpy peculiarity noted on [StackOverflow](https://stackoverflow.com/questions/17428621/python-differentiating-between-row-and-column-vectors)   \n",
    "Although np.transpose(2x3matrix) returns a (3x2matrix),   \n",
    "and np.dot(np.transpose) handles the transpose correctly,   \n",
    "numpy transposes matrices for you as needed for calculations,   \n",
    "so you can usually get away without coding the transpose.   \n",
    "In fact, numpy vectors are not inherently row-vectors or column vectors.   \n",
    "So np.transpose(vector) is a no-op.   "
   ]
  },
  {
   "cell_type": "code",
   "execution_count": 82,
   "metadata": {},
   "outputs": [
    {
     "name": "stdout",
     "output_type": "stream",
     "text": [
      "original= [1 2 3] transpose= [1 2 3] dot product: 14\n",
      "Same result without the transpose: 14\n"
     ]
    }
   ],
   "source": [
    "# Demonstrate that numpy does the transpose for you\n",
    "mylist = [1,2,3]\n",
    "myvector = np.array(mylist)\n",
    "print(\"original=\",myvector,\"transpose=\",np.transpose(myvector),\n",
    "      \"dot product:\",myvector.dot(np.transpose(myvector)))\n",
    "print(\"Same result without the transpose:\",myvector.dot(myvector))"
   ]
  },
  {
   "cell_type": "markdown",
   "metadata": {},
   "source": [
    "### Covariance, implemented from scratch \n",
    "(well, using numpy for matrix multiplication)  \n",
    "We'll handle the easiest case: using 2 variables and 2x2 covariance matrix.  \n",
    "The computation requires matrix inverse and matrix determinant.  \n",
    "The computation gets harder at higher dimensions.  \n",
    "In fact, the compute can be impossible (when matrix not positive semidefinite).  \n",
    "So, we'll just implement the simple 2x2 case.  "
   ]
  },
  {
   "cell_type": "code",
   "execution_count": 83,
   "metadata": {},
   "outputs": [],
   "source": [
    "def roll_matrix(a,b,c,d):  # return 2x2 array\n",
    "    M = np.zeros((2,2))\n",
    "    M[0,0] = a\n",
    "    M[0,1] = b\n",
    "    M[1,0] = c\n",
    "    M[1,1] = d\n",
    "    return M\n",
    "def unroll_matrix(M):    # return matrix as tuple\n",
    "    a = M[0,0]\n",
    "    b = M[0,1]\n",
    "    c = M[1,0]\n",
    "    d = M[1,1]\n",
    "    return a,b,c,d\n",
    "def determinant(M):      # determinant of 2x2 matrix\n",
    "    a,b,c,d = unroll_matrix(M)\n",
    "    det = a*d - b*c\n",
    "    return det\n",
    "def inverse(M):          # inverse of 2x2 matrix (may not exist)\n",
    "    det = determinant(M)\n",
    "    if det==0:\n",
    "        return None\n",
    "    denominator = 1 / det\n",
    "    tup = unroll_matrix(M)\n",
    "    a,b,c,d = tuple(t/denominator for t in tup) \n",
    "    IM = roll_matrix(d,-b,-c,a)\n",
    "    return IM"
   ]
  },
  {
   "cell_type": "code",
   "execution_count": 1,
   "metadata": {},
   "outputs": [],
   "source": [
    "# Use numpy for dot product = inner product = sum ai*bi.\n",
    "def mahalanobis_distance(X,means,cov):   # distance X from distribution, used by Gauss\n",
    "    inv = inverse(cov) # inverse: 2x2 matrix\n",
    "    dev = np.subtract(X,means) # X - mu elementwise vector subtraction\n",
    "    prod = dev.dot(inv).dot(dev)   # (deviation)(inverse Sigma)(deviation)\n",
    "    return prod\n",
    "def multivariate_gaussian_prob(X,means,cov):\n",
    "    \"\"\"Shapes X:1x2, means:1x2, covariance:2x2\"\"\"\n",
    "    det = determinant(cov) # determinant: scalar\n",
    "    constant = 1/(math.sqrt(det)*2*math.pi) # scalar. At D=2, no need for sqrt(2pi)\n",
    "    md = mahalanobis_distance(X,means,cov)\n",
    "    exponent = (-1/2)*md\n",
    "    prob = constant * math.exp(exponent)\n",
    "    return prob"
   ]
  },
  {
   "cell_type": "markdown",
   "metadata": {},
   "source": [
    "### Test our results against scipy"
   ]
  },
  {
   "cell_type": "code",
   "execution_count": 96,
   "metadata": {},
   "outputs": [
    {
     "name": "stdout",
     "output_type": "stream",
     "text": [
      "Point at dead center\n",
      "Our value: 0.15915494309189535\n",
      "Lib value: 0.1591549430918954\n"
     ]
    }
   ],
   "source": [
    "from scipy.stats import multivariate_normal\n",
    "means = np.asarray( (5,3) )\n",
    "cov = roll_matrix(10,3,3,1)\n",
    "X = np.asarray( (5,3) )   \n",
    "lib=multivariate_normal(mean=[5,3], cov=[[10,3],[3,1]])\n",
    "print(\"Point at dead center\")\n",
    "print(\"Our value:\",multivariate_gaussian_prob(X,means,cov))\n",
    "print(\"Lib value:\",lib.pdf(X))"
   ]
  },
  {
   "cell_type": "code",
   "execution_count": 97,
   "metadata": {},
   "outputs": [
    {
     "name": "stdout",
     "output_type": "stream",
     "text": [
      "Point at Y center, off-center X\n",
      "High variance of X makes this pretty likely\n",
      "Our value: 0.09653235263005391\n",
      "Lib value: 0.09653235263005393\n"
     ]
    }
   ],
   "source": [
    "X = np.asarray( (6,3) ) \n",
    "print(\"Point at Y center, off-center X\")\n",
    "print(\"High variance of X makes this pretty likely\")\n",
    "print(\"Our value:\",multivariate_gaussian_prob(X,means,cov))\n",
    "print(\"Lib value:\",lib.pdf(X))"
   ]
  },
  {
   "cell_type": "code",
   "execution_count": 98,
   "metadata": {},
   "outputs": [
    {
     "name": "stdout",
     "output_type": "stream",
     "text": [
      "Point at Y off-center, center X\n",
      "Low variance of Y makes this pretty unlikely\n",
      "Our value: 0.0010723775711956546\n",
      "Lib value: 0.0010723775711956479\n"
     ]
    }
   ],
   "source": [
    "X = np.asarray( (5,4) )  \n",
    "print(\"Point at Y off-center, center X\")\n",
    "print(\"Low variance of Y makes this pretty unlikely\")\n",
    "print(\"Our value:\",multivariate_gaussian_prob(X,means,cov))\n",
    "print(\"Lib value:\",lib.pdf(X))"
   ]
  },
  {
   "cell_type": "code",
   "execution_count": null,
   "metadata": {},
   "outputs": [],
   "source": []
  }
 ],
 "metadata": {
  "kernelspec": {
   "display_name": "Python 3",
   "language": "python",
   "name": "python3"
  },
  "language_info": {
   "codemirror_mode": {
    "name": "ipython",
    "version": 3
   },
   "file_extension": ".py",
   "mimetype": "text/x-python",
   "name": "python",
   "nbconvert_exporter": "python",
   "pygments_lexer": "ipython3",
   "version": "3.8.3"
  }
 },
 "nbformat": 4,
 "nbformat_minor": 2
}
