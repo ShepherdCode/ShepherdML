{
 "cells": [
  {
   "cell_type": "markdown",
   "metadata": {},
   "source": [
    "# Normal distribution"
   ]
  },
  {
   "cell_type": "markdown",
   "metadata": {},
   "source": [
    "Terms:  \n",
    "* L2 norm := Euclidian distance of point to origin = sqrt of sum of X & Y sqared.  \n",
    "* Mahalanobis distance := from point to distribution (multivariate gaussian).  \n",
    "* Central Limit Theorem := mean approximates the normal distribution for any sufficiently large set of independent random variables, regardless of their distributions. "
   ]
  },
  {
   "cell_type": "markdown",
   "metadata": {},
   "source": [
    "Links:  \n",
    "* Penn State University stat[505](https://online.stat.psu.edu/stat505/book/export/html/636)"
   ]
  },
  {
   "cell_type": "markdown",
   "metadata": {},
   "source": [
    "## Univariate Gaussian PDF\n",
    "$X \\sim \\mathcal{N} (\\mu,\\sigma)=(\\frac{1}{\\sigma \\sqrt(2\\pi)})e^{[\\frac{-1}{2}(\\frac{X-\\mu}{\\sigma})^2]}$  \n",
    "Random variable X is distributed according to the distribution N\n",
    "having parameters mean and standard deviation."
   ]
  },
  {
   "cell_type": "code",
   "execution_count": 1,
   "metadata": {},
   "outputs": [],
   "source": [
    "import math\n",
    "def univariate_gaussian_prob(X,mean,std):\n",
    "    constant = 1/((std**2)*math.sqrt(2*math.pi))\n",
    "    exponent = (X-mean)/std\n",
    "    exponent = (-1/2) * exponent**2\n",
    "    prob = constant * math.exp(exponent)\n",
    "    return prob\n",
    "def show_ugp(X,mean,std):\n",
    "    print(\"P(%d|mean=%d,std=%d)=%f\"%(X,mean,std,univariate_gaussian_prob(X,mean,std)))"
   ]
  },
  {
   "cell_type": "code",
   "execution_count": 2,
   "metadata": {},
   "outputs": [
    {
     "name": "stdout",
     "output_type": "stream",
     "text": [
      "P(5|mean=5,std=1)=0.398942\n",
      "P(4|mean=5,std=1)=0.241971\n",
      "P(6|mean=5,std=1)=0.241971\n",
      "P(3|mean=5,std=1)=0.053991\n"
     ]
    }
   ],
   "source": [
    "# Prob drops as distance from mean increases\n",
    "show_ugp(5,5,1)\n",
    "show_ugp(4,5,1)\n",
    "show_ugp(6,5,1)\n",
    "show_ugp(3,5,1)"
   ]
  },
  {
   "cell_type": "code",
   "execution_count": 3,
   "metadata": {},
   "outputs": [
    {
     "name": "stdout",
     "output_type": "stream",
     "text": [
      "P(5|mean=5,std=1)=0.398942\n",
      "P(5|mean=5,std=2)=0.099736\n",
      "P(5|mean=5,std=3)=0.044327\n"
     ]
    }
   ],
   "source": [
    "# Prob drops as variance increases\n",
    "show_ugp(5,5,1)\n",
    "show_ugp(5,5,2)\n",
    "show_ugp(5,5,3)\n"
   ]
  },
  {
   "cell_type": "markdown",
   "metadata": {},
   "source": [
    "### Using numpy\n",
    "Deprecated: numpy.linalg.norm  \n",
    "\n",
    "Supported: numpy.random.normal   \n",
    "Supported: numpy.random.Generator.normal  \n",
    "Supported: numpy.random.default_rng().normal  \n",
    "\n",
    "np.normal(mu, sigma, size) # size can be like 1000 or like (2,5)\n",
    "\n",
    "Link: [AlphaCodingSkills](https://www.alphacodingskills.com/numpy/numpy-normal-distribution.php)"
   ]
  },
  {
   "cell_type": "code",
   "execution_count": 4,
   "metadata": {},
   "outputs": [],
   "source": [
    "import scipy as sp\n",
    "from scipy import stats # pdf and cdf functions\n",
    "import numpy as np\n",
    "from numpy.random import normal  # random number generators\n",
    "import matplotlib.pyplot as plt"
   ]
  },
  {
   "cell_type": "code",
   "execution_count": 5,
   "metadata": {},
   "outputs": [
    {
     "data": {
      "text/plain": [
       "array([ 9.82185066,  9.43024369, 10.46787398,  9.81492071,  9.25181463])"
      ]
     },
     "execution_count": 5,
     "metadata": {},
     "output_type": "execute_result"
    }
   ],
   "source": [
    "data = normal(10,1,5)\n",
    "data  # random numbers with mean = 10"
   ]
  },
  {
   "cell_type": "code",
   "execution_count": 6,
   "metadata": {},
   "outputs": [
    {
     "name": "stdout",
     "output_type": "stream",
     "text": [
      "Observed mean 9.99939498791508 std 1.00639439048934\n"
     ]
    }
   ],
   "source": [
    "theoretical_mean=10\n",
    "theoretical_std=1\n",
    "observations=5000\n",
    "data = normal(theoretical_mean,theoretical_std,observations)\n",
    "sample_mean = np.mean(data)\n",
    "sample_std = np.std(data)\n",
    "print(\"Observed mean\",sample_mean,\"std\",sample_std)"
   ]
  },
  {
   "cell_type": "code",
   "execution_count": 7,
   "metadata": {},
   "outputs": [
    {
     "data": {
      "image/png": "[encoded data removed]",
      "text/plain": [
       "<Figure size 432x288 with 1 Axes>"
      ]
     },
     "metadata": {
      "needs_background": "light"
     },
     "output_type": "display_data"
    }
   ],
   "source": [
    "num_bins = 20\n",
    "x = np.linspace(5,15,100)  # Xmin, Xmax, num points\n",
    "fudge=0.5 # probabilities are mirrored above & below the mean\n",
    "plt.plot(x, fudge*observations*stats.norm.pdf(x, theoretical_mean, theoretical_std),color='red')\n",
    "plt.hist(data, bins=num_bins, facecolor='blue', alpha=0.5)\n",
    "plt.show()"
   ]
  },
  {
   "cell_type": "code",
   "execution_count": 66,
   "metadata": {},
   "outputs": [
    {
     "data": {
      "text/plain": [
       "(3, 3, 2)"
      ]
     },
     "execution_count": 66,
     "metadata": {},
     "output_type": "execute_result"
    }
   ],
   "source": [
    "# use numpy.random.Generator.multivariate_normal\n",
    "mean = (1, 2)\n",
    "cov = [[1, 0], [0, 1]]\n",
    "rng = np.random.default_rng()\n",
    "x = rng.multivariate_normal(mean, cov, (3, 3))\n",
    "x.shape"
   ]
  },
  {
   "cell_type": "code",
   "execution_count": 69,
   "metadata": {},
   "outputs": [
    {
     "data": {
      "text/plain": [
       "array([0.00108914, 0.01033349, 0.05946514, 0.20755375, 0.43939129,\n",
       "       0.56418958, 0.43939129, 0.20755375, 0.05946514, 0.01033349])"
      ]
     },
     "execution_count": 69,
     "metadata": {},
     "output_type": "execute_result"
    }
   ],
   "source": [
    "# generate random points\n",
    "from scipy.stats import multivariate_normal\n",
    "x = np.linspace(0, 5, 10, endpoint=False)\n",
    "y = multivariate_normal.pdf(x, mean=2.5, cov=0.5)\n",
    "y"
   ]
  },
  {
   "cell_type": "code",
   "execution_count": 68,
   "metadata": {},
   "outputs": [
    {
     "name": "stdout",
     "output_type": "stream",
     "text": [
      "pdf(98)= 0.032786643008494994\n",
      "cdf(98)= 0.43381616738909634\n"
     ]
    }
   ],
   "source": [
    "# compute probability of a point\n",
    "from scipy.stats import norm\n",
    "mean = 100\n",
    "std = 12\n",
    "print( \"pdf(98)=\",norm(mean,std).pdf(98) )\n",
    "print( \"cdf(98)=\",norm(mean,std).cdf(98) )"
   ]
  },
  {
   "cell_type": "markdown",
   "metadata": {},
   "source": [
    "## Multivariate Gaussian PDF\n",
    "In the above, X and $\\mu$ were scalar i.e. dimension D=1. \n",
    "Rewrite univariate distribution as function of mean and variance.\n",
    "\n",
    "$X \\sim \\mathcal{N} (\\mu,\\sigma^2)=(\\frac{1}{\\sqrt{\\sigma^2} * \\sqrt(2\\pi)})e^{[\\frac{-1}{2} * \\frac{(X-\\mu)*(X-\\mu)}{\\sigma^2}]}$\n",
    "\n",
    "Next make X and $\\mu$ vectors with D>1 dimensions. \n",
    "Substitute covariance matrix $\\Sigma$ for variance $\\sigma$. \n",
    "Use the determinant under the square root. \n",
    "Use the inverse for matrix multiplication.\n",
    "Note dimensions D: above, D=1 was omitted but here D>1.\n",
    "\n",
    "$\\bar X \\sim \\mathcal{N} (\\bar \\mu,\\Sigma)=(\\frac{1}{\\sqrt{|\\Sigma|} * \\sqrt((2\\pi)^D)})e^{[\\frac{-1}{2} * (\\bar X - \\bar \\mu)^{T}*\\Sigma^{-1}*(\\bar X - \\bar \\mu)]}$  "
   ]
  },
  {
   "cell_type": "markdown",
   "metadata": {},
   "source": [
    "## Covariance matrix\n",
    "Variance is computed over n samples.  \n",
    "Variance:  \n",
    "$\\sigma^2(X) = (1/n)\\sum_1^n[(\\mu-x)^2]$  \n",
    "Covariance:   \n",
    "$\\sigma(X,Y) = (1/n)\\sum_1^n[(\\mu_{x}-x)(\\mu_{y}-y)]$  \n",
    "Covariance matrix:  \n",
    "It is a symmetric matrix \n",
    "with diagonal elements = Variance(X), \n",
    "and off-diagonals = Covariance(X,Y).\n",
    "The covariance matrix is similar to but not the same as the correlation matrix!\n",
    "Data tight on the diagonal has correlations close to 1 but covariances close to the variances.\n",
    "\n",
    "    Matrix   Circle  WideElipse  TallElips  DiagonalElipse\n",
    "    XX  XY    1 0     2 0         1 0        1 2\n",
    "    YX  YY    0 1     0 1         0 2        2 1"
   ]
  },
  {
   "cell_type": "code",
   "execution_count": 8,
   "metadata": {},
   "outputs": [
    {
     "data": {
      "image/png": "[encoded data removed]",
      "text/plain": [
       "<Figure size 432x288 with 1 Axes>"
      ]
     },
     "metadata": {
      "needs_background": "light"
     },
     "output_type": "display_data"
    }
   ],
   "source": [
    "from scipy.stats import multivariate_normal\n",
    "# numpy.random.multivariate_normal\n",
    "\n",
    "means = np.array([5,5])\n",
    "cov1 = np.array([[20, 0], [0, 1]]) # blue : high X variance\n",
    "cov2 = np.array([[1, 0], [0, 20]]) # red : high Y variance\n",
    "cov3 = np.array([[20, -19.9], [-19.9, 20]])  # green : covariance close to variance\n",
    "data1 = multivariate_normal.rvs(means, cov1, 100)\n",
    "data2 = multivariate_normal.rvs(means, cov2, 100)\n",
    "data3 = multivariate_normal.rvs(means, cov3, 200)\n",
    "plt.scatter(data1[:,0],data1[:,1],color='blue')\n",
    "plt.scatter(data2[:,0],data2[:,1],color='red')\n",
    "plt.scatter(data3[:,0],data3[:,1],color='green')\n",
    "plt.show()"
   ]
  },
  {
   "cell_type": "markdown",
   "metadata": {},
   "source": [
    "### Easy case: 2 variables, 2x2 covariance\n",
    "The computation gets harder with larger matrices \n",
    "because it requires matrix inverse and matrix determinant."
   ]
  },
  {
   "cell_type": "markdown",
   "metadata": {},
   "source": [
    "[StackOverflow](https://stackoverflow.com/questions/17428621/python-differentiating-between-row-and-column-vectors) on numpy array transpose. Numpy vectors are not inherently row-vectors or column vectors. Numpy transposes them as needed. So np.transpose(2x3matrix) returns a (3x2matrix), np.transpose(vector) is a no-op, but np.dot(np.transpose) handles the transpose correctly. "
   ]
  },
  {
   "cell_type": "code",
   "execution_count": 39,
   "metadata": {},
   "outputs": [
    {
     "name": "stdout",
     "output_type": "stream",
     "text": [
      "original= [1 2 3] transpose= [1 2 3] dot product: 14\n",
      "Same result without the transpose: 14\n"
     ]
    }
   ],
   "source": [
    "mylist = [1,2,3]\n",
    "myvector = np.array(mylist)\n",
    "print(\"original=\",myvector,\"transpose=\",np.transpose(myvector),\n",
    "      \"dot product:\",myvector.dot(np.transpose(myvector)))\n",
    "print(\"Same result without the transpose:\",myvector.dot(myvector))"
   ]
  },
  {
   "cell_type": "code",
   "execution_count": 17,
   "metadata": {},
   "outputs": [],
   "source": [
    "def roll_matrix(a,b,c,d):\n",
    "    M = np.zeros((2,2))\n",
    "    M[0,0] = a\n",
    "    M[0,1] = b\n",
    "    M[1,0] = c\n",
    "    M[1,1] = d\n",
    "    return M\n",
    "def unroll_matrix(M):\n",
    "    a = M[0,0]\n",
    "    b = M[0,1]\n",
    "    c = M[1,0]\n",
    "    d = M[1,1]\n",
    "    return a,b,c,d\n",
    "def determinant(M):\n",
    "    a,b,c,d = unroll_matrix(M)\n",
    "    det = a*d - b*c\n",
    "    return det\n",
    "def inverse(M):\n",
    "    det = determinant(M)\n",
    "    if det==0:\n",
    "        return None\n",
    "    denominator = 1 / det\n",
    "    tup = unroll_matrix(M)\n",
    "    a,b,c,d = tuple(t/denominator for t in tup) \n",
    "    IM = roll_matrix(d,-b,-c,a)\n",
    "    return IM"
   ]
  },
  {
   "cell_type": "code",
   "execution_count": 44,
   "metadata": {},
   "outputs": [],
   "source": [
    "def mahalanobis_distance(X,means,cov):\n",
    "    inv = inverse(cov) # inverse: 2x2 matrix\n",
    "    dev = np.subtract(X,means) # X - mu elementwise vector subtraction\n",
    "    prod = dev.dot(inv).dot(dev)\n",
    "    return prod\n",
    "def multivariate_gaussian_prob(X,means,cov):\n",
    "    \"\"\"\" X:1x2, means:1x2, covariance:2x2\"\"\"\n",
    "    det = determinant(cov) # determinant: scalar\n",
    "    constant = 1/(math.sqrt(det)*2*math.pi) # scalar. Note sqrt 2pi sqaured = 2pi\n",
    "    md = mahalanobis_distance(X,means,cov)\n",
    "    exponent = (-1/2)*md\n",
    "    prob = constant * math.exp(exponent)\n",
    "    return prob"
   ]
  },
  {
   "cell_type": "code",
   "execution_count": 58,
   "metadata": {},
   "outputs": [
    {
     "name": "stdout",
     "output_type": "stream",
     "text": [
      "0.15915494309189535 Point at dead center\n"
     ]
    }
   ],
   "source": [
    "means = np.asarray( (5,3) )\n",
    "cov = roll_matrix(10,3,3,1)\n",
    "X = np.asarray( (5,3) )   \n",
    "print(multivariate_gaussian_prob(X,means,cov),\"Point at dead center\")"
   ]
  },
  {
   "cell_type": "code",
   "execution_count": 59,
   "metadata": {},
   "outputs": [
    {
     "name": "stdout",
     "output_type": "stream",
     "text": [
      "0.09653235263005391 Point at Y center, wandering X\n"
     ]
    }
   ],
   "source": [
    "X = np.asarray( (6,3) ) \n",
    "print(multivariate_gaussian_prob(X,means,cov),\"Point at Y center, wandering X\")"
   ]
  },
  {
   "cell_type": "code",
   "execution_count": 60,
   "metadata": {},
   "outputs": [
    {
     "name": "stdout",
     "output_type": "stream",
     "text": [
      "0.0010723775711956546 Point X center, extreme Y\n"
     ]
    }
   ],
   "source": [
    "X = np.asarray( (5,4) )  \n",
    "print(multivariate_gaussian_prob(X,means,cov),\"Point X center, extreme Y\")"
   ]
  },
  {
   "cell_type": "markdown",
   "metadata": {},
   "source": [
    "### Using numpy\n",
    "Link: "
   ]
  },
  {
   "cell_type": "code",
   "execution_count": 71,
   "metadata": {},
   "outputs": [
    {
     "data": {
      "text/plain": [
       "0.09653235263005393"
      ]
     },
     "execution_count": 71,
     "metadata": {},
     "output_type": "execute_result"
    }
   ],
   "source": [
    "from scipy.stats import multivariate_normal\n",
    "var = multivariate_normal(mean=[0,0], cov=[[1,0],[0,1]])\n",
    "var.pdf([1,0])"
   ]
  },
  {
   "cell_type": "code",
   "execution_count": 73,
   "metadata": {},
   "outputs": [
    {
     "name": "stdout",
     "output_type": "stream",
     "text": [
      "0.1591549430918954 Point at dead center\n"
     ]
    }
   ],
   "source": [
    "var = multivariate_normal(mean=[5,3], cov=[[10,3],[3,1]])\n",
    "print(var.pdf([5,3]), \"Point at dead center\")"
   ]
  },
  {
   "cell_type": "code",
   "execution_count": null,
   "metadata": {},
   "outputs": [],
   "source": []
  }
 ],
 "metadata": {
  "kernelspec": {
   "display_name": "Python 3",
   "language": "python",
   "name": "python3"
  },
  "language_info": {
   "codemirror_mode": {
    "name": "ipython",
    "version": 3
   },
   "file_extension": ".py",
   "mimetype": "text/x-python",
   "name": "python",
   "nbconvert_exporter": "python",
   "pygments_lexer": "ipython3",
   "version": "3.8.3"
  }
 },
 "nbformat": 4,
 "nbformat_minor": 2
}
