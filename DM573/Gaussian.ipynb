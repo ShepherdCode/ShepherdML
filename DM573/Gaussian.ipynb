{
 "cells": [
  {
   "cell_type": "markdown",
   "metadata": {},
   "source": [
    "# Gaussian\n",
    "The normal distribution\n",
    "\n",
    "See \n",
    "* Duda/Hart/Stork, Pattern Classification, section 2.5.   \n",
    "* Penn State University stat[505](https://online.stat.psu.edu/stat505/book/export/html/636) explains that exponent in the multivariate gaussian is a Mahalanobis distance."
   ]
  },
  {
   "cell_type": "markdown",
   "metadata": {},
   "source": [
    "## Central Limit Theorem\n",
    "The normalized sum of data approximates the normal distribution \n",
    "for any sufficiently large set of independent random variables, \n",
    "regardless of their underlying distributions. \n",
    "\n",
    "[Wikipedia](https://en.wikipedia.org/wiki/Central_limit_theorem)\n",
    "\n",
    "This theorem grew out of the observation that \n",
    "the normal distribution is a good approximation of the binomial distribution."
   ]
  },
  {
   "cell_type": "markdown",
   "metadata": {},
   "source": [
    "## Univariate Gaussian PDF\n",
    "$X \\sim \\mathcal{N} (\\mu,\\sigma)=(\\frac{1}{\\sigma \\sqrt(2\\pi)})e^{[\\frac{-1}{2}(\\frac{X-\\mu}{\\sigma})^2]}$  \n",
    "Random variable X is distributed according to the distribution N\n",
    "having parameters mean and standard deviation.\n",
    "\n",
    "Mean is the expected value: $\\mu = \\sum(x)p(x)$  \n",
    "Variance is the expected squared deviation: $\\sigma^2 = \\sum [(x-\\mu)(p(x))]^2$  \n",
    "Mode is $p(\\mu) = \\frac{1}{\\sqrt(2\\pi\\sigma^2)}$\n",
    "\n",
    "The normal distribution has maximum entropy (sum of prob * log prob).  \n",
    "Central limit theorem says aggregate of random disturbance is normal, and aggregate of many random distributions is normal.  \n",
    "Linear combinations of normal distributions are normal.  "
   ]
  },
  {
   "cell_type": "markdown",
   "metadata": {},
   "source": [
    "### Implement PDF from scratch"
   ]
  },
  {
   "cell_type": "code",
   "execution_count": 1,
   "metadata": {},
   "outputs": [],
   "source": [
    "import math\n",
    "def univariate_gaussian_prob(X,mean,std):\n",
    "    constant = 1/((std**2)*math.sqrt(2*math.pi))\n",
    "    deviation = (X-mean)/std\n",
    "    exponent = (-1/2) * deviation**2\n",
    "    prob = constant * math.exp(exponent)\n",
    "    return prob\n",
    "def show_ugp(X,mean,std):\n",
    "    print(\"P(%d|mean=%d,std=%d)=%f\"%(X,mean,std,univariate_gaussian_prob(X,mean,std)))"
   ]
  },
  {
   "cell_type": "code",
   "execution_count": 2,
   "metadata": {},
   "outputs": [
    {
     "name": "stdout",
     "output_type": "stream",
     "text": [
      "P(5|mean=5,std=1)=0.398942\n",
      "P(4|mean=5,std=1)=0.241971\n",
      "P(6|mean=5,std=1)=0.241971\n",
      "P(3|mean=5,std=1)=0.053991\n"
     ]
    }
   ],
   "source": [
    "# The probability of X drops as its distance from mean increases\n",
    "show_ugp(5,5,1)\n",
    "show_ugp(4,5,1)\n",
    "show_ugp(6,5,1)\n",
    "show_ugp(3,5,1)"
   ]
  },
  {
   "cell_type": "code",
   "execution_count": 3,
   "metadata": {},
   "outputs": [
    {
     "name": "stdout",
     "output_type": "stream",
     "text": [
      "P(5|mean=5,std=1)=0.398942\n",
      "P(5|mean=5,std=2)=0.099736\n",
      "P(5|mean=5,std=3)=0.044327\n"
     ]
    }
   ],
   "source": [
    "# The probability of X=mean drops as the variance increases\n",
    "show_ugp(5,5,1)\n",
    "show_ugp(5,5,2)\n",
    "show_ugp(5,5,3)\n"
   ]
  },
  {
   "cell_type": "markdown",
   "metadata": {},
   "source": [
    "### Use numpy univariate\n",
    "Deprecated: numpy.linalg.norm  \n",
    "\n",
    "Supported: numpy.random.normal   \n",
    "Supported: numpy.random.Generator.normal  \n",
    "Supported: numpy.random.default_rng().normal  \n",
    "\n",
    "np.normal(mu, sigma, size) # size can be scalar or tuple\n",
    "\n",
    "Link: [AlphaCodingSkills](https://www.alphacodingskills.com/numpy/numpy-normal-distribution.php)"
   ]
  },
  {
   "cell_type": "code",
   "execution_count": 4,
   "metadata": {},
   "outputs": [],
   "source": [
    "import scipy as sp\n",
    "from scipy import stats # pdf and cdf functions\n",
    "import numpy as np\n",
    "from numpy.random import normal  # random number generators\n",
    "import matplotlib.pyplot as plt"
   ]
  },
  {
   "cell_type": "code",
   "execution_count": 5,
   "metadata": {},
   "outputs": [
    {
     "data": {
      "text/plain": [
       "array([11.06346701, 10.38442535, 10.07324334,  9.27432829, 11.15752351])"
      ]
     },
     "execution_count": 5,
     "metadata": {},
     "output_type": "execute_result"
    }
   ],
   "source": [
    "data = normal(10,1,5)\n",
    "data  # 5 random numbers with mean = 10, stdev = 1"
   ]
  },
  {
   "cell_type": "code",
   "execution_count": 6,
   "metadata": {},
   "outputs": [
    {
     "name": "stdout",
     "output_type": "stream",
     "text": [
      "Theoretical mean 10 std 1\n",
      "Observed mean 10.00285448361981 std 0.9876232811958866\n"
     ]
    }
   ],
   "source": [
    "theoretical_mean=10\n",
    "theoretical_std=1\n",
    "observations=5000\n",
    "data = normal(theoretical_mean,theoretical_std,observations)\n",
    "sample_mean = np.mean(data)\n",
    "sample_std = np.std(data)\n",
    "print(\"Theoretical mean\",theoretical_mean,\"std\",theoretical_std)\n",
    "print(\"Observed mean\",sample_mean,\"std\",sample_std)"
   ]
  },
  {
   "cell_type": "code",
   "execution_count": 7,
   "metadata": {},
   "outputs": [
    {
     "data": {
      "image/png": "[encoded data removed]",
      "text/plain": [
       "<Figure size 640x480 with 1 Axes>"
      ]
     },
     "metadata": {},
     "output_type": "display_data"
    }
   ],
   "source": [
    "num_bins = 20\n",
    "x = np.linspace(5,15,100)  # params are Xmin, Xmax, and num points between\n",
    "max_prob = stats.norm.pdf(theoretical_mean, theoretical_mean, theoretical_std)\n",
    "max_height = max_prob*observations\n",
    "plt.plot(x, max_height*stats.norm.pdf(x, theoretical_mean, theoretical_std),color='red')\n",
    "plt.hist(data, bins=num_bins, facecolor='blue', alpha=0.5)\n",
    "plt.show()"
   ]
  },
  {
   "cell_type": "markdown",
   "metadata": {},
   "source": [
    "### Use scipi"
   ]
  },
  {
   "cell_type": "code",
   "execution_count": 8,
   "metadata": {},
   "outputs": [
    {
     "name": "stdout",
     "output_type": "stream",
     "text": [
      "Mean = 5, variance=1\n",
      "Prob(0) = 0.000001 = 0.000001\n",
      "Prob(1) = 0.000134 = 0.000134\n",
      "Prob(2) = 0.004432 = 0.004432\n",
      "Prob(3) = 0.053991 = 0.053991\n",
      "Prob(4) = 0.241971 = 0.241971\n",
      "Prob(5) = 0.398942 = 0.398942\n",
      "Prob(6) = 0.241971 = 0.241971\n",
      "Prob(7) = 0.053991 = 0.053991\n",
      "Prob(8) = 0.004432 = 0.004432\n",
      "Prob(9) = 0.000134 = 0.000134\n"
     ]
    }
   ],
   "source": [
    "# Compute Gaussian probabilities with scipi\n",
    "from scipy.stats import norm  # one way to do it\n",
    "from scipy.stats import multivariate_normal  # can be used for univariate too\n",
    "mean=5; var=1; std=1\n",
    "print(\"Mean = %d, variance=%d\"%(mean,var))\n",
    "for x in range(10):\n",
    "    y = multivariate_normal.pdf(x, mean=mean, cov=var)\n",
    "    z = norm(mean,std).pdf(x)  # should be same\n",
    "    print(\"Prob(%d) = %f = %f\"%(x,y,z))"
   ]
  },
  {
   "cell_type": "markdown",
   "metadata": {},
   "source": [
    "## Multivariate Gaussian PDF\n",
    "Start with univariate.  \n",
    "$X \\sim \\mathcal{N} (\\mu,\\sigma)=(\\frac{1}{\\sigma \\sqrt(2\\pi)})e^{[\\frac{-1}{2}(\\frac{X-\\mu}{\\sigma})^2]}$  \n",
    "\n",
    "In the above, X and $\\mu$ were scalar with #dimensions D=1.   \n",
    "Now, rewrite univariate distribution as function of mean and variance.  \n",
    "Also, make D explicit.  \n",
    "\n",
    "$X \\sim \\mathcal{N} (\\mu,\\sigma^2)=(\\frac{1}{\\sqrt{\\sigma^2} * (2\\pi)^{D/2}})e^{[\\frac{-1}{2} * \\frac{(X-\\mu)*(X-\\mu)}{\\sigma^2}]}$\n",
    "\n",
    "Next make X and $\\mu$ vectors with D>1 dimensions.   \n",
    "Substitute covariance matrix $\\Sigma$ for variance $\\sigma^2$.   \n",
    "Use the determinant under the square root.  \n",
    "Use the inverse for matrix multiplication.   \n",
    "\n",
    "$\\bar X \\sim \\mathcal{N} (\\bar \\mu,\\Sigma)=(\\frac{1}{\\sqrt{|\\Sigma|} * (2\\pi)^{D/2}})e^{[\\frac{-1}{2} * (\\bar X - \\bar \\mu)^{T}*\\Sigma^{-1}*(\\bar X - \\bar \\mu)]}$  \n",
    "\n",
    "If X and Y are independent, $\\Sigma$ is a diagonal matrix,\n",
    "and the multivariate pdf is the product of the univariate pdfs.\n",
    "\n",
    "If cov is proportional to the identity matrix I, the distribution is spherical.  \n",
    "Whitening is the transformation that makes this so.  \n",
    "Otherwise, the data clouds are ellipsoids, and\n",
    "the eigenvectors of cov are the principal axiis of the ellipsoids.  \n",
    "\n",
    "Z-scores:   \n",
    "Just as $(x-\\mu)^2 / \\sigma$ is the normalized univariate Euclidean distance,  \n",
    "so $(x-\\mu_x)^T\\Sigma^{-1}(y-\\mu_y) / \\sigma$ is the normalized multivariate Mahalanobis distance."
   ]
  },
  {
   "cell_type": "markdown",
   "metadata": {},
   "source": [
    "### Use numpy multivariate"
   ]
  },
  {
   "cell_type": "code",
   "execution_count": 9,
   "metadata": {},
   "outputs": [
    {
     "data": {
      "text/plain": [
       "array([[1.05915436, 1.98735239],\n",
       "       [1.23134649, 1.93150652],\n",
       "       [0.87549994, 1.64134423],\n",
       "       [1.73882959, 2.56446456],\n",
       "       [0.0359352 , 1.84439764],\n",
       "       [0.6270816 , 1.57571332],\n",
       "       [0.77384273, 1.97493822],\n",
       "       [2.08495089, 3.03813171],\n",
       "       [1.09370656, 1.48405621]])"
      ]
     },
     "execution_count": 9,
     "metadata": {},
     "output_type": "execute_result"
    }
   ],
   "source": [
    "# use numpy.random.Generator.multivariate_normal\n",
    "# to make a multi-dimentional array of random numbers\n",
    "mean = (1, 2)    # means along two dimensions\n",
    "cov = [[1, 0], [0, .5]]    # diagonals=variances, off-diagonals=independence\n",
    "rng = np.random.default_rng()\n",
    "x = rng.multivariate_normal(mean, cov, (3, 3))  ## make a 3x3 matrix of tuples\n",
    "x.shape\n",
    "# Makes more sense to create a list of tuples\n",
    "x = rng.multivariate_normal(mean, cov, 9)  \n",
    "# Each of 9 elements is a tuple.\n",
    "# Each tuple has one number from each dimension. \n",
    "x"
   ]
  },
  {
   "cell_type": "code",
   "execution_count": 10,
   "metadata": {},
   "outputs": [
    {
     "data": {
      "image/png": "[encoded data removed]",
      "text/plain": [
       "<Figure size 640x480 with 1 Axes>"
      ]
     },
     "metadata": {},
     "output_type": "display_data"
    }
   ],
   "source": [
    "# X-axis: random numbers, mean=10, variance=1, covariance=2\n",
    "# Y-axis: random numbers, mean=10, variance=10, covariance=2\n",
    "mean = (10, 10)    # means along two dimensions\n",
    "cov = [[1, 2], [2, 10]]    # diagonals=variances, off-diagonals=independence\n",
    "x = rng.multivariate_normal(mean, cov, 1000)  # generate tuples all at once\n",
    "x1 = [tup[0] for tup in x]   # separate out the tuples for plotting\n",
    "y1 = [tup[1] for tup in x]\n",
    "plt.xlim(0, 20)    # Keep X and Y axis same size\n",
    "plt.ylim(0, 20)\n",
    "plt.gca().set_aspect('equal', adjustable='box')   # draw square instead of rectangle\n",
    "plt.scatter(x1, y1)\n",
    "plt.show()"
   ]
  },
  {
   "cell_type": "markdown",
   "metadata": {},
   "source": [
    "### Use scipy"
   ]
  },
  {
   "cell_type": "code",
   "execution_count": 11,
   "metadata": {},
   "outputs": [
    {
     "name": "stdout",
     "output_type": "stream",
     "text": [
      "Probability density along center vertical of picture above\n",
      "Mean =  (10, 10)  variance =  [[1, 2], [2, 10]]\n",
      "Prob at 10,0 = 0.000016 \n",
      "Prob at 10,2 = 0.000314 \n",
      "Prob at 10,4 = 0.003235 \n",
      "Prob at 10,6 = 0.017127 \n",
      "Prob at 10,8 = 0.046556 \n",
      "Prob at 10,10 = 0.064975 \n",
      "Prob at 10,12 = 0.046556 \n",
      "Prob at 10,14 = 0.017127 \n",
      "Prob at 10,16 = 0.003235 \n",
      "Prob at 10,18 = 0.000314 \n"
     ]
    }
   ],
   "source": [
    "from scipy.stats import multivariate_normal  # can be used for univariate too\n",
    "print(\"Probability density along center vertical of picture above\")\n",
    "print(\"Mean = \",mean,\" variance = \",cov)\n",
    "for x2 in range(0,20,2):\n",
    "    x1=10\n",
    "    y = multivariate_normal.pdf((x1,x2), mean=mean, cov=cov)\n",
    "    print(\"Prob at %d,%d = %f \"%(x1,x2,y))"
   ]
  },
  {
   "cell_type": "code",
   "execution_count": null,
   "metadata": {},
   "outputs": [],
   "source": []
  },
  {
   "cell_type": "code",
   "execution_count": null,
   "metadata": {},
   "outputs": [],
   "source": []
  }
 ],
 "metadata": {
  "kernelspec": {
   "display_name": "Python 3 (ipykernel)",
   "language": "python",
   "name": "python3"
  },
  "language_info": {
   "codemirror_mode": {
    "name": "ipython",
    "version": 3
   },
   "file_extension": ".py",
   "mimetype": "text/x-python",
   "name": "python",
   "nbconvert_exporter": "python",
   "pygments_lexer": "ipython3",
   "version": "3.10.0"
  }
 },
 "nbformat": 4,
 "nbformat_minor": 2
}
