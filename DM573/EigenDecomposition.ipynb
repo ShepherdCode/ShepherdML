{
 "cells": [
  {
   "cell_type": "markdown",
   "metadata": {},
   "source": [
    "# Eigen Decomposition\n",
    "Matrix A must be diagnalizable i.e. square and invertible.  \n",
    "Same as spectral decomposition of A is symmetric (and contains real numbers not complex numbers).  \n",
    "The eigenvalues are unique but the eigenvectors are not;\n",
    "multiples of eigenvectors work just as well since the formula multiplies them by their inverse.  \n",
    "The eigenvectors can be normalized to length=1.  \n",
    "The eigenvalues (with their corresponding eigenvectors) can be rearranged from largest to smallest.  \n",
    "The eigenvectors from the smallest eigenvalues can be discarded for an approximation.  \n",
    "\n",
    "The decomposition of A can be written  \n",
    "$A = Q \\Lambda Q^{-1}$  \n",
    "where Q is a matrix of eigen column vectors,  \n",
    "$Q^{-1}$ is the inverse,   \n",
    "and big Lambda $\\Lambda$ is a diagonal matrix of the little-lambda $\\lambda$ eigenvalues in order.  "
   ]
  },
  {
   "cell_type": "markdown",
   "metadata": {},
   "source": [
    "## Example \n",
    "From [wikipedia](https://en.wikipedia.org/wiki/Eigendecomposition_of_a_matrix)"
   ]
  },
  {
   "cell_type": "code",
   "execution_count": 1,
   "metadata": {},
   "outputs": [
    {
     "name": "stdout",
     "output_type": "stream",
     "text": [
      "[[1, 0], [1, 3]]\n"
     ]
    }
   ],
   "source": [
    "A = [[1,0],[1,3]]\n",
    "print(A)"
   ]
  },
  {
   "cell_type": "code",
   "execution_count": 2,
   "metadata": {},
   "outputs": [
    {
     "name": "stdout",
     "output_type": "stream",
     "text": [
      "eigenvalues\n",
      " [3. 1.]\n",
      "eigenvectors\n",
      " [[ 0.          0.89442719]\n",
      " [ 1.         -0.4472136 ]]\n"
     ]
    }
   ],
   "source": [
    "import numpy as np\n",
    "eigenvalues,eigenvectors=np.linalg.eig(A)\n",
    "print('eigenvalues\\n',eigenvalues)\n",
    "print('eigenvectors\\n',eigenvectors)"
   ]
  },
  {
   "cell_type": "code",
   "execution_count": 3,
   "metadata": {},
   "outputs": [
    {
     "name": "stdout",
     "output_type": "stream",
     "text": [
      "diagonal\n",
      " [[3. 0.]\n",
      " [0. 1.]]\n",
      "reconstruction\n",
      " [[1. 0.]\n",
      " [1. 3.]]\n"
     ]
    }
   ],
   "source": [
    "diagonal = eigenvalues * np.identity(2)\n",
    "print('diagonal\\n',diagonal)\n",
    "R = eigenvectors.dot(diagonal.dot(np.linalg.inv(eigenvectors)))\n",
    "print('reconstruction\\n',R)"
   ]
  },
  {
   "cell_type": "markdown",
   "metadata": {},
   "source": [
    "## Another example\n",
    "From [UTDallas](https://personal.utdallas.edu/~herve/Abdi-EVD2007-pretty.pdf)\n",
    "\n",
    "Eigenvalue 4 has eigenvector column( 3 2 ).\n",
    "Eigenvalue -1 has eigenvector column ( -1 1 ).\n"
   ]
  },
  {
   "cell_type": "code",
   "execution_count": 4,
   "metadata": {},
   "outputs": [
    {
     "name": "stdout",
     "output_type": "stream",
     "text": [
      "eigenvalues\n",
      " [ 4. -1.]\n",
      "eigenvectors\n",
      " [[ 0.83205029 -0.70710678]\n",
      " [ 0.5547002   0.70710678]]\n"
     ]
    }
   ],
   "source": [
    "A = [[2,3],[2,1]]\n",
    "eigenvalues,eigenvectors=np.linalg.eig(A)\n",
    "print('eigenvalues\\n',eigenvalues)\n",
    "print('eigenvectors\\n',eigenvectors)"
   ]
  },
  {
   "cell_type": "markdown",
   "metadata": {},
   "source": [
    "Numpy's eigenvectors are proportional to the given ones."
   ]
  },
  {
   "cell_type": "code",
   "execution_count": 5,
   "metadata": {},
   "outputs": [
    {
     "name": "stdout",
     "output_type": "stream",
     "text": [
      "[[ 3.07858609 -1.06066017]\n",
      " [ 2.05239073  1.06066017]]\n"
     ]
    }
   ],
   "source": [
    "E = np.multiply ( eigenvectors, [[3.7,1.5],[3.7,1.5]])   # Hadamard product\n",
    "print(E)"
   ]
  },
  {
   "cell_type": "markdown",
   "metadata": {},
   "source": [
    "In fact, numpy's eigenvectors are normalized to length 1, as shown here."
   ]
  },
  {
   "cell_type": "code",
   "execution_count": 6,
   "metadata": {},
   "outputs": [
    {
     "name": "stdout",
     "output_type": "stream",
     "text": [
      "eigenvalues\n",
      " [ 4. -1.]\n",
      "normalized eigenvectors\n",
      " [[ 0.83205029 -0.70710678]\n",
      " [ 0.5547002   0.70710678]]\n"
     ]
    }
   ],
   "source": [
    "evec0 = E[:,0]\n",
    "evec1 = E[:,1]\n",
    "len0 = np.sqrt(evec0.dot(evec0))\n",
    "len1 = np.sqrt(evec1.dot(evec1))\n",
    "evec0 = evec0 / len0   # divide by vector length so length = 1\n",
    "evec1 = evec1 / len1\n",
    "normvectors = np.column_stack( (evec0,evec1) )\n",
    "print('eigenvalues\\n',eigenvalues)\n",
    "print('normalized eigenvectors\\n',normvectors)"
   ]
  },
  {
   "cell_type": "markdown",
   "metadata": {},
   "source": [
    "Reconstruct the original."
   ]
  },
  {
   "cell_type": "code",
   "execution_count": 7,
   "metadata": {},
   "outputs": [
    {
     "name": "stdout",
     "output_type": "stream",
     "text": [
      "diagonal\n",
      " [[ 4. -0.]\n",
      " [ 0. -1.]]\n",
      "reconstruction\n",
      " [[2. 3.]\n",
      " [2. 1.]]\n"
     ]
    }
   ],
   "source": [
    "diagonal = eigenvalues * np.identity(2)\n",
    "print('diagonal\\n',diagonal)\n",
    "R = eigenvectors.dot(diagonal.dot(np.linalg.inv(eigenvectors)))\n",
    "print('reconstruction\\n',R)"
   ]
  },
  {
   "cell_type": "markdown",
   "metadata": {},
   "source": [
    "Success!"
   ]
  },
  {
   "cell_type": "code",
   "execution_count": null,
   "metadata": {},
   "outputs": [],
   "source": []
  }
 ],
 "metadata": {
  "kernelspec": {
   "display_name": "Python 3",
   "language": "python",
   "name": "python3"
  },
  "language_info": {
   "codemirror_mode": {
    "name": "ipython",
    "version": 3
   },
   "file_extension": ".py",
   "mimetype": "text/x-python",
   "name": "python",
   "nbconvert_exporter": "python",
   "pygments_lexer": "ipython3",
   "version": "3.8.3"
  }
 },
 "nbformat": 4,
 "nbformat_minor": 2
}
