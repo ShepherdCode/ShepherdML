{
 "cells": [
  {
   "cell_type": "markdown",
   "metadata": {},
   "source": [
    "# Eigen Decomposition\n",
    "$A = Q \\Lambda Q^{-1}$  \n",
    "\n",
    "Common example: if A is a dxd covariance matrix of d features,\n",
    "the first few eigenvectors represent the most critical feature combinations.\n",
    "\n",
    "The decomposition transforms features into a basis,\n",
    "and ranks the dimensions by importance.\n",
    "\n",
    "Matrix A must be diagnalizable i.e. square and invertible.\n",
    "Note the formula requires the inverse, not the transpose.\n",
    "\n",
    "Same as spectral decomposition if A is symmetric and contains real numbers not complex numbers.  \n",
    "\n",
    "The eigenvalues are unique but the eigenvectors are not.\n",
    "Multiples of eigenvectors work just as well since the formula multiplies them by their inverse.\n",
    "The eigenvectors can be normalized to length=1.  \n",
    "\n",
    "The eigenvalues (with their corresponding eigenvectors) can be rearranged from largest to smallest.\n",
    "The eigenvectors from the smallest eigenvalues can be discarded for an approximation.  \n",
    "\n",
    "The decomposition of A can be written  \n",
    "$A = Q \\Lambda Q^{-1}$  \n",
    "where Q is a matrix of eigen column vectors,  \n",
    "$Q^{-1}$ is the inverse,   \n",
    "and big Lambda $\\Lambda$ is a diagonal matrix of the little-lambda $\\lambda$ eigenvalues.\n",
    "\n",
    "Each eigenvalue corresponds to one eigenvector.\n",
    "Larger eignvalues indicate more important vectors."
   ]
  },
  {
   "cell_type": "markdown",
   "metadata": {},
   "source": [
    "## Example \n",
    "From [wikipedia](https://en.wikipedia.org/wiki/Eigendecomposition_of_a_matrix)"
   ]
  },
  {
   "cell_type": "code",
   "execution_count": 1,
   "metadata": {},
   "outputs": [],
   "source": [
    "import numpy as np\n",
    "def show(mat):\n",
    "    print(mat)\n",
    "    print(mat.ndim,'dimensions.',mat.shape,'shape.')"
   ]
  },
  {
   "cell_type": "code",
   "execution_count": 2,
   "metadata": {},
   "outputs": [
    {
     "name": "stdout",
     "output_type": "stream",
     "text": [
      "[[1 0]\n",
      " [1 3]]\n",
      "2 dimensions. (2, 2) shape.\n"
     ]
    }
   ],
   "source": [
    "# 1 0\n",
    "# 1 3\n",
    "A = np.array([[1,0],[1,3]])\n",
    "show(A)"
   ]
  },
  {
   "cell_type": "markdown",
   "metadata": {},
   "source": [
    "Use numpy fpr eigen decompositon."
   ]
  },
  {
   "cell_type": "code",
   "execution_count": 3,
   "metadata": {},
   "outputs": [
    {
     "name": "stdout",
     "output_type": "stream",
     "text": [
      "eigenvalues\n",
      " [3. 1.]\n",
      "eigenvectors\n",
      " [[ 0.          0.89442719]\n",
      " [ 1.         -0.4472136 ]]\n"
     ]
    }
   ],
   "source": [
    "eigenvalues,eigenvectors=np.linalg.eig(A)\n",
    "print('eigenvalues\\n',eigenvalues)\n",
    "print('eigenvectors\\n',eigenvectors)"
   ]
  },
  {
   "cell_type": "markdown",
   "metadata": {},
   "source": [
    "Reconstruct the orinal by hand."
   ]
  },
  {
   "cell_type": "code",
   "execution_count": 4,
   "metadata": {},
   "outputs": [
    {
     "name": "stdout",
     "output_type": "stream",
     "text": [
      "Q dot lambda\n",
      " [[ 0.          0.89442719]\n",
      " [ 3.         -0.4472136 ]]\n",
      "Q transformed\n",
      " [[-0.4472136  -0.89442719]\n",
      " [-1.          0.        ]]\n",
      "and divided by determinant -0.89442719\n",
      "gives the inverse of Q\n",
      " [[ 0.50000001  1.        ]\n",
      " [ 1.11803399 -0.        ]]\n",
      "and the final reconstruction is\n",
      " [[1.         0.        ]\n",
      " [1.00000001 3.        ]]\n"
     ]
    }
   ],
   "source": [
    "Q =  np.array([[0,0.89442719],[1,-0.4472136]])\n",
    "Lambda = np.array([[3,0],[0,1]])\n",
    "intermediate = Q.dot(Lambda)\n",
    "print('Q dot lambda\\n',intermediate)\n",
    "# compute the inverse of Q\n",
    "# swap elements of forward diagonal\n",
    "# invert elements on backward diagonal\n",
    "Qi = np.zeros( (2,2) )\n",
    "Qi[1,1]=Q[0,0]; Qi[0,0]=Q[1,1]\n",
    "Qi[0,1]= 0-Q[0,1]; Qi[1,0]= 0-Q[1,0]\n",
    "print('Q transformed\\n',Qi)\n",
    "determinant = Q[0,0]*Q[1,1]-Q[0,1]*Q[1,0]\n",
    "Qi = Qi/determinant\n",
    "print('and divided by determinant',determinant)\n",
    "print('gives the inverse of Q\\n',Qi)\n",
    "reconstructed = intermediate.dot(Qi)\n",
    "print('and the final reconstruction is\\n',reconstructed)"
   ]
  },
  {
   "cell_type": "markdown",
   "metadata": {},
   "source": [
    "Reconstruct the orinal using all numpy"
   ]
  },
  {
   "cell_type": "code",
   "execution_count": 5,
   "metadata": {},
   "outputs": [
    {
     "name": "stdout",
     "output_type": "stream",
     "text": [
      "reconstruction\n",
      " [[1. 0.]\n",
      " [1. 3.]]\n"
     ]
    }
   ],
   "source": [
    "diagonal = eigenvalues * np.identity(2)\n",
    "R = eigenvectors.dot(diagonal.dot(np.linalg.inv(eigenvectors)))\n",
    "print('reconstruction\\n',R)"
   ]
  },
  {
   "cell_type": "markdown",
   "metadata": {},
   "source": [
    "## Another example\n",
    "From [UTDallas](https://personal.utdallas.edu/~herve/Abdi-EVD2007-pretty.pdf)\n",
    "\n",
    "Eigenvalue 4 has eigenvector column( 3 2 ).\n",
    "Eigenvalue -1 has eigenvector column ( -1 1 ).\n"
   ]
  },
  {
   "cell_type": "code",
   "execution_count": 6,
   "metadata": {},
   "outputs": [
    {
     "name": "stdout",
     "output_type": "stream",
     "text": [
      "original matrix\n",
      " [[2 3]\n",
      " [2 1]]\n",
      "eigenvalues\n",
      " [ 4. -1.]\n",
      "eigenvectors\n",
      " [[ 0.83205029 -0.70710678]\n",
      " [ 0.5547002   0.70710678]]\n"
     ]
    }
   ],
   "source": [
    "A = np.array([[2,3],[2,1]])\n",
    "print('original matrix\\n',A)\n",
    "eigenvalues,eigenvectors=np.linalg.eig(A)\n",
    "print('eigenvalues\\n',eigenvalues)\n",
    "print('eigenvectors\\n',eigenvectors)"
   ]
  },
  {
   "cell_type": "code",
   "execution_count": 7,
   "metadata": {},
   "outputs": [
    {
     "name": "stdout",
     "output_type": "stream",
     "text": [
      "reconstruction\n",
      " [[2. 3.]\n",
      " [2. 1.]]\n"
     ]
    }
   ],
   "source": [
    "diagonal = eigenvalues * np.identity(2)\n",
    "inverse = np.linalg.inv(eigenvectors)\n",
    "reconstruction = eigenvectors.dot(diagonal).dot(inverse)\n",
    "print('reconstruction\\n',reconstruction)"
   ]
  },
  {
   "cell_type": "markdown",
   "metadata": {},
   "source": [
    "Compared to UTDallas, numpy's eigenvalues are the same.  \n",
    "Compared to UTDallas, numpy's eigenvectors are different.   \n",
    "That's ok because eigenvectors are not unique.   \n",
    "If we normalize the Dallas eigenvectors to unit length, we get the numpy values.  "
   ]
  },
  {
   "cell_type": "code",
   "execution_count": 8,
   "metadata": {},
   "outputs": [
    {
     "name": "stdout",
     "output_type": "stream",
     "text": [
      "UTDallas gave these eigenvectors\n",
      " [[ 3 -1]\n",
      " [ 2  1]]\n"
     ]
    }
   ],
   "source": [
    "ev1 = np.array([[3],[2]])  \n",
    "ev2 = np.array([[-1],[1]])  \n",
    "dallas_matrix = np.column_stack( (ev1,ev2) )\n",
    "print('UTDallas gave these eigenvectors\\n',dallas_matrix)"
   ]
  },
  {
   "cell_type": "code",
   "execution_count": 9,
   "metadata": {},
   "outputs": [
    {
     "name": "stdout",
     "output_type": "stream",
     "text": [
      "After length normalization, Dallas matches numpy\n",
      " [[ 0.83205029 -0.70710678]\n",
      " [ 0.5547002   0.70710678]]\n"
     ]
    }
   ],
   "source": [
    "# Convert both eigenvectors to unit vectors \n",
    "len_ev1 = np.sqrt(3**2 + 2**2)\n",
    "norm_ev1 = ev1/len_ev1\n",
    "len_ev2 = np.sqrt(1**2 + 1**2)\n",
    "norm_ev2 = ev2/len_ev2\n",
    "norm_vectors = np.column_stack( (norm_ev1,norm_ev2) )\n",
    "print('After length normalization, Dallas matches numpy\\n',norm_vectors)"
   ]
  },
  {
   "cell_type": "markdown",
   "metadata": {},
   "source": [
    "## The math\n",
    "For eigen decomposition of A,\n",
    "use vector L for the unknown eigen values (L for lambda).   \n",
    "Use identity matrix I to get a diagnonal matrix of eigen values, LI.   \n",
    "Construct matrix A - LI by subtraction.   \n",
    "Set the determinant to zero, as in |A - LI| = 0.   \n",
    "Transform this into a polynomial equation and solve for L.\n",
    "\n",
    "Find the eigenvectors using the eigenvalues using the formula:   \n",
    "$A = Q \\Lambda Q^{-1}$  "
   ]
  },
  {
   "attachments": {
    "Screen%20Shot%202022-11-01%20at%209.29.22%20AM.png": {
     "image/png": "[encoded data removed]"
    }
   },
   "cell_type": "markdown",
   "metadata": {},
   "source": [
    "Here is a nice example of finding the eigenvalues for \n",
    "a 2x2 matrix. Taken from\n",
    "[byjus](https://byjus.com/jee/how-to-determine-the-eigenvalues-of-a-matrix/#:~:text=How%20do%20you%20determine%20the,required%20eigenvalues%20of%20matrix%20A.)\n",
    "![Screen%20Shot%202022-11-01%20at%209.29.22%20AM.png](attachment:Screen%20Shot%202022-11-01%20at%209.29.22%20AM.png)"
   ]
  },
  {
   "cell_type": "code",
   "execution_count": null,
   "metadata": {},
   "outputs": [],
   "source": []
  }
 ],
 "metadata": {
  "kernelspec": {
   "display_name": "Python 3 (ipykernel)",
   "language": "python",
   "name": "python3"
  },
  "language_info": {
   "codemirror_mode": {
    "name": "ipython",
    "version": 3
   },
   "file_extension": ".py",
   "mimetype": "text/x-python",
   "name": "python",
   "nbconvert_exporter": "python",
   "pygments_lexer": "ipython3",
   "version": "3.10.0"
  }
 },
 "nbformat": 4,
 "nbformat_minor": 2
}
