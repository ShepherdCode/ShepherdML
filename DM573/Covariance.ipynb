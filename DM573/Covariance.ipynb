{
 "cells": [
  {
   "cell_type": "markdown",
   "metadata": {},
   "source": [
    "# Covariance matrix\n",
    "Generalization of variance to multivariate cases.\n",
    "\n",
    "Links\n",
    "\n",
    "* [DataSciencePlus](https://datascienceplus.com/understanding-the-covariance-matrix/) plots changes in the covariance matrix, rotates the data by matrix multiply, computes the eigenvalues, and uses the inverse for \"whitening\"."
   ]
  },
  {
   "cell_type": "markdown",
   "metadata": {},
   "source": [
    "## from Variance to Covariance\n",
    "Compute variance over n samples like this:    \n",
    "var(X) = $\\sigma^2(X) = (1/n)\\sum_1^n[(\\mu-x)^2]$  \n",
    "\n",
    "Rewrite variance as covariance of X with itself:    \n",
    "cov(X,X) = $\\sigma(X,X) = (1/n)\\sum_1^n[(\\mu_{x}-x)(\\mu_{x}-x)^T]$  \n",
    "\n",
    "Compute covariance like this:     \n",
    "cov(X,Y) = $\\sigma(X,Y) = (1/n)\\sum_1^n[(\\mu_{x}-x)(\\mu_{y}-y)^T]$  \n",
    "\n",
    "Covariance matrix:  \n",
    "This is a symmetric matrix.   \n",
    "Diagonal elements = Variance(X).   \n",
    "Off-diagonals = Covariance(X,Y).   \n",
    "\n",
    "    Matrix    Circle  WideElipse  TallElipse  DiagonalElipse\n",
    "    XX  XY    1 0     2 0         1 0         1 2\n",
    "    YX  YY    0 1     0 1         0 2         2 1\n",
    "\n"
   ]
  },
  {
   "cell_type": "markdown",
   "metadata": {},
   "source": [
    "## Correlation vs Covariance \n",
    "There are similarities and differences.    \n",
    "Correlation varies from -1 to +1.  \n",
    "+ Positive cor gives a bottom-left to top-right diagonal.  \n",
    "+ Negative cor gives a bottom-right to top-left diagonal.  \n",
    "+ Zero cor implies independence.  \n",
    "\n",
    "Covariance varies from can be anything.  \n",
    "+ Positive off-diagonal cov gives a bottom-left to top-right diagonal.  \n",
    "+ Negative off-diagonal cov gives a bottom-right to top-left diagonal.  \n",
    "+ Zero covariance means statistical independence.  \n",
    "\n",
    "Imagine data tight on the positive diagonal.  \n",
    "The XY correlations are close to 1 because large X correlates to large Y.  \n",
    "But the XY covariances are close to variances.  "
   ]
  },
  {
   "cell_type": "code",
   "execution_count": 1,
   "metadata": {},
   "outputs": [],
   "source": [
    "import numpy as np\n",
    "from scipy.stats import multivariate_normal\n",
    "from numpy.random import normal  # random number generators\n",
    "import matplotlib.pyplot as plt\n",
    "import math"
   ]
  },
  {
   "cell_type": "code",
   "execution_count": 2,
   "metadata": {},
   "outputs": [
    {
     "data": {
      "image/png": "[encoded data removed]",
      "text/plain": [
       "<Figure size 640x480 with 1 Axes>"
      ]
     },
     "metadata": {},
     "output_type": "display_data"
    }
   ],
   "source": [
    "means = np.array([10,10])\n",
    "N = 100\n",
    "covB = np.array([[20, 0], [0, 1]]) # blue : high X variance\n",
    "covR = np.array([[20, 0], [0, 20]]) # red : high X and Y variance, no covariance\n",
    "covG = np.array([[20, -20], [-20, 20]])  # green : covariance close to variance\n",
    "dataB = multivariate_normal.rvs(means, covB, N)\n",
    "dataR = multivariate_normal.rvs(means, covR, N)\n",
    "dataG = multivariate_normal.rvs(means, covG, N)\n",
    "plt.scatter(dataB[:,0],dataB[:,1],color='blue')\n",
    "plt.scatter(dataR[:,0],dataR[:,1],color='red')\n",
    "plt.scatter(dataG[:,0],dataG[:,1],color='green')\n",
    "plt.show()"
   ]
  },
  {
   "cell_type": "markdown",
   "metadata": {},
   "source": [
    "### Using numpy"
   ]
  },
  {
   "cell_type": "markdown",
   "metadata": {},
   "source": [
    "Note on numpy peculiarity noted on [StackOverflow](https://stackoverflow.com/questions/17428621/python-differentiating-between-row-and-column-vectors)   \n",
    "Although np.transpose(2x3matrix) returns a (3x2matrix),   \n",
    "and np.dot(np.transpose) handles the transpose correctly,   \n",
    "numpy transposes matrices for you as needed for calculations,   \n",
    "so you can usually get away without coding the transpose.   \n",
    "In fact, numpy vectors are not inherently row-vectors or column vectors.   \n",
    "So np.transpose(vector) is a no-op.   "
   ]
  },
  {
   "cell_type": "code",
   "execution_count": 3,
   "metadata": {},
   "outputs": [
    {
     "name": "stdout",
     "output_type": "stream",
     "text": [
      "original= [1 2 3] transpose= [1 2 3] dot product: 14\n",
      "Same result without the transpose: 14\n"
     ]
    }
   ],
   "source": [
    "# Demonstrate that numpy does the transpose for you\n",
    "mylist = [1,2,3]\n",
    "myvector = np.array(mylist)\n",
    "print(\"original=\",myvector,\"transpose=\",np.transpose(myvector),\n",
    "      \"dot product:\",myvector.dot(np.transpose(myvector)))\n",
    "print(\"Same result without the transpose:\",myvector.dot(myvector))"
   ]
  },
  {
   "cell_type": "markdown",
   "metadata": {},
   "source": [
    "### Covariance, implemented from scratch \n",
    "(well, using numpy for matrix multiplication)  \n",
    "We'll handle the easiest case: using 2 variables and 2x2 covariance matrix.  \n",
    "The computation requires matrix inverse and matrix determinant.  \n",
    "The computation gets harder at higher dimensions.  \n",
    "In fact, the compute can be impossible (when matrix not positive semidefinite).  \n",
    "So, we'll just implement the simple 2x2 case.  "
   ]
  },
  {
   "cell_type": "code",
   "execution_count": 4,
   "metadata": {},
   "outputs": [],
   "source": [
    "def roll_matrix(a,b,c,d):  # return 2x2 array\n",
    "    M = np.zeros((2,2))\n",
    "    M[0,0] = a\n",
    "    M[0,1] = b\n",
    "    M[1,0] = c\n",
    "    M[1,1] = d\n",
    "    return M\n",
    "def unroll_matrix(M):    # return matrix as tuple\n",
    "    a = M[0,0]\n",
    "    b = M[0,1]\n",
    "    c = M[1,0]\n",
    "    d = M[1,1]\n",
    "    return a,b,c,d\n",
    "def determinant(M):      # determinant of 2x2 matrix\n",
    "    a,b,c,d = unroll_matrix(M)\n",
    "    det = a*d - b*c\n",
    "    return det\n",
    "def inverse(M):          # inverse of 2x2 matrix (may not exist)\n",
    "    det = determinant(M)\n",
    "    if det==0:\n",
    "        return None\n",
    "    denominator = 1 / det\n",
    "    tup = unroll_matrix(M)\n",
    "    a,b,c,d = tuple(t/denominator for t in tup) \n",
    "    IM = roll_matrix(d,-b,-c,a)\n",
    "    return IM"
   ]
  },
  {
   "cell_type": "markdown",
   "metadata": {},
   "source": [
    "mahalanobis_distance = $\\sqrt{(X-\\mu)\\Sigma^{-1}(X-\\mu)^{T}}$"
   ]
  },
  {
   "cell_type": "code",
   "execution_count": 5,
   "metadata": {},
   "outputs": [],
   "source": [
    "# Use numpy for dot product = inner product = sum ai*bi.\n",
    "def mahalanobis_distance_squared(X,means,cov):   # distance X from distribution, used by Gauss\n",
    "    inv = inverse(cov) # inverse: 2x2 matrix\n",
    "    dev = np.subtract(X,means) # X - mu elementwise vector subtraction\n",
    "    prod = dev.dot(inv).dot(dev)   # (deviation)(inverse Sigma)(deviation)\n",
    "    # actual distance is the sqrt of this\n",
    "    return prod\n",
    "def multivariate_gaussian_prob(X,means,cov):\n",
    "    \"\"\"Shapes X:1x2, means:1x2, covariance:2x2\"\"\"\n",
    "    dimensionality = 2  # assumed\n",
    "    exponent = dimensionality/2  # 1D data uses sqrt, 2D data uses no exponent\n",
    "    det = determinant(cov) # determinant: scalar\n",
    "    constant = 1/(math.sqrt(det)*(2*math.pi)**exponent) # scalar. At D=2, exp=1\n",
    "    mds = mahalanobis_distance_squared(X,means,cov)\n",
    "    exponent = (-1/2)*mds\n",
    "    prob = constant * math.exp(exponent)\n",
    "    return prob"
   ]
  },
  {
   "cell_type": "markdown",
   "metadata": {},
   "source": [
    "### Test our results against scipy"
   ]
  },
  {
   "cell_type": "code",
   "execution_count": 6,
   "metadata": {},
   "outputs": [
    {
     "name": "stdout",
     "output_type": "stream",
     "text": [
      "Point at dead center\n",
      "Our value: 0.15915494309189535\n",
      "Lib value: 0.1591549430918954\n"
     ]
    }
   ],
   "source": [
    "from scipy.stats import multivariate_normal\n",
    "means = np.asarray( (5,3) )\n",
    "cov = roll_matrix(10,3,3,1)\n",
    "X = np.asarray( (5,3) )   \n",
    "lib=multivariate_normal(mean=[5,3], cov=[[10,3],[3,1]])\n",
    "print(\"Point at dead center\")\n",
    "print(\"Our value:\",multivariate_gaussian_prob(X,means,cov))\n",
    "print(\"Lib value:\",lib.pdf(X))"
   ]
  },
  {
   "cell_type": "code",
   "execution_count": 7,
   "metadata": {},
   "outputs": [
    {
     "name": "stdout",
     "output_type": "stream",
     "text": [
      "Point at Y center, off-center X\n",
      "High variance of X makes this pretty likely\n",
      "Our value: 0.09653235263005391\n",
      "Lib value: 0.09653235263005393\n"
     ]
    }
   ],
   "source": [
    "X = np.asarray( (6,3) ) \n",
    "print(\"Point at Y center, off-center X\")\n",
    "print(\"High variance of X makes this pretty likely\")\n",
    "print(\"Our value:\",multivariate_gaussian_prob(X,means,cov))\n",
    "print(\"Lib value:\",lib.pdf(X))"
   ]
  },
  {
   "cell_type": "code",
   "execution_count": 8,
   "metadata": {},
   "outputs": [
    {
     "name": "stdout",
     "output_type": "stream",
     "text": [
      "Point at Y off-center, center X\n",
      "Low variance of Y makes this pretty unlikely\n",
      "Our value: 0.0010723775711956546\n",
      "Lib value: 0.0010723775711956479\n"
     ]
    }
   ],
   "source": [
    "X = np.asarray( (5,4) )  \n",
    "print(\"Point at Y off-center, center X\")\n",
    "print(\"Low variance of Y makes this pretty unlikely\")\n",
    "print(\"Our value:\",multivariate_gaussian_prob(X,means,cov))\n",
    "print(\"Lib value:\",lib.pdf(X))"
   ]
  },
  {
   "cell_type": "code",
   "execution_count": null,
   "metadata": {},
   "outputs": [],
   "source": []
  },
  {
   "cell_type": "code",
   "execution_count": null,
   "metadata": {},
   "outputs": [],
   "source": []
  }
 ],
 "metadata": {
  "kernelspec": {
   "display_name": "Python 3 (ipykernel)",
   "language": "python",
   "name": "python3"
  },
  "language_info": {
   "codemirror_mode": {
    "name": "ipython",
    "version": 3
   },
   "file_extension": ".py",
   "mimetype": "text/x-python",
   "name": "python",
   "nbconvert_exporter": "python",
   "pygments_lexer": "ipython3",
   "version": "3.10.0"
  }
 },
 "nbformat": 4,
 "nbformat_minor": 2
}
