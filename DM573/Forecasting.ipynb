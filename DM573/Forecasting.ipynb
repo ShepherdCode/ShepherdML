{
 "cells": [
  {
   "cell_type": "markdown",
   "metadata": {},
   "source": [
    "# Forecasting"
   ]
  },
  {
   "cell_type": "markdown",
   "metadata": {},
   "source": [
    "Time series models:\n",
    "* trend? \n",
    "** use linear, quadratic, or exponential least squares\n",
    "** or use autoregressive model\n",
    "* no trend? \n",
    "** use moving average \n",
    "** or use exponential smoothing"
   ]
  },
  {
   "cell_type": "markdown",
   "metadata": {},
   "source": [
    "Causal models \n",
    "* use regression\n",
    "* NEED MORE ON THIS"
   ]
  },
  {
   "cell_type": "markdown",
   "metadata": {},
   "source": [
    "Multiplicative time series models:\n",
    "    \n",
    "Y = T * C * S * I = trend * cycles * seasonal effects * irregular effects. "
   ]
  },
  {
   "cell_type": "markdown",
   "metadata": {},
   "source": [
    "## Moving average models\n",
    "Think of each new data point as the middle of a window.   \n",
    "Window size should be odd for plots using window centers.   \n",
    "Gives equal weight to every part of the window.   \n",
    "This stabilizes the trend with respect to a recent outlier.  \n",
    "Describes the past; does not (directly) predict the future.  "
   ]
  },
  {
   "cell_type": "markdown",
   "metadata": {},
   "source": [
    "Example:  \n",
    "* Given data D1, D2, D3.\n",
    "* Compute mean M2 = mean(D1,D2,D3).\n",
    "* Plot M2 at time=2. \n",
    "* Given more data, we could fit a line to the plot, and predict the future. "
   ]
  },
  {
   "cell_type": "markdown",
   "metadata": {},
   "source": [
    "## Exponential smoothing\n",
    "Whereas moving average uses a fixed size window of arbitrary size...   \n",
    "Exponential smoothing incorporates all prior data.   \n",
    "A parameter determines the relative weight of recent vs past.  "
   ]
  },
  {
   "cell_type": "markdown",
   "metadata": {},
   "source": [
    "$w$: the mixing weight parameter, between zero and one.   \n",
    "$D_i$: incomimg data at time i.   \n",
    "$E_i$: exponential smoothing factor, computed with Di and Di-1, for use forecasting i+1.  \n",
    "$Y_i$: forecast for Di is Ei-1, which was computed before seeing the actual Di.   \n",
    "\n",
    "Example:\n",
    "* Given D1.  E1= D1,  Y1=n/a.    \n",
    "* Given D2.  E2= wD2 + (1-w)E1,  Y2=E1.   \n",
    "* Given D3.  E3= wD3 + (1-w)E2,  Y3=E2.      \n",
    "* Given D4.  E4= wD4 + (1-w)E3,  Y4=E3.  \n",
    "* Note exponential decay of past values: E3 = wD3 + w(1-w)D2 + (1-w)^2 D1.\n",
    "* Note exponential decay of past values: E4 = wD4 + w(1-w)D3 + w(1-w)^2 D2 + (1-w)^3 D1.\n",
    "\n",
    "Example: w=0.8 upweights the recent past\n",
    "* Given D1.  E1= D1,  Y1=n/a.    \n",
    "* Given D2.  E2= (.8)D2 + (.2)D1,  Y2=E1.   \n",
    "* Given D3.  E3= (.8)D3 + (.2)E2,  Y3=E2.     \n",
    "* Given D4.  E4= (.8)D4 + (.2)E3,  Y4=E3. \n",
    "* Note eponential decay: E3 = (.8)D3 + (.16)D2 + (.04)D1. \n",
    "* Note eponential decay: E4 = (.8)D4 + (.16)D3 + (.032)D2 + (.008)D1. \n",
    "* D1 accounts for less than 1% of the forecast at time 4.\n",
    "* Note sum of coefficients is 1.    \n",
    "\n",
    "Example: w=0.2 upweights the longer trend\n",
    "* Given D1.  E1= D1,  Y1=n/a.    \n",
    "* Given D2.  E2= (.2)D2 + (.8)D1,  Y2=E1.   \n",
    "* Given D3.  E3= (.2)D3 + (.8)E2,  Y3=E2.   \n",
    "* Given D4.  E4= (.2)D4 + (.8)E3,  Y4=E3.     \n",
    "* Note exponential decay: E3 = (.2)D3 + (.16)D2 + (.64)D1. \n",
    "* Note exponential decay: E4 = (.2)D4 + (.16)D3 + (.128)D2 + (.512)D1.\n",
    "* D1 still accounts for 50% of the forecast at time 4.     \n",
    "* Note sum of coefficients is 1.    "
   ]
  },
  {
   "cell_type": "markdown",
   "metadata": {},
   "source": [
    "## Regression methods"
   ]
  },
  {
   "cell_type": "markdown",
   "metadata": {},
   "source": [
    "Residual = error in prediction, portion of data left unexplained.  \n",
    "Ordinary Least Squares = minimize the sum of squared residuals.   \n",
    "\"Ordinary\" means as opposed to weighted or other scheme.   \n",
    "Perform linear regression to optimize the coefficients of a model.  \n",
    "Univariate = one regressor.   \n",
    "Multivariate = multiple regressors.  \n",
    "\n",
    "Can regress to any kind of model:\n",
    "* Linear: y = a + bx\n",
    "* Quadratic: y = a +bx + cx^2\n",
    "* Exponential: y = a + b * c^x\n",
    "* Log equivalent: log(y) = log(b) + x * log(c)"
   ]
  },
  {
   "cell_type": "markdown",
   "metadata": {},
   "source": [
    "## ARIMA and ACF"
   ]
  },
  {
   "cell_type": "markdown",
   "metadata": {},
   "source": [
    "ARMA and ARIMA\n",
    "Use a Combination of 3 models to predict value at time i.   \n",
    "The combination is controlled by 3 hyperparameters: ARIMA(p,d,q).   \n",
    "Multivariate extensions have names like SARIMA and FARIMA.\n",
    "\n",
    "* AR(p) = Auto Regression: a linear combination of times i-1 to i-p\n",
    "* I(d) = Differencing: some constant amount of change, a steady increase by d\n",
    "* MA(q) = Moving Average: the trend indicated by averages of windows of width q\n",
    "\n",
    "\n",
    "ACF and PACF estimate the parameters of ARIMA.\n",
    "\n",
    "* ACF = complete auto-correlation function, assumes MA cut-off after lag q\n",
    "* PACF = partial auto-correlation function, assumes AR cut-off after lag p"
   ]
  },
  {
   "cell_type": "markdown",
   "metadata": {},
   "source": [
    "## Ensemble methods\n",
    "Decision trees (DT) are simple and random forest (RF) is popular.   \n",
    "RF is a bag of trees.  \n",
    "\n",
    "Bagging = bootstrap + aggregation\n",
    "* Bootstrap i.e. form data subsets by random sampling with replacement.\n",
    "* Train a model, such as DT, for each subset.\n",
    "* Aggregate i.e. by average of all predictions.\n",
    "\n",
    "Training\n",
    "* Transform the time series data into a (features,label) training set.\n",
    "* Conduct supervised learning.\n",
    "* Validate on unseen data. \n",
    "* Out-of-bag (OOB) error: measure each model on the data it didn't see.\n",
    "\n",
    "Cross-validation\n",
    "* Use walk-forward validation.\n",
    "* Choose a cut point. Train on data before the cut. Test on data after the cut.\n",
    "* For k-fold, walk the cut point forward. "
   ]
  },
  {
   "cell_type": "markdown",
   "metadata": {},
   "source": [
    "## Residuals analysis\n",
    "Evaluate the quality of a forecasting model.   \n",
    "Measure total residual: mean absolute deviation (MAD) or sum of squares (SSE).  \n",
    "Look for bias: under at start, over at end, averages to zero.   \n",
    "Look for cycles: goes under and over every season, averages to zero.   \n",
    "Apply parsimony: prefer the simpler model.  "
   ]
  },
  {
   "cell_type": "code",
   "execution_count": null,
   "metadata": {},
   "outputs": [],
   "source": []
  }
 ],
 "metadata": {
  "kernelspec": {
   "display_name": "Python 3",
   "language": "python",
   "name": "python3"
  },
  "language_info": {
   "codemirror_mode": {
    "name": "ipython",
    "version": 3
   },
   "file_extension": ".py",
   "mimetype": "text/x-python",
   "name": "python",
   "nbconvert_exporter": "python",
   "pygments_lexer": "ipython3",
   "version": "3.8.3"
  }
 },
 "nbformat": 4,
 "nbformat_minor": 2
}
