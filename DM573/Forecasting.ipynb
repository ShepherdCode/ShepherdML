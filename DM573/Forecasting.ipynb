{
 "cells": [
  {
   "cell_type": "markdown",
   "metadata": {},
   "source": [
    "# Forecasting"
   ]
  },
  {
   "cell_type": "markdown",
   "metadata": {},
   "source": [
    "Time series models:\n",
    "* no trend? use moving average, exponential smoothing\n",
    "* trend? use linear, quadratic, exponential, or autoregressive model."
   ]
  },
  {
   "cell_type": "markdown",
   "metadata": {},
   "source": [
    "Causal models \n",
    "* use regression\n",
    "* NEED MORE ON THIS"
   ]
  },
  {
   "cell_type": "markdown",
   "metadata": {},
   "source": [
    "Multiplicative time series models:\n",
    "    \n",
    "Y = T * C * S * I = trend * cycles * seasonal effects * irregular effects. "
   ]
  },
  {
   "cell_type": "markdown",
   "metadata": {},
   "source": [
    "## Moving average models"
   ]
  },
  {
   "cell_type": "markdown",
   "metadata": {},
   "source": [
    "Think of each new data point as the middle of a window. Window size should be odd."
   ]
  },
  {
   "cell_type": "markdown",
   "metadata": {},
   "source": [
    "## Exponential smoothing"
   ]
  },
  {
   "cell_type": "markdown",
   "metadata": {},
   "source": [
    "w: a mixing weight, 0<w<1. Low w discounts the recent past, high w emphasizes it.   \n",
    "Di: incomimg data at time i.   \n",
    "Ei: exponential smoothing factor, computed with Di, for use forecasting i+1.  \n",
    "Yi: forecast for Di is Ei-1, which was computed before seeing the actual Di.   \n",
    "\n",
    "Example:\n",
    "* Given D1.  E1= D1,  Y1=n/a.    \n",
    "* Given D2.  E2= wD2 + (1-w)E1,  Y2=E1.   \n",
    "* Given D3.  E3= wD3 + (1-w)E2,  Y3=E2.      \n",
    "* Given D4.  E4= wD4 + (1-w)E3,  Y4=E3.  \n",
    "* Note exponential decay of past values: E3 = wD3 + w(1-w)D2 + (1-w)^2 D1.\n",
    "* Note exponential decay of past values: E4 = wD4 + w(1-w)D3 + w(1-w)^2 D2 + (1-w)^3 D1.\n",
    "\n",
    "Example: w=0.2 upweights the longer trend\n",
    "* Given D1.  E1= D1,  Y1=n/a.    \n",
    "* Given D2.  E2= (.2)D2 + (.8)D1,  Y2=E1.   \n",
    "* Given D3.  E3= (.2)D3 + (.8)E2,  Y3=E2.   \n",
    "* Given D4.  E4= (.2)D4 + (.8)E3,  Y4=E3.     \n",
    "* Note exponential decay: E3 = (.2)D3 + (.16)D2 + (.64)D1. \n",
    "* Note exponential decay: E4 = (.2)D4 + (.16)D3 + (.128)D2 + (.512)D1.\n",
    "* D1 still accounts for 50% of the forecast Y4.     \n",
    "* Note sum of coefficients is 1.    \n",
    "\n",
    "Example: w=0.8 upweights the recent past\n",
    "* Given D1.  E1= D1,  Y1=n/a.    \n",
    "* Given D2.  E2= (.8)D2 + (.2)D1,  Y2=E1.   \n",
    "* Given D3.  E3= (.8)D3 + (.2)E2,  Y3=E2.     \n",
    "* Given D4.  E4= (.8)D4 + (.2)E3,  Y4=E3. \n",
    "* Note eponential decay: E3 = (.8)D3 + (.16)D2 + (.04)D1. \n",
    "* Note eponential decay: E4 = (.8)D4 + (.16)D3 + (.032)D2 + (.008)D1. \n",
    "* D1 accounts for less than 1% of the forecast Y4.\n",
    "* Note sum of coefficients is 1.    \n"
   ]
  },
  {
   "cell_type": "code",
   "execution_count": null,
   "metadata": {},
   "outputs": [],
   "source": []
  }
 ],
 "metadata": {
  "kernelspec": {
   "display_name": "Python 3",
   "language": "python",
   "name": "python3"
  },
  "language_info": {
   "codemirror_mode": {
    "name": "ipython",
    "version": 3
   },
   "file_extension": ".py",
   "mimetype": "text/x-python",
   "name": "python",
   "nbconvert_exporter": "python",
   "pygments_lexer": "ipython3",
   "version": "3.8.3"
  }
 },
 "nbformat": 4,
 "nbformat_minor": 2
}
