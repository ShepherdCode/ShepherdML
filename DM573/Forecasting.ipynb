{
 "cells": [
  {
   "cell_type": "markdown",
   "metadata": {},
   "source": [
    "# Forecasting"
   ]
  },
  {
   "cell_type": "markdown",
   "metadata": {},
   "source": [
    "Causal models use regression.\n",
    "\n",
    "Time series models:\n",
    "* no trend: moving average, exponential smoothing\n",
    "* trend: linear, quadratic, exponential, or autoregressive model."
   ]
  },
  {
   "cell_type": "markdown",
   "metadata": {},
   "source": [
    "Multiplicative time series model: trend, cycles, seasonal effects, irregular effects.  \n",
    "Y = T * C * S * I\n",
    "\n",
    "Moving average: each new data point is the middle of an odd-width window.\n",
    "\n",
    "Exponential smoothing E uses weight 0<w<1 to mix past with the most recent time point.  \n",
    "\n",
    "Given data D at times 1,2,3,4, compute smoothing factors E, and forecasts Y:   \n",
    "\n",
    "Given D1,  E1= D1,  Y1=n/a.    \n",
    "Given D2,  E2= wD2 + (1-w)D1,  Y2=D1.   \n",
    "Given D3,  E3= wD3 + (1-w)E2,  Y3=E2. Note E3 = wD3 + w(1-w)D2 + (1-w)(1-w)D1.     \n",
    "Given D4,  E4= wD4 + (1-w)E3,  Y4=E3. Note E4 = wD4 + w(1-w)D3 + w(1-w)^2 D2 + (1-w)^3 D1.   \n",
    "\n",
    "For w=0.2    \n",
    "Given D1,  E1= D1,  Y1=n/a.    \n",
    "Given D2,  E2= (.2)D2 + (.8)D1,  Y2=D1.   \n",
    "Given D3,  E3= (.2)D3 + (.8)E2,  Y3=E2. Note E3 = (.2)D3 + (.16)D2 + (.64)D1.   \n",
    "Given D4,  E4= (.2)D4 + (.8)E3,  Y4=E3. Note E4 = (.2)D4 + (.16)D3 + (.128)D2 + (.512)D1.     \n",
    "Note sum of coefficients is 1.    \n",
    "D1 remains important initially but drops over time.     \n",
    "\n",
    "For w=0.8    \n",
    "Given D1,  E1= D1,  Y1=n/a.    \n",
    "Given D2,  E2= (.8)D2 + (.2)D1,  Y2=D1.   \n",
    "Given D3,  E3= (.8)D3 + (.2)E2,  Y3=E2. Note E3 = (.8)D3 + (.16)D2 + (.04)D1.    \n",
    "Given D4,  E4= (.8)D4 + (.2)E3,  Y4=E3. Note E4 = (.8)D4 + (.16)D3 + (.032)D2 + (.008)D1.    \n",
    "Note sum of coefficients is 1.    \n",
    "D1 rapidly drops out of memory.        \n"
   ]
  },
  {
   "cell_type": "code",
   "execution_count": null,
   "metadata": {},
   "outputs": [],
   "source": []
  }
 ],
 "metadata": {
  "kernelspec": {
   "display_name": "Python 3",
   "language": "python",
   "name": "python3"
  },
  "language_info": {
   "codemirror_mode": {
    "name": "ipython",
    "version": 3
   },
   "file_extension": ".py",
   "mimetype": "text/x-python",
   "name": "python",
   "nbconvert_exporter": "python",
   "pygments_lexer": "ipython3",
   "version": "3.8.3"
  }
 },
 "nbformat": 4,
 "nbformat_minor": 2
}
