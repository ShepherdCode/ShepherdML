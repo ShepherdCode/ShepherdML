{
 "cells": [
  {
   "cell_type": "markdown",
   "metadata": {},
   "source": [
    "# Dense Neural Network\n",
    "A dense NN is also called a Fully Connected (FC) or Multi-Layer Perceptron (MLP).   "
   ]
  },
  {
   "cell_type": "markdown",
   "metadata": {},
   "source": [
    "## Architecture\n",
    "The network consists of layers which consist of neurons.\n",
    "\n",
    "Layers:    \n",
    "The neural network architecture is: \n",
    "Input Layer that reads features | \n",
    "Internal Layer(s) that have trainable weights | \n",
    "Output Layer that produces scores.\n",
    "The input layer should have one neuron per feature of the input vector.\n",
    "The output layer should have one neuron per label that needs to be predicted.\n",
    "A deep NN has many internal layers.\n",
    "\n",
    "Neurons:    \n",
    "Each layer consists of Neurons.\n",
    "Neurons consist of Weighted Inputs | Summation | Activation Function | Output.\n",
    "With non-linear activations, the network can model any non-linear function.\n",
    "Each neuron also has one weighted input called the bias.\n",
    "The bias is merely for scaling the output, \n",
    "equivalent to the y-intercept b in the linear equation y=mx+b.\n",
    "\n",
    "MLP:    \n",
    "In the MLP architecture, \n",
    "neurons have no connections to other neurons in the same layer,\n",
    "but they are connected to every neuron in the layers immediately before and after.\n",
    "\n"
   ]
  },
  {
   "cell_type": "markdown",
   "metadata": {},
   "source": [
    "## Training\n",
    "Trainable parameters:  \n",
    "The model as trainable weights on every edge.\n",
    "The weights are initialized randomly (e.g. by the glorot_uniform algorithm).\n",
    "\n",
    "One forward calculation:  \n",
    "The model is shown one data instance from the labeled training set.\n",
    "Using the weights and activations, the output scores are computed.\n",
    "\n",
    "One back propagation:   \n",
    "For each labeled training instance, the actual scores are known.\n",
    "A loss function is applied to the calculated as actual minus difference.\n",
    "The partial derivative of the loss, with respect to each input, provides a gradient.\n",
    "The gradient tells the amount and direction that each input contributed to the loss.\n",
    "Using partial derivatives of the activations,\n",
    "the total loss is distributed, such that every neuron accepts some portion of the loss. \n",
    "Finally, the weight of each neuron's output is updated\n",
    "in the opposite direction of the gradient, so as to reduce the loss.\n",
    "The size of the update can be controlled by a learn rate parameter.\n",
    "\n",
    "Gradient descent:   \n",
    "The back propagation can apply to the loss over any number of instances, called a batch.\n",
    "If the batch size is 1, and each next training instance is chosen randomly,\n",
    "that is called \"stochastic gradient descent.\"\n",
    "If the batch size equals the whole training set,\n",
    "that is called \"batch gradient descent\" but it is computationally prohibitive.\n",
    "In keras, the default batch size is 32, \n",
    "and instances within each batch are used in random order.\n",
    "\n",
    "Epoch:   \n",
    "When all the training samples have been used once, the model has been trained for one epoch.\n",
    "It is usually necessary to train a model for many epochs."
   ]
  },
  {
   "cell_type": "markdown",
   "metadata": {},
   "source": [
    "## Evaluation\n",
    "Validiation cycles:   \n",
    "We train a model on a training set.\n",
    "We evaluate the model on a separate validation set.\n",
    "In cycles, we adjust the model architecture and hyperparameters\n",
    "until the validation accuracy looks good.\n",
    "Finally, we measure the true accuracy on the previously-unused test data.\n",
    "\n",
    "Test set:   \n",
    "Some portion of the data, maybe 20%, is set aside for post-training evaluation.\n",
    "It is very important to avoid looking within the test set.\n",
    "Otherwise, the model accuracy could be artificially and inadvertently inflated.\n",
    "\n",
    "Validation set:   \n",
    "Some portion of the remaining data, maybe 20%, is set aside for hyperparameter tuning.\n",
    "For instance, should the deep neural network have 10 layers or 20?\n",
    "The model gets trained and evaluated and then tuned in cycles.\n",
    "It is important to avoid using any validation data for training, and vice-versa.\n",
    "Otherwise, the validation accuracy could be inflated.\n",
    "\n",
    "Training set:   \n",
    "After removing the test and validation data, the training set is what remains.\n",
    "\n",
    "Cross validation:   \n",
    "This is used to alleviate a data shortage,\n",
    "when we would rather not have to set aside a validation set.\n",
    "In 5-fold cross-validation, we make 5 mutually exclusive partions,\n",
    "of 80% train and 20% valid. \n",
    "Each data instaince will be used 4 times for training and 1 time for validation.\n",
    "The total validation accuracy is the mean of 5 rounds of training & validation.\n",
    "After model tuning is complete, the full dataset is used to retrain the model.\n",
    "The model thus trained is then evaluated on the previously-unseen test set."
   ]
  },
  {
   "cell_type": "code",
   "execution_count": 1,
   "metadata": {},
   "outputs": [
    {
     "name": "stdout",
     "output_type": "stream",
     "text": [
      "2022-09-05 15:09:00.792336\n",
      "Python 3.10.0\n"
     ]
    }
   ],
   "source": [
    "import datetime\n",
    "print(datetime.datetime.now())\n",
    "from platform import python_version\n",
    "print('Python',python_version())\n",
    "import csv\n",
    "import numpy as np\n",
    "import pandas as pd\n",
    "import matplotlib.pyplot as plt"
   ]
  },
  {
   "cell_type": "code",
   "execution_count": 2,
   "metadata": {},
   "outputs": [],
   "source": [
    "import tensorflow as tf\n",
    "from tensorflow import keras\n",
    "from keras import layers\n",
    "from sklearn.model_selection import StratifiedKFold"
   ]
  },
  {
   "cell_type": "markdown",
   "metadata": {},
   "source": [
    "## The Dataset\n",
    "Iris:   \n",
    "We'll use the Iris dataset,\n",
    "famous because it was used in a regression paper by R.A. Fisher.\n",
    "There are 150 data instances, each a flower with 4 numeric features.\n",
    "Each instance is one of 3 species, labled 0, 1, 2.\n",
    "\n",
    "Shuffle:  \n",
    "The data are provided in order (0s first, 2s last).\n",
    "We must avoid training on 0s and testing on 2s, so we shuffle the rows.\n",
    "In our experiments on this page, the shuffle step was critical.\n",
    "\n",
    "Normalize:   \n",
    "Some features have larger values and larger variances than others.\n",
    "We must not let the model infer feature importance from those attributes.\n",
    "We use a library function that applies mean-center and unit-variance.\n",
    "This made no difference in our experiments on this data, but it could have."
   ]
  },
  {
   "cell_type": "code",
   "execution_count": 3,
   "metadata": {},
   "outputs": [
    {
     "name": "stdout",
     "output_type": "stream",
     "text": [
      "shape (150, 4)\n",
      "features ['sepal length (cm)', 'sepal width (cm)', 'petal length (cm)', 'petal width (cm)']\n",
      "labels ['setosa' 'versicolor' 'virginica']\n",
      "X shape (150, 4)\n",
      "y shape (150,)\n"
     ]
    }
   ],
   "source": [
    "from sklearn import datasets\n",
    "from sklearn.utils import shuffle\n",
    "iris = datasets.load_iris()\n",
    "print('shape',iris.data.shape)\n",
    "print('features',iris.feature_names)\n",
    "print('labels',iris.target_names)\n",
    "X = iris.data\n",
    "y = iris.target\n",
    "# At start, all species=0 come first and all species=2 come last.\n",
    "# Important to shuffle rows before doing train/test split and train/valid split.\n",
    "# Another way is using the sklearn train_test_split class.\n",
    "X, y = shuffle(X, y, random_state=0)\n",
    "print('X shape',X.shape)\n",
    "print('y shape',y.shape)\n",
    "num_instances = X.shape[0]\n",
    "num_features =  X.shape[1]"
   ]
  },
  {
   "cell_type": "code",
   "execution_count": 4,
   "metadata": {},
   "outputs": [
    {
     "data": {
      "text/plain": [
       "array([[5.8, 2.8, 5.1, 2.4],\n",
       "       [6. , 2.2, 4. , 1. ],\n",
       "       [5.5, 4.2, 1.4, 0.2],\n",
       "       [7.3, 2.9, 6.3, 1.8],\n",
       "       [5. , 3.4, 1.5, 0.2],\n",
       "       [6.3, 3.3, 6. , 2.5],\n",
       "       [5. , 3.5, 1.3, 0.3],\n",
       "       [6.7, 3.1, 4.7, 1.5],\n",
       "       [6.8, 2.8, 4.8, 1.4],\n",
       "       [6.1, 2.8, 4. , 1.3],\n",
       "       [6.1, 2.6, 5.6, 1.4],\n",
       "       [6.4, 3.2, 4.5, 1.5],\n",
       "       [6.1, 2.8, 4.7, 1.2],\n",
       "       [6.5, 2.8, 4.6, 1.5],\n",
       "       [6.1, 2.9, 4.7, 1.4],\n",
       "       [4.9, 3.6, 1.4, 0.1],\n",
       "       [6. , 2.9, 4.5, 1.5],\n",
       "       [5.5, 2.6, 4.4, 1.2],\n",
       "       [4.8, 3. , 1.4, 0.3],\n",
       "       [5.4, 3.9, 1.3, 0.4],\n",
       "       [5.6, 2.8, 4.9, 2. ],\n",
       "       [5.6, 3. , 4.5, 1.5],\n",
       "       [4.8, 3.4, 1.9, 0.2],\n",
       "       [4.4, 2.9, 1.4, 0.2],\n",
       "       [6.2, 2.8, 4.8, 1.8],\n",
       "       [4.6, 3.6, 1. , 0.2],\n",
       "       [5.1, 3.8, 1.9, 0.4],\n",
       "       [6.2, 2.9, 4.3, 1.3],\n",
       "       [5. , 2.3, 3.3, 1. ],\n",
       "       [5. , 3.4, 1.6, 0.4],\n",
       "       [6.4, 3.1, 5.5, 1.8],\n",
       "       [5.4, 3. , 4.5, 1.5],\n",
       "       [5.2, 3.5, 1.5, 0.2],\n",
       "       [6.1, 3. , 4.9, 1.8],\n",
       "       [6.4, 2.8, 5.6, 2.2],\n",
       "       [5.2, 2.7, 3.9, 1.4],\n",
       "       [5.7, 3.8, 1.7, 0.3],\n",
       "       [6. , 2.7, 5.1, 1.6],\n",
       "       [5.9, 3. , 4.2, 1.5],\n",
       "       [5.8, 2.6, 4. , 1.2],\n",
       "       [6.8, 3. , 5.5, 2.1],\n",
       "       [4.7, 3.2, 1.3, 0.2],\n",
       "       [6.9, 3.1, 5.1, 2.3],\n",
       "       [5. , 3.5, 1.6, 0.6],\n",
       "       [5.4, 3.7, 1.5, 0.2],\n",
       "       [5. , 2. , 3.5, 1. ],\n",
       "       [6.5, 3. , 5.5, 1.8],\n",
       "       [6.7, 3.3, 5.7, 2.5],\n",
       "       [6. , 2.2, 5. , 1.5],\n",
       "       [6.7, 2.5, 5.8, 1.8],\n",
       "       [5.6, 2.5, 3.9, 1.1],\n",
       "       [7.7, 3. , 6.1, 2.3],\n",
       "       [6.3, 3.3, 4.7, 1.6],\n",
       "       [5.5, 2.4, 3.8, 1.1],\n",
       "       [6.3, 2.7, 4.9, 1.8],\n",
       "       [6.3, 2.8, 5.1, 1.5],\n",
       "       [4.9, 2.5, 4.5, 1.7],\n",
       "       [6.3, 2.5, 5. , 1.9],\n",
       "       [7. , 3.2, 4.7, 1.4],\n",
       "       [6.5, 3. , 5.2, 2. ],\n",
       "       [6. , 3.4, 4.5, 1.6],\n",
       "       [4.8, 3.1, 1.6, 0.2],\n",
       "       [5.8, 2.7, 5.1, 1.9],\n",
       "       [5.6, 2.7, 4.2, 1.3],\n",
       "       [5.6, 2.9, 3.6, 1.3],\n",
       "       [5.5, 2.5, 4. , 1.3],\n",
       "       [6.1, 3. , 4.6, 1.4],\n",
       "       [7.2, 3.2, 6. , 1.8],\n",
       "       [5.3, 3.7, 1.5, 0.2],\n",
       "       [4.3, 3. , 1.1, 0.1],\n",
       "       [6.4, 2.7, 5.3, 1.9],\n",
       "       [5.7, 3. , 4.2, 1.2],\n",
       "       [5.4, 3.4, 1.7, 0.2],\n",
       "       [5.7, 4.4, 1.5, 0.4],\n",
       "       [6.9, 3.1, 4.9, 1.5],\n",
       "       [4.6, 3.1, 1.5, 0.2],\n",
       "       [5.9, 3. , 5.1, 1.8],\n",
       "       [5.1, 2.5, 3. , 1.1],\n",
       "       [4.6, 3.4, 1.4, 0.3],\n",
       "       [6.2, 2.2, 4.5, 1.5],\n",
       "       [7.2, 3.6, 6.1, 2.5],\n",
       "       [5.7, 2.9, 4.2, 1.3],\n",
       "       [4.8, 3. , 1.4, 0.1],\n",
       "       [7.1, 3. , 5.9, 2.1],\n",
       "       [6.9, 3.2, 5.7, 2.3],\n",
       "       [6.5, 3. , 5.8, 2.2],\n",
       "       [6.4, 2.8, 5.6, 2.1],\n",
       "       [5.1, 3.8, 1.6, 0.2],\n",
       "       [4.8, 3.4, 1.6, 0.2],\n",
       "       [6.5, 3.2, 5.1, 2. ],\n",
       "       [6.7, 3.3, 5.7, 2.1],\n",
       "       [4.5, 2.3, 1.3, 0.3],\n",
       "       [6.2, 3.4, 5.4, 2.3],\n",
       "       [4.9, 3. , 1.4, 0.2],\n",
       "       [5.7, 2.5, 5. , 2. ],\n",
       "       [6.9, 3.1, 5.4, 2.1],\n",
       "       [4.4, 3.2, 1.3, 0.2],\n",
       "       [5. , 3.6, 1.4, 0.2],\n",
       "       [7.2, 3. , 5.8, 1.6],\n",
       "       [5.1, 3.5, 1.4, 0.3],\n",
       "       [4.4, 3. , 1.3, 0.2],\n",
       "       [5.4, 3.9, 1.7, 0.4],\n",
       "       [5.5, 2.3, 4. , 1.3],\n",
       "       [6.8, 3.2, 5.9, 2.3],\n",
       "       [7.6, 3. , 6.6, 2.1],\n",
       "       [5.1, 3.5, 1.4, 0.2],\n",
       "       [4.9, 3.1, 1.5, 0.2],\n",
       "       [5.2, 3.4, 1.4, 0.2],\n",
       "       [5.7, 2.8, 4.5, 1.3],\n",
       "       [6.6, 3. , 4.4, 1.4],\n",
       "       [5. , 3.2, 1.2, 0.2],\n",
       "       [5.1, 3.3, 1.7, 0.5],\n",
       "       [6.4, 2.9, 4.3, 1.3],\n",
       "       [5.4, 3.4, 1.5, 0.4],\n",
       "       [7.7, 2.6, 6.9, 2.3],\n",
       "       [4.9, 2.4, 3.3, 1. ],\n",
       "       [7.9, 3.8, 6.4, 2. ],\n",
       "       [6.7, 3.1, 4.4, 1.4],\n",
       "       [5.2, 4.1, 1.5, 0.1],\n",
       "       [6. , 3. , 4.8, 1.8],\n",
       "       [5.8, 4. , 1.2, 0.2],\n",
       "       [7.7, 2.8, 6.7, 2. ],\n",
       "       [5.1, 3.8, 1.5, 0.3],\n",
       "       [4.7, 3.2, 1.6, 0.2],\n",
       "       [7.4, 2.8, 6.1, 1.9],\n",
       "       [5. , 3.3, 1.4, 0.2],\n",
       "       [6.3, 3.4, 5.6, 2.4],\n",
       "       [5.7, 2.8, 4.1, 1.3],\n",
       "       [5.8, 2.7, 3.9, 1.2],\n",
       "       [5.7, 2.6, 3.5, 1. ],\n",
       "       [6.4, 3.2, 5.3, 2.3],\n",
       "       [6.7, 3. , 5.2, 2.3],\n",
       "       [6.3, 2.5, 4.9, 1.5],\n",
       "       [6.7, 3. , 5. , 1.7],\n",
       "       [5. , 3. , 1.6, 0.2],\n",
       "       [5.5, 2.4, 3.7, 1. ],\n",
       "       [6.7, 3.1, 5.6, 2.4],\n",
       "       [5.8, 2.7, 5.1, 1.9],\n",
       "       [5.1, 3.4, 1.5, 0.2],\n",
       "       [6.6, 2.9, 4.6, 1.3],\n",
       "       [5.6, 3. , 4.1, 1.3],\n",
       "       [5.9, 3.2, 4.8, 1.8],\n",
       "       [6.3, 2.3, 4.4, 1.3],\n",
       "       [5.5, 3.5, 1.3, 0.2],\n",
       "       [5.1, 3.7, 1.5, 0.4],\n",
       "       [4.9, 3.1, 1.5, 0.1],\n",
       "       [6.3, 2.9, 5.6, 1.8],\n",
       "       [5.8, 2.7, 4.1, 1. ],\n",
       "       [7.7, 3.8, 6.7, 2.2],\n",
       "       [4.6, 3.2, 1.4, 0.2]])"
      ]
     },
     "execution_count": 4,
     "metadata": {},
     "output_type": "execute_result"
    }
   ],
   "source": [
    "# Here is the raw data, row-shuffled but not normalized.\n",
    "X"
   ]
  },
  {
   "cell_type": "code",
   "execution_count": 5,
   "metadata": {},
   "outputs": [
    {
     "data": {
      "text/plain": [
       "array([2, 1, 0, 2, 0, 2, 0, 1, 1, 1, 2, 1, 1, 1, 1, 0, 1, 1, 0, 0, 2, 1,\n",
       "       0, 0, 2, 0, 0, 1, 1, 0, 2, 1, 0, 2, 2, 1, 0, 1, 1, 1, 2, 0, 2, 0,\n",
       "       0, 1, 2, 2, 2, 2, 1, 2, 1, 1, 2, 2, 2, 2, 1, 2, 1, 0, 2, 1, 1, 1,\n",
       "       1, 2, 0, 0, 2, 1, 0, 0, 1, 0, 2, 1, 0, 1, 2, 1, 0, 2, 2, 2, 2, 0,\n",
       "       0, 2, 2, 0, 2, 0, 2, 2, 0, 0, 2, 0, 0, 0, 1, 2, 2, 0, 0, 0, 1, 1,\n",
       "       0, 0, 1, 0, 2, 1, 2, 1, 0, 2, 0, 2, 0, 0, 2, 0, 2, 1, 1, 1, 2, 2,\n",
       "       1, 1, 0, 1, 2, 2, 0, 1, 1, 1, 1, 0, 0, 0, 2, 1, 2, 0])"
      ]
     },
     "execution_count": 5,
     "metadata": {},
     "output_type": "execute_result"
    }
   ],
   "source": [
    "# Here are the species labels. Each y corresponds to a row of X.\n",
    "y"
   ]
  },
  {
   "cell_type": "markdown",
   "metadata": {},
   "source": [
    "Without normalization, the feature with biggest variance dominates.  \n",
    "Unfortunately, on these data, normalization reduces the attainable accuracy.   \n",
    "We use the Keras Normalization class:\n",
    "1. Constructor takes axis, mean, var. By default, axis = -1 (the last axis), mean=0, var=1.\n",
    "1. The adapt() method tunes the scaling parameters to the given data.\n",
    "1. From then on, the object scales any given data.\n",
    "1. Importantly, we adapt() to the training data and apply to the test data."
   ]
  },
  {
   "cell_type": "code",
   "execution_count": 6,
   "metadata": {},
   "outputs": [
    {
     "name": "stderr",
     "output_type": "stream",
     "text": [
      "2022-09-05 15:09:11.772457: I tensorflow/core/platform/cpu_feature_guard.cc:193] This TensorFlow binary is optimized with oneAPI Deep Neural Network Library (oneDNN) to use the following CPU instructions in performance-critical operations:  AVX2 FMA\n",
      "To enable them in other operations, rebuild TensorFlow with the appropriate compiler flags.\n"
     ]
    },
    {
     "data": {
      "text/plain": [
       "<tf.Tensor: shape=(150, 4), dtype=float32, numpy=\n",
       "array([[-0.04237568, -0.4948195 ,  0.7840797 ,  1.7010827 ],\n",
       "       [ 0.23398574, -1.8361979 ,  0.09298381, -0.33556128],\n",
       "       [-0.45691848,  2.6350634 , -1.5405157 , -1.4993577 ],\n",
       "       [ 2.0303369 , -0.2712561 ,  1.5380026 ,  0.82823515],\n",
       "       [-1.1478227 ,  0.84655935, -1.4776887 , -1.4993577 ],\n",
       "       [ 0.6485285 ,  0.622996  ,  1.3495218 ,  1.8465571 ],\n",
       "       [-1.1478227 ,  1.0701222 , -1.6033425 , -1.3538831 ],\n",
       "       [ 1.2012514 ,  0.17586967,  0.532772  ,  0.39181152],\n",
       "       [ 1.3394327 , -0.4948195 ,  0.5955991 ,  0.24633694],\n",
       "       [ 0.37216645, -0.4948195 ,  0.09298381,  0.10086234],\n",
       "       [ 0.37216645, -0.9419458 ,  1.0982141 ,  0.24633694],\n",
       "       [ 0.78670925,  0.39943308,  0.40711832,  0.39181152],\n",
       "       [ 0.37216645, -0.4948195 ,  0.532772  , -0.04461209],\n",
       "       [ 0.92489   , -0.4948195 ,  0.46994513,  0.39181152],\n",
       "       [ 0.37216645, -0.2712561 ,  0.532772  ,  0.24633694],\n",
       "       [-1.2860034 ,  1.2936851 , -1.5405157 , -1.6448323 ],\n",
       "       [ 0.23398574, -0.2712561 ,  0.40711832,  0.39181152],\n",
       "       [-0.45691848, -0.9419458 ,  0.34429148, -0.04461209],\n",
       "       [-1.4241841 , -0.0476932 , -1.5405157 , -1.3538831 ],\n",
       "       [-0.5950992 ,  1.9643748 , -1.6033425 , -1.2084087 ],\n",
       "       [-0.31873778, -0.4948195 ,  0.658426  ,  1.1191844 ],\n",
       "       [-0.31873778, -0.0476932 ,  0.40711832,  0.39181152],\n",
       "       [-1.4241841 ,  0.84655935, -1.2263811 , -1.4993577 ],\n",
       "       [-1.9769076 , -0.2712561 , -1.5405157 , -1.4993577 ],\n",
       "       [ 0.5103472 , -0.4948195 ,  0.5955991 ,  0.82823515],\n",
       "       [-1.7005461 ,  1.2936851 , -1.7918231 , -1.4993577 ],\n",
       "       [-1.009642  ,  1.7408113 , -1.2263811 , -1.2084087 ],\n",
       "       [ 0.5103472 , -0.2712561 ,  0.28146464,  0.10086234],\n",
       "       [-1.1478227 , -1.6126349 , -0.3468045 , -0.33556128],\n",
       "       [-1.1478227 ,  0.84655935, -1.4148617 , -1.2084087 ],\n",
       "       [ 0.78670925,  0.17586967,  1.0353873 ,  0.82823515],\n",
       "       [-0.5950992 , -0.0476932 ,  0.40711832,  0.39181152],\n",
       "       [-0.8714613 ,  1.0701222 , -1.4776887 , -1.4993577 ],\n",
       "       [ 0.37216645, -0.0476932 ,  0.658426  ,  0.82823515],\n",
       "       [ 0.78670925, -0.4948195 ,  1.0982141 ,  1.4101335 ],\n",
       "       [-0.8714613 , -0.71838236,  0.03015697,  0.24633694],\n",
       "       [-0.18055706,  1.7408113 , -1.3520348 , -1.3538831 ],\n",
       "       [ 0.23398574, -0.71838236,  0.7840797 ,  0.5372861 ],\n",
       "       [ 0.09580503, -0.0476932 ,  0.2186375 ,  0.39181152],\n",
       "       [-0.04237568, -0.9419458 ,  0.09298381, -0.04461209],\n",
       "       [ 1.3394327 , -0.0476932 ,  1.0353873 ,  1.2646588 ],\n",
       "       [-1.5623655 ,  0.39943308, -1.6033425 , -1.4993577 ],\n",
       "       [ 1.4776134 ,  0.17586967,  0.7840797 ,  1.5556079 ],\n",
       "       [-1.1478227 ,  1.0701222 , -1.4148617 , -0.9174595 ],\n",
       "       [-0.5950992 ,  1.5172485 , -1.4776887 , -1.4993577 ],\n",
       "       [-1.1478227 , -2.283324  , -0.22115068, -0.33556128],\n",
       "       [ 0.92489   , -0.0476932 ,  1.0353873 ,  0.82823515],\n",
       "       [ 1.2012514 ,  0.622996  ,  1.161041  ,  1.8465571 ],\n",
       "       [ 0.23398574, -1.8361979 ,  0.7212528 ,  0.39181152],\n",
       "       [ 1.2012514 , -1.1655086 ,  1.2238681 ,  0.82823515],\n",
       "       [-0.31873778, -1.1655086 ,  0.03015697, -0.19008668],\n",
       "       [ 2.5830598 , -0.0476932 ,  1.4123486 ,  1.5556079 ],\n",
       "       [ 0.6485285 ,  0.622996  ,  0.532772  ,  0.5372861 ],\n",
       "       [-0.45691848, -1.3890715 , -0.03267002, -0.19008668],\n",
       "       [ 0.6485285 , -0.71838236,  0.658426  ,  0.82823515],\n",
       "       [ 0.6485285 , -0.4948195 ,  0.7840797 ,  0.39181152],\n",
       "       [-1.2860034 , -1.1655086 ,  0.40711832,  0.6827607 ],\n",
       "       [ 0.6485285 , -1.1655086 ,  0.7212528 ,  0.97370976],\n",
       "       [ 1.6157942 ,  0.39943308,  0.532772  ,  0.24633694],\n",
       "       [ 0.92489   , -0.0476932 ,  0.8469065 ,  1.1191844 ],\n",
       "       [ 0.23398574,  0.84655935,  0.40711832,  0.5372861 ],\n",
       "       [-1.4241841 ,  0.17586967, -1.4148617 , -1.4993577 ],\n",
       "       [-0.04237568, -0.71838236,  0.7840797 ,  0.97370976],\n",
       "       [-0.31873778, -0.71838236,  0.2186375 ,  0.10086234],\n",
       "       [-0.31873778, -0.2712561 , -0.15832384,  0.10086234],\n",
       "       [-0.45691848, -1.1655086 ,  0.09298381,  0.10086234],\n",
       "       [ 0.37216645, -0.0476932 ,  0.46994513,  0.24633694],\n",
       "       [ 1.8921556 ,  0.39943308,  1.3495218 ,  0.82823515],\n",
       "       [-0.7332799 ,  1.5172485 , -1.4776887 , -1.4993577 ],\n",
       "       [-2.1150882 , -0.0476932 , -1.7289962 , -1.6448323 ],\n",
       "       [ 0.78670925, -0.71838236,  0.9097336 ,  0.97370976],\n",
       "       [-0.18055706, -0.0476932 ,  0.2186375 , -0.04461209],\n",
       "       [-0.5950992 ,  0.84655935, -1.3520348 , -1.4993577 ],\n",
       "       [-0.18055706,  3.0821903 , -1.4776887 , -1.2084087 ],\n",
       "       [ 1.4776134 ,  0.17586967,  0.658426  ,  0.39181152],\n",
       "       [-1.7005461 ,  0.17586967, -1.4776887 , -1.4993577 ],\n",
       "       [ 0.09580503, -0.0476932 ,  0.7840797 ,  0.82823515],\n",
       "       [-1.009642  , -1.1655086 , -0.5352852 , -0.19008668],\n",
       "       [-1.7005461 ,  0.84655935, -1.5405157 , -1.3538831 ],\n",
       "       [ 0.5103472 , -1.8361979 ,  0.40711832,  0.39181152],\n",
       "       [ 1.8921556 ,  1.2936851 ,  1.4123486 ,  1.8465571 ],\n",
       "       [-0.18055706, -0.2712561 ,  0.2186375 ,  0.10086234],\n",
       "       [-1.4241841 , -0.0476932 , -1.5405157 , -1.6448323 ],\n",
       "       [ 1.7539749 , -0.0476932 ,  1.286695  ,  1.2646588 ],\n",
       "       [ 1.4776134 ,  0.39943308,  1.161041  ,  1.5556079 ],\n",
       "       [ 0.92489   , -0.0476932 ,  1.2238681 ,  1.4101335 ],\n",
       "       [ 0.78670925, -0.4948195 ,  1.0982141 ,  1.2646588 ],\n",
       "       [-1.009642  ,  1.7408113 , -1.4148617 , -1.4993577 ],\n",
       "       [-1.4241841 ,  0.84655935, -1.4148617 , -1.4993577 ],\n",
       "       [ 0.92489   ,  0.39943308,  0.7840797 ,  1.1191844 ],\n",
       "       [ 1.2012514 ,  0.622996  ,  1.161041  ,  1.2646588 ],\n",
       "       [-1.8387269 , -1.6126349 , -1.6033425 , -1.3538831 ],\n",
       "       [ 0.5103472 ,  0.84655935,  0.97256047,  1.5556079 ],\n",
       "       [-1.2860034 , -0.0476932 , -1.5405157 , -1.4993577 ],\n",
       "       [-0.18055706, -1.1655086 ,  0.7212528 ,  1.1191844 ],\n",
       "       [ 1.4776134 ,  0.17586967,  0.97256047,  1.2646588 ],\n",
       "       [-1.9769076 ,  0.39943308, -1.6033425 , -1.4993577 ],\n",
       "       [-1.1478227 ,  1.2936851 , -1.5405157 , -1.4993577 ],\n",
       "       [ 1.8921556 , -0.0476932 ,  1.2238681 ,  0.5372861 ],\n",
       "       [-1.009642  ,  1.0701222 , -1.5405157 , -1.3538831 ],\n",
       "       [-1.9769076 , -0.0476932 , -1.6033425 , -1.4993577 ],\n",
       "       [-0.5950992 ,  1.9643748 , -1.3520348 , -1.2084087 ],\n",
       "       [-0.45691848, -1.6126349 ,  0.09298381,  0.10086234],\n",
       "       [ 1.3394327 ,  0.39943308,  1.286695  ,  1.5556079 ],\n",
       "       [ 2.444879  , -0.0476932 ,  1.7264831 ,  1.2646588 ],\n",
       "       [-1.009642  ,  1.0701222 , -1.5405157 , -1.4993577 ],\n",
       "       [-1.2860034 ,  0.17586967, -1.4776887 , -1.4993577 ],\n",
       "       [-0.8714613 ,  0.84655935, -1.5405157 , -1.4993577 ],\n",
       "       [-0.18055706, -0.4948195 ,  0.40711832,  0.10086234],\n",
       "       [ 1.0630707 , -0.0476932 ,  0.34429148,  0.24633694],\n",
       "       [-1.1478227 ,  0.39943308, -1.6661693 , -1.4993577 ],\n",
       "       [-1.009642  ,  0.622996  , -1.3520348 , -1.062934  ],\n",
       "       [ 0.78670925, -0.2712561 ,  0.28146464,  0.10086234],\n",
       "       [-0.5950992 ,  0.84655935, -1.4776887 , -1.2084087 ],\n",
       "       [ 2.5830598 , -0.9419458 ,  1.914964  ,  1.5556079 ],\n",
       "       [-1.2860034 , -1.3890715 , -0.3468045 , -0.33556128],\n",
       "       [ 2.859422  ,  1.7408113 ,  1.6008295 ,  1.1191844 ],\n",
       "       [ 1.2012514 ,  0.17586967,  0.34429148,  0.24633694],\n",
       "       [-0.8714613 ,  2.4115005 , -1.4776887 , -1.6448323 ],\n",
       "       [ 0.23398574, -0.0476932 ,  0.5955991 ,  0.82823515],\n",
       "       [-0.04237568,  2.1879377 , -1.6661693 , -1.4993577 ],\n",
       "       [ 2.5830598 , -0.4948195 ,  1.78931   ,  1.1191844 ],\n",
       "       [-1.009642  ,  1.7408113 , -1.4776887 , -1.3538831 ],\n",
       "       [-1.5623655 ,  0.39943308, -1.4148617 , -1.4993577 ],\n",
       "       [ 2.1685176 , -0.4948195 ,  1.4123486 ,  0.97370976],\n",
       "       [-1.1478227 ,  0.622996  , -1.5405157 , -1.4993577 ],\n",
       "       [ 0.6485285 ,  0.84655935,  1.0982141 ,  1.7010827 ],\n",
       "       [-0.18055706, -0.4948195 ,  0.15581065,  0.10086234],\n",
       "       [-0.04237568, -0.71838236,  0.03015697, -0.04461209],\n",
       "       [-0.18055706, -0.9419458 , -0.22115068, -0.33556128],\n",
       "       [ 0.78670925,  0.39943308,  0.9097336 ,  1.5556079 ],\n",
       "       [ 1.2012514 , -0.0476932 ,  0.8469065 ,  1.5556079 ],\n",
       "       [ 0.6485285 , -1.1655086 ,  0.658426  ,  0.39181152],\n",
       "       [ 1.2012514 , -0.0476932 ,  0.7212528 ,  0.6827607 ],\n",
       "       [-1.1478227 , -0.0476932 , -1.4148617 , -1.4993577 ],\n",
       "       [-0.45691848, -1.3890715 , -0.09549686, -0.33556128],\n",
       "       [ 1.2012514 ,  0.17586967,  1.0982141 ,  1.7010827 ],\n",
       "       [-0.04237568, -0.71838236,  0.7840797 ,  0.97370976],\n",
       "       [-1.009642  ,  0.84655935, -1.4776887 , -1.4993577 ],\n",
       "       [ 1.0630707 , -0.2712561 ,  0.46994513,  0.10086234],\n",
       "       [-0.31873778, -0.0476932 ,  0.15581065,  0.10086234],\n",
       "       [ 0.09580503,  0.39943308,  0.5955991 ,  0.82823515],\n",
       "       [ 0.6485285 , -1.6126349 ,  0.34429148,  0.10086234],\n",
       "       [-0.45691848,  1.0701222 , -1.6033425 , -1.4993577 ],\n",
       "       [-1.009642  ,  1.5172485 , -1.4776887 , -1.2084087 ],\n",
       "       [-1.2860034 ,  0.17586967, -1.4776887 , -1.6448323 ],\n",
       "       [ 0.6485285 , -0.2712561 ,  1.0982141 ,  0.82823515],\n",
       "       [-0.04237568, -0.71838236,  0.15581065, -0.33556128],\n",
       "       [ 2.5830598 ,  1.7408113 ,  1.78931   ,  1.4101335 ],\n",
       "       [-1.7005461 ,  0.39943308, -1.5405157 , -1.4993577 ]],\n",
       "      dtype=float32)>"
      ]
     },
     "execution_count": 6,
     "metadata": {},
     "output_type": "execute_result"
    }
   ],
   "source": [
    "# Normalize on half the data. This isn't exactly fair, as some test data is included.\n",
    "X_train = X[:75] \n",
    "normalizer = layers.Normalization() \n",
    "normalizer.adapt(X_train)\n",
    "X = normalizer(X)\n",
    "# Here are the normalized feature values.\n",
    "X"
   ]
  },
  {
   "cell_type": "markdown",
   "metadata": {},
   "source": [
    "## Model Architecture\n",
    "Here we decide number of layers, number of neurons per layer, and activation functions.\n",
    "Deciding this is an artform. \n",
    "In fact, we played with several settings before settling on the ones shown here. \n",
    "\n",
    "Keras offers 2 means of building a model.  \n",
    "1. The [Sequential class](https://keras.io/api/models/sequential/#sequential-class) is simple. It has an add(layer) method. It maintains layers in the order they were added. It allows linear models only. Every layer has one input and one output.\n",
    "1. The [Functional API](https://keras.io/guides/functional_api/) is complex. It allows DAG models. Layers can be skipped, reused, and multiply connected. We use the Functional API even though our model is linear in this example.\n",
    "\n",
    "The Keras Dense layer class has these constructor options.\n",
    "1. num units\n",
    "1. activation. Default=linear. Choices are relu, elu, softplus (smooth relu), softmax, sigmoid, tanh, exponential. There is an API so you can build your own.\n",
    "1. use_bias. Default=True\n",
    "1. kernel_initializer. Default=\"glorot_uniform\"\n",
    "1. regularizers for the bias, kernel, and activity. Default=None.\n",
    "\n",
    "Our model:    \n",
    "Our model will have 2 internal layers with 8 neurons each.\n",
    "Our input layer has the same shape as the features: 1x4.\n",
    "Our output layer has the same shape as the labels: 3x1."
   ]
  },
  {
   "cell_type": "code",
   "execution_count": 7,
   "metadata": {},
   "outputs": [
    {
     "data": {
      "text/plain": [
       "<KerasTensor: shape=(None, 4) dtype=float32 (created by layer 'input_1')>"
      ]
     },
     "execution_count": 7,
     "metadata": {},
     "output_type": "execute_result"
    }
   ],
   "source": [
    "# Don't specify the shape's number of rows. That varies between validation & testing.\n",
    "inputs = keras.Input(shape=(num_features,))\n",
    "inputs"
   ]
  },
  {
   "cell_type": "code",
   "execution_count": 8,
   "metadata": {},
   "outputs": [
    {
     "data": {
      "text/plain": [
       "<KerasTensor: shape=(None, 3) dtype=float32 (created by layer 'dense_2')>"
      ]
     },
     "execution_count": 8,
     "metadata": {},
     "output_type": "execute_result"
    }
   ],
   "source": [
    "# Keras output layer raises exception unless #neurons == #labels in Y.\n",
    "dense1 =  layers.Dense(8, activation=\"relu\")   (inputs)\n",
    "dense2 =  layers.Dense(8, activation=\"relu\")   (dense1)\n",
    "outputs = layers.Dense(3)                      (dense2)\n",
    "outputs"
   ]
  },
  {
   "cell_type": "markdown",
   "metadata": {},
   "source": [
    "## Count the trainable parameters\n",
    "Here we explain the number of trainable parameters that are shown below.\n",
    "1. Dense_0: (4 input + 1 bias) * 8 out = 40 \n",
    "1. Dense_0: (8 input + 1 bias) * 8 out = 72 \n",
    "1. Dense_2: (8 input + 1 bias) * 3 out = 27"
   ]
  },
  {
   "cell_type": "code",
   "execution_count": 9,
   "metadata": {},
   "outputs": [
    {
     "name": "stdout",
     "output_type": "stream",
     "text": [
      "Model: \"Demo\"\n",
      "_________________________________________________________________\n",
      " Layer (type)                Output Shape              Param #   \n",
      "=================================================================\n",
      " input_1 (InputLayer)        [(None, 4)]               0         \n",
      "                                                                 \n",
      " dense (Dense)               (None, 8)                 40        \n",
      "                                                                 \n",
      " dense_1 (Dense)             (None, 8)                 72        \n",
      "                                                                 \n",
      " dense_2 (Dense)             (None, 3)                 27        \n",
      "                                                                 \n",
      "=================================================================\n",
      "Total params: 139\n",
      "Trainable params: 139\n",
      "Non-trainable params: 0\n",
      "_________________________________________________________________\n"
     ]
    }
   ],
   "source": [
    "model = keras.Model(inputs=inputs, outputs=outputs, name=\"Demo\")\n",
    "model.summary()"
   ]
  },
  {
   "cell_type": "markdown",
   "metadata": {},
   "source": [
    "## Set aside the test set\n",
    "For the final test, we set aside 10% of the data as unseen.\n",
    "Since the rows were previously shuffled, the last 10% is a random subset."
   ]
  },
  {
   "cell_type": "code",
   "execution_count": 10,
   "metadata": {},
   "outputs": [],
   "source": [
    "UNSEEN_PORTION = 0.10\n",
    "split_point = int ( X.shape[0] * (1-UNSEEN_PORTION) )\n",
    "# Tensors don't support slice, so convert to numpy.\n",
    "X_unseen = np.array(X)[split_point:]\n",
    "y_unseen = np.array(y)[split_point:]\n",
    "X_seen   = np.array(X)[:split_point]\n",
    "y_seen   = np.array(y)[:split_point]"
   ]
  },
  {
   "cell_type": "markdown",
   "metadata": {},
   "source": [
    "## Training and Validation\n",
    "Train:    \n",
    "This is implemented by the Keras model.fit() function.\n",
    "We call it 5 times in a loop.\n",
    "\n",
    "Validate:\n",
    "This is emplemented by the Keras model.evaluate.\n",
    "We call it 5 times in a loop.\n",
    "\n",
    "Cross Validation:   \n",
    "We evaluate the model by 5-fold cross validation.\n",
    "We use \"stratified\" KFold so that each validation set\n",
    "has approximately the same number of each label (flower species).\n",
    "\n",
    "In 5 iterations of the loop, we will:    \n",
    "1. Re-build the model. Otherwise each loop would additively improve the same model. Can you guess how I figured that out?\n",
    "2. Fit the model to the training data by adjusting parameters. In Keras, model.fit() is made to be customized, but we use it as is. Thanks to the default shuffle=True , \n",
    "[model.fit()](https://keras.io/api/models/model_training_apis/#fit-method)\n",
    "shuffles each batch before training on it. \n",
    "3. Evaluate the model on the validation data. This is must faster than traing. Using the forward computation only, we compute a score for each validation instance."
   ]
  },
  {
   "cell_type": "code",
   "execution_count": 11,
   "metadata": {},
   "outputs": [
    {
     "name": "stdout",
     "output_type": "stream",
     "text": [
      "Epoch 1/20\n",
      "5/5 [==============================] - 1s 3ms/step - loss: 1.1447 - accuracy: 0.3056\n",
      "Epoch 2/20\n",
      "5/5 [==============================] - 0s 4ms/step - loss: 1.1032 - accuracy: 0.3704\n",
      "Epoch 3/20\n",
      "5/5 [==============================] - 0s 2ms/step - loss: 1.0761 - accuracy: 0.4074\n",
      "Epoch 4/20\n",
      "5/5 [==============================] - 0s 5ms/step - loss: 1.0542 - accuracy: 0.4352\n",
      "Epoch 5/20\n",
      "5/5 [==============================] - 0s 4ms/step - loss: 1.0335 - accuracy: 0.4907\n",
      "Epoch 6/20\n",
      "5/5 [==============================] - 0s 4ms/step - loss: 1.0131 - accuracy: 0.5463\n",
      "Epoch 7/20\n",
      "5/5 [==============================] - 0s 4ms/step - loss: 0.9939 - accuracy: 0.5741\n",
      "Epoch 8/20\n",
      "5/5 [==============================] - 0s 3ms/step - loss: 0.9757 - accuracy: 0.6296\n",
      "Epoch 9/20\n",
      "5/5 [==============================] - 0s 4ms/step - loss: 0.9566 - accuracy: 0.6389\n",
      "Epoch 10/20\n",
      "5/5 [==============================] - 0s 4ms/step - loss: 0.9393 - accuracy: 0.6389\n",
      "Epoch 11/20\n",
      "5/5 [==============================] - 0s 4ms/step - loss: 0.9226 - accuracy: 0.6574\n",
      "Epoch 12/20\n",
      "5/5 [==============================] - 0s 4ms/step - loss: 0.9065 - accuracy: 0.6667\n",
      "Epoch 13/20\n",
      "5/5 [==============================] - 0s 4ms/step - loss: 0.8894 - accuracy: 0.6759\n",
      "Epoch 14/20\n",
      "5/5 [==============================] - 0s 6ms/step - loss: 0.8732 - accuracy: 0.6944\n",
      "Epoch 15/20\n",
      "5/5 [==============================] - 0s 3ms/step - loss: 0.8568 - accuracy: 0.6944\n",
      "Epoch 16/20\n",
      "5/5 [==============================] - 0s 5ms/step - loss: 0.8410 - accuracy: 0.7130\n",
      "Epoch 17/20\n",
      "5/5 [==============================] - 0s 4ms/step - loss: 0.8249 - accuracy: 0.7315\n",
      "Epoch 18/20\n",
      "5/5 [==============================] - 0s 5ms/step - loss: 0.8077 - accuracy: 0.7407\n",
      "Epoch 19/20\n",
      "5/5 [==============================] - 0s 4ms/step - loss: 0.7900 - accuracy: 0.7593\n",
      "Epoch 20/20\n",
      "5/5 [==============================] - 0s 4ms/step - loss: 0.7736 - accuracy: 0.7685\n",
      "1/1 [==============================] - 0s 157ms/step - loss: 0.7701 - accuracy: 0.7407\n",
      "Fold 1 Valid accuracy: 0.7407407164573669 Valid loss: 0.7701046466827393\n",
      "Epoch 1/20\n",
      "5/5 [==============================] - 0s 3ms/step - loss: 0.7446 - accuracy: 0.7870\n",
      "Epoch 2/20\n",
      "5/5 [==============================] - 0s 4ms/step - loss: 0.7124 - accuracy: 0.7963\n",
      "Epoch 3/20\n",
      "5/5 [==============================] - 0s 5ms/step - loss: 0.6901 - accuracy: 0.8056\n",
      "Epoch 4/20\n",
      "5/5 [==============================] - 0s 5ms/step - loss: 0.6691 - accuracy: 0.8241\n",
      "Epoch 5/20\n",
      "5/5 [==============================] - 0s 3ms/step - loss: 0.6508 - accuracy: 0.8241\n",
      "Epoch 6/20\n",
      "5/5 [==============================] - 0s 5ms/step - loss: 0.6323 - accuracy: 0.8333\n",
      "Epoch 7/20\n",
      "5/5 [==============================] - 0s 4ms/step - loss: 0.6144 - accuracy: 0.8426\n",
      "Epoch 8/20\n",
      "5/5 [==============================] - 0s 3ms/step - loss: 0.5972 - accuracy: 0.8519\n",
      "Epoch 9/20\n",
      "5/5 [==============================] - 0s 4ms/step - loss: 0.5799 - accuracy: 0.8611\n",
      "Epoch 10/20\n",
      "5/5 [==============================] - 0s 5ms/step - loss: 0.5626 - accuracy: 0.8611\n",
      "Epoch 11/20\n",
      "5/5 [==============================] - 0s 4ms/step - loss: 0.5461 - accuracy: 0.8611\n",
      "Epoch 12/20\n",
      "5/5 [==============================] - 0s 4ms/step - loss: 0.5296 - accuracy: 0.8611\n",
      "Epoch 13/20\n",
      "5/5 [==============================] - 0s 4ms/step - loss: 0.5135 - accuracy: 0.8611\n",
      "Epoch 14/20\n",
      "5/5 [==============================] - 0s 5ms/step - loss: 0.4977 - accuracy: 0.8704\n",
      "Epoch 15/20\n",
      "5/5 [==============================] - 0s 4ms/step - loss: 0.4829 - accuracy: 0.8704\n",
      "Epoch 16/20\n",
      "5/5 [==============================] - 0s 6ms/step - loss: 0.4676 - accuracy: 0.8704\n",
      "Epoch 17/20\n",
      "5/5 [==============================] - 0s 4ms/step - loss: 0.4532 - accuracy: 0.8704\n",
      "Epoch 18/20\n",
      "5/5 [==============================] - 0s 3ms/step - loss: 0.4386 - accuracy: 0.8704\n",
      "Epoch 19/20\n",
      "5/5 [==============================] - 0s 4ms/step - loss: 0.4249 - accuracy: 0.8796\n",
      "Epoch 20/20\n",
      "5/5 [==============================] - 0s 6ms/step - loss: 0.4118 - accuracy: 0.9074\n",
      "1/1 [==============================] - 0s 117ms/step - loss: 0.4568 - accuracy: 0.8519\n",
      "Fold 2 Valid accuracy: 0.8518518805503845 Valid loss: 0.45676735043525696\n",
      "Epoch 1/20\n",
      "5/5 [==============================] - 0s 3ms/step - loss: 0.4067 - accuracy: 0.8889\n",
      "Epoch 2/20\n",
      "5/5 [==============================] - 0s 6ms/step - loss: 0.3863 - accuracy: 0.8981\n",
      "Epoch 3/20\n",
      "5/5 [==============================] - 0s 3ms/step - loss: 0.3729 - accuracy: 0.8981\n",
      "Epoch 4/20\n",
      "5/5 [==============================] - 0s 3ms/step - loss: 0.3606 - accuracy: 0.9074\n",
      "Epoch 5/20\n",
      "5/5 [==============================] - 0s 4ms/step - loss: 0.3511 - accuracy: 0.9259\n",
      "Epoch 6/20\n",
      "5/5 [==============================] - 0s 5ms/step - loss: 0.3423 - accuracy: 0.9259\n",
      "Epoch 7/20\n",
      "5/5 [==============================] - 0s 4ms/step - loss: 0.3338 - accuracy: 0.9444\n",
      "Epoch 8/20\n",
      "5/5 [==============================] - 0s 8ms/step - loss: 0.3254 - accuracy: 0.9444\n",
      "Epoch 9/20\n",
      "5/5 [==============================] - 0s 4ms/step - loss: 0.3173 - accuracy: 0.9444\n",
      "Epoch 10/20\n",
      "5/5 [==============================] - 0s 4ms/step - loss: 0.3100 - accuracy: 0.9444\n",
      "Epoch 11/20\n",
      "5/5 [==============================] - 0s 4ms/step - loss: 0.3022 - accuracy: 0.9444\n",
      "Epoch 12/20\n",
      "5/5 [==============================] - 0s 4ms/step - loss: 0.2961 - accuracy: 0.9444\n",
      "Epoch 13/20\n",
      "5/5 [==============================] - 0s 4ms/step - loss: 0.2890 - accuracy: 0.9352\n",
      "Epoch 14/20\n",
      "5/5 [==============================] - 0s 3ms/step - loss: 0.2831 - accuracy: 0.9444\n",
      "Epoch 15/20\n",
      "5/5 [==============================] - 0s 3ms/step - loss: 0.2777 - accuracy: 0.9352\n",
      "Epoch 16/20\n",
      "5/5 [==============================] - 0s 3ms/step - loss: 0.2713 - accuracy: 0.9444\n",
      "Epoch 17/20\n",
      "5/5 [==============================] - 0s 4ms/step - loss: 0.2656 - accuracy: 0.9444\n",
      "Epoch 18/20\n",
      "5/5 [==============================] - 0s 3ms/step - loss: 0.2598 - accuracy: 0.9444\n",
      "Epoch 19/20\n",
      "5/5 [==============================] - 0s 3ms/step - loss: 0.2550 - accuracy: 0.9352\n",
      "Epoch 20/20\n",
      "5/5 [==============================] - 0s 4ms/step - loss: 0.2507 - accuracy: 0.9352\n",
      "1/1 [==============================] - 0s 116ms/step - loss: 0.2121 - accuracy: 1.0000\n",
      "Fold 3 Valid accuracy: 1.0 Valid loss: 0.21213436126708984\n",
      "Epoch 1/20\n",
      "5/5 [==============================] - 0s 2ms/step - loss: 0.2461 - accuracy: 0.9352\n",
      "Epoch 2/20\n",
      "5/5 [==============================] - 0s 3ms/step - loss: 0.2371 - accuracy: 0.9352\n",
      "Epoch 3/20\n",
      "5/5 [==============================] - 0s 4ms/step - loss: 0.2304 - accuracy: 0.9352\n",
      "Epoch 4/20\n",
      "5/5 [==============================] - 0s 4ms/step - loss: 0.2256 - accuracy: 0.9537\n",
      "Epoch 5/20\n",
      "5/5 [==============================] - 0s 3ms/step - loss: 0.2214 - accuracy: 0.9444\n",
      "Epoch 6/20\n",
      "5/5 [==============================] - 0s 3ms/step - loss: 0.2169 - accuracy: 0.9444\n",
      "Epoch 7/20\n",
      "5/5 [==============================] - 0s 2ms/step - loss: 0.2136 - accuracy: 0.9444\n",
      "Epoch 8/20\n",
      "5/5 [==============================] - 0s 3ms/step - loss: 0.2099 - accuracy: 0.9444\n",
      "Epoch 9/20\n",
      "5/5 [==============================] - 0s 3ms/step - loss: 0.2067 - accuracy: 0.9444\n",
      "Epoch 10/20\n",
      "5/5 [==============================] - 0s 4ms/step - loss: 0.2033 - accuracy: 0.9444\n",
      "Epoch 11/20\n",
      "5/5 [==============================] - 0s 3ms/step - loss: 0.1997 - accuracy: 0.9444\n",
      "Epoch 12/20\n",
      "5/5 [==============================] - 0s 4ms/step - loss: 0.1961 - accuracy: 0.9444\n",
      "Epoch 13/20\n",
      "5/5 [==============================] - 0s 3ms/step - loss: 0.1940 - accuracy: 0.9537\n",
      "Epoch 14/20\n",
      "5/5 [==============================] - 0s 3ms/step - loss: 0.1899 - accuracy: 0.9537\n",
      "Epoch 15/20\n",
      "5/5 [==============================] - 0s 4ms/step - loss: 0.1883 - accuracy: 0.9537\n",
      "Epoch 16/20\n",
      "5/5 [==============================] - 0s 2ms/step - loss: 0.1848 - accuracy: 0.9537\n",
      "Epoch 17/20\n",
      "5/5 [==============================] - 0s 4ms/step - loss: 0.1816 - accuracy: 0.9537\n",
      "Epoch 18/20\n",
      "5/5 [==============================] - 0s 4ms/step - loss: 0.1797 - accuracy: 0.9537\n",
      "Epoch 19/20\n",
      "5/5 [==============================] - 0s 3ms/step - loss: 0.1763 - accuracy: 0.9537\n",
      "Epoch 20/20\n",
      "5/5 [==============================] - 0s 3ms/step - loss: 0.1751 - accuracy: 0.9537\n"
     ]
    },
    {
     "name": "stdout",
     "output_type": "stream",
     "text": [
      "1/1 [==============================] - 0s 119ms/step - loss: 0.1245 - accuracy: 1.0000\n",
      "Fold 4 Valid accuracy: 1.0 Valid loss: 0.12450815737247467\n",
      "Epoch 1/20\n",
      "5/5 [==============================] - 0s 3ms/step - loss: 0.1646 - accuracy: 0.9630\n",
      "Epoch 2/20\n",
      "5/5 [==============================] - 0s 2ms/step - loss: 0.1586 - accuracy: 0.9630\n",
      "Epoch 3/20\n",
      "5/5 [==============================] - 0s 2ms/step - loss: 0.1548 - accuracy: 0.9630\n",
      "Epoch 4/20\n",
      "5/5 [==============================] - 0s 3ms/step - loss: 0.1517 - accuracy: 0.9630\n",
      "Epoch 5/20\n",
      "5/5 [==============================] - 0s 3ms/step - loss: 0.1488 - accuracy: 0.9630\n",
      "Epoch 6/20\n",
      "5/5 [==============================] - 0s 3ms/step - loss: 0.1466 - accuracy: 0.9630\n",
      "Epoch 7/20\n",
      "5/5 [==============================] - 0s 4ms/step - loss: 0.1441 - accuracy: 0.9630\n",
      "Epoch 8/20\n",
      "5/5 [==============================] - 0s 3ms/step - loss: 0.1411 - accuracy: 0.9630\n",
      "Epoch 9/20\n",
      "5/5 [==============================] - 0s 2ms/step - loss: 0.1389 - accuracy: 0.9630\n",
      "Epoch 10/20\n",
      "5/5 [==============================] - 0s 3ms/step - loss: 0.1367 - accuracy: 0.9630\n",
      "Epoch 11/20\n",
      "5/5 [==============================] - 0s 3ms/step - loss: 0.1344 - accuracy: 0.9630\n",
      "Epoch 12/20\n",
      "5/5 [==============================] - 0s 3ms/step - loss: 0.1321 - accuracy: 0.9630\n",
      "Epoch 13/20\n",
      "5/5 [==============================] - 0s 3ms/step - loss: 0.1297 - accuracy: 0.9630\n",
      "Epoch 14/20\n",
      "5/5 [==============================] - 0s 3ms/step - loss: 0.1282 - accuracy: 0.9630\n",
      "Epoch 15/20\n",
      "5/5 [==============================] - 0s 3ms/step - loss: 0.1262 - accuracy: 0.9630\n",
      "Epoch 16/20\n",
      "5/5 [==============================] - 0s 3ms/step - loss: 0.1244 - accuracy: 0.9630\n",
      "Epoch 17/20\n",
      "5/5 [==============================] - 0s 3ms/step - loss: 0.1229 - accuracy: 0.9630\n",
      "Epoch 18/20\n",
      "5/5 [==============================] - 0s 4ms/step - loss: 0.1211 - accuracy: 0.9630\n",
      "Epoch 19/20\n",
      "5/5 [==============================] - 0s 3ms/step - loss: 0.1192 - accuracy: 0.9630\n",
      "Epoch 20/20\n",
      "5/5 [==============================] - 0s 3ms/step - loss: 0.1170 - accuracy: 0.9630\n",
      "WARNING:tensorflow:5 out of the last 5 calls to <function Model.make_test_function.<locals>.test_function at 0x12635eef0> triggered tf.function retracing. Tracing is expensive and the excessive number of tracings could be due to (1) creating @tf.function repeatedly in a loop, (2) passing tensors with different shapes, (3) passing Python objects instead of tensors. For (1), please define your @tf.function outside of the loop. For (2), @tf.function has reduce_retracing=True option that can avoid unnecessary retracing. For (3), please refer to https://www.tensorflow.org/guide/function#controlling_retracing and https://www.tensorflow.org/api_docs/python/tf/function for  more details.\n",
      "1/1 [==============================] - 0s 115ms/step - loss: 0.1360 - accuracy: 0.9630\n",
      "Fold 5 Valid accuracy: 0.9629629850387573 Valid loss: 0.13601215183734894\n"
     ]
    }
   ],
   "source": [
    "EPOCHS=20\n",
    "fold=1\n",
    "skf = StratifiedKFold(n_splits=5)\n",
    "history_vector=[]\n",
    "valid_vector=[]\n",
    "for train, valid in skf.split(X_seen,y_seen):\n",
    "    X_train = tf.convert_to_tensor((X_seen)[train])\n",
    "    y_train = tf.convert_to_tensor((y_seen)[train])\n",
    "    X_valid = tf.convert_to_tensor((X_seen)[valid])\n",
    "    y_valid = tf.convert_to_tensor((y_seen)[valid])\n",
    "    name = \"MLP_\"+str(fold)\n",
    "    model = keras.Model(inputs=inputs, outputs=outputs, name=name)\n",
    "    model.compile(\n",
    "    loss=keras.losses.SparseCategoricalCrossentropy(from_logits=True),\n",
    "    optimizer=keras.optimizers.RMSprop(),metrics=[\"accuracy\"])\n",
    "    history = model.fit(X_train, y_train, batch_size=25, epochs=EPOCHS)\n",
    "    valid_scores = model.evaluate(X_valid, y_valid)\n",
    "    print(\"Fold\", fold,\"Valid accuracy:\",valid_scores[1],\"Valid loss:\", valid_scores[0])\n",
    "    fold += 1\n",
    "    history_vector.append(history)\n",
    "    valid_vector.append(valid_scores)"
   ]
  },
  {
   "cell_type": "markdown",
   "metadata": {},
   "source": [
    "## Summarize the training and validation "
   ]
  },
  {
   "cell_type": "code",
   "execution_count": 12,
   "metadata": {},
   "outputs": [
    {
     "data": {
      "image/png": "[encoded data removed]",
      "text/plain": [
       "<Figure size 400x300 with 1 Axes>"
      ]
     },
     "metadata": {},
     "output_type": "display_data"
    },
    {
     "name": "stdout",
     "output_type": "stream",
     "text": [
      "Fold 1 Validation acc = 0.74 loss =0.77\n"
     ]
    },
    {
     "data": {
      "image/png": "[encoded data removed]",
      "text/plain": [
       "<Figure size 400x300 with 1 Axes>"
      ]
     },
     "metadata": {},
     "output_type": "display_data"
    },
    {
     "name": "stdout",
     "output_type": "stream",
     "text": [
      "Fold 2 Validation acc = 0.85 loss =0.46\n"
     ]
    },
    {
     "data": {
      "image/png": "[encoded data removed]",
      "text/plain": [
       "<Figure size 400x300 with 1 Axes>"
      ]
     },
     "metadata": {},
     "output_type": "display_data"
    },
    {
     "name": "stdout",
     "output_type": "stream",
     "text": [
      "Fold 3 Validation acc = 1.00 loss =0.21\n"
     ]
    },
    {
     "data": {
      "image/png": "[encoded data removed]",
      "text/plain": [
       "<Figure size 400x300 with 1 Axes>"
      ]
     },
     "metadata": {},
     "output_type": "display_data"
    },
    {
     "name": "stdout",
     "output_type": "stream",
     "text": [
      "Fold 4 Validation acc = 1.00 loss =0.12\n"
     ]
    },
    {
     "data": {
      "image/png": "[encoded data removed]",
      "text/plain": [
       "<Figure size 400x300 with 1 Axes>"
      ]
     },
     "metadata": {},
     "output_type": "display_data"
    },
    {
     "name": "stdout",
     "output_type": "stream",
     "text": [
      "Fold 5 Validation acc = 0.96 loss =0.14\n"
     ]
    }
   ],
   "source": [
    "fold = 0\n",
    "for pair in valid_vector:\n",
    "    one_history = history_vector[fold]\n",
    "    pd.DataFrame(one_history.history).plot(figsize=(4,3))\n",
    "    plt.show()\n",
    "    fold += 1\n",
    "    print('Fold %d Validation acc = %.2f loss =%.2f'%(fold,pair[1],pair[0]))\n"
   ]
  },
  {
   "cell_type": "markdown",
   "metadata": {},
   "source": [
    "# Finally, compute test accuracy"
   ]
  },
  {
   "cell_type": "code",
   "execution_count": 13,
   "metadata": {},
   "outputs": [
    {
     "name": "stdout",
     "output_type": "stream",
     "text": [
      "Epoch 1/20\n",
      "6/6 [==============================] - 0s 3ms/step - loss: 0.1203 - accuracy: 0.9556\n",
      "Epoch 2/20\n",
      "6/6 [==============================] - 0s 4ms/step - loss: 0.1159 - accuracy: 0.9630\n",
      "Epoch 3/20\n",
      "6/6 [==============================] - 0s 5ms/step - loss: 0.1144 - accuracy: 0.9556\n",
      "Epoch 4/20\n",
      "6/6 [==============================] - 0s 3ms/step - loss: 0.1123 - accuracy: 0.9630\n",
      "Epoch 5/20\n",
      "6/6 [==============================] - 0s 4ms/step - loss: 0.1103 - accuracy: 0.9630\n",
      "Epoch 6/20\n",
      "6/6 [==============================] - 0s 4ms/step - loss: 0.1091 - accuracy: 0.9630\n",
      "Epoch 7/20\n",
      "6/6 [==============================] - 0s 4ms/step - loss: 0.1070 - accuracy: 0.9630\n",
      "Epoch 8/20\n",
      "6/6 [==============================] - 0s 4ms/step - loss: 0.1060 - accuracy: 0.9630\n",
      "Epoch 9/20\n",
      "6/6 [==============================] - 0s 3ms/step - loss: 0.1047 - accuracy: 0.9630\n",
      "Epoch 10/20\n",
      "6/6 [==============================] - 0s 3ms/step - loss: 0.1037 - accuracy: 0.9630\n",
      "Epoch 11/20\n",
      "6/6 [==============================] - 0s 3ms/step - loss: 0.1024 - accuracy: 0.9630\n",
      "Epoch 12/20\n",
      "6/6 [==============================] - 0s 4ms/step - loss: 0.1005 - accuracy: 0.9630\n",
      "Epoch 13/20\n",
      "6/6 [==============================] - 0s 3ms/step - loss: 0.0994 - accuracy: 0.9630\n",
      "Epoch 14/20\n",
      "6/6 [==============================] - 0s 4ms/step - loss: 0.0981 - accuracy: 0.9630\n",
      "Epoch 15/20\n",
      "6/6 [==============================] - 0s 4ms/step - loss: 0.0984 - accuracy: 0.9630\n",
      "Epoch 16/20\n",
      "6/6 [==============================] - 0s 4ms/step - loss: 0.0961 - accuracy: 0.9630\n",
      "Epoch 17/20\n",
      "6/6 [==============================] - 0s 4ms/step - loss: 0.0950 - accuracy: 0.9630\n",
      "Epoch 18/20\n",
      "6/6 [==============================] - 0s 5ms/step - loss: 0.0935 - accuracy: 0.9630\n",
      "Epoch 19/20\n",
      "6/6 [==============================] - 0s 4ms/step - loss: 0.0935 - accuracy: 0.9630\n",
      "Epoch 20/20\n",
      "6/6 [==============================] - 0s 4ms/step - loss: 0.0920 - accuracy: 0.9630\n",
      "WARNING:tensorflow:6 out of the last 6 calls to <function Model.make_test_function.<locals>.test_function at 0x126af9990> triggered tf.function retracing. Tracing is expensive and the excessive number of tracings could be due to (1) creating @tf.function repeatedly in a loop, (2) passing tensors with different shapes, (3) passing Python objects instead of tensors. For (1), please define your @tf.function outside of the loop. For (2), @tf.function has reduce_retracing=True option that can avoid unnecessary retracing. For (3), please refer to https://www.tensorflow.org/guide/function#controlling_retracing and https://www.tensorflow.org/api_docs/python/tf/function for  more details.\n",
      "1/1 [==============================] - 0s 123ms/step - loss: 0.1325 - accuracy: 0.9333\n",
      "\n",
      "Test acc = 0.93 loss =0.13\n"
     ]
    }
   ],
   "source": [
    "# Train a model on all the data already seen in cross validation.\n",
    "X_train = tf.convert_to_tensor(X_seen)\n",
    "y_train = tf.convert_to_tensor(y_seen)\n",
    "X_test  = tf.convert_to_tensor(X_unseen)\n",
    "y_test  = tf.convert_to_tensor(y_unseen)\n",
    "name = \"MLP_final\"\n",
    "model = keras.Model(inputs=inputs, outputs=outputs, name=name)\n",
    "model.compile(\n",
    "loss=keras.losses.SparseCategoricalCrossentropy(from_logits=True),\n",
    "optimizer=keras.optimizers.RMSprop(),metrics=[\"accuracy\"])\n",
    "history = model.fit(X_train, y_train, batch_size=25, epochs=EPOCHS)\n",
    "test_scores = model.evaluate(X_test, y_test)\n",
    "print()\n",
    "print('Test acc = %.2f loss =%.2f'%(test_scores[1],test_scores[0]))\n"
   ]
  },
  {
   "cell_type": "code",
   "execution_count": 14,
   "metadata": {},
   "outputs": [
    {
     "name": "stdout",
     "output_type": "stream",
     "text": [
      "(135, 4) (135,)\n",
      "(15, 4) (15,)\n"
     ]
    }
   ],
   "source": [
    "print(X_train.shape,y_train.shape)\n",
    "print(X_test.shape,y_test.shape)\n"
   ]
  },
  {
   "cell_type": "markdown",
   "metadata": {},
   "source": [
    "TO DO:\n",
    "We're not using the loss function.\n",
    "Document RMSProp.\n",
    "Document from_logits."
   ]
  }
 ],
 "metadata": {
  "kernelspec": {
   "display_name": "Python 3 (ipykernel)",
   "language": "python",
   "name": "python3"
  },
  "language_info": {
   "codemirror_mode": {
    "name": "ipython",
    "version": 3
   },
   "file_extension": ".py",
   "mimetype": "text/x-python",
   "name": "python",
   "nbconvert_exporter": "python",
   "pygments_lexer": "ipython3",
   "version": "3.10.0"
  }
 },
 "nbformat": 4,
 "nbformat_minor": 2
}
