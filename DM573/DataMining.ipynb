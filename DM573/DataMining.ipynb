{
 "cells": [
  {
   "cell_type": "markdown",
   "metadata": {},
   "source": [
    "# Data Mining\n",
    "General ideas, mostly from Lecture 03.\n",
    "\n",
    "[Book](https://www-users.cse.umn.edu/~kumar001/dmbook/index.php) by Tan et al.\n",
    "I ordered a copy and got a strange reprint of parts of the book!"
   ]
  },
  {
   "cell_type": "markdown",
   "metadata": {},
   "source": [
    "## Hypothesis Testing\n",
    "\n",
    "$H_0$ = null hypothesis, says the predictor variable has no effect.  \n",
    "$H_1$ = alternate hypothesis, says the predictor variable has some effect.   \n",
    "\n",
    "$H_0$ says $mean_1 == mean_2$. This is the null hypothesis.  \n",
    "$H_1$ says $mean_1 > mean_2$. This is the alternate hypothesis.  \n",
    "\n",
    "The experimenter tries to reject the null hypothesis, \n",
    "leaving the alternate as the best explanation.\n",
    "\n",
    "From a [paper](https://www.ncbi.nlm.nih.gov/pmc/articles/PMC2996198/) \n",
    "in Industrial Psychiatry Journal:\n",
    "* A type I error (false-positive) occurs if an investigator rejects a null hypothesis that is actually true in the population.\n",
    "* A type II error (false-negative) occurs if the investigator fails to reject a null hypothesis that is actually false in the population. \n",
    "\n",
    "In other words:\n",
    "* Type I error = False Positive: I claimed a discovery when actually there was nothing there.\n",
    "* Type II error = False Negative: I overlooked the effect and missed out on a Nobel Prize.\n",
    "\n",
    "$\\alpha$ = Probability of Type I error\n",
    "(typically set p<5%).  \n",
    "$\\beta$ = Probability of Type II error \n",
    "(typically <20% for some amount of difference between means).  \n",
    "\n",
    "Confusion matrix. Note that people draw confusion matrices this way or flipped.  \n",
    "\n",
    "|          | Pred pos | Pred neg |  \n",
    "| :------- | :-------- | :--------- |\n",
    "| Is pos     |     TP      |$\\beta$ FN |   \n",
    "| Is neg    | $\\alpha$ FP |    TN      |  "
   ]
  },
  {
   "cell_type": "markdown",
   "metadata": {},
   "source": [
    "Given large enough samples 1 and 2 from one population, \n",
    "the sample differences have a normal distribution.\n",
    "Thus, a difference value in the tail is unlikely.\n",
    "\n",
    "Test statistic: $(mean_1-mean_2) / \\sqrt ( std_1 + std_2)$.  \n",
    "Here, use each population std, i.e. divide by $n_1+n_2$.  \n",
    "\n",
    "When aiming to reject the null hypothesis,\n",
    "define the Rejection Region as: test stat > value that puts $\\alpha$ == 0.05  "
   ]
  },
  {
   "cell_type": "markdown",
   "metadata": {},
   "source": [
    "## Learning\n",
    "Induction: infer the rules from the training data. Build a model.   \n",
    "Deduction: apply to model to unseen data.  \n",
    "Supervised: given gold standard labels (as in classification).  \n",
    "Unsupervised: knowning nothing about the data (as in clustering).  \n",
    "\n",
    "Eager Learning : Build a model on the training data.   \n",
    "Lazy Learning : Wail till a prediction is needed e.g. K Nearest Neighbors, Recommenders, spam detection, online and continuously learning systems. \n",
    "\n",
    "Classification:   \n",
    "After supervised learning, \n",
    "classifiers find a (linear or non-linear) decision boundary.  \n",
    "Bayesian classifiers find the Bayes decision boundary, influenced by priors.  \n",
    "SVM finds a boundary with a margin.  \n",
    "Rules-based classifiers use greedy algorithms to define a set of rules.  \n",
    "Rules-based classifiers put the rules in trees: Decision Tree, C4.5, Random Forest.   \n",
    "Associative classification algorithms build predicate logic: L3, CMAR, \n",
    "[CPAR](http://hanj.cs.illinois.edu/pdf/sdm03_cpar.pdf).  \n",
    "\n",
    "Prediction:  \n",
    "These use another form of supervised learning: learning from time t-1 to predict time t.   \n",
    "Time series forecasting.  \n",
    "Recommender systems.  \n"
   ]
  },
  {
   "cell_type": "markdown",
   "metadata": {},
   "source": [
    "## Statistical Measures\n",
    "\n",
    "Precision = (Predict Yes Correctly)/(Total Yes Predictions) = (TP)/(TP+FP)\n",
    "\n",
    "Recall = Sensitivity = (Predict Yes Correctly)/(Total Actually Yes) = (TP)/(TP+FN)\n",
    "\n",
    "Specificity = (Predict No Correctly)/(Total Actually No) = (TN)/(TN+FP)\n",
    "\n",
    "TPR = Sensitivity = Recall = TP/all_pos = TP/(TP+FN) = 1-FNR  \n",
    "FPR = FP/N = FP/(FP+TN) = rate of believing the negatives  \n",
    "FNR = FN/P = rate of missing the positives  \n",
    "TNR = Specificity = TN/N = TN/(FP+TN) = 1-FPR  \n",
    "Precision = PosPredictValue = TP/all_pred = TP/(TP+FP) = 1-FDR  \n",
    "FDR = FalseDiscovRate = FP/P = FP/(TP+FP)  \n",
    "Accuracy = (TP+TN)/all = (TP+TN)/(P+N)  \n",
    "Balanced accuracy = (TPR+TNR)/2  \n",
    "\n",
    "For binary classification:\n",
    "\n",
    "F-score or F1, is harmonic mean of precision and recall   \n",
    "  = 2 / [ (1/prec) + (1/recall) ]  \n",
    "  = 2 * (prec * recall) / [ recall + prec ]  \n",
    "  = 2 * TP / ( 2 * TP + FN+FP )   \n",
    "  = TP / [ TP + 1/2 * FN+FP ]   \n",
    "F1 gives no credit for TN.   \n",
    "\n",
    "MCC is Mathews Correlation Coefficient   \n",
    " = [ TN * TP ] - [ FP * FN ] / sqrt [ (TP+FP)(TP+FN)(TN+FP)(TN+FN) ]\n",
    "\n",
    "Jaccard index   \n",
    " = TP / TP + FP + TN  \n",
    "Jaccard gives no penalty for FN."
   ]
  },
  {
   "cell_type": "markdown",
   "metadata": {},
   "source": [
    "## The bias/variance trade-off\n",
    "High bias, low variance = underfit.  \n",
    "Think of a line model of parabolic data.  \n",
    "A low-degree model has unfavored regions (high bias), \n",
    "but test data variance will be the same as train data variance.\n",
    "\n",
    "High variance, low bias = overfit.   \n",
    "Think of a squiggly curve model for essentially linear data.  \n",
    "A high-degree model has no unfavored regions (low bias), \n",
    "but test data variance will be higher than train data variance.\n",
    "\n",
    "Generalization error = out-of-sample error = risk.  \n",
    "Truth is unknown so we measure empirical risk on out-of-sample.    \n",
    "Empirical risk = avg loss = sum [ loss(pred,true) ] / n   \n",
    "or error = sum [ loss squared ].\n",
    "\n",
    "Train Loss == Test Loss ==> Low variance but possibly high bias (model too simple).  \n",
    "Train Loss << Test Lost ==> High variance and low bias (model too complex)."
   ]
  },
  {
   "cell_type": "code",
   "execution_count": null,
   "metadata": {},
   "outputs": [],
   "source": []
  }
 ],
 "metadata": {
  "kernelspec": {
   "display_name": "Python 3 (ipykernel)",
   "language": "python",
   "name": "python3"
  },
  "language_info": {
   "codemirror_mode": {
    "name": "ipython",
    "version": 3
   },
   "file_extension": ".py",
   "mimetype": "text/x-python",
   "name": "python",
   "nbconvert_exporter": "python",
   "pygments_lexer": "ipython3",
   "version": "3.10.0"
  }
 },
 "nbformat": 4,
 "nbformat_minor": 2
}
