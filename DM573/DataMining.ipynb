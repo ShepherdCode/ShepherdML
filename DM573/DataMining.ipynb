{
 "cells": [
  {
   "cell_type": "markdown",
   "metadata": {},
   "source": [
    "# Data Mining\n",
    "General ideas, mostly from Lecture 03."
   ]
  },
  {
   "cell_type": "markdown",
   "metadata": {},
   "source": [
    "## Hypothesis Testing\n",
    "$\\alpha$ = Probability of Type I error i.e. missing the truth \n",
    "(typically <5%).  \n",
    "$\\beta$ = Probability of Type II error i.e. falsely claiming truth\n",
    "(typically <20% for some amount of difference between means).  \n",
    "Note that people draw confusion matrices this way or flipped.  \n",
    "\n",
    "|          | Pred pos | Pred neg |  \n",
    "| :------- | :-------- | :--------- |\n",
    "| Is pos     |     TP      |$\\alpha$ FN |   \n",
    "| Is neg    | $\\beta$ FP |    TN      |  "
   ]
  },
  {
   "cell_type": "markdown",
   "metadata": {},
   "source": [
    "$H_0 = mean_1 == mean_2$ null hypothesis.  \n",
    "$H_1 = mean_1 > mean_2$ alternate hypothesis.  \n",
    "Given large samples 1 and 2, the sample differences has a normal distribution.  \n",
    "Test statistic: (mean1-mean2) / sqrt ( std_1 + std_2).  \n",
    "Here, use each population std, i.e. divide by n_1 and n_2.  \n",
    "Aim to reject the null hypothesis.  \n",
    "Rejection Region: test stat > stat that puts $\\alpha$ == 0.05  "
   ]
  },
  {
   "cell_type": "markdown",
   "metadata": {},
   "source": [
    "## Learning\n",
    "Induction: infer the rules from the training data. Build a model.   \n",
    "Deduction: apply to model to unseen data.  \n",
    "Supervised: given gold standard labels (as in classification).  \n",
    "Unsupervised: knowning nothing about the data (as in clustering).  \n",
    "\n",
    "Eager Learning : Build a model on the training data.   \n",
    "Lazy Learning : Wail till a prediction is needed e.g. K Nearest Neighbors, Recommenders, spam detection, online and continuously learning systems. \n",
    "\n",
    "Classification:  \n",
    "Associative classification algorithms are supervised, rules based. Ex: L3, CMAR, CPAR.  \n",
    "\n",
    "Prediction:  \n",
    "Time series forecast.  \n",
    "Recommender.  \n"
   ]
  },
  {
   "cell_type": "markdown",
   "metadata": {},
   "source": [
    "## Statistical Measures\n",
    "TPR = Sensitivity = Recall = TP/all_pos = TP/(TP+FN) = 1-FNR  \n",
    "FPR = FP/N = FP/(FP+TN) = rate of believing the negatives  \n",
    "FNR = FN/P = rate of missing the positives  \n",
    "TNR = Specificity = TN/N = TN/(FP+TN) = 1-FPR  \n",
    "Precision = PosPredictValue = TP/all_pred = TP/(TP+FP) = 1-FDR  \n",
    "FDR = FalseDiscovRate = FP/P = FP/(TP+FP)  \n",
    "Accuracy = (TP+TN)/all = (TP+TN)/(P+N)  \n",
    "Balanced accuracy = (TPR+TNR)/2  \n",
    "\n",
    "For binary classification:\n",
    "\n",
    "F-score or F1, is harmonic mean of precision and recall   \n",
    "  = 2 / [ (1/prec) + (1/recall) ]  \n",
    "  = 2 * (prec * recall) / [ recall + prec ]  \n",
    "  = 2 * TP / ( 2 * TP + FN+FP )   \n",
    "  = TP / [ TP + 1/2 * FN+FP ]   \n",
    "F1 gives no credit for TN.   \n",
    "\n",
    "MCC is Mathews Correlation Coefficient   \n",
    " = [ TN * TP ] - [ FP * FN ] / sqrt [ (TP+FP)(TP+FN)(TN+FP)(TN+FN) ]\n",
    "\n",
    "Jaccard index   \n",
    " = TP / TP + FP + TN  \n",
    "Jaccard gives no penalty for FN."
   ]
  },
  {
   "cell_type": "markdown",
   "metadata": {},
   "source": [
    "## The bias/variance trade-off\n",
    "High bias, low variance = underfit.  \n",
    "Think of a line model of parabolic data.  \n",
    "A low-degree model has unfavored regions (high bias), \n",
    "but test data variance will be the same as train data variance.\n",
    "\n",
    "High variance, low bias = overfit.   \n",
    "Think of a squiggly curve model for essentially linear data.  \n",
    "A high-degree model has no unfavored regions (low bias), \n",
    "but test data variance will be higher than train data variance.\n",
    "\n",
    "Generalization error = out-of-sample error = risk.  \n",
    "Truth is unknown so we measure empirical risk on out-of-sample.    \n",
    "Empirical risk = avg loss = sum [ loss(pred,true) ] / n   \n",
    "or error = sum [ loss squared ].\n",
    "\n",
    "Train Loss == Test Loss ==> Low variance but possibly high bias (model too simple).  \n",
    "Train Loss << Test Lost ==> High variance and low bias (model too complex)."
   ]
  },
  {
   "cell_type": "code",
   "execution_count": null,
   "metadata": {},
   "outputs": [],
   "source": []
  }
 ],
 "metadata": {
  "kernelspec": {
   "display_name": "Python 3",
   "language": "python",
   "name": "python3"
  },
  "language_info": {
   "codemirror_mode": {
    "name": "ipython",
    "version": 3
   },
   "file_extension": ".py",
   "mimetype": "text/x-python",
   "name": "python",
   "nbconvert_exporter": "python",
   "pygments_lexer": "ipython3",
   "version": "3.8.3"
  }
 },
 "nbformat": 4,
 "nbformat_minor": 2
}
