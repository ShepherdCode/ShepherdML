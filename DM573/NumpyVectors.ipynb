{
 "cells": [
  {
   "cell_type": "markdown",
   "id": "f27c0e8e",
   "metadata": {},
   "source": [
    "# Numpy vectors"
   ]
  },
  {
   "cell_type": "code",
   "execution_count": 1,
   "id": "22460c87",
   "metadata": {},
   "outputs": [],
   "source": [
    "import numpy as np\n",
    "def show(mat):\n",
    "    print(mat)\n",
    "    print(mat.ndim,'dimensions.',mat.shape,'shape.')"
   ]
  },
  {
   "cell_type": "code",
   "execution_count": 2,
   "id": "b7dd918f",
   "metadata": {},
   "outputs": [
    {
     "data": {
      "text/plain": [
       "array([[0., 0., 0., 0.],\n",
       "       [0., 0., 0., 0.],\n",
       "       [0., 0., 0., 0.]])"
      ]
     },
     "execution_count": 2,
     "metadata": {},
     "output_type": "execute_result"
    }
   ],
   "source": [
    "mat = np.zeros( (3,4) )\n",
    "mat"
   ]
  },
  {
   "cell_type": "code",
   "execution_count": 3,
   "id": "d165ae92",
   "metadata": {},
   "outputs": [
    {
     "name": "stdout",
     "output_type": "stream",
     "text": [
      "Vector with no orientation\n",
      "[1 2 3]\n",
      "1 dimensions. (3,) shape.\n",
      "Numpy does automatic transpose for dot product\n",
      "14\n"
     ]
    }
   ],
   "source": [
    "print('Vector with no orientation')\n",
    "vector=np.array([1,2,3])\n",
    "show(vector)\n",
    "print('Numpy does automatic transpose for dot product')\n",
    "print(vector.dot(vector)) "
   ]
  },
  {
   "cell_type": "code",
   "execution_count": 4,
   "id": "60894089",
   "metadata": {},
   "outputs": [
    {
     "name": "stdout",
     "output_type": "stream",
     "text": [
      "Row vector: one row, three columns\n",
      "[[1 2 3]]\n",
      "2 dimensions. (1, 3) shape.\n",
      "Transpose: three rows, one column\n",
      "[[1]\n",
      " [2]\n",
      " [3]]\n",
      "2 dimensions. (3, 1) shape.\n",
      "row dot col = 1x3 dot 3x1 = 1x1 matrix\n",
      " [[14]]\n"
     ]
    }
   ],
   "source": [
    "print('Row vector: one row, three columns')\n",
    "vector=np.array([[1,2,3]])  # one way to make a row vector\n",
    "show(vector)\n",
    "print('Transpose: three rows, one column')\n",
    "T = vector.transpose()   \n",
    "show(T)\n",
    "# Numpy raises exception unless dot product given transpose\n",
    "print('row dot col = 1x3 dot 3x1 = 1x1 matrix\\n',vector.dot(T))"
   ]
  },
  {
   "cell_type": "code",
   "execution_count": 5,
   "id": "e64fa12d",
   "metadata": {},
   "outputs": [
    {
     "name": "stdout",
     "output_type": "stream",
     "text": [
      "Row vector: one row, three columns\n",
      "[[1 2 3]]\n",
      "2 dimensions. (1, 3) shape.\n",
      "Transpose: three rows, one column\n",
      "[[1]\n",
      " [2]\n",
      " [3]]\n",
      "2 dimensions. (3, 1) shape.\n",
      "row dot col = 1x3 dot 3x1 = 1x1 matrix\n",
      " [[14]]\n"
     ]
    }
   ],
   "source": [
    "print('Row vector: one row, three columns')\n",
    "vector=np.array([1,2,3])\n",
    "vector.shape=(1,3)  # another way to make a row vector\n",
    "show(vector)\n",
    "print('Transpose: three rows, one column')\n",
    "T = vector.transpose()   \n",
    "show(T)\n",
    "print('row dot col = 1x3 dot 3x1 = 1x1 matrix\\n',vector.dot(T))"
   ]
  },
  {
   "cell_type": "code",
   "execution_count": 6,
   "id": "5c8b49bc",
   "metadata": {},
   "outputs": [
    {
     "name": "stdout",
     "output_type": "stream",
     "text": [
      "Column vector: one column, three rows\n",
      "[[1]\n",
      " [2]\n",
      " [3]]\n",
      "2 dimensions. (3, 1) shape.\n",
      "Transpose: three columns, one row\n",
      "[[1 2 3]]\n",
      "2 dimensions. (1, 3) shape.\n",
      "col dot row = 3x1 dot 1x3 = 3x3 matrix\n",
      "[[1 2 3]\n",
      " [2 4 6]\n",
      " [3 6 9]]\n"
     ]
    }
   ],
   "source": [
    "print('Column vector: one column, three rows')\n",
    "vector=np.array([[1,2,3]]).T  # one way to make a column vector\n",
    "show(vector)\n",
    "print('Transpose: three columns, one row')\n",
    "T = vector.transpose()   \n",
    "show(T)\n",
    "print('col dot row = 3x1 dot 1x3 = 3x3 matrix')\n",
    "print(vector.dot(T))"
   ]
  },
  {
   "cell_type": "code",
   "execution_count": 7,
   "id": "91192ec6",
   "metadata": {},
   "outputs": [
    {
     "name": "stdout",
     "output_type": "stream",
     "text": [
      "Column vector: one column, three rows\n",
      "[[1]\n",
      " [2]\n",
      " [3]]\n",
      "2 dimensions. (3, 1) shape.\n",
      "Transpose: three rows, one column\n",
      "[[1 2 3]]\n",
      "2 dimensions. (1, 3) shape.\n",
      "[[1 2 3]\n",
      " [2 4 6]\n",
      " [3 6 9]]\n"
     ]
    }
   ],
   "source": [
    "print('Column vector: one column, three rows')\n",
    "vector=np.array([1,2,3])  \n",
    "vector.shape=(3,1)  # another way to make a column vector: 3 rows, 1 column\n",
    "show(vector)\n",
    "print('Transpose: three rows, one column')\n",
    "T = vector.transpose()   \n",
    "show(T)\n",
    "print(vector.dot(T)) "
   ]
  },
  {
   "cell_type": "code",
   "execution_count": null,
   "id": "ce7ba340",
   "metadata": {},
   "outputs": [],
   "source": []
  }
 ],
 "metadata": {
  "kernelspec": {
   "display_name": "Python 3 (ipykernel)",
   "language": "python",
   "name": "python3"
  },
  "language_info": {
   "codemirror_mode": {
    "name": "ipython",
    "version": 3
   },
   "file_extension": ".py",
   "mimetype": "text/x-python",
   "name": "python",
   "nbconvert_exporter": "python",
   "pygments_lexer": "ipython3",
   "version": "3.10.0"
  }
 },
 "nbformat": 4,
 "nbformat_minor": 5
}
