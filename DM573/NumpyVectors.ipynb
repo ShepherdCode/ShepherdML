{
 "cells": [
  {
   "cell_type": "markdown",
   "id": "f27c0e8e",
   "metadata": {},
   "source": [
    "# Numpy vectors\n",
    "By default, numpy vectors are neither column vectors nor row vectors.\n",
    "They are truly 1D, just vectors.\n",
    "Numpy does the transpose if necessary.\n",
    "This can be confusing!\n",
    "\n",
    "There are various ways to convince numpy to use a row or column vector."
   ]
  },
  {
   "cell_type": "code",
   "execution_count": 1,
   "id": "22460c87",
   "metadata": {},
   "outputs": [
    {
     "name": "stdout",
     "output_type": "stream",
     "text": [
      "[[0. 0. 0. 0.]\n",
      " [0. 0. 0. 0.]\n",
      " [0. 0. 0. 0.]]\n",
      "2 dimensions. (3, 4) shape.\n"
     ]
    }
   ],
   "source": [
    "import numpy as np\n",
    "# Utility function\n",
    "def show(mat):\n",
    "    print(mat)\n",
    "    print(mat.ndim,'dimensions.',mat.shape,'shape.')\n",
    "# Test the utility\n",
    "mat = np.zeros( (3,4) )\n",
    "show(mat)"
   ]
  },
  {
   "cell_type": "markdown",
   "id": "05f4a3e9",
   "metadata": {},
   "source": [
    "## Vectors have no orientation by default"
   ]
  },
  {
   "cell_type": "code",
   "execution_count": 8,
   "id": "d165ae92",
   "metadata": {},
   "outputs": [
    {
     "name": "stdout",
     "output_type": "stream",
     "text": [
      "Vector with no orientation\n",
      "[1 2 3]\n",
      "1 dimensions. (3,) shape.\n",
      "Numpy does automatic transpose for dot product to produce a scalar\n",
      "14\n",
      "0 dimensions. () shape.\n"
     ]
    }
   ],
   "source": [
    "print('Vector with no orientation')\n",
    "vector=np.array([1,2,3])\n",
    "show(vector)\n",
    "print('Numpy does automatic transpose for dot product to produce a scalar')\n",
    "show(vector.dot(vector)) "
   ]
  },
  {
   "cell_type": "markdown",
   "id": "ed9351a9",
   "metadata": {},
   "source": [
    "## Explicit row or column vectors"
   ]
  },
  {
   "cell_type": "code",
   "execution_count": 3,
   "id": "60894089",
   "metadata": {},
   "outputs": [
    {
     "name": "stdout",
     "output_type": "stream",
     "text": [
      "Row vector: one row, three columns\n",
      "[[1 2 3]]\n",
      "2 dimensions. (1, 3) shape.\n",
      "Transpose: three rows, one column\n",
      "[[1]\n",
      " [2]\n",
      " [3]]\n",
      "2 dimensions. (3, 1) shape.\n",
      "row dot col = 1x3 dot 3x1 = 1x1 matrix\n",
      "[[14]]\n",
      "2 dimensions. (1, 1) shape.\n"
     ]
    }
   ],
   "source": [
    "print('Row vector: one row, three columns')\n",
    "R=np.array([[1,2,3]])  # one way to make a row vector\n",
    "show(R)\n",
    "print('Transpose: three rows, one column')  # one way to make a column vector\n",
    "C = R.transpose()   \n",
    "show(C)\n",
    "# Now, numpy insists that R is row vector and C is column vector.\n",
    "# Numpy raises exception unless the dot product is given one of each.\n",
    "print('row dot col = 1x3 dot 3x1 = 1x1 matrix')\n",
    "show(R.dot(C))"
   ]
  },
  {
   "cell_type": "code",
   "execution_count": 4,
   "id": "e64fa12d",
   "metadata": {},
   "outputs": [
    {
     "name": "stdout",
     "output_type": "stream",
     "text": [
      "Row vector: one row, three columns\n",
      "[[1 2 3]]\n",
      "2 dimensions. (1, 3) shape.\n",
      "Transpose: three rows, one column\n",
      "[[1]\n",
      " [2]\n",
      " [3]]\n",
      "2 dimensions. (3, 1) shape.\n",
      "row dot col = 1x3 dot 3x1 = 1x1 matrix\n",
      "[[14]]\n",
      "2 dimensions. (1, 1) shape.\n"
     ]
    }
   ],
   "source": [
    "print('Row vector: one row, three columns')\n",
    "R=np.array([1,2,3])\n",
    "R.shape=(1,3)  # another way to make a row vector\n",
    "show(R)\n",
    "print('Transpose: three rows, one column') # make a column vector\n",
    "T = R.transpose()   \n",
    "show(T)\n",
    "print('row dot col = 1x3 dot 3x1 = 1x1 matrix')\n",
    "show(R.dot(T))"
   ]
  },
  {
   "cell_type": "code",
   "execution_count": 5,
   "id": "5c8b49bc",
   "metadata": {},
   "outputs": [
    {
     "name": "stdout",
     "output_type": "stream",
     "text": [
      "Column vector: one column, three rows\n",
      "[[1]\n",
      " [2]\n",
      " [3]]\n",
      "2 dimensions. (3, 1) shape.\n",
      "Transpose: three columns, one row\n",
      "[[1 2 3]]\n",
      "2 dimensions. (1, 3) shape.\n",
      "col dot row = 3x1 dot 1x3 = 3x3 matrix\n",
      "[[1 2 3]\n",
      " [2 4 6]\n",
      " [3 6 9]]\n",
      "2 dimensions. (3, 3) shape.\n",
      "row dot col = 1x3 dot 3x1 = 1x1 matrix = scalar\n",
      "[[14]]\n",
      "2 dimensions. (1, 1) shape.\n"
     ]
    }
   ],
   "source": [
    "print('Column vector: one column, three rows')\n",
    "C=np.array([[1,2,3]]).T  # one way to make a column vector\n",
    "show(C)\n",
    "print('Transpose: three columns, one row')\n",
    "T = C.transpose()   # row vector\n",
    "show(T)\n",
    "print('col dot row = 3x1 dot 1x3 = 3x3 matrix')\n",
    "show(C.dot(T))\n",
    "print('row dot col = 1x3 dot 3x1 = 1x1 matrix = scalar')\n",
    "show(T.dot(C))"
   ]
  },
  {
   "cell_type": "code",
   "execution_count": 6,
   "id": "91192ec6",
   "metadata": {},
   "outputs": [
    {
     "name": "stdout",
     "output_type": "stream",
     "text": [
      "Column vector: one column, three rows\n",
      "[[1]\n",
      " [2]\n",
      " [3]]\n",
      "2 dimensions. (3, 1) shape.\n",
      "Transpose: three rows, one column\n",
      "[[1 2 3]]\n",
      "2 dimensions. (1, 3) shape.\n",
      "C.dot(transpose)\n",
      "[[1 2 3]\n",
      " [2 4 6]\n",
      " [3 6 9]]\n",
      "2 dimensions. (3, 3) shape.\n"
     ]
    }
   ],
   "source": [
    "print('Column vector: one column, three rows')\n",
    "C=np.array([1,2,3])  \n",
    "C.shape=(3,1)  # another way to make a column vector: 3 rows, 1 column\n",
    "show(C)\n",
    "print('Transpose: three rows, one column')\n",
    "T = C.transpose()   \n",
    "show(T)\n",
    "print('C.dot(transpose)')\n",
    "show(C.dot(T)) "
   ]
  },
  {
   "cell_type": "code",
   "execution_count": null,
   "id": "ce7ba340",
   "metadata": {},
   "outputs": [],
   "source": []
  }
 ],
 "metadata": {
  "kernelspec": {
   "display_name": "Python 3 (ipykernel)",
   "language": "python",
   "name": "python3"
  },
  "language_info": {
   "codemirror_mode": {
    "name": "ipython",
    "version": 3
   },
   "file_extension": ".py",
   "mimetype": "text/x-python",
   "name": "python",
   "nbconvert_exporter": "python",
   "pygments_lexer": "ipython3",
   "version": "3.10.0"
  }
 },
 "nbformat": 4,
 "nbformat_minor": 5
}
