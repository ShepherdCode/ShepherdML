{
 "cells": [
  {
   "cell_type": "markdown",
   "metadata": {},
   "source": [
    "# Neural Network\n",
    "This notebook applies a simple model to simple data.  \n",
    "Data = Iris.  \n",
    "Model = Fully Connected aka Dense aka Multi-Layer Perceptron (MLP).  \n",
    "Notebook 01: No normalization. Test acc reaches 100% on some runs."
   ]
  },
  {
   "cell_type": "code",
   "execution_count": 1,
   "metadata": {},
   "outputs": [
    {
     "name": "stdout",
     "output_type": "stream",
     "text": [
      "2022-09-03 13:09:14.635459\n",
      "Python 3.10.0\n"
     ]
    }
   ],
   "source": [
    "import datetime\n",
    "print(datetime.datetime.now())\n",
    "from platform import python_version\n",
    "print('Python',python_version())\n",
    "import csv\n",
    "import numpy as np\n",
    "import pandas as pd\n",
    "import matplotlib.pyplot as plt"
   ]
  },
  {
   "cell_type": "code",
   "execution_count": 2,
   "metadata": {},
   "outputs": [
    {
     "name": "stdout",
     "output_type": "stream",
     "text": [
      "shape (150, 4)\n",
      "features ['sepal length (cm)', 'sepal width (cm)', 'petal length (cm)', 'petal width (cm)']\n",
      "labels ['setosa' 'versicolor' 'virginica']\n",
      "X shape (150, 4)\n",
      "y shape (150,)\n"
     ]
    }
   ],
   "source": [
    "from sklearn import datasets\n",
    "from sklearn.utils import shuffle\n",
    "iris = datasets.load_iris()\n",
    "print('shape',iris.data.shape)\n",
    "print('features',iris.feature_names)\n",
    "print('labels',iris.target_names)\n",
    "X = iris.data\n",
    "y = iris.target\n",
    "# At start, all species=0 come first and all species=2 come last.\n",
    "# Important to shuffle rows before doing train/test split and train/valid split.\n",
    "# Another way is using the sklearn train_test_split class.\n",
    "X, y = shuffle(X, y, random_state=0)\n",
    "print('X shape',X.shape)\n",
    "print('y shape',y.shape)\n",
    "num_instances = X.shape[0]\n",
    "num_features =  X.shape[1]"
   ]
  },
  {
   "cell_type": "code",
   "execution_count": 3,
   "metadata": {},
   "outputs": [
    {
     "data": {
      "text/plain": [
       "array([[5.8, 2.8, 5.1, 2.4],\n",
       "       [6. , 2.2, 4. , 1. ],\n",
       "       [5.5, 4.2, 1.4, 0.2],\n",
       "       [7.3, 2.9, 6.3, 1.8],\n",
       "       [5. , 3.4, 1.5, 0.2],\n",
       "       [6.3, 3.3, 6. , 2.5],\n",
       "       [5. , 3.5, 1.3, 0.3],\n",
       "       [6.7, 3.1, 4.7, 1.5],\n",
       "       [6.8, 2.8, 4.8, 1.4],\n",
       "       [6.1, 2.8, 4. , 1.3],\n",
       "       [6.1, 2.6, 5.6, 1.4],\n",
       "       [6.4, 3.2, 4.5, 1.5],\n",
       "       [6.1, 2.8, 4.7, 1.2],\n",
       "       [6.5, 2.8, 4.6, 1.5],\n",
       "       [6.1, 2.9, 4.7, 1.4],\n",
       "       [4.9, 3.6, 1.4, 0.1],\n",
       "       [6. , 2.9, 4.5, 1.5],\n",
       "       [5.5, 2.6, 4.4, 1.2],\n",
       "       [4.8, 3. , 1.4, 0.3],\n",
       "       [5.4, 3.9, 1.3, 0.4],\n",
       "       [5.6, 2.8, 4.9, 2. ],\n",
       "       [5.6, 3. , 4.5, 1.5],\n",
       "       [4.8, 3.4, 1.9, 0.2],\n",
       "       [4.4, 2.9, 1.4, 0.2],\n",
       "       [6.2, 2.8, 4.8, 1.8],\n",
       "       [4.6, 3.6, 1. , 0.2],\n",
       "       [5.1, 3.8, 1.9, 0.4],\n",
       "       [6.2, 2.9, 4.3, 1.3],\n",
       "       [5. , 2.3, 3.3, 1. ],\n",
       "       [5. , 3.4, 1.6, 0.4],\n",
       "       [6.4, 3.1, 5.5, 1.8],\n",
       "       [5.4, 3. , 4.5, 1.5],\n",
       "       [5.2, 3.5, 1.5, 0.2],\n",
       "       [6.1, 3. , 4.9, 1.8],\n",
       "       [6.4, 2.8, 5.6, 2.2],\n",
       "       [5.2, 2.7, 3.9, 1.4],\n",
       "       [5.7, 3.8, 1.7, 0.3],\n",
       "       [6. , 2.7, 5.1, 1.6],\n",
       "       [5.9, 3. , 4.2, 1.5],\n",
       "       [5.8, 2.6, 4. , 1.2],\n",
       "       [6.8, 3. , 5.5, 2.1],\n",
       "       [4.7, 3.2, 1.3, 0.2],\n",
       "       [6.9, 3.1, 5.1, 2.3],\n",
       "       [5. , 3.5, 1.6, 0.6],\n",
       "       [5.4, 3.7, 1.5, 0.2],\n",
       "       [5. , 2. , 3.5, 1. ],\n",
       "       [6.5, 3. , 5.5, 1.8],\n",
       "       [6.7, 3.3, 5.7, 2.5],\n",
       "       [6. , 2.2, 5. , 1.5],\n",
       "       [6.7, 2.5, 5.8, 1.8],\n",
       "       [5.6, 2.5, 3.9, 1.1],\n",
       "       [7.7, 3. , 6.1, 2.3],\n",
       "       [6.3, 3.3, 4.7, 1.6],\n",
       "       [5.5, 2.4, 3.8, 1.1],\n",
       "       [6.3, 2.7, 4.9, 1.8],\n",
       "       [6.3, 2.8, 5.1, 1.5],\n",
       "       [4.9, 2.5, 4.5, 1.7],\n",
       "       [6.3, 2.5, 5. , 1.9],\n",
       "       [7. , 3.2, 4.7, 1.4],\n",
       "       [6.5, 3. , 5.2, 2. ],\n",
       "       [6. , 3.4, 4.5, 1.6],\n",
       "       [4.8, 3.1, 1.6, 0.2],\n",
       "       [5.8, 2.7, 5.1, 1.9],\n",
       "       [5.6, 2.7, 4.2, 1.3],\n",
       "       [5.6, 2.9, 3.6, 1.3],\n",
       "       [5.5, 2.5, 4. , 1.3],\n",
       "       [6.1, 3. , 4.6, 1.4],\n",
       "       [7.2, 3.2, 6. , 1.8],\n",
       "       [5.3, 3.7, 1.5, 0.2],\n",
       "       [4.3, 3. , 1.1, 0.1],\n",
       "       [6.4, 2.7, 5.3, 1.9],\n",
       "       [5.7, 3. , 4.2, 1.2],\n",
       "       [5.4, 3.4, 1.7, 0.2],\n",
       "       [5.7, 4.4, 1.5, 0.4],\n",
       "       [6.9, 3.1, 4.9, 1.5],\n",
       "       [4.6, 3.1, 1.5, 0.2],\n",
       "       [5.9, 3. , 5.1, 1.8],\n",
       "       [5.1, 2.5, 3. , 1.1],\n",
       "       [4.6, 3.4, 1.4, 0.3],\n",
       "       [6.2, 2.2, 4.5, 1.5],\n",
       "       [7.2, 3.6, 6.1, 2.5],\n",
       "       [5.7, 2.9, 4.2, 1.3],\n",
       "       [4.8, 3. , 1.4, 0.1],\n",
       "       [7.1, 3. , 5.9, 2.1],\n",
       "       [6.9, 3.2, 5.7, 2.3],\n",
       "       [6.5, 3. , 5.8, 2.2],\n",
       "       [6.4, 2.8, 5.6, 2.1],\n",
       "       [5.1, 3.8, 1.6, 0.2],\n",
       "       [4.8, 3.4, 1.6, 0.2],\n",
       "       [6.5, 3.2, 5.1, 2. ],\n",
       "       [6.7, 3.3, 5.7, 2.1],\n",
       "       [4.5, 2.3, 1.3, 0.3],\n",
       "       [6.2, 3.4, 5.4, 2.3],\n",
       "       [4.9, 3. , 1.4, 0.2],\n",
       "       [5.7, 2.5, 5. , 2. ],\n",
       "       [6.9, 3.1, 5.4, 2.1],\n",
       "       [4.4, 3.2, 1.3, 0.2],\n",
       "       [5. , 3.6, 1.4, 0.2],\n",
       "       [7.2, 3. , 5.8, 1.6],\n",
       "       [5.1, 3.5, 1.4, 0.3],\n",
       "       [4.4, 3. , 1.3, 0.2],\n",
       "       [5.4, 3.9, 1.7, 0.4],\n",
       "       [5.5, 2.3, 4. , 1.3],\n",
       "       [6.8, 3.2, 5.9, 2.3],\n",
       "       [7.6, 3. , 6.6, 2.1],\n",
       "       [5.1, 3.5, 1.4, 0.2],\n",
       "       [4.9, 3.1, 1.5, 0.2],\n",
       "       [5.2, 3.4, 1.4, 0.2],\n",
       "       [5.7, 2.8, 4.5, 1.3],\n",
       "       [6.6, 3. , 4.4, 1.4],\n",
       "       [5. , 3.2, 1.2, 0.2],\n",
       "       [5.1, 3.3, 1.7, 0.5],\n",
       "       [6.4, 2.9, 4.3, 1.3],\n",
       "       [5.4, 3.4, 1.5, 0.4],\n",
       "       [7.7, 2.6, 6.9, 2.3],\n",
       "       [4.9, 2.4, 3.3, 1. ],\n",
       "       [7.9, 3.8, 6.4, 2. ],\n",
       "       [6.7, 3.1, 4.4, 1.4],\n",
       "       [5.2, 4.1, 1.5, 0.1],\n",
       "       [6. , 3. , 4.8, 1.8],\n",
       "       [5.8, 4. , 1.2, 0.2],\n",
       "       [7.7, 2.8, 6.7, 2. ],\n",
       "       [5.1, 3.8, 1.5, 0.3],\n",
       "       [4.7, 3.2, 1.6, 0.2],\n",
       "       [7.4, 2.8, 6.1, 1.9],\n",
       "       [5. , 3.3, 1.4, 0.2],\n",
       "       [6.3, 3.4, 5.6, 2.4],\n",
       "       [5.7, 2.8, 4.1, 1.3],\n",
       "       [5.8, 2.7, 3.9, 1.2],\n",
       "       [5.7, 2.6, 3.5, 1. ],\n",
       "       [6.4, 3.2, 5.3, 2.3],\n",
       "       [6.7, 3. , 5.2, 2.3],\n",
       "       [6.3, 2.5, 4.9, 1.5],\n",
       "       [6.7, 3. , 5. , 1.7],\n",
       "       [5. , 3. , 1.6, 0.2],\n",
       "       [5.5, 2.4, 3.7, 1. ],\n",
       "       [6.7, 3.1, 5.6, 2.4],\n",
       "       [5.8, 2.7, 5.1, 1.9],\n",
       "       [5.1, 3.4, 1.5, 0.2],\n",
       "       [6.6, 2.9, 4.6, 1.3],\n",
       "       [5.6, 3. , 4.1, 1.3],\n",
       "       [5.9, 3.2, 4.8, 1.8],\n",
       "       [6.3, 2.3, 4.4, 1.3],\n",
       "       [5.5, 3.5, 1.3, 0.2],\n",
       "       [5.1, 3.7, 1.5, 0.4],\n",
       "       [4.9, 3.1, 1.5, 0.1],\n",
       "       [6.3, 2.9, 5.6, 1.8],\n",
       "       [5.8, 2.7, 4.1, 1. ],\n",
       "       [7.7, 3.8, 6.7, 2.2],\n",
       "       [4.6, 3.2, 1.4, 0.2]])"
      ]
     },
     "execution_count": 3,
     "metadata": {},
     "output_type": "execute_result"
    }
   ],
   "source": [
    "# TO DO: normalize\n",
    "X"
   ]
  },
  {
   "cell_type": "code",
   "execution_count": 4,
   "metadata": {},
   "outputs": [],
   "source": [
    "X_train = X[:125]\n",
    "y_train = y[:125]\n",
    "X_test  = X[125:]\n",
    "y_test  = y[125:]"
   ]
  },
  {
   "cell_type": "markdown",
   "metadata": {},
   "source": [
    "Keras offers 2 means of building a model.  \n",
    "1. The [Sequential class](https://keras.io/api/models/sequential/#sequential-class) is simple. It has an add(layer) method. It maintains layers in the order they were added. It allows linear models only. Every layer has one input and one output.\n",
    "1. The [Functional API](https://keras.io/guides/functional_api/) is complex. It allows DAG models. Layers can be skipped, reused, and multiply connected.\n",
    "\n",
    "The Dense layer has these constructor options.\n",
    "1. num units\n",
    "1. activation. Default=linear. Choices are relu, elu, softplus (smooth relu), softmax, sigmoid, tanh, exponential. There is an API so you can build your own.\n",
    "1. use_bias. Default=True\n",
    "1. kernel_initializer. Default=\"glorot_uniform\"\n",
    "1. regularizers for the bias, kernel, and activity. Default=None."
   ]
  },
  {
   "cell_type": "code",
   "execution_count": 5,
   "metadata": {},
   "outputs": [],
   "source": [
    "from tensorflow import keras\n",
    "from keras import layers"
   ]
  },
  {
   "cell_type": "code",
   "execution_count": 6,
   "metadata": {},
   "outputs": [
    {
     "data": {
      "text/plain": [
       "<KerasTensor: shape=(None, 4) dtype=float32 (created by layer 'input_1')>"
      ]
     },
     "execution_count": 6,
     "metadata": {},
     "output_type": "execute_result"
    }
   ],
   "source": [
    "inputs = keras.Input(shape=(num_features,))\n",
    "inputs"
   ]
  },
  {
   "cell_type": "code",
   "execution_count": 7,
   "metadata": {},
   "outputs": [
    {
     "name": "stderr",
     "output_type": "stream",
     "text": [
      "2022-09-03 13:09:26.251898: I tensorflow/core/platform/cpu_feature_guard.cc:193] This TensorFlow binary is optimized with oneAPI Deep Neural Network Library (oneDNN) to use the following CPU instructions in performance-critical operations:  AVX2 FMA\n",
      "To enable them in other operations, rebuild TensorFlow with the appropriate compiler flags.\n"
     ]
    },
    {
     "data": {
      "text/plain": [
       "<KerasTensor: shape=(None, 3) dtype=float32 (created by layer 'dense_2')>"
      ]
     },
     "execution_count": 7,
     "metadata": {},
     "output_type": "execute_result"
    }
   ],
   "source": [
    "dense1 = layers.Dense(64, activation=\"relu\")(inputs)\n",
    "dense2 = layers.Dense(64, activation=\"relu\")(dense1)\n",
    "outputs = layers.Dense(3)(dense2)\n",
    "outputs"
   ]
  },
  {
   "cell_type": "code",
   "execution_count": 8,
   "metadata": {},
   "outputs": [
    {
     "name": "stdout",
     "output_type": "stream",
     "text": [
      "Model: \"MLP_1\"\n",
      "_________________________________________________________________\n",
      " Layer (type)                Output Shape              Param #   \n",
      "=================================================================\n",
      " input_1 (InputLayer)        [(None, 4)]               0         \n",
      "                                                                 \n",
      " dense (Dense)               (None, 64)                320       \n",
      "                                                                 \n",
      " dense_1 (Dense)             (None, 64)                4160      \n",
      "                                                                 \n",
      " dense_2 (Dense)             (None, 3)                 195       \n",
      "                                                                 \n",
      "=================================================================\n",
      "Total params: 4,675\n",
      "Trainable params: 4,675\n",
      "Non-trainable params: 0\n",
      "_________________________________________________________________\n"
     ]
    }
   ],
   "source": [
    "model = keras.Model(inputs=inputs, outputs=outputs, name=\"MLP_1\")\n",
    "model.summary()"
   ]
  },
  {
   "cell_type": "markdown",
   "metadata": {},
   "source": [
    "Explain the number of trainable parameters:\n",
    "1. Dense_0: 4 in * 64 out +64 bias = 256 + 64 = 320 \n",
    "1. Dense_1: 64 in * 64 out + 64 bias = 4096 + 64 = 4160\n",
    "1. Dense_2: 64 in * 3 out + 3 bias = 192 + 3 = 195"
   ]
  },
  {
   "cell_type": "code",
   "execution_count": 9,
   "metadata": {},
   "outputs": [],
   "source": [
    "model.compile(\n",
    "    loss=keras.losses.SparseCategoricalCrossentropy(from_logits=True),\n",
    "    optimizer=keras.optimizers.RMSprop(),\n",
    "    metrics=[\"accuracy\"],\n",
    ")"
   ]
  },
  {
   "cell_type": "markdown",
   "metadata": {},
   "source": [
    "Note on model.fit() and model.evaluate()  \n",
    "Both methods are written to be customized."
   ]
  },
  {
   "cell_type": "code",
   "execution_count": 10,
   "metadata": {},
   "outputs": [
    {
     "name": "stdout",
     "output_type": "stream",
     "text": [
      "Epoch 1/100\n",
      "2/2 [==============================] - 1s 183ms/step - loss: 1.4611 - accuracy: 0.0600 - val_loss: 1.0638 - val_accuracy: 0.2400\n",
      "Epoch 2/100\n",
      "2/2 [==============================] - 0s 53ms/step - loss: 1.0373 - accuracy: 0.4200 - val_loss: 0.9320 - val_accuracy: 0.2800\n",
      "Epoch 3/100\n",
      "2/2 [==============================] - 0s 36ms/step - loss: 0.9336 - accuracy: 0.4000 - val_loss: 0.8617 - val_accuracy: 0.7600\n",
      "Epoch 4/100\n",
      "2/2 [==============================] - 0s 43ms/step - loss: 0.9041 - accuracy: 0.6800 - val_loss: 0.8280 - val_accuracy: 0.7600\n",
      "Epoch 5/100\n",
      "2/2 [==============================] - 0s 30ms/step - loss: 0.8535 - accuracy: 0.6500 - val_loss: 0.7554 - val_accuracy: 0.7600\n",
      "Epoch 6/100\n",
      "2/2 [==============================] - 0s 44ms/step - loss: 0.8148 - accuracy: 0.6600 - val_loss: 0.7174 - val_accuracy: 0.9200\n",
      "Epoch 7/100\n",
      "2/2 [==============================] - 0s 34ms/step - loss: 0.7877 - accuracy: 0.7300 - val_loss: 0.7238 - val_accuracy: 0.9200\n",
      "Epoch 8/100\n",
      "2/2 [==============================] - 0s 48ms/step - loss: 0.7439 - accuracy: 0.8400 - val_loss: 0.6341 - val_accuracy: 0.7600\n",
      "Epoch 9/100\n",
      "2/2 [==============================] - 0s 37ms/step - loss: 0.7117 - accuracy: 0.6700 - val_loss: 0.6475 - val_accuracy: 0.9600\n",
      "Epoch 10/100\n",
      "2/2 [==============================] - 0s 39ms/step - loss: 0.7010 - accuracy: 0.8300 - val_loss: 0.6212 - val_accuracy: 0.9600\n",
      "Epoch 11/100\n",
      "2/2 [==============================] - 0s 36ms/step - loss: 0.7294 - accuracy: 0.8000 - val_loss: 0.6204 - val_accuracy: 0.7600\n",
      "Epoch 12/100\n",
      "2/2 [==============================] - 0s 35ms/step - loss: 0.6703 - accuracy: 0.7200 - val_loss: 0.5428 - val_accuracy: 0.9200\n",
      "Epoch 13/100\n",
      "2/2 [==============================] - 0s 32ms/step - loss: 0.6251 - accuracy: 0.9300 - val_loss: 0.5220 - val_accuracy: 0.7600\n",
      "Epoch 14/100\n",
      "2/2 [==============================] - 0s 33ms/step - loss: 0.6130 - accuracy: 0.7400 - val_loss: 0.5034 - val_accuracy: 0.9200\n",
      "Epoch 15/100\n",
      "2/2 [==============================] - 0s 31ms/step - loss: 0.5870 - accuracy: 0.7100 - val_loss: 0.5071 - val_accuracy: 0.9200\n",
      "Epoch 16/100\n",
      "2/2 [==============================] - 0s 34ms/step - loss: 0.5712 - accuracy: 0.9700 - val_loss: 0.4689 - val_accuracy: 0.7600\n",
      "Epoch 17/100\n",
      "2/2 [==============================] - 0s 31ms/step - loss: 0.5580 - accuracy: 0.6800 - val_loss: 0.4891 - val_accuracy: 0.8800\n",
      "Epoch 18/100\n",
      "2/2 [==============================] - 0s 32ms/step - loss: 0.5613 - accuracy: 0.7600 - val_loss: 0.4429 - val_accuracy: 0.9600\n",
      "Epoch 19/100\n",
      "2/2 [==============================] - 0s 34ms/step - loss: 0.5260 - accuracy: 0.9100 - val_loss: 0.4222 - val_accuracy: 0.9200\n",
      "Epoch 20/100\n",
      "2/2 [==============================] - 0s 34ms/step - loss: 0.5195 - accuracy: 0.8500 - val_loss: 0.4122 - val_accuracy: 0.7600\n",
      "Epoch 21/100\n",
      "2/2 [==============================] - 0s 36ms/step - loss: 0.5173 - accuracy: 0.7700 - val_loss: 0.3888 - val_accuracy: 0.9200\n",
      "Epoch 22/100\n",
      "2/2 [==============================] - 0s 36ms/step - loss: 0.5004 - accuracy: 0.8200 - val_loss: 0.3857 - val_accuracy: 0.7600\n",
      "Epoch 23/100\n",
      "2/2 [==============================] - 0s 55ms/step - loss: 0.4852 - accuracy: 0.7700 - val_loss: 0.3685 - val_accuracy: 1.0000\n",
      "Epoch 24/100\n",
      "2/2 [==============================] - 0s 51ms/step - loss: 0.4721 - accuracy: 0.8800 - val_loss: 0.3752 - val_accuracy: 0.9200\n",
      "Epoch 25/100\n",
      "2/2 [==============================] - 0s 35ms/step - loss: 0.4558 - accuracy: 0.9200 - val_loss: 0.3499 - val_accuracy: 0.7600\n",
      "Epoch 26/100\n",
      "2/2 [==============================] - 0s 37ms/step - loss: 0.4554 - accuracy: 0.8100 - val_loss: 0.3407 - val_accuracy: 0.9200\n",
      "Epoch 27/100\n",
      "2/2 [==============================] - 0s 30ms/step - loss: 0.4418 - accuracy: 0.8500 - val_loss: 0.3765 - val_accuracy: 0.8800\n",
      "Epoch 28/100\n",
      "2/2 [==============================] - 0s 37ms/step - loss: 0.4668 - accuracy: 0.7700 - val_loss: 0.3388 - val_accuracy: 0.9200\n",
      "Epoch 29/100\n",
      "2/2 [==============================] - 0s 33ms/step - loss: 0.4322 - accuracy: 0.9300 - val_loss: 0.3437 - val_accuracy: 0.7600\n",
      "Epoch 30/100\n",
      "2/2 [==============================] - 0s 30ms/step - loss: 0.4499 - accuracy: 0.7700 - val_loss: 0.3031 - val_accuracy: 1.0000\n",
      "Epoch 31/100\n",
      "2/2 [==============================] - 0s 36ms/step - loss: 0.4013 - accuracy: 0.9600 - val_loss: 0.2944 - val_accuracy: 1.0000\n",
      "Epoch 32/100\n",
      "2/2 [==============================] - 0s 33ms/step - loss: 0.3996 - accuracy: 0.9600 - val_loss: 0.2923 - val_accuracy: 0.9200\n",
      "Epoch 33/100\n",
      "2/2 [==============================] - 0s 35ms/step - loss: 0.3906 - accuracy: 0.8600 - val_loss: 0.2945 - val_accuracy: 0.9200\n",
      "Epoch 34/100\n",
      "2/2 [==============================] - 0s 41ms/step - loss: 0.3823 - accuracy: 0.9400 - val_loss: 0.2709 - val_accuracy: 1.0000\n",
      "Epoch 35/100\n",
      "2/2 [==============================] - 0s 36ms/step - loss: 0.3832 - accuracy: 0.9700 - val_loss: 0.2846 - val_accuracy: 0.8400\n",
      "Epoch 36/100\n",
      "2/2 [==============================] - 0s 59ms/step - loss: 0.4176 - accuracy: 0.7800 - val_loss: 0.2647 - val_accuracy: 0.9200\n",
      "Epoch 37/100\n",
      "2/2 [==============================] - 0s 31ms/step - loss: 0.3620 - accuracy: 0.8600 - val_loss: 0.2699 - val_accuracy: 0.9200\n",
      "Epoch 38/100\n",
      "2/2 [==============================] - 0s 33ms/step - loss: 0.3623 - accuracy: 0.9000 - val_loss: 0.2550 - val_accuracy: 0.9600\n",
      "Epoch 39/100\n",
      "2/2 [==============================] - 0s 41ms/step - loss: 0.3726 - accuracy: 0.9100 - val_loss: 0.2872 - val_accuracy: 0.8800\n",
      "Epoch 40/100\n",
      "2/2 [==============================] - 0s 35ms/step - loss: 0.3483 - accuracy: 0.9200 - val_loss: 0.2339 - val_accuracy: 0.9200\n",
      "Epoch 41/100\n",
      "2/2 [==============================] - 0s 35ms/step - loss: 0.3323 - accuracy: 0.9100 - val_loss: 0.2299 - val_accuracy: 1.0000\n",
      "Epoch 42/100\n",
      "2/2 [==============================] - 0s 29ms/step - loss: 0.3488 - accuracy: 0.9200 - val_loss: 0.2784 - val_accuracy: 0.8800\n",
      "Epoch 43/100\n",
      "2/2 [==============================] - 0s 37ms/step - loss: 0.3538 - accuracy: 0.8500 - val_loss: 0.2212 - val_accuracy: 1.0000\n",
      "Epoch 44/100\n",
      "2/2 [==============================] - 0s 42ms/step - loss: 0.3120 - accuracy: 0.9800 - val_loss: 0.2124 - val_accuracy: 0.9600\n",
      "Epoch 45/100\n",
      "2/2 [==============================] - 0s 48ms/step - loss: 0.3160 - accuracy: 0.9300 - val_loss: 0.2092 - val_accuracy: 0.9600\n",
      "Epoch 46/100\n",
      "2/2 [==============================] - 0s 48ms/step - loss: 0.3199 - accuracy: 0.9300 - val_loss: 0.2122 - val_accuracy: 0.9200\n",
      "Epoch 47/100\n",
      "2/2 [==============================] - 0s 46ms/step - loss: 0.3153 - accuracy: 0.8900 - val_loss: 0.1988 - val_accuracy: 1.0000\n",
      "Epoch 48/100\n",
      "2/2 [==============================] - 0s 59ms/step - loss: 0.2924 - accuracy: 0.9700 - val_loss: 0.1950 - val_accuracy: 1.0000\n",
      "Epoch 49/100\n",
      "2/2 [==============================] - 0s 30ms/step - loss: 0.2899 - accuracy: 0.9800 - val_loss: 0.1942 - val_accuracy: 0.9200\n",
      "Epoch 50/100\n",
      "2/2 [==============================] - 0s 47ms/step - loss: 0.2836 - accuracy: 0.9400 - val_loss: 0.2184 - val_accuracy: 0.9200\n",
      "Epoch 51/100\n",
      "2/2 [==============================] - 0s 28ms/step - loss: 0.2801 - accuracy: 0.9600 - val_loss: 0.1879 - val_accuracy: 0.9200\n",
      "Epoch 52/100\n",
      "2/2 [==============================] - 0s 40ms/step - loss: 0.2869 - accuracy: 0.9100 - val_loss: 0.1785 - val_accuracy: 1.0000\n",
      "Epoch 53/100\n",
      "2/2 [==============================] - 0s 36ms/step - loss: 0.2693 - accuracy: 0.9600 - val_loss: 0.1737 - val_accuracy: 1.0000\n",
      "Epoch 54/100\n",
      "2/2 [==============================] - 0s 34ms/step - loss: 0.2649 - accuracy: 0.9700 - val_loss: 0.1805 - val_accuracy: 0.9200\n",
      "Epoch 55/100\n",
      "2/2 [==============================] - 0s 34ms/step - loss: 0.3137 - accuracy: 0.8600 - val_loss: 0.1789 - val_accuracy: 0.9200\n",
      "Epoch 56/100\n",
      "2/2 [==============================] - 0s 29ms/step - loss: 0.2943 - accuracy: 0.8900 - val_loss: 0.1690 - val_accuracy: 0.9200\n",
      "Epoch 57/100\n",
      "2/2 [==============================] - 0s 30ms/step - loss: 0.2640 - accuracy: 0.9400 - val_loss: 0.1593 - val_accuracy: 1.0000\n",
      "Epoch 58/100\n",
      "2/2 [==============================] - 0s 55ms/step - loss: 0.2573 - accuracy: 0.9600 - val_loss: 0.1702 - val_accuracy: 0.9200\n",
      "Epoch 59/100\n"
     ]
    },
    {
     "name": "stdout",
     "output_type": "stream",
     "text": [
      "2/2 [==============================] - 0s 31ms/step - loss: 0.2677 - accuracy: 0.8900 - val_loss: 0.1528 - val_accuracy: 1.0000\n",
      "Epoch 60/100\n",
      "2/2 [==============================] - 0s 32ms/step - loss: 0.2414 - accuracy: 0.9700 - val_loss: 0.1510 - val_accuracy: 1.0000\n",
      "Epoch 61/100\n",
      "2/2 [==============================] - 0s 24ms/step - loss: 0.2612 - accuracy: 0.9100 - val_loss: 0.1551 - val_accuracy: 0.9200\n",
      "Epoch 62/100\n",
      "2/2 [==============================] - 0s 34ms/step - loss: 0.2363 - accuracy: 0.9600 - val_loss: 0.1792 - val_accuracy: 0.9200\n",
      "Epoch 63/100\n",
      "2/2 [==============================] - 0s 51ms/step - loss: 0.2519 - accuracy: 0.9300 - val_loss: 0.1428 - val_accuracy: 1.0000\n",
      "Epoch 64/100\n",
      "2/2 [==============================] - 0s 41ms/step - loss: 0.2236 - accuracy: 0.9800 - val_loss: 0.1520 - val_accuracy: 0.9600\n",
      "Epoch 65/100\n",
      "2/2 [==============================] - 0s 31ms/step - loss: 0.2249 - accuracy: 0.9700 - val_loss: 0.1429 - val_accuracy: 1.0000\n",
      "Epoch 66/100\n",
      "2/2 [==============================] - 0s 26ms/step - loss: 0.2216 - accuracy: 0.9700 - val_loss: 0.1574 - val_accuracy: 0.9200\n",
      "Epoch 67/100\n",
      "2/2 [==============================] - 0s 30ms/step - loss: 0.2314 - accuracy: 0.9000 - val_loss: 0.1563 - val_accuracy: 0.9200\n",
      "Epoch 68/100\n",
      "2/2 [==============================] - 0s 31ms/step - loss: 0.2173 - accuracy: 0.9500 - val_loss: 0.1277 - val_accuracy: 1.0000\n",
      "Epoch 69/100\n",
      "2/2 [==============================] - 0s 30ms/step - loss: 0.2018 - accuracy: 0.9800 - val_loss: 0.1273 - val_accuracy: 1.0000\n",
      "Epoch 70/100\n",
      "2/2 [==============================] - 0s 27ms/step - loss: 0.1981 - accuracy: 0.9800 - val_loss: 0.1215 - val_accuracy: 1.0000\n",
      "Epoch 71/100\n",
      "2/2 [==============================] - 0s 30ms/step - loss: 0.2021 - accuracy: 0.9700 - val_loss: 0.1809 - val_accuracy: 0.9200\n",
      "Epoch 72/100\n",
      "2/2 [==============================] - 0s 32ms/step - loss: 0.2488 - accuracy: 0.9200 - val_loss: 0.1359 - val_accuracy: 0.9200\n",
      "Epoch 73/100\n",
      "2/2 [==============================] - 0s 28ms/step - loss: 0.1991 - accuracy: 0.9600 - val_loss: 0.1200 - val_accuracy: 1.0000\n",
      "Epoch 74/100\n",
      "2/2 [==============================] - 0s 28ms/step - loss: 0.1873 - accuracy: 0.9800 - val_loss: 0.1163 - val_accuracy: 1.0000\n",
      "Epoch 75/100\n",
      "2/2 [==============================] - 0s 30ms/step - loss: 0.1825 - accuracy: 0.9800 - val_loss: 0.1130 - val_accuracy: 1.0000\n",
      "Epoch 76/100\n",
      "2/2 [==============================] - 0s 30ms/step - loss: 0.1805 - accuracy: 0.9700 - val_loss: 0.1166 - val_accuracy: 0.9600\n",
      "Epoch 77/100\n",
      "2/2 [==============================] - 0s 30ms/step - loss: 0.1908 - accuracy: 0.9600 - val_loss: 0.1438 - val_accuracy: 0.9200\n",
      "Epoch 78/100\n",
      "2/2 [==============================] - 0s 31ms/step - loss: 0.2189 - accuracy: 0.9400 - val_loss: 0.1272 - val_accuracy: 0.9200\n",
      "Epoch 79/100\n",
      "2/2 [==============================] - 0s 29ms/step - loss: 0.1843 - accuracy: 0.9500 - val_loss: 0.1082 - val_accuracy: 1.0000\n",
      "Epoch 80/100\n",
      "2/2 [==============================] - 0s 32ms/step - loss: 0.1835 - accuracy: 0.9600 - val_loss: 0.1377 - val_accuracy: 0.9200\n",
      "Epoch 81/100\n",
      "2/2 [==============================] - 0s 27ms/step - loss: 0.1955 - accuracy: 0.9600 - val_loss: 0.1155 - val_accuracy: 0.9600\n",
      "Epoch 82/100\n",
      "2/2 [==============================] - 0s 32ms/step - loss: 0.1842 - accuracy: 0.9500 - val_loss: 0.1203 - val_accuracy: 0.9200\n",
      "Epoch 83/100\n",
      "2/2 [==============================] - 0s 32ms/step - loss: 0.1652 - accuracy: 0.9600 - val_loss: 0.0936 - val_accuracy: 1.0000\n",
      "Epoch 84/100\n",
      "2/2 [==============================] - 0s 36ms/step - loss: 0.1587 - accuracy: 0.9900 - val_loss: 0.1110 - val_accuracy: 0.9600\n",
      "Epoch 85/100\n",
      "2/2 [==============================] - 0s 58ms/step - loss: 0.1719 - accuracy: 0.9500 - val_loss: 0.1131 - val_accuracy: 0.9200\n",
      "Epoch 86/100\n",
      "2/2 [==============================] - 0s 30ms/step - loss: 0.1816 - accuracy: 0.9400 - val_loss: 0.1176 - val_accuracy: 0.9200\n",
      "Epoch 87/100\n",
      "2/2 [==============================] - 0s 31ms/step - loss: 0.1597 - accuracy: 0.9400 - val_loss: 0.0870 - val_accuracy: 1.0000\n",
      "Epoch 88/100\n",
      "2/2 [==============================] - 0s 56ms/step - loss: 0.1501 - accuracy: 0.9800 - val_loss: 0.1030 - val_accuracy: 0.9600\n",
      "Epoch 89/100\n",
      "2/2 [==============================] - 0s 32ms/step - loss: 0.1565 - accuracy: 0.9700 - val_loss: 0.0986 - val_accuracy: 0.9600\n",
      "Epoch 90/100\n",
      "2/2 [==============================] - 0s 30ms/step - loss: 0.1570 - accuracy: 0.9600 - val_loss: 0.1078 - val_accuracy: 0.9200\n",
      "Epoch 91/100\n",
      "2/2 [==============================] - 0s 30ms/step - loss: 0.1607 - accuracy: 0.9500 - val_loss: 0.1114 - val_accuracy: 0.9200\n",
      "Epoch 92/100\n",
      "2/2 [==============================] - 0s 30ms/step - loss: 0.1901 - accuracy: 0.9000 - val_loss: 0.1288 - val_accuracy: 0.9200\n",
      "Epoch 93/100\n",
      "2/2 [==============================] - 0s 50ms/step - loss: 0.1607 - accuracy: 0.9400 - val_loss: 0.0810 - val_accuracy: 1.0000\n",
      "Epoch 94/100\n",
      "2/2 [==============================] - 0s 53ms/step - loss: 0.1387 - accuracy: 0.9800 - val_loss: 0.0895 - val_accuracy: 1.0000\n",
      "Epoch 95/100\n",
      "2/2 [==============================] - 0s 24ms/step - loss: 0.1437 - accuracy: 0.9800 - val_loss: 0.0922 - val_accuracy: 0.9600\n",
      "Epoch 96/100\n",
      "2/2 [==============================] - 0s 30ms/step - loss: 0.1433 - accuracy: 0.9800 - val_loss: 0.0890 - val_accuracy: 1.0000\n",
      "Epoch 97/100\n",
      "2/2 [==============================] - 0s 30ms/step - loss: 0.1343 - accuracy: 0.9700 - val_loss: 0.0751 - val_accuracy: 1.0000\n",
      "Epoch 98/100\n",
      "2/2 [==============================] - 0s 53ms/step - loss: 0.1320 - accuracy: 0.9800 - val_loss: 0.1086 - val_accuracy: 0.9200\n",
      "Epoch 99/100\n",
      "2/2 [==============================] - 0s 27ms/step - loss: 0.1685 - accuracy: 0.9300 - val_loss: 0.1190 - val_accuracy: 0.9200\n",
      "Epoch 100/100\n",
      "2/2 [==============================] - 0s 31ms/step - loss: 0.1824 - accuracy: 0.9300 - val_loss: 0.0874 - val_accuracy: 0.9600\n"
     ]
    }
   ],
   "source": [
    "EPOCHS=100\n",
    "history = model.fit(X_train, y_train, batch_size=64, epochs=EPOCHS, validation_split=0.2)"
   ]
  },
  {
   "cell_type": "code",
   "execution_count": 11,
   "metadata": {},
   "outputs": [
    {
     "data": {
      "image/png": "[encoded data removed]",
      "text/plain": [
       "<Figure size 800x500 with 1 Axes>"
      ]
     },
     "metadata": {},
     "output_type": "display_data"
    }
   ],
   "source": [
    "pd.DataFrame(history.history).plot(figsize=(8,5))\n",
    "plt.show()"
   ]
  },
  {
   "cell_type": "code",
   "execution_count": 12,
   "metadata": {},
   "outputs": [
    {
     "name": "stdout",
     "output_type": "stream",
     "text": [
      "1/1 - 0s - loss: 0.1084 - accuracy: 1.0000 - 18ms/epoch - 18ms/step\n",
      "Test loss: 0.10842899978160858\n",
      "Test accuracy: 1.0\n"
     ]
    }
   ],
   "source": [
    "test_scores = model.evaluate(X_test, y_test, verbose=2)\n",
    "print(\"Test loss:\", test_scores[0])\n",
    "print(\"Test accuracy:\", test_scores[1])"
   ]
  },
  {
   "cell_type": "code",
   "execution_count": null,
   "metadata": {},
   "outputs": [],
   "source": []
  }
 ],
 "metadata": {
  "kernelspec": {
   "display_name": "Python 3 (ipykernel)",
   "language": "python",
   "name": "python3"
  },
  "language_info": {
   "codemirror_mode": {
    "name": "ipython",
    "version": 3
   },
   "file_extension": ".py",
   "mimetype": "text/x-python",
   "name": "python",
   "nbconvert_exporter": "python",
   "pygments_lexer": "ipython3",
   "version": "3.10.0"
  }
 },
 "nbformat": 4,
 "nbformat_minor": 2
}
