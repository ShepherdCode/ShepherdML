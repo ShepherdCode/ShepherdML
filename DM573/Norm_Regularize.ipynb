{
 "cells": [
  {
   "cell_type": "markdown",
   "metadata": {},
   "source": [
    "# Norms and Regularizers\n"
   ]
  },
  {
   "cell_type": "markdown",
   "metadata": {},
   "source": [
    "## Basic terms\n",
    "Distance: measures separation between two things   \n",
    "Norm: measures distance to the origin, i.e. the length of a single vector  \n",
    "Loss: a measure of distance between actual and predicted   \n",
    "Regularization: prevents overfitting, sometimes by using a norm in the loss\n",
    "\n",
    "Links:  \n",
    "* MachineLearningMastery [Norms](https://machinelearningmastery.com/vector-norms-machine-learning/#:~:text=The%20L2%20norm%20calculates%20the,is%20a%20positive%20distance%20value.)"
   ]
  },
  {
   "cell_type": "markdown",
   "metadata": {},
   "source": [
    "## L1 norm\n",
    "L1 norm := Manhattan distance, point to origin, sum of abs of X & Y offsets.  \n",
    "For 2D vector $v, L^1 norm == ||v||_1 == |x|+|y|$   \n",
    "In python, use numpy.linalg.norm(v,1)\n",
    "\n",
    "## L2 norm\n",
    "L2 norm := Euclidian distance, point to origin, sqrt of sum of X & Y sqared.  \n",
    "For 2D vector $v, L^2 norm = ||v||_2 = \\sqrt(x^2 + y^2)$   \n",
    "In python, use numpy.linalg.norm(v,2) or just norm(v)\n",
    "\n",
    "## Lp norm\n",
    "p-norm := generalization from L1 and L2 norms.   \n",
    "For 2D vector $v, L^p norm = ||v||_p = (x^p + y^p)^{\\frac{1}{p}}$   \n",
    "\n",
    "## L-infinity norm\n",
    "L-infinity norm := absolute value of X or Y, whichever is larger.  \n",
    "For 2D vector $v, L^{\\infty} norm = ||v||_{\\infty} = max[abs(X),abs(y)]$   \n",
    "In python, use numpy.linalg.norm(v,inf)\n"
   ]
  },
  {
   "cell_type": "markdown",
   "metadata": {},
   "source": [
    "## Frobenious norm\n",
    "For matrix M, norm = sum of squares of elements:   \n",
    "$||M|| = \\sqrt(\\sum_{i,j} m_{i,j}^2)$   \n",
    "\n",
    "For matrices M and N and their difference D=M-N,\n",
    "the norm ||D|| is proportional to the RMSE(M,N)."
   ]
  },
  {
   "cell_type": "markdown",
   "metadata": {},
   "source": [
    "## Distance\n",
    "See our separate notebook devoted to this.   \n",
    "\n",
    "Manhattan distance := point to point, sum of X and Y offsets, matches L1 norm\n",
    "\n",
    "Euclidean distance := point to point, sqrt of sum of X and Y offsets, matches L2 norm   \n",
    "\n",
    "Mahalanobis distance := point to distribution (e.g. multivariate gaussian) taking variance into account, deviation inverse times covariance times deviation     "
   ]
  },
  {
   "cell_type": "markdown",
   "metadata": {},
   "source": [
    "## Loss\n",
    "The model learns a function f().  \n",
    "In training the model, we minimize loss L(f()).   \n",
    "The simplest lost would be L = actual - predicted.\n",
    "\n",
    "Loss functions: \n",
    "* zero-one loss: all or nothing\n",
    "* hinge loss: no for error going under, linear error for going over\n",
    "* mean absolute errror: similar to L1; shape is a V like two hinges\n",
    "* mean squared error: similar to L2; shape is a parabola\n",
    "* cross entropy: total entropy between actual distribution and predicted distribution; used when the model gives a score to each label and the scores sum to one; derived from the log likelihood and entropy formulas; shape has exponential drop off  \n",
    "\n",
    "Formulas:   \n",
    "\n",
    "Mean Square Error:   \n",
    "$MSE = \\frac{1}{n} \\Sigma_{i=1}^n(y_i - \\hat{y_i})^2$   \n",
    "where n=#predictions, y are the actual values, y_hat are predictions.\n",
    "\n",
    "Cross Entropy:   \n",
    "$CE = H(P,Q) = -\\Sigma_{x=1}^C(P(x) ln(Q(x)))$   \n",
    "where P=truth, Q=prediction, C=#labels   \n",
    "If P(x)=1 for one label and 0 for the others, then CE = -ln(score) for that label.    "
   ]
  },
  {
   "cell_type": "markdown",
   "metadata": {},
   "source": [
    "## Regularization\n",
    "Add something to the loss function to penalize model complexity and reduce overfitting.   \n",
    "The model learns a function f().  \n",
    "In training the model, we minimize loss = L(f()) + a * R(f),   \n",
    "where R is a regularization function, and a is an importance coefficient.\n",
    "\n",
    "Tikhonov regularization, which was the original, developed for least squares, adds this term to the loss:    \n",
    "$\\lambda ||w||_2^2$    \n",
    "where lamda is a hyperparameter, \n",
    "w is the model's weight vector,\n",
    "and the rest is the L2 norm squared.\n",
    "\n",
    "L1 regularization:   \n",
    "Add this to the loss: $\\lambda \\sum ||w_i||_1 = \\lambda \\sum |w_i|$    \n",
    "L1 drops the less important variables by encouraging coefficient=zero.  \n",
    "L1 algorithm: LASSO.   \n",
    "Baysian interpretation: L1 is like using (pointy) Laplace distributions as priors. The coefficient for each feature is highly likely to be the mean of zero.    \n",
    "Figure: Every point on the unit diamond has length=1 using the L1 norm. \n",
    "The larger diamond incorpotates a threshold t.\n",
    "If we fit a classifier with an L1 constraint, \n",
    "the decision boundary is likely to intersect the diamond at a corner where X or Y is zero.\n",
    "\n",
    "L2 regularization:   \n",
    "Add this to the loss: $\\lambda \\sum ||w_i||_2 = \\lambda \\sum w_i^2$    \n",
    "L2 encourages small coefficients for all variables.   \n",
    "L2 algorithm: RIDGE.   \n",
    "Baysian interpretation: L2 is like using (roundy) Gaussian distributions as priors. The coefficient for each feature is not as likely to be the mean of zero.   \n",
    "Figure: Every point on the unit circle has length=1 using the L2 norm.\n",
    "The larger circle incorpotates a threshold t.\n",
    "If we fit a classifier with an L2 constraint, \n",
    "the decision boundary is likely to intersect the circle where X<t and Y<t.\n",
    "\n",
    "Elastic net algorithm uses L1 and L2."
   ]
  },
  {
   "attachments": {
    "L1_and_L2_balls.svg.png": {
     "image/png": "[encoded data removed]"
    }
   },
   "cell_type": "markdown",
   "metadata": {},
   "source": [
    "![L1_and_L2_balls.svg.png](attachment:L1_and_L2_balls.svg.png)\n",
    "Above: The unit square (solid) and some larger threshold (dotted) for L1 and L2 norms.\n",
    "A constraint has been set as t * L1 or t * L2 for threshold t.\n",
    "A classifier converges on the decision boundary subject to the constraint (red).\n",
    "With L1 regularization, some coefficients are likely zero.\n",
    "With L2 regularization, all coefficients are likely small.\n",
    "Source: [wikipedia](https://en.wikipedia.org/wiki/Lasso_(statistics))"
   ]
  },
  {
   "attachments": {
    "144px-Vector_norm_sup.svg.png": {
     "image/png": "[encoded data removed]"
    }
   },
   "cell_type": "markdown",
   "metadata": {},
   "source": [
    "![144px-Vector_norm_sup.svg.png](attachment:144px-Vector_norm_sup.svg.png)\n",
    "Above: The unit square (solid) for L-infinity norm.\n",
    "A classifier (not shown) would be likely to converge on a solution at max X and max Y.\n",
    "\n",
    "L-infinity norm would not work for regularization.\n",
    "The classifier would be likely to maximize X and Y."
   ]
  },
  {
   "cell_type": "markdown",
   "metadata": {},
   "source": [
    "### More on regularization\n",
    "Large values of lambda push the model to use tiny coefficients.\n",
    "At the extreme, lambda is huge, and coefficients are zero.\n",
    "That means the model predicts no change, \n",
    "or zero sensitivity to the inputs.\n",
    "This is the opposite of overfitting!"
   ]
  },
  {
   "cell_type": "markdown",
   "metadata": {},
   "source": [
    "\n"
   ]
  }
 ],
 "metadata": {
  "kernelspec": {
   "display_name": "Python 3 (ipykernel)",
   "language": "python",
   "name": "python3"
  },
  "language_info": {
   "codemirror_mode": {
    "name": "ipython",
    "version": 3
   },
   "file_extension": ".py",
   "mimetype": "text/x-python",
   "name": "python",
   "nbconvert_exporter": "python",
   "pygments_lexer": "ipython3",
   "version": "3.10.0"
  }
 },
 "nbformat": 4,
 "nbformat_minor": 2
}
