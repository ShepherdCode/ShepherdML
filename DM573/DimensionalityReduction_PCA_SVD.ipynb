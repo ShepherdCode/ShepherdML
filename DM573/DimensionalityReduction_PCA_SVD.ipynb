{
 "cells": [
  {
   "cell_type": "markdown",
   "metadata": {},
   "source": [
    "# Dimensionality Reduction\n",
    "* PCA: Unsupervised. C=𝑃Λ𝑃−1 for covariance matrix C. This is the eigen decomposition of the covariance matrix. PCA separates the data by variance. PCA gives orthonormal basis ranked by variance explained.\n",
    "* ICA: is a higher-order PCA, but the basis is not orthonormal. \n",
    "* SVD: Unsupervised. 𝐷=𝑄Σ𝑃−1 for data D. This is the linear algebra decomposition of the data matrix, which always exists. SVD is not restricted to special cases, as PCA is. SVD discovers the minimum required latent factors (rank of D). It discovers the singular values that rank the factors."
   ]
  },
  {
   "cell_type": "markdown",
   "metadata": {},
   "source": [
    "See also: Eigen Decomposition\n",
    "* 𝐴=𝑄Λ𝑄inv: \n",
    "* Unsupervised. Data matrix A must be square, invertible. Q is a basis matrix. Λ is a diagonal matrix or vector of eigenvalues in order of their utility for data reconstruction. Large eigenvalues capture trends, small eigenvalues fit the noise.\n"
   ]
  },
  {
   "cell_type": "markdown",
   "metadata": {},
   "source": [
    "## PCA = Principal Component Analysis\n",
    "PCA uses the eigen decomposition of the covariance matrix:  \n",
    "cov = $P \\Lambda P^{-1}$   \n",
    "\n",
    "* PCA requires mean-centered data.\n",
    "* PCA finds an orthonormal basis, an axis rotation, a linear transformation. In effect, PCA recursively performs axis rotation to where remaining variance is maximized along the next axis.\n",
    "* PCA can be used for dimensionality reduction.  \n",
    "* PCA uses the eigen decomposition of the covariance matrix. The decomposition is possible because the covariance matrix is square, symmetric, positive-semidefinite, and mean centered. \n",
    "* After transformation, there is no covariance. The new covariance matrix is $\\Lambda$ which is a diagonal matrix so every off-diagonal entry is zero.\n",
    "* For dimensionality reduction (with lossy reconstruction), discard the axiis with the smallest eigenvalues.\n",
    "* Each PCA axis is a linear combination of the original axiis. \n",
    "* PCA only discovers linear transformations. But the kernel trick can uncover transformations that are linear in the kernel space but non-linear in the original space. Kernel PCA computes the kernel of pairwise distance in the original space as a proxy for computing the pairwise distances in the kernel space. One kind of kernel is Gaussian.\n",
    "\n",
    "Data matrix D:   \n",
    "* Scatter matrix = $D D^T$  \n",
    "* Covariance matrix = $\\frac{D D^T}{n} - \\mu^T \\mu$ (scatter normalized and mean centered)    \n",
    "* Transformed data $D' = DP$   \n",
    "* PCA removes correlations. Features of the transformed data have zero covariance. "
   ]
  },
  {
   "cell_type": "markdown",
   "metadata": {},
   "source": [
    "## SVD\n",
    "SVD uses the eigenvector decomposition of the scatter matrix.   \n",
    "\n",
    "SVD factors data matrix D matrix into 3 matrices:   \n",
    "$D = Q \\Sigma P^{-1}$  \n",
    "It is a fundamental fact of linear algebra that this is always possible.  \n",
    "\n",
    "The $\\Sigma$ matrix of factors is ranked by importance.   \n",
    "You get a lossy reconstruction if you reconstruct the data with a subset of factors. \n",
    "\n",
    "* SVD does not require mean centering.\n",
    "* SVD is ideal for sparse non-negative matrices e.g. word vectors of documents.\n",
    "* SVD can be transformed in spectral decomposition.\n",
    "* SVD discovers the latent factors and ranks them.\n",
    "* SVD can provide a lossy reconstruction of the data.\n",
    "\n",
    "### SVD explained with energy\n",
    "SVD maximizes the energy on the reduced dimensions.\n",
    "Energy of original = sum of squared distances to origin.\n",
    "Energy of reconstructed is unchanged by axis rotation, \n",
    "and slightly reduced by dimension reduction.\n",
    "The SVD minimizes the reconstruction error i.e.\n",
    "sum of squared distances between pairs of (original,reconstructed) points.  \n",
    "\n",
    "### SVD explained with latent factors  \n",
    "Say D = (n x d) = movie-patrons x movie-titles.\n",
    "SVD discovers latent concepts that explain both.\n",
    "Example: SVD might discover the latent factor \"sci-fi\" \n",
    "where some movies have \"sci-fi\" and some patrons like \"sci-fi\".\n",
    "\n",
    "### Using SVD for noise reduction\n",
    "Using SVD for lossy reconstruction, the lost part tends to be noise and outliers.\n",
    "So a lossy reconstruction can provide better training data."
   ]
  },
  {
   "cell_type": "markdown",
   "metadata": {},
   "source": [
    "### The math behind svd\n",
    "$D = Q \\Sigma P^{-1}$  \n",
    "SVD uses this factorization of the data matrix,\n",
    "which is unique and always exists.  \n",
    "\n",
    "Intuitively, SVD breaks D into a rotation, a scaling, and an inverse rotation.  \n",
    "\n",
    "Matrix $\\Sigma$ is rectangular but diagonal.   \n",
    "Its entries are non-negative.  \n",
    "Its number of non-zero entries equals Rank(D) and is <= min(n,d).\n",
    "\n",
    "D = data matrix in its original axis.   \n",
    "Q = left singular matrix of orthonormal column vectors of $D^T$.  \n",
    "$\\Sigma$ = non-negative singular values along the diagonal (in decreasing order)  \n",
    "P = right singular matrix of orthonormal column vectors of $D$.  \n",
    "\n",
    "D = (n x d) = n instances x d dimensions.  \n",
    "Q = (n x n)  \n",
    "$\\Sigma$ = (n x d)   \n",
    "P = (d x d)  \n",
    "\n",
    "$P^T P = I$ because the vectors are orthonormal.   \n",
    "$Q^T Q = I$ because the vectors are orthonormal.   \n",
    "\n",
    "Q = eigenvectors of $D D^T$  \n",
    "P = eigenvectors of $D^T D$  "
   ]
  },
  {
   "cell_type": "markdown",
   "metadata": {},
   "source": [
    "### SVD example\n",
    "The data is D(n viewers x d movies).   \n",
    "The n viewers are each represented by like/dislike vector of d movies.  \n",
    "Seek to explain the viewers using just k movie concepts.  \n",
    "Reduce d dimensions to k concepts:   \n",
    "Choose k < min(n instances, d dimensions).  \n",
    "By SVD, the full dataset is:    \n",
    "$D = Q \\Sigma P^{-1}$  \n",
    "Now get a rank k approxization of the data:       \n",
    "R(k)= Q(n viewers x k concepts) * (k x k, diagonal, ordered) * Pt(k concepts x d movies)   "
   ]
  },
  {
   "cell_type": "markdown",
   "metadata": {},
   "source": [
    "## PCA vs SVD = Singular Value Decomposition\n",
    "* PCA is a special case of SVD. \n",
    "* SVD==PCA when all feature means are 0 i.e. when data is mean centered. \n",
    "* PCA generates one basis for the matrix rows. SVD generates one basis for the rows and one for the columns. \n",
    "* PCA is restricted to diagonalizable (square) matrices. SVD is not.\n",
    "* PCA is applied to the covariance matrix. SVD is applied to the data matrix.\n",
    "\n",
    "## PCA vs ICA = Independent Component Analysis\n",
    "* PCA components are orthogonal, but ICA components are not.\n",
    "* PCA removes correlation to focus on uncorrelated components. \n",
    "* ICA finds higher-order dependencies. Usually, PCA is applied first for \"whitening\" to remove correlations. \n",
    "* ICA aims to reconstruct the data from linear combination of independent signals.\n",
    "* ICA features are not ranked because they are all equally important.\n",
    "* PCA uses second-order stats (variance), ICA uses higher-order.\n",
    "* PCA assumes underlying Gaussians (via variance)."
   ]
  },
  {
   "cell_type": "markdown",
   "metadata": {},
   "source": [
    "## PCA vs MDS\n",
    "MDS = multidimensional scaling.\n",
    "\n",
    "MDS is a generalization and superset of PCA. \n",
    "MDS is usually used for visualization e.g. to show separability of two classes.   \n",
    "\n",
    "MDS will reduce the data to lower dimensions while minimizing distortion.\n",
    "MDS will maximize the agreement of pairwise distances before & after the transformation.\n",
    "MDS uses a stress() formula that penalizes distortion induced by the transformation."
   ]
  },
  {
   "cell_type": "code",
   "execution_count": null,
   "metadata": {},
   "outputs": [],
   "source": []
  }
 ],
 "metadata": {
  "kernelspec": {
   "display_name": "Python 3 (ipykernel)",
   "language": "python",
   "name": "python3"
  },
  "language_info": {
   "codemirror_mode": {
    "name": "ipython",
    "version": 3
   },
   "file_extension": ".py",
   "mimetype": "text/x-python",
   "name": "python",
   "nbconvert_exporter": "python",
   "pygments_lexer": "ipython3",
   "version": "3.10.0"
  }
 },
 "nbformat": 4,
 "nbformat_minor": 2
}
