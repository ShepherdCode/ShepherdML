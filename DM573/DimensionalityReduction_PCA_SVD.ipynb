{
 "cells": [
  {
   "cell_type": "markdown",
   "metadata": {},
   "source": [
    "# Dimensionality Reduction\n",
    "* PCA: Unsupervised. C=𝑃Λ𝑃−1 for covariance matrix C. This is the eigen decomposition of the covariance matrix. PCA separates the data by variance. PCA gives orthonormal basis ranked by variance explained.\n",
    "* ICA: is a higher-order PCA, but the basis is not orthonormal. \n",
    "* SVD: Unsupervised. 𝐷=𝑄Σ𝑃−1 for data D. This is the linear algebra decomposition of the data matrix, which always exists. SVD is not restricted to special cases, as PCA is. SVD discovers the minimum required latent factors (rank of D). It discovers the singular values that rank the factors."
   ]
  },
  {
   "cell_type": "markdown",
   "metadata": {},
   "source": [
    "See also: Eigen Decomposition\n",
    "* 𝐴=𝑄Λ𝑄inv: Unsupervised. Data matrix A must be square, invertible. Q is a basis matrix. Λ is a diagonal matrix or vector of eigenvalues in order of their utility for data reconstruction. Large eigenvalues capture trends, small eigenvalues fit the noise.\n"
   ]
  },
  {
   "cell_type": "markdown",
   "metadata": {},
   "source": [
    "## PCA = Principal Component Analysis\n",
    "PCA uses the eigen decomposition of the covariance matrix.\n",
    "\n",
    "* PCA Discovers an axis rotation i.e. linear transformation.\n",
    "* Uses the eigen decomposition of the covariance matrix.\n",
    "* The covariance matrix must be square, symmetric, positive-semidefinite, and mean centered. \n",
    "* Prerequisite is mean centering.\n",
    "* Finds an orthonormal basis. \n",
    "* In effect, recursively performs axis rotation to where remaining variance is maximized along next axis.\n",
    "* Discovers linear transformations only. (But kernel trick can uncover non-linear ones.)\n",
    "* Under the new coordinates, there is no covariance, and the covariance matrix == the diagonalized eigenvalue matrix.\n",
    "* For dimensionality reduction (with lossy reconstruction), discard the axiis with the smallest eigenvalues.\n",
    "\n",
    "The eigen decomposition of data matrix D:   \n",
    "Scatter matrix = $D D^T$  \n",
    "Covariance matrix = $\\frac{D D^T}{n} - \\mu^T \\mu$ (mean centered)    \n",
    "Covariance = $P \\Lambda P^{-1}$   \n",
    "This factorization is possible because cov is symmetric and positive semi-definite."
   ]
  },
  {
   "cell_type": "markdown",
   "metadata": {},
   "source": [
    "## SVD\n",
    "SVD uses the factorization of one matrix into three.\n",
    "\n",
    "The factors are ranked by importance.   \n",
    "You get a lossy reconstruction if you reconstruct the data with a subset of factors. \n",
    "\n",
    "* Does not require mean centering.\n",
    "* Ideal for sparse non-negative matrices e.g. word vectors of documents.\n",
    "* SVD can be transformed in spectral decomposition.\n",
    "* SVD discovers the latent factors and ranks them.\n",
    "* SVD can provide a lossy reconstruction of the data.\n",
    "* SVD maximizes the energy on the reduced dimensions.\n",
    "\n",
    "### Energy\n",
    "Energy of original = sum of squared distances to origin.  \n",
    "Energy of reconstructed is unchanged by axis rotation, \n",
    "and slightly reduced by dimension reduction.  \n",
    "The SVD minimizes the reconstruction error i.e.\n",
    "sum of squared distances between pairs of (original,reconstructed) points.  \n",
    "\n",
    "### Latent factors  \n",
    "Say D = (n x d) = movie-patrons x movie-titles.   \n",
    "SVD discovers a latent concepts that explain both   \n",
    "e.g. sci-fi might explain why some of the movie patrons like some of the movies.\n",
    "\n",
    "### Noise reduction\n",
    "The lossy part of the lossy reconstruction \n",
    "is focused on noise and outliers.\n",
    "So the lossy reconstruction can provide better training data."
   ]
  },
  {
   "cell_type": "markdown",
   "metadata": {},
   "source": [
    "### The math behind svd\n",
    "$D = Q \\Sigma P^{-1}$  \n",
    "SVD uses this factorization of the data matrix,\n",
    "which is unique and always exists.  \n",
    "\n",
    "Intuitively, SVD breaks D into rotation, scaling, inverse rotation.  \n",
    "\n",
    "Matrix $\\Sigma$ is rectangular but diagonal.   \n",
    "Its entries are non-negative.  \n",
    "Its number of non-zero entries is the rank of D.  \n",
    "\n",
    "D = data matrix on original axiis.   \n",
    "Q = left singular matrix of orthonormal column vectors of $D^T$.  \n",
    "$\\Sigma$ = non-negative singular values along the diagonal (in decreasing order)  \n",
    "P = right singular matrix of orthonormal column vectors of $D$.  \n",
    "\n",
    "D = (n x d) = n instances x d dimensions.  \n",
    "Q = (n x n)  \n",
    "$\\Sigma$ = (n x d)   \n",
    "P = (d x d)  \n",
    "\n",
    "$P^T P = I$ because the vectors are orthonormal.   \n",
    "$Q^T Q = I$ because the vectors are orthonormal.   \n",
    "\n",
    "Q = eigenvectors of $D D^T$  \n",
    "P = eigenvectors of $D^T D$  \n",
    "\n",
    "Number of non-zero entries in $\\Sigma$\n",
    "equals Rank(D) and is <= min(n,d)."
   ]
  },
  {
   "cell_type": "markdown",
   "metadata": {},
   "source": [
    "### SVD example\n",
    "The data is D(n viewers x d movies).   \n",
    "The n viewers are each represented by like/dislike vector of d movies.  \n",
    "Seek to explain the viewers using just k movie concepts.  \n",
    "Reduce d dimensions to k concepts:   \n",
    "Choose k < min(n instances, d dimensions).  \n",
    "The full dataset is:    \n",
    "$D = Q \\Sigma P^{-1}$  \n",
    "Now get rhe rank k approxization of the data:       \n",
    "R(k)= Q(n viewers x k concepts) * (k x k, diagonal, ordered) * Pt(k concepts x d movies)  \n",
    "Rely on SVD to provide the k latent concepts.  "
   ]
  },
  {
   "cell_type": "markdown",
   "metadata": {},
   "source": [
    "## PCA vs SVD = Singular Value Decomposition\n",
    "* PCA is a special case of SVD. The give the same basis in mean-centered data.\n",
    "* Whenever all feature means are 0, SVD==PCA.\n",
    "* PCA generates one basis for the matrix rows. SVD generates one for the rows and one for the columns. \n",
    "* PCA is restricted to diagonalizable (square) matrices. SVD is not.\n",
    "* PCA is applied to the covariance matrix. SVD is applied to the data matrix.\n",
    "\n",
    "## PCA vs ICA = Independent Component Analysis\n",
    "* PCA components are orthogonal, but ICA components are not.\n",
    "* PCA removes correlation to focus on uncorrelated components. \n",
    "* ICA finds higher-order dependencies. Usually, PCA is applied first for \"whitening\" to remove correlations. \n",
    "* ICA aims to reconstruct the data from linear combination of independent signals.\n",
    "* ICA features are not ranked because they are all equally important.\n",
    "* PCA uses second-order stats (variance), ICA uses higher-order.\n",
    "* PCA assumes underlying Gaussians (via variance)."
   ]
  },
  {
   "cell_type": "code",
   "execution_count": null,
   "metadata": {},
   "outputs": [],
   "source": []
  }
 ],
 "metadata": {
  "kernelspec": {
   "display_name": "Python 3 (ipykernel)",
   "language": "python",
   "name": "python3"
  },
  "language_info": {
   "codemirror_mode": {
    "name": "ipython",
    "version": 3
   },
   "file_extension": ".py",
   "mimetype": "text/x-python",
   "name": "python",
   "nbconvert_exporter": "python",
   "pygments_lexer": "ipython3",
   "version": "3.10.0"
  }
 },
 "nbformat": 4,
 "nbformat_minor": 2
}
