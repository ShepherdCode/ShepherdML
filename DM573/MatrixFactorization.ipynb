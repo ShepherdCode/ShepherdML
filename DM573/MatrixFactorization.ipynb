{
 "cells": [
  {
   "cell_type": "markdown",
   "id": "9a9005f4",
   "metadata": {},
   "source": [
    "# Matrix Factorization"
   ]
  },
  {
   "cell_type": "markdown",
   "id": "bd1e3434",
   "metadata": {},
   "source": [
    "# LU\n",
    "Any square matrix can be factored into an upper-diagonal and lower-diagonal matrix.  \n",
    "This corresponds to Gaussian elimination."
   ]
  },
  {
   "cell_type": "markdown",
   "id": "4c282d70",
   "metadata": {},
   "source": [
    "## Eigen\n",
    "Some matrices can be factored into values and eigenvectors.   \n",
    "The matrix must be square and diagonalizable.   \n",
    "Some factorizations yield matrices of complex numbers.   \n",
    "The eigenvalues can be ordered by importance for dimensionality reduction.   \n",
    "The eigenvectors can be scaled or normalized to unit length.   \n",
    "The eigenvalues can also be scaled, so they are non-unique.   \n",
    "Use lower case lambda for one eigenvalue, upper case lambda for diagonal matrix of all.   \n",
    "Use A for a matrix e.g. rows of data, columns of features.  \n",
    "An eigenvector stretches or shrinks but does not rotate when multiplied by A.    \n",
    "$A v = \\lambda v$   \n",
    "$A = Q \\Lambda Q^{-1}$   \n",
    "The eigenvalues are found by solving the system of linear equations    \n",
    "$det(A - \\lambda I) = 0$   \n",
    "The eigenvectors are found by solving another system of linear equations    \n",
    "$(A - \\lambda_i I)v_i = 0$   \n",
    "\n",
    "As a special case, when A is real and symmetric, \n",
    "it is possible to find orthonormal eigenvectors and    \n",
    "$A = Q \\Lambda Q^{T}$   \n",
    "For example, A could be a covariance matrix.   "
   ]
  },
  {
   "cell_type": "markdown",
   "id": "da5e6098",
   "metadata": {},
   "source": [
    "## PCA\n",
    "Eigen decomposition of the covariance matrix.   \n",
    "The matrix satisfies the special case of being square, real, symmetric, positive semi-definite.   \n",
    "PCA chooses an orthonormal basis of eigenvectors,\n",
    "with eigenvalues ordered by the portion of variance explained.   \n",
    "Covariance = $P \\Lambda P^{-1}$   \n",
    "This can be used for dimensionality reduction.  \n",
    "No use of labels, so this is unsupervised.  "
   ]
  },
  {
   "cell_type": "markdown",
   "id": "d66e647a",
   "metadata": {},
   "source": [
    "## ICA\n",
    "Similar to PCA, but ICA vectors are not orthonormal and are not ranked.   \n",
    "PCA discovers linear combinations of least correlated features.   \n",
    "ICA discovers higher-order interactions.   "
   ]
  },
  {
   "cell_type": "markdown",
   "id": "b6c846bc",
   "metadata": {},
   "source": [
    "## SVD\n",
    "Like PCA, no use of labels, so this is unsupervised.   \n",
    "Unlike eigen decomposition, SVD operates on rectangular matrices.   \n",
    "Similar to PCA, SVD devises a different coordinate system for the data.     \n",
    "Similar to PCA, SVD can be used for dimensionality reduction (use fewer factors).   \n",
    "Unlike PCA, SVD decomposes the data matrix, not the covariance.   \n",
    "Unlike PCA, SVD generates three matrices: \n",
    "transformed data x importance x latent factors.   \n",
    "$D = U \\Sigma V^{-1}$   \n",
    "This factorization is unique and always exists.   \n",
    "Like PCA, the middle matrix is diagonal, but it isn't square.   "
   ]
  },
  {
   "cell_type": "markdown",
   "id": "3eb6acea",
   "metadata": {},
   "source": [
    "## LDA\n",
    "Uses labels, so LDA is supervised classification.   \n",
    "Apply eigen decomposition to a scatter matrix: between/within.   \n",
    "Cast the data into a lower dimension.    \n",
    "Find the optimal linear boundary between the labels.  "
   ]
  },
  {
   "cell_type": "code",
   "execution_count": null,
   "id": "46b50919",
   "metadata": {},
   "outputs": [],
   "source": []
  }
 ],
 "metadata": {
  "kernelspec": {
   "display_name": "Python 3 (ipykernel)",
   "language": "python",
   "name": "python3"
  },
  "language_info": {
   "codemirror_mode": {
    "name": "ipython",
    "version": 3
   },
   "file_extension": ".py",
   "mimetype": "text/x-python",
   "name": "python",
   "nbconvert_exporter": "python",
   "pygments_lexer": "ipython3",
   "version": "3.10.0"
  }
 },
 "nbformat": 4,
 "nbformat_minor": 5
}
