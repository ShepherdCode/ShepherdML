{
 "cells": [
  {
   "cell_type": "markdown",
   "metadata": {},
   "source": [
    "# CNN\n",
    "Convolutional neural network.\n",
    "\n",
    "See Geron chapter 14 page 461."
   ]
  },
  {
   "cell_type": "code",
   "execution_count": 3,
   "metadata": {},
   "outputs": [],
   "source": [
    "# See chapter 10 for introduction to the fashion data\n",
    "import numpy as np\n",
    "import tensorflow as tf\n",
    "from tensorflow import keras\n",
    "\n",
    "fashion = keras.datasets.fashion_mnist\n",
    "(X_train_full,y_train_full),(X_test,y_test)=fashion.load_data()\n",
    "X_valid = X_train_full[:5000]/255.0 ## 5K instances\n",
    "X_train = X_train_full[5000:]/255.0 ## 55K instances\n",
    "y_valid = y_train_full[:5000]/255.0\n",
    "y_train = y_train_full[5000:]/255.0"
   ]
  },
  {
   "cell_type": "markdown",
   "metadata": {},
   "source": [
    "## Generic multi-layer perceptron (MLP)\n",
    "Use the Keras Sequential API."
   ]
  },
  {
   "cell_type": "code",
   "execution_count": 6,
   "metadata": {},
   "outputs": [
    {
     "name": "stdout",
     "output_type": "stream",
     "text": [
      "Model: \"sequential_2\"\n",
      "_________________________________________________________________\n",
      "Layer (type)                 Output Shape              Param #   \n",
      "=================================================================\n",
      "flatten_2 (Flatten)          (None, 784)               0         \n",
      "_________________________________________________________________\n",
      "dense_6 (Dense)              (None, 300)               235500    \n",
      "_________________________________________________________________\n",
      "dense_7 (Dense)              (None, 100)               30100     \n",
      "_________________________________________________________________\n",
      "dense_8 (Dense)              (None, 10)                1010      \n",
      "=================================================================\n",
      "Total params: 266,610\n",
      "Trainable params: 266,610\n",
      "Non-trainable params: 0\n",
      "_________________________________________________________________\n"
     ]
    }
   ],
   "source": [
    "mlp = keras.models.Sequential([\n",
    "    keras.layers.Flatten(input_shape=[28,28]),\n",
    "    keras.layers.Dense(300,activation=\"relu\"),\n",
    "    keras.layers.Dense(100,activation=\"relu\"),\n",
    "    keras.layers.Dense( 10,activation=\"softmax\")\n",
    "])\n",
    "mlp.summary()"
   ]
  },
  {
   "cell_type": "code",
   "execution_count": 8,
   "metadata": {},
   "outputs": [
    {
     "data": {
      "text/plain": [
       "[<tensorflow.python.keras.layers.core.Flatten at 0x7fd09e0e4730>,\n",
       " <tensorflow.python.keras.layers.core.Dense at 0x7fd09e0e4940>,\n",
       " <tensorflow.python.keras.layers.core.Dense at 0x7fd09e0e4d30>,\n",
       " <tensorflow.python.keras.layers.core.Dense at 0x7fd09e0e4bb0>]"
      ]
     },
     "execution_count": 8,
     "metadata": {},
     "output_type": "execute_result"
    }
   ],
   "source": [
    "mlp.layers"
   ]
  },
  {
   "cell_type": "code",
   "execution_count": 9,
   "metadata": {},
   "outputs": [
    {
     "data": {
      "text/plain": [
       "[<tf.Variable 'dense_6/kernel:0' shape=(784, 300) dtype=float32, numpy=\n",
       " array([[ 0.02893422,  0.06007202,  0.0109793 , ..., -0.00645142,\n",
       "          0.01022372,  0.0029293 ],\n",
       "        [ 0.07377671, -0.05821963,  0.03632037, ...,  0.07412404,\n",
       "          0.02476529, -0.01196053],\n",
       "        [-0.00640582, -0.05931767, -0.00595485, ...,  0.03995776,\n",
       "         -0.01063411,  0.01987848],\n",
       "        ...,\n",
       "        [-0.02474273,  0.00026554,  0.0327147 , ...,  0.05155949,\n",
       "          0.05838159, -0.0491417 ],\n",
       "        [-0.04687519,  0.06524433, -0.00105372, ...,  0.06419644,\n",
       "          0.01602952,  0.01006497],\n",
       "        [-0.07150955,  0.02193726, -0.0378857 , ..., -0.00890799,\n",
       "         -0.00675721,  0.06605132]], dtype=float32)>,\n",
       " <tf.Variable 'dense_6/bias:0' shape=(300,) dtype=float32, numpy=\n",
       " array([0., 0., 0., 0., 0., 0., 0., 0., 0., 0., 0., 0., 0., 0., 0., 0., 0.,\n",
       "        0., 0., 0., 0., 0., 0., 0., 0., 0., 0., 0., 0., 0., 0., 0., 0., 0.,\n",
       "        0., 0., 0., 0., 0., 0., 0., 0., 0., 0., 0., 0., 0., 0., 0., 0., 0.,\n",
       "        0., 0., 0., 0., 0., 0., 0., 0., 0., 0., 0., 0., 0., 0., 0., 0., 0.,\n",
       "        0., 0., 0., 0., 0., 0., 0., 0., 0., 0., 0., 0., 0., 0., 0., 0., 0.,\n",
       "        0., 0., 0., 0., 0., 0., 0., 0., 0., 0., 0., 0., 0., 0., 0., 0., 0.,\n",
       "        0., 0., 0., 0., 0., 0., 0., 0., 0., 0., 0., 0., 0., 0., 0., 0., 0.,\n",
       "        0., 0., 0., 0., 0., 0., 0., 0., 0., 0., 0., 0., 0., 0., 0., 0., 0.,\n",
       "        0., 0., 0., 0., 0., 0., 0., 0., 0., 0., 0., 0., 0., 0., 0., 0., 0.,\n",
       "        0., 0., 0., 0., 0., 0., 0., 0., 0., 0., 0., 0., 0., 0., 0., 0., 0.,\n",
       "        0., 0., 0., 0., 0., 0., 0., 0., 0., 0., 0., 0., 0., 0., 0., 0., 0.,\n",
       "        0., 0., 0., 0., 0., 0., 0., 0., 0., 0., 0., 0., 0., 0., 0., 0., 0.,\n",
       "        0., 0., 0., 0., 0., 0., 0., 0., 0., 0., 0., 0., 0., 0., 0., 0., 0.,\n",
       "        0., 0., 0., 0., 0., 0., 0., 0., 0., 0., 0., 0., 0., 0., 0., 0., 0.,\n",
       "        0., 0., 0., 0., 0., 0., 0., 0., 0., 0., 0., 0., 0., 0., 0., 0., 0.,\n",
       "        0., 0., 0., 0., 0., 0., 0., 0., 0., 0., 0., 0., 0., 0., 0., 0., 0.,\n",
       "        0., 0., 0., 0., 0., 0., 0., 0., 0., 0., 0., 0., 0., 0., 0., 0., 0.,\n",
       "        0., 0., 0., 0., 0., 0., 0., 0., 0., 0., 0.], dtype=float32)>]"
      ]
     },
     "execution_count": 9,
     "metadata": {},
     "output_type": "execute_result"
    }
   ],
   "source": [
    "# Keras layers have attributes: weights, shape, bias.\n",
    "mlp.layers[1].weights"
   ]
  },
  {
   "cell_type": "code",
   "execution_count": 18,
   "metadata": {},
   "outputs": [
    {
     "name": "stdout",
     "output_type": "stream",
     "text": [
      "Epoch 1/10\n",
      "1719/1719 [==============================] - 7s 4ms/step - loss: 2.6061e-05 - accuracy: 0.1008 - val_loss: 2.4881e-05 - val_accuracy: 0.0914\n",
      "Epoch 2/10\n",
      "1719/1719 [==============================] - 7s 4ms/step - loss: 2.5178e-05 - accuracy: 0.1008 - val_loss: 2.4049e-05 - val_accuracy: 0.0914\n",
      "Epoch 3/10\n",
      "1719/1719 [==============================] - 7s 4ms/step - loss: 2.4352e-05 - accuracy: 0.1008 - val_loss: 2.3269e-05 - val_accuracy: 0.0914\n",
      "Epoch 4/10\n",
      "1719/1719 [==============================] - 7s 4ms/step - loss: 2.3578e-05 - accuracy: 0.1008 - val_loss: 2.2536e-05 - val_accuracy: 0.0914\n",
      "Epoch 5/10\n",
      "1719/1719 [==============================] - 6s 4ms/step - loss: 2.2850e-05 - accuracy: 0.1008 - val_loss: 2.1846e-05 - val_accuracy: 0.0914\n",
      "Epoch 6/10\n",
      "1719/1719 [==============================] - 7s 4ms/step - loss: 2.2165e-05 - accuracy: 0.1008 - val_loss: 2.1196e-05 - val_accuracy: 0.0914\n",
      "Epoch 7/10\n",
      "1719/1719 [==============================] - 7s 4ms/step - loss: 2.1519e-05 - accuracy: 0.1008 - val_loss: 2.0582e-05 - val_accuracy: 0.0914\n",
      "Epoch 8/10\n",
      "1719/1719 [==============================] - 7s 4ms/step - loss: 2.0908e-05 - accuracy: 0.1008 - val_loss: 2.0001e-05 - val_accuracy: 0.0914\n",
      "Epoch 9/10\n",
      "1719/1719 [==============================] - 7s 4ms/step - loss: 2.0331e-05 - accuracy: 0.1008 - val_loss: 1.9452e-05 - val_accuracy: 0.0914\n",
      "Epoch 10/10\n",
      "1719/1719 [==============================] - 6s 4ms/step - loss: 1.9783e-05 - accuracy: 0.1008 - val_loss: 1.8930e-05 - val_accuracy: 0.0914\n"
     ]
    }
   ],
   "source": [
    "# See page 302 for explanation of these parameters.\n",
    "# See also the keras docs e.g. \n",
    "# https://www.tensorflow.org/api_docs/python/tf/keras/losses/sparse_categorical_crossentropy\n",
    "# Note keras can take parameters for % train vs % validation.\n",
    "\n",
    "mlp.compile(loss=\"sparse_categorical_crossentropy\",\n",
    "           optimizer=\"sgd\",\n",
    "           metrics=[\"accuracy\"])\n",
    "# 30 epochs runs for about 15 minutes and never impoves on 1st epoch.\n",
    "# Therefore we changed epochs to 10.\n",
    "history = mlp.fit(X_train,y_train,epochs=10,\n",
    "                 validation_data=(X_valid,y_valid))"
   ]
  },
  {
   "cell_type": "markdown",
   "metadata": {},
   "source": [
    "### Terrible!\n",
    "\n",
    "Our results are terrible.\n",
    "We have 10% accuracy and it never changes through the epochs.\n",
    "In contrast, the book got 80% accuracy initially and it improved slightly.\n",
    "The only difference that I see is memory size.\n",
    "Our memory allowed 1719 instances per epoch\n",
    "but the book shows 55,000.\n",
    "Training loss at zero indicates the model is overfitting.\n",
    "Validation loss is also zero -- which is confusing -- but notice\n",
    "the validation accuracy is lower than the training accuracy."
   ]
  },
  {
   "cell_type": "code",
   "execution_count": 17,
   "metadata": {},
   "outputs": [
    {
     "data": {
      "image/png": "[encoded data removed]",
      "text/plain": [
       "<Figure size 576x360 with 1 Axes>"
      ]
     },
     "metadata": {
      "needs_background": "light"
     },
     "output_type": "display_data"
    }
   ],
   "source": [
    "import pandas as pd\n",
    "import matplotlib.pyplot as plt\n",
    "pd.DataFrame(history.history).plot(figsize=(8,5))\n",
    "plt.grid(True)\n",
    "plt.gca().set_ylim(0,0.12)\n",
    "plt.show()"
   ]
  },
  {
   "cell_type": "code",
   "execution_count": 19,
   "metadata": {},
   "outputs": [
    {
     "data": {
      "text/plain": [
       "[<tf.Variable 'dense_6/kernel:0' shape=(784, 300) dtype=float32, numpy=\n",
       " array([[ 0.02893424,  0.06007202,  0.01097935, ..., -0.00645139,\n",
       "          0.01022384,  0.0029294 ],\n",
       "        [ 0.07377677, -0.05821961,  0.03632076, ...,  0.07412427,\n",
       "          0.02476603, -0.01195994],\n",
       "        [-0.0064054 , -0.05931755, -0.00595398, ...,  0.03995836,\n",
       "         -0.01063243,  0.01987981],\n",
       "        ...,\n",
       "        [-0.02470163,  0.00027336,  0.03277872, ...,  0.05163693,\n",
       "          0.05855944, -0.04907988],\n",
       "        [-0.04684269,  0.06525981, -0.00100584, ...,  0.06426812,\n",
       "          0.01617687,  0.01008941],\n",
       "        [-0.07150809,  0.02193827, -0.03788066, ..., -0.00890174,\n",
       "         -0.00674473,  0.06605661]], dtype=float32)>,\n",
       " <tf.Variable 'dense_6/bias:0' shape=(300,) dtype=float32, numpy=\n",
       " array([ 5.91536658e-03,  5.40899020e-03,  1.43172564e-02, -2.80447048e-03,\n",
       "         2.34138593e-02,  2.40327558e-03,  2.62888870e-03, -3.03089758e-03,\n",
       "        -1.13821086e-02,  1.22554402e-03,  4.80032153e-03, -6.24990556e-03,\n",
       "         2.12939866e-02,  1.81282137e-03,  1.81368422e-02,  3.08228168e-03,\n",
       "         2.73311641e-02,  3.65082477e-03,  4.07425826e-03, -1.96979288e-02,\n",
       "        -5.85524482e-04, -2.59932037e-03,  1.35481535e-02,  2.72941161e-02,\n",
       "        -3.67130735e-03,  3.48371826e-03,  2.84005003e-03, -4.39410098e-03,\n",
       "         4.91938926e-02, -2.24077166e-03,  4.81745936e-02, -1.47204474e-02,\n",
       "        -8.59387976e-04,  5.24354912e-02,  5.15191518e-02,  5.19176479e-03,\n",
       "         1.02967315e-03,  1.83872692e-02,  4.89391666e-03,  8.97222024e-04,\n",
       "         1.29777370e-02, -2.72259815e-04, -3.02080391e-03, -4.03020019e-03,\n",
       "         1.08463934e-03, -4.01310576e-03,  1.98406819e-03,  6.91673812e-03,\n",
       "         3.76260513e-03, -5.08151657e-04,  4.71055787e-03, -7.28428224e-03,\n",
       "         1.34156551e-03, -1.07479468e-02, -5.60370926e-03,  5.76368254e-03,\n",
       "         5.59802819e-03, -8.50182399e-03,  8.40170030e-03,  8.98884828e-05,\n",
       "        -7.67839421e-03,  3.30957607e-03,  4.76270681e-03,  3.34789045e-03,\n",
       "         8.98343336e-04, -4.11642343e-03,  4.92252351e-04, -2.25069467e-02,\n",
       "         9.88454092e-03,  2.95520527e-03,  1.58424125e-04, -7.59441080e-03,\n",
       "         3.34667438e-03, -2.45208945e-03,  1.33816805e-02,  6.07334822e-02,\n",
       "        -1.45969465e-02,  9.03573539e-03,  2.01911270e-03, -5.20747015e-03,\n",
       "         6.64671091e-03,  2.71347538e-02, -1.00704525e-02, -7.02850695e-04,\n",
       "         1.86690188e-03,  2.48645358e-02, -5.94555633e-03,  4.89998758e-02,\n",
       "         5.04409075e-02,  1.37398196e-02,  1.74276233e-02,  2.59826053e-03,\n",
       "         2.08736900e-02, -7.11867074e-03, -1.12354395e-03,  5.31622842e-02,\n",
       "         8.54146201e-03, -5.04457857e-03,  3.61725762e-02, -7.28249736e-03,\n",
       "         2.97513814e-03, -2.43279478e-03,  3.88622396e-02, -1.28611445e-03,\n",
       "         1.12881567e-02,  8.69306456e-03,  4.91528362e-02, -7.05999509e-03,\n",
       "         1.08054699e-02, -4.92373714e-03,  5.98618761e-04,  2.99552418e-02,\n",
       "        -1.05980625e-02,  1.57930944e-02, -6.93830708e-03, -7.74846179e-03,\n",
       "         8.86984053e-04,  2.44109314e-02,  3.71578010e-03, -3.58279468e-03,\n",
       "        -8.70451739e-04, -6.70476723e-03,  1.02817630e-02, -1.00034254e-03,\n",
       "        -7.70838000e-03, -5.20330970e-04,  2.46754326e-02,  2.87643867e-03,\n",
       "        -6.10969355e-03,  7.91223627e-03, -1.44492583e-02, -5.46761183e-03,\n",
       "         2.62411218e-02,  8.90391693e-03, -1.42003046e-04,  2.92611700e-02,\n",
       "        -8.90929345e-03,  3.94554948e-03,  4.35753390e-02, -4.96075302e-03,\n",
       "        -4.21820115e-03, -7.85528123e-03, -1.03885087e-03, -9.44630592e-04,\n",
       "         7.43796723e-03,  1.41410455e-02,  3.57645354e-03,  4.54318114e-02,\n",
       "        -5.44245262e-03, -2.75757746e-03,  5.12420293e-03,  2.30315328e-03,\n",
       "         1.10568497e-02,  2.37350687e-02, -8.63656122e-03, -1.27592764e-04,\n",
       "         2.49756984e-02,  1.19831506e-02,  3.65325734e-02,  4.67832163e-02,\n",
       "         3.43227014e-03,  2.36633178e-02,  2.57756319e-02,  2.00697128e-02,\n",
       "         5.24231931e-03,  9.86771658e-03,  1.05909281e-03,  1.07929949e-02,\n",
       "        -1.54640782e-03,  6.55743945e-03,  1.92628540e-02, -2.17304751e-03,\n",
       "         1.28436666e-02,  1.93774072e-03,  1.54681189e-03, -8.64240248e-03,\n",
       "         4.25626002e-02,  3.66738159e-03,  1.07945958e-02,  1.81712548e-03,\n",
       "        -1.44160278e-02,  4.27652337e-02,  1.18054608e-02, -1.22956932e-02,\n",
       "        -2.86263210e-04, -1.92568905e-03,  1.63414795e-02,  2.45837308e-03,\n",
       "         3.44066061e-02,  4.49454784e-02,  8.55546631e-03, -8.27149674e-03,\n",
       "         3.53052057e-02,  6.57572746e-02,  4.73421672e-03,  2.21617650e-02,\n",
       "        -2.60795280e-03,  1.50145097e-02, -7.02328887e-03,  1.64926294e-02,\n",
       "        -5.58896549e-03,  2.53563505e-02,  9.36113391e-03,  2.40793750e-02,\n",
       "        -2.56792060e-03,  1.61135811e-02,  2.55864288e-04, -1.15706101e-02,\n",
       "         3.58755961e-02, -1.02162408e-02,  4.99622077e-02, -9.83748469e-04,\n",
       "         1.17900027e-02,  2.85483641e-03,  3.34790982e-02,  7.89571568e-05,\n",
       "        -6.26861257e-03, -3.94383073e-03, -1.13462482e-03, -7.11931707e-03,\n",
       "        -2.79370509e-03,  1.22887586e-05,  2.46637370e-02,  5.76210814e-03,\n",
       "         1.65310828e-03,  1.45078637e-02,  4.27101813e-02,  1.47919133e-02,\n",
       "         3.28950305e-03,  4.28502448e-03, -5.65646589e-03,  2.28024051e-02,\n",
       "         2.24824157e-03, -6.94374728e-04,  8.83902982e-03, -1.46049389e-03,\n",
       "         5.28755272e-03, -3.51041718e-03,  1.91457253e-02,  2.55821203e-03,\n",
       "         5.01925242e-05,  8.28035991e-06,  4.61197970e-03, -5.66481147e-03,\n",
       "        -4.74805856e-04,  2.95691570e-04,  7.92475359e-04, -1.10220199e-03,\n",
       "         2.62330733e-02, -1.27018965e-03,  6.99633686e-03,  1.91604151e-04,\n",
       "        -3.44180572e-03,  1.97579749e-02,  1.47797796e-03, -7.57072819e-03,\n",
       "         7.13676540e-03,  7.87285389e-05,  5.07128760e-02,  2.41316929e-02,\n",
       "         5.61373234e-02,  2.40463484e-03,  3.52893048e-03,  2.89798118e-02,\n",
       "         5.04243048e-03,  4.59110783e-03, -4.46444936e-03,  2.05352576e-03,\n",
       "         4.53569740e-03, -6.99825911e-03,  2.36026198e-02, -7.27292104e-03,\n",
       "        -2.08556326e-03,  8.26061424e-03,  9.33462987e-04,  2.92983162e-03,\n",
       "        -5.25253080e-03,  9.96203069e-03, -5.74085535e-03, -1.27563995e-04,\n",
       "         2.56880373e-03,  5.48363524e-03, -9.06582514e-04, -1.18045229e-03,\n",
       "         2.67966650e-02, -6.67548086e-03,  2.36179661e-02,  5.99172199e-03,\n",
       "        -1.80246471e-03,  1.70775352e-03, -6.94379117e-03,  5.83579857e-03,\n",
       "         1.41701521e-02, -5.35890413e-03, -3.06530693e-03, -7.16551347e-03,\n",
       "        -4.38370137e-03,  8.62502400e-03,  2.96530537e-02,  2.03256402e-02],\n",
       "       dtype=float32)>]"
      ]
     },
     "execution_count": 19,
     "metadata": {},
     "output_type": "execute_result"
    }
   ],
   "source": [
    "# This shows that trainging did SOMETHING. \n",
    "mlp.layers[1].weights"
   ]
  },
  {
   "cell_type": "code",
   "execution_count": null,
   "metadata": {},
   "outputs": [],
   "source": []
  }
 ],
 "metadata": {
  "kernelspec": {
   "display_name": "Python 3",
   "language": "python",
   "name": "python3"
  },
  "language_info": {
   "codemirror_mode": {
    "name": "ipython",
    "version": 3
   },
   "file_extension": ".py",
   "mimetype": "text/x-python",
   "name": "python",
   "nbconvert_exporter": "python",
   "pygments_lexer": "ipython3",
   "version": "3.8.3"
  }
 },
 "nbformat": 4,
 "nbformat_minor": 2
}
