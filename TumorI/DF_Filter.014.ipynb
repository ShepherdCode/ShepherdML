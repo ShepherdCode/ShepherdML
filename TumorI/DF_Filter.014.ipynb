{
 "cells": [
  {
   "cell_type": "markdown",
   "metadata": {},
   "source": [
    "# Train a CNN on the color-based training set.\n",
    "Finally got Tensorflow to use CUDA and GPU in notebook 12.  \n",
    "Finally got CNN to learn in notebook 13.  \n",
    "Since we can't load all the images, learn to use TensorFlow Data API."
   ]
  },
  {
   "cell_type": "markdown",
   "metadata": {},
   "source": [
    "Directory structure is\n",
    "* cache  \n",
    "    * train  \n",
    "        * 0  (green) 2680 files\n",
    "        * 1   (blue) 3099 files\n",
    "    * valid  \n",
    "        * 0  (green) 266 files\n",
    "        * 1   (blue) 311 files\n",
    "\n",
    "Filename like F5..208 or F15.209.tif i.e. original_image.patch num.tif  \n",
    "All prefixes are 3 characters with either one or two dots.  \n",
    "Patch nums are per category.  \n",
    "Each file holds a 224x224 patch of a color image."
   ]
  },
  {
   "cell_type": "code",
   "execution_count": 1,
   "metadata": {},
   "outputs": [],
   "source": [
    "import time\n",
    "import os\n",
    "#  os.environ['CUDA_VISIBLE_DEVICES'] = \"0\"   # turns off GPU?\n",
    "import glob\n",
    "import cv2 # OpenCV-Python\n",
    "from PIL import Image\n",
    "Image.MAX_IMAGE_PIXELS = None\n",
    "import numpy as np\n",
    "import json\n",
    "from tensorflow import keras\n",
    "import keras.layers as kl\n",
    "import pandas as pd\n",
    "import matplotlib.pyplot as plt\n"
   ]
  },
  {
   "cell_type": "code",
   "execution_count": 2,
   "metadata": {},
   "outputs": [],
   "source": [
    "DIR_IMAGES_IN = \"/home/jrm/Martinez/images/cache/\"\n",
    "PATCH_SIZE=224  # matches VGG\n",
    "BLUE=1\n",
    "GREEN=0"
   ]
  },
  {
   "cell_type": "code",
   "execution_count": 3,
   "metadata": {},
   "outputs": [],
   "source": [
    "# TO DO: normalize color channel ints to floats (0,1)\n",
    "# See https://www.tensorflow.org/tutorials/load_data/images\n",
    "\n",
    "normalization_layer = kl.Rescaling(1./255)"
   ]
  },
  {
   "cell_type": "code",
   "execution_count": 4,
   "metadata": {},
   "outputs": [],
   "source": [
    "# TO DO: load patches in random order\n",
    "# TO DO: or, give patch files randome names\n",
    "class patch_loader:\n",
    "    def __init__(self):\n",
    "        pass\n",
    "    def load_pixel_array(self,filename):\n",
    "        im = Image.open(filename)\n",
    "        ima = np.array(im)   # convert to numpy\n",
    "        return ima\n",
    "    def load_dataset(self,path,tv,label,max_files=None):\n",
    "        file_count=0\n",
    "        images=[]\n",
    "        labels=[]\n",
    "        pstr = path+tv+'/'+str(label)+'/*.tif'\n",
    "        fullpaths = glob.glob(pstr)\n",
    "        # names = [os.path.basename(x) for x in fullpaths]\n",
    "        for name in fullpaths:\n",
    "            file_count += 1\n",
    "            if file_count <= max_files:\n",
    "                ima = self.load_pixel_array(name)\n",
    "                images.append(ima)\n",
    "                labels.append(label)\n",
    "        return images,labels"
   ]
  },
  {
   "cell_type": "code",
   "execution_count": 5,
   "metadata": {},
   "outputs": [],
   "source": [
    "pl = patch_loader()\n",
    "TSAMPLES=50\n",
    "VSAMPLES=20\n",
    "\n",
    "greenX,greenY = pl.load_dataset(DIR_IMAGES_IN,'train',GREEN,max_files=TSAMPLES)\n",
    "blueX, blueY =  pl.load_dataset(DIR_IMAGES_IN,'train',BLUE,max_files=TSAMPLES)\n",
    "X_train = greenX + blueX\n",
    "Y_train = greenY + blueY\n",
    "\n",
    "greenX,greenY = pl.load_dataset(DIR_IMAGES_IN,'valid',GREEN,max_files=VSAMPLES)\n",
    "blueX, blueY =  pl.load_dataset(DIR_IMAGES_IN,'valid',BLUE,max_files=VSAMPLES)\n",
    "X_valid = greenX + blueX\n",
    "Y_valid = greenY + blueY\n",
    "\n",
    "# Required for tensorflow+\n",
    "X_train = np.asarray(X_train)\n",
    "Y_train = np.asarray(Y_train)\n",
    "X_valid = np.asarray(X_valid)\n",
    "Y_valid = np.asarray(Y_valid)"
   ]
  },
  {
   "cell_type": "code",
   "execution_count": 6,
   "metadata": {},
   "outputs": [
    {
     "name": "stdout",
     "output_type": "stream",
     "text": [
      "[0 0 0 0 0 0 0 0 0 0 0 0 0 0 0 0 0 0 0 0 0 0 0 0 0 0 0 0 0 0 0 0 0 0 0 0 0\n",
      " 0 0 0 0 0 0 0 0 0 0 0 0 0 1 1 1 1 1 1 1 1 1 1 1 1 1 1 1 1 1 1 1 1 1 1 1 1\n",
      " 1 1 1 1 1 1 1 1 1 1 1 1 1 1 1 1 1 1 1 1 1 1 1 1 1 1]\n",
      "<class 'numpy.ndarray'>\n",
      "100\n",
      "(224, 224, 3)\n"
     ]
    }
   ],
   "source": [
    "print(Y_train)\n",
    "print(type(X_train))\n",
    "print(len(X_train))\n",
    "print(X_train[0].shape)\n"
   ]
  },
  {
   "cell_type": "code",
   "execution_count": 7,
   "metadata": {},
   "outputs": [],
   "source": [
    "ACTIVATION=\"tanh\"\n",
    "NUM_CLASSES = 2\n",
    "INPUT_SHAPE=[PATCH_SIZE,PATCH_SIZE,3]\n",
    "cnn = keras.models.Sequential([\n",
    "    kl.Conv2D(filters=64,kernel_size=7,activation=ACTIVATION,padding=\"SAME\",\n",
    "    input_shape=INPUT_SHAPE),\n",
    "    kl.MaxPooling2D(2),\n",
    "    kl.Conv2D(128,3,activation=ACTIVATION,padding=\"same\"),\n",
    "    kl.Conv2D(128,3,activation=ACTIVATION,padding=\"same\"),\n",
    "    kl.MaxPooling2D(2),   \n",
    "    kl.Conv2D(256,3,activation=ACTIVATION,padding=\"same\"),\n",
    "    kl.Conv2D(256,3,activation=ACTIVATION,padding=\"same\"),\n",
    "    kl.MaxPooling2D(2), \n",
    "    kl.Flatten(),\n",
    "    kl.Dense(128,activation=ACTIVATION),\n",
    "    kl.Dropout(0.5),\n",
    "    kl.Dense(64,activation=ACTIVATION),\n",
    "    kl.Dropout(0.5),    \n",
    "    kl.Dense(2,activation=\"softmax\")\n",
    "])\n",
    "# 10 nodes in the output layer\n",
    "# corresponds to 10 classes of MNIST clothes.\n",
    "# cnn.layers[0].weights"
   ]
  },
  {
   "cell_type": "code",
   "execution_count": 8,
   "metadata": {},
   "outputs": [
    {
     "name": "stdout",
     "output_type": "stream",
     "text": [
      "Epoch 1/15\n",
      "4/4 [==============================] - 4s 325ms/step - loss: 1.9650 - accuracy: 0.5500 - val_loss: 2.6231 - val_accuracy: 0.5000\n",
      "Epoch 2/15\n",
      "4/4 [==============================] - 0s 80ms/step - loss: 1.8400 - accuracy: 0.5000 - val_loss: 0.2580 - val_accuracy: 0.9750\n",
      "Epoch 3/15\n",
      "4/4 [==============================] - 0s 80ms/step - loss: 0.3637 - accuracy: 0.8200 - val_loss: 0.0495 - val_accuracy: 1.0000\n",
      "Epoch 4/15\n",
      "4/4 [==============================] - 0s 80ms/step - loss: 0.2270 - accuracy: 0.9200 - val_loss: 0.0259 - val_accuracy: 1.0000\n",
      "Epoch 5/15\n",
      "4/4 [==============================] - 0s 80ms/step - loss: 0.2079 - accuracy: 0.9500 - val_loss: 0.0166 - val_accuracy: 1.0000\n",
      "Epoch 6/15\n",
      "4/4 [==============================] - 0s 80ms/step - loss: 0.1544 - accuracy: 0.9500 - val_loss: 0.0147 - val_accuracy: 1.0000\n",
      "Epoch 7/15\n",
      "4/4 [==============================] - 0s 80ms/step - loss: 0.1077 - accuracy: 0.9800 - val_loss: 0.0280 - val_accuracy: 1.0000\n",
      "Epoch 8/15\n",
      "4/4 [==============================] - 0s 82ms/step - loss: 0.0920 - accuracy: 0.9700 - val_loss: 0.0112 - val_accuracy: 1.0000\n",
      "Epoch 9/15\n",
      "4/4 [==============================] - 0s 80ms/step - loss: 0.1087 - accuracy: 0.9600 - val_loss: 0.0076 - val_accuracy: 1.0000\n",
      "Epoch 10/15\n",
      "4/4 [==============================] - 0s 80ms/step - loss: 0.0700 - accuracy: 0.9900 - val_loss: 0.0068 - val_accuracy: 1.0000\n",
      "Epoch 11/15\n",
      "4/4 [==============================] - 0s 81ms/step - loss: 0.0469 - accuracy: 0.9900 - val_loss: 0.0080 - val_accuracy: 1.0000\n",
      "Epoch 12/15\n",
      "4/4 [==============================] - 0s 80ms/step - loss: 0.0436 - accuracy: 0.9900 - val_loss: 0.0016 - val_accuracy: 1.0000\n",
      "Epoch 13/15\n",
      "4/4 [==============================] - 0s 80ms/step - loss: 0.8342 - accuracy: 0.8200 - val_loss: 0.0096 - val_accuracy: 1.0000\n",
      "Epoch 14/15\n",
      "4/4 [==============================] - 0s 81ms/step - loss: 0.1047 - accuracy: 0.9700 - val_loss: 0.0044 - val_accuracy: 1.0000\n",
      "Epoch 15/15\n",
      "4/4 [==============================] - 0s 80ms/step - loss: 0.0804 - accuracy: 0.9800 - val_loss: 0.0123 - val_accuracy: 1.0000\n",
      "Elapsed time: 9.079979181289673\n"
     ]
    }
   ],
   "source": [
    "cnn.compile(loss=\"sparse_categorical_crossentropy\",\n",
    "           optimizer=\"sgd\",\n",
    "           metrics=[\"accuracy\"])\n",
    "EPOCHS=15\n",
    "start = time.time()\n",
    "hist = cnn.fit(X_train,Y_train,shuffle=True,epochs=EPOCHS,\n",
    "                 validation_data=(X_valid,Y_valid))\n",
    "end = time.time()\n",
    "print(\"Elapsed time:\",end-start)"
   ]
  },
  {
   "cell_type": "code",
   "execution_count": 9,
   "metadata": {},
   "outputs": [
    {
     "data": {
      "image/png": "[encoded data removed]",
      "text/plain": [
       "<Figure size 576x360 with 1 Axes>"
      ]
     },
     "metadata": {
      "needs_background": "light"
     },
     "output_type": "display_data"
    }
   ],
   "source": [
    "pd.DataFrame(hist.history).plot(figsize=(8,5))\n",
    "plt.grid(True)\n",
    "plt.gca().set_ylim(0.0,1.0)\n",
    "plt.show()"
   ]
  },
  {
   "cell_type": "code",
   "execution_count": null,
   "metadata": {},
   "outputs": [],
   "source": []
  }
 ],
 "metadata": {
  "kernelspec": {
   "display_name": "Python 3",
   "language": "python",
   "name": "python3"
  },
  "language_info": {
   "codemirror_mode": {
    "name": "ipython",
    "version": 3
   },
   "file_extension": ".py",
   "mimetype": "text/x-python",
   "name": "python",
   "nbconvert_exporter": "python",
   "pygments_lexer": "ipython3",
   "version": "3.8.10"
  }
 },
 "nbformat": 4,
 "nbformat_minor": 4
}
