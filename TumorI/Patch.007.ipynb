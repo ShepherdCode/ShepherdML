{
 "cells": [
  {
   "cell_type": "markdown",
   "metadata": {},
   "source": [
    "# Extract patches\n",
    "I defined patches by hand using labelImg."
   ]
  },
  {
   "cell_type": "code",
   "execution_count": 1,
   "metadata": {},
   "outputs": [],
   "source": [
    "from PIL import Image\n",
    "Image.MAX_IMAGE_PIXELS = None\n",
    "import numpy as np\n",
    "import json\n",
    "patch_size=224  # matches VGG"
   ]
  },
  {
   "cell_type": "code",
   "execution_count": 2,
   "metadata": {},
   "outputs": [],
   "source": [
    "def file_to_array(filename):\n",
    "    im = Image.open(filename)\n",
    "    ima = np.array(im)   # convert to numpy\n",
    "    return ima"
   ]
  },
  {
   "cell_type": "code",
   "execution_count": 7,
   "metadata": {},
   "outputs": [],
   "source": [
    "def file_to_annotation(filename):\n",
    "    coordshandle = open(filename)\n",
    "    coords = json.load(coordshandle)\n",
    "    coords_file1 = coords[0]['annotations']\n",
    "    return coords_file1"
   ]
  },
  {
   "cell_type": "code",
   "execution_count": 14,
   "metadata": {},
   "outputs": [],
   "source": [
    "# Assume the coords file annotates only one image.\n",
    "def create_patch_files(ima,ana,outpath,prefix,patch_size):\n",
    "    patch_num=0\n",
    "    for patch in ana:\n",
    "        patch_num += 1\n",
    "        x=int(patch['coordinates']['x'])\n",
    "        y=int(patch['coordinates']['y'])\n",
    "        patch1 = ima[x:x+patch_size,y:y+patch_size,]\n",
    "        image1 = Image.fromarray(patch1)\n",
    "        outfile = '%s/%s.%03d.tif'%(outpath,prefix,patch_num)\n",
    "        print (\"x y=\",x,y,outfile)\n",
    "        image1.save(outfile)"
   ]
  },
  {
   "cell_type": "code",
   "execution_count": 15,
   "metadata": {},
   "outputs": [],
   "source": [
    "outpath = '/home/jrm/Martinez/images/patches'"
   ]
  },
  {
   "cell_type": "code",
   "execution_count": 16,
   "metadata": {},
   "outputs": [
    {
     "name": "stdout",
     "output_type": "stream",
     "text": [
      "x y= 6855 5972 /home/jrm/Martinez/images/patches/G15.HE1.133.001.tif\n",
      "x y= 7077 5964 /home/jrm/Martinez/images/patches/G15.HE1.133.002.tif\n",
      "x y= 7298 6191 /home/jrm/Martinez/images/patches/G15.HE1.133.003.tif\n",
      "x y= 7072 6201 /home/jrm/Martinez/images/patches/G15.HE1.133.004.tif\n",
      "x y= 6853 6205 /home/jrm/Martinez/images/patches/G15.HE1.133.005.tif\n",
      "x y= 6628 6203 /home/jrm/Martinez/images/patches/G15.HE1.133.006.tif\n",
      "x y= 6396 6201 /home/jrm/Martinez/images/patches/G15.HE1.133.007.tif\n",
      "x y= 7246 6422 /home/jrm/Martinez/images/patches/G15.HE1.133.008.tif\n",
      "x y= 7010 6426 /home/jrm/Martinez/images/patches/G15.HE1.133.009.tif\n",
      "x y= 6784 6430 /home/jrm/Martinez/images/patches/G15.HE1.133.010.tif\n",
      "x y= 6570 6428 /home/jrm/Martinez/images/patches/G15.HE1.133.011.tif\n",
      "x y= 6338 6426 /home/jrm/Martinez/images/patches/G15.HE1.133.012.tif\n",
      "x y= 6124 6424 /home/jrm/Martinez/images/patches/G15.HE1.133.013.tif\n",
      "x y= 7032 6632 /home/jrm/Martinez/images/patches/G15.HE1.133.014.tif\n",
      "x y= 6789 6642 /home/jrm/Martinez/images/patches/G15.HE1.133.015.tif\n",
      "x y= 6570 6646 /home/jrm/Martinez/images/patches/G15.HE1.133.016.tif\n",
      "x y= 6356 6644 /home/jrm/Martinez/images/patches/G15.HE1.133.017.tif\n",
      "x y= 6119 6660 /home/jrm/Martinez/images/patches/G15.HE1.133.018.tif\n",
      "x y= 5893 6652 /home/jrm/Martinez/images/patches/G15.HE1.133.019.tif\n",
      "x y= 6795 6871 /home/jrm/Martinez/images/patches/G15.HE1.133.020.tif\n"
     ]
    }
   ],
   "source": [
    "file1 = '/home/jrm/Martinez/images/raw/G15.HE1.133.tif' # mostly Y-pos\n",
    "prefix = 'G15.HE1.133'\n",
    "cord1 = '/home/jrm/Martinez/images/labeled/G15.HE1.133.json'\n",
    "pixel_array=file_to_array(file1)\n",
    "annotation_array=file_to_annotation(cord1)\n",
    "create_patch_files(pixel_array,annotation_array,outpath,prefix,patch_size)"
   ]
  },
  {
   "cell_type": "code",
   "execution_count": 17,
   "metadata": {},
   "outputs": [
    {
     "name": "stdout",
     "output_type": "stream",
     "text": [
      "x y= 3689 493 /home/jrm/Martinez/images/patches/I1.HE1.09.001.tif\n",
      "x y= 3461 659 /home/jrm/Martinez/images/patches/I1.HE1.09.002.tif\n",
      "x y= 3240 783 /home/jrm/Martinez/images/patches/I1.HE1.09.003.tif\n",
      "x y= 3009 881 /home/jrm/Martinez/images/patches/I1.HE1.09.004.tif\n",
      "x y= 3236 1003 /home/jrm/Martinez/images/patches/I1.HE1.09.005.tif\n",
      "x y= 3461 889 /home/jrm/Martinez/images/patches/I1.HE1.09.006.tif\n",
      "x y= 3688 884 /home/jrm/Martinez/images/patches/I1.HE1.09.007.tif\n",
      "x y= 3915 882 /home/jrm/Martinez/images/patches/I1.HE1.09.008.tif\n",
      "x y= 4142 875 /home/jrm/Martinez/images/patches/I1.HE1.09.009.tif\n",
      "x y= 3461 1118 /home/jrm/Martinez/images/patches/I1.HE1.09.010.tif\n",
      "x y= 3693 1108 /home/jrm/Martinez/images/patches/I1.HE1.09.011.tif\n",
      "x y= 3920 1106 /home/jrm/Martinez/images/patches/I1.HE1.09.012.tif\n",
      "x y= 4147 1099 /home/jrm/Martinez/images/patches/I1.HE1.09.013.tif\n",
      "x y= 4366 1102 /home/jrm/Martinez/images/patches/I1.HE1.09.014.tif\n",
      "x y= 3409 1331 /home/jrm/Martinez/images/patches/I1.HE1.09.015.tif\n",
      "x y= 3639 1329 /home/jrm/Martinez/images/patches/I1.HE1.09.016.tif\n",
      "x y= 3866 1330 /home/jrm/Martinez/images/patches/I1.HE1.09.017.tif\n",
      "x y= 4092 1328 /home/jrm/Martinez/images/patches/I1.HE1.09.018.tif\n",
      "x y= 4326 1326 /home/jrm/Martinez/images/patches/I1.HE1.09.019.tif\n",
      "x y= 4542 1321 /home/jrm/Martinez/images/patches/I1.HE1.09.020.tif\n"
     ]
    }
   ],
   "source": [
    "file1 = '/home/jrm/Martinez/images/raw/I1.HE1.09.tif' # mostly Y-pos\n",
    "prefix = 'I1.HE1.09'\n",
    "cord1 = '/home/jrm/Martinez/images/labeled/I1.HE1.09.json'\n",
    "pixel_array=file_to_array(file1)\n",
    "annotation_array=file_to_annotation(cord1)\n",
    "create_patch_files(pixel_array,annotation_array,outpath,prefix,patch_size)"
   ]
  },
  {
   "cell_type": "code",
   "execution_count": null,
   "metadata": {},
   "outputs": [],
   "source": []
  }
 ],
 "metadata": {
  "kernelspec": {
   "display_name": "Python 3",
   "language": "python",
   "name": "python3"
  },
  "language_info": {
   "codemirror_mode": {
    "name": "ipython",
    "version": 3
   },
   "file_extension": ".py",
   "mimetype": "text/x-python",
   "name": "python",
   "nbconvert_exporter": "python",
   "pygments_lexer": "ipython3",
   "version": "3.8.10"
  }
 },
 "nbformat": 4,
 "nbformat_minor": 4
}
