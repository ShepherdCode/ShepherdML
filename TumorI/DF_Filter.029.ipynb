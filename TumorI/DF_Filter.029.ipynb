{
 "cells": [
  {
   "cell_type": "markdown",
   "metadata": {},
   "source": [
    "# Pretrained DF classifier\n",
    "Based on HE_Filter.026  \n",
    "Training set: central patches from Y-pos vs Y-neg images.  \n",
    "No attempt to distinguish background, stroma, tumor.  \n",
    "Retrain VGG.  \n",
    "Expect no classification.\n",
    "\n",
    "## Classify patches\n",
    "Use VGG. \n"
   ]
  },
  {
   "cell_type": "code",
   "execution_count": 1,
   "metadata": {},
   "outputs": [
    {
     "name": "stdout",
     "output_type": "stream",
     "text": [
      "numpy==1.22.1\n",
      "json==2.0.9\n",
      "keras.api._v2.keras==2.7.0\n",
      "pandas==1.4.0\n"
     ]
    }
   ],
   "source": [
    "import time\n",
    "import os\n",
    "#  os.environ['CUDA_VISIBLE_DEVICES'] = \"0\"   # turns off GPU?\n",
    "import glob\n",
    "#import cv2 # OpenCV-Python\n",
    "#from PIL import Image\n",
    "#Image.MAX_IMAGE_PIXELS = None\n",
    "import numpy as np\n",
    "import json\n",
    "from tensorflow import keras\n",
    "import keras.layers as kl\n",
    "import pandas as pd\n",
    "import matplotlib.pyplot as plt\n",
    "\n",
    "from tensorflow.keras.applications.vgg16 import VGG16\n",
    "from tensorflow.keras.preprocessing import image\n",
    "from tensorflow.keras.applications.vgg16 import preprocess_input\n",
    "\n",
    "print('\\n'.join(f'{m.__name__}=={m.__version__}' for m in globals().values() if getattr(m, '__version__', None)))"
   ]
  },
  {
   "cell_type": "code",
   "execution_count": 2,
   "metadata": {},
   "outputs": [
    {
     "name": "stdout",
     "output_type": "stream",
     "text": [
      "Will overwrite model at /home/jrm/Martinez/models/DF_Filter.028\n"
     ]
    }
   ],
   "source": [
    "DIR_IMAGES_IN = \"/home/jrm/Martinez/images/DFcenterpatch/\"  \n",
    "PATCH_SIZE=224  # matches VGG\n",
    "DIR_MODELS = \"/home/jrm/Martinez/models/\"\n",
    "FILE_MODEL = \"DF_Filter.028\"   ## OOPS\n",
    "filepath=DIR_MODELS+FILE_MODEL\n",
    "print(\"Will overwrite model at \"+filepath)\n",
    "BATCH_SIZE = 32\n",
    "IMG_SIZE = (PATCH_SIZE,PATCH_SIZE)\n",
    "CHANNELS = 3"
   ]
  },
  {
   "cell_type": "code",
   "execution_count": 3,
   "metadata": {},
   "outputs": [
    {
     "name": "stdout",
     "output_type": "stream",
     "text": [
      "Found 48990 files belonging to 2 classes.\n",
      "Found 12246 files belonging to 2 classes.\n"
     ]
    }
   ],
   "source": [
    "train_dir = os.path.join(DIR_IMAGES_IN, 'train')\n",
    "valid_dir = os.path.join(DIR_IMAGES_IN, 'valid')\n",
    "train_dataset = keras.utils.image_dataset_from_directory(\n",
    "    train_dir, shuffle=True, batch_size=BATCH_SIZE, image_size=IMG_SIZE)\n",
    "valid_dataset = keras.utils.image_dataset_from_directory(\n",
    "    valid_dir, shuffle=True, batch_size=BATCH_SIZE, image_size=IMG_SIZE)\n"
   ]
  },
  {
   "cell_type": "code",
   "execution_count": 4,
   "metadata": {},
   "outputs": [],
   "source": [
    "# Normalize color channel ints to floats (0,1)\n",
    "# See https://www.tensorflow.org/tutorials/load_data/images\n",
    "\n",
    "normalization_layer = kl.Rescaling(1.0/255.0)\n",
    "train_dataset = train_dataset.map(lambda x, y: (normalization_layer(x), y))\n",
    "valid_dataset = valid_dataset.map(lambda x, y: (normalization_layer(x), y))"
   ]
  },
  {
   "cell_type": "code",
   "execution_count": 5,
   "metadata": {
    "scrolled": true
   },
   "outputs": [
    {
     "name": "stdout",
     "output_type": "stream",
     "text": [
      "(32, 224, 224, 3)\n",
      "tf.Tensor([1 1 1 0 1 1 0 0 1 1 1 1 1 1 1 1 1 1 0 1 1 1 1 1 1 1 1 0 1 1 1 1], shape=(32,), dtype=int32)\n",
      "(32, 224, 224, 3)\n",
      "tf.Tensor([1 1 1 1 1 1 1 0 0 1 1 1 1 0 1 0 1 1 1 0 0 1 0 0 1 0 1 1 1 1 1 1], shape=(32,), dtype=int32)\n",
      "(32, 224, 224, 3)\n",
      "tf.Tensor([1 0 1 0 1 1 1 1 1 1 1 1 0 1 1 1 0 0 1 1 1 1 1 1 1 1 0 0 1 1 1 1], shape=(32,), dtype=int32)\n",
      "(32, 224, 224, 3)\n",
      "tf.Tensor([1 1 1 1 1 1 1 0 1 1 1 1 1 1 1 1 1 0 1 1 1 1 1 1 0 1 1 0 0 1 1 1], shape=(32,), dtype=int32)\n",
      "(32, 224, 224, 3)\n",
      "tf.Tensor([1 1 0 1 1 1 1 1 1 0 1 1 1 1 0 1 1 1 1 1 1 1 1 1 1 1 0 1 0 0 1 0], shape=(32,), dtype=int32)\n",
      "(32, 224, 224, 3)\n",
      "tf.Tensor([1 0 1 1 1 1 1 1 0 1 1 1 0 1 0 1 1 1 0 1 1 1 0 1 0 1 1 1 0 1 1 1], shape=(32,), dtype=int32)\n",
      "(32, 224, 224, 3)\n",
      "tf.Tensor([1 0 1 1 1 1 1 1 1 1 1 0 0 1 1 1 1 0 1 1 1 1 1 1 1 1 1 0 1 1 1 1], shape=(32,), dtype=int32)\n",
      "(32, 224, 224, 3)\n",
      "tf.Tensor([1 1 1 1 1 1 1 1 1 1 1 1 1 0 0 0 1 1 1 1 1 1 1 1 1 1 1 1 1 0 1 0], shape=(32,), dtype=int32)\n",
      "(32, 224, 224, 3)\n",
      "tf.Tensor([1 1 1 1 1 1 1 1 1 1 1 0 1 0 1 1 1 1 1 1 1 0 0 1 1 1 1 0 1 0 0 0], shape=(32,), dtype=int32)\n",
      "(32, 224, 224, 3)\n",
      "tf.Tensor([1 1 1 1 1 0 1 1 1 1 1 1 1 1 1 1 0 0 1 1 1 1 1 1 1 1 1 1 1 1 0 0], shape=(32,), dtype=int32)\n"
     ]
    }
   ],
   "source": [
    "iterator = valid_dataset.take(10)\n",
    "for x in iterator:\n",
    "    print(x[0].shape)\n",
    "    print(x[1])"
   ]
  },
  {
   "cell_type": "markdown",
   "metadata": {},
   "source": [
    "## VGG\n",
    "https://keras.io/guides/transfer_learning/  \n",
    "https://towardsdatascience.com/step-by-step-guide-to-using-pretrained-models-in-keras-c9097b647b29  "
   ]
  },
  {
   "cell_type": "code",
   "execution_count": 6,
   "metadata": {},
   "outputs": [
    {
     "name": "stdout",
     "output_type": "stream",
     "text": [
      "Model: \"sequential\"\n",
      "_________________________________________________________________\n",
      " Layer (type)                Output Shape              Param #   \n",
      "=================================================================\n",
      " vgg16 (Functional)          (None, 7, 7, 512)         14714688  \n",
      "                                                                 \n",
      " flatten (Flatten)           (None, 25088)             0         \n",
      "                                                                 \n",
      " dense (Dense)               (None, 64)                1605696   \n",
      "                                                                 \n",
      " dropout (Dropout)           (None, 64)                0         \n",
      "                                                                 \n",
      " dense_1 (Dense)             (None, 16)                1040      \n",
      "                                                                 \n",
      " dropout_1 (Dropout)         (None, 16)                0         \n",
      "                                                                 \n",
      " dense_2 (Dense)             (None, 2)                 34        \n",
      "                                                                 \n",
      "=================================================================\n",
      "Total params: 16,321,458\n",
      "Trainable params: 1,606,770\n",
      "Non-trainable params: 14,714,688\n",
      "_________________________________________________________________\n"
     ]
    }
   ],
   "source": [
    "CLASSES = 2\n",
    "#base_model = VGG16(weights='imagenet',include_top=False)  # top= classification layer\n",
    "# optional: input_shape=(224, 224, 3)\n",
    "#base_model.trainable = False\n",
    "#inputs = keras.Input(shape=(PATCH_SIZE, PATCH_SIZE, CHANNELS))\n",
    "#x = base_model(inputs, training=False)\n",
    "\n",
    "#x = keras.layers.GlobalAveragePooling2D()(x)\n",
    "#outputs = keras.layers.Dense(CLASSES)(x)\n",
    "#model = keras.Model(inputs, outputs)\n",
    "\n",
    "#x = keras.layers.Flatten()(x)\n",
    "#outputs = keras.layers.Dense(CLASSES)(x)\n",
    "#model = keras.Model(inputs, outputs)\n",
    "\n",
    "VGG = VGG16(weights='imagenet',include_top=False,input_shape=(PATCH_SIZE, PATCH_SIZE, CHANNELS))\n",
    "VGG.trainable = False\n",
    "model = keras.models.Sequential()\n",
    "model.add(VGG)\n",
    "model.add(kl.Flatten())\n",
    "model.add(kl.Dense(64))\n",
    "model.add(kl.Dropout(0.25))\n",
    "model.add(kl.Dense(16))\n",
    "model.add(kl.Dropout(0.25))\n",
    "model.add(kl.Dense(CLASSES,activation=\"softmax\"))\n",
    "model.summary()"
   ]
  },
  {
   "cell_type": "markdown",
   "metadata": {},
   "source": [
    "## Optimizer = SGD or ADAM ?\n",
    "ADAM converges faster but SGD better in the long run.  \n",
    "https://medium.com/geekculture/a-2021-guide-to-improving-cnns-optimizers-adam-vs-sgd-495848ac6008"
   ]
  },
  {
   "cell_type": "code",
   "execution_count": 7,
   "metadata": {},
   "outputs": [
    {
     "name": "stdout",
     "output_type": "stream",
     "text": [
      "Epoch 1/50\n",
      "1531/1531 [==============================] - 110s 70ms/step - loss: 0.7033 - accuracy: 0.7820 - val_loss: 0.5181 - val_accuracy: 0.7857\n",
      "Epoch 2/50\n",
      "1531/1531 [==============================] - 106s 69ms/step - loss: 0.5224 - accuracy: 0.7857 - val_loss: 0.5162 - val_accuracy: 0.7857\n",
      "Epoch 3/50\n",
      "1531/1531 [==============================] - 106s 69ms/step - loss: 0.5193 - accuracy: 0.7857 - val_loss: 0.5166 - val_accuracy: 0.7857\n",
      "Epoch 4/50\n",
      "1531/1531 [==============================] - 106s 70ms/step - loss: 0.5178 - accuracy: 0.7857 - val_loss: 0.5133 - val_accuracy: 0.7857\n",
      "Epoch 5/50\n",
      "1531/1531 [==============================] - 107s 70ms/step - loss: 0.5156 - accuracy: 0.7857 - val_loss: 0.5147 - val_accuracy: 0.7857\n",
      "Epoch 6/50\n",
      "1531/1531 [==============================] - 107s 70ms/step - loss: 0.5149 - accuracy: 0.7857 - val_loss: 0.5118 - val_accuracy: 0.7857\n",
      "Epoch 7/50\n",
      "1531/1531 [==============================] - 106s 69ms/step - loss: 0.5131 - accuracy: 0.7858 - val_loss: 0.5174 - val_accuracy: 0.7857\n",
      "Epoch 8/50\n",
      "1531/1531 [==============================] - 106s 70ms/step - loss: 0.5122 - accuracy: 0.7857 - val_loss: 0.5171 - val_accuracy: 0.7857\n",
      "Epoch 9/50\n",
      "1531/1531 [==============================] - 107s 70ms/step - loss: 0.5114 - accuracy: 0.7857 - val_loss: 0.5078 - val_accuracy: 0.7857\n",
      "Epoch 10/50\n",
      "1531/1531 [==============================] - 107s 70ms/step - loss: 0.5107 - accuracy: 0.7856 - val_loss: 0.5069 - val_accuracy: 0.7857\n",
      "Epoch 11/50\n",
      "1531/1531 [==============================] - 107s 70ms/step - loss: 0.5101 - accuracy: 0.7856 - val_loss: 0.5062 - val_accuracy: 0.7857\n",
      "Epoch 12/50\n",
      "1531/1531 [==============================] - 107s 70ms/step - loss: 0.5093 - accuracy: 0.7853 - val_loss: 0.5081 - val_accuracy: 0.7853\n",
      "Epoch 13/50\n",
      "1531/1531 [==============================] - 106s 69ms/step - loss: 0.5089 - accuracy: 0.7854 - val_loss: 0.5055 - val_accuracy: 0.7852\n",
      "Epoch 14/50\n",
      "1531/1531 [==============================] - 107s 70ms/step - loss: 0.5082 - accuracy: 0.7852 - val_loss: 0.5063 - val_accuracy: 0.7857\n",
      "Epoch 15/50\n",
      "1531/1531 [==============================] - 107s 70ms/step - loss: 0.5076 - accuracy: 0.7854 - val_loss: 0.5049 - val_accuracy: 0.7852\n",
      "Epoch 16/50\n",
      "1531/1531 [==============================] - 107s 70ms/step - loss: 0.5071 - accuracy: 0.7853 - val_loss: 0.5046 - val_accuracy: 0.7857\n",
      "Epoch 17/50\n",
      "1531/1531 [==============================] - 107s 70ms/step - loss: 0.5066 - accuracy: 0.7846 - val_loss: 0.5036 - val_accuracy: 0.7857\n",
      "Epoch 18/50\n",
      "1531/1531 [==============================] - 107s 70ms/step - loss: 0.5067 - accuracy: 0.7851 - val_loss: 0.5120 - val_accuracy: 0.7834\n",
      "Epoch 19/50\n",
      "1531/1531 [==============================] - 107s 70ms/step - loss: 0.5059 - accuracy: 0.7848 - val_loss: 0.5055 - val_accuracy: 0.7857\n",
      "Epoch 20/50\n",
      "1531/1531 [==============================] - 107s 70ms/step - loss: 0.5055 - accuracy: 0.7849 - val_loss: 0.5016 - val_accuracy: 0.7849\n",
      "Epoch 21/50\n",
      "1531/1531 [==============================] - 107s 70ms/step - loss: 0.5051 - accuracy: 0.7845 - val_loss: 0.5041 - val_accuracy: 0.7846\n",
      "Epoch 22/50\n",
      "1531/1531 [==============================] - 107s 70ms/step - loss: 0.5047 - accuracy: 0.7846 - val_loss: 0.5213 - val_accuracy: 0.7788\n",
      "Epoch 23/50\n",
      "1531/1531 [==============================] - 107s 70ms/step - loss: 0.5043 - accuracy: 0.7846 - val_loss: 0.5043 - val_accuracy: 0.7834\n",
      "Epoch 24/50\n",
      "1531/1531 [==============================] - 107s 70ms/step - loss: 0.5039 - accuracy: 0.7844 - val_loss: 0.5045 - val_accuracy: 0.7832\n",
      "Epoch 25/50\n",
      "1531/1531 [==============================] - 107s 70ms/step - loss: 0.5035 - accuracy: 0.7844 - val_loss: 0.5006 - val_accuracy: 0.7847\n",
      "Epoch 26/50\n",
      "1531/1531 [==============================] - 107s 70ms/step - loss: 0.5032 - accuracy: 0.7845 - val_loss: 0.5038 - val_accuracy: 0.7823\n",
      "Epoch 27/50\n",
      "1531/1531 [==============================] - 107s 70ms/step - loss: 0.5029 - accuracy: 0.7846 - val_loss: 0.4992 - val_accuracy: 0.7847\n",
      "Epoch 28/50\n",
      "1531/1531 [==============================] - 107s 70ms/step - loss: 0.5026 - accuracy: 0.7846 - val_loss: 0.5025 - val_accuracy: 0.7828\n",
      "Epoch 29/50\n",
      "1531/1531 [==============================] - 107s 70ms/step - loss: 0.5023 - accuracy: 0.7845 - val_loss: 0.4999 - val_accuracy: 0.7853\n",
      "Epoch 30/50\n",
      "1531/1531 [==============================] - 107s 70ms/step - loss: 0.5020 - accuracy: 0.7845 - val_loss: 0.5083 - val_accuracy: 0.7854\n",
      "Epoch 31/50\n",
      "1531/1531 [==============================] - 107s 70ms/step - loss: 0.5016 - accuracy: 0.7842 - val_loss: 0.5038 - val_accuracy: 0.7815\n",
      "Epoch 32/50\n",
      "1531/1531 [==============================] - 107s 70ms/step - loss: 0.5015 - accuracy: 0.7842 - val_loss: 0.5011 - val_accuracy: 0.7832\n",
      "Epoch 33/50\n",
      "1531/1531 [==============================] - 107s 70ms/step - loss: 0.5010 - accuracy: 0.7844 - val_loss: 0.4967 - val_accuracy: 0.7835\n",
      "Epoch 34/50\n",
      "1531/1531 [==============================] - 107s 70ms/step - loss: 0.5009 - accuracy: 0.7843 - val_loss: 0.5191 - val_accuracy: 0.7857\n",
      "Epoch 35/50\n",
      "1531/1531 [==============================] - 107s 70ms/step - loss: 0.5002 - accuracy: 0.7845 - val_loss: 0.5222 - val_accuracy: 0.7787\n",
      "Epoch 36/50\n",
      "1531/1531 [==============================] - 106s 69ms/step - loss: 0.5002 - accuracy: 0.7843 - val_loss: 0.5001 - val_accuracy: 0.7825\n",
      "Epoch 37/50\n",
      "1531/1531 [==============================] - 107s 70ms/step - loss: 0.4993 - accuracy: 0.7837 - val_loss: 0.4956 - val_accuracy: 0.7832\n",
      "Epoch 38/50\n",
      "1531/1531 [==============================] - 107s 70ms/step - loss: 0.4991 - accuracy: 0.7843 - val_loss: 0.4947 - val_accuracy: 0.7816\n",
      "Epoch 39/50\n",
      "1531/1531 [==============================] - 107s 70ms/step - loss: 0.4992 - accuracy: 0.7837 - val_loss: 0.4964 - val_accuracy: 0.7832\n",
      "Epoch 40/50\n",
      "1531/1531 [==============================] - 107s 70ms/step - loss: 0.4990 - accuracy: 0.7844 - val_loss: 0.5005 - val_accuracy: 0.7808\n",
      "Epoch 41/50\n",
      "1531/1531 [==============================] - 106s 69ms/step - loss: 0.4984 - accuracy: 0.7841 - val_loss: 0.4943 - val_accuracy: 0.7831\n",
      "Epoch 42/50\n",
      "1531/1531 [==============================] - 106s 69ms/step - loss: 0.4981 - accuracy: 0.7840 - val_loss: 0.4983 - val_accuracy: 0.7822\n",
      "Epoch 43/50\n",
      "1531/1531 [==============================] - 106s 69ms/step - loss: 0.4979 - accuracy: 0.7842 - val_loss: 0.4934 - val_accuracy: 0.7815\n",
      "Epoch 44/50\n",
      "1531/1531 [==============================] - 106s 69ms/step - loss: 0.4974 - accuracy: 0.7838 - val_loss: 0.5026 - val_accuracy: 0.7809\n",
      "Epoch 45/50\n",
      "1531/1531 [==============================] - 106s 70ms/step - loss: 0.4977 - accuracy: 0.7835 - val_loss: 0.4931 - val_accuracy: 0.7837\n",
      "Epoch 46/50\n",
      "1531/1531 [==============================] - 106s 70ms/step - loss: 0.4969 - accuracy: 0.7839 - val_loss: 0.4928 - val_accuracy: 0.7832\n",
      "Epoch 47/50\n",
      "1531/1531 [==============================] - 106s 69ms/step - loss: 0.4962 - accuracy: 0.7838 - val_loss: 0.4968 - val_accuracy: 0.7848\n",
      "Epoch 48/50\n",
      "1531/1531 [==============================] - 106s 69ms/step - loss: 0.4964 - accuracy: 0.7842 - val_loss: 0.4924 - val_accuracy: 0.7832\n",
      "Epoch 49/50\n",
      "1531/1531 [==============================] - 106s 69ms/step - loss: 0.4961 - accuracy: 0.7839 - val_loss: 0.4935 - val_accuracy: 0.7845\n",
      "Epoch 50/50\n",
      "1531/1531 [==============================] - 106s 69ms/step - loss: 0.4956 - accuracy: 0.7839 - val_loss: 0.4929 - val_accuracy: 0.7838\n",
      "Elapsed time: 5330.42956161499\n"
     ]
    }
   ],
   "source": [
    "model.compile(loss=\"sparse_categorical_crossentropy\",\n",
    "           optimizer=\"sgd\",\n",
    "           metrics=[\"accuracy\"])\n",
    "EPOCHS=50\n",
    "start = time.time()\n",
    "hist = model.fit(train_dataset,validation_data=valid_dataset,epochs=EPOCHS)\n",
    "end = time.time()\n",
    "print(\"Elapsed time:\",end-start)"
   ]
  },
  {
   "cell_type": "code",
   "execution_count": 8,
   "metadata": {
    "scrolled": true
   },
   "outputs": [
    {
     "data": {
      "image/png": "[encoded data removed]",
      "text/plain": [
       "<Figure size 576x360 with 1 Axes>"
      ]
     },
     "metadata": {
      "needs_background": "light"
     },
     "output_type": "display_data"
    }
   ],
   "source": [
    "pd.DataFrame(hist.history).plot(figsize=(8,5))\n",
    "plt.grid(True)\n",
    "plt.gca().set_ylim(0.0,1.0)\n",
    "plt.show()"
   ]
  },
  {
   "cell_type": "code",
   "execution_count": 9,
   "metadata": {},
   "outputs": [
    {
     "name": "stdout",
     "output_type": "stream",
     "text": [
      "INFO:tensorflow:Assets written to: /home/jrm/Martinez/models/DF_Filter.028/assets\n"
     ]
    }
   ],
   "source": [
    "model.save(filepath)"
   ]
  },
  {
   "cell_type": "markdown",
   "metadata": {},
   "source": [
    "Training set: 38493 Ypos, 10499 Yneg. Pos=0.78570  \n",
    "Validation set: 9623 Ypos, 2625 Yneg. Pos= 0.78568  "
   ]
  },
  {
   "cell_type": "code",
   "execution_count": null,
   "metadata": {},
   "outputs": [],
   "source": []
  }
 ],
 "metadata": {
  "kernelspec": {
   "display_name": "Python 3",
   "language": "python",
   "name": "python3"
  },
  "language_info": {
   "codemirror_mode": {
    "name": "ipython",
    "version": 3
   },
   "file_extension": ".py",
   "mimetype": "text/x-python",
   "name": "python",
   "nbconvert_exporter": "python",
   "pygments_lexer": "ipython3",
   "version": "3.8.10"
  }
 },
 "nbformat": 4,
 "nbformat_minor": 4
}
