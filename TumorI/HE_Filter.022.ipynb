{
 "cells": [
  {
   "cell_type": "markdown",
   "metadata": {},
   "source": [
    "# Naive H&E classifier\n",
    "Training set: patches from Y-pos vs Y-neg images.  \n",
    "No attempt to distinguish background, stroma, tumor.  \n",
    "Train vanilla CNN (but use VGG-compatible patch size).  \n",
    "Expect no classification.\n",
    "\n",
    "## Classify patches\n",
    "Use a vanilla CNN."
   ]
  },
  {
   "cell_type": "code",
   "execution_count": 1,
   "metadata": {},
   "outputs": [],
   "source": [
    "import time\n",
    "import os\n",
    "#  os.environ['CUDA_VISIBLE_DEVICES'] = \"0\"   # turns off GPU?\n",
    "import glob\n",
    "import cv2 # OpenCV-Python\n",
    "from PIL import Image\n",
    "Image.MAX_IMAGE_PIXELS = None\n",
    "import numpy as np\n",
    "import json\n",
    "from tensorflow import keras\n",
    "import keras.layers as kl\n",
    "import pandas as pd\n",
    "import matplotlib.pyplot as plt\n"
   ]
  },
  {
   "cell_type": "code",
   "execution_count": 2,
   "metadata": {},
   "outputs": [
    {
     "name": "stdout",
     "output_type": "stream",
     "text": [
      "Will overwrite model at /home/jrm/Martinez/models/HE_CNN_001\n"
     ]
    }
   ],
   "source": [
    "DIR_IMAGES_IN = \"/home/jrm/Martinez/images/HEpatches/\"  \n",
    "PATCH_SIZE=224  # matches VGG\n",
    "DIR_MODELS = \"/home/jrm/Martinez/models/\"\n",
    "FILE_MODEL = \"HE_CNN_001\"\n",
    "filepath=DIR_MODELS+FILE_MODEL\n",
    "print(\"Will overwrite model at \"+filepath)"
   ]
  },
  {
   "cell_type": "code",
   "execution_count": 3,
   "metadata": {},
   "outputs": [
    {
     "name": "stdout",
     "output_type": "stream",
     "text": [
      "Found 46216 files belonging to 2 classes.\n",
      "Found 11553 files belonging to 2 classes.\n"
     ]
    }
   ],
   "source": [
    "train_dir = os.path.join(DIR_IMAGES_IN, 'train')\n",
    "valid_dir = os.path.join(DIR_IMAGES_IN, 'valid')\n",
    "\n",
    "BATCH_SIZE = 32\n",
    "IMG_SIZE = (224,224)\n",
    "\n",
    "train_dataset = keras.utils.image_dataset_from_directory(\n",
    "    train_dir, shuffle=True, batch_size=BATCH_SIZE, image_size=IMG_SIZE)\n",
    "valid_dataset = keras.utils.image_dataset_from_directory(\n",
    "    valid_dir, shuffle=True, batch_size=BATCH_SIZE, image_size=IMG_SIZE)\n"
   ]
  },
  {
   "cell_type": "code",
   "execution_count": 4,
   "metadata": {},
   "outputs": [],
   "source": [
    "# Normalize color channel ints to floats (0,1)\n",
    "# See https://www.tensorflow.org/tutorials/load_data/images\n",
    "\n",
    "normalization_layer = kl.Rescaling(1.0/255.0)\n",
    "train_dataset = train_dataset.map(lambda x, y: (normalization_layer(x), y))\n",
    "valid_dataset = valid_dataset.map(lambda x, y: (normalization_layer(x), y))"
   ]
  },
  {
   "cell_type": "code",
   "execution_count": 5,
   "metadata": {},
   "outputs": [
    {
     "name": "stdout",
     "output_type": "stream",
     "text": [
      "(32, 224, 224, 3)\n",
      "tf.Tensor([1 1 1 1 1 0 1 1 1 1 1 0 0 1 1 1 1 1 0 1 0 1 1 1 1 1 1 1 1 0 1 0], shape=(32,), dtype=int32)\n",
      "(32, 224, 224, 3)\n",
      "tf.Tensor([1 1 1 1 1 1 0 0 1 1 1 0 0 1 1 1 0 1 0 0 1 1 0 0 1 1 0 0 1 1 1 1], shape=(32,), dtype=int32)\n",
      "(32, 224, 224, 3)\n",
      "tf.Tensor([1 1 0 1 0 0 1 1 1 0 1 1 1 1 1 1 1 1 1 0 1 0 1 1 1 1 0 1 1 1 1 1], shape=(32,), dtype=int32)\n",
      "(32, 224, 224, 3)\n",
      "tf.Tensor([1 1 1 0 1 1 1 1 1 1 1 0 0 1 1 1 1 1 0 1 1 1 0 1 0 1 1 1 1 1 1 1], shape=(32,), dtype=int32)\n",
      "(32, 224, 224, 3)\n",
      "tf.Tensor([0 0 1 1 1 0 1 1 0 1 0 1 1 1 1 1 1 0 1 1 1 1 1 1 1 1 1 1 0 1 1 0], shape=(32,), dtype=int32)\n",
      "(32, 224, 224, 3)\n",
      "tf.Tensor([1 1 1 0 1 1 1 1 0 1 0 1 1 0 1 1 1 0 1 1 1 0 1 1 1 1 1 1 0 1 1 1], shape=(32,), dtype=int32)\n",
      "(32, 224, 224, 3)\n",
      "tf.Tensor([1 1 1 1 1 1 1 1 0 0 1 1 1 0 1 1 1 1 0 0 1 1 1 1 1 1 1 1 1 0 1 1], shape=(32,), dtype=int32)\n",
      "(32, 224, 224, 3)\n",
      "tf.Tensor([1 1 1 1 1 1 1 1 1 1 1 1 1 1 1 1 1 0 1 0 1 1 0 1 1 1 1 0 1 0 1 1], shape=(32,), dtype=int32)\n",
      "(32, 224, 224, 3)\n",
      "tf.Tensor([1 1 1 1 1 1 1 0 1 0 1 1 1 0 1 0 1 1 1 1 1 1 0 0 1 1 1 1 1 1 0 1], shape=(32,), dtype=int32)\n",
      "(32, 224, 224, 3)\n",
      "tf.Tensor([1 1 1 1 1 0 1 1 1 0 0 0 1 1 1 1 1 0 1 0 1 0 1 1 1 1 1 1 1 1 0 1], shape=(32,), dtype=int32)\n"
     ]
    }
   ],
   "source": [
    "iterator = valid_dataset.take(10)\n",
    "for x in iterator:\n",
    "    print(x[0].shape)\n",
    "    print(x[1])"
   ]
  },
  {
   "cell_type": "code",
   "execution_count": 6,
   "metadata": {},
   "outputs": [],
   "source": [
    "ACTIVATION=\"tanh\"\n",
    "NUM_CLASSES = 3\n",
    "CHANNELS=3\n",
    "INPUT_SHAPE=[PATCH_SIZE,PATCH_SIZE,CHANNELS]\n",
    "cnn = keras.models.Sequential([\n",
    "    #kl.RandomFlip(),\n",
    "    kl.Conv2D(128,5,activation=ACTIVATION,padding=\"SAME\",input_shape=INPUT_SHAPE),\n",
    "    kl.MaxPooling2D(2),\n",
    "    kl.Conv2D(128,5,activation=ACTIVATION,padding=\"same\"),\n",
    "    kl.Conv2D(128,5,activation=ACTIVATION,padding=\"same\"),\n",
    "    kl.MaxPooling2D(2),   \n",
    "    kl.Conv2D(64,5,activation=ACTIVATION,padding=\"same\"),\n",
    "    kl.Conv2D(64,5,activation=ACTIVATION,padding=\"same\"),\n",
    "    kl.MaxPooling2D(2), \n",
    "    kl.Flatten(),\n",
    "    kl.Dense(32,activation=ACTIVATION),\n",
    "    kl.Dropout(0.5),\n",
    "    kl.Dense(16,activation=ACTIVATION),\n",
    "    kl.Dropout(0.5),    \n",
    "    kl.Dense(NUM_CLASSES,activation=\"softmax\")\n",
    "])\n"
   ]
  },
  {
   "cell_type": "code",
   "execution_count": 7,
   "metadata": {},
   "outputs": [
    {
     "name": "stdout",
     "output_type": "stream",
     "text": [
      "Epoch 1/10\n",
      "1445/1445 [==============================] - 177s 120ms/step - loss: 0.5984 - accuracy: 0.7576 - val_loss: 0.5315 - val_accuracy: 0.7786\n",
      "Epoch 2/10\n",
      "1445/1445 [==============================] - 175s 121ms/step - loss: 0.5376 - accuracy: 0.7786 - val_loss: 0.5298 - val_accuracy: 0.7786\n",
      "Epoch 3/10\n",
      "1445/1445 [==============================] - 175s 121ms/step - loss: 0.5335 - accuracy: 0.7786 - val_loss: 0.5297 - val_accuracy: 0.7786\n",
      "Epoch 4/10\n",
      "1445/1445 [==============================] - 175s 121ms/step - loss: 0.5322 - accuracy: 0.7786 - val_loss: 0.5290 - val_accuracy: 0.7786\n",
      "Epoch 5/10\n",
      "1445/1445 [==============================] - 175s 121ms/step - loss: 0.5314 - accuracy: 0.7786 - val_loss: 0.5290 - val_accuracy: 0.7786\n",
      "Epoch 6/10\n",
      "1445/1445 [==============================] - 175s 121ms/step - loss: 0.5309 - accuracy: 0.7786 - val_loss: 0.5292 - val_accuracy: 0.7786\n",
      "Epoch 7/10\n",
      "1445/1445 [==============================] - 175s 121ms/step - loss: 0.5306 - accuracy: 0.7786 - val_loss: 0.5288 - val_accuracy: 0.7786\n",
      "Epoch 8/10\n",
      "1445/1445 [==============================] - 175s 121ms/step - loss: 0.5305 - accuracy: 0.7786 - val_loss: 0.5293 - val_accuracy: 0.7786\n",
      "Epoch 9/10\n",
      "1445/1445 [==============================] - 175s 121ms/step - loss: 0.5305 - accuracy: 0.7786 - val_loss: 0.5292 - val_accuracy: 0.7786\n",
      "Epoch 10/10\n",
      "1445/1445 [==============================] - 175s 121ms/step - loss: 0.5304 - accuracy: 0.7786 - val_loss: 0.5293 - val_accuracy: 0.7786\n",
      "Elapsed time: 1749.9417815208435\n"
     ]
    }
   ],
   "source": [
    "cnn.compile(loss=\"sparse_categorical_crossentropy\",\n",
    "           optimizer=\"sgd\",\n",
    "           metrics=[\"accuracy\"])\n",
    "EPOCHS=10\n",
    "start = time.time()\n",
    "hist = cnn.fit(train_dataset,validation_data=valid_dataset,epochs=EPOCHS)\n",
    "end = time.time()\n",
    "print(\"Elapsed time:\",end-start)"
   ]
  },
  {
   "cell_type": "code",
   "execution_count": 8,
   "metadata": {
    "scrolled": true
   },
   "outputs": [
    {
     "data": {
      "image/png": "[encoded data removed]",
      "text/plain": [
       "<Figure size 576x360 with 1 Axes>"
      ]
     },
     "metadata": {
      "needs_background": "light"
     },
     "output_type": "display_data"
    }
   ],
   "source": [
    "pd.DataFrame(hist.history).plot(figsize=(8,5))\n",
    "plt.grid(True)\n",
    "plt.gca().set_ylim(0.0,1.0)\n",
    "plt.show()"
   ]
  },
  {
   "cell_type": "code",
   "execution_count": 9,
   "metadata": {},
   "outputs": [
    {
     "name": "stdout",
     "output_type": "stream",
     "text": [
      "INFO:tensorflow:Assets written to: /home/jrm/Martinez/models/HE_CNN_001/assets\n"
     ]
    }
   ],
   "source": [
    "cnn.save(filepath)"
   ]
  },
  {
   "cell_type": "code",
   "execution_count": null,
   "metadata": {},
   "outputs": [],
   "source": []
  }
 ],
 "metadata": {
  "kernelspec": {
   "display_name": "Python 3",
   "language": "python",
   "name": "python3"
  },
  "language_info": {
   "codemirror_mode": {
    "name": "ipython",
    "version": 3
   },
   "file_extension": ".py",
   "mimetype": "text/x-python",
   "name": "python",
   "nbconvert_exporter": "python",
   "pygments_lexer": "ipython3",
   "version": "3.8.10"
  }
 },
 "nbformat": 4,
 "nbformat_minor": 4
}
