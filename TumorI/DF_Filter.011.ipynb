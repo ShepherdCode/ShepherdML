{
 "cells": [
  {
   "cell_type": "markdown",
   "metadata": {},
   "source": [
    "# Train a CNN on the color-based training set.\n",
    "Classify patches from all Y-neg tumors based on color.  \n",
    "Choose patches that are clearly green or blue.  \n",
    "Save patches to the cache directory.  "
   ]
  },
  {
   "cell_type": "code",
   "execution_count": 1,
   "metadata": {},
   "outputs": [],
   "source": [
    "import time\n",
    "import os\n",
    "import glob\n",
    "import cv2 # OpenCV-Python\n",
    "from PIL import Image\n",
    "Image.MAX_IMAGE_PIXELS = None\n",
    "import numpy as np\n",
    "import json\n",
    "DIR_IMAGES_RAW = \"/home/jrm/Martinez/images/raw/\"\n",
    "DIR_IMAGES_OUT = \"/home/jrm/Martinez/images/cache/\"\n",
    "PATTERN_IMAGES_RAW = \"*.DF1.*.tif\"\n",
    "PATCH_SIZE=224  # matches VGG"
   ]
  },
  {
   "cell_type": "code",
   "execution_count": 2,
   "metadata": {},
   "outputs": [],
   "source": [
    "DF_Ypos = ['B7.','B15','D1.','D5.','E7.','E9.','F9.','G3.','H13','I1.','I5.','I13']\n",
    "DF_Yneg = ['A3.','A5.','B13','C1.','C11','D3.','E5.','F3.','F7','F11','F13','F15','G15','H1.','H3.','H7.','H15']"
   ]
  },
  {
   "cell_type": "code",
   "execution_count": 3,
   "metadata": {},
   "outputs": [],
   "source": [
    "def get_image_names(path,pattern):\n",
    "    #RAW_IMAGE_NAMES = os.listdir(DIR_IMAGES_RAW)\n",
    "    paths = glob.glob(path+pattern)\n",
    "    names = [os.path.basename(x) for x in paths]\n",
    "    return names\n",
    "FILENAMES_IMAGES_RAW = get_image_names(DIR_IMAGES_RAW,PATTERN_IMAGES_RAW)\n",
    "#FILENAMES_IMAGES_RAW"
   ]
  },
  {
   "cell_type": "code",
   "execution_count": 8,
   "metadata": {},
   "outputs": [],
   "source": [
    "\n",
    "class patch_maker:\n",
    "    def __init__(self):\n",
    "        self.path=\"\"\n",
    "        self.w=0\n",
    "        self.h=0\n",
    "        self.im_width = 0\n",
    "        self.im_height = 0\n",
    "        self.patch_size = 10 # scalar, assumed square for now\n",
    "        self.pixel_array = None\n",
    "        self.VMOD = 10   # simple rule for now: 1 of 10 images used for validation\n",
    "        self.vmod = 0\n",
    "    def set_input_path(self,path):\n",
    "        self.path=path\n",
    "    def set_patch_size(self,scalar):\n",
    "        self.patch_size = scalar\n",
    "    def load_pixel_array(self,filename,verbose=False):\n",
    "        self.w=0\n",
    "        self.h=0\n",
    "        im = Image.open(self.path+filename)\n",
    "        ima = np.array(im)   # convert to numpy\n",
    "        self.im_width = ima.shape[0]\n",
    "        self.im_height = ima.shape[1]    \n",
    "        if verbose:\n",
    "            print(filename, ima.size, ima.shape)\n",
    "        self.pixel_array = ima\n",
    "        return ima\n",
    "    def get_next_patch(self): \n",
    "        IM_WIDTH = self.im_width\n",
    "        IM_HEIGHT = self.im_height\n",
    "        PIXEL_ARRAY = self.pixel_array\n",
    "        patch = None\n",
    "        if self.w+self.patch_size > IM_WIDTH:\n",
    "            self.h += self.patch_size\n",
    "            self.w = 0\n",
    "        if self.w+self.patch_size <= IM_WIDTH and self.h+self.patch_size <= IM_HEIGHT:\n",
    "            patch = PIXEL_ARRAY[self.w:self.w+self.patch_size, self.h:self.h+self.patch_size]\n",
    "            self.w += self.patch_size\n",
    "        return patch\n",
    "    def get_train_or_valid(self):\n",
    "        if self.vmod >= self.VMOD:\n",
    "            tname='valid'\n",
    "            self.vmod = 0\n",
    "        else:\n",
    "            tname='train'\n",
    "            self.vmod += 1\n",
    "        return tname\n",
    "    def save_patch (self, prefix, pnum, color, patch):\n",
    "        tname = self.get_train_or_valid()\n",
    "        ext = \".tif\"\n",
    "        path=DIR_IMAGES_OUT+tname+'/'+str(color)+'/'+prefix+'.'+str(pnum)+ext\n",
    "        im = Image.fromarray(patch)\n",
    "        im.save(path)\n"
   ]
  },
  {
   "cell_type": "markdown",
   "metadata": {},
   "source": [
    "## Create directory of patch files for training\n",
    "Creates over 6K files.  \n",
    "Uses about 1GB of disk.  "
   ]
  },
  {
   "cell_type": "code",
   "execution_count": 10,
   "metadata": {},
   "outputs": [
    {
     "name": "stdout",
     "output_type": "stream",
     "text": [
      "F15.DF1.135.tif, H3.DF1.27.tif, C11.DF1.96.tif, C1.DF1.01.tif, F11.DF1.94.tif, H7.DF1.62.tif, A3.DF1.26.tif, A5.DF1.45.tif, H15.DF1.132.tif, G15.DF1.133.tif, F3.DF1.22.tif, B13.DF1.115.tif, D3.DF1.20.tif, E5.DF1.42.tif, H1.DF1.07.tif, \n"
     ]
    }
   ],
   "source": [
    "NO_GREEN_INTENSITY=np.array( [0,35,0] )\n",
    "NO_BLUE_INTENSITY=np.array( [0,0,30] )\n",
    "pm = patch_maker()\n",
    "pm.set_input_path(DIR_IMAGES_RAW)\n",
    "pm.set_patch_size(PATCH_SIZE)\n",
    "BLUE=1\n",
    "GREEN=0\n",
    "for filename in FILENAMES_IMAGES_RAW:\n",
    "    prefix = filename[0:3]\n",
    "    pnum = 0;\n",
    "    if prefix in DF_Yneg:\n",
    "        print(filename,end=\", \")\n",
    "        pixels = pm.load_pixel_array(filename)\n",
    "        patch = pm.get_next_patch()\n",
    "        while patch is not None:\n",
    "            num_green_pixels = np.sum(np.all(patch >= NO_GREEN_INTENSITY,axis=2))\n",
    "            num_blue_pixels = np.sum(np.all(patch >= NO_BLUE_INTENSITY,axis=2))\n",
    "            if num_blue_pixels>=10000 and num_blue_pixels>num_green_pixels*20:\n",
    "                pnum += 1\n",
    "                pm.save_patch(prefix,pnum,BLUE,patch)\n",
    "            elif num_green_pixels>=15000 and num_green_pixels>num_blue_pixels*2:\n",
    "                pnum += 1\n",
    "                pm.save_patch(prefix,pnum,GREEN,patch)\n",
    "            patch = pm.get_next_patch()\n",
    "print()"
   ]
  },
  {
   "cell_type": "code",
   "execution_count": null,
   "metadata": {},
   "outputs": [],
   "source": []
  }
 ],
 "metadata": {
  "kernelspec": {
   "display_name": "Python 3",
   "language": "python",
   "name": "python3"
  },
  "language_info": {
   "codemirror_mode": {
    "name": "ipython",
    "version": 3
   },
   "file_extension": ".py",
   "mimetype": "text/x-python",
   "name": "python",
   "nbconvert_exporter": "python",
   "pygments_lexer": "ipython3",
   "version": "3.8.10"
  }
 },
 "nbformat": 4,
 "nbformat_minor": 4
}
