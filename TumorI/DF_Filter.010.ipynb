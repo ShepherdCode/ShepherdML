{
 "cells": [
  {
   "cell_type": "markdown",
   "metadata": {},
   "source": [
    "# Train a CNN on the color-based training set.\n",
    "Classify patches from all Y-neg tumors.  \n",
    "Regain those that are certainly blue or certainly green.  \n",
    "Try to fix loss=nan problem.  "
   ]
  },
  {
   "cell_type": "code",
   "execution_count": 1,
   "metadata": {},
   "outputs": [],
   "source": [
    "import time\n",
    "import os\n",
    "import glob\n",
    "import cv2 # OpenCV-Python\n",
    "from PIL import Image\n",
    "Image.MAX_IMAGE_PIXELS = None\n",
    "import numpy as np\n",
    "import json\n",
    "DIR_IMAGES_RAW = \"/home/jrm/Martinez/images/raw/\"\n",
    "DIR_IMAGES_OUT = \"/home/jrm/Martinez/images/temp/\"\n",
    "PATTERN_IMAGES_RAW = \"*.DF1.*.tif\"\n",
    "PATCH_SIZE=224  # matches VGG"
   ]
  },
  {
   "cell_type": "code",
   "execution_count": 2,
   "metadata": {},
   "outputs": [],
   "source": [
    "DF_Ypos = ['B7.','B15','D1.','D5.','E7.','E9.','F9.','G3.','H13','I1.','I5.','I13']\n",
    "DF_Yneg = ['A3.','A5.','B13','C1.','C11','D3.','E5.','F3.','F7','F11','F13','F15','G15','H1.','H3.','H7.','H15']"
   ]
  },
  {
   "cell_type": "code",
   "execution_count": 3,
   "metadata": {},
   "outputs": [],
   "source": [
    "def get_image_names(path,pattern):\n",
    "    #RAW_IMAGE_NAMES = os.listdir(DIR_IMAGES_RAW)\n",
    "    paths = glob.glob(path+pattern)\n",
    "    names = [os.path.basename(x) for x in paths]\n",
    "    return names\n",
    "FILENAMES_IMAGES_RAW = get_image_names(DIR_IMAGES_RAW,PATTERN_IMAGES_RAW)\n",
    "#FILENAMES_IMAGES_RAW"
   ]
  },
  {
   "cell_type": "code",
   "execution_count": 4,
   "metadata": {},
   "outputs": [],
   "source": [
    "class patch_maker:\n",
    "    def __init__(self):\n",
    "        self.path=\"\"\n",
    "        self.w=0\n",
    "        self.h=0\n",
    "        self.im_width = 0\n",
    "        self.im_height = 0\n",
    "        self.patch_size = 10 # scalar, assumed square for now\n",
    "        self.pixel_array = None\n",
    "    def set_input_path(self,path):\n",
    "        self.path=path\n",
    "    def set_patch_size(self,scalar):\n",
    "        self.patch_size = scalar\n",
    "    def load_pixel_array(self,filename,verbose=False):\n",
    "        self.w=0\n",
    "        self.h=0\n",
    "        im = Image.open(self.path+filename)\n",
    "        ima = np.array(im)   # convert to numpy\n",
    "        self.im_width = ima.shape[0]\n",
    "        self.im_height = ima.shape[1]    \n",
    "        if verbose:\n",
    "            print(filename, ima.size, ima.shape)\n",
    "        self.pixel_array = ima\n",
    "        return ima\n",
    "    def get_next_patch(self): \n",
    "        IM_WIDTH = self.im_width\n",
    "        IM_HEIGHT = self.im_height\n",
    "        PIXEL_ARRAY = self.pixel_array\n",
    "        patch = None\n",
    "        if self.w+self.patch_size > IM_WIDTH:\n",
    "            self.h += self.patch_size\n",
    "            self.w = 0\n",
    "        if self.w+self.patch_size <= IM_WIDTH and self.h+self.patch_size <= IM_HEIGHT:\n",
    "            patch = PIXEL_ARRAY[self.w:self.w+self.patch_size, self.h:self.h+self.patch_size]\n",
    "            self.w += self.patch_size\n",
    "        return patch"
   ]
  },
  {
   "cell_type": "code",
   "execution_count": 5,
   "metadata": {},
   "outputs": [
    {
     "name": "stdout",
     "output_type": "stream",
     "text": [
      "F15.DF1.135.tif, \n"
     ]
    }
   ],
   "source": [
    "NO_GREEN_INTENSITY=np.array( [0,35,0] )\n",
    "NO_BLUE_INTENSITY=np.array( [0,0,30] )\n",
    "pm = patch_maker()\n",
    "pm.set_input_path(DIR_IMAGES_RAW)\n",
    "pm.set_patch_size(PATCH_SIZE)\n",
    "X_train=[]\n",
    "Y_train=[]\n",
    "X_valid=[]\n",
    "Y_valid=[]\n",
    "VMOD=10\n",
    "pcount=0\n",
    "BLUE=1\n",
    "GREEN=0\n",
    "def add_patch (patch, color):  # TO DO: make this a class, dispense with globals\n",
    "    global pcount\n",
    "    global VMOD\n",
    "    if pcount >= VMOD:\n",
    "        X_valid.append(patch)\n",
    "        Y_valid.append(color)\n",
    "        pcount = 0\n",
    "    else:\n",
    "        X_train.append(patch)\n",
    "        Y_train.append(color)\n",
    "        pcount += 1\n",
    "for filename in FILENAMES_IMAGES_RAW:\n",
    "    prefix = filename[0:3]\n",
    "    if prefix in DF_Yneg:\n",
    "        print(filename,end=\", \")\n",
    "        pixels = pm.load_pixel_array(filename)\n",
    "        patch = pm.get_next_patch()\n",
    "        while patch is not None:\n",
    "            num_green_pixels = np.sum(np.all(patch >= NO_GREEN_INTENSITY,axis=2))\n",
    "            num_blue_pixels = np.sum(np.all(patch >= NO_BLUE_INTENSITY,axis=2))\n",
    "            if num_blue_pixels>=10000 and num_blue_pixels>num_green_pixels*20:\n",
    "                add_patch(patch,BLUE)\n",
    "            elif num_green_pixels>=15000 and num_green_pixels>num_blue_pixels*2:\n",
    "                add_patch(patch,GREEN)\n",
    "            patch = pm.get_next_patch()\n",
    "    break  # FOR STARTERS, JUST PROCESS ONE FILE!\n",
    "print()\n",
    "# Required for tensorflow+\n",
    "X_train = np.asarray(X_train)\n",
    "Y_train = np.asarray(Y_train)\n",
    "X_valid = np.asarray(X_valid)\n",
    "Y_valid = np.asarray(Y_valid)"
   ]
  },
  {
   "cell_type": "code",
   "execution_count": 6,
   "metadata": {},
   "outputs": [
    {
     "name": "stdout",
     "output_type": "stream",
     "text": [
      "<class 'numpy.ndarray'>\n",
      "270\n",
      "(224, 224, 3)\n",
      "[1 1 1 1 0 1 1 1 1 1 1 1 1 1 1 1 1 1 0 1 1 1 1 1 1 1]\n"
     ]
    }
   ],
   "source": [
    "print(type(X_train))\n",
    "print(len(X_train))\n",
    "print(X_train[0].shape)\n",
    "print(Y_valid)"
   ]
  },
  {
   "cell_type": "code",
   "execution_count": 7,
   "metadata": {},
   "outputs": [],
   "source": [
    "from tensorflow import keras\n",
    "import keras.layers as kl\n",
    "ACTIVATION=\"tanh\"\n",
    "INPUT_SHAPE=[PATCH_SIZE,PATCH_SIZE,3]\n",
    "cnn = keras.models.Sequential([\n",
    "    kl.Conv2D(filters=64,kernel_size=7,activation=ACTIVATION,padding=\"SAME\",\n",
    "    input_shape=INPUT_SHAPE),\n",
    "    kl.MaxPooling2D(2),\n",
    "    kl.Conv2D(128,3,activation=ACTIVATION,padding=\"same\"),\n",
    "    kl.Conv2D(128,3,activation=ACTIVATION,padding=\"same\"),\n",
    "    kl.MaxPooling2D(2),   \n",
    "    kl.Conv2D(256,3,activation=ACTIVATION,padding=\"same\"),\n",
    "    kl.Conv2D(256,3,activation=ACTIVATION,padding=\"same\"),\n",
    "    kl.MaxPooling2D(2), \n",
    "    kl.Flatten(),\n",
    "    kl.Dense(128,activation=ACTIVATION),\n",
    "    kl.Dropout(0.5),\n",
    "    kl.Dense(64,activation=ACTIVATION),\n",
    "    kl.Dropout(0.5),    \n",
    "    kl.Dense(2,activation=\"softmax\")\n",
    "])\n",
    "# 10 nodes in the output layer\n",
    "# corresponds to 10 classes of MNIST clothes.\n",
    "# cnn.layers[0].weights"
   ]
  },
  {
   "cell_type": "code",
   "execution_count": 8,
   "metadata": {},
   "outputs": [
    {
     "name": "stdout",
     "output_type": "stream",
     "text": [
      "Epoch 1/10\n",
      "9/9 [==============================] - 38s 4s/step - loss: 0.7018 - accuracy: 0.8111 - val_loss: 0.4730 - val_accuracy: 0.9231\n",
      "Epoch 2/10\n",
      "9/9 [==============================] - 37s 4s/step - loss: 0.5779 - accuracy: 0.8815 - val_loss: 0.3770 - val_accuracy: 0.9231\n",
      "Epoch 3/10\n",
      "9/9 [==============================] - 39s 4s/step - loss: 0.5281 - accuracy: 0.8704 - val_loss: 0.3280 - val_accuracy: 0.9231\n",
      "Epoch 4/10\n",
      "9/9 [==============================] - 37s 4s/step - loss: 0.5280 - accuracy: 0.8704 - val_loss: 0.2906 - val_accuracy: 0.9231\n",
      "Epoch 5/10\n",
      "9/9 [==============================] - 41s 5s/step - loss: 0.4539 - accuracy: 0.8741 - val_loss: 0.2834 - val_accuracy: 0.9231\n",
      "Epoch 6/10\n",
      "9/9 [==============================] - 39s 4s/step - loss: 0.4406 - accuracy: 0.8593 - val_loss: 0.2769 - val_accuracy: 0.9231\n",
      "Epoch 7/10\n",
      "9/9 [==============================] - 37s 4s/step - loss: 0.4354 - accuracy: 0.8741 - val_loss: 0.2728 - val_accuracy: 0.9231\n",
      "Epoch 8/10\n",
      "9/9 [==============================] - 38s 4s/step - loss: 0.4484 - accuracy: 0.8630 - val_loss: 0.2723 - val_accuracy: 0.9231\n",
      "Epoch 9/10\n",
      "9/9 [==============================] - 37s 4s/step - loss: 0.4828 - accuracy: 0.8704 - val_loss: 0.2734 - val_accuracy: 0.9231\n",
      "Epoch 10/10\n",
      "9/9 [==============================] - 37s 4s/step - loss: 0.4458 - accuracy: 0.8667 - val_loss: 0.2736 - val_accuracy: 0.9231\n",
      "Elapsed time: 381.8202168941498\n"
     ]
    }
   ],
   "source": [
    "cnn.compile(loss=\"sparse_categorical_crossentropy\",\n",
    "           optimizer=\"sgd\",\n",
    "           metrics=[\"accuracy\"])\n",
    "EPOCHS=10\n",
    "start = time.time()\n",
    "hist = cnn.fit(X_train,Y_train,epochs=EPOCHS,\n",
    "                 validation_data=(X_valid,Y_valid))\n",
    "end = time.time()\n",
    "print(\"Elapsed time:\",end-start)"
   ]
  },
  {
   "cell_type": "code",
   "execution_count": 10,
   "metadata": {},
   "outputs": [
    {
     "data": {
      "image/png": "[encoded data removed]",
      "text/plain": [
       "<Figure size 576x360 with 1 Axes>"
      ]
     },
     "metadata": {
      "needs_background": "light"
     },
     "output_type": "display_data"
    }
   ],
   "source": [
    "import pandas as pd\n",
    "import matplotlib.pyplot as plt\n",
    "pd.DataFrame(hist.history).plot(figsize=(8,5))\n",
    "plt.grid(True)\n",
    "plt.gca().set_ylim(0.0,1.0)\n",
    "plt.show()"
   ]
  },
  {
   "cell_type": "markdown",
   "metadata": {},
   "source": [
    "2022-02-08 13:39:32.313479: E tensorflow/stream_executor/cuda/cuda_driver.cc:271] failed call to cuInit: CUDA_ERROR_NO_DEVICE: no CUDA-capable device is detected\n",
    "2022-02-08 13:39:32.313577: I tensorflow/stream_executor/cuda/cuda_diagnostics.cc:156] kernel driver does not appear to be running on this host (Alien): /proc/driver/nvidia/version does not exist\n",
    "2022-02-08 13:39:32.314790: I tensorflow/core/platform/cpu_feature_guard.cc:151] This TensorFlow binary is optimized with oneAPI Deep Neural Network Library (oneDNN) to use the following CPU instructions in performance-critical operations:  AVX2 AVX512F FMA\n",
    "To enable them in other operations, rebuild TensorFlow with the appropriate compiler flags.\n",
    "2022-02-08 13:39:32.783647: W tensorflow/core/framework/cpu_allocator_impl.cc:82] Allocation of 411041792 exceeds 10% of free system memory.\n",
    "2022-02-08 13:39:32.972057: W tensorflow/core/framework/cpu_allocator_impl.cc:82] Allocation of 205520896 exceeds 10% of free system memory.\n",
    "2022-02-08 13:39:33.075415: W tensorflow/core/framework/cpu_allocator_impl.cc:82] Allocation of 205520896 exceeds 10% of free system memory.\n",
    "2022-02-08 13:39:34.623417: W tensorflow/core/framework/cpu_allocator_impl.cc:82] Allocation of 205520896 exceeds 10% of free system memory.\n",
    "2022-02-08 13:39:34.779412: W tensorflow/core/framework/cpu_allocator_impl.cc:82] Allocation of 205520896 exceeds 10% of free system memory.\n"
   ]
  },
  {
   "cell_type": "code",
   "execution_count": null,
   "metadata": {},
   "outputs": [],
   "source": []
  }
 ],
 "metadata": {
  "kernelspec": {
   "display_name": "Python 3",
   "language": "python",
   "name": "python3"
  },
  "language_info": {
   "codemirror_mode": {
    "name": "ipython",
    "version": 3
   },
   "file_extension": ".py",
   "mimetype": "text/x-python",
   "name": "python",
   "nbconvert_exporter": "python",
   "pygments_lexer": "ipython3",
   "version": "3.8.10"
  }
 },
 "nbformat": 4,
 "nbformat_minor": 4
}
