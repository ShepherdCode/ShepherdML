{
 "cells": [
  {
   "cell_type": "markdown",
   "metadata": {},
   "source": [
    "# Success: train a CNN on our color-based small training set.\n",
    "Success:\n",
    "* TensorFlow CNN uses GPU for 40X speedup: from 600s to 15s per epoch.\n",
    "* Since we can't load all the images, use TensorFlow Data API.\n",
    "* Train and validate with 6000 patches from DF_Filter.011"
   ]
  },
  {
   "cell_type": "markdown",
   "metadata": {},
   "source": [
    "Directory structure is\n",
    "* cache  \n",
    "    * train  \n",
    "        * 0  (green) 2680 files\n",
    "        * 1   (blue) 3099 files\n",
    "    * valid  \n",
    "        * 0  (green) 266 files\n",
    "        * 1   (blue) 311 files\n",
    "\n",
    "Filename like F5..208 or F15.209.tif i.e. original_image.patch num.tif  \n",
    "All prefixes are 3 characters with either one or two dots.  \n",
    "Patch nums are per category.  \n",
    "Each file holds a 224x224 patch of a color image."
   ]
  },
  {
   "cell_type": "code",
   "execution_count": 1,
   "metadata": {},
   "outputs": [],
   "source": [
    "import time\n",
    "import os\n",
    "#  os.environ['CUDA_VISIBLE_DEVICES'] = \"0\"   # turns off GPU?\n",
    "import glob\n",
    "import cv2 # OpenCV-Python\n",
    "from PIL import Image\n",
    "Image.MAX_IMAGE_PIXELS = None\n",
    "import numpy as np\n",
    "import json\n",
    "from tensorflow import keras\n",
    "import keras.layers as kl\n",
    "import pandas as pd\n",
    "import matplotlib.pyplot as plt\n"
   ]
  },
  {
   "cell_type": "code",
   "execution_count": 2,
   "metadata": {},
   "outputs": [],
   "source": [
    "DIR_IMAGES_IN = \"/home/jrm/Martinez/images/cache/\"\n",
    "PATCH_SIZE=224  # matches VGG\n",
    "BLUE=1\n",
    "GREEN=0"
   ]
  },
  {
   "cell_type": "code",
   "execution_count": 3,
   "metadata": {},
   "outputs": [
    {
     "name": "stdout",
     "output_type": "stream",
     "text": [
      "Found 5779 files belonging to 2 classes.\n",
      "Found 577 files belonging to 2 classes.\n"
     ]
    }
   ],
   "source": [
    "train_dir = os.path.join(DIR_IMAGES_IN, 'train')\n",
    "valid_dir = os.path.join(DIR_IMAGES_IN, 'valid')\n",
    "\n",
    "BATCH_SIZE = 32\n",
    "IMG_SIZE = (224,224)\n",
    "\n",
    "train_dataset = keras.utils.image_dataset_from_directory(\n",
    "    train_dir, shuffle=True, batch_size=BATCH_SIZE, image_size=IMG_SIZE)\n",
    "valid_dataset = keras.utils.image_dataset_from_directory(\n",
    "    valid_dir, shuffle=True, batch_size=BATCH_SIZE, image_size=IMG_SIZE)\n"
   ]
  },
  {
   "cell_type": "code",
   "execution_count": 4,
   "metadata": {},
   "outputs": [
    {
     "name": "stdout",
     "output_type": "stream",
     "text": [
      "(32, 224, 224, 3)\n",
      "tf.Tensor([0 0 0 0 0 0 0 0 0 1 1 1 1 0 1 1 0 0 0 1 0 1 1 1 0 0 1 1 0 1 1 1], shape=(32,), dtype=int32)\n"
     ]
    }
   ],
   "source": [
    "iterator = valid_dataset.take(1)\n",
    "for x in iterator:\n",
    "    print(x[0].shape)\n",
    "    print(x[1])"
   ]
  },
  {
   "cell_type": "code",
   "execution_count": 5,
   "metadata": {},
   "outputs": [],
   "source": [
    "# TO DO: normalize color channel ints to floats (0,1)\n",
    "# See https://www.tensorflow.org/tutorials/load_data/images\n",
    "\n",
    "normalization_layer = kl.Rescaling(1./255)"
   ]
  },
  {
   "cell_type": "code",
   "execution_count": 6,
   "metadata": {},
   "outputs": [],
   "source": [
    "ACTIVATION=\"tanh\"\n",
    "NUM_CLASSES = 2\n",
    "INPUT_SHAPE=[PATCH_SIZE,PATCH_SIZE,3]\n",
    "cnn = keras.models.Sequential([\n",
    "    kl.Conv2D(filters=64,kernel_size=7,activation=ACTIVATION,padding=\"SAME\",input_shape=INPUT_SHAPE),\n",
    "    kl.MaxPooling2D(2),\n",
    "    kl.Conv2D(128,3,activation=ACTIVATION,padding=\"same\"),\n",
    "    kl.Conv2D(128,3,activation=ACTIVATION,padding=\"same\"),\n",
    "    kl.MaxPooling2D(2),   \n",
    "    kl.Conv2D(64,3,activation=ACTIVATION,padding=\"same\"),\n",
    "    kl.Conv2D(64,3,activation=ACTIVATION,padding=\"same\"),\n",
    "    kl.MaxPooling2D(2), \n",
    "    kl.Flatten(),\n",
    "    kl.Dense(64,activation=ACTIVATION),\n",
    "    kl.Dropout(0.5),\n",
    "    kl.Dense(32,activation=ACTIVATION),\n",
    "    kl.Dropout(0.5),    \n",
    "    kl.Dense(2,activation=\"softmax\")\n",
    "])\n",
    "# 10 nodes in the output layer\n",
    "# corresponds to 10 classes of MNIST clothes.\n",
    "# cnn.layers[0].weights"
   ]
  },
  {
   "cell_type": "code",
   "execution_count": 7,
   "metadata": {},
   "outputs": [
    {
     "name": "stdout",
     "output_type": "stream",
     "text": [
      "Epoch 1/10\n",
      "181/181 [==============================] - 19s 88ms/step - loss: 0.1138 - accuracy: 0.9694 - val_loss: 0.0373 - val_accuracy: 0.9931\n",
      "Epoch 2/10\n",
      "181/181 [==============================] - 15s 83ms/step - loss: 0.1532 - accuracy: 0.9689 - val_loss: 0.0287 - val_accuracy: 0.9931\n",
      "Epoch 3/10\n",
      "181/181 [==============================] - 15s 83ms/step - loss: 0.0357 - accuracy: 0.9938 - val_loss: 0.0196 - val_accuracy: 0.9931\n",
      "Epoch 4/10\n",
      "181/181 [==============================] - 15s 83ms/step - loss: 0.0290 - accuracy: 0.9927 - val_loss: 0.0219 - val_accuracy: 0.9931\n",
      "Epoch 5/10\n",
      "181/181 [==============================] - 15s 83ms/step - loss: 0.0233 - accuracy: 0.9950 - val_loss: 0.0049 - val_accuracy: 1.0000\n",
      "Epoch 6/10\n",
      "181/181 [==============================] - 15s 84ms/step - loss: 0.0167 - accuracy: 0.9955 - val_loss: 0.0066 - val_accuracy: 0.9983\n",
      "Epoch 7/10\n",
      "181/181 [==============================] - 15s 83ms/step - loss: 0.0176 - accuracy: 0.9950 - val_loss: 0.0226 - val_accuracy: 0.9913\n",
      "Epoch 8/10\n",
      "181/181 [==============================] - 15s 84ms/step - loss: 0.0113 - accuracy: 0.9974 - val_loss: 0.0068 - val_accuracy: 0.9965\n",
      "Epoch 9/10\n",
      "181/181 [==============================] - 15s 83ms/step - loss: 0.0166 - accuracy: 0.9948 - val_loss: 0.0039 - val_accuracy: 0.9983\n",
      "Epoch 10/10\n",
      "181/181 [==============================] - 15s 83ms/step - loss: 0.0127 - accuracy: 0.9965 - val_loss: 0.0042 - val_accuracy: 0.9983\n",
      "Elapsed time: 154.63172578811646\n"
     ]
    }
   ],
   "source": [
    "cnn.compile(loss=\"sparse_categorical_crossentropy\",\n",
    "           optimizer=\"sgd\",\n",
    "           metrics=[\"accuracy\"])\n",
    "EPOCHS=10\n",
    "start = time.time()\n",
    "hist = cnn.fit(train_dataset,validation_data=valid_dataset,epochs=EPOCHS)\n",
    "end = time.time()\n",
    "print(\"Elapsed time:\",end-start)"
   ]
  },
  {
   "cell_type": "code",
   "execution_count": 8,
   "metadata": {},
   "outputs": [
    {
     "data": {
      "image/png": "[encoded data removed]",
      "text/plain": [
       "<Figure size 576x360 with 1 Axes>"
      ]
     },
     "metadata": {
      "needs_background": "light"
     },
     "output_type": "display_data"
    }
   ],
   "source": [
    "pd.DataFrame(hist.history).plot(figsize=(8,5))\n",
    "plt.grid(True)\n",
    "plt.gca().set_ylim(0.0,1.0)\n",
    "plt.show()"
   ]
  },
  {
   "cell_type": "markdown",
   "metadata": {},
   "source": [
    "## This worked after a complete reinstall.\n",
    "\n",
    "After installing nvtop, all of nvidia software stopped working.  \n",
    "Purge and reinstall was required."
   ]
  },
  {
   "cell_type": "code",
   "execution_count": null,
   "metadata": {},
   "outputs": [],
   "source": []
  }
 ],
 "metadata": {
  "kernelspec": {
   "display_name": "Python 3",
   "language": "python",
   "name": "python3"
  },
  "language_info": {
   "codemirror_mode": {
    "name": "ipython",
    "version": 3
   },
   "file_extension": ".py",
   "mimetype": "text/x-python",
   "name": "python",
   "nbconvert_exporter": "python",
   "pygments_lexer": "ipython3",
   "version": "3.8.10"
  }
 },
 "nbformat": 4,
 "nbformat_minor": 4
}
