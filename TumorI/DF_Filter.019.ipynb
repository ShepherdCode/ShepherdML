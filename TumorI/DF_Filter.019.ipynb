{
 "cells": [
  {
   "cell_type": "markdown",
   "metadata": {},
   "source": [
    "# Apply small color CNN to all patches\n",
    "\n",
    "Use the patches created in DF_Filter.018  \n",
    "These are 'mixed' patches i.e. not obviously blue, green, or black.\n",
    "Use the CNN model trained on 3K patches in DF_Filter.017 (didn't use data augmentation).    \n",
    "Be careful to call cnn.predict_classes() not cnn.compile() or cnn.fit().  \n",
    "Remember to apply pixel scaling.  \n",
    "Use keras.preprocessing (https://keras.io/examples/vision/image_classification_from_scratch/).  "
   ]
  },
  {
   "cell_type": "code",
   "execution_count": 1,
   "metadata": {},
   "outputs": [],
   "source": [
    "import time\n",
    "import os\n",
    "#  os.environ['CUDA_VISIBLE_DEVICES'] = \"0\"   # turns off GPU?\n",
    "import glob\n",
    "import cv2 # OpenCV-Python\n",
    "from PIL import Image\n",
    "Image.MAX_IMAGE_PIXELS = None\n",
    "import numpy as np\n",
    "import json\n",
    "import tensorflow as tf\n",
    "from tensorflow import keras\n",
    "import keras.layers as kl\n",
    "import pandas as pd\n",
    "import matplotlib.pyplot as plt\n"
   ]
  },
  {
   "cell_type": "code",
   "execution_count": 2,
   "metadata": {},
   "outputs": [
    {
     "name": "stdout",
     "output_type": "stream",
     "text": [
      "Will use model from /home/jrm/Martinez/models/CNN_SMALL_COLOR\n"
     ]
    }
   ],
   "source": [
    "DIR_IMAGES_IN = \"/home/jrm/Martinez/images/patches/\"\n",
    "DIR_IMAGES_IN = \"/home/jrm/Martinez/images/tinytest/\"   # just for testing\n",
    "PATTERN_PATCHES = \"*.jpg\"\n",
    "PATCH_SIZE=224  # matches VGG\n",
    "IMAGE_SIZE=(PATCH_SIZE,PATCH_SIZE)\n",
    "DIR_MODELS = \"/home/jrm/Martinez/models/\"\n",
    "FILE_MODEL = \"CNN_SMALL_COLOR\"\n",
    "filepath=DIR_MODELS+FILE_MODEL\n",
    "print(\"Will use model from \"+filepath)\n",
    "cnn = keras.models.load_model(filepath)"
   ]
  },
  {
   "cell_type": "code",
   "execution_count": 3,
   "metadata": {},
   "outputs": [],
   "source": [
    "def get_image_names(path,pattern):\n",
    "    paths = glob.glob(path+pattern)\n",
    "    names = [os.path.basename(x) for x in paths]\n",
    "    return names\n",
    "FILENAMES_PATCHES = get_image_names(DIR_IMAGES_IN,PATTERN_PATCHES)"
   ]
  },
  {
   "cell_type": "code",
   "execution_count": 4,
   "metadata": {},
   "outputs": [],
   "source": [
    "normalization_layer = kl.Rescaling(1.0/255.0)"
   ]
  },
  {
   "cell_type": "code",
   "execution_count": 7,
   "metadata": {
    "scrolled": true
   },
   "outputs": [
    {
     "name": "stdout",
     "output_type": "stream",
     "text": [
      "Image GREEN.D3.250.jpg cores 0.000179 blue and 0.999821 green.\n",
      "Image BLUE.E5.100.jpg cores 0.999842 blue and 0.000158 green.\n",
      "Elapsed time: 0.06403684616088867\n"
     ]
    }
   ],
   "source": [
    "# With keras models, augmentation and dropout are inactive during prediction.\n",
    "start = time.time()\n",
    "for filename in FILENAMES_PATCHES:\n",
    "    path = DIR_IMAGES_IN+filename\n",
    "    img = keras.preprocessing.image.load_img(\n",
    "        path, target_size=IMAGE_SIZE\n",
    "    )\n",
    "    img_array = keras.preprocessing.image.img_to_array(img)\n",
    "    img_array = normalization_layer(img_array)\n",
    "    img_array = tf.expand_dims(img_array, 0)  # create tensor\n",
    "    # TODO: consider using predict_classes() instead\n",
    "    predictions = cnn.predict(img_array)\n",
    "    score = predictions[0]  # TODO: explore other array slices\n",
    "    print(\n",
    "        \"Image %s cores %f blue and %f green.\"\n",
    "        % (filename, score[0], score[1])\n",
    "    )\n",
    "end = time.time()\n",
    "print(\"Elapsed time:\",end-start)"
   ]
  },
  {
   "cell_type": "code",
   "execution_count": null,
   "metadata": {},
   "outputs": [],
   "source": []
  }
 ],
 "metadata": {
  "kernelspec": {
   "display_name": "Python 3",
   "language": "python",
   "name": "python3"
  },
  "language_info": {
   "codemirror_mode": {
    "name": "ipython",
    "version": 3
   },
   "file_extension": ".py",
   "mimetype": "text/x-python",
   "name": "python",
   "nbconvert_exporter": "python",
   "pygments_lexer": "ipython3",
   "version": "3.8.10"
  }
 },
 "nbformat": 4,
 "nbformat_minor": 4
}
