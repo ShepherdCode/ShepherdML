{
 "cells": [
  {
   "cell_type": "markdown",
   "metadata": {},
   "source": [
    "# Filter background from D&F images.\n",
    "We have combined DAPI (blue) and FLUORO (green) images.  \n",
    "Partition each image into patches.  \n",
    "Try to select the mostly blue patches."
   ]
  },
  {
   "cell_type": "code",
   "execution_count": 1,
   "metadata": {},
   "outputs": [],
   "source": [
    "import os\n",
    "import glob\n",
    "import cv2 # OpenCV-Python\n",
    "from PIL import Image\n",
    "Image.MAX_IMAGE_PIXELS = None\n",
    "import numpy as np\n",
    "import json\n",
    "DIR_IMAGES_RAW = \"/home/jrm/Martinez/images/raw/\"\n",
    "PATTERN_IMAGES_RAW = \"*.DF1.*.tif\"\n",
    "PATCH_SIZE=224  # matches VGG"
   ]
  },
  {
   "cell_type": "code",
   "execution_count": 2,
   "metadata": {},
   "outputs": [
    {
     "data": {
      "text/plain": [
       "['F15.DF1.135.tif',\n",
       " 'D5.DF1.43.tif',\n",
       " 'H3.DF1.27.tif',\n",
       " 'C11.DF1.96.tif',\n",
       " 'H13.DF1.114.tif',\n",
       " 'I1.DF1.09.tif',\n",
       " 'G3.DF1.25.tif',\n",
       " 'C1.DF1.01.tif',\n",
       " 'F11.DF1.94.tif',\n",
       " 'F9.DF1.80.tif',\n",
       " 'H7.DF1.62.tif',\n",
       " 'A3.DF1.26.tif',\n",
       " 'A5.DF1.45.tif',\n",
       " 'H15.DF1.132.tif',\n",
       " 'D1.DF1.02.tif',\n",
       " 'G15.DF1.133.tif',\n",
       " 'B15.DF1.134.tif',\n",
       " 'I5.DF1.48.tif',\n",
       " 'E9.DF1.75.tif',\n",
       " 'I13.DF1.117.tif',\n",
       " 'F3.DF1.22.tif',\n",
       " 'B7.DF1.60.tif',\n",
       " 'B13.DF1.115.tif',\n",
       " 'E7.DF1.64.tif',\n",
       " 'F7.DF1.63.tif',\n",
       " 'D3.DF1.20.tif',\n",
       " 'E5.DF1.42.tif',\n",
       " 'H1.DF1.07.tif']"
      ]
     },
     "execution_count": 2,
     "metadata": {},
     "output_type": "execute_result"
    }
   ],
   "source": [
    "def get_image_names(path,pattern):\n",
    "    #RAW_IMAGE_NAMES = os.listdir(DIR_IMAGES_RAW)\n",
    "    paths = glob.glob(path+pattern)\n",
    "    names = [os.path.basename(x) for x in paths]\n",
    "    return names\n",
    "FILENAMES_IMAGES_RAW = get_image_names(DIR_IMAGES_RAW,PATTERN_IMAGES_RAW)\n",
    "FILENAMES_IMAGES_RAW"
   ]
  },
  {
   "cell_type": "code",
   "execution_count": 3,
   "metadata": {},
   "outputs": [
    {
     "name": "stdout",
     "output_type": "stream",
     "text": [
      "H1.DF1.07.tif 479598264 (12513, 12776, 3)\n"
     ]
    }
   ],
   "source": [
    "def load_pixel_array(path,filename,verbose=False):\n",
    "    im = Image.open(path+filename)\n",
    "    ima = np.array(im)   # convert to numpy\n",
    "    if verbose:\n",
    "        print(filename, ima.size, ima.shape)\n",
    "    return ima\n",
    "pixel_array = load_pixel_array(DIR_IMAGES_RAW,'H1.DF1.07.tif',True)"
   ]
  },
  {
   "cell_type": "code",
   "execution_count": 4,
   "metadata": {},
   "outputs": [
    {
     "name": "stdout",
     "output_type": "stream",
     "text": [
      "Average [ 0.         40.01907205 28.02747956] STD [ 0.         25.25630313 43.83137465]\n",
      "Example pixel: [ 0 35  2]\n"
     ]
    }
   ],
   "source": [
    "avg = np.average(pixel_array,axis=(0,1))\n",
    "std = np.std(pixel_array,axis=(0,1))\n",
    "print(\"Average\",avg,\"STD\",std)\n",
    "print(\"Example pixel:\",pixel_array[0,0])"
   ]
  },
  {
   "cell_type": "code",
   "execution_count": 5,
   "metadata": {},
   "outputs": [],
   "source": [
    "PATCH_THRESHOLD=PATCH_SIZE*PATCH_SIZE/2\n",
    "IM_WIDTH = pixel_array.shape[0]\n",
    "IM_HEIGHT = pixel_array.shape[1]"
   ]
  },
  {
   "cell_type": "code",
   "execution_count": 25,
   "metadata": {},
   "outputs": [],
   "source": [
    "W=0\n",
    "H=0\n",
    "def get_next_patch(pixels): # assume square\n",
    "    global W,H\n",
    "    if W+PATCH_SIZE>IM_WIDTH:\n",
    "        H += PATCH_SIZE\n",
    "        W = 0\n",
    "    if H+PATCH_SIZE>IM_HEIGHT:\n",
    "        patch = None\n",
    "    if W+PATCH_SIZE<=IM_WIDTH and H+PATCH_SIZE<=IM_HEIGHT:\n",
    "        patch = pixels[W:W+PATCH_SIZE, H:H+PATCH_SIZE]\n",
    "        W += PATCH_SIZE\n",
    "    return patch"
   ]
  },
  {
   "cell_type": "code",
   "execution_count": 26,
   "metadata": {},
   "outputs": [
    {
     "name": "stdout",
     "output_type": "stream",
     "text": [
      "back= 356 green= 1190 blue= 3\n"
     ]
    }
   ],
   "source": [
    "BACKGROUND_MAX=np.array( [20,20,20] )\n",
    "GREEN_MIN=np.array( [0,40,0] )\n",
    "BLUE_MIN=np.array( [0,0,40] )\n",
    "num_back_patches = 0\n",
    "num_green_patches = 0\n",
    "num_blue_patches = 0\n",
    "patch = get_next_patch(pixel_array)\n",
    "while patch is not None:\n",
    "    num_background_pixels = np.sum(np.all(patch<BACKGROUND_MAX,axis=2))\n",
    "    if num_background_pixels>=PATCH_THRESHOLD:\n",
    "        num_back_patches += 1\n",
    "    else:\n",
    "        num_green_pixels = np.sum(np.all(patch>=GREEN_MIN,axis=2))\n",
    "        if num_green_pixels>=PATCH_THRESHOLD:\n",
    "            num_green_patches += 1\n",
    "        else:\n",
    "            num_blue_pixels = np.sum(np.all(patch>=BLUE_MIN,axis=2))\n",
    "            if num_blue_pixels>=PATCH_THRESHOLD:\n",
    "                num_blue_patches += 1\n",
    "                pic = Image.fromarray(patch)\n",
    "                name = \"BLUE{}.tif\".format(num_blue_patches)\n",
    "                pic.save(name)\n",
    "    patch = get_next_patch(pixel_array)\n",
    "print(\"back=\",num_back_patches,\"green=\",num_green_patches,\"blue=\",num_blue_patches)"
   ]
  },
  {
   "cell_type": "markdown",
   "metadata": {},
   "source": [
    "The three blue images did indeed have solid blue nuclei.  \n",
    "Surprisingly, they also had slight green smear background."
   ]
  },
  {
   "cell_type": "code",
   "execution_count": null,
   "metadata": {},
   "outputs": [],
   "source": []
  },
  {
   "cell_type": "code",
   "execution_count": null,
   "metadata": {},
   "outputs": [],
   "source": []
  }
 ],
 "metadata": {
  "kernelspec": {
   "display_name": "Python 3",
   "language": "python",
   "name": "python3"
  },
  "language_info": {
   "codemirror_mode": {
    "name": "ipython",
    "version": 3
   },
   "file_extension": ".py",
   "mimetype": "text/x-python",
   "name": "python",
   "nbconvert_exporter": "python",
   "pygments_lexer": "ipython3",
   "version": "3.8.10"
  }
 },
 "nbformat": 4,
 "nbformat_minor": 4
}
