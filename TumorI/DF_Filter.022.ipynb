{
 "cells": [
  {
   "cell_type": "markdown",
   "metadata": {},
   "source": [
    "# Redo small color patch model \n",
    "\n",
    "Based on DF_Filter.017  \n",
    "\n",
    "## Tried data augmentation but gave up\n",
    "\n",
    "Data augmentation ideas (https://keras.io/examples/vision/image_classification_from_scratch/)  \n",
    "That page recommends preprocessing the data for CPU computing.  \n",
    "It recommends adding a layer to the model for GPU computing.  \n",
    "But model.save failes when we include that layer.   "
   ]
  },
  {
   "cell_type": "markdown",
   "metadata": {},
   "source": [
    "Directory structure is\n",
    "* cache/train/{black,green,blue}\n",
    "* cache/valid/{black,green,blue}\n",
    "* Totals are {3939,2946,3410}\n",
    "* Train/Valid split is 80:20.\n",
    "\n",
    "Filename like F15.209.png would be patches of F15.DF1.135.tif  \n",
    "Filename like h7_.62.png  would be patches of H7.DF1.62.tif by coincidence  \n",
    "All prefixes are 3 characters.  \n",
    "Each patch file holds a 224x224 patch of a color image."
   ]
  },
  {
   "cell_type": "code",
   "execution_count": 1,
   "metadata": {},
   "outputs": [],
   "source": [
    "import time\n",
    "import os\n",
    "#  os.environ['CUDA_VISIBLE_DEVICES'] = \"0\"   # turns off GPU?\n",
    "import glob\n",
    "import cv2 # OpenCV-Python\n",
    "from PIL import Image\n",
    "Image.MAX_IMAGE_PIXELS = None\n",
    "import numpy as np\n",
    "import json\n",
    "from tensorflow import keras\n",
    "import keras.layers as kl\n",
    "import pandas as pd\n",
    "import matplotlib.pyplot as plt\n"
   ]
  },
  {
   "cell_type": "code",
   "execution_count": 2,
   "metadata": {},
   "outputs": [
    {
     "name": "stdout",
     "output_type": "stream",
     "text": [
      "Will overwrite model at /home/jrm/Martinez/models/CNN_SMALL_REDO\n"
     ]
    }
   ],
   "source": [
    "DIR_IMAGES_IN = \"/home/jrm/Martinez/images/cache/\"\n",
    "PATCH_SIZE=224  # matches VGG\n",
    "DIR_MODELS = \"/home/jrm/Martinez/models/\"\n",
    "FILE_MODEL = \"CNN_SMALL_REDO\"\n",
    "filepath=DIR_MODELS+FILE_MODEL\n",
    "print(\"Will overwrite model at \"+filepath)"
   ]
  },
  {
   "cell_type": "code",
   "execution_count": 3,
   "metadata": {},
   "outputs": [
    {
     "name": "stdout",
     "output_type": "stream",
     "text": [
      "Found 8229 files belonging to 3 classes.\n",
      "Found 2057 files belonging to 3 classes.\n"
     ]
    }
   ],
   "source": [
    "train_dir = os.path.join(DIR_IMAGES_IN, 'train')\n",
    "valid_dir = os.path.join(DIR_IMAGES_IN, 'valid')\n",
    "\n",
    "BATCH_SIZE = 32\n",
    "IMG_SIZE = (224,224)\n",
    "\n",
    "train_dataset = keras.utils.image_dataset_from_directory(\n",
    "    train_dir, shuffle=True, batch_size=BATCH_SIZE, image_size=IMG_SIZE)\n",
    "valid_dataset = keras.utils.image_dataset_from_directory(\n",
    "    valid_dir, shuffle=True, batch_size=BATCH_SIZE, image_size=IMG_SIZE)\n"
   ]
  },
  {
   "cell_type": "code",
   "execution_count": 4,
   "metadata": {},
   "outputs": [],
   "source": [
    "# Normalize color channel ints to floats (0,1)\n",
    "# See https://www.tensorflow.org/tutorials/load_data/images\n",
    "\n",
    "normalization_layer = kl.Rescaling(1.0/255.0)\n",
    "train_dataset = train_dataset.map(lambda x, y: (normalization_layer(x), y))\n",
    "valid_dataset = valid_dataset.map(lambda x, y: (normalization_layer(x), y))"
   ]
  },
  {
   "cell_type": "code",
   "execution_count": 5,
   "metadata": {},
   "outputs": [
    {
     "name": "stdout",
     "output_type": "stream",
     "text": [
      "(32, 224, 224, 3)\n",
      "tf.Tensor([2 1 0 2 0 1 1 0 2 0 1 0 0 0 1 1 2 1 1 0 2 0 0 1 0 1 0 1 2 2 0 0], shape=(32,), dtype=int32)\n"
     ]
    }
   ],
   "source": [
    "iterator = valid_dataset.take(1)\n",
    "for x in iterator:\n",
    "    print(x[0].shape)\n",
    "    print(x[1])"
   ]
  },
  {
   "cell_type": "code",
   "execution_count": 6,
   "metadata": {},
   "outputs": [],
   "source": [
    "ACTIVATION=\"tanh\"\n",
    "NUM_CLASSES = 3\n",
    "CHANNELS=3\n",
    "INPUT_SHAPE=[PATCH_SIZE,PATCH_SIZE,CHANNELS]\n",
    "cnn = keras.models.Sequential([\n",
    "    #kl.RandomFlip(),\n",
    "    kl.Conv2D(64,5,activation=ACTIVATION,padding=\"SAME\",input_shape=INPUT_SHAPE),\n",
    "    kl.MaxPooling2D(2),\n",
    "    kl.Conv2D(64,5,activation=ACTIVATION,padding=\"same\"),\n",
    "    kl.Conv2D(64,5,activation=ACTIVATION,padding=\"same\"),\n",
    "    kl.MaxPooling2D(2),   \n",
    "    kl.Conv2D(64,5,activation=ACTIVATION,padding=\"same\"),\n",
    "    kl.Conv2D(64,5,activation=ACTIVATION,padding=\"same\"),\n",
    "    kl.MaxPooling2D(2), \n",
    "    kl.Flatten(),\n",
    "    kl.Dense(32,activation=ACTIVATION),\n",
    "    kl.Dropout(0.5),\n",
    "    kl.Dense(16,activation=ACTIVATION),\n",
    "    kl.Dropout(0.5),    \n",
    "    kl.Dense(NUM_CLASSES,activation=\"softmax\")\n",
    "])\n"
   ]
  },
  {
   "cell_type": "code",
   "execution_count": 7,
   "metadata": {},
   "outputs": [
    {
     "name": "stdout",
     "output_type": "stream",
     "text": [
      "Epoch 1/5\n",
      "258/258 [==============================] - 19s 65ms/step - loss: 0.1890 - accuracy: 0.9563 - val_loss: 0.0200 - val_accuracy: 0.9976\n",
      "Epoch 2/5\n",
      "258/258 [==============================] - 16s 63ms/step - loss: 0.0864 - accuracy: 0.9871 - val_loss: 0.0292 - val_accuracy: 0.9942\n",
      "Epoch 3/5\n",
      "258/258 [==============================] - 16s 63ms/step - loss: 0.0605 - accuracy: 0.9917 - val_loss: 0.0050 - val_accuracy: 0.9995\n",
      "Epoch 4/5\n",
      "258/258 [==============================] - 16s 63ms/step - loss: 0.0896 - accuracy: 0.9781 - val_loss: 0.0039 - val_accuracy: 0.9995\n",
      "Epoch 5/5\n",
      "258/258 [==============================] - 16s 62ms/step - loss: 0.0553 - accuracy: 0.9911 - val_loss: 0.0034 - val_accuracy: 0.9990\n",
      "Elapsed time: 84.0601270198822\n"
     ]
    }
   ],
   "source": [
    "cnn.compile(loss=\"sparse_categorical_crossentropy\",\n",
    "           optimizer=\"sgd\",\n",
    "           metrics=[\"accuracy\"])\n",
    "EPOCHS=5\n",
    "start = time.time()\n",
    "hist = cnn.fit(train_dataset,validation_data=valid_dataset,epochs=EPOCHS)\n",
    "end = time.time()\n",
    "print(\"Elapsed time:\",end-start)"
   ]
  },
  {
   "cell_type": "code",
   "execution_count": 8,
   "metadata": {
    "scrolled": true
   },
   "outputs": [
    {
     "data": {
      "image/png": "[encoded data removed]",
      "text/plain": [
       "<Figure size 576x360 with 1 Axes>"
      ]
     },
     "metadata": {
      "needs_background": "light"
     },
     "output_type": "display_data"
    }
   ],
   "source": [
    "pd.DataFrame(hist.history).plot(figsize=(8,5))\n",
    "plt.grid(True)\n",
    "plt.gca().set_ylim(0.0,1.0)\n",
    "plt.show()"
   ]
  },
  {
   "cell_type": "code",
   "execution_count": 9,
   "metadata": {},
   "outputs": [
    {
     "name": "stdout",
     "output_type": "stream",
     "text": [
      "INFO:tensorflow:Assets written to: /home/jrm/Martinez/models/CNN_SMALL_REDO/assets\n"
     ]
    }
   ],
   "source": [
    "cnn.save(filepath)"
   ]
  },
  {
   "cell_type": "code",
   "execution_count": null,
   "metadata": {},
   "outputs": [],
   "source": []
  }
 ],
 "metadata": {
  "kernelspec": {
   "display_name": "Python 3",
   "language": "python",
   "name": "python3"
  },
  "language_info": {
   "codemirror_mode": {
    "name": "ipython",
    "version": 3
   },
   "file_extension": ".py",
   "mimetype": "text/x-python",
   "name": "python",
   "nbconvert_exporter": "python",
   "pygments_lexer": "ipython3",
   "version": "3.8.10"
  }
 },
 "nbformat": 4,
 "nbformat_minor": 4
}
