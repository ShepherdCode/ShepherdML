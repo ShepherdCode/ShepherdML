{
 "cells": [
  {
   "cell_type": "markdown",
   "metadata": {},
   "source": [
    "# VGG\n",
    "See https://towardsdatascience.com/extract-features-visualize-filters-and-feature-maps-in-vgg16-and-vgg19-cnn-models-d2da6333edd0\n",
    "\n",
    "This page shows how to extract features for any layer and how to visualize the filters\n",
    "for VGG16 or VGG19 (trained on ImageNet)."
   ]
  },
  {
   "cell_type": "code",
   "execution_count": 1,
   "metadata": {},
   "outputs": [],
   "source": [
    "from tensorflow.keras.applications.vgg16 import VGG16\n",
    "from tensorflow.keras.preprocessing import image\n",
    "from tensorflow.keras.applications.vgg16 import preprocess_input\n",
    "import numpy as np"
   ]
  },
  {
   "cell_type": "code",
   "execution_count": 2,
   "metadata": {},
   "outputs": [],
   "source": [
    "model = VGG16(weights='imagenet',include_top=False)  # top= classification layer\n"
   ]
  },
  {
   "cell_type": "code",
   "execution_count": 3,
   "metadata": {},
   "outputs": [],
   "source": [
    "def process_image(path,prefix,ftype):\n",
    "    # img_path = '/home/jrm/Martinez/images/patches/I1.DF1.09.001.tif'\n",
    "    img_path = path+prefix+ftype\n",
    "    img = image.load_img(img_path, target_size=(224,224)) # 224 is expected by VGG\n",
    "    # Can we use target_size=None? The final layer becomes (1,26,26,512) instead of (1,7,7,512).\n",
    "    # That is (samples, rows, cols, channels)\n",
    "    # Do we need to scale pixel values for VGG?\n",
    "    x = image.img_to_array(img)\n",
    "    x = np.expand_dims(x,axis=0)\n",
    "    x = preprocess_input(x)\n",
    "    return x"
   ]
  },
  {
   "cell_type": "code",
   "execution_count": 7,
   "metadata": {
    "scrolled": true
   },
   "outputs": [],
   "source": [
    "def run_prediction(image):\n",
    "    features = model.predict(image)\n",
    "    #print(features.shape)\n",
    "    #print(features)\n",
    "    return features"
   ]
  },
  {
   "cell_type": "code",
   "execution_count": 8,
   "metadata": {},
   "outputs": [],
   "source": [
    "ipath = '/home/jrm/Martinez/images/patches/'\n",
    "iprefix = 'I1.DF1.09.001'\n",
    "isuffix = '.tif'\n",
    "pi=process_image(ipath,iprefix,isuffix)\n",
    "features=run_prediction(pi)"
   ]
  },
  {
   "cell_type": "code",
   "execution_count": 9,
   "metadata": {},
   "outputs": [
    {
     "name": "stdout",
     "output_type": "stream",
     "text": [
      "(1, 25088)\n"
     ]
    }
   ],
   "source": [
    "vector=np.reshape(features, -1 )\n",
    "vector=features.reshape( (1,-1) )\n",
    "print(vector.shape)\n",
    "filename='/home/jrm/Martinez/images/features/I1.DF1.09.001.csv'\n",
    "np.savetxt(filename, vector, delimiter=\",\")"
   ]
  },
  {
   "cell_type": "code",
   "execution_count": null,
   "metadata": {},
   "outputs": [],
   "source": []
  }
 ],
 "metadata": {
  "kernelspec": {
   "display_name": "Python 3",
   "language": "python",
   "name": "python3"
  },
  "language_info": {
   "codemirror_mode": {
    "name": "ipython",
    "version": 3
   },
   "file_extension": ".py",
   "mimetype": "text/x-python",
   "name": "python",
   "nbconvert_exporter": "python",
   "pygments_lexer": "ipython3",
   "version": "3.8.10"
  }
 },
 "nbformat": 4,
 "nbformat_minor": 4
}
