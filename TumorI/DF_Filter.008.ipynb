{
 "cells": [
  {
   "cell_type": "code",
   "execution_count": null,
   "metadata": {},
   "outputs": [],
   "source": []
  },
  {
   "cell_type": "markdown",
   "metadata": {},
   "source": [
    "# Create blue/green exemplar patches.\n",
    "Classify patches from all Y-neg tumors.  \n",
    "Regain those that are certainly blue or certainly green."
   ]
  },
  {
   "cell_type": "code",
   "execution_count": 1,
   "metadata": {},
   "outputs": [],
   "source": [
    "import time\n",
    "import os\n",
    "import glob\n",
    "import cv2 # OpenCV-Python\n",
    "from PIL import Image\n",
    "Image.MAX_IMAGE_PIXELS = None\n",
    "import numpy as np\n",
    "import json\n",
    "DIR_IMAGES_RAW = \"/home/jrm/Martinez/images/raw/\"\n",
    "DIR_IMAGES_OUT = \"/home/jrm/Martinez/images/temp/\"\n",
    "PATTERN_IMAGES_RAW = \"*.DF1.*.tif\"\n",
    "PATCH_SIZE=224  # matches VGG\n",
    "IMAGE_FILENAME='B13.DF1.115.tif'"
   ]
  },
  {
   "cell_type": "code",
   "execution_count": 2,
   "metadata": {},
   "outputs": [],
   "source": [
    "DF_Ypos = ['B7.','B15','D1.','D5.','E7.','E9.','F9.','G3.','H13','I1.','I5.','I13']\n",
    "DF_Yneg = ['A3.','A5.','B13','C1.','C11','D3.','E5.','F3.','F7','F11','F13','F15','G15','H1.','H3.','H7.','H15']"
   ]
  },
  {
   "cell_type": "code",
   "execution_count": 3,
   "metadata": {},
   "outputs": [],
   "source": [
    "def get_image_names(path,pattern):\n",
    "    #RAW_IMAGE_NAMES = os.listdir(DIR_IMAGES_RAW)\n",
    "    paths = glob.glob(path+pattern)\n",
    "    names = [os.path.basename(x) for x in paths]\n",
    "    return names\n",
    "FILENAMES_IMAGES_RAW = get_image_names(DIR_IMAGES_RAW,PATTERN_IMAGES_RAW)\n",
    "#FILENAMES_IMAGES_RAW"
   ]
  },
  {
   "cell_type": "code",
   "execution_count": 13,
   "metadata": {},
   "outputs": [],
   "source": [
    "class patch_maker:\n",
    "    def __init__(self):\n",
    "        self.path=\"\"\n",
    "        self.w=0\n",
    "        self.h=0\n",
    "        self.im_width = 0\n",
    "        self.im_height = 0\n",
    "        self.patch_size = 10 # scalar, assumed square for now\n",
    "        self.pixel_array = None\n",
    "    def set_input_path(self,path):\n",
    "        self.path=path\n",
    "    def set_patch_size(self,scalar):\n",
    "        self.patch_size = scalar\n",
    "    def load_pixel_array(self,filename,verbose=False):\n",
    "        self.w=0\n",
    "        self.h=0\n",
    "        im = Image.open(self.path+filename)\n",
    "        ima = np.array(im)   # convert to numpy\n",
    "        self.im_width = ima.shape[0]\n",
    "        self.im_height = ima.shape[1]    \n",
    "        if verbose:\n",
    "            print(filename, ima.size, ima.shape)\n",
    "        self.pixel_array = ima\n",
    "        return ima\n",
    "    def get_next_patch(self): \n",
    "        IM_WIDTH = self.im_width\n",
    "        IM_HEIGHT = self.im_height\n",
    "        PIXEL_ARRAY = self.pixel_array\n",
    "        patch = None\n",
    "        if self.w+self.patch_size > IM_WIDTH:\n",
    "            self.h += self.patch_size\n",
    "            self.w = 0\n",
    "        if self.w+self.patch_size <= IM_WIDTH and self.h+self.patch_size <= IM_HEIGHT:\n",
    "            patch = PIXEL_ARRAY[self.w:self.w+self.patch_size, self.h:self.h+self.patch_size]\n",
    "            self.w += self.patch_size\n",
    "        return patch"
   ]
  },
  {
   "cell_type": "code",
   "execution_count": 14,
   "metadata": {},
   "outputs": [],
   "source": [
    "def pixel_to_heatmap(green,blue):   # TO DO: this is slow, need a hash function\n",
    "    bins=[10,20,30,40,50,60,70,80,90,256]\n",
    "    gbin=None\n",
    "    bbin=None\n",
    "    for bin in range(0,10):\n",
    "        if gbin is None and green<=bins[bin]:\n",
    "            gbin=bin\n",
    "        if bbin is None and blue<=bins[bin]:\n",
    "            bbin=bin\n",
    "        if gbin is not None and bbin is not None:\n",
    "            return gbin,bbin\n",
    "    return gbin,bbin\n",
    "def accumulate_pixels(imary,verbose=False):  # TO DO: nested for loop is very slow\n",
    "    heatmap=np.zeros( (10,10), dtype=np.int32)\n",
    "    if verbose:\n",
    "        print(\"accumulate\",imary.shape)\n",
    "    nrows,ncols,nchannel=imary.shape\n",
    "    for row in range(0,nrows):\n",
    "        for col in range(0,ncols):\n",
    "            pixel = imary[row,col]\n",
    "            #red = pixel[0]\n",
    "            green = pixel[1]\n",
    "            blue = pixel[2]\n",
    "            gbin,bbin = pixel_to_heatmap(green,blue)\n",
    "            heatmap[gbin,bbin] += 1\n",
    "    return heatmap"
   ]
  },
  {
   "cell_type": "code",
   "execution_count": 15,
   "metadata": {},
   "outputs": [],
   "source": [
    "def save_patch (patch,name):\n",
    "    pic = Image.fromarray(patch)\n",
    "    pic.save(DIR_IMAGES_OUT+name)  \n",
    "def show_heatmap (patch,name):\n",
    "    hm = accumulate_pixels(patch)\n",
    "    print(hm,name)        "
   ]
  },
  {
   "cell_type": "code",
   "execution_count": 30,
   "metadata": {},
   "outputs": [],
   "source": [
    "NO_GREEN_INTENSITY=np.array( [0,35,0] )\n",
    "NO_BLUE_INTENSITY=np.array( [0,0,30] )\n",
    "def analyze_one_image(pm,PRINT_SAMPLES=False):  # patch_maker instance\n",
    "    num_green_patches = 0\n",
    "    num_blue_patches = 0\n",
    "    num_patches = 0\n",
    "    patch = pm.get_next_patch()\n",
    "    while patch is not None:\n",
    "        num_patches += 1\n",
    "        num_green_pixels = np.sum(np.all(patch >= NO_GREEN_INTENSITY,axis=2))\n",
    "        num_blue_pixels = np.sum(np.all(patch >= NO_BLUE_INTENSITY,axis=2))\n",
    "        #print(num_patches,num_green_pixels,num_blue_pixels)\n",
    "        if num_blue_pixels>=10000 and num_blue_pixels>num_green_pixels*20: # <1000:\n",
    "            num_blue_patches += 1\n",
    "            if PRINT_SAMPLES and num_blue_patches < 10:  # in [250,256,260]:\n",
    "                name = \"BLUE{}.tif\".format(num_blue_patches)\n",
    "                save_patch(patch,name)\n",
    "                show_heatmap(patch,name)\n",
    "        elif num_green_pixels>=15000 and num_green_pixels>num_blue_pixels*2:\n",
    "            num_green_patches += 1\n",
    "            if PRINT_SAMPLES and num_green_patches < 10:\n",
    "                name = \"GREEN{}.tif\".format(num_green_patches)\n",
    "                save_patch(patch,name)\n",
    "                show_heatmap(patch,name)\n",
    "\n",
    "        patch = pm.get_next_patch()\n",
    "    #print(\"green=\",num_green_patches,\"blue=\",num_blue_patches,\"total=\",num_patches)\n",
    "    #print(\"green=\",num_green_patches/num_patches,\"blue=\",num_blue_patches/num_patches)\n",
    "    return num_green_patches, num_blue_patches, num_patches    "
   ]
  },
  {
   "cell_type": "code",
   "execution_count": 31,
   "metadata": {},
   "outputs": [
    {
     "name": "stdout",
     "output_type": "stream",
     "text": [
      "Analyzing F15.DF1.135.tif 34 262 3135\n",
      "Analyzing H3.DF1.27.tif 110 30 3135\n",
      "Analyzing C11.DF1.96.tif 292 16 3135\n",
      "Analyzing C1.DF1.01.tif 69 293 3135\n",
      "Analyzing F11.DF1.94.tif 54 375 3135\n",
      "Analyzing H7.DF1.62.tif 178 228 3135\n",
      "Analyzing A3.DF1.26.tif 1 1482 3135\n",
      "Analyzing A5.DF1.45.tif 454 6 3135\n",
      "Analyzing H15.DF1.132.tif 66 0 3135\n",
      "Analyzing G15.DF1.133.tif 239 0 3135\n",
      "Analyzing F3.DF1.22.tif 430 41 3135\n",
      "Analyzing B13.DF1.115.tif 70 407 3135\n",
      "Analyzing D3.DF1.20.tif 325 4 3135\n",
      "Analyzing E5.DF1.42.tif 31 266 3135\n",
      "Analyzing H1.DF1.07.tif 593 0 3135\n"
     ]
    }
   ],
   "source": [
    "pm = patch_maker()\n",
    "pm.set_input_path(DIR_IMAGES_RAW)\n",
    "pm.set_patch_size(PATCH_SIZE)\n",
    "for filename in FILENAMES_IMAGES_RAW:\n",
    "    prefix = filename[0:3]\n",
    "    if prefix in DF_Yneg:\n",
    "        print(\"Analyzing\",filename,end=\" \")\n",
    "        pixels = pm.load_pixel_array(filename)\n",
    "        green,blue,total = analyze_one_image(pm)\n",
    "        print(green,blue,total)"
   ]
  },
  {
   "cell_type": "code",
   "execution_count": null,
   "metadata": {},
   "outputs": [],
   "source": []
  }
 ],
 "metadata": {
  "kernelspec": {
   "display_name": "Python 3",
   "language": "python",
   "name": "python3"
  },
  "language_info": {
   "codemirror_mode": {
    "name": "ipython",
    "version": 3
   },
   "file_extension": ".py",
   "mimetype": "text/x-python",
   "name": "python",
   "nbconvert_exporter": "python",
   "pygments_lexer": "ipython3",
   "version": "3.8.10"
  }
 },
 "nbformat": 4,
 "nbformat_minor": 4
}
