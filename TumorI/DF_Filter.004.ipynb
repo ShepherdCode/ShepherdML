{
 "cells": [
  {
   "cell_type": "markdown",
   "metadata": {},
   "source": [
    "# Filter background from D&F images.\n",
    "Use the A5 tumor because  \n",
    "* the tumor is Y-neg\n",
    "* the image is mostly tumor cells (hardly any stroma)\n",
    "* the image is mostly blue, with hardly any green.\n",
    "\n",
    "Eventually, use this to generate training examples of Y-neg patches.  \n",
    "For now, just create a histogram of color intensities.  \n",
    "We accidentally saved all the blue ones."
   ]
  },
  {
   "cell_type": "code",
   "execution_count": 35,
   "metadata": {},
   "outputs": [],
   "source": [
    "import time\n",
    "import os\n",
    "import glob\n",
    "import cv2 # OpenCV-Python\n",
    "from PIL import Image\n",
    "Image.MAX_IMAGE_PIXELS = None\n",
    "import numpy as np\n",
    "import json\n",
    "DIR_IMAGES_RAW = \"/home/jrm/Martinez/images/raw/\"\n",
    "PATTERN_IMAGES_RAW = \"*.DF1.*.tif\"\n",
    "PATCH_SIZE=224  # matches VGG\n",
    "IMAGE_FILENAME='A3.DF1.26.tif'"
   ]
  },
  {
   "cell_type": "code",
   "execution_count": 2,
   "metadata": {},
   "outputs": [],
   "source": [
    "def get_image_names(path,pattern):\n",
    "    #RAW_IMAGE_NAMES = os.listdir(DIR_IMAGES_RAW)\n",
    "    paths = glob.glob(path+pattern)\n",
    "    names = [os.path.basename(x) for x in paths]\n",
    "    return names\n",
    "FILENAMES_IMAGES_RAW = get_image_names(DIR_IMAGES_RAW,PATTERN_IMAGES_RAW)\n",
    "#FILENAMES_IMAGES_RAW"
   ]
  },
  {
   "cell_type": "code",
   "execution_count": 3,
   "metadata": {},
   "outputs": [
    {
     "name": "stdout",
     "output_type": "stream",
     "text": [
      "A3.DF1.26.tif 479598264 (12513, 12776, 3)\n"
     ]
    }
   ],
   "source": [
    "def load_pixel_array(path,filename,verbose=False):\n",
    "    im = Image.open(path+filename)\n",
    "    ima = np.array(im)   # convert to numpy\n",
    "    if verbose:\n",
    "        print(filename, ima.size, ima.shape)\n",
    "    return ima\n",
    "pixel_array = load_pixel_array(DIR_IMAGES_RAW,IMAGE_FILENAME,True)"
   ]
  },
  {
   "cell_type": "code",
   "execution_count": 4,
   "metadata": {},
   "outputs": [
    {
     "name": "stdout",
     "output_type": "stream",
     "text": [
      "Average [ 0.         10.75710886 34.77616833] STD [ 0.          5.89739359 40.8880172 ]\n",
      "Example pixel: [0 9 3]\n"
     ]
    }
   ],
   "source": [
    "avg = np.average(pixel_array,axis=(0,1))\n",
    "std = np.std(pixel_array,axis=(0,1))\n",
    "print(\"Average\",avg,\"STD\",std)\n",
    "print(\"Example pixel:\",pixel_array[0,0])"
   ]
  },
  {
   "cell_type": "code",
   "execution_count": 5,
   "metadata": {},
   "outputs": [],
   "source": [
    "PATCH_THRESHOLD=PATCH_SIZE*PATCH_SIZE/2\n",
    "IM_WIDTH = pixel_array.shape[0]\n",
    "IM_HEIGHT = pixel_array.shape[1]"
   ]
  },
  {
   "cell_type": "code",
   "execution_count": 25,
   "metadata": {},
   "outputs": [],
   "source": [
    "# TO DO: Create an iterator class and dispense with the globals.\n",
    "W=0\n",
    "H=0\n",
    "def get_next_patch(pixels): # assume square\n",
    "    global W,H\n",
    "    if W+PATCH_SIZE>IM_WIDTH:\n",
    "        H += PATCH_SIZE\n",
    "        W = 0\n",
    "    if H+PATCH_SIZE>IM_HEIGHT:\n",
    "        patch = None\n",
    "    if W+PATCH_SIZE<=IM_WIDTH and H+PATCH_SIZE<=IM_HEIGHT:\n",
    "        patch = pixels[W:W+PATCH_SIZE, H:H+PATCH_SIZE]\n",
    "        W += PATCH_SIZE\n",
    "    return patch"
   ]
  },
  {
   "cell_type": "code",
   "execution_count": 32,
   "metadata": {},
   "outputs": [],
   "source": [
    "def pixel_to_heatmap(green,blue):\n",
    "    bins=[10,20,30,40,50,60,70,80,90,256]\n",
    "    gbin=None\n",
    "    bbin=None\n",
    "    for bin in range(0,10):\n",
    "        if gbin is None and green<=bins[bin]:\n",
    "            gbin=bin\n",
    "        if bbin is None and blue<=bins[bin]:\n",
    "            bbin=bin\n",
    "        if gbin is not None and bbin is not None:\n",
    "            return gbin,bbin\n",
    "    return gbin,bbin\n",
    "def accumulate_pixels(imary):\n",
    "    heatmap=np.zeros( (10,10), dtype=np.int32)\n",
    "    print(imary.shape)\n",
    "    nrows,ncols,nchannel=imary.shape\n",
    "    for row in range(0,nrows):\n",
    "        for col in range(0,ncols):\n",
    "            pixel = imary[row,col]\n",
    "            #red = pixel[0]\n",
    "            green = pixel[1]\n",
    "            blue = pixel[2]\n",
    "            gbin,bbin = pixel_to_heatmap(green,blue)\n",
    "            heatmap[gbin,bbin] += 1\n",
    "    return heatmap"
   ]
  },
  {
   "cell_type": "code",
   "execution_count": 36,
   "metadata": {},
   "outputs": [
    {
     "name": "stdout",
     "output_type": "stream",
     "text": [
      "(224, 224, 3)\n",
      "0.26656675338745117\n",
      "[[ 1275 11089     0     0     0     0     0     0     0     0]\n",
      " [ 3362 34446     1     0     0     0     0     0     0     0]\n",
      " [    0     0     0     0     0     0     0     0     0     0]\n",
      " [    0     0     0     0     0     0     0     0     0     0]\n",
      " [    0     0     0     0     0     0     0     0     0     0]\n",
      " [    0     1     0     0     0     0     0     0     0     0]\n",
      " [    0     0     0     0     0     0     0     0     0     0]\n",
      " [    0     0     0     0     0     0     0     0     0     0]\n",
      " [    0     0     0     0     0     0     0     0     0     0]\n",
      " [    1     1     0     0     0     0     0     0     0     0]]\n"
     ]
    }
   ],
   "source": [
    "start = time.time()\n",
    "patch = get_next_patch(pixel_array)\n",
    "hm = accumulate_pixels(patch)\n",
    "end = time.time()\n",
    "print(end - start)\n",
    "print(hm)"
   ]
  },
  {
   "cell_type": "code",
   "execution_count": 37,
   "metadata": {},
   "outputs": [
    {
     "name": "stdout",
     "output_type": "stream",
     "text": [
      "(12513, 12776, 3)\n",
      "940.5925676822662\n",
      "[[53128265 15832024 10922967  6582095  3659251  1892986   935756   514109\n",
      "    294985   939314]\n",
      " [ 5199273  6095700  7194744  8245878  7126409  5283068  3816284  2873102\n",
      "   2266562  8699916]\n",
      " [    2649   196621   257839   446240   615857   544327   418785   332082\n",
      "    304153  3397483]\n",
      " [     696     8332    94640    70620   148409   152162   116319    75870\n",
      "     54559   517624]\n",
      " [     310      592    10471    19598    32738    44592    38627    32612\n",
      "     23353   127749]\n",
      " [     181      161     1135     5011    11887    19486    16084    13322\n",
      "      9304    44251]\n",
      " [     105       95      464     1697     6081     9302     9037     7493\n",
      "      6150    20884]\n",
      " [      56       45      176      581     2787     5210     5490     4328\n",
      "      3555    12468]\n",
      " [      24       33       91      232      794     4681     2640     2270\n",
      "      2144     9544]\n",
      " [     336      180      217      278      476     3059     7187     5173\n",
      "      3672    17634]]\n"
     ]
    }
   ],
   "source": [
    "start = time.time()\n",
    "hm = accumulate_pixels(pixel_array)\n",
    "end = time.time()\n",
    "print(end - start)\n",
    "print(hm)\n"
   ]
  },
  {
   "cell_type": "code",
   "execution_count": null,
   "metadata": {},
   "outputs": [],
   "source": [
    "\n",
    "BACKGROUND_MAX=np.array( [20,20,20] )\n",
    "GREEN_MIN=np.array( [0,40,0] )\n",
    "BLUE_MIN=np.array( [0,0,40] )\n",
    "num_back_patches = 0\n",
    "num_green_patches = 0\n",
    "num_blue_patches = 0\n",
    "num_patches = 0\n",
    "\n",
    "patch = get_next_patch(pixel_array)\n",
    "while patch is not None:\n",
    "    num_patches += 1\n",
    "    num_background_pixels = np.sum(np.all(patch<BACKGROUND_MAX,axis=2))\n",
    "    if num_background_pixels>=PATCH_THRESHOLD:\n",
    "        num_back_patches += 1\n",
    "    else:\n",
    "        num_green_pixels = np.sum(np.all(patch>=GREEN_MIN,axis=2))\n",
    "        if num_green_pixels>=PATCH_THRESHOLD:\n",
    "            num_green_patches += 1\n",
    "        else:\n",
    "            num_blue_pixels = np.sum(np.all(patch>=BLUE_MIN,axis=2))\n",
    "            if num_blue_pixels>=PATCH_THRESHOLD:\n",
    "                num_blue_patches += 1\n",
    "                pic = Image.fromarray(patch)\n",
    "                name = \"BLUE{}.tif\".format(num_blue_patches)\n",
    "                pic.save(name)\n",
    "    patch = get_next_patch(pixel_array)\n",
    "print(\"back=\",num_back_patches,\"green=\",num_green_patches,\"blue=\",num_blue_patches,\"total=\",num_patches)\n",
    "print(\"back=\",num_back_patches/num_patches,\"green=\",num_green_patches/num_patches,\"blue=\",num_blue_patches/num_patches)"
   ]
  },
  {
   "cell_type": "code",
   "execution_count": null,
   "metadata": {},
   "outputs": [],
   "source": []
  },
  {
   "cell_type": "code",
   "execution_count": null,
   "metadata": {},
   "outputs": [],
   "source": []
  }
 ],
 "metadata": {
  "kernelspec": {
   "display_name": "Python 3",
   "language": "python",
   "name": "python3"
  },
  "language_info": {
   "codemirror_mode": {
    "name": "ipython",
    "version": 3
   },
   "file_extension": ".py",
   "mimetype": "text/x-python",
   "name": "python",
   "nbconvert_exporter": "python",
   "pygments_lexer": "ipython3",
   "version": "3.8.10"
  }
 },
 "nbformat": 4,
 "nbformat_minor": 4
}
