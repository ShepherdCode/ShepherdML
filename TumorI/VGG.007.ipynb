{
 "cells": [
  {
   "cell_type": "markdown",
   "metadata": {},
   "source": [
    "# VGG\n",
    "Generate features from 224x224 patches."
   ]
  },
  {
   "cell_type": "code",
   "execution_count": 3,
   "metadata": {},
   "outputs": [],
   "source": [
    "from tensorflow.keras.applications.vgg16 import VGG16\n",
    "from tensorflow.keras.preprocessing import image\n",
    "from tensorflow.keras.applications.vgg16 import preprocess_input\n",
    "import numpy as np\n",
    "import os\n",
    "# On Alien, tensorflow won't use the GPU"
   ]
  },
  {
   "cell_type": "code",
   "execution_count": 4,
   "metadata": {},
   "outputs": [],
   "source": [
    "model = VGG16(weights='imagenet',include_top=False)  # top= classification layer"
   ]
  },
  {
   "cell_type": "code",
   "execution_count": 5,
   "metadata": {},
   "outputs": [],
   "source": [
    "def process_image(path,fn):\n",
    "    img_path = path+fn\n",
    "    img = image.load_img(img_path, target_size=(224,224)) # 224 is expected by VGG\n",
    "    x = image.img_to_array(img)\n",
    "    x = np.expand_dims(x,axis=0)\n",
    "    x = preprocess_input(x)\n",
    "    return x"
   ]
  },
  {
   "cell_type": "code",
   "execution_count": 11,
   "metadata": {
    "scrolled": true
   },
   "outputs": [],
   "source": [
    "def run_prediction(image):\n",
    "    features = model.predict(image)\n",
    "    #print(features.shape)\n",
    "    #print(features)\n",
    "    return features"
   ]
  },
  {
   "cell_type": "code",
   "execution_count": 24,
   "metadata": {},
   "outputs": [],
   "source": [
    "index={\n",
    "'G15.HE1.133.001.tif':(0,'Y-neg','GE15',1,0),\n",
    "'G15.HE1.133.002.tif':(0,'Y-neg','GE15',2,1),\n",
    "'G15.HE1.133.003.tif':(0,'Y-neg','GE15',3,2),\n",
    "'G15.HE1.133.004.tif':(0,'Y-neg','GE15',4,3),\n",
    "'G15.HE1.133.005.tif':(0,'Y-neg','GE15',5,4),\n",
    "'G15.HE1.133.006.tif':(0,'Y-neg','GE15',6,5),\n",
    "'G15.HE1.133.007.tif':(0,'Y-neg','GE15',7,6),\n",
    "'G15.HE1.133.008.tif':(0,'Y-neg','GE15',8,7),\n",
    "'G15.HE1.133.009.tif':(0,'Y-neg','GE15',9,8),\n",
    "'G15.HE1.133.010.tif':(0,'Y-neg','GE15',10,9),\n",
    "'G15.HE1.133.011.tif':(0,'Y-neg','GE15',11,10),\n",
    "'G15.HE1.133.012.tif':(0,'Y-neg','GE15',12,11),\n",
    "'G15.HE1.133.013.tif':(0,'Y-neg','GE15',13,12),\n",
    "'G15.HE1.133.014.tif':(0,'Y-neg','GE15',14,13),\n",
    "'G15.HE1.133.015.tif':(0,'Y-neg','GE15',15,14),\n",
    "'G15.HE1.133.016.tif':(0,'Y-neg','GE15',16,15),\n",
    "'G15.HE1.133.017.tif':(0,'Y-neg','GE15',17,16),\n",
    "'G15.HE1.133.018.tif':(0,'Y-neg','GE15',18,17),\n",
    "'G15.HE1.133.019.tif':(0,'Y-neg','GE15',19,18),\n",
    "'G15.HE1.133.020.tif':(0,'Y-neg','GE15',20,19),\n",
    "'I1.HE1.09.001.tif':(1,'Y-pos','I1',1,20),\n",
    "'I1.HE1.09.002.tif':(1,'Y-pos','I1',2,21),\n",
    "'I1.HE1.09.003.tif':(1,'Y-pos','I1',3,22),\n",
    "'I1.HE1.09.004.tif':(1,'Y-pos','I1',4,23),\n",
    "'I1.HE1.09.005.tif':(1,'Y-pos','I1',5,24),\n",
    "'I1.HE1.09.006.tif':(1,'Y-pos','I1',6,25),\n",
    "'I1.HE1.09.007.tif':(1,'Y-pos','I1',7,26),\n",
    "'I1.HE1.09.008.tif':(1,'Y-pos','I1',8,27),\n",
    "'I1.HE1.09.009.tif':(1,'Y-pos','I1',9,28),\n",
    "'I1.HE1.09.010.tif':(1,'Y-pos','I1',10,29),\n",
    "'I1.HE1.09.011.tif':(1,'Y-pos','I1',11,30),\n",
    "'I1.HE1.09.012.tif':(1,'Y-pos','I1',12,31),\n",
    "'I1.HE1.09.013.tif':(1,'Y-pos','I1',13,32),\n",
    "'I1.HE1.09.014.tif':(1,'Y-pos','I1',14,33),\n",
    "'I1.HE1.09.015.tif':(1,'Y-pos','I1',15,34),\n",
    "'I1.HE1.09.016.tif':(1,'Y-pos','I1',16,35),\n",
    "'I1.HE1.09.017.tif':(1,'Y-pos','I1',17,36),\n",
    "'I1.HE1.09.018.tif':(1,'Y-pos','I1',18,37),\n",
    "'I1.HE1.09.019.tif':(1,'Y-pos','I1',19,38),\n",
    "'I1.HE1.09.020.tif':(1,'Y-pos','I1',20,39) }\n",
    "#index"
   ]
  },
  {
   "cell_type": "code",
   "execution_count": 30,
   "metadata": {},
   "outputs": [],
   "source": [
    "def create_big_data(index,rows,features):\n",
    "    big_data = np.zeros( (rows,features) )\n",
    "    for fn in index.keys():\n",
    "        record = index[fn]\n",
    "        label_num = record[0]\n",
    "        label_str = record[1]\n",
    "        tumor_name = record[2]\n",
    "        patch_num = record[3]\n",
    "        row = record[4]\n",
    "        processed = process_image(ipath,fn)\n",
    "        vgg_features = run_prediction(processed)\n",
    "        flat = vgg_features.reshape(1,-1)\n",
    "        big_data[row] = flat\n",
    "        #print(fn,processed.shape,vgg_features.shape,flat.shape,row)\n",
    "    return big_data"
   ]
  },
  {
   "cell_type": "code",
   "execution_count": 31,
   "metadata": {},
   "outputs": [],
   "source": [
    "ipath = '/home/jrm/Martinez/images/patches/'\n",
    "rows = 40\n",
    "features = 7*7*512  # 3D output of VGG has 25088 elements  \n",
    "bd = create_big_data(index,rows,features)"
   ]
  },
  {
   "cell_type": "code",
   "execution_count": 32,
   "metadata": {},
   "outputs": [],
   "source": [
    "ofile = '/home/jrm/Martinez/images/features/G15_I1.features.csv'\n",
    "np.savetxt(ofile, bd, delimiter=\",\")"
   ]
  },
  {
   "cell_type": "code",
   "execution_count": null,
   "metadata": {},
   "outputs": [],
   "source": []
  }
 ],
 "metadata": {
  "kernelspec": {
   "display_name": "Python 3",
   "language": "python",
   "name": "python3"
  },
  "language_info": {
   "codemirror_mode": {
    "name": "ipython",
    "version": 3
   },
   "file_extension": ".py",
   "mimetype": "text/x-python",
   "name": "python",
   "nbconvert_exporter": "python",
   "pygments_lexer": "ipython3",
   "version": "3.8.10"
  }
 },
 "nbformat": 4,
 "nbformat_minor": 4
}
