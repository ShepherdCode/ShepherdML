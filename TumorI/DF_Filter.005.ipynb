{
 "cells": [
  {
   "cell_type": "markdown",
   "metadata": {},
   "source": [
    "# Filter background from D&F images.\n",
    "Use the A3 tumor because  \n",
    "* the tumor is Y-neg\n",
    "* the image is mostly tumor cells (hardly any stroma)\n",
    "* the image is mostly blue, with hardly any green.\n",
    "\n",
    "Use this to generate training examples of Y-neg patches."
   ]
  },
  {
   "cell_type": "code",
   "execution_count": 1,
   "metadata": {},
   "outputs": [],
   "source": [
    "import time\n",
    "import os\n",
    "import glob\n",
    "import cv2 # OpenCV-Python\n",
    "from PIL import Image\n",
    "Image.MAX_IMAGE_PIXELS = None\n",
    "import numpy as np\n",
    "import json\n",
    "DIR_IMAGES_RAW = \"/home/jrm/Martinez/images/raw/\"\n",
    "DIR_IMAGES_OUT = \"/home/jrm/Martinez/images/temp/\"\n",
    "PATTERN_IMAGES_RAW = \"*.DF1.*.tif\"\n",
    "PATCH_SIZE=224  # matches VGG\n",
    "IMAGE_FILENAME='A3.DF1.26.tif'"
   ]
  },
  {
   "cell_type": "code",
   "execution_count": 2,
   "metadata": {},
   "outputs": [],
   "source": [
    "def get_image_names(path,pattern):\n",
    "    #RAW_IMAGE_NAMES = os.listdir(DIR_IMAGES_RAW)\n",
    "    paths = glob.glob(path+pattern)\n",
    "    names = [os.path.basename(x) for x in paths]\n",
    "    return names\n",
    "FILENAMES_IMAGES_RAW = get_image_names(DIR_IMAGES_RAW,PATTERN_IMAGES_RAW)\n",
    "#FILENAMES_IMAGES_RAW"
   ]
  },
  {
   "cell_type": "code",
   "execution_count": 3,
   "metadata": {},
   "outputs": [
    {
     "name": "stdout",
     "output_type": "stream",
     "text": [
      "A3.DF1.26.tif 479598264 (12513, 12776, 3)\n"
     ]
    }
   ],
   "source": [
    "def load_pixel_array(path,filename,verbose=False):\n",
    "    im = Image.open(path+filename)\n",
    "    ima = np.array(im)   # convert to numpy\n",
    "    if verbose:\n",
    "        print(filename, ima.size, ima.shape)\n",
    "    return ima\n",
    "pixel_array = load_pixel_array(DIR_IMAGES_RAW,IMAGE_FILENAME,True)"
   ]
  },
  {
   "cell_type": "code",
   "execution_count": 4,
   "metadata": {},
   "outputs": [
    {
     "name": "stdout",
     "output_type": "stream",
     "text": [
      "Average [ 0.         10.75710886 34.77616833] STD [ 0.          5.89739359 40.8880172 ]\n",
      "Example pixel: [0 9 3]\n"
     ]
    }
   ],
   "source": [
    "avg = np.average(pixel_array,axis=(0,1))\n",
    "std = np.std(pixel_array,axis=(0,1))\n",
    "print(\"Average\",avg,\"STD\",std)\n",
    "print(\"Example pixel:\",pixel_array[0,0])"
   ]
  },
  {
   "cell_type": "code",
   "execution_count": 5,
   "metadata": {},
   "outputs": [],
   "source": [
    "PATCH_THRESHOLD=PATCH_SIZE*PATCH_SIZE/2\n",
    "IM_WIDTH = pixel_array.shape[0]\n",
    "IM_HEIGHT = pixel_array.shape[1]"
   ]
  },
  {
   "cell_type": "code",
   "execution_count": 6,
   "metadata": {},
   "outputs": [],
   "source": [
    "# TO DO: Create an iterator class and dispense with the globals.\n",
    "W=0\n",
    "H=0\n",
    "def get_next_patch(pixels): # assume square\n",
    "    global W,H\n",
    "    if W+PATCH_SIZE>IM_WIDTH:\n",
    "        H += PATCH_SIZE\n",
    "        W = 0\n",
    "    if H+PATCH_SIZE>IM_HEIGHT:\n",
    "        patch = None\n",
    "    if W+PATCH_SIZE<=IM_WIDTH and H+PATCH_SIZE<=IM_HEIGHT:\n",
    "        patch = pixels[W:W+PATCH_SIZE, H:H+PATCH_SIZE]\n",
    "        W += PATCH_SIZE\n",
    "    return patch"
   ]
  },
  {
   "cell_type": "code",
   "execution_count": 7,
   "metadata": {},
   "outputs": [],
   "source": [
    "def pixel_to_heatmap(green,blue):   # TO DO: this is slow, need a hash function\n",
    "    bins=[10,20,30,40,50,60,70,80,90,256]\n",
    "    gbin=None\n",
    "    bbin=None\n",
    "    for bin in range(0,10):\n",
    "        if gbin is None and green<=bins[bin]:\n",
    "            gbin=bin\n",
    "        if bbin is None and blue<=bins[bin]:\n",
    "            bbin=bin\n",
    "        if gbin is not None and bbin is not None:\n",
    "            return gbin,bbin\n",
    "    return gbin,bbin\n",
    "def accumulate_pixels(imary,verbose=False):  # TO DO: nested for loop is very slow\n",
    "    heatmap=np.zeros( (10,10), dtype=np.int32)\n",
    "    if verbose:\n",
    "        print(\"accumulate\",imary.shape)\n",
    "    nrows,ncols,nchannel=imary.shape\n",
    "    for row in range(0,nrows):\n",
    "        for col in range(0,ncols):\n",
    "            pixel = imary[row,col]\n",
    "            #red = pixel[0]\n",
    "            green = pixel[1]\n",
    "            blue = pixel[2]\n",
    "            gbin,bbin = pixel_to_heatmap(green,blue)\n",
    "            heatmap[gbin,bbin] += 1\n",
    "    return heatmap"
   ]
  },
  {
   "cell_type": "code",
   "execution_count": 8,
   "metadata": {},
   "outputs": [
    {
     "name": "stdout",
     "output_type": "stream",
     "text": [
      "0.19380474090576172\n",
      "[[29764     0     0     0     0     0     0     0     0     0]\n",
      " [20347     5     0     0     0     0     0     0     0     0]\n",
      " [   36     1     0     0     0     0     0     0     0     0]\n",
      " [   15     0     0     0     0     0     0     0     0     0]\n",
      " [    3     0     0     0     0     0     0     0     0     0]\n",
      " [    2     0     0     0     0     0     0     0     0     0]\n",
      " [    1     0     0     0     0     0     0     0     0     0]\n",
      " [    0     0     0     0     0     0     0     0     0     0]\n",
      " [    0     0     0     0     0     0     0     0     0     0]\n",
      " [    2     0     0     0     0     0     0     0     0     0]]\n"
     ]
    }
   ],
   "source": [
    "W=0\n",
    "H=0\n",
    "start = time.time()\n",
    "patch = get_next_patch(pixel_array)\n",
    "hm = accumulate_pixels(patch)\n",
    "end = time.time()\n",
    "print(end - start)\n",
    "print(hm)"
   ]
  },
  {
   "cell_type": "code",
   "execution_count": 9,
   "metadata": {},
   "outputs": [
    {
     "name": "stdout",
     "output_type": "stream",
     "text": [
      "3.910064697265625e-05\n"
     ]
    }
   ],
   "source": [
    "start = time.time()\n",
    "if False:\n",
    "    hm = accumulate_pixels(pixel_array)\n",
    "    print(hm)\n",
    "end = time.time()\n",
    "print(end - start)\n"
   ]
  },
  {
   "cell_type": "code",
   "execution_count": 12,
   "metadata": {},
   "outputs": [
    {
     "name": "stdout",
     "output_type": "stream",
     "text": [
      "[[   0    0  795 7315 6904 3442 1097  224   57   22]\n",
      " [   0    0   13 1591 3611 4885 4409 4026 3166 8517]\n",
      " [   0    0    0    1    0    0    0    0    5   95]\n",
      " [   0    0    0    0    0    0    0    0    0    0]\n",
      " [   0    0    0    1    0    0    0    0    0    0]\n",
      " [   0    0    0    0    0    0    0    0    0    0]\n",
      " [   0    0    0    0    0    0    0    0    0    0]\n",
      " [   0    0    0    0    0    0    0    0    0    0]\n",
      " [   0    0    0    0    0    0    0    0    0    0]\n",
      " [   0    0    0    0    0    0    0    0    0    0]] BLUE250.tif\n",
      "[[   0    0    2    0    0    0    0    0    0    0]\n",
      " [   0  160 9815 2734  607  248  146   83   38   50]\n",
      " [   0    1 3018 1502 1092  530  186  112  101  682]\n",
      " [   0    0  287 1775 1656 1805  466  225  232 1819]\n",
      " [   0    0    1  840 1316  795  425  271  216 1592]\n",
      " [   0    0    0  128 1624  323   91  115   90  748]\n",
      " [   0    0    0   15 1029  598   88   33   34  230]\n",
      " [   0    0    0    0  266 1027  132   31   13   49]\n",
      " [   0    0    0    0   51 1078  538   39    5   28]\n",
      " [   0    0    0    0    6  692 3422 1802  590  433]] BLUE256.tif\n",
      "[[    0     0  3571  6769  3610  1279   162    13     1     0]\n",
      " [    0     0   834  2775  5095  4803  3115  2527  2179 11941]\n",
      " [    0     0     0     0     0     0     1     2     6  1478]\n",
      " [    0     0     0     0     0     0     0     0     0    14]\n",
      " [    0     0     0     0     0     0     0     0     0     0]\n",
      " [    0     0     0     0     0     0     0     0     0     0]\n",
      " [    0     0     1     0     0     0     0     0     0     0]\n",
      " [    0     0     0     0     0     0     0     0     0     0]\n",
      " [    0     0     0     0     0     0     0     0     0     0]\n",
      " [    0     0     0     0     0     0     0     0     0     0]] BLUE260.tif\n",
      "[[   0    0  119   46   16    0    0    0    0    0]\n",
      " [   0    0 4049 3706  304    2    1    0    0    0]\n",
      " [   0    0  212 5064 1716  149   52    8    5    0]\n",
      " [   0    0   95  497 2769  880  283  186  165  200]\n",
      " [   0    0    2  175  501 1589  409  158  118  519]\n",
      " [   0    0    0   46  132 1203  853  150   85  335]\n",
      " [   0    0    0    3  170  907 1117  396  192  319]\n",
      " [   0    0    0    0  216  761 1562  802  402 1634]\n",
      " [   0    0    0    0   59 1537  697  576  474 2317]\n",
      " [   0    0    0    0    0  694 1619 1593 1295 4035]] GREEN294.tif\n",
      "back= 1483 green= 1 blue= 931 total= 3135\n",
      "back= 0.47304625199362044 green= 0.0003189792663476874 blue= 0.296969696969697\n"
     ]
    }
   ],
   "source": [
    "W=0\n",
    "H=0\n",
    "BACKGROUND_MAX=np.array( [20,20,20] )\n",
    "GREEN_MIN=np.array( [0,40,0] )\n",
    "BLUE_MIN=np.array( [0,0,40] )\n",
    "num_back_patches = 0\n",
    "num_green_patches = 0\n",
    "num_blue_patches = 0\n",
    "num_patches = 0\n",
    "\n",
    "if True:\n",
    "    patch = get_next_patch(pixel_array)\n",
    "    while patch is not None:\n",
    "        num_patches += 1\n",
    "        num_background_pixels = np.sum(np.all(patch<BACKGROUND_MAX,axis=2))\n",
    "        if num_background_pixels>=PATCH_THRESHOLD:\n",
    "            num_back_patches += 1\n",
    "        else:\n",
    "            num_green_pixels = np.sum(np.all(patch>=GREEN_MIN,axis=2))\n",
    "            if num_green_pixels>=PATCH_THRESHOLD:\n",
    "                num_green_patches += 1\n",
    "                if num_green_patches <3:\n",
    "                    pic = Image.fromarray(patch)\n",
    "                    name = \"GREEN{}.tif\".format(num_blue_patches)\n",
    "                    pic.save(DIR_IMAGES_OUT+name)\n",
    "                    hm = accumulate_pixels(patch)\n",
    "                    print(hm,name)        \n",
    "            else:\n",
    "                num_blue_pixels = np.sum(np.all(patch>=BLUE_MIN,axis=2))\n",
    "                if num_blue_pixels>=PATCH_THRESHOLD:\n",
    "                    num_blue_patches += 1\n",
    "                    if num_blue_patches in [250,256,260]:\n",
    "                    #if num_blue_patches in [23,200,297,256,272,376,411,447,611,612,631,632,633,634,706,789]:\n",
    "                        pic = Image.fromarray(patch)\n",
    "                        name = \"BLUE{}.tif\".format(num_blue_patches)\n",
    "                        pic.save(DIR_IMAGES_OUT+name)\n",
    "                        hm = accumulate_pixels(patch)\n",
    "                        print(hm,name)        \n",
    "                    \n",
    "        patch = get_next_patch(pixel_array)\n",
    "    print(\"back=\",num_back_patches,\"green=\",num_green_patches,\"blue=\",num_blue_patches,\"total=\",num_patches)\n",
    "    print(\"back=\",num_back_patches/num_patches,\"green=\",num_green_patches/num_patches,\"blue=\",num_blue_patches/num_patches)"
   ]
  },
  {
   "cell_type": "markdown",
   "metadata": {},
   "source": [
    "In notebook 004, we saved the blue ones accidentally.  \n",
    "By visual inspection, these were problematic.  \n",
    "Contains green: 23, 200, 207, 256!, 272, 376, 411, 447, 611, 612, 631-4, 706, 789.  \n",
    "Contains solid blue with letters (scale bar): 891-2, 908-9, 914-15.  \n",
    "Looks black: 916-8, 921-3, 930-1.  "
   ]
  },
  {
   "cell_type": "code",
   "execution_count": 11,
   "metadata": {},
   "outputs": [
    {
     "name": "stdout",
     "output_type": "stream",
     "text": [
      "4.6253204345703125e-05\n"
     ]
    }
   ],
   "source": [
    "start = time.time()\n",
    "patch = get_next_patch(pixel_array)\n",
    "while patch is not None:\n",
    "    num_patches += 1\n",
    "    print(num_patches,end=\" \")\n",
    "    patch = get_next_patch(pixel_array)\n",
    "\n",
    "end = time.time()\n",
    "print(end - start)\n"
   ]
  },
  {
   "cell_type": "code",
   "execution_count": null,
   "metadata": {},
   "outputs": [],
   "source": []
  }
 ],
 "metadata": {
  "kernelspec": {
   "display_name": "Python 3",
   "language": "python",
   "name": "python3"
  },
  "language_info": {
   "codemirror_mode": {
    "name": "ipython",
    "version": 3
   },
   "file_extension": ".py",
   "mimetype": "text/x-python",
   "name": "python",
   "nbconvert_exporter": "python",
   "pygments_lexer": "ipython3",
   "version": "3.8.10"
  }
 },
 "nbformat": 4,
 "nbformat_minor": 4
}
