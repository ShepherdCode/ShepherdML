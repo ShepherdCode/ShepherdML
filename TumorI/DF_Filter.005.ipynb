{
 "cells": [
  {
   "cell_type": "markdown",
   "metadata": {},
   "source": [
    "# Filter background from D&F images.\n",
    "Use the A5 tumor because  \n",
    "* the tumor is Y-neg\n",
    "* the image is mostly tumor cells (hardly any stroma)\n",
    "* the image is mostly blue, with hardly any green.\n",
    "\n",
    "Use this to generate training examples of Y-neg patches."
   ]
  },
  {
   "cell_type": "code",
   "execution_count": 1,
   "metadata": {},
   "outputs": [],
   "source": [
    "import time\n",
    "import os\n",
    "import glob\n",
    "import cv2 # OpenCV-Python\n",
    "from PIL import Image\n",
    "Image.MAX_IMAGE_PIXELS = None\n",
    "import numpy as np\n",
    "import json\n",
    "DIR_IMAGES_RAW = \"/home/jrm/Martinez/images/raw/\"\n",
    "DIR_IMAGES_OUT = \"/home/jrm/Martinez/images/temp/\"\n",
    "PATTERN_IMAGES_RAW = \"*.DF1.*.tif\"\n",
    "PATCH_SIZE=224  # matches VGG\n",
    "IMAGE_FILENAME='A3.DF1.26.tif'"
   ]
  },
  {
   "cell_type": "code",
   "execution_count": 2,
   "metadata": {},
   "outputs": [],
   "source": [
    "def get_image_names(path,pattern):\n",
    "    #RAW_IMAGE_NAMES = os.listdir(DIR_IMAGES_RAW)\n",
    "    paths = glob.glob(path+pattern)\n",
    "    names = [os.path.basename(x) for x in paths]\n",
    "    return names\n",
    "FILENAMES_IMAGES_RAW = get_image_names(DIR_IMAGES_RAW,PATTERN_IMAGES_RAW)\n",
    "#FILENAMES_IMAGES_RAW"
   ]
  },
  {
   "cell_type": "code",
   "execution_count": 3,
   "metadata": {},
   "outputs": [
    {
     "name": "stdout",
     "output_type": "stream",
     "text": [
      "A3.DF1.26.tif 479598264 (12513, 12776, 3)\n"
     ]
    }
   ],
   "source": [
    "def load_pixel_array(path,filename,verbose=False):\n",
    "    im = Image.open(path+filename)\n",
    "    ima = np.array(im)   # convert to numpy\n",
    "    if verbose:\n",
    "        print(filename, ima.size, ima.shape)\n",
    "    return ima\n",
    "pixel_array = load_pixel_array(DIR_IMAGES_RAW,IMAGE_FILENAME,True)"
   ]
  },
  {
   "cell_type": "code",
   "execution_count": 4,
   "metadata": {},
   "outputs": [
    {
     "name": "stdout",
     "output_type": "stream",
     "text": [
      "Average [ 0.         10.75710886 34.77616833] STD [ 0.          5.89739359 40.8880172 ]\n",
      "Example pixel: [0 9 3]\n"
     ]
    }
   ],
   "source": [
    "avg = np.average(pixel_array,axis=(0,1))\n",
    "std = np.std(pixel_array,axis=(0,1))\n",
    "print(\"Average\",avg,\"STD\",std)\n",
    "print(\"Example pixel:\",pixel_array[0,0])"
   ]
  },
  {
   "cell_type": "code",
   "execution_count": 5,
   "metadata": {},
   "outputs": [],
   "source": [
    "PATCH_THRESHOLD=PATCH_SIZE*PATCH_SIZE/2\n",
    "IM_WIDTH = pixel_array.shape[0]\n",
    "IM_HEIGHT = pixel_array.shape[1]"
   ]
  },
  {
   "cell_type": "code",
   "execution_count": 6,
   "metadata": {},
   "outputs": [],
   "source": [
    "# TO DO: Create an iterator class and dispense with the globals.\n",
    "W=0\n",
    "H=0\n",
    "def get_next_patch(pixels): # assume square\n",
    "    global W,H\n",
    "    if W+PATCH_SIZE>IM_WIDTH:\n",
    "        H += PATCH_SIZE\n",
    "        W = 0\n",
    "    if H+PATCH_SIZE>IM_HEIGHT:\n",
    "        patch = None\n",
    "    if W+PATCH_SIZE<=IM_WIDTH and H+PATCH_SIZE<=IM_HEIGHT:\n",
    "        patch = pixels[W:W+PATCH_SIZE, H:H+PATCH_SIZE]\n",
    "        W += PATCH_SIZE\n",
    "    return patch"
   ]
  },
  {
   "cell_type": "code",
   "execution_count": 7,
   "metadata": {},
   "outputs": [],
   "source": [
    "def pixel_to_heatmap(green,blue):   # TO DO: this is slow, need a hash function\n",
    "    bins=[10,20,30,40,50,60,70,80,90,256]\n",
    "    gbin=None\n",
    "    bbin=None\n",
    "    for bin in range(0,10):\n",
    "        if gbin is None and green<=bins[bin]:\n",
    "            gbin=bin\n",
    "        if bbin is None and blue<=bins[bin]:\n",
    "            bbin=bin\n",
    "        if gbin is not None and bbin is not None:\n",
    "            return gbin,bbin\n",
    "    return gbin,bbin\n",
    "def accumulate_pixels(imary,verbose=False):  # TO DO: nested for loop is very slow\n",
    "    heatmap=np.zeros( (10,10), dtype=np.int32)\n",
    "    if verbose:\n",
    "        print(\"accumulate\",imary.shape)\n",
    "    nrows,ncols,nchannel=imary.shape\n",
    "    for row in range(0,nrows):\n",
    "        for col in range(0,ncols):\n",
    "            pixel = imary[row,col]\n",
    "            #red = pixel[0]\n",
    "            green = pixel[1]\n",
    "            blue = pixel[2]\n",
    "            gbin,bbin = pixel_to_heatmap(green,blue)\n",
    "            heatmap[gbin,bbin] += 1\n",
    "    return heatmap"
   ]
  },
  {
   "cell_type": "code",
   "execution_count": 8,
   "metadata": {},
   "outputs": [
    {
     "name": "stdout",
     "output_type": "stream",
     "text": [
      "0.19380474090576172\n",
      "[[29764     0     0     0     0     0     0     0     0     0]\n",
      " [20347     5     0     0     0     0     0     0     0     0]\n",
      " [   36     1     0     0     0     0     0     0     0     0]\n",
      " [   15     0     0     0     0     0     0     0     0     0]\n",
      " [    3     0     0     0     0     0     0     0     0     0]\n",
      " [    2     0     0     0     0     0     0     0     0     0]\n",
      " [    1     0     0     0     0     0     0     0     0     0]\n",
      " [    0     0     0     0     0     0     0     0     0     0]\n",
      " [    0     0     0     0     0     0     0     0     0     0]\n",
      " [    2     0     0     0     0     0     0     0     0     0]]\n"
     ]
    }
   ],
   "source": [
    "W=0\n",
    "H=0\n",
    "start = time.time()\n",
    "patch = get_next_patch(pixel_array)\n",
    "hm = accumulate_pixels(patch)\n",
    "end = time.time()\n",
    "print(end - start)\n",
    "print(hm)"
   ]
  },
  {
   "cell_type": "code",
   "execution_count": 9,
   "metadata": {},
   "outputs": [
    {
     "name": "stdout",
     "output_type": "stream",
     "text": [
      "3.910064697265625e-05\n"
     ]
    }
   ],
   "source": [
    "start = time.time()\n",
    "if False:\n",
    "    hm = accumulate_pixels(pixel_array)\n",
    "    print(hm)\n",
    "end = time.time()\n",
    "print(end - start)\n"
   ]
  },
  {
   "cell_type": "code",
   "execution_count": 10,
   "metadata": {},
   "outputs": [
    {
     "name": "stdout",
     "output_type": "stream",
     "text": [
      "[[   0    0    7  168   30    8    1    0    0    0]\n",
      " [   0    0 2419 6032 3348 2354 1234  770  377  747]\n",
      " [   0    0  817 2886 1247 2804 2580 1398  899 6245]\n",
      " [   0    0    0   52  256  517  839  799  668 4436]\n",
      " [   0    0    0    1    0   69  270  340  128 1108]\n",
      " [   0    0    0    0    0    6   81  215  107  471]\n",
      " [   0    0    0    0    0    0   26  113  169  560]\n",
      " [   0    0    0    0    0    0    6   70  121  378]\n",
      " [   0    0    0    0    0    0    1   21  154  441]\n",
      " [   0    0    0    0    0    0    0   14  251 1117]] BLUEGREEN23.tif\n",
      "[[   0  396 4661  936  133    4    0    0    0    0]\n",
      " [   0   58 7298 6116 3432 2257 2162 1874 1785 4523]\n",
      " [   0    0  341 1013 2028 1670  801 1369 1269 5099]\n",
      " [   0    0    0    9  406  129    1    0    4   90]\n",
      " [   0    0    0    0   35  258    3    0    0    0]\n",
      " [   0    0    0    0    0   15    0    0    0    1]\n",
      " [   0    0    0    0    0    0    0    0    0    0]\n",
      " [   0    0    0    0    0    0    0    0    0    0]\n",
      " [   0    0    0    0    0    0    0    0    0    0]\n",
      " [   0    0    0    0    0    0    0    0    0    0]] BLUEGREEN200.tif\n",
      "[[   0    0    2    0    0    0    0    0    0    0]\n",
      " [   0  160 9815 2734  607  248  146   83   38   50]\n",
      " [   0    1 3018 1502 1092  530  186  112  101  682]\n",
      " [   0    0  287 1775 1656 1805  466  225  232 1819]\n",
      " [   0    0    1  840 1316  795  425  271  216 1592]\n",
      " [   0    0    0  128 1624  323   91  115   90  748]\n",
      " [   0    0    0   15 1029  598   88   33   34  230]\n",
      " [   0    0    0    0  266 1027  132   31   13   49]\n",
      " [   0    0    0    0   51 1078  538   39    5   28]\n",
      " [   0    0    0    0    6  692 3422 1802  590  433]] BLUEGREEN256.tif\n",
      "[[   0  317 5659 2757  580  115   17    7    3    0]\n",
      " [   0  203 5967 3611 2325 3550 2645 1325 1034 3318]\n",
      " [   0    0  198 3642 3529 1130  626  309  379 1190]\n",
      " [   0    0    1  975 2592  477    1    0    0    0]\n",
      " [   0    0    0    7  757   94    0    0    0    0]\n",
      " [   0    0    0    0  201  411    0    0    0    0]\n",
      " [   0    0    0    0    4  209    6    0    0    0]\n",
      " [   0    0    0    0    0    4    1    0    0    0]\n",
      " [   0    0    0    0    0    0    0    0    0    0]\n",
      " [   0    0    0    0    0    0    0    0    0    0]] BLUEGREEN272.tif\n",
      "[[   0    1 3265 4873 1581  600  101   11    5    0]\n",
      " [   0    0 1574 6836 8594 6176 3642 2452 1774 7106]\n",
      " [   0    0    0    4   19   25   15   22   44 1442]\n",
      " [   0    0    0    0    0    0    0    0    0   11]\n",
      " [   0    0    0    0    0    0    0    0    0    0]\n",
      " [   0    0    0    0    1    0    0    0    0    0]\n",
      " [   0    0    0    0    0    0    0    0    0    0]\n",
      " [   0    0    0    0    0    0    0    0    0    0]\n",
      " [   0    0    0    0    0    0    0    0    0    0]\n",
      " [   0    0    0    0    1    0    0    0    0    1]] BLUEGREEN297.tif\n",
      "[[   0  110 6707  870  117   11    0    0    0    0]\n",
      " [   0   15 4812 4611 3744 2234 1381 1014 1368 5664]\n",
      " [   0    0   30  836 2483 1373 1318 1589 1107 4109]\n",
      " [   0    0    0   99  102 1028  509  190  106  141]\n",
      " [   0    0    1   10    0  213  909  305   89   26]\n",
      " [   0    0    0    0    0    5  206  258   32    0]\n",
      " [   0    0    0    0    0    0   18  206   89    1]\n",
      " [   0    0    0    0    0    0    0   25  101    1]\n",
      " [   0    0    0    0    0    0    0    0    2    0]\n",
      " [   0    0    0    0    0    0    0    0    1    0]] BLUEGREEN376.tif\n",
      "[[   0   46 1616  382   16    0    0    0    0    0]\n",
      " [   0  142 2854 3245 1952  507  155  104   69  129]\n",
      " [   0    0 1380 2945 2143 2184 1382 1161  777 1281]\n",
      " [   0    0   99  963 1627 1731 1289  957  926 3748]\n",
      " [   0    0    1  289  402  910  751  545  385 4255]\n",
      " [   0    0    0   79  274  210  204  399  289 2880]\n",
      " [   0    0    0    3  203  199   71  225  186 1082]\n",
      " [   0    0    0    0   42  124   48   37   44  136]\n",
      " [   0    0    0    0    0    3    1    0   10   39]\n",
      " [   0    0    0    0    1    0    0    0    1   38]] BLUEGREEN411.tif\n",
      "[[    0     0   816  6608  2017   340    24     5     0     0]\n",
      " [    0     0   504 10030  8685  5170  3220  2273  2171  6645]\n",
      " [    0     0     0   295   155    38    21    57    51   326]\n",
      " [    0     0     0    43   108    25    45    40     7     7]\n",
      " [    0     0     0     4    47    23    31     9     0     0]\n",
      " [    0     0     0     0    20    17    10     3     0     0]\n",
      " [    0     0     0     0    10     6    10     0     0     0]\n",
      " [    0     0     0     0     9     7     6     1     0     0]\n",
      " [    0     0     0     0     5     4    10     3     0     0]\n",
      " [    0     0     0     0    14    30    40    24    18    89]] BLUEGREEN447.tif\n",
      "[[   0    0    0    0    0    0    0    0    0    0]\n",
      " [   0    0    0    1  123  210   85   96   70   71]\n",
      " [   0    0    0  883 7394 4624 2327 1453  640 2738]\n",
      " [   0    0    0  367 4859 3051  695  270  191 1009]\n",
      " [   0    0    0    1 1489 2816  667  202  111  594]\n",
      " [   0    0    0    0  125 3840 1432  212  131  579]\n",
      " [   0    0    0    0    1 1318 1641  589  149  137]\n",
      " [   0    0    0    0    0   71  927  944  113   16]\n",
      " [   0    0    0    0    0    0  115  542   80   10]\n",
      " [   0    0    0    0    0    0    0  125   39    3]] BLUEGREEN611.tif\n",
      "[[   0    0    0    0    0    0    0    0    0    0]\n",
      " [   0    0    0  590 5142 1217  429  316  166  419]\n",
      " [   0    0    0  114 4439 3580 1118  477  606 9172]\n",
      " [   0    0    0    0  592 2673 1637 1094 1065 6991]\n",
      " [   0    0    0    0    1  301  778 1149  627 2294]\n",
      " [   0    0    0    0    0    4   78 1091  516  241]\n",
      " [   0    0    0    0    0    0    0  167  557  140]\n",
      " [   0    0    0    0    0    0    0    3  219   45]\n",
      " [   0    0    0    0    0    0    0    0    9   52]\n",
      " [   0    0    0    0    0    0    0    0    0   67]] BLUEGREEN612.tif\n",
      "[[   0    0    0  174   38    7    1    0    0    0]\n",
      " [   0    0    6 5249 6535 5321 3177 1560  858 2393]\n",
      " [   0    0    0   36 1191 3557 1453  602  441 6594]\n",
      " [   0    0    0   35  677 1003  903  532  367 2482]\n",
      " [   0    0    0    0  186  541  188   90   70  149]\n",
      " [   0    0    0    0   22  297  145   38   36   87]\n",
      " [   0    0    0    0    5   75   80   33   34  126]\n",
      " [   0    0    0    0    0   35   36   30   19  155]\n",
      " [   0    0    0    0    0   28   26   24   26  242]\n",
      " [   0    0    0    0    0   38  217  300  235 1371]] BLUEGREEN631.tif\n",
      "[[   0    0    0    0    0    0    0    0    0    0]\n",
      " [   0    0    0    0  962 2421  810  156   61   41]\n",
      " [   0    0    0   17 4091 8172 4380 2077 1336 6488]\n",
      " [   0    0    0   23 1751 3472 1846 1042  342 2829]\n",
      " [   0    0    0    0  652 1255 1024  620  288  293]\n",
      " [   0    0    0    0   26  897  769  559  206  124]\n",
      " [   0    0    0    0    0  225  288  291   75    5]\n",
      " [   0    0    0    0    0    7   27  162   42    0]\n",
      " [   0    0    0    0    0    0    0    6   18    0]\n",
      " [   0    0    0    0    0    0    0    0    0    0]] BLUEGREEN632.tif\n",
      "[[    0     0     0     0     0     0     0     0     0     0]\n",
      " [    0     0     0     0   212  4636  3599  1939  1137  1067]\n",
      " [    0     0     0     0   176  2072  2443  2295  2192 14918]\n",
      " [    0     0     0     0     0   154   367   137   649  6556]\n",
      " [    0     0     0     0     0     2   185   116   540  1867]\n",
      " [    0     0     0     0     0     0    11    69   406   550]\n",
      " [    0     0     0     0     0     0     1     7   356   333]\n",
      " [    0     0     0     0     0     0     0     0    49   387]\n",
      " [    0     0     0     0     0     0     0     0     0   294]\n",
      " [    0     0     0     0     0     0     0     0     0   454]] BLUEGREEN633.tif\n",
      "[[   0    0  119 1095  413  109   28    3    0    0]\n",
      " [   0    0   29 2041 6916 4987 3595 2477 1549 4484]\n",
      " [   0    0    0    0   58  766  960  832  854 7321]\n",
      " [   0    0    0    0    0   27  347  429  652 3343]\n",
      " [   0    0    0    0    0    0   44  185  485 1693]\n",
      " [   0    0    0    0    0    0    4  112  244 1463]\n",
      " [   0    0    0    0    0    0    0   28  140 1066]\n",
      " [   0    0    0    0    0    0    0    0   38  791]\n",
      " [   0    0    0    0    0    0    0    0    0  422]\n",
      " [   0    0    0    0    0    0    0    0    0   27]] BLUEGREEN634.tif\n",
      "[[   0    0   14  126   14    3    0    0    0    0]\n",
      " [   0    0  455 7760 9638 5043 2032 1199  693 3207]\n",
      " [   0    0    0  389 2623 2723 1497  805  520 4959]\n",
      " [   0    0    0    3  195 1022  507  272  250 2102]\n",
      " [   0    0    0    0   22  254  374  109   23  249]\n",
      " [   0    0    0    0    0   64  313   93    0   52]\n",
      " [   0    0    0    0    0    5  216  139    6    0]\n",
      " [   0    0    0    0    0    0   13  105   40    0]\n",
      " [   0    0    0    0    0    0    0   12   36    0]\n",
      " [   0    0    0    0    0    0    0    0    0    0]] BLUEGREEN706.tif\n"
     ]
    },
    {
     "name": "stdout",
     "output_type": "stream",
     "text": [
      "[[   0 2159 7595 6055 5498 2984 1359  652  356  423]\n",
      " [   0    4 1770 7211 2575 1344  830  583  481 3798]\n",
      " [   0    0   23  589  306  413  265   96   59 1232]\n",
      " [   0    0    2  167   30   49   76   73   55  311]\n",
      " [   0    0    0   91   30   26   45   52   28   71]\n",
      " [   0    0    0   82   22   11   26   15    5   36]\n",
      " [   0    0    0   54   15    3    6   12    4   15]\n",
      " [   0    0    0   55   13    1    2    0    0   11]\n",
      " [   0    0    0    9    8    0    0    0    0    0]\n",
      " [   0    1    0    0    4    0    0    0    0    0]] BLUEGREEN789.tif\n",
      "back= 1483 green= 1 blue= 931 total= 3135\n",
      "back= 0.47304625199362044 green= 0.0003189792663476874 blue= 0.296969696969697\n"
     ]
    }
   ],
   "source": [
    "W=0\n",
    "H=0\n",
    "BACKGROUND_MAX=np.array( [20,20,20] )\n",
    "GREEN_MIN=np.array( [0,40,0] )\n",
    "BLUE_MIN=np.array( [0,0,40] )\n",
    "num_back_patches = 0\n",
    "num_green_patches = 0\n",
    "num_blue_patches = 0\n",
    "num_patches = 0\n",
    "\n",
    "if True:\n",
    "    patch = get_next_patch(pixel_array)\n",
    "    while patch is not None:\n",
    "        num_patches += 1\n",
    "        num_background_pixels = np.sum(np.all(patch<BACKGROUND_MAX,axis=2))\n",
    "        if num_background_pixels>=PATCH_THRESHOLD:\n",
    "            num_back_patches += 1\n",
    "        else:\n",
    "            num_green_pixels = np.sum(np.all(patch>=GREEN_MIN,axis=2))\n",
    "            if num_green_pixels>=PATCH_THRESHOLD:\n",
    "                num_green_patches += 1\n",
    "            else:\n",
    "                num_blue_pixels = np.sum(np.all(patch>=BLUE_MIN,axis=2))\n",
    "                if num_blue_pixels>=PATCH_THRESHOLD:\n",
    "                    num_blue_patches += 1\n",
    "                    if num_blue_patches in [23,200,297,256,272,376,411,447,611,612,631,632,633,634,706,789]:\n",
    "                        pic = Image.fromarray(patch)\n",
    "                        name = \"BLUEGREEN{}.tif\".format(num_blue_patches)\n",
    "                        pic.save(DIR_IMAGES_OUT+name)\n",
    "                        hm = accumulate_pixels(patch)\n",
    "                        print(hm,name)        \n",
    "                    \n",
    "        patch = get_next_patch(pixel_array)\n",
    "    print(\"back=\",num_back_patches,\"green=\",num_green_patches,\"blue=\",num_blue_patches,\"total=\",num_patches)\n",
    "    print(\"back=\",num_back_patches/num_patches,\"green=\",num_green_patches/num_patches,\"blue=\",num_blue_patches/num_patches)"
   ]
  },
  {
   "cell_type": "markdown",
   "metadata": {},
   "source": [
    "In notebook 004, we saved the blue ones accidentally.  \n",
    "By visual inspection, these were problematic.  \n",
    "Contains green: 23, 200, 207, 256!, 272, 376, 411, 447, 611, 612, 631-4, 706, 789.  \n",
    "Contains solid blue with letters (scale bar): 891-2, 908-9, 914-15.  \n",
    "Looks black: 916-8, 921-3, 930-1.  "
   ]
  },
  {
   "cell_type": "code",
   "execution_count": 11,
   "metadata": {},
   "outputs": [
    {
     "name": "stdout",
     "output_type": "stream",
     "text": [
      "4.6253204345703125e-05\n"
     ]
    }
   ],
   "source": [
    "start = time.time()\n",
    "patch = get_next_patch(pixel_array)\n",
    "while patch is not None:\n",
    "    num_patches += 1\n",
    "    print(num_patches,end=\" \")\n",
    "    patch = get_next_patch(pixel_array)\n",
    "\n",
    "end = time.time()\n",
    "print(end - start)\n"
   ]
  },
  {
   "cell_type": "code",
   "execution_count": null,
   "metadata": {},
   "outputs": [],
   "source": []
  }
 ],
 "metadata": {
  "kernelspec": {
   "display_name": "Python 3",
   "language": "python",
   "name": "python3"
  },
  "language_info": {
   "codemirror_mode": {
    "name": "ipython",
    "version": 3
   },
   "file_extension": ".py",
   "mimetype": "text/x-python",
   "name": "python",
   "nbconvert_exporter": "python",
   "pygments_lexer": "ipython3",
   "version": "3.8.10"
  }
 },
 "nbformat": 4,
 "nbformat_minor": 4
}
