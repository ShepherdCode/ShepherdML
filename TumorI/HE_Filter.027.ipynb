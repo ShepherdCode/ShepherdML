{
 "cells": [
  {
   "cell_type": "markdown",
   "metadata": {},
   "source": [
    "# Pretrained H&E classifier\n",
    "Training set: central patches from Y-pos vs Y-neg images.  \n",
    "No attempt to distinguish background, stroma, tumor.  \n",
    "Retrain VGG.  \n",
    "Expect no classification.\n",
    "\n",
    "## Classify patches\n",
    "Use VGG. \n"
   ]
  },
  {
   "cell_type": "code",
   "execution_count": 1,
   "metadata": {},
   "outputs": [
    {
     "name": "stdout",
     "output_type": "stream",
     "text": [
      "numpy==1.22.1\n",
      "json==2.0.9\n",
      "keras.api._v2.keras==2.7.0\n",
      "pandas==1.4.0\n"
     ]
    }
   ],
   "source": [
    "import time\n",
    "import os\n",
    "#  os.environ['CUDA_VISIBLE_DEVICES'] = \"0\"   # turns off GPU?\n",
    "import glob\n",
    "#import cv2 # OpenCV-Python\n",
    "#from PIL import Image\n",
    "#Image.MAX_IMAGE_PIXELS = None\n",
    "import numpy as np\n",
    "import json\n",
    "from tensorflow import keras\n",
    "import keras.layers as kl\n",
    "import pandas as pd\n",
    "import matplotlib.pyplot as plt\n",
    "\n",
    "from tensorflow.keras.applications.vgg16 import VGG16\n",
    "from tensorflow.keras.preprocessing import image\n",
    "from tensorflow.keras.applications.vgg16 import preprocess_input\n",
    "\n",
    "print('\\n'.join(f'{m.__name__}=={m.__version__}' for m in globals().values() if getattr(m, '__version__', None)))"
   ]
  },
  {
   "cell_type": "code",
   "execution_count": 2,
   "metadata": {},
   "outputs": [
    {
     "name": "stdout",
     "output_type": "stream",
     "text": [
      "Will overwrite model at /home/jrm/Martinez/models/HE_Filter.026\n"
     ]
    }
   ],
   "source": [
    "DIR_IMAGES_IN = \"/home/jrm/Martinez/images/HEcenterpatch/\"  \n",
    "PATCH_SIZE=224  # matches VGG\n",
    "DIR_MODELS = \"/home/jrm/Martinez/models/\"\n",
    "FILE_MODEL = \"HE_Filter.026\"\n",
    "filepath=DIR_MODELS+FILE_MODEL\n",
    "print(\"Will overwrite model at \"+filepath)\n",
    "BATCH_SIZE = 32\n",
    "IMG_SIZE = (PATCH_SIZE,PATCH_SIZE)\n",
    "CHANNELS = 3"
   ]
  },
  {
   "cell_type": "code",
   "execution_count": 3,
   "metadata": {},
   "outputs": [
    {
     "name": "stdout",
     "output_type": "stream",
     "text": [
      "Found 30892 files belonging to 2 classes.\n",
      "Found 7722 files belonging to 2 classes.\n"
     ]
    }
   ],
   "source": [
    "train_dir = os.path.join(DIR_IMAGES_IN, 'train')\n",
    "valid_dir = os.path.join(DIR_IMAGES_IN, 'valid')\n",
    "train_dataset = keras.utils.image_dataset_from_directory(\n",
    "    train_dir, shuffle=True, batch_size=BATCH_SIZE, image_size=IMG_SIZE)\n",
    "valid_dataset = keras.utils.image_dataset_from_directory(\n",
    "    valid_dir, shuffle=True, batch_size=BATCH_SIZE, image_size=IMG_SIZE)\n"
   ]
  },
  {
   "cell_type": "code",
   "execution_count": 4,
   "metadata": {},
   "outputs": [],
   "source": [
    "# Normalize color channel ints to floats (0,1)\n",
    "# See https://www.tensorflow.org/tutorials/load_data/images\n",
    "\n",
    "normalization_layer = kl.Rescaling(1.0/255.0)\n",
    "train_dataset = train_dataset.map(lambda x, y: (normalization_layer(x), y))\n",
    "valid_dataset = valid_dataset.map(lambda x, y: (normalization_layer(x), y))"
   ]
  },
  {
   "cell_type": "code",
   "execution_count": 5,
   "metadata": {
    "scrolled": true
   },
   "outputs": [
    {
     "name": "stdout",
     "output_type": "stream",
     "text": [
      "(32, 224, 224, 3)\n",
      "tf.Tensor([1 1 0 1 0 1 1 1 0 1 1 1 1 1 1 0 1 1 1 1 1 1 0 1 1 0 0 1 1 0 1 1], shape=(32,), dtype=int32)\n",
      "(32, 224, 224, 3)\n",
      "tf.Tensor([1 1 1 1 1 1 1 0 0 1 1 1 0 1 1 1 1 1 1 1 1 0 1 1 1 1 1 1 1 1 1 1], shape=(32,), dtype=int32)\n",
      "(32, 224, 224, 3)\n",
      "tf.Tensor([1 1 0 1 0 0 0 1 1 0 1 1 1 0 1 1 1 0 1 1 1 0 1 1 1 0 1 1 1 1 1 1], shape=(32,), dtype=int32)\n",
      "(32, 224, 224, 3)\n",
      "tf.Tensor([1 1 1 0 1 1 0 1 1 1 1 1 0 1 1 0 0 0 1 1 1 1 1 1 1 1 1 1 1 0 1 0], shape=(32,), dtype=int32)\n",
      "(32, 224, 224, 3)\n",
      "tf.Tensor([0 1 0 1 1 0 1 1 1 0 1 1 1 1 1 0 1 0 1 1 0 1 0 0 1 1 1 1 1 1 1 1], shape=(32,), dtype=int32)\n",
      "(32, 224, 224, 3)\n",
      "tf.Tensor([1 0 1 1 1 1 1 1 0 1 1 1 0 1 1 0 1 1 1 1 1 0 1 0 0 1 1 1 1 1 1 1], shape=(32,), dtype=int32)\n",
      "(32, 224, 224, 3)\n",
      "tf.Tensor([1 1 0 1 1 1 1 0 0 1 0 1 1 1 1 1 0 1 1 1 1 1 1 1 1 1 1 0 0 1 0 1], shape=(32,), dtype=int32)\n",
      "(32, 224, 224, 3)\n",
      "tf.Tensor([1 1 0 0 1 0 0 0 1 1 1 1 1 1 1 1 1 1 1 1 1 0 1 1 1 0 1 1 1 1 1 1], shape=(32,), dtype=int32)\n",
      "(32, 224, 224, 3)\n",
      "tf.Tensor([1 1 1 0 1 0 1 1 1 1 1 1 1 1 1 1 1 1 1 1 0 1 1 0 1 1 1 1 0 0 1 1], shape=(32,), dtype=int32)\n",
      "(32, 224, 224, 3)\n",
      "tf.Tensor([1 1 1 0 1 0 1 1 1 1 1 1 1 1 1 1 1 1 1 1 1 1 0 1 1 1 1 0 1 1 1 1], shape=(32,), dtype=int32)\n"
     ]
    }
   ],
   "source": [
    "iterator = valid_dataset.take(10)\n",
    "for x in iterator:\n",
    "    print(x[0].shape)\n",
    "    print(x[1])"
   ]
  },
  {
   "cell_type": "markdown",
   "metadata": {},
   "source": [
    "## VGG\n",
    "https://keras.io/guides/transfer_learning/  \n",
    "https://towardsdatascience.com/step-by-step-guide-to-using-pretrained-models-in-keras-c9097b647b29  "
   ]
  },
  {
   "cell_type": "code",
   "execution_count": 6,
   "metadata": {},
   "outputs": [
    {
     "name": "stdout",
     "output_type": "stream",
     "text": [
      "Model: \"sequential\"\n",
      "_________________________________________________________________\n",
      " Layer (type)                Output Shape              Param #   \n",
      "=================================================================\n",
      " vgg16 (Functional)          (None, 7, 7, 512)         14714688  \n",
      "                                                                 \n",
      " flatten (Flatten)           (None, 25088)             0         \n",
      "                                                                 \n",
      " dense (Dense)               (None, 16)                401424    \n",
      "                                                                 \n",
      " dropout (Dropout)           (None, 16)                0         \n",
      "                                                                 \n",
      " dense_1 (Dense)             (None, 2)                 34        \n",
      "                                                                 \n",
      "=================================================================\n",
      "Total params: 15,116,146\n",
      "Trainable params: 401,458\n",
      "Non-trainable params: 14,714,688\n",
      "_________________________________________________________________\n"
     ]
    }
   ],
   "source": [
    "CLASSES = 2\n",
    "#base_model = VGG16(weights='imagenet',include_top=False)  # top= classification layer\n",
    "# optional: input_shape=(224, 224, 3)\n",
    "#base_model.trainable = False\n",
    "#inputs = keras.Input(shape=(PATCH_SIZE, PATCH_SIZE, CHANNELS))\n",
    "#x = base_model(inputs, training=False)\n",
    "\n",
    "#x = keras.layers.GlobalAveragePooling2D()(x)\n",
    "#outputs = keras.layers.Dense(CLASSES)(x)\n",
    "#model = keras.Model(inputs, outputs)\n",
    "\n",
    "#x = keras.layers.Flatten()(x)\n",
    "#outputs = keras.layers.Dense(CLASSES)(x)\n",
    "#model = keras.Model(inputs, outputs)\n",
    "\n",
    "VGG = VGG16(weights='imagenet',include_top=False,input_shape=(PATCH_SIZE, PATCH_SIZE, CHANNELS))\n",
    "VGG.trainable = False\n",
    "model = keras.models.Sequential()\n",
    "model.add(VGG)\n",
    "model.add(kl.Flatten())\n",
    "model.add(kl.Dense(16))\n",
    "model.add(kl.Dropout(0.25))\n",
    "model.add(kl.Dense(CLASSES,activation=\"softmax\"))\n",
    "model.summary()"
   ]
  },
  {
   "cell_type": "markdown",
   "metadata": {},
   "source": [
    "## Optimizer = SGD or ADAM ?\n",
    "ADAM converges faster but SGD better in the long run.  \n",
    "https://medium.com/geekculture/a-2021-guide-to-improving-cnns-optimizers-adam-vs-sgd-495848ac6008"
   ]
  },
  {
   "cell_type": "code",
   "execution_count": 7,
   "metadata": {},
   "outputs": [
    {
     "name": "stdout",
     "output_type": "stream",
     "text": [
      "Epoch 1/50\n",
      "966/966 [==============================] - 71s 70ms/step - loss: 0.5460 - accuracy: 0.7799 - val_loss: 0.4473 - val_accuracy: 0.7880\n",
      "Epoch 2/50\n",
      "966/966 [==============================] - 67s 69ms/step - loss: 0.4453 - accuracy: 0.7993 - val_loss: 0.4259 - val_accuracy: 0.7993\n",
      "Epoch 3/50\n",
      "966/966 [==============================] - 67s 70ms/step - loss: 0.4291 - accuracy: 0.8088 - val_loss: 0.5009 - val_accuracy: 0.7555\n",
      "Epoch 4/50\n",
      "966/966 [==============================] - 67s 70ms/step - loss: 0.4188 - accuracy: 0.8144 - val_loss: 0.4160 - val_accuracy: 0.8195\n",
      "Epoch 5/50\n",
      "966/966 [==============================] - 67s 70ms/step - loss: 0.4122 - accuracy: 0.8174 - val_loss: 0.3995 - val_accuracy: 0.8239\n",
      "Epoch 6/50\n",
      "966/966 [==============================] - 68s 70ms/step - loss: 0.4089 - accuracy: 0.8200 - val_loss: 0.3953 - val_accuracy: 0.8285\n",
      "Epoch 7/50\n",
      "966/966 [==============================] - 68s 70ms/step - loss: 0.4032 - accuracy: 0.8210 - val_loss: 0.4128 - val_accuracy: 0.8129\n",
      "Epoch 8/50\n",
      "966/966 [==============================] - 68s 70ms/step - loss: 0.3975 - accuracy: 0.8248 - val_loss: 0.3960 - val_accuracy: 0.8265\n",
      "Epoch 9/50\n",
      "966/966 [==============================] - 68s 70ms/step - loss: 0.3951 - accuracy: 0.8252 - val_loss: 0.4111 - val_accuracy: 0.8169\n",
      "Epoch 10/50\n",
      "966/966 [==============================] - 68s 70ms/step - loss: 0.3940 - accuracy: 0.8249 - val_loss: 0.3928 - val_accuracy: 0.8284\n",
      "Epoch 11/50\n",
      "966/966 [==============================] - 68s 70ms/step - loss: 0.3886 - accuracy: 0.8294 - val_loss: 0.4217 - val_accuracy: 0.8077\n",
      "Epoch 12/50\n",
      "966/966 [==============================] - 68s 70ms/step - loss: 0.3872 - accuracy: 0.8297 - val_loss: 0.5102 - val_accuracy: 0.7867\n",
      "Epoch 13/50\n",
      "966/966 [==============================] - 68s 70ms/step - loss: 0.3880 - accuracy: 0.8274 - val_loss: 0.3866 - val_accuracy: 0.8323\n",
      "Epoch 14/50\n",
      "966/966 [==============================] - 68s 70ms/step - loss: 0.3826 - accuracy: 0.8314 - val_loss: 0.3839 - val_accuracy: 0.8370\n",
      "Epoch 15/50\n",
      "966/966 [==============================] - 68s 70ms/step - loss: 0.3829 - accuracy: 0.8310 - val_loss: 0.3947 - val_accuracy: 0.8249\n",
      "Epoch 16/50\n",
      "966/966 [==============================] - 68s 70ms/step - loss: 0.3798 - accuracy: 0.8335 - val_loss: 0.4009 - val_accuracy: 0.8174\n",
      "Epoch 17/50\n",
      "966/966 [==============================] - 68s 70ms/step - loss: 0.3784 - accuracy: 0.8346 - val_loss: 0.3828 - val_accuracy: 0.8402\n",
      "Epoch 18/50\n",
      "966/966 [==============================] - 68s 70ms/step - loss: 0.3741 - accuracy: 0.8349 - val_loss: 0.5162 - val_accuracy: 0.7366\n",
      "Epoch 19/50\n",
      "966/966 [==============================] - 68s 70ms/step - loss: 0.3731 - accuracy: 0.8381 - val_loss: 0.3814 - val_accuracy: 0.8362\n",
      "Epoch 20/50\n",
      "966/966 [==============================] - 68s 70ms/step - loss: 0.3729 - accuracy: 0.8364 - val_loss: 0.4159 - val_accuracy: 0.8157\n",
      "Epoch 21/50\n",
      "966/966 [==============================] - 68s 70ms/step - loss: 0.3724 - accuracy: 0.8351 - val_loss: 0.4772 - val_accuracy: 0.8026\n",
      "Epoch 22/50\n",
      "966/966 [==============================] - 68s 70ms/step - loss: 0.3701 - accuracy: 0.8373 - val_loss: 0.4152 - val_accuracy: 0.8170\n",
      "Epoch 23/50\n",
      "966/966 [==============================] - 68s 70ms/step - loss: 0.3706 - accuracy: 0.8363 - val_loss: 0.3831 - val_accuracy: 0.8355\n",
      "Epoch 24/50\n",
      "966/966 [==============================] - 68s 70ms/step - loss: 0.3653 - accuracy: 0.8400 - val_loss: 0.3877 - val_accuracy: 0.8327\n",
      "Epoch 25/50\n",
      "966/966 [==============================] - 68s 70ms/step - loss: 0.3645 - accuracy: 0.8413 - val_loss: 0.3890 - val_accuracy: 0.8296\n",
      "Epoch 26/50\n",
      "966/966 [==============================] - 68s 70ms/step - loss: 0.3631 - accuracy: 0.8418 - val_loss: 0.3970 - val_accuracy: 0.8244\n",
      "Epoch 27/50\n",
      "966/966 [==============================] - 68s 70ms/step - loss: 0.3643 - accuracy: 0.8409 - val_loss: 0.3816 - val_accuracy: 0.8383\n",
      "Epoch 28/50\n",
      "966/966 [==============================] - 68s 70ms/step - loss: 0.3611 - accuracy: 0.8417 - val_loss: 0.3765 - val_accuracy: 0.8376\n",
      "Epoch 29/50\n",
      "966/966 [==============================] - 68s 70ms/step - loss: 0.3610 - accuracy: 0.8410 - val_loss: 0.6191 - val_accuracy: 0.6702\n",
      "Epoch 30/50\n",
      "966/966 [==============================] - 68s 70ms/step - loss: 0.3603 - accuracy: 0.8421 - val_loss: 0.3928 - val_accuracy: 0.8340\n",
      "Epoch 31/50\n",
      "966/966 [==============================] - 68s 70ms/step - loss: 0.3584 - accuracy: 0.8436 - val_loss: 0.6729 - val_accuracy: 0.6439\n",
      "Epoch 32/50\n",
      "966/966 [==============================] - 68s 70ms/step - loss: 0.3561 - accuracy: 0.8435 - val_loss: 0.3918 - val_accuracy: 0.8315\n",
      "Epoch 33/50\n",
      "966/966 [==============================] - 68s 70ms/step - loss: 0.3582 - accuracy: 0.8436 - val_loss: 0.4523 - val_accuracy: 0.8085\n",
      "Epoch 34/50\n",
      "966/966 [==============================] - 68s 70ms/step - loss: 0.3537 - accuracy: 0.8460 - val_loss: 0.3740 - val_accuracy: 0.8428\n",
      "Epoch 35/50\n",
      "966/966 [==============================] - 68s 70ms/step - loss: 0.3541 - accuracy: 0.8461 - val_loss: 0.3812 - val_accuracy: 0.8399\n",
      "Epoch 36/50\n",
      "966/966 [==============================] - 68s 70ms/step - loss: 0.3515 - accuracy: 0.8473 - val_loss: 0.5078 - val_accuracy: 0.7941\n",
      "Epoch 37/50\n",
      "966/966 [==============================] - 68s 70ms/step - loss: 0.3516 - accuracy: 0.8463 - val_loss: 0.4471 - val_accuracy: 0.8138\n",
      "Epoch 38/50\n",
      "966/966 [==============================] - 68s 70ms/step - loss: 0.3511 - accuracy: 0.8454 - val_loss: 0.3886 - val_accuracy: 0.8328\n",
      "Epoch 39/50\n",
      "966/966 [==============================] - 68s 70ms/step - loss: 0.3489 - accuracy: 0.8481 - val_loss: 0.3845 - val_accuracy: 0.8358\n",
      "Epoch 40/50\n",
      "966/966 [==============================] - 68s 70ms/step - loss: 0.3490 - accuracy: 0.8482 - val_loss: 0.4751 - val_accuracy: 0.8055\n",
      "Epoch 41/50\n",
      "966/966 [==============================] - 68s 70ms/step - loss: 0.3516 - accuracy: 0.8472 - val_loss: 0.3748 - val_accuracy: 0.8390\n",
      "Epoch 42/50\n",
      "966/966 [==============================] - 68s 70ms/step - loss: 0.3473 - accuracy: 0.8472 - val_loss: 0.4157 - val_accuracy: 0.8195\n",
      "Epoch 43/50\n",
      "966/966 [==============================] - 68s 70ms/step - loss: 0.3479 - accuracy: 0.8488 - val_loss: 0.5494 - val_accuracy: 0.7936\n",
      "Epoch 44/50\n",
      "966/966 [==============================] - 68s 70ms/step - loss: 0.3447 - accuracy: 0.8482 - val_loss: 0.3796 - val_accuracy: 0.8380\n",
      "Epoch 45/50\n",
      "966/966 [==============================] - 68s 70ms/step - loss: 0.3451 - accuracy: 0.8480 - val_loss: 0.3910 - val_accuracy: 0.8272\n",
      "Epoch 46/50\n",
      "966/966 [==============================] - 68s 70ms/step - loss: 0.3441 - accuracy: 0.8510 - val_loss: 0.3828 - val_accuracy: 0.8375\n",
      "Epoch 47/50\n",
      "966/966 [==============================] - 68s 70ms/step - loss: 0.3425 - accuracy: 0.8496 - val_loss: 0.4629 - val_accuracy: 0.7707\n",
      "Epoch 48/50\n",
      "966/966 [==============================] - 68s 70ms/step - loss: 0.3410 - accuracy: 0.8513 - val_loss: 0.4854 - val_accuracy: 0.8065\n",
      "Epoch 49/50\n",
      "966/966 [==============================] - 68s 70ms/step - loss: 0.3406 - accuracy: 0.8512 - val_loss: 0.3735 - val_accuracy: 0.8389\n",
      "Epoch 50/50\n",
      "966/966 [==============================] - 68s 70ms/step - loss: 0.3429 - accuracy: 0.8510 - val_loss: 0.4525 - val_accuracy: 0.8157\n",
      "Elapsed time: 3386.9471638202667\n"
     ]
    }
   ],
   "source": [
    "model.compile(loss=\"sparse_categorical_crossentropy\",\n",
    "           optimizer=\"sgd\",\n",
    "           metrics=[\"accuracy\"])\n",
    "EPOCHS=50\n",
    "start = time.time()\n",
    "hist = model.fit(train_dataset,validation_data=valid_dataset,epochs=EPOCHS)\n",
    "end = time.time()\n",
    "print(\"Elapsed time:\",end-start)"
   ]
  },
  {
   "cell_type": "code",
   "execution_count": 8,
   "metadata": {
    "scrolled": true
   },
   "outputs": [
    {
     "data": {
      "image/png": "[encoded data removed]",
      "text/plain": [
       "<Figure size 576x360 with 1 Axes>"
      ]
     },
     "metadata": {
      "needs_background": "light"
     },
     "output_type": "display_data"
    }
   ],
   "source": [
    "pd.DataFrame(hist.history).plot(figsize=(8,5))\n",
    "plt.grid(True)\n",
    "plt.gca().set_ylim(0.0,1.0)\n",
    "plt.show()"
   ]
  },
  {
   "cell_type": "code",
   "execution_count": 9,
   "metadata": {},
   "outputs": [
    {
     "name": "stdout",
     "output_type": "stream",
     "text": [
      "INFO:tensorflow:Assets written to: /home/jrm/Martinez/models/HE_Filter.026/assets\n"
     ]
    }
   ],
   "source": [
    "model.save(filepath)"
   ]
  },
  {
   "cell_type": "markdown",
   "metadata": {},
   "source": [
    "Training set: 23977 Ypos, 6917 Yneg. Pos=0.7761  \n",
    "Validation set: 5995 Ypos, 1729 Yneg. Pos= 0.7762  "
   ]
  },
  {
   "cell_type": "code",
   "execution_count": null,
   "metadata": {},
   "outputs": [],
   "source": []
  }
 ],
 "metadata": {
  "kernelspec": {
   "display_name": "Python 3",
   "language": "python",
   "name": "python3"
  },
  "language_info": {
   "codemirror_mode": {
    "name": "ipython",
    "version": 3
   },
   "file_extension": ".py",
   "mimetype": "text/x-python",
   "name": "python",
   "nbconvert_exporter": "python",
   "pygments_lexer": "ipython3",
   "version": "3.8.10"
  }
 },
 "nbformat": 4,
 "nbformat_minor": 4
}
