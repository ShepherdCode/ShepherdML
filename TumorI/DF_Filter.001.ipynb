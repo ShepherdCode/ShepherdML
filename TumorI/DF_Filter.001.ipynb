{
 "cells": [
  {
   "cell_type": "markdown",
   "metadata": {},
   "source": [
    "# Filter background from D&F images.\n",
    "We have combined DAPI (blue) and FLUORO (green) images.  \n",
    "Here, partition each image into patches.  \n",
    "Filter the background (mostly-black) patches.\n",
    "\n",
    "Resources:  \n",
    "https://stackoverflow.com/questions/43111029/how-to-find-the-average-colour-of-an-image-in-python-with-opencv"
   ]
  },
  {
   "cell_type": "code",
   "execution_count": 1,
   "metadata": {},
   "outputs": [],
   "source": [
    "import os\n",
    "import glob\n",
    "import cv2 # OpenCV-Python\n",
    "from PIL import Image\n",
    "Image.MAX_IMAGE_PIXELS = None\n",
    "import numpy as np\n",
    "import json\n",
    "\n",
    "DIR_IMAGES_RAW = \"/home/jrm/Martinez/images/raw/\"\n",
    "PATTERN_IMAGES_RAW = \"*.DF1.*.tif\"\n",
    "PATCH_SIZE=224  # matches VGG\n",
    "\n",
    "### pixel_list = pixel_array.tolist()  # slow !"
   ]
  },
  {
   "cell_type": "code",
   "execution_count": 2,
   "metadata": {},
   "outputs": [],
   "source": [
    "def get_image_names(path,pattern):\n",
    "    #RAW_IMAGE_NAMES = os.listdir(DIR_IMAGES_RAW)\n",
    "    paths = glob.glob(path+pattern)\n",
    "    names = [os.path.basename(x) for x in paths]\n",
    "    return names\n",
    "FILENAMES_IMAGES_RAW = get_image_names(DIR_IMAGES_RAW,PATTERN_IMAGES_RAW)"
   ]
  },
  {
   "cell_type": "code",
   "execution_count": 3,
   "metadata": {},
   "outputs": [],
   "source": [
    "def load_pixel_array(path,filename,verbose=False):\n",
    "    im = Image.open(path+filename)\n",
    "    ima = np.array(im)   # convert to numpy\n",
    "    if verbose:\n",
    "        print(filename, ima.size, ima.shape)\n",
    "    return ima"
   ]
  },
  {
   "cell_type": "code",
   "execution_count": 4,
   "metadata": {},
   "outputs": [
    {
     "name": "stdout",
     "output_type": "stream",
     "text": [
      "['F15.DF1.135.tif', 'D5.DF1.43.tif', 'H3.DF1.27.tif', 'C11.DF1.96.tif', 'H13.DF1.114.tif', 'I1.DF1.09.tif', 'G3.DF1.25.tif', 'C1.DF1.01.tif', 'F11.DF1.94.tif', 'F9.DF1.80.tif', 'H7.DF1.62.tif', 'A3.DF1.26.tif', 'A5.DF1.45.tif', 'H15.DF1.132.tif', 'D1.DF1.02.tif', 'G15.DF1.133.tif', 'B15.DF1.134.tif', 'I5.DF1.48.tif', 'E9.DF1.75.tif', 'I13.DF1.117.tif', 'F3.DF1.22.tif', 'B7.DF1.60.tif', 'B13.DF1.115.tif', 'E7.DF1.64.tif', 'F7.DF1.63.tif', 'D3.DF1.20.tif', 'E5.DF1.42.tif', 'H1.DF1.07.tif']\n"
     ]
    }
   ],
   "source": [
    "print(FILENAMES_IMAGES_RAW)"
   ]
  },
  {
   "cell_type": "code",
   "execution_count": 17,
   "metadata": {},
   "outputs": [
    {
     "name": "stdout",
     "output_type": "stream",
     "text": [
      "H1.DF1.07.tif 479598264 (12513, 12776, 3)\n",
      "Average [ 0.         40.01907205 28.02747956] STD [ 0.         25.25630313 43.83137465]\n",
      "[ 0 35  2]\n"
     ]
    }
   ],
   "source": [
    "pixel_array = load_pixel_array(DIR_IMAGES_RAW,'H1.DF1.07.tif',True)\n",
    "avg = np.average(pixel_array,axis=(0,1))\n",
    "std = np.std(pixel_array,axis=(0,1))\n",
    "print(\"Average\",avg,\"STD\",std)\n",
    "print(pixel_array[0,0])"
   ]
  },
  {
   "cell_type": "code",
   "execution_count": 23,
   "metadata": {},
   "outputs": [
    {
     "name": "stdout",
     "output_type": "stream",
     "text": [
      "True [ 0 35  2]\n",
      "(12513, 12776)\n",
      "188607\n"
     ]
    }
   ],
   "source": [
    "# Count pixels equal to a specific color\n",
    "background=np.array( [0,35,2] )\n",
    "background_pixels = np.all(pixel_array==background,axis=2)\n",
    "sum=np.sum(background_pixels)\n",
    "print(background_pixels[0,0],pixel_array[0,0])\n",
    "print(background_pixels.shape)\n",
    "print(sum)"
   ]
  },
  {
   "cell_type": "code",
   "execution_count": 24,
   "metadata": {},
   "outputs": [
    {
     "name": "stdout",
     "output_type": "stream",
     "text": [
      "False [ 0 35  2]\n",
      "(12513, 12776)\n",
      "3945345\n"
     ]
    }
   ],
   "source": [
    "# Count pixels darker than grey\n",
    "background=np.array( [15,15,15] )\n",
    "background_pixels = np.all(pixel_array<background,axis=2)\n",
    "sum=np.sum(background_pixels)\n",
    "print(background_pixels[0,0],pixel_array[0,0])\n",
    "print(background_pixels.shape)\n",
    "print(sum)\n"
   ]
  },
  {
   "cell_type": "code",
   "execution_count": null,
   "metadata": {},
   "outputs": [],
   "source": []
  },
  {
   "cell_type": "code",
   "execution_count": null,
   "metadata": {},
   "outputs": [],
   "source": []
  },
  {
   "cell_type": "code",
   "execution_count": null,
   "metadata": {},
   "outputs": [],
   "source": []
  }
 ],
 "metadata": {
  "kernelspec": {
   "display_name": "Python 3",
   "language": "python",
   "name": "python3"
  },
  "language_info": {
   "codemirror_mode": {
    "name": "ipython",
    "version": 3
   },
   "file_extension": ".py",
   "mimetype": "text/x-python",
   "name": "python",
   "nbconvert_exporter": "python",
   "pygments_lexer": "ipython3",
   "version": "3.8.10"
  }
 },
 "nbformat": 4,
 "nbformat_minor": 4
}
