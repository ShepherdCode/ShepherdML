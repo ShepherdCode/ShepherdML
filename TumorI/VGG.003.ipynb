{
 "cells": [
  {
   "cell_type": "markdown",
   "metadata": {},
   "source": [
    "# VGG\n",
    "See https://towardsdatascience.com/extract-features-visualize-filters-and-feature-maps-in-vgg16-and-vgg19-cnn-models-d2da6333edd0"
   ]
  },
  {
   "cell_type": "code",
   "execution_count": 1,
   "metadata": {},
   "outputs": [],
   "source": [
    "from tensorflow.keras.applications.vgg16 import VGG16\n",
    "from tensorflow.keras.preprocessing import image\n",
    "from tensorflow.keras.applications.vgg16 import preprocess_input\n",
    "import numpy as np"
   ]
  },
  {
   "cell_type": "code",
   "execution_count": 2,
   "metadata": {},
   "outputs": [],
   "source": [
    "model = VGG16(weights='imagenet',include_top=False)\n",
    "img_path = '/home/jrm/Martinez/images/patches/I1.DF1.09.001.tif'\n",
    "img = image.load_img(img_path, target_size=None) # do we need target_size?\n",
    "x = image.img_to_array(img)\n",
    "x = np.expand_dims(x,axis=0)\n",
    "x = preprocess_input(x)"
   ]
  },
  {
   "cell_type": "code",
   "execution_count": 3,
   "metadata": {
    "scrolled": true
   },
   "outputs": [
    {
     "name": "stdout",
     "output_type": "stream",
     "text": [
      "(1, 26, 26, 512)\n",
      "[[[[0.        0.        0.        ... 0.        5.299581  0.       ]\n",
      "   [0.        0.        0.        ... 0.        2.4997392 0.       ]\n",
      "   [0.        0.        0.        ... 0.        0.        0.       ]\n",
      "   ...\n",
      "   [0.        0.        0.        ... 0.        9.623112  0.       ]\n",
      "   [0.        0.        0.        ... 0.        1.6664672 0.       ]\n",
      "   [0.        0.        0.        ... 0.        0.        0.       ]]\n",
      "\n",
      "  [[0.        0.        0.        ... 0.        1.4562607 0.       ]\n",
      "   [0.        0.        0.        ... 0.        5.097715  0.       ]\n",
      "   [0.        0.        0.        ... 0.        0.        0.       ]\n",
      "   ...\n",
      "   [0.        0.        0.        ... 0.        0.        0.       ]\n",
      "   [0.        0.        0.        ... 0.        0.        0.       ]\n",
      "   [0.        0.        0.        ... 0.        0.        0.       ]]\n",
      "\n",
      "  [[0.        0.        0.        ... 0.        0.        0.       ]\n",
      "   [0.        0.        0.        ... 0.        2.8708346 0.       ]\n",
      "   [0.        0.        0.        ... 0.        0.        0.       ]\n",
      "   ...\n",
      "   [0.        0.        0.        ... 0.        0.        0.       ]\n",
      "   [0.        0.        0.        ... 0.        0.        0.       ]\n",
      "   [0.        0.        0.        ... 0.        0.        0.       ]]\n",
      "\n",
      "  ...\n",
      "\n",
      "  [[0.        0.        0.        ... 0.        1.0666058 2.3059595]\n",
      "   [0.        0.        0.        ... 0.        0.        3.141401 ]\n",
      "   [0.        0.        0.        ... 0.        0.        0.       ]\n",
      "   ...\n",
      "   [0.        0.        0.        ... 0.        0.        0.       ]\n",
      "   [0.        0.        0.        ... 0.        0.        0.       ]\n",
      "   [0.        0.        0.        ... 0.        0.        0.       ]]\n",
      "\n",
      "  [[0.        0.        0.        ... 0.        0.6907578 0.       ]\n",
      "   [0.        0.        0.        ... 0.        0.        0.       ]\n",
      "   [0.        0.        0.        ... 0.        0.        0.       ]\n",
      "   ...\n",
      "   [0.        0.        0.        ... 0.        0.        0.       ]\n",
      "   [0.        0.        0.        ... 0.        0.        0.       ]\n",
      "   [0.        0.        0.        ... 0.        0.        0.       ]]\n",
      "\n",
      "  [[0.        0.        0.        ... 0.        0.        0.       ]\n",
      "   [0.        0.        0.        ... 0.        0.        0.       ]\n",
      "   [0.        0.        1.5681384 ... 0.        0.        0.       ]\n",
      "   ...\n",
      "   [0.        0.        0.        ... 0.        0.        0.       ]\n",
      "   [0.        0.        0.        ... 0.        0.        0.       ]\n",
      "   [0.        0.        0.        ... 0.        0.        0.       ]]]]\n"
     ]
    }
   ],
   "source": [
    "features = model.predict(x)\n",
    "print(features.shape)\n",
    "print(features)"
   ]
  },
  {
   "cell_type": "markdown",
   "metadata": {},
   "source": [
    "## Console ouput\n",
    "\n",
    "2022-01-11 14:47:00.667620: W tensorflow/stream_executor/platform/default/dso_loader.cc:64] Could not load dynamic library 'libcudart.so.11.0'; dlerror: libcudart.so.11.0: cannot open shared object file: No such file or directory\n",
    "2022-01-11 14:47:00.667638: I tensorflow/stream_executor/cuda/cudart_stub.cc:29] Ignore above cudart dlerror if you do not have a GPU set up on your machine.\n",
    "2022-01-11 14:47:01.965216: I tensorflow/stream_executor/cuda/cuda_gpu_executor.cc:939] successful NUMA node read from SysFS had negative value (-1), but there must be at least one NUMA node, so returning NUMA node zero\n",
    "2022-01-11 14:47:01.965449: W tensorflow/stream_executor/platform/default/dso_loader.cc:64] Could not load dynamic library 'libcudart.so.11.0'; dlerror: libcudart.so.11.0: cannot open shared object file: No such file or directory\n",
    "2022-01-11 14:47:01.965483: W tensorflow/stream_executor/platform/default/dso_loader.cc:64] Could not load dynamic library 'libcublas.so.11'; dlerror: libcublas.so.11: cannot open shared object file: No such file or directory\n",
    "2022-01-11 14:47:01.965504: W tensorflow/stream_executor/platform/default/dso_loader.cc:64] Could not load dynamic library 'libcublasLt.so.11'; dlerror: libcublasLt.so.11: cannot open shared object file: No such file or directory\n",
    "2022-01-11 14:47:01.965526: W tensorflow/stream_executor/platform/default/dso_loader.cc:64] Could not load dynamic library 'libcufft.so.10'; dlerror: libcufft.so.10: cannot open shared object file: No such file or directory\n",
    "2022-01-11 14:47:01.965549: W tensorflow/stream_executor/platform/default/dso_loader.cc:64] Could not load dynamic library 'libcurand.so.10'; dlerror: libcurand.so.10: cannot open shared object file: No such file or directory\n",
    "2022-01-11 14:47:01.965570: W tensorflow/stream_executor/platform/default/dso_loader.cc:64] Could not load dynamic library 'libcusolver.so.11'; dlerror: libcusolver.so.11: cannot open shared object file: No such file or directory\n",
    "2022-01-11 14:47:01.965590: W tensorflow/stream_executor/platform/default/dso_loader.cc:64] Could not load dynamic library 'libcusparse.so.11'; dlerror: libcusparse.so.11: cannot open shared object file: No such file or directory\n",
    "2022-01-11 14:47:01.965670: W tensorflow/core/common_runtime/gpu/gpu_device.cc:1850] Cannot dlopen some GPU libraries. Please make sure the missing libraries mentioned above are installed properly if you would like to use GPU. Follow the guide at https://www.tensorflow.org/install/gpu for how to download and setup the required libraries for your platform.\n",
    "Skipping registering GPU devices...\n",
    "2022-01-11 14:47:01.965948: I tensorflow/core/platform/cpu_feature_guard.cc:151] This TensorFlow binary is optimized with oneAPI Deep Neural Network Library (oneDNN) to use the following CPU instructions in performance-critical operations:  AVX2 AVX512F FMA\n",
    "To enable them in other operations, rebuild TensorFlow with the appropriate compiler flags.\n",
    "2022-01-11 14:47:02.257229: W tensorflow/core/framework/cpu_allocator_impl.cc:82] Allocation of 190660864 exceeds 10% of free system memory.\n",
    "2022-01-11 14:47:02.320090: W tensorflow/core/framework/cpu_allocator_impl.cc:82] Allocation of 190660864 exceeds 10% of free system memory.\n"
   ]
  },
  {
   "cell_type": "markdown",
   "metadata": {},
   "source": [
    "The file is there!  \n",
    "lrwxrwxrwx 1 root root 21 Jan 11 13:50 /usr/local/cuda-11.5/targets/x86_64-linux/lib/libcudart.so.11.0 -> libcudart.so.11.5.117\n",
    "\n",
    "And our LD_LIBRARY_PATH is\n",
    "$ echo $LD_LIBRARY_PATH\n",
    "/usr/local/cuda:/usr/local/cuda/lib64:/usr/local/cuda/targets:/usr/local/cuda/targets/x86_64-linux:/usr/local/cuda/targets/x86_64-linux/lib\n",
    "\n",
    "\n",
    "But TensorFlow doesn't see it."
   ]
  }
 ],
 "metadata": {
  "kernelspec": {
   "display_name": "Python 3",
   "language": "python",
   "name": "python3"
  },
  "language_info": {
   "codemirror_mode": {
    "name": "ipython",
    "version": 3
   },
   "file_extension": ".py",
   "mimetype": "text/x-python",
   "name": "python",
   "nbconvert_exporter": "python",
   "pygments_lexer": "ipython3",
   "version": "3.8.10"
  }
 },
 "nbformat": 4,
 "nbformat_minor": 4
}
