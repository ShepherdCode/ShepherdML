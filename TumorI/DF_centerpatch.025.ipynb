{
 "cells": [
  {
   "cell_type": "markdown",
   "metadata": {},
   "source": [
    "# Make patches from center of DF images\n",
    "Make training set: patches from Y-pos vs Y-neg images.  \n",
    "Populate training subdirectories named Ypos or Yneg.  \n",
    "(This notebook is a modification to HE_centerpatch.025)  "
   ]
  },
  {
   "cell_type": "code",
   "execution_count": 1,
   "metadata": {},
   "outputs": [],
   "source": [
    "import time\n",
    "import os\n",
    "import glob\n",
    "from PIL import Image\n",
    "Image.MAX_IMAGE_PIXELS = None\n",
    "import numpy as np\n",
    "import json\n",
    "import tensorflow as tf\n",
    "from tensorflow import keras\n",
    "import keras.layers as kl\n",
    "import pandas as pd\n",
    "import matplotlib.pyplot as plt"
   ]
  },
  {
   "cell_type": "code",
   "execution_count": 2,
   "metadata": {},
   "outputs": [],
   "source": [
    "DIR_IMAGES_RAW = \"/home/jrm/Martinez/images/raw/\"\n",
    "DIR_IMAGES_TRAIN = \"/home/jrm/Martinez/images/DFcenterpatch/train/\"\n",
    "DIR_IMAGES_VALID = \"/home/jrm/Martinez/images/DFcenterpatch/valid/\"\n",
    "PATTERN_IMAGES_RAW = \"*.DF1.*.tif\"\n",
    "PATCH_SIZE=224  # matches VGG\n",
    "IMAGE_SIZE = (PATCH_SIZE,PATCH_SIZE)\n",
    "# Classification based on visual inspection of DAPI+FLUORO images.\n",
    "# These 3-character strings are unique filename prefixes.\n",
    "DF_Ypos = ['B7.','B15','D1.','D5.','E7.','E9.','F9.','G3.','H13','I1.','I5.','I13']\n",
    "DF_Yneg = ['A3.','A5.','B13','C1.','C11','D3.','E5.','F3.','F7.','F11','F13','F15','G15','H1.','H3.','H7.','H15']"
   ]
  },
  {
   "cell_type": "code",
   "execution_count": 3,
   "metadata": {},
   "outputs": [],
   "source": [
    "def get_image_names(path,pattern):\n",
    "    paths = glob.glob(path+pattern)\n",
    "    names = [os.path.basename(x) for x in paths]\n",
    "    return names\n",
    "FILENAMES_IMAGES_RAW = get_image_names(DIR_IMAGES_RAW,PATTERN_IMAGES_RAW)"
   ]
  },
  {
   "cell_type": "code",
   "execution_count": 4,
   "metadata": {},
   "outputs": [],
   "source": [
    "class patch_maker:\n",
    "    def __init__(self):\n",
    "        self.path=\"\"\n",
    "        self.w=0\n",
    "        self.h=0\n",
    "        self.im_width = 0\n",
    "        self.im_height = 0\n",
    "        self.patch_size = 10 # scalar, assumed square for now\n",
    "        self.pixel_array = None\n",
    "        self.output_dir = \"\"\n",
    "        self.output_format='.jpg'\n",
    "        self.center=(0.0,0.0)\n",
    "        self.radial_threshold = 0.0\n",
    "        self.BORDER = 200\n",
    "    def set_input_path(self,path):\n",
    "        self.path=path\n",
    "    def set_output_path(self,path):\n",
    "        self.output_dir = path\n",
    "    def set_patch_size(self,scalar):\n",
    "        self.patch_size = scalar\n",
    "    def load_pixel_array(self,filename,verbose=False):\n",
    "        self.w=0\n",
    "        self.h=0\n",
    "        im = Image.open(self.path+filename)\n",
    "        ima = np.array(im)   # convert to numpy\n",
    "        self.im_width = ima.shape[1]\n",
    "        self.im_height = ima.shape[0]\n",
    "        self.center=(self.im_width/2,self.im_height/2)\n",
    "        self.radial_threshold = min(self.im_width,self.im_height)/2-self.BORDER\n",
    "        if verbose:\n",
    "            print(filename, ima.size, ima.shape)\n",
    "        self.pixel_array = ima\n",
    "        return ima\n",
    "    def radius(self,x,y):\n",
    "        return np.sqrt((x-self.center[0])**2+(y-self.center[1])**2)\n",
    "    def get_next_patch(self): \n",
    "        IM_WIDTH = self.im_width\n",
    "        IM_HEIGHT = self.im_height\n",
    "        PIXEL_ARRAY = self.pixel_array\n",
    "        patch = None\n",
    "        if self.w+self.patch_size > IM_WIDTH:\n",
    "            self.h += self.patch_size\n",
    "            self.w = 0\n",
    "        if self.w+self.patch_size <= IM_WIDTH and self.h+self.patch_size <= IM_HEIGHT:\n",
    "            patch = PIXEL_ARRAY[self.h:self.h+self.patch_size, self.w:self.w+self.patch_size]\n",
    "            self.w += self.patch_size\n",
    "        return patch\n",
    "    def get_next_center_patch(self):\n",
    "        patch = self.get_next_patch()\n",
    "        while (patch is not None):\n",
    "            radius1 = self.radius(self.w,self.h)\n",
    "            radius2 = self.radius(self.w,self.h+self.patch_size)\n",
    "            radius3 = self.radius(self.w+self.patch_size,self.h)\n",
    "            radius4 = self.radius(self.w+self.patch_size,self.h+self.patch_size)\n",
    "            max_radius=max(radius1,radius2,radius3,radius4)\n",
    "            if max_radius < self.radial_threshold:\n",
    "                #print(\"Good\",self.w,self.h)\n",
    "                return patch\n",
    "            #print(\"Bad\",self.w,self.h)\n",
    "            patch = self.get_next_patch()\n",
    "        return None\n",
    "    def save_patch (self, prefix, pnum, patch):\n",
    "        ext = self.output_format\n",
    "        path= self.output_dir+prefix+'.'+str(pnum)+ext\n",
    "        im =  Image.fromarray(patch)\n",
    "        im.save(path)"
   ]
  },
  {
   "cell_type": "code",
   "execution_count": 5,
   "metadata": {},
   "outputs": [
    {
     "name": "stdout",
     "output_type": "stream",
     "text": [
      "F15.DF1.135.tif F15 Yneg (12513, 12776, 3) 2187\n",
      "D5.DF1.43.tif D5_ Ypos (12513, 12776, 3) 2187\n",
      "H3.DF1.27.tif H3_ Yneg (12513, 12776, 3) 2187\n",
      "C11.DF1.96.tif C11 Yneg (12513, 12776, 3) 2187\n",
      "H13.DF1.114.tif H13 Ypos (12513, 12776, 3) 2187\n",
      "I1.DF1.09.tif I1_ Ypos (12513, 12776, 3) 2187\n",
      "G3.DF1.25.tif G3_ Ypos (12513, 12776, 3) 2187\n",
      "C1.DF1.01.tif C1_ Yneg (12513, 12776, 3) 2187\n",
      "F11.DF1.94.tif F11 Yneg (12513, 12776, 3) 2187\n",
      "F9.DF1.80.tif F9_ Ypos (12513, 12776, 3) 2187\n",
      "H7.DF1.62.tif H7_ Yneg (12513, 12776, 3) 2187\n",
      "A3.DF1.26.tif A3_ Yneg (12513, 12776, 3) 2187\n",
      "A5.DF1.45.tif A5_ Yneg (12513, 12776, 3) 2187\n",
      "H15.DF1.132.tif H15 Yneg (12513, 12776, 3) 2187\n",
      "D1.DF1.02.tif D1_ Ypos (12513, 12776, 3) 2187\n",
      "G15.DF1.133.tif G15 Yneg (12513, 12776, 3) 2187\n",
      "B15.DF1.134.tif B15 Ypos (12513, 12776, 3) 2187\n",
      "I5.DF1.48.tif I5_ Ypos (12513, 12776, 3) 2187\n",
      "E9.DF1.75.tif E9_ Ypos (12513, 12776, 3) 2187\n",
      "I13.DF1.117.tif I13 Ypos (12513, 12776, 3) 2187\n",
      "F3.DF1.22.tif F3_ Yneg (12513, 12776, 3) 2187\n",
      "B7.DF1.60.tif B7_ Ypos (12513, 12776, 3) 2187\n",
      "B13.DF1.115.tif B13 Yneg (12513, 12776, 3) 2187\n",
      "E7.DF1.64.tif E7_ Ypos (12513, 12776, 3) 2187\n",
      "F7.DF1.63.tif F7_ Yneg (12513, 12776, 3) 2187\n",
      "D3.DF1.20.tif D3_ Yneg (12513, 12776, 3) 2187\n",
      "E5.DF1.42.tif E5_ Yneg (12513, 12776, 3) 2187\n",
      "H1.DF1.07.tif H1_ Yneg (12513, 12776, 3) 2187\n",
      "Done\n"
     ]
    }
   ],
   "source": [
    "pm = patch_maker()\n",
    "pm.set_input_path(DIR_IMAGES_RAW)\n",
    "pm.set_patch_size(PATCH_SIZE)\n",
    "pm.set_output_path(DIR_IMAGES_TRAIN)  # later, move 20% of files to VALID\n",
    "success = True\n",
    "for filename in FILENAMES_IMAGES_RAW:\n",
    "    print(filename,end=\" \")  # so user sees we're working on this file\n",
    "    prefix = filename[0:3]\n",
    "    if prefix in DF_Yneg:\n",
    "        phenotype = 'Yneg'\n",
    "    elif prefix in DF_Ypos:\n",
    "        phenotype = 'Ypos'\n",
    "    else:\n",
    "        print (\"ERROR: Unrecognizable filename!\")\n",
    "        success = False\n",
    "        break\n",
    "    if prefix[2] == '.':  # distinguish prefixes like F1. from F13\n",
    "        prefix=prefix[0:2]+\"_\"  \n",
    "    pixels = pm.load_pixel_array(filename)\n",
    "    print(prefix,phenotype,pixels.shape,end=\" \")\n",
    "    patch = pm.get_next_center_patch()\n",
    "    patch_count = 0\n",
    "    while patch is not None:\n",
    "        patch_count += 1\n",
    "        pm.save_patch(phenotype+'/'+prefix,patch_count,patch)\n",
    "        patch = pm.get_next_center_patch()\n",
    "    print(patch_count)\n",
    "if success:\n",
    "    print(\"Done\")"
   ]
  },
  {
   "cell_type": "code",
   "execution_count": 6,
   "metadata": {},
   "outputs": [
    {
     "name": "stdout",
     "output_type": "stream",
     "text": [
      "Done\n"
     ]
    }
   ],
   "source": [
    "# Move a portion of the train files into the valid directory.\n",
    "if success:\n",
    "    from random import sample\n",
    "    VALIDATION_PORTION = 0.20\n",
    "    for phenotype in ('Ypos','Yneg'):\n",
    "        fromdir = DIR_IMAGES_TRAIN+\"/\"+phenotype+\"/\"\n",
    "        todir   = DIR_IMAGES_VALID+\"/\"+phenotype+\"/\"\n",
    "        files = os.listdir(fromdir)\n",
    "        total = len(files)\n",
    "        selected = sample(files, int(VALIDATION_PORTION*total))\n",
    "        for vfile in selected:\n",
    "            os.rename(fromdir+vfile,todir+vfile)\n",
    "    print(\"Done\")"
   ]
  },
  {
   "cell_type": "code",
   "execution_count": null,
   "metadata": {},
   "outputs": [],
   "source": []
  }
 ],
 "metadata": {
  "kernelspec": {
   "display_name": "Python 3",
   "language": "python",
   "name": "python3"
  },
  "language_info": {
   "codemirror_mode": {
    "name": "ipython",
    "version": 3
   },
   "file_extension": ".py",
   "mimetype": "text/x-python",
   "name": "python",
   "nbconvert_exporter": "python",
   "pygments_lexer": "ipython3",
   "version": "3.8.10"
  }
 },
 "nbformat": 4,
 "nbformat_minor": 4
}
