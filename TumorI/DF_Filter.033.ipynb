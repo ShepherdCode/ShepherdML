{
 "cells": [
  {
   "cell_type": "markdown",
   "metadata": {},
   "source": [
    "# Create patch files from cropped portions\n"
   ]
  },
  {
   "cell_type": "code",
   "execution_count": 1,
   "metadata": {},
   "outputs": [],
   "source": [
    "import time\n",
    "import os\n",
    "import glob\n",
    "from PIL import Image\n",
    "Image.MAX_IMAGE_PIXELS = None\n",
    "import numpy as np\n",
    "import json\n",
    "import tensorflow as tf\n",
    "from tensorflow import keras\n",
    "import keras.layers as kl\n",
    "import pandas as pd\n",
    "import matplotlib.pyplot as plt"
   ]
  },
  {
   "cell_type": "code",
   "execution_count": 2,
   "metadata": {},
   "outputs": [],
   "source": [
    "DIR_IMAGES_RAW = \"/home/jrm/Martinez/images/Crop/\"\n",
    "DIR_IMAGES_TEST = \"/home/jrm/Martinez/images/Crop/test/\"\n",
    "PATCH_SIZE=224  # matches VGG\n",
    "IMAGE_SIZE = (PATCH_SIZE,PATCH_SIZE)\n",
    "DF_Ypos = ['B7.','B15','D1.','D5.','E7.','E9.','F9.','G3.','H13','I1.','I5.','I13']\n",
    "DF_Yneg = ['A3.','A5.','B13','C1.','C11','D3.','E5.','F3.','F7','F11','F13','F15','G15','H1.','H3.','H7.','H15']"
   ]
  },
  {
   "cell_type": "code",
   "execution_count": 3,
   "metadata": {},
   "outputs": [],
   "source": [
    "FILENAMES_IMAGES_RAW = ['F15.DF1.135.Yneg.blue.1.png','F9.DF1.80.crop.png']"
   ]
  },
  {
   "cell_type": "code",
   "execution_count": 4,
   "metadata": {},
   "outputs": [],
   "source": [
    "class patch_maker:\n",
    "    def __init__(self):\n",
    "        self.path=\"\"\n",
    "        self.w=0\n",
    "        self.h=0\n",
    "        self.im_width = 0\n",
    "        self.im_height = 0\n",
    "        self.patch_size = 10 # scalar, assumed square for now\n",
    "        self.pixel_array = None\n",
    "        self.output_dir = \"\"\n",
    "        self.output_format='.png'\n",
    "    def set_input_path(self,path):\n",
    "        self.path=path\n",
    "    def set_output_path(self,path):\n",
    "        self.output_dir = path\n",
    "    def set_patch_size(self,scalar):\n",
    "        self.patch_size = scalar\n",
    "    def load_pixel_array(self,filename,verbose=False):\n",
    "        self.w=0\n",
    "        self.h=0\n",
    "        im = Image.open(self.path+filename)\n",
    "        ima = np.array(im)   # convert to numpy\n",
    "        self.im_width = ima.shape[0]\n",
    "        self.im_height = ima.shape[1]    \n",
    "        if verbose:\n",
    "            print(filename, ima.size, ima.shape, self.patch_size)\n",
    "        self.pixel_array = ima\n",
    "        return ima\n",
    "    def get_next_patch(self): \n",
    "        IM_WIDTH = self.im_width\n",
    "        IM_HEIGHT = self.im_height\n",
    "        PIXEL_ARRAY = self.pixel_array\n",
    "        patch = None\n",
    "        if self.w+self.patch_size > IM_WIDTH:\n",
    "            self.h += self.patch_size\n",
    "            self.w = 0\n",
    "        if self.w+self.patch_size <= IM_WIDTH and self.h+self.patch_size <= IM_HEIGHT:\n",
    "            patch = PIXEL_ARRAY[self.w:self.w+self.patch_size, self.h:self.h+self.patch_size]\n",
    "            self.w += self.patch_size\n",
    "        return patch\n",
    "    def save_patch (self, prefix, pnum, patch):\n",
    "        ext = self.output_format\n",
    "        path= self.output_dir+prefix+'.'+str(pnum)+ext\n",
    "        im =  Image.fromarray(patch)\n",
    "        im.save(path)"
   ]
  },
  {
   "cell_type": "code",
   "execution_count": 5,
   "metadata": {},
   "outputs": [
    {
     "name": "stdout",
     "output_type": "stream",
     "text": [
      "F15.DF1.135.Yneg.blue.1.png 7426323 (1647, 1503, 3) 224\n",
      "42 patches\n",
      "F9.DF1.80.crop.png 12582846 (2094, 2003, 3) 224\n",
      "72 patches\n",
      "Total 114 patches\n"
     ]
    }
   ],
   "source": [
    "pm = patch_maker()\n",
    "pm.set_input_path(DIR_IMAGES_RAW)\n",
    "pm.set_patch_size(PATCH_SIZE)\n",
    "pm.set_output_path(DIR_IMAGES_TEST) \n",
    "total_counts = 0;\n",
    "for filename in FILENAMES_IMAGES_RAW:\n",
    "    prefix = filename[0:3]\n",
    "    DIRECTORY = DIR_IMAGES_TEST\n",
    "    if prefix in DF_Yneg:\n",
    "        DIRECTORY += \"blue/\"\n",
    "    elif prefix in DF_Ypos:\n",
    "        DIRECTORY += \"green/\"\n",
    "    else:\n",
    "        DIRECTORY += \"problem/\"\n",
    "    pixels = pm.load_pixel_array(filename,True)\n",
    "    patch = pm.get_next_patch()\n",
    "    file_counts = 0\n",
    "    while patch is not None:\n",
    "        file_counts += 1\n",
    "        pm.set_output_path(DIR_IMAGES_TEST)\n",
    "        pm.save_patch(filename,file_counts,patch)\n",
    "        patch = pm.get_next_patch()\n",
    "    print(file_counts, \"patches\")\n",
    "    total_counts += file_counts\n",
    "print('Total',total_counts,\"patches\")"
   ]
  },
  {
   "cell_type": "code",
   "execution_count": null,
   "metadata": {},
   "outputs": [],
   "source": []
  }
 ],
 "metadata": {
  "kernelspec": {
   "display_name": "Python 3",
   "language": "python",
   "name": "python3"
  },
  "language_info": {
   "codemirror_mode": {
    "name": "ipython",
    "version": 3
   },
   "file_extension": ".py",
   "mimetype": "text/x-python",
   "name": "python",
   "nbconvert_exporter": "python",
   "pygments_lexer": "ipython3",
   "version": "3.8.10"
  }
 },
 "nbformat": 4,
 "nbformat_minor": 4
}
