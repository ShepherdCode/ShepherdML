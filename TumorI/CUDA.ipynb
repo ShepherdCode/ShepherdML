{
 "cells": [
  {
   "cell_type": "markdown",
   "metadata": {},
   "source": [
    "# Is CUDA working?"
   ]
  },
  {
   "cell_type": "markdown",
   "metadata": {},
   "source": [
    "## Error messages\n",
    "    2022-02-08 13:39:32.313479: E tensorflow/stream_executor/cuda/cuda_driver.cc:271] failed call to cuInit: CUDA_ERROR_NO_DEVICE: no CUDA-capable device is detected  \n",
    "    \n",
    "    2022-02-08 13:39:32.313577: I tensorflow/stream_executor/cuda/cuda_diagnostics.cc:156] kernel driver does not appear to be running on this host (Alien): /proc/driver/nvidia/version does not exist  \n",
    "    \n",
    "    2022-02-08 13:39:32.314790: I tensorflow/core/platform/cpu_feature_guard.cc:151] This TensorFlow binary is optimized with oneAPI Deep Neural Network Library (oneDNN) to use the following CPU instructions in performance-critical operations:  AVX2 AVX512F FMA  \n",
    "    \n",
    "    To enable them in other operations, rebuild TensorFlow with the appropriate compiler flags.  \n",
    "    \n",
    "    2022-02-08 13:39:32.783647: W tensorflow/core/framework/cpu_allocator_impl.cc:82] Allocation of 411041792 exceeds 10% of free system memory.  "
   ]
  },
  {
   "cell_type": "markdown",
   "metadata": {},
   "source": [
    "## Web pages\n",
    "No cuda-capable device\n",
    "https://forums.developer.nvidia.com/t/no-cuda-capable-device-is-detected/39478/3\n",
    "\n",
    "Cuda installation guide\n",
    "https://docs.nvidia.com/cuda/cuda-installation-guide-linux/index.html#abstract\n",
    "\n",
    "Cuda GPUs including mine\n",
    "https://developer.nvidia.com/cuda-gpus"
   ]
  },
  {
   "cell_type": "markdown",
   "metadata": {},
   "source": [
    "## Tried\n",
    "\n",
    "sudo apt-get install linux-headers-$(uname -r)  \n",
    "0 installed\n",
    "\n",
    "lspci | grep -i nvidia  \n",
    "02:00.0 VGA compatible controller: NVIDIA Corporation TU102 [GeForce RTX 2080 Ti Rev. A] (rev a1)  \n",
    "02:00.1 Audio device: NVIDIA Corporation TU102 High Definition Audio Controller (rev a1)  \n",
    "02:00.2 USB controller: NVIDIA Corporation TU102 USB 3.1 Host Controller (rev a1)  \n",
    "02:00.3 Serial bus controller [0c80]: NVIDIA Corporation TU102 USB Type-C UCSI Controller (rev a1)  \n"
   ]
  },
  {
   "cell_type": "markdown",
   "metadata": {},
   "source": [
    "## Image processing\n",
    "Numpy \n",
    "https://scikit-image.org/docs/dev/user_guide/numpy_images.html  \n",
    "\n",
    "TensorFlow Data API\n",
    "https://www.tensorflow.org/api_docs/python/tf/data/Dataset\n",
    "\n",
    "A blog\n",
    "https://www.damienpontifex.com/posts/images-with-directories-as-labels-for-tensorflow-data/"
   ]
  },
  {
   "cell_type": "markdown",
   "metadata": {},
   "source": [
    "## Useful commands\n",
    "    dpkg -l | grep nvidia  \n",
    "    sudo nvidia-uninstall  \n",
    "    sudo apt-get remove --purge '^nvidia-.*'  \n",
    "    sudo apt autoclean\n",
    "    sudo apt autoremove\n",
    "    sudo apt purge libnividia-compute-510\n",
    "    sudo apt install nvidia-utils-510\n",
    "    nvcc --version\n",
    "    nvidia-smi\n",
    "\n",
    "When the nvidia driver is uninstalled, Ubuntu | Software Apps | Additional Drivers will show Xorg Nouveau as the graphics driver."
   ]
  },
  {
   "cell_type": "markdown",
   "metadata": {},
   "source": [
    "From https://stackoverflow.com/questions/39465503/cuda-error-out-of-memory-in-tensorflow\n",
    "\n",
    "It was solved by manually ending all python processes that use the GPU, or alternatively, closing the existing terminal and running again in a new terminal window.\n",
    "\n",
    "nvidia-smi --gpu-reset\n",
    "\n",
    "setting allow_growth=True and per_process_gpu_memory_fraction=0.5"
   ]
  },
  {
   "cell_type": "code",
   "execution_count": null,
   "metadata": {},
   "outputs": [],
   "source": []
  }
 ],
 "metadata": {
  "kernelspec": {
   "display_name": "Python 3",
   "language": "python",
   "name": "python3"
  },
  "language_info": {
   "codemirror_mode": {
    "name": "ipython",
    "version": 3
   },
   "file_extension": ".py",
   "mimetype": "text/x-python",
   "name": "python",
   "nbconvert_exporter": "python",
   "pygments_lexer": "ipython3",
   "version": "3.8.10"
  }
 },
 "nbformat": 4,
 "nbformat_minor": 4
}
