{
 "cells": [
  {
   "cell_type": "markdown",
   "metadata": {},
   "source": [
    "# VGG\n",
    "See https://towardsdatascience.com/extract-features-visualize-filters-and-feature-maps-in-vgg16-and-vgg19-cnn-models-d2da6333edd0\n",
    "\n",
    "This page shows how to extract features for any layer and how to visualize the filters\n",
    "for VGG16 or VGG19 (trained on ImageNet).\n",
    "\n",
    "See also\n",
    "\n",
    "- https://keras.io/api/applications/\n",
    "- https://shap-lrjball.readthedocs.io/en/latest/generated/shap.KernelExplainer.html\n",
    "- https://www.tensorflow.org/install/gpu\n",
    "- https://machinelearningmastery.com/use-pre-trained-vgg-model-classify-objects-photographs/\n",
    "- https://towardsdatascience.com/step-by-step-vgg16-implementation-in-keras-for-beginners-a833c686ae6c\n",
    "- https://scikit-learn.org/stable/modules/feature_extraction.html#image-feature-extraction"
   ]
  },
  {
   "cell_type": "code",
   "execution_count": 1,
   "metadata": {},
   "outputs": [],
   "source": [
    "from tensorflow.keras.applications.vgg16 import VGG16\n",
    "from tensorflow.keras.preprocessing import image\n",
    "from tensorflow.keras.applications.vgg16 import preprocess_input\n",
    "import numpy as np"
   ]
  },
  {
   "cell_type": "code",
   "execution_count": 2,
   "metadata": {},
   "outputs": [],
   "source": [
    "model = VGG16(weights='imagenet',include_top=False)  # top= classification layer\n",
    "img_path = '/home/jrm/Martinez/images/patches/I1.DF1.09.001.tif'\n",
    "img = image.load_img(img_path, target_size=(224,224)) # 224 is expected by VGG\n",
    "# Can we use target_size=None? The final layer becomes (1,26,26,512) instead of (1,7,7,512).\n",
    "# That is (samples, rows, cols, channels)\n",
    "# Do we need to scale pixel values for VGG?\n",
    "x = image.img_to_array(img)\n",
    "x = np.expand_dims(x,axis=0)\n",
    "x = preprocess_input(x)"
   ]
  },
  {
   "cell_type": "code",
   "execution_count": 3,
   "metadata": {
    "scrolled": true
   },
   "outputs": [
    {
     "name": "stdout",
     "output_type": "stream",
     "text": [
      "(1, 7, 7, 512)\n",
      "[[[[ 0.         0.         0.        ...  0.         0.\n",
      "     0.       ]\n",
      "   [ 0.         0.         0.        ...  0.         2.0707967\n",
      "     0.       ]\n",
      "   [ 0.         0.         0.        ...  0.         6.3911386\n",
      "     0.       ]\n",
      "   ...\n",
      "   [ 0.         0.         0.        ...  0.         7.41927\n",
      "     0.       ]\n",
      "   [ 0.         0.         0.        ...  0.         0.\n",
      "     0.       ]\n",
      "   [ 0.         0.         0.        ...  0.        18.08353\n",
      "     0.       ]]\n",
      "\n",
      "  [[ 0.         0.         0.        ...  0.         0.\n",
      "     0.       ]\n",
      "   [ 0.         0.         0.        ...  0.         0.\n",
      "     0.       ]\n",
      "   [ 0.         0.         0.        ...  0.         0.\n",
      "     0.       ]\n",
      "   ...\n",
      "   [ 0.         0.         0.        ...  0.         0.\n",
      "     0.       ]\n",
      "   [ 0.         0.         0.        ...  0.         0.\n",
      "     0.       ]\n",
      "   [ 0.         0.         0.        ...  0.         6.87344\n",
      "     0.       ]]\n",
      "\n",
      "  [[ 0.         0.         0.        ...  0.         1.8437226\n",
      "     0.       ]\n",
      "   [ 0.         0.         0.        ...  0.         0.\n",
      "     0.       ]\n",
      "   [ 0.         0.         0.        ...  0.         0.\n",
      "     0.       ]\n",
      "   ...\n",
      "   [ 0.         0.         0.        ...  0.         0.\n",
      "     0.       ]\n",
      "   [ 0.         0.         0.        ...  0.         0.\n",
      "     0.       ]\n",
      "   [ 0.         0.         0.        ...  0.         6.9353113\n",
      "     0.       ]]\n",
      "\n",
      "  ...\n",
      "\n",
      "  [[ 0.         0.         0.        ...  0.         0.\n",
      "     0.       ]\n",
      "   [ 0.         0.         0.        ...  0.         2.0996637\n",
      "     0.       ]\n",
      "   [ 0.         0.         0.        ...  0.         3.1666884\n",
      "     0.       ]\n",
      "   ...\n",
      "   [ 0.         0.         0.        ...  0.         0.\n",
      "     0.       ]\n",
      "   [ 0.         0.         0.        ...  0.         0.\n",
      "     0.       ]\n",
      "   [ 0.         0.         0.        ...  0.         0.\n",
      "     0.       ]]\n",
      "\n",
      "  [[ 0.         0.         0.        ...  0.         3.810232\n",
      "     0.       ]\n",
      "   [ 0.         0.         0.        ...  0.         1.3255941\n",
      "     0.       ]\n",
      "   [ 0.         0.         0.        ...  0.         0.\n",
      "     0.       ]\n",
      "   ...\n",
      "   [ 0.         0.         0.        ...  0.         0.\n",
      "     0.       ]\n",
      "   [ 0.         0.         0.        ...  0.         0.\n",
      "     0.       ]\n",
      "   [ 0.         0.         0.        ...  0.         2.7836788\n",
      "     0.       ]]\n",
      "\n",
      "  [[ 0.         0.         0.        ...  0.         3.5928423\n",
      "     0.       ]\n",
      "   [ 0.         0.         0.        ...  0.         3.8817933\n",
      "     6.9426713]\n",
      "   [ 0.         0.         0.        ...  0.         2.900087\n",
      "     9.267118 ]\n",
      "   ...\n",
      "   [ 0.         0.         0.        ...  0.         2.4788077\n",
      "     0.       ]\n",
      "   [ 0.         0.         0.        ...  0.         3.1992576\n",
      "     0.       ]\n",
      "   [ 0.         0.         0.        ...  0.         0.\n",
      "     0.       ]]]]\n"
     ]
    }
   ],
   "source": [
    "features = model.predict(x)\n",
    "print(features.shape)\n",
    "print(features)"
   ]
  },
  {
   "cell_type": "code",
   "execution_count": 22,
   "metadata": {},
   "outputs": [
    {
     "name": "stdout",
     "output_type": "stream",
     "text": [
      "(1, 25088)\n"
     ]
    }
   ],
   "source": [
    "vector=np.reshape(features, -1 )\n",
    "vector=features.reshape( (1,-1) )\n",
    "print(vector.shape)\n",
    "filename='/home/jrm/Martinez/images/features/I1.DF1.09.001.csv'\n",
    "np.savetxt(filename, vector, delimiter=\",\")"
   ]
  },
  {
   "cell_type": "code",
   "execution_count": null,
   "metadata": {},
   "outputs": [],
   "source": []
  }
 ],
 "metadata": {
  "kernelspec": {
   "display_name": "Python 3",
   "language": "python",
   "name": "python3"
  },
  "language_info": {
   "codemirror_mode": {
    "name": "ipython",
    "version": 3
   },
   "file_extension": ".py",
   "mimetype": "text/x-python",
   "name": "python",
   "nbconvert_exporter": "python",
   "pygments_lexer": "ipython3",
   "version": "3.8.10"
  }
 },
 "nbformat": 4,
 "nbformat_minor": 4
}
