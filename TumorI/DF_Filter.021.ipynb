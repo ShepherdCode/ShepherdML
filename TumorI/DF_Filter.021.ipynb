{
 "cells": [
  {
   "cell_type": "markdown",
   "metadata": {},
   "source": [
    "# Create patch files\n",
    "\n",
    "Problem: first round of prediction said blue or green for many black files.  \n",
    "Explanation: we were planning to filter black patches by color, \n",
    "but apparently we're no good at it. The CNN might do better.  \n",
    "Solution: create a three-way classifier.  \n",
    "\n",
    "Like DF_Filter.011, create subdirectories of train and valid for each class.  \n",
    "Like DF_Filter.018, use slightly condensed code.  \n",
    "\n",
    "Create exemplar patch files of blue/green/black.   \n",
    "These are the training and validation sets.  \n",
    "Also create mixed patch files for all other patches.  \n",
    "These will be clasified by the trained model.  "
   ]
  },
  {
   "cell_type": "code",
   "execution_count": 1,
   "metadata": {},
   "outputs": [],
   "source": [
    "import time\n",
    "import os\n",
    "import glob\n",
    "from PIL import Image\n",
    "Image.MAX_IMAGE_PIXELS = None\n",
    "import numpy as np\n",
    "import json\n",
    "import tensorflow as tf\n",
    "from tensorflow import keras\n",
    "import keras.layers as kl\n",
    "import pandas as pd\n",
    "import matplotlib.pyplot as plt"
   ]
  },
  {
   "cell_type": "code",
   "execution_count": 2,
   "metadata": {},
   "outputs": [],
   "source": [
    "DIR_IMAGES_RAW = \"/home/jrm/Martinez/images/raw/\"\n",
    "DIR_IMAGES_TRAIN = \"/home/jrm/Martinez/images/training/train/\"\n",
    "DIR_IMAGES_VALID = \"/home/jrm/Martinez/images/training/valid/\"\n",
    "DIR_IMAGES_UNKNOWN = \"/home/jrm/Martinez/images/patches/\"\n",
    "PATTERN_IMAGES_RAW = \"*.DF1.*.tif\"\n",
    "PATCH_SIZE=224  # matches VGG\n",
    "IMAGE_SIZE = (PATCH_SIZE,PATCH_SIZE)\n",
    "DF_Ypos = ['B7.','B15','D1.','D5.','E7.','E9.','F9.','G3.','H13','I1.','I5.','I13']\n",
    "DF_Yneg = ['A3.','A5.','B13','C1.','C11','D3.','E5.','F3.','F7','F11','F13','F15','G15','H1.','H3.','H7.','H15']"
   ]
  },
  {
   "cell_type": "code",
   "execution_count": 3,
   "metadata": {},
   "outputs": [],
   "source": [
    "def get_image_names(path,pattern):\n",
    "    paths = glob.glob(path+pattern)\n",
    "    names = [os.path.basename(x) for x in paths]\n",
    "    return names\n",
    "FILENAMES_IMAGES_RAW = get_image_names(DIR_IMAGES_RAW,PATTERN_IMAGES_RAW)"
   ]
  },
  {
   "cell_type": "code",
   "execution_count": 4,
   "metadata": {},
   "outputs": [],
   "source": [
    "class patch_maker:\n",
    "    def __init__(self):\n",
    "        self.path=\"\"\n",
    "        self.w=0\n",
    "        self.h=0\n",
    "        self.im_width = 0\n",
    "        self.im_height = 0\n",
    "        self.patch_size = 10 # scalar, assumed square for now\n",
    "        self.pixel_array = None\n",
    "        self.output_dir = \"\"\n",
    "        self.output_format='.jpg'\n",
    "    def set_input_path(self,path):\n",
    "        self.path=path\n",
    "    def set_output_path(self,path):\n",
    "        self.output_dir = path\n",
    "    def set_patch_size(self,scalar):\n",
    "        self.patch_size = scalar\n",
    "    def load_pixel_array(self,filename,verbose=False):\n",
    "        self.w=0\n",
    "        self.h=0\n",
    "        im = Image.open(self.path+filename)\n",
    "        ima = np.array(im)   # convert to numpy\n",
    "        self.im_width = ima.shape[0]\n",
    "        self.im_height = ima.shape[1]    \n",
    "        if verbose:\n",
    "            print(filename, ima.size, ima.shape)\n",
    "        self.pixel_array = ima\n",
    "        return ima\n",
    "    def get_next_patch(self): \n",
    "        IM_WIDTH = self.im_width\n",
    "        IM_HEIGHT = self.im_height\n",
    "        PIXEL_ARRAY = self.pixel_array\n",
    "        patch = None\n",
    "        if self.w+self.patch_size > IM_WIDTH:\n",
    "            self.h += self.patch_size\n",
    "            self.w = 0\n",
    "        if self.w+self.patch_size <= IM_WIDTH and self.h+self.patch_size <= IM_HEIGHT:\n",
    "            patch = PIXEL_ARRAY[self.w:self.w+self.patch_size, self.h:self.h+self.patch_size]\n",
    "            self.w += self.patch_size\n",
    "        return patch\n",
    "    def save_patch (self, prefix, pnum, patch):\n",
    "        ext = self.output_format\n",
    "        path= self.output_dir+prefix+'.'+str(pnum)+ext\n",
    "        im =  Image.fromarray(patch)\n",
    "        im.save(path)"
   ]
  },
  {
   "cell_type": "code",
   "execution_count": 5,
   "metadata": {},
   "outputs": [
    {
     "name": "stdout",
     "output_type": "stream",
     "text": [
      "F15.DF1.135.tif {'black': 1413, 'blue': 262, 'green': 34, 'mixed': 1426}\n",
      "H3.DF1.27.tif {'black': 888, 'blue': 30, 'green': 110, 'mixed': 2107}\n",
      "C11.DF1.96.tif {'black': 760, 'blue': 16, 'green': 292, 'mixed': 2067}\n",
      "C1.DF1.01.tif {'black': 292, 'blue': 293, 'green': 69, 'mixed': 2481}\n",
      "F11.DF1.94.tif {'black': 1401, 'blue': 375, 'green': 54, 'mixed': 1305}\n",
      "H7.DF1.62.tif {'black': 1361, 'blue': 228, 'green': 178, 'mixed': 1368}\n",
      "A3.DF1.26.tif {'black': 970, 'blue': 1482, 'green': 1, 'mixed': 682}\n",
      "A5.DF1.45.tif {'black': 0, 'blue': 6, 'green': 454, 'mixed': 2675}\n",
      "H15.DF1.132.tif {'black': 0, 'blue': 0, 'green': 66, 'mixed': 3069}\n",
      "G15.DF1.133.tif {'black': 12, 'blue': 0, 'green': 239, 'mixed': 2884}\n",
      "F3.DF1.22.tif {'black': 659, 'blue': 41, 'green': 430, 'mixed': 2005}\n",
      "B13.DF1.115.tif {'black': 1256, 'blue': 407, 'green': 70, 'mixed': 1402}\n",
      "D3.DF1.20.tif {'black': 469, 'blue': 4, 'green': 325, 'mixed': 2337}\n",
      "E5.DF1.42.tif {'black': 956, 'blue': 266, 'green': 31, 'mixed': 1882}\n",
      "H1.DF1.07.tif {'black': 0, 'blue': 0, 'green': 593, 'mixed': 2542}\n",
      "Totals {'black': 10437, 'blue': 3410, 'green': 2946, 'mixed': 30232}\n"
     ]
    }
   ],
   "source": [
    "# These are not mutually exclusive categories\n",
    "MIN_GREEN_INTENSITY=np.array( [0,35,0] )\n",
    "MIN_BLUE_INTENSITY =np.array( [0,0,30] )\n",
    "MAX_BLACK_INTENSITY=np.array( [10,10,10] )\n",
    "\n",
    "pm = patch_maker()\n",
    "pm.set_input_path(DIR_IMAGES_RAW)\n",
    "pm.set_patch_size(PATCH_SIZE)\n",
    "pm.set_output_path(DIR_IMAGES_TRAIN)  # later, move 20% of files to VALID\n",
    "file_totals={'black':0,'blue':0,'green':0,'mixed':0}\n",
    "for filename in FILENAMES_IMAGES_RAW:\n",
    "    prefix = filename[0:3]\n",
    "    file_counts={'black':0,'blue':0,'green':0,'mixed':0}\n",
    "    if prefix in DF_Yneg:\n",
    "        if prefix[2] == '.':  # we have prefixes like F1. and F13\n",
    "            prefix=prefix[0:2]+'_'   # avoid the extra period\n",
    "        print(filename,end=\" \")\n",
    "        pixels = pm.load_pixel_array(filename)\n",
    "        patch = pm.get_next_patch()\n",
    "        while patch is not None:\n",
    "            num_green_pixels = np.sum(np.all(patch >= MIN_GREEN_INTENSITY,axis=2))\n",
    "            num_blue_pixels  = np.sum(np.all(patch >= MIN_BLUE_INTENSITY,axis=2))\n",
    "            num_black_pixels = np.sum(np.all(patch <= MAX_BLACK_INTENSITY,axis=2))\n",
    "            if num_black_pixels>=30000 and num_blue_pixels<=1000 and num_green_pixels<1000:\n",
    "                file_counts['black'] += 1\n",
    "                pm.set_output_path(DIR_IMAGES_TRAIN)\n",
    "                pm.save_patch('black/'+prefix,file_counts['black'],patch)\n",
    "            elif num_blue_pixels>=10000 and num_blue_pixels>num_green_pixels*20:\n",
    "                file_counts['blue'] += 1\n",
    "                pm.set_output_path(DIR_IMAGES_TRAIN)\n",
    "                pm.save_patch('blue/'+prefix,file_counts['blue'],patch)\n",
    "            elif num_green_pixels>=15000 and num_green_pixels>num_blue_pixels*2:\n",
    "                file_counts['green'] += 1\n",
    "                pm.set_output_path(DIR_IMAGES_TRAIN)\n",
    "                pm.save_patch('green/'+prefix,file_counts['green'],patch)\n",
    "            else:\n",
    "                file_counts['mixed'] += 1\n",
    "                pm.set_output_path(DIR_IMAGES_UNKNOWN)\n",
    "                pm.save_patch(prefix,file_counts['mixed'],patch)\n",
    "            patch = pm.get_next_patch()\n",
    "        print(file_counts)\n",
    "        file_totals['black'] += file_counts['black']\n",
    "        file_totals['blue'] += file_counts['blue']\n",
    "        file_totals['green'] += file_counts['green']\n",
    "        file_totals['mixed'] += file_counts['mixed']\n",
    "print('Totals',file_totals)"
   ]
  },
  {
   "cell_type": "code",
   "execution_count": 6,
   "metadata": {},
   "outputs": [
    {
     "name": "stdout",
     "output_type": "stream",
     "text": [
      "Done\n"
     ]
    }
   ],
   "source": [
    "# Move a portion of the train files into the valid directory.\n",
    "from random import sample\n",
    "VALIDATION_PORTION = 0.20\n",
    "for color in ('blue','green','black'):\n",
    "    fromdir = DIR_IMAGES_TRAIN+\"/\"+color+\"/\"\n",
    "    todir   = DIR_IMAGES_VALID+\"/\"+color+\"/\"\n",
    "    files = os.listdir(fromdir)\n",
    "    total = len(files)\n",
    "    selected = sample(files, int(VALIDATION_PORTION*total))\n",
    "    for vfile in selected:\n",
    "        os.rename(fromdir+vfile,todir+vfile)\n",
    "print(\"Done\")"
   ]
  },
  {
   "cell_type": "code",
   "execution_count": null,
   "metadata": {},
   "outputs": [],
   "source": []
  }
 ],
 "metadata": {
  "kernelspec": {
   "display_name": "Python 3",
   "language": "python",
   "name": "python3"
  },
  "language_info": {
   "codemirror_mode": {
    "name": "ipython",
    "version": 3
   },
   "file_extension": ".py",
   "mimetype": "text/x-python",
   "name": "python",
   "nbconvert_exporter": "python",
   "pygments_lexer": "ipython3",
   "version": "3.8.10"
  }
 },
 "nbformat": 4,
 "nbformat_minor": 4
}
