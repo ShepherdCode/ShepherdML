{
 "cells": [
  {
   "cell_type": "markdown",
   "metadata": {},
   "source": [
    "# Create patch files\n",
    "\n",
    "Problem: first round of prediction said blue or green for many black files.  \n",
    "Explanation: we were planning to filter black patches by color, \n",
    "but apparently we're no good at it. The CNN might do better.  \n",
    "Solution: create a three-way classifier.  \n",
    "\n",
    "Like DF_Filter.011, create subdirectories of train and valid for each class.  \n",
    "Like DF_Filter.018, use slightly condensed code.  \n",
    "\n",
    "Create exemplar patch files of blue/green/black.   \n",
    "These are the training and validation sets.  \n",
    "Also create mixed patch files for all other patches.  \n",
    "These will be clasified by the trained model.  "
   ]
  },
  {
   "cell_type": "code",
   "execution_count": 1,
   "metadata": {},
   "outputs": [],
   "source": [
    "import time\n",
    "import os\n",
    "import glob\n",
    "from PIL import Image\n",
    "Image.MAX_IMAGE_PIXELS = None\n",
    "import numpy as np\n",
    "import json\n",
    "import tensorflow as tf\n",
    "from tensorflow import keras\n",
    "import keras.layers as kl\n",
    "import pandas as pd\n",
    "import matplotlib.pyplot as plt"
   ]
  },
  {
   "cell_type": "code",
   "execution_count": 2,
   "metadata": {},
   "outputs": [],
   "source": [
    "DIR_IMAGES_RAW = \"/home/jrm/Martinez/images/raw/\"\n",
    "DIR_IMAGES_TRAIN = \"/home/jrm/Martinez/images/cache/train/\"\n",
    "DIR_IMAGES_VALID = \"/home/jrm/Martinez/images/cache/valid/\"\n",
    "DIR_IMAGES_UNKNOWN = \"/home/jrm/Martinez/images/patches/\"\n",
    "PATTERN_IMAGES_RAW = \"*.DF1.*.tif\"\n",
    "PATCH_SIZE=224  # matches VGG\n",
    "IMAGE_SIZE = (PATCH_SIZE,PATCH_SIZE)\n",
    "DF_Ypos = ['B7.','B15','D1.','D5.','E7.','E9.','F9.','G3.','H13','I1.','I5.','I13']\n",
    "DF_Yneg = ['A3.','A5.','B13','C1.','C11','D3.','E5.','F3.','F7','F11','F13','F15','G15','H1.','H3.','H7.','H15']"
   ]
  },
  {
   "cell_type": "code",
   "execution_count": 3,
   "metadata": {},
   "outputs": [],
   "source": [
    "def get_image_names(path,pattern):\n",
    "    paths = glob.glob(path+pattern)\n",
    "    names = [os.path.basename(x) for x in paths]\n",
    "    return names\n",
    "FILENAMES_IMAGES_RAW = get_image_names(DIR_IMAGES_RAW,PATTERN_IMAGES_RAW)"
   ]
  },
  {
   "cell_type": "code",
   "execution_count": 4,
   "metadata": {},
   "outputs": [],
   "source": [
    "class patch_maker:\n",
    "    def __init__(self):\n",
    "        self.path=\"\"\n",
    "        self.w=0\n",
    "        self.h=0\n",
    "        self.im_width = 0\n",
    "        self.im_height = 0\n",
    "        self.patch_size = 10 # scalar, assumed square for now\n",
    "        self.pixel_array = None\n",
    "        self.output_dir = \"\"\n",
    "        self.output_format='.jpg'\n",
    "    def set_input_path(self,path):\n",
    "        self.path=path\n",
    "    def set_output_path(self,path):\n",
    "        self.output_dir = path\n",
    "    def set_patch_size(self,scalar):\n",
    "        self.patch_size = scalar\n",
    "    def load_pixel_array(self,filename,verbose=False):\n",
    "        self.w=0\n",
    "        self.h=0\n",
    "        im = Image.open(self.path+filename)\n",
    "        ima = np.array(im)   # convert to numpy\n",
    "        self.im_width = ima.shape[0]\n",
    "        self.im_height = ima.shape[1]    \n",
    "        if verbose:\n",
    "            print(filename, ima.size, ima.shape)\n",
    "        self.pixel_array = ima\n",
    "        return ima\n",
    "    def get_next_patch(self): \n",
    "        IM_WIDTH = self.im_width\n",
    "        IM_HEIGHT = self.im_height\n",
    "        PIXEL_ARRAY = self.pixel_array\n",
    "        patch = None\n",
    "        if self.w+self.patch_size > IM_WIDTH:\n",
    "            self.h += self.patch_size\n",
    "            self.w = 0\n",
    "        if self.w+self.patch_size <= IM_WIDTH and self.h+self.patch_size <= IM_HEIGHT:\n",
    "            patch = PIXEL_ARRAY[self.w:self.w+self.patch_size, self.h:self.h+self.patch_size]\n",
    "            self.w += self.patch_size\n",
    "        return patch\n",
    "    def save_patch (self, prefix, pnum, patch):\n",
    "        ext = self.output_format\n",
    "        path= self.output_dir+prefix+'.'+str(pnum)+ext\n",
    "        im =  Image.fromarray(patch)\n",
    "        im.save(path)"
   ]
  },
  {
   "cell_type": "code",
   "execution_count": 5,
   "metadata": {},
   "outputs": [
    {
     "name": "stdout",
     "output_type": "stream",
     "text": [
      "F15.DF1.135.tif Write 1078 black, 262 blue, 34 green, 1761 mixed patches.\n",
      "H3.DF1.27.tif Write 25 black, 30 blue, 110 green, 2970 mixed patches.\n",
      "C11.DF1.96.tif Write 2 black, 16 blue, 292 green, 2825 mixed patches.\n",
      "C1.DF1.01.tif Write 0 black, 293 blue, 69 green, 2773 mixed patches.\n",
      "F11.DF1.94.tif Write 1127 black, 375 blue, 54 green, 1579 mixed patches.\n",
      "H7.DF1.62.tif Write 1166 black, 228 blue, 178 green, 1563 mixed patches.\n",
      "A3.DF1.26.tif Write 328 black, 1482 blue, 1 green, 1324 mixed patches.\n",
      "A5.DF1.45.tif Write 0 black, 6 blue, 454 green, 2675 mixed patches.\n",
      "H15.DF1.132.tif Write 0 black, 0 blue, 66 green, 3069 mixed patches.\n",
      "G15.DF1.133.tif Write 0 black, 0 blue, 239 green, 2896 mixed patches.\n",
      "F3.DF1.22.tif Write 0 black, 41 blue, 430 green, 2664 mixed patches.\n",
      "B13.DF1.115.tif Write 187 black, 407 blue, 70 green, 2471 mixed patches.\n",
      "D3.DF1.20.tif Write 0 black, 4 blue, 325 green, 2806 mixed patches.\n",
      "E5.DF1.42.tif Write 17 black, 266 blue, 31 green, 2821 mixed patches.\n",
      "H1.DF1.07.tif Write 0 black, 0 blue, 593 green, 2542 mixed patches.\n",
      "done\n"
     ]
    }
   ],
   "source": [
    "MIN_GREEN_INTENSITY=np.array( [0,35,0] )\n",
    "MIN_BLUE_INTENSITY =np.array( [0,0,30] )\n",
    "MAX_BLACK_INTENSITY=np.array( [10,10,10] )\n",
    "pm = patch_maker()\n",
    "pm.set_input_path(DIR_IMAGES_RAW)\n",
    "pm.set_patch_size(PATCH_SIZE)\n",
    "pm.set_output_path(DIR_IMAGES_TRAIN)  # later, move 20% of files to VALID\n",
    "for filename in FILENAMES_IMAGES_RAW:\n",
    "    prefix = filename[0:3]\n",
    "    blue = 0\n",
    "    black = 0\n",
    "    green = 0\n",
    "    mixed = 0\n",
    "    if prefix in DF_Yneg:\n",
    "        if prefix[2] == '.':  # we have prefixes like F1. and F13\n",
    "            prefix=prefix[0:2]+'_'   # avoid the extra period\n",
    "        print(filename,end=\" \")\n",
    "        pixels = pm.load_pixel_array(filename)\n",
    "        patch = pm.get_next_patch()\n",
    "        while patch is not None:\n",
    "            num_green_pixels = np.sum(np.all(patch >= MIN_GREEN_INTENSITY,axis=2))\n",
    "            num_blue_pixels  = np.sum(np.all(patch >= MIN_BLUE_INTENSITY,axis=2))\n",
    "            num_black_pixels = np.sum(np.all(patch <= MAX_BLACK_INTENSITY,axis=2))\n",
    "            if num_black_pixels>=50000 and num_blue_pixels<=1000 and num_green_pixels<1000:\n",
    "                black += 1\n",
    "                pm.set_output_path(DIR_IMAGES_TRAIN)\n",
    "                pm.save_patch('black/'+prefix,black,patch)\n",
    "            elif num_blue_pixels>=10000 and num_blue_pixels>num_green_pixels*20:\n",
    "                blue += 1\n",
    "                pm.set_output_path(DIR_IMAGES_TRAIN)\n",
    "                pm.save_patch('blue/'+prefix,blue,patch)\n",
    "            elif num_green_pixels>=15000 and num_green_pixels>num_blue_pixels*2:\n",
    "                green += 1\n",
    "                pm.set_output_path(DIR_IMAGES_TRAIN)\n",
    "                pm.save_patch('green/'+prefix,green,patch)\n",
    "            else:\n",
    "                mixed += 1\n",
    "                pm.set_output_path(DIR_IMAGES_UNKNOWN)\n",
    "                pm.save_patch(prefix,green,patch)\n",
    "            patch = pm.get_next_patch()\n",
    "        print(\"Write %d black, %d blue, %d green, %d mixed patches.\"%(black,blue,green,mixed))\n",
    "print('done')"
   ]
  },
  {
   "cell_type": "code",
   "execution_count": 6,
   "metadata": {},
   "outputs": [
    {
     "name": "stdout",
     "output_type": "stream",
     "text": [
      "Done\n"
     ]
    }
   ],
   "source": [
    "# Move a portion of the train files into the valid directory.\n",
    "from random import sample\n",
    "VALIDATION_PORTION = 0.20\n",
    "for color in ('blue','green','black'):\n",
    "    fromdir = DIR_IMAGES_TRAIN+\"/\"+color+\"/\"\n",
    "    todir   = DIR_IMAGES_VALID+\"/\"+color+\"/\"\n",
    "    files = os.listdir(fromdir)\n",
    "    total = len(files)\n",
    "    selected = sample(files, int(VALIDATION_PORTION*total))\n",
    "    for vfile in selected:\n",
    "        os.rename(fromdir+vfile,todir+vfile)\n",
    "print(\"Done\")"
   ]
  },
  {
   "cell_type": "code",
   "execution_count": null,
   "metadata": {},
   "outputs": [],
   "source": []
  }
 ],
 "metadata": {
  "kernelspec": {
   "display_name": "Python 3",
   "language": "python",
   "name": "python3"
  },
  "language_info": {
   "codemirror_mode": {
    "name": "ipython",
    "version": 3
   },
   "file_extension": ".py",
   "mimetype": "text/x-python",
   "name": "python",
   "nbconvert_exporter": "python",
   "pygments_lexer": "ipython3",
   "version": "3.8.10"
  }
 },
 "nbformat": 4,
 "nbformat_minor": 4
}
