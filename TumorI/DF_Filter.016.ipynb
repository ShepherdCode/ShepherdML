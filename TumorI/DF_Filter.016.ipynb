{
 "cells": [
  {
   "cell_type": "markdown",
   "metadata": {},
   "source": [
    "# Refinement\n",
    "\n",
    "Refine the model trained in DF_Filter.015"
   ]
  },
  {
   "cell_type": "markdown",
   "metadata": {},
   "source": [
    "Directory structure is\n",
    "* cache  \n",
    "    * train  \n",
    "        * 0  (green) 2680 files\n",
    "        * 1   (blue) 3099 files\n",
    "    * valid  \n",
    "        * 0  (green) 266 files\n",
    "        * 1   (blue) 311 files\n",
    "\n",
    "Filename like F5..208 or F15.209.tif i.e. original_image.patch num.tif  \n",
    "All prefixes are 3 characters with either one or two dots.  \n",
    "Patch nums are per category.  \n",
    "Each file holds a 224x224 patch of a color image."
   ]
  },
  {
   "cell_type": "code",
   "execution_count": 1,
   "metadata": {},
   "outputs": [],
   "source": [
    "import time\n",
    "import os\n",
    "#  os.environ['CUDA_VISIBLE_DEVICES'] = \"0\"   # turns off GPU?\n",
    "import glob\n",
    "import cv2 # OpenCV-Python\n",
    "from PIL import Image\n",
    "Image.MAX_IMAGE_PIXELS = None\n",
    "import numpy as np\n",
    "import json\n",
    "from tensorflow import keras\n",
    "import keras.layers as kl\n",
    "import pandas as pd\n",
    "import matplotlib.pyplot as plt\n"
   ]
  },
  {
   "cell_type": "code",
   "execution_count": 2,
   "metadata": {},
   "outputs": [],
   "source": [
    "DIR_IMAGES_IN = \"/home/jrm/Martinez/images/cache/\"\n",
    "PATCH_SIZE=224  # matches VGG\n",
    "BLUE=1\n",
    "GREEN=0"
   ]
  },
  {
   "cell_type": "code",
   "execution_count": 3,
   "metadata": {},
   "outputs": [
    {
     "name": "stdout",
     "output_type": "stream",
     "text": [
      "Found 5297 files belonging to 2 classes.\n",
      "Found 1059 files belonging to 2 classes.\n"
     ]
    }
   ],
   "source": [
    "train_dir = os.path.join(DIR_IMAGES_IN, 'train')\n",
    "valid_dir = os.path.join(DIR_IMAGES_IN, 'valid')\n",
    "\n",
    "BATCH_SIZE = 32\n",
    "IMG_SIZE = (224,224)\n",
    "\n",
    "train_dataset = keras.utils.image_dataset_from_directory(\n",
    "    train_dir, shuffle=True, batch_size=BATCH_SIZE, image_size=IMG_SIZE)\n",
    "valid_dataset = keras.utils.image_dataset_from_directory(\n",
    "    valid_dir, shuffle=True, batch_size=BATCH_SIZE, image_size=IMG_SIZE)\n"
   ]
  },
  {
   "cell_type": "code",
   "execution_count": 4,
   "metadata": {},
   "outputs": [
    {
     "name": "stdout",
     "output_type": "stream",
     "text": [
      "(32, 224, 224, 3)\n",
      "tf.Tensor([1 1 0 0 1 0 1 1 0 0 0 0 0 0 1 0 1 1 1 1 1 0 0 1 0 1 0 0 0 1 0 0], shape=(32,), dtype=int32)\n"
     ]
    }
   ],
   "source": [
    "iterator = valid_dataset.take(1)\n",
    "for x in iterator:\n",
    "    print(x[0].shape)\n",
    "    print(x[1])"
   ]
  },
  {
   "cell_type": "code",
   "execution_count": 5,
   "metadata": {},
   "outputs": [],
   "source": [
    "# TO DO: normalize color channel ints to floats (0,1)\n",
    "# See https://www.tensorflow.org/tutorials/load_data/images\n",
    "\n",
    "normalization_layer = kl.Rescaling(1./255)"
   ]
  },
  {
   "cell_type": "code",
   "execution_count": 21,
   "metadata": {},
   "outputs": [],
   "source": [
    "ACTIVATION=\"tanh\"\n",
    "NUM_CLASSES = 2\n",
    "CHANNELS=3\n",
    "INPUT_SHAPE=[PATCH_SIZE,PATCH_SIZE,CHANNELS]\n",
    "cnn = keras.models.Sequential([\n",
    "    kl.Conv2D(64,5,activation=ACTIVATION,padding=\"SAME\",input_shape=INPUT_SHAPE),\n",
    "    kl.MaxPooling2D(2),\n",
    "    kl.Conv2D(64,5,activation=ACTIVATION,padding=\"same\"),\n",
    "    kl.Conv2D(64,5,activation=ACTIVATION,padding=\"same\"),\n",
    "    kl.MaxPooling2D(2),   \n",
    "    kl.Conv2D(64,5,activation=ACTIVATION,padding=\"same\"),\n",
    "    kl.Conv2D(64,5,activation=ACTIVATION,padding=\"same\"),\n",
    "    kl.MaxPooling2D(2), \n",
    "    kl.Flatten(),\n",
    "    kl.Dense(32,activation=ACTIVATION),\n",
    "    kl.Dropout(0.5),\n",
    "    kl.Dense(16,activation=ACTIVATION),\n",
    "    kl.Dropout(0.5),    \n",
    "    kl.Dense(NUM_CLASSES,activation=\"softmax\")\n",
    "])\n",
    "# Using Dense 64, 32:\n",
    "# Almost no learning with all Conv layers using 64x7.\n",
    "# Hits 99% by epoch 2 using all Conv layers 64x5 or 64x3.\n",
    "# Hits 99% by epoch 4 using Conv 64 with filters 7, 5, 5, 3, 3\n",
    "# Hits 99% by epoch 5 using Conv 64 with filters 3, 5, 5, 7, 7\n",
    "# Takes more time (20s/epoch) with Conv(128,7) followed by Conv(64,7) but reaches 99%.\n",
    "# Takes less time (16s/epoch) with 1x64,5 and 2x128,5 and hits 99% by epoch 2.\n",
    "# Using Dense 32, 16:\n",
    "# Faster training: 11s/epoch.\n",
    "# Hits 99% by epoch 5 using Conv 64 with filters 5, 5, 5, 5, 5. Learning more eratic.\n"
   ]
  },
  {
   "cell_type": "code",
   "execution_count": 22,
   "metadata": {},
   "outputs": [
    {
     "name": "stdout",
     "output_type": "stream",
     "text": [
      "Epoch 1/10\n",
      "166/166 [==============================] - 12s 65ms/step - loss: 0.6675 - accuracy: 0.6913 - val_loss: 0.6911 - val_accuracy: 0.5326\n",
      "Epoch 2/10\n",
      "166/166 [==============================] - 11s 64ms/step - loss: 0.7195 - accuracy: 0.5448 - val_loss: 0.3282 - val_accuracy: 0.9953\n",
      "Epoch 3/10\n",
      "166/166 [==============================] - 11s 64ms/step - loss: 0.1619 - accuracy: 0.9758 - val_loss: 0.0324 - val_accuracy: 0.9962\n",
      "Epoch 4/10\n",
      "166/166 [==============================] - 11s 64ms/step - loss: 0.0764 - accuracy: 0.9874 - val_loss: 0.0253 - val_accuracy: 0.9953\n",
      "Epoch 5/10\n",
      "166/166 [==============================] - 11s 64ms/step - loss: 0.0490 - accuracy: 0.9921 - val_loss: 0.0335 - val_accuracy: 0.9915\n",
      "Epoch 6/10\n",
      "166/166 [==============================] - 11s 64ms/step - loss: 0.0403 - accuracy: 0.9930 - val_loss: 0.0534 - val_accuracy: 0.9830\n",
      "Epoch 7/10\n",
      "166/166 [==============================] - 11s 64ms/step - loss: 0.0422 - accuracy: 0.9921 - val_loss: 0.0189 - val_accuracy: 0.9972\n",
      "Epoch 8/10\n",
      "166/166 [==============================] - 11s 64ms/step - loss: 0.0319 - accuracy: 0.9938 - val_loss: 0.0200 - val_accuracy: 0.9962\n",
      "Epoch 9/10\n",
      "166/166 [==============================] - 11s 64ms/step - loss: 0.0300 - accuracy: 0.9938 - val_loss: 0.0181 - val_accuracy: 0.9972\n",
      "Epoch 10/10\n",
      "166/166 [==============================] - 11s 64ms/step - loss: 0.0363 - accuracy: 0.9928 - val_loss: 0.0187 - val_accuracy: 0.9962\n",
      "Elapsed time: 108.25023627281189\n"
     ]
    }
   ],
   "source": [
    "cnn.compile(loss=\"sparse_categorical_crossentropy\",\n",
    "           optimizer=\"sgd\",\n",
    "           metrics=[\"accuracy\"])\n",
    "EPOCHS=10\n",
    "start = time.time()\n",
    "hist = cnn.fit(train_dataset,validation_data=valid_dataset,epochs=EPOCHS)\n",
    "end = time.time()\n",
    "print(\"Elapsed time:\",end-start)"
   ]
  },
  {
   "cell_type": "code",
   "execution_count": 23,
   "metadata": {
    "scrolled": true
   },
   "outputs": [
    {
     "data": {
      "image/png": "[encoded data removed]",
      "text/plain": [
       "<Figure size 576x360 with 1 Axes>"
      ]
     },
     "metadata": {
      "needs_background": "light"
     },
     "output_type": "display_data"
    }
   ],
   "source": [
    "pd.DataFrame(hist.history).plot(figsize=(8,5))\n",
    "plt.grid(True)\n",
    "plt.gca().set_ylim(0.0,1.0)\n",
    "plt.show()"
   ]
  },
  {
   "cell_type": "code",
   "execution_count": 24,
   "metadata": {},
   "outputs": [
    {
     "name": "stdout",
     "output_type": "stream",
     "text": [
      "INFO:tensorflow:Assets written to: /home/jrm/Martinez/models/CNN_SMALL_COLOR/assets\n"
     ]
    }
   ],
   "source": [
    "DIR_MODELS = \"/home/jrm/Martinez/models/\"\n",
    "FILE_MODEL = \"CNN_SMALL_COLOR\"\n",
    "cnn.save(DIR_MODELS+FILE_MODEL)"
   ]
  },
  {
   "cell_type": "code",
   "execution_count": null,
   "metadata": {},
   "outputs": [],
   "source": []
  }
 ],
 "metadata": {
  "kernelspec": {
   "display_name": "Python 3",
   "language": "python",
   "name": "python3"
  },
  "language_info": {
   "codemirror_mode": {
    "name": "ipython",
    "version": 3
   },
   "file_extension": ".py",
   "mimetype": "text/x-python",
   "name": "python",
   "nbconvert_exporter": "python",
   "pygments_lexer": "ipython3",
   "version": "3.8.10"
  }
 },
 "nbformat": 4,
 "nbformat_minor": 4
}
