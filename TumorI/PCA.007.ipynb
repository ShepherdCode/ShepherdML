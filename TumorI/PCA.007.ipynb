{
 "cells": [
  {
   "cell_type": "markdown",
   "metadata": {},
   "source": [
    "# Principal Component Analysis\n",
    "The goal is to produced a reduced-dimension version of VGG features."
   ]
  },
  {
   "cell_type": "code",
   "execution_count": 1,
   "metadata": {},
   "outputs": [],
   "source": [
    "from sklearn.preprocessing import StandardScaler\n",
    "from sklearn.decomposition import PCA\n",
    "import numpy as np"
   ]
  },
  {
   "cell_type": "code",
   "execution_count": 2,
   "metadata": {},
   "outputs": [
    {
     "data": {
      "text/plain": [
       "(40, 25088)"
      ]
     },
     "execution_count": 2,
     "metadata": {},
     "output_type": "execute_result"
    }
   ],
   "source": [
    "infile='/home/jrm/Martinez/images/features/G15_I1.features.csv'\n",
    "handle=open(infile, \"r\")\n",
    "raw_data = np.loadtxt(handle, delimiter=\",\")\n",
    "raw_data.shape"
   ]
  },
  {
   "cell_type": "code",
   "execution_count": 3,
   "metadata": {},
   "outputs": [
    {
     "data": {
      "text/plain": [
       "(40, 25088)"
      ]
     },
     "execution_count": 3,
     "metadata": {},
     "output_type": "execute_result"
    }
   ],
   "source": [
    "scaler = StandardScaler()\n",
    "scaler.fit(raw_data)\n",
    "scaled_data = scaler.transform(raw_data)\n",
    "scaled_data.shape"
   ]
  },
  {
   "cell_type": "markdown",
   "metadata": {},
   "source": [
    "## Notes on PCA\n",
    "From https://scikit-learn.org/stable/modules/generated/sklearn.decomposition.PCA.html  \n",
    "The input data is centered but not scaled for each feature before applying the SVD.  \n",
    "\n",
    "Do VGG features need scaling for variance?  \n",
    "For now, we are not partitioning the data into train and test."
   ]
  },
  {
   "cell_type": "code",
   "execution_count": 4,
   "metadata": {},
   "outputs": [],
   "source": [
    "model = PCA()\n",
    "model.fit(scaled_data)\n",
    "pca_data = model.transform(scaled_data)"
   ]
  },
  {
   "cell_type": "code",
   "execution_count": 5,
   "metadata": {},
   "outputs": [
    {
     "data": {
      "text/plain": [
       "(40, 40)"
      ]
     },
     "execution_count": 5,
     "metadata": {},
     "output_type": "execute_result"
    }
   ],
   "source": [
    "pca_data.shape"
   ]
  },
  {
   "cell_type": "code",
   "execution_count": 6,
   "metadata": {},
   "outputs": [
    {
     "data": {
      "text/plain": [
       "array([4.23736733e-02, 3.88529436e-02, 3.73245623e-02, 3.61506704e-02,\n",
       "       3.46757405e-02, 3.33440294e-02, 3.31600864e-02, 3.28171457e-02,\n",
       "       3.19821134e-02, 3.08648289e-02, 3.01181019e-02, 2.92716074e-02,\n",
       "       2.91256308e-02, 2.83477290e-02, 2.76216937e-02, 2.75027228e-02,\n",
       "       2.66044836e-02, 2.63870156e-02, 2.57683148e-02, 2.53383236e-02,\n",
       "       2.45337143e-02, 2.36470808e-02, 2.34585390e-02, 2.30035640e-02,\n",
       "       2.24203457e-02, 2.20806599e-02, 2.17605971e-02, 2.13491166e-02,\n",
       "       2.10972618e-02, 2.02750482e-02, 1.98264638e-02, 1.90943506e-02,\n",
       "       1.82065833e-02, 1.71271026e-02, 1.67413494e-02, 1.51994239e-02,\n",
       "       1.46185525e-02, 1.44386287e-02, 1.34902004e-02, 8.35673096e-33])"
      ]
     },
     "execution_count": 6,
     "metadata": {},
     "output_type": "execute_result"
    }
   ],
   "source": [
    "model.explained_variance_ratio_"
   ]
  },
  {
   "cell_type": "markdown",
   "metadata": {},
   "source": [
    "The first PC only explains 4% of variance.  \n",
    "The skee plot is flat, so there is no natural cutoff (expect at 39th PC).  "
   ]
  },
  {
   "cell_type": "code",
   "execution_count": 7,
   "metadata": {},
   "outputs": [
    {
     "data": {
      "text/plain": [
       "1.0000000000000002"
      ]
     },
     "execution_count": 7,
     "metadata": {},
     "output_type": "execute_result"
    }
   ],
   "source": [
    "sum(model.explained_variance_ratio_)  # 100% (but lots of variance remains unexplained)"
   ]
  },
  {
   "cell_type": "code",
   "execution_count": 8,
   "metadata": {},
   "outputs": [],
   "source": [
    "ofile = '/home/jrm/Martinez/images/features/G15_I1.pca.csv'\n",
    "np.savetxt(ofile, pca_data, delimiter=\",\")"
   ]
  },
  {
   "cell_type": "markdown",
   "metadata": {},
   "source": [
    "## K means"
   ]
  },
  {
   "cell_type": "code",
   "execution_count": 10,
   "metadata": {},
   "outputs": [],
   "source": [
    "from sklearn.cluster import KMeans"
   ]
  },
  {
   "cell_type": "code",
   "execution_count": 11,
   "metadata": {},
   "outputs": [
    {
     "data": {
      "text/plain": [
       "(40, 2)"
      ]
     },
     "execution_count": 11,
     "metadata": {},
     "output_type": "execute_result"
    }
   ],
   "source": [
    "km = KMeans(2)\n",
    "km.fit(pca_data)\n",
    "km_data = km.transform(pca_data)\n",
    "km_data.shape"
   ]
  },
  {
   "cell_type": "code",
   "execution_count": 15,
   "metadata": {},
   "outputs": [
    {
     "data": {
      "text/plain": [
       "2"
      ]
     },
     "execution_count": 15,
     "metadata": {},
     "output_type": "execute_result"
    }
   ],
   "source": [
    "km.n_iter_"
   ]
  },
  {
   "cell_type": "code",
   "execution_count": 16,
   "metadata": {},
   "outputs": [
    {
     "data": {
      "text/plain": [
       "692512.0266990949"
      ]
     },
     "execution_count": 16,
     "metadata": {},
     "output_type": "execute_result"
    }
   ],
   "source": [
    "km.inertia_"
   ]
  },
  {
   "cell_type": "code",
   "execution_count": 14,
   "metadata": {},
   "outputs": [
    {
     "data": {
      "text/plain": [
       "array([[ 2.70455612e+01,  3.44012091e+00, -1.21510146e+01,\n",
       "        -3.52729189e+00,  5.95358564e-01,  1.75037618e+00,\n",
       "        -3.83699890e+00, -5.75177010e+00, -1.51744167e+00,\n",
       "        -2.78328682e+00,  3.17348137e+00, -1.16922559e+00,\n",
       "         4.57167910e+00,  9.06653869e-01, -2.27556488e+00,\n",
       "         5.27426127e+00,  3.36851877e+00,  3.06208071e+00,\n",
       "         2.40790268e+00,  4.79051960e+00, -2.32042624e+00,\n",
       "        -1.79774635e+00, -6.25807943e-01, -2.48043901e-01,\n",
       "         1.33286352e+00,  5.72501228e-01, -1.48182423e-01,\n",
       "         1.34000235e-01, -1.42171587e+00,  9.39441105e-01,\n",
       "         2.76874243e+00, -1.03863886e+00, -6.23574366e-01,\n",
       "         3.31978274e+00,  7.48499978e-01, -1.57717131e+00,\n",
       "         5.48697956e-01, -7.12970258e-01, -5.01014864e-01,\n",
       "         4.94995393e-15],\n",
       "       [-1.62273367e+01, -2.06407254e+00,  7.29060876e+00,\n",
       "         2.11637513e+00, -3.57215139e-01, -1.05022571e+00,\n",
       "         2.30219934e+00,  3.45106206e+00,  9.10465002e-01,\n",
       "         1.66997209e+00, -1.90408882e+00,  7.01535355e-01,\n",
       "        -2.74300746e+00, -5.43992321e-01,  1.36533893e+00,\n",
       "        -3.16455676e+00, -2.02111126e+00, -1.83724843e+00,\n",
       "        -1.44474161e+00, -2.87431176e+00,  1.39225575e+00,\n",
       "         1.07864781e+00,  3.75484766e-01,  1.48826341e-01,\n",
       "        -7.99718112e-01, -3.43500737e-01,  8.89094540e-02,\n",
       "        -8.04001408e-02,  8.53029521e-01, -5.63664663e-01,\n",
       "        -1.66124546e+00,  6.23183316e-01,  3.74144620e-01,\n",
       "        -1.99186964e+00, -4.49099987e-01,  9.46302788e-01,\n",
       "        -3.29218773e-01,  4.27782155e-01,  3.00608918e-01,\n",
       "         5.10702591e-15]])"
      ]
     },
     "execution_count": 14,
     "metadata": {},
     "output_type": "execute_result"
    }
   ],
   "source": [
    "km.cluster_centers_"
   ]
  },
  {
   "cell_type": "code",
   "execution_count": 17,
   "metadata": {},
   "outputs": [
    {
     "data": {
      "text/plain": [
       "array([1, 1, 1, 1, 1, 1, 1, 1, 1, 1, 1, 1, 1, 1, 1, 1, 1, 1, 1, 1, 1, 0,\n",
       "       0, 0, 0, 0, 0, 1, 0, 0, 1, 0, 0, 0, 0, 0, 1, 0, 1, 0], dtype=int32)"
      ]
     },
     "execution_count": 17,
     "metadata": {},
     "output_type": "execute_result"
    }
   ],
   "source": [
    "km.labels_"
   ]
  },
  {
   "cell_type": "code",
   "execution_count": 12,
   "metadata": {},
   "outputs": [
    {
     "data": {
      "text/plain": [
       "array([[140.87358084, 130.3836165 ],\n",
       "       [114.13239938, 103.72965974],\n",
       "       [134.96171657, 123.68116144],\n",
       "       [134.86111748, 123.39476012],\n",
       "       [138.06813548, 127.18582978],\n",
       "       [151.69573303, 141.10926647],\n",
       "       [123.68157445, 112.75590263],\n",
       "       [153.04411251, 140.72638012],\n",
       "       [155.52547652, 143.22747908],\n",
       "       [115.25576088, 103.20968297],\n",
       "       [129.58022647, 118.56915449],\n",
       "       [144.89036375, 132.51389567],\n",
       "       [133.24957777, 122.57331958],\n",
       "       [153.71996886, 141.37371834],\n",
       "       [110.5433334 ,  98.34719018],\n",
       "       [128.61280731, 117.03814415],\n",
       "       [168.12698188, 156.66885503],\n",
       "       [137.96850703, 126.99946254],\n",
       "       [133.05865701, 122.73049738],\n",
       "       [142.39117467, 130.61935901],\n",
       "       [161.73715647, 154.39125473],\n",
       "       [147.65733148, 160.74187528],\n",
       "       [105.40991368, 115.96615715],\n",
       "       [103.14922427, 112.7318557 ],\n",
       "       [115.54916471, 124.83692401],\n",
       "       [133.48404277, 144.99974983],\n",
       "       [142.21396221, 151.02338172],\n",
       "       [146.96310522, 141.58773883],\n",
       "       [142.032818  , 154.41655427],\n",
       "       [120.75787186, 133.83795172],\n",
       "       [157.22673029, 148.7804775 ],\n",
       "       [133.92638055, 145.05984277],\n",
       "       [146.68735595, 157.9591253 ],\n",
       "       [127.45672916, 135.64736904],\n",
       "       [127.71215879, 137.20702421],\n",
       "       [156.29701192, 166.01005556],\n",
       "       [168.92506105, 161.01583908],\n",
       "       [136.06547387, 147.28083631],\n",
       "       [159.54057316, 151.08133542],\n",
       "       [110.60106268, 119.18722722]])"
      ]
     },
     "execution_count": 12,
     "metadata": {},
     "output_type": "execute_result"
    }
   ],
   "source": [
    "km_data"
   ]
  },
  {
   "cell_type": "code",
   "execution_count": null,
   "metadata": {},
   "outputs": [],
   "source": []
  }
 ],
 "metadata": {
  "kernelspec": {
   "display_name": "Python 3",
   "language": "python",
   "name": "python3"
  },
  "language_info": {
   "codemirror_mode": {
    "name": "ipython",
    "version": 3
   },
   "file_extension": ".py",
   "mimetype": "text/x-python",
   "name": "python",
   "nbconvert_exporter": "python",
   "pygments_lexer": "ipython3",
   "version": "3.8.10"
  }
 },
 "nbformat": 4,
 "nbformat_minor": 4
}
