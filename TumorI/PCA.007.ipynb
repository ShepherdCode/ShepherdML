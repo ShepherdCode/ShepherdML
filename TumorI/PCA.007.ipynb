{
 "cells": [
  {
   "cell_type": "markdown",
   "metadata": {},
   "source": [
    "# Principal Component Analysis\n",
    "The goal is to produced a reduced-dimension version of VGG features."
   ]
  },
  {
   "cell_type": "code",
   "execution_count": 1,
   "metadata": {},
   "outputs": [],
   "source": [
    "from sklearn.preprocessing import StandardScaler\n",
    "from sklearn.decomposition import PCA\n",
    "import numpy as np"
   ]
  },
  {
   "cell_type": "code",
   "execution_count": 2,
   "metadata": {},
   "outputs": [
    {
     "data": {
      "text/plain": [
       "(40, 25088)"
      ]
     },
     "execution_count": 2,
     "metadata": {},
     "output_type": "execute_result"
    }
   ],
   "source": [
    "infile='/home/jrm/Martinez/images/features/G15_I1.features.csv'\n",
    "handle=open(infile, \"r\")\n",
    "raw_data = np.loadtxt(handle, delimiter=\",\")\n",
    "raw_data.shape"
   ]
  },
  {
   "cell_type": "code",
   "execution_count": 3,
   "metadata": {},
   "outputs": [
    {
     "data": {
      "text/plain": [
       "(40, 25088)"
      ]
     },
     "execution_count": 3,
     "metadata": {},
     "output_type": "execute_result"
    }
   ],
   "source": [
    "scaler = StandardScaler()\n",
    "scaler.fit(raw_data)\n",
    "scaled_data = scaler.transform(raw_data)\n",
    "scaled_data.shape"
   ]
  },
  {
   "cell_type": "markdown",
   "metadata": {},
   "source": [
    "## Notes on PCA\n",
    "From https://scikit-learn.org/stable/modules/generated/sklearn.decomposition.PCA.html  \n",
    "The input data is centered but not scaled for each feature before applying the SVD.  \n",
    "\n",
    "Do VGG features need scaling for variance?  \n",
    "For now, we are not partitioning the data into train and test."
   ]
  },
  {
   "cell_type": "code",
   "execution_count": 4,
   "metadata": {},
   "outputs": [],
   "source": [
    "model = PCA()\n",
    "model.fit(scaled_data)\n",
    "pca_data = model.transform(scaled_data)"
   ]
  },
  {
   "cell_type": "code",
   "execution_count": 5,
   "metadata": {},
   "outputs": [
    {
     "data": {
      "text/plain": [
       "(40, 40)"
      ]
     },
     "execution_count": 5,
     "metadata": {},
     "output_type": "execute_result"
    }
   ],
   "source": [
    "pca_data.shape"
   ]
  },
  {
   "cell_type": "code",
   "execution_count": 6,
   "metadata": {},
   "outputs": [
    {
     "data": {
      "text/plain": [
       "array([4.23736733e-02, 3.88529436e-02, 3.73245623e-02, 3.61506704e-02,\n",
       "       3.46757405e-02, 3.33440294e-02, 3.31600864e-02, 3.28171457e-02,\n",
       "       3.19821134e-02, 3.08648289e-02, 3.01181019e-02, 2.92716074e-02,\n",
       "       2.91256308e-02, 2.83477290e-02, 2.76216937e-02, 2.75027228e-02,\n",
       "       2.66044836e-02, 2.63870156e-02, 2.57683148e-02, 2.53383236e-02,\n",
       "       2.45337143e-02, 2.36470808e-02, 2.34585390e-02, 2.30035640e-02,\n",
       "       2.24203457e-02, 2.20806599e-02, 2.17605971e-02, 2.13491166e-02,\n",
       "       2.10972618e-02, 2.02750482e-02, 1.98264638e-02, 1.90943506e-02,\n",
       "       1.82065833e-02, 1.71271026e-02, 1.67413494e-02, 1.51994239e-02,\n",
       "       1.46185525e-02, 1.44386287e-02, 1.34902004e-02, 8.35673096e-33])"
      ]
     },
     "execution_count": 6,
     "metadata": {},
     "output_type": "execute_result"
    }
   ],
   "source": [
    "model.explained_variance_ratio_"
   ]
  },
  {
   "cell_type": "markdown",
   "metadata": {},
   "source": [
    "The first PC only explains 4% of variance.  \n",
    "The skee plot is flat, so there is no natural cutoff (expect at 39th PC).  "
   ]
  },
  {
   "cell_type": "code",
   "execution_count": 7,
   "metadata": {},
   "outputs": [
    {
     "data": {
      "text/plain": [
       "1.0000000000000002"
      ]
     },
     "execution_count": 7,
     "metadata": {},
     "output_type": "execute_result"
    }
   ],
   "source": [
    "sum(model.explained_variance_ratio_)  # 100% (but lots of variance remains unexplained)"
   ]
  },
  {
   "cell_type": "code",
   "execution_count": 8,
   "metadata": {},
   "outputs": [],
   "source": [
    "ofile = '/home/jrm/Martinez/images/features/G15_I1.pca.csv'\n",
    "np.savetxt(ofile, pca_data, delimiter=\",\")"
   ]
  },
  {
   "cell_type": "code",
   "execution_count": null,
   "metadata": {},
   "outputs": [],
   "source": []
  }
 ],
 "metadata": {
  "kernelspec": {
   "display_name": "Python 3",
   "language": "python",
   "name": "python3"
  },
  "language_info": {
   "codemirror_mode": {
    "name": "ipython",
    "version": 3
   },
   "file_extension": ".py",
   "mimetype": "text/x-python",
   "name": "python",
   "nbconvert_exporter": "python",
   "pygments_lexer": "ipython3",
   "version": "3.8.10"
  }
 },
 "nbformat": 4,
 "nbformat_minor": 4
}
