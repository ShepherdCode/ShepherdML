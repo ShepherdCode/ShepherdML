{
 "cells": [
  {
   "cell_type": "markdown",
   "metadata": {},
   "source": [
    "# Train a CNN on the color-based training set.\n",
    "Classify patches from all Y-neg tumors.  \n",
    "Regain those that are certainly blue or certainly green.\n",
    "Stuck: out of memory trying to load X_train.  \n",
    "Stuck: loss=nan during first epoch using only one image."
   ]
  },
  {
   "cell_type": "code",
   "execution_count": 1,
   "metadata": {},
   "outputs": [],
   "source": [
    "import time\n",
    "import os\n",
    "import glob\n",
    "import cv2 # OpenCV-Python\n",
    "from PIL import Image\n",
    "Image.MAX_IMAGE_PIXELS = None\n",
    "import numpy as np\n",
    "import json\n",
    "DIR_IMAGES_RAW = \"/home/jrm/Martinez/images/raw/\"\n",
    "DIR_IMAGES_OUT = \"/home/jrm/Martinez/images/temp/\"\n",
    "PATTERN_IMAGES_RAW = \"*.DF1.*.tif\"\n",
    "PATCH_SIZE=224  # matches VGG\n",
    "IMAGE_FILENAME='B13.DF1.115.tif'"
   ]
  },
  {
   "cell_type": "code",
   "execution_count": 2,
   "metadata": {},
   "outputs": [],
   "source": [
    "DF_Ypos = ['B7.','B15','D1.','D5.','E7.','E9.','F9.','G3.','H13','I1.','I5.','I13']\n",
    "DF_Yneg = ['A3.','A5.','B13','C1.','C11','D3.','E5.','F3.','F7','F11','F13','F15','G15','H1.','H3.','H7.','H15']"
   ]
  },
  {
   "cell_type": "code",
   "execution_count": 3,
   "metadata": {},
   "outputs": [],
   "source": [
    "def get_image_names(path,pattern):\n",
    "    #RAW_IMAGE_NAMES = os.listdir(DIR_IMAGES_RAW)\n",
    "    paths = glob.glob(path+pattern)\n",
    "    names = [os.path.basename(x) for x in paths]\n",
    "    return names\n",
    "FILENAMES_IMAGES_RAW = get_image_names(DIR_IMAGES_RAW,PATTERN_IMAGES_RAW)\n",
    "#FILENAMES_IMAGES_RAW"
   ]
  },
  {
   "cell_type": "code",
   "execution_count": 4,
   "metadata": {},
   "outputs": [],
   "source": [
    "class patch_maker:\n",
    "    def __init__(self):\n",
    "        self.path=\"\"\n",
    "        self.w=0\n",
    "        self.h=0\n",
    "        self.im_width = 0\n",
    "        self.im_height = 0\n",
    "        self.patch_size = 10 # scalar, assumed square for now\n",
    "        self.pixel_array = None\n",
    "    def set_input_path(self,path):\n",
    "        self.path=path\n",
    "    def set_patch_size(self,scalar):\n",
    "        self.patch_size = scalar\n",
    "    def load_pixel_array(self,filename,verbose=False):\n",
    "        self.w=0\n",
    "        self.h=0\n",
    "        im = Image.open(self.path+filename)\n",
    "        ima = np.array(im)   # convert to numpy\n",
    "        self.im_width = ima.shape[0]\n",
    "        self.im_height = ima.shape[1]    \n",
    "        if verbose:\n",
    "            print(filename, ima.size, ima.shape)\n",
    "        self.pixel_array = ima\n",
    "        return ima\n",
    "    def get_next_patch(self): \n",
    "        IM_WIDTH = self.im_width\n",
    "        IM_HEIGHT = self.im_height\n",
    "        PIXEL_ARRAY = self.pixel_array\n",
    "        patch = None\n",
    "        if self.w+self.patch_size > IM_WIDTH:\n",
    "            self.h += self.patch_size\n",
    "            self.w = 0\n",
    "        if self.w+self.patch_size <= IM_WIDTH and self.h+self.patch_size <= IM_HEIGHT:\n",
    "            patch = PIXEL_ARRAY[self.w:self.w+self.patch_size, self.h:self.h+self.patch_size]\n",
    "            self.w += self.patch_size\n",
    "        return patch"
   ]
  },
  {
   "cell_type": "markdown",
   "metadata": {},
   "source": [
    "### Image patch counts: green, blue, total\n",
    "Analyzing F15.DF1.135.tif 34 262 3135   \n",
    "Analyzing H3.DF1.27.tif 110 30 3135  \n",
    "Analyzing C11.DF1.96.tif 292 16 3135  \n",
    "Analyzing C1.DF1.01.tif 69 293 3135  \n",
    "Analyzing F11.DF1.94.tif 54 375 3135  \n",
    "Analyzing H7.DF1.62.tif 178 228 3135  \n",
    "Analyzing A3.DF1.26.tif 1 1482 3135  \n",
    "Analyzing A5.DF1.45.tif 454 6 3135  \n",
    "Analyzing H15.DF1.132.tif 66 0 3135  \n",
    "Analyzing G15.DF1.133.tif 239 0 3135  \n",
    "Analyzing F3.DF1.22.tif 430 41 3135  \n",
    "Analyzing B13.DF1.115.tif 70 407 3135  \n",
    "Analyzing D3.DF1.20.tif 325 4 3135  \n",
    "Analyzing E5.DF1.42.tif 31 266 3135  \n",
    "Analyzing H1.DF1.07.tif 593 0 3135  "
   ]
  },
  {
   "cell_type": "code",
   "execution_count": 5,
   "metadata": {},
   "outputs": [
    {
     "name": "stdout",
     "output_type": "stream",
     "text": [
      "F15.DF1.135.tif, \n"
     ]
    }
   ],
   "source": [
    "NO_GREEN_INTENSITY=np.array( [0,35,0] )\n",
    "NO_BLUE_INTENSITY=np.array( [0,0,30] )\n",
    "pm = patch_maker()\n",
    "pm.set_input_path(DIR_IMAGES_RAW)\n",
    "pm.set_patch_size(PATCH_SIZE)\n",
    "X_train=[]\n",
    "Y_train=[]\n",
    "X_valid=[]\n",
    "Y_valid=[]\n",
    "VMOD=10\n",
    "pcount=0\n",
    "BLUE=1\n",
    "GREEN=0\n",
    "def add_patch (patch, color):  # TO DO: make this a class, dispense with globals\n",
    "    global pcount\n",
    "    global VMOD\n",
    "    if pcount >= VMOD:\n",
    "        X_valid.append(patch)\n",
    "        Y_valid.append(color)\n",
    "        pcount = 0\n",
    "    else:\n",
    "        X_train.append(patch)\n",
    "        Y_train.append(color)\n",
    "        pcount += 1\n",
    "for filename in FILENAMES_IMAGES_RAW:\n",
    "    prefix = filename[0:3]\n",
    "    if prefix in DF_Yneg:\n",
    "        print(filename,end=\", \")\n",
    "        pixels = pm.load_pixel_array(filename)\n",
    "        patch = pm.get_next_patch()\n",
    "        while patch is not None:\n",
    "            num_green_pixels = np.sum(np.all(patch >= NO_GREEN_INTENSITY,axis=2))\n",
    "            num_blue_pixels = np.sum(np.all(patch >= NO_BLUE_INTENSITY,axis=2))\n",
    "            if num_blue_pixels>=10000 and num_blue_pixels>num_green_pixels*20:\n",
    "                add_patch(patch,BLUE)\n",
    "            elif num_green_pixels>=15000 and num_green_pixels>num_blue_pixels*2:\n",
    "                add_patch(patch,GREEN)\n",
    "            patch = pm.get_next_patch()\n",
    "    break  # FOR STARTERS, JUST PROCESS ONE FILE!\n",
    "print()\n",
    "# Required for tensorflow+\n",
    "X_train = np.asarray(X_train)\n",
    "Y_train = np.asarray(Y_train)\n",
    "X_valid = np.asarray(X_valid)\n",
    "Y_valid = np.asarray(Y_valid)"
   ]
  },
  {
   "cell_type": "code",
   "execution_count": 6,
   "metadata": {},
   "outputs": [
    {
     "name": "stdout",
     "output_type": "stream",
     "text": [
      "<class 'numpy.ndarray'>\n",
      "270\n",
      "(224, 224, 3)\n",
      "[1 1 1 1 0 1 1 1 1 1 1 1 1 1 1 1 1 1 0 1 1 1 1 1 1 1]\n"
     ]
    }
   ],
   "source": [
    "print(type(X_train))\n",
    "print(len(X_train))\n",
    "print(X_train[0].shape)\n",
    "print(Y_valid)"
   ]
  },
  {
   "cell_type": "code",
   "execution_count": 7,
   "metadata": {},
   "outputs": [],
   "source": [
    "from tensorflow import keras\n",
    "import keras.layers as kl\n",
    "INPUT_SHAPE=[PATCH_SIZE,PATCH_SIZE,3]\n",
    "cnn = keras.models.Sequential([\n",
    "    kl.Conv2D(filters=64,kernel_size=7,activation=\"relu\",padding=\"SAME\",\n",
    "    input_shape=INPUT_SHAPE),\n",
    "    kl.MaxPooling2D(2),\n",
    "    kl.Conv2D(128,3,activation=\"relu\",padding=\"same\"),\n",
    "    kl.Conv2D(128,3,activation=\"relu\",padding=\"same\"),\n",
    "    kl.MaxPooling2D(2),   \n",
    "    kl.Conv2D(256,3,activation=\"relu\",padding=\"same\"),\n",
    "    kl.Conv2D(256,3,activation=\"relu\",padding=\"same\"),\n",
    "    kl.MaxPooling2D(2), \n",
    "    kl.Flatten(),\n",
    "    kl.Dense(128,activation=\"relu\"),\n",
    "    kl.Dropout(0.5),\n",
    "    kl.Dense(64,activation=\"relu\"),\n",
    "    kl.Dropout(0.5),    \n",
    "    kl.Dense(2,activation=\"softmax\")\n",
    "])\n",
    "# 10 nodes in the output layer\n",
    "# corresponds to 10 classes of MNIST clothes.\n",
    "# cnn.layers[0].weights"
   ]
  },
  {
   "cell_type": "code",
   "execution_count": 8,
   "metadata": {},
   "outputs": [
    {
     "name": "stdout",
     "output_type": "stream",
     "text": [
      "Epoch 1/3\n",
      "9/9 [==============================] - 35s 4s/step - loss: nan - accuracy: 0.3185 - val_loss: nan - val_accuracy: 0.0769\n",
      "Epoch 2/3\n",
      "9/9 [==============================] - 34s 4s/step - loss: nan - accuracy: 0.1185 - val_loss: nan - val_accuracy: 0.0769\n",
      "Epoch 3/3\n",
      "9/9 [==============================] - 35s 4s/step - loss: nan - accuracy: 0.1185 - val_loss: nan - val_accuracy: 0.0769\n"
     ]
    }
   ],
   "source": [
    "cnn.compile(loss=\"sparse_categorical_crossentropy\",\n",
    "           optimizer=\"sgd\",\n",
    "           metrics=[\"accuracy\"])\n",
    "hist = cnn.fit(X_train,Y_train,epochs=3,\n",
    "                 validation_data=(X_valid,Y_valid))"
   ]
  },
  {
   "cell_type": "code",
   "execution_count": 10,
   "metadata": {},
   "outputs": [
    {
     "data": {
      "image/png": "[encoded data removed]",
      "text/plain": [
       "<Figure size 576x360 with 1 Axes>"
      ]
     },
     "metadata": {
      "needs_background": "light"
     },
     "output_type": "display_data"
    }
   ],
   "source": [
    "import pandas as pd\n",
    "import matplotlib.pyplot as plt\n",
    "pd.DataFrame(hist.history).plot(figsize=(8,5))\n",
    "plt.grid(True)\n",
    "plt.gca().set_ylim(0,0.12)\n",
    "plt.show()"
   ]
  },
  {
   "cell_type": "code",
   "execution_count": null,
   "metadata": {},
   "outputs": [],
   "source": []
  }
 ],
 "metadata": {
  "kernelspec": {
   "display_name": "Python 3",
   "language": "python",
   "name": "python3"
  },
  "language_info": {
   "codemirror_mode": {
    "name": "ipython",
    "version": 3
   },
   "file_extension": ".py",
   "mimetype": "text/x-python",
   "name": "python",
   "nbconvert_exporter": "python",
   "pygments_lexer": "ipython3",
   "version": "3.8.10"
  }
 },
 "nbformat": 4,
 "nbformat_minor": 4
}
