{
 "cells": [
  {
   "cell_type": "markdown",
   "metadata": {},
   "source": [
    "# Random Forest Classifier with Feature Elimination\n",
    "\n",
    "Try correlated feature elimination to improve the explainability of results.\n",
    "\n",
    "Darst, B.F., Malecki, K.C. & Engelman, C.D. Using recursive feature elimination in random forest to account for correlated variables in high dimensional data. BMC Genet 19, 65 (2018). https://doi.org/10.1186/s12863-018-0633-8\n",
    "\n",
    "Gregorutti, B., Michel, B. & Saint-Pierre, P. Correlation and variable importance in random forests. Stat Comput 27, 659–678 (2017). https://doi.org/10.1007/s11222-016-9646-1\n",
    "\n",
    "The sklearn class RFE recursively removes least important feature till default=half are left.    \n",
    "The sklearn class RFECV decides when to stop by doing cross-validation after each round.  \n"
   ]
  },
  {
   "cell_type": "code",
   "execution_count": 1,
   "metadata": {},
   "outputs": [
    {
     "name": "stdout",
     "output_type": "stream",
     "text": [
      "Python 3.8.10\n",
      "sklearn 1.0.2\n"
     ]
    }
   ],
   "source": [
    "from platform import python_version\n",
    "print('Python',python_version())\n",
    "import numpy as np\n",
    "import pandas as pd\n",
    "import sklearn\n",
    "print('sklearn',sklearn.__version__)"
   ]
  },
  {
   "cell_type": "code",
   "execution_count": 2,
   "metadata": {},
   "outputs": [],
   "source": [
    "from sklearn.model_selection import cross_val_score\n",
    "from sklearn.model_selection import RepeatedStratifiedKFold\n",
    "from sklearn.ensemble import RandomForestClassifier\n",
    "from sklearn.model_selection import train_test_split\n",
    "from sklearn.metrics import confusion_matrix\n",
    "from sklearn.feature_selection import RFE"
   ]
  },
  {
   "cell_type": "code",
   "execution_count": 3,
   "metadata": {},
   "outputs": [
    {
     "data": {
      "text/plain": [
       "array([[0, 0],\n",
       "       [1, 1]])"
      ]
     },
     "execution_count": 3,
     "metadata": {},
     "output_type": "execute_result"
    }
   ],
   "source": [
    "# How to interpret the confusion matrix.\n",
    "# The CM considers 0=Positive and 1=Negative.\n",
    "# TP FP |  True 0=Y-neg  False 0=Y-neg\n",
    "# FN TN | False 1=Y-pos  True 1=Y-pos\n",
    "# Note 1=Ypos=\"Negative\", 0=Yneg=\"Positive\", so it appears backwards.\n",
    "ytest=[1,1]\n",
    "ypred=[1,0]\n",
    "confusion_matrix(ytest,ypred)  "
   ]
  },
  {
   "cell_type": "markdown",
   "metadata": {},
   "source": [
    "## Load Train and Test Sets"
   ]
  },
  {
   "cell_type": "code",
   "execution_count": 4,
   "metadata": {},
   "outputs": [],
   "source": [
    "def make_dataframe(filename):\n",
    "    df = pd.read_csv(filename,dtype=np.float32)  # remove dtype?\n",
    "    count1 = df.isnull().sum().sum()\n",
    "    print('Zero out this many NaN:', count1)\n",
    "    df = df.fillna(0)\n",
    "    count2 = df.isnull().sum().sum()\n",
    "    print('Now how many NaN?:', count2)\n",
    "    print('Largest value:', df.max().max())\n",
    "    print('Smallest:', df.min().min())\n",
    "    return df"
   ]
  },
  {
   "cell_type": "code",
   "execution_count": 5,
   "metadata": {},
   "outputs": [
    {
     "name": "stdout",
     "output_type": "stream",
     "text": [
      "Zero out this many NaN: 35\n",
      "Now how many NaN?: 0\n",
      "Largest value: 19328.0\n",
      "Smallest: -89.999825\n"
     ]
    }
   ],
   "source": [
    "FILENAME_YPOS = '/home/jrm/Martinez/CellProfilerRuns/CP_20220417_Ypos/Nuclei.CP_20220417_Ypos.csv'\n",
    "feature_vec_Ypos = make_dataframe(FILENAME_YPOS)\n",
    "#feature_vec_Ypos"
   ]
  },
  {
   "cell_type": "code",
   "execution_count": 6,
   "metadata": {},
   "outputs": [
    {
     "name": "stdout",
     "output_type": "stream",
     "text": [
      "Zero out this many NaN: 20\n",
      "Now how many NaN?: 0\n",
      "Largest value: 25110.0\n",
      "Smallest: -89.99928\n"
     ]
    }
   ],
   "source": [
    "FILENAME_YNEG = '/home/jrm/Martinez/CellProfilerRuns/CP_20220417_Yneg/Nuclei.CP_20220417_Yneg.csv'\n",
    "feature_vec_Yneg = make_dataframe(FILENAME_YNEG)\n",
    "#feature_vec_Yneg"
   ]
  },
  {
   "cell_type": "code",
   "execution_count": 7,
   "metadata": {},
   "outputs": [
    {
     "name": "stdout",
     "output_type": "stream",
     "text": [
      "The dataframes are compatible.\n"
     ]
    }
   ],
   "source": [
    "Ypos_rows,Ypos_cols = feature_vec_Ypos.shape\n",
    "Yneg_rows,Yneg_cols = feature_vec_Yneg.shape\n",
    "if Ypos_cols == Yneg_cols:\n",
    "    print('The dataframes are compatible.')\n",
    "else:\n",
    "    print('ERROR! Column counts do not match.')"
   ]
  },
  {
   "cell_type": "code",
   "execution_count": 8,
   "metadata": {},
   "outputs": [],
   "source": [
    "feature_vec_all = pd.concat ( [feature_vec_Ypos, feature_vec_Yneg], ignore_index=True )\n",
    "label_vec_Ypos = np.ones(Ypos_rows,dtype=int)\n",
    "label_vec_Yneg = np.zeros(Yneg_rows,dtype=int)\n",
    "label_vec_all = np.concatenate ( [label_vec_Ypos, label_vec_Yneg] )"
   ]
  },
  {
   "cell_type": "code",
   "execution_count": 9,
   "metadata": {},
   "outputs": [
    {
     "name": "stdout",
     "output_type": "stream",
     "text": [
      "Xtrain (28364, 68) ytrain (28364,) ones: 13621\n",
      "Xtest (9455, 68) ytest (9455,) ones: 4517\n"
     ]
    }
   ],
   "source": [
    "# Default test size is 25%\n",
    "Xtrain,Xtest,ytrain,ytest = train_test_split(feature_vec_all, label_vec_all.ravel(), random_state=42)\n",
    "print('Xtrain',Xtrain.shape,'ytrain',ytrain.shape,'ones:',np.count_nonzero(ytrain))\n",
    "print('Xtest',Xtest.shape,'ytest',ytest.shape,'ones:',np.count_nonzero(ytest))"
   ]
  },
  {
   "cell_type": "markdown",
   "metadata": {},
   "source": [
    "## Random Forest Utility Class"
   ]
  },
  {
   "cell_type": "code",
   "execution_count": 10,
   "metadata": {},
   "outputs": [],
   "source": [
    "class RF_Util:\n",
    "    def __init__(self):\n",
    "        self.model=RandomForestClassifier()\n",
    "    def get_model(self):\n",
    "        return self.model\n",
    "    def set_train(self,X,y):\n",
    "        self.Xtr = X\n",
    "        self.ytr = y\n",
    "    def set_test(self,X,y):\n",
    "        self.Xte = X\n",
    "        self.yte = y\n",
    "    def fit(self):\n",
    "        self.model.fit(self.Xtr,self.ytr)\n",
    "    def test_accuracy(self):\n",
    "        ypred = self.model.predict(self.Xte)\n",
    "        matches = np.count_nonzero(self.yte==ypred)\n",
    "        accuracy = 100.0 * matches / len(ytest)\n",
    "        return accuracy\n",
    "    def test_confusion(self):\n",
    "        ypred = self.model.predict(self.Xte)\n",
    "        cm = confusion_matrix(self.yte, ypred)\n",
    "        return cm\n",
    "    def important_features(self):\n",
    "        names = self.model.feature_names_in_\n",
    "        importances = self.model.feature_importances_\n",
    "        pairs = np.column_stack( (names,importances) )\n",
    "        top_array = sorted(pairs, key = lambda e:e[1], reverse=True)\n",
    "        # This must be a way to do this witout a loop!\n",
    "        top_list = []\n",
    "        for i in top_array:\n",
    "             top_list.append((i[1],i[0]))  # 0=feature_name, 1=importance\n",
    "        top_df = pd.DataFrame(top_list)\n",
    "        return top_df"
   ]
  },
  {
   "cell_type": "markdown",
   "metadata": {},
   "source": [
    "## Random Forest 1 - All Features"
   ]
  },
  {
   "cell_type": "code",
   "execution_count": 11,
   "metadata": {},
   "outputs": [
    {
     "name": "stdout",
     "output_type": "stream",
     "text": [
      "Train on all Features\n",
      "Accuracy: 61.068217874140664\n",
      "Confusion:\n",
      "[[3273 1665]\n",
      " [2016 2501]]\n",
      "The impurity-based feature importances.\n"
     ]
    },
    {
     "data": {
      "text/html": [
       "<div>\n",
       "<style scoped>\n",
       "    .dataframe tbody tr th:only-of-type {\n",
       "        vertical-align: middle;\n",
       "    }\n",
       "\n",
       "    .dataframe tbody tr th {\n",
       "        vertical-align: top;\n",
       "    }\n",
       "\n",
       "    .dataframe thead th {\n",
       "        text-align: right;\n",
       "    }\n",
       "</style>\n",
       "<table border=\"1\" class=\"dataframe\">\n",
       "  <thead>\n",
       "    <tr style=\"text-align: right;\">\n",
       "      <th></th>\n",
       "      <th>0</th>\n",
       "      <th>1</th>\n",
       "    </tr>\n",
       "  </thead>\n",
       "  <tbody>\n",
       "    <tr>\n",
       "      <th>0</th>\n",
       "      <td>0.031536</td>\n",
       "      <td>AreaShape_Orientation</td>\n",
       "    </tr>\n",
       "    <tr>\n",
       "      <th>1</th>\n",
       "      <td>0.019301</td>\n",
       "      <td>Neighbors_SecondClosestDistance_Expanded</td>\n",
       "    </tr>\n",
       "    <tr>\n",
       "      <th>2</th>\n",
       "      <td>0.019060</td>\n",
       "      <td>AreaShape_MeanRadius</td>\n",
       "    </tr>\n",
       "    <tr>\n",
       "      <th>3</th>\n",
       "      <td>0.018697</td>\n",
       "      <td>ImageNumber</td>\n",
       "    </tr>\n",
       "    <tr>\n",
       "      <th>4</th>\n",
       "      <td>0.018116</td>\n",
       "      <td>AreaShape_Extent</td>\n",
       "    </tr>\n",
       "  </tbody>\n",
       "</table>\n",
       "</div>"
      ],
      "text/plain": [
       "          0                                         1\n",
       "0  0.031536                     AreaShape_Orientation\n",
       "1  0.019301  Neighbors_SecondClosestDistance_Expanded\n",
       "2  0.019060                      AreaShape_MeanRadius\n",
       "3  0.018697                               ImageNumber\n",
       "4  0.018116                          AreaShape_Extent"
      ]
     },
     "execution_count": 11,
     "metadata": {},
     "output_type": "execute_result"
    }
   ],
   "source": [
    "print('Train on all Features')\n",
    "rf1 = RF_Util()\n",
    "rf1.set_train(Xtrain,ytrain)\n",
    "rf1.set_test(Xtest,ytest)\n",
    "rf1.fit()\n",
    "print('Accuracy:',rf1.test_accuracy())\n",
    "print('Confusion:')\n",
    "print(rf1.test_confusion())\n",
    "print('The impurity-based feature importances.')\n",
    "top = rf1.important_features()\n",
    "top.head()"
   ]
  },
  {
   "cell_type": "markdown",
   "metadata": {},
   "source": [
    "## Random Forest 2 - Reduced Features"
   ]
  },
  {
   "cell_type": "code",
   "execution_count": 12,
   "metadata": {},
   "outputs": [
    {
     "name": "stdout",
     "output_type": "stream",
     "text": [
      "Ranking [ 1 30 18 19 25 24 28 29  1 12  1 22 17  1 34  1  1 15 21 10  1 32  1  1\n",
      "  1 20  1  1  1  1  1 14  7  1  9  1  1  1 16 11  1  5  4  8  1  1  1  1\n",
      "  6  1  1  1  1  1  3  2  1 13  1 35  1  1 26 33 27  1 23 31]\n"
     ]
    }
   ],
   "source": [
    "model = rf1.get_model()\n",
    "rfe = RFE(model)  # Random Forest feature Elimination model\n",
    "rfe.fit(Xtrain,ytrain) # This is slow! Uses 100% cpu but 0% gpu.\n",
    "print('Ranking',rfe.ranking_) # Selected features get rank=1. Large numbers mean not selected.\n",
    "support = rfe.support_\n",
    "no_support = np.invert(rfe.support_)\n",
    "selected = rfe.feature_names_in_[rfe.support_]\n",
    "not_selected = rfe.feature_names_in_[no_support]\n",
    "Xtest_reduced = Xtest.drop(not_selected,axis=1)\n",
    "Xtrain_reduced = Xtrain.drop(not_selected,axis=1)"
   ]
  },
  {
   "cell_type": "code",
   "execution_count": 13,
   "metadata": {},
   "outputs": [
    {
     "name": "stdout",
     "output_type": "stream",
     "text": [
      "Train on all Features\n",
      "Accuracy: 61.64992067689053\n",
      "Confusion:\n",
      "[[3314 1624]\n",
      " [2002 2515]]\n",
      "The impurity-based feature importances.\n"
     ]
    },
    {
     "data": {
      "text/html": [
       "<div>\n",
       "<style scoped>\n",
       "    .dataframe tbody tr th:only-of-type {\n",
       "        vertical-align: middle;\n",
       "    }\n",
       "\n",
       "    .dataframe tbody tr th {\n",
       "        vertical-align: top;\n",
       "    }\n",
       "\n",
       "    .dataframe thead th {\n",
       "        text-align: right;\n",
       "    }\n",
       "</style>\n",
       "<table border=\"1\" class=\"dataframe\">\n",
       "  <thead>\n",
       "    <tr style=\"text-align: right;\">\n",
       "      <th></th>\n",
       "      <th>0</th>\n",
       "      <th>1</th>\n",
       "    </tr>\n",
       "  </thead>\n",
       "  <tbody>\n",
       "    <tr>\n",
       "      <th>0</th>\n",
       "      <td>0.044978</td>\n",
       "      <td>AreaShape_Orientation</td>\n",
       "    </tr>\n",
       "    <tr>\n",
       "      <th>1</th>\n",
       "      <td>0.035577</td>\n",
       "      <td>AreaShape_MeanRadius</td>\n",
       "    </tr>\n",
       "    <tr>\n",
       "      <th>2</th>\n",
       "      <td>0.031821</td>\n",
       "      <td>Neighbors_SecondClosestDistance_Expanded</td>\n",
       "    </tr>\n",
       "    <tr>\n",
       "      <th>3</th>\n",
       "      <td>0.031673</td>\n",
       "      <td>ImageNumber</td>\n",
       "    </tr>\n",
       "    <tr>\n",
       "      <th>4</th>\n",
       "      <td>0.031550</td>\n",
       "      <td>AreaShape_Extent</td>\n",
       "    </tr>\n",
       "  </tbody>\n",
       "</table>\n",
       "</div>"
      ],
      "text/plain": [
       "          0                                         1\n",
       "0  0.044978                     AreaShape_Orientation\n",
       "1  0.035577                      AreaShape_MeanRadius\n",
       "2  0.031821  Neighbors_SecondClosestDistance_Expanded\n",
       "3  0.031673                               ImageNumber\n",
       "4  0.031550                          AreaShape_Extent"
      ]
     },
     "execution_count": 13,
     "metadata": {},
     "output_type": "execute_result"
    }
   ],
   "source": [
    "print('Train on all Features')\n",
    "rf2 = RF_Util()\n",
    "rf2.set_train(Xtrain_reduced,ytrain) # X has fewer columns but y is unchanged\n",
    "rf2.set_test(Xtest_reduced,ytest)\n",
    "rf2.fit()\n",
    "print('Accuracy:',rf2.test_accuracy())\n",
    "print('Confusion:')\n",
    "print(rf2.test_confusion())\n",
    "print('The impurity-based feature importances.')\n",
    "top = rf2.important_features()\n",
    "top.head()"
   ]
  },
  {
   "cell_type": "code",
   "execution_count": null,
   "metadata": {},
   "outputs": [],
   "source": []
  }
 ],
 "metadata": {
  "kernelspec": {
   "display_name": "Python 3",
   "language": "python",
   "name": "python3"
  },
  "language_info": {
   "codemirror_mode": {
    "name": "ipython",
    "version": 3
   },
   "file_extension": ".py",
   "mimetype": "text/x-python",
   "name": "python",
   "nbconvert_exporter": "python",
   "pygments_lexer": "ipython3",
   "version": "3.8.10"
  }
 },
 "nbformat": 4,
 "nbformat_minor": 4
}
