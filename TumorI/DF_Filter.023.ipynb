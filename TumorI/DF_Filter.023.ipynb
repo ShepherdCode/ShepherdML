{
 "cells": [
  {
   "cell_type": "markdown",
   "metadata": {},
   "source": [
    "# Redo Big Run: apply small color 3-class CNN to mixed patches\n",
    "\n",
    "This file is similar to DF_Filter.020\n",
    "Use the CNN was trained on the obviously blue, green, black from DF_Filter.021      \n",
    "Predict the 'mixed' patches i.e. not obviously blue, green, black from DF_Filter.021  \n",
    "Generate csv file."
   ]
  },
  {
   "cell_type": "code",
   "execution_count": 1,
   "metadata": {},
   "outputs": [],
   "source": [
    "import time\n",
    "import os\n",
    "#  os.environ['CUDA_VISIBLE_DEVICES'] = \"0\"   # turns off GPU?\n",
    "import glob\n",
    "import cv2 # OpenCV-Python\n",
    "from PIL import Image\n",
    "Image.MAX_IMAGE_PIXELS = None\n",
    "import numpy as np\n",
    "import json\n",
    "import tensorflow as tf\n",
    "from tensorflow import keras\n",
    "import keras.layers as kl\n",
    "import pandas as pd\n",
    "import matplotlib.pyplot as plt\n"
   ]
  },
  {
   "cell_type": "code",
   "execution_count": 2,
   "metadata": {},
   "outputs": [
    {
     "name": "stdout",
     "output_type": "stream",
     "text": [
      "Will use model from /home/jrm/Martinez/models/CNN_SMALL_REDO\n"
     ]
    }
   ],
   "source": [
    "DIR_IMAGES_IN = \"/home/jrm/Martinez/images/patches/\"\n",
    "#DIR_IMAGES_IN = \"/home/jrm/Martinez/images/tinytest/\"   # just for testing\n",
    "PATTERN_PATCHES = \"*.jpg\"\n",
    "OUTPUT_CSV = \"predictions.csv\"\n",
    "PATCH_SIZE=224  # matches VGG\n",
    "IMAGE_SIZE=(PATCH_SIZE,PATCH_SIZE)\n",
    "DIR_MODELS = \"/home/jrm/Martinez/models/\"\n",
    "FILE_MODEL = \"CNN_SMALL_REDO\"\n",
    "filepath=DIR_MODELS+FILE_MODEL\n",
    "print(\"Will use model from \"+filepath)\n",
    "cnn = keras.models.load_model(filepath)"
   ]
  },
  {
   "cell_type": "code",
   "execution_count": 3,
   "metadata": {},
   "outputs": [],
   "source": [
    "def get_image_names(path,pattern):\n",
    "    paths = glob.glob(path+pattern)\n",
    "    names = [os.path.basename(x) for x in paths]\n",
    "    return names\n",
    "FILENAMES_PATCHES = get_image_names(DIR_IMAGES_IN,PATTERN_PATCHES)"
   ]
  },
  {
   "cell_type": "code",
   "execution_count": 4,
   "metadata": {},
   "outputs": [],
   "source": [
    "normalization_layer = kl.Rescaling(1.0/255.0)"
   ]
  },
  {
   "cell_type": "code",
   "execution_count": 6,
   "metadata": {
    "scrolled": true
   },
   "outputs": [
    {
     "name": "stdout",
     "output_type": "stream",
     "text": [
      "Elapsed time: 34.316102504730225\n"
     ]
    }
   ],
   "source": [
    "# With keras models, augmentation and dropout are inactive during prediction.\n",
    "import csv\n",
    "csvpath = DIR_IMAGES_IN+OUTPUT_CSV\n",
    "with open(csvpath, 'w', newline='') as csvfile:\n",
    "    datawriter = csv.writer(csvfile, delimiter=',')\n",
    "    start = time.time()\n",
    "    for filename in FILENAMES_PATCHES:\n",
    "        path = DIR_IMAGES_IN+filename\n",
    "        img = keras.preprocessing.image.load_img(\n",
    "            path, target_size=IMAGE_SIZE\n",
    "        )\n",
    "        img_array = keras.preprocessing.image.img_to_array(img)\n",
    "        img_array = normalization_layer(img_array)\n",
    "        img_array = tf.expand_dims(img_array, 0)  # create tensor\n",
    "        # TODO: consider using predict_classes() instead\n",
    "        predictions = cnn.predict(img_array)\n",
    "        score = predictions[0]  # TODO: explore other array slices\n",
    "        blackscore,bluescore,greenscore = score\n",
    "        if blackscore >= 0.99:\n",
    "            word = \"black\"\n",
    "        elif bluescore >= 0.99:\n",
    "            word = \"blue\"\n",
    "        elif greenscore >= 0.99:\n",
    "            word = \"green\"\n",
    "        else:\n",
    "            word = \"uncertain\"\n",
    "        datawriter.writerow( (filename, score[0], score[1], word) )\n",
    "    end = time.time()\n",
    "print(\"Elapsed time:\",end-start)"
   ]
  },
  {
   "cell_type": "markdown",
   "metadata": {},
   "source": [
    "## Results\n",
    "\n",
    "78 black\n",
    "688 green  \n",
    "69 blue  \n",
    "650 uncertain\n",
    "\n",
    "TO DO: Adjust score thresholds because these numbers are too low. And why don't we have thousands?"
   ]
  },
  {
   "cell_type": "code",
   "execution_count": null,
   "metadata": {},
   "outputs": [],
   "source": []
  }
 ],
 "metadata": {
  "kernelspec": {
   "display_name": "Python 3",
   "language": "python",
   "name": "python3"
  },
  "language_info": {
   "codemirror_mode": {
    "name": "ipython",
    "version": 3
   },
   "file_extension": ".py",
   "mimetype": "text/x-python",
   "name": "python",
   "nbconvert_exporter": "python",
   "pygments_lexer": "ipython3",
   "version": "3.8.10"
  }
 },
 "nbformat": 4,
 "nbformat_minor": 4
}
