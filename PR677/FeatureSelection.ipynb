{
 "cells": [
  {
   "cell_type": "markdown",
   "metadata": {},
   "source": [
    "# Random"
   ]
  },
  {
   "cell_type": "code",
   "execution_count": 1,
   "metadata": {},
   "outputs": [],
   "source": [
    "import numpy as np\n",
    "import sklearn.preprocessing as skp"
   ]
  },
  {
   "cell_type": "code",
   "execution_count": 2,
   "metadata": {},
   "outputs": [
    {
     "name": "stdout",
     "output_type": "stream",
     "text": [
      "Random int 3\n",
      "Random uniform [0.61455673 0.2315741  0.26068267 0.13416399]\n",
      "Random standard normal [-0.7104818  -1.4674275  -2.38241677  0.08425739]\n",
      "Random gaussian\n",
      " [[50.40696103 33.46130135 64.46145959]\n",
      " [44.85938278 51.25848846 60.19007053]\n",
      " [43.70914483 62.47507999 41.28414566]]\n"
     ]
    }
   ],
   "source": [
    "from numpy.random import rand, randint, randn, normal\n",
    "print (\"Random int\",randint(1,10))\n",
    "print (\"Random uniform\",rand(4))\n",
    "print (\"Random standard normal\",randn(4))\n",
    "mean=50\n",
    "stdev = 10\n",
    "shape=[3,3]\n",
    "print (\"Random gaussian\\n\",normal(mean,stdev,shape))"
   ]
  },
  {
   "cell_type": "markdown",
   "metadata": {},
   "source": [
    "# Norms\n",
    "https://hadrienj.github.io/posts/Deep-Learning-Book-Series-2.5-Norms/\n",
    "\n",
    "Norms are zero for zero-vector but otherwise positive.  \n",
    "Norms obey triangle inequality ||a||+||b||<=||c||.  \n",
    "Norms scale linearly: ||k * vec|| == ||k|| * ||vec||.  \n",
    "L0 norm (not a norm) = number of non-zero elements.  \n",
    "L1 norm = sum of abs of elements. Discriminates small values.  \n",
    "L2 norm = Euclidian norm = sqrt of sum of square of elements. Discriminates large values.  \n",
    "Linfinity = Lmax = abs of max of elements.   \n",
    "Squared Euclidian norm = L2 squared. Efficient: avoids the sqrt.  \n",
    "Frobenias norm of matrix = L2 norm of matrix flattened to a vector.  "
   ]
  },
  {
   "cell_type": "code",
   "execution_count": 3,
   "metadata": {},
   "outputs": [
    {
     "name": "stdout",
     "output_type": "stream",
     "text": [
      "My L2 417.72479705090973\n",
      "np L2 417.7247970509098\n"
     ]
    }
   ],
   "source": [
    "feature1=normal(40,10,100)\n",
    "print(\"My L2\",np.sqrt((feature1**2).sum()))\n",
    "print(\"np L2\",np.linalg.norm(feature1))"
   ]
  },
  {
   "cell_type": "code",
   "execution_count": 4,
   "metadata": {},
   "outputs": [
    {
     "name": "stdout",
     "output_type": "stream",
     "text": [
      "Squared Euclidian, 174494.00607122373\n",
      "Squared Euclidian, 174494.0060712238\n",
      "Squared Euclidian, 174494.00607122376\n"
     ]
    }
   ],
   "source": [
    "print(\"Squared Euclidian,\",(feature1**2).sum())\n",
    "print(\"Squared Euclidian,\",(feature1.T.dot(feature1)))\n",
    "print(\"Squared Euclidian,\",np.linalg.norm(feature1)**2)"
   ]
  },
  {
   "cell_type": "markdown",
   "metadata": {},
   "source": [
    "# Normalization"
   ]
  },
  {
   "cell_type": "code",
   "execution_count": 5,
   "metadata": {},
   "outputs": [],
   "source": [
    "def standardize(vec):\n",
    "    center = vec - np.mean(vec)\n",
    "    unit = center/np.std(vec)\n",
    "    return unit\n",
    "def show_stats(desc,vec):\n",
    "    print(desc)\n",
    "    print(\"Max %.2f Min %.2f Mean %.2f Std %.2f\"%\n",
    "          (max(vec),min(vec),np.mean(vec),np.std(vec)))"
   ]
  },
  {
   "cell_type": "code",
   "execution_count": 6,
   "metadata": {},
   "outputs": [
    {
     "name": "stdout",
     "output_type": "stream",
     "text": [
      "Before\n",
      "Max 63.48 Min 20.05 Mean 40.90 Std 9.21\n",
      "Centered, unit variance\n",
      "Max 2.45 Min -2.26 Mean -0.00 Std 1.00\n"
     ]
    }
   ],
   "source": [
    "feature1=normal(40,10,100)\n",
    "show_stats(\"Before\",feature1)\n",
    "standard1=standardize(feature1)\n",
    "show_stats(\"Centered, unit variance\",standard1)"
   ]
  },
  {
   "cell_type": "markdown",
   "metadata": {},
   "source": [
    "# Covariance"
   ]
  },
  {
   "cell_type": "code",
   "execution_count": 7,
   "metadata": {},
   "outputs": [
    {
     "name": "stdout",
     "output_type": "stream",
     "text": [
      "Covariance\n",
      " [[143.61142578  72.56409859]\n",
      " [ 72.56409859  63.15370311]]\n"
     ]
    }
   ],
   "source": [
    "feature1=normal(40,10,5)\n",
    "feature2=normal(60,10,5)\n",
    "print(\"Covariance\\n\",np.cov(feature1,feature2))"
   ]
  },
  {
   "cell_type": "code",
   "execution_count": 8,
   "metadata": {},
   "outputs": [
    {
     "name": "stdout",
     "output_type": "stream",
     "text": [
      "Covariance\n",
      " [[1.25       0.95244062]\n",
      " [0.95244062 1.25      ]]\n"
     ]
    }
   ],
   "source": [
    "standard1=standardize(feature1)\n",
    "standard2=standardize(feature2)\n",
    "print(\"Covariance\\n\",np.cov(standard1,standard2))"
   ]
  },
  {
   "cell_type": "code",
   "execution_count": 46,
   "metadata": {},
   "outputs": [
    {
     "name": "stdout",
     "output_type": "stream",
     "text": [
      "data <class 'numpy.ndarray'> <class 'numpy.ndarray'>\n",
      "data [[45 37 42 35 39]\n",
      " [38 31 26 28 33]\n",
      " [10 15 17 21 12]]\n",
      "My cov()\n",
      " [[ 15.8    9.6  -12.  ]\n",
      " [  9.6   21.7  -17.25]\n",
      " [-12.   -17.25  18.5 ]]\n",
      "np.cov()\n",
      " [[ 15.8    9.6  -12.  ]\n",
      " [  9.6   21.7  -17.25]\n",
      " [-12.   -17.25  18.5 ]]\n"
     ]
    }
   ],
   "source": [
    "def my_cov(vecs):\n",
    "    I=len(vecs)\n",
    "    J=len(vecs[0])\n",
    "    means=np.zeros(I)\n",
    "    for i in range(0,I):\n",
    "        sum = 0.\n",
    "        for j in range(0,J):\n",
    "            sum = sum + vecs[i][j]\n",
    "        means[i] = sum / J\n",
    "    C=np.zeros([I,I])\n",
    "    for i1 in range(0,I):\n",
    "        for i2 in range(0,I):\n",
    "            sum = 0.\n",
    "            for j in range(0,J):\n",
    "                i1elem = vecs[i1][j]\n",
    "                i2elem = vecs[i2][j]\n",
    "                sum = sum + (means[i1]-i1elem)*(means[i2]-i2elem)\n",
    "            sum = sum / (J-1)\n",
    "            C[i1,i2] = sum            \n",
    "    return C\n",
    "\n",
    "mydata=[[4,6,8],[12,8,5]]\n",
    "A = [45,37,42,35,39]\n",
    "B = [38,31,26,28,33]\n",
    "C = [10,15,17,21,12]\n",
    "#mydata = np.array([A,B])\n",
    "mydata = np.array([A,B,C])\n",
    "#mydata = np.array([feature1,feature2])\n",
    "\n",
    "print(\"data\",type(mydata),type(mydata[0]))\n",
    "print(\"data\",mydata)\n",
    "print(\"My cov()\\n\",my_cov(mydata))\n",
    "print(\"np.cov()\\n\",np.cov(mydata))"
   ]
  },
  {
   "cell_type": "markdown",
   "metadata": {},
   "source": [
    "# Correlation"
   ]
  },
  {
   "cell_type": "code",
   "execution_count": 10,
   "metadata": {},
   "outputs": [],
   "source": [
    "def my_cor(vecs):\n",
    "    numerator = my_cov(vecs,False)\n",
    "    denominator = my_cov(vecs,True)\n",
    "    return numerator/denominator\n"
   ]
  },
  {
   "cell_type": "code",
   "execution_count": null,
   "metadata": {},
   "outputs": [],
   "source": []
  }
 ],
 "metadata": {
  "kernelspec": {
   "display_name": "Python 3",
   "language": "python",
   "name": "python3"
  },
  "language_info": {
   "codemirror_mode": {
    "name": "ipython",
    "version": 3
   },
   "file_extension": ".py",
   "mimetype": "text/x-python",
   "name": "python",
   "nbconvert_exporter": "python",
   "pygments_lexer": "ipython3",
   "version": "3.8.3"
  }
 },
 "nbformat": 4,
 "nbformat_minor": 2
}
