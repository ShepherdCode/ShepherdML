{
 "cells": [
  {
   "cell_type": "markdown",
   "metadata": {},
   "source": [
    "# Random"
   ]
  },
  {
   "cell_type": "code",
   "execution_count": 36,
   "metadata": {},
   "outputs": [],
   "source": [
    "import numpy as np\n",
    "import sklearn.preprocessing as skp"
   ]
  },
  {
   "cell_type": "code",
   "execution_count": 37,
   "metadata": {},
   "outputs": [
    {
     "name": "stdout",
     "output_type": "stream",
     "text": [
      "Random int 4\n",
      "Random uniform [0.61052555 0.41452011 0.95327869 0.52771592]\n",
      "Random standard normal [1.05553197 1.18901639 1.31887056 0.19188414]\n",
      "Random gaussian\n",
      " [[42.69617882 66.36229435 31.96753908]\n",
      " [37.89732808 48.95597181 22.98852073]\n",
      " [69.65967293 41.08342816 45.98301434]]\n"
     ]
    }
   ],
   "source": [
    "from numpy.random import rand, randint, randn, normal\n",
    "print (\"Random int\",randint(1,10))\n",
    "print (\"Random uniform\",rand(4))\n",
    "print (\"Random standard normal\",randn(4))\n",
    "mean=50\n",
    "stdev = 10\n",
    "shape=[3,3]\n",
    "print (\"Random gaussian\\n\",normal(mean,stdev,shape))"
   ]
  },
  {
   "cell_type": "markdown",
   "metadata": {},
   "source": [
    "# Norms\n",
    "https://hadrienj.github.io/posts/Deep-Learning-Book-Series-2.5-Norms/\n",
    "\n",
    "Norms are zero for zero-vector but otherwise positive.  \n",
    "Norms obey triangle inequality ||a||+||b||<=||c||.  \n",
    "Norms scale linearly: ||k * vec|| == ||k|| * ||vec||.  \n",
    "L0 norm (not a norm) = number of non-zero elements.  \n",
    "L1 norm = sum of abs of elements. Discriminates small values.  \n",
    "L2 norm = Euclidian norm = sqrt of sum of square of elements. Discriminates large values.  \n",
    "Linfinity = Lmax = abs of max of elements.   \n",
    "Squared Euclidian norm = L2 squared. Efficient: avoids the sqrt.  \n",
    "Frobenias norm of matrix = L2 norm of matrix flattened to a vector.  "
   ]
  },
  {
   "cell_type": "code",
   "execution_count": 54,
   "metadata": {},
   "outputs": [
    {
     "name": "stdout",
     "output_type": "stream",
     "text": [
      "My L2 404.7102094050317\n",
      "np L2 404.7102094050318\n"
     ]
    }
   ],
   "source": [
    "feature1=normal(40,10,100)\n",
    "print(\"My L2\",np.sqrt((feature1**2).sum()))\n",
    "print(\"np L2\",np.linalg.norm(feature1))"
   ]
  },
  {
   "cell_type": "code",
   "execution_count": 57,
   "metadata": {},
   "outputs": [
    {
     "name": "stdout",
     "output_type": "stream",
     "text": [
      "Squared Euclidian, 163790.35359666465\n",
      "Squared Euclidian, 163790.35359666467\n",
      "Squared Euclidian, 163790.35359666467\n"
     ]
    }
   ],
   "source": [
    "print(\"Squared Euclidian,\",(feature1**2).sum())\n",
    "print(\"Squared Euclidian,\",(feature1.T.dot(feature1)))\n",
    "print(\"Squared Euclidian,\",np.linalg.norm(feature1)**2)"
   ]
  },
  {
   "cell_type": "markdown",
   "metadata": {},
   "source": [
    "# Normalization"
   ]
  },
  {
   "cell_type": "code",
   "execution_count": 61,
   "metadata": {},
   "outputs": [],
   "source": [
    "def standardize(vec):\n",
    "    center = vec - np.mean(vec)\n",
    "    unit = center/np.std(vec)\n",
    "    return unit\n",
    "def show_stats(desc,vec):\n",
    "    print(desc)\n",
    "    print(\"Max %.2f Min %.2f Mean %.2f Std %.2f\"%\n",
    "          (max(vec),min(vec),np.mean(vec),np.std(vec)))"
   ]
  },
  {
   "cell_type": "code",
   "execution_count": 62,
   "metadata": {},
   "outputs": [
    {
     "name": "stdout",
     "output_type": "stream",
     "text": [
      "Before\n",
      "Max 65.36 Min 9.15 Mean 39.68 Std 11.30\n",
      "Centered, unit variance\n",
      "Max 2.27 Min -2.70 Mean -0.00 Std 1.00\n"
     ]
    }
   ],
   "source": [
    "feature1=normal(40,10,100)\n",
    "show_stats(\"Before\",feature1)\n",
    "standard1=standardize(feature1)\n",
    "show_stats(\"Centered, unit variance\",standard1)"
   ]
  },
  {
   "cell_type": "markdown",
   "metadata": {},
   "source": [
    "# Covariance"
   ]
  },
  {
   "cell_type": "code",
   "execution_count": 63,
   "metadata": {},
   "outputs": [
    {
     "name": "stdout",
     "output_type": "stream",
     "text": [
      "Covariance\n",
      " [[102.02464872   1.40235715]\n",
      " [  1.40235715  98.74407787]]\n"
     ]
    }
   ],
   "source": [
    "feature1=normal(40,10,100)\n",
    "feature2=normal(60,10,100)\n",
    "print(\"Covariance\\n\",np.cov(feature1,feature2))"
   ]
  },
  {
   "cell_type": "code",
   "execution_count": 64,
   "metadata": {},
   "outputs": [
    {
     "name": "stdout",
     "output_type": "stream",
     "text": [
      "Covariance\n",
      " [[1.01010101 0.01411287]\n",
      " [0.01411287 1.01010101]]\n"
     ]
    }
   ],
   "source": [
    "standard1=standardize(feature1)\n",
    "standard2=standardize(feature2)\n",
    "print(\"Covariance\\n\",np.cov(standard1,standard2))"
   ]
  },
  {
   "cell_type": "code",
   "execution_count": 94,
   "metadata": {},
   "outputs": [
    {
     "name": "stdout",
     "output_type": "stream",
     "text": [
      "[4. 7.]\n",
      "[[ 2. -2.]\n",
      " [-2.  2.]]\n",
      "[[ 2. -2.]\n",
      " [-2.  2.]]\n"
     ]
    }
   ],
   "source": [
    "def my_cov(vecs,normalize=False):\n",
    "    I=len(vecs)\n",
    "    J=len(vecs[0])\n",
    "    means=np.mean(vecs,axis=1)\n",
    "    print(means)\n",
    "    C=np.zeros([I,J])\n",
    "    for i in range(I):\n",
    "        for j in range(J):\n",
    "            ihat = means[i]\n",
    "            jhat = means[j]\n",
    "            sum = 0.\n",
    "            for k in range(J):\n",
    "                ielem = vecs[i][k]\n",
    "                jelem = vecs[j][k]\n",
    "                sum = sum + (ihat-ielem)*(jhat-jelem)\n",
    "            C[i,j] = sum\n",
    "            if normalize:\n",
    "                sum = sum /(I+1)\n",
    "    return C\n",
    "mydata=[[3, 5], [8, 6]]\n",
    "print(my_cov(mydata))\n",
    "print(np.cov(mydata))"
   ]
  },
  {
   "cell_type": "code",
   "execution_count": null,
   "metadata": {},
   "outputs": [],
   "source": [
    "for i in 0,1:\n",
    "    for j in 0,1:\n",
    "        C[i][j]=3\n",
    "print(C)"
   ]
  },
  {
   "cell_type": "markdown",
   "metadata": {},
   "source": [
    "# Correlation\n"
   ]
  }
 ],
 "metadata": {
  "kernelspec": {
   "display_name": "Python 3",
   "language": "python",
   "name": "python3"
  },
  "language_info": {
   "codemirror_mode": {
    "name": "ipython",
    "version": 3
   },
   "file_extension": ".py",
   "mimetype": "text/x-python",
   "name": "python",
   "nbconvert_exporter": "python",
   "pygments_lexer": "ipython3",
   "version": "3.8.3"
  }
 },
 "nbformat": 4,
 "nbformat_minor": 2
}
