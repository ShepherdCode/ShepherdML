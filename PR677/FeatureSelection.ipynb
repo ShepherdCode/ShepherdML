{
 "cells": [
  {
   "cell_type": "markdown",
   "metadata": {},
   "source": [
    "Correlation"
   ]
  },
  {
   "cell_type": "code",
   "execution_count": 11,
   "metadata": {},
   "outputs": [
    {
     "name": "stdout",
     "output_type": "stream",
     "text": [
      "Random int 1\n",
      "Random uniform [0.08627841 0.19608483 0.66483192 0.49157361]\n",
      "Random standard normal [-2.34409328  1.58283821  0.32755975 -0.40430305]\n",
      "Random gaussian\n",
      " [[26.40817246 48.05007194 35.99320693]\n",
      " [23.9141389  59.43645247 46.14965465]\n",
      " [34.54170242 62.63543122 47.62990241]]\n"
     ]
    }
   ],
   "source": [
    "import numpy as np\n",
    "from numpy.random import rand, randint, randn, normal\n",
    "print (\"Random int\",randint(1,10))\n",
    "print (\"Random uniform\",rand(4))\n",
    "print (\"Random standard normal\",randn(4))\n",
    "mean=50\n",
    "stdev = 10\n",
    "shape=[3,3]\n",
    "print (\"Random gaussian\\n\",normal(mean,stdev,shape))"
   ]
  },
  {
   "cell_type": "code",
   "execution_count": null,
   "metadata": {},
   "outputs": [],
   "source": []
  }
 ],
 "metadata": {
  "kernelspec": {
   "display_name": "Python 3",
   "language": "python",
   "name": "python3"
  },
  "language_info": {
   "codemirror_mode": {
    "name": "ipython",
    "version": 3
   },
   "file_extension": ".py",
   "mimetype": "text/x-python",
   "name": "python",
   "nbconvert_exporter": "python",
   "pygments_lexer": "ipython3",
   "version": "3.8.3"
  }
 },
 "nbformat": 4,
 "nbformat_minor": 2
}
