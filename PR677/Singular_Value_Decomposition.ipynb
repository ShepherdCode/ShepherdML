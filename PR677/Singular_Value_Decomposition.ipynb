{
 "cells": [
  {
   "cell_type": "markdown",
   "metadata": {},
   "source": [
    "# Singular Value Decomposition\n",
    "Generalization of eigen decomposition to non-square matrices."
   ]
  },
  {
   "cell_type": "markdown",
   "metadata": {},
   "source": [
    "SVD:  \n",
    "* $A = U \\Sigma V^*$  \n",
    "* U and V are unitary. (For real numbers in A, this means U and V is each orthogonal and $V^*$=$V^T$. For complex A, unitary means the complex conjugate equals the inverse for U and V.)\n",
    "* A = m x n, U = m x m, $\\Sigma$ = m x n, V = n x n.\n",
    "* $\\Sigma$ is diagonal and its non-zero diagonal elements are the singular values.\n",
    "* Number of singular values = rank(A).\n",
    "* There is one and only one SVD having singular values in descending order.\n",
    "* The columns of U and V are orthonormal bases (orthogonal, unit length)."
   ]
  },
  {
   "cell_type": "markdown",
   "metadata": {},
   "source": [
    "Relationship to eigen decomposition:\n",
    "* SVD generalizes to non-square matrices (eigen for square only)\n",
    "* SVD uses $A = U \\Sigma V^T$ (eigen uses $A = U \\Sigma U^T$\n",
    "* For $A=B^TB$ or $A=BB^T$, singular values of B are the square roots of the eigen values of A.\n",
    "* For symmetric matrix A, SVD = eigen (I think)."
   ]
  },
  {
   "cell_type": "markdown",
   "metadata": {},
   "source": [
    "Facts:\n",
    "* SVD is used to compute pseudo-inverse of a matrix.\n",
    "* SVD is used to compute linear least squares (requires pseudo-inverse). \n",
    "* SVD is used for Tikhinov regularization (and the special case Ridge regularization).\n",
    "* rank(A) = number of non-zero singular values.\n",
    "* Retain only large singular values to achieve low-rank approximation of matrix A."
   ]
  },
  {
   "cell_type": "code",
   "execution_count": 17,
   "metadata": {},
   "outputs": [],
   "source": [
    "import numpy as np"
   ]
  },
  {
   "cell_type": "markdown",
   "metadata": {},
   "source": [
    "## SVD with numpy"
   ]
  },
  {
   "cell_type": "markdown",
   "metadata": {},
   "source": [
    "Use this example.\n",
    "Same example was used for Eigen.  \n",
    "https://www.d.umn.edu/~mhampton/m4326svd_example.pdf"
   ]
  },
  {
   "cell_type": "markdown",
   "metadata": {},
   "source": [
    "### Square symmetric matrix"
   ]
  },
  {
   "cell_type": "code",
   "execution_count": 18,
   "metadata": {},
   "outputs": [
    {
     "name": "stdout",
     "output_type": "stream",
     "text": [
      "Square matrix A = BBT\n",
      " [[17  8]\n",
      " [ 8 17]]\n"
     ]
    }
   ],
   "source": [
    "# 2 rows, 3 columns\n",
    "B = np.array([[3,2,2],[2,3,-2]])\n",
    "A = B.dot(B.T)\n",
    "print(\"Square matrix A = BBT\\n\",A)"
   ]
  },
  {
   "cell_type": "code",
   "execution_count": 19,
   "metadata": {},
   "outputs": [
    {
     "name": "stdout",
     "output_type": "stream",
     "text": [
      "U\n",
      " [[-0.70710678 -0.70710678]\n",
      " [-0.70710678  0.70710678]]\n",
      "Sigma\n",
      " [25.  9.]\n",
      "V transpose\n",
      " [[-0.70710678 -0.70710678]\n",
      " [-0.70710678  0.70710678]]\n"
     ]
    }
   ],
   "source": [
    "U,Sigma,Vt = np.linalg.svd(A)\n",
    "print(\"U\\n\",U);\n",
    "print(\"Sigma\\n\",Sigma);\n",
    "print(\"V transpose\\n\",Vt);"
   ]
  },
  {
   "cell_type": "markdown",
   "metadata": {},
   "source": [
    "### Non-square matrix"
   ]
  },
  {
   "cell_type": "code",
   "execution_count": 20,
   "metadata": {},
   "outputs": [
    {
     "name": "stdout",
     "output_type": "stream",
     "text": [
      "U\n",
      " [[-0.70710678 -0.70710678]\n",
      " [-0.70710678  0.70710678]]\n",
      "Sigma\n",
      " [5. 3.]\n",
      "V transpose\n",
      " [[-7.07106781e-01 -7.07106781e-01 -6.47932334e-17]\n",
      " [-2.35702260e-01  2.35702260e-01 -9.42809042e-01]\n",
      " [-6.66666667e-01  6.66666667e-01  3.33333333e-01]]\n"
     ]
    }
   ],
   "source": [
    "U,Sigma,Vt = np.linalg.svd(B)\n",
    "print(\"U\\n\",U);\n",
    "print(\"Singular values in descending order\\n\",Sigma);\n",
    "print(\"V transpose\\n\",Vt);"
   ]
  },
  {
   "cell_type": "markdown",
   "metadata": {},
   "source": [
    "Round-trip validation. Use B=U*S*V."
   ]
  },
  {
   "cell_type": "code",
   "execution_count": 35,
   "metadata": {},
   "outputs": [
    {
     "name": "stdout",
     "output_type": "stream",
     "text": [
      "Round trip validation:\n",
      " [[ 3.  2.  2.]\n",
      " [ 2.  3. -2.]]\n"
     ]
    }
   ],
   "source": [
    "S = [[5,0,0],[0,3,0]]  \n",
    "print(\"Round trip validation:\\n\",U.dot(S).dot(Vt))"
   ]
  },
  {
   "cell_type": "code",
   "execution_count": null,
   "metadata": {},
   "outputs": [],
   "source": []
  }
 ],
 "metadata": {
  "kernelspec": {
   "display_name": "Python 3",
   "language": "python",
   "name": "python3"
  },
  "language_info": {
   "codemirror_mode": {
    "name": "ipython",
    "version": 3
   },
   "file_extension": ".py",
   "mimetype": "text/x-python",
   "name": "python",
   "nbconvert_exporter": "python",
   "pygments_lexer": "ipython3",
   "version": "3.8.3"
  }
 },
 "nbformat": 4,
 "nbformat_minor": 2
}
