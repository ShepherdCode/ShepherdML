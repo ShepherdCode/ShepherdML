{
 "cells": [
  {
   "cell_type": "markdown",
   "metadata": {},
   "source": [
    "# Principal Component Analysis (PCA)\n",
    "is a linear decomposition to an orgothogal basis."
   ]
  },
  {
   "cell_type": "markdown",
   "metadata": {},
   "source": [
    "# NOT DONE!"
   ]
  },
  {
   "cell_type": "code",
   "execution_count": 42,
   "metadata": {},
   "outputs": [],
   "source": [
    "import numpy as np"
   ]
  },
  {
   "cell_type": "markdown",
   "metadata": {},
   "source": [
    "## Choose a square Matrix\n",
    "Form a square matrix from two vectors.   \n",
    "Our square matrix is symmetic, so the eigenvectors will be orthogonal."
   ]
  },
  {
   "cell_type": "markdown",
   "metadata": {},
   "source": [
    "Use this example.\n",
    "Same example will be used for SVD.  \n",
    "https://www.d.umn.edu/~mhampton/m4326svd_example.pdf"
   ]
  },
  {
   "cell_type": "code",
   "execution_count": 57,
   "metadata": {},
   "outputs": [
    {
     "name": "stdout",
     "output_type": "stream",
     "text": [
      "2x3 matrix B\n",
      " [[ 3  2  2]\n",
      " [ 2  3 -2]]\n",
      "B transpose\n",
      " [[ 3  2]\n",
      " [ 2  3]\n",
      " [ 2 -2]]\n",
      "Square matrix A = BBT\n",
      " [[17  8]\n",
      " [ 8 17]]\n"
     ]
    }
   ],
   "source": [
    "# 2 rows, 3 columns\n",
    "B = np.array([[3,2,2],[2,3,-2]])\n",
    "print(\"2x3 matrix B\\n\",B)\n",
    "print(\"B transpose\\n\",B.T)\n",
    "A = B.dot(B.T)\n",
    "print(\"Square matrix A = BBT\\n\",A)"
   ]
  },
  {
   "cell_type": "markdown",
   "metadata": {},
   "source": [
    "## Eigen decomposition with numpy"
   ]
  },
  {
   "cell_type": "code",
   "execution_count": 58,
   "metadata": {},
   "outputs": [
    {
     "name": "stdout",
     "output_type": "stream",
     "text": [
      "Eigenvalues of A\n",
      " [25.  9.]\n",
      "Eigenvectors of A\n",
      " [[ 0.70710678 -0.70710678]\n",
      " [ 0.70710678  0.70710678]]\n"
     ]
    }
   ],
   "source": [
    "eigvals,eigvecs=np.linalg.eig(A)\n",
    "print(\"Eigenvalues of A\\n\",eigvals)\n",
    "print(\"Eigenvectors of A\\n\",eigvecs)"
   ]
  },
  {
   "cell_type": "markdown",
   "metadata": {},
   "source": [
    "Double check.  \n",
    "$ det(A - \\lambda_i I) = 0$ for $v_i \\ne 0$  "
   ]
  },
  {
   "cell_type": "code",
   "execution_count": 54,
   "metadata": {},
   "outputs": [
    {
     "name": "stdout",
     "output_type": "stream",
     "text": [
      "Matrix A minus first eigenvalue\n",
      " [[-5.65685425 -5.65685425]\n",
      " [ 5.65685425  5.65685425]]\n",
      "Determinant =  0.0\n"
     ]
    }
   ],
   "source": [
    "mat1=(A-(eigvals[0]*np.identity(2)))*eigvecs[0]\n",
    "print(\"Matrix A minus first eigenvalue\\n\",mat1)\n",
    "print(\"Determinant = \",np.linalg.det(mat1))"
   ]
  },
  {
   "cell_type": "code",
   "execution_count": 55,
   "metadata": {},
   "outputs": [
    {
     "name": "stdout",
     "output_type": "stream",
     "text": [
      "Matrix A minus second eigenvalue\n",
      " [[5.65685425 5.65685425]\n",
      " [5.65685425 5.65685425]]\n",
      "Determinant =  -1.0048591735576147e-14\n"
     ]
    }
   ],
   "source": [
    "mat2=(A-(eigvals[1]*np.identity(2)))*eigvecs[1]\n",
    "print(\"Matrix A minus second eigenvalue\\n\",mat2)\n",
    "print(\"Determinant = \",np.linalg.det(mat2))"
   ]
  },
  {
   "cell_type": "markdown",
   "metadata": {},
   "source": [
    "## Eigenvalues computed by hand\n",
    "We want the determinant of this matrix  \n",
    "$ (a-\\lambda) (b)$  \n",
    "$ (c) (d-\\lambda)$  \n",
    "For 2x2 matrix, the determinant = ad-bc so  \n",
    "$det = (a-\\lambda)(d-\\lambda) - b*c$  \n",
    "$= (17-\\lambda)(17-\\lambda) - 8*8$  \n",
    "$= (17^2-2*17*\\lambda+\\lambda^2) - 64$  \n",
    "$= (289-34\\lambda+\\lambda^2) - 64$  \n",
    "$= \\lambda^2 -34\\lambda +225$  \n",
    "  \n"
   ]
  },
  {
   "cell_type": "markdown",
   "metadata": {},
   "source": [
    "The characteristic (polynomial) equation of matrix A is  \n",
    "$0 = \\lambda^2 -34\\lambda +225$  \n"
   ]
  },
  {
   "cell_type": "markdown",
   "metadata": {},
   "source": [
    "We want the roots of the equation above.  \n",
    "For any quadratic equation   \n",
    "$ax^2 + bx + c = 0$, \n",
    "$a(x-r)(x-s) = 0$, and roots \n",
    "$r,s=\\frac{-b \\pm \\sqrt{b^2-4ac}}{2a}$  "
   ]
  },
  {
   "cell_type": "markdown",
   "metadata": {},
   "source": [
    "The quadratic equation $\\lambda^2 -34\\lambda +225 = 0$  \n",
    "has roots $r,s=\\frac{34 \\pm \\sqrt{1156-4*225}}{2}\n",
    " =\\frac{34 \\pm \\sqrt{256}}{2}\n",
    " =\\frac{34 \\pm 16}{2}\n",
    " =25,9$  \n",
    "So $0 = (\\lambda-25)(\\lambda-9)$.  \n",
    "The eigenvalues of A are 25 and 9 (and 0?).  \n",
    "The singular values of A are the square roots, 5 and 3."
   ]
  },
  {
   "cell_type": "markdown",
   "metadata": {},
   "source": [
    "## Eigenvectors computed by hand\n",
    "Note A is symmetric so the eigenvectors are orthogonal.  \n",
    "Use the following:  \n",
    "$(A - \\lambda_i I) v_i = 0$   "
   ]
  },
  {
   "cell_type": "markdown",
   "metadata": {},
   "source": [
    "First eigenvector v1:  \n",
    "$(\\begin{bmatrix}\n",
    "17 & 8 \\\\ 8 & 17\n",
    "\\end{bmatrix} - \n",
    "\\begin{bmatrix}\n",
    "25 & 0 \\\\ 0 & 25\n",
    "\\end{bmatrix}) *\n",
    "\\begin{bmatrix}v1_1 \\\\ v1_2 \\end{bmatrix} =0 $"
   ]
  },
  {
   "cell_type": "markdown",
   "metadata": {},
   "source": [
    "$\\begin{bmatrix}\n",
    "-8 & 8 \\\\ 8 & -8\n",
    "\\end{bmatrix} *\n",
    "\\begin{bmatrix}v1_1 \\\\ v1_2 \\end{bmatrix} =0 $"
   ]
  },
  {
   "cell_type": "markdown",
   "metadata": {},
   "source": [
    "$\n",
    "\\begin{bmatrix}\n",
    "-8v1_1+8v1_2 \\\\ 8v1_1-8v1_2\n",
    "\\end{bmatrix} = 0\n",
    "$"
   ]
  },
  {
   "cell_type": "markdown",
   "metadata": {},
   "source": [
    "Choose any v11 = - v12: v1 = [5 -5]."
   ]
  },
  {
   "cell_type": "markdown",
   "metadata": {},
   "source": [
    "Second eigenvetor v2:  \n",
    "$\\begin{bmatrix}\n",
    "8 & 8 \\\\ 8 & 8\n",
    "\\end{bmatrix} *\n",
    "\\begin{bmatrix}v1_1 \\\\ v1_2 \\end{bmatrix} =0 $"
   ]
  },
  {
   "cell_type": "markdown",
   "metadata": {},
   "source": [
    "Choose any v21 = v22: v2 = [5 5]"
   ]
  },
  {
   "cell_type": "code",
   "execution_count": null,
   "metadata": {},
   "outputs": [],
   "source": []
  }
 ],
 "metadata": {
  "kernelspec": {
   "display_name": "Python 3",
   "language": "python",
   "name": "python3"
  },
  "language_info": {
   "codemirror_mode": {
    "name": "ipython",
    "version": 3
   },
   "file_extension": ".py",
   "mimetype": "text/x-python",
   "name": "python",
   "nbconvert_exporter": "python",
   "pygments_lexer": "ipython3",
   "version": "3.8.3"
  }
 },
 "nbformat": 4,
 "nbformat_minor": 2
}
