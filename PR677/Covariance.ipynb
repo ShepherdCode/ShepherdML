{
 "cells": [
  {
   "cell_type": "markdown",
   "metadata": {},
   "source": [
    "# Covariance"
   ]
  },
  {
   "cell_type": "code",
   "execution_count": 1,
   "metadata": {},
   "outputs": [],
   "source": [
    "import numpy as np\n",
    "import matplotlib.pyplot as plt\n",
    "#from matplotlib import colors\n",
    "#mycmap = colors.ListedColormap(['red','blue'])  # list color for label 0 then 1\n",
    "np.set_printoptions(precision=2)\n",
    "import seaborn as sb"
   ]
  },
  {
   "cell_type": "code",
   "execution_count": 2,
   "metadata": {},
   "outputs": [
    {
     "name": "stdout",
     "output_type": "stream",
     "text": [
      "matrix A\n",
      " [[1 7 5]\n",
      " [0 4 1]\n",
      " [3 8 6]]\n",
      "matrix B\n",
      " [[1 2 3]\n",
      " [2 4 6]\n",
      " [3 6 9]]\n"
     ]
    }
   ],
   "source": [
    "A = np.array([[1, 7, 5], [0, 4, 1], [3, 8, 6]]) # 3 patients, 3 features each\n",
    "B = np.array([[1, 2, 3], [2, 4, 6], [3, 6, 9]])\n",
    "print(\"matrix A\\n\",A)\n",
    "print(\"matrix B\\n\",B)"
   ]
  },
  {
   "cell_type": "code",
   "execution_count": 3,
   "metadata": {},
   "outputs": [
    {
     "name": "stdout",
     "output_type": "stream",
     "text": [
      "Means A [4.33 1.67 5.67]\n",
      "Means B [2. 4. 6.]\n"
     ]
    }
   ],
   "source": [
    "featureMeansA = np.mean(A,axis=1)\n",
    "featureMeansB = np.mean(B,axis=1)\n",
    "print(\"Means A\",featureMeansA)\n",
    "print(\"Means B\",featureMeansB)"
   ]
  },
  {
   "cell_type": "code",
   "execution_count": 4,
   "metadata": {},
   "outputs": [
    {
     "name": "stdout",
     "output_type": "stream",
     "text": [
      "cov(A)\n",
      " [[6.22 3.78 5.11]\n",
      " [3.78 2.89 3.22]\n",
      " [5.11 3.22 4.22]]\n",
      "cov(B)\n",
      " [[0.67 1.33 2.  ]\n",
      " [1.33 2.67 4.  ]\n",
      " [2.   4.   6.  ]]\n"
     ]
    }
   ],
   "source": [
    "def my_cov(A,bias=True):\n",
    "    row=np.ma.size(A,axis=0)\n",
    "    col=np.ma.size(A,axis=1)\n",
    "    if bias:\n",
    "        N = row\n",
    "    else:\n",
    "        N = row-1\n",
    "    covA = np.zeros([row,col])\n",
    "    cMeans = np.mean(A,axis=1)\n",
    "    for r in range(0,row):\n",
    "        for c in range(0,col):\n",
    "            # Numpy does element-wise subtraction.\n",
    "            # Numpy dot product converts 2nd argument to row vector.\n",
    "            # Column dot row = matrix.\n",
    "            # Without numpy, this would be its own row+col nested for loop.\n",
    "            covA[r][c] = (A[r]-cMeans[r]).dot(A[c]-cMeans[c])\n",
    "    # Numpy does element-wise division.\n",
    "    return covA/N\n",
    "print(\"cov(A)\\n\",my_cov(A))\n",
    "print(\"cov(B)\\n\",my_cov(B))"
   ]
  },
  {
   "cell_type": "code",
   "execution_count": 6,
   "metadata": {},
   "outputs": [
    {
     "name": "stdout",
     "output_type": "stream",
     "text": [
      "cov(A)\n",
      "[[6.22 3.78 5.11]\n",
      " [3.78 2.89 3.22]\n",
      " [5.11 3.22 4.22]]\n"
     ]
    },
    {
     "data": {
      "image/png": "[encoded data removed]",
      "text/plain": [
       "<Figure size 432x288 with 2 Axes>"
      ]
     },
     "metadata": {
      "needs_background": "light"
     },
     "output_type": "display_data"
    }
   ],
   "source": [
    "def plot_covariance(X):\n",
    "    sb.heatmap(np.cov(X,bias=True), annot=True, fmt='g')\n",
    "print(\"cov(A)\")\n",
    "print(np.cov(A,bias=True))\n",
    "plot_covariance(A)"
   ]
  },
  {
   "cell_type": "code",
   "execution_count": 7,
   "metadata": {},
   "outputs": [
    {
     "name": "stdout",
     "output_type": "stream",
     "text": [
      "cov(B)\n",
      "[[0.67 1.33 2.  ]\n",
      " [1.33 2.67 4.  ]\n",
      " [2.   4.   6.  ]]\n"
     ]
    },
    {
     "data": {
      "image/png": "[encoded data removed]",
      "text/plain": [
       "<Figure size 432x288 with 2 Axes>"
      ]
     },
     "metadata": {
      "needs_background": "light"
     },
     "output_type": "display_data"
    }
   ],
   "source": [
    "print(\"cov(B)\")\n",
    "print(np.cov(B,bias=True))\n",
    "plot_covariance(B)"
   ]
  },
  {
   "cell_type": "code",
   "execution_count": null,
   "metadata": {},
   "outputs": [],
   "source": []
  }
 ],
 "metadata": {
  "kernelspec": {
   "display_name": "Python 3",
   "language": "python",
   "name": "python3"
  },
  "language_info": {
   "codemirror_mode": {
    "name": "ipython",
    "version": 3
   },
   "file_extension": ".py",
   "mimetype": "text/x-python",
   "name": "python",
   "nbconvert_exporter": "python",
   "pygments_lexer": "ipython3",
   "version": "3.8.3"
  }
 },
 "nbformat": 4,
 "nbformat_minor": 2
}
