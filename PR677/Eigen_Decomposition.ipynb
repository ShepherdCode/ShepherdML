{
 "cells": [
  {
   "cell_type": "markdown",
   "metadata": {},
   "source": [
    "# PCA"
   ]
  },
  {
   "cell_type": "markdown",
   "metadata": {},
   "source": [
    "## PCA example\n",
    "https://www.d.umn.edu/~mhampton/m4326svd_example.pdf"
   ]
  },
  {
   "cell_type": "code",
   "execution_count": 2,
   "metadata": {},
   "outputs": [],
   "source": [
    "import numpy as np"
   ]
  },
  {
   "cell_type": "code",
   "execution_count": 10,
   "metadata": {},
   "outputs": [
    {
     "name": "stdout",
     "output_type": "stream",
     "text": [
      "B\n",
      " [[ 3  2  2]\n",
      " [ 2  3 -2]]\n",
      "BT\n",
      " [[ 3  2]\n",
      " [ 2  3]\n",
      " [ 2 -2]]\n"
     ]
    }
   ],
   "source": [
    "# 2 rows, 3 columns\n",
    "B = np.array([[3,2,2],[2,3,-2]])\n",
    "print(\"B\\n\",B)\n",
    "print(\"BT\\n\",B.T)"
   ]
  },
  {
   "cell_type": "code",
   "execution_count": 12,
   "metadata": {},
   "outputs": [
    {
     "name": "stdout",
     "output_type": "stream",
     "text": [
      "A\n",
      " [[17  8]\n",
      " [ 8 17]]\n"
     ]
    }
   ],
   "source": [
    "# Square matrix: 2x3 dot 3x2 = 2x2\n",
    "A = B.dot(B.T)\n",
    "print(\"A\\n\",A)"
   ]
  },
  {
   "cell_type": "markdown",
   "metadata": {},
   "source": [
    "## Eigenvalues\n",
    "Here is how to find the eigenvalues of a 2x2 square matrix.\n",
    "$Av = \\lambda v$   \n",
    "$Av - \\lambda v = 0$   \n",
    "$( A - \\lambda I ) v = 0$  \n",
    "For any non-trivial solution, $v \\neq 0$, so   \n",
    "$0 = det(A - \\lambda I)$  \n",
    "We want the determinant of matrix  \n",
    "$ (a-\\lambda) (b)$  \n",
    "$ (c) (d-\\lambda)$  \n",
    "For 2x2 matrix, the determinant = ad-bc so  \n",
    "$0 = (a-\\lambda)(d-\\lambda) - b*c$  \n",
    "$= (17-\\lambda)(17-\\lambda) - 8*8$  \n",
    "$= (17^2-2*17*\\lambda+\\lambda^2) - 64$  \n",
    "$= (289-34\\lambda+\\lambda^2) - 64$  \n",
    "$= \\lambda^2 -34\\lambda +225$  \n",
    "  \n"
   ]
  },
  {
   "cell_type": "markdown",
   "metadata": {},
   "source": [
    "The characteristic polynomial of A is  \n",
    "$0 = \\lambda^2 -34\\lambda +225$  \n"
   ]
  },
  {
   "cell_type": "markdown",
   "metadata": {},
   "source": [
    "This quadratic equation   \n",
    "$ax^2 + bx + c = 0$  \n",
    "has roots r,s  \n",
    "$a(x-r)(x-s) = 0$\n",
    "where  \n",
    "$r,s=\\frac{-b \\pm \\sqrt{b^2-4ac}}{2a}$  "
   ]
  },
  {
   "cell_type": "markdown",
   "metadata": {},
   "source": [
    "This quadratic equation   \n",
    "$\\lambda^2 -34\\lambda +225 = 0$  \n",
    "has roots r,s  \n",
    "$1(\\lambda-r)(\\lambda-s) = 0$  \n",
    "where  \n",
    "$r,s=\\frac{34 \\pm \\sqrt{1156-4*225}}{2}\n",
    " =\\frac{34 \\pm \\sqrt{256}}{2}\n",
    " =\\frac{34 \\pm 16}{2}\n",
    " =25,9$  \n",
    "So  \n",
    "$0 = (\\lambda-25)(\\lambda-9)$  \n",
    "The eigenvalues of A are 25 and 9 (and 0?).  \n",
    "The singular values of A are the square roots, 5 and 3."
   ]
  },
  {
   "cell_type": "code",
   "execution_count": 34,
   "metadata": {},
   "outputs": [
    {
     "name": "stdout",
     "output_type": "stream",
     "text": [
      "Numpy eigenvalues\n",
      " [25.  9.]\n",
      "Numpy eigenvectors\n",
      " [[ 0.70710678 -0.70710678]\n",
      " [ 0.70710678  0.70710678]]\n"
     ]
    }
   ],
   "source": [
    "eigvals,eigvecs=np.linalg.eig(A)\n",
    "print(\"Numpy eigenvalues\\n\",eigvals)\n",
    "print(\"Numpy eigenvectors\\n\",eigvecs)"
   ]
  },
  {
   "cell_type": "code",
   "execution_count": 35,
   "metadata": {},
   "outputs": [
    {
     "data": {
      "text/plain": [
       "array([[ 12.02081528,  -5.65685425],\n",
       "       [  5.65685425, -12.02081528]])"
      ]
     },
     "execution_count": 35,
     "metadata": {},
     "output_type": "execute_result"
    }
   ],
   "source": [
    "A*eigvecs[0]"
   ]
  },
  {
   "cell_type": "code",
   "execution_count": 38,
   "metadata": {},
   "outputs": [
    {
     "data": {
      "text/plain": [
       "array([[ 17.67766953,  -0.        ],\n",
       "       [  0.        , -17.67766953]])"
      ]
     },
     "execution_count": 38,
     "metadata": {},
     "output_type": "execute_result"
    }
   ],
   "source": [
    "eigvals[0]*np.identity(2)*eigvecs[0]"
   ]
  },
  {
   "cell_type": "code",
   "execution_count": 41,
   "metadata": {},
   "outputs": [
    {
     "name": "stdout",
     "output_type": "stream",
     "text": [
      "[[-5.65685425 -5.65685425]\n",
      " [ 5.65685425  5.65685425]]\n",
      "0.0\n"
     ]
    }
   ],
   "source": [
    "left=(A-(eigvals[0]*np.identity(2)))*eigvecs[0]\n",
    "print(left)\n",
    "print(np.linalg.det(left))"
   ]
  },
  {
   "cell_type": "markdown",
   "metadata": {},
   "source": [
    "## Eigenvectors\n",
    "Note A is symmetric so the eigenvectors are orthogonal."
   ]
  },
  {
   "cell_type": "markdown",
   "metadata": {},
   "source": []
  },
  {
   "cell_type": "code",
   "execution_count": 26,
   "metadata": {},
   "outputs": [
    {
     "data": {
      "text/plain": [
       "-225"
      ]
     },
     "execution_count": 26,
     "metadata": {},
     "output_type": "execute_result"
    }
   ],
   "source": [
    "25**2-34*25\n"
   ]
  },
  {
   "cell_type": "code",
   "execution_count": null,
   "metadata": {},
   "outputs": [],
   "source": []
  }
 ],
 "metadata": {
  "kernelspec": {
   "display_name": "Python 3",
   "language": "python",
   "name": "python3"
  },
  "language_info": {
   "codemirror_mode": {
    "name": "ipython",
    "version": 3
   },
   "file_extension": ".py",
   "mimetype": "text/x-python",
   "name": "python",
   "nbconvert_exporter": "python",
   "pygments_lexer": "ipython3",
   "version": "3.8.3"
  }
 },
 "nbformat": 4,
 "nbformat_minor": 2
}
