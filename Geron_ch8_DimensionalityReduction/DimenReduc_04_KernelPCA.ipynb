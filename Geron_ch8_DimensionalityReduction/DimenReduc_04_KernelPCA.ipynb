{
 "cells": [
  {
   "cell_type": "code",
   "execution_count": null,
   "metadata": {},
   "outputs": [],
   "source": [
    "# Kernel PCA\n",
    "\n",
    "# Standard PCA effectively uses a linear kernel\n",
    "# by computing on the input feature space. \n",
    "# It is also possible to run PCA after a kernel\n",
    "# has mapped the features to a high-dimension.\n",
    "\n",
    "from sklearn.decomposition import KernelPCA\n",
    "pca = KernelPCA(n_components=2, kernel='rbf', gamma=0.04)"
   ]
  },
  {
   "cell_type": "code",
   "execution_count": null,
   "metadata": {},
   "outputs": [],
   "source": [
    "# The hyperparameters can be tuned by comparing X to inverse(transform(X)).\n",
    "pca = KernelPCA(n_components=2, kernel='rbf', gamma=0.04, fit_inverse_transform=True)\n",
    "# Then minimize the MSE using grid search and cross-validation."
   ]
  }
 ],
 "metadata": {
  "kernelspec": {
   "display_name": "Python 3",
   "language": "python",
   "name": "python3"
  },
  "language_info": {
   "codemirror_mode": {
    "name": "ipython",
    "version": 3
   },
   "file_extension": ".py",
   "mimetype": "text/x-python",
   "name": "python",
   "nbconvert_exporter": "python",
   "pygments_lexer": "ipython3",
   "version": "3.8.3"
  }
 },
 "nbformat": 4,
 "nbformat_minor": 2
}
