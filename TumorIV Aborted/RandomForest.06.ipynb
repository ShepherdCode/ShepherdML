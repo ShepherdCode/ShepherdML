{
 "cells": [
  {
   "cell_type": "markdown",
   "metadata": {},
   "source": [
    "# Random Forest\n",
    "Like notebook 04, do 4-fold cross-validation instead of just one round.\n",
    "But now aggregate patch-level predictions up to the WSI level.\n",
    "For now, each patch casts an equal vote.\n",
    "Later, weight votes by confidence i.e. score."
   ]
  },
  {
   "cell_type": "code",
   "execution_count": 1,
   "metadata": {},
   "outputs": [
    {
     "name": "stdout",
     "output_type": "stream",
     "text": [
      "2022-07-15 11:43:33.926484\n",
      "Python 3.8.10\n",
      "sklearn 1.0.2\n"
     ]
    }
   ],
   "source": [
    "import datetime\n",
    "print(datetime.datetime.now())\n",
    "from platform import python_version\n",
    "print('Python',python_version())\n",
    "import numpy as np\n",
    "import pandas as pd\n",
    "import matplotlib as plt\n",
    "import random\n",
    "import sklearn   # pip install --upgrade scikit-learn\n",
    "print('sklearn',sklearn.__version__)"
   ]
  },
  {
   "cell_type": "code",
   "execution_count": 2,
   "metadata": {},
   "outputs": [],
   "source": [
    "# Shuffle X,y in tandem -- can cause shape problems\n",
    "from sklearn.utils import shuffle\n",
    "# The model\n",
    "from sklearn.ensemble import RandomForestClassifier\n",
    "\n",
    "# This generates one split after shuffling. By default, not stratified.\n",
    "# from sklearn.model_selection import train_test_split\n",
    "# This does stratified K-fold cross-validation with no shuffling.\n",
    "# from sklearn.model_selection import cross_val_score\n",
    "\n",
    "#from sklearn.model_selection import RepeatedStratifiedKFold\n",
    "#from sklearn.metrics import confusion_matrix\n",
    "#from sklearn.feature_selection import RFE\n",
    "#import joblib # used to dump/load sklearn models\n",
    "#from CellProfiler_Util import CP_Util\n",
    "#from RandomForestUtil import RF_Util"
   ]
  },
  {
   "cell_type": "markdown",
   "metadata": {},
   "source": [
    "## Prepare train and valid sets"
   ]
  },
  {
   "cell_type": "code",
   "execution_count": 3,
   "metadata": {},
   "outputs": [],
   "source": [
    "def list_shuffle(X):   # could use skilearn shuffle instead\n",
    "    L = len(X)\n",
    "    for i in range(L):\n",
    "        r = random.randrange(0,L)\n",
    "        if i!=r:\n",
    "            temp = X[i]\n",
    "            X[i] = X[r]\n",
    "            X[r] = temp\n",
    "    return X"
   ]
  },
  {
   "cell_type": "code",
   "execution_count": 4,
   "metadata": {},
   "outputs": [
    {
     "name": "stdout",
     "output_type": "stream",
     "text": [
      "All patients ['B7_', 'B15', 'D1_', 'D5_', 'E7_', 'E9_', 'F9_', 'G3_', 'H13', 'I1_', 'I5_', 'I13', 'A3_', 'A5_', 'B13', 'C1_', 'C11', 'D3_', 'E5_', 'F3_', 'F7_', 'F11', 'F15', 'G15', 'H1_', 'H3_', 'H7_', 'H15']\n",
      "Count Ypos:Yneg 12 16\n",
      "Hold out these patients for validation in each cross-validation fold.\n",
      "Fold 0 pos, neg: ['D1_', 'B7_', 'D5_'] ['C1_', 'H3_', 'F3_', 'F7_']\n",
      "Fold 1 pos, neg: ['E9_', 'F9_', 'I13'] ['F15', 'G15', 'F11', 'H7_']\n",
      "Fold 2 pos, neg: ['H13', 'I1_', 'B15'] ['A5_', 'A3_', 'B13', 'H1_']\n",
      "Fold 3 pos, neg: ['E7_', 'I5_', 'G3_'] ['C11', 'D3_', 'H15', 'E5_']\n"
     ]
    }
   ],
   "source": [
    "# Prepare to divy up patches stratified by patient.\n",
    "DF_Ypos = ['B7_','B15','D1_','D5_','E7_','E9_','F9_','G3_','H13','I1_','I5_','I13']\n",
    "DF_Yneg = ['A3_','A5_','B13','C1_','C11','D3_','E5_','F3_','F7_','F11','F15','G15','H1_','H3_','H7_','H15']\n",
    "ALL_PATIENTS = DF_Ypos + DF_Yneg\n",
    "PATIENT_TO_LABEL = {}\n",
    "for patient in DF_Ypos:\n",
    "    PATIENT_TO_LABEL[patient]=np.int8(1)\n",
    "for patient in DF_Yneg:\n",
    "    PATIENT_TO_LABEL[patient]=np.int8(0)\n",
    "NUM_FOLDS=4  # because both sets have size = multiple of 4\n",
    "print('All patients',ALL_PATIENTS)\n",
    "print('Count Ypos:Yneg',len(DF_Ypos),len(DF_Yneg))\n",
    "print('Hold out these patients for validation in each cross-validation fold.')\n",
    "def make_folds():\n",
    "    rpos = list_shuffle(DF_Ypos)  # fix random state?\n",
    "    rneg = list_shuffle(DF_Yneg)  # fix random state?\n",
    "    folds_pos = [rpos[0:3],rpos[3:6],rpos[6:9],rpos[9:12]]\n",
    "    folds_neg = [rneg[0:4],rneg[4:8],rneg[8:12],rneg[12:16]]\n",
    "    for i in range(4):\n",
    "        print('Fold %d pos, neg:'%i,end=' ')\n",
    "        print(folds_pos[i],folds_neg[i])\n",
    "    return folds_pos,folds_neg\n",
    "Ypos_valid_patients,Yneg_valid_patients = make_folds()"
   ]
  },
  {
   "cell_type": "code",
   "execution_count": 5,
   "metadata": {},
   "outputs": [],
   "source": [
    "BASE_PATH='/home/jrm/Martinez/CellProfilerRuns/CP_20220705/'\n",
    "FILENAME='Filtered_Image.csv'\n",
    "def load_patient(p):\n",
    "    filepath=BASE_PATH+p+'/'+FILENAME\n",
    "    df = pd.read_csv(filepath)\n",
    "    return df"
   ]
  },
  {
   "cell_type": "code",
   "execution_count": 6,
   "metadata": {},
   "outputs": [],
   "source": [
    "def load_patients(fold):\n",
    "    train_patients = list(ALL_PATIENTS)  # this will shrink\n",
    "    valid_patients = []   # this will grow\n",
    "    for patient in Ypos_valid_patients[fold]:\n",
    "        train_patients.remove(patient)\n",
    "        valid_patients.append(patient)\n",
    "    for patient in Yneg_valid_patients[fold]:\n",
    "        train_patients.remove(patient)\n",
    "        valid_patients.append(patient)\n",
    "    return train_patients,valid_patients"
   ]
  },
  {
   "cell_type": "code",
   "execution_count": 7,
   "metadata": {},
   "outputs": [],
   "source": [
    "# Load csv rows for one fold\n",
    "def load_fold(fold,train_patients,valid_patients):\n",
    "    X_train=None\n",
    "    y_train=None\n",
    "    X_valid=None\n",
    "    y_valid=None\n",
    "    z_valid=[]\n",
    "    for patient in train_patients:\n",
    "        df = load_patient(patient)\n",
    "        label = PATIENT_TO_LABEL[patient]\n",
    "        if X_train is None:\n",
    "            X_train = df\n",
    "            y_train = np.full(shape=len(df),fill_value=label,dtype=np.int8)\n",
    "        else:\n",
    "            X_train = pd.concat( (X_train,df) )\n",
    "            more = np.full(shape=len(df),fill_value=label,dtype=np.int8)\n",
    "            y_train = np.concatenate( (y_train, more) )\n",
    "    for patient in valid_patients:\n",
    "        df = load_patient(patient)\n",
    "        label = PATIENT_TO_LABEL[patient]\n",
    "        if X_valid is None:\n",
    "            X_valid = df\n",
    "            y_valid = np.full(shape=len(df),fill_value=label,dtype=np.int8)\n",
    "        else:\n",
    "            X_valid = pd.concat( (X_valid,df) )\n",
    "            more = np.full(shape=len(df),fill_value=label,dtype=np.int8)\n",
    "            y_valid = np.concatenate( (y_valid, more) )\n",
    "        z_valid = z_valid + [patient]*len(df)  # retain patient ID for evaluation\n",
    "    return X_train,y_train,X_valid,y_valid,z_valid"
   ]
  },
  {
   "cell_type": "markdown",
   "metadata": {},
   "source": [
    "## Random Forest"
   ]
  },
  {
   "cell_type": "code",
   "execution_count": 8,
   "metadata": {},
   "outputs": [],
   "source": [
    "# Later, weight each patch label by the confidence i.e. score\n",
    "def aggregate_accuracy(y_pred,z_valid):\n",
    "    L = len(y_pred)\n",
    "    if L != len(z_valid):\n",
    "        raise Exception('Lengths of y and z do not match')\n",
    "    correct = {}\n",
    "    incorrect = {}\n",
    "    patients = np.unique(z_valid)\n",
    "    for patient in patients:\n",
    "        correct[patient]=0\n",
    "        incorrect[patient]=0\n",
    "    for i in range(L):\n",
    "        patient = z_valid[i]\n",
    "        label = PATIENT_TO_LABEL[patient]\n",
    "        pred = y_pred[i]\n",
    "        if pred == label:\n",
    "            correct[patient] += 1\n",
    "        else:\n",
    "            incorrect[patient] += 1\n",
    "    numerator = 0\n",
    "    denominator = 0\n",
    "    for patient in patients:\n",
    "        denominator += 1\n",
    "        if correct[patient]>incorrect[patient]:\n",
    "            numerator += 1\n",
    "    accuracy = float(0)\n",
    "    if denominator>0:\n",
    "        accuracy = float(numerator/denominator) \n",
    "    return accuracy"
   ]
  },
  {
   "cell_type": "code",
   "execution_count": 12,
   "metadata": {},
   "outputs": [
    {
     "name": "stdout",
     "output_type": "stream",
     "text": [
      "\n",
      "2022-07-15 11:47:23.064585\n",
      "Fold 0 patients train ['B15', 'E7_', 'E9_', 'F9_', 'G3_', 'H13', 'I1_', 'I5_', 'I13', 'A3_', 'A5_', 'B13', 'C11', 'D3_', 'E5_', 'F11', 'F15', 'G15', 'H1_', 'H7_', 'H15'] patients valid ['D1_', 'B7_', 'D5_', 'C1_', 'H3_', 'F3_', 'F7_']\n",
      "Fold: 0 patches train (5157, 5305) patches valid (1796, 5305)\n",
      "Fold 0 Patch-level Validation Accuracy: 54.28730512249443\n",
      "Fold 0 Patient-level Validation Accuracy: 0.5714285714285714\n",
      "\n",
      "2022-07-15 11:47:46.309395\n",
      "Fold 1 patients train ['B7_', 'B15', 'D1_', 'D5_', 'E7_', 'G3_', 'H13', 'I1_', 'I5_', 'A3_', 'A5_', 'B13', 'C1_', 'C11', 'D3_', 'E5_', 'F3_', 'F7_', 'H1_', 'H3_', 'H15'] patients valid ['E9_', 'F9_', 'I13', 'F15', 'G15', 'F11', 'H7_']\n",
      "Fold: 1 patches train (5105, 5305) patches valid (1848, 5305)\n",
      "Fold 1 Patch-level Validation Accuracy: 69.75108225108225\n",
      "Fold 1 Patient-level Validation Accuracy: 0.7142857142857143\n",
      "\n",
      "2022-07-15 11:48:09.175322\n",
      "Fold 2 patients train ['B7_', 'D1_', 'D5_', 'E7_', 'E9_', 'F9_', 'G3_', 'I5_', 'I13', 'C1_', 'C11', 'D3_', 'E5_', 'F3_', 'F7_', 'F11', 'F15', 'G15', 'H3_', 'H7_', 'H15'] patients valid ['H13', 'I1_', 'B15', 'A5_', 'A3_', 'B13', 'H1_']\n",
      "Fold: 2 patches train (5275, 5305) patches valid (1678, 5305)\n",
      "Fold 2 Patch-level Validation Accuracy: 64.66030989272944\n",
      "Fold 2 Patient-level Validation Accuracy: 0.5714285714285714\n",
      "\n",
      "2022-07-15 11:48:32.586400\n",
      "Fold 3 patients train ['B7_', 'B15', 'D1_', 'D5_', 'E9_', 'F9_', 'H13', 'I1_', 'I13', 'A3_', 'A5_', 'B13', 'C1_', 'F3_', 'F7_', 'F11', 'F15', 'G15', 'H1_', 'H3_', 'H7_'] patients valid ['E7_', 'I5_', 'G3_', 'C11', 'D3_', 'H15', 'E5_']\n",
      "Fold: 3 patches train (5322, 5305) patches valid (1631, 5305)\n",
      "Fold 3 Patch-level Validation Accuracy: 65.48129981606377\n",
      "Fold 3 Patient-level Validation Accuracy: 0.7142857142857143\n"
     ]
    }
   ],
   "source": [
    "patch_accuracies = []\n",
    "patient_accuracies = []\n",
    "for fold in range(NUM_FOLDS):\n",
    "    print()\n",
    "    print(datetime.datetime.now())\n",
    "    train_patients,valid_patients = load_patients(fold)  \n",
    "    X_train,y_train,X_valid,y_valid,z_valid = load_fold(fold,train_patients,valid_patients)\n",
    "    \n",
    "    print('Fold',fold,'patients train',train_patients,'patients valid',valid_patients)\n",
    "    print('Fold:',fold,'patches train',X_train.shape,'patches valid',X_valid.shape)\n",
    "    # CNN models are sensitive to train set order but RF models are not. \n",
    "    X_train,y_train = shuffle(X_train,y_train)\n",
    "    rfc = RandomForestClassifier()\n",
    "    rfc.fit(X_train,y_train)  # slow\n",
    "    \n",
    "    y_pred = rfc.predict(X_valid)\n",
    "    matches = np.count_nonzero(y_valid==y_pred)\n",
    "    accuracy = 100.0 * matches / len(y_pred)\n",
    "    patch_accuracies.append(accuracy)\n",
    "    print('Fold',fold,'Patch-level Validation Accuracy:',accuracy)\n",
    "    \n",
    "    accuracy = aggregate_accuracy(y_pred,z_valid)\n",
    "    patient_accuracies.append(accuracy)\n",
    "    print('Fold',fold,'Patient-level Validation Accuracy:',accuracy)"
   ]
  },
  {
   "cell_type": "code",
   "execution_count": 13,
   "metadata": {},
   "outputs": [
    {
     "name": "stdout",
     "output_type": "stream",
     "text": [
      "2022-07-15 11:48:55.319686\n",
      "Cross validation patch-level accuracy: [54.28730512249443, 69.75108225108225, 64.66030989272944, 65.48129981606377]\n",
      "mean: 63.54499927059247 std: 5.683606788094546\n",
      "Cross validation patient-level accuracy: [0.5714285714285714, 0.7142857142857143, 0.5714285714285714, 0.7142857142857143]\n",
      "mean: 0.6428571428571428 std: 0.07142857142857145\n"
     ]
    }
   ],
   "source": [
    "print(datetime.datetime.now())\n",
    "print('Cross validation patch-level accuracy:',patch_accuracies)\n",
    "print('mean:',np.mean(patch_accuracies),'std:',np.std(patch_accuracies))\n",
    "print('Cross validation patient-level accuracy:',patient_accuracies)\n",
    "print('mean:',np.mean(patient_accuracies),'std:',np.std(patient_accuracies))\n"
   ]
  },
  {
   "cell_type": "code",
   "execution_count": null,
   "metadata": {},
   "outputs": [],
   "source": []
  }
 ],
 "metadata": {
  "kernelspec": {
   "display_name": "Python 3",
   "language": "python",
   "name": "python3"
  },
  "language_info": {
   "codemirror_mode": {
    "name": "ipython",
    "version": 3
   },
   "file_extension": ".py",
   "mimetype": "text/x-python",
   "name": "python",
   "nbconvert_exporter": "python",
   "pygments_lexer": "ipython3",
   "version": "3.8.10"
  }
 },
 "nbformat": 4,
 "nbformat_minor": 4
}
