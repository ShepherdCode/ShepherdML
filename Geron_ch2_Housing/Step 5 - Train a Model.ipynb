{
 "cells": [
  {
   "cell_type": "code",
   "execution_count": 15,
   "metadata": {},
   "outputs": [],
   "source": [
    "# Try Linear Regression, etc.\n",
    "\n",
    "# First, resurrect the data.\n",
    "import pandas as pd\n",
    "import numpy as np\n",
    "datapath=\"/Users/jasonmiller/Source/MachineLearning/datasets/housing/housing.csv\"\n",
    "all_data=pd.read_csv(datapath)\n",
    "from sklearn.model_selection import train_test_split\n",
    "train_set, test_set = train_test_split(all_data,test_size=0.2,random_state=42)\n",
    "train_predictors = train_set.drop([\"median_house_value\"],axis=1)\n",
    "train_labels = train_set[\"median_house_value\"].copy()\n",
    "from sklearn.base import BaseEstimator, TransformerMixin\n",
    "rooms_ix, bedrooms_ix, population_ix, households_ix = 3,4,5,6  # hard coded index\n",
    "class AddFeatures (BaseEstimator, TransformerMixin):\n",
    "    def fit(self,X,y=None):\n",
    "        return self   # required by base class\n",
    "    def transform(self,X,y=None):\n",
    "        rooms_per_household = X[:,rooms_ix]/X[:,households_ix]\n",
    "        population_per_household = X[:,population_ix]/X[:,households_ix]\n",
    "        bedrooms_per_room = X[:,bedrooms_ix]/X[:,rooms_ix]\n",
    "        # numpy shorthand for a column-wise concatenation\n",
    "        return np.c_[X,rooms_per_household,population_per_household,bedrooms_per_room]\n",
    "from sklearn.pipeline import Pipeline\n",
    "from sklearn.preprocessing import StandardScaler\n",
    "from sklearn.impute import SimpleImputer\n",
    "numeric_pipeline = Pipeline([\n",
    "    ('imputer',SimpleImputer(strategy='median')),\n",
    "    ('feater_adder',AddFeatures()),\n",
    "    ('scaler',StandardScaler())\n",
    "])\n",
    "categoric_features=['ocean_proximity']\n",
    "numeric_features = list(train_predictors)\n",
    "numeric_features.remove(categoric_features[0])\n",
    "from sklearn.compose import ColumnTransformer\n",
    "from sklearn.preprocessing import OneHotEncoder\n",
    "full_pipeline = ColumnTransformer([\n",
    "    (\"num\", numeric_pipeline, numeric_features),  # dense matrix\n",
    "    (\"cat\", OneHotEncoder(), categoric_features)  # sparse matrix\n",
    "])\n",
    "#\n",
    "prepared_train_predictors = full_pipeline.fit_transform(train_predictors)"
   ]
  },
  {
   "cell_type": "code",
   "execution_count": 17,
   "metadata": {},
   "outputs": [
    {
     "data": {
      "text/plain": [
       "14196    103000.0\n",
       "8267     382100.0\n",
       "17445    172600.0\n",
       "14265     93400.0\n",
       "2271      96500.0\n",
       "Name: median_house_value, dtype: float64"
      ]
     },
     "execution_count": 17,
     "metadata": {},
     "output_type": "execute_result"
    }
   ],
   "source": [
    "# Try predicting price for first five data values. \n",
    "# Note this is the training set -- values already seen. It should do well.\n",
    "some_labels = train_labels[:5]\n",
    "some_labels"
   ]
  },
  {
   "cell_type": "code",
   "execution_count": 26,
   "metadata": {},
   "outputs": [
    {
     "data": {
      "text/plain": [
       "array([181746.54359616, 290558.74973505, 244957.50017771, 146498.51061398,\n",
       "       163230.42393939])"
      ]
     },
     "execution_count": 26,
     "metadata": {},
     "output_type": "execute_result"
    }
   ],
   "source": [
    "# First model: Linear Regression\n",
    "from sklearn.linear_model import LinearRegression\n",
    "model = LinearRegression()\n",
    "model.fit(prepared_train_predictors, train_labels)\n",
    "some_data = train_predictors[:5]\n",
    "some_data_prepared = full_pipeline.transform(some_data)  # do not call fit_transform()\n",
    "some_predictions = model.predict(some_data_prepared)\n",
    "some_predictions"
   ]
  },
  {
   "cell_type": "code",
   "execution_count": 27,
   "metadata": {},
   "outputs": [
    {
     "data": {
      "text/plain": [
       "14196   -78746.543596\n",
       "8267     91541.250265\n",
       "17445   -72357.500178\n",
       "14265   -53098.510614\n",
       "2271    -66730.423939\n",
       "Name: median_house_value, dtype: float64"
      ]
     },
     "execution_count": 27,
     "metadata": {},
     "output_type": "execute_result"
    }
   ],
   "source": [
    "# Error per data value is over $50K.\n",
    "some_labels-some_predictions"
   ]
  },
  {
   "cell_type": "code",
   "execution_count": 28,
   "metadata": {},
   "outputs": [
    {
     "data": {
      "text/plain": [
       "67593.20745775253"
      ]
     },
     "execution_count": 28,
     "metadata": {},
     "output_type": "execute_result"
    }
   ],
   "source": [
    "# More sophisticated: MSE on entire training set.\n",
    "# Same result: error per data value is over $50K.\n",
    "# Book suggests adding more features like log(population)\n",
    "from sklearn.metrics import mean_squared_error\n",
    "lin_predictions = model.predict(prepared_train_predictors)\n",
    "lin_mse = mean_squared_error(train_labels,lin_predictions)\n",
    "lin_rmse = np.sqrt(lin_mse)\n",
    "lin_rmse"
   ]
  },
  {
   "cell_type": "code",
   "execution_count": 30,
   "metadata": {},
   "outputs": [
    {
     "data": {
      "text/plain": [
       "0.0"
      ]
     },
     "execution_count": 30,
     "metadata": {},
     "output_type": "execute_result"
    }
   ],
   "source": [
    "# Second model: Decison Tree.\n",
    "# Zero error indicates overfitting.\n",
    "# Need to do cross-validation (next step).\n",
    "from sklearn.tree import DecisionTreeRegressor\n",
    "model = DecisionTreeRegressor()\n",
    "model.fit(prepared_train_predictors, train_labels)\n",
    "dtree_predictions = model.predict(prepared_train_predictors)\n",
    "dtree_mse = mean_squared_error(train_labels,dtree_predictions)\n",
    "dtree_rmse = np.sqrt(dtree_mse)\n",
    "dtree_rmse"
   ]
  },
  {
   "cell_type": "code",
   "execution_count": 33,
   "metadata": {},
   "outputs": [
    {
     "data": {
      "text/plain": [
       "18445.568303023643"
      ]
     },
     "execution_count": 33,
     "metadata": {},
     "output_type": "execute_result"
    }
   ],
   "source": [
    "# Third model: Random Forest\n",
    "# This ran for a long time (one minute?).\n",
    "# Best so far.\n",
    "from sklearn.ensemble import RandomForestRegressor\n",
    "model = RandomForestRegressor()\n",
    "model.fit(prepared_train_predictors, train_labels)\n",
    "rf_predictions = model.predict(prepared_train_predictors)\n",
    "rf_mse = mean_squared_error(train_labels,rf_predictions)\n",
    "rf_rmse = np.sqrt(rf_mse)\n",
    "rf_rmse"
   ]
  },
  {
   "cell_type": "code",
   "execution_count": null,
   "metadata": {},
   "outputs": [],
   "source": []
  }
 ],
 "metadata": {
  "kernelspec": {
   "display_name": "Python 3",
   "language": "python",
   "name": "python3"
  },
  "language_info": {
   "codemirror_mode": {
    "name": "ipython",
    "version": 3
   },
   "file_extension": ".py",
   "mimetype": "text/x-python",
   "name": "python",
   "nbconvert_exporter": "python",
   "pygments_lexer": "ipython3",
   "version": "3.8.3"
  }
 },
 "nbformat": 4,
 "nbformat_minor": 2
}
