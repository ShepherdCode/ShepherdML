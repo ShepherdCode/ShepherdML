{
 "cells": [
  {
   "cell_type": "code",
   "execution_count": null,
   "metadata": {},
   "outputs": [],
   "source": [
    "# From here on, operate on train_set only.\n",
    "# Automate all processing so it can be repeated on test_set (and validation set?).\n",
    "\n",
    "# Return to issue of missing data.\n",
    "# Recall there were 207 null bedroom counts \n",
    "# By chance, all of them ended up in test_set, but we will process train_set anyway.\n",
    "\n",
    "# Generalize the fix to all columns since real data could have NaN anywhere.\n",
    "# Choice 1 = remove whole rows i.e. data points: sts.dropna(subset=[\"total_bedrooms\"])\n",
    "# Choice 2 = remove whole columns i.e. features: sts.drop(\"total_bedrooms\",axis=1)\n",
    "# Choice 3 = change NaN to 3000 i.e. sts[\"total_bedrooms\"].fillna(3000,inplace=True)\n",
    "# Choice 4 = use an imputer. Hits every column. Requires us to put aside non-numeric columns.\n",
    "#           Using median will perhaps have the least effect on outcome.\n",
    "from sklearn.impute import SimpleImputer\n",
    "imputer=SimpleImputer(strategy=\"median\")\n",
    "temp = train_set.copy()  \n",
    "numeric_only = temp.drop(\"ocean_proximity\",axis=1)\n",
    "imputer.fit(numeric_only)\n",
    "numpy_array = imputer.transform(numeric_only)  # replace NaN with column median in every column\n",
    "numeric_sts = pd.DataFrame(numpy_array,columns=numeric_only.columns,index=numeric_only.index)\n",
    "numeric_sts.isnull().sum()"
   ]
  }
 ],
 "metadata": {
  "kernelspec": {
   "display_name": "Python 3",
   "language": "python",
   "name": "python3"
  },
  "language_info": {
   "codemirror_mode": {
    "name": "ipython",
    "version": 3
   },
   "file_extension": ".py",
   "mimetype": "text/x-python",
   "name": "python",
   "nbconvert_exporter": "python",
   "pygments_lexer": "ipython3",
   "version": "3.8.3"
  }
 },
 "nbformat": 4,
 "nbformat_minor": 2
}
