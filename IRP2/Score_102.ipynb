{
 "cells": [
  {
   "cell_type": "markdown",
   "metadata": {
    "id": "PG-tGRnlFLA3"
   },
   "source": [
    "# Accuracy on Diploid\n",
    "Run each aligner on the diploid and trust its primary alignment."
   ]
  },
  {
   "cell_type": "code",
   "execution_count": 1,
   "metadata": {
    "colab": {
     "base_uri": "https://localhost:8080/"
    },
    "id": "0RmwUsVLFLA6",
    "outputId": "c52381f2-72ee-4702-be36-1d0bb79094dd"
   },
   "outputs": [
    {
     "name": "stdout",
     "output_type": "stream",
     "text": [
      "2023-07-12 12:16:15.019681\n"
     ]
    }
   ],
   "source": [
    "from datetime import datetime\n",
    "print(datetime.now())"
   ]
  },
  {
   "cell_type": "code",
   "execution_count": 2,
   "metadata": {
    "colab": {
     "base_uri": "https://localhost:8080/"
    },
    "id": "OlzN9OdsFWEU",
    "outputId": "0ea098d4-7be5-427d-e18e-9d61dcdd8122"
   },
   "outputs": [
    {
     "name": "stderr",
     "output_type": "stream",
     "text": [
      "2023-07-12 12:16:15.090335: I tensorflow/core/platform/cpu_feature_guard.cc:193] This TensorFlow binary is optimized with oneAPI Deep Neural Network Library (oneDNN) to use the following CPU instructions in performance-critical operations:  AVX2 FMA\n",
      "To enable them in other operations, rebuild TensorFlow with the appropriate compiler flags.\n"
     ]
    },
    {
     "name": "stdout",
     "output_type": "stream",
     "text": [
      "GPU device not found\n",
      "Running on Mac\n"
     ]
    },
    {
     "name": "stderr",
     "output_type": "stream",
     "text": [
      "2023-07-12 12:16:24.431521: I tensorflow/core/platform/cpu_feature_guard.cc:193] This TensorFlow binary is optimized with oneAPI Deep Neural Network Library (oneDNN) to use the following CPU instructions in performance-critical operations:  AVX2 FMA\n",
      "To enable them in other operations, rebuild TensorFlow with the appropriate compiler flags.\n"
     ]
    }
   ],
   "source": [
    "import tensorflow as tf\n",
    "dt='float32'\n",
    "tf.keras.backend.set_floatx('float32')\n",
    "tf.random.set_seed(42) # supposedly leads to reproducible results\n",
    "\n",
    "device_name = tf.test.gpu_device_name()\n",
    "if device_name != '/device:GPU:0':\n",
    "    print('GPU device not found')\n",
    "else:\n",
    "    print('Found GPU at: {}'.format(device_name))\n",
    "\n",
    "try:\n",
    "    from google.colab import drive\n",
    "    IN_COLAB = True\n",
    "    print('Running on CoLab')\n",
    "    PATH='/content/drive/'\n",
    "    drive.mount(PATH)\n",
    "    DATA_DIR=PATH+'My Drive/data/IRP2/'  # must end in \"/\"\n",
    "    MODEL_DIR=PATH+'My Drive/data/IRP2/Models/'  # must end in \"/\"\n",
    "except:\n",
    "    IN_COLAB = False\n",
    "    print('Running on Mac')\n",
    "    DATA_DIR=\"/Users/jasonmiller/WVU/BAM_ML/\"\n",
    "    MODEL_DIR=\"/Users/jasonmiller/WVU/BAM_ML/Models/\"\n",
    "SAVE_MODEL_FILENAME = None"
   ]
  },
  {
   "cell_type": "code",
   "execution_count": 3,
   "metadata": {
    "colab": {
     "base_uri": "https://localhost:8080/"
    },
    "id": "CIAT2G5DYwvS",
    "outputId": "2d208d70-a754-40f2-e477-d82ba02827aa"
   },
   "outputs": [
    {
     "name": "stdout",
     "output_type": "stream",
     "text": [
      "Python 3.10.0\n",
      "sklearn 1.1.2\n"
     ]
    }
   ],
   "source": [
    "from platform import python_version\n",
    "print('Python',python_version())\n",
    "import random\n",
    "import numpy as np\n",
    "np.random.seed(42) # supposedly sets scikit-learn\n",
    "import pandas as pd  # for plotting\n",
    "import time # sleep function\n",
    "from os.path import isfile\n",
    "import gzip\n",
    "from matplotlib import pyplot as plt\n",
    "import sklearn   # pip install --upgrade scikit-learn\n",
    "print('sklearn',sklearn.__version__)\n",
    "\n",
    "from tensorflow import keras\n",
    "# consider sklearn.metrics.classification_report\n",
    "from sklearn.metrics import recall_score\n",
    "from sklearn.metrics import accuracy_score\n",
    "from sklearn.metrics import precision_score\n",
    "from sklearn.metrics import f1_score\n",
    "from sklearn.metrics import precision_recall_curve\n",
    "from sklearn.metrics import roc_curve\n",
    "from sklearn.metrics import roc_auc_score\n",
    "from sklearn.metrics import auc\n",
    "from sklearn.metrics import matthews_corrcoef\n",
    "from sklearn.utils import class_weight\n",
    "from sklearn.metrics import confusion_matrix\n",
    "from sklearn.ensemble import RandomForestClassifier as RFC\n",
    "\n",
    "EPOCHS=150"
   ]
  },
  {
   "cell_type": "markdown",
   "metadata": {
    "id": "LkR5p_t4b4Ex"
   },
   "source": [
    "## Comparisons"
   ]
  },
  {
   "cell_type": "code",
   "execution_count": 4,
   "metadata": {
    "id": "VCzbj21FMpfU"
   },
   "outputs": [],
   "source": [
    "def show_performance(correct1,total1,correct2,total2):\n",
    "    # class 1 is negative, class 2 is positive\n",
    "    grand_total = total1+total2\n",
    "    wrong1 = total1-correct1\n",
    "    wrong2 = total2-correct2\n",
    "    TN = correct1\n",
    "    FN = wrong2\n",
    "    TP = correct2\n",
    "    FP = wrong1\n",
    "    accuracy = 100 * (TP+TN)/grand_total\n",
    "    f1 = 100 * 2*TP / (2*TP+FP+FN)\n",
    "    sensitivity = 100 * TP / (TP+FN)\n",
    "    recall = sensitivity\n",
    "    specificity = 100 * TN / (TN+FP)\n",
    "    precision = 100 * TP / (TP+FP)\n",
    "    numer = TP*TN - FP*FN\n",
    "    square = (TP+FP)*(TP+FN)*(TN+FP)*(TN+FN)\n",
    "    denom = np.sqrt(square)\n",
    "    mcc = numer/denom\n",
    "    auprc = 0\n",
    "    auroc = 0\n",
    "    print('Accuracy: %.2f%% F1: %.2f%% MCC: %.4f' % (accuracy,f1,mcc))\n",
    "    print('Precision: %.2f%% Recall: %.2f%% AUPRC: %.2f%%' % (precision,recall,auprc))\n",
    "    print('Sensitivity: %.2f%% Specificity: %.2f%% AUROC: %.2f%%' % (sensitivity,specificity,auroc))\n",
    "\n",
    "def show_ppm(correct1,correct2):\n",
    "    show_performance(correct1,1000000,correct2,1000000)"
   ]
  },
  {
   "cell_type": "code",
   "execution_count": 5,
   "metadata": {},
   "outputs": [
    {
     "name": "stdout",
     "output_type": "stream",
     "text": [
      "Accuracy: 62.50% F1: 66.67% MCC: 0.2582\n",
      "Precision: 60.00% Recall: 75.00% AUPRC: 0.00%\n",
      "Sensitivity: 75.00% Specificity: 50.00% AUROC: 0.00%\n"
     ]
    }
   ],
   "source": [
    "show_performance(10,20,15,20)"
   ]
  },
  {
   "cell_type": "markdown",
   "metadata": {},
   "source": [
    "## Arabidopsis"
   ]
  },
  {
   "cell_type": "code",
   "execution_count": 6,
   "metadata": {},
   "outputs": [
    {
     "name": "stdout",
     "output_type": "stream",
     "text": [
      "Arabidopsis: Salmon\n",
      "Accuracy: 75.47% F1: 75.82% MCC: 0.5097\n",
      "Precision: 74.76% Recall: 76.91% AUPRC: 0.00%\n",
      "Sensitivity: 76.91% Specificity: 74.03% AUROC: 0.00%\n"
     ]
    }
   ],
   "source": [
    "print('Arabidopsis: Salmon')\n",
    "lyrata = 1480670/2\n",
    "halleri = 1538246/2\n",
    "show_ppm(lyrata,halleri)"
   ]
  },
  {
   "cell_type": "code",
   "execution_count": 7,
   "metadata": {},
   "outputs": [
    {
     "name": "stdout",
     "output_type": "stream",
     "text": [
      "Arabidopsis: Bowtie\n",
      "Accuracy: 82.76% F1: 83.08% MCC: 0.6556\n",
      "Precision: 81.56% Recall: 84.65% AUPRC: 0.00%\n",
      "Sensitivity: 84.65% Specificity: 80.86% AUROC: 0.00%\n"
     ]
    }
   ],
   "source": [
    "print('Arabidopsis: Bowtie')\n",
    "lyrata = 1617258/2\n",
    "halleri = 1692966/2\n",
    "show_ppm(lyrata,halleri)"
   ]
  },
  {
   "cell_type": "code",
   "execution_count": 8,
   "metadata": {},
   "outputs": [
    {
     "name": "stdout",
     "output_type": "stream",
     "text": [
      "Arabidopsis: STAR RNA\n",
      "Accuracy: 80.91% F1: 81.05% MCC: 0.6182\n",
      "Precision: 80.46% Recall: 81.64% AUPRC: 0.00%\n",
      "Sensitivity: 81.64% Specificity: 80.18% AUROC: 0.00%\n"
     ]
    }
   ],
   "source": [
    "print('Arabidopsis: STAR RNA')\n",
    "lyrata = 1603576/2\n",
    "halleri = 1632714/2\n",
    "show_ppm(lyrata,halleri)"
   ]
  },
  {
   "cell_type": "code",
   "execution_count": 9,
   "metadata": {},
   "outputs": [
    {
     "name": "stdout",
     "output_type": "stream",
     "text": [
      "Arabidopsis: HiSat\n",
      "Accuracy: 66.84% F1: 53.61% MCC: 0.4100\n",
      "Precision: 89.18% Recall: 38.33% AUPRC: 0.00%\n",
      "Sensitivity: 38.33% Specificity: 95.35% AUROC: 0.00%\n"
     ]
    }
   ],
   "source": [
    "print('Arabidopsis: HiSat')\n",
    "lyrata = 1907012/2\n",
    "halleri = 766564/2\n",
    "show_ppm(lyrata,halleri)"
   ]
  },
  {
   "cell_type": "code",
   "execution_count": 10,
   "metadata": {},
   "outputs": [
    {
     "name": "stdout",
     "output_type": "stream",
     "text": [
      "Arabidopsis: STAR DNA\n",
      "Accuracy: 67.46% F1: 55.42% MCC: 0.4149\n",
      "Precision: 87.97% Recall: 40.45% AUPRC: 0.00%\n",
      "Sensitivity: 40.45% Specificity: 94.47% AUROC: 0.00%\n"
     ]
    }
   ],
   "source": [
    "print('Arabidopsis: STAR DNA')\n",
    "lyrata = 1889359/2\n",
    "halleri = 808975/2\n",
    "show_ppm(lyrata,halleri)"
   ]
  },
  {
   "cell_type": "markdown",
   "metadata": {},
   "source": [
    "## Brassica"
   ]
  },
  {
   "cell_type": "code",
   "execution_count": 11,
   "metadata": {},
   "outputs": [
    {
     "name": "stdout",
     "output_type": "stream",
     "text": [
      "Brassica: Salmon\n",
      "Accuracy: 84.59% F1: 85.22% MCC: 0.6944\n",
      "Precision: 81.87% Recall: 88.87% AUPRC: 0.00%\n",
      "Sensitivity: 88.87% Specificity: 80.32% AUROC: 0.00%\n"
     ]
    }
   ],
   "source": [
    "print('Brassica: Salmon')\n",
    "rapa = 1606314/2\n",
    "oleracea = 1777328/2\n",
    "show_ppm(rapa,oleracea)"
   ]
  },
  {
   "cell_type": "code",
   "execution_count": 12,
   "metadata": {},
   "outputs": [
    {
     "name": "stdout",
     "output_type": "stream",
     "text": [
      "Brassica: Bowtie\n",
      "Accuracy: 88.72% F1: 89.12% MCC: 0.7765\n",
      "Precision: 86.11% Recall: 92.34% AUPRC: 0.00%\n",
      "Sensitivity: 92.34% Specificity: 85.11% AUROC: 0.00%\n"
     ]
    }
   ],
   "source": [
    "print('Brassica: Bowtie')\n",
    "rapa = 1702108/2\n",
    "oleracea = 1846870/2\n",
    "show_ppm(rapa,oleracea)"
   ]
  },
  {
   "cell_type": "code",
   "execution_count": 13,
   "metadata": {},
   "outputs": [
    {
     "name": "stdout",
     "output_type": "stream",
     "text": [
      "Brassica: STAR RNA\n",
      "Accuracy: 90.23% F1: 90.53% MCC: 0.8062\n",
      "Precision: 87.84% Recall: 93.39% AUPRC: 0.00%\n",
      "Sensitivity: 93.39% Specificity: 87.07% AUROC: 0.00%\n"
     ]
    }
   ],
   "source": [
    "print('Brassica: STAR RNA')\n",
    "rapa = 1741396/2\n",
    "oleracea = 1867873/2\n",
    "show_ppm(rapa,oleracea)"
   ]
  },
  {
   "cell_type": "code",
   "execution_count": 14,
   "metadata": {},
   "outputs": [
    {
     "name": "stdout",
     "output_type": "stream",
     "text": [
      "Brassica: HiSat\n",
      "Accuracy: 91.84% F1: 92.10% MCC: 0.8386\n",
      "Precision: 89.28% Recall: 95.10% AUPRC: 0.00%\n",
      "Sensitivity: 95.10% Specificity: 88.59% AUROC: 0.00%\n"
     ]
    }
   ],
   "source": [
    "print('Brassica: HiSat')\n",
    "rapa = 1771726/2\n",
    "oleracea = 1901984/2\n",
    "show_ppm(rapa,oleracea)"
   ]
  },
  {
   "cell_type": "code",
   "execution_count": 15,
   "metadata": {},
   "outputs": [
    {
     "name": "stdout",
     "output_type": "stream",
     "text": [
      "Brassica: STAR DNA\n",
      "Accuracy: 93.03% F1: 93.23% MCC: 0.8621\n",
      "Precision: 90.62% Recall: 96.00% AUPRC: 0.00%\n",
      "Sensitivity: 96.00% Specificity: 90.06% AUROC: 0.00%\n"
     ]
    }
   ],
   "source": [
    "print('Brassica: STAR DNA')\n",
    "rapa = 1801146/2\n",
    "oleracea = 1920009/2\n",
    "show_ppm(rapa,oleracea)"
   ]
  },
  {
   "cell_type": "markdown",
   "metadata": {},
   "source": [
    "## Mouse"
   ]
  },
  {
   "cell_type": "code",
   "execution_count": 16,
   "metadata": {},
   "outputs": [
    {
     "name": "stdout",
     "output_type": "stream",
     "text": [
      "Mouse: Bowtie\n",
      "Accuracy: 55.47% F1: 51.00% MCC: 0.1112\n",
      "Precision: 56.69% Recall: 46.35% AUPRC: 0.00%\n",
      "Sensitivity: 46.35% Specificity: 64.59% AUROC: 0.00%\n"
     ]
    }
   ],
   "source": [
    "print('Mouse: Bowtie')\n",
    "B6 = 1291778/2\n",
    "D2 = 926958/2\n",
    "show_ppm(B6,D2)"
   ]
  },
  {
   "cell_type": "code",
   "execution_count": 17,
   "metadata": {},
   "outputs": [
    {
     "name": "stdout",
     "output_type": "stream",
     "text": [
      "Mouse: HiSat\n",
      "Accuracy: 52.62% F1: 49.07% MCC: 0.0529\n",
      "Precision: 53.05% Recall: 45.65% AUPRC: 0.00%\n",
      "Sensitivity: 45.65% Specificity: 59.59% AUROC: 0.00%\n"
     ]
    }
   ],
   "source": [
    "print('Mouse: HiSat')\n",
    "B6 = 1191870/2\n",
    "D2 = 912994/2\n",
    "show_ppm(B6,D2)"
   ]
  },
  {
   "cell_type": "markdown",
   "metadata": {},
   "source": [
    "## Equus"
   ]
  },
  {
   "cell_type": "code",
   "execution_count": 18,
   "metadata": {},
   "outputs": [
    {
     "name": "stdout",
     "output_type": "stream",
     "text": [
      "Equus: Bowtie\n",
      "Accuracy: 71.89% F1: 73.55% MCC: 0.4412\n",
      "Precision: 69.45% Recall: 78.16% AUPRC: 0.00%\n",
      "Sensitivity: 78.16% Specificity: 65.62% AUROC: 0.00%\n"
     ]
    }
   ],
   "source": [
    "print('Equus: Bowtie')\n",
    "asinus = 1312344/2\n",
    "caballus = 1563156/2\n",
    "show_ppm(asinus,caballus)"
   ]
  }
 ],
 "metadata": {
  "colab": {
   "provenance": []
  },
  "gpuClass": "standard",
  "kernelspec": {
   "display_name": "Python 3 (ipykernel)",
   "language": "python",
   "name": "python3"
  },
  "language_info": {
   "codemirror_mode": {
    "name": "ipython",
    "version": 3
   },
   "file_extension": ".py",
   "mimetype": "text/x-python",
   "name": "python",
   "nbconvert_exporter": "python",
   "pygments_lexer": "ipython3",
   "version": "3.10.0"
  }
 },
 "nbformat": 4,
 "nbformat_minor": 1
}
