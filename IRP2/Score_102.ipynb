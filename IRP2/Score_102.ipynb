{
 "cells": [
  {
   "cell_type": "markdown",
   "metadata": {
    "id": "PG-tGRnlFLA3"
   },
   "source": [
    "# Accuracy on Diploid\n",
    "Run each aligner on the diploid and trust its primary alignment.\n",
    "\n",
    "From every BAM file, take the first 2 million lines = 1 million read pairs.\n",
    "\n",
    "Count how many of those aligned to the true parent."
   ]
  },
  {
   "cell_type": "code",
   "execution_count": 1,
   "metadata": {
    "colab": {
     "base_uri": "https://localhost:8080/"
    },
    "id": "0RmwUsVLFLA6",
    "outputId": "c52381f2-72ee-4702-be36-1d0bb79094dd"
   },
   "outputs": [
    {
     "name": "stdout",
     "output_type": "stream",
     "text": [
      "2023-07-22 13:43:03.039725\n"
     ]
    }
   ],
   "source": [
    "from datetime import datetime\n",
    "print(datetime.now())"
   ]
  },
  {
   "cell_type": "code",
   "execution_count": 2,
   "metadata": {
    "colab": {
     "base_uri": "https://localhost:8080/"
    },
    "id": "OlzN9OdsFWEU",
    "outputId": "0ea098d4-7be5-427d-e18e-9d61dcdd8122"
   },
   "outputs": [
    {
     "name": "stdout",
     "output_type": "stream",
     "text": [
      "Running on Mac\n"
     ]
    }
   ],
   "source": [
    "try:\n",
    "    from google.colab import drive\n",
    "    IN_COLAB = True\n",
    "    print('Running on CoLab')\n",
    "    PATH='/content/drive/'\n",
    "    drive.mount(PATH)\n",
    "    DATA_DIR=PATH+'My Drive/data/IRP2/'  # must end in \"/\"\n",
    "    MODEL_DIR=PATH+'My Drive/data/IRP2/Models/'  # must end in \"/\"\n",
    "except:\n",
    "    IN_COLAB = False\n",
    "    print('Running on Mac')\n",
    "    DATA_DIR=\"/Users/jasonmiller/WVU/BAM_ML/\"\n",
    "    MODEL_DIR=\"/Users/jasonmiller/WVU/BAM_ML/Models/\"\n",
    "SAVE_MODEL_FILENAME = None"
   ]
  },
  {
   "cell_type": "code",
   "execution_count": 3,
   "metadata": {
    "colab": {
     "base_uri": "https://localhost:8080/"
    },
    "id": "CIAT2G5DYwvS",
    "outputId": "2d208d70-a754-40f2-e477-d82ba02827aa"
   },
   "outputs": [
    {
     "name": "stdout",
     "output_type": "stream",
     "text": [
      "Python 3.10.0\n",
      "sklearn 1.1.2\n"
     ]
    }
   ],
   "source": [
    "from platform import python_version\n",
    "print('Python',python_version())\n",
    "import random\n",
    "import numpy as np\n",
    "np.random.seed(42) # supposedly sets scikit-learn\n",
    "import pandas as pd  # for plotting\n",
    "import time # sleep function\n",
    "from os.path import isfile\n",
    "import gzip\n",
    "from matplotlib import pyplot as plt\n",
    "import sklearn   # pip install --upgrade scikit-learn\n",
    "print('sklearn',sklearn.__version__)\n",
    "\n",
    "from sklearn.metrics import recall_score\n",
    "from sklearn.metrics import accuracy_score\n",
    "from sklearn.metrics import precision_score\n",
    "from sklearn.metrics import f1_score\n",
    "from sklearn.metrics import precision_recall_curve\n",
    "from sklearn.metrics import roc_curve\n",
    "from sklearn.metrics import roc_auc_score\n",
    "from sklearn.metrics import auc\n",
    "from sklearn.metrics import matthews_corrcoef\n",
    "from sklearn.utils import class_weight\n",
    "from sklearn.metrics import confusion_matrix"
   ]
  },
  {
   "cell_type": "markdown",
   "metadata": {
    "id": "LkR5p_t4b4Ex"
   },
   "source": [
    "## Comparisons"
   ]
  },
  {
   "cell_type": "code",
   "execution_count": 4,
   "metadata": {
    "id": "VCzbj21FMpfU"
   },
   "outputs": [],
   "source": [
    "def show_performance(correct1,total1,correct2,total2):\n",
    "    # class 1 is negative, class 2 is positive\n",
    "    grand_total = total1+total2\n",
    "    wrong1 = total1-correct1\n",
    "    wrong2 = total2-correct2\n",
    "    TN = correct1\n",
    "    FN = wrong2\n",
    "    TP = correct2\n",
    "    FP = wrong1\n",
    "    accuracy = 100 * (TP+TN)/grand_total\n",
    "    f1 = 100 * 2*TP / (2*TP+FP+FN)\n",
    "    sensitivity = 100 * TP / (TP+FN)\n",
    "    recall = sensitivity\n",
    "    specificity = 100 * TN / (TN+FP)\n",
    "    precision = 100 * TP / (TP+FP)\n",
    "    numer = TP*TN - FP*FN\n",
    "    square = (TP+FP)*(TP+FN)*(TN+FP)*(TN+FN)\n",
    "    denom = np.sqrt(square)\n",
    "    mcc = numer/denom\n",
    "    auprc = 0\n",
    "    auroc = 0\n",
    "    preference = 100*(TP+FP)/(TP+FP+TN+FN) # % positive class\n",
    "    print('TP FP TOT: %6d %6d %7d' % (TP,FP,TP+FP))\n",
    "    print('FN TN TOT: %6d %6d %7d' % (FN,TN,FN+TN))\n",
    "    print('Pos pref:    %.2f%%' % (preference) )\n",
    "    print('Accuracy:    %.2f%% F1-score:    %.2f%% MCC:   %.4f' % (accuracy,f1,mcc))\n",
    "    print('Precision:   %.2f%% Recall:      %.2f%% AUPRC: %.2f%%' % (precision,recall,auprc))\n",
    "    print('Sensitivity: %.2f%% Specificity: %.2f%% AUROC: %.2f%%' % (sensitivity,specificity,auroc))\n",
    "\n",
    "def show_ppm(correct1,correct2):\n",
    "    show_performance(correct1,1000000,correct2,1000000)"
   ]
  },
  {
   "cell_type": "code",
   "execution_count": 5,
   "metadata": {},
   "outputs": [
    {
     "name": "stdout",
     "output_type": "stream",
     "text": [
      "TP FP TOT:     15     10      25\n",
      "FN TN TOT:      5     10      15\n",
      "Pos pref:    62.50%\n",
      "Accuracy:    62.50% F1-score:    66.67% MCC:   0.2582\n",
      "Precision:   60.00% Recall:      75.00% AUPRC: 0.00%\n",
      "Sensitivity: 75.00% Specificity: 50.00% AUROC: 0.00%\n"
     ]
    }
   ],
   "source": [
    "show_performance(10,20,15,20)"
   ]
  },
  {
   "cell_type": "markdown",
   "metadata": {},
   "source": [
    "## Arabidopsis"
   ]
  },
  {
   "cell_type": "code",
   "execution_count": 6,
   "metadata": {},
   "outputs": [
    {
     "name": "stdout",
     "output_type": "stream",
     "text": [
      "Arabidopsis: Salmon\n",
      "TP FP TOT: 769123 259665 1028788\n",
      "FN TN TOT: 230877 740335  971212\n",
      "Pos pref:    51.44%\n",
      "Accuracy:    75.47% F1-score:    75.82% MCC:   0.5097\n",
      "Precision:   74.76% Recall:      76.91% AUPRC: 0.00%\n",
      "Sensitivity: 76.91% Specificity: 74.03% AUROC: 0.00%\n"
     ]
    }
   ],
   "source": [
    "print('Arabidopsis: Salmon')\n",
    "lyrata =  1480670/2\n",
    "halleri = 1538246/2\n",
    "show_ppm(lyrata,halleri)"
   ]
  },
  {
   "cell_type": "code",
   "execution_count": 7,
   "metadata": {},
   "outputs": [
    {
     "name": "stdout",
     "output_type": "stream",
     "text": [
      "Arabidopsis: Bowtie\n",
      "TP FP TOT: 846483 191371 1037854\n",
      "FN TN TOT: 153517 808629  962146\n",
      "Pos pref:    51.89%\n",
      "Accuracy:    82.76% F1-score:    83.08% MCC:   0.6556\n",
      "Precision:   81.56% Recall:      84.65% AUPRC: 0.00%\n",
      "Sensitivity: 84.65% Specificity: 80.86% AUROC: 0.00%\n"
     ]
    }
   ],
   "source": [
    "print('Arabidopsis: Bowtie')\n",
    "lyrata =  1617258/2\n",
    "halleri = 1692966/2\n",
    "show_ppm(lyrata,halleri)"
   ]
  },
  {
   "cell_type": "code",
   "execution_count": 8,
   "metadata": {},
   "outputs": [
    {
     "name": "stdout",
     "output_type": "stream",
     "text": [
      "Arabidopsis: STAR RNA\n",
      "TP FP TOT: 816357 198212 1014569\n",
      "FN TN TOT: 183643 801788  985431\n",
      "Pos pref:    50.73%\n",
      "Accuracy:    80.91% F1-score:    81.05% MCC:   0.6182\n",
      "Precision:   80.46% Recall:      81.64% AUPRC: 0.00%\n",
      "Sensitivity: 81.64% Specificity: 80.18% AUROC: 0.00%\n"
     ]
    }
   ],
   "source": [
    "print('Arabidopsis: STAR RNA')\n",
    "lyrata =  1603576/2\n",
    "halleri = 1632714/2\n",
    "show_ppm(lyrata,halleri)"
   ]
  },
  {
   "cell_type": "code",
   "execution_count": 9,
   "metadata": {},
   "outputs": [
    {
     "name": "stdout",
     "output_type": "stream",
     "text": [
      "Arabidopsis: HiSat\n",
      "TP FP TOT: 383282  46494  429776\n",
      "FN TN TOT: 616718 953506 1570224\n",
      "Pos pref:    21.49%\n",
      "Accuracy:    66.84% F1-score:    53.61% MCC:   0.4100\n",
      "Precision:   89.18% Recall:      38.33% AUPRC: 0.00%\n",
      "Sensitivity: 38.33% Specificity: 95.35% AUROC: 0.00%\n"
     ]
    }
   ],
   "source": [
    "print('Arabidopsis: HiSat')\n",
    "lyrata = 1907012/2\n",
    "halleri = 766564/2\n",
    "show_ppm(lyrata,halleri)"
   ]
  },
  {
   "cell_type": "code",
   "execution_count": 10,
   "metadata": {},
   "outputs": [
    {
     "name": "stdout",
     "output_type": "stream",
     "text": [
      "Arabidopsis: STAR DNA\n",
      "TP FP TOT: 404487  55320  459808\n",
      "FN TN TOT: 595512 944679 1540192\n",
      "Pos pref:    22.99%\n",
      "Accuracy:    67.46% F1-score:    55.42% MCC:   0.4149\n",
      "Precision:   87.97% Recall:      40.45% AUPRC: 0.00%\n",
      "Sensitivity: 40.45% Specificity: 94.47% AUROC: 0.00%\n"
     ]
    }
   ],
   "source": [
    "print('Arabidopsis: STAR DNA')\n",
    "lyrata = 1889359/2\n",
    "halleri = 808975/2\n",
    "show_ppm(lyrata,halleri)"
   ]
  },
  {
   "cell_type": "markdown",
   "metadata": {},
   "source": [
    "## Brassica"
   ]
  },
  {
   "cell_type": "code",
   "execution_count": 11,
   "metadata": {},
   "outputs": [
    {
     "name": "stdout",
     "output_type": "stream",
     "text": [
      "Brassica: Salmon\n",
      "TP FP TOT: 888664 196843 1085507\n",
      "FN TN TOT: 111336 803157  914493\n",
      "Pos pref:    54.28%\n",
      "Accuracy:    84.59% F1-score:    85.22% MCC:   0.6944\n",
      "Precision:   81.87% Recall:      88.87% AUPRC: 0.00%\n",
      "Sensitivity: 88.87% Specificity: 80.32% AUROC: 0.00%\n"
     ]
    }
   ],
   "source": [
    "print('Brassica: Salmon')\n",
    "rapa = 1606314/2\n",
    "oleracea = 1777328/2\n",
    "show_ppm(rapa,oleracea)"
   ]
  },
  {
   "cell_type": "code",
   "execution_count": 12,
   "metadata": {},
   "outputs": [
    {
     "name": "stdout",
     "output_type": "stream",
     "text": [
      "Brassica: Bowtie\n",
      "TP FP TOT: 923435 148946 1072381\n",
      "FN TN TOT:  76565 851054  927619\n",
      "Pos pref:    53.62%\n",
      "Accuracy:    88.72% F1-score:    89.12% MCC:   0.7765\n",
      "Precision:   86.11% Recall:      92.34% AUPRC: 0.00%\n",
      "Sensitivity: 92.34% Specificity: 85.11% AUROC: 0.00%\n"
     ]
    }
   ],
   "source": [
    "print('Brassica: Bowtie')\n",
    "rapa = 1702108/2\n",
    "oleracea = 1846870/2\n",
    "show_ppm(rapa,oleracea)"
   ]
  },
  {
   "cell_type": "code",
   "execution_count": 13,
   "metadata": {},
   "outputs": [
    {
     "name": "stdout",
     "output_type": "stream",
     "text": [
      "Brassica: STAR RNA\n",
      "TP FP TOT: 933936 129302 1063238\n",
      "FN TN TOT:  66063 870698  936761\n",
      "Pos pref:    53.16%\n",
      "Accuracy:    90.23% F1-score:    90.53% MCC:   0.8062\n",
      "Precision:   87.84% Recall:      93.39% AUPRC: 0.00%\n",
      "Sensitivity: 93.39% Specificity: 87.07% AUROC: 0.00%\n"
     ]
    }
   ],
   "source": [
    "print('Brassica: STAR RNA')\n",
    "rapa = 1741396/2\n",
    "oleracea = 1867873/2\n",
    "show_ppm(rapa,oleracea)"
   ]
  },
  {
   "cell_type": "code",
   "execution_count": 14,
   "metadata": {},
   "outputs": [
    {
     "name": "stdout",
     "output_type": "stream",
     "text": [
      "Brassica: HiSat\n",
      "TP FP TOT: 950992 114137 1065129\n",
      "FN TN TOT:  49008 885863  934871\n",
      "Pos pref:    53.26%\n",
      "Accuracy:    91.84% F1-score:    92.10% MCC:   0.8386\n",
      "Precision:   89.28% Recall:      95.10% AUPRC: 0.00%\n",
      "Sensitivity: 95.10% Specificity: 88.59% AUROC: 0.00%\n"
     ]
    }
   ],
   "source": [
    "print('Brassica: HiSat')\n",
    "rapa = 1771726/2\n",
    "oleracea = 1901984/2\n",
    "show_ppm(rapa,oleracea)"
   ]
  },
  {
   "cell_type": "code",
   "execution_count": 15,
   "metadata": {},
   "outputs": [
    {
     "name": "stdout",
     "output_type": "stream",
     "text": [
      "Brassica: STAR DNA\n",
      "TP FP TOT: 960004  99427 1059431\n",
      "FN TN TOT:  39995 900573  940568\n",
      "Pos pref:    52.97%\n",
      "Accuracy:    93.03% F1-score:    93.23% MCC:   0.8621\n",
      "Precision:   90.62% Recall:      96.00% AUPRC: 0.00%\n",
      "Sensitivity: 96.00% Specificity: 90.06% AUROC: 0.00%\n"
     ]
    }
   ],
   "source": [
    "print('Brassica: STAR DNA')\n",
    "rapa = 1801146/2\n",
    "oleracea = 1920009/2\n",
    "show_ppm(rapa,oleracea)"
   ]
  },
  {
   "cell_type": "markdown",
   "metadata": {},
   "source": [
    "## Mouse"
   ]
  },
  {
   "cell_type": "code",
   "execution_count": 16,
   "metadata": {},
   "outputs": [
    {
     "name": "stdout",
     "output_type": "stream",
     "text": [
      "Mouse: Salmon\n",
      "TP FP TOT: 346167 319363  665530\n",
      "FN TN TOT: 653833 680637 1334470\n",
      "Pos pref:    33.28%\n",
      "Accuracy:    51.34% F1-score:    41.57% MCC:   0.0284\n",
      "Precision:   52.01% Recall:      34.62% AUPRC: 0.00%\n",
      "Sensitivity: 34.62% Specificity: 68.06% AUROC: 0.00%\n"
     ]
    }
   ],
   "source": [
    "print('Mouse: Salmon')\n",
    "B6 = 1361274/2\n",
    "D2 = 692334/2\n",
    "show_ppm(B6,D2)"
   ]
  },
  {
   "cell_type": "code",
   "execution_count": 17,
   "metadata": {},
   "outputs": [
    {
     "name": "stdout",
     "output_type": "stream",
     "text": [
      "Mouse: Bowtie\n",
      "TP FP TOT: 463479 354111  817590\n",
      "FN TN TOT: 536521 645889 1182410\n",
      "Pos pref:    40.88%\n",
      "Accuracy:    55.47% F1-score:    51.00% MCC:   0.1112\n",
      "Precision:   56.69% Recall:      46.35% AUPRC: 0.00%\n",
      "Sensitivity: 46.35% Specificity: 64.59% AUROC: 0.00%\n"
     ]
    }
   ],
   "source": [
    "print('Mouse: Bowtie')\n",
    "B6 = 1291778/2\n",
    "D2 = 926958/2\n",
    "show_ppm(B6,D2)"
   ]
  },
  {
   "cell_type": "code",
   "execution_count": 18,
   "metadata": {},
   "outputs": [
    {
     "name": "stdout",
     "output_type": "stream",
     "text": [
      "Mouse: STAR RNA\n",
      "TP FP TOT: 464642 393175  857817\n",
      "FN TN TOT: 535357 606825 1142182\n",
      "Pos pref:    42.89%\n",
      "Accuracy:    53.57% F1-score:    50.02% MCC:   0.0722\n",
      "Precision:   54.17% Recall:      46.46% AUPRC: 0.00%\n",
      "Sensitivity: 46.46% Specificity: 60.68% AUROC: 0.00%\n"
     ]
    }
   ],
   "source": [
    "print('Mouse: STAR RNA')\n",
    "B6 = 1213650/2\n",
    "D2 = 929285/2\n",
    "show_ppm(B6,D2)"
   ]
  },
  {
   "cell_type": "code",
   "execution_count": 19,
   "metadata": {},
   "outputs": [
    {
     "name": "stdout",
     "output_type": "stream",
     "text": [
      "Mouse: HiSat\n",
      "TP FP TOT: 456497 404065  860562\n",
      "FN TN TOT: 543503 595935 1139438\n",
      "Pos pref:    43.03%\n",
      "Accuracy:    52.62% F1-score:    49.07% MCC:   0.0529\n",
      "Precision:   53.05% Recall:      45.65% AUPRC: 0.00%\n",
      "Sensitivity: 45.65% Specificity: 59.59% AUROC: 0.00%\n"
     ]
    }
   ],
   "source": [
    "print('Mouse: HiSat')\n",
    "B6 = 1191870/2\n",
    "D2 = 912994/2\n",
    "show_ppm(B6,D2)"
   ]
  },
  {
   "cell_type": "code",
   "execution_count": 20,
   "metadata": {},
   "outputs": [
    {
     "name": "stdout",
     "output_type": "stream",
     "text": [
      "Mouse: STAR DNA\n",
      "TP FP TOT: 446701 396191  842892\n",
      "FN TN TOT: 553298 603809 1157107\n",
      "Pos pref:    42.14%\n",
      "Accuracy:    52.53% F1-score:    48.48% MCC:   0.0511\n",
      "Precision:   53.00% Recall:      44.67% AUPRC: 0.00%\n",
      "Sensitivity: 44.67% Specificity: 60.38% AUROC: 0.00%\n"
     ]
    }
   ],
   "source": [
    "print('Mouse: STAR DNA')\n",
    "B6 = 1207618/2\n",
    "D2 = 893403/2\n",
    "show_ppm(B6,D2)"
   ]
  },
  {
   "cell_type": "markdown",
   "metadata": {},
   "source": [
    "## Equus"
   ]
  },
  {
   "cell_type": "code",
   "execution_count": 21,
   "metadata": {},
   "outputs": [
    {
     "name": "stdout",
     "output_type": "stream",
     "text": [
      "Equus: Salmon\n",
      "TP FP TOT: 748200 474789 1222989\n",
      "FN TN TOT: 251800 525211  777011\n",
      "Pos pref:    61.15%\n",
      "Accuracy:    63.67% F1-score:    67.31% MCC:   0.2805\n",
      "Precision:   61.18% Recall:      74.82% AUPRC: 0.00%\n",
      "Sensitivity: 74.82% Specificity: 52.52% AUROC: 0.00%\n"
     ]
    }
   ],
   "source": [
    "print('Equus: Salmon')\n",
    "asinus = 1050422/2\n",
    "caballus = 1496400/2\n",
    "show_ppm(asinus,caballus)"
   ]
  },
  {
   "cell_type": "code",
   "execution_count": 22,
   "metadata": {},
   "outputs": [
    {
     "name": "stdout",
     "output_type": "stream",
     "text": [
      "Equus: Bowtie\n",
      "TP FP TOT: 781578 343828 1125406\n",
      "FN TN TOT: 218422 656172  874594\n",
      "Pos pref:    56.27%\n",
      "Accuracy:    71.89% F1-score:    73.55% MCC:   0.4412\n",
      "Precision:   69.45% Recall:      78.16% AUPRC: 0.00%\n",
      "Sensitivity: 78.16% Specificity: 65.62% AUROC: 0.00%\n"
     ]
    }
   ],
   "source": [
    "print('Equus: Bowtie')\n",
    "asinus = 1312344/2\n",
    "caballus = 1563156/2\n",
    "show_ppm(asinus,caballus)"
   ]
  },
  {
   "cell_type": "code",
   "execution_count": 23,
   "metadata": {},
   "outputs": [
    {
     "name": "stdout",
     "output_type": "stream",
     "text": [
      "Equus: STAR RNA\n",
      "TP FP TOT: 789993 366869 1156862\n",
      "FN TN TOT: 210006 633131  843137\n",
      "Pos pref:    57.84%\n",
      "Accuracy:    71.16% F1-score:    73.25% MCC:   0.4284\n",
      "Precision:   68.29% Recall:      79.00% AUPRC: 0.00%\n",
      "Sensitivity: 79.00% Specificity: 63.31% AUROC: 0.00%\n"
     ]
    }
   ],
   "source": [
    "print('Equus: STAR RNA')\n",
    "asinus = 1266262/2\n",
    "caballus = 1579987/2\n",
    "show_ppm(asinus,caballus)"
   ]
  },
  {
   "cell_type": "code",
   "execution_count": 24,
   "metadata": {},
   "outputs": [
    {
     "name": "stdout",
     "output_type": "stream",
     "text": [
      "Equus: Hisat\n",
      "TP FP TOT: 724199 263206  987405\n",
      "FN TN TOT: 275801 736794 1012595\n",
      "Pos pref:    49.37%\n",
      "Accuracy:    73.05% F1-score:    72.88% MCC:   0.4610\n",
      "Precision:   73.34% Recall:      72.42% AUPRC: 0.00%\n",
      "Sensitivity: 72.42% Specificity: 73.68% AUROC: 0.00%\n"
     ]
    }
   ],
   "source": [
    "print('Equus: Hisat')\n",
    "asinus = 1473588/2\n",
    "caballus = 1448398/2\n",
    "show_ppm(asinus,caballus)"
   ]
  },
  {
   "cell_type": "code",
   "execution_count": 25,
   "metadata": {},
   "outputs": [
    {
     "name": "stdout",
     "output_type": "stream",
     "text": [
      "Equus: STAR DNA\n",
      "TP FP TOT: 710451 278269  988720\n",
      "FN TN TOT: 289549 721731 1011280\n",
      "Pos pref:    49.44%\n",
      "Accuracy:    71.61% F1-score:    71.45% MCC:   0.4322\n",
      "Precision:   71.86% Recall:      71.05% AUPRC: 0.00%\n",
      "Sensitivity: 71.05% Specificity: 72.17% AUROC: 0.00%\n"
     ]
    }
   ],
   "source": [
    "print('Equus: STAR DNA')\n",
    "asinus = 1443462/2\n",
    "caballus = 1420902/2\n",
    "show_ppm(asinus,caballus)"
   ]
  }
 ],
 "metadata": {
  "colab": {
   "provenance": []
  },
  "gpuClass": "standard",
  "kernelspec": {
   "display_name": "Python 3 (ipykernel)",
   "language": "python",
   "name": "python3"
  },
  "language_info": {
   "codemirror_mode": {
    "name": "ipython",
    "version": 3
   },
   "file_extension": ".py",
   "mimetype": "text/x-python",
   "name": "python",
   "nbconvert_exporter": "python",
   "pygments_lexer": "ipython3",
   "version": "3.10.0"
  }
 },
 "nbformat": 4,
 "nbformat_minor": 1
}
