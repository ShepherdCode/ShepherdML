{
  "cells": [
    {
      "cell_type": "markdown",
      "metadata": {
        "id": "PG-tGRnlFLA3"
      },
      "source": [
        "# Random Forest\n",
        "Arabidopsis, star, transcripts.\n",
        "\n",
        "This is the first run after adding counts for matches and insertions and deletions (and not just the hqins and hqdel like before)."
      ]
    },
    {
      "cell_type": "code",
      "execution_count": 1,
      "metadata": {
        "colab": {
          "base_uri": "https://localhost:8080/"
        },
        "id": "0RmwUsVLFLA6",
        "outputId": "36a55933-da20-4b31-c254-955c18b7f89d"
      },
      "outputs": [
        {
          "output_type": "stream",
          "name": "stdout",
          "text": [
            "2023-07-06 23:26:36.911932\n"
          ]
        }
      ],
      "source": [
        "from datetime import datetime\n",
        "print(datetime.now())"
      ]
    },
    {
      "cell_type": "code",
      "execution_count": 2,
      "metadata": {
        "colab": {
          "base_uri": "https://localhost:8080/"
        },
        "id": "OlzN9OdsFWEU",
        "outputId": "528a8bcc-c715-471f-b1b5-4880442b4ed1"
      },
      "outputs": [
        {
          "output_type": "stream",
          "name": "stdout",
          "text": [
            "GPU device not found\n",
            "Running on CoLab\n",
            "Drive already mounted at /content/drive/; to attempt to forcibly remount, call drive.mount(\"/content/drive/\", force_remount=True).\n"
          ]
        }
      ],
      "source": [
        "import tensorflow as tf\n",
        "dt='float32'\n",
        "tf.keras.backend.set_floatx('float32')\n",
        "tf.random.set_seed(42) # supposedly leads to reproducible results\n",
        "\n",
        "device_name = tf.test.gpu_device_name()\n",
        "if device_name != '/device:GPU:0':\n",
        "    print('GPU device not found')\n",
        "else:\n",
        "    print('Found GPU at: {}'.format(device_name))\n",
        "\n",
        "try:\n",
        "    from google.colab import drive\n",
        "    IN_COLAB = True\n",
        "    print('Running on CoLab')\n",
        "    PATH='/content/drive/'\n",
        "    drive.mount(PATH)\n",
        "    DATA_DIR=PATH+'My Drive/data/IRP2/'  # must end in \"/\"\n",
        "    MODEL_DIR=PATH+'My Drive/data/IRP2/Models/'  # must end in \"/\"\n",
        "except:\n",
        "    IN_COLAB = False\n",
        "    print('Running on Mac')\n",
        "    DATA_DIR=\"/Users/jasonmiller/WVU/BAM_ML/\"\n",
        "    MODEL_DIR=\"/Users/jasonmiller/WVU/BAM_ML/Models/\"\n",
        "SAVE_MODEL_FILENAME = None"
      ]
    },
    {
      "cell_type": "code",
      "execution_count": 3,
      "metadata": {
        "colab": {
          "base_uri": "https://localhost:8080/"
        },
        "id": "CIAT2G5DYwvS",
        "outputId": "e61d9141-a139-43ef-caec-1e02a95fcf8c"
      },
      "outputs": [
        {
          "output_type": "stream",
          "name": "stdout",
          "text": [
            "Python 3.10.12\n",
            "sklearn 1.2.2\n"
          ]
        }
      ],
      "source": [
        "from platform import python_version\n",
        "print('Python',python_version())\n",
        "import random\n",
        "import numpy as np\n",
        "np.random.seed(42) # supposedly sets scikit-learn\n",
        "import pandas as pd  # for plotting\n",
        "import time # sleep function\n",
        "from os.path import isfile\n",
        "import gzip\n",
        "from matplotlib import pyplot as plt\n",
        "import sklearn   # pip install --upgrade scikit-learn\n",
        "print('sklearn',sklearn.__version__)\n",
        "\n",
        "from tensorflow import keras\n",
        "# consider sklearn.metrics.classification_report\n",
        "from sklearn.metrics import recall_score\n",
        "from sklearn.metrics import accuracy_score\n",
        "from sklearn.metrics import precision_score\n",
        "from sklearn.metrics import f1_score\n",
        "from sklearn.metrics import precision_recall_curve\n",
        "from sklearn.metrics import roc_curve\n",
        "from sklearn.metrics import roc_auc_score\n",
        "from sklearn.metrics import auc\n",
        "from sklearn.metrics import matthews_corrcoef\n",
        "from sklearn.utils import class_weight\n",
        "from sklearn.metrics import confusion_matrix\n",
        "from sklearn.ensemble import RandomForestClassifier as RFC\n",
        "\n",
        "EPOCHS=150"
      ]
    },
    {
      "cell_type": "markdown",
      "metadata": {
        "id": "UtqdpJOxFLBA"
      },
      "source": [
        "## Data Load"
      ]
    },
    {
      "cell_type": "code",
      "execution_count": 4,
      "metadata": {
        "colab": {
          "base_uri": "https://localhost:8080/"
        },
        "id": "LnkpVKdMFLA-",
        "outputId": "ed4dcf21-0103-428a-ce84-9cf044246269"
      },
      "outputs": [
        {
          "output_type": "stream",
          "name": "stdout",
          "text": [
            "Data directory: /content/drive/My Drive/data/IRP2/\n",
            "Data file 0 Arabidopsis/STAR/lyrata/read_stats.csv.gz\n",
            "Data file 1 Arabidopsis/STAR/halleri/read_stats.csv.gz\n",
            "Input lines for training: 1000000\n"
          ]
        }
      ],
      "source": [
        "MAX_LINES_TO_LOAD =    1000000 # training - 1M lines requires 2GB RAM\n",
        "#MAX_LINES_TO_LOAD =    10000 # use this for debugging\n",
        "\n",
        "VALID_PORTION = 0.20\n",
        "\n",
        "DATA_FILE_0 = 'Arabidopsis/STAR/lyrata/read_stats.csv.gz'\n",
        "DATA_FILE_1 = 'Arabidopsis/STAR/halleri/read_stats.csv.gz'\n",
        "\n",
        "print('Data directory: %s'%DATA_DIR)\n",
        "print('Data file 0 %s'%DATA_FILE_0)\n",
        "print('Data file 1 %s'%DATA_FILE_1)\n",
        "print('Input lines for training: %d'%MAX_LINES_TO_LOAD)"
      ]
    },
    {
      "cell_type": "code",
      "execution_count": 5,
      "metadata": {
        "colab": {
          "base_uri": "https://localhost:8080/"
        },
        "id": "uUBLdpVEVQ3I",
        "outputId": "379d612b-86c6-428c-dbd3-ed33d71a73b8"
      },
      "outputs": [
        {
          "output_type": "stream",
          "name": "stdout",
          "text": [
            "Total feature names:  61\n",
            "0 P1 R1 AS\n",
            "1 P1 R1 ED\n",
            "2 P1 R1 MAT\n",
            "3 P1 R1 MM\n",
            "4 P1 R1 HQMM\n",
            "5 P1 R1 GO\n",
            "6 P1 R1 GE\n",
            "7 P1 R1 INS\n",
            "8 P1 R1 DELS\n",
            "9 P1 R1 HQINS\n",
            "10 P1 R1 HQDEL\n",
            "11 P1 R2 AS\n",
            "12 P1 R2 ED\n",
            "13 P1 R2 MAT\n",
            "14 P1 R2 MM\n",
            "15 P1 R2 HQMM\n",
            "16 P1 R2 GO\n",
            "17 P1 R2 GE\n",
            "18 P1 R2 INS\n",
            "19 P1 R2 DELS\n",
            "20 P1 R2 HQINS\n",
            "21 P1 R2 HQDEL\n",
            "22 P2 R1 AS\n",
            "23 P2 R1 ED\n",
            "24 P2 R1 MAT\n",
            "25 P2 R1 MM\n",
            "26 P2 R1 HQMM\n",
            "27 P2 R1 GO\n",
            "28 P2 R1 GE\n",
            "29 P2 R1 INS\n",
            "30 P2 R1 DELS\n",
            "31 P2 R1 HQINS\n",
            "32 P2 R1 HQDEL\n",
            "33 P2 R2 AS\n",
            "34 P2 R2 ED\n",
            "35 P2 R2 MAT\n",
            "36 P2 R2 MM\n",
            "37 P2 R2 HQMM\n",
            "38 P2 R2 GO\n",
            "39 P2 R2 GE\n",
            "40 P2 R2 INS\n",
            "41 P2 R2 DELS\n",
            "42 P2 R2 HQINS\n",
            "43 P2 R2 HQDEL\n",
            "44 R1 length\n",
            "45 R2 length\n",
            "46 P1 span\n",
            "47 P2 span\n",
            "48 Span diff\n",
            "49 AS diff\n",
            "50 ED diff\n",
            "51 MAT diff\n",
            "52 MM diff\n",
            "53 HQMM diff\n",
            "54 GO diff\n",
            "55 GE diff\n",
            "56 INS diff\n",
            "57 DELS diff\n",
            "58 HQINS diff\n",
            "59 HQDEL diff\n",
            "60 PARENT\n"
          ]
        }
      ],
      "source": [
        "# P1 parent 1\n",
        "# R1 read 1\n",
        "# PS primary or secondary\n",
        "# AS bowtie alignment score (0 is best)\n",
        "# ED edit distance\n",
        "# MM mismatch count\n",
        "# GO gap open count\n",
        "# GE gap extend count\n",
        "feature_names = [\n",
        "    'P1 R1 AS',\n",
        "    'P1 R1 ED',\n",
        "    'P1 R1 MAT',\n",
        "    'P1 R1 MM',\n",
        "    'P1 R1 HQMM',\n",
        "    'P1 R1 GO',\n",
        "    'P1 R1 GE',\n",
        "    'P1 R1 INS',\n",
        "    'P1 R1 DELS',\n",
        "    'P1 R1 HQINS',\n",
        "    'P1 R1 HQDEL',\n",
        "    'P1 R2 AS',\n",
        "    'P1 R2 ED',\n",
        "    'P1 R2 MAT',\n",
        "    'P1 R2 MM',\n",
        "    'P1 R2 HQMM',\n",
        "    'P1 R2 GO',\n",
        "    'P1 R2 GE',\n",
        "    'P1 R2 INS',\n",
        "    'P1 R2 DELS',\n",
        "    'P1 R2 HQINS',\n",
        "    'P1 R2 HQDEL',\n",
        "    'P2 R1 AS',\n",
        "    'P2 R1 ED',\n",
        "    'P2 R1 MAT',\n",
        "    'P2 R1 MM',\n",
        "    'P2 R1 HQMM',\n",
        "    'P2 R1 GO',\n",
        "    'P2 R1 GE',\n",
        "    'P2 R1 INS',\n",
        "    'P2 R1 DELS',\n",
        "    'P2 R1 HQINS',\n",
        "    'P2 R1 HQDEL',\n",
        "    'P2 R2 AS',\n",
        "    'P2 R2 ED',\n",
        "    'P2 R2 MAT',\n",
        "    'P2 R2 MM',\n",
        "    'P2 R2 HQMM',\n",
        "    'P2 R2 GO',\n",
        "    'P2 R2 GE',\n",
        "    'P2 R2 INS',\n",
        "    'P2 R2 DELS',\n",
        "    'P2 R2 HQINS',\n",
        "    'P2 R2 HQDEL',\n",
        "    'R1 length',\n",
        "    'R2 length',\n",
        "    'P1 span',\n",
        "    'P2 span',\n",
        "    'Span diff',\n",
        "    'AS diff',\n",
        "    'ED diff',\n",
        "    'MAT diff',\n",
        "    'MM diff',\n",
        "    'HQMM diff',\n",
        "    'GO diff',\n",
        "    'GE diff',\n",
        "    'INS diff',\n",
        "    'DELS diff',\n",
        "    'HQINS diff',\n",
        "    'HQDEL diff',\n",
        "    'PARENT']\n",
        "print('Total feature names: ',len(feature_names))\n",
        "for i in range(len(feature_names)):\n",
        "    print(i,feature_names[i])"
      ]
    },
    {
      "cell_type": "code",
      "execution_count": 6,
      "metadata": {
        "id": "p35ehKV3Kq0z"
      },
      "outputs": [],
      "source": [
        "class DataLoader():\n",
        "    def __init__(self,filepath1,filepath2,verbose=True):\n",
        "        self.files = [filepath1,filepath2]\n",
        "        self.alignments=[]\n",
        "        self.labels=[]\n",
        "        self.verbose = verbose\n",
        "        self.max_lines = None\n",
        "        self.ties = 0\n",
        "        self.predictions = []\n",
        "\n",
        "    def set_max_lines(self,lines):\n",
        "        '''Limit the dataset size to fit in RAM.'''\n",
        "        self.max_lines = lines\n",
        "        if self.verbose:\n",
        "            print('Maximum lines to load per file: %d'%lines)\n",
        "\n",
        "    def _count_lines_(self):\n",
        "        '''Show number of lines per input file.'''\n",
        "        count0 = 0\n",
        "        with gzip.open (self.files[0],'rt') as handle0:\n",
        "            for row in handle0:\n",
        "                count0 += 1\n",
        "        count1 = 0\n",
        "        with gzip.open(self.files[1],'rt') as handle1:\n",
        "            for row in handle1:\n",
        "                count1 += 1\n",
        "        minimum = min(count0,count1)\n",
        "        if self.verbose:\n",
        "            print('File0 size: %d %s'%(count0,self.files[0]))\n",
        "            print('File1 size: %d %s'%(count1,self.files[1]))\n",
        "        return minimum\n",
        "\n",
        "    def _load_line_(self,row):\n",
        "        '''Load data structure from one line of CSV file.'''\n",
        "        line = row.strip()\n",
        "        fields = line.split(',')\n",
        "        ints = [0] * 61\n",
        "        # These fields come straight from the input file.\n",
        "        # These fields are grouped by which read they describe.\n",
        "        # P1 R1 = Parent 1, Read 1\n",
        "        ints[0] = int(fields[0]) # P1 R1 AS\n",
        "        ints[1] = int(fields[1]) # P1 R1 ED\n",
        "        ints[2] = int(fields[2]) # P1 R1 MAT\n",
        "        ints[3] = int(fields[3]) # P1 R1 MM\n",
        "        ints[4] = int(fields[4]) # P1 R1 HQMM\n",
        "        ints[5] = int(fields[5]) # P1 R1 GO\n",
        "        ints[6] = int(fields[6]) # P1 R1 GE\n",
        "        ints[7] = int(fields[7]) # P1 R1 INS\n",
        "        ints[8] = int(fields[8]) # P1 R1 DELS\n",
        "        ints[9] = int(fields[9]) # P1 R1 HQINS\n",
        "        ints[10] = int(fields[10]) # P1 R1 HQDEL\n",
        "        # P1 R2 = Parent 1, Read 2\n",
        "        ints[11] = int(fields[11]) # P1 R2 AS\n",
        "        ints[12] = int(fields[12]) # P1 R2 ED\n",
        "        ints[13] = int(fields[13]) # P1 R2 MAT\n",
        "        ints[14] = int(fields[14]) # P1 R2 MM\n",
        "        ints[15] = int(fields[15]) # P1 R2 HQMM\n",
        "        ints[16] = int(fields[16]) # P1 R2 GO\n",
        "        ints[17] = int(fields[17]) # P1 R2 GE\n",
        "        ints[18] = int(fields[18]) # P1 R2 INS\n",
        "        ints[19] = int(fields[19]) # P1 R2 DELS\n",
        "        ints[20] = int(fields[20]) # P1 R2 HQINS\n",
        "        ints[21] = int(fields[21]) # P1 R2 HQDEL\n",
        "        # P2 R1 = Parent 2, Read 1\n",
        "        ints[22] = int(fields[22]) # P2 R1 AS\n",
        "        ints[23] = int(fields[23]) # P2 R1 ED\n",
        "        ints[24] = int(fields[24]) # P2 R1 MAT\n",
        "        ints[25] = int(fields[25]) # P2 R1 MM\n",
        "        ints[26] = int(fields[26]) # P2 R1 HQMM\n",
        "        ints[27] = int(fields[27]) # P2 R1 GO\n",
        "        ints[28] = int(fields[28]) # P2 R1 GE\n",
        "        ints[29] = int(fields[29]) # P2 R1 INS\n",
        "        ints[30] = int(fields[30]) # P2 R1 DELS\n",
        "        ints[31] = int(fields[31]) # P2 R1 HQINS\n",
        "        ints[32] = int(fields[32]) # P2 R1 HQDEL\n",
        "        # P2 R2 = Parent 2, Read 2\n",
        "        ints[33] = int(fields[33]) # P2 R2 AS\n",
        "        ints[34] = int(fields[34]) # P2 R2 ED\n",
        "        ints[35] = int(fields[35]) # P2 R2 MAT\n",
        "        ints[36] = int(fields[36]) # P2 R2 MM\n",
        "        ints[37] = int(fields[37]) # P2 R2 HQMM\n",
        "        ints[38] = int(fields[38]) # P2 R2 GO\n",
        "        ints[39] = int(fields[39]) # P2 R2 GE\n",
        "        ints[40] = int(fields[40]) # P2 R2 INS\n",
        "        ints[41] = int(fields[41]) # P2 R2 DELS\n",
        "        ints[42] = int(fields[42]) # P2 R2 HQINS\n",
        "        ints[43] = int(fields[43]) # P2 R2 HQDEL\n",
        "        # Fields that come in twos\n",
        "        ints[44] = int(fields[44]) # R1 length (of read)\n",
        "        ints[45] = int(fields[45]) # R2 length (of read)\n",
        "        ints[46] = int(fields[46]) # P1 span (of mapped read pair)\n",
        "        ints[47] = int(fields[47]) # P2 span (of mapped read pair)\n",
        "        # Read-wise differences\n",
        "        ints[48] = ints[47]-ints[46] # P2-P1 span diff\n",
        "        ints[49] = (ints[33]+ints[22])-(ints[11]+ints[0]) # AS diff\n",
        "        ints[50] = (ints[34]+ints[23])-(ints[12]+ints[1]) # ED diff\n",
        "        ints[51] = (ints[35]+ints[24])-(ints[13]+ints[2]) # MAT diff\n",
        "        ints[52] = (ints[36]+ints[25])-(ints[14]+ints[3]) # MM diff\n",
        "        ints[53] = (ints[37]+ints[26])-(ints[15]+ints[4]) # HQMM diff\n",
        "        ints[54] = (ints[38]+ints[27])-(ints[16]+ints[5]) # GO diff\n",
        "        ints[55] = (ints[39]+ints[28])-(ints[17]+ints[6]) # GE diff\n",
        "        ints[56] = (ints[40]+ints[29])-(ints[18]+ints[7]) # INS diff\n",
        "        ints[57] = (ints[41]+ints[30])-(ints[19]+ints[8]) # DELS diff\n",
        "        ints[58] = (ints[42]+ints[31])-(ints[20]+ints[9]) # HQINS diff\n",
        "        ints[59] = (ints[43]+ints[32])-(ints[21]+ints[10]) # HQDEL diff\n",
        "        # The feature-extraction program populated fields[36]\n",
        "        # to indicate which parent had higher alignment score.\n",
        "        # Values were 0=same, 1=parent1, 2=parent2.\n",
        "        # We change the values to -1=parent1, 0=unknown, +1=parent2\n",
        "        parent_choice = int(fields[48])\n",
        "        if parent_choice == 1:\n",
        "            ints[60] = -1  # not parent 2\n",
        "        elif parent_choice == 2:\n",
        "            ints[60] = 1  # is parent 2\n",
        "        elif parent_choice == 0:\n",
        "            ints[60] = 0\n",
        "        else:\n",
        "            raise Exception('Unrecognized parent choice:'+str(parent_choice))\n",
        "        # For fair comparison, force aligner to choose.\n",
        "        # We change 1 to 0, 2 to 1, and 0 to 1 or 2 randomly.\n",
        "        # TO DO: faster alternative to list.append() ???\n",
        "        parent_choice = int(fields[48])\n",
        "        if parent_choice == 1:\n",
        "            self.predictions.append(0)  # not parent 2\n",
        "        elif parent_choice == 2:\n",
        "            self.predictions.append(1)  # is parent 2\n",
        "        else: # parent_choice == 0:\n",
        "            self.ties += 1\n",
        "            guess = random.randint(0,1)\n",
        "            self.predictions.append(guess)\n",
        "        # The transcript that this read pair aligned to.\n",
        "        # This is for pipelines that only process reads that map\n",
        "        # to same transcript in both parents and (filter the others).\n",
        "        # Pipelines that assign reads to parent, regardless of which gene,\n",
        "        # should ignore this value. (It only reflects first parent map anyway.)\n",
        "        transcript_id = fields[49] # TO DO: where to put this?\n",
        "        self.alignments.append(ints)\n",
        "\n",
        "    def count_ties(self):\n",
        "        return self.ties\n",
        "\n",
        "    def load_full_train_set(self):\n",
        "        '''Load full train set (to be used for train and valiation).\n",
        "           Use set_max_lines() to leave some data for the test set.'''\n",
        "        minimum = 0\n",
        "        train_size = self.max_lines\n",
        "        if self.verbose:\n",
        "            print('Trying to load %d lines per file...'%train_size)\n",
        "        try:\n",
        "            handle0 = gzip.open(self.files[0],'rt')\n",
        "            handle1 = gzip.open(self.files[1],'rt')\n",
        "            # Associate label 0 with data from file 0. Same for 1.\n",
        "            for i in range(train_size):\n",
        "                row = next(handle0)\n",
        "                self._load_line_(row)\n",
        "                self.labels.append(0)\n",
        "                row = next(handle1)\n",
        "                self._load_line_(row)\n",
        "                self.labels.append(1)\n",
        "            handle0.close()\n",
        "            handle1.close()\n",
        "        except Exception as e:\n",
        "            print(e)\n",
        "            print('Most likely, one file has too few reads.')\n",
        "            raise Exception('CANNOT LOAD DATA FROM FILE!')\n",
        "\n",
        "    def show_examples(self,head=6):\n",
        "        head = min(head,len(self.alignments))\n",
        "        for i in range(head):\n",
        "            print('From '+self.files[self.labels[i]])\n",
        "            print('Score,Edit,MM,HQMM,GapOpen,GapExtend,HQINS,HQDEL')\n",
        "            print(self.alignments[i][0:8])\n",
        "            print(self.alignments[i][8:16])\n",
        "            print(self.alignments[i][16:24])\n",
        "            print(self.alignments[i][24:32])\n",
        "\n",
        "    def get_X_y(self):\n",
        "        loaded = len(self.alignments)\n",
        "        divider = int(loaded - loaded * VALID_PORTION)\n",
        "        X_train = np.array(self.alignments[:divider])\n",
        "        y_train = np.array(self.labels[:divider])\n",
        "        X_valid = np.array(self.alignments[divider:])\n",
        "        y_valid = np.array(self.labels[divider:])\n",
        "        if self.verbose:\n",
        "            print('Full train set size = '+str(len(self.alignments)))\n",
        "            print('Training/Validation partition: %d/%d'%(len(y_train),len(y_valid)))\n",
        "        return X_train,y_train, X_valid,y_valid\n",
        "\n",
        "    def get_predictions(self):\n",
        "        loaded = len(self.predictions)\n",
        "        divider = int(loaded - loaded * VALID_PORTION)\n",
        "        y_train = self.predictions[:divider]\n",
        "        y_valid = self.predictions[divider:]\n",
        "        return y_train, y_valid"
      ]
    },
    {
      "cell_type": "code",
      "execution_count": 7,
      "metadata": {
        "colab": {
          "base_uri": "https://localhost:8080/"
        },
        "id": "7pcZVyvS_126",
        "outputId": "84dfe9b5-e9fe-4aa2-bb6f-3ac56514e158"
      },
      "outputs": [
        {
          "output_type": "stream",
          "name": "stdout",
          "text": [
            "2023-07-06 23:26:45.673688\n",
            "Maximum lines to load per file: 1000000\n",
            "LOADING\n",
            "Trying to load 1000000 lines per file...\n",
            "Number of ties: 294546\n",
            "2023-07-06 23:27:32.854947\n",
            "From /content/drive/My Drive/data/IRP2/Arabidopsis/STAR/lyrata/read_stats.csv.gz\n",
            "Score,Edit,MM,HQMM,GapOpen,GapExtend,HQINS,HQDEL\n",
            "[189, 2, 97, 3, 0, 0, 0, 0]\n",
            "[0, 0, 0, 189, 1, 97, 3, 0]\n",
            "[0, 0, 0, 0, 0, 0, 185, 3]\n",
            "[96, 5, 1, 0, 0, 0, 0, 0]\n",
            "From /content/drive/My Drive/data/IRP2/Arabidopsis/STAR/halleri/read_stats.csv.gz\n",
            "Score,Edit,MM,HQMM,GapOpen,GapExtend,HQINS,HQDEL\n",
            "[177, 6, 94, 10, 0, 0, 0, 0]\n",
            "[0, 0, 0, 177, 5, 95, 10, 0]\n",
            "[0, 0, 0, 0, 0, 0, 177, 5]\n",
            "[95, 10, 0, 0, 0, 0, 0, 0]\n",
            "From /content/drive/My Drive/data/IRP2/Arabidopsis/STAR/lyrata/read_stats.csv.gz\n",
            "Score,Edit,MM,HQMM,GapOpen,GapExtend,HQINS,HQDEL\n",
            "[196, 0, 100, 0, 0, 0, 0, 0]\n",
            "[0, 0, 0, 196, 1, 98, 0, 0]\n",
            "[0, 0, 0, 0, 0, 0, 186, 3]\n",
            "[97, 5, 2, 0, 0, 0, 0, 0]\n",
            "From /content/drive/My Drive/data/IRP2/Arabidopsis/STAR/halleri/read_stats.csv.gz\n",
            "Score,Edit,MM,HQMM,GapOpen,GapExtend,HQINS,HQDEL\n",
            "[197, 0, 99, 0, 0, 0, 0, 0]\n",
            "[0, 0, 0, 197, 0, 100, 0, 0]\n",
            "[0, 0, 0, 0, 0, 0, 193, 1]\n",
            "[98, 2, 0, 0, 0, 0, 0, 0]\n",
            "From /content/drive/My Drive/data/IRP2/Arabidopsis/STAR/lyrata/read_stats.csv.gz\n",
            "Score,Edit,MM,HQMM,GapOpen,GapExtend,HQINS,HQDEL\n",
            "[181, 0, 100, 8, 0, 0, 0, 0]\n",
            "[0, 0, 0, 181, 9, 91, 8, 5]\n",
            "[0, 0, 0, 0, 0, 0, 185, 3]\n",
            "[97, 6, 3, 0, 0, 0, 0, 0]\n",
            "From /content/drive/My Drive/data/IRP2/Arabidopsis/STAR/halleri/read_stats.csv.gz\n",
            "Score,Edit,MM,HQMM,GapOpen,GapExtend,HQINS,HQDEL\n",
            "[190, 1, 99, 4, 0, 0, 0, 0]\n",
            "[0, 0, 0, 190, 3, 97, 4, 0]\n",
            "[0, 0, 0, 0, 0, 0, 198, 0]\n",
            "[100, 0, 0, 0, 0, 0, 0, 0]\n"
          ]
        }
      ],
      "source": [
        "print(datetime.now())\n",
        "filepath0 = DATA_DIR+DATA_FILE_0\n",
        "filepath1 = DATA_DIR+DATA_FILE_1\n",
        "loader=DataLoader(filepath0,filepath1)\n",
        "loader.set_max_lines(MAX_LINES_TO_LOAD)\n",
        "print('LOADING')\n",
        "loader.load_full_train_set()\n",
        "print('Number of ties: %d' % loader.count_ties())\n",
        "aligner_predictions_train, aligner_predictions_valid = loader.get_predictions()\n",
        "print(datetime.now())\n",
        "loader.show_examples()"
      ]
    },
    {
      "cell_type": "code",
      "execution_count": 8,
      "metadata": {
        "colab": {
          "base_uri": "https://localhost:8080/"
        },
        "id": "P7uHn9Ib_129",
        "outputId": "bbec7500-b885-4005-f99f-a96495676823"
      },
      "outputs": [
        {
          "output_type": "stream",
          "name": "stdout",
          "text": [
            "Full train set size = 2000000\n",
            "Training/Validation partition: 1600000/400000\n",
            "X train shape: \n",
            "(1600000, 61)\n",
            "y train shape: \n",
            "(1600000,)\n",
            "X valid shape: \n",
            "(400000, 61)\n",
            "y valid shape: \n",
            "(400000,)\n",
            "X[5]=\n",
            "[190   1  99   4   0   0   0   0   0   0   0 190   3  97   4   0   0   0\n",
            "   0   0   0   0 198   0 100   0   0   0   0   0   0   0   0 198   0 100\n",
            "   0   0   0   0   0   0   0   0 100 100 176 176   0  16  -4   4  -8   0\n",
            "   0   0   0   0   0   0   1]\n",
            "y[5]=\n",
            "1\n"
          ]
        }
      ],
      "source": [
        "X_train,y_train, X_valid,y_valid = loader.get_X_y()\n",
        "print('X train shape: ')\n",
        "print(np.shape(X_train))\n",
        "print('y train shape: ')\n",
        "print(np.shape(y_train))\n",
        "print('X valid shape: ')\n",
        "print(np.shape(X_valid))\n",
        "print('y valid shape: ')\n",
        "print(np.shape(y_valid))\n",
        "print('X[5]=')\n",
        "print(X_train[5])\n",
        "print('y[5]=')\n",
        "print(y_train[5])\n",
        "#loader = None"
      ]
    },
    {
      "cell_type": "markdown",
      "metadata": {
        "id": "VDZ6siB_Kq04"
      },
      "source": [
        "## Model"
      ]
    },
    {
      "cell_type": "code",
      "execution_count": 9,
      "metadata": {
        "id": "AwMbRjm0FLBF"
      },
      "outputs": [],
      "source": [
        "def build_model():\n",
        "    rfc = RFC()\n",
        "    return rfc"
      ]
    },
    {
      "cell_type": "code",
      "execution_count": 10,
      "metadata": {
        "colab": {
          "base_uri": "https://localhost:8080/"
        },
        "id": "clj-wufgFLBF",
        "outputId": "f90e6259-6f81-4f5f-cb96-ec0270c130ad"
      },
      "outputs": [
        {
          "output_type": "stream",
          "name": "stdout",
          "text": [
            "2023-07-06 23:27:46.682710\n",
            "RandomForestClassifier()\n"
          ]
        }
      ],
      "source": [
        "print(datetime.now())\n",
        "rfc_model=build_model()\n",
        "print(rfc_model)"
      ]
    },
    {
      "cell_type": "markdown",
      "metadata": {
        "id": "MgrC1alOKq07"
      },
      "source": [
        "## Training"
      ]
    },
    {
      "cell_type": "code",
      "execution_count": 11,
      "metadata": {
        "colab": {
          "base_uri": "https://localhost:8080/"
        },
        "id": "TPC9vPhB_13E",
        "outputId": "eab0f47f-19dd-4c87-85b4-091caa1ae647"
      },
      "outputs": [
        {
          "output_type": "stream",
          "name": "stdout",
          "text": [
            "2023-07-06 23:27:46.699116\n",
            "FIT\n",
            "2023-07-06 23:34:17.463577\n"
          ]
        }
      ],
      "source": [
        "print(datetime.now())\n",
        "print(\"FIT\")\n",
        "rfc_model.fit(X_train, y_train) # sample weight\n",
        "print(datetime.now())"
      ]
    },
    {
      "cell_type": "markdown",
      "metadata": {
        "id": "bfgplJ3Ep8Vr"
      },
      "source": [
        "## Validation"
      ]
    },
    {
      "cell_type": "code",
      "execution_count": 12,
      "metadata": {
        "colab": {
          "base_uri": "https://localhost:8080/"
        },
        "id": "4HCWG_w9_13F",
        "outputId": "c126bf76-f1db-424e-e44c-f4d53eac58cc"
      },
      "outputs": [
        {
          "output_type": "stream",
          "name": "stdout",
          "text": [
            "2023-07-06 23:34:17.477652\n",
            "PREDICT\n",
            "debug pred [0.0, 1.0, 0.29831494542227427]\n",
            "debug class [0 1 0]\n",
            "2023-07-06 23:34:38.414247\n"
          ]
        }
      ],
      "source": [
        "print(datetime.now())\n",
        "print(\"PREDICT\")\n",
        "yhat_pairs=rfc_model.predict_proba(X_valid)  # [ prob of 0, prob of 1 ]\n",
        "yhat_pred=[pair[1] for pair in yhat_pairs]\n",
        "yhat_classes=rfc_model.predict(X_valid)  # 0 or 1\n",
        "\n",
        "print('debug pred',yhat_pred[:3])\n",
        "print('debug class',yhat_classes[:3])\n",
        "print(datetime.now())"
      ]
    },
    {
      "cell_type": "code",
      "execution_count": 13,
      "metadata": {
        "id": "VCzbj21FMpfU"
      },
      "outputs": [],
      "source": [
        "# docs: Note that in binary classification, recall of the positive class is also known as “sensitivity”; recall of the negative class is “specificity”.\n",
        "def show_performance(y_valid, yhat_classes, yhat_pred):\n",
        "    accuracy = accuracy_score(y_valid, yhat_classes)*100.\n",
        "    precision = precision_score(y_valid, yhat_classes)*100.\n",
        "    recall = recall_score(y_valid, yhat_classes)*100.\n",
        "    sensitivity = recall_score(y_valid, yhat_classes, pos_label=1)*100.\n",
        "    specificity = recall_score(y_valid, yhat_classes, pos_label=0)*100.\n",
        "    f1 = f1_score(y_valid, yhat_classes)*100.\n",
        "    mcc = matthews_corrcoef(y_valid, yhat_classes)\n",
        "    if yhat_pred is None:\n",
        "        # these stats are possible for probabilistic models only\n",
        "        auprc = 0.\n",
        "        auroc = 0.\n",
        "    else:\n",
        "        prc_Y, prc_X, prc_bins = precision_recall_curve(y_valid, yhat_pred)\n",
        "        auprc = auc(prc_X,prc_Y)*100.\n",
        "        auroc = roc_auc_score(y_valid, yhat_pred)*100.\n",
        "    values,counts=np.unique(yhat_classes, return_counts=True)\n",
        "    print('Predictions: ', dict(zip(values, counts)))\n",
        "    print('Accuracy: %.2f%% F1: %.2f%% MCC: %.4f' % (accuracy,f1,mcc))\n",
        "    print('Precision: %.2f%% Recall: %.2f%% AUPRC: %.2f%%' % (precision,recall,auprc))\n",
        "    print('Sensitivity: %.2f%% Specificity: %.2f%% AUROC: %.2f%%' % (sensitivity,specificity,auroc))\n"
      ]
    },
    {
      "cell_type": "code",
      "execution_count": 14,
      "metadata": {
        "colab": {
          "base_uri": "https://localhost:8080/"
        },
        "id": "Si8QbOpY_13G",
        "outputId": "aa415f69-c2b3-478b-9a42-df78141d8de7"
      },
      "outputs": [
        {
          "output_type": "stream",
          "name": "stdout",
          "text": [
            "Distrib of scores: 0.5001562284493553 mean 0.4593862823025048 std\n",
            "Range of scores: 0.0 to 1.0\n",
            "Confusion matrix\n",
            " [[185060  14940]\n",
            " [ 12228 187772]]\n",
            "Normalized matrix\n",
            " [[0.46265 0.03735]\n",
            " [0.03057 0.46943]]\n",
            "Predictions:  {0: 197288, 1: 202712}\n",
            "Accuracy: 93.21% F1: 93.25% MCC: 0.8642\n",
            "Precision: 92.63% Recall: 93.89% AUPRC: 98.47%\n",
            "Sensitivity: 93.89% Specificity: 92.53% AUROC: 98.48%\n"
          ]
        }
      ],
      "source": [
        "print('Distrib of scores:',np.mean(yhat_pred),'mean',np.std(yhat_pred),'std')\n",
        "print('Range of scores:',np.min(yhat_pred),'to',np.max(yhat_pred))\n",
        "cm1 = confusion_matrix(y_valid,yhat_classes)\n",
        "print('Confusion matrix\\n',cm1)\n",
        "cm2 = confusion_matrix(y_valid,yhat_classes,normalize='all')\n",
        "print('Normalized matrix\\n',cm2)\n",
        "\n",
        "show_performance(y_valid, yhat_classes, yhat_pred)"
      ]
    },
    {
      "cell_type": "markdown",
      "metadata": {
        "id": "LkR5p_t4b4Ex"
      },
      "source": [
        "## Comparison"
      ]
    },
    {
      "cell_type": "code",
      "execution_count": 15,
      "metadata": {
        "colab": {
          "base_uri": "https://localhost:8080/"
        },
        "id": "4S2yWyqUcHt9",
        "outputId": "c2a8d51b-e467-4773-c3a3-3395c06e2af9"
      },
      "outputs": [
        {
          "output_type": "stream",
          "name": "stdout",
          "text": [
            "Predictions:  {0: 244008, 1: 155992}\n",
            "Accuracy: 80.87% F1: 78.50% MCC: 0.6328\n",
            "Precision: 89.57% Recall: 69.86% AUPRC: 0.00%\n",
            "Sensitivity: 69.86% Specificity: 91.87% AUROC: 0.00%\n"
          ]
        }
      ],
      "source": [
        "show_performance(y_valid, aligner_predictions_valid, None)"
      ]
    },
    {
      "cell_type": "markdown",
      "metadata": {
        "id": "RVLyYceqMpfX"
      },
      "source": [
        "## Feature Importance"
      ]
    },
    {
      "cell_type": "code",
      "execution_count": 16,
      "metadata": {
        "colab": {
          "base_uri": "https://localhost:8080/",
          "height": 487
        },
        "id": "RjrrFkw9VQ3Z",
        "outputId": "a2c6a19d-f617-406e-d5d5-8b8bd8716e1c"
      },
      "outputs": [
        {
          "output_type": "display_data",
          "data": {
            "text/plain": [
              "<Figure size 640x480 with 1 Axes>"
            ],
            "image/png": "[encoded data removed]"
          },
          "metadata": {}
        }
      ],
      "source": [
        "importances = rfc_model.feature_importances_\n",
        "std = np.std([tree.feature_importances_ for tree in rfc_model.estimators_], axis=0)\n",
        "forest_importances = pd.Series(importances, index=feature_names)\n",
        "fig, ax = plt.subplots()\n",
        "forest_importances.plot.bar(yerr=std, ax=ax)\n",
        "ax.set_title(\"Approximate Feature Importance\")\n",
        "ax.set_ylabel(\"Mean decrease in impurity\")\n",
        "fig.tight_layout()"
      ]
    },
    {
      "cell_type": "code",
      "execution_count": 17,
      "metadata": {
        "colab": {
          "base_uri": "https://localhost:8080/"
        },
        "id": "tKMDL27oMpfZ",
        "outputId": "f4b4f068-dd08-4dd7-86d5-113f281b9c03"
      },
      "outputs": [
        {
          "output_type": "stream",
          "name": "stdout",
          "text": [
            "P1 R1 AS       0.014527\n",
            "P1 R1 ED       0.033472\n",
            "P1 R1 MAT      0.012154\n",
            "P1 R1 MM       0.020984\n",
            "P1 R1 HQMM     0.008361\n",
            "P1 R1 GO       0.000000\n",
            "P1 R1 GE       0.000000\n",
            "P1 R1 INS      0.000099\n",
            "P1 R1 DELS     0.000141\n",
            "P1 R1 HQINS    0.000590\n",
            "P1 R1 HQDEL    0.000393\n",
            "P1 R2 AS       0.010360\n",
            "P1 R2 ED       0.012563\n",
            "P1 R2 MAT      0.006567\n",
            "P1 R2 MM       0.011345\n",
            "P1 R2 HQMM     0.004308\n",
            "P1 R2 GO       0.000000\n",
            "P1 R2 GE       0.000000\n",
            "P1 R2 INS      0.000063\n",
            "P1 R2 DELS     0.000185\n",
            "P1 R2 HQINS    0.000284\n",
            "P1 R2 HQDEL    0.000177\n",
            "P2 R1 AS       0.005537\n",
            "P2 R1 ED       0.014654\n",
            "P2 R1 MAT      0.006956\n",
            "P2 R1 MM       0.014930\n",
            "P2 R1 HQMM     0.129295\n",
            "P2 R1 GO       0.000000\n",
            "P2 R1 GE       0.000000\n",
            "P2 R1 INS      0.000113\n",
            "P2 R1 DELS     0.000153\n",
            "P2 R1 HQINS    0.000245\n",
            "P2 R1 HQDEL    0.000393\n",
            "P2 R2 AS       0.009704\n",
            "P2 R2 ED       0.024905\n",
            "P2 R2 MAT      0.005888\n",
            "P2 R2 MM       0.016789\n",
            "P2 R2 HQMM     0.068826\n",
            "P2 R2 GO       0.000000\n",
            "P2 R2 GE       0.000000\n",
            "P2 R2 INS      0.000111\n",
            "P2 R2 DELS     0.000160\n",
            "P2 R2 HQINS    0.000145\n",
            "P2 R2 HQDEL    0.000119\n",
            "R1 length      0.002470\n",
            "R2 length      0.002285\n",
            "P1 span        0.031485\n",
            "P2 span        0.032406\n",
            "Span diff      0.000695\n",
            "AS diff        0.068150\n",
            "ED diff        0.069735\n",
            "MAT diff       0.053589\n",
            "MM diff        0.064890\n",
            "HQMM diff      0.174771\n",
            "GO diff        0.000000\n",
            "GE diff        0.000000\n",
            "INS diff       0.000374\n",
            "DELS diff      0.000264\n",
            "HQINS diff     0.001056\n",
            "HQDEL diff     0.000372\n",
            "PARENT         0.061966\n",
            "dtype: float64\n"
          ]
        }
      ],
      "source": [
        "with pd.option_context('display.max_rows', None, 'display.max_columns', None):\n",
        "    print(forest_importances)"
      ]
    },
    {
      "cell_type": "code",
      "execution_count": 18,
      "metadata": {
        "colab": {
          "base_uri": "https://localhost:8080/"
        },
        "id": "2_Ymi7EwYwvx",
        "outputId": "53ff24b7-ae9c-410c-9d3e-ae47a7055ca4"
      },
      "outputs": [
        {
          "output_type": "stream",
          "name": "stdout",
          "text": [
            "P1 R2 GO       0.000000\n",
            "P2 R2 GE       0.000000\n",
            "P2 R2 GO       0.000000\n",
            "P1 R1 GO       0.000000\n",
            "P1 R1 GE       0.000000\n",
            "P1 R2 GE       0.000000\n",
            "P2 R1 GE       0.000000\n",
            "P2 R1 GO       0.000000\n",
            "GO diff        0.000000\n",
            "GE diff        0.000000\n",
            "P1 R2 INS      0.000063\n",
            "P1 R1 INS      0.000099\n",
            "P2 R2 INS      0.000111\n",
            "P2 R1 INS      0.000113\n",
            "P2 R2 HQDEL    0.000119\n",
            "P1 R1 DELS     0.000141\n",
            "P2 R2 HQINS    0.000145\n",
            "P2 R1 DELS     0.000153\n",
            "P2 R2 DELS     0.000160\n",
            "P1 R2 HQDEL    0.000177\n",
            "P1 R2 DELS     0.000185\n",
            "P2 R1 HQINS    0.000245\n",
            "DELS diff      0.000264\n",
            "P1 R2 HQINS    0.000284\n",
            "HQDEL diff     0.000372\n",
            "INS diff       0.000374\n",
            "P1 R1 HQDEL    0.000393\n",
            "P2 R1 HQDEL    0.000393\n",
            "P1 R1 HQINS    0.000590\n",
            "Span diff      0.000695\n",
            "HQINS diff     0.001056\n",
            "R2 length      0.002285\n",
            "R1 length      0.002470\n",
            "P1 R2 HQMM     0.004308\n",
            "P2 R1 AS       0.005537\n",
            "P2 R2 MAT      0.005888\n",
            "P1 R2 MAT      0.006567\n",
            "P2 R1 MAT      0.006956\n",
            "P1 R1 HQMM     0.008361\n",
            "P2 R2 AS       0.009704\n",
            "P1 R2 AS       0.010360\n",
            "P1 R2 MM       0.011345\n",
            "P1 R1 MAT      0.012154\n",
            "P1 R2 ED       0.012563\n",
            "P1 R1 AS       0.014527\n",
            "P2 R1 ED       0.014654\n",
            "P2 R1 MM       0.014930\n",
            "P2 R2 MM       0.016789\n",
            "P1 R1 MM       0.020984\n",
            "P2 R2 ED       0.024905\n",
            "P1 span        0.031485\n",
            "P2 span        0.032406\n",
            "P1 R1 ED       0.033472\n",
            "MAT diff       0.053589\n",
            "PARENT         0.061966\n",
            "MM diff        0.064890\n",
            "AS diff        0.068150\n",
            "P2 R2 HQMM     0.068826\n",
            "ED diff        0.069735\n",
            "P2 R1 HQMM     0.129295\n",
            "HQMM diff      0.174771\n",
            "dtype: float64\n"
          ]
        }
      ],
      "source": [
        "with pd.option_context('display.max_rows', None, 'display.max_columns', None):\n",
        "    its = forest_importances.sort_values()\n",
        "    print(its)"
      ]
    },
    {
      "cell_type": "code",
      "execution_count": 18,
      "metadata": {
        "id": "a86dksKXYwvy"
      },
      "outputs": [],
      "source": []
    }
  ],
  "metadata": {
    "colab": {
      "provenance": []
    },
    "gpuClass": "standard",
    "kernelspec": {
      "display_name": "Python 3 (ipykernel)",
      "language": "python",
      "name": "python3"
    },
    "language_info": {
      "codemirror_mode": {
        "name": "ipython",
        "version": 3
      },
      "file_extension": ".py",
      "mimetype": "text/x-python",
      "name": "python",
      "nbconvert_exporter": "python",
      "pygments_lexer": "ipython3",
      "version": "3.10.0"
    }
  },
  "nbformat": 4,
  "nbformat_minor": 0
}