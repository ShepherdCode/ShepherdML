{
 "cells": [
  {
   "cell_type": "markdown",
   "metadata": {
    "id": "PG-tGRnlFLA3"
   },
   "source": [
    "# Random Forest\n",
    "No model training here.\n",
    "Just plot the numbers from RF_107."
   ]
  },
  {
   "cell_type": "code",
   "execution_count": 1,
   "metadata": {
    "colab": {
     "base_uri": "https://localhost:8080/"
    },
    "id": "0RmwUsVLFLA6",
    "outputId": "f111ed8f-4535-4ba7-f373-5d1f2763a7c7"
   },
   "outputs": [
    {
     "name": "stdout",
     "output_type": "stream",
     "text": [
      "2023-06-05 17:25:02.955336\n"
     ]
    }
   ],
   "source": [
    "from datetime import datetime\n",
    "print(datetime.now())"
   ]
  },
  {
   "cell_type": "code",
   "execution_count": 2,
   "metadata": {
    "colab": {
     "base_uri": "https://localhost:8080/"
    },
    "id": "OlzN9OdsFWEU",
    "outputId": "54a4fadb-2a80-4e5a-917e-7b7b7196049e"
   },
   "outputs": [
    {
     "name": "stderr",
     "output_type": "stream",
     "text": [
      "2023-06-05 17:25:03.009944: I tensorflow/core/platform/cpu_feature_guard.cc:193] This TensorFlow binary is optimized with oneAPI Deep Neural Network Library (oneDNN) to use the following CPU instructions in performance-critical operations:  AVX2 FMA\n",
      "To enable them in other operations, rebuild TensorFlow with the appropriate compiler flags.\n"
     ]
    },
    {
     "name": "stdout",
     "output_type": "stream",
     "text": [
      "GPU device not found\n",
      "Running on Mac\n",
      "/Users/jasonmiller/WVU/BAM_ML/\n"
     ]
    },
    {
     "name": "stderr",
     "output_type": "stream",
     "text": [
      "2023-06-05 17:25:12.407921: I tensorflow/core/platform/cpu_feature_guard.cc:193] This TensorFlow binary is optimized with oneAPI Deep Neural Network Library (oneDNN) to use the following CPU instructions in performance-critical operations:  AVX2 FMA\n",
      "To enable them in other operations, rebuild TensorFlow with the appropriate compiler flags.\n"
     ]
    }
   ],
   "source": [
    "import tensorflow as tf\n",
    "dt='float32'\n",
    "tf.keras.backend.set_floatx('float32')\n",
    "tf.random.set_seed(42) # supposedly leads to reproducible results\n",
    "\n",
    "device_name = tf.test.gpu_device_name()\n",
    "if device_name != '/device:GPU:0':\n",
    "    print('GPU device not found')\n",
    "else:\n",
    "    print('Found GPU at: {}'.format(device_name))\n",
    "\n",
    "try:\n",
    "    from google.colab import drive\n",
    "    IN_COLAB = True\n",
    "    print('Running on CoLab')\n",
    "    PATH='/content/drive/'\n",
    "    drive.mount(PATH)\n",
    "    DATA_DIR=PATH+'My Drive/data/IRP2/'  # must end in \"/\"\n",
    "    MODEL_DIR=PATH+'My Drive/data/IRP2/Models/'  # must end in \"/\"\n",
    "except:\n",
    "    IN_COLAB = False\n",
    "    print('Running on Mac')\n",
    "    DATA_DIR=\"/Users/jasonmiller/WVU/BAM_ML/\"\n",
    "    MODEL_DIR=\"/Users/jasonmiller/WVU/BAM_ML/Models/\"\n",
    "print(DATA_DIR)\n",
    "SAVE_MODEL_FILENAME = None "
   ]
  },
  {
   "cell_type": "code",
   "execution_count": 3,
   "metadata": {
    "colab": {
     "base_uri": "https://localhost:8080/"
    },
    "id": "PRX-UEr8FLA8",
    "outputId": "627dd8e8-1de9-4ac2-d21e-b822cef810d5"
   },
   "outputs": [
    {
     "name": "stdout",
     "output_type": "stream",
     "text": [
      "Python 3.10.0\n",
      "sklearn 1.1.2\n"
     ]
    }
   ],
   "source": [
    "from platform import python_version\n",
    "print('Python',python_version())\n",
    "import numpy as np\n",
    "np.random.seed(42) # supposedly sets scikit-learn\n",
    "import pandas as pd  # for plotting\n",
    "import time # sleep function\n",
    "from os.path import isfile\n",
    "from matplotlib import pyplot as plt \n",
    "import sklearn   # pip install --upgrade scikit-learn\n",
    "print('sklearn',sklearn.__version__)"
   ]
  },
  {
   "cell_type": "markdown",
   "metadata": {
    "id": "UtqdpJOxFLBA"
   },
   "source": [
    "## Data Load"
   ]
  },
  {
   "cell_type": "code",
   "execution_count": 4,
   "metadata": {
    "id": "pSp5YCu1urzM"
   },
   "outputs": [
    {
     "name": "stdout",
     "output_type": "stream",
     "text": [
      "2023-06-05 17:25:14.541295\n",
      "Values loaded:  400000\n",
      "2023-06-05 17:25:15.123702\n"
     ]
    }
   ],
   "source": [
    "print(datetime.now())\n",
    "filename = DATA_DIR+'RF_107.csv'\n",
    "data = []\n",
    "with open (filename,'r') as fin:\n",
    "    for line in fin:\n",
    "        line=line.strip()\n",
    "        fields=line.split(',')\n",
    "        true_label = int(fields[0])\n",
    "        pred_label = int(fields[1])\n",
    "        rfc_prob   = float(fields[2])\n",
    "        data.append( (true_label,pred_label,rfc_prob) )\n",
    "print('Values loaded: ', len(data))\n",
    "print(datetime.now())"
   ]
  },
  {
   "cell_type": "code",
   "execution_count": 5,
   "metadata": {},
   "outputs": [
    {
     "name": "stdout",
     "output_type": "stream",
     "text": [
      "Values sorted:  400000\n",
      "2023-06-05 17:25:15.276273\n"
     ]
    }
   ],
   "source": [
    "sdata = sorted(data, key=lambda x: x[2])\n",
    "print('Values sorted: ', len(sdata))\n",
    "print(datetime.now())\n",
    "data = None"
   ]
  },
  {
   "cell_type": "code",
   "execution_count": 6,
   "metadata": {},
   "outputs": [],
   "source": [
    "def find_threshold(sdata,left_to_right=True,FDR=0.05):\n",
    "    '''sdata: list of tuples of (true, predicted, probability)\n",
    "               sorted by last field increasing\n",
    "    '''\n",
    "    length = len(sdata)\n",
    "    if left_to_right:\n",
    "        start_pos = 0\n",
    "        stop_pos = length\n",
    "        step_size = 1\n",
    "    else:\n",
    "        start_pos = length-1\n",
    "        stop_pos = -1\n",
    "        step_size = -1\n",
    "    total_seen = 0\n",
    "    total_incorrect = 0\n",
    "    portion_incorrect = 0.0\n",
    "    last_pos_under_fdr = 0\n",
    "    last_prob_under_fdr = 0\n",
    "    for pos in range(start_pos,stop_pos,step_size):\n",
    "        true_label,pred_label,pred_prob = sdata[pos]\n",
    "        total_seen += 1\n",
    "        if true_label != pred_label: \n",
    "            total_incorrect += 1\n",
    "        portion_incorrect = 1.0*total_incorrect/total_seen\n",
    "        if portion_incorrect <= FDR:\n",
    "            last_pos_under_fdr = pos\n",
    "            last_prob_under_fdr = pred_prob\n",
    "    return last_pos_under_fdr, 100.0*last_prob_under_fdr"
   ]
  },
  {
   "cell_type": "code",
   "execution_count": 9,
   "metadata": {},
   "outputs": [
    {
     "name": "stdout",
     "output_type": "stream",
     "text": [
      "To choose true M reads with 0.05 FDR,\n",
      "choose reads with RF probability score 22.00% or less.\n",
      "That will retain 35.28% of reads.\n",
      "\n",
      "To choose true S reads with 0.05 FDR,\n",
      "choose reads with RF probability score 87.00% or more.\n",
      "That will retain 31.23% of reads.\n"
     ]
    }
   ],
   "source": [
    "length = len(sdata)\n",
    "FDR=0.05\n",
    "\n",
    "last_pos,last_prob = find_threshold(sdata,True,FDR)\n",
    "portion = 100.0*last_pos/length\n",
    "print('To choose true M reads with %4.2f FDR,'%FDR)\n",
    "print('choose reads with RF probability score %4.2f%% or less.'%last_prob)\n",
    "print('That will retain %4.2f%% of reads.'%portion)\n",
    "\n",
    "print()\n",
    "\n",
    "last_pos, last_prob = find_threshold(sdata,False,FDR)\n",
    "portion = 100.0*(length-last_pos)/length\n",
    "print('To choose true S reads with %4.2f FDR,'%FDR)\n",
    "print('choose reads with RF probability score %4.2f%% or more.'%last_prob)\n",
    "print('That will retain %4.2f%% of reads.'%portion)\n"
   ]
  },
  {
   "cell_type": "code",
   "execution_count": null,
   "metadata": {},
   "outputs": [],
   "source": []
  }
 ],
 "metadata": {
  "colab": {
   "provenance": []
  },
  "gpuClass": "standard",
  "kernelspec": {
   "display_name": "Python 3 (ipykernel)",
   "language": "python",
   "name": "python3"
  },
  "language_info": {
   "codemirror_mode": {
    "name": "ipython",
    "version": 3
   },
   "file_extension": ".py",
   "mimetype": "text/x-python",
   "name": "python",
   "nbconvert_exporter": "python",
   "pygments_lexer": "ipython3",
   "version": "3.10.0"
  }
 },
 "nbformat": 4,
 "nbformat_minor": 1
}
